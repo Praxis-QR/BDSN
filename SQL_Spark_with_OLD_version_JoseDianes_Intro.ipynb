{
  "nbformat": 4,
  "nbformat_minor": 0,
  "metadata": {
    "colab": {
      "name": "SQL  Spark  with OLD version JoseDianes_Intro",
      "provenance": [],
      "collapsed_sections": [
        "T9BsUtq-EM6e",
        "JKRWeiMCIXff",
        "4AUfWLj4ZUEj",
        "6K1MS864jV6C",
        "c5TjJT5En-el"
      ],
      "include_colab_link": true
    },
    "kernelspec": {
      "name": "python3",
      "display_name": "Python 3"
    }
  },
  "cells": [
    {
      "cell_type": "markdown",
      "metadata": {
        "id": "view-in-github",
        "colab_type": "text"
      },
      "source": [
        "<a href=\"https://colab.research.google.com/github/Praxis-QR/BDSN/blob/main/SQL_Spark_with_OLD_version_JoseDianes_Intro.ipynb\" target=\"_parent\"><img src=\"https://colab.research.google.com/assets/colab-badge.svg\" alt=\"Open In Colab\"/></a>"
      ]
    },
    {
      "cell_type": "markdown",
      "metadata": {
        "id": "IZHBKDKQpoih"
      },
      "source": [
        "![CC-BY-SA](https://licensebuttons.net/l/by-sa/3.0/88x31.png)<br>\n",
        "<hr>\n",
        "\n",
        "![alt text](http://1.bp.blogspot.com/-nqAGzznZQNo/UwS8rxjfXeI/AAAAAAAABTA/nunmRLowpps/s1600/PraxisLogo.gif)<br>\n",
        "[Data Science Program](http://praxis.ac.in/Programs/business-analytics/)\n",
        "\n",
        "<hr>\n",
        "\n",
        "[Prithwis Mukerjee](http://www.yantrajaal.com)<br>"
      ]
    },
    {
      "cell_type": "markdown",
      "metadata": {
        "id": "6qXHpHj3v2sd"
      },
      "source": [
        "# Jose A Dianes Tutorial\n",
        "\n",
        "\n",
        "---\n",
        "\n",
        "https://www.codementor.io/jadianes/spark-python-rdd-basics-du107x2ra <br>\n",
        "https://www.codementor.io/jadianes/spark-python-data-aggregations-du107on3m <br>\n",
        "https://github.com/jadianes/spark-py-notebooks -- notebooks <br>\n",
        "https://github.com/prithwis/spark-py-notebooks -- fork of above "
      ]
    },
    {
      "cell_type": "markdown",
      "metadata": {
        "id": "BQxaKP3-ugUs"
      },
      "source": [
        "# Install Spark"
      ]
    },
    {
      "cell_type": "code",
      "metadata": {
        "id": "9aG7A8TjulYO"
      },
      "source": [
        "!apt-get update > /dev/null\n",
        "!apt-get install openjdk-8-jdk-headless -qq > /dev/null\n",
        "\n",
        "!wget -q https://apache.osuosl.org/spark/spark-3.0.3/spark-3.0.3-bin-hadoop3.2.tgz\n",
        "#!wget -q https://apache.osuosl.org/spark/spark-3.2.1/spark-3.2.1-bin-hadoop3.2.tgz\n",
        "\n",
        "#\n",
        "# if the current version of Spark is not used, there may be errors\n",
        "# check here for current versions http://apache.osuosl.org/spark\n",
        "#\n",
        "\n",
        "\n",
        "!tar xf spark-3.0.3-bin-hadoop3.2.tgz\n",
        "#!tar xf spark-3.2.1-bin-hadoop3.2.tgz\n",
        "\n",
        "\n",
        "\n",
        "#!pip3 install -qq pyspark"
      ],
      "execution_count": 1,
      "outputs": []
    },
    {
      "cell_type": "code",
      "source": [
        ""
      ],
      "metadata": {
        "id": "7pkcdr8MAPgn"
      },
      "execution_count": null,
      "outputs": []
    },
    {
      "cell_type": "code",
      "metadata": {
        "id": "FejPN_KpvGke"
      },
      "source": [
        "import os\n",
        "os.environ[\"JAVA_HOME\"] = \"/usr/lib/jvm/java-8-openjdk-amd64\"\n",
        "\n",
        "os.environ[\"SPARK_HOME\"] = \"/content/spark-3.0.3-bin-hadoop3.2\"\n",
        "#os.environ[\"SPARK_HOME\"] = \"/content/spark-3.2.1-bin-hadoop3.2\""
      ],
      "execution_count": 2,
      "outputs": []
    },
    {
      "cell_type": "code",
      "source": [
        "!pip install -q findspark\n",
        "import findspark\n",
        "findspark.init()"
      ],
      "metadata": {
        "id": "_LtuqnYgA-qa"
      },
      "execution_count": 3,
      "outputs": []
    },
    {
      "cell_type": "code",
      "metadata": {
        "id": "7okdoVFIvQJm",
        "colab": {
          "base_uri": "https://localhost:8080/",
          "height": 196
        },
        "outputId": "ca292517-d08e-48c1-d914-0c3b28b464c3"
      },
      "source": [
        "\n",
        "from pyspark.sql import SparkSession\n",
        "spark = SparkSession.builder.master(\"local[*]\").getOrCreate()\n",
        "sc = spark.sparkContext\n",
        "sc"
      ],
      "execution_count": 4,
      "outputs": [
        {
          "output_type": "execute_result",
          "data": {
            "text/plain": [
              "<SparkContext master=local[*] appName=pyspark-shell>"
            ],
            "text/html": [
              "\n",
              "        <div>\n",
              "            <p><b>SparkContext</b></p>\n",
              "\n",
              "            <p><a href=\"http://51dbe9563808:4040\">Spark UI</a></p>\n",
              "\n",
              "            <dl>\n",
              "              <dt>Version</dt>\n",
              "                <dd><code>v3.2.1</code></dd>\n",
              "              <dt>Master</dt>\n",
              "                <dd><code>local[*]</code></dd>\n",
              "              <dt>AppName</dt>\n",
              "                <dd><code>pyspark-shell</code></dd>\n",
              "            </dl>\n",
              "        </div>\n",
              "        "
            ]
          },
          "metadata": {},
          "execution_count": 4
        }
      ]
    },
    {
      "cell_type": "markdown",
      "metadata": {
        "id": "bAyLqUDFyjjQ"
      },
      "source": [
        "# Load Data"
      ]
    },
    {
      "cell_type": "code",
      "metadata": {
        "id": "HW3Dl9Px4BK7",
        "colab": {
          "base_uri": "https://localhost:8080/"
        },
        "outputId": "27674909-888b-4806-eaf1-21b592ff1080"
      },
      "source": [
        "#import urllib.request\n",
        "#urllib.request.urlretrieve('http://kdd.ics.uci.edu/databases/kddcup99/kddcup.data_10_percent.gz','kdd10.gz')\n",
        "#urllib.urlretrieve(\"http://kdd.ics.uci.edu/databases/kddcup99/kddcup.data_10_percent.gz\", \"kdd10b.gz\")\n",
        "!wget 'http://kdd.ics.uci.edu/databases/kddcup99/kddcup.data_10_percent.gz'"
      ],
      "execution_count": 6,
      "outputs": [
        {
          "output_type": "stream",
          "name": "stdout",
          "text": [
            "--2022-05-20 05:50:34--  http://kdd.ics.uci.edu/databases/kddcup99/kddcup.data_10_percent.gz\n",
            "Resolving kdd.ics.uci.edu (kdd.ics.uci.edu)... 128.195.1.86\n",
            "Connecting to kdd.ics.uci.edu (kdd.ics.uci.edu)|128.195.1.86|:80... connected.\n",
            "HTTP request sent, awaiting response... 200 OK\n",
            "Length: 2144903 (2.0M) [application/x-gzip]\n",
            "Saving to: ‘kddcup.data_10_percent.gz’\n",
            "\n",
            "kddcup.data_10_perc 100%[===================>]   2.04M  --.-KB/s    in 0.1s    \n",
            "\n",
            "2022-05-20 05:50:34 (18.9 MB/s) - ‘kddcup.data_10_percent.gz’ saved [2144903/2144903]\n",
            "\n"
          ]
        }
      ]
    },
    {
      "cell_type": "code",
      "metadata": {
        "id": "uzXUSy5Z4Hto",
        "colab": {
          "base_uri": "https://localhost:8080/"
        },
        "outputId": "a6298a2a-a3f2-4443-f451-3431f01eda9f"
      },
      "source": [
        "!rm kdd10.gz\n",
        "!mv kddcup.data_10_percent.gz kdd10.gz"
      ],
      "execution_count": 7,
      "outputs": [
        {
          "output_type": "stream",
          "name": "stdout",
          "text": [
            "rm: cannot remove 'kdd10.gz': No such file or directory\n"
          ]
        }
      ]
    },
    {
      "cell_type": "code",
      "metadata": {
        "id": "tqcZoCSe9QjY",
        "colab": {
          "base_uri": "https://localhost:8080/"
        },
        "outputId": "ac8e6121-0adf-4a13-8244-88e44b4a9881"
      },
      "source": [
        "data_file = \"./kdd10.gz\"\n",
        "raw_data = sc.textFile(data_file)\n",
        "\n",
        "print (\"Train data size is \", raw_data.count())"
      ],
      "execution_count": 8,
      "outputs": [
        {
          "output_type": "stream",
          "name": "stdout",
          "text": [
            "Train data size is  494021\n"
          ]
        }
      ]
    },
    {
      "cell_type": "code",
      "metadata": {
        "id": "PO5ze02q9dEK",
        "colab": {
          "base_uri": "https://localhost:8080/"
        },
        "outputId": "106f545d-5ad7-43c5-d6f4-e688aaeccc19"
      },
      "source": [
        "#import urllib.request\n",
        "#urllib.request.urlretrieve('http://kdd.ics.uci.edu/databases/kddcup99/corrected.gz','corrected.gz')\n",
        "!wget 'http://kdd.ics.uci.edu/databases/kddcup99/corrected.gz'"
      ],
      "execution_count": 9,
      "outputs": [
        {
          "output_type": "stream",
          "name": "stdout",
          "text": [
            "--2022-05-20 05:50:51--  http://kdd.ics.uci.edu/databases/kddcup99/corrected.gz\n",
            "Resolving kdd.ics.uci.edu (kdd.ics.uci.edu)... 128.195.1.86\n",
            "Connecting to kdd.ics.uci.edu (kdd.ics.uci.edu)|128.195.1.86|:80... connected.\n",
            "HTTP request sent, awaiting response... 200 OK\n",
            "Length: 1409035 (1.3M) [application/x-gzip]\n",
            "Saving to: ‘corrected.gz’\n",
            "\n",
            "\rcorrected.gz          0%[                    ]       0  --.-KB/s               \rcorrected.gz        100%[===================>]   1.34M  --.-KB/s    in 0.1s    \n",
            "\n",
            "2022-05-20 05:50:52 (11.3 MB/s) - ‘corrected.gz’ saved [1409035/1409035]\n",
            "\n"
          ]
        }
      ]
    },
    {
      "cell_type": "code",
      "metadata": {
        "id": "YaoEKBmS9tT0",
        "colab": {
          "base_uri": "https://localhost:8080/"
        },
        "outputId": "5319b8df-1669-42e9-8b26-d53ae1df6149"
      },
      "source": [
        "test_data_file = \"./corrected.gz\"\n",
        "test_raw_data = sc.textFile(test_data_file)\n",
        "\n",
        "print (\"Test data size is \", test_raw_data.count())"
      ],
      "execution_count": 10,
      "outputs": [
        {
          "output_type": "stream",
          "name": "stdout",
          "text": [
            "Test data size is  311029\n"
          ]
        }
      ]
    },
    {
      "cell_type": "markdown",
      "metadata": {
        "id": "nrGMKNtdKdNc"
      },
      "source": [
        "# Part 10 SQL Dataframes <br>\n",
        "https://github.com/prithwis/spark-py-notebooks/blob/master/nb10-sql-dataframes/nb10-sql-dataframes.ipynb"
      ]
    },
    {
      "cell_type": "code",
      "metadata": {
        "id": "gvprxnnyKo2E",
        "colab": {
          "base_uri": "https://localhost:8080/"
        },
        "outputId": "3a14e0cb-d14c-45ae-ac88-58b93e6bd7ac"
      },
      "source": [
        "data_file = \"./kdd10.gz\"\n",
        "raw_data = sc.textFile(data_file)\n",
        "\n",
        "print (\"Train data size is \", raw_data.count())"
      ],
      "execution_count": 5,
      "outputs": [
        {
          "output_type": "stream",
          "name": "stdout",
          "text": [
            "Train data size is  494021\n"
          ]
        }
      ]
    },
    {
      "cell_type": "code",
      "source": [
        "raw_data_sample = raw_data.sample(False, 0.1, 1234)"
      ],
      "metadata": {
        "id": "zLsP61FEakjt"
      },
      "execution_count": 6,
      "outputs": []
    },
    {
      "cell_type": "code",
      "metadata": {
        "colab": {
          "base_uri": "https://localhost:8080/",
          "height": 53
        },
        "id": "oC1xHTn4Dv9w",
        "outputId": "d9d373fb-06ba-4474-f08c-e8118b8db6d5"
      },
      "source": [
        "raw_data.collect()[1]"
      ],
      "execution_count": 7,
      "outputs": [
        {
          "output_type": "execute_result",
          "data": {
            "text/plain": [
              "'0,tcp,http,SF,239,486,0,0,0,0,0,1,0,0,0,0,0,0,0,0,0,0,8,8,0.00,0.00,0.00,0.00,1.00,0.00,0.00,19,19,1.00,0.00,0.05,0.00,0.00,0.00,0.00,0.00,normal.'"
            ],
            "application/vnd.google.colaboratory.intrinsic+json": {
              "type": "string"
            }
          },
          "metadata": {},
          "execution_count": 7
        }
      ]
    },
    {
      "cell_type": "code",
      "metadata": {
        "id": "aS9Ex7RrK-ek"
      },
      "source": [
        "#SQLContext is deprecated\n",
        "#from pyspark.sql import SQLContext\n",
        "#sqlContext = SQLContext(sc)"
      ],
      "execution_count": null,
      "outputs": []
    },
    {
      "cell_type": "code",
      "metadata": {
        "id": "UjR1pu9kLurS"
      },
      "source": [
        "from pyspark.sql import Row\n",
        "\n",
        "# -------------------------------------------------------\n",
        "# Using the full data set causes the SparkSQL to hang up\n",
        "# Have not been able to find a solution to this problem\n",
        "# -------------------------------------------------------\n",
        "\n",
        "# However, if we use an OLDER version of Spark, the error goes away\n",
        "\n",
        "\n",
        "csv_data = raw_data.map(lambda l: l.split(\",\"))            # using full data will cause problems \n",
        "#csv_data = raw_data_sample.map(lambda l: l.split(\",\"))      # using 10% sample data\n",
        "row_data = csv_data.map(lambda p: Row(\n",
        "    duration=int(p[0]), \n",
        "    protocol_type=p[1],\n",
        "    service=p[2],\n",
        "    flag=p[3],\n",
        "    src_bytes=int(p[4]),\n",
        "    dst_bytes=int(p[5])\n",
        "    )\n",
        ")"
      ],
      "execution_count": 8,
      "outputs": []
    },
    {
      "cell_type": "code",
      "metadata": {
        "id": "iZ7daUhTLzHK",
        "colab": {
          "base_uri": "https://localhost:8080/"
        },
        "outputId": "4f667b25-e2dc-42e7-bf08-b04dd79ff52e"
      },
      "source": [
        "csv_data.take(1)"
      ],
      "execution_count": 20,
      "outputs": [
        {
          "output_type": "execute_result",
          "data": {
            "text/plain": [
              "[['0',\n",
              "  'tcp',\n",
              "  'http',\n",
              "  'SF',\n",
              "  '181',\n",
              "  '5450',\n",
              "  '0',\n",
              "  '0',\n",
              "  '0',\n",
              "  '0',\n",
              "  '0',\n",
              "  '1',\n",
              "  '0',\n",
              "  '0',\n",
              "  '0',\n",
              "  '0',\n",
              "  '0',\n",
              "  '0',\n",
              "  '0',\n",
              "  '0',\n",
              "  '0',\n",
              "  '0',\n",
              "  '8',\n",
              "  '8',\n",
              "  '0.00',\n",
              "  '0.00',\n",
              "  '0.00',\n",
              "  '0.00',\n",
              "  '1.00',\n",
              "  '0.00',\n",
              "  '0.00',\n",
              "  '9',\n",
              "  '9',\n",
              "  '1.00',\n",
              "  '0.00',\n",
              "  '0.11',\n",
              "  '0.00',\n",
              "  '0.00',\n",
              "  '0.00',\n",
              "  '0.00',\n",
              "  '0.00',\n",
              "  'normal.']]"
            ]
          },
          "metadata": {},
          "execution_count": 20
        }
      ]
    },
    {
      "cell_type": "code",
      "metadata": {
        "id": "TTk6rw60L86S",
        "colab": {
          "base_uri": "https://localhost:8080/"
        },
        "outputId": "c1d98676-c2c8-43e1-faf6-21ee67f35d61"
      },
      "source": [
        "row_data.take(2)"
      ],
      "execution_count": 9,
      "outputs": [
        {
          "output_type": "execute_result",
          "data": {
            "text/plain": [
              "[Row(duration=0, protocol_type='tcp', service='http', flag='SF', src_bytes=181, dst_bytes=5450),\n",
              " Row(duration=0, protocol_type='tcp', service='http', flag='SF', src_bytes=239, dst_bytes=486)]"
            ]
          },
          "metadata": {},
          "execution_count": 9
        }
      ]
    },
    {
      "cell_type": "code",
      "metadata": {
        "id": "6hJbnVFCMOts"
      },
      "source": [
        "#interactions_df = sqlContext.createDataFrame(row_data) -- deprecated\n",
        "interactions_df = spark.createDataFrame(row_data)\n",
        "#interactions_df.registerTempTable(\"interactions\") -- deprecated\n",
        "interactions_df.createOrReplaceTempView(\"interactions\")"
      ],
      "execution_count": 10,
      "outputs": []
    },
    {
      "cell_type": "code",
      "metadata": {
        "id": "S7IrXJUEADxA",
        "colab": {
          "base_uri": "https://localhost:8080/"
        },
        "outputId": "ac969d94-13ef-46f4-d924-784b0bd0a7c9"
      },
      "source": [
        "#tcp_interactions = sqlContext.sql(\"\"\"\n",
        "tcp_interactions = spark.sql(\"\"\"\n",
        "    SELECT distinct(protocol_type) FROM interactions \n",
        "\"\"\")\n",
        "tcp_interactions.show()"
      ],
      "execution_count": 11,
      "outputs": [
        {
          "output_type": "stream",
          "name": "stdout",
          "text": [
            "+-------------+\n",
            "|protocol_type|\n",
            "+-------------+\n",
            "|          tcp|\n",
            "|          udp|\n",
            "|         icmp|\n",
            "+-------------+\n",
            "\n"
          ]
        }
      ]
    },
    {
      "cell_type": "code",
      "metadata": {
        "id": "dUL0DOyH_4Et",
        "colab": {
          "base_uri": "https://localhost:8080/",
          "height": 501
        },
        "outputId": "0924f103-c622-4135-cdbb-1e518d7522b1"
      },
      "source": [
        "#tcp_interactions = sqlContext.sql(\"\"\"\n",
        "tcp_interactions = spark.sql(\"\"\"\n",
        "    SELECT duration, protocol_type, dst_bytes FROM interactions WHERE protocol_type = 'udp' \n",
        "\"\"\")\n",
        "tcp_interactions.show()"
      ],
      "execution_count": 12,
      "outputs": [
        {
          "output_type": "stream",
          "name": "stderr",
          "text": [
            "ERROR:root:KeyboardInterrupt while sending command.\n",
            "Traceback (most recent call last):\n",
            "  File \"/content/spark-3.2.1-bin-hadoop3.2/python/lib/py4j-0.10.9.3-src.zip/py4j/java_gateway.py\", line 1038, in send_command\n",
            "    response = connection.send_command(command)\n",
            "  File \"/content/spark-3.2.1-bin-hadoop3.2/python/lib/py4j-0.10.9.3-src.zip/py4j/clientserver.py\", line 475, in send_command\n",
            "    answer = smart_decode(self.stream.readline()[:-1])\n",
            "  File \"/usr/lib/python3.7/socket.py\", line 589, in readinto\n",
            "    return self._sock.recv_into(b)\n",
            "KeyboardInterrupt\n"
          ]
        },
        {
          "output_type": "error",
          "ename": "KeyboardInterrupt",
          "evalue": "ignored",
          "traceback": [
            "\u001b[0;31m---------------------------------------------------------------------------\u001b[0m",
            "\u001b[0;31mKeyboardInterrupt\u001b[0m                         Traceback (most recent call last)",
            "\u001b[0;32m<ipython-input-12-9d4c48902446>\u001b[0m in \u001b[0;36m<module>\u001b[0;34m()\u001b[0m\n\u001b[1;32m      3\u001b[0m     \u001b[0mSELECT\u001b[0m \u001b[0mduration\u001b[0m\u001b[0;34m,\u001b[0m \u001b[0mprotocol_type\u001b[0m\u001b[0;34m,\u001b[0m \u001b[0mdst_bytes\u001b[0m \u001b[0mFROM\u001b[0m \u001b[0minteractions\u001b[0m \u001b[0mWHERE\u001b[0m \u001b[0mprotocol_type\u001b[0m \u001b[0;34m=\u001b[0m \u001b[0;34m'udp'\u001b[0m\u001b[0;34m\u001b[0m\u001b[0;34m\u001b[0m\u001b[0m\n\u001b[1;32m      4\u001b[0m \"\"\")\n\u001b[0;32m----> 5\u001b[0;31m \u001b[0mtcp_interactions\u001b[0m\u001b[0;34m.\u001b[0m\u001b[0mshow\u001b[0m\u001b[0;34m(\u001b[0m\u001b[0;34m)\u001b[0m\u001b[0;34m\u001b[0m\u001b[0;34m\u001b[0m\u001b[0m\n\u001b[0m",
            "\u001b[0;32m/content/spark-3.2.1-bin-hadoop3.2/python/pyspark/sql/dataframe.py\u001b[0m in \u001b[0;36mshow\u001b[0;34m(self, n, truncate, vertical)\u001b[0m\n\u001b[1;32m    492\u001b[0m \u001b[0;34m\u001b[0m\u001b[0m\n\u001b[1;32m    493\u001b[0m         \u001b[0;32mif\u001b[0m \u001b[0misinstance\u001b[0m\u001b[0;34m(\u001b[0m\u001b[0mtruncate\u001b[0m\u001b[0;34m,\u001b[0m \u001b[0mbool\u001b[0m\u001b[0;34m)\u001b[0m \u001b[0;32mand\u001b[0m \u001b[0mtruncate\u001b[0m\u001b[0;34m:\u001b[0m\u001b[0;34m\u001b[0m\u001b[0;34m\u001b[0m\u001b[0m\n\u001b[0;32m--> 494\u001b[0;31m             \u001b[0mprint\u001b[0m\u001b[0;34m(\u001b[0m\u001b[0mself\u001b[0m\u001b[0;34m.\u001b[0m\u001b[0m_jdf\u001b[0m\u001b[0;34m.\u001b[0m\u001b[0mshowString\u001b[0m\u001b[0;34m(\u001b[0m\u001b[0mn\u001b[0m\u001b[0;34m,\u001b[0m \u001b[0;36m20\u001b[0m\u001b[0;34m,\u001b[0m \u001b[0mvertical\u001b[0m\u001b[0;34m)\u001b[0m\u001b[0;34m)\u001b[0m\u001b[0;34m\u001b[0m\u001b[0;34m\u001b[0m\u001b[0m\n\u001b[0m\u001b[1;32m    495\u001b[0m         \u001b[0;32melse\u001b[0m\u001b[0;34m:\u001b[0m\u001b[0;34m\u001b[0m\u001b[0;34m\u001b[0m\u001b[0m\n\u001b[1;32m    496\u001b[0m             \u001b[0;32mtry\u001b[0m\u001b[0;34m:\u001b[0m\u001b[0;34m\u001b[0m\u001b[0;34m\u001b[0m\u001b[0m\n",
            "\u001b[0;32m/content/spark-3.2.1-bin-hadoop3.2/python/lib/py4j-0.10.9.3-src.zip/py4j/java_gateway.py\u001b[0m in \u001b[0;36m__call__\u001b[0;34m(self, *args)\u001b[0m\n\u001b[1;32m   1318\u001b[0m             \u001b[0mproto\u001b[0m\u001b[0;34m.\u001b[0m\u001b[0mEND_COMMAND_PART\u001b[0m\u001b[0;34m\u001b[0m\u001b[0;34m\u001b[0m\u001b[0m\n\u001b[1;32m   1319\u001b[0m \u001b[0;34m\u001b[0m\u001b[0m\n\u001b[0;32m-> 1320\u001b[0;31m         \u001b[0manswer\u001b[0m \u001b[0;34m=\u001b[0m \u001b[0mself\u001b[0m\u001b[0;34m.\u001b[0m\u001b[0mgateway_client\u001b[0m\u001b[0;34m.\u001b[0m\u001b[0msend_command\u001b[0m\u001b[0;34m(\u001b[0m\u001b[0mcommand\u001b[0m\u001b[0;34m)\u001b[0m\u001b[0;34m\u001b[0m\u001b[0;34m\u001b[0m\u001b[0m\n\u001b[0m\u001b[1;32m   1321\u001b[0m         return_value = get_return_value(\n\u001b[1;32m   1322\u001b[0m             answer, self.gateway_client, self.target_id, self.name)\n",
            "\u001b[0;32m/content/spark-3.2.1-bin-hadoop3.2/python/lib/py4j-0.10.9.3-src.zip/py4j/java_gateway.py\u001b[0m in \u001b[0;36msend_command\u001b[0;34m(self, command, retry, binary)\u001b[0m\n\u001b[1;32m   1036\u001b[0m         \u001b[0mconnection\u001b[0m \u001b[0;34m=\u001b[0m \u001b[0mself\u001b[0m\u001b[0;34m.\u001b[0m\u001b[0m_get_connection\u001b[0m\u001b[0;34m(\u001b[0m\u001b[0;34m)\u001b[0m\u001b[0;34m\u001b[0m\u001b[0;34m\u001b[0m\u001b[0m\n\u001b[1;32m   1037\u001b[0m         \u001b[0;32mtry\u001b[0m\u001b[0;34m:\u001b[0m\u001b[0;34m\u001b[0m\u001b[0;34m\u001b[0m\u001b[0m\n\u001b[0;32m-> 1038\u001b[0;31m             \u001b[0mresponse\u001b[0m \u001b[0;34m=\u001b[0m \u001b[0mconnection\u001b[0m\u001b[0;34m.\u001b[0m\u001b[0msend_command\u001b[0m\u001b[0;34m(\u001b[0m\u001b[0mcommand\u001b[0m\u001b[0;34m)\u001b[0m\u001b[0;34m\u001b[0m\u001b[0;34m\u001b[0m\u001b[0m\n\u001b[0m\u001b[1;32m   1039\u001b[0m             \u001b[0;32mif\u001b[0m \u001b[0mbinary\u001b[0m\u001b[0;34m:\u001b[0m\u001b[0;34m\u001b[0m\u001b[0;34m\u001b[0m\u001b[0m\n\u001b[1;32m   1040\u001b[0m                 \u001b[0;32mreturn\u001b[0m \u001b[0mresponse\u001b[0m\u001b[0;34m,\u001b[0m \u001b[0mself\u001b[0m\u001b[0;34m.\u001b[0m\u001b[0m_create_connection_guard\u001b[0m\u001b[0;34m(\u001b[0m\u001b[0mconnection\u001b[0m\u001b[0;34m)\u001b[0m\u001b[0;34m\u001b[0m\u001b[0;34m\u001b[0m\u001b[0m\n",
            "\u001b[0;32m/content/spark-3.2.1-bin-hadoop3.2/python/lib/py4j-0.10.9.3-src.zip/py4j/clientserver.py\u001b[0m in \u001b[0;36msend_command\u001b[0;34m(self, command)\u001b[0m\n\u001b[1;32m    473\u001b[0m         \u001b[0;32mtry\u001b[0m\u001b[0;34m:\u001b[0m\u001b[0;34m\u001b[0m\u001b[0;34m\u001b[0m\u001b[0m\n\u001b[1;32m    474\u001b[0m             \u001b[0;32mwhile\u001b[0m \u001b[0;32mTrue\u001b[0m\u001b[0;34m:\u001b[0m\u001b[0;34m\u001b[0m\u001b[0;34m\u001b[0m\u001b[0m\n\u001b[0;32m--> 475\u001b[0;31m                 \u001b[0manswer\u001b[0m \u001b[0;34m=\u001b[0m \u001b[0msmart_decode\u001b[0m\u001b[0;34m(\u001b[0m\u001b[0mself\u001b[0m\u001b[0;34m.\u001b[0m\u001b[0mstream\u001b[0m\u001b[0;34m.\u001b[0m\u001b[0mreadline\u001b[0m\u001b[0;34m(\u001b[0m\u001b[0;34m)\u001b[0m\u001b[0;34m[\u001b[0m\u001b[0;34m:\u001b[0m\u001b[0;34m-\u001b[0m\u001b[0;36m1\u001b[0m\u001b[0;34m]\u001b[0m\u001b[0;34m)\u001b[0m\u001b[0;34m\u001b[0m\u001b[0;34m\u001b[0m\u001b[0m\n\u001b[0m\u001b[1;32m    476\u001b[0m                 \u001b[0mlogger\u001b[0m\u001b[0;34m.\u001b[0m\u001b[0mdebug\u001b[0m\u001b[0;34m(\u001b[0m\u001b[0;34m\"Answer received: {0}\"\u001b[0m\u001b[0;34m.\u001b[0m\u001b[0mformat\u001b[0m\u001b[0;34m(\u001b[0m\u001b[0manswer\u001b[0m\u001b[0;34m)\u001b[0m\u001b[0;34m)\u001b[0m\u001b[0;34m\u001b[0m\u001b[0;34m\u001b[0m\u001b[0m\n\u001b[1;32m    477\u001b[0m                 \u001b[0;31m# Happens when a the other end is dead. There might be an empty\u001b[0m\u001b[0;34m\u001b[0m\u001b[0;34m\u001b[0m\u001b[0;34m\u001b[0m\u001b[0m\n",
            "\u001b[0;32m/usr/lib/python3.7/socket.py\u001b[0m in \u001b[0;36mreadinto\u001b[0;34m(self, b)\u001b[0m\n\u001b[1;32m    587\u001b[0m         \u001b[0;32mwhile\u001b[0m \u001b[0;32mTrue\u001b[0m\u001b[0;34m:\u001b[0m\u001b[0;34m\u001b[0m\u001b[0;34m\u001b[0m\u001b[0m\n\u001b[1;32m    588\u001b[0m             \u001b[0;32mtry\u001b[0m\u001b[0;34m:\u001b[0m\u001b[0;34m\u001b[0m\u001b[0;34m\u001b[0m\u001b[0m\n\u001b[0;32m--> 589\u001b[0;31m                 \u001b[0;32mreturn\u001b[0m \u001b[0mself\u001b[0m\u001b[0;34m.\u001b[0m\u001b[0m_sock\u001b[0m\u001b[0;34m.\u001b[0m\u001b[0mrecv_into\u001b[0m\u001b[0;34m(\u001b[0m\u001b[0mb\u001b[0m\u001b[0;34m)\u001b[0m\u001b[0;34m\u001b[0m\u001b[0;34m\u001b[0m\u001b[0m\n\u001b[0m\u001b[1;32m    590\u001b[0m             \u001b[0;32mexcept\u001b[0m \u001b[0mtimeout\u001b[0m\u001b[0;34m:\u001b[0m\u001b[0;34m\u001b[0m\u001b[0;34m\u001b[0m\u001b[0m\n\u001b[1;32m    591\u001b[0m                 \u001b[0mself\u001b[0m\u001b[0;34m.\u001b[0m\u001b[0m_timeout_occurred\u001b[0m \u001b[0;34m=\u001b[0m \u001b[0;32mTrue\u001b[0m\u001b[0;34m\u001b[0m\u001b[0;34m\u001b[0m\u001b[0m\n",
            "\u001b[0;31mKeyboardInterrupt\u001b[0m: "
          ]
        }
      ]
    },
    {
      "cell_type": "code",
      "metadata": {
        "id": "66FCNLKDMV5G",
        "colab": {
          "base_uri": "https://localhost:8080/"
        },
        "outputId": "272f9bc2-02e3-43cf-9237-be8c9138fe4a"
      },
      "source": [
        "#cp_interactions = sqlContext.sql(\"\"\"\n",
        "tcp_interactions = spark.sql(\"\"\"\n",
        "    SELECT duration, dst_bytes FROM interactions WHERE protocol_type = 'tcp' AND duration > 1000 AND dst_bytes = 0\n",
        "\"\"\")\n",
        "tcp_interactions.show()"
      ],
      "execution_count": 25,
      "outputs": [
        {
          "output_type": "stream",
          "name": "stdout",
          "text": [
            "+--------+---------+\n",
            "|duration|dst_bytes|\n",
            "+--------+---------+\n",
            "|    5057|        0|\n",
            "|    5059|        0|\n",
            "|    5051|        0|\n",
            "|    5056|        0|\n",
            "|    5051|        0|\n",
            "|    5039|        0|\n",
            "|    5062|        0|\n",
            "|    5041|        0|\n",
            "|    5056|        0|\n",
            "|    5064|        0|\n",
            "|    5043|        0|\n",
            "|    5061|        0|\n",
            "|    5049|        0|\n",
            "|    5061|        0|\n",
            "|    5048|        0|\n",
            "|    5047|        0|\n",
            "|    5044|        0|\n",
            "|    5063|        0|\n",
            "|    5068|        0|\n",
            "|    5062|        0|\n",
            "+--------+---------+\n",
            "only showing top 20 rows\n",
            "\n"
          ]
        }
      ]
    },
    {
      "cell_type": "code",
      "metadata": {
        "id": "e3EC0_CNMvt6",
        "colab": {
          "base_uri": "https://localhost:8080/"
        },
        "outputId": "ddb45f27-e5ad-4f81-b6ff-f82bcd7aba19"
      },
      "source": [
        "# Output duration together with dst_bytes\n",
        "tcp_interactions_out = tcp_interactions.rdd.map(lambda p: (\"Duration = \", p.duration,\"DST Bytes = \", p.dst_bytes))\n",
        "for ti_out in tcp_interactions_out.collect():\n",
        "  print (ti_out)"
      ],
      "execution_count": 26,
      "outputs": [
        {
          "output_type": "stream",
          "name": "stdout",
          "text": [
            "('Duration = ', 5057, 'DST Bytes = ', 0)\n",
            "('Duration = ', 5059, 'DST Bytes = ', 0)\n",
            "('Duration = ', 5051, 'DST Bytes = ', 0)\n",
            "('Duration = ', 5056, 'DST Bytes = ', 0)\n",
            "('Duration = ', 5051, 'DST Bytes = ', 0)\n",
            "('Duration = ', 5039, 'DST Bytes = ', 0)\n",
            "('Duration = ', 5062, 'DST Bytes = ', 0)\n",
            "('Duration = ', 5041, 'DST Bytes = ', 0)\n",
            "('Duration = ', 5056, 'DST Bytes = ', 0)\n",
            "('Duration = ', 5064, 'DST Bytes = ', 0)\n",
            "('Duration = ', 5043, 'DST Bytes = ', 0)\n",
            "('Duration = ', 5061, 'DST Bytes = ', 0)\n",
            "('Duration = ', 5049, 'DST Bytes = ', 0)\n",
            "('Duration = ', 5061, 'DST Bytes = ', 0)\n",
            "('Duration = ', 5048, 'DST Bytes = ', 0)\n",
            "('Duration = ', 5047, 'DST Bytes = ', 0)\n",
            "('Duration = ', 5044, 'DST Bytes = ', 0)\n",
            "('Duration = ', 5063, 'DST Bytes = ', 0)\n",
            "('Duration = ', 5068, 'DST Bytes = ', 0)\n",
            "('Duration = ', 5062, 'DST Bytes = ', 0)\n",
            "('Duration = ', 5046, 'DST Bytes = ', 0)\n",
            "('Duration = ', 5052, 'DST Bytes = ', 0)\n",
            "('Duration = ', 5044, 'DST Bytes = ', 0)\n",
            "('Duration = ', 5054, 'DST Bytes = ', 0)\n",
            "('Duration = ', 5039, 'DST Bytes = ', 0)\n",
            "('Duration = ', 5058, 'DST Bytes = ', 0)\n",
            "('Duration = ', 5051, 'DST Bytes = ', 0)\n",
            "('Duration = ', 5032, 'DST Bytes = ', 0)\n",
            "('Duration = ', 5063, 'DST Bytes = ', 0)\n",
            "('Duration = ', 5040, 'DST Bytes = ', 0)\n",
            "('Duration = ', 5051, 'DST Bytes = ', 0)\n",
            "('Duration = ', 5066, 'DST Bytes = ', 0)\n",
            "('Duration = ', 5044, 'DST Bytes = ', 0)\n",
            "('Duration = ', 5051, 'DST Bytes = ', 0)\n",
            "('Duration = ', 5036, 'DST Bytes = ', 0)\n",
            "('Duration = ', 5055, 'DST Bytes = ', 0)\n",
            "('Duration = ', 2426, 'DST Bytes = ', 0)\n",
            "('Duration = ', 5047, 'DST Bytes = ', 0)\n",
            "('Duration = ', 5057, 'DST Bytes = ', 0)\n",
            "('Duration = ', 5037, 'DST Bytes = ', 0)\n",
            "('Duration = ', 5057, 'DST Bytes = ', 0)\n",
            "('Duration = ', 5062, 'DST Bytes = ', 0)\n",
            "('Duration = ', 5051, 'DST Bytes = ', 0)\n",
            "('Duration = ', 5051, 'DST Bytes = ', 0)\n",
            "('Duration = ', 5053, 'DST Bytes = ', 0)\n",
            "('Duration = ', 5064, 'DST Bytes = ', 0)\n",
            "('Duration = ', 5044, 'DST Bytes = ', 0)\n",
            "('Duration = ', 5051, 'DST Bytes = ', 0)\n",
            "('Duration = ', 5033, 'DST Bytes = ', 0)\n",
            "('Duration = ', 5066, 'DST Bytes = ', 0)\n",
            "('Duration = ', 5063, 'DST Bytes = ', 0)\n",
            "('Duration = ', 5056, 'DST Bytes = ', 0)\n",
            "('Duration = ', 5042, 'DST Bytes = ', 0)\n",
            "('Duration = ', 5063, 'DST Bytes = ', 0)\n",
            "('Duration = ', 5060, 'DST Bytes = ', 0)\n",
            "('Duration = ', 5056, 'DST Bytes = ', 0)\n",
            "('Duration = ', 5049, 'DST Bytes = ', 0)\n",
            "('Duration = ', 5043, 'DST Bytes = ', 0)\n",
            "('Duration = ', 5039, 'DST Bytes = ', 0)\n",
            "('Duration = ', 5041, 'DST Bytes = ', 0)\n",
            "('Duration = ', 42448, 'DST Bytes = ', 0)\n",
            "('Duration = ', 42088, 'DST Bytes = ', 0)\n",
            "('Duration = ', 41065, 'DST Bytes = ', 0)\n",
            "('Duration = ', 40929, 'DST Bytes = ', 0)\n",
            "('Duration = ', 40806, 'DST Bytes = ', 0)\n",
            "('Duration = ', 40682, 'DST Bytes = ', 0)\n",
            "('Duration = ', 40571, 'DST Bytes = ', 0)\n",
            "('Duration = ', 40448, 'DST Bytes = ', 0)\n",
            "('Duration = ', 40339, 'DST Bytes = ', 0)\n",
            "('Duration = ', 40232, 'DST Bytes = ', 0)\n",
            "('Duration = ', 40121, 'DST Bytes = ', 0)\n",
            "('Duration = ', 36783, 'DST Bytes = ', 0)\n",
            "('Duration = ', 36674, 'DST Bytes = ', 0)\n",
            "('Duration = ', 36570, 'DST Bytes = ', 0)\n",
            "('Duration = ', 36467, 'DST Bytes = ', 0)\n",
            "('Duration = ', 36323, 'DST Bytes = ', 0)\n",
            "('Duration = ', 36204, 'DST Bytes = ', 0)\n",
            "('Duration = ', 32038, 'DST Bytes = ', 0)\n",
            "('Duration = ', 31925, 'DST Bytes = ', 0)\n",
            "('Duration = ', 31809, 'DST Bytes = ', 0)\n",
            "('Duration = ', 31709, 'DST Bytes = ', 0)\n",
            "('Duration = ', 31601, 'DST Bytes = ', 0)\n",
            "('Duration = ', 31501, 'DST Bytes = ', 0)\n",
            "('Duration = ', 31401, 'DST Bytes = ', 0)\n",
            "('Duration = ', 31301, 'DST Bytes = ', 0)\n",
            "('Duration = ', 31194, 'DST Bytes = ', 0)\n",
            "('Duration = ', 31061, 'DST Bytes = ', 0)\n",
            "('Duration = ', 30935, 'DST Bytes = ', 0)\n",
            "('Duration = ', 30835, 'DST Bytes = ', 0)\n",
            "('Duration = ', 30735, 'DST Bytes = ', 0)\n",
            "('Duration = ', 30619, 'DST Bytes = ', 0)\n",
            "('Duration = ', 30518, 'DST Bytes = ', 0)\n",
            "('Duration = ', 30418, 'DST Bytes = ', 0)\n",
            "('Duration = ', 30317, 'DST Bytes = ', 0)\n",
            "('Duration = ', 30217, 'DST Bytes = ', 0)\n",
            "('Duration = ', 30077, 'DST Bytes = ', 0)\n",
            "('Duration = ', 25420, 'DST Bytes = ', 0)\n",
            "('Duration = ', 22921, 'DST Bytes = ', 0)\n",
            "('Duration = ', 22821, 'DST Bytes = ', 0)\n",
            "('Duration = ', 22721, 'DST Bytes = ', 0)\n",
            "('Duration = ', 22616, 'DST Bytes = ', 0)\n",
            "('Duration = ', 22516, 'DST Bytes = ', 0)\n",
            "('Duration = ', 22416, 'DST Bytes = ', 0)\n",
            "('Duration = ', 22316, 'DST Bytes = ', 0)\n",
            "('Duration = ', 22216, 'DST Bytes = ', 0)\n",
            "('Duration = ', 21987, 'DST Bytes = ', 0)\n",
            "('Duration = ', 21887, 'DST Bytes = ', 0)\n",
            "('Duration = ', 21767, 'DST Bytes = ', 0)\n",
            "('Duration = ', 21661, 'DST Bytes = ', 0)\n",
            "('Duration = ', 21561, 'DST Bytes = ', 0)\n",
            "('Duration = ', 21455, 'DST Bytes = ', 0)\n",
            "('Duration = ', 21334, 'DST Bytes = ', 0)\n",
            "('Duration = ', 21223, 'DST Bytes = ', 0)\n",
            "('Duration = ', 21123, 'DST Bytes = ', 0)\n",
            "('Duration = ', 20983, 'DST Bytes = ', 0)\n",
            "('Duration = ', 14682, 'DST Bytes = ', 0)\n",
            "('Duration = ', 14420, 'DST Bytes = ', 0)\n",
            "('Duration = ', 14319, 'DST Bytes = ', 0)\n",
            "('Duration = ', 14198, 'DST Bytes = ', 0)\n",
            "('Duration = ', 14098, 'DST Bytes = ', 0)\n",
            "('Duration = ', 13998, 'DST Bytes = ', 0)\n",
            "('Duration = ', 13898, 'DST Bytes = ', 0)\n",
            "('Duration = ', 13796, 'DST Bytes = ', 0)\n",
            "('Duration = ', 13678, 'DST Bytes = ', 0)\n",
            "('Duration = ', 13578, 'DST Bytes = ', 0)\n",
            "('Duration = ', 13448, 'DST Bytes = ', 0)\n",
            "('Duration = ', 13348, 'DST Bytes = ', 0)\n",
            "('Duration = ', 13241, 'DST Bytes = ', 0)\n",
            "('Duration = ', 13141, 'DST Bytes = ', 0)\n",
            "('Duration = ', 13033, 'DST Bytes = ', 0)\n",
            "('Duration = ', 12933, 'DST Bytes = ', 0)\n",
            "('Duration = ', 12833, 'DST Bytes = ', 0)\n",
            "('Duration = ', 12733, 'DST Bytes = ', 0)\n",
            "('Duration = ', 12001, 'DST Bytes = ', 0)\n",
            "('Duration = ', 5678, 'DST Bytes = ', 0)\n",
            "('Duration = ', 5010, 'DST Bytes = ', 0)\n",
            "('Duration = ', 1298, 'DST Bytes = ', 0)\n",
            "('Duration = ', 1031, 'DST Bytes = ', 0)\n",
            "('Duration = ', 36438, 'DST Bytes = ', 0)\n"
          ]
        }
      ]
    },
    {
      "cell_type": "code",
      "metadata": {
        "id": "TgRwwMFkPLqa",
        "colab": {
          "base_uri": "https://localhost:8080/"
        },
        "outputId": "9acbd07a-25ee-49b7-c6b2-8c56eb33b927"
      },
      "source": [
        "interactions_df.printSchema()"
      ],
      "execution_count": null,
      "outputs": [
        {
          "output_type": "stream",
          "name": "stdout",
          "text": [
            "root\n",
            " |-- duration: long (nullable = true)\n",
            " |-- protocol_type: string (nullable = true)\n",
            " |-- service: string (nullable = true)\n",
            " |-- flag: string (nullable = true)\n",
            " |-- src_bytes: long (nullable = true)\n",
            " |-- dst_bytes: long (nullable = true)\n",
            "\n"
          ]
        }
      ]
    },
    {
      "cell_type": "code",
      "metadata": {
        "id": "cbaMw176PbT6",
        "colab": {
          "base_uri": "https://localhost:8080/"
        },
        "outputId": "7c2bb3ea-ef8a-4312-d337-b9450a784f55"
      },
      "source": [
        "from time import time\n",
        "\n",
        "t0 = time()\n",
        "interactions_df.select(\"protocol_type\", \"duration\", \"dst_bytes\").groupBy(\"protocol_type\").count().show()\n",
        "tt = time() - t0\n",
        "\n",
        "print (\"Query performed in \",round(tt,3),\" seconds\")"
      ],
      "execution_count": null,
      "outputs": [
        {
          "output_type": "stream",
          "name": "stdout",
          "text": [
            "+-------------+-----+\n",
            "|protocol_type|count|\n",
            "+-------------+-----+\n",
            "|          tcp|18989|\n",
            "|          udp| 2016|\n",
            "|         icmp|28488|\n",
            "+-------------+-----+\n",
            "\n",
            "Query performed in  2.318  seconds\n"
          ]
        }
      ]
    },
    {
      "cell_type": "code",
      "metadata": {
        "id": "iiiGNyOpP9tm",
        "colab": {
          "base_uri": "https://localhost:8080/"
        },
        "outputId": "bbf33ffa-d394-4480-a918-ce6a46106f29"
      },
      "source": [
        "t0 = time()\n",
        "interactions_df.select(\"protocol_type\", \"duration\", \"dst_bytes\").filter(interactions_df.duration>1000).filter(interactions_df.dst_bytes==0).groupBy(\"protocol_type\").count().show()\n",
        "tt = time() - t0\n",
        "\n",
        "print (\"Query performed in \",round(tt,3),\" seconds\")"
      ],
      "execution_count": null,
      "outputs": [
        {
          "output_type": "stream",
          "name": "stdout",
          "text": [
            "+-------------+-----+\n",
            "|protocol_type|count|\n",
            "+-------------+-----+\n",
            "|          tcp|   15|\n",
            "+-------------+-----+\n",
            "\n",
            "Query performed in  2.381  seconds\n"
          ]
        }
      ]
    },
    {
      "cell_type": "code",
      "metadata": {
        "id": "CjVSFfzzQOG4"
      },
      "source": [
        "def get_label_type(label):\n",
        "    if label!=\"normal.\":\n",
        "        return \"attack\"\n",
        "    else:\n",
        "        return \"normal\"\n",
        "    \n",
        "row_labeled_data = csv_data.map(lambda p: Row(\n",
        "    duration=int(p[0]), \n",
        "    protocol_type=p[1],\n",
        "    service=p[2],\n",
        "    flag=p[3],\n",
        "    src_bytes=int(p[4]),\n",
        "    dst_bytes=int(p[5]),\n",
        "    label=get_label_type(p[41])\n",
        "    )\n",
        ")\n",
        "#interactions_labeled_df = sqlContext.createDataFrame(row_labeled_data)\n",
        "interactions_labeled_df = spark.createDataFrame(row_labeled_data)"
      ],
      "execution_count": null,
      "outputs": []
    },
    {
      "cell_type": "code",
      "metadata": {
        "id": "RHlM_5BAQWTs",
        "colab": {
          "base_uri": "https://localhost:8080/"
        },
        "outputId": "ce93a05d-77d5-4727-f8ad-2d767820aff3"
      },
      "source": [
        "t0 = time()\n",
        "interactions_labeled_df.select(\"label\").groupBy(\"label\").count().show()\n",
        "tt = time() - t0\n",
        "\n",
        "print (\"Query performed in \",round(tt,3),\" seconds\")"
      ],
      "execution_count": null,
      "outputs": [
        {
          "output_type": "stream",
          "name": "stdout",
          "text": [
            "+------+-----+\n",
            "| label|count|\n",
            "+------+-----+\n",
            "|normal| 9635|\n",
            "|attack|39858|\n",
            "+------+-----+\n",
            "\n",
            "Query performed in  1.941  seconds\n"
          ]
        }
      ]
    },
    {
      "cell_type": "code",
      "metadata": {
        "id": "KQXWZAo5Qiz4",
        "colab": {
          "base_uri": "https://localhost:8080/"
        },
        "outputId": "8b2aa9f4-8aca-4355-af10-3e377f96b8e7"
      },
      "source": [
        "t0 = time()\n",
        "interactions_labeled_df.select(\"label\", \"protocol_type\").groupBy(\"label\", \"protocol_type\").count().show()\n",
        "tt = time() - t0\n",
        "\n",
        "print (\"Query performed in \",round(tt,3),\" seconds\")"
      ],
      "execution_count": null,
      "outputs": [
        {
          "output_type": "stream",
          "name": "stdout",
          "text": [
            "+------+-------------+-----+\n",
            "| label|protocol_type|count|\n",
            "+------+-------------+-----+\n",
            "|normal|          udp| 1907|\n",
            "|normal|         icmp|  125|\n",
            "|normal|          tcp| 7603|\n",
            "|attack|         icmp|28363|\n",
            "|attack|          tcp|11386|\n",
            "|attack|          udp|  109|\n",
            "+------+-------------+-----+\n",
            "\n",
            "Query performed in  2.215  seconds\n"
          ]
        }
      ]
    },
    {
      "cell_type": "code",
      "metadata": {
        "id": "eHvWpWI8QuQa",
        "colab": {
          "base_uri": "https://localhost:8080/"
        },
        "outputId": "d435a3a4-55de-4ec6-aab0-a18434e7728c"
      },
      "source": [
        "t0 = time()\n",
        "interactions_labeled_df.select(\"label\", \"protocol_type\", \"dst_bytes\").groupBy(\"label\", \"protocol_type\", interactions_labeled_df.dst_bytes==0).count().show()\n",
        "tt = time() - t0\n",
        "\n",
        "print (\"Query performed in \",round(tt,3),\" seconds\")"
      ],
      "execution_count": null,
      "outputs": [
        {
          "output_type": "stream",
          "name": "stdout",
          "text": [
            "+------+-------------+---------------+-----+\n",
            "| label|protocol_type|(dst_bytes = 0)|count|\n",
            "+------+-------------+---------------+-----+\n",
            "|normal|          udp|          false| 1566|\n",
            "|attack|          udp|          false|    3|\n",
            "|attack|          tcp|           true|11138|\n",
            "|normal|          tcp|          false| 6704|\n",
            "|attack|         icmp|           true|28363|\n",
            "|attack|          tcp|          false|  248|\n",
            "|normal|          tcp|           true|  899|\n",
            "|normal|          udp|           true|  341|\n",
            "|normal|         icmp|           true|  125|\n",
            "|attack|          udp|           true|  106|\n",
            "+------+-------------+---------------+-----+\n",
            "\n",
            "Query performed in  2.089  seconds\n"
          ]
        }
      ]
    },
    {
      "cell_type": "markdown",
      "metadata": {
        "id": "XgNM5tawg0Ap"
      },
      "source": [
        "#Chronobooks <br>\n",
        "![alt text](https://1.bp.blogspot.com/-lTiYBkU2qbU/X1er__fvnkI/AAAAAAAAjtE/GhDR3OEGJr4NG43fZPodrQD5kbxtnKebgCLcBGAsYHQ/s600/Footer2020-600x200.png)<hr>\n",
        "Chronotantra and Chronoyantra are two science fiction novels that explore the collapse of human civilisation on Earth and then its rebirth and reincarnation both on Earth as well as on the distant worlds of Mars, Titan and Enceladus. But is it the human civilisation that is being reborn? Or is it some other sentience that is revealing itself. \n",
        "If you have an interest in AI and found this material useful, you may consider buying these novels, in paperback or kindle, from [http://bit.ly/chronobooks](http://bit.ly/chronobooks)"
      ]
    }
  ]
}