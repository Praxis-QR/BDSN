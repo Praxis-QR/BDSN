{
  "nbformat": 4,
  "nbformat_minor": 0,
  "metadata": {
    "colab": {
      "name": "KK C1 SparkSQL SQLContext HiveContext",
      "provenance": [],
      "toc_visible": true,
      "include_colab_link": true
    },
    "kernelspec": {
      "name": "python3",
      "display_name": "Python 3"
    }
  },
  "cells": [
    {
      "cell_type": "markdown",
      "metadata": {
        "id": "view-in-github",
        "colab_type": "text"
      },
      "source": [
        "<a href=\"https://colab.research.google.com/github/Praxis-QR/BDSN/blob/main/KK_C1_SparkSQL_SQLContext_HiveContext.ipynb\" target=\"_parent\"><img src=\"https://colab.research.google.com/assets/colab-badge.svg\" alt=\"Open In Colab\"/></a>"
      ]
    },
    {
      "cell_type": "markdown",
      "metadata": {
        "id": "IZHBKDKQpoih"
      },
      "source": [
        "![alt text](https://github.com/Praxis-QR/RDWH/raw/main/images/YantraJaalBanner.png)<br>\n",
        "\n",
        "\n",
        "<hr>\n",
        "\n",
        "[Prithwis Mukerjee](http://www.linkedin.com/in/prithwis)<br>"
      ]
    },
    {
      "cell_type": "code",
      "source": [
        "from datetime import datetime\n",
        "import pytz\n",
        "print('Tested',datetime.now(pytz.timezone('Asia/Calcutta')))"
      ],
      "metadata": {
        "colab": {
          "base_uri": "https://localhost:8080/"
        },
        "id": "NMU1bbSAEoR3",
        "outputId": "496f0fbe-ab81-4e6e-8bab-87d5bf21bbd4"
      },
      "execution_count": 1,
      "outputs": [
        {
          "output_type": "stream",
          "name": "stdout",
          "text": [
            "Tested 2023-04-04 12:32:52.132672+05:30\n"
          ]
        }
      ]
    },
    {
      "cell_type": "markdown",
      "metadata": {
        "id": "cigqrh_QpSPu"
      },
      "source": [
        "# SPARK SQL\n",
        "If you wish to run HIVE natively under Hadoop please see this notebook [Hadoop and Hive](https://github.com/prithwis/KKolab/blob/main/KK_B2_Hadoop_and_Hive.ipynb)"
      ]
    },
    {
      "cell_type": "markdown",
      "metadata": {
        "id": "BQxaKP3-ugUs"
      },
      "source": [
        "# Install Spark"
      ]
    },
    {
      "cell_type": "markdown",
      "source": [
        "## Manual Install Deprecated"
      ],
      "metadata": {
        "id": "rtng1x3mBon1"
      }
    },
    {
      "cell_type": "code",
      "metadata": {
        "id": "9aG7A8TjulYO"
      },
      "source": [
        "!apt-get update > /dev/null\n",
        "!apt-get install openjdk-8-jdk-headless -qq > /dev/null\n",
        "\n",
        "#!wget -q http://apache.osuosl.org/spark/spark-2.2.2/spark-2.2.2-bin-hadoop2.7.tgz\n",
        "#!wget -q http://apache.osuosl.org/spark/spark-2.4.0/spark-2.4.0-bin-hadoop2.7.tgz\n",
        "#!wget -q http://apache.osuosl.org/spark/spark-2.4.4/spark-2.4.4-bin-hadoop2.7.tgz\n",
        "#!wget -q http://apache.osuosl.org/spark/spark-2.4.5/spark-2.4.5-bin-hadoop2.7.tgz\n",
        "#!wget -q http://apache.osuosl.org/spark/spark-3.0.1/spark-3.0.1-bin-hadoop3.2.tgz\n",
        "#!wget -q http://apache.osuosl.org/spark/spark-3.1.2/spark-3.1.2-bin-hadoop3.2.tgz     --- this gives errors\n",
        "!wget -q https://apache.osuosl.org/spark/spark-3.0.3/spark-3.0.3-bin-hadoop3.2.tgz     # Using Older Version \n",
        "\n",
        "#\n",
        "# if the current version of Spark is not used, there may be errors\n",
        "# check here for current versions http://apache.osuosl.org/spark\n",
        "#\n",
        "#!tar xf spark-2.4.0-bin-hadoop2.7.tgz\n",
        "#!tar xf spark-2.4.4-bin-hadoop2.7.tgz\n",
        "#!tar xf spark-2.4.5-bin-hadoop2.7.tgz\n",
        "#!tar xf spark-3.0.1-bin-hadoop3.2.tgz\n",
        "#!tar xf spark-3.1.2-bin-hadoop3.2.tgz -- this gives errors\n",
        "!tar xf spark-3.0.3-bin-hadoop3.2.tgz\n",
        "\n",
        "\n",
        "\n",
        "# -----------------------------------------------\n",
        "import os\n",
        "os.environ[\"JAVA_HOME\"] = \"/usr/lib/jvm/java-8-openjdk-amd64\"\n",
        "#os.environ[\"SPARK_HOME\"] = \"/content/spark-2.4.0-bin-hadoop2.7\"\n",
        "#os.environ[\"SPARK_HOME\"] = \"/content/spark-2.4.4-bin-hadoop2.7\"\n",
        "#os.environ[\"SPARK_HOME\"] = \"/content/spark-2.4.5-bin-hadoop2.7\"\n",
        "#os.environ[\"SPARK_HOME\"] = \"/content/spark-3.0.1-bin-hadoop3.2\"\n",
        "# os.environ[\"SPARK_HOME\"] = \"/content/spark-3.1.2-bin-hadoop3.2\"\n",
        "os.environ[\"SPARK_HOME\"] = \"/content/spark-3.0.3-bin-hadoop3.2\"\n",
        "\n",
        "!pip install -q findspark  # findspark is no more required\n",
        "#!pip install -q pyspark\n",
        "import findspark\n",
        "findspark.init()\n",
        "# -----------------------------------------------\n",
        "import pyspark\n",
        "from pyspark.sql import SparkSession\n",
        "spark = SparkSession.builder.master(\"local[*]\").getOrCreate()\n",
        "sc = spark.sparkContext\n",
        "sc"
      ],
      "execution_count": null,
      "outputs": []
    },
    {
      "cell_type": "markdown",
      "source": [
        "## PIP Install Spark"
      ],
      "metadata": {
        "id": "3P0Z_WDSBsQI"
      }
    },
    {
      "cell_type": "code",
      "source": [
        "#!pip3 -q install pyspark==3.0.3    # Problem with newer spark versions resolved, no need to install older version\n",
        "!pip3 -q install pyspark\n",
        "from pyspark.sql import SparkSession\n",
        "spark = SparkSession.builder.master(\"local[*]\").getOrCreate()\n",
        "sc = spark.sparkContext\n",
        "sc"
      ],
      "metadata": {
        "colab": {
          "base_uri": "https://localhost:8080/",
          "height": 265
        },
        "id": "36uWkLtcBx4V",
        "outputId": "f054ba73-ef1f-4f1c-c1af-7f494e063b4f"
      },
      "execution_count": 2,
      "outputs": [
        {
          "output_type": "stream",
          "name": "stdout",
          "text": [
            "\u001b[2K     \u001b[90m━━━━━━━━━━━━━━━━━━━━━━━━━━━━━━━━━━━━━━━\u001b[0m \u001b[32m281.4/281.4 MB\u001b[0m \u001b[31m3.7 MB/s\u001b[0m eta \u001b[36m0:00:00\u001b[0m\n",
            "\u001b[?25h  Preparing metadata (setup.py) ... \u001b[?25l\u001b[?25hdone\n",
            "\u001b[2K     \u001b[90m━━━━━━━━━━━━━━━━━━━━━━━━━━━━━━━━━━━━━━\u001b[0m \u001b[32m199.7/199.7 KB\u001b[0m \u001b[31m19.9 MB/s\u001b[0m eta \u001b[36m0:00:00\u001b[0m\n",
            "\u001b[?25h  Building wheel for pyspark (setup.py) ... \u001b[?25l\u001b[?25hdone\n"
          ]
        },
        {
          "output_type": "execute_result",
          "data": {
            "text/plain": [
              "<SparkContext master=local[*] appName=pyspark-shell>"
            ],
            "text/html": [
              "\n",
              "        <div>\n",
              "            <p><b>SparkContext</b></p>\n",
              "\n",
              "            <p><a href=\"http://99a37c1cc239:4040\">Spark UI</a></p>\n",
              "\n",
              "            <dl>\n",
              "              <dt>Version</dt>\n",
              "                <dd><code>v3.3.2</code></dd>\n",
              "              <dt>Master</dt>\n",
              "                <dd><code>local[*]</code></dd>\n",
              "              <dt>AppName</dt>\n",
              "                <dd><code>pyspark-shell</code></dd>\n",
              "            </dl>\n",
              "        </div>\n",
              "        "
            ]
          },
          "metadata": {},
          "execution_count": 2
        }
      ]
    },
    {
      "cell_type": "markdown",
      "metadata": {
        "id": "bAyLqUDFyjjQ"
      },
      "source": [
        "# Load Data"
      ]
    },
    {
      "cell_type": "code",
      "metadata": {
        "colab": {
          "base_uri": "https://localhost:8080/"
        },
        "id": "jxJ5mTuHyllU",
        "outputId": "251a6453-7258-42a5-8d90-f6a9ff32d548"
      },
      "source": [
        "# Data files downloaded from author's G-Drive\n",
        "#!gdown https://drive.google.com/uc?id=1JJH24ZZaiJrEKValD--UtyFcWl7UanwV  # 2% data\n",
        "!wget -q 'https://raw.githubusercontent.com/Praxis-QR/BDSN/main/data/OLAP/eCommerce_02PC_2021.csv' # 2% data\n",
        "\n",
        "#!gdown https://drive.google.com/uc?id=1g7mJ0v4fkERW0HWc1eq-SHs_jvQ0N2Oe  # 100% data\n",
        "!wget -q 'https://raw.githubusercontent.com/Praxis-QR/BDSN/main/data/OLAP/eCommerce_Full_2021.csv' # 100% data \n",
        "\n",
        "!ls -al"
      ],
      "execution_count": 3,
      "outputs": [
        {
          "output_type": "stream",
          "name": "stdout",
          "text": [
            "total 44896\n",
            "drwxr-xr-x 1 root root     4096 Apr  4 07:04 .\n",
            "drwxr-xr-x 1 root root     4096 Apr  4 07:02 ..\n",
            "drwxr-xr-x 4 root root     4096 Mar 31 13:35 .config\n",
            "-rw-r--r-- 1 root root   916817 Apr  4 07:04 eCommerce_02PC_2021.csv\n",
            "-rw-r--r-- 1 root root 45038728 Apr  4 07:04 eCommerce_Full_2021.csv\n",
            "drwxr-xr-x 1 root root     4096 Mar 31 13:36 sample_data\n"
          ]
        }
      ]
    },
    {
      "cell_type": "code",
      "metadata": {
        "id": "FOLe2EvPyuya"
      },
      "source": [
        "#we remove the CRLF character from the end of the row if it exists\n",
        "!sed 's/\\r//' /content/eCommerce_Full_2021.csv > datafile.csv\n",
        "#!sed 's/\\r//' /content/eCommerce_02PC_2021.csv > datafile.csv\n",
        "\n",
        "\n",
        "#sed -i -e \"1d\" datafile.csv               # remove the first line containing headers from the file"
      ],
      "execution_count": 4,
      "outputs": []
    },
    {
      "cell_type": "code",
      "metadata": {
        "id": "tqcZoCSe9QjY",
        "colab": {
          "base_uri": "https://localhost:8080/"
        },
        "outputId": "ffb372ed-9767-4c5a-ab87-61910844e432"
      },
      "source": [
        "data_file = 'datafile.csv'\n",
        "raw_data = sc.textFile(data_file)\n",
        "print (\"Data Size\", raw_data.count())"
      ],
      "execution_count": 5,
      "outputs": [
        {
          "output_type": "stream",
          "name": "stdout",
          "text": [
            "Data Size 541910\n"
          ]
        }
      ]
    },
    {
      "cell_type": "markdown",
      "metadata": {
        "id": "CYyko_-I1DnL"
      },
      "source": [
        "#Spark Data Frame"
      ]
    },
    {
      "cell_type": "code",
      "metadata": {
        "id": "rjnrF4hrzwbj",
        "outputId": "11a07bc6-3e4c-47ac-ade2-19b9c889def5",
        "colab": {
          "base_uri": "https://localhost:8080/"
        }
      },
      "source": [
        "# CSV to Spark Dataframe \n",
        "eCommerce_df = spark.read.csv(data_file,inferSchema=True, header=True)\n",
        "eCommerce_df.printSchema()          # Spark is smart enough to differentiate between text and numbers\n",
        "                                    # Presence of comma in string fields has been handled correctly"
      ],
      "execution_count": 6,
      "outputs": [
        {
          "output_type": "stream",
          "name": "stdout",
          "text": [
            "root\n",
            " |-- InvoiceNo: string (nullable = true)\n",
            " |-- StockCode: string (nullable = true)\n",
            " |-- Description: string (nullable = true)\n",
            " |-- Quantity: integer (nullable = true)\n",
            " |-- InvoiceDate: string (nullable = true)\n",
            " |-- UnitPrice: double (nullable = true)\n",
            " |-- CustomerID: integer (nullable = true)\n",
            " |-- Country: string (nullable = true)\n",
            "\n"
          ]
        }
      ]
    },
    {
      "cell_type": "code",
      "metadata": {
        "colab": {
          "base_uri": "https://localhost:8080/"
        },
        "id": "OH_nAI751nuQ",
        "outputId": "324f2b9a-79ea-4926-f22f-0a72e4e61e85"
      },
      "source": [
        "eCommerce_df.select('Quantity','UnitPrice','Country').groupby(eCommerce_df.Country).count().sort('count', ascending = False).show()"
      ],
      "execution_count": 7,
      "outputs": [
        {
          "output_type": "stream",
          "name": "stdout",
          "text": [
            "+---------------+------+\n",
            "|        Country| count|\n",
            "+---------------+------+\n",
            "| United Kingdom|495478|\n",
            "|        Germany|  9495|\n",
            "|         France|  8557|\n",
            "|           EIRE|  8196|\n",
            "|          Spain|  2533|\n",
            "|    Netherlands|  2371|\n",
            "|        Belgium|  2069|\n",
            "|    Switzerland|  2002|\n",
            "|       Portugal|  1519|\n",
            "|      Australia|  1259|\n",
            "|         Norway|  1086|\n",
            "|          Italy|   803|\n",
            "|Channel Islands|   758|\n",
            "|        Finland|   695|\n",
            "|         Cyprus|   622|\n",
            "|         Sweden|   462|\n",
            "|    Unspecified|   446|\n",
            "|        Austria|   401|\n",
            "|        Denmark|   389|\n",
            "|          Japan|   358|\n",
            "+---------------+------+\n",
            "only showing top 20 rows\n",
            "\n"
          ]
        }
      ]
    },
    {
      "cell_type": "markdown",
      "metadata": {
        "id": "aKzL9g6-3yX9"
      },
      "source": [
        "#Spark SQL\n",
        "What is the difference between SQLContext and HiveContext? See [here](https://intellipaat.com/community/7599/what-is-the-difference-between-apache-spark-sqlcontext-vs-hivecontext#:~:text=HiveContext%20is%20a%20super%20set,read%20data%20from%20Hive%20tables.&text=The%20more%20basic%20SQLContext%20provides,does%20not%20depend%20on%20Hive.), or [here](https://stackoverflow.com/questions/33666545/what-is-the-difference-between-apache-spark-sqlcontext-vs-hivecontext)"
      ]
    },
    {
      "cell_type": "code",
      "source": [
        "eCommerce_df.createOrReplaceTempView(\"t_eCommerce\")                    # Create a Spark Table"
      ],
      "metadata": {
        "id": "PrKW3HuwGCVo"
      },
      "execution_count": 8,
      "outputs": []
    },
    {
      "cell_type": "code",
      "source": [
        "spark.sql(\"SELECT Country, count(*) count FROM t_eCommerce group by Country order by count desc\").show()"
      ],
      "metadata": {
        "colab": {
          "base_uri": "https://localhost:8080/"
        },
        "id": "AWnDVRIfGiv2",
        "outputId": "9c58d2a1-0a68-4b8d-ffbb-7824dbc27b37"
      },
      "execution_count": 11,
      "outputs": [
        {
          "output_type": "stream",
          "name": "stdout",
          "text": [
            "+---------------+------+\n",
            "|        Country| count|\n",
            "+---------------+------+\n",
            "| United Kingdom|495478|\n",
            "|        Germany|  9495|\n",
            "|         France|  8557|\n",
            "|           EIRE|  8196|\n",
            "|          Spain|  2533|\n",
            "|    Netherlands|  2371|\n",
            "|        Belgium|  2069|\n",
            "|    Switzerland|  2002|\n",
            "|       Portugal|  1519|\n",
            "|      Australia|  1259|\n",
            "|         Norway|  1086|\n",
            "|          Italy|   803|\n",
            "|Channel Islands|   758|\n",
            "|        Finland|   695|\n",
            "|         Cyprus|   622|\n",
            "|         Sweden|   462|\n",
            "|    Unspecified|   446|\n",
            "|        Austria|   401|\n",
            "|        Denmark|   389|\n",
            "|          Japan|   358|\n",
            "+---------------+------+\n",
            "only showing top 20 rows\n",
            "\n"
          ]
        }
      ]
    },
    {
      "cell_type": "code",
      "source": [
        "#Countries = spark.sql(\"SELECT * FROM t_eCommerce limit 5\")\n",
        "Countries = spark.sql(\"SELECT * FROM t_eCommerce\")\n",
        "Countries.show(5, truncate=False)"
      ],
      "metadata": {
        "colab": {
          "base_uri": "https://localhost:8080/"
        },
        "id": "BSDh9VMHHnkx",
        "outputId": "8a3a27fd-c597-4adc-c586-71940fab8908"
      },
      "execution_count": 15,
      "outputs": [
        {
          "output_type": "stream",
          "name": "stdout",
          "text": [
            "+---------+---------+-----------------------------------+--------+--------------+---------+----------+--------------+\n",
            "|InvoiceNo|StockCode|Description                        |Quantity|InvoiceDate   |UnitPrice|CustomerID|Country       |\n",
            "+---------+---------+-----------------------------------+--------+--------------+---------+----------+--------------+\n",
            "|536365   |85123A   |WHITE HANGING HEART T-LIGHT HOLDER |6       |12/1/2010 8:26|2.55     |17850     |United Kingdom|\n",
            "|536365   |71053    |WHITE METAL LANTERN                |6       |12/1/2010 8:26|3.39     |17850     |United Kingdom|\n",
            "|536365   |84406B   |CREAM CUPID HEARTS COAT HANGER     |8       |12/1/2010 8:26|2.75     |17850     |United Kingdom|\n",
            "|536365   |84029G   |KNITTED UNION FLAG HOT WATER BOTTLE|6       |12/1/2010 8:26|3.39     |17850     |United Kingdom|\n",
            "|536365   |84029E   |RED WOOLLY HOTTIE WHITE HEART.     |6       |12/1/2010 8:26|3.39     |17850     |United Kingdom|\n",
            "+---------+---------+-----------------------------------+--------+--------------+---------+----------+--------------+\n",
            "only showing top 5 rows\n",
            "\n"
          ]
        }
      ]
    },
    {
      "cell_type": "code",
      "source": [
        "spark.sql(\"select distinct Country from t_eCommerce\").show()"
      ],
      "metadata": {
        "id": "dWoMqv9WPfUc",
        "outputId": "610ff262-f0b0-49de-9b5e-b8e11ccf437d",
        "colab": {
          "base_uri": "https://localhost:8080/"
        }
      },
      "execution_count": 25,
      "outputs": [
        {
          "output_type": "stream",
          "name": "stdout",
          "text": [
            "+------------------+\n",
            "|           Country|\n",
            "+------------------+\n",
            "|            Sweden|\n",
            "|         Singapore|\n",
            "|           Germany|\n",
            "|            France|\n",
            "|            Greece|\n",
            "|European Community|\n",
            "|           Belgium|\n",
            "|           Finland|\n",
            "|             Malta|\n",
            "|       Unspecified|\n",
            "|             Italy|\n",
            "|              EIRE|\n",
            "|         Lithuania|\n",
            "|            Norway|\n",
            "|             Spain|\n",
            "|           Denmark|\n",
            "|         Hong Kong|\n",
            "|           Iceland|\n",
            "|            Israel|\n",
            "|   Channel Islands|\n",
            "+------------------+\n",
            "only showing top 20 rows\n",
            "\n"
          ]
        }
      ]
    },
    {
      "cell_type": "code",
      "source": [
        "spark.sql(\"select count(distinct Country) CountryCount from t_eCommerce\").show()"
      ],
      "metadata": {
        "id": "X2QtAEp9PHJF",
        "outputId": "707d6885-1ae5-4c20-ce0b-17e3f82c2043",
        "colab": {
          "base_uri": "https://localhost:8080/"
        }
      },
      "execution_count": 27,
      "outputs": [
        {
          "output_type": "stream",
          "name": "stdout",
          "text": [
            "+------------+\n",
            "|CountryCount|\n",
            "+------------+\n",
            "|          38|\n",
            "+------------+\n",
            "\n"
          ]
        }
      ]
    },
    {
      "cell_type": "code",
      "source": [
        "#Countries = sqlContext.sql(\"SELECT sum(Quantity), sum(UnitPrice), Country from eCommerce group by Country order by sum(Quantity) desc\")\n",
        "spark.sql(\"SELECT sum(Quantity), sum(UnitPrice), Country from t_eCommerce group by Country order by sum(Quantity) desc\").show()"
      ],
      "metadata": {
        "colab": {
          "base_uri": "https://localhost:8080/"
        },
        "id": "cuYOJPFtH5G-",
        "outputId": "db9f317e-de8d-4bb0-fc2a-be2227c81781"
      },
      "execution_count": 29,
      "outputs": [
        {
          "output_type": "stream",
          "name": "stdout",
          "text": [
            "+-------------+------------------+---------------+\n",
            "|sum(Quantity)|    sum(UnitPrice)|        Country|\n",
            "+-------------+------------------+---------------+\n",
            "|      4263823|2245712.9239976574| United Kingdom|\n",
            "|       200128| 6492.549999999972|    Netherlands|\n",
            "|       142637|48447.190000000934|           EIRE|\n",
            "|       117448| 37666.00000000061|        Germany|\n",
            "|       110480| 43031.99000000053|         France|\n",
            "|        83653| 4054.749999999998|      Australia|\n",
            "|        35637|1806.8300000000006|         Sweden|\n",
            "|        30325| 6813.689999999986|    Switzerland|\n",
            "|        26824| 12633.44999999992|          Spain|\n",
            "|        25218| 814.8600000000002|          Japan|\n",
            "|        23152| 7540.129999999979|        Belgium|\n",
            "|        19247| 6529.059999999987|         Norway|\n",
            "|        16180|          13037.54|       Portugal|\n",
            "|        10666| 3786.850000000005|        Finland|\n",
            "|         9479|3738.5500000000015|Channel Islands|\n",
            "|         8188|1266.9499999999991|        Denmark|\n",
            "|         7999| 3879.390000000005|          Italy|\n",
            "|         6317|3920.0699999999997|         Cyprus|\n",
            "|         5234|25108.890000000007|      Singapore|\n",
            "|         4827|1701.5200000000018|        Austria|\n",
            "+-------------+------------------+---------------+\n",
            "only showing top 20 rows\n",
            "\n"
          ]
        }
      ]
    },
    {
      "cell_type": "code",
      "source": [
        "#Countries = sqlContext.sql(\"SELECT sum(Quantity), sum(UnitPrice), Country from eCommerce group by Country order by sum(Quantity) desc\")\n",
        "spark.sql(\"SELECT sum(Quantity) Quantity, round(sum(UnitPrice)) xSumUnitPrice, Country from t_eCommerce group by Country order by Quantity desc\").show(40)"
      ],
      "metadata": {
        "colab": {
          "base_uri": "https://localhost:8080/"
        },
        "id": "vxABNx9_Ig39",
        "outputId": "f9990316-dc11-4237-a162-72664d7e0f3a"
      },
      "execution_count": 30,
      "outputs": [
        {
          "output_type": "stream",
          "name": "stdout",
          "text": [
            "+--------+-------------+--------------------+\n",
            "|Quantity|xSumUnitPrice|             Country|\n",
            "+--------+-------------+--------------------+\n",
            "| 4263823|    2245713.0|      United Kingdom|\n",
            "|  200128|       6493.0|         Netherlands|\n",
            "|  142637|      48447.0|                EIRE|\n",
            "|  117448|      37666.0|             Germany|\n",
            "|  110480|      43032.0|              France|\n",
            "|   83653|       4055.0|           Australia|\n",
            "|   35637|       1807.0|              Sweden|\n",
            "|   30325|       6814.0|         Switzerland|\n",
            "|   26824|      12633.0|               Spain|\n",
            "|   25218|        815.0|               Japan|\n",
            "|   23152|       7540.0|             Belgium|\n",
            "|   19247|       6529.0|              Norway|\n",
            "|   16180|      13038.0|            Portugal|\n",
            "|   10666|       3787.0|             Finland|\n",
            "|    9479|       3739.0|     Channel Islands|\n",
            "|    8188|       1267.0|             Denmark|\n",
            "|    7999|       3879.0|               Italy|\n",
            "|    6317|       3920.0|              Cyprus|\n",
            "|    5234|      25109.0|           Singapore|\n",
            "|    4827|       1702.0|             Austria|\n",
            "|    4769|      12241.0|           Hong Kong|\n",
            "|    4353|       1079.0|              Israel|\n",
            "|    3653|       1422.0|              Poland|\n",
            "|    3300|       1204.0|         Unspecified|\n",
            "|    2763|        911.0|              Canada|\n",
            "|    2458|        481.0|             Iceland|\n",
            "|    1556|        713.0|              Greece|\n",
            "|    1034|        645.0|                 USA|\n",
            "|     982|        230.0|United Arab Emirates|\n",
            "|     944|        666.0|               Malta|\n",
            "|     652|         99.0|           Lithuania|\n",
            "|     592|         88.0|      Czech Republic|\n",
            "|     497|        294.0|  European Community|\n",
            "|     386|        242.0|             Lebanon|\n",
            "|     356|        143.0|              Brazil|\n",
            "|     352|        248.0|                 RSA|\n",
            "|     260|         87.0|             Bahrain|\n",
            "|      75|         24.0|        Saudi Arabia|\n",
            "+--------+-------------+--------------------+\n",
            "\n"
          ]
        }
      ]
    },
    {
      "cell_type": "code",
      "source": [
        "spark.sql(\"SELECT sum(Quantity) Quantity, round(sum(UnitPrice * Quantity)) Sales, Country from t_eCommerce group by Country order by Quantity desc\").show(40)"
      ],
      "metadata": {
        "id": "rB6BKLJhO0Ge",
        "outputId": "0ef0789b-7c26-4110-c7aa-03cb946b1d28",
        "colab": {
          "base_uri": "https://localhost:8080/"
        }
      },
      "execution_count": 31,
      "outputs": [
        {
          "output_type": "stream",
          "name": "stdout",
          "text": [
            "+--------+---------+--------------------+\n",
            "|Quantity|    Sales|             Country|\n",
            "+--------+---------+--------------------+\n",
            "| 4263823|8187791.0|      United Kingdom|\n",
            "|  200128| 284662.0|         Netherlands|\n",
            "|  142637| 263277.0|                EIRE|\n",
            "|  117448| 221698.0|             Germany|\n",
            "|  110480| 197404.0|              France|\n",
            "|   83653| 137077.0|           Australia|\n",
            "|   35637|  36596.0|              Sweden|\n",
            "|   30325|  56385.0|         Switzerland|\n",
            "|   26824|  54775.0|               Spain|\n",
            "|   25218|  35341.0|               Japan|\n",
            "|   23152|  40911.0|             Belgium|\n",
            "|   19247|  35163.0|              Norway|\n",
            "|   16180|  29367.0|            Portugal|\n",
            "|   10666|  22327.0|             Finland|\n",
            "|    9479|  20086.0|     Channel Islands|\n",
            "|    8188|  18768.0|             Denmark|\n",
            "|    7999|  16891.0|               Italy|\n",
            "|    6317|  12946.0|              Cyprus|\n",
            "|    5234|   9120.0|           Singapore|\n",
            "|    4827|  10154.0|             Austria|\n",
            "|    4769|  10117.0|           Hong Kong|\n",
            "|    4353|   7908.0|              Israel|\n",
            "|    3653|   7213.0|              Poland|\n",
            "|    3300|   4750.0|         Unspecified|\n",
            "|    2763|   3666.0|              Canada|\n",
            "|    2458|   4310.0|             Iceland|\n",
            "|    1556|   4711.0|              Greece|\n",
            "|    1034|   1731.0|                 USA|\n",
            "|     982|   1902.0|United Arab Emirates|\n",
            "|     944|   2505.0|               Malta|\n",
            "|     652|   1661.0|           Lithuania|\n",
            "|     592|    708.0|      Czech Republic|\n",
            "|     497|   1292.0|  European Community|\n",
            "|     386|   1694.0|             Lebanon|\n",
            "|     356|   1144.0|              Brazil|\n",
            "|     352|   1002.0|                 RSA|\n",
            "|     260|    548.0|             Bahrain|\n",
            "|      75|    131.0|        Saudi Arabia|\n",
            "+--------+---------+--------------------+\n",
            "\n"
          ]
        }
      ]
    },
    {
      "cell_type": "code",
      "source": [
        "# Where description contains comma\n",
        "spark.sql(\"SELECT InvoiceNo, Description  from t_eCommerce where Description like '%,%'\").show(truncate = False)"
      ],
      "metadata": {
        "id": "5CbB1OlYN6uc",
        "outputId": "46ac7c80-03d7-43c6-832e-c92c9815b2ac",
        "colab": {
          "base_uri": "https://localhost:8080/"
        }
      },
      "execution_count": 32,
      "outputs": [
        {
          "output_type": "stream",
          "name": "stdout",
          "text": [
            "+---------+----------------------------------+\n",
            "|InvoiceNo|Description                       |\n",
            "+---------+----------------------------------+\n",
            "|536381   |AIRLINE LOUNGE,METAL SIGN         |\n",
            "|536394   |FANCY FONT BIRTHDAY CARD,         |\n",
            "|536520   |TRAY, BREAKFAST IN BED            |\n",
            "|536520   |SWISS ROLL TOWEL, CHOCOLATE  SPOTS|\n",
            "|536524   |SWISS ROLL TOWEL, CHOCOLATE  SPOTS|\n",
            "|536531   |BIRTHDAY CARD, RETRO SPOT         |\n",
            "|536531   |FANCY FONT BIRTHDAY CARD,         |\n",
            "|536532   |FANCY FONT BIRTHDAY CARD,         |\n",
            "|536544   |TRAY, BREAKFAST IN BED            |\n",
            "|536544   |ACRYLIC JEWEL ICICLE, PINK        |\n",
            "|536544   |TUMBLER, BAROQUE                  |\n",
            "|536544   |TUMBLER, NEW ENGLAND              |\n",
            "|536544   |METAL SIGN,CUPCAKE SINGLE HOOK    |\n",
            "|536544   |METAL SIGN,CUPCAKE SINGLE HOOK    |\n",
            "|536544   |SET 3 RETROSPOT TEA,COFFEE,SUGAR  |\n",
            "|536544   |ELEPHANT, BIRTHDAY CARD,          |\n",
            "|C536548  |HOOK, 1 HANGER ,MAGIC GARDEN      |\n",
            "|536559   |FEATHER PEN,COAL BLACK            |\n",
            "|536559   |FEATHER PEN,LIGHT PINK            |\n",
            "|536559   |FEATHER PEN,LIGHT PINK            |\n",
            "+---------+----------------------------------+\n",
            "only showing top 20 rows\n",
            "\n"
          ]
        }
      ]
    },
    {
      "cell_type": "code",
      "source": [
        "spark.sql(\"select count(*) from t_eCommerce where Description like '%,%'\").show()"
      ],
      "metadata": {
        "id": "j-PwUYPlOYfg",
        "outputId": "814b2bd1-6ec9-4102-c591-583a0c872d59",
        "colab": {
          "base_uri": "https://localhost:8080/"
        }
      },
      "execution_count": 21,
      "outputs": [
        {
          "output_type": "stream",
          "name": "stdout",
          "text": [
            "+--------+\n",
            "|count(1)|\n",
            "+--------+\n",
            "|    4796|\n",
            "+--------+\n",
            "\n"
          ]
        }
      ]
    },
    {
      "cell_type": "markdown",
      "source": [
        "# Data Cleaning"
      ],
      "metadata": {
        "id": "Ais5NhVdJACa"
      }
    },
    {
      "cell_type": "markdown",
      "metadata": {
        "id": "PoH6dh0PVquo"
      },
      "source": [
        "## Remove comma from data of CSV file <br>\n",
        "The data contains commas which may cause during the load process"
      ]
    },
    {
      "cell_type": "code",
      "metadata": {
        "id": "G_xAU1jwTQn7"
      },
      "source": [
        "#we remove the CRLF character from the end of the row if it exists\n",
        "!sed 's/\\r//' /content/eCommerce_Full_2021.csv > datafile.csv\n",
        "#!sed 's/\\r//g' /content/eCommerce_02PC_2021.csv > datafile.csv\n",
        "# remove the first line containing headers from the file\n",
        "!sed -i -e \"1d\" datafile.csv               "
      ],
      "execution_count": 33,
      "outputs": []
    },
    {
      "cell_type": "markdown",
      "metadata": {
        "id": "hppAU6JFgXdJ"
      },
      "source": [
        "Tropical beach, coffee has commas "
      ]
    },
    {
      "cell_type": "code",
      "metadata": {
        "id": "v44TUklTTgTV"
      },
      "source": [
        "#!grep 'TROPICAL BEACH' datafile.csv\n",
        "#!grep 'COFFEE,' datafile.csv\n",
        "#!head datafile.csv"
      ],
      "execution_count": 34,
      "outputs": []
    },
    {
      "cell_type": "markdown",
      "metadata": {
        "id": "9SFUz9L-gfaC"
      },
      "source": [
        "commas getting removed here"
      ]
    },
    {
      "cell_type": "code",
      "metadata": {
        "id": "XmNd6m29Tykj",
        "colab": {
          "base_uri": "https://localhost:8080/"
        },
        "outputId": "3becd3d8-16dd-4252-cb59-7c8b7a9a7cdc"
      },
      "source": [
        "import pandas as pd\n",
        "#p_df = pd.read_csv('datafile.csv',header=None)   # throws errors because of non utf-encoding \n",
        "                                                  # https://stackoverflow.com/questions/18171739/unicodedecodeerror-when-reading-csv-file-in-pandas-with-python\n",
        "p_df = pd.read_csv('datafile.csv',encoding = \"ISO-8859-1\",header=None)\n",
        "#p_df = pd.read_csv('datafile.csv',encoding = \"latin\",header=None)\n",
        "#p_df = pd.read_csv('datafile.csv',encoding = \"latin\")\n",
        "p_df2 = p_df.replace(',', ' ', regex=True)\n",
        "p_df2.to_csv('datafile2.csv',index=False,sep=',',header=False)\n",
        "p_df2.shape"
      ],
      "execution_count": 37,
      "outputs": [
        {
          "output_type": "execute_result",
          "data": {
            "text/plain": [
              "(541909, 8)"
            ]
          },
          "metadata": {},
          "execution_count": 37
        }
      ]
    },
    {
      "cell_type": "code",
      "source": [
        "#Desc2 = p_df2['Description'].str.encode('ascii','ignore').str.decode('ascii')\n",
        "#p_df2['Description2'] = Desc2\n",
        "#p_df2.head(3)\n",
        "#p_df2.drop(\"Description\", axis=1, inplace=True)\n",
        "#p_df2.head(3)"
      ],
      "metadata": {
        "id": "dUjgoIkAQCHR"
      },
      "execution_count": null,
      "outputs": []
    },
    {
      "cell_type": "code",
      "source": [
        "#!head datafile2.csv\n",
        "#!grep 'TROPICAL BEACH' datafile2.csv\n",
        "#!grep 'COFFEE' datafile2.csv"
      ],
      "metadata": {
        "id": "jNKThHPvPb5k"
      },
      "execution_count": 39,
      "outputs": []
    },
    {
      "cell_type": "markdown",
      "metadata": {
        "id": "_llYjVnHYQFO"
      },
      "source": [
        "##SQL Context"
      ]
    },
    {
      "cell_type": "code",
      "metadata": {
        "id": "xWLZFQRs3EQ6"
      },
      "source": [
        "#from pyspark.sql import SQLContext\n",
        "from pyspark.sql import Row\n",
        "\n",
        "#sqlContext = SQLContext(sc)"
      ],
      "execution_count": 40,
      "outputs": []
    },
    {
      "cell_type": "code",
      "metadata": {
        "id": "GsTXCKQ74VyI"
      },
      "source": [
        "data_file = \"datafile2.csv\"\n",
        "raw_data = sc.textFile(data_file)\n",
        "csv_data = raw_data.map(lambda l: l.split(\",\"))"
      ],
      "execution_count": 41,
      "outputs": []
    },
    {
      "cell_type": "code",
      "metadata": {
        "colab": {
          "base_uri": "https://localhost:8080/"
        },
        "id": "YRCOwHRh5_aM",
        "outputId": "1d346b4c-5def-4b3f-c8d2-f531b17288cc"
      },
      "source": [
        "csv_data.take(5)"
      ],
      "execution_count": 42,
      "outputs": [
        {
          "output_type": "execute_result",
          "data": {
            "text/plain": [
              "[['536365',\n",
              "  '85123A',\n",
              "  'WHITE HANGING HEART T-LIGHT HOLDER',\n",
              "  '6',\n",
              "  '12/1/2010 8:26',\n",
              "  '2.55',\n",
              "  '17850.0',\n",
              "  'United Kingdom'],\n",
              " ['536365',\n",
              "  '71053',\n",
              "  'WHITE METAL LANTERN',\n",
              "  '6',\n",
              "  '12/1/2010 8:26',\n",
              "  '3.39',\n",
              "  '17850.0',\n",
              "  'United Kingdom'],\n",
              " ['536365',\n",
              "  '84406B',\n",
              "  'CREAM CUPID HEARTS COAT HANGER',\n",
              "  '8',\n",
              "  '12/1/2010 8:26',\n",
              "  '2.75',\n",
              "  '17850.0',\n",
              "  'United Kingdom'],\n",
              " ['536365',\n",
              "  '84029G',\n",
              "  'KNITTED UNION FLAG HOT WATER BOTTLE',\n",
              "  '6',\n",
              "  '12/1/2010 8:26',\n",
              "  '3.39',\n",
              "  '17850.0',\n",
              "  'United Kingdom'],\n",
              " ['536365',\n",
              "  '84029E',\n",
              "  'RED WOOLLY HOTTIE WHITE HEART.',\n",
              "  '6',\n",
              "  '12/1/2010 8:26',\n",
              "  '3.39',\n",
              "  '17850.0',\n",
              "  'United Kingdom']]"
            ]
          },
          "metadata": {},
          "execution_count": 42
        }
      ]
    },
    {
      "cell_type": "code",
      "metadata": {
        "id": "SsggPKar4kWa"
      },
      "source": [
        "row_data = csv_data.map(lambda p: Row(\n",
        "    InvoiceNo=p[0], \n",
        "    StockCode=p[1],\n",
        "    Description=p[2],\n",
        "    Quantity=int(p[3]),\n",
        "    InvoiceDate=p[4],\n",
        "    UnitPrice=float(p[5]),\n",
        "    CustomerID=p[6],\n",
        "    Country=p[7]\n",
        "    )\n",
        ")"
      ],
      "execution_count": 43,
      "outputs": []
    },
    {
      "cell_type": "code",
      "metadata": {
        "colab": {
          "base_uri": "https://localhost:8080/"
        },
        "id": "A_AK-Uu-5ulT",
        "outputId": "e73372a4-f56c-45d9-dfaa-00e651e1fc55"
      },
      "source": [
        "row_data.take(2)"
      ],
      "execution_count": 44,
      "outputs": [
        {
          "output_type": "execute_result",
          "data": {
            "text/plain": [
              "[Row(InvoiceNo='536365', StockCode='85123A', Description='WHITE HANGING HEART T-LIGHT HOLDER', Quantity=6, InvoiceDate='12/1/2010 8:26', UnitPrice=2.55, CustomerID='17850.0', Country='United Kingdom'),\n",
              " Row(InvoiceNo='536365', StockCode='71053', Description='WHITE METAL LANTERN', Quantity=6, InvoiceDate='12/1/2010 8:26', UnitPrice=3.39, CustomerID='17850.0', Country='United Kingdom')]"
            ]
          },
          "metadata": {},
          "execution_count": 44
        }
      ]
    },
    {
      "cell_type": "code",
      "metadata": {
        "id": "jXMc_yIV89IE"
      },
      "source": [
        "#eCommerce2_df = sqlContext.createDataFrame(row_data)\n",
        "#eCommerce2_df.registerTempTable(\"eCommerce\")\n",
        "# spark 2 onwards ...\n",
        "eCommerce2_df = spark.createDataFrame(row_data)\n",
        "eCommerce2_df.createOrReplaceTempView(\"eCommerce\")"
      ],
      "execution_count": 45,
      "outputs": []
    },
    {
      "cell_type": "code",
      "metadata": {
        "colab": {
          "base_uri": "https://localhost:8080/"
        },
        "id": "1Q39dzGqGdTb",
        "outputId": "01d5f09b-d6a3-4329-8c46-270569b22ee3"
      },
      "source": [
        "#Countries = sqlContext.sql(\"SELECT * FROM eCommerce limit 20\")\n",
        "Countries = spark.sql(\"SELECT * FROM eCommerce limit 5\")\n",
        "Countries.show()"
      ],
      "execution_count": 46,
      "outputs": [
        {
          "output_type": "stream",
          "name": "stdout",
          "text": [
            "+---------+---------+--------------------+--------+--------------+---------+----------+--------------+\n",
            "|InvoiceNo|StockCode|         Description|Quantity|   InvoiceDate|UnitPrice|CustomerID|       Country|\n",
            "+---------+---------+--------------------+--------+--------------+---------+----------+--------------+\n",
            "|   536365|   85123A|WHITE HANGING HEA...|       6|12/1/2010 8:26|     2.55|   17850.0|United Kingdom|\n",
            "|   536365|    71053| WHITE METAL LANTERN|       6|12/1/2010 8:26|     3.39|   17850.0|United Kingdom|\n",
            "|   536365|   84406B|CREAM CUPID HEART...|       8|12/1/2010 8:26|     2.75|   17850.0|United Kingdom|\n",
            "|   536365|   84029G|KNITTED UNION FLA...|       6|12/1/2010 8:26|     3.39|   17850.0|United Kingdom|\n",
            "|   536365|   84029E|RED WOOLLY HOTTIE...|       6|12/1/2010 8:26|     3.39|   17850.0|United Kingdom|\n",
            "+---------+---------+--------------------+--------+--------------+---------+----------+--------------+\n",
            "\n"
          ]
        }
      ]
    },
    {
      "cell_type": "code",
      "metadata": {
        "colab": {
          "base_uri": "https://localhost:8080/"
        },
        "id": "BYcC-W_AHGPq",
        "outputId": "d8d3e1ce-83bf-4746-a7ab-4b05d8a8fbb6"
      },
      "source": [
        "#Countries = sqlContext.sql(\"SELECT sum(Quantity), sum(UnitPrice), Country from eCommerce group by Country order by sum(Quantity) desc\")\n",
        "Countries = spark.sql(\"SELECT sum(Quantity), sum(UnitPrice), Country from eCommerce group by Country order by sum(Quantity) desc\")\n",
        "Countries.show()"
      ],
      "execution_count": 47,
      "outputs": [
        {
          "output_type": "stream",
          "name": "stdout",
          "text": [
            "+-------------+------------------+---------------+\n",
            "|sum(Quantity)|    sum(UnitPrice)|        Country|\n",
            "+-------------+------------------+---------------+\n",
            "|      4263829|2245715.4739978826| United Kingdom|\n",
            "|       200128| 6492.549999999974|    Netherlands|\n",
            "|       142637| 48447.19000000096|           EIRE|\n",
            "|       117448|  37666.0000000006|        Germany|\n",
            "|       110480| 43031.99000000051|         France|\n",
            "|        83653| 4054.749999999998|      Australia|\n",
            "|        35637|           1806.83|         Sweden|\n",
            "|        30325| 6813.689999999986|    Switzerland|\n",
            "|        26824|12633.449999999923|          Spain|\n",
            "|        25218| 814.8600000000001|          Japan|\n",
            "|        23152| 7540.129999999981|        Belgium|\n",
            "|        19247| 6529.059999999985|         Norway|\n",
            "|        16180|          13037.54|       Portugal|\n",
            "|        10666| 3786.850000000004|        Finland|\n",
            "|         9479| 3738.550000000003|Channel Islands|\n",
            "|         8188|1266.9499999999998|        Denmark|\n",
            "|         7999| 3879.390000000002|          Italy|\n",
            "|         6317|3920.0699999999997|         Cyprus|\n",
            "|         5234|25108.890000000007|      Singapore|\n",
            "|         4827|1701.5200000000018|        Austria|\n",
            "+-------------+------------------+---------------+\n",
            "only showing top 20 rows\n",
            "\n"
          ]
        }
      ]
    },
    {
      "cell_type": "markdown",
      "source": [
        "### Why is there a difference from t_eCommerce Data?"
      ],
      "metadata": {
        "id": "vgucM_PkR3zm"
      }
    },
    {
      "cell_type": "code",
      "source": [
        "#Countries = sqlContext.sql(\"SELECT sum(Quantity), sum(UnitPrice), Country from eCommerce group by Country order by sum(Quantity) desc\")\n",
        "spark.sql(\"SELECT sum(Quantity), sum(UnitPrice), Country from t_eCommerce group by Country order by sum(Quantity) desc\").show()"
      ],
      "metadata": {
        "id": "364ZnWDQRbVu",
        "outputId": "d87788a5-57bf-4dc8-9aee-29aaa7dccbd3",
        "colab": {
          "base_uri": "https://localhost:8080/"
        }
      },
      "execution_count": 48,
      "outputs": [
        {
          "output_type": "stream",
          "name": "stdout",
          "text": [
            "+-------------+------------------+---------------+\n",
            "|sum(Quantity)|    sum(UnitPrice)|        Country|\n",
            "+-------------+------------------+---------------+\n",
            "|      4263823|2245712.9239976574| United Kingdom|\n",
            "|       200128| 6492.549999999972|    Netherlands|\n",
            "|       142637|48447.190000000934|           EIRE|\n",
            "|       117448| 37666.00000000061|        Germany|\n",
            "|       110480| 43031.99000000053|         France|\n",
            "|        83653| 4054.749999999998|      Australia|\n",
            "|        35637|1806.8300000000006|         Sweden|\n",
            "|        30325| 6813.689999999986|    Switzerland|\n",
            "|        26824| 12633.44999999992|          Spain|\n",
            "|        25218| 814.8600000000002|          Japan|\n",
            "|        23152| 7540.129999999979|        Belgium|\n",
            "|        19247| 6529.059999999987|         Norway|\n",
            "|        16180|          13037.54|       Portugal|\n",
            "|        10666| 3786.850000000005|        Finland|\n",
            "|         9479|3738.5500000000015|Channel Islands|\n",
            "|         8188|1266.9499999999991|        Denmark|\n",
            "|         7999| 3879.390000000005|          Italy|\n",
            "|         6317|3920.0699999999997|         Cyprus|\n",
            "|         5234|25108.890000000007|      Singapore|\n",
            "|         4827|1701.5200000000018|        Austria|\n",
            "+-------------+------------------+---------------+\n",
            "only showing top 20 rows\n",
            "\n"
          ]
        }
      ]
    },
    {
      "cell_type": "markdown",
      "metadata": {
        "id": "8_kpHzaLWQaM"
      },
      "source": [
        "## HIVE context\n",
        "this part adapted from [this notebook](https://colab.research.google.com/github/jmbanda/BigDataProgramming_2019/blob/master/Chapter_5_Loading_and_Saving_Data_in_Spark.ipynb#scrollTo=lOcCViaN4cwC)"
      ]
    },
    {
      "cell_type": "code",
      "metadata": {
        "id": "7lvUDuvxXIS_",
        "colab": {
          "base_uri": "https://localhost:8080/"
        },
        "outputId": "c9d93230-05bd-4df3-f7a8-5afeddf8fbc4"
      },
      "source": [
        "from pyspark.sql import Row\n",
        "from pyspark.sql import HiveContext\n",
        "sqlContext = HiveContext(sc)\n"
      ],
      "execution_count": 49,
      "outputs": [
        {
          "output_type": "stream",
          "name": "stderr",
          "text": [
            "/usr/local/lib/python3.9/dist-packages/pyspark/sql/context.py:718: FutureWarning: HiveContext is deprecated in Spark 2.0.0. Please use SparkSession.builder.enableHiveSupport().getOrCreate() instead.\n",
            "  warnings.warn(\n",
            "/usr/local/lib/python3.9/dist-packages/pyspark/sql/context.py:112: FutureWarning: Deprecated in 3.0.0. Use SparkSession.builder.getOrCreate() instead.\n",
            "  warnings.warn(\n"
          ]
        }
      ]
    },
    {
      "cell_type": "code",
      "metadata": {
        "id": "lREqO3IbZZ_v"
      },
      "source": [
        "data_file = \"datafile2.csv\"\n",
        "raw_data = sc.textFile(data_file)\n",
        "csv_data = raw_data.map(lambda l: l.split(\",\"))"
      ],
      "execution_count": 50,
      "outputs": []
    },
    {
      "cell_type": "code",
      "metadata": {
        "id": "WTGNC9WYZjUd"
      },
      "source": [
        "row_data = csv_data.map(lambda p: Row(\n",
        "    InvoiceNo=p[0], \n",
        "    StockCode=p[1],\n",
        "    Description=p[2],\n",
        "    Quantity=int(p[3]),\n",
        "    InvoiceDate=p[4],\n",
        "    UnitPrice=float(p[5]),\n",
        "    CustomerID=p[6],\n",
        "    Country=p[7]\n",
        "    )\n",
        ")"
      ],
      "execution_count": 51,
      "outputs": []
    },
    {
      "cell_type": "code",
      "metadata": {
        "colab": {
          "base_uri": "https://localhost:8080/"
        },
        "id": "4fHtrrNCaKEw",
        "outputId": "c82e663c-a2e6-485a-aba9-487821abfbbf"
      },
      "source": [
        "ec_schema = spark.createDataFrame(row_data)\n",
        "# Register it as a temp table\n",
        "sqlContext.registerDataFrameAsTable(ec_schema, \"ec_HiveTable\")\n",
        "sqlContext.sql(\"show tables\").show()"
      ],
      "execution_count": 52,
      "outputs": [
        {
          "output_type": "stream",
          "name": "stdout",
          "text": [
            "+---------+------------+-----------+\n",
            "|namespace|   tableName|isTemporary|\n",
            "+---------+------------+-----------+\n",
            "|         |ec_hivetable|       true|\n",
            "|         |   ecommerce|       true|\n",
            "|         | t_ecommerce|       true|\n",
            "+---------+------------+-----------+\n",
            "\n"
          ]
        }
      ]
    },
    {
      "cell_type": "code",
      "metadata": {
        "colab": {
          "base_uri": "https://localhost:8080/"
        },
        "id": "s6dlcHIlarnF",
        "outputId": "4fb052dd-3d80-43e5-a269-22c3fe47a4c8"
      },
      "source": [
        "Countries = sqlContext.sql(\"SELECT * FROM ec_HiveTable limit 20\")\n",
        "Countries.show()"
      ],
      "execution_count": 53,
      "outputs": [
        {
          "output_type": "stream",
          "name": "stdout",
          "text": [
            "+---------+---------+--------------------+--------+--------------+---------+----------+--------------+\n",
            "|InvoiceNo|StockCode|         Description|Quantity|   InvoiceDate|UnitPrice|CustomerID|       Country|\n",
            "+---------+---------+--------------------+--------+--------------+---------+----------+--------------+\n",
            "|   536365|   85123A|WHITE HANGING HEA...|       6|12/1/2010 8:26|     2.55|   17850.0|United Kingdom|\n",
            "|   536365|    71053| WHITE METAL LANTERN|       6|12/1/2010 8:26|     3.39|   17850.0|United Kingdom|\n",
            "|   536365|   84406B|CREAM CUPID HEART...|       8|12/1/2010 8:26|     2.75|   17850.0|United Kingdom|\n",
            "|   536365|   84029G|KNITTED UNION FLA...|       6|12/1/2010 8:26|     3.39|   17850.0|United Kingdom|\n",
            "|   536365|   84029E|RED WOOLLY HOTTIE...|       6|12/1/2010 8:26|     3.39|   17850.0|United Kingdom|\n",
            "|   536365|    22752|SET 7 BABUSHKA NE...|       2|12/1/2010 8:26|     7.65|   17850.0|United Kingdom|\n",
            "|   536365|    21730|GLASS STAR FROSTE...|       6|12/1/2010 8:26|     4.25|   17850.0|United Kingdom|\n",
            "|   536366|    22633|HAND WARMER UNION...|       6|12/1/2010 8:28|     1.85|   17850.0|United Kingdom|\n",
            "|   536366|    22632|HAND WARMER RED P...|       6|12/1/2010 8:28|     1.85|   17850.0|United Kingdom|\n",
            "|   536367|    84879|ASSORTED COLOUR B...|      32|12/1/2010 8:34|     1.69|   13047.0|United Kingdom|\n",
            "|   536367|    22745|POPPY'S PLAYHOUSE...|       6|12/1/2010 8:34|      2.1|   13047.0|United Kingdom|\n",
            "|   536367|    22748|POPPY'S PLAYHOUSE...|       6|12/1/2010 8:34|      2.1|   13047.0|United Kingdom|\n",
            "|   536367|    22749|FELTCRAFT PRINCES...|       8|12/1/2010 8:34|     3.75|   13047.0|United Kingdom|\n",
            "|   536367|    22310|IVORY KNITTED MUG...|       6|12/1/2010 8:34|     1.65|   13047.0|United Kingdom|\n",
            "|   536367|    84969|BOX OF 6 ASSORTED...|       6|12/1/2010 8:34|     4.25|   13047.0|United Kingdom|\n",
            "|   536367|    22623|BOX OF VINTAGE JI...|       3|12/1/2010 8:34|     4.95|   13047.0|United Kingdom|\n",
            "|   536367|    22622|BOX OF VINTAGE AL...|       2|12/1/2010 8:34|     9.95|   13047.0|United Kingdom|\n",
            "|   536367|    21754|HOME BUILDING BLO...|       3|12/1/2010 8:34|     5.95|   13047.0|United Kingdom|\n",
            "|   536367|    21755|LOVE BUILDING BLO...|       3|12/1/2010 8:34|     5.95|   13047.0|United Kingdom|\n",
            "|   536367|    21777|RECIPE BOX WITH M...|       4|12/1/2010 8:34|     7.95|   13047.0|United Kingdom|\n",
            "+---------+---------+--------------------+--------+--------------+---------+----------+--------------+\n",
            "\n"
          ]
        }
      ]
    },
    {
      "cell_type": "code",
      "metadata": {
        "colab": {
          "base_uri": "https://localhost:8080/"
        },
        "id": "6tjq0NMXa3HK",
        "outputId": "62eae451-0961-4747-be21-6b7597357b75"
      },
      "source": [
        "Countries = sqlContext.sql(\"SELECT sum(Quantity) Quantity, round(sum(UnitPrice * Quantity)) Sales, Country from eCommerce group by Country order by Quantity desc\")\n",
        "Countries.show()"
      ],
      "execution_count": 57,
      "outputs": [
        {
          "output_type": "stream",
          "name": "stdout",
          "text": [
            "+--------+---------+---------------+\n",
            "|Quantity|    Sales|        Country|\n",
            "+--------+---------+---------------+\n",
            "| 4263829|8187806.0| United Kingdom|\n",
            "|  200128| 284662.0|    Netherlands|\n",
            "|  142637| 263277.0|           EIRE|\n",
            "|  117448| 221698.0|        Germany|\n",
            "|  110480| 197404.0|         France|\n",
            "|   83653| 137077.0|      Australia|\n",
            "|   35637|  36596.0|         Sweden|\n",
            "|   30325|  56385.0|    Switzerland|\n",
            "|   26824|  54775.0|          Spain|\n",
            "|   25218|  35341.0|          Japan|\n",
            "|   23152|  40911.0|        Belgium|\n",
            "|   19247|  35163.0|         Norway|\n",
            "|   16180|  29367.0|       Portugal|\n",
            "|   10666|  22327.0|        Finland|\n",
            "|    9479|  20086.0|Channel Islands|\n",
            "|    8188|  18768.0|        Denmark|\n",
            "|    7999|  16891.0|          Italy|\n",
            "|    6317|  12946.0|         Cyprus|\n",
            "|    5234|   9120.0|      Singapore|\n",
            "|    4827|  10154.0|        Austria|\n",
            "+--------+---------+---------------+\n",
            "only showing top 20 rows\n",
            "\n"
          ]
        }
      ]
    },
    {
      "cell_type": "code",
      "source": [
        "from datetime import datetime\n",
        "import pytz\n",
        "print('signed off at  ',datetime.now(pytz.timezone('Asia/Kolkata')))"
      ],
      "metadata": {
        "id": "kKvfi_SMsqb3",
        "outputId": "cfbb1680-9bef-4796-ca0a-99ddf82684ad",
        "colab": {
          "base_uri": "https://localhost:8080/"
        }
      },
      "execution_count": null,
      "outputs": [
        {
          "output_type": "stream",
          "name": "stdout",
          "text": [
            "signed off at   2022-11-22 07:47:55.797537+05:30\n"
          ]
        }
      ]
    },
    {
      "cell_type": "markdown",
      "metadata": {
        "id": "XgNM5tawg0Ap"
      },
      "source": [
        "#Chronobooks <br>\n",
        "![alt text](https://1.bp.blogspot.com/-lTiYBkU2qbU/X1er__fvnkI/AAAAAAAAjtE/GhDR3OEGJr4NG43fZPodrQD5kbxtnKebgCLcBGAsYHQ/s600/Footer2020-600x200.png)<hr>\n",
        "Chronotantra and Chronoyantra are two science fiction novels that explore the collapse of human civilisation on Earth and then its rebirth and reincarnation both on Earth as well as on the distant worlds of Mars, Titan and Enceladus. But is it the human civilisation that is being reborn? Or is it some other sentience that is revealing itself. \n",
        "If you have an interest in AI and found this material useful, you may consider buying these novels, in paperback or kindle, from [http://bit.ly/chronobooks](http://bit.ly/chronobooks)"
      ]
    }
  ]
}