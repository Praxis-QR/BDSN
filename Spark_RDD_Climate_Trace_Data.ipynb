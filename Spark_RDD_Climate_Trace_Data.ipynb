{
  "nbformat": 4,
  "nbformat_minor": 0,
  "metadata": {
    "colab": {
      "provenance": [],
      "include_colab_link": true
    },
    "kernelspec": {
      "name": "python3",
      "display_name": "Python 3"
    }
  },
  "cells": [
    {
      "cell_type": "markdown",
      "metadata": {
        "id": "view-in-github",
        "colab_type": "text"
      },
      "source": [
        "<a href=\"https://colab.research.google.com/github/Praxis-QR/BDSN/blob/main/Spark_RDD_Climate_Trace_Data.ipynb\" target=\"_parent\"><img src=\"https://colab.research.google.com/assets/colab-badge.svg\" alt=\"Open In Colab\"/></a>"
      ]
    },
    {
      "cell_type": "markdown",
      "metadata": {
        "id": "Wkrz1wMFvnb_"
      },
      "source": [
        "![alt text](https://github.com/Praxis-QR/RDWH/raw/main/images/YantraJaalBanner.png)<br>\n",
        "\n",
        "\n",
        "<hr>\n",
        "\n",
        "[Prithwis Mukerjee](http://www.linkedin.com/in/prithwis)<br>"
      ]
    },
    {
      "cell_type": "markdown",
      "metadata": {
        "id": "8Oq35CX7KTRf"
      },
      "source": [
        "Apache Spark: An Introduction\n",
        "https://www.dataquest.io/blog/apache-spark/"
      ]
    },
    {
      "cell_type": "markdown",
      "source": [
        "#Get Data"
      ],
      "metadata": {
        "id": "j6XqTemht8Jm"
      }
    },
    {
      "cell_type": "code",
      "metadata": {
        "id": "FBpu9hgTqJMk"
      },
      "source": [
        "# Climate Trace Data stored in github\n",
        "!wget -O firesData.csv -q  'https://github.com/Praxis-QR/BDSN/raw/main/Data2/cropland-fires_country_emissions.csv'\n",
        "!wget -O feedData.csv -q  'https://github.com/Praxis-QR/BDSN/raw/main/Data2/enteric-fermentation-cattle-feedlot_country_emissions.csv'\n",
        "!wget -O pastureData.csv -q  'https://github.com/Praxis-QR/BDSN/raw/main/Data2/enteric-fermentation-cattle-pasture_country_emissions.csv'"
      ],
      "execution_count": 5,
      "outputs": []
    },
    {
      "cell_type": "markdown",
      "metadata": {
        "id": "tlUPgXwhNAi6"
      },
      "source": [
        "# Setup"
      ]
    },
    {
      "cell_type": "markdown",
      "source": [
        "## Install"
      ],
      "metadata": {
        "id": "wXT3w_Sx90-c"
      }
    },
    {
      "cell_type": "code",
      "source": [
        "!pip3 -q install pyspark\n",
        "from pyspark.sql import SparkSession\n",
        "spark = SparkSession.builder.master(\"local[*]\").getOrCreate()\n",
        "sc = spark.sparkContext\n",
        "sc"
      ],
      "metadata": {
        "colab": {
          "base_uri": "https://localhost:8080/",
          "height": 248
        },
        "id": "CK-kbkHu9-Kn",
        "outputId": "251cd750-b35f-4716-fb38-11cac90f88e6"
      },
      "execution_count": 2,
      "outputs": [
        {
          "output_type": "stream",
          "name": "stdout",
          "text": [
            "\u001b[2K     \u001b[90m━━━━━━━━━━━━━━━━━━━━━━━━━━━━━━━━━━━━━━━━\u001b[0m \u001b[32m316.9/316.9 MB\u001b[0m \u001b[31m2.6 MB/s\u001b[0m eta \u001b[36m0:00:00\u001b[0m\n",
            "\u001b[?25h  Preparing metadata (setup.py) ... \u001b[?25l\u001b[?25hdone\n",
            "  Building wheel for pyspark (setup.py) ... \u001b[?25l\u001b[?25hdone\n"
          ]
        },
        {
          "output_type": "execute_result",
          "data": {
            "text/plain": [
              "<SparkContext master=local[*] appName=pyspark-shell>"
            ],
            "text/html": [
              "\n",
              "        <div>\n",
              "            <p><b>SparkContext</b></p>\n",
              "\n",
              "            <p><a href=\"http://8e07f93079d4:4040\">Spark UI</a></p>\n",
              "\n",
              "            <dl>\n",
              "              <dt>Version</dt>\n",
              "                <dd><code>v3.5.0</code></dd>\n",
              "              <dt>Master</dt>\n",
              "                <dd><code>local[*]</code></dd>\n",
              "              <dt>AppName</dt>\n",
              "                <dd><code>pyspark-shell</code></dd>\n",
              "            </dl>\n",
              "        </div>\n",
              "        "
            ]
          },
          "metadata": {},
          "execution_count": 2
        }
      ]
    },
    {
      "cell_type": "code",
      "metadata": {
        "id": "jJTLrfSML1lh",
        "colab": {
          "base_uri": "https://localhost:8080/"
        },
        "outputId": "54624f33-b875-483a-90a4-d060cb3ba75d"
      },
      "source": [
        "baseData = sc.textFile(\"/content/*.csv\")\n",
        "baseData.take(5)"
      ],
      "execution_count": 8,
      "outputs": [
        {
          "output_type": "execute_result",
          "data": {
            "text/plain": [
              "['iso3_country,start_time,end_time,original_inventory_sector,gas,emissions_quantity,emissions_quantity_units,temporal_granularity,created_date,modified_date',\n",
              " 'AND,2019-01-01 00:00:00,2019-12-31 00:00:00,cropland-fires,co2e_100yr,94.5674014716331,tonnes,annual,2023-10-06 00:00:00,',\n",
              " 'AND,2019-01-01 00:00:00,2019-12-31 00:00:00,cropland-fires,co2e_20yr,103.08083034790656,tonnes,annual,2023-10-06 00:00:00,',\n",
              " 'ARE,2019-01-01 00:00:00,2019-12-31 00:00:00,cropland-fires,co2,9013.33384477539,tonnes,annual,2023-10-06 00:00:00,',\n",
              " 'ARE,2019-01-01 00:00:00,2019-12-31 00:00:00,cropland-fires,ch4,16.0633661376748,tonnes,annual,2023-10-06 00:00:00,']"
            ]
          },
          "metadata": {},
          "execution_count": 8
        }
      ]
    },
    {
      "cell_type": "code",
      "source": [
        "baseData.count()"
      ],
      "metadata": {
        "colab": {
          "base_uri": "https://localhost:8080/"
        },
        "id": "prLxJVHjQ6w-",
        "outputId": "c3b9ef99-21b3-47df-9ad2-e7fdb69eca00"
      },
      "execution_count": 9,
      "outputs": [
        {
          "output_type": "execute_result",
          "data": {
            "text/plain": [
              "33284"
            ]
          },
          "metadata": {},
          "execution_count": 9
        }
      ]
    },
    {
      "cell_type": "markdown",
      "metadata": {
        "id": "1NAKnX_9NJnC"
      },
      "source": [
        "# Daily Show"
      ]
    },
    {
      "cell_type": "code",
      "metadata": {
        "id": "OI8xnT_XUCuV",
        "outputId": "487eab96-ac54-431b-a125-28132d7ffac1",
        "colab": {
          "base_uri": "https://localhost:8080/"
        }
      },
      "source": [
        "#\n",
        "# non Pythonic, non Spark of doing things\n",
        "#\n",
        "import csv\n",
        "\n",
        "f = open('daily_show_guests.csv')\n",
        "tally_D = dict()\n",
        "for line in f:\n",
        "    data_line = line.split(',')\n",
        "    year = data_line[0]\n",
        "    if year in tally_D.keys():\n",
        "       tally_D[year] = tally_D[year] + 1\n",
        "    else:\n",
        "       tally_D[year] = 1\n",
        "\n",
        "print(tally_D)"
      ],
      "execution_count": null,
      "outputs": [
        {
          "output_type": "stream",
          "name": "stdout",
          "text": [
            "{'YEAR': 1, '1999': 166, '2000': 169, '2001': 157, '2002': 159, '2003': 166, '2004': 164, '2005': 162, '2006': 161, '2007': 141, '2008': 164, '2009': 163, '2010': 165, '2011': 163, '2012': 164, '2013': 166, '2014': 163, '2015': 100}\n"
          ]
        }
      ]
    },
    {
      "cell_type": "markdown",
      "source": [
        "## Introducing Spark"
      ],
      "metadata": {
        "id": "gS37fAsGuB8P"
      }
    },
    {
      "cell_type": "code",
      "metadata": {
        "id": "GZuICvffNVDq",
        "colab": {
          "base_uri": "https://localhost:8080/"
        },
        "outputId": "58b398dd-3b34-4f03-88cd-3f82534973a5"
      },
      "source": [
        "daily_show = raw_data.map(lambda line: line.split(','))\n",
        "daily_show.take(5)"
      ],
      "execution_count": null,
      "outputs": [
        {
          "output_type": "execute_result",
          "data": {
            "text/plain": [
              "[['YEAR', 'GoogleKnowlege_Occupation', 'Show', 'Group', 'Raw_Guest_List'],\n",
              " ['1999', 'actor', '1/11/99', 'Acting', 'Michael J. Fox'],\n",
              " ['1999', 'Comedian', '1/12/99', 'Comedy', 'Sandra Bernhard'],\n",
              " ['1999', 'television actress', '1/13/99', 'Acting', 'Tracey Ullman'],\n",
              " ['1999', 'film actress', '1/14/99', 'Acting', 'Gillian Anderson']]"
            ]
          },
          "metadata": {},
          "execution_count": 9
        }
      ]
    },
    {
      "cell_type": "code",
      "metadata": {
        "id": "8ViRYoAyMiMx",
        "colab": {
          "base_uri": "https://localhost:8080/"
        },
        "outputId": "63364b67-8454-443e-e4df-70184ecaae41"
      },
      "source": [
        "tallyMap = daily_show.map(lambda x: (x[0], 1))\n",
        "tallyMap.take(5)\n"
      ],
      "execution_count": null,
      "outputs": [
        {
          "output_type": "execute_result",
          "data": {
            "text/plain": [
              "[('YEAR', 1), ('1999', 1), ('1999', 1), ('1999', 1), ('1999', 1)]"
            ]
          },
          "metadata": {},
          "execution_count": 10
        }
      ]
    },
    {
      "cell_type": "code",
      "metadata": {
        "id": "K4kpBE3VNbT6",
        "colab": {
          "base_uri": "https://localhost:8080/"
        },
        "outputId": "28884a5b-f144-4bc3-e5ca-7f613a126faf"
      },
      "source": [
        "tallyRed = tallyMap.reduceByKey(lambda x,y: x+y)\n",
        "tallyRed.take(5)"
      ],
      "execution_count": null,
      "outputs": [
        {
          "output_type": "execute_result",
          "data": {
            "text/plain": [
              "[('YEAR', 1), ('2002', 159), ('2003', 166), ('2004', 164), ('2007', 141)]"
            ]
          },
          "metadata": {},
          "execution_count": 11
        }
      ]
    },
    {
      "cell_type": "code",
      "metadata": {
        "id": "WRgW0JoSOISo",
        "colab": {
          "base_uri": "https://localhost:8080/"
        },
        "outputId": "abd898a8-a86a-4c89-bbb2-c49a55a05ff1"
      },
      "source": [
        "tally = daily_show.map(lambda x: (x[0], 1)).reduceByKey(lambda x,y: x+y)\n",
        "print(tally)"
      ],
      "execution_count": null,
      "outputs": [
        {
          "output_type": "stream",
          "name": "stdout",
          "text": [
            "PythonRDD[14] at RDD at PythonRDD.scala:53\n"
          ]
        }
      ]
    },
    {
      "cell_type": "code",
      "metadata": {
        "colab": {
          "base_uri": "https://localhost:8080/"
        },
        "id": "2YTnfPs4duuS",
        "outputId": "35f88621-7158-4571-b06e-135a3c61db3f"
      },
      "source": [
        "tally.count()"
      ],
      "execution_count": null,
      "outputs": [
        {
          "output_type": "execute_result",
          "data": {
            "text/plain": [
              "18"
            ]
          },
          "metadata": {},
          "execution_count": 13
        }
      ]
    },
    {
      "cell_type": "code",
      "metadata": {
        "id": "N8teWmXNOS4M",
        "colab": {
          "base_uri": "https://localhost:8080/"
        },
        "outputId": "08c4552b-525e-45e5-f69a-90616629b885"
      },
      "source": [
        "tally.take(tally.count())"
      ],
      "execution_count": null,
      "outputs": [
        {
          "output_type": "execute_result",
          "data": {
            "text/plain": [
              "[('YEAR', 1),\n",
              " ('2002', 159),\n",
              " ('2003', 166),\n",
              " ('2004', 164),\n",
              " ('2007', 141),\n",
              " ('2010', 165),\n",
              " ('2011', 163),\n",
              " ('2012', 164),\n",
              " ('2013', 166),\n",
              " ('2014', 163),\n",
              " ('2015', 100),\n",
              " ('1999', 166),\n",
              " ('2000', 169),\n",
              " ('2001', 157),\n",
              " ('2005', 162),\n",
              " ('2006', 161),\n",
              " ('2008', 164),\n",
              " ('2009', 163)]"
            ]
          },
          "metadata": {},
          "execution_count": 14
        }
      ]
    },
    {
      "cell_type": "code",
      "metadata": {
        "id": "wGiSNZfqPrgt"
      },
      "source": [
        "def filter_year(line):\n",
        "    if line[0] == 'YEAR':\n",
        "        return False\n",
        "    else:\n",
        "        return True\n",
        "filtered_daily_show = daily_show.filter(lambda line: filter_year(line))"
      ],
      "execution_count": null,
      "outputs": []
    },
    {
      "cell_type": "code",
      "metadata": {
        "id": "T8pkylxVP7DN",
        "colab": {
          "base_uri": "https://localhost:8080/"
        },
        "outputId": "2149b9f9-2e2b-4b0c-aedd-7a4aaa052812"
      },
      "source": [
        "tally2 = filtered_daily_show.map(lambda x: (x[0], 1)).reduceByKey(lambda x,y: x+y)\n",
        "print(tally2)"
      ],
      "execution_count": null,
      "outputs": [
        {
          "output_type": "stream",
          "name": "stdout",
          "text": [
            "PythonRDD[23] at RDD at PythonRDD.scala:53\n"
          ]
        }
      ]
    },
    {
      "cell_type": "code",
      "metadata": {
        "id": "gnq4co6iQFFH",
        "colab": {
          "base_uri": "https://localhost:8080/"
        },
        "outputId": "982ac126-9721-46eb-ac63-39efbda3ceae"
      },
      "source": [
        "tally2.take(tally2.count())"
      ],
      "execution_count": null,
      "outputs": [
        {
          "output_type": "execute_result",
          "data": {
            "text/plain": [
              "[('2002', 159),\n",
              " ('2003', 166),\n",
              " ('2004', 164),\n",
              " ('2007', 141),\n",
              " ('2010', 165),\n",
              " ('2011', 163),\n",
              " ('2012', 164),\n",
              " ('2013', 166),\n",
              " ('2014', 163),\n",
              " ('2015', 100),\n",
              " ('1999', 166),\n",
              " ('2000', 169),\n",
              " ('2001', 157),\n",
              " ('2005', 162),\n",
              " ('2006', 161),\n",
              " ('2008', 164),\n",
              " ('2009', 163)]"
            ]
          },
          "metadata": {},
          "execution_count": 17
        }
      ]
    },
    {
      "cell_type": "code",
      "metadata": {
        "id": "rAepMpRvQVtd",
        "colab": {
          "base_uri": "https://localhost:8080/"
        },
        "outputId": "3e5d8290-0093-4b19-ee73-a063934c4752"
      },
      "source": [
        "filtered_daily_show.filter(lambda line: line[1] != '') \\\n",
        "                   .map(lambda line: (line[1].lower(), 1)) \\\n",
        "                   .reduceByKey(lambda x,y: x+y) \\\n",
        "                   .take(20)"
      ],
      "execution_count": null,
      "outputs": [
        {
          "output_type": "execute_result",
          "data": {
            "text/plain": [
              "[('actor', 596),\n",
              " ('film actress', 21),\n",
              " ('model', 9),\n",
              " ('stand-up comedian', 44),\n",
              " ('actress', 271),\n",
              " ('television personality', 13),\n",
              " ('comic', 2),\n",
              " ('musician', 19),\n",
              " ('film actor', 19),\n",
              " ('journalist', 253),\n",
              " ('us senator', 50),\n",
              " ('vocalist', 2),\n",
              " ('film director', 24),\n",
              " ('singer', 23),\n",
              " ('muppet', 2),\n",
              " ('american television personality', 3),\n",
              " ('rapper', 10),\n",
              " ('football player', 1),\n",
              " ('former mayor of cincinatti', 2),\n",
              " ('businesswoman', 2)]"
            ]
          },
          "metadata": {},
          "execution_count": 18
        }
      ]
    },
    {
      "cell_type": "markdown",
      "metadata": {
        "id": "5v9s3gDsVX0q"
      },
      "source": [
        "## Extra Sorting"
      ]
    },
    {
      "cell_type": "code",
      "metadata": {
        "id": "--xXTk9vhnei",
        "colab": {
          "base_uri": "https://localhost:8080/"
        },
        "outputId": "03df2c8b-b224-4155-bfd6-352abc304010"
      },
      "source": [
        "filtered_daily_show.filter(lambda line: line[1] != '') \\\n",
        "                   .map(lambda line: (line[1].lower(), 1)) \\\n",
        "                   .reduceByKey(lambda x,y: x+y) \\\n",
        "                   .take(20)"
      ],
      "execution_count": null,
      "outputs": [
        {
          "output_type": "execute_result",
          "data": {
            "text/plain": [
              "[('actor', 596),\n",
              " ('film actress', 21),\n",
              " ('model', 9),\n",
              " ('stand-up comedian', 44),\n",
              " ('actress', 271),\n",
              " ('television personality', 13),\n",
              " ('comic', 2),\n",
              " ('musician', 19),\n",
              " ('film actor', 19),\n",
              " ('journalist', 253),\n",
              " ('us senator', 50),\n",
              " ('vocalist', 2),\n",
              " ('film director', 24),\n",
              " ('singer', 23),\n",
              " ('muppet', 2),\n",
              " ('american television personality', 3),\n",
              " ('rapper', 10),\n",
              " ('football player', 1),\n",
              " ('former mayor of cincinatti', 2),\n",
              " ('businesswoman', 2)]"
            ]
          },
          "metadata": {},
          "execution_count": 19
        }
      ]
    },
    {
      "cell_type": "code",
      "metadata": {
        "id": "NMDJhWpfh6wy",
        "colab": {
          "base_uri": "https://localhost:8080/"
        },
        "outputId": "23143c87-c80b-4aa6-c300-ed82da841082"
      },
      "source": [
        "#sorted by profession\n",
        "#not sorted by number of appearances\n",
        "# in sortbykey, 1st parameter determines direction of sort, second parameter is optional)\n",
        "# in sortbykey, 2nd parameter determines number of partition in output RDD\n",
        "# see next two cells\n",
        "filtered_daily_show.filter(lambda line: line[1] != '') \\\n",
        "                   .map(lambda line: (line[1].lower(), 1)) \\\n",
        "                   .reduceByKey(lambda x,y: x+y) \\\n",
        "                   .sortByKey(0, 1) \\\n",
        "                   .take(20)"
      ],
      "execution_count": null,
      "outputs": [
        {
          "output_type": "execute_result",
          "data": {
            "text/plain": [
              "[('writer', 52),\n",
              " ('white house sommunications director', 5),\n",
              " ('white house official', 1),\n",
              " ('vocalist', 2),\n",
              " ('vice president', 2),\n",
              " ('us senator', 50),\n",
              " ('us secretary of energy', 1),\n",
              " ('us secretary of defense', 1),\n",
              " ('us secetary of education', 1),\n",
              " ('us representative', 9),\n",
              " ('us president', 10),\n",
              " ('us permanent representative to nato', 1),\n",
              " ('us official', 1),\n",
              " ('us assistant attorney', 1),\n",
              " ('university professor', 2),\n",
              " ('united states senator', 15),\n",
              " ('united states senate member', 4),\n",
              " ('united states secretary of the navy', 1),\n",
              " ('united states secretary of housing and urban development', 1),\n",
              " ('united states secretary of defense', 1)]"
            ]
          },
          "metadata": {},
          "execution_count": 20
        }
      ]
    },
    {
      "cell_type": "code",
      "metadata": {
        "colab": {
          "base_uri": "https://localhost:8080/"
        },
        "id": "xjKV1b5ejaCZ",
        "outputId": "7f1731b2-6c4e-4d35-d0d0-9b1ddcde359b"
      },
      "source": [
        "#sorted by profession\n",
        "#not sorted by number of appearances\n",
        "# in sortbykey, 1st parameter determines direction of sort, second parameter is optional)\n",
        "# in sortbykey, 2nd parameter determines number of partition in output RDD\n",
        "# see next two cells\n",
        "filtered_daily_show.filter(lambda line: line[1] != '') \\\n",
        "                   .map(lambda line: (line[1].lower(), 1)) \\\n",
        "                   .reduceByKey(lambda x,y: x+y) \\\n",
        "                   .sortByKey(1, 1) \\\n",
        "                   .take(20)"
      ],
      "execution_count": null,
      "outputs": [
        {
          "output_type": "execute_result",
          "data": {
            "text/plain": [
              "[('-', 1),\n",
              " ('0', 4),\n",
              " ('academic', 6),\n",
              " ('accountant', 1),\n",
              " ('activist', 14),\n",
              " ('actor', 596),\n",
              " ('actress', 271),\n",
              " ('administrator', 1),\n",
              " ('admiral', 2),\n",
              " ('adviser', 4),\n",
              " ('advocate', 1),\n",
              " ('aei president', 1),\n",
              " ('afghan politician', 1),\n",
              " ('american football quarterback', 3),\n",
              " ('american football running back', 1),\n",
              " ('american football wide receiver', 2),\n",
              " ('american football wide reciever', 1),\n",
              " ('american political figure', 2),\n",
              " ('american politician', 8),\n",
              " ('american television personality', 3)]"
            ]
          },
          "metadata": {},
          "execution_count": 21
        }
      ]
    },
    {
      "cell_type": "code",
      "metadata": {
        "id": "aZl2duauLIV-",
        "colab": {
          "base_uri": "https://localhost:8080/"
        },
        "outputId": "626ed2ef-bcf5-420f-bfcd-b084ecf87865"
      },
      "source": [
        "!rm -r dumpDir\n",
        "filtered_daily_show.filter(lambda line: line[1] != '') \\\n",
        "                   .map(lambda line: (line[1].lower(), 1)) \\\n",
        "                   .reduceByKey(lambda x,y: x+y) \\\n",
        "                   .sortByKey(0,2)\\\n",
        "                   .saveAsTextFile(\"dumpDir\")"
      ],
      "execution_count": null,
      "outputs": [
        {
          "output_type": "stream",
          "name": "stdout",
          "text": [
            "rm: cannot remove 'dumpDir': No such file or directory\n"
          ]
        }
      ]
    },
    {
      "cell_type": "code",
      "metadata": {
        "colab": {
          "base_uri": "https://localhost:8080/"
        },
        "id": "KkzLto2UlDk2",
        "outputId": "315eac03-6a1a-4d80-f7d2-7a4ecf3545d4"
      },
      "source": [
        "# The original output\n",
        "#\n",
        "filtered_daily_show.filter(lambda line: line[1] != '') \\\n",
        "                   .map(lambda line: (line[1].lower(), 1)) \\\n",
        "                   .reduceByKey(lambda x,y: x+y) \\\n",
        "                   .take(10)"
      ],
      "execution_count": null,
      "outputs": [
        {
          "output_type": "execute_result",
          "data": {
            "text/plain": [
              "[('actor', 596),\n",
              " ('film actress', 21),\n",
              " ('model', 9),\n",
              " ('stand-up comedian', 44),\n",
              " ('actress', 271),\n",
              " ('television personality', 13),\n",
              " ('comic', 2),\n",
              " ('musician', 19),\n",
              " ('film actor', 19),\n",
              " ('journalist', 253)]"
            ]
          },
          "metadata": {},
          "execution_count": 23
        }
      ]
    },
    {
      "cell_type": "code",
      "metadata": {
        "id": "25HW89np4WeS",
        "colab": {
          "base_uri": "https://localhost:8080/"
        },
        "outputId": "dd3e0d92-e656-4afc-a741-5d19b4e4c1d2"
      },
      "source": [
        "# Flip the key and value\n",
        "#\n",
        "filtered_daily_show.filter(lambda line: line[1] != '') \\\n",
        "                   .map(lambda line: (line[1].lower(), 1)) \\\n",
        "                   .reduceByKey(lambda x,y: x+y) \\\n",
        "                   .map(lambda x: (x[1],x[0]))\\\n",
        "                   .take(10)"
      ],
      "execution_count": null,
      "outputs": [
        {
          "output_type": "execute_result",
          "data": {
            "text/plain": [
              "[(596, 'actor'),\n",
              " (21, 'film actress'),\n",
              " (9, 'model'),\n",
              " (44, 'stand-up comedian'),\n",
              " (271, 'actress'),\n",
              " (13, 'television personality'),\n",
              " (2, 'comic'),\n",
              " (19, 'musician'),\n",
              " (19, 'film actor'),\n",
              " (253, 'journalist')]"
            ]
          },
          "metadata": {},
          "execution_count": 24
        }
      ]
    },
    {
      "cell_type": "code",
      "source": [
        "# Flip the key and value\n",
        "#\n",
        "filtered_daily_show.filter(lambda line: line[1] != '') \\\n",
        "                   .map(lambda line: (line[1].lower(), 1)) \\\n",
        "                   .reduceByKey(lambda x,y: x+y) \\\n",
        "                   .map(lambda x: (x[1],x[0]))\\\n",
        "                   .sortByKey(0, 1) \\\n",
        "                   .take(10)"
      ],
      "metadata": {
        "id": "taXUBDD8mHx4",
        "outputId": "6683cd2d-7ccf-4c42-bc36-b1c1a8059a4f",
        "colab": {
          "base_uri": "https://localhost:8080/"
        }
      },
      "execution_count": null,
      "outputs": [
        {
          "output_type": "execute_result",
          "data": {
            "text/plain": [
              "[(596, 'actor'),\n",
              " (271, 'actress'),\n",
              " (253, 'journalist'),\n",
              " (152, 'author'),\n",
              " (103, 'comedian'),\n",
              " (52, 'writer'),\n",
              " (50, 'us senator'),\n",
              " (44, 'stand-up comedian'),\n",
              " (39, 'television host'),\n",
              " (37, 'professor')]"
            ]
          },
          "metadata": {},
          "execution_count": 25
        }
      ]
    },
    {
      "cell_type": "code",
      "metadata": {
        "id": "4WQK_2IGLAHN",
        "colab": {
          "base_uri": "https://localhost:8080/"
        },
        "outputId": "3b47cfd9-b0dc-427f-e41f-06e64390d8ac"
      },
      "source": [
        "#to sort by number of appearances, we first need to flip the key and value\n",
        "#\n",
        "\n",
        "# sort 1st arg configures ascending sort, 2nd configures 1 task\n",
        "# https://stackoverflow.com/questions/38569052/how-do-i-invert-key-and-value-in-rdd-in-python-3-pyspark\n",
        "\n",
        "filtered_daily_show.filter(lambda line: line[1] != '') \\\n",
        "                   .map(lambda line: (line[1].lower(), 1)) \\\n",
        "                   .reduceByKey(lambda x,y: x+y) \\\n",
        "                   .map(lambda x: (x[1],x[0]))\\\n",
        "                   .sortByKey(0, 1) \\\n",
        "                   .map(lambda x: (x[1],x[0])) \\\n",
        "                   .take(10)"
      ],
      "execution_count": null,
      "outputs": [
        {
          "output_type": "execute_result",
          "data": {
            "text/plain": [
              "[('actor', 596),\n",
              " ('actress', 271),\n",
              " ('journalist', 253),\n",
              " ('author', 152),\n",
              " ('comedian', 103),\n",
              " ('writer', 52),\n",
              " ('us senator', 50),\n",
              " ('stand-up comedian', 44),\n",
              " ('television host', 39),\n",
              " ('professor', 37)]"
            ]
          },
          "metadata": {},
          "execution_count": 26
        }
      ]
    },
    {
      "cell_type": "code",
      "source": [
        "topTen = \\\n",
        "filtered_daily_show.filter(lambda line: line[1] != '') \\\n",
        "                   .map(lambda line: (line[1].lower(), 1)) \\\n",
        "                   .reduceByKey(lambda x,y: x+y) \\\n",
        "                   .map(lambda x: (x[1],x[0]))\\\n",
        "                   .sortByKey(0, 1) \\\n",
        "                   .map(lambda x: (x[1],x[0])) \\\n",
        "                   .take(10)"
      ],
      "metadata": {
        "id": "rXENKF80nIua"
      },
      "execution_count": null,
      "outputs": []
    },
    {
      "cell_type": "code",
      "source": [
        "for t in topTen:\n",
        "    print(t[0],t[1])"
      ],
      "metadata": {
        "id": "crpP0jnSnTE_",
        "outputId": "e61e186c-188f-4306-8c54-52f4c74a14c9",
        "colab": {
          "base_uri": "https://localhost:8080/"
        }
      },
      "execution_count": null,
      "outputs": [
        {
          "output_type": "stream",
          "name": "stdout",
          "text": [
            "actor 596\n",
            "actress 271\n",
            "journalist 253\n",
            "author 152\n",
            "comedian 103\n",
            "writer 52\n",
            "us senator 50\n",
            "stand-up comedian 44\n",
            "television host 39\n",
            "professor 37\n"
          ]
        }
      ]
    },
    {
      "cell_type": "markdown",
      "source": [
        "#Other Sort Methods"
      ],
      "metadata": {
        "id": "kr_uJdqUm48S"
      }
    },
    {
      "cell_type": "code",
      "metadata": {
        "id": "ue6wvD6xX8LX",
        "colab": {
          "base_uri": "https://localhost:8080/"
        },
        "outputId": "daeafb71-c50f-4ff5-fd0b-1ff66a6b6758"
      },
      "source": [
        "filtered_daily_show.filter(lambda line: line[1] != '') \\\n",
        "                   .map(lambda line: (line[1].lower(), 1)) \\\n",
        "                   .reduceByKey(lambda x,y: x+y) \\\n",
        "                   .sortBy(lambda x : -1*x[1])\\\n",
        "                   .take(10)"
      ],
      "execution_count": null,
      "outputs": [
        {
          "output_type": "execute_result",
          "data": {
            "text/plain": [
              "[('actor', 596),\n",
              " ('actress', 271),\n",
              " ('journalist', 253),\n",
              " ('author', 152),\n",
              " ('comedian', 103),\n",
              " ('writer', 52),\n",
              " ('us senator', 50),\n",
              " ('stand-up comedian', 44),\n",
              " ('television host', 39),\n",
              " ('professor', 37)]"
            ]
          },
          "metadata": {},
          "execution_count": 29
        }
      ]
    },
    {
      "cell_type": "code",
      "metadata": {
        "id": "2PNZ2615Q3LD",
        "colab": {
          "base_uri": "https://localhost:8080/"
        },
        "outputId": "e93a6922-d26d-4748-8ceb-9e675fa1c7db"
      },
      "source": [
        "filtered_daily_show.filter(lambda line: line[1] != '') \\\n",
        "                   .map(lambda line: (line[1].lower(), 1)) \\\n",
        "                   .reduceByKey(lambda x,y: x+y) \\\n",
        "                   .takeOrdered(10, lambda aTuple:-1*aTuple[1])"
      ],
      "execution_count": null,
      "outputs": [
        {
          "output_type": "execute_result",
          "data": {
            "text/plain": [
              "[('actor', 596),\n",
              " ('actress', 271),\n",
              " ('journalist', 253),\n",
              " ('author', 152),\n",
              " ('comedian', 103),\n",
              " ('writer', 52),\n",
              " ('us senator', 50),\n",
              " ('stand-up comedian', 44),\n",
              " ('television host', 39),\n",
              " ('professor', 37)]"
            ]
          },
          "metadata": {},
          "execution_count": 30
        }
      ]
    },
    {
      "cell_type": "code",
      "metadata": {
        "id": "sM4xcb4fXSdF",
        "outputId": "2a12e61c-0e73-4462-b8a8-96031dc32d58",
        "colab": {
          "base_uri": "https://localhost:8080/"
        }
      },
      "source": [
        "from datetime import datetime\n",
        "import pytz\n",
        "print('signed off at  ',datetime.now(pytz.timezone('Asia/Kolkata')))"
      ],
      "execution_count": null,
      "outputs": [
        {
          "output_type": "stream",
          "name": "stdout",
          "text": [
            "signed off at   2023-11-17 07:03:33.192292+05:30\n"
          ]
        }
      ]
    },
    {
      "cell_type": "markdown",
      "metadata": {
        "id": "NBwtjLY2hJFk"
      },
      "source": [
        "#Chronobooks <br>\n",
        "Two science fiction novels by Prithwis Mukerjee. A dystopian Earth. A technocratic society managed by artificial intelligence. Escape and epiphany on Mars. Can man and machine, carbon and silicon explore and escape into other dimensions of existence? An Indic perspective rooted in Advaita Vedanta and the Divine Feminine.  [More information](http://bit.ly/chronobooks) <br>\n",
        "![alt text](https://github.com/Praxis-QR/RDWH/raw/main/images/CTCYFooter-1.png)"
      ]
    }
  ]
}