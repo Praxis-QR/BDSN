{
  "nbformat": 4,
  "nbformat_minor": 0,
  "metadata": {
    "colab": {
      "name": "BDSN_ShipCrew Linear Regression",
      "provenance": [],
      "collapsed_sections": [],
      "toc_visible": true,
      "include_colab_link": true
    },
    "kernelspec": {
      "name": "python3",
      "display_name": "Python 3"
    }
  },
  "cells": [
    {
      "cell_type": "markdown",
      "metadata": {
        "id": "view-in-github",
        "colab_type": "text"
      },
      "source": [
        "<a href=\"https://colab.research.google.com/github/Praxis-QR/BDSN/blob/main/BDSN_ShipCrew_Linear_Regression.ipynb\" target=\"_parent\"><img src=\"https://colab.research.google.com/assets/colab-badge.svg\" alt=\"Open In Colab\"/></a>"
      ]
    },
    {
      "cell_type": "markdown",
      "metadata": {
        "id": "pKSccZgVu7J8"
      },
      "source": [
        "![CC-BY-SA](https://licensebuttons.net/l/by-sa/3.0/88x31.png)<br>\n",
        "<hr>\n",
        "\n",
        "![alt text](http://1.bp.blogspot.com/-nqAGzznZQNo/UwS8rxjfXeI/AAAAAAAABTA/nunmRLowpps/s1600/PraxisLogo.gif)<br>\n",
        "[Data Science Program](http://praxis.ac.in/Programs/business-analytics/)\n",
        "\n",
        "<hr>\n",
        "\n",
        "[Prithwis Mukerjee](http://www.yantrajaal.com)<br>"
      ]
    },
    {
      "cell_type": "markdown",
      "metadata": {
        "id": "bR-6MzHBr88H"
      },
      "source": [
        "# BDSN Ship Crews <br>\n",
        "https://www.geeksforgeeks.org/pyspark-linear-regression-using-apache-mllib/"
      ]
    },
    {
      "cell_type": "markdown",
      "metadata": {
        "id": "yqGXJ8DIxzWN"
      },
      "source": [
        "# Initialise"
      ]
    },
    {
      "cell_type": "markdown",
      "source": [
        "## Deprecated -- do not use"
      ],
      "metadata": {
        "id": "HICvwwOMsbcj"
      }
    },
    {
      "cell_type": "code",
      "metadata": {
        "id": "KOr826zIx3Kh"
      },
      "source": [
        "#!apt-get update > /dev/null\n",
        "#!apt-get install openjdk-8-jdk-headless -qq > /dev/null\n",
        "#!wget -q http://apache.osuosl.org/spark/spark-2.2.2/spark-2.2.2-bin-hadoop2.7.tgz\n",
        "#!wget -q http://apache.osuosl.org/spark/spark-2.4.0/spark-2.4.0-bin-hadoop2.7.tgz\n",
        "#wget -q http://apache.osuosl.org/spark/spark-2.4.5/spark-2.4.5-bin-hadoop2.7.tgz\n",
        "#!wget -q http://apache.osuosl.org/spark/spark-2.4.6/spark-2.4.6-bin-hadoop2.7.tgz\n",
        "#!wget -q http://apache.osuosl.org/spark/spark-3.0.1/spark-3.0.1-bin-hadoop3.2.tgz\n",
        "#!wget -q http://apache.osuosl.org/spark/spark-3.1.2/spark-3.1.2-bin-hadoop3.2.tgz\n",
        "#\n",
        "# if the current version of Spark is not used, there may be errors\n",
        "# check here for current versions http://apache.osuosl.org/spark\n",
        "#\n",
        "#!tar xf spark-2.4.0-bin-hadoop2.7.tgz\n",
        "#!tar xf spark-2.4.5-bin-hadoop2.7.tgz\n",
        "#!tar xf spark-2.4.6-bin-hadoop2.7.tgz\n",
        "#!tar xf spark-3.0.1-bin-hadoop3.2.tgz\n",
        "#!tar xf spark-3.1.2-bin-hadoop3.2.tgz\n",
        "#!pip install -q findspark\n",
        "#!pip install -q pyspark"
      ],
      "execution_count": null,
      "outputs": []
    },
    {
      "cell_type": "code",
      "metadata": {
        "id": "0K_l58UKyQ65"
      },
      "source": [
        "#import os\n",
        "#os.environ[\"JAVA_HOME\"] = \"/usr/lib/jvm/java-8-openjdk-amd64\"\n",
        "#os.environ[\"SPARK_HOME\"] = \"/content/spark-2.4.0-bin-hadoop2.7\"\n",
        "#os.environ[\"SPARK_HOME\"] = \"/content/spark-2.4.5-bin-hadoop2.7\"\n",
        "#os.environ[\"SPARK_HOME\"] = \"/content/spark-2.4.6-bin-hadoop2.7\"\n",
        "#os.environ[\"SPARK_HOME\"] = \"/content/spark-3.0.1-bin-hadoop3.2\"\n",
        "#os.environ[\"SPARK_HOME\"] = \"/content/spark-3.1.2-bin-hadoop3.2\""
      ],
      "execution_count": null,
      "outputs": []
    },
    {
      "cell_type": "markdown",
      "source": [
        "## Install Spark, current version"
      ],
      "metadata": {
        "id": "ZLTIcLnstJT_"
      }
    },
    {
      "cell_type": "code",
      "metadata": {
        "id": "f3hdu86YyVEW",
        "colab": {
          "base_uri": "https://localhost:8080/",
          "height": 248
        },
        "outputId": "04b3f030-2187-43f5-adc5-2adbdffca72f"
      },
      "source": [
        "#import findspark\n",
        "#findspark.init()\n",
        "!pip3 install -q pyspark\n",
        "from pyspark.sql import SparkSession\n",
        "spark = SparkSession.builder.appName('Praxis_Shipping').master(\"local[*]\").getOrCreate()\n",
        "sc = spark.sparkContext\n",
        "sc"
      ],
      "execution_count": 1,
      "outputs": [
        {
          "output_type": "stream",
          "name": "stdout",
          "text": [
            "\u001b[K     |████████████████████████████████| 281.4 MB 34 kB/s \n",
            "\u001b[K     |████████████████████████████████| 198 kB 55.4 MB/s \n",
            "\u001b[?25h  Building wheel for pyspark (setup.py) ... \u001b[?25l\u001b[?25hdone\n"
          ]
        },
        {
          "output_type": "execute_result",
          "data": {
            "text/plain": [
              "<SparkContext master=local[*] appName=Praxis_Shipping>"
            ],
            "text/html": [
              "\n",
              "        <div>\n",
              "            <p><b>SparkContext</b></p>\n",
              "\n",
              "            <p><a href=\"http://e6e29bb97e5f:4040\">Spark UI</a></p>\n",
              "\n",
              "            <dl>\n",
              "              <dt>Version</dt>\n",
              "                <dd><code>v3.2.1</code></dd>\n",
              "              <dt>Master</dt>\n",
              "                <dd><code>local[*]</code></dd>\n",
              "              <dt>AppName</dt>\n",
              "                <dd><code>Praxis_Shipping</code></dd>\n",
              "            </dl>\n",
              "        </div>\n",
              "        "
            ]
          },
          "metadata": {},
          "execution_count": 1
        }
      ]
    },
    {
      "cell_type": "markdown",
      "metadata": {
        "id": "lPnrUzlSsLN2"
      },
      "source": [
        "# Load Data <br>\n",
        "Data is available at https://drive.google.com/file/d/1fLGDQjsnA3RzTzzEVDpHxyy5ERzcV9Qw/view?usp=sharing"
      ]
    },
    {
      "cell_type": "code",
      "metadata": {
        "id": "IW476lcv5SGE",
        "colab": {
          "base_uri": "https://localhost:8080/"
        },
        "outputId": "86fca4e7-6527-4710-d200-04ea93c421ac"
      },
      "source": [
        "# Data from Google Drive\n",
        "!gdown https://drive.google.com/uc?id=1fLGDQjsnA3RzTzzEVDpHxyy5ERzcV9Qw\n",
        "\n"
      ],
      "execution_count": 2,
      "outputs": [
        {
          "output_type": "stream",
          "name": "stdout",
          "text": [
            "Downloading...\n",
            "From: https://drive.google.com/uc?id=1fLGDQjsnA3RzTzzEVDpHxyy5ERzcV9Qw\n",
            "To: /content/ShippingCrewInfo.csv\n",
            "\r  0% 0.00/8.73k [00:00<?, ?B/s]\r100% 8.73k/8.73k [00:00<00:00, 12.9MB/s]\n"
          ]
        }
      ]
    },
    {
      "cell_type": "code",
      "metadata": {
        "id": "Ds4N6HfQszq7",
        "colab": {
          "base_uri": "https://localhost:8080/"
        },
        "outputId": "0d401368-3554-46ac-97f1-47e951832f2e"
      },
      "source": [
        "!ls -al"
      ],
      "execution_count": 3,
      "outputs": [
        {
          "output_type": "stream",
          "name": "stdout",
          "text": [
            "total 28\n",
            "drwxr-xr-x 1 root root 4096 May 22 01:10 .\n",
            "drwxr-xr-x 1 root root 4096 May 22 01:06 ..\n",
            "drwxr-xr-x 4 root root 4096 May 17 13:38 .config\n",
            "drwxr-xr-x 1 root root 4096 May 17 13:39 sample_data\n",
            "-rw-r--r-- 1 root root 8734 May 22 01:10 ShippingCrewInfo.csv\n"
          ]
        }
      ]
    },
    {
      "cell_type": "code",
      "source": [
        "crew_df=spark.read.csv('/content/ShippingCrewInfo.csv',inferSchema=True,header=True)\n",
        "crew_df.show(10)"
      ],
      "metadata": {
        "colab": {
          "base_uri": "https://localhost:8080/"
        },
        "id": "w3vO6Zq1Ue62",
        "outputId": "b614869f-af37-4811-8400-64ce44dbe51d"
      },
      "execution_count": 5,
      "outputs": [
        {
          "output_type": "stream",
          "name": "stdout",
          "text": [
            "+-----------+-----------+---+------------------+----------+------+------+-----------------+----+\n",
            "|  Ship_name|Cruise_line|Age|           Tonnage|passengers|length|cabins|passenger_density|crew|\n",
            "+-----------+-----------+---+------------------+----------+------+------+-----------------+----+\n",
            "|    Journey|    Azamara|  6|30.276999999999997|      6.94|  5.94|  3.55|            42.64|3.55|\n",
            "|      Quest|    Azamara|  6|30.276999999999997|      6.94|  5.94|  3.55|            42.64|3.55|\n",
            "|Celebration|   Carnival| 26|            47.262|     14.86|  7.22|  7.43|             31.8| 6.7|\n",
            "|   Conquest|   Carnival| 11|             110.0|     29.74|  9.53| 14.88|            36.99|19.1|\n",
            "|    Destiny|   Carnival| 17|           101.353|     26.42|  8.92| 13.21|            38.36|10.0|\n",
            "|    Ecstasy|   Carnival| 22|            70.367|     20.52|  8.55|  10.2|            34.29| 9.2|\n",
            "|    Elation|   Carnival| 15|            70.367|     20.52|  8.55|  10.2|            34.29| 9.2|\n",
            "|    Fantasy|   Carnival| 23|            70.367|     20.56|  8.55| 10.22|            34.23| 9.2|\n",
            "|Fascination|   Carnival| 19|            70.367|     20.52|  8.55|  10.2|            34.29| 9.2|\n",
            "|    Freedom|   Carnival|  6|110.23899999999999|      37.0|  9.51| 14.87|            29.79|11.5|\n",
            "+-----------+-----------+---+------------------+----------+------+------+-----------------+----+\n",
            "only showing top 10 rows\n",
            "\n"
          ]
        }
      ]
    },
    {
      "cell_type": "code",
      "source": [
        "#prints structure of dataframe along with datatype\n",
        "crew_df.printSchema()"
      ],
      "metadata": {
        "colab": {
          "base_uri": "https://localhost:8080/"
        },
        "id": "Vu2pMQ_CU4_X",
        "outputId": "fa3b2607-07b6-4963-d6c0-f8b380d0dd53"
      },
      "execution_count": 6,
      "outputs": [
        {
          "output_type": "stream",
          "name": "stdout",
          "text": [
            "root\n",
            " |-- Ship_name: string (nullable = true)\n",
            " |-- Cruise_line: string (nullable = true)\n",
            " |-- Age: integer (nullable = true)\n",
            " |-- Tonnage: double (nullable = true)\n",
            " |-- passengers: double (nullable = true)\n",
            " |-- length: double (nullable = true)\n",
            " |-- cabins: double (nullable = true)\n",
            " |-- passenger_density: double (nullable = true)\n",
            " |-- crew: double (nullable = true)\n",
            "\n"
          ]
        }
      ]
    },
    {
      "cell_type": "markdown",
      "source": [
        "# Pre Processing : Indexing, Vectorising"
      ],
      "metadata": {
        "id": "5XmoRY_NWc4n"
      }
    },
    {
      "cell_type": "code",
      "source": [
        "#columns identified as features are as below:\n",
        "#['Cruise_line','Age','Tonnage','passengers','length','cabins','passenger_density']\n",
        "#to work on the features, spark MLlib expects every value to be in numeric form\n",
        "#feature 'Cruise_line is string datatype\n",
        "#using StringIndexer, string type will be typecast to numeric datatype\n",
        "#import library strinindexer for typecasting\n",
        "  \n",
        "from pyspark.ml.feature import StringIndexer\n",
        "indexer = StringIndexer(inputCol='Cruise_line',outputCol='cruise_cat')\n",
        "crew_df2 = indexer.fit(crew_df).transform(crew_df)\n",
        "  \n",
        "#above code will convert string to numeric feature and create a new dataframe\n",
        "#new dataframe contains a new feature 'cruise_cat' and can be used further\n",
        "#feature cruise_cat is now vectorized and can be used to fed to model\n",
        "crew_df2.head(10)"
      ],
      "metadata": {
        "colab": {
          "base_uri": "https://localhost:8080/"
        },
        "id": "vQpXOeAXVMSX",
        "outputId": "7691a26c-2fa1-4478-927e-b87a0e253a40"
      },
      "execution_count": 9,
      "outputs": [
        {
          "output_type": "execute_result",
          "data": {
            "text/plain": [
              "[Row(Ship_name='Journey', Cruise_line='Azamara', Age=6, Tonnage=30.276999999999997, passengers=6.94, length=5.94, cabins=3.55, passenger_density=42.64, crew=3.55, cruise_cat=16.0),\n",
              " Row(Ship_name='Quest', Cruise_line='Azamara', Age=6, Tonnage=30.276999999999997, passengers=6.94, length=5.94, cabins=3.55, passenger_density=42.64, crew=3.55, cruise_cat=16.0),\n",
              " Row(Ship_name='Celebration', Cruise_line='Carnival', Age=26, Tonnage=47.262, passengers=14.86, length=7.22, cabins=7.43, passenger_density=31.8, crew=6.7, cruise_cat=1.0),\n",
              " Row(Ship_name='Conquest', Cruise_line='Carnival', Age=11, Tonnage=110.0, passengers=29.74, length=9.53, cabins=14.88, passenger_density=36.99, crew=19.1, cruise_cat=1.0),\n",
              " Row(Ship_name='Destiny', Cruise_line='Carnival', Age=17, Tonnage=101.353, passengers=26.42, length=8.92, cabins=13.21, passenger_density=38.36, crew=10.0, cruise_cat=1.0),\n",
              " Row(Ship_name='Ecstasy', Cruise_line='Carnival', Age=22, Tonnage=70.367, passengers=20.52, length=8.55, cabins=10.2, passenger_density=34.29, crew=9.2, cruise_cat=1.0),\n",
              " Row(Ship_name='Elation', Cruise_line='Carnival', Age=15, Tonnage=70.367, passengers=20.52, length=8.55, cabins=10.2, passenger_density=34.29, crew=9.2, cruise_cat=1.0),\n",
              " Row(Ship_name='Fantasy', Cruise_line='Carnival', Age=23, Tonnage=70.367, passengers=20.56, length=8.55, cabins=10.22, passenger_density=34.23, crew=9.2, cruise_cat=1.0),\n",
              " Row(Ship_name='Fascination', Cruise_line='Carnival', Age=19, Tonnage=70.367, passengers=20.52, length=8.55, cabins=10.2, passenger_density=34.29, crew=9.2, cruise_cat=1.0),\n",
              " Row(Ship_name='Freedom', Cruise_line='Carnival', Age=6, Tonnage=110.23899999999999, passengers=37.0, length=9.51, cabins=14.87, passenger_density=29.79, crew=11.5, cruise_cat=1.0)]"
            ]
          },
          "metadata": {},
          "execution_count": 9
        }
      ]
    },
    {
      "cell_type": "code",
      "source": [
        "from pyspark.ml.linalg import Vectors\n",
        "from pyspark.ml.feature import VectorAssembler\n",
        "#creating vectors from features\n",
        "#Apache MLlib takes input if vector form\n",
        "assembler=VectorAssembler(inputCols=['Age',\n",
        " 'Tonnage',\n",
        " 'passengers',\n",
        " 'length',\n",
        " 'cabins',\n",
        " 'passenger_density',\n",
        " 'cruise_cat'],outputCol='features')\n",
        "crew_df3=assembler.transform(crew_df2)\n",
        "crew_df3.head(5)\n",
        "#crew_df3.select('features','crew').show(10)"
      ],
      "metadata": {
        "colab": {
          "base_uri": "https://localhost:8080/"
        },
        "id": "YWK8Ww8sWx5j",
        "outputId": "3be0fbab-64f3-4bd5-ea17-38da977f8ef4"
      },
      "execution_count": 12,
      "outputs": [
        {
          "output_type": "execute_result",
          "data": {
            "text/plain": [
              "[Row(Ship_name='Journey', Cruise_line='Azamara', Age=6, Tonnage=30.276999999999997, passengers=6.94, length=5.94, cabins=3.55, passenger_density=42.64, crew=3.55, cruise_cat=16.0, features=DenseVector([6.0, 30.277, 6.94, 5.94, 3.55, 42.64, 16.0])),\n",
              " Row(Ship_name='Quest', Cruise_line='Azamara', Age=6, Tonnage=30.276999999999997, passengers=6.94, length=5.94, cabins=3.55, passenger_density=42.64, crew=3.55, cruise_cat=16.0, features=DenseVector([6.0, 30.277, 6.94, 5.94, 3.55, 42.64, 16.0])),\n",
              " Row(Ship_name='Celebration', Cruise_line='Carnival', Age=26, Tonnage=47.262, passengers=14.86, length=7.22, cabins=7.43, passenger_density=31.8, crew=6.7, cruise_cat=1.0, features=DenseVector([26.0, 47.262, 14.86, 7.22, 7.43, 31.8, 1.0])),\n",
              " Row(Ship_name='Conquest', Cruise_line='Carnival', Age=11, Tonnage=110.0, passengers=29.74, length=9.53, cabins=14.88, passenger_density=36.99, crew=19.1, cruise_cat=1.0, features=DenseVector([11.0, 110.0, 29.74, 9.53, 14.88, 36.99, 1.0])),\n",
              " Row(Ship_name='Destiny', Cruise_line='Carnival', Age=17, Tonnage=101.353, passengers=26.42, length=8.92, cabins=13.21, passenger_density=38.36, crew=10.0, cruise_cat=1.0, features=DenseVector([17.0, 101.353, 26.42, 8.92, 13.21, 38.36, 1.0]))]"
            ]
          },
          "metadata": {},
          "execution_count": 12
        }
      ]
    },
    {
      "cell_type": "code",
      "source": [
        "#final data consist of features and label which is crew.\n",
        "data=crew_df3.select('features','crew')\n",
        "#splitting data into train and test\n",
        "train_data,test_data=data.randomSplit([0.7,0.3])\n",
        "train_data.describe().show()"
      ],
      "metadata": {
        "colab": {
          "base_uri": "https://localhost:8080/"
        },
        "id": "sJ3PZN_AXukO",
        "outputId": "d9fbac2c-b414-4310-a507-f5bf9966e555"
      },
      "execution_count": 13,
      "outputs": [
        {
          "output_type": "stream",
          "name": "stdout",
          "text": [
            "+-------+-----------------+\n",
            "|summary|             crew|\n",
            "+-------+-----------------+\n",
            "|  count|              119|\n",
            "|   mean| 8.02966386554623|\n",
            "| stddev|3.599648272076911|\n",
            "|    min|             0.59|\n",
            "|    max|             21.0|\n",
            "+-------+-----------------+\n",
            "\n"
          ]
        }
      ]
    },
    {
      "cell_type": "markdown",
      "source": [
        "# Regression\n",
        "Read this https://spark.apache.org/docs/latest/api/python/reference/api/pyspark.ml.regression.LinearRegression.html"
      ],
      "metadata": {
        "id": "KZ4pU5e0YRCB"
      }
    },
    {
      "cell_type": "code",
      "source": [
        "#import LinearRegression library\n",
        "from pyspark.ml.regression import LinearRegression\n",
        "#creating an object of class LinearRegression\n",
        "#object takes features and label as input arguments\n",
        "ship_lr=LinearRegression(featuresCol='features',labelCol='crew')\n",
        "#pass train_data to train model\n",
        "trained_ship_model=ship_lr.fit(train_data)\n",
        "#evaluating model trained for Rsquared error\n",
        "ship_results=trained_ship_model.evaluate(train_data)\n",
        "  \n",
        "print('Rsquared Error :',ship_results.r2)\n",
        "#R2 value shows accuracy of model is 92%\n",
        "#model accuracy is very good and can be use for predictive analysis"
      ],
      "metadata": {
        "colab": {
          "base_uri": "https://localhost:8080/"
        },
        "id": "hQzHX87nYd6-",
        "outputId": "db0b9135-9652-40f2-ee9d-17e87f86c50a"
      },
      "execution_count": 14,
      "outputs": [
        {
          "output_type": "stream",
          "name": "stdout",
          "text": [
            "Rsquared Error : 0.9184773800514372\n"
          ]
        }
      ]
    },
    {
      "cell_type": "markdown",
      "source": [
        "## Prediction"
      ],
      "metadata": {
        "id": "79KsT9AGZGVT"
      }
    },
    {
      "cell_type": "markdown",
      "source": [
        "### With Unlabelled Data"
      ],
      "metadata": {
        "id": "XCdxTnR6bUu5"
      }
    },
    {
      "cell_type": "code",
      "source": [
        "#testing Model on unlabeled data\n",
        "#create unlabeled data from test_data\n",
        "#testing model on unlabeled data\n",
        "unlabeled_data=test_data.select('features')\n",
        "unlabeled_data.show(5)"
      ],
      "metadata": {
        "colab": {
          "base_uri": "https://localhost:8080/"
        },
        "id": "4lue3EJ5ZIRF",
        "outputId": "ecf04830-b347-4d7b-92c3-4de9c7b4760f"
      },
      "execution_count": 15,
      "outputs": [
        {
          "output_type": "stream",
          "name": "stdout",
          "text": [
            "+--------------------+\n",
            "|            features|\n",
            "+--------------------+\n",
            "|[5.0,133.5,39.59,...|\n",
            "|[6.0,110.23899999...|\n",
            "|[6.0,112.0,38.0,9...|\n",
            "|[8.0,77.499,19.5,...|\n",
            "|[9.0,85.0,19.68,9...|\n",
            "+--------------------+\n",
            "only showing top 5 rows\n",
            "\n"
          ]
        }
      ]
    },
    {
      "cell_type": "code",
      "source": [
        "predictions=trained_ship_model.transform(unlabeled_data)\n",
        "predictions.show()\n",
        "#below are the results of output from test data"
      ],
      "metadata": {
        "colab": {
          "base_uri": "https://localhost:8080/"
        },
        "id": "HN5eHyZjaowH",
        "outputId": "fc3897ac-4823-4fe1-c3b4-b409f0916cdf"
      },
      "execution_count": 16,
      "outputs": [
        {
          "output_type": "stream",
          "name": "stdout",
          "text": [
            "+--------------------+-------------------+\n",
            "|            features|         prediction|\n",
            "+--------------------+-------------------+\n",
            "|[5.0,133.5,39.59,...| 13.218521195544367|\n",
            "|[6.0,110.23899999...| 11.165823769337832|\n",
            "|[6.0,112.0,38.0,9...| 11.352168081994238|\n",
            "|[8.0,77.499,19.5,...|    8.6100480357337|\n",
            "|[9.0,85.0,19.68,9...|  9.381625002454804|\n",
            "|[10.0,110.0,29.74...| 12.101781193878638|\n",
            "|[11.0,138.0,31.14...| 13.002529590222206|\n",
            "|[12.0,2.329,0.94,...|0.36507082731101037|\n",
            "|[12.0,58.6,15.66,...|  7.446980534755834|\n",
            "|[12.0,77.104,20.0...|   8.80295538174027|\n",
            "|[12.0,91.0,20.32,...|   9.29304074023379|\n",
            "|[13.0,30.27699999...|  3.986201907271722|\n",
            "|[13.0,63.0,14.4,7...|   6.71836528818074|\n",
            "|[13.0,76.0,18.74,...|   8.79886835754881|\n",
            "|[14.0,63.0,14.4,7...|  6.710471816399595|\n",
            "|[14.0,83.0,17.5,9...|  9.351703519068403|\n",
            "|[15.0,78.491,24.3...|  8.293107239570539|\n",
            "|[15.0,83.338,17.5...|  9.346906596742734|\n",
            "|[16.0,74.137,19.5...|  8.694822389025303|\n",
            "|[16.0,78.491,24.3...|  8.285213767789395|\n",
            "+--------------------+-------------------+\n",
            "only showing top 20 rows\n",
            "\n"
          ]
        }
      ]
    },
    {
      "cell_type": "markdown",
      "source": [
        "### With Labelled Data"
      ],
      "metadata": {
        "id": "8weWV82Fbbjq"
      }
    },
    {
      "cell_type": "code",
      "source": [
        "# Generate predictions\n",
        "predicted2 = trained_ship_model.transform(test_data)\n",
        "predicted2.show()"
      ],
      "metadata": {
        "colab": {
          "base_uri": "https://localhost:8080/"
        },
        "id": "LnzAeWx6a-gn",
        "outputId": "1007ad83-86ac-4515-b277-6d00c92ce5b1"
      },
      "execution_count": 20,
      "outputs": [
        {
          "output_type": "stream",
          "name": "stdout",
          "text": [
            "+--------------------+-----+-------------------+\n",
            "|            features| crew|         prediction|\n",
            "+--------------------+-----+-------------------+\n",
            "|[5.0,133.5,39.59,...|13.13| 13.218521195544367|\n",
            "|[6.0,110.23899999...| 11.5| 11.165823769337832|\n",
            "|[6.0,112.0,38.0,9...| 10.9| 11.352168081994238|\n",
            "|[8.0,77.499,19.5,...|  9.0|    8.6100480357337|\n",
            "|[9.0,85.0,19.68,9...| 8.69|  9.381625002454804|\n",
            "|[10.0,110.0,29.74...| 11.6| 12.101781193878638|\n",
            "|[11.0,138.0,31.14...|11.85| 13.002529590222206|\n",
            "|[12.0,2.329,0.94,...|  0.6|0.36507082731101037|\n",
            "|[12.0,58.6,15.66,...|  7.0|  7.446980534755834|\n",
            "|[12.0,77.104,20.0...| 9.59|   8.80295538174027|\n",
            "|[12.0,91.0,20.32,...| 9.99|   9.29304074023379|\n",
            "|[13.0,30.27699999...|  4.0|  3.986201907271722|\n",
            "|[13.0,63.0,14.4,7...| 5.31|   6.71836528818074|\n",
            "|[13.0,76.0,18.74,...|  8.5|   8.79886835754881|\n",
            "|[14.0,63.0,14.4,7...| 5.61|  6.710471816399595|\n",
            "|[14.0,83.0,17.5,9...| 9.45|  9.351703519068403|\n",
            "|[15.0,78.491,24.3...|  6.6|  8.293107239570539|\n",
            "|[15.0,83.338,17.5...| 9.45|  9.346906596742734|\n",
            "|[16.0,74.137,19.5...|  7.6|  8.694822389025303|\n",
            "|[16.0,78.491,24.3...| 7.65|  8.285213767789395|\n",
            "+--------------------+-----+-------------------+\n",
            "only showing top 20 rows\n",
            "\n"
          ]
        }
      ]
    },
    {
      "cell_type": "code",
      "source": [
        "trained_ship_model.setPredictionCol(\"PraxisPredictions!\")"
      ],
      "metadata": {
        "colab": {
          "base_uri": "https://localhost:8080/"
        },
        "id": "KUcIm5V0dErB",
        "outputId": "54aca4ea-f959-4d00-a672-c9b3e9d65e15"
      },
      "execution_count": 21,
      "outputs": [
        {
          "output_type": "execute_result",
          "data": {
            "text/plain": [
              "LinearRegressionModel: uid=LinearRegression_a0a5e36670ff, numFeatures=7"
            ]
          },
          "metadata": {},
          "execution_count": 21
        }
      ]
    },
    {
      "cell_type": "code",
      "source": [
        "# Generate predictions\n",
        "predicted3 = trained_ship_model.transform(test_data)\n",
        "predicted3.show()"
      ],
      "metadata": {
        "colab": {
          "base_uri": "https://localhost:8080/"
        },
        "id": "4TNmdSX5dSOr",
        "outputId": "0da0b248-6bd7-4310-e80e-7e1b45302514"
      },
      "execution_count": 22,
      "outputs": [
        {
          "output_type": "stream",
          "name": "stdout",
          "text": [
            "+--------------------+-----+-------------------+\n",
            "|            features| crew| PraxisPredictions!|\n",
            "+--------------------+-----+-------------------+\n",
            "|[5.0,133.5,39.59,...|13.13| 13.218521195544367|\n",
            "|[6.0,110.23899999...| 11.5| 11.165823769337832|\n",
            "|[6.0,112.0,38.0,9...| 10.9| 11.352168081994238|\n",
            "|[8.0,77.499,19.5,...|  9.0|    8.6100480357337|\n",
            "|[9.0,85.0,19.68,9...| 8.69|  9.381625002454804|\n",
            "|[10.0,110.0,29.74...| 11.6| 12.101781193878638|\n",
            "|[11.0,138.0,31.14...|11.85| 13.002529590222206|\n",
            "|[12.0,2.329,0.94,...|  0.6|0.36507082731101037|\n",
            "|[12.0,58.6,15.66,...|  7.0|  7.446980534755834|\n",
            "|[12.0,77.104,20.0...| 9.59|   8.80295538174027|\n",
            "|[12.0,91.0,20.32,...| 9.99|   9.29304074023379|\n",
            "|[13.0,30.27699999...|  4.0|  3.986201907271722|\n",
            "|[13.0,63.0,14.4,7...| 5.31|   6.71836528818074|\n",
            "|[13.0,76.0,18.74,...|  8.5|   8.79886835754881|\n",
            "|[14.0,63.0,14.4,7...| 5.61|  6.710471816399595|\n",
            "|[14.0,83.0,17.5,9...| 9.45|  9.351703519068403|\n",
            "|[15.0,78.491,24.3...|  6.6|  8.293107239570539|\n",
            "|[15.0,83.338,17.5...| 9.45|  9.346906596742734|\n",
            "|[16.0,74.137,19.5...|  7.6|  8.694822389025303|\n",
            "|[16.0,78.491,24.3...| 7.65|  8.285213767789395|\n",
            "+--------------------+-----+-------------------+\n",
            "only showing top 20 rows\n",
            "\n"
          ]
        }
      ]
    },
    {
      "cell_type": "markdown",
      "metadata": {
        "id": "eE1gjD5yNfrO"
      },
      "source": [
        "#Chronobooks <br>\n",
        "![alt text](https://1.bp.blogspot.com/-lTiYBkU2qbU/X1er__fvnkI/AAAAAAAAjtE/GhDR3OEGJr4NG43fZPodrQD5kbxtnKebgCLcBGAsYHQ/s600/Footer2020-600x200.png)<hr>\n",
        "Chronotantra and Chronoyantra are two science fiction novels that explore the collapse of human civilisation on Earth and then its rebirth and reincarnation both on Earth as well as on the distant worlds of Mars, Titan and Enceladus. But is it the human civilisation that is being reborn? Or is it some other sentience that is revealing itself. \n",
        "If you have an interest in AI and found this material useful, you may consider buying these novels, in paperback or kindle, from [http://bit.ly/chronobooks](http://bit.ly/chronobooks)"
      ]
    }
  ]
}