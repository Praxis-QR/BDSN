{
  "nbformat": 4,
  "nbformat_minor": 0,
  "metadata": {
    "colab": {
      "name": "KK B3A Hadoop HBase with Python",
      "provenance": [],
      "toc_visible": true,
      "include_colab_link": true
    },
    "kernelspec": {
      "name": "python3",
      "display_name": "Python 3"
    },
    "language_info": {
      "name": "python"
    }
  },
  "cells": [
    {
      "cell_type": "markdown",
      "metadata": {
        "id": "view-in-github",
        "colab_type": "text"
      },
      "source": [
        "<a href=\"https://colab.research.google.com/github/Praxis-QR/BDSN/blob/main/KK_B3A_Hadoop_HBase_with_Python.ipynb\" target=\"_parent\"><img src=\"https://colab.research.google.com/assets/colab-badge.svg\" alt=\"Open In Colab\"/></a>"
      ]
    },
    {
      "cell_type": "markdown",
      "metadata": {
        "id": "XafE9O3pAmkC"
      },
      "source": [
        "![alt text](https://4.bp.blogspot.com/-gbL5nZDkpFQ/XScFYwoTEII/AAAAAAAAAGY/CcVb_HDLwvs2Brv5T4vSsUcz7O4r2Q79ACK4BGAYYCw/s1600/kk3-header00-beta.png)<br>\n",
        "\n",
        "\n",
        "<hr>\n",
        "\n",
        "[Prithwis Mukerjee](http://www.linkedin.com/in/prithwis)<br>"
      ]
    },
    {
      "cell_type": "markdown",
      "metadata": {
        "id": "GyYTQEpb1htS"
      },
      "source": [
        "#Hadoop \n",
        "Install and Test"
      ]
    },
    {
      "cell_type": "code",
      "metadata": {
        "id": "_r0IOmlc0-Dt"
      },
      "source": [
        "# The default JVM available at /usr/lib/jvm/java-11-openjdk-amd64/  works for Hadoop\n",
        "# But gives errors with Hive https://stackoverflow.com/questions/54037773/hive-exception-class-jdk-internal-loader-classloadersappclassloader-cannot\n",
        "# Hence this JVM needs to be installed\n",
        "!apt-get update > /dev/null\n",
        "!apt-get install openjdk-8-jdk-headless -qq > /dev/null"
      ],
      "execution_count": 1,
      "outputs": []
    },
    {
      "cell_type": "code",
      "metadata": {
        "colab": {
          "base_uri": "https://localhost:8080/"
        },
        "id": "NWspfH6A1a4P",
        "outputId": "2977f02c-c419-4e59-85cf-5faa5ed78fee"
      },
      "source": [
        "# Download the latest version of Hadoop\n",
        "#!wget https://downloads.apache.org/hadoop/common/hadoop-3.3.0/hadoop-3.3.0.tar.gz\n",
        "!wget https://downloads.apache.org/hadoop/common/hadoop-3.3.3/hadoop-3.3.3.tar.gz\n",
        "# Unzip it\n",
        "# the tar command with the -x flag to extract, -z to uncompress, -v for verbose output, and -f to specify that we’re extracting from a file\n",
        "#!tar -xzf hadoop-3.3.0.tar.gz\n",
        "!tar -xzf hadoop-3.3.3.tar.gz\n",
        "#copy  hadoop file to user/local\n",
        "#!mv  hadoop-3.3.0/ /usr/local/\n",
        "!mv  hadoop-3.3.3/ /usr/local/"
      ],
      "execution_count": 2,
      "outputs": [
        {
          "output_type": "stream",
          "name": "stdout",
          "text": [
            "--2022-06-24 00:05:18--  https://downloads.apache.org/hadoop/common/hadoop-3.3.3/hadoop-3.3.3.tar.gz\n",
            "Resolving downloads.apache.org (downloads.apache.org)... 135.181.214.104, 88.99.95.219, 2a01:4f8:10a:201a::2, ...\n",
            "Connecting to downloads.apache.org (downloads.apache.org)|135.181.214.104|:443... connected.\n",
            "HTTP request sent, awaiting response... 200 OK\n",
            "Length: 645040598 (615M) [application/x-gzip]\n",
            "Saving to: ‘hadoop-3.3.3.tar.gz’\n",
            "\n",
            "hadoop-3.3.3.tar.gz 100%[===================>] 615.16M  85.1MB/s    in 7.5s    \n",
            "\n",
            "2022-06-24 00:05:25 (81.6 MB/s) - ‘hadoop-3.3.3.tar.gz’ saved [645040598/645040598]\n",
            "\n"
          ]
        }
      ]
    },
    {
      "cell_type": "code",
      "metadata": {
        "id": "24QjQ22V1swJ"
      },
      "source": [
        "#To find the default Java path\n",
        "#!readlink -f /usr/bin/java | sed \"s:bin/java::\"\n",
        "#!ls /usr/lib/jvm/"
      ],
      "execution_count": null,
      "outputs": []
    },
    {
      "cell_type": "markdown",
      "metadata": {
        "id": "Ugibq3m1CbgC"
      },
      "source": [
        "## Set Hadoop Environment"
      ]
    },
    {
      "cell_type": "code",
      "metadata": {
        "id": "1j7WFh5k18E1"
      },
      "source": [
        "#To set java path, go to /usr/local/hadoop-3.3.0/etc/hadoop/hadoop-env.sh then\n",
        "#. . . export JAVA_HOME=/usr/lib/jvm/java-11-openjdk-amd64/ . . .\n",
        "#we have used a simpler alternative route using os.environ - it works\n",
        "\n",
        "import os\n",
        "os.environ[\"JAVA_HOME\"] = \"/usr/lib/jvm/java-8-openjdk-amd64\"   # default is changed\n",
        "#os.environ[\"JAVA_HOME\"] = \"/usr/lib/jvm/java-11-openjdk-amd64/\"\n",
        "#os.environ[\"HADOOP_HOME\"] = \"/usr/local/hadoop-3.3.0/\"\n",
        "os.environ[\"HADOOP_HOME\"] = \"/usr/local/hadoop-3.3.3/\""
      ],
      "execution_count": 3,
      "outputs": []
    },
    {
      "cell_type": "code",
      "metadata": {
        "id": "NaaMpfVP2p3m"
      },
      "source": [
        "# Add Hadoop BIN to PATH\n",
        "# current_path taken from last command\n",
        "#current_path = '/usr/local/nvidia/bin:/usr/local/cuda/bin:/usr/local/sbin:/usr/local/bin:/usr/sbin:/usr/bin:/sbin:/bin:/tools/node/bin:/tools/google-cloud-sdk/bin:/opt/bin'\n",
        "current_path = os.getenv('PATH')\n",
        "#new_path = current_path+':/usr/local/hadoop-3.3.0/bin/'\n",
        "new_path = current_path+':/usr/local/hadoop-3.3.3/bin/'\n",
        "os.environ[\"PATH\"] = new_path"
      ],
      "execution_count": 4,
      "outputs": []
    },
    {
      "cell_type": "code",
      "metadata": {
        "id": "ZD34gT3y2u-D"
      },
      "source": [
        "# Testing Hadoop with PI generating sample program, should calculate value of pi = 3.14157500000000000000\n",
        "# pi example\n",
        "#Uncomment the following line if  you want to test Hadoop with pi example\n",
        "#!hadoop jar /usr/local/hadoop-3.3.0/share/hadoop/mapreduce/hadoop-mapreduce-examples-3.3.0.jar pi 16 100000\n",
        "#!hadoop jar /usr/local/hadoop-3.3.3/share/hadoop/mapreduce/hadoop-mapreduce-examples-3.3.3.jar pi 16 100000"
      ],
      "execution_count": null,
      "outputs": []
    },
    {
      "cell_type": "markdown",
      "metadata": {
        "id": "zHwLU0Uo3tLo"
      },
      "source": [
        "#Install HBase"
      ]
    },
    {
      "cell_type": "code",
      "metadata": {
        "colab": {
          "base_uri": "https://localhost:8080/"
        },
        "id": "bODP1xaM3vEB",
        "outputId": "fafed26c-4a49-48ec-8834-d9bcebb7d7ee"
      },
      "source": [
        "# Get the latest HBase download site from here https://www.apache.org/dyn/closer.lua/hbase/\n",
        "#!wget https://mirrors.estointernet.in/apache/hbase/2.4.5/hbase-2.4.5-bin.tar.gz\n",
        "#!wget https://mirrors.estointernet.in/apache/hbase/2.4.8/hbase-2.4.8-bin.tar.gz\n",
        "#!wget https://downloads.apache.org/hbase/2.4.9/hbase-2.4.9-bin.tar.gz\n",
        "!wget https://downloads.apache.org/hbase/2.4.12/hbase-2.4.12-bin.tar.gz\n",
        "#!tar xzf hbase-2.4.5-bin.tar.gz\n",
        "#!tar xzf hbase-2.4.8-bin.tar.gz\n",
        "#!tar xzf hbase-2.4.9-bin.tar.gz\n",
        "!tar xzf hbase-2.4.12-bin.tar.gz"
      ],
      "execution_count": 5,
      "outputs": [
        {
          "output_type": "stream",
          "name": "stdout",
          "text": [
            "--2022-06-24 00:06:21--  https://downloads.apache.org/hbase/2.4.12/hbase-2.4.12-bin.tar.gz\n",
            "Resolving downloads.apache.org (downloads.apache.org)... 88.99.95.219, 135.181.214.104, 2a01:4f9:3a:2c57::2, ...\n",
            "Connecting to downloads.apache.org (downloads.apache.org)|88.99.95.219|:443... connected.\n",
            "HTTP request sent, awaiting response... 200 OK\n",
            "Length: 283605397 (270M) [application/x-gzip]\n",
            "Saving to: ‘hbase-2.4.12-bin.tar.gz’\n",
            "\n",
            "hbase-2.4.12-bin.ta 100%[===================>] 270.47M  84.2MB/s    in 3.5s    \n",
            "\n",
            "2022-06-24 00:06:25 (77.1 MB/s) - ‘hbase-2.4.12-bin.tar.gz’ saved [283605397/283605397]\n",
            "\n"
          ]
        }
      ]
    },
    {
      "cell_type": "markdown",
      "metadata": {
        "id": "kaMtyNOVCiMS"
      },
      "source": [
        "## Set HBase Environment"
      ]
    },
    {
      "cell_type": "code",
      "metadata": {
        "colab": {
          "base_uri": "https://localhost:8080/"
        },
        "id": "p4dc0K7h4f-y",
        "outputId": "5c4d436e-3c3f-4d9d-c606-354c3d5ea004"
      },
      "source": [
        "#os.environ[\"HIVE_HOME\"] = \"/content/apache-hive-3.1.2-bin\"\n",
        "#!echo $HIVE_HOME\n",
        "#os.environ[\"HBASE_HOME\"] = \"/content/hbase-2.4.5/\"\n",
        "#os.environ[\"HBASE_HOME\"] = \"/content/hbase-2.4.8/\"\n",
        "#os.environ[\"HBASE_HOME\"] = \"/content/hbase-2.4.9/\"\n",
        "os.environ[\"HBASE_HOME\"] = \"/content/hbase-2.4.12/\"\n",
        "!echo $HBASE_HOME\n"
      ],
      "execution_count": 6,
      "outputs": [
        {
          "output_type": "stream",
          "name": "stdout",
          "text": [
            "/content/hbase-2.4.12/\n"
          ]
        }
      ]
    },
    {
      "cell_type": "code",
      "metadata": {
        "colab": {
          "base_uri": "https://localhost:8080/"
        },
        "id": "DqXZ_kF65VXK",
        "outputId": "3a19345b-84fb-4c65-ed57-ae1aa996752b"
      },
      "source": [
        "# current_path taken from command in previous cell\n",
        "#current_path = '/usr/local/nvidia/bin:/usr/local/cuda/bin:/usr/local/sbin:/usr/local/bin:/usr/sbin:/usr/bin:/sbin:/bin:/tools/node/bin:/tools/google-cloud-sdk/bin:/opt/bin:/usr/local/hadoop-3.3.0/bin/'\n",
        "#new_path = current_path+':/content/hbase-2.4.5/bin'\n",
        "current_path = os.getenv('PATH')\n",
        "#new_path = current_path+':/content/hbase-2.4.8/bin'\n",
        "#new_path = current_path+':/content/hbase-2.4.9/bin'\n",
        "new_path = current_path+':/content/hbase-2.4.12/bin'\n",
        "os.environ[\"PATH\"] = new_path\n",
        "!echo $PATH"
      ],
      "execution_count": 7,
      "outputs": [
        {
          "output_type": "stream",
          "name": "stdout",
          "text": [
            "/opt/bin:/usr/local/nvidia/bin:/usr/local/cuda/bin:/usr/local/sbin:/usr/local/bin:/usr/sbin:/usr/bin:/sbin:/bin:/tools/node/bin:/tools/google-cloud-sdk/bin:/usr/local/hadoop-3.3.3/bin/:/content/hbase-2.4.12/bin\n"
          ]
        }
      ]
    },
    {
      "cell_type": "code",
      "metadata": {
        "colab": {
          "base_uri": "https://localhost:8080/"
        },
        "id": "ZrS6BL5k51Bl",
        "outputId": "d5a2cc80-48b8-427f-d9ae-7467738b5ef4"
      },
      "source": [
        "!echo $JAVA_HOME\n",
        "!echo $HADOOP_HOME\n",
        "!echo $HBASE_HOME"
      ],
      "execution_count": 8,
      "outputs": [
        {
          "output_type": "stream",
          "name": "stdout",
          "text": [
            "/usr/lib/jvm/java-8-openjdk-amd64\n",
            "/usr/local/hadoop-3.3.3/\n",
            "/content/hbase-2.4.12/\n"
          ]
        }
      ]
    },
    {
      "cell_type": "code",
      "metadata": {
        "id": "9kDmgFfh6a12"
      },
      "source": [
        "# the file hbase-site.xml may need to be updated ...\n",
        "# however the default file works well in the simple stand-alone HBase mode\n",
        "# so no need to touch it\n",
        "#!cat $HBASE_HOME/conf/hbase-site.xml"
      ],
      "execution_count": null,
      "outputs": []
    },
    {
      "cell_type": "markdown",
      "metadata": {
        "id": "BWn-DJ1PDbXd"
      },
      "source": [
        "## Some Clean UP\n",
        "Otherwise we get ugly warnings"
      ]
    },
    {
      "cell_type": "code",
      "metadata": {
        "colab": {
          "base_uri": "https://localhost:8080/"
        },
        "id": "bKG7t8sQDj2t",
        "outputId": "111f8e66-f223-4ca8-9521-260c89cda6ea"
      },
      "source": [
        "# locate multiple instances of slf4j ...\n",
        "!ls $HADOOP_HOME/share/hadoop/common/lib/*slf4j*\n",
        "!ls $HBASE_HOME/lib/*slf4j*\n",
        "!ls /content/hbase-2.4.12/lib/client-facing-thirdparty/slf4j-reload4j-1.7.33.jar"
      ],
      "execution_count": null,
      "outputs": [
        {
          "output_type": "stream",
          "name": "stdout",
          "text": [
            "/usr/local/hadoop-3.3.3//share/hadoop/common/lib/jul-to-slf4j-1.7.36.jar\n",
            "/usr/local/hadoop-3.3.3//share/hadoop/common/lib/slf4j-api-1.7.36.jar\n",
            "/usr/local/hadoop-3.3.3//share/hadoop/common/lib/slf4j-reload4j-1.7.36.jar\n",
            "/content/hbase-2.4.12//lib/jcl-over-slf4j-1.7.33.jar\n",
            "/content/hbase-2.4.12//lib/jul-to-slf4j-1.7.33.jar\n",
            "/content/hbase-2.4.12/lib/client-facing-thirdparty/slf4j-reload4j-1.7.33.jar\n"
          ]
        }
      ]
    },
    {
      "cell_type": "code",
      "metadata": {
        "id": "6OaOkjD5EOr0"
      },
      "source": [
        "# remove the Hadoop logger out of the path\n",
        "# without this you will get ugly warnings every time\n",
        "#!mv /usr/local/hadoop-3.3.0//share/hadoop/common/lib/slf4j-log4j12-1.7.25.jar .\n",
        "!mv /content/hbase-2.4.12/lib/client-facing-thirdparty/slf4j-reload4j-1.7.33.jar ."
      ],
      "execution_count": 9,
      "outputs": []
    },
    {
      "cell_type": "markdown",
      "metadata": {
        "id": "uA03iA4XFN_E"
      },
      "source": [
        "## Start HBase server"
      ]
    },
    {
      "cell_type": "code",
      "metadata": {
        "colab": {
          "base_uri": "https://localhost:8080/"
        },
        "id": "GMQHzlCO7MDC",
        "outputId": "d025ea5a-f0a5-4ffe-90b1-5a8716d15792"
      },
      "source": [
        "!start-hbase.sh\n",
        "!jps"
      ],
      "execution_count": 10,
      "outputs": [
        {
          "output_type": "stream",
          "name": "stdout",
          "text": [
            "running master, logging to /content/hbase-2.4.12//logs/hbase--master-ee3c957a6bdf.out\n",
            "1234 HMaster\n",
            "1388 Jps\n"
          ]
        }
      ]
    },
    {
      "cell_type": "markdown",
      "metadata": {
        "id": "gd6mdgPSFSvB"
      },
      "source": [
        "# Run Hbase Shell\n",
        "do not skip these two shell commands"
      ]
    },
    {
      "cell_type": "code",
      "metadata": {
        "id": "42DJQfpY7oqe"
      },
      "source": [
        "# you can enter hbase shell commands at the prompt. Double click on the prompt to open up a input box\n",
        "#!hbase shell "
      ],
      "execution_count": null,
      "outputs": []
    },
    {
      "cell_type": "markdown",
      "metadata": {
        "id": "qhuHJF4lH6f6"
      },
      "source": [
        "shell commands  <br>\n",
        "https://www.tutorialspoint.com/hbase/hbase_shell.htm <br>\n",
        "https://www.guru99.com/hbase-shell-general-commands.html <br>\n",
        "better way of passing shell commands are given here"
      ]
    },
    {
      "cell_type": "code",
      "metadata": {
        "colab": {
          "base_uri": "https://localhost:8080/"
        },
        "id": "cQdbisL2GQtE",
        "outputId": "3f72acba-f144-457e-e6a3-ba742b9833d8"
      },
      "source": [
        "!echo 'status' | hbase shell -n\n",
        "#!echo \"status 'detail'\" | hbase shell -n"
      ],
      "execution_count": 11,
      "outputs": [
        {
          "output_type": "stream",
          "name": "stdout",
          "text": [
            "hbase:001:0> status\n",
            "1 active master, 0 backup masters, 1 servers, 0 dead, 2.0000 average load\n",
            "Took 0.6159 seconds                                                             \n",
            "hbase:002:0> \n"
          ]
        }
      ]
    },
    {
      "cell_type": "code",
      "metadata": {
        "colab": {
          "base_uri": "https://localhost:8080/"
        },
        "id": "NYhR2DpgIbnU",
        "outputId": "1170c499-7c4a-4606-fd67-3093fa6c0982"
      },
      "source": [
        "!echo \"whoami\" | hbase shell -n"
      ],
      "execution_count": null,
      "outputs": [
        {
          "output_type": "stream",
          "name": "stdout",
          "text": [
            "hbase:001:0> whoami\n",
            "root (auth:SIMPLE)\n",
            "    groups: root\n",
            "Took 0.0179 seconds                                                             \n",
            "hbase:002:0> \n"
          ]
        }
      ]
    },
    {
      "cell_type": "markdown",
      "metadata": {
        "id": "_RMwSSDZd6T9"
      },
      "source": [
        "#Install HappyBase / Thrift <br>\n",
        "https://happybase.readthedocs.io/en/latest/"
      ]
    },
    {
      "cell_type": "code",
      "metadata": {
        "colab": {
          "base_uri": "https://localhost:8080/"
        },
        "id": "7qOwqJlQfQLc",
        "outputId": "bf58c7a0-b755-4472-8297-abf888bde4c0"
      },
      "source": [
        "!stop-hbase.sh"
      ],
      "execution_count": 12,
      "outputs": [
        {
          "output_type": "stream",
          "name": "stdout",
          "text": [
            "stopping hbase...........\n"
          ]
        }
      ]
    },
    {
      "cell_type": "code",
      "metadata": {
        "colab": {
          "base_uri": "https://localhost:8080/"
        },
        "id": "QLfCN8jpZsZH",
        "outputId": "a38ab1c2-f440-4243-b243-9da53f197d4f"
      },
      "source": [
        "!pip -qq install happybase"
      ],
      "execution_count": 13,
      "outputs": [
        {
          "output_type": "stream",
          "name": "stdout",
          "text": [
            "\u001b[K     |████████████████████████████████| 40 kB 5.4 MB/s \n",
            "\u001b[K     |████████████████████████████████| 361 kB 20.8 MB/s \n",
            "\u001b[K     |████████████████████████████████| 49 kB 7.5 MB/s \n",
            "\u001b[?25h  Building wheel for happybase (setup.py) ... \u001b[?25l\u001b[?25hdone\n",
            "  Building wheel for thriftpy2 (setup.py) ... \u001b[?25l\u001b[?25hdone\n"
          ]
        }
      ]
    },
    {
      "cell_type": "code",
      "metadata": {
        "id": "J-Wt2asZZb3m"
      },
      "source": [
        "import happybase\n",
        "#https://happybase.readthedocs.io/en/latest/"
      ],
      "execution_count": 14,
      "outputs": []
    },
    {
      "cell_type": "code",
      "metadata": {
        "colab": {
          "base_uri": "https://localhost:8080/"
        },
        "id": "A-OVMxNEaWOq",
        "outputId": "38611b0f-7543-4435-9ac4-87ed359389aa"
      },
      "source": [
        "#!ls hbase-2.4.8/bin\n",
        "#!hbase-2.4.8/bin/hbase-daemon.sh start thrift\n",
        "!hbase-daemon.sh start thrift"
      ],
      "execution_count": 15,
      "outputs": [
        {
          "output_type": "stream",
          "name": "stdout",
          "text": [
            "running thrift, logging to /content/hbase-2.4.12//logs/hbase--thrift-ee3c957a6bdf.out\n"
          ]
        }
      ]
    },
    {
      "cell_type": "code",
      "metadata": {
        "colab": {
          "base_uri": "https://localhost:8080/"
        },
        "id": "_UHyIyGFf0yl",
        "outputId": "49c91803-0595-4b0b-c094-c27201927763"
      },
      "source": [
        "!start-hbase.sh\n",
        "!jps"
      ],
      "execution_count": 16,
      "outputs": [
        {
          "output_type": "stream",
          "name": "stdout",
          "text": [
            "running master, logging to /content/hbase-2.4.12//logs/hbase--master-ee3c957a6bdf.out\n",
            "2841 Jps\n",
            "2319 ThriftServer\n",
            "2687 HMaster\n"
          ]
        }
      ]
    },
    {
      "cell_type": "code",
      "metadata": {
        "id": "-uL64b823-CB"
      },
      "source": [
        "#connection = happybase.Connection('localhost',9090, transport='framed',protocol='compact')\n",
        "#if this connection suddenly closes, you may get errors. in that case, re-run this cell again\n",
        "kxn = happybase.Connection('localhost',9090,autoconnect=False)"
      ],
      "execution_count": 49,
      "outputs": []
    },
    {
      "cell_type": "markdown",
      "metadata": {
        "id": "C4yg79ueMhYZ"
      },
      "source": [
        "#Create Tables"
      ]
    },
    {
      "cell_type": "code",
      "metadata": {
        "colab": {
          "base_uri": "https://localhost:8080/"
        },
        "id": "aFjctMtoeCcW",
        "outputId": "b19eda43-fc2f-4e6c-ddae-ee2c7f4829fe"
      },
      "source": [
        "kxn.open()\n",
        "kxn.tables()"
      ],
      "execution_count": 50,
      "outputs": [
        {
          "output_type": "execute_result",
          "data": {
            "text/plain": [
              "[b'Dept', b'Emp', b'EmpDept', b'EmpDept2']"
            ]
          },
          "metadata": {},
          "execution_count": 50
        }
      ]
    },
    {
      "cell_type": "markdown",
      "metadata": {
        "id": "2zvAuebzbXj6"
      },
      "source": [
        "##Create Dept Table, Insert Data"
      ]
    },
    {
      "cell_type": "code",
      "metadata": {
        "id": "AiUqgnVCMcl3"
      },
      "source": [
        "kxn.open()\n",
        "#Drop Table\n",
        "#kxn.disable_table('Dept')\n",
        "#kxn.delete_table('Dept')\n",
        "#Create Table\n",
        "kxn.create_table(\n",
        "    'Dept',\n",
        "    {'DeptID': dict(max_versions=10),\n",
        "     'DeptName': dict(max_versions=1, block_cache_enabled=False),\n",
        "     'ManagerID': dict(),  # use defaults\n",
        "     'Location': dict(),  # use defaults\n",
        "    }\n",
        ")\n",
        "kxn.close()"
      ],
      "execution_count": 19,
      "outputs": []
    },
    {
      "cell_type": "code",
      "metadata": {
        "id": "SsULtvF6Nfcx"
      },
      "source": [
        "kxn.open()\n",
        "tDept = kxn.table('Dept')\n",
        "kxn.close()"
      ],
      "execution_count": 20,
      "outputs": []
    },
    {
      "cell_type": "code",
      "metadata": {
        "id": "I1jju96MNoCf"
      },
      "source": [
        "#Insert one row\n",
        "kxn.open()\n",
        "tDept.put('10',{'DeptName:': 'Corporate', 'ManagerID:': '123456','Location:':'Calcutta'})\n",
        "kxn.close()"
      ],
      "execution_count": 21,
      "outputs": []
    },
    {
      "cell_type": "code",
      "metadata": {
        "colab": {
          "base_uri": "https://localhost:8080/"
        },
        "id": "cP5nd0nIOTxf",
        "outputId": "c649d7b2-b97a-4052-cb9b-242af64c90cd"
      },
      "source": [
        "kxn.open()\n",
        "for key, data in tDept.scan():\n",
        "    print(key, data)\n",
        "kxn.close()"
      ],
      "execution_count": 22,
      "outputs": [
        {
          "output_type": "stream",
          "name": "stdout",
          "text": [
            "b'10' {b'DeptName:': b'Corporate', b'Location:': b'Calcutta', b'ManagerID:': b'123456'}\n"
          ]
        }
      ]
    },
    {
      "cell_type": "code",
      "metadata": {
        "id": "y0Y9zgCJOywZ"
      },
      "source": [
        "#Insert 3 more rows in Batch\n",
        "kxn.open()\n",
        "b = tDept.batch()\n",
        "b.put(b'20', { b'DeptName:': b'Sales', b'ManagerID:': b'234567', b'Location:': b'Calcutta'})\n",
        "b.put(b'30', { b'DeptName:': b'Accounts', b'ManagerID:': b'567234', b'Location:': b'Calcutta'})\n",
        "b.put(b'40', { b'DeptName:': b'Production', b'ManagerID:': b'345876', b'Location:': b'Bombay'})\n",
        "b.send()\n",
        "kxn.close()"
      ],
      "execution_count": 23,
      "outputs": []
    },
    {
      "cell_type": "code",
      "metadata": {
        "colab": {
          "base_uri": "https://localhost:8080/"
        },
        "id": "nn9puFvNSQ0I",
        "outputId": "1ec93df9-5549-47d5-bf7a-2c424655566c"
      },
      "source": [
        "#show all four ROWS\n",
        "kxn.open()\n",
        "#tDept = kxn.table('Dept')\n",
        "for key, value in tDept.scan():\n",
        "    print(key, value)\n",
        "kxn.close()"
      ],
      "execution_count": 24,
      "outputs": [
        {
          "output_type": "stream",
          "name": "stdout",
          "text": [
            "b'10' {b'DeptName:': b'Corporate', b'Location:': b'Calcutta', b'ManagerID:': b'123456'}\n",
            "b'20' {b'DeptName:': b'Sales', b'Location:': b'Calcutta', b'ManagerID:': b'234567'}\n",
            "b'30' {b'DeptName:': b'Accounts', b'Location:': b'Calcutta', b'ManagerID:': b'567234'}\n",
            "b'40' {b'DeptName:': b'Production', b'Location:': b'Bombay', b'ManagerID:': b'345876'}\n"
          ]
        }
      ]
    },
    {
      "cell_type": "markdown",
      "metadata": {
        "id": "6sjTzUYObi7W"
      },
      "source": [
        "##Create Emp Table, LOAD data <br>\n",
        "https://people.apache.org/~stack/site/bulk-loads.html"
      ]
    },
    {
      "cell_type": "code",
      "metadata": {
        "id": "Y8GbQWvRcTwu"
      },
      "source": [
        "kxn.open()\n",
        "#Drop Table\n",
        "#kxn.disable_table('Emp')\n",
        "#kxn.delete_table('Emp')\n",
        "#Create Table\n",
        "kxn.create_table(\n",
        "    'Emp',\n",
        "    {'EmpID': dict(max_versions=10),\n",
        "     'LastName': dict(),  # use defaults\n",
        "     'FirstName': dict(),  # use defaults\n",
        "     'Role': dict(),  # use defaults\n",
        "     'DoJ': dict(),  # use defaults\n",
        "     'Salary': dict(),  # use defaults\n",
        "     'Comm': dict(),  # use defaults\n",
        "     'DeptID': dict(),  # use defaults\n",
        "    }\n",
        ")\n",
        "kxn.close()"
      ],
      "execution_count": 25,
      "outputs": []
    },
    {
      "cell_type": "code",
      "metadata": {
        "colab": {
          "base_uri": "https://localhost:8080/"
        },
        "id": "M9XDyx1HQxBL",
        "outputId": "5156ba2a-4183-4547-ecd7-5cc641cb8d3d"
      },
      "source": [
        "kxn.open()\n",
        "kxn.tables()"
      ],
      "execution_count": 26,
      "outputs": [
        {
          "output_type": "execute_result",
          "data": {
            "text/plain": [
              "[b'Dept', b'Emp']"
            ]
          },
          "metadata": {},
          "execution_count": 26
        }
      ]
    },
    {
      "cell_type": "code",
      "metadata": {
        "id": "nYH_g_J6423R"
      },
      "source": [
        "#Download txt file with Employee Data\n",
        "!wget -q https://raw.githubusercontent.com/Praxis-QR/BDSN/main/Documents/Employee.csv"
      ],
      "execution_count": 27,
      "outputs": []
    },
    {
      "cell_type": "code",
      "source": [
        "#!cat Employee.csv"
      ],
      "metadata": {
        "id": "Hmd38X4s1bmg"
      },
      "execution_count": null,
      "outputs": []
    },
    {
      "cell_type": "code",
      "metadata": {
        "id": "jZbsNgyBd-aN"
      },
      "source": [
        "# input file has to be moved from regular file system to HDFS file system\n",
        "!hdfs dfs -copyFromLocal Employee.csv /tmp"
      ],
      "execution_count": 28,
      "outputs": []
    },
    {
      "cell_type": "code",
      "metadata": {
        "colab": {
          "base_uri": "https://localhost:8080/"
        },
        "id": "pFRp3yateTCS",
        "outputId": "c53e31df-b0a2-4e6f-bee7-3312e053a1b0"
      },
      "source": [
        "# https://community.cloudera.com/t5/Community-Articles/Import-CSV-data-into-HBase-using-importtsv/ta-p/244842\n",
        "#hbase org.apache.hadoop.hbase.mapreduce.ImportTsv -Dimporttsv.separator=,  -Dimporttsv.columns=\"HBASE_ROW_KEY,id,temp:in,temp:out,vibration,pressure:in,pressure:out\" sensor hdfs://sandbox.hortonworks.com:/tmp/hbase.csv\n",
        "!hbase org.apache.hadoop.hbase.mapreduce.ImportTsv -Dimporttsv.separator=','  -Dimporttsv.columns=\"HBASE_ROW_KEY,LastName:,FirstName:,Role:,DoJ:,Salary:,Comm:,DeptID:\" Emp /tmp/Employee.csv"
      ],
      "execution_count": 29,
      "outputs": [
        {
          "output_type": "stream",
          "name": "stdout",
          "text": [
            "2022-06-24 00:09:44,503 INFO  [ReadOnlyZKClient-127.0.0.1:2181@0x1ce24091] zookeeper.ZooKeeper: Client environment:zookeeper.version=3.5.7-f0fdd52973d373ffd9c86b81d99842dc2c7f660e, built on 02/10/2020 11:30 GMT\n",
            "2022-06-24 00:09:44,504 INFO  [ReadOnlyZKClient-127.0.0.1:2181@0x1ce24091] zookeeper.ZooKeeper: Client environment:host.name=ee3c957a6bdf\n",
            "2022-06-24 00:09:44,504 INFO  [ReadOnlyZKClient-127.0.0.1:2181@0x1ce24091] zookeeper.ZooKeeper: Client environment:java.version=1.8.0_312\n",
            "2022-06-24 00:09:44,504 INFO  [ReadOnlyZKClient-127.0.0.1:2181@0x1ce24091] zookeeper.ZooKeeper: Client environment:java.vendor=Private Build\n",
            "2022-06-24 00:09:44,504 INFO  [ReadOnlyZKClient-127.0.0.1:2181@0x1ce24091] zookeeper.ZooKeeper: Client environment:java.home=/usr/lib/jvm/java-8-openjdk-amd64/jre\n",
            "2022-06-24 00:09:44,504 INFO  [ReadOnlyZKClient-127.0.0.1:2181@0x1ce24091] zookeeper.ZooKeeper: managed-am-launcher-3.3.3.jar:/usr/local/hadoop-3.3.3//share/hadoop/yarn/hadoop-yarn-api-3.3.3.jar:/usr/local/hadoop-3.3.3//share/hadoop/yarn/hadoop-yarn-server-web-proxy-3.3.3.jar:/usr/local/hadoop-3.3.3//share/hadoop/yarn/hadoop-yarn-services-core-3.3.3.jar:/usr/local/hadoop-3.3.3//share/hadoop/yarn/hadoop-yarn-applications-mawo-core-3.3.3.jar:/usr/local/hadoop-3.3.3//share/hadoop/yarn/hadoop-yarn-client-3.3.3.jar:/usr/local/hadoop-3.3.3//share/hadoop/yarn/hadoop-yarn-server-resourcemanager-3.3.3.jar:/usr/local/hadoop-3.3.3//share/hadoop/yarn/hadoop-yarn-server-router-3.3.3.jar:/usr/local/hadoop-3.3.3//share/hadoop/yarn/hadoop-yarn-applications-distributedshell-3.3.3.jar:/usr/local/hadoop-3.3.3//share/hadoop/yarn/hadoop-yarn-server-tests-3.3.3.jar:/usr/local/hadoop-3.3.3//share/hadoop/yarn/hadoop-yarn-services-api-3.3.3.jar:/usr/local/hadoop-3.3.3//share/hadoop/yarn/hadoop-yarn-common-3.3.3.jar:/usr/local/hadoop-3.3.3//share/hadoop/yarn/hadoop-yarn-server-sharedcachemanager-3.3.3.jar\n",
            "2022-06-24 00:09:44,504 INFO  [ReadOnlyZKClient-127.0.0.1:2181@0x1ce24091] zookeeper.ZooKeeper: Client environment:java.library.path=/usr/local/hadoop-3.3.3//lib/native\n",
            "2022-06-24 00:09:44,504 INFO  [ReadOnlyZKClient-127.0.0.1:2181@0x1ce24091] zookeeper.ZooKeeper: Client environment:java.io.tmpdir=/tmp\n",
            "2022-06-24 00:09:44,504 INFO  [ReadOnlyZKClient-127.0.0.1:2181@0x1ce24091] zookeeper.ZooKeeper: Client environment:java.compiler=<NA>\n",
            "2022-06-24 00:09:44,504 INFO  [ReadOnlyZKClient-127.0.0.1:2181@0x1ce24091] zookeeper.ZooKeeper: Client environment:os.name=Linux\n",
            "2022-06-24 00:09:44,504 INFO  [ReadOnlyZKClient-127.0.0.1:2181@0x1ce24091] zookeeper.ZooKeeper: Client environment:os.arch=amd64\n",
            "2022-06-24 00:09:44,505 INFO  [ReadOnlyZKClient-127.0.0.1:2181@0x1ce24091] zookeeper.ZooKeeper: Client environment:os.version=5.4.188+\n",
            "2022-06-24 00:09:44,505 INFO  [ReadOnlyZKClient-127.0.0.1:2181@0x1ce24091] zookeeper.ZooKeeper: Client environment:user.name=root\n",
            "2022-06-24 00:09:44,505 INFO  [ReadOnlyZKClient-127.0.0.1:2181@0x1ce24091] zookeeper.ZooKeeper: Client environment:user.home=/root\n",
            "2022-06-24 00:09:44,505 INFO  [ReadOnlyZKClient-127.0.0.1:2181@0x1ce24091] zookeeper.ZooKeeper: Client environment:user.dir=/content\n",
            "2022-06-24 00:09:44,505 INFO  [ReadOnlyZKClient-127.0.0.1:2181@0x1ce24091] zookeeper.ZooKeeper: Client environment:os.memory.free=178MB\n",
            "2022-06-24 00:09:44,505 INFO  [ReadOnlyZKClient-127.0.0.1:2181@0x1ce24091] zookeeper.ZooKeeper: Client environment:os.memory.max=3231MB\n",
            "2022-06-24 00:09:44,505 INFO  [ReadOnlyZKClient-127.0.0.1:2181@0x1ce24091] zookeeper.ZooKeeper: Client environment:os.memory.total=197MB\n",
            "2022-06-24 00:09:44,508 INFO  [ReadOnlyZKClient-127.0.0.1:2181@0x1ce24091] zookeeper.ZooKeeper: Initiating client connection, connectString=127.0.0.1:2181 sessionTimeout=90000 watcher=org.apache.hadoop.hbase.zookeeper.ReadOnlyZKClient$$Lambda$15/895446950@3ac1a97a\n",
            "2022-06-24 00:09:44,512 INFO  [ReadOnlyZKClient-127.0.0.1:2181@0x1ce24091] common.X509Util: Setting -D jdk.tls.rejectClientInitiatedRenegotiation=true to disable client-initiated TLS renegotiation\n",
            "2022-06-24 00:09:44,520 INFO  [ReadOnlyZKClient-127.0.0.1:2181@0x1ce24091] zookeeper.ClientCnxnSocket: jute.maxbuffer value is 4194304 Bytes\n",
            "2022-06-24 00:09:44,526 INFO  [ReadOnlyZKClient-127.0.0.1:2181@0x1ce24091] zookeeper.ClientCnxn: zookeeper.request.timeout value is 0. feature enabled=\n",
            "2022-06-24 00:09:44,533 INFO  [ReadOnlyZKClient-127.0.0.1:2181@0x1ce24091-SendThread(127.0.0.1:2181)] zookeeper.ClientCnxn: Opening socket connection to server localhost/127.0.0.1:2181. Will not attempt to authenticate using SASL (unknown error)\n",
            "2022-06-24 00:09:44,539 INFO  [ReadOnlyZKClient-127.0.0.1:2181@0x1ce24091-SendThread(127.0.0.1:2181)] zookeeper.ClientCnxn: Socket connection established, initiating session, client: /127.0.0.1:53692, server: localhost/127.0.0.1:2181\n",
            "2022-06-24 00:09:44,548 INFO  [ReadOnlyZKClient-127.0.0.1:2181@0x1ce24091-SendThread(127.0.0.1:2181)] zookeeper.ClientCnxn: Session establishment complete on server localhost/127.0.0.1:2181, sessionid = 0x1000004060c0006, negotiated timeout = 40000\n",
            "2022-06-24 00:09:45,617 INFO  [main] Configuration.deprecation: session.id is deprecated. Instead, use dfs.metrics.session-id\n",
            "2022-06-24 00:09:45,618 INFO  [main] jvm.JvmMetrics: Initializing JVM Metrics with processName=JobTracker, sessionId=\n",
            "2022-06-24 00:09:45,682 INFO  [ReadOnlyZKClient-127.0.0.1:2181@0x5ddabb18] zookeeper.ZooKeeper: Initiating client connection, connectString=127.0.0.1:2181 sessionTimeout=90000 watcher=org.apache.hadoop.hbase.zookeeper.ReadOnlyZKClient$$Lambda$15/895446950@3ac1a97a\n",
            "2022-06-24 00:09:45,687 INFO  [ReadOnlyZKClient-127.0.0.1:2181@0x1ce24091] zookeeper.ZooKeeper: Session: 0x1000004060c0006 closed\n",
            "2022-06-24 00:09:45,687 INFO  [ReadOnlyZKClient-127.0.0.1:2181@0x1ce24091-EventThread] zookeeper.ClientCnxn: EventThread shut down for session: 0x1000004060c0006\n",
            "2022-06-24 00:09:45,689 INFO  [ReadOnlyZKClient-127.0.0.1:2181@0x5ddabb18] zookeeper.ClientCnxnSocket: jute.maxbuffer value is 4194304 Bytes\n",
            "2022-06-24 00:09:45,690 INFO  [ReadOnlyZKClient-127.0.0.1:2181@0x5ddabb18] zookeeper.ClientCnxn: zookeeper.request.timeout value is 0. feature enabled=\n",
            "2022-06-24 00:09:45,690 INFO  [ReadOnlyZKClient-127.0.0.1:2181@0x5ddabb18-SendThread(127.0.0.1:2181)] zookeeper.ClientCnxn: Opening socket connection to server localhost/127.0.0.1:2181. Will not attempt to authenticate using SASL (unknown error)\n",
            "2022-06-24 00:09:45,690 INFO  [ReadOnlyZKClient-127.0.0.1:2181@0x5ddabb18-SendThread(127.0.0.1:2181)] zookeeper.ClientCnxn: Socket connection established, initiating session, client: /127.0.0.1:53700, server: localhost/127.0.0.1:2181\n",
            "2022-06-24 00:09:45,698 INFO  [ReadOnlyZKClient-127.0.0.1:2181@0x5ddabb18-SendThread(127.0.0.1:2181)] zookeeper.ClientCnxn: Session establishment complete on server localhost/127.0.0.1:2181, sessionid = 0x1000004060c0007, negotiated timeout = 40000\n",
            "2022-06-24 00:09:45,846 INFO  [ReadOnlyZKClient-127.0.0.1:2181@0x5ddabb18] zookeeper.ZooKeeper: Session: 0x1000004060c0007 closed\n",
            "2022-06-24 00:09:45,846 INFO  [ReadOnlyZKClient-127.0.0.1:2181@0x5ddabb18-EventThread] zookeeper.ClientCnxn: EventThread shut down for session: 0x1000004060c0007\n",
            "2022-06-24 00:09:45,907 INFO  [main] input.FileInputFormat: Total input files to process : 1\n",
            "2022-06-24 00:09:45,935 INFO  [main] mapreduce.JobSubmitter: number of splits:1\n",
            "2022-06-24 00:09:46,128 INFO  [main] mapreduce.JobSubmitter: Submitting tokens for job: job_local2024322990_0001\n",
            "2022-06-24 00:09:46,345 INFO  [main] mapred.LocalDistributedCacheManager: Creating symlink: /tmp/hadoop-root/mapred/local/1656029386206/libjars <- /content/libjars/*\n",
            "2022-06-24 00:09:46,353 WARN  [main] fs.FileUtil: Command 'ln -s /tmp/hadoop-root/mapred/local/1656029386206/libjars /content/libjars/*' failed 1 with: ln: failed to create symbolic link '/content/libjars/*': No such file or directory\n",
            "\n",
            "2022-06-24 00:09:46,353 WARN  [main] mapred.LocalDistributedCacheManager: Failed to create symlink: /tmp/hadoop-root/mapred/local/1656029386206/libjars <- /content/libjars/*\n",
            "2022-06-24 00:09:46,354 INFO  [main] mapred.LocalDistributedCacheManager: Localized file:/tmp/hadoop-root/mapred/staging/root2024322990/.staging/job_local2024322990_0001/libjars as file:/tmp/hadoop-root/mapred/local/1656029386206/libjars\n",
            "2022-06-24 00:09:46,433 INFO  [main] mapreduce.Job: The url to track the job: http://localhost:8080/\n",
            "2022-06-24 00:09:46,433 INFO  [main] mapreduce.Job: Running job: job_local2024322990_0001\n",
            "2022-06-24 00:09:46,439 INFO  [Thread-7] mapred.LocalJobRunner: OutputCommitter set in config null\n",
            "2022-06-24 00:09:46,461 INFO  [Thread-7] mapred.LocalJobRunner: OutputCommitter is org.apache.hadoop.hbase.mapreduce.TableOutputCommitter\n",
            "2022-06-24 00:09:46,487 INFO  [Thread-7] mapred.LocalJobRunner: Waiting for map tasks\n",
            "2022-06-24 00:09:46,487 INFO  [LocalJobRunner Map Task Executor #0] mapred.LocalJobRunner: Starting task: attempt_local2024322990_0001_m_000000_0\n",
            "2022-06-24 00:09:46,552 INFO  [LocalJobRunner Map Task Executor #0] mapred.Task:  Using ResourceCalculatorProcessTree : [ ]\n",
            "2022-06-24 00:09:46,561 INFO  [LocalJobRunner Map Task Executor #0] mapred.MapTask: Processing split: file:/tmp/Employee.csv:0+661\n",
            "2022-06-24 00:09:46,571 INFO  [ReadOnlyZKClient-127.0.0.1:2181@0x11f5f9cf] zookeeper.ZooKeeper: Initiating client connection, connectString=127.0.0.1:2181 sessionTimeout=90000 watcher=org.apache.hadoop.hbase.zookeeper.ReadOnlyZKClient$$Lambda$15/895446950@3ac1a97a\n",
            "2022-06-24 00:09:46,571 INFO  [ReadOnlyZKClient-127.0.0.1:2181@0x11f5f9cf] zookeeper.ClientCnxnSocket: jute.maxbuffer value is 4194304 Bytes\n",
            "2022-06-24 00:09:46,571 INFO  [ReadOnlyZKClient-127.0.0.1:2181@0x11f5f9cf] zookeeper.ClientCnxn: zookeeper.request.timeout value is 0. feature enabled=\n",
            "2022-06-24 00:09:46,571 INFO  [ReadOnlyZKClient-127.0.0.1:2181@0x11f5f9cf-SendThread(127.0.0.1:2181)] zookeeper.ClientCnxn: Opening socket connection to server localhost/127.0.0.1:2181. Will not attempt to authenticate using SASL (unknown error)\n",
            "2022-06-24 00:09:46,572 INFO  [ReadOnlyZKClient-127.0.0.1:2181@0x11f5f9cf-SendThread(127.0.0.1:2181)] zookeeper.ClientCnxn: Socket connection established, initiating session, client: /127.0.0.1:53710, server: localhost/127.0.0.1:2181\n",
            "2022-06-24 00:09:46,575 INFO  [ReadOnlyZKClient-127.0.0.1:2181@0x11f5f9cf-SendThread(127.0.0.1:2181)] zookeeper.ClientCnxn: Session establishment complete on server localhost/127.0.0.1:2181, sessionid = 0x1000004060c0008, negotiated timeout = 40000\n",
            "2022-06-24 00:09:46,581 INFO  [LocalJobRunner Map Task Executor #0] mapreduce.TableOutputFormat: Created table instance for Emp\n",
            "2022-06-24 00:09:46,607 INFO  [ReadOnlyZKClient-127.0.0.1:2181@0x4d877598] zookeeper.ZooKeeper: Initiating client connection, connectString=127.0.0.1:2181 sessionTimeout=90000 watcher=org.apache.hadoop.hbase.zookeeper.ReadOnlyZKClient$$Lambda$15/895446950@3ac1a97a\n",
            "2022-06-24 00:09:46,607 INFO  [ReadOnlyZKClient-127.0.0.1:2181@0x4d877598] zookeeper.ClientCnxnSocket: jute.maxbuffer value is 4194304 Bytes\n",
            "2022-06-24 00:09:46,608 INFO  [ReadOnlyZKClient-127.0.0.1:2181@0x4d877598] zookeeper.ClientCnxn: zookeeper.request.timeout value is 0. feature enabled=\n",
            "2022-06-24 00:09:46,608 INFO  [ReadOnlyZKClient-127.0.0.1:2181@0x4d877598-SendThread(127.0.0.1:2181)] zookeeper.ClientCnxn: Opening socket connection to server localhost/127.0.0.1:2181. Will not attempt to authenticate using SASL (unknown error)\n",
            "2022-06-24 00:09:46,608 INFO  [ReadOnlyZKClient-127.0.0.1:2181@0x4d877598-SendThread(127.0.0.1:2181)] zookeeper.ClientCnxn: Socket connection established, initiating session, client: /127.0.0.1:53712, server: localhost/127.0.0.1:2181\n",
            "2022-06-24 00:09:46,613 INFO  [ReadOnlyZKClient-127.0.0.1:2181@0x4d877598-SendThread(127.0.0.1:2181)] zookeeper.ClientCnxn: Session establishment complete on server localhost/127.0.0.1:2181, sessionid = 0x1000004060c0009, negotiated timeout = 40000\n",
            "2022-06-24 00:09:46,683 INFO  [LocalJobRunner Map Task Executor #0] mapred.LocalJobRunner: \n",
            "2022-06-24 00:09:46,781 INFO  [ReadOnlyZKClient-127.0.0.1:2181@0x4d877598] zookeeper.ZooKeeper: Session: 0x1000004060c0009 closed\n",
            "2022-06-24 00:09:46,781 INFO  [ReadOnlyZKClient-127.0.0.1:2181@0x4d877598-EventThread] zookeeper.ClientCnxn: EventThread shut down for session: 0x1000004060c0009\n",
            "2022-06-24 00:09:46,886 INFO  [LocalJobRunner Map Task Executor #0] mapred.Task: Task:attempt_local2024322990_0001_m_000000_0 is done. And is in the process of committing\n",
            "2022-06-24 00:09:46,905 INFO  [LocalJobRunner Map Task Executor #0] mapred.LocalJobRunner: map\n",
            "2022-06-24 00:09:46,905 INFO  [LocalJobRunner Map Task Executor #0] mapred.Task: Task 'attempt_local2024322990_0001_m_000000_0' done.\n",
            "2022-06-24 00:09:46,912 INFO  [LocalJobRunner Map Task Executor #0] mapred.Task: Final Counters for attempt_local2024322990_0001_m_000000_0: Counters: 19\n",
            "\tFile System Counters\n",
            "\t\tFILE: Number of bytes read=432722\n",
            "\t\tFILE: Number of bytes written=1005110\n",
            "\t\tFILE: Number of read operations=0\n",
            "\t\tFILE: Number of large read operations=0\n",
            "\t\tFILE: Number of write operations=0\n",
            "\tMap-Reduce Framework\n",
            "\t\tMap input records=12\n",
            "\t\tMap output records=12\n",
            "\t\tInput split bytes=87\n",
            "\t\tSpilled Records=0\n",
            "\t\tFailed Shuffles=0\n",
            "\t\tMerged Map outputs=0\n",
            "\t\tGC time elapsed (ms)=0\n",
            "\t\tCPU time spent (ms)=520\n",
            "\t\tPhysical memory (bytes) snapshot=281198592\n",
            "\t\tVirtual memory (bytes) snapshot=5157236736\n",
            "\t\tTotal committed heap usage (bytes)=206831616\n",
            "\tImportTsv\n",
            "\t\tBad Lines=0\n",
            "\tFile Input Format Counters \n",
            "\t\tBytes Read=685\n",
            "\tFile Output Format Counters \n",
            "\t\tBytes Written=0\n",
            "2022-06-24 00:09:46,913 INFO  [LocalJobRunner Map Task Executor #0] mapred.LocalJobRunner: Finishing task: attempt_local2024322990_0001_m_000000_0\n",
            "2022-06-24 00:09:46,913 INFO  [Thread-7] mapred.LocalJobRunner: map task executor complete.\n",
            "2022-06-24 00:09:46,990 INFO  [ReadOnlyZKClient-127.0.0.1:2181@0x11f5f9cf] zookeeper.ZooKeeper: Session: 0x1000004060c0008 closed\n",
            "2022-06-24 00:09:46,991 INFO  [ReadOnlyZKClient-127.0.0.1:2181@0x11f5f9cf-EventThread] zookeeper.ClientCnxn: EventThread shut down for session: 0x1000004060c0008\n",
            "2022-06-24 00:09:47,438 INFO  [main] mapreduce.Job: Job job_local2024322990_0001 running in uber mode : false\n",
            "2022-06-24 00:09:47,439 INFO  [main] mapreduce.Job:  map 100% reduce 0%\n",
            "2022-06-24 00:09:47,440 INFO  [main] mapreduce.Job: Job job_local2024322990_0001 completed successfully\n",
            "2022-06-24 00:09:47,445 INFO  [main] mapreduce.Job: Counters: 19\n",
            "\tFile System Counters\n",
            "\t\tFILE: Number of bytes read=432722\n",
            "\t\tFILE: Number of bytes written=1005110\n",
            "\t\tFILE: Number of read operations=0\n",
            "\t\tFILE: Number of large read operations=0\n",
            "\t\tFILE: Number of write operations=0\n",
            "\tMap-Reduce Framework\n",
            "\t\tMap input records=12\n",
            "\t\tMap output records=12\n",
            "\t\tInput split bytes=87\n",
            "\t\tSpilled Records=0\n",
            "\t\tFailed Shuffles=0\n",
            "\t\tMerged Map outputs=0\n",
            "\t\tGC time elapsed (ms)=0\n",
            "\t\tCPU time spent (ms)=520\n",
            "\t\tPhysical memory (bytes) snapshot=281198592\n",
            "\t\tVirtual memory (bytes) snapshot=5157236736\n",
            "\t\tTotal committed heap usage (bytes)=206831616\n",
            "\tImportTsv\n",
            "\t\tBad Lines=0\n",
            "\tFile Input Format Counters \n",
            "\t\tBytes Read=685\n",
            "\tFile Output Format Counters \n",
            "\t\tBytes Written=0\n"
          ]
        }
      ]
    },
    {
      "cell_type": "code",
      "metadata": {
        "id": "jxvMPuZ8gOW5"
      },
      "source": [
        "kxn.open()\n",
        "tEmp = kxn.table('Emp')\n",
        "kxn.close()"
      ],
      "execution_count": 30,
      "outputs": []
    },
    {
      "cell_type": "code",
      "metadata": {
        "colab": {
          "base_uri": "https://localhost:8080/"
        },
        "id": "uonqOE2AgXeq",
        "outputId": "9de6bbb1-b8f6-4d0e-f4c3-034b8e39aaed"
      },
      "source": [
        "kxn.open()\n",
        "#tDept = kxn.table('Dept')\n",
        "for key, data in tEmp.scan():\n",
        "    print(key, data)\n",
        "kxn.close()"
      ],
      "execution_count": 31,
      "outputs": [
        {
          "output_type": "stream",
          "name": "stdout",
          "text": [
            "b'123980' {b'Comm:': b'0.02', b'DeptID:': b'40', b'DoJ:': b'2004-10-09', b'FirstName:': b'Mahender', b'LastName:': b'Dhoni', b'Role:': b'Clerk', b'Salary:': b'9000'}\n",
            "b'223112' {b'Comm:': b'0.04', b'DeptID:': b'30', b'DoJ:': b'2001-11-19', b'FirstName:': b'Sania', b'LastName:': b'Mirza', b'Role:': b'Cus_Rep', b'Salary:': b'25000'}\n",
            "b'239456' {b'Comm:': b'0.07', b'DeptID:': b'20', b'DoJ:': b'2004-01-03', b'FirstName:': b'Shahrukh', b'LastName:': b'Khan', b'Role:': b'Manager', b'Salary:': b'30000'}\n",
            "b'299034' {b'Comm:': b'0.11', b'DeptID:': b'10', b'DoJ:': b'2002-10-10', b'FirstName:': b'Rekha', b'LastName:': b'Ganesan', b'Role:': b'Director', b'Salary:': b'60000'}\n",
            "b'349870' {b'Comm:': b'0.06', b'DeptID:': b'40', b'DoJ:': b'2005-05-04', b'FirstName:': b'Rani', b'LastName:': b'Mukherjee', b'Role:': b'Manager', b'Salary:': b'25000'}\n",
            "b'546223' {b'Comm:': b'0.09', b'DeptID:': b'10', b'DoJ:': b'2005-12-04', b'FirstName:': b'Narayan', b'LastName:': b'Karthikeyan', b'Role:': b'Secretary', b'Salary:': b'40000'}\n",
            "b'742866' {b'Comm:': b'0.1', b'DeptID:': b'10', b'DoJ:': b'2003-03-10', b'FirstName:': b'Amitabh', b'LastName:': b'Bacchan', b'Role:': b'Executive', b'Salary:': b'50000'}\n",
            "b'822134' {b'Comm:': b'0.08', b'DeptID:': b'30', b'DoJ:': b'2000-06-04', b'FirstName:': b'Rahul', b'LastName:': b'Dravid', b'Role:': b'Sr Manager', b'Salary:': b'40000'}\n",
            "b'865477' {b'Comm:': b'0.02', b'DeptID:': b'20', b'DoJ:': b'2002-04-04', b'FirstName:': b'Madhuri', b'LastName:': b'Dikshit', b'Role:': b'Clerk', b'Salary:': b'10000'}\n",
            "b'897889' {b'Comm:': b'0.05', b'DeptID:': b'20', b'DoJ:': b'2005-01-02', b'FirstName:': b'Virender', b'LastName:': b'Sehwag', b'Role:': b'Cus_Rep', b'Salary:': b'15000'}\n",
            "b'989007' {b'Comm:': b'0.03', b'DeptID:': b'40', b'DoJ:': b'2002-01-01', b'FirstName:': b'Sourav', b'LastName:': b'Ganguly', b'Role:': b'Cus_Rep', b'Salary:': b'20000'}\n",
            "b'997445' {b'Comm:': b'0.02', b'DeptID:': b'30', b'DoJ:': b'2001-07-01', b'FirstName:': b'Jagmohan', b'LastName:': b'Dalmia', b'Role:': b'Clerk', b'Salary:': b'12000'}\n"
          ]
        }
      ]
    },
    {
      "cell_type": "markdown",
      "metadata": {
        "id": "TS__XdMYjLzd"
      },
      "source": [
        "## Creating, INSERTing Denormalised EmpDept Table"
      ]
    },
    {
      "cell_type": "code",
      "metadata": {
        "id": "HQRpLsmfjbgp"
      },
      "source": [
        "kxn.open()\n",
        "#Drop Table\n",
        "#kxn.disable_table('EmpDept')\n",
        "#kxn.delete_table('EmpDept')\n",
        "#Create Table\n",
        "kxn.create_table(\n",
        "    'EmpDept',\n",
        "    {'EmpID': dict(max_versions=10),\n",
        "     'Emp': dict(),  # use defaults\n",
        "     'Dept': dict(),  # use defaults\n",
        "    }\n",
        ")\n",
        "kxn.close()"
      ],
      "execution_count": 32,
      "outputs": []
    },
    {
      "cell_type": "code",
      "metadata": {
        "colab": {
          "base_uri": "https://localhost:8080/"
        },
        "id": "NI6Zk4bKqMas",
        "outputId": "eeb83568-40b2-4be8-e084-fdbad00df365"
      },
      "source": [
        "kxn.open()\n",
        "kxn.tables()"
      ],
      "execution_count": 33,
      "outputs": [
        {
          "output_type": "execute_result",
          "data": {
            "text/plain": [
              "[b'Dept', b'Emp', b'EmpDept']"
            ]
          },
          "metadata": {},
          "execution_count": 33
        }
      ]
    },
    {
      "cell_type": "code",
      "metadata": {
        "id": "duGwwpF1n5IG"
      },
      "source": [
        "kxn.open()\n",
        "tEmpDept = kxn.table('EmpDept')\n",
        "b = tEmpDept.batch()\n",
        "b.put(b'742866', { b'Emp:FirstName': b'Amitabh', b'Dept:DeptName': b'Corporate', b'Dept:Location': b'Calcutta'})\n",
        "b.put(b'349870', { b'Emp:LastName': b'Mukheree', b'Dept:ManagerID': b'567234', b'Dept:Location:': b'Bombay'})\n",
        "b.send()\n",
        "kxn.close()"
      ],
      "execution_count": 34,
      "outputs": []
    },
    {
      "cell_type": "code",
      "metadata": {
        "colab": {
          "base_uri": "https://localhost:8080/"
        },
        "id": "AzxFRXp7rS87",
        "outputId": "e4b19c22-78b7-4dc0-af9c-1971059f417a"
      },
      "source": [
        "kxn.open()\n",
        "#tDept = kxn.table('Dept')\n",
        "for key, data in tEmpDept.scan():\n",
        "    print(key, data)\n",
        "kxn.close()"
      ],
      "execution_count": 35,
      "outputs": [
        {
          "output_type": "stream",
          "name": "stdout",
          "text": [
            "b'349870' {b'Dept:Location:': b'Bombay', b'Dept:ManagerID': b'567234', b'Emp:LastName': b'Mukheree'}\n",
            "b'742866' {b'Dept:DeptName': b'Corporate', b'Dept:Location': b'Calcutta', b'Emp:FirstName': b'Amitabh'}\n"
          ]
        }
      ]
    },
    {
      "cell_type": "markdown",
      "metadata": {
        "id": "YWZKpJ_LtMnQ"
      },
      "source": [
        "##Creating and LOADing denormalised tables EmpDept2"
      ]
    },
    {
      "cell_type": "code",
      "metadata": {
        "id": "giAKNFnMtJ-b"
      },
      "source": [
        "kxn.open()\n",
        "#Drop Table\n",
        "#kxn.disable_table('EmpDept2')\n",
        "#kxn.delete_table('EmpDept2')\n",
        "#Create Table\n",
        "kxn.create_table(\n",
        "    'EmpDept2',\n",
        "    {'EmpID': dict(max_versions=10),\n",
        "     'Emp': dict(),  # use defaults\n",
        "     'Dept': dict(),  # use defaults\n",
        "    }\n",
        ")\n",
        "kxn.close()"
      ],
      "execution_count": 36,
      "outputs": []
    },
    {
      "cell_type": "code",
      "metadata": {
        "colab": {
          "base_uri": "https://localhost:8080/"
        },
        "id": "s2WwCA4euf-i",
        "outputId": "a8096fce-ef7c-4240-9e3f-e4a1bd5f1de5"
      },
      "source": [
        "kxn.open()\n",
        "kxn.tables()"
      ],
      "execution_count": 37,
      "outputs": [
        {
          "output_type": "execute_result",
          "data": {
            "text/plain": [
              "[b'Dept', b'Emp', b'EmpDept', b'EmpDept2']"
            ]
          },
          "metadata": {},
          "execution_count": 37
        }
      ]
    },
    {
      "cell_type": "code",
      "metadata": {
        "id": "3fijaJ_G5ktF"
      },
      "source": [
        "!wget -q https://raw.githubusercontent.com/Praxis-QR/BDSN/main/Documents/EmployeeDept2.txt"
      ],
      "execution_count": 38,
      "outputs": []
    },
    {
      "cell_type": "code",
      "source": [
        "!cat EmployeeDept2.txt"
      ],
      "metadata": {
        "id": "319EWjdEB5yn",
        "outputId": "d1cb9322-4c91-4cbf-80b5-9aabab6ceed2",
        "colab": {
          "base_uri": "https://localhost:8080/"
        }
      },
      "execution_count": null,
      "outputs": [
        {
          "output_type": "stream",
          "name": "stdout",
          "text": [
            "742866,Bacchan,Amitabh,Executive,2003-03-10,50000,0.1,10,Corporate,299034,Calcutta\n",
            "349870,Mukherjee,Rani,Manager,2005-05-04,25000,0.06,40,Production,349870,Bombay\n",
            "865477,Dikshit,Madhuri,Clerk,2002-04-04,10000,0.02,20,Sales,239456,Calcutta\n",
            "239456,Khan,Shahrukh,Manager,2004-01-03,30000,0.07,20,Sales,239456,Calcutta\n",
            "897889,Sehwag,Virender,Cus_Rep,2005-01-02,15000,0.05,20,Sales,239456,Calcutta\n",
            "123980,Dhoni,Mahender,Clerk,2004-10-09,9000,0.02,40,Production,349870,Bombay\n",
            "822134,Dravid,Rahul,Sr Manager,2000-06-04,40000,0.08,30,Accounts,822134,Calcutta\n",
            "997445,Dalmia,Jagmohan,Clerk,2001-07-01,12000,0.02,30,Accounts,822134,Calcutta\n",
            "989007,Ganguly,Sourav,Cus_Rep,2002-01-01,20000,0.03,40,Production,349870,Bombay\n",
            "299034,Ganesan,Rekha,Director,2002-10-10,60000,0.11,10,Corporate,299034,Calcutta\n",
            "546223,Karthikeyan,Narayan,Secretary,2005-12-04,40000,0.09,10,Corporate,299034,Calcutta\n",
            "223112,Mirza,Sania,Cus_Rep,2001-11-19,25000,0.04,30,Accounts,822134,Calcutta"
          ]
        }
      ]
    },
    {
      "cell_type": "code",
      "metadata": {
        "id": "vvItjBLuu7oM"
      },
      "source": [
        "# input file has to be moved from regular file system to HDFS file system\n",
        "!hdfs dfs -copyFromLocal EmployeeDept2.txt /tmp"
      ],
      "execution_count": 39,
      "outputs": []
    },
    {
      "cell_type": "code",
      "metadata": {
        "colab": {
          "base_uri": "https://localhost:8080/"
        },
        "id": "j_VFWQZJvXqn",
        "outputId": "c86d3439-9a94-4e88-d158-309160d8850e"
      },
      "source": [
        "# https://community.cloudera.com/t5/Community-Articles/Import-CSV-data-into-HBase-using-importtsv/ta-p/244842\n",
        "#hbase org.apache.hadoop.hbase.mapreduce.ImportTsv -Dimporttsv.separator=,  -Dimporttsv.columns=\"HBASE_ROW_KEY,id,temp:in,temp:out,vibration,pressure:in,pressure:out\" sensor hdfs://sandbox.hortonworks.com:/tmp/hbase.csv\n",
        "!hbase org.apache.hadoop.hbase.mapreduce.ImportTsv -Dimporttsv.separator=','  -Dimporttsv.columns=\"HBASE_ROW_KEY,Emp:LastName,Emp:FirstName,Emp:Role,Emp:DoJ,Emp:Salary,Emp:Comm,Dept:DeptID,Dept:DeptName,Dept:ManagerID,Dept:Location\" EmpDept2 /tmp/EmployeeDept2.txt"
      ],
      "execution_count": 40,
      "outputs": [
        {
          "output_type": "stream",
          "name": "stdout",
          "text": [
            "2022-06-24 00:11:49,444 INFO  [ReadOnlyZKClient-127.0.0.1:2181@0x1ce24091] zookeeper.ZooKeeper: Client environment:zookeeper.version=3.5.7-f0fdd52973d373ffd9c86b81d99842dc2c7f660e, built on 02/10/2020 11:30 GMT\n",
            "2022-06-24 00:11:49,444 INFO  [ReadOnlyZKClient-127.0.0.1:2181@0x1ce24091] zookeeper.ZooKeeper: Client environment:host.name=ee3c957a6bdf\n",
            "2022-06-24 00:11:49,444 INFO  [ReadOnlyZKClient-127.0.0.1:2181@0x1ce24091] zookeeper.ZooKeeper: Client environment:java.version=1.8.0_312\n",
            "2022-06-24 00:11:49,444 INFO  [ReadOnlyZKClient-127.0.0.1:2181@0x1ce24091] zookeeper.ZooKeeper: Client environment:java.vendor=Private Build\n",
            "2022-06-24 00:11:49,444 INFO  [ReadOnlyZKClient-127.0.0.1:2181@0x1ce24091] zookeeper.ZooKeeper: Client environment:java.home=/usr/lib/jvm/java-8-openjdk-amd64/jre\n",
            "2022-06-24 00:11:49,444 INFO  [ReadOnlyZKClient-127.0.0.1:2181@0x1ce24091] zookeeper.ZooKeeper: managed-am-launcher-3.3.3.jar:/usr/local/hadoop-3.3.3//share/hadoop/yarn/hadoop-yarn-api-3.3.3.jar:/usr/local/hadoop-3.3.3//share/hadoop/yarn/hadoop-yarn-server-web-proxy-3.3.3.jar:/usr/local/hadoop-3.3.3//share/hadoop/yarn/hadoop-yarn-services-core-3.3.3.jar:/usr/local/hadoop-3.3.3//share/hadoop/yarn/hadoop-yarn-applications-mawo-core-3.3.3.jar:/usr/local/hadoop-3.3.3//share/hadoop/yarn/hadoop-yarn-client-3.3.3.jar:/usr/local/hadoop-3.3.3//share/hadoop/yarn/hadoop-yarn-server-resourcemanager-3.3.3.jar:/usr/local/hadoop-3.3.3//share/hadoop/yarn/hadoop-yarn-server-router-3.3.3.jar:/usr/local/hadoop-3.3.3//share/hadoop/yarn/hadoop-yarn-applications-distributedshell-3.3.3.jar:/usr/local/hadoop-3.3.3//share/hadoop/yarn/hadoop-yarn-server-tests-3.3.3.jar:/usr/local/hadoop-3.3.3//share/hadoop/yarn/hadoop-yarn-services-api-3.3.3.jar:/usr/local/hadoop-3.3.3//share/hadoop/yarn/hadoop-yarn-common-3.3.3.jar:/usr/local/hadoop-3.3.3//share/hadoop/yarn/hadoop-yarn-server-sharedcachemanager-3.3.3.jar\n",
            "2022-06-24 00:11:49,445 INFO  [ReadOnlyZKClient-127.0.0.1:2181@0x1ce24091] zookeeper.ZooKeeper: Client environment:java.library.path=/usr/local/hadoop-3.3.3//lib/native\n",
            "2022-06-24 00:11:49,445 INFO  [ReadOnlyZKClient-127.0.0.1:2181@0x1ce24091] zookeeper.ZooKeeper: Client environment:java.io.tmpdir=/tmp\n",
            "2022-06-24 00:11:49,445 INFO  [ReadOnlyZKClient-127.0.0.1:2181@0x1ce24091] zookeeper.ZooKeeper: Client environment:java.compiler=<NA>\n",
            "2022-06-24 00:11:49,445 INFO  [ReadOnlyZKClient-127.0.0.1:2181@0x1ce24091] zookeeper.ZooKeeper: Client environment:os.name=Linux\n",
            "2022-06-24 00:11:49,445 INFO  [ReadOnlyZKClient-127.0.0.1:2181@0x1ce24091] zookeeper.ZooKeeper: Client environment:os.arch=amd64\n",
            "2022-06-24 00:11:49,445 INFO  [ReadOnlyZKClient-127.0.0.1:2181@0x1ce24091] zookeeper.ZooKeeper: Client environment:os.version=5.4.188+\n",
            "2022-06-24 00:11:49,445 INFO  [ReadOnlyZKClient-127.0.0.1:2181@0x1ce24091] zookeeper.ZooKeeper: Client environment:user.name=root\n",
            "2022-06-24 00:11:49,445 INFO  [ReadOnlyZKClient-127.0.0.1:2181@0x1ce24091] zookeeper.ZooKeeper: Client environment:user.home=/root\n",
            "2022-06-24 00:11:49,445 INFO  [ReadOnlyZKClient-127.0.0.1:2181@0x1ce24091] zookeeper.ZooKeeper: Client environment:user.dir=/content\n",
            "2022-06-24 00:11:49,445 INFO  [ReadOnlyZKClient-127.0.0.1:2181@0x1ce24091] zookeeper.ZooKeeper: Client environment:os.memory.free=178MB\n",
            "2022-06-24 00:11:49,445 INFO  [ReadOnlyZKClient-127.0.0.1:2181@0x1ce24091] zookeeper.ZooKeeper: Client environment:os.memory.max=3231MB\n",
            "2022-06-24 00:11:49,445 INFO  [ReadOnlyZKClient-127.0.0.1:2181@0x1ce24091] zookeeper.ZooKeeper: Client environment:os.memory.total=197MB\n",
            "2022-06-24 00:11:49,448 INFO  [ReadOnlyZKClient-127.0.0.1:2181@0x1ce24091] zookeeper.ZooKeeper: Initiating client connection, connectString=127.0.0.1:2181 sessionTimeout=90000 watcher=org.apache.hadoop.hbase.zookeeper.ReadOnlyZKClient$$Lambda$15/1988862565@3c815732\n",
            "2022-06-24 00:11:49,453 INFO  [ReadOnlyZKClient-127.0.0.1:2181@0x1ce24091] common.X509Util: Setting -D jdk.tls.rejectClientInitiatedRenegotiation=true to disable client-initiated TLS renegotiation\n",
            "2022-06-24 00:11:49,459 INFO  [ReadOnlyZKClient-127.0.0.1:2181@0x1ce24091] zookeeper.ClientCnxnSocket: jute.maxbuffer value is 4194304 Bytes\n",
            "2022-06-24 00:11:49,465 INFO  [ReadOnlyZKClient-127.0.0.1:2181@0x1ce24091] zookeeper.ClientCnxn: zookeeper.request.timeout value is 0. feature enabled=\n",
            "2022-06-24 00:11:49,471 INFO  [ReadOnlyZKClient-127.0.0.1:2181@0x1ce24091-SendThread(127.0.0.1:2181)] zookeeper.ClientCnxn: Opening socket connection to server localhost/127.0.0.1:2181. Will not attempt to authenticate using SASL (unknown error)\n",
            "2022-06-24 00:11:49,478 INFO  [ReadOnlyZKClient-127.0.0.1:2181@0x1ce24091-SendThread(127.0.0.1:2181)] zookeeper.ClientCnxn: Socket connection established, initiating session, client: /127.0.0.1:54128, server: localhost/127.0.0.1:2181\n",
            "2022-06-24 00:11:49,486 INFO  [ReadOnlyZKClient-127.0.0.1:2181@0x1ce24091-SendThread(127.0.0.1:2181)] zookeeper.ClientCnxn: Session establishment complete on server localhost/127.0.0.1:2181, sessionid = 0x1000004060c000a, negotiated timeout = 40000\n",
            "2022-06-24 00:11:50,597 INFO  [main] Configuration.deprecation: session.id is deprecated. Instead, use dfs.metrics.session-id\n",
            "2022-06-24 00:11:50,598 INFO  [main] jvm.JvmMetrics: Initializing JVM Metrics with processName=JobTracker, sessionId=\n",
            "2022-06-24 00:11:50,657 INFO  [ReadOnlyZKClient-127.0.0.1:2181@0x34a97744] zookeeper.ZooKeeper: Initiating client connection, connectString=127.0.0.1:2181 sessionTimeout=90000 watcher=org.apache.hadoop.hbase.zookeeper.ReadOnlyZKClient$$Lambda$15/1988862565@3c815732\n",
            "2022-06-24 00:11:50,657 INFO  [ReadOnlyZKClient-127.0.0.1:2181@0x34a97744] zookeeper.ClientCnxnSocket: jute.maxbuffer value is 4194304 Bytes\n",
            "2022-06-24 00:11:50,657 INFO  [ReadOnlyZKClient-127.0.0.1:2181@0x34a97744] zookeeper.ClientCnxn: zookeeper.request.timeout value is 0. feature enabled=\n",
            "2022-06-24 00:11:50,658 INFO  [ReadOnlyZKClient-127.0.0.1:2181@0x34a97744-SendThread(127.0.0.1:2181)] zookeeper.ClientCnxn: Opening socket connection to server localhost/127.0.0.1:2181. Will not attempt to authenticate using SASL (unknown error)\n",
            "2022-06-24 00:11:50,659 INFO  [ReadOnlyZKClient-127.0.0.1:2181@0x34a97744-SendThread(127.0.0.1:2181)] zookeeper.ClientCnxn: Socket connection established, initiating session, client: /127.0.0.1:54140, server: localhost/127.0.0.1:2181\n",
            "2022-06-24 00:11:50,659 INFO  [ReadOnlyZKClient-127.0.0.1:2181@0x1ce24091] zookeeper.ZooKeeper: Session: 0x1000004060c000a closed\n",
            "2022-06-24 00:11:50,660 INFO  [ReadOnlyZKClient-127.0.0.1:2181@0x1ce24091-EventThread] zookeeper.ClientCnxn: EventThread shut down for session: 0x1000004060c000a\n",
            "2022-06-24 00:11:50,662 INFO  [ReadOnlyZKClient-127.0.0.1:2181@0x34a97744-SendThread(127.0.0.1:2181)] zookeeper.ClientCnxn: Session establishment complete on server localhost/127.0.0.1:2181, sessionid = 0x1000004060c000b, negotiated timeout = 40000\n",
            "2022-06-24 00:11:50,788 INFO  [ReadOnlyZKClient-127.0.0.1:2181@0x34a97744] zookeeper.ZooKeeper: Session: 0x1000004060c000b closed\n",
            "2022-06-24 00:11:50,788 INFO  [ReadOnlyZKClient-127.0.0.1:2181@0x34a97744-EventThread] zookeeper.ClientCnxn: EventThread shut down for session: 0x1000004060c000b\n",
            "2022-06-24 00:11:50,811 INFO  [main] input.FileInputFormat: Total input files to process : 1\n",
            "2022-06-24 00:11:50,857 INFO  [main] mapreduce.JobSubmitter: number of splits:1\n",
            "2022-06-24 00:11:51,050 INFO  [main] mapreduce.JobSubmitter: Submitting tokens for job: job_local1172448443_0001\n",
            "2022-06-24 00:11:51,334 INFO  [main] mapred.LocalDistributedCacheManager: Creating symlink: /tmp/hadoop-root/mapred/local/1656029511199/libjars <- /content/libjars/*\n",
            "2022-06-24 00:11:51,339 WARN  [main] fs.FileUtil: Command 'ln -s /tmp/hadoop-root/mapred/local/1656029511199/libjars /content/libjars/*' failed 1 with: ln: failed to create symbolic link '/content/libjars/*': No such file or directory\n",
            "\n",
            "2022-06-24 00:11:51,339 WARN  [main] mapred.LocalDistributedCacheManager: Failed to create symlink: /tmp/hadoop-root/mapred/local/1656029511199/libjars <- /content/libjars/*\n",
            "2022-06-24 00:11:51,339 INFO  [main] mapred.LocalDistributedCacheManager: Localized file:/tmp/hadoop-root/mapred/staging/root1172448443/.staging/job_local1172448443_0001/libjars as file:/tmp/hadoop-root/mapred/local/1656029511199/libjars\n",
            "2022-06-24 00:11:51,429 INFO  [main] mapreduce.Job: The url to track the job: http://localhost:8080/\n",
            "2022-06-24 00:11:51,430 INFO  [main] mapreduce.Job: Running job: job_local1172448443_0001\n",
            "2022-06-24 00:11:51,440 INFO  [Thread-7] mapred.LocalJobRunner: OutputCommitter set in config null\n",
            "2022-06-24 00:11:51,464 INFO  [Thread-7] mapred.LocalJobRunner: OutputCommitter is org.apache.hadoop.hbase.mapreduce.TableOutputCommitter\n",
            "2022-06-24 00:11:51,491 INFO  [Thread-7] mapred.LocalJobRunner: Waiting for map tasks\n",
            "2022-06-24 00:11:51,491 INFO  [LocalJobRunner Map Task Executor #0] mapred.LocalJobRunner: Starting task: attempt_local1172448443_0001_m_000000_0\n",
            "2022-06-24 00:11:51,544 INFO  [LocalJobRunner Map Task Executor #0] mapred.Task:  Using ResourceCalculatorProcessTree : [ ]\n",
            "2022-06-24 00:11:51,552 INFO  [LocalJobRunner Map Task Executor #0] mapred.MapTask: Processing split: file:/tmp/EmployeeDept2.txt:0+955\n",
            "2022-06-24 00:11:51,561 INFO  [ReadOnlyZKClient-127.0.0.1:2181@0x1cfeec48] zookeeper.ZooKeeper: Initiating client connection, connectString=127.0.0.1:2181 sessionTimeout=90000 watcher=org.apache.hadoop.hbase.zookeeper.ReadOnlyZKClient$$Lambda$15/1988862565@3c815732\n",
            "2022-06-24 00:11:51,561 INFO  [ReadOnlyZKClient-127.0.0.1:2181@0x1cfeec48] zookeeper.ClientCnxnSocket: jute.maxbuffer value is 4194304 Bytes\n",
            "2022-06-24 00:11:51,562 INFO  [ReadOnlyZKClient-127.0.0.1:2181@0x1cfeec48] zookeeper.ClientCnxn: zookeeper.request.timeout value is 0. feature enabled=\n",
            "2022-06-24 00:11:51,562 INFO  [ReadOnlyZKClient-127.0.0.1:2181@0x1cfeec48-SendThread(127.0.0.1:2181)] zookeeper.ClientCnxn: Opening socket connection to server localhost/127.0.0.1:2181. Will not attempt to authenticate using SASL (unknown error)\n",
            "2022-06-24 00:11:51,563 INFO  [ReadOnlyZKClient-127.0.0.1:2181@0x1cfeec48-SendThread(127.0.0.1:2181)] zookeeper.ClientCnxn: Socket connection established, initiating session, client: /127.0.0.1:54150, server: localhost/127.0.0.1:2181\n",
            "2022-06-24 00:11:51,566 INFO  [ReadOnlyZKClient-127.0.0.1:2181@0x1cfeec48-SendThread(127.0.0.1:2181)] zookeeper.ClientCnxn: Session establishment complete on server localhost/127.0.0.1:2181, sessionid = 0x1000004060c000c, negotiated timeout = 40000\n",
            "2022-06-24 00:11:51,571 INFO  [LocalJobRunner Map Task Executor #0] mapreduce.TableOutputFormat: Created table instance for EmpDept2\n",
            "2022-06-24 00:11:51,592 INFO  [ReadOnlyZKClient-127.0.0.1:2181@0x4e0355b9] zookeeper.ZooKeeper: Initiating client connection, connectString=127.0.0.1:2181 sessionTimeout=90000 watcher=org.apache.hadoop.hbase.zookeeper.ReadOnlyZKClient$$Lambda$15/1988862565@3c815732\n",
            "2022-06-24 00:11:51,592 INFO  [ReadOnlyZKClient-127.0.0.1:2181@0x4e0355b9] zookeeper.ClientCnxnSocket: jute.maxbuffer value is 4194304 Bytes\n",
            "2022-06-24 00:11:51,592 INFO  [ReadOnlyZKClient-127.0.0.1:2181@0x4e0355b9] zookeeper.ClientCnxn: zookeeper.request.timeout value is 0. feature enabled=\n",
            "2022-06-24 00:11:51,592 INFO  [ReadOnlyZKClient-127.0.0.1:2181@0x4e0355b9-SendThread(127.0.0.1:2181)] zookeeper.ClientCnxn: Opening socket connection to server localhost/127.0.0.1:2181. Will not attempt to authenticate using SASL (unknown error)\n",
            "2022-06-24 00:11:51,593 INFO  [ReadOnlyZKClient-127.0.0.1:2181@0x4e0355b9-SendThread(127.0.0.1:2181)] zookeeper.ClientCnxn: Socket connection established, initiating session, client: /127.0.0.1:54152, server: localhost/127.0.0.1:2181\n",
            "2022-06-24 00:11:51,596 INFO  [ReadOnlyZKClient-127.0.0.1:2181@0x4e0355b9-SendThread(127.0.0.1:2181)] zookeeper.ClientCnxn: Session establishment complete on server localhost/127.0.0.1:2181, sessionid = 0x1000004060c000d, negotiated timeout = 40000\n",
            "2022-06-24 00:11:51,665 INFO  [LocalJobRunner Map Task Executor #0] mapred.LocalJobRunner: \n",
            "2022-06-24 00:11:51,747 INFO  [LocalJobRunner Map Task Executor #0] mapred.Task: Task:attempt_local1172448443_0001_m_000000_0 is done. And is in the process of committing\n",
            "2022-06-24 00:11:51,760 INFO  [ReadOnlyZKClient-127.0.0.1:2181@0x4e0355b9] zookeeper.ZooKeeper: Session: 0x1000004060c000d closed\n",
            "2022-06-24 00:11:51,760 INFO  [ReadOnlyZKClient-127.0.0.1:2181@0x4e0355b9-EventThread] zookeeper.ClientCnxn: EventThread shut down for session: 0x1000004060c000d\n",
            "2022-06-24 00:11:51,764 INFO  [LocalJobRunner Map Task Executor #0] mapred.LocalJobRunner: map\n",
            "2022-06-24 00:11:51,764 INFO  [LocalJobRunner Map Task Executor #0] mapred.Task: Task 'attempt_local1172448443_0001_m_000000_0' done.\n",
            "2022-06-24 00:11:51,771 INFO  [LocalJobRunner Map Task Executor #0] mapred.Task: Final Counters for attempt_local1172448443_0001_m_000000_0: Counters: 19\n",
            "\tFile System Counters\n",
            "\t\tFILE: Number of bytes read=433021\n",
            "\t\tFILE: Number of bytes written=1005275\n",
            "\t\tFILE: Number of read operations=0\n",
            "\t\tFILE: Number of large read operations=0\n",
            "\t\tFILE: Number of write operations=0\n",
            "\tMap-Reduce Framework\n",
            "\t\tMap input records=12\n",
            "\t\tMap output records=12\n",
            "\t\tInput split bytes=92\n",
            "\t\tSpilled Records=0\n",
            "\t\tFailed Shuffles=0\n",
            "\t\tMerged Map outputs=0\n",
            "\t\tGC time elapsed (ms)=0\n",
            "\t\tCPU time spent (ms)=260\n",
            "\t\tPhysical memory (bytes) snapshot=272797696\n",
            "\t\tVirtual memory (bytes) snapshot=5150056448\n",
            "\t\tTotal committed heap usage (bytes)=206831616\n",
            "\tImportTsv\n",
            "\t\tBad Lines=0\n",
            "\tFile Input Format Counters \n",
            "\t\tBytes Read=979\n",
            "\tFile Output Format Counters \n",
            "\t\tBytes Written=0\n",
            "2022-06-24 00:11:51,775 INFO  [LocalJobRunner Map Task Executor #0] mapred.LocalJobRunner: Finishing task: attempt_local1172448443_0001_m_000000_0\n",
            "2022-06-24 00:11:51,775 INFO  [Thread-7] mapred.LocalJobRunner: map task executor complete.\n",
            "2022-06-24 00:11:51,853 INFO  [ReadOnlyZKClient-127.0.0.1:2181@0x1cfeec48] zookeeper.ZooKeeper: Session: 0x1000004060c000c closed\n",
            "2022-06-24 00:11:51,853 INFO  [ReadOnlyZKClient-127.0.0.1:2181@0x1cfeec48-EventThread] zookeeper.ClientCnxn: EventThread shut down for session: 0x1000004060c000c\n",
            "2022-06-24 00:11:52,439 INFO  [main] mapreduce.Job: Job job_local1172448443_0001 running in uber mode : false\n",
            "2022-06-24 00:11:52,441 INFO  [main] mapreduce.Job:  map 100% reduce 0%\n",
            "2022-06-24 00:11:52,443 INFO  [main] mapreduce.Job: Job job_local1172448443_0001 completed successfully\n",
            "2022-06-24 00:11:52,451 INFO  [main] mapreduce.Job: Counters: 19\n",
            "\tFile System Counters\n",
            "\t\tFILE: Number of bytes read=433021\n",
            "\t\tFILE: Number of bytes written=1005275\n",
            "\t\tFILE: Number of read operations=0\n",
            "\t\tFILE: Number of large read operations=0\n",
            "\t\tFILE: Number of write operations=0\n",
            "\tMap-Reduce Framework\n",
            "\t\tMap input records=12\n",
            "\t\tMap output records=12\n",
            "\t\tInput split bytes=92\n",
            "\t\tSpilled Records=0\n",
            "\t\tFailed Shuffles=0\n",
            "\t\tMerged Map outputs=0\n",
            "\t\tGC time elapsed (ms)=0\n",
            "\t\tCPU time spent (ms)=260\n",
            "\t\tPhysical memory (bytes) snapshot=272797696\n",
            "\t\tVirtual memory (bytes) snapshot=5150056448\n",
            "\t\tTotal committed heap usage (bytes)=206831616\n",
            "\tImportTsv\n",
            "\t\tBad Lines=0\n",
            "\tFile Input Format Counters \n",
            "\t\tBytes Read=979\n",
            "\tFile Output Format Counters \n",
            "\t\tBytes Written=0\n"
          ]
        }
      ]
    },
    {
      "cell_type": "code",
      "metadata": {
        "id": "x-H5Zh5UwRzd"
      },
      "source": [
        "tEmpDept2 = kxn.table('EmpDept2')"
      ],
      "execution_count": 41,
      "outputs": []
    },
    {
      "cell_type": "code",
      "metadata": {
        "colab": {
          "base_uri": "https://localhost:8080/"
        },
        "id": "I4tQppiqwMTk",
        "outputId": "2afbfaac-da4a-465b-be9a-7481a63274e6"
      },
      "source": [
        "kxn.open()\n",
        "tEmpDept2 = kxn.table('EmpDept2')\n",
        "for key, data in tEmpDept2.scan():\n",
        "    print(key, data)\n",
        "kxn.close()"
      ],
      "execution_count": 42,
      "outputs": [
        {
          "output_type": "stream",
          "name": "stdout",
          "text": [
            "b'123980' {b'Dept:DeptID': b'40', b'Dept:DeptName': b'Production', b'Dept:Location': b'Bombay', b'Dept:ManagerID': b'349870', b'Emp:Comm': b'0.02', b'Emp:DoJ': b'2004-10-09', b'Emp:FirstName': b'Mahender', b'Emp:LastName': b'Dhoni', b'Emp:Role': b'Clerk', b'Emp:Salary': b'9000'}\n",
            "b'223112' {b'Dept:DeptID': b'30', b'Dept:DeptName': b'Accounts', b'Dept:Location': b'Calcutta', b'Dept:ManagerID': b'822134', b'Emp:Comm': b'0.04', b'Emp:DoJ': b'2001-11-19', b'Emp:FirstName': b'Sania', b'Emp:LastName': b'Mirza', b'Emp:Role': b'Cus_Rep', b'Emp:Salary': b'25000'}\n",
            "b'239456' {b'Dept:DeptID': b'20', b'Dept:DeptName': b'Sales', b'Dept:Location': b'Calcutta', b'Dept:ManagerID': b'239456', b'Emp:Comm': b'0.07', b'Emp:DoJ': b'2004-01-03', b'Emp:FirstName': b'Shahrukh', b'Emp:LastName': b'Khan', b'Emp:Role': b'Manager', b'Emp:Salary': b'30000'}\n",
            "b'299034' {b'Dept:DeptID': b'10', b'Dept:DeptName': b'Corporate', b'Dept:Location': b'Calcutta', b'Dept:ManagerID': b'299034', b'Emp:Comm': b'0.11', b'Emp:DoJ': b'2002-10-10', b'Emp:FirstName': b'Rekha', b'Emp:LastName': b'Ganesan', b'Emp:Role': b'Director', b'Emp:Salary': b'60000'}\n",
            "b'349870' {b'Dept:DeptID': b'40', b'Dept:DeptName': b'Production', b'Dept:Location': b'Bombay', b'Dept:ManagerID': b'349870', b'Emp:Comm': b'0.06', b'Emp:DoJ': b'2005-05-04', b'Emp:FirstName': b'Rani', b'Emp:LastName': b'Mukherjee', b'Emp:Role': b'Manager', b'Emp:Salary': b'25000'}\n",
            "b'546223' {b'Dept:DeptID': b'10', b'Dept:DeptName': b'Corporate', b'Dept:Location': b'Calcutta', b'Dept:ManagerID': b'299034', b'Emp:Comm': b'0.09', b'Emp:DoJ': b'2005-12-04', b'Emp:FirstName': b'Narayan', b'Emp:LastName': b'Karthikeyan', b'Emp:Role': b'Secretary', b'Emp:Salary': b'40000'}\n",
            "b'742866' {b'Dept:DeptID': b'10', b'Dept:DeptName': b'Corporate', b'Dept:Location': b'Calcutta', b'Dept:ManagerID': b'299034', b'Emp:Comm': b'0.1', b'Emp:DoJ': b'2003-03-10', b'Emp:FirstName': b'Amitabh', b'Emp:LastName': b'Bacchan', b'Emp:Role': b'Executive', b'Emp:Salary': b'50000'}\n",
            "b'822134' {b'Dept:DeptID': b'30', b'Dept:DeptName': b'Accounts', b'Dept:Location': b'Calcutta', b'Dept:ManagerID': b'822134', b'Emp:Comm': b'0.08', b'Emp:DoJ': b'2000-06-04', b'Emp:FirstName': b'Rahul', b'Emp:LastName': b'Dravid', b'Emp:Role': b'Sr Manager', b'Emp:Salary': b'40000'}\n",
            "b'865477' {b'Dept:DeptID': b'20', b'Dept:DeptName': b'Sales', b'Dept:Location': b'Calcutta', b'Dept:ManagerID': b'239456', b'Emp:Comm': b'0.02', b'Emp:DoJ': b'2002-04-04', b'Emp:FirstName': b'Madhuri', b'Emp:LastName': b'Dikshit', b'Emp:Role': b'Clerk', b'Emp:Salary': b'10000'}\n",
            "b'897889' {b'Dept:DeptID': b'20', b'Dept:DeptName': b'Sales', b'Dept:Location': b'Calcutta', b'Dept:ManagerID': b'239456', b'Emp:Comm': b'0.05', b'Emp:DoJ': b'2005-01-02', b'Emp:FirstName': b'Virender', b'Emp:LastName': b'Sehwag', b'Emp:Role': b'Cus_Rep', b'Emp:Salary': b'15000'}\n",
            "b'989007' {b'Dept:DeptID': b'40', b'Dept:DeptName': b'Production', b'Dept:Location': b'Bombay', b'Dept:ManagerID': b'349870', b'Emp:Comm': b'0.03', b'Emp:DoJ': b'2002-01-01', b'Emp:FirstName': b'Sourav', b'Emp:LastName': b'Ganguly', b'Emp:Role': b'Cus_Rep', b'Emp:Salary': b'20000'}\n",
            "b'997445' {b'Dept:DeptID': b'30', b'Dept:DeptName': b'Accounts', b'Dept:Location': b'Calcutta', b'Dept:ManagerID': b'822134', b'Emp:Comm': b'0.02', b'Emp:DoJ': b'2001-07-01', b'Emp:FirstName': b'Jagmohan', b'Emp:LastName': b'Dalmia', b'Emp:Role': b'Clerk', b'Emp:Salary': b'12000'}\n"
          ]
        }
      ]
    },
    {
      "cell_type": "markdown",
      "metadata": {
        "id": "QGIY0y-OO1rV"
      },
      "source": [
        "#Data Retrieval <br>\n",
        "https://happybase.readthedocs.io/en/latest/user.html"
      ]
    },
    {
      "cell_type": "code",
      "metadata": {
        "id": "FtmYXOCEO-EJ",
        "outputId": "eeec8713-ed50-44ce-b58a-48c8cb4f7366",
        "colab": {
          "base_uri": "https://localhost:8080/"
        }
      },
      "source": [
        "#Retreive One Row\n",
        "kxn.open()\n",
        "tEmpDept2 = kxn.table('EmpDept2')\n",
        "prow = tEmpDept2.row(b'123980')\n",
        "print(prow)   # prints the value of cf1:col1"
      ],
      "execution_count": 43,
      "outputs": [
        {
          "output_type": "stream",
          "name": "stdout",
          "text": [
            "{b'Dept:DeptID': b'40', b'Dept:DeptName': b'Production', b'Dept:Location': b'Bombay', b'Dept:ManagerID': b'349870', b'Emp:Comm': b'0.02', b'Emp:DoJ': b'2004-10-09', b'Emp:FirstName': b'Mahender', b'Emp:LastName': b'Dhoni', b'Emp:Role': b'Clerk', b'Emp:Salary': b'9000'}\n"
          ]
        }
      ]
    },
    {
      "cell_type": "code",
      "metadata": {
        "id": "Azcfxg2YP9AH",
        "outputId": "bf3a45c7-35fc-4b44-98a9-53d0588c6c7c",
        "colab": {
          "base_uri": "https://localhost:8080/"
        }
      },
      "source": [
        "#Retreive More than one Row\n",
        "kxn.open()\n",
        "tEmpDept2 = kxn.table('EmpDept2')\n",
        "listOfrows = [b'742866', b'897889']\n",
        "rows = tEmpDept2.rows(listOfrows)\n",
        "for key, data in rows:\n",
        "    print(key, data)"
      ],
      "execution_count": 44,
      "outputs": [
        {
          "output_type": "stream",
          "name": "stdout",
          "text": [
            "b'742866' {b'Dept:DeptID': b'10', b'Dept:DeptName': b'Corporate', b'Dept:Location': b'Calcutta', b'Dept:ManagerID': b'299034', b'Emp:Comm': b'0.1', b'Emp:DoJ': b'2003-03-10', b'Emp:FirstName': b'Amitabh', b'Emp:LastName': b'Bacchan', b'Emp:Role': b'Executive', b'Emp:Salary': b'50000'}\n",
            "b'897889' {b'Dept:DeptID': b'20', b'Dept:DeptName': b'Sales', b'Dept:Location': b'Calcutta', b'Dept:ManagerID': b'239456', b'Emp:Comm': b'0.05', b'Emp:DoJ': b'2005-01-02', b'Emp:FirstName': b'Virender', b'Emp:LastName': b'Sehwag', b'Emp:Role': b'Cus_Rep', b'Emp:Salary': b'15000'}\n"
          ]
        }
      ]
    },
    {
      "cell_type": "code",
      "metadata": {
        "id": "69-NH_HcQ84G",
        "outputId": "ef0ad748-f4ee-4eec-d696-6251da0c88c9",
        "colab": {
          "base_uri": "https://localhost:8080/"
        }
      },
      "source": [
        "#Retreive More than one Row\n",
        "kxn.open()\n",
        "tEmpDept2 = kxn.table('EmpDept2')\n",
        "rowsDict = dict(tEmpDept2.rows([b'742866', b'897889']))\n",
        "for k,v in rowsDict.items():\n",
        "    print(k,v)"
      ],
      "execution_count": 45,
      "outputs": [
        {
          "output_type": "stream",
          "name": "stdout",
          "text": [
            "b'742866' {b'Dept:DeptID': b'10', b'Dept:DeptName': b'Corporate', b'Dept:Location': b'Calcutta', b'Dept:ManagerID': b'299034', b'Emp:Comm': b'0.1', b'Emp:DoJ': b'2003-03-10', b'Emp:FirstName': b'Amitabh', b'Emp:LastName': b'Bacchan', b'Emp:Role': b'Executive', b'Emp:Salary': b'50000'}\n",
            "b'897889' {b'Dept:DeptID': b'20', b'Dept:DeptName': b'Sales', b'Dept:Location': b'Calcutta', b'Dept:ManagerID': b'239456', b'Emp:Comm': b'0.05', b'Emp:DoJ': b'2005-01-02', b'Emp:FirstName': b'Virender', b'Emp:LastName': b'Sehwag', b'Emp:Role': b'Cus_Rep', b'Emp:Salary': b'15000'}\n"
          ]
        }
      ]
    },
    {
      "cell_type": "code",
      "metadata": {
        "id": "25jvHL81TwcN",
        "outputId": "cbe849c4-56ba-47fc-f206-28c05fbe19ca",
        "colab": {
          "base_uri": "https://localhost:8080/"
        }
      },
      "source": [
        "#Retreive More than one Row, but only one column family\n",
        "kxn.open()\n",
        "tEmpDept2 = kxn.table('EmpDept2')\n",
        "rows = tEmpDept2.rows([b'742866', b'897889'],columns=[b'Emp'])\n",
        "for key, data in rows:\n",
        "    print(key, data)"
      ],
      "execution_count": 46,
      "outputs": [
        {
          "output_type": "stream",
          "name": "stdout",
          "text": [
            "b'742866' {b'Emp:Comm': b'0.1', b'Emp:DoJ': b'2003-03-10', b'Emp:FirstName': b'Amitabh', b'Emp:LastName': b'Bacchan', b'Emp:Role': b'Executive', b'Emp:Salary': b'50000'}\n",
            "b'897889' {b'Emp:Comm': b'0.05', b'Emp:DoJ': b'2005-01-02', b'Emp:FirstName': b'Virender', b'Emp:LastName': b'Sehwag', b'Emp:Role': b'Cus_Rep', b'Emp:Salary': b'15000'}\n"
          ]
        }
      ]
    },
    {
      "cell_type": "code",
      "metadata": {
        "id": "xT0svpwPUOUo",
        "outputId": "d33d6a68-1fb1-4636-d99c-53489177ca92",
        "colab": {
          "base_uri": "https://localhost:8080/"
        }
      },
      "source": [
        "#Retreive More than one Row, but only one column family\n",
        "kxn.open()\n",
        "tEmpDept2 = kxn.table('EmpDept2')\n",
        "rows = tEmpDept2.rows([b'742866', b'897889'],columns=[b'Dept'])\n",
        "for key, data in rows:\n",
        "    print(key, data)"
      ],
      "execution_count": 47,
      "outputs": [
        {
          "output_type": "stream",
          "name": "stdout",
          "text": [
            "b'742866' {b'Dept:DeptID': b'10', b'Dept:DeptName': b'Corporate', b'Dept:Location': b'Calcutta', b'Dept:ManagerID': b'299034'}\n",
            "b'897889' {b'Dept:DeptID': b'20', b'Dept:DeptName': b'Sales', b'Dept:Location': b'Calcutta', b'Dept:ManagerID': b'239456'}\n"
          ]
        }
      ]
    },
    {
      "cell_type": "code",
      "metadata": {
        "id": "ZxjJtKhrUWwM",
        "outputId": "d6d5c184-2ac1-4443-dabe-48e3cf2b4f90",
        "colab": {
          "base_uri": "https://localhost:8080/"
        }
      },
      "source": [
        "#Retreive More than one Row, but only one column family\n",
        "kxn.open()\n",
        "tEmpDept2 = kxn.table('EmpDept2')\n",
        "rows = tEmpDept2.rows([b'742866', b'897889'],columns=[b'Emp:LastName',b'Dept:Location'])\n",
        "for key, data in rows:\n",
        "    print(key, data)"
      ],
      "execution_count": 51,
      "outputs": [
        {
          "output_type": "stream",
          "name": "stdout",
          "text": [
            "b'742866' {b'Dept:Location': b'Calcutta', b'Emp:LastName': b'Bacchan'}\n",
            "b'897889' {b'Dept:Location': b'Calcutta', b'Emp:LastName': b'Sehwag'}\n"
          ]
        }
      ]
    },
    {
      "cell_type": "code",
      "metadata": {
        "id": "vQs2EH6OU74d",
        "outputId": "40503cf2-8e37-4098-a7d3-dd6e0fac07b6",
        "colab": {
          "base_uri": "https://localhost:8080/"
        }
      },
      "source": [
        "kxn.open()\n",
        "tEmpDept2 = kxn.table('EmpDept2')\n",
        "for key, data in tEmpDept2.scan():\n",
        "    print(key, data)\n",
        "kxn.close()"
      ],
      "execution_count": 52,
      "outputs": [
        {
          "output_type": "stream",
          "name": "stdout",
          "text": [
            "b'123980' {b'Dept:DeptID': b'40', b'Dept:DeptName': b'Production', b'Dept:Location': b'Bombay', b'Dept:ManagerID': b'349870', b'Emp:Comm': b'0.02', b'Emp:DoJ': b'2004-10-09', b'Emp:FirstName': b'Mahender', b'Emp:LastName': b'Dhoni', b'Emp:Role': b'Clerk', b'Emp:Salary': b'9000'}\n",
            "b'223112' {b'Dept:DeptID': b'30', b'Dept:DeptName': b'Accounts', b'Dept:Location': b'Calcutta', b'Dept:ManagerID': b'822134', b'Emp:Comm': b'0.04', b'Emp:DoJ': b'2001-11-19', b'Emp:FirstName': b'Sania', b'Emp:LastName': b'Mirza', b'Emp:Role': b'Cus_Rep', b'Emp:Salary': b'25000'}\n",
            "b'239456' {b'Dept:DeptID': b'20', b'Dept:DeptName': b'Sales', b'Dept:Location': b'Calcutta', b'Dept:ManagerID': b'239456', b'Emp:Comm': b'0.07', b'Emp:DoJ': b'2004-01-03', b'Emp:FirstName': b'Shahrukh', b'Emp:LastName': b'Khan', b'Emp:Role': b'Manager', b'Emp:Salary': b'30000'}\n",
            "b'299034' {b'Dept:DeptID': b'10', b'Dept:DeptName': b'Corporate', b'Dept:Location': b'Calcutta', b'Dept:ManagerID': b'299034', b'Emp:Comm': b'0.11', b'Emp:DoJ': b'2002-10-10', b'Emp:FirstName': b'Rekha', b'Emp:LastName': b'Ganesan', b'Emp:Role': b'Director', b'Emp:Salary': b'60000'}\n",
            "b'349870' {b'Dept:DeptID': b'40', b'Dept:DeptName': b'Production', b'Dept:Location': b'Bombay', b'Dept:ManagerID': b'349870', b'Emp:Comm': b'0.06', b'Emp:DoJ': b'2005-05-04', b'Emp:FirstName': b'Rani', b'Emp:LastName': b'Mukherjee', b'Emp:Role': b'Manager', b'Emp:Salary': b'25000'}\n",
            "b'546223' {b'Dept:DeptID': b'10', b'Dept:DeptName': b'Corporate', b'Dept:Location': b'Calcutta', b'Dept:ManagerID': b'299034', b'Emp:Comm': b'0.09', b'Emp:DoJ': b'2005-12-04', b'Emp:FirstName': b'Narayan', b'Emp:LastName': b'Karthikeyan', b'Emp:Role': b'Secretary', b'Emp:Salary': b'40000'}\n",
            "b'742866' {b'Dept:DeptID': b'10', b'Dept:DeptName': b'Corporate', b'Dept:Location': b'Calcutta', b'Dept:ManagerID': b'299034', b'Emp:Comm': b'0.1', b'Emp:DoJ': b'2003-03-10', b'Emp:FirstName': b'Amitabh', b'Emp:LastName': b'Bacchan', b'Emp:Role': b'Executive', b'Emp:Salary': b'50000'}\n",
            "b'822134' {b'Dept:DeptID': b'30', b'Dept:DeptName': b'Accounts', b'Dept:Location': b'Calcutta', b'Dept:ManagerID': b'822134', b'Emp:Comm': b'0.08', b'Emp:DoJ': b'2000-06-04', b'Emp:FirstName': b'Rahul', b'Emp:LastName': b'Dravid', b'Emp:Role': b'Sr Manager', b'Emp:Salary': b'40000'}\n",
            "b'865477' {b'Dept:DeptID': b'20', b'Dept:DeptName': b'Sales', b'Dept:Location': b'Calcutta', b'Dept:ManagerID': b'239456', b'Emp:Comm': b'0.02', b'Emp:DoJ': b'2002-04-04', b'Emp:FirstName': b'Madhuri', b'Emp:LastName': b'Dikshit', b'Emp:Role': b'Clerk', b'Emp:Salary': b'10000'}\n",
            "b'897889' {b'Dept:DeptID': b'20', b'Dept:DeptName': b'Sales', b'Dept:Location': b'Calcutta', b'Dept:ManagerID': b'239456', b'Emp:Comm': b'0.05', b'Emp:DoJ': b'2005-01-02', b'Emp:FirstName': b'Virender', b'Emp:LastName': b'Sehwag', b'Emp:Role': b'Cus_Rep', b'Emp:Salary': b'15000'}\n",
            "b'989007' {b'Dept:DeptID': b'40', b'Dept:DeptName': b'Production', b'Dept:Location': b'Bombay', b'Dept:ManagerID': b'349870', b'Emp:Comm': b'0.03', b'Emp:DoJ': b'2002-01-01', b'Emp:FirstName': b'Sourav', b'Emp:LastName': b'Ganguly', b'Emp:Role': b'Cus_Rep', b'Emp:Salary': b'20000'}\n",
            "b'997445' {b'Dept:DeptID': b'30', b'Dept:DeptName': b'Accounts', b'Dept:Location': b'Calcutta', b'Dept:ManagerID': b'822134', b'Emp:Comm': b'0.02', b'Emp:DoJ': b'2001-07-01', b'Emp:FirstName': b'Jagmohan', b'Emp:LastName': b'Dalmia', b'Emp:Role': b'Clerk', b'Emp:Salary': b'12000'}\n"
          ]
        }
      ]
    },
    {
      "cell_type": "code",
      "metadata": {
        "id": "km2Qhg60VEtX",
        "outputId": "12d0baa3-225a-4551-baef-e95ce5cf44df",
        "colab": {
          "base_uri": "https://localhost:8080/"
        }
      },
      "source": [
        "kxn.open()\n",
        "tEmpDept2 = kxn.table('EmpDept2')\n",
        "for key, data in tEmpDept2.scan(row_start=b'230000', row_stop=b'870000'):\n",
        "    print(key, data)\n",
        "kxn.close()"
      ],
      "execution_count": 53,
      "outputs": [
        {
          "output_type": "stream",
          "name": "stdout",
          "text": [
            "b'239456' {b'Dept:DeptID': b'20', b'Dept:DeptName': b'Sales', b'Dept:Location': b'Calcutta', b'Dept:ManagerID': b'239456', b'Emp:Comm': b'0.07', b'Emp:DoJ': b'2004-01-03', b'Emp:FirstName': b'Shahrukh', b'Emp:LastName': b'Khan', b'Emp:Role': b'Manager', b'Emp:Salary': b'30000'}\n",
            "b'299034' {b'Dept:DeptID': b'10', b'Dept:DeptName': b'Corporate', b'Dept:Location': b'Calcutta', b'Dept:ManagerID': b'299034', b'Emp:Comm': b'0.11', b'Emp:DoJ': b'2002-10-10', b'Emp:FirstName': b'Rekha', b'Emp:LastName': b'Ganesan', b'Emp:Role': b'Director', b'Emp:Salary': b'60000'}\n",
            "b'349870' {b'Dept:DeptID': b'40', b'Dept:DeptName': b'Production', b'Dept:Location': b'Bombay', b'Dept:ManagerID': b'349870', b'Emp:Comm': b'0.06', b'Emp:DoJ': b'2005-05-04', b'Emp:FirstName': b'Rani', b'Emp:LastName': b'Mukherjee', b'Emp:Role': b'Manager', b'Emp:Salary': b'25000'}\n",
            "b'546223' {b'Dept:DeptID': b'10', b'Dept:DeptName': b'Corporate', b'Dept:Location': b'Calcutta', b'Dept:ManagerID': b'299034', b'Emp:Comm': b'0.09', b'Emp:DoJ': b'2005-12-04', b'Emp:FirstName': b'Narayan', b'Emp:LastName': b'Karthikeyan', b'Emp:Role': b'Secretary', b'Emp:Salary': b'40000'}\n",
            "b'742866' {b'Dept:DeptID': b'10', b'Dept:DeptName': b'Corporate', b'Dept:Location': b'Calcutta', b'Dept:ManagerID': b'299034', b'Emp:Comm': b'0.1', b'Emp:DoJ': b'2003-03-10', b'Emp:FirstName': b'Amitabh', b'Emp:LastName': b'Bacchan', b'Emp:Role': b'Executive', b'Emp:Salary': b'50000'}\n",
            "b'822134' {b'Dept:DeptID': b'30', b'Dept:DeptName': b'Accounts', b'Dept:Location': b'Calcutta', b'Dept:ManagerID': b'822134', b'Emp:Comm': b'0.08', b'Emp:DoJ': b'2000-06-04', b'Emp:FirstName': b'Rahul', b'Emp:LastName': b'Dravid', b'Emp:Role': b'Sr Manager', b'Emp:Salary': b'40000'}\n",
            "b'865477' {b'Dept:DeptID': b'20', b'Dept:DeptName': b'Sales', b'Dept:Location': b'Calcutta', b'Dept:ManagerID': b'239456', b'Emp:Comm': b'0.02', b'Emp:DoJ': b'2002-04-04', b'Emp:FirstName': b'Madhuri', b'Emp:LastName': b'Dikshit', b'Emp:Role': b'Clerk', b'Emp:Salary': b'10000'}\n"
          ]
        }
      ]
    },
    {
      "cell_type": "code",
      "metadata": {
        "id": "PXl-QezFVXSS",
        "outputId": "e9ba2151-e00c-46ed-b4b9-74ab422aae37",
        "colab": {
          "base_uri": "https://localhost:8080/"
        }
      },
      "source": [
        "#kxn = happybase.Connection('localhost',9090,autoconnect=False)\n",
        "kxn.open()\n",
        "tEmpDept2 = kxn.table('EmpDept2')\n",
        "for key, data in tEmpDept2.scan(row_start=b'230000', row_stop=b'870000',columns=[b'Emp:LastName',b'Dept:Location']):\n",
        "    print(key, data)\n",
        "kxn.close()"
      ],
      "execution_count": 54,
      "outputs": [
        {
          "output_type": "stream",
          "name": "stdout",
          "text": [
            "b'239456' {b'Dept:Location': b'Calcutta', b'Emp:LastName': b'Khan'}\n",
            "b'299034' {b'Dept:Location': b'Calcutta', b'Emp:LastName': b'Ganesan'}\n",
            "b'349870' {b'Dept:Location': b'Bombay', b'Emp:LastName': b'Mukherjee'}\n",
            "b'546223' {b'Dept:Location': b'Calcutta', b'Emp:LastName': b'Karthikeyan'}\n",
            "b'742866' {b'Dept:Location': b'Calcutta', b'Emp:LastName': b'Bacchan'}\n",
            "b'822134' {b'Dept:Location': b'Calcutta', b'Emp:LastName': b'Dravid'}\n",
            "b'865477' {b'Dept:Location': b'Calcutta', b'Emp:LastName': b'Dikshit'}\n"
          ]
        }
      ]
    },
    {
      "cell_type": "markdown",
      "metadata": {
        "id": "O6PP3akdlVKJ"
      },
      "source": [
        "#Stop HBase"
      ]
    },
    {
      "cell_type": "code",
      "metadata": {
        "colab": {
          "base_uri": "https://localhost:8080/"
        },
        "id": "p28XBoitAWTL",
        "outputId": "eb6c36f5-96ba-4e58-c821-8d7fe3fecda6"
      },
      "source": [
        "!stop-hbase.sh"
      ],
      "execution_count": 55,
      "outputs": [
        {
          "output_type": "stream",
          "name": "stdout",
          "text": [
            "stopping hbase............\n"
          ]
        }
      ]
    }
  ]
}