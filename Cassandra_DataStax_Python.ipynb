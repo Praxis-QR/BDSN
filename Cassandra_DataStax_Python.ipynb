{
  "nbformat": 4,
  "nbformat_minor": 0,
  "metadata": {
    "colab": {
      "name": "Cassandra @ DataStax - Python",
      "provenance": [],
      "toc_visible": true,
      "authorship_tag": "ABX9TyNEzaZIQpdP5XxU//KM25b/",
      "include_colab_link": true
    },
    "kernelspec": {
      "name": "python3",
      "display_name": "Python 3"
    },
    "language_info": {
      "name": "python"
    }
  },
  "cells": [
    {
      "cell_type": "markdown",
      "metadata": {
        "id": "view-in-github",
        "colab_type": "text"
      },
      "source": [
        "<a href=\"https://colab.research.google.com/github/Praxis-QR/BDSN/blob/main/Cassandra_DataStax_Python.ipynb\" target=\"_parent\"><img src=\"https://colab.research.google.com/assets/colab-badge.svg\" alt=\"Open In Colab\"/></a>"
      ]
    },
    {
      "cell_type": "markdown",
      "source": [
        "![alt text](https://4.bp.blogspot.com/-gbL5nZDkpFQ/XScFYwoTEII/AAAAAAAAAGY/CcVb_HDLwvs2Brv5T4vSsUcz7O4r2Q79ACK4BGAYYCw/s1600/kk3-header00-beta.png)<br>\n",
        "\n",
        "\n",
        "<hr>\n",
        "\n",
        "[Prithwis Mukerjee](http://www.linkedin.com/in/prithwis)<br>"
      ],
      "metadata": {
        "id": "86RW3uzr2fdG"
      }
    },
    {
      "cell_type": "markdown",
      "source": [
        "#Get Astra DataStax credentials\n",
        "from G-Drive <br>\n",
        "https://www.datastax.com/ <br>\n",
        "login with Google ID registrations"
      ],
      "metadata": {
        "id": "KRRsvGaj2uro"
      }
    },
    {
      "cell_type": "code",
      "source": [
        "#Collect Credentials from GDrive\n",
        "#this cell required to hide mongoURI from notebook in public github directory\n",
        "from google.colab import drive\n",
        "drive.mount('/content/drive')\n",
        "# copy credentials file\n",
        "!ls /content/drive/'My Drive'/Praxis/WebCredentials\n"
      ],
      "metadata": {
        "colab": {
          "base_uri": "https://localhost:8080/"
        },
        "id": "UAztV9EF22L3",
        "outputId": "e818592d-6863-45a2-e711-b1bd56634122"
      },
      "execution_count": 1,
      "outputs": [
        {
          "output_type": "stream",
          "name": "stdout",
          "text": [
            "Mounted at /content/drive\n",
            "ASTRA_DataStaxCredentials_Jun22.py  ngrokToken.py\n",
            "AtlasCredentials_Jun22.py\t    QuandlApiRegistrations_praxis.txt\n",
            "clevercloudMongoDB_jun22.py\t    QuandlApiRegistrations.txt\n",
            "clevercloudMongoDB.py\t\t    secure-connect-praxisdb.zip\n",
            "cleverCloud.py\t\t\t    sqlCredentials_020221.py\n",
            "db4freeCredentials.py\n"
          ]
        }
      ]
    },
    {
      "cell_type": "code",
      "source": [
        "!cp /content/drive/'My Drive'/Praxis/WebCredentials/secure-connect-praxisdb.zip .\n",
        "!cp /content/drive/'My Drive'/Praxis/WebCredentials/ASTRA_DataStaxCredentials_Jun22.py credentials.py\n",
        "# import \n",
        "from credentials import ClientId, ClientSecret"
      ],
      "metadata": {
        "id": "yCq3YW8R3z6n"
      },
      "execution_count": 2,
      "outputs": []
    },
    {
      "cell_type": "markdown",
      "source": [
        "#Install Cassandra Drivers"
      ],
      "metadata": {
        "id": "Rw_nSwYi41gC"
      }
    },
    {
      "cell_type": "code",
      "source": [
        "!pip install cassandra-driver"
      ],
      "metadata": {
        "colab": {
          "base_uri": "https://localhost:8080/"
        },
        "id": "YmgeEPAe45VR",
        "outputId": "3e310814-50ec-4b41-b532-fb4f0c121f04"
      },
      "execution_count": 5,
      "outputs": [
        {
          "output_type": "stream",
          "name": "stdout",
          "text": [
            "Looking in indexes: https://pypi.org/simple, https://us-python.pkg.dev/colab-wheels/public/simple/\n",
            "Collecting cassandra-driver\n",
            "  Downloading cassandra_driver-3.25.0-cp37-cp37m-manylinux1_x86_64.whl (3.8 MB)\n",
            "\u001b[K     |████████████████████████████████| 3.8 MB 7.5 MB/s \n",
            "\u001b[?25hRequirement already satisfied: six>=1.9 in /usr/local/lib/python3.7/dist-packages (from cassandra-driver) (1.15.0)\n",
            "Collecting geomet<0.3,>=0.1\n",
            "  Downloading geomet-0.2.1.post1-py3-none-any.whl (18 kB)\n",
            "Requirement already satisfied: click in /usr/local/lib/python3.7/dist-packages (from geomet<0.3,>=0.1->cassandra-driver) (7.1.2)\n",
            "Installing collected packages: geomet, cassandra-driver\n",
            "Successfully installed cassandra-driver-3.25.0 geomet-0.2.1.post1\n"
          ]
        }
      ]
    },
    {
      "cell_type": "code",
      "source": [
        "import cassandra \n",
        "print (cassandra.__version__)"
      ],
      "metadata": {
        "colab": {
          "base_uri": "https://localhost:8080/"
        },
        "id": "5a6PXN6h5BY-",
        "outputId": "09a137d2-9449-44dd-a584-e41a0bef7172"
      },
      "execution_count": 6,
      "outputs": [
        {
          "output_type": "stream",
          "name": "stdout",
          "text": [
            "3.25.0\n"
          ]
        }
      ]
    },
    {
      "cell_type": "code",
      "source": [
        "from cassandra.cluster import Cluster\n",
        "from cassandra.auth import PlainTextAuthProvider\n",
        "\n",
        "cloud_config= {'secure_connect_bundle': '/content/secure-connect-praxisdb.zip'}\n",
        "auth_provider = PlainTextAuthProvider(ClientId, ClientSecret)\n",
        "cluster = Cluster(cloud=cloud_config, auth_provider=auth_provider)\n",
        "session = cluster.connect()\n",
        "\n",
        "row = session.execute(\"select release_version from system.local\").one()\n",
        "if row:\n",
        "    print(row[0])\n",
        "else:\n",
        "    print(\"An error occurred.\")"
      ],
      "metadata": {
        "colab": {
          "base_uri": "https://localhost:8080/"
        },
        "id": "34axjYII5Icg",
        "outputId": "39b5d019-0a3e-4180-8c0c-860519102ca9"
      },
      "execution_count": 7,
      "outputs": [
        {
          "output_type": "stream",
          "name": "stdout",
          "text": [
            "4.0.0.6816\n"
          ]
        }
      ]
    },
    {
      "cell_type": "markdown",
      "source": [
        "#Basic Data Access"
      ],
      "metadata": {
        "id": "TUDTlm8_6ajL"
      }
    },
    {
      "cell_type": "code",
      "source": [
        "rows = session.execute(\"SELECT * FROM system_schema.keyspaces ;\")\n",
        "for row in rows:\n",
        "    print(row.keyspace_name)"
      ],
      "metadata": {
        "colab": {
          "base_uri": "https://localhost:8080/"
        },
        "id": "zKtQkhAM7WRU",
        "outputId": "c79d847b-3d4d-4524-806d-5ca16a9544e0"
      },
      "execution_count": 14,
      "outputs": [
        {
          "output_type": "stream",
          "name": "stdout",
          "text": [
            "system_auth\n",
            "datastax_sla\n",
            "system_schema\n",
            "praxis\n",
            "system\n",
            "kstest\n",
            "system_traces\n",
            "data_endpoint_auth\n"
          ]
        }
      ]
    },
    {
      "cell_type": "code",
      "source": [
        "rows = session.execute(\"SELECT * FROM system_schema.tables WHERE keyspace_name = 'praxis';\")\n",
        "for row in rows:\n",
        "    print(row.table_name)"
      ],
      "metadata": {
        "id": "oFI7rTcD8hXX"
      },
      "execution_count": 28,
      "outputs": []
    },
    {
      "cell_type": "code",
      "source": [
        "session.execute('drop table if exists praxis.users;')"
      ],
      "metadata": {
        "colab": {
          "base_uri": "https://localhost:8080/"
        },
        "id": "6dwGDh0r88Ce",
        "outputId": "7fb27d3f-052c-4865-8e60-7cda84695c64"
      },
      "execution_count": 27,
      "outputs": [
        {
          "output_type": "execute_result",
          "data": {
            "text/plain": [
              "<cassandra.cluster.ResultSet at 0x7f563029a6d0>"
            ]
          },
          "metadata": {},
          "execution_count": 27
        }
      ]
    },
    {
      "cell_type": "code",
      "source": [
        "session.execute('USE praxis')"
      ],
      "metadata": {
        "colab": {
          "base_uri": "https://localhost:8080/"
        },
        "id": "r1h6SPj26dOq",
        "outputId": "30322505-cb4f-491d-d460-ab15aa31b41b"
      },
      "execution_count": 21,
      "outputs": [
        {
          "output_type": "execute_result",
          "data": {
            "text/plain": [
              "<cassandra.cluster.ResultSet at 0x7f563cc04a90>"
            ]
          },
          "metadata": {},
          "execution_count": 21
        }
      ]
    },
    {
      "cell_type": "code",
      "source": [
        "session.execute(\"CREATE TABLE users (user_id int PRIMARY KEY, first_name text, last_name text );\")"
      ],
      "metadata": {
        "colab": {
          "base_uri": "https://localhost:8080/"
        },
        "id": "aPwcf79J6vL3",
        "outputId": "2fb80656-cd21-488c-92ab-f57a5c06a765"
      },
      "execution_count": 29,
      "outputs": [
        {
          "output_type": "execute_result",
          "data": {
            "text/plain": [
              "<cassandra.cluster.ResultSet at 0x7f563a922210>"
            ]
          },
          "metadata": {},
          "execution_count": 29
        }
      ]
    },
    {
      "cell_type": "code",
      "source": [
        "session.execute(\"INSERT INTO users (user_id, first_name, last_name) VALUES (1, 'Prithwis', 'Mukerjee');\")\n",
        "session.execute(\"INSERT INTO users (user_id, first_name, last_name) VALUES (2, 'Sanniti', 'Chatterjee');\")\n",
        "session.execute(\"INSERT INTO users (user_id, first_name, last_name) VALUES (3, 'Amrita', 'Ghosh');\")"
      ],
      "metadata": {
        "colab": {
          "base_uri": "https://localhost:8080/"
        },
        "id": "ZBLpAKAk-Ctk",
        "outputId": "f6d54aa0-bc15-45d9-c2d4-95295ce1dbcb"
      },
      "execution_count": 30,
      "outputs": [
        {
          "output_type": "execute_result",
          "data": {
            "text/plain": [
              "<cassandra.cluster.ResultSet at 0x7f564c747450>"
            ]
          },
          "metadata": {},
          "execution_count": 30
        }
      ]
    },
    {
      "cell_type": "code",
      "source": [
        "rows = session.execute('SELECT * FROM users')\n",
        "for row in rows:\n",
        "        print(row.user_id,row.first_name,row.last_name)"
      ],
      "metadata": {
        "colab": {
          "base_uri": "https://localhost:8080/"
        },
        "id": "y--TdJyE-M2h",
        "outputId": "e9323474-2ac8-4451-f132-bdd05132fac7"
      },
      "execution_count": 31,
      "outputs": [
        {
          "output_type": "stream",
          "name": "stdout",
          "text": [
            "1 Prithwis Mukerjee\n",
            "2 Sanniti Chatterjee\n",
            "3 Amrita Ghosh\n"
          ]
        }
      ]
    },
    {
      "cell_type": "markdown",
      "source": [
        "#Chronobooks <br>\n",
        "![alt text](https://1.bp.blogspot.com/-lTiYBkU2qbU/X1er__fvnkI/AAAAAAAAjtE/GhDR3OEGJr4NG43fZPodrQD5kbxtnKebgCLcBGAsYHQ/s600/Footer2020-600x200.png)<hr>\n",
        "Chronotantra and Chronoyantra are two science fiction novels that explore the collapse of human civilisation on Earth and then its rebirth and reincarnation both on Earth as well as on the distant worlds of Mars, Titan and Enceladus. But is it the human civilisation that is being reborn? Or is it some other sentience that is revealing itself. \n",
        "If you have an interest in AI and found this material useful, you may consider buying these novels, in paperback or kindle, from [http://bit.ly/chronobooks](http://bit.ly/chronobooks)"
      ],
      "metadata": {
        "id": "dFSq36qU2mUj"
      }
    }
  ]
}