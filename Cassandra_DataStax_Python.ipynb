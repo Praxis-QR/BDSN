{
  "nbformat": 4,
  "nbformat_minor": 0,
  "metadata": {
    "colab": {
      "name": "Cassandra @ DataStax - Python",
      "provenance": [],
      "toc_visible": true,
      "include_colab_link": true
    },
    "kernelspec": {
      "name": "python3",
      "display_name": "Python 3"
    },
    "language_info": {
      "name": "python"
    }
  },
  "cells": [
    {
      "cell_type": "markdown",
      "metadata": {
        "id": "view-in-github",
        "colab_type": "text"
      },
      "source": [
        "<a href=\"https://colab.research.google.com/github/Praxis-QR/BDSN/blob/main/Cassandra_DataStax_Python.ipynb\" target=\"_parent\"><img src=\"https://colab.research.google.com/assets/colab-badge.svg\" alt=\"Open In Colab\"/></a>"
      ]
    },
    {
      "cell_type": "markdown",
      "source": [
        "![alt text](https://4.bp.blogspot.com/-gbL5nZDkpFQ/XScFYwoTEII/AAAAAAAAAGY/CcVb_HDLwvs2Brv5T4vSsUcz7O4r2Q79ACK4BGAYYCw/s1600/kk3-header00-beta.png)<br>\n",
        "\n",
        "\n",
        "<hr>\n",
        "\n",
        "[Prithwis Mukerjee](http://www.linkedin.com/in/prithwis)<br>"
      ],
      "metadata": {
        "id": "86RW3uzr2fdG"
      }
    },
    {
      "cell_type": "markdown",
      "source": [
        "#Get Astra DataStax credentials\n",
        "from G-Drive <br>\n",
        "https://www.datastax.com/ <br>\n",
        "login with Google ID registrations"
      ],
      "metadata": {
        "id": "KRRsvGaj2uro"
      }
    },
    {
      "cell_type": "code",
      "source": [
        "#Collect Credentials from GDrive\n",
        "#this cell required to hide mongoURI from notebook in public github directory\n",
        "from google.colab import drive\n",
        "drive.mount('/content/drive')\n",
        "# copy credentials file\n",
        "#!ls /content/drive/'My Drive'/Praxis/WebCredentials\n",
        "!cp /content/drive/'My Drive'/Praxis/WebCredentials/secure-connect-praxisdb.zip .\n",
        "!cp /content/drive/'My Drive'/Praxis/WebCredentials/ASTRA_DataStaxCredentials_Jun22.py credentials.py\n",
        "# import \n",
        "from credentials import ClientId, ClientSecret\n"
      ],
      "metadata": {
        "colab": {
          "base_uri": "https://localhost:8080/"
        },
        "id": "UAztV9EF22L3",
        "outputId": "033d1e04-1cf5-4e08-94c7-cfd31dff1894"
      },
      "execution_count": 1,
      "outputs": [
        {
          "output_type": "stream",
          "name": "stdout",
          "text": [
            "Mounted at /content/drive\n"
          ]
        }
      ]
    },
    {
      "cell_type": "markdown",
      "source": [
        "#Install Cassandra Drivers"
      ],
      "metadata": {
        "id": "Rw_nSwYi41gC"
      }
    },
    {
      "cell_type": "code",
      "source": [
        "!pip install cassandra-driver"
      ],
      "metadata": {
        "colab": {
          "base_uri": "https://localhost:8080/"
        },
        "id": "YmgeEPAe45VR",
        "outputId": "dd89ffd6-159b-4e6f-90a7-357aac2d9a46"
      },
      "execution_count": 2,
      "outputs": [
        {
          "output_type": "stream",
          "name": "stdout",
          "text": [
            "Looking in indexes: https://pypi.org/simple, https://us-python.pkg.dev/colab-wheels/public/simple/\n",
            "Collecting cassandra-driver\n",
            "  Downloading cassandra_driver-3.25.0-cp37-cp37m-manylinux1_x86_64.whl (3.8 MB)\n",
            "\u001b[K     |████████████████████████████████| 3.8 MB 5.1 MB/s \n",
            "\u001b[?25hCollecting geomet<0.3,>=0.1\n",
            "  Downloading geomet-0.2.1.post1-py3-none-any.whl (18 kB)\n",
            "Requirement already satisfied: six>=1.9 in /usr/local/lib/python3.7/dist-packages (from cassandra-driver) (1.15.0)\n",
            "Requirement already satisfied: click in /usr/local/lib/python3.7/dist-packages (from geomet<0.3,>=0.1->cassandra-driver) (7.1.2)\n",
            "Installing collected packages: geomet, cassandra-driver\n",
            "Successfully installed cassandra-driver-3.25.0 geomet-0.2.1.post1\n"
          ]
        }
      ]
    },
    {
      "cell_type": "code",
      "source": [
        "import cassandra \n",
        "print (cassandra.__version__)"
      ],
      "metadata": {
        "colab": {
          "base_uri": "https://localhost:8080/"
        },
        "id": "5a6PXN6h5BY-",
        "outputId": "de25098f-a8b5-4b77-c4f0-445fc20212f7"
      },
      "execution_count": 3,
      "outputs": [
        {
          "output_type": "stream",
          "name": "stdout",
          "text": [
            "3.25.0\n"
          ]
        }
      ]
    },
    {
      "cell_type": "code",
      "source": [
        "from cassandra.cluster import Cluster\n",
        "from cassandra.auth import PlainTextAuthProvider\n",
        "\n",
        "cloud_config= {'secure_connect_bundle': '/content/secure-connect-praxisdb.zip'}\n",
        "auth_provider = PlainTextAuthProvider(ClientId, ClientSecret)\n",
        "cluster = Cluster(cloud=cloud_config, auth_provider=auth_provider)\n",
        "session = cluster.connect()\n",
        "\n",
        "row = session.execute(\"select release_version from system.local\").one()\n",
        "if row:\n",
        "    print(row[0])\n",
        "else:\n",
        "    print(\"An error occurred.\")"
      ],
      "metadata": {
        "colab": {
          "base_uri": "https://localhost:8080/"
        },
        "id": "34axjYII5Icg",
        "outputId": "b70377de-ad79-4f28-f7a5-76ba2ff21de6"
      },
      "execution_count": 4,
      "outputs": [
        {
          "output_type": "stream",
          "name": "stdout",
          "text": [
            "4.0.0.6816\n"
          ]
        }
      ]
    },
    {
      "cell_type": "markdown",
      "source": [
        "#Basic Data Access"
      ],
      "metadata": {
        "id": "TUDTlm8_6ajL"
      }
    },
    {
      "cell_type": "code",
      "source": [
        "rows = session.execute(\"SELECT * FROM system_schema.keyspaces ;\")\n",
        "for row in rows:\n",
        "    print(row.keyspace_name)"
      ],
      "metadata": {
        "colab": {
          "base_uri": "https://localhost:8080/"
        },
        "id": "zKtQkhAM7WRU",
        "outputId": "2314b86b-46d9-430c-80e0-6977cf911c66"
      },
      "execution_count": 5,
      "outputs": [
        {
          "output_type": "stream",
          "name": "stdout",
          "text": [
            "system_auth\n",
            "datastax_sla\n",
            "system_schema\n",
            "praxis\n",
            "system\n",
            "kstest\n",
            "system_traces\n",
            "data_endpoint_auth\n"
          ]
        }
      ]
    },
    {
      "cell_type": "code",
      "source": [
        "rows = session.execute(\"SELECT * FROM system_schema.tables WHERE keyspace_name = 'praxis';\")\n",
        "for row in rows:\n",
        "    print(row.table_name)"
      ],
      "metadata": {
        "id": "oFI7rTcD8hXX"
      },
      "execution_count": 9,
      "outputs": []
    },
    {
      "cell_type": "code",
      "source": [
        "session.execute('drop table if exists praxis.users;')"
      ],
      "metadata": {
        "colab": {
          "base_uri": "https://localhost:8080/"
        },
        "id": "6dwGDh0r88Ce",
        "outputId": "884e4d41-a164-490d-97e8-cac541b9fe15"
      },
      "execution_count": 8,
      "outputs": [
        {
          "output_type": "execute_result",
          "data": {
            "text/plain": [
              "<cassandra.cluster.ResultSet at 0x7f03e09a8c90>"
            ]
          },
          "metadata": {},
          "execution_count": 8
        }
      ]
    },
    {
      "cell_type": "code",
      "source": [
        "session.execute('USE praxis')"
      ],
      "metadata": {
        "colab": {
          "base_uri": "https://localhost:8080/"
        },
        "id": "r1h6SPj26dOq",
        "outputId": "ccfd8995-07a9-4b45-ec1a-cee28dac97e7"
      },
      "execution_count": 10,
      "outputs": [
        {
          "output_type": "execute_result",
          "data": {
            "text/plain": [
              "<cassandra.cluster.ResultSet at 0x7f03e09a77d0>"
            ]
          },
          "metadata": {},
          "execution_count": 10
        }
      ]
    },
    {
      "cell_type": "code",
      "source": [
        "session.execute(\"CREATE TABLE users (user_id int PRIMARY KEY, first_name text, last_name text );\")"
      ],
      "metadata": {
        "colab": {
          "base_uri": "https://localhost:8080/"
        },
        "id": "aPwcf79J6vL3",
        "outputId": "5f67886a-cf04-47da-c685-7327182e14c5"
      },
      "execution_count": 11,
      "outputs": [
        {
          "output_type": "execute_result",
          "data": {
            "text/plain": [
              "<cassandra.cluster.ResultSet at 0x7f03e092b350>"
            ]
          },
          "metadata": {},
          "execution_count": 11
        }
      ]
    },
    {
      "cell_type": "code",
      "source": [
        "session.execute(\"INSERT INTO users (user_id, first_name, last_name) VALUES (1, 'Prithwis', 'Mukerjee');\")\n",
        "session.execute(\"INSERT INTO users (user_id, first_name, last_name) VALUES (2, 'Sanniti', 'Chatterjee');\")\n",
        "session.execute(\"INSERT INTO users (user_id, first_name, last_name) VALUES (3, 'Amrita', 'Ghosh');\")"
      ],
      "metadata": {
        "colab": {
          "base_uri": "https://localhost:8080/"
        },
        "id": "ZBLpAKAk-Ctk",
        "outputId": "54f964b2-b150-4466-c011-b2d101e9d1f6"
      },
      "execution_count": 12,
      "outputs": [
        {
          "output_type": "execute_result",
          "data": {
            "text/plain": [
              "<cassandra.cluster.ResultSet at 0x7f03e09a7890>"
            ]
          },
          "metadata": {},
          "execution_count": 12
        }
      ]
    },
    {
      "cell_type": "code",
      "source": [
        "rows = session.execute('SELECT * FROM users')\n",
        "for row in rows:\n",
        "        print(row.user_id,row.first_name,row.last_name)"
      ],
      "metadata": {
        "colab": {
          "base_uri": "https://localhost:8080/"
        },
        "id": "y--TdJyE-M2h",
        "outputId": "8d74dd97-d595-4daf-92d4-cd2461d40306"
      },
      "execution_count": 13,
      "outputs": [
        {
          "output_type": "stream",
          "name": "stdout",
          "text": [
            "1 Prithwis Mukerjee\n",
            "2 Sanniti Chatterjee\n",
            "3 Amrita Ghosh\n"
          ]
        }
      ]
    },
    {
      "cell_type": "markdown",
      "source": [
        "#Chronobooks <br>\n",
        "![alt text](https://1.bp.blogspot.com/-lTiYBkU2qbU/X1er__fvnkI/AAAAAAAAjtE/GhDR3OEGJr4NG43fZPodrQD5kbxtnKebgCLcBGAsYHQ/s600/Footer2020-600x200.png)<hr>\n",
        "Chronotantra and Chronoyantra are two science fiction novels that explore the collapse of human civilisation on Earth and then its rebirth and reincarnation both on Earth as well as on the distant worlds of Mars, Titan and Enceladus. But is it the human civilisation that is being reborn? Or is it some other sentience that is revealing itself. \n",
        "If you have an interest in AI and found this material useful, you may consider buying these novels, in paperback or kindle, from [http://bit.ly/chronobooks](http://bit.ly/chronobooks)"
      ],
      "metadata": {
        "id": "dFSq36qU2mUj"
      }
    }
  ]
}