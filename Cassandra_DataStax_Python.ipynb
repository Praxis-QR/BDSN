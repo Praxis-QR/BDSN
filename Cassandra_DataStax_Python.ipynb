{
  "nbformat": 4,
  "nbformat_minor": 0,
  "metadata": {
    "colab": {
      "name": "Cassandra @ DataStax - Python",
      "provenance": [],
      "include_colab_link": true
    },
    "kernelspec": {
      "name": "python3",
      "display_name": "Python 3"
    },
    "language_info": {
      "name": "python"
    }
  },
  "cells": [
    {
      "cell_type": "markdown",
      "metadata": {
        "id": "view-in-github",
        "colab_type": "text"
      },
      "source": [
        "<a href=\"https://colab.research.google.com/github/Praxis-QR/BDSN/blob/main/Cassandra_DataStax_Python.ipynb\" target=\"_parent\"><img src=\"https://colab.research.google.com/assets/colab-badge.svg\" alt=\"Open In Colab\"/></a>"
      ]
    },
    {
      "cell_type": "markdown",
      "source": [
        "![alt text](https://4.bp.blogspot.com/-gbL5nZDkpFQ/XScFYwoTEII/AAAAAAAAAGY/CcVb_HDLwvs2Brv5T4vSsUcz7O4r2Q79ACK4BGAYYCw/s1600/kk3-header00-beta.png)<br>\n",
        "\n",
        "\n",
        "<hr>\n",
        "\n",
        "[Prithwis Mukerjee](http://www.linkedin.com/in/prithwis)<br>"
      ],
      "metadata": {
        "id": "86RW3uzr2fdG"
      }
    },
    {
      "cell_type": "markdown",
      "source": [
        "#Get Astra DataStax credentials\n",
        "from G-Drive <br>\n",
        "https://www.datastax.com/ <br>\n",
        "login with Google ID registrations"
      ],
      "metadata": {
        "id": "KRRsvGaj2uro"
      }
    },
    {
      "cell_type": "code",
      "source": [
        "#Collect Credentials from GDrive\n",
        "#this cell required to hide mongoURI from notebook in public github directory\n",
        "from google.colab import drive\n",
        "drive.mount('/content/drive')\n",
        "# copy credentials file\n",
        "#!ls /content/drive/'My Drive'/Praxis/WebCredentials\n",
        "!cp /content/drive/'My Drive'/Praxis/WebCredentials/secure-connect-praxisdb.zip .\n",
        "!cp /content/drive/'My Drive'/Praxis/WebCredentials/ASTRA_DataStaxCredentials_Jun22.py credentials.py\n",
        "# import \n",
        "from credentials import ClientId, ClientSecret\n"
      ],
      "metadata": {
        "colab": {
          "base_uri": "https://localhost:8080/"
        },
        "id": "UAztV9EF22L3",
        "outputId": "54b9d217-b067-48c7-ba7f-4ae83e4dca73"
      },
      "execution_count": 1,
      "outputs": [
        {
          "output_type": "stream",
          "name": "stdout",
          "text": [
            "Mounted at /content/drive\n"
          ]
        }
      ]
    },
    {
      "cell_type": "markdown",
      "source": [
        "#Install Cassandra Drivers"
      ],
      "metadata": {
        "id": "Rw_nSwYi41gC"
      }
    },
    {
      "cell_type": "code",
      "source": [
        "!pip install cassandra-driver"
      ],
      "metadata": {
        "colab": {
          "base_uri": "https://localhost:8080/"
        },
        "id": "YmgeEPAe45VR",
        "outputId": "e4137c0f-ea7d-4402-d0ef-e7a73859677e"
      },
      "execution_count": 2,
      "outputs": [
        {
          "output_type": "stream",
          "name": "stdout",
          "text": [
            "Looking in indexes: https://pypi.org/simple, https://us-python.pkg.dev/colab-wheels/public/simple/\n",
            "Collecting cassandra-driver\n",
            "  Downloading cassandra_driver-3.25.0-cp37-cp37m-manylinux1_x86_64.whl (3.8 MB)\n",
            "\u001b[K     |████████████████████████████████| 3.8 MB 36.5 MB/s \n",
            "\u001b[?25hCollecting geomet<0.3,>=0.1\n",
            "  Downloading geomet-0.2.1.post1-py3-none-any.whl (18 kB)\n",
            "Requirement already satisfied: six>=1.9 in /usr/local/lib/python3.7/dist-packages (from cassandra-driver) (1.15.0)\n",
            "Requirement already satisfied: click in /usr/local/lib/python3.7/dist-packages (from geomet<0.3,>=0.1->cassandra-driver) (7.1.2)\n",
            "Installing collected packages: geomet, cassandra-driver\n",
            "Successfully installed cassandra-driver-3.25.0 geomet-0.2.1.post1\n"
          ]
        }
      ]
    },
    {
      "cell_type": "code",
      "source": [
        "import cassandra \n",
        "print (cassandra.__version__)"
      ],
      "metadata": {
        "colab": {
          "base_uri": "https://localhost:8080/"
        },
        "id": "5a6PXN6h5BY-",
        "outputId": "a3add72a-54f1-4599-8f3d-1a13b7666884"
      },
      "execution_count": 14,
      "outputs": [
        {
          "output_type": "stream",
          "name": "stdout",
          "text": [
            "3.25.0\n"
          ]
        }
      ]
    },
    {
      "cell_type": "code",
      "source": [
        "# This cell will throw an error if database is in hibernation\n",
        "# Login to https://www.datastax.com/ with GMail credentials and resume database\n",
        "#\n",
        "#\n",
        "from cassandra.cluster import Cluster\n",
        "from cassandra.auth import PlainTextAuthProvider\n",
        "\n",
        "cloud_config= {'secure_connect_bundle': '/content/secure-connect-praxisdb.zip'}\n",
        "auth_provider = PlainTextAuthProvider(ClientId, ClientSecret)\n",
        "cluster = Cluster(cloud=cloud_config, auth_provider=auth_provider)\n",
        "session = cluster.connect()"
      ],
      "metadata": {
        "colab": {
          "base_uri": "https://localhost:8080/"
        },
        "id": "34axjYII5Icg",
        "outputId": "5d386b88-95de-47c7-8d83-c9e1a1e06ffd"
      },
      "execution_count": 5,
      "outputs": [
        {
          "output_type": "stream",
          "name": "stderr",
          "text": [
            "WARNING:cassandra.cluster:Downgrading core protocol version from 66 to 65 for 90ef59ed-7dad-4de8-bafa-1f40989df6de-asia-south1.db.astra.datastax.com:29042:b042a576-bb97-4833-9168-1224f2ca0c12. To avoid this, it is best practice to explicitly set Cluster(protocol_version) to the version supported by your cluster. http://datastax.github.io/python-driver/api/cassandra/cluster.html#cassandra.cluster.Cluster.protocol_version\n",
            "WARNING:cassandra.cluster:Downgrading core protocol version from 65 to 5 for 90ef59ed-7dad-4de8-bafa-1f40989df6de-asia-south1.db.astra.datastax.com:29042:b042a576-bb97-4833-9168-1224f2ca0c12. To avoid this, it is best practice to explicitly set Cluster(protocol_version) to the version supported by your cluster. http://datastax.github.io/python-driver/api/cassandra/cluster.html#cassandra.cluster.Cluster.protocol_version\n",
            "ERROR:cassandra.connection:Closing connection <LibevConnection(139932626614608) 90ef59ed-7dad-4de8-bafa-1f40989df6de-asia-south1.db.astra.datastax.com:29042:b042a576-bb97-4833-9168-1224f2ca0c12> due to protocol error: Error from server: code=000a [Protocol error] message=\"Beta version of the protocol used (5/v5-beta), but USE_BETA flag is unset\"\n",
            "WARNING:cassandra.cluster:Downgrading core protocol version from 5 to 4 for 90ef59ed-7dad-4de8-bafa-1f40989df6de-asia-south1.db.astra.datastax.com:29042:b042a576-bb97-4833-9168-1224f2ca0c12. To avoid this, it is best practice to explicitly set Cluster(protocol_version) to the version supported by your cluster. http://datastax.github.io/python-driver/api/cassandra/cluster.html#cassandra.cluster.Cluster.protocol_version\n"
          ]
        },
        {
          "output_type": "stream",
          "name": "stdout",
          "text": [
            "4.0.0.6816\n"
          ]
        }
      ]
    },
    {
      "cell_type": "code",
      "source": [
        "row = session.execute(\"select release_version from system.local\").one()\n",
        "if row:\n",
        "    print(row[0])\n",
        "else:\n",
        "    print(\"An error occurred.\")"
      ],
      "metadata": {
        "id": "eVgWYKh9X7Z5",
        "outputId": "1b0e98fc-0e90-4ac9-d810-77e4bacccadb",
        "colab": {
          "base_uri": "https://localhost:8080/"
        }
      },
      "execution_count": 13,
      "outputs": [
        {
          "output_type": "stream",
          "name": "stdout",
          "text": [
            "4.0.0.6816\n"
          ]
        }
      ]
    },
    {
      "cell_type": "markdown",
      "source": [
        "#Basic Data Access"
      ],
      "metadata": {
        "id": "TUDTlm8_6ajL"
      }
    },
    {
      "cell_type": "code",
      "source": [
        "rows = session.execute(\"SELECT * FROM system_schema.keyspaces ;\")\n",
        "for row in rows:\n",
        "    print(row.keyspace_name)"
      ],
      "metadata": {
        "colab": {
          "base_uri": "https://localhost:8080/"
        },
        "id": "zKtQkhAM7WRU",
        "outputId": "f9d85120-ff33-46e1-d32f-a8b3885f73e2"
      },
      "execution_count": 6,
      "outputs": [
        {
          "output_type": "stream",
          "name": "stdout",
          "text": [
            "system_auth\n",
            "datastax_sla\n",
            "system_schema\n",
            "praxis\n",
            "system\n",
            "system_traces\n",
            "data_endpoint_auth\n"
          ]
        }
      ]
    },
    {
      "cell_type": "code",
      "source": [
        "rows = session.execute(\"SELECT * FROM system_schema.tables WHERE keyspace_name = 'praxis';\")\n",
        "for row in rows:\n",
        "    print(row.table_name)"
      ],
      "metadata": {
        "id": "oFI7rTcD8hXX",
        "outputId": "fbca57f7-7844-4bf5-a2fd-d2334276a0d0",
        "colab": {
          "base_uri": "https://localhost:8080/"
        }
      },
      "execution_count": 7,
      "outputs": [
        {
          "output_type": "stream",
          "name": "stdout",
          "text": [
            "users\n"
          ]
        }
      ]
    },
    {
      "cell_type": "code",
      "source": [
        "session.execute('drop table if exists praxis.users;')"
      ],
      "metadata": {
        "colab": {
          "base_uri": "https://localhost:8080/"
        },
        "id": "6dwGDh0r88Ce",
        "outputId": "50a8e228-6a40-4ea4-d8a7-ae40477ea2b6"
      },
      "execution_count": 8,
      "outputs": [
        {
          "output_type": "execute_result",
          "data": {
            "text/plain": [
              "<cassandra.cluster.ResultSet at 0x7f449415e210>"
            ]
          },
          "metadata": {},
          "execution_count": 8
        }
      ]
    },
    {
      "cell_type": "code",
      "source": [
        "session.execute('USE praxis')"
      ],
      "metadata": {
        "colab": {
          "base_uri": "https://localhost:8080/"
        },
        "id": "r1h6SPj26dOq",
        "outputId": "139b293c-2447-462d-d6b2-ade27079125e"
      },
      "execution_count": 9,
      "outputs": [
        {
          "output_type": "execute_result",
          "data": {
            "text/plain": [
              "<cassandra.cluster.ResultSet at 0x7f44930ccc10>"
            ]
          },
          "metadata": {},
          "execution_count": 9
        }
      ]
    },
    {
      "cell_type": "code",
      "source": [
        "session.execute(\"CREATE TABLE users (user_id int PRIMARY KEY, first_name text, last_name text );\")"
      ],
      "metadata": {
        "colab": {
          "base_uri": "https://localhost:8080/"
        },
        "id": "aPwcf79J6vL3",
        "outputId": "f385f121-ef1d-48e4-903e-9df4e5033295"
      },
      "execution_count": 10,
      "outputs": [
        {
          "output_type": "execute_result",
          "data": {
            "text/plain": [
              "<cassandra.cluster.ResultSet at 0x7f449550bd50>"
            ]
          },
          "metadata": {},
          "execution_count": 10
        }
      ]
    },
    {
      "cell_type": "code",
      "source": [
        "session.execute(\"INSERT INTO users (user_id, first_name, last_name) VALUES (1, 'Prithwis', 'Mukerjee');\")\n",
        "session.execute(\"INSERT INTO users (user_id, first_name, last_name) VALUES (2, 'Sanniti', 'Chatterjee');\")\n",
        "session.execute(\"INSERT INTO users (user_id, first_name, last_name) VALUES (3, 'Amrita', 'Ghosh');\")"
      ],
      "metadata": {
        "colab": {
          "base_uri": "https://localhost:8080/"
        },
        "id": "ZBLpAKAk-Ctk",
        "outputId": "9723507b-907a-4e74-b992-c072cf3c1a97"
      },
      "execution_count": 11,
      "outputs": [
        {
          "output_type": "execute_result",
          "data": {
            "text/plain": [
              "<cassandra.cluster.ResultSet at 0x7f4496d7a490>"
            ]
          },
          "metadata": {},
          "execution_count": 11
        }
      ]
    },
    {
      "cell_type": "code",
      "source": [
        "rows = session.execute('SELECT * FROM users')\n",
        "for row in rows:\n",
        "        print(row.user_id,row.first_name,row.last_name)"
      ],
      "metadata": {
        "colab": {
          "base_uri": "https://localhost:8080/"
        },
        "id": "y--TdJyE-M2h",
        "outputId": "2672d064-3c39-4edd-894a-7b8056de81c9"
      },
      "execution_count": 12,
      "outputs": [
        {
          "output_type": "stream",
          "name": "stdout",
          "text": [
            "1 Prithwis Mukerjee\n",
            "2 Sanniti Chatterjee\n",
            "3 Amrita Ghosh\n"
          ]
        }
      ]
    },
    {
      "cell_type": "markdown",
      "source": [
        "#Chronobooks <br>\n",
        "![alt text](https://1.bp.blogspot.com/-lTiYBkU2qbU/X1er__fvnkI/AAAAAAAAjtE/GhDR3OEGJr4NG43fZPodrQD5kbxtnKebgCLcBGAsYHQ/s600/Footer2020-600x200.png)<hr>\n",
        "Chronotantra and Chronoyantra are two science fiction novels that explore the collapse of human civilisation on Earth and then its rebirth and reincarnation both on Earth as well as on the distant worlds of Mars, Titan and Enceladus. But is it the human civilisation that is being reborn? Or is it some other sentience that is revealing itself. \n",
        "If you have an interest in AI and found this material useful, you may consider buying these novels, in paperback or kindle, from [http://bit.ly/chronobooks](http://bit.ly/chronobooks)"
      ],
      "metadata": {
        "id": "dFSq36qU2mUj"
      }
    }
  ]
}