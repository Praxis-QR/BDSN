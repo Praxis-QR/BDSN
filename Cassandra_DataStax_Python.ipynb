{
  "nbformat": 4,
  "nbformat_minor": 0,
  "metadata": {
    "colab": {
      "name": "Cassandra @ DataStax - Python",
      "provenance": [],
      "include_colab_link": true
    },
    "kernelspec": {
      "name": "python3",
      "display_name": "Python 3"
    },
    "language_info": {
      "name": "python"
    }
  },
  "cells": [
    {
      "cell_type": "markdown",
      "metadata": {
        "id": "view-in-github",
        "colab_type": "text"
      },
      "source": [
        "<a href=\"https://colab.research.google.com/github/Praxis-QR/BDSN/blob/main/Cassandra_DataStax_Python.ipynb\" target=\"_parent\"><img src=\"https://colab.research.google.com/assets/colab-badge.svg\" alt=\"Open In Colab\"/></a>"
      ]
    },
    {
      "cell_type": "markdown",
      "source": [
        "![alt text](https://github.com/Praxis-QR/RDWH/raw/main/images/YantraJaalBanner.png)<br>\n",
        "\n",
        "\n",
        "<hr>\n",
        "\n",
        "[Prithwis Mukerjee](http://www.linkedin.com/in/prithwis)<br>"
      ],
      "metadata": {
        "id": "86RW3uzr2fdG"
      }
    },
    {
      "cell_type": "markdown",
      "source": [
        "#Get Astra DataStax credentials\n",
        "from G-Drive <br>\n",
        "https://www.datastax.com/ <br>\n",
        "login with Google ID registrations"
      ],
      "metadata": {
        "id": "KRRsvGaj2uro"
      }
    },
    {
      "cell_type": "code",
      "source": [
        "#Collect Credentials from GDrive\n",
        "#this cell required to hide mongoURI from notebook in public github directory\n",
        "from google.colab import drive\n",
        "drive.mount('/content/drive')\n",
        "# copy credentials file\n",
        "#!ls /content/drive/'My Drive'/Praxis/WebCredentials\n",
        "!cp /content/drive/'My Drive'/Praxis/WebCredentials/secure-connect-praxisdb.zip .\n",
        "!cp /content/drive/'My Drive'/Praxis/WebCredentials/ASTRA_DataStaxCredentials_Jun22.py credentials.py\n",
        "# import \n",
        "from credentials import ClientId, ClientSecret\n"
      ],
      "metadata": {
        "colab": {
          "base_uri": "https://localhost:8080/"
        },
        "id": "UAztV9EF22L3",
        "outputId": "26110dde-1039-4e94-939a-5f2c501f3ee6"
      },
      "execution_count": 1,
      "outputs": [
        {
          "output_type": "stream",
          "name": "stdout",
          "text": [
            "Mounted at /content/drive\n"
          ]
        }
      ]
    },
    {
      "cell_type": "markdown",
      "source": [
        "#Install Cassandra Drivers"
      ],
      "metadata": {
        "id": "Rw_nSwYi41gC"
      }
    },
    {
      "cell_type": "code",
      "source": [
        "!pip install cassandra-driver"
      ],
      "metadata": {
        "colab": {
          "base_uri": "https://localhost:8080/"
        },
        "id": "YmgeEPAe45VR",
        "outputId": "549dddc5-e8f3-4f30-bfef-833879e5ba93"
      },
      "execution_count": 2,
      "outputs": [
        {
          "output_type": "stream",
          "name": "stdout",
          "text": [
            "Looking in indexes: https://pypi.org/simple, https://us-python.pkg.dev/colab-wheels/public/simple/\n",
            "Collecting cassandra-driver\n",
            "  Downloading cassandra_driver-3.25.0-cp38-cp38-manylinux1_x86_64.whl (3.6 MB)\n",
            "\u001b[2K     \u001b[90m━━━━━━━━━━━━━━━━━━━━━━━━━━━━━━━━━━━━━━━━\u001b[0m \u001b[32m3.6/3.6 MB\u001b[0m \u001b[31m30.6 MB/s\u001b[0m eta \u001b[36m0:00:00\u001b[0m\n",
            "\u001b[?25hRequirement already satisfied: six>=1.9 in /usr/local/lib/python3.8/dist-packages (from cassandra-driver) (1.15.0)\n",
            "Collecting geomet<0.3,>=0.1\n",
            "  Downloading geomet-0.2.1.post1-py3-none-any.whl (18 kB)\n",
            "Requirement already satisfied: click in /usr/local/lib/python3.8/dist-packages (from geomet<0.3,>=0.1->cassandra-driver) (7.1.2)\n",
            "Installing collected packages: geomet, cassandra-driver\n",
            "Successfully installed cassandra-driver-3.25.0 geomet-0.2.1.post1\n"
          ]
        }
      ]
    },
    {
      "cell_type": "code",
      "source": [
        "import cassandra \n",
        "print (cassandra.__version__)"
      ],
      "metadata": {
        "colab": {
          "base_uri": "https://localhost:8080/"
        },
        "id": "5a6PXN6h5BY-",
        "outputId": "f335089c-bb32-4c0d-d6ba-847379856850"
      },
      "execution_count": 3,
      "outputs": [
        {
          "output_type": "stream",
          "name": "stdout",
          "text": [
            "3.25.0\n"
          ]
        }
      ]
    },
    {
      "cell_type": "code",
      "source": [
        "# This cell will throw an error if database is in hibernation\n",
        "# Login to https://www.datastax.com/ with GMail credentials and resume database\n",
        "#\n",
        "#\n",
        "from cassandra.cluster import Cluster\n",
        "from cassandra.auth import PlainTextAuthProvider\n",
        "\n",
        "cloud_config= {'secure_connect_bundle': '/content/secure-connect-praxisdb.zip'}\n",
        "auth_provider = PlainTextAuthProvider(ClientId, ClientSecret)\n",
        "\n",
        "#cluster = Cluster(cloud=cloud_config, auth_provider=auth_provider)\n",
        "# https://stackoverflow.com/questions/31444098/python-cassandra-driver-invalid-or-unsupported-protocol-version-4\n",
        "cluster = Cluster(cloud=cloud_config, auth_provider=auth_provider, protocol_version=3)\n",
        "session = cluster.connect()"
      ],
      "metadata": {
        "id": "34axjYII5Icg"
      },
      "execution_count": 7,
      "outputs": []
    },
    {
      "cell_type": "code",
      "source": [
        "row = session.execute(\"select release_version from system.local\").one()\n",
        "if row:\n",
        "    print(row[0])\n",
        "else:\n",
        "    print(\"An error occurred.\")"
      ],
      "metadata": {
        "id": "eVgWYKh9X7Z5",
        "outputId": "ac76d2a8-d7a7-4c75-948d-012d779857d2",
        "colab": {
          "base_uri": "https://localhost:8080/"
        }
      },
      "execution_count": 8,
      "outputs": [
        {
          "output_type": "stream",
          "name": "stdout",
          "text": [
            "4.0.0.6816\n"
          ]
        }
      ]
    },
    {
      "cell_type": "markdown",
      "source": [
        "#Basic Data Access"
      ],
      "metadata": {
        "id": "TUDTlm8_6ajL"
      }
    },
    {
      "cell_type": "code",
      "source": [
        "rows = session.execute(\"SELECT * FROM system_schema.keyspaces ;\")\n",
        "for row in rows:\n",
        "    print(row.keyspace_name)"
      ],
      "metadata": {
        "colab": {
          "base_uri": "https://localhost:8080/"
        },
        "id": "zKtQkhAM7WRU",
        "outputId": "fed5e6aa-800a-49e4-8509-090f5a61fc3b"
      },
      "execution_count": 9,
      "outputs": [
        {
          "output_type": "stream",
          "name": "stdout",
          "text": [
            "system_auth\n",
            "datastax_sla\n",
            "system_schema\n",
            "praxis\n",
            "system\n",
            "system_traces\n",
            "data_endpoint_auth\n"
          ]
        }
      ]
    },
    {
      "cell_type": "code",
      "source": [
        "rows = session.execute(\"SELECT * FROM system_schema.tables WHERE keyspace_name = 'praxis';\")\n",
        "for row in rows:\n",
        "    print(row.table_name)"
      ],
      "metadata": {
        "id": "oFI7rTcD8hXX",
        "outputId": "1ba37244-ec4f-4a0a-abaf-1819172b1c60",
        "colab": {
          "base_uri": "https://localhost:8080/"
        }
      },
      "execution_count": 10,
      "outputs": [
        {
          "output_type": "stream",
          "name": "stdout",
          "text": [
            "users\n"
          ]
        }
      ]
    },
    {
      "cell_type": "code",
      "source": [
        "session.execute('drop table if exists praxis.users;')"
      ],
      "metadata": {
        "colab": {
          "base_uri": "https://localhost:8080/"
        },
        "id": "6dwGDh0r88Ce",
        "outputId": "2a3d3dc6-97b6-475f-9af2-bde6f2c2fc60"
      },
      "execution_count": 16,
      "outputs": [
        {
          "output_type": "execute_result",
          "data": {
            "text/plain": [
              "<cassandra.cluster.ResultSet at 0x7f99d759da30>"
            ]
          },
          "metadata": {},
          "execution_count": 16
        }
      ]
    },
    {
      "cell_type": "code",
      "source": [
        "session.execute('USE praxis')"
      ],
      "metadata": {
        "colab": {
          "base_uri": "https://localhost:8080/"
        },
        "id": "r1h6SPj26dOq",
        "outputId": "5fe7075d-fb12-4022-a3ab-68e997aad938"
      },
      "execution_count": 17,
      "outputs": [
        {
          "output_type": "execute_result",
          "data": {
            "text/plain": [
              "<cassandra.cluster.ResultSet at 0x7f99dc932850>"
            ]
          },
          "metadata": {},
          "execution_count": 17
        }
      ]
    },
    {
      "cell_type": "code",
      "source": [
        "session.execute(\"CREATE TABLE users (user_id int PRIMARY KEY, first_name text, last_name text );\")"
      ],
      "metadata": {
        "colab": {
          "base_uri": "https://localhost:8080/"
        },
        "id": "aPwcf79J6vL3",
        "outputId": "12be8ef4-a0c8-475e-ccb5-1f0443e3803c"
      },
      "execution_count": 18,
      "outputs": [
        {
          "output_type": "execute_result",
          "data": {
            "text/plain": [
              "<cassandra.cluster.ResultSet at 0x7f99dc932a90>"
            ]
          },
          "metadata": {},
          "execution_count": 18
        }
      ]
    },
    {
      "cell_type": "code",
      "source": [
        "session.execute(\"INSERT INTO users (user_id, first_name, last_name) VALUES (1, 'Prithwis', 'Mukerjee');\")\n",
        "session.execute(\"INSERT INTO users (user_id, first_name, last_name) VALUES (2, 'Sanniti', 'Chatterjee');\")\n",
        "session.execute(\"INSERT INTO users (user_id, first_name, last_name) VALUES (3, 'Amrita', 'Ghosh');\")"
      ],
      "metadata": {
        "colab": {
          "base_uri": "https://localhost:8080/"
        },
        "id": "ZBLpAKAk-Ctk",
        "outputId": "c61a36dc-e0b6-449d-f887-9517370b5c79"
      },
      "execution_count": 19,
      "outputs": [
        {
          "output_type": "execute_result",
          "data": {
            "text/plain": [
              "<cassandra.cluster.ResultSet at 0x7f99d759d490>"
            ]
          },
          "metadata": {},
          "execution_count": 19
        }
      ]
    },
    {
      "cell_type": "code",
      "source": [
        "rows = session.execute('SELECT * FROM users')\n",
        "for row in rows:\n",
        "        print(row.user_id,row.first_name,row.last_name)"
      ],
      "metadata": {
        "colab": {
          "base_uri": "https://localhost:8080/"
        },
        "id": "y--TdJyE-M2h",
        "outputId": "362609bc-220f-4ca2-8bb7-2c0648ff8f97"
      },
      "execution_count": 20,
      "outputs": [
        {
          "output_type": "stream",
          "name": "stdout",
          "text": [
            "1 Prithwis Mukerjee\n",
            "2 Sanniti Chatterjee\n",
            "3 Amrita Ghosh\n"
          ]
        }
      ]
    },
    {
      "cell_type": "code",
      "source": [
        "from datetime import datetime\n",
        "import pytz\n",
        "print('signed off at  ',datetime.now(pytz.timezone('Asia/Kolkata')))"
      ],
      "metadata": {
        "id": "TQwA2KYhSHFi",
        "outputId": "eedc7b39-5cc5-4d6c-d870-1f70a884dc4c",
        "colab": {
          "base_uri": "https://localhost:8080/"
        }
      },
      "execution_count": 21,
      "outputs": [
        {
          "output_type": "stream",
          "name": "stdout",
          "text": [
            "signed off at   2023-01-08 12:59:11.997777+05:30\n"
          ]
        }
      ]
    },
    {
      "cell_type": "markdown",
      "source": [
        "#Chronobooks <br>\n",
        "Two science fiction novels by Prithwis Mukerjee. A dystopian Earth. A technocratic society managed by artificial intelligence. Escape and epiphany on Mars. Can man and machine, carbon and silicon explore and escape into other dimensions of existence? An Indic perspective rooted in Advaita Vedanta and the Divine Feminine.  [More information](http://bit.ly/chronobooks) <br>\n",
        "![alt text](https://github.com/Praxis-QR/RDWH/raw/main/images/CTCYFooter-1.png)"
      ],
      "metadata": {
        "id": "dFSq36qU2mUj"
      }
    }
  ]
}