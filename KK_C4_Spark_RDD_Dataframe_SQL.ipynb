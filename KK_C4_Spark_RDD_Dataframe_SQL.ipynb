{
  "nbformat": 4,
  "nbformat_minor": 0,
  "metadata": {
    "colab": {
      "provenance": [],
      "collapsed_sections": [
        "W2QOKe1NRHn4",
        "sRvq6-Cd5cwS",
        "-tVgOWHgpc0W",
        "_2HO3H2WkkDC",
        "G9QnYzQBmqC6"
      ],
      "toc_visible": true,
      "include_colab_link": true
    },
    "kernelspec": {
      "name": "python3",
      "display_name": "Python 3"
    }
  },
  "cells": [
    {
      "cell_type": "markdown",
      "metadata": {
        "id": "view-in-github",
        "colab_type": "text"
      },
      "source": [
        "<a href=\"https://colab.research.google.com/github/Praxis-QR/BDSN/blob/main/KK_C4_Spark_RDD_Dataframe_SQL.ipynb\" target=\"_parent\"><img src=\"https://colab.research.google.com/assets/colab-badge.svg\" alt=\"Open In Colab\"/></a>"
      ]
    },
    {
      "cell_type": "markdown",
      "metadata": {
        "id": "fj93_nN2wPV1"
      },
      "source": [
        "![alt text](https://github.com/Praxis-QR/RDWH/raw/main/images/YantraJaalBanner.png)<br>\n",
        "\n",
        "\n",
        "<hr>\n",
        "\n",
        "[Prithwis Mukerjee](http://www.linkedin.com/in/prithwis)<br>"
      ]
    },
    {
      "cell_type": "markdown",
      "source": [
        "# Basic Data Analysis | Supermarket | Netflix | IMDB\n",
        "An alternative approach is available at https://github.com/Praxis-QR/BDSN/blob/main/KK_C2A_Spark_WordCount_Alternative.ipynb"
      ],
      "metadata": {
        "id": "Y-gYEr36F06t"
      }
    },
    {
      "cell_type": "code",
      "source": [
        "from datetime import datetime\n",
        "import pytz\n",
        "print('ॐ श्री सरस्वत्यै नमः',datetime.now(pytz.timezone('Asia/Calcutta')))\n",
        "\n",
        "!python --version\n",
        "!lsb_release -a\n",
        "\n",
        "#check which version of MongoDB  is available\n",
        "#!apt-cache policy mongodb\n",
        "\n",
        "#check which versions of software are available\n",
        "#!pip3 index versions pyspark\n",
        "#!pip3 index versions pyngrok"
      ],
      "metadata": {
        "id": "dHceCHdUqREm",
        "outputId": "13ec6734-0a8a-487a-a3e5-a2c9cccd3075",
        "colab": {
          "base_uri": "https://localhost:8080/"
        }
      },
      "execution_count": 1,
      "outputs": [
        {
          "output_type": "stream",
          "name": "stdout",
          "text": [
            "ॐ श्री सरस्वत्यै नमः 2024-01-19 09:54:41.746555+05:30\n",
            "Python 3.10.12\n",
            "No LSB modules are available.\n",
            "Distributor ID:\tUbuntu\n",
            "Description:\tUbuntu 22.04.3 LTS\n",
            "Release:\t22.04\n",
            "Codename:\tjammy\n"
          ]
        }
      ]
    },
    {
      "cell_type": "markdown",
      "source": [
        "# Download, Check Data\n",
        "Sourced from https://github.com/search?q=owner%3Ajigsawlabs-student%20pyspark&type=repositories"
      ],
      "metadata": {
        "id": "poH3PbIicLHC"
      }
    },
    {
      "cell_type": "code",
      "source": [
        "import pandas as pd\n",
        "\n",
        "#!wget -O netflix.csv \"https://raw.githubusercontent.com/jigsawlabs-student/pyspark-cluster-lab/main/netflix_titles.csv\"\n",
        "!wget -q \"https://github.com/Praxis-QR/BDSN/raw/main/Data2/NetFlix.csv\"\n",
        "#df = pd.read_csv('s3://jigsaw-labs-student/supermarket_sales.csv')\n",
        "df1 = pd.read_csv('NetFlix.csv')\n",
        "\n",
        "!wget -q 'https://github.com/Praxis-QR/BDSN/raw/main/Data2/SuperMarketSales.csv'\n",
        "df2 = pd.read_csv('SuperMarketSales.csv')\n",
        "\n",
        "#df2 = pd.read_csv(\"s3://jigsaw-labs-student/imdb_movies.csv\")\n",
        "!wget -q 'https://github.com/Praxis-QR/BDSN/raw/main/Data2/IMDBmovies.csv'\n",
        "df3 = pd.read_csv('IMDBmovies.csv')\n",
        "df1.shape, df2.shape, df3.shape"
      ],
      "metadata": {
        "id": "Pqv2qe7ucS1i",
        "outputId": "e2bd56c4-9ec4-48fa-f11c-9d21128b7241",
        "colab": {
          "base_uri": "https://localhost:8080/"
        }
      },
      "execution_count": 2,
      "outputs": [
        {
          "output_type": "execute_result",
          "data": {
            "text/plain": [
              "((7787, 12), (1000, 17), (2000, 7))"
            ]
          },
          "metadata": {},
          "execution_count": 2
        }
      ]
    },
    {
      "cell_type": "markdown",
      "metadata": {
        "id": "eSOI8k9qicmu"
      },
      "source": [
        "# Spark Installation\n"
      ]
    },
    {
      "cell_type": "markdown",
      "source": [
        "## Full Installation - Skip unless specifically required"
      ],
      "metadata": {
        "id": "GguG29b062na"
      }
    },
    {
      "cell_type": "code",
      "metadata": {
        "id": "gIjVxBSKIDsW"
      },
      "source": [
        "#!apt update > /dev/null\n",
        "#!apt install openjdk-8-jdk-headless -qq > /dev/null"
      ],
      "execution_count": null,
      "outputs": []
    },
    {
      "cell_type": "code",
      "metadata": {
        "id": "jAgQ-0fGhxWI"
      },
      "source": [
        "# Get latest and correct version of Spark\n",
        "#\n",
        "# if the current version of Spark is not used, there may be errors\n",
        "# check here for current versions http://apache.osuosl.org/spark\n",
        "#\n",
        "#!wget -q http://apache.osuosl.org/spark/spark-2.2.2/spark-2.2.2-bin-hadoop2.7.tgz\n",
        "#!wget -q http://apache.osuosl.org/spark/spark-2.4.0/spark-2.4.0-bin-hadoop2.7.tgz\n",
        "#!wget -q http://apache.osuosl.org/spark/spark-2.4.3/spark-2.4.3-bin-hadoop2.7.tgz\n",
        "#!wget -q http://apache.osuosl.org/spark/spark-2.4.4/spark-2.4.4-bin-hadoop2.7.tgz\n",
        "#!wget -q http://apache.osuosl.org/spark/spark-2.4.5/spark-2.4.5-bin-hadoop2.7.tgz\n",
        "#!wget -q http://apache.osuosl.org/spark/spark-3.0.1/spark-3.0.1-bin-hadoop3.2.tgz\n",
        "#!wget -q http://apache.osuosl.org/spark/spark-3.1.2/spark-3.1.2-bin-hadoop3.2.tgz\n",
        "\n",
        "#!tar xf spark-2.4.5-bin-hadoop2.7.tgz\n",
        "#!tar xf spark-3.0.1-bin-hadoop3.2.tgz\n",
        "#!tar xf spark-3.1.2-bin-hadoop3.2.tgz\n",
        "#!pip install -q findspark\n",
        "#!pip install -q pyspark\n",
        "\n",
        "#import os\n",
        "#os.environ[\"JAVA_HOME\"] = \"/usr/lib/jvm/java-8-openjdk-amd64\"\n",
        "#os.environ[\"SPARK_HOME\"] = \"/content/spark-2.4.0-bin-hadoop2.7\"\n",
        "#os.environ[\"SPARK_HOME\"] = \"/content/spark-2.4.4-bin-hadoop2.7\"\n",
        "#os.environ[\"SPARK_HOME\"] = \"/content/spark-2.4.5-bin-hadoop2.7\"\n",
        "#os.environ[\"SPARK_HOME\"] = \"/content/spark-3.0.1-bin-hadoop3.2\"\n",
        "#os.environ[\"SPARK_HOME\"] = \"/content/spark-3.1.2-bin-hadoop3.2\"\n"
      ],
      "execution_count": null,
      "outputs": []
    },
    {
      "cell_type": "code",
      "metadata": {
        "id": "7ClRT_Ari2Ys"
      },
      "source": [
        "# findspark route is no more required\n",
        "#import findspark\n",
        "#findspark.init()\n",
        "#\n",
        "#findspark.init('/content/spark-2.2.2-bin-hadoop2.7')\n",
        "#\n",
        "# https://stackoverflow.com/questions/42223498/findspark-init-indexerror-list-index-out-of-range-error\n",
        "#\n"
      ],
      "execution_count": null,
      "outputs": []
    },
    {
      "cell_type": "markdown",
      "source": [
        "## Simple pip install"
      ],
      "metadata": {
        "id": "vI0evwwr7CpC"
      }
    },
    {
      "cell_type": "code",
      "source": [
        "!pip3 -q install pyspark\n",
        "!pip3 -q install pyngrok\n",
        "#!pip3 -q install s3fs"
      ],
      "metadata": {
        "colab": {
          "base_uri": "https://localhost:8080/"
        },
        "id": "7KtBzIPRpF-W",
        "outputId": "a6a29ee5-6a8f-4ca2-d616-5e616daa5eba"
      },
      "execution_count": 3,
      "outputs": [
        {
          "output_type": "stream",
          "name": "stdout",
          "text": [
            "\u001b[2K     \u001b[90m━━━━━━━━━━━━━━━━━━━━━━━━━━━━━━━━━━━━━━━━\u001b[0m \u001b[32m316.9/316.9 MB\u001b[0m \u001b[31m4.6 MB/s\u001b[0m eta \u001b[36m0:00:00\u001b[0m\n",
            "\u001b[?25h  Preparing metadata (setup.py) ... \u001b[?25l\u001b[?25hdone\n",
            "  Building wheel for pyspark (setup.py) ... \u001b[?25l\u001b[?25hdone\n"
          ]
        }
      ]
    },
    {
      "cell_type": "code",
      "source": [
        "from pyspark.sql.functions import col, to_date, to_timestamp\n",
        "from pyspark.sql.functions import regexp_replace\n",
        "#from pyspark.sql.types import StructType,StructField, StringType, DateType, TimestampType, IntegerType,DoubleType, FloatType,NumericType, DecimalType\n",
        "from pyspark.sql.types import *\n",
        "from pyspark.sql.functions import *\n",
        "#\n",
        "from pyspark.sql import SparkSession\n",
        "#"
      ],
      "metadata": {
        "id": "zshFo_neioPt"
      },
      "execution_count": 4,
      "outputs": []
    },
    {
      "cell_type": "code",
      "source": [
        "# spark = SparkSession.builder.master(\"local[*]\").getOrCreate()\n",
        "# note UI port switched from default 4040 to 4050 to avoid clash with ngrok\n",
        "#\n",
        "spark39 = SparkSession.builder.master(\"local[*]\").config('spark.ui.port', '4050').getOrCreate()\n",
        "#\n",
        "sc = spark39.sparkContext\n",
        "#\n",
        "# The spark Console UI is available in the link that will be displayed in this cell.\n",
        "# If you do not wish to use the Console, you may skip the Tunnel part\n",
        "sc"
      ],
      "metadata": {
        "id": "JA26cSUf7Maq",
        "outputId": "610980f0-61d8-4749-de7d-7cb7b68d27a2",
        "colab": {
          "base_uri": "https://localhost:8080/",
          "height": 196
        }
      },
      "execution_count": 5,
      "outputs": [
        {
          "output_type": "execute_result",
          "data": {
            "text/plain": [
              "<SparkContext master=local[*] appName=pyspark-shell>"
            ],
            "text/html": [
              "\n",
              "        <div>\n",
              "            <p><b>SparkContext</b></p>\n",
              "\n",
              "            <p><a href=\"http://83a344e30d4a:4050\">Spark UI</a></p>\n",
              "\n",
              "            <dl>\n",
              "              <dt>Version</dt>\n",
              "                <dd><code>v3.5.0</code></dd>\n",
              "              <dt>Master</dt>\n",
              "                <dd><code>local[*]</code></dd>\n",
              "              <dt>AppName</dt>\n",
              "                <dd><code>pyspark-shell</code></dd>\n",
              "            </dl>\n",
              "        </div>\n",
              "        "
            ]
          },
          "metadata": {},
          "execution_count": 5
        }
      ]
    },
    {
      "cell_type": "markdown",
      "metadata": {
        "id": "W2QOKe1NRHn4"
      },
      "source": [
        "##Tunnel with ngrok <br>\n",
        "This part required ONLY if you need to access Spark Console<br>\n",
        "To get you ngrok token please visit https://dashboard.ngrok.com/login <br>\n",
        "and create a free account"
      ]
    },
    {
      "cell_type": "markdown",
      "metadata": {
        "id": "FG1ZwJ8yehyw"
      },
      "source": [
        "###Loading ngrok token from GDrive<br>\n",
        "this part may be skipped if ngrok can be placed directly in one of the two next steps"
      ]
    },
    {
      "cell_type": "code",
      "metadata": {
        "colab": {
          "base_uri": "https://localhost:8080/"
        },
        "id": "n7uFjFW9RU9L",
        "outputId": "db5df8ef-bde8-44c3-88aa-6c19b1f6d7b3"
      },
      "source": [
        "from google.colab import drive\n",
        "drive.mount('/content/drive')\n",
        "#\n",
        "#!ls /content/drive/'My Drive'/Praxis/WebCredentials/\n",
        "#\n",
        "!cp /content/drive/'My Drive'/Praxis/WebCredentials/ngrokToken.py ."
      ],
      "execution_count": null,
      "outputs": [
        {
          "output_type": "stream",
          "name": "stdout",
          "text": [
            "Mounted at /content/drive\n"
          ]
        }
      ]
    },
    {
      "cell_type": "code",
      "metadata": {
        "id": "EXb94HvLSSBb"
      },
      "source": [
        "# credential file for Prithwis Mukerjee\n",
        "# this file needs to be uploaded into the VM\n",
        "\n",
        "from ngrokToken import ngrokToken\n",
        "\n",
        "#for the sake of privacy\n",
        "#the following credentials need to be stored in a text file called ngrokToken.py\n",
        "#in the format given below\n",
        "#in the Colab VM\n",
        "\n",
        "#otherwise, the values can be directly placed here\n",
        "\n",
        "#ngrokToken = 'xxxxxxxxxxxxxxx'   # uncomment this line and place your own credentials here\n",
        "#token is available at https://dashboard.ngrok.com/get-started/setup\n",
        "\n",
        "\n",
        "#print(ngrokToken)\n",
        "ngrokTokenCmd = 'ngrok authtoken '+ngrokToken"
      ],
      "execution_count": null,
      "outputs": []
    },
    {
      "cell_type": "markdown",
      "metadata": {
        "id": "GuCKEn_dsfkm"
      },
      "source": [
        "###ngrok - python wrapper <br>\n",
        "this code adapted from https://towardsdatascience.com/quickly-share-ml-webapps-from-google-colab-using-ngrok-for-free-ae899ca2661a"
      ]
    },
    {
      "cell_type": "code",
      "metadata": {
        "id": "0sWPM5QvtS4B"
      },
      "source": [
        "\n"
      ],
      "execution_count": null,
      "outputs": []
    },
    {
      "cell_type": "code",
      "metadata": {
        "id": "gx0ssMRt36k4",
        "colab": {
          "base_uri": "https://localhost:8080/"
        },
        "outputId": "eae054fd-426b-4634-ad3c-b3f3d0295235"
      },
      "source": [
        "from pyngrok import ngrok\n",
        "# you may place the token directly here\n",
        "#!ngrok authtoken xxxxxxxxxxxxxxxxxxxxxxxxxxxxxx\n",
        "get_ipython().system_raw(ngrokTokenCmd)\n",
        "# Open a HTTP tunnel on the default port 80\n",
        "#public_url = ngrok.connect(port = '4050')\n",
        "public_url = ngrok.connect(4050)\n",
        "#This is where the Spark Console UI will be visible\n",
        "public_url"
      ],
      "execution_count": null,
      "outputs": [
        {
          "output_type": "execute_result",
          "data": {
            "text/plain": [
              "<NgrokTunnel: \"https://0dd1-34-118-242-101.ngrok-free.app\" -> \"http://localhost:4050\">"
            ]
          },
          "metadata": {},
          "execution_count": 6
        }
      ]
    },
    {
      "cell_type": "markdown",
      "metadata": {
        "id": "RL_D5j-oOn2V"
      },
      "source": [
        "The next four cells are not required. Mainly used to check on the status of the Tunnel"
      ]
    },
    {
      "cell_type": "code",
      "metadata": {
        "id": "T8Ne_XhzuDGU",
        "colab": {
          "base_uri": "https://localhost:8080/"
        },
        "outputId": "244bc68a-e027-4559-db99-08f3eeb1015c"
      },
      "source": [
        "!curl -s http://localhost:4040/api/tunnels"
      ],
      "execution_count": null,
      "outputs": [
        {
          "output_type": "stream",
          "name": "stdout",
          "text": [
            "{\"tunnels\":[{\"name\":\"http-4050-7b6b18f4-59ba-42fd-8269-5f6dd6af7423\",\"ID\":\"f95df2af638ea911dcbe2d0913061c4d\",\"uri\":\"/api/tunnels/http-4050-7b6b18f4-59ba-42fd-8269-5f6dd6af7423\",\"public_url\":\"https://0dd1-34-118-242-101.ngrok-free.app\",\"proto\":\"https\",\"config\":{\"addr\":\"http://localhost:4050\",\"inspect\":true},\"metrics\":{\"conns\":{\"count\":0,\"gauge\":0,\"rate1\":0,\"rate5\":0,\"rate15\":0,\"p50\":0,\"p90\":0,\"p95\":0,\"p99\":0},\"http\":{\"count\":0,\"rate1\":0,\"rate5\":0,\"rate15\":0,\"p50\":0,\"p90\":0,\"p95\":0,\"p99\":0}}}],\"uri\":\"/api/tunnels\"}\n"
          ]
        }
      ]
    },
    {
      "cell_type": "code",
      "metadata": {
        "id": "MO66r_yEftBC",
        "colab": {
          "base_uri": "https://localhost:8080/"
        },
        "outputId": "4c990bf6-963d-41df-d856-dc092666ae8f"
      },
      "source": [
        "!curl -s http://localhost:4040/api/tunnels | python3 -c \\\n",
        "    \"import sys, json; print(json.load(sys.stdin)['tunnels'][0]['public_url'])\""
      ],
      "execution_count": null,
      "outputs": [
        {
          "output_type": "stream",
          "name": "stdout",
          "text": [
            "https://0dd1-34-118-242-101.ngrok-free.app\n"
          ]
        }
      ]
    },
    {
      "cell_type": "code",
      "metadata": {
        "colab": {
          "base_uri": "https://localhost:8080/"
        },
        "id": "n7tQPpQ8q09V",
        "outputId": "f0e9a5df-2c68-4352-af7b-49b454f4ecdc"
      },
      "source": [
        "!ps"
      ],
      "execution_count": null,
      "outputs": [
        {
          "output_type": "stream",
          "text": [
            "    PID TTY          TIME CMD\n",
            "      1 ?        00:00:01 node\n",
            "     17 ?        00:00:00 tail\n",
            "     55 ?        00:00:01 jupyter-noteboo\n",
            "     56 ?        00:00:00 dap_multiplexer\n",
            "     66 ?        00:00:03 python3\n",
            "     86 ?        00:00:00 python3\n",
            "   1074 ?        00:00:09 java\n",
            "   1171 ?        00:00:00 bash\n",
            "   1172 ?        00:00:00 drive\n",
            "   1173 ?        00:00:00 grep\n",
            "   1220 ?        00:00:00 fusermount <defunct>\n",
            "   1246 ?        00:00:00 drive\n",
            "   1299 ?        00:00:00 bash\n",
            "   1300 ?        00:00:00 tail\n",
            "   1301 ?        00:00:00 python3\n",
            "   1345 ?        00:00:00 ngrok\n",
            "   1361 ?        00:00:00 ps\n"
          ],
          "name": "stdout"
        }
      ]
    },
    {
      "cell_type": "code",
      "metadata": {
        "id": "yvkMV2GxrI3L"
      },
      "source": [
        "!kill -9 1219"
      ],
      "execution_count": null,
      "outputs": []
    },
    {
      "cell_type": "markdown",
      "metadata": {
        "id": "KyKbXwFgI8WW"
      },
      "source": []
    },
    {
      "cell_type": "markdown",
      "source": [],
      "metadata": {
        "id": "HffGBK-_i0uj"
      }
    },
    {
      "cell_type": "code",
      "source": [],
      "metadata": {
        "colab": {
          "base_uri": "https://localhost:8080/"
        },
        "id": "u-d-O9qyi5wG",
        "outputId": "583d4a80-f374-4165-8ba5-025d0edf132c"
      },
      "execution_count": null,
      "outputs": [
        {
          "output_type": "execute_result",
          "data": {
            "text/plain": [
              "(7787, 12)"
            ]
          },
          "metadata": {},
          "execution_count": 5
        }
      ]
    },
    {
      "cell_type": "code",
      "source": [],
      "metadata": {
        "colab": {
          "base_uri": "https://localhost:8080/"
        },
        "id": "cArJSIybjg_r",
        "outputId": "eeea04b4-c850-4a12-edfa-659ace603e0b"
      },
      "execution_count": null,
      "outputs": [
        {
          "output_type": "execute_result",
          "data": {
            "text/plain": [
              "(1000, 17)"
            ]
          },
          "metadata": {},
          "execution_count": 6
        }
      ]
    },
    {
      "cell_type": "code",
      "source": [],
      "metadata": {
        "colab": {
          "base_uri": "https://localhost:8080/"
        },
        "id": "8l2bIHHPraDj",
        "outputId": "03379d9e-66b1-43d4-e034-cd24617b231d"
      },
      "execution_count": null,
      "outputs": [
        {
          "output_type": "execute_result",
          "data": {
            "text/plain": [
              "(2000, 7)"
            ]
          },
          "metadata": {},
          "execution_count": 7
        }
      ]
    },
    {
      "cell_type": "code",
      "source": [
        "#df.to_csv('SuperMarketSales.csv', sep=',', index=False, encoding='utf-8')\n",
        "#df2.to_csv('IMDBmovies.csv', sep=',', index=False, encoding='utf-8')"
      ],
      "metadata": {
        "id": "C8RVZStSkSoc"
      },
      "execution_count": null,
      "outputs": []
    },
    {
      "cell_type": "markdown",
      "source": [
        "# Supermarket Sales Data"
      ],
      "metadata": {
        "id": "8XeYwvtfho38"
      }
    },
    {
      "cell_type": "code",
      "source": [
        "!head SuperMarketSales.csv"
      ],
      "metadata": {
        "id": "UZhtI7jal5YS",
        "colab": {
          "base_uri": "https://localhost:8080/"
        },
        "outputId": "3cee9492-86f3-447c-d88e-8d43c8660292"
      },
      "execution_count": 57,
      "outputs": [
        {
          "output_type": "stream",
          "name": "stdout",
          "text": [
            "Invoice ID,Branch,City,Customer type,Gender,Product line,Unit price,Quantity,Tax 5%,Total,Date,Time,Payment,cogs,gross margin percentage,gross income,Rating\n",
            "750-67-8428,A,Yangon,Member,Female,Health and beauty,74.69,7,26.1415,548.9715,1/5/2019,13:08,Ewallet,522.83,4.761904762,26.1415,9.1\n",
            "226-31-3081,C,Naypyitaw,Normal,Female,Electronic accessories,15.28,5,3.82,80.22,3/8/2019,10:29,Cash,76.4,4.761904762,3.82,9.6\n",
            "631-41-3108,A,Yangon,Normal,Male,Home and lifestyle,46.33,7,16.2155,340.5255,3/3/2019,13:23,Credit card,324.31,4.761904762,16.2155,7.4\n",
            "123-19-1176,A,Yangon,Member,Male,Health and beauty,58.22,8,23.288,489.048,1/27/2019,20:33,Ewallet,465.76,4.761904762,23.288,8.4\n",
            "373-73-7910,A,Yangon,Normal,Male,Sports and travel,86.31,7,30.2085,634.3785,2/8/2019,10:37,Ewallet,604.17,4.761904762,30.2085,5.3\n",
            "699-14-3026,C,Naypyitaw,Normal,Male,Electronic accessories,85.39,7,29.8865,627.6165,3/25/2019,18:30,Ewallet,597.73,4.761904762,29.8865,4.1\n",
            "355-53-5943,A,Yangon,Member,Female,Electronic accessories,68.84,6,20.652,433.692,2/25/2019,14:36,Ewallet,413.04,4.761904762,20.652,5.8\n",
            "315-22-5665,C,Naypyitaw,Normal,Female,Home and lifestyle,73.56,10,36.78,772.38,2/24/2019,11:38,Ewallet,735.6,4.761904762,36.78,8.0\n",
            "665-32-9167,A,Yangon,Member,Female,Health and beauty,36.26,2,3.626,76.146,1/10/2019,17:15,Credit card,72.52,4.761904762,3.626,7.2\n"
          ]
        }
      ]
    },
    {
      "cell_type": "markdown",
      "source": [
        "## RDD Operations"
      ],
      "metadata": {
        "id": "7mva4hYshAVW"
      }
    },
    {
      "cell_type": "markdown",
      "source": [
        "### Read CSV into RDD"
      ],
      "metadata": {
        "id": "PpSjwcjWlK1w"
      }
    },
    {
      "cell_type": "code",
      "source": [
        "sales_RDD1 = sc.textFile(\"SuperMarketSales.csv\")\n",
        "sales_RDD2 = spark39.read.text(\"SuperMarketSales.csv\").rdd\n",
        "# for an explanation of the alternate way to read text files\n",
        "# see this https://stackoverflow.com/questions/52665353/reading-a-text-file-in-spark/52669632#52669632"
      ],
      "metadata": {
        "id": "qZM6jTgIinAN"
      },
      "execution_count": 58,
      "outputs": []
    },
    {
      "cell_type": "code",
      "source": [
        "sales_RDD1.take(5)"
      ],
      "metadata": {
        "colab": {
          "base_uri": "https://localhost:8080/"
        },
        "id": "7oZD35n9jFXF",
        "outputId": "a20902ec-e938-40a7-da85-1e4be5f2fe07"
      },
      "execution_count": 59,
      "outputs": [
        {
          "output_type": "execute_result",
          "data": {
            "text/plain": [
              "['Invoice ID,Branch,City,Customer type,Gender,Product line,Unit price,Quantity,Tax 5%,Total,Date,Time,Payment,cogs,gross margin percentage,gross income,Rating',\n",
              " '750-67-8428,A,Yangon,Member,Female,Health and beauty,74.69,7,26.1415,548.9715,1/5/2019,13:08,Ewallet,522.83,4.761904762,26.1415,9.1',\n",
              " '226-31-3081,C,Naypyitaw,Normal,Female,Electronic accessories,15.28,5,3.82,80.22,3/8/2019,10:29,Cash,76.4,4.761904762,3.82,9.6',\n",
              " '631-41-3108,A,Yangon,Normal,Male,Home and lifestyle,46.33,7,16.2155,340.5255,3/3/2019,13:23,Credit card,324.31,4.761904762,16.2155,7.4',\n",
              " '123-19-1176,A,Yangon,Member,Male,Health and beauty,58.22,8,23.288,489.048,1/27/2019,20:33,Ewallet,465.76,4.761904762,23.288,8.4']"
            ]
          },
          "metadata": {},
          "execution_count": 59
        }
      ]
    },
    {
      "cell_type": "code",
      "source": [
        "sales_RDD2.take(5)"
      ],
      "metadata": {
        "colab": {
          "base_uri": "https://localhost:8080/"
        },
        "id": "RgRuT9P0jmrW",
        "outputId": "680721d8-a02a-49ab-a004-6e2be7b65836"
      },
      "execution_count": 60,
      "outputs": [
        {
          "output_type": "execute_result",
          "data": {
            "text/plain": [
              "[Row(value='Invoice ID,Branch,City,Customer type,Gender,Product line,Unit price,Quantity,Tax 5%,Total,Date,Time,Payment,cogs,gross margin percentage,gross income,Rating'),\n",
              " Row(value='750-67-8428,A,Yangon,Member,Female,Health and beauty,74.69,7,26.1415,548.9715,1/5/2019,13:08,Ewallet,522.83,4.761904762,26.1415,9.1'),\n",
              " Row(value='226-31-3081,C,Naypyitaw,Normal,Female,Electronic accessories,15.28,5,3.82,80.22,3/8/2019,10:29,Cash,76.4,4.761904762,3.82,9.6'),\n",
              " Row(value='631-41-3108,A,Yangon,Normal,Male,Home and lifestyle,46.33,7,16.2155,340.5255,3/3/2019,13:23,Credit card,324.31,4.761904762,16.2155,7.4'),\n",
              " Row(value='123-19-1176,A,Yangon,Member,Male,Health and beauty,58.22,8,23.288,489.048,1/27/2019,20:33,Ewallet,465.76,4.761904762,23.288,8.4')]"
            ]
          },
          "metadata": {},
          "execution_count": 60
        }
      ]
    },
    {
      "cell_type": "code",
      "source": [
        "# Delete the first, header row\n",
        "#\n",
        "!sed '1d' SuperMarketSales.csv > SuperMarketSales_NoHeader.csv\n",
        "sales_RDD1 = sc.textFile(\"SuperMarketSales_NoHeader.csv\")\n",
        "sales_RDD2 = spark39.read.text(\"SuperMarketSales_NoHeader.csv\").rdd\n",
        "sales_RDD1.take(5)\n",
        "#sales_RDD2.take(5)"
      ],
      "metadata": {
        "colab": {
          "base_uri": "https://localhost:8080/"
        },
        "id": "kChJmqcbkLqL",
        "outputId": "da15961b-23c0-465b-9625-1eaff8786d4e"
      },
      "execution_count": 61,
      "outputs": [
        {
          "output_type": "execute_result",
          "data": {
            "text/plain": [
              "['750-67-8428,A,Yangon,Member,Female,Health and beauty,74.69,7,26.1415,548.9715,1/5/2019,13:08,Ewallet,522.83,4.761904762,26.1415,9.1',\n",
              " '226-31-3081,C,Naypyitaw,Normal,Female,Electronic accessories,15.28,5,3.82,80.22,3/8/2019,10:29,Cash,76.4,4.761904762,3.82,9.6',\n",
              " '631-41-3108,A,Yangon,Normal,Male,Home and lifestyle,46.33,7,16.2155,340.5255,3/3/2019,13:23,Credit card,324.31,4.761904762,16.2155,7.4',\n",
              " '123-19-1176,A,Yangon,Member,Male,Health and beauty,58.22,8,23.288,489.048,1/27/2019,20:33,Ewallet,465.76,4.761904762,23.288,8.4',\n",
              " '373-73-7910,A,Yangon,Normal,Male,Sports and travel,86.31,7,30.2085,634.3785,2/8/2019,10:37,Ewallet,604.17,4.761904762,30.2085,5.3']"
            ]
          },
          "metadata": {},
          "execution_count": 61
        }
      ]
    },
    {
      "cell_type": "code",
      "source": [
        "sales_RDD2.take(5)"
      ],
      "metadata": {
        "id": "StCoKYLS8DRB",
        "outputId": "c5d8b70d-6be6-42ad-d140-52dce75852b1",
        "colab": {
          "base_uri": "https://localhost:8080/"
        }
      },
      "execution_count": 62,
      "outputs": [
        {
          "output_type": "execute_result",
          "data": {
            "text/plain": [
              "[Row(value='750-67-8428,A,Yangon,Member,Female,Health and beauty,74.69,7,26.1415,548.9715,1/5/2019,13:08,Ewallet,522.83,4.761904762,26.1415,9.1'),\n",
              " Row(value='226-31-3081,C,Naypyitaw,Normal,Female,Electronic accessories,15.28,5,3.82,80.22,3/8/2019,10:29,Cash,76.4,4.761904762,3.82,9.6'),\n",
              " Row(value='631-41-3108,A,Yangon,Normal,Male,Home and lifestyle,46.33,7,16.2155,340.5255,3/3/2019,13:23,Credit card,324.31,4.761904762,16.2155,7.4'),\n",
              " Row(value='123-19-1176,A,Yangon,Member,Male,Health and beauty,58.22,8,23.288,489.048,1/27/2019,20:33,Ewallet,465.76,4.761904762,23.288,8.4'),\n",
              " Row(value='373-73-7910,A,Yangon,Normal,Male,Sports and travel,86.31,7,30.2085,634.3785,2/8/2019,10:37,Ewallet,604.17,4.761904762,30.2085,5.3')]"
            ]
          },
          "metadata": {},
          "execution_count": 62
        }
      ]
    },
    {
      "cell_type": "markdown",
      "source": [
        "### Data Analysis with RDD"
      ],
      "metadata": {
        "id": "70L1yVjFHmiy"
      }
    },
    {
      "cell_type": "code",
      "source": [
        "sales_RDD1.count()"
      ],
      "metadata": {
        "colab": {
          "base_uri": "https://localhost:8080/"
        },
        "id": "kuLB_bdpH1jA",
        "outputId": "63dd4b68-07d2-4205-d33e-bac345f589e2"
      },
      "execution_count": 63,
      "outputs": [
        {
          "output_type": "execute_result",
          "data": {
            "text/plain": [
              "1000"
            ]
          },
          "metadata": {},
          "execution_count": 63
        }
      ]
    },
    {
      "cell_type": "markdown",
      "source": [
        "#### Filter Data"
      ],
      "metadata": {
        "id": "x4T1AaK2U16R"
      }
    },
    {
      "cell_type": "code",
      "source": [
        "# Filter, or segregate the data\n",
        "#\n",
        "sales_wallet = sales_RDD1.filter(lambda x: \",Ewallet,\" in x)\n",
        "sales_cash = sales_RDD1.filter(lambda x: \",Cash,\" in x)\n",
        "sales_card = sales_RDD1.filter(lambda x: \",Credit card,\" in x)\n",
        "#\n",
        "wallet_count = sales_wallet.count()\n",
        "cash_count = sales_cash.count()\n",
        "card_count = sales_card.count()\n",
        "print(wallet_count, cash_count, card_count)"
      ],
      "metadata": {
        "colab": {
          "base_uri": "https://localhost:8080/"
        },
        "id": "tfPe0qulIKrT",
        "outputId": "784cf357-d206-40a4-bd49-4501680b73b2"
      },
      "execution_count": 64,
      "outputs": [
        {
          "output_type": "stream",
          "name": "stdout",
          "text": [
            "345 344 311\n"
          ]
        }
      ]
    },
    {
      "cell_type": "markdown",
      "source": [
        "#### Set Operations"
      ],
      "metadata": {
        "id": "uHnKNX3QD-l5"
      }
    },
    {
      "cell_type": "code",
      "source": [
        "# Another way to segregate the data\n",
        "#\n",
        "sales_wallet = sales_RDD1.filter(lambda x: \",Ewallet,\" in x)\n",
        "wallet_count = sales_wallet.count()\n",
        "#\n",
        "sales_non_wallet = sales_RDD1.subtract(sales_wallet)\n",
        "non_wallet_count = sales_non_wallet.count()\n",
        "print(wallet_count, non_wallet_count)"
      ],
      "metadata": {
        "id": "savYQIUYEHtA",
        "outputId": "4fef4d23-756e-40ad-fa68-e157dfb5e35f",
        "colab": {
          "base_uri": "https://localhost:8080/"
        }
      },
      "execution_count": 65,
      "outputs": [
        {
          "output_type": "stream",
          "name": "stdout",
          "text": [
            "345 655\n"
          ]
        }
      ]
    },
    {
      "cell_type": "code",
      "source": [
        "# Get Unique Values\n",
        "#\n",
        "sales_RDD_csv = sales_RDD1.map(lambda x: x.split(\",\"))\n",
        "cities = sales_RDD_csv.map(lambda x: x[2]).distinct()\n",
        "cities.collect()"
      ],
      "metadata": {
        "id": "Jf9_sF0CFjDj",
        "outputId": "0295a96d-d475-4836-82d9-37f7c3e1d195",
        "colab": {
          "base_uri": "https://localhost:8080/"
        }
      },
      "execution_count": 66,
      "outputs": [
        {
          "output_type": "execute_result",
          "data": {
            "text/plain": [
              "['Naypyitaw', 'Yangon', 'Mandalay']"
            ]
          },
          "metadata": {},
          "execution_count": 66
        }
      ]
    },
    {
      "cell_type": "code",
      "source": [
        "sales_RDD_csv = sales_RDD1.map(lambda x: x.split(\",\"))\n",
        "product_lines = sales_RDD_csv.map(lambda x: x[5]).distinct()\n",
        "product_lines.collect()"
      ],
      "metadata": {
        "id": "xNy5y1w4Gcst",
        "outputId": "8544223b-410e-4ade-d75c-e5c26cf3acd8",
        "colab": {
          "base_uri": "https://localhost:8080/"
        }
      },
      "execution_count": 67,
      "outputs": [
        {
          "output_type": "execute_result",
          "data": {
            "text/plain": [
              "['Health and beauty',\n",
              " 'Home and lifestyle',\n",
              " 'Electronic accessories',\n",
              " 'Sports and travel',\n",
              " 'Food and beverages',\n",
              " 'Fashion accessories']"
            ]
          },
          "metadata": {},
          "execution_count": 67
        }
      ]
    },
    {
      "cell_type": "markdown",
      "source": [
        "#### Aggregation\n",
        "Calculating Count, Sum, Average etc"
      ],
      "metadata": {
        "id": "yaYd9j4RU8Ks"
      }
    },
    {
      "cell_type": "code",
      "source": [
        "# Element 7 in the dataset is Quantity\n",
        "# Convert str to int\n",
        "#\n",
        "def x4m1(text):\n",
        "    elements = text.split(\",\")\n",
        "    return(int(elements[7]))"
      ],
      "metadata": {
        "id": "Lj16h_igVDO8"
      },
      "execution_count": 68,
      "outputs": []
    },
    {
      "cell_type": "code",
      "source": [
        "sales_wallet_Qty = sales_wallet.map(lambda x: x4m1(x))\n",
        "sales_wallet_Qty.take(3)"
      ],
      "metadata": {
        "colab": {
          "base_uri": "https://localhost:8080/"
        },
        "id": "XaNIZo5KWD_i",
        "outputId": "506058bb-136b-4254-b23c-4abdbfc72d23"
      },
      "execution_count": 69,
      "outputs": [
        {
          "output_type": "execute_result",
          "data": {
            "text/plain": [
              "[7, 8, 7]"
            ]
          },
          "metadata": {},
          "execution_count": 69
        }
      ]
    },
    {
      "cell_type": "code",
      "source": [
        "wallet_total_Qty = sales_wallet_Qty.reduce(lambda x,y : x+y)\n",
        "print('wallet total quantity = ',wallet_total_Qty, '\\nwallet average quantity =', wallet_total_Qty/wallet_count)"
      ],
      "metadata": {
        "colab": {
          "base_uri": "https://localhost:8080/"
        },
        "id": "cn12QeWdXE-7",
        "outputId": "81d27d7d-3311-45af-8fcc-714f88080225"
      },
      "execution_count": 70,
      "outputs": [
        {
          "output_type": "stream",
          "name": "stdout",
          "text": [
            "wallet total quantity =  1892 \n",
            "wallet average quantity = 5.484057971014493\n"
          ]
        }
      ]
    },
    {
      "cell_type": "markdown",
      "source": [
        "#### Accumulators\n",
        "Reduce the number of passes through the data"
      ],
      "metadata": {
        "id": "YmmDtntbfWiu"
      }
    },
    {
      "cell_type": "code",
      "source": [
        "wallet_data = sales_wallet_Qty.aggregate(\n",
        "    (0,0), # the initial value\n",
        "    (lambda acc, value: (acc[0] + value, acc[1] + 1)), # combine value with acc\n",
        "    (lambda acc1, acc2: (acc1[0] + acc2[0], acc1[1] + acc2[1])) # combine accumulators\n",
        "    )\n",
        "\n",
        "print(wallet_data[0],wallet_data[1], '\\nWallet Quantity Average = ', wallet_data[0]/wallet_data[1])"
      ],
      "metadata": {
        "colab": {
          "base_uri": "https://localhost:8080/"
        },
        "id": "zCI145B9fqJg",
        "outputId": "ec347ae7-3a4c-493b-e4df-ab2c092b3075"
      },
      "execution_count": 71,
      "outputs": [
        {
          "output_type": "stream",
          "name": "stdout",
          "text": [
            "1892 345 \n",
            "Wallet Quantity Average =  5.484057971014493\n"
          ]
        }
      ]
    },
    {
      "cell_type": "markdown",
      "source": [
        "#### Two aggregations"
      ],
      "metadata": {
        "id": "TWDgDNdpgraX"
      }
    },
    {
      "cell_type": "code",
      "source": [
        "# Element 7 in the dataset is Quantity\n",
        "# Element 15 is Gross Income\n",
        "#\n",
        "def x4m2(text):\n",
        "    elements = text.split(\",\")\n",
        "    return(int(elements[7]), float(elements[15]))"
      ],
      "metadata": {
        "id": "FKj5CVUJaBAO"
      },
      "execution_count": 72,
      "outputs": []
    },
    {
      "cell_type": "code",
      "source": [
        "sales_wallet_Qty_Inc = sales_wallet.map(lambda x: x4m2(x))\n",
        "sales_wallet_Qty_Inc.take(3)"
      ],
      "metadata": {
        "colab": {
          "base_uri": "https://localhost:8080/"
        },
        "id": "cpyErMW1aJLO",
        "outputId": "bbcbe67a-1f40-42d0-ea49-0726681fb844"
      },
      "execution_count": 73,
      "outputs": [
        {
          "output_type": "execute_result",
          "data": {
            "text/plain": [
              "[(7, 26.1415), (8, 23.288), (7, 30.2085)]"
            ]
          },
          "metadata": {},
          "execution_count": 73
        }
      ]
    },
    {
      "cell_type": "code",
      "source": [
        "wallet_data = sales_wallet_Qty_Inc.aggregate(\n",
        "    (0,0,0), # the initial value\n",
        "    (lambda acc, value: (acc[0] + value[0], acc[1] + value[1], acc[2] + 1)), # combine value with acc\n",
        "    (lambda acc1, acc2 : (acc1[0] + acc2[0], acc1[1] + acc2[1], acc1[2] + acc2[2])) # combine accumulators\n",
        "    )\n",
        "\n",
        "print(wallet_data[0],wallet_data[1],wallet_data[2])\n",
        "print('Wallet Quantity Average = ', wallet_data[0]/wallet_data[2],'\\nWallet Gross Income Average = ', wallet_data[1]/wallet_data[2])"
      ],
      "metadata": {
        "colab": {
          "base_uri": "https://localhost:8080/"
        },
        "id": "WPhYIjSEkFid",
        "outputId": "d52e13e8-36b4-4024-a431-a38166566eb1"
      },
      "execution_count": 74,
      "outputs": [
        {
          "output_type": "stream",
          "name": "stdout",
          "text": [
            "1892 5237.767 345\n",
            "Wallet Quantity Average =  5.484057971014493 \n",
            "Wallet Gross Income Average =  15.181933333333333\n"
          ]
        }
      ]
    },
    {
      "cell_type": "markdown",
      "source": [
        "#### Chained Operations\n",
        "Eliminate intermediate RDD creation"
      ],
      "metadata": {
        "id": "MopQ4QxuBFov"
      }
    },
    {
      "cell_type": "code",
      "source": [
        "wallet_data = sc.textFile(\"SuperMarketSales_NoHeader.csv\").\\\n",
        "    filter(lambda x: \",Ewallet,\" in x).\\\n",
        "    map(lambda x: x4m2(x)).\\\n",
        "    aggregate(                                                                      # Perform Aggregation on multiple fields\n",
        "    (0,0,0),                                                                        # the initial value\n",
        "    (lambda acc, value: (acc[0] + value[0], acc[1] + value[1], acc[2] + 1)),        # combine value with acc\n",
        "    (lambda acc1, acc2 : (acc1[0] + acc2[0], acc1[1] + acc2[1], acc1[2] + acc2[2])) # combine accumulators\n",
        "    )\n",
        "\n",
        "print(wallet_data[0],wallet_data[1],wallet_data[2])\n",
        "print('Wallet Quantity Average = ', wallet_data[0]/wallet_data[2],'\\nWallet Gross Income Average = ', wallet_data[1]/wallet_data[2])"
      ],
      "metadata": {
        "id": "xSpsEgLZBNyU",
        "outputId": "ba9f38a0-6c8e-46ff-da5e-0f7519faffa3",
        "colab": {
          "base_uri": "https://localhost:8080/"
        }
      },
      "execution_count": 75,
      "outputs": [
        {
          "output_type": "stream",
          "name": "stdout",
          "text": [
            "1892 5237.767 345\n",
            "Wallet Quantity Average =  5.484057971014493 \n",
            "Wallet Gross Income Average =  15.181933333333333\n"
          ]
        }
      ]
    },
    {
      "cell_type": "markdown",
      "source": [
        "### Convert RDD to Spark DataFrame"
      ],
      "metadata": {
        "id": "bzNLlQGSl2XN"
      }
    },
    {
      "cell_type": "code",
      "source": [
        "# Split data on , and convert string to other datatypes\n",
        "#\n",
        "#sales_RDD1_split1 = sales_RDD1.map(lambda l: l.split(\",\"))\n",
        "#sales_RDD1_split1.take(1)\n",
        "#sales_RDD1_split2 = sales_RDD1_split1.map(lambda l: [l[0],l[1],l[2],l[3],l[4],l[5],float(l[6]),int(l[7]),float(l[8]),float(l[9]),l[10],l[11],l[12],float(l[13]),float(l[14]),float(l[15]),float(l[16])])\n",
        "#sales_RDD1_split2.take(1)\n",
        "\n",
        "def x4m3(text):\n",
        "    l = text.split(\",\")\n",
        "    return([l[0],l[1],l[2],l[3],l[4],l[5],float(l[6]),int(l[7]),float(l[8]),float(l[9]),l[10],l[11],l[12],float(l[13]),float(l[14]),float(l[15]),float(l[16])])\n",
        "\n",
        "sales_RDD1_split = sales_RDD1.map(lambda x: x4m3(x))\n",
        "#sales_RDD1_split.take(1)"
      ],
      "metadata": {
        "id": "d3Ncb2dl1Q9q"
      },
      "execution_count": 88,
      "outputs": []
    },
    {
      "cell_type": "code",
      "source": [
        "# Convert to dataframe\n",
        "# Date, Time does not convert correctly\n",
        "#\n",
        "colSchema = StructType([\n",
        "    StructField('Invoice ID', StringType(), True),\n",
        "    StructField('Branch', StringType(), True),\n",
        "    StructField('City', StringType(), True),\n",
        "    StructField('Customer Type', StringType(), True),\n",
        "    StructField('Gender', StringType(), True),\n",
        "    StructField('Product Line', StringType(), True),\n",
        "    StructField('Unit Price', FloatType(), True),\n",
        "    StructField('Quantity', IntegerType(), True),\n",
        "    StructField('Tax 5%', DoubleType(), True),\n",
        "    StructField('Total', DoubleType(), True),\n",
        "    StructField('Date', StringType(), True),\n",
        "    StructField('Time', StringType(), True),\n",
        "    StructField('Payment', StringType(), True),\n",
        "    StructField('cogs', DoubleType(), True),\n",
        "    StructField('gross margin percentage', DoubleType(), True),\n",
        "    StructField('gross income', DoubleType(), True),\n",
        "    StructField('Rating', DoubleType(), True)\n",
        "])\n",
        "\n",
        "#sales_df1 = spark39.createDataFrame(data = sales_RDD1_split2, schema = colSchema)\n",
        "sales_df1 = spark39.createDataFrame(data = sales_RDD1_split, schema = colSchema)\n",
        "\n",
        "#sales_df1.printSchema()\n",
        "#sales_df1.show(5)"
      ],
      "metadata": {
        "id": "aY9BFmvroc_l"
      },
      "execution_count": 89,
      "outputs": []
    },
    {
      "cell_type": "code",
      "source": [
        "# Fix Date, Time datatype\n",
        "#\n",
        "#sales_df1 = sales_df1.withColumn('Date',to_date(col('Date'), \"M/d/y\"))\n",
        "#sales_df1 = sales_df1.withColumn('Time',to_timestamp(col('Time'), \"HH:mm\"))\n",
        "\n",
        "sales_df1 = sales_df1.\\\n",
        "    withColumn('Date',to_date(col('Date'), \"M/d/y\")).\\\n",
        "    withColumn('Time',to_timestamp(col('Time'), \"HH:mm\"))\n",
        "\n",
        "#sales_df1 = sales_df1.\n",
        "\n",
        "sales_df1.printSchema()\n",
        "sales_df1.show(5)"
      ],
      "metadata": {
        "id": "Pcw0mGh8g5xY",
        "outputId": "c6a7f9b2-c4f8-4683-d8ec-6310ccb42e5b",
        "colab": {
          "base_uri": "https://localhost:8080/"
        }
      },
      "execution_count": 90,
      "outputs": [
        {
          "output_type": "stream",
          "name": "stdout",
          "text": [
            "root\n",
            " |-- Invoice ID: string (nullable = true)\n",
            " |-- Branch: string (nullable = true)\n",
            " |-- City: string (nullable = true)\n",
            " |-- Customer Type: string (nullable = true)\n",
            " |-- Gender: string (nullable = true)\n",
            " |-- Product Line: string (nullable = true)\n",
            " |-- Unit Price: float (nullable = true)\n",
            " |-- Quantity: integer (nullable = true)\n",
            " |-- Tax 5%: double (nullable = true)\n",
            " |-- Total: double (nullable = true)\n",
            " |-- Date: date (nullable = true)\n",
            " |-- Time: timestamp (nullable = true)\n",
            " |-- Payment: string (nullable = true)\n",
            " |-- cogs: double (nullable = true)\n",
            " |-- gross margin percentage: double (nullable = true)\n",
            " |-- gross income: double (nullable = true)\n",
            " |-- Rating: double (nullable = true)\n",
            "\n",
            "+-----------+------+---------+-------------+------+--------------------+----------+--------+-------+--------+----------+-------------------+-----------+------+-----------------------+------------+------+\n",
            "| Invoice ID|Branch|     City|Customer Type|Gender|        Product Line|Unit Price|Quantity| Tax 5%|   Total|      Date|               Time|    Payment|  cogs|gross margin percentage|gross income|Rating|\n",
            "+-----------+------+---------+-------------+------+--------------------+----------+--------+-------+--------+----------+-------------------+-----------+------+-----------------------+------------+------+\n",
            "|750-67-8428|     A|   Yangon|       Member|Female|   Health and beauty|     74.69|       7|26.1415|548.9715|2019-01-05|1970-01-01 13:08:00|    Ewallet|522.83|            4.761904762|     26.1415|   9.1|\n",
            "|226-31-3081|     C|Naypyitaw|       Normal|Female|Electronic access...|     15.28|       5|   3.82|   80.22|2019-03-08|1970-01-01 10:29:00|       Cash|  76.4|            4.761904762|        3.82|   9.6|\n",
            "|631-41-3108|     A|   Yangon|       Normal|  Male|  Home and lifestyle|     46.33|       7|16.2155|340.5255|2019-03-03|1970-01-01 13:23:00|Credit card|324.31|            4.761904762|     16.2155|   7.4|\n",
            "|123-19-1176|     A|   Yangon|       Member|  Male|   Health and beauty|     58.22|       8| 23.288| 489.048|2019-01-27|1970-01-01 20:33:00|    Ewallet|465.76|            4.761904762|      23.288|   8.4|\n",
            "|373-73-7910|     A|   Yangon|       Normal|  Male|   Sports and travel|     86.31|       7|30.2085|634.3785|2019-02-08|1970-01-01 10:37:00|    Ewallet|604.17|            4.761904762|     30.2085|   5.3|\n",
            "+-----------+------+---------+-------------+------+--------------------+----------+--------+-------+--------+----------+-------------------+-----------+------+-----------------------+------------+------+\n",
            "only showing top 5 rows\n",
            "\n"
          ]
        }
      ]
    },
    {
      "cell_type": "markdown",
      "source": [
        "## Dataframe Operations"
      ],
      "metadata": {
        "id": "pFfrwyqBhULk"
      }
    },
    {
      "cell_type": "markdown",
      "source": [
        "### Read CSV into Spark Dataframe"
      ],
      "metadata": {
        "id": "1LGAoj2Yoxva"
      }
    },
    {
      "cell_type": "code",
      "source": [
        "sales_df2 = spark39.read.format(\"csv\").option(\"header\", \"true\").option(\"inferSchema\", \"true\").load(\"./SuperMarketSales.csv\")\n",
        "#sales_df2.printSchema()\n",
        "#sales_df2.show(5)"
      ],
      "metadata": {
        "id": "hHD1IOKfo0im"
      },
      "execution_count": 79,
      "outputs": []
    },
    {
      "cell_type": "code",
      "source": [
        "sales_df2 = sales_df2.withColumn('Date',to_date(col('Date'), \"M/d/y\"))\n",
        "sales_df2.printSchema()\n",
        "sales_df2.show(5)"
      ],
      "metadata": {
        "id": "LbinD7CNnX9A",
        "outputId": "742da3a4-fd25-44e5-f4f2-09966c1c7e90",
        "colab": {
          "base_uri": "https://localhost:8080/"
        }
      },
      "execution_count": 80,
      "outputs": [
        {
          "output_type": "stream",
          "name": "stdout",
          "text": [
            "root\n",
            " |-- Invoice ID: string (nullable = true)\n",
            " |-- Branch: string (nullable = true)\n",
            " |-- City: string (nullable = true)\n",
            " |-- Customer type: string (nullable = true)\n",
            " |-- Gender: string (nullable = true)\n",
            " |-- Product line: string (nullable = true)\n",
            " |-- Unit price: double (nullable = true)\n",
            " |-- Quantity: integer (nullable = true)\n",
            " |-- Tax 5%: double (nullable = true)\n",
            " |-- Total: double (nullable = true)\n",
            " |-- Date: date (nullable = true)\n",
            " |-- Time: timestamp (nullable = true)\n",
            " |-- Payment: string (nullable = true)\n",
            " |-- cogs: double (nullable = true)\n",
            " |-- gross margin percentage: double (nullable = true)\n",
            " |-- gross income: double (nullable = true)\n",
            " |-- Rating: double (nullable = true)\n",
            "\n",
            "+-----------+------+---------+-------------+------+--------------------+----------+--------+-------+--------+----------+-------------------+-----------+------+-----------------------+------------+------+\n",
            "| Invoice ID|Branch|     City|Customer type|Gender|        Product line|Unit price|Quantity| Tax 5%|   Total|      Date|               Time|    Payment|  cogs|gross margin percentage|gross income|Rating|\n",
            "+-----------+------+---------+-------------+------+--------------------+----------+--------+-------+--------+----------+-------------------+-----------+------+-----------------------+------------+------+\n",
            "|750-67-8428|     A|   Yangon|       Member|Female|   Health and beauty|     74.69|       7|26.1415|548.9715|2019-01-05|2024-01-19 13:08:00|    Ewallet|522.83|            4.761904762|     26.1415|   9.1|\n",
            "|226-31-3081|     C|Naypyitaw|       Normal|Female|Electronic access...|     15.28|       5|   3.82|   80.22|2019-03-08|2024-01-19 10:29:00|       Cash|  76.4|            4.761904762|        3.82|   9.6|\n",
            "|631-41-3108|     A|   Yangon|       Normal|  Male|  Home and lifestyle|     46.33|       7|16.2155|340.5255|2019-03-03|2024-01-19 13:23:00|Credit card|324.31|            4.761904762|     16.2155|   7.4|\n",
            "|123-19-1176|     A|   Yangon|       Member|  Male|   Health and beauty|     58.22|       8| 23.288| 489.048|2019-01-27|2024-01-19 20:33:00|    Ewallet|465.76|            4.761904762|      23.288|   8.4|\n",
            "|373-73-7910|     A|   Yangon|       Normal|  Male|   Sports and travel|     86.31|       7|30.2085|634.3785|2019-02-08|2024-01-19 10:37:00|    Ewallet|604.17|            4.761904762|     30.2085|   5.3|\n",
            "+-----------+------+---------+-------------+------+--------------------+----------+--------+-------+--------+----------+-------------------+-----------+------+-----------------------+------------+------+\n",
            "only showing top 5 rows\n",
            "\n"
          ]
        }
      ]
    },
    {
      "cell_type": "markdown",
      "source": [
        "### Display a subset of columns"
      ],
      "metadata": {
        "id": "3hVL_rkzX2x8"
      }
    },
    {
      "cell_type": "code",
      "source": [
        "# All three works\n",
        "#\n",
        "#sales_df2.select(sales_df2['Invoice ID'], sales_df2['gross income'],sales_df2['City'],sales_df2['Payment']).show(truncate=False)\n",
        "#sales_df2.select(['Invoice ID','gross income','City','Payment']).show(truncate=False)\n",
        "sales_df2['Invoice ID','gross income','City','Payment'].show(truncate=False)"
      ],
      "metadata": {
        "id": "O7XlvwM7X8MF",
        "outputId": "bc705fa4-a938-4684-ecfd-14df477040d7",
        "colab": {
          "base_uri": "https://localhost:8080/"
        }
      },
      "execution_count": 106,
      "outputs": [
        {
          "output_type": "stream",
          "name": "stdout",
          "text": [
            "+-----------+------------+---------+-----------+\n",
            "|Invoice ID |gross income|City     |Payment    |\n",
            "+-----------+------------+---------+-----------+\n",
            "|750-67-8428|26.1415     |Yangon   |Ewallet    |\n",
            "|226-31-3081|3.82        |Naypyitaw|Cash       |\n",
            "|631-41-3108|16.2155     |Yangon   |Credit card|\n",
            "|123-19-1176|23.288      |Yangon   |Ewallet    |\n",
            "|373-73-7910|30.2085     |Yangon   |Ewallet    |\n",
            "|699-14-3026|29.8865     |Naypyitaw|Ewallet    |\n",
            "|355-53-5943|20.652      |Yangon   |Ewallet    |\n",
            "|315-22-5665|36.78       |Naypyitaw|Ewallet    |\n",
            "|665-32-9167|3.626       |Yangon   |Credit card|\n",
            "|692-92-5582|8.226       |Mandalay |Credit card|\n",
            "|351-62-0822|2.896       |Mandalay |Ewallet    |\n",
            "|529-56-3974|5.102       |Mandalay |Cash       |\n",
            "|365-64-0515|11.7375     |Yangon   |Ewallet    |\n",
            "|252-56-2699|21.595      |Yangon   |Ewallet    |\n",
            "|829-34-3910|35.69       |Yangon   |Cash       |\n",
            "|299-46-1805|28.116      |Mandalay |Cash       |\n",
            "|656-95-9349|24.1255     |Yangon   |Credit card|\n",
            "|765-26-6951|21.783      |Yangon   |Credit card|\n",
            "|329-62-1586|8.2005      |Yangon   |Credit card|\n",
            "|319-50-3348|4.03        |Mandalay |Ewallet    |\n",
            "+-----------+------------+---------+-----------+\n",
            "only showing top 20 rows\n",
            "\n"
          ]
        }
      ]
    },
    {
      "cell_type": "markdown",
      "source": [
        "### Display a subset of rows"
      ],
      "metadata": {
        "id": "amKo5V-9be3c"
      }
    },
    {
      "cell_type": "code",
      "source": [
        "sales_df2['Invoice ID','gross income','City','Payment'][sales_df2['City'] == 'Yangon'].show(truncate=False)"
      ],
      "metadata": {
        "id": "7Ywj76doa0ch",
        "outputId": "3aa1acc7-e915-44fb-824a-5480bf733c45",
        "colab": {
          "base_uri": "https://localhost:8080/"
        }
      },
      "execution_count": 107,
      "outputs": [
        {
          "output_type": "stream",
          "name": "stdout",
          "text": [
            "+-----------+------------+------+-----------+\n",
            "|Invoice ID |gross income|City  |Payment    |\n",
            "+-----------+------------+------+-----------+\n",
            "|750-67-8428|26.1415     |Yangon|Ewallet    |\n",
            "|631-41-3108|16.2155     |Yangon|Credit card|\n",
            "|123-19-1176|23.288      |Yangon|Ewallet    |\n",
            "|373-73-7910|30.2085     |Yangon|Ewallet    |\n",
            "|355-53-5943|20.652      |Yangon|Ewallet    |\n",
            "|665-32-9167|3.626       |Yangon|Credit card|\n",
            "|365-64-0515|11.7375     |Yangon|Ewallet    |\n",
            "|252-56-2699|21.595      |Yangon|Ewallet    |\n",
            "|829-34-3910|35.69       |Yangon|Cash       |\n",
            "|656-95-9349|24.1255     |Yangon|Credit card|\n",
            "|765-26-6951|21.783      |Yangon|Credit card|\n",
            "|329-62-1586|8.2005      |Yangon|Credit card|\n",
            "|636-48-8204|8.64        |Yangon|Ewallet    |\n",
            "|549-59-1358|13.2945     |Yangon|Ewallet    |\n",
            "|227-03-5010|21.036      |Yangon|Credit card|\n",
            "|189-17-4241|8.767       |Yangon|Credit card|\n",
            "|848-62-7243|11.2005     |Yangon|Cash       |\n",
            "|595-11-5460|9.658       |Yangon|Credit card|\n",
            "|129-29-8530|15.655      |Yangon|Ewallet    |\n",
            "|272-65-1806|27.396      |Yangon|Ewallet    |\n",
            "+-----------+------------+------+-----------+\n",
            "only showing top 20 rows\n",
            "\n"
          ]
        }
      ]
    },
    {
      "cell_type": "markdown",
      "source": [
        "#### AND | OR"
      ],
      "metadata": {
        "id": "xCJfCMi7cHBE"
      }
    },
    {
      "cell_type": "code",
      "source": [
        "sales_df2['Invoice ID','gross income','City','Payment'][(sales_df2['City'] == 'Yangon') & (sales_df2['Payment'] == 'Ewallet')].\\\n",
        "    show(truncate=False)"
      ],
      "metadata": {
        "id": "gGoaH9pJbwMC",
        "outputId": "73d79196-3895-40bd-f731-215da0e4df6a",
        "colab": {
          "base_uri": "https://localhost:8080/"
        }
      },
      "execution_count": 112,
      "outputs": [
        {
          "output_type": "stream",
          "name": "stdout",
          "text": [
            "+-----------+------------+------+-------+\n",
            "|Invoice ID |gross income|City  |Payment|\n",
            "+-----------+------------+------+-------+\n",
            "|750-67-8428|26.1415     |Yangon|Ewallet|\n",
            "|123-19-1176|23.288      |Yangon|Ewallet|\n",
            "|373-73-7910|30.2085     |Yangon|Ewallet|\n",
            "|355-53-5943|20.652      |Yangon|Ewallet|\n",
            "|365-64-0515|11.7375     |Yangon|Ewallet|\n",
            "|252-56-2699|21.595      |Yangon|Ewallet|\n",
            "|636-48-8204|8.64        |Yangon|Ewallet|\n",
            "|549-59-1358|13.2945     |Yangon|Ewallet|\n",
            "|129-29-8530|15.655      |Yangon|Ewallet|\n",
            "|272-65-1806|27.396      |Yangon|Ewallet|\n",
            "|635-40-6220|35.84       |Yangon|Ewallet|\n",
            "|287-21-9091|33.6015     |Yangon|Ewallet|\n",
            "|873-51-0671|7.693       |Yangon|Ewallet|\n",
            "|594-34-4444|4.858       |Yangon|Ewallet|\n",
            "|865-92-6136|7.9125      |Yangon|Ewallet|\n",
            "|704-48-3927|44.335      |Yangon|Ewallet|\n",
            "|645-44-1170|26.1315     |Yangon|Ewallet|\n",
            "|642-32-2990|5.48        |Yangon|Ewallet|\n",
            "|575-30-8091|29.0        |Yangon|Ewallet|\n",
            "|239-10-7476|23.385      |Yangon|Ewallet|\n",
            "+-----------+------------+------+-------+\n",
            "only showing top 20 rows\n",
            "\n"
          ]
        }
      ]
    },
    {
      "cell_type": "code",
      "source": [
        "sales_df2['Invoice ID','gross income','City','Payment'][(sales_df2['City'] == 'Yangon') | (sales_df2['Payment'] == 'Ewallet')].\\\n",
        "    show(truncate=False)"
      ],
      "metadata": {
        "id": "aX938XJecQ8Z",
        "outputId": "9862892e-d5be-4f43-89b0-6188d8b51d7c",
        "colab": {
          "base_uri": "https://localhost:8080/"
        }
      },
      "execution_count": 111,
      "outputs": [
        {
          "output_type": "stream",
          "name": "stdout",
          "text": [
            "+-----------+------------+---------+-----------+\n",
            "|Invoice ID |gross income|City     |Payment    |\n",
            "+-----------+------------+---------+-----------+\n",
            "|750-67-8428|26.1415     |Yangon   |Ewallet    |\n",
            "|631-41-3108|16.2155     |Yangon   |Credit card|\n",
            "|123-19-1176|23.288      |Yangon   |Ewallet    |\n",
            "|373-73-7910|30.2085     |Yangon   |Ewallet    |\n",
            "|699-14-3026|29.8865     |Naypyitaw|Ewallet    |\n",
            "|355-53-5943|20.652      |Yangon   |Ewallet    |\n",
            "|315-22-5665|36.78       |Naypyitaw|Ewallet    |\n",
            "|665-32-9167|3.626       |Yangon   |Credit card|\n",
            "|351-62-0822|2.896       |Mandalay |Ewallet    |\n",
            "|365-64-0515|11.7375     |Yangon   |Ewallet    |\n",
            "|252-56-2699|21.595      |Yangon   |Ewallet    |\n",
            "|829-34-3910|35.69       |Yangon   |Cash       |\n",
            "|656-95-9349|24.1255     |Yangon   |Credit card|\n",
            "|765-26-6951|21.783      |Yangon   |Credit card|\n",
            "|329-62-1586|8.2005      |Yangon   |Credit card|\n",
            "|319-50-3348|4.03        |Mandalay |Ewallet    |\n",
            "|300-71-4605|21.51       |Naypyitaw|Ewallet    |\n",
            "|371-85-5789|13.197      |Mandalay |Ewallet    |\n",
            "|636-48-8204|8.64        |Yangon   |Ewallet    |\n",
            "|549-59-1358|13.2945     |Yangon   |Ewallet    |\n",
            "+-----------+------------+---------+-----------+\n",
            "only showing top 20 rows\n",
            "\n"
          ]
        }
      ]
    },
    {
      "cell_type": "markdown",
      "source": [
        "### Aggregation | Group By"
      ],
      "metadata": {
        "id": "EANBWvIsdfx6"
      }
    },
    {
      "cell_type": "code",
      "source": [
        "sales_df2.groupBy('Payment','City').count().show()"
      ],
      "metadata": {
        "id": "-gmb9b7Ud3zr",
        "outputId": "dd976a2c-d6e9-4b94-8012-66f8be4d2568",
        "colab": {
          "base_uri": "https://localhost:8080/"
        }
      },
      "execution_count": 115,
      "outputs": [
        {
          "output_type": "stream",
          "name": "stdout",
          "text": [
            "+-----------+---------+-----+\n",
            "|    Payment|     City|count|\n",
            "+-----------+---------+-----+\n",
            "|Credit card| Mandalay|  109|\n",
            "|Credit card|Naypyitaw|   98|\n",
            "|       Cash|Naypyitaw|  124|\n",
            "|       Cash|   Yangon|  110|\n",
            "|    Ewallet| Mandalay|  113|\n",
            "|Credit card|   Yangon|  104|\n",
            "|    Ewallet|Naypyitaw|  106|\n",
            "|       Cash| Mandalay|  110|\n",
            "|    Ewallet|   Yangon|  126|\n",
            "+-----------+---------+-----+\n",
            "\n"
          ]
        }
      ]
    },
    {
      "cell_type": "code",
      "source": [
        "sales_df2['Payment','City','Quantity'].groupBy('Payment','City').sum().show()"
      ],
      "metadata": {
        "id": "iQimyGcseeT7",
        "outputId": "e4853e9b-b9c1-465c-cdd9-9bff3d5005b4",
        "colab": {
          "base_uri": "https://localhost:8080/"
        }
      },
      "execution_count": 120,
      "outputs": [
        {
          "output_type": "stream",
          "name": "stdout",
          "text": [
            "+-----------+---------+-------------+\n",
            "|    Payment|     City|sum(Quantity)|\n",
            "+-----------+---------+-------------+\n",
            "|Credit card| Mandalay|          599|\n",
            "|Credit card|Naypyitaw|          543|\n",
            "|       Cash|Naypyitaw|          696|\n",
            "|       Cash|   Yangon|          572|\n",
            "|    Ewallet| Mandalay|          593|\n",
            "|Credit card|   Yangon|          580|\n",
            "|    Ewallet|Naypyitaw|          592|\n",
            "|       Cash| Mandalay|          628|\n",
            "|    Ewallet|   Yangon|          707|\n",
            "+-----------+---------+-------------+\n",
            "\n"
          ]
        }
      ]
    },
    {
      "cell_type": "code",
      "source": [
        "sales_df2['Payment','Quantity','gross income'].groupBy('Payment').mean().show()"
      ],
      "metadata": {
        "id": "25NYm6umgSZY",
        "outputId": "a283d5d8-7c5f-4766-8219-389f0641b2ab",
        "colab": {
          "base_uri": "https://localhost:8080/"
        }
      },
      "execution_count": 122,
      "outputs": [
        {
          "output_type": "stream",
          "name": "stdout",
          "text": [
            "+-----------+-----------------+------------------+\n",
            "|    Payment|    avg(Quantity)| avg(gross income)|\n",
            "+-----------+-----------------+------------------+\n",
            "|    Ewallet|5.484057971014493|15.181933333333335|\n",
            "|       Cash|5.511627906976744|15.532470930232577|\n",
            "|Credit card|5.536977491961415| 15.42904180064309|\n",
            "+-----------+-----------------+------------------+\n",
            "\n"
          ]
        }
      ]
    },
    {
      "cell_type": "code",
      "source": [
        "groupBy51 = ['Payment']\n",
        "aggregate51 = ['gross income','Quantity']\n",
        "#funs = [mean, sum, max]\n",
        "funs = [count,mean, sum]\n",
        "\n",
        "exprs51 = [f(col(c)) for f in funs for c in aggregate51]\n",
        "\n",
        "sales_df2['Payment','Quantity','gross income'].groupBy(groupBy51).agg(*exprs51).show()"
      ],
      "metadata": {
        "id": "Ij0Ao37giQqr",
        "outputId": "bed0fc2e-cb1d-4b5b-c29e-3f79ce3e100e",
        "colab": {
          "base_uri": "https://localhost:8080/"
        }
      },
      "execution_count": 134,
      "outputs": [
        {
          "output_type": "stream",
          "name": "stdout",
          "text": [
            "+-----------+-------------------+---------------+------------------+-----------------+-----------------+-------------+\n",
            "|    Payment|count(gross income)|count(Quantity)| avg(gross income)|    avg(Quantity)|sum(gross income)|sum(Quantity)|\n",
            "+-----------+-------------------+---------------+------------------+-----------------+-----------------+-------------+\n",
            "|    Ewallet|                345|            345|15.181933333333335|5.484057971014493|5237.767000000001|         1892|\n",
            "|       Cash|                344|            344|15.532470930232577|5.511627906976744|5343.170000000006|         1896|\n",
            "|Credit card|                311|            311| 15.42904180064309|5.536977491961415|4798.432000000001|         1722|\n",
            "+-----------+-------------------+---------------+------------------+-----------------+-----------------+-------------+\n",
            "\n"
          ]
        }
      ]
    },
    {
      "cell_type": "markdown",
      "source": [
        "## SQL Table Operations"
      ],
      "metadata": {
        "id": "PufIPWYghgKy"
      }
    },
    {
      "cell_type": "markdown",
      "source": [
        "### Dataframe to Temporary Table"
      ],
      "metadata": {
        "id": "gjSUFvSgsIAK"
      }
    },
    {
      "cell_type": "code",
      "source": [
        "sales_df2.createOrReplaceTempView(\"tSales\")\n",
        "spark39.sql(\"describe tSales\").show()"
      ],
      "metadata": {
        "id": "QtGXv1vdsUv7",
        "outputId": "63f5c7f1-a6f5-43c2-ed8a-7cdc766cc26c",
        "colab": {
          "base_uri": "https://localhost:8080/"
        }
      },
      "execution_count": 132,
      "outputs": [
        {
          "output_type": "stream",
          "name": "stdout",
          "text": [
            "+--------------------+---------+-------+\n",
            "|            col_name|data_type|comment|\n",
            "+--------------------+---------+-------+\n",
            "|          Invoice ID|   string|   NULL|\n",
            "|              Branch|   string|   NULL|\n",
            "|                City|   string|   NULL|\n",
            "|       Customer type|   string|   NULL|\n",
            "|              Gender|   string|   NULL|\n",
            "|        Product line|   string|   NULL|\n",
            "|          Unit price|   double|   NULL|\n",
            "|            Quantity|      int|   NULL|\n",
            "|              Tax 5%|   double|   NULL|\n",
            "|               Total|   double|   NULL|\n",
            "|                Date|     date|   NULL|\n",
            "|                Time|timestamp|   NULL|\n",
            "|             Payment|   string|   NULL|\n",
            "|                cogs|   double|   NULL|\n",
            "|gross margin perc...|   double|   NULL|\n",
            "|        gross income|   double|   NULL|\n",
            "|              Rating|   double|   NULL|\n",
            "+--------------------+---------+-------+\n",
            "\n"
          ]
        }
      ]
    },
    {
      "cell_type": "code",
      "source": [
        "spark39.sql(\"show tables\").show()\n",
        "spark39.sql(\"select * from tsales limit 3\").show()"
      ],
      "metadata": {
        "id": "kBCxzrIrssZA",
        "outputId": "5f5e10fa-d0a2-4179-c6d2-e06d441bd6b4",
        "colab": {
          "base_uri": "https://localhost:8080/"
        }
      },
      "execution_count": 133,
      "outputs": [
        {
          "output_type": "stream",
          "name": "stdout",
          "text": [
            "+---------+---------+-----------+\n",
            "|namespace|tableName|isTemporary|\n",
            "+---------+---------+-----------+\n",
            "| praxisdb|  sales_t|      false|\n",
            "|         |   tsales|       true|\n",
            "+---------+---------+-----------+\n",
            "\n",
            "+-----------+------+---------+-------------+------+--------------------+----------+--------+-------+--------+----------+-------------------+-----------+------+-----------------------+------------+------+\n",
            "| Invoice ID|Branch|     City|Customer type|Gender|        Product line|Unit price|Quantity| Tax 5%|   Total|      Date|               Time|    Payment|  cogs|gross margin percentage|gross income|Rating|\n",
            "+-----------+------+---------+-------------+------+--------------------+----------+--------+-------+--------+----------+-------------------+-----------+------+-----------------------+------------+------+\n",
            "|750-67-8428|     A|   Yangon|       Member|Female|   Health and beauty|     74.69|       7|26.1415|548.9715|2019-01-05|2024-01-19 13:08:00|    Ewallet|522.83|            4.761904762|     26.1415|   9.1|\n",
            "|226-31-3081|     C|Naypyitaw|       Normal|Female|Electronic access...|     15.28|       5|   3.82|   80.22|2019-03-08|2024-01-19 10:29:00|       Cash|  76.4|            4.761904762|        3.82|   9.6|\n",
            "|631-41-3108|     A|   Yangon|       Normal|  Male|  Home and lifestyle|     46.33|       7|16.2155|340.5255|2019-03-03|2024-01-19 13:23:00|Credit card|324.31|            4.761904762|     16.2155|   7.4|\n",
            "+-----------+------+---------+-------------+------+--------------------+----------+--------+-------+--------+----------+-------------------+-----------+------+-----------------------+------------+------+\n",
            "\n"
          ]
        }
      ]
    },
    {
      "cell_type": "markdown",
      "source": [
        "### Temporary to Permanent Table"
      ],
      "metadata": {
        "id": "nLfenbuolPFX"
      }
    },
    {
      "cell_type": "code",
      "source": [
        "sql_drop_table = \"\"\"drop table if exists praxisdb.sales_T\"\"\"\n",
        "\n",
        "sql_drop_database = \"\"\"drop database if exists praxisdb cascade\"\"\"\n",
        "\n",
        "sql_create_database = \"\"\"create database if not exists praxisdb location '/content/praxisdb/'\"\"\"\n",
        "\n",
        "sql_create_table = \"\"\"create table if not exists praxisdb.sales_T using parquet as select  * from tSales\"\"\"\n",
        "\n",
        "spark39.sql(sql_drop_database)\n",
        "\n",
        "spark39.sql(sql_create_database)\n",
        "\n",
        "spark39.sql(sql_drop_table)\n",
        "\n",
        "spark39.sql(sql_create_table)"
      ],
      "metadata": {
        "id": "TYIPqzuItXXO",
        "outputId": "ebc6dc7f-14c0-40fb-83b6-f756d2ea73bf",
        "colab": {
          "base_uri": "https://localhost:8080/"
        }
      },
      "execution_count": 83,
      "outputs": [
        {
          "output_type": "execute_result",
          "data": {
            "text/plain": [
              "DataFrame[]"
            ]
          },
          "metadata": {},
          "execution_count": 83
        }
      ]
    },
    {
      "cell_type": "code",
      "source": [
        "spark39.sql(\"use praxisdb\")\n",
        "spark39.sql(\"show tables\").show()"
      ],
      "metadata": {
        "id": "4clewVjTszG6",
        "outputId": "3b31ea8b-3174-4bc2-f112-d3194ce54ee5",
        "colab": {
          "base_uri": "https://localhost:8080/"
        }
      },
      "execution_count": 84,
      "outputs": [
        {
          "output_type": "stream",
          "name": "stdout",
          "text": [
            "+---------+---------+-----------+\n",
            "|namespace|tableName|isTemporary|\n",
            "+---------+---------+-----------+\n",
            "| praxisdb|  sales_t|      false|\n",
            "|         |   tsales|       true|\n",
            "+---------+---------+-----------+\n",
            "\n"
          ]
        }
      ]
    },
    {
      "cell_type": "code",
      "source": [
        "spark39.sql(\"select * from praxisdb.sales_t limit 5\").show()"
      ],
      "metadata": {
        "id": "awQOz6NpuvzR",
        "outputId": "90d5bedd-b476-4089-ddc1-1c45938e738e",
        "colab": {
          "base_uri": "https://localhost:8080/"
        }
      },
      "execution_count": 135,
      "outputs": [
        {
          "output_type": "stream",
          "name": "stdout",
          "text": [
            "+-----------+------+---------+-------------+------+--------------------+----------+--------+-------+--------+----------+-------------------+-----------+------+-----------------------+------------+------+\n",
            "| Invoice ID|Branch|     City|Customer type|Gender|        Product line|Unit price|Quantity| Tax 5%|   Total|      Date|               Time|    Payment|  cogs|gross margin percentage|gross income|Rating|\n",
            "+-----------+------+---------+-------------+------+--------------------+----------+--------+-------+--------+----------+-------------------+-----------+------+-----------------------+------------+------+\n",
            "|750-67-8428|     A|   Yangon|       Member|Female|   Health and beauty|     74.69|       7|26.1415|548.9715|2019-01-05|2024-01-19 13:08:00|    Ewallet|522.83|            4.761904762|     26.1415|   9.1|\n",
            "|226-31-3081|     C|Naypyitaw|       Normal|Female|Electronic access...|     15.28|       5|   3.82|   80.22|2019-03-08|2024-01-19 10:29:00|       Cash|  76.4|            4.761904762|        3.82|   9.6|\n",
            "|631-41-3108|     A|   Yangon|       Normal|  Male|  Home and lifestyle|     46.33|       7|16.2155|340.5255|2019-03-03|2024-01-19 13:23:00|Credit card|324.31|            4.761904762|     16.2155|   7.4|\n",
            "|123-19-1176|     A|   Yangon|       Member|  Male|   Health and beauty|     58.22|       8| 23.288| 489.048|2019-01-27|2024-01-19 20:33:00|    Ewallet|465.76|            4.761904762|      23.288|   8.4|\n",
            "|373-73-7910|     A|   Yangon|       Normal|  Male|   Sports and travel|     86.31|       7|30.2085|634.3785|2019-02-08|2024-01-19 10:37:00|    Ewallet|604.17|            4.761904762|     30.2085|   5.3|\n",
            "+-----------+------+---------+-------------+------+--------------------+----------+--------+-------+--------+----------+-------------------+-----------+------+-----------------------+------------+------+\n",
            "\n"
          ]
        }
      ]
    },
    {
      "cell_type": "markdown",
      "source": [
        "### Table Data Analysis"
      ],
      "metadata": {
        "id": "rVE9KiBLFNqf"
      }
    },
    {
      "cell_type": "code",
      "source": [
        "# NOTE backtick ` used to enclose column names with spaces inside!\n",
        "spark39.sql(\"select payment, count(*), sum(quantity), avg(quantity), sum(`gross income`), avg(`gross income`) from praxisdb.sales_t group by payment \").show()"
      ],
      "metadata": {
        "colab": {
          "base_uri": "https://localhost:8080/"
        },
        "id": "tKRZR8rCFZTt",
        "outputId": "cb6b6225-5dba-4183-bea5-7a35fe554024"
      },
      "execution_count": 86,
      "outputs": [
        {
          "output_type": "stream",
          "name": "stdout",
          "text": [
            "+-----------+--------+-------------+-----------------+-----------------+------------------+\n",
            "|    payment|count(1)|sum(quantity)|    avg(quantity)|sum(gross income)| avg(gross income)|\n",
            "+-----------+--------+-------------+-----------------+-----------------+------------------+\n",
            "|    Ewallet|     345|         1892|5.484057971014493|5237.767000000001|15.181933333333335|\n",
            "|       Cash|     344|         1896|5.511627906976744|5343.170000000006|15.532470930232577|\n",
            "|Credit card|     311|         1722|5.536977491961415|4798.432000000001| 15.42904180064309|\n",
            "+-----------+--------+-------------+-----------------+-----------------+------------------+\n",
            "\n"
          ]
        }
      ]
    },
    {
      "cell_type": "code",
      "source": [
        "#spark39.sql(\"select `gross income` from praxisdb.sales_t\").show()"
      ],
      "metadata": {
        "id": "95EkBGJcGpmF"
      },
      "execution_count": 136,
      "outputs": []
    },
    {
      "cell_type": "markdown",
      "metadata": {
        "id": "EKTZezaqMK_0"
      },
      "source": [
        "#Chronobooks <br>\n",
        "![alt text](https://1.bp.blogspot.com/-lTiYBkU2qbU/X1er__fvnkI/AAAAAAAAjtE/GhDR3OEGJr4NG43fZPodrQD5kbxtnKebgCLcBGAsYHQ/s600/Footer2020-600x200.png)<hr>\n",
        "Chronotantra and Chronoyantra are two science fiction novels that explore the collapse of human civilisation on Earth and then its rebirth and reincarnation both on Earth as well as on the distant worlds of Mars, Titan and Enceladus. But is it the human civilisation that is being reborn? Or is it some other sentience that is revealing itself.\n",
        "If you have an interest in AI and found this material useful, you may consider buying these novels, in paperback or kindle, from [http://bit.ly/chronobooks](http://bit.ly/chronobooks)"
      ]
    }
  ]
}