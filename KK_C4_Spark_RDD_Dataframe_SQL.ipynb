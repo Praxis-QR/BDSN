{
  "nbformat": 4,
  "nbformat_minor": 0,
  "metadata": {
    "colab": {
      "provenance": [],
      "collapsed_sections": [
        "W2QOKe1NRHn4",
        "sRvq6-Cd5cwS",
        "-tVgOWHgpc0W",
        "_2HO3H2WkkDC",
        "G9QnYzQBmqC6"
      ],
      "toc_visible": true,
      "include_colab_link": true
    },
    "kernelspec": {
      "name": "python3",
      "display_name": "Python 3"
    }
  },
  "cells": [
    {
      "cell_type": "markdown",
      "metadata": {
        "id": "view-in-github",
        "colab_type": "text"
      },
      "source": [
        "<a href=\"https://colab.research.google.com/github/Praxis-QR/BDSN/blob/main/KK_C4_Spark_RDD_Dataframe_SQL.ipynb\" target=\"_parent\"><img src=\"https://colab.research.google.com/assets/colab-badge.svg\" alt=\"Open In Colab\"/></a>"
      ]
    },
    {
      "cell_type": "markdown",
      "metadata": {
        "id": "fj93_nN2wPV1"
      },
      "source": [
        "![alt text](https://github.com/Praxis-QR/RDWH/raw/main/images/YantraJaalBanner.png)<br>\n",
        "\n",
        "\n",
        "<hr>\n",
        "\n",
        "[Prithwis Mukerjee](http://www.linkedin.com/in/prithwis)<br>"
      ]
    },
    {
      "cell_type": "markdown",
      "source": [
        "# Basic Data Analysis | Supermarket | Netflix | IMDB\n",
        "Demonstrate the usage of RDD, Spark Dataframe and Spark SQL to explore the same datafile. <br>\n",
        "More detailed tutorial available at https://github.com/Praxis-QR/BDSN/blob/main/Complex_Complete_Spark_Tutorial.ipynb\n",
        "<hr>\n"
      ],
      "metadata": {
        "id": "Y-gYEr36F06t"
      }
    },
    {
      "cell_type": "code",
      "source": [
        "from datetime import datetime\n",
        "import pytz\n",
        "print('ॐ श्री सरस्वत्यै नमः',datetime.now(pytz.timezone('Asia/Calcutta')))\n",
        "\n",
        "!python --version\n",
        "!lsb_release -a\n",
        "\n",
        "#check which version of MongoDB  is available\n",
        "#!apt-cache policy mongodb\n",
        "\n",
        "#check which versions of software are available\n",
        "#!pip3 index versions pyspark\n",
        "#!pip3 index versions pyngrok"
      ],
      "metadata": {
        "id": "dHceCHdUqREm",
        "outputId": "46021149-2264-4e13-b893-ebb3526f371a",
        "colab": {
          "base_uri": "https://localhost:8080/"
        }
      },
      "execution_count": 10,
      "outputs": [
        {
          "output_type": "stream",
          "name": "stdout",
          "text": [
            "ॐ श्री सरस्वत्यै नमः 2024-04-29 07:03:53.968954+05:30\n",
            "Python 3.10.12\n",
            "No LSB modules are available.\n",
            "Distributor ID:\tUbuntu\n",
            "Description:\tUbuntu 22.04.3 LTS\n",
            "Release:\t22.04\n",
            "Codename:\tjammy\n"
          ]
        }
      ]
    },
    {
      "cell_type": "markdown",
      "source": [
        "# Download Sample Data as CSV files\n",
        "Sourced from https://github.com/search?q=owner%3Ajigsawlabs-student%20pyspark&type=repositories"
      ],
      "metadata": {
        "id": "poH3PbIicLHC"
      }
    },
    {
      "cell_type": "code",
      "source": [
        "import pandas as pd\n",
        "import re"
      ],
      "metadata": {
        "id": "ofMRWfBL3ayD"
      },
      "execution_count": 11,
      "outputs": []
    },
    {
      "cell_type": "code",
      "source": [
        "#!wget -O netflix.csv \"https://raw.githubusercontent.com/jigsawlabs-student/pyspark-cluster-lab/main/netflix_titles.csv\"\n",
        "!wget -q \"https://github.com/Praxis-QR/BDSN/raw/main/Data2/NetFlix.csv\"\n",
        "#df = pd.read_csv('s3://jigsaw-labs-student/supermarket_sales.csv')\n",
        "df1 = pd.read_csv('NetFlix.csv')\n",
        "\n",
        "!wget -q 'https://github.com/Praxis-QR/BDSN/raw/main/Data2/SuperMarketSales.csv'\n",
        "df2 = pd.read_csv('SuperMarketSales.csv')\n",
        "\n",
        "#df2 = pd.read_csv(\"s3://jigsaw-labs-student/imdb_movies.csv\")\n",
        "!wget -q 'https://github.com/Praxis-QR/BDSN/raw/main/Data2/IMDBmovies.csv'\n",
        "df3 = pd.read_csv('IMDBmovies.csv')\n",
        "df1.shape, df2.shape, df3.shape"
      ],
      "metadata": {
        "id": "Pqv2qe7ucS1i",
        "outputId": "e5576585-66fc-4a78-bead-12c6346594d7",
        "colab": {
          "base_uri": "https://localhost:8080/"
        }
      },
      "execution_count": 12,
      "outputs": [
        {
          "output_type": "execute_result",
          "data": {
            "text/plain": [
              "((7787, 12), (1000, 17), (2000, 7))"
            ]
          },
          "metadata": {},
          "execution_count": 12
        }
      ]
    },
    {
      "cell_type": "markdown",
      "metadata": {
        "id": "eSOI8k9qicmu"
      },
      "source": [
        "# Spark Installation\n"
      ]
    },
    {
      "cell_type": "markdown",
      "source": [
        "## Full Installation - Skip, not required"
      ],
      "metadata": {
        "id": "GguG29b062na"
      }
    },
    {
      "cell_type": "code",
      "metadata": {
        "id": "gIjVxBSKIDsW"
      },
      "source": [
        "#!apt update > /dev/null\n",
        "#!apt install openjdk-8-jdk-headless -qq > /dev/null"
      ],
      "execution_count": 13,
      "outputs": []
    },
    {
      "cell_type": "code",
      "metadata": {
        "id": "jAgQ-0fGhxWI"
      },
      "source": [
        "# Get latest and correct version of Spark\n",
        "#\n",
        "# if the current version of Spark is not used, there may be errors\n",
        "# check here for current versions http://apache.osuosl.org/spark\n",
        "#\n",
        "#!wget -q http://apache.osuosl.org/spark/spark-2.2.2/spark-2.2.2-bin-hadoop2.7.tgz\n",
        "#!wget -q http://apache.osuosl.org/spark/spark-2.4.0/spark-2.4.0-bin-hadoop2.7.tgz\n",
        "#!wget -q http://apache.osuosl.org/spark/spark-2.4.3/spark-2.4.3-bin-hadoop2.7.tgz\n",
        "#!wget -q http://apache.osuosl.org/spark/spark-2.4.4/spark-2.4.4-bin-hadoop2.7.tgz\n",
        "#!wget -q http://apache.osuosl.org/spark/spark-2.4.5/spark-2.4.5-bin-hadoop2.7.tgz\n",
        "#!wget -q http://apache.osuosl.org/spark/spark-3.0.1/spark-3.0.1-bin-hadoop3.2.tgz\n",
        "#!wget -q http://apache.osuosl.org/spark/spark-3.1.2/spark-3.1.2-bin-hadoop3.2.tgz\n",
        "\n",
        "#!tar xf spark-2.4.5-bin-hadoop2.7.tgz\n",
        "#!tar xf spark-3.0.1-bin-hadoop3.2.tgz\n",
        "#!tar xf spark-3.1.2-bin-hadoop3.2.tgz\n",
        "#!pip install -q findspark\n",
        "#!pip install -q pyspark\n",
        "\n",
        "#import os\n",
        "#os.environ[\"JAVA_HOME\"] = \"/usr/lib/jvm/java-8-openjdk-amd64\"\n",
        "#os.environ[\"SPARK_HOME\"] = \"/content/spark-2.4.0-bin-hadoop2.7\"\n",
        "#os.environ[\"SPARK_HOME\"] = \"/content/spark-2.4.4-bin-hadoop2.7\"\n",
        "#os.environ[\"SPARK_HOME\"] = \"/content/spark-2.4.5-bin-hadoop2.7\"\n",
        "#os.environ[\"SPARK_HOME\"] = \"/content/spark-3.0.1-bin-hadoop3.2\"\n",
        "#os.environ[\"SPARK_HOME\"] = \"/content/spark-3.1.2-bin-hadoop3.2\"\n"
      ],
      "execution_count": 14,
      "outputs": []
    },
    {
      "cell_type": "code",
      "metadata": {
        "id": "7ClRT_Ari2Ys"
      },
      "source": [
        "# findspark route is no more required\n",
        "#import findspark\n",
        "#findspark.init()\n",
        "#\n",
        "#findspark.init('/content/spark-2.2.2-bin-hadoop2.7')\n",
        "#\n",
        "# https://stackoverflow.com/questions/42223498/findspark-init-indexerror-list-index-out-of-range-error\n",
        "#\n"
      ],
      "execution_count": 15,
      "outputs": []
    },
    {
      "cell_type": "markdown",
      "source": [
        "## Direct Install with pip"
      ],
      "metadata": {
        "id": "vI0evwwr7CpC"
      }
    },
    {
      "cell_type": "code",
      "source": [
        "!pip3 -q install pyspark\n",
        "#\n",
        "#from pyspark.sql.functions import col, to_date, to_timestamp\n",
        "#from pyspark.sql.functions import regexp_replace\n",
        "#from pyspark.sql.types import StructType,StructField, StringType, DateType, TimestampType, IntegerType,DoubleType, FloatType,NumericType, DecimalType\n",
        "#\n",
        "from pyspark.sql.types import *\n",
        "from pyspark.sql.functions import *\n",
        "from pyspark.sql import SparkSession\n"
      ],
      "metadata": {
        "id": "zshFo_neioPt"
      },
      "execution_count": 16,
      "outputs": []
    },
    {
      "cell_type": "code",
      "source": [
        "# spark = SparkSession.builder.master(\"local[*]\").getOrCreate()\n",
        "# note UI port switched from default 4040 to 4050 to avoid clash with ngrok\n",
        "#\n",
        "spark39 = SparkSession.builder.master(\"local[*]\").\\\n",
        "            config('spark.ui.port', '4050').\\\n",
        "            appName(\"Yantrajaal\").\\\n",
        "            getOrCreate()\n",
        "#\n",
        "sc = spark39.sparkContext\n",
        "#\n",
        "# The spark Console UI is available in the link that will be displayed in this cell.\n",
        "# If you do not wish to use the Console, you may skip the Tunnel part\n",
        "sc"
      ],
      "metadata": {
        "id": "JA26cSUf7Maq",
        "outputId": "c54d998d-0266-4c7a-c536-cd400c4a1ddc",
        "colab": {
          "base_uri": "https://localhost:8080/",
          "height": 196
        }
      },
      "execution_count": 17,
      "outputs": [
        {
          "output_type": "execute_result",
          "data": {
            "text/plain": [
              "<SparkContext master=local[*] appName=Yantrajaal>"
            ],
            "text/html": [
              "\n",
              "        <div>\n",
              "            <p><b>SparkContext</b></p>\n",
              "\n",
              "            <p><a href=\"http://20d8c0a329d6:4050\">Spark UI</a></p>\n",
              "\n",
              "            <dl>\n",
              "              <dt>Version</dt>\n",
              "                <dd><code>v3.5.1</code></dd>\n",
              "              <dt>Master</dt>\n",
              "                <dd><code>local[*]</code></dd>\n",
              "              <dt>AppName</dt>\n",
              "                <dd><code>Yantrajaal</code></dd>\n",
              "            </dl>\n",
              "        </div>\n",
              "        "
            ]
          },
          "metadata": {},
          "execution_count": 17
        }
      ]
    },
    {
      "cell_type": "markdown",
      "source": [
        "# Supermarket Sales Data"
      ],
      "metadata": {
        "id": "8XeYwvtfho38"
      }
    },
    {
      "cell_type": "code",
      "source": [
        "!head SuperMarketSales.csv"
      ],
      "metadata": {
        "id": "UZhtI7jal5YS",
        "colab": {
          "base_uri": "https://localhost:8080/"
        },
        "outputId": "50e59587-b2da-42ba-8878-0cd7d1b4e5ee"
      },
      "execution_count": 18,
      "outputs": [
        {
          "output_type": "stream",
          "name": "stdout",
          "text": [
            "Invoice ID,Branch,City,Customer type,Gender,Product line,Unit price,Quantity,Tax 5%,Total,Date,Time,Payment,cogs,gross margin percentage,gross income,Rating\n",
            "750-67-8428,A,Yangon,Member,Female,Health and beauty,74.69,7,26.1415,548.9715,1/5/2019,13:08,Ewallet,522.83,4.761904762,26.1415,9.1\n",
            "226-31-3081,C,Naypyitaw,Normal,Female,Electronic accessories,15.28,5,3.82,80.22,3/8/2019,10:29,Cash,76.4,4.761904762,3.82,9.6\n",
            "631-41-3108,A,Yangon,Normal,Male,Home and lifestyle,46.33,7,16.2155,340.5255,3/3/2019,13:23,Credit card,324.31,4.761904762,16.2155,7.4\n",
            "123-19-1176,A,Yangon,Member,Male,Health and beauty,58.22,8,23.288,489.048,1/27/2019,20:33,Ewallet,465.76,4.761904762,23.288,8.4\n",
            "373-73-7910,A,Yangon,Normal,Male,Sports and travel,86.31,7,30.2085,634.3785,2/8/2019,10:37,Ewallet,604.17,4.761904762,30.2085,5.3\n",
            "699-14-3026,C,Naypyitaw,Normal,Male,Electronic accessories,85.39,7,29.8865,627.6165,3/25/2019,18:30,Ewallet,597.73,4.761904762,29.8865,4.1\n",
            "355-53-5943,A,Yangon,Member,Female,Electronic accessories,68.84,6,20.652,433.692,2/25/2019,14:36,Ewallet,413.04,4.761904762,20.652,5.8\n",
            "315-22-5665,C,Naypyitaw,Normal,Female,Home and lifestyle,73.56,10,36.78,772.38,2/24/2019,11:38,Ewallet,735.6,4.761904762,36.78,8.0\n",
            "665-32-9167,A,Yangon,Member,Female,Health and beauty,36.26,2,3.626,76.146,1/10/2019,17:15,Credit card,72.52,4.761904762,3.626,7.2\n"
          ]
        }
      ]
    },
    {
      "cell_type": "markdown",
      "source": [
        "## RDD Operations"
      ],
      "metadata": {
        "id": "7mva4hYshAVW"
      }
    },
    {
      "cell_type": "markdown",
      "source": [
        "### Read CSV into RDD"
      ],
      "metadata": {
        "id": "PpSjwcjWlK1w"
      }
    },
    {
      "cell_type": "code",
      "source": [
        "sales_RDD1 = sc.textFile(\"SuperMarketSales.csv\")\n",
        "sales_RDD2 = spark39.read.text(\"SuperMarketSales.csv\").rdd\n",
        "# for an explanation of the alternate way to read text files\n",
        "# see this https://stackoverflow.com/questions/52665353/reading-a-text-file-in-spark/52669632#52669632"
      ],
      "metadata": {
        "id": "qZM6jTgIinAN"
      },
      "execution_count": 19,
      "outputs": []
    },
    {
      "cell_type": "code",
      "source": [
        "sales_RDD1.take(5)"
      ],
      "metadata": {
        "colab": {
          "base_uri": "https://localhost:8080/"
        },
        "id": "7oZD35n9jFXF",
        "outputId": "ca9e3ab1-6924-4ff7-c713-75d5ee3a4dd7"
      },
      "execution_count": 20,
      "outputs": [
        {
          "output_type": "execute_result",
          "data": {
            "text/plain": [
              "['Invoice ID,Branch,City,Customer type,Gender,Product line,Unit price,Quantity,Tax 5%,Total,Date,Time,Payment,cogs,gross margin percentage,gross income,Rating',\n",
              " '750-67-8428,A,Yangon,Member,Female,Health and beauty,74.69,7,26.1415,548.9715,1/5/2019,13:08,Ewallet,522.83,4.761904762,26.1415,9.1',\n",
              " '226-31-3081,C,Naypyitaw,Normal,Female,Electronic accessories,15.28,5,3.82,80.22,3/8/2019,10:29,Cash,76.4,4.761904762,3.82,9.6',\n",
              " '631-41-3108,A,Yangon,Normal,Male,Home and lifestyle,46.33,7,16.2155,340.5255,3/3/2019,13:23,Credit card,324.31,4.761904762,16.2155,7.4',\n",
              " '123-19-1176,A,Yangon,Member,Male,Health and beauty,58.22,8,23.288,489.048,1/27/2019,20:33,Ewallet,465.76,4.761904762,23.288,8.4']"
            ]
          },
          "metadata": {},
          "execution_count": 20
        }
      ]
    },
    {
      "cell_type": "code",
      "source": [
        "sales_RDD2.take(5)"
      ],
      "metadata": {
        "colab": {
          "base_uri": "https://localhost:8080/"
        },
        "id": "RgRuT9P0jmrW",
        "outputId": "c2c6fced-c38e-4a62-9eeb-388e9f6533f6"
      },
      "execution_count": 21,
      "outputs": [
        {
          "output_type": "execute_result",
          "data": {
            "text/plain": [
              "[Row(value='Invoice ID,Branch,City,Customer type,Gender,Product line,Unit price,Quantity,Tax 5%,Total,Date,Time,Payment,cogs,gross margin percentage,gross income,Rating'),\n",
              " Row(value='750-67-8428,A,Yangon,Member,Female,Health and beauty,74.69,7,26.1415,548.9715,1/5/2019,13:08,Ewallet,522.83,4.761904762,26.1415,9.1'),\n",
              " Row(value='226-31-3081,C,Naypyitaw,Normal,Female,Electronic accessories,15.28,5,3.82,80.22,3/8/2019,10:29,Cash,76.4,4.761904762,3.82,9.6'),\n",
              " Row(value='631-41-3108,A,Yangon,Normal,Male,Home and lifestyle,46.33,7,16.2155,340.5255,3/3/2019,13:23,Credit card,324.31,4.761904762,16.2155,7.4'),\n",
              " Row(value='123-19-1176,A,Yangon,Member,Male,Health and beauty,58.22,8,23.288,489.048,1/27/2019,20:33,Ewallet,465.76,4.761904762,23.288,8.4')]"
            ]
          },
          "metadata": {},
          "execution_count": 21
        }
      ]
    },
    {
      "cell_type": "code",
      "source": [
        "# Delete the first, header row\n",
        "#\n",
        "!sed '1d' SuperMarketSales.csv > Headless_SuperMarketSales.csv\n",
        "#!sed -i '1d' SuperMarketSales.csv\n",
        "sales_RDD1 = sc.textFile(\"Headless_SuperMarketSales.csv\")\n",
        "sales_RDD2 = spark39.read.text(\"Headless_SuperMarketSales.csv\").rdd\n",
        "sales_RDD1.take(5)\n",
        "#sales_RDD2.take(5)"
      ],
      "metadata": {
        "colab": {
          "base_uri": "https://localhost:8080/"
        },
        "id": "kChJmqcbkLqL",
        "outputId": "74cc0edc-a8aa-4dd8-80fb-1757555438c2"
      },
      "execution_count": 22,
      "outputs": [
        {
          "output_type": "execute_result",
          "data": {
            "text/plain": [
              "['750-67-8428,A,Yangon,Member,Female,Health and beauty,74.69,7,26.1415,548.9715,1/5/2019,13:08,Ewallet,522.83,4.761904762,26.1415,9.1',\n",
              " '226-31-3081,C,Naypyitaw,Normal,Female,Electronic accessories,15.28,5,3.82,80.22,3/8/2019,10:29,Cash,76.4,4.761904762,3.82,9.6',\n",
              " '631-41-3108,A,Yangon,Normal,Male,Home and lifestyle,46.33,7,16.2155,340.5255,3/3/2019,13:23,Credit card,324.31,4.761904762,16.2155,7.4',\n",
              " '123-19-1176,A,Yangon,Member,Male,Health and beauty,58.22,8,23.288,489.048,1/27/2019,20:33,Ewallet,465.76,4.761904762,23.288,8.4',\n",
              " '373-73-7910,A,Yangon,Normal,Male,Sports and travel,86.31,7,30.2085,634.3785,2/8/2019,10:37,Ewallet,604.17,4.761904762,30.2085,5.3']"
            ]
          },
          "metadata": {},
          "execution_count": 22
        }
      ]
    },
    {
      "cell_type": "code",
      "source": [
        "sales_RDD2.take(5)"
      ],
      "metadata": {
        "id": "StCoKYLS8DRB",
        "outputId": "d8717cb8-bf00-4c28-a49e-ca3896c2ce5b",
        "colab": {
          "base_uri": "https://localhost:8080/"
        }
      },
      "execution_count": 23,
      "outputs": [
        {
          "output_type": "execute_result",
          "data": {
            "text/plain": [
              "[Row(value='750-67-8428,A,Yangon,Member,Female,Health and beauty,74.69,7,26.1415,548.9715,1/5/2019,13:08,Ewallet,522.83,4.761904762,26.1415,9.1'),\n",
              " Row(value='226-31-3081,C,Naypyitaw,Normal,Female,Electronic accessories,15.28,5,3.82,80.22,3/8/2019,10:29,Cash,76.4,4.761904762,3.82,9.6'),\n",
              " Row(value='631-41-3108,A,Yangon,Normal,Male,Home and lifestyle,46.33,7,16.2155,340.5255,3/3/2019,13:23,Credit card,324.31,4.761904762,16.2155,7.4'),\n",
              " Row(value='123-19-1176,A,Yangon,Member,Male,Health and beauty,58.22,8,23.288,489.048,1/27/2019,20:33,Ewallet,465.76,4.761904762,23.288,8.4'),\n",
              " Row(value='373-73-7910,A,Yangon,Normal,Male,Sports and travel,86.31,7,30.2085,634.3785,2/8/2019,10:37,Ewallet,604.17,4.761904762,30.2085,5.3')]"
            ]
          },
          "metadata": {},
          "execution_count": 23
        }
      ]
    },
    {
      "cell_type": "markdown",
      "source": [
        "### Data Analysis with RDD"
      ],
      "metadata": {
        "id": "70L1yVjFHmiy"
      }
    },
    {
      "cell_type": "code",
      "source": [
        "# Total Number of Rows\n",
        "sales_RDD1.count()"
      ],
      "metadata": {
        "colab": {
          "base_uri": "https://localhost:8080/"
        },
        "id": "kuLB_bdpH1jA",
        "outputId": "2ed6fcd9-e7c5-4d5d-aa4e-14a667888581"
      },
      "execution_count": 24,
      "outputs": [
        {
          "output_type": "execute_result",
          "data": {
            "text/plain": [
              "1000"
            ]
          },
          "metadata": {},
          "execution_count": 24
        }
      ]
    },
    {
      "cell_type": "markdown",
      "source": [
        "#### Filter Data"
      ],
      "metadata": {
        "id": "x4T1AaK2U16R"
      }
    },
    {
      "cell_type": "code",
      "source": [
        "# Filter, or segregate the data, based on payment method\n",
        "#\n",
        "sales_wallet = sales_RDD1.filter(lambda x: \",Ewallet,\" in x)\n",
        "sales_cash = sales_RDD1.filter(lambda x: \",Cash,\" in x)\n",
        "sales_card = sales_RDD1.filter(lambda x: \",Credit card,\" in x)\n",
        "#\n",
        "wallet_count = sales_wallet.count()\n",
        "cash_count = sales_cash.count()\n",
        "card_count = sales_card.count()\n",
        "print(wallet_count, cash_count, card_count)"
      ],
      "metadata": {
        "colab": {
          "base_uri": "https://localhost:8080/"
        },
        "id": "tfPe0qulIKrT",
        "outputId": "66c1c42f-e1c3-430f-b900-b2f42491a7d9"
      },
      "execution_count": 25,
      "outputs": [
        {
          "output_type": "stream",
          "name": "stdout",
          "text": [
            "345 344 311\n"
          ]
        }
      ]
    },
    {
      "cell_type": "markdown",
      "source": [
        "#### Set Operations"
      ],
      "metadata": {
        "id": "uHnKNX3QD-l5"
      }
    },
    {
      "cell_type": "code",
      "source": [
        "# Another way to segregate the data\n",
        "#\n",
        "sales_wallet = sales_RDD1.filter(lambda x: \",Ewallet,\" in x)\n",
        "wallet_count = sales_wallet.count()\n",
        "#\n",
        "sales_non_wallet = sales_RDD1.subtract(sales_wallet)\n",
        "non_wallet_count = sales_non_wallet.count()\n",
        "print(wallet_count, non_wallet_count)"
      ],
      "metadata": {
        "id": "savYQIUYEHtA",
        "outputId": "608fd59b-4706-4a76-d849-6a2624f0b69e",
        "colab": {
          "base_uri": "https://localhost:8080/"
        }
      },
      "execution_count": 26,
      "outputs": [
        {
          "output_type": "stream",
          "name": "stdout",
          "text": [
            "345 655\n"
          ]
        }
      ]
    },
    {
      "cell_type": "code",
      "source": [
        "# Get Unique Values of field City\n",
        "#\n",
        "sales_RDD_csv = sales_RDD1.map(lambda x: x.split(\",\"))\n",
        "cities = sales_RDD_csv.map(lambda x: x[2]).distinct()\n",
        "cities.collect()"
      ],
      "metadata": {
        "id": "Jf9_sF0CFjDj",
        "outputId": "61e5b5b2-d46f-482b-905f-ed80af71ad8b",
        "colab": {
          "base_uri": "https://localhost:8080/"
        }
      },
      "execution_count": 27,
      "outputs": [
        {
          "output_type": "execute_result",
          "data": {
            "text/plain": [
              "['Naypyitaw', 'Yangon', 'Mandalay']"
            ]
          },
          "metadata": {},
          "execution_count": 27
        }
      ]
    },
    {
      "cell_type": "code",
      "source": [
        "sales_RDD_csv = sales_RDD1.map(lambda x: x.split(\",\"))\n",
        "product_lines = sales_RDD_csv.map(lambda x: x[5]).distinct()\n",
        "product_lines.collect()"
      ],
      "metadata": {
        "id": "xNy5y1w4Gcst",
        "outputId": "8e09496a-307a-43c2-9ed7-95342cd5c1b7",
        "colab": {
          "base_uri": "https://localhost:8080/"
        }
      },
      "execution_count": 28,
      "outputs": [
        {
          "output_type": "execute_result",
          "data": {
            "text/plain": [
              "['Health and beauty',\n",
              " 'Home and lifestyle',\n",
              " 'Electronic accessories',\n",
              " 'Sports and travel',\n",
              " 'Food and beverages',\n",
              " 'Fashion accessories']"
            ]
          },
          "metadata": {},
          "execution_count": 28
        }
      ]
    },
    {
      "cell_type": "markdown",
      "source": [
        "#### Aggregation\n",
        "Calculating Count, Sum, Average etc"
      ],
      "metadata": {
        "id": "yaYd9j4RU8Ks"
      }
    },
    {
      "cell_type": "code",
      "source": [
        "# Element 7 in the dataset is Quantity\n",
        "# Convert str to int\n",
        "#\n",
        "def x4m1(text):\n",
        "    elements = text.split(\",\")\n",
        "    return(int(elements[7]))"
      ],
      "metadata": {
        "id": "Lj16h_igVDO8"
      },
      "execution_count": 29,
      "outputs": []
    },
    {
      "cell_type": "code",
      "source": [
        "# Extract Quantity from dataset\n",
        "#\n",
        "sales_wallet_Qty = sales_wallet.map(lambda x: x4m1(x))\n",
        "sales_wallet_Qty.take(3)"
      ],
      "metadata": {
        "colab": {
          "base_uri": "https://localhost:8080/"
        },
        "id": "XaNIZo5KWD_i",
        "outputId": "834f5c1a-16b9-4a77-fcde-8ddcd108c67d"
      },
      "execution_count": 30,
      "outputs": [
        {
          "output_type": "execute_result",
          "data": {
            "text/plain": [
              "[7, 8, 7]"
            ]
          },
          "metadata": {},
          "execution_count": 30
        }
      ]
    },
    {
      "cell_type": "code",
      "source": [
        "# Calculate sum of all Quantity\n",
        "#\n",
        "wallet_total_Qty = sales_wallet_Qty.reduce(lambda x,y : x+y)\n",
        "print('wallet total quantity = ',wallet_total_Qty, '\\nwallet average quantity =', wallet_total_Qty/wallet_count)"
      ],
      "metadata": {
        "colab": {
          "base_uri": "https://localhost:8080/"
        },
        "id": "cn12QeWdXE-7",
        "outputId": "180d244f-eaf5-4441-d4d2-597bf1cd2889"
      },
      "execution_count": 31,
      "outputs": [
        {
          "output_type": "stream",
          "name": "stdout",
          "text": [
            "wallet total quantity =  1892 \n",
            "wallet average quantity = 5.484057971014493\n"
          ]
        }
      ]
    },
    {
      "cell_type": "markdown",
      "source": [
        "#### Accumulators\n",
        "Reduce the number of passes through the data.<br>\n",
        "For an explanation of the aggregate function see [this stackoverflow post](https://stackoverflow.com/questions/28240706/explain-the-aggregate-functionality-in-spark-with-python-and-scala/38949457#38949457)."
      ],
      "metadata": {
        "id": "YmmDtntbfWiu"
      }
    },
    {
      "cell_type": "code",
      "source": [
        "wallet_data = sales_wallet_Qty.aggregate(\n",
        "    (0,0), # the initial value\n",
        "    (lambda acc, value: (acc[0] + value, acc[1] + 1)), # combine value with acc\n",
        "    (lambda acc1, acc2: (acc1[0] + acc2[0], acc1[1] + acc2[1])) # combine accumulators\n",
        "    )\n",
        "\n",
        "print('Wallet Quantity Total',wallet_data[0],\\\n",
        "      '\\nWallet Quantity Count',wallet_data[1],\\\n",
        "      '\\nWallet Quantity Average', wallet_data[0]/wallet_data[1])"
      ],
      "metadata": {
        "colab": {
          "base_uri": "https://localhost:8080/"
        },
        "id": "zCI145B9fqJg",
        "outputId": "47420625-2bc1-46bf-a6b6-e2c156b01038"
      },
      "execution_count": 32,
      "outputs": [
        {
          "output_type": "stream",
          "name": "stdout",
          "text": [
            "Wallet Quantity Total 1892 \n",
            "Wallet Quantity Count 345 \n",
            "Wallet Quantity Average 5.484057971014493\n"
          ]
        }
      ]
    },
    {
      "cell_type": "markdown",
      "source": [
        "#### Aggregation on Multiple (two) Data Elements"
      ],
      "metadata": {
        "id": "TWDgDNdpgraX"
      }
    },
    {
      "cell_type": "code",
      "source": [
        "# Element 7 in the dataset is Quantity\n",
        "# Element 15 is Gross Income\n",
        "#\n",
        "def x4m2(text):\n",
        "    elements = text.split(\",\")\n",
        "    return(int(elements[7]), float(elements[15]))"
      ],
      "metadata": {
        "id": "FKj5CVUJaBAO"
      },
      "execution_count": 33,
      "outputs": []
    },
    {
      "cell_type": "code",
      "source": [
        "sales_wallet_Qty_Inc = sales_wallet.map(lambda x: x4m2(x))\n",
        "sales_wallet_Qty_Inc.take(3)"
      ],
      "metadata": {
        "colab": {
          "base_uri": "https://localhost:8080/"
        },
        "id": "cpyErMW1aJLO",
        "outputId": "3fb49da6-b301-445e-ee22-e837d657e9dc"
      },
      "execution_count": 34,
      "outputs": [
        {
          "output_type": "execute_result",
          "data": {
            "text/plain": [
              "[(7, 26.1415), (8, 23.288), (7, 30.2085)]"
            ]
          },
          "metadata": {},
          "execution_count": 34
        }
      ]
    },
    {
      "cell_type": "code",
      "source": [
        "wallet_data = sales_wallet_Qty_Inc.aggregate(\n",
        "    (0,0,0), # the initial value\n",
        "    (lambda acc, value: (acc[0] + value[0], acc[1] + value[1], acc[2] + 1)), # combine value with acc\n",
        "    (lambda acc1, acc2 : (acc1[0] + acc2[0], acc1[1] + acc2[1], acc1[2] + acc2[2])) # combine accumulators\n",
        "    )\n",
        "\n",
        "print('Wallet Quantity Total',wallet_data[0],\\\n",
        "      '\\nWallet Income Total',wallet_data[1],\\\n",
        "      '\\nWallet Count',wallet_data[2],\\\n",
        "      '\\nWallet Quantity Average',wallet_data[0]/wallet_data[2],\\\n",
        "      '\\nWallet Income Average', wallet_data[1]/wallet_data[2]\\\n",
        "      )\n",
        "#print('Wallet Quantity Average = ', wallet_data[0]/wallet_data[2],'\\nWallet Gross Income Average = ', wallet_data[1]/wallet_data[2])"
      ],
      "metadata": {
        "colab": {
          "base_uri": "https://localhost:8080/"
        },
        "id": "WPhYIjSEkFid",
        "outputId": "ec95d64c-e35d-4cdd-c99a-d4f89ed4ae96"
      },
      "execution_count": 35,
      "outputs": [
        {
          "output_type": "stream",
          "name": "stdout",
          "text": [
            "Wallet Quantity Total 1892 \n",
            "Wallet Income Total 5237.767 \n",
            "Wallet Count 345 \n",
            "Wallet Quantity Average 5.484057971014493 \n",
            "Wallet Income Average 15.181933333333333\n"
          ]
        }
      ]
    },
    {
      "cell_type": "markdown",
      "source": [
        "#### Chained Operations\n",
        "Eliminate intermediate RDD creation"
      ],
      "metadata": {
        "id": "MopQ4QxuBFov"
      }
    },
    {
      "cell_type": "code",
      "source": [
        "wallet_data = sc.textFile(\"Headless_SuperMarketSales.csv\").\\\n",
        "    filter(lambda x: \",Ewallet,\" in x).\\\n",
        "    map(lambda x: x4m2(x)).\\\n",
        "    aggregate(                                                                      # Perform Aggregation on multiple fields\n",
        "    (0,0,0),                                                                        # the initial value\n",
        "    (lambda acc, value: (acc[0] + value[0], acc[1] + value[1], acc[2] + 1)),        # combine value with acc\n",
        "    (lambda acc1, acc2 : (acc1[0] + acc2[0], acc1[1] + acc2[1], acc1[2] + acc2[2])) # combine accumulators\n",
        "    )\n",
        "\n",
        "print('Wallet Quantity Total',wallet_data[0],\\\n",
        "      '\\nWallet Income Total',wallet_data[1],\\\n",
        "      '\\nWallet Count',wallet_data[2],\\\n",
        "      '\\nWallet Quantity Average',wallet_data[0]/wallet_data[2],\\\n",
        "      '\\nWallet Income Average', wallet_data[1]/wallet_data[2]\\\n",
        "      )\n",
        "\n",
        "#print(wallet_data[0],wallet_data[1],wallet_data[2])\n",
        "#print('Wallet Quantity Average = ', wallet_data[0]/wallet_data[2],'\\nWallet Gross Income Average = ', wallet_data[1]/wallet_data[2])"
      ],
      "metadata": {
        "id": "xSpsEgLZBNyU",
        "outputId": "2c30b1ad-36a7-462b-d164-8d3b1bc7c671",
        "colab": {
          "base_uri": "https://localhost:8080/"
        }
      },
      "execution_count": 36,
      "outputs": [
        {
          "output_type": "stream",
          "name": "stdout",
          "text": [
            "Wallet Quantity Total 1892 \n",
            "Wallet Income Total 5237.767 \n",
            "Wallet Count 345 \n",
            "Wallet Quantity Average 5.484057971014493 \n",
            "Wallet Income Average 15.181933333333333\n"
          ]
        }
      ]
    },
    {
      "cell_type": "code",
      "source": [
        "# For all three type of payment options\n",
        "#\n",
        "for pType in ['Ewallet','Cash','Credit card']:\n",
        "    _pType = \",\"+pType+\",\"\n",
        "    payment_data = sc.textFile(\"Headless_SuperMarketSales.csv\").\\\n",
        "        filter(lambda x: _pType in x).\\\n",
        "        map(lambda x: x4m2(x)).\\\n",
        "        aggregate(                                                                      # Perform Aggregation on multiple fields\n",
        "        (0,0,0),                                                                        # the initial value\n",
        "        (lambda acc, value: (acc[0] + value[0], acc[1] + value[1], acc[2] + 1)),        # combine value with acc\n",
        "        (lambda acc1, acc2 : (acc1[0] + acc2[0], acc1[1] + acc2[1], acc1[2] + acc2[2])) # combine accumulators\n",
        "        )\n",
        "\n",
        "    print('Payment Type', pType,\\\n",
        "          '\\nQuantity Total',payment_data[0],\\\n",
        "        'Income Total',payment_data[1],\\\n",
        "        'Count',payment_data[2],\\\n",
        "        '\\nQuantity Average',payment_data[0]/payment_data[2],\\\n",
        "        'Income Average', payment_data[1]/payment_data[2],\\\n",
        "        '\\n............................................',\\\n",
        "        )\n"
      ],
      "metadata": {
        "id": "jS5GPDF3iqEP",
        "outputId": "83d954e8-31ce-44c1-d97a-7bc8e3f021ea",
        "colab": {
          "base_uri": "https://localhost:8080/"
        }
      },
      "execution_count": 37,
      "outputs": [
        {
          "output_type": "stream",
          "name": "stdout",
          "text": [
            "Payment Type Ewallet \n",
            "Quantity Total 1892 Income Total 5237.767 Count 345 \n",
            "Quantity Average 5.484057971014493 Income Average 15.181933333333333 \n",
            "............................................\n",
            "Payment Type Cash \n",
            "Quantity Total 1896 Income Total 5343.170000000001 Count 344 \n",
            "Quantity Average 5.511627906976744 Income Average 15.532470930232561 \n",
            "............................................\n",
            "Payment Type Credit card \n",
            "Quantity Total 1722 Income Total 4798.432000000001 Count 311 \n",
            "Quantity Average 5.536977491961415 Income Average 15.42904180064309 \n",
            "............................................\n"
          ]
        }
      ]
    },
    {
      "cell_type": "markdown",
      "source": [
        "### Convert RDD to Spark DataFrame"
      ],
      "metadata": {
        "id": "bzNLlQGSl2XN"
      }
    },
    {
      "cell_type": "code",
      "source": [
        "# Split string data on \",\" and convert string to relevant datatypes\n",
        "#\n",
        "#sales_RDD1_split1 = sales_RDD1.map(lambda l: l.split(\",\"))\n",
        "#sales_RDD1_split1.take(1)\n",
        "#sales_RDD1_split2 = sales_RDD1_split1.map(lambda l: [l[0],l[1],l[2],l[3],l[4],l[5],float(l[6]),int(l[7]),float(l[8]),float(l[9]),l[10],l[11],l[12],float(l[13]),float(l[14]),float(l[15]),float(l[16])])\n",
        "#sales_RDD1_split2.take(1)\n",
        "\n",
        "def x4m3(text):\n",
        "    l = text.split(\",\")\n",
        "    return([l[0],l[1],l[2],l[3],l[4],l[5],float(l[6]),int(l[7]),float(l[8]),float(l[9]),l[10],l[11],l[12],float(l[13]),float(l[14]),float(l[15]),float(l[16])])\n",
        "\n",
        "sales_RDD1_csv = sales_RDD1.map(lambda x: x4m3(x))\n",
        "#sales_RDD1_split.take(1)"
      ],
      "metadata": {
        "id": "d3Ncb2dl1Q9q"
      },
      "execution_count": 38,
      "outputs": []
    },
    {
      "cell_type": "code",
      "source": [
        "# Convert to dataframe\n",
        "# Date, Time does not convert correctly\n",
        "#\n",
        "SalesDataSchema = StructType([\n",
        "    StructField('Invoice ID', StringType(), True),\n",
        "    StructField('Branch', StringType(), True),\n",
        "    StructField('City', StringType(), True),\n",
        "    StructField('Customer Type', StringType(), True),\n",
        "    StructField('Gender', StringType(), True),\n",
        "    StructField('Product Line', StringType(), True),\n",
        "    StructField('Unit Price', FloatType(), True),\n",
        "    StructField('Quantity', IntegerType(), True),\n",
        "    StructField('Tax 5%', DoubleType(), True),\n",
        "    StructField('Total', DoubleType(), True),\n",
        "    StructField('Date', StringType(), True),\n",
        "    StructField('Time', StringType(), True),\n",
        "    StructField('Payment', StringType(), True),\n",
        "    StructField('cogs', DoubleType(), True),\n",
        "    StructField('gross margin percentage', DoubleType(), True),\n",
        "    StructField('gross income', DoubleType(), True),\n",
        "    StructField('Rating', DoubleType(), True)\n",
        "])\n",
        "\n",
        "#sales_df1 = spark39.createDataFrame(data = sales_RDD1_split2, schema = colSchema)\n",
        "sales_df1 = spark39.createDataFrame(data = sales_RDD1_csv, schema = SalesDataSchema)\n",
        "\n",
        "#sales_df1.printSchema()\n",
        "#sales_df1.show(5)"
      ],
      "metadata": {
        "id": "aY9BFmvroc_l"
      },
      "execution_count": 39,
      "outputs": []
    },
    {
      "cell_type": "code",
      "source": [
        "# Fix Date, Time datatype\n",
        "#\n",
        "#sales_df1 = sales_df1.withColumn('Date',to_date(col('Date'), \"M/d/y\"))\n",
        "#sales_df1 = sales_df1.withColumn('Time',to_timestamp(col('Time'), \"HH:mm\"))\n",
        "\n",
        "sales_df1 = sales_df1.\\\n",
        "    withColumn('Date',to_date(col('Date'), \"M/d/y\")).\\\n",
        "    withColumn('Time',to_timestamp(col('Time'), \"HH:mm\"))\n",
        "\n",
        "#sales_df1 = sales_df1.\n",
        "\n",
        "sales_df1.printSchema()\n",
        "sales_df1.show(5)"
      ],
      "metadata": {
        "id": "Pcw0mGh8g5xY",
        "outputId": "ed4a67d3-f510-4a45-fd58-387a8b5ca2f2",
        "colab": {
          "base_uri": "https://localhost:8080/"
        }
      },
      "execution_count": 40,
      "outputs": [
        {
          "output_type": "stream",
          "name": "stdout",
          "text": [
            "root\n",
            " |-- Invoice ID: string (nullable = true)\n",
            " |-- Branch: string (nullable = true)\n",
            " |-- City: string (nullable = true)\n",
            " |-- Customer Type: string (nullable = true)\n",
            " |-- Gender: string (nullable = true)\n",
            " |-- Product Line: string (nullable = true)\n",
            " |-- Unit Price: float (nullable = true)\n",
            " |-- Quantity: integer (nullable = true)\n",
            " |-- Tax 5%: double (nullable = true)\n",
            " |-- Total: double (nullable = true)\n",
            " |-- Date: date (nullable = true)\n",
            " |-- Time: timestamp (nullable = true)\n",
            " |-- Payment: string (nullable = true)\n",
            " |-- cogs: double (nullable = true)\n",
            " |-- gross margin percentage: double (nullable = true)\n",
            " |-- gross income: double (nullable = true)\n",
            " |-- Rating: double (nullable = true)\n",
            "\n",
            "+-----------+------+---------+-------------+------+--------------------+----------+--------+-------+--------+----------+-------------------+-----------+------+-----------------------+------------+------+\n",
            "| Invoice ID|Branch|     City|Customer Type|Gender|        Product Line|Unit Price|Quantity| Tax 5%|   Total|      Date|               Time|    Payment|  cogs|gross margin percentage|gross income|Rating|\n",
            "+-----------+------+---------+-------------+------+--------------------+----------+--------+-------+--------+----------+-------------------+-----------+------+-----------------------+------------+------+\n",
            "|750-67-8428|     A|   Yangon|       Member|Female|   Health and beauty|     74.69|       7|26.1415|548.9715|2019-01-05|1970-01-01 13:08:00|    Ewallet|522.83|            4.761904762|     26.1415|   9.1|\n",
            "|226-31-3081|     C|Naypyitaw|       Normal|Female|Electronic access...|     15.28|       5|   3.82|   80.22|2019-03-08|1970-01-01 10:29:00|       Cash|  76.4|            4.761904762|        3.82|   9.6|\n",
            "|631-41-3108|     A|   Yangon|       Normal|  Male|  Home and lifestyle|     46.33|       7|16.2155|340.5255|2019-03-03|1970-01-01 13:23:00|Credit card|324.31|            4.761904762|     16.2155|   7.4|\n",
            "|123-19-1176|     A|   Yangon|       Member|  Male|   Health and beauty|     58.22|       8| 23.288| 489.048|2019-01-27|1970-01-01 20:33:00|    Ewallet|465.76|            4.761904762|      23.288|   8.4|\n",
            "|373-73-7910|     A|   Yangon|       Normal|  Male|   Sports and travel|     86.31|       7|30.2085|634.3785|2019-02-08|1970-01-01 10:37:00|    Ewallet|604.17|            4.761904762|     30.2085|   5.3|\n",
            "+-----------+------+---------+-------------+------+--------------------+----------+--------+-------+--------+----------+-------------------+-----------+------+-----------------------+------------+------+\n",
            "only showing top 5 rows\n",
            "\n"
          ]
        }
      ]
    },
    {
      "cell_type": "markdown",
      "source": [
        "## Dataframe Operations"
      ],
      "metadata": {
        "id": "pFfrwyqBhULk"
      }
    },
    {
      "cell_type": "markdown",
      "source": [
        "### Read CSV into Spark Dataframe"
      ],
      "metadata": {
        "id": "1LGAoj2Yoxva"
      }
    },
    {
      "cell_type": "code",
      "source": [
        "# Relaod Supermarket Sales Data WITH HEADERS\n",
        "# Original File has had its header line deleted\n",
        "#\n",
        "#!wget -O SuperMarketSales.csv -q 'https://github.com/Praxis-QR/BDSN/raw/main/Data2/SuperMarketSales.csv'"
      ],
      "metadata": {
        "id": "rR6h31oJIrQh"
      },
      "execution_count": 41,
      "outputs": []
    },
    {
      "cell_type": "code",
      "source": [
        "# Date is not inferred correctly\n",
        "# Needs to be fixed in next step\n",
        "#\n",
        "sales_df2 = spark39.read.format(\"csv\").option(\"header\", \"true\").option(\"inferSchema\", \"true\").load(\"./SuperMarketSales.csv\")\n",
        "#sales_df2.printSchema()\n",
        "#sales_df2.show(5)"
      ],
      "metadata": {
        "id": "hHD1IOKfo0im"
      },
      "execution_count": 42,
      "outputs": []
    },
    {
      "cell_type": "code",
      "source": [
        "sales_df2 = sales_df2.withColumn('Date',to_date(col('Date'), \"M/d/y\"))\n",
        "sales_df2.printSchema()\n",
        "sales_df2.show(5)"
      ],
      "metadata": {
        "id": "LbinD7CNnX9A",
        "outputId": "631276dc-cf59-4736-f749-827f36d3ea6e",
        "colab": {
          "base_uri": "https://localhost:8080/"
        }
      },
      "execution_count": 43,
      "outputs": [
        {
          "output_type": "stream",
          "name": "stdout",
          "text": [
            "root\n",
            " |-- Invoice ID: string (nullable = true)\n",
            " |-- Branch: string (nullable = true)\n",
            " |-- City: string (nullable = true)\n",
            " |-- Customer type: string (nullable = true)\n",
            " |-- Gender: string (nullable = true)\n",
            " |-- Product line: string (nullable = true)\n",
            " |-- Unit price: double (nullable = true)\n",
            " |-- Quantity: integer (nullable = true)\n",
            " |-- Tax 5%: double (nullable = true)\n",
            " |-- Total: double (nullable = true)\n",
            " |-- Date: date (nullable = true)\n",
            " |-- Time: timestamp (nullable = true)\n",
            " |-- Payment: string (nullable = true)\n",
            " |-- cogs: double (nullable = true)\n",
            " |-- gross margin percentage: double (nullable = true)\n",
            " |-- gross income: double (nullable = true)\n",
            " |-- Rating: double (nullable = true)\n",
            "\n",
            "+-----------+------+---------+-------------+------+--------------------+----------+--------+-------+--------+----------+-------------------+-----------+------+-----------------------+------------+------+\n",
            "| Invoice ID|Branch|     City|Customer type|Gender|        Product line|Unit price|Quantity| Tax 5%|   Total|      Date|               Time|    Payment|  cogs|gross margin percentage|gross income|Rating|\n",
            "+-----------+------+---------+-------------+------+--------------------+----------+--------+-------+--------+----------+-------------------+-----------+------+-----------------------+------------+------+\n",
            "|750-67-8428|     A|   Yangon|       Member|Female|   Health and beauty|     74.69|       7|26.1415|548.9715|2019-01-05|2024-04-29 13:08:00|    Ewallet|522.83|            4.761904762|     26.1415|   9.1|\n",
            "|226-31-3081|     C|Naypyitaw|       Normal|Female|Electronic access...|     15.28|       5|   3.82|   80.22|2019-03-08|2024-04-29 10:29:00|       Cash|  76.4|            4.761904762|        3.82|   9.6|\n",
            "|631-41-3108|     A|   Yangon|       Normal|  Male|  Home and lifestyle|     46.33|       7|16.2155|340.5255|2019-03-03|2024-04-29 13:23:00|Credit card|324.31|            4.761904762|     16.2155|   7.4|\n",
            "|123-19-1176|     A|   Yangon|       Member|  Male|   Health and beauty|     58.22|       8| 23.288| 489.048|2019-01-27|2024-04-29 20:33:00|    Ewallet|465.76|            4.761904762|      23.288|   8.4|\n",
            "|373-73-7910|     A|   Yangon|       Normal|  Male|   Sports and travel|     86.31|       7|30.2085|634.3785|2019-02-08|2024-04-29 10:37:00|    Ewallet|604.17|            4.761904762|     30.2085|   5.3|\n",
            "+-----------+------+---------+-------------+------+--------------------+----------+--------+-------+--------+----------+-------------------+-----------+------+-----------------------+------------+------+\n",
            "only showing top 5 rows\n",
            "\n"
          ]
        }
      ]
    },
    {
      "cell_type": "markdown",
      "source": [
        "### Display a subset of columns"
      ],
      "metadata": {
        "id": "3hVL_rkzX2x8"
      }
    },
    {
      "cell_type": "code",
      "source": [
        "# All three works\n",
        "#\n",
        "#sales_df2.select(sales_df2['Invoice ID'], sales_df2['gross income'],sales_df2['City'],sales_df2['Payment']).show(truncate=False)\n",
        "#sales_df2.select(['Invoice ID','gross income','City','Payment']).show(truncate=False)\n",
        "sales_df2['Invoice ID','gross income','City','Payment'].show(truncate=False)"
      ],
      "metadata": {
        "id": "O7XlvwM7X8MF",
        "outputId": "cbdd0b73-03e0-4fc5-d509-a98dfdf84f15",
        "colab": {
          "base_uri": "https://localhost:8080/"
        }
      },
      "execution_count": 44,
      "outputs": [
        {
          "output_type": "stream",
          "name": "stdout",
          "text": [
            "+-----------+------------+---------+-----------+\n",
            "|Invoice ID |gross income|City     |Payment    |\n",
            "+-----------+------------+---------+-----------+\n",
            "|750-67-8428|26.1415     |Yangon   |Ewallet    |\n",
            "|226-31-3081|3.82        |Naypyitaw|Cash       |\n",
            "|631-41-3108|16.2155     |Yangon   |Credit card|\n",
            "|123-19-1176|23.288      |Yangon   |Ewallet    |\n",
            "|373-73-7910|30.2085     |Yangon   |Ewallet    |\n",
            "|699-14-3026|29.8865     |Naypyitaw|Ewallet    |\n",
            "|355-53-5943|20.652      |Yangon   |Ewallet    |\n",
            "|315-22-5665|36.78       |Naypyitaw|Ewallet    |\n",
            "|665-32-9167|3.626       |Yangon   |Credit card|\n",
            "|692-92-5582|8.226       |Mandalay |Credit card|\n",
            "|351-62-0822|2.896       |Mandalay |Ewallet    |\n",
            "|529-56-3974|5.102       |Mandalay |Cash       |\n",
            "|365-64-0515|11.7375     |Yangon   |Ewallet    |\n",
            "|252-56-2699|21.595      |Yangon   |Ewallet    |\n",
            "|829-34-3910|35.69       |Yangon   |Cash       |\n",
            "|299-46-1805|28.116      |Mandalay |Cash       |\n",
            "|656-95-9349|24.1255     |Yangon   |Credit card|\n",
            "|765-26-6951|21.783      |Yangon   |Credit card|\n",
            "|329-62-1586|8.2005      |Yangon   |Credit card|\n",
            "|319-50-3348|4.03        |Mandalay |Ewallet    |\n",
            "+-----------+------------+---------+-----------+\n",
            "only showing top 20 rows\n",
            "\n"
          ]
        }
      ]
    },
    {
      "cell_type": "code",
      "source": [
        "sales_df2['Invoice ID','gross income','City','Payment'].orderBy('City','gross income',ascending=False).show(truncate=False)"
      ],
      "metadata": {
        "id": "y5A608yur5ne",
        "outputId": "0a119ad9-e955-4dce-bce6-8dfd2f658f19",
        "colab": {
          "base_uri": "https://localhost:8080/"
        }
      },
      "execution_count": 45,
      "outputs": [
        {
          "output_type": "stream",
          "name": "stdout",
          "text": [
            "+-----------+------------+------+-----------+\n",
            "|Invoice ID |gross income|City  |Payment    |\n",
            "+-----------+------------+------+-----------+\n",
            "|687-47-8271|49.49       |Yangon|Credit card|\n",
            "|325-77-6186|45.325      |Yangon|Ewallet    |\n",
            "|384-59-6655|44.397      |Yangon|Cash       |\n",
            "|704-48-3927|44.335      |Yangon|Ewallet    |\n",
            "|827-77-7633|44.1405     |Yangon|Cash       |\n",
            "|139-32-4183|43.866      |Yangon|Ewallet    |\n",
            "|805-86-0265|42.282      |Yangon|Cash       |\n",
            "|698-98-5964|40.605      |Yangon|Credit card|\n",
            "|138-17-5109|40.1445     |Yangon|Credit card|\n",
            "|638-60-7125|39.824      |Yangon|Credit card|\n",
            "|232-11-3025|39.385      |Yangon|Cash       |\n",
            "|652-43-6591|38.916      |Yangon|Credit card|\n",
            "|880-46-5796|38.46       |Yangon|Ewallet    |\n",
            "|746-94-0204|37.458      |Yangon|Credit card|\n",
            "|453-33-6436|37.248      |Yangon|Cash       |\n",
            "|243-55-8457|37.22       |Yangon|Ewallet    |\n",
            "|416-17-9926|37.11       |Yangon|Credit card|\n",
            "|884-80-6021|36.735      |Yangon|Ewallet    |\n",
            "|742-04-5161|36.39       |Yangon|Cash       |\n",
            "|817-48-8732|36.175      |Yangon|Cash       |\n",
            "+-----------+------------+------+-----------+\n",
            "only showing top 20 rows\n",
            "\n"
          ]
        }
      ]
    },
    {
      "cell_type": "markdown",
      "source": [
        "### Display a subset of rows\n",
        "\"where\" Condition in SQL"
      ],
      "metadata": {
        "id": "amKo5V-9be3c"
      }
    },
    {
      "cell_type": "code",
      "source": [
        "sales_df2['Invoice ID','gross income','City','Payment'][sales_df2['City'] == 'Yangon'].show(truncate=False)"
      ],
      "metadata": {
        "id": "7Ywj76doa0ch",
        "outputId": "7b3d2cf9-ea7f-4533-d974-d5a055808f3a",
        "colab": {
          "base_uri": "https://localhost:8080/"
        }
      },
      "execution_count": 46,
      "outputs": [
        {
          "output_type": "stream",
          "name": "stdout",
          "text": [
            "+-----------+------------+------+-----------+\n",
            "|Invoice ID |gross income|City  |Payment    |\n",
            "+-----------+------------+------+-----------+\n",
            "|750-67-8428|26.1415     |Yangon|Ewallet    |\n",
            "|631-41-3108|16.2155     |Yangon|Credit card|\n",
            "|123-19-1176|23.288      |Yangon|Ewallet    |\n",
            "|373-73-7910|30.2085     |Yangon|Ewallet    |\n",
            "|355-53-5943|20.652      |Yangon|Ewallet    |\n",
            "|665-32-9167|3.626       |Yangon|Credit card|\n",
            "|365-64-0515|11.7375     |Yangon|Ewallet    |\n",
            "|252-56-2699|21.595      |Yangon|Ewallet    |\n",
            "|829-34-3910|35.69       |Yangon|Cash       |\n",
            "|656-95-9349|24.1255     |Yangon|Credit card|\n",
            "|765-26-6951|21.783      |Yangon|Credit card|\n",
            "|329-62-1586|8.2005      |Yangon|Credit card|\n",
            "|636-48-8204|8.64        |Yangon|Ewallet    |\n",
            "|549-59-1358|13.2945     |Yangon|Ewallet    |\n",
            "|227-03-5010|21.036      |Yangon|Credit card|\n",
            "|189-17-4241|8.767       |Yangon|Credit card|\n",
            "|848-62-7243|11.2005     |Yangon|Cash       |\n",
            "|595-11-5460|9.658       |Yangon|Credit card|\n",
            "|129-29-8530|15.655      |Yangon|Ewallet    |\n",
            "|272-65-1806|27.396      |Yangon|Ewallet    |\n",
            "+-----------+------------+------+-----------+\n",
            "only showing top 20 rows\n",
            "\n"
          ]
        }
      ]
    },
    {
      "cell_type": "markdown",
      "source": [
        "#### AND | OR"
      ],
      "metadata": {
        "id": "xCJfCMi7cHBE"
      }
    },
    {
      "cell_type": "code",
      "source": [
        "sales_df2['Invoice ID','gross income','City','Payment'][(sales_df2['City'] == 'Yangon') & (sales_df2['Payment'] == 'Ewallet')].\\\n",
        "    show(truncate=False)"
      ],
      "metadata": {
        "id": "gGoaH9pJbwMC",
        "outputId": "b8e2e79a-4c57-4fcb-cfca-511bed6129b9",
        "colab": {
          "base_uri": "https://localhost:8080/"
        }
      },
      "execution_count": 47,
      "outputs": [
        {
          "output_type": "stream",
          "name": "stdout",
          "text": [
            "+-----------+------------+------+-------+\n",
            "|Invoice ID |gross income|City  |Payment|\n",
            "+-----------+------------+------+-------+\n",
            "|750-67-8428|26.1415     |Yangon|Ewallet|\n",
            "|123-19-1176|23.288      |Yangon|Ewallet|\n",
            "|373-73-7910|30.2085     |Yangon|Ewallet|\n",
            "|355-53-5943|20.652      |Yangon|Ewallet|\n",
            "|365-64-0515|11.7375     |Yangon|Ewallet|\n",
            "|252-56-2699|21.595      |Yangon|Ewallet|\n",
            "|636-48-8204|8.64        |Yangon|Ewallet|\n",
            "|549-59-1358|13.2945     |Yangon|Ewallet|\n",
            "|129-29-8530|15.655      |Yangon|Ewallet|\n",
            "|272-65-1806|27.396      |Yangon|Ewallet|\n",
            "|635-40-6220|35.84       |Yangon|Ewallet|\n",
            "|287-21-9091|33.6015     |Yangon|Ewallet|\n",
            "|873-51-0671|7.693       |Yangon|Ewallet|\n",
            "|594-34-4444|4.858       |Yangon|Ewallet|\n",
            "|865-92-6136|7.9125      |Yangon|Ewallet|\n",
            "|704-48-3927|44.335      |Yangon|Ewallet|\n",
            "|645-44-1170|26.1315     |Yangon|Ewallet|\n",
            "|642-32-2990|5.48        |Yangon|Ewallet|\n",
            "|575-30-8091|29.0        |Yangon|Ewallet|\n",
            "|239-10-7476|23.385      |Yangon|Ewallet|\n",
            "+-----------+------------+------+-------+\n",
            "only showing top 20 rows\n",
            "\n"
          ]
        }
      ]
    },
    {
      "cell_type": "code",
      "source": [
        "sales_df2['Invoice ID','gross income','City','Payment'][(sales_df2['City'] == 'Yangon') | (sales_df2['Payment'] == 'Ewallet')].\\\n",
        "    show(truncate=False)"
      ],
      "metadata": {
        "id": "aX938XJecQ8Z",
        "outputId": "8b930899-99b0-494d-f420-2b0d59333953",
        "colab": {
          "base_uri": "https://localhost:8080/"
        }
      },
      "execution_count": 48,
      "outputs": [
        {
          "output_type": "stream",
          "name": "stdout",
          "text": [
            "+-----------+------------+---------+-----------+\n",
            "|Invoice ID |gross income|City     |Payment    |\n",
            "+-----------+------------+---------+-----------+\n",
            "|750-67-8428|26.1415     |Yangon   |Ewallet    |\n",
            "|631-41-3108|16.2155     |Yangon   |Credit card|\n",
            "|123-19-1176|23.288      |Yangon   |Ewallet    |\n",
            "|373-73-7910|30.2085     |Yangon   |Ewallet    |\n",
            "|699-14-3026|29.8865     |Naypyitaw|Ewallet    |\n",
            "|355-53-5943|20.652      |Yangon   |Ewallet    |\n",
            "|315-22-5665|36.78       |Naypyitaw|Ewallet    |\n",
            "|665-32-9167|3.626       |Yangon   |Credit card|\n",
            "|351-62-0822|2.896       |Mandalay |Ewallet    |\n",
            "|365-64-0515|11.7375     |Yangon   |Ewallet    |\n",
            "|252-56-2699|21.595      |Yangon   |Ewallet    |\n",
            "|829-34-3910|35.69       |Yangon   |Cash       |\n",
            "|656-95-9349|24.1255     |Yangon   |Credit card|\n",
            "|765-26-6951|21.783      |Yangon   |Credit card|\n",
            "|329-62-1586|8.2005      |Yangon   |Credit card|\n",
            "|319-50-3348|4.03        |Mandalay |Ewallet    |\n",
            "|300-71-4605|21.51       |Naypyitaw|Ewallet    |\n",
            "|371-85-5789|13.197      |Mandalay |Ewallet    |\n",
            "|636-48-8204|8.64        |Yangon   |Ewallet    |\n",
            "|549-59-1358|13.2945     |Yangon   |Ewallet    |\n",
            "+-----------+------------+---------+-----------+\n",
            "only showing top 20 rows\n",
            "\n"
          ]
        }
      ]
    },
    {
      "cell_type": "markdown",
      "source": [
        "### Aggregation | Group By"
      ],
      "metadata": {
        "id": "EANBWvIsdfx6"
      }
    },
    {
      "cell_type": "code",
      "source": [
        "sales_df2.groupBy('Payment','City').count().show()"
      ],
      "metadata": {
        "id": "-gmb9b7Ud3zr",
        "outputId": "c2ab4f7e-6615-4696-a59e-20808305e796",
        "colab": {
          "base_uri": "https://localhost:8080/"
        }
      },
      "execution_count": 49,
      "outputs": [
        {
          "output_type": "stream",
          "name": "stdout",
          "text": [
            "+-----------+---------+-----+\n",
            "|    Payment|     City|count|\n",
            "+-----------+---------+-----+\n",
            "|Credit card| Mandalay|  109|\n",
            "|Credit card|Naypyitaw|   98|\n",
            "|       Cash|Naypyitaw|  124|\n",
            "|       Cash|   Yangon|  110|\n",
            "|    Ewallet| Mandalay|  113|\n",
            "|Credit card|   Yangon|  104|\n",
            "|    Ewallet|Naypyitaw|  106|\n",
            "|       Cash| Mandalay|  110|\n",
            "|    Ewallet|   Yangon|  126|\n",
            "+-----------+---------+-----+\n",
            "\n"
          ]
        }
      ]
    },
    {
      "cell_type": "code",
      "source": [
        "sales_df2['Payment','City','Quantity'].groupBy('Payment','City').sum().show()"
      ],
      "metadata": {
        "id": "iQimyGcseeT7",
        "outputId": "8cb0ce22-c925-45e1-d56d-8c9b8a19375f",
        "colab": {
          "base_uri": "https://localhost:8080/"
        }
      },
      "execution_count": 50,
      "outputs": [
        {
          "output_type": "stream",
          "name": "stdout",
          "text": [
            "+-----------+---------+-------------+\n",
            "|    Payment|     City|sum(Quantity)|\n",
            "+-----------+---------+-------------+\n",
            "|Credit card| Mandalay|          599|\n",
            "|Credit card|Naypyitaw|          543|\n",
            "|       Cash|Naypyitaw|          696|\n",
            "|       Cash|   Yangon|          572|\n",
            "|    Ewallet| Mandalay|          593|\n",
            "|Credit card|   Yangon|          580|\n",
            "|    Ewallet|Naypyitaw|          592|\n",
            "|       Cash| Mandalay|          628|\n",
            "|    Ewallet|   Yangon|          707|\n",
            "+-----------+---------+-------------+\n",
            "\n"
          ]
        }
      ]
    },
    {
      "cell_type": "code",
      "source": [
        "sales_df2['Payment','Quantity','gross income'].groupBy('Payment').mean().show()"
      ],
      "metadata": {
        "id": "25NYm6umgSZY",
        "outputId": "0717c12b-86da-4717-e126-8db2c9f3b886",
        "colab": {
          "base_uri": "https://localhost:8080/"
        }
      },
      "execution_count": 51,
      "outputs": [
        {
          "output_type": "stream",
          "name": "stdout",
          "text": [
            "+-----------+-----------------+------------------+\n",
            "|    Payment|    avg(Quantity)| avg(gross income)|\n",
            "+-----------+-----------------+------------------+\n",
            "|    Ewallet|5.484057971014493|15.181933333333335|\n",
            "|       Cash|5.511627906976744|15.532470930232577|\n",
            "|Credit card|5.536977491961415| 15.42904180064309|\n",
            "+-----------+-----------------+------------------+\n",
            "\n"
          ]
        }
      ]
    },
    {
      "cell_type": "code",
      "source": [
        "# This is REALLY CLEVER\n",
        "#\n",
        "groupBy51 = ['Payment']\n",
        "aggregate51 = ['gross income','Quantity']\n",
        "#funs = [mean, sum, max]\n",
        "funs = [count,mean, sum]\n",
        "\n",
        "exprs51 = [f(col(c)) for f in funs for c in aggregate51]\n",
        "\n",
        "sales_df2['Payment','Quantity','gross income'].groupBy(groupBy51).agg(*exprs51).show()"
      ],
      "metadata": {
        "id": "Ij0Ao37giQqr",
        "outputId": "1ab9237c-e7ac-4319-ae16-16054d0f89a1",
        "colab": {
          "base_uri": "https://localhost:8080/"
        }
      },
      "execution_count": 52,
      "outputs": [
        {
          "output_type": "stream",
          "name": "stdout",
          "text": [
            "+-----------+-------------------+---------------+------------------+-----------------+-----------------+-------------+\n",
            "|    Payment|count(gross income)|count(Quantity)| avg(gross income)|    avg(Quantity)|sum(gross income)|sum(Quantity)|\n",
            "+-----------+-------------------+---------------+------------------+-----------------+-----------------+-------------+\n",
            "|    Ewallet|                345|            345|15.181933333333335|5.484057971014493|5237.767000000001|         1892|\n",
            "|       Cash|                344|            344|15.532470930232577|5.511627906976744|5343.170000000006|         1896|\n",
            "|Credit card|                311|            311| 15.42904180064309|5.536977491961415|4798.432000000001|         1722|\n",
            "+-----------+-------------------+---------------+------------------+-----------------+-----------------+-------------+\n",
            "\n"
          ]
        }
      ]
    },
    {
      "cell_type": "markdown",
      "source": [
        "### SQL Table Operations"
      ],
      "metadata": {
        "id": "PufIPWYghgKy"
      }
    },
    {
      "cell_type": "markdown",
      "source": [
        "#### Dataframe to Temporary Table"
      ],
      "metadata": {
        "id": "gjSUFvSgsIAK"
      }
    },
    {
      "cell_type": "code",
      "source": [
        "sales_df2.createOrReplaceTempView(\"tSales\")\n",
        "spark39.sql(\"describe tSales\").show()"
      ],
      "metadata": {
        "id": "QtGXv1vdsUv7",
        "outputId": "4cd7c8ba-f460-4de6-a2c4-8af3b3068df1",
        "colab": {
          "base_uri": "https://localhost:8080/"
        }
      },
      "execution_count": 53,
      "outputs": [
        {
          "output_type": "stream",
          "name": "stdout",
          "text": [
            "+--------------------+---------+-------+\n",
            "|            col_name|data_type|comment|\n",
            "+--------------------+---------+-------+\n",
            "|          Invoice ID|   string|   NULL|\n",
            "|              Branch|   string|   NULL|\n",
            "|                City|   string|   NULL|\n",
            "|       Customer type|   string|   NULL|\n",
            "|              Gender|   string|   NULL|\n",
            "|        Product line|   string|   NULL|\n",
            "|          Unit price|   double|   NULL|\n",
            "|            Quantity|      int|   NULL|\n",
            "|              Tax 5%|   double|   NULL|\n",
            "|               Total|   double|   NULL|\n",
            "|                Date|     date|   NULL|\n",
            "|                Time|timestamp|   NULL|\n",
            "|             Payment|   string|   NULL|\n",
            "|                cogs|   double|   NULL|\n",
            "|gross margin perc...|   double|   NULL|\n",
            "|        gross income|   double|   NULL|\n",
            "|              Rating|   double|   NULL|\n",
            "+--------------------+---------+-------+\n",
            "\n"
          ]
        }
      ]
    },
    {
      "cell_type": "code",
      "source": [
        "spark39.sql(\"show tables\").show()\n",
        "spark39.sql(\"select * from tsales limit 3\").show()"
      ],
      "metadata": {
        "id": "kBCxzrIrssZA",
        "outputId": "93746e70-7a36-4313-aa4a-cc711ce99f4f",
        "colab": {
          "base_uri": "https://localhost:8080/"
        }
      },
      "execution_count": 54,
      "outputs": [
        {
          "output_type": "stream",
          "name": "stdout",
          "text": [
            "+---------+---------+-----------+\n",
            "|namespace|tableName|isTemporary|\n",
            "+---------+---------+-----------+\n",
            "|         |   tsales|       true|\n",
            "+---------+---------+-----------+\n",
            "\n",
            "+-----------+------+---------+-------------+------+--------------------+----------+--------+-------+--------+----------+-------------------+-----------+------+-----------------------+------------+------+\n",
            "| Invoice ID|Branch|     City|Customer type|Gender|        Product line|Unit price|Quantity| Tax 5%|   Total|      Date|               Time|    Payment|  cogs|gross margin percentage|gross income|Rating|\n",
            "+-----------+------+---------+-------------+------+--------------------+----------+--------+-------+--------+----------+-------------------+-----------+------+-----------------------+------------+------+\n",
            "|750-67-8428|     A|   Yangon|       Member|Female|   Health and beauty|     74.69|       7|26.1415|548.9715|2019-01-05|2024-04-29 13:08:00|    Ewallet|522.83|            4.761904762|     26.1415|   9.1|\n",
            "|226-31-3081|     C|Naypyitaw|       Normal|Female|Electronic access...|     15.28|       5|   3.82|   80.22|2019-03-08|2024-04-29 10:29:00|       Cash|  76.4|            4.761904762|        3.82|   9.6|\n",
            "|631-41-3108|     A|   Yangon|       Normal|  Male|  Home and lifestyle|     46.33|       7|16.2155|340.5255|2019-03-03|2024-04-29 13:23:00|Credit card|324.31|            4.761904762|     16.2155|   7.4|\n",
            "+-----------+------+---------+-------------+------+--------------------+----------+--------+-------+--------+----------+-------------------+-----------+------+-----------------------+------------+------+\n",
            "\n"
          ]
        }
      ]
    },
    {
      "cell_type": "markdown",
      "source": [
        "#### SQL Based Analysis"
      ],
      "metadata": {
        "id": "rVE9KiBLFNqf"
      }
    },
    {
      "cell_type": "code",
      "source": [
        "# NOTE backtick ` used to enclose column names with spaces inside!\n",
        "spark39.sql(\"select payment, count(*), sum(quantity), avg(quantity), sum(`gross income`), avg(`gross income`) from tsales group by payment \").show()"
      ],
      "metadata": {
        "colab": {
          "base_uri": "https://localhost:8080/"
        },
        "id": "tKRZR8rCFZTt",
        "outputId": "7ced754f-f5cc-4b64-864f-13fb3dea4c6c"
      },
      "execution_count": 55,
      "outputs": [
        {
          "output_type": "stream",
          "name": "stdout",
          "text": [
            "+-----------+--------+-------------+-----------------+-----------------+------------------+\n",
            "|    payment|count(1)|sum(quantity)|    avg(quantity)|sum(gross income)| avg(gross income)|\n",
            "+-----------+--------+-------------+-----------------+-----------------+------------------+\n",
            "|    Ewallet|     345|         1892|5.484057971014493|5237.767000000001|15.181933333333335|\n",
            "|       Cash|     344|         1896|5.511627906976744|5343.170000000006|15.532470930232577|\n",
            "|Credit card|     311|         1722|5.536977491961415|4798.432000000001| 15.42904180064309|\n",
            "+-----------+--------+-------------+-----------------+-----------------+------------------+\n",
            "\n"
          ]
        }
      ]
    },
    {
      "cell_type": "markdown",
      "source": [
        "#### Temporary to Permanent Table"
      ],
      "metadata": {
        "id": "nLfenbuolPFX"
      }
    },
    {
      "cell_type": "code",
      "source": [
        "#sql_drop_table = \"\"\"drop table if exists praxisdb.sales_T\"\"\"\n",
        "#sql_drop_database = \"\"\"drop database if exists praxisdb cascade\"\"\"\n",
        "#sql_create_database = \"\"\"create database if not exists praxisdb location '/content/praxisdb/'\"\"\"\n",
        "#sql_create_table = \"\"\"create table if not exists praxisdb.sales_T using parquet as select  * from tSales\"\"\"\n",
        "\n",
        "spark39.sql(\"drop table if exists praxisdb.sales_T\")\n",
        "spark39.sql(\"drop database if exists praxisdb cascade\")\n",
        "spark39.sql(\"create database if not exists praxisdb location '/content/praxisdb/'\")\n",
        "spark39.sql(\"create table if not exists praxisdb.sales_T using parquet as select  * from tSales\")"
      ],
      "metadata": {
        "id": "TYIPqzuItXXO",
        "outputId": "d99cdfb3-509b-460c-f270-abf810f93eef",
        "colab": {
          "base_uri": "https://localhost:8080/"
        }
      },
      "execution_count": 56,
      "outputs": [
        {
          "output_type": "execute_result",
          "data": {
            "text/plain": [
              "DataFrame[]"
            ]
          },
          "metadata": {},
          "execution_count": 56
        }
      ]
    },
    {
      "cell_type": "code",
      "source": [
        "spark39.sql(\"use praxisdb\")\n",
        "spark39.sql(\"show tables\").show()"
      ],
      "metadata": {
        "id": "4clewVjTszG6",
        "outputId": "3f8339b0-34ca-452c-e7ae-ec81d304bae2",
        "colab": {
          "base_uri": "https://localhost:8080/"
        }
      },
      "execution_count": 57,
      "outputs": [
        {
          "output_type": "stream",
          "name": "stdout",
          "text": [
            "+---------+---------+-----------+\n",
            "|namespace|tableName|isTemporary|\n",
            "+---------+---------+-----------+\n",
            "| praxisdb|  sales_t|      false|\n",
            "|         |   tsales|       true|\n",
            "+---------+---------+-----------+\n",
            "\n"
          ]
        }
      ]
    },
    {
      "cell_type": "code",
      "source": [
        "#spark39.sql(\"select `gross income` from praxisdb.sales_t\").show()"
      ],
      "metadata": {
        "id": "95EkBGJcGpmF"
      },
      "execution_count": 58,
      "outputs": []
    },
    {
      "cell_type": "code",
      "source": [
        "spark39.sql(\"select * from praxisdb.sales_t limit 5\").show()"
      ],
      "metadata": {
        "id": "awQOz6NpuvzR",
        "outputId": "dd58ff6c-6926-40f0-ae40-7be67edc8315",
        "colab": {
          "base_uri": "https://localhost:8080/"
        }
      },
      "execution_count": 59,
      "outputs": [
        {
          "output_type": "stream",
          "name": "stdout",
          "text": [
            "+-----------+------+---------+-------------+------+--------------------+----------+--------+-------+--------+----------+-------------------+-----------+------+-----------------------+------------+------+\n",
            "| Invoice ID|Branch|     City|Customer type|Gender|        Product line|Unit price|Quantity| Tax 5%|   Total|      Date|               Time|    Payment|  cogs|gross margin percentage|gross income|Rating|\n",
            "+-----------+------+---------+-------------+------+--------------------+----------+--------+-------+--------+----------+-------------------+-----------+------+-----------------------+------------+------+\n",
            "|750-67-8428|     A|   Yangon|       Member|Female|   Health and beauty|     74.69|       7|26.1415|548.9715|2019-01-05|2024-04-29 13:08:00|    Ewallet|522.83|            4.761904762|     26.1415|   9.1|\n",
            "|226-31-3081|     C|Naypyitaw|       Normal|Female|Electronic access...|     15.28|       5|   3.82|   80.22|2019-03-08|2024-04-29 10:29:00|       Cash|  76.4|            4.761904762|        3.82|   9.6|\n",
            "|631-41-3108|     A|   Yangon|       Normal|  Male|  Home and lifestyle|     46.33|       7|16.2155|340.5255|2019-03-03|2024-04-29 13:23:00|Credit card|324.31|            4.761904762|     16.2155|   7.4|\n",
            "|123-19-1176|     A|   Yangon|       Member|  Male|   Health and beauty|     58.22|       8| 23.288| 489.048|2019-01-27|2024-04-29 20:33:00|    Ewallet|465.76|            4.761904762|      23.288|   8.4|\n",
            "|373-73-7910|     A|   Yangon|       Normal|  Male|   Sports and travel|     86.31|       7|30.2085|634.3785|2019-02-08|2024-04-29 10:37:00|    Ewallet|604.17|            4.761904762|     30.2085|   5.3|\n",
            "+-----------+------+---------+-------------+------+--------------------+----------+--------+-------+--------+----------+-------------------+-----------+------+-----------------------+------------+------+\n",
            "\n"
          ]
        }
      ]
    },
    {
      "cell_type": "markdown",
      "source": [
        "# NetFlix Data"
      ],
      "metadata": {
        "id": "_OVWDjn61Tdv"
      }
    },
    {
      "cell_type": "code",
      "source": [
        "!head NetFlix.csv"
      ],
      "metadata": {
        "colab": {
          "base_uri": "https://localhost:8080/"
        },
        "id": "GSlGUkU81ZUt",
        "outputId": "88fdc4d6-f86a-4c2f-e733-b6c990fa82bc"
      },
      "execution_count": 60,
      "outputs": [
        {
          "output_type": "stream",
          "name": "stdout",
          "text": [
            "show_id,type,title,director,cast,country,date_added,release_year,rating,duration,listed_in,description\n",
            "s1,TV Show,3%,,\"João Miguel, Bianca Comparato, Michel Gomes, Rodolfo Valente, Vaneza Oliveira, Rafael Lozano, Viviane Porto, Mel Fronckowiak, Sergio Mamberti, Zezé Motta, Celso Frateschi\",Brazil,\"August 14, 2020\",2020,TV-MA,4 Seasons,\"International TV Shows, TV Dramas, TV Sci-Fi & Fantasy\",\"In a future where the elite inhabit an island paradise far from the crowded slums, you get one chance to join the 3% saved from squalor.\"\n",
            "s2,Movie,7:19,Jorge Michel Grau,\"Demián Bichir, Héctor Bonilla, Oscar Serrano, Azalia Ortiz, Octavio Michel, Carmen Beato\",Mexico,\"December 23, 2016\",2016,TV-MA,93 min,\"Dramas, International Movies\",\"After a devastating earthquake hits Mexico City, trapped survivors from all walks of life wait to be rescued while trying desperately to stay alive.\"\n",
            "s3,Movie,23:59,Gilbert Chan,\"Tedd Chan, Stella Chung, Henley Hii, Lawrence Koh, Tommy Kuan, Josh Lai, Mark Lee, Susan Leong, Benjamin Lim\",Singapore,\"December 20, 2018\",2011,R,78 min,\"Horror Movies, International Movies\",\"When an army recruit is found dead, his fellow soldiers are forced to confront a terrifying secret that's haunting their jungle island training camp.\"\n",
            "s4,Movie,9,Shane Acker,\"Elijah Wood, John C. Reilly, Jennifer Connelly, Christopher Plummer, Crispin Glover, Martin Landau, Fred Tatasciore, Alan Oppenheimer, Tom Kane\",United States,\"November 16, 2017\",2009,PG-13,80 min,\"Action & Adventure, Independent Movies, Sci-Fi & Fantasy\",\"In a postapocalyptic world, rag-doll robots hide in fear from dangerous machines out to exterminate them, until a brave newcomer joins the group.\"\n",
            "s5,Movie,21,Robert Luketic,\"Jim Sturgess, Kevin Spacey, Kate Bosworth, Aaron Yoo, Liza Lapira, Jacob Pitts, Laurence Fishburne, Jack McGee, Josh Gad, Sam Golzari, Helen Carey, Jack Gilpin\",United States,\"January 1, 2020\",2008,PG-13,123 min,Dramas,A brilliant group of students become card-counting experts with the intent of swindling millions out of Las Vegas casinos by playing blackjack.\n",
            "s6,TV Show,46,Serdar Akar,\"Erdal Beşikçioğlu, Yasemin Allen, Melis Birkan, Saygın Soysal, Berkan Şal, Metin Belgin, Ayça Eren, Selin Uludoğan, Özay Fecht, Suna Yıldızoğlu\",Turkey,\"July 1, 2017\",2016,TV-MA,1 Season,\"International TV Shows, TV Dramas, TV Mysteries\",\"A genetics professor experiments with a treatment for his comatose sister that blends medical and shamanic cures, but unlocks a shocking side effect.\"\n",
            "s7,Movie,122,Yasir Al Yasiri,\"Amina Khalil, Ahmed Dawood, Tarek Lotfy, Ahmed El Fishawy, Mahmoud Hijazi, Jihane Khalil, Asmaa Galal, Tara Emad\",Egypt,\"June 1, 2020\",2019,TV-MA,95 min,\"Horror Movies, International Movies\",\"After an awful accident, a couple admitted to a grisly hospital are separated and must find each other to escape — before death finds them.\"\n",
            "s8,Movie,187,Kevin Reynolds,\"Samuel L. Jackson, John Heard, Kelly Rowan, Clifton Collins Jr., Tony Plana\",United States,\"November 1, 2019\",1997,R,119 min,Dramas,\"After one of his high school students attacks him, dedicated teacher Trevor Garfield grows weary of the gang warfare in the New York City school system and moves to California to teach there, thinking it must be a less hostile environment.\"\n",
            "s9,Movie,706,Shravan Kumar,\"Divya Dutta, Atul Kulkarni, Mohan Agashe, Anupam Shyam, Raayo S. Bakhirta, Yashvit Sancheti, Greeva Kansara, Archan Trivedi, Rajiv Pathak\",India,\"April 1, 2019\",2019,TV-14,118 min,\"Horror Movies, International Movies\",\"When a doctor goes missing, his psychiatrist wife treats the bizarre medical condition of a psychic patient, who knows much more than he's leading on.\"\n"
          ]
        }
      ]
    },
    {
      "cell_type": "markdown",
      "source": [
        "## Dataframe Operations"
      ],
      "metadata": {
        "id": "PbMtDqjf8xyP"
      }
    },
    {
      "cell_type": "code",
      "source": [
        "netflix_df1 = spark39.read.format(\"csv\").option(\"header\", \"true\").option(\"inferSchema\", \"true\").load(\"/content/NetFlix.csv\")\n",
        "#netflix_df1.printSchema()\n",
        "#netflix_df1.show(10, truncate=False)"
      ],
      "metadata": {
        "id": "jor6VElB81vu"
      },
      "execution_count": 61,
      "outputs": []
    },
    {
      "cell_type": "code",
      "source": [
        "netflix_df1 = netflix_df1.withColumn('date_added',to_date(col('date_added'), \"MMMM d, yyyy\"))\n",
        "netflix_df1.printSchema()\n",
        "netflix_df1.show(10, truncate=False)"
      ],
      "metadata": {
        "id": "wNcmy_0h9S60",
        "outputId": "bdcfddab-ad1a-4f0b-d706-7af7c7aada0e",
        "colab": {
          "base_uri": "https://localhost:8080/"
        }
      },
      "execution_count": 62,
      "outputs": [
        {
          "output_type": "stream",
          "name": "stdout",
          "text": [
            "root\n",
            " |-- show_id: string (nullable = true)\n",
            " |-- type: string (nullable = true)\n",
            " |-- title: string (nullable = true)\n",
            " |-- director: string (nullable = true)\n",
            " |-- cast: string (nullable = true)\n",
            " |-- country: string (nullable = true)\n",
            " |-- date_added: date (nullable = true)\n",
            " |-- release_year: string (nullable = true)\n",
            " |-- rating: string (nullable = true)\n",
            " |-- duration: string (nullable = true)\n",
            " |-- listed_in: string (nullable = true)\n",
            " |-- description: string (nullable = true)\n",
            "\n",
            "+-------+-------+-----+-----------------+--------------------------------------------------------------------------------------------------------------------------------------------------------------------------+-------------+----------+------------+------+---------+--------------------------------------------------------+-----------------------------------------------------------------------------------------------------------------------------------------------------------------------------------------------------------------------------------------------+\n",
            "|show_id|type   |title|director         |cast                                                                                                                                                                      |country      |date_added|release_year|rating|duration |listed_in                                               |description                                                                                                                                                                                                                                    |\n",
            "+-------+-------+-----+-----------------+--------------------------------------------------------------------------------------------------------------------------------------------------------------------------+-------------+----------+------------+------+---------+--------------------------------------------------------+-----------------------------------------------------------------------------------------------------------------------------------------------------------------------------------------------------------------------------------------------+\n",
            "|s1     |TV Show|3%   |NULL             |João Miguel, Bianca Comparato, Michel Gomes, Rodolfo Valente, Vaneza Oliveira, Rafael Lozano, Viviane Porto, Mel Fronckowiak, Sergio Mamberti, Zezé Motta, Celso Frateschi|Brazil       |2020-08-14|2020        |TV-MA |4 Seasons|International TV Shows, TV Dramas, TV Sci-Fi & Fantasy  |In a future where the elite inhabit an island paradise far from the crowded slums, you get one chance to join the 3% saved from squalor.                                                                                                       |\n",
            "|s2     |Movie  |7:19 |Jorge Michel Grau|Demián Bichir, Héctor Bonilla, Oscar Serrano, Azalia Ortiz, Octavio Michel, Carmen Beato                                                                                  |Mexico       |2016-12-23|2016        |TV-MA |93 min   |Dramas, International Movies                            |After a devastating earthquake hits Mexico City, trapped survivors from all walks of life wait to be rescued while trying desperately to stay alive.                                                                                           |\n",
            "|s3     |Movie  |23:59|Gilbert Chan     |Tedd Chan, Stella Chung, Henley Hii, Lawrence Koh, Tommy Kuan, Josh Lai, Mark Lee, Susan Leong, Benjamin Lim                                                              |Singapore    |2018-12-20|2011        |R     |78 min   |Horror Movies, International Movies                     |When an army recruit is found dead, his fellow soldiers are forced to confront a terrifying secret that's haunting their jungle island training camp.                                                                                          |\n",
            "|s4     |Movie  |9    |Shane Acker      |Elijah Wood, John C. Reilly, Jennifer Connelly, Christopher Plummer, Crispin Glover, Martin Landau, Fred Tatasciore, Alan Oppenheimer, Tom Kane                           |United States|2017-11-16|2009        |PG-13 |80 min   |Action & Adventure, Independent Movies, Sci-Fi & Fantasy|In a postapocalyptic world, rag-doll robots hide in fear from dangerous machines out to exterminate them, until a brave newcomer joins the group.                                                                                              |\n",
            "|s5     |Movie  |21   |Robert Luketic   |Jim Sturgess, Kevin Spacey, Kate Bosworth, Aaron Yoo, Liza Lapira, Jacob Pitts, Laurence Fishburne, Jack McGee, Josh Gad, Sam Golzari, Helen Carey, Jack Gilpin           |United States|2020-01-01|2008        |PG-13 |123 min  |Dramas                                                  |A brilliant group of students become card-counting experts with the intent of swindling millions out of Las Vegas casinos by playing blackjack.                                                                                                |\n",
            "|s6     |TV Show|46   |Serdar Akar      |Erdal Beşikçioğlu, Yasemin Allen, Melis Birkan, Saygın Soysal, Berkan Şal, Metin Belgin, Ayça Eren, Selin Uludoğan, Özay Fecht, Suna Yıldızoğlu                           |Turkey       |2017-07-01|2016        |TV-MA |1 Season |International TV Shows, TV Dramas, TV Mysteries         |A genetics professor experiments with a treatment for his comatose sister that blends medical and shamanic cures, but unlocks a shocking side effect.                                                                                          |\n",
            "|s7     |Movie  |122  |Yasir Al Yasiri  |Amina Khalil, Ahmed Dawood, Tarek Lotfy, Ahmed El Fishawy, Mahmoud Hijazi, Jihane Khalil, Asmaa Galal, Tara Emad                                                          |Egypt        |2020-06-01|2019        |TV-MA |95 min   |Horror Movies, International Movies                     |After an awful accident, a couple admitted to a grisly hospital are separated and must find each other to escape — before death finds them.                                                                                                    |\n",
            "|s8     |Movie  |187  |Kevin Reynolds   |Samuel L. Jackson, John Heard, Kelly Rowan, Clifton Collins Jr., Tony Plana                                                                                               |United States|2019-11-01|1997        |R     |119 min  |Dramas                                                  |After one of his high school students attacks him, dedicated teacher Trevor Garfield grows weary of the gang warfare in the New York City school system and moves to California to teach there, thinking it must be a less hostile environment.|\n",
            "|s9     |Movie  |706  |Shravan Kumar    |Divya Dutta, Atul Kulkarni, Mohan Agashe, Anupam Shyam, Raayo S. Bakhirta, Yashvit Sancheti, Greeva Kansara, Archan Trivedi, Rajiv Pathak                                 |India        |2019-04-01|2019        |TV-14 |118 min  |Horror Movies, International Movies                     |When a doctor goes missing, his psychiatrist wife treats the bizarre medical condition of a psychic patient, who knows much more than he's leading on.                                                                                         |\n",
            "|s10    |Movie  |1920 |Vikram Bhatt     |Rajneesh Duggal, Adah Sharma, Indraneil Sengupta, Anjori Alagh, Rajendranath Zutshi, Vipin Sharma, Amin Hajee, Shri Vallabh Vyas                                          |India        |2017-12-15|2008        |TV-MA |143 min  |Horror Movies, International Movies, Thrillers          |An architect and his wife move into a castle that is slated to become a luxury hotel. But something inside is determined to stop the renovation.                                                                                               |\n",
            "+-------+-------+-----+-----------------+--------------------------------------------------------------------------------------------------------------------------------------------------------------------------+-------------+----------+------------+------+---------+--------------------------------------------------------+-----------------------------------------------------------------------------------------------------------------------------------------------------------------------------------------------------------------------------------------------+\n",
            "only showing top 10 rows\n",
            "\n"
          ]
        }
      ]
    },
    {
      "cell_type": "markdown",
      "source": [
        "### SQL Table"
      ],
      "metadata": {
        "id": "NGyi4IN-ECyb"
      }
    },
    {
      "cell_type": "code",
      "source": [
        "netflix_df1.createOrReplaceTempView(\"tNetFlix\")\n",
        "#spark39.sql(\"describe tNetFlix\").show()\n",
        "spark39.sql(\"select * from tnetflix limit 10\").show(truncate = False)"
      ],
      "metadata": {
        "id": "az798DWfEFWA",
        "outputId": "34b394a2-dc36-445a-8b47-4de3447e4cba",
        "colab": {
          "base_uri": "https://localhost:8080/"
        }
      },
      "execution_count": 63,
      "outputs": [
        {
          "output_type": "stream",
          "name": "stdout",
          "text": [
            "+-------+-------+-----+-----------------+--------------------------------------------------------------------------------------------------------------------------------------------------------------------------+-------------+----------+------------+------+---------+--------------------------------------------------------+-----------------------------------------------------------------------------------------------------------------------------------------------------------------------------------------------------------------------------------------------+\n",
            "|show_id|type   |title|director         |cast                                                                                                                                                                      |country      |date_added|release_year|rating|duration |listed_in                                               |description                                                                                                                                                                                                                                    |\n",
            "+-------+-------+-----+-----------------+--------------------------------------------------------------------------------------------------------------------------------------------------------------------------+-------------+----------+------------+------+---------+--------------------------------------------------------+-----------------------------------------------------------------------------------------------------------------------------------------------------------------------------------------------------------------------------------------------+\n",
            "|s1     |TV Show|3%   |NULL             |João Miguel, Bianca Comparato, Michel Gomes, Rodolfo Valente, Vaneza Oliveira, Rafael Lozano, Viviane Porto, Mel Fronckowiak, Sergio Mamberti, Zezé Motta, Celso Frateschi|Brazil       |2020-08-14|2020        |TV-MA |4 Seasons|International TV Shows, TV Dramas, TV Sci-Fi & Fantasy  |In a future where the elite inhabit an island paradise far from the crowded slums, you get one chance to join the 3% saved from squalor.                                                                                                       |\n",
            "|s2     |Movie  |7:19 |Jorge Michel Grau|Demián Bichir, Héctor Bonilla, Oscar Serrano, Azalia Ortiz, Octavio Michel, Carmen Beato                                                                                  |Mexico       |2016-12-23|2016        |TV-MA |93 min   |Dramas, International Movies                            |After a devastating earthquake hits Mexico City, trapped survivors from all walks of life wait to be rescued while trying desperately to stay alive.                                                                                           |\n",
            "|s3     |Movie  |23:59|Gilbert Chan     |Tedd Chan, Stella Chung, Henley Hii, Lawrence Koh, Tommy Kuan, Josh Lai, Mark Lee, Susan Leong, Benjamin Lim                                                              |Singapore    |2018-12-20|2011        |R     |78 min   |Horror Movies, International Movies                     |When an army recruit is found dead, his fellow soldiers are forced to confront a terrifying secret that's haunting their jungle island training camp.                                                                                          |\n",
            "|s4     |Movie  |9    |Shane Acker      |Elijah Wood, John C. Reilly, Jennifer Connelly, Christopher Plummer, Crispin Glover, Martin Landau, Fred Tatasciore, Alan Oppenheimer, Tom Kane                           |United States|2017-11-16|2009        |PG-13 |80 min   |Action & Adventure, Independent Movies, Sci-Fi & Fantasy|In a postapocalyptic world, rag-doll robots hide in fear from dangerous machines out to exterminate them, until a brave newcomer joins the group.                                                                                              |\n",
            "|s5     |Movie  |21   |Robert Luketic   |Jim Sturgess, Kevin Spacey, Kate Bosworth, Aaron Yoo, Liza Lapira, Jacob Pitts, Laurence Fishburne, Jack McGee, Josh Gad, Sam Golzari, Helen Carey, Jack Gilpin           |United States|2020-01-01|2008        |PG-13 |123 min  |Dramas                                                  |A brilliant group of students become card-counting experts with the intent of swindling millions out of Las Vegas casinos by playing blackjack.                                                                                                |\n",
            "|s6     |TV Show|46   |Serdar Akar      |Erdal Beşikçioğlu, Yasemin Allen, Melis Birkan, Saygın Soysal, Berkan Şal, Metin Belgin, Ayça Eren, Selin Uludoğan, Özay Fecht, Suna Yıldızoğlu                           |Turkey       |2017-07-01|2016        |TV-MA |1 Season |International TV Shows, TV Dramas, TV Mysteries         |A genetics professor experiments with a treatment for his comatose sister that blends medical and shamanic cures, but unlocks a shocking side effect.                                                                                          |\n",
            "|s7     |Movie  |122  |Yasir Al Yasiri  |Amina Khalil, Ahmed Dawood, Tarek Lotfy, Ahmed El Fishawy, Mahmoud Hijazi, Jihane Khalil, Asmaa Galal, Tara Emad                                                          |Egypt        |2020-06-01|2019        |TV-MA |95 min   |Horror Movies, International Movies                     |After an awful accident, a couple admitted to a grisly hospital are separated and must find each other to escape — before death finds them.                                                                                                    |\n",
            "|s8     |Movie  |187  |Kevin Reynolds   |Samuel L. Jackson, John Heard, Kelly Rowan, Clifton Collins Jr., Tony Plana                                                                                               |United States|2019-11-01|1997        |R     |119 min  |Dramas                                                  |After one of his high school students attacks him, dedicated teacher Trevor Garfield grows weary of the gang warfare in the New York City school system and moves to California to teach there, thinking it must be a less hostile environment.|\n",
            "|s9     |Movie  |706  |Shravan Kumar    |Divya Dutta, Atul Kulkarni, Mohan Agashe, Anupam Shyam, Raayo S. Bakhirta, Yashvit Sancheti, Greeva Kansara, Archan Trivedi, Rajiv Pathak                                 |India        |2019-04-01|2019        |TV-14 |118 min  |Horror Movies, International Movies                     |When a doctor goes missing, his psychiatrist wife treats the bizarre medical condition of a psychic patient, who knows much more than he's leading on.                                                                                         |\n",
            "|s10    |Movie  |1920 |Vikram Bhatt     |Rajneesh Duggal, Adah Sharma, Indraneil Sengupta, Anjori Alagh, Rajendranath Zutshi, Vipin Sharma, Amin Hajee, Shri Vallabh Vyas                                          |India        |2017-12-15|2008        |TV-MA |143 min  |Horror Movies, International Movies, Thrillers          |An architect and his wife move into a castle that is slated to become a luxury hotel. But something inside is determined to stop the renovation.                                                                                               |\n",
            "+-------+-------+-----+-----------------+--------------------------------------------------------------------------------------------------------------------------------------------------------------------------+-------------+----------+------------+------+---------+--------------------------------------------------------+-----------------------------------------------------------------------------------------------------------------------------------------------------------------------------------------------------------------------------------------------+\n",
            "\n"
          ]
        }
      ]
    },
    {
      "cell_type": "code",
      "source": [
        "spark39.sql(\"select count(*) from tnetflix\").show(truncate=False)"
      ],
      "metadata": {
        "id": "fiz98C-swV8A",
        "outputId": "fb4f2e63-686a-488b-b2ee-a51a5f7062f0",
        "colab": {
          "base_uri": "https://localhost:8080/"
        }
      },
      "execution_count": 64,
      "outputs": [
        {
          "output_type": "stream",
          "name": "stdout",
          "text": [
            "+--------+\n",
            "|count(1)|\n",
            "+--------+\n",
            "|7789    |\n",
            "+--------+\n",
            "\n"
          ]
        }
      ]
    },
    {
      "cell_type": "code",
      "source": [
        "spark39.sql(\"select * from tnetflix where show_id in ( 's6109', 's6110','s4417', 's6658')\").show(truncate=False)"
      ],
      "metadata": {
        "id": "2TIm4i4Rwqu5",
        "outputId": "9b523365-0387-4b3b-cc8c-9345d8dd17dd",
        "colab": {
          "base_uri": "https://localhost:8080/"
        }
      },
      "execution_count": 65,
      "outputs": [
        {
          "output_type": "stream",
          "name": "stdout",
          "text": [
            "+-------+-----+-------------------------------+------------------------+--------------------------------------------------------------------------------------------------------------------------------------------------------+--------------+----------+------------+------+--------+---------------+-----------------------------------------------------------------------------------------------------------------------------------------------------+\n",
            "|show_id|type |title                          |director                |cast                                                                                                                                                    |country       |date_added|release_year|rating|duration|listed_in      |description                                                                                                                                          |\n",
            "+-------+-----+-------------------------------+------------------------+--------------------------------------------------------------------------------------------------------------------------------------------------------+--------------+----------+------------+------+--------+---------------+-----------------------------------------------------------------------------------------------------------------------------------------------------+\n",
            "|s4417  |Movie|Natalia Valdebenito: Gritona   |Natalia Valdebenito     |Natalia Valdebenito                                                                                                                                     |United States |2017-11-10|2017        |TV-MA |76 min  |Stand-Up Comedy|Chile's Natalia Valdebenito hits Santiago's Teatro Caupolicán with a one-woman show steeped in irony, a dash of improv and her own personal style.   |\n",
            "|s6109  |Movie|The Bad Education Movie        |Elliot Hegarty          |Jack Whitehall, Joanna Scanlan, Iain Glen, Ethan Lawrence, Layton Williams, Kae Alexander, Weruche Opia, Nikki Runeckles, Charlie Wernham, Jack Binstead|United Kingdom|2018-12-15|2015        |TV-MA |87 min  |Comedies       |Britain's most ineffective but caring teacher takes his class to Cornwall for one last school trip, where anything could happen –                    |\n",
            "|s6110  |Movie|The Bad Kids                   |Keith Fulton, Louis Pepe|NULL                                                                                                                                                    |United States |2017-04-01|2016        |TV-MA |101 min |Documentaries  |In this documentary, teachers at a Mojave Desert high school adhere to a belief that compassion and life skills can profoundly help at-risk students.|\n",
            "|s6658  |Movie|The Memphis Belle: A Story of a|NULL                    |NULL                                                                                                                                                    |NULL          |NULL      |NULL        |NULL  |NULL    |NULL           |NULL                                                                                                                                                 |\n",
            "+-------+-----+-------------------------------+------------------------+--------------------------------------------------------------------------------------------------------------------------------------------------------+--------------+----------+------------+------+--------+---------------+-----------------------------------------------------------------------------------------------------------------------------------------------------+\n",
            "\n"
          ]
        }
      ]
    },
    {
      "cell_type": "code",
      "source": [
        "sql = 'select \\\n",
        "show_id, title, director, cast from tnetflix \\\n",
        "where cast = director'\n",
        "spark39.sql(sql).show(truncate=False)\n",
        "\n",
        "sql = 'select count(*) from tnetflix where cast = director'\n",
        "spark39.sql(sql).show(truncate=False)\n"
      ],
      "metadata": {
        "id": "7Zc2m8BV9z3e",
        "outputId": "7be3605d-804f-4a34-cd9b-2f54e95afb57",
        "colab": {
          "base_uri": "https://localhost:8080/"
        }
      },
      "execution_count": 66,
      "outputs": [
        {
          "output_type": "stream",
          "name": "stdout",
          "text": [
            "+-------+-----------------------------------------------------------------------+----------------------+----------------------+\n",
            "|show_id|title                                                                  |director              |cast                  |\n",
            "+-------+-----------------------------------------------------------------------+----------------------+----------------------+\n",
            "|s170   |A Family Affair                                                        |Tom Fassaert          |Tom Fassaert          |\n",
            "|s396   |Alien Contact: Outer Space                                             |J. Michael Long       |J. Michael Long       |\n",
            "|s483   |Amy Schumer Growing                                                    |Amy Schumer           |Amy Schumer           |\n",
            "|s484   |Amy Schumer: The Leather Special                                       |Amy Schumer           |Amy Schumer           |\n",
            "|s649   |Aziz Ansari Live at Madison Square Garden                              |Aziz Ansari           |Aziz Ansari           |\n",
            "|s913   |Biggie & Tupac                                                         |Nick Broomfield       |Nick Broomfield       |\n",
            "|s1091  |Breaking Free                                                          |Sridhar Rangayan      |Sridhar Rangayan      |\n",
            "|s1236  |Casino Tycoon                                                          |Wong Jing             |Wong Jing             |\n",
            "|s1356  |Chris Rock Total Blackout: The Tamborine Extended Cut                  |Chris Rock            |Chris Rock            |\n",
            "|s1471  |Comedians in Cars Getting Coffee                                       |Jerry Seinfeld        |Jerry Seinfeld        |\n",
            "|s1780  |Discovering Bigfoot                                                    |Todd Standing         |Todd Standing         |\n",
            "|s2158  |Figaro Pho                                                             |Luke Jurevicius       |Luke Jurevicius       |\n",
            "|s2214  |Follow Me                                                              |Asri Bendacha         |Asri Bendacha         |\n",
            "|s2790  |HOMECOMING: A film by Beyoncé                                          |Beyoncé Knowles-Carter|Beyoncé Knowles-Carter|\n",
            "|s2851  |How to Stage a Coup                                                    |Cal Seville           |Cal Seville           |\n",
            "|s3033  |Into the Inferno                                                       |Werner Herzog         |Werner Herzog         |\n",
            "|s3231  |Judah Friedlander: America Is the Greatest Country in the United States|Judah Friedlander     |Judah Friedlander     |\n",
            "|s3495  |La Gran Ilusión                                                        |Antonio Díaz          |Antonio Díaz          |\n",
            "|s3689  |Lo and Behold: Reveries of the Connected World                         |Werner Herzog         |Werner Herzog         |\n",
            "|s3737  |Louis C.K. 2017                                                        |Louis C.K.            |Louis C.K.            |\n",
            "+-------+-----------------------------------------------------------------------+----------------------+----------------------+\n",
            "only showing top 20 rows\n",
            "\n",
            "+--------+\n",
            "|count(1)|\n",
            "+--------+\n",
            "|40      |\n",
            "+--------+\n",
            "\n"
          ]
        }
      ]
    },
    {
      "cell_type": "code",
      "source": [
        "spark39.sql(\"select title, director from tnetflix where director like '%,%'\").show(truncate=False)"
      ],
      "metadata": {
        "id": "PkWxOylWHPJh",
        "outputId": "18d3060b-76dd-4d16-fb03-4d6215dcfd79",
        "colab": {
          "base_uri": "https://localhost:8080/"
        }
      },
      "execution_count": 67,
      "outputs": [
        {
          "output_type": "stream",
          "name": "stdout",
          "text": [
            "+------------------------------------+--------------------------------------------------+\n",
            "|title                               |director                                          |\n",
            "+------------------------------------+--------------------------------------------------+\n",
            "|(T)ERROR                            |Lyric R. Cabral, David Felix Sutcliffe            |\n",
            "|#AnneFrank - Parallel Stories       |Sabina Fedeli, Anna Migotto                       |\n",
            "|14 Cameras                          |Scott Hussion, Seth Fuller                        |\n",
            "|14 Minutes from Earth               |Adam Davis, Jerry Kolber, Trey Nelson, Erich Sturm|\n",
            "|2 Alone in Paris                    |Ramzy Bedia, Éric Judor                           |\n",
            "|21 & Over                           |Jon Lucas, Scott Moore                            |\n",
            "|365 Days                            |Barbara Białowąs, Tomasz Mandes                   |\n",
            "|48 Christmas Wishes                 |Marco Deufemia, Justin G. Dyck                    |\n",
            "|7 Din Mohabbat In                   |Meenu Gaur, Farjad Nabi                           |\n",
            "|A Bad Moms Christmas                |Jon Lucas, Scott Moore                            |\n",
            "|A Choo                              |Kevin Ko, Peter Tsi                               |\n",
            "|A Go! Go! Cory Carson Christmas     |Stanley Moore, Alex Woo                           |\n",
            "|A Go! Go! Cory Carson Halloween     |Alex Woo, Stanley Moore                           |\n",
            "|A Go! Go! Cory Carson Summer Camp   |Stanley Moore, Alex Woo                           |\n",
            "|A Kid from Coney Island             |Coodie, Chike                                     |\n",
            "|A Lion in the House                 |Steven Bognar, Julia Reichert                     |\n",
            "|A Murder in the Park                |Christopher S. Rech, Brandon Kimber               |\n",
            "|A Serious Man                       |Ethan Coen, Joel Coen                             |\n",
            "|A Shaun the Sheep Movie: Farmageddon|Richard Phelan, Will Becher                       |\n",
            "|A StoryBots Christmas               |Evan Spiridellis, Jeff Gill                       |\n",
            "+------------------------------------+--------------------------------------------------+\n",
            "only showing top 20 rows\n",
            "\n"
          ]
        }
      ]
    },
    {
      "cell_type": "code",
      "source": [
        "sql = 'select count(*) from tnetflix where cast like \"%\"+director+\"%\"'\n",
        "spark39.sql(sql).show(truncate=False)"
      ],
      "metadata": {
        "id": "vubA-Dv-_gM2",
        "outputId": "c8d8b455-27de-40b9-f91b-9ce715bd9cfc",
        "colab": {
          "base_uri": "https://localhost:8080/"
        }
      },
      "execution_count": 68,
      "outputs": [
        {
          "output_type": "stream",
          "name": "stdout",
          "text": [
            "+--------+\n",
            "|count(1)|\n",
            "+--------+\n",
            "|0       |\n",
            "+--------+\n",
            "\n"
          ]
        }
      ]
    },
    {
      "cell_type": "markdown",
      "source": [
        "## RDD Operations"
      ],
      "metadata": {
        "id": "GG2LFM3E9Xx9"
      }
    },
    {
      "cell_type": "code",
      "source": [
        "!sed '1d' NetFlix.csv > Headless_NetFlix.csv\n",
        "netflix_RDD1 = sc.textFile(\"Headless_NetFlix.csv\")\n",
        "# Two Extra Lines here ... WHY? WHY?\n",
        "netflix_RDD1.count()\n"
      ],
      "metadata": {
        "colab": {
          "base_uri": "https://localhost:8080/"
        },
        "id": "HteP3MTs1ucb",
        "outputId": "b8e6e49f-2b95-43e1-f3d8-949aa6282e26"
      },
      "execution_count": 69,
      "outputs": [
        {
          "output_type": "execute_result",
          "data": {
            "text/plain": [
              "7789"
            ]
          },
          "metadata": {},
          "execution_count": 69
        }
      ]
    },
    {
      "cell_type": "code",
      "source": [
        "netflix_RDD1.sample(False,0.001,None).take(3)"
      ],
      "metadata": {
        "id": "aiblgLLONghz",
        "outputId": "1c2e953e-6df7-4f98-d7a1-84b37a5bb5cd",
        "colab": {
          "base_uri": "https://localhost:8080/"
        }
      },
      "execution_count": 70,
      "outputs": [
        {
          "output_type": "execute_result",
          "data": {
            "text/plain": [
              "['s1478,Movie,Company,Ram Gopal Varma,\"Ajay Devgn, Vivek Oberoi, Mohanlal, Manisha Koirala, Seema Biswas, Antara Mali, Akash Khurana, Madan Joshi, Vijay Raaz, Rajpal Yadav\",India,\"March 1, 2018\",2002,TV-MA,137 min,\"Action & Adventure, Dramas, International Movies\",\"Following a misunderstanding, a gangster and his boss part ways and become bitter enemies – with devastating consequences.\"',\n",
              " 's2593,Movie,Handsome Devil,John Butler,\"Fionn O\\'Shea, Nicholas Galitzine, Andrew Scott, Michael McElhatton, Moe Dunford, Ruairí O\\'Connor, Jay Duffy, Mark Lavery, Jamie Hallahan, Ardal O\\'Hanlon, Amy Huberman\",Ireland,\"August 1, 2017\",2016,TV-MA,95 min,\"Comedies, Dramas, International Movies\",\"A self-described outsider is sent to a rugby-obsessed boarding school, where he forms an unexpected bond with the star player.\"',\n",
              " 's3439,TV Show,Kong: King of the Apes,,\"Lee Tockar, Sam Vincent, Alessandro Juliani, Tabitha St. Germain, Kathleen Barr, Viv Leacock, Shannon Chan-Kent, Vincent Tong\",\"United States, Japan, Canada\",\"May 4, 2018\",2018,TV-Y7,2 Seasons,Kids\\' TV,\"In 2050, an evil scientist is about to unleash an army of robotic dinosaurs. Now it\\'s up to Kong and friends to fight back and save the day.\"']"
            ]
          },
          "metadata": {},
          "execution_count": 70
        }
      ]
    },
    {
      "cell_type": "code",
      "source": [
        "def split_11(text):\n",
        "    t1 = re.sub(r'(?!(([^\"]*\"){2})*[^\"]*$),', '@', text)        # https://stackoverflow.com/questions/38336518/remove-all-commas-between-quotes\n",
        "                                                                # commas within quotes are replaced by @\n",
        "    t2 = re.sub(r'\"', '', t1)                                   # quotes removed\n",
        "    l = t2.split(\",\")\n",
        "    #l4 = l[4]\n",
        "    l3 = re.sub(r'@', ',', l[3])                                # @ restored to commas\n",
        "    l4 = re.sub(r'@', ',', l[4])\n",
        "    l5 = re.sub(r'@', ',', l[5])\n",
        "    l6 = re.sub(r'@', ',', l[6])\n",
        "    l10 = re.sub(r'@', ',', l[10])\n",
        "    l11 = re.sub(r'@', ',', l[11])\n",
        "    return(l[0],l[1],l[2],l3,l4,l5,l6,l[7],l[8],l[9],l10,l11)"
      ],
      "metadata": {
        "id": "faLvJ4ey6TFx"
      },
      "execution_count": 71,
      "outputs": []
    },
    {
      "cell_type": "code",
      "source": [
        "# Parse Netflix data\n",
        "#\n",
        "netflix_RDD1.sample(False,0.001,None).map(lambda x: split_11(x)).take(3)\n",
        "#netflix_RDD2"
      ],
      "metadata": {
        "colab": {
          "base_uri": "https://localhost:8080/"
        },
        "id": "ykzfC2pI6d58",
        "outputId": "5b0058e9-b289-410b-8333-4f203f8b182d"
      },
      "execution_count": 72,
      "outputs": [
        {
          "output_type": "execute_result",
          "data": {
            "text/plain": [
              "[('s3260',\n",
              "  'TV Show',\n",
              "  'Justin Time GO!',\n",
              "  '',\n",
              "  'Drew Davis, Scott McCord, Jenna Warren',\n",
              "  '',\n",
              "  'June 24, 2016',\n",
              "  '2016',\n",
              "  'TV-Y',\n",
              "  '1 Season',\n",
              "  \"Kids' TV\",\n",
              "  \"A young boy's imagination takes him throughout the world and history, where he learns life lessons and has tons of fun with two make-believe friends.\"),\n",
              " ('s4517',\n",
              "  'Movie',\n",
              "  'Notes on Blindness',\n",
              "  'Peter Middleton, James Spinney',\n",
              "  'Dan Renton Skinner, Simone Kirby',\n",
              "  'United Kingdom',\n",
              "  'March 15, 2017',\n",
              "  '2016',\n",
              "  'TV-PG',\n",
              "  '87 min',\n",
              "  'Documentaries, Dramas, International Movies',\n",
              "  'Based on the audio diaries of academic and theologian John Hull, this film offers an impressionistic re-creation of his slow descent into blindness.'),\n",
              " ('s4630',\n",
              "  'Movie',\n",
              "  'Once In A Lifetime Sessions with TLC',\n",
              "  'Matt Askem',\n",
              "  '',\n",
              "  'United States',\n",
              "  'August 1, 2018',\n",
              "  '2018',\n",
              "  'TV-PG',\n",
              "  '72 min',\n",
              "  'Documentaries, Music & Musicals',\n",
              "  'One of the most successful female groups in music history, TLC performs in concert while taking a look back at their tumultuous history.')]"
            ]
          },
          "metadata": {},
          "execution_count": 72
        }
      ]
    },
    {
      "cell_type": "code",
      "source": [
        "netflix_RDD1.filter(lambda x: \"Harry Elfont,\" in x).take(3)"
      ],
      "metadata": {
        "id": "fNtSSDL5JpOq",
        "outputId": "ba5d41ea-a5c2-4dd1-8e99-9eb7c184f9bf",
        "colab": {
          "base_uri": "https://localhost:8080/"
        }
      },
      "execution_count": 73,
      "outputs": [
        {
          "output_type": "execute_result",
          "data": {
            "text/plain": [
              "['s1195,Movie,Can\\'t Hardly Wait,\"Harry Elfont, Deborah Kaplan\",\"Jennifer Love Hewitt, Ethan Embry, Charlie Korsmo, Lauren Ambrose, Peter Facinelli, Seth Green, Michelle Brookhurst, Alexander Martin, Erik Palladino, Channon Roe, Sean Patrick Thomas\",United States,\"January 1, 2021\",1998,PG-13,101 min,\"Comedies, Romantic Movies\",\"At a wild high school graduation party, aspiring writer Preston hopes to declare his love to popular girl Amanda, who just got dumped by the class jock.\"']"
            ]
          },
          "metadata": {},
          "execution_count": 73
        }
      ]
    },
    {
      "cell_type": "code",
      "source": [
        "netflix_RDD1.filter(lambda x: \"Jacques Perrin,\" in x).collect()"
      ],
      "metadata": {
        "id": "LFVrG8jVKWm9",
        "outputId": "032a776e-d20b-49d8-aeab-dd39fdd73cd7",
        "colab": {
          "base_uri": "https://localhost:8080/"
        }
      },
      "execution_count": 74,
      "outputs": [
        {
          "output_type": "execute_result",
          "data": {
            "text/plain": [
              "['s4561,Movie,Océans,\"Jacques Perrin, Jacques Cluzaud\",\"Pierce Brosnan, Jacques Perrin, Rie Miyazawa, Lancelot Perrin\",\"France, Switzerland, Spain, United States, United Arab Emirates\",\"September 19, 2019\",2009,G,84 min,\"Documentaries, International Movies\",This documentary examines the vital role water plays in human existence and the cause-and-effect interplay between oceans and the environment.']"
            ]
          },
          "metadata": {},
          "execution_count": 74
        }
      ]
    },
    {
      "cell_type": "code",
      "source": [
        "def split_4(text):\n",
        "    t1 = re.sub(r'(?!(([^\"]*\"){2})*[^\"]*$),', '@', text)        # https://stackoverflow.com/questions/38336518/remove-all-commas-between-quotes\n",
        "                                                                # commas within quotes are replaced by @\n",
        "    t2 = re.sub(r'\"', '', t1)\n",
        "    l = t2.split(\",\")\n",
        "    l3 = re.sub(r'@', ',', l[3])                                # @ restored to commas\n",
        "    l4 = re.sub(r'@', ',', l[4])\n",
        "    l5 = re.sub(r'@', ',', l[5])\n",
        "    return(l[0],l[1],l[2],l3,l4,l5)\n",
        "\n",
        "netflix_RDD1.sample(False,0.02,None).map(lambda x: split_4(x)).take(3)"
      ],
      "metadata": {
        "id": "doyMMR59SXxx",
        "outputId": "ecae23f3-9d31-4934-fdf2-cddf3d3f9872",
        "colab": {
          "base_uri": "https://localhost:8080/"
        }
      },
      "execution_count": 75,
      "outputs": [
        {
          "output_type": "execute_result",
          "data": {
            "text/plain": [
              "[('s151',\n",
              "  'Movie',\n",
              "  'A Billion Colour Story',\n",
              "  'Padmakumar Narasimhamurthy',\n",
              "  'Dhruva Padmakumar, Gaurav Sharma, Vasuki',\n",
              "  'India'),\n",
              " ('s242',\n",
              "  'TV Show',\n",
              "  'A Touch of Green',\n",
              "  '',\n",
              "  'Weber Yang, Cheryl Yang, Tien Hsin, Gabriel Lan, Wu Kang-jen, Cindy Lien, Wen Chen-ling, Hans Chung',\n",
              "  'Taiwan'),\n",
              " ('s245',\n",
              "  'Movie',\n",
              "  'A truthful Mother',\n",
              "  'Ravishankar Venkateswaran',\n",
              "  'Revathi, Roger Narayanan, Sneha Ravishankar, Vidya Shankar, SR Leela',\n",
              "  'India')]"
            ]
          },
          "metadata": {},
          "execution_count": 75
        }
      ]
    },
    {
      "cell_type": "markdown",
      "source": [
        "### Identify Movies where Director is part of Cast"
      ],
      "metadata": {
        "id": "Y8VhAZTaR17S"
      }
    },
    {
      "cell_type": "code",
      "source": [
        "# Filter rows where Director is part of the Cast\n",
        "#\n",
        "def fDirInCast(text):\n",
        "    t1 = re.sub(r'(?!(([^\"]*\"){2})*[^\"]*$),', '@', text)        # https://stackoverflow.com/questions/38336518/remove-all-commas-between-quotes\n",
        "    t2 = re.sub(r'\"', '', t1)\n",
        "    l = t2.split(\",\")\n",
        "    #if len(l) < 3:                                              # WHY DO WE NEED THIS? To eliminate badly formed lines\n",
        "    #    return(False)\n",
        "    #else:\n",
        "    if (l[3] == '') or (l[4] == ''):                        # WHY DO WE NEED THIS?  To eliminate rows where dir or cast is blank\n",
        "        return(False)\n",
        "    else:\n",
        "        dirs = set(l[3].split(\"@\"))\n",
        "        cast = set(l[4].split(\"@\"))\n",
        "        common = dirs.intersection(cast)\n",
        "        if len(common) > 0:\n",
        "            return(True)\n",
        "        else:\n",
        "            return(False)\n",
        "\n",
        "\n",
        "#sales_wallet = sales_RDD1.filter(lambda x: \",Ewallet,\" in x)\n",
        "#netflix_RDD5 = netflix_RDD1.filter(lambda x: x4m11F(x))\n",
        "netflix_RDD1.sample(False,0.01,None).filter(lambda x: fDirInCast(x)).map(lambda x: split_4(x)).take(5)"
      ],
      "metadata": {
        "id": "2uhysmS7FEZl",
        "outputId": "417beb54-bb67-4314-abe3-58619365fb93",
        "colab": {
          "base_uri": "https://localhost:8080/"
        }
      },
      "execution_count": 76,
      "outputs": [
        {
          "output_type": "execute_result",
          "data": {
            "text/plain": [
              "[('s901',\n",
              "  'Movie',\n",
              "  'Big Bear',\n",
              "  'Joey Kern',\n",
              "  \"Joey Kern, Adam Brody, Zachary Knighton, Tyler Labine, Pablo Schreiber, Toby Huss, Heidi Heaslet, Ahna O'Reilly\",\n",
              "  'United States'),\n",
              " ('s1356',\n",
              "  'Movie',\n",
              "  'Chris Rock Total Blackout: The Tamborine Extended Cut',\n",
              "  'Chris Rock',\n",
              "  'Chris Rock',\n",
              "  ''),\n",
              " ('s4208',\n",
              "  'Movie',\n",
              "  'Monty Python and the Holy Grail',\n",
              "  'Terry Gilliam, Terry Jones',\n",
              "  'Graham Chapman, John Cleese, Eric Idle, Terry Gilliam, Terry Jones, Michael Palin, Connie Booth, Carol Cleveland, Neil Innes',\n",
              "  'United Kingdom'),\n",
              " ('s5074',\n",
              "  'Movie',\n",
              "  'Rainbow Time',\n",
              "  'Linas Phillips',\n",
              "  'Linas Phillips, Melanie Lynskey, Timm Sharp, Tobin Bell, Jay Duplass, Lauren Weedman, Artemis Pebdani, Reagan Yates, Austin Fryberger',\n",
              "  'United States'),\n",
              " ('s5247',\n",
              "  'Movie',\n",
              "  'Rocky II',\n",
              "  'Sylvester Stallone',\n",
              "  'Sylvester Stallone, Talia Shire, Burt Young, Carl Weathers, Burgess Meredith, Tony Burton, Joe Spinell, Leonard Gaines, John Pleshette, Sylvia Meals',\n",
              "  'United States')]"
            ]
          },
          "metadata": {},
          "execution_count": 76
        }
      ]
    },
    {
      "cell_type": "code",
      "source": [
        "netflix_RDD1.sample(False,0.02,None).filter(lambda x: fDirInCast(x)).map(lambda x: split_4(x)).take(5)"
      ],
      "metadata": {
        "id": "ItSBVqru6_cd",
        "outputId": "74ff4266-8ee4-4dbb-dc53-c92de30796ae",
        "colab": {
          "base_uri": "https://localhost:8080/"
        }
      },
      "execution_count": 77,
      "outputs": [
        {
          "output_type": "execute_result",
          "data": {
            "text/plain": [
              "[('s901',\n",
              "  'Movie',\n",
              "  'Big Bear',\n",
              "  'Joey Kern',\n",
              "  \"Joey Kern, Adam Brody, Zachary Knighton, Tyler Labine, Pablo Schreiber, Toby Huss, Heidi Heaslet, Ahna O'Reilly\",\n",
              "  'United States'),\n",
              " ('s4245',\n",
              "  'Movie',\n",
              "  'Movie 43',\n",
              "  'Peter Farrelly, Will Graham, Steve Carr, Griffin Dunne, Steve Brill, James Duffy, Jonathan van Tulleken, Elizabeth Banks, Patrik Forsberg, Brett Ratner, Rusty Cundieff, James Gunn',\n",
              "  'Greg Kinnear, Dennis Quaid, Common, Seth MacFarlane, Will Sasso, Hugh Jackman, Kate Winslet, Liev Schreiber, Naomi Watts, Anna Faris, Chris Pratt, J.B. Smoove, Kieran Culkin, Emma Stone, Cathy Cliften, Kristen Bell, Leslie Bibb, Bobby Cannavale, John Hodgman, Justin Long, Jason Sudeikis, Uma Thurman, Phil Crowley, Kate Bosworth, Richard Gere, Jack McBrayer, Aasif Mandvi, Christopher Mintz-Plasse, Chloë Grace Moretz, Matt Walsh, Patrick Warburton, Gerard Butler, Johnny Knoxville, Seann William Scott, Halle Berry, Stephen Merchant, Terrence Howard, Elizabeth Banks, Josh Duhamel',\n",
              "  'United States')]"
            ]
          },
          "metadata": {},
          "execution_count": 77
        }
      ]
    },
    {
      "cell_type": "code",
      "source": [
        "#netflix_RDD1.filter(lambda x: fDirCast(x)).map(lambda x: split_4(x)).count()\n",
        "netflix_RDD1.filter(lambda x: fDirInCast(x)).map(lambda x: split_4(x)).count()"
      ],
      "metadata": {
        "id": "V26G0DcM75b5",
        "outputId": "b1058303-98ca-4175-ba62-27b3791f2d0f",
        "colab": {
          "base_uri": "https://localhost:8080/",
          "height": 1000
        }
      },
      "execution_count": 78,
      "outputs": [
        {
          "output_type": "error",
          "ename": "Py4JJavaError",
          "evalue": "An error occurred while calling z:org.apache.spark.api.python.PythonRDD.collectAndServe.\n: org.apache.spark.SparkException: Job aborted due to stage failure: Task 1 in stage 78.0 failed 1 times, most recent failure: Lost task 1.0 in stage 78.0 (TID 95) (20d8c0a329d6 executor driver): org.apache.spark.api.python.PythonException: Traceback (most recent call last):\n  File \"/usr/local/lib/python3.10/dist-packages/pyspark/python/lib/pyspark.zip/pyspark/worker.py\", line 1247, in main\n    process()\n  File \"/usr/local/lib/python3.10/dist-packages/pyspark/python/lib/pyspark.zip/pyspark/worker.py\", line 1237, in process\n    out_iter = func(split_index, iterator)\n  File \"/usr/local/lib/python3.10/dist-packages/pyspark/rdd.py\", line 5434, in pipeline_func\n    return func(split, prev_func(split, iterator))\n  File \"/usr/local/lib/python3.10/dist-packages/pyspark/rdd.py\", line 5434, in pipeline_func\n    return func(split, prev_func(split, iterator))\n  File \"/usr/local/lib/python3.10/dist-packages/pyspark/rdd.py\", line 5434, in pipeline_func\n    return func(split, prev_func(split, iterator))\n  File \"/usr/local/lib/python3.10/dist-packages/pyspark/rdd.py\", line 840, in func\n    return f(iterator)\n  File \"/usr/local/lib/python3.10/dist-packages/pyspark/rdd.py\", line 2316, in <lambda>\n    return self.mapPartitions(lambda i: [sum(1 for _ in i)]).sum()\n  File \"/usr/local/lib/python3.10/dist-packages/pyspark/rdd.py\", line 2316, in <genexpr>\n    return self.mapPartitions(lambda i: [sum(1 for _ in i)]).sum()\n  File \"/usr/local/lib/python3.10/dist-packages/pyspark/python/lib/pyspark.zip/pyspark/util.py\", line 83, in wrapper\n    return f(*args, **kwargs)\n  File \"<ipython-input-78-10afbbfd88bb>\", line 2, in <lambda>\n  File \"<ipython-input-76-e6fc483eb3f7>\", line 10, in fDirInCast\nIndexError: list index out of range\n\n\tat org.apache.spark.api.python.BasePythonRunner$ReaderIterator.handlePythonException(PythonRunner.scala:572)\n\tat org.apache.spark.api.python.PythonRunner$$anon$3.read(PythonRunner.scala:784)\n\tat org.apache.spark.api.python.PythonRunner$$anon$3.read(PythonRunner.scala:766)\n\tat org.apache.spark.api.python.BasePythonRunner$ReaderIterator.hasNext(PythonRunner.scala:525)\n\tat org.apache.spark.InterruptibleIterator.hasNext(InterruptibleIterator.scala:37)\n\tat scala.collection.Iterator.foreach(Iterator.scala:943)\n\tat scala.collection.Iterator.foreach$(Iterator.scala:943)\n\tat org.apache.spark.InterruptibleIterator.foreach(InterruptibleIterator.scala:28)\n\tat scala.collection.generic.Growable.$plus$plus$eq(Growable.scala:62)\n\tat scala.collection.generic.Growable.$plus$plus$eq$(Growable.scala:53)\n\tat scala.collection.mutable.ArrayBuffer.$plus$plus$eq(ArrayBuffer.scala:105)\n\tat scala.collection.mutable.ArrayBuffer.$plus$plus$eq(ArrayBuffer.scala:49)\n\tat scala.collection.TraversableOnce.to(TraversableOnce.scala:366)\n\tat scala.collection.TraversableOnce.to$(TraversableOnce.scala:364)\n\tat org.apache.spark.InterruptibleIterator.to(InterruptibleIterator.scala:28)\n\tat scala.collection.TraversableOnce.toBuffer(TraversableOnce.scala:358)\n\tat scala.collection.TraversableOnce.toBuffer$(TraversableOnce.scala:358)\n\tat org.apache.spark.InterruptibleIterator.toBuffer(InterruptibleIterator.scala:28)\n\tat scala.collection.TraversableOnce.toArray(TraversableOnce.scala:345)\n\tat scala.collection.TraversableOnce.toArray$(TraversableOnce.scala:339)\n\tat org.apache.spark.InterruptibleIterator.toArray(InterruptibleIterator.scala:28)\n\tat org.apache.spark.rdd.RDD.$anonfun$collect$2(RDD.scala:1049)\n\tat org.apache.spark.SparkContext.$anonfun$runJob$5(SparkContext.scala:2438)\n\tat org.apache.spark.scheduler.ResultTask.runTask(ResultTask.scala:93)\n\tat org.apache.spark.TaskContext.runTaskWithListeners(TaskContext.scala:166)\n\tat org.apache.spark.scheduler.Task.run(Task.scala:141)\n\tat org.apache.spark.executor.Executor$TaskRunner.$anonfun$run$4(Executor.scala:620)\n\tat org.apache.spark.util.SparkErrorUtils.tryWithSafeFinally(SparkErrorUtils.scala:64)\n\tat org.apache.spark.util.SparkErrorUtils.tryWithSafeFinally$(SparkErrorUtils.scala:61)\n\tat org.apache.spark.util.Utils$.tryWithSafeFinally(Utils.scala:94)\n\tat org.apache.spark.executor.Executor$TaskRunner.run(Executor.scala:623)\n\tat java.base/java.util.concurrent.ThreadPoolExecutor.runWorker(ThreadPoolExecutor.java:1128)\n\tat java.base/java.util.concurrent.ThreadPoolExecutor$Worker.run(ThreadPoolExecutor.java:628)\n\tat java.base/java.lang.Thread.run(Thread.java:829)\n\nDriver stacktrace:\n\tat org.apache.spark.scheduler.DAGScheduler.failJobAndIndependentStages(DAGScheduler.scala:2856)\n\tat org.apache.spark.scheduler.DAGScheduler.$anonfun$abortStage$2(DAGScheduler.scala:2792)\n\tat org.apache.spark.scheduler.DAGScheduler.$anonfun$abortStage$2$adapted(DAGScheduler.scala:2791)\n\tat scala.collection.mutable.ResizableArray.foreach(ResizableArray.scala:62)\n\tat scala.collection.mutable.ResizableArray.foreach$(ResizableArray.scala:55)\n\tat scala.collection.mutable.ArrayBuffer.foreach(ArrayBuffer.scala:49)\n\tat org.apache.spark.scheduler.DAGScheduler.abortStage(DAGScheduler.scala:2791)\n\tat org.apache.spark.scheduler.DAGScheduler.$anonfun$handleTaskSetFailed$1(DAGScheduler.scala:1247)\n\tat org.apache.spark.scheduler.DAGScheduler.$anonfun$handleTaskSetFailed$1$adapted(DAGScheduler.scala:1247)\n\tat scala.Option.foreach(Option.scala:407)\n\tat org.apache.spark.scheduler.DAGScheduler.handleTaskSetFailed(DAGScheduler.scala:1247)\n\tat org.apache.spark.scheduler.DAGSchedulerEventProcessLoop.doOnReceive(DAGScheduler.scala:3060)\n\tat org.apache.spark.scheduler.DAGSchedulerEventProcessLoop.onReceive(DAGScheduler.scala:2994)\n\tat org.apache.spark.scheduler.DAGSchedulerEventProcessLoop.onReceive(DAGScheduler.scala:2983)\n\tat org.apache.spark.util.EventLoop$$anon$1.run(EventLoop.scala:49)\n\tat org.apache.spark.scheduler.DAGScheduler.runJob(DAGScheduler.scala:989)\n\tat org.apache.spark.SparkContext.runJob(SparkContext.scala:2398)\n\tat org.apache.spark.SparkContext.runJob(SparkContext.scala:2419)\n\tat org.apache.spark.SparkContext.runJob(SparkContext.scala:2438)\n\tat org.apache.spark.SparkContext.runJob(SparkContext.scala:2463)\n\tat org.apache.spark.rdd.RDD.$anonfun$collect$1(RDD.scala:1049)\n\tat org.apache.spark.rdd.RDDOperationScope$.withScope(RDDOperationScope.scala:151)\n\tat org.apache.spark.rdd.RDDOperationScope$.withScope(RDDOperationScope.scala:112)\n\tat org.apache.spark.rdd.RDD.withScope(RDD.scala:410)\n\tat org.apache.spark.rdd.RDD.collect(RDD.scala:1048)\n\tat org.apache.spark.api.python.PythonRDD$.collectAndServe(PythonRDD.scala:195)\n\tat org.apache.spark.api.python.PythonRDD.collectAndServe(PythonRDD.scala)\n\tat jdk.internal.reflect.GeneratedMethodAccessor80.invoke(Unknown Source)\n\tat java.base/jdk.internal.reflect.DelegatingMethodAccessorImpl.invoke(DelegatingMethodAccessorImpl.java:43)\n\tat java.base/java.lang.reflect.Method.invoke(Method.java:566)\n\tat py4j.reflection.MethodInvoker.invoke(MethodInvoker.java:244)\n\tat py4j.reflection.ReflectionEngine.invoke(ReflectionEngine.java:374)\n\tat py4j.Gateway.invoke(Gateway.java:282)\n\tat py4j.commands.AbstractCommand.invokeMethod(AbstractCommand.java:132)\n\tat py4j.commands.CallCommand.execute(CallCommand.java:79)\n\tat py4j.ClientServerConnection.waitForCommands(ClientServerConnection.java:182)\n\tat py4j.ClientServerConnection.run(ClientServerConnection.java:106)\n\tat java.base/java.lang.Thread.run(Thread.java:829)\nCaused by: org.apache.spark.api.python.PythonException: Traceback (most recent call last):\n  File \"/usr/local/lib/python3.10/dist-packages/pyspark/python/lib/pyspark.zip/pyspark/worker.py\", line 1247, in main\n    process()\n  File \"/usr/local/lib/python3.10/dist-packages/pyspark/python/lib/pyspark.zip/pyspark/worker.py\", line 1237, in process\n    out_iter = func(split_index, iterator)\n  File \"/usr/local/lib/python3.10/dist-packages/pyspark/rdd.py\", line 5434, in pipeline_func\n    return func(split, prev_func(split, iterator))\n  File \"/usr/local/lib/python3.10/dist-packages/pyspark/rdd.py\", line 5434, in pipeline_func\n    return func(split, prev_func(split, iterator))\n  File \"/usr/local/lib/python3.10/dist-packages/pyspark/rdd.py\", line 5434, in pipeline_func\n    return func(split, prev_func(split, iterator))\n  File \"/usr/local/lib/python3.10/dist-packages/pyspark/rdd.py\", line 840, in func\n    return f(iterator)\n  File \"/usr/local/lib/python3.10/dist-packages/pyspark/rdd.py\", line 2316, in <lambda>\n    return self.mapPartitions(lambda i: [sum(1 for _ in i)]).sum()\n  File \"/usr/local/lib/python3.10/dist-packages/pyspark/rdd.py\", line 2316, in <genexpr>\n    return self.mapPartitions(lambda i: [sum(1 for _ in i)]).sum()\n  File \"/usr/local/lib/python3.10/dist-packages/pyspark/python/lib/pyspark.zip/pyspark/util.py\", line 83, in wrapper\n    return f(*args, **kwargs)\n  File \"<ipython-input-78-10afbbfd88bb>\", line 2, in <lambda>\n  File \"<ipython-input-76-e6fc483eb3f7>\", line 10, in fDirInCast\nIndexError: list index out of range\n\n\tat org.apache.spark.api.python.BasePythonRunner$ReaderIterator.handlePythonException(PythonRunner.scala:572)\n\tat org.apache.spark.api.python.PythonRunner$$anon$3.read(PythonRunner.scala:784)\n\tat org.apache.spark.api.python.PythonRunner$$anon$3.read(PythonRunner.scala:766)\n\tat org.apache.spark.api.python.BasePythonRunner$ReaderIterator.hasNext(PythonRunner.scala:525)\n\tat org.apache.spark.InterruptibleIterator.hasNext(InterruptibleIterator.scala:37)\n\tat scala.collection.Iterator.foreach(Iterator.scala:943)\n\tat scala.collection.Iterator.foreach$(Iterator.scala:943)\n\tat org.apache.spark.InterruptibleIterator.foreach(InterruptibleIterator.scala:28)\n\tat scala.collection.generic.Growable.$plus$plus$eq(Growable.scala:62)\n\tat scala.collection.generic.Growable.$plus$plus$eq$(Growable.scala:53)\n\tat scala.collection.mutable.ArrayBuffer.$plus$plus$eq(ArrayBuffer.scala:105)\n\tat scala.collection.mutable.ArrayBuffer.$plus$plus$eq(ArrayBuffer.scala:49)\n\tat scala.collection.TraversableOnce.to(TraversableOnce.scala:366)\n\tat scala.collection.TraversableOnce.to$(TraversableOnce.scala:364)\n\tat org.apache.spark.InterruptibleIterator.to(InterruptibleIterator.scala:28)\n\tat scala.collection.TraversableOnce.toBuffer(TraversableOnce.scala:358)\n\tat scala.collection.TraversableOnce.toBuffer$(TraversableOnce.scala:358)\n\tat org.apache.spark.InterruptibleIterator.toBuffer(InterruptibleIterator.scala:28)\n\tat scala.collection.TraversableOnce.toArray(TraversableOnce.scala:345)\n\tat scala.collection.TraversableOnce.toArray$(TraversableOnce.scala:339)\n\tat org.apache.spark.InterruptibleIterator.toArray(InterruptibleIterator.scala:28)\n\tat org.apache.spark.rdd.RDD.$anonfun$collect$2(RDD.scala:1049)\n\tat org.apache.spark.SparkContext.$anonfun$runJob$5(SparkContext.scala:2438)\n\tat org.apache.spark.scheduler.ResultTask.runTask(ResultTask.scala:93)\n\tat org.apache.spark.TaskContext.runTaskWithListeners(TaskContext.scala:166)\n\tat org.apache.spark.scheduler.Task.run(Task.scala:141)\n\tat org.apache.spark.executor.Executor$TaskRunner.$anonfun$run$4(Executor.scala:620)\n\tat org.apache.spark.util.SparkErrorUtils.tryWithSafeFinally(SparkErrorUtils.scala:64)\n\tat org.apache.spark.util.SparkErrorUtils.tryWithSafeFinally$(SparkErrorUtils.scala:61)\n\tat org.apache.spark.util.Utils$.tryWithSafeFinally(Utils.scala:94)\n\tat org.apache.spark.executor.Executor$TaskRunner.run(Executor.scala:623)\n\tat java.base/java.util.concurrent.ThreadPoolExecutor.runWorker(ThreadPoolExecutor.java:1128)\n\tat java.base/java.util.concurrent.ThreadPoolExecutor$Worker.run(ThreadPoolExecutor.java:628)\n\t... 1 more\n",
          "traceback": [
            "\u001b[0;31m---------------------------------------------------------------------------\u001b[0m",
            "\u001b[0;31mPy4JJavaError\u001b[0m                             Traceback (most recent call last)",
            "\u001b[0;32m<ipython-input-78-10afbbfd88bb>\u001b[0m in \u001b[0;36m<cell line: 2>\u001b[0;34m()\u001b[0m\n\u001b[1;32m      1\u001b[0m \u001b[0;31m#netflix_RDD1.filter(lambda x: fDirCast(x)).map(lambda x: split_4(x)).count()\u001b[0m\u001b[0;34m\u001b[0m\u001b[0;34m\u001b[0m\u001b[0m\n\u001b[0;32m----> 2\u001b[0;31m \u001b[0mnetflix_RDD1\u001b[0m\u001b[0;34m.\u001b[0m\u001b[0mfilter\u001b[0m\u001b[0;34m(\u001b[0m\u001b[0;32mlambda\u001b[0m \u001b[0mx\u001b[0m\u001b[0;34m:\u001b[0m \u001b[0mfDirInCast\u001b[0m\u001b[0;34m(\u001b[0m\u001b[0mx\u001b[0m\u001b[0;34m)\u001b[0m\u001b[0;34m)\u001b[0m\u001b[0;34m.\u001b[0m\u001b[0mmap\u001b[0m\u001b[0;34m(\u001b[0m\u001b[0;32mlambda\u001b[0m \u001b[0mx\u001b[0m\u001b[0;34m:\u001b[0m \u001b[0msplit_4\u001b[0m\u001b[0;34m(\u001b[0m\u001b[0mx\u001b[0m\u001b[0;34m)\u001b[0m\u001b[0;34m)\u001b[0m\u001b[0;34m.\u001b[0m\u001b[0mcount\u001b[0m\u001b[0;34m(\u001b[0m\u001b[0;34m)\u001b[0m\u001b[0;34m\u001b[0m\u001b[0;34m\u001b[0m\u001b[0m\n\u001b[0m",
            "\u001b[0;32m/usr/local/lib/python3.10/dist-packages/pyspark/rdd.py\u001b[0m in \u001b[0;36mcount\u001b[0;34m(self)\u001b[0m\n\u001b[1;32m   2314\u001b[0m         \u001b[0;36m3\u001b[0m\u001b[0;34m\u001b[0m\u001b[0;34m\u001b[0m\u001b[0m\n\u001b[1;32m   2315\u001b[0m         \"\"\"\n\u001b[0;32m-> 2316\u001b[0;31m         \u001b[0;32mreturn\u001b[0m \u001b[0mself\u001b[0m\u001b[0;34m.\u001b[0m\u001b[0mmapPartitions\u001b[0m\u001b[0;34m(\u001b[0m\u001b[0;32mlambda\u001b[0m \u001b[0mi\u001b[0m\u001b[0;34m:\u001b[0m \u001b[0;34m[\u001b[0m\u001b[0msum\u001b[0m\u001b[0;34m(\u001b[0m\u001b[0;36m1\u001b[0m \u001b[0;32mfor\u001b[0m \u001b[0m_\u001b[0m \u001b[0;32min\u001b[0m \u001b[0mi\u001b[0m\u001b[0;34m)\u001b[0m\u001b[0;34m]\u001b[0m\u001b[0;34m)\u001b[0m\u001b[0;34m.\u001b[0m\u001b[0msum\u001b[0m\u001b[0;34m(\u001b[0m\u001b[0;34m)\u001b[0m\u001b[0;34m\u001b[0m\u001b[0;34m\u001b[0m\u001b[0m\n\u001b[0m\u001b[1;32m   2317\u001b[0m \u001b[0;34m\u001b[0m\u001b[0m\n\u001b[1;32m   2318\u001b[0m     \u001b[0;32mdef\u001b[0m \u001b[0mstats\u001b[0m\u001b[0;34m(\u001b[0m\u001b[0mself\u001b[0m\u001b[0;34m:\u001b[0m \u001b[0;34m\"RDD[NumberOrArray]\"\u001b[0m\u001b[0;34m)\u001b[0m \u001b[0;34m->\u001b[0m \u001b[0mStatCounter\u001b[0m\u001b[0;34m:\u001b[0m\u001b[0;34m\u001b[0m\u001b[0;34m\u001b[0m\u001b[0m\n",
            "\u001b[0;32m/usr/local/lib/python3.10/dist-packages/pyspark/rdd.py\u001b[0m in \u001b[0;36msum\u001b[0;34m(self)\u001b[0m\n\u001b[1;32m   2289\u001b[0m         \u001b[0;36m6.0\u001b[0m\u001b[0;34m\u001b[0m\u001b[0;34m\u001b[0m\u001b[0m\n\u001b[1;32m   2290\u001b[0m         \"\"\"\n\u001b[0;32m-> 2291\u001b[0;31m         return self.mapPartitions(lambda x: [sum(x)]).fold(  # type: ignore[return-value]\n\u001b[0m\u001b[1;32m   2292\u001b[0m             \u001b[0;36m0\u001b[0m\u001b[0;34m,\u001b[0m \u001b[0moperator\u001b[0m\u001b[0;34m.\u001b[0m\u001b[0madd\u001b[0m\u001b[0;34m\u001b[0m\u001b[0;34m\u001b[0m\u001b[0m\n\u001b[1;32m   2293\u001b[0m         )\n",
            "\u001b[0;32m/usr/local/lib/python3.10/dist-packages/pyspark/rdd.py\u001b[0m in \u001b[0;36mfold\u001b[0;34m(self, zeroValue, op)\u001b[0m\n\u001b[1;32m   2042\u001b[0m         \u001b[0;31m# zeroValue provided to each partition is unique from the one provided\u001b[0m\u001b[0;34m\u001b[0m\u001b[0;34m\u001b[0m\u001b[0m\n\u001b[1;32m   2043\u001b[0m         \u001b[0;31m# to the final reduce call\u001b[0m\u001b[0;34m\u001b[0m\u001b[0;34m\u001b[0m\u001b[0m\n\u001b[0;32m-> 2044\u001b[0;31m         \u001b[0mvals\u001b[0m \u001b[0;34m=\u001b[0m \u001b[0mself\u001b[0m\u001b[0;34m.\u001b[0m\u001b[0mmapPartitions\u001b[0m\u001b[0;34m(\u001b[0m\u001b[0mfunc\u001b[0m\u001b[0;34m)\u001b[0m\u001b[0;34m.\u001b[0m\u001b[0mcollect\u001b[0m\u001b[0;34m(\u001b[0m\u001b[0;34m)\u001b[0m\u001b[0;34m\u001b[0m\u001b[0;34m\u001b[0m\u001b[0m\n\u001b[0m\u001b[1;32m   2045\u001b[0m         \u001b[0;32mreturn\u001b[0m \u001b[0mreduce\u001b[0m\u001b[0;34m(\u001b[0m\u001b[0mop\u001b[0m\u001b[0;34m,\u001b[0m \u001b[0mvals\u001b[0m\u001b[0;34m,\u001b[0m \u001b[0mzeroValue\u001b[0m\u001b[0;34m)\u001b[0m\u001b[0;34m\u001b[0m\u001b[0;34m\u001b[0m\u001b[0m\n\u001b[1;32m   2046\u001b[0m \u001b[0;34m\u001b[0m\u001b[0m\n",
            "\u001b[0;32m/usr/local/lib/python3.10/dist-packages/pyspark/rdd.py\u001b[0m in \u001b[0;36mcollect\u001b[0;34m(self)\u001b[0m\n\u001b[1;32m   1831\u001b[0m         \u001b[0;32mwith\u001b[0m \u001b[0mSCCallSiteSync\u001b[0m\u001b[0;34m(\u001b[0m\u001b[0mself\u001b[0m\u001b[0;34m.\u001b[0m\u001b[0mcontext\u001b[0m\u001b[0;34m)\u001b[0m\u001b[0;34m:\u001b[0m\u001b[0;34m\u001b[0m\u001b[0;34m\u001b[0m\u001b[0m\n\u001b[1;32m   1832\u001b[0m             \u001b[0;32massert\u001b[0m \u001b[0mself\u001b[0m\u001b[0;34m.\u001b[0m\u001b[0mctx\u001b[0m\u001b[0;34m.\u001b[0m\u001b[0m_jvm\u001b[0m \u001b[0;32mis\u001b[0m \u001b[0;32mnot\u001b[0m \u001b[0;32mNone\u001b[0m\u001b[0;34m\u001b[0m\u001b[0;34m\u001b[0m\u001b[0m\n\u001b[0;32m-> 1833\u001b[0;31m             \u001b[0msock_info\u001b[0m \u001b[0;34m=\u001b[0m \u001b[0mself\u001b[0m\u001b[0;34m.\u001b[0m\u001b[0mctx\u001b[0m\u001b[0;34m.\u001b[0m\u001b[0m_jvm\u001b[0m\u001b[0;34m.\u001b[0m\u001b[0mPythonRDD\u001b[0m\u001b[0;34m.\u001b[0m\u001b[0mcollectAndServe\u001b[0m\u001b[0;34m(\u001b[0m\u001b[0mself\u001b[0m\u001b[0;34m.\u001b[0m\u001b[0m_jrdd\u001b[0m\u001b[0;34m.\u001b[0m\u001b[0mrdd\u001b[0m\u001b[0;34m(\u001b[0m\u001b[0;34m)\u001b[0m\u001b[0;34m)\u001b[0m\u001b[0;34m\u001b[0m\u001b[0;34m\u001b[0m\u001b[0m\n\u001b[0m\u001b[1;32m   1834\u001b[0m         \u001b[0;32mreturn\u001b[0m \u001b[0mlist\u001b[0m\u001b[0;34m(\u001b[0m\u001b[0m_load_from_socket\u001b[0m\u001b[0;34m(\u001b[0m\u001b[0msock_info\u001b[0m\u001b[0;34m,\u001b[0m \u001b[0mself\u001b[0m\u001b[0;34m.\u001b[0m\u001b[0m_jrdd_deserializer\u001b[0m\u001b[0;34m)\u001b[0m\u001b[0;34m)\u001b[0m\u001b[0;34m\u001b[0m\u001b[0;34m\u001b[0m\u001b[0m\n\u001b[1;32m   1835\u001b[0m \u001b[0;34m\u001b[0m\u001b[0m\n",
            "\u001b[0;32m/usr/local/lib/python3.10/dist-packages/py4j/java_gateway.py\u001b[0m in \u001b[0;36m__call__\u001b[0;34m(self, *args)\u001b[0m\n\u001b[1;32m   1320\u001b[0m \u001b[0;34m\u001b[0m\u001b[0m\n\u001b[1;32m   1321\u001b[0m         \u001b[0manswer\u001b[0m \u001b[0;34m=\u001b[0m \u001b[0mself\u001b[0m\u001b[0;34m.\u001b[0m\u001b[0mgateway_client\u001b[0m\u001b[0;34m.\u001b[0m\u001b[0msend_command\u001b[0m\u001b[0;34m(\u001b[0m\u001b[0mcommand\u001b[0m\u001b[0;34m)\u001b[0m\u001b[0;34m\u001b[0m\u001b[0;34m\u001b[0m\u001b[0m\n\u001b[0;32m-> 1322\u001b[0;31m         return_value = get_return_value(\n\u001b[0m\u001b[1;32m   1323\u001b[0m             answer, self.gateway_client, self.target_id, self.name)\n\u001b[1;32m   1324\u001b[0m \u001b[0;34m\u001b[0m\u001b[0m\n",
            "\u001b[0;32m/usr/local/lib/python3.10/dist-packages/pyspark/errors/exceptions/captured.py\u001b[0m in \u001b[0;36mdeco\u001b[0;34m(*a, **kw)\u001b[0m\n\u001b[1;32m    177\u001b[0m     \u001b[0;32mdef\u001b[0m \u001b[0mdeco\u001b[0m\u001b[0;34m(\u001b[0m\u001b[0;34m*\u001b[0m\u001b[0ma\u001b[0m\u001b[0;34m:\u001b[0m \u001b[0mAny\u001b[0m\u001b[0;34m,\u001b[0m \u001b[0;34m**\u001b[0m\u001b[0mkw\u001b[0m\u001b[0;34m:\u001b[0m \u001b[0mAny\u001b[0m\u001b[0;34m)\u001b[0m \u001b[0;34m->\u001b[0m \u001b[0mAny\u001b[0m\u001b[0;34m:\u001b[0m\u001b[0;34m\u001b[0m\u001b[0;34m\u001b[0m\u001b[0m\n\u001b[1;32m    178\u001b[0m         \u001b[0;32mtry\u001b[0m\u001b[0;34m:\u001b[0m\u001b[0;34m\u001b[0m\u001b[0;34m\u001b[0m\u001b[0m\n\u001b[0;32m--> 179\u001b[0;31m             \u001b[0;32mreturn\u001b[0m \u001b[0mf\u001b[0m\u001b[0;34m(\u001b[0m\u001b[0;34m*\u001b[0m\u001b[0ma\u001b[0m\u001b[0;34m,\u001b[0m \u001b[0;34m**\u001b[0m\u001b[0mkw\u001b[0m\u001b[0;34m)\u001b[0m\u001b[0;34m\u001b[0m\u001b[0;34m\u001b[0m\u001b[0m\n\u001b[0m\u001b[1;32m    180\u001b[0m         \u001b[0;32mexcept\u001b[0m \u001b[0mPy4JJavaError\u001b[0m \u001b[0;32mas\u001b[0m \u001b[0me\u001b[0m\u001b[0;34m:\u001b[0m\u001b[0;34m\u001b[0m\u001b[0;34m\u001b[0m\u001b[0m\n\u001b[1;32m    181\u001b[0m             \u001b[0mconverted\u001b[0m \u001b[0;34m=\u001b[0m \u001b[0mconvert_exception\u001b[0m\u001b[0;34m(\u001b[0m\u001b[0me\u001b[0m\u001b[0;34m.\u001b[0m\u001b[0mjava_exception\u001b[0m\u001b[0;34m)\u001b[0m\u001b[0;34m\u001b[0m\u001b[0;34m\u001b[0m\u001b[0m\n",
            "\u001b[0;32m/usr/local/lib/python3.10/dist-packages/py4j/protocol.py\u001b[0m in \u001b[0;36mget_return_value\u001b[0;34m(answer, gateway_client, target_id, name)\u001b[0m\n\u001b[1;32m    324\u001b[0m             \u001b[0mvalue\u001b[0m \u001b[0;34m=\u001b[0m \u001b[0mOUTPUT_CONVERTER\u001b[0m\u001b[0;34m[\u001b[0m\u001b[0mtype\u001b[0m\u001b[0;34m]\u001b[0m\u001b[0;34m(\u001b[0m\u001b[0manswer\u001b[0m\u001b[0;34m[\u001b[0m\u001b[0;36m2\u001b[0m\u001b[0;34m:\u001b[0m\u001b[0;34m]\u001b[0m\u001b[0;34m,\u001b[0m \u001b[0mgateway_client\u001b[0m\u001b[0;34m)\u001b[0m\u001b[0;34m\u001b[0m\u001b[0;34m\u001b[0m\u001b[0m\n\u001b[1;32m    325\u001b[0m             \u001b[0;32mif\u001b[0m \u001b[0manswer\u001b[0m\u001b[0;34m[\u001b[0m\u001b[0;36m1\u001b[0m\u001b[0;34m]\u001b[0m \u001b[0;34m==\u001b[0m \u001b[0mREFERENCE_TYPE\u001b[0m\u001b[0;34m:\u001b[0m\u001b[0;34m\u001b[0m\u001b[0;34m\u001b[0m\u001b[0m\n\u001b[0;32m--> 326\u001b[0;31m                 raise Py4JJavaError(\n\u001b[0m\u001b[1;32m    327\u001b[0m                     \u001b[0;34m\"An error occurred while calling {0}{1}{2}.\\n\"\u001b[0m\u001b[0;34m.\u001b[0m\u001b[0;34m\u001b[0m\u001b[0;34m\u001b[0m\u001b[0m\n\u001b[1;32m    328\u001b[0m                     format(target_id, \".\", name), value)\n",
            "\u001b[0;31mPy4JJavaError\u001b[0m: An error occurred while calling z:org.apache.spark.api.python.PythonRDD.collectAndServe.\n: org.apache.spark.SparkException: Job aborted due to stage failure: Task 1 in stage 78.0 failed 1 times, most recent failure: Lost task 1.0 in stage 78.0 (TID 95) (20d8c0a329d6 executor driver): org.apache.spark.api.python.PythonException: Traceback (most recent call last):\n  File \"/usr/local/lib/python3.10/dist-packages/pyspark/python/lib/pyspark.zip/pyspark/worker.py\", line 1247, in main\n    process()\n  File \"/usr/local/lib/python3.10/dist-packages/pyspark/python/lib/pyspark.zip/pyspark/worker.py\", line 1237, in process\n    out_iter = func(split_index, iterator)\n  File \"/usr/local/lib/python3.10/dist-packages/pyspark/rdd.py\", line 5434, in pipeline_func\n    return func(split, prev_func(split, iterator))\n  File \"/usr/local/lib/python3.10/dist-packages/pyspark/rdd.py\", line 5434, in pipeline_func\n    return func(split, prev_func(split, iterator))\n  File \"/usr/local/lib/python3.10/dist-packages/pyspark/rdd.py\", line 5434, in pipeline_func\n    return func(split, prev_func(split, iterator))\n  File \"/usr/local/lib/python3.10/dist-packages/pyspark/rdd.py\", line 840, in func\n    return f(iterator)\n  File \"/usr/local/lib/python3.10/dist-packages/pyspark/rdd.py\", line 2316, in <lambda>\n    return self.mapPartitions(lambda i: [sum(1 for _ in i)]).sum()\n  File \"/usr/local/lib/python3.10/dist-packages/pyspark/rdd.py\", line 2316, in <genexpr>\n    return self.mapPartitions(lambda i: [sum(1 for _ in i)]).sum()\n  File \"/usr/local/lib/python3.10/dist-packages/pyspark/python/lib/pyspark.zip/pyspark/util.py\", line 83, in wrapper\n    return f(*args, **kwargs)\n  File \"<ipython-input-78-10afbbfd88bb>\", line 2, in <lambda>\n  File \"<ipython-input-76-e6fc483eb3f7>\", line 10, in fDirInCast\nIndexError: list index out of range\n\n\tat org.apache.spark.api.python.BasePythonRunner$ReaderIterator.handlePythonException(PythonRunner.scala:572)\n\tat org.apache.spark.api.python.PythonRunner$$anon$3.read(PythonRunner.scala:784)\n\tat org.apache.spark.api.python.PythonRunner$$anon$3.read(PythonRunner.scala:766)\n\tat org.apache.spark.api.python.BasePythonRunner$ReaderIterator.hasNext(PythonRunner.scala:525)\n\tat org.apache.spark.InterruptibleIterator.hasNext(InterruptibleIterator.scala:37)\n\tat scala.collection.Iterator.foreach(Iterator.scala:943)\n\tat scala.collection.Iterator.foreach$(Iterator.scala:943)\n\tat org.apache.spark.InterruptibleIterator.foreach(InterruptibleIterator.scala:28)\n\tat scala.collection.generic.Growable.$plus$plus$eq(Growable.scala:62)\n\tat scala.collection.generic.Growable.$plus$plus$eq$(Growable.scala:53)\n\tat scala.collection.mutable.ArrayBuffer.$plus$plus$eq(ArrayBuffer.scala:105)\n\tat scala.collection.mutable.ArrayBuffer.$plus$plus$eq(ArrayBuffer.scala:49)\n\tat scala.collection.TraversableOnce.to(TraversableOnce.scala:366)\n\tat scala.collection.TraversableOnce.to$(TraversableOnce.scala:364)\n\tat org.apache.spark.InterruptibleIterator.to(InterruptibleIterator.scala:28)\n\tat scala.collection.TraversableOnce.toBuffer(TraversableOnce.scala:358)\n\tat scala.collection.TraversableOnce.toBuffer$(TraversableOnce.scala:358)\n\tat org.apache.spark.InterruptibleIterator.toBuffer(InterruptibleIterator.scala:28)\n\tat scala.collection.TraversableOnce.toArray(TraversableOnce.scala:345)\n\tat scala.collection.TraversableOnce.toArray$(TraversableOnce.scala:339)\n\tat org.apache.spark.InterruptibleIterator.toArray(InterruptibleIterator.scala:28)\n\tat org.apache.spark.rdd.RDD.$anonfun$collect$2(RDD.scala:1049)\n\tat org.apache.spark.SparkContext.$anonfun$runJob$5(SparkContext.scala:2438)\n\tat org.apache.spark.scheduler.ResultTask.runTask(ResultTask.scala:93)\n\tat org.apache.spark.TaskContext.runTaskWithListeners(TaskContext.scala:166)\n\tat org.apache.spark.scheduler.Task.run(Task.scala:141)\n\tat org.apache.spark.executor.Executor$TaskRunner.$anonfun$run$4(Executor.scala:620)\n\tat org.apache.spark.util.SparkErrorUtils.tryWithSafeFinally(SparkErrorUtils.scala:64)\n\tat org.apache.spark.util.SparkErrorUtils.tryWithSafeFinally$(SparkErrorUtils.scala:61)\n\tat org.apache.spark.util.Utils$.tryWithSafeFinally(Utils.scala:94)\n\tat org.apache.spark.executor.Executor$TaskRunner.run(Executor.scala:623)\n\tat java.base/java.util.concurrent.ThreadPoolExecutor.runWorker(ThreadPoolExecutor.java:1128)\n\tat java.base/java.util.concurrent.ThreadPoolExecutor$Worker.run(ThreadPoolExecutor.java:628)\n\tat java.base/java.lang.Thread.run(Thread.java:829)\n\nDriver stacktrace:\n\tat org.apache.spark.scheduler.DAGScheduler.failJobAndIndependentStages(DAGScheduler.scala:2856)\n\tat org.apache.spark.scheduler.DAGScheduler.$anonfun$abortStage$2(DAGScheduler.scala:2792)\n\tat org.apache.spark.scheduler.DAGScheduler.$anonfun$abortStage$2$adapted(DAGScheduler.scala:2791)\n\tat scala.collection.mutable.ResizableArray.foreach(ResizableArray.scala:62)\n\tat scala.collection.mutable.ResizableArray.foreach$(ResizableArray.scala:55)\n\tat scala.collection.mutable.ArrayBuffer.foreach(ArrayBuffer.scala:49)\n\tat org.apache.spark.scheduler.DAGScheduler.abortStage(DAGScheduler.scala:2791)\n\tat org.apache.spark.scheduler.DAGScheduler.$anonfun$handleTaskSetFailed$1(DAGScheduler.scala:1247)\n\tat org.apache.spark.scheduler.DAGScheduler.$anonfun$handleTaskSetFailed$1$adapted(DAGScheduler.scala:1247)\n\tat scala.Option.foreach(Option.scala:407)\n\tat org.apache.spark.scheduler.DAGScheduler.handleTaskSetFailed(DAGScheduler.scala:1247)\n\tat org.apache.spark.scheduler.DAGSchedulerEventProcessLoop.doOnReceive(DAGScheduler.scala:3060)\n\tat org.apache.spark.scheduler.DAGSchedulerEventProcessLoop.onReceive(DAGScheduler.scala:2994)\n\tat org.apache.spark.scheduler.DAGSchedulerEventProcessLoop.onReceive(DAGScheduler.scala:2983)\n\tat org.apache.spark.util.EventLoop$$anon$1.run(EventLoop.scala:49)\n\tat org.apache.spark.scheduler.DAGScheduler.runJob(DAGScheduler.scala:989)\n\tat org.apache.spark.SparkContext.runJob(SparkContext.scala:2398)\n\tat org.apache.spark.SparkContext.runJob(SparkContext.scala:2419)\n\tat org.apache.spark.SparkContext.runJob(SparkContext.scala:2438)\n\tat org.apache.spark.SparkContext.runJob(SparkContext.scala:2463)\n\tat org.apache.spark.rdd.RDD.$anonfun$collect$1(RDD.scala:1049)\n\tat org.apache.spark.rdd.RDDOperationScope$.withScope(RDDOperationScope.scala:151)\n\tat org.apache.spark.rdd.RDDOperationScope$.withScope(RDDOperationScope.scala:112)\n\tat org.apache.spark.rdd.RDD.withScope(RDD.scala:410)\n\tat org.apache.spark.rdd.RDD.collect(RDD.scala:1048)\n\tat org.apache.spark.api.python.PythonRDD$.collectAndServe(PythonRDD.scala:195)\n\tat org.apache.spark.api.python.PythonRDD.collectAndServe(PythonRDD.scala)\n\tat jdk.internal.reflect.GeneratedMethodAccessor80.invoke(Unknown Source)\n\tat java.base/jdk.internal.reflect.DelegatingMethodAccessorImpl.invoke(DelegatingMethodAccessorImpl.java:43)\n\tat java.base/java.lang.reflect.Method.invoke(Method.java:566)\n\tat py4j.reflection.MethodInvoker.invoke(MethodInvoker.java:244)\n\tat py4j.reflection.ReflectionEngine.invoke(ReflectionEngine.java:374)\n\tat py4j.Gateway.invoke(Gateway.java:282)\n\tat py4j.commands.AbstractCommand.invokeMethod(AbstractCommand.java:132)\n\tat py4j.commands.CallCommand.execute(CallCommand.java:79)\n\tat py4j.ClientServerConnection.waitForCommands(ClientServerConnection.java:182)\n\tat py4j.ClientServerConnection.run(ClientServerConnection.java:106)\n\tat java.base/java.lang.Thread.run(Thread.java:829)\nCaused by: org.apache.spark.api.python.PythonException: Traceback (most recent call last):\n  File \"/usr/local/lib/python3.10/dist-packages/pyspark/python/lib/pyspark.zip/pyspark/worker.py\", line 1247, in main\n    process()\n  File \"/usr/local/lib/python3.10/dist-packages/pyspark/python/lib/pyspark.zip/pyspark/worker.py\", line 1237, in process\n    out_iter = func(split_index, iterator)\n  File \"/usr/local/lib/python3.10/dist-packages/pyspark/rdd.py\", line 5434, in pipeline_func\n    return func(split, prev_func(split, iterator))\n  File \"/usr/local/lib/python3.10/dist-packages/pyspark/rdd.py\", line 5434, in pipeline_func\n    return func(split, prev_func(split, iterator))\n  File \"/usr/local/lib/python3.10/dist-packages/pyspark/rdd.py\", line 5434, in pipeline_func\n    return func(split, prev_func(split, iterator))\n  File \"/usr/local/lib/python3.10/dist-packages/pyspark/rdd.py\", line 840, in func\n    return f(iterator)\n  File \"/usr/local/lib/python3.10/dist-packages/pyspark/rdd.py\", line 2316, in <lambda>\n    return self.mapPartitions(lambda i: [sum(1 for _ in i)]).sum()\n  File \"/usr/local/lib/python3.10/dist-packages/pyspark/rdd.py\", line 2316, in <genexpr>\n    return self.mapPartitions(lambda i: [sum(1 for _ in i)]).sum()\n  File \"/usr/local/lib/python3.10/dist-packages/pyspark/python/lib/pyspark.zip/pyspark/util.py\", line 83, in wrapper\n    return f(*args, **kwargs)\n  File \"<ipython-input-78-10afbbfd88bb>\", line 2, in <lambda>\n  File \"<ipython-input-76-e6fc483eb3f7>\", line 10, in fDirInCast\nIndexError: list index out of range\n\n\tat org.apache.spark.api.python.BasePythonRunner$ReaderIterator.handlePythonException(PythonRunner.scala:572)\n\tat org.apache.spark.api.python.PythonRunner$$anon$3.read(PythonRunner.scala:784)\n\tat org.apache.spark.api.python.PythonRunner$$anon$3.read(PythonRunner.scala:766)\n\tat org.apache.spark.api.python.BasePythonRunner$ReaderIterator.hasNext(PythonRunner.scala:525)\n\tat org.apache.spark.InterruptibleIterator.hasNext(InterruptibleIterator.scala:37)\n\tat scala.collection.Iterator.foreach(Iterator.scala:943)\n\tat scala.collection.Iterator.foreach$(Iterator.scala:943)\n\tat org.apache.spark.InterruptibleIterator.foreach(InterruptibleIterator.scala:28)\n\tat scala.collection.generic.Growable.$plus$plus$eq(Growable.scala:62)\n\tat scala.collection.generic.Growable.$plus$plus$eq$(Growable.scala:53)\n\tat scala.collection.mutable.ArrayBuffer.$plus$plus$eq(ArrayBuffer.scala:105)\n\tat scala.collection.mutable.ArrayBuffer.$plus$plus$eq(ArrayBuffer.scala:49)\n\tat scala.collection.TraversableOnce.to(TraversableOnce.scala:366)\n\tat scala.collection.TraversableOnce.to$(TraversableOnce.scala:364)\n\tat org.apache.spark.InterruptibleIterator.to(InterruptibleIterator.scala:28)\n\tat scala.collection.TraversableOnce.toBuffer(TraversableOnce.scala:358)\n\tat scala.collection.TraversableOnce.toBuffer$(TraversableOnce.scala:358)\n\tat org.apache.spark.InterruptibleIterator.toBuffer(InterruptibleIterator.scala:28)\n\tat scala.collection.TraversableOnce.toArray(TraversableOnce.scala:345)\n\tat scala.collection.TraversableOnce.toArray$(TraversableOnce.scala:339)\n\tat org.apache.spark.InterruptibleIterator.toArray(InterruptibleIterator.scala:28)\n\tat org.apache.spark.rdd.RDD.$anonfun$collect$2(RDD.scala:1049)\n\tat org.apache.spark.SparkContext.$anonfun$runJob$5(SparkContext.scala:2438)\n\tat org.apache.spark.scheduler.ResultTask.runTask(ResultTask.scala:93)\n\tat org.apache.spark.TaskContext.runTaskWithListeners(TaskContext.scala:166)\n\tat org.apache.spark.scheduler.Task.run(Task.scala:141)\n\tat org.apache.spark.executor.Executor$TaskRunner.$anonfun$run$4(Executor.scala:620)\n\tat org.apache.spark.util.SparkErrorUtils.tryWithSafeFinally(SparkErrorUtils.scala:64)\n\tat org.apache.spark.util.SparkErrorUtils.tryWithSafeFinally$(SparkErrorUtils.scala:61)\n\tat org.apache.spark.util.Utils$.tryWithSafeFinally(Utils.scala:94)\n\tat org.apache.spark.executor.Executor$TaskRunner.run(Executor.scala:623)\n\tat java.base/java.util.concurrent.ThreadPoolExecutor.runWorker(ThreadPoolExecutor.java:1128)\n\tat java.base/java.util.concurrent.ThreadPoolExecutor$Worker.run(ThreadPoolExecutor.java:628)\n\t... 1 more\n"
          ]
        }
      ]
    },
    {
      "cell_type": "markdown",
      "source": [
        "#### Trapping the Bad Data"
      ],
      "metadata": {
        "id": "DMOFfNnmP4Bm"
      }
    },
    {
      "cell_type": "code",
      "source": [
        "# Filter rows where Director is part of the Cast\n",
        "#\n",
        "def fDirInCast2(text):\n",
        "    try:\n",
        "        t1 = re.sub(r'(?!(([^\"]*\"){2})*[^\"]*$),', '@', text)        # https://stackoverflow.com/questions/38336518/remove-all-commas-between-quotes\n",
        "        t2 = re.sub(r'\"', '', t1)\n",
        "        l = t2.split(\",\")\n",
        "        if (l[3] == '') or (l[4] == ''):                        # WHY DO WE NEED THIS?  To eliminate rows where dir or cast is blank\n",
        "            return(False)\n",
        "        else:\n",
        "            dirs = set(l[3].split(\"@\"))\n",
        "            cast = set(l[4].split(\"@\"))\n",
        "            common = dirs.intersection(cast)\n",
        "            if len(common) > 0:\n",
        "                return(True)\n",
        "            else:\n",
        "                return(False)\n",
        "    except:\n",
        "        return(False)\n",
        "\n",
        "\n",
        "#netflix_RDD1.sample(False,0.01,None).filter(lambda x: fDirInCast2(x)).map(lambda x: split_4(x)).take(5)\n",
        "netflix_RDD1.filter(lambda x: fDirInCast2(x)).map(lambda x: split_4(x)).count()"
      ],
      "metadata": {
        "id": "SpywbkH5qi4b",
        "outputId": "687f4908-2edb-422e-cc6e-102acf79c5ec",
        "colab": {
          "base_uri": "https://localhost:8080/"
        }
      },
      "execution_count": 79,
      "outputs": [
        {
          "output_type": "execute_result",
          "data": {
            "text/plain": [
              "176"
            ]
          },
          "metadata": {},
          "execution_count": 79
        }
      ]
    },
    {
      "cell_type": "code",
      "source": [
        "# Filter rows where Director is part of the Cast\n",
        "#\n",
        "def fDirInCast2x(text):\n",
        "    try:\n",
        "        t1 = re.sub(r'(?!(([^\"]*\"){2})*[^\"]*$),', '@', text)        # https://stackoverflow.com/questions/38336518/remove-all-commas-between-quotes\n",
        "        t2 = re.sub(r'\"', '', t1)\n",
        "        l = t2.split(\",\")\n",
        "        if (l[3] == '') or (l[4] == ''):                        # WHY DO WE NEED THIS?  To eliminate rows where dir or cast is blank\n",
        "            return(False)\n",
        "        else:\n",
        "            dirs = set(l[3].split(\"@\"))\n",
        "            cast = set(l[4].split(\"@\"))\n",
        "            common = dirs.intersection(cast)\n",
        "            if len(common) > 0:\n",
        "                return(False)\n",
        "            else:\n",
        "                return(False)\n",
        "    except:\n",
        "        print('Error in '+ text)\n",
        "        return(True)\n",
        "\n",
        "#netflix_RDD1.sample(False,0.01,None).filter(lambda x: fDirInCast2(x)).map(lambda x: split_4(x)).take(5)\n",
        "netflix_RDD1.filter(lambda x: fDirInCast2x(x)).collect()"
      ],
      "metadata": {
        "id": "WFIOfkIFMFoZ",
        "outputId": "ed5498d0-9564-4634-bde1-061badb34ff5",
        "colab": {
          "base_uri": "https://localhost:8080/"
        }
      },
      "execution_count": 80,
      "outputs": [
        {
          "output_type": "execute_result",
          "data": {
            "text/plain": [
              "[' and probably will.\"', 's6658,Movie,\"The Memphis Belle: A Story of a']"
            ]
          },
          "metadata": {},
          "execution_count": 80
        }
      ]
    },
    {
      "cell_type": "markdown",
      "source": [
        "##### Error 1"
      ],
      "metadata": {
        "id": "HVm-Q_dz11QV"
      }
    },
    {
      "cell_type": "code",
      "source": [
        "#netflix_RDD1.filter(lambda x: ' and probably will.\"' in x).collect()"
      ],
      "metadata": {
        "id": "9KzMvNaKNHu5"
      },
      "execution_count": 81,
      "outputs": []
    },
    {
      "cell_type": "code",
      "source": [
        "# https://unix.stackexchange.com/questions/333121/how-to-find-lines-containing-a-string-and-then-printing-those-specific-lines-and\n",
        "!grep -nr ' and probably will.' /content/NetFlix.csv"
      ],
      "metadata": {
        "id": "iKfAdRC7OllB",
        "outputId": "18acde90-b030-4494-de97-79725a9b1bc2",
        "colab": {
          "base_uri": "https://localhost:8080/"
        }
      },
      "execution_count": 82,
      "outputs": [
        {
          "output_type": "stream",
          "name": "stdout",
          "text": [
            "6111: and probably will.\"\n"
          ]
        }
      ]
    },
    {
      "cell_type": "code",
      "source": [
        "# spotting the two extra lines\n",
        "#\n",
        "!grep -nr -A2 -B2 ' and probably will.' /content/NetFlix.csv"
      ],
      "metadata": {
        "id": "JpRKjNZdPcBj",
        "outputId": "600926c3-8e58-4dda-d5cc-e97bffde64c9",
        "colab": {
          "base_uri": "https://localhost:8080/"
        }
      },
      "execution_count": 83,
      "outputs": [
        {
          "output_type": "stream",
          "name": "stdout",
          "text": [
            "6109-s6108,Movie,The Bad Batch,Ana Lily Amirpour,\"Suki Waterhouse, Jason Momoa, Keanu Reeves, Jim Carrey, Giovanni Ribisi, Yolonda Ross\",United States,\"September 22, 2017\",2016,R,119 min,\"Dramas, Independent Movies, Thrillers\",\"Banished to a wasteland of undesirables, a young woman struggles to find her feet among a drug-soaked desert society and an enclave of cannibals.\"\n",
            "6110-s6109,Movie,The Bad Education Movie,Elliot Hegarty,\"Jack Whitehall, Joanna Scanlan, Iain Glen, Ethan Lawrence, Layton Williams, Kae Alexander, Weruche Opia, Nikki Runeckles, Charlie Wernham, Jack Binstead\",United Kingdom,\"December 15, 2018\",2015,TV-MA,87 min,Comedies,\"Britain's most ineffective but caring teacher takes his class to Cornwall for one last school trip, where anything could happen –\n",
            "6111: and probably will.\"\n",
            "6112-s6110,Movie,The Bad Kids,\"Keith Fulton, Louis Pepe\",,United States,\"April 1, 2017\",2016,TV-MA,101 min,Documentaries,\"In this documentary, teachers at a Mojave Desert high school adhere to a belief that compassion and life skills can profoundly help at-risk students.\"\n",
            "6113-s6111,Movie,The Ballad of Buster Scruggs,\"Joel Coen, Ethan Coen\",\"Liam Neeson, James Franco, Tim Blake Nelson, Tom Waits, Zoe Kazan, Brendan Gleeson\",United States,\"November 16, 2018\",2018,R,133 min,\"Comedies, Dramas\",\"Ranging from absurd to profound, these Western vignettes from the Coen brothers follow the adventures of outlaws and settlers on the American frontier.\"\n"
          ]
        }
      ]
    },
    {
      "cell_type": "code",
      "source": [
        "#!grep -nr -A2 -B2 ' and probably will.' /content/Headless_NetFlix.csv"
      ],
      "metadata": {
        "id": "Hd6OjlX_SSHf"
      },
      "execution_count": 84,
      "outputs": []
    },
    {
      "cell_type": "markdown",
      "source": [
        "##### Error 2"
      ],
      "metadata": {
        "id": "C4DIxUU218C3"
      }
    },
    {
      "cell_type": "code",
      "source": [
        "#netflix_RDD1.filter(lambda x: 's6658' in x).collect()"
      ],
      "metadata": {
        "id": "kIJxTj8-1_8H"
      },
      "execution_count": 85,
      "outputs": []
    },
    {
      "cell_type": "code",
      "source": [
        "!grep -nr -A2 -B2 's6658' /content/NetFlix.csv"
      ],
      "metadata": {
        "id": "6rrLLyPr2cwk",
        "outputId": "5fa59473-e581-4bfa-920a-64acc7907e92",
        "colab": {
          "base_uri": "https://localhost:8080/"
        }
      },
      "execution_count": 86,
      "outputs": [
        {
          "output_type": "stream",
          "name": "stdout",
          "text": [
            "6658-s6656,TV Show,The Mechanism,,\"Selton Mello, Caroline Abras, Enrique Diaz, Antonio Saboia, Lee Taylor, Otto Jr., Leonardo Medeiros, Osvaldo Mil, Jonathan Haagensen, Giulio Lopes, Susana Ribeiro\",Brazil,\"May 10, 2019\",2019,TV-MA,2 Seasons,\"Crime TV Shows, International TV Shows, TV Dramas\",A scandal erupts in Brazil during an investigation of alleged government corruption via oil and construction companies. Loosely inspired by true events.\n",
            "6659-s6657,Movie,The Memory of Water,Matías Bize,\"Elena Anaya, Benjamín Vicuña, Néstor Cantillana, Sergio Hernández, Silvia Marty, Etienne Bobenrieth, Antonia Zegers, Pablo Cerda\",\"Chile, Spain, Argentina, Germany\",\"February 15, 2017\",2015,TV-MA,88 min,\"Dramas, International Movies\",\"When the accidental death of a couple's young son sends them grieving in opposite directions, they're forced to re-examine their life and marriage.\"\n",
            "6660:s6658,Movie,\"The Memphis Belle: A Story of a\n",
            "6661-Flying Fortress\",William Wyler,,United States,\"March 31, 2017\",1944,TV-PG,40 min,\"Classic Movies, Documentaries\",This documentary centers on the crew of the B-17 Flying Fortress Memphis Belle as it prepares to execute a strategic bombing mission over Germany.\n",
            "6662-s6659,Movie,The Men Who Stare at Goats,Grant Heslov,\"George Clooney, Ewan McGregor, Jeff Bridges, Kevin Spacey, Stephen Lang, Robert Patrick, Waleed Zuaiter, Stephen Root, Glenn Morshower, Nick Offerman, Tim Griffin, Rebecca Mader\",\"United States, United Kingdom\",\"June 4, 2019\",2009,R,94 min,Comedies,\"A journalist latches onto an unbelievable story in Iraq when he meets Lyn, a man of mysterious origins who reveals he was a \"\"warrior monk.\"\"\"\n"
          ]
        }
      ]
    },
    {
      "cell_type": "markdown",
      "source": [
        "# IMDB Data"
      ],
      "metadata": {
        "id": "QjC--l622w_d"
      }
    },
    {
      "cell_type": "code",
      "source": [
        "!head /content/IMDBmovies.csv"
      ],
      "metadata": {
        "id": "6b9dDjrG20HN",
        "outputId": "068f87dc-4b87-45ed-b2ab-1cb03c79496a",
        "colab": {
          "base_uri": "https://localhost:8080/"
        }
      },
      "execution_count": 87,
      "outputs": [
        {
          "output_type": "stream",
          "name": "stdout",
          "text": [
            "title,genre,budget,runtime,year,month,revenue\n",
            "Avatar,Action,237000000,162.0,2009,12,2787965087\n",
            "Pirates of the Caribbean: At World's End,Adventure,300000000,169.0,2007,5,961000000\n",
            "Spectre,Action,245000000,148.0,2015,10,880674609\n",
            "The Dark Knight Rises,Action,250000000,165.0,2012,7,1084939099\n",
            "John Carter,Action,260000000,132.0,2012,3,284139100\n",
            "Spider-Man 3,Fantasy,258000000,139.0,2007,5,890871626\n",
            "Tangled,Animation,260000000,100.0,2010,11,591794936\n",
            "Avengers: Age of Ultron,Action,280000000,141.0,2015,4,1405403694\n",
            "Harry Potter and the Half-Blood Prince,Adventure,250000000,153.0,2009,7,933959197\n"
          ]
        }
      ]
    },
    {
      "cell_type": "markdown",
      "source": [
        "## Dataframe Operations"
      ],
      "metadata": {
        "id": "HgAeSoF24Lne"
      }
    },
    {
      "cell_type": "code",
      "source": [
        "imdb_df1 = spark39.read.format(\"csv\").option(\"header\", \"true\").option(\"inferSchema\", \"true\").load(\"/content/IMDBmovies.csv\")\n",
        "imdb_df1.printSchema()\n",
        "imdb_df1.show(10, truncate=False)"
      ],
      "metadata": {
        "id": "3pANWLkc3gm4",
        "outputId": "cdff6019-0440-4bb4-936f-937e3370e43b",
        "colab": {
          "base_uri": "https://localhost:8080/"
        }
      },
      "execution_count": 88,
      "outputs": [
        {
          "output_type": "stream",
          "name": "stdout",
          "text": [
            "root\n",
            " |-- title: string (nullable = true)\n",
            " |-- genre: string (nullable = true)\n",
            " |-- budget: integer (nullable = true)\n",
            " |-- runtime: double (nullable = true)\n",
            " |-- year: integer (nullable = true)\n",
            " |-- month: integer (nullable = true)\n",
            " |-- revenue: long (nullable = true)\n",
            "\n",
            "+----------------------------------------+---------+---------+-------+----+-----+----------+\n",
            "|title                                   |genre    |budget   |runtime|year|month|revenue   |\n",
            "+----------------------------------------+---------+---------+-------+----+-----+----------+\n",
            "|Avatar                                  |Action   |237000000|162.0  |2009|12   |2787965087|\n",
            "|Pirates of the Caribbean: At World's End|Adventure|300000000|169.0  |2007|5    |961000000 |\n",
            "|Spectre                                 |Action   |245000000|148.0  |2015|10   |880674609 |\n",
            "|The Dark Knight Rises                   |Action   |250000000|165.0  |2012|7    |1084939099|\n",
            "|John Carter                             |Action   |260000000|132.0  |2012|3    |284139100 |\n",
            "|Spider-Man 3                            |Fantasy  |258000000|139.0  |2007|5    |890871626 |\n",
            "|Tangled                                 |Animation|260000000|100.0  |2010|11   |591794936 |\n",
            "|Avengers: Age of Ultron                 |Action   |280000000|141.0  |2015|4    |1405403694|\n",
            "|Harry Potter and the Half-Blood Prince  |Adventure|250000000|153.0  |2009|7    |933959197 |\n",
            "|Batman v Superman: Dawn of Justice      |Action   |250000000|151.0  |2016|3    |873260194 |\n",
            "+----------------------------------------+---------+---------+-------+----+-----+----------+\n",
            "only showing top 10 rows\n",
            "\n"
          ]
        }
      ]
    },
    {
      "cell_type": "markdown",
      "source": [
        "### SQL Table"
      ],
      "metadata": {
        "id": "-N1yequ24Q1h"
      }
    },
    {
      "cell_type": "code",
      "source": [
        "imdb_df1.createOrReplaceTempView(\"timdb\")\n",
        "#spark39.sql(\"describe tNetFlix\").show()\n",
        "spark39.sql(\"select * from timdb limit 10\").show(truncate = False)"
      ],
      "metadata": {
        "id": "G09L4ygF4UES",
        "outputId": "0a176643-99ff-47e3-a035-184f54030af4",
        "colab": {
          "base_uri": "https://localhost:8080/"
        }
      },
      "execution_count": 89,
      "outputs": [
        {
          "output_type": "stream",
          "name": "stdout",
          "text": [
            "+----------------------------------------+---------+---------+-------+----+-----+----------+\n",
            "|title                                   |genre    |budget   |runtime|year|month|revenue   |\n",
            "+----------------------------------------+---------+---------+-------+----+-----+----------+\n",
            "|Avatar                                  |Action   |237000000|162.0  |2009|12   |2787965087|\n",
            "|Pirates of the Caribbean: At World's End|Adventure|300000000|169.0  |2007|5    |961000000 |\n",
            "|Spectre                                 |Action   |245000000|148.0  |2015|10   |880674609 |\n",
            "|The Dark Knight Rises                   |Action   |250000000|165.0  |2012|7    |1084939099|\n",
            "|John Carter                             |Action   |260000000|132.0  |2012|3    |284139100 |\n",
            "|Spider-Man 3                            |Fantasy  |258000000|139.0  |2007|5    |890871626 |\n",
            "|Tangled                                 |Animation|260000000|100.0  |2010|11   |591794936 |\n",
            "|Avengers: Age of Ultron                 |Action   |280000000|141.0  |2015|4    |1405403694|\n",
            "|Harry Potter and the Half-Blood Prince  |Adventure|250000000|153.0  |2009|7    |933959197 |\n",
            "|Batman v Superman: Dawn of Justice      |Action   |250000000|151.0  |2016|3    |873260194 |\n",
            "+----------------------------------------+---------+---------+-------+----+-----+----------+\n",
            "\n"
          ]
        }
      ]
    },
    {
      "cell_type": "markdown",
      "source": [
        "# Netflix Data AND IMDB Data together"
      ],
      "metadata": {
        "id": "lTA5jYn15n_m"
      }
    },
    {
      "cell_type": "markdown",
      "source": [
        "## Dataframe SQL  Joins"
      ],
      "metadata": {
        "id": "2uVG9GJqARxy"
      }
    },
    {
      "cell_type": "code",
      "source": [
        "spark39.sql(\"select count(distinct(title)) from tnetflix\").show(truncate = False)"
      ],
      "metadata": {
        "id": "j6O3KLtA8-s_",
        "outputId": "29713f40-3ad4-4494-fd87-7ec9bd600465",
        "colab": {
          "base_uri": "https://localhost:8080/"
        }
      },
      "execution_count": 90,
      "outputs": [
        {
          "output_type": "stream",
          "name": "stdout",
          "text": [
            "+---------------------+\n",
            "|count(DISTINCT title)|\n",
            "+---------------------+\n",
            "|7787                 |\n",
            "+---------------------+\n",
            "\n"
          ]
        }
      ]
    },
    {
      "cell_type": "code",
      "source": [
        "spark39.sql(\"select count(distinct(title)) from timdb\").show(truncate = False)"
      ],
      "metadata": {
        "id": "LFY-N2kx9SSo",
        "outputId": "f864f8d2-d3ce-4a8c-90b7-4cb3312268b5",
        "colab": {
          "base_uri": "https://localhost:8080/"
        }
      },
      "execution_count": 91,
      "outputs": [
        {
          "output_type": "stream",
          "name": "stdout",
          "text": [
            "+---------------------+\n",
            "|count(DISTINCT title)|\n",
            "+---------------------+\n",
            "|2000                 |\n",
            "+---------------------+\n",
            "\n"
          ]
        }
      ]
    },
    {
      "cell_type": "code",
      "source": [
        "spark39.sql(\"select count(*) from timdb, tnetflix where timdb.title = tnetflix.title\").show(truncate = False)"
      ],
      "metadata": {
        "id": "taiL4qsk4q-Y",
        "outputId": "58173e55-def3-4c84-afd8-06f303333846",
        "colab": {
          "base_uri": "https://localhost:8080/"
        }
      },
      "execution_count": 92,
      "outputs": [
        {
          "output_type": "stream",
          "name": "stdout",
          "text": [
            "+--------+\n",
            "|count(1)|\n",
            "+--------+\n",
            "|357     |\n",
            "+--------+\n",
            "\n"
          ]
        }
      ]
    },
    {
      "cell_type": "code",
      "source": [
        "spark39.sql(\"select timdb.title, timdb.year, timdb.month, tnetflix.date_added, tnetflix.release_year from timdb, tnetflix where timdb.title = tnetflix.title\").show(truncate = False)"
      ],
      "metadata": {
        "id": "qs9iEcpP-MZ_",
        "outputId": "791a9657-a435-4f1b-ef8c-f8e06aca0aaf",
        "colab": {
          "base_uri": "https://localhost:8080/"
        }
      },
      "execution_count": 93,
      "outputs": [
        {
          "output_type": "stream",
          "name": "stdout",
          "text": [
            "+-------------------------------------+----+-----+----------+------------+\n",
            "|title                                |year|month|date_added|release_year|\n",
            "+-------------------------------------+----+-----+----------+------------+\n",
            "|9                                    |2009|8    |2017-11-16|2009        |\n",
            "|21                                   |2008|3    |2020-01-01|2008        |\n",
            "|Æon Flux                             |2005|11   |2018-02-01|2005        |\n",
            "|16 Blocks                            |2006|3    |2019-11-01|2006        |\n",
            "|17 Again                             |2009|3    |2021-01-01|2009        |\n",
            "|28 Days                              |2000|4    |2020-09-30|2000        |\n",
            "|3 Days to Kill                       |2014|2    |2020-12-01|2014        |\n",
            "|30 Minutes or Less                   |2011|8    |2021-01-01|2011        |\n",
            "|50 First Dates                       |2004|2    |2020-12-01|2004        |\n",
            "|A Bridge Too Far                     |1977|6    |2020-07-01|1977        |\n",
            "|A Thousand Words                     |2012|3    |2020-07-01|2012        |\n",
            "|About a Boy                          |2002|4    |2019-02-01|2002        |\n",
            "|Across the Universe                  |2007|9    |2019-01-01|2007        |\n",
            "|Along Came a Spider                  |2001|4    |2019-10-01|2001        |\n",
            "|Angel Eyes                           |2001|5    |2020-09-05|2001        |\n",
            "|Angels & Demons                      |2009|5    |2020-12-01|2009        |\n",
            "|Arthur Christmas                     |2011|2    |2020-01-01|2011        |\n",
            "|As Good as It Gets                   |1997|12   |2020-01-01|1997        |\n",
            "|Austin Powers in Goldmember          |2002|7    |2019-12-01|2002        |\n",
            "|Austin Powers: The Spy Who Shagged Me|1999|6    |2019-12-01|1999        |\n",
            "+-------------------------------------+----+-----+----------+------------+\n",
            "only showing top 20 rows\n",
            "\n"
          ]
        }
      ]
    },
    {
      "cell_type": "markdown",
      "source": [
        "## Dataframe Native Joins"
      ],
      "metadata": {
        "id": "_u4EmRXFAdT8"
      }
    },
    {
      "cell_type": "code",
      "source": [
        "# Inner join\n",
        "imdb_df1.join(netflix_df1,netflix_df1.title ==  imdb_df1.title,\"inner\").show(truncate=False)"
      ],
      "metadata": {
        "id": "oGz18UUXAgct",
        "outputId": "bebc5aee-d2bb-434c-d7e4-f67f51bed03d",
        "colab": {
          "base_uri": "https://localhost:8080/"
        }
      },
      "execution_count": 94,
      "outputs": [
        {
          "output_type": "stream",
          "name": "stdout",
          "text": [
            "+-------------------------------------+---------+---------+-------+----+-----+---------+-------+-----+-------------------------------------+-----------------------+--------------------------------------------------------------------------------------------------------------------------------------------------------------------------------------------------------------------------------------------------------------------------------------------------------------------------------------------------------------------------------------------------------------------------------------------------------------------------------------------------------------------------------------------------------------------------------------------------------------------------------------------------------+----------------------------------------------+----------+------------+------+--------+--------------------------------------------------------+--------------------------------------------------------------------------------------------------------------------------------------------------------+\n",
            "|title                                |genre    |budget   |runtime|year|month|revenue  |show_id|type |title                                |director               |cast                                                                                                                                                                                                                                                                                                                                                                                                                                                                                                                                                                                                                                                    |country                                       |date_added|release_year|rating|duration|listed_in                                               |description                                                                                                                                             |\n",
            "+-------------------------------------+---------+---------+-------+----+-----+---------+-------+-----+-------------------------------------+-----------------------+--------------------------------------------------------------------------------------------------------------------------------------------------------------------------------------------------------------------------------------------------------------------------------------------------------------------------------------------------------------------------------------------------------------------------------------------------------------------------------------------------------------------------------------------------------------------------------------------------------------------------------------------------------+----------------------------------------------+----------+------------+------+--------+--------------------------------------------------------+--------------------------------------------------------------------------------------------------------------------------------------------------------+\n",
            "|9                                    |Action   |30000000 |79.0   |2009|8    |48428063 |s4     |Movie|9                                    |Shane Acker            |Elijah Wood, John C. Reilly, Jennifer Connelly, Christopher Plummer, Crispin Glover, Martin Landau, Fred Tatasciore, Alan Oppenheimer, Tom Kane                                                                                                                                                                                                                                                                                                                                                                                                                                                                                                         |United States                                 |2017-11-16|2009        |PG-13 |80 min  |Action & Adventure, Independent Movies, Sci-Fi & Fantasy|In a postapocalyptic world, rag-doll robots hide in fear from dangerous machines out to exterminate them, until a brave newcomer joins the group.       |\n",
            "|21                                   |Drama    |35000000 |123.0  |2008|3    |69823199 |s5     |Movie|21                                   |Robert Luketic         |Jim Sturgess, Kevin Spacey, Kate Bosworth, Aaron Yoo, Liza Lapira, Jacob Pitts, Laurence Fishburne, Jack McGee, Josh Gad, Sam Golzari, Helen Carey, Jack Gilpin                                                                                                                                                                                                                                                                                                                                                                                                                                                                                         |United States                                 |2020-01-01|2008        |PG-13 |123 min |Dramas                                                  |A brilliant group of students become card-counting experts with the intent of swindling millions out of Las Vegas casinos by playing blackjack.         |\n",
            "|Æon Flux                             |Action   |62000000 |93.0   |2005|11   |52304001 |s45    |Movie|Æon Flux                             |Karyn Kusama           |Charlize Theron, Marton Csokas, Jonny Lee Miller, Sophie Okonedo, Frances McDormand, Pete Postlethwaite, Amelia Warner, Caroline Chikezie, Nikolai Kinski, Paterson Joseph, Yangzom Brauen                                                                                                                                                                                                                                                                                                                                                                                                                                                              |United States                                 |2018-02-01|2005        |PG-13 |93 min  |Action & Adventure, Sci-Fi & Fantasy                    |Aiming to hasten an uprising, the leader of an underground rebellion dispatches acrobatic assassin Aeon Flux to eliminate the government's top leader.  |\n",
            "|16 Blocks                            |Action   |55000000 |105.0  |2006|3    |65664721 |s72    |Movie|16 Blocks                            |Richard Donner         |Bruce Willis, Mos Def, David Morse, Jenna Stern, Cylk Cozart, Casey Sander, David Zayas, Robert Racki, Patrick Garrow, Sasha Roiz                                                                                                                                                                                                                                                                                                                                                                                                                                                                                                                       |United States, Germany                        |2019-11-01|2006        |PG-13 |102 min |Action & Adventure                                      |Tasked with escorting a prosecution witness to court, an aging cop gears up for the 16-block trek – but they'll be lucky to make it there alive.        |\n",
            "|17 Again                             |Comedy   |20000000 |102.0  |2009|3    |136267476|s73    |Movie|17 Again                             |Burr Steers            |Zac Efron, Leslie Mann, Matthew Perry, Thomas Lennon, Michelle Trachtenberg, Melora Hardin, Sterling Knight, Hunter Parrish, Nicole Sullivan, Allison Miller                                                                                                                                                                                                                                                                                                                                                                                                                                                                                            |United States                                 |2021-01-01|2009        |PG-13 |102 min |Comedies                                                |\"Nearing a midlife crisis, thirty-something Mike wishes for a \"\"do-over\"\" – and that's exactly what he gets when he wakes up to find he's 17 again.\"    |\n",
            "|28 Days                              |Comedy   |43000000 |103.0  |2000|4    |0        |s95    |Movie|28 Days                              |Betty Thomas           |Sandra Bullock, Viggo Mortensen, Dominic West, Diane Ladd, Elizabeth Perkins, Steve Buscemi, Alan Tudyk, Mike O'Malley, Azura Skye, Reni Santoni, Marianne Jean-Baptiste                                                                                                                                                                                                                                                                                                                                                                                                                                                                                |United States                                 |2020-09-30|2000        |PG-13 |104 min |Comedies, Dramas                                        |After her drunken antics result in property damage, an alcoholic journalist enters rehab – and soon meets a fellow resident who changes her outlook.    |\n",
            "|3 Days to Kill                       |Action   |28000000 |113.0  |2014|2    |52597999 |s97    |Movie|3 Days to Kill                       |McG                    |Kevin Costner, Amber Heard, Hailee Steinfeld, Connie Nielsen, Tómas Lemarquis, Richard Sammel, Marc Andréoni, Bruno Ricci, Jonas Bloquet, Eriq Ebouaney                                                                                                                                                                                                                                                                                                                                                                                                                                                                                                 |United States, France, Serbia                 |2020-12-01|2014        |PG-13 |117 min |Action & Adventure                                      |A terminally ill secret agent accepts a risky mission in exchange for an experimental drug that might save him – if he can survive its side effects.    |\n",
            "|30 Minutes or Less                   |Action   |28000000 |83.0   |2011|8    |40547440 |s105   |Movie|30 Minutes or Less                   |Ruben Fleischer        |Jesse Eisenberg, Danny McBride, Aziz Ansari, Nick Swardson, Dilshad Vadsaria, Michael Peña, Bianca Kajlich, Fred Ward                                                                                                                                                                                                                                                                                                                                                                                                                                                                                                                                   |United States                                 |2021-01-01|2011        |R     |83 min  |Action & Adventure, Comedies                            |Two crooks planning a bank heist wind up abducting a pizza delivery driver and force him to commit the robbery — with a strict time limit.              |\n",
            "|50 First Dates                       |Comedy   |75000000 |99.0   |2004|2    |196482882|s122   |Movie|50 First Dates                       |Peter Segal            |Adam Sandler, Drew Barrymore, Rob Schneider, Sean Astin, Lusia Strus, Dan Aykroyd, Amy Hill, Allen Covert, Blake Clark, Maya Rudolph                                                                                                                                                                                                                                                                                                                                                                                                                                                                                                                    |United States                                 |2020-12-01|2004        |PG-13 |99 min  |Comedies, Romantic Movies                               |After falling for a pretty art teacher who has no short-term memory, a marine veterinarian has to win her over again every single day.                  |\n",
            "|A Bridge Too Far                     |Drama    |22000000 |175.0  |1977|6    |50750000 |s154   |Movie|A Bridge Too Far                     |Richard Attenborough   |Dirk Bogarde, James Caan, Michael Caine, Sean Connery, Edward Fox, Elliott Gould, Gene Hackman, Anthony Hopkins, Hardy Krüger, Laurence Olivier, Ryan O'Neal, Robert Redford, Maximilian Schell, Liv Ullmann                                                                                                                                                                                                                                                                                                                                                                                                                                            |United States, United Kingdom                 |2020-07-01|1977        |PG    |176 min |Action & Adventure, Classic Movies, Dramas              |This wartime drama details a pivotal day in 1944 when an Allied task force tried to win World War II by seizing control of key bridges in Holland.      |\n",
            "|A Thousand Words                     |Drama    |40000000 |91.0   |2012|3    |22044277 |s241   |Movie|A Thousand Words                     |Brian Robbins          |Eddie Murphy, Kerry Washington, Cliff Curtis, Clark Duke, Allison Janney, Ruby Dee, John Witherspoon, Jack McBrayer                                                                                                                                                                                                                                                                                                                                                                                                                                                                                                                                     |United States                                 |2020-07-01|2012        |PG-13 |92 min  |Comedies                                                |When he learns his karma will permit him to speak just a thousand more words before he dies, fast-talking agent Jack must make every syllable count.    |\n",
            "|About a Boy                          |Drama    |27000000 |101.0  |2002|4    |129000000|s287   |Movie|About a Boy                          |Chris Weitz, Paul Weitz|Nicholas Hoult, Toni Collette, Victoria Smurfit, Sharon Small, Natalia Tena, Isabel Brook, Hugh Grant, Rachel Weisz, Nicholas Hutchison                                                                                                                                                                                                                                                                                                                                                                                                                                                                                                                 |United Kingdom, United States, France, Germany|2019-02-01|2002        |PG-13 |101 min |Comedies, Dramas, International Movies                  |Hip, irresponsible Londoner Will invents an imaginary son and starts attending single-parent meetings to find available women.                          |\n",
            "|Across the Universe                  |Adventure|0        |133.0  |2007|9    |0        |s298   |Movie|Across the Universe                  |Julie Taymor           |Evan Rachel Wood, Jim Sturgess, Joe Anderson, Dana Fuchs, Martin Luther, James Urbaniak, T.V. Carpio, Spencer Liff                                                                                                                                                                                                                                                                                                                                                                                                                                                                                                                                      |United States, United Kingdom                 |2019-01-01|2007        |PG-13 |133 min |Dramas, Music & Musicals, Romantic Movies               |An American girl and a British lad fall in love amid the social and political upheaval of the 1960s, in this musical featuring songs by the Beatles.    |\n",
            "|Along Came a Spider                  |Crime    |60000000 |104.0  |2001|4    |105178561|s432   |Movie|Along Came a Spider                  |Lee Tamahori           |Morgan Freeman, Monica Potter, Michael Wincott, Dylan Baker, Mika Boorem, Anton Yelchin, Kim Hawthorne, Jay O. Sanders, Billy Burke, Michael Moriarty, Penelope Ann Miller                                                                                                                                                                                                                                                                                                                                                                                                                                                                              |United States, Germany, Canada                |2019-10-01|2001        |R     |103 min |Thrillers                                               |When a girl is kidnapped from a prestigious prep school, a homicide detective takes the case, teaming up with young security agent.                     |\n",
            "|Angel Eyes                           |Drama    |53000000 |102.0  |2001|5    |29700000 |s518   |Movie|Angel Eyes                           |Luis Mandoki           |Jennifer Lopez, Jim Caviezel, Sonia Braga, Terrence Howard, Jeremy Sisto, Monet Mazur, Victor Argo, Shirley Knight                                                                                                                                                                                                                                                                                                                                                                                                                                                                                                                                      |United States                                 |2020-09-05|2001        |R     |103 min |Dramas, Romantic Movies                                 |When a violent assault leaves her vulnerable, a streetwise Chicago cop receives help from a haunted loner who's struggling with traumas of his own.     |\n",
            "|Angels & Demons                      |Thriller |150000000|138.0  |2009|5    |356613439|s522   |Movie|Angels & Demons                      |Ron Howard             |Tom Hanks, Ewan McGregor, Ayelet Zurer, Stellan Skarsgård, Pierfrancesco Favino, Nikolaj Lie Kaas, Armin Mueller-Stahl, Thure Lindhardt, David Pasquesi, Cosimo Fusco                                                                                                                                                                                                                                                                                                                                                                                                                                                                                   |United States, Italy                          |2020-12-01|2009        |PG-13 |139 min |Thrillers                                               |A Harvard symbologist races to uncover clues that will help stop an attack on the Vatican by a secret society looking to retaliate for old persecutions.|\n",
            "|Arthur Christmas                     |Drama    |0        |97.0   |2011|2    |0        |s589   |Movie|Arthur Christmas                     |Sarah Smith            |James McAvoy, Hugh Laurie, Bill Nighy, Jim Broadbent, Imelda Staunton, Ashley Jensen, Ramona Marquez, Marc Wootton, Laura Linney, Eva Longoria, Michael Palin, Joan Cusack, Deborah Findlay, Rich Fulcher, Sarah Smith, Clint Dyer, Kerry Shale, Stewart Lee, Bronagh Gallagher, Kevin Cecil, Alistair McGowan, David Menkin, Kris Pearn, Ian Ashpitel, Rich Hall, Seeta Indrani, Jane Horrocks, Peter Baynham, Emma Kennedy, Dominic West, Jerry Lambert, Julia Davis, Robbie Coltrane, Iain McKee, Sanjeev Bhaskar, Andy Serkis, Tamsin Greig, Rhys Darby, Seamus Malone, Cody Cameron, David Schneider, Kevin Eldon, Danny John-Jules, Brian Cummings|United Kingdom, United States                 |2020-01-01|2011        |PG    |98 min  |Children & Family Movies, Comedies                      |At Santa Claus's super-secret toy-making facility, Mr. Claus entrusts his son, Arthur, to carry out an ultra-important Christmas mission.               |\n",
            "|As Good as It Gets                   |Comedy   |50000000 |139.0  |1997|12   |314178011|s593   |Movie|As Good as It Gets                   |James L. Brooks        |Jack Nicholson, Helen Hunt, Greg Kinnear, Cuba Gooding Jr., Skeet Ulrich, Shirley Knight, Yeardley Smith, Lupe Ontiveros                                                                                                                                                                                                                                                                                                                                                                                                                                                                                                                                |United States                                 |2020-01-01|1997        |PG-13 |139 min |Comedies, Romantic Movies                               |The structured world of a sour, obsessive-compulsive author crumbles when he's drawn into the lives of a stressed-out single mom and his gay neighbor.  |\n",
            "|Austin Powers in Goldmember          |Comedy   |63000000 |94.0   |2002|7    |296655431|s626   |Movie|Austin Powers in Goldmember          |Jay Roach              |Mike Myers, Beyoncé Knowles-Carter, Seth Green, Michael York, Robert Wagner, Mindy Sterling, Verne Troyer, Michael Caine, Fred Savage                                                                                                                                                                                                                                                                                                                                                                                                                                                                                                                   |United States                                 |2019-12-01|2002        |PG-13 |94 min  |Action & Adventure, Comedies                            |The world's most shagadelic spy continues his fight against the diabolical Dr. Evil, who's teamed with a new foe: 1970s villain Goldmember.             |\n",
            "|Austin Powers: The Spy Who Shagged Me|Adventure|33000000 |95.0   |1999|6    |310940086|s628   |Movie|Austin Powers: The Spy Who Shagged Me|Jay Roach              |Mike Myers, Heather Graham, Michael York, Robert Wagner, Rob Lowe, Seth Green, Mindy Sterling, Verne Troyer, Elizabeth Hurley, Will Ferrell                                                                                                                                                                                                                                                                                                                                                                                                                                                                                                             |United States                                 |2019-12-01|1999        |PG-13 |95 min  |Action & Adventure, Comedies, Sci-Fi & Fantasy          |\"When diabolical genius Dr. Evil travels back in time to steal superspy Austin Powers's \"\"mojo                                                          |\n",
            "+-------------------------------------+---------+---------+-------+----+-----+---------+-------+-----+-------------------------------------+-----------------------+--------------------------------------------------------------------------------------------------------------------------------------------------------------------------------------------------------------------------------------------------------------------------------------------------------------------------------------------------------------------------------------------------------------------------------------------------------------------------------------------------------------------------------------------------------------------------------------------------------------------------------------------------------+----------------------------------------------+----------+------------+------+--------+--------------------------------------------------------+--------------------------------------------------------------------------------------------------------------------------------------------------------+\n",
            "only showing top 20 rows\n",
            "\n"
          ]
        }
      ]
    },
    {
      "cell_type": "code",
      "source": [
        "imdb_df1.join(netflix_df1,netflix_df1.title ==  imdb_df1.title,\"inner\").count()"
      ],
      "metadata": {
        "id": "yDemzazHBkmK",
        "outputId": "fbe29bfc-b451-4d1b-94d5-df8d8f3cc584",
        "colab": {
          "base_uri": "https://localhost:8080/"
        }
      },
      "execution_count": 95,
      "outputs": [
        {
          "output_type": "execute_result",
          "data": {
            "text/plain": [
              "357"
            ]
          },
          "metadata": {},
          "execution_count": 95
        }
      ]
    },
    {
      "cell_type": "markdown",
      "metadata": {
        "id": "EKTZezaqMK_0"
      },
      "source": [
        "#Chronobooks <br>\n",
        "![alt text](https://1.bp.blogspot.com/-lTiYBkU2qbU/X1er__fvnkI/AAAAAAAAjtE/GhDR3OEGJr4NG43fZPodrQD5kbxtnKebgCLcBGAsYHQ/s600/Footer2020-600x200.png)<hr>\n",
        "Chronotantra and Chronoyantra are two science fiction novels that explore the collapse of human civilisation on Earth and then its rebirth and reincarnation both on Earth as well as on the distant worlds of Mars, Titan and Enceladus. But is it the human civilisation that is being reborn? Or is it some other sentience that is revealing itself.\n",
        "If you have an interest in AI and found this material useful, you may consider buying these novels, in paperback or kindle, from [http://bit.ly/chronobooks](http://bit.ly/chronobooks)"
      ]
    }
  ]
}