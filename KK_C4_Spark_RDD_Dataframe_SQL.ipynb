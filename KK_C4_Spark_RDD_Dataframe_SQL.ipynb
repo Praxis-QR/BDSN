{
  "nbformat": 4,
  "nbformat_minor": 0,
  "metadata": {
    "colab": {
      "provenance": [],
      "collapsed_sections": [
        "W2QOKe1NRHn4",
        "sRvq6-Cd5cwS",
        "-tVgOWHgpc0W",
        "_2HO3H2WkkDC",
        "G9QnYzQBmqC6"
      ],
      "include_colab_link": true
    },
    "kernelspec": {
      "name": "python3",
      "display_name": "Python 3"
    }
  },
  "cells": [
    {
      "cell_type": "markdown",
      "metadata": {
        "id": "view-in-github",
        "colab_type": "text"
      },
      "source": [
        "<a href=\"https://colab.research.google.com/github/Praxis-QR/BDSN/blob/main/KK_C4_Spark_RDD_Dataframe_SQL.ipynb\" target=\"_parent\"><img src=\"https://colab.research.google.com/assets/colab-badge.svg\" alt=\"Open In Colab\"/></a>"
      ]
    },
    {
      "cell_type": "markdown",
      "metadata": {
        "id": "fj93_nN2wPV1"
      },
      "source": [
        "![alt text](https://github.com/Praxis-QR/RDWH/raw/main/images/YantraJaalBanner.png)<br>\n",
        "\n",
        "\n",
        "<hr>\n",
        "\n",
        "[Prithwis Mukerjee](http://www.linkedin.com/in/prithwis)<br>"
      ]
    },
    {
      "cell_type": "markdown",
      "source": [
        "# Basic Data Analysis | Supermarket | Netflix | IMDB\n",
        "Demonstrate the usage of RDD, Spark Dataframe and Spark SQL to explore the same datafile. <br>\n",
        "More detailed tutorial available at https://github.com/Praxis-QR/BDSN/blob/main/Complex_Complete_Spark_Tutorial.ipynb\n",
        "<hr>\n"
      ],
      "metadata": {
        "id": "Y-gYEr36F06t"
      }
    },
    {
      "cell_type": "code",
      "source": [
        "from datetime import datetime\n",
        "import pytz\n",
        "print('ॐ श्री सरस्वत्यै नमः',datetime.now(pytz.timezone('Asia/Calcutta')))\n",
        "\n",
        "!python --version\n",
        "!lsb_release -a\n",
        "\n",
        "#check which version of MongoDB  is available\n",
        "#!apt-cache policy mongodb\n",
        "\n",
        "#check which versions of software are available\n",
        "#!pip3 index versions pyspark\n",
        "#!pip3 index versions pyngrok"
      ],
      "metadata": {
        "id": "dHceCHdUqREm",
        "outputId": "615622e5-420e-470b-bd9c-275a5766880b",
        "colab": {
          "base_uri": "https://localhost:8080/"
        }
      },
      "execution_count": 1,
      "outputs": [
        {
          "output_type": "stream",
          "name": "stdout",
          "text": [
            "ॐ श्री सरस्वत्यै नमः 2024-01-21 11:57:26.347567+05:30\n",
            "Python 3.10.12\n",
            "No LSB modules are available.\n",
            "Distributor ID:\tUbuntu\n",
            "Description:\tUbuntu 22.04.3 LTS\n",
            "Release:\t22.04\n",
            "Codename:\tjammy\n"
          ]
        }
      ]
    },
    {
      "cell_type": "markdown",
      "source": [
        "# Download Sample Data as CSV files\n",
        "Sourced from https://github.com/search?q=owner%3Ajigsawlabs-student%20pyspark&type=repositories"
      ],
      "metadata": {
        "id": "poH3PbIicLHC"
      }
    },
    {
      "cell_type": "code",
      "source": [
        "import pandas as pd\n",
        "import re"
      ],
      "metadata": {
        "id": "ofMRWfBL3ayD"
      },
      "execution_count": 18,
      "outputs": []
    },
    {
      "cell_type": "code",
      "source": [
        "\n",
        "#!wget -O netflix.csv \"https://raw.githubusercontent.com/jigsawlabs-student/pyspark-cluster-lab/main/netflix_titles.csv\"\n",
        "!wget -q \"https://github.com/Praxis-QR/BDSN/raw/main/Data2/NetFlix.csv\"\n",
        "#df = pd.read_csv('s3://jigsaw-labs-student/supermarket_sales.csv')\n",
        "df1 = pd.read_csv('NetFlix.csv')\n",
        "\n",
        "!wget -q 'https://github.com/Praxis-QR/BDSN/raw/main/Data2/SuperMarketSales.csv'\n",
        "df2 = pd.read_csv('SuperMarketSales.csv')\n",
        "\n",
        "#df2 = pd.read_csv(\"s3://jigsaw-labs-student/imdb_movies.csv\")\n",
        "!wget -q 'https://github.com/Praxis-QR/BDSN/raw/main/Data2/IMDBmovies.csv'\n",
        "df3 = pd.read_csv('IMDBmovies.csv')\n",
        "df1.shape, df2.shape, df3.shape"
      ],
      "metadata": {
        "id": "Pqv2qe7ucS1i",
        "outputId": "ee74f948-c226-4e6d-928b-448c869a9b46",
        "colab": {
          "base_uri": "https://localhost:8080/"
        }
      },
      "execution_count": 2,
      "outputs": [
        {
          "output_type": "execute_result",
          "data": {
            "text/plain": [
              "((7787, 12), (1000, 17), (2000, 7))"
            ]
          },
          "metadata": {},
          "execution_count": 2
        }
      ]
    },
    {
      "cell_type": "markdown",
      "metadata": {
        "id": "eSOI8k9qicmu"
      },
      "source": [
        "# Spark Installation\n"
      ]
    },
    {
      "cell_type": "markdown",
      "source": [
        "## Full Installation - Skip, not required"
      ],
      "metadata": {
        "id": "GguG29b062na"
      }
    },
    {
      "cell_type": "code",
      "metadata": {
        "id": "gIjVxBSKIDsW"
      },
      "source": [
        "#!apt update > /dev/null\n",
        "#!apt install openjdk-8-jdk-headless -qq > /dev/null"
      ],
      "execution_count": null,
      "outputs": []
    },
    {
      "cell_type": "code",
      "metadata": {
        "id": "jAgQ-0fGhxWI"
      },
      "source": [
        "# Get latest and correct version of Spark\n",
        "#\n",
        "# if the current version of Spark is not used, there may be errors\n",
        "# check here for current versions http://apache.osuosl.org/spark\n",
        "#\n",
        "#!wget -q http://apache.osuosl.org/spark/spark-2.2.2/spark-2.2.2-bin-hadoop2.7.tgz\n",
        "#!wget -q http://apache.osuosl.org/spark/spark-2.4.0/spark-2.4.0-bin-hadoop2.7.tgz\n",
        "#!wget -q http://apache.osuosl.org/spark/spark-2.4.3/spark-2.4.3-bin-hadoop2.7.tgz\n",
        "#!wget -q http://apache.osuosl.org/spark/spark-2.4.4/spark-2.4.4-bin-hadoop2.7.tgz\n",
        "#!wget -q http://apache.osuosl.org/spark/spark-2.4.5/spark-2.4.5-bin-hadoop2.7.tgz\n",
        "#!wget -q http://apache.osuosl.org/spark/spark-3.0.1/spark-3.0.1-bin-hadoop3.2.tgz\n",
        "#!wget -q http://apache.osuosl.org/spark/spark-3.1.2/spark-3.1.2-bin-hadoop3.2.tgz\n",
        "\n",
        "#!tar xf spark-2.4.5-bin-hadoop2.7.tgz\n",
        "#!tar xf spark-3.0.1-bin-hadoop3.2.tgz\n",
        "#!tar xf spark-3.1.2-bin-hadoop3.2.tgz\n",
        "#!pip install -q findspark\n",
        "#!pip install -q pyspark\n",
        "\n",
        "#import os\n",
        "#os.environ[\"JAVA_HOME\"] = \"/usr/lib/jvm/java-8-openjdk-amd64\"\n",
        "#os.environ[\"SPARK_HOME\"] = \"/content/spark-2.4.0-bin-hadoop2.7\"\n",
        "#os.environ[\"SPARK_HOME\"] = \"/content/spark-2.4.4-bin-hadoop2.7\"\n",
        "#os.environ[\"SPARK_HOME\"] = \"/content/spark-2.4.5-bin-hadoop2.7\"\n",
        "#os.environ[\"SPARK_HOME\"] = \"/content/spark-3.0.1-bin-hadoop3.2\"\n",
        "#os.environ[\"SPARK_HOME\"] = \"/content/spark-3.1.2-bin-hadoop3.2\"\n"
      ],
      "execution_count": null,
      "outputs": []
    },
    {
      "cell_type": "code",
      "metadata": {
        "id": "7ClRT_Ari2Ys"
      },
      "source": [
        "# findspark route is no more required\n",
        "#import findspark\n",
        "#findspark.init()\n",
        "#\n",
        "#findspark.init('/content/spark-2.2.2-bin-hadoop2.7')\n",
        "#\n",
        "# https://stackoverflow.com/questions/42223498/findspark-init-indexerror-list-index-out-of-range-error\n",
        "#\n"
      ],
      "execution_count": null,
      "outputs": []
    },
    {
      "cell_type": "markdown",
      "source": [
        "## Direct Install with pip"
      ],
      "metadata": {
        "id": "vI0evwwr7CpC"
      }
    },
    {
      "cell_type": "code",
      "source": [
        "!pip3 -q install pyspark\n",
        "!pip3 -q install pyngrok\n",
        "#!pip3 -q install s3fs"
      ],
      "metadata": {
        "colab": {
          "base_uri": "https://localhost:8080/"
        },
        "id": "7KtBzIPRpF-W",
        "outputId": "41a5a019-6805-4bff-9488-c0da009cea7e"
      },
      "execution_count": 3,
      "outputs": [
        {
          "output_type": "stream",
          "name": "stdout",
          "text": [
            "\u001b[2K     \u001b[90m━━━━━━━━━━━━━━━━━━━━━━━━━━━━━━━━━━━━━━━━\u001b[0m \u001b[32m316.9/316.9 MB\u001b[0m \u001b[31m2.9 MB/s\u001b[0m eta \u001b[36m0:00:00\u001b[0m\n",
            "\u001b[?25h  Preparing metadata (setup.py) ... \u001b[?25l\u001b[?25hdone\n",
            "  Building wheel for pyspark (setup.py) ... \u001b[?25l\u001b[?25hdone\n"
          ]
        }
      ]
    },
    {
      "cell_type": "code",
      "source": [
        "#from pyspark.sql.functions import col, to_date, to_timestamp\n",
        "#from pyspark.sql.functions import regexp_replace\n",
        "#from pyspark.sql.types import StructType,StructField, StringType, DateType, TimestampType, IntegerType,DoubleType, FloatType,NumericType, DecimalType\n",
        "#\n",
        "from pyspark.sql.types import *\n",
        "from pyspark.sql.functions import *\n",
        "from pyspark.sql import SparkSession\n",
        "#"
      ],
      "metadata": {
        "id": "zshFo_neioPt"
      },
      "execution_count": 4,
      "outputs": []
    },
    {
      "cell_type": "code",
      "source": [
        "# spark = SparkSession.builder.master(\"local[*]\").getOrCreate()\n",
        "# note UI port switched from default 4040 to 4050 to avoid clash with ngrok\n",
        "#\n",
        "spark39 = SparkSession.builder.master(\"local[*]\").\\\n",
        "            config('spark.ui.port', '4050').\\\n",
        "            appName(\"Yantrajaal\").\\\n",
        "            getOrCreate()\n",
        "#\n",
        "sc = spark39.sparkContext\n",
        "#\n",
        "# The spark Console UI is available in the link that will be displayed in this cell.\n",
        "# If you do not wish to use the Console, you may skip the Tunnel part\n",
        "sc"
      ],
      "metadata": {
        "id": "JA26cSUf7Maq",
        "outputId": "84fff96d-e464-4940-b3e5-c21eaa842df6",
        "colab": {
          "base_uri": "https://localhost:8080/",
          "height": 196
        }
      },
      "execution_count": 5,
      "outputs": [
        {
          "output_type": "execute_result",
          "data": {
            "text/plain": [
              "<SparkContext master=local[*] appName=Yantrajaal>"
            ],
            "text/html": [
              "\n",
              "        <div>\n",
              "            <p><b>SparkContext</b></p>\n",
              "\n",
              "            <p><a href=\"http://15c7b5982c02:4050\">Spark UI</a></p>\n",
              "\n",
              "            <dl>\n",
              "              <dt>Version</dt>\n",
              "                <dd><code>v3.5.0</code></dd>\n",
              "              <dt>Master</dt>\n",
              "                <dd><code>local[*]</code></dd>\n",
              "              <dt>AppName</dt>\n",
              "                <dd><code>Yantrajaal</code></dd>\n",
              "            </dl>\n",
              "        </div>\n",
              "        "
            ]
          },
          "metadata": {},
          "execution_count": 5
        }
      ]
    },
    {
      "cell_type": "markdown",
      "metadata": {
        "id": "W2QOKe1NRHn4"
      },
      "source": [
        "##Build Tunnel with ngrok <br>\n",
        "This part required ONLY if you need to access Spark Console<br>\n",
        "To get your ngrok token please visit https://dashboard.ngrok.com/login <br>\n",
        "and create a free account"
      ]
    },
    {
      "cell_type": "markdown",
      "metadata": {
        "id": "FG1ZwJ8yehyw"
      },
      "source": [
        "###Load ngrok token from GDrive<br>\n",
        "this part may be skipped if ngrok can be placed directly in one of the two next steps"
      ]
    },
    {
      "cell_type": "code",
      "metadata": {
        "colab": {
          "base_uri": "https://localhost:8080/"
        },
        "id": "n7uFjFW9RU9L",
        "outputId": "2b71da2c-7c51-4f17-adbc-8ea2e7040e60"
      },
      "source": [
        "from google.colab import drive\n",
        "drive.mount('/content/drive')\n",
        "#\n",
        "#!ls /content/drive/'My Drive'/Praxis/WebCredentials/\n",
        "#\n",
        "!cp /content/drive/'My Drive'/Praxis/WebCredentials/ngrokToken.py ."
      ],
      "execution_count": null,
      "outputs": [
        {
          "output_type": "stream",
          "name": "stdout",
          "text": [
            "Mounted at /content/drive\n"
          ]
        }
      ]
    },
    {
      "cell_type": "code",
      "metadata": {
        "id": "EXb94HvLSSBb"
      },
      "source": [
        "# credential file for Prithwis Mukerjee\n",
        "# this file needs to be uploaded into the VM\n",
        "\n",
        "from ngrokToken import ngrokToken\n",
        "\n",
        "#for the sake of privacy the following credentials need to be stored in a text file called ngrokToken.py\n",
        "#in the Colab VM in the format given below\n",
        "#\n",
        "\n",
        "#otherwise, the values can be directly placed here\n",
        "\n",
        "#ngrokToken = 'xxxxxxxxxxxxxxx'   # uncomment this line and place your own credentials here\n",
        "#token is available at https://dashboard.ngrok.com/get-started/setup\n",
        "\n",
        "\n",
        "#print(ngrokToken)\n",
        "ngrokTokenCmd = 'ngrok authtoken '+ngrokToken"
      ],
      "execution_count": null,
      "outputs": []
    },
    {
      "cell_type": "markdown",
      "metadata": {
        "id": "GuCKEn_dsfkm"
      },
      "source": [
        "this code adapted from https://towardsdatascience.com/quickly-share-ml-webapps-from-google-colab-using-ngrok-for-free-ae899ca2661a"
      ]
    },
    {
      "cell_type": "code",
      "metadata": {
        "id": "gx0ssMRt36k4",
        "colab": {
          "base_uri": "https://localhost:8080/"
        },
        "outputId": "917e6db6-82b6-4019-d85d-6a8cc0de3ae9"
      },
      "source": [
        "from pyngrok import ngrok\n",
        "\n",
        "# you may place the token directly here\n",
        "#!ngrok authtoken xxxxxxxxxxxxxxxxxxxxxxxxxxxxxx\n",
        "get_ipython().system_raw(ngrokTokenCmd)\n",
        "\n",
        "# Open a HTTP tunnel on the default port 80\n",
        "#\n",
        "public_url = ngrok.connect(4050)\n",
        "#This is where the Spark Console UI will be visible\n",
        "public_url"
      ],
      "execution_count": null,
      "outputs": [
        {
          "output_type": "execute_result",
          "data": {
            "text/plain": [
              "<NgrokTunnel: \"https://ba7a-34-23-247-21.ngrok-free.app\" -> \"http://localhost:4050\">"
            ]
          },
          "metadata": {},
          "execution_count": 8
        }
      ]
    },
    {
      "cell_type": "markdown",
      "metadata": {
        "id": "RL_D5j-oOn2V"
      },
      "source": [
        "The next four cells are not required. Mainly used to check on the status of the Tunnel"
      ]
    },
    {
      "cell_type": "code",
      "metadata": {
        "id": "MO66r_yEftBC",
        "colab": {
          "base_uri": "https://localhost:8080/"
        },
        "outputId": "7fe5615b-5876-41ba-cab7-0f6e39f9cdf0"
      },
      "source": [
        "!curl -s http://localhost:4040/api/tunnels | python3 -c \\\n",
        "    \"import sys, json; print(json.load(sys.stdin)['tunnels'][0]['public_url'])\""
      ],
      "execution_count": null,
      "outputs": [
        {
          "output_type": "stream",
          "name": "stdout",
          "text": [
            "https://ba7a-34-23-247-21.ngrok-free.app\n"
          ]
        }
      ]
    },
    {
      "cell_type": "code",
      "metadata": {
        "id": "n7tQPpQ8q09V"
      },
      "source": [
        "#!ps"
      ],
      "execution_count": null,
      "outputs": []
    },
    {
      "cell_type": "code",
      "metadata": {
        "id": "yvkMV2GxrI3L"
      },
      "source": [
        "#!kill -9 1219"
      ],
      "execution_count": null,
      "outputs": []
    },
    {
      "cell_type": "markdown",
      "source": [
        "### S3 Access ( Optional )\n",
        "This data is not used, kept for reference"
      ],
      "metadata": {
        "id": "VQ8YGj41p28f"
      }
    },
    {
      "cell_type": "code",
      "source": [
        "!pip3 -q install s3fs           # error does not seem to matter"
      ],
      "metadata": {
        "id": "gIjGjAGiqAzm",
        "outputId": "df06a636-b010-461b-e793-660113348150",
        "colab": {
          "base_uri": "https://localhost:8080/"
        }
      },
      "execution_count": null,
      "outputs": [
        {
          "output_type": "stream",
          "name": "stdout",
          "text": [
            "\u001b[2K     \u001b[90m━━━━━━━━━━━━━━━━━━━━━━━━━━━━━━━━━━━━━━━━\u001b[0m \u001b[32m75.8/75.8 kB\u001b[0m \u001b[31m3.3 MB/s\u001b[0m eta \u001b[36m0:00:00\u001b[0m\n",
            "\u001b[2K     \u001b[90m━━━━━━━━━━━━━━━━━━━━━━━━━━━━━━━━━━━━━━━━\u001b[0m \u001b[32m169.0/169.0 kB\u001b[0m \u001b[31m7.2 MB/s\u001b[0m eta \u001b[36m0:00:00\u001b[0m\n",
            "\u001b[2K     \u001b[90m━━━━━━━━━━━━━━━━━━━━━━━━━━━━━━━━━━━━━━━━\u001b[0m \u001b[32m11.8/11.8 MB\u001b[0m \u001b[31m23.6 MB/s\u001b[0m eta \u001b[36m0:00:00\u001b[0m\n",
            "\u001b[?25h\u001b[31mERROR: pip's dependency resolver does not currently take into account all the packages that are installed. This behaviour is the source of the following dependency conflicts.\n",
            "gcsfs 2023.6.0 requires fsspec==2023.6.0, but you have fsspec 2023.12.2 which is incompatible.\u001b[0m\u001b[31m\n",
            "\u001b[0m"
          ]
        }
      ]
    },
    {
      "cell_type": "code",
      "source": [
        "df = pd.read_csv('s3://jigsaw-labs-student/supermarket_sales.csv')\n",
        "df.head(2)"
      ],
      "metadata": {
        "id": "99VBhQIAqPKf",
        "outputId": "f2d2223d-7bb1-4b9e-94d8-8c8ec67ff070",
        "colab": {
          "base_uri": "https://localhost:8080/",
          "height": 201
        }
      },
      "execution_count": null,
      "outputs": [
        {
          "output_type": "execute_result",
          "data": {
            "text/plain": [
              "    Invoice ID Branch       City Customer type  Gender  \\\n",
              "0  750-67-8428      A     Yangon        Member  Female   \n",
              "1  226-31-3081      C  Naypyitaw        Normal  Female   \n",
              "\n",
              "             Product line  Unit price  Quantity   Tax 5%     Total      Date  \\\n",
              "0       Health and beauty       74.69         7  26.1415  548.9715  1/5/2019   \n",
              "1  Electronic accessories       15.28         5   3.8200   80.2200  3/8/2019   \n",
              "\n",
              "    Time  Payment    cogs  gross margin percentage  gross income  Rating  \n",
              "0  13:08  Ewallet  522.83                 4.761905       26.1415     9.1  \n",
              "1  10:29     Cash   76.40                 4.761905        3.8200     9.6  "
            ],
            "text/html": [
              "\n",
              "  <div id=\"df-593b1764-86be-4b62-b57c-d562c56e7ee2\" class=\"colab-df-container\">\n",
              "    <div>\n",
              "<style scoped>\n",
              "    .dataframe tbody tr th:only-of-type {\n",
              "        vertical-align: middle;\n",
              "    }\n",
              "\n",
              "    .dataframe tbody tr th {\n",
              "        vertical-align: top;\n",
              "    }\n",
              "\n",
              "    .dataframe thead th {\n",
              "        text-align: right;\n",
              "    }\n",
              "</style>\n",
              "<table border=\"1\" class=\"dataframe\">\n",
              "  <thead>\n",
              "    <tr style=\"text-align: right;\">\n",
              "      <th></th>\n",
              "      <th>Invoice ID</th>\n",
              "      <th>Branch</th>\n",
              "      <th>City</th>\n",
              "      <th>Customer type</th>\n",
              "      <th>Gender</th>\n",
              "      <th>Product line</th>\n",
              "      <th>Unit price</th>\n",
              "      <th>Quantity</th>\n",
              "      <th>Tax 5%</th>\n",
              "      <th>Total</th>\n",
              "      <th>Date</th>\n",
              "      <th>Time</th>\n",
              "      <th>Payment</th>\n",
              "      <th>cogs</th>\n",
              "      <th>gross margin percentage</th>\n",
              "      <th>gross income</th>\n",
              "      <th>Rating</th>\n",
              "    </tr>\n",
              "  </thead>\n",
              "  <tbody>\n",
              "    <tr>\n",
              "      <th>0</th>\n",
              "      <td>750-67-8428</td>\n",
              "      <td>A</td>\n",
              "      <td>Yangon</td>\n",
              "      <td>Member</td>\n",
              "      <td>Female</td>\n",
              "      <td>Health and beauty</td>\n",
              "      <td>74.69</td>\n",
              "      <td>7</td>\n",
              "      <td>26.1415</td>\n",
              "      <td>548.9715</td>\n",
              "      <td>1/5/2019</td>\n",
              "      <td>13:08</td>\n",
              "      <td>Ewallet</td>\n",
              "      <td>522.83</td>\n",
              "      <td>4.761905</td>\n",
              "      <td>26.1415</td>\n",
              "      <td>9.1</td>\n",
              "    </tr>\n",
              "    <tr>\n",
              "      <th>1</th>\n",
              "      <td>226-31-3081</td>\n",
              "      <td>C</td>\n",
              "      <td>Naypyitaw</td>\n",
              "      <td>Normal</td>\n",
              "      <td>Female</td>\n",
              "      <td>Electronic accessories</td>\n",
              "      <td>15.28</td>\n",
              "      <td>5</td>\n",
              "      <td>3.8200</td>\n",
              "      <td>80.2200</td>\n",
              "      <td>3/8/2019</td>\n",
              "      <td>10:29</td>\n",
              "      <td>Cash</td>\n",
              "      <td>76.40</td>\n",
              "      <td>4.761905</td>\n",
              "      <td>3.8200</td>\n",
              "      <td>9.6</td>\n",
              "    </tr>\n",
              "  </tbody>\n",
              "</table>\n",
              "</div>\n",
              "    <div class=\"colab-df-buttons\">\n",
              "\n",
              "  <div class=\"colab-df-container\">\n",
              "    <button class=\"colab-df-convert\" onclick=\"convertToInteractive('df-593b1764-86be-4b62-b57c-d562c56e7ee2')\"\n",
              "            title=\"Convert this dataframe to an interactive table.\"\n",
              "            style=\"display:none;\">\n",
              "\n",
              "  <svg xmlns=\"http://www.w3.org/2000/svg\" height=\"24px\" viewBox=\"0 -960 960 960\">\n",
              "    <path d=\"M120-120v-720h720v720H120Zm60-500h600v-160H180v160Zm220 220h160v-160H400v160Zm0 220h160v-160H400v160ZM180-400h160v-160H180v160Zm440 0h160v-160H620v160ZM180-180h160v-160H180v160Zm440 0h160v-160H620v160Z\"/>\n",
              "  </svg>\n",
              "    </button>\n",
              "\n",
              "  <style>\n",
              "    .colab-df-container {\n",
              "      display:flex;\n",
              "      gap: 12px;\n",
              "    }\n",
              "\n",
              "    .colab-df-convert {\n",
              "      background-color: #E8F0FE;\n",
              "      border: none;\n",
              "      border-radius: 50%;\n",
              "      cursor: pointer;\n",
              "      display: none;\n",
              "      fill: #1967D2;\n",
              "      height: 32px;\n",
              "      padding: 0 0 0 0;\n",
              "      width: 32px;\n",
              "    }\n",
              "\n",
              "    .colab-df-convert:hover {\n",
              "      background-color: #E2EBFA;\n",
              "      box-shadow: 0px 1px 2px rgba(60, 64, 67, 0.3), 0px 1px 3px 1px rgba(60, 64, 67, 0.15);\n",
              "      fill: #174EA6;\n",
              "    }\n",
              "\n",
              "    .colab-df-buttons div {\n",
              "      margin-bottom: 4px;\n",
              "    }\n",
              "\n",
              "    [theme=dark] .colab-df-convert {\n",
              "      background-color: #3B4455;\n",
              "      fill: #D2E3FC;\n",
              "    }\n",
              "\n",
              "    [theme=dark] .colab-df-convert:hover {\n",
              "      background-color: #434B5C;\n",
              "      box-shadow: 0px 1px 3px 1px rgba(0, 0, 0, 0.15);\n",
              "      filter: drop-shadow(0px 1px 2px rgba(0, 0, 0, 0.3));\n",
              "      fill: #FFFFFF;\n",
              "    }\n",
              "  </style>\n",
              "\n",
              "    <script>\n",
              "      const buttonEl =\n",
              "        document.querySelector('#df-593b1764-86be-4b62-b57c-d562c56e7ee2 button.colab-df-convert');\n",
              "      buttonEl.style.display =\n",
              "        google.colab.kernel.accessAllowed ? 'block' : 'none';\n",
              "\n",
              "      async function convertToInteractive(key) {\n",
              "        const element = document.querySelector('#df-593b1764-86be-4b62-b57c-d562c56e7ee2');\n",
              "        const dataTable =\n",
              "          await google.colab.kernel.invokeFunction('convertToInteractive',\n",
              "                                                    [key], {});\n",
              "        if (!dataTable) return;\n",
              "\n",
              "        const docLinkHtml = 'Like what you see? Visit the ' +\n",
              "          '<a target=\"_blank\" href=https://colab.research.google.com/notebooks/data_table.ipynb>data table notebook</a>'\n",
              "          + ' to learn more about interactive tables.';\n",
              "        element.innerHTML = '';\n",
              "        dataTable['output_type'] = 'display_data';\n",
              "        await google.colab.output.renderOutput(dataTable, element);\n",
              "        const docLink = document.createElement('div');\n",
              "        docLink.innerHTML = docLinkHtml;\n",
              "        element.appendChild(docLink);\n",
              "      }\n",
              "    </script>\n",
              "  </div>\n",
              "\n",
              "\n",
              "<div id=\"df-4b385eda-cd5b-4072-bced-d2c0656f2412\">\n",
              "  <button class=\"colab-df-quickchart\" onclick=\"quickchart('df-4b385eda-cd5b-4072-bced-d2c0656f2412')\"\n",
              "            title=\"Suggest charts\"\n",
              "            style=\"display:none;\">\n",
              "\n",
              "<svg xmlns=\"http://www.w3.org/2000/svg\" height=\"24px\"viewBox=\"0 0 24 24\"\n",
              "     width=\"24px\">\n",
              "    <g>\n",
              "        <path d=\"M19 3H5c-1.1 0-2 .9-2 2v14c0 1.1.9 2 2 2h14c1.1 0 2-.9 2-2V5c0-1.1-.9-2-2-2zM9 17H7v-7h2v7zm4 0h-2V7h2v10zm4 0h-2v-4h2v4z\"/>\n",
              "    </g>\n",
              "</svg>\n",
              "  </button>\n",
              "\n",
              "<style>\n",
              "  .colab-df-quickchart {\n",
              "      --bg-color: #E8F0FE;\n",
              "      --fill-color: #1967D2;\n",
              "      --hover-bg-color: #E2EBFA;\n",
              "      --hover-fill-color: #174EA6;\n",
              "      --disabled-fill-color: #AAA;\n",
              "      --disabled-bg-color: #DDD;\n",
              "  }\n",
              "\n",
              "  [theme=dark] .colab-df-quickchart {\n",
              "      --bg-color: #3B4455;\n",
              "      --fill-color: #D2E3FC;\n",
              "      --hover-bg-color: #434B5C;\n",
              "      --hover-fill-color: #FFFFFF;\n",
              "      --disabled-bg-color: #3B4455;\n",
              "      --disabled-fill-color: #666;\n",
              "  }\n",
              "\n",
              "  .colab-df-quickchart {\n",
              "    background-color: var(--bg-color);\n",
              "    border: none;\n",
              "    border-radius: 50%;\n",
              "    cursor: pointer;\n",
              "    display: none;\n",
              "    fill: var(--fill-color);\n",
              "    height: 32px;\n",
              "    padding: 0;\n",
              "    width: 32px;\n",
              "  }\n",
              "\n",
              "  .colab-df-quickchart:hover {\n",
              "    background-color: var(--hover-bg-color);\n",
              "    box-shadow: 0 1px 2px rgba(60, 64, 67, 0.3), 0 1px 3px 1px rgba(60, 64, 67, 0.15);\n",
              "    fill: var(--button-hover-fill-color);\n",
              "  }\n",
              "\n",
              "  .colab-df-quickchart-complete:disabled,\n",
              "  .colab-df-quickchart-complete:disabled:hover {\n",
              "    background-color: var(--disabled-bg-color);\n",
              "    fill: var(--disabled-fill-color);\n",
              "    box-shadow: none;\n",
              "  }\n",
              "\n",
              "  .colab-df-spinner {\n",
              "    border: 2px solid var(--fill-color);\n",
              "    border-color: transparent;\n",
              "    border-bottom-color: var(--fill-color);\n",
              "    animation:\n",
              "      spin 1s steps(1) infinite;\n",
              "  }\n",
              "\n",
              "  @keyframes spin {\n",
              "    0% {\n",
              "      border-color: transparent;\n",
              "      border-bottom-color: var(--fill-color);\n",
              "      border-left-color: var(--fill-color);\n",
              "    }\n",
              "    20% {\n",
              "      border-color: transparent;\n",
              "      border-left-color: var(--fill-color);\n",
              "      border-top-color: var(--fill-color);\n",
              "    }\n",
              "    30% {\n",
              "      border-color: transparent;\n",
              "      border-left-color: var(--fill-color);\n",
              "      border-top-color: var(--fill-color);\n",
              "      border-right-color: var(--fill-color);\n",
              "    }\n",
              "    40% {\n",
              "      border-color: transparent;\n",
              "      border-right-color: var(--fill-color);\n",
              "      border-top-color: var(--fill-color);\n",
              "    }\n",
              "    60% {\n",
              "      border-color: transparent;\n",
              "      border-right-color: var(--fill-color);\n",
              "    }\n",
              "    80% {\n",
              "      border-color: transparent;\n",
              "      border-right-color: var(--fill-color);\n",
              "      border-bottom-color: var(--fill-color);\n",
              "    }\n",
              "    90% {\n",
              "      border-color: transparent;\n",
              "      border-bottom-color: var(--fill-color);\n",
              "    }\n",
              "  }\n",
              "</style>\n",
              "\n",
              "  <script>\n",
              "    async function quickchart(key) {\n",
              "      const quickchartButtonEl =\n",
              "        document.querySelector('#' + key + ' button');\n",
              "      quickchartButtonEl.disabled = true;  // To prevent multiple clicks.\n",
              "      quickchartButtonEl.classList.add('colab-df-spinner');\n",
              "      try {\n",
              "        const charts = await google.colab.kernel.invokeFunction(\n",
              "            'suggestCharts', [key], {});\n",
              "      } catch (error) {\n",
              "        console.error('Error during call to suggestCharts:', error);\n",
              "      }\n",
              "      quickchartButtonEl.classList.remove('colab-df-spinner');\n",
              "      quickchartButtonEl.classList.add('colab-df-quickchart-complete');\n",
              "    }\n",
              "    (() => {\n",
              "      let quickchartButtonEl =\n",
              "        document.querySelector('#df-4b385eda-cd5b-4072-bced-d2c0656f2412 button');\n",
              "      quickchartButtonEl.style.display =\n",
              "        google.colab.kernel.accessAllowed ? 'block' : 'none';\n",
              "    })();\n",
              "  </script>\n",
              "</div>\n",
              "    </div>\n",
              "  </div>\n"
            ]
          },
          "metadata": {},
          "execution_count": 11
        }
      ]
    },
    {
      "cell_type": "code",
      "source": [
        "df = pd.read_csv(\"s3://jigsaw-labs-student/imdb_movies.csv\")\n",
        "df.head(2)"
      ],
      "metadata": {
        "id": "eXvw6wFVqgid",
        "outputId": "c1996d99-b9cb-496a-ed90-81f30d0cdc65",
        "colab": {
          "base_uri": "https://localhost:8080/",
          "height": 112
        }
      },
      "execution_count": null,
      "outputs": [
        {
          "output_type": "execute_result",
          "data": {
            "text/plain": [
              "                                      title      genre     budget  runtime  \\\n",
              "0                                    Avatar     Action  237000000    162.0   \n",
              "1  Pirates of the Caribbean: At World's End  Adventure  300000000    169.0   \n",
              "\n",
              "   year  month     revenue  \n",
              "0  2009     12  2787965087  \n",
              "1  2007      5   961000000  "
            ],
            "text/html": [
              "\n",
              "  <div id=\"df-e2191d08-e4bf-4396-b8a1-961a7c702262\" class=\"colab-df-container\">\n",
              "    <div>\n",
              "<style scoped>\n",
              "    .dataframe tbody tr th:only-of-type {\n",
              "        vertical-align: middle;\n",
              "    }\n",
              "\n",
              "    .dataframe tbody tr th {\n",
              "        vertical-align: top;\n",
              "    }\n",
              "\n",
              "    .dataframe thead th {\n",
              "        text-align: right;\n",
              "    }\n",
              "</style>\n",
              "<table border=\"1\" class=\"dataframe\">\n",
              "  <thead>\n",
              "    <tr style=\"text-align: right;\">\n",
              "      <th></th>\n",
              "      <th>title</th>\n",
              "      <th>genre</th>\n",
              "      <th>budget</th>\n",
              "      <th>runtime</th>\n",
              "      <th>year</th>\n",
              "      <th>month</th>\n",
              "      <th>revenue</th>\n",
              "    </tr>\n",
              "  </thead>\n",
              "  <tbody>\n",
              "    <tr>\n",
              "      <th>0</th>\n",
              "      <td>Avatar</td>\n",
              "      <td>Action</td>\n",
              "      <td>237000000</td>\n",
              "      <td>162.0</td>\n",
              "      <td>2009</td>\n",
              "      <td>12</td>\n",
              "      <td>2787965087</td>\n",
              "    </tr>\n",
              "    <tr>\n",
              "      <th>1</th>\n",
              "      <td>Pirates of the Caribbean: At World's End</td>\n",
              "      <td>Adventure</td>\n",
              "      <td>300000000</td>\n",
              "      <td>169.0</td>\n",
              "      <td>2007</td>\n",
              "      <td>5</td>\n",
              "      <td>961000000</td>\n",
              "    </tr>\n",
              "  </tbody>\n",
              "</table>\n",
              "</div>\n",
              "    <div class=\"colab-df-buttons\">\n",
              "\n",
              "  <div class=\"colab-df-container\">\n",
              "    <button class=\"colab-df-convert\" onclick=\"convertToInteractive('df-e2191d08-e4bf-4396-b8a1-961a7c702262')\"\n",
              "            title=\"Convert this dataframe to an interactive table.\"\n",
              "            style=\"display:none;\">\n",
              "\n",
              "  <svg xmlns=\"http://www.w3.org/2000/svg\" height=\"24px\" viewBox=\"0 -960 960 960\">\n",
              "    <path d=\"M120-120v-720h720v720H120Zm60-500h600v-160H180v160Zm220 220h160v-160H400v160Zm0 220h160v-160H400v160ZM180-400h160v-160H180v160Zm440 0h160v-160H620v160ZM180-180h160v-160H180v160Zm440 0h160v-160H620v160Z\"/>\n",
              "  </svg>\n",
              "    </button>\n",
              "\n",
              "  <style>\n",
              "    .colab-df-container {\n",
              "      display:flex;\n",
              "      gap: 12px;\n",
              "    }\n",
              "\n",
              "    .colab-df-convert {\n",
              "      background-color: #E8F0FE;\n",
              "      border: none;\n",
              "      border-radius: 50%;\n",
              "      cursor: pointer;\n",
              "      display: none;\n",
              "      fill: #1967D2;\n",
              "      height: 32px;\n",
              "      padding: 0 0 0 0;\n",
              "      width: 32px;\n",
              "    }\n",
              "\n",
              "    .colab-df-convert:hover {\n",
              "      background-color: #E2EBFA;\n",
              "      box-shadow: 0px 1px 2px rgba(60, 64, 67, 0.3), 0px 1px 3px 1px rgba(60, 64, 67, 0.15);\n",
              "      fill: #174EA6;\n",
              "    }\n",
              "\n",
              "    .colab-df-buttons div {\n",
              "      margin-bottom: 4px;\n",
              "    }\n",
              "\n",
              "    [theme=dark] .colab-df-convert {\n",
              "      background-color: #3B4455;\n",
              "      fill: #D2E3FC;\n",
              "    }\n",
              "\n",
              "    [theme=dark] .colab-df-convert:hover {\n",
              "      background-color: #434B5C;\n",
              "      box-shadow: 0px 1px 3px 1px rgba(0, 0, 0, 0.15);\n",
              "      filter: drop-shadow(0px 1px 2px rgba(0, 0, 0, 0.3));\n",
              "      fill: #FFFFFF;\n",
              "    }\n",
              "  </style>\n",
              "\n",
              "    <script>\n",
              "      const buttonEl =\n",
              "        document.querySelector('#df-e2191d08-e4bf-4396-b8a1-961a7c702262 button.colab-df-convert');\n",
              "      buttonEl.style.display =\n",
              "        google.colab.kernel.accessAllowed ? 'block' : 'none';\n",
              "\n",
              "      async function convertToInteractive(key) {\n",
              "        const element = document.querySelector('#df-e2191d08-e4bf-4396-b8a1-961a7c702262');\n",
              "        const dataTable =\n",
              "          await google.colab.kernel.invokeFunction('convertToInteractive',\n",
              "                                                    [key], {});\n",
              "        if (!dataTable) return;\n",
              "\n",
              "        const docLinkHtml = 'Like what you see? Visit the ' +\n",
              "          '<a target=\"_blank\" href=https://colab.research.google.com/notebooks/data_table.ipynb>data table notebook</a>'\n",
              "          + ' to learn more about interactive tables.';\n",
              "        element.innerHTML = '';\n",
              "        dataTable['output_type'] = 'display_data';\n",
              "        await google.colab.output.renderOutput(dataTable, element);\n",
              "        const docLink = document.createElement('div');\n",
              "        docLink.innerHTML = docLinkHtml;\n",
              "        element.appendChild(docLink);\n",
              "      }\n",
              "    </script>\n",
              "  </div>\n",
              "\n",
              "\n",
              "<div id=\"df-461c8c7a-3904-4744-9273-41caceae9ed4\">\n",
              "  <button class=\"colab-df-quickchart\" onclick=\"quickchart('df-461c8c7a-3904-4744-9273-41caceae9ed4')\"\n",
              "            title=\"Suggest charts\"\n",
              "            style=\"display:none;\">\n",
              "\n",
              "<svg xmlns=\"http://www.w3.org/2000/svg\" height=\"24px\"viewBox=\"0 0 24 24\"\n",
              "     width=\"24px\">\n",
              "    <g>\n",
              "        <path d=\"M19 3H5c-1.1 0-2 .9-2 2v14c0 1.1.9 2 2 2h14c1.1 0 2-.9 2-2V5c0-1.1-.9-2-2-2zM9 17H7v-7h2v7zm4 0h-2V7h2v10zm4 0h-2v-4h2v4z\"/>\n",
              "    </g>\n",
              "</svg>\n",
              "  </button>\n",
              "\n",
              "<style>\n",
              "  .colab-df-quickchart {\n",
              "      --bg-color: #E8F0FE;\n",
              "      --fill-color: #1967D2;\n",
              "      --hover-bg-color: #E2EBFA;\n",
              "      --hover-fill-color: #174EA6;\n",
              "      --disabled-fill-color: #AAA;\n",
              "      --disabled-bg-color: #DDD;\n",
              "  }\n",
              "\n",
              "  [theme=dark] .colab-df-quickchart {\n",
              "      --bg-color: #3B4455;\n",
              "      --fill-color: #D2E3FC;\n",
              "      --hover-bg-color: #434B5C;\n",
              "      --hover-fill-color: #FFFFFF;\n",
              "      --disabled-bg-color: #3B4455;\n",
              "      --disabled-fill-color: #666;\n",
              "  }\n",
              "\n",
              "  .colab-df-quickchart {\n",
              "    background-color: var(--bg-color);\n",
              "    border: none;\n",
              "    border-radius: 50%;\n",
              "    cursor: pointer;\n",
              "    display: none;\n",
              "    fill: var(--fill-color);\n",
              "    height: 32px;\n",
              "    padding: 0;\n",
              "    width: 32px;\n",
              "  }\n",
              "\n",
              "  .colab-df-quickchart:hover {\n",
              "    background-color: var(--hover-bg-color);\n",
              "    box-shadow: 0 1px 2px rgba(60, 64, 67, 0.3), 0 1px 3px 1px rgba(60, 64, 67, 0.15);\n",
              "    fill: var(--button-hover-fill-color);\n",
              "  }\n",
              "\n",
              "  .colab-df-quickchart-complete:disabled,\n",
              "  .colab-df-quickchart-complete:disabled:hover {\n",
              "    background-color: var(--disabled-bg-color);\n",
              "    fill: var(--disabled-fill-color);\n",
              "    box-shadow: none;\n",
              "  }\n",
              "\n",
              "  .colab-df-spinner {\n",
              "    border: 2px solid var(--fill-color);\n",
              "    border-color: transparent;\n",
              "    border-bottom-color: var(--fill-color);\n",
              "    animation:\n",
              "      spin 1s steps(1) infinite;\n",
              "  }\n",
              "\n",
              "  @keyframes spin {\n",
              "    0% {\n",
              "      border-color: transparent;\n",
              "      border-bottom-color: var(--fill-color);\n",
              "      border-left-color: var(--fill-color);\n",
              "    }\n",
              "    20% {\n",
              "      border-color: transparent;\n",
              "      border-left-color: var(--fill-color);\n",
              "      border-top-color: var(--fill-color);\n",
              "    }\n",
              "    30% {\n",
              "      border-color: transparent;\n",
              "      border-left-color: var(--fill-color);\n",
              "      border-top-color: var(--fill-color);\n",
              "      border-right-color: var(--fill-color);\n",
              "    }\n",
              "    40% {\n",
              "      border-color: transparent;\n",
              "      border-right-color: var(--fill-color);\n",
              "      border-top-color: var(--fill-color);\n",
              "    }\n",
              "    60% {\n",
              "      border-color: transparent;\n",
              "      border-right-color: var(--fill-color);\n",
              "    }\n",
              "    80% {\n",
              "      border-color: transparent;\n",
              "      border-right-color: var(--fill-color);\n",
              "      border-bottom-color: var(--fill-color);\n",
              "    }\n",
              "    90% {\n",
              "      border-color: transparent;\n",
              "      border-bottom-color: var(--fill-color);\n",
              "    }\n",
              "  }\n",
              "</style>\n",
              "\n",
              "  <script>\n",
              "    async function quickchart(key) {\n",
              "      const quickchartButtonEl =\n",
              "        document.querySelector('#' + key + ' button');\n",
              "      quickchartButtonEl.disabled = true;  // To prevent multiple clicks.\n",
              "      quickchartButtonEl.classList.add('colab-df-spinner');\n",
              "      try {\n",
              "        const charts = await google.colab.kernel.invokeFunction(\n",
              "            'suggestCharts', [key], {});\n",
              "      } catch (error) {\n",
              "        console.error('Error during call to suggestCharts:', error);\n",
              "      }\n",
              "      quickchartButtonEl.classList.remove('colab-df-spinner');\n",
              "      quickchartButtonEl.classList.add('colab-df-quickchart-complete');\n",
              "    }\n",
              "    (() => {\n",
              "      let quickchartButtonEl =\n",
              "        document.querySelector('#df-461c8c7a-3904-4744-9273-41caceae9ed4 button');\n",
              "      quickchartButtonEl.style.display =\n",
              "        google.colab.kernel.accessAllowed ? 'block' : 'none';\n",
              "    })();\n",
              "  </script>\n",
              "</div>\n",
              "    </div>\n",
              "  </div>\n"
            ]
          },
          "metadata": {},
          "execution_count": 12
        }
      ]
    },
    {
      "cell_type": "markdown",
      "source": [],
      "metadata": {
        "id": "rAQpHmgduax2"
      }
    },
    {
      "cell_type": "markdown",
      "source": [
        "# Supermarket Sales Data"
      ],
      "metadata": {
        "id": "8XeYwvtfho38"
      }
    },
    {
      "cell_type": "code",
      "source": [
        "!head SuperMarketSales.csv"
      ],
      "metadata": {
        "id": "UZhtI7jal5YS",
        "colab": {
          "base_uri": "https://localhost:8080/"
        },
        "outputId": "0bf69dda-9ac4-464d-c738-878ad8544642"
      },
      "execution_count": null,
      "outputs": [
        {
          "output_type": "stream",
          "name": "stdout",
          "text": [
            "Invoice ID,Branch,City,Customer type,Gender,Product line,Unit price,Quantity,Tax 5%,Total,Date,Time,Payment,cogs,gross margin percentage,gross income,Rating\n",
            "750-67-8428,A,Yangon,Member,Female,Health and beauty,74.69,7,26.1415,548.9715,1/5/2019,13:08,Ewallet,522.83,4.761904762,26.1415,9.1\n",
            "226-31-3081,C,Naypyitaw,Normal,Female,Electronic accessories,15.28,5,3.82,80.22,3/8/2019,10:29,Cash,76.4,4.761904762,3.82,9.6\n",
            "631-41-3108,A,Yangon,Normal,Male,Home and lifestyle,46.33,7,16.2155,340.5255,3/3/2019,13:23,Credit card,324.31,4.761904762,16.2155,7.4\n",
            "123-19-1176,A,Yangon,Member,Male,Health and beauty,58.22,8,23.288,489.048,1/27/2019,20:33,Ewallet,465.76,4.761904762,23.288,8.4\n",
            "373-73-7910,A,Yangon,Normal,Male,Sports and travel,86.31,7,30.2085,634.3785,2/8/2019,10:37,Ewallet,604.17,4.761904762,30.2085,5.3\n",
            "699-14-3026,C,Naypyitaw,Normal,Male,Electronic accessories,85.39,7,29.8865,627.6165,3/25/2019,18:30,Ewallet,597.73,4.761904762,29.8865,4.1\n",
            "355-53-5943,A,Yangon,Member,Female,Electronic accessories,68.84,6,20.652,433.692,2/25/2019,14:36,Ewallet,413.04,4.761904762,20.652,5.8\n",
            "315-22-5665,C,Naypyitaw,Normal,Female,Home and lifestyle,73.56,10,36.78,772.38,2/24/2019,11:38,Ewallet,735.6,4.761904762,36.78,8.0\n",
            "665-32-9167,A,Yangon,Member,Female,Health and beauty,36.26,2,3.626,76.146,1/10/2019,17:15,Credit card,72.52,4.761904762,3.626,7.2\n"
          ]
        }
      ]
    },
    {
      "cell_type": "markdown",
      "source": [
        "## RDD Operations"
      ],
      "metadata": {
        "id": "7mva4hYshAVW"
      }
    },
    {
      "cell_type": "markdown",
      "source": [
        "### Read CSV into RDD"
      ],
      "metadata": {
        "id": "PpSjwcjWlK1w"
      }
    },
    {
      "cell_type": "code",
      "source": [
        "sales_RDD1 = sc.textFile(\"SuperMarketSales.csv\")\n",
        "sales_RDD2 = spark39.read.text(\"SuperMarketSales.csv\").rdd\n",
        "# for an explanation of the alternate way to read text files\n",
        "# see this https://stackoverflow.com/questions/52665353/reading-a-text-file-in-spark/52669632#52669632"
      ],
      "metadata": {
        "id": "qZM6jTgIinAN"
      },
      "execution_count": null,
      "outputs": []
    },
    {
      "cell_type": "code",
      "source": [
        "sales_RDD1.take(5)"
      ],
      "metadata": {
        "colab": {
          "base_uri": "https://localhost:8080/"
        },
        "id": "7oZD35n9jFXF",
        "outputId": "a765c827-6a69-4b05-fa71-23455226a69c"
      },
      "execution_count": null,
      "outputs": [
        {
          "output_type": "execute_result",
          "data": {
            "text/plain": [
              "['Invoice ID,Branch,City,Customer type,Gender,Product line,Unit price,Quantity,Tax 5%,Total,Date,Time,Payment,cogs,gross margin percentage,gross income,Rating',\n",
              " '750-67-8428,A,Yangon,Member,Female,Health and beauty,74.69,7,26.1415,548.9715,1/5/2019,13:08,Ewallet,522.83,4.761904762,26.1415,9.1',\n",
              " '226-31-3081,C,Naypyitaw,Normal,Female,Electronic accessories,15.28,5,3.82,80.22,3/8/2019,10:29,Cash,76.4,4.761904762,3.82,9.6',\n",
              " '631-41-3108,A,Yangon,Normal,Male,Home and lifestyle,46.33,7,16.2155,340.5255,3/3/2019,13:23,Credit card,324.31,4.761904762,16.2155,7.4',\n",
              " '123-19-1176,A,Yangon,Member,Male,Health and beauty,58.22,8,23.288,489.048,1/27/2019,20:33,Ewallet,465.76,4.761904762,23.288,8.4']"
            ]
          },
          "metadata": {},
          "execution_count": 8
        }
      ]
    },
    {
      "cell_type": "code",
      "source": [
        "sales_RDD2.take(5)"
      ],
      "metadata": {
        "colab": {
          "base_uri": "https://localhost:8080/"
        },
        "id": "RgRuT9P0jmrW",
        "outputId": "c994ba88-bb6b-41fc-92e2-1f6b1c5bf389"
      },
      "execution_count": null,
      "outputs": [
        {
          "output_type": "execute_result",
          "data": {
            "text/plain": [
              "[Row(value='Invoice ID,Branch,City,Customer type,Gender,Product line,Unit price,Quantity,Tax 5%,Total,Date,Time,Payment,cogs,gross margin percentage,gross income,Rating'),\n",
              " Row(value='750-67-8428,A,Yangon,Member,Female,Health and beauty,74.69,7,26.1415,548.9715,1/5/2019,13:08,Ewallet,522.83,4.761904762,26.1415,9.1'),\n",
              " Row(value='226-31-3081,C,Naypyitaw,Normal,Female,Electronic accessories,15.28,5,3.82,80.22,3/8/2019,10:29,Cash,76.4,4.761904762,3.82,9.6'),\n",
              " Row(value='631-41-3108,A,Yangon,Normal,Male,Home and lifestyle,46.33,7,16.2155,340.5255,3/3/2019,13:23,Credit card,324.31,4.761904762,16.2155,7.4'),\n",
              " Row(value='123-19-1176,A,Yangon,Member,Male,Health and beauty,58.22,8,23.288,489.048,1/27/2019,20:33,Ewallet,465.76,4.761904762,23.288,8.4')]"
            ]
          },
          "metadata": {},
          "execution_count": 9
        }
      ]
    },
    {
      "cell_type": "code",
      "source": [
        "# Delete the first, header row\n",
        "#\n",
        "!sed '1d' SuperMarketSales.csv > Headless_SuperMarketSales.csv\n",
        "#!sed -i '1d' SuperMarketSales.csv\n",
        "sales_RDD1 = sc.textFile(\"Headless_SuperMarketSales.csv\")\n",
        "sales_RDD2 = spark39.read.text(\"Headless_SuperMarketSales.csv\").rdd\n",
        "sales_RDD1.take(5)\n",
        "#sales_RDD2.take(5)"
      ],
      "metadata": {
        "colab": {
          "base_uri": "https://localhost:8080/"
        },
        "id": "kChJmqcbkLqL",
        "outputId": "3daa516f-4093-4845-ce26-1d919e0aa128"
      },
      "execution_count": null,
      "outputs": [
        {
          "output_type": "execute_result",
          "data": {
            "text/plain": [
              "['750-67-8428,A,Yangon,Member,Female,Health and beauty,74.69,7,26.1415,548.9715,1/5/2019,13:08,Ewallet,522.83,4.761904762,26.1415,9.1',\n",
              " '226-31-3081,C,Naypyitaw,Normal,Female,Electronic accessories,15.28,5,3.82,80.22,3/8/2019,10:29,Cash,76.4,4.761904762,3.82,9.6',\n",
              " '631-41-3108,A,Yangon,Normal,Male,Home and lifestyle,46.33,7,16.2155,340.5255,3/3/2019,13:23,Credit card,324.31,4.761904762,16.2155,7.4',\n",
              " '123-19-1176,A,Yangon,Member,Male,Health and beauty,58.22,8,23.288,489.048,1/27/2019,20:33,Ewallet,465.76,4.761904762,23.288,8.4',\n",
              " '373-73-7910,A,Yangon,Normal,Male,Sports and travel,86.31,7,30.2085,634.3785,2/8/2019,10:37,Ewallet,604.17,4.761904762,30.2085,5.3']"
            ]
          },
          "metadata": {},
          "execution_count": 11
        }
      ]
    },
    {
      "cell_type": "code",
      "source": [
        "sales_RDD2.take(5)"
      ],
      "metadata": {
        "id": "StCoKYLS8DRB",
        "outputId": "d146f6ff-4026-4c48-90d8-060ee0bfdbb7",
        "colab": {
          "base_uri": "https://localhost:8080/"
        }
      },
      "execution_count": null,
      "outputs": [
        {
          "output_type": "execute_result",
          "data": {
            "text/plain": [
              "[Row(value='750-67-8428,A,Yangon,Member,Female,Health and beauty,74.69,7,26.1415,548.9715,1/5/2019,13:08,Ewallet,522.83,4.761904762,26.1415,9.1'),\n",
              " Row(value='226-31-3081,C,Naypyitaw,Normal,Female,Electronic accessories,15.28,5,3.82,80.22,3/8/2019,10:29,Cash,76.4,4.761904762,3.82,9.6'),\n",
              " Row(value='631-41-3108,A,Yangon,Normal,Male,Home and lifestyle,46.33,7,16.2155,340.5255,3/3/2019,13:23,Credit card,324.31,4.761904762,16.2155,7.4'),\n",
              " Row(value='123-19-1176,A,Yangon,Member,Male,Health and beauty,58.22,8,23.288,489.048,1/27/2019,20:33,Ewallet,465.76,4.761904762,23.288,8.4'),\n",
              " Row(value='373-73-7910,A,Yangon,Normal,Male,Sports and travel,86.31,7,30.2085,634.3785,2/8/2019,10:37,Ewallet,604.17,4.761904762,30.2085,5.3')]"
            ]
          },
          "metadata": {},
          "execution_count": 12
        }
      ]
    },
    {
      "cell_type": "markdown",
      "source": [
        "### Data Analysis with RDD"
      ],
      "metadata": {
        "id": "70L1yVjFHmiy"
      }
    },
    {
      "cell_type": "code",
      "source": [
        "# Total Number of Rows\n",
        "sales_RDD1.count()"
      ],
      "metadata": {
        "colab": {
          "base_uri": "https://localhost:8080/"
        },
        "id": "kuLB_bdpH1jA",
        "outputId": "ec28458e-5158-4c0e-9792-2fab83f83d9c"
      },
      "execution_count": null,
      "outputs": [
        {
          "output_type": "execute_result",
          "data": {
            "text/plain": [
              "1000"
            ]
          },
          "metadata": {},
          "execution_count": 13
        }
      ]
    },
    {
      "cell_type": "markdown",
      "source": [
        "#### Filter Data"
      ],
      "metadata": {
        "id": "x4T1AaK2U16R"
      }
    },
    {
      "cell_type": "code",
      "source": [
        "# Filter, or segregate the data, based on payment method\n",
        "#\n",
        "sales_wallet = sales_RDD1.filter(lambda x: \",Ewallet,\" in x)\n",
        "sales_cash = sales_RDD1.filter(lambda x: \",Cash,\" in x)\n",
        "sales_card = sales_RDD1.filter(lambda x: \",Credit card,\" in x)\n",
        "#\n",
        "wallet_count = sales_wallet.count()\n",
        "cash_count = sales_cash.count()\n",
        "card_count = sales_card.count()\n",
        "print(wallet_count, cash_count, card_count)"
      ],
      "metadata": {
        "colab": {
          "base_uri": "https://localhost:8080/"
        },
        "id": "tfPe0qulIKrT",
        "outputId": "ae183a1c-2c78-4008-a1aa-f8affd189c3f"
      },
      "execution_count": null,
      "outputs": [
        {
          "output_type": "stream",
          "name": "stdout",
          "text": [
            "345 344 311\n"
          ]
        }
      ]
    },
    {
      "cell_type": "markdown",
      "source": [
        "#### Set Operations"
      ],
      "metadata": {
        "id": "uHnKNX3QD-l5"
      }
    },
    {
      "cell_type": "code",
      "source": [
        "# Another way to segregate the data\n",
        "#\n",
        "sales_wallet = sales_RDD1.filter(lambda x: \",Ewallet,\" in x)\n",
        "wallet_count = sales_wallet.count()\n",
        "#\n",
        "sales_non_wallet = sales_RDD1.subtract(sales_wallet)\n",
        "non_wallet_count = sales_non_wallet.count()\n",
        "print(wallet_count, non_wallet_count)"
      ],
      "metadata": {
        "id": "savYQIUYEHtA",
        "outputId": "65712b40-8327-40f1-b3f6-14e18b2c7b08",
        "colab": {
          "base_uri": "https://localhost:8080/"
        }
      },
      "execution_count": null,
      "outputs": [
        {
          "output_type": "stream",
          "name": "stdout",
          "text": [
            "345 655\n"
          ]
        }
      ]
    },
    {
      "cell_type": "code",
      "source": [
        "# Get Unique Values of field City\n",
        "#\n",
        "sales_RDD_csv = sales_RDD1.map(lambda x: x.split(\",\"))\n",
        "cities = sales_RDD_csv.map(lambda x: x[2]).distinct()\n",
        "cities.collect()"
      ],
      "metadata": {
        "id": "Jf9_sF0CFjDj",
        "outputId": "37465446-03ba-4375-a453-51713d5ebe63",
        "colab": {
          "base_uri": "https://localhost:8080/"
        }
      },
      "execution_count": null,
      "outputs": [
        {
          "output_type": "execute_result",
          "data": {
            "text/plain": [
              "['Naypyitaw', 'Yangon', 'Mandalay']"
            ]
          },
          "metadata": {},
          "execution_count": 16
        }
      ]
    },
    {
      "cell_type": "code",
      "source": [
        "sales_RDD_csv = sales_RDD1.map(lambda x: x.split(\",\"))\n",
        "product_lines = sales_RDD_csv.map(lambda x: x[5]).distinct()\n",
        "product_lines.collect()"
      ],
      "metadata": {
        "id": "xNy5y1w4Gcst",
        "outputId": "4c1e30b0-c7ee-4976-95ec-a8278e3a5157",
        "colab": {
          "base_uri": "https://localhost:8080/"
        }
      },
      "execution_count": null,
      "outputs": [
        {
          "output_type": "execute_result",
          "data": {
            "text/plain": [
              "['Health and beauty',\n",
              " 'Home and lifestyle',\n",
              " 'Electronic accessories',\n",
              " 'Sports and travel',\n",
              " 'Food and beverages',\n",
              " 'Fashion accessories']"
            ]
          },
          "metadata": {},
          "execution_count": 17
        }
      ]
    },
    {
      "cell_type": "markdown",
      "source": [
        "#### Aggregation\n",
        "Calculating Count, Sum, Average etc"
      ],
      "metadata": {
        "id": "yaYd9j4RU8Ks"
      }
    },
    {
      "cell_type": "code",
      "source": [
        "# Element 7 in the dataset is Quantity\n",
        "# Convert str to int\n",
        "#\n",
        "def x4m1(text):\n",
        "    elements = text.split(\",\")\n",
        "    return(int(elements[7]))"
      ],
      "metadata": {
        "id": "Lj16h_igVDO8"
      },
      "execution_count": null,
      "outputs": []
    },
    {
      "cell_type": "code",
      "source": [
        "# Extract Quantity from dataset\n",
        "#\n",
        "sales_wallet_Qty = sales_wallet.map(lambda x: x4m1(x))\n",
        "sales_wallet_Qty.take(3)"
      ],
      "metadata": {
        "colab": {
          "base_uri": "https://localhost:8080/"
        },
        "id": "XaNIZo5KWD_i",
        "outputId": "9cf9e3d7-45d7-4eb0-e073-06a40af80057"
      },
      "execution_count": null,
      "outputs": [
        {
          "output_type": "execute_result",
          "data": {
            "text/plain": [
              "[7, 8, 7]"
            ]
          },
          "metadata": {},
          "execution_count": 19
        }
      ]
    },
    {
      "cell_type": "code",
      "source": [
        "# Calculate sum of all Quantity\n",
        "#\n",
        "wallet_total_Qty = sales_wallet_Qty.reduce(lambda x,y : x+y)\n",
        "print('wallet total quantity = ',wallet_total_Qty, '\\nwallet average quantity =', wallet_total_Qty/wallet_count)"
      ],
      "metadata": {
        "colab": {
          "base_uri": "https://localhost:8080/"
        },
        "id": "cn12QeWdXE-7",
        "outputId": "84317d5e-618f-480f-85a8-3f5805f813d7"
      },
      "execution_count": null,
      "outputs": [
        {
          "output_type": "stream",
          "name": "stdout",
          "text": [
            "wallet total quantity =  1892 \n",
            "wallet average quantity = 5.484057971014493\n"
          ]
        }
      ]
    },
    {
      "cell_type": "markdown",
      "source": [
        "#### Accumulators\n",
        "Reduce the number of passes through the data"
      ],
      "metadata": {
        "id": "YmmDtntbfWiu"
      }
    },
    {
      "cell_type": "code",
      "source": [
        "wallet_data = sales_wallet_Qty.aggregate(\n",
        "    (0,0), # the initial value\n",
        "    (lambda acc, value: (acc[0] + value, acc[1] + 1)), # combine value with acc\n",
        "    (lambda acc1, acc2: (acc1[0] + acc2[0], acc1[1] + acc2[1])) # combine accumulators\n",
        "    )\n",
        "\n",
        "print('Wallet Quantity Total',wallet_data[0],\\\n",
        "      '\\nWallet Quantity Count',wallet_data[1],\\\n",
        "      '\\nWallet Quantity Average', wallet_data[0]/wallet_data[1])"
      ],
      "metadata": {
        "colab": {
          "base_uri": "https://localhost:8080/"
        },
        "id": "zCI145B9fqJg",
        "outputId": "9f2befd7-785f-4d45-a756-e29bf5171405"
      },
      "execution_count": null,
      "outputs": [
        {
          "output_type": "stream",
          "name": "stdout",
          "text": [
            "Wallet Quantity Total 1892 \n",
            "Wallet Quantity Count 345 \n",
            "Wallet Quantity Average 5.484057971014493\n"
          ]
        }
      ]
    },
    {
      "cell_type": "markdown",
      "source": [
        "#### Aggregation on Multiple (two) Data Elements"
      ],
      "metadata": {
        "id": "TWDgDNdpgraX"
      }
    },
    {
      "cell_type": "code",
      "source": [
        "# Element 7 in the dataset is Quantity\n",
        "# Element 15 is Gross Income\n",
        "#\n",
        "def x4m2(text):\n",
        "    elements = text.split(\",\")\n",
        "    return(int(elements[7]), float(elements[15]))"
      ],
      "metadata": {
        "id": "FKj5CVUJaBAO"
      },
      "execution_count": null,
      "outputs": []
    },
    {
      "cell_type": "code",
      "source": [
        "sales_wallet_Qty_Inc = sales_wallet.map(lambda x: x4m2(x))\n",
        "sales_wallet_Qty_Inc.take(3)"
      ],
      "metadata": {
        "colab": {
          "base_uri": "https://localhost:8080/"
        },
        "id": "cpyErMW1aJLO",
        "outputId": "5b5e2434-b5bd-48bd-c8cb-f3a7377ee0a3"
      },
      "execution_count": null,
      "outputs": [
        {
          "output_type": "execute_result",
          "data": {
            "text/plain": [
              "[(7, 26.1415), (8, 23.288), (7, 30.2085)]"
            ]
          },
          "metadata": {},
          "execution_count": 23
        }
      ]
    },
    {
      "cell_type": "code",
      "source": [
        "wallet_data = sales_wallet_Qty_Inc.aggregate(\n",
        "    (0,0,0), # the initial value\n",
        "    (lambda acc, value: (acc[0] + value[0], acc[1] + value[1], acc[2] + 1)), # combine value with acc\n",
        "    (lambda acc1, acc2 : (acc1[0] + acc2[0], acc1[1] + acc2[1], acc1[2] + acc2[2])) # combine accumulators\n",
        "    )\n",
        "\n",
        "print('Wallet Quantity Total',wallet_data[0],\\\n",
        "      '\\nWallet Income Total',wallet_data[1],\\\n",
        "      '\\nWallet Count',wallet_data[2],\\\n",
        "      '\\nWallet Quantity Average',wallet_data[0]/wallet_data[2],\\\n",
        "      '\\nWallet Income Average', wallet_data[1]/wallet_data[2]\\\n",
        "      )\n",
        "#print('Wallet Quantity Average = ', wallet_data[0]/wallet_data[2],'\\nWallet Gross Income Average = ', wallet_data[1]/wallet_data[2])"
      ],
      "metadata": {
        "colab": {
          "base_uri": "https://localhost:8080/"
        },
        "id": "WPhYIjSEkFid",
        "outputId": "95283df5-2517-4854-a91a-2ef81cad11d8"
      },
      "execution_count": null,
      "outputs": [
        {
          "output_type": "stream",
          "name": "stdout",
          "text": [
            "Wallet Quantity Total 1892 \n",
            "Wallet Income Total 5237.767 \n",
            "Wallet Count 345 \n",
            "Wallet Quantity Average 5.484057971014493 \n",
            "Wallet Income Average 15.181933333333333\n"
          ]
        }
      ]
    },
    {
      "cell_type": "markdown",
      "source": [
        "#### Chained Operations\n",
        "Eliminate intermediate RDD creation"
      ],
      "metadata": {
        "id": "MopQ4QxuBFov"
      }
    },
    {
      "cell_type": "code",
      "source": [
        "wallet_data = sc.textFile(\"Headless_SuperMarketSales.csv\").\\\n",
        "    filter(lambda x: \",Ewallet,\" in x).\\\n",
        "    map(lambda x: x4m2(x)).\\\n",
        "    aggregate(                                                                      # Perform Aggregation on multiple fields\n",
        "    (0,0,0),                                                                        # the initial value\n",
        "    (lambda acc, value: (acc[0] + value[0], acc[1] + value[1], acc[2] + 1)),        # combine value with acc\n",
        "    (lambda acc1, acc2 : (acc1[0] + acc2[0], acc1[1] + acc2[1], acc1[2] + acc2[2])) # combine accumulators\n",
        "    )\n",
        "\n",
        "print('Wallet Quantity Total',wallet_data[0],\\\n",
        "      '\\nWallet Income Total',wallet_data[1],\\\n",
        "      '\\nWallet Count',wallet_data[2],\\\n",
        "      '\\nWallet Quantity Average',wallet_data[0]/wallet_data[2],\\\n",
        "      '\\nWallet Income Average', wallet_data[1]/wallet_data[2]\\\n",
        "      )\n",
        "\n",
        "#print(wallet_data[0],wallet_data[1],wallet_data[2])\n",
        "#print('Wallet Quantity Average = ', wallet_data[0]/wallet_data[2],'\\nWallet Gross Income Average = ', wallet_data[1]/wallet_data[2])"
      ],
      "metadata": {
        "id": "xSpsEgLZBNyU",
        "outputId": "36a7ccad-08ea-4fee-bebc-5e7f1a0cafc9",
        "colab": {
          "base_uri": "https://localhost:8080/"
        }
      },
      "execution_count": null,
      "outputs": [
        {
          "output_type": "stream",
          "name": "stdout",
          "text": [
            "Wallet Quantity Total 1892 \n",
            "Wallet Income Total 5237.767 \n",
            "Wallet Count 345 \n",
            "Wallet Quantity Average 5.484057971014493 \n",
            "Wallet Income Average 15.181933333333333\n"
          ]
        }
      ]
    },
    {
      "cell_type": "code",
      "source": [
        "# For all three type of payment options\n",
        "#\n",
        "for pType in ['Ewallet','Cash','Credit card']:\n",
        "    _pType = \",\"+pType+\",\"\n",
        "    payment_data = sc.textFile(\"Headless_SuperMarketSales.csv\").\\\n",
        "        filter(lambda x: _pType in x).\\\n",
        "        map(lambda x: x4m2(x)).\\\n",
        "        aggregate(                                                                      # Perform Aggregation on multiple fields\n",
        "        (0,0,0),                                                                        # the initial value\n",
        "        (lambda acc, value: (acc[0] + value[0], acc[1] + value[1], acc[2] + 1)),        # combine value with acc\n",
        "        (lambda acc1, acc2 : (acc1[0] + acc2[0], acc1[1] + acc2[1], acc1[2] + acc2[2])) # combine accumulators\n",
        "        )\n",
        "\n",
        "    print('Payment Type', pType,\\\n",
        "          '\\nQuantity Total',payment_data[0],\\\n",
        "        'Income Total',payment_data[1],\\\n",
        "        'Count',payment_data[2],\\\n",
        "        '\\nQuantity Average',payment_data[0]/payment_data[2],\\\n",
        "        'Income Average', payment_data[1]/payment_data[2],\\\n",
        "        '\\n............................................',\\\n",
        "        )\n"
      ],
      "metadata": {
        "id": "jS5GPDF3iqEP",
        "outputId": "bab48701-74fe-49aa-94d6-960c1627c659",
        "colab": {
          "base_uri": "https://localhost:8080/"
        }
      },
      "execution_count": null,
      "outputs": [
        {
          "output_type": "stream",
          "name": "stdout",
          "text": [
            "Payment Type Ewallet \n",
            "Quantity Total 1892 Income Total 5237.767 Count 345 \n",
            "Quantity Average 5.484057971014493 Income Average 15.181933333333333 \n",
            "............................................\n",
            "Payment Type Cash \n",
            "Quantity Total 1896 Income Total 5343.170000000001 Count 344 \n",
            "Quantity Average 5.511627906976744 Income Average 15.532470930232561 \n",
            "............................................\n",
            "Payment Type Credit card \n",
            "Quantity Total 1722 Income Total 4798.432000000001 Count 311 \n",
            "Quantity Average 5.536977491961415 Income Average 15.42904180064309 \n",
            "............................................\n"
          ]
        }
      ]
    },
    {
      "cell_type": "markdown",
      "source": [
        "### Convert RDD to Spark DataFrame"
      ],
      "metadata": {
        "id": "bzNLlQGSl2XN"
      }
    },
    {
      "cell_type": "code",
      "source": [
        "# Split string data on \",\" and convert string to relevant datatypes\n",
        "#\n",
        "#sales_RDD1_split1 = sales_RDD1.map(lambda l: l.split(\",\"))\n",
        "#sales_RDD1_split1.take(1)\n",
        "#sales_RDD1_split2 = sales_RDD1_split1.map(lambda l: [l[0],l[1],l[2],l[3],l[4],l[5],float(l[6]),int(l[7]),float(l[8]),float(l[9]),l[10],l[11],l[12],float(l[13]),float(l[14]),float(l[15]),float(l[16])])\n",
        "#sales_RDD1_split2.take(1)\n",
        "\n",
        "def x4m3(text):\n",
        "    l = text.split(\",\")\n",
        "    return([l[0],l[1],l[2],l[3],l[4],l[5],float(l[6]),int(l[7]),float(l[8]),float(l[9]),l[10],l[11],l[12],float(l[13]),float(l[14]),float(l[15]),float(l[16])])\n",
        "\n",
        "sales_RDD1_csv = sales_RDD1.map(lambda x: x4m3(x))\n",
        "#sales_RDD1_split.take(1)"
      ],
      "metadata": {
        "id": "d3Ncb2dl1Q9q"
      },
      "execution_count": null,
      "outputs": []
    },
    {
      "cell_type": "code",
      "source": [
        "# Convert to dataframe\n",
        "# Date, Time does not convert correctly\n",
        "#\n",
        "SalesDataSchema = StructType([\n",
        "    StructField('Invoice ID', StringType(), True),\n",
        "    StructField('Branch', StringType(), True),\n",
        "    StructField('City', StringType(), True),\n",
        "    StructField('Customer Type', StringType(), True),\n",
        "    StructField('Gender', StringType(), True),\n",
        "    StructField('Product Line', StringType(), True),\n",
        "    StructField('Unit Price', FloatType(), True),\n",
        "    StructField('Quantity', IntegerType(), True),\n",
        "    StructField('Tax 5%', DoubleType(), True),\n",
        "    StructField('Total', DoubleType(), True),\n",
        "    StructField('Date', StringType(), True),\n",
        "    StructField('Time', StringType(), True),\n",
        "    StructField('Payment', StringType(), True),\n",
        "    StructField('cogs', DoubleType(), True),\n",
        "    StructField('gross margin percentage', DoubleType(), True),\n",
        "    StructField('gross income', DoubleType(), True),\n",
        "    StructField('Rating', DoubleType(), True)\n",
        "])\n",
        "\n",
        "#sales_df1 = spark39.createDataFrame(data = sales_RDD1_split2, schema = colSchema)\n",
        "sales_df1 = spark39.createDataFrame(data = sales_RDD1_csv, schema = SalesDataSchema)\n",
        "\n",
        "#sales_df1.printSchema()\n",
        "#sales_df1.show(5)"
      ],
      "metadata": {
        "id": "aY9BFmvroc_l"
      },
      "execution_count": null,
      "outputs": []
    },
    {
      "cell_type": "code",
      "source": [
        "# Fix Date, Time datatype\n",
        "#\n",
        "#sales_df1 = sales_df1.withColumn('Date',to_date(col('Date'), \"M/d/y\"))\n",
        "#sales_df1 = sales_df1.withColumn('Time',to_timestamp(col('Time'), \"HH:mm\"))\n",
        "\n",
        "sales_df1 = sales_df1.\\\n",
        "    withColumn('Date',to_date(col('Date'), \"M/d/y\")).\\\n",
        "    withColumn('Time',to_timestamp(col('Time'), \"HH:mm\"))\n",
        "\n",
        "#sales_df1 = sales_df1.\n",
        "\n",
        "sales_df1.printSchema()\n",
        "sales_df1.show(5)"
      ],
      "metadata": {
        "id": "Pcw0mGh8g5xY",
        "outputId": "e7290986-d960-42e1-e608-8c4d24302bc1",
        "colab": {
          "base_uri": "https://localhost:8080/"
        }
      },
      "execution_count": null,
      "outputs": [
        {
          "output_type": "stream",
          "name": "stdout",
          "text": [
            "root\n",
            " |-- Invoice ID: string (nullable = true)\n",
            " |-- Branch: string (nullable = true)\n",
            " |-- City: string (nullable = true)\n",
            " |-- Customer Type: string (nullable = true)\n",
            " |-- Gender: string (nullable = true)\n",
            " |-- Product Line: string (nullable = true)\n",
            " |-- Unit Price: float (nullable = true)\n",
            " |-- Quantity: integer (nullable = true)\n",
            " |-- Tax 5%: double (nullable = true)\n",
            " |-- Total: double (nullable = true)\n",
            " |-- Date: date (nullable = true)\n",
            " |-- Time: timestamp (nullable = true)\n",
            " |-- Payment: string (nullable = true)\n",
            " |-- cogs: double (nullable = true)\n",
            " |-- gross margin percentage: double (nullable = true)\n",
            " |-- gross income: double (nullable = true)\n",
            " |-- Rating: double (nullable = true)\n",
            "\n",
            "+-----------+------+---------+-------------+------+--------------------+----------+--------+-------+--------+----------+-------------------+-----------+------+-----------------------+------------+------+\n",
            "| Invoice ID|Branch|     City|Customer Type|Gender|        Product Line|Unit Price|Quantity| Tax 5%|   Total|      Date|               Time|    Payment|  cogs|gross margin percentage|gross income|Rating|\n",
            "+-----------+------+---------+-------------+------+--------------------+----------+--------+-------+--------+----------+-------------------+-----------+------+-----------------------+------------+------+\n",
            "|750-67-8428|     A|   Yangon|       Member|Female|   Health and beauty|     74.69|       7|26.1415|548.9715|2019-01-05|1970-01-01 13:08:00|    Ewallet|522.83|            4.761904762|     26.1415|   9.1|\n",
            "|226-31-3081|     C|Naypyitaw|       Normal|Female|Electronic access...|     15.28|       5|   3.82|   80.22|2019-03-08|1970-01-01 10:29:00|       Cash|  76.4|            4.761904762|        3.82|   9.6|\n",
            "|631-41-3108|     A|   Yangon|       Normal|  Male|  Home and lifestyle|     46.33|       7|16.2155|340.5255|2019-03-03|1970-01-01 13:23:00|Credit card|324.31|            4.761904762|     16.2155|   7.4|\n",
            "|123-19-1176|     A|   Yangon|       Member|  Male|   Health and beauty|     58.22|       8| 23.288| 489.048|2019-01-27|1970-01-01 20:33:00|    Ewallet|465.76|            4.761904762|      23.288|   8.4|\n",
            "|373-73-7910|     A|   Yangon|       Normal|  Male|   Sports and travel|     86.31|       7|30.2085|634.3785|2019-02-08|1970-01-01 10:37:00|    Ewallet|604.17|            4.761904762|     30.2085|   5.3|\n",
            "+-----------+------+---------+-------------+------+--------------------+----------+--------+-------+--------+----------+-------------------+-----------+------+-----------------------+------------+------+\n",
            "only showing top 5 rows\n",
            "\n"
          ]
        }
      ]
    },
    {
      "cell_type": "markdown",
      "source": [
        "## Dataframe Operations"
      ],
      "metadata": {
        "id": "pFfrwyqBhULk"
      }
    },
    {
      "cell_type": "markdown",
      "source": [
        "### Read CSV into Spark Dataframe"
      ],
      "metadata": {
        "id": "1LGAoj2Yoxva"
      }
    },
    {
      "cell_type": "code",
      "source": [
        "# Relaod Supermarket Sales Data WITH HEADERS\n",
        "# Original File has had its header line deleted\n",
        "#\n",
        "#!wget -O SuperMarketSales.csv -q 'https://github.com/Praxis-QR/BDSN/raw/main/Data2/SuperMarketSales.csv'"
      ],
      "metadata": {
        "id": "rR6h31oJIrQh"
      },
      "execution_count": null,
      "outputs": []
    },
    {
      "cell_type": "code",
      "source": [
        "# Date is not inferred correctly\n",
        "# Needs to be fixed in next step\n",
        "#\n",
        "sales_df2 = spark39.read.format(\"csv\").option(\"header\", \"true\").option(\"inferSchema\", \"true\").load(\"./SuperMarketSales.csv\")\n",
        "#sales_df2.printSchema()\n",
        "#sales_df2.show(5)"
      ],
      "metadata": {
        "id": "hHD1IOKfo0im"
      },
      "execution_count": null,
      "outputs": []
    },
    {
      "cell_type": "code",
      "source": [
        "sales_df2 = sales_df2.withColumn('Date',to_date(col('Date'), \"M/d/y\"))\n",
        "sales_df2.printSchema()\n",
        "sales_df2.show(5)"
      ],
      "metadata": {
        "id": "LbinD7CNnX9A",
        "outputId": "2b0de3a5-62de-433e-829b-f4535f080174",
        "colab": {
          "base_uri": "https://localhost:8080/"
        }
      },
      "execution_count": null,
      "outputs": [
        {
          "output_type": "stream",
          "name": "stdout",
          "text": [
            "root\n",
            " |-- Invoice ID: string (nullable = true)\n",
            " |-- Branch: string (nullable = true)\n",
            " |-- City: string (nullable = true)\n",
            " |-- Customer type: string (nullable = true)\n",
            " |-- Gender: string (nullable = true)\n",
            " |-- Product line: string (nullable = true)\n",
            " |-- Unit price: double (nullable = true)\n",
            " |-- Quantity: integer (nullable = true)\n",
            " |-- Tax 5%: double (nullable = true)\n",
            " |-- Total: double (nullable = true)\n",
            " |-- Date: date (nullable = true)\n",
            " |-- Time: timestamp (nullable = true)\n",
            " |-- Payment: string (nullable = true)\n",
            " |-- cogs: double (nullable = true)\n",
            " |-- gross margin percentage: double (nullable = true)\n",
            " |-- gross income: double (nullable = true)\n",
            " |-- Rating: double (nullable = true)\n",
            "\n",
            "+-----------+------+---------+-------------+------+--------------------+----------+--------+-------+--------+----------+-------------------+-----------+------+-----------------------+------------+------+\n",
            "| Invoice ID|Branch|     City|Customer type|Gender|        Product line|Unit price|Quantity| Tax 5%|   Total|      Date|               Time|    Payment|  cogs|gross margin percentage|gross income|Rating|\n",
            "+-----------+------+---------+-------------+------+--------------------+----------+--------+-------+--------+----------+-------------------+-----------+------+-----------------------+------------+------+\n",
            "|750-67-8428|     A|   Yangon|       Member|Female|   Health and beauty|     74.69|       7|26.1415|548.9715|2019-01-05|2024-01-20 13:08:00|    Ewallet|522.83|            4.761904762|     26.1415|   9.1|\n",
            "|226-31-3081|     C|Naypyitaw|       Normal|Female|Electronic access...|     15.28|       5|   3.82|   80.22|2019-03-08|2024-01-20 10:29:00|       Cash|  76.4|            4.761904762|        3.82|   9.6|\n",
            "|631-41-3108|     A|   Yangon|       Normal|  Male|  Home and lifestyle|     46.33|       7|16.2155|340.5255|2019-03-03|2024-01-20 13:23:00|Credit card|324.31|            4.761904762|     16.2155|   7.4|\n",
            "|123-19-1176|     A|   Yangon|       Member|  Male|   Health and beauty|     58.22|       8| 23.288| 489.048|2019-01-27|2024-01-20 20:33:00|    Ewallet|465.76|            4.761904762|      23.288|   8.4|\n",
            "|373-73-7910|     A|   Yangon|       Normal|  Male|   Sports and travel|     86.31|       7|30.2085|634.3785|2019-02-08|2024-01-20 10:37:00|    Ewallet|604.17|            4.761904762|     30.2085|   5.3|\n",
            "+-----------+------+---------+-------------+------+--------------------+----------+--------+-------+--------+----------+-------------------+-----------+------+-----------------------+------------+------+\n",
            "only showing top 5 rows\n",
            "\n"
          ]
        }
      ]
    },
    {
      "cell_type": "markdown",
      "source": [
        "### Display a subset of columns"
      ],
      "metadata": {
        "id": "3hVL_rkzX2x8"
      }
    },
    {
      "cell_type": "code",
      "source": [
        "# All three works\n",
        "#\n",
        "#sales_df2.select(sales_df2['Invoice ID'], sales_df2['gross income'],sales_df2['City'],sales_df2['Payment']).show(truncate=False)\n",
        "#sales_df2.select(['Invoice ID','gross income','City','Payment']).show(truncate=False)\n",
        "sales_df2['Invoice ID','gross income','City','Payment'].show(truncate=False)"
      ],
      "metadata": {
        "id": "O7XlvwM7X8MF",
        "outputId": "ede9cb8e-e5a2-4094-999d-eac4e041c112",
        "colab": {
          "base_uri": "https://localhost:8080/"
        }
      },
      "execution_count": null,
      "outputs": [
        {
          "output_type": "stream",
          "name": "stdout",
          "text": [
            "+-----------+------------+---------+-----------+\n",
            "|Invoice ID |gross income|City     |Payment    |\n",
            "+-----------+------------+---------+-----------+\n",
            "|750-67-8428|26.1415     |Yangon   |Ewallet    |\n",
            "|226-31-3081|3.82        |Naypyitaw|Cash       |\n",
            "|631-41-3108|16.2155     |Yangon   |Credit card|\n",
            "|123-19-1176|23.288      |Yangon   |Ewallet    |\n",
            "|373-73-7910|30.2085     |Yangon   |Ewallet    |\n",
            "|699-14-3026|29.8865     |Naypyitaw|Ewallet    |\n",
            "|355-53-5943|20.652      |Yangon   |Ewallet    |\n",
            "|315-22-5665|36.78       |Naypyitaw|Ewallet    |\n",
            "|665-32-9167|3.626       |Yangon   |Credit card|\n",
            "|692-92-5582|8.226       |Mandalay |Credit card|\n",
            "|351-62-0822|2.896       |Mandalay |Ewallet    |\n",
            "|529-56-3974|5.102       |Mandalay |Cash       |\n",
            "|365-64-0515|11.7375     |Yangon   |Ewallet    |\n",
            "|252-56-2699|21.595      |Yangon   |Ewallet    |\n",
            "|829-34-3910|35.69       |Yangon   |Cash       |\n",
            "|299-46-1805|28.116      |Mandalay |Cash       |\n",
            "|656-95-9349|24.1255     |Yangon   |Credit card|\n",
            "|765-26-6951|21.783      |Yangon   |Credit card|\n",
            "|329-62-1586|8.2005      |Yangon   |Credit card|\n",
            "|319-50-3348|4.03        |Mandalay |Ewallet    |\n",
            "+-----------+------------+---------+-----------+\n",
            "only showing top 20 rows\n",
            "\n"
          ]
        }
      ]
    },
    {
      "cell_type": "code",
      "source": [
        "sales_df2['Invoice ID','gross income','City','Payment'].orderBy('City','gross income',ascending=False).show(truncate=False)"
      ],
      "metadata": {
        "id": "y5A608yur5ne",
        "outputId": "b1bcac83-99d6-43dd-d6be-ec32a970eb77",
        "colab": {
          "base_uri": "https://localhost:8080/"
        }
      },
      "execution_count": null,
      "outputs": [
        {
          "output_type": "stream",
          "name": "stdout",
          "text": [
            "+-----------+------------+------+-----------+\n",
            "|Invoice ID |gross income|City  |Payment    |\n",
            "+-----------+------------+------+-----------+\n",
            "|687-47-8271|49.49       |Yangon|Credit card|\n",
            "|325-77-6186|45.325      |Yangon|Ewallet    |\n",
            "|384-59-6655|44.397      |Yangon|Cash       |\n",
            "|704-48-3927|44.335      |Yangon|Ewallet    |\n",
            "|827-77-7633|44.1405     |Yangon|Cash       |\n",
            "|139-32-4183|43.866      |Yangon|Ewallet    |\n",
            "|805-86-0265|42.282      |Yangon|Cash       |\n",
            "|698-98-5964|40.605      |Yangon|Credit card|\n",
            "|138-17-5109|40.1445     |Yangon|Credit card|\n",
            "|638-60-7125|39.824      |Yangon|Credit card|\n",
            "|232-11-3025|39.385      |Yangon|Cash       |\n",
            "|652-43-6591|38.916      |Yangon|Credit card|\n",
            "|880-46-5796|38.46       |Yangon|Ewallet    |\n",
            "|746-94-0204|37.458      |Yangon|Credit card|\n",
            "|453-33-6436|37.248      |Yangon|Cash       |\n",
            "|243-55-8457|37.22       |Yangon|Ewallet    |\n",
            "|416-17-9926|37.11       |Yangon|Credit card|\n",
            "|884-80-6021|36.735      |Yangon|Ewallet    |\n",
            "|742-04-5161|36.39       |Yangon|Cash       |\n",
            "|817-48-8732|36.175      |Yangon|Cash       |\n",
            "+-----------+------------+------+-----------+\n",
            "only showing top 20 rows\n",
            "\n"
          ]
        }
      ]
    },
    {
      "cell_type": "markdown",
      "source": [
        "### Display a subset of rows\n",
        "\"where\" Condition in SQL"
      ],
      "metadata": {
        "id": "amKo5V-9be3c"
      }
    },
    {
      "cell_type": "code",
      "source": [
        "sales_df2['Invoice ID','gross income','City','Payment'][sales_df2['City'] == 'Yangon'].show(truncate=False)"
      ],
      "metadata": {
        "id": "7Ywj76doa0ch",
        "outputId": "13f16e86-d55e-4e65-ea4a-a94f087ee585",
        "colab": {
          "base_uri": "https://localhost:8080/"
        }
      },
      "execution_count": null,
      "outputs": [
        {
          "output_type": "stream",
          "name": "stdout",
          "text": [
            "+-----------+------------+------+-----------+\n",
            "|Invoice ID |gross income|City  |Payment    |\n",
            "+-----------+------------+------+-----------+\n",
            "|750-67-8428|26.1415     |Yangon|Ewallet    |\n",
            "|631-41-3108|16.2155     |Yangon|Credit card|\n",
            "|123-19-1176|23.288      |Yangon|Ewallet    |\n",
            "|373-73-7910|30.2085     |Yangon|Ewallet    |\n",
            "|355-53-5943|20.652      |Yangon|Ewallet    |\n",
            "|665-32-9167|3.626       |Yangon|Credit card|\n",
            "|365-64-0515|11.7375     |Yangon|Ewallet    |\n",
            "|252-56-2699|21.595      |Yangon|Ewallet    |\n",
            "|829-34-3910|35.69       |Yangon|Cash       |\n",
            "|656-95-9349|24.1255     |Yangon|Credit card|\n",
            "|765-26-6951|21.783      |Yangon|Credit card|\n",
            "|329-62-1586|8.2005      |Yangon|Credit card|\n",
            "|636-48-8204|8.64        |Yangon|Ewallet    |\n",
            "|549-59-1358|13.2945     |Yangon|Ewallet    |\n",
            "|227-03-5010|21.036      |Yangon|Credit card|\n",
            "|189-17-4241|8.767       |Yangon|Credit card|\n",
            "|848-62-7243|11.2005     |Yangon|Cash       |\n",
            "|595-11-5460|9.658       |Yangon|Credit card|\n",
            "|129-29-8530|15.655      |Yangon|Ewallet    |\n",
            "|272-65-1806|27.396      |Yangon|Ewallet    |\n",
            "+-----------+------------+------+-----------+\n",
            "only showing top 20 rows\n",
            "\n"
          ]
        }
      ]
    },
    {
      "cell_type": "markdown",
      "source": [
        "#### AND | OR"
      ],
      "metadata": {
        "id": "xCJfCMi7cHBE"
      }
    },
    {
      "cell_type": "code",
      "source": [
        "sales_df2['Invoice ID','gross income','City','Payment'][(sales_df2['City'] == 'Yangon') & (sales_df2['Payment'] == 'Ewallet')].\\\n",
        "    show(truncate=False)"
      ],
      "metadata": {
        "id": "gGoaH9pJbwMC",
        "outputId": "aea17dc3-c770-42ff-a1a4-eb8686dc197c",
        "colab": {
          "base_uri": "https://localhost:8080/"
        }
      },
      "execution_count": null,
      "outputs": [
        {
          "output_type": "stream",
          "name": "stdout",
          "text": [
            "+-----------+------------+------+-------+\n",
            "|Invoice ID |gross income|City  |Payment|\n",
            "+-----------+------------+------+-------+\n",
            "|750-67-8428|26.1415     |Yangon|Ewallet|\n",
            "|123-19-1176|23.288      |Yangon|Ewallet|\n",
            "|373-73-7910|30.2085     |Yangon|Ewallet|\n",
            "|355-53-5943|20.652      |Yangon|Ewallet|\n",
            "|365-64-0515|11.7375     |Yangon|Ewallet|\n",
            "|252-56-2699|21.595      |Yangon|Ewallet|\n",
            "|636-48-8204|8.64        |Yangon|Ewallet|\n",
            "|549-59-1358|13.2945     |Yangon|Ewallet|\n",
            "|129-29-8530|15.655      |Yangon|Ewallet|\n",
            "|272-65-1806|27.396      |Yangon|Ewallet|\n",
            "|635-40-6220|35.84       |Yangon|Ewallet|\n",
            "|287-21-9091|33.6015     |Yangon|Ewallet|\n",
            "|873-51-0671|7.693       |Yangon|Ewallet|\n",
            "|594-34-4444|4.858       |Yangon|Ewallet|\n",
            "|865-92-6136|7.9125      |Yangon|Ewallet|\n",
            "|704-48-3927|44.335      |Yangon|Ewallet|\n",
            "|645-44-1170|26.1315     |Yangon|Ewallet|\n",
            "|642-32-2990|5.48        |Yangon|Ewallet|\n",
            "|575-30-8091|29.0        |Yangon|Ewallet|\n",
            "|239-10-7476|23.385      |Yangon|Ewallet|\n",
            "+-----------+------------+------+-------+\n",
            "only showing top 20 rows\n",
            "\n"
          ]
        }
      ]
    },
    {
      "cell_type": "code",
      "source": [
        "sales_df2['Invoice ID','gross income','City','Payment'][(sales_df2['City'] == 'Yangon') | (sales_df2['Payment'] == 'Ewallet')].\\\n",
        "    show(truncate=False)"
      ],
      "metadata": {
        "id": "aX938XJecQ8Z",
        "outputId": "f112d9ca-d677-4ffc-baac-fc60316f867d",
        "colab": {
          "base_uri": "https://localhost:8080/"
        }
      },
      "execution_count": null,
      "outputs": [
        {
          "output_type": "stream",
          "name": "stdout",
          "text": [
            "+-----------+------------+---------+-----------+\n",
            "|Invoice ID |gross income|City     |Payment    |\n",
            "+-----------+------------+---------+-----------+\n",
            "|750-67-8428|26.1415     |Yangon   |Ewallet    |\n",
            "|631-41-3108|16.2155     |Yangon   |Credit card|\n",
            "|123-19-1176|23.288      |Yangon   |Ewallet    |\n",
            "|373-73-7910|30.2085     |Yangon   |Ewallet    |\n",
            "|699-14-3026|29.8865     |Naypyitaw|Ewallet    |\n",
            "|355-53-5943|20.652      |Yangon   |Ewallet    |\n",
            "|315-22-5665|36.78       |Naypyitaw|Ewallet    |\n",
            "|665-32-9167|3.626       |Yangon   |Credit card|\n",
            "|351-62-0822|2.896       |Mandalay |Ewallet    |\n",
            "|365-64-0515|11.7375     |Yangon   |Ewallet    |\n",
            "|252-56-2699|21.595      |Yangon   |Ewallet    |\n",
            "|829-34-3910|35.69       |Yangon   |Cash       |\n",
            "|656-95-9349|24.1255     |Yangon   |Credit card|\n",
            "|765-26-6951|21.783      |Yangon   |Credit card|\n",
            "|329-62-1586|8.2005      |Yangon   |Credit card|\n",
            "|319-50-3348|4.03        |Mandalay |Ewallet    |\n",
            "|300-71-4605|21.51       |Naypyitaw|Ewallet    |\n",
            "|371-85-5789|13.197      |Mandalay |Ewallet    |\n",
            "|636-48-8204|8.64        |Yangon   |Ewallet    |\n",
            "|549-59-1358|13.2945     |Yangon   |Ewallet    |\n",
            "+-----------+------------+---------+-----------+\n",
            "only showing top 20 rows\n",
            "\n"
          ]
        }
      ]
    },
    {
      "cell_type": "markdown",
      "source": [
        "### Aggregation | Group By"
      ],
      "metadata": {
        "id": "EANBWvIsdfx6"
      }
    },
    {
      "cell_type": "code",
      "source": [
        "sales_df2.groupBy('Payment','City').count().show()"
      ],
      "metadata": {
        "id": "-gmb9b7Ud3zr",
        "outputId": "4d7c5e9e-6fa5-4c9e-902c-af941d230527",
        "colab": {
          "base_uri": "https://localhost:8080/"
        }
      },
      "execution_count": null,
      "outputs": [
        {
          "output_type": "stream",
          "name": "stdout",
          "text": [
            "+-----------+---------+-----+\n",
            "|    Payment|     City|count|\n",
            "+-----------+---------+-----+\n",
            "|Credit card| Mandalay|  109|\n",
            "|Credit card|Naypyitaw|   98|\n",
            "|       Cash|Naypyitaw|  124|\n",
            "|       Cash|   Yangon|  110|\n",
            "|    Ewallet| Mandalay|  113|\n",
            "|Credit card|   Yangon|  104|\n",
            "|    Ewallet|Naypyitaw|  106|\n",
            "|       Cash| Mandalay|  110|\n",
            "|    Ewallet|   Yangon|  126|\n",
            "+-----------+---------+-----+\n",
            "\n"
          ]
        }
      ]
    },
    {
      "cell_type": "code",
      "source": [
        "sales_df2['Payment','City','Quantity'].groupBy('Payment','City').sum().show()"
      ],
      "metadata": {
        "id": "iQimyGcseeT7",
        "outputId": "0ec1152d-3e7d-4735-d8f4-c71883cb4343",
        "colab": {
          "base_uri": "https://localhost:8080/"
        }
      },
      "execution_count": null,
      "outputs": [
        {
          "output_type": "stream",
          "name": "stdout",
          "text": [
            "+-----------+---------+-------------+\n",
            "|    Payment|     City|sum(Quantity)|\n",
            "+-----------+---------+-------------+\n",
            "|Credit card| Mandalay|          599|\n",
            "|Credit card|Naypyitaw|          543|\n",
            "|       Cash|Naypyitaw|          696|\n",
            "|       Cash|   Yangon|          572|\n",
            "|    Ewallet| Mandalay|          593|\n",
            "|Credit card|   Yangon|          580|\n",
            "|    Ewallet|Naypyitaw|          592|\n",
            "|       Cash| Mandalay|          628|\n",
            "|    Ewallet|   Yangon|          707|\n",
            "+-----------+---------+-------------+\n",
            "\n"
          ]
        }
      ]
    },
    {
      "cell_type": "code",
      "source": [
        "sales_df2['Payment','Quantity','gross income'].groupBy('Payment').mean().show()"
      ],
      "metadata": {
        "id": "25NYm6umgSZY",
        "outputId": "ebb8dea4-d63e-494e-c302-08dd56f6de3b",
        "colab": {
          "base_uri": "https://localhost:8080/"
        }
      },
      "execution_count": null,
      "outputs": [
        {
          "output_type": "stream",
          "name": "stdout",
          "text": [
            "+-----------+-----------------+------------------+\n",
            "|    Payment|    avg(Quantity)| avg(gross income)|\n",
            "+-----------+-----------------+------------------+\n",
            "|    Ewallet|5.484057971014493|15.181933333333335|\n",
            "|       Cash|5.511627906976744|15.532470930232577|\n",
            "|Credit card|5.536977491961415| 15.42904180064309|\n",
            "+-----------+-----------------+------------------+\n",
            "\n"
          ]
        }
      ]
    },
    {
      "cell_type": "code",
      "source": [
        "# This is REALLY CLEVER\n",
        "#\n",
        "groupBy51 = ['Payment']\n",
        "aggregate51 = ['gross income','Quantity']\n",
        "#funs = [mean, sum, max]\n",
        "funs = [count,mean, sum]\n",
        "\n",
        "exprs51 = [f(col(c)) for f in funs for c in aggregate51]\n",
        "\n",
        "sales_df2['Payment','Quantity','gross income'].groupBy(groupBy51).agg(*exprs51).show()"
      ],
      "metadata": {
        "id": "Ij0Ao37giQqr",
        "outputId": "cc47b97c-85d7-48c6-f15f-514e583a3dc7",
        "colab": {
          "base_uri": "https://localhost:8080/"
        }
      },
      "execution_count": null,
      "outputs": [
        {
          "output_type": "stream",
          "name": "stdout",
          "text": [
            "+-----------+-------------------+---------------+------------------+-----------------+-----------------+-------------+\n",
            "|    Payment|count(gross income)|count(Quantity)| avg(gross income)|    avg(Quantity)|sum(gross income)|sum(Quantity)|\n",
            "+-----------+-------------------+---------------+------------------+-----------------+-----------------+-------------+\n",
            "|    Ewallet|                345|            345|15.181933333333335|5.484057971014493|5237.767000000001|         1892|\n",
            "|       Cash|                344|            344|15.532470930232577|5.511627906976744|5343.170000000006|         1896|\n",
            "|Credit card|                311|            311| 15.42904180064309|5.536977491961415|4798.432000000001|         1722|\n",
            "+-----------+-------------------+---------------+------------------+-----------------+-----------------+-------------+\n",
            "\n"
          ]
        }
      ]
    },
    {
      "cell_type": "markdown",
      "source": [
        "### SQL Table Operations"
      ],
      "metadata": {
        "id": "PufIPWYghgKy"
      }
    },
    {
      "cell_type": "markdown",
      "source": [
        "#### Dataframe to Temporary Table"
      ],
      "metadata": {
        "id": "gjSUFvSgsIAK"
      }
    },
    {
      "cell_type": "code",
      "source": [
        "sales_df2.createOrReplaceTempView(\"tSales\")\n",
        "spark39.sql(\"describe tSales\").show()"
      ],
      "metadata": {
        "id": "QtGXv1vdsUv7",
        "outputId": "e4ddfd54-7c57-4af6-ef49-45def91a6edd",
        "colab": {
          "base_uri": "https://localhost:8080/"
        }
      },
      "execution_count": null,
      "outputs": [
        {
          "output_type": "stream",
          "name": "stdout",
          "text": [
            "+--------------------+---------+-------+\n",
            "|            col_name|data_type|comment|\n",
            "+--------------------+---------+-------+\n",
            "|          Invoice ID|   string|   NULL|\n",
            "|              Branch|   string|   NULL|\n",
            "|                City|   string|   NULL|\n",
            "|       Customer type|   string|   NULL|\n",
            "|              Gender|   string|   NULL|\n",
            "|        Product line|   string|   NULL|\n",
            "|          Unit price|   double|   NULL|\n",
            "|            Quantity|      int|   NULL|\n",
            "|              Tax 5%|   double|   NULL|\n",
            "|               Total|   double|   NULL|\n",
            "|                Date|     date|   NULL|\n",
            "|                Time|timestamp|   NULL|\n",
            "|             Payment|   string|   NULL|\n",
            "|                cogs|   double|   NULL|\n",
            "|gross margin perc...|   double|   NULL|\n",
            "|        gross income|   double|   NULL|\n",
            "|              Rating|   double|   NULL|\n",
            "+--------------------+---------+-------+\n",
            "\n"
          ]
        }
      ]
    },
    {
      "cell_type": "code",
      "source": [
        "spark39.sql(\"show tables\").show()\n",
        "spark39.sql(\"select * from tsales limit 3\").show()"
      ],
      "metadata": {
        "id": "kBCxzrIrssZA",
        "outputId": "903b9492-16cb-4e48-807c-fb26d7e709c8",
        "colab": {
          "base_uri": "https://localhost:8080/"
        }
      },
      "execution_count": null,
      "outputs": [
        {
          "output_type": "stream",
          "name": "stdout",
          "text": [
            "+---------+---------+-----------+\n",
            "|namespace|tableName|isTemporary|\n",
            "+---------+---------+-----------+\n",
            "|         |   tsales|       true|\n",
            "+---------+---------+-----------+\n",
            "\n",
            "+-----------+------+---------+-------------+------+--------------------+----------+--------+-------+--------+----------+-------------------+-----------+------+-----------------------+------------+------+\n",
            "| Invoice ID|Branch|     City|Customer type|Gender|        Product line|Unit price|Quantity| Tax 5%|   Total|      Date|               Time|    Payment|  cogs|gross margin percentage|gross income|Rating|\n",
            "+-----------+------+---------+-------------+------+--------------------+----------+--------+-------+--------+----------+-------------------+-----------+------+-----------------------+------------+------+\n",
            "|750-67-8428|     A|   Yangon|       Member|Female|   Health and beauty|     74.69|       7|26.1415|548.9715|2019-01-05|2024-01-20 13:08:00|    Ewallet|522.83|            4.761904762|     26.1415|   9.1|\n",
            "|226-31-3081|     C|Naypyitaw|       Normal|Female|Electronic access...|     15.28|       5|   3.82|   80.22|2019-03-08|2024-01-20 10:29:00|       Cash|  76.4|            4.761904762|        3.82|   9.6|\n",
            "|631-41-3108|     A|   Yangon|       Normal|  Male|  Home and lifestyle|     46.33|       7|16.2155|340.5255|2019-03-03|2024-01-20 13:23:00|Credit card|324.31|            4.761904762|     16.2155|   7.4|\n",
            "+-----------+------+---------+-------------+------+--------------------+----------+--------+-------+--------+----------+-------------------+-----------+------+-----------------------+------------+------+\n",
            "\n"
          ]
        }
      ]
    },
    {
      "cell_type": "markdown",
      "source": [
        "#### SQL Based Analysis"
      ],
      "metadata": {
        "id": "rVE9KiBLFNqf"
      }
    },
    {
      "cell_type": "code",
      "source": [
        "# NOTE backtick ` used to enclose column names with spaces inside!\n",
        "spark39.sql(\"select payment, count(*), sum(quantity), avg(quantity), sum(`gross income`), avg(`gross income`) from tsales group by payment \").show()"
      ],
      "metadata": {
        "colab": {
          "base_uri": "https://localhost:8080/"
        },
        "id": "tKRZR8rCFZTt",
        "outputId": "a8233dd1-bf24-4cf1-cbd0-1fcb44e712fa"
      },
      "execution_count": null,
      "outputs": [
        {
          "output_type": "stream",
          "name": "stdout",
          "text": [
            "+-----------+--------+-------------+-----------------+-----------------+------------------+\n",
            "|    payment|count(1)|sum(quantity)|    avg(quantity)|sum(gross income)| avg(gross income)|\n",
            "+-----------+--------+-------------+-----------------+-----------------+------------------+\n",
            "|    Ewallet|     345|         1892|5.484057971014493|5237.767000000001|15.181933333333335|\n",
            "|       Cash|     344|         1896|5.511627906976744|5343.170000000006|15.532470930232577|\n",
            "|Credit card|     311|         1722|5.536977491961415|4798.432000000001| 15.42904180064309|\n",
            "+-----------+--------+-------------+-----------------+-----------------+------------------+\n",
            "\n"
          ]
        }
      ]
    },
    {
      "cell_type": "markdown",
      "source": [
        "#### Temporary to Permanent Table"
      ],
      "metadata": {
        "id": "nLfenbuolPFX"
      }
    },
    {
      "cell_type": "code",
      "source": [
        "#sql_drop_table = \"\"\"drop table if exists praxisdb.sales_T\"\"\"\n",
        "#sql_drop_database = \"\"\"drop database if exists praxisdb cascade\"\"\"\n",
        "#sql_create_database = \"\"\"create database if not exists praxisdb location '/content/praxisdb/'\"\"\"\n",
        "#sql_create_table = \"\"\"create table if not exists praxisdb.sales_T using parquet as select  * from tSales\"\"\"\n",
        "\n",
        "spark39.sql(\"drop table if exists praxisdb.sales_T\")\n",
        "spark39.sql(\"drop database if exists praxisdb cascade\")\n",
        "spark39.sql(\"create database if not exists praxisdb location '/content/praxisdb/'\")\n",
        "spark39.sql(\"create table if not exists praxisdb.sales_T using parquet as select  * from tSales\")"
      ],
      "metadata": {
        "id": "TYIPqzuItXXO",
        "outputId": "e72a216b-a8b2-45ed-aa2f-ff37b95f0069",
        "colab": {
          "base_uri": "https://localhost:8080/"
        }
      },
      "execution_count": null,
      "outputs": [
        {
          "output_type": "execute_result",
          "data": {
            "text/plain": [
              "DataFrame[]"
            ]
          },
          "metadata": {},
          "execution_count": 48
        }
      ]
    },
    {
      "cell_type": "code",
      "source": [
        "spark39.sql(\"use praxisdb\")\n",
        "spark39.sql(\"show tables\").show()"
      ],
      "metadata": {
        "id": "4clewVjTszG6",
        "outputId": "9ced8dd0-a0e4-4608-d32e-d356a7fdaa24",
        "colab": {
          "base_uri": "https://localhost:8080/"
        }
      },
      "execution_count": null,
      "outputs": [
        {
          "output_type": "stream",
          "name": "stdout",
          "text": [
            "+---------+---------+-----------+\n",
            "|namespace|tableName|isTemporary|\n",
            "+---------+---------+-----------+\n",
            "| praxisdb|  sales_t|      false|\n",
            "|         |   tsales|       true|\n",
            "+---------+---------+-----------+\n",
            "\n"
          ]
        }
      ]
    },
    {
      "cell_type": "code",
      "source": [
        "#spark39.sql(\"select `gross income` from praxisdb.sales_t\").show()"
      ],
      "metadata": {
        "id": "95EkBGJcGpmF"
      },
      "execution_count": null,
      "outputs": []
    },
    {
      "cell_type": "code",
      "source": [
        "spark39.sql(\"select * from praxisdb.sales_t limit 5\").show()"
      ],
      "metadata": {
        "id": "awQOz6NpuvzR",
        "outputId": "d81d642f-0e7c-4bca-a049-de957e65b989",
        "colab": {
          "base_uri": "https://localhost:8080/"
        }
      },
      "execution_count": null,
      "outputs": [
        {
          "output_type": "stream",
          "name": "stdout",
          "text": [
            "+-----------+------+---------+-------------+------+--------------------+----------+--------+-------+--------+----------+-------------------+-----------+------+-----------------------+------------+------+\n",
            "| Invoice ID|Branch|     City|Customer type|Gender|        Product line|Unit price|Quantity| Tax 5%|   Total|      Date|               Time|    Payment|  cogs|gross margin percentage|gross income|Rating|\n",
            "+-----------+------+---------+-------------+------+--------------------+----------+--------+-------+--------+----------+-------------------+-----------+------+-----------------------+------------+------+\n",
            "|750-67-8428|     A|   Yangon|       Member|Female|   Health and beauty|     74.69|       7|26.1415|548.9715|2019-01-05|2024-01-20 13:08:00|    Ewallet|522.83|            4.761904762|     26.1415|   9.1|\n",
            "|226-31-3081|     C|Naypyitaw|       Normal|Female|Electronic access...|     15.28|       5|   3.82|   80.22|2019-03-08|2024-01-20 10:29:00|       Cash|  76.4|            4.761904762|        3.82|   9.6|\n",
            "|631-41-3108|     A|   Yangon|       Normal|  Male|  Home and lifestyle|     46.33|       7|16.2155|340.5255|2019-03-03|2024-01-20 13:23:00|Credit card|324.31|            4.761904762|     16.2155|   7.4|\n",
            "|123-19-1176|     A|   Yangon|       Member|  Male|   Health and beauty|     58.22|       8| 23.288| 489.048|2019-01-27|2024-01-20 20:33:00|    Ewallet|465.76|            4.761904762|      23.288|   8.4|\n",
            "|373-73-7910|     A|   Yangon|       Normal|  Male|   Sports and travel|     86.31|       7|30.2085|634.3785|2019-02-08|2024-01-20 10:37:00|    Ewallet|604.17|            4.761904762|     30.2085|   5.3|\n",
            "+-----------+------+---------+-------------+------+--------------------+----------+--------+-------+--------+----------+-------------------+-----------+------+-----------------------+------------+------+\n",
            "\n"
          ]
        }
      ]
    },
    {
      "cell_type": "markdown",
      "source": [
        "# NetFlix Data"
      ],
      "metadata": {
        "id": "_OVWDjn61Tdv"
      }
    },
    {
      "cell_type": "code",
      "source": [
        "!head NetFlix.csv"
      ],
      "metadata": {
        "colab": {
          "base_uri": "https://localhost:8080/"
        },
        "id": "GSlGUkU81ZUt",
        "outputId": "2c58e95f-5f09-473f-85b3-33e0650ed2f8"
      },
      "execution_count": 6,
      "outputs": [
        {
          "output_type": "stream",
          "name": "stdout",
          "text": [
            "show_id,type,title,director,cast,country,date_added,release_year,rating,duration,listed_in,description\n",
            "s1,TV Show,3%,,\"João Miguel, Bianca Comparato, Michel Gomes, Rodolfo Valente, Vaneza Oliveira, Rafael Lozano, Viviane Porto, Mel Fronckowiak, Sergio Mamberti, Zezé Motta, Celso Frateschi\",Brazil,\"August 14, 2020\",2020,TV-MA,4 Seasons,\"International TV Shows, TV Dramas, TV Sci-Fi & Fantasy\",\"In a future where the elite inhabit an island paradise far from the crowded slums, you get one chance to join the 3% saved from squalor.\"\n",
            "s2,Movie,7:19,Jorge Michel Grau,\"Demián Bichir, Héctor Bonilla, Oscar Serrano, Azalia Ortiz, Octavio Michel, Carmen Beato\",Mexico,\"December 23, 2016\",2016,TV-MA,93 min,\"Dramas, International Movies\",\"After a devastating earthquake hits Mexico City, trapped survivors from all walks of life wait to be rescued while trying desperately to stay alive.\"\n",
            "s3,Movie,23:59,Gilbert Chan,\"Tedd Chan, Stella Chung, Henley Hii, Lawrence Koh, Tommy Kuan, Josh Lai, Mark Lee, Susan Leong, Benjamin Lim\",Singapore,\"December 20, 2018\",2011,R,78 min,\"Horror Movies, International Movies\",\"When an army recruit is found dead, his fellow soldiers are forced to confront a terrifying secret that's haunting their jungle island training camp.\"\n",
            "s4,Movie,9,Shane Acker,\"Elijah Wood, John C. Reilly, Jennifer Connelly, Christopher Plummer, Crispin Glover, Martin Landau, Fred Tatasciore, Alan Oppenheimer, Tom Kane\",United States,\"November 16, 2017\",2009,PG-13,80 min,\"Action & Adventure, Independent Movies, Sci-Fi & Fantasy\",\"In a postapocalyptic world, rag-doll robots hide in fear from dangerous machines out to exterminate them, until a brave newcomer joins the group.\"\n",
            "s5,Movie,21,Robert Luketic,\"Jim Sturgess, Kevin Spacey, Kate Bosworth, Aaron Yoo, Liza Lapira, Jacob Pitts, Laurence Fishburne, Jack McGee, Josh Gad, Sam Golzari, Helen Carey, Jack Gilpin\",United States,\"January 1, 2020\",2008,PG-13,123 min,Dramas,A brilliant group of students become card-counting experts with the intent of swindling millions out of Las Vegas casinos by playing blackjack.\n",
            "s6,TV Show,46,Serdar Akar,\"Erdal Beşikçioğlu, Yasemin Allen, Melis Birkan, Saygın Soysal, Berkan Şal, Metin Belgin, Ayça Eren, Selin Uludoğan, Özay Fecht, Suna Yıldızoğlu\",Turkey,\"July 1, 2017\",2016,TV-MA,1 Season,\"International TV Shows, TV Dramas, TV Mysteries\",\"A genetics professor experiments with a treatment for his comatose sister that blends medical and shamanic cures, but unlocks a shocking side effect.\"\n",
            "s7,Movie,122,Yasir Al Yasiri,\"Amina Khalil, Ahmed Dawood, Tarek Lotfy, Ahmed El Fishawy, Mahmoud Hijazi, Jihane Khalil, Asmaa Galal, Tara Emad\",Egypt,\"June 1, 2020\",2019,TV-MA,95 min,\"Horror Movies, International Movies\",\"After an awful accident, a couple admitted to a grisly hospital are separated and must find each other to escape — before death finds them.\"\n",
            "s8,Movie,187,Kevin Reynolds,\"Samuel L. Jackson, John Heard, Kelly Rowan, Clifton Collins Jr., Tony Plana\",United States,\"November 1, 2019\",1997,R,119 min,Dramas,\"After one of his high school students attacks him, dedicated teacher Trevor Garfield grows weary of the gang warfare in the New York City school system and moves to California to teach there, thinking it must be a less hostile environment.\"\n",
            "s9,Movie,706,Shravan Kumar,\"Divya Dutta, Atul Kulkarni, Mohan Agashe, Anupam Shyam, Raayo S. Bakhirta, Yashvit Sancheti, Greeva Kansara, Archan Trivedi, Rajiv Pathak\",India,\"April 1, 2019\",2019,TV-14,118 min,\"Horror Movies, International Movies\",\"When a doctor goes missing, his psychiatrist wife treats the bizarre medical condition of a psychic patient, who knows much more than he's leading on.\"\n"
          ]
        }
      ]
    },
    {
      "cell_type": "markdown",
      "source": [
        "## Dataframe Operations"
      ],
      "metadata": {
        "id": "PbMtDqjf8xyP"
      }
    },
    {
      "cell_type": "code",
      "source": [
        "netflix_df1 = spark39.read.format(\"csv\").option(\"header\", \"true\").option(\"inferSchema\", \"true\").load(\"/content/NetFlix.csv\")\n",
        "#netflix_df1.printSchema()\n",
        "#netflix_df1.show(10, truncate=False)"
      ],
      "metadata": {
        "id": "jor6VElB81vu"
      },
      "execution_count": 7,
      "outputs": []
    },
    {
      "cell_type": "code",
      "source": [
        "netflix_df1 = netflix_df1.withColumn('date_added',to_date(col('date_added'), \"MMMM d, yyyy\"))\n",
        "netflix_df1.printSchema()\n",
        "netflix_df1.show(10, truncate=False)"
      ],
      "metadata": {
        "id": "wNcmy_0h9S60",
        "outputId": "59c49707-8270-4898-e678-ea8485dc3a2b",
        "colab": {
          "base_uri": "https://localhost:8080/"
        }
      },
      "execution_count": 8,
      "outputs": [
        {
          "output_type": "stream",
          "name": "stdout",
          "text": [
            "root\n",
            " |-- show_id: string (nullable = true)\n",
            " |-- type: string (nullable = true)\n",
            " |-- title: string (nullable = true)\n",
            " |-- director: string (nullable = true)\n",
            " |-- cast: string (nullable = true)\n",
            " |-- country: string (nullable = true)\n",
            " |-- date_added: date (nullable = true)\n",
            " |-- release_year: string (nullable = true)\n",
            " |-- rating: string (nullable = true)\n",
            " |-- duration: string (nullable = true)\n",
            " |-- listed_in: string (nullable = true)\n",
            " |-- description: string (nullable = true)\n",
            "\n",
            "+-------+-------+-----+-----------------+--------------------------------------------------------------------------------------------------------------------------------------------------------------------------+-------------+----------+------------+------+---------+--------------------------------------------------------+-----------------------------------------------------------------------------------------------------------------------------------------------------------------------------------------------------------------------------------------------+\n",
            "|show_id|type   |title|director         |cast                                                                                                                                                                      |country      |date_added|release_year|rating|duration |listed_in                                               |description                                                                                                                                                                                                                                    |\n",
            "+-------+-------+-----+-----------------+--------------------------------------------------------------------------------------------------------------------------------------------------------------------------+-------------+----------+------------+------+---------+--------------------------------------------------------+-----------------------------------------------------------------------------------------------------------------------------------------------------------------------------------------------------------------------------------------------+\n",
            "|s1     |TV Show|3%   |NULL             |João Miguel, Bianca Comparato, Michel Gomes, Rodolfo Valente, Vaneza Oliveira, Rafael Lozano, Viviane Porto, Mel Fronckowiak, Sergio Mamberti, Zezé Motta, Celso Frateschi|Brazil       |2020-08-14|2020        |TV-MA |4 Seasons|International TV Shows, TV Dramas, TV Sci-Fi & Fantasy  |In a future where the elite inhabit an island paradise far from the crowded slums, you get one chance to join the 3% saved from squalor.                                                                                                       |\n",
            "|s2     |Movie  |7:19 |Jorge Michel Grau|Demián Bichir, Héctor Bonilla, Oscar Serrano, Azalia Ortiz, Octavio Michel, Carmen Beato                                                                                  |Mexico       |2016-12-23|2016        |TV-MA |93 min   |Dramas, International Movies                            |After a devastating earthquake hits Mexico City, trapped survivors from all walks of life wait to be rescued while trying desperately to stay alive.                                                                                           |\n",
            "|s3     |Movie  |23:59|Gilbert Chan     |Tedd Chan, Stella Chung, Henley Hii, Lawrence Koh, Tommy Kuan, Josh Lai, Mark Lee, Susan Leong, Benjamin Lim                                                              |Singapore    |2018-12-20|2011        |R     |78 min   |Horror Movies, International Movies                     |When an army recruit is found dead, his fellow soldiers are forced to confront a terrifying secret that's haunting their jungle island training camp.                                                                                          |\n",
            "|s4     |Movie  |9    |Shane Acker      |Elijah Wood, John C. Reilly, Jennifer Connelly, Christopher Plummer, Crispin Glover, Martin Landau, Fred Tatasciore, Alan Oppenheimer, Tom Kane                           |United States|2017-11-16|2009        |PG-13 |80 min   |Action & Adventure, Independent Movies, Sci-Fi & Fantasy|In a postapocalyptic world, rag-doll robots hide in fear from dangerous machines out to exterminate them, until a brave newcomer joins the group.                                                                                              |\n",
            "|s5     |Movie  |21   |Robert Luketic   |Jim Sturgess, Kevin Spacey, Kate Bosworth, Aaron Yoo, Liza Lapira, Jacob Pitts, Laurence Fishburne, Jack McGee, Josh Gad, Sam Golzari, Helen Carey, Jack Gilpin           |United States|2020-01-01|2008        |PG-13 |123 min  |Dramas                                                  |A brilliant group of students become card-counting experts with the intent of swindling millions out of Las Vegas casinos by playing blackjack.                                                                                                |\n",
            "|s6     |TV Show|46   |Serdar Akar      |Erdal Beşikçioğlu, Yasemin Allen, Melis Birkan, Saygın Soysal, Berkan Şal, Metin Belgin, Ayça Eren, Selin Uludoğan, Özay Fecht, Suna Yıldızoğlu                           |Turkey       |2017-07-01|2016        |TV-MA |1 Season |International TV Shows, TV Dramas, TV Mysteries         |A genetics professor experiments with a treatment for his comatose sister that blends medical and shamanic cures, but unlocks a shocking side effect.                                                                                          |\n",
            "|s7     |Movie  |122  |Yasir Al Yasiri  |Amina Khalil, Ahmed Dawood, Tarek Lotfy, Ahmed El Fishawy, Mahmoud Hijazi, Jihane Khalil, Asmaa Galal, Tara Emad                                                          |Egypt        |2020-06-01|2019        |TV-MA |95 min   |Horror Movies, International Movies                     |After an awful accident, a couple admitted to a grisly hospital are separated and must find each other to escape — before death finds them.                                                                                                    |\n",
            "|s8     |Movie  |187  |Kevin Reynolds   |Samuel L. Jackson, John Heard, Kelly Rowan, Clifton Collins Jr., Tony Plana                                                                                               |United States|2019-11-01|1997        |R     |119 min  |Dramas                                                  |After one of his high school students attacks him, dedicated teacher Trevor Garfield grows weary of the gang warfare in the New York City school system and moves to California to teach there, thinking it must be a less hostile environment.|\n",
            "|s9     |Movie  |706  |Shravan Kumar    |Divya Dutta, Atul Kulkarni, Mohan Agashe, Anupam Shyam, Raayo S. Bakhirta, Yashvit Sancheti, Greeva Kansara, Archan Trivedi, Rajiv Pathak                                 |India        |2019-04-01|2019        |TV-14 |118 min  |Horror Movies, International Movies                     |When a doctor goes missing, his psychiatrist wife treats the bizarre medical condition of a psychic patient, who knows much more than he's leading on.                                                                                         |\n",
            "|s10    |Movie  |1920 |Vikram Bhatt     |Rajneesh Duggal, Adah Sharma, Indraneil Sengupta, Anjori Alagh, Rajendranath Zutshi, Vipin Sharma, Amin Hajee, Shri Vallabh Vyas                                          |India        |2017-12-15|2008        |TV-MA |143 min  |Horror Movies, International Movies, Thrillers          |An architect and his wife move into a castle that is slated to become a luxury hotel. But something inside is determined to stop the renovation.                                                                                               |\n",
            "+-------+-------+-----+-----------------+--------------------------------------------------------------------------------------------------------------------------------------------------------------------------+-------------+----------+------------+------+---------+--------------------------------------------------------+-----------------------------------------------------------------------------------------------------------------------------------------------------------------------------------------------------------------------------------------------+\n",
            "only showing top 10 rows\n",
            "\n"
          ]
        }
      ]
    },
    {
      "cell_type": "markdown",
      "source": [
        "### SQL Table"
      ],
      "metadata": {
        "id": "NGyi4IN-ECyb"
      }
    },
    {
      "cell_type": "code",
      "source": [
        "netflix_df1.createOrReplaceTempView(\"tNetFlix\")\n",
        "#spark39.sql(\"describe tNetFlix\").show()\n",
        "spark39.sql(\"select * from tnetflix limit 10\").show()"
      ],
      "metadata": {
        "id": "az798DWfEFWA",
        "outputId": "3be31de6-9169-4628-e417-5aca7c56383f",
        "colab": {
          "base_uri": "https://localhost:8080/"
        }
      },
      "execution_count": 9,
      "outputs": [
        {
          "output_type": "stream",
          "name": "stdout",
          "text": [
            "+-------+-------+-----+-----------------+--------------------+-------------+----------+------------+------+---------+--------------------+--------------------+\n",
            "|show_id|   type|title|         director|                cast|      country|date_added|release_year|rating| duration|           listed_in|         description|\n",
            "+-------+-------+-----+-----------------+--------------------+-------------+----------+------------+------+---------+--------------------+--------------------+\n",
            "|     s1|TV Show|   3%|             NULL|João Miguel, Bian...|       Brazil|2020-08-14|        2020| TV-MA|4 Seasons|International TV ...|In a future where...|\n",
            "|     s2|  Movie| 7:19|Jorge Michel Grau|Demián Bichir, Hé...|       Mexico|2016-12-23|        2016| TV-MA|   93 min|Dramas, Internati...|After a devastati...|\n",
            "|     s3|  Movie|23:59|     Gilbert Chan|Tedd Chan, Stella...|    Singapore|2018-12-20|        2011|     R|   78 min|Horror Movies, In...|When an army recr...|\n",
            "|     s4|  Movie|    9|      Shane Acker|Elijah Wood, John...|United States|2017-11-16|        2009| PG-13|   80 min|Action & Adventur...|In a postapocalyp...|\n",
            "|     s5|  Movie|   21|   Robert Luketic|Jim Sturgess, Kev...|United States|2020-01-01|        2008| PG-13|  123 min|              Dramas|A brilliant group...|\n",
            "|     s6|TV Show|   46|      Serdar Akar|Erdal Beşikçioğlu...|       Turkey|2017-07-01|        2016| TV-MA| 1 Season|International TV ...|A genetics profes...|\n",
            "|     s7|  Movie|  122|  Yasir Al Yasiri|Amina Khalil, Ahm...|        Egypt|2020-06-01|        2019| TV-MA|   95 min|Horror Movies, In...|After an awful ac...|\n",
            "|     s8|  Movie|  187|   Kevin Reynolds|Samuel L. Jackson...|United States|2019-11-01|        1997|     R|  119 min|              Dramas|After one of his ...|\n",
            "|     s9|  Movie|  706|    Shravan Kumar|Divya Dutta, Atul...|        India|2019-04-01|        2019| TV-14|  118 min|Horror Movies, In...|When a doctor goe...|\n",
            "|    s10|  Movie| 1920|     Vikram Bhatt|Rajneesh Duggal, ...|        India|2017-12-15|        2008| TV-MA|  143 min|Horror Movies, In...|An architect and ...|\n",
            "+-------+-------+-----+-----------------+--------------------+-------------+----------+------------+------+---------+--------------------+--------------------+\n",
            "\n"
          ]
        }
      ]
    },
    {
      "cell_type": "code",
      "source": [
        "spark39.sql(\"select distinct(director) from tnetflix\").show()"
      ],
      "metadata": {
        "id": "d_ouvCTvG549",
        "outputId": "fcb8d5cc-394f-4f89-8f18-0100b5e9ce00",
        "colab": {
          "base_uri": "https://localhost:8080/"
        }
      },
      "execution_count": null,
      "outputs": [
        {
          "output_type": "stream",
          "name": "stdout",
          "text": [
            "+--------------------+\n",
            "|            director|\n",
            "+--------------------+\n",
            "|       Neeraj Pandey|\n",
            "|          Manish Jha|\n",
            "|        April Mullen|\n",
            "|Harry Elfont, Deb...|\n",
            "|  Alejandro Hartmann|\n",
            "|   Abdul Aziz Hashad|\n",
            "|      Aleksey German|\n",
            "|   Wash Westmoreland|\n",
            "|          Will Gluck|\n",
            "|          Bobby Roth|\n",
            "|   Jennifer Westcott|\n",
            "|       Patricia Font|\n",
            "|Jesús Magaña Vázquez|\n",
            "|      Gail Willumsen|\n",
            "|Jacques Perrin, J...|\n",
            "|         John Milius|\n",
            "| Rhiannon Bannenberg|\n",
            "|         Erol Özlevi|\n",
            "|          John Wells|\n",
            "|      Elizabeth Wood|\n",
            "+--------------------+\n",
            "only showing top 20 rows\n",
            "\n"
          ]
        }
      ]
    },
    {
      "cell_type": "code",
      "source": [
        "spark39.sql(\"select title, director from tnetflix where director like '%,%'\").show(truncate=False)"
      ],
      "metadata": {
        "id": "PkWxOylWHPJh",
        "outputId": "1863619f-8019-4771-89c6-f3c273cedb5a",
        "colab": {
          "base_uri": "https://localhost:8080/"
        }
      },
      "execution_count": null,
      "outputs": [
        {
          "output_type": "stream",
          "name": "stdout",
          "text": [
            "+------------------------------------+--------------------------------------------------+\n",
            "|title                               |director                                          |\n",
            "+------------------------------------+--------------------------------------------------+\n",
            "|(T)ERROR                            |Lyric R. Cabral, David Felix Sutcliffe            |\n",
            "|#AnneFrank - Parallel Stories       |Sabina Fedeli, Anna Migotto                       |\n",
            "|14 Cameras                          |Scott Hussion, Seth Fuller                        |\n",
            "|14 Minutes from Earth               |Adam Davis, Jerry Kolber, Trey Nelson, Erich Sturm|\n",
            "|2 Alone in Paris                    |Ramzy Bedia, Éric Judor                           |\n",
            "|21 & Over                           |Jon Lucas, Scott Moore                            |\n",
            "|365 Days                            |Barbara Białowąs, Tomasz Mandes                   |\n",
            "|48 Christmas Wishes                 |Marco Deufemia, Justin G. Dyck                    |\n",
            "|7 Din Mohabbat In                   |Meenu Gaur, Farjad Nabi                           |\n",
            "|A Bad Moms Christmas                |Jon Lucas, Scott Moore                            |\n",
            "|A Choo                              |Kevin Ko, Peter Tsi                               |\n",
            "|A Go! Go! Cory Carson Christmas     |Stanley Moore, Alex Woo                           |\n",
            "|A Go! Go! Cory Carson Halloween     |Alex Woo, Stanley Moore                           |\n",
            "|A Go! Go! Cory Carson Summer Camp   |Stanley Moore, Alex Woo                           |\n",
            "|A Kid from Coney Island             |Coodie, Chike                                     |\n",
            "|A Lion in the House                 |Steven Bognar, Julia Reichert                     |\n",
            "|A Murder in the Park                |Christopher S. Rech, Brandon Kimber               |\n",
            "|A Serious Man                       |Ethan Coen, Joel Coen                             |\n",
            "|A Shaun the Sheep Movie: Farmageddon|Richard Phelan, Will Becher                       |\n",
            "|A StoryBots Christmas               |Evan Spiridellis, Jeff Gill                       |\n",
            "+------------------------------------+--------------------------------------------------+\n",
            "only showing top 20 rows\n",
            "\n"
          ]
        }
      ]
    },
    {
      "cell_type": "markdown",
      "source": [
        "## RDD Operations"
      ],
      "metadata": {
        "id": "GG2LFM3E9Xx9"
      }
    },
    {
      "cell_type": "code",
      "source": [
        "!sed '1d' NetFlix.csv > Headless_NetFlix.csv\n",
        "netflix_RDD1 = sc.textFile(\"Headless_NetFlix.csv\")\n",
        "netflix_RDD1.sample(False,0.02,None).take(3)"
      ],
      "metadata": {
        "colab": {
          "base_uri": "https://localhost:8080/"
        },
        "id": "HteP3MTs1ucb",
        "outputId": "31523c44-0f38-4d97-ebf8-ce1dbe065979"
      },
      "execution_count": 45,
      "outputs": [
        {
          "output_type": "execute_result",
          "data": {
            "text/plain": [
              "['s17,TV Show,Feb-09,,\"Shahd El Yaseen, Shaila Sabt, Hala, Hanadi Al-Kandari, Salma Salem, Ibrahim Al-Harbi, Mahmoud Boushahri, Yousef Al Balushi, Ghorour, Abdullah Al-bloshi\",,\"March 20, 2019\",2018,TV-14,1 Season,\"International TV Shows, TV Dramas\",\"As a psychology professor faces Alzheimer\\'s, his daughter and her three close female friends experience romance, marriage, heartbreak and tragedy.\"',\n",
              " 's63,Movie,13 Cameras,Victor Zarcoff,\"PJ McCabe, Brianne Moncrief, Sarah Baldwin, Jim Cummings, Heidi Niedermeyer, Neville Archambault\",United States,\"August 13, 2016\",2015,NR,90 min,\"Horror Movies, Independent Movies, Thrillers\",\"Young parents-to-be Claire and Ryan move into a suburban rental home, unaware that someone is secretly watching their every move via hidden cameras.\"',\n",
              " 's97,Movie,3 Days to Kill,McG,\"Kevin Costner, Amber Heard, Hailee Steinfeld, Connie Nielsen, Tómas Lemarquis, Richard Sammel, Marc Andréoni, Bruno Ricci, Jonas Bloquet, Eriq Ebouaney\",\"United States, France, Serbia\",\"December 1, 2020\",2014,PG-13,117 min,Action & Adventure,A terminally ill secret agent accepts a risky mission in exchange for an experimental drug that might save him – if he can survive its side effects.']"
            ]
          },
          "metadata": {},
          "execution_count": 45
        }
      ]
    },
    {
      "cell_type": "code",
      "source": [
        "# Two Extra Lines here ... WHY? WHY?\n",
        "netflix_RDD1.count()"
      ],
      "metadata": {
        "id": "aiblgLLONghz",
        "outputId": "0c377d9d-d7d6-42eb-ae3d-beedd02de224",
        "colab": {
          "base_uri": "https://localhost:8080/"
        }
      },
      "execution_count": 129,
      "outputs": [
        {
          "output_type": "execute_result",
          "data": {
            "text/plain": [
              "7789"
            ]
          },
          "metadata": {},
          "execution_count": 129
        }
      ]
    },
    {
      "cell_type": "code",
      "source": [
        "def split_11(text):\n",
        "    t1 = re.sub(r'(?!(([^\"]*\"){2})*[^\"]*$),', '@', text)        # https://stackoverflow.com/questions/38336518/remove-all-commas-between-quotes\n",
        "                                                                # commas within quotes are replaced by @\n",
        "    t2 = re.sub(r'\"', '', t1)                                   # quotes removed\n",
        "    l = t2.split(\",\")\n",
        "    #l4 = l[4]\n",
        "    l3 = re.sub(r'@', ',', l[3])                                # @ restored to commas\n",
        "    l4 = re.sub(r'@', ',', l[4])\n",
        "    l5 = re.sub(r'@', ',', l[5])\n",
        "    l6 = re.sub(r'@', ',', l[6])\n",
        "    l10 = re.sub(r'@', ',', l[10])\n",
        "    l11 = re.sub(r'@', ',', l[11])\n",
        "    return(l[0],l[1],l[2],l3,l4,l5,l6,l[7],l[8],l[9],l10,l11)"
      ],
      "metadata": {
        "id": "faLvJ4ey6TFx"
      },
      "execution_count": 115,
      "outputs": []
    },
    {
      "cell_type": "code",
      "source": [
        "# Parse Netflix data\n",
        "#\n",
        "netflix_RDD1.sample(False,0.02,None).map(lambda x: split_11(x)).take(3)\n",
        "#netflix_RDD2"
      ],
      "metadata": {
        "colab": {
          "base_uri": "https://localhost:8080/"
        },
        "id": "ykzfC2pI6d58",
        "outputId": "d6a74796-5d63-42a3-b63a-cecad1bdd2a3"
      },
      "execution_count": 117,
      "outputs": [
        {
          "output_type": "execute_result",
          "data": {
            "text/plain": [
              "[('s121',\n",
              "  'Movie',\n",
              "  '5 to 7',\n",
              "  'Victor Levin',\n",
              "  'Anton Yelchin, Bérénice Marlohe, Olivia Thirlby, Lambert Wilson, Frank Langella, Glenn Close',\n",
              "  'United States',\n",
              "  'March 16, 2017',\n",
              "  '2014',\n",
              "  'R',\n",
              "  '97 min',\n",
              "  'Comedies, Dramas, Romantic Movies',\n",
              "  \"A young novelist's life is turned upside down when a chance encounter outside a New York hotel leads to an intense affair with a diplomat's wife.\"),\n",
              " ('s125',\n",
              "  'Movie',\n",
              "  '5Gang',\n",
              "  'Matei Dima',\n",
              "  'Andrei Selaru, Dorian Popa, Julia Marcan, Ana Radu, Cosmin Nedelcu, Diana Condurache, Andrei Gavril, Luca Bogdan',\n",
              "  'Romania',\n",
              "  'April 27, 2020',\n",
              "  '2019',\n",
              "  'TV-14',\n",
              "  '96 min',\n",
              "  'Comedies, International Movies',\n",
              "  \"To keep the band together, Selly tries to earn money by making an appearance at the birthday party of a mobster's daughter — until he gets kidnapped.\"),\n",
              " ('s254',\n",
              "  'Movie',\n",
              "  'A Whisker Away',\n",
              "  'Junichi Sato, Tomotaka Shibayama',\n",
              "  'Mirai Shida, Natsuki Hanae, Hiroaki Ogi, Koichi Yamadera, Minako Kotobuki, Susumu Chiba, Ayako Kawasumi, Sayaka Ohara, Daisuke Namikawa',\n",
              "  'Japan',\n",
              "  'June 18, 2020',\n",
              "  '2020',\n",
              "  'TV-PG',\n",
              "  '104 min',\n",
              "  'Anime Features, Children & Family Movies, International Movies',\n",
              "  \"A peculiar girl transforms into a cat to catch her crush's attention. But before she realizes it, the line between human and animal starts to blur.\")]"
            ]
          },
          "metadata": {},
          "execution_count": 117
        }
      ]
    },
    {
      "cell_type": "code",
      "source": [
        "#sales_wallet = sales_RDD1.filter(lambda x: \",Ewallet,\" in x)\n",
        "#netflix_RDD3 = netflix_RDD1.filter(lambda x: \"Harry Elfont,\" in x)\n",
        "netflix_RDD1.filter(lambda x: \"Harry Elfont,\" in x).take(3)"
      ],
      "metadata": {
        "id": "fNtSSDL5JpOq",
        "outputId": "dae68187-cb46-4a8e-b75c-1245bbd67cfe",
        "colab": {
          "base_uri": "https://localhost:8080/"
        }
      },
      "execution_count": 114,
      "outputs": [
        {
          "output_type": "execute_result",
          "data": {
            "text/plain": [
              "['s1195,Movie,Can\\'t Hardly Wait,\"Harry Elfont, Deborah Kaplan\",\"Jennifer Love Hewitt, Ethan Embry, Charlie Korsmo, Lauren Ambrose, Peter Facinelli, Seth Green, Michelle Brookhurst, Alexander Martin, Erik Palladino, Channon Roe, Sean Patrick Thomas\",United States,\"January 1, 2021\",1998,PG-13,101 min,\"Comedies, Romantic Movies\",\"At a wild high school graduation party, aspiring writer Preston hopes to declare his love to popular girl Amanda, who just got dumped by the class jock.\"']"
            ]
          },
          "metadata": {},
          "execution_count": 114
        }
      ]
    },
    {
      "cell_type": "code",
      "source": [
        "netflix_RDD1.filter(lambda x: \"Jacques Perrin,\" in x).collect()"
      ],
      "metadata": {
        "id": "LFVrG8jVKWm9",
        "outputId": "f99e6480-2700-410a-ffc9-ed9257f4715d",
        "colab": {
          "base_uri": "https://localhost:8080/"
        }
      },
      "execution_count": 54,
      "outputs": [
        {
          "output_type": "execute_result",
          "data": {
            "text/plain": [
              "['s4561,Movie,Océans,\"Jacques Perrin, Jacques Cluzaud\",\"Pierce Brosnan, Jacques Perrin, Rie Miyazawa, Lancelot Perrin\",\"France, Switzerland, Spain, United States, United Arab Emirates\",\"September 19, 2019\",2009,G,84 min,\"Documentaries, International Movies\",This documentary examines the vital role water plays in human existence and the cause-and-effect interplay between oceans and the environment.']"
            ]
          },
          "metadata": {},
          "execution_count": 54
        }
      ]
    },
    {
      "cell_type": "code",
      "source": [
        "def split_4(text):\n",
        "    t1 = re.sub(r'(?!(([^\"]*\"){2})*[^\"]*$),', '@', text)        # https://stackoverflow.com/questions/38336518/remove-all-commas-between-quotes\n",
        "                                                                # commas within quotes are replaced by @\n",
        "    t2 = re.sub(r'\"', '', t1)\n",
        "    l = t2.split(\",\")\n",
        "    l3 = re.sub(r'@', ',', l[3])                                # @ restored to commas\n",
        "    l4 = re.sub(r'@', ',', l[4])\n",
        "    l5 = re.sub(r'@', ',', l[5])\n",
        "    return(l[0],l[1],l[2],l3,l4,l5)\n",
        "\n",
        "netflix_RDD1.sample(False,0.02,None).map(lambda x: split_4(x)).take(3)"
      ],
      "metadata": {
        "id": "doyMMR59SXxx",
        "outputId": "d790352e-0b3d-4aed-98d1-afe271499671",
        "colab": {
          "base_uri": "https://localhost:8080/"
        }
      },
      "execution_count": 118,
      "outputs": [
        {
          "output_type": "execute_result",
          "data": {
            "text/plain": [
              "[('s1',\n",
              "  'TV Show',\n",
              "  '3%',\n",
              "  '',\n",
              "  'João Miguel, Bianca Comparato, Michel Gomes, Rodolfo Valente, Vaneza Oliveira, Rafael Lozano, Viviane Porto, Mel Fronckowiak, Sergio Mamberti, Zezé Motta, Celso Frateschi',\n",
              "  'Brazil'),\n",
              " ('s58',\n",
              "  'Movie',\n",
              "  '100% Halal',\n",
              "  'Jastis Arimba',\n",
              "  'Anisa Rahma, Ariyo Wahab, Anandito Dwis, Fitria Rasyidi, Arafah Rianti, Kinaryosih',\n",
              "  'Indonesia'),\n",
              " ('s118',\n",
              "  'Movie',\n",
              "  '5 Cowok Jagoan',\n",
              "  'Anggy Umbara',\n",
              "  'Ario Bayu, Arifin Putra, Dwi Sasono, Muhadkly Acho, Cornelio Sunny, Tika Bravani, Nirina Zubir, Ganindra Bimo, Verdi Solaiman',\n",
              "  '')]"
            ]
          },
          "metadata": {},
          "execution_count": 118
        }
      ]
    },
    {
      "cell_type": "markdown",
      "source": [
        "### Director is part of Cast"
      ],
      "metadata": {
        "id": "Y8VhAZTaR17S"
      }
    },
    {
      "cell_type": "code",
      "source": [
        "# Filter rows where Director is part of the Cast\n",
        "#\n",
        "def fDirCast(text):\n",
        "    t1 = re.sub(r'(?!(([^\"]*\"){2})*[^\"]*$),', '@', text)        # https://stackoverflow.com/questions/38336518/remove-all-commas-between-quotes\n",
        "    t2 = re.sub(r'\"', '', t1)\n",
        "    l = t2.split(\",\")\n",
        "    if len(l) < 3:                                              # WHY DO WE NEED THIS? To eliminate badly formed lines\n",
        "        return(False)\n",
        "    else:\n",
        "        if (l[3] == '') or (l[4] == ''):                        # WHY DO WE NEED THIS?  To eliminate rows where dir or cast is blank\n",
        "            return(False)\n",
        "        else:\n",
        "            dirs = set(l[3].split(\"@\"))\n",
        "            cast = set(l[4].split(\"@\"))\n",
        "            common = dirs.intersection(cast)\n",
        "            if len(common) > 0:\n",
        "                return(True)\n",
        "            else:\n",
        "                return(False)\n",
        "\n",
        "\n",
        "#sales_wallet = sales_RDD1.filter(lambda x: \",Ewallet,\" in x)\n",
        "#netflix_RDD5 = netflix_RDD1.filter(lambda x: x4m11F(x))\n",
        "netflix_RDD1.sample(False,0.02,None).filter(lambda x: fDirCast(x)).map(lambda x: split_4(x)).take(5)"
      ],
      "metadata": {
        "id": "2uhysmS7FEZl",
        "outputId": "607a0797-417e-4bb4-bcbb-fa6557cb4eba",
        "colab": {
          "base_uri": "https://localhost:8080/"
        }
      },
      "execution_count": 135,
      "outputs": [
        {
          "output_type": "execute_result",
          "data": {
            "text/plain": [
              "[('s3261',\n",
              "  'Movie',\n",
              "  'Justine',\n",
              "  'Stephanie Turner',\n",
              "  'Stephanie Turner, Glynn Turman, Daisy Prescott, Darby Stanchfield, Josh Stamberg, Bridget Kallal, Ravi Cabot-Conyers, Cleo King, Melanie Hutsell',\n",
              "  'United States'),\n",
              " ('s7331',\n",
              "  'Movie',\n",
              "  'Under an Arctic Sky',\n",
              "  'Chris Burkard',\n",
              "  'Chris Burkard, Sam Hammer, Heidar Logi, Elli Thor Magnusson, Ingo Olsen, Timmy Reyes, Justin Quintal, Steve Hawk, Sigurdur Jonsson, Mark Renneker',\n",
              "  'United States')]"
            ]
          },
          "metadata": {},
          "execution_count": 135
        }
      ]
    },
    {
      "cell_type": "code",
      "source": [
        "netflix_RDD1.sample(False,0.02,None).filter(lambda x: fDirCast(x)).map(lambda x: split_4(x)).take(5)"
      ],
      "metadata": {
        "id": "ItSBVqru6_cd",
        "outputId": "15cf846d-a938-4c2a-a002-b18dc777edac",
        "colab": {
          "base_uri": "https://localhost:8080/"
        }
      },
      "execution_count": 136,
      "outputs": [
        {
          "output_type": "execute_result",
          "data": {
            "text/plain": [
              "[('s717',\n",
              "  'Movie',\n",
              "  'Band of Robbers',\n",
              "  'Aaron Nee, Adam Nee',\n",
              "  'Kyle Gallner, Adam Nee, Matthew Gray Gubler, Melissa Benoist, Hannibal Buress, Eric Christian Olsen, Stephen Lang, Daniel Edward Mora, Johnny Pemberton, Cooper Huckabee, Lee Garlington, Beth Grant, Creed Bratton',\n",
              "  'United States'),\n",
              " ('s4346',\n",
              "  'Movie',\n",
              "  'My Own Man',\n",
              "  'David Sampliner',\n",
              "  'David Sampliner',\n",
              "  'United States'),\n",
              " ('s7649',\n",
              "  'Movie',\n",
              "  'Wives on Strike',\n",
              "  'Omoni Oboli',\n",
              "  'Omoni Oboli, Kenneth Okonkwo, Kalu Ikeagwu, Uche Jumbo, Ufoma Ejenobor, Julius Agu, Udoka Oyeka, Chioma Chukwuka-Akpotha, Kehinde Bankole',\n",
              "  'Nigeria')]"
            ]
          },
          "metadata": {},
          "execution_count": 136
        }
      ]
    },
    {
      "cell_type": "code",
      "source": [
        "#netflix_RDD1.filter(lambda x: fDirCast(x)).map(lambda x: split_4(x)).count()\n",
        "netflix_RDD1.filter(lambda x: fDirCast(x)).map(lambda x: split_4(x)).count()"
      ],
      "metadata": {
        "id": "V26G0DcM75b5",
        "outputId": "4cea9a08-606c-44ca-c8d4-ae0f65f2f2b2",
        "colab": {
          "base_uri": "https://localhost:8080/"
        }
      },
      "execution_count": 138,
      "outputs": [
        {
          "output_type": "execute_result",
          "data": {
            "text/plain": [
              "176"
            ]
          },
          "metadata": {},
          "execution_count": 138
        }
      ]
    },
    {
      "cell_type": "markdown",
      "source": [
        "#### Trapping the Bad Data"
      ],
      "metadata": {
        "id": "DMOFfNnmP4Bm"
      }
    },
    {
      "cell_type": "code",
      "source": [
        "def fError(text):\n",
        "    t1 = re.sub(r'(?!(([^\"]*\"){2})*[^\"]*$),', '@', text)        # https://stackoverflow.com/questions/38336518/remove-all-commas-between-quotes\n",
        "    t2 = re.sub(r'\"', '', t1)\n",
        "    l = t2.split(\",\")\n",
        "    if len(l) < 3:\n",
        "        return(True)\n",
        "    else:\n",
        "        return(False)\n",
        "\n",
        "\n",
        "#sales_wallet = sales_RDD1.filter(lambda x: \",Ewallet,\" in x)\n",
        "#netflix_RDD5 = netflix_RDD1.filter(lambda x: x4m11F(x))\n",
        "netflix_RDD1.filter(lambda x: fError(x)).collect()"
      ],
      "metadata": {
        "id": "WFIOfkIFMFoZ",
        "outputId": "1aa1641e-b6ae-444d-e0ff-98d4eedf68db",
        "colab": {
          "base_uri": "https://localhost:8080/"
        }
      },
      "execution_count": 126,
      "outputs": [
        {
          "output_type": "execute_result",
          "data": {
            "text/plain": [
              "[' and probably will.\"', 's6658,Movie,\"The Memphis Belle: A Story of a']"
            ]
          },
          "metadata": {},
          "execution_count": 126
        }
      ]
    },
    {
      "cell_type": "code",
      "source": [
        "netflix_RDD1.filter(lambda x: ' and probably will.\"' in x).collect()"
      ],
      "metadata": {
        "id": "9KzMvNaKNHu5",
        "outputId": "f1c87d1e-a6f8-4d0d-b94c-5478f0b2135d",
        "colab": {
          "base_uri": "https://localhost:8080/"
        }
      },
      "execution_count": 127,
      "outputs": [
        {
          "output_type": "execute_result",
          "data": {
            "text/plain": [
              "[' and probably will.\"']"
            ]
          },
          "metadata": {},
          "execution_count": 127
        }
      ]
    },
    {
      "cell_type": "code",
      "source": [
        "# https://unix.stackexchange.com/questions/333121/how-to-find-lines-containing-a-string-and-then-printing-those-specific-lines-and\n",
        "!grep -nr ' and probably will.' /content/NetFlix.csv"
      ],
      "metadata": {
        "id": "iKfAdRC7OllB",
        "outputId": "cf83a44d-89bc-4baf-f765-f624c39060f8",
        "colab": {
          "base_uri": "https://localhost:8080/"
        }
      },
      "execution_count": 133,
      "outputs": [
        {
          "output_type": "stream",
          "name": "stdout",
          "text": [
            "6111: and probably will.\"\n"
          ]
        }
      ]
    },
    {
      "cell_type": "code",
      "source": [
        "# spotting the two extra lines\n",
        "#\n",
        "!grep -nr -A2 -B2 ' and probably will.' /content/NetFlix.csv"
      ],
      "metadata": {
        "id": "JpRKjNZdPcBj",
        "outputId": "4734c552-f4a8-46d5-b43b-a1c0c077a7b3",
        "colab": {
          "base_uri": "https://localhost:8080/"
        }
      },
      "execution_count": 134,
      "outputs": [
        {
          "output_type": "stream",
          "name": "stdout",
          "text": [
            "6109-s6108,Movie,The Bad Batch,Ana Lily Amirpour,\"Suki Waterhouse, Jason Momoa, Keanu Reeves, Jim Carrey, Giovanni Ribisi, Yolonda Ross\",United States,\"September 22, 2017\",2016,R,119 min,\"Dramas, Independent Movies, Thrillers\",\"Banished to a wasteland of undesirables, a young woman struggles to find her feet among a drug-soaked desert society and an enclave of cannibals.\"\n",
            "6110-s6109,Movie,The Bad Education Movie,Elliot Hegarty,\"Jack Whitehall, Joanna Scanlan, Iain Glen, Ethan Lawrence, Layton Williams, Kae Alexander, Weruche Opia, Nikki Runeckles, Charlie Wernham, Jack Binstead\",United Kingdom,\"December 15, 2018\",2015,TV-MA,87 min,Comedies,\"Britain's most ineffective but caring teacher takes his class to Cornwall for one last school trip, where anything could happen –\n",
            "6111: and probably will.\"\n",
            "6112-s6110,Movie,The Bad Kids,\"Keith Fulton, Louis Pepe\",,United States,\"April 1, 2017\",2016,TV-MA,101 min,Documentaries,\"In this documentary, teachers at a Mojave Desert high school adhere to a belief that compassion and life skills can profoundly help at-risk students.\"\n",
            "6113-s6111,Movie,The Ballad of Buster Scruggs,\"Joel Coen, Ethan Coen\",\"Liam Neeson, James Franco, Tim Blake Nelson, Tom Waits, Zoe Kazan, Brendan Gleeson\",United States,\"November 16, 2018\",2018,R,133 min,\"Comedies, Dramas\",\"Ranging from absurd to profound, these Western vignettes from the Coen brothers follow the adventures of outlaws and settlers on the American frontier.\"\n"
          ]
        }
      ]
    },
    {
      "cell_type": "code",
      "source": [
        "!grep -nr -A2 -B2 ' and probably will.' /content/Headless_NetFlix.csv"
      ],
      "metadata": {
        "id": "Hd6OjlX_SSHf",
        "outputId": "c3a61934-fc5e-4c64-ce7a-69b8c6aed121",
        "colab": {
          "base_uri": "https://localhost:8080/"
        }
      },
      "execution_count": 139,
      "outputs": [
        {
          "output_type": "stream",
          "name": "stdout",
          "text": [
            "6108-s6108,Movie,The Bad Batch,Ana Lily Amirpour,\"Suki Waterhouse, Jason Momoa, Keanu Reeves, Jim Carrey, Giovanni Ribisi, Yolonda Ross\",United States,\"September 22, 2017\",2016,R,119 min,\"Dramas, Independent Movies, Thrillers\",\"Banished to a wasteland of undesirables, a young woman struggles to find her feet among a drug-soaked desert society and an enclave of cannibals.\"\n",
            "6109-s6109,Movie,The Bad Education Movie,Elliot Hegarty,\"Jack Whitehall, Joanna Scanlan, Iain Glen, Ethan Lawrence, Layton Williams, Kae Alexander, Weruche Opia, Nikki Runeckles, Charlie Wernham, Jack Binstead\",United Kingdom,\"December 15, 2018\",2015,TV-MA,87 min,Comedies,\"Britain's most ineffective but caring teacher takes his class to Cornwall for one last school trip, where anything could happen –\n",
            "6110: and probably will.\"\n",
            "6111-s6110,Movie,The Bad Kids,\"Keith Fulton, Louis Pepe\",,United States,\"April 1, 2017\",2016,TV-MA,101 min,Documentaries,\"In this documentary, teachers at a Mojave Desert high school adhere to a belief that compassion and life skills can profoundly help at-risk students.\"\n",
            "6112-s6111,Movie,The Ballad of Buster Scruggs,\"Joel Coen, Ethan Coen\",\"Liam Neeson, James Franco, Tim Blake Nelson, Tom Waits, Zoe Kazan, Brendan Gleeson\",United States,\"November 16, 2018\",2018,R,133 min,\"Comedies, Dramas\",\"Ranging from absurd to profound, these Western vignettes from the Coen brothers follow the adventures of outlaws and settlers on the American frontier.\"\n"
          ]
        }
      ]
    },
    {
      "cell_type": "markdown",
      "metadata": {
        "id": "EKTZezaqMK_0"
      },
      "source": [
        "#Chronobooks <br>\n",
        "![alt text](https://1.bp.blogspot.com/-lTiYBkU2qbU/X1er__fvnkI/AAAAAAAAjtE/GhDR3OEGJr4NG43fZPodrQD5kbxtnKebgCLcBGAsYHQ/s600/Footer2020-600x200.png)<hr>\n",
        "Chronotantra and Chronoyantra are two science fiction novels that explore the collapse of human civilisation on Earth and then its rebirth and reincarnation both on Earth as well as on the distant worlds of Mars, Titan and Enceladus. But is it the human civilisation that is being reborn? Or is it some other sentience that is revealing itself.\n",
        "If you have an interest in AI and found this material useful, you may consider buying these novels, in paperback or kindle, from [http://bit.ly/chronobooks](http://bit.ly/chronobooks)"
      ]
    }
  ]
}