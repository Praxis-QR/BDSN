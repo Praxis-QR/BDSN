{
  "nbformat": 4,
  "nbformat_minor": 0,
  "metadata": {
    "colab": {
      "name": "KK B3 Hadoop HBase",
      "provenance": [],
      "toc_visible": true,
      "authorship_tag": "ABX9TyPCvZFdkI6aJoNsPufUK2R1",
      "include_colab_link": true
    },
    "kernelspec": {
      "name": "python3",
      "display_name": "Python 3"
    },
    "language_info": {
      "name": "python"
    }
  },
  "cells": [
    {
      "cell_type": "markdown",
      "metadata": {
        "id": "view-in-github",
        "colab_type": "text"
      },
      "source": [
        "<a href=\"https://colab.research.google.com/github/Praxis-QR/BDSN/blob/main/KK_B3_Hadoop_HBase.ipynb\" target=\"_parent\"><img src=\"https://colab.research.google.com/assets/colab-badge.svg\" alt=\"Open In Colab\"/></a>"
      ]
    },
    {
      "cell_type": "markdown",
      "metadata": {
        "id": "XafE9O3pAmkC"
      },
      "source": [
        "![alt text](https://4.bp.blogspot.com/-gbL5nZDkpFQ/XScFYwoTEII/AAAAAAAAAGY/CcVb_HDLwvs2Brv5T4vSsUcz7O4r2Q79ACK4BGAYYCw/s1600/kk3-header00-beta.png)<br>\n",
        "\n",
        "\n",
        "<hr>\n",
        "\n",
        "[Prithwis Mukerjee](http://www.linkedin.com/in/prithwis)<br>"
      ]
    },
    {
      "cell_type": "markdown",
      "metadata": {
        "id": "GyYTQEpb1htS"
      },
      "source": [
        "#Hadoop \n",
        "Install and Test"
      ]
    },
    {
      "cell_type": "code",
      "metadata": {
        "id": "_r0IOmlc0-Dt"
      },
      "source": [
        "# The default JVM available at /usr/lib/jvm/java-11-openjdk-amd64/  works for Hadoop\n",
        "# But gives errors with Hive https://stackoverflow.com/questions/54037773/hive-exception-class-jdk-internal-loader-classloadersappclassloader-cannot\n",
        "# Hence this JVM needs to be installed\n",
        "!apt-get update > /dev/null\n",
        "!apt-get install openjdk-8-jdk-headless -qq > /dev/null"
      ],
      "execution_count": 1,
      "outputs": []
    },
    {
      "cell_type": "code",
      "metadata": {
        "colab": {
          "base_uri": "https://localhost:8080/"
        },
        "id": "NWspfH6A1a4P",
        "outputId": "d3a93b1f-ab24-4273-8bc5-aa1e9364ef19"
      },
      "source": [
        "# Download the latest version of Hadoop\n",
        "!wget https://downloads.apache.org/hadoop/common/hadoop-3.3.3/hadoop-3.3.3.tar.gz\n",
        "# Unzip it\n",
        "# the tar command with the -x flag to extract, -z to uncompress, -v for verbose output, and -f to specify that we’re extracting from a file\n",
        "!tar -xzf hadoop-3.3.3.tar.gz\n",
        "#copy  hadoop file to user/local\n",
        "!mv  hadoop-3.3.3/ /usr/local/"
      ],
      "execution_count": 2,
      "outputs": [
        {
          "output_type": "stream",
          "name": "stdout",
          "text": [
            "--2022-06-09 09:29:38--  https://downloads.apache.org/hadoop/common/hadoop-3.3.3/hadoop-3.3.3.tar.gz\n",
            "Resolving downloads.apache.org (downloads.apache.org)... 88.99.95.219, 135.181.214.104, 2a01:4f9:3a:2c57::2, ...\n",
            "Connecting to downloads.apache.org (downloads.apache.org)|88.99.95.219|:443... connected.\n",
            "HTTP request sent, awaiting response... 200 OK\n",
            "Length: 645040598 (615M) [application/x-gzip]\n",
            "Saving to: ‘hadoop-3.3.3.tar.gz’\n",
            "\n",
            "hadoop-3.3.3.tar.gz 100%[===================>] 615.16M  20.4MB/s    in 31s     \n",
            "\n",
            "2022-06-09 09:30:10 (19.8 MB/s) - ‘hadoop-3.3.3.tar.gz’ saved [645040598/645040598]\n",
            "\n"
          ]
        }
      ]
    },
    {
      "cell_type": "code",
      "metadata": {
        "colab": {
          "base_uri": "https://localhost:8080/"
        },
        "id": "24QjQ22V1swJ",
        "outputId": "e13cfd31-b8a9-4b5a-d12c-7d50754b7e18"
      },
      "source": [
        "#To find the default Java path\n",
        "!readlink -f /usr/bin/java | sed \"s:bin/java::\"\n",
        "!ls /usr/lib/jvm/"
      ],
      "execution_count": 5,
      "outputs": [
        {
          "output_type": "stream",
          "name": "stdout",
          "text": [
            "/usr/lib/jvm/java-11-openjdk-amd64/\n",
            "default-java\t\t   java-11-openjdk-amd64     java-8-openjdk-amd64\n",
            "java-1.11.0-openjdk-amd64  java-1.8.0-openjdk-amd64\n"
          ]
        }
      ]
    },
    {
      "cell_type": "markdown",
      "metadata": {
        "id": "Ugibq3m1CbgC"
      },
      "source": [
        "## Set Hadoop Environment"
      ]
    },
    {
      "cell_type": "code",
      "metadata": {
        "id": "1j7WFh5k18E1"
      },
      "source": [
        "#To set java path, go to /usr/local/hadoop-3.3.0/etc/hadoop/hadoop-env.sh then\n",
        "#. . . export JAVA_HOME=/usr/lib/jvm/java-11-openjdk-amd64/ . . .\n",
        "#we have used a simpler alternative route using os.environ - it works\n",
        "\n",
        "import os\n",
        "os.environ[\"JAVA_HOME\"] = \"/usr/lib/jvm/java-8-openjdk-amd64\"   # default is changed\n",
        "#os.environ[\"JAVA_HOME\"] = \"/usr/lib/jvm/java-11-openjdk-amd64/\"\n",
        "os.environ[\"HADOOP_HOME\"] = \"/usr/local/hadoop-3.3.3/\""
      ],
      "execution_count": 3,
      "outputs": []
    },
    {
      "cell_type": "code",
      "metadata": {
        "colab": {
          "base_uri": "https://localhost:8080/"
        },
        "id": "DevjcjSF2ltL",
        "outputId": "5d73080a-ac40-4ba4-e66a-c0cb7c70c5e8"
      },
      "source": [
        "# Get the value of current_path\n",
        "!echo $PATH"
      ],
      "execution_count": 4,
      "outputs": [
        {
          "output_type": "stream",
          "name": "stdout",
          "text": [
            "/opt/bin:/usr/local/nvidia/bin:/usr/local/cuda/bin:/usr/local/sbin:/usr/local/bin:/usr/sbin:/usr/bin:/sbin:/bin:/tools/node/bin:/tools/google-cloud-sdk/bin\n"
          ]
        }
      ]
    },
    {
      "cell_type": "code",
      "metadata": {
        "id": "NaaMpfVP2p3m"
      },
      "source": [
        "# Add Hadoop BIN to PATH\n",
        "# current_path taken from last command\n",
        "current_path = '/opt/bin:/usr/local/nvidia/bin:/usr/local/cuda/bin:/usr/local/sbin:/usr/local/bin:/usr/sbin:/usr/bin:/sbin:/bin:/tools/node/bin:/tools/google-cloud-sdk/bin'\n",
        "new_path = current_path+':/usr/local/hadoop-3.3.3/bin/'\n",
        "os.environ[\"PATH\"] = new_path"
      ],
      "execution_count": 5,
      "outputs": []
    },
    {
      "cell_type": "code",
      "metadata": {
        "id": "ZD34gT3y2u-D",
        "outputId": "853c28de-48a7-4e3c-9716-9689d5f0cbd3",
        "colab": {
          "base_uri": "https://localhost:8080/"
        }
      },
      "source": [
        "# Testing Hadoop with PI generating sample program, should calculate value of pi = 3.14157500000000000000\n",
        "# pi example\n",
        "#Uncomment the following line if  you want to test Hadoop with pi example\n",
        "!hadoop jar /usr/local/hadoop-3.3.3/share/hadoop/mapreduce/hadoop-mapreduce-examples-3.3.3.jar pi 16 100000"
      ],
      "execution_count": 7,
      "outputs": [
        {
          "output_type": "stream",
          "name": "stdout",
          "text": [
            "Number of Maps  = 16\n",
            "Samples per Map = 100000\n",
            "Wrote input for Map #0\n",
            "Wrote input for Map #1\n",
            "Wrote input for Map #2\n",
            "Wrote input for Map #3\n",
            "Wrote input for Map #4\n",
            "Wrote input for Map #5\n",
            "Wrote input for Map #6\n",
            "Wrote input for Map #7\n",
            "Wrote input for Map #8\n",
            "Wrote input for Map #9\n",
            "Wrote input for Map #10\n",
            "Wrote input for Map #11\n",
            "Wrote input for Map #12\n",
            "Wrote input for Map #13\n",
            "Wrote input for Map #14\n",
            "Wrote input for Map #15\n",
            "Starting Job\n",
            "2022-06-09 09:31:59,822 INFO impl.MetricsConfig: Loaded properties from hadoop-metrics2.properties\n",
            "2022-06-09 09:31:59,918 INFO impl.MetricsSystemImpl: Scheduled Metric snapshot period at 10 second(s).\n",
            "2022-06-09 09:31:59,918 INFO impl.MetricsSystemImpl: JobTracker metrics system started\n",
            "2022-06-09 09:32:00,080 INFO input.FileInputFormat: Total input files to process : 16\n",
            "2022-06-09 09:32:00,090 INFO mapreduce.JobSubmitter: number of splits:16\n",
            "2022-06-09 09:32:00,287 INFO mapreduce.JobSubmitter: Submitting tokens for job: job_local1060179129_0001\n",
            "2022-06-09 09:32:00,287 INFO mapreduce.JobSubmitter: Executing with tokens: []\n",
            "2022-06-09 09:32:00,458 INFO mapreduce.Job: The url to track the job: http://localhost:8080/\n",
            "2022-06-09 09:32:00,459 INFO mapreduce.Job: Running job: job_local1060179129_0001\n",
            "2022-06-09 09:32:00,464 INFO mapred.LocalJobRunner: OutputCommitter set in config null\n",
            "2022-06-09 09:32:00,473 INFO output.FileOutputCommitter: File Output Committer Algorithm version is 2\n",
            "2022-06-09 09:32:00,473 INFO output.FileOutputCommitter: FileOutputCommitter skip cleanup _temporary folders under output directory:false, ignore cleanup failures: false\n",
            "2022-06-09 09:32:00,474 INFO mapred.LocalJobRunner: OutputCommitter is org.apache.hadoop.mapreduce.lib.output.FileOutputCommitter\n",
            "2022-06-09 09:32:00,529 INFO mapred.LocalJobRunner: Waiting for map tasks\n",
            "2022-06-09 09:32:00,530 INFO mapred.LocalJobRunner: Starting task: attempt_local1060179129_0001_m_000000_0\n",
            "2022-06-09 09:32:00,565 INFO output.FileOutputCommitter: File Output Committer Algorithm version is 2\n",
            "2022-06-09 09:32:00,566 INFO output.FileOutputCommitter: FileOutputCommitter skip cleanup _temporary folders under output directory:false, ignore cleanup failures: false\n",
            "2022-06-09 09:32:00,593 INFO mapred.Task:  Using ResourceCalculatorProcessTree : [ ]\n",
            "2022-06-09 09:32:00,598 INFO mapred.MapTask: Processing split: file:/content/QuasiMonteCarlo_1654767119093_1677848563/in/part1:0+118\n",
            "2022-06-09 09:32:00,689 INFO mapred.MapTask: (EQUATOR) 0 kvi 26214396(104857584)\n",
            "2022-06-09 09:32:00,689 INFO mapred.MapTask: mapreduce.task.io.sort.mb: 100\n",
            "2022-06-09 09:32:00,689 INFO mapred.MapTask: soft limit at 83886080\n",
            "2022-06-09 09:32:00,689 INFO mapred.MapTask: bufstart = 0; bufvoid = 104857600\n",
            "2022-06-09 09:32:00,689 INFO mapred.MapTask: kvstart = 26214396; length = 6553600\n",
            "2022-06-09 09:32:00,693 INFO mapred.MapTask: Map output collector class = org.apache.hadoop.mapred.MapTask$MapOutputBuffer\n",
            "2022-06-09 09:32:00,729 INFO mapred.LocalJobRunner: \n",
            "2022-06-09 09:32:00,729 INFO mapred.MapTask: Starting flush of map output\n",
            "2022-06-09 09:32:00,729 INFO mapred.MapTask: Spilling map output\n",
            "2022-06-09 09:32:00,729 INFO mapred.MapTask: bufstart = 0; bufend = 18; bufvoid = 104857600\n",
            "2022-06-09 09:32:00,729 INFO mapred.MapTask: kvstart = 26214396(104857584); kvend = 26214392(104857568); length = 5/6553600\n",
            "2022-06-09 09:32:00,737 INFO mapred.MapTask: Finished spill 0\n",
            "2022-06-09 09:32:00,749 INFO mapred.Task: Task:attempt_local1060179129_0001_m_000000_0 is done. And is in the process of committing\n",
            "2022-06-09 09:32:00,752 INFO mapred.LocalJobRunner: Generated 100000 samples.\n",
            "2022-06-09 09:32:00,752 INFO mapred.Task: Task 'attempt_local1060179129_0001_m_000000_0' done.\n",
            "2022-06-09 09:32:00,761 INFO mapred.Task: Final Counters for attempt_local1060179129_0001_m_000000_0: Counters: 17\n",
            "\tFile System Counters\n",
            "\t\tFILE: Number of bytes read=283465\n",
            "\t\tFILE: Number of bytes written=923577\n",
            "\t\tFILE: Number of read operations=0\n",
            "\t\tFILE: Number of large read operations=0\n",
            "\t\tFILE: Number of write operations=0\n",
            "\tMap-Reduce Framework\n",
            "\t\tMap input records=1\n",
            "\t\tMap output records=2\n",
            "\t\tMap output bytes=18\n",
            "\t\tMap output materialized bytes=28\n",
            "\t\tInput split bytes=128\n",
            "\t\tCombine input records=0\n",
            "\t\tSpilled Records=2\n",
            "\t\tFailed Shuffles=0\n",
            "\t\tMerged Map outputs=0\n",
            "\t\tGC time elapsed (ms)=0\n",
            "\t\tTotal committed heap usage (bytes)=258473984\n",
            "\tFile Input Format Counters \n",
            "\t\tBytes Read=130\n",
            "2022-06-09 09:32:00,761 INFO mapred.LocalJobRunner: Finishing task: attempt_local1060179129_0001_m_000000_0\n",
            "2022-06-09 09:32:00,761 INFO mapred.LocalJobRunner: Starting task: attempt_local1060179129_0001_m_000001_0\n",
            "2022-06-09 09:32:00,763 INFO output.FileOutputCommitter: File Output Committer Algorithm version is 2\n",
            "2022-06-09 09:32:00,763 INFO output.FileOutputCommitter: FileOutputCommitter skip cleanup _temporary folders under output directory:false, ignore cleanup failures: false\n",
            "2022-06-09 09:32:00,764 INFO mapred.Task:  Using ResourceCalculatorProcessTree : [ ]\n",
            "2022-06-09 09:32:00,765 INFO mapred.MapTask: Processing split: file:/content/QuasiMonteCarlo_1654767119093_1677848563/in/part3:0+118\n",
            "2022-06-09 09:32:00,836 INFO mapred.MapTask: (EQUATOR) 0 kvi 26214396(104857584)\n",
            "2022-06-09 09:32:00,837 INFO mapred.MapTask: mapreduce.task.io.sort.mb: 100\n",
            "2022-06-09 09:32:00,837 INFO mapred.MapTask: soft limit at 83886080\n",
            "2022-06-09 09:32:00,837 INFO mapred.MapTask: bufstart = 0; bufvoid = 104857600\n",
            "2022-06-09 09:32:00,837 INFO mapred.MapTask: kvstart = 26214396; length = 6553600\n",
            "2022-06-09 09:32:00,837 INFO mapred.MapTask: Map output collector class = org.apache.hadoop.mapred.MapTask$MapOutputBuffer\n",
            "2022-06-09 09:32:00,847 INFO mapred.LocalJobRunner: \n",
            "2022-06-09 09:32:00,847 INFO mapred.MapTask: Starting flush of map output\n",
            "2022-06-09 09:32:00,848 INFO mapred.MapTask: Spilling map output\n",
            "2022-06-09 09:32:00,848 INFO mapred.MapTask: bufstart = 0; bufend = 18; bufvoid = 104857600\n",
            "2022-06-09 09:32:00,848 INFO mapred.MapTask: kvstart = 26214396(104857584); kvend = 26214392(104857568); length = 5/6553600\n",
            "2022-06-09 09:32:00,849 INFO mapred.MapTask: Finished spill 0\n",
            "2022-06-09 09:32:00,854 INFO mapred.Task: Task:attempt_local1060179129_0001_m_000001_0 is done. And is in the process of committing\n",
            "2022-06-09 09:32:00,859 INFO mapred.LocalJobRunner: Generated 100000 samples.\n",
            "2022-06-09 09:32:00,859 INFO mapred.Task: Task 'attempt_local1060179129_0001_m_000001_0' done.\n",
            "2022-06-09 09:32:00,860 INFO mapred.Task: Final Counters for attempt_local1060179129_0001_m_000001_0: Counters: 17\n",
            "\tFile System Counters\n",
            "\t\tFILE: Number of bytes read=285684\n",
            "\t\tFILE: Number of bytes written=923637\n",
            "\t\tFILE: Number of read operations=0\n",
            "\t\tFILE: Number of large read operations=0\n",
            "\t\tFILE: Number of write operations=0\n",
            "\tMap-Reduce Framework\n",
            "\t\tMap input records=1\n",
            "\t\tMap output records=2\n",
            "\t\tMap output bytes=18\n",
            "\t\tMap output materialized bytes=28\n",
            "\t\tInput split bytes=128\n",
            "\t\tCombine input records=0\n",
            "\t\tSpilled Records=2\n",
            "\t\tFailed Shuffles=0\n",
            "\t\tMerged Map outputs=0\n",
            "\t\tGC time elapsed (ms)=0\n",
            "\t\tTotal committed heap usage (bytes)=363855872\n",
            "\tFile Input Format Counters \n",
            "\t\tBytes Read=130\n",
            "2022-06-09 09:32:00,860 INFO mapred.LocalJobRunner: Finishing task: attempt_local1060179129_0001_m_000001_0\n",
            "2022-06-09 09:32:00,860 INFO mapred.LocalJobRunner: Starting task: attempt_local1060179129_0001_m_000002_0\n",
            "2022-06-09 09:32:00,862 INFO output.FileOutputCommitter: File Output Committer Algorithm version is 2\n",
            "2022-06-09 09:32:00,862 INFO output.FileOutputCommitter: FileOutputCommitter skip cleanup _temporary folders under output directory:false, ignore cleanup failures: false\n",
            "2022-06-09 09:32:00,863 INFO mapred.Task:  Using ResourceCalculatorProcessTree : [ ]\n",
            "2022-06-09 09:32:00,864 INFO mapred.MapTask: Processing split: file:/content/QuasiMonteCarlo_1654767119093_1677848563/in/part5:0+118\n",
            "2022-06-09 09:32:00,930 INFO mapred.MapTask: (EQUATOR) 0 kvi 26214396(104857584)\n",
            "2022-06-09 09:32:00,930 INFO mapred.MapTask: mapreduce.task.io.sort.mb: 100\n",
            "2022-06-09 09:32:00,930 INFO mapred.MapTask: soft limit at 83886080\n",
            "2022-06-09 09:32:00,930 INFO mapred.MapTask: bufstart = 0; bufvoid = 104857600\n",
            "2022-06-09 09:32:00,930 INFO mapred.MapTask: kvstart = 26214396; length = 6553600\n",
            "2022-06-09 09:32:00,931 INFO mapred.MapTask: Map output collector class = org.apache.hadoop.mapred.MapTask$MapOutputBuffer\n",
            "2022-06-09 09:32:00,938 INFO mapred.LocalJobRunner: \n",
            "2022-06-09 09:32:00,938 INFO mapred.MapTask: Starting flush of map output\n",
            "2022-06-09 09:32:00,938 INFO mapred.MapTask: Spilling map output\n",
            "2022-06-09 09:32:00,938 INFO mapred.MapTask: bufstart = 0; bufend = 18; bufvoid = 104857600\n",
            "2022-06-09 09:32:00,938 INFO mapred.MapTask: kvstart = 26214396(104857584); kvend = 26214392(104857568); length = 5/6553600\n",
            "2022-06-09 09:32:00,940 INFO mapred.MapTask: Finished spill 0\n",
            "2022-06-09 09:32:00,942 INFO mapred.Task: Task:attempt_local1060179129_0001_m_000002_0 is done. And is in the process of committing\n",
            "2022-06-09 09:32:00,943 INFO mapred.LocalJobRunner: Generated 100000 samples.\n",
            "2022-06-09 09:32:00,943 INFO mapred.Task: Task 'attempt_local1060179129_0001_m_000002_0' done.\n",
            "2022-06-09 09:32:00,944 INFO mapred.Task: Final Counters for attempt_local1060179129_0001_m_000002_0: Counters: 17\n",
            "\tFile System Counters\n",
            "\t\tFILE: Number of bytes read=287903\n",
            "\t\tFILE: Number of bytes written=923697\n",
            "\t\tFILE: Number of read operations=0\n",
            "\t\tFILE: Number of large read operations=0\n",
            "\t\tFILE: Number of write operations=0\n",
            "\tMap-Reduce Framework\n",
            "\t\tMap input records=1\n",
            "\t\tMap output records=2\n",
            "\t\tMap output bytes=18\n",
            "\t\tMap output materialized bytes=28\n",
            "\t\tInput split bytes=128\n",
            "\t\tCombine input records=0\n",
            "\t\tSpilled Records=2\n",
            "\t\tFailed Shuffles=0\n",
            "\t\tMerged Map outputs=0\n",
            "\t\tGC time elapsed (ms)=0\n",
            "\t\tTotal committed heap usage (bytes)=469237760\n",
            "\tFile Input Format Counters \n",
            "\t\tBytes Read=130\n",
            "2022-06-09 09:32:00,944 INFO mapred.LocalJobRunner: Finishing task: attempt_local1060179129_0001_m_000002_0\n",
            "2022-06-09 09:32:00,944 INFO mapred.LocalJobRunner: Starting task: attempt_local1060179129_0001_m_000003_0\n",
            "2022-06-09 09:32:00,945 INFO output.FileOutputCommitter: File Output Committer Algorithm version is 2\n",
            "2022-06-09 09:32:00,945 INFO output.FileOutputCommitter: FileOutputCommitter skip cleanup _temporary folders under output directory:false, ignore cleanup failures: false\n",
            "2022-06-09 09:32:00,946 INFO mapred.Task:  Using ResourceCalculatorProcessTree : [ ]\n",
            "2022-06-09 09:32:00,947 INFO mapred.MapTask: Processing split: file:/content/QuasiMonteCarlo_1654767119093_1677848563/in/part14:0+118\n",
            "2022-06-09 09:32:01,024 INFO mapred.MapTask: (EQUATOR) 0 kvi 26214396(104857584)\n",
            "2022-06-09 09:32:01,024 INFO mapred.MapTask: mapreduce.task.io.sort.mb: 100\n",
            "2022-06-09 09:32:01,024 INFO mapred.MapTask: soft limit at 83886080\n",
            "2022-06-09 09:32:01,024 INFO mapred.MapTask: bufstart = 0; bufvoid = 104857600\n",
            "2022-06-09 09:32:01,024 INFO mapred.MapTask: kvstart = 26214396; length = 6553600\n",
            "2022-06-09 09:32:01,025 INFO mapred.MapTask: Map output collector class = org.apache.hadoop.mapred.MapTask$MapOutputBuffer\n",
            "2022-06-09 09:32:01,030 INFO mapred.LocalJobRunner: \n",
            "2022-06-09 09:32:01,030 INFO mapred.MapTask: Starting flush of map output\n",
            "2022-06-09 09:32:01,030 INFO mapred.MapTask: Spilling map output\n",
            "2022-06-09 09:32:01,030 INFO mapred.MapTask: bufstart = 0; bufend = 18; bufvoid = 104857600\n",
            "2022-06-09 09:32:01,030 INFO mapred.MapTask: kvstart = 26214396(104857584); kvend = 26214392(104857568); length = 5/6553600\n",
            "2022-06-09 09:32:01,032 INFO mapred.MapTask: Finished spill 0\n",
            "2022-06-09 09:32:01,034 INFO mapred.Task: Task:attempt_local1060179129_0001_m_000003_0 is done. And is in the process of committing\n",
            "2022-06-09 09:32:01,035 INFO mapred.LocalJobRunner: Generated 100000 samples.\n",
            "2022-06-09 09:32:01,035 INFO mapred.Task: Task 'attempt_local1060179129_0001_m_000003_0' done.\n",
            "2022-06-09 09:32:01,036 INFO mapred.Task: Final Counters for attempt_local1060179129_0001_m_000003_0: Counters: 17\n",
            "\tFile System Counters\n",
            "\t\tFILE: Number of bytes read=290122\n",
            "\t\tFILE: Number of bytes written=923757\n",
            "\t\tFILE: Number of read operations=0\n",
            "\t\tFILE: Number of large read operations=0\n",
            "\t\tFILE: Number of write operations=0\n",
            "\tMap-Reduce Framework\n",
            "\t\tMap input records=1\n",
            "\t\tMap output records=2\n",
            "\t\tMap output bytes=18\n",
            "\t\tMap output materialized bytes=28\n",
            "\t\tInput split bytes=129\n",
            "\t\tCombine input records=0\n",
            "\t\tSpilled Records=2\n",
            "\t\tFailed Shuffles=0\n",
            "\t\tMerged Map outputs=0\n",
            "\t\tGC time elapsed (ms)=0\n",
            "\t\tTotal committed heap usage (bytes)=574619648\n",
            "\tFile Input Format Counters \n",
            "\t\tBytes Read=130\n",
            "2022-06-09 09:32:01,036 INFO mapred.LocalJobRunner: Finishing task: attempt_local1060179129_0001_m_000003_0\n",
            "2022-06-09 09:32:01,036 INFO mapred.LocalJobRunner: Starting task: attempt_local1060179129_0001_m_000004_0\n",
            "2022-06-09 09:32:01,037 INFO output.FileOutputCommitter: File Output Committer Algorithm version is 2\n",
            "2022-06-09 09:32:01,037 INFO output.FileOutputCommitter: FileOutputCommitter skip cleanup _temporary folders under output directory:false, ignore cleanup failures: false\n",
            "2022-06-09 09:32:01,037 INFO mapred.Task:  Using ResourceCalculatorProcessTree : [ ]\n",
            "2022-06-09 09:32:01,039 INFO mapred.MapTask: Processing split: file:/content/QuasiMonteCarlo_1654767119093_1677848563/in/part15:0+118\n",
            "2022-06-09 09:32:01,107 INFO mapred.MapTask: (EQUATOR) 0 kvi 26214396(104857584)\n",
            "2022-06-09 09:32:01,107 INFO mapred.MapTask: mapreduce.task.io.sort.mb: 100\n",
            "2022-06-09 09:32:01,107 INFO mapred.MapTask: soft limit at 83886080\n",
            "2022-06-09 09:32:01,107 INFO mapred.MapTask: bufstart = 0; bufvoid = 104857600\n",
            "2022-06-09 09:32:01,107 INFO mapred.MapTask: kvstart = 26214396; length = 6553600\n",
            "2022-06-09 09:32:01,107 INFO mapred.MapTask: Map output collector class = org.apache.hadoop.mapred.MapTask$MapOutputBuffer\n",
            "2022-06-09 09:32:01,114 INFO mapred.LocalJobRunner: \n",
            "2022-06-09 09:32:01,114 INFO mapred.MapTask: Starting flush of map output\n",
            "2022-06-09 09:32:01,114 INFO mapred.MapTask: Spilling map output\n",
            "2022-06-09 09:32:01,114 INFO mapred.MapTask: bufstart = 0; bufend = 18; bufvoid = 104857600\n",
            "2022-06-09 09:32:01,114 INFO mapred.MapTask: kvstart = 26214396(104857584); kvend = 26214392(104857568); length = 5/6553600\n",
            "2022-06-09 09:32:01,115 INFO mapred.MapTask: Finished spill 0\n",
            "2022-06-09 09:32:01,124 INFO mapred.Task: Task:attempt_local1060179129_0001_m_000004_0 is done. And is in the process of committing\n",
            "2022-06-09 09:32:01,126 INFO mapred.LocalJobRunner: Generated 100000 samples.\n",
            "2022-06-09 09:32:01,126 INFO mapred.Task: Task 'attempt_local1060179129_0001_m_000004_0' done.\n",
            "2022-06-09 09:32:01,127 INFO mapred.Task: Final Counters for attempt_local1060179129_0001_m_000004_0: Counters: 17\n",
            "\tFile System Counters\n",
            "\t\tFILE: Number of bytes read=291829\n",
            "\t\tFILE: Number of bytes written=923817\n",
            "\t\tFILE: Number of read operations=0\n",
            "\t\tFILE: Number of large read operations=0\n",
            "\t\tFILE: Number of write operations=0\n",
            "\tMap-Reduce Framework\n",
            "\t\tMap input records=1\n",
            "\t\tMap output records=2\n",
            "\t\tMap output bytes=18\n",
            "\t\tMap output materialized bytes=28\n",
            "\t\tInput split bytes=129\n",
            "\t\tCombine input records=0\n",
            "\t\tSpilled Records=2\n",
            "\t\tFailed Shuffles=0\n",
            "\t\tMerged Map outputs=0\n",
            "\t\tGC time elapsed (ms)=0\n",
            "\t\tTotal committed heap usage (bytes)=680001536\n",
            "\tFile Input Format Counters \n",
            "\t\tBytes Read=130\n",
            "2022-06-09 09:32:01,127 INFO mapred.LocalJobRunner: Finishing task: attempt_local1060179129_0001_m_000004_0\n",
            "2022-06-09 09:32:01,127 INFO mapred.LocalJobRunner: Starting task: attempt_local1060179129_0001_m_000005_0\n",
            "2022-06-09 09:32:01,128 INFO output.FileOutputCommitter: File Output Committer Algorithm version is 2\n",
            "2022-06-09 09:32:01,128 INFO output.FileOutputCommitter: FileOutputCommitter skip cleanup _temporary folders under output directory:false, ignore cleanup failures: false\n",
            "2022-06-09 09:32:01,128 INFO mapred.Task:  Using ResourceCalculatorProcessTree : [ ]\n",
            "2022-06-09 09:32:01,130 INFO mapred.MapTask: Processing split: file:/content/QuasiMonteCarlo_1654767119093_1677848563/in/part10:0+118\n",
            "2022-06-09 09:32:01,192 INFO mapred.MapTask: (EQUATOR) 0 kvi 26214396(104857584)\n",
            "2022-06-09 09:32:01,192 INFO mapred.MapTask: mapreduce.task.io.sort.mb: 100\n",
            "2022-06-09 09:32:01,192 INFO mapred.MapTask: soft limit at 83886080\n",
            "2022-06-09 09:32:01,192 INFO mapred.MapTask: bufstart = 0; bufvoid = 104857600\n",
            "2022-06-09 09:32:01,192 INFO mapred.MapTask: kvstart = 26214396; length = 6553600\n",
            "2022-06-09 09:32:01,193 INFO mapred.MapTask: Map output collector class = org.apache.hadoop.mapred.MapTask$MapOutputBuffer\n",
            "2022-06-09 09:32:01,198 INFO mapred.LocalJobRunner: \n",
            "2022-06-09 09:32:01,198 INFO mapred.MapTask: Starting flush of map output\n",
            "2022-06-09 09:32:01,198 INFO mapred.MapTask: Spilling map output\n",
            "2022-06-09 09:32:01,198 INFO mapred.MapTask: bufstart = 0; bufend = 18; bufvoid = 104857600\n",
            "2022-06-09 09:32:01,198 INFO mapred.MapTask: kvstart = 26214396(104857584); kvend = 26214392(104857568); length = 5/6553600\n",
            "2022-06-09 09:32:01,199 INFO mapred.MapTask: Finished spill 0\n",
            "2022-06-09 09:32:01,202 INFO mapred.Task: Task:attempt_local1060179129_0001_m_000005_0 is done. And is in the process of committing\n",
            "2022-06-09 09:32:01,203 INFO mapred.LocalJobRunner: Generated 100000 samples.\n",
            "2022-06-09 09:32:01,204 INFO mapred.Task: Task 'attempt_local1060179129_0001_m_000005_0' done.\n",
            "2022-06-09 09:32:01,204 INFO mapred.Task: Final Counters for attempt_local1060179129_0001_m_000005_0: Counters: 17\n",
            "\tFile System Counters\n",
            "\t\tFILE: Number of bytes read=293536\n",
            "\t\tFILE: Number of bytes written=923877\n",
            "\t\tFILE: Number of read operations=0\n",
            "\t\tFILE: Number of large read operations=0\n",
            "\t\tFILE: Number of write operations=0\n",
            "\tMap-Reduce Framework\n",
            "\t\tMap input records=1\n",
            "\t\tMap output records=2\n",
            "\t\tMap output bytes=18\n",
            "\t\tMap output materialized bytes=28\n",
            "\t\tInput split bytes=129\n",
            "\t\tCombine input records=0\n",
            "\t\tSpilled Records=2\n",
            "\t\tFailed Shuffles=0\n",
            "\t\tMerged Map outputs=0\n",
            "\t\tGC time elapsed (ms)=0\n",
            "\t\tTotal committed heap usage (bytes)=785383424\n",
            "\tFile Input Format Counters \n",
            "\t\tBytes Read=130\n",
            "2022-06-09 09:32:01,204 INFO mapred.LocalJobRunner: Finishing task: attempt_local1060179129_0001_m_000005_0\n",
            "2022-06-09 09:32:01,204 INFO mapred.LocalJobRunner: Starting task: attempt_local1060179129_0001_m_000006_0\n",
            "2022-06-09 09:32:01,207 INFO output.FileOutputCommitter: File Output Committer Algorithm version is 2\n",
            "2022-06-09 09:32:01,207 INFO output.FileOutputCommitter: FileOutputCommitter skip cleanup _temporary folders under output directory:false, ignore cleanup failures: false\n",
            "2022-06-09 09:32:01,208 INFO mapred.Task:  Using ResourceCalculatorProcessTree : [ ]\n",
            "2022-06-09 09:32:01,209 INFO mapred.MapTask: Processing split: file:/content/QuasiMonteCarlo_1654767119093_1677848563/in/part13:0+118\n",
            "2022-06-09 09:32:01,276 INFO mapred.MapTask: (EQUATOR) 0 kvi 26214396(104857584)\n",
            "2022-06-09 09:32:01,276 INFO mapred.MapTask: mapreduce.task.io.sort.mb: 100\n",
            "2022-06-09 09:32:01,276 INFO mapred.MapTask: soft limit at 83886080\n",
            "2022-06-09 09:32:01,276 INFO mapred.MapTask: bufstart = 0; bufvoid = 104857600\n",
            "2022-06-09 09:32:01,276 INFO mapred.MapTask: kvstart = 26214396; length = 6553600\n",
            "2022-06-09 09:32:01,277 INFO mapred.MapTask: Map output collector class = org.apache.hadoop.mapred.MapTask$MapOutputBuffer\n",
            "2022-06-09 09:32:01,283 INFO mapred.LocalJobRunner: \n",
            "2022-06-09 09:32:01,283 INFO mapred.MapTask: Starting flush of map output\n",
            "2022-06-09 09:32:01,283 INFO mapred.MapTask: Spilling map output\n",
            "2022-06-09 09:32:01,283 INFO mapred.MapTask: bufstart = 0; bufend = 18; bufvoid = 104857600\n",
            "2022-06-09 09:32:01,283 INFO mapred.MapTask: kvstart = 26214396(104857584); kvend = 26214392(104857568); length = 5/6553600\n",
            "2022-06-09 09:32:01,284 INFO mapred.MapTask: Finished spill 0\n",
            "2022-06-09 09:32:01,286 INFO mapred.Task: Task:attempt_local1060179129_0001_m_000006_0 is done. And is in the process of committing\n",
            "2022-06-09 09:32:01,291 INFO mapred.LocalJobRunner: Generated 100000 samples.\n",
            "2022-06-09 09:32:01,291 INFO mapred.Task: Task 'attempt_local1060179129_0001_m_000006_0' done.\n",
            "2022-06-09 09:32:01,292 INFO mapred.Task: Final Counters for attempt_local1060179129_0001_m_000006_0: Counters: 17\n",
            "\tFile System Counters\n",
            "\t\tFILE: Number of bytes read=295243\n",
            "\t\tFILE: Number of bytes written=923937\n",
            "\t\tFILE: Number of read operations=0\n",
            "\t\tFILE: Number of large read operations=0\n",
            "\t\tFILE: Number of write operations=0\n",
            "\tMap-Reduce Framework\n",
            "\t\tMap input records=1\n",
            "\t\tMap output records=2\n",
            "\t\tMap output bytes=18\n",
            "\t\tMap output materialized bytes=28\n",
            "\t\tInput split bytes=129\n",
            "\t\tCombine input records=0\n",
            "\t\tSpilled Records=2\n",
            "\t\tFailed Shuffles=0\n",
            "\t\tMerged Map outputs=0\n",
            "\t\tGC time elapsed (ms)=0\n",
            "\t\tTotal committed heap usage (bytes)=890765312\n",
            "\tFile Input Format Counters \n",
            "\t\tBytes Read=130\n",
            "2022-06-09 09:32:01,292 INFO mapred.LocalJobRunner: Finishing task: attempt_local1060179129_0001_m_000006_0\n",
            "2022-06-09 09:32:01,292 INFO mapred.LocalJobRunner: Starting task: attempt_local1060179129_0001_m_000007_0\n",
            "2022-06-09 09:32:01,293 INFO output.FileOutputCommitter: File Output Committer Algorithm version is 2\n",
            "2022-06-09 09:32:01,293 INFO output.FileOutputCommitter: FileOutputCommitter skip cleanup _temporary folders under output directory:false, ignore cleanup failures: false\n",
            "2022-06-09 09:32:01,293 INFO mapred.Task:  Using ResourceCalculatorProcessTree : [ ]\n",
            "2022-06-09 09:32:01,295 INFO mapred.MapTask: Processing split: file:/content/QuasiMonteCarlo_1654767119093_1677848563/in/part12:0+118\n",
            "2022-06-09 09:32:01,358 INFO mapred.MapTask: (EQUATOR) 0 kvi 26214396(104857584)\n",
            "2022-06-09 09:32:01,359 INFO mapred.MapTask: mapreduce.task.io.sort.mb: 100\n",
            "2022-06-09 09:32:01,359 INFO mapred.MapTask: soft limit at 83886080\n",
            "2022-06-09 09:32:01,359 INFO mapred.MapTask: bufstart = 0; bufvoid = 104857600\n",
            "2022-06-09 09:32:01,359 INFO mapred.MapTask: kvstart = 26214396; length = 6553600\n",
            "2022-06-09 09:32:01,360 INFO mapred.MapTask: Map output collector class = org.apache.hadoop.mapred.MapTask$MapOutputBuffer\n",
            "2022-06-09 09:32:01,365 INFO mapred.LocalJobRunner: \n",
            "2022-06-09 09:32:01,366 INFO mapred.MapTask: Starting flush of map output\n",
            "2022-06-09 09:32:01,366 INFO mapred.MapTask: Spilling map output\n",
            "2022-06-09 09:32:01,366 INFO mapred.MapTask: bufstart = 0; bufend = 18; bufvoid = 104857600\n",
            "2022-06-09 09:32:01,366 INFO mapred.MapTask: kvstart = 26214396(104857584); kvend = 26214392(104857568); length = 5/6553600\n",
            "2022-06-09 09:32:01,367 INFO mapred.MapTask: Finished spill 0\n",
            "2022-06-09 09:32:01,369 INFO mapred.Task: Task:attempt_local1060179129_0001_m_000007_0 is done. And is in the process of committing\n",
            "2022-06-09 09:32:01,370 INFO mapred.LocalJobRunner: Generated 100000 samples.\n",
            "2022-06-09 09:32:01,370 INFO mapred.Task: Task 'attempt_local1060179129_0001_m_000007_0' done.\n",
            "2022-06-09 09:32:01,371 INFO mapred.Task: Final Counters for attempt_local1060179129_0001_m_000007_0: Counters: 17\n",
            "\tFile System Counters\n",
            "\t\tFILE: Number of bytes read=296950\n",
            "\t\tFILE: Number of bytes written=923997\n",
            "\t\tFILE: Number of read operations=0\n",
            "\t\tFILE: Number of large read operations=0\n",
            "\t\tFILE: Number of write operations=0\n",
            "\tMap-Reduce Framework\n",
            "\t\tMap input records=1\n",
            "\t\tMap output records=2\n",
            "\t\tMap output bytes=18\n",
            "\t\tMap output materialized bytes=28\n",
            "\t\tInput split bytes=129\n",
            "\t\tCombine input records=0\n",
            "\t\tSpilled Records=2\n",
            "\t\tFailed Shuffles=0\n",
            "\t\tMerged Map outputs=0\n",
            "\t\tGC time elapsed (ms)=0\n",
            "\t\tTotal committed heap usage (bytes)=996147200\n",
            "\tFile Input Format Counters \n",
            "\t\tBytes Read=130\n",
            "2022-06-09 09:32:01,371 INFO mapred.LocalJobRunner: Finishing task: attempt_local1060179129_0001_m_000007_0\n",
            "2022-06-09 09:32:01,371 INFO mapred.LocalJobRunner: Starting task: attempt_local1060179129_0001_m_000008_0\n",
            "2022-06-09 09:32:01,373 INFO output.FileOutputCommitter: File Output Committer Algorithm version is 2\n",
            "2022-06-09 09:32:01,373 INFO output.FileOutputCommitter: FileOutputCommitter skip cleanup _temporary folders under output directory:false, ignore cleanup failures: false\n",
            "2022-06-09 09:32:01,373 INFO mapred.Task:  Using ResourceCalculatorProcessTree : [ ]\n",
            "2022-06-09 09:32:01,377 INFO mapred.MapTask: Processing split: file:/content/QuasiMonteCarlo_1654767119093_1677848563/in/part9:0+118\n",
            "2022-06-09 09:32:01,443 INFO mapred.MapTask: (EQUATOR) 0 kvi 26214396(104857584)\n",
            "2022-06-09 09:32:01,444 INFO mapred.MapTask: mapreduce.task.io.sort.mb: 100\n",
            "2022-06-09 09:32:01,444 INFO mapred.MapTask: soft limit at 83886080\n",
            "2022-06-09 09:32:01,444 INFO mapred.MapTask: bufstart = 0; bufvoid = 104857600\n",
            "2022-06-09 09:32:01,444 INFO mapred.MapTask: kvstart = 26214396; length = 6553600\n",
            "2022-06-09 09:32:01,448 INFO mapred.MapTask: Map output collector class = org.apache.hadoop.mapred.MapTask$MapOutputBuffer\n",
            "2022-06-09 09:32:01,452 INFO mapred.LocalJobRunner: \n",
            "2022-06-09 09:32:01,452 INFO mapred.MapTask: Starting flush of map output\n",
            "2022-06-09 09:32:01,452 INFO mapred.MapTask: Spilling map output\n",
            "2022-06-09 09:32:01,452 INFO mapred.MapTask: bufstart = 0; bufend = 18; bufvoid = 104857600\n",
            "2022-06-09 09:32:01,452 INFO mapred.MapTask: kvstart = 26214396(104857584); kvend = 26214392(104857568); length = 5/6553600\n",
            "2022-06-09 09:32:01,453 INFO mapred.MapTask: Finished spill 0\n",
            "2022-06-09 09:32:01,455 INFO mapred.Task: Task:attempt_local1060179129_0001_m_000008_0 is done. And is in the process of committing\n",
            "2022-06-09 09:32:01,456 INFO mapred.LocalJobRunner: Generated 100000 samples.\n",
            "2022-06-09 09:32:01,456 INFO mapred.Task: Task 'attempt_local1060179129_0001_m_000008_0' done.\n",
            "2022-06-09 09:32:01,456 INFO mapred.Task: Final Counters for attempt_local1060179129_0001_m_000008_0: Counters: 17\n",
            "\tFile System Counters\n",
            "\t\tFILE: Number of bytes read=298145\n",
            "\t\tFILE: Number of bytes written=924057\n",
            "\t\tFILE: Number of read operations=0\n",
            "\t\tFILE: Number of large read operations=0\n",
            "\t\tFILE: Number of write operations=0\n",
            "\tMap-Reduce Framework\n",
            "\t\tMap input records=1\n",
            "\t\tMap output records=2\n",
            "\t\tMap output bytes=18\n",
            "\t\tMap output materialized bytes=28\n",
            "\t\tInput split bytes=128\n",
            "\t\tCombine input records=0\n",
            "\t\tSpilled Records=2\n",
            "\t\tFailed Shuffles=0\n",
            "\t\tMerged Map outputs=0\n",
            "\t\tGC time elapsed (ms)=0\n",
            "\t\tTotal committed heap usage (bytes)=1101529088\n",
            "\tFile Input Format Counters \n",
            "\t\tBytes Read=130\n",
            "2022-06-09 09:32:01,456 INFO mapred.LocalJobRunner: Finishing task: attempt_local1060179129_0001_m_000008_0\n",
            "2022-06-09 09:32:01,456 INFO mapred.LocalJobRunner: Starting task: attempt_local1060179129_0001_m_000009_0\n",
            "2022-06-09 09:32:01,457 INFO output.FileOutputCommitter: File Output Committer Algorithm version is 2\n",
            "2022-06-09 09:32:01,457 INFO output.FileOutputCommitter: FileOutputCommitter skip cleanup _temporary folders under output directory:false, ignore cleanup failures: false\n",
            "2022-06-09 09:32:01,458 INFO mapred.Task:  Using ResourceCalculatorProcessTree : [ ]\n",
            "2022-06-09 09:32:01,459 INFO mapred.MapTask: Processing split: file:/content/QuasiMonteCarlo_1654767119093_1677848563/in/part2:0+118\n",
            "2022-06-09 09:32:01,470 INFO mapreduce.Job: Job job_local1060179129_0001 running in uber mode : false\n",
            "2022-06-09 09:32:01,471 INFO mapreduce.Job:  map 100% reduce 0%\n",
            "2022-06-09 09:32:01,537 INFO mapred.MapTask: (EQUATOR) 0 kvi 26214396(104857584)\n",
            "2022-06-09 09:32:01,537 INFO mapred.MapTask: mapreduce.task.io.sort.mb: 100\n",
            "2022-06-09 09:32:01,537 INFO mapred.MapTask: soft limit at 83886080\n",
            "2022-06-09 09:32:01,537 INFO mapred.MapTask: bufstart = 0; bufvoid = 104857600\n",
            "2022-06-09 09:32:01,538 INFO mapred.MapTask: kvstart = 26214396; length = 6553600\n",
            "2022-06-09 09:32:01,538 INFO mapred.MapTask: Map output collector class = org.apache.hadoop.mapred.MapTask$MapOutputBuffer\n",
            "2022-06-09 09:32:01,545 INFO mapred.LocalJobRunner: \n",
            "2022-06-09 09:32:01,548 INFO mapred.MapTask: Starting flush of map output\n",
            "2022-06-09 09:32:01,548 INFO mapred.MapTask: Spilling map output\n",
            "2022-06-09 09:32:01,548 INFO mapred.MapTask: bufstart = 0; bufend = 18; bufvoid = 104857600\n",
            "2022-06-09 09:32:01,548 INFO mapred.MapTask: kvstart = 26214396(104857584); kvend = 26214392(104857568); length = 5/6553600\n",
            "2022-06-09 09:32:01,549 INFO mapred.MapTask: Finished spill 0\n",
            "2022-06-09 09:32:01,552 INFO mapred.Task: Task:attempt_local1060179129_0001_m_000009_0 is done. And is in the process of committing\n",
            "2022-06-09 09:32:01,554 INFO mapred.LocalJobRunner: Generated 100000 samples.\n",
            "2022-06-09 09:32:01,555 INFO mapred.Task: Task 'attempt_local1060179129_0001_m_000009_0' done.\n",
            "2022-06-09 09:32:01,555 INFO mapred.Task: Final Counters for attempt_local1060179129_0001_m_000009_0: Counters: 17\n",
            "\tFile System Counters\n",
            "\t\tFILE: Number of bytes read=299340\n",
            "\t\tFILE: Number of bytes written=924117\n",
            "\t\tFILE: Number of read operations=0\n",
            "\t\tFILE: Number of large read operations=0\n",
            "\t\tFILE: Number of write operations=0\n",
            "\tMap-Reduce Framework\n",
            "\t\tMap input records=1\n",
            "\t\tMap output records=2\n",
            "\t\tMap output bytes=18\n",
            "\t\tMap output materialized bytes=28\n",
            "\t\tInput split bytes=128\n",
            "\t\tCombine input records=0\n",
            "\t\tSpilled Records=2\n",
            "\t\tFailed Shuffles=0\n",
            "\t\tMerged Map outputs=0\n",
            "\t\tGC time elapsed (ms)=0\n",
            "\t\tTotal committed heap usage (bytes)=1206910976\n",
            "\tFile Input Format Counters \n",
            "\t\tBytes Read=130\n",
            "2022-06-09 09:32:01,555 INFO mapred.LocalJobRunner: Finishing task: attempt_local1060179129_0001_m_000009_0\n",
            "2022-06-09 09:32:01,557 INFO mapred.LocalJobRunner: Starting task: attempt_local1060179129_0001_m_000010_0\n",
            "2022-06-09 09:32:01,558 INFO output.FileOutputCommitter: File Output Committer Algorithm version is 2\n",
            "2022-06-09 09:32:01,559 INFO output.FileOutputCommitter: FileOutputCommitter skip cleanup _temporary folders under output directory:false, ignore cleanup failures: false\n",
            "2022-06-09 09:32:01,559 INFO mapred.Task:  Using ResourceCalculatorProcessTree : [ ]\n",
            "2022-06-09 09:32:01,562 INFO mapred.MapTask: Processing split: file:/content/QuasiMonteCarlo_1654767119093_1677848563/in/part0:0+118\n",
            "2022-06-09 09:32:01,630 INFO mapred.MapTask: (EQUATOR) 0 kvi 26214396(104857584)\n",
            "2022-06-09 09:32:01,630 INFO mapred.MapTask: mapreduce.task.io.sort.mb: 100\n",
            "2022-06-09 09:32:01,630 INFO mapred.MapTask: soft limit at 83886080\n",
            "2022-06-09 09:32:01,630 INFO mapred.MapTask: bufstart = 0; bufvoid = 104857600\n",
            "2022-06-09 09:32:01,630 INFO mapred.MapTask: kvstart = 26214396; length = 6553600\n",
            "2022-06-09 09:32:01,631 INFO mapred.MapTask: Map output collector class = org.apache.hadoop.mapred.MapTask$MapOutputBuffer\n",
            "2022-06-09 09:32:01,637 INFO mapred.LocalJobRunner: \n",
            "2022-06-09 09:32:01,637 INFO mapred.MapTask: Starting flush of map output\n",
            "2022-06-09 09:32:01,637 INFO mapred.MapTask: Spilling map output\n",
            "2022-06-09 09:32:01,637 INFO mapred.MapTask: bufstart = 0; bufend = 18; bufvoid = 104857600\n",
            "2022-06-09 09:32:01,637 INFO mapred.MapTask: kvstart = 26214396(104857584); kvend = 26214392(104857568); length = 5/6553600\n",
            "2022-06-09 09:32:01,638 INFO mapred.MapTask: Finished spill 0\n",
            "2022-06-09 09:32:01,641 INFO mapred.Task: Task:attempt_local1060179129_0001_m_000010_0 is done. And is in the process of committing\n",
            "2022-06-09 09:32:01,643 INFO mapred.LocalJobRunner: Generated 100000 samples.\n",
            "2022-06-09 09:32:01,644 INFO mapred.Task: Task 'attempt_local1060179129_0001_m_000010_0' done.\n",
            "2022-06-09 09:32:01,645 INFO mapred.Task: Final Counters for attempt_local1060179129_0001_m_000010_0: Counters: 17\n",
            "\tFile System Counters\n",
            "\t\tFILE: Number of bytes read=300535\n",
            "\t\tFILE: Number of bytes written=924177\n",
            "\t\tFILE: Number of read operations=0\n",
            "\t\tFILE: Number of large read operations=0\n",
            "\t\tFILE: Number of write operations=0\n",
            "\tMap-Reduce Framework\n",
            "\t\tMap input records=1\n",
            "\t\tMap output records=2\n",
            "\t\tMap output bytes=18\n",
            "\t\tMap output materialized bytes=28\n",
            "\t\tInput split bytes=128\n",
            "\t\tCombine input records=0\n",
            "\t\tSpilled Records=2\n",
            "\t\tFailed Shuffles=0\n",
            "\t\tMerged Map outputs=0\n",
            "\t\tGC time elapsed (ms)=0\n",
            "\t\tTotal committed heap usage (bytes)=1312292864\n",
            "\tFile Input Format Counters \n",
            "\t\tBytes Read=130\n",
            "2022-06-09 09:32:01,647 INFO mapred.LocalJobRunner: Finishing task: attempt_local1060179129_0001_m_000010_0\n",
            "2022-06-09 09:32:01,647 INFO mapred.LocalJobRunner: Starting task: attempt_local1060179129_0001_m_000011_0\n",
            "2022-06-09 09:32:01,648 INFO output.FileOutputCommitter: File Output Committer Algorithm version is 2\n",
            "2022-06-09 09:32:01,648 INFO output.FileOutputCommitter: FileOutputCommitter skip cleanup _temporary folders under output directory:false, ignore cleanup failures: false\n",
            "2022-06-09 09:32:01,649 INFO mapred.Task:  Using ResourceCalculatorProcessTree : [ ]\n",
            "2022-06-09 09:32:01,650 INFO mapred.MapTask: Processing split: file:/content/QuasiMonteCarlo_1654767119093_1677848563/in/part6:0+118\n",
            "2022-06-09 09:32:01,722 INFO mapred.MapTask: (EQUATOR) 0 kvi 26214396(104857584)\n",
            "2022-06-09 09:32:01,722 INFO mapred.MapTask: mapreduce.task.io.sort.mb: 100\n",
            "2022-06-09 09:32:01,722 INFO mapred.MapTask: soft limit at 83886080\n",
            "2022-06-09 09:32:01,722 INFO mapred.MapTask: bufstart = 0; bufvoid = 104857600\n",
            "2022-06-09 09:32:01,722 INFO mapred.MapTask: kvstart = 26214396; length = 6553600\n",
            "2022-06-09 09:32:01,723 INFO mapred.MapTask: Map output collector class = org.apache.hadoop.mapred.MapTask$MapOutputBuffer\n",
            "2022-06-09 09:32:01,729 INFO mapred.LocalJobRunner: \n",
            "2022-06-09 09:32:01,729 INFO mapred.MapTask: Starting flush of map output\n",
            "2022-06-09 09:32:01,729 INFO mapred.MapTask: Spilling map output\n",
            "2022-06-09 09:32:01,729 INFO mapred.MapTask: bufstart = 0; bufend = 18; bufvoid = 104857600\n",
            "2022-06-09 09:32:01,729 INFO mapred.MapTask: kvstart = 26214396(104857584); kvend = 26214392(104857568); length = 5/6553600\n",
            "2022-06-09 09:32:01,730 INFO mapred.MapTask: Finished spill 0\n",
            "2022-06-09 09:32:01,732 INFO mapred.Task: Task:attempt_local1060179129_0001_m_000011_0 is done. And is in the process of committing\n",
            "2022-06-09 09:32:01,734 INFO mapred.LocalJobRunner: Generated 100000 samples.\n",
            "2022-06-09 09:32:01,734 INFO mapred.Task: Task 'attempt_local1060179129_0001_m_000011_0' done.\n",
            "2022-06-09 09:32:01,734 INFO mapred.Task: Final Counters for attempt_local1060179129_0001_m_000011_0: Counters: 17\n",
            "\tFile System Counters\n",
            "\t\tFILE: Number of bytes read=301730\n",
            "\t\tFILE: Number of bytes written=924237\n",
            "\t\tFILE: Number of read operations=0\n",
            "\t\tFILE: Number of large read operations=0\n",
            "\t\tFILE: Number of write operations=0\n",
            "\tMap-Reduce Framework\n",
            "\t\tMap input records=1\n",
            "\t\tMap output records=2\n",
            "\t\tMap output bytes=18\n",
            "\t\tMap output materialized bytes=28\n",
            "\t\tInput split bytes=128\n",
            "\t\tCombine input records=0\n",
            "\t\tSpilled Records=2\n",
            "\t\tFailed Shuffles=0\n",
            "\t\tMerged Map outputs=0\n",
            "\t\tGC time elapsed (ms)=0\n",
            "\t\tTotal committed heap usage (bytes)=1417674752\n",
            "\tFile Input Format Counters \n",
            "\t\tBytes Read=130\n",
            "2022-06-09 09:32:01,734 INFO mapred.LocalJobRunner: Finishing task: attempt_local1060179129_0001_m_000011_0\n",
            "2022-06-09 09:32:01,734 INFO mapred.LocalJobRunner: Starting task: attempt_local1060179129_0001_m_000012_0\n",
            "2022-06-09 09:32:01,735 INFO output.FileOutputCommitter: File Output Committer Algorithm version is 2\n",
            "2022-06-09 09:32:01,735 INFO output.FileOutputCommitter: FileOutputCommitter skip cleanup _temporary folders under output directory:false, ignore cleanup failures: false\n",
            "2022-06-09 09:32:01,735 INFO mapred.Task:  Using ResourceCalculatorProcessTree : [ ]\n",
            "2022-06-09 09:32:01,736 INFO mapred.MapTask: Processing split: file:/content/QuasiMonteCarlo_1654767119093_1677848563/in/part11:0+118\n",
            "2022-06-09 09:32:01,824 INFO mapred.MapTask: (EQUATOR) 0 kvi 26214396(104857584)\n",
            "2022-06-09 09:32:01,824 INFO mapred.MapTask: mapreduce.task.io.sort.mb: 100\n",
            "2022-06-09 09:32:01,824 INFO mapred.MapTask: soft limit at 83886080\n",
            "2022-06-09 09:32:01,824 INFO mapred.MapTask: bufstart = 0; bufvoid = 104857600\n",
            "2022-06-09 09:32:01,824 INFO mapred.MapTask: kvstart = 26214396; length = 6553600\n",
            "2022-06-09 09:32:01,825 INFO mapred.MapTask: Map output collector class = org.apache.hadoop.mapred.MapTask$MapOutputBuffer\n",
            "2022-06-09 09:32:01,838 INFO mapred.LocalJobRunner: \n",
            "2022-06-09 09:32:01,838 INFO mapred.MapTask: Starting flush of map output\n",
            "2022-06-09 09:32:01,838 INFO mapred.MapTask: Spilling map output\n",
            "2022-06-09 09:32:01,838 INFO mapred.MapTask: bufstart = 0; bufend = 18; bufvoid = 104857600\n",
            "2022-06-09 09:32:01,838 INFO mapred.MapTask: kvstart = 26214396(104857584); kvend = 26214392(104857568); length = 5/6553600\n",
            "2022-06-09 09:32:01,840 INFO mapred.MapTask: Finished spill 0\n",
            "2022-06-09 09:32:01,843 INFO mapred.Task: Task:attempt_local1060179129_0001_m_000012_0 is done. And is in the process of committing\n",
            "2022-06-09 09:32:01,845 INFO mapred.LocalJobRunner: Generated 100000 samples.\n",
            "2022-06-09 09:32:01,845 INFO mapred.Task: Task 'attempt_local1060179129_0001_m_000012_0' done.\n",
            "2022-06-09 09:32:01,845 INFO mapred.Task: Final Counters for attempt_local1060179129_0001_m_000012_0: Counters: 17\n",
            "\tFile System Counters\n",
            "\t\tFILE: Number of bytes read=302413\n",
            "\t\tFILE: Number of bytes written=924297\n",
            "\t\tFILE: Number of read operations=0\n",
            "\t\tFILE: Number of large read operations=0\n",
            "\t\tFILE: Number of write operations=0\n",
            "\tMap-Reduce Framework\n",
            "\t\tMap input records=1\n",
            "\t\tMap output records=2\n",
            "\t\tMap output bytes=18\n",
            "\t\tMap output materialized bytes=28\n",
            "\t\tInput split bytes=129\n",
            "\t\tCombine input records=0\n",
            "\t\tSpilled Records=2\n",
            "\t\tFailed Shuffles=0\n",
            "\t\tMerged Map outputs=0\n",
            "\t\tGC time elapsed (ms)=22\n",
            "\t\tTotal committed heap usage (bytes)=1523056640\n",
            "\tFile Input Format Counters \n",
            "\t\tBytes Read=130\n",
            "2022-06-09 09:32:01,846 INFO mapred.LocalJobRunner: Finishing task: attempt_local1060179129_0001_m_000012_0\n",
            "2022-06-09 09:32:01,847 INFO mapred.LocalJobRunner: Starting task: attempt_local1060179129_0001_m_000013_0\n",
            "2022-06-09 09:32:01,848 INFO output.FileOutputCommitter: File Output Committer Algorithm version is 2\n",
            "2022-06-09 09:32:01,848 INFO output.FileOutputCommitter: FileOutputCommitter skip cleanup _temporary folders under output directory:false, ignore cleanup failures: false\n",
            "2022-06-09 09:32:01,849 INFO mapred.Task:  Using ResourceCalculatorProcessTree : [ ]\n",
            "2022-06-09 09:32:01,851 INFO mapred.MapTask: Processing split: file:/content/QuasiMonteCarlo_1654767119093_1677848563/in/part4:0+118\n",
            "2022-06-09 09:32:01,914 INFO mapred.MapTask: (EQUATOR) 0 kvi 26214396(104857584)\n",
            "2022-06-09 09:32:01,914 INFO mapred.MapTask: mapreduce.task.io.sort.mb: 100\n",
            "2022-06-09 09:32:01,914 INFO mapred.MapTask: soft limit at 83886080\n",
            "2022-06-09 09:32:01,914 INFO mapred.MapTask: bufstart = 0; bufvoid = 104857600\n",
            "2022-06-09 09:32:01,914 INFO mapred.MapTask: kvstart = 26214396; length = 6553600\n",
            "2022-06-09 09:32:01,914 INFO mapred.MapTask: Map output collector class = org.apache.hadoop.mapred.MapTask$MapOutputBuffer\n",
            "2022-06-09 09:32:01,918 INFO mapred.LocalJobRunner: \n",
            "2022-06-09 09:32:01,918 INFO mapred.MapTask: Starting flush of map output\n",
            "2022-06-09 09:32:01,918 INFO mapred.MapTask: Spilling map output\n",
            "2022-06-09 09:32:01,918 INFO mapred.MapTask: bufstart = 0; bufend = 18; bufvoid = 104857600\n",
            "2022-06-09 09:32:01,918 INFO mapred.MapTask: kvstart = 26214396(104857584); kvend = 26214392(104857568); length = 5/6553600\n",
            "2022-06-09 09:32:01,919 INFO mapred.MapTask: Finished spill 0\n",
            "2022-06-09 09:32:01,921 INFO mapred.Task: Task:attempt_local1060179129_0001_m_000013_0 is done. And is in the process of committing\n",
            "2022-06-09 09:32:01,922 INFO mapred.LocalJobRunner: Generated 100000 samples.\n",
            "2022-06-09 09:32:01,922 INFO mapred.Task: Task 'attempt_local1060179129_0001_m_000013_0' done.\n",
            "2022-06-09 09:32:01,923 INFO mapred.Task: Final Counters for attempt_local1060179129_0001_m_000013_0: Counters: 17\n",
            "\tFile System Counters\n",
            "\t\tFILE: Number of bytes read=303096\n",
            "\t\tFILE: Number of bytes written=924357\n",
            "\t\tFILE: Number of read operations=0\n",
            "\t\tFILE: Number of large read operations=0\n",
            "\t\tFILE: Number of write operations=0\n",
            "\tMap-Reduce Framework\n",
            "\t\tMap input records=1\n",
            "\t\tMap output records=2\n",
            "\t\tMap output bytes=18\n",
            "\t\tMap output materialized bytes=28\n",
            "\t\tInput split bytes=128\n",
            "\t\tCombine input records=0\n",
            "\t\tSpilled Records=2\n",
            "\t\tFailed Shuffles=0\n",
            "\t\tMerged Map outputs=0\n",
            "\t\tGC time elapsed (ms)=0\n",
            "\t\tTotal committed heap usage (bytes)=1628438528\n",
            "\tFile Input Format Counters \n",
            "\t\tBytes Read=130\n",
            "2022-06-09 09:32:01,923 INFO mapred.LocalJobRunner: Finishing task: attempt_local1060179129_0001_m_000013_0\n",
            "2022-06-09 09:32:01,923 INFO mapred.LocalJobRunner: Starting task: attempt_local1060179129_0001_m_000014_0\n",
            "2022-06-09 09:32:01,924 INFO output.FileOutputCommitter: File Output Committer Algorithm version is 2\n",
            "2022-06-09 09:32:01,924 INFO output.FileOutputCommitter: FileOutputCommitter skip cleanup _temporary folders under output directory:false, ignore cleanup failures: false\n",
            "2022-06-09 09:32:01,924 INFO mapred.Task:  Using ResourceCalculatorProcessTree : [ ]\n",
            "2022-06-09 09:32:01,926 INFO mapred.MapTask: Processing split: file:/content/QuasiMonteCarlo_1654767119093_1677848563/in/part7:0+118\n",
            "2022-06-09 09:32:01,992 INFO mapred.MapTask: (EQUATOR) 0 kvi 26214396(104857584)\n",
            "2022-06-09 09:32:01,992 INFO mapred.MapTask: mapreduce.task.io.sort.mb: 100\n",
            "2022-06-09 09:32:01,992 INFO mapred.MapTask: soft limit at 83886080\n",
            "2022-06-09 09:32:01,992 INFO mapred.MapTask: bufstart = 0; bufvoid = 104857600\n",
            "2022-06-09 09:32:01,992 INFO mapred.MapTask: kvstart = 26214396; length = 6553600\n",
            "2022-06-09 09:32:01,994 INFO mapred.MapTask: Map output collector class = org.apache.hadoop.mapred.MapTask$MapOutputBuffer\n",
            "2022-06-09 09:32:01,998 INFO mapred.LocalJobRunner: \n",
            "2022-06-09 09:32:01,998 INFO mapred.MapTask: Starting flush of map output\n",
            "2022-06-09 09:32:01,998 INFO mapred.MapTask: Spilling map output\n",
            "2022-06-09 09:32:01,998 INFO mapred.MapTask: bufstart = 0; bufend = 18; bufvoid = 104857600\n",
            "2022-06-09 09:32:01,998 INFO mapred.MapTask: kvstart = 26214396(104857584); kvend = 26214392(104857568); length = 5/6553600\n",
            "2022-06-09 09:32:01,999 INFO mapred.MapTask: Finished spill 0\n",
            "2022-06-09 09:32:02,001 INFO mapred.Task: Task:attempt_local1060179129_0001_m_000014_0 is done. And is in the process of committing\n",
            "2022-06-09 09:32:02,003 INFO mapred.LocalJobRunner: Generated 100000 samples.\n",
            "2022-06-09 09:32:02,003 INFO mapred.Task: Task 'attempt_local1060179129_0001_m_000014_0' done.\n",
            "2022-06-09 09:32:02,004 INFO mapred.Task: Final Counters for attempt_local1060179129_0001_m_000014_0: Counters: 17\n",
            "\tFile System Counters\n",
            "\t\tFILE: Number of bytes read=303779\n",
            "\t\tFILE: Number of bytes written=924417\n",
            "\t\tFILE: Number of read operations=0\n",
            "\t\tFILE: Number of large read operations=0\n",
            "\t\tFILE: Number of write operations=0\n",
            "\tMap-Reduce Framework\n",
            "\t\tMap input records=1\n",
            "\t\tMap output records=2\n",
            "\t\tMap output bytes=18\n",
            "\t\tMap output materialized bytes=28\n",
            "\t\tInput split bytes=128\n",
            "\t\tCombine input records=0\n",
            "\t\tSpilled Records=2\n",
            "\t\tFailed Shuffles=0\n",
            "\t\tMerged Map outputs=0\n",
            "\t\tGC time elapsed (ms)=0\n",
            "\t\tTotal committed heap usage (bytes)=1733820416\n",
            "\tFile Input Format Counters \n",
            "\t\tBytes Read=130\n",
            "2022-06-09 09:32:02,004 INFO mapred.LocalJobRunner: Finishing task: attempt_local1060179129_0001_m_000014_0\n",
            "2022-06-09 09:32:02,005 INFO mapred.LocalJobRunner: Starting task: attempt_local1060179129_0001_m_000015_0\n",
            "2022-06-09 09:32:02,008 INFO output.FileOutputCommitter: File Output Committer Algorithm version is 2\n",
            "2022-06-09 09:32:02,008 INFO output.FileOutputCommitter: FileOutputCommitter skip cleanup _temporary folders under output directory:false, ignore cleanup failures: false\n",
            "2022-06-09 09:32:02,009 INFO mapred.Task:  Using ResourceCalculatorProcessTree : [ ]\n",
            "2022-06-09 09:32:02,012 INFO mapred.MapTask: Processing split: file:/content/QuasiMonteCarlo_1654767119093_1677848563/in/part8:0+118\n",
            "2022-06-09 09:32:02,094 INFO mapred.MapTask: (EQUATOR) 0 kvi 26214396(104857584)\n",
            "2022-06-09 09:32:02,094 INFO mapred.MapTask: mapreduce.task.io.sort.mb: 100\n",
            "2022-06-09 09:32:02,094 INFO mapred.MapTask: soft limit at 83886080\n",
            "2022-06-09 09:32:02,094 INFO mapred.MapTask: bufstart = 0; bufvoid = 104857600\n",
            "2022-06-09 09:32:02,094 INFO mapred.MapTask: kvstart = 26214396; length = 6553600\n",
            "2022-06-09 09:32:02,095 INFO mapred.MapTask: Map output collector class = org.apache.hadoop.mapred.MapTask$MapOutputBuffer\n",
            "2022-06-09 09:32:02,100 INFO mapred.LocalJobRunner: \n",
            "2022-06-09 09:32:02,100 INFO mapred.MapTask: Starting flush of map output\n",
            "2022-06-09 09:32:02,100 INFO mapred.MapTask: Spilling map output\n",
            "2022-06-09 09:32:02,100 INFO mapred.MapTask: bufstart = 0; bufend = 18; bufvoid = 104857600\n",
            "2022-06-09 09:32:02,100 INFO mapred.MapTask: kvstart = 26214396(104857584); kvend = 26214392(104857568); length = 5/6553600\n",
            "2022-06-09 09:32:02,101 INFO mapred.MapTask: Finished spill 0\n",
            "2022-06-09 09:32:02,103 INFO mapred.Task: Task:attempt_local1060179129_0001_m_000015_0 is done. And is in the process of committing\n",
            "2022-06-09 09:32:02,104 INFO mapred.LocalJobRunner: Generated 100000 samples.\n",
            "2022-06-09 09:32:02,104 INFO mapred.Task: Task 'attempt_local1060179129_0001_m_000015_0' done.\n",
            "2022-06-09 09:32:02,104 INFO mapred.Task: Final Counters for attempt_local1060179129_0001_m_000015_0: Counters: 17\n",
            "\tFile System Counters\n",
            "\t\tFILE: Number of bytes read=304462\n",
            "\t\tFILE: Number of bytes written=924477\n",
            "\t\tFILE: Number of read operations=0\n",
            "\t\tFILE: Number of large read operations=0\n",
            "\t\tFILE: Number of write operations=0\n",
            "\tMap-Reduce Framework\n",
            "\t\tMap input records=1\n",
            "\t\tMap output records=2\n",
            "\t\tMap output bytes=18\n",
            "\t\tMap output materialized bytes=28\n",
            "\t\tInput split bytes=128\n",
            "\t\tCombine input records=0\n",
            "\t\tSpilled Records=2\n",
            "\t\tFailed Shuffles=0\n",
            "\t\tMerged Map outputs=0\n",
            "\t\tGC time elapsed (ms)=0\n",
            "\t\tTotal committed heap usage (bytes)=1839202304\n",
            "\tFile Input Format Counters \n",
            "\t\tBytes Read=130\n",
            "2022-06-09 09:32:02,104 INFO mapred.LocalJobRunner: Finishing task: attempt_local1060179129_0001_m_000015_0\n",
            "2022-06-09 09:32:02,104 INFO mapred.LocalJobRunner: map task executor complete.\n",
            "2022-06-09 09:32:02,109 INFO mapred.LocalJobRunner: Waiting for reduce tasks\n",
            "2022-06-09 09:32:02,110 INFO mapred.LocalJobRunner: Starting task: attempt_local1060179129_0001_r_000000_0\n",
            "2022-06-09 09:32:02,118 INFO output.FileOutputCommitter: File Output Committer Algorithm version is 2\n",
            "2022-06-09 09:32:02,119 INFO output.FileOutputCommitter: FileOutputCommitter skip cleanup _temporary folders under output directory:false, ignore cleanup failures: false\n",
            "2022-06-09 09:32:02,119 INFO mapred.Task:  Using ResourceCalculatorProcessTree : [ ]\n",
            "2022-06-09 09:32:02,123 INFO mapred.ReduceTask: Using ShuffleConsumerPlugin: org.apache.hadoop.mapreduce.task.reduce.Shuffle@2b25877d\n",
            "2022-06-09 09:32:02,124 WARN impl.MetricsSystemImpl: JobTracker metrics system already initialized!\n",
            "2022-06-09 09:32:02,144 INFO reduce.MergeManagerImpl: MergerManager: memoryLimit=2119434240, maxSingleShuffleLimit=529858560, mergeThreshold=1398826624, ioSortFactor=10, memToMemMergeOutputsThreshold=10\n",
            "2022-06-09 09:32:02,148 INFO reduce.EventFetcher: attempt_local1060179129_0001_r_000000_0 Thread started: EventFetcher for fetching Map Completion Events\n",
            "2022-06-09 09:32:02,178 INFO reduce.LocalFetcher: localfetcher#1 about to shuffle output of map attempt_local1060179129_0001_m_000000_0 decomp: 24 len: 28 to MEMORY\n",
            "2022-06-09 09:32:02,181 INFO reduce.InMemoryMapOutput: Read 24 bytes from map-output for attempt_local1060179129_0001_m_000000_0\n",
            "2022-06-09 09:32:02,181 INFO reduce.MergeManagerImpl: closeInMemoryFile -> map-output of size: 24, inMemoryMapOutputs.size() -> 1, commitMemory -> 0, usedMemory ->24\n",
            "2022-06-09 09:32:02,183 INFO reduce.LocalFetcher: localfetcher#1 about to shuffle output of map attempt_local1060179129_0001_m_000006_0 decomp: 24 len: 28 to MEMORY\n",
            "2022-06-09 09:32:02,185 INFO reduce.InMemoryMapOutput: Read 24 bytes from map-output for attempt_local1060179129_0001_m_000006_0\n",
            "2022-06-09 09:32:02,185 INFO reduce.MergeManagerImpl: closeInMemoryFile -> map-output of size: 24, inMemoryMapOutputs.size() -> 2, commitMemory -> 24, usedMemory ->48\n",
            "2022-06-09 09:32:02,186 INFO reduce.LocalFetcher: localfetcher#1 about to shuffle output of map attempt_local1060179129_0001_m_000007_0 decomp: 24 len: 28 to MEMORY\n",
            "2022-06-09 09:32:02,186 INFO reduce.InMemoryMapOutput: Read 24 bytes from map-output for attempt_local1060179129_0001_m_000007_0\n",
            "2022-06-09 09:32:02,186 INFO reduce.MergeManagerImpl: closeInMemoryFile -> map-output of size: 24, inMemoryMapOutputs.size() -> 3, commitMemory -> 48, usedMemory ->72\n",
            "2022-06-09 09:32:02,187 INFO reduce.LocalFetcher: localfetcher#1 about to shuffle output of map attempt_local1060179129_0001_m_000013_0 decomp: 24 len: 28 to MEMORY\n",
            "2022-06-09 09:32:02,188 INFO reduce.InMemoryMapOutput: Read 24 bytes from map-output for attempt_local1060179129_0001_m_000013_0\n",
            "2022-06-09 09:32:02,188 INFO reduce.MergeManagerImpl: closeInMemoryFile -> map-output of size: 24, inMemoryMapOutputs.size() -> 4, commitMemory -> 72, usedMemory ->96\n",
            "2022-06-09 09:32:02,189 INFO reduce.LocalFetcher: localfetcher#1 about to shuffle output of map attempt_local1060179129_0001_m_000008_0 decomp: 24 len: 28 to MEMORY\n",
            "2022-06-09 09:32:02,190 INFO reduce.InMemoryMapOutput: Read 24 bytes from map-output for attempt_local1060179129_0001_m_000008_0\n",
            "2022-06-09 09:32:02,190 INFO reduce.MergeManagerImpl: closeInMemoryFile -> map-output of size: 24, inMemoryMapOutputs.size() -> 5, commitMemory -> 96, usedMemory ->120\n",
            "2022-06-09 09:32:02,191 INFO reduce.LocalFetcher: localfetcher#1 about to shuffle output of map attempt_local1060179129_0001_m_000014_0 decomp: 24 len: 28 to MEMORY\n",
            "2022-06-09 09:32:02,191 INFO reduce.InMemoryMapOutput: Read 24 bytes from map-output for attempt_local1060179129_0001_m_000014_0\n",
            "2022-06-09 09:32:02,192 INFO reduce.MergeManagerImpl: closeInMemoryFile -> map-output of size: 24, inMemoryMapOutputs.size() -> 6, commitMemory -> 120, usedMemory ->144\n",
            "2022-06-09 09:32:02,193 INFO reduce.LocalFetcher: localfetcher#1 about to shuffle output of map attempt_local1060179129_0001_m_000001_0 decomp: 24 len: 28 to MEMORY\n",
            "2022-06-09 09:32:02,193 INFO reduce.InMemoryMapOutput: Read 24 bytes from map-output for attempt_local1060179129_0001_m_000001_0\n",
            "2022-06-09 09:32:02,193 INFO reduce.MergeManagerImpl: closeInMemoryFile -> map-output of size: 24, inMemoryMapOutputs.size() -> 7, commitMemory -> 144, usedMemory ->168\n",
            "2022-06-09 09:32:02,194 INFO reduce.LocalFetcher: localfetcher#1 about to shuffle output of map attempt_local1060179129_0001_m_000015_0 decomp: 24 len: 28 to MEMORY\n",
            "2022-06-09 09:32:02,194 INFO reduce.InMemoryMapOutput: Read 24 bytes from map-output for attempt_local1060179129_0001_m_000015_0\n",
            "2022-06-09 09:32:02,194 INFO reduce.MergeManagerImpl: closeInMemoryFile -> map-output of size: 24, inMemoryMapOutputs.size() -> 8, commitMemory -> 168, usedMemory ->192\n",
            "2022-06-09 09:32:02,195 INFO reduce.LocalFetcher: localfetcher#1 about to shuffle output of map attempt_local1060179129_0001_m_000002_0 decomp: 24 len: 28 to MEMORY\n",
            "2022-06-09 09:32:02,196 INFO reduce.InMemoryMapOutput: Read 24 bytes from map-output for attempt_local1060179129_0001_m_000002_0\n",
            "2022-06-09 09:32:02,196 INFO reduce.MergeManagerImpl: closeInMemoryFile -> map-output of size: 24, inMemoryMapOutputs.size() -> 9, commitMemory -> 192, usedMemory ->216\n",
            "2022-06-09 09:32:02,197 INFO reduce.LocalFetcher: localfetcher#1 about to shuffle output of map attempt_local1060179129_0001_m_000003_0 decomp: 24 len: 28 to MEMORY\n",
            "2022-06-09 09:32:02,198 INFO reduce.InMemoryMapOutput: Read 24 bytes from map-output for attempt_local1060179129_0001_m_000003_0\n",
            "2022-06-09 09:32:02,198 INFO reduce.MergeManagerImpl: closeInMemoryFile -> map-output of size: 24, inMemoryMapOutputs.size() -> 10, commitMemory -> 216, usedMemory ->240\n",
            "2022-06-09 09:32:02,199 INFO reduce.LocalFetcher: localfetcher#1 about to shuffle output of map attempt_local1060179129_0001_m_000009_0 decomp: 24 len: 28 to MEMORY\n",
            "2022-06-09 09:32:02,199 INFO reduce.InMemoryMapOutput: Read 24 bytes from map-output for attempt_local1060179129_0001_m_000009_0\n",
            "2022-06-09 09:32:02,199 INFO reduce.MergeManagerImpl: closeInMemoryFile -> map-output of size: 24, inMemoryMapOutputs.size() -> 11, commitMemory -> 240, usedMemory ->264\n",
            "2022-06-09 09:32:02,200 INFO reduce.LocalFetcher: localfetcher#1 about to shuffle output of map attempt_local1060179129_0001_m_000004_0 decomp: 24 len: 28 to MEMORY\n",
            "2022-06-09 09:32:02,200 INFO reduce.InMemoryMapOutput: Read 24 bytes from map-output for attempt_local1060179129_0001_m_000004_0\n",
            "2022-06-09 09:32:02,200 INFO reduce.MergeManagerImpl: closeInMemoryFile -> map-output of size: 24, inMemoryMapOutputs.size() -> 12, commitMemory -> 264, usedMemory ->288\n",
            "2022-06-09 09:32:02,201 INFO reduce.LocalFetcher: localfetcher#1 about to shuffle output of map attempt_local1060179129_0001_m_000010_0 decomp: 24 len: 28 to MEMORY\n",
            "2022-06-09 09:32:02,202 INFO reduce.InMemoryMapOutput: Read 24 bytes from map-output for attempt_local1060179129_0001_m_000010_0\n",
            "2022-06-09 09:32:02,202 INFO reduce.MergeManagerImpl: closeInMemoryFile -> map-output of size: 24, inMemoryMapOutputs.size() -> 13, commitMemory -> 288, usedMemory ->312\n",
            "2022-06-09 09:32:02,203 INFO reduce.LocalFetcher: localfetcher#1 about to shuffle output of map attempt_local1060179129_0001_m_000011_0 decomp: 24 len: 28 to MEMORY\n",
            "2022-06-09 09:32:02,203 INFO reduce.InMemoryMapOutput: Read 24 bytes from map-output for attempt_local1060179129_0001_m_000011_0\n",
            "2022-06-09 09:32:02,203 INFO reduce.MergeManagerImpl: closeInMemoryFile -> map-output of size: 24, inMemoryMapOutputs.size() -> 14, commitMemory -> 312, usedMemory ->336\n",
            "2022-06-09 09:32:02,204 INFO reduce.LocalFetcher: localfetcher#1 about to shuffle output of map attempt_local1060179129_0001_m_000012_0 decomp: 24 len: 28 to MEMORY\n",
            "2022-06-09 09:32:02,205 INFO reduce.InMemoryMapOutput: Read 24 bytes from map-output for attempt_local1060179129_0001_m_000012_0\n",
            "2022-06-09 09:32:02,205 INFO reduce.MergeManagerImpl: closeInMemoryFile -> map-output of size: 24, inMemoryMapOutputs.size() -> 15, commitMemory -> 336, usedMemory ->360\n",
            "2022-06-09 09:32:02,206 INFO reduce.LocalFetcher: localfetcher#1 about to shuffle output of map attempt_local1060179129_0001_m_000005_0 decomp: 24 len: 28 to MEMORY\n",
            "2022-06-09 09:32:02,206 INFO reduce.InMemoryMapOutput: Read 24 bytes from map-output for attempt_local1060179129_0001_m_000005_0\n",
            "2022-06-09 09:32:02,206 INFO reduce.MergeManagerImpl: closeInMemoryFile -> map-output of size: 24, inMemoryMapOutputs.size() -> 16, commitMemory -> 360, usedMemory ->384\n",
            "2022-06-09 09:32:02,206 INFO reduce.EventFetcher: EventFetcher is interrupted.. Returning\n",
            "2022-06-09 09:32:02,207 INFO mapred.LocalJobRunner: 16 / 16 copied.\n",
            "2022-06-09 09:32:02,207 INFO reduce.MergeManagerImpl: finalMerge called with 16 in-memory map-outputs and 0 on-disk map-outputs\n",
            "2022-06-09 09:32:02,214 INFO mapred.Merger: Merging 16 sorted segments\n",
            "2022-06-09 09:32:02,215 INFO mapred.Merger: Down to the last merge-pass, with 16 segments left of total size: 336 bytes\n",
            "2022-06-09 09:32:02,216 INFO reduce.MergeManagerImpl: Merged 16 segments, 384 bytes to disk to satisfy reduce memory limit\n",
            "2022-06-09 09:32:02,216 INFO reduce.MergeManagerImpl: Merging 1 files, 358 bytes from disk\n",
            "2022-06-09 09:32:02,217 INFO reduce.MergeManagerImpl: Merging 0 segments, 0 bytes from memory into reduce\n",
            "2022-06-09 09:32:02,217 INFO mapred.Merger: Merging 1 sorted segments\n",
            "2022-06-09 09:32:02,217 INFO mapred.Merger: Down to the last merge-pass, with 1 segments left of total size: 351 bytes\n",
            "2022-06-09 09:32:02,218 INFO mapred.LocalJobRunner: 16 / 16 copied.\n",
            "2022-06-09 09:32:02,221 INFO Configuration.deprecation: mapred.skip.on is deprecated. Instead, use mapreduce.job.skiprecords\n",
            "2022-06-09 09:32:02,229 INFO mapred.Task: Task:attempt_local1060179129_0001_r_000000_0 is done. And is in the process of committing\n",
            "2022-06-09 09:32:02,230 INFO mapred.LocalJobRunner: 16 / 16 copied.\n",
            "2022-06-09 09:32:02,230 INFO mapred.Task: Task attempt_local1060179129_0001_r_000000_0 is allowed to commit now\n",
            "2022-06-09 09:32:02,231 INFO output.FileOutputCommitter: Saved output of task 'attempt_local1060179129_0001_r_000000_0' to file:/content/QuasiMonteCarlo_1654767119093_1677848563/out\n",
            "2022-06-09 09:32:02,232 INFO mapred.LocalJobRunner: reduce > reduce\n",
            "2022-06-09 09:32:02,232 INFO mapred.Task: Task 'attempt_local1060179129_0001_r_000000_0' done.\n",
            "2022-06-09 09:32:02,232 INFO mapred.Task: Final Counters for attempt_local1060179129_0001_r_000000_0: Counters: 24\n",
            "\tFile System Counters\n",
            "\t\tFILE: Number of bytes read=305780\n",
            "\t\tFILE: Number of bytes written=925074\n",
            "\t\tFILE: Number of read operations=0\n",
            "\t\tFILE: Number of large read operations=0\n",
            "\t\tFILE: Number of write operations=0\n",
            "\tMap-Reduce Framework\n",
            "\t\tCombine input records=0\n",
            "\t\tCombine output records=0\n",
            "\t\tReduce input groups=2\n",
            "\t\tReduce shuffle bytes=448\n",
            "\t\tReduce input records=32\n",
            "\t\tReduce output records=0\n",
            "\t\tSpilled Records=32\n",
            "\t\tShuffled Maps =16\n",
            "\t\tFailed Shuffles=0\n",
            "\t\tMerged Map outputs=16\n",
            "\t\tGC time elapsed (ms)=0\n",
            "\t\tTotal committed heap usage (bytes)=1839202304\n",
            "\tShuffle Errors\n",
            "\t\tBAD_ID=0\n",
            "\t\tCONNECTION=0\n",
            "\t\tIO_ERROR=0\n",
            "\t\tWRONG_LENGTH=0\n",
            "\t\tWRONG_MAP=0\n",
            "\t\tWRONG_REDUCE=0\n",
            "\tFile Output Format Counters \n",
            "\t\tBytes Written=109\n",
            "2022-06-09 09:32:02,232 INFO mapred.LocalJobRunner: Finishing task: attempt_local1060179129_0001_r_000000_0\n",
            "2022-06-09 09:32:02,232 INFO mapred.LocalJobRunner: reduce task executor complete.\n",
            "2022-06-09 09:32:02,478 INFO mapreduce.Job:  map 100% reduce 100%\n",
            "2022-06-09 09:32:02,479 INFO mapreduce.Job: Job job_local1060179129_0001 completed successfully\n",
            "2022-06-09 09:32:02,497 INFO mapreduce.Job: Counters: 30\n",
            "\tFile System Counters\n",
            "\t\tFILE: Number of bytes read=5044012\n",
            "\t\tFILE: Number of bytes written=15709506\n",
            "\t\tFILE: Number of read operations=0\n",
            "\t\tFILE: Number of large read operations=0\n",
            "\t\tFILE: Number of write operations=0\n",
            "\tMap-Reduce Framework\n",
            "\t\tMap input records=16\n",
            "\t\tMap output records=32\n",
            "\t\tMap output bytes=288\n",
            "\t\tMap output materialized bytes=448\n",
            "\t\tInput split bytes=2054\n",
            "\t\tCombine input records=0\n",
            "\t\tCombine output records=0\n",
            "\t\tReduce input groups=2\n",
            "\t\tReduce shuffle bytes=448\n",
            "\t\tReduce input records=32\n",
            "\t\tReduce output records=0\n",
            "\t\tSpilled Records=64\n",
            "\t\tShuffled Maps =16\n",
            "\t\tFailed Shuffles=0\n",
            "\t\tMerged Map outputs=16\n",
            "\t\tGC time elapsed (ms)=22\n",
            "\t\tTotal committed heap usage (bytes)=18620612608\n",
            "\tShuffle Errors\n",
            "\t\tBAD_ID=0\n",
            "\t\tCONNECTION=0\n",
            "\t\tIO_ERROR=0\n",
            "\t\tWRONG_LENGTH=0\n",
            "\t\tWRONG_MAP=0\n",
            "\t\tWRONG_REDUCE=0\n",
            "\tFile Input Format Counters \n",
            "\t\tBytes Read=2080\n",
            "\tFile Output Format Counters \n",
            "\t\tBytes Written=109\n",
            "Job Finished in 2.766 seconds\n",
            "Estimated value of Pi is 3.14157500000000000000\n"
          ]
        }
      ]
    },
    {
      "cell_type": "markdown",
      "metadata": {
        "id": "zHwLU0Uo3tLo"
      },
      "source": [
        "#Install HBase"
      ]
    },
    {
      "cell_type": "code",
      "metadata": {
        "colab": {
          "base_uri": "https://localhost:8080/"
        },
        "id": "bODP1xaM3vEB",
        "outputId": "d8f9bc3c-a155-4700-a936-a1138e96eea7"
      },
      "source": [
        "# Get the latest HBase download site from here https://www.apache.org/dyn/closer.lua/hbase/\n",
        "# or even better check here for latest downloads >>> https://downloads.apache.org/hbase/\n",
        "#!wget https://mirrors.estointernet.in/apache/hbase/2.4.5/hbase-2.4.5-bin.tar.gz\n",
        "#!wget https://mirrors.estointernet.in/apache/hbase/2.4.8/hbase-2.4.8-bin.tar.gz\n",
        "#!wget https://downloads.apache.org/hbase/2.4.9/hbase-2.4.9-bin.tar.gz\n",
        "!wget https://downloads.apache.org/hbase/2.4.12/hbase-2.4.12-bin.tar.gz\n",
        "#!tar xzf hbase-2.4.5-bin.tar.gz\n",
        "#!tar xzf hbase-2.4.8-bin.tar.gz\n",
        "#!tar xzf hbase-2.4.9-bin.tar.gz\n",
        "!tar xzf hbase-2.4.12-bin.tar.gz"
      ],
      "execution_count": 8,
      "outputs": [
        {
          "output_type": "stream",
          "name": "stdout",
          "text": [
            "--2022-06-09 09:32:11--  https://downloads.apache.org/hbase/2.4.12/hbase-2.4.12-bin.tar.gz\n",
            "Resolving downloads.apache.org (downloads.apache.org)... 88.99.95.219, 135.181.214.104, 2a01:4f8:10a:201a::2, ...\n",
            "Connecting to downloads.apache.org (downloads.apache.org)|88.99.95.219|:443... connected.\n",
            "HTTP request sent, awaiting response... 200 OK\n",
            "Length: 283605397 (270M) [application/x-gzip]\n",
            "Saving to: ‘hbase-2.4.12-bin.tar.gz’\n",
            "\n",
            "hbase-2.4.12-bin.ta 100%[===================>] 270.47M  18.7MB/s    in 15s     \n",
            "\n",
            "2022-06-09 09:32:27 (18.0 MB/s) - ‘hbase-2.4.12-bin.tar.gz’ saved [283605397/283605397]\n",
            "\n"
          ]
        }
      ]
    },
    {
      "cell_type": "markdown",
      "metadata": {
        "id": "kaMtyNOVCiMS"
      },
      "source": [
        "## Set HBase Environment"
      ]
    },
    {
      "cell_type": "code",
      "metadata": {
        "colab": {
          "base_uri": "https://localhost:8080/"
        },
        "id": "p4dc0K7h4f-y",
        "outputId": "65481a4a-de17-4a8e-c89a-0e52b854ff34"
      },
      "source": [
        "#os.environ[\"HIVE_HOME\"] = \"/content/apache-hive-3.1.2-bin\"\n",
        "#!echo $HIVE_HOME\n",
        "#os.environ[\"HBASE_HOME\"] = \"/content/hbase-2.4.5/\"\n",
        "#os.environ[\"HBASE_HOME\"] = \"/content/hbase-2.4.8/\"\n",
        "#os.environ[\"HBASE_HOME\"] = \"/content/hbase-2.4.9/\"\n",
        "os.environ[\"HBASE_HOME\"] = \"/content/hbase-2.4.12/\"\n",
        "!echo $HBASE_HOME"
      ],
      "execution_count": 9,
      "outputs": [
        {
          "output_type": "stream",
          "name": "stdout",
          "text": [
            "/content/hbase-2.4.12/\n"
          ]
        }
      ]
    },
    {
      "cell_type": "code",
      "metadata": {
        "colab": {
          "base_uri": "https://localhost:8080/"
        },
        "id": "LrLGC7ln5Wwx",
        "outputId": "34332041-d228-45ca-9e11-5e7d4ab724a4"
      },
      "source": [
        "!echo $PATH"
      ],
      "execution_count": 10,
      "outputs": [
        {
          "output_type": "stream",
          "name": "stdout",
          "text": [
            "/opt/bin:/usr/local/nvidia/bin:/usr/local/cuda/bin:/usr/local/sbin:/usr/local/bin:/usr/sbin:/usr/bin:/sbin:/bin:/tools/node/bin:/tools/google-cloud-sdk/bin:/usr/local/hadoop-3.3.3/bin/\n"
          ]
        }
      ]
    },
    {
      "cell_type": "code",
      "metadata": {
        "colab": {
          "base_uri": "https://localhost:8080/"
        },
        "id": "DqXZ_kF65VXK",
        "outputId": "aa16b5f8-c0ca-4388-f0fd-5c8ed133f8c8"
      },
      "source": [
        "# current_path taken from command in previous cell\n",
        "current_path = '/opt/bin:/usr/local/nvidia/bin:/usr/local/cuda/bin:/usr/local/sbin:/usr/local/bin:/usr/sbin:/usr/bin:/sbin:/bin:/tools/node/bin:/tools/google-cloud-sdk/bin:/usr/local/hadoop-3.3.3/bin/'\n",
        "#new_path = current_path+':/content/hbase-2.4.5/bin'\n",
        "#new_path = current_path+':/content/hbase-2.4.8/bin'\n",
        "#new_path = current_path+':/content/hbase-2.4.9/bin'\n",
        "new_path = current_path+':/content/hbase-2.4.12/bin'\n",
        "os.environ[\"PATH\"] = new_path\n",
        "!echo $PATH"
      ],
      "execution_count": 11,
      "outputs": [
        {
          "output_type": "stream",
          "name": "stdout",
          "text": [
            "/opt/bin:/usr/local/nvidia/bin:/usr/local/cuda/bin:/usr/local/sbin:/usr/local/bin:/usr/sbin:/usr/bin:/sbin:/bin:/tools/node/bin:/tools/google-cloud-sdk/bin:/usr/local/hadoop-3.3.3/bin/:/content/hbase-2.4.12/bin\n"
          ]
        }
      ]
    },
    {
      "cell_type": "code",
      "metadata": {
        "colab": {
          "base_uri": "https://localhost:8080/"
        },
        "id": "ZrS6BL5k51Bl",
        "outputId": "ce2ddd79-5961-4a2b-ef46-93bbb74ffd89"
      },
      "source": [
        "!echo $JAVA_HOME\n",
        "!echo $HADOOP_HOME\n",
        "!echo $HBASE_HOME"
      ],
      "execution_count": 12,
      "outputs": [
        {
          "output_type": "stream",
          "name": "stdout",
          "text": [
            "/usr/lib/jvm/java-8-openjdk-amd64\n",
            "/usr/local/hadoop-3.3.3/\n",
            "/content/hbase-2.4.12/\n"
          ]
        }
      ]
    },
    {
      "cell_type": "code",
      "metadata": {
        "id": "9kDmgFfh6a12"
      },
      "source": [
        "# the file hbase-site.xml may need to be updated ...\n",
        "# however the default file works well in the simple stand-alone HBase mode\n",
        "# so no need to touch it\n",
        "#!cat $HBASE_HOME/conf/hbase-site.xml"
      ],
      "execution_count": null,
      "outputs": []
    },
    {
      "cell_type": "markdown",
      "metadata": {
        "id": "BWn-DJ1PDbXd"
      },
      "source": [
        "## Some Clean UP\n",
        "Otherwise we get ugly warnings"
      ]
    },
    {
      "cell_type": "code",
      "metadata": {
        "colab": {
          "base_uri": "https://localhost:8080/"
        },
        "id": "bKG7t8sQDj2t",
        "outputId": "a152f663-44a1-4292-a119-ae1f70dfc7bb"
      },
      "source": [
        "# locate multiple instances of slf4j ...\n",
        "!ls $HADOOP_HOME/share/hadoop/common/lib/*slf4j*\n",
        "!ls $HBASE_HOME/lib/*slf4j*"
      ],
      "execution_count": 13,
      "outputs": [
        {
          "output_type": "stream",
          "name": "stdout",
          "text": [
            "/usr/local/hadoop-3.3.3//share/hadoop/common/lib/jul-to-slf4j-1.7.36.jar\n",
            "/usr/local/hadoop-3.3.3//share/hadoop/common/lib/slf4j-api-1.7.36.jar\n",
            "/usr/local/hadoop-3.3.3//share/hadoop/common/lib/slf4j-reload4j-1.7.36.jar\n",
            "/content/hbase-2.4.12//lib/jcl-over-slf4j-1.7.33.jar\n",
            "/content/hbase-2.4.12//lib/jul-to-slf4j-1.7.33.jar\n"
          ]
        }
      ]
    },
    {
      "cell_type": "code",
      "metadata": {
        "id": "6OaOkjD5EOr0"
      },
      "source": [
        "# remove the Hadoop logger out of the path\n",
        "# without this you will get ugly warnings every time\n",
        "#!mv /usr/local/hadoop-3.3.3//share/hadoop/common/lib/slf4j-log4j12-1.7.25.jar .\n",
        "#!mv /usr/local/hadoop-3.3.3//share/hadoop/common/lib/slf4j-api-1.7.36.jar .\n",
        "#!mv /usr/local/hadoop-3.3.3//share/hadoop/common/lib/slf4j-reload4j-1.7.36.jar ."
      ],
      "execution_count": 16,
      "outputs": []
    },
    {
      "cell_type": "code",
      "source": [
        ""
      ],
      "metadata": {
        "id": "C04Du_W-ur15"
      },
      "execution_count": 20,
      "outputs": []
    },
    {
      "cell_type": "markdown",
      "metadata": {
        "id": "uA03iA4XFN_E"
      },
      "source": [
        "## Start HBase server"
      ]
    },
    {
      "cell_type": "code",
      "source": [
        "#!stop-hbase.sh"
      ],
      "metadata": {
        "id": "SOFDd_XCvBET"
      },
      "execution_count": 21,
      "outputs": []
    },
    {
      "cell_type": "code",
      "metadata": {
        "colab": {
          "base_uri": "https://localhost:8080/"
        },
        "id": "GMQHzlCO7MDC",
        "outputId": "336339ad-2fe0-43f8-d229-df3df852d440"
      },
      "source": [
        "!start-hbase.sh"
      ],
      "execution_count": 14,
      "outputs": [
        {
          "output_type": "stream",
          "name": "stdout",
          "text": [
            "SLF4J: Class path contains multiple SLF4J bindings.\n",
            "SLF4J: Found binding in [jar:file:/content/hbase-2.4.12/lib/client-facing-thirdparty/slf4j-reload4j-1.7.33.jar!/org/slf4j/impl/StaticLoggerBinder.class]\n",
            "SLF4J: Found binding in [jar:file:/usr/local/hadoop-3.3.3/share/hadoop/common/lib/slf4j-reload4j-1.7.36.jar!/org/slf4j/impl/StaticLoggerBinder.class]\n",
            "SLF4J: See http://www.slf4j.org/codes.html#multiple_bindings for an explanation.\n",
            "SLF4J: Actual binding is of type [org.slf4j.impl.Reload4jLoggerFactory]\n",
            "running master, logging to /content/hbase-2.4.12//logs/hbase--master-0efe29da3a75.out\n"
          ]
        }
      ]
    },
    {
      "cell_type": "code",
      "metadata": {
        "colab": {
          "base_uri": "https://localhost:8080/"
        },
        "id": "v1imUqpf7apm",
        "outputId": "bc41f25f-965e-4d73-d011-efa70853c5e4"
      },
      "source": [
        "!jps"
      ],
      "execution_count": 15,
      "outputs": [
        {
          "output_type": "stream",
          "name": "stdout",
          "text": [
            "1415 HMaster\n",
            "1801 Jps\n"
          ]
        }
      ]
    },
    {
      "cell_type": "markdown",
      "metadata": {
        "id": "gd6mdgPSFSvB"
      },
      "source": [
        "# Run Hbase Shell"
      ]
    },
    {
      "cell_type": "code",
      "metadata": {
        "colab": {
          "base_uri": "https://localhost:8080/"
        },
        "id": "42DJQfpY7oqe",
        "outputId": "f7c19ca2-ed9b-4768-f8f8-6264210ac73f"
      },
      "source": [
        "# you can enter hbase shell commands at the prompt. Double click on the prompt to open up a input box\n",
        "!hbase shell "
      ],
      "execution_count": 24,
      "outputs": [
        {
          "output_type": "stream",
          "name": "stdout",
          "text": [
            "HBase Shell\n",
            "Use \"help\" to get list of supported commands.\n",
            "Use \"exit\" to quit this interactive shell.\n",
            "For Reference, please visit: http://hbase.apache.org/2.0/book.html#shell\n",
            "Version 2.4.12, r8382f55b15be6ae190f8d202a5e6a40af177ec76, Fri Apr 29 19:34:27 PDT 2022\n",
            "Took 0.0030 seconds                                                             \n",
            "hbase:001:0> exit\n"
          ]
        }
      ]
    },
    {
      "cell_type": "markdown",
      "metadata": {
        "id": "qhuHJF4lH6f6"
      },
      "source": [
        "shell commands  <br>\n",
        "https://www.tutorialspoint.com/hbase/hbase_shell.htm <br>\n",
        "https://www.guru99.com/hbase-shell-general-commands.html <br>\n",
        "better way of passing shell commands are given here"
      ]
    },
    {
      "cell_type": "code",
      "metadata": {
        "colab": {
          "base_uri": "https://localhost:8080/"
        },
        "id": "cQdbisL2GQtE",
        "outputId": "c57c61c6-4506-48a6-fb70-9b39726b94e3"
      },
      "source": [
        "!echo 'status' | hbase shell -n"
      ],
      "execution_count": 16,
      "outputs": [
        {
          "output_type": "stream",
          "name": "stdout",
          "text": [
            "SLF4J: Class path contains multiple SLF4J bindings.\n",
            "SLF4J: Found binding in [jar:file:/content/hbase-2.4.12/lib/client-facing-thirdparty/slf4j-reload4j-1.7.33.jar!/org/slf4j/impl/StaticLoggerBinder.class]\n",
            "SLF4J: Found binding in [jar:file:/usr/local/hadoop-3.3.3/share/hadoop/common/lib/slf4j-reload4j-1.7.36.jar!/org/slf4j/impl/StaticLoggerBinder.class]\n",
            "SLF4J: See http://www.slf4j.org/codes.html#multiple_bindings for an explanation.\n",
            "SLF4J: Actual binding is of type [org.slf4j.impl.Reload4jLoggerFactory]\n",
            "hbase:001:0> status\n",
            "1 active master, 0 backup masters, 1 servers, 0 dead, 2.0000 average load\n",
            "Took 0.8698 seconds                                                             \n",
            "hbase:002:0> \n"
          ]
        }
      ]
    },
    {
      "cell_type": "code",
      "metadata": {
        "id": "0OvCnX8SGkPG"
      },
      "source": [
        "#!echo \"status 'detail'\" | hbase shell -n"
      ],
      "execution_count": null,
      "outputs": []
    },
    {
      "cell_type": "code",
      "metadata": {
        "colab": {
          "base_uri": "https://localhost:8080/"
        },
        "id": "NYhR2DpgIbnU",
        "outputId": "8dd4c6d2-4540-485a-b0b6-3a2210040854"
      },
      "source": [
        "!echo \"whoami\" | hbase shell -n"
      ],
      "execution_count": 26,
      "outputs": [
        {
          "output_type": "stream",
          "name": "stdout",
          "text": [
            "hbase:001:0> whoami\n",
            "root (auth:SIMPLE)\n",
            "    groups: root\n",
            "Took 0.0184 seconds                                                             \n",
            "hbase:002:0> \n"
          ]
        }
      ]
    },
    {
      "cell_type": "markdown",
      "metadata": {
        "id": "psoYaCFmAItK"
      },
      "source": [
        "## Simple Tutorial\n",
        "command line tutorial https://akbarahmed.com/2012/08/13/hbase-command-line-tutorial/"
      ]
    },
    {
      "cell_type": "code",
      "metadata": {
        "colab": {
          "base_uri": "https://localhost:8080/"
        },
        "id": "vG4pok6AJu0V",
        "outputId": "f5eb4366-153a-450e-b639-85d50bdb2cf4"
      },
      "source": [
        "!echo \"create 'table1', 'columnfamily1'\" | hbase shell -n"
      ],
      "execution_count": 27,
      "outputs": [
        {
          "output_type": "stream",
          "name": "stdout",
          "text": [
            "hbase:001:0> create 'table1', 'columnfamily1'\n",
            "Created table table1\n",
            "Took 1.5436 seconds                                                             \n",
            "=> Hbase::Table - table1\n",
            "hbase:002:0> \n"
          ]
        }
      ]
    },
    {
      "cell_type": "code",
      "metadata": {
        "colab": {
          "base_uri": "https://localhost:8080/"
        },
        "id": "Mb26zNcdKJpC",
        "outputId": "265f4007-8228-430f-ae1e-dec2eea4e805"
      },
      "source": [
        "!echo \"list\" | hbase shell -n"
      ],
      "execution_count": 28,
      "outputs": [
        {
          "output_type": "stream",
          "name": "stdout",
          "text": [
            "hbase:001:0> list\n",
            "TABLE                                                                           \n",
            "table1                                                                          \n",
            "1 row(s)\n",
            "Took 0.7780 seconds                                                             \n",
            "=> [\"table1\"]\n",
            "hbase:002:0> \n"
          ]
        }
      ]
    },
    {
      "cell_type": "code",
      "metadata": {
        "colab": {
          "base_uri": "https://localhost:8080/"
        },
        "id": "xb9m6ahLKxDK",
        "outputId": "a4e7a795-3553-49c9-d594-e6c017f377d9"
      },
      "source": [
        "!echo \"create 'cars', 'vi'\" | hbase shell -n"
      ],
      "execution_count": 29,
      "outputs": [
        {
          "output_type": "stream",
          "name": "stdout",
          "text": [
            "hbase:001:0> create 'cars', 'vi'\n",
            "Created table cars\n",
            "Took 1.9734 seconds                                                             \n",
            "=> Hbase::Table - cars\n",
            "hbase:002:0> \n"
          ]
        }
      ]
    },
    {
      "cell_type": "code",
      "metadata": {
        "colab": {
          "base_uri": "https://localhost:8080/"
        },
        "id": "InyhsYkXK_j9",
        "outputId": "8aa5b5aa-8dd0-43b1-9538-f2939ec50fe6"
      },
      "source": [
        "!echo \"list\" | hbase shell -n"
      ],
      "execution_count": 30,
      "outputs": [
        {
          "output_type": "stream",
          "name": "stdout",
          "text": [
            "hbase:001:0> list\n",
            "TABLE                                                                           \n",
            "cars                                                                            \n",
            "table1                                                                          \n",
            "2 row(s)\n",
            "Took 0.7593 seconds                                                             \n",
            "=> [\"cars\", \"table1\"]\n",
            "hbase:002:0> \n"
          ]
        }
      ]
    },
    {
      "cell_type": "code",
      "metadata": {
        "colab": {
          "base_uri": "https://localhost:8080/"
        },
        "id": "L1ktyGL5LHG7",
        "outputId": "7377dc4c-68c9-4534-f787-5a3741d7e44e"
      },
      "source": [
        "# add ONE row\n",
        "# nearly THREE seconds per row ... what will you do with a million rows? wait for bulk loader\n",
        "!echo \"put 'cars', 'row1', 'vi:make', 'bmw'\" | hbase shell -n\n",
        "!echo \"put 'cars', 'row1', 'vi:model', '5 series'\" | hbase shell -n\n",
        "!echo \"put 'cars', 'row1', 'vi:year', '2012'\" | hbase shell -n"
      ],
      "execution_count": 31,
      "outputs": [
        {
          "output_type": "stream",
          "name": "stdout",
          "text": [
            "hbase:001:0> put 'cars', 'row1', 'vi:make', 'bmw'\n",
            "Took 1.0632 seconds                                                             \n",
            "hbase:002:0> \n",
            "hbase:001:0> put 'cars', 'row1', 'vi:model', '5 series'\n",
            "Took 0.9659 seconds                                                             \n",
            "hbase:002:0> \n",
            "hbase:001:0> put 'cars', 'row1', 'vi:year', '2012'\n",
            "Took 0.8001 seconds                                                             \n",
            "hbase:002:0> \n"
          ]
        }
      ]
    },
    {
      "cell_type": "code",
      "metadata": {
        "colab": {
          "base_uri": "https://localhost:8080/"
        },
        "id": "aDyHCB9_MsUy",
        "outputId": "4d7d6004-629a-4c29-ae16-0141eed660a2"
      },
      "source": [
        "%%time\n",
        "# add ONE row\n",
        "!echo \"put 'cars', 'row2', 'vi:make', 'mercedes'\" | hbase shell -n\n",
        "!echo \"put 'cars', 'row2', 'vi:model', 'e class'\" | hbase shell -n\n",
        "!echo \"put 'cars', 'row2', 'vi:year', '2012'\" | hbase shell -n"
      ],
      "execution_count": null,
      "outputs": [
        {
          "output_type": "stream",
          "name": "stdout",
          "text": [
            "Took 0.9319 seconds                                                             \n",
            "\n",
            "Took 0.7347 seconds                                                             \n",
            "\n",
            "Took 0.9142 seconds                                                             \n",
            "\n"
          ]
        }
      ]
    },
    {
      "cell_type": "code",
      "metadata": {
        "colab": {
          "base_uri": "https://localhost:8080/"
        },
        "id": "YJ2RISDNN1gT",
        "outputId": "73864f95-2070-45d7-f3a7-327dafef05b5"
      },
      "source": [
        "%%time\n",
        "!echo \"scan 'cars'\" | hbase shell -n"
      ],
      "execution_count": 32,
      "outputs": [
        {
          "output_type": "stream",
          "name": "stdout",
          "text": [
            "hbase:001:0> scan 'cars'\n",
            "ROW                   COLUMN+CELL                                               \n",
            " row1                 column=vi:make, timestamp=2022-06-09T09:16:52.392, value=b\n",
            "                      mw                                                        \n",
            " row1                 column=vi:model, timestamp=2022-06-09T09:18:11.887, value=\n",
            "                      5 series                                                  \n",
            " row1                 column=vi:year, timestamp=2022-06-09T09:19:31.849, value=2\n",
            "                      012                                                       \n",
            "1 row(s)\n",
            "Took 0.7886 seconds                                                             \n",
            "hbase:002:0> \n",
            "CPU times: user 541 ms, sys: 79.1 ms, total: 620 ms\n",
            "Wall time: 1min 19s\n"
          ]
        }
      ]
    },
    {
      "cell_type": "code",
      "metadata": {
        "colab": {
          "base_uri": "https://localhost:8080/"
        },
        "id": "sMadzGtQOVpM",
        "outputId": "823e264e-7770-42c9-bfed-39add34d2896"
      },
      "source": [
        "!echo \"scan 'cars', {COLUMNS => ['vi:make']}\" | hbase shell -n"
      ],
      "execution_count": null,
      "outputs": [
        {
          "output_type": "stream",
          "name": "stdout",
          "text": [
            "ROW                   COLUMN+CELL                                               \n",
            " row1                 column=vi:make, timestamp=2021-11-24T04:18:12.087, value=b\n",
            "                      mw                                                        \n",
            " row2                 column=vi:make, timestamp=2021-11-24T04:21:58.589, value=m\n",
            "                      ercedes                                                   \n",
            "2 row(s)\n",
            "Took 0.8018 seconds                                                             \n",
            "\n"
          ]
        }
      ]
    },
    {
      "cell_type": "code",
      "source": [
        "!echo \"get 'cars', 'row1'\"| hbase shell -n"
      ],
      "metadata": {
        "id": "SDVs9Yux2YPu",
        "outputId": "286f4ce0-357a-4a67-eb83-622eebd83720",
        "colab": {
          "base_uri": "https://localhost:8080/"
        }
      },
      "execution_count": null,
      "outputs": [
        {
          "output_type": "stream",
          "name": "stdout",
          "text": [
            "COLUMN                CELL                                                      \n",
            " vi:make              timestamp=2022-01-14T04:11:02.984, value=bmw              \n",
            " vi:model             timestamp=2022-01-14T04:12:17.633, value=5 series         \n",
            " vi:year              timestamp=2022-01-14T04:13:32.015, value=2012             \n",
            "1 row(s)\n",
            "Took 1.0586 seconds                                                             \n",
            "\n"
          ]
        }
      ]
    },
    {
      "cell_type": "code",
      "source": [
        "!echo \"get 'cars', 'row1', 'vi:make' \"| hbase shell -n"
      ],
      "metadata": {
        "id": "2F0-Eps93FxF",
        "outputId": "218f0cab-d403-4d80-e20d-bbec6863b922",
        "colab": {
          "base_uri": "https://localhost:8080/"
        }
      },
      "execution_count": null,
      "outputs": [
        {
          "output_type": "stream",
          "name": "stdout",
          "text": [
            "COLUMN                CELL                                                      \n",
            " vi:make              timestamp=2022-01-14T04:11:02.984, value=bmw              \n",
            "1 row(s)\n",
            "Took 1.0870 seconds                                                             \n",
            "\n"
          ]
        }
      ]
    },
    {
      "cell_type": "markdown",
      "source": [
        "### Versioning"
      ],
      "metadata": {
        "id": "TI4nTpqu9xtz"
      }
    },
    {
      "cell_type": "code",
      "source": [
        "# add the same row a second time\n",
        "!echo \"put 'cars', 'row1', 'vi:make', 'bmw-v2'\" | hbase shell -n"
      ],
      "metadata": {
        "id": "5jK9-93r30Dp",
        "outputId": "fb0c578e-33a1-4f85-fea1-1530460217c1",
        "colab": {
          "base_uri": "https://localhost:8080/"
        }
      },
      "execution_count": null,
      "outputs": [
        {
          "output_type": "stream",
          "name": "stdout",
          "text": [
            "Took 0.9879 seconds                                                             \n",
            "\n"
          ]
        }
      ]
    },
    {
      "cell_type": "code",
      "source": [
        "!echo \"get 'cars', 'row1', 'vi:make' \"| hbase shell -n"
      ],
      "metadata": {
        "id": "uVo7y5sx4Psd",
        "outputId": "8323a347-4d3a-4388-e042-d4031f74e49c",
        "colab": {
          "base_uri": "https://localhost:8080/"
        }
      },
      "execution_count": null,
      "outputs": [
        {
          "output_type": "stream",
          "name": "stdout",
          "text": [
            "COLUMN                CELL                                                      \n",
            " vi:make              timestamp=2022-01-14T04:37:03.533, value=bmw-v2           \n",
            "1 row(s)\n",
            "Took 1.0824 seconds                                                             \n",
            "\n"
          ]
        }
      ]
    },
    {
      "cell_type": "code",
      "source": [
        "!echo \"get 'cars', 'row1',  {COLUMN => 'vi:make', VERSIONS => 2} \"| hbase shell -n"
      ],
      "metadata": {
        "id": "HwG3kO_P4u_G",
        "outputId": "523a9079-5f26-4555-f6b7-07fefbee9633",
        "colab": {
          "base_uri": "https://localhost:8080/"
        }
      },
      "execution_count": null,
      "outputs": [
        {
          "output_type": "stream",
          "name": "stdout",
          "text": [
            "COLUMN                CELL                                                      \n",
            " vi:make              timestamp=2022-01-14T04:37:03.533, value=bmw-v2           \n",
            "1 row(s)\n",
            "Took 0.8776 seconds                                                             \n",
            "\n"
          ]
        }
      ]
    },
    {
      "cell_type": "code",
      "source": [
        "# versioning is not setup by default\n",
        "! echo \"alter 'cars', NAME=>'vi', VERSIONS=>3\" | hbase shell -n"
      ],
      "metadata": {
        "id": "WfE76SyV8ppK",
        "outputId": "01ddbcc6-61df-48bc-c49d-7aa2bb602636",
        "colab": {
          "base_uri": "https://localhost:8080/"
        }
      },
      "execution_count": null,
      "outputs": [
        {
          "output_type": "stream",
          "name": "stdout",
          "text": [
            "Updating all regions with the new schema...\n",
            "1/1 regions updated.\n",
            "Done.\n",
            "Took 2.7625 seconds                                                             \n",
            "\n"
          ]
        }
      ]
    },
    {
      "cell_type": "code",
      "source": [
        "# add the same row a third time\n",
        "!echo \"put 'cars', 'row1', 'vi:make', 'bmw-v3'\" | hbase shell -n"
      ],
      "metadata": {
        "id": "cn6iZqLo89DT",
        "outputId": "fe6eb6c2-e7a6-403a-e5d9-7c2ba02f3806",
        "colab": {
          "base_uri": "https://localhost:8080/"
        }
      },
      "execution_count": null,
      "outputs": [
        {
          "output_type": "stream",
          "name": "stdout",
          "text": [
            "Took 0.9044 seconds                                                             \n",
            "\n"
          ]
        }
      ]
    },
    {
      "cell_type": "code",
      "source": [
        "!echo \"get 'cars', 'row1',  {COLUMN => 'vi:make', VERSIONS => 2} \"| hbase shell -n"
      ],
      "metadata": {
        "id": "IIeysAjZ9Z9-",
        "outputId": "bbbddfd2-58b7-436c-fc52-7ce26af72613",
        "colab": {
          "base_uri": "https://localhost:8080/"
        }
      },
      "execution_count": null,
      "outputs": [
        {
          "output_type": "stream",
          "name": "stdout",
          "text": [
            "COLUMN                CELL                                                      \n",
            " vi:make              timestamp=2022-01-14T04:59:31.830, value=bmw-v3           \n",
            " vi:make              timestamp=2022-01-14T04:37:03.533, value=bmw-v2           \n",
            "1 row(s)\n",
            "Took 0.9090 seconds                                                             \n",
            "\n"
          ]
        }
      ]
    },
    {
      "cell_type": "code",
      "metadata": {
        "colab": {
          "base_uri": "https://localhost:8080/"
        },
        "id": "KBFVcL95PgSB",
        "outputId": "8631f35a-df21-4ca8-9c9b-3f2bba847ac6"
      },
      "source": [
        "!echo \"disable 'cars'\" | hbase shell -n\n",
        "!echo \"drop 'cars'\" | hbase shell -n"
      ],
      "execution_count": null,
      "outputs": [
        {
          "output_type": "stream",
          "name": "stdout",
          "text": [
            "Took 1.2346 seconds                                                             \n",
            "\n",
            "Took 1.1423 seconds                                                             \n",
            "\n"
          ]
        }
      ]
    },
    {
      "cell_type": "markdown",
      "metadata": {
        "id": "EztkGD3HPYhb"
      },
      "source": [
        "#Bulk Data Load\n",
        "https://people.apache.org/~stack/site/bulk-loads.html"
      ]
    },
    {
      "cell_type": "code",
      "metadata": {
        "colab": {
          "base_uri": "https://localhost:8080/"
        },
        "id": "v3z4W7zYzbEP",
        "outputId": "9c41d4f0-23a4-43c2-e85a-d7f077fc3459"
      },
      "source": [
        "#Data as CSV file\n",
        "!gdown https://drive.google.com/uc?id=1B6szzHNG7BCToKOktRiGUfFblrp1f_GC  # cars2.csv"
      ],
      "execution_count": 17,
      "outputs": [
        {
          "output_type": "stream",
          "name": "stdout",
          "text": [
            "Downloading...\n",
            "From: https://drive.google.com/uc?id=1B6szzHNG7BCToKOktRiGUfFblrp1f_GC\n",
            "To: /content/cars2.csv\n",
            "\r  0% 0.00/54.0 [00:00<?, ?B/s]\r100% 54.0/54.0 [00:00<00:00, 84.0kB/s]\n"
          ]
        }
      ]
    },
    {
      "cell_type": "code",
      "metadata": {
        "colab": {
          "base_uri": "https://localhost:8080/"
        },
        "id": "rBJ063HuoDhA",
        "outputId": "1663b610-1ff0-479b-c71f-e8848739d7a1"
      },
      "source": [
        "# see the data\n",
        "!cat cars2.csv"
      ],
      "execution_count": 34,
      "outputs": [
        {
          "output_type": "stream",
          "name": "stdout",
          "text": [
            "Ford,Ecosport,2019\r\n",
            "Hyundai,i20,2015\r\n",
            "Maruti,Omni,2007"
          ]
        }
      ]
    },
    {
      "cell_type": "code",
      "metadata": {
        "id": "EkEIeHtHkc3L"
      },
      "source": [
        "#!echo \"disable 'cars2'\" | hbase shell -n\n",
        "#!echo \"drop 'cars2'\" | hbase shell -n"
      ],
      "execution_count": 18,
      "outputs": []
    },
    {
      "cell_type": "code",
      "metadata": {
        "colab": {
          "base_uri": "https://localhost:8080/"
        },
        "id": "rOlmaKHFewdi",
        "outputId": "07005c1a-3f7d-47eb-c908-d5cf1fbe56c9"
      },
      "source": [
        "#create 'sensor','temp','vibration','pressure'\n",
        "!echo \"create 'cars2', 'make','model','year'\" | hbase shell -n"
      ],
      "execution_count": 19,
      "outputs": [
        {
          "output_type": "stream",
          "name": "stdout",
          "text": [
            "SLF4J: Class path contains multiple SLF4J bindings.\n",
            "SLF4J: Found binding in [jar:file:/content/hbase-2.4.12/lib/client-facing-thirdparty/slf4j-reload4j-1.7.33.jar!/org/slf4j/impl/StaticLoggerBinder.class]\n",
            "SLF4J: Found binding in [jar:file:/usr/local/hadoop-3.3.3/share/hadoop/common/lib/slf4j-reload4j-1.7.36.jar!/org/slf4j/impl/StaticLoggerBinder.class]\n",
            "SLF4J: See http://www.slf4j.org/codes.html#multiple_bindings for an explanation.\n",
            "SLF4J: Actual binding is of type [org.slf4j.impl.Reload4jLoggerFactory]\n",
            "hbase:001:0> create 'cars2', 'make','model','year'\n",
            "Created table cars2\n",
            "Took 1.4829 seconds                                                             \n",
            "=> Hbase::Table - cars2\n",
            "hbase:002:0> \n"
          ]
        }
      ]
    },
    {
      "cell_type": "code",
      "metadata": {
        "colab": {
          "base_uri": "https://localhost:8080/"
        },
        "id": "Hg002j_6fKQx",
        "outputId": "79ec5ad7-4d75-4d45-cda8-86209e5f0fe4"
      },
      "source": [
        "!echo \"list\" | hbase shell -n"
      ],
      "execution_count": 37,
      "outputs": [
        {
          "output_type": "stream",
          "name": "stdout",
          "text": [
            "hbase:001:0> list\n",
            "TABLE                                                                           \n",
            "cars                                                                            \n",
            "cars2                                                                           \n",
            "table1                                                                          \n",
            "3 row(s)\n",
            "Took 1.1142 seconds                                                             \n",
            "=> [\"cars\", \"cars2\", \"table1\"]\n",
            "hbase:002:0> \n"
          ]
        }
      ]
    },
    {
      "cell_type": "code",
      "metadata": {
        "colab": {
          "base_uri": "https://localhost:8080/"
        },
        "id": "L0xLDl6_iHBA",
        "outputId": "b1c41473-dea8-438f-8b2e-e80dc264c38d"
      },
      "source": [
        "!cat cars2.csv"
      ],
      "execution_count": null,
      "outputs": [
        {
          "output_type": "stream",
          "name": "stdout",
          "text": [
            "Ford,Ecosport,2019\r\n",
            "Hyundai,i20,2015\r\n",
            "Maruti,Omni,2007"
          ]
        }
      ]
    },
    {
      "cell_type": "code",
      "metadata": {
        "id": "EYhznehYfZiC"
      },
      "source": [
        "# input file has to be moved from regular file system to HDFS file system\n",
        "!hdfs dfs -copyFromLocal cars2.csv /tmp"
      ],
      "execution_count": 20,
      "outputs": []
    },
    {
      "cell_type": "code",
      "metadata": {
        "colab": {
          "base_uri": "https://localhost:8080/"
        },
        "id": "CF5loP6EfxuW",
        "outputId": "b8254538-1caf-41eb-cad7-0633aa843b67"
      },
      "source": [
        "# https://community.cloudera.com/t5/Community-Articles/Import-CSV-data-into-HBase-using-importtsv/ta-p/244842\n",
        "#hbase org.apache.hadoop.hbase.mapreduce.ImportTsv -Dimporttsv.separator=,  -Dimporttsv.columns=\"HBASE_ROW_KEY,id,temp:in,temp:out,vibration,pressure:in,pressure:out\" sensor hdfs://sandbox.hortonworks.com:/tmp/hbase.csv\n",
        "!hbase org.apache.hadoop.hbase.mapreduce.ImportTsv -Dimporttsv.separator=','  -Dimporttsv.columns=\"HBASE_ROW_KEY,make,model,year\" cars2 /tmp/cars2.csv"
      ],
      "execution_count": 21,
      "outputs": [
        {
          "output_type": "stream",
          "name": "stdout",
          "text": [
            "SLF4J: Class path contains multiple SLF4J bindings.\n",
            "SLF4J: Found binding in [jar:file:/content/hbase-2.4.12/lib/client-facing-thirdparty/slf4j-reload4j-1.7.33.jar!/org/slf4j/impl/StaticLoggerBinder.class]\n",
            "SLF4J: Found binding in [jar:file:/usr/local/hadoop-3.3.3/share/hadoop/common/lib/slf4j-reload4j-1.7.36.jar!/org/slf4j/impl/StaticLoggerBinder.class]\n",
            "SLF4J: See http://www.slf4j.org/codes.html#multiple_bindings for an explanation.\n",
            "SLF4J: Actual binding is of type [org.slf4j.impl.Reload4jLoggerFactory]\n",
            "2022-06-09 09:35:43,113 INFO  [ReadOnlyZKClient-127.0.0.1:2181@0x7a8c8dcf] zookeeper.ZooKeeper: Client environment:zookeeper.version=3.5.7-f0fdd52973d373ffd9c86b81d99842dc2c7f660e, built on 02/10/2020 11:30 GMT\n",
            "2022-06-09 09:35:43,113 INFO  [ReadOnlyZKClient-127.0.0.1:2181@0x7a8c8dcf] zookeeper.ZooKeeper: Client environment:host.name=0efe29da3a75\n",
            "2022-06-09 09:35:43,113 INFO  [ReadOnlyZKClient-127.0.0.1:2181@0x7a8c8dcf] zookeeper.ZooKeeper: Client environment:java.version=1.8.0_312\n",
            "2022-06-09 09:35:43,113 INFO  [ReadOnlyZKClient-127.0.0.1:2181@0x7a8c8dcf] zookeeper.ZooKeeper: Client environment:java.vendor=Private Build\n",
            "2022-06-09 09:35:43,113 INFO  [ReadOnlyZKClient-127.0.0.1:2181@0x7a8c8dcf] zookeeper.ZooKeeper: Client environment:java.home=/usr/lib/jvm/java-8-openjdk-amd64/jre\n",
            "2022-06-09 09:35:43,113 INFO  [ReadOnlyZKClient-127.0.0.1:2181@0x7a8c8dcf] zookeeper.ZooKeeper: .3.3//share/hadoop/yarn/hadoop-yarn-registry-3.3.3.jar:/usr/local/hadoop-3.3.3//share/hadoop/yarn/hadoop-yarn-applications-distributedshell-3.3.3.jar:/usr/local/hadoop-3.3.3//share/hadoop/yarn/hadoop-yarn-server-applicationhistoryservice-3.3.3.jar:/usr/local/hadoop-3.3.3//share/hadoop/yarn/hadoop-yarn-server-router-3.3.3.jar:/usr/local/hadoop-3.3.3//share/hadoop/yarn/hadoop-yarn-server-tests-3.3.3.jar:/usr/local/hadoop-3.3.3//share/hadoop/yarn/hadoop-yarn-server-sharedcachemanager-3.3.3.jar:/usr/local/hadoop-3.3.3//share/hadoop/yarn/hadoop-yarn-applications-mawo-core-3.3.3.jar:/usr/local/hadoop-3.3.3//share/hadoop/yarn/hadoop-yarn-server-nodemanager-3.3.3.jar:/usr/local/hadoop-3.3.3//share/hadoop/yarn/hadoop-yarn-common-3.3.3.jar:/usr/local/hadoop-3.3.3//share/hadoop/yarn/hadoop-yarn-applications-unmanaged-am-launcher-3.3.3.jar:/usr/local/hadoop-3.3.3//share/hadoop/yarn/hadoop-yarn-server-web-proxy-3.3.3.jar:/usr/local/hadoop-3.3.3//share/hadoop/yarn/hadoop-yarn-server-common-3.3.3.jar\n",
            "2022-06-09 09:35:43,113 INFO  [ReadOnlyZKClient-127.0.0.1:2181@0x7a8c8dcf] zookeeper.ZooKeeper: Client environment:java.library.path=/usr/local/hadoop-3.3.3//lib/native\n",
            "2022-06-09 09:35:43,113 INFO  [ReadOnlyZKClient-127.0.0.1:2181@0x7a8c8dcf] zookeeper.ZooKeeper: Client environment:java.io.tmpdir=/tmp\n",
            "2022-06-09 09:35:43,113 INFO  [ReadOnlyZKClient-127.0.0.1:2181@0x7a8c8dcf] zookeeper.ZooKeeper: Client environment:java.compiler=<NA>\n",
            "2022-06-09 09:35:43,113 INFO  [ReadOnlyZKClient-127.0.0.1:2181@0x7a8c8dcf] zookeeper.ZooKeeper: Client environment:os.name=Linux\n",
            "2022-06-09 09:35:43,114 INFO  [ReadOnlyZKClient-127.0.0.1:2181@0x7a8c8dcf] zookeeper.ZooKeeper: Client environment:os.arch=amd64\n",
            "2022-06-09 09:35:43,114 INFO  [ReadOnlyZKClient-127.0.0.1:2181@0x7a8c8dcf] zookeeper.ZooKeeper: Client environment:os.version=5.4.188+\n",
            "2022-06-09 09:35:43,114 INFO  [ReadOnlyZKClient-127.0.0.1:2181@0x7a8c8dcf] zookeeper.ZooKeeper: Client environment:user.name=root\n",
            "2022-06-09 09:35:43,114 INFO  [ReadOnlyZKClient-127.0.0.1:2181@0x7a8c8dcf] zookeeper.ZooKeeper: Client environment:user.home=/root\n",
            "2022-06-09 09:35:43,114 INFO  [ReadOnlyZKClient-127.0.0.1:2181@0x7a8c8dcf] zookeeper.ZooKeeper: Client environment:user.dir=/content\n",
            "2022-06-09 09:35:43,114 INFO  [ReadOnlyZKClient-127.0.0.1:2181@0x7a8c8dcf] zookeeper.ZooKeeper: Client environment:os.memory.free=178MB\n",
            "2022-06-09 09:35:43,114 INFO  [ReadOnlyZKClient-127.0.0.1:2181@0x7a8c8dcf] zookeeper.ZooKeeper: Client environment:os.memory.max=3231MB\n",
            "2022-06-09 09:35:43,114 INFO  [ReadOnlyZKClient-127.0.0.1:2181@0x7a8c8dcf] zookeeper.ZooKeeper: Client environment:os.memory.total=197MB\n",
            "2022-06-09 09:35:43,117 INFO  [ReadOnlyZKClient-127.0.0.1:2181@0x7a8c8dcf] zookeeper.ZooKeeper: Initiating client connection, connectString=127.0.0.1:2181 sessionTimeout=90000 watcher=org.apache.hadoop.hbase.zookeeper.ReadOnlyZKClient$$Lambda$15/895446950@3ac1a97a\n",
            "2022-06-09 09:35:43,122 INFO  [ReadOnlyZKClient-127.0.0.1:2181@0x7a8c8dcf] common.X509Util: Setting -D jdk.tls.rejectClientInitiatedRenegotiation=true to disable client-initiated TLS renegotiation\n",
            "2022-06-09 09:35:43,128 INFO  [ReadOnlyZKClient-127.0.0.1:2181@0x7a8c8dcf] zookeeper.ClientCnxnSocket: jute.maxbuffer value is 4194304 Bytes\n",
            "2022-06-09 09:35:43,135 INFO  [ReadOnlyZKClient-127.0.0.1:2181@0x7a8c8dcf] zookeeper.ClientCnxn: zookeeper.request.timeout value is 0. feature enabled=\n",
            "2022-06-09 09:35:43,145 INFO  [ReadOnlyZKClient-127.0.0.1:2181@0x7a8c8dcf-SendThread(127.0.0.1:2181)] zookeeper.ClientCnxn: Opening socket connection to server localhost/127.0.0.1:2181. Will not attempt to authenticate using SASL (unknown error)\n",
            "2022-06-09 09:35:43,153 INFO  [ReadOnlyZKClient-127.0.0.1:2181@0x7a8c8dcf-SendThread(127.0.0.1:2181)] zookeeper.ClientCnxn: Socket connection established, initiating session, client: /127.0.0.1:40128, server: localhost/127.0.0.1:2181\n",
            "2022-06-09 09:35:43,161 INFO  [ReadOnlyZKClient-127.0.0.1:2181@0x7a8c8dcf-SendThread(127.0.0.1:2181)] zookeeper.ClientCnxn: Session establishment complete on server localhost/127.0.0.1:2181, sessionid = 0x1000004babb0007, negotiated timeout = 40000\n",
            "2022-06-09 09:35:44,576 INFO  [main] Configuration.deprecation: session.id is deprecated. Instead, use dfs.metrics.session-id\n",
            "2022-06-09 09:35:44,577 INFO  [main] jvm.JvmMetrics: Initializing JVM Metrics with processName=JobTracker, sessionId=\n",
            "2022-06-09 09:35:44,655 INFO  [ReadOnlyZKClient-127.0.0.1:2181@0x7a8c8dcf] zookeeper.ZooKeeper: Session: 0x1000004babb0007 closed\n",
            "2022-06-09 09:35:44,655 INFO  [ReadOnlyZKClient-127.0.0.1:2181@0x7a8c8dcf-EventThread] zookeeper.ClientCnxn: EventThread shut down for session: 0x1000004babb0007\n",
            "2022-06-09 09:35:44,734 INFO  [ReadOnlyZKClient-127.0.0.1:2181@0x63192798] zookeeper.ZooKeeper: Initiating client connection, connectString=127.0.0.1:2181 sessionTimeout=90000 watcher=org.apache.hadoop.hbase.zookeeper.ReadOnlyZKClient$$Lambda$15/895446950@3ac1a97a\n",
            "2022-06-09 09:35:44,734 INFO  [ReadOnlyZKClient-127.0.0.1:2181@0x63192798] zookeeper.ClientCnxnSocket: jute.maxbuffer value is 4194304 Bytes\n",
            "2022-06-09 09:35:44,735 INFO  [ReadOnlyZKClient-127.0.0.1:2181@0x63192798] zookeeper.ClientCnxn: zookeeper.request.timeout value is 0. feature enabled=\n",
            "2022-06-09 09:35:44,742 INFO  [ReadOnlyZKClient-127.0.0.1:2181@0x63192798-SendThread(127.0.0.1:2181)] zookeeper.ClientCnxn: Opening socket connection to server localhost/127.0.0.1:2181. Will not attempt to authenticate using SASL (unknown error)\n",
            "2022-06-09 09:35:44,743 INFO  [ReadOnlyZKClient-127.0.0.1:2181@0x63192798-SendThread(127.0.0.1:2181)] zookeeper.ClientCnxn: Socket connection established, initiating session, client: /127.0.0.1:40146, server: localhost/127.0.0.1:2181\n",
            "2022-06-09 09:35:44,747 INFO  [ReadOnlyZKClient-127.0.0.1:2181@0x63192798-SendThread(127.0.0.1:2181)] zookeeper.ClientCnxn: Session establishment complete on server localhost/127.0.0.1:2181, sessionid = 0x1000004babb0008, negotiated timeout = 40000\n",
            "2022-06-09 09:35:44,894 INFO  [ReadOnlyZKClient-127.0.0.1:2181@0x63192798] zookeeper.ZooKeeper: Session: 0x1000004babb0008 closed\n",
            "2022-06-09 09:35:44,894 INFO  [ReadOnlyZKClient-127.0.0.1:2181@0x63192798-EventThread] zookeeper.ClientCnxn: EventThread shut down for session: 0x1000004babb0008\n",
            "2022-06-09 09:35:44,948 INFO  [main] input.FileInputFormat: Total input files to process : 1\n",
            "2022-06-09 09:35:44,983 INFO  [main] mapreduce.JobSubmitter: number of splits:1\n",
            "2022-06-09 09:35:45,201 INFO  [main] mapreduce.JobSubmitter: Submitting tokens for job: job_local1829593227_0001\n",
            "2022-06-09 09:35:45,490 INFO  [main] mapred.LocalDistributedCacheManager: Creating symlink: /tmp/hadoop-root/mapred/local/1654767345333/libjars <- /content/libjars/*\n",
            "2022-06-09 09:35:45,497 WARN  [main] fs.FileUtil: Command 'ln -s /tmp/hadoop-root/mapred/local/1654767345333/libjars /content/libjars/*' failed 1 with: ln: failed to create symbolic link '/content/libjars/*': No such file or directory\n",
            "\n",
            "2022-06-09 09:35:45,497 WARN  [main] mapred.LocalDistributedCacheManager: Failed to create symlink: /tmp/hadoop-root/mapred/local/1654767345333/libjars <- /content/libjars/*\n",
            "2022-06-09 09:35:45,497 INFO  [main] mapred.LocalDistributedCacheManager: Localized file:/tmp/hadoop-root/mapred/staging/root1829593227/.staging/job_local1829593227_0001/libjars as file:/tmp/hadoop-root/mapred/local/1654767345333/libjars\n",
            "2022-06-09 09:35:45,584 INFO  [main] mapreduce.Job: The url to track the job: http://localhost:8080/\n",
            "2022-06-09 09:35:45,584 INFO  [main] mapreduce.Job: Running job: job_local1829593227_0001\n",
            "2022-06-09 09:35:45,590 INFO  [Thread-7] mapred.LocalJobRunner: OutputCommitter set in config null\n",
            "2022-06-09 09:35:45,616 INFO  [Thread-7] mapred.LocalJobRunner: OutputCommitter is org.apache.hadoop.hbase.mapreduce.TableOutputCommitter\n",
            "2022-06-09 09:35:45,656 INFO  [Thread-7] mapred.LocalJobRunner: Waiting for map tasks\n",
            "2022-06-09 09:35:45,656 INFO  [LocalJobRunner Map Task Executor #0] mapred.LocalJobRunner: Starting task: attempt_local1829593227_0001_m_000000_0\n",
            "2022-06-09 09:35:45,723 INFO  [LocalJobRunner Map Task Executor #0] mapred.Task:  Using ResourceCalculatorProcessTree : [ ]\n",
            "2022-06-09 09:35:45,733 INFO  [LocalJobRunner Map Task Executor #0] mapred.MapTask: Processing split: file:/tmp/cars2.csv:0+54\n",
            "2022-06-09 09:35:45,746 INFO  [ReadOnlyZKClient-127.0.0.1:2181@0x12dad263] zookeeper.ZooKeeper: Initiating client connection, connectString=127.0.0.1:2181 sessionTimeout=90000 watcher=org.apache.hadoop.hbase.zookeeper.ReadOnlyZKClient$$Lambda$15/895446950@3ac1a97a\n",
            "2022-06-09 09:35:45,746 INFO  [ReadOnlyZKClient-127.0.0.1:2181@0x12dad263] zookeeper.ClientCnxnSocket: jute.maxbuffer value is 4194304 Bytes\n",
            "2022-06-09 09:35:45,746 INFO  [ReadOnlyZKClient-127.0.0.1:2181@0x12dad263] zookeeper.ClientCnxn: zookeeper.request.timeout value is 0. feature enabled=\n",
            "2022-06-09 09:35:45,747 INFO  [ReadOnlyZKClient-127.0.0.1:2181@0x12dad263-SendThread(127.0.0.1:2181)] zookeeper.ClientCnxn: Opening socket connection to server localhost/127.0.0.1:2181. Will not attempt to authenticate using SASL (unknown error)\n",
            "2022-06-09 09:35:45,748 INFO  [ReadOnlyZKClient-127.0.0.1:2181@0x12dad263-SendThread(127.0.0.1:2181)] zookeeper.ClientCnxn: Socket connection established, initiating session, client: /127.0.0.1:40150, server: localhost/127.0.0.1:2181\n",
            "2022-06-09 09:35:45,751 INFO  [ReadOnlyZKClient-127.0.0.1:2181@0x12dad263-SendThread(127.0.0.1:2181)] zookeeper.ClientCnxn: Session establishment complete on server localhost/127.0.0.1:2181, sessionid = 0x1000004babb0009, negotiated timeout = 40000\n",
            "2022-06-09 09:35:45,757 INFO  [LocalJobRunner Map Task Executor #0] mapreduce.TableOutputFormat: Created table instance for cars2\n",
            "2022-06-09 09:35:45,819 INFO  [ReadOnlyZKClient-127.0.0.1:2181@0x3e5002cf] zookeeper.ZooKeeper: Initiating client connection, connectString=127.0.0.1:2181 sessionTimeout=90000 watcher=org.apache.hadoop.hbase.zookeeper.ReadOnlyZKClient$$Lambda$15/895446950@3ac1a97a\n",
            "2022-06-09 09:35:45,820 INFO  [ReadOnlyZKClient-127.0.0.1:2181@0x3e5002cf] zookeeper.ClientCnxnSocket: jute.maxbuffer value is 4194304 Bytes\n",
            "2022-06-09 09:35:45,825 INFO  [ReadOnlyZKClient-127.0.0.1:2181@0x3e5002cf] zookeeper.ClientCnxn: zookeeper.request.timeout value is 0. feature enabled=\n",
            "2022-06-09 09:35:45,827 INFO  [ReadOnlyZKClient-127.0.0.1:2181@0x3e5002cf-SendThread(127.0.0.1:2181)] zookeeper.ClientCnxn: Opening socket connection to server localhost/127.0.0.1:2181. Will not attempt to authenticate using SASL (unknown error)\n",
            "2022-06-09 09:35:45,828 INFO  [ReadOnlyZKClient-127.0.0.1:2181@0x3e5002cf-SendThread(127.0.0.1:2181)] zookeeper.ClientCnxn: Socket connection established, initiating session, client: /127.0.0.1:40156, server: localhost/127.0.0.1:2181\n",
            "2022-06-09 09:35:45,832 INFO  [ReadOnlyZKClient-127.0.0.1:2181@0x3e5002cf-SendThread(127.0.0.1:2181)] zookeeper.ClientCnxn: Session establishment complete on server localhost/127.0.0.1:2181, sessionid = 0x1000004babb000a, negotiated timeout = 40000\n",
            "2022-06-09 09:35:45,908 INFO  [LocalJobRunner Map Task Executor #0] mapred.LocalJobRunner: \n",
            "2022-06-09 09:35:46,005 INFO  [ReadOnlyZKClient-127.0.0.1:2181@0x3e5002cf] zookeeper.ZooKeeper: Session: 0x1000004babb000a closed\n",
            "2022-06-09 09:35:46,005 INFO  [ReadOnlyZKClient-127.0.0.1:2181@0x3e5002cf-EventThread] zookeeper.ClientCnxn: EventThread shut down for session: 0x1000004babb000a\n",
            "2022-06-09 09:35:46,025 INFO  [LocalJobRunner Map Task Executor #0] mapred.Task: Task:attempt_local1829593227_0001_m_000000_0 is done. And is in the process of committing\n",
            "2022-06-09 09:35:46,048 INFO  [LocalJobRunner Map Task Executor #0] mapred.LocalJobRunner: map\n",
            "2022-06-09 09:35:46,049 INFO  [LocalJobRunner Map Task Executor #0] mapred.Task: Task 'attempt_local1829593227_0001_m_000000_0' done.\n",
            "2022-06-09 09:35:46,057 INFO  [LocalJobRunner Map Task Executor #0] mapred.Task: Final Counters for attempt_local1829593227_0001_m_000000_0: Counters: 19\n",
            "\tFile System Counters\n",
            "\t\tFILE: Number of bytes read=432106\n",
            "\t\tFILE: Number of bytes written=1005031\n",
            "\t\tFILE: Number of read operations=0\n",
            "\t\tFILE: Number of large read operations=0\n",
            "\t\tFILE: Number of write operations=0\n",
            "\tMap-Reduce Framework\n",
            "\t\tMap input records=3\n",
            "\t\tMap output records=3\n",
            "\t\tInput split bytes=84\n",
            "\t\tSpilled Records=0\n",
            "\t\tFailed Shuffles=0\n",
            "\t\tMerged Map outputs=0\n",
            "\t\tGC time elapsed (ms)=0\n",
            "\t\tCPU time spent (ms)=380\n",
            "\t\tPhysical memory (bytes) snapshot=276344832\n",
            "\t\tVirtual memory (bytes) snapshot=5153992704\n",
            "\t\tTotal committed heap usage (bytes)=206831616\n",
            "\tImportTsv\n",
            "\t\tBad Lines=0\n",
            "\tFile Input Format Counters \n",
            "\t\tBytes Read=74\n",
            "\tFile Output Format Counters \n",
            "\t\tBytes Written=0\n",
            "2022-06-09 09:35:46,058 INFO  [LocalJobRunner Map Task Executor #0] mapred.LocalJobRunner: Finishing task: attempt_local1829593227_0001_m_000000_0\n",
            "2022-06-09 09:35:46,058 INFO  [Thread-7] mapred.LocalJobRunner: map task executor complete.\n",
            "2022-06-09 09:35:46,131 INFO  [ReadOnlyZKClient-127.0.0.1:2181@0x12dad263] zookeeper.ZooKeeper: Session: 0x1000004babb0009 closed\n",
            "2022-06-09 09:35:46,132 INFO  [ReadOnlyZKClient-127.0.0.1:2181@0x12dad263-EventThread] zookeeper.ClientCnxn: EventThread shut down for session: 0x1000004babb0009\n",
            "2022-06-09 09:35:46,589 INFO  [main] mapreduce.Job: Job job_local1829593227_0001 running in uber mode : false\n",
            "2022-06-09 09:35:46,590 INFO  [main] mapreduce.Job:  map 100% reduce 0%\n",
            "2022-06-09 09:35:46,592 INFO  [main] mapreduce.Job: Job job_local1829593227_0001 completed successfully\n",
            "2022-06-09 09:35:46,597 INFO  [main] mapreduce.Job: Counters: 19\n",
            "\tFile System Counters\n",
            "\t\tFILE: Number of bytes read=432106\n",
            "\t\tFILE: Number of bytes written=1005031\n",
            "\t\tFILE: Number of read operations=0\n",
            "\t\tFILE: Number of large read operations=0\n",
            "\t\tFILE: Number of write operations=0\n",
            "\tMap-Reduce Framework\n",
            "\t\tMap input records=3\n",
            "\t\tMap output records=3\n",
            "\t\tInput split bytes=84\n",
            "\t\tSpilled Records=0\n",
            "\t\tFailed Shuffles=0\n",
            "\t\tMerged Map outputs=0\n",
            "\t\tGC time elapsed (ms)=0\n",
            "\t\tCPU time spent (ms)=380\n",
            "\t\tPhysical memory (bytes) snapshot=276344832\n",
            "\t\tVirtual memory (bytes) snapshot=5153992704\n",
            "\t\tTotal committed heap usage (bytes)=206831616\n",
            "\tImportTsv\n",
            "\t\tBad Lines=0\n",
            "\tFile Input Format Counters \n",
            "\t\tBytes Read=74\n",
            "\tFile Output Format Counters \n",
            "\t\tBytes Written=0\n"
          ]
        }
      ]
    },
    {
      "cell_type": "code",
      "metadata": {
        "colab": {
          "base_uri": "https://localhost:8080/"
        },
        "id": "CSs-MATjgw6p",
        "outputId": "6403cb06-ad20-4738-b2f7-3f77f1caac9f"
      },
      "source": [
        "!echo \"scan 'cars2'\" | hbase shell -n"
      ],
      "execution_count": 22,
      "outputs": [
        {
          "output_type": "stream",
          "name": "stdout",
          "text": [
            "SLF4J: Class path contains multiple SLF4J bindings.\n",
            "SLF4J: Found binding in [jar:file:/content/hbase-2.4.12/lib/client-facing-thirdparty/slf4j-reload4j-1.7.33.jar!/org/slf4j/impl/StaticLoggerBinder.class]\n",
            "SLF4J: Found binding in [jar:file:/usr/local/hadoop-3.3.3/share/hadoop/common/lib/slf4j-reload4j-1.7.36.jar!/org/slf4j/impl/StaticLoggerBinder.class]\n",
            "SLF4J: See http://www.slf4j.org/codes.html#multiple_bindings for an explanation.\n",
            "SLF4J: Actual binding is of type [org.slf4j.impl.Reload4jLoggerFactory]\n",
            "hbase:001:0> scan 'cars2'\n",
            "ROW                   COLUMN+CELL                                               \n",
            " Ford                 column=make:, timestamp=2022-06-09T09:35:42.525, value=Eco\n",
            "                      sport                                                     \n",
            " Ford                 column=model:, timestamp=2022-06-09T09:35:42.525, value=20\n",
            "                      19                                                        \n",
            " Hyundai              column=make:, timestamp=2022-06-09T09:35:42.525, value=i20\n",
            " Hyundai              column=model:, timestamp=2022-06-09T09:35:42.525, value=20\n",
            "                      15                                                        \n",
            " Maruti               column=make:, timestamp=2022-06-09T09:35:42.525, value=Omn\n",
            "                      i                                                         \n",
            " Maruti               column=model:, timestamp=2022-06-09T09:35:42.525, value=20\n",
            "                      07                                                        \n",
            "3 row(s)\n",
            "Took 0.9097 seconds                                                             \n",
            "hbase:002:0> \n"
          ]
        }
      ]
    },
    {
      "cell_type": "markdown",
      "metadata": {
        "id": "O6PP3akdlVKJ"
      },
      "source": [
        "#Stop HBase"
      ]
    },
    {
      "cell_type": "code",
      "metadata": {
        "colab": {
          "base_uri": "https://localhost:8080/"
        },
        "id": "p28XBoitAWTL",
        "outputId": "f55b2eca-45e2-4ddf-c2e1-c5c07f31612b"
      },
      "source": [
        "!stop-hbase.sh"
      ],
      "execution_count": 23,
      "outputs": [
        {
          "output_type": "stream",
          "name": "stdout",
          "text": [
            "stopping hbase..............\n",
            "SLF4J: Class path contains multiple SLF4J bindings.\n",
            "SLF4J: Found binding in [jar:file:/content/hbase-2.4.12/lib/client-facing-thirdparty/slf4j-reload4j-1.7.33.jar!/org/slf4j/impl/StaticLoggerBinder.class]\n",
            "SLF4J: Found binding in [jar:file:/usr/local/hadoop-3.3.3/share/hadoop/common/lib/slf4j-reload4j-1.7.36.jar!/org/slf4j/impl/StaticLoggerBinder.class]\n",
            "SLF4J: See http://www.slf4j.org/codes.html#multiple_bindings for an explanation.\n",
            "SLF4J: Actual binding is of type [org.slf4j.impl.Reload4jLoggerFactory]\n"
          ]
        }
      ]
    }
  ]
}