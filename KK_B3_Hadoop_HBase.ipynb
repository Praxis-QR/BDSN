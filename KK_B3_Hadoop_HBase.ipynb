{
  "nbformat": 4,
  "nbformat_minor": 0,
  "metadata": {
    "colab": {
      "name": "KK B3 Hadoop HBase",
      "provenance": [],
      "authorship_tag": "ABX9TyNBGUd7xYbqwf+eisMoMgDu",
      "include_colab_link": true
    },
    "kernelspec": {
      "name": "python3",
      "display_name": "Python 3"
    },
    "language_info": {
      "name": "python"
    }
  },
  "cells": [
    {
      "cell_type": "markdown",
      "metadata": {
        "id": "view-in-github",
        "colab_type": "text"
      },
      "source": [
        "<a href=\"https://colab.research.google.com/github/Praxis-QR/BDSN/blob/main/KK_B3_Hadoop_HBase.ipynb\" target=\"_parent\"><img src=\"https://colab.research.google.com/assets/colab-badge.svg\" alt=\"Open In Colab\"/></a>"
      ]
    },
    {
      "cell_type": "markdown",
      "metadata": {
        "id": "XafE9O3pAmkC"
      },
      "source": [
        "![alt text](https://4.bp.blogspot.com/-gbL5nZDkpFQ/XScFYwoTEII/AAAAAAAAAGY/CcVb_HDLwvs2Brv5T4vSsUcz7O4r2Q79ACK4BGAYYCw/s1600/kk3-header00-beta.png)<br>\n",
        "\n",
        "\n",
        "<hr>\n",
        "\n",
        "[Prithwis Mukerjee](http://www.linkedin.com/in/prithwis)<br>"
      ]
    },
    {
      "cell_type": "markdown",
      "metadata": {
        "id": "GyYTQEpb1htS"
      },
      "source": [
        "#Hadoop \n",
        "Install and Test"
      ]
    },
    {
      "cell_type": "code",
      "metadata": {
        "id": "_r0IOmlc0-Dt"
      },
      "source": [
        "# The default JVM available at /usr/lib/jvm/java-11-openjdk-amd64/  works for Hadoop\n",
        "# But gives errors with Hive https://stackoverflow.com/questions/54037773/hive-exception-class-jdk-internal-loader-classloadersappclassloader-cannot\n",
        "# Hence this JVM needs to be installed\n",
        "!apt-get update > /dev/null\n",
        "!apt-get install openjdk-8-jdk-headless -qq > /dev/null"
      ],
      "execution_count": 1,
      "outputs": []
    },
    {
      "cell_type": "code",
      "metadata": {
        "colab": {
          "base_uri": "https://localhost:8080/"
        },
        "id": "NWspfH6A1a4P",
        "outputId": "bce1b04d-a3d1-4673-c334-fc91764801c3"
      },
      "source": [
        "# Download the latest version of Hadoop\n",
        "!wget https://downloads.apache.org/hadoop/common/hadoop-3.3.3/hadoop-3.3.3.tar.gz\n",
        "# Unzip it\n",
        "# the tar command with the -x flag to extract, -z to uncompress, -v for verbose output, and -f to specify that we’re extracting from a file\n",
        "!tar -xzf hadoop-3.3.3.tar.gz\n",
        "#copy  hadoop file to user/local\n",
        "!mv  hadoop-3.3.3/ /usr/local/"
      ],
      "execution_count": 2,
      "outputs": [
        {
          "output_type": "stream",
          "name": "stdout",
          "text": [
            "--2022-10-07 09:13:01--  https://downloads.apache.org/hadoop/common/hadoop-3.3.3/hadoop-3.3.3.tar.gz\n",
            "Resolving downloads.apache.org (downloads.apache.org)... 88.99.95.219, 135.181.214.104, 2a01:4f9:3a:2c57::2, ...\n",
            "Connecting to downloads.apache.org (downloads.apache.org)|88.99.95.219|:443... connected.\n",
            "HTTP request sent, awaiting response... 200 OK\n",
            "Length: 645040598 (615M) [application/x-gzip]\n",
            "Saving to: ‘hadoop-3.3.3.tar.gz’\n",
            "\n",
            "hadoop-3.3.3.tar.gz 100%[===================>] 615.16M  28.0MB/s    in 23s     \n",
            "\n",
            "2022-10-07 09:13:25 (27.0 MB/s) - ‘hadoop-3.3.3.tar.gz’ saved [645040598/645040598]\n",
            "\n"
          ]
        }
      ]
    },
    {
      "cell_type": "code",
      "metadata": {
        "id": "24QjQ22V1swJ"
      },
      "source": [
        "#To find the default Java path\n",
        "#!readlink -f /usr/bin/java | sed \"s:bin/java::\"\n",
        "#!ls /usr/lib/jvm/"
      ],
      "execution_count": 3,
      "outputs": []
    },
    {
      "cell_type": "markdown",
      "metadata": {
        "id": "Ugibq3m1CbgC"
      },
      "source": [
        "## Set Hadoop Environment"
      ]
    },
    {
      "cell_type": "code",
      "metadata": {
        "id": "1j7WFh5k18E1"
      },
      "source": [
        "#To set java path, go to /usr/local/hadoop-3.3.0/etc/hadoop/hadoop-env.sh then\n",
        "#. . . export JAVA_HOME=/usr/lib/jvm/java-11-openjdk-amd64/ . . .\n",
        "#we have used a simpler alternative route using os.environ - it works\n",
        "\n",
        "import os\n",
        "os.environ[\"JAVA_HOME\"] = \"/usr/lib/jvm/java-8-openjdk-amd64\"   # default is changed\n",
        "#os.environ[\"JAVA_HOME\"] = \"/usr/lib/jvm/java-11-openjdk-amd64/\"\n",
        "os.environ[\"HADOOP_HOME\"] = \"/usr/local/hadoop-3.3.3/\""
      ],
      "execution_count": 4,
      "outputs": []
    },
    {
      "cell_type": "code",
      "metadata": {
        "id": "NaaMpfVP2p3m",
        "outputId": "56bdbcd4-d735-44df-d9c9-a6de2fbacac6",
        "colab": {
          "base_uri": "https://localhost:8080/"
        }
      },
      "source": [
        "# Add Hadoop BIN to PATH\n",
        "# current_path taken from last command\n",
        "#current_path = '/opt/bin:/usr/local/nvidia/bin:/usr/local/cuda/bin:/usr/local/sbin:/usr/local/bin:/usr/sbin:/usr/bin:/sbin:/bin:/tools/node/bin:/tools/google-cloud-sdk/bin'\n",
        "#new_path = current_path+':/usr/local/hadoop-3.3.3/bin/'\n",
        "#os.environ[\"PATH\"] = new_path\n",
        "\n",
        "current_path = os.getenv('PATH')\n",
        "#new_path = current_path+':/usr/local/hadoop-3.3.0/bin/'\n",
        "new_path = current_path+':/usr/local/hadoop-3.3.3/bin/'\n",
        "os.environ[\"PATH\"] = new_path\n",
        "!echo $PATH"
      ],
      "execution_count": 5,
      "outputs": [
        {
          "output_type": "stream",
          "name": "stdout",
          "text": [
            "/opt/bin:/usr/local/nvidia/bin:/usr/local/cuda/bin:/usr/local/sbin:/usr/local/bin:/usr/sbin:/usr/bin:/sbin:/bin:/tools/node/bin:/tools/google-cloud-sdk/bin:/usr/local/hadoop-3.3.3/bin/\n"
          ]
        }
      ]
    },
    {
      "cell_type": "code",
      "metadata": {
        "id": "ZD34gT3y2u-D"
      },
      "source": [
        "# Testing Hadoop with PI generating sample program, should calculate value of pi = 3.14157500000000000000\n",
        "# pi example\n",
        "#Uncomment the following line if  you want to test Hadoop with pi example\n",
        "#!hadoop jar /usr/local/hadoop-3.3.3/share/hadoop/mapreduce/hadoop-mapreduce-examples-3.3.3.jar pi 16 100000"
      ],
      "execution_count": null,
      "outputs": []
    },
    {
      "cell_type": "markdown",
      "metadata": {
        "id": "zHwLU0Uo3tLo"
      },
      "source": [
        "#Install HBase"
      ]
    },
    {
      "cell_type": "code",
      "metadata": {
        "colab": {
          "base_uri": "https://localhost:8080/"
        },
        "id": "bODP1xaM3vEB",
        "outputId": "958899f6-eccd-4635-ffb1-fe2c6cfce7d9"
      },
      "source": [
        "# Get the latest HBase download site from here https://www.apache.org/dyn/closer.lua/hbase/\n",
        "# or even better check here for latest downloads >>> https://downloads.apache.org/hbase/\n",
        "#!wget https://mirrors.estointernet.in/apache/hbase/2.4.5/hbase-2.4.5-bin.tar.gz\n",
        "#!wget https://mirrors.estointernet.in/apache/hbase/2.4.8/hbase-2.4.8-bin.tar.gz\n",
        "#!wget https://downloads.apache.org/hbase/2.4.9/hbase-2.4.9-bin.tar.gz\n",
        "#!wget https://downloads.apache.org/hbase/2.4.12/hbase-2.4.12-bin.tar.gz\n",
        "!wget https://downloads.apache.org/hbase/2.5.0/hbase-2.5.0-bin.tar.gz\n",
        "#!tar xzf hbase-2.4.5-bin.tar.gz\n",
        "#!tar xzf hbase-2.4.8-bin.tar.gz\n",
        "#!tar xzf hbase-2.4.9-bin.tar.gz\n",
        "#!tar xzf hbase-2.4.12-bin.tar.gz\n",
        "!tar xzf hbase-2.5.0-bin.tar.gz"
      ],
      "execution_count": 7,
      "outputs": [
        {
          "output_type": "stream",
          "name": "stdout",
          "text": [
            "--2022-10-07 09:15:53--  https://downloads.apache.org/hbase/2.5.0/hbase-2.5.0-bin.tar.gz\n",
            "Resolving downloads.apache.org (downloads.apache.org)... 135.181.214.104, 88.99.95.219, 2a01:4f8:10a:201a::2, ...\n",
            "Connecting to downloads.apache.org (downloads.apache.org)|135.181.214.104|:443... connected.\n",
            "HTTP request sent, awaiting response... 200 OK\n",
            "Length: 314303339 (300M) [application/x-gzip]\n",
            "Saving to: ‘hbase-2.5.0-bin.tar.gz’\n",
            "\n",
            "hbase-2.5.0-bin.tar 100%[===================>] 299.74M  26.2MB/s    in 12s     \n",
            "\n",
            "2022-10-07 09:16:06 (24.6 MB/s) - ‘hbase-2.5.0-bin.tar.gz’ saved [314303339/314303339]\n",
            "\n"
          ]
        }
      ]
    },
    {
      "cell_type": "markdown",
      "metadata": {
        "id": "kaMtyNOVCiMS"
      },
      "source": [
        "## Set HBase Environment"
      ]
    },
    {
      "cell_type": "code",
      "metadata": {
        "colab": {
          "base_uri": "https://localhost:8080/"
        },
        "id": "p4dc0K7h4f-y",
        "outputId": "07a44ae1-0ce2-4290-eef1-6e6d111e7a36"
      },
      "source": [
        "#os.environ[\"HIVE_HOME\"] = \"/content/apache-hive-3.1.2-bin\"\n",
        "#!echo $HIVE_HOME\n",
        "#os.environ[\"HBASE_HOME\"] = \"/content/hbase-2.4.5/\"\n",
        "#os.environ[\"HBASE_HOME\"] = \"/content/hbase-2.4.8/\"\n",
        "#os.environ[\"HBASE_HOME\"] = \"/content/hbase-2.4.9/\"\n",
        "#os.environ[\"HBASE_HOME\"] = \"/content/hbase-2.4.12/\"\n",
        "os.environ[\"HBASE_HOME\"] = \"/content/hbase-2.5.0/\"\n",
        "!echo $HBASE_HOME"
      ],
      "execution_count": 8,
      "outputs": [
        {
          "output_type": "stream",
          "name": "stdout",
          "text": [
            "/content/hbase-2.5.0/\n"
          ]
        }
      ]
    },
    {
      "cell_type": "code",
      "metadata": {
        "id": "LrLGC7ln5Wwx"
      },
      "source": [
        "#!echo $PATH"
      ],
      "execution_count": null,
      "outputs": []
    },
    {
      "cell_type": "code",
      "metadata": {
        "colab": {
          "base_uri": "https://localhost:8080/"
        },
        "id": "DqXZ_kF65VXK",
        "outputId": "f918f116-7970-40cc-bfb9-6851aeb1d88a"
      },
      "source": [
        "# current_path taken from command in previous cell\n",
        "#current_path = '/opt/bin:/usr/local/nvidia/bin:/usr/local/cuda/bin:/usr/local/sbin:/usr/local/bin:/usr/sbin:/usr/bin:/sbin:/bin:/tools/node/bin:/tools/google-cloud-sdk/bin:/usr/local/hadoop-3.3.3/bin/'\n",
        "current_path = os.getenv('PATH')\n",
        "#new_path = current_path+':/content/hbase-2.4.5/bin'\n",
        "#new_path = current_path+':/content/hbase-2.4.8/bin'\n",
        "#new_path = current_path+':/content/hbase-2.4.9/bin'\n",
        "#new_path = current_path+':/content/hbase-2.4.12/bin'\n",
        "new_path = current_path+':/content/hbase-2.5.0/bin'\n",
        "os.environ[\"PATH\"] = new_path\n",
        "!echo $PATH"
      ],
      "execution_count": 9,
      "outputs": [
        {
          "output_type": "stream",
          "name": "stdout",
          "text": [
            "/opt/bin:/usr/local/nvidia/bin:/usr/local/cuda/bin:/usr/local/sbin:/usr/local/bin:/usr/sbin:/usr/bin:/sbin:/bin:/tools/node/bin:/tools/google-cloud-sdk/bin:/usr/local/hadoop-3.3.3/bin/:/content/hbase-2.5.0/bin\n"
          ]
        }
      ]
    },
    {
      "cell_type": "code",
      "metadata": {
        "colab": {
          "base_uri": "https://localhost:8080/"
        },
        "id": "ZrS6BL5k51Bl",
        "outputId": "8b5fa2c2-01ac-4818-da88-746d2d556d98"
      },
      "source": [
        "!echo $JAVA_HOME\n",
        "!echo $HADOOP_HOME\n",
        "!echo $HBASE_HOME"
      ],
      "execution_count": 10,
      "outputs": [
        {
          "output_type": "stream",
          "name": "stdout",
          "text": [
            "/usr/lib/jvm/java-8-openjdk-amd64\n",
            "/usr/local/hadoop-3.3.3/\n",
            "/content/hbase-2.5.0/\n"
          ]
        }
      ]
    },
    {
      "cell_type": "code",
      "metadata": {
        "id": "9kDmgFfh6a12"
      },
      "source": [
        "# the file hbase-site.xml may need to be updated ...\n",
        "# however the default file works well in the simple stand-alone HBase mode\n",
        "# so no need to touch it\n",
        "#!cat $HBASE_HOME/conf/hbase-site.xml"
      ],
      "execution_count": null,
      "outputs": []
    },
    {
      "cell_type": "markdown",
      "metadata": {
        "id": "BWn-DJ1PDbXd"
      },
      "source": [
        "## Some Clean UP\n",
        "Otherwise we get ugly warnings"
      ]
    },
    {
      "cell_type": "code",
      "source": [
        "!find /content/hbase-2.5.0/lib -name slf4j*"
      ],
      "metadata": {
        "id": "us6Q-HK-vtyV",
        "outputId": "dc3234d7-cd29-4e1f-89c4-733530b06cd6",
        "colab": {
          "base_uri": "https://localhost:8080/"
        }
      },
      "execution_count": 14,
      "outputs": [
        {
          "output_type": "stream",
          "name": "stdout",
          "text": [
            "/content/hbase-2.5.0/lib/client-facing-thirdparty/slf4j-api-1.7.33.jar\n"
          ]
        }
      ]
    },
    {
      "cell_type": "code",
      "source": [
        "!ls /content/hbase-2.5.0/lib/client-facing-thirdparty/slf4j-api-1.7.33.jar"
      ],
      "metadata": {
        "id": "m9ViBNMhwKs4",
        "outputId": "f96db99b-2e8a-473f-a4cd-547e69feb722",
        "colab": {
          "base_uri": "https://localhost:8080/"
        }
      },
      "execution_count": 15,
      "outputs": [
        {
          "output_type": "stream",
          "name": "stdout",
          "text": [
            "/content/hbase-2.5.0/lib/client-facing-thirdparty/slf4j-api-1.7.33.jar\n"
          ]
        }
      ]
    },
    {
      "cell_type": "code",
      "metadata": {
        "colab": {
          "base_uri": "https://localhost:8080/"
        },
        "id": "bKG7t8sQDj2t",
        "outputId": "7bec3a3f-69ba-427d-fb7a-b38f5561b2bf"
      },
      "source": [
        "# locate multiple instances of slf4j ...\n",
        "!ls $HADOOP_HOME/share/hadoop/common/lib/*slf4j*\n",
        "!ls $HBASE_HOME/lib/*slf4j*\n",
        "#!ls /content/hbase-2.4.12/lib/client-facing-thirdparty/slf4j-reload4j-1.7.33.jar\n",
        "!ls /content/hbase-2.5.0/lib/client-facing-thirdparty/slf4j-api-1.7.33.jar"
      ],
      "execution_count": 16,
      "outputs": [
        {
          "output_type": "stream",
          "name": "stdout",
          "text": [
            "/usr/local/hadoop-3.3.3//share/hadoop/common/lib/jul-to-slf4j-1.7.36.jar\n",
            "/usr/local/hadoop-3.3.3//share/hadoop/common/lib/slf4j-api-1.7.36.jar\n",
            "/usr/local/hadoop-3.3.3//share/hadoop/common/lib/slf4j-reload4j-1.7.36.jar\n",
            "ls: cannot access '/content/hbase-2.5.0//lib/*slf4j*': No such file or directory\n",
            "/content/hbase-2.5.0/lib/client-facing-thirdparty/slf4j-api-1.7.33.jar\n"
          ]
        }
      ]
    },
    {
      "cell_type": "code",
      "metadata": {
        "id": "6OaOkjD5EOr0"
      },
      "source": [
        "# remove the Hadoop logger out of the path\n",
        "# without this you will get ugly warnings every time\n",
        "#!mv /usr/local/hadoop-3.3.3//share/hadoop/common/lib/slf4j-log4j12-1.7.25.jar .\n",
        "#!mv /usr/local/hadoop-3.3.3//share/hadoop/common/lib/slf4j-api-1.7.36.jar .\n",
        "#!mv /usr/local/hadoop-3.3.3//share/hadoop/common/lib/slf4j-reload4j-1.7.36.jar .\n",
        "#!mv /content/hbase-2.4.12/lib/client-facing-thirdparty/slf4j-reload4j-1.7.33.jar .\n",
        "!mv /content/hbase-2.5.0/lib/client-facing-thirdparty/slf4j-api-1.7.33.jar ."
      ],
      "execution_count": 18,
      "outputs": []
    },
    {
      "cell_type": "code",
      "source": [],
      "metadata": {
        "id": "C04Du_W-ur15"
      },
      "execution_count": null,
      "outputs": []
    },
    {
      "cell_type": "markdown",
      "metadata": {
        "id": "uA03iA4XFN_E"
      },
      "source": [
        "## Start HBase server"
      ]
    },
    {
      "cell_type": "code",
      "source": [
        "#!stop-hbase.sh"
      ],
      "metadata": {
        "id": "SOFDd_XCvBET"
      },
      "execution_count": null,
      "outputs": []
    },
    {
      "cell_type": "code",
      "metadata": {
        "colab": {
          "base_uri": "https://localhost:8080/"
        },
        "id": "GMQHzlCO7MDC",
        "outputId": "3e09e0b2-fe8d-4dc2-9f4f-d8e2a7f9edeb"
      },
      "source": [
        "!start-hbase.sh"
      ],
      "execution_count": 19,
      "outputs": [
        {
          "output_type": "stream",
          "name": "stdout",
          "text": [
            "SLF4J: Class path contains multiple SLF4J bindings.\n",
            "SLF4J: Found binding in [jar:file:/usr/local/hadoop-3.3.3/share/hadoop/common/lib/slf4j-reload4j-1.7.36.jar!/org/slf4j/impl/StaticLoggerBinder.class]\n",
            "SLF4J: Found binding in [jar:file:/content/hbase-2.5.0/lib/client-facing-thirdparty/log4j-slf4j-impl-2.17.2.jar!/org/slf4j/impl/StaticLoggerBinder.class]\n",
            "SLF4J: See http://www.slf4j.org/codes.html#multiple_bindings for an explanation.\n",
            "SLF4J: Actual binding is of type [org.slf4j.impl.Reload4jLoggerFactory]\n",
            "running master, logging to /content/hbase-2.5.0//logs/hbase--master-284ad1f3a301.out\n"
          ]
        }
      ]
    },
    {
      "cell_type": "code",
      "metadata": {
        "colab": {
          "base_uri": "https://localhost:8080/"
        },
        "id": "v1imUqpf7apm",
        "outputId": "c010297f-5b5e-4807-b897-1a7dfe24b478"
      },
      "source": [
        "!jps"
      ],
      "execution_count": 20,
      "outputs": [
        {
          "output_type": "stream",
          "name": "stdout",
          "text": [
            "1351 HMaster\n",
            "1659 Jps\n"
          ]
        }
      ]
    },
    {
      "cell_type": "markdown",
      "metadata": {
        "id": "gd6mdgPSFSvB"
      },
      "source": [
        "# Run Hbase Shell"
      ]
    },
    {
      "cell_type": "code",
      "metadata": {
        "colab": {
          "base_uri": "https://localhost:8080/"
        },
        "id": "42DJQfpY7oqe",
        "outputId": "7d14bb2f-ce81-47c1-a131-28f63be61ace"
      },
      "source": [
        "# you can enter hbase shell commands at the prompt. Double click on the prompt to open up a input box\n",
        "!hbase shell "
      ],
      "execution_count": 21,
      "outputs": [
        {
          "output_type": "stream",
          "name": "stdout",
          "text": [
            "SLF4J: Class path contains multiple SLF4J bindings.\n",
            "SLF4J: Found binding in [jar:file:/usr/local/hadoop-3.3.3/share/hadoop/common/lib/slf4j-reload4j-1.7.36.jar!/org/slf4j/impl/StaticLoggerBinder.class]\n",
            "SLF4J: Found binding in [jar:file:/content/hbase-2.5.0/lib/client-facing-thirdparty/log4j-slf4j-impl-2.17.2.jar!/org/slf4j/impl/StaticLoggerBinder.class]\n",
            "SLF4J: See http://www.slf4j.org/codes.html#multiple_bindings for an explanation.\n",
            "SLF4J: Actual binding is of type [org.slf4j.impl.Reload4jLoggerFactory]\n",
            "2022-10-07 09:25:31,452 INFO  [main] Configuration.deprecation (Configuration.java:logDeprecation(1294)) - hbase.client.pause.cqtbe is deprecated. Instead, use hbase.client.pause.server.overloaded\n",
            "2022-10-07 09:25:31,552 INFO  [ReadOnlyZKClient-127.0.0.1:2181@0x7910f355] zookeeper.ZooKeeper (Environment.java:logEnv(109)) - Client environment:zookeeper.version=3.5.7-f0fdd52973d373ffd9c86b81d99842dc2c7f660e, built on 02/10/2020 11:30 GMT\n",
            "2022-10-07 09:25:31,553 INFO  [ReadOnlyZKClient-127.0.0.1:2181@0x7910f355] zookeeper.ZooKeeper (Environment.java:logEnv(109)) - Client environment:host.name=284ad1f3a301\n",
            "2022-10-07 09:25:31,553 INFO  [ReadOnlyZKClient-127.0.0.1:2181@0x7910f355] zookeeper.ZooKeeper (Environment.java:logEnv(109)) - Client environment:java.version=1.8.0_342\n",
            "2022-10-07 09:25:31,553 INFO  [ReadOnlyZKClient-127.0.0.1:2181@0x7910f355] zookeeper.ZooKeeper (Environment.java:logEnv(109)) - Client environment:java.vendor=Private Build\n",
            "2022-10-07 09:25:31,553 INFO  [ReadOnlyZKClient-127.0.0.1:2181@0x7910f355] zookeeper.ZooKeeper (Environment.java:logEnv(109)) - Client environment:java.home=/usr/lib/jvm/java-8-openjdk-amd64/jre\n",
            "2022-10-07 09:25:31,553 INFO  [ReadOnlyZKClient-127.0.0.1:2181@0x7910f355] zookeeper.ZooKeeper (Environment.java:logEnv(109)) - Client environment:java.class.path=/content/hbase-2.5.0//lib/ruby/jruby-complete-9.2.13.0.jar:/content/hbase-2.5.0//conf:/usr/lib/jvm/java-8-openjdk-amd64/lib/tools.jar:/content/hbase-2.5.0/:/content/hbase-2.5.0//lib/agrona-1.12.0.jar:/content/hbase-2.5.0//lib/aircompressor-0.21.jar:/content/hbase-2.5.0//lib/aopalliance-1.0.jar:/content/hbase-2.5.0//lib/apacheds-i18n-2.0.0-M15.jar:/content/hbase-2.5.0//lib/apacheds-kerberos-codec-2.0.0-M15.jar:/content/hbase-2.5.0//lib/api-asn1-api-1.0.0-M20.jar:/content/hbase-2.5.0//lib/api-i18n-1.0.0-M20.jar:/content/hbase-2.5.0//lib/api-util-1.0.0-M20.jar:/content/hbase-2.5.0//lib/asm-3.1.jar:/content/hbase-2.5.0//lib/avro-1.11.0.jar:/content/hbase-2.5.0//lib/brotli4j-1.7.1.jar:/content/hbase-2.5.0//lib/byte-buddy-1.9.10.jar:/content/hbase-2.5.0//lib/byte-buddy-agent-1.9.10.jar:/content/hbase-2.5.0//lib/caffeine-2.8.1.jar:/content/hbase-2.5.0//lib/checker-qual-3.1.0.jar:/content/hbase-2.5.0//lib/commons-cli-1.2.jar:/content/hbase-2.5.0//lib/commons-codec-1.13.jar:/content/hbase-2.5.0//lib/commons-collections-3.2.2.jar:/content/hbase-2.5.0//lib/commons-compress-1.21.jar:/content/hbase-2.5.0//lib/commons-configuration-1.6.jar:/content/hbase-2.5.0//lib/commons-crypto-1.1.0.jar:/content/hbase-2.5.0//lib/commons-csv-1.0.jar:/content/hbase-2.5.0//lib/commons-daemon-1.0.13.jar:/content/hbase-2.5.0//lib/commons-digester-1.8.jar:/content/hbase-2.5.0//lib/commons-io-2.11.0.jar:/content/hbase-2.5.0//lib/commons-lang-2.6.jar:/content/hbase-2.5.0//lib/commons-lang3-3.9.jar:/content/hbase-2.5.0//lib/commons-math3-3.6.1.jar:/content/hbase-2.5.0//lib/commons-net-3.1.jar:/content/hbase-2.5.0//lib/curator-client-4.2.0.jar:/content/hbase-2.5.0//lib/curator-framework-4.2.0.jar:/content/hbase-2.5.0//lib/curator-recipes-4.2.0.jar:/content/hbase-2.5.0//lib/disruptor-3.4.2.jar:/content/hbase-2.5.0//lib/ehcache-3.3.1.jar:/content/hbase-2.5.0//lib/error_prone_annotations-2.14.0.jar:/content/hbase-2.5.0//lib/fst-2.50.jar:/content/hbase-2.5.0//lib/geronimo-jcache_1.0_spec-1.0-alpha-1.jar:/content/hbase-2.5.0//lib/gson-2.2.4.jar:/content/hbase-2.5.0//lib/guava-11.0.2.jar:/content/hbase-2.5.0//lib/guice-3.0.jar:/content/hbase-2.5.0//lib/guice-servlet-3.0.jar:/content/hbase-2.5.0//lib/hadoop-annotations-2.10.2.jar:/content/hbase-2.5.0//lib/hadoop-auth-2.10.2.jar:/content/hbase-2.5.0//lib/hadoop-client-2.10.2.jar:/content/hbase-2.5.0//lib/hadoop-common-2.10.2.jar:/content/hbase-2.5.0//lib/hadoop-distcp-2.10.2.jar:/content/hbase-2.5.0//lib/hadoop-hdfs-2.10.2.jar:/content/hbase-2.5.0//lib/hadoop-hdfs-2.10.2-tests.jar:/content/hbase-2.5.0//lib/hadoop-hdfs-client-2.10.2.jar:/content/hbase-2.5.0//lib/hadoop-mapreduce-client-app-2.10.2.jar:/content/hbase-2.5.0//lib/hadoop-mapreduce-client-common-2.10.2.jar:/content/hbase-2.5.0//lib/hadoop-mapreduce-client-core-2.10.2.jar:/content/hbase-2.5.0//lib/hadoop-mapreduce-client-hs-2.10.2.jar:/content/hbase-2.5.0//lib/hadoop-mapreduce-client-jobclient-2.10.2.jar:/content/hbase-2.5.0//lib/hadoop-mapreduce-client-shuffle-2.10.2.jar:/content/hbase-2.5.0//lib/hadoop-minicluster-2.10.2.jar:/content/hbase-2.5.0//lib/hadoop-yarn-api-2.10.2.jar:/content/hbase-2.5.0//lib/hadoop-yarn-client-2.10.2.jar:/content/hbase-2.5.0//lib/hadoop-yarn-common-2.10.2.jar:/content/hbase-2.5.0//lib/hadoop-yarn-registry-2.10.2.jar:/content/hbase-2.5.0//lib/hadoop-yarn-server-applicationhistoryservice-2.10.2.jar:/content/hbase-2.5.0//lib/hadoop-yarn-server-common-2.10.2.jar:/content/hbase-2.5.0//lib/hadoop-yarn-server-nodemanager-2.10.2.jar:/content/hbase-2.5.0//lib/hadoop-yarn-server-resourcemanager-2.10.2.jar:/content/hbase-2.5.0//lib/hadoop-yarn-server-tests-2.10.2-tests.jar:/content/hbase-2.5.0//lib/hadoop-yarn-server-timelineservice-2.10.2.jar:/content/hbase-2.5.0//lib/hadoop-yarn-server-web-proxy-2.10.2.jar:/content/hbase-2.5.0//lib/hamcrest-core-1.3.jar:/content/hbase-2.5.0//lib/hbase-annotations-2.5.0.jar:/content/hbase-2.5.0//lib/hbase-annotations-2.5.0-tests.jar:/content/hbase-2.5.0//lib/hbase-asyncfs-2.5.0.jar:/content/hbase-2.5.0//lib/hbase-asyncfs-2.5.0-tests.jar:/content/hbase-2.5.0//lib/hbase-client-2.5.0.jar:/content/hbase-2.5.0//lib/hbase-common-2.5.0.jar:/content/hbase-2.5.0//lib/hbase-common-2.5.0-tests.jar:/content/hbase-2.5.0//lib/hbase-compression-aircompressor-2.5.0.jar:/content/hbase-2.5.0//lib/hbase-compression-brotli-2.5.0.jar:/content/hbase-2.5.0//lib/hbase-compression-lz4-2.5.0.jar:/content/hbase-2.5.0//lib/hbase-compression-snappy-2.5.0.jar:/content/hbase-2.5.0//lib/hbase-compression-xz-2.5.0.jar:/content/hbase-2.5.0//lib/hbase-compression-zstd-2.5.0.jar:/content/hbase-2.5.0//lib/hbase-endpoint-2.5.0.jar:/content/hbase-2.5.0//lib/hbase-examples-2.5.0.jar:/content/hbase-2.5.0//lib/hbase-external-blockcache-2.5.0.jar:/content/hbase-2.5.0//lib/hbase-hadoop2-compat-2.5.0.jar:/content/hbase-2.5.0//lib/hbase-hadoop2-compat-2.5.0-tests.jar:/content/hbase-2.5.0//lib/hbase-hadoop-compat-2.5.0.jar:/content/hbase-2.5.0//lib/hbase-hadoop-compat-2.5.0-tests.jar:/content/hbase-2.5.0//lib/hbase-hbtop-2.5.0.jar:/content/hbase-2.5.0//lib/hbase-http-2.5.0.jar:/content/hbase-2.5.0//lib/hbase-it-2.5.0.jar:/content/hbase-2.5.0//lib/hbase-it-2.5.0-tests.jar:/content/hbase-2.5.0//lib/hbase-logging-2.5.0.jar:/content/hbase-2.5.0//lib/hbase-mapreduce-2.5.0.jar:/content/hbase-2.5.0//lib/hbase-mapreduce-2.5.0-tests.jar:/content/hbase-2.5.0//lib/hbase-metrics-2.5.0.jar:/content/hbase-2.5.0//lib/hbase-metrics-api-2.5.0.jar:/content/hbase-2.5.0//lib/hbase-procedure-2.5.0.jar:/content/hbase-2.5.0//lib/hbase-procedure-2.5.0-tests.jar:/content/hbase-2.5.0//lib/hbase-protocol-2.5.0.jar:/content/hbase-2.5.0//lib/hbase-protocol-shaded-2.5.0.jar:/content/hbase-2.5.0//lib/hbase-replication-2.5.0.jar:/content/hbase-2.5.0//lib/hbase-resource-bundle-2.5.0.jar:/content/hbase-2.5.0//lib/hbase-rest-2.5.0.jar:/content/hbase-2.5.0//lib/hbase-rsgroup-2.5.0.jar:/content/hbase-2.5.0//lib/hbase-rsgroup-2.5.0-tests.jar:/content/hbase-2.5.0//lib/hbase-server-2.5.0.jar:/content/hbase-2.5.0//lib/hbase-server-2.5.0-tests.jar:/content/hbase-2.5.0//lib/hbase-shaded-gson-4.1.1.jar:/content/hbase-2.5.0//lib/hbase-shaded-jackson-jaxrs-json-provider-4.1.1.jar:/content/hbase-2.5.0//lib/hbase-shaded-jersey-4.1.1.jar:/content/hbase-2.5.0//lib/hbase-shaded-jetty-4.1.1.jar:/content/hbase-2.5.0//lib/hbase-shaded-miscellaneous-4.1.1.jar:/content/hbase-2.5.0//lib/hbase-shaded-netty-4.1.1.jar:/content/hbase-2.5.0//lib/hbase-shaded-protobuf-4.1.1.jar:/content/hbase-2.5.0//lib/hbase-shell-2.5.0.jar:/content/hbase-2.5.0//lib/hbase-testing-util-2.5.0.jar:/content/hbase-2.5.0//lib/hbase-thrift-2.5.0.jar:/content/hbase-2.5.0//lib/hbase-unsafe-4.1.1.jar:/content/hbase-2.5.0//lib/hbase-zookeeper-2.5.0.jar:/content/hbase-2.5.0//lib/hbase-zookeeper-2.5.0-tests.jar:/content/hbase-2.5.0//lib/HikariCP-java7-2.4.12.jar:/content/hbase-2.5.0//lib/httpclient-4.5.13.jar:/content/hbase-2.5.0//lib/httpcore-4.4.13.jar:/content/hbase-2.5.0//lib/jackson-annotations-2.13.3.jar:/content/hbase-2.5.0//lib/jackson-core-2.13.3.jar:/content/hbase-2.5.0//lib/jackson-core-asl-1.9.13.jar:/content/hbase-2.5.0//lib/jackson-databind-2.13.3.jar:/content/hbase-2.5.0//lib/jackson-mapper-asl-1.9.13.jar:/content/hbase-2.5.0//lib/jackson-module-jaxb-annotations-2.13.3.jar:/content/hbase-2.5.0//lib/jakarta.inject-2.6.1.jar:/content/hbase-2.5.0//lib/jakarta.validation-api-2.0.2.jar:/content/hbase-2.5.0//lib/jamon-runtime-2.4.1.jar:/content/hbase-2.5.0//lib/javassist-3.25.0-GA.jar:/content/hbase-2.5.0//lib/java-util-1.9.0.jar:/content/hbase-2.5.0//lib/javax.activation-api-1.2.0.jar:/content/hbase-2.5.0//lib/javax.annotation-api-1.2.jar:/content/hbase-2.5.0//lib/javax.el-3.0.1-b08.jar:/content/hbase-2.5.0//lib/java-xmlbuilder-0.4.jar:/content/hbase-2.5.0//lib/javax.servlet-api-3.1.0.jar:/content/hbase-2.5.0//lib/javax.servlet.jsp-2.3.2.jar:/content/hbase-2.5.0//lib/javax.servlet.jsp-api-2.3.1.jar:/content/hbase-2.5.0//lib/javax.ws.rs-api-2.1.1.jar:/content/hbase-2.5.0//lib/jaxb-api-2.3.1.jar:/content/hbase-2.5.0//lib/jaxb-impl-2.2.3-1.jar:/content/hbase-2.5.0//lib/jcip-annotations-1.0-1.jar:/content/hbase-2.5.0//lib/jcodings-1.0.55.jar:/content/hbase-2.5.0//lib/jets3t-0.9.0.jar:/content/hbase-2.5.0//lib/jettison-1.3.8.jar:/content/hbase-2.5.0//lib/jetty-6.1.26.jar:/content/hbase-2.5.0//lib/jetty-sslengine-6.1.26.jar:/content/hbase-2.5.0//lib/jetty-util-6.1.26.jar:/content/hbase-2.5.0//lib/joni-2.1.31.jar:/content/hbase-2.5.0//lib/jsch-0.1.55.jar:/content/hbase-2.5.0//lib/json-io-2.5.1.jar:/content/hbase-2.5.0//lib/jsr311-api-1.1.1.jar:/content/hbase-2.5.0//lib/junit-4.13.2.jar:/content/hbase-2.5.0//lib/leveldbjni-all-1.8.jar:/content/hbase-2.5.0//lib/libthrift-0.14.1.jar:/content/hbase-2.5.0//lib/lz4-java-1.8.0.jar:/content/hbase-2.5.0//lib/metrics-core-3.0.1.jar:/content/hbase-2.5.0//lib/metrics-core-3.2.6.jar:/content/hbase-2.5.0//lib/mockito-core-2.28.2.jar:/content/hbase-2.5.0//lib/mssql-jdbc-6.2.1.jre7.jar:/content/hbase-2.5.0//lib/native-linux-x86_64-1.7.1.jar:/content/hbase-2.5.0//lib/netty-buffer-4.1.45.Final.jar:/content/hbase-2.5.0//lib/netty-codec-4.1.45.Final.jar:/content/hbase-2.5.0//lib/netty-common-4.1.45.Final.jar:/content/hbase-2.5.0//lib/netty-handler-4.1.45.Final.jar:/content/hbase-2.5.0//lib/netty-resolver-4.1.45.Final.jar:/content/hbase-2.5.0//lib/netty-transport-4.1.45.Final.jar:/content/hbase-2.5.0//lib/netty-transport-native-epoll-4.1.45.Final.jar:/content/hbase-2.5.0//lib/netty-transport-native-unix-common-4.1.45.Final.jar:/content/hbase-2.5.0//lib/nimbus-jose-jwt-7.9.jar:/content/hbase-2.5.0//lib/objenesis-2.6.jar:/content/hbase-2.5.0//lib/okhttp-2.7.5.jar:/content/hbase-2.5.0//lib/okio-1.6.0.jar:/content/hbase-2.5.0//lib/opentelemetry-api-1.15.0.jar:/content/hbase-2.5.0//lib/opentelemetry-context-1.15.0.jar:/content/hbase-2.5.0//lib/opentelemetry-semconv-1.15.0-alpha.jar:/content/hbase-2.5.0//lib/protobuf-java-2.5.0.jar:/content/hbase-2.5.0//lib/snappy-java-1.1.8.4.jar:/content/hbase-2.5.0//lib/spymemcached-2.12.2.jar:/content/hbase-2.5.0//lib/stax2-api-4.2.1.jar:/content/hbase-2.5.0//lib/woodstox-core-5.3.0.jar:/content/hbase-2.5.0//lib/xmlenc-0.52.jar:/content/hbase-2.5.0//lib/xz-1.9.jar:/content/hbase-2.5.0//lib/zookeeper-3.5.7.jar:/content/hbase-2.5.0//lib/zookeeper-jute-3.5.7.jar:/content/hbase-2.5.0//lib/zstd-jni-1.5.0-4.jar:/content/hbase-2.5.0//lib/client-facing-thirdparty/audience-annotations-0.5.0.jar:/content/hbase-2.5.0//lib/client-facing-thirdparty/commons-logging-1.2.jar:/content/hbase-2.5.0//lib/client-facing-thirdparty/htrace-core4-4.1.0-incubating.jar:/content/hbase-2.5.0//lib/client-facing-thirdparty/jcl-over-slf4j-1.7.33.jar:/content/hbase-2.5.0//lib/client-facing-thirdparty/jul-to-slf4j-1.7.33.jar:/content/hbase-2.5.0//lib/client-facing-thirdparty/opentelemetry-api-1.15.0.jar:/content/hbase-2.5.0//lib/client-facing-thirdparty/opentelemetry-context-1.15.0.jar:/content/hbase-2.5.0//lib/client-facing-thirdparty/opentelemetry-semconv-1.15.0-alpha.jar:/usr/local/hadoop-3.3.3//etc/hadoop:/usr/local/hadoop-3.3.3//share/hadoop/common/lib/jsp-api-2.1.jar:/usr/local/hadoop-3.3.3//share/hadoop/common/lib/kerb-identity-1.0.1.jar:/usr/local/hadoop-3.3.3//share/hadoop/common/lib/paranamer-2.3.jar:/usr/local/hadoop-3.3.3//share/hadoop/common/lib/accessors-smart-2.4.7.jar:/usr/local/hadoop-3.3.3//share/hadoop/common/lib/commons-io-2.8.0.jar:/usr/local/hadoop-3.3.3//share/hadoop/common/lib/jackson-core-asl-1.9.13.jar:/usr/local/hadoop-3.3.3//share/hadoop/common/lib/jackson-mapper-asl-1.9.13.jar:/usr/local/hadoop-3.3.3//share/hadoop/common/lib/jackson-databind-2.13.2.2.jar:/usr/local/hadoop-3.3.3//share/hadoop/common/lib/kerb-server-1.0.1.jar:/usr/local/hadoop-3.3.3//share/hadoop/common/lib/hadoop-annotations-3.3.3.jar:/usr/local/hadoop-3.3.3//share/hadoop/common/lib/metrics-core-3.2.4.jar:/usr/local/hadoop-3.3.3//share/hadoop/common/lib/jsr305-3.0.2.jar:/usr/local/hadoop-3.3.3//share/hadoop/common/lib/kerb-util-1.0.1.jar:/usr/local/hadoop-3.3.3//share/hadoop/common/lib/jaxb-api-2.2.11.jar:/usr/local/hadoop-3.3.3//share/hadoop/common/lib/token-provider-1.0.1.jar:/usr/local/hadoop-3.3.3//share/hadoop/common/lib/zookeeper-3.5.6.jar:/usr/local/hadoop-3.3.3//share/hadoop/common/lib/json-smart-2.4.7.jar:/usr/local/hadoop-3.3.3//share/hadoop/common/lib/jackson-xc-1.9.13.jar:/usr/local/hadoop-3.3.3//share/hadoop/common/lib/jackson-annotations-2.13.2.jar:/usr/local/hadoop-3.3.3//share/hadoop/common/lib/commons-daemon-1.0.13.jar:/usr/local/hadoop-3.3.3//share/hadoop/common/lib/kerb-simplekdc-1.0.1.jar:/usr/local/hadoop-3.3.3//share/hadoop/common/lib/jetty-http-9.4.43.v20210629.jar:/usr/local/hadoop-3.3.3//share/hadoop/common/lib/protobuf-java-2.5.0.jar:/usr/local/hadoop-3.3.3//share/hadoop/common/lib/gson-2.8.9.jar:/usr/local/hadoop-3.3.3//share/hadoop/common/lib/commons-beanutils-1.9.4.jar:/usr/local/hadoop-3.3.3//share/hadoop/common/lib/curator-recipes-4.2.0.jar:/usr/local/hadoop-3.3.3//share/hadoop/common/lib/jetty-io-9.4.43.v20210629.jar:/usr/local/hadoop-3.3.3//share/hadoop/common/lib/kerb-core-1.0.1.jar:/usr/local/hadoop-3.3.3//share/hadoop/common/lib/commons-cli-1.2.jar:/usr/local/hadoop-3.3.3//share/hadoop/common/lib/curator-framework-4.2.0.jar:/usr/local/hadoop-3.3.3//share/hadoop/common/lib/commons-collections-3.2.2.jar:/usr/local/hadoop-3.3.3//share/hadoop/common/lib/jettison-1.1.jar:/usr/local/hadoop-3.3.3//share/hadoop/common/lib/kerby-asn1-1.0.1.jar:/usr/local/hadoop-3.3.3//share/hadoop/common/lib/jetty-util-9.4.43.v20210629.jar:/usr/local/hadoop-3.3.3//share/hadoop/common/lib/commons-compress-1.21.jar:/usr/local/hadoop-3.3.3//share/hadoop/common/lib/reload4j-1.2.18.3.jar:/usr/local/hadoop-3.3.3//share/hadoop/common/lib/jackson-core-2.13.2.jar:/usr/local/hadoop-3.3.3//share/hadoop/common/lib/commons-configuration2-2.1.1.jar:/usr/local/hadoop-3.3.3//share/hadoop/common/lib/commons-logging-1.1.3.jar:/usr/local/hadoop-3.3.3//share/hadoop/common/lib/jetty-webapp-9.4.43.v20210629.jar:/usr/local/hadoop-3.3.3//share/hadoop/common/lib/jsr311-api-1.1.1.jar:/usr/local/hadoop-3.3.3//share/hadoop/common/lib/netty-3.10.6.Final.jar:/usr/local/hadoop-3.3.3//share/hadoop/common/lib/jsch-0.1.55.jar:/usr/local/hadoop-3.3.3//share/hadoop/common/lib/kerb-common-1.0.1.jar:/usr/local/hadoop-3.3.3//share/hadoop/common/lib/jersey-json-1.19.jar:/usr/local/hadoop-3.3.3//share/hadoop/common/lib/commons-text-1.4.jar:/usr/local/hadoop-3.3.3//share/hadoop/common/lib/jetty-server-9.4.43.v20210629.jar:/usr/local/hadoop-3.3.3//share/hadoop/common/lib/kerby-config-1.0.1.jar:/usr/local/hadoop-3.3.3//share/hadoop/common/lib/jetty-servlet-9.4.43.v20210629.jar:/usr/local/hadoop-3.3.3//share/hadoop/common/lib/commons-math3-3.1.1.jar:/usr/local/hadoop-3.3.3//share/hadoop/common/lib/re2j-1.1.jar:/usr/local/hadoop-3.3.3//share/hadoop/common/lib/zookeeper-jute-3.5.6.jar:/usr/local/hadoop-3.3.3//share/hadoop/common/lib/hadoop-shaded-guava-1.1.1.jar:/usr/local/hadoop-3.3.3//share/hadoop/common/lib/jersey-core-1.19.jar:/usr/local/hadoop-3.3.3//share/hadoop/common/lib/jersey-servlet-1.19.jar:/usr/local/hadoop-3.3.3//share/hadoop/common/lib/kerby-pkix-1.0.1.jar:/usr/local/hadoop-3.3.3//share/hadoop/common/lib/jaxb-impl-2.2.3-1.jar:/usr/local/hadoop-3.3.3//share/hadoop/common/lib/curator-client-4.2.0.jar:/usr/local/hadoop-3.3.3//share/hadoop/common/lib/jackson-jaxrs-1.9.13.jar:/usr/local/hadoop-3.3.3//share/hadoop/common/lib/kerby-util-1.0.1.jar:/usr/local/hadoop-3.3.3//share/hadoop/common/lib/javax.servlet-api-3.1.0.jar:/usr/local/hadoop-3.3.3//share/hadoop/common/lib/listenablefuture-9999.0-empty-to-avoid-conflict-with-guava.jar:/usr/local/hadoop-3.3.3//share/hadoop/common/lib/failureaccess-1.0.jar:/usr/local/hadoop-3.3.3//share/hadoop/common/lib/checker-qual-2.5.2.jar:/usr/local/hadoop-3.3.3//share/hadoop/common/lib/animal-sniffer-annotations-1.17.jar:/usr/local/hadoop-3.3.3//share/hadoop/common/lib/dnsjava-2.1.7.jar:/usr/local/hadoop-3.3.3//share/hadoop/common/lib/slf4j-reload4j-1.7.36.jar:/usr/local/hadoop-3.3.3//share/hadoop/common/lib/nimbus-jose-jwt-9.8.1.jar:/usr/local/hadoop-3.3.3//share/hadoop/common/lib/kerb-admin-1.0.1.jar:/usr/local/hadoop-3.3.3//share/hadoop/common/lib/jcip-annotations-1.0-1.jar:/usr/local/hadoop-3.3.3//share/hadoop/common/lib/audience-annotations-0.5.0.jar:/usr/local/hadoop-3.3.3//share/hadoop/common/lib/jersey-server-1.19.jar:/usr/local/hadoop-3.3.3//share/hadoop/common/lib/hadoop-shaded-protobuf_3_7-1.1.1.jar:/usr/local/hadoop-3.3.3//share/hadoop/common/lib/jetty-security-9.4.43.v20210629.jar:/usr/local/hadoop-3.3.3//share/hadoop/common/lib/httpclient-4.5.13.jar:/usr/local/hadoop-3.3.3//share/hadoop/common/lib/kerby-xdr-1.0.1.jar:/usr/local/hadoop-3.3.3//share/hadoop/common/lib/jetty-util-ajax-9.4.43.v20210629.jar:/usr/local/hadoop-3.3.3//share/hadoop/common/lib/jetty-xml-9.4.43.v20210629.jar:/usr/local/hadoop-3.3.3//share/hadoop/common/lib/jul-to-slf4j-1.7.36.jar:/usr/local/hadoop-3.3.3//share/hadoop/common/lib/httpcore-4.4.13.jar:/usr/local/hadoop-3.3.3//share/hadoop/common/lib/snappy-java-1.1.8.2.jar:/usr/local/hadoop-3.3.3//share/hadoop/common/lib/jakarta.activation-api-1.2.1.jar:/usr/local/hadoop-3.3.3//share/hadoop/common/lib/asm-5.0.4.jar:/usr/local/hadoop-3.3.3//share/hadoop/common/lib/woodstox-core-5.3.0.jar:/usr/local/hadoop-3.3.3//share/hadoop/common/lib/hadoop-auth-3.3.3.jar:/usr/local/hadoop-3.3.3//share/hadoop/common/lib/j2objc-annotations-1.1.jar:/usr/local/hadoop-3.3.3//share/hadoop/common/lib/stax2-api-4.2.1.jar:/usr/local/hadoop-3.3.3//share/hadoop/common/lib/commons-net-3.6.jar:/usr/local/hadoop-3.3.3//share/hadoop/common/lib/avro-1.7.7.jar:/usr/local/hadoop-3.3.3//share/hadoop/common/lib/kerb-client-1.0.1.jar:/usr/local/hadoop-3.3.3//share/hadoop/common/lib/guava-27.0-jre.jar:/usr/local/hadoop-3.3.3//share/hadoop/common/lib/slf4j-api-1.7.36.jar:/usr/local/hadoop-3.3.3//share/hadoop/common/lib/kerb-crypto-1.0.1.jar:/usr/local/hadoop-3.3.3//share/hadoop/common/lib/commons-codec-1.15.jar:/usr/local/hadoop-3.3.3//share/hadoop/common/lib/commons-lang3-3.12.0.jar:/usr/local/hadoop-3.3.3//share/hadoop/common/hadoop-kms-3.3.3.jar:/usr/local/hadoop-3.3.3//share/hadoop/common/hadoop-registry-3.3.3.jar:/usr/local/hadoop-3.3.3//share/hadoop/common/hadoop-common-3.3.3-tests.jar:/usr/local/hadoop-3.3.3//share/hadoop/common/hadoop-common-3.3.3.jar:/usr/local/hadoop-3.3.3//share/hadoop/common/hadoop-nfs-3.3.3.jar:/usr/local/hadoop-3.3.3//share/hadoop/hdfs:/usr/local/hadoop-3.3.3//share/hadoop/hdfs/lib/kerb-identity-1.0.1.jar:/usr/local/hadoop-3.3.3//share/hadoop/hdfs/lib/paranamer-2.3.jar:/usr/local/hadoop-3.3.3//share/hadoop/hdfs/lib/accessors-smart-2.4.7.jar:/usr/local/hadoop-3.3.3//share/hadoop/hdfs/lib/commons-io-2.8.0.jar:/usr/local/hadoop-3.3.3//share/hadoop/hdfs/lib/jackson-core-asl-1.9.13.jar:/usr/local/hadoop-3.3.3//share/hadoop/hdfs/lib/jackson-mapper-asl-1.9.13.jar:/usr/local/hadoop-3.3.3//share/hadoop/hdfs/lib/jackson-databind-2.13.2.2.jar:/usr/local/hadoop-3.3.3//share/hadoop/hdfs/lib/kerb-server-1.0.1.jar:/usr/local/hadoop-3.3.3//share/hadoop/hdfs/lib/json-simple-1.1.1.jar:/usr/local/hadoop-3.3.3//share/hadoop/hdfs/lib/hadoop-annotations-3.3.3.jar:/usr/local/hadoop-3.3.3//share/hadoop/hdfs/lib/jsr305-3.0.2.jar:/usr/local/hadoop-3.3.3//share/hadoop/hdfs/lib/kerb-util-1.0.1.jar:/usr/local/hadoop-3.3.3//share/hadoop/hdfs/lib/jaxb-api-2.2.11.jar:/usr/local/hadoop-3.3.3//share/hadoop/hdfs/lib/token-provider-1.0.1.jar:/usr/local/hadoop-3.3.3//share/hadoop/hdfs/lib/zookeeper-3.5.6.jar:/usr/local/hadoop-3.3.3//share/hadoop/hdfs/lib/json-smart-2.4.7.jar:/usr/local/hadoop-3.3.3//share/hadoop/hdfs/lib/jackson-xc-1.9.13.jar:/usr/local/hadoop-3.3.3//share/hadoop/hdfs/lib/jackson-annotations-2.13.2.jar:/usr/local/hadoop-3.3.3//share/hadoop/hdfs/lib/commons-daemon-1.0.13.jar:/usr/local/hadoop-3.3.3//share/hadoop/hdfs/lib/kerb-simplekdc-1.0.1.jar:/usr/local/hadoop-3.3.3//share/hadoop/hdfs/lib/jetty-http-9.4.43.v20210629.jar:/usr/local/hadoop-3.3.3//share/hadoop/hdfs/lib/protobuf-java-2.5.0.jar:/usr/local/hadoop-3.3.3//share/hadoop/hdfs/lib/gson-2.8.9.jar:/usr/local/hadoop-3.3.3//share/hadoop/hdfs/lib/commons-beanutils-1.9.4.jar:/usr/local/hadoop-3.3.3//share/hadoop/hdfs/lib/curator-recipes-4.2.0.jar:/usr/local/hadoop-3.3.3//share/hadoop/hdfs/lib/jetty-io-9.4.43.v20210629.jar:/usr/local/hadoop-3.3.3//share/hadoop/hdfs/lib/kerb-core-1.0.1.jar:/usr/local/hadoop-3.3.3//share/hadoop/hdfs/lib/commons-cli-1.2.jar:/usr/local/hadoop-3.3.3//share/hadoop/hdfs/lib/curator-framework-4.2.0.jar:/usr/local/hadoop-3.3.3//share/hadoop/hdfs/lib/commons-collections-3.2.2.jar:/usr/local/hadoop-3.3.3//share/hadoop/hdfs/lib/jettison-1.1.jar:/usr/local/hadoop-3.3.3//share/hadoop/hdfs/lib/kerby-asn1-1.0.1.jar:/usr/local/hadoop-3.3.3//share/hadoop/hdfs/lib/jetty-util-9.4.43.v20210629.jar:/usr/local/hadoop-3.3.3//share/hadoop/hdfs/lib/commons-compress-1.21.jar:/usr/local/hadoop-3.3.3//share/hadoop/hdfs/lib/reload4j-1.2.18.3.jar:/usr/local/hadoop-3.3.3//share/hadoop/hdfs/lib/jackson-core-2.13.2.jar:/usr/local/hadoop-3.3.3//share/hadoop/hdfs/lib/commons-configuration2-2.1.1.jar:/usr/local/hadoop-3.3.3//share/hadoop/hdfs/lib/commons-logging-1.1.3.jar:/usr/local/hadoop-3.3.3//share/hadoop/hdfs/lib/jetty-webapp-9.4.43.v20210629.jar:/usr/local/hadoop-3.3.3//share/hadoop/hdfs/lib/jsr311-api-1.1.1.jar:/usr/local/hadoop-3.3.3//share/hadoop/hdfs/lib/netty-3.10.6.Final.jar:/usr/local/hadoop-3.3.3//share/hadoop/hdfs/lib/jsch-0.1.55.jar:/usr/local/hadoop-3.3.3//share/hadoop/hdfs/lib/kerb-common-1.0.1.jar:/usr/local/hadoop-3.3.3//share/hadoop/hdfs/lib/jersey-json-1.19.jar:/usr/local/hadoop-3.3.3//share/hadoop/hdfs/lib/commons-text-1.4.jar:/usr/local/hadoop-3.3.3//share/hadoop/hdfs/lib/jetty-server-9.4.43.v20210629.jar:/usr/local/hadoop-3.3.3//share/hadoop/hdfs/lib/kerby-config-1.0.1.jar:/usr/local/hadoop-3.3.3//share/hadoop/hdfs/lib/jetty-servlet-9.4.43.v20210629.jar:/usr/local/hadoop-3.3.3//share/hadoop/hdfs/lib/commons-math3-3.1.1.jar:/usr/local/hadoop-3.3.3//share/hadoop/hdfs/lib/okio-1.6.0.jar:/usr/local/hadoop-3.3.3//share/hadoop/hdfs/lib/re2j-1.1.jar:/usr/local/hadoop-3.3.3//share/hadoop/hdfs/lib/zookeeper-jute-3.5.6.jar:/usr/local/hadoop-3.3.3//share/hadoop/hdfs/lib/hadoop-shaded-guava-1.1.1.jar:/usr/local/hadoop-3.3.3//share/hadoop/hdfs/lib/jersey-core-1.19.jar:/usr/local/hadoop-3.3.3//share/hadoop/hdfs/lib/jersey-servlet-1.19.jar:/usr/local/hadoop-3.3.3//share/hadoop/hdfs/lib/kerby-pkix-1.0.1.jar:/usr/local/hadoop-3.3.3//share/hadoop/hdfs/lib/jaxb-impl-2.2.3-1.jar:/usr/local/hadoop-3.3.3//share/hadoop/hdfs/lib/curator-client-4.2.0.jar:/usr/local/hadoop-3.3.3//share/hadoop/hdfs/lib/jackson-jaxrs-1.9.13.jar:/usr/local/hadoop-3.3.3//share/hadoop/hdfs/lib/kerby-util-1.0.1.jar:/usr/local/hadoop-3.3.3//share/hadoop/hdfs/lib/javax.servlet-api-3.1.0.jar:/usr/local/hadoop-3.3.3//share/hadoop/hdfs/lib/listenablefuture-9999.0-empty-to-avoid-conflict-with-guava.jar:/usr/local/hadoop-3.3.3//share/hadoop/hdfs/lib/failureaccess-1.0.jar:/usr/local/hadoop-3.3.3//share/hadoop/hdfs/lib/checker-qual-2.5.2.jar:/usr/local/hadoop-3.3.3//share/hadoop/hdfs/lib/animal-sniffer-annotations-1.17.jar:/usr/local/hadoop-3.3.3//share/hadoop/hdfs/lib/leveldbjni-all-1.8.jar:/usr/local/hadoop-3.3.3//share/hadoop/hdfs/lib/dnsjava-2.1.7.jar:/usr/local/hadoop-3.3.3//share/hadoop/hdfs/lib/nimbus-jose-jwt-9.8.1.jar:/usr/local/hadoop-3.3.3//share/hadoop/hdfs/lib/kerb-admin-1.0.1.jar:/usr/local/hadoop-3.3.3//share/hadoop/hdfs/lib/jcip-annotations-1.0-1.jar:/usr/local/hadoop-3.3.3//share/hadoop/hdfs/lib/audience-annotations-0.5.0.jar:/usr/local/hadoop-3.3.3//share/hadoop/hdfs/lib/okhttp-2.7.5.jar:/usr/local/hadoop-3.3.3//share/hadoop/hdfs/lib/jersey-server-1.19.jar:/usr/local/hadoop-3.3.3//share/hadoop/hdfs/lib/hadoop-shaded-protobuf_3_7-1.1.1.jar:/usr/local/hadoop-3.3.3//share/hadoop/hdfs/lib/netty-all-4.1.68.Final.jar:/usr/local/hadoop-3.3.3//share/hadoop/hdfs/lib/jetty-security-9.4.43.v20210629.jar:/usr/local/hadoop-3.3.3//share/hadoop/hdfs/lib/httpclient-4.5.13.jar:/usr/local/hadoop-3.3.3//share/hadoop/hdfs/lib/kerby-xdr-1.0.1.jar:/usr/local/hadoop-3.3.3//share/hadoop/hdfs/lib/jetty-util-ajax-9.4.43.v20210629.jar:/usr/local/hadoop-3.3.3//share/hadoop/hdfs/lib/jetty-xml-9.4.43.v20210629.jar:/usr/local/hadoop-3.3.3//share/hadoop/hdfs/lib/httpcore-4.4.13.jar:/usr/local/hadoop-3.3.3//share/hadoop/hdfs/lib/snappy-java-1.1.8.2.jar:/usr/local/hadoop-3.3.3//share/hadoop/hdfs/lib/jakarta.activation-api-1.2.1.jar:/usr/local/hadoop-3.3.3//share/hadoop/hdfs/lib/asm-5.0.4.jar:/usr/local/hadoop-3.3.3//share/hadoop/hdfs/lib/woodstox-core-5.3.0.jar:/usr/local/hadoop-3.3.3//share/hadoop/hdfs/lib/hadoop-auth-3.3.3.jar:/usr/local/hadoop-3.3.3//share/hadoop/hdfs/lib/j2objc-annotations-1.1.jar:/usr/local/hadoop-3.3.3//share/hadoop/hdfs/lib/stax2-api-4.2.1.jar:/usr/local/hadoop-3.3.3//share/hadoop/hdfs/lib/commons-net-3.6.jar:/usr/local/hadoop-3.3.3//share/hadoop/hdfs/lib/avro-1.7.7.jar:/usr/local/hadoop-3.3.3//share/hadoop/hdfs/lib/kerb-client-1.0.1.jar:/usr/local/hadoop-3.3.3//share/hadoop/hdfs/lib/guava-27.0-jre.jar:/usr/local/hadoop-3.3.3//share/hadoop/hdfs/lib/kerb-crypto-1.0.1.jar:/usr/local/hadoop-3.3.3//share/hadoop/hdfs/lib/commons-codec-1.15.jar:/usr/local/hadoop-3.3.3//share/hadoop/hdfs/lib/commons-lang3-3.12.0.jar:/usr/local/hadoop-3.3.3//share/hadoop/hdfs/hadoop-hdfs-client-3.3.3.jar:/usr/local/hadoop-3.3.3//share/hadoop/hdfs/hadoop-hdfs-rbf-3.3.3.jar:/usr/local/hadoop-3.3.3//share/hadoop/hdfs/hadoop-hdfs-3.3.3.jar:/usr/local/hadoop-3.3.3//share/hadoop/hdfs/hadoop-hdfs-rbf-3.3.3-tests.jar:/usr/local/hadoop-3.3.3//share/hadoop/hdfs/hadoop-hdfs-native-client-3.3.3.jar:/usr/local/hadoop-3.3.3//share/hadoop/hdfs/hadoop-hdfs-native-client-3.3.3-tests.jar:/usr/local/hadoop-3.3.3//share/hadoop/hdfs/hadoop-hdfs-3.3.3-tests.jar:/usr/local/hadoop-3.3.3//share/hadoop/hdfs/hadoop-hdfs-httpfs-3.3.3.jar:/usr/local/hadoop-3.3.3//share/hadoop/hdfs/hadoop-hdfs-nfs-3.3.3.jar:/usr/local/hadoop-3.3.3//share/hadoop/hdfs/hadoop-hdfs-client-3.3.3-tests.jar:/usr/local/hadoop-3.3.3//share/hadoop/mapreduce/hadoop-mapreduce-client-core-3.3.3.jar:/usr/local/hadoop-3.3.3//share/hadoop/mapreduce/hadoop-mapreduce-client-app-3.3.3.jar:/usr/local/hadoop-3.3.3//share/hadoop/mapreduce/hadoop-mapreduce-client-common-3.3.3.jar:/usr/local/hadoop-3.3.3//share/hadoop/mapreduce/hadoop-mapreduce-client-shuffle-3.3.3.jar:/usr/local/hadoop-3.3.3//share/hadoop/mapreduce/hadoop-mapreduce-examples-3.3.3.jar:/usr/local/hadoop-3.3.3//share/hadoop/mapreduce/hadoop-mapreduce-client-uploader-3.3.3.jar:/usr/local/hadoop-3.3.3//share/hadoop/mapreduce/hadoop-mapreduce-client-jobclient-3.3.3.jar:/usr/local/hadoop-3.3.3//share/hadoop/mapreduce/hadoop-mapreduce-client-hs-plugins-3.3.3.jar:/usr/local/hadoop-3.3.3//share/hadoop/mapreduce/hadoop-mapreduce-client-nativetask-3.3.3.jar:/usr/local/hadoop-3.3.3//share/hadoop/mapreduce/hadoop-mapreduce-client-jobclient-3.3.3-tests.jar:/usr/local/hadoop-3.3.3//share/hadoop/mapreduce/hadoop-mapreduce-client-hs-3.3.3.jar:/usr/local/hadoop-3.3.3//share/hadoop/yarn:/usr/local/hadoop-3.3.3//share/hadoop/yarn/lib/jna-5.2.0.jar:/usr/local/hadoop-3.3.3//share/hadoop/yarn/lib/json-io-2.5.1.jar:/usr/local/hadoop-3.3.3//share/hadoop/yarn/lib/objenesis-2.6.jar:/usr/local/hadoop-3.3.3//share/hadoop/yarn/lib/metrics-core-3.2.4.jar:/usr/local/hadoop-3.3.3//share/hadoop/yarn/lib/javax.inject-1.jar:/usr/local/hadoop-3.3.3//share/hadoop/yarn/lib/snakeyaml-1.26.jar:/usr/local/hadoop-3.3.3//share/hadoop/yarn/lib/HikariCP-java7-2.4.12.jar:/usr/local/hadoop-3.3.3//share/hadoop/yarn/lib/asm-tree-9.1.jar:/usr/local/hadoop-3.3.3//share/hadoop/yarn/lib/bcpkix-jdk15on-1.60.jar:/usr/local/hadoop-3.3.3//share/hadoop/yarn/lib/jetty-jndi-9.4.43.v20210629.jar:/usr/local/hadoop-3.3.3//share/hadoop/yarn/lib/mssql-jdbc-6.2.1.jre7.jar:/usr/local/hadoop-3.3.3//share/hadoop/yarn/lib/aopalliance-1.0.jar:/usr/local/hadoop-3.3.3//share/hadoop/yarn/lib/javax.ws.rs-api-2.1.1.jar:/usr/local/hadoop-3.3.3//share/hadoop/yarn/lib/websocket-api-9.4.43.v20210629.jar:/usr/local/hadoop-3.3.3//share/hadoop/yarn/lib/jetty-client-9.4.43.v20210629.jar:/usr/local/hadoop-3.3.3//share/hadoop/yarn/lib/jetty-annotations-9.4.43.v20210629.jar:/usr/local/hadoop-3.3.3//share/hadoop/yarn/lib/websocket-server-9.4.43.v20210629.jar:/usr/local/hadoop-3.3.3//share/hadoop/yarn/lib/geronimo-jcache_1.0_spec-1.0-alpha-1.jar:/usr/local/hadoop-3.3.3//share/hadoop/yarn/lib/jackson-jaxrs-base-2.13.2.jar:/usr/local/hadoop-3.3.3//share/hadoop/yarn/lib/websocket-servlet-9.4.43.v20210629.jar:/usr/local/hadoop-3.3.3//share/hadoop/yarn/lib/jetty-plus-9.4.43.v20210629.jar:/usr/local/hadoop-3.3.3//share/hadoop/yarn/lib/java-util-1.9.0.jar:/usr/local/hadoop-3.3.3//share/hadoop/yarn/lib/websocket-client-9.4.43.v20210629.jar:/usr/local/hadoop-3.3.3//share/hadoop/yarn/lib/swagger-annotations-1.5.4.jar:/usr/local/hadoop-3.3.3//share/hadoop/yarn/lib/jakarta.xml.bind-api-2.3.3.jar:/usr/local/hadoop-3.3.3//share/hadoop/yarn/lib/ehcache-3.3.1.jar:/usr/local/hadoop-3.3.3//share/hadoop/yarn/lib/guice-servlet-4.0.jar:/usr/local/hadoop-3.3.3//share/hadoop/yarn/lib/javax-websocket-server-impl-9.4.43.v20210629.jar:/usr/local/hadoop-3.3.3//share/hadoop/yarn/lib/jline-3.9.0.jar:/usr/local/hadoop-3.3.3//share/hadoop/yarn/lib/javax-websocket-client-impl-9.4.43.v20210629.jar:/usr/local/hadoop-3.3.3//share/hadoop/yarn/lib/asm-analysis-9.1.jar:/usr/local/hadoop-3.3.3//share/hadoop/yarn/lib/asm-commons-9.1.jar:/usr/local/hadoop-3.3.3//share/hadoop/yarn/lib/jackson-jaxrs-json-provider-2.13.2.jar:/usr/local/hadoop-3.3.3//share/hadoop/yarn/lib/jersey-guice-1.19.jar:/usr/local/hadoop-3.3.3//share/hadoop/yarn/lib/fst-2.50.jar:/usr/local/hadoop-3.3.3//share/hadoop/yarn/lib/bcprov-jdk15on-1.60.jar:/usr/local/hadoop-3.3.3//share/hadoop/yarn/lib/guice-4.0.jar:/usr/local/hadoop-3.3.3//share/hadoop/yarn/lib/javax.websocket-client-api-1.0.jar:/usr/local/hadoop-3.3.3//share/hadoop/yarn/lib/websocket-common-9.4.43.v20210629.jar:/usr/local/hadoop-3.3.3//share/hadoop/yarn/lib/jersey-client-1.19.jar:/usr/local/hadoop-3.3.3//share/hadoop/yarn/lib/javax.websocket-api-1.0.jar:/usr/local/hadoop-3.3.3//share/hadoop/yarn/lib/jackson-module-jaxb-annotations-2.13.2.jar:/usr/local/hadoop-3.3.3//share/hadoop/yarn/hadoop-yarn-server-applicationhistoryservice-3.3.3.jar:/usr/local/hadoop-3.3.3//share/hadoop/yarn/hadoop-yarn-applications-distributedshell-3.3.3.jar:/usr/local/hadoop-3.3.3//share/hadoop/yarn/hadoop-yarn-services-api-3.3.3.jar:/usr/local/hadoop-3.3.3//share/hadoop/yarn/hadoop-yarn-client-3.3.3.jar:/usr/local/hadoop-3.3.3//share/hadoop/yarn/hadoop-yarn-server-nodemanager-3.3.3.jar:/usr/local/hadoop-3.3.3//share/hadoop/yarn/hadoop-yarn-applications-mawo-core-3.3.3.jar:/usr/local/hadoop-3.3.3//share/hadoop/yarn/hadoop-yarn-applications-unmanaged-am-launcher-3.3.3.jar:/usr/local/hadoop-3.3.3//share/hadoop/yarn/hadoop-yarn-server-common-3.3.3.jar:/usr/local/hadoop-3.3.3//share/hadoop/yarn/hadoop-yarn-server-resourcemanager-3.3.3.jar:/usr/local/hadoop-3.3.3//share/hadoop/yarn/hadoop-yarn-server-tests-3.3.3.jar:/usr/local/hadoop-3.3.3//share/hadoop/yarn/hadoop-yarn-api-3.3.3.jar:/usr/local/hadoop-3.3.3//share/hadoop/yarn/hadoop-yarn-server-timeline-pluginstorage-3.3.3.jar:/usr/local/hadoop-3.3.3//share/hadoop/yarn/hadoop-yarn-services-core-3.3.3.jar:/usr/local/hadoop-3.3.3//share/hadoop/yarn/hadoop-yarn-server-router-3.3.3.jar:/usr/local/hadoop-3.3.3//share/hadoop/yarn/hadoop-yarn-server-web-proxy-3.3.3.jar:/usr/local/hadoop-3.3.3//share/hadoop/yarn/hadoop-yarn-server-sharedcachemanager-3.3.3.jar:/usr/local/hadoop-3.3.3//share/hadoop/yarn/hadoop-yarn-common-3.3.3.jar:/usr/local/hadoop-3.3.3//share/hadoop/yarn/hadoop-yarn-registry-3.3.3.jar:/content/hbase-2.5.0//lib/client-facing-thirdparty/log4j-1.2-api-2.17.2.jar:/content/hbase-2.5.0//lib/client-facing-thirdparty/log4j-api-2.17.2.jar:/content/hbase-2.5.0//lib/client-facing-thirdparty/log4j-core-2.17.2.jar:/content/hbase-2.5.0//lib/client-facing-thirdparty/log4j-slf4j-impl-2.17.2.jar\n",
            "2022-10-07 09:25:31,699 INFO  [ReadOnlyZKClient-127.0.0.1:2181@0x7910f355] zookeeper.ZooKeeper (Environment.java:logEnv(109)) - Client environment:java.library.path=/usr/local/hadoop-3.3.3//lib/native\n",
            "2022-10-07 09:25:31,703 INFO  [ReadOnlyZKClient-127.0.0.1:2181@0x7910f355] zookeeper.ZooKeeper (Environment.java:logEnv(109)) - Client environment:java.io.tmpdir=/tmp\n",
            "2022-10-07 09:25:31,703 INFO  [ReadOnlyZKClient-127.0.0.1:2181@0x7910f355] zookeeper.ZooKeeper (Environment.java:logEnv(109)) - Client environment:java.compiler=<NA>\n",
            "2022-10-07 09:25:31,703 INFO  [ReadOnlyZKClient-127.0.0.1:2181@0x7910f355] zookeeper.ZooKeeper (Environment.java:logEnv(109)) - Client environment:os.name=Linux\n",
            "2022-10-07 09:25:31,703 INFO  [ReadOnlyZKClient-127.0.0.1:2181@0x7910f355] zookeeper.ZooKeeper (Environment.java:logEnv(109)) - Client environment:os.arch=amd64\n",
            "2022-10-07 09:25:31,703 INFO  [ReadOnlyZKClient-127.0.0.1:2181@0x7910f355] zookeeper.ZooKeeper (Environment.java:logEnv(109)) - Client environment:os.version=5.10.133+\n",
            "2022-10-07 09:25:31,703 INFO  [ReadOnlyZKClient-127.0.0.1:2181@0x7910f355] zookeeper.ZooKeeper (Environment.java:logEnv(109)) - Client environment:user.name=root\n",
            "2022-10-07 09:25:31,704 INFO  [ReadOnlyZKClient-127.0.0.1:2181@0x7910f355] zookeeper.ZooKeeper (Environment.java:logEnv(109)) - Client environment:user.home=/root\n",
            "2022-10-07 09:25:31,704 INFO  [ReadOnlyZKClient-127.0.0.1:2181@0x7910f355] zookeeper.ZooKeeper (Environment.java:logEnv(109)) - Client environment:user.dir=/content\n",
            "2022-10-07 09:25:31,705 INFO  [ReadOnlyZKClient-127.0.0.1:2181@0x7910f355] zookeeper.ZooKeeper (Environment.java:logEnv(109)) - Client environment:os.memory.free=121MB\n",
            "2022-10-07 09:25:31,705 INFO  [ReadOnlyZKClient-127.0.0.1:2181@0x7910f355] zookeeper.ZooKeeper (Environment.java:logEnv(109)) - Client environment:os.memory.max=3231MB\n",
            "2022-10-07 09:25:31,705 INFO  [ReadOnlyZKClient-127.0.0.1:2181@0x7910f355] zookeeper.ZooKeeper (Environment.java:logEnv(109)) - Client environment:os.memory.total=197MB\n",
            "2022-10-07 09:25:31,711 INFO  [ReadOnlyZKClient-127.0.0.1:2181@0x7910f355] zookeeper.ZooKeeper (ZooKeeper.java:<init>(868)) - Initiating client connection, connectString=127.0.0.1:2181 sessionTimeout=90000 watcher=org.apache.hadoop.hbase.zookeeper.ReadOnlyZKClient$$Lambda$229/1404103496@634238c2\n",
            "2022-10-07 09:25:31,720 INFO  [ReadOnlyZKClient-127.0.0.1:2181@0x7910f355] common.X509Util (X509Util.java:<clinit>(79)) - Setting -D jdk.tls.rejectClientInitiatedRenegotiation=true to disable client-initiated TLS renegotiation\n",
            "2022-10-07 09:25:31,732 INFO  [ReadOnlyZKClient-127.0.0.1:2181@0x7910f355] zookeeper.ClientCnxnSocket (ClientCnxnSocket.java:initProperties(237)) - jute.maxbuffer value is 4194304 Bytes\n",
            "2022-10-07 09:25:31,745 INFO  [ReadOnlyZKClient-127.0.0.1:2181@0x7910f355] zookeeper.ClientCnxn (ClientCnxn.java:initRequestTimeout(1653)) - zookeeper.request.timeout value is 0. feature enabled=\n",
            "2022-10-07 09:25:31,770 INFO  [ReadOnlyZKClient-127.0.0.1:2181@0x7910f355-SendThread(127.0.0.1:2181)] zookeeper.ClientCnxn (ClientCnxn.java:logStartConnect(1112)) - Opening socket connection to server localhost/127.0.0.1:2181. Will not attempt to authenticate using SASL (unknown error)\n",
            "2022-10-07 09:25:31,777 INFO  [ReadOnlyZKClient-127.0.0.1:2181@0x7910f355-SendThread(127.0.0.1:2181)] zookeeper.ClientCnxn (ClientCnxn.java:primeConnection(959)) - Socket connection established, initiating session, client: /127.0.0.1:52694, server: localhost/127.0.0.1:2181\n",
            "2022-10-07 09:25:31,795 INFO  [ReadOnlyZKClient-127.0.0.1:2181@0x7910f355-SendThread(127.0.0.1:2181)] zookeeper.ClientCnxn (ClientCnxn.java:onConnected(1394)) - Session establishment complete on server localhost/127.0.0.1:2181, sessionid = 0x100000c3c3b0002, negotiated timeout = 40000\n",
            "HBase Shell\n",
            "Use \"help\" to get list of supported commands.\n",
            "Use \"exit\" to quit this interactive shell.\n",
            "For Reference, please visit: http://hbase.apache.org/2.0/book.html#shell\n",
            "Version 2.5.0, r2ecd8bd6d615ca49bfb329b3c0c126c80846d4ab, Tue Aug 23 15:58:57 UTC 2022\n",
            "Took 0.0024 seconds                                                             \n",
            "hbase:001:0> exit\n"
          ]
        }
      ]
    },
    {
      "cell_type": "markdown",
      "metadata": {
        "id": "qhuHJF4lH6f6"
      },
      "source": [
        "shell commands  <br>\n",
        "https://www.tutorialspoint.com/hbase/hbase_shell.htm <br>\n",
        "https://www.guru99.com/hbase-shell-general-commands.html <br>\n",
        "better way of passing shell commands are given here"
      ]
    },
    {
      "cell_type": "code",
      "metadata": {
        "colab": {
          "base_uri": "https://localhost:8080/"
        },
        "id": "cQdbisL2GQtE",
        "outputId": "ed293af0-5121-473d-a649-e1369ce1e280"
      },
      "source": [
        "!echo 'status' | hbase shell -n"
      ],
      "execution_count": 22,
      "outputs": [
        {
          "output_type": "stream",
          "name": "stdout",
          "text": [
            "SLF4J: Class path contains multiple SLF4J bindings.\n",
            "SLF4J: Found binding in [jar:file:/usr/local/hadoop-3.3.3/share/hadoop/common/lib/slf4j-reload4j-1.7.36.jar!/org/slf4j/impl/StaticLoggerBinder.class]\n",
            "SLF4J: Found binding in [jar:file:/content/hbase-2.5.0/lib/client-facing-thirdparty/log4j-slf4j-impl-2.17.2.jar!/org/slf4j/impl/StaticLoggerBinder.class]\n",
            "SLF4J: See http://www.slf4j.org/codes.html#multiple_bindings for an explanation.\n",
            "SLF4J: Actual binding is of type [org.slf4j.impl.Reload4jLoggerFactory]\n",
            "2022-10-07 09:26:15,759 INFO  [main] Configuration.deprecation (Configuration.java:logDeprecation(1294)) - hbase.client.pause.cqtbe is deprecated. Instead, use hbase.client.pause.server.overloaded\n",
            "2022-10-07 09:26:15,844 INFO  [ReadOnlyZKClient-127.0.0.1:2181@0x273dec10] zookeeper.ZooKeeper (Environment.java:logEnv(109)) - Client environment:zookeeper.version=3.5.7-f0fdd52973d373ffd9c86b81d99842dc2c7f660e, built on 02/10/2020 11:30 GMT\n",
            "2022-10-07 09:26:15,845 INFO  [ReadOnlyZKClient-127.0.0.1:2181@0x273dec10] zookeeper.ZooKeeper (Environment.java:logEnv(109)) - Client environment:host.name=284ad1f3a301\n",
            "2022-10-07 09:26:15,845 INFO  [ReadOnlyZKClient-127.0.0.1:2181@0x273dec10] zookeeper.ZooKeeper (Environment.java:logEnv(109)) - Client environment:java.version=1.8.0_342\n",
            "2022-10-07 09:26:15,845 INFO  [ReadOnlyZKClient-127.0.0.1:2181@0x273dec10] zookeeper.ZooKeeper (Environment.java:logEnv(109)) - Client environment:java.vendor=Private Build\n",
            "2022-10-07 09:26:15,846 INFO  [ReadOnlyZKClient-127.0.0.1:2181@0x273dec10] zookeeper.ZooKeeper (Environment.java:logEnv(109)) - Client environment:java.home=/usr/lib/jvm/java-8-openjdk-amd64/jre\n",
            "2022-10-07 09:26:15,846 INFO  [ReadOnlyZKClient-127.0.0.1:2181@0x273dec10] zookeeper.ZooKeeper (Environment.java:logEnv(109)) - Client environment:java.class.path=/content/hbase-2.5.0//lib/ruby/jruby-complete-9.2.13.0.jar:/content/hbase-2.5.0//conf:/usr/lib/jvm/java-8-openjdk-amd64/lib/tools.jar:/content/hbase-2.5.0/:/content/hbase-2.5.0//lib/agrona-1.12.0.jar:/content/hbase-2.5.0//lib/aircompressor-0.21.jar:/content/hbase-2.5.0//lib/aopalliance-1.0.jar:/content/hbase-2.5.0//lib/apacheds-i18n-2.0.0-M15.jar:/content/hbase-2.5.0//lib/apacheds-kerberos-codec-2.0.0-M15.jar:/content/hbase-2.5.0//lib/api-asn1-api-1.0.0-M20.jar:/content/hbase-2.5.0//lib/api-i18n-1.0.0-M20.jar:/content/hbase-2.5.0//lib/api-util-1.0.0-M20.jar:/content/hbase-2.5.0//lib/asm-3.1.jar:/content/hbase-2.5.0//lib/avro-1.11.0.jar:/content/hbase-2.5.0//lib/brotli4j-1.7.1.jar:/content/hbase-2.5.0//lib/byte-buddy-1.9.10.jar:/content/hbase-2.5.0//lib/byte-buddy-agent-1.9.10.jar:/content/hbase-2.5.0//lib/caffeine-2.8.1.jar:/content/hbase-2.5.0//lib/checker-qual-3.1.0.jar:/content/hbase-2.5.0//lib/commons-cli-1.2.jar:/content/hbase-2.5.0//lib/commons-codec-1.13.jar:/content/hbase-2.5.0//lib/commons-collections-3.2.2.jar:/content/hbase-2.5.0//lib/commons-compress-1.21.jar:/content/hbase-2.5.0//lib/commons-configuration-1.6.jar:/content/hbase-2.5.0//lib/commons-crypto-1.1.0.jar:/content/hbase-2.5.0//lib/commons-csv-1.0.jar:/content/hbase-2.5.0//lib/commons-daemon-1.0.13.jar:/content/hbase-2.5.0//lib/commons-digester-1.8.jar:/content/hbase-2.5.0//lib/commons-io-2.11.0.jar:/content/hbase-2.5.0//lib/commons-lang-2.6.jar:/content/hbase-2.5.0//lib/commons-lang3-3.9.jar:/content/hbase-2.5.0//lib/commons-math3-3.6.1.jar:/content/hbase-2.5.0//lib/commons-net-3.1.jar:/content/hbase-2.5.0//lib/curator-client-4.2.0.jar:/content/hbase-2.5.0//lib/curator-framework-4.2.0.jar:/content/hbase-2.5.0//lib/curator-recipes-4.2.0.jar:/content/hbase-2.5.0//lib/disruptor-3.4.2.jar:/content/hbase-2.5.0//lib/ehcache-3.3.1.jar:/content/hbase-2.5.0//lib/error_prone_annotations-2.14.0.jar:/content/hbase-2.5.0//lib/fst-2.50.jar:/content/hbase-2.5.0//lib/geronimo-jcache_1.0_spec-1.0-alpha-1.jar:/content/hbase-2.5.0//lib/gson-2.2.4.jar:/content/hbase-2.5.0//lib/guava-11.0.2.jar:/content/hbase-2.5.0//lib/guice-3.0.jar:/content/hbase-2.5.0//lib/guice-servlet-3.0.jar:/content/hbase-2.5.0//lib/hadoop-annotations-2.10.2.jar:/content/hbase-2.5.0//lib/hadoop-auth-2.10.2.jar:/content/hbase-2.5.0//lib/hadoop-client-2.10.2.jar:/content/hbase-2.5.0//lib/hadoop-common-2.10.2.jar:/content/hbase-2.5.0//lib/hadoop-distcp-2.10.2.jar:/content/hbase-2.5.0//lib/hadoop-hdfs-2.10.2.jar:/content/hbase-2.5.0//lib/hadoop-hdfs-2.10.2-tests.jar:/content/hbase-2.5.0//lib/hadoop-hdfs-client-2.10.2.jar:/content/hbase-2.5.0//lib/hadoop-mapreduce-client-app-2.10.2.jar:/content/hbase-2.5.0//lib/hadoop-mapreduce-client-common-2.10.2.jar:/content/hbase-2.5.0//lib/hadoop-mapreduce-client-core-2.10.2.jar:/content/hbase-2.5.0//lib/hadoop-mapreduce-client-hs-2.10.2.jar:/content/hbase-2.5.0//lib/hadoop-mapreduce-client-jobclient-2.10.2.jar:/content/hbase-2.5.0//lib/hadoop-mapreduce-client-shuffle-2.10.2.jar:/content/hbase-2.5.0//lib/hadoop-minicluster-2.10.2.jar:/content/hbase-2.5.0//lib/hadoop-yarn-api-2.10.2.jar:/content/hbase-2.5.0//lib/hadoop-yarn-client-2.10.2.jar:/content/hbase-2.5.0//lib/hadoop-yarn-common-2.10.2.jar:/content/hbase-2.5.0//lib/hadoop-yarn-registry-2.10.2.jar:/content/hbase-2.5.0//lib/hadoop-yarn-server-applicationhistoryservice-2.10.2.jar:/content/hbase-2.5.0//lib/hadoop-yarn-server-common-2.10.2.jar:/content/hbase-2.5.0//lib/hadoop-yarn-server-nodemanager-2.10.2.jar:/content/hbase-2.5.0//lib/hadoop-yarn-server-resourcemanager-2.10.2.jar:/content/hbase-2.5.0//lib/hadoop-yarn-server-tests-2.10.2-tests.jar:/content/hbase-2.5.0//lib/hadoop-yarn-server-timelineservice-2.10.2.jar:/content/hbase-2.5.0//lib/hadoop-yarn-server-web-proxy-2.10.2.jar:/content/hbase-2.5.0//lib/hamcrest-core-1.3.jar:/content/hbase-2.5.0//lib/hbase-annotations-2.5.0.jar:/content/hbase-2.5.0//lib/hbase-annotations-2.5.0-tests.jar:/content/hbase-2.5.0//lib/hbase-asyncfs-2.5.0.jar:/content/hbase-2.5.0//lib/hbase-asyncfs-2.5.0-tests.jar:/content/hbase-2.5.0//lib/hbase-client-2.5.0.jar:/content/hbase-2.5.0//lib/hbase-common-2.5.0.jar:/content/hbase-2.5.0//lib/hbase-common-2.5.0-tests.jar:/content/hbase-2.5.0//lib/hbase-compression-aircompressor-2.5.0.jar:/content/hbase-2.5.0//lib/hbase-compression-brotli-2.5.0.jar:/content/hbase-2.5.0//lib/hbase-compression-lz4-2.5.0.jar:/content/hbase-2.5.0//lib/hbase-compression-snappy-2.5.0.jar:/content/hbase-2.5.0//lib/hbase-compression-xz-2.5.0.jar:/content/hbase-2.5.0//lib/hbase-compression-zstd-2.5.0.jar:/content/hbase-2.5.0//lib/hbase-endpoint-2.5.0.jar:/content/hbase-2.5.0//lib/hbase-examples-2.5.0.jar:/content/hbase-2.5.0//lib/hbase-external-blockcache-2.5.0.jar:/content/hbase-2.5.0//lib/hbase-hadoop2-compat-2.5.0.jar:/content/hbase-2.5.0//lib/hbase-hadoop2-compat-2.5.0-tests.jar:/content/hbase-2.5.0//lib/hbase-hadoop-compat-2.5.0.jar:/content/hbase-2.5.0//lib/hbase-hadoop-compat-2.5.0-tests.jar:/content/hbase-2.5.0//lib/hbase-hbtop-2.5.0.jar:/content/hbase-2.5.0//lib/hbase-http-2.5.0.jar:/content/hbase-2.5.0//lib/hbase-it-2.5.0.jar:/content/hbase-2.5.0//lib/hbase-it-2.5.0-tests.jar:/content/hbase-2.5.0//lib/hbase-logging-2.5.0.jar:/content/hbase-2.5.0//lib/hbase-mapreduce-2.5.0.jar:/content/hbase-2.5.0//lib/hbase-mapreduce-2.5.0-tests.jar:/content/hbase-2.5.0//lib/hbase-metrics-2.5.0.jar:/content/hbase-2.5.0//lib/hbase-metrics-api-2.5.0.jar:/content/hbase-2.5.0//lib/hbase-procedure-2.5.0.jar:/content/hbase-2.5.0//lib/hbase-procedure-2.5.0-tests.jar:/content/hbase-2.5.0//lib/hbase-protocol-2.5.0.jar:/content/hbase-2.5.0//lib/hbase-protocol-shaded-2.5.0.jar:/content/hbase-2.5.0//lib/hbase-replication-2.5.0.jar:/content/hbase-2.5.0//lib/hbase-resource-bundle-2.5.0.jar:/content/hbase-2.5.0//lib/hbase-rest-2.5.0.jar:/content/hbase-2.5.0//lib/hbase-rsgroup-2.5.0.jar:/content/hbase-2.5.0//lib/hbase-rsgroup-2.5.0-tests.jar:/content/hbase-2.5.0//lib/hbase-server-2.5.0.jar:/content/hbase-2.5.0//lib/hbase-server-2.5.0-tests.jar:/content/hbase-2.5.0//lib/hbase-shaded-gson-4.1.1.jar:/content/hbase-2.5.0//lib/hbase-shaded-jackson-jaxrs-json-provider-4.1.1.jar:/content/hbase-2.5.0//lib/hbase-shaded-jersey-4.1.1.jar:/content/hbase-2.5.0//lib/hbase-shaded-jetty-4.1.1.jar:/content/hbase-2.5.0//lib/hbase-shaded-miscellaneous-4.1.1.jar:/content/hbase-2.5.0//lib/hbase-shaded-netty-4.1.1.jar:/content/hbase-2.5.0//lib/hbase-shaded-protobuf-4.1.1.jar:/content/hbase-2.5.0//lib/hbase-shell-2.5.0.jar:/content/hbase-2.5.0//lib/hbase-testing-util-2.5.0.jar:/content/hbase-2.5.0//lib/hbase-thrift-2.5.0.jar:/content/hbase-2.5.0//lib/hbase-unsafe-4.1.1.jar:/content/hbase-2.5.0//lib/hbase-zookeeper-2.5.0.jar:/content/hbase-2.5.0//lib/hbase-zookeeper-2.5.0-tests.jar:/content/hbase-2.5.0//lib/HikariCP-java7-2.4.12.jar:/content/hbase-2.5.0//lib/httpclient-4.5.13.jar:/content/hbase-2.5.0//lib/httpcore-4.4.13.jar:/content/hbase-2.5.0//lib/jackson-annotations-2.13.3.jar:/content/hbase-2.5.0//lib/jackson-core-2.13.3.jar:/content/hbase-2.5.0//lib/jackson-core-asl-1.9.13.jar:/content/hbase-2.5.0//lib/jackson-databind-2.13.3.jar:/content/hbase-2.5.0//lib/jackson-mapper-asl-1.9.13.jar:/content/hbase-2.5.0//lib/jackson-module-jaxb-annotations-2.13.3.jar:/content/hbase-2.5.0//lib/jakarta.inject-2.6.1.jar:/content/hbase-2.5.0//lib/jakarta.validation-api-2.0.2.jar:/content/hbase-2.5.0//lib/jamon-runtime-2.4.1.jar:/content/hbase-2.5.0//lib/javassist-3.25.0-GA.jar:/content/hbase-2.5.0//lib/java-util-1.9.0.jar:/content/hbase-2.5.0//lib/javax.activation-api-1.2.0.jar:/content/hbase-2.5.0//lib/javax.annotation-api-1.2.jar:/content/hbase-2.5.0//lib/javax.el-3.0.1-b08.jar:/content/hbase-2.5.0//lib/java-xmlbuilder-0.4.jar:/content/hbase-2.5.0//lib/javax.servlet-api-3.1.0.jar:/content/hbase-2.5.0//lib/javax.servlet.jsp-2.3.2.jar:/content/hbase-2.5.0//lib/javax.servlet.jsp-api-2.3.1.jar:/content/hbase-2.5.0//lib/javax.ws.rs-api-2.1.1.jar:/content/hbase-2.5.0//lib/jaxb-api-2.3.1.jar:/content/hbase-2.5.0//lib/jaxb-impl-2.2.3-1.jar:/content/hbase-2.5.0//lib/jcip-annotations-1.0-1.jar:/content/hbase-2.5.0//lib/jcodings-1.0.55.jar:/content/hbase-2.5.0//lib/jets3t-0.9.0.jar:/content/hbase-2.5.0//lib/jettison-1.3.8.jar:/content/hbase-2.5.0//lib/jetty-6.1.26.jar:/content/hbase-2.5.0//lib/jetty-sslengine-6.1.26.jar:/content/hbase-2.5.0//lib/jetty-util-6.1.26.jar:/content/hbase-2.5.0//lib/joni-2.1.31.jar:/content/hbase-2.5.0//lib/jsch-0.1.55.jar:/content/hbase-2.5.0//lib/json-io-2.5.1.jar:/content/hbase-2.5.0//lib/jsr311-api-1.1.1.jar:/content/hbase-2.5.0//lib/junit-4.13.2.jar:/content/hbase-2.5.0//lib/leveldbjni-all-1.8.jar:/content/hbase-2.5.0//lib/libthrift-0.14.1.jar:/content/hbase-2.5.0//lib/lz4-java-1.8.0.jar:/content/hbase-2.5.0//lib/metrics-core-3.0.1.jar:/content/hbase-2.5.0//lib/metrics-core-3.2.6.jar:/content/hbase-2.5.0//lib/mockito-core-2.28.2.jar:/content/hbase-2.5.0//lib/mssql-jdbc-6.2.1.jre7.jar:/content/hbase-2.5.0//lib/native-linux-x86_64-1.7.1.jar:/content/hbase-2.5.0//lib/netty-buffer-4.1.45.Final.jar:/content/hbase-2.5.0//lib/netty-codec-4.1.45.Final.jar:/content/hbase-2.5.0//lib/netty-common-4.1.45.Final.jar:/content/hbase-2.5.0//lib/netty-handler-4.1.45.Final.jar:/content/hbase-2.5.0//lib/netty-resolver-4.1.45.Final.jar:/content/hbase-2.5.0//lib/netty-transport-4.1.45.Final.jar:/content/hbase-2.5.0//lib/netty-transport-native-epoll-4.1.45.Final.jar:/content/hbase-2.5.0//lib/netty-transport-native-unix-common-4.1.45.Final.jar:/content/hbase-2.5.0//lib/nimbus-jose-jwt-7.9.jar:/content/hbase-2.5.0//lib/objenesis-2.6.jar:/content/hbase-2.5.0//lib/okhttp-2.7.5.jar:/content/hbase-2.5.0//lib/okio-1.6.0.jar:/content/hbase-2.5.0//lib/opentelemetry-api-1.15.0.jar:/content/hbase-2.5.0//lib/opentelemetry-context-1.15.0.jar:/content/hbase-2.5.0//lib/opentelemetry-semconv-1.15.0-alpha.jar:/content/hbase-2.5.0//lib/protobuf-java-2.5.0.jar:/content/hbase-2.5.0//lib/snappy-java-1.1.8.4.jar:/content/hbase-2.5.0//lib/spymemcached-2.12.2.jar:/content/hbase-2.5.0//lib/stax2-api-4.2.1.jar:/content/hbase-2.5.0//lib/woodstox-core-5.3.0.jar:/content/hbase-2.5.0//lib/xmlenc-0.52.jar:/content/hbase-2.5.0//lib/xz-1.9.jar:/content/hbase-2.5.0//lib/zookeeper-3.5.7.jar:/content/hbase-2.5.0//lib/zookeeper-jute-3.5.7.jar:/content/hbase-2.5.0//lib/zstd-jni-1.5.0-4.jar:/content/hbase-2.5.0//lib/client-facing-thirdparty/audience-annotations-0.5.0.jar:/content/hbase-2.5.0//lib/client-facing-thirdparty/commons-logging-1.2.jar:/content/hbase-2.5.0//lib/client-facing-thirdparty/htrace-core4-4.1.0-incubating.jar:/content/hbase-2.5.0//lib/client-facing-thirdparty/jcl-over-slf4j-1.7.33.jar:/content/hbase-2.5.0//lib/client-facing-thirdparty/jul-to-slf4j-1.7.33.jar:/content/hbase-2.5.0//lib/client-facing-thirdparty/opentelemetry-api-1.15.0.jar:/content/hbase-2.5.0//lib/client-facing-thirdparty/opentelemetry-context-1.15.0.jar:/content/hbase-2.5.0//lib/client-facing-thirdparty/opentelemetry-semconv-1.15.0-alpha.jar:/usr/local/hadoop-3.3.3//etc/hadoop:/usr/local/hadoop-3.3.3//share/hadoop/common/lib/jsp-api-2.1.jar:/usr/local/hadoop-3.3.3//share/hadoop/common/lib/kerb-identity-1.0.1.jar:/usr/local/hadoop-3.3.3//share/hadoop/common/lib/paranamer-2.3.jar:/usr/local/hadoop-3.3.3//share/hadoop/common/lib/accessors-smart-2.4.7.jar:/usr/local/hadoop-3.3.3//share/hadoop/common/lib/commons-io-2.8.0.jar:/usr/local/hadoop-3.3.3//share/hadoop/common/lib/jackson-core-asl-1.9.13.jar:/usr/local/hadoop-3.3.3//share/hadoop/common/lib/jackson-mapper-asl-1.9.13.jar:/usr/local/hadoop-3.3.3//share/hadoop/common/lib/jackson-databind-2.13.2.2.jar:/usr/local/hadoop-3.3.3//share/hadoop/common/lib/kerb-server-1.0.1.jar:/usr/local/hadoop-3.3.3//share/hadoop/common/lib/hadoop-annotations-3.3.3.jar:/usr/local/hadoop-3.3.3//share/hadoop/common/lib/metrics-core-3.2.4.jar:/usr/local/hadoop-3.3.3//share/hadoop/common/lib/jsr305-3.0.2.jar:/usr/local/hadoop-3.3.3//share/hadoop/common/lib/kerb-util-1.0.1.jar:/usr/local/hadoop-3.3.3//share/hadoop/common/lib/jaxb-api-2.2.11.jar:/usr/local/hadoop-3.3.3//share/hadoop/common/lib/token-provider-1.0.1.jar:/usr/local/hadoop-3.3.3//share/hadoop/common/lib/zookeeper-3.5.6.jar:/usr/local/hadoop-3.3.3//share/hadoop/common/lib/json-smart-2.4.7.jar:/usr/local/hadoop-3.3.3//share/hadoop/common/lib/jackson-xc-1.9.13.jar:/usr/local/hadoop-3.3.3//share/hadoop/common/lib/jackson-annotations-2.13.2.jar:/usr/local/hadoop-3.3.3//share/hadoop/common/lib/commons-daemon-1.0.13.jar:/usr/local/hadoop-3.3.3//share/hadoop/common/lib/kerb-simplekdc-1.0.1.jar:/usr/local/hadoop-3.3.3//share/hadoop/common/lib/jetty-http-9.4.43.v20210629.jar:/usr/local/hadoop-3.3.3//share/hadoop/common/lib/protobuf-java-2.5.0.jar:/usr/local/hadoop-3.3.3//share/hadoop/common/lib/gson-2.8.9.jar:/usr/local/hadoop-3.3.3//share/hadoop/common/lib/commons-beanutils-1.9.4.jar:/usr/local/hadoop-3.3.3//share/hadoop/common/lib/curator-recipes-4.2.0.jar:/usr/local/hadoop-3.3.3//share/hadoop/common/lib/jetty-io-9.4.43.v20210629.jar:/usr/local/hadoop-3.3.3//share/hadoop/common/lib/kerb-core-1.0.1.jar:/usr/local/hadoop-3.3.3//share/hadoop/common/lib/commons-cli-1.2.jar:/usr/local/hadoop-3.3.3//share/hadoop/common/lib/curator-framework-4.2.0.jar:/usr/local/hadoop-3.3.3//share/hadoop/common/lib/commons-collections-3.2.2.jar:/usr/local/hadoop-3.3.3//share/hadoop/common/lib/jettison-1.1.jar:/usr/local/hadoop-3.3.3//share/hadoop/common/lib/kerby-asn1-1.0.1.jar:/usr/local/hadoop-3.3.3//share/hadoop/common/lib/jetty-util-9.4.43.v20210629.jar:/usr/local/hadoop-3.3.3//share/hadoop/common/lib/commons-compress-1.21.jar:/usr/local/hadoop-3.3.3//share/hadoop/common/lib/reload4j-1.2.18.3.jar:/usr/local/hadoop-3.3.3//share/hadoop/common/lib/jackson-core-2.13.2.jar:/usr/local/hadoop-3.3.3//share/hadoop/common/lib/commons-configuration2-2.1.1.jar:/usr/local/hadoop-3.3.3//share/hadoop/common/lib/commons-logging-1.1.3.jar:/usr/local/hadoop-3.3.3//share/hadoop/common/lib/jetty-webapp-9.4.43.v20210629.jar:/usr/local/hadoop-3.3.3//share/hadoop/common/lib/jsr311-api-1.1.1.jar:/usr/local/hadoop-3.3.3//share/hadoop/common/lib/netty-3.10.6.Final.jar:/usr/local/hadoop-3.3.3//share/hadoop/common/lib/jsch-0.1.55.jar:/usr/local/hadoop-3.3.3//share/hadoop/common/lib/kerb-common-1.0.1.jar:/usr/local/hadoop-3.3.3//share/hadoop/common/lib/jersey-json-1.19.jar:/usr/local/hadoop-3.3.3//share/hadoop/common/lib/commons-text-1.4.jar:/usr/local/hadoop-3.3.3//share/hadoop/common/lib/jetty-server-9.4.43.v20210629.jar:/usr/local/hadoop-3.3.3//share/hadoop/common/lib/kerby-config-1.0.1.jar:/usr/local/hadoop-3.3.3//share/hadoop/common/lib/jetty-servlet-9.4.43.v20210629.jar:/usr/local/hadoop-3.3.3//share/hadoop/common/lib/commons-math3-3.1.1.jar:/usr/local/hadoop-3.3.3//share/hadoop/common/lib/re2j-1.1.jar:/usr/local/hadoop-3.3.3//share/hadoop/common/lib/zookeeper-jute-3.5.6.jar:/usr/local/hadoop-3.3.3//share/hadoop/common/lib/hadoop-shaded-guava-1.1.1.jar:/usr/local/hadoop-3.3.3//share/hadoop/common/lib/jersey-core-1.19.jar:/usr/local/hadoop-3.3.3//share/hadoop/common/lib/jersey-servlet-1.19.jar:/usr/local/hadoop-3.3.3//share/hadoop/common/lib/kerby-pkix-1.0.1.jar:/usr/local/hadoop-3.3.3//share/hadoop/common/lib/jaxb-impl-2.2.3-1.jar:/usr/local/hadoop-3.3.3//share/hadoop/common/lib/curator-client-4.2.0.jar:/usr/local/hadoop-3.3.3//share/hadoop/common/lib/jackson-jaxrs-1.9.13.jar:/usr/local/hadoop-3.3.3//share/hadoop/common/lib/kerby-util-1.0.1.jar:/usr/local/hadoop-3.3.3//share/hadoop/common/lib/javax.servlet-api-3.1.0.jar:/usr/local/hadoop-3.3.3//share/hadoop/common/lib/listenablefuture-9999.0-empty-to-avoid-conflict-with-guava.jar:/usr/local/hadoop-3.3.3//share/hadoop/common/lib/failureaccess-1.0.jar:/usr/local/hadoop-3.3.3//share/hadoop/common/lib/checker-qual-2.5.2.jar:/usr/local/hadoop-3.3.3//share/hadoop/common/lib/animal-sniffer-annotations-1.17.jar:/usr/local/hadoop-3.3.3//share/hadoop/common/lib/dnsjava-2.1.7.jar:/usr/local/hadoop-3.3.3//share/hadoop/common/lib/slf4j-reload4j-1.7.36.jar:/usr/local/hadoop-3.3.3//share/hadoop/common/lib/nimbus-jose-jwt-9.8.1.jar:/usr/local/hadoop-3.3.3//share/hadoop/common/lib/kerb-admin-1.0.1.jar:/usr/local/hadoop-3.3.3//share/hadoop/common/lib/jcip-annotations-1.0-1.jar:/usr/local/hadoop-3.3.3//share/hadoop/common/lib/audience-annotations-0.5.0.jar:/usr/local/hadoop-3.3.3//share/hadoop/common/lib/jersey-server-1.19.jar:/usr/local/hadoop-3.3.3//share/hadoop/common/lib/hadoop-shaded-protobuf_3_7-1.1.1.jar:/usr/local/hadoop-3.3.3//share/hadoop/common/lib/jetty-security-9.4.43.v20210629.jar:/usr/local/hadoop-3.3.3//share/hadoop/common/lib/httpclient-4.5.13.jar:/usr/local/hadoop-3.3.3//share/hadoop/common/lib/kerby-xdr-1.0.1.jar:/usr/local/hadoop-3.3.3//share/hadoop/common/lib/jetty-util-ajax-9.4.43.v20210629.jar:/usr/local/hadoop-3.3.3//share/hadoop/common/lib/jetty-xml-9.4.43.v20210629.jar:/usr/local/hadoop-3.3.3//share/hadoop/common/lib/jul-to-slf4j-1.7.36.jar:/usr/local/hadoop-3.3.3//share/hadoop/common/lib/httpcore-4.4.13.jar:/usr/local/hadoop-3.3.3//share/hadoop/common/lib/snappy-java-1.1.8.2.jar:/usr/local/hadoop-3.3.3//share/hadoop/common/lib/jakarta.activation-api-1.2.1.jar:/usr/local/hadoop-3.3.3//share/hadoop/common/lib/asm-5.0.4.jar:/usr/local/hadoop-3.3.3//share/hadoop/common/lib/woodstox-core-5.3.0.jar:/usr/local/hadoop-3.3.3//share/hadoop/common/lib/hadoop-auth-3.3.3.jar:/usr/local/hadoop-3.3.3//share/hadoop/common/lib/j2objc-annotations-1.1.jar:/usr/local/hadoop-3.3.3//share/hadoop/common/lib/stax2-api-4.2.1.jar:/usr/local/hadoop-3.3.3//share/hadoop/common/lib/commons-net-3.6.jar:/usr/local/hadoop-3.3.3//share/hadoop/common/lib/avro-1.7.7.jar:/usr/local/hadoop-3.3.3//share/hadoop/common/lib/kerb-client-1.0.1.jar:/usr/local/hadoop-3.3.3//share/hadoop/common/lib/guava-27.0-jre.jar:/usr/local/hadoop-3.3.3//share/hadoop/common/lib/slf4j-api-1.7.36.jar:/usr/local/hadoop-3.3.3//share/hadoop/common/lib/kerb-crypto-1.0.1.jar:/usr/local/hadoop-3.3.3//share/hadoop/common/lib/commons-codec-1.15.jar:/usr/local/hadoop-3.3.3//share/hadoop/common/lib/commons-lang3-3.12.0.jar:/usr/local/hadoop-3.3.3//share/hadoop/common/hadoop-kms-3.3.3.jar:/usr/local/hadoop-3.3.3//share/hadoop/common/hadoop-registry-3.3.3.jar:/usr/local/hadoop-3.3.3//share/hadoop/common/hadoop-common-3.3.3-tests.jar:/usr/local/hadoop-3.3.3//share/hadoop/common/hadoop-common-3.3.3.jar:/usr/local/hadoop-3.3.3//share/hadoop/common/hadoop-nfs-3.3.3.jar:/usr/local/hadoop-3.3.3//share/hadoop/hdfs:/usr/local/hadoop-3.3.3//share/hadoop/hdfs/lib/kerb-identity-1.0.1.jar:/usr/local/hadoop-3.3.3//share/hadoop/hdfs/lib/paranamer-2.3.jar:/usr/local/hadoop-3.3.3//share/hadoop/hdfs/lib/accessors-smart-2.4.7.jar:/usr/local/hadoop-3.3.3//share/hadoop/hdfs/lib/commons-io-2.8.0.jar:/usr/local/hadoop-3.3.3//share/hadoop/hdfs/lib/jackson-core-asl-1.9.13.jar:/usr/local/hadoop-3.3.3//share/hadoop/hdfs/lib/jackson-mapper-asl-1.9.13.jar:/usr/local/hadoop-3.3.3//share/hadoop/hdfs/lib/jackson-databind-2.13.2.2.jar:/usr/local/hadoop-3.3.3//share/hadoop/hdfs/lib/kerb-server-1.0.1.jar:/usr/local/hadoop-3.3.3//share/hadoop/hdfs/lib/json-simple-1.1.1.jar:/usr/local/hadoop-3.3.3//share/hadoop/hdfs/lib/hadoop-annotations-3.3.3.jar:/usr/local/hadoop-3.3.3//share/hadoop/hdfs/lib/jsr305-3.0.2.jar:/usr/local/hadoop-3.3.3//share/hadoop/hdfs/lib/kerb-util-1.0.1.jar:/usr/local/hadoop-3.3.3//share/hadoop/hdfs/lib/jaxb-api-2.2.11.jar:/usr/local/hadoop-3.3.3//share/hadoop/hdfs/lib/token-provider-1.0.1.jar:/usr/local/hadoop-3.3.3//share/hadoop/hdfs/lib/zookeeper-3.5.6.jar:/usr/local/hadoop-3.3.3//share/hadoop/hdfs/lib/json-smart-2.4.7.jar:/usr/local/hadoop-3.3.3//share/hadoop/hdfs/lib/jackson-xc-1.9.13.jar:/usr/local/hadoop-3.3.3//share/hadoop/hdfs/lib/jackson-annotations-2.13.2.jar:/usr/local/hadoop-3.3.3//share/hadoop/hdfs/lib/commons-daemon-1.0.13.jar:/usr/local/hadoop-3.3.3//share/hadoop/hdfs/lib/kerb-simplekdc-1.0.1.jar:/usr/local/hadoop-3.3.3//share/hadoop/hdfs/lib/jetty-http-9.4.43.v20210629.jar:/usr/local/hadoop-3.3.3//share/hadoop/hdfs/lib/protobuf-java-2.5.0.jar:/usr/local/hadoop-3.3.3//share/hadoop/hdfs/lib/gson-2.8.9.jar:/usr/local/hadoop-3.3.3//share/hadoop/hdfs/lib/commons-beanutils-1.9.4.jar:/usr/local/hadoop-3.3.3//share/hadoop/hdfs/lib/curator-recipes-4.2.0.jar:/usr/local/hadoop-3.3.3//share/hadoop/hdfs/lib/jetty-io-9.4.43.v20210629.jar:/usr/local/hadoop-3.3.3//share/hadoop/hdfs/lib/kerb-core-1.0.1.jar:/usr/local/hadoop-3.3.3//share/hadoop/hdfs/lib/commons-cli-1.2.jar:/usr/local/hadoop-3.3.3//share/hadoop/hdfs/lib/curator-framework-4.2.0.jar:/usr/local/hadoop-3.3.3//share/hadoop/hdfs/lib/commons-collections-3.2.2.jar:/usr/local/hadoop-3.3.3//share/hadoop/hdfs/lib/jettison-1.1.jar:/usr/local/hadoop-3.3.3//share/hadoop/hdfs/lib/kerby-asn1-1.0.1.jar:/usr/local/hadoop-3.3.3//share/hadoop/hdfs/lib/jetty-util-9.4.43.v20210629.jar:/usr/local/hadoop-3.3.3//share/hadoop/hdfs/lib/commons-compress-1.21.jar:/usr/local/hadoop-3.3.3//share/hadoop/hdfs/lib/reload4j-1.2.18.3.jar:/usr/local/hadoop-3.3.3//share/hadoop/hdfs/lib/jackson-core-2.13.2.jar:/usr/local/hadoop-3.3.3//share/hadoop/hdfs/lib/commons-configuration2-2.1.1.jar:/usr/local/hadoop-3.3.3//share/hadoop/hdfs/lib/commons-logging-1.1.3.jar:/usr/local/hadoop-3.3.3//share/hadoop/hdfs/lib/jetty-webapp-9.4.43.v20210629.jar:/usr/local/hadoop-3.3.3//share/hadoop/hdfs/lib/jsr311-api-1.1.1.jar:/usr/local/hadoop-3.3.3//share/hadoop/hdfs/lib/netty-3.10.6.Final.jar:/usr/local/hadoop-3.3.3//share/hadoop/hdfs/lib/jsch-0.1.55.jar:/usr/local/hadoop-3.3.3//share/hadoop/hdfs/lib/kerb-common-1.0.1.jar:/usr/local/hadoop-3.3.3//share/hadoop/hdfs/lib/jersey-json-1.19.jar:/usr/local/hadoop-3.3.3//share/hadoop/hdfs/lib/commons-text-1.4.jar:/usr/local/hadoop-3.3.3//share/hadoop/hdfs/lib/jetty-server-9.4.43.v20210629.jar:/usr/local/hadoop-3.3.3//share/hadoop/hdfs/lib/kerby-config-1.0.1.jar:/usr/local/hadoop-3.3.3//share/hadoop/hdfs/lib/jetty-servlet-9.4.43.v20210629.jar:/usr/local/hadoop-3.3.3//share/hadoop/hdfs/lib/commons-math3-3.1.1.jar:/usr/local/hadoop-3.3.3//share/hadoop/hdfs/lib/okio-1.6.0.jar:/usr/local/hadoop-3.3.3//share/hadoop/hdfs/lib/re2j-1.1.jar:/usr/local/hadoop-3.3.3//share/hadoop/hdfs/lib/zookeeper-jute-3.5.6.jar:/usr/local/hadoop-3.3.3//share/hadoop/hdfs/lib/hadoop-shaded-guava-1.1.1.jar:/usr/local/hadoop-3.3.3//share/hadoop/hdfs/lib/jersey-core-1.19.jar:/usr/local/hadoop-3.3.3//share/hadoop/hdfs/lib/jersey-servlet-1.19.jar:/usr/local/hadoop-3.3.3//share/hadoop/hdfs/lib/kerby-pkix-1.0.1.jar:/usr/local/hadoop-3.3.3//share/hadoop/hdfs/lib/jaxb-impl-2.2.3-1.jar:/usr/local/hadoop-3.3.3//share/hadoop/hdfs/lib/curator-client-4.2.0.jar:/usr/local/hadoop-3.3.3//share/hadoop/hdfs/lib/jackson-jaxrs-1.9.13.jar:/usr/local/hadoop-3.3.3//share/hadoop/hdfs/lib/kerby-util-1.0.1.jar:/usr/local/hadoop-3.3.3//share/hadoop/hdfs/lib/javax.servlet-api-3.1.0.jar:/usr/local/hadoop-3.3.3//share/hadoop/hdfs/lib/listenablefuture-9999.0-empty-to-avoid-conflict-with-guava.jar:/usr/local/hadoop-3.3.3//share/hadoop/hdfs/lib/failureaccess-1.0.jar:/usr/local/hadoop-3.3.3//share/hadoop/hdfs/lib/checker-qual-2.5.2.jar:/usr/local/hadoop-3.3.3//share/hadoop/hdfs/lib/animal-sniffer-annotations-1.17.jar:/usr/local/hadoop-3.3.3//share/hadoop/hdfs/lib/leveldbjni-all-1.8.jar:/usr/local/hadoop-3.3.3//share/hadoop/hdfs/lib/dnsjava-2.1.7.jar:/usr/local/hadoop-3.3.3//share/hadoop/hdfs/lib/nimbus-jose-jwt-9.8.1.jar:/usr/local/hadoop-3.3.3//share/hadoop/hdfs/lib/kerb-admin-1.0.1.jar:/usr/local/hadoop-3.3.3//share/hadoop/hdfs/lib/jcip-annotations-1.0-1.jar:/usr/local/hadoop-3.3.3//share/hadoop/hdfs/lib/audience-annotations-0.5.0.jar:/usr/local/hadoop-3.3.3//share/hadoop/hdfs/lib/okhttp-2.7.5.jar:/usr/local/hadoop-3.3.3//share/hadoop/hdfs/lib/jersey-server-1.19.jar:/usr/local/hadoop-3.3.3//share/hadoop/hdfs/lib/hadoop-shaded-protobuf_3_7-1.1.1.jar:/usr/local/hadoop-3.3.3//share/hadoop/hdfs/lib/netty-all-4.1.68.Final.jar:/usr/local/hadoop-3.3.3//share/hadoop/hdfs/lib/jetty-security-9.4.43.v20210629.jar:/usr/local/hadoop-3.3.3//share/hadoop/hdfs/lib/httpclient-4.5.13.jar:/usr/local/hadoop-3.3.3//share/hadoop/hdfs/lib/kerby-xdr-1.0.1.jar:/usr/local/hadoop-3.3.3//share/hadoop/hdfs/lib/jetty-util-ajax-9.4.43.v20210629.jar:/usr/local/hadoop-3.3.3//share/hadoop/hdfs/lib/jetty-xml-9.4.43.v20210629.jar:/usr/local/hadoop-3.3.3//share/hadoop/hdfs/lib/httpcore-4.4.13.jar:/usr/local/hadoop-3.3.3//share/hadoop/hdfs/lib/snappy-java-1.1.8.2.jar:/usr/local/hadoop-3.3.3//share/hadoop/hdfs/lib/jakarta.activation-api-1.2.1.jar:/usr/local/hadoop-3.3.3//share/hadoop/hdfs/lib/asm-5.0.4.jar:/usr/local/hadoop-3.3.3//share/hadoop/hdfs/lib/woodstox-core-5.3.0.jar:/usr/local/hadoop-3.3.3//share/hadoop/hdfs/lib/hadoop-auth-3.3.3.jar:/usr/local/hadoop-3.3.3//share/hadoop/hdfs/lib/j2objc-annotations-1.1.jar:/usr/local/hadoop-3.3.3//share/hadoop/hdfs/lib/stax2-api-4.2.1.jar:/usr/local/hadoop-3.3.3//share/hadoop/hdfs/lib/commons-net-3.6.jar:/usr/local/hadoop-3.3.3//share/hadoop/hdfs/lib/avro-1.7.7.jar:/usr/local/hadoop-3.3.3//share/hadoop/hdfs/lib/kerb-client-1.0.1.jar:/usr/local/hadoop-3.3.3//share/hadoop/hdfs/lib/guava-27.0-jre.jar:/usr/local/hadoop-3.3.3//share/hadoop/hdfs/lib/kerb-crypto-1.0.1.jar:/usr/local/hadoop-3.3.3//share/hadoop/hdfs/lib/commons-codec-1.15.jar:/usr/local/hadoop-3.3.3//share/hadoop/hdfs/lib/commons-lang3-3.12.0.jar:/usr/local/hadoop-3.3.3//share/hadoop/hdfs/hadoop-hdfs-client-3.3.3.jar:/usr/local/hadoop-3.3.3//share/hadoop/hdfs/hadoop-hdfs-rbf-3.3.3.jar:/usr/local/hadoop-3.3.3//share/hadoop/hdfs/hadoop-hdfs-3.3.3.jar:/usr/local/hadoop-3.3.3//share/hadoop/hdfs/hadoop-hdfs-rbf-3.3.3-tests.jar:/usr/local/hadoop-3.3.3//share/hadoop/hdfs/hadoop-hdfs-native-client-3.3.3.jar:/usr/local/hadoop-3.3.3//share/hadoop/hdfs/hadoop-hdfs-native-client-3.3.3-tests.jar:/usr/local/hadoop-3.3.3//share/hadoop/hdfs/hadoop-hdfs-3.3.3-tests.jar:/usr/local/hadoop-3.3.3//share/hadoop/hdfs/hadoop-hdfs-httpfs-3.3.3.jar:/usr/local/hadoop-3.3.3//share/hadoop/hdfs/hadoop-hdfs-nfs-3.3.3.jar:/usr/local/hadoop-3.3.3//share/hadoop/hdfs/hadoop-hdfs-client-3.3.3-tests.jar:/usr/local/hadoop-3.3.3//share/hadoop/mapreduce/hadoop-mapreduce-client-core-3.3.3.jar:/usr/local/hadoop-3.3.3//share/hadoop/mapreduce/hadoop-mapreduce-client-app-3.3.3.jar:/usr/local/hadoop-3.3.3//share/hadoop/mapreduce/hadoop-mapreduce-client-common-3.3.3.jar:/usr/local/hadoop-3.3.3//share/hadoop/mapreduce/hadoop-mapreduce-client-shuffle-3.3.3.jar:/usr/local/hadoop-3.3.3//share/hadoop/mapreduce/hadoop-mapreduce-examples-3.3.3.jar:/usr/local/hadoop-3.3.3//share/hadoop/mapreduce/hadoop-mapreduce-client-uploader-3.3.3.jar:/usr/local/hadoop-3.3.3//share/hadoop/mapreduce/hadoop-mapreduce-client-jobclient-3.3.3.jar:/usr/local/hadoop-3.3.3//share/hadoop/mapreduce/hadoop-mapreduce-client-hs-plugins-3.3.3.jar:/usr/local/hadoop-3.3.3//share/hadoop/mapreduce/hadoop-mapreduce-client-nativetask-3.3.3.jar:/usr/local/hadoop-3.3.3//share/hadoop/mapreduce/hadoop-mapreduce-client-jobclient-3.3.3-tests.jar:/usr/local/hadoop-3.3.3//share/hadoop/mapreduce/hadoop-mapreduce-client-hs-3.3.3.jar:/usr/local/hadoop-3.3.3//share/hadoop/yarn:/usr/local/hadoop-3.3.3//share/hadoop/yarn/lib/jna-5.2.0.jar:/usr/local/hadoop-3.3.3//share/hadoop/yarn/lib/json-io-2.5.1.jar:/usr/local/hadoop-3.3.3//share/hadoop/yarn/lib/objenesis-2.6.jar:/usr/local/hadoop-3.3.3//share/hadoop/yarn/lib/metrics-core-3.2.4.jar:/usr/local/hadoop-3.3.3//share/hadoop/yarn/lib/javax.inject-1.jar:/usr/local/hadoop-3.3.3//share/hadoop/yarn/lib/snakeyaml-1.26.jar:/usr/local/hadoop-3.3.3//share/hadoop/yarn/lib/HikariCP-java7-2.4.12.jar:/usr/local/hadoop-3.3.3//share/hadoop/yarn/lib/asm-tree-9.1.jar:/usr/local/hadoop-3.3.3//share/hadoop/yarn/lib/bcpkix-jdk15on-1.60.jar:/usr/local/hadoop-3.3.3//share/hadoop/yarn/lib/jetty-jndi-9.4.43.v20210629.jar:/usr/local/hadoop-3.3.3//share/hadoop/yarn/lib/mssql-jdbc-6.2.1.jre7.jar:/usr/local/hadoop-3.3.3//share/hadoop/yarn/lib/aopalliance-1.0.jar:/usr/local/hadoop-3.3.3//share/hadoop/yarn/lib/javax.ws.rs-api-2.1.1.jar:/usr/local/hadoop-3.3.3//share/hadoop/yarn/lib/websocket-api-9.4.43.v20210629.jar:/usr/local/hadoop-3.3.3//share/hadoop/yarn/lib/jetty-client-9.4.43.v20210629.jar:/usr/local/hadoop-3.3.3//share/hadoop/yarn/lib/jetty-annotations-9.4.43.v20210629.jar:/usr/local/hadoop-3.3.3//share/hadoop/yarn/lib/websocket-server-9.4.43.v20210629.jar:/usr/local/hadoop-3.3.3//share/hadoop/yarn/lib/geronimo-jcache_1.0_spec-1.0-alpha-1.jar:/usr/local/hadoop-3.3.3//share/hadoop/yarn/lib/jackson-jaxrs-base-2.13.2.jar:/usr/local/hadoop-3.3.3//share/hadoop/yarn/lib/websocket-servlet-9.4.43.v20210629.jar:/usr/local/hadoop-3.3.3//share/hadoop/yarn/lib/jetty-plus-9.4.43.v20210629.jar:/usr/local/hadoop-3.3.3//share/hadoop/yarn/lib/java-util-1.9.0.jar:/usr/local/hadoop-3.3.3//share/hadoop/yarn/lib/websocket-client-9.4.43.v20210629.jar:/usr/local/hadoop-3.3.3//share/hadoop/yarn/lib/swagger-annotations-1.5.4.jar:/usr/local/hadoop-3.3.3//share/hadoop/yarn/lib/jakarta.xml.bind-api-2.3.3.jar:/usr/local/hadoop-3.3.3//share/hadoop/yarn/lib/ehcache-3.3.1.jar:/usr/local/hadoop-3.3.3//share/hadoop/yarn/lib/guice-servlet-4.0.jar:/usr/local/hadoop-3.3.3//share/hadoop/yarn/lib/javax-websocket-server-impl-9.4.43.v20210629.jar:/usr/local/hadoop-3.3.3//share/hadoop/yarn/lib/jline-3.9.0.jar:/usr/local/hadoop-3.3.3//share/hadoop/yarn/lib/javax-websocket-client-impl-9.4.43.v20210629.jar:/usr/local/hadoop-3.3.3//share/hadoop/yarn/lib/asm-analysis-9.1.jar:/usr/local/hadoop-3.3.3//share/hadoop/yarn/lib/asm-commons-9.1.jar:/usr/local/hadoop-3.3.3//share/hadoop/yarn/lib/jackson-jaxrs-json-provider-2.13.2.jar:/usr/local/hadoop-3.3.3//share/hadoop/yarn/lib/jersey-guice-1.19.jar:/usr/local/hadoop-3.3.3//share/hadoop/yarn/lib/fst-2.50.jar:/usr/local/hadoop-3.3.3//share/hadoop/yarn/lib/bcprov-jdk15on-1.60.jar:/usr/local/hadoop-3.3.3//share/hadoop/yarn/lib/guice-4.0.jar:/usr/local/hadoop-3.3.3//share/hadoop/yarn/lib/javax.websocket-client-api-1.0.jar:/usr/local/hadoop-3.3.3//share/hadoop/yarn/lib/websocket-common-9.4.43.v20210629.jar:/usr/local/hadoop-3.3.3//share/hadoop/yarn/lib/jersey-client-1.19.jar:/usr/local/hadoop-3.3.3//share/hadoop/yarn/lib/javax.websocket-api-1.0.jar:/usr/local/hadoop-3.3.3//share/hadoop/yarn/lib/jackson-module-jaxb-annotations-2.13.2.jar:/usr/local/hadoop-3.3.3//share/hadoop/yarn/hadoop-yarn-server-applicationhistoryservice-3.3.3.jar:/usr/local/hadoop-3.3.3//share/hadoop/yarn/hadoop-yarn-applications-distributedshell-3.3.3.jar:/usr/local/hadoop-3.3.3//share/hadoop/yarn/hadoop-yarn-services-api-3.3.3.jar:/usr/local/hadoop-3.3.3//share/hadoop/yarn/hadoop-yarn-client-3.3.3.jar:/usr/local/hadoop-3.3.3//share/hadoop/yarn/hadoop-yarn-server-nodemanager-3.3.3.jar:/usr/local/hadoop-3.3.3//share/hadoop/yarn/hadoop-yarn-applications-mawo-core-3.3.3.jar:/usr/local/hadoop-3.3.3//share/hadoop/yarn/hadoop-yarn-applications-unmanaged-am-launcher-3.3.3.jar:/usr/local/hadoop-3.3.3//share/hadoop/yarn/hadoop-yarn-server-common-3.3.3.jar:/usr/local/hadoop-3.3.3//share/hadoop/yarn/hadoop-yarn-server-resourcemanager-3.3.3.jar:/usr/local/hadoop-3.3.3//share/hadoop/yarn/hadoop-yarn-server-tests-3.3.3.jar:/usr/local/hadoop-3.3.3//share/hadoop/yarn/hadoop-yarn-api-3.3.3.jar:/usr/local/hadoop-3.3.3//share/hadoop/yarn/hadoop-yarn-server-timeline-pluginstorage-3.3.3.jar:/usr/local/hadoop-3.3.3//share/hadoop/yarn/hadoop-yarn-services-core-3.3.3.jar:/usr/local/hadoop-3.3.3//share/hadoop/yarn/hadoop-yarn-server-router-3.3.3.jar:/usr/local/hadoop-3.3.3//share/hadoop/yarn/hadoop-yarn-server-web-proxy-3.3.3.jar:/usr/local/hadoop-3.3.3//share/hadoop/yarn/hadoop-yarn-server-sharedcachemanager-3.3.3.jar:/usr/local/hadoop-3.3.3//share/hadoop/yarn/hadoop-yarn-common-3.3.3.jar:/usr/local/hadoop-3.3.3//share/hadoop/yarn/hadoop-yarn-registry-3.3.3.jar:/content/hbase-2.5.0//lib/client-facing-thirdparty/log4j-1.2-api-2.17.2.jar:/content/hbase-2.5.0//lib/client-facing-thirdparty/log4j-api-2.17.2.jar:/content/hbase-2.5.0//lib/client-facing-thirdparty/log4j-core-2.17.2.jar:/content/hbase-2.5.0//lib/client-facing-thirdparty/log4j-slf4j-impl-2.17.2.jar\n",
            "2022-10-07 09:26:15,961 INFO  [ReadOnlyZKClient-127.0.0.1:2181@0x273dec10] zookeeper.ZooKeeper (Environment.java:logEnv(109)) - Client environment:java.library.path=/usr/local/hadoop-3.3.3//lib/native\n",
            "2022-10-07 09:26:15,961 INFO  [ReadOnlyZKClient-127.0.0.1:2181@0x273dec10] zookeeper.ZooKeeper (Environment.java:logEnv(109)) - Client environment:java.io.tmpdir=/tmp\n",
            "2022-10-07 09:26:15,962 INFO  [ReadOnlyZKClient-127.0.0.1:2181@0x273dec10] zookeeper.ZooKeeper (Environment.java:logEnv(109)) - Client environment:java.compiler=<NA>\n",
            "2022-10-07 09:26:15,962 INFO  [ReadOnlyZKClient-127.0.0.1:2181@0x273dec10] zookeeper.ZooKeeper (Environment.java:logEnv(109)) - Client environment:os.name=Linux\n",
            "2022-10-07 09:26:15,962 INFO  [ReadOnlyZKClient-127.0.0.1:2181@0x273dec10] zookeeper.ZooKeeper (Environment.java:logEnv(109)) - Client environment:os.arch=amd64\n",
            "2022-10-07 09:26:15,962 INFO  [ReadOnlyZKClient-127.0.0.1:2181@0x273dec10] zookeeper.ZooKeeper (Environment.java:logEnv(109)) - Client environment:os.version=5.10.133+\n",
            "2022-10-07 09:26:15,962 INFO  [ReadOnlyZKClient-127.0.0.1:2181@0x273dec10] zookeeper.ZooKeeper (Environment.java:logEnv(109)) - Client environment:user.name=root\n",
            "2022-10-07 09:26:15,962 INFO  [ReadOnlyZKClient-127.0.0.1:2181@0x273dec10] zookeeper.ZooKeeper (Environment.java:logEnv(109)) - Client environment:user.home=/root\n",
            "2022-10-07 09:26:15,962 INFO  [ReadOnlyZKClient-127.0.0.1:2181@0x273dec10] zookeeper.ZooKeeper (Environment.java:logEnv(109)) - Client environment:user.dir=/content\n",
            "2022-10-07 09:26:15,965 INFO  [ReadOnlyZKClient-127.0.0.1:2181@0x273dec10] zookeeper.ZooKeeper (Environment.java:logEnv(109)) - Client environment:os.memory.free=126MB\n",
            "2022-10-07 09:26:15,966 INFO  [ReadOnlyZKClient-127.0.0.1:2181@0x273dec10] zookeeper.ZooKeeper (Environment.java:logEnv(109)) - Client environment:os.memory.max=3231MB\n",
            "2022-10-07 09:26:15,966 INFO  [ReadOnlyZKClient-127.0.0.1:2181@0x273dec10] zookeeper.ZooKeeper (Environment.java:logEnv(109)) - Client environment:os.memory.total=197MB\n",
            "2022-10-07 09:26:15,970 INFO  [ReadOnlyZKClient-127.0.0.1:2181@0x273dec10] zookeeper.ZooKeeper (ZooKeeper.java:<init>(868)) - Initiating client connection, connectString=127.0.0.1:2181 sessionTimeout=90000 watcher=org.apache.hadoop.hbase.zookeeper.ReadOnlyZKClient$$Lambda$229/1133652851@5be9132b\n",
            "2022-10-07 09:26:15,977 INFO  [ReadOnlyZKClient-127.0.0.1:2181@0x273dec10] common.X509Util (X509Util.java:<clinit>(79)) - Setting -D jdk.tls.rejectClientInitiatedRenegotiation=true to disable client-initiated TLS renegotiation\n",
            "2022-10-07 09:26:15,986 INFO  [ReadOnlyZKClient-127.0.0.1:2181@0x273dec10] zookeeper.ClientCnxnSocket (ClientCnxnSocket.java:initProperties(237)) - jute.maxbuffer value is 4194304 Bytes\n",
            "2022-10-07 09:26:15,996 INFO  [ReadOnlyZKClient-127.0.0.1:2181@0x273dec10] zookeeper.ClientCnxn (ClientCnxn.java:initRequestTimeout(1653)) - zookeeper.request.timeout value is 0. feature enabled=\n",
            "2022-10-07 09:26:16,012 INFO  [ReadOnlyZKClient-127.0.0.1:2181@0x273dec10-SendThread(127.0.0.1:2181)] zookeeper.ClientCnxn (ClientCnxn.java:logStartConnect(1112)) - Opening socket connection to server localhost/127.0.0.1:2181. Will not attempt to authenticate using SASL (unknown error)\n",
            "2022-10-07 09:26:16,021 INFO  [ReadOnlyZKClient-127.0.0.1:2181@0x273dec10-SendThread(127.0.0.1:2181)] zookeeper.ClientCnxn (ClientCnxn.java:primeConnection(959)) - Socket connection established, initiating session, client: /127.0.0.1:57276, server: localhost/127.0.0.1:2181\n",
            "2022-10-07 09:26:16,035 INFO  [ReadOnlyZKClient-127.0.0.1:2181@0x273dec10-SendThread(127.0.0.1:2181)] zookeeper.ClientCnxn (ClientCnxn.java:onConnected(1394)) - Session establishment complete on server localhost/127.0.0.1:2181, sessionid = 0x100000c3c3b0003, negotiated timeout = 40000\n",
            "hbase:001:0> status\n",
            "1 active master, 0 backup masters, 1 servers, 0 dead, 2.0000 average load\n",
            "Took 0.8044 seconds                                                             \n",
            "hbase:002:0> \n"
          ]
        }
      ]
    },
    {
      "cell_type": "code",
      "metadata": {
        "id": "0OvCnX8SGkPG"
      },
      "source": [
        "#!echo \"status 'detail'\" | hbase shell -n"
      ],
      "execution_count": null,
      "outputs": []
    },
    {
      "cell_type": "code",
      "metadata": {
        "colab": {
          "base_uri": "https://localhost:8080/"
        },
        "id": "NYhR2DpgIbnU",
        "outputId": "e75909e3-e28d-42d6-e21e-ee717996087e"
      },
      "source": [
        "!echo \"whoami\" | hbase shell -n"
      ],
      "execution_count": 23,
      "outputs": [
        {
          "output_type": "stream",
          "name": "stdout",
          "text": [
            "SLF4J: Class path contains multiple SLF4J bindings.\n",
            "SLF4J: Found binding in [jar:file:/usr/local/hadoop-3.3.3/share/hadoop/common/lib/slf4j-reload4j-1.7.36.jar!/org/slf4j/impl/StaticLoggerBinder.class]\n",
            "SLF4J: Found binding in [jar:file:/content/hbase-2.5.0/lib/client-facing-thirdparty/log4j-slf4j-impl-2.17.2.jar!/org/slf4j/impl/StaticLoggerBinder.class]\n",
            "SLF4J: See http://www.slf4j.org/codes.html#multiple_bindings for an explanation.\n",
            "SLF4J: Actual binding is of type [org.slf4j.impl.Reload4jLoggerFactory]\n",
            "2022-10-07 09:26:43,468 INFO  [main] Configuration.deprecation (Configuration.java:logDeprecation(1294)) - hbase.client.pause.cqtbe is deprecated. Instead, use hbase.client.pause.server.overloaded\n",
            "2022-10-07 09:26:43,572 INFO  [ReadOnlyZKClient-127.0.0.1:2181@0x273dec10] zookeeper.ZooKeeper (Environment.java:logEnv(109)) - Client environment:zookeeper.version=3.5.7-f0fdd52973d373ffd9c86b81d99842dc2c7f660e, built on 02/10/2020 11:30 GMT\n",
            "2022-10-07 09:26:43,573 INFO  [ReadOnlyZKClient-127.0.0.1:2181@0x273dec10] zookeeper.ZooKeeper (Environment.java:logEnv(109)) - Client environment:host.name=284ad1f3a301\n",
            "2022-10-07 09:26:43,573 INFO  [ReadOnlyZKClient-127.0.0.1:2181@0x273dec10] zookeeper.ZooKeeper (Environment.java:logEnv(109)) - Client environment:java.version=1.8.0_342\n",
            "2022-10-07 09:26:43,573 INFO  [ReadOnlyZKClient-127.0.0.1:2181@0x273dec10] zookeeper.ZooKeeper (Environment.java:logEnv(109)) - Client environment:java.vendor=Private Build\n",
            "2022-10-07 09:26:43,573 INFO  [ReadOnlyZKClient-127.0.0.1:2181@0x273dec10] zookeeper.ZooKeeper (Environment.java:logEnv(109)) - Client environment:java.home=/usr/lib/jvm/java-8-openjdk-amd64/jre\n",
            "2022-10-07 09:26:43,573 INFO  [ReadOnlyZKClient-127.0.0.1:2181@0x273dec10] zookeeper.ZooKeeper (Environment.java:logEnv(109)) - Client environment:java.class.path=/content/hbase-2.5.0//lib/ruby/jruby-complete-9.2.13.0.jar:/content/hbase-2.5.0//conf:/usr/lib/jvm/java-8-openjdk-amd64/lib/tools.jar:/content/hbase-2.5.0/:/content/hbase-2.5.0//lib/agrona-1.12.0.jar:/content/hbase-2.5.0//lib/aircompressor-0.21.jar:/content/hbase-2.5.0//lib/aopalliance-1.0.jar:/content/hbase-2.5.0//lib/apacheds-i18n-2.0.0-M15.jar:/content/hbase-2.5.0//lib/apacheds-kerberos-codec-2.0.0-M15.jar:/content/hbase-2.5.0//lib/api-asn1-api-1.0.0-M20.jar:/content/hbase-2.5.0//lib/api-i18n-1.0.0-M20.jar:/content/hbase-2.5.0//lib/api-util-1.0.0-M20.jar:/content/hbase-2.5.0//lib/asm-3.1.jar:/content/hbase-2.5.0//lib/avro-1.11.0.jar:/content/hbase-2.5.0//lib/brotli4j-1.7.1.jar:/content/hbase-2.5.0//lib/byte-buddy-1.9.10.jar:/content/hbase-2.5.0//lib/byte-buddy-agent-1.9.10.jar:/content/hbase-2.5.0//lib/caffeine-2.8.1.jar:/content/hbase-2.5.0//lib/checker-qual-3.1.0.jar:/content/hbase-2.5.0//lib/commons-cli-1.2.jar:/content/hbase-2.5.0//lib/commons-codec-1.13.jar:/content/hbase-2.5.0//lib/commons-collections-3.2.2.jar:/content/hbase-2.5.0//lib/commons-compress-1.21.jar:/content/hbase-2.5.0//lib/commons-configuration-1.6.jar:/content/hbase-2.5.0//lib/commons-crypto-1.1.0.jar:/content/hbase-2.5.0//lib/commons-csv-1.0.jar:/content/hbase-2.5.0//lib/commons-daemon-1.0.13.jar:/content/hbase-2.5.0//lib/commons-digester-1.8.jar:/content/hbase-2.5.0//lib/commons-io-2.11.0.jar:/content/hbase-2.5.0//lib/commons-lang-2.6.jar:/content/hbase-2.5.0//lib/commons-lang3-3.9.jar:/content/hbase-2.5.0//lib/commons-math3-3.6.1.jar:/content/hbase-2.5.0//lib/commons-net-3.1.jar:/content/hbase-2.5.0//lib/curator-client-4.2.0.jar:/content/hbase-2.5.0//lib/curator-framework-4.2.0.jar:/content/hbase-2.5.0//lib/curator-recipes-4.2.0.jar:/content/hbase-2.5.0//lib/disruptor-3.4.2.jar:/content/hbase-2.5.0//lib/ehcache-3.3.1.jar:/content/hbase-2.5.0//lib/error_prone_annotations-2.14.0.jar:/content/hbase-2.5.0//lib/fst-2.50.jar:/content/hbase-2.5.0//lib/geronimo-jcache_1.0_spec-1.0-alpha-1.jar:/content/hbase-2.5.0//lib/gson-2.2.4.jar:/content/hbase-2.5.0//lib/guava-11.0.2.jar:/content/hbase-2.5.0//lib/guice-3.0.jar:/content/hbase-2.5.0//lib/guice-servlet-3.0.jar:/content/hbase-2.5.0//lib/hadoop-annotations-2.10.2.jar:/content/hbase-2.5.0//lib/hadoop-auth-2.10.2.jar:/content/hbase-2.5.0//lib/hadoop-client-2.10.2.jar:/content/hbase-2.5.0//lib/hadoop-common-2.10.2.jar:/content/hbase-2.5.0//lib/hadoop-distcp-2.10.2.jar:/content/hbase-2.5.0//lib/hadoop-hdfs-2.10.2.jar:/content/hbase-2.5.0//lib/hadoop-hdfs-2.10.2-tests.jar:/content/hbase-2.5.0//lib/hadoop-hdfs-client-2.10.2.jar:/content/hbase-2.5.0//lib/hadoop-mapreduce-client-app-2.10.2.jar:/content/hbase-2.5.0//lib/hadoop-mapreduce-client-common-2.10.2.jar:/content/hbase-2.5.0//lib/hadoop-mapreduce-client-core-2.10.2.jar:/content/hbase-2.5.0//lib/hadoop-mapreduce-client-hs-2.10.2.jar:/content/hbase-2.5.0//lib/hadoop-mapreduce-client-jobclient-2.10.2.jar:/content/hbase-2.5.0//lib/hadoop-mapreduce-client-shuffle-2.10.2.jar:/content/hbase-2.5.0//lib/hadoop-minicluster-2.10.2.jar:/content/hbase-2.5.0//lib/hadoop-yarn-api-2.10.2.jar:/content/hbase-2.5.0//lib/hadoop-yarn-client-2.10.2.jar:/content/hbase-2.5.0//lib/hadoop-yarn-common-2.10.2.jar:/content/hbase-2.5.0//lib/hadoop-yarn-registry-2.10.2.jar:/content/hbase-2.5.0//lib/hadoop-yarn-server-applicationhistoryservice-2.10.2.jar:/content/hbase-2.5.0//lib/hadoop-yarn-server-common-2.10.2.jar:/content/hbase-2.5.0//lib/hadoop-yarn-server-nodemanager-2.10.2.jar:/content/hbase-2.5.0//lib/hadoop-yarn-server-resourcemanager-2.10.2.jar:/content/hbase-2.5.0//lib/hadoop-yarn-server-tests-2.10.2-tests.jar:/content/hbase-2.5.0//lib/hadoop-yarn-server-timelineservice-2.10.2.jar:/content/hbase-2.5.0//lib/hadoop-yarn-server-web-proxy-2.10.2.jar:/content/hbase-2.5.0//lib/hamcrest-core-1.3.jar:/content/hbase-2.5.0//lib/hbase-annotations-2.5.0.jar:/content/hbase-2.5.0//lib/hbase-annotations-2.5.0-tests.jar:/content/hbase-2.5.0//lib/hbase-asyncfs-2.5.0.jar:/content/hbase-2.5.0//lib/hbase-asyncfs-2.5.0-tests.jar:/content/hbase-2.5.0//lib/hbase-client-2.5.0.jar:/content/hbase-2.5.0//lib/hbase-common-2.5.0.jar:/content/hbase-2.5.0//lib/hbase-common-2.5.0-tests.jar:/content/hbase-2.5.0//lib/hbase-compression-aircompressor-2.5.0.jar:/content/hbase-2.5.0//lib/hbase-compression-brotli-2.5.0.jar:/content/hbase-2.5.0//lib/hbase-compression-lz4-2.5.0.jar:/content/hbase-2.5.0//lib/hbase-compression-snappy-2.5.0.jar:/content/hbase-2.5.0//lib/hbase-compression-xz-2.5.0.jar:/content/hbase-2.5.0//lib/hbase-compression-zstd-2.5.0.jar:/content/hbase-2.5.0//lib/hbase-endpoint-2.5.0.jar:/content/hbase-2.5.0//lib/hbase-examples-2.5.0.jar:/content/hbase-2.5.0//lib/hbase-external-blockcache-2.5.0.jar:/content/hbase-2.5.0//lib/hbase-hadoop2-compat-2.5.0.jar:/content/hbase-2.5.0//lib/hbase-hadoop2-compat-2.5.0-tests.jar:/content/hbase-2.5.0//lib/hbase-hadoop-compat-2.5.0.jar:/content/hbase-2.5.0//lib/hbase-hadoop-compat-2.5.0-tests.jar:/content/hbase-2.5.0//lib/hbase-hbtop-2.5.0.jar:/content/hbase-2.5.0//lib/hbase-http-2.5.0.jar:/content/hbase-2.5.0//lib/hbase-it-2.5.0.jar:/content/hbase-2.5.0//lib/hbase-it-2.5.0-tests.jar:/content/hbase-2.5.0//lib/hbase-logging-2.5.0.jar:/content/hbase-2.5.0//lib/hbase-mapreduce-2.5.0.jar:/content/hbase-2.5.0//lib/hbase-mapreduce-2.5.0-tests.jar:/content/hbase-2.5.0//lib/hbase-metrics-2.5.0.jar:/content/hbase-2.5.0//lib/hbase-metrics-api-2.5.0.jar:/content/hbase-2.5.0//lib/hbase-procedure-2.5.0.jar:/content/hbase-2.5.0//lib/hbase-procedure-2.5.0-tests.jar:/content/hbase-2.5.0//lib/hbase-protocol-2.5.0.jar:/content/hbase-2.5.0//lib/hbase-protocol-shaded-2.5.0.jar:/content/hbase-2.5.0//lib/hbase-replication-2.5.0.jar:/content/hbase-2.5.0//lib/hbase-resource-bundle-2.5.0.jar:/content/hbase-2.5.0//lib/hbase-rest-2.5.0.jar:/content/hbase-2.5.0//lib/hbase-rsgroup-2.5.0.jar:/content/hbase-2.5.0//lib/hbase-rsgroup-2.5.0-tests.jar:/content/hbase-2.5.0//lib/hbase-server-2.5.0.jar:/content/hbase-2.5.0//lib/hbase-server-2.5.0-tests.jar:/content/hbase-2.5.0//lib/hbase-shaded-gson-4.1.1.jar:/content/hbase-2.5.0//lib/hbase-shaded-jackson-jaxrs-json-provider-4.1.1.jar:/content/hbase-2.5.0//lib/hbase-shaded-jersey-4.1.1.jar:/content/hbase-2.5.0//lib/hbase-shaded-jetty-4.1.1.jar:/content/hbase-2.5.0//lib/hbase-shaded-miscellaneous-4.1.1.jar:/content/hbase-2.5.0//lib/hbase-shaded-netty-4.1.1.jar:/content/hbase-2.5.0//lib/hbase-shaded-protobuf-4.1.1.jar:/content/hbase-2.5.0//lib/hbase-shell-2.5.0.jar:/content/hbase-2.5.0//lib/hbase-testing-util-2.5.0.jar:/content/hbase-2.5.0//lib/hbase-thrift-2.5.0.jar:/content/hbase-2.5.0//lib/hbase-unsafe-4.1.1.jar:/content/hbase-2.5.0//lib/hbase-zookeeper-2.5.0.jar:/content/hbase-2.5.0//lib/hbase-zookeeper-2.5.0-tests.jar:/content/hbase-2.5.0//lib/HikariCP-java7-2.4.12.jar:/content/hbase-2.5.0//lib/httpclient-4.5.13.jar:/content/hbase-2.5.0//lib/httpcore-4.4.13.jar:/content/hbase-2.5.0//lib/jackson-annotations-2.13.3.jar:/content/hbase-2.5.0//lib/jackson-core-2.13.3.jar:/content/hbase-2.5.0//lib/jackson-core-asl-1.9.13.jar:/content/hbase-2.5.0//lib/jackson-databind-2.13.3.jar:/content/hbase-2.5.0//lib/jackson-mapper-asl-1.9.13.jar:/content/hbase-2.5.0//lib/jackson-module-jaxb-annotations-2.13.3.jar:/content/hbase-2.5.0//lib/jakarta.inject-2.6.1.jar:/content/hbase-2.5.0//lib/jakarta.validation-api-2.0.2.jar:/content/hbase-2.5.0//lib/jamon-runtime-2.4.1.jar:/content/hbase-2.5.0//lib/javassist-3.25.0-GA.jar:/content/hbase-2.5.0//lib/java-util-1.9.0.jar:/content/hbase-2.5.0//lib/javax.activation-api-1.2.0.jar:/content/hbase-2.5.0//lib/javax.annotation-api-1.2.jar:/content/hbase-2.5.0//lib/javax.el-3.0.1-b08.jar:/content/hbase-2.5.0//lib/java-xmlbuilder-0.4.jar:/content/hbase-2.5.0//lib/javax.servlet-api-3.1.0.jar:/content/hbase-2.5.0//lib/javax.servlet.jsp-2.3.2.jar:/content/hbase-2.5.0//lib/javax.servlet.jsp-api-2.3.1.jar:/content/hbase-2.5.0//lib/javax.ws.rs-api-2.1.1.jar:/content/hbase-2.5.0//lib/jaxb-api-2.3.1.jar:/content/hbase-2.5.0//lib/jaxb-impl-2.2.3-1.jar:/content/hbase-2.5.0//lib/jcip-annotations-1.0-1.jar:/content/hbase-2.5.0//lib/jcodings-1.0.55.jar:/content/hbase-2.5.0//lib/jets3t-0.9.0.jar:/content/hbase-2.5.0//lib/jettison-1.3.8.jar:/content/hbase-2.5.0//lib/jetty-6.1.26.jar:/content/hbase-2.5.0//lib/jetty-sslengine-6.1.26.jar:/content/hbase-2.5.0//lib/jetty-util-6.1.26.jar:/content/hbase-2.5.0//lib/joni-2.1.31.jar:/content/hbase-2.5.0//lib/jsch-0.1.55.jar:/content/hbase-2.5.0//lib/json-io-2.5.1.jar:/content/hbase-2.5.0//lib/jsr311-api-1.1.1.jar:/content/hbase-2.5.0//lib/junit-4.13.2.jar:/content/hbase-2.5.0//lib/leveldbjni-all-1.8.jar:/content/hbase-2.5.0//lib/libthrift-0.14.1.jar:/content/hbase-2.5.0//lib/lz4-java-1.8.0.jar:/content/hbase-2.5.0//lib/metrics-core-3.0.1.jar:/content/hbase-2.5.0//lib/metrics-core-3.2.6.jar:/content/hbase-2.5.0//lib/mockito-core-2.28.2.jar:/content/hbase-2.5.0//lib/mssql-jdbc-6.2.1.jre7.jar:/content/hbase-2.5.0//lib/native-linux-x86_64-1.7.1.jar:/content/hbase-2.5.0//lib/netty-buffer-4.1.45.Final.jar:/content/hbase-2.5.0//lib/netty-codec-4.1.45.Final.jar:/content/hbase-2.5.0//lib/netty-common-4.1.45.Final.jar:/content/hbase-2.5.0//lib/netty-handler-4.1.45.Final.jar:/content/hbase-2.5.0//lib/netty-resolver-4.1.45.Final.jar:/content/hbase-2.5.0//lib/netty-transport-4.1.45.Final.jar:/content/hbase-2.5.0//lib/netty-transport-native-epoll-4.1.45.Final.jar:/content/hbase-2.5.0//lib/netty-transport-native-unix-common-4.1.45.Final.jar:/content/hbase-2.5.0//lib/nimbus-jose-jwt-7.9.jar:/content/hbase-2.5.0//lib/objenesis-2.6.jar:/content/hbase-2.5.0//lib/okhttp-2.7.5.jar:/content/hbase-2.5.0//lib/okio-1.6.0.jar:/content/hbase-2.5.0//lib/opentelemetry-api-1.15.0.jar:/content/hbase-2.5.0//lib/opentelemetry-context-1.15.0.jar:/content/hbase-2.5.0//lib/opentelemetry-semconv-1.15.0-alpha.jar:/content/hbase-2.5.0//lib/protobuf-java-2.5.0.jar:/content/hbase-2.5.0//lib/snappy-java-1.1.8.4.jar:/content/hbase-2.5.0//lib/spymemcached-2.12.2.jar:/content/hbase-2.5.0//lib/stax2-api-4.2.1.jar:/content/hbase-2.5.0//lib/woodstox-core-5.3.0.jar:/content/hbase-2.5.0//lib/xmlenc-0.52.jar:/content/hbase-2.5.0//lib/xz-1.9.jar:/content/hbase-2.5.0//lib/zookeeper-3.5.7.jar:/content/hbase-2.5.0//lib/zookeeper-jute-3.5.7.jar:/content/hbase-2.5.0//lib/zstd-jni-1.5.0-4.jar:/content/hbase-2.5.0//lib/client-facing-thirdparty/audience-annotations-0.5.0.jar:/content/hbase-2.5.0//lib/client-facing-thirdparty/commons-logging-1.2.jar:/content/hbase-2.5.0//lib/client-facing-thirdparty/htrace-core4-4.1.0-incubating.jar:/content/hbase-2.5.0//lib/client-facing-thirdparty/jcl-over-slf4j-1.7.33.jar:/content/hbase-2.5.0//lib/client-facing-thirdparty/jul-to-slf4j-1.7.33.jar:/content/hbase-2.5.0//lib/client-facing-thirdparty/opentelemetry-api-1.15.0.jar:/content/hbase-2.5.0//lib/client-facing-thirdparty/opentelemetry-context-1.15.0.jar:/content/hbase-2.5.0//lib/client-facing-thirdparty/opentelemetry-semconv-1.15.0-alpha.jar:/usr/local/hadoop-3.3.3//etc/hadoop:/usr/local/hadoop-3.3.3//share/hadoop/common/lib/jsp-api-2.1.jar:/usr/local/hadoop-3.3.3//share/hadoop/common/lib/kerb-identity-1.0.1.jar:/usr/local/hadoop-3.3.3//share/hadoop/common/lib/paranamer-2.3.jar:/usr/local/hadoop-3.3.3//share/hadoop/common/lib/accessors-smart-2.4.7.jar:/usr/local/hadoop-3.3.3//share/hadoop/common/lib/commons-io-2.8.0.jar:/usr/local/hadoop-3.3.3//share/hadoop/common/lib/jackson-core-asl-1.9.13.jar:/usr/local/hadoop-3.3.3//share/hadoop/common/lib/jackson-mapper-asl-1.9.13.jar:/usr/local/hadoop-3.3.3//share/hadoop/common/lib/jackson-databind-2.13.2.2.jar:/usr/local/hadoop-3.3.3//share/hadoop/common/lib/kerb-server-1.0.1.jar:/usr/local/hadoop-3.3.3//share/hadoop/common/lib/hadoop-annotations-3.3.3.jar:/usr/local/hadoop-3.3.3//share/hadoop/common/lib/metrics-core-3.2.4.jar:/usr/local/hadoop-3.3.3//share/hadoop/common/lib/jsr305-3.0.2.jar:/usr/local/hadoop-3.3.3//share/hadoop/common/lib/kerb-util-1.0.1.jar:/usr/local/hadoop-3.3.3//share/hadoop/common/lib/jaxb-api-2.2.11.jar:/usr/local/hadoop-3.3.3//share/hadoop/common/lib/token-provider-1.0.1.jar:/usr/local/hadoop-3.3.3//share/hadoop/common/lib/zookeeper-3.5.6.jar:/usr/local/hadoop-3.3.3//share/hadoop/common/lib/json-smart-2.4.7.jar:/usr/local/hadoop-3.3.3//share/hadoop/common/lib/jackson-xc-1.9.13.jar:/usr/local/hadoop-3.3.3//share/hadoop/common/lib/jackson-annotations-2.13.2.jar:/usr/local/hadoop-3.3.3//share/hadoop/common/lib/commons-daemon-1.0.13.jar:/usr/local/hadoop-3.3.3//share/hadoop/common/lib/kerb-simplekdc-1.0.1.jar:/usr/local/hadoop-3.3.3//share/hadoop/common/lib/jetty-http-9.4.43.v20210629.jar:/usr/local/hadoop-3.3.3//share/hadoop/common/lib/protobuf-java-2.5.0.jar:/usr/local/hadoop-3.3.3//share/hadoop/common/lib/gson-2.8.9.jar:/usr/local/hadoop-3.3.3//share/hadoop/common/lib/commons-beanutils-1.9.4.jar:/usr/local/hadoop-3.3.3//share/hadoop/common/lib/curator-recipes-4.2.0.jar:/usr/local/hadoop-3.3.3//share/hadoop/common/lib/jetty-io-9.4.43.v20210629.jar:/usr/local/hadoop-3.3.3//share/hadoop/common/lib/kerb-core-1.0.1.jar:/usr/local/hadoop-3.3.3//share/hadoop/common/lib/commons-cli-1.2.jar:/usr/local/hadoop-3.3.3//share/hadoop/common/lib/curator-framework-4.2.0.jar:/usr/local/hadoop-3.3.3//share/hadoop/common/lib/commons-collections-3.2.2.jar:/usr/local/hadoop-3.3.3//share/hadoop/common/lib/jettison-1.1.jar:/usr/local/hadoop-3.3.3//share/hadoop/common/lib/kerby-asn1-1.0.1.jar:/usr/local/hadoop-3.3.3//share/hadoop/common/lib/jetty-util-9.4.43.v20210629.jar:/usr/local/hadoop-3.3.3//share/hadoop/common/lib/commons-compress-1.21.jar:/usr/local/hadoop-3.3.3//share/hadoop/common/lib/reload4j-1.2.18.3.jar:/usr/local/hadoop-3.3.3//share/hadoop/common/lib/jackson-core-2.13.2.jar:/usr/local/hadoop-3.3.3//share/hadoop/common/lib/commons-configuration2-2.1.1.jar:/usr/local/hadoop-3.3.3//share/hadoop/common/lib/commons-logging-1.1.3.jar:/usr/local/hadoop-3.3.3//share/hadoop/common/lib/jetty-webapp-9.4.43.v20210629.jar:/usr/local/hadoop-3.3.3//share/hadoop/common/lib/jsr311-api-1.1.1.jar:/usr/local/hadoop-3.3.3//share/hadoop/common/lib/netty-3.10.6.Final.jar:/usr/local/hadoop-3.3.3//share/hadoop/common/lib/jsch-0.1.55.jar:/usr/local/hadoop-3.3.3//share/hadoop/common/lib/kerb-common-1.0.1.jar:/usr/local/hadoop-3.3.3//share/hadoop/common/lib/jersey-json-1.19.jar:/usr/local/hadoop-3.3.3//share/hadoop/common/lib/commons-text-1.4.jar:/usr/local/hadoop-3.3.3//share/hadoop/common/lib/jetty-server-9.4.43.v20210629.jar:/usr/local/hadoop-3.3.3//share/hadoop/common/lib/kerby-config-1.0.1.jar:/usr/local/hadoop-3.3.3//share/hadoop/common/lib/jetty-servlet-9.4.43.v20210629.jar:/usr/local/hadoop-3.3.3//share/hadoop/common/lib/commons-math3-3.1.1.jar:/usr/local/hadoop-3.3.3//share/hadoop/common/lib/re2j-1.1.jar:/usr/local/hadoop-3.3.3//share/hadoop/common/lib/zookeeper-jute-3.5.6.jar:/usr/local/hadoop-3.3.3//share/hadoop/common/lib/hadoop-shaded-guava-1.1.1.jar:/usr/local/hadoop-3.3.3//share/hadoop/common/lib/jersey-core-1.19.jar:/usr/local/hadoop-3.3.3//share/hadoop/common/lib/jersey-servlet-1.19.jar:/usr/local/hadoop-3.3.3//share/hadoop/common/lib/kerby-pkix-1.0.1.jar:/usr/local/hadoop-3.3.3//share/hadoop/common/lib/jaxb-impl-2.2.3-1.jar:/usr/local/hadoop-3.3.3//share/hadoop/common/lib/curator-client-4.2.0.jar:/usr/local/hadoop-3.3.3//share/hadoop/common/lib/jackson-jaxrs-1.9.13.jar:/usr/local/hadoop-3.3.3//share/hadoop/common/lib/kerby-util-1.0.1.jar:/usr/local/hadoop-3.3.3//share/hadoop/common/lib/javax.servlet-api-3.1.0.jar:/usr/local/hadoop-3.3.3//share/hadoop/common/lib/listenablefuture-9999.0-empty-to-avoid-conflict-with-guava.jar:/usr/local/hadoop-3.3.3//share/hadoop/common/lib/failureaccess-1.0.jar:/usr/local/hadoop-3.3.3//share/hadoop/common/lib/checker-qual-2.5.2.jar:/usr/local/hadoop-3.3.3//share/hadoop/common/lib/animal-sniffer-annotations-1.17.jar:/usr/local/hadoop-3.3.3//share/hadoop/common/lib/dnsjava-2.1.7.jar:/usr/local/hadoop-3.3.3//share/hadoop/common/lib/slf4j-reload4j-1.7.36.jar:/usr/local/hadoop-3.3.3//share/hadoop/common/lib/nimbus-jose-jwt-9.8.1.jar:/usr/local/hadoop-3.3.3//share/hadoop/common/lib/kerb-admin-1.0.1.jar:/usr/local/hadoop-3.3.3//share/hadoop/common/lib/jcip-annotations-1.0-1.jar:/usr/local/hadoop-3.3.3//share/hadoop/common/lib/audience-annotations-0.5.0.jar:/usr/local/hadoop-3.3.3//share/hadoop/common/lib/jersey-server-1.19.jar:/usr/local/hadoop-3.3.3//share/hadoop/common/lib/hadoop-shaded-protobuf_3_7-1.1.1.jar:/usr/local/hadoop-3.3.3//share/hadoop/common/lib/jetty-security-9.4.43.v20210629.jar:/usr/local/hadoop-3.3.3//share/hadoop/common/lib/httpclient-4.5.13.jar:/usr/local/hadoop-3.3.3//share/hadoop/common/lib/kerby-xdr-1.0.1.jar:/usr/local/hadoop-3.3.3//share/hadoop/common/lib/jetty-util-ajax-9.4.43.v20210629.jar:/usr/local/hadoop-3.3.3//share/hadoop/common/lib/jetty-xml-9.4.43.v20210629.jar:/usr/local/hadoop-3.3.3//share/hadoop/common/lib/jul-to-slf4j-1.7.36.jar:/usr/local/hadoop-3.3.3//share/hadoop/common/lib/httpcore-4.4.13.jar:/usr/local/hadoop-3.3.3//share/hadoop/common/lib/snappy-java-1.1.8.2.jar:/usr/local/hadoop-3.3.3//share/hadoop/common/lib/jakarta.activation-api-1.2.1.jar:/usr/local/hadoop-3.3.3//share/hadoop/common/lib/asm-5.0.4.jar:/usr/local/hadoop-3.3.3//share/hadoop/common/lib/woodstox-core-5.3.0.jar:/usr/local/hadoop-3.3.3//share/hadoop/common/lib/hadoop-auth-3.3.3.jar:/usr/local/hadoop-3.3.3//share/hadoop/common/lib/j2objc-annotations-1.1.jar:/usr/local/hadoop-3.3.3//share/hadoop/common/lib/stax2-api-4.2.1.jar:/usr/local/hadoop-3.3.3//share/hadoop/common/lib/commons-net-3.6.jar:/usr/local/hadoop-3.3.3//share/hadoop/common/lib/avro-1.7.7.jar:/usr/local/hadoop-3.3.3//share/hadoop/common/lib/kerb-client-1.0.1.jar:/usr/local/hadoop-3.3.3//share/hadoop/common/lib/guava-27.0-jre.jar:/usr/local/hadoop-3.3.3//share/hadoop/common/lib/slf4j-api-1.7.36.jar:/usr/local/hadoop-3.3.3//share/hadoop/common/lib/kerb-crypto-1.0.1.jar:/usr/local/hadoop-3.3.3//share/hadoop/common/lib/commons-codec-1.15.jar:/usr/local/hadoop-3.3.3//share/hadoop/common/lib/commons-lang3-3.12.0.jar:/usr/local/hadoop-3.3.3//share/hadoop/common/hadoop-kms-3.3.3.jar:/usr/local/hadoop-3.3.3//share/hadoop/common/hadoop-registry-3.3.3.jar:/usr/local/hadoop-3.3.3//share/hadoop/common/hadoop-common-3.3.3-tests.jar:/usr/local/hadoop-3.3.3//share/hadoop/common/hadoop-common-3.3.3.jar:/usr/local/hadoop-3.3.3//share/hadoop/common/hadoop-nfs-3.3.3.jar:/usr/local/hadoop-3.3.3//share/hadoop/hdfs:/usr/local/hadoop-3.3.3//share/hadoop/hdfs/lib/kerb-identity-1.0.1.jar:/usr/local/hadoop-3.3.3//share/hadoop/hdfs/lib/paranamer-2.3.jar:/usr/local/hadoop-3.3.3//share/hadoop/hdfs/lib/accessors-smart-2.4.7.jar:/usr/local/hadoop-3.3.3//share/hadoop/hdfs/lib/commons-io-2.8.0.jar:/usr/local/hadoop-3.3.3//share/hadoop/hdfs/lib/jackson-core-asl-1.9.13.jar:/usr/local/hadoop-3.3.3//share/hadoop/hdfs/lib/jackson-mapper-asl-1.9.13.jar:/usr/local/hadoop-3.3.3//share/hadoop/hdfs/lib/jackson-databind-2.13.2.2.jar:/usr/local/hadoop-3.3.3//share/hadoop/hdfs/lib/kerb-server-1.0.1.jar:/usr/local/hadoop-3.3.3//share/hadoop/hdfs/lib/json-simple-1.1.1.jar:/usr/local/hadoop-3.3.3//share/hadoop/hdfs/lib/hadoop-annotations-3.3.3.jar:/usr/local/hadoop-3.3.3//share/hadoop/hdfs/lib/jsr305-3.0.2.jar:/usr/local/hadoop-3.3.3//share/hadoop/hdfs/lib/kerb-util-1.0.1.jar:/usr/local/hadoop-3.3.3//share/hadoop/hdfs/lib/jaxb-api-2.2.11.jar:/usr/local/hadoop-3.3.3//share/hadoop/hdfs/lib/token-provider-1.0.1.jar:/usr/local/hadoop-3.3.3//share/hadoop/hdfs/lib/zookeeper-3.5.6.jar:/usr/local/hadoop-3.3.3//share/hadoop/hdfs/lib/json-smart-2.4.7.jar:/usr/local/hadoop-3.3.3//share/hadoop/hdfs/lib/jackson-xc-1.9.13.jar:/usr/local/hadoop-3.3.3//share/hadoop/hdfs/lib/jackson-annotations-2.13.2.jar:/usr/local/hadoop-3.3.3//share/hadoop/hdfs/lib/commons-daemon-1.0.13.jar:/usr/local/hadoop-3.3.3//share/hadoop/hdfs/lib/kerb-simplekdc-1.0.1.jar:/usr/local/hadoop-3.3.3//share/hadoop/hdfs/lib/jetty-http-9.4.43.v20210629.jar:/usr/local/hadoop-3.3.3//share/hadoop/hdfs/lib/protobuf-java-2.5.0.jar:/usr/local/hadoop-3.3.3//share/hadoop/hdfs/lib/gson-2.8.9.jar:/usr/local/hadoop-3.3.3//share/hadoop/hdfs/lib/commons-beanutils-1.9.4.jar:/usr/local/hadoop-3.3.3//share/hadoop/hdfs/lib/curator-recipes-4.2.0.jar:/usr/local/hadoop-3.3.3//share/hadoop/hdfs/lib/jetty-io-9.4.43.v20210629.jar:/usr/local/hadoop-3.3.3//share/hadoop/hdfs/lib/kerb-core-1.0.1.jar:/usr/local/hadoop-3.3.3//share/hadoop/hdfs/lib/commons-cli-1.2.jar:/usr/local/hadoop-3.3.3//share/hadoop/hdfs/lib/curator-framework-4.2.0.jar:/usr/local/hadoop-3.3.3//share/hadoop/hdfs/lib/commons-collections-3.2.2.jar:/usr/local/hadoop-3.3.3//share/hadoop/hdfs/lib/jettison-1.1.jar:/usr/local/hadoop-3.3.3//share/hadoop/hdfs/lib/kerby-asn1-1.0.1.jar:/usr/local/hadoop-3.3.3//share/hadoop/hdfs/lib/jetty-util-9.4.43.v20210629.jar:/usr/local/hadoop-3.3.3//share/hadoop/hdfs/lib/commons-compress-1.21.jar:/usr/local/hadoop-3.3.3//share/hadoop/hdfs/lib/reload4j-1.2.18.3.jar:/usr/local/hadoop-3.3.3//share/hadoop/hdfs/lib/jackson-core-2.13.2.jar:/usr/local/hadoop-3.3.3//share/hadoop/hdfs/lib/commons-configuration2-2.1.1.jar:/usr/local/hadoop-3.3.3//share/hadoop/hdfs/lib/commons-logging-1.1.3.jar:/usr/local/hadoop-3.3.3//share/hadoop/hdfs/lib/jetty-webapp-9.4.43.v20210629.jar:/usr/local/hadoop-3.3.3//share/hadoop/hdfs/lib/jsr311-api-1.1.1.jar:/usr/local/hadoop-3.3.3//share/hadoop/hdfs/lib/netty-3.10.6.Final.jar:/usr/local/hadoop-3.3.3//share/hadoop/hdfs/lib/jsch-0.1.55.jar:/usr/local/hadoop-3.3.3//share/hadoop/hdfs/lib/kerb-common-1.0.1.jar:/usr/local/hadoop-3.3.3//share/hadoop/hdfs/lib/jersey-json-1.19.jar:/usr/local/hadoop-3.3.3//share/hadoop/hdfs/lib/commons-text-1.4.jar:/usr/local/hadoop-3.3.3//share/hadoop/hdfs/lib/jetty-server-9.4.43.v20210629.jar:/usr/local/hadoop-3.3.3//share/hadoop/hdfs/lib/kerby-config-1.0.1.jar:/usr/local/hadoop-3.3.3//share/hadoop/hdfs/lib/jetty-servlet-9.4.43.v20210629.jar:/usr/local/hadoop-3.3.3//share/hadoop/hdfs/lib/commons-math3-3.1.1.jar:/usr/local/hadoop-3.3.3//share/hadoop/hdfs/lib/okio-1.6.0.jar:/usr/local/hadoop-3.3.3//share/hadoop/hdfs/lib/re2j-1.1.jar:/usr/local/hadoop-3.3.3//share/hadoop/hdfs/lib/zookeeper-jute-3.5.6.jar:/usr/local/hadoop-3.3.3//share/hadoop/hdfs/lib/hadoop-shaded-guava-1.1.1.jar:/usr/local/hadoop-3.3.3//share/hadoop/hdfs/lib/jersey-core-1.19.jar:/usr/local/hadoop-3.3.3//share/hadoop/hdfs/lib/jersey-servlet-1.19.jar:/usr/local/hadoop-3.3.3//share/hadoop/hdfs/lib/kerby-pkix-1.0.1.jar:/usr/local/hadoop-3.3.3//share/hadoop/hdfs/lib/jaxb-impl-2.2.3-1.jar:/usr/local/hadoop-3.3.3//share/hadoop/hdfs/lib/curator-client-4.2.0.jar:/usr/local/hadoop-3.3.3//share/hadoop/hdfs/lib/jackson-jaxrs-1.9.13.jar:/usr/local/hadoop-3.3.3//share/hadoop/hdfs/lib/kerby-util-1.0.1.jar:/usr/local/hadoop-3.3.3//share/hadoop/hdfs/lib/javax.servlet-api-3.1.0.jar:/usr/local/hadoop-3.3.3//share/hadoop/hdfs/lib/listenablefuture-9999.0-empty-to-avoid-conflict-with-guava.jar:/usr/local/hadoop-3.3.3//share/hadoop/hdfs/lib/failureaccess-1.0.jar:/usr/local/hadoop-3.3.3//share/hadoop/hdfs/lib/checker-qual-2.5.2.jar:/usr/local/hadoop-3.3.3//share/hadoop/hdfs/lib/animal-sniffer-annotations-1.17.jar:/usr/local/hadoop-3.3.3//share/hadoop/hdfs/lib/leveldbjni-all-1.8.jar:/usr/local/hadoop-3.3.3//share/hadoop/hdfs/lib/dnsjava-2.1.7.jar:/usr/local/hadoop-3.3.3//share/hadoop/hdfs/lib/nimbus-jose-jwt-9.8.1.jar:/usr/local/hadoop-3.3.3//share/hadoop/hdfs/lib/kerb-admin-1.0.1.jar:/usr/local/hadoop-3.3.3//share/hadoop/hdfs/lib/jcip-annotations-1.0-1.jar:/usr/local/hadoop-3.3.3//share/hadoop/hdfs/lib/audience-annotations-0.5.0.jar:/usr/local/hadoop-3.3.3//share/hadoop/hdfs/lib/okhttp-2.7.5.jar:/usr/local/hadoop-3.3.3//share/hadoop/hdfs/lib/jersey-server-1.19.jar:/usr/local/hadoop-3.3.3//share/hadoop/hdfs/lib/hadoop-shaded-protobuf_3_7-1.1.1.jar:/usr/local/hadoop-3.3.3//share/hadoop/hdfs/lib/netty-all-4.1.68.Final.jar:/usr/local/hadoop-3.3.3//share/hadoop/hdfs/lib/jetty-security-9.4.43.v20210629.jar:/usr/local/hadoop-3.3.3//share/hadoop/hdfs/lib/httpclient-4.5.13.jar:/usr/local/hadoop-3.3.3//share/hadoop/hdfs/lib/kerby-xdr-1.0.1.jar:/usr/local/hadoop-3.3.3//share/hadoop/hdfs/lib/jetty-util-ajax-9.4.43.v20210629.jar:/usr/local/hadoop-3.3.3//share/hadoop/hdfs/lib/jetty-xml-9.4.43.v20210629.jar:/usr/local/hadoop-3.3.3//share/hadoop/hdfs/lib/httpcore-4.4.13.jar:/usr/local/hadoop-3.3.3//share/hadoop/hdfs/lib/snappy-java-1.1.8.2.jar:/usr/local/hadoop-3.3.3//share/hadoop/hdfs/lib/jakarta.activation-api-1.2.1.jar:/usr/local/hadoop-3.3.3//share/hadoop/hdfs/lib/asm-5.0.4.jar:/usr/local/hadoop-3.3.3//share/hadoop/hdfs/lib/woodstox-core-5.3.0.jar:/usr/local/hadoop-3.3.3//share/hadoop/hdfs/lib/hadoop-auth-3.3.3.jar:/usr/local/hadoop-3.3.3//share/hadoop/hdfs/lib/j2objc-annotations-1.1.jar:/usr/local/hadoop-3.3.3//share/hadoop/hdfs/lib/stax2-api-4.2.1.jar:/usr/local/hadoop-3.3.3//share/hadoop/hdfs/lib/commons-net-3.6.jar:/usr/local/hadoop-3.3.3//share/hadoop/hdfs/lib/avro-1.7.7.jar:/usr/local/hadoop-3.3.3//share/hadoop/hdfs/lib/kerb-client-1.0.1.jar:/usr/local/hadoop-3.3.3//share/hadoop/hdfs/lib/guava-27.0-jre.jar:/usr/local/hadoop-3.3.3//share/hadoop/hdfs/lib/kerb-crypto-1.0.1.jar:/usr/local/hadoop-3.3.3//share/hadoop/hdfs/lib/commons-codec-1.15.jar:/usr/local/hadoop-3.3.3//share/hadoop/hdfs/lib/commons-lang3-3.12.0.jar:/usr/local/hadoop-3.3.3//share/hadoop/hdfs/hadoop-hdfs-client-3.3.3.jar:/usr/local/hadoop-3.3.3//share/hadoop/hdfs/hadoop-hdfs-rbf-3.3.3.jar:/usr/local/hadoop-3.3.3//share/hadoop/hdfs/hadoop-hdfs-3.3.3.jar:/usr/local/hadoop-3.3.3//share/hadoop/hdfs/hadoop-hdfs-rbf-3.3.3-tests.jar:/usr/local/hadoop-3.3.3//share/hadoop/hdfs/hadoop-hdfs-native-client-3.3.3.jar:/usr/local/hadoop-3.3.3//share/hadoop/hdfs/hadoop-hdfs-native-client-3.3.3-tests.jar:/usr/local/hadoop-3.3.3//share/hadoop/hdfs/hadoop-hdfs-3.3.3-tests.jar:/usr/local/hadoop-3.3.3//share/hadoop/hdfs/hadoop-hdfs-httpfs-3.3.3.jar:/usr/local/hadoop-3.3.3//share/hadoop/hdfs/hadoop-hdfs-nfs-3.3.3.jar:/usr/local/hadoop-3.3.3//share/hadoop/hdfs/hadoop-hdfs-client-3.3.3-tests.jar:/usr/local/hadoop-3.3.3//share/hadoop/mapreduce/hadoop-mapreduce-client-core-3.3.3.jar:/usr/local/hadoop-3.3.3//share/hadoop/mapreduce/hadoop-mapreduce-client-app-3.3.3.jar:/usr/local/hadoop-3.3.3//share/hadoop/mapreduce/hadoop-mapreduce-client-common-3.3.3.jar:/usr/local/hadoop-3.3.3//share/hadoop/mapreduce/hadoop-mapreduce-client-shuffle-3.3.3.jar:/usr/local/hadoop-3.3.3//share/hadoop/mapreduce/hadoop-mapreduce-examples-3.3.3.jar:/usr/local/hadoop-3.3.3//share/hadoop/mapreduce/hadoop-mapreduce-client-uploader-3.3.3.jar:/usr/local/hadoop-3.3.3//share/hadoop/mapreduce/hadoop-mapreduce-client-jobclient-3.3.3.jar:/usr/local/hadoop-3.3.3//share/hadoop/mapreduce/hadoop-mapreduce-client-hs-plugins-3.3.3.jar:/usr/local/hadoop-3.3.3//share/hadoop/mapreduce/hadoop-mapreduce-client-nativetask-3.3.3.jar:/usr/local/hadoop-3.3.3//share/hadoop/mapreduce/hadoop-mapreduce-client-jobclient-3.3.3-tests.jar:/usr/local/hadoop-3.3.3//share/hadoop/mapreduce/hadoop-mapreduce-client-hs-3.3.3.jar:/usr/local/hadoop-3.3.3//share/hadoop/yarn:/usr/local/hadoop-3.3.3//share/hadoop/yarn/lib/jna-5.2.0.jar:/usr/local/hadoop-3.3.3//share/hadoop/yarn/lib/json-io-2.5.1.jar:/usr/local/hadoop-3.3.3//share/hadoop/yarn/lib/objenesis-2.6.jar:/usr/local/hadoop-3.3.3//share/hadoop/yarn/lib/metrics-core-3.2.4.jar:/usr/local/hadoop-3.3.3//share/hadoop/yarn/lib/javax.inject-1.jar:/usr/local/hadoop-3.3.3//share/hadoop/yarn/lib/snakeyaml-1.26.jar:/usr/local/hadoop-3.3.3//share/hadoop/yarn/lib/HikariCP-java7-2.4.12.jar:/usr/local/hadoop-3.3.3//share/hadoop/yarn/lib/asm-tree-9.1.jar:/usr/local/hadoop-3.3.3//share/hadoop/yarn/lib/bcpkix-jdk15on-1.60.jar:/usr/local/hadoop-3.3.3//share/hadoop/yarn/lib/jetty-jndi-9.4.43.v20210629.jar:/usr/local/hadoop-3.3.3//share/hadoop/yarn/lib/mssql-jdbc-6.2.1.jre7.jar:/usr/local/hadoop-3.3.3//share/hadoop/yarn/lib/aopalliance-1.0.jar:/usr/local/hadoop-3.3.3//share/hadoop/yarn/lib/javax.ws.rs-api-2.1.1.jar:/usr/local/hadoop-3.3.3//share/hadoop/yarn/lib/websocket-api-9.4.43.v20210629.jar:/usr/local/hadoop-3.3.3//share/hadoop/yarn/lib/jetty-client-9.4.43.v20210629.jar:/usr/local/hadoop-3.3.3//share/hadoop/yarn/lib/jetty-annotations-9.4.43.v20210629.jar:/usr/local/hadoop-3.3.3//share/hadoop/yarn/lib/websocket-server-9.4.43.v20210629.jar:/usr/local/hadoop-3.3.3//share/hadoop/yarn/lib/geronimo-jcache_1.0_spec-1.0-alpha-1.jar:/usr/local/hadoop-3.3.3//share/hadoop/yarn/lib/jackson-jaxrs-base-2.13.2.jar:/usr/local/hadoop-3.3.3//share/hadoop/yarn/lib/websocket-servlet-9.4.43.v20210629.jar:/usr/local/hadoop-3.3.3//share/hadoop/yarn/lib/jetty-plus-9.4.43.v20210629.jar:/usr/local/hadoop-3.3.3//share/hadoop/yarn/lib/java-util-1.9.0.jar:/usr/local/hadoop-3.3.3//share/hadoop/yarn/lib/websocket-client-9.4.43.v20210629.jar:/usr/local/hadoop-3.3.3//share/hadoop/yarn/lib/swagger-annotations-1.5.4.jar:/usr/local/hadoop-3.3.3//share/hadoop/yarn/lib/jakarta.xml.bind-api-2.3.3.jar:/usr/local/hadoop-3.3.3//share/hadoop/yarn/lib/ehcache-3.3.1.jar:/usr/local/hadoop-3.3.3//share/hadoop/yarn/lib/guice-servlet-4.0.jar:/usr/local/hadoop-3.3.3//share/hadoop/yarn/lib/javax-websocket-server-impl-9.4.43.v20210629.jar:/usr/local/hadoop-3.3.3//share/hadoop/yarn/lib/jline-3.9.0.jar:/usr/local/hadoop-3.3.3//share/hadoop/yarn/lib/javax-websocket-client-impl-9.4.43.v20210629.jar:/usr/local/hadoop-3.3.3//share/hadoop/yarn/lib/asm-analysis-9.1.jar:/usr/local/hadoop-3.3.3//share/hadoop/yarn/lib/asm-commons-9.1.jar:/usr/local/hadoop-3.3.3//share/hadoop/yarn/lib/jackson-jaxrs-json-provider-2.13.2.jar:/usr/local/hadoop-3.3.3//share/hadoop/yarn/lib/jersey-guice-1.19.jar:/usr/local/hadoop-3.3.3//share/hadoop/yarn/lib/fst-2.50.jar:/usr/local/hadoop-3.3.3//share/hadoop/yarn/lib/bcprov-jdk15on-1.60.jar:/usr/local/hadoop-3.3.3//share/hadoop/yarn/lib/guice-4.0.jar:/usr/local/hadoop-3.3.3//share/hadoop/yarn/lib/javax.websocket-client-api-1.0.jar:/usr/local/hadoop-3.3.3//share/hadoop/yarn/lib/websocket-common-9.4.43.v20210629.jar:/usr/local/hadoop-3.3.3//share/hadoop/yarn/lib/jersey-client-1.19.jar:/usr/local/hadoop-3.3.3//share/hadoop/yarn/lib/javax.websocket-api-1.0.jar:/usr/local/hadoop-3.3.3//share/hadoop/yarn/lib/jackson-module-jaxb-annotations-2.13.2.jar:/usr/local/hadoop-3.3.3//share/hadoop/yarn/hadoop-yarn-server-applicationhistoryservice-3.3.3.jar:/usr/local/hadoop-3.3.3//share/hadoop/yarn/hadoop-yarn-applications-distributedshell-3.3.3.jar:/usr/local/hadoop-3.3.3//share/hadoop/yarn/hadoop-yarn-services-api-3.3.3.jar:/usr/local/hadoop-3.3.3//share/hadoop/yarn/hadoop-yarn-client-3.3.3.jar:/usr/local/hadoop-3.3.3//share/hadoop/yarn/hadoop-yarn-server-nodemanager-3.3.3.jar:/usr/local/hadoop-3.3.3//share/hadoop/yarn/hadoop-yarn-applications-mawo-core-3.3.3.jar:/usr/local/hadoop-3.3.3//share/hadoop/yarn/hadoop-yarn-applications-unmanaged-am-launcher-3.3.3.jar:/usr/local/hadoop-3.3.3//share/hadoop/yarn/hadoop-yarn-server-common-3.3.3.jar:/usr/local/hadoop-3.3.3//share/hadoop/yarn/hadoop-yarn-server-resourcemanager-3.3.3.jar:/usr/local/hadoop-3.3.3//share/hadoop/yarn/hadoop-yarn-server-tests-3.3.3.jar:/usr/local/hadoop-3.3.3//share/hadoop/yarn/hadoop-yarn-api-3.3.3.jar:/usr/local/hadoop-3.3.3//share/hadoop/yarn/hadoop-yarn-server-timeline-pluginstorage-3.3.3.jar:/usr/local/hadoop-3.3.3//share/hadoop/yarn/hadoop-yarn-services-core-3.3.3.jar:/usr/local/hadoop-3.3.3//share/hadoop/yarn/hadoop-yarn-server-router-3.3.3.jar:/usr/local/hadoop-3.3.3//share/hadoop/yarn/hadoop-yarn-server-web-proxy-3.3.3.jar:/usr/local/hadoop-3.3.3//share/hadoop/yarn/hadoop-yarn-server-sharedcachemanager-3.3.3.jar:/usr/local/hadoop-3.3.3//share/hadoop/yarn/hadoop-yarn-common-3.3.3.jar:/usr/local/hadoop-3.3.3//share/hadoop/yarn/hadoop-yarn-registry-3.3.3.jar:/content/hbase-2.5.0//lib/client-facing-thirdparty/log4j-1.2-api-2.17.2.jar:/content/hbase-2.5.0//lib/client-facing-thirdparty/log4j-api-2.17.2.jar:/content/hbase-2.5.0//lib/client-facing-thirdparty/log4j-core-2.17.2.jar:/content/hbase-2.5.0//lib/client-facing-thirdparty/log4j-slf4j-impl-2.17.2.jar\n",
            "2022-10-07 09:26:43,637 INFO  [ReadOnlyZKClient-127.0.0.1:2181@0x273dec10] zookeeper.ZooKeeper (Environment.java:logEnv(109)) - Client environment:java.library.path=/usr/local/hadoop-3.3.3//lib/native\n",
            "2022-10-07 09:26:43,637 INFO  [ReadOnlyZKClient-127.0.0.1:2181@0x273dec10] zookeeper.ZooKeeper (Environment.java:logEnv(109)) - Client environment:java.io.tmpdir=/tmp\n",
            "2022-10-07 09:26:43,637 INFO  [ReadOnlyZKClient-127.0.0.1:2181@0x273dec10] zookeeper.ZooKeeper (Environment.java:logEnv(109)) - Client environment:java.compiler=<NA>\n",
            "2022-10-07 09:26:43,638 INFO  [ReadOnlyZKClient-127.0.0.1:2181@0x273dec10] zookeeper.ZooKeeper (Environment.java:logEnv(109)) - Client environment:os.name=Linux\n",
            "2022-10-07 09:26:43,638 INFO  [ReadOnlyZKClient-127.0.0.1:2181@0x273dec10] zookeeper.ZooKeeper (Environment.java:logEnv(109)) - Client environment:os.arch=amd64\n",
            "2022-10-07 09:26:43,638 INFO  [ReadOnlyZKClient-127.0.0.1:2181@0x273dec10] zookeeper.ZooKeeper (Environment.java:logEnv(109)) - Client environment:os.version=5.10.133+\n",
            "2022-10-07 09:26:43,638 INFO  [ReadOnlyZKClient-127.0.0.1:2181@0x273dec10] zookeeper.ZooKeeper (Environment.java:logEnv(109)) - Client environment:user.name=root\n",
            "2022-10-07 09:26:43,639 INFO  [ReadOnlyZKClient-127.0.0.1:2181@0x273dec10] zookeeper.ZooKeeper (Environment.java:logEnv(109)) - Client environment:user.home=/root\n",
            "2022-10-07 09:26:43,640 INFO  [ReadOnlyZKClient-127.0.0.1:2181@0x273dec10] zookeeper.ZooKeeper (Environment.java:logEnv(109)) - Client environment:user.dir=/content\n",
            "2022-10-07 09:26:43,643 INFO  [ReadOnlyZKClient-127.0.0.1:2181@0x273dec10] zookeeper.ZooKeeper (Environment.java:logEnv(109)) - Client environment:os.memory.free=127MB\n",
            "2022-10-07 09:26:43,643 INFO  [ReadOnlyZKClient-127.0.0.1:2181@0x273dec10] zookeeper.ZooKeeper (Environment.java:logEnv(109)) - Client environment:os.memory.max=3231MB\n",
            "2022-10-07 09:26:43,643 INFO  [ReadOnlyZKClient-127.0.0.1:2181@0x273dec10] zookeeper.ZooKeeper (Environment.java:logEnv(109)) - Client environment:os.memory.total=197MB\n",
            "2022-10-07 09:26:43,649 INFO  [ReadOnlyZKClient-127.0.0.1:2181@0x273dec10] zookeeper.ZooKeeper (ZooKeeper.java:<init>(868)) - Initiating client connection, connectString=127.0.0.1:2181 sessionTimeout=90000 watcher=org.apache.hadoop.hbase.zookeeper.ReadOnlyZKClient$$Lambda$229/431562208@603c8c08\n",
            "2022-10-07 09:26:43,659 INFO  [ReadOnlyZKClient-127.0.0.1:2181@0x273dec10] common.X509Util (X509Util.java:<clinit>(79)) - Setting -D jdk.tls.rejectClientInitiatedRenegotiation=true to disable client-initiated TLS renegotiation\n",
            "2022-10-07 09:26:43,670 INFO  [ReadOnlyZKClient-127.0.0.1:2181@0x273dec10] zookeeper.ClientCnxnSocket (ClientCnxnSocket.java:initProperties(237)) - jute.maxbuffer value is 4194304 Bytes\n",
            "2022-10-07 09:26:43,682 INFO  [ReadOnlyZKClient-127.0.0.1:2181@0x273dec10] zookeeper.ClientCnxn (ClientCnxn.java:initRequestTimeout(1653)) - zookeeper.request.timeout value is 0. feature enabled=\n",
            "2022-10-07 09:26:43,706 INFO  [ReadOnlyZKClient-127.0.0.1:2181@0x273dec10-SendThread(127.0.0.1:2181)] zookeeper.ClientCnxn (ClientCnxn.java:logStartConnect(1112)) - Opening socket connection to server localhost/127.0.0.1:2181. Will not attempt to authenticate using SASL (unknown error)\n",
            "2022-10-07 09:26:43,713 INFO  [ReadOnlyZKClient-127.0.0.1:2181@0x273dec10-SendThread(127.0.0.1:2181)] zookeeper.ClientCnxn (ClientCnxn.java:primeConnection(959)) - Socket connection established, initiating session, client: /127.0.0.1:39462, server: localhost/127.0.0.1:2181\n",
            "2022-10-07 09:26:43,723 INFO  [ReadOnlyZKClient-127.0.0.1:2181@0x273dec10-SendThread(127.0.0.1:2181)] zookeeper.ClientCnxn (ClientCnxn.java:onConnected(1394)) - Session establishment complete on server localhost/127.0.0.1:2181, sessionid = 0x100000c3c3b0004, negotiated timeout = 40000\n",
            "hbase:001:0> whoami\n",
            "root (auth:SIMPLE)\n",
            "    groups: root\n",
            "Took 0.0448 seconds                                                             \n",
            "hbase:002:0> \n"
          ]
        }
      ]
    },
    {
      "cell_type": "markdown",
      "metadata": {
        "id": "psoYaCFmAItK"
      },
      "source": [
        "## Simple Tutorial\n",
        "command line tutorial https://akbarahmed.com/2012/08/13/hbase-command-line-tutorial/"
      ]
    },
    {
      "cell_type": "code",
      "metadata": {
        "colab": {
          "base_uri": "https://localhost:8080/"
        },
        "id": "vG4pok6AJu0V",
        "outputId": "f5eb4366-153a-450e-b639-85d50bdb2cf4"
      },
      "source": [
        "!echo \"create 'table1', 'columnfamily1'\" | hbase shell -n"
      ],
      "execution_count": null,
      "outputs": [
        {
          "output_type": "stream",
          "name": "stdout",
          "text": [
            "hbase:001:0> create 'table1', 'columnfamily1'\n",
            "Created table table1\n",
            "Took 1.5436 seconds                                                             \n",
            "=> Hbase::Table - table1\n",
            "hbase:002:0> \n"
          ]
        }
      ]
    },
    {
      "cell_type": "code",
      "metadata": {
        "colab": {
          "base_uri": "https://localhost:8080/"
        },
        "id": "Mb26zNcdKJpC",
        "outputId": "265f4007-8228-430f-ae1e-dec2eea4e805"
      },
      "source": [
        "!echo \"list\" | hbase shell -n"
      ],
      "execution_count": null,
      "outputs": [
        {
          "output_type": "stream",
          "name": "stdout",
          "text": [
            "hbase:001:0> list\n",
            "TABLE                                                                           \n",
            "table1                                                                          \n",
            "1 row(s)\n",
            "Took 0.7780 seconds                                                             \n",
            "=> [\"table1\"]\n",
            "hbase:002:0> \n"
          ]
        }
      ]
    },
    {
      "cell_type": "code",
      "metadata": {
        "colab": {
          "base_uri": "https://localhost:8080/"
        },
        "id": "xb9m6ahLKxDK",
        "outputId": "a4e7a795-3553-49c9-d594-e6c017f377d9"
      },
      "source": [
        "!echo \"create 'cars', 'vi'\" | hbase shell -n"
      ],
      "execution_count": null,
      "outputs": [
        {
          "output_type": "stream",
          "name": "stdout",
          "text": [
            "hbase:001:0> create 'cars', 'vi'\n",
            "Created table cars\n",
            "Took 1.9734 seconds                                                             \n",
            "=> Hbase::Table - cars\n",
            "hbase:002:0> \n"
          ]
        }
      ]
    },
    {
      "cell_type": "code",
      "metadata": {
        "colab": {
          "base_uri": "https://localhost:8080/"
        },
        "id": "InyhsYkXK_j9",
        "outputId": "8aa5b5aa-8dd0-43b1-9538-f2939ec50fe6"
      },
      "source": [
        "!echo \"list\" | hbase shell -n"
      ],
      "execution_count": null,
      "outputs": [
        {
          "output_type": "stream",
          "name": "stdout",
          "text": [
            "hbase:001:0> list\n",
            "TABLE                                                                           \n",
            "cars                                                                            \n",
            "table1                                                                          \n",
            "2 row(s)\n",
            "Took 0.7593 seconds                                                             \n",
            "=> [\"cars\", \"table1\"]\n",
            "hbase:002:0> \n"
          ]
        }
      ]
    },
    {
      "cell_type": "code",
      "metadata": {
        "colab": {
          "base_uri": "https://localhost:8080/"
        },
        "id": "L1ktyGL5LHG7",
        "outputId": "7377dc4c-68c9-4534-f787-5a3741d7e44e"
      },
      "source": [
        "# add ONE row\n",
        "# nearly THREE seconds per row ... what will you do with a million rows? wait for bulk loader\n",
        "!echo \"put 'cars', 'row1', 'vi:make', 'bmw'\" | hbase shell -n\n",
        "!echo \"put 'cars', 'row1', 'vi:model', '5 series'\" | hbase shell -n\n",
        "!echo \"put 'cars', 'row1', 'vi:year', '2012'\" | hbase shell -n"
      ],
      "execution_count": null,
      "outputs": [
        {
          "output_type": "stream",
          "name": "stdout",
          "text": [
            "hbase:001:0> put 'cars', 'row1', 'vi:make', 'bmw'\n",
            "Took 1.0632 seconds                                                             \n",
            "hbase:002:0> \n",
            "hbase:001:0> put 'cars', 'row1', 'vi:model', '5 series'\n",
            "Took 0.9659 seconds                                                             \n",
            "hbase:002:0> \n",
            "hbase:001:0> put 'cars', 'row1', 'vi:year', '2012'\n",
            "Took 0.8001 seconds                                                             \n",
            "hbase:002:0> \n"
          ]
        }
      ]
    },
    {
      "cell_type": "code",
      "metadata": {
        "colab": {
          "base_uri": "https://localhost:8080/"
        },
        "id": "aDyHCB9_MsUy",
        "outputId": "4d7d6004-629a-4c29-ae16-0141eed660a2"
      },
      "source": [
        "%%time\n",
        "# add ONE row\n",
        "!echo \"put 'cars', 'row2', 'vi:make', 'mercedes'\" | hbase shell -n\n",
        "!echo \"put 'cars', 'row2', 'vi:model', 'e class'\" | hbase shell -n\n",
        "!echo \"put 'cars', 'row2', 'vi:year', '2012'\" | hbase shell -n"
      ],
      "execution_count": null,
      "outputs": [
        {
          "output_type": "stream",
          "name": "stdout",
          "text": [
            "Took 0.9319 seconds                                                             \n",
            "\n",
            "Took 0.7347 seconds                                                             \n",
            "\n",
            "Took 0.9142 seconds                                                             \n",
            "\n"
          ]
        }
      ]
    },
    {
      "cell_type": "code",
      "metadata": {
        "colab": {
          "base_uri": "https://localhost:8080/"
        },
        "id": "YJ2RISDNN1gT",
        "outputId": "73864f95-2070-45d7-f3a7-327dafef05b5"
      },
      "source": [
        "%%time\n",
        "!echo \"scan 'cars'\" | hbase shell -n"
      ],
      "execution_count": null,
      "outputs": [
        {
          "output_type": "stream",
          "name": "stdout",
          "text": [
            "hbase:001:0> scan 'cars'\n",
            "ROW                   COLUMN+CELL                                               \n",
            " row1                 column=vi:make, timestamp=2022-06-09T09:16:52.392, value=b\n",
            "                      mw                                                        \n",
            " row1                 column=vi:model, timestamp=2022-06-09T09:18:11.887, value=\n",
            "                      5 series                                                  \n",
            " row1                 column=vi:year, timestamp=2022-06-09T09:19:31.849, value=2\n",
            "                      012                                                       \n",
            "1 row(s)\n",
            "Took 0.7886 seconds                                                             \n",
            "hbase:002:0> \n",
            "CPU times: user 541 ms, sys: 79.1 ms, total: 620 ms\n",
            "Wall time: 1min 19s\n"
          ]
        }
      ]
    },
    {
      "cell_type": "code",
      "metadata": {
        "colab": {
          "base_uri": "https://localhost:8080/"
        },
        "id": "sMadzGtQOVpM",
        "outputId": "823e264e-7770-42c9-bfed-39add34d2896"
      },
      "source": [
        "!echo \"scan 'cars', {COLUMNS => ['vi:make']}\" | hbase shell -n"
      ],
      "execution_count": null,
      "outputs": [
        {
          "output_type": "stream",
          "name": "stdout",
          "text": [
            "ROW                   COLUMN+CELL                                               \n",
            " row1                 column=vi:make, timestamp=2021-11-24T04:18:12.087, value=b\n",
            "                      mw                                                        \n",
            " row2                 column=vi:make, timestamp=2021-11-24T04:21:58.589, value=m\n",
            "                      ercedes                                                   \n",
            "2 row(s)\n",
            "Took 0.8018 seconds                                                             \n",
            "\n"
          ]
        }
      ]
    },
    {
      "cell_type": "code",
      "source": [
        "!echo \"get 'cars', 'row1'\"| hbase shell -n"
      ],
      "metadata": {
        "id": "SDVs9Yux2YPu",
        "outputId": "286f4ce0-357a-4a67-eb83-622eebd83720",
        "colab": {
          "base_uri": "https://localhost:8080/"
        }
      },
      "execution_count": null,
      "outputs": [
        {
          "output_type": "stream",
          "name": "stdout",
          "text": [
            "COLUMN                CELL                                                      \n",
            " vi:make              timestamp=2022-01-14T04:11:02.984, value=bmw              \n",
            " vi:model             timestamp=2022-01-14T04:12:17.633, value=5 series         \n",
            " vi:year              timestamp=2022-01-14T04:13:32.015, value=2012             \n",
            "1 row(s)\n",
            "Took 1.0586 seconds                                                             \n",
            "\n"
          ]
        }
      ]
    },
    {
      "cell_type": "code",
      "source": [
        "!echo \"get 'cars', 'row1', 'vi:make' \"| hbase shell -n"
      ],
      "metadata": {
        "id": "2F0-Eps93FxF",
        "outputId": "218f0cab-d403-4d80-e20d-bbec6863b922",
        "colab": {
          "base_uri": "https://localhost:8080/"
        }
      },
      "execution_count": null,
      "outputs": [
        {
          "output_type": "stream",
          "name": "stdout",
          "text": [
            "COLUMN                CELL                                                      \n",
            " vi:make              timestamp=2022-01-14T04:11:02.984, value=bmw              \n",
            "1 row(s)\n",
            "Took 1.0870 seconds                                                             \n",
            "\n"
          ]
        }
      ]
    },
    {
      "cell_type": "markdown",
      "source": [
        "### Versioning"
      ],
      "metadata": {
        "id": "TI4nTpqu9xtz"
      }
    },
    {
      "cell_type": "code",
      "source": [
        "# add the same row a second time\n",
        "!echo \"put 'cars', 'row1', 'vi:make', 'bmw-v2'\" | hbase shell -n"
      ],
      "metadata": {
        "id": "5jK9-93r30Dp",
        "outputId": "fb0c578e-33a1-4f85-fea1-1530460217c1",
        "colab": {
          "base_uri": "https://localhost:8080/"
        }
      },
      "execution_count": null,
      "outputs": [
        {
          "output_type": "stream",
          "name": "stdout",
          "text": [
            "Took 0.9879 seconds                                                             \n",
            "\n"
          ]
        }
      ]
    },
    {
      "cell_type": "code",
      "source": [
        "!echo \"get 'cars', 'row1', 'vi:make' \"| hbase shell -n"
      ],
      "metadata": {
        "id": "uVo7y5sx4Psd",
        "outputId": "8323a347-4d3a-4388-e042-d4031f74e49c",
        "colab": {
          "base_uri": "https://localhost:8080/"
        }
      },
      "execution_count": null,
      "outputs": [
        {
          "output_type": "stream",
          "name": "stdout",
          "text": [
            "COLUMN                CELL                                                      \n",
            " vi:make              timestamp=2022-01-14T04:37:03.533, value=bmw-v2           \n",
            "1 row(s)\n",
            "Took 1.0824 seconds                                                             \n",
            "\n"
          ]
        }
      ]
    },
    {
      "cell_type": "code",
      "source": [
        "!echo \"get 'cars', 'row1',  {COLUMN => 'vi:make', VERSIONS => 2} \"| hbase shell -n"
      ],
      "metadata": {
        "id": "HwG3kO_P4u_G",
        "outputId": "523a9079-5f26-4555-f6b7-07fefbee9633",
        "colab": {
          "base_uri": "https://localhost:8080/"
        }
      },
      "execution_count": null,
      "outputs": [
        {
          "output_type": "stream",
          "name": "stdout",
          "text": [
            "COLUMN                CELL                                                      \n",
            " vi:make              timestamp=2022-01-14T04:37:03.533, value=bmw-v2           \n",
            "1 row(s)\n",
            "Took 0.8776 seconds                                                             \n",
            "\n"
          ]
        }
      ]
    },
    {
      "cell_type": "code",
      "source": [
        "# versioning is not setup by default\n",
        "! echo \"alter 'cars', NAME=>'vi', VERSIONS=>3\" | hbase shell -n"
      ],
      "metadata": {
        "id": "WfE76SyV8ppK",
        "outputId": "01ddbcc6-61df-48bc-c49d-7aa2bb602636",
        "colab": {
          "base_uri": "https://localhost:8080/"
        }
      },
      "execution_count": null,
      "outputs": [
        {
          "output_type": "stream",
          "name": "stdout",
          "text": [
            "Updating all regions with the new schema...\n",
            "1/1 regions updated.\n",
            "Done.\n",
            "Took 2.7625 seconds                                                             \n",
            "\n"
          ]
        }
      ]
    },
    {
      "cell_type": "code",
      "source": [
        "# add the same row a third time\n",
        "!echo \"put 'cars', 'row1', 'vi:make', 'bmw-v3'\" | hbase shell -n"
      ],
      "metadata": {
        "id": "cn6iZqLo89DT",
        "outputId": "fe6eb6c2-e7a6-403a-e5d9-7c2ba02f3806",
        "colab": {
          "base_uri": "https://localhost:8080/"
        }
      },
      "execution_count": null,
      "outputs": [
        {
          "output_type": "stream",
          "name": "stdout",
          "text": [
            "Took 0.9044 seconds                                                             \n",
            "\n"
          ]
        }
      ]
    },
    {
      "cell_type": "code",
      "source": [
        "!echo \"get 'cars', 'row1',  {COLUMN => 'vi:make', VERSIONS => 2} \"| hbase shell -n"
      ],
      "metadata": {
        "id": "IIeysAjZ9Z9-",
        "outputId": "bbbddfd2-58b7-436c-fc52-7ce26af72613",
        "colab": {
          "base_uri": "https://localhost:8080/"
        }
      },
      "execution_count": null,
      "outputs": [
        {
          "output_type": "stream",
          "name": "stdout",
          "text": [
            "COLUMN                CELL                                                      \n",
            " vi:make              timestamp=2022-01-14T04:59:31.830, value=bmw-v3           \n",
            " vi:make              timestamp=2022-01-14T04:37:03.533, value=bmw-v2           \n",
            "1 row(s)\n",
            "Took 0.9090 seconds                                                             \n",
            "\n"
          ]
        }
      ]
    },
    {
      "cell_type": "code",
      "metadata": {
        "colab": {
          "base_uri": "https://localhost:8080/"
        },
        "id": "KBFVcL95PgSB",
        "outputId": "8631f35a-df21-4ca8-9c9b-3f2bba847ac6"
      },
      "source": [
        "!echo \"disable 'cars'\" | hbase shell -n\n",
        "!echo \"drop 'cars'\" | hbase shell -n"
      ],
      "execution_count": null,
      "outputs": [
        {
          "output_type": "stream",
          "name": "stdout",
          "text": [
            "Took 1.2346 seconds                                                             \n",
            "\n",
            "Took 1.1423 seconds                                                             \n",
            "\n"
          ]
        }
      ]
    },
    {
      "cell_type": "markdown",
      "metadata": {
        "id": "EztkGD3HPYhb"
      },
      "source": [
        "#Bulk Data Load\n",
        "https://people.apache.org/~stack/site/bulk-loads.html"
      ]
    },
    {
      "cell_type": "code",
      "metadata": {
        "colab": {
          "base_uri": "https://localhost:8080/"
        },
        "id": "v3z4W7zYzbEP",
        "outputId": "0cdb7f82-7fa6-4426-b81e-70f3b9fd5295"
      },
      "source": [
        "#Data as CSV file\n",
        "!gdown https://drive.google.com/uc?id=1B6szzHNG7BCToKOktRiGUfFblrp1f_GC  # cars2.csv"
      ],
      "execution_count": 24,
      "outputs": [
        {
          "output_type": "stream",
          "name": "stdout",
          "text": [
            "Downloading...\n",
            "From: https://drive.google.com/uc?id=1B6szzHNG7BCToKOktRiGUfFblrp1f_GC\n",
            "To: /content/cars2.csv\n",
            "\r  0% 0.00/54.0 [00:00<?, ?B/s]\r100% 54.0/54.0 [00:00<00:00, 66.8kB/s]\n"
          ]
        }
      ]
    },
    {
      "cell_type": "code",
      "metadata": {
        "colab": {
          "base_uri": "https://localhost:8080/"
        },
        "id": "rBJ063HuoDhA",
        "outputId": "dab7c017-84fe-44dd-edd9-539721865b64"
      },
      "source": [
        "# see the data\n",
        "!cat cars2.csv"
      ],
      "execution_count": 25,
      "outputs": [
        {
          "output_type": "stream",
          "name": "stdout",
          "text": [
            "Ford,Ecosport,2019\r\n",
            "Hyundai,i20,2015\r\n",
            "Maruti,Omni,2007"
          ]
        }
      ]
    },
    {
      "cell_type": "code",
      "metadata": {
        "id": "EkEIeHtHkc3L"
      },
      "source": [
        "#!echo \"disable 'cars2'\" | hbase shell -n\n",
        "#!echo \"drop 'cars2'\" | hbase shell -n"
      ],
      "execution_count": null,
      "outputs": []
    },
    {
      "cell_type": "code",
      "metadata": {
        "colab": {
          "base_uri": "https://localhost:8080/"
        },
        "id": "rOlmaKHFewdi",
        "outputId": "6830a7f1-55d9-40d7-bf67-7f765728a559"
      },
      "source": [
        "#create 'sensor','temp','vibration','pressure'\n",
        "!echo \"create 'cars2', 'make','model','year'\" | hbase shell -n"
      ],
      "execution_count": 26,
      "outputs": [
        {
          "output_type": "stream",
          "name": "stdout",
          "text": [
            "SLF4J: Class path contains multiple SLF4J bindings.\n",
            "SLF4J: Found binding in [jar:file:/usr/local/hadoop-3.3.3/share/hadoop/common/lib/slf4j-reload4j-1.7.36.jar!/org/slf4j/impl/StaticLoggerBinder.class]\n",
            "SLF4J: Found binding in [jar:file:/content/hbase-2.5.0/lib/client-facing-thirdparty/log4j-slf4j-impl-2.17.2.jar!/org/slf4j/impl/StaticLoggerBinder.class]\n",
            "SLF4J: See http://www.slf4j.org/codes.html#multiple_bindings for an explanation.\n",
            "SLF4J: Actual binding is of type [org.slf4j.impl.Reload4jLoggerFactory]\n",
            "2022-10-07 09:27:18,770 INFO  [main] Configuration.deprecation (Configuration.java:logDeprecation(1294)) - hbase.client.pause.cqtbe is deprecated. Instead, use hbase.client.pause.server.overloaded\n",
            "2022-10-07 09:27:18,892 INFO  [ReadOnlyZKClient-127.0.0.1:2181@0x273dec10] zookeeper.ZooKeeper (Environment.java:logEnv(109)) - Client environment:zookeeper.version=3.5.7-f0fdd52973d373ffd9c86b81d99842dc2c7f660e, built on 02/10/2020 11:30 GMT\n",
            "2022-10-07 09:27:18,893 INFO  [ReadOnlyZKClient-127.0.0.1:2181@0x273dec10] zookeeper.ZooKeeper (Environment.java:logEnv(109)) - Client environment:host.name=284ad1f3a301\n",
            "2022-10-07 09:27:18,894 INFO  [ReadOnlyZKClient-127.0.0.1:2181@0x273dec10] zookeeper.ZooKeeper (Environment.java:logEnv(109)) - Client environment:java.version=1.8.0_342\n",
            "2022-10-07 09:27:18,894 INFO  [ReadOnlyZKClient-127.0.0.1:2181@0x273dec10] zookeeper.ZooKeeper (Environment.java:logEnv(109)) - Client environment:java.vendor=Private Build\n",
            "2022-10-07 09:27:18,894 INFO  [ReadOnlyZKClient-127.0.0.1:2181@0x273dec10] zookeeper.ZooKeeper (Environment.java:logEnv(109)) - Client environment:java.home=/usr/lib/jvm/java-8-openjdk-amd64/jre\n",
            "2022-10-07 09:27:18,894 INFO  [ReadOnlyZKClient-127.0.0.1:2181@0x273dec10] zookeeper.ZooKeeper (Environment.java:logEnv(109)) - Client environment:java.class.path=/content/hbase-2.5.0//lib/ruby/jruby-complete-9.2.13.0.jar:/content/hbase-2.5.0//conf:/usr/lib/jvm/java-8-openjdk-amd64/lib/tools.jar:/content/hbase-2.5.0/:/content/hbase-2.5.0//lib/agrona-1.12.0.jar:/content/hbase-2.5.0//lib/aircompressor-0.21.jar:/content/hbase-2.5.0//lib/aopalliance-1.0.jar:/content/hbase-2.5.0//lib/apacheds-i18n-2.0.0-M15.jar:/content/hbase-2.5.0//lib/apacheds-kerberos-codec-2.0.0-M15.jar:/content/hbase-2.5.0//lib/api-asn1-api-1.0.0-M20.jar:/content/hbase-2.5.0//lib/api-i18n-1.0.0-M20.jar:/content/hbase-2.5.0//lib/api-util-1.0.0-M20.jar:/content/hbase-2.5.0//lib/asm-3.1.jar:/content/hbase-2.5.0//lib/avro-1.11.0.jar:/content/hbase-2.5.0//lib/brotli4j-1.7.1.jar:/content/hbase-2.5.0//lib/byte-buddy-1.9.10.jar:/content/hbase-2.5.0//lib/byte-buddy-agent-1.9.10.jar:/content/hbase-2.5.0//lib/caffeine-2.8.1.jar:/content/hbase-2.5.0//lib/checker-qual-3.1.0.jar:/content/hbase-2.5.0//lib/commons-cli-1.2.jar:/content/hbase-2.5.0//lib/commons-codec-1.13.jar:/content/hbase-2.5.0//lib/commons-collections-3.2.2.jar:/content/hbase-2.5.0//lib/commons-compress-1.21.jar:/content/hbase-2.5.0//lib/commons-configuration-1.6.jar:/content/hbase-2.5.0//lib/commons-crypto-1.1.0.jar:/content/hbase-2.5.0//lib/commons-csv-1.0.jar:/content/hbase-2.5.0//lib/commons-daemon-1.0.13.jar:/content/hbase-2.5.0//lib/commons-digester-1.8.jar:/content/hbase-2.5.0//lib/commons-io-2.11.0.jar:/content/hbase-2.5.0//lib/commons-lang-2.6.jar:/content/hbase-2.5.0//lib/commons-lang3-3.9.jar:/content/hbase-2.5.0//lib/commons-math3-3.6.1.jar:/content/hbase-2.5.0//lib/commons-net-3.1.jar:/content/hbase-2.5.0//lib/curator-client-4.2.0.jar:/content/hbase-2.5.0//lib/curator-framework-4.2.0.jar:/content/hbase-2.5.0//lib/curator-recipes-4.2.0.jar:/content/hbase-2.5.0//lib/disruptor-3.4.2.jar:/content/hbase-2.5.0//lib/ehcache-3.3.1.jar:/content/hbase-2.5.0//lib/error_prone_annotations-2.14.0.jar:/content/hbase-2.5.0//lib/fst-2.50.jar:/content/hbase-2.5.0//lib/geronimo-jcache_1.0_spec-1.0-alpha-1.jar:/content/hbase-2.5.0//lib/gson-2.2.4.jar:/content/hbase-2.5.0//lib/guava-11.0.2.jar:/content/hbase-2.5.0//lib/guice-3.0.jar:/content/hbase-2.5.0//lib/guice-servlet-3.0.jar:/content/hbase-2.5.0//lib/hadoop-annotations-2.10.2.jar:/content/hbase-2.5.0//lib/hadoop-auth-2.10.2.jar:/content/hbase-2.5.0//lib/hadoop-client-2.10.2.jar:/content/hbase-2.5.0//lib/hadoop-common-2.10.2.jar:/content/hbase-2.5.0//lib/hadoop-distcp-2.10.2.jar:/content/hbase-2.5.0//lib/hadoop-hdfs-2.10.2.jar:/content/hbase-2.5.0//lib/hadoop-hdfs-2.10.2-tests.jar:/content/hbase-2.5.0//lib/hadoop-hdfs-client-2.10.2.jar:/content/hbase-2.5.0//lib/hadoop-mapreduce-client-app-2.10.2.jar:/content/hbase-2.5.0//lib/hadoop-mapreduce-client-common-2.10.2.jar:/content/hbase-2.5.0//lib/hadoop-mapreduce-client-core-2.10.2.jar:/content/hbase-2.5.0//lib/hadoop-mapreduce-client-hs-2.10.2.jar:/content/hbase-2.5.0//lib/hadoop-mapreduce-client-jobclient-2.10.2.jar:/content/hbase-2.5.0//lib/hadoop-mapreduce-client-shuffle-2.10.2.jar:/content/hbase-2.5.0//lib/hadoop-minicluster-2.10.2.jar:/content/hbase-2.5.0//lib/hadoop-yarn-api-2.10.2.jar:/content/hbase-2.5.0//lib/hadoop-yarn-client-2.10.2.jar:/content/hbase-2.5.0//lib/hadoop-yarn-common-2.10.2.jar:/content/hbase-2.5.0//lib/hadoop-yarn-registry-2.10.2.jar:/content/hbase-2.5.0//lib/hadoop-yarn-server-applicationhistoryservice-2.10.2.jar:/content/hbase-2.5.0//lib/hadoop-yarn-server-common-2.10.2.jar:/content/hbase-2.5.0//lib/hadoop-yarn-server-nodemanager-2.10.2.jar:/content/hbase-2.5.0//lib/hadoop-yarn-server-resourcemanager-2.10.2.jar:/content/hbase-2.5.0//lib/hadoop-yarn-server-tests-2.10.2-tests.jar:/content/hbase-2.5.0//lib/hadoop-yarn-server-timelineservice-2.10.2.jar:/content/hbase-2.5.0//lib/hadoop-yarn-server-web-proxy-2.10.2.jar:/content/hbase-2.5.0//lib/hamcrest-core-1.3.jar:/content/hbase-2.5.0//lib/hbase-annotations-2.5.0.jar:/content/hbase-2.5.0//lib/hbase-annotations-2.5.0-tests.jar:/content/hbase-2.5.0//lib/hbase-asyncfs-2.5.0.jar:/content/hbase-2.5.0//lib/hbase-asyncfs-2.5.0-tests.jar:/content/hbase-2.5.0//lib/hbase-client-2.5.0.jar:/content/hbase-2.5.0//lib/hbase-common-2.5.0.jar:/content/hbase-2.5.0//lib/hbase-common-2.5.0-tests.jar:/content/hbase-2.5.0//lib/hbase-compression-aircompressor-2.5.0.jar:/content/hbase-2.5.0//lib/hbase-compression-brotli-2.5.0.jar:/content/hbase-2.5.0//lib/hbase-compression-lz4-2.5.0.jar:/content/hbase-2.5.0//lib/hbase-compression-snappy-2.5.0.jar:/content/hbase-2.5.0//lib/hbase-compression-xz-2.5.0.jar:/content/hbase-2.5.0//lib/hbase-compression-zstd-2.5.0.jar:/content/hbase-2.5.0//lib/hbase-endpoint-2.5.0.jar:/content/hbase-2.5.0//lib/hbase-examples-2.5.0.jar:/content/hbase-2.5.0//lib/hbase-external-blockcache-2.5.0.jar:/content/hbase-2.5.0//lib/hbase-hadoop2-compat-2.5.0.jar:/content/hbase-2.5.0//lib/hbase-hadoop2-compat-2.5.0-tests.jar:/content/hbase-2.5.0//lib/hbase-hadoop-compat-2.5.0.jar:/content/hbase-2.5.0//lib/hbase-hadoop-compat-2.5.0-tests.jar:/content/hbase-2.5.0//lib/hbase-hbtop-2.5.0.jar:/content/hbase-2.5.0//lib/hbase-http-2.5.0.jar:/content/hbase-2.5.0//lib/hbase-it-2.5.0.jar:/content/hbase-2.5.0//lib/hbase-it-2.5.0-tests.jar:/content/hbase-2.5.0//lib/hbase-logging-2.5.0.jar:/content/hbase-2.5.0//lib/hbase-mapreduce-2.5.0.jar:/content/hbase-2.5.0//lib/hbase-mapreduce-2.5.0-tests.jar:/content/hbase-2.5.0//lib/hbase-metrics-2.5.0.jar:/content/hbase-2.5.0//lib/hbase-metrics-api-2.5.0.jar:/content/hbase-2.5.0//lib/hbase-procedure-2.5.0.jar:/content/hbase-2.5.0//lib/hbase-procedure-2.5.0-tests.jar:/content/hbase-2.5.0//lib/hbase-protocol-2.5.0.jar:/content/hbase-2.5.0//lib/hbase-protocol-shaded-2.5.0.jar:/content/hbase-2.5.0//lib/hbase-replication-2.5.0.jar:/content/hbase-2.5.0//lib/hbase-resource-bundle-2.5.0.jar:/content/hbase-2.5.0//lib/hbase-rest-2.5.0.jar:/content/hbase-2.5.0//lib/hbase-rsgroup-2.5.0.jar:/content/hbase-2.5.0//lib/hbase-rsgroup-2.5.0-tests.jar:/content/hbase-2.5.0//lib/hbase-server-2.5.0.jar:/content/hbase-2.5.0//lib/hbase-server-2.5.0-tests.jar:/content/hbase-2.5.0//lib/hbase-shaded-gson-4.1.1.jar:/content/hbase-2.5.0//lib/hbase-shaded-jackson-jaxrs-json-provider-4.1.1.jar:/content/hbase-2.5.0//lib/hbase-shaded-jersey-4.1.1.jar:/content/hbase-2.5.0//lib/hbase-shaded-jetty-4.1.1.jar:/content/hbase-2.5.0//lib/hbase-shaded-miscellaneous-4.1.1.jar:/content/hbase-2.5.0//lib/hbase-shaded-netty-4.1.1.jar:/content/hbase-2.5.0//lib/hbase-shaded-protobuf-4.1.1.jar:/content/hbase-2.5.0//lib/hbase-shell-2.5.0.jar:/content/hbase-2.5.0//lib/hbase-testing-util-2.5.0.jar:/content/hbase-2.5.0//lib/hbase-thrift-2.5.0.jar:/content/hbase-2.5.0//lib/hbase-unsafe-4.1.1.jar:/content/hbase-2.5.0//lib/hbase-zookeeper-2.5.0.jar:/content/hbase-2.5.0//lib/hbase-zookeeper-2.5.0-tests.jar:/content/hbase-2.5.0//lib/HikariCP-java7-2.4.12.jar:/content/hbase-2.5.0//lib/httpclient-4.5.13.jar:/content/hbase-2.5.0//lib/httpcore-4.4.13.jar:/content/hbase-2.5.0//lib/jackson-annotations-2.13.3.jar:/content/hbase-2.5.0//lib/jackson-core-2.13.3.jar:/content/hbase-2.5.0//lib/jackson-core-asl-1.9.13.jar:/content/hbase-2.5.0//lib/jackson-databind-2.13.3.jar:/content/hbase-2.5.0//lib/jackson-mapper-asl-1.9.13.jar:/content/hbase-2.5.0//lib/jackson-module-jaxb-annotations-2.13.3.jar:/content/hbase-2.5.0//lib/jakarta.inject-2.6.1.jar:/content/hbase-2.5.0//lib/jakarta.validation-api-2.0.2.jar:/content/hbase-2.5.0//lib/jamon-runtime-2.4.1.jar:/content/hbase-2.5.0//lib/javassist-3.25.0-GA.jar:/content/hbase-2.5.0//lib/java-util-1.9.0.jar:/content/hbase-2.5.0//lib/javax.activation-api-1.2.0.jar:/content/hbase-2.5.0//lib/javax.annotation-api-1.2.jar:/content/hbase-2.5.0//lib/javax.el-3.0.1-b08.jar:/content/hbase-2.5.0//lib/java-xmlbuilder-0.4.jar:/content/hbase-2.5.0//lib/javax.servlet-api-3.1.0.jar:/content/hbase-2.5.0//lib/javax.servlet.jsp-2.3.2.jar:/content/hbase-2.5.0//lib/javax.servlet.jsp-api-2.3.1.jar:/content/hbase-2.5.0//lib/javax.ws.rs-api-2.1.1.jar:/content/hbase-2.5.0//lib/jaxb-api-2.3.1.jar:/content/hbase-2.5.0//lib/jaxb-impl-2.2.3-1.jar:/content/hbase-2.5.0//lib/jcip-annotations-1.0-1.jar:/content/hbase-2.5.0//lib/jcodings-1.0.55.jar:/content/hbase-2.5.0//lib/jets3t-0.9.0.jar:/content/hbase-2.5.0//lib/jettison-1.3.8.jar:/content/hbase-2.5.0//lib/jetty-6.1.26.jar:/content/hbase-2.5.0//lib/jetty-sslengine-6.1.26.jar:/content/hbase-2.5.0//lib/jetty-util-6.1.26.jar:/content/hbase-2.5.0//lib/joni-2.1.31.jar:/content/hbase-2.5.0//lib/jsch-0.1.55.jar:/content/hbase-2.5.0//lib/json-io-2.5.1.jar:/content/hbase-2.5.0//lib/jsr311-api-1.1.1.jar:/content/hbase-2.5.0//lib/junit-4.13.2.jar:/content/hbase-2.5.0//lib/leveldbjni-all-1.8.jar:/content/hbase-2.5.0//lib/libthrift-0.14.1.jar:/content/hbase-2.5.0//lib/lz4-java-1.8.0.jar:/content/hbase-2.5.0//lib/metrics-core-3.0.1.jar:/content/hbase-2.5.0//lib/metrics-core-3.2.6.jar:/content/hbase-2.5.0//lib/mockito-core-2.28.2.jar:/content/hbase-2.5.0//lib/mssql-jdbc-6.2.1.jre7.jar:/content/hbase-2.5.0//lib/native-linux-x86_64-1.7.1.jar:/content/hbase-2.5.0//lib/netty-buffer-4.1.45.Final.jar:/content/hbase-2.5.0//lib/netty-codec-4.1.45.Final.jar:/content/hbase-2.5.0//lib/netty-common-4.1.45.Final.jar:/content/hbase-2.5.0//lib/netty-handler-4.1.45.Final.jar:/content/hbase-2.5.0//lib/netty-resolver-4.1.45.Final.jar:/content/hbase-2.5.0//lib/netty-transport-4.1.45.Final.jar:/content/hbase-2.5.0//lib/netty-transport-native-epoll-4.1.45.Final.jar:/content/hbase-2.5.0//lib/netty-transport-native-unix-common-4.1.45.Final.jar:/content/hbase-2.5.0//lib/nimbus-jose-jwt-7.9.jar:/content/hbase-2.5.0//lib/objenesis-2.6.jar:/content/hbase-2.5.0//lib/okhttp-2.7.5.jar:/content/hbase-2.5.0//lib/okio-1.6.0.jar:/content/hbase-2.5.0//lib/opentelemetry-api-1.15.0.jar:/content/hbase-2.5.0//lib/opentelemetry-context-1.15.0.jar:/content/hbase-2.5.0//lib/opentelemetry-semconv-1.15.0-alpha.jar:/content/hbase-2.5.0//lib/protobuf-java-2.5.0.jar:/content/hbase-2.5.0//lib/snappy-java-1.1.8.4.jar:/content/hbase-2.5.0//lib/spymemcached-2.12.2.jar:/content/hbase-2.5.0//lib/stax2-api-4.2.1.jar:/content/hbase-2.5.0//lib/woodstox-core-5.3.0.jar:/content/hbase-2.5.0//lib/xmlenc-0.52.jar:/content/hbase-2.5.0//lib/xz-1.9.jar:/content/hbase-2.5.0//lib/zookeeper-3.5.7.jar:/content/hbase-2.5.0//lib/zookeeper-jute-3.5.7.jar:/content/hbase-2.5.0//lib/zstd-jni-1.5.0-4.jar:/content/hbase-2.5.0//lib/client-facing-thirdparty/audience-annotations-0.5.0.jar:/content/hbase-2.5.0//lib/client-facing-thirdparty/commons-logging-1.2.jar:/content/hbase-2.5.0//lib/client-facing-thirdparty/htrace-core4-4.1.0-incubating.jar:/content/hbase-2.5.0//lib/client-facing-thirdparty/jcl-over-slf4j-1.7.33.jar:/content/hbase-2.5.0//lib/client-facing-thirdparty/jul-to-slf4j-1.7.33.jar:/content/hbase-2.5.0//lib/client-facing-thirdparty/opentelemetry-api-1.15.0.jar:/content/hbase-2.5.0//lib/client-facing-thirdparty/opentelemetry-context-1.15.0.jar:/content/hbase-2.5.0//lib/client-facing-thirdparty/opentelemetry-semconv-1.15.0-alpha.jar:/usr/local/hadoop-3.3.3//etc/hadoop:/usr/local/hadoop-3.3.3//share/hadoop/common/lib/jsp-api-2.1.jar:/usr/local/hadoop-3.3.3//share/hadoop/common/lib/kerb-identity-1.0.1.jar:/usr/local/hadoop-3.3.3//share/hadoop/common/lib/paranamer-2.3.jar:/usr/local/hadoop-3.3.3//share/hadoop/common/lib/accessors-smart-2.4.7.jar:/usr/local/hadoop-3.3.3//share/hadoop/common/lib/commons-io-2.8.0.jar:/usr/local/hadoop-3.3.3//share/hadoop/common/lib/jackson-core-asl-1.9.13.jar:/usr/local/hadoop-3.3.3//share/hadoop/common/lib/jackson-mapper-asl-1.9.13.jar:/usr/local/hadoop-3.3.3//share/hadoop/common/lib/jackson-databind-2.13.2.2.jar:/usr/local/hadoop-3.3.3//share/hadoop/common/lib/kerb-server-1.0.1.jar:/usr/local/hadoop-3.3.3//share/hadoop/common/lib/hadoop-annotations-3.3.3.jar:/usr/local/hadoop-3.3.3//share/hadoop/common/lib/metrics-core-3.2.4.jar:/usr/local/hadoop-3.3.3//share/hadoop/common/lib/jsr305-3.0.2.jar:/usr/local/hadoop-3.3.3//share/hadoop/common/lib/kerb-util-1.0.1.jar:/usr/local/hadoop-3.3.3//share/hadoop/common/lib/jaxb-api-2.2.11.jar:/usr/local/hadoop-3.3.3//share/hadoop/common/lib/token-provider-1.0.1.jar:/usr/local/hadoop-3.3.3//share/hadoop/common/lib/zookeeper-3.5.6.jar:/usr/local/hadoop-3.3.3//share/hadoop/common/lib/json-smart-2.4.7.jar:/usr/local/hadoop-3.3.3//share/hadoop/common/lib/jackson-xc-1.9.13.jar:/usr/local/hadoop-3.3.3//share/hadoop/common/lib/jackson-annotations-2.13.2.jar:/usr/local/hadoop-3.3.3//share/hadoop/common/lib/commons-daemon-1.0.13.jar:/usr/local/hadoop-3.3.3//share/hadoop/common/lib/kerb-simplekdc-1.0.1.jar:/usr/local/hadoop-3.3.3//share/hadoop/common/lib/jetty-http-9.4.43.v20210629.jar:/usr/local/hadoop-3.3.3//share/hadoop/common/lib/protobuf-java-2.5.0.jar:/usr/local/hadoop-3.3.3//share/hadoop/common/lib/gson-2.8.9.jar:/usr/local/hadoop-3.3.3//share/hadoop/common/lib/commons-beanutils-1.9.4.jar:/usr/local/hadoop-3.3.3//share/hadoop/common/lib/curator-recipes-4.2.0.jar:/usr/local/hadoop-3.3.3//share/hadoop/common/lib/jetty-io-9.4.43.v20210629.jar:/usr/local/hadoop-3.3.3//share/hadoop/common/lib/kerb-core-1.0.1.jar:/usr/local/hadoop-3.3.3//share/hadoop/common/lib/commons-cli-1.2.jar:/usr/local/hadoop-3.3.3//share/hadoop/common/lib/curator-framework-4.2.0.jar:/usr/local/hadoop-3.3.3//share/hadoop/common/lib/commons-collections-3.2.2.jar:/usr/local/hadoop-3.3.3//share/hadoop/common/lib/jettison-1.1.jar:/usr/local/hadoop-3.3.3//share/hadoop/common/lib/kerby-asn1-1.0.1.jar:/usr/local/hadoop-3.3.3//share/hadoop/common/lib/jetty-util-9.4.43.v20210629.jar:/usr/local/hadoop-3.3.3//share/hadoop/common/lib/commons-compress-1.21.jar:/usr/local/hadoop-3.3.3//share/hadoop/common/lib/reload4j-1.2.18.3.jar:/usr/local/hadoop-3.3.3//share/hadoop/common/lib/jackson-core-2.13.2.jar:/usr/local/hadoop-3.3.3//share/hadoop/common/lib/commons-configuration2-2.1.1.jar:/usr/local/hadoop-3.3.3//share/hadoop/common/lib/commons-logging-1.1.3.jar:/usr/local/hadoop-3.3.3//share/hadoop/common/lib/jetty-webapp-9.4.43.v20210629.jar:/usr/local/hadoop-3.3.3//share/hadoop/common/lib/jsr311-api-1.1.1.jar:/usr/local/hadoop-3.3.3//share/hadoop/common/lib/netty-3.10.6.Final.jar:/usr/local/hadoop-3.3.3//share/hadoop/common/lib/jsch-0.1.55.jar:/usr/local/hadoop-3.3.3//share/hadoop/common/lib/kerb-common-1.0.1.jar:/usr/local/hadoop-3.3.3//share/hadoop/common/lib/jersey-json-1.19.jar:/usr/local/hadoop-3.3.3//share/hadoop/common/lib/commons-text-1.4.jar:/usr/local/hadoop-3.3.3//share/hadoop/common/lib/jetty-server-9.4.43.v20210629.jar:/usr/local/hadoop-3.3.3//share/hadoop/common/lib/kerby-config-1.0.1.jar:/usr/local/hadoop-3.3.3//share/hadoop/common/lib/jetty-servlet-9.4.43.v20210629.jar:/usr/local/hadoop-3.3.3//share/hadoop/common/lib/commons-math3-3.1.1.jar:/usr/local/hadoop-3.3.3//share/hadoop/common/lib/re2j-1.1.jar:/usr/local/hadoop-3.3.3//share/hadoop/common/lib/zookeeper-jute-3.5.6.jar:/usr/local/hadoop-3.3.3//share/hadoop/common/lib/hadoop-shaded-guava-1.1.1.jar:/usr/local/hadoop-3.3.3//share/hadoop/common/lib/jersey-core-1.19.jar:/usr/local/hadoop-3.3.3//share/hadoop/common/lib/jersey-servlet-1.19.jar:/usr/local/hadoop-3.3.3//share/hadoop/common/lib/kerby-pkix-1.0.1.jar:/usr/local/hadoop-3.3.3//share/hadoop/common/lib/jaxb-impl-2.2.3-1.jar:/usr/local/hadoop-3.3.3//share/hadoop/common/lib/curator-client-4.2.0.jar:/usr/local/hadoop-3.3.3//share/hadoop/common/lib/jackson-jaxrs-1.9.13.jar:/usr/local/hadoop-3.3.3//share/hadoop/common/lib/kerby-util-1.0.1.jar:/usr/local/hadoop-3.3.3//share/hadoop/common/lib/javax.servlet-api-3.1.0.jar:/usr/local/hadoop-3.3.3//share/hadoop/common/lib/listenablefuture-9999.0-empty-to-avoid-conflict-with-guava.jar:/usr/local/hadoop-3.3.3//share/hadoop/common/lib/failureaccess-1.0.jar:/usr/local/hadoop-3.3.3//share/hadoop/common/lib/checker-qual-2.5.2.jar:/usr/local/hadoop-3.3.3//share/hadoop/common/lib/animal-sniffer-annotations-1.17.jar:/usr/local/hadoop-3.3.3//share/hadoop/common/lib/dnsjava-2.1.7.jar:/usr/local/hadoop-3.3.3//share/hadoop/common/lib/slf4j-reload4j-1.7.36.jar:/usr/local/hadoop-3.3.3//share/hadoop/common/lib/nimbus-jose-jwt-9.8.1.jar:/usr/local/hadoop-3.3.3//share/hadoop/common/lib/kerb-admin-1.0.1.jar:/usr/local/hadoop-3.3.3//share/hadoop/common/lib/jcip-annotations-1.0-1.jar:/usr/local/hadoop-3.3.3//share/hadoop/common/lib/audience-annotations-0.5.0.jar:/usr/local/hadoop-3.3.3//share/hadoop/common/lib/jersey-server-1.19.jar:/usr/local/hadoop-3.3.3//share/hadoop/common/lib/hadoop-shaded-protobuf_3_7-1.1.1.jar:/usr/local/hadoop-3.3.3//share/hadoop/common/lib/jetty-security-9.4.43.v20210629.jar:/usr/local/hadoop-3.3.3//share/hadoop/common/lib/httpclient-4.5.13.jar:/usr/local/hadoop-3.3.3//share/hadoop/common/lib/kerby-xdr-1.0.1.jar:/usr/local/hadoop-3.3.3//share/hadoop/common/lib/jetty-util-ajax-9.4.43.v20210629.jar:/usr/local/hadoop-3.3.3//share/hadoop/common/lib/jetty-xml-9.4.43.v20210629.jar:/usr/local/hadoop-3.3.3//share/hadoop/common/lib/jul-to-slf4j-1.7.36.jar:/usr/local/hadoop-3.3.3//share/hadoop/common/lib/httpcore-4.4.13.jar:/usr/local/hadoop-3.3.3//share/hadoop/common/lib/snappy-java-1.1.8.2.jar:/usr/local/hadoop-3.3.3//share/hadoop/common/lib/jakarta.activation-api-1.2.1.jar:/usr/local/hadoop-3.3.3//share/hadoop/common/lib/asm-5.0.4.jar:/usr/local/hadoop-3.3.3//share/hadoop/common/lib/woodstox-core-5.3.0.jar:/usr/local/hadoop-3.3.3//share/hadoop/common/lib/hadoop-auth-3.3.3.jar:/usr/local/hadoop-3.3.3//share/hadoop/common/lib/j2objc-annotations-1.1.jar:/usr/local/hadoop-3.3.3//share/hadoop/common/lib/stax2-api-4.2.1.jar:/usr/local/hadoop-3.3.3//share/hadoop/common/lib/commons-net-3.6.jar:/usr/local/hadoop-3.3.3//share/hadoop/common/lib/avro-1.7.7.jar:/usr/local/hadoop-3.3.3//share/hadoop/common/lib/kerb-client-1.0.1.jar:/usr/local/hadoop-3.3.3//share/hadoop/common/lib/guava-27.0-jre.jar:/usr/local/hadoop-3.3.3//share/hadoop/common/lib/slf4j-api-1.7.36.jar:/usr/local/hadoop-3.3.3//share/hadoop/common/lib/kerb-crypto-1.0.1.jar:/usr/local/hadoop-3.3.3//share/hadoop/common/lib/commons-codec-1.15.jar:/usr/local/hadoop-3.3.3//share/hadoop/common/lib/commons-lang3-3.12.0.jar:/usr/local/hadoop-3.3.3//share/hadoop/common/hadoop-kms-3.3.3.jar:/usr/local/hadoop-3.3.3//share/hadoop/common/hadoop-registry-3.3.3.jar:/usr/local/hadoop-3.3.3//share/hadoop/common/hadoop-common-3.3.3-tests.jar:/usr/local/hadoop-3.3.3//share/hadoop/common/hadoop-common-3.3.3.jar:/usr/local/hadoop-3.3.3//share/hadoop/common/hadoop-nfs-3.3.3.jar:/usr/local/hadoop-3.3.3//share/hadoop/hdfs:/usr/local/hadoop-3.3.3//share/hadoop/hdfs/lib/kerb-identity-1.0.1.jar:/usr/local/hadoop-3.3.3//share/hadoop/hdfs/lib/paranamer-2.3.jar:/usr/local/hadoop-3.3.3//share/hadoop/hdfs/lib/accessors-smart-2.4.7.jar:/usr/local/hadoop-3.3.3//share/hadoop/hdfs/lib/commons-io-2.8.0.jar:/usr/local/hadoop-3.3.3//share/hadoop/hdfs/lib/jackson-core-asl-1.9.13.jar:/usr/local/hadoop-3.3.3//share/hadoop/hdfs/lib/jackson-mapper-asl-1.9.13.jar:/usr/local/hadoop-3.3.3//share/hadoop/hdfs/lib/jackson-databind-2.13.2.2.jar:/usr/local/hadoop-3.3.3//share/hadoop/hdfs/lib/kerb-server-1.0.1.jar:/usr/local/hadoop-3.3.3//share/hadoop/hdfs/lib/json-simple-1.1.1.jar:/usr/local/hadoop-3.3.3//share/hadoop/hdfs/lib/hadoop-annotations-3.3.3.jar:/usr/local/hadoop-3.3.3//share/hadoop/hdfs/lib/jsr305-3.0.2.jar:/usr/local/hadoop-3.3.3//share/hadoop/hdfs/lib/kerb-util-1.0.1.jar:/usr/local/hadoop-3.3.3//share/hadoop/hdfs/lib/jaxb-api-2.2.11.jar:/usr/local/hadoop-3.3.3//share/hadoop/hdfs/lib/token-provider-1.0.1.jar:/usr/local/hadoop-3.3.3//share/hadoop/hdfs/lib/zookeeper-3.5.6.jar:/usr/local/hadoop-3.3.3//share/hadoop/hdfs/lib/json-smart-2.4.7.jar:/usr/local/hadoop-3.3.3//share/hadoop/hdfs/lib/jackson-xc-1.9.13.jar:/usr/local/hadoop-3.3.3//share/hadoop/hdfs/lib/jackson-annotations-2.13.2.jar:/usr/local/hadoop-3.3.3//share/hadoop/hdfs/lib/commons-daemon-1.0.13.jar:/usr/local/hadoop-3.3.3//share/hadoop/hdfs/lib/kerb-simplekdc-1.0.1.jar:/usr/local/hadoop-3.3.3//share/hadoop/hdfs/lib/jetty-http-9.4.43.v20210629.jar:/usr/local/hadoop-3.3.3//share/hadoop/hdfs/lib/protobuf-java-2.5.0.jar:/usr/local/hadoop-3.3.3//share/hadoop/hdfs/lib/gson-2.8.9.jar:/usr/local/hadoop-3.3.3//share/hadoop/hdfs/lib/commons-beanutils-1.9.4.jar:/usr/local/hadoop-3.3.3//share/hadoop/hdfs/lib/curator-recipes-4.2.0.jar:/usr/local/hadoop-3.3.3//share/hadoop/hdfs/lib/jetty-io-9.4.43.v20210629.jar:/usr/local/hadoop-3.3.3//share/hadoop/hdfs/lib/kerb-core-1.0.1.jar:/usr/local/hadoop-3.3.3//share/hadoop/hdfs/lib/commons-cli-1.2.jar:/usr/local/hadoop-3.3.3//share/hadoop/hdfs/lib/curator-framework-4.2.0.jar:/usr/local/hadoop-3.3.3//share/hadoop/hdfs/lib/commons-collections-3.2.2.jar:/usr/local/hadoop-3.3.3//share/hadoop/hdfs/lib/jettison-1.1.jar:/usr/local/hadoop-3.3.3//share/hadoop/hdfs/lib/kerby-asn1-1.0.1.jar:/usr/local/hadoop-3.3.3//share/hadoop/hdfs/lib/jetty-util-9.4.43.v20210629.jar:/usr/local/hadoop-3.3.3//share/hadoop/hdfs/lib/commons-compress-1.21.jar:/usr/local/hadoop-3.3.3//share/hadoop/hdfs/lib/reload4j-1.2.18.3.jar:/usr/local/hadoop-3.3.3//share/hadoop/hdfs/lib/jackson-core-2.13.2.jar:/usr/local/hadoop-3.3.3//share/hadoop/hdfs/lib/commons-configuration2-2.1.1.jar:/usr/local/hadoop-3.3.3//share/hadoop/hdfs/lib/commons-logging-1.1.3.jar:/usr/local/hadoop-3.3.3//share/hadoop/hdfs/lib/jetty-webapp-9.4.43.v20210629.jar:/usr/local/hadoop-3.3.3//share/hadoop/hdfs/lib/jsr311-api-1.1.1.jar:/usr/local/hadoop-3.3.3//share/hadoop/hdfs/lib/netty-3.10.6.Final.jar:/usr/local/hadoop-3.3.3//share/hadoop/hdfs/lib/jsch-0.1.55.jar:/usr/local/hadoop-3.3.3//share/hadoop/hdfs/lib/kerb-common-1.0.1.jar:/usr/local/hadoop-3.3.3//share/hadoop/hdfs/lib/jersey-json-1.19.jar:/usr/local/hadoop-3.3.3//share/hadoop/hdfs/lib/commons-text-1.4.jar:/usr/local/hadoop-3.3.3//share/hadoop/hdfs/lib/jetty-server-9.4.43.v20210629.jar:/usr/local/hadoop-3.3.3//share/hadoop/hdfs/lib/kerby-config-1.0.1.jar:/usr/local/hadoop-3.3.3//share/hadoop/hdfs/lib/jetty-servlet-9.4.43.v20210629.jar:/usr/local/hadoop-3.3.3//share/hadoop/hdfs/lib/commons-math3-3.1.1.jar:/usr/local/hadoop-3.3.3//share/hadoop/hdfs/lib/okio-1.6.0.jar:/usr/local/hadoop-3.3.3//share/hadoop/hdfs/lib/re2j-1.1.jar:/usr/local/hadoop-3.3.3//share/hadoop/hdfs/lib/zookeeper-jute-3.5.6.jar:/usr/local/hadoop-3.3.3//share/hadoop/hdfs/lib/hadoop-shaded-guava-1.1.1.jar:/usr/local/hadoop-3.3.3//share/hadoop/hdfs/lib/jersey-core-1.19.jar:/usr/local/hadoop-3.3.3//share/hadoop/hdfs/lib/jersey-servlet-1.19.jar:/usr/local/hadoop-3.3.3//share/hadoop/hdfs/lib/kerby-pkix-1.0.1.jar:/usr/local/hadoop-3.3.3//share/hadoop/hdfs/lib/jaxb-impl-2.2.3-1.jar:/usr/local/hadoop-3.3.3//share/hadoop/hdfs/lib/curator-client-4.2.0.jar:/usr/local/hadoop-3.3.3//share/hadoop/hdfs/lib/jackson-jaxrs-1.9.13.jar:/usr/local/hadoop-3.3.3//share/hadoop/hdfs/lib/kerby-util-1.0.1.jar:/usr/local/hadoop-3.3.3//share/hadoop/hdfs/lib/javax.servlet-api-3.1.0.jar:/usr/local/hadoop-3.3.3//share/hadoop/hdfs/lib/listenablefuture-9999.0-empty-to-avoid-conflict-with-guava.jar:/usr/local/hadoop-3.3.3//share/hadoop/hdfs/lib/failureaccess-1.0.jar:/usr/local/hadoop-3.3.3//share/hadoop/hdfs/lib/checker-qual-2.5.2.jar:/usr/local/hadoop-3.3.3//share/hadoop/hdfs/lib/animal-sniffer-annotations-1.17.jar:/usr/local/hadoop-3.3.3//share/hadoop/hdfs/lib/leveldbjni-all-1.8.jar:/usr/local/hadoop-3.3.3//share/hadoop/hdfs/lib/dnsjava-2.1.7.jar:/usr/local/hadoop-3.3.3//share/hadoop/hdfs/lib/nimbus-jose-jwt-9.8.1.jar:/usr/local/hadoop-3.3.3//share/hadoop/hdfs/lib/kerb-admin-1.0.1.jar:/usr/local/hadoop-3.3.3//share/hadoop/hdfs/lib/jcip-annotations-1.0-1.jar:/usr/local/hadoop-3.3.3//share/hadoop/hdfs/lib/audience-annotations-0.5.0.jar:/usr/local/hadoop-3.3.3//share/hadoop/hdfs/lib/okhttp-2.7.5.jar:/usr/local/hadoop-3.3.3//share/hadoop/hdfs/lib/jersey-server-1.19.jar:/usr/local/hadoop-3.3.3//share/hadoop/hdfs/lib/hadoop-shaded-protobuf_3_7-1.1.1.jar:/usr/local/hadoop-3.3.3//share/hadoop/hdfs/lib/netty-all-4.1.68.Final.jar:/usr/local/hadoop-3.3.3//share/hadoop/hdfs/lib/jetty-security-9.4.43.v20210629.jar:/usr/local/hadoop-3.3.3//share/hadoop/hdfs/lib/httpclient-4.5.13.jar:/usr/local/hadoop-3.3.3//share/hadoop/hdfs/lib/kerby-xdr-1.0.1.jar:/usr/local/hadoop-3.3.3//share/hadoop/hdfs/lib/jetty-util-ajax-9.4.43.v20210629.jar:/usr/local/hadoop-3.3.3//share/hadoop/hdfs/lib/jetty-xml-9.4.43.v20210629.jar:/usr/local/hadoop-3.3.3//share/hadoop/hdfs/lib/httpcore-4.4.13.jar:/usr/local/hadoop-3.3.3//share/hadoop/hdfs/lib/snappy-java-1.1.8.2.jar:/usr/local/hadoop-3.3.3//share/hadoop/hdfs/lib/jakarta.activation-api-1.2.1.jar:/usr/local/hadoop-3.3.3//share/hadoop/hdfs/lib/asm-5.0.4.jar:/usr/local/hadoop-3.3.3//share/hadoop/hdfs/lib/woodstox-core-5.3.0.jar:/usr/local/hadoop-3.3.3//share/hadoop/hdfs/lib/hadoop-auth-3.3.3.jar:/usr/local/hadoop-3.3.3//share/hadoop/hdfs/lib/j2objc-annotations-1.1.jar:/usr/local/hadoop-3.3.3//share/hadoop/hdfs/lib/stax2-api-4.2.1.jar:/usr/local/hadoop-3.3.3//share/hadoop/hdfs/lib/commons-net-3.6.jar:/usr/local/hadoop-3.3.3//share/hadoop/hdfs/lib/avro-1.7.7.jar:/usr/local/hadoop-3.3.3//share/hadoop/hdfs/lib/kerb-client-1.0.1.jar:/usr/local/hadoop-3.3.3//share/hadoop/hdfs/lib/guava-27.0-jre.jar:/usr/local/hadoop-3.3.3//share/hadoop/hdfs/lib/kerb-crypto-1.0.1.jar:/usr/local/hadoop-3.3.3//share/hadoop/hdfs/lib/commons-codec-1.15.jar:/usr/local/hadoop-3.3.3//share/hadoop/hdfs/lib/commons-lang3-3.12.0.jar:/usr/local/hadoop-3.3.3//share/hadoop/hdfs/hadoop-hdfs-client-3.3.3.jar:/usr/local/hadoop-3.3.3//share/hadoop/hdfs/hadoop-hdfs-rbf-3.3.3.jar:/usr/local/hadoop-3.3.3//share/hadoop/hdfs/hadoop-hdfs-3.3.3.jar:/usr/local/hadoop-3.3.3//share/hadoop/hdfs/hadoop-hdfs-rbf-3.3.3-tests.jar:/usr/local/hadoop-3.3.3//share/hadoop/hdfs/hadoop-hdfs-native-client-3.3.3.jar:/usr/local/hadoop-3.3.3//share/hadoop/hdfs/hadoop-hdfs-native-client-3.3.3-tests.jar:/usr/local/hadoop-3.3.3//share/hadoop/hdfs/hadoop-hdfs-3.3.3-tests.jar:/usr/local/hadoop-3.3.3//share/hadoop/hdfs/hadoop-hdfs-httpfs-3.3.3.jar:/usr/local/hadoop-3.3.3//share/hadoop/hdfs/hadoop-hdfs-nfs-3.3.3.jar:/usr/local/hadoop-3.3.3//share/hadoop/hdfs/hadoop-hdfs-client-3.3.3-tests.jar:/usr/local/hadoop-3.3.3//share/hadoop/mapreduce/hadoop-mapreduce-client-core-3.3.3.jar:/usr/local/hadoop-3.3.3//share/hadoop/mapreduce/hadoop-mapreduce-client-app-3.3.3.jar:/usr/local/hadoop-3.3.3//share/hadoop/mapreduce/hadoop-mapreduce-client-common-3.3.3.jar:/usr/local/hadoop-3.3.3//share/hadoop/mapreduce/hadoop-mapreduce-client-shuffle-3.3.3.jar:/usr/local/hadoop-3.3.3//share/hadoop/mapreduce/hadoop-mapreduce-examples-3.3.3.jar:/usr/local/hadoop-3.3.3//share/hadoop/mapreduce/hadoop-mapreduce-client-uploader-3.3.3.jar:/usr/local/hadoop-3.3.3//share/hadoop/mapreduce/hadoop-mapreduce-client-jobclient-3.3.3.jar:/usr/local/hadoop-3.3.3//share/hadoop/mapreduce/hadoop-mapreduce-client-hs-plugins-3.3.3.jar:/usr/local/hadoop-3.3.3//share/hadoop/mapreduce/hadoop-mapreduce-client-nativetask-3.3.3.jar:/usr/local/hadoop-3.3.3//share/hadoop/mapreduce/hadoop-mapreduce-client-jobclient-3.3.3-tests.jar:/usr/local/hadoop-3.3.3//share/hadoop/mapreduce/hadoop-mapreduce-client-hs-3.3.3.jar:/usr/local/hadoop-3.3.3//share/hadoop/yarn:/usr/local/hadoop-3.3.3//share/hadoop/yarn/lib/jna-5.2.0.jar:/usr/local/hadoop-3.3.3//share/hadoop/yarn/lib/json-io-2.5.1.jar:/usr/local/hadoop-3.3.3//share/hadoop/yarn/lib/objenesis-2.6.jar:/usr/local/hadoop-3.3.3//share/hadoop/yarn/lib/metrics-core-3.2.4.jar:/usr/local/hadoop-3.3.3//share/hadoop/yarn/lib/javax.inject-1.jar:/usr/local/hadoop-3.3.3//share/hadoop/yarn/lib/snakeyaml-1.26.jar:/usr/local/hadoop-3.3.3//share/hadoop/yarn/lib/HikariCP-java7-2.4.12.jar:/usr/local/hadoop-3.3.3//share/hadoop/yarn/lib/asm-tree-9.1.jar:/usr/local/hadoop-3.3.3//share/hadoop/yarn/lib/bcpkix-jdk15on-1.60.jar:/usr/local/hadoop-3.3.3//share/hadoop/yarn/lib/jetty-jndi-9.4.43.v20210629.jar:/usr/local/hadoop-3.3.3//share/hadoop/yarn/lib/mssql-jdbc-6.2.1.jre7.jar:/usr/local/hadoop-3.3.3//share/hadoop/yarn/lib/aopalliance-1.0.jar:/usr/local/hadoop-3.3.3//share/hadoop/yarn/lib/javax.ws.rs-api-2.1.1.jar:/usr/local/hadoop-3.3.3//share/hadoop/yarn/lib/websocket-api-9.4.43.v20210629.jar:/usr/local/hadoop-3.3.3//share/hadoop/yarn/lib/jetty-client-9.4.43.v20210629.jar:/usr/local/hadoop-3.3.3//share/hadoop/yarn/lib/jetty-annotations-9.4.43.v20210629.jar:/usr/local/hadoop-3.3.3//share/hadoop/yarn/lib/websocket-server-9.4.43.v20210629.jar:/usr/local/hadoop-3.3.3//share/hadoop/yarn/lib/geronimo-jcache_1.0_spec-1.0-alpha-1.jar:/usr/local/hadoop-3.3.3//share/hadoop/yarn/lib/jackson-jaxrs-base-2.13.2.jar:/usr/local/hadoop-3.3.3//share/hadoop/yarn/lib/websocket-servlet-9.4.43.v20210629.jar:/usr/local/hadoop-3.3.3//share/hadoop/yarn/lib/jetty-plus-9.4.43.v20210629.jar:/usr/local/hadoop-3.3.3//share/hadoop/yarn/lib/java-util-1.9.0.jar:/usr/local/hadoop-3.3.3//share/hadoop/yarn/lib/websocket-client-9.4.43.v20210629.jar:/usr/local/hadoop-3.3.3//share/hadoop/yarn/lib/swagger-annotations-1.5.4.jar:/usr/local/hadoop-3.3.3//share/hadoop/yarn/lib/jakarta.xml.bind-api-2.3.3.jar:/usr/local/hadoop-3.3.3//share/hadoop/yarn/lib/ehcache-3.3.1.jar:/usr/local/hadoop-3.3.3//share/hadoop/yarn/lib/guice-servlet-4.0.jar:/usr/local/hadoop-3.3.3//share/hadoop/yarn/lib/javax-websocket-server-impl-9.4.43.v20210629.jar:/usr/local/hadoop-3.3.3//share/hadoop/yarn/lib/jline-3.9.0.jar:/usr/local/hadoop-3.3.3//share/hadoop/yarn/lib/javax-websocket-client-impl-9.4.43.v20210629.jar:/usr/local/hadoop-3.3.3//share/hadoop/yarn/lib/asm-analysis-9.1.jar:/usr/local/hadoop-3.3.3//share/hadoop/yarn/lib/asm-commons-9.1.jar:/usr/local/hadoop-3.3.3//share/hadoop/yarn/lib/jackson-jaxrs-json-provider-2.13.2.jar:/usr/local/hadoop-3.3.3//share/hadoop/yarn/lib/jersey-guice-1.19.jar:/usr/local/hadoop-3.3.3//share/hadoop/yarn/lib/fst-2.50.jar:/usr/local/hadoop-3.3.3//share/hadoop/yarn/lib/bcprov-jdk15on-1.60.jar:/usr/local/hadoop-3.3.3//share/hadoop/yarn/lib/guice-4.0.jar:/usr/local/hadoop-3.3.3//share/hadoop/yarn/lib/javax.websocket-client-api-1.0.jar:/usr/local/hadoop-3.3.3//share/hadoop/yarn/lib/websocket-common-9.4.43.v20210629.jar:/usr/local/hadoop-3.3.3//share/hadoop/yarn/lib/jersey-client-1.19.jar:/usr/local/hadoop-3.3.3//share/hadoop/yarn/lib/javax.websocket-api-1.0.jar:/usr/local/hadoop-3.3.3//share/hadoop/yarn/lib/jackson-module-jaxb-annotations-2.13.2.jar:/usr/local/hadoop-3.3.3//share/hadoop/yarn/hadoop-yarn-server-applicationhistoryservice-3.3.3.jar:/usr/local/hadoop-3.3.3//share/hadoop/yarn/hadoop-yarn-applications-distributedshell-3.3.3.jar:/usr/local/hadoop-3.3.3//share/hadoop/yarn/hadoop-yarn-services-api-3.3.3.jar:/usr/local/hadoop-3.3.3//share/hadoop/yarn/hadoop-yarn-client-3.3.3.jar:/usr/local/hadoop-3.3.3//share/hadoop/yarn/hadoop-yarn-server-nodemanager-3.3.3.jar:/usr/local/hadoop-3.3.3//share/hadoop/yarn/hadoop-yarn-applications-mawo-core-3.3.3.jar:/usr/local/hadoop-3.3.3//share/hadoop/yarn/hadoop-yarn-applications-unmanaged-am-launcher-3.3.3.jar:/usr/local/hadoop-3.3.3//share/hadoop/yarn/hadoop-yarn-server-common-3.3.3.jar:/usr/local/hadoop-3.3.3//share/hadoop/yarn/hadoop-yarn-server-resourcemanager-3.3.3.jar:/usr/local/hadoop-3.3.3//share/hadoop/yarn/hadoop-yarn-server-tests-3.3.3.jar:/usr/local/hadoop-3.3.3//share/hadoop/yarn/hadoop-yarn-api-3.3.3.jar:/usr/local/hadoop-3.3.3//share/hadoop/yarn/hadoop-yarn-server-timeline-pluginstorage-3.3.3.jar:/usr/local/hadoop-3.3.3//share/hadoop/yarn/hadoop-yarn-services-core-3.3.3.jar:/usr/local/hadoop-3.3.3//share/hadoop/yarn/hadoop-yarn-server-router-3.3.3.jar:/usr/local/hadoop-3.3.3//share/hadoop/yarn/hadoop-yarn-server-web-proxy-3.3.3.jar:/usr/local/hadoop-3.3.3//share/hadoop/yarn/hadoop-yarn-server-sharedcachemanager-3.3.3.jar:/usr/local/hadoop-3.3.3//share/hadoop/yarn/hadoop-yarn-common-3.3.3.jar:/usr/local/hadoop-3.3.3//share/hadoop/yarn/hadoop-yarn-registry-3.3.3.jar:/content/hbase-2.5.0//lib/client-facing-thirdparty/log4j-1.2-api-2.17.2.jar:/content/hbase-2.5.0//lib/client-facing-thirdparty/log4j-api-2.17.2.jar:/content/hbase-2.5.0//lib/client-facing-thirdparty/log4j-core-2.17.2.jar:/content/hbase-2.5.0//lib/client-facing-thirdparty/log4j-slf4j-impl-2.17.2.jar\n",
            "2022-10-07 09:27:19,027 INFO  [ReadOnlyZKClient-127.0.0.1:2181@0x273dec10] zookeeper.ZooKeeper (Environment.java:logEnv(109)) - Client environment:java.library.path=/usr/local/hadoop-3.3.3//lib/native\n",
            "2022-10-07 09:27:19,028 INFO  [ReadOnlyZKClient-127.0.0.1:2181@0x273dec10] zookeeper.ZooKeeper (Environment.java:logEnv(109)) - Client environment:java.io.tmpdir=/tmp\n",
            "2022-10-07 09:27:19,028 INFO  [ReadOnlyZKClient-127.0.0.1:2181@0x273dec10] zookeeper.ZooKeeper (Environment.java:logEnv(109)) - Client environment:java.compiler=<NA>\n",
            "2022-10-07 09:27:19,029 INFO  [ReadOnlyZKClient-127.0.0.1:2181@0x273dec10] zookeeper.ZooKeeper (Environment.java:logEnv(109)) - Client environment:os.name=Linux\n",
            "2022-10-07 09:27:19,029 INFO  [ReadOnlyZKClient-127.0.0.1:2181@0x273dec10] zookeeper.ZooKeeper (Environment.java:logEnv(109)) - Client environment:os.arch=amd64\n",
            "2022-10-07 09:27:19,029 INFO  [ReadOnlyZKClient-127.0.0.1:2181@0x273dec10] zookeeper.ZooKeeper (Environment.java:logEnv(109)) - Client environment:os.version=5.10.133+\n",
            "2022-10-07 09:27:19,029 INFO  [ReadOnlyZKClient-127.0.0.1:2181@0x273dec10] zookeeper.ZooKeeper (Environment.java:logEnv(109)) - Client environment:user.name=root\n",
            "2022-10-07 09:27:19,029 INFO  [ReadOnlyZKClient-127.0.0.1:2181@0x273dec10] zookeeper.ZooKeeper (Environment.java:logEnv(109)) - Client environment:user.home=/root\n",
            "2022-10-07 09:27:19,029 INFO  [ReadOnlyZKClient-127.0.0.1:2181@0x273dec10] zookeeper.ZooKeeper (Environment.java:logEnv(109)) - Client environment:user.dir=/content\n",
            "2022-10-07 09:27:19,031 INFO  [ReadOnlyZKClient-127.0.0.1:2181@0x273dec10] zookeeper.ZooKeeper (Environment.java:logEnv(109)) - Client environment:os.memory.free=135MB\n",
            "2022-10-07 09:27:19,031 INFO  [ReadOnlyZKClient-127.0.0.1:2181@0x273dec10] zookeeper.ZooKeeper (Environment.java:logEnv(109)) - Client environment:os.memory.max=3231MB\n",
            "2022-10-07 09:27:19,031 INFO  [ReadOnlyZKClient-127.0.0.1:2181@0x273dec10] zookeeper.ZooKeeper (Environment.java:logEnv(109)) - Client environment:os.memory.total=197MB\n",
            "2022-10-07 09:27:19,036 INFO  [ReadOnlyZKClient-127.0.0.1:2181@0x273dec10] zookeeper.ZooKeeper (ZooKeeper.java:<init>(868)) - Initiating client connection, connectString=127.0.0.1:2181 sessionTimeout=90000 watcher=org.apache.hadoop.hbase.zookeeper.ReadOnlyZKClient$$Lambda$229/839188271@5a5f22e5\n",
            "2022-10-07 09:27:19,046 INFO  [ReadOnlyZKClient-127.0.0.1:2181@0x273dec10] common.X509Util (X509Util.java:<clinit>(79)) - Setting -D jdk.tls.rejectClientInitiatedRenegotiation=true to disable client-initiated TLS renegotiation\n",
            "2022-10-07 09:27:19,059 INFO  [ReadOnlyZKClient-127.0.0.1:2181@0x273dec10] zookeeper.ClientCnxnSocket (ClientCnxnSocket.java:initProperties(237)) - jute.maxbuffer value is 4194304 Bytes\n",
            "2022-10-07 09:27:19,071 INFO  [ReadOnlyZKClient-127.0.0.1:2181@0x273dec10] zookeeper.ClientCnxn (ClientCnxn.java:initRequestTimeout(1653)) - zookeeper.request.timeout value is 0. feature enabled=\n",
            "2022-10-07 09:27:19,094 INFO  [ReadOnlyZKClient-127.0.0.1:2181@0x273dec10-SendThread(127.0.0.1:2181)] zookeeper.ClientCnxn (ClientCnxn.java:logStartConnect(1112)) - Opening socket connection to server localhost/127.0.0.1:2181. Will not attempt to authenticate using SASL (unknown error)\n",
            "2022-10-07 09:27:19,102 INFO  [ReadOnlyZKClient-127.0.0.1:2181@0x273dec10-SendThread(127.0.0.1:2181)] zookeeper.ClientCnxn (ClientCnxn.java:primeConnection(959)) - Socket connection established, initiating session, client: /127.0.0.1:32906, server: localhost/127.0.0.1:2181\n",
            "2022-10-07 09:27:19,116 INFO  [ReadOnlyZKClient-127.0.0.1:2181@0x273dec10-SendThread(127.0.0.1:2181)] zookeeper.ClientCnxn (ClientCnxn.java:onConnected(1394)) - Session establishment complete on server localhost/127.0.0.1:2181, sessionid = 0x100000c3c3b0005, negotiated timeout = 40000\n",
            "hbase:001:0> create 'cars2', 'make','model','year'\n",
            "2022-10-07 09:27:28,611 INFO  [main] client.HBaseAdmin (HBaseAdmin.java:postOperationResult(3591)) - Operation: CREATE, Table Name: default:cars2, procId: 9 completed\n",
            "Created table cars2\n",
            "Took 1.5131 seconds                                                             \n",
            "=> Hbase::Table - cars2\n",
            "hbase:002:0> \n"
          ]
        }
      ]
    },
    {
      "cell_type": "code",
      "metadata": {
        "colab": {
          "base_uri": "https://localhost:8080/"
        },
        "id": "Hg002j_6fKQx",
        "outputId": "f005e2a5-b752-4731-e87a-11350e6f6f5b"
      },
      "source": [
        "!echo \"list\" | hbase shell -n"
      ],
      "execution_count": 27,
      "outputs": [
        {
          "output_type": "stream",
          "name": "stdout",
          "text": [
            "SLF4J: Class path contains multiple SLF4J bindings.\n",
            "SLF4J: Found binding in [jar:file:/usr/local/hadoop-3.3.3/share/hadoop/common/lib/slf4j-reload4j-1.7.36.jar!/org/slf4j/impl/StaticLoggerBinder.class]\n",
            "SLF4J: Found binding in [jar:file:/content/hbase-2.5.0/lib/client-facing-thirdparty/log4j-slf4j-impl-2.17.2.jar!/org/slf4j/impl/StaticLoggerBinder.class]\n",
            "SLF4J: See http://www.slf4j.org/codes.html#multiple_bindings for an explanation.\n",
            "SLF4J: Actual binding is of type [org.slf4j.impl.Reload4jLoggerFactory]\n",
            "2022-10-07 09:27:41,712 INFO  [main] Configuration.deprecation (Configuration.java:logDeprecation(1294)) - hbase.client.pause.cqtbe is deprecated. Instead, use hbase.client.pause.server.overloaded\n",
            "2022-10-07 09:27:41,811 INFO  [ReadOnlyZKClient-127.0.0.1:2181@0x273dec10] zookeeper.ZooKeeper (Environment.java:logEnv(109)) - Client environment:zookeeper.version=3.5.7-f0fdd52973d373ffd9c86b81d99842dc2c7f660e, built on 02/10/2020 11:30 GMT\n",
            "2022-10-07 09:27:41,812 INFO  [ReadOnlyZKClient-127.0.0.1:2181@0x273dec10] zookeeper.ZooKeeper (Environment.java:logEnv(109)) - Client environment:host.name=284ad1f3a301\n",
            "2022-10-07 09:27:41,812 INFO  [ReadOnlyZKClient-127.0.0.1:2181@0x273dec10] zookeeper.ZooKeeper (Environment.java:logEnv(109)) - Client environment:java.version=1.8.0_342\n",
            "2022-10-07 09:27:41,812 INFO  [ReadOnlyZKClient-127.0.0.1:2181@0x273dec10] zookeeper.ZooKeeper (Environment.java:logEnv(109)) - Client environment:java.vendor=Private Build\n",
            "2022-10-07 09:27:41,812 INFO  [ReadOnlyZKClient-127.0.0.1:2181@0x273dec10] zookeeper.ZooKeeper (Environment.java:logEnv(109)) - Client environment:java.home=/usr/lib/jvm/java-8-openjdk-amd64/jre\n",
            "2022-10-07 09:27:41,812 INFO  [ReadOnlyZKClient-127.0.0.1:2181@0x273dec10] zookeeper.ZooKeeper (Environment.java:logEnv(109)) - Client environment:java.class.path=/content/hbase-2.5.0//lib/ruby/jruby-complete-9.2.13.0.jar:/content/hbase-2.5.0//conf:/usr/lib/jvm/java-8-openjdk-amd64/lib/tools.jar:/content/hbase-2.5.0/:/content/hbase-2.5.0//lib/agrona-1.12.0.jar:/content/hbase-2.5.0//lib/aircompressor-0.21.jar:/content/hbase-2.5.0//lib/aopalliance-1.0.jar:/content/hbase-2.5.0//lib/apacheds-i18n-2.0.0-M15.jar:/content/hbase-2.5.0//lib/apacheds-kerberos-codec-2.0.0-M15.jar:/content/hbase-2.5.0//lib/api-asn1-api-1.0.0-M20.jar:/content/hbase-2.5.0//lib/api-i18n-1.0.0-M20.jar:/content/hbase-2.5.0//lib/api-util-1.0.0-M20.jar:/content/hbase-2.5.0//lib/asm-3.1.jar:/content/hbase-2.5.0//lib/avro-1.11.0.jar:/content/hbase-2.5.0//lib/brotli4j-1.7.1.jar:/content/hbase-2.5.0//lib/byte-buddy-1.9.10.jar:/content/hbase-2.5.0//lib/byte-buddy-agent-1.9.10.jar:/content/hbase-2.5.0//lib/caffeine-2.8.1.jar:/content/hbase-2.5.0//lib/checker-qual-3.1.0.jar:/content/hbase-2.5.0//lib/commons-cli-1.2.jar:/content/hbase-2.5.0//lib/commons-codec-1.13.jar:/content/hbase-2.5.0//lib/commons-collections-3.2.2.jar:/content/hbase-2.5.0//lib/commons-compress-1.21.jar:/content/hbase-2.5.0//lib/commons-configuration-1.6.jar:/content/hbase-2.5.0//lib/commons-crypto-1.1.0.jar:/content/hbase-2.5.0//lib/commons-csv-1.0.jar:/content/hbase-2.5.0//lib/commons-daemon-1.0.13.jar:/content/hbase-2.5.0//lib/commons-digester-1.8.jar:/content/hbase-2.5.0//lib/commons-io-2.11.0.jar:/content/hbase-2.5.0//lib/commons-lang-2.6.jar:/content/hbase-2.5.0//lib/commons-lang3-3.9.jar:/content/hbase-2.5.0//lib/commons-math3-3.6.1.jar:/content/hbase-2.5.0//lib/commons-net-3.1.jar:/content/hbase-2.5.0//lib/curator-client-4.2.0.jar:/content/hbase-2.5.0//lib/curator-framework-4.2.0.jar:/content/hbase-2.5.0//lib/curator-recipes-4.2.0.jar:/content/hbase-2.5.0//lib/disruptor-3.4.2.jar:/content/hbase-2.5.0//lib/ehcache-3.3.1.jar:/content/hbase-2.5.0//lib/error_prone_annotations-2.14.0.jar:/content/hbase-2.5.0//lib/fst-2.50.jar:/content/hbase-2.5.0//lib/geronimo-jcache_1.0_spec-1.0-alpha-1.jar:/content/hbase-2.5.0//lib/gson-2.2.4.jar:/content/hbase-2.5.0//lib/guava-11.0.2.jar:/content/hbase-2.5.0//lib/guice-3.0.jar:/content/hbase-2.5.0//lib/guice-servlet-3.0.jar:/content/hbase-2.5.0//lib/hadoop-annotations-2.10.2.jar:/content/hbase-2.5.0//lib/hadoop-auth-2.10.2.jar:/content/hbase-2.5.0//lib/hadoop-client-2.10.2.jar:/content/hbase-2.5.0//lib/hadoop-common-2.10.2.jar:/content/hbase-2.5.0//lib/hadoop-distcp-2.10.2.jar:/content/hbase-2.5.0//lib/hadoop-hdfs-2.10.2.jar:/content/hbase-2.5.0//lib/hadoop-hdfs-2.10.2-tests.jar:/content/hbase-2.5.0//lib/hadoop-hdfs-client-2.10.2.jar:/content/hbase-2.5.0//lib/hadoop-mapreduce-client-app-2.10.2.jar:/content/hbase-2.5.0//lib/hadoop-mapreduce-client-common-2.10.2.jar:/content/hbase-2.5.0//lib/hadoop-mapreduce-client-core-2.10.2.jar:/content/hbase-2.5.0//lib/hadoop-mapreduce-client-hs-2.10.2.jar:/content/hbase-2.5.0//lib/hadoop-mapreduce-client-jobclient-2.10.2.jar:/content/hbase-2.5.0//lib/hadoop-mapreduce-client-shuffle-2.10.2.jar:/content/hbase-2.5.0//lib/hadoop-minicluster-2.10.2.jar:/content/hbase-2.5.0//lib/hadoop-yarn-api-2.10.2.jar:/content/hbase-2.5.0//lib/hadoop-yarn-client-2.10.2.jar:/content/hbase-2.5.0//lib/hadoop-yarn-common-2.10.2.jar:/content/hbase-2.5.0//lib/hadoop-yarn-registry-2.10.2.jar:/content/hbase-2.5.0//lib/hadoop-yarn-server-applicationhistoryservice-2.10.2.jar:/content/hbase-2.5.0//lib/hadoop-yarn-server-common-2.10.2.jar:/content/hbase-2.5.0//lib/hadoop-yarn-server-nodemanager-2.10.2.jar:/content/hbase-2.5.0//lib/hadoop-yarn-server-resourcemanager-2.10.2.jar:/content/hbase-2.5.0//lib/hadoop-yarn-server-tests-2.10.2-tests.jar:/content/hbase-2.5.0//lib/hadoop-yarn-server-timelineservice-2.10.2.jar:/content/hbase-2.5.0//lib/hadoop-yarn-server-web-proxy-2.10.2.jar:/content/hbase-2.5.0//lib/hamcrest-core-1.3.jar:/content/hbase-2.5.0//lib/hbase-annotations-2.5.0.jar:/content/hbase-2.5.0//lib/hbase-annotations-2.5.0-tests.jar:/content/hbase-2.5.0//lib/hbase-asyncfs-2.5.0.jar:/content/hbase-2.5.0//lib/hbase-asyncfs-2.5.0-tests.jar:/content/hbase-2.5.0//lib/hbase-client-2.5.0.jar:/content/hbase-2.5.0//lib/hbase-common-2.5.0.jar:/content/hbase-2.5.0//lib/hbase-common-2.5.0-tests.jar:/content/hbase-2.5.0//lib/hbase-compression-aircompressor-2.5.0.jar:/content/hbase-2.5.0//lib/hbase-compression-brotli-2.5.0.jar:/content/hbase-2.5.0//lib/hbase-compression-lz4-2.5.0.jar:/content/hbase-2.5.0//lib/hbase-compression-snappy-2.5.0.jar:/content/hbase-2.5.0//lib/hbase-compression-xz-2.5.0.jar:/content/hbase-2.5.0//lib/hbase-compression-zstd-2.5.0.jar:/content/hbase-2.5.0//lib/hbase-endpoint-2.5.0.jar:/content/hbase-2.5.0//lib/hbase-examples-2.5.0.jar:/content/hbase-2.5.0//lib/hbase-external-blockcache-2.5.0.jar:/content/hbase-2.5.0//lib/hbase-hadoop2-compat-2.5.0.jar:/content/hbase-2.5.0//lib/hbase-hadoop2-compat-2.5.0-tests.jar:/content/hbase-2.5.0//lib/hbase-hadoop-compat-2.5.0.jar:/content/hbase-2.5.0//lib/hbase-hadoop-compat-2.5.0-tests.jar:/content/hbase-2.5.0//lib/hbase-hbtop-2.5.0.jar:/content/hbase-2.5.0//lib/hbase-http-2.5.0.jar:/content/hbase-2.5.0//lib/hbase-it-2.5.0.jar:/content/hbase-2.5.0//lib/hbase-it-2.5.0-tests.jar:/content/hbase-2.5.0//lib/hbase-logging-2.5.0.jar:/content/hbase-2.5.0//lib/hbase-mapreduce-2.5.0.jar:/content/hbase-2.5.0//lib/hbase-mapreduce-2.5.0-tests.jar:/content/hbase-2.5.0//lib/hbase-metrics-2.5.0.jar:/content/hbase-2.5.0//lib/hbase-metrics-api-2.5.0.jar:/content/hbase-2.5.0//lib/hbase-procedure-2.5.0.jar:/content/hbase-2.5.0//lib/hbase-procedure-2.5.0-tests.jar:/content/hbase-2.5.0//lib/hbase-protocol-2.5.0.jar:/content/hbase-2.5.0//lib/hbase-protocol-shaded-2.5.0.jar:/content/hbase-2.5.0//lib/hbase-replication-2.5.0.jar:/content/hbase-2.5.0//lib/hbase-resource-bundle-2.5.0.jar:/content/hbase-2.5.0//lib/hbase-rest-2.5.0.jar:/content/hbase-2.5.0//lib/hbase-rsgroup-2.5.0.jar:/content/hbase-2.5.0//lib/hbase-rsgroup-2.5.0-tests.jar:/content/hbase-2.5.0//lib/hbase-server-2.5.0.jar:/content/hbase-2.5.0//lib/hbase-server-2.5.0-tests.jar:/content/hbase-2.5.0//lib/hbase-shaded-gson-4.1.1.jar:/content/hbase-2.5.0//lib/hbase-shaded-jackson-jaxrs-json-provider-4.1.1.jar:/content/hbase-2.5.0//lib/hbase-shaded-jersey-4.1.1.jar:/content/hbase-2.5.0//lib/hbase-shaded-jetty-4.1.1.jar:/content/hbase-2.5.0//lib/hbase-shaded-miscellaneous-4.1.1.jar:/content/hbase-2.5.0//lib/hbase-shaded-netty-4.1.1.jar:/content/hbase-2.5.0//lib/hbase-shaded-protobuf-4.1.1.jar:/content/hbase-2.5.0//lib/hbase-shell-2.5.0.jar:/content/hbase-2.5.0//lib/hbase-testing-util-2.5.0.jar:/content/hbase-2.5.0//lib/hbase-thrift-2.5.0.jar:/content/hbase-2.5.0//lib/hbase-unsafe-4.1.1.jar:/content/hbase-2.5.0//lib/hbase-zookeeper-2.5.0.jar:/content/hbase-2.5.0//lib/hbase-zookeeper-2.5.0-tests.jar:/content/hbase-2.5.0//lib/HikariCP-java7-2.4.12.jar:/content/hbase-2.5.0//lib/httpclient-4.5.13.jar:/content/hbase-2.5.0//lib/httpcore-4.4.13.jar:/content/hbase-2.5.0//lib/jackson-annotations-2.13.3.jar:/content/hbase-2.5.0//lib/jackson-core-2.13.3.jar:/content/hbase-2.5.0//lib/jackson-core-asl-1.9.13.jar:/content/hbase-2.5.0//lib/jackson-databind-2.13.3.jar:/content/hbase-2.5.0//lib/jackson-mapper-asl-1.9.13.jar:/content/hbase-2.5.0//lib/jackson-module-jaxb-annotations-2.13.3.jar:/content/hbase-2.5.0//lib/jakarta.inject-2.6.1.jar:/content/hbase-2.5.0//lib/jakarta.validation-api-2.0.2.jar:/content/hbase-2.5.0//lib/jamon-runtime-2.4.1.jar:/content/hbase-2.5.0//lib/javassist-3.25.0-GA.jar:/content/hbase-2.5.0//lib/java-util-1.9.0.jar:/content/hbase-2.5.0//lib/javax.activation-api-1.2.0.jar:/content/hbase-2.5.0//lib/javax.annotation-api-1.2.jar:/content/hbase-2.5.0//lib/javax.el-3.0.1-b08.jar:/content/hbase-2.5.0//lib/java-xmlbuilder-0.4.jar:/content/hbase-2.5.0//lib/javax.servlet-api-3.1.0.jar:/content/hbase-2.5.0//lib/javax.servlet.jsp-2.3.2.jar:/content/hbase-2.5.0//lib/javax.servlet.jsp-api-2.3.1.jar:/content/hbase-2.5.0//lib/javax.ws.rs-api-2.1.1.jar:/content/hbase-2.5.0//lib/jaxb-api-2.3.1.jar:/content/hbase-2.5.0//lib/jaxb-impl-2.2.3-1.jar:/content/hbase-2.5.0//lib/jcip-annotations-1.0-1.jar:/content/hbase-2.5.0//lib/jcodings-1.0.55.jar:/content/hbase-2.5.0//lib/jets3t-0.9.0.jar:/content/hbase-2.5.0//lib/jettison-1.3.8.jar:/content/hbase-2.5.0//lib/jetty-6.1.26.jar:/content/hbase-2.5.0//lib/jetty-sslengine-6.1.26.jar:/content/hbase-2.5.0//lib/jetty-util-6.1.26.jar:/content/hbase-2.5.0//lib/joni-2.1.31.jar:/content/hbase-2.5.0//lib/jsch-0.1.55.jar:/content/hbase-2.5.0//lib/json-io-2.5.1.jar:/content/hbase-2.5.0//lib/jsr311-api-1.1.1.jar:/content/hbase-2.5.0//lib/junit-4.13.2.jar:/content/hbase-2.5.0//lib/leveldbjni-all-1.8.jar:/content/hbase-2.5.0//lib/libthrift-0.14.1.jar:/content/hbase-2.5.0//lib/lz4-java-1.8.0.jar:/content/hbase-2.5.0//lib/metrics-core-3.0.1.jar:/content/hbase-2.5.0//lib/metrics-core-3.2.6.jar:/content/hbase-2.5.0//lib/mockito-core-2.28.2.jar:/content/hbase-2.5.0//lib/mssql-jdbc-6.2.1.jre7.jar:/content/hbase-2.5.0//lib/native-linux-x86_64-1.7.1.jar:/content/hbase-2.5.0//lib/netty-buffer-4.1.45.Final.jar:/content/hbase-2.5.0//lib/netty-codec-4.1.45.Final.jar:/content/hbase-2.5.0//lib/netty-common-4.1.45.Final.jar:/content/hbase-2.5.0//lib/netty-handler-4.1.45.Final.jar:/content/hbase-2.5.0//lib/netty-resolver-4.1.45.Final.jar:/content/hbase-2.5.0//lib/netty-transport-4.1.45.Final.jar:/content/hbase-2.5.0//lib/netty-transport-native-epoll-4.1.45.Final.jar:/content/hbase-2.5.0//lib/netty-transport-native-unix-common-4.1.45.Final.jar:/content/hbase-2.5.0//lib/nimbus-jose-jwt-7.9.jar:/content/hbase-2.5.0//lib/objenesis-2.6.jar:/content/hbase-2.5.0//lib/okhttp-2.7.5.jar:/content/hbase-2.5.0//lib/okio-1.6.0.jar:/content/hbase-2.5.0//lib/opentelemetry-api-1.15.0.jar:/content/hbase-2.5.0//lib/opentelemetry-context-1.15.0.jar:/content/hbase-2.5.0//lib/opentelemetry-semconv-1.15.0-alpha.jar:/content/hbase-2.5.0//lib/protobuf-java-2.5.0.jar:/content/hbase-2.5.0//lib/snappy-java-1.1.8.4.jar:/content/hbase-2.5.0//lib/spymemcached-2.12.2.jar:/content/hbase-2.5.0//lib/stax2-api-4.2.1.jar:/content/hbase-2.5.0//lib/woodstox-core-5.3.0.jar:/content/hbase-2.5.0//lib/xmlenc-0.52.jar:/content/hbase-2.5.0//lib/xz-1.9.jar:/content/hbase-2.5.0//lib/zookeeper-3.5.7.jar:/content/hbase-2.5.0//lib/zookeeper-jute-3.5.7.jar:/content/hbase-2.5.0//lib/zstd-jni-1.5.0-4.jar:/content/hbase-2.5.0//lib/client-facing-thirdparty/audience-annotations-0.5.0.jar:/content/hbase-2.5.0//lib/client-facing-thirdparty/commons-logging-1.2.jar:/content/hbase-2.5.0//lib/client-facing-thirdparty/htrace-core4-4.1.0-incubating.jar:/content/hbase-2.5.0//lib/client-facing-thirdparty/jcl-over-slf4j-1.7.33.jar:/content/hbase-2.5.0//lib/client-facing-thirdparty/jul-to-slf4j-1.7.33.jar:/content/hbase-2.5.0//lib/client-facing-thirdparty/opentelemetry-api-1.15.0.jar:/content/hbase-2.5.0//lib/client-facing-thirdparty/opentelemetry-context-1.15.0.jar:/content/hbase-2.5.0//lib/client-facing-thirdparty/opentelemetry-semconv-1.15.0-alpha.jar:/usr/local/hadoop-3.3.3//etc/hadoop:/usr/local/hadoop-3.3.3//share/hadoop/common/lib/jsp-api-2.1.jar:/usr/local/hadoop-3.3.3//share/hadoop/common/lib/kerb-identity-1.0.1.jar:/usr/local/hadoop-3.3.3//share/hadoop/common/lib/paranamer-2.3.jar:/usr/local/hadoop-3.3.3//share/hadoop/common/lib/accessors-smart-2.4.7.jar:/usr/local/hadoop-3.3.3//share/hadoop/common/lib/commons-io-2.8.0.jar:/usr/local/hadoop-3.3.3//share/hadoop/common/lib/jackson-core-asl-1.9.13.jar:/usr/local/hadoop-3.3.3//share/hadoop/common/lib/jackson-mapper-asl-1.9.13.jar:/usr/local/hadoop-3.3.3//share/hadoop/common/lib/jackson-databind-2.13.2.2.jar:/usr/local/hadoop-3.3.3//share/hadoop/common/lib/kerb-server-1.0.1.jar:/usr/local/hadoop-3.3.3//share/hadoop/common/lib/hadoop-annotations-3.3.3.jar:/usr/local/hadoop-3.3.3//share/hadoop/common/lib/metrics-core-3.2.4.jar:/usr/local/hadoop-3.3.3//share/hadoop/common/lib/jsr305-3.0.2.jar:/usr/local/hadoop-3.3.3//share/hadoop/common/lib/kerb-util-1.0.1.jar:/usr/local/hadoop-3.3.3//share/hadoop/common/lib/jaxb-api-2.2.11.jar:/usr/local/hadoop-3.3.3//share/hadoop/common/lib/token-provider-1.0.1.jar:/usr/local/hadoop-3.3.3//share/hadoop/common/lib/zookeeper-3.5.6.jar:/usr/local/hadoop-3.3.3//share/hadoop/common/lib/json-smart-2.4.7.jar:/usr/local/hadoop-3.3.3//share/hadoop/common/lib/jackson-xc-1.9.13.jar:/usr/local/hadoop-3.3.3//share/hadoop/common/lib/jackson-annotations-2.13.2.jar:/usr/local/hadoop-3.3.3//share/hadoop/common/lib/commons-daemon-1.0.13.jar:/usr/local/hadoop-3.3.3//share/hadoop/common/lib/kerb-simplekdc-1.0.1.jar:/usr/local/hadoop-3.3.3//share/hadoop/common/lib/jetty-http-9.4.43.v20210629.jar:/usr/local/hadoop-3.3.3//share/hadoop/common/lib/protobuf-java-2.5.0.jar:/usr/local/hadoop-3.3.3//share/hadoop/common/lib/gson-2.8.9.jar:/usr/local/hadoop-3.3.3//share/hadoop/common/lib/commons-beanutils-1.9.4.jar:/usr/local/hadoop-3.3.3//share/hadoop/common/lib/curator-recipes-4.2.0.jar:/usr/local/hadoop-3.3.3//share/hadoop/common/lib/jetty-io-9.4.43.v20210629.jar:/usr/local/hadoop-3.3.3//share/hadoop/common/lib/kerb-core-1.0.1.jar:/usr/local/hadoop-3.3.3//share/hadoop/common/lib/commons-cli-1.2.jar:/usr/local/hadoop-3.3.3//share/hadoop/common/lib/curator-framework-4.2.0.jar:/usr/local/hadoop-3.3.3//share/hadoop/common/lib/commons-collections-3.2.2.jar:/usr/local/hadoop-3.3.3//share/hadoop/common/lib/jettison-1.1.jar:/usr/local/hadoop-3.3.3//share/hadoop/common/lib/kerby-asn1-1.0.1.jar:/usr/local/hadoop-3.3.3//share/hadoop/common/lib/jetty-util-9.4.43.v20210629.jar:/usr/local/hadoop-3.3.3//share/hadoop/common/lib/commons-compress-1.21.jar:/usr/local/hadoop-3.3.3//share/hadoop/common/lib/reload4j-1.2.18.3.jar:/usr/local/hadoop-3.3.3//share/hadoop/common/lib/jackson-core-2.13.2.jar:/usr/local/hadoop-3.3.3//share/hadoop/common/lib/commons-configuration2-2.1.1.jar:/usr/local/hadoop-3.3.3//share/hadoop/common/lib/commons-logging-1.1.3.jar:/usr/local/hadoop-3.3.3//share/hadoop/common/lib/jetty-webapp-9.4.43.v20210629.jar:/usr/local/hadoop-3.3.3//share/hadoop/common/lib/jsr311-api-1.1.1.jar:/usr/local/hadoop-3.3.3//share/hadoop/common/lib/netty-3.10.6.Final.jar:/usr/local/hadoop-3.3.3//share/hadoop/common/lib/jsch-0.1.55.jar:/usr/local/hadoop-3.3.3//share/hadoop/common/lib/kerb-common-1.0.1.jar:/usr/local/hadoop-3.3.3//share/hadoop/common/lib/jersey-json-1.19.jar:/usr/local/hadoop-3.3.3//share/hadoop/common/lib/commons-text-1.4.jar:/usr/local/hadoop-3.3.3//share/hadoop/common/lib/jetty-server-9.4.43.v20210629.jar:/usr/local/hadoop-3.3.3//share/hadoop/common/lib/kerby-config-1.0.1.jar:/usr/local/hadoop-3.3.3//share/hadoop/common/lib/jetty-servlet-9.4.43.v20210629.jar:/usr/local/hadoop-3.3.3//share/hadoop/common/lib/commons-math3-3.1.1.jar:/usr/local/hadoop-3.3.3//share/hadoop/common/lib/re2j-1.1.jar:/usr/local/hadoop-3.3.3//share/hadoop/common/lib/zookeeper-jute-3.5.6.jar:/usr/local/hadoop-3.3.3//share/hadoop/common/lib/hadoop-shaded-guava-1.1.1.jar:/usr/local/hadoop-3.3.3//share/hadoop/common/lib/jersey-core-1.19.jar:/usr/local/hadoop-3.3.3//share/hadoop/common/lib/jersey-servlet-1.19.jar:/usr/local/hadoop-3.3.3//share/hadoop/common/lib/kerby-pkix-1.0.1.jar:/usr/local/hadoop-3.3.3//share/hadoop/common/lib/jaxb-impl-2.2.3-1.jar:/usr/local/hadoop-3.3.3//share/hadoop/common/lib/curator-client-4.2.0.jar:/usr/local/hadoop-3.3.3//share/hadoop/common/lib/jackson-jaxrs-1.9.13.jar:/usr/local/hadoop-3.3.3//share/hadoop/common/lib/kerby-util-1.0.1.jar:/usr/local/hadoop-3.3.3//share/hadoop/common/lib/javax.servlet-api-3.1.0.jar:/usr/local/hadoop-3.3.3//share/hadoop/common/lib/listenablefuture-9999.0-empty-to-avoid-conflict-with-guava.jar:/usr/local/hadoop-3.3.3//share/hadoop/common/lib/failureaccess-1.0.jar:/usr/local/hadoop-3.3.3//share/hadoop/common/lib/checker-qual-2.5.2.jar:/usr/local/hadoop-3.3.3//share/hadoop/common/lib/animal-sniffer-annotations-1.17.jar:/usr/local/hadoop-3.3.3//share/hadoop/common/lib/dnsjava-2.1.7.jar:/usr/local/hadoop-3.3.3//share/hadoop/common/lib/slf4j-reload4j-1.7.36.jar:/usr/local/hadoop-3.3.3//share/hadoop/common/lib/nimbus-jose-jwt-9.8.1.jar:/usr/local/hadoop-3.3.3//share/hadoop/common/lib/kerb-admin-1.0.1.jar:/usr/local/hadoop-3.3.3//share/hadoop/common/lib/jcip-annotations-1.0-1.jar:/usr/local/hadoop-3.3.3//share/hadoop/common/lib/audience-annotations-0.5.0.jar:/usr/local/hadoop-3.3.3//share/hadoop/common/lib/jersey-server-1.19.jar:/usr/local/hadoop-3.3.3//share/hadoop/common/lib/hadoop-shaded-protobuf_3_7-1.1.1.jar:/usr/local/hadoop-3.3.3//share/hadoop/common/lib/jetty-security-9.4.43.v20210629.jar:/usr/local/hadoop-3.3.3//share/hadoop/common/lib/httpclient-4.5.13.jar:/usr/local/hadoop-3.3.3//share/hadoop/common/lib/kerby-xdr-1.0.1.jar:/usr/local/hadoop-3.3.3//share/hadoop/common/lib/jetty-util-ajax-9.4.43.v20210629.jar:/usr/local/hadoop-3.3.3//share/hadoop/common/lib/jetty-xml-9.4.43.v20210629.jar:/usr/local/hadoop-3.3.3//share/hadoop/common/lib/jul-to-slf4j-1.7.36.jar:/usr/local/hadoop-3.3.3//share/hadoop/common/lib/httpcore-4.4.13.jar:/usr/local/hadoop-3.3.3//share/hadoop/common/lib/snappy-java-1.1.8.2.jar:/usr/local/hadoop-3.3.3//share/hadoop/common/lib/jakarta.activation-api-1.2.1.jar:/usr/local/hadoop-3.3.3//share/hadoop/common/lib/asm-5.0.4.jar:/usr/local/hadoop-3.3.3//share/hadoop/common/lib/woodstox-core-5.3.0.jar:/usr/local/hadoop-3.3.3//share/hadoop/common/lib/hadoop-auth-3.3.3.jar:/usr/local/hadoop-3.3.3//share/hadoop/common/lib/j2objc-annotations-1.1.jar:/usr/local/hadoop-3.3.3//share/hadoop/common/lib/stax2-api-4.2.1.jar:/usr/local/hadoop-3.3.3//share/hadoop/common/lib/commons-net-3.6.jar:/usr/local/hadoop-3.3.3//share/hadoop/common/lib/avro-1.7.7.jar:/usr/local/hadoop-3.3.3//share/hadoop/common/lib/kerb-client-1.0.1.jar:/usr/local/hadoop-3.3.3//share/hadoop/common/lib/guava-27.0-jre.jar:/usr/local/hadoop-3.3.3//share/hadoop/common/lib/slf4j-api-1.7.36.jar:/usr/local/hadoop-3.3.3//share/hadoop/common/lib/kerb-crypto-1.0.1.jar:/usr/local/hadoop-3.3.3//share/hadoop/common/lib/commons-codec-1.15.jar:/usr/local/hadoop-3.3.3//share/hadoop/common/lib/commons-lang3-3.12.0.jar:/usr/local/hadoop-3.3.3//share/hadoop/common/hadoop-kms-3.3.3.jar:/usr/local/hadoop-3.3.3//share/hadoop/common/hadoop-registry-3.3.3.jar:/usr/local/hadoop-3.3.3//share/hadoop/common/hadoop-common-3.3.3-tests.jar:/usr/local/hadoop-3.3.3//share/hadoop/common/hadoop-common-3.3.3.jar:/usr/local/hadoop-3.3.3//share/hadoop/common/hadoop-nfs-3.3.3.jar:/usr/local/hadoop-3.3.3//share/hadoop/hdfs:/usr/local/hadoop-3.3.3//share/hadoop/hdfs/lib/kerb-identity-1.0.1.jar:/usr/local/hadoop-3.3.3//share/hadoop/hdfs/lib/paranamer-2.3.jar:/usr/local/hadoop-3.3.3//share/hadoop/hdfs/lib/accessors-smart-2.4.7.jar:/usr/local/hadoop-3.3.3//share/hadoop/hdfs/lib/commons-io-2.8.0.jar:/usr/local/hadoop-3.3.3//share/hadoop/hdfs/lib/jackson-core-asl-1.9.13.jar:/usr/local/hadoop-3.3.3//share/hadoop/hdfs/lib/jackson-mapper-asl-1.9.13.jar:/usr/local/hadoop-3.3.3//share/hadoop/hdfs/lib/jackson-databind-2.13.2.2.jar:/usr/local/hadoop-3.3.3//share/hadoop/hdfs/lib/kerb-server-1.0.1.jar:/usr/local/hadoop-3.3.3//share/hadoop/hdfs/lib/json-simple-1.1.1.jar:/usr/local/hadoop-3.3.3//share/hadoop/hdfs/lib/hadoop-annotations-3.3.3.jar:/usr/local/hadoop-3.3.3//share/hadoop/hdfs/lib/jsr305-3.0.2.jar:/usr/local/hadoop-3.3.3//share/hadoop/hdfs/lib/kerb-util-1.0.1.jar:/usr/local/hadoop-3.3.3//share/hadoop/hdfs/lib/jaxb-api-2.2.11.jar:/usr/local/hadoop-3.3.3//share/hadoop/hdfs/lib/token-provider-1.0.1.jar:/usr/local/hadoop-3.3.3//share/hadoop/hdfs/lib/zookeeper-3.5.6.jar:/usr/local/hadoop-3.3.3//share/hadoop/hdfs/lib/json-smart-2.4.7.jar:/usr/local/hadoop-3.3.3//share/hadoop/hdfs/lib/jackson-xc-1.9.13.jar:/usr/local/hadoop-3.3.3//share/hadoop/hdfs/lib/jackson-annotations-2.13.2.jar:/usr/local/hadoop-3.3.3//share/hadoop/hdfs/lib/commons-daemon-1.0.13.jar:/usr/local/hadoop-3.3.3//share/hadoop/hdfs/lib/kerb-simplekdc-1.0.1.jar:/usr/local/hadoop-3.3.3//share/hadoop/hdfs/lib/jetty-http-9.4.43.v20210629.jar:/usr/local/hadoop-3.3.3//share/hadoop/hdfs/lib/protobuf-java-2.5.0.jar:/usr/local/hadoop-3.3.3//share/hadoop/hdfs/lib/gson-2.8.9.jar:/usr/local/hadoop-3.3.3//share/hadoop/hdfs/lib/commons-beanutils-1.9.4.jar:/usr/local/hadoop-3.3.3//share/hadoop/hdfs/lib/curator-recipes-4.2.0.jar:/usr/local/hadoop-3.3.3//share/hadoop/hdfs/lib/jetty-io-9.4.43.v20210629.jar:/usr/local/hadoop-3.3.3//share/hadoop/hdfs/lib/kerb-core-1.0.1.jar:/usr/local/hadoop-3.3.3//share/hadoop/hdfs/lib/commons-cli-1.2.jar:/usr/local/hadoop-3.3.3//share/hadoop/hdfs/lib/curator-framework-4.2.0.jar:/usr/local/hadoop-3.3.3//share/hadoop/hdfs/lib/commons-collections-3.2.2.jar:/usr/local/hadoop-3.3.3//share/hadoop/hdfs/lib/jettison-1.1.jar:/usr/local/hadoop-3.3.3//share/hadoop/hdfs/lib/kerby-asn1-1.0.1.jar:/usr/local/hadoop-3.3.3//share/hadoop/hdfs/lib/jetty-util-9.4.43.v20210629.jar:/usr/local/hadoop-3.3.3//share/hadoop/hdfs/lib/commons-compress-1.21.jar:/usr/local/hadoop-3.3.3//share/hadoop/hdfs/lib/reload4j-1.2.18.3.jar:/usr/local/hadoop-3.3.3//share/hadoop/hdfs/lib/jackson-core-2.13.2.jar:/usr/local/hadoop-3.3.3//share/hadoop/hdfs/lib/commons-configuration2-2.1.1.jar:/usr/local/hadoop-3.3.3//share/hadoop/hdfs/lib/commons-logging-1.1.3.jar:/usr/local/hadoop-3.3.3//share/hadoop/hdfs/lib/jetty-webapp-9.4.43.v20210629.jar:/usr/local/hadoop-3.3.3//share/hadoop/hdfs/lib/jsr311-api-1.1.1.jar:/usr/local/hadoop-3.3.3//share/hadoop/hdfs/lib/netty-3.10.6.Final.jar:/usr/local/hadoop-3.3.3//share/hadoop/hdfs/lib/jsch-0.1.55.jar:/usr/local/hadoop-3.3.3//share/hadoop/hdfs/lib/kerb-common-1.0.1.jar:/usr/local/hadoop-3.3.3//share/hadoop/hdfs/lib/jersey-json-1.19.jar:/usr/local/hadoop-3.3.3//share/hadoop/hdfs/lib/commons-text-1.4.jar:/usr/local/hadoop-3.3.3//share/hadoop/hdfs/lib/jetty-server-9.4.43.v20210629.jar:/usr/local/hadoop-3.3.3//share/hadoop/hdfs/lib/kerby-config-1.0.1.jar:/usr/local/hadoop-3.3.3//share/hadoop/hdfs/lib/jetty-servlet-9.4.43.v20210629.jar:/usr/local/hadoop-3.3.3//share/hadoop/hdfs/lib/commons-math3-3.1.1.jar:/usr/local/hadoop-3.3.3//share/hadoop/hdfs/lib/okio-1.6.0.jar:/usr/local/hadoop-3.3.3//share/hadoop/hdfs/lib/re2j-1.1.jar:/usr/local/hadoop-3.3.3//share/hadoop/hdfs/lib/zookeeper-jute-3.5.6.jar:/usr/local/hadoop-3.3.3//share/hadoop/hdfs/lib/hadoop-shaded-guava-1.1.1.jar:/usr/local/hadoop-3.3.3//share/hadoop/hdfs/lib/jersey-core-1.19.jar:/usr/local/hadoop-3.3.3//share/hadoop/hdfs/lib/jersey-servlet-1.19.jar:/usr/local/hadoop-3.3.3//share/hadoop/hdfs/lib/kerby-pkix-1.0.1.jar:/usr/local/hadoop-3.3.3//share/hadoop/hdfs/lib/jaxb-impl-2.2.3-1.jar:/usr/local/hadoop-3.3.3//share/hadoop/hdfs/lib/curator-client-4.2.0.jar:/usr/local/hadoop-3.3.3//share/hadoop/hdfs/lib/jackson-jaxrs-1.9.13.jar:/usr/local/hadoop-3.3.3//share/hadoop/hdfs/lib/kerby-util-1.0.1.jar:/usr/local/hadoop-3.3.3//share/hadoop/hdfs/lib/javax.servlet-api-3.1.0.jar:/usr/local/hadoop-3.3.3//share/hadoop/hdfs/lib/listenablefuture-9999.0-empty-to-avoid-conflict-with-guava.jar:/usr/local/hadoop-3.3.3//share/hadoop/hdfs/lib/failureaccess-1.0.jar:/usr/local/hadoop-3.3.3//share/hadoop/hdfs/lib/checker-qual-2.5.2.jar:/usr/local/hadoop-3.3.3//share/hadoop/hdfs/lib/animal-sniffer-annotations-1.17.jar:/usr/local/hadoop-3.3.3//share/hadoop/hdfs/lib/leveldbjni-all-1.8.jar:/usr/local/hadoop-3.3.3//share/hadoop/hdfs/lib/dnsjava-2.1.7.jar:/usr/local/hadoop-3.3.3//share/hadoop/hdfs/lib/nimbus-jose-jwt-9.8.1.jar:/usr/local/hadoop-3.3.3//share/hadoop/hdfs/lib/kerb-admin-1.0.1.jar:/usr/local/hadoop-3.3.3//share/hadoop/hdfs/lib/jcip-annotations-1.0-1.jar:/usr/local/hadoop-3.3.3//share/hadoop/hdfs/lib/audience-annotations-0.5.0.jar:/usr/local/hadoop-3.3.3//share/hadoop/hdfs/lib/okhttp-2.7.5.jar:/usr/local/hadoop-3.3.3//share/hadoop/hdfs/lib/jersey-server-1.19.jar:/usr/local/hadoop-3.3.3//share/hadoop/hdfs/lib/hadoop-shaded-protobuf_3_7-1.1.1.jar:/usr/local/hadoop-3.3.3//share/hadoop/hdfs/lib/netty-all-4.1.68.Final.jar:/usr/local/hadoop-3.3.3//share/hadoop/hdfs/lib/jetty-security-9.4.43.v20210629.jar:/usr/local/hadoop-3.3.3//share/hadoop/hdfs/lib/httpclient-4.5.13.jar:/usr/local/hadoop-3.3.3//share/hadoop/hdfs/lib/kerby-xdr-1.0.1.jar:/usr/local/hadoop-3.3.3//share/hadoop/hdfs/lib/jetty-util-ajax-9.4.43.v20210629.jar:/usr/local/hadoop-3.3.3//share/hadoop/hdfs/lib/jetty-xml-9.4.43.v20210629.jar:/usr/local/hadoop-3.3.3//share/hadoop/hdfs/lib/httpcore-4.4.13.jar:/usr/local/hadoop-3.3.3//share/hadoop/hdfs/lib/snappy-java-1.1.8.2.jar:/usr/local/hadoop-3.3.3//share/hadoop/hdfs/lib/jakarta.activation-api-1.2.1.jar:/usr/local/hadoop-3.3.3//share/hadoop/hdfs/lib/asm-5.0.4.jar:/usr/local/hadoop-3.3.3//share/hadoop/hdfs/lib/woodstox-core-5.3.0.jar:/usr/local/hadoop-3.3.3//share/hadoop/hdfs/lib/hadoop-auth-3.3.3.jar:/usr/local/hadoop-3.3.3//share/hadoop/hdfs/lib/j2objc-annotations-1.1.jar:/usr/local/hadoop-3.3.3//share/hadoop/hdfs/lib/stax2-api-4.2.1.jar:/usr/local/hadoop-3.3.3//share/hadoop/hdfs/lib/commons-net-3.6.jar:/usr/local/hadoop-3.3.3//share/hadoop/hdfs/lib/avro-1.7.7.jar:/usr/local/hadoop-3.3.3//share/hadoop/hdfs/lib/kerb-client-1.0.1.jar:/usr/local/hadoop-3.3.3//share/hadoop/hdfs/lib/guava-27.0-jre.jar:/usr/local/hadoop-3.3.3//share/hadoop/hdfs/lib/kerb-crypto-1.0.1.jar:/usr/local/hadoop-3.3.3//share/hadoop/hdfs/lib/commons-codec-1.15.jar:/usr/local/hadoop-3.3.3//share/hadoop/hdfs/lib/commons-lang3-3.12.0.jar:/usr/local/hadoop-3.3.3//share/hadoop/hdfs/hadoop-hdfs-client-3.3.3.jar:/usr/local/hadoop-3.3.3//share/hadoop/hdfs/hadoop-hdfs-rbf-3.3.3.jar:/usr/local/hadoop-3.3.3//share/hadoop/hdfs/hadoop-hdfs-3.3.3.jar:/usr/local/hadoop-3.3.3//share/hadoop/hdfs/hadoop-hdfs-rbf-3.3.3-tests.jar:/usr/local/hadoop-3.3.3//share/hadoop/hdfs/hadoop-hdfs-native-client-3.3.3.jar:/usr/local/hadoop-3.3.3//share/hadoop/hdfs/hadoop-hdfs-native-client-3.3.3-tests.jar:/usr/local/hadoop-3.3.3//share/hadoop/hdfs/hadoop-hdfs-3.3.3-tests.jar:/usr/local/hadoop-3.3.3//share/hadoop/hdfs/hadoop-hdfs-httpfs-3.3.3.jar:/usr/local/hadoop-3.3.3//share/hadoop/hdfs/hadoop-hdfs-nfs-3.3.3.jar:/usr/local/hadoop-3.3.3//share/hadoop/hdfs/hadoop-hdfs-client-3.3.3-tests.jar:/usr/local/hadoop-3.3.3//share/hadoop/mapreduce/hadoop-mapreduce-client-core-3.3.3.jar:/usr/local/hadoop-3.3.3//share/hadoop/mapreduce/hadoop-mapreduce-client-app-3.3.3.jar:/usr/local/hadoop-3.3.3//share/hadoop/mapreduce/hadoop-mapreduce-client-common-3.3.3.jar:/usr/local/hadoop-3.3.3//share/hadoop/mapreduce/hadoop-mapreduce-client-shuffle-3.3.3.jar:/usr/local/hadoop-3.3.3//share/hadoop/mapreduce/hadoop-mapreduce-examples-3.3.3.jar:/usr/local/hadoop-3.3.3//share/hadoop/mapreduce/hadoop-mapreduce-client-uploader-3.3.3.jar:/usr/local/hadoop-3.3.3//share/hadoop/mapreduce/hadoop-mapreduce-client-jobclient-3.3.3.jar:/usr/local/hadoop-3.3.3//share/hadoop/mapreduce/hadoop-mapreduce-client-hs-plugins-3.3.3.jar:/usr/local/hadoop-3.3.3//share/hadoop/mapreduce/hadoop-mapreduce-client-nativetask-3.3.3.jar:/usr/local/hadoop-3.3.3//share/hadoop/mapreduce/hadoop-mapreduce-client-jobclient-3.3.3-tests.jar:/usr/local/hadoop-3.3.3//share/hadoop/mapreduce/hadoop-mapreduce-client-hs-3.3.3.jar:/usr/local/hadoop-3.3.3//share/hadoop/yarn:/usr/local/hadoop-3.3.3//share/hadoop/yarn/lib/jna-5.2.0.jar:/usr/local/hadoop-3.3.3//share/hadoop/yarn/lib/json-io-2.5.1.jar:/usr/local/hadoop-3.3.3//share/hadoop/yarn/lib/objenesis-2.6.jar:/usr/local/hadoop-3.3.3//share/hadoop/yarn/lib/metrics-core-3.2.4.jar:/usr/local/hadoop-3.3.3//share/hadoop/yarn/lib/javax.inject-1.jar:/usr/local/hadoop-3.3.3//share/hadoop/yarn/lib/snakeyaml-1.26.jar:/usr/local/hadoop-3.3.3//share/hadoop/yarn/lib/HikariCP-java7-2.4.12.jar:/usr/local/hadoop-3.3.3//share/hadoop/yarn/lib/asm-tree-9.1.jar:/usr/local/hadoop-3.3.3//share/hadoop/yarn/lib/bcpkix-jdk15on-1.60.jar:/usr/local/hadoop-3.3.3//share/hadoop/yarn/lib/jetty-jndi-9.4.43.v20210629.jar:/usr/local/hadoop-3.3.3//share/hadoop/yarn/lib/mssql-jdbc-6.2.1.jre7.jar:/usr/local/hadoop-3.3.3//share/hadoop/yarn/lib/aopalliance-1.0.jar:/usr/local/hadoop-3.3.3//share/hadoop/yarn/lib/javax.ws.rs-api-2.1.1.jar:/usr/local/hadoop-3.3.3//share/hadoop/yarn/lib/websocket-api-9.4.43.v20210629.jar:/usr/local/hadoop-3.3.3//share/hadoop/yarn/lib/jetty-client-9.4.43.v20210629.jar:/usr/local/hadoop-3.3.3//share/hadoop/yarn/lib/jetty-annotations-9.4.43.v20210629.jar:/usr/local/hadoop-3.3.3//share/hadoop/yarn/lib/websocket-server-9.4.43.v20210629.jar:/usr/local/hadoop-3.3.3//share/hadoop/yarn/lib/geronimo-jcache_1.0_spec-1.0-alpha-1.jar:/usr/local/hadoop-3.3.3//share/hadoop/yarn/lib/jackson-jaxrs-base-2.13.2.jar:/usr/local/hadoop-3.3.3//share/hadoop/yarn/lib/websocket-servlet-9.4.43.v20210629.jar:/usr/local/hadoop-3.3.3//share/hadoop/yarn/lib/jetty-plus-9.4.43.v20210629.jar:/usr/local/hadoop-3.3.3//share/hadoop/yarn/lib/java-util-1.9.0.jar:/usr/local/hadoop-3.3.3//share/hadoop/yarn/lib/websocket-client-9.4.43.v20210629.jar:/usr/local/hadoop-3.3.3//share/hadoop/yarn/lib/swagger-annotations-1.5.4.jar:/usr/local/hadoop-3.3.3//share/hadoop/yarn/lib/jakarta.xml.bind-api-2.3.3.jar:/usr/local/hadoop-3.3.3//share/hadoop/yarn/lib/ehcache-3.3.1.jar:/usr/local/hadoop-3.3.3//share/hadoop/yarn/lib/guice-servlet-4.0.jar:/usr/local/hadoop-3.3.3//share/hadoop/yarn/lib/javax-websocket-server-impl-9.4.43.v20210629.jar:/usr/local/hadoop-3.3.3//share/hadoop/yarn/lib/jline-3.9.0.jar:/usr/local/hadoop-3.3.3//share/hadoop/yarn/lib/javax-websocket-client-impl-9.4.43.v20210629.jar:/usr/local/hadoop-3.3.3//share/hadoop/yarn/lib/asm-analysis-9.1.jar:/usr/local/hadoop-3.3.3//share/hadoop/yarn/lib/asm-commons-9.1.jar:/usr/local/hadoop-3.3.3//share/hadoop/yarn/lib/jackson-jaxrs-json-provider-2.13.2.jar:/usr/local/hadoop-3.3.3//share/hadoop/yarn/lib/jersey-guice-1.19.jar:/usr/local/hadoop-3.3.3//share/hadoop/yarn/lib/fst-2.50.jar:/usr/local/hadoop-3.3.3//share/hadoop/yarn/lib/bcprov-jdk15on-1.60.jar:/usr/local/hadoop-3.3.3//share/hadoop/yarn/lib/guice-4.0.jar:/usr/local/hadoop-3.3.3//share/hadoop/yarn/lib/javax.websocket-client-api-1.0.jar:/usr/local/hadoop-3.3.3//share/hadoop/yarn/lib/websocket-common-9.4.43.v20210629.jar:/usr/local/hadoop-3.3.3//share/hadoop/yarn/lib/jersey-client-1.19.jar:/usr/local/hadoop-3.3.3//share/hadoop/yarn/lib/javax.websocket-api-1.0.jar:/usr/local/hadoop-3.3.3//share/hadoop/yarn/lib/jackson-module-jaxb-annotations-2.13.2.jar:/usr/local/hadoop-3.3.3//share/hadoop/yarn/hadoop-yarn-server-applicationhistoryservice-3.3.3.jar:/usr/local/hadoop-3.3.3//share/hadoop/yarn/hadoop-yarn-applications-distributedshell-3.3.3.jar:/usr/local/hadoop-3.3.3//share/hadoop/yarn/hadoop-yarn-services-api-3.3.3.jar:/usr/local/hadoop-3.3.3//share/hadoop/yarn/hadoop-yarn-client-3.3.3.jar:/usr/local/hadoop-3.3.3//share/hadoop/yarn/hadoop-yarn-server-nodemanager-3.3.3.jar:/usr/local/hadoop-3.3.3//share/hadoop/yarn/hadoop-yarn-applications-mawo-core-3.3.3.jar:/usr/local/hadoop-3.3.3//share/hadoop/yarn/hadoop-yarn-applications-unmanaged-am-launcher-3.3.3.jar:/usr/local/hadoop-3.3.3//share/hadoop/yarn/hadoop-yarn-server-common-3.3.3.jar:/usr/local/hadoop-3.3.3//share/hadoop/yarn/hadoop-yarn-server-resourcemanager-3.3.3.jar:/usr/local/hadoop-3.3.3//share/hadoop/yarn/hadoop-yarn-server-tests-3.3.3.jar:/usr/local/hadoop-3.3.3//share/hadoop/yarn/hadoop-yarn-api-3.3.3.jar:/usr/local/hadoop-3.3.3//share/hadoop/yarn/hadoop-yarn-server-timeline-pluginstorage-3.3.3.jar:/usr/local/hadoop-3.3.3//share/hadoop/yarn/hadoop-yarn-services-core-3.3.3.jar:/usr/local/hadoop-3.3.3//share/hadoop/yarn/hadoop-yarn-server-router-3.3.3.jar:/usr/local/hadoop-3.3.3//share/hadoop/yarn/hadoop-yarn-server-web-proxy-3.3.3.jar:/usr/local/hadoop-3.3.3//share/hadoop/yarn/hadoop-yarn-server-sharedcachemanager-3.3.3.jar:/usr/local/hadoop-3.3.3//share/hadoop/yarn/hadoop-yarn-common-3.3.3.jar:/usr/local/hadoop-3.3.3//share/hadoop/yarn/hadoop-yarn-registry-3.3.3.jar:/content/hbase-2.5.0//lib/client-facing-thirdparty/log4j-1.2-api-2.17.2.jar:/content/hbase-2.5.0//lib/client-facing-thirdparty/log4j-api-2.17.2.jar:/content/hbase-2.5.0//lib/client-facing-thirdparty/log4j-core-2.17.2.jar:/content/hbase-2.5.0//lib/client-facing-thirdparty/log4j-slf4j-impl-2.17.2.jar\n",
            "2022-10-07 09:27:41,862 INFO  [ReadOnlyZKClient-127.0.0.1:2181@0x273dec10] zookeeper.ZooKeeper (Environment.java:logEnv(109)) - Client environment:java.library.path=/usr/local/hadoop-3.3.3//lib/native\n",
            "2022-10-07 09:27:41,863 INFO  [ReadOnlyZKClient-127.0.0.1:2181@0x273dec10] zookeeper.ZooKeeper (Environment.java:logEnv(109)) - Client environment:java.io.tmpdir=/tmp\n",
            "2022-10-07 09:27:41,863 INFO  [ReadOnlyZKClient-127.0.0.1:2181@0x273dec10] zookeeper.ZooKeeper (Environment.java:logEnv(109)) - Client environment:java.compiler=<NA>\n",
            "2022-10-07 09:27:41,863 INFO  [ReadOnlyZKClient-127.0.0.1:2181@0x273dec10] zookeeper.ZooKeeper (Environment.java:logEnv(109)) - Client environment:os.name=Linux\n",
            "2022-10-07 09:27:41,863 INFO  [ReadOnlyZKClient-127.0.0.1:2181@0x273dec10] zookeeper.ZooKeeper (Environment.java:logEnv(109)) - Client environment:os.arch=amd64\n",
            "2022-10-07 09:27:41,863 INFO  [ReadOnlyZKClient-127.0.0.1:2181@0x273dec10] zookeeper.ZooKeeper (Environment.java:logEnv(109)) - Client environment:os.version=5.10.133+\n",
            "2022-10-07 09:27:41,863 INFO  [ReadOnlyZKClient-127.0.0.1:2181@0x273dec10] zookeeper.ZooKeeper (Environment.java:logEnv(109)) - Client environment:user.name=root\n",
            "2022-10-07 09:27:41,863 INFO  [ReadOnlyZKClient-127.0.0.1:2181@0x273dec10] zookeeper.ZooKeeper (Environment.java:logEnv(109)) - Client environment:user.home=/root\n",
            "2022-10-07 09:27:41,863 INFO  [ReadOnlyZKClient-127.0.0.1:2181@0x273dec10] zookeeper.ZooKeeper (Environment.java:logEnv(109)) - Client environment:user.dir=/content\n",
            "2022-10-07 09:27:41,865 INFO  [ReadOnlyZKClient-127.0.0.1:2181@0x273dec10] zookeeper.ZooKeeper (Environment.java:logEnv(109)) - Client environment:os.memory.free=127MB\n",
            "2022-10-07 09:27:41,865 INFO  [ReadOnlyZKClient-127.0.0.1:2181@0x273dec10] zookeeper.ZooKeeper (Environment.java:logEnv(109)) - Client environment:os.memory.max=3231MB\n",
            "2022-10-07 09:27:41,865 INFO  [ReadOnlyZKClient-127.0.0.1:2181@0x273dec10] zookeeper.ZooKeeper (Environment.java:logEnv(109)) - Client environment:os.memory.total=197MB\n",
            "2022-10-07 09:27:41,870 INFO  [ReadOnlyZKClient-127.0.0.1:2181@0x273dec10] zookeeper.ZooKeeper (ZooKeeper.java:<init>(868)) - Initiating client connection, connectString=127.0.0.1:2181 sessionTimeout=90000 watcher=org.apache.hadoop.hbase.zookeeper.ReadOnlyZKClient$$Lambda$229/431562208@603c8c08\n",
            "2022-10-07 09:27:41,879 INFO  [ReadOnlyZKClient-127.0.0.1:2181@0x273dec10] common.X509Util (X509Util.java:<clinit>(79)) - Setting -D jdk.tls.rejectClientInitiatedRenegotiation=true to disable client-initiated TLS renegotiation\n",
            "2022-10-07 09:27:41,891 INFO  [ReadOnlyZKClient-127.0.0.1:2181@0x273dec10] zookeeper.ClientCnxnSocket (ClientCnxnSocket.java:initProperties(237)) - jute.maxbuffer value is 4194304 Bytes\n",
            "2022-10-07 09:27:41,902 INFO  [ReadOnlyZKClient-127.0.0.1:2181@0x273dec10] zookeeper.ClientCnxn (ClientCnxn.java:initRequestTimeout(1653)) - zookeeper.request.timeout value is 0. feature enabled=\n",
            "2022-10-07 09:27:41,926 INFO  [ReadOnlyZKClient-127.0.0.1:2181@0x273dec10-SendThread(127.0.0.1:2181)] zookeeper.ClientCnxn (ClientCnxn.java:logStartConnect(1112)) - Opening socket connection to server localhost/127.0.0.1:2181. Will not attempt to authenticate using SASL (unknown error)\n",
            "2022-10-07 09:27:41,934 INFO  [ReadOnlyZKClient-127.0.0.1:2181@0x273dec10-SendThread(127.0.0.1:2181)] zookeeper.ClientCnxn (ClientCnxn.java:primeConnection(959)) - Socket connection established, initiating session, client: /127.0.0.1:38986, server: localhost/127.0.0.1:2181\n",
            "2022-10-07 09:27:41,947 INFO  [ReadOnlyZKClient-127.0.0.1:2181@0x273dec10-SendThread(127.0.0.1:2181)] zookeeper.ClientCnxn (ClientCnxn.java:onConnected(1394)) - Session establishment complete on server localhost/127.0.0.1:2181, sessionid = 0x100000c3c3b0006, negotiated timeout = 40000\n",
            "hbase:001:0> list\n",
            "TABLE                                                                           \n",
            "cars2                                                                           \n",
            "1 row(s)\n",
            "Took 0.7634 seconds                                                             \n",
            "=> [\"cars2\"]\n",
            "hbase:002:0> \n"
          ]
        }
      ]
    },
    {
      "cell_type": "code",
      "metadata": {
        "colab": {
          "base_uri": "https://localhost:8080/"
        },
        "id": "L0xLDl6_iHBA",
        "outputId": "b1c41473-dea8-438f-8b2e-e80dc264c38d"
      },
      "source": [
        "!cat cars2.csv"
      ],
      "execution_count": null,
      "outputs": [
        {
          "output_type": "stream",
          "name": "stdout",
          "text": [
            "Ford,Ecosport,2019\r\n",
            "Hyundai,i20,2015\r\n",
            "Maruti,Omni,2007"
          ]
        }
      ]
    },
    {
      "cell_type": "code",
      "metadata": {
        "id": "EYhznehYfZiC"
      },
      "source": [
        "# input file has to be moved from regular file system to HDFS file system\n",
        "!hdfs dfs -copyFromLocal cars2.csv /tmp"
      ],
      "execution_count": 28,
      "outputs": []
    },
    {
      "cell_type": "code",
      "metadata": {
        "colab": {
          "base_uri": "https://localhost:8080/"
        },
        "id": "CF5loP6EfxuW",
        "outputId": "7ee6bce6-c3b6-4275-df9a-3f6c39261261"
      },
      "source": [
        "# https://community.cloudera.com/t5/Community-Articles/Import-CSV-data-into-HBase-using-importtsv/ta-p/244842\n",
        "#hbase org.apache.hadoop.hbase.mapreduce.ImportTsv -Dimporttsv.separator=,  -Dimporttsv.columns=\"HBASE_ROW_KEY,id,temp:in,temp:out,vibration,pressure:in,pressure:out\" sensor hdfs://sandbox.hortonworks.com:/tmp/hbase.csv\n",
        "!hbase org.apache.hadoop.hbase.mapreduce.ImportTsv -Dimporttsv.separator=','  -Dimporttsv.columns=\"HBASE_ROW_KEY,make,model,year\" cars2 /tmp/cars2.csv"
      ],
      "execution_count": 29,
      "outputs": [
        {
          "output_type": "stream",
          "name": "stdout",
          "text": [
            "SLF4J: Class path contains multiple SLF4J bindings.\n",
            "SLF4J: Found binding in [jar:file:/usr/local/hadoop-3.3.3/share/hadoop/common/lib/slf4j-reload4j-1.7.36.jar!/org/slf4j/impl/StaticLoggerBinder.class]\n",
            "SLF4J: Found binding in [jar:file:/content/hbase-2.5.0/lib/client-facing-thirdparty/log4j-slf4j-impl-2.17.2.jar!/org/slf4j/impl/StaticLoggerBinder.class]\n",
            "SLF4J: See http://www.slf4j.org/codes.html#multiple_bindings for an explanation.\n",
            "SLF4J: Actual binding is of type [org.slf4j.impl.Reload4jLoggerFactory]\n",
            "2022-10-07 09:28:14,588 INFO  [main] Configuration.deprecation (Configuration.java:logDeprecation(1294)) - hbase.client.pause.cqtbe is deprecated. Instead, use hbase.client.pause.server.overloaded\n",
            "2022-10-07 09:28:14,745 INFO  [ReadOnlyZKClient-127.0.0.1:2181@0x6a6afff2] zookeeper.ZooKeeper (Environment.java:logEnv(109)) - Client environment:zookeeper.version=3.5.7-f0fdd52973d373ffd9c86b81d99842dc2c7f660e, built on 02/10/2020 11:30 GMT\n",
            "2022-10-07 09:28:14,745 INFO  [ReadOnlyZKClient-127.0.0.1:2181@0x6a6afff2] zookeeper.ZooKeeper (Environment.java:logEnv(109)) - Client environment:host.name=284ad1f3a301\n",
            "2022-10-07 09:28:14,746 INFO  [ReadOnlyZKClient-127.0.0.1:2181@0x6a6afff2] zookeeper.ZooKeeper (Environment.java:logEnv(109)) - Client environment:java.version=1.8.0_342\n",
            "2022-10-07 09:28:14,746 INFO  [ReadOnlyZKClient-127.0.0.1:2181@0x6a6afff2] zookeeper.ZooKeeper (Environment.java:logEnv(109)) - Client environment:java.vendor=Private Build\n",
            "2022-10-07 09:28:14,746 INFO  [ReadOnlyZKClient-127.0.0.1:2181@0x6a6afff2] zookeeper.ZooKeeper (Environment.java:logEnv(109)) - Client environment:java.home=/usr/lib/jvm/java-8-openjdk-amd64/jre\n",
            "2022-10-07 09:28:14,746 INFO  [ReadOnlyZKClient-127.0.0.1:2181@0x6a6afff2] zookeeper.ZooKeeper (Environment.java:logEnv(109)) - Client environment:java.class.path=/content/hbase-2.5.0//conf:/usr/lib/jvm/java-8-openjdk-amd64/lib/tools.jar:/content/hbase-2.5.0/:/content/hbase-2.5.0//lib/agrona-1.12.0.jar:/content/hbase-2.5.0//lib/aircompressor-0.21.jar:/content/hbase-2.5.0//lib/aopalliance-1.0.jar:/content/hbase-2.5.0//lib/apacheds-i18n-2.0.0-M15.jar:/content/hbase-2.5.0//lib/apacheds-kerberos-codec-2.0.0-M15.jar:/content/hbase-2.5.0//lib/api-asn1-api-1.0.0-M20.jar:/content/hbase-2.5.0//lib/api-i18n-1.0.0-M20.jar:/content/hbase-2.5.0//lib/api-util-1.0.0-M20.jar:/content/hbase-2.5.0//lib/asm-3.1.jar:/content/hbase-2.5.0//lib/avro-1.11.0.jar:/content/hbase-2.5.0//lib/brotli4j-1.7.1.jar:/content/hbase-2.5.0//lib/byte-buddy-1.9.10.jar:/content/hbase-2.5.0//lib/byte-buddy-agent-1.9.10.jar:/content/hbase-2.5.0//lib/caffeine-2.8.1.jar:/content/hbase-2.5.0//lib/checker-qual-3.1.0.jar:/content/hbase-2.5.0//lib/commons-cli-1.2.jar:/content/hbase-2.5.0//lib/commons-codec-1.13.jar:/content/hbase-2.5.0//lib/commons-collections-3.2.2.jar:/content/hbase-2.5.0//lib/commons-compress-1.21.jar:/content/hbase-2.5.0//lib/commons-configuration-1.6.jar:/content/hbase-2.5.0//lib/commons-crypto-1.1.0.jar:/content/hbase-2.5.0//lib/commons-csv-1.0.jar:/content/hbase-2.5.0//lib/commons-daemon-1.0.13.jar:/content/hbase-2.5.0//lib/commons-digester-1.8.jar:/content/hbase-2.5.0//lib/commons-io-2.11.0.jar:/content/hbase-2.5.0//lib/commons-lang-2.6.jar:/content/hbase-2.5.0//lib/commons-lang3-3.9.jar:/content/hbase-2.5.0//lib/commons-math3-3.6.1.jar:/content/hbase-2.5.0//lib/commons-net-3.1.jar:/content/hbase-2.5.0//lib/curator-client-4.2.0.jar:/content/hbase-2.5.0//lib/curator-framework-4.2.0.jar:/content/hbase-2.5.0//lib/curator-recipes-4.2.0.jar:/content/hbase-2.5.0//lib/disruptor-3.4.2.jar:/content/hbase-2.5.0//lib/ehcache-3.3.1.jar:/content/hbase-2.5.0//lib/error_prone_annotations-2.14.0.jar:/content/hbase-2.5.0//lib/fst-2.50.jar:/content/hbase-2.5.0//lib/geronimo-jcache_1.0_spec-1.0-alpha-1.jar:/content/hbase-2.5.0//lib/gson-2.2.4.jar:/content/hbase-2.5.0//lib/guava-11.0.2.jar:/content/hbase-2.5.0//lib/guice-3.0.jar:/content/hbase-2.5.0//lib/guice-servlet-3.0.jar:/content/hbase-2.5.0//lib/hadoop-annotations-2.10.2.jar:/content/hbase-2.5.0//lib/hadoop-auth-2.10.2.jar:/content/hbase-2.5.0//lib/hadoop-client-2.10.2.jar:/content/hbase-2.5.0//lib/hadoop-common-2.10.2.jar:/content/hbase-2.5.0//lib/hadoop-distcp-2.10.2.jar:/content/hbase-2.5.0//lib/hadoop-hdfs-2.10.2.jar:/content/hbase-2.5.0//lib/hadoop-hdfs-2.10.2-tests.jar:/content/hbase-2.5.0//lib/hadoop-hdfs-client-2.10.2.jar:/content/hbase-2.5.0//lib/hadoop-mapreduce-client-app-2.10.2.jar:/content/hbase-2.5.0//lib/hadoop-mapreduce-client-common-2.10.2.jar:/content/hbase-2.5.0//lib/hadoop-mapreduce-client-core-2.10.2.jar:/content/hbase-2.5.0//lib/hadoop-mapreduce-client-hs-2.10.2.jar:/content/hbase-2.5.0//lib/hadoop-mapreduce-client-jobclient-2.10.2.jar:/content/hbase-2.5.0//lib/hadoop-mapreduce-client-shuffle-2.10.2.jar:/content/hbase-2.5.0//lib/hadoop-minicluster-2.10.2.jar:/content/hbase-2.5.0//lib/hadoop-yarn-api-2.10.2.jar:/content/hbase-2.5.0//lib/hadoop-yarn-client-2.10.2.jar:/content/hbase-2.5.0//lib/hadoop-yarn-common-2.10.2.jar:/content/hbase-2.5.0//lib/hadoop-yarn-registry-2.10.2.jar:/content/hbase-2.5.0//lib/hadoop-yarn-server-applicationhistoryservice-2.10.2.jar:/content/hbase-2.5.0//lib/hadoop-yarn-server-common-2.10.2.jar:/content/hbase-2.5.0//lib/hadoop-yarn-server-nodemanager-2.10.2.jar:/content/hbase-2.5.0//lib/hadoop-yarn-server-resourcemanager-2.10.2.jar:/content/hbase-2.5.0//lib/hadoop-yarn-server-tests-2.10.2-tests.jar:/content/hbase-2.5.0//lib/hadoop-yarn-server-timelineservice-2.10.2.jar:/content/hbase-2.5.0//lib/hadoop-yarn-server-web-proxy-2.10.2.jar:/content/hbase-2.5.0//lib/hamcrest-core-1.3.jar:/content/hbase-2.5.0//lib/hbase-annotations-2.5.0.jar:/content/hbase-2.5.0//lib/hbase-annotations-2.5.0-tests.jar:/content/hbase-2.5.0//lib/hbase-asyncfs-2.5.0.jar:/content/hbase-2.5.0//lib/hbase-asyncfs-2.5.0-tests.jar:/content/hbase-2.5.0//lib/hbase-client-2.5.0.jar:/content/hbase-2.5.0//lib/hbase-common-2.5.0.jar:/content/hbase-2.5.0//lib/hbase-common-2.5.0-tests.jar:/content/hbase-2.5.0//lib/hbase-compression-aircompressor-2.5.0.jar:/content/hbase-2.5.0//lib/hbase-compression-brotli-2.5.0.jar:/content/hbase-2.5.0//lib/hbase-compression-lz4-2.5.0.jar:/content/hbase-2.5.0//lib/hbase-compression-snappy-2.5.0.jar:/content/hbase-2.5.0//lib/hbase-compression-xz-2.5.0.jar:/content/hbase-2.5.0//lib/hbase-compression-zstd-2.5.0.jar:/content/hbase-2.5.0//lib/hbase-endpoint-2.5.0.jar:/content/hbase-2.5.0//lib/hbase-examples-2.5.0.jar:/content/hbase-2.5.0//lib/hbase-external-blockcache-2.5.0.jar:/content/hbase-2.5.0//lib/hbase-hadoop2-compat-2.5.0.jar:/content/hbase-2.5.0//lib/hbase-hadoop2-compat-2.5.0-tests.jar:/content/hbase-2.5.0//lib/hbase-hadoop-compat-2.5.0.jar:/content/hbase-2.5.0//lib/hbase-hadoop-compat-2.5.0-tests.jar:/content/hbase-2.5.0//lib/hbase-hbtop-2.5.0.jar:/content/hbase-2.5.0//lib/hbase-http-2.5.0.jar:/content/hbase-2.5.0//lib/hbase-it-2.5.0.jar:/content/hbase-2.5.0//lib/hbase-it-2.5.0-tests.jar:/content/hbase-2.5.0//lib/hbase-logging-2.5.0.jar:/content/hbase-2.5.0//lib/hbase-mapreduce-2.5.0.jar:/content/hbase-2.5.0//lib/hbase-mapreduce-2.5.0-tests.jar:/content/hbase-2.5.0//lib/hbase-metrics-2.5.0.jar:/content/hbase-2.5.0//lib/hbase-metrics-api-2.5.0.jar:/content/hbase-2.5.0//lib/hbase-procedure-2.5.0.jar:/content/hbase-2.5.0//lib/hbase-procedure-2.5.0-tests.jar:/content/hbase-2.5.0//lib/hbase-protocol-2.5.0.jar:/content/hbase-2.5.0//lib/hbase-protocol-shaded-2.5.0.jar:/content/hbase-2.5.0//lib/hbase-replication-2.5.0.jar:/content/hbase-2.5.0//lib/hbase-resource-bundle-2.5.0.jar:/content/hbase-2.5.0//lib/hbase-rest-2.5.0.jar:/content/hbase-2.5.0//lib/hbase-rsgroup-2.5.0.jar:/content/hbase-2.5.0//lib/hbase-rsgroup-2.5.0-tests.jar:/content/hbase-2.5.0//lib/hbase-server-2.5.0.jar:/content/hbase-2.5.0//lib/hbase-server-2.5.0-tests.jar:/content/hbase-2.5.0//lib/hbase-shaded-gson-4.1.1.jar:/content/hbase-2.5.0//lib/hbase-shaded-jackson-jaxrs-json-provider-4.1.1.jar:/content/hbase-2.5.0//lib/hbase-shaded-jersey-4.1.1.jar:/content/hbase-2.5.0//lib/hbase-shaded-jetty-4.1.1.jar:/content/hbase-2.5.0//lib/hbase-shaded-miscellaneous-4.1.1.jar:/content/hbase-2.5.0//lib/hbase-shaded-netty-4.1.1.jar:/content/hbase-2.5.0//lib/hbase-shaded-protobuf-4.1.1.jar:/content/hbase-2.5.0//lib/hbase-shell-2.5.0.jar:/content/hbase-2.5.0//lib/hbase-testing-util-2.5.0.jar:/content/hbase-2.5.0//lib/hbase-thrift-2.5.0.jar:/content/hbase-2.5.0//lib/hbase-unsafe-4.1.1.jar:/content/hbase-2.5.0//lib/hbase-zookeeper-2.5.0.jar:/content/hbase-2.5.0//lib/hbase-zookeeper-2.5.0-tests.jar:/content/hbase-2.5.0//lib/HikariCP-java7-2.4.12.jar:/content/hbase-2.5.0//lib/httpclient-4.5.13.jar:/content/hbase-2.5.0//lib/httpcore-4.4.13.jar:/content/hbase-2.5.0//lib/jackson-annotations-2.13.3.jar:/content/hbase-2.5.0//lib/jackson-core-2.13.3.jar:/content/hbase-2.5.0//lib/jackson-core-asl-1.9.13.jar:/content/hbase-2.5.0//lib/jackson-databind-2.13.3.jar:/content/hbase-2.5.0//lib/jackson-mapper-asl-1.9.13.jar:/content/hbase-2.5.0//lib/jackson-module-jaxb-annotations-2.13.3.jar:/content/hbase-2.5.0//lib/jakarta.inject-2.6.1.jar:/content/hbase-2.5.0//lib/jakarta.validation-api-2.0.2.jar:/content/hbase-2.5.0//lib/jamon-runtime-2.4.1.jar:/content/hbase-2.5.0//lib/javassist-3.25.0-GA.jar:/content/hbase-2.5.0//lib/java-util-1.9.0.jar:/content/hbase-2.5.0//lib/javax.activation-api-1.2.0.jar:/content/hbase-2.5.0//lib/javax.annotation-api-1.2.jar:/content/hbase-2.5.0//lib/javax.el-3.0.1-b08.jar:/content/hbase-2.5.0//lib/java-xmlbuilder-0.4.jar:/content/hbase-2.5.0//lib/javax.servlet-api-3.1.0.jar:/content/hbase-2.5.0//lib/javax.servlet.jsp-2.3.2.jar:/content/hbase-2.5.0//lib/javax.servlet.jsp-api-2.3.1.jar:/content/hbase-2.5.0//lib/javax.ws.rs-api-2.1.1.jar:/content/hbase-2.5.0//lib/jaxb-api-2.3.1.jar:/content/hbase-2.5.0//lib/jaxb-impl-2.2.3-1.jar:/content/hbase-2.5.0//lib/jcip-annotations-1.0-1.jar:/content/hbase-2.5.0//lib/jcodings-1.0.55.jar:/content/hbase-2.5.0//lib/jets3t-0.9.0.jar:/content/hbase-2.5.0//lib/jettison-1.3.8.jar:/content/hbase-2.5.0//lib/jetty-6.1.26.jar:/content/hbase-2.5.0//lib/jetty-sslengine-6.1.26.jar:/content/hbase-2.5.0//lib/jetty-util-6.1.26.jar:/content/hbase-2.5.0//lib/joni-2.1.31.jar:/content/hbase-2.5.0//lib/jsch-0.1.55.jar:/content/hbase-2.5.0//lib/json-io-2.5.1.jar:/content/hbase-2.5.0//lib/jsr311-api-1.1.1.jar:/content/hbase-2.5.0//lib/junit-4.13.2.jar:/content/hbase-2.5.0//lib/leveldbjni-all-1.8.jar:/content/hbase-2.5.0//lib/libthrift-0.14.1.jar:/content/hbase-2.5.0//lib/lz4-java-1.8.0.jar:/content/hbase-2.5.0//lib/metrics-core-3.0.1.jar:/content/hbase-2.5.0//lib/metrics-core-3.2.6.jar:/content/hbase-2.5.0//lib/mockito-core-2.28.2.jar:/content/hbase-2.5.0//lib/mssql-jdbc-6.2.1.jre7.jar:/content/hbase-2.5.0//lib/native-linux-x86_64-1.7.1.jar:/content/hbase-2.5.0//lib/netty-buffer-4.1.45.Final.jar:/content/hbase-2.5.0//lib/netty-codec-4.1.45.Final.jar:/content/hbase-2.5.0//lib/netty-common-4.1.45.Final.jar:/content/hbase-2.5.0//lib/netty-handler-4.1.45.Final.jar:/content/hbase-2.5.0//lib/netty-resolver-4.1.45.Final.jar:/content/hbase-2.5.0//lib/netty-transport-4.1.45.Final.jar:/content/hbase-2.5.0//lib/netty-transport-native-epoll-4.1.45.Final.jar:/content/hbase-2.5.0//lib/netty-transport-native-unix-common-4.1.45.Final.jar:/content/hbase-2.5.0//lib/nimbus-jose-jwt-7.9.jar:/content/hbase-2.5.0//lib/objenesis-2.6.jar:/content/hbase-2.5.0//lib/okhttp-2.7.5.jar:/content/hbase-2.5.0//lib/okio-1.6.0.jar:/content/hbase-2.5.0//lib/opentelemetry-api-1.15.0.jar:/content/hbase-2.5.0//lib/opentelemetry-context-1.15.0.jar:/content/hbase-2.5.0//lib/opentelemetry-semconv-1.15.0-alpha.jar:/content/hbase-2.5.0//lib/protobuf-java-2.5.0.jar:/content/hbase-2.5.0//lib/snappy-java-1.1.8.4.jar:/content/hbase-2.5.0//lib/spymemcached-2.12.2.jar:/content/hbase-2.5.0//lib/stax2-api-4.2.1.jar:/content/hbase-2.5.0//lib/woodstox-core-5.3.0.jar:/content/hbase-2.5.0//lib/xmlenc-0.52.jar:/content/hbase-2.5.0//lib/xz-1.9.jar:/content/hbase-2.5.0//lib/zookeeper-3.5.7.jar:/content/hbase-2.5.0//lib/zookeeper-jute-3.5.7.jar:/content/hbase-2.5.0//lib/zstd-jni-1.5.0-4.jar:/content/hbase-2.5.0//lib/client-facing-thirdparty/audience-annotations-0.5.0.jar:/content/hbase-2.5.0//lib/client-facing-thirdparty/commons-logging-1.2.jar:/content/hbase-2.5.0//lib/client-facing-thirdparty/htrace-core4-4.1.0-incubating.jar:/content/hbase-2.5.0//lib/client-facing-thirdparty/jcl-over-slf4j-1.7.33.jar:/content/hbase-2.5.0//lib/client-facing-thirdparty/jul-to-slf4j-1.7.33.jar:/content/hbase-2.5.0//lib/client-facing-thirdparty/opentelemetry-api-1.15.0.jar:/content/hbase-2.5.0//lib/client-facing-thirdparty/opentelemetry-context-1.15.0.jar:/content/hbase-2.5.0//lib/client-facing-thirdparty/opentelemetry-semconv-1.15.0-alpha.jar:/usr/local/hadoop-3.3.3//etc/hadoop:/usr/local/hadoop-3.3.3//share/hadoop/common/lib/jsp-api-2.1.jar:/usr/local/hadoop-3.3.3//share/hadoop/common/lib/kerb-identity-1.0.1.jar:/usr/local/hadoop-3.3.3//share/hadoop/common/lib/paranamer-2.3.jar:/usr/local/hadoop-3.3.3//share/hadoop/common/lib/accessors-smart-2.4.7.jar:/usr/local/hadoop-3.3.3//share/hadoop/common/lib/commons-io-2.8.0.jar:/usr/local/hadoop-3.3.3//share/hadoop/common/lib/jackson-core-asl-1.9.13.jar:/usr/local/hadoop-3.3.3//share/hadoop/common/lib/jackson-mapper-asl-1.9.13.jar:/usr/local/hadoop-3.3.3//share/hadoop/common/lib/jackson-databind-2.13.2.2.jar:/usr/local/hadoop-3.3.3//share/hadoop/common/lib/kerb-server-1.0.1.jar:/usr/local/hadoop-3.3.3//share/hadoop/common/lib/hadoop-annotations-3.3.3.jar:/usr/local/hadoop-3.3.3//share/hadoop/common/lib/metrics-core-3.2.4.jar:/usr/local/hadoop-3.3.3//share/hadoop/common/lib/jsr305-3.0.2.jar:/usr/local/hadoop-3.3.3//share/hadoop/common/lib/kerb-util-1.0.1.jar:/usr/local/hadoop-3.3.3//share/hadoop/common/lib/jaxb-api-2.2.11.jar:/usr/local/hadoop-3.3.3//share/hadoop/common/lib/token-provider-1.0.1.jar:/usr/local/hadoop-3.3.3//share/hadoop/common/lib/zookeeper-3.5.6.jar:/usr/local/hadoop-3.3.3//share/hadoop/common/lib/json-smart-2.4.7.jar:/usr/local/hadoop-3.3.3//share/hadoop/common/lib/jackson-xc-1.9.13.jar:/usr/local/hadoop-3.3.3//share/hadoop/common/lib/jackson-annotations-2.13.2.jar:/usr/local/hadoop-3.3.3//share/hadoop/common/lib/commons-daemon-1.0.13.jar:/usr/local/hadoop-3.3.3//share/hadoop/common/lib/kerb-simplekdc-1.0.1.jar:/usr/local/hadoop-3.3.3//share/hadoop/common/lib/jetty-http-9.4.43.v20210629.jar:/usr/local/hadoop-3.3.3//share/hadoop/common/lib/protobuf-java-2.5.0.jar:/usr/local/hadoop-3.3.3//share/hadoop/common/lib/gson-2.8.9.jar:/usr/local/hadoop-3.3.3//share/hadoop/common/lib/commons-beanutils-1.9.4.jar:/usr/local/hadoop-3.3.3//share/hadoop/common/lib/curator-recipes-4.2.0.jar:/usr/local/hadoop-3.3.3//share/hadoop/common/lib/jetty-io-9.4.43.v20210629.jar:/usr/local/hadoop-3.3.3//share/hadoop/common/lib/kerb-core-1.0.1.jar:/usr/local/hadoop-3.3.3//share/hadoop/common/lib/commons-cli-1.2.jar:/usr/local/hadoop-3.3.3//share/hadoop/common/lib/curator-framework-4.2.0.jar:/usr/local/hadoop-3.3.3//share/hadoop/common/lib/commons-collections-3.2.2.jar:/usr/local/hadoop-3.3.3//share/hadoop/common/lib/jettison-1.1.jar:/usr/local/hadoop-3.3.3//share/hadoop/common/lib/kerby-asn1-1.0.1.jar:/usr/local/hadoop-3.3.3//share/hadoop/common/lib/jetty-util-9.4.43.v20210629.jar:/usr/local/hadoop-3.3.3//share/hadoop/common/lib/commons-compress-1.21.jar:/usr/local/hadoop-3.3.3//share/hadoop/common/lib/reload4j-1.2.18.3.jar:/usr/local/hadoop-3.3.3//share/hadoop/common/lib/jackson-core-2.13.2.jar:/usr/local/hadoop-3.3.3//share/hadoop/common/lib/commons-configuration2-2.1.1.jar:/usr/local/hadoop-3.3.3//share/hadoop/common/lib/commons-logging-1.1.3.jar:/usr/local/hadoop-3.3.3//share/hadoop/common/lib/jetty-webapp-9.4.43.v20210629.jar:/usr/local/hadoop-3.3.3//share/hadoop/common/lib/jsr311-api-1.1.1.jar:/usr/local/hadoop-3.3.3//share/hadoop/common/lib/netty-3.10.6.Final.jar:/usr/local/hadoop-3.3.3//share/hadoop/common/lib/jsch-0.1.55.jar:/usr/local/hadoop-3.3.3//share/hadoop/common/lib/kerb-common-1.0.1.jar:/usr/local/hadoop-3.3.3//share/hadoop/common/lib/jersey-json-1.19.jar:/usr/local/hadoop-3.3.3//share/hadoop/common/lib/commons-text-1.4.jar:/usr/local/hadoop-3.3.3//share/hadoop/common/lib/jetty-server-9.4.43.v20210629.jar:/usr/local/hadoop-3.3.3//share/hadoop/common/lib/kerby-config-1.0.1.jar:/usr/local/hadoop-3.3.3//share/hadoop/common/lib/jetty-servlet-9.4.43.v20210629.jar:/usr/local/hadoop-3.3.3//share/hadoop/common/lib/commons-math3-3.1.1.jar:/usr/local/hadoop-3.3.3//share/hadoop/common/lib/re2j-1.1.jar:/usr/local/hadoop-3.3.3//share/hadoop/common/lib/zookeeper-jute-3.5.6.jar:/usr/local/hadoop-3.3.3//share/hadoop/common/lib/hadoop-shaded-guava-1.1.1.jar:/usr/local/hadoop-3.3.3//share/hadoop/common/lib/jersey-core-1.19.jar:/usr/local/hadoop-3.3.3//share/hadoop/common/lib/jersey-servlet-1.19.jar:/usr/local/hadoop-3.3.3//share/hadoop/common/lib/kerby-pkix-1.0.1.jar:/usr/local/hadoop-3.3.3//share/hadoop/common/lib/jaxb-impl-2.2.3-1.jar:/usr/local/hadoop-3.3.3//share/hadoop/common/lib/curator-client-4.2.0.jar:/usr/local/hadoop-3.3.3//share/hadoop/common/lib/jackson-jaxrs-1.9.13.jar:/usr/local/hadoop-3.3.3//share/hadoop/common/lib/kerby-util-1.0.1.jar:/usr/local/hadoop-3.3.3//share/hadoop/common/lib/javax.servlet-api-3.1.0.jar:/usr/local/hadoop-3.3.3//share/hadoop/common/lib/listenablefuture-9999.0-empty-to-avoid-conflict-with-guava.jar:/usr/local/hadoop-3.3.3//share/hadoop/common/lib/failureaccess-1.0.jar:/usr/local/hadoop-3.3.3//share/hadoop/common/lib/checker-qual-2.5.2.jar:/usr/local/hadoop-3.3.3//share/hadoop/common/lib/animal-sniffer-annotations-1.17.jar:/usr/local/hadoop-3.3.3//share/hadoop/common/lib/dnsjava-2.1.7.jar:/usr/local/hadoop-3.3.3//share/hadoop/common/lib/slf4j-reload4j-1.7.36.jar:/usr/local/hadoop-3.3.3//share/hadoop/common/lib/nimbus-jose-jwt-9.8.1.jar:/usr/local/hadoop-3.3.3//share/hadoop/common/lib/kerb-admin-1.0.1.jar:/usr/local/hadoop-3.3.3//share/hadoop/common/lib/jcip-annotations-1.0-1.jar:/usr/local/hadoop-3.3.3//share/hadoop/common/lib/audience-annotations-0.5.0.jar:/usr/local/hadoop-3.3.3//share/hadoop/common/lib/jersey-server-1.19.jar:/usr/local/hadoop-3.3.3//share/hadoop/common/lib/hadoop-shaded-protobuf_3_7-1.1.1.jar:/usr/local/hadoop-3.3.3//share/hadoop/common/lib/jetty-security-9.4.43.v20210629.jar:/usr/local/hadoop-3.3.3//share/hadoop/common/lib/httpclient-4.5.13.jar:/usr/local/hadoop-3.3.3//share/hadoop/common/lib/kerby-xdr-1.0.1.jar:/usr/local/hadoop-3.3.3//share/hadoop/common/lib/jetty-util-ajax-9.4.43.v20210629.jar:/usr/local/hadoop-3.3.3//share/hadoop/common/lib/jetty-xml-9.4.43.v20210629.jar:/usr/local/hadoop-3.3.3//share/hadoop/common/lib/jul-to-slf4j-1.7.36.jar:/usr/local/hadoop-3.3.3//share/hadoop/common/lib/httpcore-4.4.13.jar:/usr/local/hadoop-3.3.3//share/hadoop/common/lib/snappy-java-1.1.8.2.jar:/usr/local/hadoop-3.3.3//share/hadoop/common/lib/jakarta.activation-api-1.2.1.jar:/usr/local/hadoop-3.3.3//share/hadoop/common/lib/asm-5.0.4.jar:/usr/local/hadoop-3.3.3//share/hadoop/common/lib/woodstox-core-5.3.0.jar:/usr/local/hadoop-3.3.3//share/hadoop/common/lib/hadoop-auth-3.3.3.jar:/usr/local/hadoop-3.3.3//share/hadoop/common/lib/j2objc-annotations-1.1.jar:/usr/local/hadoop-3.3.3//share/hadoop/common/lib/stax2-api-4.2.1.jar:/usr/local/hadoop-3.3.3//share/hadoop/common/lib/commons-net-3.6.jar:/usr/local/hadoop-3.3.3//share/hadoop/common/lib/avro-1.7.7.jar:/usr/local/hadoop-3.3.3//share/hadoop/common/lib/kerb-client-1.0.1.jar:/usr/local/hadoop-3.3.3//share/hadoop/common/lib/guava-27.0-jre.jar:/usr/local/hadoop-3.3.3//share/hadoop/common/lib/slf4j-api-1.7.36.jar:/usr/local/hadoop-3.3.3//share/hadoop/common/lib/kerb-crypto-1.0.1.jar:/usr/local/hadoop-3.3.3//share/hadoop/common/lib/commons-codec-1.15.jar:/usr/local/hadoop-3.3.3//share/hadoop/common/lib/commons-lang3-3.12.0.jar:/usr/local/hadoop-3.3.3//share/hadoop/common/hadoop-kms-3.3.3.jar:/usr/local/hadoop-3.3.3//share/hadoop/common/hadoop-registry-3.3.3.jar:/usr/local/hadoop-3.3.3//share/hadoop/common/hadoop-common-3.3.3-tests.jar:/usr/local/hadoop-3.3.3//share/hadoop/common/hadoop-common-3.3.3.jar:/usr/local/hadoop-3.3.3//share/hadoop/common/hadoop-nfs-3.3.3.jar:/usr/local/hadoop-3.3.3//share/hadoop/hdfs:/usr/local/hadoop-3.3.3//share/hadoop/hdfs/lib/kerb-identity-1.0.1.jar:/usr/local/hadoop-3.3.3//share/hadoop/hdfs/lib/paranamer-2.3.jar:/usr/local/hadoop-3.3.3//share/hadoop/hdfs/lib/accessors-smart-2.4.7.jar:/usr/local/hadoop-3.3.3//share/hadoop/hdfs/lib/commons-io-2.8.0.jar:/usr/local/hadoop-3.3.3//share/hadoop/hdfs/lib/jackson-core-asl-1.9.13.jar:/usr/local/hadoop-3.3.3//share/hadoop/hdfs/lib/jackson-mapper-asl-1.9.13.jar:/usr/local/hadoop-3.3.3//share/hadoop/hdfs/lib/jackson-databind-2.13.2.2.jar:/usr/local/hadoop-3.3.3//share/hadoop/hdfs/lib/kerb-server-1.0.1.jar:/usr/local/hadoop-3.3.3//share/hadoop/hdfs/lib/json-simple-1.1.1.jar:/usr/local/hadoop-3.3.3//share/hadoop/hdfs/lib/hadoop-annotations-3.3.3.jar:/usr/local/hadoop-3.3.3//share/hadoop/hdfs/lib/jsr305-3.0.2.jar:/usr/local/hadoop-3.3.3//share/hadoop/hdfs/lib/kerb-util-1.0.1.jar:/usr/local/hadoop-3.3.3//share/hadoop/hdfs/lib/jaxb-api-2.2.11.jar:/usr/local/hadoop-3.3.3//share/hadoop/hdfs/lib/token-provider-1.0.1.jar:/usr/local/hadoop-3.3.3//share/hadoop/hdfs/lib/zookeeper-3.5.6.jar:/usr/local/hadoop-3.3.3//share/hadoop/hdfs/lib/json-smart-2.4.7.jar:/usr/local/hadoop-3.3.3//share/hadoop/hdfs/lib/jackson-xc-1.9.13.jar:/usr/local/hadoop-3.3.3//share/hadoop/hdfs/lib/jackson-annotations-2.13.2.jar:/usr/local/hadoop-3.3.3//share/hadoop/hdfs/lib/commons-daemon-1.0.13.jar:/usr/local/hadoop-3.3.3//share/hadoop/hdfs/lib/kerb-simplekdc-1.0.1.jar:/usr/local/hadoop-3.3.3//share/hadoop/hdfs/lib/jetty-http-9.4.43.v20210629.jar:/usr/local/hadoop-3.3.3//share/hadoop/hdfs/lib/protobuf-java-2.5.0.jar:/usr/local/hadoop-3.3.3//share/hadoop/hdfs/lib/gson-2.8.9.jar:/usr/local/hadoop-3.3.3//share/hadoop/hdfs/lib/commons-beanutils-1.9.4.jar:/usr/local/hadoop-3.3.3//share/hadoop/hdfs/lib/curator-recipes-4.2.0.jar:/usr/local/hadoop-3.3.3//share/hadoop/hdfs/lib/jetty-io-9.4.43.v20210629.jar:/usr/local/hadoop-3.3.3//share/hadoop/hdfs/lib/kerb-core-1.0.1.jar:/usr/local/hadoop-3.3.3//share/hadoop/hdfs/lib/commons-cli-1.2.jar:/usr/local/hadoop-3.3.3//share/hadoop/hdfs/lib/curator-framework-4.2.0.jar:/usr/local/hadoop-3.3.3//share/hadoop/hdfs/lib/commons-collections-3.2.2.jar:/usr/local/hadoop-3.3.3//share/hadoop/hdfs/lib/jettison-1.1.jar:/usr/local/hadoop-3.3.3//share/hadoop/hdfs/lib/kerby-asn1-1.0.1.jar:/usr/local/hadoop-3.3.3//share/hadoop/hdfs/lib/jetty-util-9.4.43.v20210629.jar:/usr/local/hadoop-3.3.3//share/hadoop/hdfs/lib/commons-compress-1.21.jar:/usr/local/hadoop-3.3.3//share/hadoop/hdfs/lib/reload4j-1.2.18.3.jar:/usr/local/hadoop-3.3.3//share/hadoop/hdfs/lib/jackson-core-2.13.2.jar:/usr/local/hadoop-3.3.3//share/hadoop/hdfs/lib/commons-configuration2-2.1.1.jar:/usr/local/hadoop-3.3.3//share/hadoop/hdfs/lib/commons-logging-1.1.3.jar:/usr/local/hadoop-3.3.3//share/hadoop/hdfs/lib/jetty-webapp-9.4.43.v20210629.jar:/usr/local/hadoop-3.3.3//share/hadoop/hdfs/lib/jsr311-api-1.1.1.jar:/usr/local/hadoop-3.3.3//share/hadoop/hdfs/lib/netty-3.10.6.Final.jar:/usr/local/hadoop-3.3.3//share/hadoop/hdfs/lib/jsch-0.1.55.jar:/usr/local/hadoop-3.3.3//share/hadoop/hdfs/lib/kerb-common-1.0.1.jar:/usr/local/hadoop-3.3.3//share/hadoop/hdfs/lib/jersey-json-1.19.jar:/usr/local/hadoop-3.3.3//share/hadoop/hdfs/lib/commons-text-1.4.jar:/usr/local/hadoop-3.3.3//share/hadoop/hdfs/lib/jetty-server-9.4.43.v20210629.jar:/usr/local/hadoop-3.3.3//share/hadoop/hdfs/lib/kerby-config-1.0.1.jar:/usr/local/hadoop-3.3.3//share/hadoop/hdfs/lib/jetty-servlet-9.4.43.v20210629.jar:/usr/local/hadoop-3.3.3//share/hadoop/hdfs/lib/commons-math3-3.1.1.jar:/usr/local/hadoop-3.3.3//share/hadoop/hdfs/lib/okio-1.6.0.jar:/usr/local/hadoop-3.3.3//share/hadoop/hdfs/lib/re2j-1.1.jar:/usr/local/hadoop-3.3.3//share/hadoop/hdfs/lib/zookeeper-jute-3.5.6.jar:/usr/local/hadoop-3.3.3//share/hadoop/hdfs/lib/hadoop-shaded-guava-1.1.1.jar:/usr/local/hadoop-3.3.3//share/hadoop/hdfs/lib/jersey-core-1.19.jar:/usr/local/hadoop-3.3.3//share/hadoop/hdfs/lib/jersey-servlet-1.19.jar:/usr/local/hadoop-3.3.3//share/hadoop/hdfs/lib/kerby-pkix-1.0.1.jar:/usr/local/hadoop-3.3.3//share/hadoop/hdfs/lib/jaxb-impl-2.2.3-1.jar:/usr/local/hadoop-3.3.3//share/hadoop/hdfs/lib/curator-client-4.2.0.jar:/usr/local/hadoop-3.3.3//share/hadoop/hdfs/lib/jackson-jaxrs-1.9.13.jar:/usr/local/hadoop-3.3.3//share/hadoop/hdfs/lib/kerby-util-1.0.1.jar:/usr/local/hadoop-3.3.3//share/hadoop/hdfs/lib/javax.servlet-api-3.1.0.jar:/usr/local/hadoop-3.3.3//share/hadoop/hdfs/lib/listenablefuture-9999.0-empty-to-avoid-conflict-with-guava.jar:/usr/local/hadoop-3.3.3//share/hadoop/hdfs/lib/failureaccess-1.0.jar:/usr/local/hadoop-3.3.3//share/hadoop/hdfs/lib/checker-qual-2.5.2.jar:/usr/local/hadoop-3.3.3//share/hadoop/hdfs/lib/animal-sniffer-annotations-1.17.jar:/usr/local/hadoop-3.3.3//share/hadoop/hdfs/lib/leveldbjni-all-1.8.jar:/usr/local/hadoop-3.3.3//share/hadoop/hdfs/lib/dnsjava-2.1.7.jar:/usr/local/hadoop-3.3.3//share/hadoop/hdfs/lib/nimbus-jose-jwt-9.8.1.jar:/usr/local/hadoop-3.3.3//share/hadoop/hdfs/lib/kerb-admin-1.0.1.jar:/usr/local/hadoop-3.3.3//share/hadoop/hdfs/lib/jcip-annotations-1.0-1.jar:/usr/local/hadoop-3.3.3//share/hadoop/hdfs/lib/audience-annotations-0.5.0.jar:/usr/local/hadoop-3.3.3//share/hadoop/hdfs/lib/okhttp-2.7.5.jar:/usr/local/hadoop-3.3.3//share/hadoop/hdfs/lib/jersey-server-1.19.jar:/usr/local/hadoop-3.3.3//share/hadoop/hdfs/lib/hadoop-shaded-protobuf_3_7-1.1.1.jar:/usr/local/hadoop-3.3.3//share/hadoop/hdfs/lib/netty-all-4.1.68.Final.jar:/usr/local/hadoop-3.3.3//share/hadoop/hdfs/lib/jetty-security-9.4.43.v20210629.jar:/usr/local/hadoop-3.3.3//share/hadoop/hdfs/lib/httpclient-4.5.13.jar:/usr/local/hadoop-3.3.3//share/hadoop/hdfs/lib/kerby-xdr-1.0.1.jar:/usr/local/hadoop-3.3.3//share/hadoop/hdfs/lib/jetty-util-ajax-9.4.43.v20210629.jar:/usr/local/hadoop-3.3.3//share/hadoop/hdfs/lib/jetty-xml-9.4.43.v20210629.jar:/usr/local/hadoop-3.3.3//share/hadoop/hdfs/lib/httpcore-4.4.13.jar:/usr/local/hadoop-3.3.3//share/hadoop/hdfs/lib/snappy-java-1.1.8.2.jar:/usr/local/hadoop-3.3.3//share/hadoop/hdfs/lib/jakarta.activation-api-1.2.1.jar:/usr/local/hadoop-3.3.3//share/hadoop/hdfs/lib/asm-5.0.4.jar:/usr/local/hadoop-3.3.3//share/hadoop/hdfs/lib/woodstox-core-5.3.0.jar:/usr/local/hadoop-3.3.3//share/hadoop/hdfs/lib/hadoop-auth-3.3.3.jar:/usr/local/hadoop-3.3.3//share/hadoop/hdfs/lib/j2objc-annotations-1.1.jar:/usr/local/hadoop-3.3.3//share/hadoop/hdfs/lib/stax2-api-4.2.1.jar:/usr/local/hadoop-3.3.3//share/hadoop/hdfs/lib/commons-net-3.6.jar:/usr/local/hadoop-3.3.3//share/hadoop/hdfs/lib/avro-1.7.7.jar:/usr/local/hadoop-3.3.3//share/hadoop/hdfs/lib/kerb-client-1.0.1.jar:/usr/local/hadoop-3.3.3//share/hadoop/hdfs/lib/guava-27.0-jre.jar:/usr/local/hadoop-3.3.3//share/hadoop/hdfs/lib/kerb-crypto-1.0.1.jar:/usr/local/hadoop-3.3.3//share/hadoop/hdfs/lib/commons-codec-1.15.jar:/usr/local/hadoop-3.3.3//share/hadoop/hdfs/lib/commons-lang3-3.12.0.jar:/usr/local/hadoop-3.3.3//share/hadoop/hdfs/hadoop-hdfs-client-3.3.3.jar:/usr/local/hadoop-3.3.3//share/hadoop/hdfs/hadoop-hdfs-rbf-3.3.3.jar:/usr/local/hadoop-3.3.3//share/hadoop/hdfs/hadoop-hdfs-3.3.3.jar:/usr/local/hadoop-3.3.3//share/hadoop/hdfs/hadoop-hdfs-rbf-3.3.3-tests.jar:/usr/local/hadoop-3.3.3//share/hadoop/hdfs/hadoop-hdfs-native-client-3.3.3.jar:/usr/local/hadoop-3.3.3//share/hadoop/hdfs/hadoop-hdfs-native-client-3.3.3-tests.jar:/usr/local/hadoop-3.3.3//share/hadoop/hdfs/hadoop-hdfs-3.3.3-tests.jar:/usr/local/hadoop-3.3.3//share/hadoop/hdfs/hadoop-hdfs-httpfs-3.3.3.jar:/usr/local/hadoop-3.3.3//share/hadoop/hdfs/hadoop-hdfs-nfs-3.3.3.jar:/usr/local/hadoop-3.3.3//share/hadoop/hdfs/hadoop-hdfs-client-3.3.3-tests.jar:/usr/local/hadoop-3.3.3//share/hadoop/mapreduce/hadoop-mapreduce-client-core-3.3.3.jar:/usr/local/hadoop-3.3.3//share/hadoop/mapreduce/hadoop-mapreduce-client-app-3.3.3.jar:/usr/local/hadoop-3.3.3//share/hadoop/mapreduce/hadoop-mapreduce-client-common-3.3.3.jar:/usr/local/hadoop-3.3.3//share/hadoop/mapreduce/hadoop-mapreduce-client-shuffle-3.3.3.jar:/usr/local/hadoop-3.3.3//share/hadoop/mapreduce/hadoop-mapreduce-examples-3.3.3.jar:/usr/local/hadoop-3.3.3//share/hadoop/mapreduce/hadoop-mapreduce-client-uploader-3.3.3.jar:/usr/local/hadoop-3.3.3//share/hadoop/mapreduce/hadoop-mapreduce-client-jobclient-3.3.3.jar:/usr/local/hadoop-3.3.3//share/hadoop/mapreduce/hadoop-mapreduce-client-hs-plugins-3.3.3.jar:/usr/local/hadoop-3.3.3//share/hadoop/mapreduce/hadoop-mapreduce-client-nativetask-3.3.3.jar:/usr/local/hadoop-3.3.3//share/hadoop/mapreduce/hadoop-mapreduce-client-jobclient-3.3.3-tests.jar:/usr/local/hadoop-3.3.3//share/hadoop/mapreduce/hadoop-mapreduce-client-hs-3.3.3.jar:/usr/local/hadoop-3.3.3//share/hadoop/yarn:/usr/local/hadoop-3.3.3//share/hadoop/yarn/lib/jna-5.2.0.jar:/usr/local/hadoop-3.3.3//share/hadoop/yarn/lib/json-io-2.5.1.jar:/usr/local/hadoop-3.3.3//share/hadoop/yarn/lib/objenesis-2.6.jar:/usr/local/hadoop-3.3.3//share/hadoop/yarn/lib/metrics-core-3.2.4.jar:/usr/local/hadoop-3.3.3//share/hadoop/yarn/lib/javax.inject-1.jar:/usr/local/hadoop-3.3.3//share/hadoop/yarn/lib/snakeyaml-1.26.jar:/usr/local/hadoop-3.3.3//share/hadoop/yarn/lib/HikariCP-java7-2.4.12.jar:/usr/local/hadoop-3.3.3//share/hadoop/yarn/lib/asm-tree-9.1.jar:/usr/local/hadoop-3.3.3//share/hadoop/yarn/lib/bcpkix-jdk15on-1.60.jar:/usr/local/hadoop-3.3.3//share/hadoop/yarn/lib/jetty-jndi-9.4.43.v20210629.jar:/usr/local/hadoop-3.3.3//share/hadoop/yarn/lib/mssql-jdbc-6.2.1.jre7.jar:/usr/local/hadoop-3.3.3//share/hadoop/yarn/lib/aopalliance-1.0.jar:/usr/local/hadoop-3.3.3//share/hadoop/yarn/lib/javax.ws.rs-api-2.1.1.jar:/usr/local/hadoop-3.3.3//share/hadoop/yarn/lib/websocket-api-9.4.43.v20210629.jar:/usr/local/hadoop-3.3.3//share/hadoop/yarn/lib/jetty-client-9.4.43.v20210629.jar:/usr/local/hadoop-3.3.3//share/hadoop/yarn/lib/jetty-annotations-9.4.43.v20210629.jar:/usr/local/hadoop-3.3.3//share/hadoop/yarn/lib/websocket-server-9.4.43.v20210629.jar:/usr/local/hadoop-3.3.3//share/hadoop/yarn/lib/geronimo-jcache_1.0_spec-1.0-alpha-1.jar:/usr/local/hadoop-3.3.3//share/hadoop/yarn/lib/jackson-jaxrs-base-2.13.2.jar:/usr/local/hadoop-3.3.3//share/hadoop/yarn/lib/websocket-servlet-9.4.43.v20210629.jar:/usr/local/hadoop-3.3.3//share/hadoop/yarn/lib/jetty-plus-9.4.43.v20210629.jar:/usr/local/hadoop-3.3.3//share/hadoop/yarn/lib/java-util-1.9.0.jar:/usr/local/hadoop-3.3.3//share/hadoop/yarn/lib/websocket-client-9.4.43.v20210629.jar:/usr/local/hadoop-3.3.3//share/hadoop/yarn/lib/swagger-annotations-1.5.4.jar:/usr/local/hadoop-3.3.3//share/hadoop/yarn/lib/jakarta.xml.bind-api-2.3.3.jar:/usr/local/hadoop-3.3.3//share/hadoop/yarn/lib/ehcache-3.3.1.jar:/usr/local/hadoop-3.3.3//share/hadoop/yarn/lib/guice-servlet-4.0.jar:/usr/local/hadoop-3.3.3//share/hadoop/yarn/lib/javax-websocket-server-impl-9.4.43.v20210629.jar:/usr/local/hadoop-3.3.3//share/hadoop/yarn/lib/jline-3.9.0.jar:/usr/local/hadoop-3.3.3//share/hadoop/yarn/lib/javax-websocket-client-impl-9.4.43.v20210629.jar:/usr/local/hadoop-3.3.3//share/hadoop/yarn/lib/asm-analysis-9.1.jar:/usr/local/hadoop-3.3.3//share/hadoop/yarn/lib/asm-commons-9.1.jar:/usr/local/hadoop-3.3.3//share/hadoop/yarn/lib/jackson-jaxrs-json-provider-2.13.2.jar:/usr/local/hadoop-3.3.3//share/hadoop/yarn/lib/jersey-guice-1.19.jar:/usr/local/hadoop-3.3.3//share/hadoop/yarn/lib/fst-2.50.jar:/usr/local/hadoop-3.3.3//share/hadoop/yarn/lib/bcprov-jdk15on-1.60.jar:/usr/local/hadoop-3.3.3//share/hadoop/yarn/lib/guice-4.0.jar:/usr/local/hadoop-3.3.3//share/hadoop/yarn/lib/javax.websocket-client-api-1.0.jar:/usr/local/hadoop-3.3.3//share/hadoop/yarn/lib/websocket-common-9.4.43.v20210629.jar:/usr/local/hadoop-3.3.3//share/hadoop/yarn/lib/jersey-client-1.19.jar:/usr/local/hadoop-3.3.3//share/hadoop/yarn/lib/javax.websocket-api-1.0.jar:/usr/local/hadoop-3.3.3//share/hadoop/yarn/lib/jackson-module-jaxb-annotations-2.13.2.jar:/usr/local/hadoop-3.3.3//share/hadoop/yarn/hadoop-yarn-server-applicationhistoryservice-3.3.3.jar:/usr/local/hadoop-3.3.3//share/hadoop/yarn/hadoop-yarn-applications-distributedshell-3.3.3.jar:/usr/local/hadoop-3.3.3//share/hadoop/yarn/hadoop-yarn-services-api-3.3.3.jar:/usr/local/hadoop-3.3.3//share/hadoop/yarn/hadoop-yarn-client-3.3.3.jar:/usr/local/hadoop-3.3.3//share/hadoop/yarn/hadoop-yarn-server-nodemanager-3.3.3.jar:/usr/local/hadoop-3.3.3//share/hadoop/yarn/hadoop-yarn-applications-mawo-core-3.3.3.jar:/usr/local/hadoop-3.3.3//share/hadoop/yarn/hadoop-yarn-applications-unmanaged-am-launcher-3.3.3.jar:/usr/local/hadoop-3.3.3//share/hadoop/yarn/hadoop-yarn-server-common-3.3.3.jar:/usr/local/hadoop-3.3.3//share/hadoop/yarn/hadoop-yarn-server-resourcemanager-3.3.3.jar:/usr/local/hadoop-3.3.3//share/hadoop/yarn/hadoop-yarn-server-tests-3.3.3.jar:/usr/local/hadoop-3.3.3//share/hadoop/yarn/hadoop-yarn-api-3.3.3.jar:/usr/local/hadoop-3.3.3//share/hadoop/yarn/hadoop-yarn-server-timeline-pluginstorage-3.3.3.jar:/usr/local/hadoop-3.3.3//share/hadoop/yarn/hadoop-yarn-services-core-3.3.3.jar:/usr/local/hadoop-3.3.3//share/hadoop/yarn/hadoop-yarn-server-router-3.3.3.jar:/usr/local/hadoop-3.3.3//share/hadoop/yarn/hadoop-yarn-server-web-proxy-3.3.3.jar:/usr/local/hadoop-3.3.3//share/hadoop/yarn/hadoop-yarn-server-sharedcachemanager-3.3.3.jar:/usr/local/hadoop-3.3.3//share/hadoop/yarn/hadoop-yarn-common-3.3.3.jar:/usr/local/hadoop-3.3.3//share/hadoop/yarn/hadoop-yarn-registry-3.3.3.jar:/content/hbase-2.5.0//lib/client-facing-thirdparty/log4j-1.2-api-2.17.2.jar:/content/hbase-2.5.0//lib/client-facing-thirdparty/log4j-api-2.17.2.jar:/content/hbase-2.5.0//lib/client-facing-thirdparty/log4j-core-2.17.2.jar:/content/hbase-2.5.0//lib/client-facing-thirdparty/log4j-slf4j-impl-2.17.2.jar\n",
            "2022-10-07 09:28:14,887 INFO  [ReadOnlyZKClient-127.0.0.1:2181@0x6a6afff2] zookeeper.ZooKeeper (Environment.java:logEnv(109)) - Client environment:java.library.path=/usr/local/hadoop-3.3.3//lib/native\n",
            "2022-10-07 09:28:14,888 INFO  [ReadOnlyZKClient-127.0.0.1:2181@0x6a6afff2] zookeeper.ZooKeeper (Environment.java:logEnv(109)) - Client environment:java.io.tmpdir=/tmp\n",
            "2022-10-07 09:28:14,888 INFO  [ReadOnlyZKClient-127.0.0.1:2181@0x6a6afff2] zookeeper.ZooKeeper (Environment.java:logEnv(109)) - Client environment:java.compiler=<NA>\n",
            "2022-10-07 09:28:14,888 INFO  [ReadOnlyZKClient-127.0.0.1:2181@0x6a6afff2] zookeeper.ZooKeeper (Environment.java:logEnv(109)) - Client environment:os.name=Linux\n",
            "2022-10-07 09:28:14,888 INFO  [ReadOnlyZKClient-127.0.0.1:2181@0x6a6afff2] zookeeper.ZooKeeper (Environment.java:logEnv(109)) - Client environment:os.arch=amd64\n",
            "2022-10-07 09:28:14,888 INFO  [ReadOnlyZKClient-127.0.0.1:2181@0x6a6afff2] zookeeper.ZooKeeper (Environment.java:logEnv(109)) - Client environment:os.version=5.10.133+\n",
            "2022-10-07 09:28:14,888 INFO  [ReadOnlyZKClient-127.0.0.1:2181@0x6a6afff2] zookeeper.ZooKeeper (Environment.java:logEnv(109)) - Client environment:user.name=root\n",
            "2022-10-07 09:28:14,888 INFO  [ReadOnlyZKClient-127.0.0.1:2181@0x6a6afff2] zookeeper.ZooKeeper (Environment.java:logEnv(109)) - Client environment:user.home=/root\n",
            "2022-10-07 09:28:14,889 INFO  [ReadOnlyZKClient-127.0.0.1:2181@0x6a6afff2] zookeeper.ZooKeeper (Environment.java:logEnv(109)) - Client environment:user.dir=/content\n",
            "2022-10-07 09:28:14,898 INFO  [ReadOnlyZKClient-127.0.0.1:2181@0x6a6afff2] zookeeper.ZooKeeper (Environment.java:logEnv(109)) - Client environment:os.memory.free=167MB\n",
            "2022-10-07 09:28:14,898 INFO  [ReadOnlyZKClient-127.0.0.1:2181@0x6a6afff2] zookeeper.ZooKeeper (Environment.java:logEnv(109)) - Client environment:os.memory.max=3231MB\n",
            "2022-10-07 09:28:14,898 INFO  [ReadOnlyZKClient-127.0.0.1:2181@0x6a6afff2] zookeeper.ZooKeeper (Environment.java:logEnv(109)) - Client environment:os.memory.total=197MB\n",
            "2022-10-07 09:28:14,905 INFO  [ReadOnlyZKClient-127.0.0.1:2181@0x6a6afff2] zookeeper.ZooKeeper (ZooKeeper.java:<init>(868)) - Initiating client connection, connectString=127.0.0.1:2181 sessionTimeout=90000 watcher=org.apache.hadoop.hbase.zookeeper.ReadOnlyZKClient$$Lambda$19/1527735050@f7ca63f\n",
            "2022-10-07 09:28:14,913 INFO  [ReadOnlyZKClient-127.0.0.1:2181@0x6a6afff2] common.X509Util (X509Util.java:<clinit>(79)) - Setting -D jdk.tls.rejectClientInitiatedRenegotiation=true to disable client-initiated TLS renegotiation\n",
            "2022-10-07 09:28:14,921 INFO  [ReadOnlyZKClient-127.0.0.1:2181@0x6a6afff2] zookeeper.ClientCnxnSocket (ClientCnxnSocket.java:initProperties(237)) - jute.maxbuffer value is 4194304 Bytes\n",
            "2022-10-07 09:28:14,929 INFO  [ReadOnlyZKClient-127.0.0.1:2181@0x6a6afff2] zookeeper.ClientCnxn (ClientCnxn.java:initRequestTimeout(1653)) - zookeeper.request.timeout value is 0. feature enabled=\n",
            "2022-10-07 09:28:14,940 INFO  [ReadOnlyZKClient-127.0.0.1:2181@0x6a6afff2-SendThread(127.0.0.1:2181)] zookeeper.ClientCnxn (ClientCnxn.java:logStartConnect(1112)) - Opening socket connection to server localhost/127.0.0.1:2181. Will not attempt to authenticate using SASL (unknown error)\n",
            "2022-10-07 09:28:14,945 INFO  [ReadOnlyZKClient-127.0.0.1:2181@0x6a6afff2-SendThread(127.0.0.1:2181)] zookeeper.ClientCnxn (ClientCnxn.java:primeConnection(959)) - Socket connection established, initiating session, client: /127.0.0.1:34642, server: localhost/127.0.0.1:2181\n",
            "2022-10-07 09:28:14,956 INFO  [ReadOnlyZKClient-127.0.0.1:2181@0x6a6afff2-SendThread(127.0.0.1:2181)] zookeeper.ClientCnxn (ClientCnxn.java:onConnected(1394)) - Session establishment complete on server localhost/127.0.0.1:2181, sessionid = 0x100000c3c3b0007, negotiated timeout = 40000\n",
            "2022-10-07 09:28:16,732 INFO  [main] Configuration.deprecation (Configuration.java:logDeprecation(1294)) - session.id is deprecated. Instead, use dfs.metrics.session-id\n",
            "2022-10-07 09:28:16,734 INFO  [main] jvm.JvmMetrics (JvmMetrics.java:init(79)) - Initializing JVM Metrics with processName=JobTracker, sessionId=\n",
            "2022-10-07 09:28:16,796 INFO  [ReadOnlyZKClient-127.0.0.1:2181@0x6a6afff2] zookeeper.ZooKeeper (ZooKeeper.java:close(1422)) - Session: 0x100000c3c3b0007 closed\n",
            "2022-10-07 09:28:16,799 INFO  [ReadOnlyZKClient-127.0.0.1:2181@0x6a6afff2-EventThread] zookeeper.ClientCnxn (ClientCnxn.java:run(524)) - EventThread shut down for session: 0x100000c3c3b0007\n",
            "2022-10-07 09:28:16,817 INFO  [ReadOnlyZKClient-127.0.0.1:2181@0x78fb9a67] zookeeper.ZooKeeper (ZooKeeper.java:<init>(868)) - Initiating client connection, connectString=127.0.0.1:2181 sessionTimeout=90000 watcher=org.apache.hadoop.hbase.zookeeper.ReadOnlyZKClient$$Lambda$19/1527735050@f7ca63f\n",
            "2022-10-07 09:28:16,817 INFO  [ReadOnlyZKClient-127.0.0.1:2181@0x78fb9a67] zookeeper.ClientCnxnSocket (ClientCnxnSocket.java:initProperties(237)) - jute.maxbuffer value is 4194304 Bytes\n",
            "2022-10-07 09:28:16,819 INFO  [ReadOnlyZKClient-127.0.0.1:2181@0x78fb9a67] zookeeper.ClientCnxn (ClientCnxn.java:initRequestTimeout(1653)) - zookeeper.request.timeout value is 0. feature enabled=\n",
            "2022-10-07 09:28:16,821 INFO  [ReadOnlyZKClient-127.0.0.1:2181@0x78fb9a67-SendThread(127.0.0.1:2181)] zookeeper.ClientCnxn (ClientCnxn.java:logStartConnect(1112)) - Opening socket connection to server localhost/127.0.0.1:2181. Will not attempt to authenticate using SASL (unknown error)\n",
            "2022-10-07 09:28:16,821 INFO  [ReadOnlyZKClient-127.0.0.1:2181@0x78fb9a67-SendThread(127.0.0.1:2181)] zookeeper.ClientCnxn (ClientCnxn.java:primeConnection(959)) - Socket connection established, initiating session, client: /127.0.0.1:57926, server: localhost/127.0.0.1:2181\n",
            "2022-10-07 09:28:16,826 INFO  [ReadOnlyZKClient-127.0.0.1:2181@0x78fb9a67-SendThread(127.0.0.1:2181)] zookeeper.ClientCnxn (ClientCnxn.java:onConnected(1394)) - Session establishment complete on server localhost/127.0.0.1:2181, sessionid = 0x100000c3c3b0008, negotiated timeout = 40000\n",
            "2022-10-07 09:28:16,985 INFO  [ReadOnlyZKClient-127.0.0.1:2181@0x78fb9a67] zookeeper.ZooKeeper (ZooKeeper.java:close(1422)) - Session: 0x100000c3c3b0008 closed\n",
            "2022-10-07 09:28:16,986 INFO  [ReadOnlyZKClient-127.0.0.1:2181@0x78fb9a67-EventThread] zookeeper.ClientCnxn (ClientCnxn.java:run(524)) - EventThread shut down for session: 0x100000c3c3b0008\n",
            "2022-10-07 09:28:17,125 INFO  [main] input.FileInputFormat (FileInputFormat.java:listStatus(289)) - Total input files to process : 1\n",
            "2022-10-07 09:28:17,160 INFO  [main] mapreduce.JobSubmitter (JobSubmitter.java:submitJobInternal(204)) - number of splits:1\n",
            "2022-10-07 09:28:17,425 INFO  [main] mapreduce.JobSubmitter (JobSubmitter.java:printTokens(300)) - Submitting tokens for job: job_local529015603_0001\n",
            "2022-10-07 09:28:17,753 INFO  [main] mapred.LocalDistributedCacheManager (LocalDistributedCacheManager.java:symlink(200)) - Creating symlink: /tmp/hadoop-root/mapred/local/1665134897558/libjars <- /content/libjars/*\n",
            "2022-10-07 09:28:17,764 WARN  [main] fs.FileUtil (FileUtil.java:symLink(888)) - Command 'ln -s /tmp/hadoop-root/mapred/local/1665134897558/libjars /content/libjars/*' failed 1 with: ln: failed to create symbolic link '/content/libjars/*': No such file or directory\n",
            "\n",
            "2022-10-07 09:28:17,764 WARN  [main] mapred.LocalDistributedCacheManager (LocalDistributedCacheManager.java:symlink(202)) - Failed to create symlink: /tmp/hadoop-root/mapred/local/1665134897558/libjars <- /content/libjars/*\n",
            "2022-10-07 09:28:17,765 INFO  [main] mapred.LocalDistributedCacheManager (LocalDistributedCacheManager.java:setup(164)) - Localized file:/tmp/hadoop-root/mapred/staging/root529015603/.staging/job_local529015603_0001/libjars as file:/tmp/hadoop-root/mapred/local/1665134897558/libjars\n",
            "2022-10-07 09:28:17,842 INFO  [main] mapreduce.Job (Job.java:submit(1577)) - The url to track the job: http://localhost:8080/\n",
            "2022-10-07 09:28:17,843 INFO  [main] mapreduce.Job (Job.java:monitorAndPrintJob(1622)) - Running job: job_local529015603_0001\n",
            "2022-10-07 09:28:17,849 INFO  [Thread-7] mapred.LocalJobRunner (LocalJobRunner.java:createOutputCommitter(500)) - OutputCommitter set in config null\n",
            "2022-10-07 09:28:17,886 INFO  [Thread-7] mapred.LocalJobRunner (LocalJobRunner.java:createOutputCommitter(518)) - OutputCommitter is org.apache.hadoop.hbase.mapreduce.TableOutputCommitter\n",
            "2022-10-07 09:28:17,920 INFO  [Thread-7] mapred.LocalJobRunner (LocalJobRunner.java:runTasks(477)) - Waiting for map tasks\n",
            "2022-10-07 09:28:17,920 INFO  [LocalJobRunner Map Task Executor #0] mapred.LocalJobRunner (LocalJobRunner.java:run(251)) - Starting task: attempt_local529015603_0001_m_000000_0\n",
            "2022-10-07 09:28:18,000 INFO  [LocalJobRunner Map Task Executor #0] mapred.Task (Task.java:initialize(620)) -  Using ResourceCalculatorProcessTree : [ ]\n",
            "2022-10-07 09:28:18,020 INFO  [LocalJobRunner Map Task Executor #0] mapred.MapTask (MapTask.java:runNewMapper(763)) - Processing split: file:/tmp/cars2.csv:0+54\n",
            "2022-10-07 09:28:18,031 INFO  [ReadOnlyZKClient-127.0.0.1:2181@0x3de0f245] zookeeper.ZooKeeper (ZooKeeper.java:<init>(868)) - Initiating client connection, connectString=127.0.0.1:2181 sessionTimeout=90000 watcher=org.apache.hadoop.hbase.zookeeper.ReadOnlyZKClient$$Lambda$19/1527735050@f7ca63f\n",
            "2022-10-07 09:28:18,032 INFO  [ReadOnlyZKClient-127.0.0.1:2181@0x3de0f245] zookeeper.ClientCnxnSocket (ClientCnxnSocket.java:initProperties(237)) - jute.maxbuffer value is 4194304 Bytes\n",
            "2022-10-07 09:28:18,032 INFO  [ReadOnlyZKClient-127.0.0.1:2181@0x3de0f245] zookeeper.ClientCnxn (ClientCnxn.java:initRequestTimeout(1653)) - zookeeper.request.timeout value is 0. feature enabled=\n",
            "2022-10-07 09:28:18,034 INFO  [ReadOnlyZKClient-127.0.0.1:2181@0x3de0f245-SendThread(127.0.0.1:2181)] zookeeper.ClientCnxn (ClientCnxn.java:logStartConnect(1112)) - Opening socket connection to server localhost/127.0.0.1:2181. Will not attempt to authenticate using SASL (unknown error)\n",
            "2022-10-07 09:28:18,035 INFO  [ReadOnlyZKClient-127.0.0.1:2181@0x3de0f245-SendThread(127.0.0.1:2181)] zookeeper.ClientCnxn (ClientCnxn.java:primeConnection(959)) - Socket connection established, initiating session, client: /127.0.0.1:57936, server: localhost/127.0.0.1:2181\n",
            "2022-10-07 09:28:18,039 INFO  [ReadOnlyZKClient-127.0.0.1:2181@0x3de0f245-SendThread(127.0.0.1:2181)] zookeeper.ClientCnxn (ClientCnxn.java:onConnected(1394)) - Session establishment complete on server localhost/127.0.0.1:2181, sessionid = 0x100000c3c3b0009, negotiated timeout = 40000\n",
            "2022-10-07 09:28:18,045 INFO  [LocalJobRunner Map Task Executor #0] mapreduce.TableOutputFormat (TableOutputFormat.java:<init>(99)) - Created table instance for cars2\n",
            "2022-10-07 09:28:18,059 INFO  [ReadOnlyZKClient-127.0.0.1:2181@0x25d06800] zookeeper.ZooKeeper (ZooKeeper.java:<init>(868)) - Initiating client connection, connectString=127.0.0.1:2181 sessionTimeout=90000 watcher=org.apache.hadoop.hbase.zookeeper.ReadOnlyZKClient$$Lambda$19/1527735050@f7ca63f\n",
            "2022-10-07 09:28:18,059 INFO  [ReadOnlyZKClient-127.0.0.1:2181@0x25d06800] zookeeper.ClientCnxnSocket (ClientCnxnSocket.java:initProperties(237)) - jute.maxbuffer value is 4194304 Bytes\n",
            "2022-10-07 09:28:18,060 INFO  [ReadOnlyZKClient-127.0.0.1:2181@0x25d06800] zookeeper.ClientCnxn (ClientCnxn.java:initRequestTimeout(1653)) - zookeeper.request.timeout value is 0. feature enabled=\n",
            "2022-10-07 09:28:18,063 INFO  [ReadOnlyZKClient-127.0.0.1:2181@0x25d06800-SendThread(127.0.0.1:2181)] zookeeper.ClientCnxn (ClientCnxn.java:logStartConnect(1112)) - Opening socket connection to server localhost/127.0.0.1:2181. Will not attempt to authenticate using SASL (unknown error)\n",
            "2022-10-07 09:28:18,064 INFO  [ReadOnlyZKClient-127.0.0.1:2181@0x25d06800-SendThread(127.0.0.1:2181)] zookeeper.ClientCnxn (ClientCnxn.java:primeConnection(959)) - Socket connection established, initiating session, client: /127.0.0.1:57940, server: localhost/127.0.0.1:2181\n",
            "2022-10-07 09:28:18,068 INFO  [ReadOnlyZKClient-127.0.0.1:2181@0x25d06800-SendThread(127.0.0.1:2181)] zookeeper.ClientCnxn (ClientCnxn.java:onConnected(1394)) - Session establishment complete on server localhost/127.0.0.1:2181, sessionid = 0x100000c3c3b000a, negotiated timeout = 40000\n",
            "2022-10-07 09:28:18,188 INFO  [LocalJobRunner Map Task Executor #0] mapred.LocalJobRunner (LocalJobRunner.java:statusUpdate(620)) - \n",
            "2022-10-07 09:28:18,277 INFO  [ReadOnlyZKClient-127.0.0.1:2181@0x25d06800] zookeeper.ZooKeeper (ZooKeeper.java:close(1422)) - Session: 0x100000c3c3b000a closed\n",
            "2022-10-07 09:28:18,277 INFO  [ReadOnlyZKClient-127.0.0.1:2181@0x25d06800-EventThread] zookeeper.ClientCnxn (ClientCnxn.java:run(524)) - EventThread shut down for session: 0x100000c3c3b000a\n",
            "2022-10-07 09:28:18,363 INFO  [LocalJobRunner Map Task Executor #0] mapred.Task (Task.java:done(1105)) - Task:attempt_local529015603_0001_m_000000_0 is done. And is in the process of committing\n",
            "2022-10-07 09:28:18,386 INFO  [LocalJobRunner Map Task Executor #0] mapred.LocalJobRunner (LocalJobRunner.java:statusUpdate(620)) - map\n",
            "2022-10-07 09:28:18,386 INFO  [LocalJobRunner Map Task Executor #0] mapred.Task (Task.java:sendDone(1243)) - Task 'attempt_local529015603_0001_m_000000_0' done.\n",
            "2022-10-07 09:28:18,395 INFO  [LocalJobRunner Map Task Executor #0] mapred.Task (Task.java:done(1139)) - Final Counters for attempt_local529015603_0001_m_000000_0: Counters: 19\n",
            "\tFile System Counters\n",
            "\t\tFILE: Number of bytes read=431943\n",
            "\t\tFILE: Number of bytes written=1014349\n",
            "\t\tFILE: Number of read operations=0\n",
            "\t\tFILE: Number of large read operations=0\n",
            "\t\tFILE: Number of write operations=0\n",
            "\tMap-Reduce Framework\n",
            "\t\tMap input records=3\n",
            "\t\tMap output records=3\n",
            "\t\tInput split bytes=84\n",
            "\t\tSpilled Records=0\n",
            "\t\tFailed Shuffles=0\n",
            "\t\tMerged Map outputs=0\n",
            "\t\tGC time elapsed (ms)=15\n",
            "\t\tCPU time spent (ms)=510\n",
            "\t\tPhysical memory (bytes) snapshot=272371712\n",
            "\t\tVirtual memory (bytes) snapshot=5098602496\n",
            "\t\tTotal committed heap usage (bytes)=206831616\n",
            "\tImportTsv\n",
            "\t\tBad Lines=0\n",
            "\tFile Input Format Counters \n",
            "\t\tBytes Read=74\n",
            "\tFile Output Format Counters \n",
            "\t\tBytes Written=0\n",
            "2022-10-07 09:28:18,396 INFO  [LocalJobRunner Map Task Executor #0] mapred.LocalJobRunner (LocalJobRunner.java:run(276)) - Finishing task: attempt_local529015603_0001_m_000000_0\n",
            "2022-10-07 09:28:18,396 INFO  [Thread-7] mapred.LocalJobRunner (LocalJobRunner.java:runTasks(485)) - map task executor complete.\n",
            "2022-10-07 09:28:18,474 INFO  [ReadOnlyZKClient-127.0.0.1:2181@0x3de0f245] zookeeper.ZooKeeper (ZooKeeper.java:close(1422)) - Session: 0x100000c3c3b0009 closed\n",
            "2022-10-07 09:28:18,474 INFO  [ReadOnlyZKClient-127.0.0.1:2181@0x3de0f245-EventThread] zookeeper.ClientCnxn (ClientCnxn.java:run(524)) - EventThread shut down for session: 0x100000c3c3b0009\n",
            "2022-10-07 09:28:18,848 INFO  [main] mapreduce.Job (Job.java:monitorAndPrintJob(1643)) - Job job_local529015603_0001 running in uber mode : false\n",
            "2022-10-07 09:28:18,850 INFO  [main] mapreduce.Job (Job.java:monitorAndPrintJob(1650)) -  map 100% reduce 0%\n",
            "2022-10-07 09:28:18,855 INFO  [main] mapreduce.Job (Job.java:monitorAndPrintJob(1661)) - Job job_local529015603_0001 completed successfully\n",
            "2022-10-07 09:28:18,869 INFO  [main] mapreduce.Job (Job.java:monitorAndPrintJob(1668)) - Counters: 19\n",
            "\tFile System Counters\n",
            "\t\tFILE: Number of bytes read=431943\n",
            "\t\tFILE: Number of bytes written=1014349\n",
            "\t\tFILE: Number of read operations=0\n",
            "\t\tFILE: Number of large read operations=0\n",
            "\t\tFILE: Number of write operations=0\n",
            "\tMap-Reduce Framework\n",
            "\t\tMap input records=3\n",
            "\t\tMap output records=3\n",
            "\t\tInput split bytes=84\n",
            "\t\tSpilled Records=0\n",
            "\t\tFailed Shuffles=0\n",
            "\t\tMerged Map outputs=0\n",
            "\t\tGC time elapsed (ms)=15\n",
            "\t\tCPU time spent (ms)=510\n",
            "\t\tPhysical memory (bytes) snapshot=272371712\n",
            "\t\tVirtual memory (bytes) snapshot=5098602496\n",
            "\t\tTotal committed heap usage (bytes)=206831616\n",
            "\tImportTsv\n",
            "\t\tBad Lines=0\n",
            "\tFile Input Format Counters \n",
            "\t\tBytes Read=74\n",
            "\tFile Output Format Counters \n",
            "\t\tBytes Written=0\n"
          ]
        }
      ]
    },
    {
      "cell_type": "code",
      "metadata": {
        "colab": {
          "base_uri": "https://localhost:8080/"
        },
        "id": "CSs-MATjgw6p",
        "outputId": "f103e602-8e19-49e3-e462-cc56935aa4f6"
      },
      "source": [
        "!echo \"scan 'cars2'\" | hbase shell -n"
      ],
      "execution_count": 30,
      "outputs": [
        {
          "output_type": "stream",
          "name": "stdout",
          "text": [
            "SLF4J: Class path contains multiple SLF4J bindings.\n",
            "SLF4J: Found binding in [jar:file:/usr/local/hadoop-3.3.3/share/hadoop/common/lib/slf4j-reload4j-1.7.36.jar!/org/slf4j/impl/StaticLoggerBinder.class]\n",
            "SLF4J: Found binding in [jar:file:/content/hbase-2.5.0/lib/client-facing-thirdparty/log4j-slf4j-impl-2.17.2.jar!/org/slf4j/impl/StaticLoggerBinder.class]\n",
            "SLF4J: See http://www.slf4j.org/codes.html#multiple_bindings for an explanation.\n",
            "SLF4J: Actual binding is of type [org.slf4j.impl.Reload4jLoggerFactory]\n",
            "2022-10-07 09:28:38,407 INFO  [main] Configuration.deprecation (Configuration.java:logDeprecation(1294)) - hbase.client.pause.cqtbe is deprecated. Instead, use hbase.client.pause.server.overloaded\n",
            "2022-10-07 09:28:38,511 INFO  [ReadOnlyZKClient-127.0.0.1:2181@0x273dec10] zookeeper.ZooKeeper (Environment.java:logEnv(109)) - Client environment:zookeeper.version=3.5.7-f0fdd52973d373ffd9c86b81d99842dc2c7f660e, built on 02/10/2020 11:30 GMT\n",
            "2022-10-07 09:28:38,512 INFO  [ReadOnlyZKClient-127.0.0.1:2181@0x273dec10] zookeeper.ZooKeeper (Environment.java:logEnv(109)) - Client environment:host.name=284ad1f3a301\n",
            "2022-10-07 09:28:38,512 INFO  [ReadOnlyZKClient-127.0.0.1:2181@0x273dec10] zookeeper.ZooKeeper (Environment.java:logEnv(109)) - Client environment:java.version=1.8.0_342\n",
            "2022-10-07 09:28:38,512 INFO  [ReadOnlyZKClient-127.0.0.1:2181@0x273dec10] zookeeper.ZooKeeper (Environment.java:logEnv(109)) - Client environment:java.vendor=Private Build\n",
            "2022-10-07 09:28:38,512 INFO  [ReadOnlyZKClient-127.0.0.1:2181@0x273dec10] zookeeper.ZooKeeper (Environment.java:logEnv(109)) - Client environment:java.home=/usr/lib/jvm/java-8-openjdk-amd64/jre\n",
            "2022-10-07 09:28:38,512 INFO  [ReadOnlyZKClient-127.0.0.1:2181@0x273dec10] zookeeper.ZooKeeper (Environment.java:logEnv(109)) - Client environment:java.class.path=/content/hbase-2.5.0//lib/ruby/jruby-complete-9.2.13.0.jar:/content/hbase-2.5.0//conf:/usr/lib/jvm/java-8-openjdk-amd64/lib/tools.jar:/content/hbase-2.5.0/:/content/hbase-2.5.0//lib/agrona-1.12.0.jar:/content/hbase-2.5.0//lib/aircompressor-0.21.jar:/content/hbase-2.5.0//lib/aopalliance-1.0.jar:/content/hbase-2.5.0//lib/apacheds-i18n-2.0.0-M15.jar:/content/hbase-2.5.0//lib/apacheds-kerberos-codec-2.0.0-M15.jar:/content/hbase-2.5.0//lib/api-asn1-api-1.0.0-M20.jar:/content/hbase-2.5.0//lib/api-i18n-1.0.0-M20.jar:/content/hbase-2.5.0//lib/api-util-1.0.0-M20.jar:/content/hbase-2.5.0//lib/asm-3.1.jar:/content/hbase-2.5.0//lib/avro-1.11.0.jar:/content/hbase-2.5.0//lib/brotli4j-1.7.1.jar:/content/hbase-2.5.0//lib/byte-buddy-1.9.10.jar:/content/hbase-2.5.0//lib/byte-buddy-agent-1.9.10.jar:/content/hbase-2.5.0//lib/caffeine-2.8.1.jar:/content/hbase-2.5.0//lib/checker-qual-3.1.0.jar:/content/hbase-2.5.0//lib/commons-cli-1.2.jar:/content/hbase-2.5.0//lib/commons-codec-1.13.jar:/content/hbase-2.5.0//lib/commons-collections-3.2.2.jar:/content/hbase-2.5.0//lib/commons-compress-1.21.jar:/content/hbase-2.5.0//lib/commons-configuration-1.6.jar:/content/hbase-2.5.0//lib/commons-crypto-1.1.0.jar:/content/hbase-2.5.0//lib/commons-csv-1.0.jar:/content/hbase-2.5.0//lib/commons-daemon-1.0.13.jar:/content/hbase-2.5.0//lib/commons-digester-1.8.jar:/content/hbase-2.5.0//lib/commons-io-2.11.0.jar:/content/hbase-2.5.0//lib/commons-lang-2.6.jar:/content/hbase-2.5.0//lib/commons-lang3-3.9.jar:/content/hbase-2.5.0//lib/commons-math3-3.6.1.jar:/content/hbase-2.5.0//lib/commons-net-3.1.jar:/content/hbase-2.5.0//lib/curator-client-4.2.0.jar:/content/hbase-2.5.0//lib/curator-framework-4.2.0.jar:/content/hbase-2.5.0//lib/curator-recipes-4.2.0.jar:/content/hbase-2.5.0//lib/disruptor-3.4.2.jar:/content/hbase-2.5.0//lib/ehcache-3.3.1.jar:/content/hbase-2.5.0//lib/error_prone_annotations-2.14.0.jar:/content/hbase-2.5.0//lib/fst-2.50.jar:/content/hbase-2.5.0//lib/geronimo-jcache_1.0_spec-1.0-alpha-1.jar:/content/hbase-2.5.0//lib/gson-2.2.4.jar:/content/hbase-2.5.0//lib/guava-11.0.2.jar:/content/hbase-2.5.0//lib/guice-3.0.jar:/content/hbase-2.5.0//lib/guice-servlet-3.0.jar:/content/hbase-2.5.0//lib/hadoop-annotations-2.10.2.jar:/content/hbase-2.5.0//lib/hadoop-auth-2.10.2.jar:/content/hbase-2.5.0//lib/hadoop-client-2.10.2.jar:/content/hbase-2.5.0//lib/hadoop-common-2.10.2.jar:/content/hbase-2.5.0//lib/hadoop-distcp-2.10.2.jar:/content/hbase-2.5.0//lib/hadoop-hdfs-2.10.2.jar:/content/hbase-2.5.0//lib/hadoop-hdfs-2.10.2-tests.jar:/content/hbase-2.5.0//lib/hadoop-hdfs-client-2.10.2.jar:/content/hbase-2.5.0//lib/hadoop-mapreduce-client-app-2.10.2.jar:/content/hbase-2.5.0//lib/hadoop-mapreduce-client-common-2.10.2.jar:/content/hbase-2.5.0//lib/hadoop-mapreduce-client-core-2.10.2.jar:/content/hbase-2.5.0//lib/hadoop-mapreduce-client-hs-2.10.2.jar:/content/hbase-2.5.0//lib/hadoop-mapreduce-client-jobclient-2.10.2.jar:/content/hbase-2.5.0//lib/hadoop-mapreduce-client-shuffle-2.10.2.jar:/content/hbase-2.5.0//lib/hadoop-minicluster-2.10.2.jar:/content/hbase-2.5.0//lib/hadoop-yarn-api-2.10.2.jar:/content/hbase-2.5.0//lib/hadoop-yarn-client-2.10.2.jar:/content/hbase-2.5.0//lib/hadoop-yarn-common-2.10.2.jar:/content/hbase-2.5.0//lib/hadoop-yarn-registry-2.10.2.jar:/content/hbase-2.5.0//lib/hadoop-yarn-server-applicationhistoryservice-2.10.2.jar:/content/hbase-2.5.0//lib/hadoop-yarn-server-common-2.10.2.jar:/content/hbase-2.5.0//lib/hadoop-yarn-server-nodemanager-2.10.2.jar:/content/hbase-2.5.0//lib/hadoop-yarn-server-resourcemanager-2.10.2.jar:/content/hbase-2.5.0//lib/hadoop-yarn-server-tests-2.10.2-tests.jar:/content/hbase-2.5.0//lib/hadoop-yarn-server-timelineservice-2.10.2.jar:/content/hbase-2.5.0//lib/hadoop-yarn-server-web-proxy-2.10.2.jar:/content/hbase-2.5.0//lib/hamcrest-core-1.3.jar:/content/hbase-2.5.0//lib/hbase-annotations-2.5.0.jar:/content/hbase-2.5.0//lib/hbase-annotations-2.5.0-tests.jar:/content/hbase-2.5.0//lib/hbase-asyncfs-2.5.0.jar:/content/hbase-2.5.0//lib/hbase-asyncfs-2.5.0-tests.jar:/content/hbase-2.5.0//lib/hbase-client-2.5.0.jar:/content/hbase-2.5.0//lib/hbase-common-2.5.0.jar:/content/hbase-2.5.0//lib/hbase-common-2.5.0-tests.jar:/content/hbase-2.5.0//lib/hbase-compression-aircompressor-2.5.0.jar:/content/hbase-2.5.0//lib/hbase-compression-brotli-2.5.0.jar:/content/hbase-2.5.0//lib/hbase-compression-lz4-2.5.0.jar:/content/hbase-2.5.0//lib/hbase-compression-snappy-2.5.0.jar:/content/hbase-2.5.0//lib/hbase-compression-xz-2.5.0.jar:/content/hbase-2.5.0//lib/hbase-compression-zstd-2.5.0.jar:/content/hbase-2.5.0//lib/hbase-endpoint-2.5.0.jar:/content/hbase-2.5.0//lib/hbase-examples-2.5.0.jar:/content/hbase-2.5.0//lib/hbase-external-blockcache-2.5.0.jar:/content/hbase-2.5.0//lib/hbase-hadoop2-compat-2.5.0.jar:/content/hbase-2.5.0//lib/hbase-hadoop2-compat-2.5.0-tests.jar:/content/hbase-2.5.0//lib/hbase-hadoop-compat-2.5.0.jar:/content/hbase-2.5.0//lib/hbase-hadoop-compat-2.5.0-tests.jar:/content/hbase-2.5.0//lib/hbase-hbtop-2.5.0.jar:/content/hbase-2.5.0//lib/hbase-http-2.5.0.jar:/content/hbase-2.5.0//lib/hbase-it-2.5.0.jar:/content/hbase-2.5.0//lib/hbase-it-2.5.0-tests.jar:/content/hbase-2.5.0//lib/hbase-logging-2.5.0.jar:/content/hbase-2.5.0//lib/hbase-mapreduce-2.5.0.jar:/content/hbase-2.5.0//lib/hbase-mapreduce-2.5.0-tests.jar:/content/hbase-2.5.0//lib/hbase-metrics-2.5.0.jar:/content/hbase-2.5.0//lib/hbase-metrics-api-2.5.0.jar:/content/hbase-2.5.0//lib/hbase-procedure-2.5.0.jar:/content/hbase-2.5.0//lib/hbase-procedure-2.5.0-tests.jar:/content/hbase-2.5.0//lib/hbase-protocol-2.5.0.jar:/content/hbase-2.5.0//lib/hbase-protocol-shaded-2.5.0.jar:/content/hbase-2.5.0//lib/hbase-replication-2.5.0.jar:/content/hbase-2.5.0//lib/hbase-resource-bundle-2.5.0.jar:/content/hbase-2.5.0//lib/hbase-rest-2.5.0.jar:/content/hbase-2.5.0//lib/hbase-rsgroup-2.5.0.jar:/content/hbase-2.5.0//lib/hbase-rsgroup-2.5.0-tests.jar:/content/hbase-2.5.0//lib/hbase-server-2.5.0.jar:/content/hbase-2.5.0//lib/hbase-server-2.5.0-tests.jar:/content/hbase-2.5.0//lib/hbase-shaded-gson-4.1.1.jar:/content/hbase-2.5.0//lib/hbase-shaded-jackson-jaxrs-json-provider-4.1.1.jar:/content/hbase-2.5.0//lib/hbase-shaded-jersey-4.1.1.jar:/content/hbase-2.5.0//lib/hbase-shaded-jetty-4.1.1.jar:/content/hbase-2.5.0//lib/hbase-shaded-miscellaneous-4.1.1.jar:/content/hbase-2.5.0//lib/hbase-shaded-netty-4.1.1.jar:/content/hbase-2.5.0//lib/hbase-shaded-protobuf-4.1.1.jar:/content/hbase-2.5.0//lib/hbase-shell-2.5.0.jar:/content/hbase-2.5.0//lib/hbase-testing-util-2.5.0.jar:/content/hbase-2.5.0//lib/hbase-thrift-2.5.0.jar:/content/hbase-2.5.0//lib/hbase-unsafe-4.1.1.jar:/content/hbase-2.5.0//lib/hbase-zookeeper-2.5.0.jar:/content/hbase-2.5.0//lib/hbase-zookeeper-2.5.0-tests.jar:/content/hbase-2.5.0//lib/HikariCP-java7-2.4.12.jar:/content/hbase-2.5.0//lib/httpclient-4.5.13.jar:/content/hbase-2.5.0//lib/httpcore-4.4.13.jar:/content/hbase-2.5.0//lib/jackson-annotations-2.13.3.jar:/content/hbase-2.5.0//lib/jackson-core-2.13.3.jar:/content/hbase-2.5.0//lib/jackson-core-asl-1.9.13.jar:/content/hbase-2.5.0//lib/jackson-databind-2.13.3.jar:/content/hbase-2.5.0//lib/jackson-mapper-asl-1.9.13.jar:/content/hbase-2.5.0//lib/jackson-module-jaxb-annotations-2.13.3.jar:/content/hbase-2.5.0//lib/jakarta.inject-2.6.1.jar:/content/hbase-2.5.0//lib/jakarta.validation-api-2.0.2.jar:/content/hbase-2.5.0//lib/jamon-runtime-2.4.1.jar:/content/hbase-2.5.0//lib/javassist-3.25.0-GA.jar:/content/hbase-2.5.0//lib/java-util-1.9.0.jar:/content/hbase-2.5.0//lib/javax.activation-api-1.2.0.jar:/content/hbase-2.5.0//lib/javax.annotation-api-1.2.jar:/content/hbase-2.5.0//lib/javax.el-3.0.1-b08.jar:/content/hbase-2.5.0//lib/java-xmlbuilder-0.4.jar:/content/hbase-2.5.0//lib/javax.servlet-api-3.1.0.jar:/content/hbase-2.5.0//lib/javax.servlet.jsp-2.3.2.jar:/content/hbase-2.5.0//lib/javax.servlet.jsp-api-2.3.1.jar:/content/hbase-2.5.0//lib/javax.ws.rs-api-2.1.1.jar:/content/hbase-2.5.0//lib/jaxb-api-2.3.1.jar:/content/hbase-2.5.0//lib/jaxb-impl-2.2.3-1.jar:/content/hbase-2.5.0//lib/jcip-annotations-1.0-1.jar:/content/hbase-2.5.0//lib/jcodings-1.0.55.jar:/content/hbase-2.5.0//lib/jets3t-0.9.0.jar:/content/hbase-2.5.0//lib/jettison-1.3.8.jar:/content/hbase-2.5.0//lib/jetty-6.1.26.jar:/content/hbase-2.5.0//lib/jetty-sslengine-6.1.26.jar:/content/hbase-2.5.0//lib/jetty-util-6.1.26.jar:/content/hbase-2.5.0//lib/joni-2.1.31.jar:/content/hbase-2.5.0//lib/jsch-0.1.55.jar:/content/hbase-2.5.0//lib/json-io-2.5.1.jar:/content/hbase-2.5.0//lib/jsr311-api-1.1.1.jar:/content/hbase-2.5.0//lib/junit-4.13.2.jar:/content/hbase-2.5.0//lib/leveldbjni-all-1.8.jar:/content/hbase-2.5.0//lib/libthrift-0.14.1.jar:/content/hbase-2.5.0//lib/lz4-java-1.8.0.jar:/content/hbase-2.5.0//lib/metrics-core-3.0.1.jar:/content/hbase-2.5.0//lib/metrics-core-3.2.6.jar:/content/hbase-2.5.0//lib/mockito-core-2.28.2.jar:/content/hbase-2.5.0//lib/mssql-jdbc-6.2.1.jre7.jar:/content/hbase-2.5.0//lib/native-linux-x86_64-1.7.1.jar:/content/hbase-2.5.0//lib/netty-buffer-4.1.45.Final.jar:/content/hbase-2.5.0//lib/netty-codec-4.1.45.Final.jar:/content/hbase-2.5.0//lib/netty-common-4.1.45.Final.jar:/content/hbase-2.5.0//lib/netty-handler-4.1.45.Final.jar:/content/hbase-2.5.0//lib/netty-resolver-4.1.45.Final.jar:/content/hbase-2.5.0//lib/netty-transport-4.1.45.Final.jar:/content/hbase-2.5.0//lib/netty-transport-native-epoll-4.1.45.Final.jar:/content/hbase-2.5.0//lib/netty-transport-native-unix-common-4.1.45.Final.jar:/content/hbase-2.5.0//lib/nimbus-jose-jwt-7.9.jar:/content/hbase-2.5.0//lib/objenesis-2.6.jar:/content/hbase-2.5.0//lib/okhttp-2.7.5.jar:/content/hbase-2.5.0//lib/okio-1.6.0.jar:/content/hbase-2.5.0//lib/opentelemetry-api-1.15.0.jar:/content/hbase-2.5.0//lib/opentelemetry-context-1.15.0.jar:/content/hbase-2.5.0//lib/opentelemetry-semconv-1.15.0-alpha.jar:/content/hbase-2.5.0//lib/protobuf-java-2.5.0.jar:/content/hbase-2.5.0//lib/snappy-java-1.1.8.4.jar:/content/hbase-2.5.0//lib/spymemcached-2.12.2.jar:/content/hbase-2.5.0//lib/stax2-api-4.2.1.jar:/content/hbase-2.5.0//lib/woodstox-core-5.3.0.jar:/content/hbase-2.5.0//lib/xmlenc-0.52.jar:/content/hbase-2.5.0//lib/xz-1.9.jar:/content/hbase-2.5.0//lib/zookeeper-3.5.7.jar:/content/hbase-2.5.0//lib/zookeeper-jute-3.5.7.jar:/content/hbase-2.5.0//lib/zstd-jni-1.5.0-4.jar:/content/hbase-2.5.0//lib/client-facing-thirdparty/audience-annotations-0.5.0.jar:/content/hbase-2.5.0//lib/client-facing-thirdparty/commons-logging-1.2.jar:/content/hbase-2.5.0//lib/client-facing-thirdparty/htrace-core4-4.1.0-incubating.jar:/content/hbase-2.5.0//lib/client-facing-thirdparty/jcl-over-slf4j-1.7.33.jar:/content/hbase-2.5.0//lib/client-facing-thirdparty/jul-to-slf4j-1.7.33.jar:/content/hbase-2.5.0//lib/client-facing-thirdparty/opentelemetry-api-1.15.0.jar:/content/hbase-2.5.0//lib/client-facing-thirdparty/opentelemetry-context-1.15.0.jar:/content/hbase-2.5.0//lib/client-facing-thirdparty/opentelemetry-semconv-1.15.0-alpha.jar:/usr/local/hadoop-3.3.3//etc/hadoop:/usr/local/hadoop-3.3.3//share/hadoop/common/lib/jsp-api-2.1.jar:/usr/local/hadoop-3.3.3//share/hadoop/common/lib/kerb-identity-1.0.1.jar:/usr/local/hadoop-3.3.3//share/hadoop/common/lib/paranamer-2.3.jar:/usr/local/hadoop-3.3.3//share/hadoop/common/lib/accessors-smart-2.4.7.jar:/usr/local/hadoop-3.3.3//share/hadoop/common/lib/commons-io-2.8.0.jar:/usr/local/hadoop-3.3.3//share/hadoop/common/lib/jackson-core-asl-1.9.13.jar:/usr/local/hadoop-3.3.3//share/hadoop/common/lib/jackson-mapper-asl-1.9.13.jar:/usr/local/hadoop-3.3.3//share/hadoop/common/lib/jackson-databind-2.13.2.2.jar:/usr/local/hadoop-3.3.3//share/hadoop/common/lib/kerb-server-1.0.1.jar:/usr/local/hadoop-3.3.3//share/hadoop/common/lib/hadoop-annotations-3.3.3.jar:/usr/local/hadoop-3.3.3//share/hadoop/common/lib/metrics-core-3.2.4.jar:/usr/local/hadoop-3.3.3//share/hadoop/common/lib/jsr305-3.0.2.jar:/usr/local/hadoop-3.3.3//share/hadoop/common/lib/kerb-util-1.0.1.jar:/usr/local/hadoop-3.3.3//share/hadoop/common/lib/jaxb-api-2.2.11.jar:/usr/local/hadoop-3.3.3//share/hadoop/common/lib/token-provider-1.0.1.jar:/usr/local/hadoop-3.3.3//share/hadoop/common/lib/zookeeper-3.5.6.jar:/usr/local/hadoop-3.3.3//share/hadoop/common/lib/json-smart-2.4.7.jar:/usr/local/hadoop-3.3.3//share/hadoop/common/lib/jackson-xc-1.9.13.jar:/usr/local/hadoop-3.3.3//share/hadoop/common/lib/jackson-annotations-2.13.2.jar:/usr/local/hadoop-3.3.3//share/hadoop/common/lib/commons-daemon-1.0.13.jar:/usr/local/hadoop-3.3.3//share/hadoop/common/lib/kerb-simplekdc-1.0.1.jar:/usr/local/hadoop-3.3.3//share/hadoop/common/lib/jetty-http-9.4.43.v20210629.jar:/usr/local/hadoop-3.3.3//share/hadoop/common/lib/protobuf-java-2.5.0.jar:/usr/local/hadoop-3.3.3//share/hadoop/common/lib/gson-2.8.9.jar:/usr/local/hadoop-3.3.3//share/hadoop/common/lib/commons-beanutils-1.9.4.jar:/usr/local/hadoop-3.3.3//share/hadoop/common/lib/curator-recipes-4.2.0.jar:/usr/local/hadoop-3.3.3//share/hadoop/common/lib/jetty-io-9.4.43.v20210629.jar:/usr/local/hadoop-3.3.3//share/hadoop/common/lib/kerb-core-1.0.1.jar:/usr/local/hadoop-3.3.3//share/hadoop/common/lib/commons-cli-1.2.jar:/usr/local/hadoop-3.3.3//share/hadoop/common/lib/curator-framework-4.2.0.jar:/usr/local/hadoop-3.3.3//share/hadoop/common/lib/commons-collections-3.2.2.jar:/usr/local/hadoop-3.3.3//share/hadoop/common/lib/jettison-1.1.jar:/usr/local/hadoop-3.3.3//share/hadoop/common/lib/kerby-asn1-1.0.1.jar:/usr/local/hadoop-3.3.3//share/hadoop/common/lib/jetty-util-9.4.43.v20210629.jar:/usr/local/hadoop-3.3.3//share/hadoop/common/lib/commons-compress-1.21.jar:/usr/local/hadoop-3.3.3//share/hadoop/common/lib/reload4j-1.2.18.3.jar:/usr/local/hadoop-3.3.3//share/hadoop/common/lib/jackson-core-2.13.2.jar:/usr/local/hadoop-3.3.3//share/hadoop/common/lib/commons-configuration2-2.1.1.jar:/usr/local/hadoop-3.3.3//share/hadoop/common/lib/commons-logging-1.1.3.jar:/usr/local/hadoop-3.3.3//share/hadoop/common/lib/jetty-webapp-9.4.43.v20210629.jar:/usr/local/hadoop-3.3.3//share/hadoop/common/lib/jsr311-api-1.1.1.jar:/usr/local/hadoop-3.3.3//share/hadoop/common/lib/netty-3.10.6.Final.jar:/usr/local/hadoop-3.3.3//share/hadoop/common/lib/jsch-0.1.55.jar:/usr/local/hadoop-3.3.3//share/hadoop/common/lib/kerb-common-1.0.1.jar:/usr/local/hadoop-3.3.3//share/hadoop/common/lib/jersey-json-1.19.jar:/usr/local/hadoop-3.3.3//share/hadoop/common/lib/commons-text-1.4.jar:/usr/local/hadoop-3.3.3//share/hadoop/common/lib/jetty-server-9.4.43.v20210629.jar:/usr/local/hadoop-3.3.3//share/hadoop/common/lib/kerby-config-1.0.1.jar:/usr/local/hadoop-3.3.3//share/hadoop/common/lib/jetty-servlet-9.4.43.v20210629.jar:/usr/local/hadoop-3.3.3//share/hadoop/common/lib/commons-math3-3.1.1.jar:/usr/local/hadoop-3.3.3//share/hadoop/common/lib/re2j-1.1.jar:/usr/local/hadoop-3.3.3//share/hadoop/common/lib/zookeeper-jute-3.5.6.jar:/usr/local/hadoop-3.3.3//share/hadoop/common/lib/hadoop-shaded-guava-1.1.1.jar:/usr/local/hadoop-3.3.3//share/hadoop/common/lib/jersey-core-1.19.jar:/usr/local/hadoop-3.3.3//share/hadoop/common/lib/jersey-servlet-1.19.jar:/usr/local/hadoop-3.3.3//share/hadoop/common/lib/kerby-pkix-1.0.1.jar:/usr/local/hadoop-3.3.3//share/hadoop/common/lib/jaxb-impl-2.2.3-1.jar:/usr/local/hadoop-3.3.3//share/hadoop/common/lib/curator-client-4.2.0.jar:/usr/local/hadoop-3.3.3//share/hadoop/common/lib/jackson-jaxrs-1.9.13.jar:/usr/local/hadoop-3.3.3//share/hadoop/common/lib/kerby-util-1.0.1.jar:/usr/local/hadoop-3.3.3//share/hadoop/common/lib/javax.servlet-api-3.1.0.jar:/usr/local/hadoop-3.3.3//share/hadoop/common/lib/listenablefuture-9999.0-empty-to-avoid-conflict-with-guava.jar:/usr/local/hadoop-3.3.3//share/hadoop/common/lib/failureaccess-1.0.jar:/usr/local/hadoop-3.3.3//share/hadoop/common/lib/checker-qual-2.5.2.jar:/usr/local/hadoop-3.3.3//share/hadoop/common/lib/animal-sniffer-annotations-1.17.jar:/usr/local/hadoop-3.3.3//share/hadoop/common/lib/dnsjava-2.1.7.jar:/usr/local/hadoop-3.3.3//share/hadoop/common/lib/slf4j-reload4j-1.7.36.jar:/usr/local/hadoop-3.3.3//share/hadoop/common/lib/nimbus-jose-jwt-9.8.1.jar:/usr/local/hadoop-3.3.3//share/hadoop/common/lib/kerb-admin-1.0.1.jar:/usr/local/hadoop-3.3.3//share/hadoop/common/lib/jcip-annotations-1.0-1.jar:/usr/local/hadoop-3.3.3//share/hadoop/common/lib/audience-annotations-0.5.0.jar:/usr/local/hadoop-3.3.3//share/hadoop/common/lib/jersey-server-1.19.jar:/usr/local/hadoop-3.3.3//share/hadoop/common/lib/hadoop-shaded-protobuf_3_7-1.1.1.jar:/usr/local/hadoop-3.3.3//share/hadoop/common/lib/jetty-security-9.4.43.v20210629.jar:/usr/local/hadoop-3.3.3//share/hadoop/common/lib/httpclient-4.5.13.jar:/usr/local/hadoop-3.3.3//share/hadoop/common/lib/kerby-xdr-1.0.1.jar:/usr/local/hadoop-3.3.3//share/hadoop/common/lib/jetty-util-ajax-9.4.43.v20210629.jar:/usr/local/hadoop-3.3.3//share/hadoop/common/lib/jetty-xml-9.4.43.v20210629.jar:/usr/local/hadoop-3.3.3//share/hadoop/common/lib/jul-to-slf4j-1.7.36.jar:/usr/local/hadoop-3.3.3//share/hadoop/common/lib/httpcore-4.4.13.jar:/usr/local/hadoop-3.3.3//share/hadoop/common/lib/snappy-java-1.1.8.2.jar:/usr/local/hadoop-3.3.3//share/hadoop/common/lib/jakarta.activation-api-1.2.1.jar:/usr/local/hadoop-3.3.3//share/hadoop/common/lib/asm-5.0.4.jar:/usr/local/hadoop-3.3.3//share/hadoop/common/lib/woodstox-core-5.3.0.jar:/usr/local/hadoop-3.3.3//share/hadoop/common/lib/hadoop-auth-3.3.3.jar:/usr/local/hadoop-3.3.3//share/hadoop/common/lib/j2objc-annotations-1.1.jar:/usr/local/hadoop-3.3.3//share/hadoop/common/lib/stax2-api-4.2.1.jar:/usr/local/hadoop-3.3.3//share/hadoop/common/lib/commons-net-3.6.jar:/usr/local/hadoop-3.3.3//share/hadoop/common/lib/avro-1.7.7.jar:/usr/local/hadoop-3.3.3//share/hadoop/common/lib/kerb-client-1.0.1.jar:/usr/local/hadoop-3.3.3//share/hadoop/common/lib/guava-27.0-jre.jar:/usr/local/hadoop-3.3.3//share/hadoop/common/lib/slf4j-api-1.7.36.jar:/usr/local/hadoop-3.3.3//share/hadoop/common/lib/kerb-crypto-1.0.1.jar:/usr/local/hadoop-3.3.3//share/hadoop/common/lib/commons-codec-1.15.jar:/usr/local/hadoop-3.3.3//share/hadoop/common/lib/commons-lang3-3.12.0.jar:/usr/local/hadoop-3.3.3//share/hadoop/common/hadoop-kms-3.3.3.jar:/usr/local/hadoop-3.3.3//share/hadoop/common/hadoop-registry-3.3.3.jar:/usr/local/hadoop-3.3.3//share/hadoop/common/hadoop-common-3.3.3-tests.jar:/usr/local/hadoop-3.3.3//share/hadoop/common/hadoop-common-3.3.3.jar:/usr/local/hadoop-3.3.3//share/hadoop/common/hadoop-nfs-3.3.3.jar:/usr/local/hadoop-3.3.3//share/hadoop/hdfs:/usr/local/hadoop-3.3.3//share/hadoop/hdfs/lib/kerb-identity-1.0.1.jar:/usr/local/hadoop-3.3.3//share/hadoop/hdfs/lib/paranamer-2.3.jar:/usr/local/hadoop-3.3.3//share/hadoop/hdfs/lib/accessors-smart-2.4.7.jar:/usr/local/hadoop-3.3.3//share/hadoop/hdfs/lib/commons-io-2.8.0.jar:/usr/local/hadoop-3.3.3//share/hadoop/hdfs/lib/jackson-core-asl-1.9.13.jar:/usr/local/hadoop-3.3.3//share/hadoop/hdfs/lib/jackson-mapper-asl-1.9.13.jar:/usr/local/hadoop-3.3.3//share/hadoop/hdfs/lib/jackson-databind-2.13.2.2.jar:/usr/local/hadoop-3.3.3//share/hadoop/hdfs/lib/kerb-server-1.0.1.jar:/usr/local/hadoop-3.3.3//share/hadoop/hdfs/lib/json-simple-1.1.1.jar:/usr/local/hadoop-3.3.3//share/hadoop/hdfs/lib/hadoop-annotations-3.3.3.jar:/usr/local/hadoop-3.3.3//share/hadoop/hdfs/lib/jsr305-3.0.2.jar:/usr/local/hadoop-3.3.3//share/hadoop/hdfs/lib/kerb-util-1.0.1.jar:/usr/local/hadoop-3.3.3//share/hadoop/hdfs/lib/jaxb-api-2.2.11.jar:/usr/local/hadoop-3.3.3//share/hadoop/hdfs/lib/token-provider-1.0.1.jar:/usr/local/hadoop-3.3.3//share/hadoop/hdfs/lib/zookeeper-3.5.6.jar:/usr/local/hadoop-3.3.3//share/hadoop/hdfs/lib/json-smart-2.4.7.jar:/usr/local/hadoop-3.3.3//share/hadoop/hdfs/lib/jackson-xc-1.9.13.jar:/usr/local/hadoop-3.3.3//share/hadoop/hdfs/lib/jackson-annotations-2.13.2.jar:/usr/local/hadoop-3.3.3//share/hadoop/hdfs/lib/commons-daemon-1.0.13.jar:/usr/local/hadoop-3.3.3//share/hadoop/hdfs/lib/kerb-simplekdc-1.0.1.jar:/usr/local/hadoop-3.3.3//share/hadoop/hdfs/lib/jetty-http-9.4.43.v20210629.jar:/usr/local/hadoop-3.3.3//share/hadoop/hdfs/lib/protobuf-java-2.5.0.jar:/usr/local/hadoop-3.3.3//share/hadoop/hdfs/lib/gson-2.8.9.jar:/usr/local/hadoop-3.3.3//share/hadoop/hdfs/lib/commons-beanutils-1.9.4.jar:/usr/local/hadoop-3.3.3//share/hadoop/hdfs/lib/curator-recipes-4.2.0.jar:/usr/local/hadoop-3.3.3//share/hadoop/hdfs/lib/jetty-io-9.4.43.v20210629.jar:/usr/local/hadoop-3.3.3//share/hadoop/hdfs/lib/kerb-core-1.0.1.jar:/usr/local/hadoop-3.3.3//share/hadoop/hdfs/lib/commons-cli-1.2.jar:/usr/local/hadoop-3.3.3//share/hadoop/hdfs/lib/curator-framework-4.2.0.jar:/usr/local/hadoop-3.3.3//share/hadoop/hdfs/lib/commons-collections-3.2.2.jar:/usr/local/hadoop-3.3.3//share/hadoop/hdfs/lib/jettison-1.1.jar:/usr/local/hadoop-3.3.3//share/hadoop/hdfs/lib/kerby-asn1-1.0.1.jar:/usr/local/hadoop-3.3.3//share/hadoop/hdfs/lib/jetty-util-9.4.43.v20210629.jar:/usr/local/hadoop-3.3.3//share/hadoop/hdfs/lib/commons-compress-1.21.jar:/usr/local/hadoop-3.3.3//share/hadoop/hdfs/lib/reload4j-1.2.18.3.jar:/usr/local/hadoop-3.3.3//share/hadoop/hdfs/lib/jackson-core-2.13.2.jar:/usr/local/hadoop-3.3.3//share/hadoop/hdfs/lib/commons-configuration2-2.1.1.jar:/usr/local/hadoop-3.3.3//share/hadoop/hdfs/lib/commons-logging-1.1.3.jar:/usr/local/hadoop-3.3.3//share/hadoop/hdfs/lib/jetty-webapp-9.4.43.v20210629.jar:/usr/local/hadoop-3.3.3//share/hadoop/hdfs/lib/jsr311-api-1.1.1.jar:/usr/local/hadoop-3.3.3//share/hadoop/hdfs/lib/netty-3.10.6.Final.jar:/usr/local/hadoop-3.3.3//share/hadoop/hdfs/lib/jsch-0.1.55.jar:/usr/local/hadoop-3.3.3//share/hadoop/hdfs/lib/kerb-common-1.0.1.jar:/usr/local/hadoop-3.3.3//share/hadoop/hdfs/lib/jersey-json-1.19.jar:/usr/local/hadoop-3.3.3//share/hadoop/hdfs/lib/commons-text-1.4.jar:/usr/local/hadoop-3.3.3//share/hadoop/hdfs/lib/jetty-server-9.4.43.v20210629.jar:/usr/local/hadoop-3.3.3//share/hadoop/hdfs/lib/kerby-config-1.0.1.jar:/usr/local/hadoop-3.3.3//share/hadoop/hdfs/lib/jetty-servlet-9.4.43.v20210629.jar:/usr/local/hadoop-3.3.3//share/hadoop/hdfs/lib/commons-math3-3.1.1.jar:/usr/local/hadoop-3.3.3//share/hadoop/hdfs/lib/okio-1.6.0.jar:/usr/local/hadoop-3.3.3//share/hadoop/hdfs/lib/re2j-1.1.jar:/usr/local/hadoop-3.3.3//share/hadoop/hdfs/lib/zookeeper-jute-3.5.6.jar:/usr/local/hadoop-3.3.3//share/hadoop/hdfs/lib/hadoop-shaded-guava-1.1.1.jar:/usr/local/hadoop-3.3.3//share/hadoop/hdfs/lib/jersey-core-1.19.jar:/usr/local/hadoop-3.3.3//share/hadoop/hdfs/lib/jersey-servlet-1.19.jar:/usr/local/hadoop-3.3.3//share/hadoop/hdfs/lib/kerby-pkix-1.0.1.jar:/usr/local/hadoop-3.3.3//share/hadoop/hdfs/lib/jaxb-impl-2.2.3-1.jar:/usr/local/hadoop-3.3.3//share/hadoop/hdfs/lib/curator-client-4.2.0.jar:/usr/local/hadoop-3.3.3//share/hadoop/hdfs/lib/jackson-jaxrs-1.9.13.jar:/usr/local/hadoop-3.3.3//share/hadoop/hdfs/lib/kerby-util-1.0.1.jar:/usr/local/hadoop-3.3.3//share/hadoop/hdfs/lib/javax.servlet-api-3.1.0.jar:/usr/local/hadoop-3.3.3//share/hadoop/hdfs/lib/listenablefuture-9999.0-empty-to-avoid-conflict-with-guava.jar:/usr/local/hadoop-3.3.3//share/hadoop/hdfs/lib/failureaccess-1.0.jar:/usr/local/hadoop-3.3.3//share/hadoop/hdfs/lib/checker-qual-2.5.2.jar:/usr/local/hadoop-3.3.3//share/hadoop/hdfs/lib/animal-sniffer-annotations-1.17.jar:/usr/local/hadoop-3.3.3//share/hadoop/hdfs/lib/leveldbjni-all-1.8.jar:/usr/local/hadoop-3.3.3//share/hadoop/hdfs/lib/dnsjava-2.1.7.jar:/usr/local/hadoop-3.3.3//share/hadoop/hdfs/lib/nimbus-jose-jwt-9.8.1.jar:/usr/local/hadoop-3.3.3//share/hadoop/hdfs/lib/kerb-admin-1.0.1.jar:/usr/local/hadoop-3.3.3//share/hadoop/hdfs/lib/jcip-annotations-1.0-1.jar:/usr/local/hadoop-3.3.3//share/hadoop/hdfs/lib/audience-annotations-0.5.0.jar:/usr/local/hadoop-3.3.3//share/hadoop/hdfs/lib/okhttp-2.7.5.jar:/usr/local/hadoop-3.3.3//share/hadoop/hdfs/lib/jersey-server-1.19.jar:/usr/local/hadoop-3.3.3//share/hadoop/hdfs/lib/hadoop-shaded-protobuf_3_7-1.1.1.jar:/usr/local/hadoop-3.3.3//share/hadoop/hdfs/lib/netty-all-4.1.68.Final.jar:/usr/local/hadoop-3.3.3//share/hadoop/hdfs/lib/jetty-security-9.4.43.v20210629.jar:/usr/local/hadoop-3.3.3//share/hadoop/hdfs/lib/httpclient-4.5.13.jar:/usr/local/hadoop-3.3.3//share/hadoop/hdfs/lib/kerby-xdr-1.0.1.jar:/usr/local/hadoop-3.3.3//share/hadoop/hdfs/lib/jetty-util-ajax-9.4.43.v20210629.jar:/usr/local/hadoop-3.3.3//share/hadoop/hdfs/lib/jetty-xml-9.4.43.v20210629.jar:/usr/local/hadoop-3.3.3//share/hadoop/hdfs/lib/httpcore-4.4.13.jar:/usr/local/hadoop-3.3.3//share/hadoop/hdfs/lib/snappy-java-1.1.8.2.jar:/usr/local/hadoop-3.3.3//share/hadoop/hdfs/lib/jakarta.activation-api-1.2.1.jar:/usr/local/hadoop-3.3.3//share/hadoop/hdfs/lib/asm-5.0.4.jar:/usr/local/hadoop-3.3.3//share/hadoop/hdfs/lib/woodstox-core-5.3.0.jar:/usr/local/hadoop-3.3.3//share/hadoop/hdfs/lib/hadoop-auth-3.3.3.jar:/usr/local/hadoop-3.3.3//share/hadoop/hdfs/lib/j2objc-annotations-1.1.jar:/usr/local/hadoop-3.3.3//share/hadoop/hdfs/lib/stax2-api-4.2.1.jar:/usr/local/hadoop-3.3.3//share/hadoop/hdfs/lib/commons-net-3.6.jar:/usr/local/hadoop-3.3.3//share/hadoop/hdfs/lib/avro-1.7.7.jar:/usr/local/hadoop-3.3.3//share/hadoop/hdfs/lib/kerb-client-1.0.1.jar:/usr/local/hadoop-3.3.3//share/hadoop/hdfs/lib/guava-27.0-jre.jar:/usr/local/hadoop-3.3.3//share/hadoop/hdfs/lib/kerb-crypto-1.0.1.jar:/usr/local/hadoop-3.3.3//share/hadoop/hdfs/lib/commons-codec-1.15.jar:/usr/local/hadoop-3.3.3//share/hadoop/hdfs/lib/commons-lang3-3.12.0.jar:/usr/local/hadoop-3.3.3//share/hadoop/hdfs/hadoop-hdfs-client-3.3.3.jar:/usr/local/hadoop-3.3.3//share/hadoop/hdfs/hadoop-hdfs-rbf-3.3.3.jar:/usr/local/hadoop-3.3.3//share/hadoop/hdfs/hadoop-hdfs-3.3.3.jar:/usr/local/hadoop-3.3.3//share/hadoop/hdfs/hadoop-hdfs-rbf-3.3.3-tests.jar:/usr/local/hadoop-3.3.3//share/hadoop/hdfs/hadoop-hdfs-native-client-3.3.3.jar:/usr/local/hadoop-3.3.3//share/hadoop/hdfs/hadoop-hdfs-native-client-3.3.3-tests.jar:/usr/local/hadoop-3.3.3//share/hadoop/hdfs/hadoop-hdfs-3.3.3-tests.jar:/usr/local/hadoop-3.3.3//share/hadoop/hdfs/hadoop-hdfs-httpfs-3.3.3.jar:/usr/local/hadoop-3.3.3//share/hadoop/hdfs/hadoop-hdfs-nfs-3.3.3.jar:/usr/local/hadoop-3.3.3//share/hadoop/hdfs/hadoop-hdfs-client-3.3.3-tests.jar:/usr/local/hadoop-3.3.3//share/hadoop/mapreduce/hadoop-mapreduce-client-core-3.3.3.jar:/usr/local/hadoop-3.3.3//share/hadoop/mapreduce/hadoop-mapreduce-client-app-3.3.3.jar:/usr/local/hadoop-3.3.3//share/hadoop/mapreduce/hadoop-mapreduce-client-common-3.3.3.jar:/usr/local/hadoop-3.3.3//share/hadoop/mapreduce/hadoop-mapreduce-client-shuffle-3.3.3.jar:/usr/local/hadoop-3.3.3//share/hadoop/mapreduce/hadoop-mapreduce-examples-3.3.3.jar:/usr/local/hadoop-3.3.3//share/hadoop/mapreduce/hadoop-mapreduce-client-uploader-3.3.3.jar:/usr/local/hadoop-3.3.3//share/hadoop/mapreduce/hadoop-mapreduce-client-jobclient-3.3.3.jar:/usr/local/hadoop-3.3.3//share/hadoop/mapreduce/hadoop-mapreduce-client-hs-plugins-3.3.3.jar:/usr/local/hadoop-3.3.3//share/hadoop/mapreduce/hadoop-mapreduce-client-nativetask-3.3.3.jar:/usr/local/hadoop-3.3.3//share/hadoop/mapreduce/hadoop-mapreduce-client-jobclient-3.3.3-tests.jar:/usr/local/hadoop-3.3.3//share/hadoop/mapreduce/hadoop-mapreduce-client-hs-3.3.3.jar:/usr/local/hadoop-3.3.3//share/hadoop/yarn:/usr/local/hadoop-3.3.3//share/hadoop/yarn/lib/jna-5.2.0.jar:/usr/local/hadoop-3.3.3//share/hadoop/yarn/lib/json-io-2.5.1.jar:/usr/local/hadoop-3.3.3//share/hadoop/yarn/lib/objenesis-2.6.jar:/usr/local/hadoop-3.3.3//share/hadoop/yarn/lib/metrics-core-3.2.4.jar:/usr/local/hadoop-3.3.3//share/hadoop/yarn/lib/javax.inject-1.jar:/usr/local/hadoop-3.3.3//share/hadoop/yarn/lib/snakeyaml-1.26.jar:/usr/local/hadoop-3.3.3//share/hadoop/yarn/lib/HikariCP-java7-2.4.12.jar:/usr/local/hadoop-3.3.3//share/hadoop/yarn/lib/asm-tree-9.1.jar:/usr/local/hadoop-3.3.3//share/hadoop/yarn/lib/bcpkix-jdk15on-1.60.jar:/usr/local/hadoop-3.3.3//share/hadoop/yarn/lib/jetty-jndi-9.4.43.v20210629.jar:/usr/local/hadoop-3.3.3//share/hadoop/yarn/lib/mssql-jdbc-6.2.1.jre7.jar:/usr/local/hadoop-3.3.3//share/hadoop/yarn/lib/aopalliance-1.0.jar:/usr/local/hadoop-3.3.3//share/hadoop/yarn/lib/javax.ws.rs-api-2.1.1.jar:/usr/local/hadoop-3.3.3//share/hadoop/yarn/lib/websocket-api-9.4.43.v20210629.jar:/usr/local/hadoop-3.3.3//share/hadoop/yarn/lib/jetty-client-9.4.43.v20210629.jar:/usr/local/hadoop-3.3.3//share/hadoop/yarn/lib/jetty-annotations-9.4.43.v20210629.jar:/usr/local/hadoop-3.3.3//share/hadoop/yarn/lib/websocket-server-9.4.43.v20210629.jar:/usr/local/hadoop-3.3.3//share/hadoop/yarn/lib/geronimo-jcache_1.0_spec-1.0-alpha-1.jar:/usr/local/hadoop-3.3.3//share/hadoop/yarn/lib/jackson-jaxrs-base-2.13.2.jar:/usr/local/hadoop-3.3.3//share/hadoop/yarn/lib/websocket-servlet-9.4.43.v20210629.jar:/usr/local/hadoop-3.3.3//share/hadoop/yarn/lib/jetty-plus-9.4.43.v20210629.jar:/usr/local/hadoop-3.3.3//share/hadoop/yarn/lib/java-util-1.9.0.jar:/usr/local/hadoop-3.3.3//share/hadoop/yarn/lib/websocket-client-9.4.43.v20210629.jar:/usr/local/hadoop-3.3.3//share/hadoop/yarn/lib/swagger-annotations-1.5.4.jar:/usr/local/hadoop-3.3.3//share/hadoop/yarn/lib/jakarta.xml.bind-api-2.3.3.jar:/usr/local/hadoop-3.3.3//share/hadoop/yarn/lib/ehcache-3.3.1.jar:/usr/local/hadoop-3.3.3//share/hadoop/yarn/lib/guice-servlet-4.0.jar:/usr/local/hadoop-3.3.3//share/hadoop/yarn/lib/javax-websocket-server-impl-9.4.43.v20210629.jar:/usr/local/hadoop-3.3.3//share/hadoop/yarn/lib/jline-3.9.0.jar:/usr/local/hadoop-3.3.3//share/hadoop/yarn/lib/javax-websocket-client-impl-9.4.43.v20210629.jar:/usr/local/hadoop-3.3.3//share/hadoop/yarn/lib/asm-analysis-9.1.jar:/usr/local/hadoop-3.3.3//share/hadoop/yarn/lib/asm-commons-9.1.jar:/usr/local/hadoop-3.3.3//share/hadoop/yarn/lib/jackson-jaxrs-json-provider-2.13.2.jar:/usr/local/hadoop-3.3.3//share/hadoop/yarn/lib/jersey-guice-1.19.jar:/usr/local/hadoop-3.3.3//share/hadoop/yarn/lib/fst-2.50.jar:/usr/local/hadoop-3.3.3//share/hadoop/yarn/lib/bcprov-jdk15on-1.60.jar:/usr/local/hadoop-3.3.3//share/hadoop/yarn/lib/guice-4.0.jar:/usr/local/hadoop-3.3.3//share/hadoop/yarn/lib/javax.websocket-client-api-1.0.jar:/usr/local/hadoop-3.3.3//share/hadoop/yarn/lib/websocket-common-9.4.43.v20210629.jar:/usr/local/hadoop-3.3.3//share/hadoop/yarn/lib/jersey-client-1.19.jar:/usr/local/hadoop-3.3.3//share/hadoop/yarn/lib/javax.websocket-api-1.0.jar:/usr/local/hadoop-3.3.3//share/hadoop/yarn/lib/jackson-module-jaxb-annotations-2.13.2.jar:/usr/local/hadoop-3.3.3//share/hadoop/yarn/hadoop-yarn-server-applicationhistoryservice-3.3.3.jar:/usr/local/hadoop-3.3.3//share/hadoop/yarn/hadoop-yarn-applications-distributedshell-3.3.3.jar:/usr/local/hadoop-3.3.3//share/hadoop/yarn/hadoop-yarn-services-api-3.3.3.jar:/usr/local/hadoop-3.3.3//share/hadoop/yarn/hadoop-yarn-client-3.3.3.jar:/usr/local/hadoop-3.3.3//share/hadoop/yarn/hadoop-yarn-server-nodemanager-3.3.3.jar:/usr/local/hadoop-3.3.3//share/hadoop/yarn/hadoop-yarn-applications-mawo-core-3.3.3.jar:/usr/local/hadoop-3.3.3//share/hadoop/yarn/hadoop-yarn-applications-unmanaged-am-launcher-3.3.3.jar:/usr/local/hadoop-3.3.3//share/hadoop/yarn/hadoop-yarn-server-common-3.3.3.jar:/usr/local/hadoop-3.3.3//share/hadoop/yarn/hadoop-yarn-server-resourcemanager-3.3.3.jar:/usr/local/hadoop-3.3.3//share/hadoop/yarn/hadoop-yarn-server-tests-3.3.3.jar:/usr/local/hadoop-3.3.3//share/hadoop/yarn/hadoop-yarn-api-3.3.3.jar:/usr/local/hadoop-3.3.3//share/hadoop/yarn/hadoop-yarn-server-timeline-pluginstorage-3.3.3.jar:/usr/local/hadoop-3.3.3//share/hadoop/yarn/hadoop-yarn-services-core-3.3.3.jar:/usr/local/hadoop-3.3.3//share/hadoop/yarn/hadoop-yarn-server-router-3.3.3.jar:/usr/local/hadoop-3.3.3//share/hadoop/yarn/hadoop-yarn-server-web-proxy-3.3.3.jar:/usr/local/hadoop-3.3.3//share/hadoop/yarn/hadoop-yarn-server-sharedcachemanager-3.3.3.jar:/usr/local/hadoop-3.3.3//share/hadoop/yarn/hadoop-yarn-common-3.3.3.jar:/usr/local/hadoop-3.3.3//share/hadoop/yarn/hadoop-yarn-registry-3.3.3.jar:/content/hbase-2.5.0//lib/client-facing-thirdparty/log4j-1.2-api-2.17.2.jar:/content/hbase-2.5.0//lib/client-facing-thirdparty/log4j-api-2.17.2.jar:/content/hbase-2.5.0//lib/client-facing-thirdparty/log4j-core-2.17.2.jar:/content/hbase-2.5.0//lib/client-facing-thirdparty/log4j-slf4j-impl-2.17.2.jar\n",
            "2022-10-07 09:28:38,653 INFO  [ReadOnlyZKClient-127.0.0.1:2181@0x273dec10] zookeeper.ZooKeeper (Environment.java:logEnv(109)) - Client environment:java.library.path=/usr/local/hadoop-3.3.3//lib/native\n",
            "2022-10-07 09:28:38,653 INFO  [ReadOnlyZKClient-127.0.0.1:2181@0x273dec10] zookeeper.ZooKeeper (Environment.java:logEnv(109)) - Client environment:java.io.tmpdir=/tmp\n",
            "2022-10-07 09:28:38,653 INFO  [ReadOnlyZKClient-127.0.0.1:2181@0x273dec10] zookeeper.ZooKeeper (Environment.java:logEnv(109)) - Client environment:java.compiler=<NA>\n",
            "2022-10-07 09:28:38,653 INFO  [ReadOnlyZKClient-127.0.0.1:2181@0x273dec10] zookeeper.ZooKeeper (Environment.java:logEnv(109)) - Client environment:os.name=Linux\n",
            "2022-10-07 09:28:38,653 INFO  [ReadOnlyZKClient-127.0.0.1:2181@0x273dec10] zookeeper.ZooKeeper (Environment.java:logEnv(109)) - Client environment:os.arch=amd64\n",
            "2022-10-07 09:28:38,653 INFO  [ReadOnlyZKClient-127.0.0.1:2181@0x273dec10] zookeeper.ZooKeeper (Environment.java:logEnv(109)) - Client environment:os.version=5.10.133+\n",
            "2022-10-07 09:28:38,653 INFO  [ReadOnlyZKClient-127.0.0.1:2181@0x273dec10] zookeeper.ZooKeeper (Environment.java:logEnv(109)) - Client environment:user.name=root\n",
            "2022-10-07 09:28:38,653 INFO  [ReadOnlyZKClient-127.0.0.1:2181@0x273dec10] zookeeper.ZooKeeper (Environment.java:logEnv(109)) - Client environment:user.home=/root\n",
            "2022-10-07 09:28:38,653 INFO  [ReadOnlyZKClient-127.0.0.1:2181@0x273dec10] zookeeper.ZooKeeper (Environment.java:logEnv(109)) - Client environment:user.dir=/content\n",
            "2022-10-07 09:28:38,655 INFO  [ReadOnlyZKClient-127.0.0.1:2181@0x273dec10] zookeeper.ZooKeeper (Environment.java:logEnv(109)) - Client environment:os.memory.free=124MB\n",
            "2022-10-07 09:28:38,655 INFO  [ReadOnlyZKClient-127.0.0.1:2181@0x273dec10] zookeeper.ZooKeeper (Environment.java:logEnv(109)) - Client environment:os.memory.max=3231MB\n",
            "2022-10-07 09:28:38,655 INFO  [ReadOnlyZKClient-127.0.0.1:2181@0x273dec10] zookeeper.ZooKeeper (Environment.java:logEnv(109)) - Client environment:os.memory.total=197MB\n",
            "2022-10-07 09:28:38,660 INFO  [ReadOnlyZKClient-127.0.0.1:2181@0x273dec10] zookeeper.ZooKeeper (ZooKeeper.java:<init>(868)) - Initiating client connection, connectString=127.0.0.1:2181 sessionTimeout=90000 watcher=org.apache.hadoop.hbase.zookeeper.ReadOnlyZKClient$$Lambda$229/365265532@2eb790ed\n",
            "2022-10-07 09:28:38,669 INFO  [ReadOnlyZKClient-127.0.0.1:2181@0x273dec10] common.X509Util (X509Util.java:<clinit>(79)) - Setting -D jdk.tls.rejectClientInitiatedRenegotiation=true to disable client-initiated TLS renegotiation\n",
            "2022-10-07 09:28:38,680 INFO  [ReadOnlyZKClient-127.0.0.1:2181@0x273dec10] zookeeper.ClientCnxnSocket (ClientCnxnSocket.java:initProperties(237)) - jute.maxbuffer value is 4194304 Bytes\n",
            "2022-10-07 09:28:38,693 INFO  [ReadOnlyZKClient-127.0.0.1:2181@0x273dec10] zookeeper.ClientCnxn (ClientCnxn.java:initRequestTimeout(1653)) - zookeeper.request.timeout value is 0. feature enabled=\n",
            "2022-10-07 09:28:38,717 INFO  [ReadOnlyZKClient-127.0.0.1:2181@0x273dec10-SendThread(127.0.0.1:2181)] zookeeper.ClientCnxn (ClientCnxn.java:logStartConnect(1112)) - Opening socket connection to server localhost/127.0.0.1:2181. Will not attempt to authenticate using SASL (unknown error)\n",
            "2022-10-07 09:28:38,724 INFO  [ReadOnlyZKClient-127.0.0.1:2181@0x273dec10-SendThread(127.0.0.1:2181)] zookeeper.ClientCnxn (ClientCnxn.java:primeConnection(959)) - Socket connection established, initiating session, client: /127.0.0.1:44774, server: localhost/127.0.0.1:2181\n",
            "2022-10-07 09:28:38,737 INFO  [ReadOnlyZKClient-127.0.0.1:2181@0x273dec10-SendThread(127.0.0.1:2181)] zookeeper.ClientCnxn (ClientCnxn.java:onConnected(1394)) - Session establishment complete on server localhost/127.0.0.1:2181, sessionid = 0x100000c3c3b000b, negotiated timeout = 40000\n",
            "hbase:001:0> scan 'cars2'\n",
            "ROW                   COLUMN+CELL                                               \n",
            " Ford                 column=make:, timestamp=2022-10-07T09:28:14.107, value=Eco\n",
            "                      sport                                                     \n",
            " Ford                 column=model:, timestamp=2022-10-07T09:28:14.107, value=20\n",
            "                      19                                                        \n",
            " Hyundai              column=make:, timestamp=2022-10-07T09:28:14.107, value=i20\n",
            " Hyundai              column=model:, timestamp=2022-10-07T09:28:14.107, value=20\n",
            "                      15                                                        \n",
            " Maruti               column=make:, timestamp=2022-10-07T09:28:14.107, value=Omn\n",
            "                      i                                                         \n",
            " Maruti               column=model:, timestamp=2022-10-07T09:28:14.107, value=20\n",
            "                      07                                                        \n",
            "3 row(s)\n",
            "Took 0.8875 seconds                                                             \n",
            "hbase:002:0> \n"
          ]
        }
      ]
    },
    {
      "cell_type": "markdown",
      "metadata": {
        "id": "O6PP3akdlVKJ"
      },
      "source": [
        "#Stop HBase"
      ]
    },
    {
      "cell_type": "code",
      "metadata": {
        "colab": {
          "base_uri": "https://localhost:8080/"
        },
        "id": "p28XBoitAWTL",
        "outputId": "f18b5a44-a601-4e35-b66d-8cc3e0926852"
      },
      "source": [
        "!stop-hbase.sh"
      ],
      "execution_count": 31,
      "outputs": [
        {
          "output_type": "stream",
          "name": "stdout",
          "text": [
            "stopping hbase.............\n",
            "SLF4J: Class path contains multiple SLF4J bindings.\n",
            "SLF4J: Found binding in [jar:file:/usr/local/hadoop-3.3.3/share/hadoop/common/lib/slf4j-reload4j-1.7.36.jar!/org/slf4j/impl/StaticLoggerBinder.class]\n",
            "SLF4J: Found binding in [jar:file:/content/hbase-2.5.0/lib/client-facing-thirdparty/log4j-slf4j-impl-2.17.2.jar!/org/slf4j/impl/StaticLoggerBinder.class]\n",
            "SLF4J: See http://www.slf4j.org/codes.html#multiple_bindings for an explanation.\n",
            "SLF4J: Actual binding is of type [org.slf4j.impl.Reload4jLoggerFactory]\n"
          ]
        }
      ]
    },
    {
      "cell_type": "code",
      "source": [
        "from datetime import datetime\n",
        "import pytz\n",
        "print('signed off at  ',datetime.now(pytz.timezone('Asia/Kolkata')))"
      ],
      "metadata": {
        "id": "5OI2RAbZx_JQ",
        "outputId": "efbef958-1266-4714-dde4-310bbd8faf34",
        "colab": {
          "base_uri": "https://localhost:8080/"
        }
      },
      "execution_count": 32,
      "outputs": [
        {
          "output_type": "stream",
          "name": "stdout",
          "text": [
            "signed off at   2022-10-07 15:00:19.701965+05:30\n"
          ]
        }
      ]
    },
    {
      "cell_type": "markdown",
      "source": [
        "#Chronobooks <br>\n",
        "![alt text](https://1.bp.blogspot.com/-lTiYBkU2qbU/X1er__fvnkI/AAAAAAAAjtE/GhDR3OEGJr4NG43fZPodrQD5kbxtnKebgCLcBGAsYHQ/s600/Footer2020-600x200.png)<hr>\n",
        "Chronotantra and Chronoyantra are two science fiction novels that explore the collapse of human civilisation on Earth and then its rebirth and reincarnation both on Earth as well as on the distant worlds of Mars, Titan and Enceladus. But is it the human civilisation that is being reborn? Or is it some other sentience that is revealing itself. \n",
        "If you have an interest in AI and found this material useful, you may consider buying these novels, in paperback or kindle, from [http://bit.ly/chronobooks](http://bit.ly/chronobooks)"
      ],
      "metadata": {
        "id": "kJ7DnSfIyFA7"
      }
    }
  ]
}