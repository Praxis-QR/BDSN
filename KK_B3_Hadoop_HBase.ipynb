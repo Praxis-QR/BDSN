{
  "nbformat": 4,
  "nbformat_minor": 0,
  "metadata": {
    "colab": {
      "name": "KK B3 Hadoop HBase",
      "provenance": [],
      "authorship_tag": "ABX9TyMoz4zX3i4RTuBPuRKRospA",
      "include_colab_link": true
    },
    "kernelspec": {
      "name": "python3",
      "display_name": "Python 3"
    },
    "language_info": {
      "name": "python"
    }
  },
  "cells": [
    {
      "cell_type": "markdown",
      "metadata": {
        "id": "view-in-github",
        "colab_type": "text"
      },
      "source": [
        "<a href=\"https://colab.research.google.com/github/Praxis-QR/BDSN/blob/main/KK_B3_Hadoop_HBase.ipynb\" target=\"_parent\"><img src=\"https://colab.research.google.com/assets/colab-badge.svg\" alt=\"Open In Colab\"/></a>"
      ]
    },
    {
      "cell_type": "markdown",
      "metadata": {
        "id": "XafE9O3pAmkC"
      },
      "source": [
        "![alt text](https://4.bp.blogspot.com/-gbL5nZDkpFQ/XScFYwoTEII/AAAAAAAAAGY/CcVb_HDLwvs2Brv5T4vSsUcz7O4r2Q79ACK4BGAYYCw/s1600/kk3-header00-beta.png)<br>\n",
        "\n",
        "\n",
        "<hr>\n",
        "\n",
        "[Prithwis Mukerjee](http://www.linkedin.com/in/prithwis)<br>"
      ]
    },
    {
      "cell_type": "markdown",
      "metadata": {
        "id": "GyYTQEpb1htS"
      },
      "source": [
        "#Hadoop \n",
        "Install and Test"
      ]
    },
    {
      "cell_type": "code",
      "metadata": {
        "id": "_r0IOmlc0-Dt"
      },
      "source": [
        "# The default JVM available at /usr/lib/jvm/java-11-openjdk-amd64/  works for Hadoop\n",
        "# But gives errors with Hive https://stackoverflow.com/questions/54037773/hive-exception-class-jdk-internal-loader-classloadersappclassloader-cannot\n",
        "# Hence this JVM needs to be installed\n",
        "!apt-get update > /dev/null\n",
        "!apt-get install openjdk-8-jdk-headless -qq > /dev/null"
      ],
      "execution_count": 1,
      "outputs": []
    },
    {
      "cell_type": "code",
      "metadata": {
        "colab": {
          "base_uri": "https://localhost:8080/"
        },
        "id": "NWspfH6A1a4P",
        "outputId": "a85652a4-1b09-4601-a601-036342b82950"
      },
      "source": [
        "# Download the latest version of Hadoop\n",
        "!wget https://downloads.apache.org/hadoop/common/hadoop-3.3.3/hadoop-3.3.3.tar.gz\n",
        "# Unzip it\n",
        "# the tar command with the -x flag to extract, -z to uncompress, -v for verbose output, and -f to specify that we’re extracting from a file\n",
        "!tar -xzf hadoop-3.3.3.tar.gz\n",
        "#copy  hadoop file to user/local\n",
        "!mv  hadoop-3.3.3/ /usr/local/"
      ],
      "execution_count": 2,
      "outputs": [
        {
          "output_type": "stream",
          "name": "stdout",
          "text": [
            "--2022-06-23 23:53:05--  https://downloads.apache.org/hadoop/common/hadoop-3.3.3/hadoop-3.3.3.tar.gz\n",
            "Resolving downloads.apache.org (downloads.apache.org)... 88.99.95.219, 135.181.214.104, 2a01:4f8:10a:201a::2, ...\n",
            "Connecting to downloads.apache.org (downloads.apache.org)|88.99.95.219|:443... connected.\n",
            "HTTP request sent, awaiting response... 200 OK\n",
            "Length: 645040598 (615M) [application/x-gzip]\n",
            "Saving to: ‘hadoop-3.3.3.tar.gz’\n",
            "\n",
            "hadoop-3.3.3.tar.gz 100%[===================>] 615.16M  26.3MB/s    in 23s     \n",
            "\n",
            "2022-06-23 23:53:28 (26.8 MB/s) - ‘hadoop-3.3.3.tar.gz’ saved [645040598/645040598]\n",
            "\n"
          ]
        }
      ]
    },
    {
      "cell_type": "code",
      "metadata": {
        "colab": {
          "base_uri": "https://localhost:8080/"
        },
        "id": "24QjQ22V1swJ",
        "outputId": "6d9b1edf-4c3d-4fdc-bbf4-c97cdd896469"
      },
      "source": [
        "#To find the default Java path\n",
        "!readlink -f /usr/bin/java | sed \"s:bin/java::\"\n",
        "!ls /usr/lib/jvm/"
      ],
      "execution_count": 3,
      "outputs": [
        {
          "output_type": "stream",
          "name": "stdout",
          "text": [
            "/usr/lib/jvm/java-11-openjdk-amd64/\n",
            "default-java\t\t   java-11-openjdk-amd64     java-8-openjdk-amd64\n",
            "java-1.11.0-openjdk-amd64  java-1.8.0-openjdk-amd64\n"
          ]
        }
      ]
    },
    {
      "cell_type": "markdown",
      "metadata": {
        "id": "Ugibq3m1CbgC"
      },
      "source": [
        "## Set Hadoop Environment"
      ]
    },
    {
      "cell_type": "code",
      "metadata": {
        "id": "1j7WFh5k18E1"
      },
      "source": [
        "#To set java path, go to /usr/local/hadoop-3.3.0/etc/hadoop/hadoop-env.sh then\n",
        "#. . . export JAVA_HOME=/usr/lib/jvm/java-11-openjdk-amd64/ . . .\n",
        "#we have used a simpler alternative route using os.environ - it works\n",
        "\n",
        "import os\n",
        "os.environ[\"JAVA_HOME\"] = \"/usr/lib/jvm/java-8-openjdk-amd64\"   # default is changed\n",
        "#os.environ[\"JAVA_HOME\"] = \"/usr/lib/jvm/java-11-openjdk-amd64/\"\n",
        "os.environ[\"HADOOP_HOME\"] = \"/usr/local/hadoop-3.3.3/\""
      ],
      "execution_count": 4,
      "outputs": []
    },
    {
      "cell_type": "code",
      "metadata": {
        "id": "DevjcjSF2ltL"
      },
      "source": [
        "# Get the value of current_path\n",
        "#!echo $PATH"
      ],
      "execution_count": 5,
      "outputs": []
    },
    {
      "cell_type": "code",
      "metadata": {
        "id": "NaaMpfVP2p3m"
      },
      "source": [
        "# Add Hadoop BIN to PATH\n",
        "# current_path taken from last command\n",
        "#current_path = '/opt/bin:/usr/local/nvidia/bin:/usr/local/cuda/bin:/usr/local/sbin:/usr/local/bin:/usr/sbin:/usr/bin:/sbin:/bin:/tools/node/bin:/tools/google-cloud-sdk/bin'\n",
        "#new_path = current_path+':/usr/local/hadoop-3.3.3/bin/'\n",
        "#os.environ[\"PATH\"] = new_path\n",
        "\n",
        "current_path = os.getenv('PATH')\n",
        "#new_path = current_path+':/usr/local/hadoop-3.3.0/bin/'\n",
        "new_path = current_path+':/usr/local/hadoop-3.3.3/bin/'\n",
        "os.environ[\"PATH\"] = new_path"
      ],
      "execution_count": 6,
      "outputs": []
    },
    {
      "cell_type": "code",
      "metadata": {
        "id": "ZD34gT3y2u-D"
      },
      "source": [
        "# Testing Hadoop with PI generating sample program, should calculate value of pi = 3.14157500000000000000\n",
        "# pi example\n",
        "#Uncomment the following line if  you want to test Hadoop with pi example\n",
        "#!hadoop jar /usr/local/hadoop-3.3.3/share/hadoop/mapreduce/hadoop-mapreduce-examples-3.3.3.jar pi 16 100000"
      ],
      "execution_count": 8,
      "outputs": []
    },
    {
      "cell_type": "markdown",
      "metadata": {
        "id": "zHwLU0Uo3tLo"
      },
      "source": [
        "#Install HBase"
      ]
    },
    {
      "cell_type": "code",
      "metadata": {
        "colab": {
          "base_uri": "https://localhost:8080/"
        },
        "id": "bODP1xaM3vEB",
        "outputId": "75f0c019-1c47-46b7-f033-89683b4663de"
      },
      "source": [
        "# Get the latest HBase download site from here https://www.apache.org/dyn/closer.lua/hbase/\n",
        "# or even better check here for latest downloads >>> https://downloads.apache.org/hbase/\n",
        "#!wget https://mirrors.estointernet.in/apache/hbase/2.4.5/hbase-2.4.5-bin.tar.gz\n",
        "#!wget https://mirrors.estointernet.in/apache/hbase/2.4.8/hbase-2.4.8-bin.tar.gz\n",
        "#!wget https://downloads.apache.org/hbase/2.4.9/hbase-2.4.9-bin.tar.gz\n",
        "!wget https://downloads.apache.org/hbase/2.4.12/hbase-2.4.12-bin.tar.gz\n",
        "#!tar xzf hbase-2.4.5-bin.tar.gz\n",
        "#!tar xzf hbase-2.4.8-bin.tar.gz\n",
        "#!tar xzf hbase-2.4.9-bin.tar.gz\n",
        "!tar xzf hbase-2.4.12-bin.tar.gz"
      ],
      "execution_count": 9,
      "outputs": [
        {
          "output_type": "stream",
          "name": "stdout",
          "text": [
            "--2022-06-23 23:56:13--  https://downloads.apache.org/hbase/2.4.12/hbase-2.4.12-bin.tar.gz\n",
            "Resolving downloads.apache.org (downloads.apache.org)... 88.99.95.219, 135.181.214.104, 2a01:4f8:10a:201a::2, ...\n",
            "Connecting to downloads.apache.org (downloads.apache.org)|88.99.95.219|:443... connected.\n",
            "HTTP request sent, awaiting response... 200 OK\n",
            "Length: 283605397 (270M) [application/x-gzip]\n",
            "Saving to: ‘hbase-2.4.12-bin.tar.gz’\n",
            "\n",
            "hbase-2.4.12-bin.ta 100%[===================>] 270.47M  29.7MB/s    in 9.7s    \n",
            "\n",
            "2022-06-23 23:56:23 (28.0 MB/s) - ‘hbase-2.4.12-bin.tar.gz’ saved [283605397/283605397]\n",
            "\n"
          ]
        }
      ]
    },
    {
      "cell_type": "markdown",
      "metadata": {
        "id": "kaMtyNOVCiMS"
      },
      "source": [
        "## Set HBase Environment"
      ]
    },
    {
      "cell_type": "code",
      "metadata": {
        "colab": {
          "base_uri": "https://localhost:8080/"
        },
        "id": "p4dc0K7h4f-y",
        "outputId": "e621febe-f004-42ab-dcda-80512dc55956"
      },
      "source": [
        "#os.environ[\"HIVE_HOME\"] = \"/content/apache-hive-3.1.2-bin\"\n",
        "#!echo $HIVE_HOME\n",
        "#os.environ[\"HBASE_HOME\"] = \"/content/hbase-2.4.5/\"\n",
        "#os.environ[\"HBASE_HOME\"] = \"/content/hbase-2.4.8/\"\n",
        "#os.environ[\"HBASE_HOME\"] = \"/content/hbase-2.4.9/\"\n",
        "os.environ[\"HBASE_HOME\"] = \"/content/hbase-2.4.12/\"\n",
        "!echo $HBASE_HOME"
      ],
      "execution_count": 10,
      "outputs": [
        {
          "output_type": "stream",
          "name": "stdout",
          "text": [
            "/content/hbase-2.4.12/\n"
          ]
        }
      ]
    },
    {
      "cell_type": "code",
      "metadata": {
        "id": "LrLGC7ln5Wwx"
      },
      "source": [
        "#!echo $PATH"
      ],
      "execution_count": 11,
      "outputs": []
    },
    {
      "cell_type": "code",
      "metadata": {
        "colab": {
          "base_uri": "https://localhost:8080/"
        },
        "id": "DqXZ_kF65VXK",
        "outputId": "59030ba5-eaee-48e1-fbd6-20607708c330"
      },
      "source": [
        "# current_path taken from command in previous cell\n",
        "#current_path = '/opt/bin:/usr/local/nvidia/bin:/usr/local/cuda/bin:/usr/local/sbin:/usr/local/bin:/usr/sbin:/usr/bin:/sbin:/bin:/tools/node/bin:/tools/google-cloud-sdk/bin:/usr/local/hadoop-3.3.3/bin/'\n",
        "current_path = os.getenv('PATH')\n",
        "#new_path = current_path+':/content/hbase-2.4.5/bin'\n",
        "#new_path = current_path+':/content/hbase-2.4.8/bin'\n",
        "#new_path = current_path+':/content/hbase-2.4.9/bin'\n",
        "new_path = current_path+':/content/hbase-2.4.12/bin'\n",
        "os.environ[\"PATH\"] = new_path\n",
        "!echo $PATH"
      ],
      "execution_count": 12,
      "outputs": [
        {
          "output_type": "stream",
          "name": "stdout",
          "text": [
            "/opt/bin:/usr/local/nvidia/bin:/usr/local/cuda/bin:/usr/local/sbin:/usr/local/bin:/usr/sbin:/usr/bin:/sbin:/bin:/tools/node/bin:/tools/google-cloud-sdk/bin:/usr/local/hadoop-3.3.3/bin/:/content/hbase-2.4.12/bin\n"
          ]
        }
      ]
    },
    {
      "cell_type": "code",
      "metadata": {
        "colab": {
          "base_uri": "https://localhost:8080/"
        },
        "id": "ZrS6BL5k51Bl",
        "outputId": "80769bd9-1616-4d6f-8b1f-506832e9c342"
      },
      "source": [
        "!echo $JAVA_HOME\n",
        "!echo $HADOOP_HOME\n",
        "!echo $HBASE_HOME"
      ],
      "execution_count": 13,
      "outputs": [
        {
          "output_type": "stream",
          "name": "stdout",
          "text": [
            "/usr/lib/jvm/java-8-openjdk-amd64\n",
            "/usr/local/hadoop-3.3.3/\n",
            "/content/hbase-2.4.12/\n"
          ]
        }
      ]
    },
    {
      "cell_type": "code",
      "metadata": {
        "id": "9kDmgFfh6a12"
      },
      "source": [
        "# the file hbase-site.xml may need to be updated ...\n",
        "# however the default file works well in the simple stand-alone HBase mode\n",
        "# so no need to touch it\n",
        "#!cat $HBASE_HOME/conf/hbase-site.xml"
      ],
      "execution_count": null,
      "outputs": []
    },
    {
      "cell_type": "markdown",
      "metadata": {
        "id": "BWn-DJ1PDbXd"
      },
      "source": [
        "## Some Clean UP\n",
        "Otherwise we get ugly warnings"
      ]
    },
    {
      "cell_type": "code",
      "metadata": {
        "colab": {
          "base_uri": "https://localhost:8080/"
        },
        "id": "bKG7t8sQDj2t",
        "outputId": "b0205a59-0d13-496d-8d2b-8ae9f214471f"
      },
      "source": [
        "# locate multiple instances of slf4j ...\n",
        "!ls $HADOOP_HOME/share/hadoop/common/lib/*slf4j*\n",
        "!ls $HBASE_HOME/lib/*slf4j*\n",
        "!ls /content/hbase-2.4.12/lib/client-facing-thirdparty/slf4j-reload4j-1.7.33.jar"
      ],
      "execution_count": null,
      "outputs": [
        {
          "output_type": "stream",
          "name": "stdout",
          "text": [
            "/usr/local/hadoop-3.3.3//share/hadoop/common/lib/jul-to-slf4j-1.7.36.jar\n",
            "/usr/local/hadoop-3.3.3//share/hadoop/common/lib/slf4j-api-1.7.36.jar\n",
            "/usr/local/hadoop-3.3.3//share/hadoop/common/lib/slf4j-reload4j-1.7.36.jar\n",
            "/content/hbase-2.4.12//lib/jcl-over-slf4j-1.7.33.jar\n",
            "/content/hbase-2.4.12//lib/jul-to-slf4j-1.7.33.jar\n",
            "/content/hbase-2.4.12/lib/client-facing-thirdparty/slf4j-reload4j-1.7.33.jar\n"
          ]
        }
      ]
    },
    {
      "cell_type": "code",
      "metadata": {
        "id": "6OaOkjD5EOr0"
      },
      "source": [
        "# remove the Hadoop logger out of the path\n",
        "# without this you will get ugly warnings every time\n",
        "#!mv /usr/local/hadoop-3.3.3//share/hadoop/common/lib/slf4j-log4j12-1.7.25.jar .\n",
        "#!mv /usr/local/hadoop-3.3.3//share/hadoop/common/lib/slf4j-api-1.7.36.jar .\n",
        "#!mv /usr/local/hadoop-3.3.3//share/hadoop/common/lib/slf4j-reload4j-1.7.36.jar .\n",
        "!mv /content/hbase-2.4.12/lib/client-facing-thirdparty/slf4j-reload4j-1.7.33.jar ."
      ],
      "execution_count": 14,
      "outputs": []
    },
    {
      "cell_type": "code",
      "source": [
        ""
      ],
      "metadata": {
        "id": "C04Du_W-ur15"
      },
      "execution_count": null,
      "outputs": []
    },
    {
      "cell_type": "markdown",
      "metadata": {
        "id": "uA03iA4XFN_E"
      },
      "source": [
        "## Start HBase server"
      ]
    },
    {
      "cell_type": "code",
      "source": [
        "#!stop-hbase.sh"
      ],
      "metadata": {
        "id": "SOFDd_XCvBET"
      },
      "execution_count": null,
      "outputs": []
    },
    {
      "cell_type": "code",
      "metadata": {
        "colab": {
          "base_uri": "https://localhost:8080/"
        },
        "id": "GMQHzlCO7MDC",
        "outputId": "998af95b-bb49-46ce-8a49-83111cacf100"
      },
      "source": [
        "!start-hbase.sh"
      ],
      "execution_count": 15,
      "outputs": [
        {
          "output_type": "stream",
          "name": "stdout",
          "text": [
            "running master, logging to /content/hbase-2.4.12//logs/hbase--master-c51431f48b01.out\n"
          ]
        }
      ]
    },
    {
      "cell_type": "code",
      "metadata": {
        "colab": {
          "base_uri": "https://localhost:8080/"
        },
        "id": "v1imUqpf7apm",
        "outputId": "df4e5327-7150-4f90-aadf-82ab65e72ad2"
      },
      "source": [
        "!jps"
      ],
      "execution_count": 16,
      "outputs": [
        {
          "output_type": "stream",
          "name": "stdout",
          "text": [
            "1352 HMaster\n",
            "1582 Jps\n"
          ]
        }
      ]
    },
    {
      "cell_type": "markdown",
      "metadata": {
        "id": "gd6mdgPSFSvB"
      },
      "source": [
        "# Run Hbase Shell"
      ]
    },
    {
      "cell_type": "code",
      "metadata": {
        "colab": {
          "base_uri": "https://localhost:8080/"
        },
        "id": "42DJQfpY7oqe",
        "outputId": "d4b63ae6-7f45-47a4-cfac-b1bbb836c36e"
      },
      "source": [
        "# you can enter hbase shell commands at the prompt. Double click on the prompt to open up a input box\n",
        "!hbase shell "
      ],
      "execution_count": 17,
      "outputs": [
        {
          "output_type": "stream",
          "name": "stdout",
          "text": [
            "HBase Shell\n",
            "Use \"help\" to get list of supported commands.\n",
            "Use \"exit\" to quit this interactive shell.\n",
            "For Reference, please visit: http://hbase.apache.org/2.0/book.html#shell\n",
            "Version 2.4.12, r8382f55b15be6ae190f8d202a5e6a40af177ec76, Fri Apr 29 19:34:27 PDT 2022\n",
            "Took 0.0032 seconds                                                             \n",
            "hbase:001:0> help\n",
            "HBase Shell, version 2.4.12, r8382f55b15be6ae190f8d202a5e6a40af177ec76, Fri Apr 29 19:34:27 PDT 2022\n",
            "Type 'help \"COMMAND\"', (e.g. 'help \"get\"' -- the quotes are necessary) for help on a specific command.\n",
            "Commands are grouped. Type 'help \"COMMAND_GROUP\"', (e.g. 'help \"general\"') for help on a command group.\n",
            "\n",
            "COMMAND GROUPS:\n",
            "  Group name: general\n",
            "  Commands: processlist, status, table_help, version, whoami\n",
            "\n",
            "  Group name: ddl\n",
            "  Commands: alter, alter_async, alter_status, clone_table_schema, create, describe, disable, disable_all, drop, drop_all, enable, enable_all, exists, get_table, is_disabled, is_enabled, list, list_regions, locate_region, show_filters\n",
            "\n",
            "  Group name: namespace\n",
            "  Commands: alter_namespace, create_namespace, describe_namespace, drop_namespace, list_namespace, list_namespace_tables\n",
            "\n",
            "  Group name: dml\n",
            "  Commands: append, count, delete, deleteall, get, get_counter, get_splits, incr, put, scan, truncate, truncate_preserve\n",
            "\n",
            "  Group name: tools\n",
            "  Commands: assign, balance_switch, balancer, balancer_enabled, catalogjanitor_enabled, catalogjanitor_run, catalogjanitor_switch, cleaner_chore_enabled, cleaner_chore_run, cleaner_chore_switch, clear_block_cache, clear_compaction_queues, clear_deadservers, clear_slowlog_responses, close_region, compact, compact_rs, compaction_state, compaction_switch, decommission_regionservers, flush, get_balancer_decisions, get_balancer_rejections, get_largelog_responses, get_slowlog_responses, hbck_chore_run, is_in_maintenance_mode, list_deadservers, list_decommissioned_regionservers, major_compact, merge_region, move, normalize, normalizer_enabled, normalizer_switch, recommission_regionserver, regioninfo, rit, snapshot_cleanup_enabled, snapshot_cleanup_switch, split, splitormerge_enabled, splitormerge_switch, stop_master, stop_regionserver, trace, unassign, wal_roll, zk_dump\n",
            "\n",
            "  Group name: replication\n",
            "  Commands: add_peer, append_peer_exclude_namespaces, append_peer_exclude_tableCFs, append_peer_namespaces, append_peer_tableCFs, disable_peer, disable_table_replication, enable_peer, enable_table_replication, get_peer_config, list_peer_configs, list_peers, list_replicated_tables, remove_peer, remove_peer_exclude_namespaces, remove_peer_exclude_tableCFs, remove_peer_namespaces, remove_peer_tableCFs, set_peer_bandwidth, set_peer_exclude_namespaces, set_peer_exclude_tableCFs, set_peer_namespaces, set_peer_replicate_all, set_peer_serial, set_peer_tableCFs, show_peer_tableCFs, update_peer_config\n",
            "\n",
            "  Group name: snapshots\n",
            "  Commands: clone_snapshot, delete_all_snapshot, delete_snapshot, delete_table_snapshots, list_snapshots, list_table_snapshots, restore_snapshot, snapshot\n",
            "\n",
            "  Group name: configuration\n",
            "  Commands: update_all_config, update_config\n",
            "\n",
            "  Group name: quotas\n",
            "  Commands: disable_exceed_throttle_quota, disable_rpc_throttle, enable_exceed_throttle_quota, enable_rpc_throttle, list_quota_snapshots, list_quota_table_sizes, list_quotas, list_snapshot_sizes, set_quota\n",
            "\n",
            "  Group name: security\n",
            "  Commands: grant, list_security_capabilities, revoke, user_permission\n",
            "\n",
            "  Group name: procedures\n",
            "  Commands: list_locks, list_procedures\n",
            "\n",
            "  Group name: visibility labels\n",
            "  Commands: add_labels, clear_auths, get_auths, list_labels, set_auths, set_visibility\n",
            "\n",
            "  Group name: rsgroup\n",
            "  Commands: add_rsgroup, alter_rsgroup_config, balance_rsgroup, get_namespace_rsgroup, get_rsgroup, get_server_rsgroup, get_table_rsgroup, list_rsgroups, move_namespaces_rsgroup, move_servers_namespaces_rsgroup, move_servers_rsgroup, move_servers_tables_rsgroup, move_tables_rsgroup, remove_rsgroup, remove_servers_rsgroup, rename_rsgroup, show_rsgroup_config\n",
            "\n",
            "SHELL USAGE:\n",
            "Quote all names in HBase Shell such as table and column names.  Commas delimit\n",
            "command parameters.  Type <RETURN> after entering a command to run it.\n",
            "Dictionaries of configuration used in the creation and alteration of tables are\n",
            "Ruby Hashes. They look like this:\n",
            "\n",
            "  {'key1' => 'value1', 'key2' => 'value2', ...}\n",
            "\n",
            "and are opened and closed with curley-braces.  Key/values are delimited by the\n",
            "'=>' character combination.  Usually keys are predefined constants such as\n",
            "NAME, VERSIONS, COMPRESSION, etc.  Constants do not need to be quoted.  Type\n",
            "'Object.constants' to see a (messy) list of all constants in the environment.\n",
            "\n",
            "If you are using binary keys or values and need to enter them in the shell, use\n",
            "double-quote'd hexadecimal representation. For example:\n",
            "\n",
            "  hbase> get 't1', \"key\\x03\\x3f\\xcd\"\n",
            "  hbase> get 't1', \"key\\003\\023\\011\"\n",
            "  hbase> put 't1', \"test\\xef\\xff\", 'f1:', \"\\x01\\x33\\x40\"\n",
            "\n",
            "The HBase shell is the (J)Ruby IRB with the above HBase-specific commands added.\n",
            "For more on the HBase Shell, see http://hbase.apache.org/book.html\n",
            "hbase:002:0> exit\n"
          ]
        }
      ]
    },
    {
      "cell_type": "markdown",
      "metadata": {
        "id": "qhuHJF4lH6f6"
      },
      "source": [
        "shell commands  <br>\n",
        "https://www.tutorialspoint.com/hbase/hbase_shell.htm <br>\n",
        "https://www.guru99.com/hbase-shell-general-commands.html <br>\n",
        "better way of passing shell commands are given here"
      ]
    },
    {
      "cell_type": "code",
      "metadata": {
        "colab": {
          "base_uri": "https://localhost:8080/"
        },
        "id": "cQdbisL2GQtE",
        "outputId": "0fdfb6d6-8272-4d87-ce48-ae386a6ba2da"
      },
      "source": [
        "!echo 'status' | hbase shell -n"
      ],
      "execution_count": 18,
      "outputs": [
        {
          "output_type": "stream",
          "name": "stdout",
          "text": [
            "hbase:001:0> status\n",
            "1 active master, 0 backup masters, 1 servers, 0 dead, 2.0000 average load\n",
            "Took 1.2135 seconds                                                             \n",
            "hbase:002:0> \n"
          ]
        }
      ]
    },
    {
      "cell_type": "code",
      "metadata": {
        "id": "0OvCnX8SGkPG"
      },
      "source": [
        "#!echo \"status 'detail'\" | hbase shell -n"
      ],
      "execution_count": null,
      "outputs": []
    },
    {
      "cell_type": "code",
      "metadata": {
        "colab": {
          "base_uri": "https://localhost:8080/"
        },
        "id": "NYhR2DpgIbnU",
        "outputId": "8dd4c6d2-4540-485a-b0b6-3a2210040854"
      },
      "source": [
        "!echo \"whoami\" | hbase shell -n"
      ],
      "execution_count": null,
      "outputs": [
        {
          "output_type": "stream",
          "name": "stdout",
          "text": [
            "hbase:001:0> whoami\n",
            "root (auth:SIMPLE)\n",
            "    groups: root\n",
            "Took 0.0184 seconds                                                             \n",
            "hbase:002:0> \n"
          ]
        }
      ]
    },
    {
      "cell_type": "markdown",
      "metadata": {
        "id": "psoYaCFmAItK"
      },
      "source": [
        "## Simple Tutorial\n",
        "command line tutorial https://akbarahmed.com/2012/08/13/hbase-command-line-tutorial/"
      ]
    },
    {
      "cell_type": "code",
      "metadata": {
        "colab": {
          "base_uri": "https://localhost:8080/"
        },
        "id": "vG4pok6AJu0V",
        "outputId": "f5eb4366-153a-450e-b639-85d50bdb2cf4"
      },
      "source": [
        "!echo \"create 'table1', 'columnfamily1'\" | hbase shell -n"
      ],
      "execution_count": null,
      "outputs": [
        {
          "output_type": "stream",
          "name": "stdout",
          "text": [
            "hbase:001:0> create 'table1', 'columnfamily1'\n",
            "Created table table1\n",
            "Took 1.5436 seconds                                                             \n",
            "=> Hbase::Table - table1\n",
            "hbase:002:0> \n"
          ]
        }
      ]
    },
    {
      "cell_type": "code",
      "metadata": {
        "colab": {
          "base_uri": "https://localhost:8080/"
        },
        "id": "Mb26zNcdKJpC",
        "outputId": "265f4007-8228-430f-ae1e-dec2eea4e805"
      },
      "source": [
        "!echo \"list\" | hbase shell -n"
      ],
      "execution_count": null,
      "outputs": [
        {
          "output_type": "stream",
          "name": "stdout",
          "text": [
            "hbase:001:0> list\n",
            "TABLE                                                                           \n",
            "table1                                                                          \n",
            "1 row(s)\n",
            "Took 0.7780 seconds                                                             \n",
            "=> [\"table1\"]\n",
            "hbase:002:0> \n"
          ]
        }
      ]
    },
    {
      "cell_type": "code",
      "metadata": {
        "colab": {
          "base_uri": "https://localhost:8080/"
        },
        "id": "xb9m6ahLKxDK",
        "outputId": "a4e7a795-3553-49c9-d594-e6c017f377d9"
      },
      "source": [
        "!echo \"create 'cars', 'vi'\" | hbase shell -n"
      ],
      "execution_count": null,
      "outputs": [
        {
          "output_type": "stream",
          "name": "stdout",
          "text": [
            "hbase:001:0> create 'cars', 'vi'\n",
            "Created table cars\n",
            "Took 1.9734 seconds                                                             \n",
            "=> Hbase::Table - cars\n",
            "hbase:002:0> \n"
          ]
        }
      ]
    },
    {
      "cell_type": "code",
      "metadata": {
        "colab": {
          "base_uri": "https://localhost:8080/"
        },
        "id": "InyhsYkXK_j9",
        "outputId": "8aa5b5aa-8dd0-43b1-9538-f2939ec50fe6"
      },
      "source": [
        "!echo \"list\" | hbase shell -n"
      ],
      "execution_count": null,
      "outputs": [
        {
          "output_type": "stream",
          "name": "stdout",
          "text": [
            "hbase:001:0> list\n",
            "TABLE                                                                           \n",
            "cars                                                                            \n",
            "table1                                                                          \n",
            "2 row(s)\n",
            "Took 0.7593 seconds                                                             \n",
            "=> [\"cars\", \"table1\"]\n",
            "hbase:002:0> \n"
          ]
        }
      ]
    },
    {
      "cell_type": "code",
      "metadata": {
        "colab": {
          "base_uri": "https://localhost:8080/"
        },
        "id": "L1ktyGL5LHG7",
        "outputId": "7377dc4c-68c9-4534-f787-5a3741d7e44e"
      },
      "source": [
        "# add ONE row\n",
        "# nearly THREE seconds per row ... what will you do with a million rows? wait for bulk loader\n",
        "!echo \"put 'cars', 'row1', 'vi:make', 'bmw'\" | hbase shell -n\n",
        "!echo \"put 'cars', 'row1', 'vi:model', '5 series'\" | hbase shell -n\n",
        "!echo \"put 'cars', 'row1', 'vi:year', '2012'\" | hbase shell -n"
      ],
      "execution_count": null,
      "outputs": [
        {
          "output_type": "stream",
          "name": "stdout",
          "text": [
            "hbase:001:0> put 'cars', 'row1', 'vi:make', 'bmw'\n",
            "Took 1.0632 seconds                                                             \n",
            "hbase:002:0> \n",
            "hbase:001:0> put 'cars', 'row1', 'vi:model', '5 series'\n",
            "Took 0.9659 seconds                                                             \n",
            "hbase:002:0> \n",
            "hbase:001:0> put 'cars', 'row1', 'vi:year', '2012'\n",
            "Took 0.8001 seconds                                                             \n",
            "hbase:002:0> \n"
          ]
        }
      ]
    },
    {
      "cell_type": "code",
      "metadata": {
        "colab": {
          "base_uri": "https://localhost:8080/"
        },
        "id": "aDyHCB9_MsUy",
        "outputId": "4d7d6004-629a-4c29-ae16-0141eed660a2"
      },
      "source": [
        "%%time\n",
        "# add ONE row\n",
        "!echo \"put 'cars', 'row2', 'vi:make', 'mercedes'\" | hbase shell -n\n",
        "!echo \"put 'cars', 'row2', 'vi:model', 'e class'\" | hbase shell -n\n",
        "!echo \"put 'cars', 'row2', 'vi:year', '2012'\" | hbase shell -n"
      ],
      "execution_count": null,
      "outputs": [
        {
          "output_type": "stream",
          "name": "stdout",
          "text": [
            "Took 0.9319 seconds                                                             \n",
            "\n",
            "Took 0.7347 seconds                                                             \n",
            "\n",
            "Took 0.9142 seconds                                                             \n",
            "\n"
          ]
        }
      ]
    },
    {
      "cell_type": "code",
      "metadata": {
        "colab": {
          "base_uri": "https://localhost:8080/"
        },
        "id": "YJ2RISDNN1gT",
        "outputId": "73864f95-2070-45d7-f3a7-327dafef05b5"
      },
      "source": [
        "%%time\n",
        "!echo \"scan 'cars'\" | hbase shell -n"
      ],
      "execution_count": null,
      "outputs": [
        {
          "output_type": "stream",
          "name": "stdout",
          "text": [
            "hbase:001:0> scan 'cars'\n",
            "ROW                   COLUMN+CELL                                               \n",
            " row1                 column=vi:make, timestamp=2022-06-09T09:16:52.392, value=b\n",
            "                      mw                                                        \n",
            " row1                 column=vi:model, timestamp=2022-06-09T09:18:11.887, value=\n",
            "                      5 series                                                  \n",
            " row1                 column=vi:year, timestamp=2022-06-09T09:19:31.849, value=2\n",
            "                      012                                                       \n",
            "1 row(s)\n",
            "Took 0.7886 seconds                                                             \n",
            "hbase:002:0> \n",
            "CPU times: user 541 ms, sys: 79.1 ms, total: 620 ms\n",
            "Wall time: 1min 19s\n"
          ]
        }
      ]
    },
    {
      "cell_type": "code",
      "metadata": {
        "colab": {
          "base_uri": "https://localhost:8080/"
        },
        "id": "sMadzGtQOVpM",
        "outputId": "823e264e-7770-42c9-bfed-39add34d2896"
      },
      "source": [
        "!echo \"scan 'cars', {COLUMNS => ['vi:make']}\" | hbase shell -n"
      ],
      "execution_count": null,
      "outputs": [
        {
          "output_type": "stream",
          "name": "stdout",
          "text": [
            "ROW                   COLUMN+CELL                                               \n",
            " row1                 column=vi:make, timestamp=2021-11-24T04:18:12.087, value=b\n",
            "                      mw                                                        \n",
            " row2                 column=vi:make, timestamp=2021-11-24T04:21:58.589, value=m\n",
            "                      ercedes                                                   \n",
            "2 row(s)\n",
            "Took 0.8018 seconds                                                             \n",
            "\n"
          ]
        }
      ]
    },
    {
      "cell_type": "code",
      "source": [
        "!echo \"get 'cars', 'row1'\"| hbase shell -n"
      ],
      "metadata": {
        "id": "SDVs9Yux2YPu",
        "outputId": "286f4ce0-357a-4a67-eb83-622eebd83720",
        "colab": {
          "base_uri": "https://localhost:8080/"
        }
      },
      "execution_count": null,
      "outputs": [
        {
          "output_type": "stream",
          "name": "stdout",
          "text": [
            "COLUMN                CELL                                                      \n",
            " vi:make              timestamp=2022-01-14T04:11:02.984, value=bmw              \n",
            " vi:model             timestamp=2022-01-14T04:12:17.633, value=5 series         \n",
            " vi:year              timestamp=2022-01-14T04:13:32.015, value=2012             \n",
            "1 row(s)\n",
            "Took 1.0586 seconds                                                             \n",
            "\n"
          ]
        }
      ]
    },
    {
      "cell_type": "code",
      "source": [
        "!echo \"get 'cars', 'row1', 'vi:make' \"| hbase shell -n"
      ],
      "metadata": {
        "id": "2F0-Eps93FxF",
        "outputId": "218f0cab-d403-4d80-e20d-bbec6863b922",
        "colab": {
          "base_uri": "https://localhost:8080/"
        }
      },
      "execution_count": null,
      "outputs": [
        {
          "output_type": "stream",
          "name": "stdout",
          "text": [
            "COLUMN                CELL                                                      \n",
            " vi:make              timestamp=2022-01-14T04:11:02.984, value=bmw              \n",
            "1 row(s)\n",
            "Took 1.0870 seconds                                                             \n",
            "\n"
          ]
        }
      ]
    },
    {
      "cell_type": "markdown",
      "source": [
        "### Versioning"
      ],
      "metadata": {
        "id": "TI4nTpqu9xtz"
      }
    },
    {
      "cell_type": "code",
      "source": [
        "# add the same row a second time\n",
        "!echo \"put 'cars', 'row1', 'vi:make', 'bmw-v2'\" | hbase shell -n"
      ],
      "metadata": {
        "id": "5jK9-93r30Dp",
        "outputId": "fb0c578e-33a1-4f85-fea1-1530460217c1",
        "colab": {
          "base_uri": "https://localhost:8080/"
        }
      },
      "execution_count": null,
      "outputs": [
        {
          "output_type": "stream",
          "name": "stdout",
          "text": [
            "Took 0.9879 seconds                                                             \n",
            "\n"
          ]
        }
      ]
    },
    {
      "cell_type": "code",
      "source": [
        "!echo \"get 'cars', 'row1', 'vi:make' \"| hbase shell -n"
      ],
      "metadata": {
        "id": "uVo7y5sx4Psd",
        "outputId": "8323a347-4d3a-4388-e042-d4031f74e49c",
        "colab": {
          "base_uri": "https://localhost:8080/"
        }
      },
      "execution_count": null,
      "outputs": [
        {
          "output_type": "stream",
          "name": "stdout",
          "text": [
            "COLUMN                CELL                                                      \n",
            " vi:make              timestamp=2022-01-14T04:37:03.533, value=bmw-v2           \n",
            "1 row(s)\n",
            "Took 1.0824 seconds                                                             \n",
            "\n"
          ]
        }
      ]
    },
    {
      "cell_type": "code",
      "source": [
        "!echo \"get 'cars', 'row1',  {COLUMN => 'vi:make', VERSIONS => 2} \"| hbase shell -n"
      ],
      "metadata": {
        "id": "HwG3kO_P4u_G",
        "outputId": "523a9079-5f26-4555-f6b7-07fefbee9633",
        "colab": {
          "base_uri": "https://localhost:8080/"
        }
      },
      "execution_count": null,
      "outputs": [
        {
          "output_type": "stream",
          "name": "stdout",
          "text": [
            "COLUMN                CELL                                                      \n",
            " vi:make              timestamp=2022-01-14T04:37:03.533, value=bmw-v2           \n",
            "1 row(s)\n",
            "Took 0.8776 seconds                                                             \n",
            "\n"
          ]
        }
      ]
    },
    {
      "cell_type": "code",
      "source": [
        "# versioning is not setup by default\n",
        "! echo \"alter 'cars', NAME=>'vi', VERSIONS=>3\" | hbase shell -n"
      ],
      "metadata": {
        "id": "WfE76SyV8ppK",
        "outputId": "01ddbcc6-61df-48bc-c49d-7aa2bb602636",
        "colab": {
          "base_uri": "https://localhost:8080/"
        }
      },
      "execution_count": null,
      "outputs": [
        {
          "output_type": "stream",
          "name": "stdout",
          "text": [
            "Updating all regions with the new schema...\n",
            "1/1 regions updated.\n",
            "Done.\n",
            "Took 2.7625 seconds                                                             \n",
            "\n"
          ]
        }
      ]
    },
    {
      "cell_type": "code",
      "source": [
        "# add the same row a third time\n",
        "!echo \"put 'cars', 'row1', 'vi:make', 'bmw-v3'\" | hbase shell -n"
      ],
      "metadata": {
        "id": "cn6iZqLo89DT",
        "outputId": "fe6eb6c2-e7a6-403a-e5d9-7c2ba02f3806",
        "colab": {
          "base_uri": "https://localhost:8080/"
        }
      },
      "execution_count": null,
      "outputs": [
        {
          "output_type": "stream",
          "name": "stdout",
          "text": [
            "Took 0.9044 seconds                                                             \n",
            "\n"
          ]
        }
      ]
    },
    {
      "cell_type": "code",
      "source": [
        "!echo \"get 'cars', 'row1',  {COLUMN => 'vi:make', VERSIONS => 2} \"| hbase shell -n"
      ],
      "metadata": {
        "id": "IIeysAjZ9Z9-",
        "outputId": "bbbddfd2-58b7-436c-fc52-7ce26af72613",
        "colab": {
          "base_uri": "https://localhost:8080/"
        }
      },
      "execution_count": null,
      "outputs": [
        {
          "output_type": "stream",
          "name": "stdout",
          "text": [
            "COLUMN                CELL                                                      \n",
            " vi:make              timestamp=2022-01-14T04:59:31.830, value=bmw-v3           \n",
            " vi:make              timestamp=2022-01-14T04:37:03.533, value=bmw-v2           \n",
            "1 row(s)\n",
            "Took 0.9090 seconds                                                             \n",
            "\n"
          ]
        }
      ]
    },
    {
      "cell_type": "code",
      "metadata": {
        "colab": {
          "base_uri": "https://localhost:8080/"
        },
        "id": "KBFVcL95PgSB",
        "outputId": "8631f35a-df21-4ca8-9c9b-3f2bba847ac6"
      },
      "source": [
        "!echo \"disable 'cars'\" | hbase shell -n\n",
        "!echo \"drop 'cars'\" | hbase shell -n"
      ],
      "execution_count": null,
      "outputs": [
        {
          "output_type": "stream",
          "name": "stdout",
          "text": [
            "Took 1.2346 seconds                                                             \n",
            "\n",
            "Took 1.1423 seconds                                                             \n",
            "\n"
          ]
        }
      ]
    },
    {
      "cell_type": "markdown",
      "metadata": {
        "id": "EztkGD3HPYhb"
      },
      "source": [
        "#Bulk Data Load\n",
        "https://people.apache.org/~stack/site/bulk-loads.html"
      ]
    },
    {
      "cell_type": "code",
      "metadata": {
        "colab": {
          "base_uri": "https://localhost:8080/"
        },
        "id": "v3z4W7zYzbEP",
        "outputId": "b17a56e0-4d38-4305-8e3d-bd585c8265e2"
      },
      "source": [
        "#Data as CSV file\n",
        "!gdown https://drive.google.com/uc?id=1B6szzHNG7BCToKOktRiGUfFblrp1f_GC  # cars2.csv"
      ],
      "execution_count": 19,
      "outputs": [
        {
          "output_type": "stream",
          "name": "stdout",
          "text": [
            "Downloading...\n",
            "From: https://drive.google.com/uc?id=1B6szzHNG7BCToKOktRiGUfFblrp1f_GC\n",
            "To: /content/cars2.csv\n",
            "\r  0% 0.00/54.0 [00:00<?, ?B/s]\r100% 54.0/54.0 [00:00<00:00, 67.8kB/s]\n"
          ]
        }
      ]
    },
    {
      "cell_type": "code",
      "metadata": {
        "colab": {
          "base_uri": "https://localhost:8080/"
        },
        "id": "rBJ063HuoDhA",
        "outputId": "5d4893ad-42d7-45bc-de2e-17b2197602a9"
      },
      "source": [
        "# see the data\n",
        "!cat cars2.csv"
      ],
      "execution_count": 20,
      "outputs": [
        {
          "output_type": "stream",
          "name": "stdout",
          "text": [
            "Ford,Ecosport,2019\r\n",
            "Hyundai,i20,2015\r\n",
            "Maruti,Omni,2007"
          ]
        }
      ]
    },
    {
      "cell_type": "code",
      "metadata": {
        "id": "EkEIeHtHkc3L"
      },
      "source": [
        "#!echo \"disable 'cars2'\" | hbase shell -n\n",
        "#!echo \"drop 'cars2'\" | hbase shell -n"
      ],
      "execution_count": null,
      "outputs": []
    },
    {
      "cell_type": "code",
      "metadata": {
        "colab": {
          "base_uri": "https://localhost:8080/"
        },
        "id": "rOlmaKHFewdi",
        "outputId": "1cd5665f-0efe-4a95-9911-4b2f3c30fc49"
      },
      "source": [
        "#create 'sensor','temp','vibration','pressure'\n",
        "!echo \"create 'cars2', 'make','model','year'\" | hbase shell -n"
      ],
      "execution_count": 21,
      "outputs": [
        {
          "output_type": "stream",
          "name": "stdout",
          "text": [
            "hbase:001:0> create 'cars2', 'make','model','year'\n",
            "Created table cars2\n",
            "Took 1.5112 seconds                                                             \n",
            "=> Hbase::Table - cars2\n",
            "hbase:002:0> \n"
          ]
        }
      ]
    },
    {
      "cell_type": "code",
      "metadata": {
        "colab": {
          "base_uri": "https://localhost:8080/"
        },
        "id": "Hg002j_6fKQx",
        "outputId": "0e627682-1e44-4ba9-8537-e294811ee812"
      },
      "source": [
        "!echo \"list\" | hbase shell -n"
      ],
      "execution_count": 22,
      "outputs": [
        {
          "output_type": "stream",
          "name": "stdout",
          "text": [
            "hbase:001:0> list\n",
            "TABLE                                                                           \n",
            "cars2                                                                           \n",
            "1 row(s)\n",
            "Took 0.9683 seconds                                                             \n",
            "=> [\"cars2\"]\n",
            "hbase:002:0> \n"
          ]
        }
      ]
    },
    {
      "cell_type": "code",
      "metadata": {
        "colab": {
          "base_uri": "https://localhost:8080/"
        },
        "id": "L0xLDl6_iHBA",
        "outputId": "b1c41473-dea8-438f-8b2e-e80dc264c38d"
      },
      "source": [
        "!cat cars2.csv"
      ],
      "execution_count": null,
      "outputs": [
        {
          "output_type": "stream",
          "name": "stdout",
          "text": [
            "Ford,Ecosport,2019\r\n",
            "Hyundai,i20,2015\r\n",
            "Maruti,Omni,2007"
          ]
        }
      ]
    },
    {
      "cell_type": "code",
      "metadata": {
        "id": "EYhznehYfZiC"
      },
      "source": [
        "# input file has to be moved from regular file system to HDFS file system\n",
        "!hdfs dfs -copyFromLocal cars2.csv /tmp"
      ],
      "execution_count": 23,
      "outputs": []
    },
    {
      "cell_type": "code",
      "metadata": {
        "colab": {
          "base_uri": "https://localhost:8080/"
        },
        "id": "CF5loP6EfxuW",
        "outputId": "29ba1824-dd26-412a-ae30-d60f9b69cfc4"
      },
      "source": [
        "# https://community.cloudera.com/t5/Community-Articles/Import-CSV-data-into-HBase-using-importtsv/ta-p/244842\n",
        "#hbase org.apache.hadoop.hbase.mapreduce.ImportTsv -Dimporttsv.separator=,  -Dimporttsv.columns=\"HBASE_ROW_KEY,id,temp:in,temp:out,vibration,pressure:in,pressure:out\" sensor hdfs://sandbox.hortonworks.com:/tmp/hbase.csv\n",
        "!hbase org.apache.hadoop.hbase.mapreduce.ImportTsv -Dimporttsv.separator=','  -Dimporttsv.columns=\"HBASE_ROW_KEY,make,model,year\" cars2 /tmp/cars2.csv"
      ],
      "execution_count": 24,
      "outputs": [
        {
          "output_type": "stream",
          "name": "stdout",
          "text": [
            "2022-06-24 00:00:25,019 INFO  [ReadOnlyZKClient-127.0.0.1:2181@0x1ce24091] zookeeper.ZooKeeper: Client environment:zookeeper.version=3.5.7-f0fdd52973d373ffd9c86b81d99842dc2c7f660e, built on 02/10/2020 11:30 GMT\n",
            "2022-06-24 00:00:25,020 INFO  [ReadOnlyZKClient-127.0.0.1:2181@0x1ce24091] zookeeper.ZooKeeper: Client environment:host.name=c51431f48b01\n",
            "2022-06-24 00:00:25,020 INFO  [ReadOnlyZKClient-127.0.0.1:2181@0x1ce24091] zookeeper.ZooKeeper: Client environment:java.version=1.8.0_312\n",
            "2022-06-24 00:00:25,020 INFO  [ReadOnlyZKClient-127.0.0.1:2181@0x1ce24091] zookeeper.ZooKeeper: Client environment:java.vendor=Private Build\n",
            "2022-06-24 00:00:25,020 INFO  [ReadOnlyZKClient-127.0.0.1:2181@0x1ce24091] zookeeper.ZooKeeper: Client environment:java.home=/usr/lib/jvm/java-8-openjdk-amd64/jre\n",
            "2022-06-24 00:00:25,020 INFO  [ReadOnlyZKClient-127.0.0.1:2181@0x1ce24091] zookeeper.ZooKeeper: managed-am-launcher-3.3.3.jar:/usr/local/hadoop-3.3.3//share/hadoop/yarn/hadoop-yarn-api-3.3.3.jar:/usr/local/hadoop-3.3.3//share/hadoop/yarn/hadoop-yarn-server-web-proxy-3.3.3.jar:/usr/local/hadoop-3.3.3//share/hadoop/yarn/hadoop-yarn-services-core-3.3.3.jar:/usr/local/hadoop-3.3.3//share/hadoop/yarn/hadoop-yarn-applications-mawo-core-3.3.3.jar:/usr/local/hadoop-3.3.3//share/hadoop/yarn/hadoop-yarn-client-3.3.3.jar:/usr/local/hadoop-3.3.3//share/hadoop/yarn/hadoop-yarn-server-resourcemanager-3.3.3.jar:/usr/local/hadoop-3.3.3//share/hadoop/yarn/hadoop-yarn-server-router-3.3.3.jar:/usr/local/hadoop-3.3.3//share/hadoop/yarn/hadoop-yarn-applications-distributedshell-3.3.3.jar:/usr/local/hadoop-3.3.3//share/hadoop/yarn/hadoop-yarn-server-tests-3.3.3.jar:/usr/local/hadoop-3.3.3//share/hadoop/yarn/hadoop-yarn-services-api-3.3.3.jar:/usr/local/hadoop-3.3.3//share/hadoop/yarn/hadoop-yarn-common-3.3.3.jar:/usr/local/hadoop-3.3.3//share/hadoop/yarn/hadoop-yarn-server-sharedcachemanager-3.3.3.jar\n",
            "2022-06-24 00:00:25,020 INFO  [ReadOnlyZKClient-127.0.0.1:2181@0x1ce24091] zookeeper.ZooKeeper: Client environment:java.library.path=/usr/local/hadoop-3.3.3//lib/native\n",
            "2022-06-24 00:00:25,020 INFO  [ReadOnlyZKClient-127.0.0.1:2181@0x1ce24091] zookeeper.ZooKeeper: Client environment:java.io.tmpdir=/tmp\n",
            "2022-06-24 00:00:25,020 INFO  [ReadOnlyZKClient-127.0.0.1:2181@0x1ce24091] zookeeper.ZooKeeper: Client environment:java.compiler=<NA>\n",
            "2022-06-24 00:00:25,020 INFO  [ReadOnlyZKClient-127.0.0.1:2181@0x1ce24091] zookeeper.ZooKeeper: Client environment:os.name=Linux\n",
            "2022-06-24 00:00:25,020 INFO  [ReadOnlyZKClient-127.0.0.1:2181@0x1ce24091] zookeeper.ZooKeeper: Client environment:os.arch=amd64\n",
            "2022-06-24 00:00:25,020 INFO  [ReadOnlyZKClient-127.0.0.1:2181@0x1ce24091] zookeeper.ZooKeeper: Client environment:os.version=5.4.188+\n",
            "2022-06-24 00:00:25,020 INFO  [ReadOnlyZKClient-127.0.0.1:2181@0x1ce24091] zookeeper.ZooKeeper: Client environment:user.name=root\n",
            "2022-06-24 00:00:25,021 INFO  [ReadOnlyZKClient-127.0.0.1:2181@0x1ce24091] zookeeper.ZooKeeper: Client environment:user.home=/root\n",
            "2022-06-24 00:00:25,021 INFO  [ReadOnlyZKClient-127.0.0.1:2181@0x1ce24091] zookeeper.ZooKeeper: Client environment:user.dir=/content\n",
            "2022-06-24 00:00:25,021 INFO  [ReadOnlyZKClient-127.0.0.1:2181@0x1ce24091] zookeeper.ZooKeeper: Client environment:os.memory.free=178MB\n",
            "2022-06-24 00:00:25,021 INFO  [ReadOnlyZKClient-127.0.0.1:2181@0x1ce24091] zookeeper.ZooKeeper: Client environment:os.memory.max=3231MB\n",
            "2022-06-24 00:00:25,021 INFO  [ReadOnlyZKClient-127.0.0.1:2181@0x1ce24091] zookeeper.ZooKeeper: Client environment:os.memory.total=197MB\n",
            "2022-06-24 00:00:25,027 INFO  [ReadOnlyZKClient-127.0.0.1:2181@0x1ce24091] zookeeper.ZooKeeper: Initiating client connection, connectString=127.0.0.1:2181 sessionTimeout=90000 watcher=org.apache.hadoop.hbase.zookeeper.ReadOnlyZKClient$$Lambda$15/895446950@3ac1a97a\n",
            "2022-06-24 00:00:25,034 INFO  [ReadOnlyZKClient-127.0.0.1:2181@0x1ce24091] common.X509Util: Setting -D jdk.tls.rejectClientInitiatedRenegotiation=true to disable client-initiated TLS renegotiation\n",
            "2022-06-24 00:00:25,044 INFO  [ReadOnlyZKClient-127.0.0.1:2181@0x1ce24091] zookeeper.ClientCnxnSocket: jute.maxbuffer value is 4194304 Bytes\n",
            "2022-06-24 00:00:25,057 INFO  [ReadOnlyZKClient-127.0.0.1:2181@0x1ce24091] zookeeper.ClientCnxn: zookeeper.request.timeout value is 0. feature enabled=\n",
            "2022-06-24 00:00:25,076 INFO  [ReadOnlyZKClient-127.0.0.1:2181@0x1ce24091-SendThread(127.0.0.1:2181)] zookeeper.ClientCnxn: Opening socket connection to server localhost/127.0.0.1:2181. Will not attempt to authenticate using SASL (unknown error)\n",
            "2022-06-24 00:00:25,082 INFO  [ReadOnlyZKClient-127.0.0.1:2181@0x1ce24091-SendThread(127.0.0.1:2181)] zookeeper.ClientCnxn: Socket connection established, initiating session, client: /127.0.0.1:56312, server: localhost/127.0.0.1:2181\n",
            "2022-06-24 00:00:25,093 INFO  [ReadOnlyZKClient-127.0.0.1:2181@0x1ce24091-SendThread(127.0.0.1:2181)] zookeeper.ClientCnxn: Session establishment complete on server localhost/127.0.0.1:2181, sessionid = 0x1000005ef5a0009, negotiated timeout = 40000\n",
            "2022-06-24 00:00:26,904 INFO  [main] Configuration.deprecation: session.id is deprecated. Instead, use dfs.metrics.session-id\n",
            "2022-06-24 00:00:26,905 INFO  [main] jvm.JvmMetrics: Initializing JVM Metrics with processName=JobTracker, sessionId=\n",
            "2022-06-24 00:00:26,963 INFO  [ReadOnlyZKClient-127.0.0.1:2181@0x1ce24091] zookeeper.ZooKeeper: Session: 0x1000005ef5a0009 closed\n",
            "2022-06-24 00:00:26,963 INFO  [ReadOnlyZKClient-127.0.0.1:2181@0x1ce24091-EventThread] zookeeper.ClientCnxn: EventThread shut down for session: 0x1000005ef5a0009\n",
            "2022-06-24 00:00:27,022 INFO  [ReadOnlyZKClient-127.0.0.1:2181@0x5ddabb18] zookeeper.ZooKeeper: Initiating client connection, connectString=127.0.0.1:2181 sessionTimeout=90000 watcher=org.apache.hadoop.hbase.zookeeper.ReadOnlyZKClient$$Lambda$15/895446950@3ac1a97a\n",
            "2022-06-24 00:00:27,023 INFO  [ReadOnlyZKClient-127.0.0.1:2181@0x5ddabb18] zookeeper.ClientCnxnSocket: jute.maxbuffer value is 4194304 Bytes\n",
            "2022-06-24 00:00:27,023 INFO  [ReadOnlyZKClient-127.0.0.1:2181@0x5ddabb18] zookeeper.ClientCnxn: zookeeper.request.timeout value is 0. feature enabled=\n",
            "2022-06-24 00:00:27,024 INFO  [ReadOnlyZKClient-127.0.0.1:2181@0x5ddabb18-SendThread(127.0.0.1:2181)] zookeeper.ClientCnxn: Opening socket connection to server localhost/127.0.0.1:2181. Will not attempt to authenticate using SASL (unknown error)\n",
            "2022-06-24 00:00:27,025 INFO  [ReadOnlyZKClient-127.0.0.1:2181@0x5ddabb18-SendThread(127.0.0.1:2181)] zookeeper.ClientCnxn: Socket connection established, initiating session, client: /127.0.0.1:56318, server: localhost/127.0.0.1:2181\n",
            "2022-06-24 00:00:27,029 INFO  [ReadOnlyZKClient-127.0.0.1:2181@0x5ddabb18-SendThread(127.0.0.1:2181)] zookeeper.ClientCnxn: Session establishment complete on server localhost/127.0.0.1:2181, sessionid = 0x1000005ef5a000a, negotiated timeout = 40000\n",
            "2022-06-24 00:00:27,179 INFO  [ReadOnlyZKClient-127.0.0.1:2181@0x5ddabb18] zookeeper.ZooKeeper: Session: 0x1000005ef5a000a closed\n",
            "2022-06-24 00:00:27,179 INFO  [ReadOnlyZKClient-127.0.0.1:2181@0x5ddabb18-EventThread] zookeeper.ClientCnxn: EventThread shut down for session: 0x1000005ef5a000a\n",
            "2022-06-24 00:00:27,361 INFO  [main] input.FileInputFormat: Total input files to process : 1\n",
            "2022-06-24 00:00:27,436 INFO  [main] mapreduce.JobSubmitter: number of splits:1\n",
            "2022-06-24 00:00:27,714 INFO  [main] mapreduce.JobSubmitter: Submitting tokens for job: job_local1471181186_0001\n",
            "2022-06-24 00:00:28,217 INFO  [main] mapred.LocalDistributedCacheManager: Creating symlink: /tmp/hadoop-root/mapred/local/1656028827925/libjars <- /content/libjars/*\n",
            "2022-06-24 00:00:28,225 WARN  [main] fs.FileUtil: Command 'ln -s /tmp/hadoop-root/mapred/local/1656028827925/libjars /content/libjars/*' failed 1 with: ln: failed to create symbolic link '/content/libjars/*': No such file or directory\n",
            "\n",
            "2022-06-24 00:00:28,225 WARN  [main] mapred.LocalDistributedCacheManager: Failed to create symlink: /tmp/hadoop-root/mapred/local/1656028827925/libjars <- /content/libjars/*\n",
            "2022-06-24 00:00:28,226 INFO  [main] mapred.LocalDistributedCacheManager: Localized file:/tmp/hadoop-root/mapred/staging/root1471181186/.staging/job_local1471181186_0001/libjars as file:/tmp/hadoop-root/mapred/local/1656028827925/libjars\n",
            "2022-06-24 00:00:28,376 INFO  [main] mapreduce.Job: The url to track the job: http://localhost:8080/\n",
            "2022-06-24 00:00:28,377 INFO  [main] mapreduce.Job: Running job: job_local1471181186_0001\n",
            "2022-06-24 00:00:28,382 INFO  [Thread-7] mapred.LocalJobRunner: OutputCommitter set in config null\n",
            "2022-06-24 00:00:28,428 INFO  [Thread-7] mapred.LocalJobRunner: OutputCommitter is org.apache.hadoop.hbase.mapreduce.TableOutputCommitter\n",
            "2022-06-24 00:00:28,469 INFO  [Thread-7] mapred.LocalJobRunner: Waiting for map tasks\n",
            "2022-06-24 00:00:28,470 INFO  [LocalJobRunner Map Task Executor #0] mapred.LocalJobRunner: Starting task: attempt_local1471181186_0001_m_000000_0\n",
            "2022-06-24 00:00:28,566 INFO  [LocalJobRunner Map Task Executor #0] mapred.Task:  Using ResourceCalculatorProcessTree : [ ]\n",
            "2022-06-24 00:00:28,579 INFO  [LocalJobRunner Map Task Executor #0] mapred.MapTask: Processing split: file:/tmp/cars2.csv:0+54\n",
            "2022-06-24 00:00:28,606 INFO  [ReadOnlyZKClient-127.0.0.1:2181@0x712d035d] zookeeper.ZooKeeper: Initiating client connection, connectString=127.0.0.1:2181 sessionTimeout=90000 watcher=org.apache.hadoop.hbase.zookeeper.ReadOnlyZKClient$$Lambda$15/895446950@3ac1a97a\n",
            "2022-06-24 00:00:28,606 INFO  [ReadOnlyZKClient-127.0.0.1:2181@0x712d035d] zookeeper.ClientCnxnSocket: jute.maxbuffer value is 4194304 Bytes\n",
            "2022-06-24 00:00:28,607 INFO  [ReadOnlyZKClient-127.0.0.1:2181@0x712d035d] zookeeper.ClientCnxn: zookeeper.request.timeout value is 0. feature enabled=\n",
            "2022-06-24 00:00:28,614 INFO  [ReadOnlyZKClient-127.0.0.1:2181@0x712d035d-SendThread(127.0.0.1:2181)] zookeeper.ClientCnxn: Opening socket connection to server localhost/127.0.0.1:2181. Will not attempt to authenticate using SASL (unknown error)\n",
            "2022-06-24 00:00:28,615 INFO  [ReadOnlyZKClient-127.0.0.1:2181@0x712d035d-SendThread(127.0.0.1:2181)] zookeeper.ClientCnxn: Socket connection established, initiating session, client: /127.0.0.1:56336, server: localhost/127.0.0.1:2181\n",
            "2022-06-24 00:00:28,620 INFO  [ReadOnlyZKClient-127.0.0.1:2181@0x712d035d-SendThread(127.0.0.1:2181)] zookeeper.ClientCnxn: Session establishment complete on server localhost/127.0.0.1:2181, sessionid = 0x1000005ef5a000b, negotiated timeout = 40000\n",
            "2022-06-24 00:00:28,629 INFO  [LocalJobRunner Map Task Executor #0] mapreduce.TableOutputFormat: Created table instance for cars2\n",
            "2022-06-24 00:00:28,673 INFO  [ReadOnlyZKClient-127.0.0.1:2181@0x0f0e6317] zookeeper.ZooKeeper: Initiating client connection, connectString=127.0.0.1:2181 sessionTimeout=90000 watcher=org.apache.hadoop.hbase.zookeeper.ReadOnlyZKClient$$Lambda$15/895446950@3ac1a97a\n",
            "2022-06-24 00:00:28,673 INFO  [ReadOnlyZKClient-127.0.0.1:2181@0x0f0e6317] zookeeper.ClientCnxnSocket: jute.maxbuffer value is 4194304 Bytes\n",
            "2022-06-24 00:00:28,674 INFO  [ReadOnlyZKClient-127.0.0.1:2181@0x0f0e6317] zookeeper.ClientCnxn: zookeeper.request.timeout value is 0. feature enabled=\n",
            "2022-06-24 00:00:28,679 INFO  [ReadOnlyZKClient-127.0.0.1:2181@0x0f0e6317-SendThread(127.0.0.1:2181)] zookeeper.ClientCnxn: Opening socket connection to server localhost/127.0.0.1:2181. Will not attempt to authenticate using SASL (unknown error)\n",
            "2022-06-24 00:00:28,680 INFO  [ReadOnlyZKClient-127.0.0.1:2181@0x0f0e6317-SendThread(127.0.0.1:2181)] zookeeper.ClientCnxn: Socket connection established, initiating session, client: /127.0.0.1:56338, server: localhost/127.0.0.1:2181\n",
            "2022-06-24 00:00:28,685 INFO  [ReadOnlyZKClient-127.0.0.1:2181@0x0f0e6317-SendThread(127.0.0.1:2181)] zookeeper.ClientCnxn: Session establishment complete on server localhost/127.0.0.1:2181, sessionid = 0x1000005ef5a000c, negotiated timeout = 40000\n",
            "2022-06-24 00:00:28,800 INFO  [LocalJobRunner Map Task Executor #0] mapred.LocalJobRunner: \n",
            "2022-06-24 00:00:28,893 INFO  [ReadOnlyZKClient-127.0.0.1:2181@0x0f0e6317] zookeeper.ZooKeeper: Session: 0x1000005ef5a000c closed\n",
            "2022-06-24 00:00:28,894 INFO  [ReadOnlyZKClient-127.0.0.1:2181@0x0f0e6317-EventThread] zookeeper.ClientCnxn: EventThread shut down for session: 0x1000005ef5a000c\n",
            "2022-06-24 00:00:29,086 INFO  [LocalJobRunner Map Task Executor #0] mapred.Task: Task:attempt_local1471181186_0001_m_000000_0 is done. And is in the process of committing\n",
            "2022-06-24 00:00:29,111 INFO  [LocalJobRunner Map Task Executor #0] mapred.LocalJobRunner: map\n",
            "2022-06-24 00:00:29,113 INFO  [LocalJobRunner Map Task Executor #0] mapred.Task: Task 'attempt_local1471181186_0001_m_000000_0' done.\n",
            "2022-06-24 00:00:29,123 INFO  [LocalJobRunner Map Task Executor #0] mapred.Task: Final Counters for attempt_local1471181186_0001_m_000000_0: Counters: 19\n",
            "\tFile System Counters\n",
            "\t\tFILE: Number of bytes read=432106\n",
            "\t\tFILE: Number of bytes written=1005031\n",
            "\t\tFILE: Number of read operations=0\n",
            "\t\tFILE: Number of large read operations=0\n",
            "\t\tFILE: Number of write operations=0\n",
            "\tMap-Reduce Framework\n",
            "\t\tMap input records=3\n",
            "\t\tMap output records=3\n",
            "\t\tInput split bytes=84\n",
            "\t\tSpilled Records=0\n",
            "\t\tFailed Shuffles=0\n",
            "\t\tMerged Map outputs=0\n",
            "\t\tGC time elapsed (ms)=0\n",
            "\t\tCPU time spent (ms)=590\n",
            "\t\tPhysical memory (bytes) snapshot=276144128\n",
            "\t\tVirtual memory (bytes) snapshot=5152628736\n",
            "\t\tTotal committed heap usage (bytes)=206831616\n",
            "\tImportTsv\n",
            "\t\tBad Lines=0\n",
            "\tFile Input Format Counters \n",
            "\t\tBytes Read=74\n",
            "\tFile Output Format Counters \n",
            "\t\tBytes Written=0\n",
            "2022-06-24 00:00:29,123 INFO  [LocalJobRunner Map Task Executor #0] mapred.LocalJobRunner: Finishing task: attempt_local1471181186_0001_m_000000_0\n",
            "2022-06-24 00:00:29,124 INFO  [Thread-7] mapred.LocalJobRunner: map task executor complete.\n",
            "2022-06-24 00:00:29,192 INFO  [ReadOnlyZKClient-127.0.0.1:2181@0x712d035d] zookeeper.ZooKeeper: Session: 0x1000005ef5a000b closed\n",
            "2022-06-24 00:00:29,192 INFO  [ReadOnlyZKClient-127.0.0.1:2181@0x712d035d-EventThread] zookeeper.ClientCnxn: EventThread shut down for session: 0x1000005ef5a000b\n",
            "2022-06-24 00:00:29,387 INFO  [main] mapreduce.Job: Job job_local1471181186_0001 running in uber mode : false\n",
            "2022-06-24 00:00:29,388 INFO  [main] mapreduce.Job:  map 100% reduce 0%\n",
            "2022-06-24 00:00:29,392 INFO  [main] mapreduce.Job: Job job_local1471181186_0001 completed successfully\n",
            "2022-06-24 00:00:29,400 INFO  [main] mapreduce.Job: Counters: 19\n",
            "\tFile System Counters\n",
            "\t\tFILE: Number of bytes read=432106\n",
            "\t\tFILE: Number of bytes written=1005031\n",
            "\t\tFILE: Number of read operations=0\n",
            "\t\tFILE: Number of large read operations=0\n",
            "\t\tFILE: Number of write operations=0\n",
            "\tMap-Reduce Framework\n",
            "\t\tMap input records=3\n",
            "\t\tMap output records=3\n",
            "\t\tInput split bytes=84\n",
            "\t\tSpilled Records=0\n",
            "\t\tFailed Shuffles=0\n",
            "\t\tMerged Map outputs=0\n",
            "\t\tGC time elapsed (ms)=0\n",
            "\t\tCPU time spent (ms)=590\n",
            "\t\tPhysical memory (bytes) snapshot=276144128\n",
            "\t\tVirtual memory (bytes) snapshot=5152628736\n",
            "\t\tTotal committed heap usage (bytes)=206831616\n",
            "\tImportTsv\n",
            "\t\tBad Lines=0\n",
            "\tFile Input Format Counters \n",
            "\t\tBytes Read=74\n",
            "\tFile Output Format Counters \n",
            "\t\tBytes Written=0\n"
          ]
        }
      ]
    },
    {
      "cell_type": "code",
      "metadata": {
        "colab": {
          "base_uri": "https://localhost:8080/"
        },
        "id": "CSs-MATjgw6p",
        "outputId": "9823c052-3fc1-48a0-f3ff-8ac86ddd0d5e"
      },
      "source": [
        "!echo \"scan 'cars2'\" | hbase shell -n"
      ],
      "execution_count": 25,
      "outputs": [
        {
          "output_type": "stream",
          "name": "stdout",
          "text": [
            "hbase:001:0> scan 'cars2'\n",
            "ROW                   COLUMN+CELL                                               \n",
            " Ford                 column=make:, timestamp=2022-06-24T00:00:24.251, value=Eco\n",
            "                      sport                                                     \n",
            " Ford                 column=model:, timestamp=2022-06-24T00:00:24.251, value=20\n",
            "                      19                                                        \n",
            " Hyundai              column=make:, timestamp=2022-06-24T00:00:24.251, value=i20\n",
            " Hyundai              column=model:, timestamp=2022-06-24T00:00:24.251, value=20\n",
            "                      15                                                        \n",
            " Maruti               column=make:, timestamp=2022-06-24T00:00:24.251, value=Omn\n",
            "                      i                                                         \n",
            " Maruti               column=model:, timestamp=2022-06-24T00:00:24.251, value=20\n",
            "                      07                                                        \n",
            "3 row(s)\n",
            "Took 1.1442 seconds                                                             \n",
            "hbase:002:0> \n"
          ]
        }
      ]
    },
    {
      "cell_type": "markdown",
      "metadata": {
        "id": "O6PP3akdlVKJ"
      },
      "source": [
        "#Stop HBase"
      ]
    },
    {
      "cell_type": "code",
      "metadata": {
        "colab": {
          "base_uri": "https://localhost:8080/"
        },
        "id": "p28XBoitAWTL",
        "outputId": "72bd79c8-b6fc-4ce9-dccc-d8e99583e336"
      },
      "source": [
        "!stop-hbase.sh"
      ],
      "execution_count": 26,
      "outputs": [
        {
          "output_type": "stream",
          "name": "stdout",
          "text": [
            "stopping hbase................\n"
          ]
        }
      ]
    }
  ]
}