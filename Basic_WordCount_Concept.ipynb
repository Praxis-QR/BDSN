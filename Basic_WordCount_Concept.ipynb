{
  "nbformat": 4,
  "nbformat_minor": 0,
  "metadata": {
    "colab": {
      "name": "Basic WordCount Concept",
      "provenance": [],
      "toc_visible": true,
      "authorship_tag": "ABX9TyMq0CSHkhEgbyx6McTeGcWd",
      "include_colab_link": true
    },
    "kernelspec": {
      "name": "python3",
      "display_name": "Python 3"
    },
    "language_info": {
      "name": "python"
    }
  },
  "cells": [
    {
      "cell_type": "markdown",
      "metadata": {
        "id": "view-in-github",
        "colab_type": "text"
      },
      "source": [
        "<a href=\"https://colab.research.google.com/github/Praxis-QR/BDSN/blob/main/Basic_WordCount_Concept.ipynb\" target=\"_parent\"><img src=\"https://colab.research.google.com/assets/colab-badge.svg\" alt=\"Open In Colab\"/></a>"
      ]
    },
    {
      "cell_type": "markdown",
      "metadata": {
        "id": "PNiy7KEZDUv1"
      },
      "source": [
        "![alt text](https://4.bp.blogspot.com/-gbL5nZDkpFQ/XScFYwoTEII/AAAAAAAAAGY/CcVb_HDLwvs2Brv5T4vSsUcz7O4r2Q79ACK4BGAYYCw/s1600/kk3-header00-beta.png)<br>\n",
        "\n",
        "\n",
        "<hr>\n",
        "\n",
        "[Prithwis Mukerjee](http://www.linkedin.com/in/prithwis)<br>"
      ]
    },
    {
      "cell_type": "markdown",
      "metadata": {
        "id": "TgVnsffZDfwV"
      },
      "source": [
        "# Map Reduce Concept\n",
        "Here we demonstrate the principles of Map-Reduce WITHOUT the need for any complex software like Hadoop or Spark"
      ]
    },
    {
      "cell_type": "markdown",
      "metadata": {
        "id": "KlC9eIM9Dtxx"
      },
      "source": [
        "## Create a map.py and red(uce).py file"
      ]
    },
    {
      "cell_type": "code",
      "metadata": {
        "colab": {
          "base_uri": "https://localhost:8080/"
        },
        "id": "-IrWIhm_cTO_",
        "outputId": "8defcd8c-7590-4501-8740-5e2472c00bda"
      },
      "source": [
        "%%writefile map.py\n",
        "#!/usr/bin/env python\n",
        "\n",
        "import sys\n",
        "\n",
        "# input comes from STDIN (standard input)\n",
        "for line in sys.stdin:\n",
        "    # remove leading and trailing whitespace\n",
        "    line = line.strip()\n",
        "    # split the line into words\n",
        "    words = line.split()\n",
        "    # increase counters\n",
        "    for word in words:\n",
        "        # write the results to STDOUT (standard output);\n",
        "        # what we output here will be the input for the\n",
        "        # Reduce step, i.e. the input for reducer.py\n",
        "        #\n",
        "        # tab-delimited; the trivial word count is 1\n",
        "        print (word, 1)"
      ],
      "execution_count": 1,
      "outputs": [
        {
          "output_type": "stream",
          "name": "stdout",
          "text": [
            "Writing map.py\n"
          ]
        }
      ]
    },
    {
      "cell_type": "code",
      "metadata": {
        "colab": {
          "base_uri": "https://localhost:8080/"
        },
        "id": "LYJ9ydfqcsN7",
        "outputId": "9ae5a33f-9627-4a97-aeec-64feca1ab41c"
      },
      "source": [
        "%%writefile red.py\n",
        "#!/usr/bin/env python\n",
        "\n",
        "from operator import itemgetter\n",
        "import sys\n",
        "\n",
        "current_word = None\n",
        "current_count = 0\n",
        "word = None\n",
        "\n",
        "# input comes from STDIN\n",
        "for line in sys.stdin:\n",
        "    # remove leading and trailing whitespace\n",
        "    line = line.strip()\n",
        "    \n",
        "\n",
        "    # parse the input we got from mapper.py\n",
        "    word, count = line.split(' ')\n",
        "    # convert count (currently a string) to int\n",
        "    count = int(count)\n",
        "\n",
        "    # this IF-switch only works because Hadoop sorts map output\n",
        "    # by key (here: word) before it is passed to the reducer\n",
        "    if current_word == word:\n",
        "        current_count += count\n",
        "    else:\n",
        "        if current_word:\n",
        "            # write result to STDOUT\n",
        "            print (current_word, current_count)\n",
        "        current_count = count\n",
        "        current_word = word\n",
        "\n",
        "# do not forget to output the last word if needed!\n",
        "if current_word == word:\n",
        "    print (current_word, current_count)"
      ],
      "execution_count": 2,
      "outputs": [
        {
          "output_type": "stream",
          "name": "stdout",
          "text": [
            "Writing red.py\n"
          ]
        }
      ]
    },
    {
      "cell_type": "code",
      "metadata": {
        "id": "s1Cd31G-RrUJ",
        "outputId": "7e29c288-cf6b-4d21-9c8d-5e86d3c151b0",
        "colab": {
          "base_uri": "https://localhost:8080/"
        }
      },
      "source": [
        "!ls -al\n",
        "# Removing carriage returns ... not required anymore\n",
        "#!sed 's/\\r$//' map.py > map1.py \n",
        "#!sed 's/\\r$//' red.py > red1.py"
      ],
      "execution_count": 3,
      "outputs": [
        {
          "output_type": "stream",
          "name": "stdout",
          "text": [
            "total 24\n",
            "drwxr-xr-x 1 root root 4096 Oct  7 04:47 .\n",
            "drwxr-xr-x 1 root root 4096 Oct  7 04:45 ..\n",
            "drwxr-xr-x 4 root root 4096 Oct  5 13:34 .config\n",
            "-rw-r--r-- 1 root root  526 Oct  7 04:47 map.py\n",
            "-rw-r--r-- 1 root root  871 Oct  7 04:47 red.py\n",
            "drwxr-xr-x 1 root root 4096 Oct  5 13:35 sample_data\n"
          ]
        }
      ]
    },
    {
      "cell_type": "code",
      "metadata": {
        "id": "ZkFcWvDjS15y",
        "outputId": "9a02c5a7-a4f5-4f1b-b5c7-f3449b367881",
        "colab": {
          "base_uri": "https://localhost:8080/"
        }
      },
      "source": [
        "# make files executable\n",
        "!chmod u+rwx /content/map.py\n",
        "!chmod u+rwx /content/red.py\n",
        "!ls -al"
      ],
      "execution_count": 4,
      "outputs": [
        {
          "output_type": "stream",
          "name": "stdout",
          "text": [
            "total 24\n",
            "drwxr-xr-x 1 root root 4096 Oct  7 04:47 .\n",
            "drwxr-xr-x 1 root root 4096 Oct  7 04:45 ..\n",
            "drwxr-xr-x 4 root root 4096 Oct  5 13:34 .config\n",
            "-rwxr--r-- 1 root root  526 Oct  7 04:47 map.py\n",
            "-rwxr--r-- 1 root root  871 Oct  7 04:47 red.py\n",
            "drwxr-xr-x 1 root root 4096 Oct  5 13:35 sample_data\n"
          ]
        }
      ]
    },
    {
      "cell_type": "markdown",
      "metadata": {
        "id": "nfCNZ8NLEK6W"
      },
      "source": [
        "## 3 steps > MAP > SORT > REDUCE"
      ]
    },
    {
      "cell_type": "code",
      "metadata": {
        "id": "Ms0yPMrTEPI-",
        "outputId": "4dcdf2cc-870b-4789-ce76-43490d09f137",
        "colab": {
          "base_uri": "https://localhost:8080/"
        }
      },
      "source": [
        "# Step 0 > just PRINT the input\n",
        "!echo \"the king beneath the mountain the king of carven stone\""
      ],
      "execution_count": 5,
      "outputs": [
        {
          "output_type": "stream",
          "name": "stdout",
          "text": [
            "the king beneath the mountain the king of carven stone\n"
          ]
        }
      ]
    },
    {
      "cell_type": "code",
      "metadata": {
        "colab": {
          "base_uri": "https://localhost:8080/"
        },
        "id": "5TZChgYhS7Mr",
        "outputId": "f08a4a62-3995-4a96-b5f4-0566812979aa"
      },
      "source": [
        "# Step 1 > MAP the data\n",
        "!echo \"the king beneath the mountain the king of carven stone\" | ./map.py"
      ],
      "execution_count": 6,
      "outputs": [
        {
          "output_type": "stream",
          "name": "stdout",
          "text": [
            "the 1\n",
            "king 1\n",
            "beneath 1\n",
            "the 1\n",
            "mountain 1\n",
            "the 1\n",
            "king 1\n",
            "of 1\n",
            "carven 1\n",
            "stone 1\n"
          ]
        }
      ]
    },
    {
      "cell_type": "code",
      "metadata": {
        "colab": {
          "base_uri": "https://localhost:8080/"
        },
        "id": "qnKCisUeTKY1",
        "outputId": "c3e825f8-9ba4-4328-bd7e-0458d0e26de8"
      },
      "source": [
        "# Step 2 > SORT the MAP output\n",
        "!echo \"the king beneath the mountain the king of carven stone\" | ./map.py | sort"
      ],
      "execution_count": 7,
      "outputs": [
        {
          "output_type": "stream",
          "name": "stdout",
          "text": [
            "beneath 1\n",
            "carven 1\n",
            "king 1\n",
            "king 1\n",
            "mountain 1\n",
            "of 1\n",
            "stone 1\n",
            "the 1\n",
            "the 1\n",
            "the 1\n"
          ]
        }
      ]
    },
    {
      "cell_type": "code",
      "metadata": {
        "colab": {
          "base_uri": "https://localhost:8080/"
        },
        "id": "wgPVC-iQTP-0",
        "outputId": "8edf3f28-d56a-46bf-9a1a-6a387c046f41"
      },
      "source": [
        "# Step 3 > REDUCE the SORT output\n",
        "!echo \"the king beneath the mountain the king of carven stone\" | ./map.py | sort | ./red.py"
      ],
      "execution_count": 8,
      "outputs": [
        {
          "output_type": "stream",
          "name": "stdout",
          "text": [
            "beneath 1\n",
            "carven 1\n",
            "king 2\n",
            "mountain 1\n",
            "of 1\n",
            "stone 1\n",
            "the 3\n"
          ]
        }
      ]
    },
    {
      "cell_type": "markdown",
      "metadata": {
        "id": "0zcpEo7pFaum"
      },
      "source": [
        "## Use an input file"
      ]
    },
    {
      "cell_type": "code",
      "metadata": {
        "colab": {
          "base_uri": "https://localhost:8080/"
        },
        "id": "QiM14ESgdprJ",
        "outputId": "4e616fdc-8939-4124-8df8-b191cda5f98f"
      },
      "source": [
        "%%writefile hobbit.txt\n",
        "The King beneath the mountains\n",
        "The King of carven stone\n",
        "The lord of silver fountains\n",
        "Shall come into his own\n",
        "His crown shall be upholding\n",
        "His harp shall be restrung\n",
        "His halls shall echo golden\n",
        "To songs of yore re-sung\n",
        "The woods shall wave on mountains\n",
        "And grass beneath the sun\n",
        "His wealth shall flow in fountains\n",
        "And the rivers golden run\n",
        "The streams shall run in gladness\n",
        "The lakes shall shine and burn\n",
        "All sorrow fail and sadness\n",
        "At the mountain kings return\n",
        "The King beneath the mountains\n",
        "The King of carven stone\n",
        "The lord of silver fountains\n",
        "Shall come into his own\n",
        "His crown shall be upholding\n",
        "His harp shall be restrung\n",
        "His halls shall echo golden\n",
        "To songs of yore re-sung\n",
        "The woods shall wave on mountains\n",
        "And grass beneath the sun\n",
        "His wealth shall flow in fountains\n",
        "And the rivers golden run\n",
        "The streams shall run in gladness\n",
        "The lakes shall shine and burn\n",
        "All sorrow fail and sadness\n",
        "At the mountain kings return\n",
        "The King beneath the mountains\n",
        "The King of carven stone\n",
        "The lord of silver fountains\n",
        "Shall come into his own\n",
        "His crown shall be upholding\n",
        "His harp shall be restrung\n",
        "His halls shall echo golden\n",
        "To songs of yore re-sung\n",
        "The woods shall wave on mountains\n",
        "And grass beneath the sun\n",
        "His wealth shall flow in fountains\n",
        "And the rivers golden run\n",
        "The streams shall run in gladness\n",
        "The lakes shall shine and burn\n",
        "All sorrow fail and sadness\n",
        "At the mountain kings return\n",
        "All sorrow fail and sadness\n",
        "At the mountain kings return"
      ],
      "execution_count": 9,
      "outputs": [
        {
          "output_type": "stream",
          "name": "stdout",
          "text": [
            "Writing hobbit.txt\n"
          ]
        }
      ]
    },
    {
      "cell_type": "code",
      "metadata": {
        "id": "SR8kKPfSd1Za"
      },
      "source": [
        "#!cat hobbit.txt"
      ],
      "execution_count": null,
      "outputs": []
    },
    {
      "cell_type": "code",
      "metadata": {
        "colab": {
          "base_uri": "https://localhost:8080/"
        },
        "id": "dJct7MHFd8bl",
        "outputId": "c3dbe621-995c-4ece-a069-a637338c5672"
      },
      "source": [
        "!cat hobbit.txt | ./map.py | sort | ./red.py"
      ],
      "execution_count": 10,
      "outputs": [
        {
          "output_type": "stream",
          "name": "stdout",
          "text": [
            "All 4\n",
            "and 7\n",
            "And 6\n",
            "At 4\n",
            "be 6\n",
            "beneath 6\n",
            "burn 3\n",
            "carven 3\n",
            "come 3\n",
            "crown 3\n",
            "echo 3\n",
            "fail 4\n",
            "flow 3\n",
            "fountains 6\n",
            "gladness 3\n",
            "golden 6\n",
            "grass 3\n",
            "halls 3\n",
            "harp 3\n",
            "his 3\n",
            "His 12\n",
            "in 6\n",
            "into 3\n",
            "King 6\n",
            "kings 4\n",
            "lakes 3\n",
            "lord 3\n",
            "mountain 4\n",
            "mountains 6\n",
            "of 9\n",
            "on 3\n",
            "own 3\n",
            "restrung 3\n",
            "re-sung 3\n",
            "return 4\n",
            "rivers 3\n",
            "run 6\n",
            "sadness 4\n",
            "shall 21\n",
            "Shall 3\n",
            "shine 3\n",
            "silver 3\n",
            "songs 3\n",
            "sorrow 4\n",
            "stone 3\n",
            "streams 3\n",
            "sun 3\n",
            "the 13\n",
            "The 18\n",
            "To 3\n",
            "upholding 3\n",
            "wave 3\n",
            "wealth 3\n",
            "woods 3\n",
            "yore 3\n"
          ]
        }
      ]
    },
    {
      "cell_type": "code",
      "source": [
        "from datetime import datetime\n",
        "import pytz\n",
        "print('signed off at  ',datetime.now(pytz.timezone('Asia/Kolkata')))"
      ],
      "metadata": {
        "id": "NzICwVOSw9RP",
        "outputId": "88a5d262-f9f3-4322-a9c0-d85773c1877e",
        "colab": {
          "base_uri": "https://localhost:8080/"
        }
      },
      "execution_count": 14,
      "outputs": [
        {
          "output_type": "stream",
          "name": "stdout",
          "text": [
            "signed off at   2022-10-07 10:20:02.709225+05:30\n"
          ]
        }
      ]
    },
    {
      "cell_type": "markdown",
      "metadata": {
        "id": "jFZItG6ZDcWl"
      },
      "source": [
        "#Chronobooks <br>\n",
        "![alt text](https://1.bp.blogspot.com/-lTiYBkU2qbU/X1er__fvnkI/AAAAAAAAjtE/GhDR3OEGJr4NG43fZPodrQD5kbxtnKebgCLcBGAsYHQ/s600/Footer2020-600x200.png)<hr>\n",
        "Chronotantra and Chronoyantra are two science fiction novels that explore the collapse of human civilisation on Earth and then its rebirth and reincarnation both on Earth as well as on the distant worlds of Mars, Titan and Enceladus. But is it the human civilisation that is being reborn? Or is it some other sentience that is revealing itself. \n",
        "If you have an interest in AI and found this material useful, you may consider buying these novels, in paperback or kindle, from [http://bit.ly/chronobooks](http://bit.ly/chronobooks)"
      ]
    }
  ]
}