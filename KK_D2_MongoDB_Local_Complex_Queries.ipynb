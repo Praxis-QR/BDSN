{
  "nbformat": 4,
  "nbformat_minor": 0,
  "metadata": {
    "colab": {
      "provenance": [],
      "include_colab_link": true
    },
    "kernelspec": {
      "name": "python3",
      "display_name": "Python 3"
    }
  },
  "cells": [
    {
      "cell_type": "markdown",
      "metadata": {
        "id": "view-in-github",
        "colab_type": "text"
      },
      "source": [
        "<a href=\"https://colab.research.google.com/github/Praxis-QR/BDSN/blob/main/KK_D2_MongoDB_Local_Complex_Queries.ipynb\" target=\"_parent\"><img src=\"https://colab.research.google.com/assets/colab-badge.svg\" alt=\"Open In Colab\"/></a>"
      ]
    },
    {
      "cell_type": "markdown",
      "metadata": {
        "id": "r4cEANFLx5wj"
      },
      "source": [
        "![alt text](https://github.com/Praxis-QR/RDWH/raw/main/images/YantraJaalBanner.png)<br>\n",
        "\n",
        "\n",
        "<hr>\n",
        "\n",
        "[Prithwis Mukerjee](http://www.linkedin.com/in/prithwis)<br>"
      ]
    },
    {
      "cell_type": "markdown",
      "metadata": {
        "id": "nfEfiOIo_SJg"
      },
      "source": [
        "#Purpose\n",
        "Here we demonstrate two things \n",
        "\n",
        "\n",
        "1.   How to connect to a local mongodb\n",
        "2.   How to load bulk data and execute complex queries\n",
        "\n",
        "Some output has been suppressed by commenting out the printcommands in certain cells. This was necessary to reduce the size of the file for upload to github\n",
        "\n"
      ]
    },
    {
      "cell_type": "markdown",
      "metadata": {
        "id": "6CE9FB-y7Vlr"
      },
      "source": [
        "Additional Material https://github.com/giffy/MongoDB_PyMongo_Tutorial"
      ]
    },
    {
      "cell_type": "code",
      "source": [
        "from datetime import datetime\n",
        "import pytz\n",
        "print('Tested on ',datetime.now(pytz.timezone('Asia/Calcutta')))\n",
        "!python --version\n",
        "!lsb_release -a"
      ],
      "metadata": {
        "id": "i888zFRpVqKX",
        "outputId": "d2b543ca-b06f-44b7-dee7-fc375cfa97fd",
        "colab": {
          "base_uri": "https://localhost:8080/"
        }
      },
      "execution_count": 1,
      "outputs": [
        {
          "output_type": "stream",
          "name": "stdout",
          "text": [
            "Tested on  2023-05-29 14:14:02.137928+05:30\n",
            "Python 3.10.11\n",
            "No LSB modules are available.\n",
            "Distributor ID:\tUbuntu\n",
            "Description:\tUbuntu 20.04.5 LTS\n",
            "Release:\t20.04\n",
            "Codename:\tfocal\n"
          ]
        }
      ]
    },
    {
      "cell_type": "markdown",
      "metadata": {
        "id": "z4xgLfRQze4w"
      },
      "source": [
        "#Install MongoDB"
      ]
    },
    {
      "cell_type": "code",
      "source": [
        "!pip -qq install pymongo                                    # Required for Mongo client\n",
        "!apt install mongodb > /dev/null "
      ],
      "metadata": {
        "colab": {
          "base_uri": "https://localhost:8080/"
        },
        "id": "7ZRV4F8yr1xv",
        "outputId": "8fe84f07-9f83-452b-b396-50f029ab743b"
      },
      "execution_count": 2,
      "outputs": [
        {
          "output_type": "stream",
          "name": "stdout",
          "text": [
            "\u001b[2K     \u001b[90m━━━━━━━━━━━━━━━━━━━━━━━━━━━━━━━━━━━━━━━\u001b[0m \u001b[32m492.9/492.9 kB\u001b[0m \u001b[31m9.1 MB/s\u001b[0m eta \u001b[36m0:00:00\u001b[0m\n",
            "\u001b[2K     \u001b[90m━━━━━━━━━━━━━━━━━━━━━━━━━━━━━━━━━━━━━━\u001b[0m \u001b[32m283.7/283.7 kB\u001b[0m \u001b[31m25.5 MB/s\u001b[0m eta \u001b[36m0:00:00\u001b[0m\n",
            "\u001b[?25h\n",
            "WARNING: apt does not have a stable CLI interface. Use with caution in scripts.\n",
            "\n"
          ]
        }
      ]
    },
    {
      "cell_type": "code",
      "source": [
        "from pymongo import MongoClient\n",
        "import pandas as pd\n",
        "import dateutil"
      ],
      "metadata": {
        "id": "TwHIobdHYey2"
      },
      "execution_count": 3,
      "outputs": []
    },
    {
      "cell_type": "code",
      "metadata": {
        "id": "TMpqBfbmfO4P",
        "colab": {
          "base_uri": "https://localhost:8080/"
        },
        "outputId": "06a18853-ce0b-4f55-a4a3-2a995ef94f3a"
      },
      "source": [
        "#Local Server Need Not be started for Remote Operations\n",
        "!service mongodb start"
      ],
      "execution_count": 4,
      "outputs": [
        {
          "output_type": "stream",
          "name": "stdout",
          "text": [
            " * Starting database mongodb\n",
            "   ...done.\n"
          ]
        }
      ]
    },
    {
      "cell_type": "markdown",
      "metadata": {
        "id": "xUQGcJ9NJWHY"
      },
      "source": [
        "### Test Connection"
      ]
    },
    {
      "cell_type": "code",
      "metadata": {
        "colab": {
          "base_uri": "https://localhost:8080/"
        },
        "id": "MM4j5AN-A7A5",
        "outputId": "ef28ceb9-6577-432c-8b26-f3937c51be39"
      },
      "source": [
        "#mongoURI = rMongoURI                                   # for remote server\n",
        "mongoURI = \"mongodb://localhost:27017/\"                 # for local server\n",
        "#client = MongoClient(mongoURI, server_api=ServerApi('1'))\n",
        "client = MongoClient(mongoURI)\n",
        "client.list_database_names() # ['admin', 'local']"
      ],
      "execution_count": 5,
      "outputs": [
        {
          "output_type": "execute_result",
          "data": {
            "text/plain": [
              "['admin', 'config', 'local']"
            ]
          },
          "metadata": {},
          "execution_count": 5
        }
      ]
    },
    {
      "cell_type": "code",
      "metadata": {
        "colab": {
          "base_uri": "https://localhost:8080/"
        },
        "id": "bRUST3NELPJm",
        "outputId": "0c2ccf7f-57bd-49e4-f8c5-04210823378f"
      },
      "source": [
        "#db = client.PraxisDB\n",
        "#db = client.test\n",
        "db = client.PraxisDB\n",
        "db.list_collection_names()"
      ],
      "execution_count": 11,
      "outputs": [
        {
          "output_type": "execute_result",
          "data": {
            "text/plain": [
              "['restaurants']"
            ]
          },
          "metadata": {},
          "execution_count": 11
        }
      ]
    },
    {
      "cell_type": "code",
      "metadata": {
        "colab": {
          "base_uri": "https://localhost:8080/"
        },
        "id": "Ug0sgxuMLWF9",
        "outputId": "a7c8ac57-d916-4f5a-bf7d-f7150d09490d"
      },
      "source": [
        "table = db.restaurants\n",
        "table.count_documents({})"
      ],
      "execution_count": 12,
      "outputs": [
        {
          "output_type": "execute_result",
          "data": {
            "text/plain": [
              "3772"
            ]
          },
          "metadata": {},
          "execution_count": 12
        }
      ]
    },
    {
      "cell_type": "code",
      "metadata": {
        "colab": {
          "base_uri": "https://localhost:8080/"
        },
        "id": "h7EqypjgLFwh",
        "outputId": "3e6e401b-f1aa-46e5-9d2b-f1b4e4adc8ae"
      },
      "source": [
        "# Delete collection\n",
        "db.drop_collection('restaurants')"
      ],
      "execution_count": 8,
      "outputs": [
        {
          "output_type": "execute_result",
          "data": {
            "text/plain": [
              "{'ok': 0.0,\n",
              " 'errmsg': 'ns not found',\n",
              " 'code': 26,\n",
              " 'codeName': 'NamespaceNotFound'}"
            ]
          },
          "metadata": {},
          "execution_count": 8
        }
      ]
    },
    {
      "cell_type": "markdown",
      "metadata": {
        "id": "Ip6aqqKO2ST-"
      },
      "source": [
        "#MongoDB Exercise <br>\n",
        "Exercise : https://docs.google.com/document/d/1q0PyJL6EgMG1V5G8mmPre8Ypq9N9dX-PRLixAHiphd8/edit?usp=sharing <br>\n",
        "\n",
        "Data : restaurant.json https://drive.google.com/file/d/14sYJM2KwIpDRsAAk6YkapMTwLnLuBcb_/view?usp=sharing <br>\n",
        "\n",
        "For more detailed examples, see https://colab.research.google.com/github/Giffy/MongoDB_PyMongo_Tutorial/blob/master/1_1_First_steps_with_MongoDB_PyMongo.ipynb"
      ]
    },
    {
      "cell_type": "markdown",
      "metadata": {
        "id": "QP59KGQu31_E"
      },
      "source": [
        "##Get Data"
      ]
    },
    {
      "cell_type": "code",
      "metadata": {
        "id": "5_KDw3Ns34e3"
      },
      "source": [
        "#!gdown https://drive.google.com/uc?id=14sYJM2KwIpDRsAAk6YkapMTwLnLuBcb_\n",
        "#!gdown 14sYJM2KwIpDRsAAk6YkapMTwLnLuBcb_\n",
        "!wget -q https://raw.githubusercontent.com/Praxis-QR/BDSN/4130bfe8fb17529bbeae32351dab982b4a8b53ea/data/restaurants.json"
      ],
      "execution_count": 9,
      "outputs": []
    },
    {
      "cell_type": "markdown",
      "metadata": {
        "id": "7ozTpd9V4NRC"
      },
      "source": [
        "##Load Data"
      ]
    },
    {
      "cell_type": "code",
      "metadata": {
        "colab": {
          "base_uri": "https://localhost:8080/"
        },
        "id": "TgzXdugSjpKP",
        "outputId": "88267ebb-8a0a-4290-c4bc-eeda24ea1e17"
      },
      "source": [
        "# the restaurants.json file is available in my GDrive\n",
        "# Local Server\n",
        "!mongoimport --db PraxisDB --collection restaurants --drop --file restaurants.json\n",
        "# Remote Server\n",
        "# mongoimport --host \"hostname\" --port \"port\" --db \"databasename\" --collection \"collectionName\" --file \"filePath\"\n",
        "# the python variables need to be placed in {}\n",
        "#!mongoimport --host \"{rhostName}\" --port \"27017\" --db \"{rdbName}\" --collection \"restaurants\"  --drop --file \"restaurants.json\" -u \"{ruserName}\" -p \"{rpassWord}\" --- THIS DOES NOT WORK\n",
        "#!mongoimport --uri \"{rMongoURI}\"  --collection \"restaurants\"  --drop --file \"restaurants.json\"\n",
        "\n",
        "\n",
        "\n",
        "# https://stackoverflow.com/questions/63224330/where-do-i-find-my-dbname-for-mongodb-connection-string\n",
        "#mongoURI2 = mongoURI\n",
        "#print(mongoURI)\n",
        "#mongoURI2 = mongoURI.replace(\"/?retryWrites=true&w=majority\",\"/PraxisDB?\")\n",
        "#print(mongoURI2)\n",
        "#!mongoimport --uri \"{mongoURI2}\"  --collection \"restaurants\"  --drop --file \"restaurants.json\" "
      ],
      "execution_count": 10,
      "outputs": [
        {
          "output_type": "stream",
          "name": "stdout",
          "text": [
            "2023-05-29T08:50:27.818+0000\tconnected to: localhost\n",
            "2023-05-29T08:50:27.818+0000\tdropping: PraxisDB.restaurants\n",
            "2023-05-29T08:50:28.266+0000\timported 3772 documents\n"
          ]
        }
      ]
    },
    {
      "cell_type": "markdown",
      "metadata": {
        "id": "hHOXJ7Zk4ZW4"
      },
      "source": [
        "##Data Access & Manipulation"
      ]
    },
    {
      "cell_type": "code",
      "metadata": {
        "colab": {
          "base_uri": "https://localhost:8080/"
        },
        "id": "UQ9q3-7H4kin",
        "outputId": "38f0fcde-b767-41be-8274-ba58c9754447"
      },
      "source": [
        "#mongoURI = \"mongodb://localhost:27017/\"    # local\n",
        "#mongoURI = rMongoURI                        # remote\n",
        "client = MongoClient(mongoURI)\n",
        "client.list_database_names() "
      ],
      "execution_count": 13,
      "outputs": [
        {
          "output_type": "execute_result",
          "data": {
            "text/plain": [
              "['PraxisDB', 'admin', 'config', 'local']"
            ]
          },
          "metadata": {},
          "execution_count": 13
        }
      ]
    },
    {
      "cell_type": "code",
      "metadata": {
        "id": "rL-k8WmRlfJ8",
        "colab": {
          "base_uri": "https://localhost:8080/"
        },
        "outputId": "8f43aa54-1b47-4fd0-dabc-b9098f994e80"
      },
      "source": [
        "#db = client.PraxisDB\n",
        "#db = client.btncgfi3a5bxyea\n",
        "db = client.PraxisDB\n",
        "db.list_collection_names()"
      ],
      "execution_count": 14,
      "outputs": [
        {
          "output_type": "execute_result",
          "data": {
            "text/plain": [
              "['restaurants']"
            ]
          },
          "metadata": {},
          "execution_count": 14
        }
      ]
    },
    {
      "cell_type": "code",
      "metadata": {
        "id": "KUyBJWZnbqqy",
        "colab": {
          "base_uri": "https://localhost:8080/"
        },
        "outputId": "a0ae2f29-d327-44ef-e272-ddb775291ca1"
      },
      "source": [
        "table = db.restaurants\n",
        "table.count_documents({})"
      ],
      "execution_count": 15,
      "outputs": [
        {
          "output_type": "execute_result",
          "data": {
            "text/plain": [
              "3772"
            ]
          },
          "metadata": {},
          "execution_count": 15
        }
      ]
    },
    {
      "cell_type": "markdown",
      "metadata": {
        "id": "wUxY7hYAGFnh"
      },
      "source": [
        "# 32 Diverse Queries"
      ]
    },
    {
      "cell_type": "markdown",
      "metadata": {
        "id": "m86AxvNVE5wD"
      },
      "source": [
        "1. display all the documents in the collection restaurants\n"
      ]
    },
    {
      "cell_type": "code",
      "metadata": {
        "colab": {
          "base_uri": "https://localhost:8080/"
        },
        "id": "I7vO-MCeFBnk",
        "outputId": "98ad404a-d10f-4e27-fb34-96332191360d"
      },
      "source": [
        "c1 = db.restaurants.find().limit(3)\n",
        "for crnt in c1:\n",
        "    print(crnt)"
      ],
      "execution_count": null,
      "outputs": [
        {
          "output_type": "stream",
          "name": "stdout",
          "text": [
            "{'_id': ObjectId('6472c913a9e8eff3f21dc4e6'), 'address': {'building': '469', 'coord': [-73.961704, 40.662942], 'street': 'Flatbush Avenue', 'zipcode': '11225'}, 'borough': 'Brooklyn', 'cuisine': 'Hamburgers', 'grades': [{'date': datetime.datetime(2014, 12, 30, 0, 0), 'grade': 'A', 'score': 8}, {'date': datetime.datetime(2014, 7, 1, 0, 0), 'grade': 'B', 'score': 23}, {'date': datetime.datetime(2013, 4, 30, 0, 0), 'grade': 'A', 'score': 12}, {'date': datetime.datetime(2012, 5, 8, 0, 0), 'grade': 'A', 'score': 12}], 'name': \"Wendy'S\", 'restaurant_id': '30112340'}\n",
            "{'_id': ObjectId('6472c913a9e8eff3f21dc4e7'), 'address': {'building': '1007', 'coord': [-73.856077, 40.848447], 'street': 'Morris Park Ave', 'zipcode': '10462'}, 'borough': 'Bronx', 'cuisine': 'Bakery', 'grades': [{'date': datetime.datetime(2014, 3, 3, 0, 0), 'grade': 'A', 'score': 2}, {'date': datetime.datetime(2013, 9, 11, 0, 0), 'grade': 'A', 'score': 6}, {'date': datetime.datetime(2013, 1, 24, 0, 0), 'grade': 'A', 'score': 10}, {'date': datetime.datetime(2011, 11, 23, 0, 0), 'grade': 'A', 'score': 9}, {'date': datetime.datetime(2011, 3, 10, 0, 0), 'grade': 'B', 'score': 14}], 'name': 'Morris Park Bake Shop', 'restaurant_id': '30075445'}\n",
            "{'_id': ObjectId('6472c913a9e8eff3f21dc4e8'), 'address': {'building': '351', 'coord': [-73.98513559999999, 40.7676919], 'street': 'West   57 Street', 'zipcode': '10019'}, 'borough': 'Manhattan', 'cuisine': 'Irish', 'grades': [{'date': datetime.datetime(2014, 9, 6, 0, 0), 'grade': 'A', 'score': 2}, {'date': datetime.datetime(2013, 7, 22, 0, 0), 'grade': 'A', 'score': 11}, {'date': datetime.datetime(2012, 7, 31, 0, 0), 'grade': 'A', 'score': 12}, {'date': datetime.datetime(2011, 12, 29, 0, 0), 'grade': 'A', 'score': 12}], 'name': 'Dj Reynolds Pub And Restaurant', 'restaurant_id': '30191841'}\n"
          ]
        }
      ]
    },
    {
      "cell_type": "markdown",
      "metadata": {
        "id": "mV4mZqSnFUHB"
      },
      "source": [
        "2. display the fields restaurant_id, name, borough and cuisine for all the documents in the collection restaurant. \n"
      ]
    },
    {
      "cell_type": "code",
      "metadata": {
        "colab": {
          "base_uri": "https://localhost:8080/"
        },
        "id": "xseSt2y4FWRq",
        "outputId": "9f81f415-5345-4f77-be5a-2a237aaa2e2d"
      },
      "source": [
        "c1 = db.restaurants.find({},{\"restaurant_id\" : 1,\"name\":1,\"borough\":1,\"cuisine\" :1}).limit(3)\n",
        "for crnt in c1:\n",
        "    print(crnt)"
      ],
      "execution_count": null,
      "outputs": [
        {
          "output_type": "stream",
          "name": "stdout",
          "text": [
            "{'_id': ObjectId('6472c913a9e8eff3f21dc4e6'), 'borough': 'Brooklyn', 'cuisine': 'Hamburgers', 'name': \"Wendy'S\", 'restaurant_id': '30112340'}\n",
            "{'_id': ObjectId('6472c913a9e8eff3f21dc4e7'), 'borough': 'Bronx', 'cuisine': 'Bakery', 'name': 'Morris Park Bake Shop', 'restaurant_id': '30075445'}\n",
            "{'_id': ObjectId('6472c913a9e8eff3f21dc4e8'), 'borough': 'Manhattan', 'cuisine': 'Irish', 'name': 'Dj Reynolds Pub And Restaurant', 'restaurant_id': '30191841'}\n"
          ]
        }
      ]
    },
    {
      "cell_type": "markdown",
      "metadata": {
        "id": "NZyndYdLHIPK"
      },
      "source": [
        "3. display the fields restaurant_id, name, borough and cuisine, but exclude the field _id for all the documents in the collection restaurant. \n"
      ]
    },
    {
      "cell_type": "code",
      "metadata": {
        "colab": {
          "base_uri": "https://localhost:8080/"
        },
        "id": "kKMHC4bpHXnH",
        "outputId": "1cc525e7-376b-412d-cc1e-3f738bba0491"
      },
      "source": [
        "c1 = db.restaurants.find({},{\"restaurant_id\" : 1,\"name\":1,\"borough\":1,\"cuisine\" :1,\"_id\":0}).limit(3)\n",
        "for crnt in c1:\n",
        "    print(crnt)"
      ],
      "execution_count": null,
      "outputs": [
        {
          "output_type": "stream",
          "name": "stdout",
          "text": [
            "{'borough': 'Brooklyn', 'cuisine': 'Hamburgers', 'name': \"Wendy'S\", 'restaurant_id': '30112340'}\n",
            "{'borough': 'Bronx', 'cuisine': 'Bakery', 'name': 'Morris Park Bake Shop', 'restaurant_id': '30075445'}\n",
            "{'borough': 'Manhattan', 'cuisine': 'Irish', 'name': 'Dj Reynolds Pub And Restaurant', 'restaurant_id': '30191841'}\n"
          ]
        }
      ]
    },
    {
      "cell_type": "markdown",
      "metadata": {
        "id": "ti1aYIqzJBzz"
      },
      "source": [
        "4. display the fields restaurant_id, name, borough and zipcode, but exclude the field _id for all the documents in the collection restaurant. "
      ]
    },
    {
      "cell_type": "code",
      "metadata": {
        "colab": {
          "base_uri": "https://localhost:8080/"
        },
        "id": "QRzQZKrZJIF5",
        "outputId": "af97a826-1cad-4447-97ac-1d3768819013"
      },
      "source": [
        "table = db.restaurants\n",
        "c1 = table.find({},{\"restaurant_id\" : 1,\"name\":1,\"borough\":1,\"address.zipcode\" :1,\"_id\":0}).limit(3)\n",
        "for crnt in c1:\n",
        "    print(crnt)"
      ],
      "execution_count": null,
      "outputs": [
        {
          "output_type": "stream",
          "name": "stdout",
          "text": [
            "{'address': {'zipcode': '11225'}, 'borough': 'Brooklyn', 'name': \"Wendy'S\", 'restaurant_id': '30112340'}\n",
            "{'address': {'zipcode': '10462'}, 'borough': 'Bronx', 'name': 'Morris Park Bake Shop', 'restaurant_id': '30075445'}\n",
            "{'address': {'zipcode': '10019'}, 'borough': 'Manhattan', 'name': 'Dj Reynolds Pub And Restaurant', 'restaurant_id': '30191841'}\n"
          ]
        }
      ]
    },
    {
      "cell_type": "code",
      "metadata": {
        "colab": {
          "base_uri": "https://localhost:8080/",
          "height": 363
        },
        "id": "4j77VcrI0WWs",
        "outputId": "d21b140f-b1cb-4fcd-d180-86a35032ffe4"
      },
      "source": [
        "#df = pd.DataFrame(list(table.find({},{\"restaurant_id\" : 1,\"name\":1,\"borough\":1,\"address.zipcode\" :1,\"_id\":0}).limit(10)))\n",
        "#df\n",
        "pd.DataFrame(list(table.find({},{\"restaurant_id\" : 1,\"name\":1,\"borough\":1,\"address.zipcode\" :1,\"_id\":0}).limit(10)))"
      ],
      "execution_count": null,
      "outputs": [
        {
          "output_type": "execute_result",
          "data": {
            "text/plain": [
              "                address        borough                            name  \\\n",
              "0  {'zipcode': '11225'}       Brooklyn                         Wendy'S   \n",
              "1  {'zipcode': '10462'}          Bronx           Morris Park Bake Shop   \n",
              "2  {'zipcode': '10019'}      Manhattan  Dj Reynolds Pub And Restaurant   \n",
              "3  {'zipcode': '11224'}       Brooklyn                 Riviera Caterer   \n",
              "4  {'zipcode': '11374'}         Queens              Tov Kosher Kitchen   \n",
              "5  {'zipcode': '11369'}         Queens         Brunos On The Boulevard   \n",
              "6  {'zipcode': '10314'}  Staten Island                   Kosher Island   \n",
              "7  {'zipcode': '11234'}       Brooklyn              Wilken'S Fine Food   \n",
              "8  {'zipcode': '11219'}       Brooklyn                 Regina Caterers   \n",
              "9  {'zipcode': '10460'}          Bronx                       Wild Asia   \n",
              "\n",
              "  restaurant_id  \n",
              "0      30112340  \n",
              "1      30075445  \n",
              "2      30191841  \n",
              "3      40356018  \n",
              "4      40356068  \n",
              "5      40356151  \n",
              "6      40356442  \n",
              "7      40356483  \n",
              "8      40356649  \n",
              "9      40357217  "
            ],
            "text/html": [
              "\n",
              "  <div id=\"df-a9c0dfe6-abfb-4805-aa5b-6a8973f4d1a4\">\n",
              "    <div class=\"colab-df-container\">\n",
              "      <div>\n",
              "<style scoped>\n",
              "    .dataframe tbody tr th:only-of-type {\n",
              "        vertical-align: middle;\n",
              "    }\n",
              "\n",
              "    .dataframe tbody tr th {\n",
              "        vertical-align: top;\n",
              "    }\n",
              "\n",
              "    .dataframe thead th {\n",
              "        text-align: right;\n",
              "    }\n",
              "</style>\n",
              "<table border=\"1\" class=\"dataframe\">\n",
              "  <thead>\n",
              "    <tr style=\"text-align: right;\">\n",
              "      <th></th>\n",
              "      <th>address</th>\n",
              "      <th>borough</th>\n",
              "      <th>name</th>\n",
              "      <th>restaurant_id</th>\n",
              "    </tr>\n",
              "  </thead>\n",
              "  <tbody>\n",
              "    <tr>\n",
              "      <th>0</th>\n",
              "      <td>{'zipcode': '11225'}</td>\n",
              "      <td>Brooklyn</td>\n",
              "      <td>Wendy'S</td>\n",
              "      <td>30112340</td>\n",
              "    </tr>\n",
              "    <tr>\n",
              "      <th>1</th>\n",
              "      <td>{'zipcode': '10462'}</td>\n",
              "      <td>Bronx</td>\n",
              "      <td>Morris Park Bake Shop</td>\n",
              "      <td>30075445</td>\n",
              "    </tr>\n",
              "    <tr>\n",
              "      <th>2</th>\n",
              "      <td>{'zipcode': '10019'}</td>\n",
              "      <td>Manhattan</td>\n",
              "      <td>Dj Reynolds Pub And Restaurant</td>\n",
              "      <td>30191841</td>\n",
              "    </tr>\n",
              "    <tr>\n",
              "      <th>3</th>\n",
              "      <td>{'zipcode': '11224'}</td>\n",
              "      <td>Brooklyn</td>\n",
              "      <td>Riviera Caterer</td>\n",
              "      <td>40356018</td>\n",
              "    </tr>\n",
              "    <tr>\n",
              "      <th>4</th>\n",
              "      <td>{'zipcode': '11374'}</td>\n",
              "      <td>Queens</td>\n",
              "      <td>Tov Kosher Kitchen</td>\n",
              "      <td>40356068</td>\n",
              "    </tr>\n",
              "    <tr>\n",
              "      <th>5</th>\n",
              "      <td>{'zipcode': '11369'}</td>\n",
              "      <td>Queens</td>\n",
              "      <td>Brunos On The Boulevard</td>\n",
              "      <td>40356151</td>\n",
              "    </tr>\n",
              "    <tr>\n",
              "      <th>6</th>\n",
              "      <td>{'zipcode': '10314'}</td>\n",
              "      <td>Staten Island</td>\n",
              "      <td>Kosher Island</td>\n",
              "      <td>40356442</td>\n",
              "    </tr>\n",
              "    <tr>\n",
              "      <th>7</th>\n",
              "      <td>{'zipcode': '11234'}</td>\n",
              "      <td>Brooklyn</td>\n",
              "      <td>Wilken'S Fine Food</td>\n",
              "      <td>40356483</td>\n",
              "    </tr>\n",
              "    <tr>\n",
              "      <th>8</th>\n",
              "      <td>{'zipcode': '11219'}</td>\n",
              "      <td>Brooklyn</td>\n",
              "      <td>Regina Caterers</td>\n",
              "      <td>40356649</td>\n",
              "    </tr>\n",
              "    <tr>\n",
              "      <th>9</th>\n",
              "      <td>{'zipcode': '10460'}</td>\n",
              "      <td>Bronx</td>\n",
              "      <td>Wild Asia</td>\n",
              "      <td>40357217</td>\n",
              "    </tr>\n",
              "  </tbody>\n",
              "</table>\n",
              "</div>\n",
              "      <button class=\"colab-df-convert\" onclick=\"convertToInteractive('df-a9c0dfe6-abfb-4805-aa5b-6a8973f4d1a4')\"\n",
              "              title=\"Convert this dataframe to an interactive table.\"\n",
              "              style=\"display:none;\">\n",
              "        \n",
              "  <svg xmlns=\"http://www.w3.org/2000/svg\" height=\"24px\"viewBox=\"0 0 24 24\"\n",
              "       width=\"24px\">\n",
              "    <path d=\"M0 0h24v24H0V0z\" fill=\"none\"/>\n",
              "    <path d=\"M18.56 5.44l.94 2.06.94-2.06 2.06-.94-2.06-.94-.94-2.06-.94 2.06-2.06.94zm-11 1L8.5 8.5l.94-2.06 2.06-.94-2.06-.94L8.5 2.5l-.94 2.06-2.06.94zm10 10l.94 2.06.94-2.06 2.06-.94-2.06-.94-.94-2.06-.94 2.06-2.06.94z\"/><path d=\"M17.41 7.96l-1.37-1.37c-.4-.4-.92-.59-1.43-.59-.52 0-1.04.2-1.43.59L10.3 9.45l-7.72 7.72c-.78.78-.78 2.05 0 2.83L4 21.41c.39.39.9.59 1.41.59.51 0 1.02-.2 1.41-.59l7.78-7.78 2.81-2.81c.8-.78.8-2.07 0-2.86zM5.41 20L4 18.59l7.72-7.72 1.47 1.35L5.41 20z\"/>\n",
              "  </svg>\n",
              "      </button>\n",
              "      \n",
              "  <style>\n",
              "    .colab-df-container {\n",
              "      display:flex;\n",
              "      flex-wrap:wrap;\n",
              "      gap: 12px;\n",
              "    }\n",
              "\n",
              "    .colab-df-convert {\n",
              "      background-color: #E8F0FE;\n",
              "      border: none;\n",
              "      border-radius: 50%;\n",
              "      cursor: pointer;\n",
              "      display: none;\n",
              "      fill: #1967D2;\n",
              "      height: 32px;\n",
              "      padding: 0 0 0 0;\n",
              "      width: 32px;\n",
              "    }\n",
              "\n",
              "    .colab-df-convert:hover {\n",
              "      background-color: #E2EBFA;\n",
              "      box-shadow: 0px 1px 2px rgba(60, 64, 67, 0.3), 0px 1px 3px 1px rgba(60, 64, 67, 0.15);\n",
              "      fill: #174EA6;\n",
              "    }\n",
              "\n",
              "    [theme=dark] .colab-df-convert {\n",
              "      background-color: #3B4455;\n",
              "      fill: #D2E3FC;\n",
              "    }\n",
              "\n",
              "    [theme=dark] .colab-df-convert:hover {\n",
              "      background-color: #434B5C;\n",
              "      box-shadow: 0px 1px 3px 1px rgba(0, 0, 0, 0.15);\n",
              "      filter: drop-shadow(0px 1px 2px rgba(0, 0, 0, 0.3));\n",
              "      fill: #FFFFFF;\n",
              "    }\n",
              "  </style>\n",
              "\n",
              "      <script>\n",
              "        const buttonEl =\n",
              "          document.querySelector('#df-a9c0dfe6-abfb-4805-aa5b-6a8973f4d1a4 button.colab-df-convert');\n",
              "        buttonEl.style.display =\n",
              "          google.colab.kernel.accessAllowed ? 'block' : 'none';\n",
              "\n",
              "        async function convertToInteractive(key) {\n",
              "          const element = document.querySelector('#df-a9c0dfe6-abfb-4805-aa5b-6a8973f4d1a4');\n",
              "          const dataTable =\n",
              "            await google.colab.kernel.invokeFunction('convertToInteractive',\n",
              "                                                     [key], {});\n",
              "          if (!dataTable) return;\n",
              "\n",
              "          const docLinkHtml = 'Like what you see? Visit the ' +\n",
              "            '<a target=\"_blank\" href=https://colab.research.google.com/notebooks/data_table.ipynb>data table notebook</a>'\n",
              "            + ' to learn more about interactive tables.';\n",
              "          element.innerHTML = '';\n",
              "          dataTable['output_type'] = 'display_data';\n",
              "          await google.colab.output.renderOutput(dataTable, element);\n",
              "          const docLink = document.createElement('div');\n",
              "          docLink.innerHTML = docLinkHtml;\n",
              "          element.appendChild(docLink);\n",
              "        }\n",
              "      </script>\n",
              "    </div>\n",
              "  </div>\n",
              "  "
            ]
          },
          "metadata": {},
          "execution_count": 21
        }
      ]
    },
    {
      "cell_type": "markdown",
      "metadata": {
        "id": "xi_KuNUcVaYu"
      },
      "source": [
        "5. display all the restaurant which is in the borough Bronx"
      ]
    },
    {
      "cell_type": "code",
      "metadata": {
        "colab": {
          "base_uri": "https://localhost:8080/"
        },
        "id": "v20ijXosVi5J",
        "outputId": "c0b49df4-540e-4887-8300-fbd623b281ad"
      },
      "source": [
        "c1 = table.find({\"borough\": \"Bronx\"}).limit(3)\n",
        "for crnt in c1:\n",
        "    print(crnt)"
      ],
      "execution_count": null,
      "outputs": [
        {
          "output_type": "stream",
          "name": "stdout",
          "text": [
            "{'_id': ObjectId('6472c913a9e8eff3f21dc4e7'), 'address': {'building': '1007', 'coord': [-73.856077, 40.848447], 'street': 'Morris Park Ave', 'zipcode': '10462'}, 'borough': 'Bronx', 'cuisine': 'Bakery', 'grades': [{'date': datetime.datetime(2014, 3, 3, 0, 0), 'grade': 'A', 'score': 2}, {'date': datetime.datetime(2013, 9, 11, 0, 0), 'grade': 'A', 'score': 6}, {'date': datetime.datetime(2013, 1, 24, 0, 0), 'grade': 'A', 'score': 10}, {'date': datetime.datetime(2011, 11, 23, 0, 0), 'grade': 'A', 'score': 9}, {'date': datetime.datetime(2011, 3, 10, 0, 0), 'grade': 'B', 'score': 14}], 'name': 'Morris Park Bake Shop', 'restaurant_id': '30075445'}\n",
            "{'_id': ObjectId('6472c913a9e8eff3f21dc4ef'), 'address': {'building': '2300', 'coord': [-73.8786113, 40.8502883], 'street': 'Southern Boulevard', 'zipcode': '10460'}, 'borough': 'Bronx', 'cuisine': 'American ', 'grades': [{'date': datetime.datetime(2014, 5, 28, 0, 0), 'grade': 'A', 'score': 11}, {'date': datetime.datetime(2013, 6, 19, 0, 0), 'grade': 'A', 'score': 4}, {'date': datetime.datetime(2012, 6, 15, 0, 0), 'grade': 'A', 'score': 3}], 'name': 'Wild Asia', 'restaurant_id': '40357217'}\n",
            "{'_id': ObjectId('6472c913a9e8eff3f21dc505'), 'address': {'building': '1006', 'coord': [-73.84856870000002, 40.8903781], 'street': 'East 233 Street', 'zipcode': '10466'}, 'borough': 'Bronx', 'cuisine': 'Ice Cream, Gelato, Yogurt, Ices', 'grades': [{'date': datetime.datetime(2014, 4, 24, 0, 0), 'grade': 'A', 'score': 10}, {'date': datetime.datetime(2013, 9, 5, 0, 0), 'grade': 'A', 'score': 10}, {'date': datetime.datetime(2013, 2, 21, 0, 0), 'grade': 'A', 'score': 9}, {'date': datetime.datetime(2012, 7, 3, 0, 0), 'grade': 'A', 'score': 11}, {'date': datetime.datetime(2011, 7, 11, 0, 0), 'grade': 'A', 'score': 5}], 'name': 'Carvel Ice Cream', 'restaurant_id': '40363093'}\n"
          ]
        }
      ]
    },
    {
      "cell_type": "code",
      "metadata": {
        "colab": {
          "base_uri": "https://localhost:8080/",
          "height": 143
        },
        "id": "Yhaab-ELVyPP",
        "outputId": "964d71da-03f3-4a33-93dd-5107543a268a"
      },
      "source": [
        "df = pd.DataFrame(list(table.find({\"borough\": \"Bronx\"}).limit(3)))\n",
        "df"
      ],
      "execution_count": null,
      "outputs": [
        {
          "output_type": "execute_result",
          "data": {
            "text/plain": [
              "                        _id  \\\n",
              "0  6472c913a9e8eff3f21dc4e7   \n",
              "1  6472c913a9e8eff3f21dc4ef   \n",
              "2  6472c913a9e8eff3f21dc505   \n",
              "\n",
              "                                             address borough  \\\n",
              "0  {'building': '1007', 'coord': [-73.856077, 40....   Bronx   \n",
              "1  {'building': '2300', 'coord': [-73.8786113, 40...   Bronx   \n",
              "2  {'building': '1006', 'coord': [-73.84856870000...   Bronx   \n",
              "\n",
              "                           cuisine  \\\n",
              "0                           Bakery   \n",
              "1                        American    \n",
              "2  Ice Cream, Gelato, Yogurt, Ices   \n",
              "\n",
              "                                              grades                   name  \\\n",
              "0  [{'date': 2014-03-03 00:00:00, 'grade': 'A', '...  Morris Park Bake Shop   \n",
              "1  [{'date': 2014-05-28 00:00:00, 'grade': 'A', '...              Wild Asia   \n",
              "2  [{'date': 2014-04-24 00:00:00, 'grade': 'A', '...       Carvel Ice Cream   \n",
              "\n",
              "  restaurant_id  \n",
              "0      30075445  \n",
              "1      40357217  \n",
              "2      40363093  "
            ],
            "text/html": [
              "\n",
              "  <div id=\"df-d69829e8-f83c-486b-9bef-f0ce270ed5dc\">\n",
              "    <div class=\"colab-df-container\">\n",
              "      <div>\n",
              "<style scoped>\n",
              "    .dataframe tbody tr th:only-of-type {\n",
              "        vertical-align: middle;\n",
              "    }\n",
              "\n",
              "    .dataframe tbody tr th {\n",
              "        vertical-align: top;\n",
              "    }\n",
              "\n",
              "    .dataframe thead th {\n",
              "        text-align: right;\n",
              "    }\n",
              "</style>\n",
              "<table border=\"1\" class=\"dataframe\">\n",
              "  <thead>\n",
              "    <tr style=\"text-align: right;\">\n",
              "      <th></th>\n",
              "      <th>_id</th>\n",
              "      <th>address</th>\n",
              "      <th>borough</th>\n",
              "      <th>cuisine</th>\n",
              "      <th>grades</th>\n",
              "      <th>name</th>\n",
              "      <th>restaurant_id</th>\n",
              "    </tr>\n",
              "  </thead>\n",
              "  <tbody>\n",
              "    <tr>\n",
              "      <th>0</th>\n",
              "      <td>6472c913a9e8eff3f21dc4e7</td>\n",
              "      <td>{'building': '1007', 'coord': [-73.856077, 40....</td>\n",
              "      <td>Bronx</td>\n",
              "      <td>Bakery</td>\n",
              "      <td>[{'date': 2014-03-03 00:00:00, 'grade': 'A', '...</td>\n",
              "      <td>Morris Park Bake Shop</td>\n",
              "      <td>30075445</td>\n",
              "    </tr>\n",
              "    <tr>\n",
              "      <th>1</th>\n",
              "      <td>6472c913a9e8eff3f21dc4ef</td>\n",
              "      <td>{'building': '2300', 'coord': [-73.8786113, 40...</td>\n",
              "      <td>Bronx</td>\n",
              "      <td>American</td>\n",
              "      <td>[{'date': 2014-05-28 00:00:00, 'grade': 'A', '...</td>\n",
              "      <td>Wild Asia</td>\n",
              "      <td>40357217</td>\n",
              "    </tr>\n",
              "    <tr>\n",
              "      <th>2</th>\n",
              "      <td>6472c913a9e8eff3f21dc505</td>\n",
              "      <td>{'building': '1006', 'coord': [-73.84856870000...</td>\n",
              "      <td>Bronx</td>\n",
              "      <td>Ice Cream, Gelato, Yogurt, Ices</td>\n",
              "      <td>[{'date': 2014-04-24 00:00:00, 'grade': 'A', '...</td>\n",
              "      <td>Carvel Ice Cream</td>\n",
              "      <td>40363093</td>\n",
              "    </tr>\n",
              "  </tbody>\n",
              "</table>\n",
              "</div>\n",
              "      <button class=\"colab-df-convert\" onclick=\"convertToInteractive('df-d69829e8-f83c-486b-9bef-f0ce270ed5dc')\"\n",
              "              title=\"Convert this dataframe to an interactive table.\"\n",
              "              style=\"display:none;\">\n",
              "        \n",
              "  <svg xmlns=\"http://www.w3.org/2000/svg\" height=\"24px\"viewBox=\"0 0 24 24\"\n",
              "       width=\"24px\">\n",
              "    <path d=\"M0 0h24v24H0V0z\" fill=\"none\"/>\n",
              "    <path d=\"M18.56 5.44l.94 2.06.94-2.06 2.06-.94-2.06-.94-.94-2.06-.94 2.06-2.06.94zm-11 1L8.5 8.5l.94-2.06 2.06-.94-2.06-.94L8.5 2.5l-.94 2.06-2.06.94zm10 10l.94 2.06.94-2.06 2.06-.94-2.06-.94-.94-2.06-.94 2.06-2.06.94z\"/><path d=\"M17.41 7.96l-1.37-1.37c-.4-.4-.92-.59-1.43-.59-.52 0-1.04.2-1.43.59L10.3 9.45l-7.72 7.72c-.78.78-.78 2.05 0 2.83L4 21.41c.39.39.9.59 1.41.59.51 0 1.02-.2 1.41-.59l7.78-7.78 2.81-2.81c.8-.78.8-2.07 0-2.86zM5.41 20L4 18.59l7.72-7.72 1.47 1.35L5.41 20z\"/>\n",
              "  </svg>\n",
              "      </button>\n",
              "      \n",
              "  <style>\n",
              "    .colab-df-container {\n",
              "      display:flex;\n",
              "      flex-wrap:wrap;\n",
              "      gap: 12px;\n",
              "    }\n",
              "\n",
              "    .colab-df-convert {\n",
              "      background-color: #E8F0FE;\n",
              "      border: none;\n",
              "      border-radius: 50%;\n",
              "      cursor: pointer;\n",
              "      display: none;\n",
              "      fill: #1967D2;\n",
              "      height: 32px;\n",
              "      padding: 0 0 0 0;\n",
              "      width: 32px;\n",
              "    }\n",
              "\n",
              "    .colab-df-convert:hover {\n",
              "      background-color: #E2EBFA;\n",
              "      box-shadow: 0px 1px 2px rgba(60, 64, 67, 0.3), 0px 1px 3px 1px rgba(60, 64, 67, 0.15);\n",
              "      fill: #174EA6;\n",
              "    }\n",
              "\n",
              "    [theme=dark] .colab-df-convert {\n",
              "      background-color: #3B4455;\n",
              "      fill: #D2E3FC;\n",
              "    }\n",
              "\n",
              "    [theme=dark] .colab-df-convert:hover {\n",
              "      background-color: #434B5C;\n",
              "      box-shadow: 0px 1px 3px 1px rgba(0, 0, 0, 0.15);\n",
              "      filter: drop-shadow(0px 1px 2px rgba(0, 0, 0, 0.3));\n",
              "      fill: #FFFFFF;\n",
              "    }\n",
              "  </style>\n",
              "\n",
              "      <script>\n",
              "        const buttonEl =\n",
              "          document.querySelector('#df-d69829e8-f83c-486b-9bef-f0ce270ed5dc button.colab-df-convert');\n",
              "        buttonEl.style.display =\n",
              "          google.colab.kernel.accessAllowed ? 'block' : 'none';\n",
              "\n",
              "        async function convertToInteractive(key) {\n",
              "          const element = document.querySelector('#df-d69829e8-f83c-486b-9bef-f0ce270ed5dc');\n",
              "          const dataTable =\n",
              "            await google.colab.kernel.invokeFunction('convertToInteractive',\n",
              "                                                     [key], {});\n",
              "          if (!dataTable) return;\n",
              "\n",
              "          const docLinkHtml = 'Like what you see? Visit the ' +\n",
              "            '<a target=\"_blank\" href=https://colab.research.google.com/notebooks/data_table.ipynb>data table notebook</a>'\n",
              "            + ' to learn more about interactive tables.';\n",
              "          element.innerHTML = '';\n",
              "          dataTable['output_type'] = 'display_data';\n",
              "          await google.colab.output.renderOutput(dataTable, element);\n",
              "          const docLink = document.createElement('div');\n",
              "          docLink.innerHTML = docLinkHtml;\n",
              "          element.appendChild(docLink);\n",
              "        }\n",
              "      </script>\n",
              "    </div>\n",
              "  </div>\n",
              "  "
            ]
          },
          "metadata": {},
          "execution_count": 23
        }
      ]
    },
    {
      "cell_type": "markdown",
      "metadata": {
        "id": "FA01CJcxbhLQ"
      },
      "source": [
        "7. display the next 5 restaurants after skipping first 5 which are in the borough Bronx. \n"
      ]
    },
    {
      "cell_type": "code",
      "metadata": {
        "colab": {
          "base_uri": "https://localhost:8080/",
          "height": 143
        },
        "id": "uYMMY_xWbpTu",
        "outputId": "099a9fd6-4e58-44af-b199-05677fd73fbd"
      },
      "source": [
        "pd.DataFrame(list(table.find({\"borough\": \"Bronx\"}).skip(5).limit(3)))"
      ],
      "execution_count": null,
      "outputs": [
        {
          "output_type": "execute_result",
          "data": {
            "text/plain": [
              "                        _id  \\\n",
              "0  6472c913a9e8eff3f21dc523   \n",
              "1  6472c913a9e8eff3f21dc53d   \n",
              "2  6472c913a9e8eff3f21dc553   \n",
              "\n",
              "                                             address borough    cuisine  \\\n",
              "0  {'building': '658', 'coord': [-73.813639999999...   Bronx  American    \n",
              "1  {'building': '2222', 'coord': [-73.84971759999...   Bronx  American    \n",
              "2  {'building': '72', 'coord': [-73.92506, 40.827...   Bronx  American    \n",
              "\n",
              "                                              grades  \\\n",
              "0  [{'date': 2014-06-21 00:00:00, 'grade': 'A', '...   \n",
              "1  [{'date': 2014-12-18 00:00:00, 'grade': 'A', '...   \n",
              "2  [{'date': 2014-04-15 00:00:00, 'grade': 'A', '...   \n",
              "\n",
              "                                          name restaurant_id  \n",
              "0                                  Manhem Club      40364363  \n",
              "1  The New Starling Athletic Club Of The Bronx      40364956  \n",
              "2                                Yankee Tavern      40365499  "
            ],
            "text/html": [
              "\n",
              "  <div id=\"df-45675a33-0a10-44c1-afbb-716c173a9778\">\n",
              "    <div class=\"colab-df-container\">\n",
              "      <div>\n",
              "<style scoped>\n",
              "    .dataframe tbody tr th:only-of-type {\n",
              "        vertical-align: middle;\n",
              "    }\n",
              "\n",
              "    .dataframe tbody tr th {\n",
              "        vertical-align: top;\n",
              "    }\n",
              "\n",
              "    .dataframe thead th {\n",
              "        text-align: right;\n",
              "    }\n",
              "</style>\n",
              "<table border=\"1\" class=\"dataframe\">\n",
              "  <thead>\n",
              "    <tr style=\"text-align: right;\">\n",
              "      <th></th>\n",
              "      <th>_id</th>\n",
              "      <th>address</th>\n",
              "      <th>borough</th>\n",
              "      <th>cuisine</th>\n",
              "      <th>grades</th>\n",
              "      <th>name</th>\n",
              "      <th>restaurant_id</th>\n",
              "    </tr>\n",
              "  </thead>\n",
              "  <tbody>\n",
              "    <tr>\n",
              "      <th>0</th>\n",
              "      <td>6472c913a9e8eff3f21dc523</td>\n",
              "      <td>{'building': '658', 'coord': [-73.813639999999...</td>\n",
              "      <td>Bronx</td>\n",
              "      <td>American</td>\n",
              "      <td>[{'date': 2014-06-21 00:00:00, 'grade': 'A', '...</td>\n",
              "      <td>Manhem Club</td>\n",
              "      <td>40364363</td>\n",
              "    </tr>\n",
              "    <tr>\n",
              "      <th>1</th>\n",
              "      <td>6472c913a9e8eff3f21dc53d</td>\n",
              "      <td>{'building': '2222', 'coord': [-73.84971759999...</td>\n",
              "      <td>Bronx</td>\n",
              "      <td>American</td>\n",
              "      <td>[{'date': 2014-12-18 00:00:00, 'grade': 'A', '...</td>\n",
              "      <td>The New Starling Athletic Club Of The Bronx</td>\n",
              "      <td>40364956</td>\n",
              "    </tr>\n",
              "    <tr>\n",
              "      <th>2</th>\n",
              "      <td>6472c913a9e8eff3f21dc553</td>\n",
              "      <td>{'building': '72', 'coord': [-73.92506, 40.827...</td>\n",
              "      <td>Bronx</td>\n",
              "      <td>American</td>\n",
              "      <td>[{'date': 2014-04-15 00:00:00, 'grade': 'A', '...</td>\n",
              "      <td>Yankee Tavern</td>\n",
              "      <td>40365499</td>\n",
              "    </tr>\n",
              "  </tbody>\n",
              "</table>\n",
              "</div>\n",
              "      <button class=\"colab-df-convert\" onclick=\"convertToInteractive('df-45675a33-0a10-44c1-afbb-716c173a9778')\"\n",
              "              title=\"Convert this dataframe to an interactive table.\"\n",
              "              style=\"display:none;\">\n",
              "        \n",
              "  <svg xmlns=\"http://www.w3.org/2000/svg\" height=\"24px\"viewBox=\"0 0 24 24\"\n",
              "       width=\"24px\">\n",
              "    <path d=\"M0 0h24v24H0V0z\" fill=\"none\"/>\n",
              "    <path d=\"M18.56 5.44l.94 2.06.94-2.06 2.06-.94-2.06-.94-.94-2.06-.94 2.06-2.06.94zm-11 1L8.5 8.5l.94-2.06 2.06-.94-2.06-.94L8.5 2.5l-.94 2.06-2.06.94zm10 10l.94 2.06.94-2.06 2.06-.94-2.06-.94-.94-2.06-.94 2.06-2.06.94z\"/><path d=\"M17.41 7.96l-1.37-1.37c-.4-.4-.92-.59-1.43-.59-.52 0-1.04.2-1.43.59L10.3 9.45l-7.72 7.72c-.78.78-.78 2.05 0 2.83L4 21.41c.39.39.9.59 1.41.59.51 0 1.02-.2 1.41-.59l7.78-7.78 2.81-2.81c.8-.78.8-2.07 0-2.86zM5.41 20L4 18.59l7.72-7.72 1.47 1.35L5.41 20z\"/>\n",
              "  </svg>\n",
              "      </button>\n",
              "      \n",
              "  <style>\n",
              "    .colab-df-container {\n",
              "      display:flex;\n",
              "      flex-wrap:wrap;\n",
              "      gap: 12px;\n",
              "    }\n",
              "\n",
              "    .colab-df-convert {\n",
              "      background-color: #E8F0FE;\n",
              "      border: none;\n",
              "      border-radius: 50%;\n",
              "      cursor: pointer;\n",
              "      display: none;\n",
              "      fill: #1967D2;\n",
              "      height: 32px;\n",
              "      padding: 0 0 0 0;\n",
              "      width: 32px;\n",
              "    }\n",
              "\n",
              "    .colab-df-convert:hover {\n",
              "      background-color: #E2EBFA;\n",
              "      box-shadow: 0px 1px 2px rgba(60, 64, 67, 0.3), 0px 1px 3px 1px rgba(60, 64, 67, 0.15);\n",
              "      fill: #174EA6;\n",
              "    }\n",
              "\n",
              "    [theme=dark] .colab-df-convert {\n",
              "      background-color: #3B4455;\n",
              "      fill: #D2E3FC;\n",
              "    }\n",
              "\n",
              "    [theme=dark] .colab-df-convert:hover {\n",
              "      background-color: #434B5C;\n",
              "      box-shadow: 0px 1px 3px 1px rgba(0, 0, 0, 0.15);\n",
              "      filter: drop-shadow(0px 1px 2px rgba(0, 0, 0, 0.3));\n",
              "      fill: #FFFFFF;\n",
              "    }\n",
              "  </style>\n",
              "\n",
              "      <script>\n",
              "        const buttonEl =\n",
              "          document.querySelector('#df-45675a33-0a10-44c1-afbb-716c173a9778 button.colab-df-convert');\n",
              "        buttonEl.style.display =\n",
              "          google.colab.kernel.accessAllowed ? 'block' : 'none';\n",
              "\n",
              "        async function convertToInteractive(key) {\n",
              "          const element = document.querySelector('#df-45675a33-0a10-44c1-afbb-716c173a9778');\n",
              "          const dataTable =\n",
              "            await google.colab.kernel.invokeFunction('convertToInteractive',\n",
              "                                                     [key], {});\n",
              "          if (!dataTable) return;\n",
              "\n",
              "          const docLinkHtml = 'Like what you see? Visit the ' +\n",
              "            '<a target=\"_blank\" href=https://colab.research.google.com/notebooks/data_table.ipynb>data table notebook</a>'\n",
              "            + ' to learn more about interactive tables.';\n",
              "          element.innerHTML = '';\n",
              "          dataTable['output_type'] = 'display_data';\n",
              "          await google.colab.output.renderOutput(dataTable, element);\n",
              "          const docLink = document.createElement('div');\n",
              "          docLink.innerHTML = docLinkHtml;\n",
              "          element.appendChild(docLink);\n",
              "        }\n",
              "      </script>\n",
              "    </div>\n",
              "  </div>\n",
              "  "
            ]
          },
          "metadata": {},
          "execution_count": 24
        }
      ]
    },
    {
      "cell_type": "markdown",
      "metadata": {
        "id": "05DKPgH1cKRf"
      },
      "source": [
        "8. find the restaurants who achieved a score more than 90. <hr>\n",
        "https://stackoverflow.com/questions/68772027/mongodb-with-python-on-google-colab-syntax-error-on-elemmatch/68796638#68796638"
      ]
    },
    {
      "cell_type": "code",
      "metadata": {
        "colab": {
          "base_uri": "https://localhost:8080/"
        },
        "id": "cz-T8eHYII34",
        "outputId": "32d94a96-fb4d-4a46-af87-bc3f01b174c2"
      },
      "source": [
        "c1 = db.restaurants.find({\"grades\" : { \"$elemMatch\":{\"score\":{\"$gt\" : 90}}}})\n",
        "for crnt in c1:\n",
        "    print(crnt)"
      ],
      "execution_count": null,
      "outputs": [
        {
          "output_type": "stream",
          "name": "stdout",
          "text": [
            "{'_id': ObjectId('6472c913a9e8eff3f21dc645'), 'address': {'building': '65', 'coord': [-73.9782725, 40.7624022], 'street': 'West   54 Street', 'zipcode': '10019'}, 'borough': 'Manhattan', 'cuisine': 'American ', 'grades': [{'date': datetime.datetime(2014, 8, 22, 0, 0), 'grade': 'A', 'score': 11}, {'date': datetime.datetime(2014, 3, 28, 0, 0), 'grade': 'C', 'score': 131}, {'date': datetime.datetime(2013, 9, 25, 0, 0), 'grade': 'A', 'score': 11}, {'date': datetime.datetime(2013, 4, 8, 0, 0), 'grade': 'B', 'score': 25}, {'date': datetime.datetime(2012, 10, 15, 0, 0), 'grade': 'A', 'score': 11}, {'date': datetime.datetime(2011, 10, 19, 0, 0), 'grade': 'A', 'score': 13}], 'name': \"Murals On 54/Randolphs'S\", 'restaurant_id': '40372466'}\n",
            "{'_id': ObjectId('6472c913a9e8eff3f21dc6e4'), 'address': {'building': '345', 'coord': [-73.9864626, 40.7266739], 'street': 'East 6 Street', 'zipcode': '10003'}, 'borough': 'Manhattan', 'cuisine': 'Indian', 'grades': [{'date': datetime.datetime(2014, 9, 15, 0, 0), 'grade': 'A', 'score': 5}, {'date': datetime.datetime(2014, 1, 14, 0, 0), 'grade': 'A', 'score': 8}, {'date': datetime.datetime(2013, 5, 30, 0, 0), 'grade': 'A', 'score': 12}, {'date': datetime.datetime(2013, 4, 24, 0, 0), 'grade': 'P', 'score': 2}, {'date': datetime.datetime(2012, 10, 1, 0, 0), 'grade': 'A', 'score': 9}, {'date': datetime.datetime(2012, 4, 6, 0, 0), 'grade': 'C', 'score': 92}, {'date': datetime.datetime(2011, 11, 3, 0, 0), 'grade': 'C', 'score': 41}], 'name': 'Gandhi', 'restaurant_id': '40381295'}\n",
            "{'_id': ObjectId('6472c913a9e8eff3f21dc848'), 'address': {'building': '130', 'coord': [-73.984758, 40.7457939], 'street': 'Madison Avenue', 'zipcode': '10016'}, 'borough': 'Manhattan', 'cuisine': 'Pizza/Italian', 'grades': [{'date': datetime.datetime(2014, 12, 24, 0, 0), 'grade': 'Z', 'score': 31}, {'date': datetime.datetime(2014, 6, 17, 0, 0), 'grade': 'C', 'score': 98}, {'date': datetime.datetime(2013, 12, 12, 0, 0), 'grade': 'C', 'score': 32}, {'date': datetime.datetime(2013, 5, 22, 0, 0), 'grade': 'B', 'score': 21}, {'date': datetime.datetime(2012, 5, 2, 0, 0), 'grade': 'A', 'score': 11}], 'name': 'Bella Napoli', 'restaurant_id': '40393488'}\n"
          ]
        }
      ]
    },
    {
      "cell_type": "code",
      "source": [
        "c1 = db.restaurants.find({\"grades\" : { \"$elemMatch\":{\"score\":{\"$gt\" : 90}}}},{\"name\":1,\"borough\":1,\"address.zipcode\" :1,\"_id\":0})\n",
        "for crnt in c1:\n",
        "    print(crnt)"
      ],
      "metadata": {
        "id": "EWm47mu6QCUN",
        "outputId": "1804fe47-19f4-463e-fd19-18662685d928",
        "colab": {
          "base_uri": "https://localhost:8080/"
        }
      },
      "execution_count": null,
      "outputs": [
        {
          "output_type": "stream",
          "name": "stdout",
          "text": [
            "{'address': {'zipcode': '10019'}, 'borough': 'Manhattan', 'name': \"Murals On 54/Randolphs'S\"}\n",
            "{'address': {'zipcode': '10003'}, 'borough': 'Manhattan', 'name': 'Gandhi'}\n",
            "{'address': {'zipcode': '10016'}, 'borough': 'Manhattan', 'name': 'Bella Napoli'}\n"
          ]
        }
      ]
    },
    {
      "cell_type": "markdown",
      "metadata": {
        "id": "aLcgVZ2h0urN"
      },
      "source": [
        "9. find the restaurants that achieved a score, more than 80 but less than 100. \n"
      ]
    },
    {
      "cell_type": "code",
      "metadata": {
        "colab": {
          "base_uri": "https://localhost:8080/"
        },
        "id": "soYsYbef0uDW",
        "outputId": "261be953-cf9d-43ac-dc53-0c826e67737e"
      },
      "source": [
        "c1 = db.restaurants.find({\"grades\" : { \"$elemMatch\":{\"score\":{\"$gt\" : 80 , \"$lt\" :100}}}})\n",
        "for crnt in c1:\n",
        "    print(crnt)"
      ],
      "execution_count": null,
      "outputs": [
        {
          "output_type": "stream",
          "name": "stdout",
          "text": [
            "{'_id': ObjectId('6472c913a9e8eff3f21dc6e4'), 'address': {'building': '345', 'coord': [-73.9864626, 40.7266739], 'street': 'East 6 Street', 'zipcode': '10003'}, 'borough': 'Manhattan', 'cuisine': 'Indian', 'grades': [{'date': datetime.datetime(2014, 9, 15, 0, 0), 'grade': 'A', 'score': 5}, {'date': datetime.datetime(2014, 1, 14, 0, 0), 'grade': 'A', 'score': 8}, {'date': datetime.datetime(2013, 5, 30, 0, 0), 'grade': 'A', 'score': 12}, {'date': datetime.datetime(2013, 4, 24, 0, 0), 'grade': 'P', 'score': 2}, {'date': datetime.datetime(2012, 10, 1, 0, 0), 'grade': 'A', 'score': 9}, {'date': datetime.datetime(2012, 4, 6, 0, 0), 'grade': 'C', 'score': 92}, {'date': datetime.datetime(2011, 11, 3, 0, 0), 'grade': 'C', 'score': 41}], 'name': 'Gandhi', 'restaurant_id': '40381295'}\n",
            "{'_id': ObjectId('6472c913a9e8eff3f21dc848'), 'address': {'building': '130', 'coord': [-73.984758, 40.7457939], 'street': 'Madison Avenue', 'zipcode': '10016'}, 'borough': 'Manhattan', 'cuisine': 'Pizza/Italian', 'grades': [{'date': datetime.datetime(2014, 12, 24, 0, 0), 'grade': 'Z', 'score': 31}, {'date': datetime.datetime(2014, 6, 17, 0, 0), 'grade': 'C', 'score': 98}, {'date': datetime.datetime(2013, 12, 12, 0, 0), 'grade': 'C', 'score': 32}, {'date': datetime.datetime(2013, 5, 22, 0, 0), 'grade': 'B', 'score': 21}, {'date': datetime.datetime(2012, 5, 2, 0, 0), 'grade': 'A', 'score': 11}], 'name': 'Bella Napoli', 'restaurant_id': '40393488'}\n",
            "{'_id': ObjectId('6472c91fa9e8eff3f21dd0b3'), 'address': {'building': '', 'coord': [-74.0163793, 40.7167671], 'street': 'Hudson River', 'zipcode': '10282'}, 'borough': 'Manhattan', 'cuisine': 'American ', 'grades': [{'date': datetime.datetime(2014, 6, 27, 0, 0), 'grade': 'C', 'score': 89}, {'date': datetime.datetime(2013, 6, 6, 0, 0), 'grade': 'A', 'score': 6}, {'date': datetime.datetime(2012, 6, 19, 0, 0), 'grade': 'A', 'score': 13}], 'name': 'West 79Th Street Boat Basin Cafe', 'restaurant_id': '40756344'}\n"
          ]
        }
      ]
    },
    {
      "cell_type": "markdown",
      "metadata": {
        "id": "6B1SESeg1ZQE"
      },
      "source": [
        "10. find the restaurants which locates in latitude value less than -95.754168. \n"
      ]
    },
    {
      "cell_type": "code",
      "metadata": {
        "colab": {
          "base_uri": "https://localhost:8080/"
        },
        "id": "zM17vx6u1a6y",
        "outputId": "da832d26-0ed6-4e66-dbc5-c9240c0f090f"
      },
      "source": [
        "c1 = db.restaurants.find({\"address.coord\" : {\"$lt\" : -95.754168}})\n",
        "for crnt in c1:\n",
        "    print(crnt)"
      ],
      "execution_count": null,
      "outputs": [
        {
          "output_type": "stream",
          "name": "stdout",
          "text": [
            "{'_id': ObjectId('6472c917a9e8eff3f21dcb2f'), 'address': {'building': '3707', 'coord': [-101.8945214, 33.5197474], 'street': '82 Street', 'zipcode': '11372'}, 'borough': 'Queens', 'cuisine': 'American ', 'grades': [{'date': datetime.datetime(2014, 6, 4, 0, 0), 'grade': 'A', 'score': 12}, {'date': datetime.datetime(2013, 11, 7, 0, 0), 'grade': 'B', 'score': 19}, {'date': datetime.datetime(2013, 5, 17, 0, 0), 'grade': 'A', 'score': 11}, {'date': datetime.datetime(2012, 8, 29, 0, 0), 'grade': 'A', 'score': 11}, {'date': datetime.datetime(2012, 4, 3, 0, 0), 'grade': 'A', 'score': 12}, {'date': datetime.datetime(2011, 11, 16, 0, 0), 'grade': 'A', 'score': 7}], 'name': 'Burger King', 'restaurant_id': '40534067'}\n",
            "{'_id': ObjectId('6472c91ba9e8eff3f21dce99'), 'address': {'building': '15259', 'coord': [-119.6368672, 36.2504996], 'street': '10 Avenue', 'zipcode': '11357'}, 'borough': 'Queens', 'cuisine': 'Italian', 'grades': [{'date': datetime.datetime(2014, 9, 4, 0, 0), 'grade': 'A', 'score': 11}, {'date': datetime.datetime(2014, 3, 26, 0, 0), 'grade': 'A', 'score': 8}, {'date': datetime.datetime(2013, 3, 4, 0, 0), 'grade': 'A', 'score': 10}, {'date': datetime.datetime(2012, 9, 27, 0, 0), 'grade': 'A', 'score': 10}, {'date': datetime.datetime(2012, 4, 20, 0, 0), 'grade': 'A', 'score': 7}, {'date': datetime.datetime(2011, 11, 23, 0, 0), 'grade': 'C', 'score': 34}], 'name': \"Cascarino'S\", 'restaurant_id': '40668681'}\n",
            "{'_id': ObjectId('6472c91fa9e8eff3f21dd33f'), 'address': {'building': '60', 'coord': [-111.9975205, 42.0970258], 'street': 'West Side Highway', 'zipcode': '10006'}, 'borough': 'Manhattan', 'cuisine': 'Japanese', 'grades': [{'date': datetime.datetime(2014, 3, 20, 0, 0), 'grade': 'A', 'score': 9}, {'date': datetime.datetime(2013, 6, 28, 0, 0), 'grade': 'A', 'score': 11}, {'date': datetime.datetime(2012, 7, 5, 0, 0), 'grade': 'A', 'score': 13}, {'date': datetime.datetime(2011, 7, 27, 0, 0), 'grade': 'A', 'score': 2}], 'name': 'Sports Center At Chelsea Piers (Sushi Bar)', 'restaurant_id': '40882356'}\n"
          ]
        }
      ]
    },
    {
      "cell_type": "markdown",
      "metadata": {
        "id": "aDT6MTuD2E-y"
      },
      "source": [
        "11. find the restaurants that does not prepare any cuisine of 'American' and their grade score more than 70 and latitude less than -65.754168."
      ]
    },
    {
      "cell_type": "code",
      "metadata": {
        "colab": {
          "base_uri": "https://localhost:8080/"
        },
        "id": "J_yL-eOl2HEY",
        "outputId": "9dd24a10-73ae-4bb6-d671-0a58778ccbee"
      },
      "source": [
        "c1 = db.restaurants.find(\n",
        "               {\"$and\":\n",
        "                    [\n",
        "                       {\"cuisine\" : {\"$ne\" :\"American \"}},\n",
        "                       {\"grades.score\" : {\"$gt\" : 70}},\n",
        "                       {\"address.coord\" : {\"$lt\" : -65.754168}}\n",
        "                    ]\n",
        "                },\n",
        "                {\"restaurant_id\" : 1,\"name\":1,\"borough\":1,\"address.zipcode\" :1,\"_id\":0}\n",
        "                    );\n",
        "for crnt in c1:\n",
        "    print(crnt)"
      ],
      "execution_count": null,
      "outputs": [
        {
          "output_type": "stream",
          "name": "stdout",
          "text": [
            "{'address': {'zipcode': '10003'}, 'borough': 'Manhattan', 'name': 'Gandhi', 'restaurant_id': '40381295'}\n",
            "{'address': {'zipcode': '10016'}, 'borough': 'Manhattan', 'name': 'Bella Napoli', 'restaurant_id': '40393488'}\n",
            "{'address': {'zipcode': '10451'}, 'borough': 'Bronx', 'name': 'El Molino Rojo Restaurant', 'restaurant_id': '40393688'}\n",
            "{'address': {'zipcode': '11211'}, 'borough': 'Brooklyn', 'name': 'Fortunato Bros Cafe & Bakery', 'restaurant_id': '40400561'}\n",
            "{'address': {'zipcode': '10017'}, 'borough': 'Manhattan', 'name': 'Two Boots Grand Central', 'restaurant_id': '40725591'}\n"
          ]
        }
      ]
    },
    {
      "cell_type": "code",
      "source": [
        "whereCond = {\"$and\":\n",
        "                    [\n",
        "                       {\"cuisine\" : {\"$ne\" :\"American \"}},\n",
        "                       {\"grades.score\" : {\"$gt\" : 70}},\n",
        "                       {\"address.coord\" : {\"$lt\" : -65.754168}}\n",
        "                    ]\n",
        "                }\n",
        "selFields = {\n",
        "    \"restaurant_id\" : 1,\n",
        "    \"name\":1,\n",
        "    \"borough\":1,\n",
        "    \"address.zipcode\" :1,\n",
        "    \"_id\":0}\n",
        "\n",
        "df = pd.DataFrame(db.restaurants.find(whereCond,selFields))\n",
        "df"
      ],
      "metadata": {
        "id": "tD_ZfMTRYhUU",
        "outputId": "cf0ed29f-580e-438c-edb3-8bc1d94e7084",
        "colab": {
          "base_uri": "https://localhost:8080/",
          "height": 206
        }
      },
      "execution_count": null,
      "outputs": [
        {
          "output_type": "execute_result",
          "data": {
            "text/plain": [
              "                address    borough                          name restaurant_id\n",
              "0  {'zipcode': '10003'}  Manhattan                        Gandhi      40381295\n",
              "1  {'zipcode': '10016'}  Manhattan                  Bella Napoli      40393488\n",
              "2  {'zipcode': '10451'}      Bronx     El Molino Rojo Restaurant      40393688\n",
              "3  {'zipcode': '11211'}   Brooklyn  Fortunato Bros Cafe & Bakery      40400561\n",
              "4  {'zipcode': '10017'}  Manhattan       Two Boots Grand Central      40725591"
            ],
            "text/html": [
              "\n",
              "  <div id=\"df-9dd075b1-4900-4394-a8d2-05dd205e150a\">\n",
              "    <div class=\"colab-df-container\">\n",
              "      <div>\n",
              "<style scoped>\n",
              "    .dataframe tbody tr th:only-of-type {\n",
              "        vertical-align: middle;\n",
              "    }\n",
              "\n",
              "    .dataframe tbody tr th {\n",
              "        vertical-align: top;\n",
              "    }\n",
              "\n",
              "    .dataframe thead th {\n",
              "        text-align: right;\n",
              "    }\n",
              "</style>\n",
              "<table border=\"1\" class=\"dataframe\">\n",
              "  <thead>\n",
              "    <tr style=\"text-align: right;\">\n",
              "      <th></th>\n",
              "      <th>address</th>\n",
              "      <th>borough</th>\n",
              "      <th>name</th>\n",
              "      <th>restaurant_id</th>\n",
              "    </tr>\n",
              "  </thead>\n",
              "  <tbody>\n",
              "    <tr>\n",
              "      <th>0</th>\n",
              "      <td>{'zipcode': '10003'}</td>\n",
              "      <td>Manhattan</td>\n",
              "      <td>Gandhi</td>\n",
              "      <td>40381295</td>\n",
              "    </tr>\n",
              "    <tr>\n",
              "      <th>1</th>\n",
              "      <td>{'zipcode': '10016'}</td>\n",
              "      <td>Manhattan</td>\n",
              "      <td>Bella Napoli</td>\n",
              "      <td>40393488</td>\n",
              "    </tr>\n",
              "    <tr>\n",
              "      <th>2</th>\n",
              "      <td>{'zipcode': '10451'}</td>\n",
              "      <td>Bronx</td>\n",
              "      <td>El Molino Rojo Restaurant</td>\n",
              "      <td>40393688</td>\n",
              "    </tr>\n",
              "    <tr>\n",
              "      <th>3</th>\n",
              "      <td>{'zipcode': '11211'}</td>\n",
              "      <td>Brooklyn</td>\n",
              "      <td>Fortunato Bros Cafe &amp; Bakery</td>\n",
              "      <td>40400561</td>\n",
              "    </tr>\n",
              "    <tr>\n",
              "      <th>4</th>\n",
              "      <td>{'zipcode': '10017'}</td>\n",
              "      <td>Manhattan</td>\n",
              "      <td>Two Boots Grand Central</td>\n",
              "      <td>40725591</td>\n",
              "    </tr>\n",
              "  </tbody>\n",
              "</table>\n",
              "</div>\n",
              "      <button class=\"colab-df-convert\" onclick=\"convertToInteractive('df-9dd075b1-4900-4394-a8d2-05dd205e150a')\"\n",
              "              title=\"Convert this dataframe to an interactive table.\"\n",
              "              style=\"display:none;\">\n",
              "        \n",
              "  <svg xmlns=\"http://www.w3.org/2000/svg\" height=\"24px\"viewBox=\"0 0 24 24\"\n",
              "       width=\"24px\">\n",
              "    <path d=\"M0 0h24v24H0V0z\" fill=\"none\"/>\n",
              "    <path d=\"M18.56 5.44l.94 2.06.94-2.06 2.06-.94-2.06-.94-.94-2.06-.94 2.06-2.06.94zm-11 1L8.5 8.5l.94-2.06 2.06-.94-2.06-.94L8.5 2.5l-.94 2.06-2.06.94zm10 10l.94 2.06.94-2.06 2.06-.94-2.06-.94-.94-2.06-.94 2.06-2.06.94z\"/><path d=\"M17.41 7.96l-1.37-1.37c-.4-.4-.92-.59-1.43-.59-.52 0-1.04.2-1.43.59L10.3 9.45l-7.72 7.72c-.78.78-.78 2.05 0 2.83L4 21.41c.39.39.9.59 1.41.59.51 0 1.02-.2 1.41-.59l7.78-7.78 2.81-2.81c.8-.78.8-2.07 0-2.86zM5.41 20L4 18.59l7.72-7.72 1.47 1.35L5.41 20z\"/>\n",
              "  </svg>\n",
              "      </button>\n",
              "      \n",
              "  <style>\n",
              "    .colab-df-container {\n",
              "      display:flex;\n",
              "      flex-wrap:wrap;\n",
              "      gap: 12px;\n",
              "    }\n",
              "\n",
              "    .colab-df-convert {\n",
              "      background-color: #E8F0FE;\n",
              "      border: none;\n",
              "      border-radius: 50%;\n",
              "      cursor: pointer;\n",
              "      display: none;\n",
              "      fill: #1967D2;\n",
              "      height: 32px;\n",
              "      padding: 0 0 0 0;\n",
              "      width: 32px;\n",
              "    }\n",
              "\n",
              "    .colab-df-convert:hover {\n",
              "      background-color: #E2EBFA;\n",
              "      box-shadow: 0px 1px 2px rgba(60, 64, 67, 0.3), 0px 1px 3px 1px rgba(60, 64, 67, 0.15);\n",
              "      fill: #174EA6;\n",
              "    }\n",
              "\n",
              "    [theme=dark] .colab-df-convert {\n",
              "      background-color: #3B4455;\n",
              "      fill: #D2E3FC;\n",
              "    }\n",
              "\n",
              "    [theme=dark] .colab-df-convert:hover {\n",
              "      background-color: #434B5C;\n",
              "      box-shadow: 0px 1px 3px 1px rgba(0, 0, 0, 0.15);\n",
              "      filter: drop-shadow(0px 1px 2px rgba(0, 0, 0, 0.3));\n",
              "      fill: #FFFFFF;\n",
              "    }\n",
              "  </style>\n",
              "\n",
              "      <script>\n",
              "        const buttonEl =\n",
              "          document.querySelector('#df-9dd075b1-4900-4394-a8d2-05dd205e150a button.colab-df-convert');\n",
              "        buttonEl.style.display =\n",
              "          google.colab.kernel.accessAllowed ? 'block' : 'none';\n",
              "\n",
              "        async function convertToInteractive(key) {\n",
              "          const element = document.querySelector('#df-9dd075b1-4900-4394-a8d2-05dd205e150a');\n",
              "          const dataTable =\n",
              "            await google.colab.kernel.invokeFunction('convertToInteractive',\n",
              "                                                     [key], {});\n",
              "          if (!dataTable) return;\n",
              "\n",
              "          const docLinkHtml = 'Like what you see? Visit the ' +\n",
              "            '<a target=\"_blank\" href=https://colab.research.google.com/notebooks/data_table.ipynb>data table notebook</a>'\n",
              "            + ' to learn more about interactive tables.';\n",
              "          element.innerHTML = '';\n",
              "          dataTable['output_type'] = 'display_data';\n",
              "          await google.colab.output.renderOutput(dataTable, element);\n",
              "          const docLink = document.createElement('div');\n",
              "          docLink.innerHTML = docLinkHtml;\n",
              "          element.appendChild(docLink);\n",
              "        }\n",
              "      </script>\n",
              "    </div>\n",
              "  </div>\n",
              "  "
            ]
          },
          "metadata": {},
          "execution_count": 30
        }
      ]
    },
    {
      "cell_type": "code",
      "source": [
        "c1 = db.restaurants.find(\n",
        "               {\"$and\":\n",
        "                    [\n",
        "                       {\"cuisine\" : {\"$ne\" :\"American \"}},\n",
        "                       {\"grades.score\" : {\"$gt\" : 70}},\n",
        "                       {\"address.coord\" : {\"$lt\" : -65.754168}}\n",
        "                    ]\n",
        "                }\n",
        "                    );\n",
        "for crnt in c1:\n",
        "    print(crnt)"
      ],
      "metadata": {
        "id": "F06zwG1HYCIn",
        "outputId": "814c9405-e4c1-4320-d126-59ce47cac0f4",
        "colab": {
          "base_uri": "https://localhost:8080/"
        }
      },
      "execution_count": null,
      "outputs": [
        {
          "output_type": "stream",
          "name": "stdout",
          "text": [
            "{'_id': ObjectId('6472c913a9e8eff3f21dc6e4'), 'address': {'building': '345', 'coord': [-73.9864626, 40.7266739], 'street': 'East 6 Street', 'zipcode': '10003'}, 'borough': 'Manhattan', 'cuisine': 'Indian', 'grades': [{'date': datetime.datetime(2014, 9, 15, 0, 0), 'grade': 'A', 'score': 5}, {'date': datetime.datetime(2014, 1, 14, 0, 0), 'grade': 'A', 'score': 8}, {'date': datetime.datetime(2013, 5, 30, 0, 0), 'grade': 'A', 'score': 12}, {'date': datetime.datetime(2013, 4, 24, 0, 0), 'grade': 'P', 'score': 2}, {'date': datetime.datetime(2012, 10, 1, 0, 0), 'grade': 'A', 'score': 9}, {'date': datetime.datetime(2012, 4, 6, 0, 0), 'grade': 'C', 'score': 92}, {'date': datetime.datetime(2011, 11, 3, 0, 0), 'grade': 'C', 'score': 41}], 'name': 'Gandhi', 'restaurant_id': '40381295'}\n",
            "{'_id': ObjectId('6472c913a9e8eff3f21dc848'), 'address': {'building': '130', 'coord': [-73.984758, 40.7457939], 'street': 'Madison Avenue', 'zipcode': '10016'}, 'borough': 'Manhattan', 'cuisine': 'Pizza/Italian', 'grades': [{'date': datetime.datetime(2014, 12, 24, 0, 0), 'grade': 'Z', 'score': 31}, {'date': datetime.datetime(2014, 6, 17, 0, 0), 'grade': 'C', 'score': 98}, {'date': datetime.datetime(2013, 12, 12, 0, 0), 'grade': 'C', 'score': 32}, {'date': datetime.datetime(2013, 5, 22, 0, 0), 'grade': 'B', 'score': 21}, {'date': datetime.datetime(2012, 5, 2, 0, 0), 'grade': 'A', 'score': 11}], 'name': 'Bella Napoli', 'restaurant_id': '40393488'}\n",
            "{'_id': ObjectId('6472c913a9e8eff3f21dc853'), 'address': {'building': '101', 'coord': [-73.9243061, 40.8276297], 'street': 'East 161 Street', 'zipcode': '10451'}, 'borough': 'Bronx', 'cuisine': 'Latin (Cuban, Dominican, Puerto Rican, South & Central American)', 'grades': [{'date': datetime.datetime(2014, 4, 10, 0, 0), 'grade': 'A', 'score': 10}, {'date': datetime.datetime(2013, 10, 1, 0, 0), 'grade': 'A', 'score': 6}, {'date': datetime.datetime(2013, 4, 11, 0, 0), 'grade': 'B', 'score': 25}, {'date': datetime.datetime(2012, 10, 25, 0, 0), 'grade': 'A', 'score': 12}, {'date': datetime.datetime(2012, 10, 10, 0, 0), 'grade': 'P', 'score': 12}, {'date': datetime.datetime(2012, 5, 25, 0, 0), 'grade': 'B', 'score': 14}, {'date': datetime.datetime(2011, 9, 14, 0, 0), 'grade': 'B', 'score': 26}, {'date': datetime.datetime(2011, 4, 25, 0, 0), 'grade': 'C', 'score': 76}], 'name': 'El Molino Rojo Restaurant', 'restaurant_id': '40393688'}\n",
            "{'_id': ObjectId('6472c917a9e8eff3f21dc9a4'), 'address': {'building': '289', 'coord': [-73.94610279999999, 40.7137587], 'street': 'Manhattan Avenue', 'zipcode': '11211'}, 'borough': 'Brooklyn', 'cuisine': 'Bakery', 'grades': [{'date': datetime.datetime(2014, 3, 19, 0, 0), 'grade': 'A', 'score': 10}, {'date': datetime.datetime(2013, 10, 10, 0, 0), 'grade': 'A', 'score': 10}, {'date': datetime.datetime(2013, 5, 7, 0, 0), 'grade': 'A', 'score': 13}, {'date': datetime.datetime(2012, 9, 11, 0, 0), 'grade': 'B', 'score': 18}, {'date': datetime.datetime(2012, 4, 18, 0, 0), 'grade': 'A', 'score': 9}, {'date': datetime.datetime(2011, 9, 27, 0, 0), 'grade': 'A', 'score': 8}, {'date': datetime.datetime(2011, 5, 3, 0, 0), 'grade': 'C', 'score': 77}], 'name': 'Fortunato Bros Cafe & Bakery', 'restaurant_id': '40400561'}\n",
            "{'_id': ObjectId('6472c91ba9e8eff3f21dcfcd'), 'address': {'building': '231', 'coord': [-73.9772294, 40.7527262], 'street': 'Grand Central Station', 'zipcode': '10017'}, 'borough': 'Manhattan', 'cuisine': 'Italian', 'grades': [{'date': datetime.datetime(2015, 1, 7, 0, 0), 'grade': 'Z', 'score': 20}, {'date': datetime.datetime(2014, 7, 3, 0, 0), 'grade': 'B', 'score': 14}, {'date': datetime.datetime(2013, 12, 21, 0, 0), 'grade': 'A', 'score': 13}, {'date': datetime.datetime(2013, 5, 17, 0, 0), 'grade': 'C', 'score': 76}, {'date': datetime.datetime(2012, 4, 20, 0, 0), 'grade': 'A', 'score': 12}], 'name': 'Two Boots Grand Central', 'restaurant_id': '40725591'}\n"
          ]
        }
      ]
    },
    {
      "cell_type": "markdown",
      "metadata": {
        "id": "7gXLFI0o2dlS"
      },
      "source": [
        "12. find the restaurants which does not prepare any cuisine of 'American' and achieved a score more than 70 and not located in the longitude less than -65.754168.\n",
        "Note : Do this query without using $and operator. \n"
      ]
    },
    {
      "cell_type": "code",
      "metadata": {
        "colab": {
          "base_uri": "https://localhost:8080/"
        },
        "id": "iZkaCRoF2fLi",
        "outputId": "9ca951c4-fc67-4a61-ed57-75f2d6d655bc"
      },
      "source": [
        "c1 = db.restaurants.find(\n",
        "                     {\"$query\":\n",
        "                            {\n",
        "                             \"cuisine\" : {\"$ne\" : \"American \"},\n",
        "                             \"grades.score\" :{\"$gt\": 70},\n",
        "                             \"address.coord\" : {\"$lt\" : -65.754168}\n",
        "                            }\n",
        "                      });\n",
        "for crnt in c1:\n",
        "    print(crnt)"
      ],
      "execution_count": null,
      "outputs": [
        {
          "output_type": "stream",
          "name": "stdout",
          "text": [
            "{'_id': ObjectId('6472c913a9e8eff3f21dc6e4'), 'address': {'building': '345', 'coord': [-73.9864626, 40.7266739], 'street': 'East 6 Street', 'zipcode': '10003'}, 'borough': 'Manhattan', 'cuisine': 'Indian', 'grades': [{'date': datetime.datetime(2014, 9, 15, 0, 0), 'grade': 'A', 'score': 5}, {'date': datetime.datetime(2014, 1, 14, 0, 0), 'grade': 'A', 'score': 8}, {'date': datetime.datetime(2013, 5, 30, 0, 0), 'grade': 'A', 'score': 12}, {'date': datetime.datetime(2013, 4, 24, 0, 0), 'grade': 'P', 'score': 2}, {'date': datetime.datetime(2012, 10, 1, 0, 0), 'grade': 'A', 'score': 9}, {'date': datetime.datetime(2012, 4, 6, 0, 0), 'grade': 'C', 'score': 92}, {'date': datetime.datetime(2011, 11, 3, 0, 0), 'grade': 'C', 'score': 41}], 'name': 'Gandhi', 'restaurant_id': '40381295'}\n",
            "{'_id': ObjectId('6472c913a9e8eff3f21dc848'), 'address': {'building': '130', 'coord': [-73.984758, 40.7457939], 'street': 'Madison Avenue', 'zipcode': '10016'}, 'borough': 'Manhattan', 'cuisine': 'Pizza/Italian', 'grades': [{'date': datetime.datetime(2014, 12, 24, 0, 0), 'grade': 'Z', 'score': 31}, {'date': datetime.datetime(2014, 6, 17, 0, 0), 'grade': 'C', 'score': 98}, {'date': datetime.datetime(2013, 12, 12, 0, 0), 'grade': 'C', 'score': 32}, {'date': datetime.datetime(2013, 5, 22, 0, 0), 'grade': 'B', 'score': 21}, {'date': datetime.datetime(2012, 5, 2, 0, 0), 'grade': 'A', 'score': 11}], 'name': 'Bella Napoli', 'restaurant_id': '40393488'}\n",
            "{'_id': ObjectId('6472c913a9e8eff3f21dc853'), 'address': {'building': '101', 'coord': [-73.9243061, 40.8276297], 'street': 'East 161 Street', 'zipcode': '10451'}, 'borough': 'Bronx', 'cuisine': 'Latin (Cuban, Dominican, Puerto Rican, South & Central American)', 'grades': [{'date': datetime.datetime(2014, 4, 10, 0, 0), 'grade': 'A', 'score': 10}, {'date': datetime.datetime(2013, 10, 1, 0, 0), 'grade': 'A', 'score': 6}, {'date': datetime.datetime(2013, 4, 11, 0, 0), 'grade': 'B', 'score': 25}, {'date': datetime.datetime(2012, 10, 25, 0, 0), 'grade': 'A', 'score': 12}, {'date': datetime.datetime(2012, 10, 10, 0, 0), 'grade': 'P', 'score': 12}, {'date': datetime.datetime(2012, 5, 25, 0, 0), 'grade': 'B', 'score': 14}, {'date': datetime.datetime(2011, 9, 14, 0, 0), 'grade': 'B', 'score': 26}, {'date': datetime.datetime(2011, 4, 25, 0, 0), 'grade': 'C', 'score': 76}], 'name': 'El Molino Rojo Restaurant', 'restaurant_id': '40393688'}\n",
            "{'_id': ObjectId('6472c917a9e8eff3f21dc9a4'), 'address': {'building': '289', 'coord': [-73.94610279999999, 40.7137587], 'street': 'Manhattan Avenue', 'zipcode': '11211'}, 'borough': 'Brooklyn', 'cuisine': 'Bakery', 'grades': [{'date': datetime.datetime(2014, 3, 19, 0, 0), 'grade': 'A', 'score': 10}, {'date': datetime.datetime(2013, 10, 10, 0, 0), 'grade': 'A', 'score': 10}, {'date': datetime.datetime(2013, 5, 7, 0, 0), 'grade': 'A', 'score': 13}, {'date': datetime.datetime(2012, 9, 11, 0, 0), 'grade': 'B', 'score': 18}, {'date': datetime.datetime(2012, 4, 18, 0, 0), 'grade': 'A', 'score': 9}, {'date': datetime.datetime(2011, 9, 27, 0, 0), 'grade': 'A', 'score': 8}, {'date': datetime.datetime(2011, 5, 3, 0, 0), 'grade': 'C', 'score': 77}], 'name': 'Fortunato Bros Cafe & Bakery', 'restaurant_id': '40400561'}\n",
            "{'_id': ObjectId('6472c91ba9e8eff3f21dcfcd'), 'address': {'building': '231', 'coord': [-73.9772294, 40.7527262], 'street': 'Grand Central Station', 'zipcode': '10017'}, 'borough': 'Manhattan', 'cuisine': 'Italian', 'grades': [{'date': datetime.datetime(2015, 1, 7, 0, 0), 'grade': 'Z', 'score': 20}, {'date': datetime.datetime(2014, 7, 3, 0, 0), 'grade': 'B', 'score': 14}, {'date': datetime.datetime(2013, 12, 21, 0, 0), 'grade': 'A', 'score': 13}, {'date': datetime.datetime(2013, 5, 17, 0, 0), 'grade': 'C', 'score': 76}, {'date': datetime.datetime(2012, 4, 20, 0, 0), 'grade': 'A', 'score': 12}], 'name': 'Two Boots Grand Central', 'restaurant_id': '40725591'}\n"
          ]
        }
      ]
    },
    {
      "cell_type": "markdown",
      "metadata": {
        "id": "1hgERHI22xor"
      },
      "source": [
        "13. find the restaurants which does not prepare any cuisine of 'American ' and achieved a grade point 'A' not belongs to the borough Brooklyn. The document must be displayed according to the cuisine in descending order. "
      ]
    },
    {
      "cell_type": "code",
      "metadata": {
        "id": "LIbthIYD2zk8"
      },
      "source": [
        "c1 = db.restaurants.find(\n",
        "                     {\"$query\":\n",
        "                            {\n",
        "                             \"cuisine\" : {\"$ne\" : \"American \"},\n",
        "                             \"grades.grade\" :\"A\",\n",
        "                             \"borough\": \"Brooklyn\"\n",
        "                            },\n",
        "                              \"$orderby\" : {\"cuisine\":1}\n",
        "                      } ,\n",
        "                      {\"name\":1,\"cuisine\":1,\"_id\":0}\n",
        "                    );\n",
        "#for crnt in c1:\n",
        "#    print(crnt)"
      ],
      "execution_count": null,
      "outputs": []
    },
    {
      "cell_type": "markdown",
      "metadata": {
        "id": "cLwcLLKx3QgZ"
      },
      "source": [
        "14. find the restaurant Id, name, borough and cuisine for those restaurants which contains 'Wil' as first three letters for its name. \n"
      ]
    },
    {
      "cell_type": "code",
      "metadata": {
        "colab": {
          "base_uri": "https://localhost:8080/"
        },
        "id": "nclIx0Bt4xNA",
        "outputId": "4aac67c9-9805-414f-efc4-47ce76c2f913"
      },
      "source": [
        "c1 = db.restaurants.find({\"name\": {\"$regex\":\"^Wil\"}})\n",
        "for crnt in c1:\n",
        "    print(crnt)"
      ],
      "execution_count": null,
      "outputs": [
        {
          "output_type": "stream",
          "name": "stdout",
          "text": [
            "{'_id': ObjectId('6472c913a9e8eff3f21dc4ed'), 'address': {'building': '7114', 'coord': [-73.9068506, 40.6199034], 'street': 'Avenue U', 'zipcode': '11234'}, 'borough': 'Brooklyn', 'cuisine': 'Delicatessen', 'grades': [{'date': datetime.datetime(2014, 5, 29, 0, 0), 'grade': 'A', 'score': 10}, {'date': datetime.datetime(2014, 1, 14, 0, 0), 'grade': 'A', 'score': 10}, {'date': datetime.datetime(2013, 8, 3, 0, 0), 'grade': 'A', 'score': 8}, {'date': datetime.datetime(2012, 7, 18, 0, 0), 'grade': 'A', 'score': 10}, {'date': datetime.datetime(2012, 3, 9, 0, 0), 'grade': 'A', 'score': 13}, {'date': datetime.datetime(2011, 10, 14, 0, 0), 'grade': 'A', 'score': 9}], 'name': \"Wilken'S Fine Food\", 'restaurant_id': '40356483'}\n",
            "{'_id': ObjectId('6472c913a9e8eff3f21dc4ef'), 'address': {'building': '2300', 'coord': [-73.8786113, 40.8502883], 'street': 'Southern Boulevard', 'zipcode': '10460'}, 'borough': 'Bronx', 'cuisine': 'American ', 'grades': [{'date': datetime.datetime(2014, 5, 28, 0, 0), 'grade': 'A', 'score': 11}, {'date': datetime.datetime(2013, 6, 19, 0, 0), 'grade': 'A', 'score': 4}, {'date': datetime.datetime(2012, 6, 15, 0, 0), 'grade': 'A', 'score': 3}], 'name': 'Wild Asia', 'restaurant_id': '40357217'}\n",
            "{'_id': ObjectId('6472c91fa9e8eff3f21dd2f6'), 'address': {'building': '605', 'coord': [-73.9020967, 40.81298], 'street': 'Southern Boulevard', 'zipcode': '10455'}, 'borough': 'Bronx', 'cuisine': 'Pizza', 'grades': [{'date': datetime.datetime(2014, 9, 18, 0, 0), 'grade': 'B', 'score': 21}, {'date': datetime.datetime(2014, 4, 15, 0, 0), 'grade': 'C', 'score': 32}, {'date': datetime.datetime(2013, 10, 8, 0, 0), 'grade': 'A', 'score': 5}, {'date': datetime.datetime(2012, 9, 20, 0, 0), 'grade': 'A', 'score': 10}, {'date': datetime.datetime(2012, 5, 7, 0, 0), 'grade': 'B', 'score': 19}, {'date': datetime.datetime(2011, 10, 13, 0, 0), 'grade': 'B', 'score': 19}], 'name': 'Wilbel Pizza', 'restaurant_id': '40871979'}\n"
          ]
        }
      ]
    },
    {
      "cell_type": "code",
      "metadata": {
        "colab": {
          "base_uri": "https://localhost:8080/"
        },
        "id": "VcAECt0D3W6T",
        "outputId": "2756c703-284a-4c73-a226-c71e1c8fa93c"
      },
      "source": [
        "whereCond = {\"name\": {\"$regex\":\"^Wil\"}}\n",
        "selFields = {\n",
        "        \"restaurant_id\" : 2,\n",
        "        \"name\":1,\"borough\":1,\n",
        "        \"cuisine\" :1,\n",
        "         \"_id\":0\n",
        "        }\n",
        "c1 = db.restaurants.find(whereCond,selFields)\n",
        "for crnt in c1:\n",
        "    print(crnt)"
      ],
      "execution_count": null,
      "outputs": [
        {
          "output_type": "stream",
          "name": "stdout",
          "text": [
            "{'borough': 'Brooklyn', 'cuisine': 'Delicatessen', 'name': \"Wilken'S Fine Food\", 'restaurant_id': '40356483'}\n",
            "{'borough': 'Bronx', 'cuisine': 'American ', 'name': 'Wild Asia', 'restaurant_id': '40357217'}\n",
            "{'borough': 'Bronx', 'cuisine': 'Pizza', 'name': 'Wilbel Pizza', 'restaurant_id': '40871979'}\n"
          ]
        }
      ]
    },
    {
      "cell_type": "markdown",
      "metadata": {
        "id": "h1zSwtzC4BEE"
      },
      "source": [
        "15.  find the restaurant Id, name, borough and cuisine for those restaurants which contains 'ces' as last three letters for its name."
      ]
    },
    {
      "cell_type": "code",
      "metadata": {
        "colab": {
          "base_uri": "https://localhost:8080/"
        },
        "id": "oFjyp5S04HWJ",
        "outputId": "5f9fe6fa-d207-466b-bdee-df4914bf44e5"
      },
      "source": [
        "c1 = db.restaurants.find(\n",
        "    {\"name\": {\"$regex\":\"ces$\"}},\n",
        "        {\n",
        "        \"restaurant_id\" : 1,\n",
        "        \"name\":1,\"borough\":1,\n",
        "        \"cuisine\" :1\n",
        "        }\n",
        ");\n",
        "for crnt in c1:\n",
        "    print(crnt)"
      ],
      "execution_count": null,
      "outputs": [
        {
          "output_type": "stream",
          "name": "stdout",
          "text": [
            "{'_id': ObjectId('6472c917a9e8eff3f21dc979'), 'borough': 'Manhattan', 'cuisine': 'American ', 'name': 'Pieces', 'restaurant_id': '40399910'}\n",
            "{'_id': ObjectId('6472c917a9e8eff3f21dca39'), 'borough': 'Queens', 'cuisine': 'American ', 'name': 'S.M.R Restaurant Services', 'restaurant_id': '40403857'}\n",
            "{'_id': ObjectId('6472c917a9e8eff3f21dca3e'), 'borough': 'Manhattan', 'cuisine': 'American ', 'name': 'Good Shepherd Services', 'restaurant_id': '40403989'}\n",
            "{'_id': ObjectId('6472c91ba9e8eff3f21dcef0'), 'borough': 'Queens', 'cuisine': 'Ice Cream, Gelato, Yogurt, Ices', 'name': \"The Ice Box-Ralph'S Famous Italian Ices\", 'restaurant_id': '40690899'}\n",
            "{'_id': ObjectId('6472c91fa9e8eff3f21dd0f4'), 'borough': 'Brooklyn', 'cuisine': 'Jewish/Kosher', 'name': 'Alices', 'restaurant_id': '40782042'}\n",
            "{'_id': ObjectId('6472c91fa9e8eff3f21dd310'), 'borough': 'Manhattan', 'cuisine': 'American ', 'name': 'Re: Sources', 'restaurant_id': '40876068'}\n"
          ]
        }
      ]
    },
    {
      "cell_type": "markdown",
      "metadata": {
        "id": "a2wgph298Xxa"
      },
      "source": [
        "16. find the restaurant Id, name, borough and cuisine for those restaurants which contains 'Reg' as three letters somewhere in its name. \n"
      ]
    },
    {
      "cell_type": "code",
      "metadata": {
        "colab": {
          "base_uri": "https://localhost:8080/"
        },
        "id": "bX15wNf18au6",
        "outputId": "dc25bc2f-636b-4c5b-9dd2-ed5a4e9b2c6e"
      },
      "source": [
        "c1 = db.restaurants.find(\n",
        "    {\"name\": {\"$regex\":\".*Reg.*\"}},    \n",
        "        {\n",
        "        \"restaurant_id\" : 1,\n",
        "        \"name\":1,\"borough\":1,\n",
        "        \"cuisine\" :1\n",
        "        }\n",
        ");\n",
        "for crnt in c1:\n",
        "    print(crnt)\n"
      ],
      "execution_count": null,
      "outputs": [
        {
          "output_type": "stream",
          "name": "stdout",
          "text": [
            "{'_id': ObjectId('6472c913a9e8eff3f21dc4ee'), 'borough': 'Brooklyn', 'cuisine': 'American ', 'name': 'Regina Caterers', 'restaurant_id': '40356649'}\n",
            "{'_id': ObjectId('6472c913a9e8eff3f21dc5eb'), 'borough': 'Manhattan', 'cuisine': 'Café/Coffee/Tea', 'name': 'Caffe Reggio', 'restaurant_id': '40369418'}\n",
            "{'_id': ObjectId('6472c913a9e8eff3f21dc6fa'), 'borough': 'Manhattan', 'cuisine': 'American ', 'name': 'Regency Hotel', 'restaurant_id': '40382679'}\n",
            "{'_id': ObjectId('6472c917a9e8eff3f21dca17'), 'borough': 'Manhattan', 'cuisine': 'American ', 'name': 'Regency Whist Club', 'restaurant_id': '40402377'}\n",
            "{'_id': ObjectId('6472c917a9e8eff3f21dcaf9'), 'borough': 'Queens', 'cuisine': 'American ', 'name': 'Rego Park Cafe', 'restaurant_id': '40523342'}\n",
            "{'_id': ObjectId('6472c91fa9e8eff3f21dd168'), 'borough': 'Queens', 'cuisine': 'Pizza', 'name': 'Regina Pizza', 'restaurant_id': '40801325'}\n",
            "{'_id': ObjectId('6472c91fa9e8eff3f21dd37f'), 'borough': 'Manhattan', 'cuisine': 'American ', 'name': 'Regal Entertainment Group', 'restaurant_id': '40891782'}\n"
          ]
        }
      ]
    },
    {
      "cell_type": "markdown",
      "metadata": {
        "id": "isXOQQGz9IgD"
      },
      "source": [
        "17. find the restaurants which belongs to the borough Bronx and prepared either American or Chinese dish. \n"
      ]
    },
    {
      "cell_type": "code",
      "metadata": {
        "id": "f8qgw0bo-fj2"
      },
      "source": [
        "c1 = db.restaurants.find(\n",
        "                     {\"$query\":\n",
        "                            {\n",
        "                             \"cuisine\" :\"Chinese\",\n",
        "                             \"borough\": \"Brooklyn\"\n",
        "                            }\n",
        "                      } ,\n",
        "                      {\n",
        "                        \"name\":1,\"borough\":1,\n",
        "                        \"cuisine\" :1,\n",
        "                       \"_id\":0\n",
        "                      }\n",
        "                    );\n",
        "#for crnt in c1:\n",
        "#    print(crnt)"
      ],
      "execution_count": null,
      "outputs": []
    },
    {
      "cell_type": "code",
      "metadata": {
        "id": "N7znuG259Kms"
      },
      "source": [
        "c1 = db.restaurants.find(\n",
        "                     {\"$query\":\n",
        "                            {\n",
        "                             \"cuisine\" : {\"$in\" :[\"Chinese\",\"American \"]},\n",
        "                             \"borough\": \"Brooklyn\"\n",
        "                            }\n",
        "                      }, \n",
        "                      {\n",
        "                        \"name\":1,\"borough\":1,\n",
        "                        \"cuisine\" :1,\n",
        "                       \"_id\":0\n",
        "                      }\n",
        "                    );\n",
        "#for crnt in c1:\n",
        "#    print(crnt)"
      ],
      "execution_count": null,
      "outputs": []
    },
    {
      "cell_type": "markdown",
      "metadata": {
        "id": "eKNWnK0r_l8V"
      },
      "source": [
        "18. find the restaurant Id, name, borough and cuisine for those restaurants which belongs to the borough Staten Island or Queens or Bronxor Brooklyn. \n"
      ]
    },
    {
      "cell_type": "code",
      "metadata": {
        "id": "hC17nbUW_njI"
      },
      "source": [
        "c1 = db.restaurants.find(\n",
        "    {\"borough\" :{\"$in\" :[\"Staten Island\",\"Queens\"]}},\n",
        "        {\n",
        "        #\"restaurant_id\" : 1,\n",
        "        \"name\":1,\"borough\":1,\n",
        "        \"cuisine\" :1\n",
        "        }\n",
        ");\n",
        "#for crnt in c1:\n",
        "#    print(crnt)\n"
      ],
      "execution_count": null,
      "outputs": []
    },
    {
      "cell_type": "markdown",
      "metadata": {
        "id": "Bwa1Ogu7ASLi"
      },
      "source": [
        "19. find the restaurant Id, name, borough and cuisine for those restaurants which are not belonging to the borough Staten Island or Queens or Bronxor Brooklyn. \n"
      ]
    },
    {
      "cell_type": "code",
      "metadata": {
        "id": "PmykkMbAAT9_"
      },
      "source": [
        "c1 = db.restaurants.find(\n",
        "    {\"borough\" :{\"$nin\" :[\"Staten Island\",\"Queens\",\"Bronx\",\"Brooklyn\"]}},\n",
        "        {\n",
        "        \"restaurant_id\" : 1,\n",
        "        \"name\":1,\"borough\":1,\n",
        "        \"cuisine\" :1\n",
        "        }\n",
        ");\n",
        "#for crnt in c1:\n",
        "#    print(crnt)"
      ],
      "execution_count": null,
      "outputs": []
    },
    {
      "cell_type": "markdown",
      "metadata": {
        "id": "1Li9YPcEB24r"
      },
      "source": [
        "20. find the restaurant Id, name, borough and cuisine for those restaurants which achieved a score which is not more than 10. \n"
      ]
    },
    {
      "cell_type": "code",
      "metadata": {
        "id": "W9asq5AvB4md"
      },
      "source": [
        "c1 = db.restaurants.find(\n",
        "    {\"grades.score\" : \n",
        "        { \"$not\": {\"$gt\" : 10}}\n",
        "    },\n",
        "    {\n",
        "    \"restaurant_id\" : 1,\n",
        "    \"name\":1,\"borough\":1,\n",
        "    \"cuisine\" :1\n",
        "    }\n",
        ");\n",
        "#for crnt in c1:\n",
        "#    print(crnt)"
      ],
      "execution_count": null,
      "outputs": []
    },
    {
      "cell_type": "markdown",
      "metadata": {
        "id": "S4z38f1TDBE2"
      },
      "source": [
        "21. find the restaurant Id, name, borough and cuisine for those restaurants which prepared dish except 'American' and 'Chinese' or restaurant's name begins with letter 'Wil'. \n"
      ]
    },
    {
      "cell_type": "code",
      "metadata": {
        "id": "Hv5o3OQdDC6C"
      },
      "source": [
        "c1 = db.restaurants.find(\n",
        "{\"$or\": [\n",
        "  {\"name\": {\"$regex\":\"^Wil\"}}, \n",
        "  {\"$and\": [\n",
        "       {\"cuisine\" : {\"$ne\" :\"American \"}}, \n",
        "       {\"cuisine\" : {\"$ne\" :\"Chinese\"}}\n",
        "   ]}\n",
        "]}\n",
        ",{\"restaurant_id\" : 1,\"name\":1,\"borough\":1,\"cuisine\" :1}\n",
        ");\n",
        "\n",
        "#for crnt in c1:\n",
        "#    print(crnt)\n"
      ],
      "execution_count": null,
      "outputs": []
    },
    {
      "cell_type": "markdown",
      "metadata": {
        "id": "yfqdnsD_EQyr"
      },
      "source": [
        "22. find the restaurant Id, name and grades for those restaurants which achieved a grade of \"A\" and scored 11 on an ISODate \"2014-08-11T00:00:00Z\" among many of survey dates. <br>\n",
        "https://stackoverflow.com/questions/43731016/pymongo-name-isodate-is-not-defined\n"
      ]
    },
    {
      "cell_type": "code",
      "metadata": {
        "id": "M1bSFHl1Pkia"
      },
      "source": [
        "import dateutil\n",
        "dateStr = '2014-08-11T00:00:00Z'\n",
        "myDatetime = dateutil.parser.parse(dateStr)"
      ],
      "execution_count": null,
      "outputs": []
    },
    {
      "cell_type": "code",
      "metadata": {
        "colab": {
          "base_uri": "https://localhost:8080/"
        },
        "id": "HOaB_9gHPyYJ",
        "outputId": "d306737d-328f-436e-f6e1-614eb9254b21"
      },
      "source": [
        "c1 = db.restaurants.find( \n",
        "                {\n",
        "                 \"grades.date\": myDatetime, \n",
        "                 \"grades.grade\":\"A\" , \n",
        "                 \"grades.score\" : 11\n",
        "                }, \n",
        "                {\"restaurant_id\" : 1,\"name\":1,\"grades\":1}\n",
        "             );\n",
        "for crnt in c1:\n",
        "    print(crnt)"
      ],
      "execution_count": null,
      "outputs": [
        {
          "output_type": "stream",
          "name": "stdout",
          "text": [
            "{'_id': ObjectId('6472c913a9e8eff3f21dc563'), 'grades': [{'date': datetime.datetime(2014, 8, 11, 0, 0), 'grade': 'A', 'score': 13}, {'date': datetime.datetime(2013, 7, 22, 0, 0), 'grade': 'A', 'score': 9}, {'date': datetime.datetime(2013, 3, 14, 0, 0), 'grade': 'A', 'score': 12}, {'date': datetime.datetime(2012, 7, 2, 0, 0), 'grade': 'A', 'score': 11}, {'date': datetime.datetime(2012, 2, 2, 0, 0), 'grade': 'A', 'score': 10}, {'date': datetime.datetime(2011, 8, 24, 0, 0), 'grade': 'A', 'score': 11}], 'name': \"Neary'S Pub\", 'restaurant_id': '40365871'}\n",
            "{'_id': ObjectId('6472c913a9e8eff3f21dc640'), 'grades': [{'date': datetime.datetime(2014, 8, 11, 0, 0), 'grade': 'A', 'score': 11}, {'date': datetime.datetime(2013, 12, 10, 0, 0), 'grade': 'A', 'score': 9}, {'date': datetime.datetime(2013, 6, 10, 0, 0), 'grade': 'A', 'score': 12}, {'date': datetime.datetime(2012, 6, 8, 0, 0), 'grade': 'A', 'score': 13}, {'date': datetime.datetime(2012, 1, 25, 0, 0), 'grade': 'A', 'score': 8}, {'date': datetime.datetime(2011, 9, 13, 0, 0), 'grade': 'A', 'score': 12}], 'name': 'Don Filippo Restaurant', 'restaurant_id': '40372417'}\n",
            "{'_id': ObjectId('6472c917a9e8eff3f21dc906'), 'grades': [{'date': datetime.datetime(2014, 8, 11, 0, 0), 'grade': 'A', 'score': 6}, {'date': datetime.datetime(2013, 8, 29, 0, 0), 'grade': 'A', 'score': 12}, {'date': datetime.datetime(2013, 4, 25, 0, 0), 'grade': 'C', 'score': 2}, {'date': datetime.datetime(2012, 10, 23, 0, 0), 'grade': 'A', 'score': 13}, {'date': datetime.datetime(2012, 4, 16, 0, 0), 'grade': 'A', 'score': 11}, {'date': datetime.datetime(2011, 11, 15, 0, 0), 'grade': 'A', 'score': 12}], 'name': \"Mustang Sally'S Restaurant\", 'restaurant_id': '40397374'}\n",
            "{'_id': ObjectId('6472c917a9e8eff3f21dcb11'), 'grades': [{'date': datetime.datetime(2015, 1, 12, 0, 0), 'grade': 'A', 'score': 10}, {'date': datetime.datetime(2014, 8, 11, 0, 0), 'grade': 'A', 'score': 9}, {'date': datetime.datetime(2014, 1, 14, 0, 0), 'grade': 'A', 'score': 13}, {'date': datetime.datetime(2013, 2, 7, 0, 0), 'grade': 'A', 'score': 10}, {'date': datetime.datetime(2012, 4, 30, 0, 0), 'grade': 'A', 'score': 11}], 'name': 'Club Macanudo (Cigar Bar)', 'restaurant_id': '40526406'}\n",
            "{'_id': ObjectId('6472c917a9e8eff3f21dcc06'), 'grades': [{'date': datetime.datetime(2014, 8, 11, 0, 0), 'grade': 'A', 'score': 8}, {'date': datetime.datetime(2014, 1, 9, 0, 0), 'grade': 'B', 'score': 27}, {'date': datetime.datetime(2013, 6, 11, 0, 0), 'grade': 'A', 'score': 4}, {'date': datetime.datetime(2012, 10, 9, 0, 0), 'grade': 'B', 'score': 19}, {'date': datetime.datetime(2012, 5, 10, 0, 0), 'grade': 'A', 'score': 11}, {'date': datetime.datetime(2011, 11, 23, 0, 0), 'grade': 'A', 'score': 9}], 'name': \"Marino'S Pizza & Restaurant\", 'restaurant_id': '40560917'}\n",
            "{'_id': ObjectId('6472c91ba9e8eff3f21dcdae'), 'grades': [{'date': datetime.datetime(2015, 1, 5, 0, 0), 'grade': 'A', 'score': 9}, {'date': datetime.datetime(2014, 8, 11, 0, 0), 'grade': 'A', 'score': 10}, {'date': datetime.datetime(2014, 3, 4, 0, 0), 'grade': 'B', 'score': 22}, {'date': datetime.datetime(2013, 9, 13, 0, 0), 'grade': 'A', 'score': 5}, {'date': datetime.datetime(2013, 1, 16, 0, 0), 'grade': 'A', 'score': 11}], 'name': \"Gene'S Coffee Shop\", 'restaurant_id': '40614916'}\n",
            "{'_id': ObjectId('6472c91ba9e8eff3f21dcf1c'), 'grades': [{'date': datetime.datetime(2014, 8, 11, 0, 0), 'grade': 'A', 'score': 10}, {'date': datetime.datetime(2014, 2, 20, 0, 0), 'grade': 'A', 'score': 7}, {'date': datetime.datetime(2013, 8, 29, 0, 0), 'grade': 'A', 'score': 7}, {'date': datetime.datetime(2013, 3, 29, 0, 0), 'grade': 'A', 'score': 10}, {'date': datetime.datetime(2012, 3, 7, 0, 0), 'grade': 'A', 'score': 12}, {'date': datetime.datetime(2011, 11, 18, 0, 0), 'grade': 'A', 'score': 11}, {'date': datetime.datetime(2011, 10, 12, 0, 0), 'grade': 'P', 'score': 4}], 'name': 'Union Cafe Restaurant', 'restaurant_id': '40698823'}\n",
            "{'_id': ObjectId('6472c91fa9e8eff3f21dd389'), 'grades': [{'date': datetime.datetime(2014, 8, 11, 0, 0), 'grade': 'A', 'score': 10}, {'date': datetime.datetime(2013, 8, 28, 0, 0), 'grade': 'A', 'score': 9}, {'date': datetime.datetime(2012, 9, 5, 0, 0), 'grade': 'A', 'score': 11}, {'date': datetime.datetime(2011, 8, 25, 0, 0), 'grade': 'A', 'score': 7}], 'name': \"Jojo'S Pizza\", 'restaurant_id': '40892913'}\n"
          ]
        }
      ]
    },
    {
      "cell_type": "markdown",
      "metadata": {
        "id": "WREa1meZEvQO"
      },
      "source": [
        "23. find the restaurant Id, name and grades for those restaurants where 2nd element of grades array contains a grade of \"A\" and score 9 on an ISODate \"2014-08-11T00:00:00Z\". \n"
      ]
    },
    {
      "cell_type": "code",
      "metadata": {
        "colab": {
          "base_uri": "https://localhost:8080/"
        },
        "id": "4PVo5L3CEr3n",
        "outputId": "65a24a43-d22d-4d69-e00d-49c8df97d720"
      },
      "source": [
        "import dateutil\n",
        "dateStr = '2014-08-11T00:00:00Z'\n",
        "myDatetime = dateutil.parser.parse(dateStr)\n",
        "\n",
        "c1 = db.restaurants.find( \n",
        "                      { \"grades.1.date\": myDatetime, \n",
        "                        \"grades.1.grade\":\"A\" , \n",
        "                        \"grades.1.score\" : 9\n",
        "                      }, \n",
        "                       {\"restaurant_id\" : 1,\"name\":1,\"grades\":1}\n",
        "                   );\n",
        "for crnt in c1:\n",
        "    print(crnt)"
      ],
      "execution_count": null,
      "outputs": [
        {
          "output_type": "stream",
          "name": "stdout",
          "text": [
            "{'_id': ObjectId('6472c917a9e8eff3f21dcb11'), 'grades': [{'date': datetime.datetime(2015, 1, 12, 0, 0), 'grade': 'A', 'score': 10}, {'date': datetime.datetime(2014, 8, 11, 0, 0), 'grade': 'A', 'score': 9}, {'date': datetime.datetime(2014, 1, 14, 0, 0), 'grade': 'A', 'score': 13}, {'date': datetime.datetime(2013, 2, 7, 0, 0), 'grade': 'A', 'score': 10}, {'date': datetime.datetime(2012, 4, 30, 0, 0), 'grade': 'A', 'score': 11}], 'name': 'Club Macanudo (Cigar Bar)', 'restaurant_id': '40526406'}\n"
          ]
        }
      ]
    },
    {
      "cell_type": "markdown",
      "metadata": {
        "id": "y35Tg9phEw_N"
      },
      "source": [
        "24. find the restaurant Id, name, address and geographical location for those restaurants where 2nd element of coord array contains a value which is more than 42 and upto 52. \n"
      ]
    },
    {
      "cell_type": "code",
      "metadata": {
        "colab": {
          "base_uri": "https://localhost:8080/"
        },
        "id": "1EpyKMASE3f8",
        "outputId": "f8635da5-8080-4f26-f0ed-d59150af92a4"
      },
      "source": [
        "c1 = db.restaurants.find( \n",
        "                      { \n",
        "                        \"address.coord.1\": {\"$gt\" : 42, \"$lte\" : 52}\n",
        "                      },\n",
        "                        {\"restaurant_id\" : 1,\"name\":1,\"address\":1,\"coord\":1}\n",
        "                   );\n",
        "for crnt in c1:\n",
        "    print(crnt)"
      ],
      "execution_count": null,
      "outputs": [
        {
          "output_type": "stream",
          "name": "stdout",
          "text": [
            "{'_id': ObjectId('6472c913a9e8eff3f21dc789'), 'address': {'building': '47', 'coord': [-78.877224, 42.89546199999999], 'street': 'Broadway @ Trinity Pl', 'zipcode': '10006'}, 'name': \"T.G.I. Friday'S\", 'restaurant_id': '40387990'}\n",
            "{'_id': ObjectId('6472c913a9e8eff3f21dc7b3'), 'address': {'building': '1', 'coord': [-0.7119979, 51.6514664], 'street': 'Pennplaza E, Penn Sta', 'zipcode': '10001'}, 'name': 'T.G.I. Fridays', 'restaurant_id': '40388936'}\n",
            "{'_id': ObjectId('6472c917a9e8eff3f21dca0c'), 'address': {'building': '3000', 'coord': [-87.86567699999999, 42.61150920000001], 'street': '47 Avenue', 'zipcode': '11101'}, 'name': \"Di Luvio'S Deli\", 'restaurant_id': '40402284'}\n",
            "{'_id': ObjectId('6472c917a9e8eff3f21dcc43'), 'address': {'building': '21972199', 'coord': [-78.589606, 42.8912372], 'street': 'Broadway', 'zipcode': '10024'}, 'name': 'La Caridad 78', 'restaurant_id': '40568285'}\n",
            "{'_id': ObjectId('6472c91fa9e8eff3f21dd315'), 'address': {'building': '7981', 'coord': [-84.9751215, 45.4713351], 'street': 'Hoyt Street', 'zipcode': '11201'}, 'name': \"Bijan'S\", 'restaurant_id': '40876618'}\n",
            "{'_id': ObjectId('6472c91fa9e8eff3f21dd32a'), 'address': {'building': '0', 'coord': [-88.0778799, 42.4154769], 'street': '& Grand Central', 'zipcode': '10017'}, 'name': 'Hyatt, Ny Central/Room Service', 'restaurant_id': '40879243'}\n",
            "{'_id': ObjectId('6472c91fa9e8eff3f21dd33f'), 'address': {'building': '60', 'coord': [-111.9975205, 42.0970258], 'street': 'West Side Highway', 'zipcode': '10006'}, 'name': 'Sports Center At Chelsea Piers (Sushi Bar)', 'restaurant_id': '40882356'}\n"
          ]
        }
      ]
    },
    {
      "cell_type": "markdown",
      "metadata": {
        "id": "mwF6VaIfFIkn"
      },
      "source": [
        "25. arrange the name of the restaurants in ascending order along with all the columns. <hr>\n",
        "\n",
        "https://stackoverflow.com/questions/57778658/typeerror-if-no-direction-is-specified-key-or-list-must-be-an-instance-of-list\n"
      ]
    },
    {
      "cell_type": "code",
      "metadata": {
        "colab": {
          "base_uri": "https://localhost:8080/"
        },
        "id": "WquZqvRUFKOj",
        "outputId": "f5f7a6e3-b10f-47e7-fe46-5b7c28948eee"
      },
      "source": [
        "c1 = db.restaurants.find({},{\"restaurant_id\" : 2,\"name\":1,\"_id\":0}).sort(\"name\", -1).limit(20);\n",
        "for crnt in c1:\n",
        "    print(crnt)"
      ],
      "execution_count": null,
      "outputs": [
        {
          "output_type": "stream",
          "name": "stdout",
          "text": [
            "{'name': 'Zum Stammtisch', 'restaurant_id': '40367377'}\n",
            "{'name': 'Zum Schneider', 'restaurant_id': '40763382'}\n",
            "{'name': \"Zorba'S\", 'restaurant_id': '40877247'}\n",
            "{'name': 'Zebu Grill', 'restaurant_id': '40800325'}\n",
            "{'name': \"Zaro'S Bread Basket\", 'restaurant_id': '40510389'}\n",
            "{'name': \"Zaro'S Bread Basket\", 'restaurant_id': '40512617'}\n",
            "{'name': \"Zaro'S Bread Basket\", 'restaurant_id': '40750766'}\n",
            "{'name': \"Zaro'S Bread Basket\", 'restaurant_id': '40586000'}\n",
            "{'name': \"Zaro'S Bread Basket\", 'restaurant_id': '40397863'}\n",
            "{'name': \"Zaro'S Bakery\", 'restaurant_id': '40686674'}\n",
            "{'name': \"Zaro'S Bakery\", 'restaurant_id': '40423705'}\n",
            "{'name': \"Zafi'S Luncheonette\", 'restaurant_id': '40371718'}\n",
            "{'name': 'Yvonne Yvonne Restaurant', 'restaurant_id': '40875849'}\n",
            "{'name': 'Yura & Company On Madison', 'restaurant_id': '40646987'}\n",
            "{'name': 'Yummy Kitchen', 'restaurant_id': '40763160'}\n",
            "{'name': 'Your Bakery', 'restaurant_id': '40529415'}\n",
            "{'name': 'Yonah Shimmels Knishes', 'restaurant_id': '40544576'}\n",
            "{'name': 'Yolanda Pizzeria Restaurant', 'restaurant_id': '40594879'}\n",
            "{'name': \"Yip'S\", 'restaurant_id': '40388209'}\n",
            "{'name': 'Yen Yen Restaurant', 'restaurant_id': '40393181'}\n"
          ]
        }
      ]
    },
    {
      "cell_type": "markdown",
      "metadata": {
        "id": "qEqGOoOqOPSq"
      },
      "source": [
        "26.  arrange the name of the restaurants in descending along with all the columns. \n"
      ]
    },
    {
      "cell_type": "code",
      "metadata": {
        "colab": {
          "base_uri": "https://localhost:8080/"
        },
        "id": "lEJ8knHvOZCv",
        "outputId": "69916442-d203-465e-b13f-c2a5b9e3820c"
      },
      "source": [
        "c1 = db.restaurants.find().sort(\"name\", -1).limit(10);\n",
        "for crnt in c1:\n",
        "    print(crnt)"
      ],
      "execution_count": null,
      "outputs": [
        {
          "output_type": "stream",
          "name": "stdout",
          "text": [
            "{'_id': ObjectId('6472c913a9e8eff3f21dc5a5'), 'address': {'building': '6946', 'coord': [-73.8811834, 40.7017759], 'street': 'Myrtle Avenue', 'zipcode': '11385'}, 'borough': 'Queens', 'cuisine': 'German', 'grades': [{'date': datetime.datetime(2014, 9, 24, 0, 0), 'grade': 'A', 'score': 11}, {'date': datetime.datetime(2014, 4, 17, 0, 0), 'grade': 'A', 'score': 7}, {'date': datetime.datetime(2013, 3, 12, 0, 0), 'grade': 'A', 'score': 13}, {'date': datetime.datetime(2012, 10, 2, 0, 0), 'grade': 'A', 'score': 9}, {'date': datetime.datetime(2012, 5, 9, 0, 0), 'grade': 'A', 'score': 13}, {'date': datetime.datetime(2011, 12, 28, 0, 0), 'grade': 'B', 'score': 24}], 'name': 'Zum Stammtisch', 'restaurant_id': '40367377'}\n",
            "{'_id': ObjectId('6472c91fa9e8eff3f21dd0de'), 'address': {'building': '107109', 'coord': [-73.9744668, 40.731155], 'street': 'Avenue C', 'zipcode': '10009'}, 'borough': 'Manhattan', 'cuisine': 'German', 'grades': [{'date': datetime.datetime(2014, 3, 4, 0, 0), 'grade': 'A', 'score': 7}, {'date': datetime.datetime(2013, 8, 21, 0, 0), 'grade': 'A', 'score': 13}, {'date': datetime.datetime(2013, 2, 27, 0, 0), 'grade': 'A', 'score': 11}, {'date': datetime.datetime(2012, 6, 5, 0, 0), 'grade': 'A', 'score': 12}, {'date': datetime.datetime(2011, 12, 20, 0, 0), 'grade': 'A', 'score': 9}, {'date': datetime.datetime(2011, 7, 15, 0, 0), 'grade': 'A', 'score': 6}], 'name': 'Zum Schneider', 'restaurant_id': '40763382'}\n",
            "{'_id': ObjectId('6472c91fa9e8eff3f21dd319'), 'address': {'building': '2905', 'coord': [-73.91337299999999, 40.775064], 'street': '23 Avenue', 'zipcode': '11105'}, 'borough': 'Queens', 'cuisine': 'Greek', 'grades': [{'date': datetime.datetime(2014, 9, 29, 0, 0), 'grade': 'A', 'score': 7}, {'date': datetime.datetime(2014, 4, 18, 0, 0), 'grade': 'A', 'score': 13}, {'date': datetime.datetime(2013, 3, 19, 0, 0), 'grade': 'A', 'score': 12}, {'date': datetime.datetime(2012, 10, 3, 0, 0), 'grade': 'B', 'score': 20}, {'date': datetime.datetime(2012, 5, 7, 0, 0), 'grade': 'A', 'score': 12}], 'name': \"Zorba'S\", 'restaurant_id': '40877247'}\n",
            "{'_id': ObjectId('6472c91fa9e8eff3f21dd161'), 'address': {'building': '305', 'coord': [-73.94830499999999, 40.781662], 'street': 'East 92 Street', 'zipcode': '10128'}, 'borough': 'Manhattan', 'cuisine': 'Brazilian', 'grades': [{'date': datetime.datetime(2015, 1, 9, 0, 0), 'grade': 'A', 'score': 10}, {'date': datetime.datetime(2014, 7, 16, 0, 0), 'grade': 'A', 'score': 7}, {'date': datetime.datetime(2013, 4, 26, 0, 0), 'grade': 'A', 'score': 10}, {'date': datetime.datetime(2012, 4, 21, 0, 0), 'grade': 'A', 'score': 12}], 'name': 'Zebu Grill', 'restaurant_id': '40800325'}\n",
            "{'_id': ObjectId('6472c91ba9e8eff3f21dcce1'), 'address': {'building': '89', 'coord': [-73.97729919999999, 40.7524958], 'street': 'East   42 Street', 'zipcode': '10017'}, 'borough': 'Manhattan', 'cuisine': 'Bakery', 'grades': [{'date': datetime.datetime(2014, 12, 11, 0, 0), 'grade': 'A', 'score': 8}, {'date': datetime.datetime(2014, 7, 17, 0, 0), 'grade': 'A', 'score': 13}, {'date': datetime.datetime(2013, 6, 26, 0, 0), 'grade': 'A', 'score': 7}, {'date': datetime.datetime(2013, 1, 29, 0, 0), 'grade': 'A', 'score': 5}, {'date': datetime.datetime(2012, 7, 16, 0, 0), 'grade': 'A', 'score': 13}], 'name': \"Zaro'S Bread Basket\", 'restaurant_id': '40586000'}\n",
            "{'_id': ObjectId('6472c917a9e8eff3f21dc920'), 'address': {'building': '29', 'coord': [-73.86119219999999, 40.8338023], 'street': 'Hugh Grant Circle', 'zipcode': '10462'}, 'borough': 'Bronx', 'cuisine': 'Bakery', 'grades': [{'date': datetime.datetime(2014, 8, 27, 0, 0), 'grade': 'A', 'score': 9}, {'date': datetime.datetime(2013, 9, 10, 0, 0), 'grade': 'A', 'score': 0}, {'date': datetime.datetime(2013, 5, 7, 0, 0), 'grade': 'C', 'score': 2}, {'date': datetime.datetime(2013, 3, 23, 0, 0), 'grade': 'P', 'score': 13}, {'date': datetime.datetime(2012, 10, 24, 0, 0), 'grade': 'A', 'score': 12}, {'date': datetime.datetime(2011, 11, 1, 0, 0), 'grade': 'A', 'score': 13}], 'name': \"Zaro'S Bread Basket\", 'restaurant_id': '40397863'}\n",
            "{'_id': ObjectId('6472c91ba9e8eff3f21dd092'), 'address': {'building': '2', 'coord': [-73.992255, 40.749712], 'street': 'Penn Plaza', 'zipcode': '10121'}, 'borough': 'Manhattan', 'cuisine': 'Bakery', 'grades': [{'date': datetime.datetime(2014, 2, 18, 0, 0), 'grade': 'A', 'score': 7}, {'date': datetime.datetime(2013, 1, 22, 0, 0), 'grade': 'A', 'score': 3}, {'date': datetime.datetime(2012, 3, 21, 0, 0), 'grade': 'A', 'score': 10}, {'date': datetime.datetime(2011, 11, 9, 0, 0), 'grade': 'A', 'score': 12}, {'date': datetime.datetime(2011, 7, 25, 0, 0), 'grade': 'B', 'score': 18}], 'name': \"Zaro'S Bread Basket\", 'restaurant_id': '40750766'}\n",
            "{'_id': ObjectId('6472c917a9e8eff3f21dca97'), 'address': {'building': '1', 'coord': [-76.878256, 40.26205], 'street': 'Pennsylvania Station (Amtrack)', 'zipcode': '10001'}, 'borough': 'Manhattan', 'cuisine': 'Bakery', 'grades': [{'date': datetime.datetime(2014, 2, 7, 0, 0), 'grade': 'A', 'score': 9}, {'date': datetime.datetime(2013, 2, 11, 0, 0), 'grade': 'A', 'score': 5}, {'date': datetime.datetime(2012, 9, 18, 0, 0), 'grade': 'A', 'score': 11}, {'date': datetime.datetime(2012, 4, 5, 0, 0), 'grade': 'A', 'score': 5}, {'date': datetime.datetime(2011, 11, 17, 0, 0), 'grade': 'A', 'score': 2}, {'date': datetime.datetime(2011, 7, 5, 0, 0), 'grade': 'A', 'score': 4}], 'name': \"Zaro'S Bread Basket\", 'restaurant_id': '40510389'}\n",
            "{'_id': ObjectId('6472c917a9e8eff3f21dcac1'), 'address': {'building': '89', 'coord': [-73.97729919999999, 40.7524958], 'street': 'East   42 Street', 'zipcode': '10017'}, 'borough': 'Manhattan', 'cuisine': 'Bakery', 'grades': [{'date': datetime.datetime(2014, 12, 23, 0, 0), 'grade': 'A', 'score': 12}, {'date': datetime.datetime(2014, 1, 13, 0, 0), 'grade': 'A', 'score': 4}, {'date': datetime.datetime(2013, 1, 23, 0, 0), 'grade': 'A', 'score': 2}, {'date': datetime.datetime(2012, 8, 20, 0, 0), 'grade': 'A', 'score': 13}, {'date': datetime.datetime(2012, 3, 30, 0, 0), 'grade': 'A', 'score': 9}], 'name': \"Zaro'S Bread Basket\", 'restaurant_id': '40512617'}\n",
            "{'_id': ObjectId('6472c91ba9e8eff3f21dcee1'), 'address': {'building': '370', 'coord': [-73.9768121, 40.7507385], 'street': 'Lexington Avenue', 'zipcode': '10017'}, 'borough': 'Manhattan', 'cuisine': 'Bakery', 'grades': [{'date': datetime.datetime(2014, 9, 18, 0, 0), 'grade': 'A', 'score': 9}, {'date': datetime.datetime(2013, 9, 9, 0, 0), 'grade': 'A', 'score': 12}, {'date': datetime.datetime(2013, 4, 8, 0, 0), 'grade': 'B', 'score': 14}, {'date': datetime.datetime(2012, 10, 15, 0, 0), 'grade': 'A', 'score': 12}, {'date': datetime.datetime(2012, 5, 24, 0, 0), 'grade': 'A', 'score': 8}, {'date': datetime.datetime(2011, 10, 31, 0, 0), 'grade': 'B', 'score': 25}], 'name': \"Zaro'S Bakery\", 'restaurant_id': '40686674'}\n"
          ]
        }
      ]
    },
    {
      "cell_type": "markdown",
      "metadata": {
        "id": "5KN02iHBGRk9"
      },
      "source": [
        "28. Write a MongoDB query to know whether all the addresses contains the street or not. \n"
      ]
    },
    {
      "cell_type": "code",
      "metadata": {
        "id": "D0mogECzGVZW"
      },
      "source": [
        "c1 = db.restaurants.find(\n",
        "                     {\"address.street\" : \n",
        "                         { \"$exists\" : \"true\" } \n",
        "                     } \n",
        "                   );\n",
        "#for crnt in c1:\n",
        "#    print(crnt)"
      ],
      "execution_count": null,
      "outputs": []
    },
    {
      "cell_type": "markdown",
      "metadata": {
        "id": "BnRrvXcwGlhm"
      },
      "source": [
        "29. Write a MongoDB query which will select all documents in the restaurants collection where the coord field value is Double. \n"
      ]
    },
    {
      "cell_type": "code",
      "metadata": {
        "id": "27EgoXGwGnNa"
      },
      "source": [
        "c1 = db.restaurants.find(\n",
        "                    {\"address.coord\" : \n",
        "                       {\"$type\" : 1}\n",
        "                    }\n",
        "                   );\n",
        "#for crnt in c1:\n",
        "#    print(crnt)"
      ],
      "execution_count": null,
      "outputs": []
    },
    {
      "cell_type": "markdown",
      "metadata": {
        "id": "Cm0yNMXgLMVd"
      },
      "source": [
        "30. select the restaurant Id, name and grades for those restaurants which returns 0 as a remainder after dividing the score by 7. "
      ]
    },
    {
      "cell_type": "code",
      "metadata": {
        "id": "EfjpeLqULYQE"
      },
      "source": [
        "c1 = db.restaurants.find(\n",
        "                      {\"grades.score\" :\n",
        "                         {\"$mod\" : [7,0]}\n",
        "                      },\n",
        "                         {\"restaurant_id\" : 1,\"name\":1,\"grades\":1}\n",
        "                    );\n",
        "#for crnt in c1:\n",
        "#    print(crnt)"
      ],
      "execution_count": null,
      "outputs": []
    },
    {
      "cell_type": "markdown",
      "metadata": {
        "id": "_tj_JtNzLnTN"
      },
      "source": [
        "31. find the restaurant name, borough, longitude and attitude and cuisine for those restaurants which contains 'mon' as three letters somewhere in its name. "
      ]
    },
    {
      "cell_type": "code",
      "metadata": {
        "colab": {
          "base_uri": "https://localhost:8080/"
        },
        "id": "4YopKDWcL6dk",
        "outputId": "2794c222-1d80-4ace-cd2a-cb109528f6f0"
      },
      "source": [
        "c1 = db.restaurants.find(\n",
        "                   { \"name\" : \n",
        "                     { \"$regex\" : \"mon.*\", \"$options\": \"i\" } \n",
        "                   },\n",
        "                       {\n",
        "                         \"name\":1,\n",
        "                         \"borough\":1,\n",
        "                         \"address.coord\":1,\n",
        "                         \"cuisine\" :1\n",
        "                        }\n",
        "                   );\n",
        "for crnt in c1:\n",
        "    print(crnt)"
      ],
      "execution_count": null,
      "outputs": [
        {
          "output_type": "stream",
          "name": "stdout",
          "text": [
            "{'_id': ObjectId('6472c913a9e8eff3f21dc57a'), 'address': {'coord': [-73.98306099999999, 40.7441419]}, 'borough': 'Manhattan', 'cuisine': 'American ', 'name': \"Desmond'S Tavern\"}\n",
            "{'_id': ObjectId('6472c913a9e8eff3f21dc582'), 'address': {'coord': [-73.8221418, 40.7272376]}, 'borough': 'Queens', 'cuisine': 'Jewish/Kosher', 'name': 'Shimons Kosher Pizza'}\n",
            "{'_id': ObjectId('6472c913a9e8eff3f21dc58e'), 'address': {'coord': [-74.10465599999999, 40.58834]}, 'borough': 'Staten Island', 'cuisine': 'American ', 'name': 'Richmond County Country Club'}\n",
            "{'_id': ObjectId('6472c913a9e8eff3f21dc5ba'), 'address': {'coord': [-73.9812843, 40.5947365]}, 'borough': 'Brooklyn', 'cuisine': 'Pizza/Italian', 'name': 'Lb Spumoni Gardens'}\n",
            "{'_id': ObjectId('6472c913a9e8eff3f21dc60c'), 'address': {'coord': [-73.951199, 40.7166026]}, 'borough': 'Brooklyn', 'cuisine': 'Italian', 'name': \"Bamonte'S Restaurant\"}\n",
            "{'_id': ObjectId('6472c913a9e8eff3f21dc643'), 'address': {'coord': [-73.924072, 40.76108900000001]}, 'borough': 'Queens', 'cuisine': 'Greek', 'name': 'Omonia Cafe'}\n",
            "{'_id': ObjectId('6472c913a9e8eff3f21dc693'), 'address': {'coord': [-74.0023353, 40.7333573]}, 'borough': 'Manhattan', 'cuisine': 'American ', 'name': 'Manhattan Monster'}\n",
            "{'_id': ObjectId('6472c913a9e8eff3f21dc6c1'), 'address': {'coord': [-74.001094, 40.729583]}, 'borough': 'Manhattan', 'cuisine': 'Italian', 'name': \"Monte'S\"}\n",
            "{'_id': ObjectId('6472c913a9e8eff3f21dc6c5'), 'address': {'coord': [-73.9901605, 40.7526176]}, 'borough': 'Manhattan', 'cuisine': 'American ', 'name': \"Delmonico'S Kitchen\"}\n",
            "{'_id': ObjectId('6472c913a9e8eff3f21dc6db'), 'address': {'coord': [-73.9979536, 40.6914024]}, 'borough': 'Brooklyn', 'cuisine': 'Bottled beverages, including water, sodas, juices, etc.', 'name': 'Montero Bar & Grill'}\n",
            "{'_id': ObjectId('6472c913a9e8eff3f21dc867'), 'address': {'coord': [-73.9707505, 40.7635651]}, 'borough': 'Manhattan', 'cuisine': 'Delicatessen', 'name': 'Delmonico Gourmet'}\n",
            "{'_id': ObjectId('6472c917a9e8eff3f21dc8d3'), 'address': {'coord': [-73.9760637, 40.7508686]}, 'borough': 'Manhattan', 'cuisine': 'American ', 'name': 'Delmonico Gourmet'}\n",
            "{'_id': ObjectId('6472c917a9e8eff3f21dc8e8'), 'address': {'coord': [-73.9705633, 40.7605759]}, 'borough': 'Manhattan', 'cuisine': 'Italian', 'name': 'Montebello Restaurant'}\n",
            "{'_id': ObjectId('6472c917a9e8eff3f21dc97f'), 'address': {'coord': [-74.1914658, 40.55274360000001]}, 'borough': 'Staten Island', 'cuisine': 'Italian', 'name': 'Villa Monte Pizzeria'}\n",
            "{'_id': ObjectId('6472c917a9e8eff3f21dca2c'), 'address': {'coord': [-73.97198209999999, 40.764464]}, 'borough': 'Manhattan', 'cuisine': 'American ', 'name': 'Harmonie Club'}\n",
            "{'_id': ObjectId('6472c917a9e8eff3f21dcaf2'), 'address': {'coord': [-73.79571990000001, 40.7095637]}, 'borough': 'Queens', 'cuisine': 'Bakery', 'name': \"Ramona'S Bakery\"}\n",
            "{'_id': ObjectId('6472c917a9e8eff3f21dcb23'), 'address': {'coord': [-73.97852100000001, 40.729192]}, 'borough': 'Manhattan', 'cuisine': 'American ', 'name': \"Mona'S\"}\n",
            "{'_id': ObjectId('6472c917a9e8eff3f21dcb48'), 'address': {'coord': [-73.98463480000001, 40.7630755]}, 'borough': 'Manhattan', 'cuisine': 'American ', 'name': 'Neil Simon Theatre'}\n",
            "{'_id': ObjectId('6472c917a9e8eff3f21dcb83'), 'address': {'coord': [-73.9938361, 40.6091317]}, 'borough': 'Brooklyn', 'cuisine': 'Bakery', 'name': 'Mondial Bakery'}\n",
            "{'_id': ObjectId('6472c917a9e8eff3f21dcba9'), 'address': {'coord': [-74.028486, 40.630438]}, 'borough': 'Brooklyn', 'cuisine': 'Mediterranean', 'name': 'Omonia Cafe'}\n",
            "{'_id': ObjectId('6472c917a9e8eff3f21dcbbe'), 'address': {'coord': [-73.902048, 40.868898]}, 'borough': 'Bronx', 'cuisine': 'Mexican', 'name': 'Montezuma Restaurant'}\n",
            "{'_id': ObjectId('6472c91ba9e8eff3f21dcd29'), 'address': {'coord': [-73.9950905, 40.7435489]}, 'borough': 'Manhattan', 'cuisine': 'Japanese', 'name': 'Monster Sushi'}\n",
            "{'_id': ObjectId('6472c91ba9e8eff3f21dcd5c'), 'address': {'coord': [-73.9849976, 40.7276766]}, 'borough': 'Manhattan', 'cuisine': 'American ', 'name': 'Simone Bar Cafe'}\n",
            "{'_id': ObjectId('6472c91ba9e8eff3f21dcdb4'), 'address': {'coord': [-73.992991, 40.694197]}, 'borough': 'Brooklyn', 'cuisine': 'Pizza/Italian', 'name': \"Monty Q'S\"}\n",
            "{'_id': ObjectId('6472c91ba9e8eff3f21dcea0'), 'address': {'coord': [-73.9657651, 40.8056669]}, 'borough': 'Manhattan', 'cuisine': 'French', 'name': 'Le Monde'}\n",
            "{'_id': ObjectId('6472c91ba9e8eff3f21dcf8e'), 'address': {'coord': [-74.01032339999999, 40.7050156]}, 'borough': 'Manhattan', 'cuisine': 'Italian', 'name': 'Delmonicos'}\n",
            "{'_id': ObjectId('6472c91fa9e8eff3f21dd104'), 'address': {'coord': [-73.8706606, 40.7342757]}, 'borough': 'Queens', 'cuisine': 'American ', 'name': 'Cinnabon World Famous Cinnamon Rolls'}\n",
            "{'_id': ObjectId('6472c91fa9e8eff3f21dd128'), 'address': {'coord': [-73.9640299, 40.807001]}, 'borough': 'Manhattan', 'cuisine': 'American ', 'name': 'Ferris Booth Commons - Alfred Lerner Hall'}\n",
            "{'_id': ObjectId('6472c91fa9e8eff3f21dd182'), 'address': {'coord': [-74.10465599999999, 40.58834]}, 'borough': 'Staten Island', 'cuisine': 'American ', 'name': 'Richmond County Country Club - Pool Snack Bar'}\n",
            "{'_id': ObjectId('6472c91fa9e8eff3f21dd183'), 'address': {'coord': [-74.1110561, 40.5884772]}, 'borough': 'Staten Island', 'cuisine': 'American ', 'name': 'Richmond County Country Club(10Th Hole)'}\n",
            "{'_id': ObjectId('6472c91fa9e8eff3f21dd184'), 'address': {'coord': [-74.112758, 40.5833299]}, 'borough': 'Staten Island', 'cuisine': 'American ', 'name': 'Richmond County Country Club'}\n",
            "{'_id': ObjectId('6472c91fa9e8eff3f21dd393'), 'address': {'coord': [-73.9410809, 40.7036157]}, 'borough': 'Brooklyn', 'cuisine': 'Latin (Cuban, Dominican, Puerto Rican, South & Central American)', 'name': \"Ramonita'S Restaurant\"}\n"
          ]
        }
      ]
    },
    {
      "cell_type": "markdown",
      "metadata": {
        "id": "KzlsgYZEMMHp"
      },
      "source": [
        "32. find the restaurant name, borough, longitude and latitude and cuisine for those restaurants which contains 'Mad' as first three letters of its name. "
      ]
    },
    {
      "cell_type": "code",
      "metadata": {
        "colab": {
          "base_uri": "https://localhost:8080/"
        },
        "id": "7kccfpSgMN6i",
        "outputId": "d539940d-2e3c-4227-f790-cf22955bb685"
      },
      "source": [
        "c1 = db.restaurants.find(\n",
        "                   { \"name\" : \n",
        "                     { \"$regex\" : \"^Mad\", } \n",
        "                   },\n",
        "                       {\n",
        "                         \"name\":1,\n",
        "                         \"borough\":1,\n",
        "                         \"address.coord\":1,\n",
        "                         \"cuisine\" :1\n",
        "                        }\n",
        "                   );\n",
        "for crnt in c1:\n",
        "    print(crnt)"
      ],
      "execution_count": null,
      "outputs": [
        {
          "output_type": "stream",
          "name": "stdout",
          "text": [
            "{'_id': ObjectId('6472c917a9e8eff3f21dca21'), 'address': {'coord': [-73.9860597, 40.7431194]}, 'borough': 'Manhattan', 'cuisine': 'American ', 'name': 'Madison Square'}\n",
            "{'_id': ObjectId('6472c917a9e8eff3f21dcaef'), 'address': {'coord': [-73.98302199999999, 40.742313]}, 'borough': 'Manhattan', 'cuisine': 'Indian', 'name': 'Madras Mahal'}\n",
            "{'_id': ObjectId('6472c91ba9e8eff3f21dcd9e'), 'address': {'coord': [-74.000002, 40.72735]}, 'borough': 'Manhattan', 'cuisine': 'American ', 'name': 'Madame X'}\n",
            "{'_id': ObjectId('6472c91ba9e8eff3f21dce4d'), 'address': {'coord': [-73.98171959999999, 40.7499406]}, 'borough': 'Manhattan', 'cuisine': 'French', 'name': 'Madison Bistro'}\n",
            "{'_id': ObjectId('6472c91ba9e8eff3f21dced7'), 'address': {'coord': [-73.9717845, 40.6897199]}, 'borough': 'Brooklyn', 'cuisine': 'African', 'name': 'Madiba'}\n",
            "{'_id': ObjectId('6472c91fa9e8eff3f21dd1db'), 'address': {'coord': [-73.9040753, 40.9069011]}, 'borough': 'Bronx', 'cuisine': 'Italian', 'name': \"Madison'S\"}\n",
            "{'_id': ObjectId('6472c91fa9e8eff3f21dd25a'), 'address': {'coord': [-73.9886598, 40.7565811]}, 'borough': 'Manhattan', 'cuisine': 'Hotdogs', 'name': \"Madame Tussaud'S\"}\n",
            "{'_id': ObjectId('6472c91fa9e8eff3f21dd292'), 'address': {'coord': [-73.95623719999999, 40.7761697]}, 'borough': 'Manhattan', 'cuisine': 'American ', 'name': 'Mad River Bar & Grille'}\n"
          ]
        }
      ]
    },
    {
      "cell_type": "markdown",
      "source": [
        "# Checked by"
      ],
      "metadata": {
        "id": "xfGRZlxwo46a"
      }
    },
    {
      "cell_type": "code",
      "source": [
        "from datetime import datetime\n",
        "import pytz\n",
        "print('last tested  ',datetime.now(pytz.timezone('Asia/Kolkata')))"
      ],
      "metadata": {
        "id": "rjKkYNgZu3Lx",
        "outputId": "f370d29b-c13c-49bb-8583-608b12d98efc",
        "colab": {
          "base_uri": "https://localhost:8080/"
        }
      },
      "execution_count": null,
      "outputs": [
        {
          "output_type": "stream",
          "name": "stdout",
          "text": [
            "last tested   2023-05-28 08:53:52.613991+05:30\n"
          ]
        }
      ]
    },
    {
      "cell_type": "markdown",
      "metadata": {
        "id": "80dL82EayBe8"
      },
      "source": [
        "#Chronobooks <br>\n",
        "![alt text](https://1.bp.blogspot.com/-lTiYBkU2qbU/X1er__fvnkI/AAAAAAAAjtE/GhDR3OEGJr4NG43fZPodrQD5kbxtnKebgCLcBGAsYHQ/s600/Footer2020-600x200.png)<hr>\n",
        "Chronotantra and Chronoyantra are two science fiction novels that explore the collapse of human civilisation on Earth and then its rebirth and reincarnation both on Earth as well as on the distant worlds of Mars, Titan and Enceladus. But is it the human civilisation that is being reborn? Or is it some other sentience that is revealing itself. \n",
        "If you have an interest in AI and found this material useful, you may consider buying these novels, in paperback or kindle, from [http://bit.ly/chronobooks](http://bit.ly/chronobooks)"
      ]
    }
  ]
}