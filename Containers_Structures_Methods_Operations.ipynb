{
  "nbformat": 4,
  "nbformat_minor": 0,
  "metadata": {
    "colab": {
      "provenance": [],
      "include_colab_link": true
    },
    "kernelspec": {
      "display_name": "Python [default]",
      "language": "python",
      "name": "python3"
    }
  },
  "cells": [
    {
      "cell_type": "markdown",
      "metadata": {
        "id": "view-in-github",
        "colab_type": "text"
      },
      "source": [
        "<a href=\"https://colab.research.google.com/github/Praxis-QR/BDSN/blob/main/Containers_Structures_Methods_Operations.ipynb\" target=\"_parent\"><img src=\"https://colab.research.google.com/assets/colab-badge.svg\" alt=\"Open In Colab\"/></a>"
      ]
    },
    {
      "cell_type": "markdown",
      "metadata": {
        "id": "ul3KeClMcObH"
      },
      "source": [
        "![alt text](https://github.com/Praxis-QR/RDWH/raw/main/images/YantraJaalBanner.png)<br>\n",
        "\n",
        "\n",
        "<hr>\n",
        "\n",
        "[Prithwis Mukerjee](http://www.linkedin.com/in/prithwis)<br>"
      ]
    },
    {
      "cell_type": "markdown",
      "source": [
        "# Examples of working with containers"
      ],
      "metadata": {
        "id": "WihCel9qo0FI"
      }
    },
    {
      "cell_type": "code",
      "metadata": {
        "id": "dWCrwLfcTaY0",
        "colab": {
          "base_uri": "https://localhost:8080/"
        },
        "outputId": "126ffe67-c89f-4a54-bf02-891ece0be79f"
      },
      "source": [
        "#\n",
        "# Praxis Business School\n",
        "# Prithwis Mukerjee\n",
        "#\n",
        "# Data Structures in Python\n",
        "#\n",
        "\n",
        "print(\"Hello to Data Structures\")\n"
      ],
      "execution_count": null,
      "outputs": [
        {
          "output_type": "stream",
          "name": "stdout",
          "text": [
            "Hello to Data Structures\n"
          ]
        }
      ]
    },
    {
      "cell_type": "code",
      "metadata": {
        "id": "vUWlJ-ayTaZM",
        "colab": {
          "base_uri": "https://localhost:8080/"
        },
        "outputId": "57cf53bf-b4bd-484d-9c61-061a7abad304"
      },
      "source": [
        "pList1 = [1,\"This is a list\"]\n",
        "print(pList1)"
      ],
      "execution_count": null,
      "outputs": [
        {
          "output_type": "stream",
          "name": "stdout",
          "text": [
            "[1, 'This is a list']\n"
          ]
        }
      ]
    },
    {
      "cell_type": "code",
      "metadata": {
        "id": "CIT9F71ATaZc",
        "colab": {
          "base_uri": "https://localhost:8080/"
        },
        "outputId": "8131c853-52d3-4984-ef6d-f0afc0b62ab4"
      },
      "source": [
        "pInt = 2\n",
        "pReal = 2.318281828\n",
        "pString = \"some Test String\"\n",
        "pList2 = [ pInt, pReal, pString, pList1]\n",
        "print(pList2)"
      ],
      "execution_count": null,
      "outputs": [
        {
          "output_type": "stream",
          "name": "stdout",
          "text": [
            "[2, 2.318281828, 'some Test String', [1, 'This is a list']]\n"
          ]
        }
      ]
    },
    {
      "cell_type": "code",
      "metadata": {
        "id": "zFrM-hNJTaZw",
        "colab": {
          "base_uri": "https://localhost:8080/"
        },
        "outputId": "a42cd118-28c3-4a2b-de57-69d89ce0d722"
      },
      "source": [
        "print(\"Members ---------------------\")\n",
        "\n",
        "print(pList2[0])\n",
        "print(pList2[1])\n",
        "print(pList2[2])\n",
        "print(pList2[3])\n",
        "\n",
        "print(pList2[3][0])\n",
        "print(pList2[3][1])"
      ],
      "execution_count": null,
      "outputs": [
        {
          "output_type": "stream",
          "name": "stdout",
          "text": [
            "Members ---------------------\n",
            "2\n",
            "2.318281828\n",
            "some Test String\n",
            "[1, 'This is a list']\n",
            "1\n",
            "This is a list\n"
          ]
        }
      ]
    },
    {
      "cell_type": "code",
      "source": [
        "print(pList2[3][1][2])"
      ],
      "metadata": {
        "colab": {
          "base_uri": "https://localhost:8080/"
        },
        "id": "3k_WVC3xm135",
        "outputId": "a5afe2c6-efc5-41cf-f7fa-5dd42c24ba09"
      },
      "execution_count": null,
      "outputs": [
        {
          "output_type": "stream",
          "name": "stdout",
          "text": [
            "i\n"
          ]
        }
      ]
    },
    {
      "cell_type": "code",
      "source": [
        "print(pList2)\n",
        "print(pList2[3])\n",
        "print(pList2[3][1])\n",
        "print(pList2[3][1][3])\n",
        "print(pList2[3][1][3:6])\n",
        "print(pList2[3][1][6:])"
      ],
      "metadata": {
        "colab": {
          "base_uri": "https://localhost:8080/"
        },
        "id": "g9b12e4unCao",
        "outputId": "1908a1f9-6797-4e6c-ba96-7e691b3ca3f1"
      },
      "execution_count": null,
      "outputs": [
        {
          "output_type": "stream",
          "name": "stdout",
          "text": [
            "[2, 2.318281828, 'some Test String', [1, 'This is a list']]\n",
            "[1, 'This is a list']\n",
            "This is a list\n",
            "s\n",
            "s i\n",
            "s a list\n"
          ]
        }
      ]
    },
    {
      "cell_type": "code",
      "source": [
        "print(pList2[2][0])\n",
        "print(pList2[2][1])"
      ],
      "metadata": {
        "colab": {
          "base_uri": "https://localhost:8080/"
        },
        "id": "b_cULQ3hasPv",
        "outputId": "a630b64c-2fc8-4fd5-c26f-a3f7a21efb82"
      },
      "execution_count": null,
      "outputs": [
        {
          "output_type": "stream",
          "name": "stdout",
          "text": [
            "s\n",
            "o\n"
          ]
        }
      ]
    },
    {
      "cell_type": "code",
      "metadata": {
        "id": "ErL5_bQHTaZ8",
        "colab": {
          "base_uri": "https://localhost:8080/"
        },
        "outputId": "7c0579ce-ef64-469b-81d5-1db9e094e052"
      },
      "source": [
        "# Methods operating on Lists\n",
        "\n",
        "print(\"Methods ---------------------\")\n",
        "print(pList1)\n",
        "pList1.append(pInt)\n",
        "print(pList1)\n",
        "pList1.insert(1,pReal)\n",
        "print(pList1)\n",
        "pList1.remove(pReal)\n",
        "print(pList1)\n",
        "pList1.extend(pList2)\n",
        "print(pList1)"
      ],
      "execution_count": null,
      "outputs": [
        {
          "output_type": "stream",
          "name": "stdout",
          "text": [
            "Methods ---------------------\n",
            "[1, 'This is a list']\n",
            "[1, 'This is a list', 2]\n",
            "[1, 2.318281828, 'This is a list', 2]\n",
            "[1, 'This is a list', 2]\n",
            "[1, 'This is a list', 2, 2, 2.318281828, 'some Test String', [...]]\n"
          ]
        }
      ]
    },
    {
      "cell_type": "code",
      "metadata": {
        "id": "OhetKgHOTaaM",
        "colab": {
          "base_uri": "https://localhost:8080/"
        },
        "outputId": "fa3c1271-9f87-44b4-d7b9-58a7d475a0d1"
      },
      "source": [
        "# More Methods\n",
        "\n",
        "print(\"More Methods ---------------------\")\n",
        "\n",
        "print(pList1.count(\"some Test String\"), pList1.count(pInt))\n",
        "print(pList1.index(pInt), pList1.index(\"some Test String\"))\n",
        "pList1.reverse()\n",
        "print(pList1)\n",
        "#pList1.sort()\n",
        "print(pList1)\n"
      ],
      "execution_count": null,
      "outputs": [
        {
          "output_type": "stream",
          "name": "stdout",
          "text": [
            "More Methods ---------------------\n",
            "1 2\n",
            "2 5\n",
            "[[...], 'some Test String', 2.318281828, 2, 2, 'This is a list', 1]\n",
            "[[...], 'some Test String', 2.318281828, 2, 2, 'This is a list', 1]\n"
          ]
        }
      ]
    },
    {
      "cell_type": "code",
      "metadata": {
        "id": "qnrh73m5TaaW",
        "colab": {
          "base_uri": "https://localhost:8080/"
        },
        "outputId": "1157730c-d9d7-4917-9f25-5a9c3ceddea8"
      },
      "source": [
        "# List as Stack\n",
        "\n",
        "print(\"Stack ---------------------\")\n",
        "\n",
        "pStack1 = [12, 20, 7]\n",
        "pStack1.append(45)\n",
        "print(pStack1)\n",
        "pPopped = pStack1.pop()\n",
        "print(pPopped, pStack1)\n"
      ],
      "execution_count": null,
      "outputs": [
        {
          "output_type": "stream",
          "name": "stdout",
          "text": [
            "Stack ---------------------\n",
            "[12, 20, 7, 45]\n",
            "45 [12, 20, 7]\n"
          ]
        }
      ]
    },
    {
      "cell_type": "code",
      "source": [
        "pPopped = pStack1.pop()\n",
        "print(pPopped, pStack1)"
      ],
      "metadata": {
        "colab": {
          "base_uri": "https://localhost:8080/"
        },
        "id": "ZUM64JD7disc",
        "outputId": "34864c83-c13d-4183-d375-3ab4e622efb8"
      },
      "execution_count": null,
      "outputs": [
        {
          "output_type": "stream",
          "name": "stdout",
          "text": [
            "7 [12, 20]\n"
          ]
        }
      ]
    },
    {
      "cell_type": "code",
      "metadata": {
        "id": "BKfq_-8wTaaq",
        "colab": {
          "base_uri": "https://localhost:8080/"
        },
        "outputId": "df06e9d4-ca00-4f57-b464-d0acf36bfed2"
      },
      "source": [
        "# List as Q\n",
        "from collections import deque\n",
        "print(\"Q ---------------------\")\n",
        "\n",
        "from collections import deque\n",
        "pList3 = [\"Ram\", \"Shyam\", \"Jadu\"]\n",
        "pQ = deque([\"Ram\", \"Shyam\", \"Jadu\"])\n",
        "print(pQ)\n",
        "a = pQ.popleft()\n",
        "print(a)\n",
        "print(pQ)\n",
        "pQ.append(\"Sita\")\n",
        "print(pQ)\n"
      ],
      "execution_count": null,
      "outputs": [
        {
          "output_type": "stream",
          "name": "stdout",
          "text": [
            "Q ---------------------\n",
            "deque(['Ram', 'Shyam', 'Jadu'])\n",
            "Ram\n",
            "deque(['Shyam', 'Jadu'])\n",
            "deque(['Shyam', 'Jadu', 'Sita'])\n"
          ]
        }
      ]
    },
    {
      "cell_type": "code",
      "metadata": {
        "id": "VroQybSYTaa-",
        "colab": {
          "base_uri": "https://localhost:8080/"
        },
        "outputId": "57f150d1-469d-4467-ba2b-9738ec797a60"
      },
      "source": [
        "# Sets\n",
        "\n",
        "print(\"Sets ---------------------\")\n",
        "\n",
        "pList10 = [\"Apple\", \"Orange\", \"Pear\", \"Mango\", \"Apple\", \"Orange\", \"Pineapple\"]\n",
        "print(pList10)\n",
        "\n",
        "pSet = set(pList10)\n",
        "print(pSet)\n"
      ],
      "execution_count": null,
      "outputs": [
        {
          "output_type": "stream",
          "name": "stdout",
          "text": [
            "Sets ---------------------\n",
            "['Apple', 'Orange', 'Pear', 'Mango', 'Apple', 'Orange', 'Pineapple']\n",
            "{'Orange', 'Apple', 'Mango', 'Pineapple', 'Pear'}\n"
          ]
        }
      ]
    },
    {
      "cell_type": "code",
      "metadata": {
        "id": "uymEyN2iTabI",
        "colab": {
          "base_uri": "https://localhost:8080/"
        },
        "outputId": "50987db5-2328-4989-a9aa-008c4089979a"
      },
      "source": [
        "# Tuples\n",
        "\n",
        "print(\"Tuples ---------------------\")\n",
        "\n",
        "pTuple1 = 1, 34, \"king\", \"queen\"\n",
        "print(pTuple1)\n",
        "print(pTuple1[0], pTuple1[3])\n",
        "pTuple2 = 23, \"new fellow\", pTuple1\n",
        "print(pTuple2)\n"
      ],
      "execution_count": null,
      "outputs": [
        {
          "output_type": "stream",
          "name": "stdout",
          "text": [
            "Tuples ---------------------\n",
            "(1, 34, 'king', 'queen')\n",
            "1 queen\n",
            "(23, 'new fellow', (1, 34, 'king', 'queen'))\n"
          ]
        }
      ]
    },
    {
      "cell_type": "code",
      "metadata": {
        "id": "mGeDhaNaTaba",
        "colab": {
          "base_uri": "https://localhost:8080/"
        },
        "outputId": "c0a07283-fb7f-4484-bc9c-3437cfaa1273"
      },
      "source": [
        "# Dictionaries\n",
        "\n",
        "print(\"Dictionaries ---------------------\")\n",
        "\n",
        "dTel = { \"prithwis\": 2066, \"charan\" : 8077, \"govind\" : 9234, \"jaydeep\" : 9324}\n",
        "print(dTel)\n",
        "print(dTel.keys())\n",
        "print(dTel.values())\n",
        "dTel['SDG'] = 9056\n",
        "print(dTel)\n",
        "dTel['prithwis'] = 6602\n",
        "print(dTel)\n",
        "print(\"prithwis\" in dTel)\n",
        "print(\"Prithwis\" in dTel)\n"
      ],
      "execution_count": null,
      "outputs": [
        {
          "output_type": "stream",
          "name": "stdout",
          "text": [
            "Dictionaries ---------------------\n",
            "{'prithwis': 2066, 'charan': 8077, 'govind': 9234, 'jaydeep': 9324}\n",
            "dict_keys(['prithwis', 'charan', 'govind', 'jaydeep'])\n",
            "dict_values([2066, 8077, 9234, 9324])\n",
            "{'prithwis': 2066, 'charan': 8077, 'govind': 9234, 'jaydeep': 9324, 'SDG': 9056}\n",
            "{'prithwis': 6602, 'charan': 8077, 'govind': 9234, 'jaydeep': 9324, 'SDG': 9056}\n",
            "True\n",
            "False\n"
          ]
        }
      ]
    },
    {
      "cell_type": "code",
      "metadata": {
        "id": "mk_2Yy8TTabm",
        "colab": {
          "base_uri": "https://localhost:8080/"
        },
        "outputId": "6dceea94-e119-497c-b0b9-6ad0f9776024"
      },
      "source": [
        "# Looping\n",
        "\n",
        "print(\"Looping ..........................\")\n",
        "print(dTel.items())\n",
        "\n",
        "for key, val in dTel.items():\n",
        "    print (val, val*2, key)\n"
      ],
      "execution_count": null,
      "outputs": [
        {
          "output_type": "stream",
          "name": "stdout",
          "text": [
            "Looping ..........................\n",
            "dict_items([('prithwis', 6602), ('charan', 8077), ('govind', 9234), ('jaydeep', 9324), ('SDG', 9056)])\n",
            "6602 13204 prithwis\n",
            "8077 16154 charan\n",
            "9234 18468 govind\n",
            "9324 18648 jaydeep\n",
            "9056 18112 SDG\n"
          ]
        }
      ]
    },
    {
      "cell_type": "code",
      "source": [
        "for x, y in dTel.items():\n",
        "    x = x+'ss'\n",
        "    y = y*2\n",
        "    print (x,y)"
      ],
      "metadata": {
        "colab": {
          "base_uri": "https://localhost:8080/"
        },
        "id": "Dlm79aMabCj6",
        "outputId": "5f31369f-4f11-4e1b-962c-1df6dd57d9b6"
      },
      "execution_count": null,
      "outputs": [
        {
          "output_type": "stream",
          "name": "stdout",
          "text": [
            "prithwisss 13204\n",
            "charanss 16154\n",
            "govindss 18468\n",
            "jaydeepss 18648\n",
            "SDGss 18112\n"
          ]
        }
      ]
    },
    {
      "cell_type": "code",
      "source": [
        "for y, x in dTel.items():\n",
        "    x = x+'ss'\n",
        "    y = y*2\n",
        "    print (x,y)"
      ],
      "metadata": {
        "colab": {
          "base_uri": "https://localhost:8080/",
          "height": 193
        },
        "id": "pJV8WEsybJjT",
        "outputId": "8531b2c9-db41-487c-d66c-088ef262f20e"
      },
      "execution_count": null,
      "outputs": [
        {
          "output_type": "error",
          "ename": "TypeError",
          "evalue": "unsupported operand type(s) for +: 'int' and 'str'",
          "traceback": [
            "\u001b[0;31m---------------------------------------------------------------------------\u001b[0m",
            "\u001b[0;31mTypeError\u001b[0m                                 Traceback (most recent call last)",
            "\u001b[0;32m<ipython-input-18-b105e458131f>\u001b[0m in \u001b[0;36m<cell line: 1>\u001b[0;34m()\u001b[0m\n\u001b[1;32m      1\u001b[0m \u001b[0;32mfor\u001b[0m \u001b[0my\u001b[0m\u001b[0;34m,\u001b[0m \u001b[0mx\u001b[0m \u001b[0;32min\u001b[0m \u001b[0mdTel\u001b[0m\u001b[0;34m.\u001b[0m\u001b[0mitems\u001b[0m\u001b[0;34m(\u001b[0m\u001b[0;34m)\u001b[0m\u001b[0;34m:\u001b[0m\u001b[0;34m\u001b[0m\u001b[0;34m\u001b[0m\u001b[0m\n\u001b[0;32m----> 2\u001b[0;31m     \u001b[0mx\u001b[0m \u001b[0;34m=\u001b[0m \u001b[0mx\u001b[0m\u001b[0;34m+\u001b[0m\u001b[0;34m'ss'\u001b[0m\u001b[0;34m\u001b[0m\u001b[0;34m\u001b[0m\u001b[0m\n\u001b[0m\u001b[1;32m      3\u001b[0m     \u001b[0my\u001b[0m \u001b[0;34m=\u001b[0m \u001b[0my\u001b[0m\u001b[0;34m*\u001b[0m\u001b[0;36m2\u001b[0m\u001b[0;34m\u001b[0m\u001b[0;34m\u001b[0m\u001b[0m\n\u001b[1;32m      4\u001b[0m     \u001b[0mprint\u001b[0m \u001b[0;34m(\u001b[0m\u001b[0mx\u001b[0m\u001b[0;34m,\u001b[0m\u001b[0my\u001b[0m\u001b[0;34m)\u001b[0m\u001b[0;34m\u001b[0m\u001b[0;34m\u001b[0m\u001b[0m\n",
            "\u001b[0;31mTypeError\u001b[0m: unsupported operand type(s) for +: 'int' and 'str'"
          ]
        }
      ]
    },
    {
      "cell_type": "code",
      "source": [
        "pList9 = [[[['a','b','c'],'a','b','c'],'a','b','c'],'a','b','c']\n",
        "for ix, val in enumerate(pList9):\n",
        "    print(ix, val)"
      ],
      "metadata": {
        "colab": {
          "base_uri": "https://localhost:8080/"
        },
        "id": "00U4oaF1c0f-",
        "outputId": "d30bf10f-8806-4302-acf3-6953a7d270b9"
      },
      "execution_count": null,
      "outputs": [
        {
          "output_type": "stream",
          "name": "stdout",
          "text": [
            "0 [[['a', 'b', 'c'], 'a', 'b', 'c'], 'a', 'b', 'c']\n",
            "1 a\n",
            "2 b\n",
            "3 c\n"
          ]
        }
      ]
    },
    {
      "cell_type": "code",
      "metadata": {
        "id": "qyQ603XjTaby",
        "colab": {
          "base_uri": "https://localhost:8080/"
        },
        "outputId": "4482af55-5869-4aaf-a78d-75f1107512b4"
      },
      "source": [
        "print(\"Enumerate ..........................\")\n",
        "\n",
        "print(pList1)\n",
        "for ix, val in enumerate(pList1):\n",
        "    print (ix,val)\n",
        "\n",
        "#for ix, val in enumerate(pTuple1):\n",
        "#    print (ix,val)\n",
        "\n",
        "for ix, val in enumerate(dTel):\n",
        "    print (ix,val)\n",
        "\n",
        "#for ix, k, val in enumerate(dTel):\n",
        "#    print (ix,k,val)\n"
      ],
      "execution_count": null,
      "outputs": [
        {
          "output_type": "stream",
          "name": "stdout",
          "text": [
            "Enumerate ..........................\n",
            "[[...], 'some Test String', 2.318281828, 2, 2, 'This is a list', 1]\n",
            "0 [[...], 'some Test String', 2.318281828, 2, 2, 'This is a list', 1]\n",
            "1 some Test String\n",
            "2 2.318281828\n",
            "3 2\n",
            "4 2\n",
            "5 This is a list\n",
            "6 1\n",
            "0 prithwis\n",
            "1 charan\n",
            "2 govind\n",
            "3 jaydeep\n",
            "4 SDG\n"
          ]
        }
      ]
    },
    {
      "cell_type": "code",
      "metadata": {
        "id": "CbSlXUV8TacW",
        "colab": {
          "base_uri": "https://localhost:8080/"
        },
        "outputId": "f889580f-c858-4cea-919f-9c09be3acf59"
      },
      "source": [
        "print(\"Zip ..........................\")\n",
        "\n",
        "teachers = [\"prithwis\",\"charan\",\"jaydeep\",\"subhasis\"]\n",
        "subjects = [\"bigdata\", \"communications\", \"stats\", \"datamining\"]\n",
        "\n",
        "for t,s in zip(teachers,subjects):\n",
        "    print(t,\" teaches \",s)\n",
        "\n"
      ],
      "execution_count": null,
      "outputs": [
        {
          "output_type": "stream",
          "name": "stdout",
          "text": [
            "Zip ..........................\n",
            "prithwis  teaches  bigdata\n",
            "charan  teaches  communications\n",
            "jaydeep  teaches  stats\n",
            "subhasis  teaches  datamining\n"
          ]
        }
      ]
    },
    {
      "cell_type": "code",
      "metadata": {
        "id": "HF_h2RE5V7js",
        "colab": {
          "base_uri": "https://localhost:8080/"
        },
        "outputId": "04a9d85a-7500-4bb2-b0b3-362157bf579f"
      },
      "source": [
        "print(pList2)"
      ],
      "execution_count": null,
      "outputs": [
        {
          "output_type": "stream",
          "name": "stdout",
          "text": [
            "[2, 2.318281828, 'some Test String', [[...], 'some Test String', 2.318281828, 2, 2, 'This is a list', 1]]\n"
          ]
        }
      ]
    },
    {
      "cell_type": "code",
      "metadata": {
        "id": "oLRS3UXHTack",
        "colab": {
          "base_uri": "https://localhost:8080/"
        },
        "outputId": "79d53703-bbfd-41a5-e0bf-19533692213c"
      },
      "source": [
        "# Membership\n",
        "\n",
        "print(pInt in pList2)\n",
        "print(2 in pList2)\n",
        "print(33  not in pList2)\n",
        "\n",
        "fruit1 = [\"apple\", \"pear\", \"orange\", \"mango\"]\n",
        "fruit2 = [\"apple\", \"grape\", \"banana\",\"mango\"]\n",
        "\n",
        "print(\"pear\" in fruit1)\n",
        "print(\"pear\" in fruit2)\n",
        "print (set(fruit1).intersection(fruit2))\n",
        "print (set(fruit1).union(fruit2))\n"
      ],
      "execution_count": null,
      "outputs": [
        {
          "output_type": "stream",
          "name": "stdout",
          "text": [
            "True\n",
            "True\n",
            "True\n",
            "True\n",
            "False\n",
            "{'apple', 'mango'}\n",
            "{'pear', 'mango', 'apple', 'orange', 'grape', 'banana'}\n"
          ]
        }
      ]
    },
    {
      "cell_type": "code",
      "metadata": {
        "id": "1_tiHicXTac6"
      },
      "source": [],
      "execution_count": null,
      "outputs": []
    },
    {
      "cell_type": "markdown",
      "source": [
        "#Map Reduce"
      ],
      "metadata": {
        "id": "V_p_MO1BK9qE"
      }
    },
    {
      "cell_type": "code",
      "source": [
        "# Praxis Business School\n",
        "# Prithwis Mukerjee\n",
        "#\n",
        "# Data Structures in Python\n",
        "# there are some changes that are necessary for these codes to work in Python 3\n",
        "# range, filter, map return objects that are not lists … hence we need to cast them into lists\n",
        "# reduce has been replaced with functools.reduce\n",
        "# these changes are shown in red\n",
        "\n",
        "#http://stackoverflow.com/questions/12319025/filters-in-python\n",
        "#http://stackoverflow.com/questions/13638898/how-to-use-filter-map-and-reduce-in-python-3\n",
        "print(\"Hello to Data Structues\")"
      ],
      "metadata": {
        "id": "tLE_IuUVLANT",
        "colab": {
          "base_uri": "https://localhost:8080/"
        },
        "outputId": "d74d5a2d-0e9a-4449-85fe-70eced8e3186"
      },
      "execution_count": null,
      "outputs": [
        {
          "output_type": "stream",
          "name": "stdout",
          "text": [
            "Hello to Data Structues\n"
          ]
        }
      ]
    },
    {
      "cell_type": "code",
      "source": [
        "print(\"Filter Functions ................................\")\n",
        "\n",
        "print('range', range(1,10))\n",
        "\n",
        "pList1 = list(range(1,10))\n",
        "print('plist1',pList1)\n",
        "\n",
        "def pEven(x) : return x%2 == 0\n",
        "pList2 = list(filter(pEven,pList1))\n",
        "print(pList2)\n",
        "\n",
        "pList3 = [\"Ram\", \"RamPM\", \"Shyam\", \"PMShyam\", \"Sita\", \"SiPMMta\"]\n",
        "print(pList3)\n",
        "\n",
        "def hasPM(x) : return \"PM\" in x\n",
        "pList4 = list(filter(hasPM, pList3))\n",
        "print(pList4)\n"
      ],
      "metadata": {
        "id": "rdg6dczdLExT",
        "colab": {
          "base_uri": "https://localhost:8080/"
        },
        "outputId": "a076ff36-a5e5-414b-ae04-0c09e4e48b60"
      },
      "execution_count": null,
      "outputs": [
        {
          "output_type": "stream",
          "name": "stdout",
          "text": [
            "Filter Functions ................................\n",
            "range range(1, 10)\n",
            "plist1 [1, 2, 3, 4, 5, 6, 7, 8, 9]\n",
            "[2, 4, 6, 8]\n",
            "['Ram', 'RamPM', 'Shyam', 'PMShyam', 'Sita', 'SiPMMta']\n",
            "['RamPM', 'PMShyam', 'SiPMMta']\n"
          ]
        }
      ]
    },
    {
      "cell_type": "code",
      "source": [
        "# Lambda functions\n",
        "print(\"Lambda Functions ................................\")\n",
        "\n",
        "pList2a = list(filter (lambda x : x%2 == 0, pList1))\n",
        "print(pList2a)\n",
        "\n",
        "pList4a = list(filter(lambda x: \"PM\" in x, pList3))\n",
        "print(pList4a)\n"
      ],
      "metadata": {
        "colab": {
          "base_uri": "https://localhost:8080/"
        },
        "id": "jqaq_CX3pFV3",
        "outputId": "35a268bf-703b-449b-b122-9778e43f7d7f"
      },
      "execution_count": null,
      "outputs": [
        {
          "output_type": "stream",
          "name": "stdout",
          "text": [
            "Lambda Functions ................................\n",
            "[2, 4, 6, 8]\n",
            "['RamPM', 'PMShyam', 'SiPMMta']\n"
          ]
        }
      ]
    },
    {
      "cell_type": "code",
      "source": [
        "# Map\n",
        "print(\"Map Functions ................................\")\n",
        "print(pList1)\n",
        "pList5 = list(map(lambda x : x*x, pList1))            # square each number in the list\n",
        "print(pList5)\n",
        "\n",
        "print(pList3)\n",
        "pList6 = list(map(lambda x : \"WW\"+x, pList3))          # appends the char Y to each string in the list\n",
        "print(pList6)\n",
        "\n",
        "pList7 = list(map(lambda x : len(x), pList3)  )       # returns the number of characters in each string of the list\n",
        "print(pList7)\n",
        "\n",
        "print('pList3 > ',pList3)\n",
        "pList8 = list(map(lambda x : (x,len(x)),pList3) )    # returns a list of tuples\n",
        "print(pList8)\n"
      ],
      "metadata": {
        "colab": {
          "base_uri": "https://localhost:8080/"
        },
        "id": "csUovtHKpKRS",
        "outputId": "f0237a93-693a-41e0-e94d-17cea35036ab"
      },
      "execution_count": null,
      "outputs": [
        {
          "output_type": "stream",
          "name": "stdout",
          "text": [
            "Map Functions ................................\n",
            "[1, 2, 3, 4, 5, 6, 7, 8, 9]\n",
            "[1, 4, 9, 16, 25, 36, 49, 64, 81]\n",
            "['Ram', 'RamPM', 'Shyam', 'PMShyam', 'Sita', 'SiPMMta']\n",
            "['WWRam', 'WWRamPM', 'WWShyam', 'WWPMShyam', 'WWSita', 'WWSiPMMta']\n",
            "[3, 5, 5, 7, 4, 7]\n",
            "pList3 >  ['Ram', 'RamPM', 'Shyam', 'PMShyam', 'Sita', 'SiPMMta']\n",
            "[('Ram', 3), ('RamPM', 5), ('Shyam', 5), ('PMShyam', 7), ('Sita', 4), ('SiPMMta', 7)]\n"
          ]
        }
      ]
    },
    {
      "cell_type": "code",
      "source": [
        "# Reduce\n",
        "print(\"Reduce Functions ................................\")\n",
        "\n",
        "import functools\n",
        "print(pList1)\n",
        "pVal1 = functools.reduce(lambda x,y: x+y, pList1)         #   adding the numbers in a list\n",
        "print(pVal1)\n",
        "\n",
        "print(pList3)\n",
        "pVal2 = functools.reduce(lambda x,y: x+y, pList3)         # concatenating string in a list\n",
        "print(pVal2)\n",
        "\n",
        "print(pList8)\n",
        "pVal3 = functools.reduce(lambda x,y: (x[0]+y[0], x[1]+y[1]), pList8)  #   adding and concatenating elements in a list\n",
        "print(pVal3)\n",
        "#pVal4 = functools.reduce(lambda x,y: (x[1]+y[1], x[0]+y[0]), pList8)  #   adding and concatenating elements in a list\n",
        "#print(pVal4)\n"
      ],
      "metadata": {
        "colab": {
          "base_uri": "https://localhost:8080/"
        },
        "id": "9Xu8_Mb4pOZy",
        "outputId": "862c218c-08e2-4a3c-e418-5c38a58e8f2b"
      },
      "execution_count": null,
      "outputs": [
        {
          "output_type": "stream",
          "name": "stdout",
          "text": [
            "Reduce Functions ................................\n",
            "[1, 2, 3, 4, 5, 6, 7, 8, 9]\n",
            "45\n",
            "['Ram', 'RamPM', 'Shyam', 'PMShyam', 'Sita', 'SiPMMta']\n",
            "RamRamPMShyamPMShyamSitaSiPMMta\n",
            "[('Ram', 3), ('RamPM', 5), ('Shyam', 5), ('PMShyam', 7), ('Sita', 4), ('SiPMMta', 7)]\n",
            "('RamRamPMShyamPMShyamSitaSiPMMta', 31)\n"
          ]
        }
      ]
    },
    {
      "cell_type": "code",
      "source": [
        "pList20 = [\"Ram\", \"RamPM\", \"Shyam\", \"PMShyam\", \"Sita\", \"SiPMMta\"]\n",
        "print(pList20)\n",
        "pList21A = list(map(lambda x : (x,len(x)),pList20) )    # returns a list of tuples\n",
        "print(pList21A)\n",
        "pList21B = list(map(lambda x : (len(x),x),pList20) )    # returns a list of tuples\n",
        "print(pList21B)\n",
        "print('----')\n",
        "print(pList21A)\n",
        "pVal22A = functools.reduce(lambda x,y: (x[0]+y[0], x[1]+y[1]), pList21A)  #   adding and concatenating elements in a list\n",
        "print(pVal22A)\n",
        "print(pList21B)\n",
        "pVal22B = functools.reduce(lambda x,y: (x[0]+y[0], x[1]+y[1]), pList21B)  #   adding and concatenating elements in a list\n",
        "print(pVal22B)\n",
        "print('----')\n",
        "#print(pList21A)\n",
        "#pVal22C = functools.reduce(lambda x,y: (x[1]+y[1], x[0]+y[0]), pList21A)  #   adding and concatenating elements in a list\n",
        "#print(pVal22C)\n",
        "print(pList21B)\n",
        "# following statement will throw an error\n",
        "#pVal22D = functools.reduce(lambda x,y: (x[1]+y[1], x[0]+y[0]), pList21B)  #   adding and concatenating elements in a list\n",
        "#print(pVal22D)"
      ],
      "metadata": {
        "colab": {
          "base_uri": "https://localhost:8080/"
        },
        "id": "BK2b77yupUyD",
        "outputId": "abc9226a-5566-4148-fcf0-54fb60ffa10f"
      },
      "execution_count": null,
      "outputs": [
        {
          "output_type": "stream",
          "name": "stdout",
          "text": [
            "['Ram', 'RamPM', 'Shyam', 'PMShyam', 'Sita', 'SiPMMta']\n",
            "[('Ram', 3), ('RamPM', 5), ('Shyam', 5), ('PMShyam', 7), ('Sita', 4), ('SiPMMta', 7)]\n",
            "[(3, 'Ram'), (5, 'RamPM'), (5, 'Shyam'), (7, 'PMShyam'), (4, 'Sita'), (7, 'SiPMMta')]\n",
            "----\n",
            "[('Ram', 3), ('RamPM', 5), ('Shyam', 5), ('PMShyam', 7), ('Sita', 4), ('SiPMMta', 7)]\n",
            "('RamRamPMShyamPMShyamSitaSiPMMta', 31)\n",
            "[(3, 'Ram'), (5, 'RamPM'), (5, 'Shyam'), (7, 'PMShyam'), (4, 'Sita'), (7, 'SiPMMta')]\n",
            "(31, 'RamRamPMShyamPMShyamSitaSiPMMta')\n",
            "----\n",
            "[(3, 'Ram'), (5, 'RamPM'), (5, 'Shyam'), (7, 'PMShyam'), (4, 'Sita'), (7, 'SiPMMta')]\n"
          ]
        }
      ]
    },
    {
      "cell_type": "markdown",
      "source": [
        "for an explanation on why we are getting an error in the previous code, see this link in stackoverflow https://stackoverflow.com/questions/62298383/python-reduce-order-of-arguments-cause-error/62298679?noredirect=1#comment110247133_62298679"
      ],
      "metadata": {
        "id": "X7YLTiaNpagN"
      }
    },
    {
      "cell_type": "code",
      "source": [
        "E1 = [ 'PM', 'M', 30]\n",
        "E2 = [ 'CP', 'M', 40]\n",
        "E3 = ['SRC','F', 50]\n",
        "\n",
        "L1 = [E1,E2,E3]\n",
        "print(E1, E2, E3, L1)"
      ],
      "metadata": {
        "colab": {
          "base_uri": "https://localhost:8080/"
        },
        "id": "rbb2ulARpbpp",
        "outputId": "619b8a83-c173-4939-f18c-af952d0304f7"
      },
      "execution_count": null,
      "outputs": [
        {
          "output_type": "stream",
          "name": "stdout",
          "text": [
            "['PM', 'M', 30] ['CP', 'M', 40] ['SRC', 'F', 50] [['PM', 'M', 30], ['CP', 'M', 40], ['SRC', 'F', 50]]\n"
          ]
        }
      ]
    },
    {
      "cell_type": "code",
      "source": [
        "L2 = list(filter(lambda x:  x[1] == 'M', L1))\n",
        "print(L2)"
      ],
      "metadata": {
        "colab": {
          "base_uri": "https://localhost:8080/"
        },
        "id": "QozDs00Sp37i",
        "outputId": "ebaa4610-a76e-4a5a-ce15-6eda46de3ceb"
      },
      "execution_count": null,
      "outputs": [
        {
          "output_type": "stream",
          "name": "stdout",
          "text": [
            "[['PM', 'M', 30], ['CP', 'M', 40]]\n"
          ]
        }
      ]
    },
    {
      "cell_type": "code",
      "source": [
        "def f(x):\n",
        "    if x[1] == 'M':\n",
        "        x[1] = 1\n",
        "    else :\n",
        "        x[1] = 0\n",
        "    return(x)\n",
        "print(f(E1))"
      ],
      "metadata": {
        "colab": {
          "base_uri": "https://localhost:8080/"
        },
        "id": "VWCcvgJpp-QZ",
        "outputId": "8e1ad399-c306-4299-81ae-babaf3d8ebc1"
      },
      "execution_count": null,
      "outputs": [
        {
          "output_type": "stream",
          "name": "stdout",
          "text": [
            "['PM', 1, 30]\n"
          ]
        }
      ]
    },
    {
      "cell_type": "code",
      "source": [
        "print(L1)\n",
        "L3 = list(map(f,L1))\n",
        "print(L3)"
      ],
      "metadata": {
        "colab": {
          "base_uri": "https://localhost:8080/"
        },
        "id": "Ao9hd0ZvqKXu",
        "outputId": "f12bdca3-25d4-4957-ba07-c83a19f2e1d1"
      },
      "execution_count": null,
      "outputs": [
        {
          "output_type": "stream",
          "name": "stdout",
          "text": [
            "[['PM', 1, 30], ['CP', 'M', 40], ['SRC', 'F', 50]]\n",
            "[['PM', 0, 30], ['CP', 1, 40], ['SRC', 0, 50]]\n"
          ]
        }
      ]
    },
    {
      "cell_type": "markdown",
      "metadata": {
        "id": "5Sc2DVuoE1nU"
      },
      "source": [
        "#Chronobooks <br>\n",
        "![alt text](https://1.bp.blogspot.com/-lTiYBkU2qbU/X1er__fvnkI/AAAAAAAAjtE/GhDR3OEGJr4NG43fZPodrQD5kbxtnKebgCLcBGAsYHQ/s600/Footer2020-600x200.png)<hr>\n",
        "Chronotantra and Chronoyantra are two science fiction novels that explore the collapse of human civilisation on Earth and then its rebirth and reincarnation both on Earth as well as on the distant worlds of Mars, Titan and Enceladus. But is it the human civilisation that is being reborn? Or is it some other sentience that is revealing itself.\n",
        "If you have an interest in AI and found this material useful, you may consider buying these novels, in paperback or kindle, from [http://bit.ly/chronobooks](http://bit.ly/chronobooks)"
      ]
    }
  ]
}