{
  "nbformat": 4,
  "nbformat_minor": 0,
  "metadata": {
    "colab": {
      "provenance": [],
      "toc_visible": true,
      "include_colab_link": true
    },
    "kernelspec": {
      "name": "python3",
      "display_name": "Python 3"
    },
    "language_info": {
      "name": "python"
    }
  },
  "cells": [
    {
      "cell_type": "markdown",
      "metadata": {
        "id": "view-in-github",
        "colab_type": "text"
      },
      "source": [
        "<a href=\"https://colab.research.google.com/github/Praxis-QR/BDSN/blob/main/BDSN_SparkSQL_OLAP.ipynb\" target=\"_parent\"><img src=\"https://colab.research.google.com/assets/colab-badge.svg\" alt=\"Open In Colab\"/></a>"
      ]
    },
    {
      "cell_type": "markdown",
      "metadata": {
        "id": "z7Rb-Atviw9f"
      },
      "source": [
        "![alt text](https://github.com/Praxis-QR/RDWH/raw/main/images/YantraJaalBanner.png)<br>\n",
        "\n",
        "\n",
        "<hr>\n",
        "\n",
        "[Prithwis Mukerjee](http://www.linkedin.com/in/prithwis)<br>"
      ]
    },
    {
      "cell_type": "code",
      "source": [
        "from datetime import datetime\n",
        "import pytz\n",
        "print('ॐ श्री सरस्वत्यै नमः',datetime.now(pytz.timezone('Asia/Calcutta')))\n",
        "!python --version\n",
        "!lsb_release -a"
      ],
      "metadata": {
        "colab": {
          "base_uri": "https://localhost:8080/"
        },
        "id": "Why176oMua9Y",
        "outputId": "706f34bd-e9e7-4224-9820-c55a129f52f4"
      },
      "execution_count": 1,
      "outputs": [
        {
          "output_type": "stream",
          "name": "stdout",
          "text": [
            "ॐ श्री सरस्वत्यै नमः 2023-11-26 15:17:23.537982+05:30\n",
            "Python 3.10.12\n",
            "No LSB modules are available.\n",
            "Distributor ID:\tUbuntu\n",
            "Description:\tUbuntu 22.04.3 LTS\n",
            "Release:\t22.04\n",
            "Codename:\tjammy\n"
          ]
        }
      ]
    },
    {
      "cell_type": "code",
      "source": [
        "#import numpy as np\n",
        "import pandas as pd\n",
        "#import pyarrow.csv as pv\n",
        "#import pyarrow.parquet as pq"
      ],
      "metadata": {
        "id": "EQCfWBLcTU3N"
      },
      "execution_count": 2,
      "outputs": []
    },
    {
      "cell_type": "markdown",
      "metadata": {
        "id": "EangLEFRBHZW"
      },
      "source": [
        "#SuperStore Data\n",
        "Super Store Order Data https://drive.google.com/file/d/13MKOpo8iD-tMkeMLw-4IPFi5-xWhmqFZ/view?usp=sharing <br>\n",
        "Original Data from [Tableau](https://community.tableau.com/docs/DOC-1236)"
      ]
    },
    {
      "cell_type": "code",
      "metadata": {
        "id": "VAodtiYwA9Rs"
      },
      "source": [
        "#!wget -O SS_Orders2.csv 'https://drive.google.com/uc?export=download&id=13MKOpo8iD-tMkeMLw-4IPFi5-xWhmqFZ'\n",
        "#!gdown https://drive.google.com/uc?id=13MKOpo8iD-tMkeMLw-4IPFi5-xWhmqFZ\n",
        "#!wget -q -O Orders.csv 'https://raw.githubusercontent.com/Praxis-QR/RDWH/main/data/SS_Orders.csv'\n",
        "!wget -q -O Orders.zip 'https://github.com/Praxis-QR/PythonForManagers/raw/main/Data/SuperStoreSalesKaggle.zip'"
      ],
      "execution_count": 3,
      "outputs": []
    },
    {
      "cell_type": "markdown",
      "source": [
        "#Pandas - Benchmark"
      ],
      "metadata": {
        "id": "5z8XHxX_B86x"
      }
    },
    {
      "cell_type": "markdown",
      "source": [
        "##Data Cleaning with Pandas"
      ],
      "metadata": {
        "id": "jHuJBiouu2cU"
      }
    },
    {
      "cell_type": "code",
      "metadata": {
        "id": "ScQV9OQSCVEi",
        "colab": {
          "base_uri": "https://localhost:8080/"
        },
        "outputId": "3f53b9d7-4481-4c1d-f328-e7198b87357e"
      },
      "source": [
        "df = pd.read_csv('Orders.zip', delimiter = ',')\n",
        "df.info()\n",
        "\n",
        "# order_date, ship_date, sales have been incorrectly formatted as string\n",
        "# year has been incorrectly formatted as integer"
      ],
      "execution_count": 4,
      "outputs": [
        {
          "output_type": "stream",
          "name": "stdout",
          "text": [
            "<class 'pandas.core.frame.DataFrame'>\n",
            "RangeIndex: 51290 entries, 0 to 51289\n",
            "Data columns (total 21 columns):\n",
            " #   Column          Non-Null Count  Dtype  \n",
            "---  ------          --------------  -----  \n",
            " 0   order_id        51290 non-null  object \n",
            " 1   order_date      51290 non-null  object \n",
            " 2   ship_date       51290 non-null  object \n",
            " 3   ship_mode       51290 non-null  object \n",
            " 4   customer_name   51290 non-null  object \n",
            " 5   segment         51290 non-null  object \n",
            " 6   state           51290 non-null  object \n",
            " 7   country         51290 non-null  object \n",
            " 8   market          51290 non-null  object \n",
            " 9   region          51290 non-null  object \n",
            " 10  product_id      51290 non-null  object \n",
            " 11  category        51290 non-null  object \n",
            " 12  sub_category    51290 non-null  object \n",
            " 13  product_name    51290 non-null  object \n",
            " 14  sales           51290 non-null  object \n",
            " 15  quantity        51290 non-null  int64  \n",
            " 16  discount        51290 non-null  float64\n",
            " 17  profit          51290 non-null  float64\n",
            " 18  shipping_cost   51290 non-null  float64\n",
            " 19  order_priority  51290 non-null  object \n",
            " 20  year            51290 non-null  int64  \n",
            "dtypes: float64(3), int64(2), object(16)\n",
            "memory usage: 8.2+ MB\n"
          ]
        }
      ]
    },
    {
      "cell_type": "markdown",
      "source": [
        "### Sales, year needs to be fixed"
      ],
      "metadata": {
        "id": "MYPhzTf4tQ31"
      }
    },
    {
      "cell_type": "code",
      "source": [
        "# df.sales has been automatically interpreted as string because of the presence of commma,\n",
        "# so replace comma and convert to numeric\n",
        "# convert year to string\n",
        "#\n",
        "\n",
        "df['sales'] = df['sales'].str.replace(',', '')    # replace , with blank\n",
        "df['sales'] = pd.to_numeric(df['sales'])          # convert column to numeric\n",
        "df['year'] = df['year'].astype(str)          # convert column to string"
      ],
      "metadata": {
        "id": "BO6g2Du1J79Q"
      },
      "execution_count": 5,
      "outputs": []
    },
    {
      "cell_type": "code",
      "source": [
        "#df.info()"
      ],
      "metadata": {
        "id": "mlVQ0phmuVW7"
      },
      "execution_count": 6,
      "outputs": []
    },
    {
      "cell_type": "markdown",
      "source": [
        "###Date Problems"
      ],
      "metadata": {
        "id": "hKlP8WNwtGL-"
      }
    },
    {
      "cell_type": "code",
      "source": [
        "# what is the first and last order date ?\n",
        "# we have four years of data, but date format changes ...\n",
        "#\n",
        "df['order_date'].describe\n",
        "#df['ship_date'].describe"
      ],
      "metadata": {
        "colab": {
          "base_uri": "https://localhost:8080/"
        },
        "id": "HYtQGRWdte2k",
        "outputId": "b69c546a-aa14-4971-ac02-cf5fceb371d4"
      },
      "execution_count": 7,
      "outputs": [
        {
          "output_type": "execute_result",
          "data": {
            "text/plain": [
              "<bound method NDFrame.describe of 0          1/1/2011\n",
              "1          1/1/2011\n",
              "2          1/1/2011\n",
              "3          1/1/2011\n",
              "4          1/1/2011\n",
              "            ...    \n",
              "51285    31-12-2014\n",
              "51286    31-12-2014\n",
              "51287    31-12-2014\n",
              "51288    31-12-2014\n",
              "51289    31-12-2014\n",
              "Name: order_date, Length: 51290, dtype: object>"
            ]
          },
          "metadata": {},
          "execution_count": 7
        }
      ]
    },
    {
      "cell_type": "code",
      "source": [
        "# Some of the dates are string like dd/mm/yyyy while others are dd-mm-yyyy\n",
        "# this will cause problems in converting string to real dates\n",
        "# So we move all dd-mm-yyyy to dd/mm/yyyy -- could have been the other way round also\n",
        "#\n",
        "\n",
        "df['order_date'] = df['order_date'].str.replace('-','/')\n",
        "df['ship_date'] = df['ship_date'].str.replace('-','/')\n",
        "\n",
        "# convert all dates to dd/mm/yyyy format\n",
        "#\n",
        "df['ship_date'] = pd.to_datetime(df['ship_date'],format='%d/%m/%Y')\n",
        "df['order_date'] = pd.to_datetime(df['order_date'],format='%d/%m/%Y')\n",
        "#df['order_date'].describe"
      ],
      "metadata": {
        "id": "JsqY2sc3tXEG"
      },
      "execution_count": 8,
      "outputs": []
    },
    {
      "cell_type": "code",
      "source": [
        "# product_name contains comma, doesnt really matter\n",
        "#df['product_name'] = df['product_name'].str.replace('\"','')\n"
      ],
      "metadata": {
        "id": "qBEO_xo-DqeS"
      },
      "execution_count": 9,
      "outputs": []
    },
    {
      "cell_type": "code",
      "source": [
        "df.info()"
      ],
      "metadata": {
        "colab": {
          "base_uri": "https://localhost:8080/"
        },
        "id": "xpy8UJc6uTnk",
        "outputId": "637f226d-a081-484e-9c1e-a42931583640"
      },
      "execution_count": 10,
      "outputs": [
        {
          "output_type": "stream",
          "name": "stdout",
          "text": [
            "<class 'pandas.core.frame.DataFrame'>\n",
            "RangeIndex: 51290 entries, 0 to 51289\n",
            "Data columns (total 21 columns):\n",
            " #   Column          Non-Null Count  Dtype         \n",
            "---  ------          --------------  -----         \n",
            " 0   order_id        51290 non-null  object        \n",
            " 1   order_date      51290 non-null  datetime64[ns]\n",
            " 2   ship_date       51290 non-null  datetime64[ns]\n",
            " 3   ship_mode       51290 non-null  object        \n",
            " 4   customer_name   51290 non-null  object        \n",
            " 5   segment         51290 non-null  object        \n",
            " 6   state           51290 non-null  object        \n",
            " 7   country         51290 non-null  object        \n",
            " 8   market          51290 non-null  object        \n",
            " 9   region          51290 non-null  object        \n",
            " 10  product_id      51290 non-null  object        \n",
            " 11  category        51290 non-null  object        \n",
            " 12  sub_category    51290 non-null  object        \n",
            " 13  product_name    51290 non-null  object        \n",
            " 14  sales           51290 non-null  int64         \n",
            " 15  quantity        51290 non-null  int64         \n",
            " 16  discount        51290 non-null  float64       \n",
            " 17  profit          51290 non-null  float64       \n",
            " 18  shipping_cost   51290 non-null  float64       \n",
            " 19  order_priority  51290 non-null  object        \n",
            " 20  year            51290 non-null  object        \n",
            "dtypes: datetime64[ns](2), float64(3), int64(2), object(14)\n",
            "memory usage: 8.2+ MB\n"
          ]
        }
      ]
    },
    {
      "cell_type": "code",
      "source": [
        "df.to_csv('Orders.csv', index=False)"
      ],
      "metadata": {
        "id": "2fVSKQ7Mz9Jd"
      },
      "execution_count": 11,
      "outputs": []
    },
    {
      "cell_type": "markdown",
      "source": [
        "##Pandas Pivot"
      ],
      "metadata": {
        "id": "pFAKHtCM-wyC"
      }
    },
    {
      "cell_type": "code",
      "source": [
        "pd.pivot_table(df, index = 'segment', columns = 'year', values = 'sales', aggfunc = 'sum', margins = True)"
      ],
      "metadata": {
        "colab": {
          "base_uri": "https://localhost:8080/",
          "height": 206
        },
        "id": "-MzFH5vb-zGG",
        "outputId": "7096db3e-ae08-440e-ac95-10b63df4628a"
      },
      "execution_count": 12,
      "outputs": [
        {
          "output_type": "execute_result",
          "data": {
            "text/plain": [
              "year            2011     2012     2013     2014       All\n",
              "segment                                                  \n",
              "Consumer     1173701  1463804  1729284  2141352   6508141\n",
              "Corporate     691685   774450  1065033  1293640   3824808\n",
              "Home Office   394125   439239   611543   865049   2309956\n",
              "All          2259511  2677493  3405860  4300041  12642905"
            ],
            "text/html": [
              "\n",
              "  <div id=\"df-b8d1c239-d461-4d2c-92e6-3cfc28f5ad0c\" class=\"colab-df-container\">\n",
              "    <div>\n",
              "<style scoped>\n",
              "    .dataframe tbody tr th:only-of-type {\n",
              "        vertical-align: middle;\n",
              "    }\n",
              "\n",
              "    .dataframe tbody tr th {\n",
              "        vertical-align: top;\n",
              "    }\n",
              "\n",
              "    .dataframe thead th {\n",
              "        text-align: right;\n",
              "    }\n",
              "</style>\n",
              "<table border=\"1\" class=\"dataframe\">\n",
              "  <thead>\n",
              "    <tr style=\"text-align: right;\">\n",
              "      <th>year</th>\n",
              "      <th>2011</th>\n",
              "      <th>2012</th>\n",
              "      <th>2013</th>\n",
              "      <th>2014</th>\n",
              "      <th>All</th>\n",
              "    </tr>\n",
              "    <tr>\n",
              "      <th>segment</th>\n",
              "      <th></th>\n",
              "      <th></th>\n",
              "      <th></th>\n",
              "      <th></th>\n",
              "      <th></th>\n",
              "    </tr>\n",
              "  </thead>\n",
              "  <tbody>\n",
              "    <tr>\n",
              "      <th>Consumer</th>\n",
              "      <td>1173701</td>\n",
              "      <td>1463804</td>\n",
              "      <td>1729284</td>\n",
              "      <td>2141352</td>\n",
              "      <td>6508141</td>\n",
              "    </tr>\n",
              "    <tr>\n",
              "      <th>Corporate</th>\n",
              "      <td>691685</td>\n",
              "      <td>774450</td>\n",
              "      <td>1065033</td>\n",
              "      <td>1293640</td>\n",
              "      <td>3824808</td>\n",
              "    </tr>\n",
              "    <tr>\n",
              "      <th>Home Office</th>\n",
              "      <td>394125</td>\n",
              "      <td>439239</td>\n",
              "      <td>611543</td>\n",
              "      <td>865049</td>\n",
              "      <td>2309956</td>\n",
              "    </tr>\n",
              "    <tr>\n",
              "      <th>All</th>\n",
              "      <td>2259511</td>\n",
              "      <td>2677493</td>\n",
              "      <td>3405860</td>\n",
              "      <td>4300041</td>\n",
              "      <td>12642905</td>\n",
              "    </tr>\n",
              "  </tbody>\n",
              "</table>\n",
              "</div>\n",
              "    <div class=\"colab-df-buttons\">\n",
              "\n",
              "  <div class=\"colab-df-container\">\n",
              "    <button class=\"colab-df-convert\" onclick=\"convertToInteractive('df-b8d1c239-d461-4d2c-92e6-3cfc28f5ad0c')\"\n",
              "            title=\"Convert this dataframe to an interactive table.\"\n",
              "            style=\"display:none;\">\n",
              "\n",
              "  <svg xmlns=\"http://www.w3.org/2000/svg\" height=\"24px\" viewBox=\"0 -960 960 960\">\n",
              "    <path d=\"M120-120v-720h720v720H120Zm60-500h600v-160H180v160Zm220 220h160v-160H400v160Zm0 220h160v-160H400v160ZM180-400h160v-160H180v160Zm440 0h160v-160H620v160ZM180-180h160v-160H180v160Zm440 0h160v-160H620v160Z\"/>\n",
              "  </svg>\n",
              "    </button>\n",
              "\n",
              "  <style>\n",
              "    .colab-df-container {\n",
              "      display:flex;\n",
              "      gap: 12px;\n",
              "    }\n",
              "\n",
              "    .colab-df-convert {\n",
              "      background-color: #E8F0FE;\n",
              "      border: none;\n",
              "      border-radius: 50%;\n",
              "      cursor: pointer;\n",
              "      display: none;\n",
              "      fill: #1967D2;\n",
              "      height: 32px;\n",
              "      padding: 0 0 0 0;\n",
              "      width: 32px;\n",
              "    }\n",
              "\n",
              "    .colab-df-convert:hover {\n",
              "      background-color: #E2EBFA;\n",
              "      box-shadow: 0px 1px 2px rgba(60, 64, 67, 0.3), 0px 1px 3px 1px rgba(60, 64, 67, 0.15);\n",
              "      fill: #174EA6;\n",
              "    }\n",
              "\n",
              "    .colab-df-buttons div {\n",
              "      margin-bottom: 4px;\n",
              "    }\n",
              "\n",
              "    [theme=dark] .colab-df-convert {\n",
              "      background-color: #3B4455;\n",
              "      fill: #D2E3FC;\n",
              "    }\n",
              "\n",
              "    [theme=dark] .colab-df-convert:hover {\n",
              "      background-color: #434B5C;\n",
              "      box-shadow: 0px 1px 3px 1px rgba(0, 0, 0, 0.15);\n",
              "      filter: drop-shadow(0px 1px 2px rgba(0, 0, 0, 0.3));\n",
              "      fill: #FFFFFF;\n",
              "    }\n",
              "  </style>\n",
              "\n",
              "    <script>\n",
              "      const buttonEl =\n",
              "        document.querySelector('#df-b8d1c239-d461-4d2c-92e6-3cfc28f5ad0c button.colab-df-convert');\n",
              "      buttonEl.style.display =\n",
              "        google.colab.kernel.accessAllowed ? 'block' : 'none';\n",
              "\n",
              "      async function convertToInteractive(key) {\n",
              "        const element = document.querySelector('#df-b8d1c239-d461-4d2c-92e6-3cfc28f5ad0c');\n",
              "        const dataTable =\n",
              "          await google.colab.kernel.invokeFunction('convertToInteractive',\n",
              "                                                    [key], {});\n",
              "        if (!dataTable) return;\n",
              "\n",
              "        const docLinkHtml = 'Like what you see? Visit the ' +\n",
              "          '<a target=\"_blank\" href=https://colab.research.google.com/notebooks/data_table.ipynb>data table notebook</a>'\n",
              "          + ' to learn more about interactive tables.';\n",
              "        element.innerHTML = '';\n",
              "        dataTable['output_type'] = 'display_data';\n",
              "        await google.colab.output.renderOutput(dataTable, element);\n",
              "        const docLink = document.createElement('div');\n",
              "        docLink.innerHTML = docLinkHtml;\n",
              "        element.appendChild(docLink);\n",
              "      }\n",
              "    </script>\n",
              "  </div>\n",
              "\n",
              "\n",
              "<div id=\"df-e143c9ff-0b8a-46b9-9dec-72b0c3354d0b\">\n",
              "  <button class=\"colab-df-quickchart\" onclick=\"quickchart('df-e143c9ff-0b8a-46b9-9dec-72b0c3354d0b')\"\n",
              "            title=\"Suggest charts\"\n",
              "            style=\"display:none;\">\n",
              "\n",
              "<svg xmlns=\"http://www.w3.org/2000/svg\" height=\"24px\"viewBox=\"0 0 24 24\"\n",
              "     width=\"24px\">\n",
              "    <g>\n",
              "        <path d=\"M19 3H5c-1.1 0-2 .9-2 2v14c0 1.1.9 2 2 2h14c1.1 0 2-.9 2-2V5c0-1.1-.9-2-2-2zM9 17H7v-7h2v7zm4 0h-2V7h2v10zm4 0h-2v-4h2v4z\"/>\n",
              "    </g>\n",
              "</svg>\n",
              "  </button>\n",
              "\n",
              "<style>\n",
              "  .colab-df-quickchart {\n",
              "      --bg-color: #E8F0FE;\n",
              "      --fill-color: #1967D2;\n",
              "      --hover-bg-color: #E2EBFA;\n",
              "      --hover-fill-color: #174EA6;\n",
              "      --disabled-fill-color: #AAA;\n",
              "      --disabled-bg-color: #DDD;\n",
              "  }\n",
              "\n",
              "  [theme=dark] .colab-df-quickchart {\n",
              "      --bg-color: #3B4455;\n",
              "      --fill-color: #D2E3FC;\n",
              "      --hover-bg-color: #434B5C;\n",
              "      --hover-fill-color: #FFFFFF;\n",
              "      --disabled-bg-color: #3B4455;\n",
              "      --disabled-fill-color: #666;\n",
              "  }\n",
              "\n",
              "  .colab-df-quickchart {\n",
              "    background-color: var(--bg-color);\n",
              "    border: none;\n",
              "    border-radius: 50%;\n",
              "    cursor: pointer;\n",
              "    display: none;\n",
              "    fill: var(--fill-color);\n",
              "    height: 32px;\n",
              "    padding: 0;\n",
              "    width: 32px;\n",
              "  }\n",
              "\n",
              "  .colab-df-quickchart:hover {\n",
              "    background-color: var(--hover-bg-color);\n",
              "    box-shadow: 0 1px 2px rgba(60, 64, 67, 0.3), 0 1px 3px 1px rgba(60, 64, 67, 0.15);\n",
              "    fill: var(--button-hover-fill-color);\n",
              "  }\n",
              "\n",
              "  .colab-df-quickchart-complete:disabled,\n",
              "  .colab-df-quickchart-complete:disabled:hover {\n",
              "    background-color: var(--disabled-bg-color);\n",
              "    fill: var(--disabled-fill-color);\n",
              "    box-shadow: none;\n",
              "  }\n",
              "\n",
              "  .colab-df-spinner {\n",
              "    border: 2px solid var(--fill-color);\n",
              "    border-color: transparent;\n",
              "    border-bottom-color: var(--fill-color);\n",
              "    animation:\n",
              "      spin 1s steps(1) infinite;\n",
              "  }\n",
              "\n",
              "  @keyframes spin {\n",
              "    0% {\n",
              "      border-color: transparent;\n",
              "      border-bottom-color: var(--fill-color);\n",
              "      border-left-color: var(--fill-color);\n",
              "    }\n",
              "    20% {\n",
              "      border-color: transparent;\n",
              "      border-left-color: var(--fill-color);\n",
              "      border-top-color: var(--fill-color);\n",
              "    }\n",
              "    30% {\n",
              "      border-color: transparent;\n",
              "      border-left-color: var(--fill-color);\n",
              "      border-top-color: var(--fill-color);\n",
              "      border-right-color: var(--fill-color);\n",
              "    }\n",
              "    40% {\n",
              "      border-color: transparent;\n",
              "      border-right-color: var(--fill-color);\n",
              "      border-top-color: var(--fill-color);\n",
              "    }\n",
              "    60% {\n",
              "      border-color: transparent;\n",
              "      border-right-color: var(--fill-color);\n",
              "    }\n",
              "    80% {\n",
              "      border-color: transparent;\n",
              "      border-right-color: var(--fill-color);\n",
              "      border-bottom-color: var(--fill-color);\n",
              "    }\n",
              "    90% {\n",
              "      border-color: transparent;\n",
              "      border-bottom-color: var(--fill-color);\n",
              "    }\n",
              "  }\n",
              "</style>\n",
              "\n",
              "  <script>\n",
              "    async function quickchart(key) {\n",
              "      const quickchartButtonEl =\n",
              "        document.querySelector('#' + key + ' button');\n",
              "      quickchartButtonEl.disabled = true;  // To prevent multiple clicks.\n",
              "      quickchartButtonEl.classList.add('colab-df-spinner');\n",
              "      try {\n",
              "        const charts = await google.colab.kernel.invokeFunction(\n",
              "            'suggestCharts', [key], {});\n",
              "      } catch (error) {\n",
              "        console.error('Error during call to suggestCharts:', error);\n",
              "      }\n",
              "      quickchartButtonEl.classList.remove('colab-df-spinner');\n",
              "      quickchartButtonEl.classList.add('colab-df-quickchart-complete');\n",
              "    }\n",
              "    (() => {\n",
              "      let quickchartButtonEl =\n",
              "        document.querySelector('#df-e143c9ff-0b8a-46b9-9dec-72b0c3354d0b button');\n",
              "      quickchartButtonEl.style.display =\n",
              "        google.colab.kernel.accessAllowed ? 'block' : 'none';\n",
              "    })();\n",
              "  </script>\n",
              "</div>\n",
              "    </div>\n",
              "  </div>\n"
            ]
          },
          "metadata": {},
          "execution_count": 12
        }
      ]
    },
    {
      "cell_type": "code",
      "source": [
        "pd.pivot_table(df, index = 'segment', columns = 'category', values = 'quantity', aggfunc = 'sum', margins = True)"
      ],
      "metadata": {
        "colab": {
          "base_uri": "https://localhost:8080/",
          "height": 206
        },
        "id": "Si4vnydV_Q0c",
        "outputId": "adac6927-cbcf-415a-88f0-11a7b5716fb5"
      },
      "execution_count": 13,
      "outputs": [
        {
          "output_type": "execute_result",
          "data": {
            "text/plain": [
              "category     Furniture  Office Supplies  Technology     All\n",
              "segment                                                    \n",
              "Consumer         18002            56025       18130   92157\n",
              "Corporate        10735            32236       10594   53565\n",
              "Home Office       6217            19921        6452   32590\n",
              "All              34954           108182       35176  178312"
            ],
            "text/html": [
              "\n",
              "  <div id=\"df-f5b1a898-42aa-410e-bc8e-dfb2b01dcd72\" class=\"colab-df-container\">\n",
              "    <div>\n",
              "<style scoped>\n",
              "    .dataframe tbody tr th:only-of-type {\n",
              "        vertical-align: middle;\n",
              "    }\n",
              "\n",
              "    .dataframe tbody tr th {\n",
              "        vertical-align: top;\n",
              "    }\n",
              "\n",
              "    .dataframe thead th {\n",
              "        text-align: right;\n",
              "    }\n",
              "</style>\n",
              "<table border=\"1\" class=\"dataframe\">\n",
              "  <thead>\n",
              "    <tr style=\"text-align: right;\">\n",
              "      <th>category</th>\n",
              "      <th>Furniture</th>\n",
              "      <th>Office Supplies</th>\n",
              "      <th>Technology</th>\n",
              "      <th>All</th>\n",
              "    </tr>\n",
              "    <tr>\n",
              "      <th>segment</th>\n",
              "      <th></th>\n",
              "      <th></th>\n",
              "      <th></th>\n",
              "      <th></th>\n",
              "    </tr>\n",
              "  </thead>\n",
              "  <tbody>\n",
              "    <tr>\n",
              "      <th>Consumer</th>\n",
              "      <td>18002</td>\n",
              "      <td>56025</td>\n",
              "      <td>18130</td>\n",
              "      <td>92157</td>\n",
              "    </tr>\n",
              "    <tr>\n",
              "      <th>Corporate</th>\n",
              "      <td>10735</td>\n",
              "      <td>32236</td>\n",
              "      <td>10594</td>\n",
              "      <td>53565</td>\n",
              "    </tr>\n",
              "    <tr>\n",
              "      <th>Home Office</th>\n",
              "      <td>6217</td>\n",
              "      <td>19921</td>\n",
              "      <td>6452</td>\n",
              "      <td>32590</td>\n",
              "    </tr>\n",
              "    <tr>\n",
              "      <th>All</th>\n",
              "      <td>34954</td>\n",
              "      <td>108182</td>\n",
              "      <td>35176</td>\n",
              "      <td>178312</td>\n",
              "    </tr>\n",
              "  </tbody>\n",
              "</table>\n",
              "</div>\n",
              "    <div class=\"colab-df-buttons\">\n",
              "\n",
              "  <div class=\"colab-df-container\">\n",
              "    <button class=\"colab-df-convert\" onclick=\"convertToInteractive('df-f5b1a898-42aa-410e-bc8e-dfb2b01dcd72')\"\n",
              "            title=\"Convert this dataframe to an interactive table.\"\n",
              "            style=\"display:none;\">\n",
              "\n",
              "  <svg xmlns=\"http://www.w3.org/2000/svg\" height=\"24px\" viewBox=\"0 -960 960 960\">\n",
              "    <path d=\"M120-120v-720h720v720H120Zm60-500h600v-160H180v160Zm220 220h160v-160H400v160Zm0 220h160v-160H400v160ZM180-400h160v-160H180v160Zm440 0h160v-160H620v160ZM180-180h160v-160H180v160Zm440 0h160v-160H620v160Z\"/>\n",
              "  </svg>\n",
              "    </button>\n",
              "\n",
              "  <style>\n",
              "    .colab-df-container {\n",
              "      display:flex;\n",
              "      gap: 12px;\n",
              "    }\n",
              "\n",
              "    .colab-df-convert {\n",
              "      background-color: #E8F0FE;\n",
              "      border: none;\n",
              "      border-radius: 50%;\n",
              "      cursor: pointer;\n",
              "      display: none;\n",
              "      fill: #1967D2;\n",
              "      height: 32px;\n",
              "      padding: 0 0 0 0;\n",
              "      width: 32px;\n",
              "    }\n",
              "\n",
              "    .colab-df-convert:hover {\n",
              "      background-color: #E2EBFA;\n",
              "      box-shadow: 0px 1px 2px rgba(60, 64, 67, 0.3), 0px 1px 3px 1px rgba(60, 64, 67, 0.15);\n",
              "      fill: #174EA6;\n",
              "    }\n",
              "\n",
              "    .colab-df-buttons div {\n",
              "      margin-bottom: 4px;\n",
              "    }\n",
              "\n",
              "    [theme=dark] .colab-df-convert {\n",
              "      background-color: #3B4455;\n",
              "      fill: #D2E3FC;\n",
              "    }\n",
              "\n",
              "    [theme=dark] .colab-df-convert:hover {\n",
              "      background-color: #434B5C;\n",
              "      box-shadow: 0px 1px 3px 1px rgba(0, 0, 0, 0.15);\n",
              "      filter: drop-shadow(0px 1px 2px rgba(0, 0, 0, 0.3));\n",
              "      fill: #FFFFFF;\n",
              "    }\n",
              "  </style>\n",
              "\n",
              "    <script>\n",
              "      const buttonEl =\n",
              "        document.querySelector('#df-f5b1a898-42aa-410e-bc8e-dfb2b01dcd72 button.colab-df-convert');\n",
              "      buttonEl.style.display =\n",
              "        google.colab.kernel.accessAllowed ? 'block' : 'none';\n",
              "\n",
              "      async function convertToInteractive(key) {\n",
              "        const element = document.querySelector('#df-f5b1a898-42aa-410e-bc8e-dfb2b01dcd72');\n",
              "        const dataTable =\n",
              "          await google.colab.kernel.invokeFunction('convertToInteractive',\n",
              "                                                    [key], {});\n",
              "        if (!dataTable) return;\n",
              "\n",
              "        const docLinkHtml = 'Like what you see? Visit the ' +\n",
              "          '<a target=\"_blank\" href=https://colab.research.google.com/notebooks/data_table.ipynb>data table notebook</a>'\n",
              "          + ' to learn more about interactive tables.';\n",
              "        element.innerHTML = '';\n",
              "        dataTable['output_type'] = 'display_data';\n",
              "        await google.colab.output.renderOutput(dataTable, element);\n",
              "        const docLink = document.createElement('div');\n",
              "        docLink.innerHTML = docLinkHtml;\n",
              "        element.appendChild(docLink);\n",
              "      }\n",
              "    </script>\n",
              "  </div>\n",
              "\n",
              "\n",
              "<div id=\"df-e3c5da9f-8c19-4b80-aad7-e92698fe4b5d\">\n",
              "  <button class=\"colab-df-quickchart\" onclick=\"quickchart('df-e3c5da9f-8c19-4b80-aad7-e92698fe4b5d')\"\n",
              "            title=\"Suggest charts\"\n",
              "            style=\"display:none;\">\n",
              "\n",
              "<svg xmlns=\"http://www.w3.org/2000/svg\" height=\"24px\"viewBox=\"0 0 24 24\"\n",
              "     width=\"24px\">\n",
              "    <g>\n",
              "        <path d=\"M19 3H5c-1.1 0-2 .9-2 2v14c0 1.1.9 2 2 2h14c1.1 0 2-.9 2-2V5c0-1.1-.9-2-2-2zM9 17H7v-7h2v7zm4 0h-2V7h2v10zm4 0h-2v-4h2v4z\"/>\n",
              "    </g>\n",
              "</svg>\n",
              "  </button>\n",
              "\n",
              "<style>\n",
              "  .colab-df-quickchart {\n",
              "      --bg-color: #E8F0FE;\n",
              "      --fill-color: #1967D2;\n",
              "      --hover-bg-color: #E2EBFA;\n",
              "      --hover-fill-color: #174EA6;\n",
              "      --disabled-fill-color: #AAA;\n",
              "      --disabled-bg-color: #DDD;\n",
              "  }\n",
              "\n",
              "  [theme=dark] .colab-df-quickchart {\n",
              "      --bg-color: #3B4455;\n",
              "      --fill-color: #D2E3FC;\n",
              "      --hover-bg-color: #434B5C;\n",
              "      --hover-fill-color: #FFFFFF;\n",
              "      --disabled-bg-color: #3B4455;\n",
              "      --disabled-fill-color: #666;\n",
              "  }\n",
              "\n",
              "  .colab-df-quickchart {\n",
              "    background-color: var(--bg-color);\n",
              "    border: none;\n",
              "    border-radius: 50%;\n",
              "    cursor: pointer;\n",
              "    display: none;\n",
              "    fill: var(--fill-color);\n",
              "    height: 32px;\n",
              "    padding: 0;\n",
              "    width: 32px;\n",
              "  }\n",
              "\n",
              "  .colab-df-quickchart:hover {\n",
              "    background-color: var(--hover-bg-color);\n",
              "    box-shadow: 0 1px 2px rgba(60, 64, 67, 0.3), 0 1px 3px 1px rgba(60, 64, 67, 0.15);\n",
              "    fill: var(--button-hover-fill-color);\n",
              "  }\n",
              "\n",
              "  .colab-df-quickchart-complete:disabled,\n",
              "  .colab-df-quickchart-complete:disabled:hover {\n",
              "    background-color: var(--disabled-bg-color);\n",
              "    fill: var(--disabled-fill-color);\n",
              "    box-shadow: none;\n",
              "  }\n",
              "\n",
              "  .colab-df-spinner {\n",
              "    border: 2px solid var(--fill-color);\n",
              "    border-color: transparent;\n",
              "    border-bottom-color: var(--fill-color);\n",
              "    animation:\n",
              "      spin 1s steps(1) infinite;\n",
              "  }\n",
              "\n",
              "  @keyframes spin {\n",
              "    0% {\n",
              "      border-color: transparent;\n",
              "      border-bottom-color: var(--fill-color);\n",
              "      border-left-color: var(--fill-color);\n",
              "    }\n",
              "    20% {\n",
              "      border-color: transparent;\n",
              "      border-left-color: var(--fill-color);\n",
              "      border-top-color: var(--fill-color);\n",
              "    }\n",
              "    30% {\n",
              "      border-color: transparent;\n",
              "      border-left-color: var(--fill-color);\n",
              "      border-top-color: var(--fill-color);\n",
              "      border-right-color: var(--fill-color);\n",
              "    }\n",
              "    40% {\n",
              "      border-color: transparent;\n",
              "      border-right-color: var(--fill-color);\n",
              "      border-top-color: var(--fill-color);\n",
              "    }\n",
              "    60% {\n",
              "      border-color: transparent;\n",
              "      border-right-color: var(--fill-color);\n",
              "    }\n",
              "    80% {\n",
              "      border-color: transparent;\n",
              "      border-right-color: var(--fill-color);\n",
              "      border-bottom-color: var(--fill-color);\n",
              "    }\n",
              "    90% {\n",
              "      border-color: transparent;\n",
              "      border-bottom-color: var(--fill-color);\n",
              "    }\n",
              "  }\n",
              "</style>\n",
              "\n",
              "  <script>\n",
              "    async function quickchart(key) {\n",
              "      const quickchartButtonEl =\n",
              "        document.querySelector('#' + key + ' button');\n",
              "      quickchartButtonEl.disabled = true;  // To prevent multiple clicks.\n",
              "      quickchartButtonEl.classList.add('colab-df-spinner');\n",
              "      try {\n",
              "        const charts = await google.colab.kernel.invokeFunction(\n",
              "            'suggestCharts', [key], {});\n",
              "      } catch (error) {\n",
              "        console.error('Error during call to suggestCharts:', error);\n",
              "      }\n",
              "      quickchartButtonEl.classList.remove('colab-df-spinner');\n",
              "      quickchartButtonEl.classList.add('colab-df-quickchart-complete');\n",
              "    }\n",
              "    (() => {\n",
              "      let quickchartButtonEl =\n",
              "        document.querySelector('#df-e3c5da9f-8c19-4b80-aad7-e92698fe4b5d button');\n",
              "      quickchartButtonEl.style.display =\n",
              "        google.colab.kernel.accessAllowed ? 'block' : 'none';\n",
              "    })();\n",
              "  </script>\n",
              "</div>\n",
              "    </div>\n",
              "  </div>\n"
            ]
          },
          "metadata": {},
          "execution_count": 13
        }
      ]
    },
    {
      "cell_type": "markdown",
      "source": [
        "#Spark\n",
        "https://davidadrian.cc/python-hadoop/"
      ],
      "metadata": {
        "id": "4BMBOUtf4-Wd"
      }
    },
    {
      "cell_type": "code",
      "source": [
        "!pip3 -q install pyspark"
      ],
      "metadata": {
        "id": "hel81l4t5Age",
        "outputId": "7a2365a3-6f8a-4403-ac46-790db1336779",
        "colab": {
          "base_uri": "https://localhost:8080/"
        }
      },
      "execution_count": 14,
      "outputs": [
        {
          "output_type": "stream",
          "name": "stdout",
          "text": [
            "\u001b[2K     \u001b[90m━━━━━━━━━━━━━━━━━━━━━━━━━━━━━━━━━━━━━━━━\u001b[0m \u001b[32m316.9/316.9 MB\u001b[0m \u001b[31m4.5 MB/s\u001b[0m eta \u001b[36m0:00:00\u001b[0m\n",
            "\u001b[?25h  Preparing metadata (setup.py) ... \u001b[?25l\u001b[?25hdone\n",
            "  Building wheel for pyspark (setup.py) ... \u001b[?25l\u001b[?25hdone\n"
          ]
        }
      ]
    },
    {
      "cell_type": "code",
      "source": [
        "from pyspark.sql import SparkSession\n",
        "\n",
        "#https://spark.apache.org/docs/latest/sql-ref-datetime-pattern.html\n",
        "from pyspark.sql.functions import col, to_date\n",
        "from pyspark.sql.functions import regexp_replace"
      ],
      "metadata": {
        "id": "e9hwoMOMCp7U"
      },
      "execution_count": 15,
      "outputs": []
    },
    {
      "cell_type": "code",
      "source": [
        "#spark9 = SparkSession.builder.master(\"local[*]\").getOrCreate()\n",
        "# note UI port switched from default 4040 to 4050 to avoid clash with ngrok\n",
        "spark9 = SparkSession.builder.master(\"local[*]\").config('spark.ui.port', '4050').getOrCreate()"
      ],
      "metadata": {
        "id": "-N_I8Z-xPVg9"
      },
      "execution_count": 16,
      "outputs": []
    },
    {
      "cell_type": "code",
      "source": [
        "!unzip Orders.zip"
      ],
      "metadata": {
        "colab": {
          "base_uri": "https://localhost:8080/"
        },
        "id": "MgAXQWrKE0sp",
        "outputId": "295abda5-90ab-46f9-ffce-8af9963ca263"
      },
      "execution_count": 17,
      "outputs": [
        {
          "output_type": "stream",
          "name": "stdout",
          "text": [
            "Archive:  Orders.zip\n",
            "  inflating: SuperStoreOrders.csv    \n"
          ]
        }
      ]
    },
    {
      "cell_type": "markdown",
      "source": [
        "## Data Cleaning with Spark"
      ],
      "metadata": {
        "id": "UXQsHXtkSSY3"
      }
    },
    {
      "cell_type": "code",
      "source": [
        "!free"
      ],
      "metadata": {
        "id": "PJ27JnrcvGRm",
        "outputId": "96c8cea0-927d-4b9b-8027-80b9820059a7",
        "colab": {
          "base_uri": "https://localhost:8080/"
        }
      },
      "execution_count": 18,
      "outputs": [
        {
          "output_type": "stream",
          "name": "stdout",
          "text": [
            "               total        used        free      shared  buff/cache   available\n",
            "Mem:        13294208      919836     6478012        1608     5896360    12047340\n",
            "Swap:              0           0           0\n"
          ]
        }
      ]
    },
    {
      "cell_type": "code",
      "source": [
        "#Inferred INCORRECTLY, from CSV file\n",
        "\n",
        "sdf = spark9.read.csv('SuperStoreOrders.csv', inferSchema=True,header = True, quote = '\"', escape = '\"')\n",
        "#sdf9A = spark9.read.csv('Orders3.csv', inferSchema=True,header = True, quote = '\"')\n",
        "#sdf9A = spark9.read.csv('SuperStoreOrders.csv', inferSchema=True,header = True)\n",
        "\n",
        "sdf.dtypes"
      ],
      "metadata": {
        "id": "p1TvsLPS5vAG",
        "outputId": "fbb90ddc-f851-4386-bd75-e340dc7164d5",
        "colab": {
          "base_uri": "https://localhost:8080/"
        }
      },
      "execution_count": 19,
      "outputs": [
        {
          "output_type": "execute_result",
          "data": {
            "text/plain": [
              "[('order_id', 'string'),\n",
              " ('order_date', 'string'),\n",
              " ('ship_date', 'string'),\n",
              " ('ship_mode', 'string'),\n",
              " ('customer_name', 'string'),\n",
              " ('segment', 'string'),\n",
              " ('state', 'string'),\n",
              " ('country', 'string'),\n",
              " ('market', 'string'),\n",
              " ('region', 'string'),\n",
              " ('product_id', 'string'),\n",
              " ('category', 'string'),\n",
              " ('sub_category', 'string'),\n",
              " ('product_name', 'string'),\n",
              " ('sales', 'string'),\n",
              " ('quantity', 'int'),\n",
              " ('discount', 'double'),\n",
              " ('profit', 'double'),\n",
              " ('shipping_cost', 'double'),\n",
              " ('order_priority', 'string'),\n",
              " ('year', 'int')]"
            ]
          },
          "metadata": {},
          "execution_count": 19
        }
      ]
    },
    {
      "cell_type": "code",
      "source": [
        "#sdf9A.filter(df['sales'].rlike('[\\!\\@\\$\\^\\&\\-\\_\\;\\:\\?\\.\\#\\*]')).count()\n",
        "#sdf9A.filter(df['sales'].like('[\\!\\@\\$\\^\\&\\-\\_\\;\\:\\?\\.\\#\\*\\,]')).show()\n",
        "#sdf.filter(col('sales').contains(\",\")).show()"
      ],
      "metadata": {
        "id": "qjDSzOnUJIxo"
      },
      "execution_count": 20,
      "outputs": []
    },
    {
      "cell_type": "code",
      "source": [
        "#https://spark.apache.org/docs/latest/sql-ref-datetime-pattern.html\n",
        "#from pyspark.sql.functions import col, to_date\n",
        "#from pyspark.sql.functions import regexp_replace\n",
        "sdf = sdf.\\\n",
        "        withColumn('order_date',regexp_replace('order_date','/','-')).\\\n",
        "        withColumn('ship_date',regexp_replace('order_date','/','-')).\\\n",
        "        withColumn('order_date',to_date(col('order_date'), \"d-M-y\")).\\\n",
        "        withColumn('ship_date',to_date(col('ship_date'), \"d-M-y\")).\\\n",
        "        withColumn('sales',regexp_replace('sales',',','')).\\\n",
        "        withColumn('sales',col('sales').cast('int')).\\\n",
        "        withColumn('quantity',col('quantity').cast('int')).\\\n",
        "        withColumn('year',col('year').cast('string'))\n",
        "\n",
        "sdf.dtypes"
      ],
      "metadata": {
        "colab": {
          "base_uri": "https://localhost:8080/"
        },
        "id": "alphqlsNwA_t",
        "outputId": "f5dc4a3d-e832-4d13-ea37-7df5e902ebf1"
      },
      "execution_count": 21,
      "outputs": [
        {
          "output_type": "execute_result",
          "data": {
            "text/plain": [
              "[('order_id', 'string'),\n",
              " ('order_date', 'date'),\n",
              " ('ship_date', 'date'),\n",
              " ('ship_mode', 'string'),\n",
              " ('customer_name', 'string'),\n",
              " ('segment', 'string'),\n",
              " ('state', 'string'),\n",
              " ('country', 'string'),\n",
              " ('market', 'string'),\n",
              " ('region', 'string'),\n",
              " ('product_id', 'string'),\n",
              " ('category', 'string'),\n",
              " ('sub_category', 'string'),\n",
              " ('product_name', 'string'),\n",
              " ('sales', 'int'),\n",
              " ('quantity', 'int'),\n",
              " ('discount', 'double'),\n",
              " ('profit', 'double'),\n",
              " ('shipping_cost', 'double'),\n",
              " ('order_priority', 'string'),\n",
              " ('year', 'string')]"
            ]
          },
          "metadata": {},
          "execution_count": 21
        }
      ]
    },
    {
      "cell_type": "code",
      "source": [
        "#sdf9A.filter(df['sales'].rlike('[\\!\\@\\$\\^\\&\\-\\_\\;\\:\\?\\.\\#\\*]')).count()\n",
        "#sdf9A.filter(df['sales'].like('[\\!\\@\\$\\^\\&\\-\\_\\;\\:\\?\\.\\#\\*\\,]')).show()\n",
        "#sdf.filter(col('sales').contains(\",\")).show()\n",
        "#sdf.filter(col('product_name').contains(\"\\\"\")).show()"
      ],
      "metadata": {
        "id": "wzFL5ng9Misr"
      },
      "execution_count": 22,
      "outputs": []
    },
    {
      "cell_type": "code",
      "source": [
        "#sdf9A.show()"
      ],
      "metadata": {
        "id": "KKlJN8UsISVM"
      },
      "execution_count": 23,
      "outputs": []
    },
    {
      "cell_type": "markdown",
      "source": [
        "## Pivots - check with Panda pivots"
      ],
      "metadata": {
        "id": "L56-5XVUSJYZ"
      }
    },
    {
      "cell_type": "code",
      "source": [
        "sdf.groupBy('segment').pivot('year').sum('sales').show()"
      ],
      "metadata": {
        "colab": {
          "base_uri": "https://localhost:8080/"
        },
        "id": "7J7pORjy_xf6",
        "outputId": "6894e2fe-2b02-4c3f-8338-d7bf1e205aee"
      },
      "execution_count": 24,
      "outputs": [
        {
          "output_type": "stream",
          "name": "stdout",
          "text": [
            "+-----------+-------+-------+-------+-------+\n",
            "|    segment|   2011|   2012|   2013|   2014|\n",
            "+-----------+-------+-------+-------+-------+\n",
            "|   Consumer|1173701|1463804|1729284|2141352|\n",
            "|Home Office| 394125| 439239| 611543| 865049|\n",
            "|  Corporate| 691685| 774450|1065033|1293640|\n",
            "+-----------+-------+-------+-------+-------+\n",
            "\n"
          ]
        }
      ]
    },
    {
      "cell_type": "code",
      "source": [
        "sdf.groupBy('segment').pivot('category').sum('quantity').show()"
      ],
      "metadata": {
        "colab": {
          "base_uri": "https://localhost:8080/"
        },
        "id": "3dovrYOyNb-Q",
        "outputId": "ecb5e4b3-4f4f-437c-ccee-ccea02ce10b2"
      },
      "execution_count": 25,
      "outputs": [
        {
          "output_type": "stream",
          "name": "stdout",
          "text": [
            "+-----------+---------+---------------+----------+\n",
            "|    segment|Furniture|Office Supplies|Technology|\n",
            "+-----------+---------+---------------+----------+\n",
            "|   Consumer|    18002|          56025|     18130|\n",
            "|Home Office|     6217|          19921|      6452|\n",
            "|  Corporate|    10735|          32236|     10594|\n",
            "+-----------+---------+---------------+----------+\n",
            "\n"
          ]
        }
      ]
    },
    {
      "cell_type": "code",
      "source": [
        "# remove , and \" from data\n",
        "#import pandas as pd\n",
        "#p_df = pd.read_csv('SSdatafile.csv')\n",
        "#p_df = pd.read_csv('datafile.csv')\n",
        "#p_df2 = p_df.replace(',', ' ', regex=True)\n",
        "#p_df3 = p_df2.replace('\"', '', regex=True)\n",
        "#p_df3.to_csv('SSdatafile2.csv',index=False,sep=',')\n",
        "#!head SSdatafile2.csv"
      ],
      "metadata": {
        "id": "aWuZjTdbTRcX"
      },
      "execution_count": 26,
      "outputs": []
    },
    {
      "cell_type": "markdown",
      "source": [
        "#Spark SQL"
      ],
      "metadata": {
        "id": "UohoFsuOW2an"
      }
    },
    {
      "cell_type": "markdown",
      "source": [
        "##Create Spark Hive Tables"
      ],
      "metadata": {
        "id": "flrY9w9AVhio"
      }
    },
    {
      "cell_type": "code",
      "source": [
        "spark9.sql(\"show databases\").show()"
      ],
      "metadata": {
        "colab": {
          "base_uri": "https://localhost:8080/"
        },
        "id": "1ZS4ipzuSwU9",
        "outputId": "345fdae0-3fcc-46e2-e634-b4a6d80b0679"
      },
      "execution_count": 27,
      "outputs": [
        {
          "output_type": "stream",
          "name": "stdout",
          "text": [
            "+---------+\n",
            "|namespace|\n",
            "+---------+\n",
            "|  default|\n",
            "+---------+\n",
            "\n"
          ]
        }
      ]
    },
    {
      "cell_type": "code",
      "source": [
        "#sdf.dtypes"
      ],
      "metadata": {
        "id": "Bpo1CiQ6TgZd"
      },
      "execution_count": 28,
      "outputs": []
    },
    {
      "cell_type": "code",
      "source": [
        "colSet = ['segment','category','region','year','sales','quantity','profit']\n",
        "sdf = sdf.select(colSet)\n",
        "sdf.show()"
      ],
      "metadata": {
        "colab": {
          "base_uri": "https://localhost:8080/"
        },
        "id": "GKVTeFueT2iB",
        "outputId": "71ef62f9-7be4-486f-ac59-18e7a82cbda4"
      },
      "execution_count": 29,
      "outputs": [
        {
          "output_type": "stream",
          "name": "stdout",
          "text": [
            "+-----------+---------------+--------------+----+-----+--------+---------+\n",
            "|    segment|       category|        region|year|sales|quantity|   profit|\n",
            "+-----------+---------------+--------------+----+-----+--------+---------+\n",
            "|   Consumer|Office Supplies|        Africa|2011|  408|       2|   106.14|\n",
            "|   Consumer|Office Supplies|       Oceania|2011|  120|       3|   36.036|\n",
            "|   Consumer|Office Supplies|          EMEA|2011|   66|       4|    29.64|\n",
            "|Home Office|Office Supplies|         North|2011|   45|       3|  -26.055|\n",
            "|   Consumer|      Furniture|       Oceania|2011|  114|       5|    37.77|\n",
            "|   Consumer|Office Supplies|       Oceania|2011|   55|       2|   15.342|\n",
            "|   Consumer|     Technology|        Canada|2011|  314|       1|     3.12|\n",
            "|  Corporate|Office Supplies|       Oceania|2011|  276|       1|  110.412|\n",
            "|   Consumer|     Technology|       Oceania|2011|  912|       4| -319.464|\n",
            "|  Corporate|      Furniture|          EMEA|2011|  667|       4|   253.32|\n",
            "|   Consumer|Office Supplies|Southeast Asia|2011|  338|       3|-122.8005|\n",
            "|   Consumer|      Furniture|Southeast Asia|2011|  211|       1| -70.3995|\n",
            "|   Consumer|      Furniture|         North|2011|  854|       7|   290.43|\n",
            "|Home Office|     Technology|Southeast Asia|2011|  193|       1|    50.13|\n",
            "|   Consumer|      Furniture|       Oceania|2011|  159|       2|  -95.676|\n",
            "|   Consumer|     Technology|       Central|2011|  195|       4|    44.88|\n",
            "|   Consumer|Office Supplies|          EMEA|2011|  123|       2|     42.9|\n",
            "|   Consumer|     Technology|       Oceania|2011|   69|       2|     3.42|\n",
            "|   Consumer|      Furniture|       Oceania|2011|   69|       2|  -26.412|\n",
            "|   Consumer|Office Supplies|Southeast Asia|2011|  135|       2| -45.9018|\n",
            "+-----------+---------------+--------------+----+-----+--------+---------+\n",
            "only showing top 20 rows\n",
            "\n"
          ]
        }
      ]
    },
    {
      "cell_type": "code",
      "source": [
        "!free"
      ],
      "metadata": {
        "id": "25d8fdDyvuNk",
        "outputId": "12b0a4b2-8c45-486c-e3b2-f83b60ea0299",
        "colab": {
          "base_uri": "https://localhost:8080/"
        }
      },
      "execution_count": 30,
      "outputs": [
        {
          "output_type": "stream",
          "name": "stdout",
          "text": [
            "               total        used        free      shared  buff/cache   available\n",
            "Mem:        13294208     1376688     6011900        1636     5905620    11590452\n",
            "Swap:              0           0           0\n"
          ]
        }
      ]
    },
    {
      "cell_type": "code",
      "source": [
        "#air_quality_sdf.createOrReplaceTempView(\"air_quality_sdf\")\n",
        "sdf.createOrReplaceTempView(\"tFact\")\n",
        "spark9.sql(\"describe tFact\").show()"
      ],
      "metadata": {
        "id": "YJAmrs8vXN5Z",
        "colab": {
          "base_uri": "https://localhost:8080/"
        },
        "outputId": "f4cb118f-bcf9-4ef8-9a67-91e1292f5c92"
      },
      "execution_count": 31,
      "outputs": [
        {
          "output_type": "stream",
          "name": "stdout",
          "text": [
            "+--------+---------+-------+\n",
            "|col_name|data_type|comment|\n",
            "+--------+---------+-------+\n",
            "| segment|   string|   NULL|\n",
            "|category|   string|   NULL|\n",
            "|  region|   string|   NULL|\n",
            "|    year|   string|   NULL|\n",
            "|   sales|      int|   NULL|\n",
            "|quantity|      int|   NULL|\n",
            "|  profit|   double|   NULL|\n",
            "+--------+---------+-------+\n",
            "\n"
          ]
        }
      ]
    },
    {
      "cell_type": "code",
      "source": [
        "spark9.sql(\"show tables\").show()"
      ],
      "metadata": {
        "colab": {
          "base_uri": "https://localhost:8080/"
        },
        "id": "Sw8cCE8kXce3",
        "outputId": "98955ab0-f5f5-4f0d-faa3-98bd46dd0727"
      },
      "execution_count": 32,
      "outputs": [
        {
          "output_type": "stream",
          "name": "stdout",
          "text": [
            "+---------+---------+-----------+\n",
            "|namespace|tableName|isTemporary|\n",
            "+---------+---------+-----------+\n",
            "|         |    tfact|       true|\n",
            "+---------+---------+-----------+\n",
            "\n"
          ]
        }
      ]
    },
    {
      "cell_type": "code",
      "source": [
        "spark9.sql('select * from tFact limit 5').show()"
      ],
      "metadata": {
        "colab": {
          "base_uri": "https://localhost:8080/"
        },
        "id": "erd8GWmyZeUl",
        "outputId": "01c879a5-46cc-461e-9589-dedabe1fb8b5"
      },
      "execution_count": 33,
      "outputs": [
        {
          "output_type": "stream",
          "name": "stdout",
          "text": [
            "+-----------+---------------+-------+----+-----+--------+-------+\n",
            "|    segment|       category| region|year|sales|quantity| profit|\n",
            "+-----------+---------------+-------+----+-----+--------+-------+\n",
            "|   Consumer|Office Supplies| Africa|2011|  408|       2| 106.14|\n",
            "|   Consumer|Office Supplies|Oceania|2011|  120|       3| 36.036|\n",
            "|   Consumer|Office Supplies|   EMEA|2011|   66|       4|  29.64|\n",
            "|Home Office|Office Supplies|  North|2011|   45|       3|-26.055|\n",
            "|   Consumer|      Furniture|Oceania|2011|  114|       5|  37.77|\n",
            "+-----------+---------------+-------+----+-----+--------+-------+\n",
            "\n"
          ]
        }
      ]
    },
    {
      "cell_type": "code",
      "source": [
        "sql_drop_table = \"\"\"\n",
        "drop table if exists praxisdb.fact43\n",
        "\"\"\"\n",
        "\n",
        "sql_drop_database = \"\"\"\n",
        "drop database if exists praxisdb cascade\n",
        "\"\"\"\n",
        "\n",
        "sql_create_database = \"\"\"\n",
        "create database if not exists praxisdb\n",
        "location '/content/praxisdb/'\n",
        "\"\"\"\n",
        "\n",
        "sql_create_table = \"\"\"\n",
        "create table if not exists praxisdb.fact43\n",
        "using parquet\n",
        "as select  * from tFact\n",
        "\"\"\"\n",
        "\n",
        "#as select to_timestamp(date) as date_parsed, *\n",
        "\n",
        "print(\"dropping database...\")\n",
        "result_drop_db = spark9.sql(sql_drop_database)\n",
        "\n",
        "print(\"creating database...\")\n",
        "result_create_db = spark9.sql(sql_create_database)\n",
        "\n",
        "print(\"dropping table...\")\n",
        "result_droptable = spark9.sql(sql_drop_table)\n",
        "\n",
        "print(\"creating table...\")\n",
        "result_create_table = spark9.sql(sql_create_table)"
      ],
      "metadata": {
        "colab": {
          "base_uri": "https://localhost:8080/"
        },
        "id": "M5acfAuTX12d",
        "outputId": "600bc764-0e93-4591-8705-735cf8419ae6"
      },
      "execution_count": 34,
      "outputs": [
        {
          "output_type": "stream",
          "name": "stdout",
          "text": [
            "dropping database...\n",
            "creating database...\n",
            "dropping table...\n",
            "creating table...\n"
          ]
        }
      ]
    },
    {
      "cell_type": "code",
      "source": [
        "spark9.sql(\"use praxisdb\")\n",
        "spark9.sql(\"show tables\").show()"
      ],
      "metadata": {
        "colab": {
          "base_uri": "https://localhost:8080/"
        },
        "id": "q8-a8JFQ1iaN",
        "outputId": "707374e4-83f5-421f-a22d-3449ab1785bc"
      },
      "execution_count": 35,
      "outputs": [
        {
          "output_type": "stream",
          "name": "stdout",
          "text": [
            "+---------+---------+-----------+\n",
            "|namespace|tableName|isTemporary|\n",
            "+---------+---------+-----------+\n",
            "| praxisdb|   fact43|      false|\n",
            "|         |    tfact|       true|\n",
            "+---------+---------+-----------+\n",
            "\n"
          ]
        }
      ]
    },
    {
      "cell_type": "code",
      "source": [
        "spark9.sql(\"select * from praxisdb.fact43\").show(5)"
      ],
      "metadata": {
        "colab": {
          "base_uri": "https://localhost:8080/"
        },
        "id": "8Sry26x0ewZD",
        "outputId": "518ca32b-ae1d-4600-f49f-2687dcafeb13"
      },
      "execution_count": 36,
      "outputs": [
        {
          "output_type": "stream",
          "name": "stdout",
          "text": [
            "+-----------+---------------+-------+----+-----+--------+-------+\n",
            "|    segment|       category| region|year|sales|quantity| profit|\n",
            "+-----------+---------------+-------+----+-----+--------+-------+\n",
            "|   Consumer|Office Supplies| Africa|2011|  408|       2| 106.14|\n",
            "|   Consumer|Office Supplies|Oceania|2011|  120|       3| 36.036|\n",
            "|   Consumer|Office Supplies|   EMEA|2011|   66|       4|  29.64|\n",
            "|Home Office|Office Supplies|  North|2011|   45|       3|-26.055|\n",
            "|   Consumer|      Furniture|Oceania|2011|  114|       5|  37.77|\n",
            "+-----------+---------------+-------+----+-----+--------+-------+\n",
            "only showing top 5 rows\n",
            "\n"
          ]
        }
      ]
    },
    {
      "cell_type": "code",
      "source": [
        "spark9.catalog.dropTempView(\"tFact\")"
      ],
      "metadata": {
        "id": "a2HGpfZMUpmV",
        "outputId": "03d084e9-0545-4ac9-8f6e-21a780d054af",
        "colab": {
          "base_uri": "https://localhost:8080/"
        }
      },
      "execution_count": 37,
      "outputs": [
        {
          "output_type": "execute_result",
          "data": {
            "text/plain": [
              "True"
            ]
          },
          "metadata": {},
          "execution_count": 37
        }
      ]
    },
    {
      "cell_type": "code",
      "source": [
        "spark9.sql(\"use praxisdb\")\n",
        "spark9.sql(\"show tables\").show()"
      ],
      "metadata": {
        "id": "kBtWge_-iCmG",
        "outputId": "ed9d68ac-b119-4030-9fbc-5c0ae8b369d1",
        "colab": {
          "base_uri": "https://localhost:8080/"
        }
      },
      "execution_count": 38,
      "outputs": [
        {
          "output_type": "stream",
          "name": "stdout",
          "text": [
            "+---------+---------+-----------+\n",
            "|namespace|tableName|isTemporary|\n",
            "+---------+---------+-----------+\n",
            "| praxisdb|   fact43|      false|\n",
            "+---------+---------+-----------+\n",
            "\n"
          ]
        }
      ]
    },
    {
      "cell_type": "markdown",
      "source": [
        "#OLAP"
      ],
      "metadata": {
        "id": "NTldGFWwiawv"
      }
    },
    {
      "cell_type": "code",
      "source": [
        "spark9.sql(\"select * from praxisdb.fact43\").show()"
      ],
      "metadata": {
        "id": "_txtqK4xilSf",
        "outputId": "ae75e06b-77b9-4ce7-d590-44205d13f417",
        "colab": {
          "base_uri": "https://localhost:8080/"
        }
      },
      "execution_count": 39,
      "outputs": [
        {
          "output_type": "stream",
          "name": "stdout",
          "text": [
            "+-----------+---------------+--------------+----+-----+--------+---------+\n",
            "|    segment|       category|        region|year|sales|quantity|   profit|\n",
            "+-----------+---------------+--------------+----+-----+--------+---------+\n",
            "|   Consumer|Office Supplies|        Africa|2011|  408|       2|   106.14|\n",
            "|   Consumer|Office Supplies|       Oceania|2011|  120|       3|   36.036|\n",
            "|   Consumer|Office Supplies|          EMEA|2011|   66|       4|    29.64|\n",
            "|Home Office|Office Supplies|         North|2011|   45|       3|  -26.055|\n",
            "|   Consumer|      Furniture|       Oceania|2011|  114|       5|    37.77|\n",
            "|   Consumer|Office Supplies|       Oceania|2011|   55|       2|   15.342|\n",
            "|   Consumer|     Technology|        Canada|2011|  314|       1|     3.12|\n",
            "|  Corporate|Office Supplies|       Oceania|2011|  276|       1|  110.412|\n",
            "|   Consumer|     Technology|       Oceania|2011|  912|       4| -319.464|\n",
            "|  Corporate|      Furniture|          EMEA|2011|  667|       4|   253.32|\n",
            "|   Consumer|Office Supplies|Southeast Asia|2011|  338|       3|-122.8005|\n",
            "|   Consumer|      Furniture|Southeast Asia|2011|  211|       1| -70.3995|\n",
            "|   Consumer|      Furniture|         North|2011|  854|       7|   290.43|\n",
            "|Home Office|     Technology|Southeast Asia|2011|  193|       1|    50.13|\n",
            "|   Consumer|      Furniture|       Oceania|2011|  159|       2|  -95.676|\n",
            "|   Consumer|     Technology|       Central|2011|  195|       4|    44.88|\n",
            "|   Consumer|Office Supplies|          EMEA|2011|  123|       2|     42.9|\n",
            "|   Consumer|     Technology|       Oceania|2011|   69|       2|     3.42|\n",
            "|   Consumer|      Furniture|       Oceania|2011|   69|       2|  -26.412|\n",
            "|   Consumer|Office Supplies|Southeast Asia|2011|  135|       2| -45.9018|\n",
            "+-----------+---------------+--------------+----+-----+--------+---------+\n",
            "only showing top 20 rows\n",
            "\n"
          ]
        }
      ]
    },
    {
      "cell_type": "markdown",
      "source": [
        "##Group By"
      ],
      "metadata": {
        "id": "tSczMpMiieEp"
      }
    },
    {
      "cell_type": "code",
      "source": [
        "spark9.sql(\"\\\n",
        "select segment, sum(quantity) tot_quantity, sum(sales) tot_sales \\\n",
        "from fact43 \\\n",
        "group by segment \\\n",
        "order by segment \\\n",
        "\").show()"
      ],
      "metadata": {
        "id": "1zxCckmOixfh",
        "outputId": "db227eb4-aa69-4fdb-868f-3b18410e4bec",
        "colab": {
          "base_uri": "https://localhost:8080/"
        }
      },
      "execution_count": 40,
      "outputs": [
        {
          "output_type": "stream",
          "name": "stdout",
          "text": [
            "+-----------+------------+---------+\n",
            "|    segment|tot_quantity|tot_sales|\n",
            "+-----------+------------+---------+\n",
            "|   Consumer|       92157|  6508141|\n",
            "|  Corporate|       53565|  3824808|\n",
            "|Home Office|       32590|  2309956|\n",
            "+-----------+------------+---------+\n",
            "\n"
          ]
        }
      ]
    },
    {
      "cell_type": "code",
      "source": [
        "spark9.sql(\"\\\n",
        "select segment, year, sum(quantity) tot_quantity, sum(sales) tot_sales \\\n",
        "from fact43 \\\n",
        "group by segment, year \\\n",
        "order by segment, year \\\n",
        "\").show()"
      ],
      "metadata": {
        "id": "Scq9V2fDjwVw",
        "outputId": "2861957d-3a59-4480-9aa7-c657c8be034a",
        "colab": {
          "base_uri": "https://localhost:8080/"
        }
      },
      "execution_count": 41,
      "outputs": [
        {
          "output_type": "stream",
          "name": "stdout",
          "text": [
            "+-----------+----+------------+---------+\n",
            "|    segment|year|tot_quantity|tot_sales|\n",
            "+-----------+----+------------+---------+\n",
            "|   Consumer|2011|       16455|  1173701|\n",
            "|   Consumer|2012|       20259|  1463804|\n",
            "|   Consumer|2013|       24601|  1729284|\n",
            "|   Consumer|2014|       30842|  2141352|\n",
            "|  Corporate|2011|        9663|   691685|\n",
            "|  Corporate|2012|       11296|   774450|\n",
            "|  Corporate|2013|       14685|  1065033|\n",
            "|  Corporate|2014|       17921|  1293640|\n",
            "|Home Office|2011|        5325|   394125|\n",
            "|Home Office|2012|        6556|   439239|\n",
            "|Home Office|2013|        8850|   611543|\n",
            "|Home Office|2014|       11859|   865049|\n",
            "+-----------+----+------------+---------+\n",
            "\n"
          ]
        }
      ]
    },
    {
      "cell_type": "code",
      "source": [
        "spark9.sql(\"\\\n",
        "select segment, year, sum(quantity) tot_quantity, sum(sales) tot_sales \\\n",
        "from fact43 \\\n",
        "group by segment, year \\\n",
        "union all \\\n",
        "select segment, NULL, sum(quantity) tot_quantity, sum(sales) tot_sales \\\n",
        "from fact43 \\\n",
        "group by segment \\\n",
        "union all \\\n",
        "select NULL, year, sum(quantity) tot_quantity, sum(sales) tot_sales \\\n",
        "from fact43 \\\n",
        "group by year \\\n",
        "union all \\\n",
        "select null, null, sum(quantity) tot_quantity, sum(sales) tot_sales \\\n",
        "from fact43 \\\n",
        "\").show()"
      ],
      "metadata": {
        "id": "iB2EvSGSkZ3D",
        "outputId": "e27b5fdf-5d3b-4158-855b-c8c9cc901c6d",
        "colab": {
          "base_uri": "https://localhost:8080/"
        }
      },
      "execution_count": 42,
      "outputs": [
        {
          "output_type": "stream",
          "name": "stdout",
          "text": [
            "+-----------+----+------------+---------+\n",
            "|    segment|year|tot_quantity|tot_sales|\n",
            "+-----------+----+------------+---------+\n",
            "|  Corporate|2011|        9663|   691685|\n",
            "|Home Office|2012|        6556|   439239|\n",
            "|   Consumer|2014|       30842|  2141352|\n",
            "|Home Office|2013|        8850|   611543|\n",
            "|  Corporate|2012|       11296|   774450|\n",
            "|   Consumer|2011|       16455|  1173701|\n",
            "|Home Office|2011|        5325|   394125|\n",
            "|Home Office|2014|       11859|   865049|\n",
            "|   Consumer|2012|       20259|  1463804|\n",
            "|  Corporate|2013|       14685|  1065033|\n",
            "|   Consumer|2013|       24601|  1729284|\n",
            "|  Corporate|2014|       17921|  1293640|\n",
            "|   Consumer|NULL|       92157|  6508141|\n",
            "|Home Office|NULL|       32590|  2309956|\n",
            "|  Corporate|NULL|       53565|  3824808|\n",
            "|       NULL|2012|       38111|  2677493|\n",
            "|       NULL|2014|       60622|  4300041|\n",
            "|       NULL|2013|       48136|  3405860|\n",
            "|       NULL|2011|       31443|  2259511|\n",
            "|       NULL|NULL|      178312| 12642905|\n",
            "+-----------+----+------------+---------+\n",
            "\n"
          ]
        }
      ]
    },
    {
      "cell_type": "markdown",
      "source": [
        "##Grouping Sets"
      ],
      "metadata": {
        "id": "VpnuSSChmmHm"
      }
    },
    {
      "cell_type": "code",
      "source": [
        "spark9.sql(\"\\\n",
        "select segment, year, sum(quantity) tot_quantity, sum(sales) tot_sales \\\n",
        "from fact43 \\\n",
        "group by \\\n",
        "    grouping sets( \\\n",
        "        (segment, year), \\\n",
        "        (segment),\\\n",
        "        (year), \\\n",
        "        () \\\n",
        "    ) \\\n",
        "order by segment, year \\\n",
        "\").show()"
      ],
      "metadata": {
        "id": "-w2EznKfmt6y",
        "outputId": "04d4eba5-33ca-4fbf-f6b8-cab5f629bc52",
        "colab": {
          "base_uri": "https://localhost:8080/"
        }
      },
      "execution_count": 43,
      "outputs": [
        {
          "output_type": "stream",
          "name": "stdout",
          "text": [
            "+-----------+----+------------+---------+\n",
            "|    segment|year|tot_quantity|tot_sales|\n",
            "+-----------+----+------------+---------+\n",
            "|       NULL|NULL|      178312| 12642905|\n",
            "|       NULL|2011|       31443|  2259511|\n",
            "|       NULL|2012|       38111|  2677493|\n",
            "|       NULL|2013|       48136|  3405860|\n",
            "|       NULL|2014|       60622|  4300041|\n",
            "|   Consumer|NULL|       92157|  6508141|\n",
            "|   Consumer|2011|       16455|  1173701|\n",
            "|   Consumer|2012|       20259|  1463804|\n",
            "|   Consumer|2013|       24601|  1729284|\n",
            "|   Consumer|2014|       30842|  2141352|\n",
            "|  Corporate|NULL|       53565|  3824808|\n",
            "|  Corporate|2011|        9663|   691685|\n",
            "|  Corporate|2012|       11296|   774450|\n",
            "|  Corporate|2013|       14685|  1065033|\n",
            "|  Corporate|2014|       17921|  1293640|\n",
            "|Home Office|NULL|       32590|  2309956|\n",
            "|Home Office|2011|        5325|   394125|\n",
            "|Home Office|2012|        6556|   439239|\n",
            "|Home Office|2013|        8850|   611543|\n",
            "|Home Office|2014|       11859|   865049|\n",
            "+-----------+----+------------+---------+\n",
            "\n"
          ]
        }
      ]
    },
    {
      "cell_type": "markdown",
      "source": [
        "##Roll Up"
      ],
      "metadata": {
        "id": "fI3OAHRHof5i"
      }
    },
    {
      "cell_type": "code",
      "source": [
        "spark9.sql(\"\\\n",
        "select \\\n",
        "ifnull(segment,'all segment') _segment,\\\n",
        "ifnull(year,'all year') _year,\\\n",
        "sum(quantity) tot_quantity, sum(sales) tot_sales \\\n",
        "from praxisdb.fact43 \\\n",
        "group by rollup(segment, year) \\\n",
        "order by _segment, _year \\\n",
        "\").show()"
      ],
      "metadata": {
        "id": "-UUe94z2yEmD",
        "outputId": "87536499-7a58-4f20-a168-cce1f67c4531",
        "colab": {
          "base_uri": "https://localhost:8080/"
        }
      },
      "execution_count": 44,
      "outputs": [
        {
          "output_type": "stream",
          "name": "stdout",
          "text": [
            "+-----------+--------+------------+---------+\n",
            "|   _segment|   _year|tot_quantity|tot_sales|\n",
            "+-----------+--------+------------+---------+\n",
            "|   Consumer|    2011|       16455|  1173701|\n",
            "|   Consumer|    2012|       20259|  1463804|\n",
            "|   Consumer|    2013|       24601|  1729284|\n",
            "|   Consumer|    2014|       30842|  2141352|\n",
            "|   Consumer|all year|       92157|  6508141|\n",
            "|  Corporate|    2011|        9663|   691685|\n",
            "|  Corporate|    2012|       11296|   774450|\n",
            "|  Corporate|    2013|       14685|  1065033|\n",
            "|  Corporate|    2014|       17921|  1293640|\n",
            "|  Corporate|all year|       53565|  3824808|\n",
            "|Home Office|    2011|        5325|   394125|\n",
            "|Home Office|    2012|        6556|   439239|\n",
            "|Home Office|    2013|        8850|   611543|\n",
            "|Home Office|    2014|       11859|   865049|\n",
            "|Home Office|all year|       32590|  2309956|\n",
            "|all segment|all year|      178312| 12642905|\n",
            "+-----------+--------+------------+---------+\n",
            "\n"
          ]
        }
      ]
    },
    {
      "cell_type": "code",
      "source": [
        "spark9.sql(\"\\\n",
        "select segment, year, sum(quantity) tot_quantity, sum(sales) tot_sales \\\n",
        "from fact43 \\\n",
        "group by rollup(segment, year) \\\n",
        "order by segment, year \\\n",
        "\").show()"
      ],
      "metadata": {
        "id": "RDxqpoYAo5bL",
        "outputId": "98a323ad-9f0d-4f4e-8ab4-0c97d81dc213",
        "colab": {
          "base_uri": "https://localhost:8080/"
        }
      },
      "execution_count": 45,
      "outputs": [
        {
          "output_type": "stream",
          "name": "stdout",
          "text": [
            "+-----------+----+------------+---------+\n",
            "|    segment|year|tot_quantity|tot_sales|\n",
            "+-----------+----+------------+---------+\n",
            "|       NULL|NULL|      178312| 12642905|\n",
            "|   Consumer|NULL|       92157|  6508141|\n",
            "|   Consumer|2011|       16455|  1173701|\n",
            "|   Consumer|2012|       20259|  1463804|\n",
            "|   Consumer|2013|       24601|  1729284|\n",
            "|   Consumer|2014|       30842|  2141352|\n",
            "|  Corporate|NULL|       53565|  3824808|\n",
            "|  Corporate|2011|        9663|   691685|\n",
            "|  Corporate|2012|       11296|   774450|\n",
            "|  Corporate|2013|       14685|  1065033|\n",
            "|  Corporate|2014|       17921|  1293640|\n",
            "|Home Office|NULL|       32590|  2309956|\n",
            "|Home Office|2011|        5325|   394125|\n",
            "|Home Office|2012|        6556|   439239|\n",
            "|Home Office|2013|        8850|   611543|\n",
            "|Home Office|2014|       11859|   865049|\n",
            "+-----------+----+------------+---------+\n",
            "\n"
          ]
        }
      ]
    },
    {
      "cell_type": "markdown",
      "source": [
        "##CUBE"
      ],
      "metadata": {
        "id": "RwpHXh9LpDu1"
      }
    },
    {
      "cell_type": "code",
      "source": [
        "spark9.sql(\"\\\n",
        "select segment, year, sum(quantity) tot_quantity, sum(sales) tot_sales \\\n",
        "from praxisdb.fact43 \\\n",
        "group by cube(segment, year) \\\n",
        "order by segment, year \\\n",
        "\").show()"
      ],
      "metadata": {
        "id": "lkDn07igpO9S",
        "outputId": "12d54362-4ddb-4528-f3f7-6dd4c14a3019",
        "colab": {
          "base_uri": "https://localhost:8080/"
        }
      },
      "execution_count": 46,
      "outputs": [
        {
          "output_type": "stream",
          "name": "stdout",
          "text": [
            "+-----------+----+------------+---------+\n",
            "|    segment|year|tot_quantity|tot_sales|\n",
            "+-----------+----+------------+---------+\n",
            "|       NULL|NULL|      178312| 12642905|\n",
            "|       NULL|2011|       31443|  2259511|\n",
            "|       NULL|2012|       38111|  2677493|\n",
            "|       NULL|2013|       48136|  3405860|\n",
            "|       NULL|2014|       60622|  4300041|\n",
            "|   Consumer|NULL|       92157|  6508141|\n",
            "|   Consumer|2011|       16455|  1173701|\n",
            "|   Consumer|2012|       20259|  1463804|\n",
            "|   Consumer|2013|       24601|  1729284|\n",
            "|   Consumer|2014|       30842|  2141352|\n",
            "|  Corporate|NULL|       53565|  3824808|\n",
            "|  Corporate|2011|        9663|   691685|\n",
            "|  Corporate|2012|       11296|   774450|\n",
            "|  Corporate|2013|       14685|  1065033|\n",
            "|  Corporate|2014|       17921|  1293640|\n",
            "|Home Office|NULL|       32590|  2309956|\n",
            "|Home Office|2011|        5325|   394125|\n",
            "|Home Office|2012|        6556|   439239|\n",
            "|Home Office|2013|        8850|   611543|\n",
            "|Home Office|2014|       11859|   865049|\n",
            "+-----------+----+------------+---------+\n",
            "\n"
          ]
        }
      ]
    },
    {
      "cell_type": "markdown",
      "source": [
        "##CrossTab"
      ],
      "metadata": {
        "id": "XaxGELk3N5V_"
      }
    },
    {
      "cell_type": "code",
      "source": [
        "CrossTab2 = spark9.sql(\"\"\"\n",
        " SELECT\n",
        "  IFNULL(Segment,'#Totals') Dims,\n",
        "  Africa,North_Asia,Central_Asia,Caribbean,\n",
        "  Oceania,Canada,EMEA,SE_Asia,\n",
        "  Central,East,West,South,\n",
        "  Africa +North_Asia + Central_Asia+ Caribbean + Oceania + Canada+EMEA + SE_Asia + Central + East + West + South Totals\n",
        "FROM (\n",
        "SELECT\n",
        "        Segment,\n",
        "        SUM(IF(Region='Africa',Sales,0)) As Africa,\n",
        "        SUM(IF(Region='North Asia',Sales,0)) As North_Asia,\n",
        "        SUM(IF(Region='Central Asia',Sales,0)) As Central_Asia,\n",
        "        SUM(IF(Region='Caribbean',Sales,0)) As Caribbean,\n",
        "        SUM(IF(Region='Oceania',Sales,0)) As Oceania,\n",
        "        SUM(IF(Region='Canada',Sales,0)) As Canada,\n",
        "        SUM(IF(Region='EMEA',Sales,0)) As EMEA,\n",
        "        SUM(IF(Region='South East Asia',Sales,0)) As SE_Asia,\n",
        "        SUM(IF(Region='Central',Sales,0)) As Central,\n",
        "        SUM(IF(Region='East',Sales,0)) As East,\n",
        "        SUM(IF(Region='West',Sales,0)) As West,\n",
        "        SUM(IF(Region='North',Sales,0)) As North,\n",
        "        SUM(IF(Region='South',Sales,0)) As South\n",
        "    FROM praxisdb.fact43\n",
        "        GROUP BY Segment WITH ROLLUP\n",
        "    )\n",
        "as sums\n",
        "order by Dims desc\n",
        "\"\"\")\n",
        "CrossTab2.show()"
      ],
      "metadata": {
        "id": "m8rXXie3O5vG",
        "outputId": "79533f02-a532-4a2d-f3ce-71527880650f",
        "colab": {
          "base_uri": "https://localhost:8080/"
        }
      },
      "execution_count": 47,
      "outputs": [
        {
          "output_type": "stream",
          "name": "stdout",
          "text": [
            "+-----------+------+----------+------------+---------+-------+------+------+-------+-------+------+------+-------+--------+\n",
            "|       Dims|Africa|North_Asia|Central_Asia|Caribbean|Oceania|Canada|  EMEA|SE_Asia|Central|  East|  West|  South|  Totals|\n",
            "+-----------+------+----------+------------+---------+-------+------+------+-------+-------+------+------+-------+--------+\n",
            "|Home Office|155077|    175177|      148235|    57395| 197812| 11896|148862|      0| 491961|127465|136736| 280016| 1930632|\n",
            "|  Corporate|204948|    265762|      235552|   104535| 322831| 19319|250559|      0| 850405|200422|225870| 496029| 3176232|\n",
            "|   Consumer|423751|    407410|      369052|   162351| 579564| 35717|406763|      0|1480033|350947|362908| 824915| 5403411|\n",
            "|    #Totals|783776|    848349|      752839|   324281|1100207| 66932|806184|      0|2822399|678834|725514|1600960|10510275|\n",
            "+-----------+------+----------+------------+---------+-------+------+------+-------+-------+------+------+-------+--------+\n",
            "\n"
          ]
        }
      ]
    },
    {
      "cell_type": "code",
      "source": [
        "from datetime import datetime\n",
        "import pytz\n",
        "print('ॐ श्री सरस्वत्यै नमः',datetime.now(pytz.timezone('Asia/Calcutta')))"
      ],
      "metadata": {
        "id": "uZSe__AeBNzL",
        "outputId": "e96b4a55-1d16-48a3-c8f7-72e523f645ce",
        "colab": {
          "base_uri": "https://localhost:8080/"
        }
      },
      "execution_count": 48,
      "outputs": [
        {
          "output_type": "stream",
          "name": "stdout",
          "text": [
            "ॐ श्री सरस्वत्यै नमः 2023-11-26 15:19:20.944301+05:30\n"
          ]
        }
      ]
    },
    {
      "cell_type": "markdown",
      "metadata": {
        "id": "xnF14kOqtVSi"
      },
      "source": [
        "#Chronobooks <br>\n",
        "![alt text](https://1.bp.blogspot.com/-lTiYBkU2qbU/X1er__fvnkI/AAAAAAAAjtE/GhDR3OEGJr4NG43fZPodrQD5kbxtnKebgCLcBGAsYHQ/s600/Footer2020-600x200.png)<hr>\n",
        "Chronotantra and Chronoyantra are two science fiction novels that explore the collapse of human civilisation on Earth and then its rebirth and reincarnation both on Earth as well as on the distant worlds of Mars, Titan and Enceladus. But is it the human civilisation that is being reborn? Or is it some other sentience that is revealing itself.\n",
        "If you have an interest in AI and found this material useful, you may consider buying these novels, in paperback or kindle, from [http://bit.ly/chronobooks](http://bit.ly/chronobooks)"
      ]
    },
    {
      "cell_type": "code",
      "source": [
        "spark9.sql(\"select distinct(year) from praxisdb.sh_orders\").show()"
      ],
      "metadata": {
        "colab": {
          "base_uri": "https://localhost:8080/",
          "height": 442
        },
        "id": "nyJ9DKyFEcjC",
        "outputId": "cbcaa638-01ac-4ec5-e9bb-8a3d4e371d5e"
      },
      "execution_count": null,
      "outputs": [
        {
          "output_type": "error",
          "ename": "AnalysisException",
          "evalue": "ignored",
          "traceback": [
            "\u001b[0;31m---------------------------------------------------------------------------\u001b[0m",
            "\u001b[0;31mAnalysisException\u001b[0m                         Traceback (most recent call last)",
            "\u001b[0;32m<ipython-input-48-2ffb614ae44a>\u001b[0m in \u001b[0;36m<cell line: 1>\u001b[0;34m()\u001b[0m\n\u001b[0;32m----> 1\u001b[0;31m \u001b[0mspark9\u001b[0m\u001b[0;34m.\u001b[0m\u001b[0msql\u001b[0m\u001b[0;34m(\u001b[0m\u001b[0;34m\"select distinct(year) from praxisdb.sh_orders\"\u001b[0m\u001b[0;34m)\u001b[0m\u001b[0;34m.\u001b[0m\u001b[0mshow\u001b[0m\u001b[0;34m(\u001b[0m\u001b[0;34m)\u001b[0m\u001b[0;34m\u001b[0m\u001b[0;34m\u001b[0m\u001b[0m\n\u001b[0m",
            "\u001b[0;32m/usr/local/lib/python3.10/dist-packages/pyspark/sql/session.py\u001b[0m in \u001b[0;36msql\u001b[0;34m(self, sqlQuery, args, **kwargs)\u001b[0m\n\u001b[1;32m   1629\u001b[0m                     \u001b[0;34m[\u001b[0m\u001b[0m_to_java_column\u001b[0m\u001b[0;34m(\u001b[0m\u001b[0mlit\u001b[0m\u001b[0;34m(\u001b[0m\u001b[0mv\u001b[0m\u001b[0;34m)\u001b[0m\u001b[0;34m)\u001b[0m \u001b[0;32mfor\u001b[0m \u001b[0mv\u001b[0m \u001b[0;32min\u001b[0m \u001b[0;34m(\u001b[0m\u001b[0margs\u001b[0m \u001b[0;32mor\u001b[0m \u001b[0;34m[\u001b[0m\u001b[0;34m]\u001b[0m\u001b[0;34m)\u001b[0m\u001b[0;34m]\u001b[0m\u001b[0;34m\u001b[0m\u001b[0;34m\u001b[0m\u001b[0m\n\u001b[1;32m   1630\u001b[0m                 )\n\u001b[0;32m-> 1631\u001b[0;31m             \u001b[0;32mreturn\u001b[0m \u001b[0mDataFrame\u001b[0m\u001b[0;34m(\u001b[0m\u001b[0mself\u001b[0m\u001b[0;34m.\u001b[0m\u001b[0m_jsparkSession\u001b[0m\u001b[0;34m.\u001b[0m\u001b[0msql\u001b[0m\u001b[0;34m(\u001b[0m\u001b[0msqlQuery\u001b[0m\u001b[0;34m,\u001b[0m \u001b[0mlitArgs\u001b[0m\u001b[0;34m)\u001b[0m\u001b[0;34m,\u001b[0m \u001b[0mself\u001b[0m\u001b[0;34m)\u001b[0m\u001b[0;34m\u001b[0m\u001b[0;34m\u001b[0m\u001b[0m\n\u001b[0m\u001b[1;32m   1632\u001b[0m         \u001b[0;32mfinally\u001b[0m\u001b[0;34m:\u001b[0m\u001b[0;34m\u001b[0m\u001b[0;34m\u001b[0m\u001b[0m\n\u001b[1;32m   1633\u001b[0m             \u001b[0;32mif\u001b[0m \u001b[0mlen\u001b[0m\u001b[0;34m(\u001b[0m\u001b[0mkwargs\u001b[0m\u001b[0;34m)\u001b[0m \u001b[0;34m>\u001b[0m \u001b[0;36m0\u001b[0m\u001b[0;34m:\u001b[0m\u001b[0;34m\u001b[0m\u001b[0;34m\u001b[0m\u001b[0m\n",
            "\u001b[0;32m/usr/local/lib/python3.10/dist-packages/py4j/java_gateway.py\u001b[0m in \u001b[0;36m__call__\u001b[0;34m(self, *args)\u001b[0m\n\u001b[1;32m   1320\u001b[0m \u001b[0;34m\u001b[0m\u001b[0m\n\u001b[1;32m   1321\u001b[0m         \u001b[0manswer\u001b[0m \u001b[0;34m=\u001b[0m \u001b[0mself\u001b[0m\u001b[0;34m.\u001b[0m\u001b[0mgateway_client\u001b[0m\u001b[0;34m.\u001b[0m\u001b[0msend_command\u001b[0m\u001b[0;34m(\u001b[0m\u001b[0mcommand\u001b[0m\u001b[0;34m)\u001b[0m\u001b[0;34m\u001b[0m\u001b[0;34m\u001b[0m\u001b[0m\n\u001b[0;32m-> 1322\u001b[0;31m         return_value = get_return_value(\n\u001b[0m\u001b[1;32m   1323\u001b[0m             answer, self.gateway_client, self.target_id, self.name)\n\u001b[1;32m   1324\u001b[0m \u001b[0;34m\u001b[0m\u001b[0m\n",
            "\u001b[0;32m/usr/local/lib/python3.10/dist-packages/pyspark/errors/exceptions/captured.py\u001b[0m in \u001b[0;36mdeco\u001b[0;34m(*a, **kw)\u001b[0m\n\u001b[1;32m    183\u001b[0m                 \u001b[0;31m# Hide where the exception came from that shows a non-Pythonic\u001b[0m\u001b[0;34m\u001b[0m\u001b[0;34m\u001b[0m\u001b[0m\n\u001b[1;32m    184\u001b[0m                 \u001b[0;31m# JVM exception message.\u001b[0m\u001b[0;34m\u001b[0m\u001b[0;34m\u001b[0m\u001b[0m\n\u001b[0;32m--> 185\u001b[0;31m                 \u001b[0;32mraise\u001b[0m \u001b[0mconverted\u001b[0m \u001b[0;32mfrom\u001b[0m \u001b[0;32mNone\u001b[0m\u001b[0;34m\u001b[0m\u001b[0;34m\u001b[0m\u001b[0m\n\u001b[0m\u001b[1;32m    186\u001b[0m             \u001b[0;32melse\u001b[0m\u001b[0;34m:\u001b[0m\u001b[0;34m\u001b[0m\u001b[0;34m\u001b[0m\u001b[0m\n\u001b[1;32m    187\u001b[0m                 \u001b[0;32mraise\u001b[0m\u001b[0;34m\u001b[0m\u001b[0;34m\u001b[0m\u001b[0m\n",
            "\u001b[0;31mAnalysisException\u001b[0m: [TABLE_OR_VIEW_NOT_FOUND] The table or view `praxisdb`.`sh_orders` cannot be found. Verify the spelling and correctness of the schema and catalog.\nIf you did not qualify the name with a schema, verify the current_schema() output, or qualify the name with the correct schema and catalog.\nTo tolerate the error on drop use DROP VIEW IF EXISTS or DROP TABLE IF EXISTS.; line 1 pos 27;\n'Distinct\n+- 'Project ['year]\n   +- 'UnresolvedRelation [praxisdb, sh_orders], [], false\n"
          ]
        }
      ]
    },
    {
      "cell_type": "code",
      "source": [
        "CrossTab2 = spark9.sql(\"\"\"\n",
        " SELECT\n",
        "  IFNULL(Category,'#Totals') Dims,\n",
        "  Y2011,Y2012,Y2013,Y2014,Y2011+Y2012+Y2013+Y2014 Totals\n",
        "FROM (\n",
        "SELECT\n",
        "        Category,\n",
        "        SUM(IF(Year='2011',Sales,0)) As Y2011,\n",
        "        SUM(IF(Year='2012',Sales,0)) As Y2012,\n",
        "        SUM(IF(Year='2013',Sales,0)) As Y2013,\n",
        "        SUM(IF(Year='2014',Sales,0)) As Y2014\n",
        "    FROM praxisdb.sh_orders\n",
        "        GROUP BY Category WITH ROLLUP\n",
        "    )\n",
        "as sums\n",
        "order by Dims desc\n",
        "\"\"\")\n",
        "CrossTab2.show()"
      ],
      "metadata": {
        "id": "PbYB9DfbEpqs"
      },
      "execution_count": null,
      "outputs": []
    },
    {
      "cell_type": "markdown",
      "source": [
        "#Leftovers ..."
      ],
      "metadata": {
        "id": "Y_fgdOf1f8UJ"
      }
    },
    {
      "cell_type": "code",
      "source": [
        "!ls /content/praxisdb/sh_orders"
      ],
      "metadata": {
        "id": "G0h1dfNq6xz0"
      },
      "execution_count": null,
      "outputs": []
    },
    {
      "cell_type": "code",
      "source": [
        "df7 = pd.read_parquet('/content/praxisdb/sh_orders/part-00000-2a504e60-1ed6-4c94-8178-34ffdb8e914a-c000.snappy.parquet')\n",
        "df7.info()"
      ],
      "metadata": {
        "id": "uN5l6Tm3gAMW"
      },
      "execution_count": null,
      "outputs": []
    },
    {
      "cell_type": "code",
      "source": [
        "sql_drop_table = \"\"\"\n",
        "drop table if exists praxisdb.fact43A\n",
        "\"\"\"\n",
        "\n",
        "sql_drop_database = \"\"\"\n",
        "drop database if exists praxisdb cascade\n",
        "\"\"\"\n",
        "\n",
        "sql_create_database = \"\"\"\n",
        "create database if not exists praxisdb\n",
        "location '/content/praxisdb/'\n",
        "\"\"\"\n",
        "\n",
        "sql_create_table = \"\"\"\n",
        "create table if not exists praxisdb.fact43A\n",
        "using json\n",
        "as select  * from tFact\n",
        "\"\"\"\n",
        "\n",
        "#as select to_timestamp(date) as date_parsed, *\n",
        "\n",
        "#print(\"dropping database...\")\n",
        "#result_drop_db = spark9.sql(sql_drop_database)\n",
        "\n",
        "#print(\"creating database...\")\n",
        "#result_create_db = spark9.sql(sql_create_database)\n",
        "\n",
        "print(\"dropping table...\")\n",
        "result_droptable = spark9.sql(sql_drop_table)\n",
        "\n",
        "print(\"creating table...\")\n",
        "result_create_table = spark9.sql(sql_create_table)"
      ],
      "metadata": {
        "id": "gG1_pVbf_U3n"
      },
      "execution_count": null,
      "outputs": []
    },
    {
      "cell_type": "code",
      "source": [
        "spark9.sql(\"show tables\").show()"
      ],
      "metadata": {
        "id": "7fmU3eZK__aL"
      },
      "execution_count": null,
      "outputs": []
    },
    {
      "cell_type": "code",
      "source": [
        "spark9.sql(\"desc praxisdb.fact43a\").show()"
      ],
      "metadata": {
        "id": "JVSPvv91AC3E"
      },
      "execution_count": null,
      "outputs": []
    },
    {
      "cell_type": "code",
      "source": [
        "!head /content/praxisdb/fact43a/part-00001-bf5a83d3-17ae-4906-92a9-a123964add9e-c000.json"
      ],
      "metadata": {
        "id": "DvW4UA9cAFyX"
      },
      "execution_count": null,
      "outputs": []
    }
  ]
}