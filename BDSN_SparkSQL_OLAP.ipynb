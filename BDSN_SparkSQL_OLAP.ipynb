{
  "nbformat": 4,
  "nbformat_minor": 0,
  "metadata": {
    "colab": {
      "provenance": [],
      "include_colab_link": true
    },
    "kernelspec": {
      "name": "python3",
      "display_name": "Python 3"
    },
    "language_info": {
      "name": "python"
    }
  },
  "cells": [
    {
      "cell_type": "markdown",
      "metadata": {
        "id": "view-in-github",
        "colab_type": "text"
      },
      "source": [
        "<a href=\"https://colab.research.google.com/github/Praxis-QR/BDSN/blob/main/BDSN_SparkSQL_OLAP.ipynb\" target=\"_parent\"><img src=\"https://colab.research.google.com/assets/colab-badge.svg\" alt=\"Open In Colab\"/></a>"
      ]
    },
    {
      "cell_type": "markdown",
      "metadata": {
        "id": "z7Rb-Atviw9f"
      },
      "source": [
        "![alt text](https://github.com/Praxis-QR/RDWH/raw/main/images/YantraJaalBanner.png)<br>\n",
        "\n",
        "\n",
        "<hr>\n",
        "\n",
        "[Prithwis Mukerjee](http://www.linkedin.com/in/prithwis)<br>"
      ]
    },
    {
      "cell_type": "code",
      "source": [
        "from datetime import datetime\n",
        "import pytz\n",
        "print('ॐ श्री सरस्वत्यै नमः',datetime.now(pytz.timezone('Asia/Calcutta')))\n",
        "!python --version\n",
        "!lsb_release -a"
      ],
      "metadata": {
        "colab": {
          "base_uri": "https://localhost:8080/"
        },
        "id": "Why176oMua9Y",
        "outputId": "bb0399cf-2273-4eab-9675-a85a4c97b3fb"
      },
      "execution_count": 1,
      "outputs": [
        {
          "output_type": "stream",
          "name": "stdout",
          "text": [
            "ॐ श्री सरस्वत्यै नमः 2023-09-13 14:11:25.977247+05:30\n",
            "Python 3.10.12\n",
            "No LSB modules are available.\n",
            "Distributor ID:\tUbuntu\n",
            "Description:\tUbuntu 22.04.2 LTS\n",
            "Release:\t22.04\n",
            "Codename:\tjammy\n"
          ]
        }
      ]
    },
    {
      "cell_type": "code",
      "source": [
        "#import numpy as np\n",
        "import pandas as pd\n",
        "#import pyarrow.csv as pv\n",
        "#import pyarrow.parquet as pq"
      ],
      "metadata": {
        "id": "EQCfWBLcTU3N"
      },
      "execution_count": 2,
      "outputs": []
    },
    {
      "cell_type": "markdown",
      "metadata": {
        "id": "EangLEFRBHZW"
      },
      "source": [
        "#SuperStore Data\n",
        "Super Store Order Data https://drive.google.com/file/d/13MKOpo8iD-tMkeMLw-4IPFi5-xWhmqFZ/view?usp=sharing <br>\n",
        "Original Data from [Tableau](https://community.tableau.com/docs/DOC-1236)"
      ]
    },
    {
      "cell_type": "code",
      "metadata": {
        "id": "VAodtiYwA9Rs"
      },
      "source": [
        "#!wget -O SS_Orders2.csv 'https://drive.google.com/uc?export=download&id=13MKOpo8iD-tMkeMLw-4IPFi5-xWhmqFZ'\n",
        "#!gdown https://drive.google.com/uc?id=13MKOpo8iD-tMkeMLw-4IPFi5-xWhmqFZ\n",
        "#!wget -q -O Orders.csv 'https://raw.githubusercontent.com/Praxis-QR/RDWH/main/data/SS_Orders.csv'\n",
        "!wget -q -O Orders.zip 'https://github.com/Praxis-QR/PythonForManagers/raw/main/Data/SuperStoreSalesKaggle.zip'"
      ],
      "execution_count": 3,
      "outputs": []
    },
    {
      "cell_type": "markdown",
      "source": [
        "#Data Cleaning with Pandas"
      ],
      "metadata": {
        "id": "jHuJBiouu2cU"
      }
    },
    {
      "cell_type": "code",
      "metadata": {
        "id": "ScQV9OQSCVEi",
        "colab": {
          "base_uri": "https://localhost:8080/"
        },
        "outputId": "5f58efc0-6349-44e7-c519-845942ca7d3e"
      },
      "source": [
        "df = pd.read_csv('Orders.zip', delimiter = ',')\n",
        "#df.head(2)\n",
        "df.info()\n",
        "#df.dtypes\n",
        "# order_date, ship_date, sales have been incorrectly formatted as string\n",
        "# year has been incorrectly formatted as integer"
      ],
      "execution_count": 4,
      "outputs": [
        {
          "output_type": "stream",
          "name": "stdout",
          "text": [
            "<class 'pandas.core.frame.DataFrame'>\n",
            "RangeIndex: 51290 entries, 0 to 51289\n",
            "Data columns (total 21 columns):\n",
            " #   Column          Non-Null Count  Dtype  \n",
            "---  ------          --------------  -----  \n",
            " 0   order_id        51290 non-null  object \n",
            " 1   order_date      51290 non-null  object \n",
            " 2   ship_date       51290 non-null  object \n",
            " 3   ship_mode       51290 non-null  object \n",
            " 4   customer_name   51290 non-null  object \n",
            " 5   segment         51290 non-null  object \n",
            " 6   state           51290 non-null  object \n",
            " 7   country         51290 non-null  object \n",
            " 8   market          51290 non-null  object \n",
            " 9   region          51290 non-null  object \n",
            " 10  product_id      51290 non-null  object \n",
            " 11  category        51290 non-null  object \n",
            " 12  sub_category    51290 non-null  object \n",
            " 13  product_name    51290 non-null  object \n",
            " 14  sales           51290 non-null  object \n",
            " 15  quantity        51290 non-null  int64  \n",
            " 16  discount        51290 non-null  float64\n",
            " 17  profit          51290 non-null  float64\n",
            " 18  shipping_cost   51290 non-null  float64\n",
            " 19  order_priority  51290 non-null  object \n",
            " 20  year            51290 non-null  int64  \n",
            "dtypes: float64(3), int64(2), object(16)\n",
            "memory usage: 8.2+ MB\n"
          ]
        }
      ]
    },
    {
      "cell_type": "markdown",
      "source": [
        "## Sales, year needs to be fixed"
      ],
      "metadata": {
        "id": "MYPhzTf4tQ31"
      }
    },
    {
      "cell_type": "code",
      "source": [
        "#\n",
        "# df.sales has been automatically interpreted as string because of the presence of commma,\n",
        "# so replace comma and convert to numeric\n",
        "#\n",
        "\n",
        "df['sales'] = df['sales'].str.replace(',', '')    # replace , with blank\n",
        "df['sales'] = pd.to_numeric(df['sales'])          # convert column to numeric\n",
        "df['year'] = df['year'].astype(str)          # convert column to string"
      ],
      "metadata": {
        "id": "BO6g2Du1J79Q"
      },
      "execution_count": 5,
      "outputs": []
    },
    {
      "cell_type": "code",
      "source": [
        "#df.info()"
      ],
      "metadata": {
        "id": "mlVQ0phmuVW7"
      },
      "execution_count": null,
      "outputs": []
    },
    {
      "cell_type": "markdown",
      "source": [
        "##Date looks Bad, need to be fixed"
      ],
      "metadata": {
        "id": "hKlP8WNwtGL-"
      }
    },
    {
      "cell_type": "code",
      "source": [
        "# what is the first and last order date ?\n",
        "# we have four years of data, but date format changes ...\n",
        "#df['Order Date'].describe\n",
        "df['order_date'].describe\n",
        "#df['ship_date'].describe"
      ],
      "metadata": {
        "colab": {
          "base_uri": "https://localhost:8080/"
        },
        "id": "HYtQGRWdte2k",
        "outputId": "a1c2dac5-9e72-4910-cd55-08c9a2d7e808"
      },
      "execution_count": 6,
      "outputs": [
        {
          "output_type": "execute_result",
          "data": {
            "text/plain": [
              "<bound method NDFrame.describe of 0          1/1/2011\n",
              "1          1/1/2011\n",
              "2          1/1/2011\n",
              "3          1/1/2011\n",
              "4          1/1/2011\n",
              "            ...    \n",
              "51285    31-12-2014\n",
              "51286    31-12-2014\n",
              "51287    31-12-2014\n",
              "51288    31-12-2014\n",
              "51289    31-12-2014\n",
              "Name: order_date, Length: 51290, dtype: object>"
            ]
          },
          "metadata": {},
          "execution_count": 6
        }
      ]
    },
    {
      "cell_type": "code",
      "source": [
        "# Some of the dates are string like dd/mm/yyyy while others are dd-mm-yyyy\n",
        "# this will cause problems in converting string to real dates\n",
        "# So we move all dd-mm-yyyy to dd/mm/yyyy -- could have been the other way round also\n",
        "#\n",
        "\n",
        "df['order_date'] = df['order_date'].str.replace('-','/')\n",
        "df['ship_date'] = df['ship_date'].str.replace('-','/')\n",
        "\n",
        "# convert all dates to dd/mm/yyyy format\n",
        "#\n",
        "df['ship_date'] = pd.to_datetime(df['ship_date'],format='%d/%m/%Y')\n",
        "df['order_date'] = pd.to_datetime(df['order_date'],format='%d/%m/%Y')\n",
        "#df['order_date'].describe"
      ],
      "metadata": {
        "id": "JsqY2sc3tXEG"
      },
      "execution_count": 7,
      "outputs": []
    },
    {
      "cell_type": "code",
      "source": [
        "df.info()"
      ],
      "metadata": {
        "colab": {
          "base_uri": "https://localhost:8080/"
        },
        "id": "xpy8UJc6uTnk",
        "outputId": "da84c95f-eb61-47c5-b4ad-ba82fa1f10ac"
      },
      "execution_count": 8,
      "outputs": [
        {
          "output_type": "stream",
          "name": "stdout",
          "text": [
            "<class 'pandas.core.frame.DataFrame'>\n",
            "RangeIndex: 51290 entries, 0 to 51289\n",
            "Data columns (total 21 columns):\n",
            " #   Column          Non-Null Count  Dtype         \n",
            "---  ------          --------------  -----         \n",
            " 0   order_id        51290 non-null  object        \n",
            " 1   order_date      51290 non-null  datetime64[ns]\n",
            " 2   ship_date       51290 non-null  datetime64[ns]\n",
            " 3   ship_mode       51290 non-null  object        \n",
            " 4   customer_name   51290 non-null  object        \n",
            " 5   segment         51290 non-null  object        \n",
            " 6   state           51290 non-null  object        \n",
            " 7   country         51290 non-null  object        \n",
            " 8   market          51290 non-null  object        \n",
            " 9   region          51290 non-null  object        \n",
            " 10  product_id      51290 non-null  object        \n",
            " 11  category        51290 non-null  object        \n",
            " 12  sub_category    51290 non-null  object        \n",
            " 13  product_name    51290 non-null  object        \n",
            " 14  sales           51290 non-null  int64         \n",
            " 15  quantity        51290 non-null  int64         \n",
            " 16  discount        51290 non-null  float64       \n",
            " 17  profit          51290 non-null  float64       \n",
            " 18  shipping_cost   51290 non-null  float64       \n",
            " 19  order_priority  51290 non-null  object        \n",
            " 20  year            51290 non-null  object        \n",
            "dtypes: datetime64[ns](2), float64(3), int64(2), object(14)\n",
            "memory usage: 8.2+ MB\n"
          ]
        }
      ]
    },
    {
      "cell_type": "code",
      "source": [
        "df.to_csv('Orders2.csv', index=False)"
      ],
      "metadata": {
        "id": "2fVSKQ7Mz9Jd"
      },
      "execution_count": 9,
      "outputs": []
    },
    {
      "cell_type": "markdown",
      "source": [
        "#Spark\n",
        "https://davidadrian.cc/python-hadoop/"
      ],
      "metadata": {
        "id": "4BMBOUtf4-Wd"
      }
    },
    {
      "cell_type": "code",
      "source": [
        "!pip3 -q install pyspark\n",
        "from pyspark.sql import SparkSession\n",
        "#spark9 = SparkSession.builder.master(\"local[*]\").getOrCreate()\n",
        "# note UI port switched from default 4040 to 4050 to avoid clash with ngrok\n",
        "spark9 = SparkSession.builder.master(\"local[*]\").config('spark.ui.port', '4050').getOrCreate()"
      ],
      "metadata": {
        "id": "hel81l4t5Age",
        "outputId": "5f890f0f-9f97-4e3d-d959-43ce99204bb9",
        "colab": {
          "base_uri": "https://localhost:8080/"
        }
      },
      "execution_count": 10,
      "outputs": [
        {
          "output_type": "stream",
          "name": "stdout",
          "text": [
            "\u001b[2K     \u001b[90m━━━━━━━━━━━━━━━━━━━━━━━━━━━━━━━━━━━━━━━\u001b[0m \u001b[32m310.8/310.8 MB\u001b[0m \u001b[31m4.6 MB/s\u001b[0m eta \u001b[36m0:00:00\u001b[0m\n",
            "\u001b[?25h  Preparing metadata (setup.py) ... \u001b[?25l\u001b[?25hdone\n",
            "  Building wheel for pyspark (setup.py) ... \u001b[?25l\u001b[?25hdone\n"
          ]
        }
      ]
    },
    {
      "cell_type": "code",
      "source": [
        "!unzip Orders.zip"
      ],
      "metadata": {
        "id": "U4y6behLIyqJ",
        "colab": {
          "base_uri": "https://localhost:8080/"
        },
        "outputId": "49207162-5db5-417e-fcd7-4f15bd04b3b4"
      },
      "execution_count": 11,
      "outputs": [
        {
          "output_type": "stream",
          "name": "stdout",
          "text": [
            "Archive:  Orders.zip\n",
            "  inflating: SuperStoreOrders.csv    \n"
          ]
        }
      ]
    },
    {
      "cell_type": "code",
      "source": [
        "#Inferred INCORRECTLY, from CSV file\n",
        "sdf9A = spark9.read.csv('SuperStoreOrders.csv', inferSchema=True,header = True, quote = '\"')\n",
        "#sdf9A = spark9.read.csv('SuperStoreOrders.csv', inferSchema=True,header = True)\n",
        "sdf9A.dtypes"
      ],
      "metadata": {
        "id": "p1TvsLPS5vAG",
        "outputId": "dbd527a2-291f-44a9-bf55-fd24ec1383a0",
        "colab": {
          "base_uri": "https://localhost:8080/"
        }
      },
      "execution_count": 12,
      "outputs": [
        {
          "output_type": "execute_result",
          "data": {
            "text/plain": [
              "[('order_id', 'string'),\n",
              " ('order_date', 'string'),\n",
              " ('ship_date', 'string'),\n",
              " ('ship_mode', 'string'),\n",
              " ('customer_name', 'string'),\n",
              " ('segment', 'string'),\n",
              " ('state', 'string'),\n",
              " ('country', 'string'),\n",
              " ('market', 'string'),\n",
              " ('region', 'string'),\n",
              " ('product_id', 'string'),\n",
              " ('category', 'string'),\n",
              " ('sub_category', 'string'),\n",
              " ('product_name', 'string'),\n",
              " ('sales', 'string'),\n",
              " ('quantity', 'string'),\n",
              " ('discount', 'string'),\n",
              " ('profit', 'double'),\n",
              " ('shipping_cost', 'double'),\n",
              " ('order_priority', 'string'),\n",
              " ('year', 'string')]"
            ]
          },
          "metadata": {},
          "execution_count": 12
        }
      ]
    },
    {
      "cell_type": "code",
      "source": [
        "#https://spark.apache.org/docs/latest/sql-ref-datetime-pattern.html\n",
        "from pyspark.sql.functions import col, to_date\n",
        "from pyspark.sql.functions import regexp_replace\n",
        "sdf9B = sdf9A.\\\n",
        "        withColumn('order_date',regexp_replace('order_date','/','-')).\\\n",
        "        withColumn('ship_date',regexp_replace('order_date','/','-')).\\\n",
        "        withColumn('order_date',to_date(col('order_date'), \"d-M-y\")).\\\n",
        "        withColumn('ship_date',to_date(col('ship_date'), \"d-M-y\")).\\\n",
        "        withColumn('sales',col('sales').cast('int')).\\\n",
        "        withColumn('quantity',col('quantity').cast('int'))\n",
        "\n",
        "sdf9B.dtypes"
      ],
      "metadata": {
        "colab": {
          "base_uri": "https://localhost:8080/"
        },
        "id": "alphqlsNwA_t",
        "outputId": "23b036cb-2b84-4a4f-d7f3-89181a5d26d9"
      },
      "execution_count": 28,
      "outputs": [
        {
          "output_type": "execute_result",
          "data": {
            "text/plain": [
              "[('order_id', 'string'),\n",
              " ('order_date', 'date'),\n",
              " ('ship_date', 'date'),\n",
              " ('ship_mode', 'string'),\n",
              " ('customer_name', 'string'),\n",
              " ('segment', 'string'),\n",
              " ('state', 'string'),\n",
              " ('country', 'string'),\n",
              " ('market', 'string'),\n",
              " ('region', 'string'),\n",
              " ('product_id', 'string'),\n",
              " ('category', 'string'),\n",
              " ('sub_category', 'string'),\n",
              " ('product_name', 'string'),\n",
              " ('sales', 'int'),\n",
              " ('quantity', 'int'),\n",
              " ('discount', 'string'),\n",
              " ('profit', 'double'),\n",
              " ('shipping_cost', 'double'),\n",
              " ('order_priority', 'string'),\n",
              " ('year', 'string')]"
            ]
          },
          "metadata": {},
          "execution_count": 28
        }
      ]
    },
    {
      "cell_type": "code",
      "source": [
        "sdf9B.tail(10)"
      ],
      "metadata": {
        "colab": {
          "base_uri": "https://localhost:8080/"
        },
        "id": "wzFL5ng9Misr",
        "outputId": "c8973ddb-8699-4afc-b2fa-6b2cdfe19a2e"
      },
      "execution_count": 29,
      "outputs": [
        {
          "output_type": "execute_result",
          "data": {
            "text/plain": [
              "[Row(order_id='TZ-2014-8220', order_date=datetime.date(2014, 12, 31), ship_date=datetime.date(2014, 12, 31), ship_mode='Standard Class', customer_name='Christine Kargatis', segment='Home Office', state='Dar Es Salaam', country='Tanzania', market='Africa', region='Africa', product_id='OFF-HAR-10001531', category='Office Supplies', sub_category='Labels', product_name='Harbour Creations Removable Labels, Adjustable', sales=50, quantity=6, discount='0', profit=6.84, shipping_cost=2.15, order_priority='Medium', year='2014'),\n",
              " Row(order_id='CA-2014-115427', order_date=datetime.date(2014, 12, 31), ship_date=datetime.date(2014, 12, 31), ship_mode='Standard Class', customer_name='Erica Bern', segment='Corporate', state='California', country='United States', market='US', region='West', product_id='OFF-BI-10004632', category='Office Supplies', sub_category='Binders', product_name='GBC Binding covers', sales=21, quantity=2, discount='0.2', profit=6.475, shipping_cost=2.06, order_priority='Medium', year='2014'),\n",
              " Row(order_id='UP-2014-4410', order_date=datetime.date(2014, 12, 31), ship_date=datetime.date(2014, 12, 31), ship_mode='Standard Class', customer_name='Guy Thornton', segment='Consumer', state='Zaporizhzhya', country='Ukraine', market='EMEA', region='EMEA', product_id='OFF-AVE-10003558', category='Office Supplies', sub_category='Labels', product_name='Avery Round Labels, Alphabetical', sales=28, quantity=4, discount='0', profit=6.12, shipping_cost=1.7, order_priority='Medium', year='2014'),\n",
              " Row(order_id='IN-2014-23754', order_date=datetime.date(2014, 12, 31), ship_date=datetime.date(2014, 12, 31), ship_mode='Standard Class', customer_name='Kalyca Meade', segment='Corporate', state='Guangdong', country='China', market='APAC', region='North Asia', product_id='OFF-PA-10004727', category='Office Supplies', sub_category='Paper', product_name='Eaton Note Cards, 8.5 x 11', sales=79, quantity=3, discount='0', profit=25.38, shipping_cost=1.41, order_priority='Medium', year='2014'),\n",
              " Row(order_id='MX-2014-108574', order_date=datetime.date(2014, 12, 31), ship_date=datetime.date(2014, 12, 31), ship_mode='Standard Class', customer_name='Julia Barnett', segment='Home Office', state='Tamaulipas', country='Mexico', market='LATAM', region='North', product_id='OFF-LA-10004969', category='Office Supplies', sub_category='Labels', product_name='Novimex Legal Exhibit Labels, Adjustable', sales=17, quantity=3, discount='0', profit=0.66, shipping_cost=1.32, order_priority='Medium', year='2014'),\n",
              " Row(order_id='CA-2014-115427', order_date=datetime.date(2014, 12, 31), ship_date=datetime.date(2014, 12, 31), ship_mode='Standard Class', customer_name='Erica Bern', segment='Corporate', state='California', country='United States', market='US', region='West', product_id='OFF-BI-10002103', category='Office Supplies', sub_category='Binders', product_name='Cardinal Slant-D Ring Binder, Heavy Gauge Vinyl', sales=14, quantity=2, discount='0.2', profit=4.5188, shipping_cost=0.89, order_priority='Medium', year='2014'),\n",
              " Row(order_id='MO-2014-2560', order_date=datetime.date(2014, 12, 31), ship_date=datetime.date(2014, 12, 31), ship_mode='Standard Class', customer_name='Liz Preis', segment='Consumer', state='Souss-Massa-Draâ', country='Morocco', market='Africa', region='Africa', product_id='OFF-WIL-10001069', category='Office Supplies', sub_category='Binders', product_name='Wilson Jones Hole Reinforcements, Clear', sales=4, quantity=1, discount='0', profit=0.42, shipping_cost=0.49, order_priority='Medium', year='2014'),\n",
              " Row(order_id='MX-2014-110527', order_date=datetime.date(2014, 12, 31), ship_date=datetime.date(2014, 12, 31), ship_mode='Second Class', customer_name='Charlotte Melton', segment='Consumer', state='Managua', country='Nicaragua', market='LATAM', region='Central', product_id='OFF-LA-10004182', category='Office Supplies', sub_category='Labels', product_name='Hon Color Coded Labels, 5000 Label Set', sales=26, quantity=3, discount='0', profit=12.36, shipping_cost=0.35, order_priority='Medium', year='2014'),\n",
              " Row(order_id='MX-2014-114783', order_date=datetime.date(2014, 12, 31), ship_date=datetime.date(2014, 12, 31), ship_mode='Standard Class', customer_name='Tamara Dahlen', segment='Consumer', state='Chihuahua', country='Mexico', market='LATAM', region='North', product_id='OFF-LA-10000413', category='Office Supplies', sub_category='Labels', product_name='Hon Legal Exhibit Labels, Alphabetical', sales=7, quantity=1, discount='0', profit=0.56, shipping_cost=0.2, order_priority='Medium', year='2014'),\n",
              " Row(order_id='CA-2014-156720', order_date=datetime.date(2014, 12, 31), ship_date=datetime.date(2014, 12, 31), ship_mode='Standard Class', customer_name='Jill Matthias', segment='Consumer', state='Colorado', country='United States', market='US', region='West', product_id='OFF-FA-10003472', category='Office Supplies', sub_category='Fasteners', product_name='Bagged Rubber Bands', sales=3, quantity=3, discount='0.2', profit=-0.6048, shipping_cost=0.17, order_priority='Medium', year='2014')]"
            ]
          },
          "metadata": {},
          "execution_count": 29
        }
      ]
    },
    {
      "cell_type": "code",
      "source": [
        "sdf9X.show()"
      ],
      "metadata": {
        "colab": {
          "base_uri": "https://localhost:8080/"
        },
        "id": "KKlJN8UsISVM",
        "outputId": "798fa949-bab0-4642-9018-e5887e23964f"
      },
      "execution_count": 30,
      "outputs": [
        {
          "output_type": "stream",
          "name": "stdout",
          "text": [
            "+---------------+----------+----------+--------------+-----------------+-----------+-----------------+--------------+------+--------------+----------------+---------------+------------+--------------------+-----+--------+--------+---------+-------------+--------------+----+\n",
            "|       order_id|order_date| ship_date|     ship_mode|    customer_name|    segment|            state|       country|market|        region|      product_id|       category|sub_category|        product_name|sales|quantity|discount|   profit|shipping_cost|order_priority|year|\n",
            "+---------------+----------+----------+--------------+-----------------+-----------+-----------------+--------------+------+--------------+----------------+---------------+------------+--------------------+-----+--------+--------+---------+-------------+--------------+----+\n",
            "|   AG-2011-2040|2011-01-01|2011-01-01|Standard Class|  Toby Braunhardt|   Consumer|      Constantine|       Algeria|Africa|        Africa|OFF-TEN-10000025|Office Supplies|     Storage| Tenex Lockers, Blue|  408|       2|       0|   106.14|        35.46|        Medium|2011|\n",
            "|  IN-2011-47883|2011-01-01|2011-01-01|Standard Class|      Joseph Holt|   Consumer|  New South Wales|     Australia|  APAC|       Oceania| OFF-SU-10000618|Office Supplies|    Supplies|Acme Trimmer, Hig...|  120|       3|     0.1|   36.036|         9.72|        Medium|2011|\n",
            "|   HU-2011-1220|2011-01-01|2011-01-01|  Second Class|    Annie Thurman|   Consumer|         Budapest|       Hungary|  EMEA|          EMEA|OFF-TEN-10001585|Office Supplies|     Storage|Tenex Box, Single...|   66|       4|       0|    29.64|         8.17|          High|2011|\n",
            "|IT-2011-3647632|2011-01-01|2011-01-01|  Second Class|     Eugene Moren|Home Office|        Stockholm|        Sweden|    EU|         North| OFF-PA-10001492|Office Supplies|       Paper|Enermax Note Card...|   45|       3|     0.5|  -26.055|         4.82|          High|2011|\n",
            "|  IN-2011-47883|2011-01-01|2011-01-01|Standard Class|      Joseph Holt|   Consumer|  New South Wales|     Australia|  APAC|       Oceania| FUR-FU-10003447|      Furniture| Furnishings|Eldon Light Bulb,...|  114|       5|     0.1|    37.77|          4.7|        Medium|2011|\n",
            "|  IN-2011-47883|2011-01-01|2011-01-01|Standard Class|      Joseph Holt|   Consumer|  New South Wales|     Australia|  APAC|       Oceania| OFF-PA-10001968|Office Supplies|       Paper|Eaton Computer Pr...|   55|       2|     0.1|   15.342|          1.8|        Medium|2011|\n",
            "|   CA-2011-1510|2011-01-02|2011-01-02|Standard Class|  Magdelene Morse|   Consumer|          Ontario|        Canada|Canada|        Canada|TEC-OKI-10002750|     Technology|    Machines|Okidata Inkjet, W...|  314|       1|       0|     3.12|         24.1|        Medium|2011|\n",
            "|  IN-2011-79397|2011-01-03|2011-01-03|      Same Day|      Kean Nguyen|  Corporate|  New South Wales|     Australia|  APAC|       Oceania| OFF-AP-10000304|Office Supplies|  Appliances|Hoover Microwave,...|  276|       1|     0.1|  110.412|       125.32|      Critical|2011|\n",
            "|  ID-2011-80230|2011-01-03|2011-01-03|Standard Class|     Ken Lonsdale|   Consumer|         Auckland|   New Zealand|  APAC|       Oceania| TEC-CO-10004182|     Technology|     Copiers|Hewlett Wireless ...|  912|       4|     0.4| -319.464|        107.1|           Low|2011|\n",
            "|   IZ-2011-4680|2011-01-03|2011-01-03|Standard Class| Lindsay Williams|  Corporate|           Ninawa|          Iraq|  EMEA|          EMEA|FUR-NOV-10002791|      Furniture|      Chairs|Novimex Swivel St...|  667|       4|       0|   253.32|        81.26|          High|2011|\n",
            "|  IN-2011-65159|2011-01-03|2011-01-03|  Second Class|     Larry Blacks|   Consumer| National Capital|   Philippines|  APAC|Southeast Asia| OFF-ST-10003020|Office Supplies|     Storage|Tenex Lockers, In...|  338|       3|    0.45|-122.8005|        33.75|          High|2011|\n",
            "|  IN-2011-65159|2011-01-03|2011-01-03|  Second Class|     Larry Blacks|   Consumer| National Capital|   Philippines|  APAC|Southeast Asia| FUR-TA-10002797|      Furniture|      Tables|Chromcraft Round ...|  211|       1|    0.55| -70.3995|        21.32|          High|2011|\n",
            "|ES-2011-4869686|2011-01-03|2011-01-03|Standard Class|Dorothy Dickinson|   Consumer|          England|United Kingdom|    EU|         North| FUR-BO-10000728|      Furniture|   Bookcases|Dania Corner Shel...|  854|       7|       0|   290.43|        12.56|        Medium|2011|\n",
            "|  IN-2011-33652|2011-01-03|2011-01-03|Standard Class|    Dennis Pardue|Home Office|          Sarawak|      Malaysia|  APAC|Southeast Asia| TEC-CO-10000594|     Technology|     Copiers|Hewlett Fax and C...|  193|       1|       0|    50.13|         10.4|        Medium|2011|\n",
            "|  ID-2011-80230|2011-01-03|2011-01-03|Standard Class|     Ken Lonsdale|   Consumer|         Auckland|   New Zealand|  APAC|       Oceania| FUR-CH-10000214|      Furniture|      Chairs|Hon Rocking Chair...|  159|       2|     0.4|  -95.676|        10.07|           Low|2011|\n",
            "| MX-2011-160234|2011-01-03|2011-01-03|Standard Class| Stewart Visinsky|   Consumer|        Guatemala|     Guatemala| LATAM|       Central| TEC-PH-10002647|     Technology|      Phones| Nokia Headset, VoIP|  195|       4|       0|    44.88|         8.43|        Medium|2011|\n",
            "|    IR-2011-770|2011-01-03|2011-01-03|Standard Class|    Jas O'Carroll|   Consumer|             Yazd|          Iran|  EMEA|          EMEA|OFF-BRE-10003081|Office Supplies|  Appliances|Breville Coffee G...|  123|       2|       0|     42.9|         8.41|        Medium|2011|\n",
            "|  ID-2011-80230|2011-01-03|2011-01-03|Standard Class|     Ken Lonsdale|   Consumer|         Auckland|   New Zealand|  APAC|       Oceania| TEC-AC-10002881|     Technology| Accessories|Belkin Numeric Ke...|   69|       2|     0.4|     3.42|         8.34|           Low|2011|\n",
            "|  ID-2011-80230|2011-01-03|2011-01-03|Standard Class|     Ken Lonsdale|   Consumer|         Auckland|   New Zealand|  APAC|       Oceania| FUR-CH-10000666|      Furniture|      Chairs|SAFCO Chairmat, B...|   69|       2|     0.4|  -26.412|         8.17|           Low|2011|\n",
            "|  ID-2011-12596|2011-01-03|2011-01-03|Standard Class|     Chris McAfee|   Consumer|Nakhon Ratchasima|      Thailand|  APAC|Southeast Asia| OFF-ST-10002066|Office Supplies|     Storage|Smead File Cart, ...|  135|       2|    0.47| -45.9018|         7.74|        Medium|2011|\n",
            "+---------------+----------+----------+--------------+-----------------+-----------+-----------------+--------------+------+--------------+----------------+---------------+------------+--------------------+-----+--------+--------+---------+-------------+--------------+----+\n",
            "only showing top 20 rows\n",
            "\n"
          ]
        }
      ]
    },
    {
      "cell_type": "code",
      "source": [
        "sdf9A.select('sales','quantity').show(20)"
      ],
      "metadata": {
        "colab": {
          "base_uri": "https://localhost:8080/"
        },
        "id": "IoHv4onx9yKL",
        "outputId": "e81233e7-329c-4f95-c387-0846fe7775d3"
      },
      "execution_count": null,
      "outputs": [
        {
          "output_type": "stream",
          "name": "stdout",
          "text": [
            "+-----+--------+\n",
            "|sales|quantity|\n",
            "+-----+--------+\n",
            "|  408|       2|\n",
            "|  120|       3|\n",
            "|   66|       4|\n",
            "|   45|       3|\n",
            "|  114|       5|\n",
            "|   55|       2|\n",
            "|  314|       1|\n",
            "|  276|       1|\n",
            "|  912|       4|\n",
            "|  667|       4|\n",
            "|  338|       3|\n",
            "|  211|       1|\n",
            "|  854|       7|\n",
            "|  193|       1|\n",
            "|  159|       2|\n",
            "|  195|       4|\n",
            "|  123|       2|\n",
            "|   69|       2|\n",
            "|   69|       2|\n",
            "|  135|       2|\n",
            "+-----+--------+\n",
            "only showing top 20 rows\n",
            "\n"
          ]
        }
      ]
    },
    {
      "cell_type": "code",
      "source": [
        "sdf9B = spark9.read.csv('Orders2.csv', inferSchema=True,header = True)\n",
        "sdf9B.dtypes"
      ],
      "metadata": {
        "colab": {
          "base_uri": "https://localhost:8080/"
        },
        "id": "kjDtbBRD9FQi",
        "outputId": "077b31c0-eb45-404b-85d9-0560d34e59df"
      },
      "execution_count": null,
      "outputs": [
        {
          "output_type": "execute_result",
          "data": {
            "text/plain": [
              "[('order_id', 'string'),\n",
              " ('order_date', 'date'),\n",
              " ('ship_date', 'date'),\n",
              " ('ship_mode', 'string'),\n",
              " ('customer_name', 'string'),\n",
              " ('segment', 'string'),\n",
              " ('state', 'string'),\n",
              " ('country', 'string'),\n",
              " ('market', 'string'),\n",
              " ('region', 'string'),\n",
              " ('product_id', 'string'),\n",
              " ('category', 'string'),\n",
              " ('sub_category', 'string'),\n",
              " ('product_name', 'string'),\n",
              " ('sales', 'string'),\n",
              " ('quantity', 'string'),\n",
              " ('discount', 'string'),\n",
              " ('profit', 'double'),\n",
              " ('shipping_cost', 'double'),\n",
              " ('order_priority', 'string'),\n",
              " ('year', 'string')]"
            ]
          },
          "metadata": {},
          "execution_count": 17
        }
      ]
    },
    {
      "cell_type": "code",
      "source": [
        "#Inferred CORRECTLY, from parquet file\n",
        "sdf9B = spark9.read.parquet('Orders2.parquet', inferSchema=True,header = True, quote = '\"')\n",
        "sdf9B.dtypes"
      ],
      "metadata": {
        "id": "QU_0h11I1qr9",
        "outputId": "c6ef49cb-de19-4722-bc84-d80c098acbb7",
        "colab": {
          "base_uri": "https://localhost:8080/"
        }
      },
      "execution_count": null,
      "outputs": [
        {
          "output_type": "execute_result",
          "data": {
            "text/plain": [
              "[('order_id', 'string'),\n",
              " ('order_date', 'timestamp_ntz'),\n",
              " ('ship_date', 'timestamp_ntz'),\n",
              " ('ship_mode', 'string'),\n",
              " ('customer_name', 'string'),\n",
              " ('segment', 'string'),\n",
              " ('state', 'string'),\n",
              " ('country', 'string'),\n",
              " ('market', 'string'),\n",
              " ('region', 'string'),\n",
              " ('product_id', 'string'),\n",
              " ('category', 'string'),\n",
              " ('sub_category', 'string'),\n",
              " ('product_name', 'string'),\n",
              " ('sales', 'bigint'),\n",
              " ('quantity', 'bigint'),\n",
              " ('discount', 'double'),\n",
              " ('profit', 'double'),\n",
              " ('shipping_cost', 'double'),\n",
              " ('order_priority', 'string'),\n",
              " ('year', 'string')]"
            ]
          },
          "metadata": {},
          "execution_count": 40
        }
      ]
    },
    {
      "cell_type": "code",
      "source": [
        "# Reduced Data\n",
        "#selCols = ['Order ID','Order Date','Segment','Region','Category','Sales','Quantity','Profit']\n",
        "selCols = ['year','segment','region','category','sales','quantity','profit']\n",
        "#df9C = spark9.read.parquet('Orders2.parquet',inferSchema=True,header = True, quote = '\"').select('Order ID','Order Date','Segment','Region','Category','Sales','Quantity','Profit')\n",
        "sdf9C = spark9.read.parquet('Orders2.parquet',inferSchema=True,header = True, quote = '\"').select(selCols)\n",
        "#df9.dtypes\n",
        "sdf9C.dtypes"
      ],
      "metadata": {
        "id": "H6ZmYNyZ2OpI",
        "outputId": "6d72a72b-6a2c-419f-e912-9498b8cfaa80",
        "colab": {
          "base_uri": "https://localhost:8080/"
        }
      },
      "execution_count": null,
      "outputs": [
        {
          "output_type": "execute_result",
          "data": {
            "text/plain": [
              "[('year', 'string'),\n",
              " ('segment', 'string'),\n",
              " ('region', 'string'),\n",
              " ('category', 'string'),\n",
              " ('sales', 'bigint'),\n",
              " ('quantity', 'bigint'),\n",
              " ('profit', 'double')]"
            ]
          },
          "metadata": {},
          "execution_count": 41
        }
      ]
    },
    {
      "cell_type": "code",
      "source": [
        "# remove , and \" from data\n",
        "#import pandas as pd\n",
        "#p_df = pd.read_csv('SSdatafile.csv')\n",
        "#p_df = pd.read_csv('datafile.csv')\n",
        "#p_df2 = p_df.replace(',', ' ', regex=True)\n",
        "#p_df3 = p_df2.replace('\"', '', regex=True)\n",
        "#p_df3.to_csv('SSdatafile2.csv',index=False,sep=',')\n",
        "#!head SSdatafile2.csv"
      ],
      "metadata": {
        "id": "aWuZjTdbTRcX"
      },
      "execution_count": null,
      "outputs": []
    },
    {
      "cell_type": "markdown",
      "source": [
        "##Spark SQL"
      ],
      "metadata": {
        "id": "UohoFsuOW2an"
      }
    },
    {
      "cell_type": "code",
      "source": [
        "spark9.sql(\"show databases\").show()"
      ],
      "metadata": {
        "colab": {
          "base_uri": "https://localhost:8080/"
        },
        "id": "HJpRU8A4W5L2",
        "outputId": "d4fe5b1a-dd35-47db-e66f-837618d24999"
      },
      "execution_count": null,
      "outputs": [
        {
          "output_type": "stream",
          "name": "stdout",
          "text": [
            "+---------+\n",
            "|namespace|\n",
            "+---------+\n",
            "|  default|\n",
            "+---------+\n",
            "\n"
          ]
        }
      ]
    },
    {
      "cell_type": "code",
      "source": [
        "#air_quality_sdf.createOrReplaceTempView(\"air_quality_sdf\")\n",
        "sdf9C.createOrReplaceTempView(\"orders_temp\")"
      ],
      "metadata": {
        "id": "YJAmrs8vXN5Z"
      },
      "execution_count": null,
      "outputs": []
    },
    {
      "cell_type": "code",
      "source": [
        "spark9.sql(\"show tables\").show()"
      ],
      "metadata": {
        "colab": {
          "base_uri": "https://localhost:8080/"
        },
        "id": "Sw8cCE8kXce3",
        "outputId": "7f6eb678-eb60-4bf3-bb30-389229a06762"
      },
      "execution_count": null,
      "outputs": [
        {
          "output_type": "stream",
          "name": "stdout",
          "text": [
            "+---------+-----------+-----------+\n",
            "|namespace|  tableName|isTemporary|\n",
            "+---------+-----------+-----------+\n",
            "|         |orders_temp|       true|\n",
            "+---------+-----------+-----------+\n",
            "\n"
          ]
        }
      ]
    },
    {
      "cell_type": "code",
      "source": [
        "spark9.sql(\"desc orders_temp\").show()"
      ],
      "metadata": {
        "colab": {
          "base_uri": "https://localhost:8080/"
        },
        "id": "ZWRpROJD1G9q",
        "outputId": "5c8a26a5-8b9a-4033-e371-10eb2b5ffb5a"
      },
      "execution_count": null,
      "outputs": [
        {
          "output_type": "stream",
          "name": "stdout",
          "text": [
            "+--------+---------+-------+\n",
            "|col_name|data_type|comment|\n",
            "+--------+---------+-------+\n",
            "|    year|   string|   null|\n",
            "| segment|   string|   null|\n",
            "|  region|   string|   null|\n",
            "|category|   string|   null|\n",
            "|   sales|   bigint|   null|\n",
            "|quantity|   bigint|   null|\n",
            "|  profit|   double|   null|\n",
            "+--------+---------+-------+\n",
            "\n"
          ]
        }
      ]
    },
    {
      "cell_type": "code",
      "source": [
        "spark9.sql('select * from Orders_Temp limit 5').show()"
      ],
      "metadata": {
        "colab": {
          "base_uri": "https://localhost:8080/"
        },
        "id": "erd8GWmyZeUl",
        "outputId": "39ab28ad-7fa2-49f7-e4bf-ed8eb2c64837"
      },
      "execution_count": null,
      "outputs": [
        {
          "output_type": "stream",
          "name": "stdout",
          "text": [
            "+----+-----------+-------+---------------+-----+--------+-------+\n",
            "|year|    segment| region|       category|sales|quantity| profit|\n",
            "+----+-----------+-------+---------------+-----+--------+-------+\n",
            "|2011|   Consumer| Africa|Office Supplies|  408|       2| 106.14|\n",
            "|2011|   Consumer|Oceania|Office Supplies|  120|       3| 36.036|\n",
            "|2011|   Consumer|   EMEA|Office Supplies|   66|       4|  29.64|\n",
            "|2011|Home Office|  North|Office Supplies|   45|       3|-26.055|\n",
            "|2011|   Consumer|Oceania|      Furniture|  114|       5|  37.77|\n",
            "+----+-----------+-------+---------------+-----+--------+-------+\n",
            "\n"
          ]
        }
      ]
    },
    {
      "cell_type": "code",
      "source": [
        "sql_drop_table = \"\"\"\n",
        "drop table if exists praxisdb.sh_orders\n",
        "\"\"\"\n",
        "\n",
        "sql_drop_database = \"\"\"\n",
        "drop database if exists praxisdb cascade\n",
        "\"\"\"\n",
        "\n",
        "sql_create_database = \"\"\"\n",
        "create database if not exists praxisdb\n",
        "location '/content/praxisdb/'\n",
        "\"\"\"\n",
        "\n",
        "sql_create_table = \"\"\"\n",
        "create table if not exists praxisdb.sh_orders\n",
        "using parquet\n",
        "as select  * from Orders_Temp\n",
        "\"\"\"\n",
        "\n",
        "#as select to_timestamp(date) as date_parsed, *\n",
        "\n",
        "print(\"dropping database...\")\n",
        "result_drop_db = spark9.sql(sql_drop_database)\n",
        "\n",
        "print(\"creating database...\")\n",
        "result_create_db = spark9.sql(sql_create_database)\n",
        "\n",
        "print(\"dropping table...\")\n",
        "result_droptable = spark9.sql(sql_drop_table)\n",
        "\n",
        "print(\"creating table...\")\n",
        "result_create_table = spark9.sql(sql_create_table)"
      ],
      "metadata": {
        "colab": {
          "base_uri": "https://localhost:8080/"
        },
        "id": "M5acfAuTX12d",
        "outputId": "266ab70e-ccf5-496f-db77-c20e9f62ad06"
      },
      "execution_count": null,
      "outputs": [
        {
          "output_type": "stream",
          "name": "stdout",
          "text": [
            "dropping database...\n",
            "creating database...\n",
            "dropping table...\n",
            "creating table...\n"
          ]
        }
      ]
    },
    {
      "cell_type": "code",
      "source": [
        "spark9.sql(\"use praxisdb\")\n",
        "spark9.sql(\"show tables\").show()"
      ],
      "metadata": {
        "colab": {
          "base_uri": "https://localhost:8080/"
        },
        "id": "q8-a8JFQ1iaN",
        "outputId": "a2b06117-0191-431f-bc67-8c72f05f6d7e"
      },
      "execution_count": null,
      "outputs": [
        {
          "output_type": "stream",
          "name": "stdout",
          "text": [
            "+---------+-----------+-----------+\n",
            "|namespace|  tableName|isTemporary|\n",
            "+---------+-----------+-----------+\n",
            "| praxisdb|  sh_orders|      false|\n",
            "|         |orders_temp|       true|\n",
            "+---------+-----------+-----------+\n",
            "\n"
          ]
        }
      ]
    },
    {
      "cell_type": "code",
      "source": [
        "spark9.sql(\"select * from praxisdb.sh_orders\").show(5)\n",
        "#.select(\"date_parsed\", \"O_3\").show(5)"
      ],
      "metadata": {
        "colab": {
          "base_uri": "https://localhost:8080/"
        },
        "id": "8Sry26x0ewZD",
        "outputId": "da21e09b-191f-4674-893f-886efcc6e365"
      },
      "execution_count": null,
      "outputs": [
        {
          "output_type": "stream",
          "name": "stdout",
          "text": [
            "+----+-----------+-------+---------------+-----+--------+-------+\n",
            "|year|    segment| region|       category|sales|quantity| profit|\n",
            "+----+-----------+-------+---------------+-----+--------+-------+\n",
            "|2011|   Consumer| Africa|Office Supplies|  408|       2| 106.14|\n",
            "|2011|   Consumer|Oceania|Office Supplies|  120|       3| 36.036|\n",
            "|2011|   Consumer|   EMEA|Office Supplies|   66|       4|  29.64|\n",
            "|2011|Home Office|  North|Office Supplies|   45|       3|-26.055|\n",
            "|2011|   Consumer|Oceania|      Furniture|  114|       5|  37.77|\n",
            "+----+-----------+-------+---------------+-----+--------+-------+\n",
            "only showing top 5 rows\n",
            "\n"
          ]
        }
      ]
    },
    {
      "cell_type": "code",
      "source": [
        "spark9.sql(\"select distinct(region) from praxisdb.sh_orders\").show()"
      ],
      "metadata": {
        "colab": {
          "base_uri": "https://localhost:8080/"
        },
        "id": "svK5YReA4RWc",
        "outputId": "e1da0158-d880-4fdf-d60d-bf1ba20243c7"
      },
      "execution_count": null,
      "outputs": [
        {
          "output_type": "stream",
          "name": "stdout",
          "text": [
            "+--------------+\n",
            "|        region|\n",
            "+--------------+\n",
            "|        Africa|\n",
            "|    North Asia|\n",
            "|  Central Asia|\n",
            "|         South|\n",
            "|     Caribbean|\n",
            "|       Central|\n",
            "|          East|\n",
            "|       Oceania|\n",
            "|        Canada|\n",
            "|          West|\n",
            "|          EMEA|\n",
            "|Southeast Asia|\n",
            "|         North|\n",
            "+--------------+\n",
            "\n"
          ]
        }
      ]
    },
    {
      "cell_type": "markdown",
      "source": [
        "##CrossTab"
      ],
      "metadata": {
        "id": "XaxGELk3N5V_"
      }
    },
    {
      "cell_type": "markdown",
      "source": [
        "###Inner Query"
      ],
      "metadata": {
        "id": "sjjeWzk3PN29"
      }
    },
    {
      "cell_type": "code",
      "source": [
        "sums_df = spark9.sql(\"\"\"\n",
        "    SELECT\n",
        "        Segment,\n",
        "        SUM(IF(Region='Africa',Sales,0)) As Africa,\n",
        "        SUM(IF(Region='North Asia',Sales,0)) As North_Asia,\n",
        "        SUM(IF(Region='Central Asia',Sales,0)) As Central_Asia,\n",
        "        SUM(IF(Region='Caribbean',Sales,0)) As Caribbean,\n",
        "        SUM(IF(Region='Oceania',Sales,0)) As Oceania,\n",
        "        SUM(IF(Region='Canada',Sales,0)) As Canada,\n",
        "        SUM(IF(Region='EMEA',Sales,0)) As EMEA,\n",
        "        SUM(IF(Region='South East Asia',Sales,0)) As SE_Asia,\n",
        "        SUM(IF(Region='Central',Sales,0)) As Central,\n",
        "        SUM(IF(Region='East',Sales,0)) As East,\n",
        "        SUM(IF(Region='West',Sales,0)) As West,\n",
        "        SUM(IF(Region='North',Sales,0)) As North,\n",
        "        SUM(IF(Region='South',Sales,0)) As South\n",
        "    FROM praxisdb.sh_orders\n",
        "        GROUP BY Segment WITH ROLLUP\n",
        "\"\"\")\n",
        "sums_df.show()"
      ],
      "metadata": {
        "id": "QBp2ajeuN7b4",
        "outputId": "363f8d9c-d572-4060-e7dc-aa2738ce771b",
        "colab": {
          "base_uri": "https://localhost:8080/"
        }
      },
      "execution_count": null,
      "outputs": [
        {
          "output_type": "stream",
          "name": "stdout",
          "text": [
            "+-----------+------+----------+------------+---------+-------+------+------+-------+-------+------+------+-------+-------+\n",
            "|    Segment|Africa|North_Asia|Central_Asia|Caribbean|Oceania|Canada|  EMEA|SE_Asia|Central|  East|  West|  North|  South|\n",
            "+-----------+------+----------+------------+---------+-------+------+------+-------+-------+------+------+-------+-------+\n",
            "|Home Office|155077|    175177|      148235|    57395| 197812| 11896|148862|      0| 491961|127465|136736| 209996| 280016|\n",
            "|  Corporate|204948|    265762|      235552|   104535| 322831| 19319|250559|      0| 850405|200422|225870| 394220| 496029|\n",
            "|       null|783776|    848349|      752839|   324281|1100207| 66932|806184|      0|2822399|678834|725514|1248192|1600960|\n",
            "|   Consumer|423751|    407410|      369052|   162351| 579564| 35717|406763|      0|1480033|350947|362908| 643976| 824915|\n",
            "+-----------+------+----------+------------+---------+-------+------+------+-------+-------+------+------+-------+-------+\n",
            "\n"
          ]
        }
      ]
    },
    {
      "cell_type": "markdown",
      "source": [
        "###Outer Query"
      ],
      "metadata": {
        "id": "aDUG_YC9PT5u"
      }
    },
    {
      "cell_type": "code",
      "source": [
        "#sums_df.registerTempTable(\"sums\")\n",
        "sums_df.createOrReplaceTempView(\"sums_T\")\n",
        "#CrossTab = sqlContext.sql(\"\"\"\n",
        "CrossTab = spark9.sql(\"\"\"\n",
        " SELECT\n",
        "  IFNULL(Segment,'#Totals') Dims,\n",
        "  Africa,North_Asia,Central_Asia,Caribbean,\n",
        "  Oceania,Canada,EMEA,SE_Asia,\n",
        "  Central,East,West,South,\n",
        "  Africa +North_Asia + Central_Asia+ Caribbean + Oceania + Canada+EMEA + SE_Asia + Central + East + West + South Totals\n",
        "FROM sums_t\n",
        "order by Dims desc\n",
        "\"\"\")\n",
        "CrossTab.show()"
      ],
      "metadata": {
        "id": "WMCG5b9uOXXc",
        "outputId": "94e8d6cb-c30b-4c8b-8bfc-5104db565be2",
        "colab": {
          "base_uri": "https://localhost:8080/"
        }
      },
      "execution_count": null,
      "outputs": [
        {
          "output_type": "stream",
          "name": "stdout",
          "text": [
            "+-----------+------+----------+------------+---------+-------+------+------+-------+-------+------+------+-------+--------+\n",
            "|       Dims|Africa|North_Asia|Central_Asia|Caribbean|Oceania|Canada|  EMEA|SE_Asia|Central|  East|  West|  South|  Totals|\n",
            "+-----------+------+----------+------------+---------+-------+------+------+-------+-------+------+------+-------+--------+\n",
            "|Home Office|155077|    175177|      148235|    57395| 197812| 11896|148862|      0| 491961|127465|136736| 280016| 1930632|\n",
            "|  Corporate|204948|    265762|      235552|   104535| 322831| 19319|250559|      0| 850405|200422|225870| 496029| 3176232|\n",
            "|   Consumer|423751|    407410|      369052|   162351| 579564| 35717|406763|      0|1480033|350947|362908| 824915| 5403411|\n",
            "|    #Totals|783776|    848349|      752839|   324281|1100207| 66932|806184|      0|2822399|678834|725514|1600960|10510275|\n",
            "+-----------+------+----------+------------+---------+-------+------+------+-------+-------+------+------+-------+--------+\n",
            "\n"
          ]
        }
      ]
    },
    {
      "cell_type": "markdown",
      "source": [
        "###Using Subquery"
      ],
      "metadata": {
        "id": "xHrQ3ESOPXrW"
      }
    },
    {
      "cell_type": "code",
      "source": [
        "CrossTab2 = spark9.sql(\"\"\"\n",
        " SELECT\n",
        "  IFNULL(Segment,'#Totals') Dims,\n",
        "  Africa,North_Asia,Central_Asia,Caribbean,\n",
        "  Oceania,Canada,EMEA,SE_Asia,\n",
        "  Central,East,West,South,\n",
        "  Africa +North_Asia + Central_Asia+ Caribbean + Oceania + Canada+EMEA + SE_Asia + Central + East + West + South Totals\n",
        "FROM (\n",
        "SELECT\n",
        "        Segment,\n",
        "        SUM(IF(Region='Africa',Sales,0)) As Africa,\n",
        "        SUM(IF(Region='North Asia',Sales,0)) As North_Asia,\n",
        "        SUM(IF(Region='Central Asia',Sales,0)) As Central_Asia,\n",
        "        SUM(IF(Region='Caribbean',Sales,0)) As Caribbean,\n",
        "        SUM(IF(Region='Oceania',Sales,0)) As Oceania,\n",
        "        SUM(IF(Region='Canada',Sales,0)) As Canada,\n",
        "        SUM(IF(Region='EMEA',Sales,0)) As EMEA,\n",
        "        SUM(IF(Region='South East Asia',Sales,0)) As SE_Asia,\n",
        "        SUM(IF(Region='Central',Sales,0)) As Central,\n",
        "        SUM(IF(Region='East',Sales,0)) As East,\n",
        "        SUM(IF(Region='West',Sales,0)) As West,\n",
        "        SUM(IF(Region='North',Sales,0)) As North,\n",
        "        SUM(IF(Region='South',Sales,0)) As South\n",
        "    FROM praxisdb.sh_orders\n",
        "        GROUP BY Segment WITH ROLLUP\n",
        "    )\n",
        "as sums\n",
        "order by Dims desc\n",
        "\"\"\")\n",
        "CrossTab2.show()"
      ],
      "metadata": {
        "id": "m8rXXie3O5vG",
        "outputId": "a34f738a-0d89-4185-bdea-e75cfbcf486f",
        "colab": {
          "base_uri": "https://localhost:8080/"
        }
      },
      "execution_count": null,
      "outputs": [
        {
          "output_type": "stream",
          "name": "stdout",
          "text": [
            "+-----------+------+----------+------------+---------+-------+------+------+-------+-------+------+------+-------+--------+\n",
            "|       Dims|Africa|North_Asia|Central_Asia|Caribbean|Oceania|Canada|  EMEA|SE_Asia|Central|  East|  West|  South|  Totals|\n",
            "+-----------+------+----------+------------+---------+-------+------+------+-------+-------+------+------+-------+--------+\n",
            "|Home Office|155077|    175177|      148235|    57395| 197812| 11896|148862|      0| 491961|127465|136736| 280016| 1930632|\n",
            "|  Corporate|204948|    265762|      235552|   104535| 322831| 19319|250559|      0| 850405|200422|225870| 496029| 3176232|\n",
            "|   Consumer|423751|    407410|      369052|   162351| 579564| 35717|406763|      0|1480033|350947|362908| 824915| 5403411|\n",
            "|    #Totals|783776|    848349|      752839|   324281|1100207| 66932|806184|      0|2822399|678834|725514|1600960|10510275|\n",
            "+-----------+------+----------+------------+---------+-------+------+------+-------+-------+------+------+-------+--------+\n",
            "\n"
          ]
        }
      ]
    },
    {
      "cell_type": "code",
      "source": [
        "spark9.sql(\"select distinct(year) from praxisdb.sh_orders\").show()"
      ],
      "metadata": {
        "colab": {
          "base_uri": "https://localhost:8080/"
        },
        "id": "nyJ9DKyFEcjC",
        "outputId": "d9cad6b3-d913-4d3d-ebbc-a169554caea0"
      },
      "execution_count": null,
      "outputs": [
        {
          "output_type": "stream",
          "name": "stdout",
          "text": [
            "+----+\n",
            "|year|\n",
            "+----+\n",
            "|2012|\n",
            "|2014|\n",
            "|2013|\n",
            "|2011|\n",
            "+----+\n",
            "\n"
          ]
        }
      ]
    },
    {
      "cell_type": "code",
      "source": [
        "CrossTab2 = spark9.sql(\"\"\"\n",
        " SELECT\n",
        "  IFNULL(Category,'#Totals') Dims,\n",
        "  Y2011,Y2012,Y2013,Y2014,Y2011+Y2012+Y2013+Y2014 Totals\n",
        "FROM (\n",
        "SELECT\n",
        "        Category,\n",
        "        SUM(IF(Year='2011',Sales,0)) As Y2011,\n",
        "        SUM(IF(Year='2012',Sales,0)) As Y2012,\n",
        "        SUM(IF(Year='2013',Sales,0)) As Y2013,\n",
        "        SUM(IF(Year='2014',Sales,0)) As Y2014\n",
        "    FROM praxisdb.sh_orders\n",
        "        GROUP BY Category WITH ROLLUP\n",
        "    )\n",
        "as sums\n",
        "order by Dims desc\n",
        "\"\"\")\n",
        "CrossTab2.show()"
      ],
      "metadata": {
        "colab": {
          "base_uri": "https://localhost:8080/"
        },
        "id": "PbYB9DfbEpqs",
        "outputId": "aa168b9b-1748-4c38-ea33-8b92bfb20b78"
      },
      "execution_count": null,
      "outputs": [
        {
          "output_type": "stream",
          "name": "stdout",
          "text": [
            "+---------------+-------+-------+-------+-------+--------+\n",
            "|           Dims|  Y2011|  Y2012|  Y2013|  Y2014|  Totals|\n",
            "+---------------+-------+-------+-------+-------+--------+\n",
            "|     Technology| 827698|1023467|1277328|1616198| 4744691|\n",
            "|Office Supplies| 675642| 795113|1010793|1305782| 3787330|\n",
            "|      Furniture| 756171| 858913|1117739|1378061| 4110884|\n",
            "|        #Totals|2259511|2677493|3405860|4300041|12642905|\n",
            "+---------------+-------+-------+-------+-------+--------+\n",
            "\n"
          ]
        }
      ]
    },
    {
      "cell_type": "markdown",
      "source": [
        "#Parquet to Pandas again"
      ],
      "metadata": {
        "id": "Y_fgdOf1f8UJ"
      }
    },
    {
      "cell_type": "code",
      "source": [
        "!ls /content/praxisdb/sh_orders"
      ],
      "metadata": {
        "id": "G0h1dfNq6xz0",
        "outputId": "1d44ecf4-452a-4355-91ec-03442aa5e87c",
        "colab": {
          "base_uri": "https://localhost:8080/"
        }
      },
      "execution_count": null,
      "outputs": [
        {
          "output_type": "stream",
          "name": "stdout",
          "text": [
            "part-00000-2a504e60-1ed6-4c94-8178-34ffdb8e914a-c000.snappy.parquet  _SUCCESS\n"
          ]
        }
      ]
    },
    {
      "cell_type": "code",
      "source": [
        "df7 = pd.read_parquet('/content/praxisdb/sh_orders/part-00000-2a504e60-1ed6-4c94-8178-34ffdb8e914a-c000.snappy.parquet')\n",
        "df7.info()"
      ],
      "metadata": {
        "id": "uN5l6Tm3gAMW",
        "outputId": "3ad3e9d4-9c59-48ba-c9de-45a736a83d4d",
        "colab": {
          "base_uri": "https://localhost:8080/"
        }
      },
      "execution_count": null,
      "outputs": [
        {
          "output_type": "stream",
          "name": "stdout",
          "text": [
            "<class 'pandas.core.frame.DataFrame'>\n",
            "RangeIndex: 51290 entries, 0 to 51289\n",
            "Data columns (total 7 columns):\n",
            " #   Column    Non-Null Count  Dtype  \n",
            "---  ------    --------------  -----  \n",
            " 0   year      51290 non-null  object \n",
            " 1   segment   51290 non-null  object \n",
            " 2   region    51290 non-null  object \n",
            " 3   category  51290 non-null  object \n",
            " 4   sales     51290 non-null  int64  \n",
            " 5   quantity  51290 non-null  int64  \n",
            " 6   profit    51290 non-null  float64\n",
            "dtypes: float64(1), int64(2), object(4)\n",
            "memory usage: 2.7+ MB\n"
          ]
        }
      ]
    },
    {
      "cell_type": "markdown",
      "source": [
        "#Second Spark"
      ],
      "metadata": {
        "id": "fpLbR74Y_sPg"
      }
    },
    {
      "cell_type": "code",
      "source": [
        "spark39 = SparkSession.builder.master(\"local[*]\").config('spark.ui.port', '4050').getOrCreate()\n",
        "target_parquet = 'Orders2.parquet'\n",
        "sdf39B = spark39.read.parquet(target_parquet, inferSchema=True,header = True, quote = '\"')\n",
        "sdf39B.dtypes"
      ],
      "metadata": {
        "colab": {
          "base_uri": "https://localhost:8080/"
        },
        "id": "a9kM7DAb_uND",
        "outputId": "c2f31c71-30c4-4b1f-d994-3663b263dc64"
      },
      "execution_count": null,
      "outputs": [
        {
          "output_type": "execute_result",
          "data": {
            "text/plain": [
              "[('order_id', 'string'),\n",
              " ('order_date', 'timestamp_ntz'),\n",
              " ('ship_date', 'timestamp_ntz'),\n",
              " ('ship_mode', 'string'),\n",
              " ('customer_name', 'string'),\n",
              " ('segment', 'string'),\n",
              " ('state', 'string'),\n",
              " ('country', 'string'),\n",
              " ('market', 'string'),\n",
              " ('region', 'string'),\n",
              " ('product_id', 'string'),\n",
              " ('category', 'string'),\n",
              " ('sub_category', 'string'),\n",
              " ('product_name', 'string'),\n",
              " ('sales', 'bigint'),\n",
              " ('quantity', 'bigint'),\n",
              " ('discount', 'double'),\n",
              " ('profit', 'double'),\n",
              " ('shipping_cost', 'double'),\n",
              " ('order_priority', 'string'),\n",
              " ('year', 'string')]"
            ]
          },
          "metadata": {},
          "execution_count": 60
        }
      ]
    },
    {
      "cell_type": "code",
      "source": [
        "sdf39B.repartition(2).write.mode('overwrite').parquet('wpart/Orders239')"
      ],
      "metadata": {
        "id": "m8KeA0aDNigI"
      },
      "execution_count": null,
      "outputs": []
    },
    {
      "cell_type": "code",
      "source": [
        "spark39.sql('show databases').show()"
      ],
      "metadata": {
        "colab": {
          "base_uri": "https://localhost:8080/"
        },
        "id": "6tOCOrAAN6tl",
        "outputId": "6982c398-4ddd-4e4e-dacb-30bf70279e29"
      },
      "execution_count": null,
      "outputs": [
        {
          "output_type": "stream",
          "name": "stdout",
          "text": [
            "+---------+\n",
            "|namespace|\n",
            "+---------+\n",
            "|  default|\n",
            "| praxisdb|\n",
            "+---------+\n",
            "\n"
          ]
        }
      ]
    },
    {
      "cell_type": "markdown",
      "metadata": {
        "id": "xnF14kOqtVSi"
      },
      "source": [
        "#Chronobooks <br>\n",
        "![alt text](https://1.bp.blogspot.com/-lTiYBkU2qbU/X1er__fvnkI/AAAAAAAAjtE/GhDR3OEGJr4NG43fZPodrQD5kbxtnKebgCLcBGAsYHQ/s600/Footer2020-600x200.png)<hr>\n",
        "Chronotantra and Chronoyantra are two science fiction novels that explore the collapse of human civilisation on Earth and then its rebirth and reincarnation both on Earth as well as on the distant worlds of Mars, Titan and Enceladus. But is it the human civilisation that is being reborn? Or is it some other sentience that is revealing itself.\n",
        "If you have an interest in AI and found this material useful, you may consider buying these novels, in paperback or kindle, from [http://bit.ly/chronobooks](http://bit.ly/chronobooks)"
      ]
    }
  ]
}