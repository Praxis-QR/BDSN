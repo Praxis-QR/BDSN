{
  "nbformat": 4,
  "nbformat_minor": 0,
  "metadata": {
    "colab": {
      "provenance": [],
      "toc_visible": true,
      "include_colab_link": true
    },
    "kernelspec": {
      "name": "python3",
      "display_name": "Python 3"
    },
    "language_info": {
      "name": "python"
    }
  },
  "cells": [
    {
      "cell_type": "markdown",
      "metadata": {
        "id": "view-in-github",
        "colab_type": "text"
      },
      "source": [
        "<a href=\"https://colab.research.google.com/github/Praxis-QR/BDSN/blob/main/BDSN_SparkSQL_OLAP.ipynb\" target=\"_parent\"><img src=\"https://colab.research.google.com/assets/colab-badge.svg\" alt=\"Open In Colab\"/></a>"
      ]
    },
    {
      "cell_type": "markdown",
      "metadata": {
        "id": "z7Rb-Atviw9f"
      },
      "source": [
        "![alt text](https://github.com/Praxis-QR/RDWH/raw/main/images/YantraJaalBanner.png)<br>\n",
        "\n",
        "\n",
        "<hr>\n",
        "\n",
        "[Prithwis Mukerjee](http://www.linkedin.com/in/prithwis)<br>"
      ]
    },
    {
      "cell_type": "code",
      "source": [
        "from datetime import datetime\n",
        "import pytz\n",
        "print('ॐ श्री सरस्वत्यै नमः',datetime.now(pytz.timezone('Asia/Calcutta')))\n",
        "!python --version\n",
        "!lsb_release -a"
      ],
      "metadata": {
        "colab": {
          "base_uri": "https://localhost:8080/"
        },
        "id": "Why176oMua9Y",
        "outputId": "58b476c5-6825-40eb-e9fe-371ff7388f3e"
      },
      "execution_count": 1,
      "outputs": [
        {
          "output_type": "stream",
          "name": "stdout",
          "text": [
            "ॐ श्री सरस्वत्यै नमः 2023-09-14 05:41:37.980015+05:30\n",
            "Python 3.10.12\n",
            "No LSB modules are available.\n",
            "Distributor ID:\tUbuntu\n",
            "Description:\tUbuntu 22.04.2 LTS\n",
            "Release:\t22.04\n",
            "Codename:\tjammy\n"
          ]
        }
      ]
    },
    {
      "cell_type": "code",
      "source": [
        "#import numpy as np\n",
        "import pandas as pd\n",
        "#import pyarrow.csv as pv\n",
        "#import pyarrow.parquet as pq"
      ],
      "metadata": {
        "id": "EQCfWBLcTU3N"
      },
      "execution_count": 1,
      "outputs": []
    },
    {
      "cell_type": "markdown",
      "metadata": {
        "id": "EangLEFRBHZW"
      },
      "source": [
        "#SuperStore Data\n",
        "Super Store Order Data https://drive.google.com/file/d/13MKOpo8iD-tMkeMLw-4IPFi5-xWhmqFZ/view?usp=sharing <br>\n",
        "Original Data from [Tableau](https://community.tableau.com/docs/DOC-1236)"
      ]
    },
    {
      "cell_type": "code",
      "metadata": {
        "id": "VAodtiYwA9Rs"
      },
      "source": [
        "#!wget -O SS_Orders2.csv 'https://drive.google.com/uc?export=download&id=13MKOpo8iD-tMkeMLw-4IPFi5-xWhmqFZ'\n",
        "#!gdown https://drive.google.com/uc?id=13MKOpo8iD-tMkeMLw-4IPFi5-xWhmqFZ\n",
        "#!wget -q -O Orders.csv 'https://raw.githubusercontent.com/Praxis-QR/RDWH/main/data/SS_Orders.csv'\n",
        "!wget -q -O Orders.zip 'https://github.com/Praxis-QR/PythonForManagers/raw/main/Data/SuperStoreSalesKaggle.zip'"
      ],
      "execution_count": 3,
      "outputs": []
    },
    {
      "cell_type": "markdown",
      "source": [
        "#Pandas - Benchmark"
      ],
      "metadata": {
        "id": "5z8XHxX_B86x"
      }
    },
    {
      "cell_type": "markdown",
      "source": [
        "##Data Cleaning with Pandas"
      ],
      "metadata": {
        "id": "jHuJBiouu2cU"
      }
    },
    {
      "cell_type": "code",
      "metadata": {
        "id": "ScQV9OQSCVEi",
        "colab": {
          "base_uri": "https://localhost:8080/"
        },
        "outputId": "178671c7-1f2f-4f00-a483-0e7f8fd3d407"
      },
      "source": [
        "df = pd.read_csv('Orders.zip', delimiter = ',')\n",
        "df.info()\n",
        "\n",
        "# order_date, ship_date, sales have been incorrectly formatted as string\n",
        "# year has been incorrectly formatted as integer"
      ],
      "execution_count": 4,
      "outputs": [
        {
          "output_type": "stream",
          "name": "stdout",
          "text": [
            "<class 'pandas.core.frame.DataFrame'>\n",
            "RangeIndex: 51290 entries, 0 to 51289\n",
            "Data columns (total 21 columns):\n",
            " #   Column          Non-Null Count  Dtype  \n",
            "---  ------          --------------  -----  \n",
            " 0   order_id        51290 non-null  object \n",
            " 1   order_date      51290 non-null  object \n",
            " 2   ship_date       51290 non-null  object \n",
            " 3   ship_mode       51290 non-null  object \n",
            " 4   customer_name   51290 non-null  object \n",
            " 5   segment         51290 non-null  object \n",
            " 6   state           51290 non-null  object \n",
            " 7   country         51290 non-null  object \n",
            " 8   market          51290 non-null  object \n",
            " 9   region          51290 non-null  object \n",
            " 10  product_id      51290 non-null  object \n",
            " 11  category        51290 non-null  object \n",
            " 12  sub_category    51290 non-null  object \n",
            " 13  product_name    51290 non-null  object \n",
            " 14  sales           51290 non-null  object \n",
            " 15  quantity        51290 non-null  int64  \n",
            " 16  discount        51290 non-null  float64\n",
            " 17  profit          51290 non-null  float64\n",
            " 18  shipping_cost   51290 non-null  float64\n",
            " 19  order_priority  51290 non-null  object \n",
            " 20  year            51290 non-null  int64  \n",
            "dtypes: float64(3), int64(2), object(16)\n",
            "memory usage: 8.2+ MB\n"
          ]
        }
      ]
    },
    {
      "cell_type": "markdown",
      "source": [
        "### Sales, year needs to be fixed"
      ],
      "metadata": {
        "id": "MYPhzTf4tQ31"
      }
    },
    {
      "cell_type": "code",
      "source": [
        "# df.sales has been automatically interpreted as string because of the presence of commma,\n",
        "# so replace comma and convert to numeric\n",
        "# convert year to string\n",
        "#\n",
        "\n",
        "df['sales'] = df['sales'].str.replace(',', '')    # replace , with blank\n",
        "df['sales'] = pd.to_numeric(df['sales'])          # convert column to numeric\n",
        "df['year'] = df['year'].astype(str)          # convert column to string"
      ],
      "metadata": {
        "id": "BO6g2Du1J79Q"
      },
      "execution_count": 5,
      "outputs": []
    },
    {
      "cell_type": "code",
      "source": [
        "#df.info()"
      ],
      "metadata": {
        "id": "mlVQ0phmuVW7"
      },
      "execution_count": null,
      "outputs": []
    },
    {
      "cell_type": "markdown",
      "source": [
        "###Date Problems"
      ],
      "metadata": {
        "id": "hKlP8WNwtGL-"
      }
    },
    {
      "cell_type": "code",
      "source": [
        "# what is the first and last order date ?\n",
        "# we have four years of data, but date format changes ...\n",
        "#\n",
        "df['order_date'].describe\n",
        "#df['ship_date'].describe"
      ],
      "metadata": {
        "colab": {
          "base_uri": "https://localhost:8080/"
        },
        "id": "HYtQGRWdte2k",
        "outputId": "44f83c81-1cd8-4842-9628-d016dc38819c"
      },
      "execution_count": 6,
      "outputs": [
        {
          "output_type": "execute_result",
          "data": {
            "text/plain": [
              "<bound method NDFrame.describe of 0          1/1/2011\n",
              "1          1/1/2011\n",
              "2          1/1/2011\n",
              "3          1/1/2011\n",
              "4          1/1/2011\n",
              "            ...    \n",
              "51285    31-12-2014\n",
              "51286    31-12-2014\n",
              "51287    31-12-2014\n",
              "51288    31-12-2014\n",
              "51289    31-12-2014\n",
              "Name: order_date, Length: 51290, dtype: object>"
            ]
          },
          "metadata": {},
          "execution_count": 6
        }
      ]
    },
    {
      "cell_type": "code",
      "source": [
        "# Some of the dates are string like dd/mm/yyyy while others are dd-mm-yyyy\n",
        "# this will cause problems in converting string to real dates\n",
        "# So we move all dd-mm-yyyy to dd/mm/yyyy -- could have been the other way round also\n",
        "#\n",
        "\n",
        "df['order_date'] = df['order_date'].str.replace('-','/')\n",
        "df['ship_date'] = df['ship_date'].str.replace('-','/')\n",
        "\n",
        "# convert all dates to dd/mm/yyyy format\n",
        "#\n",
        "df['ship_date'] = pd.to_datetime(df['ship_date'],format='%d/%m/%Y')\n",
        "df['order_date'] = pd.to_datetime(df['order_date'],format='%d/%m/%Y')\n",
        "#df['order_date'].describe"
      ],
      "metadata": {
        "id": "JsqY2sc3tXEG"
      },
      "execution_count": 7,
      "outputs": []
    },
    {
      "cell_type": "code",
      "source": [
        "# product_name contains comma, doesnt really matter\n",
        "#df['product_name'] = df['product_name'].str.replace('\"','')\n"
      ],
      "metadata": {
        "id": "qBEO_xo-DqeS"
      },
      "execution_count": null,
      "outputs": []
    },
    {
      "cell_type": "code",
      "source": [
        "df.info()"
      ],
      "metadata": {
        "colab": {
          "base_uri": "https://localhost:8080/"
        },
        "id": "xpy8UJc6uTnk",
        "outputId": "4978fc8a-c304-4b94-942f-bc448ef67963"
      },
      "execution_count": 8,
      "outputs": [
        {
          "output_type": "stream",
          "name": "stdout",
          "text": [
            "<class 'pandas.core.frame.DataFrame'>\n",
            "RangeIndex: 51290 entries, 0 to 51289\n",
            "Data columns (total 21 columns):\n",
            " #   Column          Non-Null Count  Dtype         \n",
            "---  ------          --------------  -----         \n",
            " 0   order_id        51290 non-null  object        \n",
            " 1   order_date      51290 non-null  datetime64[ns]\n",
            " 2   ship_date       51290 non-null  datetime64[ns]\n",
            " 3   ship_mode       51290 non-null  object        \n",
            " 4   customer_name   51290 non-null  object        \n",
            " 5   segment         51290 non-null  object        \n",
            " 6   state           51290 non-null  object        \n",
            " 7   country         51290 non-null  object        \n",
            " 8   market          51290 non-null  object        \n",
            " 9   region          51290 non-null  object        \n",
            " 10  product_id      51290 non-null  object        \n",
            " 11  category        51290 non-null  object        \n",
            " 12  sub_category    51290 non-null  object        \n",
            " 13  product_name    51290 non-null  object        \n",
            " 14  sales           51290 non-null  int64         \n",
            " 15  quantity        51290 non-null  int64         \n",
            " 16  discount        51290 non-null  float64       \n",
            " 17  profit          51290 non-null  float64       \n",
            " 18  shipping_cost   51290 non-null  float64       \n",
            " 19  order_priority  51290 non-null  object        \n",
            " 20  year            51290 non-null  object        \n",
            "dtypes: datetime64[ns](2), float64(3), int64(2), object(14)\n",
            "memory usage: 8.2+ MB\n"
          ]
        }
      ]
    },
    {
      "cell_type": "code",
      "source": [
        "df.to_csv('Orders.csv', index=False)"
      ],
      "metadata": {
        "id": "2fVSKQ7Mz9Jd"
      },
      "execution_count": 9,
      "outputs": []
    },
    {
      "cell_type": "markdown",
      "source": [
        "##Pandas Pivot"
      ],
      "metadata": {
        "id": "pFAKHtCM-wyC"
      }
    },
    {
      "cell_type": "code",
      "source": [
        "pd.pivot_table(df, index = 'segment', columns = 'year', values = 'sales', aggfunc = 'sum', margins = True)"
      ],
      "metadata": {
        "colab": {
          "base_uri": "https://localhost:8080/",
          "height": 206
        },
        "id": "-MzFH5vb-zGG",
        "outputId": "4a4c91c8-ae70-402a-fbdc-67921445181c"
      },
      "execution_count": 10,
      "outputs": [
        {
          "output_type": "execute_result",
          "data": {
            "text/plain": [
              "year            2011     2012     2013     2014       All\n",
              "segment                                                  \n",
              "Consumer     1173701  1463804  1729284  2141352   6508141\n",
              "Corporate     691685   774450  1065033  1293640   3824808\n",
              "Home Office   394125   439239   611543   865049   2309956\n",
              "All          2259511  2677493  3405860  4300041  12642905"
            ],
            "text/html": [
              "\n",
              "  <div id=\"df-aabba1a3-b343-48ee-b4b3-94984c364670\" class=\"colab-df-container\">\n",
              "    <div>\n",
              "<style scoped>\n",
              "    .dataframe tbody tr th:only-of-type {\n",
              "        vertical-align: middle;\n",
              "    }\n",
              "\n",
              "    .dataframe tbody tr th {\n",
              "        vertical-align: top;\n",
              "    }\n",
              "\n",
              "    .dataframe thead th {\n",
              "        text-align: right;\n",
              "    }\n",
              "</style>\n",
              "<table border=\"1\" class=\"dataframe\">\n",
              "  <thead>\n",
              "    <tr style=\"text-align: right;\">\n",
              "      <th>year</th>\n",
              "      <th>2011</th>\n",
              "      <th>2012</th>\n",
              "      <th>2013</th>\n",
              "      <th>2014</th>\n",
              "      <th>All</th>\n",
              "    </tr>\n",
              "    <tr>\n",
              "      <th>segment</th>\n",
              "      <th></th>\n",
              "      <th></th>\n",
              "      <th></th>\n",
              "      <th></th>\n",
              "      <th></th>\n",
              "    </tr>\n",
              "  </thead>\n",
              "  <tbody>\n",
              "    <tr>\n",
              "      <th>Consumer</th>\n",
              "      <td>1173701</td>\n",
              "      <td>1463804</td>\n",
              "      <td>1729284</td>\n",
              "      <td>2141352</td>\n",
              "      <td>6508141</td>\n",
              "    </tr>\n",
              "    <tr>\n",
              "      <th>Corporate</th>\n",
              "      <td>691685</td>\n",
              "      <td>774450</td>\n",
              "      <td>1065033</td>\n",
              "      <td>1293640</td>\n",
              "      <td>3824808</td>\n",
              "    </tr>\n",
              "    <tr>\n",
              "      <th>Home Office</th>\n",
              "      <td>394125</td>\n",
              "      <td>439239</td>\n",
              "      <td>611543</td>\n",
              "      <td>865049</td>\n",
              "      <td>2309956</td>\n",
              "    </tr>\n",
              "    <tr>\n",
              "      <th>All</th>\n",
              "      <td>2259511</td>\n",
              "      <td>2677493</td>\n",
              "      <td>3405860</td>\n",
              "      <td>4300041</td>\n",
              "      <td>12642905</td>\n",
              "    </tr>\n",
              "  </tbody>\n",
              "</table>\n",
              "</div>\n",
              "    <div class=\"colab-df-buttons\">\n",
              "\n",
              "  <div class=\"colab-df-container\">\n",
              "    <button class=\"colab-df-convert\" onclick=\"convertToInteractive('df-aabba1a3-b343-48ee-b4b3-94984c364670')\"\n",
              "            title=\"Convert this dataframe to an interactive table.\"\n",
              "            style=\"display:none;\">\n",
              "\n",
              "  <svg xmlns=\"http://www.w3.org/2000/svg\" height=\"24px\" viewBox=\"0 -960 960 960\">\n",
              "    <path d=\"M120-120v-720h720v720H120Zm60-500h600v-160H180v160Zm220 220h160v-160H400v160Zm0 220h160v-160H400v160ZM180-400h160v-160H180v160Zm440 0h160v-160H620v160ZM180-180h160v-160H180v160Zm440 0h160v-160H620v160Z\"/>\n",
              "  </svg>\n",
              "    </button>\n",
              "\n",
              "  <style>\n",
              "    .colab-df-container {\n",
              "      display:flex;\n",
              "      gap: 12px;\n",
              "    }\n",
              "\n",
              "    .colab-df-convert {\n",
              "      background-color: #E8F0FE;\n",
              "      border: none;\n",
              "      border-radius: 50%;\n",
              "      cursor: pointer;\n",
              "      display: none;\n",
              "      fill: #1967D2;\n",
              "      height: 32px;\n",
              "      padding: 0 0 0 0;\n",
              "      width: 32px;\n",
              "    }\n",
              "\n",
              "    .colab-df-convert:hover {\n",
              "      background-color: #E2EBFA;\n",
              "      box-shadow: 0px 1px 2px rgba(60, 64, 67, 0.3), 0px 1px 3px 1px rgba(60, 64, 67, 0.15);\n",
              "      fill: #174EA6;\n",
              "    }\n",
              "\n",
              "    .colab-df-buttons div {\n",
              "      margin-bottom: 4px;\n",
              "    }\n",
              "\n",
              "    [theme=dark] .colab-df-convert {\n",
              "      background-color: #3B4455;\n",
              "      fill: #D2E3FC;\n",
              "    }\n",
              "\n",
              "    [theme=dark] .colab-df-convert:hover {\n",
              "      background-color: #434B5C;\n",
              "      box-shadow: 0px 1px 3px 1px rgba(0, 0, 0, 0.15);\n",
              "      filter: drop-shadow(0px 1px 2px rgba(0, 0, 0, 0.3));\n",
              "      fill: #FFFFFF;\n",
              "    }\n",
              "  </style>\n",
              "\n",
              "    <script>\n",
              "      const buttonEl =\n",
              "        document.querySelector('#df-aabba1a3-b343-48ee-b4b3-94984c364670 button.colab-df-convert');\n",
              "      buttonEl.style.display =\n",
              "        google.colab.kernel.accessAllowed ? 'block' : 'none';\n",
              "\n",
              "      async function convertToInteractive(key) {\n",
              "        const element = document.querySelector('#df-aabba1a3-b343-48ee-b4b3-94984c364670');\n",
              "        const dataTable =\n",
              "          await google.colab.kernel.invokeFunction('convertToInteractive',\n",
              "                                                    [key], {});\n",
              "        if (!dataTable) return;\n",
              "\n",
              "        const docLinkHtml = 'Like what you see? Visit the ' +\n",
              "          '<a target=\"_blank\" href=https://colab.research.google.com/notebooks/data_table.ipynb>data table notebook</a>'\n",
              "          + ' to learn more about interactive tables.';\n",
              "        element.innerHTML = '';\n",
              "        dataTable['output_type'] = 'display_data';\n",
              "        await google.colab.output.renderOutput(dataTable, element);\n",
              "        const docLink = document.createElement('div');\n",
              "        docLink.innerHTML = docLinkHtml;\n",
              "        element.appendChild(docLink);\n",
              "      }\n",
              "    </script>\n",
              "  </div>\n",
              "\n",
              "\n",
              "<div id=\"df-2a3af2c1-0cee-440a-957d-687f34cb2a35\">\n",
              "  <button class=\"colab-df-quickchart\" onclick=\"quickchart('df-2a3af2c1-0cee-440a-957d-687f34cb2a35')\"\n",
              "            title=\"Suggest charts.\"\n",
              "            style=\"display:none;\">\n",
              "\n",
              "<svg xmlns=\"http://www.w3.org/2000/svg\" height=\"24px\"viewBox=\"0 0 24 24\"\n",
              "     width=\"24px\">\n",
              "    <g>\n",
              "        <path d=\"M19 3H5c-1.1 0-2 .9-2 2v14c0 1.1.9 2 2 2h14c1.1 0 2-.9 2-2V5c0-1.1-.9-2-2-2zM9 17H7v-7h2v7zm4 0h-2V7h2v10zm4 0h-2v-4h2v4z\"/>\n",
              "    </g>\n",
              "</svg>\n",
              "  </button>\n",
              "\n",
              "<style>\n",
              "  .colab-df-quickchart {\n",
              "      --bg-color: #E8F0FE;\n",
              "      --fill-color: #1967D2;\n",
              "      --hover-bg-color: #E2EBFA;\n",
              "      --hover-fill-color: #174EA6;\n",
              "      --disabled-fill-color: #AAA;\n",
              "      --disabled-bg-color: #DDD;\n",
              "  }\n",
              "\n",
              "  [theme=dark] .colab-df-quickchart {\n",
              "      --bg-color: #3B4455;\n",
              "      --fill-color: #D2E3FC;\n",
              "      --hover-bg-color: #434B5C;\n",
              "      --hover-fill-color: #FFFFFF;\n",
              "      --disabled-bg-color: #3B4455;\n",
              "      --disabled-fill-color: #666;\n",
              "  }\n",
              "\n",
              "  .colab-df-quickchart {\n",
              "    background-color: var(--bg-color);\n",
              "    border: none;\n",
              "    border-radius: 50%;\n",
              "    cursor: pointer;\n",
              "    display: none;\n",
              "    fill: var(--fill-color);\n",
              "    height: 32px;\n",
              "    padding: 0;\n",
              "    width: 32px;\n",
              "  }\n",
              "\n",
              "  .colab-df-quickchart:hover {\n",
              "    background-color: var(--hover-bg-color);\n",
              "    box-shadow: 0 1px 2px rgba(60, 64, 67, 0.3), 0 1px 3px 1px rgba(60, 64, 67, 0.15);\n",
              "    fill: var(--button-hover-fill-color);\n",
              "  }\n",
              "\n",
              "  .colab-df-quickchart-complete:disabled,\n",
              "  .colab-df-quickchart-complete:disabled:hover {\n",
              "    background-color: var(--disabled-bg-color);\n",
              "    fill: var(--disabled-fill-color);\n",
              "    box-shadow: none;\n",
              "  }\n",
              "\n",
              "  .colab-df-spinner {\n",
              "    border: 2px solid var(--fill-color);\n",
              "    border-color: transparent;\n",
              "    border-bottom-color: var(--fill-color);\n",
              "    animation:\n",
              "      spin 1s steps(1) infinite;\n",
              "  }\n",
              "\n",
              "  @keyframes spin {\n",
              "    0% {\n",
              "      border-color: transparent;\n",
              "      border-bottom-color: var(--fill-color);\n",
              "      border-left-color: var(--fill-color);\n",
              "    }\n",
              "    20% {\n",
              "      border-color: transparent;\n",
              "      border-left-color: var(--fill-color);\n",
              "      border-top-color: var(--fill-color);\n",
              "    }\n",
              "    30% {\n",
              "      border-color: transparent;\n",
              "      border-left-color: var(--fill-color);\n",
              "      border-top-color: var(--fill-color);\n",
              "      border-right-color: var(--fill-color);\n",
              "    }\n",
              "    40% {\n",
              "      border-color: transparent;\n",
              "      border-right-color: var(--fill-color);\n",
              "      border-top-color: var(--fill-color);\n",
              "    }\n",
              "    60% {\n",
              "      border-color: transparent;\n",
              "      border-right-color: var(--fill-color);\n",
              "    }\n",
              "    80% {\n",
              "      border-color: transparent;\n",
              "      border-right-color: var(--fill-color);\n",
              "      border-bottom-color: var(--fill-color);\n",
              "    }\n",
              "    90% {\n",
              "      border-color: transparent;\n",
              "      border-bottom-color: var(--fill-color);\n",
              "    }\n",
              "  }\n",
              "</style>\n",
              "\n",
              "  <script>\n",
              "    async function quickchart(key) {\n",
              "      const quickchartButtonEl =\n",
              "        document.querySelector('#' + key + ' button');\n",
              "      quickchartButtonEl.disabled = true;  // To prevent multiple clicks.\n",
              "      quickchartButtonEl.classList.add('colab-df-spinner');\n",
              "      try {\n",
              "        const charts = await google.colab.kernel.invokeFunction(\n",
              "            'suggestCharts', [key], {});\n",
              "      } catch (error) {\n",
              "        console.error('Error during call to suggestCharts:', error);\n",
              "      }\n",
              "      quickchartButtonEl.classList.remove('colab-df-spinner');\n",
              "      quickchartButtonEl.classList.add('colab-df-quickchart-complete');\n",
              "    }\n",
              "    (() => {\n",
              "      let quickchartButtonEl =\n",
              "        document.querySelector('#df-2a3af2c1-0cee-440a-957d-687f34cb2a35 button');\n",
              "      quickchartButtonEl.style.display =\n",
              "        google.colab.kernel.accessAllowed ? 'block' : 'none';\n",
              "    })();\n",
              "  </script>\n",
              "</div>\n",
              "    </div>\n",
              "  </div>\n"
            ]
          },
          "metadata": {},
          "execution_count": 10
        }
      ]
    },
    {
      "cell_type": "code",
      "source": [
        "pd.pivot_table(df, index = 'segment', columns = 'category', values = 'quantity', aggfunc = 'sum', margins = True)"
      ],
      "metadata": {
        "colab": {
          "base_uri": "https://localhost:8080/",
          "height": 206
        },
        "id": "Si4vnydV_Q0c",
        "outputId": "876e7709-8155-4310-9cd6-bd05088b37ae"
      },
      "execution_count": 11,
      "outputs": [
        {
          "output_type": "execute_result",
          "data": {
            "text/plain": [
              "category     Furniture  Office Supplies  Technology     All\n",
              "segment                                                    \n",
              "Consumer         18002            56025       18130   92157\n",
              "Corporate        10735            32236       10594   53565\n",
              "Home Office       6217            19921        6452   32590\n",
              "All              34954           108182       35176  178312"
            ],
            "text/html": [
              "\n",
              "  <div id=\"df-e7f4913d-5c61-40fc-ae3a-4fe84f6bbbad\" class=\"colab-df-container\">\n",
              "    <div>\n",
              "<style scoped>\n",
              "    .dataframe tbody tr th:only-of-type {\n",
              "        vertical-align: middle;\n",
              "    }\n",
              "\n",
              "    .dataframe tbody tr th {\n",
              "        vertical-align: top;\n",
              "    }\n",
              "\n",
              "    .dataframe thead th {\n",
              "        text-align: right;\n",
              "    }\n",
              "</style>\n",
              "<table border=\"1\" class=\"dataframe\">\n",
              "  <thead>\n",
              "    <tr style=\"text-align: right;\">\n",
              "      <th>category</th>\n",
              "      <th>Furniture</th>\n",
              "      <th>Office Supplies</th>\n",
              "      <th>Technology</th>\n",
              "      <th>All</th>\n",
              "    </tr>\n",
              "    <tr>\n",
              "      <th>segment</th>\n",
              "      <th></th>\n",
              "      <th></th>\n",
              "      <th></th>\n",
              "      <th></th>\n",
              "    </tr>\n",
              "  </thead>\n",
              "  <tbody>\n",
              "    <tr>\n",
              "      <th>Consumer</th>\n",
              "      <td>18002</td>\n",
              "      <td>56025</td>\n",
              "      <td>18130</td>\n",
              "      <td>92157</td>\n",
              "    </tr>\n",
              "    <tr>\n",
              "      <th>Corporate</th>\n",
              "      <td>10735</td>\n",
              "      <td>32236</td>\n",
              "      <td>10594</td>\n",
              "      <td>53565</td>\n",
              "    </tr>\n",
              "    <tr>\n",
              "      <th>Home Office</th>\n",
              "      <td>6217</td>\n",
              "      <td>19921</td>\n",
              "      <td>6452</td>\n",
              "      <td>32590</td>\n",
              "    </tr>\n",
              "    <tr>\n",
              "      <th>All</th>\n",
              "      <td>34954</td>\n",
              "      <td>108182</td>\n",
              "      <td>35176</td>\n",
              "      <td>178312</td>\n",
              "    </tr>\n",
              "  </tbody>\n",
              "</table>\n",
              "</div>\n",
              "    <div class=\"colab-df-buttons\">\n",
              "\n",
              "  <div class=\"colab-df-container\">\n",
              "    <button class=\"colab-df-convert\" onclick=\"convertToInteractive('df-e7f4913d-5c61-40fc-ae3a-4fe84f6bbbad')\"\n",
              "            title=\"Convert this dataframe to an interactive table.\"\n",
              "            style=\"display:none;\">\n",
              "\n",
              "  <svg xmlns=\"http://www.w3.org/2000/svg\" height=\"24px\" viewBox=\"0 -960 960 960\">\n",
              "    <path d=\"M120-120v-720h720v720H120Zm60-500h600v-160H180v160Zm220 220h160v-160H400v160Zm0 220h160v-160H400v160ZM180-400h160v-160H180v160Zm440 0h160v-160H620v160ZM180-180h160v-160H180v160Zm440 0h160v-160H620v160Z\"/>\n",
              "  </svg>\n",
              "    </button>\n",
              "\n",
              "  <style>\n",
              "    .colab-df-container {\n",
              "      display:flex;\n",
              "      gap: 12px;\n",
              "    }\n",
              "\n",
              "    .colab-df-convert {\n",
              "      background-color: #E8F0FE;\n",
              "      border: none;\n",
              "      border-radius: 50%;\n",
              "      cursor: pointer;\n",
              "      display: none;\n",
              "      fill: #1967D2;\n",
              "      height: 32px;\n",
              "      padding: 0 0 0 0;\n",
              "      width: 32px;\n",
              "    }\n",
              "\n",
              "    .colab-df-convert:hover {\n",
              "      background-color: #E2EBFA;\n",
              "      box-shadow: 0px 1px 2px rgba(60, 64, 67, 0.3), 0px 1px 3px 1px rgba(60, 64, 67, 0.15);\n",
              "      fill: #174EA6;\n",
              "    }\n",
              "\n",
              "    .colab-df-buttons div {\n",
              "      margin-bottom: 4px;\n",
              "    }\n",
              "\n",
              "    [theme=dark] .colab-df-convert {\n",
              "      background-color: #3B4455;\n",
              "      fill: #D2E3FC;\n",
              "    }\n",
              "\n",
              "    [theme=dark] .colab-df-convert:hover {\n",
              "      background-color: #434B5C;\n",
              "      box-shadow: 0px 1px 3px 1px rgba(0, 0, 0, 0.15);\n",
              "      filter: drop-shadow(0px 1px 2px rgba(0, 0, 0, 0.3));\n",
              "      fill: #FFFFFF;\n",
              "    }\n",
              "  </style>\n",
              "\n",
              "    <script>\n",
              "      const buttonEl =\n",
              "        document.querySelector('#df-e7f4913d-5c61-40fc-ae3a-4fe84f6bbbad button.colab-df-convert');\n",
              "      buttonEl.style.display =\n",
              "        google.colab.kernel.accessAllowed ? 'block' : 'none';\n",
              "\n",
              "      async function convertToInteractive(key) {\n",
              "        const element = document.querySelector('#df-e7f4913d-5c61-40fc-ae3a-4fe84f6bbbad');\n",
              "        const dataTable =\n",
              "          await google.colab.kernel.invokeFunction('convertToInteractive',\n",
              "                                                    [key], {});\n",
              "        if (!dataTable) return;\n",
              "\n",
              "        const docLinkHtml = 'Like what you see? Visit the ' +\n",
              "          '<a target=\"_blank\" href=https://colab.research.google.com/notebooks/data_table.ipynb>data table notebook</a>'\n",
              "          + ' to learn more about interactive tables.';\n",
              "        element.innerHTML = '';\n",
              "        dataTable['output_type'] = 'display_data';\n",
              "        await google.colab.output.renderOutput(dataTable, element);\n",
              "        const docLink = document.createElement('div');\n",
              "        docLink.innerHTML = docLinkHtml;\n",
              "        element.appendChild(docLink);\n",
              "      }\n",
              "    </script>\n",
              "  </div>\n",
              "\n",
              "\n",
              "<div id=\"df-23aa599b-618c-407b-aaf5-4de167d507a2\">\n",
              "  <button class=\"colab-df-quickchart\" onclick=\"quickchart('df-23aa599b-618c-407b-aaf5-4de167d507a2')\"\n",
              "            title=\"Suggest charts.\"\n",
              "            style=\"display:none;\">\n",
              "\n",
              "<svg xmlns=\"http://www.w3.org/2000/svg\" height=\"24px\"viewBox=\"0 0 24 24\"\n",
              "     width=\"24px\">\n",
              "    <g>\n",
              "        <path d=\"M19 3H5c-1.1 0-2 .9-2 2v14c0 1.1.9 2 2 2h14c1.1 0 2-.9 2-2V5c0-1.1-.9-2-2-2zM9 17H7v-7h2v7zm4 0h-2V7h2v10zm4 0h-2v-4h2v4z\"/>\n",
              "    </g>\n",
              "</svg>\n",
              "  </button>\n",
              "\n",
              "<style>\n",
              "  .colab-df-quickchart {\n",
              "      --bg-color: #E8F0FE;\n",
              "      --fill-color: #1967D2;\n",
              "      --hover-bg-color: #E2EBFA;\n",
              "      --hover-fill-color: #174EA6;\n",
              "      --disabled-fill-color: #AAA;\n",
              "      --disabled-bg-color: #DDD;\n",
              "  }\n",
              "\n",
              "  [theme=dark] .colab-df-quickchart {\n",
              "      --bg-color: #3B4455;\n",
              "      --fill-color: #D2E3FC;\n",
              "      --hover-bg-color: #434B5C;\n",
              "      --hover-fill-color: #FFFFFF;\n",
              "      --disabled-bg-color: #3B4455;\n",
              "      --disabled-fill-color: #666;\n",
              "  }\n",
              "\n",
              "  .colab-df-quickchart {\n",
              "    background-color: var(--bg-color);\n",
              "    border: none;\n",
              "    border-radius: 50%;\n",
              "    cursor: pointer;\n",
              "    display: none;\n",
              "    fill: var(--fill-color);\n",
              "    height: 32px;\n",
              "    padding: 0;\n",
              "    width: 32px;\n",
              "  }\n",
              "\n",
              "  .colab-df-quickchart:hover {\n",
              "    background-color: var(--hover-bg-color);\n",
              "    box-shadow: 0 1px 2px rgba(60, 64, 67, 0.3), 0 1px 3px 1px rgba(60, 64, 67, 0.15);\n",
              "    fill: var(--button-hover-fill-color);\n",
              "  }\n",
              "\n",
              "  .colab-df-quickchart-complete:disabled,\n",
              "  .colab-df-quickchart-complete:disabled:hover {\n",
              "    background-color: var(--disabled-bg-color);\n",
              "    fill: var(--disabled-fill-color);\n",
              "    box-shadow: none;\n",
              "  }\n",
              "\n",
              "  .colab-df-spinner {\n",
              "    border: 2px solid var(--fill-color);\n",
              "    border-color: transparent;\n",
              "    border-bottom-color: var(--fill-color);\n",
              "    animation:\n",
              "      spin 1s steps(1) infinite;\n",
              "  }\n",
              "\n",
              "  @keyframes spin {\n",
              "    0% {\n",
              "      border-color: transparent;\n",
              "      border-bottom-color: var(--fill-color);\n",
              "      border-left-color: var(--fill-color);\n",
              "    }\n",
              "    20% {\n",
              "      border-color: transparent;\n",
              "      border-left-color: var(--fill-color);\n",
              "      border-top-color: var(--fill-color);\n",
              "    }\n",
              "    30% {\n",
              "      border-color: transparent;\n",
              "      border-left-color: var(--fill-color);\n",
              "      border-top-color: var(--fill-color);\n",
              "      border-right-color: var(--fill-color);\n",
              "    }\n",
              "    40% {\n",
              "      border-color: transparent;\n",
              "      border-right-color: var(--fill-color);\n",
              "      border-top-color: var(--fill-color);\n",
              "    }\n",
              "    60% {\n",
              "      border-color: transparent;\n",
              "      border-right-color: var(--fill-color);\n",
              "    }\n",
              "    80% {\n",
              "      border-color: transparent;\n",
              "      border-right-color: var(--fill-color);\n",
              "      border-bottom-color: var(--fill-color);\n",
              "    }\n",
              "    90% {\n",
              "      border-color: transparent;\n",
              "      border-bottom-color: var(--fill-color);\n",
              "    }\n",
              "  }\n",
              "</style>\n",
              "\n",
              "  <script>\n",
              "    async function quickchart(key) {\n",
              "      const quickchartButtonEl =\n",
              "        document.querySelector('#' + key + ' button');\n",
              "      quickchartButtonEl.disabled = true;  // To prevent multiple clicks.\n",
              "      quickchartButtonEl.classList.add('colab-df-spinner');\n",
              "      try {\n",
              "        const charts = await google.colab.kernel.invokeFunction(\n",
              "            'suggestCharts', [key], {});\n",
              "      } catch (error) {\n",
              "        console.error('Error during call to suggestCharts:', error);\n",
              "      }\n",
              "      quickchartButtonEl.classList.remove('colab-df-spinner');\n",
              "      quickchartButtonEl.classList.add('colab-df-quickchart-complete');\n",
              "    }\n",
              "    (() => {\n",
              "      let quickchartButtonEl =\n",
              "        document.querySelector('#df-23aa599b-618c-407b-aaf5-4de167d507a2 button');\n",
              "      quickchartButtonEl.style.display =\n",
              "        google.colab.kernel.accessAllowed ? 'block' : 'none';\n",
              "    })();\n",
              "  </script>\n",
              "</div>\n",
              "    </div>\n",
              "  </div>\n"
            ]
          },
          "metadata": {},
          "execution_count": 11
        }
      ]
    },
    {
      "cell_type": "markdown",
      "source": [
        "#Spark\n",
        "https://davidadrian.cc/python-hadoop/"
      ],
      "metadata": {
        "id": "4BMBOUtf4-Wd"
      }
    },
    {
      "cell_type": "code",
      "source": [
        "!pip3 -q install pyspark"
      ],
      "metadata": {
        "id": "hel81l4t5Age",
        "outputId": "6082b72b-7b80-4bcf-89a7-3d5192eb5914",
        "colab": {
          "base_uri": "https://localhost:8080/"
        }
      },
      "execution_count": 12,
      "outputs": [
        {
          "output_type": "stream",
          "name": "stdout",
          "text": [
            "\u001b[2K     \u001b[90m━━━━━━━━━━━━━━━━━━━━━━━━━━━━━━━━━━━━━━━\u001b[0m \u001b[32m310.8/310.8 MB\u001b[0m \u001b[31m3.5 MB/s\u001b[0m eta \u001b[36m0:00:00\u001b[0m\n",
            "\u001b[?25h  Preparing metadata (setup.py) ... \u001b[?25l\u001b[?25hdone\n",
            "  Building wheel for pyspark (setup.py) ... \u001b[?25l\u001b[?25hdone\n"
          ]
        }
      ]
    },
    {
      "cell_type": "code",
      "source": [
        "from pyspark.sql import SparkSession\n",
        "\n",
        "#https://spark.apache.org/docs/latest/sql-ref-datetime-pattern.html\n",
        "from pyspark.sql.functions import col, to_date\n",
        "from pyspark.sql.functions import regexp_replace"
      ],
      "metadata": {
        "id": "e9hwoMOMCp7U"
      },
      "execution_count": 2,
      "outputs": []
    },
    {
      "cell_type": "code",
      "source": [
        "#spark9 = SparkSession.builder.master(\"local[*]\").getOrCreate()\n",
        "# note UI port switched from default 4040 to 4050 to avoid clash with ngrok\n",
        "spark9 = SparkSession.builder.master(\"local[*]\").config('spark.ui.port', '4050').getOrCreate()"
      ],
      "metadata": {
        "id": "-N_I8Z-xPVg9"
      },
      "execution_count": 3,
      "outputs": []
    },
    {
      "cell_type": "code",
      "source": [
        "!unzip Orders.zip"
      ],
      "metadata": {
        "colab": {
          "base_uri": "https://localhost:8080/"
        },
        "id": "MgAXQWrKE0sp",
        "outputId": "dd38a2c5-31ee-4d32-d34c-ba9f6b174c89"
      },
      "execution_count": 15,
      "outputs": [
        {
          "output_type": "stream",
          "name": "stdout",
          "text": [
            "Archive:  Orders.zip\n",
            "  inflating: SuperStoreOrders.csv    \n"
          ]
        }
      ]
    },
    {
      "cell_type": "markdown",
      "source": [
        "## Data Cleaning with Spark"
      ],
      "metadata": {
        "id": "UXQsHXtkSSY3"
      }
    },
    {
      "cell_type": "code",
      "source": [
        "#Inferred INCORRECTLY, from CSV file\n",
        "\n",
        "sdf = spark9.read.csv('SuperStoreOrders.csv', inferSchema=True,header = True, quote = '\"', escape = '\"')\n",
        "#sdf9A = spark9.read.csv('Orders3.csv', inferSchema=True,header = True, quote = '\"')\n",
        "#sdf9A = spark9.read.csv('SuperStoreOrders.csv', inferSchema=True,header = True)\n",
        "\n",
        "sdf.dtypes"
      ],
      "metadata": {
        "id": "p1TvsLPS5vAG",
        "outputId": "eb21279b-d720-40d7-b4d9-a81c3230f813",
        "colab": {
          "base_uri": "https://localhost:8080/"
        }
      },
      "execution_count": 15,
      "outputs": [
        {
          "output_type": "execute_result",
          "data": {
            "text/plain": [
              "[('order_id', 'string'),\n",
              " ('order_date', 'string'),\n",
              " ('ship_date', 'string'),\n",
              " ('ship_mode', 'string'),\n",
              " ('customer_name', 'string'),\n",
              " ('segment', 'string'),\n",
              " ('state', 'string'),\n",
              " ('country', 'string'),\n",
              " ('market', 'string'),\n",
              " ('region', 'string'),\n",
              " ('product_id', 'string'),\n",
              " ('category', 'string'),\n",
              " ('sub_category', 'string'),\n",
              " ('product_name', 'string'),\n",
              " ('sales', 'string'),\n",
              " ('quantity', 'int'),\n",
              " ('discount', 'double'),\n",
              " ('profit', 'double'),\n",
              " ('shipping_cost', 'double'),\n",
              " ('order_priority', 'string'),\n",
              " ('year', 'int')]"
            ]
          },
          "metadata": {},
          "execution_count": 15
        }
      ]
    },
    {
      "cell_type": "code",
      "source": [
        "#sdf9A.filter(df['sales'].rlike('[\\!\\@\\$\\^\\&\\-\\_\\;\\:\\?\\.\\#\\*]')).count()\n",
        "#sdf9A.filter(df['sales'].like('[\\!\\@\\$\\^\\&\\-\\_\\;\\:\\?\\.\\#\\*\\,]')).show()\n",
        "#sdf.filter(col('sales').contains(\",\")).show()"
      ],
      "metadata": {
        "id": "qjDSzOnUJIxo"
      },
      "execution_count": null,
      "outputs": []
    },
    {
      "cell_type": "code",
      "source": [
        "#https://spark.apache.org/docs/latest/sql-ref-datetime-pattern.html\n",
        "#from pyspark.sql.functions import col, to_date\n",
        "#from pyspark.sql.functions import regexp_replace\n",
        "sdf = sdf.\\\n",
        "        withColumn('order_date',regexp_replace('order_date','/','-')).\\\n",
        "        withColumn('ship_date',regexp_replace('order_date','/','-')).\\\n",
        "        withColumn('order_date',to_date(col('order_date'), \"d-M-y\")).\\\n",
        "        withColumn('ship_date',to_date(col('ship_date'), \"d-M-y\")).\\\n",
        "        withColumn('sales',regexp_replace('sales',',','')).\\\n",
        "        withColumn('sales',col('sales').cast('int')).\\\n",
        "        withColumn('quantity',col('quantity').cast('int')).\\\n",
        "        withColumn('year',col('year').cast('string'))\n",
        "\n",
        "sdf.dtypes"
      ],
      "metadata": {
        "colab": {
          "base_uri": "https://localhost:8080/"
        },
        "id": "alphqlsNwA_t",
        "outputId": "4b7d1f92-d8e6-4de6-a60f-37d7b93257de"
      },
      "execution_count": 16,
      "outputs": [
        {
          "output_type": "execute_result",
          "data": {
            "text/plain": [
              "[('order_id', 'string'),\n",
              " ('order_date', 'date'),\n",
              " ('ship_date', 'date'),\n",
              " ('ship_mode', 'string'),\n",
              " ('customer_name', 'string'),\n",
              " ('segment', 'string'),\n",
              " ('state', 'string'),\n",
              " ('country', 'string'),\n",
              " ('market', 'string'),\n",
              " ('region', 'string'),\n",
              " ('product_id', 'string'),\n",
              " ('category', 'string'),\n",
              " ('sub_category', 'string'),\n",
              " ('product_name', 'string'),\n",
              " ('sales', 'int'),\n",
              " ('quantity', 'int'),\n",
              " ('discount', 'double'),\n",
              " ('profit', 'double'),\n",
              " ('shipping_cost', 'double'),\n",
              " ('order_priority', 'string'),\n",
              " ('year', 'string')]"
            ]
          },
          "metadata": {},
          "execution_count": 16
        }
      ]
    },
    {
      "cell_type": "code",
      "source": [
        "#sdf9A.filter(df['sales'].rlike('[\\!\\@\\$\\^\\&\\-\\_\\;\\:\\?\\.\\#\\*]')).count()\n",
        "#sdf9A.filter(df['sales'].like('[\\!\\@\\$\\^\\&\\-\\_\\;\\:\\?\\.\\#\\*\\,]')).show()\n",
        "#sdf.filter(col('sales').contains(\",\")).show()\n",
        "#sdf.filter(col('product_name').contains(\"\\\"\")).show()"
      ],
      "metadata": {
        "id": "wzFL5ng9Misr"
      },
      "execution_count": 17,
      "outputs": []
    },
    {
      "cell_type": "code",
      "source": [
        "#sdf9A.show()"
      ],
      "metadata": {
        "id": "KKlJN8UsISVM"
      },
      "execution_count": null,
      "outputs": []
    },
    {
      "cell_type": "markdown",
      "source": [
        "## Pivots - check with Panda pivots"
      ],
      "metadata": {
        "id": "L56-5XVUSJYZ"
      }
    },
    {
      "cell_type": "code",
      "source": [
        "sdf.groupBy('segment').pivot('year').sum('sales').show()"
      ],
      "metadata": {
        "colab": {
          "base_uri": "https://localhost:8080/"
        },
        "id": "7J7pORjy_xf6",
        "outputId": "aec1b03b-e39f-425d-85a2-3124325a4af5"
      },
      "execution_count": 18,
      "outputs": [
        {
          "output_type": "stream",
          "name": "stdout",
          "text": [
            "+-----------+-------+-------+-------+-------+\n",
            "|    segment|   2011|   2012|   2013|   2014|\n",
            "+-----------+-------+-------+-------+-------+\n",
            "|   Consumer|1173701|1463804|1729284|2141352|\n",
            "|Home Office| 394125| 439239| 611543| 865049|\n",
            "|  Corporate| 691685| 774450|1065033|1293640|\n",
            "+-----------+-------+-------+-------+-------+\n",
            "\n"
          ]
        }
      ]
    },
    {
      "cell_type": "code",
      "source": [
        "sdf.groupBy('segment').pivot('category').sum('quantity').show()"
      ],
      "metadata": {
        "colab": {
          "base_uri": "https://localhost:8080/"
        },
        "id": "3dovrYOyNb-Q",
        "outputId": "9295a276-0b65-4a5e-f136-88547309f0ad"
      },
      "execution_count": 19,
      "outputs": [
        {
          "output_type": "stream",
          "name": "stdout",
          "text": [
            "+-----------+---------+---------------+----------+\n",
            "|    segment|Furniture|Office Supplies|Technology|\n",
            "+-----------+---------+---------------+----------+\n",
            "|   Consumer|    18002|          56025|     18130|\n",
            "|Home Office|     6217|          19921|      6452|\n",
            "|  Corporate|    10735|          32236|     10594|\n",
            "+-----------+---------+---------------+----------+\n",
            "\n"
          ]
        }
      ]
    },
    {
      "cell_type": "code",
      "source": [
        "# remove , and \" from data\n",
        "#import pandas as pd\n",
        "#p_df = pd.read_csv('SSdatafile.csv')\n",
        "#p_df = pd.read_csv('datafile.csv')\n",
        "#p_df2 = p_df.replace(',', ' ', regex=True)\n",
        "#p_df3 = p_df2.replace('\"', '', regex=True)\n",
        "#p_df3.to_csv('SSdatafile2.csv',index=False,sep=',')\n",
        "#!head SSdatafile2.csv"
      ],
      "metadata": {
        "id": "aWuZjTdbTRcX"
      },
      "execution_count": null,
      "outputs": []
    },
    {
      "cell_type": "markdown",
      "source": [
        "#Spark SQL"
      ],
      "metadata": {
        "id": "UohoFsuOW2an"
      }
    },
    {
      "cell_type": "markdown",
      "source": [
        "##Create Spark Hive Tables"
      ],
      "metadata": {
        "id": "flrY9w9AVhio"
      }
    },
    {
      "cell_type": "code",
      "source": [
        "spark9.sql(\"show databases\").show()"
      ],
      "metadata": {
        "colab": {
          "base_uri": "https://localhost:8080/"
        },
        "id": "1ZS4ipzuSwU9",
        "outputId": "a6dfe660-a6d8-435b-f706-403287f69401"
      },
      "execution_count": 20,
      "outputs": [
        {
          "output_type": "stream",
          "name": "stdout",
          "text": [
            "+---------+\n",
            "|namespace|\n",
            "+---------+\n",
            "|  default|\n",
            "+---------+\n",
            "\n"
          ]
        }
      ]
    },
    {
      "cell_type": "code",
      "source": [
        "#sdf.dtypes"
      ],
      "metadata": {
        "id": "Bpo1CiQ6TgZd"
      },
      "execution_count": 21,
      "outputs": []
    },
    {
      "cell_type": "code",
      "source": [
        "colSet = ['segment','category','region','year','sales','quantity','profit']\n",
        "sdf = sdf.select(colSet)\n",
        "sdf.show()"
      ],
      "metadata": {
        "colab": {
          "base_uri": "https://localhost:8080/"
        },
        "id": "GKVTeFueT2iB",
        "outputId": "ee656537-a993-4014-a8f3-04dffebc0c52"
      },
      "execution_count": 21,
      "outputs": [
        {
          "output_type": "stream",
          "name": "stdout",
          "text": [
            "+-----------+---------------+--------------+----+-----+--------+---------+\n",
            "|    segment|       category|        region|year|sales|quantity|   profit|\n",
            "+-----------+---------------+--------------+----+-----+--------+---------+\n",
            "|   Consumer|Office Supplies|        Africa|2011|  408|       2|   106.14|\n",
            "|   Consumer|Office Supplies|       Oceania|2011|  120|       3|   36.036|\n",
            "|   Consumer|Office Supplies|          EMEA|2011|   66|       4|    29.64|\n",
            "|Home Office|Office Supplies|         North|2011|   45|       3|  -26.055|\n",
            "|   Consumer|      Furniture|       Oceania|2011|  114|       5|    37.77|\n",
            "|   Consumer|Office Supplies|       Oceania|2011|   55|       2|   15.342|\n",
            "|   Consumer|     Technology|        Canada|2011|  314|       1|     3.12|\n",
            "|  Corporate|Office Supplies|       Oceania|2011|  276|       1|  110.412|\n",
            "|   Consumer|     Technology|       Oceania|2011|  912|       4| -319.464|\n",
            "|  Corporate|      Furniture|          EMEA|2011|  667|       4|   253.32|\n",
            "|   Consumer|Office Supplies|Southeast Asia|2011|  338|       3|-122.8005|\n",
            "|   Consumer|      Furniture|Southeast Asia|2011|  211|       1| -70.3995|\n",
            "|   Consumer|      Furniture|         North|2011|  854|       7|   290.43|\n",
            "|Home Office|     Technology|Southeast Asia|2011|  193|       1|    50.13|\n",
            "|   Consumer|      Furniture|       Oceania|2011|  159|       2|  -95.676|\n",
            "|   Consumer|     Technology|       Central|2011|  195|       4|    44.88|\n",
            "|   Consumer|Office Supplies|          EMEA|2011|  123|       2|     42.9|\n",
            "|   Consumer|     Technology|       Oceania|2011|   69|       2|     3.42|\n",
            "|   Consumer|      Furniture|       Oceania|2011|   69|       2|  -26.412|\n",
            "|   Consumer|Office Supplies|Southeast Asia|2011|  135|       2| -45.9018|\n",
            "+-----------+---------------+--------------+----+-----+--------+---------+\n",
            "only showing top 20 rows\n",
            "\n"
          ]
        }
      ]
    },
    {
      "cell_type": "code",
      "source": [
        "#air_quality_sdf.createOrReplaceTempView(\"air_quality_sdf\")\n",
        "sdf.createOrReplaceTempView(\"tFact\")\n",
        "spark9.sql(\"describe tFact\").show()"
      ],
      "metadata": {
        "id": "YJAmrs8vXN5Z",
        "colab": {
          "base_uri": "https://localhost:8080/"
        },
        "outputId": "cf21d547-4a59-4e21-9f3a-3a415c5871a0"
      },
      "execution_count": 22,
      "outputs": [
        {
          "output_type": "stream",
          "name": "stdout",
          "text": [
            "+--------+---------+-------+\n",
            "|col_name|data_type|comment|\n",
            "+--------+---------+-------+\n",
            "| segment|   string|   null|\n",
            "|category|   string|   null|\n",
            "|  region|   string|   null|\n",
            "|    year|   string|   null|\n",
            "|   sales|      int|   null|\n",
            "|quantity|      int|   null|\n",
            "|  profit|   double|   null|\n",
            "+--------+---------+-------+\n",
            "\n"
          ]
        }
      ]
    },
    {
      "cell_type": "code",
      "source": [
        "spark9.sql(\"show tables\").show()"
      ],
      "metadata": {
        "colab": {
          "base_uri": "https://localhost:8080/"
        },
        "id": "Sw8cCE8kXce3",
        "outputId": "2996e884-32d1-4847-9882-db1933cb4b71"
      },
      "execution_count": 23,
      "outputs": [
        {
          "output_type": "stream",
          "name": "stdout",
          "text": [
            "+---------+---------+-----------+\n",
            "|namespace|tableName|isTemporary|\n",
            "+---------+---------+-----------+\n",
            "|         |    tfact|       true|\n",
            "+---------+---------+-----------+\n",
            "\n"
          ]
        }
      ]
    },
    {
      "cell_type": "code",
      "source": [
        "spark9.sql('select * from tFact limit 5').show()"
      ],
      "metadata": {
        "colab": {
          "base_uri": "https://localhost:8080/"
        },
        "id": "erd8GWmyZeUl",
        "outputId": "bbce4826-ed9d-490b-de39-726695b92a73"
      },
      "execution_count": 24,
      "outputs": [
        {
          "output_type": "stream",
          "name": "stdout",
          "text": [
            "+-----------+---------------+-------+----+-----+--------+-------+\n",
            "|    segment|       category| region|year|sales|quantity| profit|\n",
            "+-----------+---------------+-------+----+-----+--------+-------+\n",
            "|   Consumer|Office Supplies| Africa|2011|  408|       2| 106.14|\n",
            "|   Consumer|Office Supplies|Oceania|2011|  120|       3| 36.036|\n",
            "|   Consumer|Office Supplies|   EMEA|2011|   66|       4|  29.64|\n",
            "|Home Office|Office Supplies|  North|2011|   45|       3|-26.055|\n",
            "|   Consumer|      Furniture|Oceania|2011|  114|       5|  37.77|\n",
            "+-----------+---------------+-------+----+-----+--------+-------+\n",
            "\n"
          ]
        }
      ]
    },
    {
      "cell_type": "code",
      "source": [
        "sql_drop_table = \"\"\"\n",
        "drop table if exists praxisdb.fact43\n",
        "\"\"\"\n",
        "\n",
        "sql_drop_database = \"\"\"\n",
        "drop database if exists praxisdb cascade\n",
        "\"\"\"\n",
        "\n",
        "sql_create_database = \"\"\"\n",
        "create database if not exists praxisdb\n",
        "location '/content/praxisdb/'\n",
        "\"\"\"\n",
        "\n",
        "sql_create_table = \"\"\"\n",
        "create table if not exists praxisdb.fact43\n",
        "using parquet\n",
        "as select  * from tFact\n",
        "\"\"\"\n",
        "\n",
        "#as select to_timestamp(date) as date_parsed, *\n",
        "\n",
        "print(\"dropping database...\")\n",
        "result_drop_db = spark9.sql(sql_drop_database)\n",
        "\n",
        "print(\"creating database...\")\n",
        "result_create_db = spark9.sql(sql_create_database)\n",
        "\n",
        "print(\"dropping table...\")\n",
        "result_droptable = spark9.sql(sql_drop_table)\n",
        "\n",
        "print(\"creating table...\")\n",
        "result_create_table = spark9.sql(sql_create_table)"
      ],
      "metadata": {
        "colab": {
          "base_uri": "https://localhost:8080/"
        },
        "id": "M5acfAuTX12d",
        "outputId": "95d0638c-da26-4d8e-a2b7-f4cd4bce94c2"
      },
      "execution_count": 26,
      "outputs": [
        {
          "output_type": "stream",
          "name": "stdout",
          "text": [
            "dropping database...\n",
            "creating database...\n",
            "dropping table...\n",
            "creating table...\n"
          ]
        }
      ]
    },
    {
      "cell_type": "code",
      "source": [
        "spark9.sql(\"use praxisdb\")\n",
        "spark9.sql(\"show tables\").show()"
      ],
      "metadata": {
        "colab": {
          "base_uri": "https://localhost:8080/"
        },
        "id": "q8-a8JFQ1iaN",
        "outputId": "bf4c322b-0a5d-4334-eb8b-70b20c65859e"
      },
      "execution_count": 30,
      "outputs": [
        {
          "output_type": "stream",
          "name": "stdout",
          "text": [
            "+---------+---------+-----------+\n",
            "|namespace|tableName|isTemporary|\n",
            "+---------+---------+-----------+\n",
            "| praxisdb|   fact43|      false|\n",
            "+---------+---------+-----------+\n",
            "\n"
          ]
        }
      ]
    },
    {
      "cell_type": "code",
      "source": [
        "spark9.sql(\"select * from praxisdb.fact43\").show(5)\n",
        "#.select(\"date_parsed\", \"O_3\").show(5)"
      ],
      "metadata": {
        "colab": {
          "base_uri": "https://localhost:8080/"
        },
        "id": "8Sry26x0ewZD",
        "outputId": "d44f67d0-0615-4b7b-ebfb-f0a0ead8e8c6"
      },
      "execution_count": 31,
      "outputs": [
        {
          "output_type": "stream",
          "name": "stdout",
          "text": [
            "+-----------+---------------+-------+----+-----+--------+-------+\n",
            "|    segment|       category| region|year|sales|quantity| profit|\n",
            "+-----------+---------------+-------+----+-----+--------+-------+\n",
            "|   Consumer|Office Supplies| Africa|2011|  408|       2| 106.14|\n",
            "|   Consumer|Office Supplies|Oceania|2011|  120|       3| 36.036|\n",
            "|   Consumer|Office Supplies|   EMEA|2011|   66|       4|  29.64|\n",
            "|Home Office|Office Supplies|  North|2011|   45|       3|-26.055|\n",
            "|   Consumer|      Furniture|Oceania|2011|  114|       5|  37.77|\n",
            "+-----------+---------------+-------+----+-----+--------+-------+\n",
            "only showing top 5 rows\n",
            "\n"
          ]
        }
      ]
    },
    {
      "cell_type": "code",
      "source": [
        "spark9.catalog.dropTempView(\"tFact\")"
      ],
      "metadata": {
        "id": "a2HGpfZMUpmV",
        "outputId": "116fb751-f840-4a1d-8213-5b9768711ec1",
        "colab": {
          "base_uri": "https://localhost:8080/"
        }
      },
      "execution_count": 29,
      "outputs": [
        {
          "output_type": "execute_result",
          "data": {
            "text/plain": [
              "True"
            ]
          },
          "metadata": {},
          "execution_count": 29
        }
      ]
    },
    {
      "cell_type": "code",
      "source": [
        "spark9.sql(\"use praxisdb\")\n",
        "spark9.sql(\"show tables\").show()"
      ],
      "metadata": {
        "id": "kBtWge_-iCmG",
        "outputId": "ce3d76c7-f131-4583-cbea-9d0ce0b01448",
        "colab": {
          "base_uri": "https://localhost:8080/"
        }
      },
      "execution_count": 32,
      "outputs": [
        {
          "output_type": "stream",
          "name": "stdout",
          "text": [
            "+---------+---------+-----------+\n",
            "|namespace|tableName|isTemporary|\n",
            "+---------+---------+-----------+\n",
            "| praxisdb|   fact43|      false|\n",
            "+---------+---------+-----------+\n",
            "\n"
          ]
        }
      ]
    },
    {
      "cell_type": "markdown",
      "source": [
        "#OLAP"
      ],
      "metadata": {
        "id": "NTldGFWwiawv"
      }
    },
    {
      "cell_type": "code",
      "source": [
        "spark9.sql(\"select * from praxisdb.fact43\").show()"
      ],
      "metadata": {
        "id": "_txtqK4xilSf",
        "outputId": "8e48be3e-ed67-4ebe-9f25-346881cc3643",
        "colab": {
          "base_uri": "https://localhost:8080/"
        }
      },
      "execution_count": 33,
      "outputs": [
        {
          "output_type": "stream",
          "name": "stdout",
          "text": [
            "+-----------+---------------+--------------+----+-----+--------+---------+\n",
            "|    segment|       category|        region|year|sales|quantity|   profit|\n",
            "+-----------+---------------+--------------+----+-----+--------+---------+\n",
            "|   Consumer|Office Supplies|        Africa|2011|  408|       2|   106.14|\n",
            "|   Consumer|Office Supplies|       Oceania|2011|  120|       3|   36.036|\n",
            "|   Consumer|Office Supplies|          EMEA|2011|   66|       4|    29.64|\n",
            "|Home Office|Office Supplies|         North|2011|   45|       3|  -26.055|\n",
            "|   Consumer|      Furniture|       Oceania|2011|  114|       5|    37.77|\n",
            "|   Consumer|Office Supplies|       Oceania|2011|   55|       2|   15.342|\n",
            "|   Consumer|     Technology|        Canada|2011|  314|       1|     3.12|\n",
            "|  Corporate|Office Supplies|       Oceania|2011|  276|       1|  110.412|\n",
            "|   Consumer|     Technology|       Oceania|2011|  912|       4| -319.464|\n",
            "|  Corporate|      Furniture|          EMEA|2011|  667|       4|   253.32|\n",
            "|   Consumer|Office Supplies|Southeast Asia|2011|  338|       3|-122.8005|\n",
            "|   Consumer|      Furniture|Southeast Asia|2011|  211|       1| -70.3995|\n",
            "|   Consumer|      Furniture|         North|2011|  854|       7|   290.43|\n",
            "|Home Office|     Technology|Southeast Asia|2011|  193|       1|    50.13|\n",
            "|   Consumer|      Furniture|       Oceania|2011|  159|       2|  -95.676|\n",
            "|   Consumer|     Technology|       Central|2011|  195|       4|    44.88|\n",
            "|   Consumer|Office Supplies|          EMEA|2011|  123|       2|     42.9|\n",
            "|   Consumer|     Technology|       Oceania|2011|   69|       2|     3.42|\n",
            "|   Consumer|      Furniture|       Oceania|2011|   69|       2|  -26.412|\n",
            "|   Consumer|Office Supplies|Southeast Asia|2011|  135|       2| -45.9018|\n",
            "+-----------+---------------+--------------+----+-----+--------+---------+\n",
            "only showing top 20 rows\n",
            "\n"
          ]
        }
      ]
    },
    {
      "cell_type": "markdown",
      "source": [
        "##Group By"
      ],
      "metadata": {
        "id": "tSczMpMiieEp"
      }
    },
    {
      "cell_type": "code",
      "source": [
        "spark9.sql(\"\\\n",
        "select segment, sum(quantity) tot_quantity, sum(sales) tot_sales \\\n",
        "from fact43 \\\n",
        "group by segment \\\n",
        "order by segment \\\n",
        "\").show()"
      ],
      "metadata": {
        "id": "1zxCckmOixfh",
        "outputId": "4d77d6f6-d47d-45f1-eafc-33bb81ead5e1",
        "colab": {
          "base_uri": "https://localhost:8080/"
        }
      },
      "execution_count": 42,
      "outputs": [
        {
          "output_type": "stream",
          "name": "stdout",
          "text": [
            "+-----------+------------+---------+\n",
            "|    segment|tot_quantity|tot_sales|\n",
            "+-----------+------------+---------+\n",
            "|   Consumer|       92157|  6508141|\n",
            "|  Corporate|       53565|  3824808|\n",
            "|Home Office|       32590|  2309956|\n",
            "+-----------+------------+---------+\n",
            "\n"
          ]
        }
      ]
    },
    {
      "cell_type": "code",
      "source": [
        "spark9.sql(\"\\\n",
        "select segment, year, sum(quantity) tot_quantity, sum(sales) tot_sales \\\n",
        "from fact43 \\\n",
        "group by segment, year \\\n",
        "order by segment, year \\\n",
        "\").show()"
      ],
      "metadata": {
        "id": "Scq9V2fDjwVw",
        "outputId": "51c268a2-37ef-4cc1-a65a-2988df4f6403",
        "colab": {
          "base_uri": "https://localhost:8080/"
        }
      },
      "execution_count": 43,
      "outputs": [
        {
          "output_type": "stream",
          "name": "stdout",
          "text": [
            "+-----------+----+------------+---------+\n",
            "|    segment|year|tot_quantity|tot_sales|\n",
            "+-----------+----+------------+---------+\n",
            "|   Consumer|2011|       16455|  1173701|\n",
            "|   Consumer|2012|       20259|  1463804|\n",
            "|   Consumer|2013|       24601|  1729284|\n",
            "|   Consumer|2014|       30842|  2141352|\n",
            "|  Corporate|2011|        9663|   691685|\n",
            "|  Corporate|2012|       11296|   774450|\n",
            "|  Corporate|2013|       14685|  1065033|\n",
            "|  Corporate|2014|       17921|  1293640|\n",
            "|Home Office|2011|        5325|   394125|\n",
            "|Home Office|2012|        6556|   439239|\n",
            "|Home Office|2013|        8850|   611543|\n",
            "|Home Office|2014|       11859|   865049|\n",
            "+-----------+----+------------+---------+\n",
            "\n"
          ]
        }
      ]
    },
    {
      "cell_type": "code",
      "source": [
        "spark9.sql(\"\\\n",
        "select segment, year, sum(quantity) tot_quantity, sum(sales) tot_sales \\\n",
        "from fact43 \\\n",
        "group by segment, year \\\n",
        "union all \\\n",
        "select segment, NULL, sum(quantity) tot_quantity, sum(sales) tot_sales \\\n",
        "from fact43 \\\n",
        "group by segment \\\n",
        "union all \\\n",
        "select NULL, year, sum(quantity) tot_quantity, sum(sales) tot_sales \\\n",
        "from fact43 \\\n",
        "group by year \\\n",
        "union all \\\n",
        "select null, null, sum(quantity) tot_quantity, sum(sales) tot_sales \\\n",
        "from fact43 \\\n",
        "\").show()"
      ],
      "metadata": {
        "id": "iB2EvSGSkZ3D",
        "outputId": "bead7031-75cc-44be-cf2d-7adec0d0ab46",
        "colab": {
          "base_uri": "https://localhost:8080/"
        }
      },
      "execution_count": 48,
      "outputs": [
        {
          "output_type": "stream",
          "name": "stdout",
          "text": [
            "+-----------+----+------------+---------+\n",
            "|    segment|year|tot_quantity|tot_sales|\n",
            "+-----------+----+------------+---------+\n",
            "|  Corporate|2011|        9663|   691685|\n",
            "|Home Office|2012|        6556|   439239|\n",
            "|   Consumer|2014|       30842|  2141352|\n",
            "|Home Office|2013|        8850|   611543|\n",
            "|  Corporate|2012|       11296|   774450|\n",
            "|   Consumer|2011|       16455|  1173701|\n",
            "|Home Office|2011|        5325|   394125|\n",
            "|Home Office|2014|       11859|   865049|\n",
            "|   Consumer|2012|       20259|  1463804|\n",
            "|  Corporate|2013|       14685|  1065033|\n",
            "|   Consumer|2013|       24601|  1729284|\n",
            "|  Corporate|2014|       17921|  1293640|\n",
            "|   Consumer|null|       92157|  6508141|\n",
            "|Home Office|null|       32590|  2309956|\n",
            "|  Corporate|null|       53565|  3824808|\n",
            "|       null|2012|       38111|  2677493|\n",
            "|       null|2014|       60622|  4300041|\n",
            "|       null|2013|       48136|  3405860|\n",
            "|       null|2011|       31443|  2259511|\n",
            "|       null|null|      178312| 12642905|\n",
            "+-----------+----+------------+---------+\n",
            "\n"
          ]
        }
      ]
    },
    {
      "cell_type": "markdown",
      "source": [
        "##Grouping Sets"
      ],
      "metadata": {
        "id": "VpnuSSChmmHm"
      }
    },
    {
      "cell_type": "code",
      "source": [
        "!psql -h localhost -p 5432 -Upostgres -dpraxisdb -c \"\\\n",
        "SELECT warehouse, product,  SUM (quantity) qty \\\n",
        "FROM inventory \\\n",
        "GROUP BY \\\n",
        "    GROUPING SETS( \\\n",
        "        (warehouse,product), \\\n",
        "        (warehouse), \\\n",
        "        (product), \\\n",
        "        () \\\n",
        "    ); \\\n",
        "\""
      ],
      "metadata": {
        "id": "2TcerLsgmsm7"
      },
      "execution_count": null,
      "outputs": []
    },
    {
      "cell_type": "code",
      "source": [
        "spark9.sql(\"\\\n",
        "select segment, year, sum(quantity) tot_quantity, sum(sales) tot_sales \\\n",
        "from fact43 \\\n",
        "group by \\\n",
        "    grouping sets( \\\n",
        "        (segment, year), \\\n",
        "        (segment),\\\n",
        "        (year), \\\n",
        "        () \\\n",
        "    ) \\\n",
        "order by segment, year \\\n",
        "\").show()"
      ],
      "metadata": {
        "id": "-w2EznKfmt6y",
        "outputId": "5e810a8d-691c-4c6b-97ff-020ed36a6986",
        "colab": {
          "base_uri": "https://localhost:8080/"
        }
      },
      "execution_count": 51,
      "outputs": [
        {
          "output_type": "stream",
          "name": "stdout",
          "text": [
            "+-----------+----+------------+---------+\n",
            "|    segment|year|tot_quantity|tot_sales|\n",
            "+-----------+----+------------+---------+\n",
            "|       null|null|      178312| 12642905|\n",
            "|       null|2011|       31443|  2259511|\n",
            "|       null|2012|       38111|  2677493|\n",
            "|       null|2013|       48136|  3405860|\n",
            "|       null|2014|       60622|  4300041|\n",
            "|   Consumer|null|       92157|  6508141|\n",
            "|   Consumer|2011|       16455|  1173701|\n",
            "|   Consumer|2012|       20259|  1463804|\n",
            "|   Consumer|2013|       24601|  1729284|\n",
            "|   Consumer|2014|       30842|  2141352|\n",
            "|  Corporate|null|       53565|  3824808|\n",
            "|  Corporate|2011|        9663|   691685|\n",
            "|  Corporate|2012|       11296|   774450|\n",
            "|  Corporate|2013|       14685|  1065033|\n",
            "|  Corporate|2014|       17921|  1293640|\n",
            "|Home Office|null|       32590|  2309956|\n",
            "|Home Office|2011|        5325|   394125|\n",
            "|Home Office|2012|        6556|   439239|\n",
            "|Home Office|2013|        8850|   611543|\n",
            "|Home Office|2014|       11859|   865049|\n",
            "+-----------+----+------------+---------+\n",
            "\n"
          ]
        }
      ]
    },
    {
      "cell_type": "markdown",
      "source": [
        "##Roll Up"
      ],
      "metadata": {
        "id": "fI3OAHRHof5i"
      }
    },
    {
      "cell_type": "code",
      "source": [
        "spark9.sql(\"\\\n",
        "select segment, year, sum(quantity) tot_quantity, sum(sales) tot_sales \\\n",
        "from fact43 \\\n",
        "group by rollup(segment, year) \\\n",
        "order by segment, year \\\n",
        "\").show()"
      ],
      "metadata": {
        "id": "RDxqpoYAo5bL",
        "outputId": "b9fa772b-a8b4-48c2-a6d4-74c3ab421148",
        "colab": {
          "base_uri": "https://localhost:8080/"
        }
      },
      "execution_count": 52,
      "outputs": [
        {
          "output_type": "stream",
          "name": "stdout",
          "text": [
            "+-----------+----+------------+---------+\n",
            "|    segment|year|tot_quantity|tot_sales|\n",
            "+-----------+----+------------+---------+\n",
            "|       null|null|      178312| 12642905|\n",
            "|   Consumer|null|       92157|  6508141|\n",
            "|   Consumer|2011|       16455|  1173701|\n",
            "|   Consumer|2012|       20259|  1463804|\n",
            "|   Consumer|2013|       24601|  1729284|\n",
            "|   Consumer|2014|       30842|  2141352|\n",
            "|  Corporate|null|       53565|  3824808|\n",
            "|  Corporate|2011|        9663|   691685|\n",
            "|  Corporate|2012|       11296|   774450|\n",
            "|  Corporate|2013|       14685|  1065033|\n",
            "|  Corporate|2014|       17921|  1293640|\n",
            "|Home Office|null|       32590|  2309956|\n",
            "|Home Office|2011|        5325|   394125|\n",
            "|Home Office|2012|        6556|   439239|\n",
            "|Home Office|2013|        8850|   611543|\n",
            "|Home Office|2014|       11859|   865049|\n",
            "+-----------+----+------------+---------+\n",
            "\n"
          ]
        }
      ]
    },
    {
      "cell_type": "markdown",
      "source": [
        "##CUBE"
      ],
      "metadata": {
        "id": "RwpHXh9LpDu1"
      }
    },
    {
      "cell_type": "code",
      "source": [
        "spark9.sql(\"\\\n",
        "select segment, year, sum(quantity) tot_quantity, sum(sales) tot_sales \\\n",
        "from fact43 \\\n",
        "group by cube(segment, year) \\\n",
        "order by segment, year \\\n",
        "\").show()"
      ],
      "metadata": {
        "id": "lkDn07igpO9S",
        "outputId": "f0ecf410-b3ab-449d-c1d9-40342bb58812",
        "colab": {
          "base_uri": "https://localhost:8080/"
        }
      },
      "execution_count": 53,
      "outputs": [
        {
          "output_type": "stream",
          "name": "stdout",
          "text": [
            "+-----------+----+------------+---------+\n",
            "|    segment|year|tot_quantity|tot_sales|\n",
            "+-----------+----+------------+---------+\n",
            "|       null|null|      178312| 12642905|\n",
            "|       null|2011|       31443|  2259511|\n",
            "|       null|2012|       38111|  2677493|\n",
            "|       null|2013|       48136|  3405860|\n",
            "|       null|2014|       60622|  4300041|\n",
            "|   Consumer|null|       92157|  6508141|\n",
            "|   Consumer|2011|       16455|  1173701|\n",
            "|   Consumer|2012|       20259|  1463804|\n",
            "|   Consumer|2013|       24601|  1729284|\n",
            "|   Consumer|2014|       30842|  2141352|\n",
            "|  Corporate|null|       53565|  3824808|\n",
            "|  Corporate|2011|        9663|   691685|\n",
            "|  Corporate|2012|       11296|   774450|\n",
            "|  Corporate|2013|       14685|  1065033|\n",
            "|  Corporate|2014|       17921|  1293640|\n",
            "|Home Office|null|       32590|  2309956|\n",
            "|Home Office|2011|        5325|   394125|\n",
            "|Home Office|2012|        6556|   439239|\n",
            "|Home Office|2013|        8850|   611543|\n",
            "|Home Office|2014|       11859|   865049|\n",
            "+-----------+----+------------+---------+\n",
            "\n"
          ]
        }
      ]
    },
    {
      "cell_type": "markdown",
      "source": [
        "##CrossTab"
      ],
      "metadata": {
        "id": "XaxGELk3N5V_"
      }
    },
    {
      "cell_type": "markdown",
      "source": [
        "###Inner Query"
      ],
      "metadata": {
        "id": "sjjeWzk3PN29"
      }
    },
    {
      "cell_type": "code",
      "source": [
        "sums_df = spark9.sql(\"\"\"\n",
        "    SELECT\n",
        "        Segment,\n",
        "        SUM(IF(Region='Africa',Sales,0)) As Africa,\n",
        "        SUM(IF(Region='North Asia',Sales,0)) As North_Asia,\n",
        "        SUM(IF(Region='Central Asia',Sales,0)) As Central_Asia,\n",
        "        SUM(IF(Region='Caribbean',Sales,0)) As Caribbean,\n",
        "        SUM(IF(Region='Oceania',Sales,0)) As Oceania,\n",
        "        SUM(IF(Region='Canada',Sales,0)) As Canada,\n",
        "        SUM(IF(Region='EMEA',Sales,0)) As EMEA,\n",
        "        SUM(IF(Region='South East Asia',Sales,0)) As SE_Asia,\n",
        "        SUM(IF(Region='Central',Sales,0)) As Central,\n",
        "        SUM(IF(Region='East',Sales,0)) As East,\n",
        "        SUM(IF(Region='West',Sales,0)) As West,\n",
        "        SUM(IF(Region='North',Sales,0)) As North,\n",
        "        SUM(IF(Region='South',Sales,0)) As South\n",
        "    FROM praxisdb.sh_orders\n",
        "        GROUP BY Segment WITH ROLLUP\n",
        "\"\"\")\n",
        "sums_df.show()"
      ],
      "metadata": {
        "id": "QBp2ajeuN7b4",
        "outputId": "363f8d9c-d572-4060-e7dc-aa2738ce771b",
        "colab": {
          "base_uri": "https://localhost:8080/"
        }
      },
      "execution_count": null,
      "outputs": [
        {
          "output_type": "stream",
          "name": "stdout",
          "text": [
            "+-----------+------+----------+------------+---------+-------+------+------+-------+-------+------+------+-------+-------+\n",
            "|    Segment|Africa|North_Asia|Central_Asia|Caribbean|Oceania|Canada|  EMEA|SE_Asia|Central|  East|  West|  North|  South|\n",
            "+-----------+------+----------+------------+---------+-------+------+------+-------+-------+------+------+-------+-------+\n",
            "|Home Office|155077|    175177|      148235|    57395| 197812| 11896|148862|      0| 491961|127465|136736| 209996| 280016|\n",
            "|  Corporate|204948|    265762|      235552|   104535| 322831| 19319|250559|      0| 850405|200422|225870| 394220| 496029|\n",
            "|       null|783776|    848349|      752839|   324281|1100207| 66932|806184|      0|2822399|678834|725514|1248192|1600960|\n",
            "|   Consumer|423751|    407410|      369052|   162351| 579564| 35717|406763|      0|1480033|350947|362908| 643976| 824915|\n",
            "+-----------+------+----------+------------+---------+-------+------+------+-------+-------+------+------+-------+-------+\n",
            "\n"
          ]
        }
      ]
    },
    {
      "cell_type": "markdown",
      "source": [
        "###Outer Query"
      ],
      "metadata": {
        "id": "aDUG_YC9PT5u"
      }
    },
    {
      "cell_type": "code",
      "source": [
        "#sums_df.registerTempTable(\"sums\")\n",
        "sums_df.createOrReplaceTempView(\"sums_T\")\n",
        "#CrossTab = sqlContext.sql(\"\"\"\n",
        "CrossTab = spark9.sql(\"\"\"\n",
        " SELECT\n",
        "  IFNULL(Segment,'#Totals') Dims,\n",
        "  Africa,North_Asia,Central_Asia,Caribbean,\n",
        "  Oceania,Canada,EMEA,SE_Asia,\n",
        "  Central,East,West,South,\n",
        "  Africa +North_Asia + Central_Asia+ Caribbean + Oceania + Canada+EMEA + SE_Asia + Central + East + West + South Totals\n",
        "FROM sums_t\n",
        "order by Dims desc\n",
        "\"\"\")\n",
        "CrossTab.show()"
      ],
      "metadata": {
        "id": "WMCG5b9uOXXc",
        "outputId": "94e8d6cb-c30b-4c8b-8bfc-5104db565be2",
        "colab": {
          "base_uri": "https://localhost:8080/"
        }
      },
      "execution_count": null,
      "outputs": [
        {
          "output_type": "stream",
          "name": "stdout",
          "text": [
            "+-----------+------+----------+------------+---------+-------+------+------+-------+-------+------+------+-------+--------+\n",
            "|       Dims|Africa|North_Asia|Central_Asia|Caribbean|Oceania|Canada|  EMEA|SE_Asia|Central|  East|  West|  South|  Totals|\n",
            "+-----------+------+----------+------------+---------+-------+------+------+-------+-------+------+------+-------+--------+\n",
            "|Home Office|155077|    175177|      148235|    57395| 197812| 11896|148862|      0| 491961|127465|136736| 280016| 1930632|\n",
            "|  Corporate|204948|    265762|      235552|   104535| 322831| 19319|250559|      0| 850405|200422|225870| 496029| 3176232|\n",
            "|   Consumer|423751|    407410|      369052|   162351| 579564| 35717|406763|      0|1480033|350947|362908| 824915| 5403411|\n",
            "|    #Totals|783776|    848349|      752839|   324281|1100207| 66932|806184|      0|2822399|678834|725514|1600960|10510275|\n",
            "+-----------+------+----------+------------+---------+-------+------+------+-------+-------+------+------+-------+--------+\n",
            "\n"
          ]
        }
      ]
    },
    {
      "cell_type": "markdown",
      "source": [
        "###Using Subquery"
      ],
      "metadata": {
        "id": "xHrQ3ESOPXrW"
      }
    },
    {
      "cell_type": "code",
      "source": [
        "CrossTab2 = spark9.sql(\"\"\"\n",
        " SELECT\n",
        "  IFNULL(Segment,'#Totals') Dims,\n",
        "  Africa,North_Asia,Central_Asia,Caribbean,\n",
        "  Oceania,Canada,EMEA,SE_Asia,\n",
        "  Central,East,West,South,\n",
        "  Africa +North_Asia + Central_Asia+ Caribbean + Oceania + Canada+EMEA + SE_Asia + Central + East + West + South Totals\n",
        "FROM (\n",
        "SELECT\n",
        "        Segment,\n",
        "        SUM(IF(Region='Africa',Sales,0)) As Africa,\n",
        "        SUM(IF(Region='North Asia',Sales,0)) As North_Asia,\n",
        "        SUM(IF(Region='Central Asia',Sales,0)) As Central_Asia,\n",
        "        SUM(IF(Region='Caribbean',Sales,0)) As Caribbean,\n",
        "        SUM(IF(Region='Oceania',Sales,0)) As Oceania,\n",
        "        SUM(IF(Region='Canada',Sales,0)) As Canada,\n",
        "        SUM(IF(Region='EMEA',Sales,0)) As EMEA,\n",
        "        SUM(IF(Region='South East Asia',Sales,0)) As SE_Asia,\n",
        "        SUM(IF(Region='Central',Sales,0)) As Central,\n",
        "        SUM(IF(Region='East',Sales,0)) As East,\n",
        "        SUM(IF(Region='West',Sales,0)) As West,\n",
        "        SUM(IF(Region='North',Sales,0)) As North,\n",
        "        SUM(IF(Region='South',Sales,0)) As South\n",
        "    FROM praxisdb.sh_orders\n",
        "        GROUP BY Segment WITH ROLLUP\n",
        "    )\n",
        "as sums\n",
        "order by Dims desc\n",
        "\"\"\")\n",
        "CrossTab2.show()"
      ],
      "metadata": {
        "id": "m8rXXie3O5vG",
        "outputId": "a34f738a-0d89-4185-bdea-e75cfbcf486f",
        "colab": {
          "base_uri": "https://localhost:8080/"
        }
      },
      "execution_count": null,
      "outputs": [
        {
          "output_type": "stream",
          "name": "stdout",
          "text": [
            "+-----------+------+----------+------------+---------+-------+------+------+-------+-------+------+------+-------+--------+\n",
            "|       Dims|Africa|North_Asia|Central_Asia|Caribbean|Oceania|Canada|  EMEA|SE_Asia|Central|  East|  West|  South|  Totals|\n",
            "+-----------+------+----------+------------+---------+-------+------+------+-------+-------+------+------+-------+--------+\n",
            "|Home Office|155077|    175177|      148235|    57395| 197812| 11896|148862|      0| 491961|127465|136736| 280016| 1930632|\n",
            "|  Corporate|204948|    265762|      235552|   104535| 322831| 19319|250559|      0| 850405|200422|225870| 496029| 3176232|\n",
            "|   Consumer|423751|    407410|      369052|   162351| 579564| 35717|406763|      0|1480033|350947|362908| 824915| 5403411|\n",
            "|    #Totals|783776|    848349|      752839|   324281|1100207| 66932|806184|      0|2822399|678834|725514|1600960|10510275|\n",
            "+-----------+------+----------+------------+---------+-------+------+------+-------+-------+------+------+-------+--------+\n",
            "\n"
          ]
        }
      ]
    },
    {
      "cell_type": "code",
      "source": [
        "spark9.sql(\"select distinct(year) from praxisdb.sh_orders\").show()"
      ],
      "metadata": {
        "colab": {
          "base_uri": "https://localhost:8080/"
        },
        "id": "nyJ9DKyFEcjC",
        "outputId": "d9cad6b3-d913-4d3d-ebbc-a169554caea0"
      },
      "execution_count": null,
      "outputs": [
        {
          "output_type": "stream",
          "name": "stdout",
          "text": [
            "+----+\n",
            "|year|\n",
            "+----+\n",
            "|2012|\n",
            "|2014|\n",
            "|2013|\n",
            "|2011|\n",
            "+----+\n",
            "\n"
          ]
        }
      ]
    },
    {
      "cell_type": "code",
      "source": [
        "CrossTab2 = spark9.sql(\"\"\"\n",
        " SELECT\n",
        "  IFNULL(Category,'#Totals') Dims,\n",
        "  Y2011,Y2012,Y2013,Y2014,Y2011+Y2012+Y2013+Y2014 Totals\n",
        "FROM (\n",
        "SELECT\n",
        "        Category,\n",
        "        SUM(IF(Year='2011',Sales,0)) As Y2011,\n",
        "        SUM(IF(Year='2012',Sales,0)) As Y2012,\n",
        "        SUM(IF(Year='2013',Sales,0)) As Y2013,\n",
        "        SUM(IF(Year='2014',Sales,0)) As Y2014\n",
        "    FROM praxisdb.sh_orders\n",
        "        GROUP BY Category WITH ROLLUP\n",
        "    )\n",
        "as sums\n",
        "order by Dims desc\n",
        "\"\"\")\n",
        "CrossTab2.show()"
      ],
      "metadata": {
        "colab": {
          "base_uri": "https://localhost:8080/"
        },
        "id": "PbYB9DfbEpqs",
        "outputId": "aa168b9b-1748-4c38-ea33-8b92bfb20b78"
      },
      "execution_count": null,
      "outputs": [
        {
          "output_type": "stream",
          "name": "stdout",
          "text": [
            "+---------------+-------+-------+-------+-------+--------+\n",
            "|           Dims|  Y2011|  Y2012|  Y2013|  Y2014|  Totals|\n",
            "+---------------+-------+-------+-------+-------+--------+\n",
            "|     Technology| 827698|1023467|1277328|1616198| 4744691|\n",
            "|Office Supplies| 675642| 795113|1010793|1305782| 3787330|\n",
            "|      Furniture| 756171| 858913|1117739|1378061| 4110884|\n",
            "|        #Totals|2259511|2677493|3405860|4300041|12642905|\n",
            "+---------------+-------+-------+-------+-------+--------+\n",
            "\n"
          ]
        }
      ]
    },
    {
      "cell_type": "markdown",
      "source": [
        "#Parquet to Pandas again"
      ],
      "metadata": {
        "id": "Y_fgdOf1f8UJ"
      }
    },
    {
      "cell_type": "code",
      "source": [
        "!ls /content/praxisdb/sh_orders"
      ],
      "metadata": {
        "id": "G0h1dfNq6xz0",
        "outputId": "1d44ecf4-452a-4355-91ec-03442aa5e87c",
        "colab": {
          "base_uri": "https://localhost:8080/"
        }
      },
      "execution_count": null,
      "outputs": [
        {
          "output_type": "stream",
          "name": "stdout",
          "text": [
            "part-00000-2a504e60-1ed6-4c94-8178-34ffdb8e914a-c000.snappy.parquet  _SUCCESS\n"
          ]
        }
      ]
    },
    {
      "cell_type": "code",
      "source": [
        "df7 = pd.read_parquet('/content/praxisdb/sh_orders/part-00000-2a504e60-1ed6-4c94-8178-34ffdb8e914a-c000.snappy.parquet')\n",
        "df7.info()"
      ],
      "metadata": {
        "id": "uN5l6Tm3gAMW",
        "outputId": "3ad3e9d4-9c59-48ba-c9de-45a736a83d4d",
        "colab": {
          "base_uri": "https://localhost:8080/"
        }
      },
      "execution_count": null,
      "outputs": [
        {
          "output_type": "stream",
          "name": "stdout",
          "text": [
            "<class 'pandas.core.frame.DataFrame'>\n",
            "RangeIndex: 51290 entries, 0 to 51289\n",
            "Data columns (total 7 columns):\n",
            " #   Column    Non-Null Count  Dtype  \n",
            "---  ------    --------------  -----  \n",
            " 0   year      51290 non-null  object \n",
            " 1   segment   51290 non-null  object \n",
            " 2   region    51290 non-null  object \n",
            " 3   category  51290 non-null  object \n",
            " 4   sales     51290 non-null  int64  \n",
            " 5   quantity  51290 non-null  int64  \n",
            " 6   profit    51290 non-null  float64\n",
            "dtypes: float64(1), int64(2), object(4)\n",
            "memory usage: 2.7+ MB\n"
          ]
        }
      ]
    },
    {
      "cell_type": "markdown",
      "source": [
        "#Second Spark"
      ],
      "metadata": {
        "id": "fpLbR74Y_sPg"
      }
    },
    {
      "cell_type": "code",
      "source": [
        "spark39 = SparkSession.builder.master(\"local[*]\").config('spark.ui.port', '4050').getOrCreate()\n",
        "target_parquet = 'Orders2.parquet'\n",
        "sdf39B = spark39.read.parquet(target_parquet, inferSchema=True,header = True, quote = '\"')\n",
        "sdf39B.dtypes"
      ],
      "metadata": {
        "colab": {
          "base_uri": "https://localhost:8080/"
        },
        "id": "a9kM7DAb_uND",
        "outputId": "c2f31c71-30c4-4b1f-d994-3663b263dc64"
      },
      "execution_count": null,
      "outputs": [
        {
          "output_type": "execute_result",
          "data": {
            "text/plain": [
              "[('order_id', 'string'),\n",
              " ('order_date', 'timestamp_ntz'),\n",
              " ('ship_date', 'timestamp_ntz'),\n",
              " ('ship_mode', 'string'),\n",
              " ('customer_name', 'string'),\n",
              " ('segment', 'string'),\n",
              " ('state', 'string'),\n",
              " ('country', 'string'),\n",
              " ('market', 'string'),\n",
              " ('region', 'string'),\n",
              " ('product_id', 'string'),\n",
              " ('category', 'string'),\n",
              " ('sub_category', 'string'),\n",
              " ('product_name', 'string'),\n",
              " ('sales', 'bigint'),\n",
              " ('quantity', 'bigint'),\n",
              " ('discount', 'double'),\n",
              " ('profit', 'double'),\n",
              " ('shipping_cost', 'double'),\n",
              " ('order_priority', 'string'),\n",
              " ('year', 'string')]"
            ]
          },
          "metadata": {},
          "execution_count": 60
        }
      ]
    },
    {
      "cell_type": "code",
      "source": [
        "sdf39B.repartition(2).write.mode('overwrite').parquet('wpart/Orders239')"
      ],
      "metadata": {
        "id": "m8KeA0aDNigI"
      },
      "execution_count": null,
      "outputs": []
    },
    {
      "cell_type": "code",
      "source": [
        "spark39.sql('show databases').show()"
      ],
      "metadata": {
        "colab": {
          "base_uri": "https://localhost:8080/"
        },
        "id": "6tOCOrAAN6tl",
        "outputId": "6982c398-4ddd-4e4e-dacb-30bf70279e29"
      },
      "execution_count": null,
      "outputs": [
        {
          "output_type": "stream",
          "name": "stdout",
          "text": [
            "+---------+\n",
            "|namespace|\n",
            "+---------+\n",
            "|  default|\n",
            "| praxisdb|\n",
            "+---------+\n",
            "\n"
          ]
        }
      ]
    },
    {
      "cell_type": "markdown",
      "metadata": {
        "id": "xnF14kOqtVSi"
      },
      "source": [
        "#Chronobooks <br>\n",
        "![alt text](https://1.bp.blogspot.com/-lTiYBkU2qbU/X1er__fvnkI/AAAAAAAAjtE/GhDR3OEGJr4NG43fZPodrQD5kbxtnKebgCLcBGAsYHQ/s600/Footer2020-600x200.png)<hr>\n",
        "Chronotantra and Chronoyantra are two science fiction novels that explore the collapse of human civilisation on Earth and then its rebirth and reincarnation both on Earth as well as on the distant worlds of Mars, Titan and Enceladus. But is it the human civilisation that is being reborn? Or is it some other sentience that is revealing itself.\n",
        "If you have an interest in AI and found this material useful, you may consider buying these novels, in paperback or kindle, from [http://bit.ly/chronobooks](http://bit.ly/chronobooks)"
      ]
    }
  ]
}