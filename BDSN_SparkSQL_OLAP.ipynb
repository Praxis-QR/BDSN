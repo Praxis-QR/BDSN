{
  "nbformat": 4,
  "nbformat_minor": 0,
  "metadata": {
    "colab": {
      "provenance": [],
      "include_colab_link": true
    },
    "kernelspec": {
      "name": "python3",
      "display_name": "Python 3"
    },
    "language_info": {
      "name": "python"
    }
  },
  "cells": [
    {
      "cell_type": "markdown",
      "metadata": {
        "id": "view-in-github",
        "colab_type": "text"
      },
      "source": [
        "<a href=\"https://colab.research.google.com/github/Praxis-QR/BDSN/blob/main/BDSN_SparkSQL_OLAP.ipynb\" target=\"_parent\"><img src=\"https://colab.research.google.com/assets/colab-badge.svg\" alt=\"Open In Colab\"/></a>"
      ]
    },
    {
      "cell_type": "markdown",
      "metadata": {
        "id": "z7Rb-Atviw9f"
      },
      "source": [
        "![alt text](https://github.com/Praxis-QR/RDWH/raw/main/images/YantraJaalBanner.png)<br>\n",
        "\n",
        "\n",
        "<hr>\n",
        "\n",
        "[Prithwis Mukerjee](http://www.linkedin.com/in/prithwis)<br>"
      ]
    },
    {
      "cell_type": "code",
      "source": [
        "from datetime import datetime\n",
        "import pytz\n",
        "print('ॐ श्री सरस्वत्यै नमः',datetime.now(pytz.timezone('Asia/Calcutta')))\n",
        "!python --version\n",
        "!lsb_release -a"
      ],
      "metadata": {
        "colab": {
          "base_uri": "https://localhost:8080/"
        },
        "id": "Why176oMua9Y",
        "outputId": "082705c4-c8c2-4f47-b58d-aa09549b2af7"
      },
      "execution_count": 1,
      "outputs": [
        {
          "output_type": "stream",
          "name": "stdout",
          "text": [
            "ॐ श्री सरस्वत्यै नमः 2024-05-03 09:37:17.332039+05:30\n",
            "Python 3.10.12\n",
            "No LSB modules are available.\n",
            "Distributor ID:\tUbuntu\n",
            "Description:\tUbuntu 22.04.3 LTS\n",
            "Release:\t22.04\n",
            "Codename:\tjammy\n"
          ]
        }
      ]
    },
    {
      "cell_type": "code",
      "source": [
        "#import numpy as np\n",
        "import pandas as pd\n",
        "#import pyarrow.csv as pv\n",
        "#import pyarrow.parquet as pq"
      ],
      "metadata": {
        "id": "EQCfWBLcTU3N"
      },
      "execution_count": 2,
      "outputs": []
    },
    {
      "cell_type": "markdown",
      "metadata": {
        "id": "EangLEFRBHZW"
      },
      "source": [
        "#SuperStore Data\n",
        "Super Store Order Data https://drive.google.com/file/d/13MKOpo8iD-tMkeMLw-4IPFi5-xWhmqFZ/view?usp=sharing <br>\n",
        "Original Data from [Tableau](https://community.tableau.com/docs/DOC-1236)"
      ]
    },
    {
      "cell_type": "code",
      "metadata": {
        "id": "VAodtiYwA9Rs"
      },
      "source": [
        "#!wget -O SS_Orders2.csv 'https://drive.google.com/uc?export=download&id=13MKOpo8iD-tMkeMLw-4IPFi5-xWhmqFZ'\n",
        "#!gdown https://drive.google.com/uc?id=13MKOpo8iD-tMkeMLw-4IPFi5-xWhmqFZ\n",
        "#!wget -q -O Orders.csv 'https://raw.githubusercontent.com/Praxis-QR/RDWH/main/data/SS_Orders.csv'\n",
        "!wget -q -O Orders.zip 'https://github.com/Praxis-QR/PythonForManagers/raw/main/Data/SuperStoreSalesKaggle.zip'"
      ],
      "execution_count": 3,
      "outputs": []
    },
    {
      "cell_type": "markdown",
      "source": [
        "#Pandas - Benchmark"
      ],
      "metadata": {
        "id": "5z8XHxX_B86x"
      }
    },
    {
      "cell_type": "markdown",
      "source": [
        "##Data Cleaning with Pandas"
      ],
      "metadata": {
        "id": "jHuJBiouu2cU"
      }
    },
    {
      "cell_type": "code",
      "metadata": {
        "id": "ScQV9OQSCVEi",
        "colab": {
          "base_uri": "https://localhost:8080/"
        },
        "outputId": "716faa86-1713-4418-b3e3-92532bce7b41"
      },
      "source": [
        "df = pd.read_csv('Orders.zip', delimiter = ',')\n",
        "df.info()\n",
        "\n",
        "# order_date, ship_date, sales have been incorrectly formatted as string\n",
        "# year has been incorrectly formatted as integer"
      ],
      "execution_count": 4,
      "outputs": [
        {
          "output_type": "stream",
          "name": "stdout",
          "text": [
            "<class 'pandas.core.frame.DataFrame'>\n",
            "RangeIndex: 51290 entries, 0 to 51289\n",
            "Data columns (total 21 columns):\n",
            " #   Column          Non-Null Count  Dtype  \n",
            "---  ------          --------------  -----  \n",
            " 0   order_id        51290 non-null  object \n",
            " 1   order_date      51290 non-null  object \n",
            " 2   ship_date       51290 non-null  object \n",
            " 3   ship_mode       51290 non-null  object \n",
            " 4   customer_name   51290 non-null  object \n",
            " 5   segment         51290 non-null  object \n",
            " 6   state           51290 non-null  object \n",
            " 7   country         51290 non-null  object \n",
            " 8   market          51290 non-null  object \n",
            " 9   region          51290 non-null  object \n",
            " 10  product_id      51290 non-null  object \n",
            " 11  category        51290 non-null  object \n",
            " 12  sub_category    51290 non-null  object \n",
            " 13  product_name    51290 non-null  object \n",
            " 14  sales           51290 non-null  object \n",
            " 15  quantity        51290 non-null  int64  \n",
            " 16  discount        51290 non-null  float64\n",
            " 17  profit          51290 non-null  float64\n",
            " 18  shipping_cost   51290 non-null  float64\n",
            " 19  order_priority  51290 non-null  object \n",
            " 20  year            51290 non-null  int64  \n",
            "dtypes: float64(3), int64(2), object(16)\n",
            "memory usage: 8.2+ MB\n"
          ]
        }
      ]
    },
    {
      "cell_type": "markdown",
      "source": [
        "### Sales, year needs to be fixed"
      ],
      "metadata": {
        "id": "MYPhzTf4tQ31"
      }
    },
    {
      "cell_type": "code",
      "source": [
        "# df.sales has been automatically interpreted as string because of the presence of commma,\n",
        "# so replace comma and convert to numeric\n",
        "# convert year to string\n",
        "#\n",
        "\n",
        "df['sales'] = df['sales'].str.replace(',', '')    # replace , with blank\n",
        "df['sales'] = pd.to_numeric(df['sales'])          # convert column to numeric\n",
        "df['year'] = df['year'].astype(str)          # convert column to string"
      ],
      "metadata": {
        "id": "BO6g2Du1J79Q"
      },
      "execution_count": 5,
      "outputs": []
    },
    {
      "cell_type": "code",
      "source": [
        "#df.info()"
      ],
      "metadata": {
        "id": "mlVQ0phmuVW7"
      },
      "execution_count": null,
      "outputs": []
    },
    {
      "cell_type": "markdown",
      "source": [
        "###Date Problems"
      ],
      "metadata": {
        "id": "hKlP8WNwtGL-"
      }
    },
    {
      "cell_type": "code",
      "source": [
        "# what is the first and last order date ?\n",
        "# we have four years of data, but date format changes ...\n",
        "#\n",
        "#df['order_date'].describe\n",
        "#df['ship_date'].describe\n",
        "df['order_date'].head(), df['order_date'].tail()"
      ],
      "metadata": {
        "colab": {
          "base_uri": "https://localhost:8080/"
        },
        "id": "HYtQGRWdte2k",
        "outputId": "9667e5d4-7417-4507-c873-e3f4746beab5"
      },
      "execution_count": 6,
      "outputs": [
        {
          "output_type": "execute_result",
          "data": {
            "text/plain": [
              "(0    1/1/2011\n",
              " 1    1/1/2011\n",
              " 2    1/1/2011\n",
              " 3    1/1/2011\n",
              " 4    1/1/2011\n",
              " Name: order_date, dtype: object,\n",
              " 51285    31-12-2014\n",
              " 51286    31-12-2014\n",
              " 51287    31-12-2014\n",
              " 51288    31-12-2014\n",
              " 51289    31-12-2014\n",
              " Name: order_date, dtype: object)"
            ]
          },
          "metadata": {},
          "execution_count": 6
        }
      ]
    },
    {
      "cell_type": "code",
      "source": [
        "# Some of the dates are string like dd/mm/yyyy while others are dd-mm-yyyy\n",
        "# this will cause problems in converting string to real dates\n",
        "# So we move all dd-mm-yyyy to dd/mm/yyyy -- could have been the other way round also\n",
        "#\n",
        "\n",
        "df['order_date'] = df['order_date'].str.replace('-','/')\n",
        "df['ship_date'] = df['ship_date'].str.replace('-','/')\n",
        "\n",
        "# convert all dates to dd/mm/yyyy format\n",
        "#\n",
        "df['ship_date'] = pd.to_datetime(df['ship_date'],format='%d/%m/%Y')\n",
        "df['order_date'] = pd.to_datetime(df['order_date'],format='%d/%m/%Y')\n",
        "#df['order_date'].describe"
      ],
      "metadata": {
        "id": "JsqY2sc3tXEG"
      },
      "execution_count": 7,
      "outputs": []
    },
    {
      "cell_type": "code",
      "source": [
        "# product_name contains comma, doesnt really matter\n",
        "#df['product_name'] = df['product_name'].str.replace('\"','')\n"
      ],
      "metadata": {
        "id": "qBEO_xo-DqeS"
      },
      "execution_count": null,
      "outputs": []
    },
    {
      "cell_type": "code",
      "source": [
        "df.info()"
      ],
      "metadata": {
        "colab": {
          "base_uri": "https://localhost:8080/"
        },
        "id": "xpy8UJc6uTnk",
        "outputId": "cbd147fb-dccf-4c3e-e8b1-4f88517ac5a6"
      },
      "execution_count": 8,
      "outputs": [
        {
          "output_type": "stream",
          "name": "stdout",
          "text": [
            "<class 'pandas.core.frame.DataFrame'>\n",
            "RangeIndex: 51290 entries, 0 to 51289\n",
            "Data columns (total 21 columns):\n",
            " #   Column          Non-Null Count  Dtype         \n",
            "---  ------          --------------  -----         \n",
            " 0   order_id        51290 non-null  object        \n",
            " 1   order_date      51290 non-null  datetime64[ns]\n",
            " 2   ship_date       51290 non-null  datetime64[ns]\n",
            " 3   ship_mode       51290 non-null  object        \n",
            " 4   customer_name   51290 non-null  object        \n",
            " 5   segment         51290 non-null  object        \n",
            " 6   state           51290 non-null  object        \n",
            " 7   country         51290 non-null  object        \n",
            " 8   market          51290 non-null  object        \n",
            " 9   region          51290 non-null  object        \n",
            " 10  product_id      51290 non-null  object        \n",
            " 11  category        51290 non-null  object        \n",
            " 12  sub_category    51290 non-null  object        \n",
            " 13  product_name    51290 non-null  object        \n",
            " 14  sales           51290 non-null  int64         \n",
            " 15  quantity        51290 non-null  int64         \n",
            " 16  discount        51290 non-null  float64       \n",
            " 17  profit          51290 non-null  float64       \n",
            " 18  shipping_cost   51290 non-null  float64       \n",
            " 19  order_priority  51290 non-null  object        \n",
            " 20  year            51290 non-null  object        \n",
            "dtypes: datetime64[ns](2), float64(3), int64(2), object(14)\n",
            "memory usage: 8.2+ MB\n"
          ]
        }
      ]
    },
    {
      "cell_type": "code",
      "source": [
        "df.to_csv('Orders.csv', index=False)"
      ],
      "metadata": {
        "id": "2fVSKQ7Mz9Jd"
      },
      "execution_count": 9,
      "outputs": []
    },
    {
      "cell_type": "markdown",
      "source": [
        "##Pandas Pivot"
      ],
      "metadata": {
        "id": "pFAKHtCM-wyC"
      }
    },
    {
      "cell_type": "code",
      "source": [
        "pd.pivot_table(df, index = 'segment', columns = 'year', values = 'sales', aggfunc = 'sum', margins = True)"
      ],
      "metadata": {
        "colab": {
          "base_uri": "https://localhost:8080/",
          "height": 206
        },
        "id": "-MzFH5vb-zGG",
        "outputId": "b48bd40b-f9b0-4ac9-f2b4-caa4fbd8581d"
      },
      "execution_count": 10,
      "outputs": [
        {
          "output_type": "execute_result",
          "data": {
            "text/plain": [
              "year            2011     2012     2013     2014       All\n",
              "segment                                                  \n",
              "Consumer     1173701  1463804  1729284  2141352   6508141\n",
              "Corporate     691685   774450  1065033  1293640   3824808\n",
              "Home Office   394125   439239   611543   865049   2309956\n",
              "All          2259511  2677493  3405860  4300041  12642905"
            ],
            "text/html": [
              "\n",
              "  <div id=\"df-a9c55b6a-2785-4cc9-b8cc-cb726b39dbb5\" class=\"colab-df-container\">\n",
              "    <div>\n",
              "<style scoped>\n",
              "    .dataframe tbody tr th:only-of-type {\n",
              "        vertical-align: middle;\n",
              "    }\n",
              "\n",
              "    .dataframe tbody tr th {\n",
              "        vertical-align: top;\n",
              "    }\n",
              "\n",
              "    .dataframe thead th {\n",
              "        text-align: right;\n",
              "    }\n",
              "</style>\n",
              "<table border=\"1\" class=\"dataframe\">\n",
              "  <thead>\n",
              "    <tr style=\"text-align: right;\">\n",
              "      <th>year</th>\n",
              "      <th>2011</th>\n",
              "      <th>2012</th>\n",
              "      <th>2013</th>\n",
              "      <th>2014</th>\n",
              "      <th>All</th>\n",
              "    </tr>\n",
              "    <tr>\n",
              "      <th>segment</th>\n",
              "      <th></th>\n",
              "      <th></th>\n",
              "      <th></th>\n",
              "      <th></th>\n",
              "      <th></th>\n",
              "    </tr>\n",
              "  </thead>\n",
              "  <tbody>\n",
              "    <tr>\n",
              "      <th>Consumer</th>\n",
              "      <td>1173701</td>\n",
              "      <td>1463804</td>\n",
              "      <td>1729284</td>\n",
              "      <td>2141352</td>\n",
              "      <td>6508141</td>\n",
              "    </tr>\n",
              "    <tr>\n",
              "      <th>Corporate</th>\n",
              "      <td>691685</td>\n",
              "      <td>774450</td>\n",
              "      <td>1065033</td>\n",
              "      <td>1293640</td>\n",
              "      <td>3824808</td>\n",
              "    </tr>\n",
              "    <tr>\n",
              "      <th>Home Office</th>\n",
              "      <td>394125</td>\n",
              "      <td>439239</td>\n",
              "      <td>611543</td>\n",
              "      <td>865049</td>\n",
              "      <td>2309956</td>\n",
              "    </tr>\n",
              "    <tr>\n",
              "      <th>All</th>\n",
              "      <td>2259511</td>\n",
              "      <td>2677493</td>\n",
              "      <td>3405860</td>\n",
              "      <td>4300041</td>\n",
              "      <td>12642905</td>\n",
              "    </tr>\n",
              "  </tbody>\n",
              "</table>\n",
              "</div>\n",
              "    <div class=\"colab-df-buttons\">\n",
              "\n",
              "  <div class=\"colab-df-container\">\n",
              "    <button class=\"colab-df-convert\" onclick=\"convertToInteractive('df-a9c55b6a-2785-4cc9-b8cc-cb726b39dbb5')\"\n",
              "            title=\"Convert this dataframe to an interactive table.\"\n",
              "            style=\"display:none;\">\n",
              "\n",
              "  <svg xmlns=\"http://www.w3.org/2000/svg\" height=\"24px\" viewBox=\"0 -960 960 960\">\n",
              "    <path d=\"M120-120v-720h720v720H120Zm60-500h600v-160H180v160Zm220 220h160v-160H400v160Zm0 220h160v-160H400v160ZM180-400h160v-160H180v160Zm440 0h160v-160H620v160ZM180-180h160v-160H180v160Zm440 0h160v-160H620v160Z\"/>\n",
              "  </svg>\n",
              "    </button>\n",
              "\n",
              "  <style>\n",
              "    .colab-df-container {\n",
              "      display:flex;\n",
              "      gap: 12px;\n",
              "    }\n",
              "\n",
              "    .colab-df-convert {\n",
              "      background-color: #E8F0FE;\n",
              "      border: none;\n",
              "      border-radius: 50%;\n",
              "      cursor: pointer;\n",
              "      display: none;\n",
              "      fill: #1967D2;\n",
              "      height: 32px;\n",
              "      padding: 0 0 0 0;\n",
              "      width: 32px;\n",
              "    }\n",
              "\n",
              "    .colab-df-convert:hover {\n",
              "      background-color: #E2EBFA;\n",
              "      box-shadow: 0px 1px 2px rgba(60, 64, 67, 0.3), 0px 1px 3px 1px rgba(60, 64, 67, 0.15);\n",
              "      fill: #174EA6;\n",
              "    }\n",
              "\n",
              "    .colab-df-buttons div {\n",
              "      margin-bottom: 4px;\n",
              "    }\n",
              "\n",
              "    [theme=dark] .colab-df-convert {\n",
              "      background-color: #3B4455;\n",
              "      fill: #D2E3FC;\n",
              "    }\n",
              "\n",
              "    [theme=dark] .colab-df-convert:hover {\n",
              "      background-color: #434B5C;\n",
              "      box-shadow: 0px 1px 3px 1px rgba(0, 0, 0, 0.15);\n",
              "      filter: drop-shadow(0px 1px 2px rgba(0, 0, 0, 0.3));\n",
              "      fill: #FFFFFF;\n",
              "    }\n",
              "  </style>\n",
              "\n",
              "    <script>\n",
              "      const buttonEl =\n",
              "        document.querySelector('#df-a9c55b6a-2785-4cc9-b8cc-cb726b39dbb5 button.colab-df-convert');\n",
              "      buttonEl.style.display =\n",
              "        google.colab.kernel.accessAllowed ? 'block' : 'none';\n",
              "\n",
              "      async function convertToInteractive(key) {\n",
              "        const element = document.querySelector('#df-a9c55b6a-2785-4cc9-b8cc-cb726b39dbb5');\n",
              "        const dataTable =\n",
              "          await google.colab.kernel.invokeFunction('convertToInteractive',\n",
              "                                                    [key], {});\n",
              "        if (!dataTable) return;\n",
              "\n",
              "        const docLinkHtml = 'Like what you see? Visit the ' +\n",
              "          '<a target=\"_blank\" href=https://colab.research.google.com/notebooks/data_table.ipynb>data table notebook</a>'\n",
              "          + ' to learn more about interactive tables.';\n",
              "        element.innerHTML = '';\n",
              "        dataTable['output_type'] = 'display_data';\n",
              "        await google.colab.output.renderOutput(dataTable, element);\n",
              "        const docLink = document.createElement('div');\n",
              "        docLink.innerHTML = docLinkHtml;\n",
              "        element.appendChild(docLink);\n",
              "      }\n",
              "    </script>\n",
              "  </div>\n",
              "\n",
              "\n",
              "<div id=\"df-13f00c54-78dc-4a52-b821-43643c22f8e2\">\n",
              "  <button class=\"colab-df-quickchart\" onclick=\"quickchart('df-13f00c54-78dc-4a52-b821-43643c22f8e2')\"\n",
              "            title=\"Suggest charts\"\n",
              "            style=\"display:none;\">\n",
              "\n",
              "<svg xmlns=\"http://www.w3.org/2000/svg\" height=\"24px\"viewBox=\"0 0 24 24\"\n",
              "     width=\"24px\">\n",
              "    <g>\n",
              "        <path d=\"M19 3H5c-1.1 0-2 .9-2 2v14c0 1.1.9 2 2 2h14c1.1 0 2-.9 2-2V5c0-1.1-.9-2-2-2zM9 17H7v-7h2v7zm4 0h-2V7h2v10zm4 0h-2v-4h2v4z\"/>\n",
              "    </g>\n",
              "</svg>\n",
              "  </button>\n",
              "\n",
              "<style>\n",
              "  .colab-df-quickchart {\n",
              "      --bg-color: #E8F0FE;\n",
              "      --fill-color: #1967D2;\n",
              "      --hover-bg-color: #E2EBFA;\n",
              "      --hover-fill-color: #174EA6;\n",
              "      --disabled-fill-color: #AAA;\n",
              "      --disabled-bg-color: #DDD;\n",
              "  }\n",
              "\n",
              "  [theme=dark] .colab-df-quickchart {\n",
              "      --bg-color: #3B4455;\n",
              "      --fill-color: #D2E3FC;\n",
              "      --hover-bg-color: #434B5C;\n",
              "      --hover-fill-color: #FFFFFF;\n",
              "      --disabled-bg-color: #3B4455;\n",
              "      --disabled-fill-color: #666;\n",
              "  }\n",
              "\n",
              "  .colab-df-quickchart {\n",
              "    background-color: var(--bg-color);\n",
              "    border: none;\n",
              "    border-radius: 50%;\n",
              "    cursor: pointer;\n",
              "    display: none;\n",
              "    fill: var(--fill-color);\n",
              "    height: 32px;\n",
              "    padding: 0;\n",
              "    width: 32px;\n",
              "  }\n",
              "\n",
              "  .colab-df-quickchart:hover {\n",
              "    background-color: var(--hover-bg-color);\n",
              "    box-shadow: 0 1px 2px rgba(60, 64, 67, 0.3), 0 1px 3px 1px rgba(60, 64, 67, 0.15);\n",
              "    fill: var(--button-hover-fill-color);\n",
              "  }\n",
              "\n",
              "  .colab-df-quickchart-complete:disabled,\n",
              "  .colab-df-quickchart-complete:disabled:hover {\n",
              "    background-color: var(--disabled-bg-color);\n",
              "    fill: var(--disabled-fill-color);\n",
              "    box-shadow: none;\n",
              "  }\n",
              "\n",
              "  .colab-df-spinner {\n",
              "    border: 2px solid var(--fill-color);\n",
              "    border-color: transparent;\n",
              "    border-bottom-color: var(--fill-color);\n",
              "    animation:\n",
              "      spin 1s steps(1) infinite;\n",
              "  }\n",
              "\n",
              "  @keyframes spin {\n",
              "    0% {\n",
              "      border-color: transparent;\n",
              "      border-bottom-color: var(--fill-color);\n",
              "      border-left-color: var(--fill-color);\n",
              "    }\n",
              "    20% {\n",
              "      border-color: transparent;\n",
              "      border-left-color: var(--fill-color);\n",
              "      border-top-color: var(--fill-color);\n",
              "    }\n",
              "    30% {\n",
              "      border-color: transparent;\n",
              "      border-left-color: var(--fill-color);\n",
              "      border-top-color: var(--fill-color);\n",
              "      border-right-color: var(--fill-color);\n",
              "    }\n",
              "    40% {\n",
              "      border-color: transparent;\n",
              "      border-right-color: var(--fill-color);\n",
              "      border-top-color: var(--fill-color);\n",
              "    }\n",
              "    60% {\n",
              "      border-color: transparent;\n",
              "      border-right-color: var(--fill-color);\n",
              "    }\n",
              "    80% {\n",
              "      border-color: transparent;\n",
              "      border-right-color: var(--fill-color);\n",
              "      border-bottom-color: var(--fill-color);\n",
              "    }\n",
              "    90% {\n",
              "      border-color: transparent;\n",
              "      border-bottom-color: var(--fill-color);\n",
              "    }\n",
              "  }\n",
              "</style>\n",
              "\n",
              "  <script>\n",
              "    async function quickchart(key) {\n",
              "      const quickchartButtonEl =\n",
              "        document.querySelector('#' + key + ' button');\n",
              "      quickchartButtonEl.disabled = true;  // To prevent multiple clicks.\n",
              "      quickchartButtonEl.classList.add('colab-df-spinner');\n",
              "      try {\n",
              "        const charts = await google.colab.kernel.invokeFunction(\n",
              "            'suggestCharts', [key], {});\n",
              "      } catch (error) {\n",
              "        console.error('Error during call to suggestCharts:', error);\n",
              "      }\n",
              "      quickchartButtonEl.classList.remove('colab-df-spinner');\n",
              "      quickchartButtonEl.classList.add('colab-df-quickchart-complete');\n",
              "    }\n",
              "    (() => {\n",
              "      let quickchartButtonEl =\n",
              "        document.querySelector('#df-13f00c54-78dc-4a52-b821-43643c22f8e2 button');\n",
              "      quickchartButtonEl.style.display =\n",
              "        google.colab.kernel.accessAllowed ? 'block' : 'none';\n",
              "    })();\n",
              "  </script>\n",
              "</div>\n",
              "    </div>\n",
              "  </div>\n"
            ],
            "application/vnd.google.colaboratory.intrinsic+json": {
              "type": "dataframe",
              "summary": "{\n  \"name\": \"pd\",\n  \"rows\": 4,\n  \"fields\": [\n    {\n      \"column\": \"segment\",\n      \"properties\": {\n        \"dtype\": \"string\",\n        \"num_unique_values\": 4,\n        \"samples\": [\n          \"Corporate\",\n          \"All\",\n          \"Consumer\"\n        ],\n        \"semantic_type\": \"\",\n        \"description\": \"\"\n      }\n    },\n    {\n      \"column\": \"2011\",\n      \"properties\": {\n        \"dtype\": \"number\",\n        \"std\": 818807,\n        \"min\": 394125,\n        \"max\": 2259511,\n        \"num_unique_values\": 4,\n        \"samples\": [\n          691685,\n          2259511,\n          1173701\n        ],\n        \"semantic_type\": \"\",\n        \"description\": \"\"\n      }\n    },\n    {\n      \"column\": \"2012\",\n      \"properties\": {\n        \"dtype\": \"number\",\n        \"std\": 989179,\n        \"min\": 439239,\n        \"max\": 2677493,\n        \"num_unique_values\": 4,\n        \"samples\": [\n          774450,\n          2677493,\n          1463804\n        ],\n        \"semantic_type\": \"\",\n        \"description\": \"\"\n      }\n    },\n    {\n      \"column\": \"2013\",\n      \"properties\": {\n        \"dtype\": \"number\",\n        \"std\": 1224568,\n        \"min\": 611543,\n        \"max\": 3405860,\n        \"num_unique_values\": 4,\n        \"samples\": [\n          1065033,\n          3405860,\n          1729284\n        ],\n        \"semantic_type\": \"\",\n        \"description\": \"\"\n      }\n    },\n    {\n      \"column\": \"2014\",\n      \"properties\": {\n        \"dtype\": \"number\",\n        \"std\": 1528310,\n        \"min\": 865049,\n        \"max\": 4300041,\n        \"num_unique_values\": 4,\n        \"samples\": [\n          1293640,\n          4300041,\n          2141352\n        ],\n        \"semantic_type\": \"\",\n        \"description\": \"\"\n      }\n    },\n    {\n      \"column\": \"All\",\n      \"properties\": {\n        \"dtype\": \"number\",\n        \"std\": 4557812,\n        \"min\": 2309956,\n        \"max\": 12642905,\n        \"num_unique_values\": 4,\n        \"samples\": [\n          3824808,\n          12642905,\n          6508141\n        ],\n        \"semantic_type\": \"\",\n        \"description\": \"\"\n      }\n    }\n  ]\n}"
            }
          },
          "metadata": {},
          "execution_count": 10
        }
      ]
    },
    {
      "cell_type": "code",
      "source": [
        "pd.pivot_table(df, index = 'segment', columns = 'category', values = 'quantity', aggfunc = 'sum', margins = True)"
      ],
      "metadata": {
        "colab": {
          "base_uri": "https://localhost:8080/",
          "height": 206
        },
        "id": "Si4vnydV_Q0c",
        "outputId": "d9896a12-4f01-4b17-bee8-20e4010a59fc"
      },
      "execution_count": 11,
      "outputs": [
        {
          "output_type": "execute_result",
          "data": {
            "text/plain": [
              "category     Furniture  Office Supplies  Technology     All\n",
              "segment                                                    \n",
              "Consumer         18002            56025       18130   92157\n",
              "Corporate        10735            32236       10594   53565\n",
              "Home Office       6217            19921        6452   32590\n",
              "All              34954           108182       35176  178312"
            ],
            "text/html": [
              "\n",
              "  <div id=\"df-87eb80bb-fdeb-4755-906c-b2afa52477d3\" class=\"colab-df-container\">\n",
              "    <div>\n",
              "<style scoped>\n",
              "    .dataframe tbody tr th:only-of-type {\n",
              "        vertical-align: middle;\n",
              "    }\n",
              "\n",
              "    .dataframe tbody tr th {\n",
              "        vertical-align: top;\n",
              "    }\n",
              "\n",
              "    .dataframe thead th {\n",
              "        text-align: right;\n",
              "    }\n",
              "</style>\n",
              "<table border=\"1\" class=\"dataframe\">\n",
              "  <thead>\n",
              "    <tr style=\"text-align: right;\">\n",
              "      <th>category</th>\n",
              "      <th>Furniture</th>\n",
              "      <th>Office Supplies</th>\n",
              "      <th>Technology</th>\n",
              "      <th>All</th>\n",
              "    </tr>\n",
              "    <tr>\n",
              "      <th>segment</th>\n",
              "      <th></th>\n",
              "      <th></th>\n",
              "      <th></th>\n",
              "      <th></th>\n",
              "    </tr>\n",
              "  </thead>\n",
              "  <tbody>\n",
              "    <tr>\n",
              "      <th>Consumer</th>\n",
              "      <td>18002</td>\n",
              "      <td>56025</td>\n",
              "      <td>18130</td>\n",
              "      <td>92157</td>\n",
              "    </tr>\n",
              "    <tr>\n",
              "      <th>Corporate</th>\n",
              "      <td>10735</td>\n",
              "      <td>32236</td>\n",
              "      <td>10594</td>\n",
              "      <td>53565</td>\n",
              "    </tr>\n",
              "    <tr>\n",
              "      <th>Home Office</th>\n",
              "      <td>6217</td>\n",
              "      <td>19921</td>\n",
              "      <td>6452</td>\n",
              "      <td>32590</td>\n",
              "    </tr>\n",
              "    <tr>\n",
              "      <th>All</th>\n",
              "      <td>34954</td>\n",
              "      <td>108182</td>\n",
              "      <td>35176</td>\n",
              "      <td>178312</td>\n",
              "    </tr>\n",
              "  </tbody>\n",
              "</table>\n",
              "</div>\n",
              "    <div class=\"colab-df-buttons\">\n",
              "\n",
              "  <div class=\"colab-df-container\">\n",
              "    <button class=\"colab-df-convert\" onclick=\"convertToInteractive('df-87eb80bb-fdeb-4755-906c-b2afa52477d3')\"\n",
              "            title=\"Convert this dataframe to an interactive table.\"\n",
              "            style=\"display:none;\">\n",
              "\n",
              "  <svg xmlns=\"http://www.w3.org/2000/svg\" height=\"24px\" viewBox=\"0 -960 960 960\">\n",
              "    <path d=\"M120-120v-720h720v720H120Zm60-500h600v-160H180v160Zm220 220h160v-160H400v160Zm0 220h160v-160H400v160ZM180-400h160v-160H180v160Zm440 0h160v-160H620v160ZM180-180h160v-160H180v160Zm440 0h160v-160H620v160Z\"/>\n",
              "  </svg>\n",
              "    </button>\n",
              "\n",
              "  <style>\n",
              "    .colab-df-container {\n",
              "      display:flex;\n",
              "      gap: 12px;\n",
              "    }\n",
              "\n",
              "    .colab-df-convert {\n",
              "      background-color: #E8F0FE;\n",
              "      border: none;\n",
              "      border-radius: 50%;\n",
              "      cursor: pointer;\n",
              "      display: none;\n",
              "      fill: #1967D2;\n",
              "      height: 32px;\n",
              "      padding: 0 0 0 0;\n",
              "      width: 32px;\n",
              "    }\n",
              "\n",
              "    .colab-df-convert:hover {\n",
              "      background-color: #E2EBFA;\n",
              "      box-shadow: 0px 1px 2px rgba(60, 64, 67, 0.3), 0px 1px 3px 1px rgba(60, 64, 67, 0.15);\n",
              "      fill: #174EA6;\n",
              "    }\n",
              "\n",
              "    .colab-df-buttons div {\n",
              "      margin-bottom: 4px;\n",
              "    }\n",
              "\n",
              "    [theme=dark] .colab-df-convert {\n",
              "      background-color: #3B4455;\n",
              "      fill: #D2E3FC;\n",
              "    }\n",
              "\n",
              "    [theme=dark] .colab-df-convert:hover {\n",
              "      background-color: #434B5C;\n",
              "      box-shadow: 0px 1px 3px 1px rgba(0, 0, 0, 0.15);\n",
              "      filter: drop-shadow(0px 1px 2px rgba(0, 0, 0, 0.3));\n",
              "      fill: #FFFFFF;\n",
              "    }\n",
              "  </style>\n",
              "\n",
              "    <script>\n",
              "      const buttonEl =\n",
              "        document.querySelector('#df-87eb80bb-fdeb-4755-906c-b2afa52477d3 button.colab-df-convert');\n",
              "      buttonEl.style.display =\n",
              "        google.colab.kernel.accessAllowed ? 'block' : 'none';\n",
              "\n",
              "      async function convertToInteractive(key) {\n",
              "        const element = document.querySelector('#df-87eb80bb-fdeb-4755-906c-b2afa52477d3');\n",
              "        const dataTable =\n",
              "          await google.colab.kernel.invokeFunction('convertToInteractive',\n",
              "                                                    [key], {});\n",
              "        if (!dataTable) return;\n",
              "\n",
              "        const docLinkHtml = 'Like what you see? Visit the ' +\n",
              "          '<a target=\"_blank\" href=https://colab.research.google.com/notebooks/data_table.ipynb>data table notebook</a>'\n",
              "          + ' to learn more about interactive tables.';\n",
              "        element.innerHTML = '';\n",
              "        dataTable['output_type'] = 'display_data';\n",
              "        await google.colab.output.renderOutput(dataTable, element);\n",
              "        const docLink = document.createElement('div');\n",
              "        docLink.innerHTML = docLinkHtml;\n",
              "        element.appendChild(docLink);\n",
              "      }\n",
              "    </script>\n",
              "  </div>\n",
              "\n",
              "\n",
              "<div id=\"df-b998a0c7-5f47-43fe-8c68-b379f1484713\">\n",
              "  <button class=\"colab-df-quickchart\" onclick=\"quickchart('df-b998a0c7-5f47-43fe-8c68-b379f1484713')\"\n",
              "            title=\"Suggest charts\"\n",
              "            style=\"display:none;\">\n",
              "\n",
              "<svg xmlns=\"http://www.w3.org/2000/svg\" height=\"24px\"viewBox=\"0 0 24 24\"\n",
              "     width=\"24px\">\n",
              "    <g>\n",
              "        <path d=\"M19 3H5c-1.1 0-2 .9-2 2v14c0 1.1.9 2 2 2h14c1.1 0 2-.9 2-2V5c0-1.1-.9-2-2-2zM9 17H7v-7h2v7zm4 0h-2V7h2v10zm4 0h-2v-4h2v4z\"/>\n",
              "    </g>\n",
              "</svg>\n",
              "  </button>\n",
              "\n",
              "<style>\n",
              "  .colab-df-quickchart {\n",
              "      --bg-color: #E8F0FE;\n",
              "      --fill-color: #1967D2;\n",
              "      --hover-bg-color: #E2EBFA;\n",
              "      --hover-fill-color: #174EA6;\n",
              "      --disabled-fill-color: #AAA;\n",
              "      --disabled-bg-color: #DDD;\n",
              "  }\n",
              "\n",
              "  [theme=dark] .colab-df-quickchart {\n",
              "      --bg-color: #3B4455;\n",
              "      --fill-color: #D2E3FC;\n",
              "      --hover-bg-color: #434B5C;\n",
              "      --hover-fill-color: #FFFFFF;\n",
              "      --disabled-bg-color: #3B4455;\n",
              "      --disabled-fill-color: #666;\n",
              "  }\n",
              "\n",
              "  .colab-df-quickchart {\n",
              "    background-color: var(--bg-color);\n",
              "    border: none;\n",
              "    border-radius: 50%;\n",
              "    cursor: pointer;\n",
              "    display: none;\n",
              "    fill: var(--fill-color);\n",
              "    height: 32px;\n",
              "    padding: 0;\n",
              "    width: 32px;\n",
              "  }\n",
              "\n",
              "  .colab-df-quickchart:hover {\n",
              "    background-color: var(--hover-bg-color);\n",
              "    box-shadow: 0 1px 2px rgba(60, 64, 67, 0.3), 0 1px 3px 1px rgba(60, 64, 67, 0.15);\n",
              "    fill: var(--button-hover-fill-color);\n",
              "  }\n",
              "\n",
              "  .colab-df-quickchart-complete:disabled,\n",
              "  .colab-df-quickchart-complete:disabled:hover {\n",
              "    background-color: var(--disabled-bg-color);\n",
              "    fill: var(--disabled-fill-color);\n",
              "    box-shadow: none;\n",
              "  }\n",
              "\n",
              "  .colab-df-spinner {\n",
              "    border: 2px solid var(--fill-color);\n",
              "    border-color: transparent;\n",
              "    border-bottom-color: var(--fill-color);\n",
              "    animation:\n",
              "      spin 1s steps(1) infinite;\n",
              "  }\n",
              "\n",
              "  @keyframes spin {\n",
              "    0% {\n",
              "      border-color: transparent;\n",
              "      border-bottom-color: var(--fill-color);\n",
              "      border-left-color: var(--fill-color);\n",
              "    }\n",
              "    20% {\n",
              "      border-color: transparent;\n",
              "      border-left-color: var(--fill-color);\n",
              "      border-top-color: var(--fill-color);\n",
              "    }\n",
              "    30% {\n",
              "      border-color: transparent;\n",
              "      border-left-color: var(--fill-color);\n",
              "      border-top-color: var(--fill-color);\n",
              "      border-right-color: var(--fill-color);\n",
              "    }\n",
              "    40% {\n",
              "      border-color: transparent;\n",
              "      border-right-color: var(--fill-color);\n",
              "      border-top-color: var(--fill-color);\n",
              "    }\n",
              "    60% {\n",
              "      border-color: transparent;\n",
              "      border-right-color: var(--fill-color);\n",
              "    }\n",
              "    80% {\n",
              "      border-color: transparent;\n",
              "      border-right-color: var(--fill-color);\n",
              "      border-bottom-color: var(--fill-color);\n",
              "    }\n",
              "    90% {\n",
              "      border-color: transparent;\n",
              "      border-bottom-color: var(--fill-color);\n",
              "    }\n",
              "  }\n",
              "</style>\n",
              "\n",
              "  <script>\n",
              "    async function quickchart(key) {\n",
              "      const quickchartButtonEl =\n",
              "        document.querySelector('#' + key + ' button');\n",
              "      quickchartButtonEl.disabled = true;  // To prevent multiple clicks.\n",
              "      quickchartButtonEl.classList.add('colab-df-spinner');\n",
              "      try {\n",
              "        const charts = await google.colab.kernel.invokeFunction(\n",
              "            'suggestCharts', [key], {});\n",
              "      } catch (error) {\n",
              "        console.error('Error during call to suggestCharts:', error);\n",
              "      }\n",
              "      quickchartButtonEl.classList.remove('colab-df-spinner');\n",
              "      quickchartButtonEl.classList.add('colab-df-quickchart-complete');\n",
              "    }\n",
              "    (() => {\n",
              "      let quickchartButtonEl =\n",
              "        document.querySelector('#df-b998a0c7-5f47-43fe-8c68-b379f1484713 button');\n",
              "      quickchartButtonEl.style.display =\n",
              "        google.colab.kernel.accessAllowed ? 'block' : 'none';\n",
              "    })();\n",
              "  </script>\n",
              "</div>\n",
              "    </div>\n",
              "  </div>\n"
            ],
            "application/vnd.google.colaboratory.intrinsic+json": {
              "type": "dataframe",
              "summary": "{\n  \"name\": \"pd\",\n  \"rows\": 4,\n  \"fields\": [\n    {\n      \"column\": \"segment\",\n      \"properties\": {\n        \"dtype\": \"string\",\n        \"num_unique_values\": 4,\n        \"samples\": [\n          \"Corporate\",\n          \"All\",\n          \"Consumer\"\n        ],\n        \"semantic_type\": \"\",\n        \"description\": \"\"\n      }\n    },\n    {\n      \"column\": \"Furniture\",\n      \"properties\": {\n        \"dtype\": \"number\",\n        \"std\": 12622,\n        \"min\": 6217,\n        \"max\": 34954,\n        \"num_unique_values\": 4,\n        \"samples\": [\n          10735,\n          34954,\n          18002\n        ],\n        \"semantic_type\": \"\",\n        \"description\": \"\"\n      }\n    },\n    {\n      \"column\": \"Office Supplies\",\n      \"properties\": {\n        \"dtype\": \"number\",\n        \"std\": 39050,\n        \"min\": 19921,\n        \"max\": 108182,\n        \"num_unique_values\": 4,\n        \"samples\": [\n          32236,\n          108182,\n          56025\n        ],\n        \"semantic_type\": \"\",\n        \"description\": \"\"\n      }\n    },\n    {\n      \"column\": \"Technology\",\n      \"properties\": {\n        \"dtype\": \"number\",\n        \"std\": 12682,\n        \"min\": 6452,\n        \"max\": 35176,\n        \"num_unique_values\": 4,\n        \"samples\": [\n          10594,\n          35176,\n          18130\n        ],\n        \"semantic_type\": \"\",\n        \"description\": \"\"\n      }\n    },\n    {\n      \"column\": \"All\",\n      \"properties\": {\n        \"dtype\": \"number\",\n        \"std\": 64353,\n        \"min\": 32590,\n        \"max\": 178312,\n        \"num_unique_values\": 4,\n        \"samples\": [\n          53565,\n          178312,\n          92157\n        ],\n        \"semantic_type\": \"\",\n        \"description\": \"\"\n      }\n    }\n  ]\n}"
            }
          },
          "metadata": {},
          "execution_count": 11
        }
      ]
    },
    {
      "cell_type": "markdown",
      "source": [
        "#Spark\n",
        "https://davidadrian.cc/python-hadoop/"
      ],
      "metadata": {
        "id": "4BMBOUtf4-Wd"
      }
    },
    {
      "cell_type": "code",
      "source": [
        "!pip3 -q install pyspark"
      ],
      "metadata": {
        "id": "hel81l4t5Age",
        "outputId": "87ae6688-588d-4929-e61a-6e3bdf44817e",
        "colab": {
          "base_uri": "https://localhost:8080/"
        }
      },
      "execution_count": 12,
      "outputs": [
        {
          "output_type": "stream",
          "name": "stdout",
          "text": [
            "\u001b[2K     \u001b[90m━━━━━━━━━━━━━━━━━━━━━━━━━━━━━━━━━━━━━━━━\u001b[0m \u001b[32m317.0/317.0 MB\u001b[0m \u001b[31m2.6 MB/s\u001b[0m eta \u001b[36m0:00:00\u001b[0m\n",
            "\u001b[?25h  Preparing metadata (setup.py) ... \u001b[?25l\u001b[?25hdone\n",
            "  Building wheel for pyspark (setup.py) ... \u001b[?25l\u001b[?25hdone\n"
          ]
        }
      ]
    },
    {
      "cell_type": "code",
      "source": [
        "from pyspark.sql import SparkSession\n",
        "\n",
        "#https://spark.apache.org/docs/latest/sql-ref-datetime-pattern.html\n",
        "from pyspark.sql.functions import col, to_date\n",
        "from pyspark.sql.functions import regexp_replace"
      ],
      "metadata": {
        "id": "e9hwoMOMCp7U"
      },
      "execution_count": 13,
      "outputs": []
    },
    {
      "cell_type": "code",
      "source": [
        "#spark9 = SparkSession.builder.master(\"local[*]\").getOrCreate()\n",
        "# note UI port switched from default 4040 to 4050 to avoid clash with ngrok\n",
        "spark9 = SparkSession.\\\n",
        "    builder.\\\n",
        "    master(\"local[*]\").\\\n",
        "    config('spark.ui.port', '4050').\\\n",
        "    appName('Spark9').\\\n",
        "    getOrCreate()\n",
        "\n",
        "spark9"
      ],
      "metadata": {
        "id": "-N_I8Z-xPVg9",
        "outputId": "dfdc1c66-aae3-4268-8f87-095bfe755bfd",
        "colab": {
          "base_uri": "https://localhost:8080/",
          "height": 219
        }
      },
      "execution_count": 15,
      "outputs": [
        {
          "output_type": "execute_result",
          "data": {
            "text/plain": [
              "<pyspark.sql.session.SparkSession at 0x7e99cbc58a30>"
            ],
            "text/html": [
              "\n",
              "            <div>\n",
              "                <p><b>SparkSession - in-memory</b></p>\n",
              "                \n",
              "        <div>\n",
              "            <p><b>SparkContext</b></p>\n",
              "\n",
              "            <p><a href=\"http://969cdd8366c9:4050\">Spark UI</a></p>\n",
              "\n",
              "            <dl>\n",
              "              <dt>Version</dt>\n",
              "                <dd><code>v3.5.1</code></dd>\n",
              "              <dt>Master</dt>\n",
              "                <dd><code>local[*]</code></dd>\n",
              "              <dt>AppName</dt>\n",
              "                <dd><code>Spark9</code></dd>\n",
              "            </dl>\n",
              "        </div>\n",
              "        \n",
              "            </div>\n",
              "        "
            ]
          },
          "metadata": {},
          "execution_count": 15
        }
      ]
    },
    {
      "cell_type": "code",
      "source": [
        "!unzip Orders.zip"
      ],
      "metadata": {
        "colab": {
          "base_uri": "https://localhost:8080/"
        },
        "id": "MgAXQWrKE0sp",
        "outputId": "0ef456ad-8d45-426f-abb2-0b225aa42094"
      },
      "execution_count": 16,
      "outputs": [
        {
          "output_type": "stream",
          "name": "stdout",
          "text": [
            "Archive:  Orders.zip\n",
            "  inflating: SuperStoreOrders.csv    \n"
          ]
        }
      ]
    },
    {
      "cell_type": "markdown",
      "source": [
        "## Data Cleaning with Spark"
      ],
      "metadata": {
        "id": "UXQsHXtkSSY3"
      }
    },
    {
      "cell_type": "code",
      "source": [
        "!free"
      ],
      "metadata": {
        "id": "PJ27JnrcvGRm",
        "outputId": "117f4be1-01a4-4ebc-dac5-6a74ab8946e4",
        "colab": {
          "base_uri": "https://localhost:8080/"
        }
      },
      "execution_count": 17,
      "outputs": [
        {
          "output_type": "stream",
          "name": "stdout",
          "text": [
            "               total        used        free      shared  buff/cache   available\n",
            "Mem:        13290480     1211896     4336836        2052     7741748    11751124\n",
            "Swap:              0           0           0\n"
          ]
        }
      ]
    },
    {
      "cell_type": "code",
      "source": [
        "#Inferred INCORRECTLY, from CSV file\n",
        "\n",
        "sdf = spark9.read.csv('SuperStoreOrders.csv', inferSchema=True,header = True, quote = '\"', escape = '\"')\n",
        "#sdf9A = spark9.read.csv('Orders3.csv', inferSchema=True,header = True, quote = '\"')\n",
        "#sdf9A = spark9.read.csv('SuperStoreOrders.csv', inferSchema=True,header = True)\n",
        "\n",
        "sdf.dtypes"
      ],
      "metadata": {
        "id": "p1TvsLPS5vAG",
        "outputId": "c6547e76-1c3a-4942-9611-1c14d73e94f6",
        "colab": {
          "base_uri": "https://localhost:8080/"
        }
      },
      "execution_count": 18,
      "outputs": [
        {
          "output_type": "execute_result",
          "data": {
            "text/plain": [
              "[('order_id', 'string'),\n",
              " ('order_date', 'string'),\n",
              " ('ship_date', 'string'),\n",
              " ('ship_mode', 'string'),\n",
              " ('customer_name', 'string'),\n",
              " ('segment', 'string'),\n",
              " ('state', 'string'),\n",
              " ('country', 'string'),\n",
              " ('market', 'string'),\n",
              " ('region', 'string'),\n",
              " ('product_id', 'string'),\n",
              " ('category', 'string'),\n",
              " ('sub_category', 'string'),\n",
              " ('product_name', 'string'),\n",
              " ('sales', 'string'),\n",
              " ('quantity', 'int'),\n",
              " ('discount', 'double'),\n",
              " ('profit', 'double'),\n",
              " ('shipping_cost', 'double'),\n",
              " ('order_priority', 'string'),\n",
              " ('year', 'int')]"
            ]
          },
          "metadata": {},
          "execution_count": 18
        }
      ]
    },
    {
      "cell_type": "code",
      "source": [
        "!free"
      ],
      "metadata": {
        "id": "1L_KpWXXph2o",
        "outputId": "a5091abf-d146-4198-d5a4-ae8032a07135",
        "colab": {
          "base_uri": "https://localhost:8080/"
        }
      },
      "execution_count": 19,
      "outputs": [
        {
          "output_type": "stream",
          "name": "stdout",
          "text": [
            "               total        used        free      shared  buff/cache   available\n",
            "Mem:        13290480     1246500     4294956        2060     7749024    11716512\n",
            "Swap:              0           0           0\n"
          ]
        }
      ]
    },
    {
      "cell_type": "code",
      "source": [
        "#sdf9A.filter(df['sales'].rlike('[\\!\\@\\$\\^\\&\\-\\_\\;\\:\\?\\.\\#\\*]')).count()\n",
        "#sdf9A.filter(df['sales'].like('[\\!\\@\\$\\^\\&\\-\\_\\;\\:\\?\\.\\#\\*\\,]')).show()\n",
        "#sdf.filter(col('sales').contains(\",\")).show()"
      ],
      "metadata": {
        "id": "qjDSzOnUJIxo"
      },
      "execution_count": null,
      "outputs": []
    },
    {
      "cell_type": "code",
      "source": [
        "#https://spark.apache.org/docs/latest/sql-ref-datetime-pattern.html\n",
        "#from pyspark.sql.functions import col, to_date\n",
        "#from pyspark.sql.functions import regexp_replace\n",
        "sdf = sdf.\\\n",
        "        withColumn('order_date',regexp_replace('order_date','/','-')).\\\n",
        "        withColumn('ship_date',regexp_replace('order_date','/','-')).\\\n",
        "        withColumn('order_date',to_date(col('order_date'), \"d-M-y\")).\\\n",
        "        withColumn('ship_date',to_date(col('ship_date'), \"d-M-y\")).\\\n",
        "        withColumn('sales',regexp_replace('sales',',','')).\\\n",
        "        withColumn('sales',col('sales').cast('int')).\\\n",
        "        withColumn('quantity',col('quantity').cast('int')).\\\n",
        "        withColumn('year',col('year').cast('string'))\n",
        "\n",
        "sdf.dtypes"
      ],
      "metadata": {
        "colab": {
          "base_uri": "https://localhost:8080/"
        },
        "id": "alphqlsNwA_t",
        "outputId": "91029c6c-a65e-40d6-9a16-9ba8c2c331bc"
      },
      "execution_count": 20,
      "outputs": [
        {
          "output_type": "execute_result",
          "data": {
            "text/plain": [
              "[('order_id', 'string'),\n",
              " ('order_date', 'date'),\n",
              " ('ship_date', 'date'),\n",
              " ('ship_mode', 'string'),\n",
              " ('customer_name', 'string'),\n",
              " ('segment', 'string'),\n",
              " ('state', 'string'),\n",
              " ('country', 'string'),\n",
              " ('market', 'string'),\n",
              " ('region', 'string'),\n",
              " ('product_id', 'string'),\n",
              " ('category', 'string'),\n",
              " ('sub_category', 'string'),\n",
              " ('product_name', 'string'),\n",
              " ('sales', 'int'),\n",
              " ('quantity', 'int'),\n",
              " ('discount', 'double'),\n",
              " ('profit', 'double'),\n",
              " ('shipping_cost', 'double'),\n",
              " ('order_priority', 'string'),\n",
              " ('year', 'string')]"
            ]
          },
          "metadata": {},
          "execution_count": 20
        }
      ]
    },
    {
      "cell_type": "code",
      "source": [
        "#sdf9A.filter(df['sales'].rlike('[\\!\\@\\$\\^\\&\\-\\_\\;\\:\\?\\.\\#\\*]')).count()\n",
        "#sdf9A.filter(df['sales'].like('[\\!\\@\\$\\^\\&\\-\\_\\;\\:\\?\\.\\#\\*\\,]')).show()\n",
        "#sdf.filter(col('sales').contains(\",\")).show()\n",
        "#sdf.filter(col('product_name').contains(\"\\\"\")).show()"
      ],
      "metadata": {
        "id": "wzFL5ng9Misr"
      },
      "execution_count": null,
      "outputs": []
    },
    {
      "cell_type": "code",
      "source": [
        "#sdf9A.show()"
      ],
      "metadata": {
        "id": "KKlJN8UsISVM"
      },
      "execution_count": null,
      "outputs": []
    },
    {
      "cell_type": "markdown",
      "source": [
        "## Pivots - check with Panda pivots"
      ],
      "metadata": {
        "id": "L56-5XVUSJYZ"
      }
    },
    {
      "cell_type": "code",
      "source": [
        "sdf.groupBy('segment').pivot('year').sum('sales').show()"
      ],
      "metadata": {
        "colab": {
          "base_uri": "https://localhost:8080/"
        },
        "id": "7J7pORjy_xf6",
        "outputId": "c26de366-7647-41d8-bd9d-d9083ae29861"
      },
      "execution_count": 21,
      "outputs": [
        {
          "output_type": "stream",
          "name": "stdout",
          "text": [
            "+-----------+-------+-------+-------+-------+\n",
            "|    segment|   2011|   2012|   2013|   2014|\n",
            "+-----------+-------+-------+-------+-------+\n",
            "|   Consumer|1173701|1463804|1729284|2141352|\n",
            "|Home Office| 394125| 439239| 611543| 865049|\n",
            "|  Corporate| 691685| 774450|1065033|1293640|\n",
            "+-----------+-------+-------+-------+-------+\n",
            "\n"
          ]
        }
      ]
    },
    {
      "cell_type": "code",
      "source": [
        "sdf.groupBy('segment').pivot('category').sum('quantity').show()"
      ],
      "metadata": {
        "colab": {
          "base_uri": "https://localhost:8080/"
        },
        "id": "3dovrYOyNb-Q",
        "outputId": "f9f966f8-5b70-4df9-e9e9-87a9c7176706"
      },
      "execution_count": 22,
      "outputs": [
        {
          "output_type": "stream",
          "name": "stdout",
          "text": [
            "+-----------+---------+---------------+----------+\n",
            "|    segment|Furniture|Office Supplies|Technology|\n",
            "+-----------+---------+---------------+----------+\n",
            "|   Consumer|    18002|          56025|     18130|\n",
            "|Home Office|     6217|          19921|      6452|\n",
            "|  Corporate|    10735|          32236|     10594|\n",
            "+-----------+---------+---------------+----------+\n",
            "\n"
          ]
        }
      ]
    },
    {
      "cell_type": "code",
      "source": [
        "# remove , and \" from data\n",
        "#import pandas as pd\n",
        "#p_df = pd.read_csv('SSdatafile.csv')\n",
        "#p_df = pd.read_csv('datafile.csv')\n",
        "#p_df2 = p_df.replace(',', ' ', regex=True)\n",
        "#p_df3 = p_df2.replace('\"', '', regex=True)\n",
        "#p_df3.to_csv('SSdatafile2.csv',index=False,sep=',')\n",
        "#!head SSdatafile2.csv"
      ],
      "metadata": {
        "id": "aWuZjTdbTRcX"
      },
      "execution_count": null,
      "outputs": []
    },
    {
      "cell_type": "markdown",
      "source": [
        "#Spark SQL"
      ],
      "metadata": {
        "id": "UohoFsuOW2an"
      }
    },
    {
      "cell_type": "markdown",
      "source": [
        "##Create Spark Hive Tables"
      ],
      "metadata": {
        "id": "flrY9w9AVhio"
      }
    },
    {
      "cell_type": "code",
      "source": [
        "spark9.sql(\"show databases\").show()"
      ],
      "metadata": {
        "colab": {
          "base_uri": "https://localhost:8080/"
        },
        "id": "1ZS4ipzuSwU9",
        "outputId": "eef1594b-b2ee-47c1-da12-518577205f3c"
      },
      "execution_count": 23,
      "outputs": [
        {
          "output_type": "stream",
          "name": "stdout",
          "text": [
            "+---------+\n",
            "|namespace|\n",
            "+---------+\n",
            "|  default|\n",
            "+---------+\n",
            "\n"
          ]
        }
      ]
    },
    {
      "cell_type": "code",
      "source": [
        "#sdf.dtypes"
      ],
      "metadata": {
        "id": "Bpo1CiQ6TgZd"
      },
      "execution_count": null,
      "outputs": []
    },
    {
      "cell_type": "code",
      "source": [
        "colSet = ['segment','category','region','year','sales','quantity','profit']\n",
        "sdf = sdf.select(colSet)\n",
        "sdf.show()"
      ],
      "metadata": {
        "colab": {
          "base_uri": "https://localhost:8080/"
        },
        "id": "GKVTeFueT2iB",
        "outputId": "8d13fe04-ad23-40c5-ba7a-54fdece470e7"
      },
      "execution_count": 24,
      "outputs": [
        {
          "output_type": "stream",
          "name": "stdout",
          "text": [
            "+-----------+---------------+--------------+----+-----+--------+---------+\n",
            "|    segment|       category|        region|year|sales|quantity|   profit|\n",
            "+-----------+---------------+--------------+----+-----+--------+---------+\n",
            "|   Consumer|Office Supplies|        Africa|2011|  408|       2|   106.14|\n",
            "|   Consumer|Office Supplies|       Oceania|2011|  120|       3|   36.036|\n",
            "|   Consumer|Office Supplies|          EMEA|2011|   66|       4|    29.64|\n",
            "|Home Office|Office Supplies|         North|2011|   45|       3|  -26.055|\n",
            "|   Consumer|      Furniture|       Oceania|2011|  114|       5|    37.77|\n",
            "|   Consumer|Office Supplies|       Oceania|2011|   55|       2|   15.342|\n",
            "|   Consumer|     Technology|        Canada|2011|  314|       1|     3.12|\n",
            "|  Corporate|Office Supplies|       Oceania|2011|  276|       1|  110.412|\n",
            "|   Consumer|     Technology|       Oceania|2011|  912|       4| -319.464|\n",
            "|  Corporate|      Furniture|          EMEA|2011|  667|       4|   253.32|\n",
            "|   Consumer|Office Supplies|Southeast Asia|2011|  338|       3|-122.8005|\n",
            "|   Consumer|      Furniture|Southeast Asia|2011|  211|       1| -70.3995|\n",
            "|   Consumer|      Furniture|         North|2011|  854|       7|   290.43|\n",
            "|Home Office|     Technology|Southeast Asia|2011|  193|       1|    50.13|\n",
            "|   Consumer|      Furniture|       Oceania|2011|  159|       2|  -95.676|\n",
            "|   Consumer|     Technology|       Central|2011|  195|       4|    44.88|\n",
            "|   Consumer|Office Supplies|          EMEA|2011|  123|       2|     42.9|\n",
            "|   Consumer|     Technology|       Oceania|2011|   69|       2|     3.42|\n",
            "|   Consumer|      Furniture|       Oceania|2011|   69|       2|  -26.412|\n",
            "|   Consumer|Office Supplies|Southeast Asia|2011|  135|       2| -45.9018|\n",
            "+-----------+---------------+--------------+----+-----+--------+---------+\n",
            "only showing top 20 rows\n",
            "\n"
          ]
        }
      ]
    },
    {
      "cell_type": "code",
      "source": [
        "!free"
      ],
      "metadata": {
        "id": "25d8fdDyvuNk",
        "outputId": "4ee5ce2f-9742-4b2d-fd7f-4da4e1f8ad84",
        "colab": {
          "base_uri": "https://localhost:8080/"
        }
      },
      "execution_count": 25,
      "outputs": [
        {
          "output_type": "stream",
          "name": "stdout",
          "text": [
            "               total        used        free      shared  buff/cache   available\n",
            "Mem:        13290480     1355140     4183668        2108     7751672    11607824\n",
            "Swap:              0           0           0\n"
          ]
        }
      ]
    },
    {
      "cell_type": "code",
      "source": [
        "#air_quality_sdf.createOrReplaceTempView(\"air_quality_sdf\")\n",
        "sdf.createOrReplaceTempView(\"tFact\")\n",
        "spark9.sql(\"describe tFact\").show()"
      ],
      "metadata": {
        "id": "YJAmrs8vXN5Z",
        "colab": {
          "base_uri": "https://localhost:8080/"
        },
        "outputId": "f69c18b8-a98a-4ce9-d092-bdad9a681006"
      },
      "execution_count": 26,
      "outputs": [
        {
          "output_type": "stream",
          "name": "stdout",
          "text": [
            "+--------+---------+-------+\n",
            "|col_name|data_type|comment|\n",
            "+--------+---------+-------+\n",
            "| segment|   string|   NULL|\n",
            "|category|   string|   NULL|\n",
            "|  region|   string|   NULL|\n",
            "|    year|   string|   NULL|\n",
            "|   sales|      int|   NULL|\n",
            "|quantity|      int|   NULL|\n",
            "|  profit|   double|   NULL|\n",
            "+--------+---------+-------+\n",
            "\n"
          ]
        }
      ]
    },
    {
      "cell_type": "code",
      "source": [
        "!free"
      ],
      "metadata": {
        "id": "qM_0YTqAqGor",
        "outputId": "b341802b-492f-4c04-9baf-83784878624f",
        "colab": {
          "base_uri": "https://localhost:8080/"
        }
      },
      "execution_count": 27,
      "outputs": [
        {
          "output_type": "stream",
          "name": "stdout",
          "text": [
            "               total        used        free      shared  buff/cache   available\n",
            "Mem:        13290480     1350464     4188300        2116     7751716    11612492\n",
            "Swap:              0           0           0\n"
          ]
        }
      ]
    },
    {
      "cell_type": "code",
      "source": [
        "spark9.sql(\"show tables\").show()"
      ],
      "metadata": {
        "colab": {
          "base_uri": "https://localhost:8080/"
        },
        "id": "Sw8cCE8kXce3",
        "outputId": "deb93574-c1a5-4067-8849-ffbe04f3bba3"
      },
      "execution_count": null,
      "outputs": [
        {
          "output_type": "stream",
          "name": "stdout",
          "text": [
            "+---------+---------+-----------+\n",
            "|namespace|tableName|isTemporary|\n",
            "+---------+---------+-----------+\n",
            "|         |    tfact|       true|\n",
            "+---------+---------+-----------+\n",
            "\n"
          ]
        }
      ]
    },
    {
      "cell_type": "code",
      "source": [
        "spark9.sql('select * from tFact limit 5').show()"
      ],
      "metadata": {
        "colab": {
          "base_uri": "https://localhost:8080/"
        },
        "id": "erd8GWmyZeUl",
        "outputId": "6922c928-173e-4a4e-b59d-cb3fcdbbd4e8"
      },
      "execution_count": 28,
      "outputs": [
        {
          "output_type": "stream",
          "name": "stdout",
          "text": [
            "+-----------+---------------+-------+----+-----+--------+-------+\n",
            "|    segment|       category| region|year|sales|quantity| profit|\n",
            "+-----------+---------------+-------+----+-----+--------+-------+\n",
            "|   Consumer|Office Supplies| Africa|2011|  408|       2| 106.14|\n",
            "|   Consumer|Office Supplies|Oceania|2011|  120|       3| 36.036|\n",
            "|   Consumer|Office Supplies|   EMEA|2011|   66|       4|  29.64|\n",
            "|Home Office|Office Supplies|  North|2011|   45|       3|-26.055|\n",
            "|   Consumer|      Furniture|Oceania|2011|  114|       5|  37.77|\n",
            "+-----------+---------------+-------+----+-----+--------+-------+\n",
            "\n"
          ]
        }
      ]
    },
    {
      "cell_type": "code",
      "source": [
        "sql_drop_table = \"\"\"\n",
        "drop table if exists praxisdb.fact43\n",
        "\"\"\"\n",
        "\n",
        "sql_drop_database = \"\"\"\n",
        "drop database if exists praxisdb cascade\n",
        "\"\"\"\n",
        "\n",
        "sql_create_database = \"\"\"\n",
        "create database if not exists praxisdb\n",
        "location '/content/praxisdb/'\n",
        "\"\"\"\n",
        "\n",
        "sql_create_table = \"\"\"\n",
        "create table if not exists praxisdb.fact43\n",
        "using parquet\n",
        "as select  * from tFact\n",
        "\"\"\"\n",
        "\n",
        "#as select to_timestamp(date) as date_parsed, *\n",
        "\n",
        "print(\"dropping database...\")\n",
        "result_drop_db = spark9.sql(sql_drop_database)\n",
        "\n",
        "print(\"creating database...\")\n",
        "result_create_db = spark9.sql(sql_create_database)\n",
        "\n",
        "print(\"dropping table...\")\n",
        "result_droptable = spark9.sql(sql_drop_table)\n",
        "\n",
        "print(\"creating table...\")\n",
        "result_create_table = spark9.sql(sql_create_table)"
      ],
      "metadata": {
        "colab": {
          "base_uri": "https://localhost:8080/"
        },
        "id": "M5acfAuTX12d",
        "outputId": "7dd5263e-5a92-4289-c585-d6951706af56"
      },
      "execution_count": 29,
      "outputs": [
        {
          "output_type": "stream",
          "name": "stdout",
          "text": [
            "dropping database...\n",
            "creating database...\n",
            "dropping table...\n",
            "creating table...\n"
          ]
        }
      ]
    },
    {
      "cell_type": "code",
      "source": [
        "spark9.sql(\"use praxisdb\")\n",
        "spark9.sql(\"show tables\").show()"
      ],
      "metadata": {
        "colab": {
          "base_uri": "https://localhost:8080/"
        },
        "id": "q8-a8JFQ1iaN",
        "outputId": "b6d3ce5d-923c-45af-9ceb-18ba6efe513c"
      },
      "execution_count": 30,
      "outputs": [
        {
          "output_type": "stream",
          "name": "stdout",
          "text": [
            "+---------+---------+-----------+\n",
            "|namespace|tableName|isTemporary|\n",
            "+---------+---------+-----------+\n",
            "| praxisdb|   fact43|      false|\n",
            "|         |    tfact|       true|\n",
            "+---------+---------+-----------+\n",
            "\n"
          ]
        }
      ]
    },
    {
      "cell_type": "code",
      "source": [
        "spark9.sql(\"select * from praxisdb.fact43\").show(5)"
      ],
      "metadata": {
        "colab": {
          "base_uri": "https://localhost:8080/"
        },
        "id": "8Sry26x0ewZD",
        "outputId": "e9f268df-d00d-447c-af37-030990c2b021"
      },
      "execution_count": 31,
      "outputs": [
        {
          "output_type": "stream",
          "name": "stdout",
          "text": [
            "+-----------+---------------+-------+----+-----+--------+-------+\n",
            "|    segment|       category| region|year|sales|quantity| profit|\n",
            "+-----------+---------------+-------+----+-----+--------+-------+\n",
            "|   Consumer|Office Supplies| Africa|2011|  408|       2| 106.14|\n",
            "|   Consumer|Office Supplies|Oceania|2011|  120|       3| 36.036|\n",
            "|   Consumer|Office Supplies|   EMEA|2011|   66|       4|  29.64|\n",
            "|Home Office|Office Supplies|  North|2011|   45|       3|-26.055|\n",
            "|   Consumer|      Furniture|Oceania|2011|  114|       5|  37.77|\n",
            "+-----------+---------------+-------+----+-----+--------+-------+\n",
            "only showing top 5 rows\n",
            "\n"
          ]
        }
      ]
    },
    {
      "cell_type": "code",
      "source": [
        "spark9.catalog.dropTempView(\"tFact\")"
      ],
      "metadata": {
        "id": "a2HGpfZMUpmV",
        "outputId": "99488cb1-5425-4de5-f997-524d1863b2b1",
        "colab": {
          "base_uri": "https://localhost:8080/"
        }
      },
      "execution_count": 32,
      "outputs": [
        {
          "output_type": "execute_result",
          "data": {
            "text/plain": [
              "True"
            ]
          },
          "metadata": {},
          "execution_count": 32
        }
      ]
    },
    {
      "cell_type": "code",
      "source": [
        "!free"
      ],
      "metadata": {
        "id": "pjZc3IEiqu3E",
        "outputId": "3ea4c1c7-2898-4873-ead3-1fa24e7b04bd",
        "colab": {
          "base_uri": "https://localhost:8080/"
        }
      },
      "execution_count": 37,
      "outputs": [
        {
          "output_type": "stream",
          "name": "stdout",
          "text": [
            "               total        used        free      shared  buff/cache   available\n",
            "Mem:        13290480     1440512     6085540        2656     5764428    11521904\n",
            "Swap:              0           0           0\n"
          ]
        }
      ]
    },
    {
      "cell_type": "code",
      "source": [
        "# Assuming df is the DataFrame you want to delete\n",
        "sdf.unpersist()\n",
        "del sdf"
      ],
      "metadata": {
        "id": "WXtGMz2zq18z"
      },
      "execution_count": 34,
      "outputs": []
    },
    {
      "cell_type": "code",
      "source": [
        "!free"
      ],
      "metadata": {
        "id": "Q-aK9CT0q9iQ",
        "outputId": "9e199e97-1d7c-469d-e300-3c52133e2899",
        "colab": {
          "base_uri": "https://localhost:8080/"
        }
      },
      "execution_count": 38,
      "outputs": [
        {
          "output_type": "stream",
          "name": "stdout",
          "text": [
            "               total        used        free      shared  buff/cache   available\n",
            "Mem:        13290480     1450856     6075212        2656     5764412    11511560\n",
            "Swap:              0           0           0\n"
          ]
        }
      ]
    },
    {
      "cell_type": "code",
      "source": [
        "spark9.sql(\"use praxisdb\")\n",
        "spark9.sql(\"show tables\").show()"
      ],
      "metadata": {
        "id": "kBtWge_-iCmG",
        "outputId": "f71ee550-9497-4a79-98b9-bc99a714ba68",
        "colab": {
          "base_uri": "https://localhost:8080/"
        }
      },
      "execution_count": 36,
      "outputs": [
        {
          "output_type": "stream",
          "name": "stdout",
          "text": [
            "+---------+---------+-----------+\n",
            "|namespace|tableName|isTemporary|\n",
            "+---------+---------+-----------+\n",
            "| praxisdb|   fact43|      false|\n",
            "+---------+---------+-----------+\n",
            "\n"
          ]
        }
      ]
    },
    {
      "cell_type": "markdown",
      "source": [
        "#OLAP"
      ],
      "metadata": {
        "id": "NTldGFWwiawv"
      }
    },
    {
      "cell_type": "code",
      "source": [
        "spark9.sql(\"select * from praxisdb.fact43\").show()"
      ],
      "metadata": {
        "id": "_txtqK4xilSf",
        "outputId": "674d1614-4b25-482e-8512-7d7d137324ac",
        "colab": {
          "base_uri": "https://localhost:8080/"
        }
      },
      "execution_count": 39,
      "outputs": [
        {
          "output_type": "stream",
          "name": "stdout",
          "text": [
            "+-----------+---------------+--------------+----+-----+--------+---------+\n",
            "|    segment|       category|        region|year|sales|quantity|   profit|\n",
            "+-----------+---------------+--------------+----+-----+--------+---------+\n",
            "|   Consumer|Office Supplies|        Africa|2011|  408|       2|   106.14|\n",
            "|   Consumer|Office Supplies|       Oceania|2011|  120|       3|   36.036|\n",
            "|   Consumer|Office Supplies|          EMEA|2011|   66|       4|    29.64|\n",
            "|Home Office|Office Supplies|         North|2011|   45|       3|  -26.055|\n",
            "|   Consumer|      Furniture|       Oceania|2011|  114|       5|    37.77|\n",
            "|   Consumer|Office Supplies|       Oceania|2011|   55|       2|   15.342|\n",
            "|   Consumer|     Technology|        Canada|2011|  314|       1|     3.12|\n",
            "|  Corporate|Office Supplies|       Oceania|2011|  276|       1|  110.412|\n",
            "|   Consumer|     Technology|       Oceania|2011|  912|       4| -319.464|\n",
            "|  Corporate|      Furniture|          EMEA|2011|  667|       4|   253.32|\n",
            "|   Consumer|Office Supplies|Southeast Asia|2011|  338|       3|-122.8005|\n",
            "|   Consumer|      Furniture|Southeast Asia|2011|  211|       1| -70.3995|\n",
            "|   Consumer|      Furniture|         North|2011|  854|       7|   290.43|\n",
            "|Home Office|     Technology|Southeast Asia|2011|  193|       1|    50.13|\n",
            "|   Consumer|      Furniture|       Oceania|2011|  159|       2|  -95.676|\n",
            "|   Consumer|     Technology|       Central|2011|  195|       4|    44.88|\n",
            "|   Consumer|Office Supplies|          EMEA|2011|  123|       2|     42.9|\n",
            "|   Consumer|     Technology|       Oceania|2011|   69|       2|     3.42|\n",
            "|   Consumer|      Furniture|       Oceania|2011|   69|       2|  -26.412|\n",
            "|   Consumer|Office Supplies|Southeast Asia|2011|  135|       2| -45.9018|\n",
            "+-----------+---------------+--------------+----+-----+--------+---------+\n",
            "only showing top 20 rows\n",
            "\n"
          ]
        }
      ]
    },
    {
      "cell_type": "markdown",
      "source": [
        "##Group By"
      ],
      "metadata": {
        "id": "tSczMpMiieEp"
      }
    },
    {
      "cell_type": "code",
      "source": [
        "spark9.sql(\"\\\n",
        "select segment, sum(quantity) tot_quantity, sum(sales) tot_sales \\\n",
        "from fact43 \\\n",
        "group by segment \\\n",
        "order by segment \\\n",
        "\").show()"
      ],
      "metadata": {
        "id": "1zxCckmOixfh",
        "outputId": "b45069cf-dad0-4739-aff7-5661b198afcf",
        "colab": {
          "base_uri": "https://localhost:8080/"
        }
      },
      "execution_count": 41,
      "outputs": [
        {
          "output_type": "stream",
          "name": "stdout",
          "text": [
            "+-----------+------------+---------+\n",
            "|    segment|tot_quantity|tot_sales|\n",
            "+-----------+------------+---------+\n",
            "|   Consumer|       92157|  6508141|\n",
            "|  Corporate|       53565|  3824808|\n",
            "|Home Office|       32590|  2309956|\n",
            "+-----------+------------+---------+\n",
            "\n"
          ]
        }
      ]
    },
    {
      "cell_type": "code",
      "source": [
        "spark9.sql(\"\\\n",
        "select segment, year, sum(quantity) tot_quantity, sum(sales) tot_sales \\\n",
        "from fact43 \\\n",
        "group by segment, year \\\n",
        "order by segment, year \\\n",
        "\").show()"
      ],
      "metadata": {
        "id": "Scq9V2fDjwVw",
        "outputId": "6dcd3e5d-d1e1-4d70-ace0-a5cd2d7818d8",
        "colab": {
          "base_uri": "https://localhost:8080/"
        }
      },
      "execution_count": 42,
      "outputs": [
        {
          "output_type": "stream",
          "name": "stdout",
          "text": [
            "+-----------+----+------------+---------+\n",
            "|    segment|year|tot_quantity|tot_sales|\n",
            "+-----------+----+------------+---------+\n",
            "|   Consumer|2011|       16455|  1173701|\n",
            "|   Consumer|2012|       20259|  1463804|\n",
            "|   Consumer|2013|       24601|  1729284|\n",
            "|   Consumer|2014|       30842|  2141352|\n",
            "|  Corporate|2011|        9663|   691685|\n",
            "|  Corporate|2012|       11296|   774450|\n",
            "|  Corporate|2013|       14685|  1065033|\n",
            "|  Corporate|2014|       17921|  1293640|\n",
            "|Home Office|2011|        5325|   394125|\n",
            "|Home Office|2012|        6556|   439239|\n",
            "|Home Office|2013|        8850|   611543|\n",
            "|Home Office|2014|       11859|   865049|\n",
            "+-----------+----+------------+---------+\n",
            "\n"
          ]
        }
      ]
    },
    {
      "cell_type": "code",
      "source": [
        "spark9.sql(\"\\\n",
        "select segment, year, sum(quantity) tot_quantity, sum(sales) tot_sales \\\n",
        "from fact43 \\\n",
        "group by segment, year \\\n",
        "union all \\\n",
        "select segment, NULL, sum(quantity) tot_quantity, sum(sales) tot_sales \\\n",
        "from fact43 \\\n",
        "group by segment \\\n",
        "union all \\\n",
        "select NULL, year, sum(quantity) tot_quantity, sum(sales) tot_sales \\\n",
        "from fact43 \\\n",
        "group by year \\\n",
        "union all \\\n",
        "select null, null, sum(quantity) tot_quantity, sum(sales) tot_sales \\\n",
        "from fact43 \\\n",
        "\").show()"
      ],
      "metadata": {
        "id": "iB2EvSGSkZ3D",
        "outputId": "6bc52b3e-126c-44e2-ffd3-0d1848042bc4",
        "colab": {
          "base_uri": "https://localhost:8080/"
        }
      },
      "execution_count": 43,
      "outputs": [
        {
          "output_type": "stream",
          "name": "stdout",
          "text": [
            "+-----------+----+------------+---------+\n",
            "|    segment|year|tot_quantity|tot_sales|\n",
            "+-----------+----+------------+---------+\n",
            "|  Corporate|2011|        9663|   691685|\n",
            "|Home Office|2012|        6556|   439239|\n",
            "|   Consumer|2014|       30842|  2141352|\n",
            "|Home Office|2013|        8850|   611543|\n",
            "|  Corporate|2012|       11296|   774450|\n",
            "|   Consumer|2011|       16455|  1173701|\n",
            "|Home Office|2011|        5325|   394125|\n",
            "|Home Office|2014|       11859|   865049|\n",
            "|   Consumer|2012|       20259|  1463804|\n",
            "|  Corporate|2013|       14685|  1065033|\n",
            "|   Consumer|2013|       24601|  1729284|\n",
            "|  Corporate|2014|       17921|  1293640|\n",
            "|   Consumer|NULL|       92157|  6508141|\n",
            "|Home Office|NULL|       32590|  2309956|\n",
            "|  Corporate|NULL|       53565|  3824808|\n",
            "|       NULL|2012|       38111|  2677493|\n",
            "|       NULL|2014|       60622|  4300041|\n",
            "|       NULL|2013|       48136|  3405860|\n",
            "|       NULL|2011|       31443|  2259511|\n",
            "|       NULL|NULL|      178312| 12642905|\n",
            "+-----------+----+------------+---------+\n",
            "\n"
          ]
        }
      ]
    },
    {
      "cell_type": "markdown",
      "source": [
        "##Grouping Sets"
      ],
      "metadata": {
        "id": "VpnuSSChmmHm"
      }
    },
    {
      "cell_type": "code",
      "source": [
        "spark9.sql(\"\\\n",
        "select segment, year, sum(quantity) tot_quantity, sum(sales) tot_sales \\\n",
        "from fact43 \\\n",
        "group by \\\n",
        "    grouping sets( \\\n",
        "        (segment, year), \\\n",
        "        (segment),\\\n",
        "        (year), \\\n",
        "        () \\\n",
        "    ) \\\n",
        "order by segment, year \\\n",
        "\").show()"
      ],
      "metadata": {
        "id": "-w2EznKfmt6y",
        "outputId": "83c36b1a-b41f-41ce-f968-936e23c2d187",
        "colab": {
          "base_uri": "https://localhost:8080/"
        }
      },
      "execution_count": 44,
      "outputs": [
        {
          "output_type": "stream",
          "name": "stdout",
          "text": [
            "+-----------+----+------------+---------+\n",
            "|    segment|year|tot_quantity|tot_sales|\n",
            "+-----------+----+------------+---------+\n",
            "|       NULL|NULL|      178312| 12642905|\n",
            "|       NULL|2011|       31443|  2259511|\n",
            "|       NULL|2012|       38111|  2677493|\n",
            "|       NULL|2013|       48136|  3405860|\n",
            "|       NULL|2014|       60622|  4300041|\n",
            "|   Consumer|NULL|       92157|  6508141|\n",
            "|   Consumer|2011|       16455|  1173701|\n",
            "|   Consumer|2012|       20259|  1463804|\n",
            "|   Consumer|2013|       24601|  1729284|\n",
            "|   Consumer|2014|       30842|  2141352|\n",
            "|  Corporate|NULL|       53565|  3824808|\n",
            "|  Corporate|2011|        9663|   691685|\n",
            "|  Corporate|2012|       11296|   774450|\n",
            "|  Corporate|2013|       14685|  1065033|\n",
            "|  Corporate|2014|       17921|  1293640|\n",
            "|Home Office|NULL|       32590|  2309956|\n",
            "|Home Office|2011|        5325|   394125|\n",
            "|Home Office|2012|        6556|   439239|\n",
            "|Home Office|2013|        8850|   611543|\n",
            "|Home Office|2014|       11859|   865049|\n",
            "+-----------+----+------------+---------+\n",
            "\n"
          ]
        }
      ]
    },
    {
      "cell_type": "markdown",
      "source": [
        "##Roll Up"
      ],
      "metadata": {
        "id": "fI3OAHRHof5i"
      }
    },
    {
      "cell_type": "code",
      "source": [
        "spark9.sql(\"\\\n",
        "select \\\n",
        "ifnull(segment,'all segment') _segment,\\\n",
        "ifnull(year,'all year') _year,\\\n",
        "sum(quantity) tot_quantity, sum(sales) tot_sales \\\n",
        "from praxisdb.fact43 \\\n",
        "group by rollup(segment, year) \\\n",
        "order by _segment, _year \\\n",
        "\").show()"
      ],
      "metadata": {
        "id": "-UUe94z2yEmD",
        "outputId": "51ce19f2-a4ff-4450-aec2-5f0956ed5689",
        "colab": {
          "base_uri": "https://localhost:8080/"
        }
      },
      "execution_count": 45,
      "outputs": [
        {
          "output_type": "stream",
          "name": "stdout",
          "text": [
            "+-----------+--------+------------+---------+\n",
            "|   _segment|   _year|tot_quantity|tot_sales|\n",
            "+-----------+--------+------------+---------+\n",
            "|   Consumer|    2011|       16455|  1173701|\n",
            "|   Consumer|    2012|       20259|  1463804|\n",
            "|   Consumer|    2013|       24601|  1729284|\n",
            "|   Consumer|    2014|       30842|  2141352|\n",
            "|   Consumer|all year|       92157|  6508141|\n",
            "|  Corporate|    2011|        9663|   691685|\n",
            "|  Corporate|    2012|       11296|   774450|\n",
            "|  Corporate|    2013|       14685|  1065033|\n",
            "|  Corporate|    2014|       17921|  1293640|\n",
            "|  Corporate|all year|       53565|  3824808|\n",
            "|Home Office|    2011|        5325|   394125|\n",
            "|Home Office|    2012|        6556|   439239|\n",
            "|Home Office|    2013|        8850|   611543|\n",
            "|Home Office|    2014|       11859|   865049|\n",
            "|Home Office|all year|       32590|  2309956|\n",
            "|all segment|all year|      178312| 12642905|\n",
            "+-----------+--------+------------+---------+\n",
            "\n"
          ]
        }
      ]
    },
    {
      "cell_type": "code",
      "source": [
        "spark9.sql(\"\\\n",
        "select segment, year, sum(quantity) tot_quantity, sum(sales) tot_sales \\\n",
        "from fact43 \\\n",
        "group by rollup(segment, year) \\\n",
        "order by segment, year \\\n",
        "\").show()"
      ],
      "metadata": {
        "id": "RDxqpoYAo5bL",
        "outputId": "7c01ecb8-efe7-4bc7-eb5c-4c18492f29ac",
        "colab": {
          "base_uri": "https://localhost:8080/"
        }
      },
      "execution_count": 46,
      "outputs": [
        {
          "output_type": "stream",
          "name": "stdout",
          "text": [
            "+-----------+----+------------+---------+\n",
            "|    segment|year|tot_quantity|tot_sales|\n",
            "+-----------+----+------------+---------+\n",
            "|       NULL|NULL|      178312| 12642905|\n",
            "|   Consumer|NULL|       92157|  6508141|\n",
            "|   Consumer|2011|       16455|  1173701|\n",
            "|   Consumer|2012|       20259|  1463804|\n",
            "|   Consumer|2013|       24601|  1729284|\n",
            "|   Consumer|2014|       30842|  2141352|\n",
            "|  Corporate|NULL|       53565|  3824808|\n",
            "|  Corporate|2011|        9663|   691685|\n",
            "|  Corporate|2012|       11296|   774450|\n",
            "|  Corporate|2013|       14685|  1065033|\n",
            "|  Corporate|2014|       17921|  1293640|\n",
            "|Home Office|NULL|       32590|  2309956|\n",
            "|Home Office|2011|        5325|   394125|\n",
            "|Home Office|2012|        6556|   439239|\n",
            "|Home Office|2013|        8850|   611543|\n",
            "|Home Office|2014|       11859|   865049|\n",
            "+-----------+----+------------+---------+\n",
            "\n"
          ]
        }
      ]
    },
    {
      "cell_type": "markdown",
      "source": [
        "##CUBE"
      ],
      "metadata": {
        "id": "RwpHXh9LpDu1"
      }
    },
    {
      "cell_type": "code",
      "source": [
        "spark9.sql(\"\\\n",
        "select segment, year, sum(quantity) tot_quantity, sum(sales) tot_sales \\\n",
        "from praxisdb.fact43 \\\n",
        "group by cube(segment, year) \\\n",
        "order by segment, year \\\n",
        "\").show()"
      ],
      "metadata": {
        "id": "lkDn07igpO9S",
        "outputId": "757df1d2-bec2-4f6c-d8b8-d9fa24869922",
        "colab": {
          "base_uri": "https://localhost:8080/"
        }
      },
      "execution_count": 47,
      "outputs": [
        {
          "output_type": "stream",
          "name": "stdout",
          "text": [
            "+-----------+----+------------+---------+\n",
            "|    segment|year|tot_quantity|tot_sales|\n",
            "+-----------+----+------------+---------+\n",
            "|       NULL|NULL|      178312| 12642905|\n",
            "|       NULL|2011|       31443|  2259511|\n",
            "|       NULL|2012|       38111|  2677493|\n",
            "|       NULL|2013|       48136|  3405860|\n",
            "|       NULL|2014|       60622|  4300041|\n",
            "|   Consumer|NULL|       92157|  6508141|\n",
            "|   Consumer|2011|       16455|  1173701|\n",
            "|   Consumer|2012|       20259|  1463804|\n",
            "|   Consumer|2013|       24601|  1729284|\n",
            "|   Consumer|2014|       30842|  2141352|\n",
            "|  Corporate|NULL|       53565|  3824808|\n",
            "|  Corporate|2011|        9663|   691685|\n",
            "|  Corporate|2012|       11296|   774450|\n",
            "|  Corporate|2013|       14685|  1065033|\n",
            "|  Corporate|2014|       17921|  1293640|\n",
            "|Home Office|NULL|       32590|  2309956|\n",
            "|Home Office|2011|        5325|   394125|\n",
            "|Home Office|2012|        6556|   439239|\n",
            "|Home Office|2013|        8850|   611543|\n",
            "|Home Office|2014|       11859|   865049|\n",
            "+-----------+----+------------+---------+\n",
            "\n"
          ]
        }
      ]
    },
    {
      "cell_type": "markdown",
      "source": [
        "##CrossTab"
      ],
      "metadata": {
        "id": "XaxGELk3N5V_"
      }
    },
    {
      "cell_type": "code",
      "source": [
        "CrossTab2 = spark9.sql(\"\"\"\n",
        " SELECT\n",
        "  IFNULL(Segment,'#Totals') Dims,\n",
        "  Africa,North_Asia,Central_Asia,Caribbean,\n",
        "  Oceania,Canada,EMEA,SE_Asia,\n",
        "  Central,East,West,South,\n",
        "  Africa +North_Asia + Central_Asia+ Caribbean + Oceania + Canada+EMEA + SE_Asia + Central + East + West + South Totals\n",
        "FROM (\n",
        "SELECT\n",
        "        Segment,\n",
        "        SUM(IF(Region='Africa',Sales,0)) As Africa,\n",
        "        SUM(IF(Region='North Asia',Sales,0)) As North_Asia,\n",
        "        SUM(IF(Region='Central Asia',Sales,0)) As Central_Asia,\n",
        "        SUM(IF(Region='Caribbean',Sales,0)) As Caribbean,\n",
        "        SUM(IF(Region='Oceania',Sales,0)) As Oceania,\n",
        "        SUM(IF(Region='Canada',Sales,0)) As Canada,\n",
        "        SUM(IF(Region='EMEA',Sales,0)) As EMEA,\n",
        "        SUM(IF(Region='South East Asia',Sales,0)) As SE_Asia,\n",
        "        SUM(IF(Region='Central',Sales,0)) As Central,\n",
        "        SUM(IF(Region='East',Sales,0)) As East,\n",
        "        SUM(IF(Region='West',Sales,0)) As West,\n",
        "        SUM(IF(Region='North',Sales,0)) As North,\n",
        "        SUM(IF(Region='South',Sales,0)) As South\n",
        "    FROM praxisdb.fact43\n",
        "        GROUP BY Segment WITH ROLLUP\n",
        "    )\n",
        "as sums\n",
        "order by Dims desc\n",
        "\"\"\")\n",
        "CrossTab2.show()"
      ],
      "metadata": {
        "id": "m8rXXie3O5vG",
        "outputId": "b97cbeb3-0539-40c2-d7ef-76b46c5ae7d9",
        "colab": {
          "base_uri": "https://localhost:8080/"
        }
      },
      "execution_count": 48,
      "outputs": [
        {
          "output_type": "stream",
          "name": "stdout",
          "text": [
            "+-----------+------+----------+------------+---------+-------+------+------+-------+-------+------+------+-------+--------+\n",
            "|       Dims|Africa|North_Asia|Central_Asia|Caribbean|Oceania|Canada|  EMEA|SE_Asia|Central|  East|  West|  South|  Totals|\n",
            "+-----------+------+----------+------------+---------+-------+------+------+-------+-------+------+------+-------+--------+\n",
            "|Home Office|155077|    175177|      148235|    57395| 197812| 11896|148862|      0| 491961|127465|136736| 280016| 1930632|\n",
            "|  Corporate|204948|    265762|      235552|   104535| 322831| 19319|250559|      0| 850405|200422|225870| 496029| 3176232|\n",
            "|   Consumer|423751|    407410|      369052|   162351| 579564| 35717|406763|      0|1480033|350947|362908| 824915| 5403411|\n",
            "|    #Totals|783776|    848349|      752839|   324281|1100207| 66932|806184|      0|2822399|678834|725514|1600960|10510275|\n",
            "+-----------+------+----------+------------+---------+-------+------+------+-------+-------+------+------+-------+--------+\n",
            "\n"
          ]
        }
      ]
    },
    {
      "cell_type": "code",
      "source": [
        "from datetime import datetime\n",
        "import pytz\n",
        "print('ॐ श्री सरस्वत्यै नमः',datetime.now(pytz.timezone('Asia/Calcutta')))"
      ],
      "metadata": {
        "id": "uZSe__AeBNzL",
        "outputId": "44fac71d-de1f-4fcd-ed9e-2ed720c8f88c",
        "colab": {
          "base_uri": "https://localhost:8080/"
        }
      },
      "execution_count": 49,
      "outputs": [
        {
          "output_type": "stream",
          "name": "stdout",
          "text": [
            "ॐ श्री सरस्वत्यै नमः 2024-05-03 09:49:53.900292+05:30\n"
          ]
        }
      ]
    },
    {
      "cell_type": "markdown",
      "metadata": {
        "id": "xnF14kOqtVSi"
      },
      "source": [
        "#Chronobooks <br>\n",
        "![alt text](https://1.bp.blogspot.com/-lTiYBkU2qbU/X1er__fvnkI/AAAAAAAAjtE/GhDR3OEGJr4NG43fZPodrQD5kbxtnKebgCLcBGAsYHQ/s600/Footer2020-600x200.png)<hr>\n",
        "Chronotantra and Chronoyantra are two science fiction novels that explore the collapse of human civilisation on Earth and then its rebirth and reincarnation both on Earth as well as on the distant worlds of Mars, Titan and Enceladus. But is it the human civilisation that is being reborn? Or is it some other sentience that is revealing itself.\n",
        "If you have an interest in AI and found this material useful, you may consider buying these novels, in paperback or kindle, from [http://bit.ly/chronobooks](http://bit.ly/chronobooks)"
      ]
    }
  ]
}