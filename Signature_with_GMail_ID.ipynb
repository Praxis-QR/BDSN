{
  "nbformat": 4,
  "nbformat_minor": 0,
  "metadata": {
    "colab": {
      "provenance": [],
      "include_colab_link": true
    },
    "kernelspec": {
      "name": "python3",
      "display_name": "Python 3"
    }
  },
  "cells": [
    {
      "cell_type": "markdown",
      "metadata": {
        "id": "view-in-github",
        "colab_type": "text"
      },
      "source": [
        "<a href=\"https://colab.research.google.com/github/Praxis-QR/BDSN/blob/main/Signature_with_GMail_ID.ipynb\" target=\"_parent\"><img src=\"https://colab.research.google.com/assets/colab-badge.svg\" alt=\"Open In Colab\"/></a>"
      ]
    },
    {
      "cell_type": "markdown",
      "source": [
        "##How to get Gmail id of current notebook user"
      ],
      "metadata": {
        "id": "RUO8uzea6DzR"
      }
    },
    {
      "metadata": {
        "id": "_vf8C-60XfUl"
      },
      "cell_type": "code",
      "source": [
        "from google.colab import auth\n",
        "auth.authenticate_user()"
      ],
      "execution_count": 1,
      "outputs": []
    },
    {
      "metadata": {
        "id": "s5NmSuyvXkpv",
        "colab": {
          "base_uri": "https://localhost:8080/"
        },
        "outputId": "3d63d765-1100-4e27-8eb2-efd4e2b35ab6"
      },
      "cell_type": "code",
      "source": [
        "import requests\n",
        "gcloud_token = !gcloud auth print-access-token\n",
        "gcloud_tokeninfo = requests.get('https://www.googleapis.com/oauth2/v3/tokeninfo?access_token=' + gcloud_token[0]).json()\n",
        "signature = gcloud_tokeninfo['email']\n",
        "print(signature)"
      ],
      "execution_count": 2,
      "outputs": [
        {
          "output_type": "stream",
          "name": "stdout",
          "text": [
            "prithwis@praxis.ac.in\n"
          ]
        }
      ]
    },
    {
      "cell_type": "code",
      "source": [
        "gcloud_tokeninfo"
      ],
      "metadata": {
        "colab": {
          "base_uri": "https://localhost:8080/"
        },
        "id": "ueJc2okT5pfA",
        "outputId": "08e649a4-0204-4c2b-e131-72d93810cf01"
      },
      "execution_count": 3,
      "outputs": [
        {
          "output_type": "execute_result",
          "data": {
            "text/plain": [
              "{'azp': '522309567947-3h37mfqnb5uuglmuqo1vv3qhngmkorrk.apps.googleusercontent.com',\n",
              " 'aud': '522309567947-3h37mfqnb5uuglmuqo1vv3qhngmkorrk.apps.googleusercontent.com',\n",
              " 'sub': '104279029544689913617',\n",
              " 'scope': 'openid https://www.googleapis.com/auth/userinfo.email https://www.googleapis.com/auth/cloud-platform https://www.googleapis.com/auth/drive',\n",
              " 'exp': '1683595654',\n",
              " 'expires_in': '3596',\n",
              " 'email': 'prithwis@praxis.ac.in',\n",
              " 'email_verified': 'true',\n",
              " 'access_type': 'offline'}"
            ]
          },
          "metadata": {},
          "execution_count": 3
        }
      ]
    },
    {
      "cell_type": "code",
      "source": [
        "from datetime import datetime\n",
        "import pytz\n",
        "print('Signed by ', signature, ' at ',datetime.now(pytz.timezone('Asia/Calcutta')))"
      ],
      "metadata": {
        "colab": {
          "base_uri": "https://localhost:8080/"
        },
        "id": "gmy0UygG5I_s",
        "outputId": "d795ae1d-d4b7-424e-ea83-839ec78359cf"
      },
      "execution_count": 4,
      "outputs": [
        {
          "output_type": "stream",
          "name": "stdout",
          "text": [
            "Signed by  prithwis@praxis.ac.in  at  2023-05-09 05:57:37.162634+05:30\n"
          ]
        }
      ]
    }
  ]
}