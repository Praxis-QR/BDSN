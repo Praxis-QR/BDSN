{
  "nbformat": 4,
  "nbformat_minor": 0,
  "metadata": {
    "colab": {
      "provenance": [],
      "toc_visible": true,
      "authorship_tag": "ABX9TyOGB87B6egEZ1NelMcJYLpt",
      "include_colab_link": true
    },
    "kernelspec": {
      "name": "python3",
      "display_name": "Python 3"
    }
  },
  "cells": [
    {
      "cell_type": "markdown",
      "metadata": {
        "id": "view-in-github",
        "colab_type": "text"
      },
      "source": [
        "<a href=\"https://colab.research.google.com/github/Praxis-QR/BDSN/blob/main/BDSN_OLAP_Cubes_with_Spark_SQL.ipynb\" target=\"_parent\"><img src=\"https://colab.research.google.com/assets/colab-badge.svg\" alt=\"Open In Colab\"/></a>"
      ]
    },
    {
      "cell_type": "markdown",
      "metadata": {
        "id": "tfPMLrsUNbGj"
      },
      "source": [
        "![alt text](https://github.com/Praxis-QR/RDWH/raw/main/images/YantraJaalBanner.png)<br>\n",
        "\n",
        "\n",
        "<hr>\n",
        "\n",
        "[Prithwis Mukerjee](http://www.linkedin.com/in/prithwis)<br>"
      ]
    },
    {
      "cell_type": "markdown",
      "metadata": {
        "id": "BboV_Nt1pQuk"
      },
      "source": [
        "OLAP Cubes <br>\n",
        "https://docs.google.com/presentation/d/1rx_ek2E1F5MNberY2bxeRuEfPOeuVM_WcdAKyAbF_EQ/edit?usp=sharing <br>\n",
        "[Bigger Slide Deck](https://docs.google.com/presentation/d/1wQzZoHFo3NVk-dMTebHA4LH7B4KYmOfiSammjsSRGL0/edit?usp=sharing)"
      ]
    },
    {
      "cell_type": "code",
      "source": [
        "from datetime import datetime\n",
        "import pytz\n",
        "print('ॐ श्री सरस्वत्यै नमः',datetime.now(pytz.timezone('Asia/Calcutta')))\n",
        "!python --version\n",
        "!lsb_release -a"
      ],
      "metadata": {
        "colab": {
          "base_uri": "https://localhost:8080/"
        },
        "id": "YuvXhT_1by5n",
        "outputId": "d31c5640-b309-484f-8cb2-c2b6ab2c335f"
      },
      "execution_count": 32,
      "outputs": [
        {
          "output_type": "stream",
          "name": "stdout",
          "text": [
            "ॐ श्री सरस्वत्यै नमः 2023-09-02 11:18:12.278971+05:30\n",
            "Python 3.10.12\n",
            "No LSB modules are available.\n",
            "Distributor ID:\tUbuntu\n",
            "Description:\tUbuntu 22.04.2 LTS\n",
            "Release:\t22.04\n",
            "Codename:\tjammy\n"
          ]
        }
      ]
    },
    {
      "cell_type": "markdown",
      "metadata": {
        "id": "2w5onY7lNhki"
      },
      "source": [
        "#Install Spark"
      ]
    },
    {
      "cell_type": "code",
      "source": [
        "!apt-get update > /dev/null\n",
        "!apt-get install openjdk-8-jdk-headless -qq > /dev/null\n",
        "#!wget -q http://apache.osuosl.org/spark/spark-3.1.1/spark-3.1.1-bin-hadoop3.2.tgz\n",
        "!wget -q http://apache.osuosl.org/spark/spark-3.1.2/spark-3.1.2-bin-hadoop3.2.tgz\n",
        "#\n",
        "# if the current version of Spark is not used, there may be errors\n",
        "# check here for current versions http://apache.osuosl.org/spark\n",
        "#\n",
        "\n",
        "#!tar xf spark-3.1.1-bin-hadoop3.2.tgz\n",
        "!tar xf spark-3.1.2-bin-hadoop3.2.tgz\n",
        "#!pip install -q findspark\n",
        "!pip install -q pyspark\n",
        "# -------------------------------------------------\n",
        "import os\n",
        "os.environ[\"JAVA_HOME\"] = \"/usr/lib/jvm/java-8-openjdk-amd64\"\n",
        "\n",
        "#os.environ[\"SPARK_HOME\"] = \"/content/spark-3.1.1-bin-hadoop3.2\"\n",
        "os.environ[\"SPARK_HOME\"] = \"/content/spark-3.1.2-bin-hadoop3.2\"\n",
        "# ----------------------\n",
        "#import findspark\n",
        "#findspark.init()"
      ],
      "metadata": {
        "id": "LST8rTQyag3R"
      },
      "execution_count": null,
      "outputs": []
    },
    {
      "cell_type": "code",
      "metadata": {
        "id": "hdvOd3XONSn4",
        "colab": {
          "base_uri": "https://localhost:8080/",
          "height": 248
        },
        "outputId": "8f88d816-dfae-4084-e74e-4b5246388781"
      },
      "source": [
        "!pip3 -q install pyspark\n",
        "from pyspark.sql import SparkSession\n",
        "spark = SparkSession.builder.master(\"local[*]\").getOrCreate()\n",
        "sc = spark.sparkContext\n",
        "sc"
      ],
      "execution_count": 1,
      "outputs": [
        {
          "output_type": "stream",
          "name": "stdout",
          "text": [
            "\u001b[2K     \u001b[90m━━━━━━━━━━━━━━━━━━━━━━━━━━━━━━━━━━━━━━━\u001b[0m \u001b[32m310.8/310.8 MB\u001b[0m \u001b[31m4.6 MB/s\u001b[0m eta \u001b[36m0:00:00\u001b[0m\n",
            "\u001b[?25h  Preparing metadata (setup.py) ... \u001b[?25l\u001b[?25hdone\n",
            "  Building wheel for pyspark (setup.py) ... \u001b[?25l\u001b[?25hdone\n"
          ]
        },
        {
          "output_type": "execute_result",
          "data": {
            "text/plain": [
              "<SparkContext master=local[*] appName=pyspark-shell>"
            ],
            "text/html": [
              "\n",
              "        <div>\n",
              "            <p><b>SparkContext</b></p>\n",
              "\n",
              "            <p><a href=\"http://8cce1f297530:4040\">Spark UI</a></p>\n",
              "\n",
              "            <dl>\n",
              "              <dt>Version</dt>\n",
              "                <dd><code>v3.4.1</code></dd>\n",
              "              <dt>Master</dt>\n",
              "                <dd><code>local[*]</code></dd>\n",
              "              <dt>AppName</dt>\n",
              "                <dd><code>pyspark-shell</code></dd>\n",
              "            </dl>\n",
              "        </div>\n",
              "        "
            ]
          },
          "metadata": {},
          "execution_count": 1
        }
      ]
    },
    {
      "cell_type": "markdown",
      "source": [
        "#Car Sales Data ( Small )"
      ],
      "metadata": {
        "id": "qg8L10rKmq7g"
      }
    },
    {
      "cell_type": "markdown",
      "metadata": {
        "id": "e5vEwXqGnvKC"
      },
      "source": [
        "##Load Data"
      ]
    },
    {
      "cell_type": "code",
      "metadata": {
        "id": "_Vyr9I9zhaGk",
        "colab": {
          "base_uri": "https://localhost:8080/"
        },
        "outputId": "dc49e6d6-1250-4301-8f11-d1d28820edcc"
      },
      "source": [
        "# https://drive.google.com/file/d/1JBGx9yMxpHrUO5BUmr12TpDDwLGLmal-/view\n",
        "!gdown \"https://drive.google.com/uc?id=1JBGx9yMxpHrUO5BUmr12TpDDwLGLmal-\""
      ],
      "execution_count": 2,
      "outputs": [
        {
          "output_type": "stream",
          "name": "stdout",
          "text": [
            "Downloading...\n",
            "From: https://drive.google.com/uc?id=1JBGx9yMxpHrUO5BUmr12TpDDwLGLmal-\n",
            "To: /content/carsales2-noHeader.txt\n",
            "\r  0% 0.00/576 [00:00<?, ?B/s]\r100% 576/576 [00:00<00:00, 1.89MB/s]\n"
          ]
        }
      ]
    },
    {
      "cell_type": "markdown",
      "metadata": {
        "id": "GXRfDX4EnxXr"
      },
      "source": [
        "##Process"
      ]
    },
    {
      "cell_type": "code",
      "metadata": {
        "id": "cYChP2CKzyES",
        "colab": {
          "base_uri": "https://localhost:8080/"
        },
        "outputId": "3b1b3f49-e8ca-46c5-f7c3-c9876d860ea9"
      },
      "source": [
        "!cat carsales2-noHeader.txt"
      ],
      "execution_count": 3,
      "outputs": [
        {
          "output_type": "stream",
          "name": "stdout",
          "text": [
            "Honda,SUV,Red,31\r\n",
            "Honda,SUV,Blue,46\r\n",
            "Honda,SUV,Green,48\r\n",
            "Honda,Sedan,Red,25\r\n",
            "Honda,Sedan,Blue,41\r\n",
            "Honda,Sedan,Green,34\r\n",
            "Honda,Compact,Red,48\r\n",
            "Honda,Compact,Blue,26\r\n",
            "Honda,Compact,Green,32\r\n",
            "Toyota,SUV,Red,39\r\n",
            "Toyota,SUV,Blue,45\r\n",
            "Toyota,SUV,Green,50\r\n",
            "Toyota,Sedan,Red,41\r\n",
            "Toyota,Sedan,Blue,28\r\n",
            "Toyota,Sedan,Green,21\r\n",
            "Toyota,Compact,Red,44\r\n",
            "Toyota,Compact,Blue,50\r\n",
            "Toyota,Compact,Green,26\r\n",
            "Mazda,SUV,Red,29\r\n",
            "Mazda,SUV,Blue,28\r\n",
            "Mazda,SUV,Green,40\r\n",
            "Mazda,Sedan,Red,36\r\n",
            "Mazda,Sedan,Blue,48\r\n",
            "Mazda,Sedan,Green,49\r\n",
            "Mazda,Compact,Red,49\r\n",
            "Mazda,Compact,Blue,37\r\n",
            "Mazda,Compact,Green,50\r\n"
          ]
        }
      ]
    },
    {
      "cell_type": "code",
      "metadata": {
        "id": "22OBGQqNckJm"
      },
      "source": [
        "data_file = \"./carsales2-noHeader.txt\"\n",
        "# data imported without headers\n",
        "raw_data = sc.textFile(data_file).cache()"
      ],
      "execution_count": 4,
      "outputs": []
    },
    {
      "cell_type": "code",
      "metadata": {
        "id": "gNblVnJidDyL"
      },
      "source": [
        "#from pyspark.sql import SQLContext\n",
        "#sqlContext = SQLContext(sc)"
      ],
      "execution_count": null,
      "outputs": []
    },
    {
      "cell_type": "code",
      "metadata": {
        "id": "WlzdKF3VdLFu"
      },
      "source": [
        "from pyspark.sql import Row\n",
        "csv_data = raw_data.map(lambda l: l.split(\",\"))\n",
        "row_data = csv_data.map(lambda p: Row(\n",
        "    Make = p[0],                            #  names of columns\n",
        "    Style = p[1],\n",
        "    Colour = p[2],\n",
        "    Sales = int(p[3])\n",
        "  ))"
      ],
      "execution_count": 5,
      "outputs": []
    },
    {
      "cell_type": "markdown",
      "metadata": {
        "id": "_0H_SqBs599S"
      },
      "source": [
        "##Inner SQL Temp Table / First Dataframe"
      ]
    },
    {
      "cell_type": "code",
      "metadata": {
        "id": "pt8XjUZCdUiK"
      },
      "source": [
        "#CarSales_df = sqlContext.createDataFrame(row_data)\n",
        "#CarSales_df.registerTempTable(\"CarSales2\")\n",
        "CarSales_df = spark.createDataFrame(row_data)\n",
        "CarSales_df.createOrReplaceTempView(\"CarSales2\")\n"
      ],
      "execution_count": 6,
      "outputs": []
    },
    {
      "cell_type": "code",
      "metadata": {
        "id": "vbvRxrPr0C0w",
        "colab": {
          "base_uri": "https://localhost:8080/"
        },
        "outputId": "56433fb7-83d8-42fc-cb5d-ed154a4330d4"
      },
      "source": [
        "CarSales_df.show()"
      ],
      "execution_count": 7,
      "outputs": [
        {
          "output_type": "stream",
          "name": "stdout",
          "text": [
            "+------+-------+------+-----+\n",
            "|  Make|  Style|Colour|Sales|\n",
            "+------+-------+------+-----+\n",
            "| Honda|    SUV|   Red|   31|\n",
            "| Honda|    SUV|  Blue|   46|\n",
            "| Honda|    SUV| Green|   48|\n",
            "| Honda|  Sedan|   Red|   25|\n",
            "| Honda|  Sedan|  Blue|   41|\n",
            "| Honda|  Sedan| Green|   34|\n",
            "| Honda|Compact|   Red|   48|\n",
            "| Honda|Compact|  Blue|   26|\n",
            "| Honda|Compact| Green|   32|\n",
            "|Toyota|    SUV|   Red|   39|\n",
            "|Toyota|    SUV|  Blue|   45|\n",
            "|Toyota|    SUV| Green|   50|\n",
            "|Toyota|  Sedan|   Red|   41|\n",
            "|Toyota|  Sedan|  Blue|   28|\n",
            "|Toyota|  Sedan| Green|   21|\n",
            "|Toyota|Compact|   Red|   44|\n",
            "|Toyota|Compact|  Blue|   50|\n",
            "|Toyota|Compact| Green|   26|\n",
            "| Mazda|    SUV|   Red|   29|\n",
            "| Mazda|    SUV|  Blue|   28|\n",
            "+------+-------+------+-----+\n",
            "only showing top 20 rows\n",
            "\n"
          ]
        }
      ]
    },
    {
      "cell_type": "code",
      "metadata": {
        "colab": {
          "base_uri": "https://localhost:8080/"
        },
        "id": "zl7zr4XembXE",
        "outputId": "d133992b-7a1c-4b94-a71e-d66570e29e6b"
      },
      "source": [
        "#sqlContext.sql(\"SELECT * FROM CarSales2\").show()\n",
        "spark.sql(\"SELECT * FROM CarSales2\").show()"
      ],
      "execution_count": 8,
      "outputs": [
        {
          "output_type": "stream",
          "name": "stdout",
          "text": [
            "+------+-------+------+-----+\n",
            "|  Make|  Style|Colour|Sales|\n",
            "+------+-------+------+-----+\n",
            "| Honda|    SUV|   Red|   31|\n",
            "| Honda|    SUV|  Blue|   46|\n",
            "| Honda|    SUV| Green|   48|\n",
            "| Honda|  Sedan|   Red|   25|\n",
            "| Honda|  Sedan|  Blue|   41|\n",
            "| Honda|  Sedan| Green|   34|\n",
            "| Honda|Compact|   Red|   48|\n",
            "| Honda|Compact|  Blue|   26|\n",
            "| Honda|Compact| Green|   32|\n",
            "|Toyota|    SUV|   Red|   39|\n",
            "|Toyota|    SUV|  Blue|   45|\n",
            "|Toyota|    SUV| Green|   50|\n",
            "|Toyota|  Sedan|   Red|   41|\n",
            "|Toyota|  Sedan|  Blue|   28|\n",
            "|Toyota|  Sedan| Green|   21|\n",
            "|Toyota|Compact|   Red|   44|\n",
            "|Toyota|Compact|  Blue|   50|\n",
            "|Toyota|Compact| Green|   26|\n",
            "| Mazda|    SUV|   Red|   29|\n",
            "| Mazda|    SUV|  Blue|   28|\n",
            "+------+-------+------+-----+\n",
            "only showing top 20 rows\n",
            "\n"
          ]
        }
      ]
    },
    {
      "cell_type": "code",
      "metadata": {
        "id": "wqA9gBrKdaBZ",
        "colab": {
          "base_uri": "https://localhost:8080/"
        },
        "outputId": "8687472c-9100-4cc9-a285-e4f444e0eb91"
      },
      "source": [
        "#sums_df = sqlContext.sql(\"\"\"\n",
        "sums_df = spark.sql(\"\"\"\n",
        "  SELECT\n",
        "    Make,\n",
        "    SUM(IF(Style='SUV',Sales,0)) SUV,\n",
        "    SUM(IF(Style='Sedan',Sales,0)) Sedan,\n",
        "    SUM(IF(Style='Compact',Sales,0)) Compact\n",
        "  FROM CarSales2\n",
        "  GROUP BY Make WITH ROLLUP\n",
        "\"\"\")\n",
        "sums_df.show()"
      ],
      "execution_count": 9,
      "outputs": [
        {
          "output_type": "stream",
          "name": "stdout",
          "text": [
            "+------+---+-----+-------+\n",
            "|  Make|SUV|Sedan|Compact|\n",
            "+------+---+-----+-------+\n",
            "|  null|356|  323|    362|\n",
            "|Toyota|134|   90|    120|\n",
            "| Honda|125|  100|    106|\n",
            "| Mazda| 97|  133|    136|\n",
            "+------+---+-----+-------+\n",
            "\n"
          ]
        }
      ]
    },
    {
      "cell_type": "markdown",
      "metadata": {
        "id": "2ObbL71U6KM6"
      },
      "source": [
        "##Outer SQL"
      ]
    },
    {
      "cell_type": "code",
      "metadata": {
        "id": "V654s8q3dr5x",
        "colab": {
          "base_uri": "https://localhost:8080/"
        },
        "outputId": "7d90169b-edfa-4f62-c899-e573fea19db9"
      },
      "source": [
        "#sums_df.registerTempTable(\"sums\")\n",
        "sums_df.createOrReplaceTempView(\"sums\")\n",
        "#CrossTab = sqlContext.sql(\"\"\"\n",
        "CrossTab = spark.sql(\"\"\"\n",
        " SELECT\n",
        "  IFNULL(Make,'#Totals') AS Dims,\n",
        "  SUV, Sedan, Compact,\n",
        "  SUV + Sedan + Compact AS Totals\n",
        " from sums\n",
        " order by Dims desc\n",
        "\"\"\")\n",
        "CrossTab.show()"
      ],
      "execution_count": 10,
      "outputs": [
        {
          "output_type": "stream",
          "name": "stdout",
          "text": [
            "+-------+---+-----+-------+------+\n",
            "|   Dims|SUV|Sedan|Compact|Totals|\n",
            "+-------+---+-----+-------+------+\n",
            "| Toyota|134|   90|    120|   344|\n",
            "|  Mazda| 97|  133|    136|   366|\n",
            "|  Honda|125|  100|    106|   331|\n",
            "|#Totals|356|  323|    362|  1041|\n",
            "+-------+---+-----+-------+------+\n",
            "\n"
          ]
        }
      ]
    },
    {
      "cell_type": "markdown",
      "source": [
        "#Super Store Data ( Large)"
      ],
      "metadata": {
        "id": "hVHk7m4jRl7z"
      }
    },
    {
      "cell_type": "markdown",
      "source": [
        "##Load Data\n",
        "Super Store Order Data https://drive.google.com/file/d/13MKOpo8iD-tMkeMLw-4IPFi5-xWhmqFZ/view?usp=sharing <br>\n",
        "Original Data from [Tableau](https://community.tableau.com/docs/DOC-1236)"
      ],
      "metadata": {
        "id": "rBMpKDNWRpNA"
      }
    },
    {
      "cell_type": "code",
      "source": [
        "!wget -O SS_Orders2.csv 'https://drive.google.com/uc?export=download&id=13MKOpo8iD-tMkeMLw-4IPFi5-xWhmqFZ'"
      ],
      "metadata": {
        "colab": {
          "base_uri": "https://localhost:8080/"
        },
        "id": "f4qMutRTRrn7",
        "outputId": "458adbd2-1266-4770-ae99-c35cd3b6d891"
      },
      "execution_count": 11,
      "outputs": [
        {
          "output_type": "stream",
          "name": "stdout",
          "text": [
            "--2023-09-02 05:45:44--  https://drive.google.com/uc?export=download&id=13MKOpo8iD-tMkeMLw-4IPFi5-xWhmqFZ\n",
            "Resolving drive.google.com (drive.google.com)... 173.194.212.139, 173.194.212.101, 173.194.212.138, ...\n",
            "Connecting to drive.google.com (drive.google.com)|173.194.212.139|:443... connected.\n",
            "HTTP request sent, awaiting response... 303 See Other\n",
            "Location: https://doc-14-5g-docs.googleusercontent.com/docs/securesc/ha0ro937gcuc7l7deffksulhg5h7mbp1/fq4i8g16hnl1qo819p8t8dlhdop6ugak/1693633500000/15264228191300097767/*/13MKOpo8iD-tMkeMLw-4IPFi5-xWhmqFZ?e=download&uuid=5f34ced3-7e88-4e86-bbfa-c6282727ef16 [following]\n",
            "Warning: wildcards not supported in HTTP.\n",
            "--2023-09-02 05:45:45--  https://doc-14-5g-docs.googleusercontent.com/docs/securesc/ha0ro937gcuc7l7deffksulhg5h7mbp1/fq4i8g16hnl1qo819p8t8dlhdop6ugak/1693633500000/15264228191300097767/*/13MKOpo8iD-tMkeMLw-4IPFi5-xWhmqFZ?e=download&uuid=5f34ced3-7e88-4e86-bbfa-c6282727ef16\n",
            "Resolving doc-14-5g-docs.googleusercontent.com (doc-14-5g-docs.googleusercontent.com)... 173.194.212.132, 2607:f8b0:400c:c11::84\n",
            "Connecting to doc-14-5g-docs.googleusercontent.com (doc-14-5g-docs.googleusercontent.com)|173.194.212.132|:443... connected.\n",
            "HTTP request sent, awaiting response... 200 OK\n",
            "Length: 2302058 (2.2M) [text/csv]\n",
            "Saving to: ‘SS_Orders2.csv’\n",
            "\n",
            "SS_Orders2.csv      100%[===================>]   2.20M  --.-KB/s    in 0.01s   \n",
            "\n",
            "2023-09-02 05:45:45 (169 MB/s) - ‘SS_Orders2.csv’ saved [2302058/2302058]\n",
            "\n"
          ]
        }
      ]
    },
    {
      "cell_type": "code",
      "source": [
        "!head SS_Orders2.csv"
      ],
      "metadata": {
        "colab": {
          "base_uri": "https://localhost:8080/"
        },
        "id": "fl2wSABMR4nc",
        "outputId": "a85de592-75ec-4104-8119-a2c313087244"
      },
      "execution_count": 12,
      "outputs": [
        {
          "output_type": "stream",
          "name": "stdout",
          "text": [
            "Row ID,Order ID,Order Date,Ship Date,Ship Mode,Customer ID,Customer Name,Segment,Country,City,State,Postal Code,Region,Product ID,Category,Sub-Category,Product Name,Sales,Quantity,Discount,Profit\n",
            "1,CA-2016-152156,08/11/2016,11/11/2016,Second Class,CG-12520,Claire Gute,Consumer,United States,Henderson,Kentucky,42420,South,FUR-BO-10001798,Furniture,Bookcases,Bush Somerset Collection Bookcase,261.96,2,0,41.9136\n",
            "2,CA-2016-152156,08/11/2016,11/11/2016,Second Class,CG-12520,Claire Gute,Consumer,United States,Henderson,Kentucky,42420,South,FUR-CH-10000454,Furniture,Chairs,\"Hon Deluxe Fabric Upholstered Stacking Chairs, Rounded Back\",731.94,3,0,219.582\n",
            "3,CA-2016-138688,12/06/2016,16/06/2016,Second Class,DV-13045,Darrin Van Huff,Corporate,United States,Los Angeles,California,90036,West,OFF-LA-10000240,Office Supplies,Labels,Self-Adhesive Address Labels for Typewriters by Universal,14.62,2,0,6.8714\n",
            "4,US-2015-108966,11/10/2015,18/10/2015,Standard Class,SO-20335,Sean O'Donnell,Consumer,United States,Fort Lauderdale,Florida,33311,South,FUR-TA-10000577,Furniture,Tables,Bretford CR4500 Series Slim Rectangular Table,957.5775,5,0.45,-383.031\n",
            "5,US-2015-108966,11/10/2015,18/10/2015,Standard Class,SO-20335,Sean O'Donnell,Consumer,United States,Fort Lauderdale,Florida,33311,South,OFF-ST-10000760,Office Supplies,Storage,Eldon Fold 'N Roll Cart System,22.368,2,0.2,2.5164\n",
            "6,CA-2014-115812,09/06/2014,14/06/2014,Standard Class,BH-11710,Brosina Hoffman,Consumer,United States,Los Angeles,California,90032,West,FUR-FU-10001487,Furniture,Furnishings,\"Eldon Expressions Wood and Plastic Desk Accessories, Cherry Wood\",48.86,7,0,14.1694\n",
            "7,CA-2014-115812,09/06/2014,14/06/2014,Standard Class,BH-11710,Brosina Hoffman,Consumer,United States,Los Angeles,California,90032,West,OFF-AR-10002833,Office Supplies,Art,Newell 322,7.28,4,0,1.9656\n",
            "8,CA-2014-115812,09/06/2014,14/06/2014,Standard Class,BH-11710,Brosina Hoffman,Consumer,United States,Los Angeles,California,90032,West,TEC-PH-10002275,Technology,Phones,Mitel 5320 IP Phone VoIP phone,907.152,6,0.2,90.7152\n",
            "9,CA-2014-115812,09/06/2014,14/06/2014,Standard Class,BH-11710,Brosina Hoffman,Consumer,United States,Los Angeles,California,90032,West,OFF-BI-10003910,Office Supplies,Binders,DXL Angle-View Binders with Locking Rings by Samsill,18.504,3,0.2,5.7825\n"
          ]
        }
      ]
    },
    {
      "cell_type": "markdown",
      "source": [
        "##Clean Up"
      ],
      "metadata": {
        "id": "7SKIZ0FlV664"
      }
    },
    {
      "cell_type": "code",
      "source": [
        "data_file = 'SS_Orders2.csv'\n",
        "raw_data = sc.textFile(data_file)\n",
        "print (\"Data Size\", raw_data.count())\n",
        "#eCommerce_df = spark.read.csv(data_file,inferSchema=True, header=True)\n",
        "Orders_df = spark.read.csv(data_file,inferSchema=True, header=True)"
      ],
      "metadata": {
        "colab": {
          "base_uri": "https://localhost:8080/"
        },
        "id": "-nxGQeJhTAZt",
        "outputId": "ddf97bae-01a9-4f8d-d8d5-c5ab249922b2"
      },
      "execution_count": 13,
      "outputs": [
        {
          "output_type": "stream",
          "name": "stdout",
          "text": [
            "Data Size 9995\n"
          ]
        }
      ]
    },
    {
      "cell_type": "code",
      "source": [
        "#Orders2_df = spark.read.csv(data_file,inferSchema=True, header=True)"
      ],
      "metadata": {
        "id": "BgIjZiXIYfGQ"
      },
      "execution_count": null,
      "outputs": []
    },
    {
      "cell_type": "code",
      "source": [
        "#eCommerce_df.printSchema()\n",
        "Orders_df.printSchema()\n",
        "# NOTE that everything is read as string ... this will not do!"
      ],
      "metadata": {
        "colab": {
          "base_uri": "https://localhost:8080/"
        },
        "id": "ND6ukqzATVg6",
        "outputId": "b01f131e-7aa1-4140-dd34-8624c2070dfe"
      },
      "execution_count": 14,
      "outputs": [
        {
          "output_type": "stream",
          "name": "stdout",
          "text": [
            "root\n",
            " |-- Row ID: integer (nullable = true)\n",
            " |-- Order ID: string (nullable = true)\n",
            " |-- Order Date: string (nullable = true)\n",
            " |-- Ship Date: string (nullable = true)\n",
            " |-- Ship Mode: string (nullable = true)\n",
            " |-- Customer ID: string (nullable = true)\n",
            " |-- Customer Name: string (nullable = true)\n",
            " |-- Segment: string (nullable = true)\n",
            " |-- Country: string (nullable = true)\n",
            " |-- City: string (nullable = true)\n",
            " |-- State: string (nullable = true)\n",
            " |-- Postal Code: integer (nullable = true)\n",
            " |-- Region: string (nullable = true)\n",
            " |-- Product ID: string (nullable = true)\n",
            " |-- Category: string (nullable = true)\n",
            " |-- Sub-Category: string (nullable = true)\n",
            " |-- Product Name: string (nullable = true)\n",
            " |-- Sales: string (nullable = true)\n",
            " |-- Quantity: string (nullable = true)\n",
            " |-- Discount: string (nullable = true)\n",
            " |-- Profit: double (nullable = true)\n",
            "\n"
          ]
        }
      ]
    },
    {
      "cell_type": "code",
      "source": [
        "!head SS_Orders2.csv"
      ],
      "metadata": {
        "colab": {
          "base_uri": "https://localhost:8080/"
        },
        "id": "aH3-LolwWDZb",
        "outputId": "70c23e79-a655-4557-94f8-f42e9768e4b0"
      },
      "execution_count": 15,
      "outputs": [
        {
          "output_type": "stream",
          "name": "stdout",
          "text": [
            "Row ID,Order ID,Order Date,Ship Date,Ship Mode,Customer ID,Customer Name,Segment,Country,City,State,Postal Code,Region,Product ID,Category,Sub-Category,Product Name,Sales,Quantity,Discount,Profit\n",
            "1,CA-2016-152156,08/11/2016,11/11/2016,Second Class,CG-12520,Claire Gute,Consumer,United States,Henderson,Kentucky,42420,South,FUR-BO-10001798,Furniture,Bookcases,Bush Somerset Collection Bookcase,261.96,2,0,41.9136\n",
            "2,CA-2016-152156,08/11/2016,11/11/2016,Second Class,CG-12520,Claire Gute,Consumer,United States,Henderson,Kentucky,42420,South,FUR-CH-10000454,Furniture,Chairs,\"Hon Deluxe Fabric Upholstered Stacking Chairs, Rounded Back\",731.94,3,0,219.582\n",
            "3,CA-2016-138688,12/06/2016,16/06/2016,Second Class,DV-13045,Darrin Van Huff,Corporate,United States,Los Angeles,California,90036,West,OFF-LA-10000240,Office Supplies,Labels,Self-Adhesive Address Labels for Typewriters by Universal,14.62,2,0,6.8714\n",
            "4,US-2015-108966,11/10/2015,18/10/2015,Standard Class,SO-20335,Sean O'Donnell,Consumer,United States,Fort Lauderdale,Florida,33311,South,FUR-TA-10000577,Furniture,Tables,Bretford CR4500 Series Slim Rectangular Table,957.5775,5,0.45,-383.031\n",
            "5,US-2015-108966,11/10/2015,18/10/2015,Standard Class,SO-20335,Sean O'Donnell,Consumer,United States,Fort Lauderdale,Florida,33311,South,OFF-ST-10000760,Office Supplies,Storage,Eldon Fold 'N Roll Cart System,22.368,2,0.2,2.5164\n",
            "6,CA-2014-115812,09/06/2014,14/06/2014,Standard Class,BH-11710,Brosina Hoffman,Consumer,United States,Los Angeles,California,90032,West,FUR-FU-10001487,Furniture,Furnishings,\"Eldon Expressions Wood and Plastic Desk Accessories, Cherry Wood\",48.86,7,0,14.1694\n",
            "7,CA-2014-115812,09/06/2014,14/06/2014,Standard Class,BH-11710,Brosina Hoffman,Consumer,United States,Los Angeles,California,90032,West,OFF-AR-10002833,Office Supplies,Art,Newell 322,7.28,4,0,1.9656\n",
            "8,CA-2014-115812,09/06/2014,14/06/2014,Standard Class,BH-11710,Brosina Hoffman,Consumer,United States,Los Angeles,California,90032,West,TEC-PH-10002275,Technology,Phones,Mitel 5320 IP Phone VoIP phone,907.152,6,0.2,90.7152\n",
            "9,CA-2014-115812,09/06/2014,14/06/2014,Standard Class,BH-11710,Brosina Hoffman,Consumer,United States,Los Angeles,California,90032,West,OFF-BI-10003910,Office Supplies,Binders,DXL Angle-View Binders with Locking Rings by Samsill,18.504,3,0.2,5.7825\n"
          ]
        }
      ]
    },
    {
      "cell_type": "code",
      "source": [
        "#we remove the CRLF character from the end of the row if it exists\n",
        "!sed 's/\\r//g' /content/SS_Orders2.csv > datafile.csv\n",
        "# remove the first line containing headers from the file\n",
        "#!sed -i -e \"1d\" datafile.csv\n",
        "!head datafile.csv"
      ],
      "metadata": {
        "colab": {
          "base_uri": "https://localhost:8080/"
        },
        "id": "PBKoVAnsWjup",
        "outputId": "d72b10a2-533c-42e6-fc16-73747293e5b4"
      },
      "execution_count": 16,
      "outputs": [
        {
          "output_type": "stream",
          "name": "stdout",
          "text": [
            "Row ID,Order ID,Order Date,Ship Date,Ship Mode,Customer ID,Customer Name,Segment,Country,City,State,Postal Code,Region,Product ID,Category,Sub-Category,Product Name,Sales,Quantity,Discount,Profit\n",
            "1,CA-2016-152156,08/11/2016,11/11/2016,Second Class,CG-12520,Claire Gute,Consumer,United States,Henderson,Kentucky,42420,South,FUR-BO-10001798,Furniture,Bookcases,Bush Somerset Collection Bookcase,261.96,2,0,41.9136\n",
            "2,CA-2016-152156,08/11/2016,11/11/2016,Second Class,CG-12520,Claire Gute,Consumer,United States,Henderson,Kentucky,42420,South,FUR-CH-10000454,Furniture,Chairs,\"Hon Deluxe Fabric Upholstered Stacking Chairs, Rounded Back\",731.94,3,0,219.582\n",
            "3,CA-2016-138688,12/06/2016,16/06/2016,Second Class,DV-13045,Darrin Van Huff,Corporate,United States,Los Angeles,California,90036,West,OFF-LA-10000240,Office Supplies,Labels,Self-Adhesive Address Labels for Typewriters by Universal,14.62,2,0,6.8714\n",
            "4,US-2015-108966,11/10/2015,18/10/2015,Standard Class,SO-20335,Sean O'Donnell,Consumer,United States,Fort Lauderdale,Florida,33311,South,FUR-TA-10000577,Furniture,Tables,Bretford CR4500 Series Slim Rectangular Table,957.5775,5,0.45,-383.031\n",
            "5,US-2015-108966,11/10/2015,18/10/2015,Standard Class,SO-20335,Sean O'Donnell,Consumer,United States,Fort Lauderdale,Florida,33311,South,OFF-ST-10000760,Office Supplies,Storage,Eldon Fold 'N Roll Cart System,22.368,2,0.2,2.5164\n",
            "6,CA-2014-115812,09/06/2014,14/06/2014,Standard Class,BH-11710,Brosina Hoffman,Consumer,United States,Los Angeles,California,90032,West,FUR-FU-10001487,Furniture,Furnishings,\"Eldon Expressions Wood and Plastic Desk Accessories, Cherry Wood\",48.86,7,0,14.1694\n",
            "7,CA-2014-115812,09/06/2014,14/06/2014,Standard Class,BH-11710,Brosina Hoffman,Consumer,United States,Los Angeles,California,90032,West,OFF-AR-10002833,Office Supplies,Art,Newell 322,7.28,4,0,1.9656\n",
            "8,CA-2014-115812,09/06/2014,14/06/2014,Standard Class,BH-11710,Brosina Hoffman,Consumer,United States,Los Angeles,California,90032,West,TEC-PH-10002275,Technology,Phones,Mitel 5320 IP Phone VoIP phone,907.152,6,0.2,90.7152\n",
            "9,CA-2014-115812,09/06/2014,14/06/2014,Standard Class,BH-11710,Brosina Hoffman,Consumer,United States,Los Angeles,California,90032,West,OFF-BI-10003910,Office Supplies,Binders,DXL Angle-View Binders with Locking Rings by Samsill,18.504,3,0.2,5.7825\n"
          ]
        }
      ]
    },
    {
      "cell_type": "code",
      "source": [
        "# remove , and \" from data\n",
        "import pandas as pd\n",
        "p_df = pd.read_csv('datafile.csv')\n",
        "#p_df = pd.read_csv('datafile.csv')\n",
        "p_df2 = p_df.replace(',', ' ', regex=True)\n",
        "p_df3 = p_df2.replace('\"', '', regex=True)\n",
        "p_df3.to_csv('datafile2.csv',index=False,sep=',')\n",
        "!head datafile2.csv"
      ],
      "metadata": {
        "colab": {
          "base_uri": "https://localhost:8080/"
        },
        "id": "8uq15EkDW7vu",
        "outputId": "9f22b67d-0d3d-4d94-8eb4-c9e1a65a9bef"
      },
      "execution_count": 17,
      "outputs": [
        {
          "output_type": "stream",
          "name": "stdout",
          "text": [
            "Row ID,Order ID,Order Date,Ship Date,Ship Mode,Customer ID,Customer Name,Segment,Country,City,State,Postal Code,Region,Product ID,Category,Sub-Category,Product Name,Sales,Quantity,Discount,Profit\n",
            "1,CA-2016-152156,08/11/2016,11/11/2016,Second Class,CG-12520,Claire Gute,Consumer,United States,Henderson,Kentucky,42420,South,FUR-BO-10001798,Furniture,Bookcases,Bush Somerset Collection Bookcase,261.96,2,0.0,41.9136\n",
            "2,CA-2016-152156,08/11/2016,11/11/2016,Second Class,CG-12520,Claire Gute,Consumer,United States,Henderson,Kentucky,42420,South,FUR-CH-10000454,Furniture,Chairs,Hon Deluxe Fabric Upholstered Stacking Chairs  Rounded Back,731.94,3,0.0,219.582\n",
            "3,CA-2016-138688,12/06/2016,16/06/2016,Second Class,DV-13045,Darrin Van Huff,Corporate,United States,Los Angeles,California,90036,West,OFF-LA-10000240,Office Supplies,Labels,Self-Adhesive Address Labels for Typewriters by Universal,14.62,2,0.0,6.8714\n",
            "4,US-2015-108966,11/10/2015,18/10/2015,Standard Class,SO-20335,Sean O'Donnell,Consumer,United States,Fort Lauderdale,Florida,33311,South,FUR-TA-10000577,Furniture,Tables,Bretford CR4500 Series Slim Rectangular Table,957.5775,5,0.45,-383.031\n",
            "5,US-2015-108966,11/10/2015,18/10/2015,Standard Class,SO-20335,Sean O'Donnell,Consumer,United States,Fort Lauderdale,Florida,33311,South,OFF-ST-10000760,Office Supplies,Storage,Eldon Fold 'N Roll Cart System,22.368,2,0.2,2.5164\n",
            "6,CA-2014-115812,09/06/2014,14/06/2014,Standard Class,BH-11710,Brosina Hoffman,Consumer,United States,Los Angeles,California,90032,West,FUR-FU-10001487,Furniture,Furnishings,Eldon Expressions Wood and Plastic Desk Accessories  Cherry Wood,48.86,7,0.0,14.1694\n",
            "7,CA-2014-115812,09/06/2014,14/06/2014,Standard Class,BH-11710,Brosina Hoffman,Consumer,United States,Los Angeles,California,90032,West,OFF-AR-10002833,Office Supplies,Art,Newell 322,7.28,4,0.0,1.9656\n",
            "8,CA-2014-115812,09/06/2014,14/06/2014,Standard Class,BH-11710,Brosina Hoffman,Consumer,United States,Los Angeles,California,90032,West,TEC-PH-10002275,Technology,Phones,Mitel 5320 IP Phone VoIP phone,907.152,6,0.2,90.7152\n",
            "9,CA-2014-115812,09/06/2014,14/06/2014,Standard Class,BH-11710,Brosina Hoffman,Consumer,United States,Los Angeles,California,90032,West,OFF-BI-10003910,Office Supplies,Binders,DXL Angle-View Binders with Locking Rings by Samsill,18.504,3,0.2,5.7825\n"
          ]
        }
      ]
    },
    {
      "cell_type": "code",
      "source": [
        "data_file = 'datafile2.csv'\n",
        "Orders2_df = spark.read.csv(data_file,inferSchema=True, header=True)"
      ],
      "metadata": {
        "id": "rgKvVtgcYho2"
      },
      "execution_count": 18,
      "outputs": []
    },
    {
      "cell_type": "code",
      "source": [
        "Orders2_df.printSchema()\n",
        "# NOTE ... Sales, Quantity, Discount, Profit are now numeric"
      ],
      "metadata": {
        "colab": {
          "base_uri": "https://localhost:8080/"
        },
        "id": "0kk6vf35ZCz9",
        "outputId": "24824631-42c6-47c5-da71-e9c162105cbf"
      },
      "execution_count": 19,
      "outputs": [
        {
          "output_type": "stream",
          "name": "stdout",
          "text": [
            "root\n",
            " |-- Row ID: integer (nullable = true)\n",
            " |-- Order ID: string (nullable = true)\n",
            " |-- Order Date: string (nullable = true)\n",
            " |-- Ship Date: string (nullable = true)\n",
            " |-- Ship Mode: string (nullable = true)\n",
            " |-- Customer ID: string (nullable = true)\n",
            " |-- Customer Name: string (nullable = true)\n",
            " |-- Segment: string (nullable = true)\n",
            " |-- Country: string (nullable = true)\n",
            " |-- City: string (nullable = true)\n",
            " |-- State: string (nullable = true)\n",
            " |-- Postal Code: integer (nullable = true)\n",
            " |-- Region: string (nullable = true)\n",
            " |-- Product ID: string (nullable = true)\n",
            " |-- Category: string (nullable = true)\n",
            " |-- Sub-Category: string (nullable = true)\n",
            " |-- Product Name: string (nullable = true)\n",
            " |-- Sales: double (nullable = true)\n",
            " |-- Quantity: integer (nullable = true)\n",
            " |-- Discount: double (nullable = true)\n",
            " |-- Profit: double (nullable = true)\n",
            "\n"
          ]
        }
      ]
    },
    {
      "cell_type": "code",
      "source": [
        "#Now convert dataframe into table called Orders\n",
        "Orders2_df.createOrReplaceTempView(\"Orders\")"
      ],
      "metadata": {
        "id": "zKWzcYRiZd7N"
      },
      "execution_count": 20,
      "outputs": []
    },
    {
      "cell_type": "code",
      "source": [
        "Orders = spark.sql(\"SELECT * FROM Orders limit 20\")\n",
        "Orders.show()"
      ],
      "metadata": {
        "colab": {
          "base_uri": "https://localhost:8080/"
        },
        "id": "wl9P2j9FZkwV",
        "outputId": "1f053c82-cc6f-4c20-9623-7dce0234890b"
      },
      "execution_count": 21,
      "outputs": [
        {
          "output_type": "stream",
          "name": "stdout",
          "text": [
            "+------+--------------+----------+----------+--------------+-----------+------------------+-----------+-------------+---------------+--------------+-----------+-------+---------------+---------------+------------+--------------------+--------+--------+--------+----------------+\n",
            "|Row ID|      Order ID|Order Date| Ship Date|     Ship Mode|Customer ID|     Customer Name|    Segment|      Country|           City|         State|Postal Code| Region|     Product ID|       Category|Sub-Category|        Product Name|   Sales|Quantity|Discount|          Profit|\n",
            "+------+--------------+----------+----------+--------------+-----------+------------------+-----------+-------------+---------------+--------------+-----------+-------+---------------+---------------+------------+--------------------+--------+--------+--------+----------------+\n",
            "|     1|CA-2016-152156|08/11/2016|11/11/2016|  Second Class|   CG-12520|       Claire Gute|   Consumer|United States|      Henderson|      Kentucky|      42420|  South|FUR-BO-10001798|      Furniture|   Bookcases|Bush Somerset Col...|  261.96|       2|     0.0|         41.9136|\n",
            "|     2|CA-2016-152156|08/11/2016|11/11/2016|  Second Class|   CG-12520|       Claire Gute|   Consumer|United States|      Henderson|      Kentucky|      42420|  South|FUR-CH-10000454|      Furniture|      Chairs|Hon Deluxe Fabric...|  731.94|       3|     0.0|         219.582|\n",
            "|     3|CA-2016-138688|12/06/2016|16/06/2016|  Second Class|   DV-13045|   Darrin Van Huff|  Corporate|United States|    Los Angeles|    California|      90036|   West|OFF-LA-10000240|Office Supplies|      Labels|Self-Adhesive Add...|   14.62|       2|     0.0|          6.8714|\n",
            "|     4|US-2015-108966|11/10/2015|18/10/2015|Standard Class|   SO-20335|    Sean O'Donnell|   Consumer|United States|Fort Lauderdale|       Florida|      33311|  South|FUR-TA-10000577|      Furniture|      Tables|Bretford CR4500 S...|957.5775|       5|    0.45|        -383.031|\n",
            "|     5|US-2015-108966|11/10/2015|18/10/2015|Standard Class|   SO-20335|    Sean O'Donnell|   Consumer|United States|Fort Lauderdale|       Florida|      33311|  South|OFF-ST-10000760|Office Supplies|     Storage|Eldon Fold 'N Rol...|  22.368|       2|     0.2|          2.5164|\n",
            "|     6|CA-2014-115812|09/06/2014|14/06/2014|Standard Class|   BH-11710|   Brosina Hoffman|   Consumer|United States|    Los Angeles|    California|      90032|   West|FUR-FU-10001487|      Furniture| Furnishings|Eldon Expressions...|   48.86|       7|     0.0|         14.1694|\n",
            "|     7|CA-2014-115812|09/06/2014|14/06/2014|Standard Class|   BH-11710|   Brosina Hoffman|   Consumer|United States|    Los Angeles|    California|      90032|   West|OFF-AR-10002833|Office Supplies|         Art|          Newell 322|    7.28|       4|     0.0|          1.9656|\n",
            "|     8|CA-2014-115812|09/06/2014|14/06/2014|Standard Class|   BH-11710|   Brosina Hoffman|   Consumer|United States|    Los Angeles|    California|      90032|   West|TEC-PH-10002275|     Technology|      Phones|Mitel 5320 IP Pho...| 907.152|       6|     0.2|         90.7152|\n",
            "|     9|CA-2014-115812|09/06/2014|14/06/2014|Standard Class|   BH-11710|   Brosina Hoffman|   Consumer|United States|    Los Angeles|    California|      90032|   West|OFF-BI-10003910|Office Supplies|     Binders|DXL Angle-View Bi...|  18.504|       3|     0.2|          5.7825|\n",
            "|    10|CA-2014-115812|09/06/2014|14/06/2014|Standard Class|   BH-11710|   Brosina Hoffman|   Consumer|United States|    Los Angeles|    California|      90032|   West|OFF-AP-10002892|Office Supplies|  Appliances|Belkin F5C206VTEL...|   114.9|       5|     0.0|           34.47|\n",
            "|    11|CA-2014-115812|09/06/2014|14/06/2014|Standard Class|   BH-11710|   Brosina Hoffman|   Consumer|United States|    Los Angeles|    California|      90032|   West|FUR-TA-10001539|      Furniture|      Tables|Chromcraft Rectan...|1706.184|       9|     0.2|85.3091999999998|\n",
            "|    12|CA-2014-115812|09/06/2014|14/06/2014|Standard Class|   BH-11710|   Brosina Hoffman|   Consumer|United States|    Los Angeles|    California|      90032|   West|TEC-PH-10002033|     Technology|      Phones|Konftel 250 Confe...| 911.424|       4|     0.2|         68.3568|\n",
            "|    13|CA-2017-114412|15/04/2017|20/04/2017|Standard Class|   AA-10480|      Andrew Allen|   Consumer|United States|        Concord|North Carolina|      28027|  South|OFF-PA-10002365|Office Supplies|       Paper|          Xerox 1967|  15.552|       3|     0.2|          5.4432|\n",
            "|    14|CA-2016-161389|05/12/2016|10/12/2016|Standard Class|   IM-15070|      Irene Maddox|   Consumer|United States|        Seattle|    Washington|      98103|   West|OFF-BI-10003656|Office Supplies|     Binders|Fellowes PB200 Pl...| 407.976|       3|     0.2|        132.5922|\n",
            "|    15|US-2015-118983|22/11/2015|26/11/2015|Standard Class|   HP-14815|     Harold Pawlan|Home Office|United States|     Fort Worth|         Texas|      76106|Central|OFF-AP-10002311|Office Supplies|  Appliances|Holmes Replacemen...|   68.81|       5|     0.8|        -123.858|\n",
            "|    16|US-2015-118983|22/11/2015|26/11/2015|Standard Class|   HP-14815|     Harold Pawlan|Home Office|United States|     Fort Worth|         Texas|      76106|Central|OFF-BI-10000756|Office Supplies|     Binders|Storex DuraTech R...|   2.544|       3|     0.8|          -3.816|\n",
            "|    17|CA-2014-105893|11/11/2014|18/11/2014|Standard Class|   PK-19075|         Pete Kriz|   Consumer|United States|        Madison|     Wisconsin|      53711|Central|OFF-ST-10004186|Office Supplies|     Storage|Stur-D-Stor Shelv...|  665.88|       6|     0.0|         13.3176|\n",
            "|    18|CA-2014-167164|13/05/2014|15/05/2014|  Second Class|   AG-10270|   Alejandro Grove|   Consumer|United States|    West Jordan|          Utah|      84084|   West|OFF-ST-10000107|Office Supplies|     Storage|Fellowes Super St...|    55.5|       2|     0.0|            9.99|\n",
            "|    19|CA-2014-143336|27/08/2014|01/09/2014|  Second Class|   ZD-21925|Zuschuss Donatelli|   Consumer|United States|  San Francisco|    California|      94109|   West|OFF-AR-10003056|Office Supplies|         Art|          Newell 341|    8.56|       2|     0.0|          2.4824|\n",
            "|    20|CA-2014-143336|27/08/2014|01/09/2014|  Second Class|   ZD-21925|Zuschuss Donatelli|   Consumer|United States|  San Francisco|    California|      94109|   West|TEC-PH-10001949|     Technology|      Phones|Cisco SPA 501G IP...|  213.48|       3|     0.2|          16.011|\n",
            "+------+--------------+----------+----------+--------------+-----------+------------------+-----------+-------------+---------------+--------------+-----------+-------+---------------+---------------+------------+--------------------+--------+--------+--------+----------------+\n",
            "\n"
          ]
        }
      ]
    },
    {
      "cell_type": "markdown",
      "source": [
        "#Super Store Data Processing"
      ],
      "metadata": {
        "id": "jPrKpwKyaa7-"
      }
    },
    {
      "cell_type": "markdown",
      "source": [
        "##Simple Queries"
      ],
      "metadata": {
        "id": "qbeborIoafuR"
      }
    },
    {
      "cell_type": "code",
      "source": [
        "spark.sql(\"SELECT * FROM Orders limit 20\").show()"
      ],
      "metadata": {
        "colab": {
          "base_uri": "https://localhost:8080/"
        },
        "id": "26QOofMxaiwb",
        "outputId": "4d5f25e0-60ba-4353-a7ce-195939042335"
      },
      "execution_count": 22,
      "outputs": [
        {
          "output_type": "stream",
          "name": "stdout",
          "text": [
            "+------+--------------+----------+----------+--------------+-----------+------------------+-----------+-------------+---------------+--------------+-----------+-------+---------------+---------------+------------+--------------------+--------+--------+--------+----------------+\n",
            "|Row ID|      Order ID|Order Date| Ship Date|     Ship Mode|Customer ID|     Customer Name|    Segment|      Country|           City|         State|Postal Code| Region|     Product ID|       Category|Sub-Category|        Product Name|   Sales|Quantity|Discount|          Profit|\n",
            "+------+--------------+----------+----------+--------------+-----------+------------------+-----------+-------------+---------------+--------------+-----------+-------+---------------+---------------+------------+--------------------+--------+--------+--------+----------------+\n",
            "|     1|CA-2016-152156|08/11/2016|11/11/2016|  Second Class|   CG-12520|       Claire Gute|   Consumer|United States|      Henderson|      Kentucky|      42420|  South|FUR-BO-10001798|      Furniture|   Bookcases|Bush Somerset Col...|  261.96|       2|     0.0|         41.9136|\n",
            "|     2|CA-2016-152156|08/11/2016|11/11/2016|  Second Class|   CG-12520|       Claire Gute|   Consumer|United States|      Henderson|      Kentucky|      42420|  South|FUR-CH-10000454|      Furniture|      Chairs|Hon Deluxe Fabric...|  731.94|       3|     0.0|         219.582|\n",
            "|     3|CA-2016-138688|12/06/2016|16/06/2016|  Second Class|   DV-13045|   Darrin Van Huff|  Corporate|United States|    Los Angeles|    California|      90036|   West|OFF-LA-10000240|Office Supplies|      Labels|Self-Adhesive Add...|   14.62|       2|     0.0|          6.8714|\n",
            "|     4|US-2015-108966|11/10/2015|18/10/2015|Standard Class|   SO-20335|    Sean O'Donnell|   Consumer|United States|Fort Lauderdale|       Florida|      33311|  South|FUR-TA-10000577|      Furniture|      Tables|Bretford CR4500 S...|957.5775|       5|    0.45|        -383.031|\n",
            "|     5|US-2015-108966|11/10/2015|18/10/2015|Standard Class|   SO-20335|    Sean O'Donnell|   Consumer|United States|Fort Lauderdale|       Florida|      33311|  South|OFF-ST-10000760|Office Supplies|     Storage|Eldon Fold 'N Rol...|  22.368|       2|     0.2|          2.5164|\n",
            "|     6|CA-2014-115812|09/06/2014|14/06/2014|Standard Class|   BH-11710|   Brosina Hoffman|   Consumer|United States|    Los Angeles|    California|      90032|   West|FUR-FU-10001487|      Furniture| Furnishings|Eldon Expressions...|   48.86|       7|     0.0|         14.1694|\n",
            "|     7|CA-2014-115812|09/06/2014|14/06/2014|Standard Class|   BH-11710|   Brosina Hoffman|   Consumer|United States|    Los Angeles|    California|      90032|   West|OFF-AR-10002833|Office Supplies|         Art|          Newell 322|    7.28|       4|     0.0|          1.9656|\n",
            "|     8|CA-2014-115812|09/06/2014|14/06/2014|Standard Class|   BH-11710|   Brosina Hoffman|   Consumer|United States|    Los Angeles|    California|      90032|   West|TEC-PH-10002275|     Technology|      Phones|Mitel 5320 IP Pho...| 907.152|       6|     0.2|         90.7152|\n",
            "|     9|CA-2014-115812|09/06/2014|14/06/2014|Standard Class|   BH-11710|   Brosina Hoffman|   Consumer|United States|    Los Angeles|    California|      90032|   West|OFF-BI-10003910|Office Supplies|     Binders|DXL Angle-View Bi...|  18.504|       3|     0.2|          5.7825|\n",
            "|    10|CA-2014-115812|09/06/2014|14/06/2014|Standard Class|   BH-11710|   Brosina Hoffman|   Consumer|United States|    Los Angeles|    California|      90032|   West|OFF-AP-10002892|Office Supplies|  Appliances|Belkin F5C206VTEL...|   114.9|       5|     0.0|           34.47|\n",
            "|    11|CA-2014-115812|09/06/2014|14/06/2014|Standard Class|   BH-11710|   Brosina Hoffman|   Consumer|United States|    Los Angeles|    California|      90032|   West|FUR-TA-10001539|      Furniture|      Tables|Chromcraft Rectan...|1706.184|       9|     0.2|85.3091999999998|\n",
            "|    12|CA-2014-115812|09/06/2014|14/06/2014|Standard Class|   BH-11710|   Brosina Hoffman|   Consumer|United States|    Los Angeles|    California|      90032|   West|TEC-PH-10002033|     Technology|      Phones|Konftel 250 Confe...| 911.424|       4|     0.2|         68.3568|\n",
            "|    13|CA-2017-114412|15/04/2017|20/04/2017|Standard Class|   AA-10480|      Andrew Allen|   Consumer|United States|        Concord|North Carolina|      28027|  South|OFF-PA-10002365|Office Supplies|       Paper|          Xerox 1967|  15.552|       3|     0.2|          5.4432|\n",
            "|    14|CA-2016-161389|05/12/2016|10/12/2016|Standard Class|   IM-15070|      Irene Maddox|   Consumer|United States|        Seattle|    Washington|      98103|   West|OFF-BI-10003656|Office Supplies|     Binders|Fellowes PB200 Pl...| 407.976|       3|     0.2|        132.5922|\n",
            "|    15|US-2015-118983|22/11/2015|26/11/2015|Standard Class|   HP-14815|     Harold Pawlan|Home Office|United States|     Fort Worth|         Texas|      76106|Central|OFF-AP-10002311|Office Supplies|  Appliances|Holmes Replacemen...|   68.81|       5|     0.8|        -123.858|\n",
            "|    16|US-2015-118983|22/11/2015|26/11/2015|Standard Class|   HP-14815|     Harold Pawlan|Home Office|United States|     Fort Worth|         Texas|      76106|Central|OFF-BI-10000756|Office Supplies|     Binders|Storex DuraTech R...|   2.544|       3|     0.8|          -3.816|\n",
            "|    17|CA-2014-105893|11/11/2014|18/11/2014|Standard Class|   PK-19075|         Pete Kriz|   Consumer|United States|        Madison|     Wisconsin|      53711|Central|OFF-ST-10004186|Office Supplies|     Storage|Stur-D-Stor Shelv...|  665.88|       6|     0.0|         13.3176|\n",
            "|    18|CA-2014-167164|13/05/2014|15/05/2014|  Second Class|   AG-10270|   Alejandro Grove|   Consumer|United States|    West Jordan|          Utah|      84084|   West|OFF-ST-10000107|Office Supplies|     Storage|Fellowes Super St...|    55.5|       2|     0.0|            9.99|\n",
            "|    19|CA-2014-143336|27/08/2014|01/09/2014|  Second Class|   ZD-21925|Zuschuss Donatelli|   Consumer|United States|  San Francisco|    California|      94109|   West|OFF-AR-10003056|Office Supplies|         Art|          Newell 341|    8.56|       2|     0.0|          2.4824|\n",
            "|    20|CA-2014-143336|27/08/2014|01/09/2014|  Second Class|   ZD-21925|Zuschuss Donatelli|   Consumer|United States|  San Francisco|    California|      94109|   West|TEC-PH-10001949|     Technology|      Phones|Cisco SPA 501G IP...|  213.48|       3|     0.2|          16.011|\n",
            "+------+--------------+----------+----------+--------------+-----------+------------------+-----------+-------------+---------------+--------------+-----------+-------+---------------+---------------+------------+--------------------+--------+--------+--------+----------------+\n",
            "\n"
          ]
        }
      ]
    },
    {
      "cell_type": "code",
      "source": [
        "spark.sql(\"select count(Quantity) from Orders\").show()"
      ],
      "metadata": {
        "colab": {
          "base_uri": "https://localhost:8080/"
        },
        "id": "10aMvkmWa_MJ",
        "outputId": "1e3e2181-8646-4863-fd0d-9db33b4c1e40"
      },
      "execution_count": 23,
      "outputs": [
        {
          "output_type": "stream",
          "name": "stdout",
          "text": [
            "+---------------+\n",
            "|count(Quantity)|\n",
            "+---------------+\n",
            "|           9994|\n",
            "+---------------+\n",
            "\n"
          ]
        }
      ]
    },
    {
      "cell_type": "code",
      "source": [
        "spark.sql(\"select Category, Sum(Sales), Sum(Profit) from Orders group by Category\").show()"
      ],
      "metadata": {
        "colab": {
          "base_uri": "https://localhost:8080/"
        },
        "id": "S8jBUQXjbAJv",
        "outputId": "b3b0ec48-c3af-4cb1-d16a-27325d5f2c14"
      },
      "execution_count": 24,
      "outputs": [
        {
          "output_type": "stream",
          "name": "stdout",
          "text": [
            "+---------------+-----------------+------------------+\n",
            "|       Category|       sum(Sales)|       sum(Profit)|\n",
            "+---------------+-----------------+------------------+\n",
            "|Office Supplies|719047.0320000029|122490.80080000011|\n",
            "|      Furniture|741999.7952999998|        18451.2728|\n",
            "|     Technology|836154.0329999966| 145454.9480999999|\n",
            "+---------------+-----------------+------------------+\n",
            "\n"
          ]
        }
      ]
    },
    {
      "cell_type": "code",
      "source": [
        "spark.sql(\"select Region, Sum(Sales), Sum(Profit) from Orders group by Region\").show()"
      ],
      "metadata": {
        "colab": {
          "base_uri": "https://localhost:8080/"
        },
        "id": "S5LZwzYLbMci",
        "outputId": "0924086c-5160-413d-95af-e8dc20ba7e8e"
      },
      "execution_count": 25,
      "outputs": [
        {
          "output_type": "stream",
          "name": "stdout",
          "text": [
            "+-------+-----------------+------------------+\n",
            "| Region|       sum(Sales)|       sum(Profit)|\n",
            "+-------+-----------------+------------------+\n",
            "|  South|391721.9050000003| 46749.43030000006|\n",
            "|Central|501239.8908000005| 39706.36249999998|\n",
            "|   East|678781.2399999979| 91522.78000000026|\n",
            "|   West|725457.8245000006|108418.44890000016|\n",
            "+-------+-----------------+------------------+\n",
            "\n"
          ]
        }
      ]
    },
    {
      "cell_type": "code",
      "source": [
        "spark.sql(\"select Segment, Sum(Sales), Sum(Profit) from Orders group by Segment\").show()\n"
      ],
      "metadata": {
        "colab": {
          "base_uri": "https://localhost:8080/"
        },
        "id": "jIgs-FyLbbht",
        "outputId": "defd0384-d4e1-4246-e889-119008426dbe"
      },
      "execution_count": 26,
      "outputs": [
        {
          "output_type": "stream",
          "name": "stdout",
          "text": [
            "+-----------+------------------+------------------+\n",
            "|    Segment|        sum(Sales)|       sum(Profit)|\n",
            "+-----------+------------------+------------------+\n",
            "|   Consumer|1161401.3449999888|134119.20919999972|\n",
            "|Home Office| 429653.1485000003| 60298.67850000009|\n",
            "|  Corporate| 706146.3668000001| 91979.13400000021|\n",
            "+-----------+------------------+------------------+\n",
            "\n"
          ]
        }
      ]
    },
    {
      "cell_type": "code",
      "source": [
        "spark.sql(\"select Segment, Region, Sum(Sales) Sales from Orders group by Segment, Region\").show()"
      ],
      "metadata": {
        "colab": {
          "base_uri": "https://localhost:8080/"
        },
        "id": "2jSR4LQkboPT",
        "outputId": "dae90777-eaae-44b1-9ccc-7a586277ac23"
      },
      "execution_count": 27,
      "outputs": [
        {
          "output_type": "stream",
          "name": "stdout",
          "text": [
            "+-----------+-------+------------------+\n",
            "|    Segment| Region|             Sales|\n",
            "+-----------+-------+------------------+\n",
            "|Home Office|   West| 136721.7769999999|\n",
            "|  Corporate|   West|225855.27449999977|\n",
            "|   Consumer|   West| 362880.7730000003|\n",
            "|   Consumer|   East|350908.16700000066|\n",
            "|Home Office|Central| 91212.64399999994|\n",
            "|  Corporate|Central|       157995.8128|\n",
            "|  Corporate|  South|121885.93250000005|\n",
            "|Home Office|  South| 74255.00150000004|\n",
            "|   Consumer|  South|195580.97100000017|\n",
            "|  Corporate|   East|200409.34699999995|\n",
            "|Home Office|   East|127463.72599999998|\n",
            "|   Consumer|Central|252031.43400000007|\n",
            "+-----------+-------+------------------+\n",
            "\n"
          ]
        }
      ]
    },
    {
      "cell_type": "code",
      "source": [
        "spark.sql(\"select Segment, Region, Sum(Sales) Sales from Orders group by Segment, Region with Rollup\").show()"
      ],
      "metadata": {
        "colab": {
          "base_uri": "https://localhost:8080/"
        },
        "id": "xeNEAsOsb-Rn",
        "outputId": "d6524443-1519-4224-852a-52b078fac238"
      },
      "execution_count": 28,
      "outputs": [
        {
          "output_type": "stream",
          "name": "stdout",
          "text": [
            "+-----------+-------+------------------+\n",
            "|    Segment| Region|             Sales|\n",
            "+-----------+-------+------------------+\n",
            "|  Corporate|   null| 706146.3668000001|\n",
            "|Home Office|Central| 91212.64399999994|\n",
            "|   Consumer|Central|252031.43400000007|\n",
            "|   Consumer|   West| 362880.7730000003|\n",
            "|Home Office|   West| 136721.7769999999|\n",
            "|  Corporate|  South|121885.93250000005|\n",
            "|  Corporate|   West|225855.27449999977|\n",
            "|       null|   null| 2297200.860299955|\n",
            "|Home Office|   East|127463.72599999998|\n",
            "|Home Office|  South| 74255.00150000004|\n",
            "|  Corporate|Central|       157995.8128|\n",
            "|   Consumer|  South|195580.97100000017|\n",
            "|   Consumer|   East|350908.16700000066|\n",
            "|   Consumer|   null|1161401.3449999888|\n",
            "|  Corporate|   East|200409.34699999995|\n",
            "|Home Office|   null| 429653.1485000003|\n",
            "+-----------+-------+------------------+\n",
            "\n"
          ]
        }
      ]
    },
    {
      "cell_type": "markdown",
      "source": [
        "##Cross Tabs"
      ],
      "metadata": {
        "id": "wqDPht3jcTbI"
      }
    },
    {
      "cell_type": "markdown",
      "source": [
        "###Inner Tale"
      ],
      "metadata": {
        "id": "kYr7VLPAcWrt"
      }
    },
    {
      "cell_type": "code",
      "source": [
        "sums_df = spark.sql(\"\"\"\n",
        "    SELECT\n",
        "        Segment,\n",
        "        SUM(IF(Region='Central',Sales,0)) As Central,\n",
        "        SUM(IF(Region='East',Sales,0)) As East,\n",
        "        SUM(IF(Region='West',Sales,0)) As West,\n",
        "        SUM(IF(Region='South',Sales,0)) As South\n",
        "    FROM Orders\n",
        "        GROUP BY Segment WITH ROLLUP\n",
        "\"\"\")\n",
        "sums_df.show()"
      ],
      "metadata": {
        "colab": {
          "base_uri": "https://localhost:8080/"
        },
        "id": "vMxFc5xygL4m",
        "outputId": "e56e1dae-5fd3-45a1-dd2e-d04dc1b45f0d"
      },
      "execution_count": 29,
      "outputs": [
        {
          "output_type": "stream",
          "name": "stdout",
          "text": [
            "+-----------+------------------+------------------+------------------+------------------+\n",
            "|    Segment|           Central|              East|              West|             South|\n",
            "+-----------+------------------+------------------+------------------+------------------+\n",
            "|Home Office| 91212.64399999994|127463.72599999998| 136721.7769999999| 74255.00150000004|\n",
            "|  Corporate|       157995.8128|200409.34699999995|225855.27449999977|121885.93250000005|\n",
            "|       null| 501239.8908000005| 678781.2399999979| 725457.8245000006| 391721.9050000003|\n",
            "|   Consumer|252031.43400000007|350908.16700000066| 362880.7730000003|195580.97100000017|\n",
            "+-----------+------------------+------------------+------------------+------------------+\n",
            "\n"
          ]
        }
      ]
    },
    {
      "cell_type": "markdown",
      "source": [
        "###Outer Query"
      ],
      "metadata": {
        "id": "_kxVj0VpiPzY"
      }
    },
    {
      "cell_type": "code",
      "source": [
        "#sums_df.registerTempTable(\"sums\")\n",
        "sums_df.createOrReplaceTempView(\"sums\")\n",
        "#CrossTab = sqlContext.sql(\"\"\"\n",
        "CrossTab = spark.sql(\"\"\"\n",
        " SELECT\n",
        "  IFNULL(Segment,'#Totals') Dims,\n",
        "  sums.Central, sums.East, sums.West,sums.South,\n",
        "  sums.Central + sums.East + sums.West + sums.South Totals\n",
        "FROM sums\n",
        "order by Dims desc\n",
        "\"\"\")\n",
        "CrossTab.show()"
      ],
      "metadata": {
        "colab": {
          "base_uri": "https://localhost:8080/"
        },
        "id": "SJooUTpniSgq",
        "outputId": "870bddfb-4ed2-4fd5-cad2-a18f8445aa95"
      },
      "execution_count": 30,
      "outputs": [
        {
          "output_type": "stream",
          "name": "stdout",
          "text": [
            "+-----------+------------------+------------------+------------------+------------------+------------------+\n",
            "|       Dims|           Central|              East|              West|             South|            Totals|\n",
            "+-----------+------------------+------------------+------------------+------------------+------------------+\n",
            "|Home Office| 91212.64399999994|127463.72599999998| 136721.7769999999| 74255.00150000004| 429653.1484999999|\n",
            "|  Corporate|       157995.8128|200409.34699999995|225855.27449999977|121885.93250000005| 706146.3667999997|\n",
            "|   Consumer|252031.43400000007|350908.16700000066| 362880.7730000003|195580.97100000017|1161401.3450000011|\n",
            "|    #Totals| 501239.8908000005| 678781.2399999979| 725457.8245000006| 391721.9050000003|2297200.8602999994|\n",
            "+-----------+------------------+------------------+------------------+------------------+------------------+\n",
            "\n"
          ]
        }
      ]
    },
    {
      "cell_type": "code",
      "source": [
        "CrossTab = spark.sql(\"\"\"\n",
        " SELECT\n",
        "  IFNULL(Segment,'#Totals') Dims,\n",
        "  round(sums.Central,2) Central,\n",
        "  round(sums.East,2) East,\n",
        "  round(sums.West,2) West,\n",
        "  round(sums.South,2) South,\n",
        "  round(sums.Central + sums.East + sums.West + sums.South,2) Totals\n",
        "FROM sums\n",
        "order by Dims desc\n",
        "\"\"\")\n",
        "CrossTab.show()"
      ],
      "metadata": {
        "colab": {
          "base_uri": "https://localhost:8080/"
        },
        "id": "vrXZrBAZnsng",
        "outputId": "d542ad95-2d66-4493-c0ab-b7491142186b"
      },
      "execution_count": 31,
      "outputs": [
        {
          "output_type": "stream",
          "name": "stdout",
          "text": [
            "+-----------+---------+---------+---------+---------+----------+\n",
            "|       Dims|  Central|     East|     West|    South|    Totals|\n",
            "+-----------+---------+---------+---------+---------+----------+\n",
            "|Home Office| 91212.64|127463.73|136721.78|  74255.0| 429653.15|\n",
            "|  Corporate|157995.81|200409.35|225855.27|121885.93| 706146.37|\n",
            "|   Consumer|252031.43|350908.17|362880.77|195580.97|1161401.35|\n",
            "|    #Totals|501239.89|678781.24|725457.82|391721.91|2297200.86|\n",
            "+-----------+---------+---------+---------+---------+----------+\n",
            "\n"
          ]
        }
      ]
    },
    {
      "cell_type": "code",
      "source": [
        "from datetime import datetime\n",
        "import pytz\n",
        "print('Last tested  ',datetime.now(pytz.timezone('Asia/Calcutta')))"
      ],
      "metadata": {
        "colab": {
          "base_uri": "https://localhost:8080/"
        },
        "id": "08l9gRDub6ji",
        "outputId": "a8ddda20-1caa-48c2-e857-eb06835c733a"
      },
      "execution_count": 33,
      "outputs": [
        {
          "output_type": "stream",
          "name": "stdout",
          "text": [
            "Last tested   2023-09-02 11:18:44.955266+05:30\n"
          ]
        }
      ]
    },
    {
      "cell_type": "markdown",
      "metadata": {
        "id": "i6k-QLe07diM"
      },
      "source": [
        "#Chronobooks <br>\n",
        "![alt text](https://1.bp.blogspot.com/-lTiYBkU2qbU/X1er__fvnkI/AAAAAAAAjtE/GhDR3OEGJr4NG43fZPodrQD5kbxtnKebgCLcBGAsYHQ/s600/Footer2020-600x200.png)<hr>\n",
        "Chronotantra and Chronoyantra are two science fiction novels that explore the collapse of human civilisation on Earth and then its rebirth and reincarnation both on Earth as well as on the distant worlds of Mars, Titan and Enceladus. But is it the human civilisation that is being reborn? Or is it some other sentience that is revealing itself.\n",
        "If you have an interest in AI and found this material useful, you may consider buying these novels, in paperback or kindle, from [http://bit.ly/chronobooks](http://bit.ly/chronobooks)"
      ]
    }
  ]
}