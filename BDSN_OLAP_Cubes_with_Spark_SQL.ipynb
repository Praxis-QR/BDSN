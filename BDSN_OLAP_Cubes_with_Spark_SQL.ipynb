{
  "nbformat": 4,
  "nbformat_minor": 0,
  "metadata": {
    "colab": {
      "name": "BDSN OLAP Cubes with Spark SQL",
      "provenance": [],
      "toc_visible": true,
      "include_colab_link": true
    },
    "kernelspec": {
      "name": "python3",
      "display_name": "Python 3"
    }
  },
  "cells": [
    {
      "cell_type": "markdown",
      "metadata": {
        "id": "view-in-github",
        "colab_type": "text"
      },
      "source": [
        "<a href=\"https://colab.research.google.com/github/Praxis-QR/BDSN/blob/main/BDSN_OLAP_Cubes_with_Spark_SQL.ipynb\" target=\"_parent\"><img src=\"https://colab.research.google.com/assets/colab-badge.svg\" alt=\"Open In Colab\"/></a>"
      ]
    },
    {
      "cell_type": "markdown",
      "metadata": {
        "id": "tfPMLrsUNbGj"
      },
      "source": [
        "![alt text](https://github.com/Praxis-QR/RDWH/raw/main/images/YantraJaalBanner.png)<br>\n",
        "\n",
        "\n",
        "<hr>\n",
        "\n",
        "[Prithwis Mukerjee](http://www.linkedin.com/in/prithwis)<br>"
      ]
    },
    {
      "cell_type": "markdown",
      "metadata": {
        "id": "BboV_Nt1pQuk"
      },
      "source": [
        "OLAP Cubes <br>\n",
        "https://docs.google.com/presentation/d/1rx_ek2E1F5MNberY2bxeRuEfPOeuVM_WcdAKyAbF_EQ/edit?usp=sharing <br>\n",
        "[Bigger Slide Deck](https://docs.google.com/presentation/d/1wQzZoHFo3NVk-dMTebHA4LH7B4KYmOfiSammjsSRGL0/edit?usp=sharing)"
      ]
    },
    {
      "cell_type": "code",
      "source": [
        "from datetime import datetime\n",
        "import pytz\n",
        "print('Tested',datetime.now(pytz.timezone('Asia/Calcutta')))"
      ],
      "metadata": {
        "id": "NcpQKsFEkdWQ",
        "outputId": "7f730126-f26b-417a-d492-5d0ed85766e4",
        "colab": {
          "base_uri": "https://localhost:8080/"
        }
      },
      "execution_count": 1,
      "outputs": [
        {
          "output_type": "stream",
          "name": "stdout",
          "text": [
            "Tested 2023-05-24 11:27:50.235497+05:30\n"
          ]
        }
      ]
    },
    {
      "cell_type": "markdown",
      "metadata": {
        "id": "2w5onY7lNhki"
      },
      "source": [
        "#Install Spark"
      ]
    },
    {
      "cell_type": "markdown",
      "source": [
        "## Manual Approach - Deprecated "
      ],
      "metadata": {
        "id": "jt90yGowADVT"
      }
    },
    {
      "cell_type": "code",
      "metadata": {
        "id": "hdvOd3XONSn4",
        "colab": {
          "base_uri": "https://localhost:8080/",
          "height": 248
        },
        "outputId": "3ea90936-fc7b-40de-e867-ff198fd82b1e"
      },
      "source": [
        "!apt-get update > /dev/null\n",
        "!apt-get install openjdk-8-jdk-headless -qq > /dev/null\n",
        "#!wget -q http://apache.osuosl.org/spark/spark-3.1.1/spark-3.1.1-bin-hadoop3.2.tgz \n",
        "!wget -q http://apache.osuosl.org/spark/spark-3.1.2/spark-3.1.2-bin-hadoop3.2.tgz\n",
        "#\n",
        "# if the current version of Spark is not used, there may be errors\n",
        "# check here for current versions http://apache.osuosl.org/spark\n",
        "#\n",
        "\n",
        "#!tar xf spark-3.1.1-bin-hadoop3.2.tgz\n",
        "!tar xf spark-3.1.2-bin-hadoop3.2.tgz\n",
        "#!pip install -q findspark\n",
        "!pip install -q pyspark\n",
        "# -------------------------------------------------\n",
        "import os\n",
        "os.environ[\"JAVA_HOME\"] = \"/usr/lib/jvm/java-8-openjdk-amd64\"\n",
        "\n",
        "#os.environ[\"SPARK_HOME\"] = \"/content/spark-3.1.1-bin-hadoop3.2\"\n",
        "os.environ[\"SPARK_HOME\"] = \"/content/spark-3.1.2-bin-hadoop3.2\"\n",
        "# ----------------------\n",
        "#import findspark\n",
        "#findspark.init()\n",
        "from pyspark.sql import SparkSession\n",
        "spark = SparkSession.builder.master(\"local[*]\").getOrCreate()\n",
        "# ----------------------------------------\n",
        "sc = spark.sparkContext\n",
        "sc"
      ],
      "execution_count": null,
      "outputs": [
        {
          "output_type": "stream",
          "name": "stdout",
          "text": [
            "\u001b[K     |████████████████████████████████| 281.3 MB 42 kB/s \n",
            "\u001b[K     |████████████████████████████████| 198 kB 46.4 MB/s \n",
            "\u001b[?25h  Building wheel for pyspark (setup.py) ... \u001b[?25l\u001b[?25hdone\n"
          ]
        },
        {
          "output_type": "execute_result",
          "data": {
            "text/html": [
              "\n",
              "        <div>\n",
              "            <p><b>SparkContext</b></p>\n",
              "\n",
              "            <p><a href=\"http://79f6c062485b:4040\">Spark UI</a></p>\n",
              "\n",
              "            <dl>\n",
              "              <dt>Version</dt>\n",
              "                <dd><code>v3.1.2</code></dd>\n",
              "              <dt>Master</dt>\n",
              "                <dd><code>local[*]</code></dd>\n",
              "              <dt>AppName</dt>\n",
              "                <dd><code>pyspark-shell</code></dd>\n",
              "            </dl>\n",
              "        </div>\n",
              "        "
            ],
            "text/plain": [
              "<SparkContext master=local[*] appName=pyspark-shell>"
            ]
          },
          "metadata": {},
          "execution_count": 1
        }
      ]
    },
    {
      "cell_type": "markdown",
      "source": [
        "## Direct PIP Approach"
      ],
      "metadata": {
        "id": "zzyIJfGmAJKw"
      }
    },
    {
      "cell_type": "code",
      "source": [
        "#!pip3 -q install pyspark==3.0.3\n",
        "!pip3 -q install pyspark\n",
        "from pyspark.sql import SparkSession\n",
        "spark = SparkSession.builder.master(\"local[*]\").getOrCreate()\n",
        "# ----------------------------------------\n",
        "sc = spark.sparkContext\n",
        "sc"
      ],
      "metadata": {
        "id": "c9ObHf4FANia",
        "outputId": "5e929088-0070-43e4-dc9e-b419341a0dd0",
        "colab": {
          "base_uri": "https://localhost:8080/",
          "height": 248
        }
      },
      "execution_count": 2,
      "outputs": [
        {
          "output_type": "stream",
          "name": "stdout",
          "text": [
            "\u001b[2K     \u001b[90m━━━━━━━━━━━━━━━━━━━━━━━━━━━━━━━━━━━━━━━\u001b[0m \u001b[32m310.8/310.8 MB\u001b[0m \u001b[31m4.0 MB/s\u001b[0m eta \u001b[36m0:00:00\u001b[0m\n",
            "\u001b[?25h  Preparing metadata (setup.py) ... \u001b[?25l\u001b[?25hdone\n",
            "  Building wheel for pyspark (setup.py) ... \u001b[?25l\u001b[?25hdone\n"
          ]
        },
        {
          "output_type": "execute_result",
          "data": {
            "text/plain": [
              "<SparkContext master=local[*] appName=pyspark-shell>"
            ],
            "text/html": [
              "\n",
              "        <div>\n",
              "            <p><b>SparkContext</b></p>\n",
              "\n",
              "            <p><a href=\"http://1bf925ff4511:4040\">Spark UI</a></p>\n",
              "\n",
              "            <dl>\n",
              "              <dt>Version</dt>\n",
              "                <dd><code>v3.4.0</code></dd>\n",
              "              <dt>Master</dt>\n",
              "                <dd><code>local[*]</code></dd>\n",
              "              <dt>AppName</dt>\n",
              "                <dd><code>pyspark-shell</code></dd>\n",
              "            </dl>\n",
              "        </div>\n",
              "        "
            ]
          },
          "metadata": {},
          "execution_count": 2
        }
      ]
    },
    {
      "cell_type": "markdown",
      "source": [
        "#Car Sales Data ( Small )"
      ],
      "metadata": {
        "id": "qg8L10rKmq7g"
      }
    },
    {
      "cell_type": "markdown",
      "metadata": {
        "id": "e5vEwXqGnvKC"
      },
      "source": [
        "##Load Data"
      ]
    },
    {
      "cell_type": "code",
      "metadata": {
        "id": "_Vyr9I9zhaGk"
      },
      "source": [
        "# https://drive.google.com/file/d/1JBGx9yMxpHrUO5BUmr12TpDDwLGLmal-/view\n",
        "#!gdown \"https://drive.google.com/uc?id=1JBGx9yMxpHrUO5BUmr12TpDDwLGLmal-\"\n",
        "!wget -q 'https://raw.githubusercontent.com/Praxis-QR/BDSN/main/data/OLAP/carsales2-noHeader.txt'\n",
        "#!cat carsales2-noHeader.txt"
      ],
      "execution_count": 3,
      "outputs": []
    },
    {
      "cell_type": "markdown",
      "metadata": {
        "id": "GXRfDX4EnxXr"
      },
      "source": [
        "##Process"
      ]
    },
    {
      "cell_type": "code",
      "metadata": {
        "id": "22OBGQqNckJm"
      },
      "source": [
        "data_file = \"./carsales2-noHeader.txt\" \n",
        "# data imported without headers\n",
        "raw_data = sc.textFile(data_file).cache()                           # Create a Spark RDD"
      ],
      "execution_count": 4,
      "outputs": []
    },
    {
      "cell_type": "code",
      "metadata": {
        "id": "gNblVnJidDyL"
      },
      "source": [
        "#from pyspark.sql import SQLContext\n",
        "#sqlContext = SQLContext(sc)"
      ],
      "execution_count": null,
      "outputs": []
    },
    {
      "cell_type": "code",
      "metadata": {
        "id": "WlzdKF3VdLFu"
      },
      "source": [
        "from pyspark.sql import Row\n",
        "csv_data = raw_data.map(lambda l: l.split(\",\"))\n",
        "row_data = csv_data.map(lambda p: Row(                              #  Convert the RDD into a collection of Rows\n",
        "    Make = p[0],                                                    #  names of columns\n",
        "    Style = p[1],\n",
        "    Colour = p[2],\n",
        "    Sales = int(p[3])\n",
        "  ))"
      ],
      "execution_count": 5,
      "outputs": []
    },
    {
      "cell_type": "markdown",
      "metadata": {
        "id": "_0H_SqBs599S"
      },
      "source": [
        "##Inner SQL Temp Table / First Dataframe"
      ]
    },
    {
      "cell_type": "code",
      "metadata": {
        "id": "pt8XjUZCdUiK"
      },
      "source": [
        "#CarSales_df = sqlContext.createDataFrame(row_data)\n",
        "#CarSales_df.registerTempTable(\"CarSales2\")\n",
        "CarSales_df = spark.createDataFrame(row_data)                       # Create a Spark Dataframe\n",
        "CarSales_df.createOrReplaceTempView(\"CarSales2\")                    # Create a Spark Table\n"
      ],
      "execution_count": 6,
      "outputs": []
    },
    {
      "cell_type": "code",
      "metadata": {
        "id": "vbvRxrPr0C0w",
        "colab": {
          "base_uri": "https://localhost:8080/"
        },
        "outputId": "c2baf5fe-8d38-4d09-a373-c53e04b3be23"
      },
      "source": [
        "CarSales_df.show()"
      ],
      "execution_count": 7,
      "outputs": [
        {
          "output_type": "stream",
          "name": "stdout",
          "text": [
            "+------+-------+------+-----+\n",
            "|  Make|  Style|Colour|Sales|\n",
            "+------+-------+------+-----+\n",
            "| Honda|    SUV|   Red|   31|\n",
            "| Honda|    SUV|  Blue|   46|\n",
            "| Honda|    SUV| Green|   48|\n",
            "| Honda|  Sedan|   Red|   25|\n",
            "| Honda|  Sedan|  Blue|   41|\n",
            "| Honda|  Sedan| Green|   34|\n",
            "| Honda|Compact|   Red|   48|\n",
            "| Honda|Compact|  Blue|   26|\n",
            "| Honda|Compact| Green|   32|\n",
            "|Toyota|    SUV|   Red|   39|\n",
            "|Toyota|    SUV|  Blue|   45|\n",
            "|Toyota|    SUV| Green|   50|\n",
            "|Toyota|  Sedan|   Red|   41|\n",
            "|Toyota|  Sedan|  Blue|   28|\n",
            "|Toyota|  Sedan| Green|   21|\n",
            "|Toyota|Compact|   Red|   44|\n",
            "|Toyota|Compact|  Blue|   50|\n",
            "|Toyota|Compact| Green|   26|\n",
            "| Mazda|    SUV|   Red|   29|\n",
            "| Mazda|    SUV|  Blue|   28|\n",
            "+------+-------+------+-----+\n",
            "only showing top 20 rows\n",
            "\n"
          ]
        }
      ]
    },
    {
      "cell_type": "code",
      "metadata": {
        "colab": {
          "base_uri": "https://localhost:8080/"
        },
        "id": "zl7zr4XembXE",
        "outputId": "8f63885d-4528-4f71-f3cc-aad281dfe833"
      },
      "source": [
        "#sqlContext.sql(\"SELECT * FROM CarSales2\").show()\n",
        "spark.sql(\"SELECT * FROM CarSales2\").show()"
      ],
      "execution_count": 8,
      "outputs": [
        {
          "output_type": "stream",
          "name": "stdout",
          "text": [
            "+------+-------+------+-----+\n",
            "|  Make|  Style|Colour|Sales|\n",
            "+------+-------+------+-----+\n",
            "| Honda|    SUV|   Red|   31|\n",
            "| Honda|    SUV|  Blue|   46|\n",
            "| Honda|    SUV| Green|   48|\n",
            "| Honda|  Sedan|   Red|   25|\n",
            "| Honda|  Sedan|  Blue|   41|\n",
            "| Honda|  Sedan| Green|   34|\n",
            "| Honda|Compact|   Red|   48|\n",
            "| Honda|Compact|  Blue|   26|\n",
            "| Honda|Compact| Green|   32|\n",
            "|Toyota|    SUV|   Red|   39|\n",
            "|Toyota|    SUV|  Blue|   45|\n",
            "|Toyota|    SUV| Green|   50|\n",
            "|Toyota|  Sedan|   Red|   41|\n",
            "|Toyota|  Sedan|  Blue|   28|\n",
            "|Toyota|  Sedan| Green|   21|\n",
            "|Toyota|Compact|   Red|   44|\n",
            "|Toyota|Compact|  Blue|   50|\n",
            "|Toyota|Compact| Green|   26|\n",
            "| Mazda|    SUV|   Red|   29|\n",
            "| Mazda|    SUV|  Blue|   28|\n",
            "+------+-------+------+-----+\n",
            "only showing top 20 rows\n",
            "\n"
          ]
        }
      ]
    },
    {
      "cell_type": "code",
      "metadata": {
        "id": "wqA9gBrKdaBZ",
        "colab": {
          "base_uri": "https://localhost:8080/"
        },
        "outputId": "6ccbb5de-3ece-416e-d7c6-8197dd8b88f9"
      },
      "source": [
        "#sums_df = sqlContext.sql(\"\"\"          \n",
        "                                                        # Spark DF from output of Spark SQL\n",
        "sums_df = spark.sql(\"\"\"                                 \n",
        "  SELECT                                    \n",
        "    Make,\n",
        "    SUM(IF(Style='SUV',Sales,0)) SUV,\n",
        "    SUM(IF(Style='Sedan',Sales,0)) Sedan,\n",
        "    SUM(IF(Style='Compact',Sales,0)) Compact\n",
        "  FROM CarSales2\n",
        "  GROUP BY Make WITH ROLLUP\n",
        "\"\"\")\n",
        "sums_df.show()"
      ],
      "execution_count": 9,
      "outputs": [
        {
          "output_type": "stream",
          "name": "stdout",
          "text": [
            "+------+---+-----+-------+\n",
            "|  Make|SUV|Sedan|Compact|\n",
            "+------+---+-----+-------+\n",
            "|  null|356|  323|    362|\n",
            "|Toyota|134|   90|    120|\n",
            "| Honda|125|  100|    106|\n",
            "| Mazda| 97|  133|    136|\n",
            "+------+---+-----+-------+\n",
            "\n"
          ]
        }
      ]
    },
    {
      "cell_type": "markdown",
      "metadata": {
        "id": "2ObbL71U6KM6"
      },
      "source": [
        "##Outer SQL "
      ]
    },
    {
      "cell_type": "code",
      "metadata": {
        "id": "V654s8q3dr5x",
        "colab": {
          "base_uri": "https://localhost:8080/"
        },
        "outputId": "10efef36-3ebd-4505-d335-c223f97a6b89"
      },
      "source": [
        "#sums_df.registerTempTable(\"sums\")\n",
        "sums_df.createOrReplaceTempView(\"sums\")                     # Spark DF to Spark Table\n",
        "\n",
        "\n",
        "#CrossTab = sqlContext.sql(\"\"\"\n",
        "CrossTab = spark.sql(\"\"\"\n",
        " SELECT\n",
        "  IFNULL(Make,'#Totals') AS Dims,       \n",
        "  SUV, Sedan, Compact,   \n",
        "  SUV + Sedan + Compact AS Totals\n",
        " from sums\n",
        " order by Dims desc\n",
        "\"\"\")\n",
        "CrossTab.show()"
      ],
      "execution_count": 10,
      "outputs": [
        {
          "output_type": "stream",
          "name": "stdout",
          "text": [
            "+-------+---+-----+-------+------+\n",
            "|   Dims|SUV|Sedan|Compact|Totals|\n",
            "+-------+---+-----+-------+------+\n",
            "| Toyota|134|   90|    120|   344|\n",
            "|  Mazda| 97|  133|    136|   366|\n",
            "|  Honda|125|  100|    106|   331|\n",
            "|#Totals|356|  323|    362|  1041|\n",
            "+-------+---+-----+-------+------+\n",
            "\n"
          ]
        }
      ]
    },
    {
      "cell_type": "markdown",
      "source": [
        "#Super Store Data ( Large)"
      ],
      "metadata": {
        "id": "hVHk7m4jRl7z"
      }
    },
    {
      "cell_type": "markdown",
      "source": [
        "##Load Data\n",
        "Super Store Order Data https://drive.google.com/file/d/13MKOpo8iD-tMkeMLw-4IPFi5-xWhmqFZ/view?usp=sharing <br>\n",
        "Original Data from [Tableau](https://community.tableau.com/docs/DOC-1236)"
      ],
      "metadata": {
        "id": "rBMpKDNWRpNA"
      }
    },
    {
      "cell_type": "code",
      "source": [
        "#!wget -q -O SS_Orders2.csv 'https://drive.google.com/uc?export=download&id=13MKOpo8iD-tMkeMLw-4IPFi5-xWhmqFZ'\n",
        "!wget -q -O SS_Orders2.csv 'https://github.com/Praxis-QR/BDSN/raw/main/data/OLAP/SS_Orders.csv'\n",
        "!head SS_Orders2.csv"
      ],
      "metadata": {
        "id": "f4qMutRTRrn7",
        "outputId": "200cdefe-2b08-4d71-b308-22b86fb3fed2",
        "colab": {
          "base_uri": "https://localhost:8080/"
        }
      },
      "execution_count": 11,
      "outputs": [
        {
          "output_type": "stream",
          "name": "stdout",
          "text": [
            "Row ID,Order ID,Order Date,Ship Date,Ship Mode,Customer ID,Customer Name,Segment,Country,City,State,Postal Code,Region,Product ID,Category,Sub-Category,Product Name,Sales,Quantity,Discount,Profit\n",
            "1,CA-2016-152156,08/11/2016,11/11/2016,Second Class,CG-12520,Claire Gute,Consumer,United States,Henderson,Kentucky,42420,South,FUR-BO-10001798,Furniture,Bookcases,Bush Somerset Collection Bookcase,261.96,2,0,41.9136\n",
            "2,CA-2016-152156,08/11/2016,11/11/2016,Second Class,CG-12520,Claire Gute,Consumer,United States,Henderson,Kentucky,42420,South,FUR-CH-10000454,Furniture,Chairs,\"Hon Deluxe Fabric Upholstered Stacking Chairs, Rounded Back\",731.94,3,0,219.582\n",
            "3,CA-2016-138688,12/06/2016,16/06/2016,Second Class,DV-13045,Darrin Van Huff,Corporate,United States,Los Angeles,California,90036,West,OFF-LA-10000240,Office Supplies,Labels,Self-Adhesive Address Labels for Typewriters by Universal,14.62,2,0,6.8714\n",
            "4,US-2015-108966,11/10/2015,18/10/2015,Standard Class,SO-20335,Sean O'Donnell,Consumer,United States,Fort Lauderdale,Florida,33311,South,FUR-TA-10000577,Furniture,Tables,Bretford CR4500 Series Slim Rectangular Table,957.5775,5,0.45,-383.031\n",
            "5,US-2015-108966,11/10/2015,18/10/2015,Standard Class,SO-20335,Sean O'Donnell,Consumer,United States,Fort Lauderdale,Florida,33311,South,OFF-ST-10000760,Office Supplies,Storage,Eldon Fold 'N Roll Cart System,22.368,2,0.2,2.5164\n",
            "6,CA-2014-115812,09/06/2014,14/06/2014,Standard Class,BH-11710,Brosina Hoffman,Consumer,United States,Los Angeles,California,90032,West,FUR-FU-10001487,Furniture,Furnishings,\"Eldon Expressions Wood and Plastic Desk Accessories, Cherry Wood\",48.86,7,0,14.1694\n",
            "7,CA-2014-115812,09/06/2014,14/06/2014,Standard Class,BH-11710,Brosina Hoffman,Consumer,United States,Los Angeles,California,90032,West,OFF-AR-10002833,Office Supplies,Art,Newell 322,7.28,4,0,1.9656\n",
            "8,CA-2014-115812,09/06/2014,14/06/2014,Standard Class,BH-11710,Brosina Hoffman,Consumer,United States,Los Angeles,California,90032,West,TEC-PH-10002275,Technology,Phones,Mitel 5320 IP Phone VoIP phone,907.152,6,0.2,90.7152\n",
            "9,CA-2014-115812,09/06/2014,14/06/2014,Standard Class,BH-11710,Brosina Hoffman,Consumer,United States,Los Angeles,California,90032,West,OFF-BI-10003910,Office Supplies,Binders,DXL Angle-View Binders with Locking Rings by Samsill,18.504,3,0.2,5.7825\n"
          ]
        }
      ]
    },
    {
      "cell_type": "markdown",
      "source": [
        "##Clean Up"
      ],
      "metadata": {
        "id": "7SKIZ0FlV664"
      }
    },
    {
      "cell_type": "code",
      "source": [
        "data_file = 'SS_Orders2.csv'\n",
        "raw_data = sc.textFile(data_file)\n",
        "print (\"Data Size\", raw_data.count())\n",
        "#eCommerce_df = spark.read.csv(data_file,inferSchema=True, header=True)\n",
        "Orders_df = spark.read.csv(data_file,inferSchema=True, header=True)"
      ],
      "metadata": {
        "colab": {
          "base_uri": "https://localhost:8080/"
        },
        "id": "-nxGQeJhTAZt",
        "outputId": "86c8e6c5-188f-4f06-9eaa-c9e78912e827"
      },
      "execution_count": 12,
      "outputs": [
        {
          "output_type": "stream",
          "name": "stdout",
          "text": [
            "Data Size 9995\n"
          ]
        }
      ]
    },
    {
      "cell_type": "code",
      "source": [
        "#Orders2_df = spark.read.csv(data_file,inferSchema=True, header=True)"
      ],
      "metadata": {
        "id": "BgIjZiXIYfGQ"
      },
      "execution_count": null,
      "outputs": []
    },
    {
      "cell_type": "code",
      "source": [
        "#eCommerce_df.printSchema()\n",
        "Orders_df.printSchema()\n",
        "# NOTE that everything is read as string ... this will not do!\n",
        "# There are \" and , in the data which is causing the problem"
      ],
      "metadata": {
        "colab": {
          "base_uri": "https://localhost:8080/"
        },
        "id": "ND6ukqzATVg6",
        "outputId": "909f0cd4-65e5-4fb0-94e8-1639222d2457"
      },
      "execution_count": 13,
      "outputs": [
        {
          "output_type": "stream",
          "name": "stdout",
          "text": [
            "root\n",
            " |-- Row ID: integer (nullable = true)\n",
            " |-- Order ID: string (nullable = true)\n",
            " |-- Order Date: string (nullable = true)\n",
            " |-- Ship Date: string (nullable = true)\n",
            " |-- Ship Mode: string (nullable = true)\n",
            " |-- Customer ID: string (nullable = true)\n",
            " |-- Customer Name: string (nullable = true)\n",
            " |-- Segment: string (nullable = true)\n",
            " |-- Country: string (nullable = true)\n",
            " |-- City: string (nullable = true)\n",
            " |-- State: string (nullable = true)\n",
            " |-- Postal Code: integer (nullable = true)\n",
            " |-- Region: string (nullable = true)\n",
            " |-- Product ID: string (nullable = true)\n",
            " |-- Category: string (nullable = true)\n",
            " |-- Sub-Category: string (nullable = true)\n",
            " |-- Product Name: string (nullable = true)\n",
            " |-- Sales: string (nullable = true)\n",
            " |-- Quantity: string (nullable = true)\n",
            " |-- Discount: string (nullable = true)\n",
            " |-- Profit: double (nullable = true)\n",
            "\n"
          ]
        }
      ]
    },
    {
      "cell_type": "code",
      "source": [
        "#!head SS_Orders2.csv"
      ],
      "metadata": {
        "id": "aH3-LolwWDZb"
      },
      "execution_count": null,
      "outputs": []
    },
    {
      "cell_type": "markdown",
      "source": [
        "### Using Pandas and Regex to clean up the data"
      ],
      "metadata": {
        "id": "3ZSl9tH8pqlk"
      }
    },
    {
      "cell_type": "code",
      "source": [
        "#we remove the CRLF character from the end of the row if it exists\n",
        "!sed 's/\\r//g' /content/SS_Orders2.csv > datafile.csv\n",
        "\n",
        "# remove the first line containing headers from the file\n",
        "#!sed -i -e \"1d\" datafile.csv     \n",
        "\n",
        "!head datafile.csv "
      ],
      "metadata": {
        "colab": {
          "base_uri": "https://localhost:8080/"
        },
        "id": "PBKoVAnsWjup",
        "outputId": "0fcf1115-d98d-43a5-f65d-159fa8511b30"
      },
      "execution_count": 14,
      "outputs": [
        {
          "output_type": "stream",
          "name": "stdout",
          "text": [
            "Row ID,Order ID,Order Date,Ship Date,Ship Mode,Customer ID,Customer Name,Segment,Country,City,State,Postal Code,Region,Product ID,Category,Sub-Category,Product Name,Sales,Quantity,Discount,Profit\n",
            "1,CA-2016-152156,08/11/2016,11/11/2016,Second Class,CG-12520,Claire Gute,Consumer,United States,Henderson,Kentucky,42420,South,FUR-BO-10001798,Furniture,Bookcases,Bush Somerset Collection Bookcase,261.96,2,0,41.9136\n",
            "2,CA-2016-152156,08/11/2016,11/11/2016,Second Class,CG-12520,Claire Gute,Consumer,United States,Henderson,Kentucky,42420,South,FUR-CH-10000454,Furniture,Chairs,\"Hon Deluxe Fabric Upholstered Stacking Chairs, Rounded Back\",731.94,3,0,219.582\n",
            "3,CA-2016-138688,12/06/2016,16/06/2016,Second Class,DV-13045,Darrin Van Huff,Corporate,United States,Los Angeles,California,90036,West,OFF-LA-10000240,Office Supplies,Labels,Self-Adhesive Address Labels for Typewriters by Universal,14.62,2,0,6.8714\n",
            "4,US-2015-108966,11/10/2015,18/10/2015,Standard Class,SO-20335,Sean O'Donnell,Consumer,United States,Fort Lauderdale,Florida,33311,South,FUR-TA-10000577,Furniture,Tables,Bretford CR4500 Series Slim Rectangular Table,957.5775,5,0.45,-383.031\n",
            "5,US-2015-108966,11/10/2015,18/10/2015,Standard Class,SO-20335,Sean O'Donnell,Consumer,United States,Fort Lauderdale,Florida,33311,South,OFF-ST-10000760,Office Supplies,Storage,Eldon Fold 'N Roll Cart System,22.368,2,0.2,2.5164\n",
            "6,CA-2014-115812,09/06/2014,14/06/2014,Standard Class,BH-11710,Brosina Hoffman,Consumer,United States,Los Angeles,California,90032,West,FUR-FU-10001487,Furniture,Furnishings,\"Eldon Expressions Wood and Plastic Desk Accessories, Cherry Wood\",48.86,7,0,14.1694\n",
            "7,CA-2014-115812,09/06/2014,14/06/2014,Standard Class,BH-11710,Brosina Hoffman,Consumer,United States,Los Angeles,California,90032,West,OFF-AR-10002833,Office Supplies,Art,Newell 322,7.28,4,0,1.9656\n",
            "8,CA-2014-115812,09/06/2014,14/06/2014,Standard Class,BH-11710,Brosina Hoffman,Consumer,United States,Los Angeles,California,90032,West,TEC-PH-10002275,Technology,Phones,Mitel 5320 IP Phone VoIP phone,907.152,6,0.2,90.7152\n",
            "9,CA-2014-115812,09/06/2014,14/06/2014,Standard Class,BH-11710,Brosina Hoffman,Consumer,United States,Los Angeles,California,90032,West,OFF-BI-10003910,Office Supplies,Binders,DXL Angle-View Binders with Locking Rings by Samsill,18.504,3,0.2,5.7825\n"
          ]
        }
      ]
    },
    {
      "cell_type": "code",
      "source": [
        "# remove , and \" from data\n",
        "import pandas as pd\n",
        "p_df = pd.read_csv('datafile.csv')\n",
        "\n",
        "p_df2 = p_df.replace(',', ' ', regex=True)\n",
        "p_df3 = p_df2.replace('\"', '', regex=True)\n",
        "p_df3.to_csv('datafile2.csv',index=False,sep=',')\n",
        "\n",
        "!head datafile2.csv"
      ],
      "metadata": {
        "colab": {
          "base_uri": "https://localhost:8080/"
        },
        "id": "8uq15EkDW7vu",
        "outputId": "853843d9-3924-4c1a-d825-1d27050c15c4"
      },
      "execution_count": 15,
      "outputs": [
        {
          "output_type": "stream",
          "name": "stdout",
          "text": [
            "Row ID,Order ID,Order Date,Ship Date,Ship Mode,Customer ID,Customer Name,Segment,Country,City,State,Postal Code,Region,Product ID,Category,Sub-Category,Product Name,Sales,Quantity,Discount,Profit\n",
            "1,CA-2016-152156,08/11/2016,11/11/2016,Second Class,CG-12520,Claire Gute,Consumer,United States,Henderson,Kentucky,42420,South,FUR-BO-10001798,Furniture,Bookcases,Bush Somerset Collection Bookcase,261.96,2,0.0,41.9136\n",
            "2,CA-2016-152156,08/11/2016,11/11/2016,Second Class,CG-12520,Claire Gute,Consumer,United States,Henderson,Kentucky,42420,South,FUR-CH-10000454,Furniture,Chairs,Hon Deluxe Fabric Upholstered Stacking Chairs  Rounded Back,731.94,3,0.0,219.582\n",
            "3,CA-2016-138688,12/06/2016,16/06/2016,Second Class,DV-13045,Darrin Van Huff,Corporate,United States,Los Angeles,California,90036,West,OFF-LA-10000240,Office Supplies,Labels,Self-Adhesive Address Labels for Typewriters by Universal,14.62,2,0.0,6.8714\n",
            "4,US-2015-108966,11/10/2015,18/10/2015,Standard Class,SO-20335,Sean O'Donnell,Consumer,United States,Fort Lauderdale,Florida,33311,South,FUR-TA-10000577,Furniture,Tables,Bretford CR4500 Series Slim Rectangular Table,957.5775,5,0.45,-383.031\n",
            "5,US-2015-108966,11/10/2015,18/10/2015,Standard Class,SO-20335,Sean O'Donnell,Consumer,United States,Fort Lauderdale,Florida,33311,South,OFF-ST-10000760,Office Supplies,Storage,Eldon Fold 'N Roll Cart System,22.368,2,0.2,2.5164\n",
            "6,CA-2014-115812,09/06/2014,14/06/2014,Standard Class,BH-11710,Brosina Hoffman,Consumer,United States,Los Angeles,California,90032,West,FUR-FU-10001487,Furniture,Furnishings,Eldon Expressions Wood and Plastic Desk Accessories  Cherry Wood,48.86,7,0.0,14.1694\n",
            "7,CA-2014-115812,09/06/2014,14/06/2014,Standard Class,BH-11710,Brosina Hoffman,Consumer,United States,Los Angeles,California,90032,West,OFF-AR-10002833,Office Supplies,Art,Newell 322,7.28,4,0.0,1.9656\n",
            "8,CA-2014-115812,09/06/2014,14/06/2014,Standard Class,BH-11710,Brosina Hoffman,Consumer,United States,Los Angeles,California,90032,West,TEC-PH-10002275,Technology,Phones,Mitel 5320 IP Phone VoIP phone,907.152,6,0.2,90.7152\n",
            "9,CA-2014-115812,09/06/2014,14/06/2014,Standard Class,BH-11710,Brosina Hoffman,Consumer,United States,Los Angeles,California,90032,West,OFF-BI-10003910,Office Supplies,Binders,DXL Angle-View Binders with Locking Rings by Samsill,18.504,3,0.2,5.7825\n"
          ]
        }
      ]
    },
    {
      "cell_type": "code",
      "source": [
        "data_file = 'datafile2.csv'\n",
        "Orders2_df = spark.read.csv(data_file,inferSchema=True, header=True)"
      ],
      "metadata": {
        "id": "rgKvVtgcYho2"
      },
      "execution_count": 16,
      "outputs": []
    },
    {
      "cell_type": "code",
      "source": [
        "Orders2_df.printSchema()\n",
        "# NOTE ... Sales, Quantity, Discount, Profit are now numeric"
      ],
      "metadata": {
        "colab": {
          "base_uri": "https://localhost:8080/"
        },
        "id": "0kk6vf35ZCz9",
        "outputId": "09c82646-06a3-418d-e3af-19e1d09ebaf0"
      },
      "execution_count": 17,
      "outputs": [
        {
          "output_type": "stream",
          "name": "stdout",
          "text": [
            "root\n",
            " |-- Row ID: integer (nullable = true)\n",
            " |-- Order ID: string (nullable = true)\n",
            " |-- Order Date: string (nullable = true)\n",
            " |-- Ship Date: string (nullable = true)\n",
            " |-- Ship Mode: string (nullable = true)\n",
            " |-- Customer ID: string (nullable = true)\n",
            " |-- Customer Name: string (nullable = true)\n",
            " |-- Segment: string (nullable = true)\n",
            " |-- Country: string (nullable = true)\n",
            " |-- City: string (nullable = true)\n",
            " |-- State: string (nullable = true)\n",
            " |-- Postal Code: integer (nullable = true)\n",
            " |-- Region: string (nullable = true)\n",
            " |-- Product ID: string (nullable = true)\n",
            " |-- Category: string (nullable = true)\n",
            " |-- Sub-Category: string (nullable = true)\n",
            " |-- Product Name: string (nullable = true)\n",
            " |-- Sales: double (nullable = true)\n",
            " |-- Quantity: integer (nullable = true)\n",
            " |-- Discount: double (nullable = true)\n",
            " |-- Profit: double (nullable = true)\n",
            "\n"
          ]
        }
      ]
    },
    {
      "cell_type": "code",
      "source": [
        "#Now convert dataframe into table called Orders\n",
        "Orders2_df.createOrReplaceTempView(\"Orders\")"
      ],
      "metadata": {
        "id": "zKWzcYRiZd7N"
      },
      "execution_count": 18,
      "outputs": []
    },
    {
      "cell_type": "code",
      "source": [
        "Orders = spark.sql(\"SELECT * FROM Orders limit 10\")\n",
        "Orders.show()"
      ],
      "metadata": {
        "colab": {
          "base_uri": "https://localhost:8080/"
        },
        "id": "wl9P2j9FZkwV",
        "outputId": "877a8a3c-b07d-4810-cb08-55886806dfdd"
      },
      "execution_count": 19,
      "outputs": [
        {
          "output_type": "stream",
          "name": "stdout",
          "text": [
            "+------+--------------+----------+----------+--------------+-----------+---------------+---------+-------------+---------------+----------+-----------+------+---------------+---------------+------------+--------------------+--------+--------+--------+--------+\n",
            "|Row ID|      Order ID|Order Date| Ship Date|     Ship Mode|Customer ID|  Customer Name|  Segment|      Country|           City|     State|Postal Code|Region|     Product ID|       Category|Sub-Category|        Product Name|   Sales|Quantity|Discount|  Profit|\n",
            "+------+--------------+----------+----------+--------------+-----------+---------------+---------+-------------+---------------+----------+-----------+------+---------------+---------------+------------+--------------------+--------+--------+--------+--------+\n",
            "|     1|CA-2016-152156|08/11/2016|11/11/2016|  Second Class|   CG-12520|    Claire Gute| Consumer|United States|      Henderson|  Kentucky|      42420| South|FUR-BO-10001798|      Furniture|   Bookcases|Bush Somerset Col...|  261.96|       2|     0.0| 41.9136|\n",
            "|     2|CA-2016-152156|08/11/2016|11/11/2016|  Second Class|   CG-12520|    Claire Gute| Consumer|United States|      Henderson|  Kentucky|      42420| South|FUR-CH-10000454|      Furniture|      Chairs|Hon Deluxe Fabric...|  731.94|       3|     0.0| 219.582|\n",
            "|     3|CA-2016-138688|12/06/2016|16/06/2016|  Second Class|   DV-13045|Darrin Van Huff|Corporate|United States|    Los Angeles|California|      90036|  West|OFF-LA-10000240|Office Supplies|      Labels|Self-Adhesive Add...|   14.62|       2|     0.0|  6.8714|\n",
            "|     4|US-2015-108966|11/10/2015|18/10/2015|Standard Class|   SO-20335| Sean O'Donnell| Consumer|United States|Fort Lauderdale|   Florida|      33311| South|FUR-TA-10000577|      Furniture|      Tables|Bretford CR4500 S...|957.5775|       5|    0.45|-383.031|\n",
            "|     5|US-2015-108966|11/10/2015|18/10/2015|Standard Class|   SO-20335| Sean O'Donnell| Consumer|United States|Fort Lauderdale|   Florida|      33311| South|OFF-ST-10000760|Office Supplies|     Storage|Eldon Fold 'N Rol...|  22.368|       2|     0.2|  2.5164|\n",
            "|     6|CA-2014-115812|09/06/2014|14/06/2014|Standard Class|   BH-11710|Brosina Hoffman| Consumer|United States|    Los Angeles|California|      90032|  West|FUR-FU-10001487|      Furniture| Furnishings|Eldon Expressions...|   48.86|       7|     0.0| 14.1694|\n",
            "|     7|CA-2014-115812|09/06/2014|14/06/2014|Standard Class|   BH-11710|Brosina Hoffman| Consumer|United States|    Los Angeles|California|      90032|  West|OFF-AR-10002833|Office Supplies|         Art|          Newell 322|    7.28|       4|     0.0|  1.9656|\n",
            "|     8|CA-2014-115812|09/06/2014|14/06/2014|Standard Class|   BH-11710|Brosina Hoffman| Consumer|United States|    Los Angeles|California|      90032|  West|TEC-PH-10002275|     Technology|      Phones|Mitel 5320 IP Pho...| 907.152|       6|     0.2| 90.7152|\n",
            "|     9|CA-2014-115812|09/06/2014|14/06/2014|Standard Class|   BH-11710|Brosina Hoffman| Consumer|United States|    Los Angeles|California|      90032|  West|OFF-BI-10003910|Office Supplies|     Binders|DXL Angle-View Bi...|  18.504|       3|     0.2|  5.7825|\n",
            "|    10|CA-2014-115812|09/06/2014|14/06/2014|Standard Class|   BH-11710|Brosina Hoffman| Consumer|United States|    Los Angeles|California|      90032|  West|OFF-AP-10002892|Office Supplies|  Appliances|Belkin F5C206VTEL...|   114.9|       5|     0.0|   34.47|\n",
            "+------+--------------+----------+----------+--------------+-----------+---------------+---------+-------------+---------------+----------+-----------+------+---------------+---------------+------------+--------------------+--------+--------+--------+--------+\n",
            "\n"
          ]
        }
      ]
    },
    {
      "cell_type": "markdown",
      "source": [
        "#Super Store Data Processing"
      ],
      "metadata": {
        "id": "jPrKpwKyaa7-"
      }
    },
    {
      "cell_type": "markdown",
      "source": [
        "##Simple Queries"
      ],
      "metadata": {
        "id": "qbeborIoafuR"
      }
    },
    {
      "cell_type": "code",
      "source": [
        "spark.sql(\"SELECT * FROM Orders limit 5\").show()"
      ],
      "metadata": {
        "colab": {
          "base_uri": "https://localhost:8080/"
        },
        "id": "26QOofMxaiwb",
        "outputId": "859a6f79-2b34-4a6f-fe2b-a48bf6da3126"
      },
      "execution_count": 20,
      "outputs": [
        {
          "output_type": "stream",
          "name": "stdout",
          "text": [
            "+------+--------------+----------+----------+--------------+-----------+---------------+---------+-------------+---------------+----------+-----------+------+---------------+---------------+------------+--------------------+--------+--------+--------+--------+\n",
            "|Row ID|      Order ID|Order Date| Ship Date|     Ship Mode|Customer ID|  Customer Name|  Segment|      Country|           City|     State|Postal Code|Region|     Product ID|       Category|Sub-Category|        Product Name|   Sales|Quantity|Discount|  Profit|\n",
            "+------+--------------+----------+----------+--------------+-----------+---------------+---------+-------------+---------------+----------+-----------+------+---------------+---------------+------------+--------------------+--------+--------+--------+--------+\n",
            "|     1|CA-2016-152156|08/11/2016|11/11/2016|  Second Class|   CG-12520|    Claire Gute| Consumer|United States|      Henderson|  Kentucky|      42420| South|FUR-BO-10001798|      Furniture|   Bookcases|Bush Somerset Col...|  261.96|       2|     0.0| 41.9136|\n",
            "|     2|CA-2016-152156|08/11/2016|11/11/2016|  Second Class|   CG-12520|    Claire Gute| Consumer|United States|      Henderson|  Kentucky|      42420| South|FUR-CH-10000454|      Furniture|      Chairs|Hon Deluxe Fabric...|  731.94|       3|     0.0| 219.582|\n",
            "|     3|CA-2016-138688|12/06/2016|16/06/2016|  Second Class|   DV-13045|Darrin Van Huff|Corporate|United States|    Los Angeles|California|      90036|  West|OFF-LA-10000240|Office Supplies|      Labels|Self-Adhesive Add...|   14.62|       2|     0.0|  6.8714|\n",
            "|     4|US-2015-108966|11/10/2015|18/10/2015|Standard Class|   SO-20335| Sean O'Donnell| Consumer|United States|Fort Lauderdale|   Florida|      33311| South|FUR-TA-10000577|      Furniture|      Tables|Bretford CR4500 S...|957.5775|       5|    0.45|-383.031|\n",
            "|     5|US-2015-108966|11/10/2015|18/10/2015|Standard Class|   SO-20335| Sean O'Donnell| Consumer|United States|Fort Lauderdale|   Florida|      33311| South|OFF-ST-10000760|Office Supplies|     Storage|Eldon Fold 'N Rol...|  22.368|       2|     0.2|  2.5164|\n",
            "+------+--------------+----------+----------+--------------+-----------+---------------+---------+-------------+---------------+----------+-----------+------+---------------+---------------+------------+--------------------+--------+--------+--------+--------+\n",
            "\n"
          ]
        }
      ]
    },
    {
      "cell_type": "code",
      "source": [
        "spark.sql(\"select count(Quantity) from Orders\").show()"
      ],
      "metadata": {
        "colab": {
          "base_uri": "https://localhost:8080/"
        },
        "id": "10aMvkmWa_MJ",
        "outputId": "ad12f9b5-9d7b-48ed-b9b4-4fcf60d871f6"
      },
      "execution_count": 21,
      "outputs": [
        {
          "output_type": "stream",
          "name": "stdout",
          "text": [
            "+---------------+\n",
            "|count(Quantity)|\n",
            "+---------------+\n",
            "|           9994|\n",
            "+---------------+\n",
            "\n"
          ]
        }
      ]
    },
    {
      "cell_type": "code",
      "source": [
        "#spark.sql(\"select Category, Sum(Sales), Sum(Profit) from Orders group by Category\").show()\n",
        "spark.sql(\"select Category, Round(Sum(Sales),2) Sales, Round(Sum(Profit),2) Profit  from Orders group by Category\").show()"
      ],
      "metadata": {
        "colab": {
          "base_uri": "https://localhost:8080/"
        },
        "id": "S8jBUQXjbAJv",
        "outputId": "d9fd3883-1808-4f00-a283-6b91f93ee179"
      },
      "execution_count": 22,
      "outputs": [
        {
          "output_type": "stream",
          "name": "stdout",
          "text": [
            "+---------------+---------+---------+\n",
            "|       Category|    Sales|   Profit|\n",
            "+---------------+---------+---------+\n",
            "|Office Supplies|719047.03| 122490.8|\n",
            "|      Furniture| 741999.8| 18451.27|\n",
            "|     Technology|836154.03|145454.95|\n",
            "+---------------+---------+---------+\n",
            "\n"
          ]
        }
      ]
    },
    {
      "cell_type": "code",
      "source": [
        "#spark.sql(\"select Region, Sum(Sales), Sum(Profit) from Orders group by Region\").show()\n",
        "spark.sql(\"select Region, Round(Sum(Sales)) Sales, round(Sum(Profit)) Profit from Orders group by Region\").show()"
      ],
      "metadata": {
        "colab": {
          "base_uri": "https://localhost:8080/"
        },
        "id": "S5LZwzYLbMci",
        "outputId": "4ee8433b-dec5-4ea0-d684-50f8a62226e0"
      },
      "execution_count": 23,
      "outputs": [
        {
          "output_type": "stream",
          "name": "stdout",
          "text": [
            "+-------+--------+--------+\n",
            "| Region|   Sales|  Profit|\n",
            "+-------+--------+--------+\n",
            "|  South|391722.0| 46749.0|\n",
            "|Central|501240.0| 39706.0|\n",
            "|   East|678781.0| 91523.0|\n",
            "|   West|725458.0|108418.0|\n",
            "+-------+--------+--------+\n",
            "\n"
          ]
        }
      ]
    },
    {
      "cell_type": "code",
      "source": [
        "#spark.sql(\"select Segment, Sum(Sales), Sum(Profit) from Orders group by Segment\").show()\n",
        "spark.sql(\"select Segment, Round(Sum(Sales)) Sales, Round(Sum(Profit)) Profit from Orders group by Segment\").show()\n"
      ],
      "metadata": {
        "colab": {
          "base_uri": "https://localhost:8080/"
        },
        "id": "jIgs-FyLbbht",
        "outputId": "926bf7f2-2e5d-46b1-e344-8734d7f1efb4"
      },
      "execution_count": 24,
      "outputs": [
        {
          "output_type": "stream",
          "name": "stdout",
          "text": [
            "+-----------+---------+--------+\n",
            "|    Segment|    Sales|  Profit|\n",
            "+-----------+---------+--------+\n",
            "|   Consumer|1161401.0|134119.0|\n",
            "|Home Office| 429653.0| 60299.0|\n",
            "|  Corporate| 706146.0| 91979.0|\n",
            "+-----------+---------+--------+\n",
            "\n"
          ]
        }
      ]
    },
    {
      "cell_type": "code",
      "source": [
        "#spark.sql(\"select Segment, Region, Sum(Sales) Sales from Orders group by Segment, Region\").show()\n",
        "spark.sql(\"select Segment, Region, round(Sum(Sales)) Sales from Orders group by Segment, Region\").show()"
      ],
      "metadata": {
        "colab": {
          "base_uri": "https://localhost:8080/"
        },
        "id": "2jSR4LQkboPT",
        "outputId": "e25905be-ff94-4600-8d79-e6a299e511f8"
      },
      "execution_count": 25,
      "outputs": [
        {
          "output_type": "stream",
          "name": "stdout",
          "text": [
            "+-----------+-------+--------+\n",
            "|    Segment| Region|   Sales|\n",
            "+-----------+-------+--------+\n",
            "|Home Office|   West|136722.0|\n",
            "|  Corporate|   West|225855.0|\n",
            "|   Consumer|   West|362881.0|\n",
            "|   Consumer|   East|350908.0|\n",
            "|Home Office|Central| 91213.0|\n",
            "|  Corporate|Central|157996.0|\n",
            "|  Corporate|  South|121886.0|\n",
            "|Home Office|  South| 74255.0|\n",
            "|   Consumer|  South|195581.0|\n",
            "|  Corporate|   East|200409.0|\n",
            "|Home Office|   East|127464.0|\n",
            "|   Consumer|Central|252031.0|\n",
            "+-----------+-------+--------+\n",
            "\n"
          ]
        }
      ]
    },
    {
      "cell_type": "code",
      "source": [
        "#spark.sql(\"select Segment, Region, Sum(Sales) Sales from Orders group by Segment, Region with Rollup\").show()\n",
        "spark.sql(\"select Segment, Region, round(Sum(Sales)) Sales from Orders group by Segment, Region with Rollup\").show()"
      ],
      "metadata": {
        "colab": {
          "base_uri": "https://localhost:8080/"
        },
        "id": "xeNEAsOsb-Rn",
        "outputId": "43b01cd8-e98f-4672-82bb-50f18829642d"
      },
      "execution_count": 26,
      "outputs": [
        {
          "output_type": "stream",
          "name": "stdout",
          "text": [
            "+-----------+-------+---------+\n",
            "|    Segment| Region|    Sales|\n",
            "+-----------+-------+---------+\n",
            "|  Corporate|   null| 706146.0|\n",
            "|Home Office|Central|  91213.0|\n",
            "|   Consumer|Central| 252031.0|\n",
            "|   Consumer|   West| 362881.0|\n",
            "|Home Office|   West| 136722.0|\n",
            "|  Corporate|  South| 121886.0|\n",
            "|  Corporate|   West| 225855.0|\n",
            "|       null|   null|2297201.0|\n",
            "|Home Office|   East| 127464.0|\n",
            "|Home Office|  South|  74255.0|\n",
            "|  Corporate|Central| 157996.0|\n",
            "|   Consumer|  South| 195581.0|\n",
            "|   Consumer|   East| 350908.0|\n",
            "|   Consumer|   null|1161401.0|\n",
            "|  Corporate|   East| 200409.0|\n",
            "|Home Office|   null| 429653.0|\n",
            "+-----------+-------+---------+\n",
            "\n"
          ]
        }
      ]
    },
    {
      "cell_type": "markdown",
      "source": [
        "##Cross Tabs"
      ],
      "metadata": {
        "id": "wqDPht3jcTbI"
      }
    },
    {
      "cell_type": "markdown",
      "source": [
        "###Inner Table"
      ],
      "metadata": {
        "id": "kYr7VLPAcWrt"
      }
    },
    {
      "cell_type": "code",
      "source": [
        "sums_df = spark.sql(\"\"\"   \n",
        "    SELECT \n",
        "        Segment,\n",
        "        SUM(IF(Region='Central',Sales,0)) As Central,\n",
        "        SUM(IF(Region='East',Sales,0)) As East,\n",
        "        SUM(IF(Region='West',Sales,0)) As West,\n",
        "        SUM(IF(Region='South',Sales,0)) As South\n",
        "    FROM Orders \n",
        "        GROUP BY Segment WITH ROLLUP \n",
        "\"\"\")\n",
        "sums_df.show()"
      ],
      "metadata": {
        "colab": {
          "base_uri": "https://localhost:8080/"
        },
        "id": "vMxFc5xygL4m",
        "outputId": "1a278684-90a4-4092-ad4e-c07d90f0d38c"
      },
      "execution_count": 27,
      "outputs": [
        {
          "output_type": "stream",
          "name": "stdout",
          "text": [
            "+-----------+------------------+------------------+------------------+------------------+\n",
            "|    Segment|           Central|              East|              West|             South|\n",
            "+-----------+------------------+------------------+------------------+------------------+\n",
            "|Home Office| 91212.64399999994|127463.72599999998| 136721.7769999999| 74255.00150000004|\n",
            "|  Corporate|       157995.8128|200409.34699999995|225855.27449999977|121885.93250000005|\n",
            "|       null| 501239.8908000005| 678781.2399999979| 725457.8245000006| 391721.9050000003|\n",
            "|   Consumer|252031.43400000007|350908.16700000066| 362880.7730000003|195580.97100000017|\n",
            "+-----------+------------------+------------------+------------------+------------------+\n",
            "\n"
          ]
        }
      ]
    },
    {
      "cell_type": "markdown",
      "source": [
        "###Outer Query"
      ],
      "metadata": {
        "id": "_kxVj0VpiPzY"
      }
    },
    {
      "cell_type": "code",
      "source": [
        "#sums_df.registerTempTable(\"sums\")\n",
        "sums_df.createOrReplaceTempView(\"sums\")\n",
        "#CrossTab = sqlContext.sql(\"\"\"\n",
        "CrossTab = spark.sql(\"\"\"\n",
        " SELECT \n",
        "  IFNULL(Segment,'#Totals') Dims, \n",
        "  sums.Central, sums.East, sums.West,sums.South,\n",
        "  sums.Central + sums.East + sums.West + sums.South Totals \n",
        "FROM sums\n",
        "order by Dims desc\n",
        "\"\"\")\n",
        "CrossTab.show()"
      ],
      "metadata": {
        "colab": {
          "base_uri": "https://localhost:8080/"
        },
        "id": "SJooUTpniSgq",
        "outputId": "ab2305db-1fc9-46d8-f1b3-801e9b164866"
      },
      "execution_count": 28,
      "outputs": [
        {
          "output_type": "stream",
          "name": "stdout",
          "text": [
            "+-----------+------------------+------------------+------------------+------------------+------------------+\n",
            "|       Dims|           Central|              East|              West|             South|            Totals|\n",
            "+-----------+------------------+------------------+------------------+------------------+------------------+\n",
            "|Home Office| 91212.64399999994|127463.72599999998| 136721.7769999999| 74255.00150000004| 429653.1484999999|\n",
            "|  Corporate|       157995.8128|200409.34699999995|225855.27449999977|121885.93250000005| 706146.3667999997|\n",
            "|   Consumer|252031.43400000007|350908.16700000066| 362880.7730000003|195580.97100000017|1161401.3450000011|\n",
            "|    #Totals| 501239.8908000005| 678781.2399999979| 725457.8245000006| 391721.9050000003|2297200.8602999994|\n",
            "+-----------+------------------+------------------+------------------+------------------+------------------+\n",
            "\n"
          ]
        }
      ]
    },
    {
      "cell_type": "code",
      "source": [
        "CrossTab = spark.sql(\"\"\"\n",
        " SELECT \n",
        "  IFNULL(Segment,'#Totals') Dims, \n",
        "  round(sums.Central,2) Central,\n",
        "  round(sums.East,2) East,\n",
        "  round(sums.West,2) West,\n",
        "  round(sums.South,2) South,\n",
        "  round(sums.Central + sums.East + sums.West + sums.South,2) Totals \n",
        "FROM sums\n",
        "order by Dims desc\n",
        "\"\"\")\n",
        "CrossTab.show()"
      ],
      "metadata": {
        "colab": {
          "base_uri": "https://localhost:8080/"
        },
        "id": "vrXZrBAZnsng",
        "outputId": "8bd9380f-9109-4ac8-920a-e7b7aef54156"
      },
      "execution_count": 29,
      "outputs": [
        {
          "output_type": "stream",
          "name": "stdout",
          "text": [
            "+-----------+---------+---------+---------+---------+----------+\n",
            "|       Dims|  Central|     East|     West|    South|    Totals|\n",
            "+-----------+---------+---------+---------+---------+----------+\n",
            "|Home Office| 91212.64|127463.73|136721.78|  74255.0| 429653.15|\n",
            "|  Corporate|157995.81|200409.35|225855.27|121885.93| 706146.37|\n",
            "|   Consumer|252031.43|350908.17|362880.77|195580.97|1161401.35|\n",
            "|    #Totals|501239.89|678781.24|725457.82|391721.91|2297200.86|\n",
            "+-----------+---------+---------+---------+---------+----------+\n",
            "\n"
          ]
        }
      ]
    },
    {
      "cell_type": "markdown",
      "source": [
        "## Auto Cleanup !\n",
        "Bypassing Pandas, Using SPARK features"
      ],
      "metadata": {
        "id": "tmlE2UwI6ZEj"
      }
    },
    {
      "cell_type": "code",
      "source": [
        "data_file = 'SS_Orders2.csv'\n",
        "raw_dataNC = sc.textFile(data_file)\n",
        "print (\"Data Size\", raw_dataNC.count())\n",
        "#eCommerce_df = spark.read.csv(data_file,inferSchema=True, header=True)\n",
        "Orders_dfNC = spark.read.csv(data_file,inferSchema=True, header=True, escape=\"\\\"\",quote=\"\\\"\")"
      ],
      "metadata": {
        "id": "rQIRMR176rt8",
        "outputId": "1a517088-e77c-4dad-d68e-55889539a3b5",
        "colab": {
          "base_uri": "https://localhost:8080/"
        }
      },
      "execution_count": 30,
      "outputs": [
        {
          "output_type": "stream",
          "name": "stdout",
          "text": [
            "Data Size 9995\n"
          ]
        }
      ]
    },
    {
      "cell_type": "code",
      "source": [
        "#eCommerce_df.printSchema()\n",
        "Orders_dfNC.printSchema()\n",
        "# NOTE that everything is NOT read as string ... numeric data has been read correctly"
      ],
      "metadata": {
        "id": "jc_AHu-U75k7",
        "outputId": "49896f81-3222-4c83-ed56-b7912b912de4",
        "colab": {
          "base_uri": "https://localhost:8080/"
        }
      },
      "execution_count": 31,
      "outputs": [
        {
          "output_type": "stream",
          "name": "stdout",
          "text": [
            "root\n",
            " |-- Row ID: integer (nullable = true)\n",
            " |-- Order ID: string (nullable = true)\n",
            " |-- Order Date: string (nullable = true)\n",
            " |-- Ship Date: string (nullable = true)\n",
            " |-- Ship Mode: string (nullable = true)\n",
            " |-- Customer ID: string (nullable = true)\n",
            " |-- Customer Name: string (nullable = true)\n",
            " |-- Segment: string (nullable = true)\n",
            " |-- Country: string (nullable = true)\n",
            " |-- City: string (nullable = true)\n",
            " |-- State: string (nullable = true)\n",
            " |-- Postal Code: integer (nullable = true)\n",
            " |-- Region: string (nullable = true)\n",
            " |-- Product ID: string (nullable = true)\n",
            " |-- Category: string (nullable = true)\n",
            " |-- Sub-Category: string (nullable = true)\n",
            " |-- Product Name: string (nullable = true)\n",
            " |-- Sales: double (nullable = true)\n",
            " |-- Quantity: integer (nullable = true)\n",
            " |-- Discount: double (nullable = true)\n",
            " |-- Profit: double (nullable = true)\n",
            "\n"
          ]
        }
      ]
    },
    {
      "cell_type": "code",
      "source": [
        "#Now convert dataframe into table called OrdersNC\n",
        "Orders_dfNC.createOrReplaceTempView(\"OrdersNC\")"
      ],
      "metadata": {
        "id": "ZSRf7lcJ8WWl"
      },
      "execution_count": 32,
      "outputs": []
    },
    {
      "cell_type": "code",
      "source": [
        "sums_dfNC = spark.sql(\"\"\"   \n",
        "    SELECT \n",
        "        Segment,\n",
        "        SUM(IF(Region='Central',Sales,0)) As Central,\n",
        "        SUM(IF(Region='East',Sales,0)) As East,\n",
        "        SUM(IF(Region='West',Sales,0)) As West,\n",
        "        SUM(IF(Region='South',Sales,0)) As South\n",
        "    FROM OrdersNC \n",
        "        GROUP BY Segment WITH ROLLUP \n",
        "\"\"\")\n",
        "sums_dfNC.show()"
      ],
      "metadata": {
        "id": "3xyLWHNS8iVc",
        "outputId": "f1d82a25-b9b1-4ef3-9f61-1cbcb740d7a1",
        "colab": {
          "base_uri": "https://localhost:8080/"
        }
      },
      "execution_count": 33,
      "outputs": [
        {
          "output_type": "stream",
          "name": "stdout",
          "text": [
            "+-----------+------------------+------------------+------------------+------------------+\n",
            "|    Segment|           Central|              East|              West|             South|\n",
            "+-----------+------------------+------------------+------------------+------------------+\n",
            "|Home Office| 91212.64399999994|127463.72599999998| 136721.7769999999| 74255.00150000004|\n",
            "|  Corporate|       157995.8128|200409.34699999995|225855.27449999977|121885.93250000005|\n",
            "|       null| 501239.8908000005| 678781.2399999979| 725457.8245000006| 391721.9050000003|\n",
            "|   Consumer|252031.43400000007|350908.16700000066| 362880.7730000003|195580.97100000017|\n",
            "+-----------+------------------+------------------+------------------+------------------+\n",
            "\n"
          ]
        }
      ]
    },
    {
      "cell_type": "code",
      "source": [
        "#sums_df.registerTempTable(\"sums\")\n",
        "sums_dfNC.createOrReplaceTempView(\"sumsNC\")\n",
        "#CrossTab = sqlContext.sql(\"\"\"\n",
        "CrossTabNC = spark.sql(\"\"\"\n",
        " SELECT \n",
        "  IFNULL(Segment,'#Totals') Dims, \n",
        "  sumsNC.Central, sumsNC.East, sumsNC.West, sumsNC.South,\n",
        "  sumsNC.Central + sumsNC.East + sumsNC.West + sumsNC.South Totals \n",
        "FROM sumsNC\n",
        "order by Dims desc\n",
        "\"\"\")\n",
        "CrossTabNC.show()"
      ],
      "metadata": {
        "id": "fvPCfgLa83T1",
        "outputId": "ce3228d4-af0e-41c8-a668-81084d9e4d51",
        "colab": {
          "base_uri": "https://localhost:8080/"
        }
      },
      "execution_count": 34,
      "outputs": [
        {
          "output_type": "stream",
          "name": "stdout",
          "text": [
            "+-----------+------------------+------------------+------------------+------------------+------------------+\n",
            "|       Dims|           Central|              East|              West|             South|            Totals|\n",
            "+-----------+------------------+------------------+------------------+------------------+------------------+\n",
            "|Home Office| 91212.64399999994|127463.72599999998| 136721.7769999999| 74255.00150000004| 429653.1484999999|\n",
            "|  Corporate|       157995.8128|200409.34699999995|225855.27449999977|121885.93250000005| 706146.3667999997|\n",
            "|   Consumer|252031.43400000007|350908.16700000066| 362880.7730000003|195580.97100000017|1161401.3450000011|\n",
            "|    #Totals| 501239.8908000005| 678781.2399999979| 725457.8245000006| 391721.9050000003|2297200.8602999994|\n",
            "+-----------+------------------+------------------+------------------+------------------+------------------+\n",
            "\n"
          ]
        }
      ]
    },
    {
      "cell_type": "code",
      "source": [
        "#sums_df.registerTempTable(\"sums\")\n",
        "sums_dfNC.createOrReplaceTempView(\"sumsNC\")\n",
        "#CrossTab = sqlContext.sql(\"\"\"\n",
        "CrossTabNC = spark.sql(\"\"\"\n",
        " SELECT \n",
        "  IFNULL(Segment,'#Totals') Dims, \n",
        "  round(sumsNC.Central,0) Central, round(sumsNC.East,0) East, round(sumsNC.West,0) West, round(sumsNC.South,0) South,\n",
        "  round(sumsNC.Central + sumsNC.East + sumsNC.West + sumsNC.South,0) Totals \n",
        "FROM sumsNC\n",
        "order by Dims desc\n",
        "\"\"\")\n",
        "CrossTabNC.show()\n",
        "\n",
        "\n",
        "# Compare the output with Crosstabs generated with \n",
        "# MySQL https://github.com/Praxis-QR/RDWH/blob/main/Cross_Tab_with_OLAP_Cube_SQL_Superstore.ipynb\n",
        "# Postgres https://github.com/Praxis-QR/RDWH/blob/main/CrossTab_Olap_Cube_Postgres_Superstore_Data.ipynb"
      ],
      "metadata": {
        "id": "u9NaLVOttzDD",
        "outputId": "0ebb4b67-4605-4f59-828d-068ba6fd7452",
        "colab": {
          "base_uri": "https://localhost:8080/"
        }
      },
      "execution_count": 35,
      "outputs": [
        {
          "output_type": "stream",
          "name": "stdout",
          "text": [
            "+-----------+--------+--------+--------+--------+---------+\n",
            "|       Dims| Central|    East|    West|   South|   Totals|\n",
            "+-----------+--------+--------+--------+--------+---------+\n",
            "|Home Office| 91213.0|127464.0|136722.0| 74255.0| 429653.0|\n",
            "|  Corporate|157996.0|200409.0|225855.0|121886.0| 706146.0|\n",
            "|   Consumer|252031.0|350908.0|362881.0|195581.0|1161401.0|\n",
            "|    #Totals|501240.0|678781.0|725458.0|391722.0|2297201.0|\n",
            "+-----------+--------+--------+--------+--------+---------+\n",
            "\n"
          ]
        }
      ]
    },
    {
      "cell_type": "code",
      "source": [
        "from datetime import datetime\n",
        "import pytz\n",
        "print('signed off at  ',datetime.now(pytz.timezone('Asia/Kolkata')))"
      ],
      "metadata": {
        "id": "Pj_KVUWkqaAq",
        "outputId": "108ed49f-89ab-44a3-cd41-22ef599a404b",
        "colab": {
          "base_uri": "https://localhost:8080/"
        }
      },
      "execution_count": 36,
      "outputs": [
        {
          "output_type": "stream",
          "name": "stdout",
          "text": [
            "signed off at   2023-05-24 11:33:06.893785+05:30\n"
          ]
        }
      ]
    },
    {
      "cell_type": "markdown",
      "metadata": {
        "id": "i6k-QLe07diM"
      },
      "source": [
        "#Chronobooks <br>\n",
        "![alt text](https://1.bp.blogspot.com/-lTiYBkU2qbU/X1er__fvnkI/AAAAAAAAjtE/GhDR3OEGJr4NG43fZPodrQD5kbxtnKebgCLcBGAsYHQ/s600/Footer2020-600x200.png)<hr>\n",
        "Chronotantra and Chronoyantra are two science fiction novels that explore the collapse of human civilisation on Earth and then its rebirth and reincarnation both on Earth as well as on the distant worlds of Mars, Titan and Enceladus. But is it the human civilisation that is being reborn? Or is it some other sentience that is revealing itself. \n",
        "If you have an interest in AI and found this material useful, you may consider buying these novels, in paperback or kindle, from [http://bit.ly/chronobooks](http://bit.ly/chronobooks)"
      ]
    }
  ]
}