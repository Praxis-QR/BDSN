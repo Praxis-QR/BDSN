{
  "nbformat": 4,
  "nbformat_minor": 0,
  "metadata": {
    "colab": {
      "provenance": [],
      "toc_visible": true,
      "include_colab_link": true
    },
    "kernelspec": {
      "name": "python3",
      "display_name": "Python 3"
    }
  },
  "cells": [
    {
      "cell_type": "markdown",
      "metadata": {
        "id": "view-in-github",
        "colab_type": "text"
      },
      "source": [
        "<a href=\"https://colab.research.google.com/github/Praxis-QR/BDSN/blob/main/BDSN_OLAP_Cubes_with_Spark_SQL.ipynb\" target=\"_parent\"><img src=\"https://colab.research.google.com/assets/colab-badge.svg\" alt=\"Open In Colab\"/></a>"
      ]
    },
    {
      "cell_type": "markdown",
      "metadata": {
        "id": "tfPMLrsUNbGj"
      },
      "source": [
        "![alt text](https://github.com/Praxis-QR/RDWH/raw/main/images/YantraJaalBanner.png)<br>\n",
        "\n",
        "\n",
        "<hr>\n",
        "\n",
        "[Prithwis Mukerjee](http://www.linkedin.com/in/prithwis)<br>"
      ]
    },
    {
      "cell_type": "markdown",
      "metadata": {
        "id": "BboV_Nt1pQuk"
      },
      "source": [
        "OLAP Cubes <br>\n",
        "https://docs.google.com/presentation/d/1rx_ek2E1F5MNberY2bxeRuEfPOeuVM_WcdAKyAbF_EQ/edit?usp=sharing <br>\n",
        "[Bigger Slide Deck](https://docs.google.com/presentation/d/1wQzZoHFo3NVk-dMTebHA4LH7B4KYmOfiSammjsSRGL0/edit?usp=sharing)"
      ]
    },
    {
      "cell_type": "code",
      "source": [
        "from datetime import datetime\n",
        "import pytz\n",
        "print('ॐ श्री सरस्वत्यै नमः',datetime.now(pytz.timezone('Asia/Calcutta')))\n",
        "!python --version\n",
        "!lsb_release -a"
      ],
      "metadata": {
        "colab": {
          "base_uri": "https://localhost:8080/"
        },
        "id": "YuvXhT_1by5n",
        "outputId": "ba45d707-5894-4fad-9f6f-b417de4f3448"
      },
      "execution_count": 1,
      "outputs": [
        {
          "output_type": "stream",
          "name": "stdout",
          "text": [
            "ॐ श्री सरस्वत्यै नमः 2023-09-13 05:51:27.551715+05:30\n",
            "Python 3.10.12\n",
            "No LSB modules are available.\n",
            "Distributor ID:\tUbuntu\n",
            "Description:\tUbuntu 22.04.2 LTS\n",
            "Release:\t22.04\n",
            "Codename:\tjammy\n"
          ]
        }
      ]
    },
    {
      "cell_type": "markdown",
      "metadata": {
        "id": "2w5onY7lNhki"
      },
      "source": [
        "#Install Spark"
      ]
    },
    {
      "cell_type": "code",
      "source": [
        "!apt-get update > /dev/null\n",
        "!apt-get install openjdk-8-jdk-headless -qq > /dev/null\n",
        "#!wget -q http://apache.osuosl.org/spark/spark-3.1.1/spark-3.1.1-bin-hadoop3.2.tgz\n",
        "#!wget -q http://apache.osuosl.org/spark/spark-3.1.2/spark-3.1.2-bin-hadoop3.2.tgz\n",
        "#\n",
        "# if the current version of Spark is not used, there may be errors\n",
        "# check here for current versions http://apache.osuosl.org/spark\n",
        "#\n",
        "\n",
        "#!tar xf spark-3.1.1-bin-hadoop3.2.tgz\n",
        "#!tar xf spark-3.1.2-bin-hadoop3.2.tgz\n",
        "#!pip install -q findspark\n",
        "#!pip install -q pyspark\n",
        "# -------------------------------------------------\n",
        "#import os\n",
        "#os.environ[\"JAVA_HOME\"] = \"/usr/lib/jvm/java-8-openjdk-amd64\"\n",
        "\n",
        "#os.environ[\"SPARK_HOME\"] = \"/content/spark-3.1.1-bin-hadoop3.2\"\n",
        "#os.environ[\"SPARK_HOME\"] = \"/content/spark-3.1.2-bin-hadoop3.2\"\n",
        "# ----------------------\n",
        "#import findspark\n",
        "#findspark.init()"
      ],
      "metadata": {
        "id": "LST8rTQyag3R"
      },
      "execution_count": 2,
      "outputs": []
    },
    {
      "cell_type": "code",
      "metadata": {
        "id": "hdvOd3XONSn4",
        "colab": {
          "base_uri": "https://localhost:8080/",
          "height": 248
        },
        "outputId": "84063b07-8bba-480b-9e0f-228dd65c7f99"
      },
      "source": [
        "!pip3 -q install pyspark\n",
        "from pyspark.sql import SparkSession\n",
        "spark = SparkSession.builder.master(\"local[*]\").getOrCreate()\n",
        "sc = spark.sparkContext\n",
        "sc"
      ],
      "execution_count": 3,
      "outputs": [
        {
          "output_type": "stream",
          "name": "stdout",
          "text": [
            "\u001b[2K     \u001b[90m━━━━━━━━━━━━━━━━━━━━━━━━━━━━━━━━━━━━━━━\u001b[0m \u001b[32m310.8/310.8 MB\u001b[0m \u001b[31m4.6 MB/s\u001b[0m eta \u001b[36m0:00:00\u001b[0m\n",
            "\u001b[?25h  Preparing metadata (setup.py) ... \u001b[?25l\u001b[?25hdone\n",
            "  Building wheel for pyspark (setup.py) ... \u001b[?25l\u001b[?25hdone\n"
          ]
        },
        {
          "output_type": "execute_result",
          "data": {
            "text/plain": [
              "<SparkContext master=local[*] appName=pyspark-shell>"
            ],
            "text/html": [
              "\n",
              "        <div>\n",
              "            <p><b>SparkContext</b></p>\n",
              "\n",
              "            <p><a href=\"http://65746b6c8471:4040\">Spark UI</a></p>\n",
              "\n",
              "            <dl>\n",
              "              <dt>Version</dt>\n",
              "                <dd><code>v3.4.1</code></dd>\n",
              "              <dt>Master</dt>\n",
              "                <dd><code>local[*]</code></dd>\n",
              "              <dt>AppName</dt>\n",
              "                <dd><code>pyspark-shell</code></dd>\n",
              "            </dl>\n",
              "        </div>\n",
              "        "
            ]
          },
          "metadata": {},
          "execution_count": 3
        }
      ]
    },
    {
      "cell_type": "markdown",
      "source": [
        "#Car Sales Data ( Small )"
      ],
      "metadata": {
        "id": "qg8L10rKmq7g"
      }
    },
    {
      "cell_type": "markdown",
      "metadata": {
        "id": "e5vEwXqGnvKC"
      },
      "source": [
        "##Load Data"
      ]
    },
    {
      "cell_type": "code",
      "metadata": {
        "id": "_Vyr9I9zhaGk",
        "colab": {
          "base_uri": "https://localhost:8080/"
        },
        "outputId": "7a8ed195-5e3a-469c-f199-74dbac12ceee"
      },
      "source": [
        "# https://drive.google.com/file/d/1JBGx9yMxpHrUO5BUmr12TpDDwLGLmal-/view\n",
        "!gdown \"https://drive.google.com/uc?id=1JBGx9yMxpHrUO5BUmr12TpDDwLGLmal-\""
      ],
      "execution_count": 4,
      "outputs": [
        {
          "output_type": "stream",
          "name": "stdout",
          "text": [
            "Downloading...\n",
            "From: https://drive.google.com/uc?id=1JBGx9yMxpHrUO5BUmr12TpDDwLGLmal-\n",
            "To: /content/carsales2-noHeader.txt\n",
            "\r  0% 0.00/576 [00:00<?, ?B/s]\r100% 576/576 [00:00<00:00, 4.27MB/s]\n"
          ]
        }
      ]
    },
    {
      "cell_type": "markdown",
      "metadata": {
        "id": "GXRfDX4EnxXr"
      },
      "source": [
        "##Process"
      ]
    },
    {
      "cell_type": "code",
      "metadata": {
        "id": "cYChP2CKzyES",
        "colab": {
          "base_uri": "https://localhost:8080/"
        },
        "outputId": "5f9da125-5355-40c0-b983-e5c8df463f9e"
      },
      "source": [
        "!cat carsales2-noHeader.txt"
      ],
      "execution_count": 5,
      "outputs": [
        {
          "output_type": "stream",
          "name": "stdout",
          "text": [
            "Honda,SUV,Red,31\r\n",
            "Honda,SUV,Blue,46\r\n",
            "Honda,SUV,Green,48\r\n",
            "Honda,Sedan,Red,25\r\n",
            "Honda,Sedan,Blue,41\r\n",
            "Honda,Sedan,Green,34\r\n",
            "Honda,Compact,Red,48\r\n",
            "Honda,Compact,Blue,26\r\n",
            "Honda,Compact,Green,32\r\n",
            "Toyota,SUV,Red,39\r\n",
            "Toyota,SUV,Blue,45\r\n",
            "Toyota,SUV,Green,50\r\n",
            "Toyota,Sedan,Red,41\r\n",
            "Toyota,Sedan,Blue,28\r\n",
            "Toyota,Sedan,Green,21\r\n",
            "Toyota,Compact,Red,44\r\n",
            "Toyota,Compact,Blue,50\r\n",
            "Toyota,Compact,Green,26\r\n",
            "Mazda,SUV,Red,29\r\n",
            "Mazda,SUV,Blue,28\r\n",
            "Mazda,SUV,Green,40\r\n",
            "Mazda,Sedan,Red,36\r\n",
            "Mazda,Sedan,Blue,48\r\n",
            "Mazda,Sedan,Green,49\r\n",
            "Mazda,Compact,Red,49\r\n",
            "Mazda,Compact,Blue,37\r\n",
            "Mazda,Compact,Green,50\r\n"
          ]
        }
      ]
    },
    {
      "cell_type": "code",
      "metadata": {
        "id": "22OBGQqNckJm"
      },
      "source": [
        "data_file = \"./carsales2-noHeader.txt\"\n",
        "# data imported without headers\n",
        "raw_data = sc.textFile(data_file).cache()"
      ],
      "execution_count": 6,
      "outputs": []
    },
    {
      "cell_type": "code",
      "metadata": {
        "id": "gNblVnJidDyL"
      },
      "source": [
        "#from pyspark.sql import SQLContext\n",
        "#sqlContext = SQLContext(sc)"
      ],
      "execution_count": null,
      "outputs": []
    },
    {
      "cell_type": "code",
      "metadata": {
        "id": "WlzdKF3VdLFu"
      },
      "source": [
        "from pyspark.sql import Row\n",
        "csv_data = raw_data.map(lambda l: l.split(\",\"))\n",
        "row_data = csv_data.map(lambda p: Row(\n",
        "    Make = p[0],                            #  names of columns\n",
        "    Style = p[1],\n",
        "    Colour = p[2],\n",
        "    Sales = int(p[3])\n",
        "  ))"
      ],
      "execution_count": 7,
      "outputs": []
    },
    {
      "cell_type": "markdown",
      "source": [
        "##Two Table Strategy ( Deprecated )"
      ],
      "metadata": {
        "id": "y-ycSNwy8IB8"
      }
    },
    {
      "cell_type": "markdown",
      "metadata": {
        "id": "_0H_SqBs599S"
      },
      "source": [
        "###Inner SQL Temp Table / First Dataframe"
      ]
    },
    {
      "cell_type": "code",
      "metadata": {
        "id": "pt8XjUZCdUiK"
      },
      "source": [
        "#CarSales_df = sqlContext.createDataFrame(row_data)\n",
        "#CarSales_df.registerTempTable(\"CarSales2\")\n",
        "CarSales_df = spark.createDataFrame(row_data)\n",
        "CarSales_df.createOrReplaceTempView(\"CarSales2\")\n"
      ],
      "execution_count": 8,
      "outputs": []
    },
    {
      "cell_type": "markdown",
      "source": [],
      "metadata": {
        "id": "rgXSkdeR8RvA"
      }
    },
    {
      "cell_type": "code",
      "metadata": {
        "id": "vbvRxrPr0C0w",
        "colab": {
          "base_uri": "https://localhost:8080/"
        },
        "outputId": "e54483c8-9fe2-4dfc-862f-219e059156b6"
      },
      "source": [
        "CarSales_df.show()"
      ],
      "execution_count": null,
      "outputs": [
        {
          "output_type": "stream",
          "name": "stdout",
          "text": [
            "+------+-------+------+-----+\n",
            "|  Make|  Style|Colour|Sales|\n",
            "+------+-------+------+-----+\n",
            "| Honda|    SUV|   Red|   31|\n",
            "| Honda|    SUV|  Blue|   46|\n",
            "| Honda|    SUV| Green|   48|\n",
            "| Honda|  Sedan|   Red|   25|\n",
            "| Honda|  Sedan|  Blue|   41|\n",
            "| Honda|  Sedan| Green|   34|\n",
            "| Honda|Compact|   Red|   48|\n",
            "| Honda|Compact|  Blue|   26|\n",
            "| Honda|Compact| Green|   32|\n",
            "|Toyota|    SUV|   Red|   39|\n",
            "|Toyota|    SUV|  Blue|   45|\n",
            "|Toyota|    SUV| Green|   50|\n",
            "|Toyota|  Sedan|   Red|   41|\n",
            "|Toyota|  Sedan|  Blue|   28|\n",
            "|Toyota|  Sedan| Green|   21|\n",
            "|Toyota|Compact|   Red|   44|\n",
            "|Toyota|Compact|  Blue|   50|\n",
            "|Toyota|Compact| Green|   26|\n",
            "| Mazda|    SUV|   Red|   29|\n",
            "| Mazda|    SUV|  Blue|   28|\n",
            "+------+-------+------+-----+\n",
            "only showing top 20 rows\n",
            "\n"
          ]
        }
      ]
    },
    {
      "cell_type": "code",
      "metadata": {
        "colab": {
          "base_uri": "https://localhost:8080/"
        },
        "id": "zl7zr4XembXE",
        "outputId": "9fb6ef48-f4ad-4368-b397-7173c416b3a3"
      },
      "source": [
        "#sqlContext.sql(\"SELECT * FROM CarSales2\").show()\n",
        "spark.sql(\"SELECT * FROM CarSales2\").show()"
      ],
      "execution_count": 9,
      "outputs": [
        {
          "output_type": "stream",
          "name": "stdout",
          "text": [
            "+------+-------+------+-----+\n",
            "|  Make|  Style|Colour|Sales|\n",
            "+------+-------+------+-----+\n",
            "| Honda|    SUV|   Red|   31|\n",
            "| Honda|    SUV|  Blue|   46|\n",
            "| Honda|    SUV| Green|   48|\n",
            "| Honda|  Sedan|   Red|   25|\n",
            "| Honda|  Sedan|  Blue|   41|\n",
            "| Honda|  Sedan| Green|   34|\n",
            "| Honda|Compact|   Red|   48|\n",
            "| Honda|Compact|  Blue|   26|\n",
            "| Honda|Compact| Green|   32|\n",
            "|Toyota|    SUV|   Red|   39|\n",
            "|Toyota|    SUV|  Blue|   45|\n",
            "|Toyota|    SUV| Green|   50|\n",
            "|Toyota|  Sedan|   Red|   41|\n",
            "|Toyota|  Sedan|  Blue|   28|\n",
            "|Toyota|  Sedan| Green|   21|\n",
            "|Toyota|Compact|   Red|   44|\n",
            "|Toyota|Compact|  Blue|   50|\n",
            "|Toyota|Compact| Green|   26|\n",
            "| Mazda|    SUV|   Red|   29|\n",
            "| Mazda|    SUV|  Blue|   28|\n",
            "+------+-------+------+-----+\n",
            "only showing top 20 rows\n",
            "\n"
          ]
        }
      ]
    },
    {
      "cell_type": "code",
      "metadata": {
        "id": "wqA9gBrKdaBZ",
        "colab": {
          "base_uri": "https://localhost:8080/"
        },
        "outputId": "f887f0e5-40ec-4539-a5ee-6462d7a232b0"
      },
      "source": [
        "#sums_df = sqlContext.sql(\"\"\"\n",
        "sums_df = spark.sql(\"\"\"\n",
        "  SELECT\n",
        "    Make,\n",
        "    SUM(IF(Style='SUV',Sales,0)) SUV,\n",
        "    SUM(IF(Style='Sedan',Sales,0)) Sedan,\n",
        "    SUM(IF(Style='Compact',Sales,0)) Compact\n",
        "  FROM CarSales2\n",
        "  GROUP BY Make WITH ROLLUP\n",
        "\"\"\")\n",
        "sums_df.show()"
      ],
      "execution_count": 10,
      "outputs": [
        {
          "output_type": "stream",
          "name": "stdout",
          "text": [
            "+------+---+-----+-------+\n",
            "|  Make|SUV|Sedan|Compact|\n",
            "+------+---+-----+-------+\n",
            "|  null|356|  323|    362|\n",
            "|Toyota|134|   90|    120|\n",
            "| Honda|125|  100|    106|\n",
            "| Mazda| 97|  133|    136|\n",
            "+------+---+-----+-------+\n",
            "\n"
          ]
        }
      ]
    },
    {
      "cell_type": "markdown",
      "metadata": {
        "id": "2ObbL71U6KM6"
      },
      "source": [
        "###Outer SQL"
      ]
    },
    {
      "cell_type": "code",
      "metadata": {
        "id": "V654s8q3dr5x",
        "colab": {
          "base_uri": "https://localhost:8080/"
        },
        "outputId": "8a65288f-5890-4130-9751-8a7f5a56aff9"
      },
      "source": [
        "#sums_df.registerTempTable(\"sums\")\n",
        "sums_df.createOrReplaceTempView(\"sums\")\n",
        "#CrossTab = sqlContext.sql(\"\"\"\n",
        "CrossTab = spark.sql(\"\"\"\n",
        " SELECT\n",
        "  IFNULL(Make,'#Totals') AS Dims,\n",
        "  SUV, Sedan, Compact,\n",
        "  SUV + Sedan + Compact AS Totals\n",
        " from sums\n",
        " order by Dims desc\n",
        "\"\"\")\n",
        "CrossTab.show()"
      ],
      "execution_count": 14,
      "outputs": [
        {
          "output_type": "stream",
          "name": "stdout",
          "text": [
            "+-------+---+-----+-------+------+\n",
            "|   Dims|SUV|Sedan|Compact|Totals|\n",
            "+-------+---+-----+-------+------+\n",
            "| Toyota|134|   90|    120|   344|\n",
            "|  Mazda| 97|  133|    136|   366|\n",
            "|  Honda|125|  100|    106|   331|\n",
            "|#Totals|356|  323|    362|  1041|\n",
            "+-------+---+-----+-------+------+\n",
            "\n"
          ]
        }
      ]
    },
    {
      "cell_type": "markdown",
      "source": [
        "##Single SQL with SubQuery"
      ],
      "metadata": {
        "id": "8KHLYUSy7GSK"
      }
    },
    {
      "cell_type": "code",
      "source": [
        "spark.sql('show tables').show()"
      ],
      "metadata": {
        "id": "zV4K3Kq_7R93",
        "outputId": "bd287a9d-b097-4da3-d403-7a4384617cfd",
        "colab": {
          "base_uri": "https://localhost:8080/"
        }
      },
      "execution_count": 13,
      "outputs": [
        {
          "output_type": "stream",
          "name": "stdout",
          "text": [
            "+---------+---------+-----------+\n",
            "|namespace|tableName|isTemporary|\n",
            "+---------+---------+-----------+\n",
            "|         |carsales2|       true|\n",
            "|         |     sums|       true|\n",
            "+---------+---------+-----------+\n",
            "\n"
          ]
        }
      ]
    },
    {
      "cell_type": "code",
      "source": [
        "CrossTab = spark.sql(\"\"\"\n",
        " SELECT\n",
        "  IFNULL(Make,'#Totals') AS Dims,\n",
        "  SUV, Sedan, Compact,\n",
        "  SUV + Sedan + Compact AS Totals\n",
        " from\n",
        " (SELECT\n",
        "    Make,\n",
        "    SUM(IF(Style='SUV',Sales,0)) SUV,\n",
        "    SUM(IF(Style='Sedan',Sales,0)) Sedan,\n",
        "    SUM(IF(Style='Compact',Sales,0)) Compact\n",
        "  FROM CarSales2\n",
        "  GROUP BY Make WITH ROLLUP\n",
        " ) as temp\n",
        " order by Dims desc\n",
        "\"\"\")\n",
        "CrossTab.show()"
      ],
      "metadata": {
        "id": "xAosZRzG7gFI",
        "outputId": "7a2fe09a-065b-4285-b96a-3b60949303ed",
        "colab": {
          "base_uri": "https://localhost:8080/"
        }
      },
      "execution_count": 15,
      "outputs": [
        {
          "output_type": "stream",
          "name": "stdout",
          "text": [
            "+-------+---+-----+-------+------+\n",
            "|   Dims|SUV|Sedan|Compact|Totals|\n",
            "+-------+---+-----+-------+------+\n",
            "| Toyota|134|   90|    120|   344|\n",
            "|  Mazda| 97|  133|    136|   366|\n",
            "|  Honda|125|  100|    106|   331|\n",
            "|#Totals|356|  323|    362|  1041|\n",
            "+-------+---+-----+-------+------+\n",
            "\n"
          ]
        }
      ]
    },
    {
      "cell_type": "markdown",
      "source": [
        "#Super Store Data ( Large)"
      ],
      "metadata": {
        "id": "hVHk7m4jRl7z"
      }
    },
    {
      "cell_type": "markdown",
      "source": [
        "##Load Data\n",
        "Super Store Order Data https://drive.google.com/file/d/13MKOpo8iD-tMkeMLw-4IPFi5-xWhmqFZ/view?usp=sharing <br>\n",
        "Original Data from [Tableau](https://community.tableau.com/docs/DOC-1236)"
      ],
      "metadata": {
        "id": "rBMpKDNWRpNA"
      }
    },
    {
      "cell_type": "code",
      "source": [
        "#!wget -O SS_Orders2.csv 'https://drive.google.com/uc?export=download&id=13MKOpo8iD-tMkeMLw-4IPFi5-xWhmqFZ'\n",
        "!wget -q -O SS_Orders.csv 'https://raw.githubusercontent.com/Praxis-QR/RDWH/main/data/SS_Orders.csv'"
      ],
      "metadata": {
        "colab": {
          "base_uri": "https://localhost:8080/"
        },
        "id": "f4qMutRTRrn7",
        "outputId": "bf9f5086-649d-4452-f917-ded9f4797b98"
      },
      "execution_count": 16,
      "outputs": [
        {
          "output_type": "stream",
          "name": "stdout",
          "text": [
            "--2023-09-13 00:29:53--  https://drive.google.com/uc?export=download&id=13MKOpo8iD-tMkeMLw-4IPFi5-xWhmqFZ\n",
            "Resolving drive.google.com (drive.google.com)... 142.250.152.102, 142.250.152.138, 142.250.152.101, ...\n",
            "Connecting to drive.google.com (drive.google.com)|142.250.152.102|:443... connected.\n",
            "HTTP request sent, awaiting response... 303 See Other\n",
            "Location: https://doc-14-5g-docs.googleusercontent.com/docs/securesc/ha0ro937gcuc7l7deffksulhg5h7mbp1/mieocq4jtu4hj4u880b66d2g5bgucbcb/1694564925000/15264228191300097767/*/13MKOpo8iD-tMkeMLw-4IPFi5-xWhmqFZ?e=download&uuid=198ee414-89a7-4128-9abb-3c90b6426c0f [following]\n",
            "Warning: wildcards not supported in HTTP.\n",
            "--2023-09-13 00:29:54--  https://doc-14-5g-docs.googleusercontent.com/docs/securesc/ha0ro937gcuc7l7deffksulhg5h7mbp1/mieocq4jtu4hj4u880b66d2g5bgucbcb/1694564925000/15264228191300097767/*/13MKOpo8iD-tMkeMLw-4IPFi5-xWhmqFZ?e=download&uuid=198ee414-89a7-4128-9abb-3c90b6426c0f\n",
            "Resolving doc-14-5g-docs.googleusercontent.com (doc-14-5g-docs.googleusercontent.com)... 172.253.114.132, 2607:f8b0:4001:c22::84\n",
            "Connecting to doc-14-5g-docs.googleusercontent.com (doc-14-5g-docs.googleusercontent.com)|172.253.114.132|:443... connected.\n",
            "HTTP request sent, awaiting response... 200 OK\n",
            "Length: 2302058 (2.2M) [text/csv]\n",
            "Saving to: ‘SS_Orders2.csv’\n",
            "\n",
            "SS_Orders2.csv      100%[===================>]   2.20M  --.-KB/s    in 0.05s   \n",
            "\n",
            "2023-09-13 00:29:54 (40.9 MB/s) - ‘SS_Orders2.csv’ saved [2302058/2302058]\n",
            "\n"
          ]
        }
      ]
    },
    {
      "cell_type": "code",
      "source": [
        "!head SS_Orders2.csv"
      ],
      "metadata": {
        "colab": {
          "base_uri": "https://localhost:8080/"
        },
        "id": "fl2wSABMR4nc",
        "outputId": "daa72213-12ff-41cb-e664-a858b8b2d7a4"
      },
      "execution_count": 17,
      "outputs": [
        {
          "output_type": "stream",
          "name": "stdout",
          "text": [
            "Row ID,Order ID,Order Date,Ship Date,Ship Mode,Customer ID,Customer Name,Segment,Country,City,State,Postal Code,Region,Product ID,Category,Sub-Category,Product Name,Sales,Quantity,Discount,Profit\n",
            "1,CA-2016-152156,08/11/2016,11/11/2016,Second Class,CG-12520,Claire Gute,Consumer,United States,Henderson,Kentucky,42420,South,FUR-BO-10001798,Furniture,Bookcases,Bush Somerset Collection Bookcase,261.96,2,0,41.9136\n",
            "2,CA-2016-152156,08/11/2016,11/11/2016,Second Class,CG-12520,Claire Gute,Consumer,United States,Henderson,Kentucky,42420,South,FUR-CH-10000454,Furniture,Chairs,\"Hon Deluxe Fabric Upholstered Stacking Chairs, Rounded Back\",731.94,3,0,219.582\n",
            "3,CA-2016-138688,12/06/2016,16/06/2016,Second Class,DV-13045,Darrin Van Huff,Corporate,United States,Los Angeles,California,90036,West,OFF-LA-10000240,Office Supplies,Labels,Self-Adhesive Address Labels for Typewriters by Universal,14.62,2,0,6.8714\n",
            "4,US-2015-108966,11/10/2015,18/10/2015,Standard Class,SO-20335,Sean O'Donnell,Consumer,United States,Fort Lauderdale,Florida,33311,South,FUR-TA-10000577,Furniture,Tables,Bretford CR4500 Series Slim Rectangular Table,957.5775,5,0.45,-383.031\n",
            "5,US-2015-108966,11/10/2015,18/10/2015,Standard Class,SO-20335,Sean O'Donnell,Consumer,United States,Fort Lauderdale,Florida,33311,South,OFF-ST-10000760,Office Supplies,Storage,Eldon Fold 'N Roll Cart System,22.368,2,0.2,2.5164\n",
            "6,CA-2014-115812,09/06/2014,14/06/2014,Standard Class,BH-11710,Brosina Hoffman,Consumer,United States,Los Angeles,California,90032,West,FUR-FU-10001487,Furniture,Furnishings,\"Eldon Expressions Wood and Plastic Desk Accessories, Cherry Wood\",48.86,7,0,14.1694\n",
            "7,CA-2014-115812,09/06/2014,14/06/2014,Standard Class,BH-11710,Brosina Hoffman,Consumer,United States,Los Angeles,California,90032,West,OFF-AR-10002833,Office Supplies,Art,Newell 322,7.28,4,0,1.9656\n",
            "8,CA-2014-115812,09/06/2014,14/06/2014,Standard Class,BH-11710,Brosina Hoffman,Consumer,United States,Los Angeles,California,90032,West,TEC-PH-10002275,Technology,Phones,Mitel 5320 IP Phone VoIP phone,907.152,6,0.2,90.7152\n",
            "9,CA-2014-115812,09/06/2014,14/06/2014,Standard Class,BH-11710,Brosina Hoffman,Consumer,United States,Los Angeles,California,90032,West,OFF-BI-10003910,Office Supplies,Binders,DXL Angle-View Binders with Locking Rings by Samsill,18.504,3,0.2,5.7825\n"
          ]
        }
      ]
    },
    {
      "cell_type": "markdown",
      "source": [
        "##Clean Up"
      ],
      "metadata": {
        "id": "7SKIZ0FlV664"
      }
    },
    {
      "cell_type": "code",
      "source": [
        "data_file = 'SS_Orders2.csv'\n",
        "raw_data = sc.textFile(data_file)\n",
        "print (\"Data Size\", raw_data.count())\n",
        "#eCommerce_df = spark.read.csv(data_file,inferSchema=True, header=True)\n",
        "Orders_df = spark.read.csv(data_file,inferSchema=True, header=True)"
      ],
      "metadata": {
        "colab": {
          "base_uri": "https://localhost:8080/"
        },
        "id": "-nxGQeJhTAZt",
        "outputId": "c7422d51-c5c5-4671-ddea-f72fd15910cd"
      },
      "execution_count": 18,
      "outputs": [
        {
          "output_type": "stream",
          "name": "stdout",
          "text": [
            "Data Size 9995\n"
          ]
        }
      ]
    },
    {
      "cell_type": "code",
      "source": [
        "#Orders2_df = spark.read.csv(data_file,inferSchema=True, header=True)"
      ],
      "metadata": {
        "id": "BgIjZiXIYfGQ"
      },
      "execution_count": null,
      "outputs": []
    },
    {
      "cell_type": "code",
      "source": [
        "#eCommerce_df.printSchema()\n",
        "Orders_df.printSchema()\n",
        "# NOTE that everything is read as string ... this will not do!"
      ],
      "metadata": {
        "colab": {
          "base_uri": "https://localhost:8080/"
        },
        "id": "ND6ukqzATVg6",
        "outputId": "64e60612-70a3-4c17-d525-88118417c49b"
      },
      "execution_count": 19,
      "outputs": [
        {
          "output_type": "stream",
          "name": "stdout",
          "text": [
            "root\n",
            " |-- Row ID: integer (nullable = true)\n",
            " |-- Order ID: string (nullable = true)\n",
            " |-- Order Date: string (nullable = true)\n",
            " |-- Ship Date: string (nullable = true)\n",
            " |-- Ship Mode: string (nullable = true)\n",
            " |-- Customer ID: string (nullable = true)\n",
            " |-- Customer Name: string (nullable = true)\n",
            " |-- Segment: string (nullable = true)\n",
            " |-- Country: string (nullable = true)\n",
            " |-- City: string (nullable = true)\n",
            " |-- State: string (nullable = true)\n",
            " |-- Postal Code: integer (nullable = true)\n",
            " |-- Region: string (nullable = true)\n",
            " |-- Product ID: string (nullable = true)\n",
            " |-- Category: string (nullable = true)\n",
            " |-- Sub-Category: string (nullable = true)\n",
            " |-- Product Name: string (nullable = true)\n",
            " |-- Sales: string (nullable = true)\n",
            " |-- Quantity: string (nullable = true)\n",
            " |-- Discount: string (nullable = true)\n",
            " |-- Profit: double (nullable = true)\n",
            "\n"
          ]
        }
      ]
    },
    {
      "cell_type": "code",
      "source": [
        "!head SS_Orders2.csv"
      ],
      "metadata": {
        "colab": {
          "base_uri": "https://localhost:8080/"
        },
        "id": "aH3-LolwWDZb",
        "outputId": "9a563f4f-7cf9-4a53-85a0-4f82c79878eb"
      },
      "execution_count": 20,
      "outputs": [
        {
          "output_type": "stream",
          "name": "stdout",
          "text": [
            "Row ID,Order ID,Order Date,Ship Date,Ship Mode,Customer ID,Customer Name,Segment,Country,City,State,Postal Code,Region,Product ID,Category,Sub-Category,Product Name,Sales,Quantity,Discount,Profit\n",
            "1,CA-2016-152156,08/11/2016,11/11/2016,Second Class,CG-12520,Claire Gute,Consumer,United States,Henderson,Kentucky,42420,South,FUR-BO-10001798,Furniture,Bookcases,Bush Somerset Collection Bookcase,261.96,2,0,41.9136\n",
            "2,CA-2016-152156,08/11/2016,11/11/2016,Second Class,CG-12520,Claire Gute,Consumer,United States,Henderson,Kentucky,42420,South,FUR-CH-10000454,Furniture,Chairs,\"Hon Deluxe Fabric Upholstered Stacking Chairs, Rounded Back\",731.94,3,0,219.582\n",
            "3,CA-2016-138688,12/06/2016,16/06/2016,Second Class,DV-13045,Darrin Van Huff,Corporate,United States,Los Angeles,California,90036,West,OFF-LA-10000240,Office Supplies,Labels,Self-Adhesive Address Labels for Typewriters by Universal,14.62,2,0,6.8714\n",
            "4,US-2015-108966,11/10/2015,18/10/2015,Standard Class,SO-20335,Sean O'Donnell,Consumer,United States,Fort Lauderdale,Florida,33311,South,FUR-TA-10000577,Furniture,Tables,Bretford CR4500 Series Slim Rectangular Table,957.5775,5,0.45,-383.031\n",
            "5,US-2015-108966,11/10/2015,18/10/2015,Standard Class,SO-20335,Sean O'Donnell,Consumer,United States,Fort Lauderdale,Florida,33311,South,OFF-ST-10000760,Office Supplies,Storage,Eldon Fold 'N Roll Cart System,22.368,2,0.2,2.5164\n",
            "6,CA-2014-115812,09/06/2014,14/06/2014,Standard Class,BH-11710,Brosina Hoffman,Consumer,United States,Los Angeles,California,90032,West,FUR-FU-10001487,Furniture,Furnishings,\"Eldon Expressions Wood and Plastic Desk Accessories, Cherry Wood\",48.86,7,0,14.1694\n",
            "7,CA-2014-115812,09/06/2014,14/06/2014,Standard Class,BH-11710,Brosina Hoffman,Consumer,United States,Los Angeles,California,90032,West,OFF-AR-10002833,Office Supplies,Art,Newell 322,7.28,4,0,1.9656\n",
            "8,CA-2014-115812,09/06/2014,14/06/2014,Standard Class,BH-11710,Brosina Hoffman,Consumer,United States,Los Angeles,California,90032,West,TEC-PH-10002275,Technology,Phones,Mitel 5320 IP Phone VoIP phone,907.152,6,0.2,90.7152\n",
            "9,CA-2014-115812,09/06/2014,14/06/2014,Standard Class,BH-11710,Brosina Hoffman,Consumer,United States,Los Angeles,California,90032,West,OFF-BI-10003910,Office Supplies,Binders,DXL Angle-View Binders with Locking Rings by Samsill,18.504,3,0.2,5.7825\n"
          ]
        }
      ]
    },
    {
      "cell_type": "code",
      "source": [
        "#we remove the CRLF character from the end of the row if it exists\n",
        "!sed 's/\\r//g' /content/SS_Orders2.csv > datafile.csv\n",
        "# remove the first line containing headers from the file\n",
        "#!sed -i -e \"1d\" datafile.csv\n",
        "!head datafile.csv"
      ],
      "metadata": {
        "colab": {
          "base_uri": "https://localhost:8080/"
        },
        "id": "PBKoVAnsWjup",
        "outputId": "6d0a5405-41b8-4500-94e5-6516db5f9af9"
      },
      "execution_count": 21,
      "outputs": [
        {
          "output_type": "stream",
          "name": "stdout",
          "text": [
            "Row ID,Order ID,Order Date,Ship Date,Ship Mode,Customer ID,Customer Name,Segment,Country,City,State,Postal Code,Region,Product ID,Category,Sub-Category,Product Name,Sales,Quantity,Discount,Profit\n",
            "1,CA-2016-152156,08/11/2016,11/11/2016,Second Class,CG-12520,Claire Gute,Consumer,United States,Henderson,Kentucky,42420,South,FUR-BO-10001798,Furniture,Bookcases,Bush Somerset Collection Bookcase,261.96,2,0,41.9136\n",
            "2,CA-2016-152156,08/11/2016,11/11/2016,Second Class,CG-12520,Claire Gute,Consumer,United States,Henderson,Kentucky,42420,South,FUR-CH-10000454,Furniture,Chairs,\"Hon Deluxe Fabric Upholstered Stacking Chairs, Rounded Back\",731.94,3,0,219.582\n",
            "3,CA-2016-138688,12/06/2016,16/06/2016,Second Class,DV-13045,Darrin Van Huff,Corporate,United States,Los Angeles,California,90036,West,OFF-LA-10000240,Office Supplies,Labels,Self-Adhesive Address Labels for Typewriters by Universal,14.62,2,0,6.8714\n",
            "4,US-2015-108966,11/10/2015,18/10/2015,Standard Class,SO-20335,Sean O'Donnell,Consumer,United States,Fort Lauderdale,Florida,33311,South,FUR-TA-10000577,Furniture,Tables,Bretford CR4500 Series Slim Rectangular Table,957.5775,5,0.45,-383.031\n",
            "5,US-2015-108966,11/10/2015,18/10/2015,Standard Class,SO-20335,Sean O'Donnell,Consumer,United States,Fort Lauderdale,Florida,33311,South,OFF-ST-10000760,Office Supplies,Storage,Eldon Fold 'N Roll Cart System,22.368,2,0.2,2.5164\n",
            "6,CA-2014-115812,09/06/2014,14/06/2014,Standard Class,BH-11710,Brosina Hoffman,Consumer,United States,Los Angeles,California,90032,West,FUR-FU-10001487,Furniture,Furnishings,\"Eldon Expressions Wood and Plastic Desk Accessories, Cherry Wood\",48.86,7,0,14.1694\n",
            "7,CA-2014-115812,09/06/2014,14/06/2014,Standard Class,BH-11710,Brosina Hoffman,Consumer,United States,Los Angeles,California,90032,West,OFF-AR-10002833,Office Supplies,Art,Newell 322,7.28,4,0,1.9656\n",
            "8,CA-2014-115812,09/06/2014,14/06/2014,Standard Class,BH-11710,Brosina Hoffman,Consumer,United States,Los Angeles,California,90032,West,TEC-PH-10002275,Technology,Phones,Mitel 5320 IP Phone VoIP phone,907.152,6,0.2,90.7152\n",
            "9,CA-2014-115812,09/06/2014,14/06/2014,Standard Class,BH-11710,Brosina Hoffman,Consumer,United States,Los Angeles,California,90032,West,OFF-BI-10003910,Office Supplies,Binders,DXL Angle-View Binders with Locking Rings by Samsill,18.504,3,0.2,5.7825\n"
          ]
        }
      ]
    },
    {
      "cell_type": "code",
      "source": [
        "# remove , and \" from data\n",
        "import pandas as pd\n",
        "p_df = pd.read_csv('datafile.csv')\n",
        "#p_df = pd.read_csv('datafile.csv')\n",
        "p_df2 = p_df.replace(',', ' ', regex=True)\n",
        "p_df3 = p_df2.replace('\"', '', regex=True)\n",
        "p_df3.to_csv('datafile2.csv',index=False,sep=',')\n",
        "!head datafile2.csv"
      ],
      "metadata": {
        "colab": {
          "base_uri": "https://localhost:8080/"
        },
        "id": "8uq15EkDW7vu",
        "outputId": "7099042f-c189-44b9-fa9f-228aa840b5a6"
      },
      "execution_count": 22,
      "outputs": [
        {
          "output_type": "stream",
          "name": "stdout",
          "text": [
            "Row ID,Order ID,Order Date,Ship Date,Ship Mode,Customer ID,Customer Name,Segment,Country,City,State,Postal Code,Region,Product ID,Category,Sub-Category,Product Name,Sales,Quantity,Discount,Profit\n",
            "1,CA-2016-152156,08/11/2016,11/11/2016,Second Class,CG-12520,Claire Gute,Consumer,United States,Henderson,Kentucky,42420,South,FUR-BO-10001798,Furniture,Bookcases,Bush Somerset Collection Bookcase,261.96,2,0.0,41.9136\n",
            "2,CA-2016-152156,08/11/2016,11/11/2016,Second Class,CG-12520,Claire Gute,Consumer,United States,Henderson,Kentucky,42420,South,FUR-CH-10000454,Furniture,Chairs,Hon Deluxe Fabric Upholstered Stacking Chairs  Rounded Back,731.94,3,0.0,219.582\n",
            "3,CA-2016-138688,12/06/2016,16/06/2016,Second Class,DV-13045,Darrin Van Huff,Corporate,United States,Los Angeles,California,90036,West,OFF-LA-10000240,Office Supplies,Labels,Self-Adhesive Address Labels for Typewriters by Universal,14.62,2,0.0,6.8714\n",
            "4,US-2015-108966,11/10/2015,18/10/2015,Standard Class,SO-20335,Sean O'Donnell,Consumer,United States,Fort Lauderdale,Florida,33311,South,FUR-TA-10000577,Furniture,Tables,Bretford CR4500 Series Slim Rectangular Table,957.5775,5,0.45,-383.031\n",
            "5,US-2015-108966,11/10/2015,18/10/2015,Standard Class,SO-20335,Sean O'Donnell,Consumer,United States,Fort Lauderdale,Florida,33311,South,OFF-ST-10000760,Office Supplies,Storage,Eldon Fold 'N Roll Cart System,22.368,2,0.2,2.5164\n",
            "6,CA-2014-115812,09/06/2014,14/06/2014,Standard Class,BH-11710,Brosina Hoffman,Consumer,United States,Los Angeles,California,90032,West,FUR-FU-10001487,Furniture,Furnishings,Eldon Expressions Wood and Plastic Desk Accessories  Cherry Wood,48.86,7,0.0,14.1694\n",
            "7,CA-2014-115812,09/06/2014,14/06/2014,Standard Class,BH-11710,Brosina Hoffman,Consumer,United States,Los Angeles,California,90032,West,OFF-AR-10002833,Office Supplies,Art,Newell 322,7.28,4,0.0,1.9656\n",
            "8,CA-2014-115812,09/06/2014,14/06/2014,Standard Class,BH-11710,Brosina Hoffman,Consumer,United States,Los Angeles,California,90032,West,TEC-PH-10002275,Technology,Phones,Mitel 5320 IP Phone VoIP phone,907.152,6,0.2,90.7152\n",
            "9,CA-2014-115812,09/06/2014,14/06/2014,Standard Class,BH-11710,Brosina Hoffman,Consumer,United States,Los Angeles,California,90032,West,OFF-BI-10003910,Office Supplies,Binders,DXL Angle-View Binders with Locking Rings by Samsill,18.504,3,0.2,5.7825\n"
          ]
        }
      ]
    },
    {
      "cell_type": "code",
      "source": [
        "data_file = 'datafile2.csv'\n",
        "Orders2_df = spark.read.csv(data_file,inferSchema=True, header=True)"
      ],
      "metadata": {
        "id": "rgKvVtgcYho2"
      },
      "execution_count": 23,
      "outputs": []
    },
    {
      "cell_type": "code",
      "source": [
        "Orders2_df.printSchema()\n",
        "# NOTE ... Sales, Quantity, Discount, Profit are now numeric"
      ],
      "metadata": {
        "colab": {
          "base_uri": "https://localhost:8080/"
        },
        "id": "0kk6vf35ZCz9",
        "outputId": "5fcc0257-0f35-42fb-a373-52a1446cdd55"
      },
      "execution_count": 24,
      "outputs": [
        {
          "output_type": "stream",
          "name": "stdout",
          "text": [
            "root\n",
            " |-- Row ID: integer (nullable = true)\n",
            " |-- Order ID: string (nullable = true)\n",
            " |-- Order Date: string (nullable = true)\n",
            " |-- Ship Date: string (nullable = true)\n",
            " |-- Ship Mode: string (nullable = true)\n",
            " |-- Customer ID: string (nullable = true)\n",
            " |-- Customer Name: string (nullable = true)\n",
            " |-- Segment: string (nullable = true)\n",
            " |-- Country: string (nullable = true)\n",
            " |-- City: string (nullable = true)\n",
            " |-- State: string (nullable = true)\n",
            " |-- Postal Code: integer (nullable = true)\n",
            " |-- Region: string (nullable = true)\n",
            " |-- Product ID: string (nullable = true)\n",
            " |-- Category: string (nullable = true)\n",
            " |-- Sub-Category: string (nullable = true)\n",
            " |-- Product Name: string (nullable = true)\n",
            " |-- Sales: double (nullable = true)\n",
            " |-- Quantity: integer (nullable = true)\n",
            " |-- Discount: double (nullable = true)\n",
            " |-- Profit: double (nullable = true)\n",
            "\n"
          ]
        }
      ]
    },
    {
      "cell_type": "code",
      "source": [
        "#Now convert dataframe into table called Orders\n",
        "Orders2_df.createOrReplaceTempView(\"Orders\")"
      ],
      "metadata": {
        "id": "zKWzcYRiZd7N"
      },
      "execution_count": 25,
      "outputs": []
    },
    {
      "cell_type": "code",
      "source": [
        "Orders = spark.sql(\"SELECT * FROM Orders limit 20\")\n",
        "Orders.show()"
      ],
      "metadata": {
        "colab": {
          "base_uri": "https://localhost:8080/"
        },
        "id": "wl9P2j9FZkwV",
        "outputId": "0831473e-c37d-403d-87bb-43a2dd298873"
      },
      "execution_count": null,
      "outputs": [
        {
          "output_type": "stream",
          "name": "stdout",
          "text": [
            "+------+--------------+----------+----------+--------------+-----------+------------------+-----------+-------------+---------------+--------------+-----------+-------+---------------+---------------+------------+--------------------+--------+--------+--------+----------------+\n",
            "|Row ID|      Order ID|Order Date| Ship Date|     Ship Mode|Customer ID|     Customer Name|    Segment|      Country|           City|         State|Postal Code| Region|     Product ID|       Category|Sub-Category|        Product Name|   Sales|Quantity|Discount|          Profit|\n",
            "+------+--------------+----------+----------+--------------+-----------+------------------+-----------+-------------+---------------+--------------+-----------+-------+---------------+---------------+------------+--------------------+--------+--------+--------+----------------+\n",
            "|     1|CA-2016-152156|08/11/2016|11/11/2016|  Second Class|   CG-12520|       Claire Gute|   Consumer|United States|      Henderson|      Kentucky|      42420|  South|FUR-BO-10001798|      Furniture|   Bookcases|Bush Somerset Col...|  261.96|       2|     0.0|         41.9136|\n",
            "|     2|CA-2016-152156|08/11/2016|11/11/2016|  Second Class|   CG-12520|       Claire Gute|   Consumer|United States|      Henderson|      Kentucky|      42420|  South|FUR-CH-10000454|      Furniture|      Chairs|Hon Deluxe Fabric...|  731.94|       3|     0.0|         219.582|\n",
            "|     3|CA-2016-138688|12/06/2016|16/06/2016|  Second Class|   DV-13045|   Darrin Van Huff|  Corporate|United States|    Los Angeles|    California|      90036|   West|OFF-LA-10000240|Office Supplies|      Labels|Self-Adhesive Add...|   14.62|       2|     0.0|          6.8714|\n",
            "|     4|US-2015-108966|11/10/2015|18/10/2015|Standard Class|   SO-20335|    Sean O'Donnell|   Consumer|United States|Fort Lauderdale|       Florida|      33311|  South|FUR-TA-10000577|      Furniture|      Tables|Bretford CR4500 S...|957.5775|       5|    0.45|        -383.031|\n",
            "|     5|US-2015-108966|11/10/2015|18/10/2015|Standard Class|   SO-20335|    Sean O'Donnell|   Consumer|United States|Fort Lauderdale|       Florida|      33311|  South|OFF-ST-10000760|Office Supplies|     Storage|Eldon Fold 'N Rol...|  22.368|       2|     0.2|          2.5164|\n",
            "|     6|CA-2014-115812|09/06/2014|14/06/2014|Standard Class|   BH-11710|   Brosina Hoffman|   Consumer|United States|    Los Angeles|    California|      90032|   West|FUR-FU-10001487|      Furniture| Furnishings|Eldon Expressions...|   48.86|       7|     0.0|         14.1694|\n",
            "|     7|CA-2014-115812|09/06/2014|14/06/2014|Standard Class|   BH-11710|   Brosina Hoffman|   Consumer|United States|    Los Angeles|    California|      90032|   West|OFF-AR-10002833|Office Supplies|         Art|          Newell 322|    7.28|       4|     0.0|          1.9656|\n",
            "|     8|CA-2014-115812|09/06/2014|14/06/2014|Standard Class|   BH-11710|   Brosina Hoffman|   Consumer|United States|    Los Angeles|    California|      90032|   West|TEC-PH-10002275|     Technology|      Phones|Mitel 5320 IP Pho...| 907.152|       6|     0.2|         90.7152|\n",
            "|     9|CA-2014-115812|09/06/2014|14/06/2014|Standard Class|   BH-11710|   Brosina Hoffman|   Consumer|United States|    Los Angeles|    California|      90032|   West|OFF-BI-10003910|Office Supplies|     Binders|DXL Angle-View Bi...|  18.504|       3|     0.2|          5.7825|\n",
            "|    10|CA-2014-115812|09/06/2014|14/06/2014|Standard Class|   BH-11710|   Brosina Hoffman|   Consumer|United States|    Los Angeles|    California|      90032|   West|OFF-AP-10002892|Office Supplies|  Appliances|Belkin F5C206VTEL...|   114.9|       5|     0.0|           34.47|\n",
            "|    11|CA-2014-115812|09/06/2014|14/06/2014|Standard Class|   BH-11710|   Brosina Hoffman|   Consumer|United States|    Los Angeles|    California|      90032|   West|FUR-TA-10001539|      Furniture|      Tables|Chromcraft Rectan...|1706.184|       9|     0.2|85.3091999999998|\n",
            "|    12|CA-2014-115812|09/06/2014|14/06/2014|Standard Class|   BH-11710|   Brosina Hoffman|   Consumer|United States|    Los Angeles|    California|      90032|   West|TEC-PH-10002033|     Technology|      Phones|Konftel 250 Confe...| 911.424|       4|     0.2|         68.3568|\n",
            "|    13|CA-2017-114412|15/04/2017|20/04/2017|Standard Class|   AA-10480|      Andrew Allen|   Consumer|United States|        Concord|North Carolina|      28027|  South|OFF-PA-10002365|Office Supplies|       Paper|          Xerox 1967|  15.552|       3|     0.2|          5.4432|\n",
            "|    14|CA-2016-161389|05/12/2016|10/12/2016|Standard Class|   IM-15070|      Irene Maddox|   Consumer|United States|        Seattle|    Washington|      98103|   West|OFF-BI-10003656|Office Supplies|     Binders|Fellowes PB200 Pl...| 407.976|       3|     0.2|        132.5922|\n",
            "|    15|US-2015-118983|22/11/2015|26/11/2015|Standard Class|   HP-14815|     Harold Pawlan|Home Office|United States|     Fort Worth|         Texas|      76106|Central|OFF-AP-10002311|Office Supplies|  Appliances|Holmes Replacemen...|   68.81|       5|     0.8|        -123.858|\n",
            "|    16|US-2015-118983|22/11/2015|26/11/2015|Standard Class|   HP-14815|     Harold Pawlan|Home Office|United States|     Fort Worth|         Texas|      76106|Central|OFF-BI-10000756|Office Supplies|     Binders|Storex DuraTech R...|   2.544|       3|     0.8|          -3.816|\n",
            "|    17|CA-2014-105893|11/11/2014|18/11/2014|Standard Class|   PK-19075|         Pete Kriz|   Consumer|United States|        Madison|     Wisconsin|      53711|Central|OFF-ST-10004186|Office Supplies|     Storage|Stur-D-Stor Shelv...|  665.88|       6|     0.0|         13.3176|\n",
            "|    18|CA-2014-167164|13/05/2014|15/05/2014|  Second Class|   AG-10270|   Alejandro Grove|   Consumer|United States|    West Jordan|          Utah|      84084|   West|OFF-ST-10000107|Office Supplies|     Storage|Fellowes Super St...|    55.5|       2|     0.0|            9.99|\n",
            "|    19|CA-2014-143336|27/08/2014|01/09/2014|  Second Class|   ZD-21925|Zuschuss Donatelli|   Consumer|United States|  San Francisco|    California|      94109|   West|OFF-AR-10003056|Office Supplies|         Art|          Newell 341|    8.56|       2|     0.0|          2.4824|\n",
            "|    20|CA-2014-143336|27/08/2014|01/09/2014|  Second Class|   ZD-21925|Zuschuss Donatelli|   Consumer|United States|  San Francisco|    California|      94109|   West|TEC-PH-10001949|     Technology|      Phones|Cisco SPA 501G IP...|  213.48|       3|     0.2|          16.011|\n",
            "+------+--------------+----------+----------+--------------+-----------+------------------+-----------+-------------+---------------+--------------+-----------+-------+---------------+---------------+------------+--------------------+--------+--------+--------+----------------+\n",
            "\n"
          ]
        }
      ]
    },
    {
      "cell_type": "markdown",
      "source": [
        "#Super Store Data Processing"
      ],
      "metadata": {
        "id": "jPrKpwKyaa7-"
      }
    },
    {
      "cell_type": "markdown",
      "source": [
        "##Simple Queries"
      ],
      "metadata": {
        "id": "qbeborIoafuR"
      }
    },
    {
      "cell_type": "code",
      "source": [
        "spark.sql(\"SELECT * FROM Orders limit 20\").show()"
      ],
      "metadata": {
        "colab": {
          "base_uri": "https://localhost:8080/"
        },
        "id": "26QOofMxaiwb",
        "outputId": "fa80d1fd-aaff-4007-9856-b88495e1c3e6"
      },
      "execution_count": null,
      "outputs": [
        {
          "output_type": "stream",
          "name": "stdout",
          "text": [
            "+------+--------------+----------+----------+--------------+-----------+------------------+-----------+-------------+---------------+--------------+-----------+-------+---------------+---------------+------------+--------------------+--------+--------+--------+----------------+\n",
            "|Row ID|      Order ID|Order Date| Ship Date|     Ship Mode|Customer ID|     Customer Name|    Segment|      Country|           City|         State|Postal Code| Region|     Product ID|       Category|Sub-Category|        Product Name|   Sales|Quantity|Discount|          Profit|\n",
            "+------+--------------+----------+----------+--------------+-----------+------------------+-----------+-------------+---------------+--------------+-----------+-------+---------------+---------------+------------+--------------------+--------+--------+--------+----------------+\n",
            "|     1|CA-2016-152156|08/11/2016|11/11/2016|  Second Class|   CG-12520|       Claire Gute|   Consumer|United States|      Henderson|      Kentucky|      42420|  South|FUR-BO-10001798|      Furniture|   Bookcases|Bush Somerset Col...|  261.96|       2|     0.0|         41.9136|\n",
            "|     2|CA-2016-152156|08/11/2016|11/11/2016|  Second Class|   CG-12520|       Claire Gute|   Consumer|United States|      Henderson|      Kentucky|      42420|  South|FUR-CH-10000454|      Furniture|      Chairs|Hon Deluxe Fabric...|  731.94|       3|     0.0|         219.582|\n",
            "|     3|CA-2016-138688|12/06/2016|16/06/2016|  Second Class|   DV-13045|   Darrin Van Huff|  Corporate|United States|    Los Angeles|    California|      90036|   West|OFF-LA-10000240|Office Supplies|      Labels|Self-Adhesive Add...|   14.62|       2|     0.0|          6.8714|\n",
            "|     4|US-2015-108966|11/10/2015|18/10/2015|Standard Class|   SO-20335|    Sean O'Donnell|   Consumer|United States|Fort Lauderdale|       Florida|      33311|  South|FUR-TA-10000577|      Furniture|      Tables|Bretford CR4500 S...|957.5775|       5|    0.45|        -383.031|\n",
            "|     5|US-2015-108966|11/10/2015|18/10/2015|Standard Class|   SO-20335|    Sean O'Donnell|   Consumer|United States|Fort Lauderdale|       Florida|      33311|  South|OFF-ST-10000760|Office Supplies|     Storage|Eldon Fold 'N Rol...|  22.368|       2|     0.2|          2.5164|\n",
            "|     6|CA-2014-115812|09/06/2014|14/06/2014|Standard Class|   BH-11710|   Brosina Hoffman|   Consumer|United States|    Los Angeles|    California|      90032|   West|FUR-FU-10001487|      Furniture| Furnishings|Eldon Expressions...|   48.86|       7|     0.0|         14.1694|\n",
            "|     7|CA-2014-115812|09/06/2014|14/06/2014|Standard Class|   BH-11710|   Brosina Hoffman|   Consumer|United States|    Los Angeles|    California|      90032|   West|OFF-AR-10002833|Office Supplies|         Art|          Newell 322|    7.28|       4|     0.0|          1.9656|\n",
            "|     8|CA-2014-115812|09/06/2014|14/06/2014|Standard Class|   BH-11710|   Brosina Hoffman|   Consumer|United States|    Los Angeles|    California|      90032|   West|TEC-PH-10002275|     Technology|      Phones|Mitel 5320 IP Pho...| 907.152|       6|     0.2|         90.7152|\n",
            "|     9|CA-2014-115812|09/06/2014|14/06/2014|Standard Class|   BH-11710|   Brosina Hoffman|   Consumer|United States|    Los Angeles|    California|      90032|   West|OFF-BI-10003910|Office Supplies|     Binders|DXL Angle-View Bi...|  18.504|       3|     0.2|          5.7825|\n",
            "|    10|CA-2014-115812|09/06/2014|14/06/2014|Standard Class|   BH-11710|   Brosina Hoffman|   Consumer|United States|    Los Angeles|    California|      90032|   West|OFF-AP-10002892|Office Supplies|  Appliances|Belkin F5C206VTEL...|   114.9|       5|     0.0|           34.47|\n",
            "|    11|CA-2014-115812|09/06/2014|14/06/2014|Standard Class|   BH-11710|   Brosina Hoffman|   Consumer|United States|    Los Angeles|    California|      90032|   West|FUR-TA-10001539|      Furniture|      Tables|Chromcraft Rectan...|1706.184|       9|     0.2|85.3091999999998|\n",
            "|    12|CA-2014-115812|09/06/2014|14/06/2014|Standard Class|   BH-11710|   Brosina Hoffman|   Consumer|United States|    Los Angeles|    California|      90032|   West|TEC-PH-10002033|     Technology|      Phones|Konftel 250 Confe...| 911.424|       4|     0.2|         68.3568|\n",
            "|    13|CA-2017-114412|15/04/2017|20/04/2017|Standard Class|   AA-10480|      Andrew Allen|   Consumer|United States|        Concord|North Carolina|      28027|  South|OFF-PA-10002365|Office Supplies|       Paper|          Xerox 1967|  15.552|       3|     0.2|          5.4432|\n",
            "|    14|CA-2016-161389|05/12/2016|10/12/2016|Standard Class|   IM-15070|      Irene Maddox|   Consumer|United States|        Seattle|    Washington|      98103|   West|OFF-BI-10003656|Office Supplies|     Binders|Fellowes PB200 Pl...| 407.976|       3|     0.2|        132.5922|\n",
            "|    15|US-2015-118983|22/11/2015|26/11/2015|Standard Class|   HP-14815|     Harold Pawlan|Home Office|United States|     Fort Worth|         Texas|      76106|Central|OFF-AP-10002311|Office Supplies|  Appliances|Holmes Replacemen...|   68.81|       5|     0.8|        -123.858|\n",
            "|    16|US-2015-118983|22/11/2015|26/11/2015|Standard Class|   HP-14815|     Harold Pawlan|Home Office|United States|     Fort Worth|         Texas|      76106|Central|OFF-BI-10000756|Office Supplies|     Binders|Storex DuraTech R...|   2.544|       3|     0.8|          -3.816|\n",
            "|    17|CA-2014-105893|11/11/2014|18/11/2014|Standard Class|   PK-19075|         Pete Kriz|   Consumer|United States|        Madison|     Wisconsin|      53711|Central|OFF-ST-10004186|Office Supplies|     Storage|Stur-D-Stor Shelv...|  665.88|       6|     0.0|         13.3176|\n",
            "|    18|CA-2014-167164|13/05/2014|15/05/2014|  Second Class|   AG-10270|   Alejandro Grove|   Consumer|United States|    West Jordan|          Utah|      84084|   West|OFF-ST-10000107|Office Supplies|     Storage|Fellowes Super St...|    55.5|       2|     0.0|            9.99|\n",
            "|    19|CA-2014-143336|27/08/2014|01/09/2014|  Second Class|   ZD-21925|Zuschuss Donatelli|   Consumer|United States|  San Francisco|    California|      94109|   West|OFF-AR-10003056|Office Supplies|         Art|          Newell 341|    8.56|       2|     0.0|          2.4824|\n",
            "|    20|CA-2014-143336|27/08/2014|01/09/2014|  Second Class|   ZD-21925|Zuschuss Donatelli|   Consumer|United States|  San Francisco|    California|      94109|   West|TEC-PH-10001949|     Technology|      Phones|Cisco SPA 501G IP...|  213.48|       3|     0.2|          16.011|\n",
            "+------+--------------+----------+----------+--------------+-----------+------------------+-----------+-------------+---------------+--------------+-----------+-------+---------------+---------------+------------+--------------------+--------+--------+--------+----------------+\n",
            "\n"
          ]
        }
      ]
    },
    {
      "cell_type": "code",
      "source": [
        "spark.sql(\"select count(Quantity) from Orders\").show()"
      ],
      "metadata": {
        "colab": {
          "base_uri": "https://localhost:8080/"
        },
        "id": "10aMvkmWa_MJ",
        "outputId": "883c9fb9-4486-4914-8137-4f769ea5a10b"
      },
      "execution_count": null,
      "outputs": [
        {
          "output_type": "stream",
          "name": "stdout",
          "text": [
            "+---------------+\n",
            "|count(Quantity)|\n",
            "+---------------+\n",
            "|           9994|\n",
            "+---------------+\n",
            "\n"
          ]
        }
      ]
    },
    {
      "cell_type": "code",
      "source": [
        "spark.sql(\"select Category, Sum(Sales), Sum(Profit) from Orders group by Category\").show()"
      ],
      "metadata": {
        "colab": {
          "base_uri": "https://localhost:8080/"
        },
        "id": "S8jBUQXjbAJv",
        "outputId": "6ac37789-c2d1-4660-cbe6-9f78f8cb1983"
      },
      "execution_count": null,
      "outputs": [
        {
          "output_type": "stream",
          "name": "stdout",
          "text": [
            "+---------------+-----------------+------------------+\n",
            "|       Category|       sum(Sales)|       sum(Profit)|\n",
            "+---------------+-----------------+------------------+\n",
            "|Office Supplies|719047.0320000029|122490.80080000011|\n",
            "|      Furniture|741999.7952999998|        18451.2728|\n",
            "|     Technology|836154.0329999966| 145454.9480999999|\n",
            "+---------------+-----------------+------------------+\n",
            "\n"
          ]
        }
      ]
    },
    {
      "cell_type": "code",
      "source": [
        "spark.sql(\"select Region, Sum(Sales), Sum(Profit) from Orders group by Region\").show()"
      ],
      "metadata": {
        "colab": {
          "base_uri": "https://localhost:8080/"
        },
        "id": "S5LZwzYLbMci",
        "outputId": "cdd2b70a-8f49-4a61-81ae-b24396b35cbe"
      },
      "execution_count": null,
      "outputs": [
        {
          "output_type": "stream",
          "name": "stdout",
          "text": [
            "+-------+-----------------+------------------+\n",
            "| Region|       sum(Sales)|       sum(Profit)|\n",
            "+-------+-----------------+------------------+\n",
            "|  South|391721.9050000003| 46749.43030000006|\n",
            "|Central|501239.8908000005| 39706.36249999998|\n",
            "|   East|678781.2399999979| 91522.78000000026|\n",
            "|   West|725457.8245000006|108418.44890000016|\n",
            "+-------+-----------------+------------------+\n",
            "\n"
          ]
        }
      ]
    },
    {
      "cell_type": "code",
      "source": [
        "spark.sql(\"select Segment, Sum(Sales), Sum(Profit) from Orders group by Segment\").show()\n"
      ],
      "metadata": {
        "colab": {
          "base_uri": "https://localhost:8080/"
        },
        "id": "jIgs-FyLbbht",
        "outputId": "8e5c48f2-9277-41d9-abb6-8bacc609e871"
      },
      "execution_count": null,
      "outputs": [
        {
          "output_type": "stream",
          "name": "stdout",
          "text": [
            "+-----------+------------------+------------------+\n",
            "|    Segment|        sum(Sales)|       sum(Profit)|\n",
            "+-----------+------------------+------------------+\n",
            "|   Consumer|1161401.3449999888|134119.20919999972|\n",
            "|Home Office| 429653.1485000003| 60298.67850000009|\n",
            "|  Corporate| 706146.3668000001| 91979.13400000021|\n",
            "+-----------+------------------+------------------+\n",
            "\n"
          ]
        }
      ]
    },
    {
      "cell_type": "code",
      "source": [
        "spark.sql(\"select Segment, Region, Sum(Sales) Sales from Orders group by Segment, Region\").show()"
      ],
      "metadata": {
        "colab": {
          "base_uri": "https://localhost:8080/"
        },
        "id": "2jSR4LQkboPT",
        "outputId": "11bdae3f-e4b9-4836-e69f-6fdb7387ee75"
      },
      "execution_count": null,
      "outputs": [
        {
          "output_type": "stream",
          "name": "stdout",
          "text": [
            "+-----------+-------+------------------+\n",
            "|    Segment| Region|             Sales|\n",
            "+-----------+-------+------------------+\n",
            "|Home Office|   West| 136721.7769999999|\n",
            "|  Corporate|   West|225855.27449999977|\n",
            "|   Consumer|   West| 362880.7730000003|\n",
            "|   Consumer|   East|350908.16700000066|\n",
            "|Home Office|Central| 91212.64399999994|\n",
            "|  Corporate|Central|       157995.8128|\n",
            "|  Corporate|  South|121885.93250000005|\n",
            "|Home Office|  South| 74255.00150000004|\n",
            "|   Consumer|  South|195580.97100000017|\n",
            "|  Corporate|   East|200409.34699999995|\n",
            "|Home Office|   East|127463.72599999998|\n",
            "|   Consumer|Central|252031.43400000007|\n",
            "+-----------+-------+------------------+\n",
            "\n"
          ]
        }
      ]
    },
    {
      "cell_type": "code",
      "source": [
        "spark.sql(\"select Segment, Region, Sum(Sales) Sales from Orders group by Segment, Region with Rollup\").show()"
      ],
      "metadata": {
        "colab": {
          "base_uri": "https://localhost:8080/"
        },
        "id": "xeNEAsOsb-Rn",
        "outputId": "207f0f5f-91a9-4e45-9b19-0f49e9ed0a12"
      },
      "execution_count": null,
      "outputs": [
        {
          "output_type": "stream",
          "name": "stdout",
          "text": [
            "+-----------+-------+------------------+\n",
            "|    Segment| Region|             Sales|\n",
            "+-----------+-------+------------------+\n",
            "|  Corporate|   null| 706146.3668000001|\n",
            "|Home Office|Central| 91212.64399999994|\n",
            "|   Consumer|Central|252031.43400000007|\n",
            "|   Consumer|   West| 362880.7730000003|\n",
            "|Home Office|   West| 136721.7769999999|\n",
            "|  Corporate|  South|121885.93250000005|\n",
            "|  Corporate|   West|225855.27449999977|\n",
            "|       null|   null| 2297200.860299955|\n",
            "|Home Office|   East|127463.72599999998|\n",
            "|Home Office|  South| 74255.00150000004|\n",
            "|  Corporate|Central|       157995.8128|\n",
            "|   Consumer|  South|195580.97100000017|\n",
            "|   Consumer|   East|350908.16700000066|\n",
            "|   Consumer|   null|1161401.3449999888|\n",
            "|  Corporate|   East|200409.34699999995|\n",
            "|Home Office|   null| 429653.1485000003|\n",
            "+-----------+-------+------------------+\n",
            "\n"
          ]
        }
      ]
    },
    {
      "cell_type": "markdown",
      "source": [
        "##Cross Tabs"
      ],
      "metadata": {
        "id": "wqDPht3jcTbI"
      }
    },
    {
      "cell_type": "markdown",
      "source": [
        "###Sales"
      ],
      "metadata": {
        "id": "yfZ6XXvHGA41"
      }
    },
    {
      "cell_type": "markdown",
      "source": [
        "####Single Table"
      ],
      "metadata": {
        "id": "P7vLFhpy8zQG"
      }
    },
    {
      "cell_type": "code",
      "source": [
        "CrossTab = spark.sql(\"\"\"\n",
        " SELECT\n",
        "  IFNULL(Segment,'#Totals') Dims,\n",
        "  round(sums.Central,2) Central,\n",
        "  round(sums.East,2) East,\n",
        "  round(sums.West,2) West,\n",
        "  round(sums.South,2) South,\n",
        "  round(sums.Central + sums.East + sums.West + sums.South,2) Totals\n",
        "FROM (\n",
        "SELECT\n",
        "        Segment,\n",
        "        SUM(IF(Region='Central',Sales,0)) As Central,\n",
        "        SUM(IF(Region='East',Sales,0)) As East,\n",
        "        SUM(IF(Region='West',Sales,0)) As West,\n",
        "        SUM(IF(Region='South',Sales,0)) As South\n",
        "    FROM Orders\n",
        "        GROUP BY Segment WITH ROLLUP\n",
        ") as sums\n",
        "order by Dims desc\n",
        "\"\"\")\n",
        "CrossTab.show()"
      ],
      "metadata": {
        "id": "31r9i6Kb87ST",
        "outputId": "d0c87baa-b08e-4355-dbf6-5a3d54077522",
        "colab": {
          "base_uri": "https://localhost:8080/"
        }
      },
      "execution_count": 30,
      "outputs": [
        {
          "output_type": "stream",
          "name": "stdout",
          "text": [
            "+-----------+---------+---------+---------+---------+----------+\n",
            "|       Dims|  Central|     East|     West|    South|    Totals|\n",
            "+-----------+---------+---------+---------+---------+----------+\n",
            "|Home Office| 91212.64|127463.73|136721.78|  74255.0| 429653.15|\n",
            "|  Corporate|157995.81|200409.35|225855.27|121885.93| 706146.37|\n",
            "|   Consumer|252031.43|350908.17|362880.77|195580.97|1161401.35|\n",
            "|    #Totals|501239.89|678781.24|725457.82|391721.91|2297200.86|\n",
            "+-----------+---------+---------+---------+---------+----------+\n",
            "\n"
          ]
        }
      ]
    },
    {
      "cell_type": "markdown",
      "source": [
        "###Quantity"
      ],
      "metadata": {
        "id": "vekeVGo_GMSP"
      }
    },
    {
      "cell_type": "markdown",
      "source": [
        "####Single Table Strategy"
      ],
      "metadata": {
        "id": "CritTaB-Il1J"
      }
    },
    {
      "cell_type": "code",
      "source": [
        "CrossTab = spark.sql(\"\"\"\n",
        " SELECT\n",
        "  IFNULL(Category,'#Totals') Dims,\n",
        "  sumsQ.Central, sumsQ.East, sumsQ.West,sumsQ.South,\n",
        "  sumsQ.Central + sumsQ.East + sumsQ.West + sumsQ.South Totals\n",
        "FROM (\n",
        "SELECT\n",
        "        Category,\n",
        "        SUM(IF(Region='Central',Quantity,0)) As Central,\n",
        "        SUM(IF(Region='East',Quantity,0)) As East,\n",
        "        SUM(IF(Region='West',Quantity,0)) As West,\n",
        "        SUM(IF(Region='South',Quantity,0)) As South\n",
        "    FROM Orders\n",
        "        GROUP BY Category WITH ROLLUP\n",
        ") as  sumsQ\n",
        "order by Dims desc\n",
        "\"\"\")\n",
        "CrossTab.show()"
      ],
      "metadata": {
        "id": "E_PYFRrTItax",
        "outputId": "ced7f174-30ec-46a7-c947-d35a345b4e04",
        "colab": {
          "base_uri": "https://localhost:8080/"
        }
      },
      "execution_count": 29,
      "outputs": [
        {
          "output_type": "stream",
          "name": "stdout",
          "text": [
            "+---------------+-------+-----+-----+-----+------+\n",
            "|           Dims|Central| East| West|South|Totals|\n",
            "+---------------+-------+-----+-----+-----+------+\n",
            "|     Technology|   1544| 1942| 2335| 1118|  6939|\n",
            "|Office Supplies|   5409| 6462| 7235| 3800| 22906|\n",
            "|      Furniture|   1827| 2214| 2696| 1291|  8028|\n",
            "|        #Totals|   8780|10618|12266| 6209| 37873|\n",
            "+---------------+-------+-----+-----+-----+------+\n",
            "\n"
          ]
        }
      ]
    },
    {
      "cell_type": "code",
      "source": [
        "spark.sql('show tables').show()"
      ],
      "metadata": {
        "id": "fQAMmjc0H2w0",
        "outputId": "004cbf8b-4640-4f79-a8a6-c1c8ee9a760e",
        "colab": {
          "base_uri": "https://localhost:8080/"
        }
      },
      "execution_count": null,
      "outputs": [
        {
          "output_type": "stream",
          "name": "stdout",
          "text": [
            "+---------+---------+-----------+\n",
            "|namespace|tableName|isTemporary|\n",
            "+---------+---------+-----------+\n",
            "|         |carsales2|       true|\n",
            "|         |   orders|       true|\n",
            "|         |     sums|       true|\n",
            "|         |    sumsq|       true|\n",
            "+---------+---------+-----------+\n",
            "\n"
          ]
        }
      ]
    },
    {
      "cell_type": "code",
      "source": [
        "from datetime import datetime\n",
        "import pytz\n",
        "print('Last tested  ',datetime.now(pytz.timezone('Asia/Calcutta')))"
      ],
      "metadata": {
        "colab": {
          "base_uri": "https://localhost:8080/"
        },
        "id": "08l9gRDub6ji",
        "outputId": "db0c2d58-e576-46f0-9946-466738f9dca0"
      },
      "execution_count": null,
      "outputs": [
        {
          "output_type": "stream",
          "name": "stdout",
          "text": [
            "Last tested   2023-09-11 08:02:18.079267+05:30\n"
          ]
        }
      ]
    },
    {
      "cell_type": "markdown",
      "metadata": {
        "id": "i6k-QLe07diM"
      },
      "source": [
        "#Chronobooks <br>\n",
        "![alt text](https://1.bp.blogspot.com/-lTiYBkU2qbU/X1er__fvnkI/AAAAAAAAjtE/GhDR3OEGJr4NG43fZPodrQD5kbxtnKebgCLcBGAsYHQ/s600/Footer2020-600x200.png)<hr>\n",
        "Chronotantra and Chronoyantra are two science fiction novels that explore the collapse of human civilisation on Earth and then its rebirth and reincarnation both on Earth as well as on the distant worlds of Mars, Titan and Enceladus. But is it the human civilisation that is being reborn? Or is it some other sentience that is revealing itself.\n",
        "If you have an interest in AI and found this material useful, you may consider buying these novels, in paperback or kindle, from [http://bit.ly/chronobooks](http://bit.ly/chronobooks)"
      ]
    },
    {
      "cell_type": "markdown",
      "source": [
        "####Two Table Strategy - Deprecated"
      ],
      "metadata": {
        "id": "qRL2J2dpIOXE"
      }
    },
    {
      "cell_type": "markdown",
      "source": [
        "#####Inner Table"
      ],
      "metadata": {
        "id": "kYr7VLPAcWrt"
      }
    },
    {
      "cell_type": "code",
      "source": [
        "sums_df = spark.sql(\"\"\"\n",
        "    SELECT\n",
        "        Segment,\n",
        "        SUM(IF(Region='Central',Sales,0)) As Central,\n",
        "        SUM(IF(Region='East',Sales,0)) As East,\n",
        "        SUM(IF(Region='West',Sales,0)) As West,\n",
        "        SUM(IF(Region='South',Sales,0)) As South\n",
        "    FROM Orders\n",
        "        GROUP BY Segment WITH ROLLUP\n",
        "\"\"\")\n",
        "sums_df.show()"
      ],
      "metadata": {
        "colab": {
          "base_uri": "https://localhost:8080/"
        },
        "id": "vMxFc5xygL4m",
        "outputId": "5015f306-610a-40e4-916c-829129910b11"
      },
      "execution_count": null,
      "outputs": [
        {
          "output_type": "stream",
          "name": "stdout",
          "text": [
            "+-----------+------------------+------------------+------------------+------------------+\n",
            "|    Segment|           Central|              East|              West|             South|\n",
            "+-----------+------------------+------------------+------------------+------------------+\n",
            "|Home Office| 91212.64399999994|127463.72599999998| 136721.7769999999| 74255.00150000004|\n",
            "|  Corporate|       157995.8128|200409.34699999995|225855.27449999977|121885.93250000005|\n",
            "|       null| 501239.8908000005| 678781.2399999979| 725457.8245000006| 391721.9050000003|\n",
            "|   Consumer|252031.43400000007|350908.16700000066| 362880.7730000003|195580.97100000017|\n",
            "+-----------+------------------+------------------+------------------+------------------+\n",
            "\n"
          ]
        }
      ]
    },
    {
      "cell_type": "markdown",
      "source": [
        "#####Outer Query"
      ],
      "metadata": {
        "id": "_kxVj0VpiPzY"
      }
    },
    {
      "cell_type": "code",
      "source": [
        "#sums_df.registerTempTable(\"sums\")\n",
        "sums_df.createOrReplaceTempView(\"sums\")\n",
        "#CrossTab = sqlContext.sql(\"\"\"\n",
        "CrossTab = spark.sql(\"\"\"\n",
        " SELECT\n",
        "  IFNULL(Segment,'#Totals') Dims,\n",
        "  sums.Central, sums.East, sums.West,sums.South,\n",
        "  sums.Central + sums.East + sums.West + sums.South Totals\n",
        "FROM sums\n",
        "order by Dims desc\n",
        "\"\"\")\n",
        "CrossTab.show()"
      ],
      "metadata": {
        "colab": {
          "base_uri": "https://localhost:8080/"
        },
        "id": "SJooUTpniSgq",
        "outputId": "9856c669-2b21-44cc-9f1c-d37cfd5275ce"
      },
      "execution_count": null,
      "outputs": [
        {
          "output_type": "stream",
          "name": "stdout",
          "text": [
            "+-----------+------------------+------------------+------------------+------------------+------------------+\n",
            "|       Dims|           Central|              East|              West|             South|            Totals|\n",
            "+-----------+------------------+------------------+------------------+------------------+------------------+\n",
            "|Home Office| 91212.64399999994|127463.72599999998| 136721.7769999999| 74255.00150000004| 429653.1484999999|\n",
            "|  Corporate|       157995.8128|200409.34699999995|225855.27449999977|121885.93250000005| 706146.3667999997|\n",
            "|   Consumer|252031.43400000007|350908.16700000066| 362880.7730000003|195580.97100000017|1161401.3450000011|\n",
            "|    #Totals| 501239.8908000005| 678781.2399999979| 725457.8245000006| 391721.9050000003|2297200.8602999994|\n",
            "+-----------+------------------+------------------+------------------+------------------+------------------+\n",
            "\n"
          ]
        }
      ]
    },
    {
      "cell_type": "code",
      "source": [
        "CrossTab = spark.sql(\"\"\"\n",
        " SELECT\n",
        "  IFNULL(Segment,'#Totals') Dims,\n",
        "  round(sums.Central,2) Central,\n",
        "  round(sums.East,2) East,\n",
        "  round(sums.West,2) West,\n",
        "  round(sums.South,2) South,\n",
        "  round(sums.Central + sums.East + sums.West + sums.South,2) Totals\n",
        "FROM sums\n",
        "order by Dims desc\n",
        "\"\"\")\n",
        "CrossTab.show()"
      ],
      "metadata": {
        "colab": {
          "base_uri": "https://localhost:8080/"
        },
        "id": "vrXZrBAZnsng",
        "outputId": "e913616f-9358-46b3-bdda-bd5633dc36ce"
      },
      "execution_count": null,
      "outputs": [
        {
          "output_type": "stream",
          "name": "stdout",
          "text": [
            "+-----------+---------+---------+---------+---------+----------+\n",
            "|       Dims|  Central|     East|     West|    South|    Totals|\n",
            "+-----------+---------+---------+---------+---------+----------+\n",
            "|Home Office| 91212.64|127463.73|136721.78|  74255.0| 429653.15|\n",
            "|  Corporate|157995.81|200409.35|225855.27|121885.93| 706146.37|\n",
            "|   Consumer|252031.43|350908.17|362880.77|195580.97|1161401.35|\n",
            "|    #Totals|501239.89|678781.24|725457.82|391721.91|2297200.86|\n",
            "+-----------+---------+---------+---------+---------+----------+\n",
            "\n"
          ]
        }
      ]
    },
    {
      "cell_type": "markdown",
      "source": [
        "####Two Table Strategy - Deprecated"
      ],
      "metadata": {
        "id": "zBLRZ7WXIYJb"
      }
    },
    {
      "cell_type": "markdown",
      "source": [
        "#####Inner Table"
      ],
      "metadata": {
        "id": "-k3EdaMRGQb5"
      }
    },
    {
      "cell_type": "code",
      "source": [
        "sumsQ_df = spark.sql(\"\"\"\n",
        "    SELECT\n",
        "        Category,\n",
        "        SUM(IF(Region='Central',Quantity,0)) As Central,\n",
        "        SUM(IF(Region='East',Quantity,0)) As East,\n",
        "        SUM(IF(Region='West',Quantity,0)) As West,\n",
        "        SUM(IF(Region='South',Quantity,0)) As South\n",
        "    FROM Orders\n",
        "        GROUP BY Category WITH ROLLUP\n",
        "\"\"\")\n",
        "sumsQ_df.show()"
      ],
      "metadata": {
        "id": "ZIMEsrwgGVJ6",
        "outputId": "394ed10a-34de-4b4a-866e-524c5f03f8e8",
        "colab": {
          "base_uri": "https://localhost:8080/"
        }
      },
      "execution_count": null,
      "outputs": [
        {
          "output_type": "stream",
          "name": "stdout",
          "text": [
            "+---------------+-------+-----+-----+-----+\n",
            "|       Category|Central| East| West|South|\n",
            "+---------------+-------+-----+-----+-----+\n",
            "|     Technology|   1544| 1942| 2335| 1118|\n",
            "|      Furniture|   1827| 2214| 2696| 1291|\n",
            "|           null|   8780|10618|12266| 6209|\n",
            "|Office Supplies|   5409| 6462| 7235| 3800|\n",
            "+---------------+-------+-----+-----+-----+\n",
            "\n"
          ]
        }
      ]
    },
    {
      "cell_type": "markdown",
      "source": [
        "#####Outer Query"
      ],
      "metadata": {
        "id": "1omasBl5I7Y6"
      }
    },
    {
      "cell_type": "code",
      "source": [
        "#sums_df.registerTempTable(\"sums\")\n",
        "sumsQ_df.createOrReplaceTempView(\"sumsQ\")\n",
        "#CrossTab = sqlContext.sql(\"\"\"\n",
        "CrossTab = spark.sql(\"\"\"\n",
        " SELECT\n",
        "  IFNULL(Category,'#Totals') Dims,\n",
        "  sumsQ.Central, sumsQ.East, sumsQ.West,sumsQ.South,\n",
        "  sumsQ.Central + sumsQ.East + sumsQ.West + sumsQ.South Totals\n",
        "FROM sumsQ\n",
        "order by Dims desc\n",
        "\"\"\")\n",
        "CrossTab.show()"
      ],
      "metadata": {
        "id": "f8zKLYGoGrYj",
        "outputId": "39c86d9e-d505-447d-8f67-41f162a9417d",
        "colab": {
          "base_uri": "https://localhost:8080/"
        }
      },
      "execution_count": null,
      "outputs": [
        {
          "output_type": "stream",
          "name": "stdout",
          "text": [
            "+---------------+-------+-----+-----+-----+------+\n",
            "|           Dims|Central| East| West|South|Totals|\n",
            "+---------------+-------+-----+-----+-----+------+\n",
            "|     Technology|   1544| 1942| 2335| 1118|  6939|\n",
            "|Office Supplies|   5409| 6462| 7235| 3800| 22906|\n",
            "|      Furniture|   1827| 2214| 2696| 1291|  8028|\n",
            "|        #Totals|   8780|10618|12266| 6209| 37873|\n",
            "+---------------+-------+-----+-----+-----+------+\n",
            "\n"
          ]
        }
      ]
    }
  ]
}