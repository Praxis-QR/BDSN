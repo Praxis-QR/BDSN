{
  "nbformat": 4,
  "nbformat_minor": 0,
  "metadata": {
    "colab": {
      "provenance": [],
      "collapsed_sections": [],
      "toc_visible": true,
      "include_colab_link": true
    },
    "kernelspec": {
      "display_name": "Python [default]",
      "language": "python",
      "name": "python3"
    }
  },
  "cells": [
    {
      "cell_type": "markdown",
      "metadata": {
        "id": "view-in-github",
        "colab_type": "text"
      },
      "source": [
        "<a href=\"https://colab.research.google.com/github/Praxis-QR/BDSN/blob/main/Containers_in_Python.ipynb\" target=\"_parent\"><img src=\"https://colab.research.google.com/assets/colab-badge.svg\" alt=\"Open In Colab\"/></a>"
      ]
    },
    {
      "cell_type": "markdown",
      "metadata": {
        "id": "ul3KeClMcObH"
      },
      "source": [
        "![CC-BY-SA](https://licensebuttons.net/l/by-sa/3.0/88x31.png)<br>\n",
        "<hr>\n",
        "\n",
        "![alt text](https://4.bp.blogspot.com/-gbL5nZDkpFQ/XScFYwoTEII/AAAAAAAAAGY/CcVb_HDLwvs2Brv5T4vSsUcz7O4r2Q79ACK4BGAYYCw/s1600/kk3-header00-beta.png)<br>\n",
        "\n",
        "\n",
        "<hr>\n",
        "\n",
        "[Prithwis Mukerjee](http://www.linkedin.com/in/prithwis)<br>"
      ]
    },
    {
      "cell_type": "code",
      "metadata": {
        "id": "dWCrwLfcTaY0",
        "colab": {
          "base_uri": "https://localhost:8080/"
        },
        "outputId": "d0baf23c-6999-4305-bc0c-50cb5d5d9988"
      },
      "source": [
        "#\n",
        "# Praxis Business School \n",
        "# Prithwis Mukerjee\n",
        "#\n",
        "# Data Structures in Python\n",
        "#\n",
        "\n",
        "print(\"Hello to Data Structures\")\n"
      ],
      "execution_count": 1,
      "outputs": [
        {
          "output_type": "stream",
          "name": "stdout",
          "text": [
            "Hello to Data Structures\n"
          ]
        }
      ]
    },
    {
      "cell_type": "markdown",
      "source": [
        "#List"
      ],
      "metadata": {
        "id": "tAUcTt2YMVaP"
      }
    },
    {
      "cell_type": "code",
      "metadata": {
        "id": "vUWlJ-ayTaZM",
        "colab": {
          "base_uri": "https://localhost:8080/"
        },
        "outputId": "e1c6ec5e-eb81-4ab8-ec24-982d7f4652d9"
      },
      "source": [
        "pList1 = [1,\"This is a list\"]\n",
        "print(pList1)"
      ],
      "execution_count": 2,
      "outputs": [
        {
          "output_type": "stream",
          "name": "stdout",
          "text": [
            "[1, 'This is a list']\n"
          ]
        }
      ]
    },
    {
      "cell_type": "code",
      "metadata": {
        "id": "CIT9F71ATaZc",
        "colab": {
          "base_uri": "https://localhost:8080/"
        },
        "outputId": "09b94704-ddb5-451c-8504-ca9a9b4c8920"
      },
      "source": [
        "pInt = 2\n",
        "pReal = 2.318281828\n",
        "pString = \"some Test String\"\n",
        "pList2 = [ pInt, pReal, pString, pList1]\n",
        "print(pList2)"
      ],
      "execution_count": 3,
      "outputs": [
        {
          "output_type": "stream",
          "name": "stdout",
          "text": [
            "[2, 2.318281828, 'some Test String', [1, 'This is a list']]\n"
          ]
        }
      ]
    },
    {
      "cell_type": "code",
      "metadata": {
        "id": "zFrM-hNJTaZw",
        "colab": {
          "base_uri": "https://localhost:8080/"
        },
        "outputId": "df480fff-a219-470d-f763-a7da17a1460d"
      },
      "source": [
        "print(\"Members ---------------------\")\n",
        "\n",
        "print(pList2[0])\n",
        "print(pList2[1])\n",
        "print(pList2[2])\n",
        "print(pList2[3])\n",
        "\n",
        "print(pList2[3][0])\n",
        "print(pList2[3][1])"
      ],
      "execution_count": 4,
      "outputs": [
        {
          "output_type": "stream",
          "name": "stdout",
          "text": [
            "Members ---------------------\n",
            "2\n",
            "2.318281828\n",
            "some Test String\n",
            "[1, 'This is a list']\n",
            "1\n",
            "This is a list\n"
          ]
        }
      ]
    },
    {
      "cell_type": "code",
      "source": [
        "print(pList2[1][0])\n",
        "print(pList2[1][1])"
      ],
      "metadata": {
        "colab": {
          "base_uri": "https://localhost:8080/",
          "height": 182
        },
        "id": "b_cULQ3hasPv",
        "outputId": "c5549578-c269-4e12-fe37-923f22124b68"
      },
      "execution_count": 5,
      "outputs": [
        {
          "output_type": "error",
          "ename": "TypeError",
          "evalue": "ignored",
          "traceback": [
            "\u001b[0;31m---------------------------------------------------------------------------\u001b[0m",
            "\u001b[0;31mTypeError\u001b[0m                                 Traceback (most recent call last)",
            "\u001b[0;32m<ipython-input-5-e09634b6b816>\u001b[0m in \u001b[0;36m<module>\u001b[0;34m\u001b[0m\n\u001b[0;32m----> 1\u001b[0;31m \u001b[0mprint\u001b[0m\u001b[0;34m(\u001b[0m\u001b[0mpList2\u001b[0m\u001b[0;34m[\u001b[0m\u001b[0;36m1\u001b[0m\u001b[0;34m]\u001b[0m\u001b[0;34m[\u001b[0m\u001b[0;36m0\u001b[0m\u001b[0;34m]\u001b[0m\u001b[0;34m)\u001b[0m\u001b[0;34m\u001b[0m\u001b[0;34m\u001b[0m\u001b[0m\n\u001b[0m\u001b[1;32m      2\u001b[0m \u001b[0mprint\u001b[0m\u001b[0;34m(\u001b[0m\u001b[0mpList2\u001b[0m\u001b[0;34m[\u001b[0m\u001b[0;36m1\u001b[0m\u001b[0;34m]\u001b[0m\u001b[0;34m[\u001b[0m\u001b[0;36m1\u001b[0m\u001b[0;34m]\u001b[0m\u001b[0;34m)\u001b[0m\u001b[0;34m\u001b[0m\u001b[0;34m\u001b[0m\u001b[0m\n",
            "\u001b[0;31mTypeError\u001b[0m: 'float' object is not subscriptable"
          ]
        }
      ]
    },
    {
      "cell_type": "code",
      "metadata": {
        "id": "ErL5_bQHTaZ8",
        "colab": {
          "base_uri": "https://localhost:8080/"
        },
        "outputId": "c8790283-dce3-4732-c113-dd55f86f5197"
      },
      "source": [
        "# Methods operating on Lists\n",
        "\n",
        "print(\"Methods ---------------------\")\n",
        "print(pList1)\n",
        "pList1.append(pInt)\n",
        "print(pList1)\n",
        "pList1.insert(1,pReal)\n",
        "print(pList1)\n",
        "pList1.remove(pReal)\n",
        "print(pList1)\n",
        "pList1.extend(pList2)\n",
        "print(pList1)"
      ],
      "execution_count": 6,
      "outputs": [
        {
          "output_type": "stream",
          "name": "stdout",
          "text": [
            "Methods ---------------------\n",
            "[1, 'This is a list']\n",
            "[1, 'This is a list', 2]\n",
            "[1, 2.318281828, 'This is a list', 2]\n",
            "[1, 'This is a list', 2]\n",
            "[1, 'This is a list', 2, 2, 2.318281828, 'some Test String', [...]]\n"
          ]
        }
      ]
    },
    {
      "cell_type": "code",
      "metadata": {
        "id": "OhetKgHOTaaM",
        "colab": {
          "base_uri": "https://localhost:8080/"
        },
        "outputId": "8339fcf3-c481-4135-b9e1-9e07fbcd2850"
      },
      "source": [
        "# More Methods\n",
        "\n",
        "print(\"More Methods ---------------------\")\n",
        "\n",
        "print(pList1.count(\"some Test String\"), pList1.count(pInt))\n",
        "print(pList1.index(pInt), pList1.index(\"some Test String\"))\n",
        "pList1.reverse()\n",
        "print(pList1)\n",
        "#pList1.sort()\n",
        "print(pList1)\n"
      ],
      "execution_count": 7,
      "outputs": [
        {
          "output_type": "stream",
          "name": "stdout",
          "text": [
            "More Methods ---------------------\n",
            "1 2\n",
            "2 5\n",
            "[[...], 'some Test String', 2.318281828, 2, 2, 'This is a list', 1]\n",
            "[[...], 'some Test String', 2.318281828, 2, 2, 'This is a list', 1]\n"
          ]
        }
      ]
    },
    {
      "cell_type": "markdown",
      "source": [
        "##Stack"
      ],
      "metadata": {
        "id": "h3xTc4G1MdnY"
      }
    },
    {
      "cell_type": "code",
      "metadata": {
        "id": "qnrh73m5TaaW",
        "colab": {
          "base_uri": "https://localhost:8080/"
        },
        "outputId": "c32cd3c5-9ba3-4fa8-c935-76974566d1ef"
      },
      "source": [
        "# List as Stack\n",
        "\n",
        "print(\"Stack ---------------------\")\n",
        "\n",
        "pStack1 = [12, 20, 7]\n",
        "pStack1.append(45)\n",
        "print(pStack1)\n",
        "pPopped = pStack1.pop()\n",
        "print(pPopped, pStack1)\n"
      ],
      "execution_count": 8,
      "outputs": [
        {
          "output_type": "stream",
          "name": "stdout",
          "text": [
            "Stack ---------------------\n",
            "[12, 20, 7, 45]\n",
            "45 [12, 20, 7]\n"
          ]
        }
      ]
    },
    {
      "cell_type": "code",
      "source": [
        "pPopped = pStack1.pop()\n",
        "print(pPopped, pStack1)"
      ],
      "metadata": {
        "colab": {
          "base_uri": "https://localhost:8080/"
        },
        "id": "ZUM64JD7disc",
        "outputId": "21fccf63-6b79-42b8-d3fa-6668f3fb7c25"
      },
      "execution_count": 9,
      "outputs": [
        {
          "output_type": "stream",
          "name": "stdout",
          "text": [
            "7 [12, 20]\n"
          ]
        }
      ]
    },
    {
      "cell_type": "markdown",
      "source": [
        "##Queue"
      ],
      "metadata": {
        "id": "Pw_h0dT5Mj0O"
      }
    },
    {
      "cell_type": "code",
      "metadata": {
        "id": "BKfq_-8wTaaq",
        "colab": {
          "base_uri": "https://localhost:8080/"
        },
        "outputId": "a3ebfa88-a110-46d9-800b-5624e4cdfaf6"
      },
      "source": [
        "# List as Q\n",
        "from collections import deque\n",
        "print(\"Q ---------------------\")\n",
        "\n",
        "from collections import deque \n",
        "pList3 = [\"Ram\", \"Shyam\", \"Jadu\"]\n",
        "pQ = deque([\"Ram\", \"Shyam\", \"Jadu\"])\n",
        "print(pQ)\n",
        "a = pQ.popleft()\n",
        "print(a)\n",
        "print(pQ)\n",
        "pQ.append(\"Sita\")\n",
        "print(pQ)\n"
      ],
      "execution_count": 10,
      "outputs": [
        {
          "output_type": "stream",
          "name": "stdout",
          "text": [
            "Q ---------------------\n",
            "deque(['Ram', 'Shyam', 'Jadu'])\n",
            "Ram\n",
            "deque(['Shyam', 'Jadu'])\n",
            "deque(['Shyam', 'Jadu', 'Sita'])\n"
          ]
        }
      ]
    },
    {
      "cell_type": "markdown",
      "source": [
        "#Set"
      ],
      "metadata": {
        "id": "nhPp88eGMomj"
      }
    },
    {
      "cell_type": "code",
      "metadata": {
        "id": "VroQybSYTaa-",
        "colab": {
          "base_uri": "https://localhost:8080/"
        },
        "outputId": "51482815-f4c3-46a2-9193-fcfa774b442f"
      },
      "source": [
        "# Sets\n",
        "\n",
        "print(\"Sets ---------------------\")\n",
        "\n",
        "pList10 = [\"Apple\", \"Orange\", \"Pear\", \"Mango\", \"Apple\", \"Orange\", \"Pineapple\"]\n",
        "print(pList10)\n",
        "\n",
        "pSet = set(pList10)\n",
        "print(pSet)\n"
      ],
      "execution_count": 11,
      "outputs": [
        {
          "output_type": "stream",
          "name": "stdout",
          "text": [
            "Sets ---------------------\n",
            "['Apple', 'Orange', 'Pear', 'Mango', 'Apple', 'Orange', 'Pineapple']\n",
            "{'Mango', 'Pear', 'Pineapple', 'Orange', 'Apple'}\n"
          ]
        }
      ]
    },
    {
      "cell_type": "markdown",
      "source": [
        "#Tuple"
      ],
      "metadata": {
        "id": "R16hwM4kMsl5"
      }
    },
    {
      "cell_type": "code",
      "metadata": {
        "id": "uymEyN2iTabI",
        "colab": {
          "base_uri": "https://localhost:8080/"
        },
        "outputId": "dc38ee58-e884-4254-c0f2-aed5bee65a4e"
      },
      "source": [
        "# Tuples\n",
        "\n",
        "print(\"Tuples ---------------------\")\n",
        "\n",
        "pTuple1 = 1, 34, \"king\", \"queen\"\n",
        "print(pTuple1)\n",
        "print(pTuple1[0], pTuple1[3])\n",
        "pTuple2 = 23, \"new fellow\", pTuple1\n",
        "print(pTuple2)\n"
      ],
      "execution_count": 12,
      "outputs": [
        {
          "output_type": "stream",
          "name": "stdout",
          "text": [
            "Tuples ---------------------\n",
            "(1, 34, 'king', 'queen')\n",
            "1 queen\n",
            "(23, 'new fellow', (1, 34, 'king', 'queen'))\n"
          ]
        }
      ]
    },
    {
      "cell_type": "markdown",
      "source": [
        "#Dictionary"
      ],
      "metadata": {
        "id": "hyA1bRv5MwmX"
      }
    },
    {
      "cell_type": "code",
      "metadata": {
        "id": "mGeDhaNaTaba",
        "colab": {
          "base_uri": "https://localhost:8080/"
        },
        "outputId": "8fe11f96-27ec-448d-904e-970eab4c08ab"
      },
      "source": [
        "# Dictionaries\n",
        "\n",
        "print(\"Dictionaries ---------------------\")\n",
        "\n",
        "dTel = { \"prithwis\": 2066, \"charan\" : 8077, \"govind\" : 9234, \"jaydeep\" : 9324}\n",
        "print(dTel)\n",
        "print(dTel.keys())\n",
        "print(dTel.values())\n",
        "dTel['SDG'] = 9056\n",
        "print(dTel)\n",
        "dTel['prithwis'] = 6602\n",
        "print(dTel)\n",
        "print(\"prithwis\" in dTel)\n",
        "print(\"Prithwis\" in dTel)\n"
      ],
      "execution_count": 13,
      "outputs": [
        {
          "output_type": "stream",
          "name": "stdout",
          "text": [
            "Dictionaries ---------------------\n",
            "{'prithwis': 2066, 'charan': 8077, 'govind': 9234, 'jaydeep': 9324}\n",
            "dict_keys(['prithwis', 'charan', 'govind', 'jaydeep'])\n",
            "dict_values([2066, 8077, 9234, 9324])\n",
            "{'prithwis': 2066, 'charan': 8077, 'govind': 9234, 'jaydeep': 9324, 'SDG': 9056}\n",
            "{'prithwis': 6602, 'charan': 8077, 'govind': 9234, 'jaydeep': 9324, 'SDG': 9056}\n",
            "True\n",
            "False\n"
          ]
        }
      ]
    },
    {
      "cell_type": "markdown",
      "source": [
        "#Iteration"
      ],
      "metadata": {
        "id": "l4nFoXJMM182"
      }
    },
    {
      "cell_type": "code",
      "metadata": {
        "id": "mk_2Yy8TTabm",
        "colab": {
          "base_uri": "https://localhost:8080/"
        },
        "outputId": "5fdebb1e-746a-44e8-f8bf-b26469120657"
      },
      "source": [
        "# Looping\n",
        "\n",
        "print(\"Looping ..........................\")\n",
        "print(dTel.items())\n",
        "\n",
        "for key, val in dTel.items():\n",
        "    print (val, val*2, key)\n"
      ],
      "execution_count": 14,
      "outputs": [
        {
          "output_type": "stream",
          "name": "stdout",
          "text": [
            "Looping ..........................\n",
            "dict_items([('prithwis', 6602), ('charan', 8077), ('govind', 9234), ('jaydeep', 9324), ('SDG', 9056)])\n",
            "6602 13204 prithwis\n",
            "8077 16154 charan\n",
            "9234 18468 govind\n",
            "9324 18648 jaydeep\n",
            "9056 18112 SDG\n"
          ]
        }
      ]
    },
    {
      "cell_type": "code",
      "metadata": {
        "id": "qyQ603XjTaby",
        "colab": {
          "base_uri": "https://localhost:8080/"
        },
        "outputId": "85bafa9a-c504-4191-af52-968c83614ecd"
      },
      "source": [
        "print(\"Enumerate ..........................\")\n",
        "\n",
        "for ix, val in enumerate(pList1):\n",
        "    print (ix,val)\n",
        "    \n",
        "#for ix, val in enumerate(pTuple1):\n",
        "#    print (ix,val)\n",
        "    \n",
        "for ix, val in enumerate(dTel):\n",
        "    print (ix,val)\n",
        "\n",
        "#for ix, k, val in enumerate(dTel):\n",
        "#    print (ix,k,val)\n"
      ],
      "execution_count": 15,
      "outputs": [
        {
          "output_type": "stream",
          "name": "stdout",
          "text": [
            "Enumerate ..........................\n",
            "0 [[...], 'some Test String', 2.318281828, 2, 2, 'This is a list', 1]\n",
            "1 some Test String\n",
            "2 2.318281828\n",
            "3 2\n",
            "4 2\n",
            "5 This is a list\n",
            "6 1\n",
            "0 prithwis\n",
            "1 charan\n",
            "2 govind\n",
            "3 jaydeep\n",
            "4 SDG\n"
          ]
        }
      ]
    },
    {
      "cell_type": "code",
      "metadata": {
        "id": "CbSlXUV8TacW",
        "colab": {
          "base_uri": "https://localhost:8080/"
        },
        "outputId": "a47ae2c5-fea7-461b-88c3-df3cbd719dcb"
      },
      "source": [
        "print(\"Zip ..........................\")\n",
        "\n",
        "teachers = [\"prithwis\",\"charan\",\"jaydeep\",\"subhasis\"]\n",
        "subjects = [\"bigdata\", \"communications\", \"stats\", \"datamining\"]\n",
        "\n",
        "for t,s in zip(teachers,subjects):\n",
        "    print(t,\" teaches \",s)\n",
        "\n"
      ],
      "execution_count": 16,
      "outputs": [
        {
          "output_type": "stream",
          "name": "stdout",
          "text": [
            "Zip ..........................\n",
            "prithwis  teaches  bigdata\n",
            "charan  teaches  communications\n",
            "jaydeep  teaches  stats\n",
            "subhasis  teaches  datamining\n"
          ]
        }
      ]
    },
    {
      "cell_type": "code",
      "metadata": {
        "id": "HF_h2RE5V7js",
        "colab": {
          "base_uri": "https://localhost:8080/"
        },
        "outputId": "2caceccd-090a-4fa2-daf0-12104d9920d0"
      },
      "source": [
        "print(pList2)"
      ],
      "execution_count": 17,
      "outputs": [
        {
          "output_type": "stream",
          "name": "stdout",
          "text": [
            "[2, 2.318281828, 'some Test String', [[...], 'some Test String', 2.318281828, 2, 2, 'This is a list', 1]]\n"
          ]
        }
      ]
    },
    {
      "cell_type": "code",
      "metadata": {
        "id": "oLRS3UXHTack",
        "colab": {
          "base_uri": "https://localhost:8080/"
        },
        "outputId": "e2c0347b-252b-49fa-c0f3-cc108d25e099"
      },
      "source": [
        "# Membership\n",
        "\n",
        "print(pInt in pList2)\n",
        "print(2 in pList2)\n",
        "print(33  not in pList2)\n",
        "\n",
        "fruit1 = [\"apple\", \"pear\", \"orange\", \"mango\"]\n",
        "fruit2 = [\"apple\", \"grape\", \"banana\",\"mango\"]\n",
        "\n",
        "print(\"pear\" in fruit1)\n",
        "print(\"pear\" in fruit2)\n",
        "print (set(fruit1).intersection(fruit2))\n",
        "print (set(fruit1).union(fruit2))\n"
      ],
      "execution_count": 18,
      "outputs": [
        {
          "output_type": "stream",
          "name": "stdout",
          "text": [
            "True\n",
            "True\n",
            "True\n",
            "True\n",
            "False\n",
            "{'mango', 'apple'}\n",
            "{'apple', 'grape', 'pear', 'mango', 'banana', 'orange'}\n"
          ]
        }
      ]
    },
    {
      "cell_type": "markdown",
      "source": [
        "#Map Reduce"
      ],
      "metadata": {
        "id": "V_p_MO1BK9qE"
      }
    },
    {
      "cell_type": "code",
      "source": [
        "# there are some changes that are necessary for these codes to work in Python 3\n",
        "# range, filter, map return objects that are not lists … hence we need to cast them into lists\n",
        "# reduce has been replaced with functools.reduce\n",
        "# these changes are shown in red\n",
        "\n",
        "#http://stackoverflow.com/questions/12319025/filters-in-python\n",
        "#http://stackoverflow.com/questions/13638898/how-to-use-filter-map-and-reduce-in-python-3\n",
        "print(\"Hello to Data Structues\")"
      ],
      "metadata": {
        "id": "tLE_IuUVLANT",
        "colab": {
          "base_uri": "https://localhost:8080/"
        },
        "outputId": "0c1bb6bf-f206-46f6-85cc-c387740e8f75"
      },
      "execution_count": 19,
      "outputs": [
        {
          "output_type": "stream",
          "name": "stdout",
          "text": [
            "Hello to Data Structues\n"
          ]
        }
      ]
    },
    {
      "cell_type": "code",
      "source": [
        "print(\"Filter Functions ................................\")\n",
        "\n",
        "print('range', range(1,10))\n",
        "\n",
        "pList1 = list(range(1,10))\n",
        "print('plist1',pList1)\n",
        "\n",
        "def pEven(x) : return x%2 == 0\n",
        "pList2 = list(filter(pEven,pList1))\n",
        "print(pList2)\n",
        "\n",
        "pList3 = [\"Ram\", \"RamPM\", \"Shyam\", \"PMShyam\", \"Sita\", \"SiPMMta\"]\n",
        "print(pList3)\n",
        "\n",
        "def hasPM(x) : return \"PM\" in x\n",
        "pList4 = list(filter(hasPM, pList3))\n",
        "print(pList4)\n"
      ],
      "metadata": {
        "id": "rdg6dczdLExT",
        "colab": {
          "base_uri": "https://localhost:8080/"
        },
        "outputId": "b58b4067-9f5e-4c3d-9815-5fa426ade9c2"
      },
      "execution_count": 20,
      "outputs": [
        {
          "output_type": "stream",
          "name": "stdout",
          "text": [
            "Filter Functions ................................\n",
            "range range(1, 10)\n",
            "plist1 [1, 2, 3, 4, 5, 6, 7, 8, 9]\n",
            "[2, 4, 6, 8]\n",
            "['Ram', 'RamPM', 'Shyam', 'PMShyam', 'Sita', 'SiPMMta']\n",
            "['RamPM', 'PMShyam', 'SiPMMta']\n"
          ]
        }
      ]
    },
    {
      "cell_type": "markdown",
      "source": [
        "##Lambda Functions"
      ],
      "metadata": {
        "id": "0Sh8rZboNKj7"
      }
    },
    {
      "cell_type": "code",
      "source": [
        "# Lambda functions\n",
        "print(\"Lambda Functions ................................\")\n",
        "\n",
        "pList2a = list(filter (lambda x : x%2 == 0, pList1))\n",
        "print(pList2a)\n",
        "\n",
        "pList4a = list(filter(lambda x: \"PM\" in x, pList3))\n",
        "print(pList4a)"
      ],
      "metadata": {
        "colab": {
          "base_uri": "https://localhost:8080/"
        },
        "id": "g7lUguJwLSMC",
        "outputId": "6f2e2afe-d81a-4912-dbc9-fdae1531af49"
      },
      "execution_count": 21,
      "outputs": [
        {
          "output_type": "stream",
          "name": "stdout",
          "text": [
            "Lambda Functions ................................\n",
            "[2, 4, 6, 8]\n",
            "['RamPM', 'PMShyam', 'SiPMMta']\n"
          ]
        }
      ]
    },
    {
      "cell_type": "markdown",
      "source": [
        "##Map"
      ],
      "metadata": {
        "id": "-zct5DJPNNfL"
      }
    },
    {
      "cell_type": "code",
      "source": [
        "# Map\n",
        "print(\"Map Functions ................................\")\n",
        "print(pList1)\n",
        "pList5 = list(map(lambda x : x*x, pList1))            # square each number in the list\n",
        "print(pList5)\n",
        "\n",
        "print(pList3)\n",
        "pList6 = list(map(lambda x : \"WW\"+x, pList3))          # appends the char Y to each string in the list\n",
        "print(pList6)\n",
        "\n",
        "pList7 = list(map(lambda x : len(x), pList3)  )       # returns the number of characters in each string of the list\n",
        "print(pList7)\n",
        "\n",
        "print('pList3 > ',pList3)\n",
        "pList8 = list(map(lambda x : (x,len(x)),pList3) )    # returns a list of tuples\n",
        "print(pList8)"
      ],
      "metadata": {
        "colab": {
          "base_uri": "https://localhost:8080/"
        },
        "id": "yg1shLQlLV6U",
        "outputId": "4153cb9b-2485-4687-f51e-58ece979c54e"
      },
      "execution_count": 22,
      "outputs": [
        {
          "output_type": "stream",
          "name": "stdout",
          "text": [
            "Map Functions ................................\n",
            "[1, 2, 3, 4, 5, 6, 7, 8, 9]\n",
            "[1, 4, 9, 16, 25, 36, 49, 64, 81]\n",
            "['Ram', 'RamPM', 'Shyam', 'PMShyam', 'Sita', 'SiPMMta']\n",
            "['WWRam', 'WWRamPM', 'WWShyam', 'WWPMShyam', 'WWSita', 'WWSiPMMta']\n",
            "[3, 5, 5, 7, 4, 7]\n",
            "pList3 >  ['Ram', 'RamPM', 'Shyam', 'PMShyam', 'Sita', 'SiPMMta']\n",
            "[('Ram', 3), ('RamPM', 5), ('Shyam', 5), ('PMShyam', 7), ('Sita', 4), ('SiPMMta', 7)]\n"
          ]
        }
      ]
    },
    {
      "cell_type": "markdown",
      "source": [
        "##Reduce"
      ],
      "metadata": {
        "id": "AC5_ePghNPui"
      }
    },
    {
      "cell_type": "code",
      "source": [
        "# Reduce\n",
        "print(\"Reduce Functions ................................\")\n",
        "\n",
        "import functools\n",
        "print(pList1)\n",
        "pVal1 = functools.reduce(lambda x,y: x+y, pList1)         #   adding the numbers in a list\n",
        "print(pVal1)\n",
        "\n",
        "print(pList3)\n",
        "pVal2 = functools.reduce(lambda x,y: x+y, pList3)         # concatenating string in a list\n",
        "print(pVal2)\n",
        "\n",
        "print(pList8)\n",
        "pVal3 = functools.reduce(lambda x,y: (x[0]+y[0], x[1]+y[1]), pList8)  #   adding and concatenating elements in a list\n",
        "print(pVal3)\n",
        "#pVal4 = functools.reduce(lambda x,y: (x[1]+y[1], x[0]+y[0]), pList8)  #   adding and concatenating elements in a list\n",
        "#print(pVal4)"
      ],
      "metadata": {
        "colab": {
          "base_uri": "https://localhost:8080/"
        },
        "id": "vuWeSa0qLZ6E",
        "outputId": "da7e4980-d178-452f-fd29-7b104ef360c8"
      },
      "execution_count": 23,
      "outputs": [
        {
          "output_type": "stream",
          "name": "stdout",
          "text": [
            "Reduce Functions ................................\n",
            "[1, 2, 3, 4, 5, 6, 7, 8, 9]\n",
            "45\n",
            "['Ram', 'RamPM', 'Shyam', 'PMShyam', 'Sita', 'SiPMMta']\n",
            "RamRamPMShyamPMShyamSitaSiPMMta\n",
            "[('Ram', 3), ('RamPM', 5), ('Shyam', 5), ('PMShyam', 7), ('Sita', 4), ('SiPMMta', 7)]\n",
            "('RamRamPMShyamPMShyamSitaSiPMMta', 31)\n"
          ]
        }
      ]
    },
    {
      "cell_type": "code",
      "source": [
        "pList20 = [\"Ram\", \"RamPM\", \"Shyam\", \"PMShyam\", \"Sita\", \"SiPMMta\"]\n",
        "print(pList20)\n",
        "pList21A = list(map(lambda x : (x,len(x)),pList20) )    # returns a list of tuples\n",
        "print(pList21A)\n",
        "pList21B = list(map(lambda x : (len(x),x),pList20) )    # returns a list of tuples\n",
        "print(pList21B)\n",
        "print('----')\n",
        "print(pList21A)\n",
        "pVal22A = functools.reduce(lambda x,y: (x[0]+y[0], x[1]+y[1]), pList21A)  #   adding and concatenating elements in a list\n",
        "print(pVal22A)\n",
        "print(pList21B)\n",
        "pVal22B = functools.reduce(lambda x,y: (x[0]+y[0], x[1]+y[1]), pList21B)  #   adding and concatenating elements in a list\n",
        "print(pVal22B)\n",
        "print('----')\n",
        "#print(pList21A)\n",
        "#pVal22C = functools.reduce(lambda x,y: (x[1]+y[1], x[0]+y[0]), pList21A)  #   adding and concatenating elements in a list\n",
        "#print(pVal22C)\n",
        "print(pList21B)\n",
        "# following statement will throw an error\n",
        "#pVal22D = functools.reduce(lambda x,y: (x[1]+y[1], x[0]+y[0]), pList21B)  #   adding and concatenating elements in a list\n",
        "#print(pVal22D)"
      ],
      "metadata": {
        "id": "jY3tRPuaLeQS"
      },
      "execution_count": null,
      "outputs": []
    },
    {
      "cell_type": "markdown",
      "source": [
        "for an explanation on why we are getting an error in the previous code, see this link in stackoverflow https://stackoverflow.com/questions/62298383/python-reduce-order-of-arguments-cause-error/62298679?noredirect=1#comment110247133_62298679"
      ],
      "metadata": {
        "id": "XkhuuA_oLiz-"
      }
    },
    {
      "cell_type": "markdown",
      "source": [
        "#Tests"
      ],
      "metadata": {
        "id": "DUQ-Bgx7NTQU"
      }
    },
    {
      "cell_type": "code",
      "source": [
        "E1 = [ 'PM', 'M', 30]\n",
        "E2 = [ 'CP', 'M', 40]\n",
        "E3 = ['SRC','F', 50]\n",
        "\n",
        "L1 = [E1,E2,E3]\n",
        "print(E1, E2, E3, L1)"
      ],
      "metadata": {
        "id": "TQsMkZh8LvYA"
      },
      "execution_count": null,
      "outputs": []
    },
    {
      "cell_type": "code",
      "source": [
        "L2 = list(filter(lambda x:  x[1] == 'M', L1))\n",
        "print(L2)"
      ],
      "metadata": {
        "id": "INcMGwvJLyV_"
      },
      "execution_count": null,
      "outputs": []
    },
    {
      "cell_type": "code",
      "source": [
        "def f(x):\n",
        "    if x[1] == 'M':\n",
        "        x[1] = 1\n",
        "    else :\n",
        "        x[1] = 0\n",
        "    return(x)\n",
        "print(f(E1))"
      ],
      "metadata": {
        "id": "7qVWN48XL9RR"
      },
      "execution_count": null,
      "outputs": []
    },
    {
      "cell_type": "markdown",
      "metadata": {
        "id": "5Sc2DVuoE1nU"
      },
      "source": [
        "#Chronobooks <br>\n",
        "![alt text](https://1.bp.blogspot.com/-lTiYBkU2qbU/X1er__fvnkI/AAAAAAAAjtE/GhDR3OEGJr4NG43fZPodrQD5kbxtnKebgCLcBGAsYHQ/s600/Footer2020-600x200.png)<hr>\n",
        "Chronotantra and Chronoyantra are two science fiction novels that explore the collapse of human civilisation on Earth and then its rebirth and reincarnation both on Earth as well as on the distant worlds of Mars, Titan and Enceladus. But is it the human civilisation that is being reborn? Or is it some other sentience that is revealing itself. \n",
        "If you have an interest in AI and found this material useful, you may consider buying these novels, in paperback or kindle, from [http://bit.ly/chronobooks](http://bit.ly/chronobooks)"
      ]
    }
  ]
}