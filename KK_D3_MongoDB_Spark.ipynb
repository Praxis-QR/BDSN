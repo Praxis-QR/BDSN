{
  "nbformat": 4,
  "nbformat_minor": 0,
  "metadata": {
    "colab": {
      "name": "KK D3 MongoDB Spark",
      "provenance": [],
      "toc_visible": true,
      "authorship_tag": "ABX9TyMO25I40HHKBMpYoaL4HQ/R",
      "include_colab_link": true
    },
    "kernelspec": {
      "name": "python3",
      "display_name": "Python 3"
    },
    "language_info": {
      "name": "python"
    }
  },
  "cells": [
    {
      "cell_type": "markdown",
      "metadata": {
        "id": "view-in-github",
        "colab_type": "text"
      },
      "source": [
        "<a href=\"https://colab.research.google.com/github/Praxis-QR/BDSN/blob/main/KK_D3_MongoDB_Spark.ipynb\" target=\"_parent\"><img src=\"https://colab.research.google.com/assets/colab-badge.svg\" alt=\"Open In Colab\"/></a>"
      ]
    },
    {
      "cell_type": "markdown",
      "metadata": {
        "id": "4E9UtRR73Dqy"
      },
      "source": [
        "![alt text](https://github.com/Praxis-QR/RDWH/raw/main/images/YantraJaalBanner.png)<br>\n",
        "\n",
        "\n",
        "<hr>\n",
        "\n",
        "[Prithwis Mukerjee](http://www.linkedin.com/in/prithwis)<br>"
      ]
    },
    {
      "cell_type": "code",
      "source": [
        "from datetime import datetime\n",
        "import pytz\n",
        "print('Tested',datetime.now(pytz.timezone('Asia/Calcutta')))"
      ],
      "metadata": {
        "id": "-4cnlCT0oTjn",
        "outputId": "71bbded4-cf3b-40d3-e457-0137f0b06327",
        "colab": {
          "base_uri": "https://localhost:8080/"
        }
      },
      "execution_count": 1,
      "outputs": [
        {
          "output_type": "stream",
          "name": "stdout",
          "text": [
            "Tested 2023-08-17 14:18:06.417535+05:30\n"
          ]
        }
      ]
    },
    {
      "cell_type": "markdown",
      "metadata": {
        "id": "Ufw_D75I3aap"
      },
      "source": [
        "##References\n",
        "https://stackoverflow.com/questions/45142629/cant-connect-to-mongo-db-via-spark <br>\n",
        "https://docs.mongodb.com/spark-connector/current/python-api/"
      ]
    },
    {
      "cell_type": "markdown",
      "metadata": {
        "id": "IJF29q_Vza3q"
      },
      "source": [
        "#Install & Test LOCAL MongoDB"
      ]
    },
    {
      "cell_type": "code",
      "metadata": {
        "colab": {
          "base_uri": "https://localhost:8080/"
        },
        "id": "2r39GERUy5Tp",
        "outputId": "4eec127d-155c-4759-8bcb-80180a233631"
      },
      "source": [
        "#!apt install mongodb > /dev/null\n",
        "#!service mongodb start\n",
        "# Updated Install Sequence for MongoDB\n",
        "# https://www.mongodb.com/docs/manual/tutorial/install-mongodb-on-ubuntu/\n",
        "# Note Ubuntu versio 'jammy'\n",
        "!curl -fsSL https://pgp.mongodb.com/server-6.0.asc | \\\n",
        "   sudo gpg -o /usr/share/keyrings/mongodb-server-6.0.gpg \\\n",
        "   --dearmor\n",
        "# -----------------------\n",
        "# Note reference to jammy\n",
        "!echo \"deb [ arch=amd64,arm64 signed-by=/usr/share/keyrings/mongodb-server-6.0.gpg ] https://repo.mongodb.org/apt/ubuntu jammy/mongodb-org/6.0 multiverse\" | sudo tee /etc/apt/sources.list.d/mongodb-org-6.0.list\n",
        "# -----------------------\n",
        "!sudo apt-get update > /dev/null\n",
        "!sudo apt-get install -y mongodb-org > /dev/null              # ignore error and warning messages\n",
        "#!sudo service mongodb start --- this should work but does not\n",
        "# -----------------------\n",
        "# https://unix.stackexchange.com/questions/715119/system-v-init-service-cant-recongnise-mongod\n",
        "!sudo mkdir -p /var/log/mongodb /var/lib/mongodb\n",
        "!sudo chown `whoami` /var/lib/mongodb /var/log/mongodb/\n",
        "# -----------------------\n",
        "# Manually start MongoDB in background mode, to free up the terminal\n",
        "!nohup mongod --config /etc/mongod.conf &\n",
        "!mongod --version"
      ],
      "execution_count": 2,
      "outputs": [
        {
          "output_type": "stream",
          "name": "stdout",
          "text": [
            "deb [ arch=amd64,arm64 signed-by=/usr/share/keyrings/mongodb-server-6.0.gpg ] https://repo.mongodb.org/apt/ubuntu jammy/mongodb-org/6.0 multiverse\n",
            "debconf: unable to initialize frontend: Dialog\n",
            "debconf: (No usable dialog-like program is installed, so the dialog based frontend cannot be used. at /usr/share/perl5/Debconf/FrontEnd/Dialog.pm line 78, <> line 9.)\n",
            "debconf: falling back to frontend: Readline\n",
            "debconf: unable to initialize frontend: Readline\n",
            "debconf: (This frontend requires a controlling tty.)\n",
            "debconf: falling back to frontend: Teletype\n",
            "dpkg-preconfigure: unable to re-open stdin: \n",
            "nohup: appending output to 'nohup.out'\n",
            "db version v6.0.9\n",
            "Build Info: {\n",
            "    \"version\": \"6.0.9\",\n",
            "    \"gitVersion\": \"90c65f9cc8fc4e6664a5848230abaa9b3f3b02f7\",\n",
            "    \"openSSLVersion\": \"OpenSSL 3.0.2 15 Mar 2022\",\n",
            "    \"modules\": [],\n",
            "    \"allocator\": \"tcmalloc\",\n",
            "    \"environment\": {\n",
            "        \"distmod\": \"ubuntu2204\",\n",
            "        \"distarch\": \"x86_64\",\n",
            "        \"target_arch\": \"x86_64\"\n",
            "    }\n",
            "}\n"
          ]
        }
      ]
    },
    {
      "cell_type": "code",
      "source": [
        "!mongod -version"
      ],
      "metadata": {
        "id": "3g4ARFcNrVSb",
        "outputId": "4b36e287-d716-49b4-abc1-c4275dc28369",
        "colab": {
          "base_uri": "https://localhost:8080/"
        }
      },
      "execution_count": null,
      "outputs": [
        {
          "output_type": "stream",
          "name": "stdout",
          "text": [
            "db version v3.6.8\n",
            "git version: 8e540c0b6db93ce994cc548f000900bdc740f80a\n",
            "OpenSSL version: OpenSSL 1.1.1f  31 Mar 2020\n",
            "allocator: tcmalloc\n",
            "modules: none\n",
            "build environment:\n",
            "    distarch: x86_64\n",
            "    target_arch: x86_64\n"
          ]
        }
      ]
    },
    {
      "cell_type": "code",
      "source": [
        "!pip3 -qq install pymongo\n",
        "from pymongo import MongoClient\n",
        "import pandas as pd\n",
        "import os"
      ],
      "metadata": {
        "id": "lxFh77Wtr-g2",
        "outputId": "a3d6ee06-cc64-4e88-c3be-0cfa5a37515b",
        "colab": {
          "base_uri": "https://localhost:8080/"
        }
      },
      "execution_count": 3,
      "outputs": [
        {
          "output_type": "stream",
          "name": "stdout",
          "text": [
            "\u001b[?25l     \u001b[90m━━━━━━━━━━━━━━━━━━━━━━━━━━━━━━━━━━━━━━━━\u001b[0m \u001b[32m0.0/603.6 kB\u001b[0m \u001b[31m?\u001b[0m eta \u001b[36m-:--:--\u001b[0m\r\u001b[2K     \u001b[91m━━━━━\u001b[0m\u001b[90m╺\u001b[0m\u001b[90m━━━━━━━━━━━━━━━━━━━━━━━━━━━━━━━━━━\u001b[0m \u001b[32m81.9/603.6 kB\u001b[0m \u001b[31m2.5 MB/s\u001b[0m eta \u001b[36m0:00:01\u001b[0m\r\u001b[2K     \u001b[91m━━━━━━━━━━━━━━━━━━━━━━━\u001b[0m\u001b[90m╺\u001b[0m\u001b[90m━━━━━━━━━━━━━━━\u001b[0m \u001b[32m358.4/603.6 kB\u001b[0m \u001b[31m5.3 MB/s\u001b[0m eta \u001b[36m0:00:01\u001b[0m\r\u001b[2K     \u001b[91m━━━━━━━━━━━━━━━━━━━━━━━━━━━━━━━━━━━━━━\u001b[0m\u001b[90m╺\u001b[0m \u001b[32m593.9/603.6 kB\u001b[0m \u001b[31m6.2 MB/s\u001b[0m eta \u001b[36m0:00:01\u001b[0m\r\u001b[2K     \u001b[90m━━━━━━━━━━━━━━━━━━━━━━━━━━━━━━━━━━━━━━━\u001b[0m \u001b[32m603.6/603.6 kB\u001b[0m \u001b[31m5.6 MB/s\u001b[0m eta \u001b[36m0:00:00\u001b[0m\n",
            "\u001b[?25h\u001b[?25l     \u001b[90m━━━━━━━━━━━━━━━━━━━━━━━━━━━━━━━━━━━━━━━━\u001b[0m \u001b[32m0.0/300.4 kB\u001b[0m \u001b[31m?\u001b[0m eta \u001b[36m-:--:--\u001b[0m\r\u001b[2K     \u001b[91m━━━━━━━━━━━━━━━━━━━━━━━━━━━━━━━━━━━━━\u001b[0m\u001b[91m╸\u001b[0m \u001b[32m297.0/300.4 kB\u001b[0m \u001b[31m10.4 MB/s\u001b[0m eta \u001b[36m0:00:01\u001b[0m\r\u001b[2K     \u001b[90m━━━━━━━━━━━━━━━━━━━━━━━━━━━━━━━━━━━━━━━\u001b[0m \u001b[32m300.4/300.4 kB\u001b[0m \u001b[31m7.9 MB/s\u001b[0m eta \u001b[36m0:00:00\u001b[0m\n",
            "\u001b[?25h"
          ]
        }
      ]
    },
    {
      "cell_type": "code",
      "metadata": {
        "colab": {
          "base_uri": "https://localhost:8080/"
        },
        "id": "VGOhkXEK0FWt",
        "outputId": "f518cfbe-a2bc-40b0-8a44-0d246bdb0451"
      },
      "source": [
        "mongoURI = \"mongodb://localhost:27017/\"\n",
        "client = MongoClient(mongoURI)\n",
        "client.list_database_names() # ['admin', 'local']"
      ],
      "execution_count": 4,
      "outputs": [
        {
          "output_type": "execute_result",
          "data": {
            "text/plain": [
              "['admin', 'config', 'local']"
            ]
          },
          "metadata": {},
          "execution_count": 4
        }
      ]
    },
    {
      "cell_type": "code",
      "metadata": {
        "colab": {
          "base_uri": "https://localhost:8080/"
        },
        "id": "nbXj_rKp0Jq0",
        "outputId": "c20c66d5-a3ed-44ff-a3a0-306332bb43d0"
      },
      "source": [
        "db = client.local\n",
        "#db = client.sparkDB\n",
        "#db = client.people\n",
        "db.list_collection_names()"
      ],
      "execution_count": 5,
      "outputs": [
        {
          "output_type": "execute_result",
          "data": {
            "text/plain": [
              "['startup_log']"
            ]
          },
          "metadata": {},
          "execution_count": 5
        }
      ]
    },
    {
      "cell_type": "code",
      "metadata": {
        "colab": {
          "base_uri": "https://localhost:8080/"
        },
        "id": "bXJMeUu40PDk",
        "outputId": "20c231c0-6b0e-400e-a5b1-40e4ce06327b"
      },
      "source": [
        "table = db.startup_log\n",
        "#table = db.coll01\n",
        "#table = db.contacts\n",
        "#table.count_documents({}) #gives the number of documents in the table\n",
        "#table.find_one()"
      ],
      "execution_count": 6,
      "outputs": [
        {
          "output_type": "execute_result",
          "data": {
            "text/plain": [
              "{'_id': '0468846f0b49-1692262164194',\n",
              " 'hostname': '0468846f0b49',\n",
              " 'startTime': datetime.datetime(2023, 8, 17, 8, 49, 24),\n",
              " 'startTimeLocal': 'Thu Aug 17 08:49:24.194',\n",
              " 'cmdLine': {'config': '/etc/mongod.conf',\n",
              "  'net': {'bindIp': '127.0.0.1', 'port': 27017},\n",
              "  'processManagement': {'timeZoneInfo': '/usr/share/zoneinfo'},\n",
              "  'storage': {'dbPath': '/var/lib/mongodb'},\n",
              "  'systemLog': {'destination': 'file',\n",
              "   'logAppend': True,\n",
              "   'path': '/var/log/mongodb/mongod.log'}},\n",
              " 'pid': 1591,\n",
              " 'buildinfo': {'version': '6.0.9',\n",
              "  'gitVersion': '90c65f9cc8fc4e6664a5848230abaa9b3f3b02f7',\n",
              "  'modules': [],\n",
              "  'allocator': 'tcmalloc',\n",
              "  'javascriptEngine': 'mozjs',\n",
              "  'sysInfo': 'deprecated',\n",
              "  'versionArray': [6, 0, 9, 0],\n",
              "  'openssl': {'running': 'OpenSSL 3.0.2 15 Mar 2022',\n",
              "   'compiled': 'OpenSSL 3.0.2 15 Mar 2022'},\n",
              "  'buildEnvironment': {'distmod': 'ubuntu2204',\n",
              "   'distarch': 'x86_64',\n",
              "   'cc': '/opt/mongodbtoolchain/v3/bin/gcc: gcc (GCC) 8.5.0',\n",
              "   'ccflags': '-Werror -include mongo/platform/basic.h -ffp-contract=off -fasynchronous-unwind-tables -ggdb -Wall -Wsign-compare -Wno-unknown-pragmas -Winvalid-pch -fno-omit-frame-pointer -fno-strict-aliasing -O2 -march=sandybridge -mtune=generic -mprefer-vector-width=128 -Wno-unused-local-typedefs -Wno-unused-function -Wno-deprecated-declarations -Wno-unused-const-variable -Wno-unused-but-set-variable -Wno-missing-braces -fstack-protector-strong -fdebug-types-section -Wa,--nocompress-debug-sections -fno-builtin-memcmp',\n",
              "   'cxx': '/opt/mongodbtoolchain/v3/bin/g++: g++ (GCC) 8.5.0',\n",
              "   'cxxflags': '-Woverloaded-virtual -Wno-maybe-uninitialized -fsized-deallocation -std=c++17',\n",
              "   'linkflags': '-Wl,--fatal-warnings -pthread -Wl,-z,now -fuse-ld=gold -fstack-protector-strong -fdebug-types-section -Wl,--no-threads -Wl,--build-id -Wl,--hash-style=gnu -Wl,-z,noexecstack -Wl,--warn-execstack -Wl,-z,relro -Wl,--compress-debug-sections=none -Wl,-z,origin -Wl,--enable-new-dtags',\n",
              "   'target_arch': 'x86_64',\n",
              "   'target_os': 'linux',\n",
              "   'cppdefines': 'SAFEINT_USE_INTRINSICS 0 PCRE_STATIC NDEBUG _XOPEN_SOURCE 700 _GNU_SOURCE _FORTIFY_SOURCE 2 BOOST_THREAD_VERSION 5 BOOST_THREAD_USES_DATETIME BOOST_SYSTEM_NO_DEPRECATED BOOST_MATH_NO_LONG_DOUBLE_MATH_FUNCTIONS BOOST_ENABLE_ASSERT_DEBUG_HANDLER BOOST_LOG_NO_SHORTHAND_NAMES BOOST_LOG_USE_NATIVE_SYSLOG BOOST_LOG_WITHOUT_THREAD_ATTR ABSL_FORCE_ALIGNED_ACCESS'},\n",
              "  'bits': 64,\n",
              "  'debug': False,\n",
              "  'maxBsonObjectSize': 16777216,\n",
              "  'storageEngines': ['devnull', 'ephemeralForTest', 'wiredTiger']}}"
            ]
          },
          "metadata": {},
          "execution_count": 6
        }
      ]
    },
    {
      "cell_type": "markdown",
      "metadata": {
        "id": "ibDjNUdusESp"
      },
      "source": [
        "#Connect to and Test Remote MongoDB"
      ]
    },
    {
      "cell_type": "markdown",
      "metadata": {
        "id": "I5cwh9s40WPp"
      },
      "source": [
        "#Install Spark"
      ]
    },
    {
      "cell_type": "markdown",
      "source": [
        "## Deprecated - dont use these commands"
      ],
      "metadata": {
        "id": "LbhxaAvpbbwK"
      }
    },
    {
      "cell_type": "code",
      "metadata": {
        "colab": {
          "base_uri": "https://localhost:8080/"
        },
        "id": "YhQ6FE6F0dYc",
        "outputId": "83595b07-7098-4935-d2b4-19fc21641496"
      },
      "source": [
        "!apt-get update > /dev/null\n",
        "!apt-get install openjdk-8-jdk-headless -qq > /dev/null\n",
        "\n",
        "#!wget -q http://apache.osuosl.org/spark/spark-2.4.5/spark-2.4.5-bin-hadoop2.7.tgz\n",
        "!wget -q http://apache.osuosl.org/spark/spark-3.1.2/spark-3.1.2-bin-hadoop3.2.tgz\n",
        "#\n",
        "# if the current version of Spark is not used, there may be errors\n",
        "# check here for current versions http://apache.osuosl.org/spark\n",
        "#\n",
        "\n",
        "#!tar xf spark-2.4.5-bin-hadoop2.7.tgz\n",
        "!tar xf spark-3.1.2-bin-hadoop3.2.tgz\n",
        "#!pip install -q findspark              --- no more required,  replaced by pyspark\n",
        "!pip install -q pyspark\n",
        "import os\n",
        "os.environ[\"JAVA_HOME\"] = \"/usr/lib/jvm/java-8-openjdk-amd64\"\n",
        "\n",
        "#os.environ[\"SPARK_HOME\"] = \"/content/spark-3.0.1-bin-hadoop3.2\"\n",
        "os.environ[\"SPARK_HOME\"] = \"/content/spark-3.1.2-bin-hadoop3.2\""
      ],
      "execution_count": null,
      "outputs": [
        {
          "output_type": "stream",
          "name": "stdout",
          "text": [
            "\u001b[K     |████████████████████████████████| 281.3 MB 38 kB/s \n",
            "\u001b[K     |████████████████████████████████| 198 kB 55.3 MB/s \n",
            "\u001b[?25h  Building wheel for pyspark (setup.py) ... \u001b[?25l\u001b[?25hdone\n"
          ]
        }
      ]
    },
    {
      "cell_type": "markdown",
      "source": [
        "## Simple PIP3 install"
      ],
      "metadata": {
        "id": "TNgWKu2Mbgtz"
      }
    },
    {
      "cell_type": "code",
      "source": [
        "!pip3 install -q pyspark"
      ],
      "metadata": {
        "id": "JSVqLQZ5avk5",
        "outputId": "023155bf-11c4-4402-e85e-591623d7da72",
        "colab": {
          "base_uri": "https://localhost:8080/"
        }
      },
      "execution_count": 7,
      "outputs": [
        {
          "output_type": "stream",
          "name": "stdout",
          "text": [
            "\u001b[2K     \u001b[90m━━━━━━━━━━━━━━━━━━━━━━━━━━━━━━━━━━━━━━━\u001b[0m \u001b[32m310.8/310.8 MB\u001b[0m \u001b[31m4.9 MB/s\u001b[0m eta \u001b[36m0:00:00\u001b[0m\n",
            "\u001b[?25h  Preparing metadata (setup.py) ... \u001b[?25l\u001b[?25hdone\n",
            "  Building wheel for pyspark (setup.py) ... \u001b[?25l\u001b[?25hdone\n"
          ]
        }
      ]
    },
    {
      "cell_type": "markdown",
      "metadata": {
        "id": "WiQj8-r41ndy"
      },
      "source": [
        "#Spark2Mongo"
      ]
    },
    {
      "cell_type": "code",
      "metadata": {
        "id": "DX1IUNNfs1xp"
      },
      "source": [
        "#import findspark\n",
        "#findspark.init()\n",
        "from pyspark.sql import SparkSession\n",
        "spark = SparkSession \\\n",
        "    .builder \\\n",
        "    .master(\"local[*]\") \\\n",
        "    .config(\"spark.mongodb.input.uri\", \"mongodb://localhost:27017/sparkDB.coll01\") \\\n",
        "    .config(\"spark.mongodb.output.uri\", \"mongodb://localhost:27017/sparkDB.coll01\") \\\n",
        "    .config('spark.jars.packages', 'org.mongodb.spark:mongo-spark-connector_2.12:3.0.1')\\\n",
        "    .getOrCreate()"
      ],
      "execution_count": 8,
      "outputs": []
    },
    {
      "cell_type": "code",
      "metadata": {
        "id": "5g2LnYih4eXP"
      },
      "source": [
        "#sc.stop()"
      ],
      "execution_count": null,
      "outputs": []
    },
    {
      "cell_type": "code",
      "metadata": {
        "id": "SkrVz0zD3SZG",
        "outputId": "6c7b0a81-0cd6-4a48-8a4c-0630cfe291f5",
        "colab": {
          "base_uri": "https://localhost:8080/",
          "height": 196
        }
      },
      "source": [
        "sc = spark.sparkContext\n",
        "sc"
      ],
      "execution_count": 9,
      "outputs": [
        {
          "output_type": "execute_result",
          "data": {
            "text/plain": [
              "<SparkContext master=local[*] appName=pyspark-shell>"
            ],
            "text/html": [
              "\n",
              "        <div>\n",
              "            <p><b>SparkContext</b></p>\n",
              "\n",
              "            <p><a href=\"http://0468846f0b49:4040\">Spark UI</a></p>\n",
              "\n",
              "            <dl>\n",
              "              <dt>Version</dt>\n",
              "                <dd><code>v3.4.1</code></dd>\n",
              "              <dt>Master</dt>\n",
              "                <dd><code>local[*]</code></dd>\n",
              "              <dt>AppName</dt>\n",
              "                <dd><code>pyspark-shell</code></dd>\n",
              "            </dl>\n",
              "        </div>\n",
              "        "
            ]
          },
          "metadata": {},
          "execution_count": 9
        }
      ]
    },
    {
      "cell_type": "markdown",
      "metadata": {
        "id": "47jgWreB3d9Z"
      },
      "source": [
        "##Write to MongoDB"
      ]
    },
    {
      "cell_type": "code",
      "metadata": {
        "id": "U7y6qyaj3gwd"
      },
      "source": [
        "people = spark.createDataFrame([(\"Bilbo Baggins\",  50), (\"Gandalf\", 1000), (\"Thorin\", 195), (\"Balin\", 178), (\"Kili\", 77),\n",
        "   (\"Dwalin\", 169), (\"Oin\", 167), (\"Gloin\", 158), (\"Fili\", 82), (\"Bombur\", None)], [\"name\", \"age\"])"
      ],
      "execution_count": 10,
      "outputs": []
    },
    {
      "cell_type": "code",
      "metadata": {
        "colab": {
          "base_uri": "https://localhost:8080/"
        },
        "id": "ItJYMCxj3oEZ",
        "outputId": "a62e5884-d8cb-49d4-d2f7-3d10bcb1cef7"
      },
      "source": [
        "people.show()"
      ],
      "execution_count": 11,
      "outputs": [
        {
          "output_type": "stream",
          "name": "stdout",
          "text": [
            "+-------------+----+\n",
            "|         name| age|\n",
            "+-------------+----+\n",
            "|Bilbo Baggins|  50|\n",
            "|      Gandalf|1000|\n",
            "|       Thorin| 195|\n",
            "|        Balin| 178|\n",
            "|         Kili|  77|\n",
            "|       Dwalin| 169|\n",
            "|          Oin| 167|\n",
            "|        Gloin| 158|\n",
            "|         Fili|  82|\n",
            "|       Bombur|null|\n",
            "+-------------+----+\n",
            "\n"
          ]
        }
      ]
    },
    {
      "cell_type": "code",
      "metadata": {
        "id": "05EEmrZo3-3M"
      },
      "source": [
        "# this will send the data to the default database / collection specified during startup\n",
        "people.write.format(\"mongo\").mode(\"append\").save()"
      ],
      "execution_count": 12,
      "outputs": []
    },
    {
      "cell_type": "code",
      "metadata": {
        "id": "yw-nPJ6d99Po"
      },
      "source": [
        "# this will send the data to a new database / collection specified in this command\n",
        "people.write.format(\"mongo\").mode(\"append\").option(\"database\",\"people\").option(\"collection\", \"contacts\").save()"
      ],
      "execution_count": 13,
      "outputs": []
    },
    {
      "cell_type": "code",
      "metadata": {
        "colab": {
          "base_uri": "https://localhost:8080/"
        },
        "id": "_wIKKoswS93j",
        "outputId": "6c0d5b26-cb73-4efd-ee74-39da85b65d63"
      },
      "source": [
        "client.list_database_names() # ['admin', 'local']"
      ],
      "execution_count": 14,
      "outputs": [
        {
          "output_type": "execute_result",
          "data": {
            "text/plain": [
              "['admin', 'config', 'local', 'people', 'sparkDB']"
            ]
          },
          "metadata": {},
          "execution_count": 14
        }
      ]
    },
    {
      "cell_type": "markdown",
      "metadata": {
        "id": "nF6vnSbBIbMj"
      },
      "source": [
        "##Check with MongoDB client"
      ]
    },
    {
      "cell_type": "code",
      "metadata": {
        "id": "-QIAAZc7IYBC",
        "outputId": "3d3ccfc1-6f46-4e31-8c51-b5b4779a0d95",
        "colab": {
          "base_uri": "https://localhost:8080/"
        }
      },
      "source": [
        "client.list_database_names() # ['admin', 'local']"
      ],
      "execution_count": 15,
      "outputs": [
        {
          "output_type": "execute_result",
          "data": {
            "text/plain": [
              "['admin', 'config', 'local', 'people', 'sparkDB']"
            ]
          },
          "metadata": {},
          "execution_count": 15
        }
      ]
    },
    {
      "cell_type": "code",
      "metadata": {
        "id": "Nb480tY7IqUq",
        "outputId": "feecd829-4ec3-474d-99cd-4215b0d88b24",
        "colab": {
          "base_uri": "https://localhost:8080/"
        }
      },
      "source": [
        "db = client.people\n",
        "list(db.list_collections())"
      ],
      "execution_count": 16,
      "outputs": [
        {
          "output_type": "execute_result",
          "data": {
            "text/plain": [
              "[{'name': 'contacts',\n",
              "  'type': 'collection',\n",
              "  'options': {},\n",
              "  'info': {'readOnly': False,\n",
              "   'uuid': Binary(b\"Q\\x8d\\x9a'\\xe9\\xc7M\\xa4\\x80(\\x90;\\xab\\xba\\x83h\", 4)},\n",
              "  'idIndex': {'v': 2, 'key': {'_id': 1}, 'name': '_id_'}}]"
            ]
          },
          "metadata": {},
          "execution_count": 16
        }
      ]
    },
    {
      "cell_type": "code",
      "source": [
        "db2 = client.sparkDB\n",
        "list(db2.list_collections())"
      ],
      "metadata": {
        "id": "8d7cRb0nmkmL",
        "outputId": "0b77052c-29e6-4db3-c047-1d1608060e9e",
        "colab": {
          "base_uri": "https://localhost:8080/"
        }
      },
      "execution_count": 17,
      "outputs": [
        {
          "output_type": "execute_result",
          "data": {
            "text/plain": [
              "[{'name': 'coll01',\n",
              "  'type': 'collection',\n",
              "  'options': {},\n",
              "  'info': {'readOnly': False,\n",
              "   'uuid': Binary(b'zR\\xc2\\x02\\xb8\\xd9D\\xf2\\x846b\\x01)\\x9a\\xb2\\xd5', 4)},\n",
              "  'idIndex': {'v': 2, 'key': {'_id': 1}, 'name': '_id_'}}]"
            ]
          },
          "metadata": {},
          "execution_count": 17
        }
      ]
    },
    {
      "cell_type": "code",
      "metadata": {
        "id": "qaEaFzMTJI89",
        "outputId": "1dca2902-b2b0-401f-a06f-ad3584ce5feb",
        "colab": {
          "base_uri": "https://localhost:8080/"
        }
      },
      "source": [
        "kollection = db.contacts\n",
        "c = kollection.find({},{\"_id\":0})\n",
        "for crnt in c:\n",
        "    print(crnt)"
      ],
      "execution_count": 18,
      "outputs": [
        {
          "output_type": "stream",
          "name": "stdout",
          "text": [
            "{'name': 'Bilbo Baggins', 'age': 50}\n",
            "{'name': 'Gandalf', 'age': 1000}\n",
            "{'name': 'Thorin', 'age': 195}\n",
            "{'name': 'Balin', 'age': 178}\n",
            "{'name': 'Kili', 'age': 77}\n",
            "{'name': 'Dwalin', 'age': 169}\n",
            "{'name': 'Oin', 'age': 167}\n",
            "{'name': 'Gloin', 'age': 158}\n",
            "{'name': 'Fili', 'age': 82}\n",
            "{'name': 'Bombur'}\n"
          ]
        }
      ]
    },
    {
      "cell_type": "code",
      "source": [
        "pandasDF = pd.DataFrame(kollection.find({},{\"_id\":0}))\n",
        "pandasDF"
      ],
      "metadata": {
        "id": "ZXDiqS5UuU9d",
        "outputId": "5a715250-cd28-4fe4-ef44-d94c8c86ebbe",
        "colab": {
          "base_uri": "https://localhost:8080/",
          "height": 363
        }
      },
      "execution_count": 19,
      "outputs": [
        {
          "output_type": "execute_result",
          "data": {
            "text/plain": [
              "            name     age\n",
              "0  Bilbo Baggins    50.0\n",
              "1        Gandalf  1000.0\n",
              "2         Thorin   195.0\n",
              "3          Balin   178.0\n",
              "4           Kili    77.0\n",
              "5         Dwalin   169.0\n",
              "6            Oin   167.0\n",
              "7          Gloin   158.0\n",
              "8           Fili    82.0\n",
              "9         Bombur     NaN"
            ],
            "text/html": [
              "\n",
              "\n",
              "  <div id=\"df-47aa037b-2601-47d8-889f-1bdd086584d2\">\n",
              "    <div class=\"colab-df-container\">\n",
              "      <div>\n",
              "<style scoped>\n",
              "    .dataframe tbody tr th:only-of-type {\n",
              "        vertical-align: middle;\n",
              "    }\n",
              "\n",
              "    .dataframe tbody tr th {\n",
              "        vertical-align: top;\n",
              "    }\n",
              "\n",
              "    .dataframe thead th {\n",
              "        text-align: right;\n",
              "    }\n",
              "</style>\n",
              "<table border=\"1\" class=\"dataframe\">\n",
              "  <thead>\n",
              "    <tr style=\"text-align: right;\">\n",
              "      <th></th>\n",
              "      <th>name</th>\n",
              "      <th>age</th>\n",
              "    </tr>\n",
              "  </thead>\n",
              "  <tbody>\n",
              "    <tr>\n",
              "      <th>0</th>\n",
              "      <td>Bilbo Baggins</td>\n",
              "      <td>50.0</td>\n",
              "    </tr>\n",
              "    <tr>\n",
              "      <th>1</th>\n",
              "      <td>Gandalf</td>\n",
              "      <td>1000.0</td>\n",
              "    </tr>\n",
              "    <tr>\n",
              "      <th>2</th>\n",
              "      <td>Thorin</td>\n",
              "      <td>195.0</td>\n",
              "    </tr>\n",
              "    <tr>\n",
              "      <th>3</th>\n",
              "      <td>Balin</td>\n",
              "      <td>178.0</td>\n",
              "    </tr>\n",
              "    <tr>\n",
              "      <th>4</th>\n",
              "      <td>Kili</td>\n",
              "      <td>77.0</td>\n",
              "    </tr>\n",
              "    <tr>\n",
              "      <th>5</th>\n",
              "      <td>Dwalin</td>\n",
              "      <td>169.0</td>\n",
              "    </tr>\n",
              "    <tr>\n",
              "      <th>6</th>\n",
              "      <td>Oin</td>\n",
              "      <td>167.0</td>\n",
              "    </tr>\n",
              "    <tr>\n",
              "      <th>7</th>\n",
              "      <td>Gloin</td>\n",
              "      <td>158.0</td>\n",
              "    </tr>\n",
              "    <tr>\n",
              "      <th>8</th>\n",
              "      <td>Fili</td>\n",
              "      <td>82.0</td>\n",
              "    </tr>\n",
              "    <tr>\n",
              "      <th>9</th>\n",
              "      <td>Bombur</td>\n",
              "      <td>NaN</td>\n",
              "    </tr>\n",
              "  </tbody>\n",
              "</table>\n",
              "</div>\n",
              "      <button class=\"colab-df-convert\" onclick=\"convertToInteractive('df-47aa037b-2601-47d8-889f-1bdd086584d2')\"\n",
              "              title=\"Convert this dataframe to an interactive table.\"\n",
              "              style=\"display:none;\">\n",
              "\n",
              "  <svg xmlns=\"http://www.w3.org/2000/svg\" height=\"24px\"viewBox=\"0 0 24 24\"\n",
              "       width=\"24px\">\n",
              "    <path d=\"M0 0h24v24H0V0z\" fill=\"none\"/>\n",
              "    <path d=\"M18.56 5.44l.94 2.06.94-2.06 2.06-.94-2.06-.94-.94-2.06-.94 2.06-2.06.94zm-11 1L8.5 8.5l.94-2.06 2.06-.94-2.06-.94L8.5 2.5l-.94 2.06-2.06.94zm10 10l.94 2.06.94-2.06 2.06-.94-2.06-.94-.94-2.06-.94 2.06-2.06.94z\"/><path d=\"M17.41 7.96l-1.37-1.37c-.4-.4-.92-.59-1.43-.59-.52 0-1.04.2-1.43.59L10.3 9.45l-7.72 7.72c-.78.78-.78 2.05 0 2.83L4 21.41c.39.39.9.59 1.41.59.51 0 1.02-.2 1.41-.59l7.78-7.78 2.81-2.81c.8-.78.8-2.07 0-2.86zM5.41 20L4 18.59l7.72-7.72 1.47 1.35L5.41 20z\"/>\n",
              "  </svg>\n",
              "      </button>\n",
              "\n",
              "\n",
              "\n",
              "    <div id=\"df-ee892e96-1a1d-411d-8b6c-f73fd0340b4b\">\n",
              "      <button class=\"colab-df-quickchart\" onclick=\"quickchart('df-ee892e96-1a1d-411d-8b6c-f73fd0340b4b')\"\n",
              "              title=\"Suggest charts.\"\n",
              "              style=\"display:none;\">\n",
              "\n",
              "<svg xmlns=\"http://www.w3.org/2000/svg\" height=\"24px\"viewBox=\"0 0 24 24\"\n",
              "     width=\"24px\">\n",
              "    <g>\n",
              "        <path d=\"M19 3H5c-1.1 0-2 .9-2 2v14c0 1.1.9 2 2 2h14c1.1 0 2-.9 2-2V5c0-1.1-.9-2-2-2zM9 17H7v-7h2v7zm4 0h-2V7h2v10zm4 0h-2v-4h2v4z\"/>\n",
              "    </g>\n",
              "</svg>\n",
              "      </button>\n",
              "    </div>\n",
              "\n",
              "<style>\n",
              "  .colab-df-quickchart {\n",
              "    background-color: #E8F0FE;\n",
              "    border: none;\n",
              "    border-radius: 50%;\n",
              "    cursor: pointer;\n",
              "    display: none;\n",
              "    fill: #1967D2;\n",
              "    height: 32px;\n",
              "    padding: 0 0 0 0;\n",
              "    width: 32px;\n",
              "  }\n",
              "\n",
              "  .colab-df-quickchart:hover {\n",
              "    background-color: #E2EBFA;\n",
              "    box-shadow: 0px 1px 2px rgba(60, 64, 67, 0.3), 0px 1px 3px 1px rgba(60, 64, 67, 0.15);\n",
              "    fill: #174EA6;\n",
              "  }\n",
              "\n",
              "  [theme=dark] .colab-df-quickchart {\n",
              "    background-color: #3B4455;\n",
              "    fill: #D2E3FC;\n",
              "  }\n",
              "\n",
              "  [theme=dark] .colab-df-quickchart:hover {\n",
              "    background-color: #434B5C;\n",
              "    box-shadow: 0px 1px 3px 1px rgba(0, 0, 0, 0.15);\n",
              "    filter: drop-shadow(0px 1px 2px rgba(0, 0, 0, 0.3));\n",
              "    fill: #FFFFFF;\n",
              "  }\n",
              "</style>\n",
              "\n",
              "    <script>\n",
              "      async function quickchart(key) {\n",
              "        const containerElement = document.querySelector('#' + key);\n",
              "        const charts = await google.colab.kernel.invokeFunction(\n",
              "            'suggestCharts', [key], {});\n",
              "      }\n",
              "    </script>\n",
              "\n",
              "\n",
              "      <script>\n",
              "\n",
              "function displayQuickchartButton(domScope) {\n",
              "  let quickchartButtonEl =\n",
              "    domScope.querySelector('#df-ee892e96-1a1d-411d-8b6c-f73fd0340b4b button.colab-df-quickchart');\n",
              "  quickchartButtonEl.style.display =\n",
              "    google.colab.kernel.accessAllowed ? 'block' : 'none';\n",
              "}\n",
              "\n",
              "        displayQuickchartButton(document);\n",
              "      </script>\n",
              "      <style>\n",
              "    .colab-df-container {\n",
              "      display:flex;\n",
              "      flex-wrap:wrap;\n",
              "      gap: 12px;\n",
              "    }\n",
              "\n",
              "    .colab-df-convert {\n",
              "      background-color: #E8F0FE;\n",
              "      border: none;\n",
              "      border-radius: 50%;\n",
              "      cursor: pointer;\n",
              "      display: none;\n",
              "      fill: #1967D2;\n",
              "      height: 32px;\n",
              "      padding: 0 0 0 0;\n",
              "      width: 32px;\n",
              "    }\n",
              "\n",
              "    .colab-df-convert:hover {\n",
              "      background-color: #E2EBFA;\n",
              "      box-shadow: 0px 1px 2px rgba(60, 64, 67, 0.3), 0px 1px 3px 1px rgba(60, 64, 67, 0.15);\n",
              "      fill: #174EA6;\n",
              "    }\n",
              "\n",
              "    [theme=dark] .colab-df-convert {\n",
              "      background-color: #3B4455;\n",
              "      fill: #D2E3FC;\n",
              "    }\n",
              "\n",
              "    [theme=dark] .colab-df-convert:hover {\n",
              "      background-color: #434B5C;\n",
              "      box-shadow: 0px 1px 3px 1px rgba(0, 0, 0, 0.15);\n",
              "      filter: drop-shadow(0px 1px 2px rgba(0, 0, 0, 0.3));\n",
              "      fill: #FFFFFF;\n",
              "    }\n",
              "  </style>\n",
              "\n",
              "      <script>\n",
              "        const buttonEl =\n",
              "          document.querySelector('#df-47aa037b-2601-47d8-889f-1bdd086584d2 button.colab-df-convert');\n",
              "        buttonEl.style.display =\n",
              "          google.colab.kernel.accessAllowed ? 'block' : 'none';\n",
              "\n",
              "        async function convertToInteractive(key) {\n",
              "          const element = document.querySelector('#df-47aa037b-2601-47d8-889f-1bdd086584d2');\n",
              "          const dataTable =\n",
              "            await google.colab.kernel.invokeFunction('convertToInteractive',\n",
              "                                                     [key], {});\n",
              "          if (!dataTable) return;\n",
              "\n",
              "          const docLinkHtml = 'Like what you see? Visit the ' +\n",
              "            '<a target=\"_blank\" href=https://colab.research.google.com/notebooks/data_table.ipynb>data table notebook</a>'\n",
              "            + ' to learn more about interactive tables.';\n",
              "          element.innerHTML = '';\n",
              "          dataTable['output_type'] = 'display_data';\n",
              "          await google.colab.output.renderOutput(dataTable, element);\n",
              "          const docLink = document.createElement('div');\n",
              "          docLink.innerHTML = docLinkHtml;\n",
              "          element.appendChild(docLink);\n",
              "        }\n",
              "      </script>\n",
              "    </div>\n",
              "  </div>\n"
            ]
          },
          "metadata": {},
          "execution_count": 19
        }
      ]
    },
    {
      "cell_type": "markdown",
      "metadata": {
        "id": "x58zEIvc-yiv"
      },
      "source": [
        "##Read from MongoDB"
      ]
    },
    {
      "cell_type": "code",
      "metadata": {
        "id": "loC3Rmm3-1Jz",
        "outputId": "b735e1cb-82da-4bb1-b960-514fc453f32a",
        "colab": {
          "base_uri": "https://localhost:8080/"
        }
      },
      "source": [
        "sparkDF = spark.read.format(\"mongo\").option(\"uri\",\"mongodb://127.0.0.1/people.contacts\").load()\n",
        "sparkDF.show()"
      ],
      "execution_count": 20,
      "outputs": [
        {
          "output_type": "stream",
          "name": "stdout",
          "text": [
            "+--------------------+----+-------------+\n",
            "|                 _id| age|         name|\n",
            "+--------------------+----+-------------+\n",
            "|{64dddfe53bd5e239...|  50|Bilbo Baggins|\n",
            "|{64dddfe53bd5e239...|1000|      Gandalf|\n",
            "|{64dddfe53bd5e239...| 195|       Thorin|\n",
            "|{64dddfe53bd5e239...| 178|        Balin|\n",
            "|{64dddfe53bd5e239...|  77|         Kili|\n",
            "|{64dddfe53bd5e239...| 169|       Dwalin|\n",
            "|{64dddfe53bd5e239...| 167|          Oin|\n",
            "|{64dddfe53bd5e239...| 158|        Gloin|\n",
            "|{64dddfe53bd5e239...|  82|         Fili|\n",
            "|{64dddfe53bd5e239...|null|       Bombur|\n",
            "+--------------------+----+-------------+\n",
            "\n"
          ]
        }
      ]
    },
    {
      "cell_type": "code",
      "source": [
        "from datetime import datetime\n",
        "import pytz\n",
        "print('signed off at  ',datetime.now(pytz.timezone('Asia/Kolkata')))"
      ],
      "metadata": {
        "id": "yoJTs7T8tsa6",
        "outputId": "e64a4ebc-b742-4fe1-de4a-e89cfc62a16c",
        "colab": {
          "base_uri": "https://localhost:8080/"
        }
      },
      "execution_count": 21,
      "outputs": [
        {
          "output_type": "stream",
          "name": "stdout",
          "text": [
            "signed off at   2023-08-17 14:23:41.250485+05:30\n"
          ]
        }
      ]
    },
    {
      "cell_type": "markdown",
      "metadata": {
        "id": "7n2hMBsI3Mea"
      },
      "source": [
        "#Chronobooks <br>\n",
        "Two science fiction novels by Prithwis Mukerjee. A dystopian Earth. A technocratic society managed by artificial intelligence. Escape and epiphany on Mars. Can man and machine, carbon and silicon explore and escape into other dimensions of existence? An Indic perspective rooted in Advaita Vedanta and the Divine Feminine.  [More information](http://bit.ly/chronobooks) <br>\n",
        "![alt text](https://github.com/Praxis-QR/RDWH/raw/main/images/CTCYFooter-1.png)"
      ]
    }
  ]
}