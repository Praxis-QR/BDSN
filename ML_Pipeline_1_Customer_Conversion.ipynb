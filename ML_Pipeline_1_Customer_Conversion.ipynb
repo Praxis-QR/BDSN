{
  "nbformat": 4,
  "nbformat_minor": 0,
  "metadata": {
    "colab": {
      "name": "Pipeline #1  Customer Conversion",
      "provenance": [],
      "collapsed_sections": [],
      "toc_visible": true,
      "include_colab_link": true
    },
    "kernelspec": {
      "name": "python3",
      "display_name": "Python 3"
    },
    "language_info": {
      "name": "python"
    }
  },
  "cells": [
    {
      "cell_type": "markdown",
      "metadata": {
        "id": "view-in-github",
        "colab_type": "text"
      },
      "source": [
        "<a href=\"https://colab.research.google.com/github/Praxis-QR/BDSN/blob/main/ML_Pipeline_1_Customer_Conversion.ipynb\" target=\"_parent\"><img src=\"https://colab.research.google.com/assets/colab-badge.svg\" alt=\"Open In Colab\"/></a>"
      ]
    },
    {
      "cell_type": "markdown",
      "source": [
        "![CC-BY-SA](https://licensebuttons.net/l/by-sa/3.0/88x31.png)<br>\n",
        "<hr>\n",
        "\n",
        "![alt text](https://4.bp.blogspot.com/-gbL5nZDkpFQ/XScFYwoTEII/AAAAAAAAAGY/CcVb_HDLwvs2Brv5T4vSsUcz7O4r2Q79ACK4BGAYYCw/s1600/kk3-header00-beta.png)<br>\n",
        "\n",
        "\n",
        "<hr>\n",
        "\n",
        "[Prithwis Mukerjee](http://www.linkedin.com/in/prithwis)<br>"
      ],
      "metadata": {
        "id": "OUysMCJhcgVy"
      }
    },
    {
      "cell_type": "markdown",
      "source": [
        "#Predicting Customer Conversion with Logistic Regression"
      ],
      "metadata": {
        "id": "NC3PUiZCnAjb"
      }
    },
    {
      "cell_type": "markdown",
      "source": [
        "#Install"
      ],
      "metadata": {
        "id": "blYZy6RCDeX2"
      }
    },
    {
      "cell_type": "code",
      "source": [
        "!pip3 -q install pyspark\n",
        "from pyspark.sql import SparkSession\n",
        "spark = SparkSession.builder.appName('Praxis').getOrCreate()"
      ],
      "metadata": {
        "colab": {
          "base_uri": "https://localhost:8080/"
        },
        "id": "NFD28JjJQS66",
        "outputId": "b3b7cb5f-e481-4e7d-cb6b-40f5337ca0ef"
      },
      "execution_count": 1,
      "outputs": [
        {
          "output_type": "stream",
          "name": "stdout",
          "text": [
            "\u001b[K     |████████████████████████████████| 281.3 MB 38 kB/s \n",
            "\u001b[K     |████████████████████████████████| 199 kB 48.4 MB/s \n",
            "\u001b[?25h  Building wheel for pyspark (setup.py) ... \u001b[?25l\u001b[?25hdone\n"
          ]
        }
      ]
    },
    {
      "cell_type": "markdown",
      "source": [
        "#Load Data"
      ],
      "metadata": {
        "id": "OAyNYK99ESFe"
      }
    },
    {
      "cell_type": "code",
      "source": [
        "!wget -O Data_Set.csv -q https://raw.githubusercontent.com/Praxis-QR/BDSN/main/Documents/CustomerConversion_GG.csv"
      ],
      "metadata": {
        "id": "tIXoEpOEopWV"
      },
      "execution_count": 2,
      "outputs": []
    },
    {
      "cell_type": "code",
      "source": [
        "# Load and Read the dataset\n",
        "dfCusCon=spark.read.csv('Data_Set.csv',inferSchema=True,header=True)"
      ],
      "metadata": {
        "id": "izY801pZKkgP"
      },
      "execution_count": 3,
      "outputs": []
    },
    {
      "cell_type": "code",
      "source": [
        "# Chech the datatypes of the inputs\n",
        "dfCusCon.printSchema()"
      ],
      "metadata": {
        "id": "xog4TsCmmEEY",
        "colab": {
          "base_uri": "https://localhost:8080/"
        },
        "outputId": "82da3d8d-91e5-4a3f-8367-61d564e2ea11"
      },
      "execution_count": 4,
      "outputs": [
        {
          "output_type": "stream",
          "name": "stdout",
          "text": [
            "root\n",
            " |-- Country: string (nullable = true)\n",
            " |-- Age: integer (nullable = true)\n",
            " |-- Repeat_Visitor: integer (nullable = true)\n",
            " |-- Platform: string (nullable = true)\n",
            " |-- Web_pages_viewed: integer (nullable = true)\n",
            " |-- Status: integer (nullable = true)\n",
            "\n"
          ]
        }
      ]
    },
    {
      "cell_type": "markdown",
      "source": [
        "# Basic EDA :\n",
        "\n",
        "To understand the data set and gather informations about the data"
      ],
      "metadata": {
        "id": "pf0VZsPxLCM1"
      }
    },
    {
      "cell_type": "code",
      "source": [
        "# Check the shape of the dataset\n",
        "print((dfCusCon.count(), len(dfCusCon.columns)))"
      ],
      "metadata": {
        "colab": {
          "base_uri": "https://localhost:8080/"
        },
        "id": "oywDvXbEK0ht",
        "outputId": "99bebe7b-8667-41c9-9c1c-6e529f571b09"
      },
      "execution_count": 5,
      "outputs": [
        {
          "output_type": "stream",
          "name": "stdout",
          "text": [
            "(20000, 6)\n"
          ]
        }
      ]
    },
    {
      "cell_type": "code",
      "source": [
        "# Look at the dataset using SPARK\n",
        "dfCusCon.show(5)"
      ],
      "metadata": {
        "colab": {
          "base_uri": "https://localhost:8080/"
        },
        "id": "PAobh46Brcq_",
        "outputId": "f4664f2f-5237-43ed-e326-9fcbaa741f8c"
      },
      "execution_count": null,
      "outputs": [
        {
          "output_type": "stream",
          "name": "stdout",
          "text": [
            "+---------+---+--------------+--------+----------------+------+\n",
            "|  Country|Age|Repeat_Visitor|Platform|Web_pages_viewed|Status|\n",
            "+---------+---+--------------+--------+----------------+------+\n",
            "|    India| 41|             1|   Yahoo|              21|     1|\n",
            "|   Brazil| 28|             1|   Yahoo|               5|     0|\n",
            "|   Brazil| 40|             0|  Google|               3|     0|\n",
            "|Indonesia| 31|             1|    Bing|              15|     1|\n",
            "| Malaysia| 32|             0|  Google|              15|     1|\n",
            "+---------+---+--------------+--------+----------------+------+\n",
            "only showing top 5 rows\n",
            "\n"
          ]
        }
      ]
    },
    {
      "cell_type": "markdown",
      "source": [
        "Country and Platform are categorical and would have to be converted to numerical values"
      ],
      "metadata": {
        "id": "RwILHVrOrOgn"
      }
    },
    {
      "cell_type": "code",
      "source": [
        "# Check the statistical measures of the dataset\n",
        "dfCusCon.describe().show()"
      ],
      "metadata": {
        "id": "HzvHXBUvtMmj",
        "colab": {
          "base_uri": "https://localhost:8080/"
        },
        "outputId": "bc79a29e-c220-4c7b-f85c-95ed7ad7ecb8"
      },
      "execution_count": null,
      "outputs": [
        {
          "output_type": "stream",
          "name": "stdout",
          "text": [
            "+-------+--------+-----------------+-----------------+--------+-----------------+------------------+\n",
            "|summary| Country|              Age|   Repeat_Visitor|Platform| Web_pages_viewed|            Status|\n",
            "+-------+--------+-----------------+-----------------+--------+-----------------+------------------+\n",
            "|  count|   20000|            20000|            20000|   20000|            20000|             20000|\n",
            "|   mean|    null|         28.53955|           0.5029|    null|           9.5533|               0.5|\n",
            "| stddev|    null|7.888912950773227|0.500004090187782|    null|6.073903499824976|0.5000125004687693|\n",
            "|    min|  Brazil|               17|                0|    Bing|                1|                 0|\n",
            "|    max|Malaysia|              111|                1|   Yahoo|               29|                 1|\n",
            "+-------+--------+-----------------+-----------------+--------+-----------------+------------------+\n",
            "\n"
          ]
        }
      ]
    },
    {
      "cell_type": "markdown",
      "source": [
        "The average age of visitors is close to 28 years, and they viewed around 9 web pages during the website visit."
      ],
      "metadata": {
        "id": "PjQK0lcEuMyu"
      }
    },
    {
      "cell_type": "code",
      "source": [
        "# Check individual columns using group By function to understand the data in deeply.\n",
        "dfCusCon.groupBy('Country').count().show()"
      ],
      "metadata": {
        "id": "vXYZ6MrktxZo",
        "colab": {
          "base_uri": "https://localhost:8080/"
        },
        "outputId": "8c5ca22c-d369-4173-c5ad-fbcce6759021"
      },
      "execution_count": null,
      "outputs": [
        {
          "output_type": "stream",
          "name": "stdout",
          "text": [
            "+---------+-----+\n",
            "|  Country|count|\n",
            "+---------+-----+\n",
            "| Malaysia| 1218|\n",
            "|    India| 4018|\n",
            "|Indonesia|12178|\n",
            "|   Brazil| 2586|\n",
            "+---------+-----+\n",
            "\n"
          ]
        }
      ]
    },
    {
      "cell_type": "markdown",
      "source": [
        "Maximum number of visitors are from Indonesia."
      ],
      "metadata": {
        "id": "THYNVtUmQQI6"
      }
    },
    {
      "cell_type": "code",
      "source": [
        "import pandas as pd\n",
        "import seaborn as sns\n",
        "import matplotlib.pyplot as plt\n",
        "new_df = dfCusCon.toPandas()\n",
        "plt.figure(figsize=(10,6))\n",
        "sns.barplot(y = new_df.groupby('Platform').count()['Web_pages_viewed'], x = new_df.reset_index().groupby('Platform').count()['Web_pages_viewed'].index)"
      ],
      "metadata": {
        "colab": {
          "base_uri": "https://localhost:8080/",
          "height": 406
        },
        "id": "26A6yHVnGVsk",
        "outputId": "da10985c-1118-4e31-f74f-02289a8ef945"
      },
      "execution_count": null,
      "outputs": [
        {
          "output_type": "execute_result",
          "data": {
            "text/plain": [
              "<matplotlib.axes._subplots.AxesSubplot at 0x7f434ae3b6d0>"
            ]
          },
          "metadata": {},
          "execution_count": 9
        },
        {
          "output_type": "display_data",
          "data": {
            "text/plain": [
              "<Figure size 720x432 with 1 Axes>"
            ],
            "image/png": "[encoded data removed]"
          },
          "metadata": {
            "needs_background": "light"
          }
        }
      ]
    },
    {
      "cell_type": "code",
      "source": [
        "plt.figure(figsize=(10,6))\n",
        "sns.barplot(y = new_df.groupby('Age').count()['Web_pages_viewed'], x = new_df.reset_index().groupby('Age').count()['Web_pages_viewed'].index)"
      ],
      "metadata": {
        "colab": {
          "base_uri": "https://localhost:8080/",
          "height": 406
        },
        "id": "Le_qJQwLJROP",
        "outputId": "dca5212a-be38-4617-8e32-f68d41a9e3ee"
      },
      "execution_count": null,
      "outputs": [
        {
          "output_type": "execute_result",
          "data": {
            "text/plain": [
              "<matplotlib.axes._subplots.AxesSubplot at 0x7f434a7c6b10>"
            ]
          },
          "metadata": {},
          "execution_count": 10
        },
        {
          "output_type": "display_data",
          "data": {
            "text/plain": [
              "<Figure size 720x432 with 1 Axes>"
            ],
            "image/png": "[encoded data removed]"
          },
          "metadata": {
            "needs_background": "light"
          }
        }
      ]
    },
    {
      "cell_type": "code",
      "source": [
        "dfCusCon.groupBy('Platform').count().show()"
      ],
      "metadata": {
        "id": "ZRoG8VLxvfjk",
        "colab": {
          "base_uri": "https://localhost:8080/"
        },
        "outputId": "d61fbd23-17a0-4605-b759-aec89f20b100"
      },
      "execution_count": null,
      "outputs": [
        {
          "output_type": "stream",
          "name": "stdout",
          "text": [
            "+--------+-----+\n",
            "|Platform|count|\n",
            "+--------+-----+\n",
            "|   Yahoo| 9859|\n",
            "|    Bing| 4360|\n",
            "|  Google| 5781|\n",
            "+--------+-----+\n",
            "\n"
          ]
        }
      ]
    },
    {
      "cell_type": "markdown",
      "source": [
        "Total numbers of Yahoo Platform users are the highest. "
      ],
      "metadata": {
        "id": "Qd8BhEjzvprL"
      }
    },
    {
      "cell_type": "code",
      "source": [
        "dfCusCon.groupBy('Status').count().show()"
      ],
      "metadata": {
        "id": "F1spStlmv7SO",
        "colab": {
          "base_uri": "https://localhost:8080/"
        },
        "outputId": "4e017047-b4c2-4d46-9b3c-1adc890012d1"
      },
      "execution_count": null,
      "outputs": [
        {
          "output_type": "stream",
          "name": "stdout",
          "text": [
            "+------+-----+\n",
            "|Status|count|\n",
            "+------+-----+\n",
            "|     1|10000|\n",
            "|     0|10000|\n",
            "+------+-----+\n",
            "\n"
          ]
        }
      ]
    },
    {
      "cell_type": "markdown",
      "source": [
        "Equal number of users who are converted and non-converted."
      ],
      "metadata": {
        "id": "0cMFAxnNwK-g"
      }
    },
    {
      "cell_type": "code",
      "source": [
        " dfCusCon.groupBy('Country').mean().show()"
      ],
      "metadata": {
        "id": "DAOYb97mwSTs",
        "colab": {
          "base_uri": "https://localhost:8080/"
        },
        "outputId": "1bfade76-7f25-43cf-8efc-0f4c3701e6d5"
      },
      "execution_count": null,
      "outputs": [
        {
          "output_type": "stream",
          "name": "stdout",
          "text": [
            "+---------+------------------+-------------------+---------------------+--------------------+\n",
            "|  Country|          avg(Age)|avg(Repeat_Visitor)|avg(Web_pages_viewed)|         avg(Status)|\n",
            "+---------+------------------+-------------------+---------------------+--------------------+\n",
            "| Malaysia|27.792282430213465| 0.5730706075533661|   11.192118226600986|  0.6568144499178982|\n",
            "|    India|27.976854156296664| 0.5433051269288203|   10.727227476356397|  0.6212045793927327|\n",
            "|Indonesia| 28.43159796354081| 0.5207751683363442|    9.985711939563148|  0.5422893742814913|\n",
            "|   Brazil|30.274168600154677|  0.322892498066512|    4.921113689095128|0.038669760247486466|\n",
            "+---------+------------------+-------------------+---------------------+--------------------+\n",
            "\n"
          ]
        }
      ]
    },
    {
      "cell_type": "markdown",
      "source": [
        "The average number of web_page_viewed is highest in Malaysia and lowest in Brazil."
      ],
      "metadata": {
        "id": "VRQWF758wpND"
      }
    },
    {
      "cell_type": "code",
      "source": [
        "dfCusCon.groupBy('Platform').mean().show()"
      ],
      "metadata": {
        "id": "2zBKdlONxbK4",
        "colab": {
          "base_uri": "https://localhost:8080/"
        },
        "outputId": "222aaf27-eb76-42d6-9ec6-de915c4a5372"
      },
      "execution_count": null,
      "outputs": [
        {
          "output_type": "stream",
          "name": "stdout",
          "text": [
            "+--------+------------------+-------------------+---------------------+------------------+\n",
            "|Platform|          avg(Age)|avg(Repeat_Visitor)|avg(Web_pages_viewed)|       avg(Status)|\n",
            "+--------+------------------+-------------------+---------------------+------------------+\n",
            "|   Yahoo|28.569226087838523| 0.5094837204584644|    9.599655137437875|0.5071508266558474|\n",
            "|    Bing| 28.68394495412844| 0.4720183486238532|    9.114908256880733|0.4559633027522936|\n",
            "|  Google|28.380038055699707| 0.5149628092025601|    9.804878048780488|0.5210171250648676|\n",
            "+--------+------------------+-------------------+---------------------+------------------+\n",
            "\n"
          ]
        }
      ]
    },
    {
      "cell_type": "markdown",
      "source": [
        "The average number of web_page_viewed is highest for Google Platform."
      ],
      "metadata": {
        "id": "MrWo0WEFxw5s"
      }
    },
    {
      "cell_type": "code",
      "source": [
        "dfCusCon.groupBy('Status').mean().show()"
      ],
      "metadata": {
        "id": "5jouQLANyMbF",
        "colab": {
          "base_uri": "https://localhost:8080/"
        },
        "outputId": "36dfe634-86ef-415e-bd94-aca7e2c33e42"
      },
      "execution_count": null,
      "outputs": [
        {
          "output_type": "stream",
          "name": "stdout",
          "text": [
            "+------+--------+-------------------+---------------------+-----------+\n",
            "|Status|avg(Age)|avg(Repeat_Visitor)|avg(Web_pages_viewed)|avg(Status)|\n",
            "+------+--------+-------------------+---------------------+-----------+\n",
            "|     1| 26.5435|             0.7019|              14.5617|        1.0|\n",
            "|     0| 30.5356|             0.3039|               4.5449|        0.0|\n",
            "+------+--------+-------------------+---------------------+-----------+\n",
            "\n"
          ]
        }
      ]
    },
    {
      "cell_type": "markdown",
      "source": [
        "There is a strong connection between the conversion \n",
        "status and the number of Web_pages_viewed along with repeat_Visitor."
      ],
      "metadata": {
        "id": "SFISnHQ_y7j9"
      }
    },
    {
      "cell_type": "markdown",
      "source": [
        "# Feature Engineering :\n",
        "\n",
        "Converting the Data for ML purposes<br>\n",
        "see https://spark.apache.org/docs/latest/ml-features.html"
      ],
      "metadata": {
        "id": "JIypSydfRPsf"
      }
    },
    {
      "cell_type": "code",
      "source": [
        "from pyspark.ml.feature import StringIndexer\n",
        "from pyspark.ml.feature import VectorAssembler\n",
        "from pyspark.ml.feature import OneHotEncoder\n",
        "from pyspark.ml.classification import LogisticRegression"
      ],
      "metadata": {
        "id": "VNXOfJw2Wspi"
      },
      "execution_count": 6,
      "outputs": []
    },
    {
      "cell_type": "markdown",
      "source": [
        "##Platform Data"
      ],
      "metadata": {
        "id": "-ZuPM-knvmW_"
      }
    },
    {
      "cell_type": "code",
      "source": [
        "#Platform_indexer = StringIndexer(inputCol=\"Platform\", outputCol=\"Platform_Num\").fit(df)\n",
        "Platform_indexer = StringIndexer(inputCol=\"Platform\", outputCol=\"Platform_Num\")\n",
        "dfWork = Platform_indexer.fit(dfCusCon).transform(dfCusCon)\n",
        "#dfWork.show(5,False)\n",
        "dfWork.show(5)"
      ],
      "metadata": {
        "id": "JdQWTT9hWwPZ",
        "colab": {
          "base_uri": "https://localhost:8080/"
        },
        "outputId": "7b9a4d33-2715-48c9-8a52-afafc8a49aa6"
      },
      "execution_count": 7,
      "outputs": [
        {
          "output_type": "stream",
          "name": "stdout",
          "text": [
            "+---------+---+--------------+--------+----------------+------+------------+\n",
            "|  Country|Age|Repeat_Visitor|Platform|Web_pages_viewed|Status|Platform_Num|\n",
            "+---------+---+--------------+--------+----------------+------+------------+\n",
            "|    India| 41|             1|   Yahoo|              21|     1|         0.0|\n",
            "|   Brazil| 28|             1|   Yahoo|               5|     0|         0.0|\n",
            "|   Brazil| 40|             0|  Google|               3|     0|         1.0|\n",
            "|Indonesia| 31|             1|    Bing|              15|     1|         2.0|\n",
            "| Malaysia| 32|             0|  Google|              15|     1|         1.0|\n",
            "+---------+---+--------------+--------+----------------+------+------------+\n",
            "only showing top 5 rows\n",
            "\n"
          ]
        }
      ]
    },
    {
      "cell_type": "code",
      "source": [
        "dfWork.groupBy('Platform').count().orderBy('count', ascending=False).show(5)"
      ],
      "metadata": {
        "id": "l7htzpkLXFwT",
        "colab": {
          "base_uri": "https://localhost:8080/"
        },
        "outputId": "abf60f07-0f1a-4021-ff47-054e93ea726b"
      },
      "execution_count": 8,
      "outputs": [
        {
          "output_type": "stream",
          "name": "stdout",
          "text": [
            "+--------+-----+\n",
            "|Platform|count|\n",
            "+--------+-----+\n",
            "|   Yahoo| 9859|\n",
            "|  Google| 5781|\n",
            "|    Bing| 4360|\n",
            "+--------+-----+\n",
            "\n"
          ]
        }
      ]
    },
    {
      "cell_type": "code",
      "source": [
        "dfWork.groupBy('Platform_Num').count().orderBy('count', ascending=False).show(5)"
      ],
      "metadata": {
        "id": "Upeyy31DXZyI",
        "colab": {
          "base_uri": "https://localhost:8080/"
        },
        "outputId": "58388aeb-3b20-4617-ed74-6e7ad430e44a"
      },
      "execution_count": null,
      "outputs": [
        {
          "output_type": "stream",
          "name": "stdout",
          "text": [
            "+------------+-----+\n",
            "|Platform_Num|count|\n",
            "+------------+-----+\n",
            "|         0.0| 9859|\n",
            "|         1.0| 5781|\n",
            "|         2.0| 4360|\n",
            "+------------+-----+\n",
            "\n"
          ]
        }
      ]
    },
    {
      "cell_type": "code",
      "source": [
        "Platform_encoder = OneHotEncoder(inputCol=\"Platform_Num\", outputCol=\"Platforms_Vector\")\n",
        "Platform_encoder.setDropLast(False)        #setDropLast : https://stackoverflow.com/questions/39500213/why-does-sparks-onehotencoder-drop-the-last-category-by-default\n",
        "#ohe = Platform_encoder.fit(df)\n",
        "dfWork = Platform_encoder.fit(dfWork).transform(dfWork)\n",
        "dfWork.show(5)"
      ],
      "metadata": {
        "id": "22Cqupu8fhct",
        "colab": {
          "base_uri": "https://localhost:8080/"
        },
        "outputId": "4c90eccd-4c95-4777-e6b2-0270734677ec"
      },
      "execution_count": 9,
      "outputs": [
        {
          "output_type": "stream",
          "name": "stdout",
          "text": [
            "+---------+---+--------------+--------+----------------+------+------------+----------------+\n",
            "|  Country|Age|Repeat_Visitor|Platform|Web_pages_viewed|Status|Platform_Num|Platforms_Vector|\n",
            "+---------+---+--------------+--------+----------------+------+------------+----------------+\n",
            "|    India| 41|             1|   Yahoo|              21|     1|         0.0|   (3,[0],[1.0])|\n",
            "|   Brazil| 28|             1|   Yahoo|               5|     0|         0.0|   (3,[0],[1.0])|\n",
            "|   Brazil| 40|             0|  Google|               3|     0|         1.0|   (3,[1],[1.0])|\n",
            "|Indonesia| 31|             1|    Bing|              15|     1|         2.0|   (3,[2],[1.0])|\n",
            "| Malaysia| 32|             0|  Google|              15|     1|         1.0|   (3,[1],[1.0])|\n",
            "+---------+---+--------------+--------+----------------+------+------------+----------------+\n",
            "only showing top 5 rows\n",
            "\n"
          ]
        }
      ]
    },
    {
      "cell_type": "code",
      "source": [
        "dfWork.groupBy('Platforms_Vector').count().orderBy('count', ascending=False).show(5,False)"
      ],
      "metadata": {
        "id": "u_AGe31ugM9H",
        "colab": {
          "base_uri": "https://localhost:8080/"
        },
        "outputId": "68d84ad4-cd87-4946-f578-fa80982ad920"
      },
      "execution_count": null,
      "outputs": [
        {
          "output_type": "stream",
          "name": "stdout",
          "text": [
            "+----------------+-----+\n",
            "|Platforms_Vector|count|\n",
            "+----------------+-----+\n",
            "|(3,[0],[1.0])   |9859 |\n",
            "|(3,[1],[1.0])   |5781 |\n",
            "|(3,[2],[1.0])   |4360 |\n",
            "+----------------+-----+\n",
            "\n"
          ]
        }
      ]
    },
    {
      "cell_type": "markdown",
      "source": [
        "##Country Data"
      ],
      "metadata": {
        "id": "hewbXQxJgk7-"
      }
    },
    {
      "cell_type": "code",
      "source": [
        "#Country_indexer = StringIndexer(inputCol=\"Country\", outputCol=\"Country_Num\").fit(df)\n",
        "Country_indexer = StringIndexer(inputCol=\"Country\", outputCol=\"Country_Num\")\n",
        "dfWork = Country_indexer.fit(dfWork).transform(dfWork)\n",
        "dfWork.show(5)"
      ],
      "metadata": {
        "id": "OGuzRv7Sght0",
        "colab": {
          "base_uri": "https://localhost:8080/"
        },
        "outputId": "7cff9e2d-31ca-4a48-c863-40107261c171"
      },
      "execution_count": 10,
      "outputs": [
        {
          "output_type": "stream",
          "name": "stdout",
          "text": [
            "+---------+---+--------------+--------+----------------+------+------------+----------------+-----------+\n",
            "|  Country|Age|Repeat_Visitor|Platform|Web_pages_viewed|Status|Platform_Num|Platforms_Vector|Country_Num|\n",
            "+---------+---+--------------+--------+----------------+------+------------+----------------+-----------+\n",
            "|    India| 41|             1|   Yahoo|              21|     1|         0.0|   (3,[0],[1.0])|        1.0|\n",
            "|   Brazil| 28|             1|   Yahoo|               5|     0|         0.0|   (3,[0],[1.0])|        2.0|\n",
            "|   Brazil| 40|             0|  Google|               3|     0|         1.0|   (3,[1],[1.0])|        2.0|\n",
            "|Indonesia| 31|             1|    Bing|              15|     1|         2.0|   (3,[2],[1.0])|        0.0|\n",
            "| Malaysia| 32|             0|  Google|              15|     1|         1.0|   (3,[1],[1.0])|        3.0|\n",
            "+---------+---+--------------+--------+----------------+------+------------+----------------+-----------+\n",
            "only showing top 5 rows\n",
            "\n"
          ]
        }
      ]
    },
    {
      "cell_type": "code",
      "source": [
        "dfWork.groupBy('Country').count().orderBy('count', ascending = False).show(5,False)"
      ],
      "metadata": {
        "id": "0qhkGMe-hbsQ",
        "colab": {
          "base_uri": "https://localhost:8080/"
        },
        "outputId": "8d3b5a34-1c5b-4104-d5fb-89a2d9d69251"
      },
      "execution_count": null,
      "outputs": [
        {
          "output_type": "stream",
          "name": "stdout",
          "text": [
            "+---------+-----+\n",
            "|Country  |count|\n",
            "+---------+-----+\n",
            "|Indonesia|12178|\n",
            "|India    |4018 |\n",
            "|Brazil   |2586 |\n",
            "|Malaysia |1218 |\n",
            "+---------+-----+\n",
            "\n"
          ]
        }
      ]
    },
    {
      "cell_type": "code",
      "source": [
        "dfWork.groupBy('Country_Num').count().orderBy('count', ascending = False).show(5,False)"
      ],
      "metadata": {
        "id": "G9b3mfSmhnEE",
        "colab": {
          "base_uri": "https://localhost:8080/"
        },
        "outputId": "7b6a9106-4bdc-431a-ab64-7094a19ac35e"
      },
      "execution_count": null,
      "outputs": [
        {
          "output_type": "stream",
          "name": "stdout",
          "text": [
            "+-----------+-----+\n",
            "|Country_Num|count|\n",
            "+-----------+-----+\n",
            "|0.0        |12178|\n",
            "|1.0        |4018 |\n",
            "|2.0        |2586 |\n",
            "|3.0        |1218 |\n",
            "+-----------+-----+\n",
            "\n"
          ]
        }
      ]
    },
    {
      "cell_type": "code",
      "source": [
        "Country_encoder =OneHotEncoder(inputCol=\"Country_Num\", outputCol=\"Country_Vector\")\n",
        "Country_encoder.setDropLast(False)\n",
        "#ohhe = Country_encoder.fit(df)\n",
        "dfWork = Country_encoder.fit(dfWork).transform(dfWork)"
      ],
      "metadata": {
        "id": "CkqKDQfFhxVS"
      },
      "execution_count": 11,
      "outputs": []
    },
    {
      "cell_type": "code",
      "source": [
        "dfWork.select(['Country','Country_Num','Country_Vector']).show(5)"
      ],
      "metadata": {
        "id": "9Zlvm4AMiO-d",
        "colab": {
          "base_uri": "https://localhost:8080/"
        },
        "outputId": "b6a125c6-967f-4ce7-e317-1afd46a3d0ca"
      },
      "execution_count": null,
      "outputs": [
        {
          "output_type": "stream",
          "name": "stdout",
          "text": [
            "+---------+-----------+--------------+\n",
            "|  Country|Country_Num|Country_Vector|\n",
            "+---------+-----------+--------------+\n",
            "|    India|        1.0| (4,[1],[1.0])|\n",
            "|   Brazil|        2.0| (4,[2],[1.0])|\n",
            "|   Brazil|        2.0| (4,[2],[1.0])|\n",
            "|Indonesia|        0.0| (4,[0],[1.0])|\n",
            "| Malaysia|        3.0| (4,[3],[1.0])|\n",
            "+---------+-----------+--------------+\n",
            "only showing top 5 rows\n",
            "\n"
          ]
        }
      ]
    },
    {
      "cell_type": "code",
      "source": [
        "dfWork.groupBy('Country_Vector').count().orderBy('count', ascending = False).show(5,False)"
      ],
      "metadata": {
        "id": "nCCQDvNsib8b",
        "colab": {
          "base_uri": "https://localhost:8080/"
        },
        "outputId": "55484258-71b9-48e7-f03e-eb613fd930b4"
      },
      "execution_count": null,
      "outputs": [
        {
          "output_type": "stream",
          "name": "stdout",
          "text": [
            "+--------------+-----+\n",
            "|Country_Vector|count|\n",
            "+--------------+-----+\n",
            "|(4,[0],[1.0]) |12178|\n",
            "|(4,[1],[1.0]) |4018 |\n",
            "|(4,[2],[1.0]) |2586 |\n",
            "|(4,[3],[1.0]) |1218 |\n",
            "+--------------+-----+\n",
            "\n"
          ]
        }
      ]
    },
    {
      "cell_type": "markdown",
      "source": [
        "Categoricals have been converted into Numericals.<br>\n",
        "Now to Create the Feature Vector"
      ],
      "metadata": {
        "id": "nmrtLzZkj2o6"
      }
    },
    {
      "cell_type": "code",
      "source": [
        "# Now it is needed to assemble all of the input columns into a single vector that would act as the input feature for the Logistic Regression model.\n",
        "Feature_assembler = VectorAssembler(inputCols=['Platforms_Vector','Country_Vector','Age', 'Repeat_Visitor', \n",
        "'Web_pages_viewed'], outputCol=\"features\")\n",
        "dfWork = Feature_assembler.transform(dfWork)\n",
        "dfWork.show(5)"
      ],
      "metadata": {
        "id": "N3IxBwCgir11",
        "colab": {
          "base_uri": "https://localhost:8080/"
        },
        "outputId": "129888b7-4009-45ee-bba5-ddd7c38e438c"
      },
      "execution_count": 12,
      "outputs": [
        {
          "output_type": "stream",
          "name": "stdout",
          "text": [
            "+---------+---+--------------+--------+----------------+------+------------+----------------+-----------+--------------+--------------------+\n",
            "|  Country|Age|Repeat_Visitor|Platform|Web_pages_viewed|Status|Platform_Num|Platforms_Vector|Country_Num|Country_Vector|            features|\n",
            "+---------+---+--------------+--------+----------------+------+------------+----------------+-----------+--------------+--------------------+\n",
            "|    India| 41|             1|   Yahoo|              21|     1|         0.0|   (3,[0],[1.0])|        1.0| (4,[1],[1.0])|(10,[0,4,7,8,9],[...|\n",
            "|   Brazil| 28|             1|   Yahoo|               5|     0|         0.0|   (3,[0],[1.0])|        2.0| (4,[2],[1.0])|(10,[0,5,7,8,9],[...|\n",
            "|   Brazil| 40|             0|  Google|               3|     0|         1.0|   (3,[1],[1.0])|        2.0| (4,[2],[1.0])|(10,[1,5,7,9],[1....|\n",
            "|Indonesia| 31|             1|    Bing|              15|     1|         2.0|   (3,[2],[1.0])|        0.0| (4,[0],[1.0])|(10,[2,3,7,8,9],[...|\n",
            "| Malaysia| 32|             0|  Google|              15|     1|         1.0|   (3,[1],[1.0])|        3.0| (4,[3],[1.0])|(10,[1,6,7,9],[1....|\n",
            "+---------+---+--------------+--------+----------------+------+------------+----------------+-----------+--------------+--------------------+\n",
            "only showing top 5 rows\n",
            "\n"
          ]
        }
      ]
    },
    {
      "cell_type": "code",
      "source": [
        "dfWork[['features','Status']].show(5,False)"
      ],
      "metadata": {
        "id": "nQ4YQpXpk0he",
        "colab": {
          "base_uri": "https://localhost:8080/"
        },
        "outputId": "4ff57bec-d4a6-4bcc-e751-10f6cbbd14bc"
      },
      "execution_count": null,
      "outputs": [
        {
          "output_type": "stream",
          "name": "stdout",
          "text": [
            "+----------------------------------------+------+\n",
            "|features                                |Status|\n",
            "+----------------------------------------+------+\n",
            "|(10,[0,4,7,8,9],[1.0,1.0,41.0,1.0,21.0])|1     |\n",
            "|(10,[0,5,7,8,9],[1.0,1.0,28.0,1.0,5.0]) |0     |\n",
            "|(10,[1,5,7,9],[1.0,1.0,40.0,3.0])       |0     |\n",
            "|(10,[2,3,7,8,9],[1.0,1.0,31.0,1.0,15.0])|1     |\n",
            "|(10,[1,6,7,9],[1.0,1.0,32.0,15.0])      |1     |\n",
            "+----------------------------------------+------+\n",
            "only showing top 5 rows\n",
            "\n"
          ]
        }
      ]
    },
    {
      "cell_type": "code",
      "source": [
        "dfWork.printSchema()"
      ],
      "metadata": {
        "id": "BbV6JWyllFAV",
        "colab": {
          "base_uri": "https://localhost:8080/"
        },
        "outputId": "ed2d6ac2-dacc-448d-9815-7a40f78b9701"
      },
      "execution_count": null,
      "outputs": [
        {
          "output_type": "stream",
          "name": "stdout",
          "text": [
            "root\n",
            " |-- Country: string (nullable = true)\n",
            " |-- Age: integer (nullable = true)\n",
            " |-- Repeat_Visitor: integer (nullable = true)\n",
            " |-- Platform: string (nullable = true)\n",
            " |-- Web_pages_viewed: integer (nullable = true)\n",
            " |-- Status: integer (nullable = true)\n",
            " |-- Platform_Num: double (nullable = false)\n",
            " |-- Platforms_Vector: vector (nullable = true)\n",
            " |-- Country_Num: double (nullable = false)\n",
            " |-- Country_Vector: vector (nullable = true)\n",
            " |-- features: vector (nullable = true)\n",
            "\n"
          ]
        }
      ]
    },
    {
      "cell_type": "markdown",
      "source": [
        "One extra column named features, which is nothing but a combination of all the input features represented as a Single Dense Vector."
      ],
      "metadata": {
        "id": "LJKdwEj-iqEF"
      }
    },
    {
      "cell_type": "markdown",
      "source": [
        "## Reducing the DataSet"
      ],
      "metadata": {
        "id": "Epg5Dqebk1oE"
      }
    },
    {
      "cell_type": "code",
      "source": [
        "# Now select only features column as input and the Status column as output for training the logistic regression model.\n",
        "#model_df=df.select(['features','Status'])\n",
        "dfWork = dfWork.select(['features','Status'])\n",
        "dfWork.show(10, False)"
      ],
      "metadata": {
        "id": "y7L2FMC6mtac",
        "colab": {
          "base_uri": "https://localhost:8080/"
        },
        "outputId": "be5c850c-5564-495e-8e42-7839e33d1fff"
      },
      "execution_count": 13,
      "outputs": [
        {
          "output_type": "stream",
          "name": "stdout",
          "text": [
            "+----------------------------------------+------+\n",
            "|features                                |Status|\n",
            "+----------------------------------------+------+\n",
            "|(10,[0,4,7,8,9],[1.0,1.0,41.0,1.0,21.0])|1     |\n",
            "|(10,[0,5,7,8,9],[1.0,1.0,28.0,1.0,5.0]) |0     |\n",
            "|(10,[1,5,7,9],[1.0,1.0,40.0,3.0])       |0     |\n",
            "|(10,[2,3,7,8,9],[1.0,1.0,31.0,1.0,15.0])|1     |\n",
            "|(10,[1,6,7,9],[1.0,1.0,32.0,15.0])      |1     |\n",
            "|(10,[1,5,7,9],[1.0,1.0,32.0,3.0])       |0     |\n",
            "|(10,[1,5,7,9],[1.0,1.0,32.0,6.0])       |0     |\n",
            "|(10,[1,3,7,9],[1.0,1.0,27.0,9.0])       |0     |\n",
            "|(10,[0,3,7,9],[1.0,1.0,32.0,2.0])       |0     |\n",
            "|(10,[2,3,7,8,9],[1.0,1.0,31.0,1.0,16.0])|1     |\n",
            "+----------------------------------------+------+\n",
            "only showing top 10 rows\n",
            "\n"
          ]
        }
      ]
    },
    {
      "cell_type": "markdown",
      "source": [
        "## Splitting the Dataset :\n",
        "\n",
        "Split the dataset into a training and test dataset in order to train and evaluate the performance of the logistic regression model. I split it in a 75/25 ratio and train our model on 75% of the dataset."
      ],
      "metadata": {
        "id": "Om4xUysYnLPX"
      }
    },
    {
      "cell_type": "code",
      "source": [
        "dfTrain, dfTest = dfWork.randomSplit([0.75,0.25])\n",
        "print( dfTrain.count(), dfTest.count())"
      ],
      "metadata": {
        "id": "liGRm91ToXqh",
        "colab": {
          "base_uri": "https://localhost:8080/"
        },
        "outputId": "6d47728c-245c-42ef-d1df-6dee60a252d1"
      },
      "execution_count": 14,
      "outputs": [
        {
          "output_type": "stream",
          "name": "stdout",
          "text": [
            "15032 4968\n"
          ]
        }
      ]
    },
    {
      "cell_type": "code",
      "source": [
        "dfTrain.groupBy('Status').count().show()"
      ],
      "metadata": {
        "id": "gID8e-TPpVbq",
        "colab": {
          "base_uri": "https://localhost:8080/"
        },
        "outputId": "37e055e3-bfce-4726-8e1f-36e2144aaa66"
      },
      "execution_count": null,
      "outputs": [
        {
          "output_type": "stream",
          "name": "stdout",
          "text": [
            "+------+-----+\n",
            "|Status|count|\n",
            "+------+-----+\n",
            "|     1| 7492|\n",
            "|     0| 7485|\n",
            "+------+-----+\n",
            "\n"
          ]
        }
      ]
    },
    {
      "cell_type": "markdown",
      "source": [
        "This ensures we have a balance set of the target class (Status) into the \n",
        "training and test set."
      ],
      "metadata": {
        "id": "HL3z8iLNpd2o"
      }
    },
    {
      "cell_type": "code",
      "source": [
        "dfTest.groupBy('Status').count().show()"
      ],
      "metadata": {
        "id": "_B1sJxkcplLY",
        "colab": {
          "base_uri": "https://localhost:8080/"
        },
        "outputId": "a6da8000-4959-4eb6-cfcd-9cbd0ea8a7e4"
      },
      "execution_count": null,
      "outputs": [
        {
          "output_type": "stream",
          "name": "stdout",
          "text": [
            "+------+-----+\n",
            "|Status|count|\n",
            "+------+-----+\n",
            "|     1| 2508|\n",
            "|     0| 2515|\n",
            "+------+-----+\n",
            "\n"
          ]
        }
      ]
    },
    {
      "cell_type": "markdown",
      "source": [
        "## Build and Train Logistic Regression Model:\n",
        "\n",
        "I build and train the logistic regression model using features as the input column and status as the output column."
      ],
      "metadata": {
        "id": "x1_LxSM3qtAg"
      }
    },
    {
      "cell_type": "code",
      "source": [
        "#LogReg =LogisticRegression(labelCol='Status').fit(training_df)\n",
        "LogReg =LogisticRegression(labelCol='Status')"
      ],
      "metadata": {
        "id": "_grEDfF_rGTY"
      },
      "execution_count": 15,
      "outputs": []
    },
    {
      "cell_type": "markdown",
      "source": [
        "## Training Results:\n",
        "\n",
        "We can  access the predictions made by the model using the evaluate function in SPARK that executes all the steps in an optimized way. It gives another Dataframe that contains four columns in total, including prediction and probability."
      ],
      "metadata": {
        "id": "LQvYEk0SrN8m"
      }
    },
    {
      "cell_type": "code",
      "source": [
        "TrainResults =LogReg.fit(dfTrain).evaluate(dfTrain).predictions"
      ],
      "metadata": {
        "id": "CwrHtslXrwCy"
      },
      "execution_count": 16,
      "outputs": []
    },
    {
      "cell_type": "code",
      "source": [
        "TrainResults.count()"
      ],
      "metadata": {
        "colab": {
          "base_uri": "https://localhost:8080/"
        },
        "id": "TFk1HoQKnMAY",
        "outputId": "5f1791e0-46ad-430b-ca7f-6b248f6df225"
      },
      "execution_count": 17,
      "outputs": [
        {
          "output_type": "execute_result",
          "data": {
            "text/plain": [
              "15032"
            ]
          },
          "metadata": {},
          "execution_count": 17
        }
      ]
    },
    {
      "cell_type": "code",
      "source": [
        "TrainResults.filter(TrainResults['Status']==1).filter(TrainResults['prediction']==1).select(['Status','prediction','probability']).show(10,False)"
      ],
      "metadata": {
        "id": "SgpNwTdGr0gz",
        "colab": {
          "base_uri": "https://localhost:8080/"
        },
        "outputId": "40dff46b-539b-4130-8896-e46248103cc5"
      },
      "execution_count": 18,
      "outputs": [
        {
          "output_type": "stream",
          "name": "stdout",
          "text": [
            "+------+----------+----------------------------------------+\n",
            "|Status|prediction|probability                             |\n",
            "+------+----------+----------------------------------------+\n",
            "|1     |1.0       |[0.42947909053396277,0.5705209094660373]|\n",
            "|1     |1.0       |[0.2615738641998393,0.7384261358001607] |\n",
            "|1     |1.0       |[0.2615738641998393,0.7384261358001607] |\n",
            "|1     |1.0       |[0.2615738641998393,0.7384261358001607] |\n",
            "|1     |1.0       |[0.14287275467802177,0.8571272453219783]|\n",
            "|1     |1.0       |[0.14287275467802177,0.8571272453219783]|\n",
            "|1     |1.0       |[0.07273210718674555,0.9272678928132545]|\n",
            "|1     |1.0       |[0.07273210718674555,0.9272678928132545]|\n",
            "|1     |1.0       |[0.07273210718674555,0.9272678928132545]|\n",
            "|1     |1.0       |[0.07273210718674555,0.9272678928132545]|\n",
            "+------+----------+----------------------------------------+\n",
            "only showing top 10 rows\n",
            "\n"
          ]
        }
      ]
    },
    {
      "cell_type": "markdown",
      "source": [
        "## Evaluate Logistic Regression Model on Test Data\n",
        "\n",
        "Now check the performance of the \n",
        "model on test data. So the evaluate function is used, to make predictions on the test data."
      ],
      "metadata": {
        "id": "b_xIoX3msEq_"
      }
    },
    {
      "cell_type": "code",
      "source": [
        "#results=log_reg.evaluate(test_df).predictions\n",
        "TestResults = LogReg.fit(dfTrain).evaluate(dfTest).predictions"
      ],
      "metadata": {
        "id": "7btBzbrnsnqv"
      },
      "execution_count": 19,
      "outputs": []
    },
    {
      "cell_type": "code",
      "source": [
        "TestResults.printSchema()"
      ],
      "metadata": {
        "id": "53xz0FvmtPIr",
        "colab": {
          "base_uri": "https://localhost:8080/"
        },
        "outputId": "c36e103f-0aac-4e3b-a261-4e7c829b7242"
      },
      "execution_count": 20,
      "outputs": [
        {
          "output_type": "stream",
          "name": "stdout",
          "text": [
            "root\n",
            " |-- features: vector (nullable = true)\n",
            " |-- Status: integer (nullable = true)\n",
            " |-- rawPrediction: vector (nullable = true)\n",
            " |-- probability: vector (nullable = true)\n",
            " |-- prediction: double (nullable = false)\n",
            "\n"
          ]
        }
      ]
    },
    {
      "cell_type": "code",
      "source": [
        "TestResults.select(['Status','prediction']).show(10,False)"
      ],
      "metadata": {
        "id": "CRxI7GOmtTc9",
        "colab": {
          "base_uri": "https://localhost:8080/"
        },
        "outputId": "cbebf48f-15a8-47a1-ed9f-7ad3a97673d6"
      },
      "execution_count": null,
      "outputs": [
        {
          "output_type": "stream",
          "name": "stdout",
          "text": [
            "+------+----------+\n",
            "|Status|prediction|\n",
            "+------+----------+\n",
            "|0     |0.0       |\n",
            "|0     |0.0       |\n",
            "|1     |0.0       |\n",
            "|1     |0.0       |\n",
            "|1     |1.0       |\n",
            "|1     |1.0       |\n",
            "|0     |1.0       |\n",
            "|1     |1.0       |\n",
            "|1     |1.0       |\n",
            "|1     |1.0       |\n",
            "+------+----------+\n",
            "only showing top 10 rows\n",
            "\n"
          ]
        }
      ]
    },
    {
      "cell_type": "markdown",
      "source": [
        "### Confusion Matrix:\n",
        "\n",
        "As this is a classification problem, I use a confusion matrix to \n",
        "gauge the performance of the model."
      ],
      "metadata": {
        "id": "1wBoVMmItfa4"
      }
    },
    {
      "cell_type": "code",
      "source": [
        "tp = TestResults[(TestResults.Status == 1) & (TestResults.prediction == 1)].count()\n",
        "tn = TestResults[(TestResults.Status == 0) & (TestResults.prediction == 0)].count()\n",
        "fp = TestResults[(TestResults.Status == 0) & (TestResults.prediction == 1)].count()\n",
        "fn = TestResults[(TestResults.Status == 1) & (TestResults.prediction == 0)].count()"
      ],
      "metadata": {
        "id": "5DmAVXZ4tzJL"
      },
      "execution_count": null,
      "outputs": []
    },
    {
      "cell_type": "markdown",
      "source": [
        "### Accuracy:\n",
        "\n",
        "It is the most basic metric for evaluating any classifier."
      ],
      "metadata": {
        "id": "PQQ7jTPhuF2c"
      }
    },
    {
      "cell_type": "code",
      "source": [
        "accuracy=float((tp+tn) /(TestResults.count()))\n",
        "print('Accuracy = ',accuracy)"
      ],
      "metadata": {
        "id": "yrdfrdg6uDxu",
        "colab": {
          "base_uri": "https://localhost:8080/"
        },
        "outputId": "25586be7-bc16-4cb9-b8a4-f678911fbf68"
      },
      "execution_count": null,
      "outputs": [
        {
          "output_type": "stream",
          "name": "stdout",
          "text": [
            "Accuracy =  0.9376866414493331\n"
          ]
        }
      ]
    },
    {
      "cell_type": "markdown",
      "source": [
        "### Recall:\n",
        "\n",
        "Recall rate shows how much of the positive class cases we are able to predict correctly out of the total positive class observations."
      ],
      "metadata": {
        "id": "44E1sVq9un4J"
      }
    },
    {
      "cell_type": "code",
      "source": [
        "recall = float(tp)/(tp + fn)\n",
        "print('Recall = ',recall)"
      ],
      "metadata": {
        "id": "AcwUhz9quyi1",
        "colab": {
          "base_uri": "https://localhost:8080/"
        },
        "outputId": "53dd3ba8-cf3c-4ab4-837e-61e688892d7f"
      },
      "execution_count": null,
      "outputs": [
        {
          "output_type": "stream",
          "name": "stdout",
          "text": [
            "Recall =  0.9354066985645934\n"
          ]
        }
      ]
    },
    {
      "cell_type": "markdown",
      "source": [
        "### Precision:\n",
        "\n",
        "Precision rate talks about the number of true positives predicted correctly out of all the predicted positives observations."
      ],
      "metadata": {
        "id": "lVAJJ_Tbu_OL"
      }
    },
    {
      "cell_type": "code",
      "source": [
        "precision = float(tp) / (tp + fp)\n",
        "print('Precision = ',precision)"
      ],
      "metadata": {
        "id": "GuGVa4mRvJEv",
        "colab": {
          "base_uri": "https://localhost:8080/"
        },
        "outputId": "da120e8d-449e-442a-f849-1676155d4138"
      },
      "execution_count": null,
      "outputs": [
        {
          "output_type": "stream",
          "name": "stdout",
          "text": [
            "Precision =  0.9395274329195034\n"
          ]
        }
      ]
    },
    {
      "cell_type": "markdown",
      "source": [
        "#Pipeline"
      ],
      "metadata": {
        "id": "VS1RlYijpoJB"
      }
    },
    {
      "cell_type": "code",
      "source": [
        "from pyspark.ml import Pipeline"
      ],
      "metadata": {
        "id": "iDF0rK2FtJof"
      },
      "execution_count": 21,
      "outputs": []
    },
    {
      "cell_type": "code",
      "source": [
        "dfCusCon.show(5,False)"
      ],
      "metadata": {
        "colab": {
          "base_uri": "https://localhost:8080/"
        },
        "id": "L--LkCOgqfOd",
        "outputId": "49f1fb74-20d1-4e9d-cd17-f58c63339ef5"
      },
      "execution_count": null,
      "outputs": [
        {
          "output_type": "stream",
          "name": "stdout",
          "text": [
            "+---------+---+--------------+--------+----------------+------+\n",
            "|Country  |Age|Repeat_Visitor|Platform|Web_pages_viewed|Status|\n",
            "+---------+---+--------------+--------+----------------+------+\n",
            "|India    |41 |1             |Yahoo   |21              |1     |\n",
            "|Brazil   |28 |1             |Yahoo   |5               |0     |\n",
            "|Brazil   |40 |0             |Google  |3               |0     |\n",
            "|Indonesia|31 |1             |Bing    |15              |1     |\n",
            "|Malaysia |32 |0             |Google  |15              |1     |\n",
            "+---------+---+--------------+--------+----------------+------+\n",
            "only showing top 5 rows\n",
            "\n"
          ]
        }
      ]
    },
    {
      "cell_type": "code",
      "source": [
        "dfTrainP, dfTestP = dfCusCon.randomSplit([0.75,0.25])\n",
        "print( dfTrainP.count(), dfTestP.count())"
      ],
      "metadata": {
        "colab": {
          "base_uri": "https://localhost:8080/"
        },
        "id": "RTtRgsobr9NL",
        "outputId": "141b58eb-c53a-49bb-921d-c9e14c439521"
      },
      "execution_count": 24,
      "outputs": [
        {
          "output_type": "stream",
          "name": "stdout",
          "text": [
            "14836 5164\n"
          ]
        }
      ]
    },
    {
      "cell_type": "code",
      "source": [
        "Platform_indexer = StringIndexer(inputCol=\"Platform\", outputCol=\"Platform_Num\")\n",
        "Platform_encoder = OneHotEncoder(inputCol=\"Platform_Num\", outputCol=\"Platforms_Vector\")\n",
        "Platform_encoder.setDropLast(False)\n",
        "Country_indexer = StringIndexer(inputCol=\"Country\", outputCol=\"Country_Num\")   \n",
        "Country_encoder = OneHotEncoder(inputCol=\"Country_Num\", outputCol=\"Country_Vector\")\n",
        "Country_encoder.setDropLast(False) \n",
        "Feature_assembler = VectorAssembler(inputCols=['Platforms_Vector','Country_Vector','Age', 'Repeat_Visitor','Web_pages_viewed'], outputCol=\"features\")  \n",
        "LogReg =LogisticRegression(labelCol='Status',featuresCol='features')"
      ],
      "metadata": {
        "id": "n0IymtVKquxx"
      },
      "execution_count": 22,
      "outputs": []
    },
    {
      "cell_type": "code",
      "source": [
        "mlPipeLine = Pipeline(stages=[Platform_indexer,Platform_encoder, Country_indexer, Country_encoder, Feature_assembler,LogReg])\n",
        "# training model pipeline with data\n",
        "mlModel = mlPipeLine.fit(dfTrainP)\n",
        "TestResults = mlModel.transform(dfTestP)"
      ],
      "metadata": {
        "id": "JClbKsgxsUc_"
      },
      "execution_count": 25,
      "outputs": []
    },
    {
      "cell_type": "code",
      "source": [
        "TestResults.printSchema()"
      ],
      "metadata": {
        "colab": {
          "base_uri": "https://localhost:8080/"
        },
        "id": "kc-UPa10tWue",
        "outputId": "cadec5ac-4f00-4c9a-a78e-80f9360e3a52"
      },
      "execution_count": 26,
      "outputs": [
        {
          "output_type": "stream",
          "name": "stdout",
          "text": [
            "root\n",
            " |-- Country: string (nullable = true)\n",
            " |-- Age: integer (nullable = true)\n",
            " |-- Repeat_Visitor: integer (nullable = true)\n",
            " |-- Platform: string (nullable = true)\n",
            " |-- Web_pages_viewed: integer (nullable = true)\n",
            " |-- Status: integer (nullable = true)\n",
            " |-- Platform_Num: double (nullable = false)\n",
            " |-- Platforms_Vector: vector (nullable = true)\n",
            " |-- Country_Num: double (nullable = false)\n",
            " |-- Country_Vector: vector (nullable = true)\n",
            " |-- features: vector (nullable = true)\n",
            " |-- rawPrediction: vector (nullable = true)\n",
            " |-- probability: vector (nullable = true)\n",
            " |-- prediction: double (nullable = false)\n",
            "\n"
          ]
        }
      ]
    },
    {
      "cell_type": "code",
      "source": [
        "TestResults.select(['Status','prediction']).show(10,False)"
      ],
      "metadata": {
        "colab": {
          "base_uri": "https://localhost:8080/"
        },
        "id": "CIhtvU0vt9os",
        "outputId": "866aad97-6725-4b0d-a492-b2aa8a38763e"
      },
      "execution_count": null,
      "outputs": [
        {
          "output_type": "stream",
          "name": "stdout",
          "text": [
            "+------+----------+\n",
            "|Status|prediction|\n",
            "+------+----------+\n",
            "|0     |0.0       |\n",
            "|0     |0.0       |\n",
            "|0     |0.0       |\n",
            "|1     |0.0       |\n",
            "|0     |0.0       |\n",
            "|0     |0.0       |\n",
            "|0     |0.0       |\n",
            "|0     |0.0       |\n",
            "|0     |0.0       |\n",
            "|0     |0.0       |\n",
            "+------+----------+\n",
            "only showing top 10 rows\n",
            "\n"
          ]
        }
      ]
    },
    {
      "cell_type": "markdown",
      "source": [
        "## Confusion Matrix"
      ],
      "metadata": {
        "id": "0pGyk8mPuJEK"
      }
    },
    {
      "cell_type": "code",
      "source": [
        "tp = TestResults[(TestResults.Status == 1) & (TestResults.prediction == 1)].count()\n",
        "tn = TestResults[(TestResults.Status == 0) & (TestResults.prediction == 0)].count()\n",
        "fp = TestResults[(TestResults.Status == 0) & (TestResults.prediction == 1)].count()\n",
        "fn = TestResults[(TestResults.Status == 1) & (TestResults.prediction == 0)].count()"
      ],
      "metadata": {
        "id": "Txw6_YY4uNVQ"
      },
      "execution_count": 27,
      "outputs": []
    },
    {
      "cell_type": "markdown",
      "source": [
        "## Accuracy"
      ],
      "metadata": {
        "id": "Td4cEU1ruYwW"
      }
    },
    {
      "cell_type": "code",
      "source": [
        "accuracy_P=float((tp+tn) /(TestResults.count()))\n",
        "print('Accuracy with Pipeline = ',accuracy_P)"
      ],
      "metadata": {
        "colab": {
          "base_uri": "https://localhost:8080/"
        },
        "id": "322wRZLgubKx",
        "outputId": "f985e526-81fb-4636-b204-18cefe272ee2"
      },
      "execution_count": null,
      "outputs": [
        {
          "output_type": "stream",
          "name": "stdout",
          "text": [
            "Accuracy with Pipeline =  0.9405448399284152\n"
          ]
        }
      ]
    },
    {
      "cell_type": "markdown",
      "source": [
        "## Recall"
      ],
      "metadata": {
        "id": "jIn90q89urRr"
      }
    },
    {
      "cell_type": "code",
      "source": [
        "recall_P = float(tp)/(tp + fn)\n",
        "print('Recall with Pipeline = ',recall_P)"
      ],
      "metadata": {
        "colab": {
          "base_uri": "https://localhost:8080/"
        },
        "id": "hkesaacduv41",
        "outputId": "5ae60282-dbf3-476b-9207-8ca04d401cb9"
      },
      "execution_count": null,
      "outputs": [
        {
          "output_type": "stream",
          "name": "stdout",
          "text": [
            "Recall with Pipeline =  0.9366028708133971\n"
          ]
        }
      ]
    },
    {
      "cell_type": "markdown",
      "source": [
        "##Precision"
      ],
      "metadata": {
        "id": "hRjFwRebwq5A"
      }
    },
    {
      "cell_type": "code",
      "source": [
        "precisionP = float(tp) / (tp + fp)\n",
        "print('Precision with Pipeline = ',precisionP)"
      ],
      "metadata": {
        "colab": {
          "base_uri": "https://localhost:8080/"
        },
        "id": "aXv0piVQwtH5",
        "outputId": "239acc9a-85df-474d-f6a1-ee146d87592b"
      },
      "execution_count": null,
      "outputs": [
        {
          "output_type": "stream",
          "name": "stdout",
          "text": [
            "Precision with Pipeline =  0.9437525110486139\n"
          ]
        }
      ]
    },
    {
      "cell_type": "markdown",
      "source": [
        "#Comparison"
      ],
      "metadata": {
        "id": "YxgYBq3YxIp1"
      }
    },
    {
      "cell_type": "code",
      "source": [
        "print('Accuracy  :', round(accuracy_P,2), ' (with Pipeline) ', round(accuracy,2),' (without)')\n",
        "print('Recall    :', round(recall_P,2), ' (with Pipeline) ', round(recall,2),' (without)')\n",
        "print('Precision :', round(precisionP,2), ' (with Pipeline) ', round(precision,2),' (without)')"
      ],
      "metadata": {
        "colab": {
          "base_uri": "https://localhost:8080/"
        },
        "id": "UsNWohoVxOWf",
        "outputId": "ec7314fa-3226-41e5-df7a-ef2b1da9db69"
      },
      "execution_count": null,
      "outputs": [
        {
          "output_type": "stream",
          "name": "stdout",
          "text": [
            "Accuracy  : 0.94  (with Pipeline)  0.94  (without)\n",
            "Recall    : 0.94  (with Pipeline)  0.94  (without)\n",
            "Precision : 0.94  (with Pipeline)  0.94  (without)\n"
          ]
        }
      ]
    },
    {
      "cell_type": "code",
      "source": [
        "!date"
      ],
      "metadata": {
        "id": "H8_Rg39PckwV",
        "outputId": "e74e2ae6-5899-4a75-f3c7-e852196913ab",
        "colab": {
          "base_uri": "https://localhost:8080/"
        }
      },
      "execution_count": 28,
      "outputs": [
        {
          "output_type": "stream",
          "name": "stdout",
          "text": [
            "Sun Oct 16 06:19:19 UTC 2022\n"
          ]
        }
      ]
    },
    {
      "cell_type": "markdown",
      "source": [
        "#Chronobooks <br>\n",
        "Two science fiction novels by Prithwis Mukerjee. A dystopian Earth. A technocratic society managed by artificial intelligence. Escape and epiphany on Mars. Can man and machine, carbon and silicon explore and escape into other dimensions of existence? An Indic perspective rooted in Advaita Vedanta and the Divine Feminine.  [More information](http://bit.ly/chronobooks) <br>\n",
        "![alt text](https://blogger.googleusercontent.com/img/b/R29vZ2xl/AVvXsEg8qElM73l6qtmIS1VTUgsLLhyoGnbWGDq8g-v-g2iW1xr-IRr7FT9WW4tnKDY2sE1rJKPl7sp_p_f6ipEs-__eYU7V0SRuoLlhkopL063bEPqUTiC4lrM4toFMgaf7kpxE2m5niHwn7jZwb9ktv8OdO7OIwPL9xyyF-SiSuQE2SRemLVQRCalwDnQgdg/s16000/CTCYFooter-1.png)"
      ],
      "metadata": {
        "id": "SugAHY12cady"
      }
    }
  ]
}