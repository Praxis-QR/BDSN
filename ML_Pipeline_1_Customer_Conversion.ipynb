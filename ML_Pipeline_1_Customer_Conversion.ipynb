{
  "nbformat": 4,
  "nbformat_minor": 0,
  "metadata": {
    "colab": {
      "name": "Pipeline #1  Customer Conversion",
      "provenance": [],
      "toc_visible": true,
      "include_colab_link": true
    },
    "kernelspec": {
      "name": "python3",
      "display_name": "Python 3"
    },
    "language_info": {
      "name": "python"
    }
  },
  "cells": [
    {
      "cell_type": "markdown",
      "metadata": {
        "id": "view-in-github",
        "colab_type": "text"
      },
      "source": [
        "<a href=\"https://colab.research.google.com/github/Praxis-QR/BDSN/blob/main/ML_Pipeline_1_Customer_Conversion.ipynb\" target=\"_parent\"><img src=\"https://colab.research.google.com/assets/colab-badge.svg\" alt=\"Open In Colab\"/></a>"
      ]
    },
    {
      "cell_type": "markdown",
      "source": [
        "![alt text](https://github.com/Praxis-QR/RDWH/raw/main/images/YantraJaalBanner.png)<br>\n",
        "\n",
        "\n",
        "<hr>\n",
        "\n",
        "[Prithwis Mukerjee](http://www.linkedin.com/in/prithwis)<br>"
      ],
      "metadata": {
        "id": "OUysMCJhcgVy"
      }
    },
    {
      "cell_type": "code",
      "source": [
        "from datetime import datetime\n",
        "import pytz\n",
        "print('Tested',datetime.now(pytz.timezone('Asia/Calcutta')))"
      ],
      "metadata": {
        "id": "Fj6FZixkeLFc",
        "outputId": "93b4836f-ddea-4d6f-fb18-22f77386f7e9",
        "colab": {
          "base_uri": "https://localhost:8080/"
        }
      },
      "execution_count": 2,
      "outputs": [
        {
          "output_type": "stream",
          "name": "stdout",
          "text": [
            "Tested 2024-07-10 07:50:03.366939+05:30\n"
          ]
        }
      ]
    },
    {
      "cell_type": "markdown",
      "source": [
        "#Estimators, Transformers, Pipelines\n",
        "[What are Pipelines & PipelineModels?](https://spark.apache.org/docs/latest/ml-pipeline.html)\n",
        "\n",
        "![alt text](https://raw.githubusercontent.com/Praxis-QR/BDSN/main/images/pipeline.png)<br>"
      ],
      "metadata": {
        "id": "TeTpnrf5NBss"
      }
    },
    {
      "cell_type": "markdown",
      "source": [
        "#Predicting Customer Conversion with Logistic Regression"
      ],
      "metadata": {
        "id": "NC3PUiZCnAjb"
      }
    },
    {
      "cell_type": "markdown",
      "source": [
        "#Install"
      ],
      "metadata": {
        "id": "blYZy6RCDeX2"
      }
    },
    {
      "cell_type": "code",
      "source": [
        "!pip3 -q install pyspark\n",
        "from pyspark.sql import SparkSession\n",
        "spark = SparkSession.builder.appName('Praxis').getOrCreate()"
      ],
      "metadata": {
        "id": "NFD28JjJQS66",
        "outputId": "dd1c9b5e-e83f-4aa8-9b5a-c5f06ef691ac",
        "colab": {
          "base_uri": "https://localhost:8080/"
        }
      },
      "execution_count": 3,
      "outputs": [
        {
          "output_type": "stream",
          "name": "stdout",
          "text": [
            "\u001b[2K     \u001b[90m━━━━━━━━━━━━━━━━━━━━━━━━━━━━━━━━━━━━━━━━\u001b[0m \u001b[32m317.0/317.0 MB\u001b[0m \u001b[31m1.8 MB/s\u001b[0m eta \u001b[36m0:00:00\u001b[0m\n",
            "\u001b[?25h  Preparing metadata (setup.py) ... \u001b[?25l\u001b[?25hdone\n",
            "  Building wheel for pyspark (setup.py) ... \u001b[?25l\u001b[?25hdone\n"
          ]
        }
      ]
    },
    {
      "cell_type": "code",
      "source": [
        "spark"
      ],
      "metadata": {
        "id": "fTPdNMjhNgTX",
        "outputId": "8acfa6c4-ad75-4123-f99a-daf99f92f0dc",
        "colab": {
          "base_uri": "https://localhost:8080/",
          "height": 219
        }
      },
      "execution_count": 4,
      "outputs": [
        {
          "output_type": "execute_result",
          "data": {
            "text/plain": [
              "<pyspark.sql.session.SparkSession at 0x7d1b482e9750>"
            ],
            "text/html": [
              "\n",
              "            <div>\n",
              "                <p><b>SparkSession - in-memory</b></p>\n",
              "                \n",
              "        <div>\n",
              "            <p><b>SparkContext</b></p>\n",
              "\n",
              "            <p><a href=\"http://14093bfaa160:4040\">Spark UI</a></p>\n",
              "\n",
              "            <dl>\n",
              "              <dt>Version</dt>\n",
              "                <dd><code>v3.5.1</code></dd>\n",
              "              <dt>Master</dt>\n",
              "                <dd><code>local[*]</code></dd>\n",
              "              <dt>AppName</dt>\n",
              "                <dd><code>Praxis</code></dd>\n",
              "            </dl>\n",
              "        </div>\n",
              "        \n",
              "            </div>\n",
              "        "
            ]
          },
          "metadata": {},
          "execution_count": 4
        }
      ]
    },
    {
      "cell_type": "markdown",
      "source": [
        "#Load Data"
      ],
      "metadata": {
        "id": "OAyNYK99ESFe"
      }
    },
    {
      "cell_type": "code",
      "source": [
        "!wget -O Data_Set.csv -q https://raw.githubusercontent.com/Praxis-QR/BDSN/main/Documents/CustomerConversion_GG.csv\n",
        "# Load and Read the dataset\n",
        "dfCusCon=spark.read.csv('Data_Set.csv',inferSchema=True,header=True)\n",
        "# Chech the datatypes of the inputs\n",
        "dfCusCon.printSchema()"
      ],
      "metadata": {
        "id": "tIXoEpOEopWV",
        "outputId": "3803fae1-48f3-4ed2-8a69-6a585eb0e0f1",
        "colab": {
          "base_uri": "https://localhost:8080/"
        }
      },
      "execution_count": 5,
      "outputs": [
        {
          "output_type": "stream",
          "name": "stdout",
          "text": [
            "root\n",
            " |-- Country: string (nullable = true)\n",
            " |-- Age: integer (nullable = true)\n",
            " |-- Repeat_Visitor: integer (nullable = true)\n",
            " |-- Platform: string (nullable = true)\n",
            " |-- Web_pages_viewed: integer (nullable = true)\n",
            " |-- Status: integer (nullable = true)\n",
            "\n"
          ]
        }
      ]
    },
    {
      "cell_type": "markdown",
      "source": [
        "# Basic EDA :\n",
        "\n",
        "To understand the data set and gather informations about the data"
      ],
      "metadata": {
        "id": "pf0VZsPxLCM1"
      }
    },
    {
      "cell_type": "code",
      "source": [
        "# Check the shape of the dataset\n",
        "print((dfCusCon.count(), len(dfCusCon.columns)))"
      ],
      "metadata": {
        "colab": {
          "base_uri": "https://localhost:8080/"
        },
        "id": "oywDvXbEK0ht",
        "outputId": "da3a4fba-2ce8-46c7-8e14-a2264e5b32db"
      },
      "execution_count": 6,
      "outputs": [
        {
          "output_type": "stream",
          "name": "stdout",
          "text": [
            "(20000, 6)\n"
          ]
        }
      ]
    },
    {
      "cell_type": "code",
      "source": [
        "# Look at the dataset using SPARK\n",
        "dfCusCon.show(5)"
      ],
      "metadata": {
        "colab": {
          "base_uri": "https://localhost:8080/"
        },
        "id": "PAobh46Brcq_",
        "outputId": "972245f8-7da6-4ab4-836b-744933065e49"
      },
      "execution_count": 7,
      "outputs": [
        {
          "output_type": "stream",
          "name": "stdout",
          "text": [
            "+---------+---+--------------+--------+----------------+------+\n",
            "|  Country|Age|Repeat_Visitor|Platform|Web_pages_viewed|Status|\n",
            "+---------+---+--------------+--------+----------------+------+\n",
            "|    India| 41|             1|   Yahoo|              21|     1|\n",
            "|   Brazil| 28|             1|   Yahoo|               5|     0|\n",
            "|   Brazil| 40|             0|  Google|               3|     0|\n",
            "|Indonesia| 31|             1|    Bing|              15|     1|\n",
            "| Malaysia| 32|             0|  Google|              15|     1|\n",
            "+---------+---+--------------+--------+----------------+------+\n",
            "only showing top 5 rows\n",
            "\n"
          ]
        }
      ]
    },
    {
      "cell_type": "markdown",
      "source": [
        "Country and Platform are categorical and would have to be converted to numerical values"
      ],
      "metadata": {
        "id": "RwILHVrOrOgn"
      }
    },
    {
      "cell_type": "code",
      "source": [
        "# Check the statistical measures of the dataset\n",
        "dfCusCon.describe().show()"
      ],
      "metadata": {
        "id": "HzvHXBUvtMmj",
        "colab": {
          "base_uri": "https://localhost:8080/"
        },
        "outputId": "aef42e51-2735-4a1c-ee59-cb2c2b8aaa2d"
      },
      "execution_count": 8,
      "outputs": [
        {
          "output_type": "stream",
          "name": "stdout",
          "text": [
            "+-------+--------+-----------------+-----------------+--------+-----------------+------------------+\n",
            "|summary| Country|              Age|   Repeat_Visitor|Platform| Web_pages_viewed|            Status|\n",
            "+-------+--------+-----------------+-----------------+--------+-----------------+------------------+\n",
            "|  count|   20000|            20000|            20000|   20000|            20000|             20000|\n",
            "|   mean|    NULL|         28.53955|           0.5029|    NULL|           9.5533|               0.5|\n",
            "| stddev|    NULL|7.888912950773227|0.500004090187782|    NULL|6.073903499824976|0.5000125004687693|\n",
            "|    min|  Brazil|               17|                0|    Bing|                1|                 0|\n",
            "|    max|Malaysia|              111|                1|   Yahoo|               29|                 1|\n",
            "+-------+--------+-----------------+-----------------+--------+-----------------+------------------+\n",
            "\n"
          ]
        }
      ]
    },
    {
      "cell_type": "markdown",
      "source": [
        "The average age of visitors is close to 28 years, and they viewed around 9 web pages during the website visit."
      ],
      "metadata": {
        "id": "PjQK0lcEuMyu"
      }
    },
    {
      "cell_type": "code",
      "source": [
        "# Check individual columns using group By function to understand the data in deeply.\n",
        "dfCusCon.groupBy('Country').count().show()"
      ],
      "metadata": {
        "id": "vXYZ6MrktxZo",
        "colab": {
          "base_uri": "https://localhost:8080/"
        },
        "outputId": "789f56b3-6e1f-4737-fb75-35dc56defa1f"
      },
      "execution_count": 9,
      "outputs": [
        {
          "output_type": "stream",
          "name": "stdout",
          "text": [
            "+---------+-----+\n",
            "|  Country|count|\n",
            "+---------+-----+\n",
            "| Malaysia| 1218|\n",
            "|    India| 4018|\n",
            "|Indonesia|12178|\n",
            "|   Brazil| 2586|\n",
            "+---------+-----+\n",
            "\n"
          ]
        }
      ]
    },
    {
      "cell_type": "markdown",
      "source": [
        "Maximum number of visitors are from Indonesia."
      ],
      "metadata": {
        "id": "THYNVtUmQQI6"
      }
    },
    {
      "cell_type": "code",
      "source": [
        "import pandas as pd\n",
        "import seaborn as sns\n",
        "import matplotlib.pyplot as plt\n",
        "new_df = dfCusCon.toPandas()\n",
        "plt.figure(figsize=(10,6))\n",
        "sns.barplot(y = new_df.groupby('Platform').count()['Web_pages_viewed'], x = new_df.reset_index().groupby('Platform').count()['Web_pages_viewed'].index)"
      ],
      "metadata": {
        "colab": {
          "base_uri": "https://localhost:8080/",
          "height": 559
        },
        "id": "26A6yHVnGVsk",
        "outputId": "900bfe85-eac4-4d31-b727-da83850286c6"
      },
      "execution_count": 10,
      "outputs": [
        {
          "output_type": "execute_result",
          "data": {
            "text/plain": [
              "<Axes: xlabel='Platform', ylabel='Web_pages_viewed'>"
            ]
          },
          "metadata": {},
          "execution_count": 10
        },
        {
          "output_type": "display_data",
          "data": {
            "text/plain": [
              "<Figure size 1000x600 with 1 Axes>"
            ],
            "image/png": "[encoded data removed]"
          },
          "metadata": {}
        }
      ]
    },
    {
      "cell_type": "code",
      "source": [
        "plt.figure(figsize=(10,6))\n",
        "sns.barplot(y = new_df.groupby('Age').count()['Web_pages_viewed'], x = new_df.reset_index().groupby('Age').count()['Web_pages_viewed'].index)"
      ],
      "metadata": {
        "colab": {
          "base_uri": "https://localhost:8080/",
          "height": 559
        },
        "id": "Le_qJQwLJROP",
        "outputId": "4ebb5087-28fa-4247-d334-6af294222734"
      },
      "execution_count": 11,
      "outputs": [
        {
          "output_type": "execute_result",
          "data": {
            "text/plain": [
              "<Axes: xlabel='Age', ylabel='Web_pages_viewed'>"
            ]
          },
          "metadata": {},
          "execution_count": 11
        },
        {
          "output_type": "display_data",
          "data": {
            "text/plain": [
              "<Figure size 1000x600 with 1 Axes>"
            ],
            "image/png": "[encoded data removed]"
          },
          "metadata": {}
        }
      ]
    },
    {
      "cell_type": "code",
      "source": [
        "dfCusCon.groupBy('Platform').count().show()"
      ],
      "metadata": {
        "id": "ZRoG8VLxvfjk",
        "colab": {
          "base_uri": "https://localhost:8080/"
        },
        "outputId": "06654797-4906-4597-b87e-d38d27a9df15"
      },
      "execution_count": 12,
      "outputs": [
        {
          "output_type": "stream",
          "name": "stdout",
          "text": [
            "+--------+-----+\n",
            "|Platform|count|\n",
            "+--------+-----+\n",
            "|   Yahoo| 9859|\n",
            "|    Bing| 4360|\n",
            "|  Google| 5781|\n",
            "+--------+-----+\n",
            "\n"
          ]
        }
      ]
    },
    {
      "cell_type": "markdown",
      "source": [
        "Total numbers of Yahoo Platform users are the highest."
      ],
      "metadata": {
        "id": "Qd8BhEjzvprL"
      }
    },
    {
      "cell_type": "code",
      "source": [
        "dfCusCon.groupBy('Status').count().show()"
      ],
      "metadata": {
        "id": "F1spStlmv7SO",
        "colab": {
          "base_uri": "https://localhost:8080/"
        },
        "outputId": "6a9dfb67-a3d7-499a-b333-0118a0ba5de5"
      },
      "execution_count": 13,
      "outputs": [
        {
          "output_type": "stream",
          "name": "stdout",
          "text": [
            "+------+-----+\n",
            "|Status|count|\n",
            "+------+-----+\n",
            "|     1|10000|\n",
            "|     0|10000|\n",
            "+------+-----+\n",
            "\n"
          ]
        }
      ]
    },
    {
      "cell_type": "markdown",
      "source": [
        "Equal number of users who are converted and non-converted."
      ],
      "metadata": {
        "id": "0cMFAxnNwK-g"
      }
    },
    {
      "cell_type": "code",
      "source": [
        " dfCusCon.groupBy('Country').mean().show()"
      ],
      "metadata": {
        "id": "DAOYb97mwSTs",
        "colab": {
          "base_uri": "https://localhost:8080/"
        },
        "outputId": "e19acd4b-f075-48fa-8406-c639a9fbec48"
      },
      "execution_count": 14,
      "outputs": [
        {
          "output_type": "stream",
          "name": "stdout",
          "text": [
            "+---------+------------------+-------------------+---------------------+--------------------+\n",
            "|  Country|          avg(Age)|avg(Repeat_Visitor)|avg(Web_pages_viewed)|         avg(Status)|\n",
            "+---------+------------------+-------------------+---------------------+--------------------+\n",
            "| Malaysia|27.792282430213465| 0.5730706075533661|   11.192118226600986|  0.6568144499178982|\n",
            "|    India|27.976854156296664| 0.5433051269288203|   10.727227476356397|  0.6212045793927327|\n",
            "|Indonesia| 28.43159796354081| 0.5207751683363442|    9.985711939563148|  0.5422893742814913|\n",
            "|   Brazil|30.274168600154677|  0.322892498066512|    4.921113689095128|0.038669760247486466|\n",
            "+---------+------------------+-------------------+---------------------+--------------------+\n",
            "\n"
          ]
        }
      ]
    },
    {
      "cell_type": "markdown",
      "source": [
        "The average number of web_page_viewed is highest in Malaysia and lowest in Brazil."
      ],
      "metadata": {
        "id": "VRQWF758wpND"
      }
    },
    {
      "cell_type": "code",
      "source": [
        "dfCusCon.groupBy('Platform').mean().show()"
      ],
      "metadata": {
        "id": "2zBKdlONxbK4",
        "colab": {
          "base_uri": "https://localhost:8080/"
        },
        "outputId": "5d32cb21-05a4-45e7-bd2d-bb6181a21541"
      },
      "execution_count": 15,
      "outputs": [
        {
          "output_type": "stream",
          "name": "stdout",
          "text": [
            "+--------+------------------+-------------------+---------------------+------------------+\n",
            "|Platform|          avg(Age)|avg(Repeat_Visitor)|avg(Web_pages_viewed)|       avg(Status)|\n",
            "+--------+------------------+-------------------+---------------------+------------------+\n",
            "|   Yahoo|28.569226087838523| 0.5094837204584644|    9.599655137437875|0.5071508266558474|\n",
            "|    Bing| 28.68394495412844| 0.4720183486238532|    9.114908256880733|0.4559633027522936|\n",
            "|  Google|28.380038055699707| 0.5149628092025601|    9.804878048780488|0.5210171250648676|\n",
            "+--------+------------------+-------------------+---------------------+------------------+\n",
            "\n"
          ]
        }
      ]
    },
    {
      "cell_type": "markdown",
      "source": [
        "The average number of web_page_viewed is highest for Google Platform."
      ],
      "metadata": {
        "id": "MrWo0WEFxw5s"
      }
    },
    {
      "cell_type": "code",
      "source": [
        "dfCusCon.groupBy('Status').mean().show()"
      ],
      "metadata": {
        "id": "5jouQLANyMbF",
        "colab": {
          "base_uri": "https://localhost:8080/"
        },
        "outputId": "66c7390b-41d7-4d96-e57a-6b4a10ea200b"
      },
      "execution_count": 16,
      "outputs": [
        {
          "output_type": "stream",
          "name": "stdout",
          "text": [
            "+------+--------+-------------------+---------------------+-----------+\n",
            "|Status|avg(Age)|avg(Repeat_Visitor)|avg(Web_pages_viewed)|avg(Status)|\n",
            "+------+--------+-------------------+---------------------+-----------+\n",
            "|     1| 26.5435|             0.7019|              14.5617|        1.0|\n",
            "|     0| 30.5356|             0.3039|               4.5449|        0.0|\n",
            "+------+--------+-------------------+---------------------+-----------+\n",
            "\n"
          ]
        }
      ]
    },
    {
      "cell_type": "markdown",
      "source": [
        "There is a strong connection between the conversion\n",
        "status and the number of Web_pages_viewed along with repeat_Visitor."
      ],
      "metadata": {
        "id": "SFISnHQ_y7j9"
      }
    },
    {
      "cell_type": "markdown",
      "source": [
        "# Feature Engineering :\n",
        "\n",
        "Converting the Data for ML purposes<br>\n",
        "see https://spark.apache.org/docs/latest/ml-features.html"
      ],
      "metadata": {
        "id": "JIypSydfRPsf"
      }
    },
    {
      "cell_type": "code",
      "source": [
        "from pyspark.ml.feature import StringIndexer\n",
        "from pyspark.ml.feature import VectorAssembler\n",
        "from pyspark.ml.feature import OneHotEncoder\n",
        "from pyspark.ml.classification import LogisticRegression"
      ],
      "metadata": {
        "id": "VNXOfJw2Wspi"
      },
      "execution_count": 17,
      "outputs": []
    },
    {
      "cell_type": "markdown",
      "source": [
        "##Platform Data"
      ],
      "metadata": {
        "id": "-ZuPM-knvmW_"
      }
    },
    {
      "cell_type": "code",
      "source": [
        "#Platform_indexer = StringIndexer(inputCol=\"Platform\", outputCol=\"Platform_Num\").fit(df)\n",
        "Platform_indexer = StringIndexer(inputCol=\"Platform\", outputCol=\"Platform_Num\")\n",
        "                                                                    # Estimator = Platform_indexer\n",
        "                                                                    # fitted Estimator, Platform_indexer.fit(dfCusCon) is the Transformer\n",
        "dfWork = Platform_indexer.fit(dfCusCon).transform(dfCusCon)\n",
        "#dfWork.show(5,False)\n",
        "dfWork.show(5)"
      ],
      "metadata": {
        "id": "JdQWTT9hWwPZ",
        "colab": {
          "base_uri": "https://localhost:8080/"
        },
        "outputId": "1ad32b47-e0c2-47f3-ebb6-46054ef78af6"
      },
      "execution_count": 18,
      "outputs": [
        {
          "output_type": "stream",
          "name": "stdout",
          "text": [
            "+---------+---+--------------+--------+----------------+------+------------+\n",
            "|  Country|Age|Repeat_Visitor|Platform|Web_pages_viewed|Status|Platform_Num|\n",
            "+---------+---+--------------+--------+----------------+------+------------+\n",
            "|    India| 41|             1|   Yahoo|              21|     1|         0.0|\n",
            "|   Brazil| 28|             1|   Yahoo|               5|     0|         0.0|\n",
            "|   Brazil| 40|             0|  Google|               3|     0|         1.0|\n",
            "|Indonesia| 31|             1|    Bing|              15|     1|         2.0|\n",
            "| Malaysia| 32|             0|  Google|              15|     1|         1.0|\n",
            "+---------+---+--------------+--------+----------------+------+------------+\n",
            "only showing top 5 rows\n",
            "\n"
          ]
        }
      ]
    },
    {
      "cell_type": "code",
      "source": [
        "dfWork.groupBy('Platform').count().orderBy('count', ascending=False).show(5)"
      ],
      "metadata": {
        "id": "l7htzpkLXFwT",
        "colab": {
          "base_uri": "https://localhost:8080/"
        },
        "outputId": "9d19e8df-4241-4b91-c4d2-3a1569ac1435"
      },
      "execution_count": 19,
      "outputs": [
        {
          "output_type": "stream",
          "name": "stdout",
          "text": [
            "+--------+-----+\n",
            "|Platform|count|\n",
            "+--------+-----+\n",
            "|   Yahoo| 9859|\n",
            "|  Google| 5781|\n",
            "|    Bing| 4360|\n",
            "+--------+-----+\n",
            "\n"
          ]
        }
      ]
    },
    {
      "cell_type": "code",
      "source": [
        "dfWork.groupBy('Platform_Num').count().orderBy('count', ascending=False).show(5)"
      ],
      "metadata": {
        "id": "Upeyy31DXZyI",
        "colab": {
          "base_uri": "https://localhost:8080/"
        },
        "outputId": "13cf06c7-be86-4d65-9524-5963109893a0"
      },
      "execution_count": 20,
      "outputs": [
        {
          "output_type": "stream",
          "name": "stdout",
          "text": [
            "+------------+-----+\n",
            "|Platform_Num|count|\n",
            "+------------+-----+\n",
            "|         0.0| 9859|\n",
            "|         1.0| 5781|\n",
            "|         2.0| 4360|\n",
            "+------------+-----+\n",
            "\n"
          ]
        }
      ]
    },
    {
      "cell_type": "code",
      "source": [
        "Platform_encoder = OneHotEncoder(inputCol=\"Platform_Num\", outputCol=\"Platforms_Vector\")\n",
        "Platform_encoder.setDropLast(False)        #setDropLast : https://stackoverflow.com/questions/39500213/why-does-sparks-onehotencoder-drop-the-last-category-by-default\n",
        "#ohe = Platform_encoder.fit(df)\n",
        "                                                            # Platform_encoder, is the Estimator\n",
        "                                                            # Platform_encoder.fit(dfWork), the fitted Estimator, is the Transformer\n",
        "dfWork = Platform_encoder.fit(dfWork).transform(dfWork)\n",
        "dfWork.show(5)"
      ],
      "metadata": {
        "id": "22Cqupu8fhct",
        "colab": {
          "base_uri": "https://localhost:8080/"
        },
        "outputId": "d46fb86c-b771-4a71-b15b-aee855c811c7"
      },
      "execution_count": 21,
      "outputs": [
        {
          "output_type": "stream",
          "name": "stdout",
          "text": [
            "+---------+---+--------------+--------+----------------+------+------------+----------------+\n",
            "|  Country|Age|Repeat_Visitor|Platform|Web_pages_viewed|Status|Platform_Num|Platforms_Vector|\n",
            "+---------+---+--------------+--------+----------------+------+------------+----------------+\n",
            "|    India| 41|             1|   Yahoo|              21|     1|         0.0|   (3,[0],[1.0])|\n",
            "|   Brazil| 28|             1|   Yahoo|               5|     0|         0.0|   (3,[0],[1.0])|\n",
            "|   Brazil| 40|             0|  Google|               3|     0|         1.0|   (3,[1],[1.0])|\n",
            "|Indonesia| 31|             1|    Bing|              15|     1|         2.0|   (3,[2],[1.0])|\n",
            "| Malaysia| 32|             0|  Google|              15|     1|         1.0|   (3,[1],[1.0])|\n",
            "+---------+---+--------------+--------+----------------+------+------------+----------------+\n",
            "only showing top 5 rows\n",
            "\n"
          ]
        }
      ]
    },
    {
      "cell_type": "code",
      "source": [
        "dfWork.groupBy('Platforms_Vector').count().orderBy('count', ascending=False).show(5,False)"
      ],
      "metadata": {
        "id": "u_AGe31ugM9H",
        "colab": {
          "base_uri": "https://localhost:8080/"
        },
        "outputId": "3b1137d5-36b0-4b7a-b98b-ae6e3899a79f"
      },
      "execution_count": 22,
      "outputs": [
        {
          "output_type": "stream",
          "name": "stdout",
          "text": [
            "+----------------+-----+\n",
            "|Platforms_Vector|count|\n",
            "+----------------+-----+\n",
            "|(3,[0],[1.0])   |9859 |\n",
            "|(3,[1],[1.0])   |5781 |\n",
            "|(3,[2],[1.0])   |4360 |\n",
            "+----------------+-----+\n",
            "\n"
          ]
        }
      ]
    },
    {
      "cell_type": "markdown",
      "source": [
        "##Country Data"
      ],
      "metadata": {
        "id": "hewbXQxJgk7-"
      }
    },
    {
      "cell_type": "code",
      "source": [
        "#Country_indexer = StringIndexer(inputCol=\"Country\", outputCol=\"Country_Num\").fit(df)\n",
        "Country_indexer = StringIndexer(inputCol=\"Country\", outputCol=\"Country_Num\")\n",
        "                                                                            # Country_indexer is the Estimator\n",
        "                                                                            # Country_indexer.fit(dfWork), is the Transformer\n",
        "dfWork = Country_indexer.fit(dfWork).transform(dfWork)\n",
        "dfWork.show(5)"
      ],
      "metadata": {
        "id": "OGuzRv7Sght0",
        "colab": {
          "base_uri": "https://localhost:8080/"
        },
        "outputId": "1eb4710f-2714-46cd-85a4-1e1807cc9961"
      },
      "execution_count": 23,
      "outputs": [
        {
          "output_type": "stream",
          "name": "stdout",
          "text": [
            "+---------+---+--------------+--------+----------------+------+------------+----------------+-----------+\n",
            "|  Country|Age|Repeat_Visitor|Platform|Web_pages_viewed|Status|Platform_Num|Platforms_Vector|Country_Num|\n",
            "+---------+---+--------------+--------+----------------+------+------------+----------------+-----------+\n",
            "|    India| 41|             1|   Yahoo|              21|     1|         0.0|   (3,[0],[1.0])|        1.0|\n",
            "|   Brazil| 28|             1|   Yahoo|               5|     0|         0.0|   (3,[0],[1.0])|        2.0|\n",
            "|   Brazil| 40|             0|  Google|               3|     0|         1.0|   (3,[1],[1.0])|        2.0|\n",
            "|Indonesia| 31|             1|    Bing|              15|     1|         2.0|   (3,[2],[1.0])|        0.0|\n",
            "| Malaysia| 32|             0|  Google|              15|     1|         1.0|   (3,[1],[1.0])|        3.0|\n",
            "+---------+---+--------------+--------+----------------+------+------------+----------------+-----------+\n",
            "only showing top 5 rows\n",
            "\n"
          ]
        }
      ]
    },
    {
      "cell_type": "code",
      "source": [
        "dfWork.groupBy('Country').count().orderBy('count', ascending = False).show(5,False)"
      ],
      "metadata": {
        "id": "0qhkGMe-hbsQ",
        "colab": {
          "base_uri": "https://localhost:8080/"
        },
        "outputId": "9c5776a2-f69f-44bf-e189-794dfe973592"
      },
      "execution_count": 24,
      "outputs": [
        {
          "output_type": "stream",
          "name": "stdout",
          "text": [
            "+---------+-----+\n",
            "|Country  |count|\n",
            "+---------+-----+\n",
            "|Indonesia|12178|\n",
            "|India    |4018 |\n",
            "|Brazil   |2586 |\n",
            "|Malaysia |1218 |\n",
            "+---------+-----+\n",
            "\n"
          ]
        }
      ]
    },
    {
      "cell_type": "code",
      "source": [
        "dfWork.groupBy('Country_Num').count().orderBy('count', ascending = False).show(5,False)"
      ],
      "metadata": {
        "id": "G9b3mfSmhnEE",
        "colab": {
          "base_uri": "https://localhost:8080/"
        },
        "outputId": "b323a13b-2855-45ae-c733-f23b63b1c32c"
      },
      "execution_count": 25,
      "outputs": [
        {
          "output_type": "stream",
          "name": "stdout",
          "text": [
            "+-----------+-----+\n",
            "|Country_Num|count|\n",
            "+-----------+-----+\n",
            "|0.0        |12178|\n",
            "|1.0        |4018 |\n",
            "|2.0        |2586 |\n",
            "|3.0        |1218 |\n",
            "+-----------+-----+\n",
            "\n"
          ]
        }
      ]
    },
    {
      "cell_type": "code",
      "source": [
        "Country_encoder =OneHotEncoder(inputCol=\"Country_Num\", outputCol=\"Country_Vector\")\n",
        "Country_encoder.setDropLast(False)\n",
        "                                                                           # Country_encoder is the Estimator\n",
        "                                                                           # Country_encoder.fit(dfWork), is the Transformer\n",
        "#ohhe = Country_encoder.fit(df)\n",
        "dfWork = Country_encoder.fit(dfWork).transform(dfWork)"
      ],
      "metadata": {
        "id": "CkqKDQfFhxVS"
      },
      "execution_count": 26,
      "outputs": []
    },
    {
      "cell_type": "code",
      "source": [
        "dfWork.select(['Country','Country_Num','Country_Vector']).show(5)"
      ],
      "metadata": {
        "id": "9Zlvm4AMiO-d",
        "colab": {
          "base_uri": "https://localhost:8080/"
        },
        "outputId": "2b41bb62-9b5c-495c-eb64-44833f5b8e3a"
      },
      "execution_count": 27,
      "outputs": [
        {
          "output_type": "stream",
          "name": "stdout",
          "text": [
            "+---------+-----------+--------------+\n",
            "|  Country|Country_Num|Country_Vector|\n",
            "+---------+-----------+--------------+\n",
            "|    India|        1.0| (4,[1],[1.0])|\n",
            "|   Brazil|        2.0| (4,[2],[1.0])|\n",
            "|   Brazil|        2.0| (4,[2],[1.0])|\n",
            "|Indonesia|        0.0| (4,[0],[1.0])|\n",
            "| Malaysia|        3.0| (4,[3],[1.0])|\n",
            "+---------+-----------+--------------+\n",
            "only showing top 5 rows\n",
            "\n"
          ]
        }
      ]
    },
    {
      "cell_type": "code",
      "source": [
        "dfWork.groupBy('Country_Vector').count().orderBy('count', ascending = False).show(5,False)"
      ],
      "metadata": {
        "id": "nCCQDvNsib8b",
        "colab": {
          "base_uri": "https://localhost:8080/"
        },
        "outputId": "13688ae4-8a98-4a92-8aa0-e9a3e1f2936c"
      },
      "execution_count": 28,
      "outputs": [
        {
          "output_type": "stream",
          "name": "stdout",
          "text": [
            "+--------------+-----+\n",
            "|Country_Vector|count|\n",
            "+--------------+-----+\n",
            "|(4,[0],[1.0]) |12178|\n",
            "|(4,[1],[1.0]) |4018 |\n",
            "|(4,[2],[1.0]) |2586 |\n",
            "|(4,[3],[1.0]) |1218 |\n",
            "+--------------+-----+\n",
            "\n"
          ]
        }
      ]
    },
    {
      "cell_type": "markdown",
      "source": [
        "Categoricals have been converted into Numericals.<br>\n",
        "Now to Create the Feature Vector"
      ],
      "metadata": {
        "id": "nmrtLzZkj2o6"
      }
    },
    {
      "cell_type": "code",
      "source": [
        "# Now it is needed to assemble all of the input columns into a single vector that would act as the input feature for the Logistic Regression model.\n",
        "Feature_assembler = VectorAssembler(inputCols=['Platforms_Vector','Country_Vector','Age', 'Repeat_Visitor',\n",
        "'Web_pages_viewed'], outputCol=\"features\")\n",
        "dfWork = Feature_assembler.transform(dfWork)                         # Feature Assembler is the Transformer\n",
        "dfWork.show(5)"
      ],
      "metadata": {
        "id": "N3IxBwCgir11",
        "colab": {
          "base_uri": "https://localhost:8080/"
        },
        "outputId": "db6cd139-b1f1-497f-98b2-6bb88c63c706"
      },
      "execution_count": 29,
      "outputs": [
        {
          "output_type": "stream",
          "name": "stdout",
          "text": [
            "+---------+---+--------------+--------+----------------+------+------------+----------------+-----------+--------------+--------------------+\n",
            "|  Country|Age|Repeat_Visitor|Platform|Web_pages_viewed|Status|Platform_Num|Platforms_Vector|Country_Num|Country_Vector|            features|\n",
            "+---------+---+--------------+--------+----------------+------+------------+----------------+-----------+--------------+--------------------+\n",
            "|    India| 41|             1|   Yahoo|              21|     1|         0.0|   (3,[0],[1.0])|        1.0| (4,[1],[1.0])|(10,[0,4,7,8,9],[...|\n",
            "|   Brazil| 28|             1|   Yahoo|               5|     0|         0.0|   (3,[0],[1.0])|        2.0| (4,[2],[1.0])|(10,[0,5,7,8,9],[...|\n",
            "|   Brazil| 40|             0|  Google|               3|     0|         1.0|   (3,[1],[1.0])|        2.0| (4,[2],[1.0])|(10,[1,5,7,9],[1....|\n",
            "|Indonesia| 31|             1|    Bing|              15|     1|         2.0|   (3,[2],[1.0])|        0.0| (4,[0],[1.0])|(10,[2,3,7,8,9],[...|\n",
            "| Malaysia| 32|             0|  Google|              15|     1|         1.0|   (3,[1],[1.0])|        3.0| (4,[3],[1.0])|(10,[1,6,7,9],[1....|\n",
            "+---------+---+--------------+--------+----------------+------+------------+----------------+-----------+--------------+--------------------+\n",
            "only showing top 5 rows\n",
            "\n"
          ]
        }
      ]
    },
    {
      "cell_type": "code",
      "source": [
        "dfWork[['features','Status']].show(5,False)"
      ],
      "metadata": {
        "id": "nQ4YQpXpk0he",
        "colab": {
          "base_uri": "https://localhost:8080/"
        },
        "outputId": "424a9f3b-12c4-405c-aed9-0a907033708e"
      },
      "execution_count": 30,
      "outputs": [
        {
          "output_type": "stream",
          "name": "stdout",
          "text": [
            "+----------------------------------------+------+\n",
            "|features                                |Status|\n",
            "+----------------------------------------+------+\n",
            "|(10,[0,4,7,8,9],[1.0,1.0,41.0,1.0,21.0])|1     |\n",
            "|(10,[0,5,7,8,9],[1.0,1.0,28.0,1.0,5.0]) |0     |\n",
            "|(10,[1,5,7,9],[1.0,1.0,40.0,3.0])       |0     |\n",
            "|(10,[2,3,7,8,9],[1.0,1.0,31.0,1.0,15.0])|1     |\n",
            "|(10,[1,6,7,9],[1.0,1.0,32.0,15.0])      |1     |\n",
            "+----------------------------------------+------+\n",
            "only showing top 5 rows\n",
            "\n"
          ]
        }
      ]
    },
    {
      "cell_type": "code",
      "source": [
        "dfWork.printSchema()"
      ],
      "metadata": {
        "id": "BbV6JWyllFAV",
        "colab": {
          "base_uri": "https://localhost:8080/"
        },
        "outputId": "73edb837-544b-44c3-a37f-687d23eb31cd"
      },
      "execution_count": 31,
      "outputs": [
        {
          "output_type": "stream",
          "name": "stdout",
          "text": [
            "root\n",
            " |-- Country: string (nullable = true)\n",
            " |-- Age: integer (nullable = true)\n",
            " |-- Repeat_Visitor: integer (nullable = true)\n",
            " |-- Platform: string (nullable = true)\n",
            " |-- Web_pages_viewed: integer (nullable = true)\n",
            " |-- Status: integer (nullable = true)\n",
            " |-- Platform_Num: double (nullable = false)\n",
            " |-- Platforms_Vector: vector (nullable = true)\n",
            " |-- Country_Num: double (nullable = false)\n",
            " |-- Country_Vector: vector (nullable = true)\n",
            " |-- features: vector (nullable = true)\n",
            "\n"
          ]
        }
      ]
    },
    {
      "cell_type": "markdown",
      "source": [
        "One extra column named features, which is nothing but a combination of all the input features represented as a Single Dense Vector."
      ],
      "metadata": {
        "id": "LJKdwEj-iqEF"
      }
    },
    {
      "cell_type": "markdown",
      "source": [
        "## Reducing the DataSet"
      ],
      "metadata": {
        "id": "Epg5Dqebk1oE"
      }
    },
    {
      "cell_type": "code",
      "source": [
        "# Now select only features column as input and the Status column as output for training the logistic regression model.\n",
        "#model_df=df.select(['features','Status'])\n",
        "dfWork = dfWork.select(['features','Status'])\n",
        "dfWork.show(10, False)"
      ],
      "metadata": {
        "id": "y7L2FMC6mtac",
        "colab": {
          "base_uri": "https://localhost:8080/"
        },
        "outputId": "812d4963-486c-42e4-da1f-dc8c892109a3"
      },
      "execution_count": 32,
      "outputs": [
        {
          "output_type": "stream",
          "name": "stdout",
          "text": [
            "+----------------------------------------+------+\n",
            "|features                                |Status|\n",
            "+----------------------------------------+------+\n",
            "|(10,[0,4,7,8,9],[1.0,1.0,41.0,1.0,21.0])|1     |\n",
            "|(10,[0,5,7,8,9],[1.0,1.0,28.0,1.0,5.0]) |0     |\n",
            "|(10,[1,5,7,9],[1.0,1.0,40.0,3.0])       |0     |\n",
            "|(10,[2,3,7,8,9],[1.0,1.0,31.0,1.0,15.0])|1     |\n",
            "|(10,[1,6,7,9],[1.0,1.0,32.0,15.0])      |1     |\n",
            "|(10,[1,5,7,9],[1.0,1.0,32.0,3.0])       |0     |\n",
            "|(10,[1,5,7,9],[1.0,1.0,32.0,6.0])       |0     |\n",
            "|(10,[1,3,7,9],[1.0,1.0,27.0,9.0])       |0     |\n",
            "|(10,[0,3,7,9],[1.0,1.0,32.0,2.0])       |0     |\n",
            "|(10,[2,3,7,8,9],[1.0,1.0,31.0,1.0,16.0])|1     |\n",
            "+----------------------------------------+------+\n",
            "only showing top 10 rows\n",
            "\n"
          ]
        }
      ]
    },
    {
      "cell_type": "markdown",
      "source": [
        "## Splitting the Dataset :\n",
        "\n",
        "Split the dataset into a training and test dataset in order to train and evaluate the performance of the logistic regression model. I split it in a 75/25 ratio and train our model on 75% of the dataset."
      ],
      "metadata": {
        "id": "Om4xUysYnLPX"
      }
    },
    {
      "cell_type": "code",
      "source": [
        "dfTrain, dfTest = dfWork.randomSplit([0.75,0.25])\n",
        "print( dfTrain.count(), dfTest.count())"
      ],
      "metadata": {
        "id": "liGRm91ToXqh",
        "colab": {
          "base_uri": "https://localhost:8080/"
        },
        "outputId": "b576c3d7-6bac-4f06-c6eb-af6c206e6ba6"
      },
      "execution_count": 33,
      "outputs": [
        {
          "output_type": "stream",
          "name": "stdout",
          "text": [
            "14937 5063\n"
          ]
        }
      ]
    },
    {
      "cell_type": "code",
      "source": [
        "dfTrain.groupBy('Status').count().show()"
      ],
      "metadata": {
        "id": "gID8e-TPpVbq",
        "colab": {
          "base_uri": "https://localhost:8080/"
        },
        "outputId": "ff46871e-d6cd-4748-e838-62cfb49ff28f"
      },
      "execution_count": 34,
      "outputs": [
        {
          "output_type": "stream",
          "name": "stdout",
          "text": [
            "+------+-----+\n",
            "|Status|count|\n",
            "+------+-----+\n",
            "|     1| 7484|\n",
            "|     0| 7453|\n",
            "+------+-----+\n",
            "\n"
          ]
        }
      ]
    },
    {
      "cell_type": "markdown",
      "source": [
        "This ensures we have a balance set of the target class (Status) into the\n",
        "training and test set."
      ],
      "metadata": {
        "id": "HL3z8iLNpd2o"
      }
    },
    {
      "cell_type": "code",
      "source": [
        "dfTest.groupBy('Status').count().show()"
      ],
      "metadata": {
        "id": "_B1sJxkcplLY",
        "colab": {
          "base_uri": "https://localhost:8080/"
        },
        "outputId": "4ec6ce87-dcc0-4f72-892e-baca6dcfa067"
      },
      "execution_count": 35,
      "outputs": [
        {
          "output_type": "stream",
          "name": "stdout",
          "text": [
            "+------+-----+\n",
            "|Status|count|\n",
            "+------+-----+\n",
            "|     1| 2516|\n",
            "|     0| 2547|\n",
            "+------+-----+\n",
            "\n"
          ]
        }
      ]
    },
    {
      "cell_type": "markdown",
      "source": [
        "## Build and Train Logistic Regression Model:\n",
        "\n",
        "I build and train the logistic regression model using features as the input column and status as the output column."
      ],
      "metadata": {
        "id": "x1_LxSM3qtAg"
      }
    },
    {
      "cell_type": "code",
      "source": [
        "#LogReg =LogisticRegression(labelCol='Status').fit(training_df)\n",
        "LogReg =LogisticRegression(labelCol='Status')"
      ],
      "metadata": {
        "id": "_grEDfF_rGTY"
      },
      "execution_count": 36,
      "outputs": []
    },
    {
      "cell_type": "markdown",
      "source": [
        "## Training Results:\n",
        "\n",
        "We can  access the predictions made by the model using the evaluate function in SPARK that executes all the steps in an optimized way. It gives another Dataframe that contains four columns in total, including prediction and probability."
      ],
      "metadata": {
        "id": "LQvYEk0SrN8m"
      }
    },
    {
      "cell_type": "code",
      "source": [
        "                                                                        # Model, LogReg is the Estimator\n",
        "                                                                        # Fitted Model,LogReg.fit(dfTrain), is the Transformer\n",
        "TrainResults =LogReg.fit(dfTrain).evaluate(dfTrain).predictions"
      ],
      "metadata": {
        "id": "CwrHtslXrwCy"
      },
      "execution_count": 37,
      "outputs": []
    },
    {
      "cell_type": "code",
      "source": [
        "TrainResults.count()"
      ],
      "metadata": {
        "colab": {
          "base_uri": "https://localhost:8080/"
        },
        "id": "TFk1HoQKnMAY",
        "outputId": "54861797-60cd-4364-fb55-46040f9c13ff"
      },
      "execution_count": 38,
      "outputs": [
        {
          "output_type": "execute_result",
          "data": {
            "text/plain": [
              "14937"
            ]
          },
          "metadata": {},
          "execution_count": 38
        }
      ]
    },
    {
      "cell_type": "code",
      "source": [
        "TrainResults.filter(TrainResults['Status']==1).filter(TrainResults['prediction']==1).select(['Status','prediction','probability']).show(10,False)"
      ],
      "metadata": {
        "id": "SgpNwTdGr0gz",
        "colab": {
          "base_uri": "https://localhost:8080/"
        },
        "outputId": "0e82641a-9281-4641-8363-a71d55c812c2"
      },
      "execution_count": 39,
      "outputs": [
        {
          "output_type": "stream",
          "name": "stdout",
          "text": [
            "+------+----------+----------------------------------------+\n",
            "|Status|prediction|probability                             |\n",
            "+------+----------+----------------------------------------+\n",
            "|1     |1.0       |[0.43367838673482845,0.5663216132651716]|\n",
            "|1     |1.0       |[0.43367838673482845,0.5663216132651716]|\n",
            "|1     |1.0       |[0.2639745228427496,0.7360254771572504] |\n",
            "|1     |1.0       |[0.2639745228427496,0.7360254771572504] |\n",
            "|1     |1.0       |[0.2639745228427496,0.7360254771572504] |\n",
            "|1     |1.0       |[0.1438141832145114,0.8561858167854886] |\n",
            "|1     |1.0       |[0.1438141832145114,0.8561858167854886] |\n",
            "|1     |1.0       |[0.07293070486546219,0.9270692951345378]|\n",
            "|1     |1.0       |[0.07293070486546219,0.9270692951345378]|\n",
            "|1     |1.0       |[0.07293070486546219,0.9270692951345378]|\n",
            "+------+----------+----------------------------------------+\n",
            "only showing top 10 rows\n",
            "\n"
          ]
        }
      ]
    },
    {
      "cell_type": "markdown",
      "source": [
        "## Evaluate Logistic Regression Model on Test Data\n",
        "\n",
        "Now check the performance of the\n",
        "model on test data. So the evaluate function is used, to make predictions on the test data."
      ],
      "metadata": {
        "id": "b_xIoX3msEq_"
      }
    },
    {
      "cell_type": "code",
      "source": [
        "#results=log_reg.evaluate(test_df).predictions\n",
        "TestResults = LogReg.fit(dfTrain).evaluate(dfTest).predictions"
      ],
      "metadata": {
        "id": "7btBzbrnsnqv"
      },
      "execution_count": 40,
      "outputs": []
    },
    {
      "cell_type": "code",
      "source": [
        "TestResults.printSchema()"
      ],
      "metadata": {
        "id": "53xz0FvmtPIr",
        "colab": {
          "base_uri": "https://localhost:8080/"
        },
        "outputId": "2b7cf2b0-4dbf-444a-c8e7-53ada02c2671"
      },
      "execution_count": 41,
      "outputs": [
        {
          "output_type": "stream",
          "name": "stdout",
          "text": [
            "root\n",
            " |-- features: vector (nullable = true)\n",
            " |-- Status: integer (nullable = true)\n",
            " |-- rawPrediction: vector (nullable = true)\n",
            " |-- probability: vector (nullable = true)\n",
            " |-- prediction: double (nullable = false)\n",
            "\n"
          ]
        }
      ]
    },
    {
      "cell_type": "code",
      "source": [
        "TestResults.select(['Status','prediction']).show(10, False)"
      ],
      "metadata": {
        "id": "CRxI7GOmtTc9",
        "colab": {
          "base_uri": "https://localhost:8080/"
        },
        "outputId": "2b426f79-122d-4b8e-f60d-8404220e09e1"
      },
      "execution_count": 42,
      "outputs": [
        {
          "output_type": "stream",
          "name": "stdout",
          "text": [
            "+------+----------+\n",
            "|Status|prediction|\n",
            "+------+----------+\n",
            "|0     |0.0       |\n",
            "|0     |0.0       |\n",
            "|0     |0.0       |\n",
            "|0     |0.0       |\n",
            "|1     |0.0       |\n",
            "|1     |0.0       |\n",
            "|0     |1.0       |\n",
            "|1     |1.0       |\n",
            "|1     |1.0       |\n",
            "|1     |1.0       |\n",
            "+------+----------+\n",
            "only showing top 10 rows\n",
            "\n"
          ]
        }
      ]
    },
    {
      "cell_type": "markdown",
      "source": [
        "### Confusion Matrix:\n",
        "\n",
        "As this is a classification problem, I use a confusion matrix to\n",
        "gauge the performance of the model."
      ],
      "metadata": {
        "id": "1wBoVMmItfa4"
      }
    },
    {
      "cell_type": "code",
      "source": [
        "tp = TestResults[(TestResults.Status == 1) & (TestResults.prediction == 1)].count()\n",
        "tn = TestResults[(TestResults.Status == 0) & (TestResults.prediction == 0)].count()\n",
        "fp = TestResults[(TestResults.Status == 0) & (TestResults.prediction == 1)].count()\n",
        "fn = TestResults[(TestResults.Status == 1) & (TestResults.prediction == 0)].count()"
      ],
      "metadata": {
        "id": "5DmAVXZ4tzJL"
      },
      "execution_count": 43,
      "outputs": []
    },
    {
      "cell_type": "markdown",
      "source": [
        "### Accuracy:\n",
        "\n",
        "It is the most basic metric for evaluating any classifier."
      ],
      "metadata": {
        "id": "PQQ7jTPhuF2c"
      }
    },
    {
      "cell_type": "code",
      "source": [
        "accuracy=float((tp+tn) /(TestResults.count()))\n",
        "print('Accuracy = ',accuracy)"
      ],
      "metadata": {
        "id": "yrdfrdg6uDxu",
        "colab": {
          "base_uri": "https://localhost:8080/"
        },
        "outputId": "1fa78517-13b4-4e25-b847-e5365fee9b02"
      },
      "execution_count": 44,
      "outputs": [
        {
          "output_type": "stream",
          "name": "stdout",
          "text": [
            "Accuracy =  0.9393640134307722\n"
          ]
        }
      ]
    },
    {
      "cell_type": "markdown",
      "source": [
        "### Recall:\n",
        "\n",
        "Recall rate shows how much of the positive class cases we are able to predict correctly out of the total positive class observations."
      ],
      "metadata": {
        "id": "44E1sVq9un4J"
      }
    },
    {
      "cell_type": "code",
      "source": [
        "recall = float(tp)/(tp + fn)\n",
        "print('Recall = ',recall)"
      ],
      "metadata": {
        "id": "AcwUhz9quyi1",
        "colab": {
          "base_uri": "https://localhost:8080/"
        },
        "outputId": "fd9b255b-57da-4d15-daa8-9cea538cc7d5"
      },
      "execution_count": 45,
      "outputs": [
        {
          "output_type": "stream",
          "name": "stdout",
          "text": [
            "Recall =  0.9391891891891891\n"
          ]
        }
      ]
    },
    {
      "cell_type": "markdown",
      "source": [
        "### Precision:\n",
        "\n",
        "Precision rate talks about the number of true positives predicted correctly out of all the predicted positives observations."
      ],
      "metadata": {
        "id": "lVAJJ_Tbu_OL"
      }
    },
    {
      "cell_type": "code",
      "source": [
        "precision = float(tp) / (tp + fp)\n",
        "print('Precision = ',precision)"
      ],
      "metadata": {
        "id": "GuGVa4mRvJEv",
        "colab": {
          "base_uri": "https://localhost:8080/"
        },
        "outputId": "fbdd7536-0138-4146-aa81-2a15e77914bf"
      },
      "execution_count": 46,
      "outputs": [
        {
          "output_type": "stream",
          "name": "stdout",
          "text": [
            "Precision =  0.9388160508541915\n"
          ]
        }
      ]
    },
    {
      "cell_type": "markdown",
      "source": [
        "#Pipeline"
      ],
      "metadata": {
        "id": "VS1RlYijpoJB"
      }
    },
    {
      "cell_type": "code",
      "source": [
        "from pyspark.ml import Pipeline"
      ],
      "metadata": {
        "id": "iDF0rK2FtJof"
      },
      "execution_count": 47,
      "outputs": []
    },
    {
      "cell_type": "code",
      "source": [
        "dfCusCon.show(5,False)"
      ],
      "metadata": {
        "colab": {
          "base_uri": "https://localhost:8080/"
        },
        "id": "L--LkCOgqfOd",
        "outputId": "01534989-f8c7-43c5-b127-62ef35631733"
      },
      "execution_count": 48,
      "outputs": [
        {
          "output_type": "stream",
          "name": "stdout",
          "text": [
            "+---------+---+--------------+--------+----------------+------+\n",
            "|Country  |Age|Repeat_Visitor|Platform|Web_pages_viewed|Status|\n",
            "+---------+---+--------------+--------+----------------+------+\n",
            "|India    |41 |1             |Yahoo   |21              |1     |\n",
            "|Brazil   |28 |1             |Yahoo   |5               |0     |\n",
            "|Brazil   |40 |0             |Google  |3               |0     |\n",
            "|Indonesia|31 |1             |Bing    |15              |1     |\n",
            "|Malaysia |32 |0             |Google  |15              |1     |\n",
            "+---------+---+--------------+--------+----------------+------+\n",
            "only showing top 5 rows\n",
            "\n"
          ]
        }
      ]
    },
    {
      "cell_type": "code",
      "source": [
        "dfTrainP, dfTestP = dfCusCon.randomSplit([0.75,0.25])\n",
        "print( dfTrainP.count(), dfTestP.count())"
      ],
      "metadata": {
        "colab": {
          "base_uri": "https://localhost:8080/"
        },
        "id": "RTtRgsobr9NL",
        "outputId": "992b6e13-489a-4a8a-8888-3f68429d950d"
      },
      "execution_count": 49,
      "outputs": [
        {
          "output_type": "stream",
          "name": "stdout",
          "text": [
            "15058 4942\n"
          ]
        }
      ]
    },
    {
      "cell_type": "code",
      "source": [
        "Platform_indexer = StringIndexer(inputCol=\"Platform\", outputCol=\"Platform_Num\")\n",
        "Platform_encoder = OneHotEncoder(inputCol=\"Platform_Num\", outputCol=\"Platforms_Vector\")\n",
        "Platform_encoder.setDropLast(False)\n",
        "Country_indexer = StringIndexer(inputCol=\"Country\", outputCol=\"Country_Num\")\n",
        "Country_encoder = OneHotEncoder(inputCol=\"Country_Num\", outputCol=\"Country_Vector\")\n",
        "Country_encoder.setDropLast(False)\n",
        "Feature_assembler = VectorAssembler(inputCols=['Platforms_Vector','Country_Vector','Age', 'Repeat_Visitor','Web_pages_viewed'], outputCol=\"features\")\n",
        "LogReg =LogisticRegression(labelCol='Status',featuresCol='features')"
      ],
      "metadata": {
        "id": "n0IymtVKquxx"
      },
      "execution_count": 50,
      "outputs": []
    },
    {
      "cell_type": "code",
      "source": [
        "mlPipeLine = Pipeline(stages=[Platform_indexer,Platform_encoder, Country_indexer, Country_encoder, Feature_assembler,LogReg])\n",
        "# training model pipeline with data\n",
        "                                                                 # mlPipeLine = Estimator\n",
        "                                                                 # mlPipeLine.fit(dfTrainP), the fitted pipeline is the Transformer\n",
        "mlModel = mlPipeLine.fit(dfTrainP)\n",
        "TestResults = mlModel.transform(dfTestP)"
      ],
      "metadata": {
        "id": "JClbKsgxsUc_"
      },
      "execution_count": 51,
      "outputs": []
    },
    {
      "cell_type": "code",
      "source": [
        "TestResults.printSchema()"
      ],
      "metadata": {
        "colab": {
          "base_uri": "https://localhost:8080/"
        },
        "id": "kc-UPa10tWue",
        "outputId": "d2e1401a-d3d6-4956-e112-d2b1143cc2da"
      },
      "execution_count": 52,
      "outputs": [
        {
          "output_type": "stream",
          "name": "stdout",
          "text": [
            "root\n",
            " |-- Country: string (nullable = true)\n",
            " |-- Age: integer (nullable = true)\n",
            " |-- Repeat_Visitor: integer (nullable = true)\n",
            " |-- Platform: string (nullable = true)\n",
            " |-- Web_pages_viewed: integer (nullable = true)\n",
            " |-- Status: integer (nullable = true)\n",
            " |-- Platform_Num: double (nullable = false)\n",
            " |-- Platforms_Vector: vector (nullable = true)\n",
            " |-- Country_Num: double (nullable = false)\n",
            " |-- Country_Vector: vector (nullable = true)\n",
            " |-- features: vector (nullable = true)\n",
            " |-- rawPrediction: vector (nullable = true)\n",
            " |-- probability: vector (nullable = true)\n",
            " |-- prediction: double (nullable = false)\n",
            "\n"
          ]
        }
      ]
    },
    {
      "cell_type": "code",
      "source": [
        "TestResults.select(['Status','prediction']).show(10,False)"
      ],
      "metadata": {
        "colab": {
          "base_uri": "https://localhost:8080/"
        },
        "id": "CIhtvU0vt9os",
        "outputId": "146066ff-039d-4a0f-9b0b-6509b0d43a91"
      },
      "execution_count": 53,
      "outputs": [
        {
          "output_type": "stream",
          "name": "stdout",
          "text": [
            "+------+----------+\n",
            "|Status|prediction|\n",
            "+------+----------+\n",
            "|0     |0.0       |\n",
            "|0     |0.0       |\n",
            "|0     |0.0       |\n",
            "|0     |0.0       |\n",
            "|0     |0.0       |\n",
            "|0     |0.0       |\n",
            "|0     |0.0       |\n",
            "|0     |0.0       |\n",
            "|0     |0.0       |\n",
            "|0     |0.0       |\n",
            "+------+----------+\n",
            "only showing top 10 rows\n",
            "\n"
          ]
        }
      ]
    },
    {
      "cell_type": "markdown",
      "source": [
        "## Confusion Matrix"
      ],
      "metadata": {
        "id": "0pGyk8mPuJEK"
      }
    },
    {
      "cell_type": "code",
      "source": [
        "tp = TestResults[(TestResults.Status == 1) & (TestResults.prediction == 1)].count()\n",
        "tn = TestResults[(TestResults.Status == 0) & (TestResults.prediction == 0)].count()\n",
        "fp = TestResults[(TestResults.Status == 0) & (TestResults.prediction == 1)].count()\n",
        "fn = TestResults[(TestResults.Status == 1) & (TestResults.prediction == 0)].count()"
      ],
      "metadata": {
        "id": "Txw6_YY4uNVQ"
      },
      "execution_count": 54,
      "outputs": []
    },
    {
      "cell_type": "markdown",
      "source": [
        "## Accuracy"
      ],
      "metadata": {
        "id": "Td4cEU1ruYwW"
      }
    },
    {
      "cell_type": "code",
      "source": [
        "accuracy_P=float((tp+tn) /(TestResults.count()))\n",
        "print('Accuracy with Pipeline = ',accuracy_P)"
      ],
      "metadata": {
        "colab": {
          "base_uri": "https://localhost:8080/"
        },
        "id": "322wRZLgubKx",
        "outputId": "7c1b9571-679e-475e-d447-2529cc07c39d"
      },
      "execution_count": 55,
      "outputs": [
        {
          "output_type": "stream",
          "name": "stdout",
          "text": [
            "Accuracy with Pipeline =  0.9443545123431809\n"
          ]
        }
      ]
    },
    {
      "cell_type": "markdown",
      "source": [
        "## Recall"
      ],
      "metadata": {
        "id": "jIn90q89urRr"
      }
    },
    {
      "cell_type": "code",
      "source": [
        "recall_P = float(tp)/(tp + fn)\n",
        "print('Recall with Pipeline = ',recall_P)"
      ],
      "metadata": {
        "colab": {
          "base_uri": "https://localhost:8080/"
        },
        "id": "hkesaacduv41",
        "outputId": "2098ed9e-9be6-42e7-f660-4b80007f8beb"
      },
      "execution_count": 56,
      "outputs": [
        {
          "output_type": "stream",
          "name": "stdout",
          "text": [
            "Recall with Pipeline =  0.943577430972389\n"
          ]
        }
      ]
    },
    {
      "cell_type": "markdown",
      "source": [
        "##Precision"
      ],
      "metadata": {
        "id": "hRjFwRebwq5A"
      }
    },
    {
      "cell_type": "code",
      "source": [
        "precisionP = float(tp) / (tp + fp)\n",
        "print('Precision with Pipeline = ',precisionP)"
      ],
      "metadata": {
        "colab": {
          "base_uri": "https://localhost:8080/"
        },
        "id": "aXv0piVQwtH5",
        "outputId": "ab22ba10-6ba1-45b2-f3a8-782ad414f4c5"
      },
      "execution_count": 57,
      "outputs": [
        {
          "output_type": "stream",
          "name": "stdout",
          "text": [
            "Precision with Pipeline =  0.9462279293739968\n"
          ]
        }
      ]
    },
    {
      "cell_type": "markdown",
      "source": [
        "#Comparison"
      ],
      "metadata": {
        "id": "YxgYBq3YxIp1"
      }
    },
    {
      "cell_type": "code",
      "source": [
        "print('Accuracy  :', round(accuracy_P,2), ' (with Pipeline) ', round(accuracy,2),' (without)')\n",
        "print('Recall    :', round(recall_P,2), ' (with Pipeline) ', round(recall,2),' (without)')\n",
        "print('Precision :', round(precisionP,2), ' (with Pipeline) ', round(precision,2),' (without)')"
      ],
      "metadata": {
        "colab": {
          "base_uri": "https://localhost:8080/"
        },
        "id": "UsNWohoVxOWf",
        "outputId": "f2cb3766-c7a6-4eeb-cca7-e8315b50892c"
      },
      "execution_count": 58,
      "outputs": [
        {
          "output_type": "stream",
          "name": "stdout",
          "text": [
            "Accuracy  : 0.94  (with Pipeline)  0.94  (without)\n",
            "Recall    : 0.94  (with Pipeline)  0.94  (without)\n",
            "Precision : 0.95  (with Pipeline)  0.94  (without)\n"
          ]
        }
      ]
    },
    {
      "cell_type": "code",
      "source": [
        "!date\n",
        "from datetime import datetime\n",
        "import pytz\n",
        "print('Tested',datetime.now(pytz.timezone('Asia/Calcutta')))"
      ],
      "metadata": {
        "id": "H8_Rg39PckwV",
        "outputId": "c2fe200c-a02a-4582-fc06-a015e83737f9",
        "colab": {
          "base_uri": "https://localhost:8080/"
        }
      },
      "execution_count": 59,
      "outputs": [
        {
          "output_type": "stream",
          "name": "stdout",
          "text": [
            "Wed Jul 10 02:22:37 AM UTC 2024\n",
            "Tested 2024-07-10 07:52:37.356317+05:30\n"
          ]
        }
      ]
    },
    {
      "cell_type": "markdown",
      "source": [
        "#Chronobooks <br>\n",
        "Two science fiction novels by Prithwis Mukerjee. A dystopian Earth. A technocratic society managed by artificial intelligence. Escape and epiphany on Mars. Can man and machine, carbon and silicon explore and escape into other dimensions of existence? An Indic perspective rooted in Advaita Vedanta and the Divine Feminine.  [More information](http://bit.ly/chronobooks) <br>\n",
        "![alt text](https://blogger.googleusercontent.com/img/b/R29vZ2xl/AVvXsEg8qElM73l6qtmIS1VTUgsLLhyoGnbWGDq8g-v-g2iW1xr-IRr7FT9WW4tnKDY2sE1rJKPl7sp_p_f6ipEs-__eYU7V0SRuoLlhkopL063bEPqUTiC4lrM4toFMgaf7kpxE2m5niHwn7jZwb9ktv8OdO7OIwPL9xyyF-SiSuQE2SRemLVQRCalwDnQgdg/s16000/CTCYFooter-1.png)"
      ],
      "metadata": {
        "id": "SugAHY12cady"
      }
    }
  ]
}