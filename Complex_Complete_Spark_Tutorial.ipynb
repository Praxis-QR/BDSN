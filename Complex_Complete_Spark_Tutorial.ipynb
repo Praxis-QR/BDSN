{
  "nbformat": 4,
  "nbformat_minor": 0,
  "metadata": {
    "colab": {
      "provenance": [],
      "toc_visible": true,
      "include_colab_link": true
    },
    "kernelspec": {
      "display_name": "Python 3",
      "language": "python",
      "name": "python3"
    },
    "language_info": {
      "codemirror_mode": {
        "name": "ipython",
        "version": 3
      },
      "file_extension": ".py",
      "mimetype": "text/x-python",
      "name": "python",
      "nbconvert_exporter": "python",
      "pygments_lexer": "ipython3",
      "version": "3.6.5"
    }
  },
  "cells": [
    {
      "cell_type": "markdown",
      "metadata": {
        "id": "view-in-github",
        "colab_type": "text"
      },
      "source": [
        "<a href=\"https://colab.research.google.com/github/Praxis-QR/BDSN/blob/main/Complex_Complete_Spark_Tutorial.ipynb\" target=\"_parent\"><img src=\"https://colab.research.google.com/assets/colab-badge.svg\" alt=\"Open In Colab\"/></a>"
      ]
    },
    {
      "cell_type": "markdown",
      "source": [
        "![alt text](https://github.com/Praxis-QR/RDWH/raw/main/images/YantraJaalBanner.png)<br>\n",
        "\n",
        "\n",
        "<hr>\n",
        "\n",
        "[Prithwis Mukerjee](http://www.linkedin.com/in/prithwis)<br>"
      ],
      "metadata": {
        "id": "gBDRgtFvDZqI"
      }
    },
    {
      "cell_type": "markdown",
      "metadata": {
        "id": "iox_ufgbqDXa"
      },
      "source": [
        "<h1><center>Introduction to Google Colab and PySpark</center></h1>\n"
      ]
    },
    {
      "cell_type": "markdown",
      "source": [
        "adapted from this [original notebook](https://colab.research.google.com/drive/1G894WS7ltIUTusWWmsCnF_zQhQqZCDOc)"
      ],
      "metadata": {
        "id": "ZBkJ5V9cD07U"
      }
    },
    {
      "cell_type": "markdown",
      "metadata": {
        "id": "1qV6Grv7qIa9"
      },
      "source": [
        "## Table Of Contents:\n",
        "<ol>\n",
        "<li><a href=\"#objective\">Objective</a></li>\n",
        "<li><a href=\"#prerequisite\">Prerequisite</a></li>\n",
        "<li><a href=\"#notes-from-the-author\">Notes from the Author</a></li>\n",
        "<li><a href=\"#big-data-pyspark-and-colaboratory\">Big data, PySpark and Colaboratory</a>\n",
        "    <ol>\n",
        "        <li><a href=\"#big-data\">Big data</a></li>\n",
        "        <li><a href=\"#pyspark\">PySpark</a></li>\n",
        "        <li><a href=\"#colaboratory\">Colaboratory</a></li>\n",
        "    </ol>\n",
        "</li>\n",
        "<li><a href=\"#jupyter-notebook-basics\">Jupyter Notebook Basics</a>\n",
        "    <ol>\n",
        "        <li><a href=\"#code-cells\">Code cells</a></li>\n",
        "        <li><a href=\"#text-cells\">Text cells</a></li>\n",
        "        <li><a href=\"#access-to-the-shell\">Access to the shell</a></li>\n",
        "        <li><a href=\"#installing-spark\">Installing Spark</a></li>\n",
        "    </ol>\n",
        "</li>\n",
        "<li><a href=\"#exploring-the-dataset\">Exploring the Dataset</a>\n",
        "    <ol>\n",
        "        <li><a href=\"#loading-the-dataset\">Loading the Dataset</a></li>\n",
        "        <li><a href=\"#viewing-the-dataframe\">Viewing the Dataframe</a></li>\n",
        "        <li><a href=\"#viewing-dataframe-columns\">Viewing Dataframe Columns</a></li>\n",
        "        <li><a href=\"#dataframe-schema\">Dataframe Schema</a>\n",
        "          <ul>\n",
        "            <li><a href=\"#implicit-schema-inference\">Inferring Schema Implicitly</a></li>\n",
        "            <li><a href=\"#explicit-schema-inference\">Defining Schema Explicitly</a></li>\n",
        "          </ul>\n",
        "        </li>\n",
        "    </ol>\n",
        "</li>\n",
        "<li><a href=\"#dataframe-operations-on-columns\">DataFrame Operations on Columns</a>\n",
        "    <ol>\n",
        "        <li><a href=\"#selecting-columns\">Selecting Columns</a></li>\n",
        "        <li><a href=\"#selecting-multiple-columns\">Selecting Multiple Columns</a></li>\n",
        "        <li><a href=\"#adding-new-columns\">Adding New Columns</a></li>\n",
        "        <li><a href=\"#renaming-columns\">Renaming Columns</a>\n",
        "        <li><a href=\"#grouping-by-columns\">Grouping By Columns</a>\n",
        "        <li><a href=\"#removing-columns\">Removing Columns</a>\n",
        "    </ol>\n",
        "</li>\n",
        "<li><a href=\"#dataframe-operations-on-rows\">DataFrame Operations on Rows</a>\n",
        "    <ol>\n",
        "        <li><a href=\"#filtering-rows\">Filtering Rows</a></li>\n",
        "        <li><a href=\"#get-distinct-rows\">Get Distinct Rows</a></li>\n",
        "        <li><a href=\"#sorting-rows\">Sorting Rows</a></li>\n",
        "        <li><a href=\"#union-dataframes\">Union Dataframes</a>\n",
        "    </ol>\n",
        "</li>\n",
        "<li><a href=\"#common-data-manipulation-functions\">Common Data Manipulation Functions</a>\n",
        "    <ol>\n",
        "        <li><a href=\"#string-functions\">String Functions</a></li>\n",
        "        <li><a href=\"#numeric-functions\">Numeric Functions</a></li>\n",
        "        <li><a href=\"#operations-on-date\">Operations on Date</a></li>\n",
        "    </ol>\n",
        "</li>\n",
        "<li><a href=\"#joins-in-pyspark\">Joins in PySpark</a></li>\n",
        "<li><a href=\"#spark-sql\">Spark SQL</a></li>\n",
        "<li><a href=\"#rdd\">RDD</a></li>\n",
        "<li><a href=\"#user-defined-functions-udf\">User-Defined Functions (UDF)</a></li>\n",
        "<li><a href=\"#common-questions\">Common Questions</a>\n",
        "    <ol>\n",
        "        <li><a href=\"#recommended-ide\">Recommended IDE</a></li>\n",
        "        <li><a href=\"#submitting-a-spark-job\">Submitting a Spark Job</a></li>\n",
        "        <li><a href=\"#creating-dataframes\">Creating Dataframes</a></li>\n",
        "        <li><a href=\"#drop-duplicates\">Drop Duplicates</a></li>\n",
        "        <li><a href=\"#fine-tuning-a-pyspark-job\">Fine Tuning a PySpark Job</a>\n",
        "          <ul>\n",
        "            <li><a href=\"#emr-sizing\">EMR Sizing</a></li>\n",
        "            <li><a href=\"#spark-configurations\">Spark Configurations</a></li>\n",
        "            <li><a href=\"#job-tuning\">Job Tuning</a>\n",
        "            <li><a href=\"#best-practices\">Best Practices</a>\n",
        "          </ul>\n",
        "        </li>\n",
        "    </ol>\n",
        "</li>\n",
        "</ol>"
      ]
    },
    {
      "cell_type": "markdown",
      "metadata": {
        "id": "FFnYZltvqLgt"
      },
      "source": [
        "<a id='objective'></a>\n",
        "## Objective\n",
        "The objective of this notebook is to:\n",
        "><li>Give a proper understanding about the different PySpark functions available. </li>\n",
        "><li>A short introduction to Google Colab, as that is the platform on which this notebook is written on. </li>\n",
        "\n",
        "Once you complete this notebook, you should be able to write pyspark programs in an efficent way. The ideal way to use this is by going through the examples given and then trying them on Colab. At the end there are a few hands on questions which you can use to evaluate yourself."
      ]
    },
    {
      "cell_type": "markdown",
      "metadata": {
        "id": "YR1CO3FTqO5h"
      },
      "source": [
        "<a id='prerequisite'></a>\n",
        "## Prerequisite\n",
        "><li>Although some theory about pyspark and big data will be given in this notebook, I recommend everyone to read more about it and have a deeper understanding on how the functions get executed and the relevance of big data in the current scenario.\n",
        "><li>A good understanding on python will be an added bonus."
      ]
    },
    {
      "cell_type": "markdown",
      "metadata": {
        "id": "bGbIBPLHqVXc"
      },
      "source": [
        "<a id='notes-from-the-author'></a>\n",
        "## Notes from the Author\n",
        "\n",
        "This tutorial was made using Google Colab so the code you see here is meant to run on a colab notebook. <br>\n",
        "It goes through basic [PySpark Functions](https://spark.apache.org/docs/latest/api/python/index.html) and a short introduction on how to use [Colab](https://colab.research.google.com/notebooks/basic_features_overview.ipynb). <br>\n",
        "If you want to view my colab notebook for this particular tutorial, you can view it [here](https://colab.research.google.com/drive/1G894WS7ltIUTusWWmsCnF_zQhQqZCDOc). The viewing experience and readability is much better there. <br>\n",
        "If you want to try out things with this notebook as a base, feel free to download it from my repo [here](https://github.com/jacobceles/knowledge-repo/blob/master/pyspark/Colab%20and%20PySpark.ipynb) and then use it with jupyter notebook."
      ]
    },
    {
      "cell_type": "markdown",
      "metadata": {
        "id": "K_q3Yzc9qYc0"
      },
      "source": [
        "<a id='big-data-pyspark-and-colaboratory'></a>\n",
        "## Big data, PySpark and Colaboratory"
      ]
    },
    {
      "cell_type": "markdown",
      "metadata": {
        "id": "5gs9JXCWqb9s"
      },
      "source": [
        "<a id='big-data'></a>\n",
        "### Big data"
      ]
    },
    {
      "cell_type": "markdown",
      "metadata": {
        "id": "q3UkLT6yqebl"
      },
      "source": [
        "Big data usually means data of such huge volume that normal data storage solutions cannot efficently store and process it. In this era, data is being generated at an absurd rate. Data is collected for each movement a person makes. The bulk of big data comes from three primary sources: \n",
        "<ol>\n",
        "   <li>Social data</li> \n",
        "   <li>Machine data</li> \n",
        "   <li>Transactional data</li>\n",
        "</ol>\n",
        "\n",
        "Some common examples for the sources of such data include internet searches, facebook posts, doorbell cams, smartwatches, online shopping history etc. Every action creates data, it is just a matter of of there is a way to collect them or not.  But what's interesting is that out of all this data collected, not even 5% of it is being used fully. There is a huge demand for big data professionals in the industry. Even though the number of graduates with a specialization in big data are rising, the problem is that they don't have the practical knowledge about big data scenarios, which leads to bad architecutres and inefficent methods of processing data.\n",
        "\n",
        ">If you are interested to know more about the landscape and technologies involved, here is [an article](https://hostingtribunal.com/blog/big-data-stats/) which I found really interesting!"
      ]
    },
    {
      "cell_type": "markdown",
      "metadata": {
        "id": "NhM3wLG2qhlN"
      },
      "source": [
        "<a id='pyspark'></a>\n",
        "### PySpark"
      ]
    },
    {
      "cell_type": "markdown",
      "metadata": {
        "id": "VBfC_kvjqjPj"
      },
      "source": [
        "If you are working in the field of big data, you must have definelty heard of spark. If you look at the [Apache Spark](https://spark.apache.org/) website, you will see that it is said to be a `Lightning-fast unified analytics engine`. PySpark is a flavour of Spark used for processing and analysing massive volumes of data. If you are familiar with python and have tried it for huge datasets, you should know that the execution time can get ridiculous. Enter PySpark!\n",
        "\n",
        "Imagine your data resides in a distributed manner at different places. If you try brining your data to one point and executing your code there, not only would that be inefficent, but also cause memory issues. Now let's say your code goes to the data rather than the data coming to where your code. This will help avoid unneccesary data movement which will thereby decrease the running time. \n",
        "\n",
        "PySpark is the Python API of Spark; which means it can do almost all the things python can. Machine learning(ML) pipelines, exploratory data analysis (at scale), ETLs for data platform, and much more! And all of them in a distributed manner. One of the best parts of pyspark is that if you are already familiar with python, it's really easy to learn.\n",
        "\n",
        "Apart from PySpark, there is another language called Scala used for big data processing. Scala is frequently over 10 times faster than *Python*, as it is native for Hadoop as its based on JVM. But PySpark is getting adopted at a fast rate because of the ease of use, easier learning curve and ML capabilities.\n",
        "\n",
        "I will briefly explain how a PySpark job works, but I strongly recommend you read more about the [architecture](https://data-flair.training/blogs/how-apache-spark-works/) and how everything works. Now, before I get into it, let me talk about some <u>basic jargons</u> first:\n",
        "\n",
        "<b>Cluster</b> is a set of loosely or tightly connected computers that work together so that they can be viewed as a single system.\n",
        "\n",
        "<b>Hadoop</b> is an open source, scalable, and fault tolerant framework written in Java. It efficiently processes large volumes of data on a cluster of commodity hardware. Hadoop is not only a storage system but is a platform for large data storage as well as processing.\n",
        "\n",
        "<b>HDFS</b> (Hadoop distributed file system). It is one of the world's most reliable storage system. HDFS is a Filesystem of Hadoop designed for storing very large files running on a cluster of commodity hardware.\n",
        "\n",
        "<b>MapReduce</b> is a data Processing framework, which has 2 phases - Mapper and Reducer. The map procedure performs filtering and sorting, and the reduce method performs a summary operation. It usually runs on a hadoop cluster.\n",
        "\n",
        "<b>Transformation</b> refers to the operations applied on a dataset to create a new dataset. Filter, groupBy and map are the examples of transformations.\n",
        "\n",
        "<b>Actions</b> Actions refer to an operation which instructs Spark to perform computation and send the result back to driver. This is an example of action.\n",
        "\n",
        "Alright! Now that that's out of the way, let me explain how a spark job runs. In simple terma, each time you submit a pyspark job, the code gets internally converted into a MapReduce program and gets executed in the Java virtual machine. Now one of the thoughts that might be popping in your mind will probably be: <br>`So the code gets converted into a MapReduce program. Wouldn't that mean MapReduce is faster than pySpark?`<br> Well, the answer is a big NO. This is what makes spark jobs special. Spark is capable of handling a massive amount of data at a time, in it's distributed environment. It does this through <u>in-memory processing</u>, which is what makes it almost 100 times faster than Hadoop. Another factor which amkes it fast is <u>Lazy Evaluation</u>. Spark delays its evaluation as much as it can. Each time you  submit a job, spark creates an action plan for how to execute the code, and then does nothing. Finally, when you ask for the result(i.e, calls an action), it executes the plan, which is basically all the transofrmations you have mentioned in your code. That's basically the gist of it. \n",
        "\n",
        "Now lastly, I want to talk about on more thing. Spark mainly consists of 4 modules:\n",
        "\n",
        "<ol>\n",
        "    <li>Spark SQL - helps to write  spark programs using SQL like queries.</li>\n",
        "    <li>Spark Streaming - is an extension of the core Spark API that enables scalable, high-throughput, fault-tolerant stream processing of live data streams. used heavily in processing of social media data.</li>\n",
        "    <li>Spark MLLib - is the machine learning component of SPark. It helps train ML models on massive datasets with very high efficeny. </li>\n",
        "    <li>Spark GraphX - is the visualization component of Spark. It enables users to view data both as graphs and as collections without data movement or duplication.</li>\n",
        "</ol>\n",
        "\n",
        "Hopefully this image gives a better idea of what I am talking about:\n",
        "<img alt=\"Spark Modules\" src=\"https://2s7gjr373w3x22jf92z99mgm5w-wpengine.netdna-ssl.com/wp-content/uploads/2015/11/spark-streaming-datanami.png\" />\n",
        "<center><font color='#666956'>Source: Datanami</font><center>\n"
      ]
    },
    {
      "cell_type": "markdown",
      "metadata": {
        "id": "1NJMWs4NqnlF"
      },
      "source": [
        "<a id='colaboratory'></a>\n",
        "### Colaboratory"
      ]
    },
    {
      "cell_type": "markdown",
      "metadata": {
        "id": "ynKFk6b7qoWr"
      },
      "source": [
        "In the words of Google: <br>\n",
        "`Colaboratory, or “Colab” for short, is a product from Google Research. Colab allows anybody to write and execute arbitrary python code through the browser, and is especially well suited to machine learning, data analysis and education. More technically, Colab is a hosted Jupyter notebook service that requires no setup to use, while providing free access to computing resources including GPUs.`\n",
        "\n",
        "The reason why I used colab is because of its shareability and free GPU and TPU. Yeah you read that right, FREE GPU AND TPU! For using TPU, your program needs to be optimized for the same. Additionally, it helps use different Google services conveniently. It saves to Google Drive and all the services are very closely related. I recommend you go through the offical [overview documentation](https://colab.research.google.com/notebooks/basic_features_overview.ipynb) if you want to know more about it.\n",
        "If you have more questions about colab, please [refer this link](https://research.google.com/colaboratory/faq.html).\n",
        "\n",
        ">While using a colab notebook, you will need an active internet connection to keep a session alive. If you lose the connection you will have to download the datasets again."
      ]
    },
    {
      "cell_type": "markdown",
      "metadata": {
        "id": "_N5-lspH_N8B"
      },
      "source": [
        "<a id='jupyter-notebook-basics'></a>\n",
        "## Jupyter notebook basics"
      ]
    },
    {
      "cell_type": "markdown",
      "metadata": {
        "id": "Dd6t0uFzuR4X"
      },
      "source": [
        "<a id='installing-spark'></a>\n",
        "### Installing Spark"
      ]
    },
    {
      "cell_type": "code",
      "metadata": {
        "id": "tt7ZS1_wGgjn",
        "outputId": "84745e8d-9fbc-4c18-f837-03a79f8ea80c",
        "colab": {
          "base_uri": "https://localhost:8080/"
        }
      },
      "source": [
        "#!apt-get install openjdk-8-jdk-headless -qq > /dev/null\n",
        "#!wget -q http://archive.apache.org/dist/spark/spark-3.1.1/spark-3.1.1-bin-hadoop3.2.tgz\n",
        "#!tar xf spark-3.1.1-bin-hadoop3.2.tgz\n",
        "#!pip install -q findspark\n",
        "\n",
        "# -------------------------------------\n",
        "!pip3 -q install pyspark"
      ],
      "execution_count": 1,
      "outputs": [
        {
          "output_type": "stream",
          "name": "stdout",
          "text": [
            "\u001b[2K     \u001b[90m━━━━━━━━━━━━━━━━━━━━━━━━━━━━━━━━━━━━━━━\u001b[0m \u001b[32m310.8/310.8 MB\u001b[0m \u001b[31m1.9 MB/s\u001b[0m eta \u001b[36m0:00:00\u001b[0m\n",
            "\u001b[?25h  Preparing metadata (setup.py) ... \u001b[?25l\u001b[?25hdone\n",
            "  Building wheel for pyspark (setup.py) ... \u001b[?25l\u001b[?25hdone\n"
          ]
        }
      ]
    },
    {
      "cell_type": "markdown",
      "metadata": {
        "id": "C3x0ZRLxjMVr"
      },
      "source": [
        "Set Environment Variables:"
      ]
    },
    {
      "cell_type": "code",
      "metadata": {
        "id": "sdOOq4twHN1K"
      },
      "source": [
        "#import os\n",
        "#os.environ[\"JAVA_HOME\"] = \"/usr/lib/jvm/java-8-openjdk-amd64\"\n",
        "#os.environ[\"SPARK_HOME\"] = \"/content/spark-3.1.1-bin-hadoop3.2\""
      ],
      "execution_count": null,
      "outputs": []
    },
    {
      "cell_type": "code",
      "metadata": {
        "id": "KR1zLBk1998Z",
        "colab": {
          "base_uri": "https://localhost:8080/",
          "height": 219
        },
        "outputId": "7ac38d12-f41f-4142-d7b5-b7f6c492f3a5"
      },
      "source": [
        "#import findspark\n",
        "#findspark.init()\n",
        "from pyspark.sql import SparkSession\n",
        "spark = SparkSession.builder.master(\"local[*]\").getOrCreate()\n",
        "spark.conf.set(\"spark.sql.repl.eagerEval.enabled\", True) # Property used to format output tables better\n",
        "spark"
      ],
      "execution_count": 2,
      "outputs": [
        {
          "output_type": "execute_result",
          "data": {
            "text/plain": [
              "<pyspark.sql.session.SparkSession at 0x7f3af66cb250>"
            ],
            "text/html": [
              "\n",
              "            <div>\n",
              "                <p><b>SparkSession - in-memory</b></p>\n",
              "                \n",
              "        <div>\n",
              "            <p><b>SparkContext</b></p>\n",
              "\n",
              "            <p><a href=\"http://e8514d8215bb:4040\">Spark UI</a></p>\n",
              "\n",
              "            <dl>\n",
              "              <dt>Version</dt>\n",
              "                <dd><code>v3.4.0</code></dd>\n",
              "              <dt>Master</dt>\n",
              "                <dd><code>local[*]</code></dd>\n",
              "              <dt>AppName</dt>\n",
              "                <dd><code>pyspark-shell</code></dd>\n",
              "            </dl>\n",
              "        </div>\n",
              "        \n",
              "            </div>\n",
              "        "
            ]
          },
          "metadata": {},
          "execution_count": 2
        }
      ]
    },
    {
      "cell_type": "markdown",
      "metadata": {
        "id": "hmIqq6xPK7m7"
      },
      "source": [
        "<a id='exploring-the-dataset'></a>\n",
        "## Exploring the Dataset"
      ]
    },
    {
      "cell_type": "markdown",
      "metadata": {
        "id": "VZwsr57lwPgq"
      },
      "source": [
        "<a id='loading-the-dataset'></a>\n",
        "### Loading the Dataset"
      ]
    },
    {
      "cell_type": "code",
      "metadata": {
        "id": "hQ3zmGACLKlN",
        "colab": {
          "base_uri": "https://localhost:8080/"
        },
        "outputId": "a5814cc6-bd7b-4274-eb5b-3919c00ec587"
      },
      "source": [
        "# Downloading and preprocessing Cars Data downloaded origianlly from https://perso.telecom-paristech.fr/eagan/class/igr204/datasets\n",
        "#!wget https://jacobceles.github.io/knowledge_repo/colab_and_pyspark/cars.csv\n",
        "!wget -q https://raw.githubusercontent.com/Praxis-QR/BDSN/main/data/cars.csv\n",
        "!ls"
      ],
      "execution_count": 3,
      "outputs": [
        {
          "output_type": "stream",
          "name": "stdout",
          "text": [
            "cars.csv  sample_data\n"
          ]
        }
      ]
    },
    {
      "cell_type": "code",
      "metadata": {
        "id": "hz6ALr5mMqZt",
        "colab": {
          "base_uri": "https://localhost:8080/"
        },
        "outputId": "8a4c8fa7-b904-49c7-f098-00cd2307da31"
      },
      "source": [
        "# Load data from csv to a dataframe. \n",
        "# header=True means the first row is a header \n",
        "# sep=';' means the column are seperated using ''\n",
        "df = spark.read.csv('cars.csv', header=True, sep=\";\")\n",
        "df.show(5)"
      ],
      "execution_count": 4,
      "outputs": [
        {
          "output_type": "stream",
          "name": "stdout",
          "text": [
            "+--------------------+----+---------+------------+----------+------+------------+-----+------+\n",
            "|                 Car| MPG|Cylinders|Displacement|Horsepower|Weight|Acceleration|Model|Origin|\n",
            "+--------------------+----+---------+------------+----------+------+------------+-----+------+\n",
            "|Chevrolet Chevell...|18.0|        8|       307.0|     130.0| 3504.|        12.0|   70|    US|\n",
            "|   Buick Skylark 320|15.0|        8|       350.0|     165.0| 3693.|        11.5|   70|    US|\n",
            "|  Plymouth Satellite|18.0|        8|       318.0|     150.0| 3436.|        11.0|   70|    US|\n",
            "|       AMC Rebel SST|16.0|        8|       304.0|     150.0| 3433.|        12.0|   70|    US|\n",
            "|         Ford Torino|17.0|        8|       302.0|     140.0| 3449.|        10.5|   70|    US|\n",
            "+--------------------+----+---------+------------+----------+------+------------+-----+------+\n",
            "only showing top 5 rows\n",
            "\n"
          ]
        }
      ]
    },
    {
      "cell_type": "markdown",
      "metadata": {
        "id": "N0lCS2LNwnoy"
      },
      "source": [
        "The above command loads our data from into a dataframe (DF). A dataframe is a 2-dimensional labeled data structure with columns of potentially different types."
      ]
    },
    {
      "cell_type": "markdown",
      "metadata": {
        "id": "_QwZtWxZRCBn"
      },
      "source": [
        "<a id='viewing-the-dataframe'></a>\n",
        "### Viewing the Dataframe"
      ]
    },
    {
      "cell_type": "markdown",
      "metadata": {
        "id": "50LZ3S8_PMg_"
      },
      "source": [
        "There are a couple of ways to view your dataframe(DF) in PySpark:\n",
        "\n",
        "1.   `df.take(5)` will return a list of five Row objects. \n",
        "2.   `df.collect()` will get all of the data from the entire DataFrame. Be really careful when using it, because if you have a large data set, you can easily crash the driver node. \n",
        "3.   `df.show()` is the most commonly used method to view a dataframe. There are a few parameters we can pass to this method, like the number of rows and truncaiton. For example, `df.show(5, False)` or ` df.show(5, truncate=False)` will show the entire data wihtout any truncation.\n",
        "4.   `df.limit(5)` will **return a new DataFrame** by taking the first n rows. As spark is distributed in nature, there is no guarantee that `df.limit()` will give you the same results each time.\n",
        "\n",
        "Let us see some of them in action below:"
      ]
    },
    {
      "cell_type": "code",
      "metadata": {
        "colab": {
          "base_uri": "https://localhost:8080/"
        },
        "id": "I1qqkqcfxM0v",
        "outputId": "c50c8106-df4f-4c78-f81e-e99bfb76677a"
      },
      "source": [
        "df.show(5, truncate=False)"
      ],
      "execution_count": 5,
      "outputs": [
        {
          "output_type": "stream",
          "name": "stdout",
          "text": [
            "+-------------------------+----+---------+------------+----------+------+------------+-----+------+\n",
            "|Car                      |MPG |Cylinders|Displacement|Horsepower|Weight|Acceleration|Model|Origin|\n",
            "+-------------------------+----+---------+------------+----------+------+------------+-----+------+\n",
            "|Chevrolet Chevelle Malibu|18.0|8        |307.0       |130.0     |3504. |12.0        |70   |US    |\n",
            "|Buick Skylark 320        |15.0|8        |350.0       |165.0     |3693. |11.5        |70   |US    |\n",
            "|Plymouth Satellite       |18.0|8        |318.0       |150.0     |3436. |11.0        |70   |US    |\n",
            "|AMC Rebel SST            |16.0|8        |304.0       |150.0     |3433. |12.0        |70   |US    |\n",
            "|Ford Torino              |17.0|8        |302.0       |140.0     |3449. |10.5        |70   |US    |\n",
            "+-------------------------+----+---------+------------+----------+------+------------+-----+------+\n",
            "only showing top 5 rows\n",
            "\n"
          ]
        }
      ]
    },
    {
      "cell_type": "code",
      "metadata": {
        "colab": {
          "base_uri": "https://localhost:8080/",
          "height": 161
        },
        "id": "R9zwzswIxXF9",
        "outputId": "57e860f9-baa5-4e30-9264-0abb1b1362c8"
      },
      "source": [
        "df.limit(5)"
      ],
      "execution_count": null,
      "outputs": [
        {
          "output_type": "execute_result",
          "data": {
            "text/plain": [
              "+--------------------+----+---------+------------+----------+------+------------+-----+------+\n",
              "|                 Car| MPG|Cylinders|Displacement|Horsepower|Weight|Acceleration|Model|Origin|\n",
              "+--------------------+----+---------+------------+----------+------+------------+-----+------+\n",
              "|Chevrolet Chevell...|18.0|        8|       307.0|     130.0| 3504.|        12.0|   70|    US|\n",
              "|   Buick Skylark 320|15.0|        8|       350.0|     165.0| 3693.|        11.5|   70|    US|\n",
              "|  Plymouth Satellite|18.0|        8|       318.0|     150.0| 3436.|        11.0|   70|    US|\n",
              "|       AMC Rebel SST|16.0|        8|       304.0|     150.0| 3433.|        12.0|   70|    US|\n",
              "|         Ford Torino|17.0|        8|       302.0|     140.0| 3449.|        10.5|   70|    US|\n",
              "+--------------------+----+---------+------------+----------+------+------------+-----+------+"
            ],
            "text/html": [
              "<table border='1'>\n",
              "<tr><th>Car</th><th>MPG</th><th>Cylinders</th><th>Displacement</th><th>Horsepower</th><th>Weight</th><th>Acceleration</th><th>Model</th><th>Origin</th></tr>\n",
              "<tr><td>Chevrolet Chevell...</td><td>18.0</td><td>8</td><td>307.0</td><td>130.0</td><td>3504.</td><td>12.0</td><td>70</td><td>US</td></tr>\n",
              "<tr><td>Buick Skylark 320</td><td>15.0</td><td>8</td><td>350.0</td><td>165.0</td><td>3693.</td><td>11.5</td><td>70</td><td>US</td></tr>\n",
              "<tr><td>Plymouth Satellite</td><td>18.0</td><td>8</td><td>318.0</td><td>150.0</td><td>3436.</td><td>11.0</td><td>70</td><td>US</td></tr>\n",
              "<tr><td>AMC Rebel SST</td><td>16.0</td><td>8</td><td>304.0</td><td>150.0</td><td>3433.</td><td>12.0</td><td>70</td><td>US</td></tr>\n",
              "<tr><td>Ford Torino</td><td>17.0</td><td>8</td><td>302.0</td><td>140.0</td><td>3449.</td><td>10.5</td><td>70</td><td>US</td></tr>\n",
              "</table>\n"
            ]
          },
          "metadata": {},
          "execution_count": 8
        }
      ]
    },
    {
      "cell_type": "code",
      "source": [
        "df.collect()"
      ],
      "metadata": {
        "id": "3qkEsWNZNy6e",
        "outputId": "99fc5ba0-eb9f-4be7-9412-dd037c4496c0",
        "colab": {
          "base_uri": "https://localhost:8080/"
        }
      },
      "execution_count": 6,
      "outputs": [
        {
          "output_type": "execute_result",
          "data": {
            "text/plain": [
              "[Row(Car='Chevrolet Chevelle Malibu', MPG='18.0', Cylinders='8', Displacement='307.0', Horsepower='130.0', Weight='3504.', Acceleration='12.0', Model='70', Origin='US'),\n",
              " Row(Car='Buick Skylark 320', MPG='15.0', Cylinders='8', Displacement='350.0', Horsepower='165.0', Weight='3693.', Acceleration='11.5', Model='70', Origin='US'),\n",
              " Row(Car='Plymouth Satellite', MPG='18.0', Cylinders='8', Displacement='318.0', Horsepower='150.0', Weight='3436.', Acceleration='11.0', Model='70', Origin='US'),\n",
              " Row(Car='AMC Rebel SST', MPG='16.0', Cylinders='8', Displacement='304.0', Horsepower='150.0', Weight='3433.', Acceleration='12.0', Model='70', Origin='US'),\n",
              " Row(Car='Ford Torino', MPG='17.0', Cylinders='8', Displacement='302.0', Horsepower='140.0', Weight='3449.', Acceleration='10.5', Model='70', Origin='US'),\n",
              " Row(Car='Ford Galaxie 500', MPG='15.0', Cylinders='8', Displacement='429.0', Horsepower='198.0', Weight='4341.', Acceleration='10.0', Model='70', Origin='US'),\n",
              " Row(Car='Chevrolet Impala', MPG='14.0', Cylinders='8', Displacement='454.0', Horsepower='220.0', Weight='4354.', Acceleration='9.0', Model='70', Origin='US'),\n",
              " Row(Car='Plymouth Fury iii', MPG='14.0', Cylinders='8', Displacement='440.0', Horsepower='215.0', Weight='4312.', Acceleration='8.5', Model='70', Origin='US'),\n",
              " Row(Car='Pontiac Catalina', MPG='14.0', Cylinders='8', Displacement='455.0', Horsepower='225.0', Weight='4425.', Acceleration='10.0', Model='70', Origin='US'),\n",
              " Row(Car='AMC Ambassador DPL', MPG='15.0', Cylinders='8', Displacement='390.0', Horsepower='190.0', Weight='3850.', Acceleration='8.5', Model='70', Origin='US'),\n",
              " Row(Car='Citroen DS-21 Pallas', MPG='0', Cylinders='4', Displacement='133.0', Horsepower='115.0', Weight='3090.', Acceleration='17.5', Model='70', Origin='Europe'),\n",
              " Row(Car='Chevrolet Chevelle Concours (sw)', MPG='0', Cylinders='8', Displacement='350.0', Horsepower='165.0', Weight='4142.', Acceleration='11.5', Model='70', Origin='US'),\n",
              " Row(Car='Ford Torino (sw)', MPG='0', Cylinders='8', Displacement='351.0', Horsepower='153.0', Weight='4034.', Acceleration='11.0', Model='70', Origin='US'),\n",
              " Row(Car='Plymouth Satellite (sw)', MPG='0', Cylinders='8', Displacement='383.0', Horsepower='175.0', Weight='4166.', Acceleration='10.5', Model='70', Origin='US'),\n",
              " Row(Car='AMC Rebel SST (sw)', MPG='0', Cylinders='8', Displacement='360.0', Horsepower='175.0', Weight='3850.', Acceleration='11.0', Model='70', Origin='US'),\n",
              " Row(Car='Dodge Challenger SE', MPG='15.0', Cylinders='8', Displacement='383.0', Horsepower='170.0', Weight='3563.', Acceleration='10.0', Model='70', Origin='US'),\n",
              " Row(Car=\"Plymouth 'Cuda 340\", MPG='14.0', Cylinders='8', Displacement='340.0', Horsepower='160.0', Weight='3609.', Acceleration='8.0', Model='70', Origin='US'),\n",
              " Row(Car='Ford Mustang Boss 302', MPG='0', Cylinders='8', Displacement='302.0', Horsepower='140.0', Weight='3353.', Acceleration='8.0', Model='70', Origin='US'),\n",
              " Row(Car='Chevrolet Monte Carlo', MPG='15.0', Cylinders='8', Displacement='400.0', Horsepower='150.0', Weight='3761.', Acceleration='9.5', Model='70', Origin='US'),\n",
              " Row(Car='Buick Estate Wagon (sw)', MPG='14.0', Cylinders='8', Displacement='455.0', Horsepower='225.0', Weight='3086.', Acceleration='10.0', Model='70', Origin='US'),\n",
              " Row(Car='Toyota Corolla Mark ii', MPG='24.0', Cylinders='4', Displacement='113.0', Horsepower='95.00', Weight='2372.', Acceleration='15.0', Model='70', Origin='Japan'),\n",
              " Row(Car='Plymouth Duster', MPG='22.0', Cylinders='6', Displacement='198.0', Horsepower='95.00', Weight='2833.', Acceleration='15.5', Model='70', Origin='US'),\n",
              " Row(Car='AMC Hornet', MPG='18.0', Cylinders='6', Displacement='199.0', Horsepower='97.00', Weight='2774.', Acceleration='15.5', Model='70', Origin='US'),\n",
              " Row(Car='Ford Maverick', MPG='21.0', Cylinders='6', Displacement='200.0', Horsepower='85.00', Weight='2587.', Acceleration='16.0', Model='70', Origin='US'),\n",
              " Row(Car='Datsun PL510', MPG='27.0', Cylinders='4', Displacement='97.00', Horsepower='88.00', Weight='2130.', Acceleration='14.5', Model='70', Origin='Japan'),\n",
              " Row(Car='Volkswagen 1131 Deluxe Sedan', MPG='26.0', Cylinders='4', Displacement='97.00', Horsepower='46.00', Weight='1835.', Acceleration='20.5', Model='70', Origin='Europe'),\n",
              " Row(Car='Peugeot 504', MPG='25.0', Cylinders='4', Displacement='110.0', Horsepower='87.00', Weight='2672.', Acceleration='17.5', Model='70', Origin='Europe'),\n",
              " Row(Car='Audi 100 LS', MPG='24.0', Cylinders='4', Displacement='107.0', Horsepower='90.00', Weight='2430.', Acceleration='14.5', Model='70', Origin='Europe'),\n",
              " Row(Car='Saab 99e', MPG='25.0', Cylinders='4', Displacement='104.0', Horsepower='95.00', Weight='2375.', Acceleration='17.5', Model='70', Origin='Europe'),\n",
              " Row(Car='BMW 2002', MPG='26.0', Cylinders='4', Displacement='121.0', Horsepower='113.0', Weight='2234.', Acceleration='12.5', Model='70', Origin='Europe'),\n",
              " Row(Car='AMC Gremlin', MPG='21.0', Cylinders='6', Displacement='199.0', Horsepower='90.00', Weight='2648.', Acceleration='15.0', Model='70', Origin='US'),\n",
              " Row(Car='Ford F250', MPG='10.0', Cylinders='8', Displacement='360.0', Horsepower='215.0', Weight='4615.', Acceleration='14.0', Model='70', Origin='US'),\n",
              " Row(Car='Chevy C20', MPG='10.0', Cylinders='8', Displacement='307.0', Horsepower='200.0', Weight='4376.', Acceleration='15.0', Model='70', Origin='US'),\n",
              " Row(Car='Dodge D200', MPG='11.0', Cylinders='8', Displacement='318.0', Horsepower='210.0', Weight='4382.', Acceleration='13.5', Model='70', Origin='US'),\n",
              " Row(Car='Hi 1200D', MPG='9.0', Cylinders='8', Displacement='304.0', Horsepower='193.0', Weight='4732.', Acceleration='18.5', Model='70', Origin='US'),\n",
              " Row(Car='Datsun PL510', MPG='27.0', Cylinders='4', Displacement='97.00', Horsepower='88.00', Weight='2130.', Acceleration='14.5', Model='71', Origin='Japan'),\n",
              " Row(Car='Chevrolet Vega 2300', MPG='28.0', Cylinders='4', Displacement='140.0', Horsepower='90.00', Weight='2264.', Acceleration='15.5', Model='71', Origin='US'),\n",
              " Row(Car='Toyota Corolla', MPG='25.0', Cylinders='4', Displacement='113.0', Horsepower='95.00', Weight='2228.', Acceleration='14.0', Model='71', Origin='Japan'),\n",
              " Row(Car='Ford Pinto', MPG='25.0', Cylinders='4', Displacement='98.00', Horsepower='0', Weight='2046.', Acceleration='19.0', Model='71', Origin='US'),\n",
              " Row(Car='Volkswagen Super Beetle 117', MPG='0', Cylinders='4', Displacement='97.00', Horsepower='48.00', Weight='1978.', Acceleration='20.0', Model='71', Origin='Europe'),\n",
              " Row(Car='AMC Gremlin', MPG='19.0', Cylinders='6', Displacement='232.0', Horsepower='100.0', Weight='2634.', Acceleration='13.0', Model='71', Origin='US'),\n",
              " Row(Car='Plymouth Satellite Custom', MPG='16.0', Cylinders='6', Displacement='225.0', Horsepower='105.0', Weight='3439.', Acceleration='15.5', Model='71', Origin='US'),\n",
              " Row(Car='Chevrolet Chevelle Malibu', MPG='17.0', Cylinders='6', Displacement='250.0', Horsepower='100.0', Weight='3329.', Acceleration='15.5', Model='71', Origin='US'),\n",
              " Row(Car='Ford Torino 500', MPG='19.0', Cylinders='6', Displacement='250.0', Horsepower='88.00', Weight='3302.', Acceleration='15.5', Model='71', Origin='US'),\n",
              " Row(Car='AMC Matador', MPG='18.0', Cylinders='6', Displacement='232.0', Horsepower='100.0', Weight='3288.', Acceleration='15.5', Model='71', Origin='US'),\n",
              " Row(Car='Chevrolet Impala', MPG='14.0', Cylinders='8', Displacement='350.0', Horsepower='165.0', Weight='4209.', Acceleration='12.0', Model='71', Origin='US'),\n",
              " Row(Car='Pontiac Catalina Brougham', MPG='14.0', Cylinders='8', Displacement='400.0', Horsepower='175.0', Weight='4464.', Acceleration='11.5', Model='71', Origin='US'),\n",
              " Row(Car='Ford Galaxie 500', MPG='14.0', Cylinders='8', Displacement='351.0', Horsepower='153.0', Weight='4154.', Acceleration='13.5', Model='71', Origin='US'),\n",
              " Row(Car='Plymouth Fury iii', MPG='14.0', Cylinders='8', Displacement='318.0', Horsepower='150.0', Weight='4096.', Acceleration='13.0', Model='71', Origin='US'),\n",
              " Row(Car='Dodge Monaco (sw)', MPG='12.0', Cylinders='8', Displacement='383.0', Horsepower='180.0', Weight='4955.', Acceleration='11.5', Model='71', Origin='US'),\n",
              " Row(Car='Ford Country Squire (sw)', MPG='13.0', Cylinders='8', Displacement='400.0', Horsepower='170.0', Weight='4746.', Acceleration='12.0', Model='71', Origin='US'),\n",
              " Row(Car='Pontiac Safari (sw)', MPG='13.0', Cylinders='8', Displacement='400.0', Horsepower='175.0', Weight='5140.', Acceleration='12.0', Model='71', Origin='US'),\n",
              " Row(Car='AMC Hornet Sportabout (sw)', MPG='18.0', Cylinders='6', Displacement='258.0', Horsepower='110.0', Weight='2962.', Acceleration='13.5', Model='71', Origin='US'),\n",
              " Row(Car='Chevrolet Vega (sw)', MPG='22.0', Cylinders='4', Displacement='140.0', Horsepower='72.00', Weight='2408.', Acceleration='19.0', Model='71', Origin='US'),\n",
              " Row(Car='Pontiac Firebird', MPG='19.0', Cylinders='6', Displacement='250.0', Horsepower='100.0', Weight='3282.', Acceleration='15.0', Model='71', Origin='US'),\n",
              " Row(Car='Ford Mustang', MPG='18.0', Cylinders='6', Displacement='250.0', Horsepower='88.00', Weight='3139.', Acceleration='14.5', Model='71', Origin='US'),\n",
              " Row(Car='Mercury Capri 2000', MPG='23.0', Cylinders='4', Displacement='122.0', Horsepower='86.00', Weight='2220.', Acceleration='14.0', Model='71', Origin='US'),\n",
              " Row(Car='Opel 1900', MPG='28.0', Cylinders='4', Displacement='116.0', Horsepower='90.00', Weight='2123.', Acceleration='14.0', Model='71', Origin='Europe'),\n",
              " Row(Car='Peugeot 304', MPG='30.0', Cylinders='4', Displacement='79.00', Horsepower='70.00', Weight='2074.', Acceleration='19.5', Model='71', Origin='Europe'),\n",
              " Row(Car='Fiat 124B', MPG='30.0', Cylinders='4', Displacement='88.00', Horsepower='76.00', Weight='2065.', Acceleration='14.5', Model='71', Origin='Europe'),\n",
              " Row(Car='Toyota Corolla 1200', MPG='31.0', Cylinders='4', Displacement='71.00', Horsepower='65.00', Weight='1773.', Acceleration='19.0', Model='71', Origin='Japan'),\n",
              " Row(Car='Datsun 1200', MPG='35.0', Cylinders='4', Displacement='72.00', Horsepower='69.00', Weight='1613.', Acceleration='18.0', Model='71', Origin='Japan'),\n",
              " Row(Car='Volkswagen Model 111', MPG='27.0', Cylinders='4', Displacement='97.00', Horsepower='60.00', Weight='1834.', Acceleration='19.0', Model='71', Origin='Europe'),\n",
              " Row(Car='Plymouth Cricket', MPG='26.0', Cylinders='4', Displacement='91.00', Horsepower='70.00', Weight='1955.', Acceleration='20.5', Model='71', Origin='US'),\n",
              " Row(Car='Toyota Corolla Hardtop', MPG='24.0', Cylinders='4', Displacement='113.0', Horsepower='95.00', Weight='2278.', Acceleration='15.5', Model='72', Origin='Japan'),\n",
              " Row(Car='Dodge Colt Hardtop', MPG='25.0', Cylinders='4', Displacement='97.50', Horsepower='80.00', Weight='2126.', Acceleration='17.0', Model='72', Origin='US'),\n",
              " Row(Car='Volkswagen Type 3', MPG='23.0', Cylinders='4', Displacement='97.00', Horsepower='54.00', Weight='2254.', Acceleration='23.5', Model='72', Origin='Europe'),\n",
              " Row(Car='Chevrolet Vega', MPG='20.0', Cylinders='4', Displacement='140.0', Horsepower='90.00', Weight='2408.', Acceleration='19.5', Model='72', Origin='US'),\n",
              " Row(Car='Ford Pinto Runabout', MPG='21.0', Cylinders='4', Displacement='122.0', Horsepower='86.00', Weight='2226.', Acceleration='16.5', Model='72', Origin='US'),\n",
              " Row(Car='Chevrolet Impala', MPG='13.0', Cylinders='8', Displacement='350.0', Horsepower='165.0', Weight='4274.', Acceleration='12.0', Model='72', Origin='US'),\n",
              " Row(Car='Pontiac Catalina', MPG='14.0', Cylinders='8', Displacement='400.0', Horsepower='175.0', Weight='4385.', Acceleration='12.0', Model='72', Origin='US'),\n",
              " Row(Car='Plymouth Fury III', MPG='15.0', Cylinders='8', Displacement='318.0', Horsepower='150.0', Weight='4135.', Acceleration='13.5', Model='72', Origin='US'),\n",
              " Row(Car='Ford Galaxie 500', MPG='14.0', Cylinders='8', Displacement='351.0', Horsepower='153.0', Weight='4129.', Acceleration='13.0', Model='72', Origin='US'),\n",
              " Row(Car='AMC Ambassador SST', MPG='17.0', Cylinders='8', Displacement='304.0', Horsepower='150.0', Weight='3672.', Acceleration='11.5', Model='72', Origin='US'),\n",
              " Row(Car='Mercury Marquis', MPG='11.0', Cylinders='8', Displacement='429.0', Horsepower='208.0', Weight='4633.', Acceleration='11.0', Model='72', Origin='US'),\n",
              " Row(Car='Buick LeSabre Custom', MPG='13.0', Cylinders='8', Displacement='350.0', Horsepower='155.0', Weight='4502.', Acceleration='13.5', Model='72', Origin='US'),\n",
              " Row(Car='Oldsmobile Delta 88 Royale', MPG='12.0', Cylinders='8', Displacement='350.0', Horsepower='160.0', Weight='4456.', Acceleration='13.5', Model='72', Origin='US'),\n",
              " Row(Car='Chrysler Newport Royal', MPG='13.0', Cylinders='8', Displacement='400.0', Horsepower='190.0', Weight='4422.', Acceleration='12.5', Model='72', Origin='US'),\n",
              " Row(Car='Mazda RX2 Coupe', MPG='19.0', Cylinders='3', Displacement='70.00', Horsepower='97.00', Weight='2330.', Acceleration='13.5', Model='72', Origin='Japan'),\n",
              " Row(Car='AMC Matador (sw)', MPG='15.0', Cylinders='8', Displacement='304.0', Horsepower='150.0', Weight='3892.', Acceleration='12.5', Model='72', Origin='US'),\n",
              " Row(Car='Chevrolet Chevelle Concours (sw)', MPG='13.0', Cylinders='8', Displacement='307.0', Horsepower='130.0', Weight='4098.', Acceleration='14.0', Model='72', Origin='US'),\n",
              " Row(Car='Ford Gran Torino (sw)', MPG='13.0', Cylinders='8', Displacement='302.0', Horsepower='140.0', Weight='4294.', Acceleration='16.0', Model='72', Origin='US'),\n",
              " Row(Car='Plymouth Satellite Custom (sw)', MPG='14.0', Cylinders='8', Displacement='318.0', Horsepower='150.0', Weight='4077.', Acceleration='14.0', Model='72', Origin='US'),\n",
              " Row(Car='Volvo 145e (sw)', MPG='18.0', Cylinders='4', Displacement='121.0', Horsepower='112.0', Weight='2933.', Acceleration='14.5', Model='72', Origin='Europe'),\n",
              " Row(Car='Volkswagen 411 (sw)', MPG='22.0', Cylinders='4', Displacement='121.0', Horsepower='76.00', Weight='2511.', Acceleration='18.0', Model='72', Origin='Europe'),\n",
              " Row(Car='Peugeot 504 (sw)', MPG='21.0', Cylinders='4', Displacement='120.0', Horsepower='87.00', Weight='2979.', Acceleration='19.5', Model='72', Origin='Europe'),\n",
              " Row(Car='Renault 12 (sw)', MPG='26.0', Cylinders='4', Displacement='96.00', Horsepower='69.00', Weight='2189.', Acceleration='18.0', Model='72', Origin='Europe'),\n",
              " Row(Car='Ford Pinto (sw)', MPG='22.0', Cylinders='4', Displacement='122.0', Horsepower='86.00', Weight='2395.', Acceleration='16.0', Model='72', Origin='US'),\n",
              " Row(Car='Datsun 510 (sw)', MPG='28.0', Cylinders='4', Displacement='97.00', Horsepower='92.00', Weight='2288.', Acceleration='17.0', Model='72', Origin='Japan'),\n",
              " Row(Car='Toyota Corolla Mark II (sw)', MPG='23.0', Cylinders='4', Displacement='120.0', Horsepower='97.00', Weight='2506.', Acceleration='14.5', Model='72', Origin='Japan'),\n",
              " Row(Car='Dodge Colt (sw)', MPG='28.0', Cylinders='4', Displacement='98.00', Horsepower='80.00', Weight='2164.', Acceleration='15.0', Model='72', Origin='US'),\n",
              " Row(Car='Toyota Corolla 1600 (sw)', MPG='27.0', Cylinders='4', Displacement='97.00', Horsepower='88.00', Weight='2100.', Acceleration='16.5', Model='72', Origin='Japan'),\n",
              " Row(Car='Buick Century 350', MPG='13.0', Cylinders='8', Displacement='350.0', Horsepower='175.0', Weight='4100.', Acceleration='13.0', Model='73', Origin='US'),\n",
              " Row(Car='AMC Matador', MPG='14.0', Cylinders='8', Displacement='304.0', Horsepower='150.0', Weight='3672.', Acceleration='11.5', Model='73', Origin='US'),\n",
              " Row(Car='Chevrolet Malibu', MPG='13.0', Cylinders='8', Displacement='350.0', Horsepower='145.0', Weight='3988.', Acceleration='13.0', Model='73', Origin='US'),\n",
              " Row(Car='Ford Gran Torino', MPG='14.0', Cylinders='8', Displacement='302.0', Horsepower='137.0', Weight='4042.', Acceleration='14.5', Model='73', Origin='US'),\n",
              " Row(Car='Dodge Coronet Custom', MPG='15.0', Cylinders='8', Displacement='318.0', Horsepower='150.0', Weight='3777.', Acceleration='12.5', Model='73', Origin='US'),\n",
              " Row(Car='Mercury Marquis Brougham', MPG='12.0', Cylinders='8', Displacement='429.0', Horsepower='198.0', Weight='4952.', Acceleration='11.5', Model='73', Origin='US'),\n",
              " Row(Car='Chevrolet Caprice Classic', MPG='13.0', Cylinders='8', Displacement='400.0', Horsepower='150.0', Weight='4464.', Acceleration='12.0', Model='73', Origin='US'),\n",
              " Row(Car='Ford LTD', MPG='13.0', Cylinders='8', Displacement='351.0', Horsepower='158.0', Weight='4363.', Acceleration='13.0', Model='73', Origin='US'),\n",
              " Row(Car='Plymouth Fury Gran Sedan', MPG='14.0', Cylinders='8', Displacement='318.0', Horsepower='150.0', Weight='4237.', Acceleration='14.5', Model='73', Origin='US'),\n",
              " Row(Car='Chrysler New Yorker Brougham', MPG='13.0', Cylinders='8', Displacement='440.0', Horsepower='215.0', Weight='4735.', Acceleration='11.0', Model='73', Origin='US'),\n",
              " Row(Car='Buick Electra 225 Custom', MPG='12.0', Cylinders='8', Displacement='455.0', Horsepower='225.0', Weight='4951.', Acceleration='11.0', Model='73', Origin='US'),\n",
              " Row(Car='AMC Ambassador Brougham', MPG='13.0', Cylinders='8', Displacement='360.0', Horsepower='175.0', Weight='3821.', Acceleration='11.0', Model='73', Origin='US'),\n",
              " Row(Car='Plymouth Valiant', MPG='18.0', Cylinders='6', Displacement='225.0', Horsepower='105.0', Weight='3121.', Acceleration='16.5', Model='73', Origin='US'),\n",
              " Row(Car='Chevrolet Nova Custom', MPG='16.0', Cylinders='6', Displacement='250.0', Horsepower='100.0', Weight='3278.', Acceleration='18.0', Model='73', Origin='US'),\n",
              " Row(Car='AMC Hornet', MPG='18.0', Cylinders='6', Displacement='232.0', Horsepower='100.0', Weight='2945.', Acceleration='16.0', Model='73', Origin='US'),\n",
              " Row(Car='Ford Maverick', MPG='18.0', Cylinders='6', Displacement='250.0', Horsepower='88.00', Weight='3021.', Acceleration='16.5', Model='73', Origin='US'),\n",
              " Row(Car='Plymouth Duster', MPG='23.0', Cylinders='6', Displacement='198.0', Horsepower='95.00', Weight='2904.', Acceleration='16.0', Model='73', Origin='US'),\n",
              " Row(Car='Volkswagen Super Beetle', MPG='26.0', Cylinders='4', Displacement='97.00', Horsepower='46.00', Weight='1950.', Acceleration='21.0', Model='73', Origin='Europe'),\n",
              " Row(Car='Chevrolet Impala', MPG='11.0', Cylinders='8', Displacement='400.0', Horsepower='150.0', Weight='4997.', Acceleration='14.0', Model='73', Origin='US'),\n",
              " Row(Car='Ford Country', MPG='12.0', Cylinders='8', Displacement='400.0', Horsepower='167.0', Weight='4906.', Acceleration='12.5', Model='73', Origin='US'),\n",
              " Row(Car='Plymouth Custom Suburb', MPG='13.0', Cylinders='8', Displacement='360.0', Horsepower='170.0', Weight='4654.', Acceleration='13.0', Model='73', Origin='US'),\n",
              " Row(Car='Oldsmobile Vista Cruiser', MPG='12.0', Cylinders='8', Displacement='350.0', Horsepower='180.0', Weight='4499.', Acceleration='12.5', Model='73', Origin='US'),\n",
              " Row(Car='AMC Gremlin', MPG='18.0', Cylinders='6', Displacement='232.0', Horsepower='100.0', Weight='2789.', Acceleration='15.0', Model='73', Origin='US'),\n",
              " Row(Car='Toyota Camry', MPG='20.0', Cylinders='4', Displacement='97.00', Horsepower='88.00', Weight='2279.', Acceleration='19.0', Model='73', Origin='Japan'),\n",
              " Row(Car='Chevrolet Vega', MPG='21.0', Cylinders='4', Displacement='140.0', Horsepower='72.00', Weight='2401.', Acceleration='19.5', Model='73', Origin='US'),\n",
              " Row(Car='Datsun 610', MPG='22.0', Cylinders='4', Displacement='108.0', Horsepower='94.00', Weight='2379.', Acceleration='16.5', Model='73', Origin='Japan'),\n",
              " Row(Car='Mazda RX3', MPG='18.0', Cylinders='3', Displacement='70.00', Horsepower='90.00', Weight='2124.', Acceleration='13.5', Model='73', Origin='Japan'),\n",
              " Row(Car='Ford Pinto', MPG='19.0', Cylinders='4', Displacement='122.0', Horsepower='85.00', Weight='2310.', Acceleration='18.5', Model='73', Origin='US'),\n",
              " Row(Car='Mercury Capri v6', MPG='21.0', Cylinders='6', Displacement='155.0', Horsepower='107.0', Weight='2472.', Acceleration='14.0', Model='73', Origin='US'),\n",
              " Row(Car='Fiat 124 Sport Coupe', MPG='26.0', Cylinders='4', Displacement='98.00', Horsepower='90.00', Weight='2265.', Acceleration='15.5', Model='73', Origin='Europe'),\n",
              " Row(Car='Chevrolet Monte Carlo S', MPG='15.0', Cylinders='8', Displacement='350.0', Horsepower='145.0', Weight='4082.', Acceleration='13.0', Model='73', Origin='US'),\n",
              " Row(Car='Pontiac Grand Prix', MPG='16.0', Cylinders='8', Displacement='400.0', Horsepower='230.0', Weight='4278.', Acceleration='9.50', Model='73', Origin='US'),\n",
              " Row(Car='Fiat 128', MPG='29.0', Cylinders='4', Displacement='68.00', Horsepower='49.00', Weight='1867.', Acceleration='19.5', Model='73', Origin='Europe'),\n",
              " Row(Car='Opel Manta', MPG='24.0', Cylinders='4', Displacement='116.0', Horsepower='75.00', Weight='2158.', Acceleration='15.5', Model='73', Origin='Europe'),\n",
              " Row(Car='Audi 100LS', MPG='20.0', Cylinders='4', Displacement='114.0', Horsepower='91.00', Weight='2582.', Acceleration='14.0', Model='73', Origin='Europe'),\n",
              " Row(Car='Volvo 144ea', MPG='19.0', Cylinders='4', Displacement='121.0', Horsepower='112.0', Weight='2868.', Acceleration='15.5', Model='73', Origin='Europe'),\n",
              " Row(Car='Dodge Dart Custom', MPG='15.0', Cylinders='8', Displacement='318.0', Horsepower='150.0', Weight='3399.', Acceleration='11.0', Model='73', Origin='US'),\n",
              " Row(Car='Saab 99le', MPG='24.0', Cylinders='4', Displacement='121.0', Horsepower='110.0', Weight='2660.', Acceleration='14.0', Model='73', Origin='Europe'),\n",
              " Row(Car='Toyota Mark II', MPG='20.0', Cylinders='6', Displacement='156.0', Horsepower='122.0', Weight='2807.', Acceleration='13.5', Model='73', Origin='Japan'),\n",
              " Row(Car='Oldsmobile Omega', MPG='11.0', Cylinders='8', Displacement='350.0', Horsepower='180.0', Weight='3664.', Acceleration='11.0', Model='73', Origin='US'),\n",
              " Row(Car='Plymouth Duster', MPG='20.0', Cylinders='6', Displacement='198.0', Horsepower='95.00', Weight='3102.', Acceleration='16.5', Model='74', Origin='US'),\n",
              " Row(Car='Ford Maverick', MPG='21.0', Cylinders='6', Displacement='200.0', Horsepower='0', Weight='2875.', Acceleration='17.0', Model='74', Origin='US'),\n",
              " Row(Car='AMC Hornet', MPG='19.0', Cylinders='6', Displacement='232.0', Horsepower='100.0', Weight='2901.', Acceleration='16.0', Model='74', Origin='US'),\n",
              " Row(Car='Chevrolet Nova', MPG='15.0', Cylinders='6', Displacement='250.0', Horsepower='100.0', Weight='3336.', Acceleration='17.0', Model='74', Origin='US'),\n",
              " Row(Car='Datsun B210', MPG='31.0', Cylinders='4', Displacement='79.00', Horsepower='67.00', Weight='1950.', Acceleration='19.0', Model='74', Origin='Japan'),\n",
              " Row(Car='Ford Pinto', MPG='26.0', Cylinders='4', Displacement='122.0', Horsepower='80.00', Weight='2451.', Acceleration='16.5', Model='74', Origin='US'),\n",
              " Row(Car='Toyota Corolla 1200', MPG='32.0', Cylinders='4', Displacement='71.00', Horsepower='65.00', Weight='1836.', Acceleration='21.0', Model='74', Origin='Japan'),\n",
              " Row(Car='Chevrolet Vega', MPG='25.0', Cylinders='4', Displacement='140.0', Horsepower='75.00', Weight='2542.', Acceleration='17.0', Model='74', Origin='US'),\n",
              " Row(Car='Chevrolet Chevelle Malibu Classic', MPG='16.0', Cylinders='6', Displacement='250.0', Horsepower='100.0', Weight='3781.', Acceleration='17.0', Model='74', Origin='US'),\n",
              " Row(Car='AMC Matador', MPG='16.0', Cylinders='6', Displacement='258.0', Horsepower='110.0', Weight='3632.', Acceleration='18.0', Model='74', Origin='US'),\n",
              " Row(Car='Plymouth Satellite Sebring', MPG='18.0', Cylinders='6', Displacement='225.0', Horsepower='105.0', Weight='3613.', Acceleration='16.5', Model='74', Origin='US'),\n",
              " Row(Car='Ford Gran Torino', MPG='16.0', Cylinders='8', Displacement='302.0', Horsepower='140.0', Weight='4141.', Acceleration='14.0', Model='74', Origin='US'),\n",
              " Row(Car='Buick Century Luxus (sw)', MPG='13.0', Cylinders='8', Displacement='350.0', Horsepower='150.0', Weight='4699.', Acceleration='14.5', Model='74', Origin='US'),\n",
              " Row(Car='Dodge Coronet Custom (sw)', MPG='14.0', Cylinders='8', Displacement='318.0', Horsepower='150.0', Weight='4457.', Acceleration='13.5', Model='74', Origin='US'),\n",
              " Row(Car='Ford Gran Torino (sw)', MPG='14.0', Cylinders='8', Displacement='302.0', Horsepower='140.0', Weight='4638.', Acceleration='16.0', Model='74', Origin='US'),\n",
              " Row(Car='AMC Matador (sw)', MPG='14.0', Cylinders='8', Displacement='304.0', Horsepower='150.0', Weight='4257.', Acceleration='15.5', Model='74', Origin='US'),\n",
              " Row(Car='Audi Fox', MPG='29.0', Cylinders='4', Displacement='98.00', Horsepower='83.00', Weight='2219.', Acceleration='16.5', Model='74', Origin='Europe'),\n",
              " Row(Car='Volkswagen Dasher', MPG='26.0', Cylinders='4', Displacement='79.00', Horsepower='67.00', Weight='1963.', Acceleration='15.5', Model='74', Origin='Europe'),\n",
              " Row(Car='Opel Manta', MPG='26.0', Cylinders='4', Displacement='97.00', Horsepower='78.00', Weight='2300.', Acceleration='14.5', Model='74', Origin='Europe'),\n",
              " Row(Car='Toyota Corolla', MPG='31.0', Cylinders='4', Displacement='76.00', Horsepower='52.00', Weight='1649.', Acceleration='16.5', Model='74', Origin='Japan'),\n",
              " Row(Car='Datsun 710', MPG='32.0', Cylinders='4', Displacement='83.00', Horsepower='61.00', Weight='2003.', Acceleration='19.0', Model='74', Origin='Japan'),\n",
              " Row(Car='Dodge Colt', MPG='28.0', Cylinders='4', Displacement='90.00', Horsepower='75.00', Weight='2125.', Acceleration='14.5', Model='74', Origin='US'),\n",
              " Row(Car='Fiat 128', MPG='24.0', Cylinders='4', Displacement='90.00', Horsepower='75.00', Weight='2108.', Acceleration='15.5', Model='74', Origin='Europe'),\n",
              " Row(Car='Fiat 124 TC', MPG='26.0', Cylinders='4', Displacement='116.0', Horsepower='75.00', Weight='2246.', Acceleration='14.0', Model='74', Origin='Europe'),\n",
              " Row(Car='Honda Civic', MPG='24.0', Cylinders='4', Displacement='120.0', Horsepower='97.00', Weight='2489.', Acceleration='15.0', Model='74', Origin='Japan'),\n",
              " Row(Car='Subaru', MPG='26.0', Cylinders='4', Displacement='108.0', Horsepower='93.00', Weight='2391.', Acceleration='15.5', Model='74', Origin='Japan'),\n",
              " Row(Car='Fiat x1.9', MPG='31.0', Cylinders='4', Displacement='79.00', Horsepower='67.00', Weight='2000.', Acceleration='16.0', Model='74', Origin='Europe'),\n",
              " Row(Car='Plymouth Valiant Custom', MPG='19.0', Cylinders='6', Displacement='225.0', Horsepower='95.00', Weight='3264.', Acceleration='16.0', Model='75', Origin='US'),\n",
              " Row(Car='Chevrolet Nova', MPG='18.0', Cylinders='6', Displacement='250.0', Horsepower='105.0', Weight='3459.', Acceleration='16.0', Model='75', Origin='US'),\n",
              " Row(Car='Mercury Monarch', MPG='15.0', Cylinders='6', Displacement='250.0', Horsepower='72.00', Weight='3432.', Acceleration='21.0', Model='75', Origin='US'),\n",
              " Row(Car='Ford Maverick', MPG='15.0', Cylinders='6', Displacement='250.0', Horsepower='72.00', Weight='3158.', Acceleration='19.5', Model='75', Origin='US'),\n",
              " Row(Car='Pontiac Catalina', MPG='16.0', Cylinders='8', Displacement='400.0', Horsepower='170.0', Weight='4668.', Acceleration='11.5', Model='75', Origin='US'),\n",
              " Row(Car='Chevrolet Bel Air', MPG='15.0', Cylinders='8', Displacement='350.0', Horsepower='145.0', Weight='4440.', Acceleration='14.0', Model='75', Origin='US'),\n",
              " Row(Car='Plymouth Grand Fury', MPG='16.0', Cylinders='8', Displacement='318.0', Horsepower='150.0', Weight='4498.', Acceleration='14.5', Model='75', Origin='US'),\n",
              " Row(Car='Ford LTD', MPG='14.0', Cylinders='8', Displacement='351.0', Horsepower='148.0', Weight='4657.', Acceleration='13.5', Model='75', Origin='US'),\n",
              " Row(Car='Buick Century', MPG='17.0', Cylinders='6', Displacement='231.0', Horsepower='110.0', Weight='3907.', Acceleration='21.0', Model='75', Origin='US'),\n",
              " Row(Car='Chevrolete Chevelle Malibu', MPG='16.0', Cylinders='6', Displacement='250.0', Horsepower='105.0', Weight='3897.', Acceleration='18.5', Model='75', Origin='US'),\n",
              " Row(Car='AMC Matador', MPG='15.0', Cylinders='6', Displacement='258.0', Horsepower='110.0', Weight='3730.', Acceleration='19.0', Model='75', Origin='US'),\n",
              " Row(Car='Plymouth Fury', MPG='18.0', Cylinders='6', Displacement='225.0', Horsepower='95.00', Weight='3785.', Acceleration='19.0', Model='75', Origin='US'),\n",
              " Row(Car='Buick Skyhawk', MPG='21.0', Cylinders='6', Displacement='231.0', Horsepower='110.0', Weight='3039.', Acceleration='15.0', Model='75', Origin='US'),\n",
              " Row(Car='Chevrolet Monza 2+2', MPG='20.0', Cylinders='8', Displacement='262.0', Horsepower='110.0', Weight='3221.', Acceleration='13.5', Model='75', Origin='US'),\n",
              " Row(Car='Ford Mustang II', MPG='13.0', Cylinders='8', Displacement='302.0', Horsepower='129.0', Weight='3169.', Acceleration='12.0', Model='75', Origin='US'),\n",
              " Row(Car='Toyota Corolla', MPG='29.0', Cylinders='4', Displacement='97.00', Horsepower='75.00', Weight='2171.', Acceleration='16.0', Model='75', Origin='Japan'),\n",
              " Row(Car='Ford Pinto', MPG='23.0', Cylinders='4', Displacement='140.0', Horsepower='83.00', Weight='2639.', Acceleration='17.0', Model='75', Origin='US'),\n",
              " Row(Car='AMC Gremlin', MPG='20.0', Cylinders='6', Displacement='232.0', Horsepower='100.0', Weight='2914.', Acceleration='16.0', Model='75', Origin='US'),\n",
              " Row(Car='Pontiac Astro', MPG='23.0', Cylinders='4', Displacement='140.0', Horsepower='78.00', Weight='2592.', Acceleration='18.5', Model='75', Origin='US'),\n",
              " Row(Car='Toyota Corolla', MPG='24.0', Cylinders='4', Displacement='134.0', Horsepower='96.00', Weight='2702.', Acceleration='13.5', Model='75', Origin='Japan'),\n",
              " Row(Car='Volkswagen Dasher', MPG='25.0', Cylinders='4', Displacement='90.00', Horsepower='71.00', Weight='2223.', Acceleration='16.5', Model='75', Origin='Europe'),\n",
              " Row(Car='Datsun 710', MPG='24.0', Cylinders='4', Displacement='119.0', Horsepower='97.00', Weight='2545.', Acceleration='17.0', Model='75', Origin='Japan'),\n",
              " Row(Car='Ford Pinto', MPG='18.0', Cylinders='6', Displacement='171.0', Horsepower='97.00', Weight='2984.', Acceleration='14.5', Model='75', Origin='US'),\n",
              " Row(Car='Volkswagen Rabbit', MPG='29.0', Cylinders='4', Displacement='90.00', Horsepower='70.00', Weight='1937.', Acceleration='14.0', Model='75', Origin='Europe'),\n",
              " Row(Car='AMC Pacer', MPG='19.0', Cylinders='6', Displacement='232.0', Horsepower='90.00', Weight='3211.', Acceleration='17.0', Model='75', Origin='US'),\n",
              " Row(Car='Audi 100LS', MPG='23.0', Cylinders='4', Displacement='115.0', Horsepower='95.00', Weight='2694.', Acceleration='15.0', Model='75', Origin='Europe'),\n",
              " Row(Car='Peugeot 504', MPG='23.0', Cylinders='4', Displacement='120.0', Horsepower='88.00', Weight='2957.', Acceleration='17.0', Model='75', Origin='Europe'),\n",
              " Row(Car='Volvo 244DL', MPG='22.0', Cylinders='4', Displacement='121.0', Horsepower='98.00', Weight='2945.', Acceleration='14.5', Model='75', Origin='Europe'),\n",
              " Row(Car='Saab 99LE', MPG='25.0', Cylinders='4', Displacement='121.0', Horsepower='115.0', Weight='2671.', Acceleration='13.5', Model='75', Origin='Europe'),\n",
              " Row(Car='Honda Civic CVCC', MPG='33.0', Cylinders='4', Displacement='91.00', Horsepower='53.00', Weight='1795.', Acceleration='17.5', Model='75', Origin='Japan'),\n",
              " Row(Car='Fiat 131', MPG='28.0', Cylinders='4', Displacement='107.0', Horsepower='86.00', Weight='2464.', Acceleration='15.5', Model='76', Origin='Europe'),\n",
              " Row(Car='Opel 1900', MPG='25.0', Cylinders='4', Displacement='116.0', Horsepower='81.00', Weight='2220.', Acceleration='16.9', Model='76', Origin='Europe'),\n",
              " Row(Car='Capri ii', MPG='25.0', Cylinders='4', Displacement='140.0', Horsepower='92.00', Weight='2572.', Acceleration='14.9', Model='76', Origin='US'),\n",
              " Row(Car='Dodge Colt', MPG='26.0', Cylinders='4', Displacement='98.00', Horsepower='79.00', Weight='2255.', Acceleration='17.7', Model='76', Origin='US'),\n",
              " Row(Car='Renault 12tl', MPG='27.0', Cylinders='4', Displacement='101.0', Horsepower='83.00', Weight='2202.', Acceleration='15.3', Model='76', Origin='Europe'),\n",
              " Row(Car='Chevrolet Chevelle Malibu Classic', MPG='17.5', Cylinders='8', Displacement='305.0', Horsepower='140.0', Weight='4215.', Acceleration='13.0', Model='76', Origin='US'),\n",
              " Row(Car='Dodge Coronet Brougham', MPG='16.0', Cylinders='8', Displacement='318.0', Horsepower='150.0', Weight='4190.', Acceleration='13.0', Model='76', Origin='US'),\n",
              " Row(Car='AMC Matador', MPG='15.5', Cylinders='8', Displacement='304.0', Horsepower='120.0', Weight='3962.', Acceleration='13.9', Model='76', Origin='US'),\n",
              " Row(Car='Ford Gran Torino', MPG='14.5', Cylinders='8', Displacement='351.0', Horsepower='152.0', Weight='4215.', Acceleration='12.8', Model='76', Origin='US'),\n",
              " Row(Car='Plymouth Valiant', MPG='22.0', Cylinders='6', Displacement='225.0', Horsepower='100.0', Weight='3233.', Acceleration='15.4', Model='76', Origin='US'),\n",
              " Row(Car='Chevrolet Nova', MPG='22.0', Cylinders='6', Displacement='250.0', Horsepower='105.0', Weight='3353.', Acceleration='14.5', Model='76', Origin='US'),\n",
              " Row(Car='Ford Maverick', MPG='24.0', Cylinders='6', Displacement='200.0', Horsepower='81.00', Weight='3012.', Acceleration='17.6', Model='76', Origin='US'),\n",
              " Row(Car='AMC Hornet', MPG='22.5', Cylinders='6', Displacement='232.0', Horsepower='90.00', Weight='3085.', Acceleration='17.6', Model='76', Origin='US'),\n",
              " Row(Car='Chevrolet Chevette', MPG='29.0', Cylinders='4', Displacement='85.00', Horsepower='52.00', Weight='2035.', Acceleration='22.2', Model='76', Origin='US'),\n",
              " Row(Car='Chevrolet Woody', MPG='24.5', Cylinders='4', Displacement='98.00', Horsepower='60.00', Weight='2164.', Acceleration='22.1', Model='76', Origin='US'),\n",
              " Row(Car='Volkswagen Rabbit', MPG='29.0', Cylinders='4', Displacement='90.00', Horsepower='70.00', Weight='1937.', Acceleration='14.2', Model='76', Origin='Europe'),\n",
              " Row(Car='Honda Civic', MPG='33.0', Cylinders='4', Displacement='91.00', Horsepower='53.00', Weight='1795.', Acceleration='17.4', Model='76', Origin='Japan'),\n",
              " Row(Car='Dodge Aspen SE', MPG='20.0', Cylinders='6', Displacement='225.0', Horsepower='100.0', Weight='3651.', Acceleration='17.7', Model='76', Origin='US'),\n",
              " Row(Car='Ford Grenada ghia', MPG='18.0', Cylinders='6', Displacement='250.0', Horsepower='78.00', Weight='3574.', Acceleration='21.0', Model='76', Origin='US'),\n",
              " Row(Car='Pontiac Ventura SJ', MPG='18.5', Cylinders='6', Displacement='250.0', Horsepower='110.0', Weight='3645.', Acceleration='16.2', Model='76', Origin='US'),\n",
              " Row(Car='AMC Pacer d/l', MPG='17.5', Cylinders='6', Displacement='258.0', Horsepower='95.00', Weight='3193.', Acceleration='17.8', Model='76', Origin='US'),\n",
              " Row(Car='Volkswagen Rabbit', MPG='29.5', Cylinders='4', Displacement='97.00', Horsepower='71.00', Weight='1825.', Acceleration='12.2', Model='76', Origin='Europe'),\n",
              " Row(Car='Datsun B-210', MPG='32.0', Cylinders='4', Displacement='85.00', Horsepower='70.00', Weight='1990.', Acceleration='17.0', Model='76', Origin='Japan'),\n",
              " Row(Car='Toyota Corolla', MPG='28.0', Cylinders='4', Displacement='97.00', Horsepower='75.00', Weight='2155.', Acceleration='16.4', Model='76', Origin='Japan'),\n",
              " Row(Car='Ford Pinto', MPG='26.5', Cylinders='4', Displacement='140.0', Horsepower='72.00', Weight='2565.', Acceleration='13.6', Model='76', Origin='US'),\n",
              " Row(Car='Volvo 245', MPG='20.0', Cylinders='4', Displacement='130.0', Horsepower='102.0', Weight='3150.', Acceleration='15.7', Model='76', Origin='Europe'),\n",
              " Row(Car='Plymouth Volare Premier v8', MPG='13.0', Cylinders='8', Displacement='318.0', Horsepower='150.0', Weight='3940.', Acceleration='13.2', Model='76', Origin='US'),\n",
              " Row(Car='Peugeot 504', MPG='19.0', Cylinders='4', Displacement='120.0', Horsepower='88.00', Weight='3270.', Acceleration='21.9', Model='76', Origin='Europe'),\n",
              " Row(Car='Toyota Mark II', MPG='19.0', Cylinders='6', Displacement='156.0', Horsepower='108.0', Weight='2930.', Acceleration='15.5', Model='76', Origin='Japan'),\n",
              " Row(Car='Mercedes-Benz 280s', MPG='16.5', Cylinders='6', Displacement='168.0', Horsepower='120.0', Weight='3820.', Acceleration='16.7', Model='76', Origin='Europe'),\n",
              " Row(Car='Cadillac Seville', MPG='16.5', Cylinders='8', Displacement='350.0', Horsepower='180.0', Weight='4380.', Acceleration='12.1', Model='76', Origin='US'),\n",
              " Row(Car='Chevrolet C10', MPG='13.0', Cylinders='8', Displacement='350.0', Horsepower='145.0', Weight='4055.', Acceleration='12.0', Model='76', Origin='US'),\n",
              " Row(Car='Ford F108', MPG='13.0', Cylinders='8', Displacement='302.0', Horsepower='130.0', Weight='3870.', Acceleration='15.0', Model='76', Origin='US'),\n",
              " Row(Car='Dodge D100', MPG='13.0', Cylinders='8', Displacement='318.0', Horsepower='150.0', Weight='3755.', Acceleration='14.0', Model='76', Origin='US'),\n",
              " Row(Car='Honda Accord CVCC', MPG='31.5', Cylinders='4', Displacement='98.00', Horsepower='68.00', Weight='2045.', Acceleration='18.5', Model='77', Origin='Japan'),\n",
              " Row(Car='Buick Opel Isuzu Deluxe', MPG='30.0', Cylinders='4', Displacement='111.0', Horsepower='80.00', Weight='2155.', Acceleration='14.8', Model='77', Origin='US'),\n",
              " Row(Car='Renault 5 GTL', MPG='36.0', Cylinders='4', Displacement='79.00', Horsepower='58.00', Weight='1825.', Acceleration='18.6', Model='77', Origin='Europe'),\n",
              " Row(Car='Plymouth Arrow GS', MPG='25.5', Cylinders='4', Displacement='122.0', Horsepower='96.00', Weight='2300.', Acceleration='15.5', Model='77', Origin='US'),\n",
              " Row(Car='Datsun F-10 Hatchback', MPG='33.5', Cylinders='4', Displacement='85.00', Horsepower='70.00', Weight='1945.', Acceleration='16.8', Model='77', Origin='Japan'),\n",
              " Row(Car='Chevrolet Caprice Classic', MPG='17.5', Cylinders='8', Displacement='305.0', Horsepower='145.0', Weight='3880.', Acceleration='12.5', Model='77', Origin='US'),\n",
              " Row(Car='Oldsmobile Cutlass Supreme', MPG='17.0', Cylinders='8', Displacement='260.0', Horsepower='110.0', Weight='4060.', Acceleration='19.0', Model='77', Origin='US'),\n",
              " Row(Car='Dodge Monaco Brougham', MPG='15.5', Cylinders='8', Displacement='318.0', Horsepower='145.0', Weight='4140.', Acceleration='13.7', Model='77', Origin='US'),\n",
              " Row(Car='Mercury Cougar Brougham', MPG='15.0', Cylinders='8', Displacement='302.0', Horsepower='130.0', Weight='4295.', Acceleration='14.9', Model='77', Origin='US'),\n",
              " Row(Car='Chevrolet Concours', MPG='17.5', Cylinders='6', Displacement='250.0', Horsepower='110.0', Weight='3520.', Acceleration='16.4', Model='77', Origin='US'),\n",
              " Row(Car='Buick Skylark', MPG='20.5', Cylinders='6', Displacement='231.0', Horsepower='105.0', Weight='3425.', Acceleration='16.9', Model='77', Origin='US'),\n",
              " Row(Car='Plymouth Volare Custom', MPG='19.0', Cylinders='6', Displacement='225.0', Horsepower='100.0', Weight='3630.', Acceleration='17.7', Model='77', Origin='US'),\n",
              " Row(Car='Ford Grenada', MPG='18.5', Cylinders='6', Displacement='250.0', Horsepower='98.00', Weight='3525.', Acceleration='19.0', Model='77', Origin='US'),\n",
              " Row(Car='Pontiac Grand Prix LJ', MPG='16.0', Cylinders='8', Displacement='400.0', Horsepower='180.0', Weight='4220.', Acceleration='11.1', Model='77', Origin='US'),\n",
              " Row(Car='Chevrolet Monte Carlo Landau', MPG='15.5', Cylinders='8', Displacement='350.0', Horsepower='170.0', Weight='4165.', Acceleration='11.4', Model='77', Origin='US'),\n",
              " Row(Car='Chrysler Cordoba', MPG='15.5', Cylinders='8', Displacement='400.0', Horsepower='190.0', Weight='4325.', Acceleration='12.2', Model='77', Origin='US'),\n",
              " Row(Car='Ford Thunderbird', MPG='16.0', Cylinders='8', Displacement='351.0', Horsepower='149.0', Weight='4335.', Acceleration='14.5', Model='77', Origin='US'),\n",
              " Row(Car='Volkswagen Rabbit Custom', MPG='29.0', Cylinders='4', Displacement='97.00', Horsepower='78.00', Weight='1940.', Acceleration='14.5', Model='77', Origin='Europe'),\n",
              " Row(Car='Pontiac Sunbird Coupe', MPG='24.5', Cylinders='4', Displacement='151.0', Horsepower='88.00', Weight='2740.', Acceleration='16.0', Model='77', Origin='US'),\n",
              " Row(Car='Toyota Corolla Liftback', MPG='26.0', Cylinders='4', Displacement='97.00', Horsepower='75.00', Weight='2265.', Acceleration='18.2', Model='77', Origin='Japan'),\n",
              " Row(Car='Ford Mustang II 2+2', MPG='25.5', Cylinders='4', Displacement='140.0', Horsepower='89.00', Weight='2755.', Acceleration='15.8', Model='77', Origin='US'),\n",
              " Row(Car='Chevrolet Chevette', MPG='30.5', Cylinders='4', Displacement='98.00', Horsepower='63.00', Weight='2051.', Acceleration='17.0', Model='77', Origin='US'),\n",
              " Row(Car='Dodge Colt m/m', MPG='33.5', Cylinders='4', Displacement='98.00', Horsepower='83.00', Weight='2075.', Acceleration='15.9', Model='77', Origin='US'),\n",
              " Row(Car='Subaru DL', MPG='30.0', Cylinders='4', Displacement='97.00', Horsepower='67.00', Weight='1985.', Acceleration='16.4', Model='77', Origin='Japan'),\n",
              " Row(Car='Volkswagen Dasher', MPG='30.5', Cylinders='4', Displacement='97.00', Horsepower='78.00', Weight='2190.', Acceleration='14.1', Model='77', Origin='Europe'),\n",
              " Row(Car='Datsun 810', MPG='22.0', Cylinders='6', Displacement='146.0', Horsepower='97.00', Weight='2815.', Acceleration='14.5', Model='77', Origin='Japan'),\n",
              " Row(Car='BMW 320i', MPG='21.5', Cylinders='4', Displacement='121.0', Horsepower='110.0', Weight='2600.', Acceleration='12.8', Model='77', Origin='Europe'),\n",
              " Row(Car='Mazda RX-4', MPG='21.5', Cylinders='3', Displacement='80.00', Horsepower='110.0', Weight='2720.', Acceleration='13.5', Model='77', Origin='Japan'),\n",
              " Row(Car='Volkswagen Rabbit Custom Diesel', MPG='43.1', Cylinders='4', Displacement='90.00', Horsepower='48.00', Weight='1985.', Acceleration='21.5', Model='78', Origin='Europe'),\n",
              " Row(Car='Ford Fiesta', MPG='36.1', Cylinders='4', Displacement='98.00', Horsepower='66.00', Weight='1800.', Acceleration='14.4', Model='78', Origin='US'),\n",
              " Row(Car='Mazda GLC Deluxe', MPG='32.8', Cylinders='4', Displacement='78.00', Horsepower='52.00', Weight='1985.', Acceleration='19.4', Model='78', Origin='Japan'),\n",
              " Row(Car='Datsun B210 GX', MPG='39.4', Cylinders='4', Displacement='85.00', Horsepower='70.00', Weight='2070.', Acceleration='18.6', Model='78', Origin='Japan'),\n",
              " Row(Car='Honda Civic CVCC', MPG='36.1', Cylinders='4', Displacement='91.00', Horsepower='60.00', Weight='1800.', Acceleration='16.4', Model='78', Origin='Japan'),\n",
              " Row(Car='Oldsmobile Cutlass Salon Brougham', MPG='19.9', Cylinders='8', Displacement='260.0', Horsepower='110.0', Weight='3365.', Acceleration='15.5', Model='78', Origin='US'),\n",
              " Row(Car='Dodge Diplomat', MPG='19.4', Cylinders='8', Displacement='318.0', Horsepower='140.0', Weight='3735.', Acceleration='13.2', Model='78', Origin='US'),\n",
              " Row(Car='Mercury Monarch ghia', MPG='20.2', Cylinders='8', Displacement='302.0', Horsepower='139.0', Weight='3570.', Acceleration='12.8', Model='78', Origin='US'),\n",
              " Row(Car='Pontiac Phoenix LJ', MPG='19.2', Cylinders='6', Displacement='231.0', Horsepower='105.0', Weight='3535.', Acceleration='19.2', Model='78', Origin='US'),\n",
              " Row(Car='Chevrolet Malibu', MPG='20.5', Cylinders='6', Displacement='200.0', Horsepower='95.00', Weight='3155.', Acceleration='18.2', Model='78', Origin='US'),\n",
              " Row(Car='Ford Fairmont (auto)', MPG='20.2', Cylinders='6', Displacement='200.0', Horsepower='85.00', Weight='2965.', Acceleration='15.8', Model='78', Origin='US'),\n",
              " Row(Car='Ford Fairmont (man)', MPG='25.1', Cylinders='4', Displacement='140.0', Horsepower='88.00', Weight='2720.', Acceleration='15.4', Model='78', Origin='US'),\n",
              " Row(Car='Plymouth Volare', MPG='20.5', Cylinders='6', Displacement='225.0', Horsepower='100.0', Weight='3430.', Acceleration='17.2', Model='78', Origin='US'),\n",
              " Row(Car='AMC Concord', MPG='19.4', Cylinders='6', Displacement='232.0', Horsepower='90.00', Weight='3210.', Acceleration='17.2', Model='78', Origin='US'),\n",
              " Row(Car='Buick Century Special', MPG='20.6', Cylinders='6', Displacement='231.0', Horsepower='105.0', Weight='3380.', Acceleration='15.8', Model='78', Origin='US'),\n",
              " Row(Car='Mercury Zephyr', MPG='20.8', Cylinders='6', Displacement='200.0', Horsepower='85.00', Weight='3070.', Acceleration='16.7', Model='78', Origin='US'),\n",
              " Row(Car='Dodge Aspen', MPG='18.6', Cylinders='6', Displacement='225.0', Horsepower='110.0', Weight='3620.', Acceleration='18.7', Model='78', Origin='US'),\n",
              " Row(Car='AMC Concord d/l', MPG='18.1', Cylinders='6', Displacement='258.0', Horsepower='120.0', Weight='3410.', Acceleration='15.1', Model='78', Origin='US'),\n",
              " Row(Car='Chevrolet Monte Carlo Landau', MPG='19.2', Cylinders='8', Displacement='305.0', Horsepower='145.0', Weight='3425.', Acceleration='13.2', Model='78', Origin='US'),\n",
              " Row(Car='Buick Regal Sport Coupe (turbo)', MPG='17.7', Cylinders='6', Displacement='231.0', Horsepower='165.0', Weight='3445.', Acceleration='13.4', Model='78', Origin='US'),\n",
              " Row(Car='Ford Futura', MPG='18.1', Cylinders='8', Displacement='302.0', Horsepower='139.0', Weight='3205.', Acceleration='11.2', Model='78', Origin='US'),\n",
              " Row(Car='Dodge Magnum XE', MPG='17.5', Cylinders='8', Displacement='318.0', Horsepower='140.0', Weight='4080.', Acceleration='13.7', Model='78', Origin='US'),\n",
              " Row(Car='Chevrolet Chevette', MPG='30.0', Cylinders='4', Displacement='98.00', Horsepower='68.00', Weight='2155.', Acceleration='16.5', Model='78', Origin='US'),\n",
              " Row(Car='Toyota Corolla', MPG='27.5', Cylinders='4', Displacement='134.0', Horsepower='95.00', Weight='2560.', Acceleration='14.2', Model='78', Origin='Japan'),\n",
              " Row(Car='Datsun 510', MPG='27.2', Cylinders='4', Displacement='119.0', Horsepower='97.00', Weight='2300.', Acceleration='14.7', Model='78', Origin='Japan'),\n",
              " Row(Car='Dodge Omni', MPG='30.9', Cylinders='4', Displacement='105.0', Horsepower='75.00', Weight='2230.', Acceleration='14.5', Model='78', Origin='US'),\n",
              " Row(Car='Toyota Celica GT Liftback', MPG='21.1', Cylinders='4', Displacement='134.0', Horsepower='95.00', Weight='2515.', Acceleration='14.8', Model='78', Origin='Japan'),\n",
              " Row(Car='Plymouth Sapporo', MPG='23.2', Cylinders='4', Displacement='156.0', Horsepower='105.0', Weight='2745.', Acceleration='16.7', Model='78', Origin='US'),\n",
              " Row(Car='Oldsmobile Starfire SX', MPG='23.8', Cylinders='4', Displacement='151.0', Horsepower='85.00', Weight='2855.', Acceleration='17.6', Model='78', Origin='US'),\n",
              " Row(Car='Datsun 200-SX', MPG='23.9', Cylinders='4', Displacement='119.0', Horsepower='97.00', Weight='2405.', Acceleration='14.9', Model='78', Origin='Japan'),\n",
              " Row(Car='Audi 5000', MPG='20.3', Cylinders='5', Displacement='131.0', Horsepower='103.0', Weight='2830.', Acceleration='15.9', Model='78', Origin='Europe'),\n",
              " Row(Car='Volvo 264gl', MPG='17.0', Cylinders='6', Displacement='163.0', Horsepower='125.0', Weight='3140.', Acceleration='13.6', Model='78', Origin='Europe'),\n",
              " Row(Car='Saab 99gle', MPG='21.6', Cylinders='4', Displacement='121.0', Horsepower='115.0', Weight='2795.', Acceleration='15.7', Model='78', Origin='Europe'),\n",
              " Row(Car='Peugeot 604sl', MPG='16.2', Cylinders='6', Displacement='163.0', Horsepower='133.0', Weight='3410.', Acceleration='15.8', Model='78', Origin='Europe'),\n",
              " Row(Car='Volkswagen Scirocco', MPG='31.5', Cylinders='4', Displacement='89.00', Horsepower='71.00', Weight='1990.', Acceleration='14.9', Model='78', Origin='Europe'),\n",
              " Row(Car='Honda Accord LX', MPG='29.5', Cylinders='4', Displacement='98.00', Horsepower='68.00', Weight='2135.', Acceleration='16.6', Model='78', Origin='Japan'),\n",
              " Row(Car='Pontiac Lemans V6', MPG='21.5', Cylinders='6', Displacement='231.0', Horsepower='115.0', Weight='3245.', Acceleration='15.4', Model='79', Origin='US'),\n",
              " Row(Car='Mercury Zephyr 6', MPG='19.8', Cylinders='6', Displacement='200.0', Horsepower='85.00', Weight='2990.', Acceleration='18.2', Model='79', Origin='US'),\n",
              " Row(Car='Ford Fairmont 4', MPG='22.3', Cylinders='4', Displacement='140.0', Horsepower='88.00', Weight='2890.', Acceleration='17.3', Model='79', Origin='US'),\n",
              " Row(Car='AMC Concord DL 6', MPG='20.2', Cylinders='6', Displacement='232.0', Horsepower='90.00', Weight='3265.', Acceleration='18.2', Model='79', Origin='US'),\n",
              " Row(Car='Dodge Aspen 6', MPG='20.6', Cylinders='6', Displacement='225.0', Horsepower='110.0', Weight='3360.', Acceleration='16.6', Model='79', Origin='US'),\n",
              " Row(Car='Chevrolet Caprice Classic', MPG='17.0', Cylinders='8', Displacement='305.0', Horsepower='130.0', Weight='3840.', Acceleration='15.4', Model='79', Origin='US'),\n",
              " Row(Car='Ford LTD Landau', MPG='17.6', Cylinders='8', Displacement='302.0', Horsepower='129.0', Weight='3725.', Acceleration='13.4', Model='79', Origin='US'),\n",
              " Row(Car='Mercury Grand Marquis', MPG='16.5', Cylinders='8', Displacement='351.0', Horsepower='138.0', Weight='3955.', Acceleration='13.2', Model='79', Origin='US'),\n",
              " Row(Car='Dodge St. Regis', MPG='18.2', Cylinders='8', Displacement='318.0', Horsepower='135.0', Weight='3830.', Acceleration='15.2', Model='79', Origin='US'),\n",
              " Row(Car='Buick Estate Wagon (sw)', MPG='16.9', Cylinders='8', Displacement='350.0', Horsepower='155.0', Weight='4360.', Acceleration='14.9', Model='79', Origin='US'),\n",
              " Row(Car='Ford Country Squire (sw)', MPG='15.5', Cylinders='8', Displacement='351.0', Horsepower='142.0', Weight='4054.', Acceleration='14.3', Model='79', Origin='US'),\n",
              " Row(Car='Chevrolet Malibu Classic (sw)', MPG='19.2', Cylinders='8', Displacement='267.0', Horsepower='125.0', Weight='3605.', Acceleration='15.0', Model='79', Origin='US'),\n",
              " Row(Car='Chrysler Lebaron Town @ Country (sw)', MPG='18.5', Cylinders='8', Displacement='360.0', Horsepower='150.0', Weight='3940.', Acceleration='13.0', Model='79', Origin='US'),\n",
              " Row(Car='Volkswagen Rabbit Custom', MPG='31.9', Cylinders='4', Displacement='89.00', Horsepower='71.00', Weight='1925.', Acceleration='14.0', Model='79', Origin='Europe'),\n",
              " Row(Car='Mazda GLC Deluxe', MPG='34.1', Cylinders='4', Displacement='86.00', Horsepower='65.00', Weight='1975.', Acceleration='15.2', Model='79', Origin='Japan'),\n",
              " Row(Car='Dodge Colt Hatchback Custom', MPG='35.7', Cylinders='4', Displacement='98.00', Horsepower='80.00', Weight='1915.', Acceleration='14.4', Model='79', Origin='US'),\n",
              " Row(Car='AMC Spirit DL', MPG='27.4', Cylinders='4', Displacement='121.0', Horsepower='80.00', Weight='2670.', Acceleration='15.0', Model='79', Origin='US'),\n",
              " Row(Car='Mercedes Benz 300d', MPG='25.4', Cylinders='5', Displacement='183.0', Horsepower='77.00', Weight='3530.', Acceleration='20.1', Model='79', Origin='Europe'),\n",
              " Row(Car='Cadillac Eldorado', MPG='23.0', Cylinders='8', Displacement='350.0', Horsepower='125.0', Weight='3900.', Acceleration='17.4', Model='79', Origin='US'),\n",
              " Row(Car='Peugeot 504', MPG='27.2', Cylinders='4', Displacement='141.0', Horsepower='71.00', Weight='3190.', Acceleration='24.8', Model='79', Origin='Europe'),\n",
              " Row(Car='Oldsmobile Cutlass Salon Brougham', MPG='23.9', Cylinders='8', Displacement='260.0', Horsepower='90.00', Weight='3420.', Acceleration='22.2', Model='79', Origin='US'),\n",
              " Row(Car='Plymouth Horizon', MPG='34.2', Cylinders='4', Displacement='105.0', Horsepower='70.00', Weight='2200.', Acceleration='13.2', Model='79', Origin='US'),\n",
              " Row(Car='Plymouth Horizon TC3', MPG='34.5', Cylinders='4', Displacement='105.0', Horsepower='70.00', Weight='2150.', Acceleration='14.9', Model='79', Origin='US'),\n",
              " Row(Car='Datsun 210', MPG='31.8', Cylinders='4', Displacement='85.00', Horsepower='65.00', Weight='2020.', Acceleration='19.2', Model='79', Origin='Japan'),\n",
              " Row(Car='Fiat Strada Custom', MPG='37.3', Cylinders='4', Displacement='91.00', Horsepower='69.00', Weight='2130.', Acceleration='14.7', Model='79', Origin='Europe'),\n",
              " Row(Car='Buick Skylark Limited', MPG='28.4', Cylinders='4', Displacement='151.0', Horsepower='90.00', Weight='2670.', Acceleration='16.0', Model='79', Origin='US'),\n",
              " Row(Car='Chevrolet Citation', MPG='28.8', Cylinders='6', Displacement='173.0', Horsepower='115.0', Weight='2595.', Acceleration='11.3', Model='79', Origin='US'),\n",
              " Row(Car='Oldsmobile Omega Brougham', MPG='26.8', Cylinders='6', Displacement='173.0', Horsepower='115.0', Weight='2700.', Acceleration='12.9', Model='79', Origin='US'),\n",
              " Row(Car='Pontiac Phoenix', MPG='33.5', Cylinders='4', Displacement='151.0', Horsepower='90.00', Weight='2556.', Acceleration='13.2', Model='79', Origin='US'),\n",
              " Row(Car='Volkswagen Rabbit', MPG='41.5', Cylinders='4', Displacement='98.00', Horsepower='76.00', Weight='2144.', Acceleration='14.7', Model='80', Origin='Europe'),\n",
              " Row(Car='Toyota Corolla Tercel', MPG='38.1', Cylinders='4', Displacement='89.00', Horsepower='60.00', Weight='1968.', Acceleration='18.8', Model='80', Origin='Japan'),\n",
              " Row(Car='Chevrolet Chevette', MPG='32.1', Cylinders='4', Displacement='98.00', Horsepower='70.00', Weight='2120.', Acceleration='15.5', Model='80', Origin='US'),\n",
              " Row(Car='Datsun 310', MPG='37.2', Cylinders='4', Displacement='86.00', Horsepower='65.00', Weight='2019.', Acceleration='16.4', Model='80', Origin='Japan'),\n",
              " Row(Car='Chevrolet Citation', MPG='28.0', Cylinders='4', Displacement='151.0', Horsepower='90.00', Weight='2678.', Acceleration='16.5', Model='80', Origin='US'),\n",
              " Row(Car='Ford Fairmont', MPG='26.4', Cylinders='4', Displacement='140.0', Horsepower='88.00', Weight='2870.', Acceleration='18.1', Model='80', Origin='US'),\n",
              " Row(Car='AMC Concord', MPG='24.3', Cylinders='4', Displacement='151.0', Horsepower='90.00', Weight='3003.', Acceleration='20.1', Model='80', Origin='US'),\n",
              " Row(Car='Dodge Aspen', MPG='19.1', Cylinders='6', Displacement='225.0', Horsepower='90.00', Weight='3381.', Acceleration='18.7', Model='80', Origin='US'),\n",
              " Row(Car='Audi 4000', MPG='34.3', Cylinders='4', Displacement='97.00', Horsepower='78.00', Weight='2188.', Acceleration='15.8', Model='80', Origin='Europe'),\n",
              " Row(Car='Toyota Corolla Liftback', MPG='29.8', Cylinders='4', Displacement='134.0', Horsepower='90.00', Weight='2711.', Acceleration='15.5', Model='80', Origin='Japan'),\n",
              " Row(Car='Mazda 626', MPG='31.3', Cylinders='4', Displacement='120.0', Horsepower='75.00', Weight='2542.', Acceleration='17.5', Model='80', Origin='Japan'),\n",
              " Row(Car='Datsun 510 Hatchback', MPG='37.0', Cylinders='4', Displacement='119.0', Horsepower='92.00', Weight='2434.', Acceleration='15.0', Model='80', Origin='Japan'),\n",
              " Row(Car='Toyota Corolla', MPG='32.2', Cylinders='4', Displacement='108.0', Horsepower='75.00', Weight='2265.', Acceleration='15.2', Model='80', Origin='Japan'),\n",
              " Row(Car='Mazda GLC', MPG='46.6', Cylinders='4', Displacement='86.00', Horsepower='65.00', Weight='2110.', Acceleration='17.9', Model='80', Origin='Japan'),\n",
              " Row(Car='Dodge Colt', MPG='27.9', Cylinders='4', Displacement='156.0', Horsepower='105.0', Weight='2800.', Acceleration='14.4', Model='80', Origin='US'),\n",
              " Row(Car='Datsun 210', MPG='40.8', Cylinders='4', Displacement='85.00', Horsepower='65.00', Weight='2110.', Acceleration='19.2', Model='80', Origin='Japan'),\n",
              " Row(Car='Volkswagen Rabbit C (Diesel)', MPG='44.3', Cylinders='4', Displacement='90.00', Horsepower='48.00', Weight='2085.', Acceleration='21.7', Model='80', Origin='Europe'),\n",
              " Row(Car='Volkswagen Dasher (diesel)', MPG='43.4', Cylinders='4', Displacement='90.00', Horsepower='48.00', Weight='2335.', Acceleration='23.7', Model='80', Origin='Europe'),\n",
              " Row(Car='Audi 5000s (diesel)', MPG='36.4', Cylinders='5', Displacement='121.0', Horsepower='67.00', Weight='2950.', Acceleration='19.9', Model='80', Origin='Europe'),\n",
              " Row(Car='Mercedes-Benz 240d', MPG='30.0', Cylinders='4', Displacement='146.0', Horsepower='67.00', Weight='3250.', Acceleration='21.8', Model='80', Origin='Europe'),\n",
              " Row(Car='Honda Civic 1500 gl', MPG='44.6', Cylinders='4', Displacement='91.00', Horsepower='67.00', Weight='1850.', Acceleration='13.8', Model='80', Origin='Japan'),\n",
              " Row(Car='Renault Lecar Deluxe', MPG='40.9', Cylinders='4', Displacement='85.00', Horsepower='0', Weight='1835.', Acceleration='17.3', Model='80', Origin='Europe'),\n",
              " Row(Car='Subaru DL', MPG='33.8', Cylinders='4', Displacement='97.00', Horsepower='67.00', Weight='2145.', Acceleration='18.0', Model='80', Origin='Japan'),\n",
              " Row(Car='Volkswagen Rabbit', MPG='29.8', Cylinders='4', Displacement='89.00', Horsepower='62.00', Weight='1845.', Acceleration='15.3', Model='80', Origin='Europe'),\n",
              " Row(Car='Datsun 280-ZX', MPG='32.7', Cylinders='6', Displacement='168.0', Horsepower='132.0', Weight='2910.', Acceleration='11.4', Model='80', Origin='Japan'),\n",
              " Row(Car='Mazda RX-7 GS', MPG='23.7', Cylinders='3', Displacement='70.00', Horsepower='100.0', Weight='2420.', Acceleration='12.5', Model='80', Origin='Japan'),\n",
              " Row(Car='Triumph TR7 Coupe', MPG='35.0', Cylinders='4', Displacement='122.0', Horsepower='88.00', Weight='2500.', Acceleration='15.1', Model='80', Origin='Europe'),\n",
              " Row(Car='Ford Mustang Cobra', MPG='23.6', Cylinders='4', Displacement='140.0', Horsepower='0', Weight='2905.', Acceleration='14.3', Model='80', Origin='US'),\n",
              " Row(Car='Honda Accord', MPG='32.4', Cylinders='4', Displacement='107.0', Horsepower='72.00', Weight='2290.', Acceleration='17.0', Model='80', Origin='Japan'),\n",
              " Row(Car='Plymouth Reliant', MPG='27.2', Cylinders='4', Displacement='135.0', Horsepower='84.00', Weight='2490.', Acceleration='15.7', Model='81', Origin='US'),\n",
              " Row(Car='Buick Skylark', MPG='26.6', Cylinders='4', Displacement='151.0', Horsepower='84.00', Weight='2635.', Acceleration='16.4', Model='81', Origin='US'),\n",
              " Row(Car='Dodge Aries Wagon (sw)', MPG='25.8', Cylinders='4', Displacement='156.0', Horsepower='92.00', Weight='2620.', Acceleration='14.4', Model='81', Origin='US'),\n",
              " Row(Car='Chevrolet Citation', MPG='23.5', Cylinders='6', Displacement='173.0', Horsepower='110.0', Weight='2725.', Acceleration='12.6', Model='81', Origin='US'),\n",
              " Row(Car='Plymouth Reliant', MPG='30.0', Cylinders='4', Displacement='135.0', Horsepower='84.00', Weight='2385.', Acceleration='12.9', Model='81', Origin='US'),\n",
              " Row(Car='Toyota Starlet', MPG='39.1', Cylinders='4', Displacement='79.00', Horsepower='58.00', Weight='1755.', Acceleration='16.9', Model='81', Origin='Japan'),\n",
              " Row(Car='Plymouth Champ', MPG='39.0', Cylinders='4', Displacement='86.00', Horsepower='64.00', Weight='1875.', Acceleration='16.4', Model='81', Origin='US'),\n",
              " Row(Car='Honda Civic 1300', MPG='35.1', Cylinders='4', Displacement='81.00', Horsepower='60.00', Weight='1760.', Acceleration='16.1', Model='81', Origin='Japan'),\n",
              " Row(Car='Subaru', MPG='32.3', Cylinders='4', Displacement='97.00', Horsepower='67.00', Weight='2065.', Acceleration='17.8', Model='81', Origin='Japan'),\n",
              " Row(Car='Datsun 210 MPG', MPG='37.0', Cylinders='4', Displacement='85.00', Horsepower='65.00', Weight='1975.', Acceleration='19.4', Model='81', Origin='Japan'),\n",
              " Row(Car='Toyota Tercel', MPG='37.7', Cylinders='4', Displacement='89.00', Horsepower='62.00', Weight='2050.', Acceleration='17.3', Model='81', Origin='Japan'),\n",
              " Row(Car='Mazda GLC 4', MPG='34.1', Cylinders='4', Displacement='91.00', Horsepower='68.00', Weight='1985.', Acceleration='16.0', Model='81', Origin='Japan'),\n",
              " Row(Car='Plymouth Horizon 4', MPG='34.7', Cylinders='4', Displacement='105.0', Horsepower='63.00', Weight='2215.', Acceleration='14.9', Model='81', Origin='US'),\n",
              " Row(Car='Ford Escort 4W', MPG='34.4', Cylinders='4', Displacement='98.00', Horsepower='65.00', Weight='2045.', Acceleration='16.2', Model='81', Origin='US'),\n",
              " Row(Car='Ford Escort 2H', MPG='29.9', Cylinders='4', Displacement='98.00', Horsepower='65.00', Weight='2380.', Acceleration='20.7', Model='81', Origin='US'),\n",
              " Row(Car='Volkswagen Jetta', MPG='33.0', Cylinders='4', Displacement='105.0', Horsepower='74.00', Weight='2190.', Acceleration='14.2', Model='81', Origin='Europe'),\n",
              " Row(Car='Renault 18i', MPG='34.5', Cylinders='4', Displacement='100.0', Horsepower='0', Weight='2320.', Acceleration='15.8', Model='81', Origin='Europe'),\n",
              " Row(Car='Honda Prelude', MPG='33.7', Cylinders='4', Displacement='107.0', Horsepower='75.00', Weight='2210.', Acceleration='14.4', Model='81', Origin='Japan'),\n",
              " Row(Car='Toyota Corolla', MPG='32.4', Cylinders='4', Displacement='108.0', Horsepower='75.00', Weight='2350.', Acceleration='16.8', Model='81', Origin='Japan'),\n",
              " Row(Car='Datsun 200SX', MPG='32.9', Cylinders='4', Displacement='119.0', Horsepower='100.0', Weight='2615.', Acceleration='14.8', Model='81', Origin='Japan'),\n",
              " Row(Car='Mazda 626', MPG='31.6', Cylinders='4', Displacement='120.0', Horsepower='74.00', Weight='2635.', Acceleration='18.3', Model='81', Origin='Japan'),\n",
              " Row(Car='Peugeot 505s Turbo Diesel', MPG='28.1', Cylinders='4', Displacement='141.0', Horsepower='80.00', Weight='3230.', Acceleration='20.4', Model='81', Origin='Europe'),\n",
              " Row(Car='Saab 900s', MPG='0', Cylinders='4', Displacement='121.0', Horsepower='110.0', Weight='2800.', Acceleration='15.4', Model='81', Origin='Europe'),\n",
              " Row(Car='Volvo Diesel', MPG='30.7', Cylinders='6', Displacement='145.0', Horsepower='76.00', Weight='3160.', Acceleration='19.6', Model='81', Origin='Europe'),\n",
              " Row(Car='Toyota Cressida', MPG='25.4', Cylinders='6', Displacement='168.0', Horsepower='116.0', Weight='2900.', Acceleration='12.6', Model='81', Origin='Japan'),\n",
              " Row(Car='Datsun 810 Maxima', MPG='24.2', Cylinders='6', Displacement='146.0', Horsepower='120.0', Weight='2930.', Acceleration='13.8', Model='81', Origin='Japan'),\n",
              " Row(Car='Buick Century', MPG='22.4', Cylinders='6', Displacement='231.0', Horsepower='110.0', Weight='3415.', Acceleration='15.8', Model='81', Origin='US'),\n",
              " Row(Car='Oldsmobile Cutlass LS', MPG='26.6', Cylinders='8', Displacement='350.0', Horsepower='105.0', Weight='3725.', Acceleration='19.0', Model='81', Origin='US'),\n",
              " Row(Car='Ford Grenada gl', MPG='20.2', Cylinders='6', Displacement='200.0', Horsepower='88.00', Weight='3060.', Acceleration='17.1', Model='81', Origin='US'),\n",
              " Row(Car='Chrysler Lebaron Salon', MPG='17.6', Cylinders='6', Displacement='225.0', Horsepower='85.00', Weight='3465.', Acceleration='16.6', Model='81', Origin='US'),\n",
              " Row(Car='Chevrolet Cavalier', MPG='28.0', Cylinders='4', Displacement='112.0', Horsepower='88.00', Weight='2605.', Acceleration='19.6', Model='82', Origin='US'),\n",
              " Row(Car='Chevrolet Cavalier Wagon', MPG='27.0', Cylinders='4', Displacement='112.0', Horsepower='88.00', Weight='2640.', Acceleration='18.6', Model='82', Origin='US'),\n",
              " Row(Car='Chevrolet Cavalier 2-door', MPG='34.0', Cylinders='4', Displacement='112.0', Horsepower='88.00', Weight='2395.', Acceleration='18.0', Model='82', Origin='US'),\n",
              " Row(Car='Pontiac J2000 SE Hatchback', MPG='31.0', Cylinders='4', Displacement='112.0', Horsepower='85.00', Weight='2575.', Acceleration='16.2', Model='82', Origin='US'),\n",
              " Row(Car='Dodge Aries SE', MPG='29.0', Cylinders='4', Displacement='135.0', Horsepower='84.00', Weight='2525.', Acceleration='16.0', Model='82', Origin='US'),\n",
              " Row(Car='Pontiac Phoenix', MPG='27.0', Cylinders='4', Displacement='151.0', Horsepower='90.00', Weight='2735.', Acceleration='18.0', Model='82', Origin='US'),\n",
              " Row(Car='Ford Fairmont Futura', MPG='24.0', Cylinders='4', Displacement='140.0', Horsepower='92.00', Weight='2865.', Acceleration='16.4', Model='82', Origin='US'),\n",
              " Row(Car='AMC Concord DL', MPG='23.0', Cylinders='4', Displacement='151.0', Horsepower='0', Weight='3035.', Acceleration='20.5', Model='82', Origin='US'),\n",
              " Row(Car='Volkswagen Rabbit l', MPG='36.0', Cylinders='4', Displacement='105.0', Horsepower='74.00', Weight='1980.', Acceleration='15.3', Model='82', Origin='Europe'),\n",
              " Row(Car='Mazda GLC Custom l', MPG='37.0', Cylinders='4', Displacement='91.00', Horsepower='68.00', Weight='2025.', Acceleration='18.2', Model='82', Origin='Japan'),\n",
              " Row(Car='Mazda GLC Custom', MPG='31.0', Cylinders='4', Displacement='91.00', Horsepower='68.00', Weight='1970.', Acceleration='17.6', Model='82', Origin='Japan'),\n",
              " Row(Car='Plymouth Horizon Miser', MPG='38.0', Cylinders='4', Displacement='105.0', Horsepower='63.00', Weight='2125.', Acceleration='14.7', Model='82', Origin='US'),\n",
              " Row(Car='Mercury Lynx l', MPG='36.0', Cylinders='4', Displacement='98.00', Horsepower='70.00', Weight='2125.', Acceleration='17.3', Model='82', Origin='US'),\n",
              " Row(Car='Nissan Stanza XE', MPG='36.0', Cylinders='4', Displacement='120.0', Horsepower='88.00', Weight='2160.', Acceleration='14.5', Model='82', Origin='Japan'),\n",
              " Row(Car='Honda Accord', MPG='36.0', Cylinders='4', Displacement='107.0', Horsepower='75.00', Weight='2205.', Acceleration='14.5', Model='82', Origin='Japan'),\n",
              " Row(Car='Toyota Corolla', MPG='34.0', Cylinders='4', Displacement='108.0', Horsepower='70.00', Weight='2245', Acceleration='16.9', Model='82', Origin='Japan'),\n",
              " Row(Car='Honda Civic', MPG='38.0', Cylinders='4', Displacement='91.00', Horsepower='67.00', Weight='1965.', Acceleration='15.0', Model='82', Origin='Japan'),\n",
              " Row(Car='Honda Civic (auto)', MPG='32.0', Cylinders='4', Displacement='91.00', Horsepower='67.00', Weight='1965.', Acceleration='15.7', Model='82', Origin='Japan'),\n",
              " Row(Car='Datsun 310 GX', MPG='38.0', Cylinders='4', Displacement='91.00', Horsepower='67.00', Weight='1995.', Acceleration='16.2', Model='82', Origin='Japan'),\n",
              " Row(Car='Buick Century Limited', MPG='25.0', Cylinders='6', Displacement='181.0', Horsepower='110.0', Weight='2945.', Acceleration='16.4', Model='82', Origin='US'),\n",
              " Row(Car='Oldsmobile Cutlass Ciera (diesel)', MPG='38.0', Cylinders='6', Displacement='262.0', Horsepower='85.00', Weight='3015.', Acceleration='17.0', Model='82', Origin='US'),\n",
              " Row(Car='Chrysler Lebaron Medallion', MPG='26.0', Cylinders='4', Displacement='156.0', Horsepower='92.00', Weight='2585.', Acceleration='14.5', Model='82', Origin='US'),\n",
              " Row(Car='Ford Grenada l', MPG='22.0', Cylinders='6', Displacement='232.0', Horsepower='112.0', Weight='2835', Acceleration='14.7', Model='82', Origin='US'),\n",
              " Row(Car='Toyota Celica GT', MPG='32.0', Cylinders='4', Displacement='144.0', Horsepower='96.00', Weight='2665.', Acceleration='13.9', Model='82', Origin='Japan'),\n",
              " Row(Car='Dodge Charger 2.2', MPG='36.0', Cylinders='4', Displacement='135.0', Horsepower='84.00', Weight='2370.', Acceleration='13.0', Model='82', Origin='US'),\n",
              " Row(Car='Chevrolet Camaro', MPG='27.0', Cylinders='4', Displacement='151.0', Horsepower='90.00', Weight='2950.', Acceleration='17.3', Model='82', Origin='US'),\n",
              " Row(Car='Ford Mustang GL', MPG='27.0', Cylinders='4', Displacement='140.0', Horsepower='86.00', Weight='2790.', Acceleration='15.6', Model='82', Origin='US'),\n",
              " Row(Car='Volkswagen Pickup', MPG='44.0', Cylinders='4', Displacement='97.00', Horsepower='52.00', Weight='2130.', Acceleration='24.6', Model='82', Origin='Europe'),\n",
              " Row(Car='Dodge Rampage', MPG='32.0', Cylinders='4', Displacement='135.0', Horsepower='84.00', Weight='2295.', Acceleration='11.6', Model='82', Origin='US'),\n",
              " Row(Car='Ford Ranger', MPG='28.0', Cylinders='4', Displacement='120.0', Horsepower='79.00', Weight='2625.', Acceleration='18.6', Model='82', Origin='US'),\n",
              " Row(Car='Chevy S-10', MPG='31.0', Cylinders='4', Displacement='119.0', Horsepower='82.00', Weight='2720.', Acceleration='19.4', Model='82', Origin='US')]"
            ]
          },
          "metadata": {},
          "execution_count": 6
        }
      ]
    },
    {
      "cell_type": "markdown",
      "metadata": {
        "id": "eUazdCEmu_sp"
      },
      "source": [
        "<a id='viewing-dataframe-columns'></a>\n",
        "### Viewing Dataframe Columns"
      ]
    },
    {
      "cell_type": "code",
      "metadata": {
        "colab": {
          "base_uri": "https://localhost:8080/"
        },
        "id": "9o7jsazcu-13",
        "outputId": "cdbb799a-a8b0-4165-adea-a6a288ddf848"
      },
      "source": [
        "df.columns"
      ],
      "execution_count": 7,
      "outputs": [
        {
          "output_type": "execute_result",
          "data": {
            "text/plain": [
              "['Car',\n",
              " 'MPG',\n",
              " 'Cylinders',\n",
              " 'Displacement',\n",
              " 'Horsepower',\n",
              " 'Weight',\n",
              " 'Acceleration',\n",
              " 'Model',\n",
              " 'Origin']"
            ]
          },
          "metadata": {},
          "execution_count": 7
        }
      ]
    },
    {
      "cell_type": "markdown",
      "metadata": {
        "id": "3lfS2DhHuhPl"
      },
      "source": [
        "<a id='dataframe-schema'></a>\n",
        "### Dataframe Schema"
      ]
    },
    {
      "cell_type": "markdown",
      "metadata": {
        "id": "-xX7hRoW_cXY"
      },
      "source": [
        "There are two methods commonly used to view the data types of a dataframe:"
      ]
    },
    {
      "cell_type": "code",
      "metadata": {
        "id": "w6qwTjGsNxrw",
        "colab": {
          "base_uri": "https://localhost:8080/"
        },
        "outputId": "2afa45ef-3b9a-420d-8dba-fe0e44c8f3ff"
      },
      "source": [
        "df.dtypes"
      ],
      "execution_count": 8,
      "outputs": [
        {
          "output_type": "execute_result",
          "data": {
            "text/plain": [
              "[('Car', 'string'),\n",
              " ('MPG', 'string'),\n",
              " ('Cylinders', 'string'),\n",
              " ('Displacement', 'string'),\n",
              " ('Horsepower', 'string'),\n",
              " ('Weight', 'string'),\n",
              " ('Acceleration', 'string'),\n",
              " ('Model', 'string'),\n",
              " ('Origin', 'string')]"
            ]
          },
          "metadata": {},
          "execution_count": 8
        }
      ]
    },
    {
      "cell_type": "code",
      "metadata": {
        "id": "CCGTFlCWRPw4",
        "colab": {
          "base_uri": "https://localhost:8080/"
        },
        "outputId": "b9ce6f79-87e5-4769-d9d2-c3aa5c38e256"
      },
      "source": [
        "df.printSchema()"
      ],
      "execution_count": 9,
      "outputs": [
        {
          "output_type": "stream",
          "name": "stdout",
          "text": [
            "root\n",
            " |-- Car: string (nullable = true)\n",
            " |-- MPG: string (nullable = true)\n",
            " |-- Cylinders: string (nullable = true)\n",
            " |-- Displacement: string (nullable = true)\n",
            " |-- Horsepower: string (nullable = true)\n",
            " |-- Weight: string (nullable = true)\n",
            " |-- Acceleration: string (nullable = true)\n",
            " |-- Model: string (nullable = true)\n",
            " |-- Origin: string (nullable = true)\n",
            "\n"
          ]
        }
      ]
    },
    {
      "cell_type": "markdown",
      "metadata": {
        "id": "RXx5ATpZ9oor"
      },
      "source": [
        "<a id='implicit-schema-inference'></a>\n",
        "#### Inferring Schema Implicitly"
      ]
    },
    {
      "cell_type": "markdown",
      "metadata": {
        "id": "7TeflTUp8l29"
      },
      "source": [
        "We can use the parameter `inferschema=true` to infer the input schema automatically while loading the data. An example is shown below:"
      ]
    },
    {
      "cell_type": "code",
      "metadata": {
        "colab": {
          "base_uri": "https://localhost:8080/"
        },
        "id": "Qym5MjCi894N",
        "outputId": "76e71eec-d332-41bf-a1b1-11a1bddb326e"
      },
      "source": [
        "df = spark.read.csv('cars.csv', header=True, sep=\";\", inferSchema=True)\n",
        "df.printSchema()"
      ],
      "execution_count": 10,
      "outputs": [
        {
          "output_type": "stream",
          "name": "stdout",
          "text": [
            "root\n",
            " |-- Car: string (nullable = true)\n",
            " |-- MPG: double (nullable = true)\n",
            " |-- Cylinders: integer (nullable = true)\n",
            " |-- Displacement: double (nullable = true)\n",
            " |-- Horsepower: double (nullable = true)\n",
            " |-- Weight: decimal(4,0) (nullable = true)\n",
            " |-- Acceleration: double (nullable = true)\n",
            " |-- Model: integer (nullable = true)\n",
            " |-- Origin: string (nullable = true)\n",
            "\n"
          ]
        }
      ]
    },
    {
      "cell_type": "markdown",
      "metadata": {
        "id": "G6jTedYd-Dhb"
      },
      "source": [
        "As you can see, the datatype has been infered automatically spark with even the correct precison for decimal type. A problem that might arise here is that sometimes, when you have to read multiple files with different schemas in different files, there might be an issue with implicit inferring leading to null values in some columns. Therefore, let us also see how to define schemas explicitly."
      ]
    },
    {
      "cell_type": "markdown",
      "metadata": {
        "id": "yTVjYqeRuxWn"
      },
      "source": [
        "<a id='explicit-schema-inference'></a>\n",
        "#### Defining Schema Explicitly"
      ]
    },
    {
      "cell_type": "code",
      "metadata": {
        "id": "xpsaQ4JMRUiS",
        "colab": {
          "base_uri": "https://localhost:8080/"
        },
        "outputId": "b0f286bf-900a-4344-b17a-d6aaaff4917b"
      },
      "source": [
        "from pyspark.sql.types import *\n",
        "df.columns"
      ],
      "execution_count": 11,
      "outputs": [
        {
          "output_type": "execute_result",
          "data": {
            "text/plain": [
              "['Car',\n",
              " 'MPG',\n",
              " 'Cylinders',\n",
              " 'Displacement',\n",
              " 'Horsepower',\n",
              " 'Weight',\n",
              " 'Acceleration',\n",
              " 'Model',\n",
              " 'Origin']"
            ]
          },
          "metadata": {},
          "execution_count": 11
        }
      ]
    },
    {
      "cell_type": "code",
      "metadata": {
        "id": "ik62VX34SlFh"
      },
      "source": [
        "# Creating a list of the schema in the format column_name, data_type\n",
        "labels = [\n",
        "     ('Car',StringType()),\n",
        "     ('MPG',DoubleType()),\n",
        "     ('Cylinders',IntegerType()),\n",
        "     ('Displacement',DoubleType()),\n",
        "     ('Horsepower',DoubleType()),\n",
        "     ('Weight',DoubleType()),\n",
        "     ('Acceleration',DoubleType()),\n",
        "     ('Model',IntegerType()),\n",
        "     ('Origin',StringType())\n",
        "]"
      ],
      "execution_count": 12,
      "outputs": []
    },
    {
      "cell_type": "code",
      "metadata": {
        "id": "T-Fp5y_oU9SF",
        "colab": {
          "base_uri": "https://localhost:8080/"
        },
        "outputId": "9746c415-805d-4418-a865-161ce7cf0312"
      },
      "source": [
        "# Creating the schema that will be passed when reading the csv\n",
        "schema = StructType([StructField (x[0], x[1], True) for x in labels])\n",
        "schema"
      ],
      "execution_count": 13,
      "outputs": [
        {
          "output_type": "execute_result",
          "data": {
            "text/plain": [
              "StructType([StructField('Car', StringType(), True), StructField('MPG', DoubleType(), True), StructField('Cylinders', IntegerType(), True), StructField('Displacement', DoubleType(), True), StructField('Horsepower', DoubleType(), True), StructField('Weight', DoubleType(), True), StructField('Acceleration', DoubleType(), True), StructField('Model', IntegerType(), True), StructField('Origin', StringType(), True)])"
            ]
          },
          "metadata": {},
          "execution_count": 13
        }
      ]
    },
    {
      "cell_type": "code",
      "metadata": {
        "id": "sgC7gtL5VTls",
        "colab": {
          "base_uri": "https://localhost:8080/"
        },
        "outputId": "f879986f-299e-412d-d5d2-95c09bc8c90c"
      },
      "source": [
        "df = spark.read.csv('cars.csv', header=True, sep=\";\", schema=schema)\n",
        "df.printSchema()\n",
        "# The schema comes as we gave!"
      ],
      "execution_count": 14,
      "outputs": [
        {
          "output_type": "stream",
          "name": "stdout",
          "text": [
            "root\n",
            " |-- Car: string (nullable = true)\n",
            " |-- MPG: double (nullable = true)\n",
            " |-- Cylinders: integer (nullable = true)\n",
            " |-- Displacement: double (nullable = true)\n",
            " |-- Horsepower: double (nullable = true)\n",
            " |-- Weight: double (nullable = true)\n",
            " |-- Acceleration: double (nullable = true)\n",
            " |-- Model: integer (nullable = true)\n",
            " |-- Origin: string (nullable = true)\n",
            "\n"
          ]
        }
      ]
    },
    {
      "cell_type": "code",
      "metadata": {
        "id": "Dn2EAhesVmx0",
        "colab": {
          "base_uri": "https://localhost:8080/"
        },
        "outputId": "bd36bab2-2022-4124-aaee-26f86f1f4a6b"
      },
      "source": [
        "df.show(truncate=False)"
      ],
      "execution_count": 15,
      "outputs": [
        {
          "output_type": "stream",
          "name": "stdout",
          "text": [
            "+--------------------------------+----+---------+------------+----------+------+------------+-----+------+\n",
            "|Car                             |MPG |Cylinders|Displacement|Horsepower|Weight|Acceleration|Model|Origin|\n",
            "+--------------------------------+----+---------+------------+----------+------+------------+-----+------+\n",
            "|Chevrolet Chevelle Malibu       |18.0|8        |307.0       |130.0     |3504.0|12.0        |70   |US    |\n",
            "|Buick Skylark 320               |15.0|8        |350.0       |165.0     |3693.0|11.5        |70   |US    |\n",
            "|Plymouth Satellite              |18.0|8        |318.0       |150.0     |3436.0|11.0        |70   |US    |\n",
            "|AMC Rebel SST                   |16.0|8        |304.0       |150.0     |3433.0|12.0        |70   |US    |\n",
            "|Ford Torino                     |17.0|8        |302.0       |140.0     |3449.0|10.5        |70   |US    |\n",
            "|Ford Galaxie 500                |15.0|8        |429.0       |198.0     |4341.0|10.0        |70   |US    |\n",
            "|Chevrolet Impala                |14.0|8        |454.0       |220.0     |4354.0|9.0         |70   |US    |\n",
            "|Plymouth Fury iii               |14.0|8        |440.0       |215.0     |4312.0|8.5         |70   |US    |\n",
            "|Pontiac Catalina                |14.0|8        |455.0       |225.0     |4425.0|10.0        |70   |US    |\n",
            "|AMC Ambassador DPL              |15.0|8        |390.0       |190.0     |3850.0|8.5         |70   |US    |\n",
            "|Citroen DS-21 Pallas            |0.0 |4        |133.0       |115.0     |3090.0|17.5        |70   |Europe|\n",
            "|Chevrolet Chevelle Concours (sw)|0.0 |8        |350.0       |165.0     |4142.0|11.5        |70   |US    |\n",
            "|Ford Torino (sw)                |0.0 |8        |351.0       |153.0     |4034.0|11.0        |70   |US    |\n",
            "|Plymouth Satellite (sw)         |0.0 |8        |383.0       |175.0     |4166.0|10.5        |70   |US    |\n",
            "|AMC Rebel SST (sw)              |0.0 |8        |360.0       |175.0     |3850.0|11.0        |70   |US    |\n",
            "|Dodge Challenger SE             |15.0|8        |383.0       |170.0     |3563.0|10.0        |70   |US    |\n",
            "|Plymouth 'Cuda 340              |14.0|8        |340.0       |160.0     |3609.0|8.0         |70   |US    |\n",
            "|Ford Mustang Boss 302           |0.0 |8        |302.0       |140.0     |3353.0|8.0         |70   |US    |\n",
            "|Chevrolet Monte Carlo           |15.0|8        |400.0       |150.0     |3761.0|9.5         |70   |US    |\n",
            "|Buick Estate Wagon (sw)         |14.0|8        |455.0       |225.0     |3086.0|10.0        |70   |US    |\n",
            "+--------------------------------+----+---------+------------+----------+------+------------+-----+------+\n",
            "only showing top 20 rows\n",
            "\n"
          ]
        }
      ]
    },
    {
      "cell_type": "markdown",
      "metadata": {
        "id": "MDCO3TEe95OY"
      },
      "source": [
        "As we can see here, the data has been successully loaded with the specified datatypes."
      ]
    },
    {
      "cell_type": "markdown",
      "metadata": {
        "id": "rsD48rckdHPe"
      },
      "source": [
        "<a id='dataframe-operations-on-columns'></a>\n",
        "## DataFrame Operations on Columns"
      ]
    },
    {
      "cell_type": "markdown",
      "metadata": {
        "id": "cMlxdWfSY8ks"
      },
      "source": [
        "We will go over the following in this section:\n",
        "\n",
        "1.   Selecting Columns\n",
        "2.   Selecting Multiple Columns\n",
        "3.   Adding New Columns\n",
        "4.   Renaming Columns\n",
        "5.   Grouping By Columns\n",
        "6.   Removing Columns\n",
        "\n"
      ]
    },
    {
      "cell_type": "markdown",
      "metadata": {
        "id": "ikGR5pDICTu7"
      },
      "source": [
        "<a id='selecting-columns'></a>\n",
        "### Selecting Columns"
      ]
    },
    {
      "cell_type": "markdown",
      "metadata": {
        "id": "-VMwIwi2rj_o"
      },
      "source": [
        "There are multiple ways to do a select in PySpark. You can find how they differ and how each below:"
      ]
    },
    {
      "cell_type": "code",
      "metadata": {
        "id": "ge9-_ygideWk",
        "colab": {
          "base_uri": "https://localhost:8080/"
        },
        "outputId": "9348930c-b5f7-4da8-86d2-c1f3812d9f0e"
      },
      "source": [
        "# 1st method\n",
        "# Column name is case sensitive in this usage\n",
        "print(df.Car)\n",
        "print(\"*\"*20)\n",
        "df.select(df.Car).show(truncate=False)"
      ],
      "execution_count": 16,
      "outputs": [
        {
          "output_type": "stream",
          "name": "stdout",
          "text": [
            "Column<'Car'>\n",
            "********************\n",
            "+--------------------------------+\n",
            "|Car                             |\n",
            "+--------------------------------+\n",
            "|Chevrolet Chevelle Malibu       |\n",
            "|Buick Skylark 320               |\n",
            "|Plymouth Satellite              |\n",
            "|AMC Rebel SST                   |\n",
            "|Ford Torino                     |\n",
            "|Ford Galaxie 500                |\n",
            "|Chevrolet Impala                |\n",
            "|Plymouth Fury iii               |\n",
            "|Pontiac Catalina                |\n",
            "|AMC Ambassador DPL              |\n",
            "|Citroen DS-21 Pallas            |\n",
            "|Chevrolet Chevelle Concours (sw)|\n",
            "|Ford Torino (sw)                |\n",
            "|Plymouth Satellite (sw)         |\n",
            "|AMC Rebel SST (sw)              |\n",
            "|Dodge Challenger SE             |\n",
            "|Plymouth 'Cuda 340              |\n",
            "|Ford Mustang Boss 302           |\n",
            "|Chevrolet Monte Carlo           |\n",
            "|Buick Estate Wagon (sw)         |\n",
            "+--------------------------------+\n",
            "only showing top 20 rows\n",
            "\n"
          ]
        }
      ]
    },
    {
      "cell_type": "markdown",
      "metadata": {
        "id": "YxP1su8veNde"
      },
      "source": [
        "**NOTE:**\n",
        "\n",
        "> **We can't always use the dot notation because this will break when the column names have reserved names or attributes to the data frame class. Additionally, the column names are case sensitive in nature so we need to always make sure the column names have been changed to a paticular case before using it.**\n",
        "\n"
      ]
    },
    {
      "cell_type": "code",
      "metadata": {
        "id": "md5zaET8dsr4",
        "colab": {
          "base_uri": "https://localhost:8080/"
        },
        "outputId": "f6609fc1-b67b-4cdb-e677-17d0df1fe23f"
      },
      "source": [
        "# 2nd method\n",
        "# Column name is case insensitive here\n",
        "print(df['car'])\n",
        "print(\"*\"*20)\n",
        "df.select(df['car']).show(truncate=False)"
      ],
      "execution_count": null,
      "outputs": [
        {
          "output_type": "stream",
          "name": "stdout",
          "text": [
            "Column<'car'>\n",
            "********************\n",
            "+--------------------------------+\n",
            "|car                             |\n",
            "+--------------------------------+\n",
            "|Chevrolet Chevelle Malibu       |\n",
            "|Buick Skylark 320               |\n",
            "|Plymouth Satellite              |\n",
            "|AMC Rebel SST                   |\n",
            "|Ford Torino                     |\n",
            "|Ford Galaxie 500                |\n",
            "|Chevrolet Impala                |\n",
            "|Plymouth Fury iii               |\n",
            "|Pontiac Catalina                |\n",
            "|AMC Ambassador DPL              |\n",
            "|Citroen DS-21 Pallas            |\n",
            "|Chevrolet Chevelle Concours (sw)|\n",
            "|Ford Torino (sw)                |\n",
            "|Plymouth Satellite (sw)         |\n",
            "|AMC Rebel SST (sw)              |\n",
            "|Dodge Challenger SE             |\n",
            "|Plymouth 'Cuda 340              |\n",
            "|Ford Mustang Boss 302           |\n",
            "|Chevrolet Monte Carlo           |\n",
            "|Buick Estate Wagon (sw)         |\n",
            "+--------------------------------+\n",
            "only showing top 20 rows\n",
            "\n"
          ]
        }
      ]
    },
    {
      "cell_type": "code",
      "metadata": {
        "id": "6Gkf14sHec9a",
        "colab": {
          "base_uri": "https://localhost:8080/"
        },
        "outputId": "9f9a1950-a17a-4abd-ad89-c985f4f22bc2"
      },
      "source": [
        "# 3rd method\n",
        "# Column name is case insensitive here\n",
        "from pyspark.sql.functions import col\n",
        "df.select(col('car')).show(truncate=False)"
      ],
      "execution_count": 17,
      "outputs": [
        {
          "output_type": "stream",
          "name": "stdout",
          "text": [
            "+--------------------------------+\n",
            "|car                             |\n",
            "+--------------------------------+\n",
            "|Chevrolet Chevelle Malibu       |\n",
            "|Buick Skylark 320               |\n",
            "|Plymouth Satellite              |\n",
            "|AMC Rebel SST                   |\n",
            "|Ford Torino                     |\n",
            "|Ford Galaxie 500                |\n",
            "|Chevrolet Impala                |\n",
            "|Plymouth Fury iii               |\n",
            "|Pontiac Catalina                |\n",
            "|AMC Ambassador DPL              |\n",
            "|Citroen DS-21 Pallas            |\n",
            "|Chevrolet Chevelle Concours (sw)|\n",
            "|Ford Torino (sw)                |\n",
            "|Plymouth Satellite (sw)         |\n",
            "|AMC Rebel SST (sw)              |\n",
            "|Dodge Challenger SE             |\n",
            "|Plymouth 'Cuda 340              |\n",
            "|Ford Mustang Boss 302           |\n",
            "|Chevrolet Monte Carlo           |\n",
            "|Buick Estate Wagon (sw)         |\n",
            "+--------------------------------+\n",
            "only showing top 20 rows\n",
            "\n"
          ]
        }
      ]
    },
    {
      "cell_type": "markdown",
      "metadata": {
        "id": "z6QsMfnNt3qF"
      },
      "source": [
        "<a id='selecting-multiple-columns'></a>\n",
        "### Selecting Multiple Columns"
      ]
    },
    {
      "cell_type": "code",
      "metadata": {
        "colab": {
          "base_uri": "https://localhost:8080/"
        },
        "id": "bPjLMhZ6uAQR",
        "outputId": "bb19a967-c7ee-4eca-a4b2-1626dc0a6e79"
      },
      "source": [
        "# 1st method\n",
        "# Column name is case sensitive in this usage\n",
        "print(df.Car, df.Cylinders)\n",
        "print(\"*\"*40)\n",
        "df.select(df.Car, df.Cylinders).show(truncate=False)"
      ],
      "execution_count": 18,
      "outputs": [
        {
          "output_type": "stream",
          "name": "stdout",
          "text": [
            "Column<'Car'> Column<'Cylinders'>\n",
            "****************************************\n",
            "+--------------------------------+---------+\n",
            "|Car                             |Cylinders|\n",
            "+--------------------------------+---------+\n",
            "|Chevrolet Chevelle Malibu       |8        |\n",
            "|Buick Skylark 320               |8        |\n",
            "|Plymouth Satellite              |8        |\n",
            "|AMC Rebel SST                   |8        |\n",
            "|Ford Torino                     |8        |\n",
            "|Ford Galaxie 500                |8        |\n",
            "|Chevrolet Impala                |8        |\n",
            "|Plymouth Fury iii               |8        |\n",
            "|Pontiac Catalina                |8        |\n",
            "|AMC Ambassador DPL              |8        |\n",
            "|Citroen DS-21 Pallas            |4        |\n",
            "|Chevrolet Chevelle Concours (sw)|8        |\n",
            "|Ford Torino (sw)                |8        |\n",
            "|Plymouth Satellite (sw)         |8        |\n",
            "|AMC Rebel SST (sw)              |8        |\n",
            "|Dodge Challenger SE             |8        |\n",
            "|Plymouth 'Cuda 340              |8        |\n",
            "|Ford Mustang Boss 302           |8        |\n",
            "|Chevrolet Monte Carlo           |8        |\n",
            "|Buick Estate Wagon (sw)         |8        |\n",
            "+--------------------------------+---------+\n",
            "only showing top 20 rows\n",
            "\n"
          ]
        }
      ]
    },
    {
      "cell_type": "code",
      "metadata": {
        "colab": {
          "base_uri": "https://localhost:8080/"
        },
        "id": "DMRMUrv7uHWa",
        "outputId": "03f5462e-e5ae-406d-e6ee-71ed92e336db"
      },
      "source": [
        "# 2nd method\n",
        "# Column name is case insensitive in this usage\n",
        "print(df['car'],df['cylinders'])\n",
        "print(\"*\"*40)\n",
        "df.select(df['car'],df['cylinders']).show(truncate=False)"
      ],
      "execution_count": null,
      "outputs": [
        {
          "output_type": "stream",
          "name": "stdout",
          "text": [
            "Column<'car'> Column<'cylinders'>\n",
            "****************************************\n",
            "+--------------------------------+---------+\n",
            "|car                             |cylinders|\n",
            "+--------------------------------+---------+\n",
            "|Chevrolet Chevelle Malibu       |8        |\n",
            "|Buick Skylark 320               |8        |\n",
            "|Plymouth Satellite              |8        |\n",
            "|AMC Rebel SST                   |8        |\n",
            "|Ford Torino                     |8        |\n",
            "|Ford Galaxie 500                |8        |\n",
            "|Chevrolet Impala                |8        |\n",
            "|Plymouth Fury iii               |8        |\n",
            "|Pontiac Catalina                |8        |\n",
            "|AMC Ambassador DPL              |8        |\n",
            "|Citroen DS-21 Pallas            |4        |\n",
            "|Chevrolet Chevelle Concours (sw)|8        |\n",
            "|Ford Torino (sw)                |8        |\n",
            "|Plymouth Satellite (sw)         |8        |\n",
            "|AMC Rebel SST (sw)              |8        |\n",
            "|Dodge Challenger SE             |8        |\n",
            "|Plymouth 'Cuda 340              |8        |\n",
            "|Ford Mustang Boss 302           |8        |\n",
            "|Chevrolet Monte Carlo           |8        |\n",
            "|Buick Estate Wagon (sw)         |8        |\n",
            "+--------------------------------+---------+\n",
            "only showing top 20 rows\n",
            "\n"
          ]
        }
      ]
    },
    {
      "cell_type": "code",
      "metadata": {
        "colab": {
          "base_uri": "https://localhost:8080/"
        },
        "id": "RgQ20-4GugjR",
        "outputId": "ca1365f9-1d7f-41f2-d6db-7d836679f822"
      },
      "source": [
        "# 3rd method\n",
        "# Column name is case insensitive in this usage\n",
        "from pyspark.sql.functions import col\n",
        "df.select(col('car'),col('cylinders')).show(truncate=False)"
      ],
      "execution_count": null,
      "outputs": [
        {
          "output_type": "stream",
          "name": "stdout",
          "text": [
            "+--------------------------------+---------+\n",
            "|car                             |cylinders|\n",
            "+--------------------------------+---------+\n",
            "|Chevrolet Chevelle Malibu       |8        |\n",
            "|Buick Skylark 320               |8        |\n",
            "|Plymouth Satellite              |8        |\n",
            "|AMC Rebel SST                   |8        |\n",
            "|Ford Torino                     |8        |\n",
            "|Ford Galaxie 500                |8        |\n",
            "|Chevrolet Impala                |8        |\n",
            "|Plymouth Fury iii               |8        |\n",
            "|Pontiac Catalina                |8        |\n",
            "|AMC Ambassador DPL              |8        |\n",
            "|Citroen DS-21 Pallas            |4        |\n",
            "|Chevrolet Chevelle Concours (sw)|8        |\n",
            "|Ford Torino (sw)                |8        |\n",
            "|Plymouth Satellite (sw)         |8        |\n",
            "|AMC Rebel SST (sw)              |8        |\n",
            "|Dodge Challenger SE             |8        |\n",
            "|Plymouth 'Cuda 340              |8        |\n",
            "|Ford Mustang Boss 302           |8        |\n",
            "|Chevrolet Monte Carlo           |8        |\n",
            "|Buick Estate Wagon (sw)         |8        |\n",
            "+--------------------------------+---------+\n",
            "only showing top 20 rows\n",
            "\n"
          ]
        }
      ]
    },
    {
      "cell_type": "markdown",
      "metadata": {
        "id": "85Lv3zSXCcOY"
      },
      "source": [
        "<a id='adding-new-columns'></a>\n",
        "### Adding New Columns"
      ]
    },
    {
      "cell_type": "markdown",
      "metadata": {
        "id": "d_Y7dcAHu-Uz"
      },
      "source": [
        "We will take a look at three cases here:\n",
        "\n",
        "1.   Adding a new column\n",
        "2.   Adding multiple columns\n",
        "3.   Deriving a new column from an exisitng one"
      ]
    },
    {
      "cell_type": "code",
      "metadata": {
        "id": "oFHUmRKZeCEV",
        "colab": {
          "base_uri": "https://localhost:8080/"
        },
        "outputId": "1f27fb27-263a-4f68-a357-cb117ebb63d8"
      },
      "source": [
        "# CASE 1: Adding a new column\n",
        "# We will add a new column called 'first_column' at the end\n",
        "from pyspark.sql.functions import lit\n",
        "df = df.withColumn('first_column',lit(1)) \n",
        "# lit means literal. It populates the row with the literal value given.\n",
        "# When adding static data / constant values, it is a good practice to use it.\n",
        "df.show(5,truncate=False)"
      ],
      "execution_count": 29,
      "outputs": [
        {
          "output_type": "stream",
          "name": "stdout",
          "text": [
            "+-------------------------+----+---------+------------+----------+------+------------+-----+------+------------+\n",
            "|Car                      |MPG |Cylinders|Displacement|Horsepower|Weight|Acceleration|Model|Origin|first_column|\n",
            "+-------------------------+----+---------+------------+----------+------+------------+-----+------+------------+\n",
            "|Chevrolet Chevelle Malibu|18.0|8        |307.0       |130.0     |3504  |12.0        |70   |US    |1           |\n",
            "|Buick Skylark 320        |15.0|8        |350.0       |165.0     |3693  |11.5        |70   |US    |1           |\n",
            "|Plymouth Satellite       |18.0|8        |318.0       |150.0     |3436  |11.0        |70   |US    |1           |\n",
            "|AMC Rebel SST            |16.0|8        |304.0       |150.0     |3433  |12.0        |70   |US    |1           |\n",
            "|Ford Torino              |17.0|8        |302.0       |140.0     |3449  |10.5        |70   |US    |1           |\n",
            "+-------------------------+----+---------+------------+----------+------+------------+-----+------+------------+\n",
            "only showing top 5 rows\n",
            "\n"
          ]
        }
      ]
    },
    {
      "cell_type": "code",
      "metadata": {
        "colab": {
          "base_uri": "https://localhost:8080/"
        },
        "id": "U9772_mHwAqL",
        "outputId": "a0788063-e51d-4ecc-8a6b-072d85c598df"
      },
      "source": [
        "# CASE 2: Adding multiple columns\n",
        "# We will add two new columns called 'second_column' and 'third_column' at the end\n",
        "df = df.withColumn('second_column', lit(2)) \\\n",
        "       .withColumn('third_column', lit('Third Column')) \n",
        "# lit means literal. It populates the row with the literal value given.\n",
        "# When adding static data / constant values, it is a good practice to use it.\n",
        "df.show(5,truncate=False)"
      ],
      "execution_count": null,
      "outputs": [
        {
          "output_type": "stream",
          "name": "stdout",
          "text": [
            "+-------------------------+----+---------+------------+----------+------+------------+-----+------+------------+-------------+------------+\n",
            "|Car                      |MPG |Cylinders|Displacement|Horsepower|Weight|Acceleration|Model|Origin|first_column|second_column|third_column|\n",
            "+-------------------------+----+---------+------------+----------+------+------------+-----+------+------------+-------------+------------+\n",
            "|Chevrolet Chevelle Malibu|18.0|8        |307.0       |130.0     |3504.0|12.0        |70   |US    |1           |2            |Third Column|\n",
            "|Buick Skylark 320        |15.0|8        |350.0       |165.0     |3693.0|11.5        |70   |US    |1           |2            |Third Column|\n",
            "|Plymouth Satellite       |18.0|8        |318.0       |150.0     |3436.0|11.0        |70   |US    |1           |2            |Third Column|\n",
            "|AMC Rebel SST            |16.0|8        |304.0       |150.0     |3433.0|12.0        |70   |US    |1           |2            |Third Column|\n",
            "|Ford Torino              |17.0|8        |302.0       |140.0     |3449.0|10.5        |70   |US    |1           |2            |Third Column|\n",
            "+-------------------------+----+---------+------------+----------+------+------------+-----+------+------------+-------------+------------+\n",
            "only showing top 5 rows\n",
            "\n"
          ]
        }
      ]
    },
    {
      "cell_type": "code",
      "metadata": {
        "colab": {
          "base_uri": "https://localhost:8080/"
        },
        "id": "dGaQS_pOwx_b",
        "outputId": "4faa1d07-d188-47d4-b9cf-7ca69a7712d4"
      },
      "source": [
        "# CASE 3: Deriving a new column from an exisitng one\n",
        "# We will add a new column called 'car_model' which has the value of car and model appended together with a space in between \n",
        "from pyspark.sql.functions import concat\n",
        "df = df.withColumn('car_model', concat(col(\"Car\"), lit(\" \"), col(\"model\")))\n",
        "# lit means literal. It populates the row with the literal value given.\n",
        "# When adding static data / constant values, it is a good practice to use it.\n",
        "df.show(5,truncate=False)"
      ],
      "execution_count": 30,
      "outputs": [
        {
          "output_type": "stream",
          "name": "stdout",
          "text": [
            "+-------------------------+----+---------+------------+----------+------+------------+-----+------+------------+----------------------------+\n",
            "|Car                      |MPG |Cylinders|Displacement|Horsepower|Weight|Acceleration|Model|Origin|first_column|car_model                   |\n",
            "+-------------------------+----+---------+------------+----------+------+------------+-----+------+------------+----------------------------+\n",
            "|Chevrolet Chevelle Malibu|18.0|8        |307.0       |130.0     |3504  |12.0        |70   |US    |1           |Chevrolet Chevelle Malibu 70|\n",
            "|Buick Skylark 320        |15.0|8        |350.0       |165.0     |3693  |11.5        |70   |US    |1           |Buick Skylark 320 70        |\n",
            "|Plymouth Satellite       |18.0|8        |318.0       |150.0     |3436  |11.0        |70   |US    |1           |Plymouth Satellite 70       |\n",
            "|AMC Rebel SST            |16.0|8        |304.0       |150.0     |3433  |12.0        |70   |US    |1           |AMC Rebel SST 70            |\n",
            "|Ford Torino              |17.0|8        |302.0       |140.0     |3449  |10.5        |70   |US    |1           |Ford Torino 70              |\n",
            "+-------------------------+----+---------+------------+----------+------+------------+-----+------+------------+----------------------------+\n",
            "only showing top 5 rows\n",
            "\n"
          ]
        }
      ]
    },
    {
      "cell_type": "markdown",
      "metadata": {
        "id": "xeHExg-zxf5r"
      },
      "source": [
        "As we can see, the new column car model has been created from existing columns. Since our aim was to create a column which has the value of car and model appended together with a space in between we have used the `concat` operator."
      ]
    },
    {
      "cell_type": "markdown",
      "metadata": {
        "id": "QlMf04i2CjDC"
      },
      "source": [
        "<a id='renaming-columns'></a>\n",
        "### Renaming Columns"
      ]
    },
    {
      "cell_type": "markdown",
      "metadata": {
        "id": "CwGKbSHvxxxG"
      },
      "source": [
        "We use the `withColumnRenamed` function to rename a columm in PySpark. Let us see it in action below:"
      ]
    },
    {
      "cell_type": "code",
      "metadata": {
        "id": "QJqgy6lKfk2o",
        "colab": {
          "base_uri": "https://localhost:8080/"
        },
        "outputId": "6cdc00da-6d9c-4ec5-8830-000bc4147250"
      },
      "source": [
        "#Renaming a column in PySpark\n",
        "df = df.withColumnRenamed('first_column', 'new_column_one') \\\n",
        "       .withColumnRenamed('second_column', 'new_column_two') \\\n",
        "       .withColumnRenamed('third_column', 'new_column_three')\n",
        "df.show(truncate=False)"
      ],
      "execution_count": null,
      "outputs": [
        {
          "output_type": "stream",
          "name": "stdout",
          "text": [
            "+--------------------------------+----+---------+------------+----------+------+------------+-----+------+--------------+--------------+----------------+-----------------------------------+\n",
            "|Car                             |MPG |Cylinders|Displacement|Horsepower|Weight|Acceleration|Model|Origin|new_column_one|new_column_two|new_column_three|car_model                          |\n",
            "+--------------------------------+----+---------+------------+----------+------+------------+-----+------+--------------+--------------+----------------+-----------------------------------+\n",
            "|Chevrolet Chevelle Malibu       |18.0|8        |307.0       |130.0     |3504.0|12.0        |70   |US    |1             |2             |Third Column    |Chevrolet Chevelle Malibu 70       |\n",
            "|Buick Skylark 320               |15.0|8        |350.0       |165.0     |3693.0|11.5        |70   |US    |1             |2             |Third Column    |Buick Skylark 320 70               |\n",
            "|Plymouth Satellite              |18.0|8        |318.0       |150.0     |3436.0|11.0        |70   |US    |1             |2             |Third Column    |Plymouth Satellite 70              |\n",
            "|AMC Rebel SST                   |16.0|8        |304.0       |150.0     |3433.0|12.0        |70   |US    |1             |2             |Third Column    |AMC Rebel SST 70                   |\n",
            "|Ford Torino                     |17.0|8        |302.0       |140.0     |3449.0|10.5        |70   |US    |1             |2             |Third Column    |Ford Torino 70                     |\n",
            "|Ford Galaxie 500                |15.0|8        |429.0       |198.0     |4341.0|10.0        |70   |US    |1             |2             |Third Column    |Ford Galaxie 500 70                |\n",
            "|Chevrolet Impala                |14.0|8        |454.0       |220.0     |4354.0|9.0         |70   |US    |1             |2             |Third Column    |Chevrolet Impala 70                |\n",
            "|Plymouth Fury iii               |14.0|8        |440.0       |215.0     |4312.0|8.5         |70   |US    |1             |2             |Third Column    |Plymouth Fury iii 70               |\n",
            "|Pontiac Catalina                |14.0|8        |455.0       |225.0     |4425.0|10.0        |70   |US    |1             |2             |Third Column    |Pontiac Catalina 70                |\n",
            "|AMC Ambassador DPL              |15.0|8        |390.0       |190.0     |3850.0|8.5         |70   |US    |1             |2             |Third Column    |AMC Ambassador DPL 70              |\n",
            "|Citroen DS-21 Pallas            |0.0 |4        |133.0       |115.0     |3090.0|17.5        |70   |Europe|1             |2             |Third Column    |Citroen DS-21 Pallas 70            |\n",
            "|Chevrolet Chevelle Concours (sw)|0.0 |8        |350.0       |165.0     |4142.0|11.5        |70   |US    |1             |2             |Third Column    |Chevrolet Chevelle Concours (sw) 70|\n",
            "|Ford Torino (sw)                |0.0 |8        |351.0       |153.0     |4034.0|11.0        |70   |US    |1             |2             |Third Column    |Ford Torino (sw) 70                |\n",
            "|Plymouth Satellite (sw)         |0.0 |8        |383.0       |175.0     |4166.0|10.5        |70   |US    |1             |2             |Third Column    |Plymouth Satellite (sw) 70         |\n",
            "|AMC Rebel SST (sw)              |0.0 |8        |360.0       |175.0     |3850.0|11.0        |70   |US    |1             |2             |Third Column    |AMC Rebel SST (sw) 70              |\n",
            "|Dodge Challenger SE             |15.0|8        |383.0       |170.0     |3563.0|10.0        |70   |US    |1             |2             |Third Column    |Dodge Challenger SE 70             |\n",
            "|Plymouth 'Cuda 340              |14.0|8        |340.0       |160.0     |3609.0|8.0         |70   |US    |1             |2             |Third Column    |Plymouth 'Cuda 340 70              |\n",
            "|Ford Mustang Boss 302           |0.0 |8        |302.0       |140.0     |3353.0|8.0         |70   |US    |1             |2             |Third Column    |Ford Mustang Boss 302 70           |\n",
            "|Chevrolet Monte Carlo           |15.0|8        |400.0       |150.0     |3761.0|9.5         |70   |US    |1             |2             |Third Column    |Chevrolet Monte Carlo 70           |\n",
            "|Buick Estate Wagon (sw)         |14.0|8        |455.0       |225.0     |3086.0|10.0        |70   |US    |1             |2             |Third Column    |Buick Estate Wagon (sw) 70         |\n",
            "+--------------------------------+----+---------+------------+----------+------+------------+-----+------+--------------+--------------+----------------+-----------------------------------+\n",
            "only showing top 20 rows\n",
            "\n"
          ]
        }
      ]
    },
    {
      "cell_type": "markdown",
      "metadata": {
        "id": "4CDifVC2Cnml"
      },
      "source": [
        "<a id='grouping-by-columns'></a>\n",
        "### Grouping By Columns"
      ]
    },
    {
      "cell_type": "markdown",
      "metadata": {
        "id": "9wlB76FdyS0W"
      },
      "source": [
        "Here, we see the Dataframe API way of grouping values. We will discuss how to:\n",
        "\n",
        "\n",
        "1.   Group By a single column\n",
        "2.   Group By multiple columns"
      ]
    },
    {
      "cell_type": "code",
      "metadata": {
        "id": "M1ek2opVfqea",
        "colab": {
          "base_uri": "https://localhost:8080/"
        },
        "outputId": "9d5aa5ee-6132-42b4-a037-a66f63c7acff"
      },
      "source": [
        "# Group By a column in PySpark\n",
        "df.groupBy('Origin').count().show(5)"
      ],
      "execution_count": null,
      "outputs": [
        {
          "output_type": "stream",
          "name": "stdout",
          "text": [
            "+------+-----+\n",
            "|Origin|count|\n",
            "+------+-----+\n",
            "|Europe|   73|\n",
            "|    US|  254|\n",
            "| Japan|   79|\n",
            "+------+-----+\n",
            "\n"
          ]
        }
      ]
    },
    {
      "cell_type": "code",
      "metadata": {
        "colab": {
          "base_uri": "https://localhost:8080/"
        },
        "id": "hUh_TWcOysoL",
        "outputId": "288629ad-7082-4d3c-eef4-50ddee64fe2a"
      },
      "source": [
        "# Group By multiple columns in PySpark\n",
        "df.groupBy('Origin', 'Model').count().show(5)"
      ],
      "execution_count": null,
      "outputs": [
        {
          "output_type": "stream",
          "name": "stdout",
          "text": [
            "+------+-----+-----+\n",
            "|Origin|Model|count|\n",
            "+------+-----+-----+\n",
            "|Europe|   71|    5|\n",
            "|Europe|   80|    9|\n",
            "|Europe|   79|    4|\n",
            "| Japan|   75|    4|\n",
            "|    US|   72|   18|\n",
            "+------+-----+-----+\n",
            "only showing top 5 rows\n",
            "\n"
          ]
        }
      ]
    },
    {
      "cell_type": "markdown",
      "metadata": {
        "id": "CbpEj9fECrW3"
      },
      "source": [
        "<a id='removing-columns'></a>\n",
        "### Removing Columns"
      ]
    },
    {
      "cell_type": "code",
      "metadata": {
        "id": "xsb9PXxpfnmh",
        "colab": {
          "base_uri": "https://localhost:8080/"
        },
        "outputId": "b0e16808-02f2-4008-c150-6283c3f3054f"
      },
      "source": [
        "#Remove columns in PySpark\n",
        "df = df.drop('new_column_one')\n",
        "df.show(5,truncate=False)"
      ],
      "execution_count": null,
      "outputs": [
        {
          "output_type": "stream",
          "name": "stdout",
          "text": [
            "+-------------------------+----+---------+------------+----------+------+------------+-----+------+--------------+----------------+----------------------------+\n",
            "|Car                      |MPG |Cylinders|Displacement|Horsepower|Weight|Acceleration|Model|Origin|new_column_two|new_column_three|car_model                   |\n",
            "+-------------------------+----+---------+------------+----------+------+------------+-----+------+--------------+----------------+----------------------------+\n",
            "|Chevrolet Chevelle Malibu|18.0|8        |307.0       |130.0     |3504.0|12.0        |70   |US    |2             |Third Column    |Chevrolet Chevelle Malibu 70|\n",
            "|Buick Skylark 320        |15.0|8        |350.0       |165.0     |3693.0|11.5        |70   |US    |2             |Third Column    |Buick Skylark 320 70        |\n",
            "|Plymouth Satellite       |18.0|8        |318.0       |150.0     |3436.0|11.0        |70   |US    |2             |Third Column    |Plymouth Satellite 70       |\n",
            "|AMC Rebel SST            |16.0|8        |304.0       |150.0     |3433.0|12.0        |70   |US    |2             |Third Column    |AMC Rebel SST 70            |\n",
            "|Ford Torino              |17.0|8        |302.0       |140.0     |3449.0|10.5        |70   |US    |2             |Third Column    |Ford Torino 70              |\n",
            "+-------------------------+----+---------+------------+----------+------+------------+-----+------+--------------+----------------+----------------------------+\n",
            "only showing top 5 rows\n",
            "\n"
          ]
        }
      ]
    },
    {
      "cell_type": "code",
      "metadata": {
        "colab": {
          "base_uri": "https://localhost:8080/"
        },
        "id": "EKOXrXtvzK_0",
        "outputId": "25047b03-5c7b-46ec-d30d-f25e8c68f65c"
      },
      "source": [
        "#Remove multiple columnss in one go\n",
        "df = df.drop('new_column_two') \\\n",
        "       .drop('new_column_three')\n",
        "df.show(5,truncate=False)"
      ],
      "execution_count": null,
      "outputs": [
        {
          "output_type": "stream",
          "name": "stdout",
          "text": [
            "+-------------------------+----+---------+------------+----------+------+------------+-----+------+----------------------------+\n",
            "|Car                      |MPG |Cylinders|Displacement|Horsepower|Weight|Acceleration|Model|Origin|car_model                   |\n",
            "+-------------------------+----+---------+------------+----------+------+------------+-----+------+----------------------------+\n",
            "|Chevrolet Chevelle Malibu|18.0|8        |307.0       |130.0     |3504.0|12.0        |70   |US    |Chevrolet Chevelle Malibu 70|\n",
            "|Buick Skylark 320        |15.0|8        |350.0       |165.0     |3693.0|11.5        |70   |US    |Buick Skylark 320 70        |\n",
            "|Plymouth Satellite       |18.0|8        |318.0       |150.0     |3436.0|11.0        |70   |US    |Plymouth Satellite 70       |\n",
            "|AMC Rebel SST            |16.0|8        |304.0       |150.0     |3433.0|12.0        |70   |US    |AMC Rebel SST 70            |\n",
            "|Ford Torino              |17.0|8        |302.0       |140.0     |3449.0|10.5        |70   |US    |Ford Torino 70              |\n",
            "+-------------------------+----+---------+------------+----------+------+------------+-----+------+----------------------------+\n",
            "only showing top 5 rows\n",
            "\n"
          ]
        }
      ]
    },
    {
      "cell_type": "markdown",
      "metadata": {
        "id": "WbKK5iHwmIoV"
      },
      "source": [
        "<a id='dataframe-operations-on-rows'></a>\n",
        "## DataFrame Operations on Rows"
      ]
    },
    {
      "cell_type": "markdown",
      "metadata": {
        "id": "Quwx3KlLzeq9"
      },
      "source": [
        "We will discuss the follwoing in this section:\n",
        "\n",
        "1.   Filtering Rows\n",
        "2. \t Get Distinct Rows\n",
        "3.   Sorting Rows\n",
        "4.   Union Dataframes\n",
        "\n"
      ]
    },
    {
      "cell_type": "markdown",
      "metadata": {
        "id": "9bKlvX-SH-Wy"
      },
      "source": [
        "<a id='filtering-rows'></a>\n",
        "### Filtering Rows"
      ]
    },
    {
      "cell_type": "code",
      "metadata": {
        "id": "YNfcjOIknA3n",
        "colab": {
          "base_uri": "https://localhost:8080/"
        },
        "outputId": "3b7077a3-c697-456f-a9f0-2988f06e88d9"
      },
      "source": [
        "# Filtering rows in PySpark\n",
        "total_count = df.count()\n",
        "print(\"TOTAL RECORD COUNT: \" + str(total_count)) \n",
        "europe_filtered_count = df.filter(col('Origin')=='Europe').count()\n",
        "print(\"EUROPE FILTERED RECORD COUNT: \" + str(europe_filtered_count))\n",
        "df.filter(col('Origin')=='Europe').show(truncate=False)"
      ],
      "execution_count": null,
      "outputs": [
        {
          "output_type": "stream",
          "name": "stdout",
          "text": [
            "TOTAL RECORD COUNT: 406\n",
            "EUROPE FILTERED RECORD COUNT: 73\n",
            "+----------------------------+----+---------+------------+----------+------+------------+-----+------+-------------------------------+\n",
            "|Car                         |MPG |Cylinders|Displacement|Horsepower|Weight|Acceleration|Model|Origin|car_model                      |\n",
            "+----------------------------+----+---------+------------+----------+------+------------+-----+------+-------------------------------+\n",
            "|Citroen DS-21 Pallas        |0.0 |4        |133.0       |115.0     |3090.0|17.5        |70   |Europe|Citroen DS-21 Pallas 70        |\n",
            "|Volkswagen 1131 Deluxe Sedan|26.0|4        |97.0        |46.0      |1835.0|20.5        |70   |Europe|Volkswagen 1131 Deluxe Sedan 70|\n",
            "|Peugeot 504                 |25.0|4        |110.0       |87.0      |2672.0|17.5        |70   |Europe|Peugeot 504 70                 |\n",
            "|Audi 100 LS                 |24.0|4        |107.0       |90.0      |2430.0|14.5        |70   |Europe|Audi 100 LS 70                 |\n",
            "|Saab 99e                    |25.0|4        |104.0       |95.0      |2375.0|17.5        |70   |Europe|Saab 99e 70                    |\n",
            "|BMW 2002                    |26.0|4        |121.0       |113.0     |2234.0|12.5        |70   |Europe|BMW 2002 70                    |\n",
            "|Volkswagen Super Beetle 117 |0.0 |4        |97.0        |48.0      |1978.0|20.0        |71   |Europe|Volkswagen Super Beetle 117 71 |\n",
            "|Opel 1900                   |28.0|4        |116.0       |90.0      |2123.0|14.0        |71   |Europe|Opel 1900 71                   |\n",
            "|Peugeot 304                 |30.0|4        |79.0        |70.0      |2074.0|19.5        |71   |Europe|Peugeot 304 71                 |\n",
            "|Fiat 124B                   |30.0|4        |88.0        |76.0      |2065.0|14.5        |71   |Europe|Fiat 124B 71                   |\n",
            "|Volkswagen Model 111        |27.0|4        |97.0        |60.0      |1834.0|19.0        |71   |Europe|Volkswagen Model 111 71        |\n",
            "|Volkswagen Type 3           |23.0|4        |97.0        |54.0      |2254.0|23.5        |72   |Europe|Volkswagen Type 3 72           |\n",
            "|Volvo 145e (sw)             |18.0|4        |121.0       |112.0     |2933.0|14.5        |72   |Europe|Volvo 145e (sw) 72             |\n",
            "|Volkswagen 411 (sw)         |22.0|4        |121.0       |76.0      |2511.0|18.0        |72   |Europe|Volkswagen 411 (sw) 72         |\n",
            "|Peugeot 504 (sw)            |21.0|4        |120.0       |87.0      |2979.0|19.5        |72   |Europe|Peugeot 504 (sw) 72            |\n",
            "|Renault 12 (sw)             |26.0|4        |96.0        |69.0      |2189.0|18.0        |72   |Europe|Renault 12 (sw) 72             |\n",
            "|Volkswagen Super Beetle     |26.0|4        |97.0        |46.0      |1950.0|21.0        |73   |Europe|Volkswagen Super Beetle 73     |\n",
            "|Fiat 124 Sport Coupe        |26.0|4        |98.0        |90.0      |2265.0|15.5        |73   |Europe|Fiat 124 Sport Coupe 73        |\n",
            "|Fiat 128                    |29.0|4        |68.0        |49.0      |1867.0|19.5        |73   |Europe|Fiat 128 73                    |\n",
            "|Opel Manta                  |24.0|4        |116.0       |75.0      |2158.0|15.5        |73   |Europe|Opel Manta 73                  |\n",
            "+----------------------------+----+---------+------------+----------+------+------------+-----+------+-------------------------------+\n",
            "only showing top 20 rows\n",
            "\n"
          ]
        }
      ]
    },
    {
      "cell_type": "code",
      "metadata": {
        "colab": {
          "base_uri": "https://localhost:8080/"
        },
        "id": "MXJxRwBQ1lyd",
        "outputId": "9ab68c40-02e9-41c4-b640-0ec9d571a7c7"
      },
      "source": [
        "# Filtering rows in PySpark based on Multiple conditions\n",
        "total_count = df.count()\n",
        "print(\"TOTAL RECORD COUNT: \" + str(total_count)) \n",
        "europe_filtered_count = df.filter((col('Origin')=='Europe') & \n",
        "                                  (col('Cylinders')==4)).count() # Two conditions added here\n",
        "print(\"EUROPE FILTERED RECORD COUNT: \" + str(europe_filtered_count))\n",
        "df.filter(col('Origin')=='Europe').show(truncate=False)"
      ],
      "execution_count": null,
      "outputs": [
        {
          "output_type": "stream",
          "name": "stdout",
          "text": [
            "TOTAL RECORD COUNT: 406\n",
            "EUROPE FILTERED RECORD COUNT: 66\n",
            "+----------------------------+----+---------+------------+----------+------+------------+-----+------+-------------------------------+\n",
            "|Car                         |MPG |Cylinders|Displacement|Horsepower|Weight|Acceleration|Model|Origin|car_model                      |\n",
            "+----------------------------+----+---------+------------+----------+------+------------+-----+------+-------------------------------+\n",
            "|Citroen DS-21 Pallas        |0.0 |4        |133.0       |115.0     |3090.0|17.5        |70   |Europe|Citroen DS-21 Pallas 70        |\n",
            "|Volkswagen 1131 Deluxe Sedan|26.0|4        |97.0        |46.0      |1835.0|20.5        |70   |Europe|Volkswagen 1131 Deluxe Sedan 70|\n",
            "|Peugeot 504                 |25.0|4        |110.0       |87.0      |2672.0|17.5        |70   |Europe|Peugeot 504 70                 |\n",
            "|Audi 100 LS                 |24.0|4        |107.0       |90.0      |2430.0|14.5        |70   |Europe|Audi 100 LS 70                 |\n",
            "|Saab 99e                    |25.0|4        |104.0       |95.0      |2375.0|17.5        |70   |Europe|Saab 99e 70                    |\n",
            "|BMW 2002                    |26.0|4        |121.0       |113.0     |2234.0|12.5        |70   |Europe|BMW 2002 70                    |\n",
            "|Volkswagen Super Beetle 117 |0.0 |4        |97.0        |48.0      |1978.0|20.0        |71   |Europe|Volkswagen Super Beetle 117 71 |\n",
            "|Opel 1900                   |28.0|4        |116.0       |90.0      |2123.0|14.0        |71   |Europe|Opel 1900 71                   |\n",
            "|Peugeot 304                 |30.0|4        |79.0        |70.0      |2074.0|19.5        |71   |Europe|Peugeot 304 71                 |\n",
            "|Fiat 124B                   |30.0|4        |88.0        |76.0      |2065.0|14.5        |71   |Europe|Fiat 124B 71                   |\n",
            "|Volkswagen Model 111        |27.0|4        |97.0        |60.0      |1834.0|19.0        |71   |Europe|Volkswagen Model 111 71        |\n",
            "|Volkswagen Type 3           |23.0|4        |97.0        |54.0      |2254.0|23.5        |72   |Europe|Volkswagen Type 3 72           |\n",
            "|Volvo 145e (sw)             |18.0|4        |121.0       |112.0     |2933.0|14.5        |72   |Europe|Volvo 145e (sw) 72             |\n",
            "|Volkswagen 411 (sw)         |22.0|4        |121.0       |76.0      |2511.0|18.0        |72   |Europe|Volkswagen 411 (sw) 72         |\n",
            "|Peugeot 504 (sw)            |21.0|4        |120.0       |87.0      |2979.0|19.5        |72   |Europe|Peugeot 504 (sw) 72            |\n",
            "|Renault 12 (sw)             |26.0|4        |96.0        |69.0      |2189.0|18.0        |72   |Europe|Renault 12 (sw) 72             |\n",
            "|Volkswagen Super Beetle     |26.0|4        |97.0        |46.0      |1950.0|21.0        |73   |Europe|Volkswagen Super Beetle 73     |\n",
            "|Fiat 124 Sport Coupe        |26.0|4        |98.0        |90.0      |2265.0|15.5        |73   |Europe|Fiat 124 Sport Coupe 73        |\n",
            "|Fiat 128                    |29.0|4        |68.0        |49.0      |1867.0|19.5        |73   |Europe|Fiat 128 73                    |\n",
            "|Opel Manta                  |24.0|4        |116.0       |75.0      |2158.0|15.5        |73   |Europe|Opel Manta 73                  |\n",
            "+----------------------------+----+---------+------------+----------+------+------------+-----+------+-------------------------------+\n",
            "only showing top 20 rows\n",
            "\n"
          ]
        }
      ]
    },
    {
      "cell_type": "markdown",
      "metadata": {
        "id": "zLU-a4auIEvh"
      },
      "source": [
        "<a id='get-distinct-rows'></a>\n",
        "### Get Distinct Rows"
      ]
    },
    {
      "cell_type": "code",
      "metadata": {
        "id": "B1RKg1UrmBQz",
        "colab": {
          "base_uri": "https://localhost:8080/"
        },
        "outputId": "e91346c4-05c2-48a9-9489-cf6ac9d8259d"
      },
      "source": [
        "#Get Unique Rows in PySpark\n",
        "df.select('Origin').distinct().show()"
      ],
      "execution_count": null,
      "outputs": [
        {
          "output_type": "stream",
          "name": "stdout",
          "text": [
            "+------+\n",
            "|Origin|\n",
            "+------+\n",
            "|Europe|\n",
            "|    US|\n",
            "| Japan|\n",
            "+------+\n",
            "\n"
          ]
        }
      ]
    },
    {
      "cell_type": "code",
      "metadata": {
        "colab": {
          "base_uri": "https://localhost:8080/"
        },
        "id": "_LQWXPXt0g0N",
        "outputId": "e4ed86a6-6a95-4ae4-d47c-d5376ddbc175"
      },
      "source": [
        "#Get Unique Rows in PySpark based on mutliple columns\n",
        "df.select('Origin','model').distinct().show()"
      ],
      "execution_count": null,
      "outputs": [
        {
          "output_type": "stream",
          "name": "stdout",
          "text": [
            "+------+-----+\n",
            "|Origin|model|\n",
            "+------+-----+\n",
            "|Europe|   71|\n",
            "|Europe|   80|\n",
            "|Europe|   79|\n",
            "| Japan|   75|\n",
            "|    US|   72|\n",
            "|    US|   80|\n",
            "|Europe|   74|\n",
            "| Japan|   79|\n",
            "|Europe|   76|\n",
            "|    US|   75|\n",
            "| Japan|   77|\n",
            "|    US|   82|\n",
            "| Japan|   80|\n",
            "| Japan|   78|\n",
            "|    US|   78|\n",
            "|Europe|   75|\n",
            "|    US|   71|\n",
            "|    US|   77|\n",
            "| Japan|   70|\n",
            "| Japan|   71|\n",
            "+------+-----+\n",
            "only showing top 20 rows\n",
            "\n"
          ]
        }
      ]
    },
    {
      "cell_type": "markdown",
      "metadata": {
        "id": "-069UYUwIIYI"
      },
      "source": [
        "<a id='sorting-rows'></a>\n",
        "### Sorting Rows"
      ]
    },
    {
      "cell_type": "code",
      "metadata": {
        "id": "4ZpeJvz0nkBI",
        "colab": {
          "base_uri": "https://localhost:8080/"
        },
        "outputId": "e4d70f5e-35b8-4949-e219-6c4700422583"
      },
      "source": [
        "# Sort Rows in PySpark\n",
        "# By default the data will be sorted in ascending order\n",
        "df.orderBy('Cylinders').show(truncate=False) "
      ],
      "execution_count": 19,
      "outputs": [
        {
          "output_type": "stream",
          "name": "stdout",
          "text": [
            "+----------------------------+----+---------+------------+----------+------+------------+-----+------+\n",
            "|Car                         |MPG |Cylinders|Displacement|Horsepower|Weight|Acceleration|Model|Origin|\n",
            "+----------------------------+----+---------+------------+----------+------+------------+-----+------+\n",
            "|Mazda RX2 Coupe             |19.0|3        |70.0        |97.0      |2330.0|13.5        |72   |Japan |\n",
            "|Mazda RX3                   |18.0|3        |70.0        |90.0      |2124.0|13.5        |73   |Japan |\n",
            "|Mazda RX-4                  |21.5|3        |80.0        |110.0     |2720.0|13.5        |77   |Japan |\n",
            "|Mazda RX-7 GS               |23.7|3        |70.0        |100.0     |2420.0|12.5        |80   |Japan |\n",
            "|Datsun 510 (sw)             |28.0|4        |97.0        |92.0      |2288.0|17.0        |72   |Japan |\n",
            "|Mercury Capri 2000          |23.0|4        |122.0       |86.0      |2220.0|14.0        |71   |US    |\n",
            "|Chevrolet Vega (sw)         |22.0|4        |140.0       |72.0      |2408.0|19.0        |71   |US    |\n",
            "|Opel 1900                   |28.0|4        |116.0       |90.0      |2123.0|14.0        |71   |Europe|\n",
            "|Volkswagen 1131 Deluxe Sedan|26.0|4        |97.0        |46.0      |1835.0|20.5        |70   |Europe|\n",
            "|Peugeot 304                 |30.0|4        |79.0        |70.0      |2074.0|19.5        |71   |Europe|\n",
            "|Audi 100 LS                 |24.0|4        |107.0       |90.0      |2430.0|14.5        |70   |Europe|\n",
            "|Fiat 124B                   |30.0|4        |88.0        |76.0      |2065.0|14.5        |71   |Europe|\n",
            "|BMW 2002                    |26.0|4        |121.0       |113.0     |2234.0|12.5        |70   |Europe|\n",
            "|Toyota Corolla 1200         |31.0|4        |71.0        |65.0      |1773.0|19.0        |71   |Japan |\n",
            "|Chevrolet Vega 2300         |28.0|4        |140.0       |90.0      |2264.0|15.5        |71   |US    |\n",
            "|Datsun 1200                 |35.0|4        |72.0        |69.0      |1613.0|18.0        |71   |Japan |\n",
            "|Ford Pinto                  |25.0|4        |98.0        |0.0       |2046.0|19.0        |71   |US    |\n",
            "|Volkswagen Model 111        |27.0|4        |97.0        |60.0      |1834.0|19.0        |71   |Europe|\n",
            "|Dodge Colt Hardtop          |25.0|4        |97.5        |80.0      |2126.0|17.0        |72   |US    |\n",
            "|Volkswagen Type 3           |23.0|4        |97.0        |54.0      |2254.0|23.5        |72   |Europe|\n",
            "+----------------------------+----+---------+------------+----------+------+------------+-----+------+\n",
            "only showing top 20 rows\n",
            "\n"
          ]
        }
      ]
    },
    {
      "cell_type": "code",
      "metadata": {
        "id": "v1CEwofMJV-D",
        "colab": {
          "base_uri": "https://localhost:8080/"
        },
        "outputId": "df3b5790-9807-49bc-d8a8-c894492b0587"
      },
      "source": [
        "# To change the sorting order, you can use the ascending parameter\n",
        "df.orderBy('Cylinders', ascending=False).show(truncate=False) "
      ],
      "execution_count": 20,
      "outputs": [
        {
          "output_type": "stream",
          "name": "stdout",
          "text": [
            "+-------------------------+----+---------+------------+----------+------+------------+-----+------+\n",
            "|Car                      |MPG |Cylinders|Displacement|Horsepower|Weight|Acceleration|Model|Origin|\n",
            "+-------------------------+----+---------+------------+----------+------+------------+-----+------+\n",
            "|Plymouth 'Cuda 340       |14.0|8        |340.0       |160.0     |3609.0|8.0         |70   |US    |\n",
            "|Pontiac Safari (sw)      |13.0|8        |400.0       |175.0     |5140.0|12.0        |71   |US    |\n",
            "|Ford Mustang Boss 302    |0.0 |8        |302.0       |140.0     |3353.0|8.0         |70   |US    |\n",
            "|Buick Skylark 320        |15.0|8        |350.0       |165.0     |3693.0|11.5        |70   |US    |\n",
            "|Chevrolet Monte Carlo    |15.0|8        |400.0       |150.0     |3761.0|9.5         |70   |US    |\n",
            "|AMC Rebel SST            |16.0|8        |304.0       |150.0     |3433.0|12.0        |70   |US    |\n",
            "|Buick Estate Wagon (sw)  |14.0|8        |455.0       |225.0     |3086.0|10.0        |70   |US    |\n",
            "|Ford Galaxie 500         |15.0|8        |429.0       |198.0     |4341.0|10.0        |70   |US    |\n",
            "|Ford F250                |10.0|8        |360.0       |215.0     |4615.0|14.0        |70   |US    |\n",
            "|Plymouth Fury iii        |14.0|8        |440.0       |215.0     |4312.0|8.5         |70   |US    |\n",
            "|Chevy C20                |10.0|8        |307.0       |200.0     |4376.0|15.0        |70   |US    |\n",
            "|AMC Ambassador DPL       |15.0|8        |390.0       |190.0     |3850.0|8.5         |70   |US    |\n",
            "|Dodge D200               |11.0|8        |318.0       |210.0     |4382.0|13.5        |70   |US    |\n",
            "|Ford Torino (sw)         |0.0 |8        |351.0       |153.0     |4034.0|11.0        |70   |US    |\n",
            "|Hi 1200D                 |9.0 |8        |304.0       |193.0     |4732.0|18.5        |70   |US    |\n",
            "|AMC Rebel SST (sw)       |0.0 |8        |360.0       |175.0     |3850.0|11.0        |70   |US    |\n",
            "|Chevrolet Impala         |14.0|8        |350.0       |165.0     |4209.0|12.0        |71   |US    |\n",
            "|Chevrolet Chevelle Malibu|18.0|8        |307.0       |130.0     |3504.0|12.0        |70   |US    |\n",
            "|Pontiac Catalina Brougham|14.0|8        |400.0       |175.0     |4464.0|11.5        |71   |US    |\n",
            "|Ford Torino              |17.0|8        |302.0       |140.0     |3449.0|10.5        |70   |US    |\n",
            "+-------------------------+----+---------+------------+----------+------+------------+-----+------+\n",
            "only showing top 20 rows\n",
            "\n"
          ]
        }
      ]
    },
    {
      "cell_type": "code",
      "metadata": {
        "colab": {
          "base_uri": "https://localhost:8080/"
        },
        "id": "Zx3W4aeL5A4O",
        "outputId": "ddeb3c5d-acaf-4ac2-cf94-c557ab4d5692"
      },
      "source": [
        "# Using groupBy aand orderBy together\n",
        "df.groupBy(\"Origin\").count().orderBy('count', ascending=False).show(10)"
      ],
      "execution_count": 21,
      "outputs": [
        {
          "output_type": "stream",
          "name": "stdout",
          "text": [
            "+------+-----+\n",
            "|Origin|count|\n",
            "+------+-----+\n",
            "|    US|  254|\n",
            "| Japan|   79|\n",
            "|Europe|   73|\n",
            "+------+-----+\n",
            "\n"
          ]
        }
      ]
    },
    {
      "cell_type": "markdown",
      "metadata": {
        "id": "aN0-A_JsIX-X"
      },
      "source": [
        "<a id='union-dataframes'></a>\n",
        "### Union Dataframes"
      ]
    },
    {
      "cell_type": "markdown",
      "metadata": {
        "id": "VH0KOaBrJt6v"
      },
      "source": [
        "You will see three main methods for performing union of dataframes. It is important to know the difference between them and which one is preferred:\n",
        "\n",
        "*   `union()` – It is used to merge two DataFrames of the same structure/schema. If schemas are not the same, it returns an error\n",
        "*   `unionAll()` – This function is deprecated since Spark 2.0.0, and replaced with union()\n",
        "*   `unionByName()` - This function is used to merge two dataframes based on column name.\n",
        "\n",
        "> Since `unionAll()` is deprecated, **`union()` is the preferred method for merging dataframes.**\n",
        "<br>\n",
        "> The difference between `unionByName()` and `union()` is that `unionByName()` resolves columns by name, not by position.\n",
        "\n",
        "In other SQLs, Union eliminates the duplicates but UnionAll merges two datasets, thereby including duplicate records. But, in PySpark, both behave the same and includes duplicate records. The recommendation is to use `distinct()` or `dropDuplicates()` to remove duplicate records."
      ]
    },
    {
      "cell_type": "code",
      "metadata": {
        "id": "bCZIzfYmnx--",
        "colab": {
          "base_uri": "https://localhost:8080/"
        },
        "outputId": "bf663534-0791-45f4-85e8-d8f1e5c5fe98"
      },
      "source": [
        "# CASE 1: Union When columns are in order\n",
        "df = spark.read.csv('cars.csv', header=True, sep=\";\", inferSchema=True)\n",
        "europe_cars = df.filter((col('Origin')=='Europe') & (col('Cylinders')==5))\n",
        "japan_cars = df.filter((col('Origin')=='Japan') & (col('Cylinders')==3))\n",
        "print(\"EUROPE CARS: \"+str(europe_cars.count()))\n",
        "print(\"JAPAN CARS: \"+str(japan_cars.count()))\n",
        "print(\"AFTER UNION: \"+str(europe_cars.union(japan_cars).count()))"
      ],
      "execution_count": 22,
      "outputs": [
        {
          "output_type": "stream",
          "name": "stdout",
          "text": [
            "EUROPE CARS: 3\n",
            "JAPAN CARS: 4\n",
            "AFTER UNION: 7\n"
          ]
        }
      ]
    },
    {
      "cell_type": "markdown",
      "metadata": {
        "id": "1pfPzVOFqC_8"
      },
      "source": [
        "**Result:**\n",
        "\n",
        "> As you can see here, there were 3 cars from Europe with 5 Cylinders, and 4 cars from Japan with 3 Cylinders. After union, there are 7 cars in total.\n",
        "\n"
      ]
    },
    {
      "cell_type": "code",
      "metadata": {
        "id": "CjWjzWBoMxx0",
        "colab": {
          "base_uri": "https://localhost:8080/"
        },
        "outputId": "54cf849d-10bc-4007-f943-23184ae6f5fc"
      },
      "source": [
        "# CASE 1: Union When columns are not in order\n",
        "# Creating two dataframes with jumbled columns\n",
        "df1 = spark.createDataFrame([[1, 2, 3]], [\"col0\", \"col1\", \"col2\"])\n",
        "df2 = spark.createDataFrame([[4, 5, 6]], [\"col1\", \"col2\", \"col0\"])\n",
        "df1.unionByName(df2).show()"
      ],
      "execution_count": 23,
      "outputs": [
        {
          "output_type": "stream",
          "name": "stdout",
          "text": [
            "+----+----+----+\n",
            "|col0|col1|col2|\n",
            "+----+----+----+\n",
            "|   1|   2|   3|\n",
            "|   6|   4|   5|\n",
            "+----+----+----+\n",
            "\n"
          ]
        }
      ]
    },
    {
      "cell_type": "markdown",
      "metadata": {
        "id": "EX33t8e3PyGy"
      },
      "source": [
        "**Result:**\n",
        "\n",
        "> As you can see here, the two dataframes have been successfully merged based on their column names.\n",
        "\n"
      ]
    },
    {
      "cell_type": "markdown",
      "metadata": {
        "id": "aHjILb1DriuX"
      },
      "source": [
        "<a id='common-data-manipulation-functions'></a>\n",
        "## Common Data Manipulation Functions"
      ]
    },
    {
      "cell_type": "code",
      "metadata": {
        "id": "x3vlC7ZerlKb",
        "colab": {
          "base_uri": "https://localhost:8080/"
        },
        "outputId": "e7f6ccba-86e3-41cd-b98f-324176cb23fd"
      },
      "source": [
        "# Functions available in PySpark\n",
        "from pyspark.sql import functions\n",
        "# Similar to python, we can use the dir function to view the avaiable functions\n",
        "print(dir(functions)) "
      ],
      "execution_count": 24,
      "outputs": [
        {
          "output_type": "stream",
          "name": "stdout",
          "text": [
            "['Any', 'ArrayType', 'Callable', 'Column', 'DataFrame', 'DataType', 'Dict', 'Iterable', 'JVMView', 'List', 'Optional', 'PandasUDFType', 'PySparkTypeError', 'PySparkValueError', 'PythonEvalType', 'SparkContext', 'StringType', 'StructType', 'TYPE_CHECKING', 'Tuple', 'Union', 'UserDefinedFunction', 'ValuesView', '__builtins__', '__cached__', '__doc__', '__file__', '__loader__', '__name__', '__package__', '__spec__', '_create_column_from_literal', '_create_lambda', '_create_py_udf', '_from_numpy_type', '_get_jvm_function', '_get_lambda_parameters', '_invoke_binary_math_function', '_invoke_function', '_invoke_function_over_columns', '_invoke_function_over_seq_of_columns', '_invoke_higher_order_function', '_options_to_str', '_test', '_to_java_column', '_to_seq', '_unresolved_named_lambda_variable', 'abs', 'acos', 'acosh', 'add_months', 'aggregate', 'approxCountDistinct', 'approx_count_distinct', 'array', 'array_append', 'array_compact', 'array_contains', 'array_distinct', 'array_except', 'array_insert', 'array_intersect', 'array_join', 'array_max', 'array_min', 'array_position', 'array_remove', 'array_repeat', 'array_sort', 'array_union', 'arrays_overlap', 'arrays_zip', 'asc', 'asc_nulls_first', 'asc_nulls_last', 'ascii', 'asin', 'asinh', 'assert_true', 'atan', 'atan2', 'atanh', 'avg', 'base64', 'bin', 'bit_length', 'bitwiseNOT', 'bitwise_not', 'broadcast', 'bround', 'bucket', 'call_udf', 'cast', 'cbrt', 'ceil', 'coalesce', 'col', 'collect_list', 'collect_set', 'column', 'concat', 'concat_ws', 'conv', 'corr', 'cos', 'cosh', 'cot', 'count', 'countDistinct', 'count_distinct', 'covar_pop', 'covar_samp', 'crc32', 'create_map', 'csc', 'cume_dist', 'current_date', 'current_timestamp', 'date_add', 'date_format', 'date_sub', 'date_trunc', 'datediff', 'dayofmonth', 'dayofweek', 'dayofyear', 'days', 'decode', 'degrees', 'dense_rank', 'desc', 'desc_nulls_first', 'desc_nulls_last', 'element_at', 'encode', 'exists', 'exp', 'explode', 'explode_outer', 'expm1', 'expr', 'factorial', 'filter', 'first', 'flatten', 'floor', 'forall', 'format_number', 'format_string', 'from_csv', 'from_json', 'from_unixtime', 'from_utc_timestamp', 'functools', 'get', 'get_active_spark_context', 'get_json_object', 'greatest', 'grouping', 'grouping_id', 'has_numpy', 'hash', 'hex', 'hour', 'hours', 'hypot', 'initcap', 'inline', 'inline_outer', 'input_file_name', 'inspect', 'instr', 'isnan', 'isnull', 'json_tuple', 'kurtosis', 'lag', 'last', 'last_day', 'lead', 'least', 'length', 'levenshtein', 'lit', 'localtimestamp', 'locate', 'log', 'log10', 'log1p', 'log2', 'lower', 'lpad', 'ltrim', 'make_date', 'map_concat', 'map_contains_key', 'map_entries', 'map_filter', 'map_from_arrays', 'map_from_entries', 'map_keys', 'map_values', 'map_zip_with', 'max', 'max_by', 'md5', 'mean', 'median', 'min', 'min_by', 'minute', 'mode', 'monotonically_increasing_id', 'month', 'months', 'months_between', 'nanvl', 'next_day', 'np', 'nth_value', 'ntile', 'octet_length', 'overlay', 'overload', 'pandas_udf', 'percent_rank', 'percentile_approx', 'pmod', 'posexplode', 'posexplode_outer', 'pow', 'product', 'quarter', 'radians', 'raise_error', 'rand', 'randn', 'rank', 'regexp_extract', 'regexp_replace', 'repeat', 'reverse', 'rint', 'round', 'row_number', 'rpad', 'rtrim', 'schema_of_csv', 'schema_of_json', 'sec', 'second', 'sentences', 'sequence', 'session_window', 'sha1', 'sha2', 'shiftLeft', 'shiftRight', 'shiftRightUnsigned', 'shiftleft', 'shiftright', 'shiftrightunsigned', 'shuffle', 'signum', 'sin', 'sinh', 'size', 'skewness', 'slice', 'sort_array', 'soundex', 'spark_partition_id', 'split', 'sqrt', 'stddev', 'stddev_pop', 'stddev_samp', 'struct', 'substring', 'substring_index', 'sum', 'sumDistinct', 'sum_distinct', 'sys', 'tan', 'tanh', 'timestamp_seconds', 'toDegrees', 'toRadians', 'to_csv', 'to_date', 'to_json', 'to_str', 'to_timestamp', 'to_utc_timestamp', 'transform', 'transform_keys', 'transform_values', 'translate', 'trim', 'trunc', 'try_remote_functions', 'udf', 'unbase64', 'unhex', 'unix_timestamp', 'unwrap_udt', 'upper', 'var_pop', 'var_samp', 'variance', 'warnings', 'weekofyear', 'when', 'window', 'window_time', 'xxhash64', 'year', 'years', 'zip_with']\n"
          ]
        }
      ]
    },
    {
      "cell_type": "markdown",
      "metadata": {
        "id": "PIKigra7A34e"
      },
      "source": [
        "<a id='string-functions'></a>\n",
        "### String Functions"
      ]
    },
    {
      "cell_type": "code",
      "metadata": {
        "id": "63QDccSjBqC4"
      },
      "source": [
        "# Loading the data\n",
        "from pyspark.sql.functions import col\n",
        "df = spark.read.csv('cars.csv', header=True, sep=\";\", inferSchema=True)"
      ],
      "execution_count": 25,
      "outputs": []
    },
    {
      "cell_type": "markdown",
      "metadata": {
        "id": "LiXWN8DUA9x6"
      },
      "source": [
        "**Display the Car column in exisitng, lower and upper characters, and the first 4 characters of the column**"
      ]
    },
    {
      "cell_type": "code",
      "metadata": {
        "id": "52Gh9c99BZFr",
        "colab": {
          "base_uri": "https://localhost:8080/"
        },
        "outputId": "a4e5e003-8d1c-4e94-c781-c5c18ea70bdc"
      },
      "source": [
        "from pyspark.sql.functions import col,lower, upper, substring\n",
        "# Prints out the details of a function\n",
        "help(substring)\n",
        "# alias is used to rename the column name in the output\n",
        "df.select(col('Car'),lower(col('Car')),upper(col('Car')),substring(col('Car'),1,4).alias(\"concatenated value\")).show(5, False)"
      ],
      "execution_count": 26,
      "outputs": [
        {
          "output_type": "stream",
          "name": "stdout",
          "text": [
            "Help on function substring in module pyspark.sql.functions:\n",
            "\n",
            "substring(str: 'ColumnOrName', pos: int, len: int) -> pyspark.sql.column.Column\n",
            "    Substring starts at `pos` and is of length `len` when str is String type or\n",
            "    returns the slice of byte array that starts at `pos` in byte and is of length `len`\n",
            "    when str is Binary type.\n",
            "    \n",
            "    .. versionadded:: 1.5.0\n",
            "    \n",
            "    .. versionchanged:: 3.4.0\n",
            "        Supports Spark Connect.\n",
            "    \n",
            "    Notes\n",
            "    -----\n",
            "    The position is not zero based, but 1 based index.\n",
            "    \n",
            "    Parameters\n",
            "    ----------\n",
            "    str : :class:`~pyspark.sql.Column` or str\n",
            "        target column to work on.\n",
            "    pos : int\n",
            "        starting position in str.\n",
            "    len : int\n",
            "        length of chars.\n",
            "    \n",
            "    Returns\n",
            "    -------\n",
            "    :class:`~pyspark.sql.Column`\n",
            "        substring of given value.\n",
            "    \n",
            "    Examples\n",
            "    --------\n",
            "    >>> df = spark.createDataFrame([('abcd',)], ['s',])\n",
            "    >>> df.select(substring(df.s, 1, 2).alias('s')).collect()\n",
            "    [Row(s='ab')]\n",
            "\n",
            "+-------------------------+-------------------------+-------------------------+------------------+\n",
            "|Car                      |lower(Car)               |upper(Car)               |concatenated value|\n",
            "+-------------------------+-------------------------+-------------------------+------------------+\n",
            "|Chevrolet Chevelle Malibu|chevrolet chevelle malibu|CHEVROLET CHEVELLE MALIBU|Chev              |\n",
            "|Buick Skylark 320        |buick skylark 320        |BUICK SKYLARK 320        |Buic              |\n",
            "|Plymouth Satellite       |plymouth satellite       |PLYMOUTH SATELLITE       |Plym              |\n",
            "|AMC Rebel SST            |amc rebel sst            |AMC REBEL SST            |AMC               |\n",
            "|Ford Torino              |ford torino              |FORD TORINO              |Ford              |\n",
            "+-------------------------+-------------------------+-------------------------+------------------+\n",
            "only showing top 5 rows\n",
            "\n"
          ]
        }
      ]
    },
    {
      "cell_type": "markdown",
      "metadata": {
        "id": "GZJFdTbk6rBt"
      },
      "source": [
        "**Concatenate the Car column and Model column and add a space between them.**"
      ]
    },
    {
      "cell_type": "code",
      "metadata": {
        "colab": {
          "base_uri": "https://localhost:8080/"
        },
        "id": "8Lo951Cg6phi",
        "outputId": "1110ab5a-d9c8-43b5-d2e2-a0b3a7949fb0"
      },
      "source": [
        "from pyspark.sql.functions import concat\n",
        "df.select(col(\"Car\"),col(\"model\"),concat(col(\"Car\"), lit(\" \"), col(\"model\"))).show(5, False)"
      ],
      "execution_count": 31,
      "outputs": [
        {
          "output_type": "stream",
          "name": "stdout",
          "text": [
            "+-------------------------+-----+----------------------------+\n",
            "|Car                      |model|concat(Car,  , model)       |\n",
            "+-------------------------+-----+----------------------------+\n",
            "|Chevrolet Chevelle Malibu|70   |Chevrolet Chevelle Malibu 70|\n",
            "|Buick Skylark 320        |70   |Buick Skylark 320 70        |\n",
            "|Plymouth Satellite       |70   |Plymouth Satellite 70       |\n",
            "|AMC Rebel SST            |70   |AMC Rebel SST 70            |\n",
            "|Ford Torino              |70   |Ford Torino 70              |\n",
            "+-------------------------+-----+----------------------------+\n",
            "only showing top 5 rows\n",
            "\n"
          ]
        }
      ]
    },
    {
      "cell_type": "markdown",
      "metadata": {
        "id": "ldtA0wk9BMkT"
      },
      "source": [
        "<a id='numeric-functions'></a>\n",
        "### Numeric functions"
      ]
    },
    {
      "cell_type": "markdown",
      "metadata": {
        "id": "kmz4G5LVBOs6"
      },
      "source": [
        "**Show the oldest date and the most recent date**"
      ]
    },
    {
      "cell_type": "code",
      "metadata": {
        "id": "wBDDH-YpBbdk",
        "colab": {
          "base_uri": "https://localhost:8080/"
        },
        "outputId": "418a5a47-2b1d-4927-e0e7-b4228d9388f1"
      },
      "source": [
        "from pyspark.sql.functions import min, max\n",
        "df.select(min(col('Weight')), max(col('Weight'))).show()"
      ],
      "execution_count": 32,
      "outputs": [
        {
          "output_type": "stream",
          "name": "stdout",
          "text": [
            "+-----------+-----------+\n",
            "|min(Weight)|max(Weight)|\n",
            "+-----------+-----------+\n",
            "|       1613|       5140|\n",
            "+-----------+-----------+\n",
            "\n"
          ]
        }
      ]
    },
    {
      "cell_type": "markdown",
      "metadata": {
        "id": "MTg-Royz7Nvi"
      },
      "source": [
        "**Add 10 to the minimum and maximum weight**"
      ]
    },
    {
      "cell_type": "code",
      "metadata": {
        "colab": {
          "base_uri": "https://localhost:8080/"
        },
        "id": "YeiemMsI7Vm2",
        "outputId": "3f74a723-414b-4363-c21f-dca8fea3c662"
      },
      "source": [
        "from pyspark.sql.functions import min, max, lit\n",
        "df.select(min(col('Weight'))+lit(10), max(col('Weight')+lit(10))).show()"
      ],
      "execution_count": 33,
      "outputs": [
        {
          "output_type": "stream",
          "name": "stdout",
          "text": [
            "+------------------+------------------+\n",
            "|(min(Weight) + 10)|max((Weight + 10))|\n",
            "+------------------+------------------+\n",
            "|              1623|              5150|\n",
            "+------------------+------------------+\n",
            "\n"
          ]
        }
      ]
    },
    {
      "cell_type": "markdown",
      "metadata": {
        "id": "KQ6Ul9HGCwC3"
      },
      "source": [
        "<a id='operations-on-date'></a>\n",
        "### Operations on Date"
      ]
    },
    {
      "cell_type": "markdown",
      "metadata": {
        "id": "s1jmBN2qFHyk"
      },
      "source": [
        "> [PySpark follows SimpleDateFormat table of Java. Click here to view the docs.](https://docs.oracle.com/javase/7/docs/api/java/text/SimpleDateFormat.html)"
      ]
    },
    {
      "cell_type": "code",
      "metadata": {
        "id": "sCTeI_JvDCsH",
        "colab": {
          "base_uri": "https://localhost:8080/"
        },
        "outputId": "89eafe76-d167-4da7-ecaa-85663a54cdf6"
      },
      "source": [
        "from pyspark.sql.functions import to_date, to_timestamp, lit\n",
        "df = spark.createDataFrame([('2019-12-25 13:30:00',)], ['DOB'])\n",
        "df.show()\n",
        "df.printSchema()"
      ],
      "execution_count": 34,
      "outputs": [
        {
          "output_type": "stream",
          "name": "stdout",
          "text": [
            "+-------------------+\n",
            "|                DOB|\n",
            "+-------------------+\n",
            "|2019-12-25 13:30:00|\n",
            "+-------------------+\n",
            "\n",
            "root\n",
            " |-- DOB: string (nullable = true)\n",
            "\n"
          ]
        }
      ]
    },
    {
      "cell_type": "code",
      "metadata": {
        "id": "ZH8ja1eHEW8x",
        "colab": {
          "base_uri": "https://localhost:8080/"
        },
        "outputId": "18a4a309-1911-44fb-9d31-f98cefbb4cb1"
      },
      "source": [
        "df = spark.createDataFrame([('2019-12-25 13:30:00',)], ['DOB'])\n",
        "df = df.select(to_date(col('DOB'),'yyyy-MM-dd HH:mm:ss'), to_timestamp(col('DOB'),'yyyy-MM-dd HH:mm:ss'))\n",
        "df.show()\n",
        "df.printSchema()"
      ],
      "execution_count": 35,
      "outputs": [
        {
          "output_type": "stream",
          "name": "stdout",
          "text": [
            "+---------------------------------+--------------------------------------+\n",
            "|to_date(DOB, yyyy-MM-dd HH:mm:ss)|to_timestamp(DOB, yyyy-MM-dd HH:mm:ss)|\n",
            "+---------------------------------+--------------------------------------+\n",
            "|                       2019-12-25|                   2019-12-25 13:30:00|\n",
            "+---------------------------------+--------------------------------------+\n",
            "\n",
            "root\n",
            " |-- to_date(DOB, yyyy-MM-dd HH:mm:ss): date (nullable = true)\n",
            " |-- to_timestamp(DOB, yyyy-MM-dd HH:mm:ss): timestamp (nullable = true)\n",
            "\n"
          ]
        }
      ]
    },
    {
      "cell_type": "code",
      "metadata": {
        "id": "7g9m_8PPErI1",
        "colab": {
          "base_uri": "https://localhost:8080/"
        },
        "outputId": "20e2b0d5-3cbf-499f-9a01-04e71670809e"
      },
      "source": [
        "df = spark.createDataFrame([('25/Dec/2019 13:30:00',)], ['DOB'])\n",
        "df = df.select(to_date(col('DOB'),'dd/MMM/yyyy HH:mm:ss'), to_timestamp(col('DOB'),'dd/MMM/yyyy HH:mm:ss'))\n",
        "df.show()\n",
        "df.printSchema()"
      ],
      "execution_count": null,
      "outputs": [
        {
          "output_type": "stream",
          "name": "stdout",
          "text": [
            "+----------------------------------+---------------------------------------+\n",
            "|to_date(DOB, dd/MMM/yyyy HH:mm:ss)|to_timestamp(DOB, dd/MMM/yyyy HH:mm:ss)|\n",
            "+----------------------------------+---------------------------------------+\n",
            "|                        2019-12-25|                    2019-12-25 13:30:00|\n",
            "+----------------------------------+---------------------------------------+\n",
            "\n",
            "root\n",
            " |-- to_date(DOB, dd/MMM/yyyy HH:mm:ss): date (nullable = true)\n",
            " |-- to_timestamp(DOB, dd/MMM/yyyy HH:mm:ss): timestamp (nullable = true)\n",
            "\n"
          ]
        }
      ]
    },
    {
      "cell_type": "markdown",
      "metadata": {
        "id": "dIPQyQV7-Hz5"
      },
      "source": [
        "**What is 3 days earlier that the oldest date and 3 days later than the most recent date?**"
      ]
    },
    {
      "cell_type": "code",
      "metadata": {
        "colab": {
          "base_uri": "https://localhost:8080/"
        },
        "id": "PUCEwQkZ-I7h",
        "outputId": "9074e520-a3ab-40e8-8c7c-75ecbba9a67d"
      },
      "source": [
        "from pyspark.sql.functions import date_add, date_sub\n",
        "# create a dummy dataframe\n",
        "df = spark.createDataFrame([('1990-01-01',),('1995-01-03',),('2021-03-30',)], ['Date'])\n",
        "# find out the required dates\n",
        "df.select(date_add(max(col('Date')),3), date_sub(min(col('Date')),3)).show()"
      ],
      "execution_count": null,
      "outputs": [
        {
          "output_type": "stream",
          "name": "stdout",
          "text": [
            "+----------------------+----------------------+\n",
            "|date_add(max(Date), 3)|date_sub(min(Date), 3)|\n",
            "+----------------------+----------------------+\n",
            "|            2021-04-02|            1989-12-29|\n",
            "+----------------------+----------------------+\n",
            "\n"
          ]
        }
      ]
    },
    {
      "cell_type": "markdown",
      "metadata": {
        "id": "7OZElEvcGOD1"
      },
      "source": [
        "<a id='joins-in-pyspark'></a>\n",
        "## Joins in PySpark"
      ]
    },
    {
      "cell_type": "code",
      "metadata": {
        "id": "UJBC7r3JFyCL",
        "colab": {
          "base_uri": "https://localhost:8080/"
        },
        "outputId": "cbecb6c6-27d5-44a7-a574-7288adf5007d"
      },
      "source": [
        "# Create two dataframes\n",
        "cars_df = spark.createDataFrame([[1, 'Car A'],[2, 'Car B'],[3, 'Car C']], [\"id\", \"car_name\"])\n",
        "car_price_df = spark.createDataFrame([[1, 1000],[2, 2000],[3, 3000]], [\"id\", \"car_price\"])\n",
        "cars_df.show()\n",
        "car_price_df.show()"
      ],
      "execution_count": 36,
      "outputs": [
        {
          "output_type": "stream",
          "name": "stdout",
          "text": [
            "+---+--------+\n",
            "| id|car_name|\n",
            "+---+--------+\n",
            "|  1|   Car A|\n",
            "|  2|   Car B|\n",
            "|  3|   Car C|\n",
            "+---+--------+\n",
            "\n",
            "+---+---------+\n",
            "| id|car_price|\n",
            "+---+---------+\n",
            "|  1|     1000|\n",
            "|  2|     2000|\n",
            "|  3|     3000|\n",
            "+---+---------+\n",
            "\n"
          ]
        }
      ]
    },
    {
      "cell_type": "code",
      "metadata": {
        "id": "U7Py4EYyKJTN",
        "colab": {
          "base_uri": "https://localhost:8080/"
        },
        "outputId": "f03920ed-1d76-4555-9753-76aa8ac97c2a"
      },
      "source": [
        "# Executing an inner join so we can see the id, name and price of each car in one row\n",
        "cars_df.join(car_price_df, cars_df.id == car_price_df.id, 'inner').select(cars_df['id'],cars_df['car_name'],car_price_df['car_price']).show(truncate=False)"
      ],
      "execution_count": 37,
      "outputs": [
        {
          "output_type": "stream",
          "name": "stdout",
          "text": [
            "+---+--------+---------+\n",
            "|id |car_name|car_price|\n",
            "+---+--------+---------+\n",
            "|1  |Car A   |1000     |\n",
            "|2  |Car B   |2000     |\n",
            "|3  |Car C   |3000     |\n",
            "+---+--------+---------+\n",
            "\n"
          ]
        }
      ]
    },
    {
      "cell_type": "markdown",
      "metadata": {
        "id": "vj0mPaHU5i5n"
      },
      "source": [
        "As you can see, we have done an inner join between two dataframes. The following joins are supported by PySpark:\n",
        "1. inner (default)\n",
        "2. cross\n",
        "3. outer\n",
        "4. full\n",
        "5. full_outer\n",
        "6. left\n",
        "7. left_outer\n",
        "8. right\n",
        "9. right_outer\n",
        "10. left_semi\n",
        "11. left_anti"
      ]
    },
    {
      "cell_type": "markdown",
      "metadata": {
        "id": "HNPhsx8P2tUH"
      },
      "source": [
        "<a id='spark-sql'></a>\n",
        "## Spark SQL"
      ]
    },
    {
      "cell_type": "markdown",
      "metadata": {
        "id": "rHMvBBAh23cw"
      },
      "source": [
        "SQL has been around since the 1970s, and so one can imagine the number of people who made it their bread and butter. As big data came into popularity, the number of professionals with the technical knowledge to deal with it was in shortage. This led to the creation of Spark SQL. To quote the docs:<br>\n",
        ">Spark SQL is a Spark module for structured data processing. Unlike the basic Spark RDD API, the interfaces provided by Spark SQL provide Spark with more information about the structure of both the data and the computation being performed. Internally, Spark SQL uses this extra information to perform extra optimizations.\n",
        "\n",
        "Basically, what you need to know is that Spark SQL is used to execute SQL queries on big data. Spark SQL can also be used to read data from Hive tables and views. Let me explain Spark SQL with an example.\n"
      ]
    },
    {
      "cell_type": "code",
      "metadata": {
        "id": "g2DaK9-D7QkX",
        "colab": {
          "base_uri": "https://localhost:8080/"
        },
        "outputId": "9c40fd8c-033d-422b-cfd6-5c7832e2447a"
      },
      "source": [
        "# Load data\n",
        "df = spark.read.csv('cars.csv', header=True, sep=\";\")\n",
        "# Register Temporary Table\n",
        "df.createOrReplaceTempView(\"temp\")\n",
        "# Select all data from temp table\n",
        "spark.sql(\"select * from temp limit 5\").show()\n",
        "# Select count of data in table\n",
        "spark.sql(\"select count(*) as total_count from temp\").show()"
      ],
      "execution_count": 38,
      "outputs": [
        {
          "output_type": "stream",
          "name": "stdout",
          "text": [
            "+--------------------+----+---------+------------+----------+------+------------+-----+------+\n",
            "|                 Car| MPG|Cylinders|Displacement|Horsepower|Weight|Acceleration|Model|Origin|\n",
            "+--------------------+----+---------+------------+----------+------+------------+-----+------+\n",
            "|Chevrolet Chevell...|18.0|        8|       307.0|     130.0| 3504.|        12.0|   70|    US|\n",
            "|   Buick Skylark 320|15.0|        8|       350.0|     165.0| 3693.|        11.5|   70|    US|\n",
            "|  Plymouth Satellite|18.0|        8|       318.0|     150.0| 3436.|        11.0|   70|    US|\n",
            "|       AMC Rebel SST|16.0|        8|       304.0|     150.0| 3433.|        12.0|   70|    US|\n",
            "|         Ford Torino|17.0|        8|       302.0|     140.0| 3449.|        10.5|   70|    US|\n",
            "+--------------------+----+---------+------------+----------+------+------------+-----+------+\n",
            "\n",
            "+-----------+\n",
            "|total_count|\n",
            "+-----------+\n",
            "|        406|\n",
            "+-----------+\n",
            "\n"
          ]
        }
      ]
    },
    {
      "cell_type": "markdown",
      "metadata": {
        "id": "6i32WE8j_ec8"
      },
      "source": [
        "As you can see, we registered the dataframe as temporary table and then ran basic SQL queries on it. How amazing is that?!<br>\n",
        "If you are a person who is more comfortable with SQL, then this feature is truly a blessing for you! But this raises a question: \n",
        "> *Should I just keep using Spark SQL all the time?*\n",
        "\n",
        "And the answer is, _**it depends**_.<br>\n",
        "So basically, the different functions acts in differnet ways, and depending upon the type of action you are trying to do, the speed at which it completes execution also differs. But as time progress, this feature is getting better and better, so hopefully the difference should be a small margin. There are plenty of analysis done on this, but nothing has a definite answer yet. You can read this [comparative study done by horton works](https://community.cloudera.com/t5/Community-Articles/Spark-RDDs-vs-DataFrames-vs-SparkSQL/ta-p/246547) or the answer to this [stackoverflow question](https://stackoverflow.com/questions/45430816/writing-sql-vs-using-dataframe-apis-in-spark-sql) if you are still curious about it."
      ]
    },
    {
      "cell_type": "markdown",
      "metadata": {
        "id": "x62BiCgBMOtq"
      },
      "source": [
        "<a id='rdd'></a>\n",
        "## RDD"
      ]
    },
    {
      "cell_type": "markdown",
      "metadata": {
        "id": "VGXK6uEuUKRh"
      },
      "source": [
        "> With map, you define a function and then apply it record by record. Flatmap returns a new RDD by first applying a function to all of the elements in RDDs and then flattening the result. Filter, returns a new RDD. Meaning only the elements that satisfy a condition. With reduce, we are taking neighboring elements and producing a single combined result.\n",
        "For example, let's say you have a set of numbers. You can reduce this to its sum by providing a function that takes as input two values and reduces them to one. \n",
        "\n",
        "Some of the reasons you would use a dataframe over RDD are:\n",
        "1.   It's ability to represnt data as rows and columns. But this also means it can only hold structred and semi-structured data.\n",
        "2.   It allows processing data in different formats (AVRO, CSV, JSON, and storage system HDFS, HIVE tables, MySQL).\n",
        "3. It's superior job Optimization capability.\n",
        "4. DataFrame API is very easy to use.\n",
        "\n",
        "\n",
        "\n"
      ]
    },
    {
      "cell_type": "code",
      "metadata": {
        "id": "0_WvAgyvR7m6",
        "colab": {
          "base_uri": "https://localhost:8080/"
        },
        "outputId": "1cbb8c13-1008-4610-9d3f-fadd036fa432"
      },
      "source": [
        "cars = spark.sparkContext.textFile('cars.csv')\n",
        "print(cars.first())\n",
        "cars_header = cars.first()\n",
        "cars_rest = cars.filter(lambda line: line!=cars_header)\n",
        "print(cars_rest.first())"
      ],
      "execution_count": 39,
      "outputs": [
        {
          "output_type": "stream",
          "name": "stdout",
          "text": [
            "Car;MPG;Cylinders;Displacement;Horsepower;Weight;Acceleration;Model;Origin\n",
            "Chevrolet Chevelle Malibu;18.0;8;307.0;130.0;3504.;12.0;70;US\n"
          ]
        }
      ]
    },
    {
      "cell_type": "markdown",
      "metadata": {
        "id": "P65eAFO3Mkdd"
      },
      "source": [
        "**How many cars are there in our csv data?**"
      ]
    },
    {
      "cell_type": "code",
      "metadata": {
        "id": "Vi03EU0CMSmO",
        "colab": {
          "base_uri": "https://localhost:8080/"
        },
        "outputId": "eca2564a-c1e5-419d-90f7-fb95863adaa6"
      },
      "source": [
        "cars_rest.map(lambda line: line.split(\";\")).count()"
      ],
      "execution_count": 40,
      "outputs": [
        {
          "output_type": "execute_result",
          "data": {
            "text/plain": [
              "406"
            ]
          },
          "metadata": {},
          "execution_count": 40
        }
      ]
    },
    {
      "cell_type": "markdown",
      "metadata": {
        "id": "3c4bci70MnlQ"
      },
      "source": [
        "**Display the Car name, MPG, Cylinders, Weight and Origin for the cars Originating in Europe**"
      ]
    },
    {
      "cell_type": "code",
      "metadata": {
        "id": "fWFpo_WxMnvm",
        "colab": {
          "base_uri": "https://localhost:8080/"
        },
        "outputId": "53d3e85b-819d-49de-eceb-c73df4ea40a7"
      },
      "source": [
        "# Car name is column  0\n",
        "(cars_rest.filter(lambda line: line.split(\";\")[8]=='Europe').\n",
        " map(lambda line: (line.split(\";\")[0],\n",
        "    line.split(\";\")[1],\n",
        "    line.split(\";\")[2],\n",
        "    line.split(\";\")[5],\n",
        "    line.split(\";\")[8])).collect())"
      ],
      "execution_count": 41,
      "outputs": [
        {
          "output_type": "execute_result",
          "data": {
            "text/plain": [
              "[('Citroen DS-21 Pallas', '0', '4', '3090.', 'Europe'),\n",
              " ('Volkswagen 1131 Deluxe Sedan', '26.0', '4', '1835.', 'Europe'),\n",
              " ('Peugeot 504', '25.0', '4', '2672.', 'Europe'),\n",
              " ('Audi 100 LS', '24.0', '4', '2430.', 'Europe'),\n",
              " ('Saab 99e', '25.0', '4', '2375.', 'Europe'),\n",
              " ('BMW 2002', '26.0', '4', '2234.', 'Europe'),\n",
              " ('Volkswagen Super Beetle 117', '0', '4', '1978.', 'Europe'),\n",
              " ('Opel 1900', '28.0', '4', '2123.', 'Europe'),\n",
              " ('Peugeot 304', '30.0', '4', '2074.', 'Europe'),\n",
              " ('Fiat 124B', '30.0', '4', '2065.', 'Europe'),\n",
              " ('Volkswagen Model 111', '27.0', '4', '1834.', 'Europe'),\n",
              " ('Volkswagen Type 3', '23.0', '4', '2254.', 'Europe'),\n",
              " ('Volvo 145e (sw)', '18.0', '4', '2933.', 'Europe'),\n",
              " ('Volkswagen 411 (sw)', '22.0', '4', '2511.', 'Europe'),\n",
              " ('Peugeot 504 (sw)', '21.0', '4', '2979.', 'Europe'),\n",
              " ('Renault 12 (sw)', '26.0', '4', '2189.', 'Europe'),\n",
              " ('Volkswagen Super Beetle', '26.0', '4', '1950.', 'Europe'),\n",
              " ('Fiat 124 Sport Coupe', '26.0', '4', '2265.', 'Europe'),\n",
              " ('Fiat 128', '29.0', '4', '1867.', 'Europe'),\n",
              " ('Opel Manta', '24.0', '4', '2158.', 'Europe'),\n",
              " ('Audi 100LS', '20.0', '4', '2582.', 'Europe'),\n",
              " ('Volvo 144ea', '19.0', '4', '2868.', 'Europe'),\n",
              " ('Saab 99le', '24.0', '4', '2660.', 'Europe'),\n",
              " ('Audi Fox', '29.0', '4', '2219.', 'Europe'),\n",
              " ('Volkswagen Dasher', '26.0', '4', '1963.', 'Europe'),\n",
              " ('Opel Manta', '26.0', '4', '2300.', 'Europe'),\n",
              " ('Fiat 128', '24.0', '4', '2108.', 'Europe'),\n",
              " ('Fiat 124 TC', '26.0', '4', '2246.', 'Europe'),\n",
              " ('Fiat x1.9', '31.0', '4', '2000.', 'Europe'),\n",
              " ('Volkswagen Dasher', '25.0', '4', '2223.', 'Europe'),\n",
              " ('Volkswagen Rabbit', '29.0', '4', '1937.', 'Europe'),\n",
              " ('Audi 100LS', '23.0', '4', '2694.', 'Europe'),\n",
              " ('Peugeot 504', '23.0', '4', '2957.', 'Europe'),\n",
              " ('Volvo 244DL', '22.0', '4', '2945.', 'Europe'),\n",
              " ('Saab 99LE', '25.0', '4', '2671.', 'Europe'),\n",
              " ('Fiat 131', '28.0', '4', '2464.', 'Europe'),\n",
              " ('Opel 1900', '25.0', '4', '2220.', 'Europe'),\n",
              " ('Renault 12tl', '27.0', '4', '2202.', 'Europe'),\n",
              " ('Volkswagen Rabbit', '29.0', '4', '1937.', 'Europe'),\n",
              " ('Volkswagen Rabbit', '29.5', '4', '1825.', 'Europe'),\n",
              " ('Volvo 245', '20.0', '4', '3150.', 'Europe'),\n",
              " ('Peugeot 504', '19.0', '4', '3270.', 'Europe'),\n",
              " ('Mercedes-Benz 280s', '16.5', '6', '3820.', 'Europe'),\n",
              " ('Renault 5 GTL', '36.0', '4', '1825.', 'Europe'),\n",
              " ('Volkswagen Rabbit Custom', '29.0', '4', '1940.', 'Europe'),\n",
              " ('Volkswagen Dasher', '30.5', '4', '2190.', 'Europe'),\n",
              " ('BMW 320i', '21.5', '4', '2600.', 'Europe'),\n",
              " ('Volkswagen Rabbit Custom Diesel', '43.1', '4', '1985.', 'Europe'),\n",
              " ('Audi 5000', '20.3', '5', '2830.', 'Europe'),\n",
              " ('Volvo 264gl', '17.0', '6', '3140.', 'Europe'),\n",
              " ('Saab 99gle', '21.6', '4', '2795.', 'Europe'),\n",
              " ('Peugeot 604sl', '16.2', '6', '3410.', 'Europe'),\n",
              " ('Volkswagen Scirocco', '31.5', '4', '1990.', 'Europe'),\n",
              " ('Volkswagen Rabbit Custom', '31.9', '4', '1925.', 'Europe'),\n",
              " ('Mercedes Benz 300d', '25.4', '5', '3530.', 'Europe'),\n",
              " ('Peugeot 504', '27.2', '4', '3190.', 'Europe'),\n",
              " ('Fiat Strada Custom', '37.3', '4', '2130.', 'Europe'),\n",
              " ('Volkswagen Rabbit', '41.5', '4', '2144.', 'Europe'),\n",
              " ('Audi 4000', '34.3', '4', '2188.', 'Europe'),\n",
              " ('Volkswagen Rabbit C (Diesel)', '44.3', '4', '2085.', 'Europe'),\n",
              " ('Volkswagen Dasher (diesel)', '43.4', '4', '2335.', 'Europe'),\n",
              " ('Audi 5000s (diesel)', '36.4', '5', '2950.', 'Europe'),\n",
              " ('Mercedes-Benz 240d', '30.0', '4', '3250.', 'Europe'),\n",
              " ('Renault Lecar Deluxe', '40.9', '4', '1835.', 'Europe'),\n",
              " ('Volkswagen Rabbit', '29.8', '4', '1845.', 'Europe'),\n",
              " ('Triumph TR7 Coupe', '35.0', '4', '2500.', 'Europe'),\n",
              " ('Volkswagen Jetta', '33.0', '4', '2190.', 'Europe'),\n",
              " ('Renault 18i', '34.5', '4', '2320.', 'Europe'),\n",
              " ('Peugeot 505s Turbo Diesel', '28.1', '4', '3230.', 'Europe'),\n",
              " ('Saab 900s', '0', '4', '2800.', 'Europe'),\n",
              " ('Volvo Diesel', '30.7', '6', '3160.', 'Europe'),\n",
              " ('Volkswagen Rabbit l', '36.0', '4', '1980.', 'Europe'),\n",
              " ('Volkswagen Pickup', '44.0', '4', '2130.', 'Europe')]"
            ]
          },
          "metadata": {},
          "execution_count": 41
        }
      ]
    },
    {
      "cell_type": "markdown",
      "metadata": {
        "id": "ZYmb5FscMph3"
      },
      "source": [
        "**Display the Car name, MPG, Cylinders, Weight and Origin for the cars Originating in either Europe or Japan**"
      ]
    },
    {
      "cell_type": "code",
      "metadata": {
        "id": "6ZcRIX3mMquF",
        "colab": {
          "base_uri": "https://localhost:8080/"
        },
        "outputId": "88df8287-4b5c-48e6-bced-58003230a6b4"
      },
      "source": [
        "# Car name is column  0\n",
        "(cars_rest.filter(lambda line: line.split(\";\")[8] in ['Europe','Japan']).\n",
        " map(lambda line: (line.split(\";\")[0],\n",
        "    line.split(\";\")[1],\n",
        "    line.split(\";\")[2],\n",
        "    line.split(\";\")[5],\n",
        "    line.split(\";\")[8])).collect())"
      ],
      "execution_count": 42,
      "outputs": [
        {
          "output_type": "execute_result",
          "data": {
            "text/plain": [
              "[('Citroen DS-21 Pallas', '0', '4', '3090.', 'Europe'),\n",
              " ('Toyota Corolla Mark ii', '24.0', '4', '2372.', 'Japan'),\n",
              " ('Datsun PL510', '27.0', '4', '2130.', 'Japan'),\n",
              " ('Volkswagen 1131 Deluxe Sedan', '26.0', '4', '1835.', 'Europe'),\n",
              " ('Peugeot 504', '25.0', '4', '2672.', 'Europe'),\n",
              " ('Audi 100 LS', '24.0', '4', '2430.', 'Europe'),\n",
              " ('Saab 99e', '25.0', '4', '2375.', 'Europe'),\n",
              " ('BMW 2002', '26.0', '4', '2234.', 'Europe'),\n",
              " ('Datsun PL510', '27.0', '4', '2130.', 'Japan'),\n",
              " ('Toyota Corolla', '25.0', '4', '2228.', 'Japan'),\n",
              " ('Volkswagen Super Beetle 117', '0', '4', '1978.', 'Europe'),\n",
              " ('Opel 1900', '28.0', '4', '2123.', 'Europe'),\n",
              " ('Peugeot 304', '30.0', '4', '2074.', 'Europe'),\n",
              " ('Fiat 124B', '30.0', '4', '2065.', 'Europe'),\n",
              " ('Toyota Corolla 1200', '31.0', '4', '1773.', 'Japan'),\n",
              " ('Datsun 1200', '35.0', '4', '1613.', 'Japan'),\n",
              " ('Volkswagen Model 111', '27.0', '4', '1834.', 'Europe'),\n",
              " ('Toyota Corolla Hardtop', '24.0', '4', '2278.', 'Japan'),\n",
              " ('Volkswagen Type 3', '23.0', '4', '2254.', 'Europe'),\n",
              " ('Mazda RX2 Coupe', '19.0', '3', '2330.', 'Japan'),\n",
              " ('Volvo 145e (sw)', '18.0', '4', '2933.', 'Europe'),\n",
              " ('Volkswagen 411 (sw)', '22.0', '4', '2511.', 'Europe'),\n",
              " ('Peugeot 504 (sw)', '21.0', '4', '2979.', 'Europe'),\n",
              " ('Renault 12 (sw)', '26.0', '4', '2189.', 'Europe'),\n",
              " ('Datsun 510 (sw)', '28.0', '4', '2288.', 'Japan'),\n",
              " ('Toyota Corolla Mark II (sw)', '23.0', '4', '2506.', 'Japan'),\n",
              " ('Toyota Corolla 1600 (sw)', '27.0', '4', '2100.', 'Japan'),\n",
              " ('Volkswagen Super Beetle', '26.0', '4', '1950.', 'Europe'),\n",
              " ('Toyota Camry', '20.0', '4', '2279.', 'Japan'),\n",
              " ('Datsun 610', '22.0', '4', '2379.', 'Japan'),\n",
              " ('Mazda RX3', '18.0', '3', '2124.', 'Japan'),\n",
              " ('Fiat 124 Sport Coupe', '26.0', '4', '2265.', 'Europe'),\n",
              " ('Fiat 128', '29.0', '4', '1867.', 'Europe'),\n",
              " ('Opel Manta', '24.0', '4', '2158.', 'Europe'),\n",
              " ('Audi 100LS', '20.0', '4', '2582.', 'Europe'),\n",
              " ('Volvo 144ea', '19.0', '4', '2868.', 'Europe'),\n",
              " ('Saab 99le', '24.0', '4', '2660.', 'Europe'),\n",
              " ('Toyota Mark II', '20.0', '6', '2807.', 'Japan'),\n",
              " ('Datsun B210', '31.0', '4', '1950.', 'Japan'),\n",
              " ('Toyota Corolla 1200', '32.0', '4', '1836.', 'Japan'),\n",
              " ('Audi Fox', '29.0', '4', '2219.', 'Europe'),\n",
              " ('Volkswagen Dasher', '26.0', '4', '1963.', 'Europe'),\n",
              " ('Opel Manta', '26.0', '4', '2300.', 'Europe'),\n",
              " ('Toyota Corolla', '31.0', '4', '1649.', 'Japan'),\n",
              " ('Datsun 710', '32.0', '4', '2003.', 'Japan'),\n",
              " ('Fiat 128', '24.0', '4', '2108.', 'Europe'),\n",
              " ('Fiat 124 TC', '26.0', '4', '2246.', 'Europe'),\n",
              " ('Honda Civic', '24.0', '4', '2489.', 'Japan'),\n",
              " ('Subaru', '26.0', '4', '2391.', 'Japan'),\n",
              " ('Fiat x1.9', '31.0', '4', '2000.', 'Europe'),\n",
              " ('Toyota Corolla', '29.0', '4', '2171.', 'Japan'),\n",
              " ('Toyota Corolla', '24.0', '4', '2702.', 'Japan'),\n",
              " ('Volkswagen Dasher', '25.0', '4', '2223.', 'Europe'),\n",
              " ('Datsun 710', '24.0', '4', '2545.', 'Japan'),\n",
              " ('Volkswagen Rabbit', '29.0', '4', '1937.', 'Europe'),\n",
              " ('Audi 100LS', '23.0', '4', '2694.', 'Europe'),\n",
              " ('Peugeot 504', '23.0', '4', '2957.', 'Europe'),\n",
              " ('Volvo 244DL', '22.0', '4', '2945.', 'Europe'),\n",
              " ('Saab 99LE', '25.0', '4', '2671.', 'Europe'),\n",
              " ('Honda Civic CVCC', '33.0', '4', '1795.', 'Japan'),\n",
              " ('Fiat 131', '28.0', '4', '2464.', 'Europe'),\n",
              " ('Opel 1900', '25.0', '4', '2220.', 'Europe'),\n",
              " ('Renault 12tl', '27.0', '4', '2202.', 'Europe'),\n",
              " ('Volkswagen Rabbit', '29.0', '4', '1937.', 'Europe'),\n",
              " ('Honda Civic', '33.0', '4', '1795.', 'Japan'),\n",
              " ('Volkswagen Rabbit', '29.5', '4', '1825.', 'Europe'),\n",
              " ('Datsun B-210', '32.0', '4', '1990.', 'Japan'),\n",
              " ('Toyota Corolla', '28.0', '4', '2155.', 'Japan'),\n",
              " ('Volvo 245', '20.0', '4', '3150.', 'Europe'),\n",
              " ('Peugeot 504', '19.0', '4', '3270.', 'Europe'),\n",
              " ('Toyota Mark II', '19.0', '6', '2930.', 'Japan'),\n",
              " ('Mercedes-Benz 280s', '16.5', '6', '3820.', 'Europe'),\n",
              " ('Honda Accord CVCC', '31.5', '4', '2045.', 'Japan'),\n",
              " ('Renault 5 GTL', '36.0', '4', '1825.', 'Europe'),\n",
              " ('Datsun F-10 Hatchback', '33.5', '4', '1945.', 'Japan'),\n",
              " ('Volkswagen Rabbit Custom', '29.0', '4', '1940.', 'Europe'),\n",
              " ('Toyota Corolla Liftback', '26.0', '4', '2265.', 'Japan'),\n",
              " ('Subaru DL', '30.0', '4', '1985.', 'Japan'),\n",
              " ('Volkswagen Dasher', '30.5', '4', '2190.', 'Europe'),\n",
              " ('Datsun 810', '22.0', '6', '2815.', 'Japan'),\n",
              " ('BMW 320i', '21.5', '4', '2600.', 'Europe'),\n",
              " ('Mazda RX-4', '21.5', '3', '2720.', 'Japan'),\n",
              " ('Volkswagen Rabbit Custom Diesel', '43.1', '4', '1985.', 'Europe'),\n",
              " ('Mazda GLC Deluxe', '32.8', '4', '1985.', 'Japan'),\n",
              " ('Datsun B210 GX', '39.4', '4', '2070.', 'Japan'),\n",
              " ('Honda Civic CVCC', '36.1', '4', '1800.', 'Japan'),\n",
              " ('Toyota Corolla', '27.5', '4', '2560.', 'Japan'),\n",
              " ('Datsun 510', '27.2', '4', '2300.', 'Japan'),\n",
              " ('Toyota Celica GT Liftback', '21.1', '4', '2515.', 'Japan'),\n",
              " ('Datsun 200-SX', '23.9', '4', '2405.', 'Japan'),\n",
              " ('Audi 5000', '20.3', '5', '2830.', 'Europe'),\n",
              " ('Volvo 264gl', '17.0', '6', '3140.', 'Europe'),\n",
              " ('Saab 99gle', '21.6', '4', '2795.', 'Europe'),\n",
              " ('Peugeot 604sl', '16.2', '6', '3410.', 'Europe'),\n",
              " ('Volkswagen Scirocco', '31.5', '4', '1990.', 'Europe'),\n",
              " ('Honda Accord LX', '29.5', '4', '2135.', 'Japan'),\n",
              " ('Volkswagen Rabbit Custom', '31.9', '4', '1925.', 'Europe'),\n",
              " ('Mazda GLC Deluxe', '34.1', '4', '1975.', 'Japan'),\n",
              " ('Mercedes Benz 300d', '25.4', '5', '3530.', 'Europe'),\n",
              " ('Peugeot 504', '27.2', '4', '3190.', 'Europe'),\n",
              " ('Datsun 210', '31.8', '4', '2020.', 'Japan'),\n",
              " ('Fiat Strada Custom', '37.3', '4', '2130.', 'Europe'),\n",
              " ('Volkswagen Rabbit', '41.5', '4', '2144.', 'Europe'),\n",
              " ('Toyota Corolla Tercel', '38.1', '4', '1968.', 'Japan'),\n",
              " ('Datsun 310', '37.2', '4', '2019.', 'Japan'),\n",
              " ('Audi 4000', '34.3', '4', '2188.', 'Europe'),\n",
              " ('Toyota Corolla Liftback', '29.8', '4', '2711.', 'Japan'),\n",
              " ('Mazda 626', '31.3', '4', '2542.', 'Japan'),\n",
              " ('Datsun 510 Hatchback', '37.0', '4', '2434.', 'Japan'),\n",
              " ('Toyota Corolla', '32.2', '4', '2265.', 'Japan'),\n",
              " ('Mazda GLC', '46.6', '4', '2110.', 'Japan'),\n",
              " ('Datsun 210', '40.8', '4', '2110.', 'Japan'),\n",
              " ('Volkswagen Rabbit C (Diesel)', '44.3', '4', '2085.', 'Europe'),\n",
              " ('Volkswagen Dasher (diesel)', '43.4', '4', '2335.', 'Europe'),\n",
              " ('Audi 5000s (diesel)', '36.4', '5', '2950.', 'Europe'),\n",
              " ('Mercedes-Benz 240d', '30.0', '4', '3250.', 'Europe'),\n",
              " ('Honda Civic 1500 gl', '44.6', '4', '1850.', 'Japan'),\n",
              " ('Renault Lecar Deluxe', '40.9', '4', '1835.', 'Europe'),\n",
              " ('Subaru DL', '33.8', '4', '2145.', 'Japan'),\n",
              " ('Volkswagen Rabbit', '29.8', '4', '1845.', 'Europe'),\n",
              " ('Datsun 280-ZX', '32.7', '6', '2910.', 'Japan'),\n",
              " ('Mazda RX-7 GS', '23.7', '3', '2420.', 'Japan'),\n",
              " ('Triumph TR7 Coupe', '35.0', '4', '2500.', 'Europe'),\n",
              " ('Honda Accord', '32.4', '4', '2290.', 'Japan'),\n",
              " ('Toyota Starlet', '39.1', '4', '1755.', 'Japan'),\n",
              " ('Honda Civic 1300', '35.1', '4', '1760.', 'Japan'),\n",
              " ('Subaru', '32.3', '4', '2065.', 'Japan'),\n",
              " ('Datsun 210 MPG', '37.0', '4', '1975.', 'Japan'),\n",
              " ('Toyota Tercel', '37.7', '4', '2050.', 'Japan'),\n",
              " ('Mazda GLC 4', '34.1', '4', '1985.', 'Japan'),\n",
              " ('Volkswagen Jetta', '33.0', '4', '2190.', 'Europe'),\n",
              " ('Renault 18i', '34.5', '4', '2320.', 'Europe'),\n",
              " ('Honda Prelude', '33.7', '4', '2210.', 'Japan'),\n",
              " ('Toyota Corolla', '32.4', '4', '2350.', 'Japan'),\n",
              " ('Datsun 200SX', '32.9', '4', '2615.', 'Japan'),\n",
              " ('Mazda 626', '31.6', '4', '2635.', 'Japan'),\n",
              " ('Peugeot 505s Turbo Diesel', '28.1', '4', '3230.', 'Europe'),\n",
              " ('Saab 900s', '0', '4', '2800.', 'Europe'),\n",
              " ('Volvo Diesel', '30.7', '6', '3160.', 'Europe'),\n",
              " ('Toyota Cressida', '25.4', '6', '2900.', 'Japan'),\n",
              " ('Datsun 810 Maxima', '24.2', '6', '2930.', 'Japan'),\n",
              " ('Volkswagen Rabbit l', '36.0', '4', '1980.', 'Europe'),\n",
              " ('Mazda GLC Custom l', '37.0', '4', '2025.', 'Japan'),\n",
              " ('Mazda GLC Custom', '31.0', '4', '1970.', 'Japan'),\n",
              " ('Nissan Stanza XE', '36.0', '4', '2160.', 'Japan'),\n",
              " ('Honda Accord', '36.0', '4', '2205.', 'Japan'),\n",
              " ('Toyota Corolla', '34.0', '4', '2245', 'Japan'),\n",
              " ('Honda Civic', '38.0', '4', '1965.', 'Japan'),\n",
              " ('Honda Civic (auto)', '32.0', '4', '1965.', 'Japan'),\n",
              " ('Datsun 310 GX', '38.0', '4', '1995.', 'Japan'),\n",
              " ('Toyota Celica GT', '32.0', '4', '2665.', 'Japan'),\n",
              " ('Volkswagen Pickup', '44.0', '4', '2130.', 'Europe')]"
            ]
          },
          "metadata": {},
          "execution_count": 42
        }
      ]
    },
    {
      "cell_type": "markdown",
      "metadata": {
        "id": "3wn2zXe7TbI3"
      },
      "source": [
        "<a id='user-defined-functions-udf'></a>\n",
        "## User-Defined Functions (UDF)"
      ]
    },
    {
      "cell_type": "markdown",
      "metadata": {
        "id": "w0YWspcTRrin"
      },
      "source": [
        "PySpark User-Defined Functions (UDFs) help you convert your python code into a scalable version of itself. It comes in handy more than you can imagine, but beware, as the performance is less when you compare it with pyspark functions. You can view examples of how UDF works [here](https://docs.databricks.com/spark/latest/spark-sql/udf-python.html). What I will give in this section is some theory on how it works, and why it is slower.\n",
        "\n",
        "When you try to run a UDF in PySpark, each executor creates a python process. Data will be serialised and deserialised between each executor and python. This leads to lots of performance impact and overhead on spark jobs, making it less efficent than using spark dataframes. Apart from this, sometimes you might have memory issues while using UDFs. The Python worker consumes huge off-heap memory and so it often leads to memoryOverhead, thereby failing your job. Keeping these in mind, I wouldn't recommend using them, but at the end of the day, your choice."
      ]
    },
    {
      "cell_type": "markdown",
      "metadata": {
        "id": "yv7ODDTQRwVt"
      },
      "source": [
        "<a id='common-questions'></a>\n",
        "# Common Questions"
      ]
    },
    {
      "cell_type": "markdown",
      "metadata": {
        "id": "6z9gkoE2R1m1"
      },
      "source": [
        "<a id='recommended-ide'></a>\n",
        "## Recommended IDE"
      ]
    },
    {
      "cell_type": "markdown",
      "metadata": {
        "id": "BpMTbRggR5Z8"
      },
      "source": [
        "I personally prefer [PyCharm](https://www.jetbrains.com/pycharm/) while coding in Python/PySpark. It's based on IntelliJ IDEA so it has a lot of features! And the main advantage I have felt is the ease of installing PySpark and other packages. You can customize it with themes and plugins, and it lets you enhance productivity while coding by providing some features like suggestions, local VCS etc."
      ]
    },
    {
      "cell_type": "markdown",
      "metadata": {
        "id": "VZ1bYvF8R8Dc"
      },
      "source": [
        "<a id='submitting-a-spark-job'></a>\n",
        "## Submitting a Spark Job"
      ]
    },
    {
      "cell_type": "markdown",
      "metadata": {
        "id": "3EQWnq23SCbE"
      },
      "source": [
        "The python syntax for running jobs is: `python <file_name>.py <arg1> <arg2> ...`\n",
        "<br>But when you submit a spark job you have to use spark-submit to run the application.\n",
        "\n",
        "Here is a simple example of a spark-submit command:\n",
        "`spark-submit filename.py --named_argument 'arguemnt value'`<br>\n",
        "Here, named_argument is an argument that you are reading from inside your script.\n",
        "\n",
        "There are other options you can pass in the command, like:<br>\n",
        "`--py-files` which helps you pass a python file to read in your file,<br>\n",
        "`--files` which helps pass other files like txt or config,<br>\n",
        "`--deploy-mode` which tells wether to deploy your worker node on cluster or locally <br>\n",
        "`--conf` which helps pass different configurations, like memoryOverhead, dynamicAllocation etc.\n",
        "\n",
        "There is an [entire page](https://spark.apache.org/docs/latest/submitting-applications.html) in spark documentation dedicated to this. I highly recommend you go through it once."
      ]
    },
    {
      "cell_type": "markdown",
      "metadata": {
        "id": "oVwGYAZZiyGV"
      },
      "source": [
        "<a id='creating-dataframes'></a>\n",
        "## Creating Dataframes"
      ]
    },
    {
      "cell_type": "markdown",
      "metadata": {
        "id": "TvndhPjoi0er"
      },
      "source": [
        "When getting started with dataframes, the most common question is: *'How do I create a dataframe?'* <br> \n",
        "Below, you can see how to create three kinds of dataframes:"
      ]
    },
    {
      "cell_type": "markdown",
      "metadata": {
        "id": "QXmRD3hHlM-f"
      },
      "source": [
        "### Create a totally empty dataframe"
      ]
    },
    {
      "cell_type": "code",
      "metadata": {
        "id": "ktkb6s-kjtgG",
        "colab": {
          "base_uri": "https://localhost:8080/"
        },
        "outputId": "08e2c46d-2a17-44c8-e954-37704b287f48"
      },
      "source": [
        "from pyspark.sql.types import StructType\n",
        "sc = spark.sparkContext\n",
        "#Create empty df\n",
        "schema = StructType([])\n",
        "empty = spark.createDataFrame(sc.emptyRDD(), schema)\n",
        "empty.show()"
      ],
      "execution_count": null,
      "outputs": [
        {
          "output_type": "stream",
          "text": [
            "++\n",
            "||\n",
            "++\n",
            "++\n",
            "\n"
          ],
          "name": "stdout"
        }
      ]
    },
    {
      "cell_type": "markdown",
      "metadata": {
        "id": "mg5K3nz_lSDe"
      },
      "source": [
        "### Create an empty dataframe with header"
      ]
    },
    {
      "cell_type": "code",
      "metadata": {
        "id": "9raf4CkRjuTr",
        "colab": {
          "base_uri": "https://localhost:8080/"
        },
        "outputId": "afcce8fb-9136-4ec5-91b6-b6924dcea0e1"
      },
      "source": [
        "from pyspark.sql.types import StructType, StructField\n",
        "#Create empty df with header\n",
        "schema_header = StructType([StructField(\"name\", StringType(), True)])\n",
        "empty_with_header = spark.createDataFrame(sc.emptyRDD(), schema_header)\n",
        "empty_with_header.show()"
      ],
      "execution_count": null,
      "outputs": [
        {
          "output_type": "stream",
          "text": [
            "+----+\n",
            "|name|\n",
            "+----+\n",
            "+----+\n",
            "\n"
          ],
          "name": "stdout"
        }
      ]
    },
    {
      "cell_type": "markdown",
      "metadata": {
        "id": "Y1ZNOx7ilUnd"
      },
      "source": [
        "### Create a dataframe with header and data"
      ]
    },
    {
      "cell_type": "code",
      "metadata": {
        "id": "TvzyL46QkJBl",
        "colab": {
          "base_uri": "https://localhost:8080/"
        },
        "outputId": "80bd5c29-cd11-4226-be60-a0db525651f6"
      },
      "source": [
        "from pyspark.sql import Row\n",
        "mylist = [\n",
        "  {\"name\":'Alice',\"age\":13},\n",
        "  {\"name\":'Jacob',\"age\":24},\n",
        "  {\"name\":'Betty',\"age\":135},\n",
        "]\n",
        "spark.createDataFrame(Row(**x) for x in mylist).show()"
      ],
      "execution_count": null,
      "outputs": [
        {
          "output_type": "stream",
          "text": [
            "+-----+---+\n",
            "| name|age|\n",
            "+-----+---+\n",
            "|Alice| 13|\n",
            "|Jacob| 24|\n",
            "|Betty|135|\n",
            "+-----+---+\n",
            "\n"
          ],
          "name": "stdout"
        }
      ]
    },
    {
      "cell_type": "code",
      "metadata": {
        "id": "VnRMckA5nLoJ",
        "colab": {
          "base_uri": "https://localhost:8080/"
        },
        "outputId": "f362d23c-5343-4601-d669-0e26940c043a"
      },
      "source": [
        "# You can achieve the same using this - note that we are using spark context here, not a spark session\n",
        "from pyspark.sql import Row\n",
        "df = sc.parallelize([\n",
        "        Row(name='Alice', age=13),\n",
        "        Row(name='Jacob', age=24),\n",
        "        Row(name='Betty', age=135)]).toDF()\n",
        "df.show()"
      ],
      "execution_count": null,
      "outputs": [
        {
          "output_type": "stream",
          "text": [
            "+-----+---+\n",
            "| name|age|\n",
            "+-----+---+\n",
            "|Alice| 13|\n",
            "|Jacob| 24|\n",
            "|Betty|135|\n",
            "+-----+---+\n",
            "\n"
          ],
          "name": "stdout"
        }
      ]
    },
    {
      "cell_type": "markdown",
      "metadata": {
        "id": "f3crkAQVlxKp"
      },
      "source": [
        "<a id='drop-duplicates'></a>\n",
        "## Drop Duplicates"
      ]
    },
    {
      "cell_type": "markdown",
      "metadata": {
        "id": "4IHrYEwHmBcc"
      },
      "source": [
        "As mentioned earlier, there are two easy to remove duplicates from a dataframe. We have already seen the usage of distinct under <a href=\"#get-distinct-rows\">Get Distinct Rows</a>  section. \n",
        "I will expalin how to use the `dropDuplicates()` function to achieve the same. \n",
        "\n",
        "> `drop_duplicates()` is an alias for `dropDuplicates()`"
      ]
    },
    {
      "cell_type": "code",
      "metadata": {
        "id": "wOuHRAPJmWen",
        "colab": {
          "base_uri": "https://localhost:8080/"
        },
        "outputId": "08dcf7e7-91b3-4e42-b418-e29cafd1d1f6"
      },
      "source": [
        "from pyspark.sql import Row\n",
        "from pyspark.sql import Row\n",
        "mylist = [\n",
        "  {\"name\":'Alice',\"age\":5,\"height\":80},\n",
        "  {\"name\":'Jacob',\"age\":24,\"height\":80},\n",
        "  {\"name\":'Alice',\"age\":5,\"height\":80}\n",
        "]\n",
        "df = spark.createDataFrame(Row(**x) for x in mylist)\n",
        "df.dropDuplicates().show()"
      ],
      "execution_count": null,
      "outputs": [
        {
          "output_type": "stream",
          "text": [
            "+-----+---+------+\n",
            "| name|age|height|\n",
            "+-----+---+------+\n",
            "|Alice|  5|    80|\n",
            "|Jacob| 24|    80|\n",
            "+-----+---+------+\n",
            "\n"
          ],
          "name": "stdout"
        }
      ]
    },
    {
      "cell_type": "markdown",
      "metadata": {
        "id": "zMv7A-2Hnmjh"
      },
      "source": [
        "`dropDuplicates()` can also take in an optional parameter called *subset* which helps specify the columns on which the duplicate check needs to be done on."
      ]
    },
    {
      "cell_type": "code",
      "metadata": {
        "id": "SHnFylV1n8to",
        "colab": {
          "base_uri": "https://localhost:8080/"
        },
        "outputId": "04d2b333-5770-4287-bb48-775bbc08aad2"
      },
      "source": [
        "df.dropDuplicates(subset=['height']).show()"
      ],
      "execution_count": null,
      "outputs": [
        {
          "output_type": "stream",
          "text": [
            "+-----+---+------+\n",
            "| name|age|height|\n",
            "+-----+---+------+\n",
            "|Alice|  5|    80|\n",
            "+-----+---+------+\n",
            "\n"
          ],
          "name": "stdout"
        }
      ]
    },
    {
      "cell_type": "markdown",
      "source": [
        "#Chronobooks <br>\n",
        "Two science fiction novels by Prithwis Mukerjee. A dystopian Earth. A technocratic society managed by artificial intelligence. Escape and epiphany on Mars. Can man and machine, carbon and silicon explore and escape into other dimensions of existence? An Indic perspective rooted in Advaita Vedanta and the Divine Feminine.  [More information](http://bit.ly/chronobooks) <br>\n",
        "![alt text](https://github.com/Praxis-QR/RDWH/raw/main/images/CTCYFooter-1.png)"
      ],
      "metadata": {
        "id": "AahHvclEERUs"
      }
    },
    {
      "cell_type": "markdown",
      "metadata": {
        "id": "bAS4DKxjqI7H"
      },
      "source": [
        "<a id='fine-tuning-a-pyspark-job'></a>\n",
        "## Fine Tuning a Spark Job"
      ]
    },
    {
      "cell_type": "markdown",
      "metadata": {
        "id": "2d9pLlDl76dM"
      },
      "source": [
        "Before we begin, please note that this entire section is written purely based on experience. It might differ with use cases, but it will help you get a better understanding of what you should be looking for, or act as a guidance to achieve your aim.\n",
        "\n",
        ">Spark Performance Tuning refers to the process of adjusting settings to record for memory, cores, and instances used by the system. This process guarantees that the Spark has a flawless performance and also prevents bottlenecking of resources in Spark.\n",
        "\n",
        "Considering you are using Amazon EMR to execute your spark jobs, there are three aspects you need to take care of:\n",
        "1. EMR Sizing\n",
        "2. Spark Configurations\n",
        "3. Job Tuning\n",
        "\n"
      ]
    },
    {
      "cell_type": "markdown",
      "metadata": {
        "id": "vIbXZT29JxmG"
      },
      "source": [
        "<a id='emr-sizing'></a>\n",
        "### EMR Sizing"
      ]
    },
    {
      "cell_type": "markdown",
      "metadata": {
        "id": "2Rv2SM_-KA8W"
      },
      "source": [
        "Sizing your EMR is extremely important, as this affects the efficency of your spark jobs. Apart from the cost factor, the maximum number of nodes and memory your job can use will be decided by this. If you spin up a EMR with high specifications, that obviously means you are paying more for it, so we should ideally utilize it to the max. These are the guidelines that I follow to make sure the EMR is rightly sized:\n",
        "\n",
        "1. Size of the input data (include all the input data) on the disk.\n",
        "2. Whether the jobs have transformations or just a straight pass through.<br> Assess the joins and the complex joins involved.\n",
        "3. Size of the output data on the disk.\n",
        "\n",
        "Look at the above criteria against the memory you need to process, and the disk space you would need. Start with a small configuration, and keep adding nodes to arrive at an optimal configuration. In case you are wondering about the *Execution time vs EMR configuration* factor, please understand that it is okay for a job to run longer, rather than adding more resources to the cluster. For example, it is okay to run a job for 40 mins job on a 5 node cluster, rather than running a job in 10 mins on a 15 node cluster.\n"
      ]
    },
    {
      "cell_type": "markdown",
      "metadata": {
        "id": "pmeFEgv6QTST"
      },
      "source": [
        "Another thing you need to know about EMRs, are the different kinds of EC2 instance types provided by Amazon. I will briefly talk about them, but I strongly recommend you to read more about it from the [official documentation](https://aws.amazon.com/ec2/instance-types/). There are 5 types of instance classes. Based on the job you want to run, you can decide which one to use:\n",
        "\n",
        ">Instance Class | Description\n",
        ">--- | ---\n",
        ">General purpose | Balance of compute, memory and networking resources\n",
        ">Compute optimized | Ideal for compute bound applications that benefit from high performance processors\n",
        ">Memory optimized | Designed to deliver fast performance for workloads that process large data sets in memory\n",
        ">Storage optimized | For workloads that require high, sequential read and write access to very large data sets on local storage\n",
        ">GPU instances | Use hardware accelerators, or co-processors, to perform high demanding functions, more efficiently than is possible in software running on CPUs\n",
        "\n",
        "The configuration (memory, storage, cpu, network performance) will differ based on the instance class you choose.<br>\n",
        "To help make life easier, here is what I do when I get into a predicament about which one to go with: <br>\n",
        " 1. Visit [ec2instances](https://www.ec2instances.info/)\n",
        " 2. Choose the EC2 instances in question \n",
        " 3. Click on compare selected\n",
        "\n",
        "This will easily help you undesrstand what you are getting into, and thereby help you make the best choice! The site was built by [Garret Heaton](https://github.com/powdahound)(founder of Swoot), and has helped me countless number of times to make an informed decision."
      ]
    },
    {
      "cell_type": "markdown",
      "metadata": {
        "id": "snACMwZug5Yn"
      },
      "source": [
        "<a id='spark-configurations'></a>\n",
        "### Spark Configurations"
      ]
    },
    {
      "cell_type": "markdown",
      "metadata": {
        "id": "uFJNpK06hnpo"
      },
      "source": [
        "There are a ton of [configurations](https://spark.apache.org/docs/latest/configuration.html) that you can tweak when it comes to Spark. Here, I will be noting down some of the configurations which I use, which have worked well for me. Alright! let's get into it!"
      ]
    },
    {
      "cell_type": "markdown",
      "metadata": {
        "id": "dABRu9eokZxw"
      },
      "source": [
        "#### Job Scheduling"
      ]
    },
    {
      "cell_type": "markdown",
      "metadata": {
        "id": "8fRFs6atkdxS"
      },
      "source": [
        "When you submit your job in a cluster, it will be given to Spark Schedulers, which is responsible for materializing a logical plan for your job. There are two types of [job scheduling](https://spark.apache.org/docs/latest/job-scheduling.html): \n",
        "1. FIFO<br>\n",
        "By default, Spark’s scheduler runs jobs in FIFO fashion. Each job is divided into stages (e.g. map and reduce phases), and the first job gets priority on all available resources while its stages have tasks to launch, then the second job gets priority, etc. If the jobs at the head of the queue don’t need to use the whole cluster, later jobs can start to run right away, but if the jobs at the head of the queue are large, then later jobs may be delayed significantly. \n",
        "2. FAIR<br>\n",
        "The fair scheduler supports grouping jobs into pools and setting different scheduling options (e.g. weight) for each pool. This can be useful to create a high-priority pool for more important jobs, for example, or to group the jobs of each user together and give users equal shares regardless of how many concurrent jobs they have instead of giving jobs equal shares. This approach is modeled after the Hadoop Fair Scheduler.\n",
        "\n",
        "> I personally prefer using the FAIR mode, and this can be set by adding `.config(\"spark.scheduler.mode\", \"FAIR\")` when you create your SparkSession.\n"
      ]
    },
    {
      "cell_type": "markdown",
      "metadata": {
        "id": "xrgbAiZHnq_U"
      },
      "source": [
        "#### Serializer"
      ]
    },
    {
      "cell_type": "markdown",
      "metadata": {
        "id": "N7ZYGGcYsRzB"
      },
      "source": [
        "We have two types of [serializers](https://spark.apache.org/docs/latest/tuning.html#data-serialization) available: \n",
        "1. Java serialization \n",
        "2. Kryo serialization\n",
        "\n",
        "Kryo is significantly faster and more compact than Java serialization (often as much as 10x), but does not support all Serializable types and requires you to register the classes you’ll use in the program in advance for best performance.\n",
        "\n",
        "Java serialization is used by default because if you have custom class that extends Serializable it can be easily used. You can also control the performance of your serialization more closely by extending java.io.Externalizable\n",
        "\n",
        "> The general recommendation is to use Kyro as the serializer whenver possible, as it leads to much smaller sizes than Java serialization. It can be added by using `.config(\"spark.serializer\", \"org.apache.spark.serializer.KryoSerializer\")` when you create your SparkSession.\n"
      ]
    },
    {
      "cell_type": "markdown",
      "metadata": {
        "id": "244El832wT8f"
      },
      "source": [
        "#### Shuffle Behaviour"
      ]
    },
    {
      "cell_type": "markdown",
      "metadata": {
        "id": "XWsBFnA8xpeF"
      },
      "source": [
        "It is generally a good idea to compress the output file after the map phase. The `spark.shuffle.compress` property decides whether to do the compression or not. The compression used is `spark.io.compression.codec`.\n",
        "\n",
        "> The property can be added by using `.config(\"spark.shuffle.compress\", \"true\")` when you create your SparkSession."
      ]
    },
    {
      "cell_type": "markdown",
      "metadata": {
        "id": "H5cFCvbczHz_"
      },
      "source": [
        "#### Compression and Serialization"
      ]
    },
    {
      "cell_type": "markdown",
      "metadata": {
        "id": "LHU5lfyFzKw9"
      },
      "source": [
        "There are 4 defaiult codecs spark provides to compress internal data such as RDD partitions, event log, broadcast variables and shuffle outputs. They are: \n",
        "\n",
        "1. lz4\n",
        "2. lzf\n",
        "3. snappy\n",
        "4. zstd\n",
        "\n",
        "> The decision on which to use rests upon the use case. I generally use the `snappy` compression. Google created Snappy because they needed something that offered very fast compression at the expense of final size. Snappy is fast, stable and free, but it increases the size more than the other codecs. At the same time, since compute costs will be less, it seems like balanced trade off. The property can be added by using `.config(\"spark.io.compression.codec\", \"snappy\")` when you create your SparkSession.\n",
        "\n",
        "This [session](https://databricks.com/session/best-practice-of-compression-decompression-codes-in-apache-spark) explains the best practice of compression/decompression codes in Apache Spark. I recommend you to take a look at it before taking a decision."
      ]
    },
    {
      "cell_type": "markdown",
      "metadata": {
        "id": "rdGARl-D3n-l"
      },
      "source": [
        "#### Scheduling"
      ]
    },
    {
      "cell_type": "markdown",
      "metadata": {
        "id": "Cm0ExAoS4RU6"
      },
      "source": [
        "The property `spark.speculation` performs speculative execution of tasks. This means if one or more tasks are running slowly in a stage, they will be re-launched. Speculative execution will not stop the slow running task but it launches the new task in parallel.\n",
        "\n",
        "> I usually disable this option by adding `.config(\"spark.speculation\", \"false\") ` when I create the SparkSession. "
      ]
    },
    {
      "cell_type": "markdown",
      "metadata": {
        "id": "aaxfGqYZ6Iqz"
      },
      "source": [
        "#### Application Properties"
      ]
    },
    {
      "cell_type": "markdown",
      "metadata": {
        "id": "ERovEKOU6TNE"
      },
      "source": [
        "There are mainly two application properties that you should know about:\n",
        "\n",
        "1. spark.driver.memoryOverhead - The amount of off-heap memory to be allocated per driver in cluster mode, in MiB unless otherwise specified. This is memory that accounts for things like VM overheads, interned strings, other native overheads, etc. This tends to grow with the container size (typically 6-10%). This option is currently supported on YARN and Kubernetes.\n",
        "\n",
        "2. spark.executor.memoryOverhead - The amount of off-heap memory to be allocated per executor, in MiB unless otherwise specified. This is memory that accounts for things like VM overheads, interned strings, other native overheads, etc. This tends to grow with the executor size (typically 6-10%). This option is currently supported on YARN and Kubernetes.\n",
        "\n",
        "> If you ever face an issue like `Container killed by YARN for exceeding memory limits`, know that it is because you have not specified enough memory Overhead for your job to successfully execute. The default value for Overhead is 10% of avaialbe memory (driver/executor sepearte), with minimum of 384.\n",
        "\n"
      ]
    },
    {
      "cell_type": "markdown",
      "metadata": {
        "id": "BG09dDdL6Tvt"
      },
      "source": [
        "#### Dynamic Allocation"
      ]
    },
    {
      "cell_type": "markdown",
      "metadata": {
        "id": "m_lb-JI78CVT"
      },
      "source": [
        "Lastly, I want to talk about Dynamic Allocation. This is a feature I constantly use while executing my jobs. This property is by defualt set to False. As the name suggests, it sets whether to use dynamic resource allocation, which scales the number of executors registered with this application up and down based on the workload. Truly a wonderful feature, and the greatest benefit of using it is that it will help make the best use of all the resources you have! The disadvantage of this feature is that it does not shine well when you have to execute tasks in parallel. Since most of the resources will be used by the first task, the second one will have to wait till some resource gets released. At the same time, if both get submitted at the exact same time, the resources will be shared between them, although not equally. Also, it is not guaranteed to *always* use the most optimal configurations. But in all my tests, the results have been great! \n",
        "\n",
        "> If you are planning on using this feature, you can pass the configurations as required through the spark-submit command. The four configurations which you will have to keep in mind are:<br>\n",
        "```\n",
        "--conf spark.dynamicAllocation.enabled=true\n",
        "--conf spark.dynamicAllocation.initialExecutors\n",
        "--conf spark.dynamicAllocation.minExecutors\n",
        "--conf spark.dynamicAllocation.maxExecutors\n",
        "```\n",
        "\n",
        "You can read more about this feature [here](https://spark.apache.org/docs/latest/configuration.html#dynamic-allocation) and [here](https://stackoverflow.com/questions/40200389/how-to-execute-spark-programs-with-dynamic-resource-allocation).\n",
        "\n",
        "\n",
        "\n"
      ]
    },
    {
      "cell_type": "markdown",
      "metadata": {
        "id": "CJlmPbLYKKFA"
      },
      "source": [
        "<a id='job-tuning'></a>\n",
        "### Job Tuning"
      ]
    },
    {
      "cell_type": "markdown",
      "metadata": {
        "id": "vccmILvVWewW"
      },
      "source": [
        "Apart from EMR and Spark tuning, there is another way to approach opttimizations, and that is by tuning your job itself to produce results efficently. I will be going over some such techniques which will help you achieve this. The [Spark Programming Guide](https://spark.apache.org/docs/2.1.1/programming-guide.html) talks more about these concepts in detail. If you guys prefer watching a video over reading, I highly recommend [A Deep Dive into Proper Optimization for Spark Jobs](https://youtu.be/daXEp4HmS-E) by Daniel Tomes from Databricks, which I found really useful and informative!"
      ]
    },
    {
      "cell_type": "markdown",
      "metadata": {
        "id": "r-R5ijHrKSg0"
      },
      "source": [
        "#### Broadcast Joins (Broadcast Hash Join)"
      ]
    },
    {
      "cell_type": "markdown",
      "metadata": {
        "id": "dvO0z5EpM5U8"
      },
      "source": [
        "For some jobs, the efficenecy can be increased by caching them in memory. Broadcast Hash Join(BHJ) is such a technique which will help you optimize join queries when the size of one side of the data is low.\n",
        ">BroadCast joins are the fastest but the drawaback is that it will consume more memory on both the executor and driver.\n",
        "\n",
        "This following steps give a sneak peek into how it works, which will help you understand the use cases where it can be used:<br>\n",
        "1. Input file(smaller of the two tables) to be broadcasted is read by the executors in parallel into its working memory.\n",
        "2. All the data from the executors is collected into driver (Hence, the need for higher memory at driver).\n",
        "3. The driver then broadcasts the combined dataset (full copy) into each executor.\n",
        "4. The size of the broadcasted dataset could be several (10-20+) times bigger the input in memory due to factors like deserialization.\n",
        "5. Executors will end up storing the parts it read first, and also the full copy, thereby leading to a high memory requirement.\n",
        "\n",
        "Some things to keep in mind about BHJ:\n",
        "1. It is advisable to use broadcast joins on small datasets only (dimesnion table, for example).\n",
        "2. Spark does not guarantee BHJ is always chosen, since not all cases (e.g. full outer join) support BHJ.\n",
        "3. You could notice skews in tasks due to uneven partition sizes; especially during aggregations, joins etc. This can be evened out by introducing Salt value (random value).<br>*Suggested formula for salt value:* random(0 – (shuffle partition count – 1))\n"
      ]
    },
    {
      "cell_type": "markdown",
      "metadata": {
        "id": "UOvEVcieVn7e"
      },
      "source": [
        "#### Spark Partitions"
      ]
    },
    {
      "cell_type": "markdown",
      "metadata": {
        "id": "ocpQiqOtVqPz"
      },
      "source": [
        "A partition in spark is an atomic chunk of data (logical division of data) stored on a node in the cluster. Partitions are the basic units of parallelism in Spark. Having too large a number of partitions or too few is not an ideal solution. The number of partitions in spark should be decided based on the cluster configuration and requirements of the application. Increasing the number of partitions will make each partition have less data or no data at all. Generally, spark partitioning can be broken down in three ways:\n",
        "1. Input\n",
        "2. Shuffle\n",
        "3. Output\n"
      ]
    },
    {
      "cell_type": "markdown",
      "metadata": {
        "id": "2KY1mxZVfNsl"
      },
      "source": [
        "##### Input"
      ]
    },
    {
      "cell_type": "markdown",
      "metadata": {
        "id": "dKw48h9eEbPa"
      },
      "source": [
        "Spark usually does a good job of figuring the ideal configuration for this one, except in very particular cases. It is advisable to use the spark default unless:\n",
        "1. Increase parallelism\n",
        "2. Heavily nested data\n",
        "3. Generating data (explode)\n",
        "4. Source is not optimal\n",
        "5. You are using UDFs\n",
        "\n",
        "`spark.sql.files.maxpartitionBytes`: This property indicates the maximum number of bytes to pack into a single partition when reading files (Default 128 MB) . Use this to increase the parallelism in reading input data. For example, if you have more cores, then you can increase the number of parallel tasks which will ensure usage of the all the cores of the cluster, and increase the speed of the task."
      ]
    },
    {
      "cell_type": "markdown",
      "metadata": {
        "id": "qwEBu3T3EbfD"
      },
      "source": [
        "##### Shuffle"
      ]
    },
    {
      "cell_type": "markdown",
      "metadata": {
        "id": "Wx0iQUpFEbus"
      },
      "source": [
        "One of the major reason why most jobs lags in performance is, for the majority of the time, because they get the shuffle partitions count wrong. By default, the value is set to 200. In almost all situations, this is not ideal. If you are dealing with shuffle satge of less than 20 GB, 200 is fine, but otherwise this needs to be changed. For most cases, you can use the following equation to find the right value:\n",
        ">`Partition Count = Stage Input Data / Target Size` where <br>\n",
        "`Largest Shuffle Stage (Target Size) < 200MB/partition` in most cases.<br>\n",
        "`spark.sql.shuffle.partitions` property is used to set the ideal partition count value.\n",
        "\n",
        "If you ever notice that target size at the range of TBs, there is something terribly wrong, and you might want to change it back to 200, or recalculate it. Shuffle partitions can be configured for every action (not transformation) in the spark script.\n",
        "\n",
        "Let us use an example to explain this scenario: <br>\n",
        "Assume shuffle stage input = 210 GB. <br>\n",
        "Partition Count = Stage Input Data / Target Size = 210000 MB/200 MB = 1050. <br>\n",
        "As you can see, my shuffle partitions should be 1050, not 200.\n",
        "\n",
        "But, if your cluster has 2000 cores, then set your shuffle partitions to 2000.\n",
        ">In a large cluster dealing with a large data job, never set your shuffle partitions less than your total core count. \n",
        "\n",
        "\n",
        "\n",
        "Shuffle stages almost always precede the write stages and having high shuffle partition count creates small files in the output. To address this, use localCheckPoint just before write & do a coalesce call. This localCheckPoint writes the Shuffle Partition to executor local disk and then coalesces into lower partition count and hence improves the overall performance of both shuffle stage and write stage."
      ]
    },
    {
      "cell_type": "markdown",
      "metadata": {
        "id": "-HxUYv77EdSv"
      },
      "source": [
        "##### Output"
      ]
    },
    {
      "cell_type": "markdown",
      "metadata": {
        "id": "CPA6YRYrEdgG"
      },
      "source": [
        "There are different methods to write the data. You can control the size, composition, number of files in the output and even the number of records in each file while writing the data. While writing the data, you can increase the parallelism, thereby ensuring you use all the resources that you have. But this approach would lead to a larger number of smaller files. Usually, this isn't a problem, but if you want bigger files, you will have to use one of the compaction techniques, preferably in a cluster with lesser configuration. There are multiple ways to change the composition of the output. Keep these two in mind about composition:\n",
        "1. Coalesce: Use this to reduce the number of partitions.\n",
        "2. Repartition: Use this very rarely, and never to reduce the number of partitions<br>\n",
        "    a. Range Paritioner - It partitions the data either based on some sorted order OR set of sorted ranges of keys. <br>\n",
        "    b. Hash Partioner - It spreads around the data in the partitioning based upon the key value. Hash partitioning can make distributed data skewed."
      ]
    },
    {
      "cell_type": "markdown",
      "metadata": {
        "id": "NZ5xsdWmNOVz"
      },
      "source": [
        "<a id='best-practices'></a>\n",
        "### Best Practices"
      ]
    },
    {
      "cell_type": "markdown",
      "metadata": {
        "id": "NUKLZ8G8NVuR"
      },
      "source": [
        "Try to incorporate these to your coding habits for better performance:\n",
        "1.   Do not use NOT IN use NOT EXISTS.\n",
        "2.   Remove Counts, Distinct Counts (use approxCountDIstinct).\n",
        "3.   Drop Duplicates early.\n",
        "4.   Always prefer SQL functions over PandasUDF.\n",
        "5.   Use Hive partitions effectively.\n",
        "6.   Leverage Spark UI effectively. \n",
        "7.   Avoid Shuffle Spills.\n",
        "8.   Aim for target cluster utilization of atleast 70%.\n",
        "\n"
      ]
    },
    {
      "cell_type": "code",
      "metadata": {
        "colab": {
          "base_uri": "https://localhost:8080/"
        },
        "id": "FdDkc0SHZP2-",
        "outputId": "e9d00ffa-5998-44f1-fae8-e73f8035fe08"
      },
      "source": [
        "%%shell\n",
        "jupyter nbconvert --to html /content/Colab_and_PySpark.ipynb"
      ],
      "execution_count": null,
      "outputs": [
        {
          "output_type": "stream",
          "text": [
            "[NbConvertApp] Converting notebook /content/Colab_and_PySpark.ipynb to html\n",
            "[NbConvertApp] Writing 517352 bytes to /content/Colab_and_PySpark.html\n"
          ],
          "name": "stdout"
        },
        {
          "output_type": "execute_result",
          "data": {
            "text/plain": [
              ""
            ]
          },
          "metadata": {
            "tags": []
          },
          "execution_count": 2
        }
      ]
    },
    {
      "cell_type": "code",
      "metadata": {
        "id": "xN5KhBOiZW3J"
      },
      "source": [],
      "execution_count": null,
      "outputs": []
    }
  ]
}