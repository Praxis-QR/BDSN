{
  "nbformat": 4,
  "nbformat_minor": 0,
  "metadata": {
    "colab": {
      "name": "SQL  Spark  with OLD version JoseDianes_Intro",
      "provenance": [],
      "collapsed_sections": [
        "T9BsUtq-EM6e",
        "JKRWeiMCIXff",
        "4AUfWLj4ZUEj",
        "6K1MS864jV6C",
        "c5TjJT5En-el"
      ],
      "include_colab_link": true
    },
    "kernelspec": {
      "name": "python3",
      "display_name": "Python 3"
    }
  },
  "cells": [
    {
      "cell_type": "markdown",
      "metadata": {
        "id": "view-in-github",
        "colab_type": "text"
      },
      "source": [
        "<a href=\"https://colab.research.google.com/github/Praxis-QR/BDSN/blob/main/SQL_Spark_with_OLD_version_JoseDianes_Intro.ipynb\" target=\"_parent\"><img src=\"https://colab.research.google.com/assets/colab-badge.svg\" alt=\"Open In Colab\"/></a>"
      ]
    },
    {
      "cell_type": "markdown",
      "metadata": {
        "id": "IZHBKDKQpoih"
      },
      "source": [
        "![CC-BY-SA](https://licensebuttons.net/l/by-sa/3.0/88x31.png)<br>\n",
        "<hr>\n",
        "\n",
        "![alt text](http://1.bp.blogspot.com/-nqAGzznZQNo/UwS8rxjfXeI/AAAAAAAABTA/nunmRLowpps/s1600/PraxisLogo.gif)<br>\n",
        "[Data Science Program](http://praxis.ac.in/Programs/business-analytics/)\n",
        "\n",
        "<hr>\n",
        "\n",
        "[Prithwis Mukerjee](http://www.yantrajaal.com)<br>"
      ]
    },
    {
      "cell_type": "markdown",
      "metadata": {
        "id": "6qXHpHj3v2sd"
      },
      "source": [
        "# Jose A Dianes Tutorial\n",
        "\n",
        "\n",
        "---\n",
        "\n",
        "https://www.codementor.io/jadianes/spark-python-rdd-basics-du107x2ra <br>\n",
        "https://www.codementor.io/jadianes/spark-python-data-aggregations-du107on3m <br>\n",
        "https://github.com/jadianes/spark-py-notebooks -- notebooks <br>\n",
        "https://github.com/prithwis/spark-py-notebooks -- fork of above "
      ]
    },
    {
      "cell_type": "markdown",
      "metadata": {
        "id": "BQxaKP3-ugUs"
      },
      "source": [
        "# Install Spark"
      ]
    },
    {
      "cell_type": "code",
      "metadata": {
        "id": "9aG7A8TjulYO",
        "outputId": "e0ed0327-1ceb-4e3f-ece2-18880a1ba99e",
        "colab": {
          "base_uri": "https://localhost:8080/"
        }
      },
      "source": [
        "!apt-get update \n",
        "!apt-get install openjdk-8-jdk-headless \n",
        "\n",
        "!wget  https://apache.osuosl.org/spark/spark-3.0.3/spark-3.0.3-bin-hadoop3.2.tgz   # Using Older Version \n",
        "#!wget -q https://apache.osuosl.org/spark/spark-3.2.1/spark-3.2.1-bin-hadoop3.2.tgz  # Current version does not work\n",
        "\n",
        "#\n",
        "# if the current version of Spark is not used, there may be errors\n",
        "# check here for current versions http://apache.osuosl.org/spark\n",
        "#\n",
        "\n",
        "\n",
        "!tar xf spark-3.0.3-bin-hadoop3.2.tgz\n",
        "#!tar xf spark-3.2.1-bin-hadoop3.2.tgz\n",
        "\n",
        "\n",
        "\n",
        "#!pip3 install -qq pyspark"
      ],
      "execution_count": 1,
      "outputs": [
        {
          "output_type": "stream",
          "name": "stdout",
          "text": [
            "\r0% [Working]\r            \rGet:1 https://developer.download.nvidia.com/compute/cuda/repos/ubuntu1804/x86_64  InRelease [1,581 B]\n",
            "Get:2 https://cloud.r-project.org/bin/linux/ubuntu bionic-cran40/ InRelease [3,626 B]\n",
            "Ign:3 https://developer.download.nvidia.com/compute/machine-learning/repos/ubuntu1804/x86_64  InRelease\n",
            "Hit:4 https://developer.download.nvidia.com/compute/machine-learning/repos/ubuntu1804/x86_64  Release\n",
            "Hit:5 http://archive.ubuntu.com/ubuntu bionic InRelease\n",
            "Get:6 http://archive.ubuntu.com/ubuntu bionic-updates InRelease [88.7 kB]\n",
            "Get:7 http://security.ubuntu.com/ubuntu bionic-security InRelease [88.7 kB]\n",
            "Hit:8 http://ppa.launchpad.net/c2d4u.team/c2d4u4.0+/ubuntu bionic InRelease\n",
            "Get:9 http://archive.ubuntu.com/ubuntu bionic-backports InRelease [74.6 kB]\n",
            "Get:10 https://developer.download.nvidia.com/compute/cuda/repos/ubuntu1804/x86_64  Packages [787 kB]\n",
            "Hit:11 http://ppa.launchpad.net/cran/libgit2/ubuntu bionic InRelease\n",
            "Get:13 http://ppa.launchpad.net/deadsnakes/ppa/ubuntu bionic InRelease [15.9 kB]\n",
            "Get:14 http://ppa.launchpad.net/graphics-drivers/ppa/ubuntu bionic InRelease [21.3 kB]\n",
            "Get:15 http://archive.ubuntu.com/ubuntu bionic-updates/restricted amd64 Packages [983 kB]\n",
            "Get:16 http://archive.ubuntu.com/ubuntu bionic-updates/multiverse amd64 Packages [29.8 kB]\n",
            "Get:17 http://archive.ubuntu.com/ubuntu bionic-updates/universe amd64 Packages [2,278 kB]\n",
            "Get:18 http://archive.ubuntu.com/ubuntu bionic-updates/main amd64 Packages [3,214 kB]\n",
            "Get:19 http://security.ubuntu.com/ubuntu bionic-security/restricted amd64 Packages [949 kB]\n",
            "Get:20 http://ppa.launchpad.net/deadsnakes/ppa/ubuntu bionic/main amd64 Packages [45.3 kB]\n",
            "Get:21 http://security.ubuntu.com/ubuntu bionic-security/main amd64 Packages [2,779 kB]\n",
            "Get:22 http://security.ubuntu.com/ubuntu bionic-security/multiverse amd64 Packages [22.8 kB]\n",
            "Get:23 http://security.ubuntu.com/ubuntu bionic-security/universe amd64 Packages [1,503 kB]\n",
            "Get:24 http://ppa.launchpad.net/graphics-drivers/ppa/ubuntu bionic/main amd64 Packages [44.3 kB]\n",
            "Fetched 12.9 MB in 4s (3,298 kB/s)\n",
            "Reading package lists... Done\n",
            "Reading package lists... Done\n",
            "Building dependency tree       \n",
            "Reading state information... Done\n",
            "The following package was automatically installed and is no longer required:\n",
            "  libnvidia-common-460\n",
            "Use 'apt autoremove' to remove it.\n",
            "The following additional packages will be installed:\n",
            "  openjdk-8-jre-headless\n",
            "Suggested packages:\n",
            "  openjdk-8-demo openjdk-8-source libnss-mdns fonts-dejavu-extra\n",
            "  fonts-ipafont-gothic fonts-ipafont-mincho fonts-wqy-microhei\n",
            "  fonts-wqy-zenhei fonts-indic\n",
            "The following NEW packages will be installed:\n",
            "  openjdk-8-jdk-headless openjdk-8-jre-headless\n",
            "0 upgraded, 2 newly installed, 0 to remove and 56 not upgraded.\n",
            "Need to get 36.5 MB of archives.\n",
            "After this operation, 143 MB of additional disk space will be used.\n",
            "Get:1 http://archive.ubuntu.com/ubuntu bionic-updates/universe amd64 openjdk-8-jre-headless amd64 8u312-b07-0ubuntu1~18.04 [28.2 MB]\n",
            "Get:2 http://archive.ubuntu.com/ubuntu bionic-updates/universe amd64 openjdk-8-jdk-headless amd64 8u312-b07-0ubuntu1~18.04 [8,298 kB]\n",
            "Fetched 36.5 MB in 2s (23.5 MB/s)\n",
            "Selecting previously unselected package openjdk-8-jre-headless:amd64.\n",
            "(Reading database ... 155629 files and directories currently installed.)\n",
            "Preparing to unpack .../openjdk-8-jre-headless_8u312-b07-0ubuntu1~18.04_amd64.deb ...\n",
            "Unpacking openjdk-8-jre-headless:amd64 (8u312-b07-0ubuntu1~18.04) ...\n",
            "Selecting previously unselected package openjdk-8-jdk-headless:amd64.\n",
            "Preparing to unpack .../openjdk-8-jdk-headless_8u312-b07-0ubuntu1~18.04_amd64.deb ...\n",
            "Unpacking openjdk-8-jdk-headless:amd64 (8u312-b07-0ubuntu1~18.04) ...\n",
            "Setting up openjdk-8-jre-headless:amd64 (8u312-b07-0ubuntu1~18.04) ...\n",
            "update-alternatives: using /usr/lib/jvm/java-8-openjdk-amd64/jre/bin/orbd to provide /usr/bin/orbd (orbd) in auto mode\n",
            "update-alternatives: using /usr/lib/jvm/java-8-openjdk-amd64/jre/bin/servertool to provide /usr/bin/servertool (servertool) in auto mode\n",
            "update-alternatives: using /usr/lib/jvm/java-8-openjdk-amd64/jre/bin/tnameserv to provide /usr/bin/tnameserv (tnameserv) in auto mode\n",
            "Setting up openjdk-8-jdk-headless:amd64 (8u312-b07-0ubuntu1~18.04) ...\n",
            "update-alternatives: using /usr/lib/jvm/java-8-openjdk-amd64/bin/idlj to provide /usr/bin/idlj (idlj) in auto mode\n",
            "update-alternatives: using /usr/lib/jvm/java-8-openjdk-amd64/bin/wsimport to provide /usr/bin/wsimport (wsimport) in auto mode\n",
            "update-alternatives: using /usr/lib/jvm/java-8-openjdk-amd64/bin/jsadebugd to provide /usr/bin/jsadebugd (jsadebugd) in auto mode\n",
            "update-alternatives: using /usr/lib/jvm/java-8-openjdk-amd64/bin/native2ascii to provide /usr/bin/native2ascii (native2ascii) in auto mode\n",
            "update-alternatives: using /usr/lib/jvm/java-8-openjdk-amd64/bin/javah to provide /usr/bin/javah (javah) in auto mode\n",
            "update-alternatives: using /usr/lib/jvm/java-8-openjdk-amd64/bin/hsdb to provide /usr/bin/hsdb (hsdb) in auto mode\n",
            "update-alternatives: using /usr/lib/jvm/java-8-openjdk-amd64/bin/clhsdb to provide /usr/bin/clhsdb (clhsdb) in auto mode\n",
            "update-alternatives: using /usr/lib/jvm/java-8-openjdk-amd64/bin/xjc to provide /usr/bin/xjc (xjc) in auto mode\n",
            "update-alternatives: using /usr/lib/jvm/java-8-openjdk-amd64/bin/schemagen to provide /usr/bin/schemagen (schemagen) in auto mode\n",
            "update-alternatives: using /usr/lib/jvm/java-8-openjdk-amd64/bin/extcheck to provide /usr/bin/extcheck (extcheck) in auto mode\n",
            "update-alternatives: using /usr/lib/jvm/java-8-openjdk-amd64/bin/jhat to provide /usr/bin/jhat (jhat) in auto mode\n",
            "update-alternatives: using /usr/lib/jvm/java-8-openjdk-amd64/bin/wsgen to provide /usr/bin/wsgen (wsgen) in auto mode\n",
            "--2022-05-25 07:16:12--  https://apache.osuosl.org/spark/spark-3.0.3/spark-3.0.3-bin-hadoop3.2.tgz\n",
            "Resolving apache.osuosl.org (apache.osuosl.org)... 64.50.233.100, 64.50.236.52, 140.211.166.134, ...\n",
            "Connecting to apache.osuosl.org (apache.osuosl.org)|64.50.233.100|:443... connected.\n",
            "HTTP request sent, awaiting response... 200 OK\n",
            "Length: 224762914 (214M) [application/x-gzip]\n",
            "Saving to: ‘spark-3.0.3-bin-hadoop3.2.tgz’\n",
            "\n",
            "spark-3.0.3-bin-had 100%[===================>] 214.35M  24.9MB/s    in 78s     \n",
            "\n",
            "2022-05-25 07:17:30 (2.74 MB/s) - ‘spark-3.0.3-bin-hadoop3.2.tgz’ saved [224762914/224762914]\n",
            "\n"
          ]
        }
      ]
    },
    {
      "cell_type": "code",
      "metadata": {
        "id": "FejPN_KpvGke"
      },
      "source": [
        "import os\n",
        "os.environ[\"JAVA_HOME\"] = \"/usr/lib/jvm/java-8-openjdk-amd64\"\n",
        "\n",
        "os.environ[\"SPARK_HOME\"] = \"/content/spark-3.0.3-bin-hadoop3.2\"\n",
        "#os.environ[\"SPARK_HOME\"] = \"/content/spark-3.2.1-bin-hadoop3.2\""
      ],
      "execution_count": 2,
      "outputs": []
    },
    {
      "cell_type": "code",
      "source": [
        "!pip install -q findspark\n",
        "import findspark\n",
        "findspark.init()"
      ],
      "metadata": {
        "id": "_LtuqnYgA-qa"
      },
      "execution_count": 3,
      "outputs": []
    },
    {
      "cell_type": "code",
      "metadata": {
        "id": "7okdoVFIvQJm",
        "colab": {
          "base_uri": "https://localhost:8080/",
          "height": 196
        },
        "outputId": "8f86cab0-90e5-4cf5-b31a-29ad8ec7bfe7"
      },
      "source": [
        "from pyspark.sql import SparkSession\n",
        "spark = SparkSession.builder.master(\"local[*]\").getOrCreate()\n",
        "sc = spark.sparkContext\n",
        "sc"
      ],
      "execution_count": 4,
      "outputs": [
        {
          "output_type": "execute_result",
          "data": {
            "text/plain": [
              "<SparkContext master=local[*] appName=pyspark-shell>"
            ],
            "text/html": [
              "\n",
              "        <div>\n",
              "            <p><b>SparkContext</b></p>\n",
              "\n",
              "            <p><a href=\"http://42ab64e4c4db:4040\">Spark UI</a></p>\n",
              "\n",
              "            <dl>\n",
              "              <dt>Version</dt>\n",
              "                <dd><code>v3.0.3</code></dd>\n",
              "              <dt>Master</dt>\n",
              "                <dd><code>local[*]</code></dd>\n",
              "              <dt>AppName</dt>\n",
              "                <dd><code>pyspark-shell</code></dd>\n",
              "            </dl>\n",
              "        </div>\n",
              "        "
            ]
          },
          "metadata": {},
          "execution_count": 4
        }
      ]
    },
    {
      "cell_type": "markdown",
      "metadata": {
        "id": "bAyLqUDFyjjQ"
      },
      "source": [
        "# Load Data"
      ]
    },
    {
      "cell_type": "code",
      "metadata": {
        "id": "HW3Dl9Px4BK7",
        "colab": {
          "base_uri": "https://localhost:8080/"
        },
        "outputId": "93142c56-0548-4798-bf45-ff1107799309"
      },
      "source": [
        "#import urllib.request\n",
        "#urllib.request.urlretrieve('http://kdd.ics.uci.edu/databases/kddcup99/kddcup.data_10_percent.gz','kdd10.gz')\n",
        "#urllib.urlretrieve(\"http://kdd.ics.uci.edu/databases/kddcup99/kddcup.data_10_percent.gz\", \"kdd10b.gz\")\n",
        "!wget 'http://kdd.ics.uci.edu/databases/kddcup99/kddcup.data_10_percent.gz'"
      ],
      "execution_count": 5,
      "outputs": [
        {
          "output_type": "stream",
          "name": "stdout",
          "text": [
            "--2022-05-25 07:18:22--  http://kdd.ics.uci.edu/databases/kddcup99/kddcup.data_10_percent.gz\n",
            "Resolving kdd.ics.uci.edu (kdd.ics.uci.edu)... 128.195.1.86\n",
            "Connecting to kdd.ics.uci.edu (kdd.ics.uci.edu)|128.195.1.86|:80... connected.\n",
            "HTTP request sent, awaiting response... 200 OK\n",
            "Length: 2144903 (2.0M) [application/x-gzip]\n",
            "Saving to: ‘kddcup.data_10_percent.gz’\n",
            "\n",
            "kddcup.data_10_perc 100%[===================>]   2.04M  9.13MB/s    in 0.2s    \n",
            "\n",
            "2022-05-25 07:18:22 (9.13 MB/s) - ‘kddcup.data_10_percent.gz’ saved [2144903/2144903]\n",
            "\n"
          ]
        }
      ]
    },
    {
      "cell_type": "code",
      "metadata": {
        "id": "uzXUSy5Z4Hto",
        "colab": {
          "base_uri": "https://localhost:8080/"
        },
        "outputId": "b71e7fa8-3d45-4ad6-a6c2-f6475942bf1a"
      },
      "source": [
        "!rm kdd10.gz\n",
        "!mv kddcup.data_10_percent.gz kdd10.gz"
      ],
      "execution_count": 6,
      "outputs": [
        {
          "output_type": "stream",
          "name": "stdout",
          "text": [
            "rm: cannot remove 'kdd10.gz': No such file or directory\n"
          ]
        }
      ]
    },
    {
      "cell_type": "code",
      "metadata": {
        "id": "tqcZoCSe9QjY",
        "colab": {
          "base_uri": "https://localhost:8080/"
        },
        "outputId": "4e9cdc43-9a2e-4978-ef9a-5766b6ca54e8"
      },
      "source": [
        "data_file = \"./kdd10.gz\"\n",
        "raw_data = sc.textFile(data_file)\n",
        "\n",
        "print (\"Train data size is \", raw_data.count())"
      ],
      "execution_count": null,
      "outputs": [
        {
          "output_type": "stream",
          "name": "stdout",
          "text": [
            "Train data size is  494021\n"
          ]
        }
      ]
    },
    {
      "cell_type": "code",
      "metadata": {
        "id": "PO5ze02q9dEK",
        "colab": {
          "base_uri": "https://localhost:8080/"
        },
        "outputId": "f49a932f-38e7-40b2-bb5a-e912c912ae81"
      },
      "source": [
        "#import urllib.request\n",
        "#urllib.request.urlretrieve('http://kdd.ics.uci.edu/databases/kddcup99/corrected.gz','corrected.gz')\n",
        "!wget 'http://kdd.ics.uci.edu/databases/kddcup99/corrected.gz'"
      ],
      "execution_count": null,
      "outputs": [
        {
          "output_type": "stream",
          "name": "stdout",
          "text": [
            "--2022-05-20 06:16:10--  http://kdd.ics.uci.edu/databases/kddcup99/corrected.gz\n",
            "Resolving kdd.ics.uci.edu (kdd.ics.uci.edu)... 128.195.1.86\n",
            "Connecting to kdd.ics.uci.edu (kdd.ics.uci.edu)|128.195.1.86|:80... connected.\n",
            "HTTP request sent, awaiting response... 200 OK\n",
            "Length: 1409035 (1.3M) [application/x-gzip]\n",
            "Saving to: ‘corrected.gz’\n",
            "\n",
            "corrected.gz        100%[===================>]   1.34M  3.79MB/s    in 0.4s    \n",
            "\n",
            "2022-05-20 06:16:10 (3.79 MB/s) - ‘corrected.gz’ saved [1409035/1409035]\n",
            "\n"
          ]
        }
      ]
    },
    {
      "cell_type": "code",
      "metadata": {
        "id": "YaoEKBmS9tT0",
        "colab": {
          "base_uri": "https://localhost:8080/"
        },
        "outputId": "ea7471f9-f0b3-4963-8624-cdd425a9b3e0"
      },
      "source": [
        "test_data_file = \"./corrected.gz\"\n",
        "test_raw_data = sc.textFile(test_data_file)\n",
        "\n",
        "print (\"Test data size is \", test_raw_data.count())"
      ],
      "execution_count": null,
      "outputs": [
        {
          "output_type": "stream",
          "name": "stdout",
          "text": [
            "Test data size is  311029\n"
          ]
        }
      ]
    },
    {
      "cell_type": "markdown",
      "metadata": {
        "id": "nrGMKNtdKdNc"
      },
      "source": [
        "# Part 10 SQL Dataframes <br>\n",
        "https://github.com/prithwis/spark-py-notebooks/blob/master/nb10-sql-dataframes/nb10-sql-dataframes.ipynb"
      ]
    },
    {
      "cell_type": "code",
      "metadata": {
        "id": "gvprxnnyKo2E",
        "colab": {
          "base_uri": "https://localhost:8080/"
        },
        "outputId": "af49f331-d1a7-4ee0-8525-13481e171064"
      },
      "source": [
        "data_file = \"./kdd10.gz\"\n",
        "raw_data = sc.textFile(data_file)\n",
        "\n",
        "print (\"Train data size is \", raw_data.count())"
      ],
      "execution_count": 7,
      "outputs": [
        {
          "output_type": "stream",
          "name": "stdout",
          "text": [
            "Train data size is  494021\n"
          ]
        }
      ]
    },
    {
      "cell_type": "code",
      "source": [
        "raw_data_sample = raw_data.sample(False, 0.1, 1234)"
      ],
      "metadata": {
        "id": "zLsP61FEakjt"
      },
      "execution_count": 8,
      "outputs": []
    },
    {
      "cell_type": "code",
      "metadata": {
        "colab": {
          "base_uri": "https://localhost:8080/",
          "height": 53
        },
        "id": "oC1xHTn4Dv9w",
        "outputId": "453cd046-6a25-4f9f-9348-7f20bdfe5991"
      },
      "source": [
        "raw_data.collect()[1]"
      ],
      "execution_count": 9,
      "outputs": [
        {
          "output_type": "execute_result",
          "data": {
            "text/plain": [
              "'0,tcp,http,SF,239,486,0,0,0,0,0,1,0,0,0,0,0,0,0,0,0,0,8,8,0.00,0.00,0.00,0.00,1.00,0.00,0.00,19,19,1.00,0.00,0.05,0.00,0.00,0.00,0.00,0.00,normal.'"
            ],
            "application/vnd.google.colaboratory.intrinsic+json": {
              "type": "string"
            }
          },
          "metadata": {},
          "execution_count": 9
        }
      ]
    },
    {
      "cell_type": "code",
      "metadata": {
        "id": "aS9Ex7RrK-ek"
      },
      "source": [
        "#SQLContext is deprecated\n",
        "#from pyspark.sql import SQLContext\n",
        "#sqlContext = SQLContext(sc)"
      ],
      "execution_count": null,
      "outputs": []
    },
    {
      "cell_type": "code",
      "metadata": {
        "id": "UjR1pu9kLurS"
      },
      "source": [
        "from pyspark.sql import Row\n",
        "\n",
        "# -------------------------------------------------------\n",
        "# Using the full data set causes the SparkSQL to hang up\n",
        "# Have not been able to find a solution to this problem\n",
        "# -------------------------------------------------------\n",
        "\n",
        "# However, if we use an OLDER version of Spark, the error goes away\n",
        "\n",
        "\n",
        "csv_data = raw_data.map(lambda l: l.split(\",\"))            # using full data will cause problem with spark 3.2.1 will work with 3.0.3\n",
        "#csv_data = raw_data_sample.map(lambda l: l.split(\",\"))      # using 10% sample data\n",
        "row_data = csv_data.map(lambda p: Row(\n",
        "    duration=int(p[0]), \n",
        "    protocol_type=p[1],\n",
        "    service=p[2],\n",
        "    flag=p[3],\n",
        "    src_bytes=int(p[4]),\n",
        "    dst_bytes=int(p[5])\n",
        "    )\n",
        ")"
      ],
      "execution_count": 10,
      "outputs": []
    },
    {
      "cell_type": "code",
      "metadata": {
        "id": "iZ7daUhTLzHK",
        "outputId": "3461c4f7-a4ca-4cc2-8989-eaadc5f03cca",
        "colab": {
          "base_uri": "https://localhost:8080/"
        }
      },
      "source": [
        "csv_data.take(1)"
      ],
      "execution_count": 16,
      "outputs": [
        {
          "output_type": "execute_result",
          "data": {
            "text/plain": [
              "[['0',\n",
              "  'tcp',\n",
              "  'http',\n",
              "  'SF',\n",
              "  '181',\n",
              "  '5450',\n",
              "  '0',\n",
              "  '0',\n",
              "  '0',\n",
              "  '0',\n",
              "  '0',\n",
              "  '1',\n",
              "  '0',\n",
              "  '0',\n",
              "  '0',\n",
              "  '0',\n",
              "  '0',\n",
              "  '0',\n",
              "  '0',\n",
              "  '0',\n",
              "  '0',\n",
              "  '0',\n",
              "  '8',\n",
              "  '8',\n",
              "  '0.00',\n",
              "  '0.00',\n",
              "  '0.00',\n",
              "  '0.00',\n",
              "  '1.00',\n",
              "  '0.00',\n",
              "  '0.00',\n",
              "  '9',\n",
              "  '9',\n",
              "  '1.00',\n",
              "  '0.00',\n",
              "  '0.11',\n",
              "  '0.00',\n",
              "  '0.00',\n",
              "  '0.00',\n",
              "  '0.00',\n",
              "  '0.00',\n",
              "  'normal.']]"
            ]
          },
          "metadata": {},
          "execution_count": 16
        }
      ]
    },
    {
      "cell_type": "code",
      "metadata": {
        "id": "TTk6rw60L86S",
        "colab": {
          "base_uri": "https://localhost:8080/"
        },
        "outputId": "b04874a1-25cb-42d5-b1d4-37ee2eb6e8d2"
      },
      "source": [
        "row_data.take(2)"
      ],
      "execution_count": 15,
      "outputs": [
        {
          "output_type": "execute_result",
          "data": {
            "text/plain": [
              "[Row(duration=0, protocol_type='tcp', service='http', flag='SF', src_bytes=181, dst_bytes=5450),\n",
              " Row(duration=0, protocol_type='tcp', service='http', flag='SF', src_bytes=239, dst_bytes=486)]"
            ]
          },
          "metadata": {},
          "execution_count": 15
        }
      ]
    },
    {
      "cell_type": "code",
      "metadata": {
        "id": "6hJbnVFCMOts"
      },
      "source": [
        "#interactions_df = sqlContext.createDataFrame(row_data) -- deprecated\n",
        "interactions_df = spark.createDataFrame(row_data)\n",
        "#interactions_df.registerTempTable(\"interactions\") -- deprecated\n",
        "interactions_df.createOrReplaceTempView(\"interactions\")"
      ],
      "execution_count": 12,
      "outputs": []
    },
    {
      "cell_type": "code",
      "metadata": {
        "id": "S7IrXJUEADxA",
        "colab": {
          "base_uri": "https://localhost:8080/"
        },
        "outputId": "908e6379-1012-4bb0-b224-df8022540820"
      },
      "source": [
        "#tcp_interactions = sqlContext.sql(\"\"\"\n",
        "tcp_interactions = spark.sql(\"\"\"\n",
        "    SELECT distinct(protocol_type) FROM interactions \n",
        "\"\"\")\n",
        "tcp_interactions.show()"
      ],
      "execution_count": 13,
      "outputs": [
        {
          "output_type": "stream",
          "name": "stdout",
          "text": [
            "+-------------+\n",
            "|protocol_type|\n",
            "+-------------+\n",
            "|          tcp|\n",
            "|          udp|\n",
            "|         icmp|\n",
            "+-------------+\n",
            "\n"
          ]
        }
      ]
    },
    {
      "cell_type": "code",
      "source": [
        "#tcp_interactions = sqlContext.sql(\"\"\"\n",
        "tcp_interactions = spark.sql(\"\"\"\n",
        "    SELECT  count(*) FROM interactions \n",
        "\"\"\")\n",
        "tcp_interactions.show()"
      ],
      "metadata": {
        "id": "YjN6c2sjHexF",
        "outputId": "34f28b3f-e740-4c4b-b880-babe69909cbb",
        "colab": {
          "base_uri": "https://localhost:8080/"
        }
      },
      "execution_count": 17,
      "outputs": [
        {
          "output_type": "stream",
          "name": "stdout",
          "text": [
            "+--------+\n",
            "|count(1)|\n",
            "+--------+\n",
            "|  494021|\n",
            "+--------+\n",
            "\n"
          ]
        }
      ]
    },
    {
      "cell_type": "code",
      "metadata": {
        "id": "dUL0DOyH_4Et",
        "colab": {
          "base_uri": "https://localhost:8080/"
        },
        "outputId": "fdebb5a0-5b4c-4311-a9f0-ca3e4bb261a3"
      },
      "source": [
        "#tcp_interactions = sqlContext.sql(\"\"\"\n",
        "tcp_interactions = spark.sql(\"\"\"\n",
        "    SELECT duration, protocol_type, dst_bytes FROM interactions WHERE protocol_type = 'udp' \n",
        "\"\"\")\n",
        "tcp_interactions.show()"
      ],
      "execution_count": 18,
      "outputs": [
        {
          "output_type": "stream",
          "name": "stdout",
          "text": [
            "+--------+-------------+---------+\n",
            "|duration|protocol_type|dst_bytes|\n",
            "+--------+-------------+---------+\n",
            "|       0|          udp|        0|\n",
            "|       0|          udp|        0|\n",
            "|       0|          udp|        0|\n",
            "|       0|          udp|        0|\n",
            "|       0|          udp|        0|\n",
            "|       0|          udp|        0|\n",
            "|       0|          udp|        0|\n",
            "|       0|          udp|        0|\n",
            "|       8|          udp|       32|\n",
            "|       7|          udp|       36|\n",
            "|       0|          udp|        0|\n",
            "|       0|          udp|        0|\n",
            "|       0|          udp|        0|\n",
            "|       0|          udp|        0|\n",
            "|       0|          udp|       32|\n",
            "|       4|          udp|       41|\n",
            "|       0|          udp|       75|\n",
            "|       0|          udp|       48|\n",
            "|       0|          udp|       48|\n",
            "|       0|          udp|       48|\n",
            "+--------+-------------+---------+\n",
            "only showing top 20 rows\n",
            "\n"
          ]
        }
      ]
    },
    {
      "cell_type": "code",
      "metadata": {
        "id": "66FCNLKDMV5G",
        "colab": {
          "base_uri": "https://localhost:8080/"
        },
        "outputId": "b11eda08-0517-49cd-ae0e-c2cc99af9e89"
      },
      "source": [
        "#cp_interactions = sqlContext.sql(\"\"\"\n",
        "tcp_interactions = spark.sql(\"\"\"\n",
        "    SELECT duration, dst_bytes FROM interactions WHERE protocol_type = 'tcp' AND duration > 1000 AND dst_bytes = 0\n",
        "\"\"\")\n",
        "tcp_interactions.show()"
      ],
      "execution_count": 19,
      "outputs": [
        {
          "output_type": "stream",
          "name": "stdout",
          "text": [
            "+--------+---------+\n",
            "|duration|dst_bytes|\n",
            "+--------+---------+\n",
            "|    5057|        0|\n",
            "|    5059|        0|\n",
            "|    5051|        0|\n",
            "|    5056|        0|\n",
            "|    5051|        0|\n",
            "|    5039|        0|\n",
            "|    5062|        0|\n",
            "|    5041|        0|\n",
            "|    5056|        0|\n",
            "|    5064|        0|\n",
            "|    5043|        0|\n",
            "|    5061|        0|\n",
            "|    5049|        0|\n",
            "|    5061|        0|\n",
            "|    5048|        0|\n",
            "|    5047|        0|\n",
            "|    5044|        0|\n",
            "|    5063|        0|\n",
            "|    5068|        0|\n",
            "|    5062|        0|\n",
            "+--------+---------+\n",
            "only showing top 20 rows\n",
            "\n"
          ]
        }
      ]
    },
    {
      "cell_type": "code",
      "metadata": {
        "id": "e3EC0_CNMvt6",
        "colab": {
          "base_uri": "https://localhost:8080/"
        },
        "outputId": "142066ac-3bf5-4db1-b5b9-75e45bc8ec21"
      },
      "source": [
        "# Output duration together with dst_bytes\n",
        "tcp_interactions_out = tcp_interactions.rdd.map(lambda p: (\"Duration = \", p.duration,\"DST Bytes = \", p.dst_bytes))\n",
        "for ti_out in tcp_interactions_out.collect():\n",
        "  print (ti_out)"
      ],
      "execution_count": 20,
      "outputs": [
        {
          "output_type": "stream",
          "name": "stdout",
          "text": [
            "('Duration = ', 5057, 'DST Bytes = ', 0)\n",
            "('Duration = ', 5059, 'DST Bytes = ', 0)\n",
            "('Duration = ', 5051, 'DST Bytes = ', 0)\n",
            "('Duration = ', 5056, 'DST Bytes = ', 0)\n",
            "('Duration = ', 5051, 'DST Bytes = ', 0)\n",
            "('Duration = ', 5039, 'DST Bytes = ', 0)\n",
            "('Duration = ', 5062, 'DST Bytes = ', 0)\n",
            "('Duration = ', 5041, 'DST Bytes = ', 0)\n",
            "('Duration = ', 5056, 'DST Bytes = ', 0)\n",
            "('Duration = ', 5064, 'DST Bytes = ', 0)\n",
            "('Duration = ', 5043, 'DST Bytes = ', 0)\n",
            "('Duration = ', 5061, 'DST Bytes = ', 0)\n",
            "('Duration = ', 5049, 'DST Bytes = ', 0)\n",
            "('Duration = ', 5061, 'DST Bytes = ', 0)\n",
            "('Duration = ', 5048, 'DST Bytes = ', 0)\n",
            "('Duration = ', 5047, 'DST Bytes = ', 0)\n",
            "('Duration = ', 5044, 'DST Bytes = ', 0)\n",
            "('Duration = ', 5063, 'DST Bytes = ', 0)\n",
            "('Duration = ', 5068, 'DST Bytes = ', 0)\n",
            "('Duration = ', 5062, 'DST Bytes = ', 0)\n",
            "('Duration = ', 5046, 'DST Bytes = ', 0)\n",
            "('Duration = ', 5052, 'DST Bytes = ', 0)\n",
            "('Duration = ', 5044, 'DST Bytes = ', 0)\n",
            "('Duration = ', 5054, 'DST Bytes = ', 0)\n",
            "('Duration = ', 5039, 'DST Bytes = ', 0)\n",
            "('Duration = ', 5058, 'DST Bytes = ', 0)\n",
            "('Duration = ', 5051, 'DST Bytes = ', 0)\n",
            "('Duration = ', 5032, 'DST Bytes = ', 0)\n",
            "('Duration = ', 5063, 'DST Bytes = ', 0)\n",
            "('Duration = ', 5040, 'DST Bytes = ', 0)\n",
            "('Duration = ', 5051, 'DST Bytes = ', 0)\n",
            "('Duration = ', 5066, 'DST Bytes = ', 0)\n",
            "('Duration = ', 5044, 'DST Bytes = ', 0)\n",
            "('Duration = ', 5051, 'DST Bytes = ', 0)\n",
            "('Duration = ', 5036, 'DST Bytes = ', 0)\n",
            "('Duration = ', 5055, 'DST Bytes = ', 0)\n",
            "('Duration = ', 2426, 'DST Bytes = ', 0)\n",
            "('Duration = ', 5047, 'DST Bytes = ', 0)\n",
            "('Duration = ', 5057, 'DST Bytes = ', 0)\n",
            "('Duration = ', 5037, 'DST Bytes = ', 0)\n",
            "('Duration = ', 5057, 'DST Bytes = ', 0)\n",
            "('Duration = ', 5062, 'DST Bytes = ', 0)\n",
            "('Duration = ', 5051, 'DST Bytes = ', 0)\n",
            "('Duration = ', 5051, 'DST Bytes = ', 0)\n",
            "('Duration = ', 5053, 'DST Bytes = ', 0)\n",
            "('Duration = ', 5064, 'DST Bytes = ', 0)\n",
            "('Duration = ', 5044, 'DST Bytes = ', 0)\n",
            "('Duration = ', 5051, 'DST Bytes = ', 0)\n",
            "('Duration = ', 5033, 'DST Bytes = ', 0)\n",
            "('Duration = ', 5066, 'DST Bytes = ', 0)\n",
            "('Duration = ', 5063, 'DST Bytes = ', 0)\n",
            "('Duration = ', 5056, 'DST Bytes = ', 0)\n",
            "('Duration = ', 5042, 'DST Bytes = ', 0)\n",
            "('Duration = ', 5063, 'DST Bytes = ', 0)\n",
            "('Duration = ', 5060, 'DST Bytes = ', 0)\n",
            "('Duration = ', 5056, 'DST Bytes = ', 0)\n",
            "('Duration = ', 5049, 'DST Bytes = ', 0)\n",
            "('Duration = ', 5043, 'DST Bytes = ', 0)\n",
            "('Duration = ', 5039, 'DST Bytes = ', 0)\n",
            "('Duration = ', 5041, 'DST Bytes = ', 0)\n",
            "('Duration = ', 42448, 'DST Bytes = ', 0)\n",
            "('Duration = ', 42088, 'DST Bytes = ', 0)\n",
            "('Duration = ', 41065, 'DST Bytes = ', 0)\n",
            "('Duration = ', 40929, 'DST Bytes = ', 0)\n",
            "('Duration = ', 40806, 'DST Bytes = ', 0)\n",
            "('Duration = ', 40682, 'DST Bytes = ', 0)\n",
            "('Duration = ', 40571, 'DST Bytes = ', 0)\n",
            "('Duration = ', 40448, 'DST Bytes = ', 0)\n",
            "('Duration = ', 40339, 'DST Bytes = ', 0)\n",
            "('Duration = ', 40232, 'DST Bytes = ', 0)\n",
            "('Duration = ', 40121, 'DST Bytes = ', 0)\n",
            "('Duration = ', 36783, 'DST Bytes = ', 0)\n",
            "('Duration = ', 36674, 'DST Bytes = ', 0)\n",
            "('Duration = ', 36570, 'DST Bytes = ', 0)\n",
            "('Duration = ', 36467, 'DST Bytes = ', 0)\n",
            "('Duration = ', 36323, 'DST Bytes = ', 0)\n",
            "('Duration = ', 36204, 'DST Bytes = ', 0)\n",
            "('Duration = ', 32038, 'DST Bytes = ', 0)\n",
            "('Duration = ', 31925, 'DST Bytes = ', 0)\n",
            "('Duration = ', 31809, 'DST Bytes = ', 0)\n",
            "('Duration = ', 31709, 'DST Bytes = ', 0)\n",
            "('Duration = ', 31601, 'DST Bytes = ', 0)\n",
            "('Duration = ', 31501, 'DST Bytes = ', 0)\n",
            "('Duration = ', 31401, 'DST Bytes = ', 0)\n",
            "('Duration = ', 31301, 'DST Bytes = ', 0)\n",
            "('Duration = ', 31194, 'DST Bytes = ', 0)\n",
            "('Duration = ', 31061, 'DST Bytes = ', 0)\n",
            "('Duration = ', 30935, 'DST Bytes = ', 0)\n",
            "('Duration = ', 30835, 'DST Bytes = ', 0)\n",
            "('Duration = ', 30735, 'DST Bytes = ', 0)\n",
            "('Duration = ', 30619, 'DST Bytes = ', 0)\n",
            "('Duration = ', 30518, 'DST Bytes = ', 0)\n",
            "('Duration = ', 30418, 'DST Bytes = ', 0)\n",
            "('Duration = ', 30317, 'DST Bytes = ', 0)\n",
            "('Duration = ', 30217, 'DST Bytes = ', 0)\n",
            "('Duration = ', 30077, 'DST Bytes = ', 0)\n",
            "('Duration = ', 25420, 'DST Bytes = ', 0)\n",
            "('Duration = ', 22921, 'DST Bytes = ', 0)\n",
            "('Duration = ', 22821, 'DST Bytes = ', 0)\n",
            "('Duration = ', 22721, 'DST Bytes = ', 0)\n",
            "('Duration = ', 22616, 'DST Bytes = ', 0)\n",
            "('Duration = ', 22516, 'DST Bytes = ', 0)\n",
            "('Duration = ', 22416, 'DST Bytes = ', 0)\n",
            "('Duration = ', 22316, 'DST Bytes = ', 0)\n",
            "('Duration = ', 22216, 'DST Bytes = ', 0)\n",
            "('Duration = ', 21987, 'DST Bytes = ', 0)\n",
            "('Duration = ', 21887, 'DST Bytes = ', 0)\n",
            "('Duration = ', 21767, 'DST Bytes = ', 0)\n",
            "('Duration = ', 21661, 'DST Bytes = ', 0)\n",
            "('Duration = ', 21561, 'DST Bytes = ', 0)\n",
            "('Duration = ', 21455, 'DST Bytes = ', 0)\n",
            "('Duration = ', 21334, 'DST Bytes = ', 0)\n",
            "('Duration = ', 21223, 'DST Bytes = ', 0)\n",
            "('Duration = ', 21123, 'DST Bytes = ', 0)\n",
            "('Duration = ', 20983, 'DST Bytes = ', 0)\n",
            "('Duration = ', 14682, 'DST Bytes = ', 0)\n",
            "('Duration = ', 14420, 'DST Bytes = ', 0)\n",
            "('Duration = ', 14319, 'DST Bytes = ', 0)\n",
            "('Duration = ', 14198, 'DST Bytes = ', 0)\n",
            "('Duration = ', 14098, 'DST Bytes = ', 0)\n",
            "('Duration = ', 13998, 'DST Bytes = ', 0)\n",
            "('Duration = ', 13898, 'DST Bytes = ', 0)\n",
            "('Duration = ', 13796, 'DST Bytes = ', 0)\n",
            "('Duration = ', 13678, 'DST Bytes = ', 0)\n",
            "('Duration = ', 13578, 'DST Bytes = ', 0)\n",
            "('Duration = ', 13448, 'DST Bytes = ', 0)\n",
            "('Duration = ', 13348, 'DST Bytes = ', 0)\n",
            "('Duration = ', 13241, 'DST Bytes = ', 0)\n",
            "('Duration = ', 13141, 'DST Bytes = ', 0)\n",
            "('Duration = ', 13033, 'DST Bytes = ', 0)\n",
            "('Duration = ', 12933, 'DST Bytes = ', 0)\n",
            "('Duration = ', 12833, 'DST Bytes = ', 0)\n",
            "('Duration = ', 12733, 'DST Bytes = ', 0)\n",
            "('Duration = ', 12001, 'DST Bytes = ', 0)\n",
            "('Duration = ', 5678, 'DST Bytes = ', 0)\n",
            "('Duration = ', 5010, 'DST Bytes = ', 0)\n",
            "('Duration = ', 1298, 'DST Bytes = ', 0)\n",
            "('Duration = ', 1031, 'DST Bytes = ', 0)\n",
            "('Duration = ', 36438, 'DST Bytes = ', 0)\n"
          ]
        }
      ]
    },
    {
      "cell_type": "code",
      "metadata": {
        "id": "TgRwwMFkPLqa",
        "colab": {
          "base_uri": "https://localhost:8080/"
        },
        "outputId": "6e166a23-2a0b-4cfa-d93f-fd52f69f8639"
      },
      "source": [
        "interactions_df.printSchema()"
      ],
      "execution_count": 21,
      "outputs": [
        {
          "output_type": "stream",
          "name": "stdout",
          "text": [
            "root\n",
            " |-- duration: long (nullable = true)\n",
            " |-- protocol_type: string (nullable = true)\n",
            " |-- service: string (nullable = true)\n",
            " |-- flag: string (nullable = true)\n",
            " |-- src_bytes: long (nullable = true)\n",
            " |-- dst_bytes: long (nullable = true)\n",
            "\n"
          ]
        }
      ]
    },
    {
      "cell_type": "code",
      "metadata": {
        "id": "cbaMw176PbT6",
        "colab": {
          "base_uri": "https://localhost:8080/"
        },
        "outputId": "3fbfef48-1707-4c6f-a2fb-580dfffb5d87"
      },
      "source": [
        "from time import time\n",
        "\n",
        "t0 = time()\n",
        "interactions_df.select(\"protocol_type\", \"duration\", \"dst_bytes\").groupBy(\"protocol_type\").count().show()\n",
        "tt = time() - t0\n",
        "\n",
        "print (\"Query performed in \",round(tt,3),\" seconds\")"
      ],
      "execution_count": 22,
      "outputs": [
        {
          "output_type": "stream",
          "name": "stdout",
          "text": [
            "+-------------+------+\n",
            "|protocol_type| count|\n",
            "+-------------+------+\n",
            "|          tcp|190065|\n",
            "|          udp| 20354|\n",
            "|         icmp|283602|\n",
            "+-------------+------+\n",
            "\n",
            "Query performed in  7.365  seconds\n"
          ]
        }
      ]
    },
    {
      "cell_type": "code",
      "metadata": {
        "id": "iiiGNyOpP9tm",
        "colab": {
          "base_uri": "https://localhost:8080/"
        },
        "outputId": "5a8f64a6-6254-4ace-a9bf-4e80fd9259f9"
      },
      "source": [
        "t0 = time()\n",
        "interactions_df.select(\"protocol_type\", \"duration\", \"dst_bytes\").filter(interactions_df.duration>1000).filter(interactions_df.dst_bytes==0).groupBy(\"protocol_type\").count().show()\n",
        "tt = time() - t0\n",
        "\n",
        "print (\"Query performed in \",round(tt,3),\" seconds\")"
      ],
      "execution_count": 23,
      "outputs": [
        {
          "output_type": "stream",
          "name": "stdout",
          "text": [
            "+-------------+-----+\n",
            "|protocol_type|count|\n",
            "+-------------+-----+\n",
            "|          tcp|  139|\n",
            "+-------------+-----+\n",
            "\n",
            "Query performed in  7.113  seconds\n"
          ]
        }
      ]
    },
    {
      "cell_type": "code",
      "metadata": {
        "id": "CjVSFfzzQOG4"
      },
      "source": [
        "def get_label_type(label):\n",
        "    if label!=\"normal.\":\n",
        "        return \"attack\"\n",
        "    else:\n",
        "        return \"normal\"\n",
        "    \n",
        "row_labeled_data = csv_data.map(lambda p: Row(\n",
        "    duration=int(p[0]), \n",
        "    protocol_type=p[1],\n",
        "    service=p[2],\n",
        "    flag=p[3],\n",
        "    src_bytes=int(p[4]),\n",
        "    dst_bytes=int(p[5]),\n",
        "    label=get_label_type(p[41])\n",
        "    )\n",
        ")\n",
        "#interactions_labeled_df = sqlContext.createDataFrame(row_labeled_data)\n",
        "interactions_labeled_df = spark.createDataFrame(row_labeled_data)"
      ],
      "execution_count": 24,
      "outputs": []
    },
    {
      "cell_type": "code",
      "metadata": {
        "id": "RHlM_5BAQWTs",
        "colab": {
          "base_uri": "https://localhost:8080/"
        },
        "outputId": "9e7a29fe-4051-4149-d1de-f99ce1706c74"
      },
      "source": [
        "t0 = time()\n",
        "interactions_labeled_df.select(\"label\").groupBy(\"label\").count().show()\n",
        "tt = time() - t0\n",
        "\n",
        "print (\"Query performed in \",round(tt,3),\" seconds\")"
      ],
      "execution_count": 25,
      "outputs": [
        {
          "output_type": "stream",
          "name": "stdout",
          "text": [
            "+------+------+\n",
            "| label| count|\n",
            "+------+------+\n",
            "|normal| 97278|\n",
            "|attack|396743|\n",
            "+------+------+\n",
            "\n",
            "Query performed in  6.944  seconds\n"
          ]
        }
      ]
    },
    {
      "cell_type": "code",
      "metadata": {
        "id": "KQXWZAo5Qiz4",
        "colab": {
          "base_uri": "https://localhost:8080/"
        },
        "outputId": "ca2dfbd7-3acb-4607-fb76-83fb18125de8"
      },
      "source": [
        "t0 = time()\n",
        "interactions_labeled_df.select(\"label\", \"protocol_type\").groupBy(\"label\", \"protocol_type\").count().show()\n",
        "tt = time() - t0\n",
        "\n",
        "print (\"Query performed in \",round(tt,3),\" seconds\")"
      ],
      "execution_count": 26,
      "outputs": [
        {
          "output_type": "stream",
          "name": "stdout",
          "text": [
            "+------+-------------+------+\n",
            "| label|protocol_type| count|\n",
            "+------+-------------+------+\n",
            "|normal|          udp| 19177|\n",
            "|normal|         icmp|  1288|\n",
            "|normal|          tcp| 76813|\n",
            "|attack|         icmp|282314|\n",
            "|attack|          tcp|113252|\n",
            "|attack|          udp|  1177|\n",
            "+------+-------------+------+\n",
            "\n",
            "Query performed in  6.628  seconds\n"
          ]
        }
      ]
    },
    {
      "cell_type": "code",
      "metadata": {
        "id": "eHvWpWI8QuQa",
        "colab": {
          "base_uri": "https://localhost:8080/"
        },
        "outputId": "0f8d1cfc-486b-45ec-9503-133cd8724bcb"
      },
      "source": [
        "t0 = time()\n",
        "interactions_labeled_df.select(\"label\", \"protocol_type\", \"dst_bytes\").groupBy(\"label\", \"protocol_type\", interactions_labeled_df.dst_bytes==0).count().show()\n",
        "tt = time() - t0\n",
        "\n",
        "print (\"Query performed in \",round(tt,3),\" seconds\")"
      ],
      "execution_count": 27,
      "outputs": [
        {
          "output_type": "stream",
          "name": "stdout",
          "text": [
            "+------+-------------+---------------+------+\n",
            "| label|protocol_type|(dst_bytes = 0)| count|\n",
            "+------+-------------+---------------+------+\n",
            "|normal|          udp|          false| 15583|\n",
            "|attack|          udp|          false|    11|\n",
            "|attack|          tcp|           true|110583|\n",
            "|normal|          tcp|          false| 67500|\n",
            "|attack|         icmp|           true|282314|\n",
            "|attack|          tcp|          false|  2669|\n",
            "|normal|          tcp|           true|  9313|\n",
            "|normal|          udp|           true|  3594|\n",
            "|normal|         icmp|           true|  1288|\n",
            "|attack|          udp|           true|  1166|\n",
            "+------+-------------+---------------+------+\n",
            "\n",
            "Query performed in  6.855  seconds\n"
          ]
        }
      ]
    },
    {
      "cell_type": "code",
      "source": [
        "#interactions_df.registerTempTable(\"interactions\") -- deprecated\n",
        "interactions_labeled_df.createOrReplaceTempView(\"interactions_l\")"
      ],
      "metadata": {
        "id": "jB165WXzKJKe"
      },
      "execution_count": 28,
      "outputs": []
    },
    {
      "cell_type": "code",
      "source": [
        "#tcp_interactions = sqlContext.sql(\"\"\"\n",
        "tcp_interactions2 = spark.sql(\"\"\"\n",
        "    SELECT * FROM interactions_l limit 20\n",
        "\"\"\")\n",
        "tcp_interactions2.show()"
      ],
      "metadata": {
        "id": "9PKYxHpaKeuE",
        "outputId": "b87dd38d-1c2d-4408-95f1-ff45138d7e0b",
        "colab": {
          "base_uri": "https://localhost:8080/"
        }
      },
      "execution_count": 29,
      "outputs": [
        {
          "output_type": "stream",
          "name": "stdout",
          "text": [
            "+--------+-------------+-------+----+---------+---------+------+\n",
            "|duration|protocol_type|service|flag|src_bytes|dst_bytes| label|\n",
            "+--------+-------------+-------+----+---------+---------+------+\n",
            "|       0|          tcp|   http|  SF|      181|     5450|normal|\n",
            "|       0|          tcp|   http|  SF|      239|      486|normal|\n",
            "|       0|          tcp|   http|  SF|      235|     1337|normal|\n",
            "|       0|          tcp|   http|  SF|      219|     1337|normal|\n",
            "|       0|          tcp|   http|  SF|      217|     2032|normal|\n",
            "|       0|          tcp|   http|  SF|      217|     2032|normal|\n",
            "|       0|          tcp|   http|  SF|      212|     1940|normal|\n",
            "|       0|          tcp|   http|  SF|      159|     4087|normal|\n",
            "|       0|          tcp|   http|  SF|      210|      151|normal|\n",
            "|       0|          tcp|   http|  SF|      212|      786|normal|\n",
            "|       0|          tcp|   http|  SF|      210|      624|normal|\n",
            "|       0|          tcp|   http|  SF|      177|     1985|normal|\n",
            "|       0|          tcp|   http|  SF|      222|      773|normal|\n",
            "|       0|          tcp|   http|  SF|      256|     1169|normal|\n",
            "|       0|          tcp|   http|  SF|      241|      259|normal|\n",
            "|       0|          tcp|   http|  SF|      260|     1837|normal|\n",
            "|       0|          tcp|   http|  SF|      241|      261|normal|\n",
            "|       0|          tcp|   http|  SF|      257|      818|normal|\n",
            "|       0|          tcp|   http|  SF|      233|      255|normal|\n",
            "|       0|          tcp|   http|  SF|      233|      504|normal|\n",
            "+--------+-------------+-------+----+---------+---------+------+\n",
            "\n"
          ]
        }
      ]
    },
    {
      "cell_type": "code",
      "source": [
        "#tcp_interactions = sqlContext.sql(\"\"\"\n",
        "tcp_interactions2 = spark.sql(\"\"\"\n",
        "    SELECT  label, protocol_type,  dst_bytes==0 check0, count(*) count FROM interactions_l group by label, protocol_type, check0\n",
        "\"\"\")\n",
        "tcp_interactions2.show()"
      ],
      "metadata": {
        "id": "9sE2E4rZK2Dk",
        "outputId": "81121ee8-04a5-4980-b799-615c30c0e444",
        "colab": {
          "base_uri": "https://localhost:8080/"
        }
      },
      "execution_count": 38,
      "outputs": [
        {
          "output_type": "stream",
          "name": "stdout",
          "text": [
            "+------+-------------+------+------+\n",
            "| label|protocol_type|check0| count|\n",
            "+------+-------------+------+------+\n",
            "|normal|          udp| false| 15583|\n",
            "|attack|          udp| false|    11|\n",
            "|attack|          tcp|  true|110583|\n",
            "|normal|          tcp| false| 67500|\n",
            "|attack|         icmp|  true|282314|\n",
            "|attack|          tcp| false|  2669|\n",
            "|normal|          tcp|  true|  9313|\n",
            "|normal|          udp|  true|  3594|\n",
            "|normal|         icmp|  true|  1288|\n",
            "|attack|          udp|  true|  1166|\n",
            "+------+-------------+------+------+\n",
            "\n"
          ]
        }
      ]
    },
    {
      "cell_type": "markdown",
      "metadata": {
        "id": "XgNM5tawg0Ap"
      },
      "source": [
        "#Chronobooks <br>\n",
        "![alt text](https://1.bp.blogspot.com/-lTiYBkU2qbU/X1er__fvnkI/AAAAAAAAjtE/GhDR3OEGJr4NG43fZPodrQD5kbxtnKebgCLcBGAsYHQ/s600/Footer2020-600x200.png)<hr>\n",
        "Chronotantra and Chronoyantra are two science fiction novels that explore the collapse of human civilisation on Earth and then its rebirth and reincarnation both on Earth as well as on the distant worlds of Mars, Titan and Enceladus. But is it the human civilisation that is being reborn? Or is it some other sentience that is revealing itself. \n",
        "If you have an interest in AI and found this material useful, you may consider buying these novels, in paperback or kindle, from [http://bit.ly/chronobooks](http://bit.ly/chronobooks)"
      ]
    }
  ]
}