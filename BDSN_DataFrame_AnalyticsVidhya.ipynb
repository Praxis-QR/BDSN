{
  "nbformat": 4,
  "nbformat_minor": 0,
  "metadata": {
    "colab": {
      "name": "BDSN_DataFrame_AnalyticsVidhya",
      "provenance": [],
      "include_colab_link": true
    },
    "kernelspec": {
      "name": "python3",
      "display_name": "Python 3"
    }
  },
  "cells": [
    {
      "cell_type": "markdown",
      "metadata": {
        "id": "view-in-github",
        "colab_type": "text"
      },
      "source": [
        "<a href=\"https://colab.research.google.com/github/Praxis-QR/BDSN/blob/main/BDSN_DataFrame_AnalyticsVidhya.ipynb\" target=\"_parent\"><img src=\"https://colab.research.google.com/assets/colab-badge.svg\" alt=\"Open In Colab\"/></a>"
      ]
    },
    {
      "cell_type": "markdown",
      "metadata": {
        "id": "CUuM9WNBsFce"
      },
      "source": [
        "![alt text](https://github.com/Praxis-QR/RDWH/raw/main/images/YantraJaalBanner.png)<br>\n",
        "\n",
        "\n",
        "<hr>\n",
        "\n",
        "[Prithwis Mukerjee](http://www.linkedin.com/in/prithwis)<br>"
      ]
    },
    {
      "cell_type": "markdown",
      "metadata": {
        "id": "D88IBg_5xd_C"
      },
      "source": [
        "# Data Frame <br>\n",
        "Analytics Vidhya https://www.analyticsvidhya.com/blog/2016/10/spark-dataframe-and-operations/ <br>\n",
        "Alternate https://www.analyticsvidhya.com/blog/2016/09/comprehensive-introduction-to-apache-spark-rdds-dataframes-using-pyspark/ <br>\n",
        "\n",
        "Data Bricks https://docs.databricks.com/spark/latest/data-sources/read-csv.html"
      ]
    },
    {
      "cell_type": "markdown",
      "metadata": {
        "id": "CqKj7HNWx6d6"
      },
      "source": [
        "# Initialise"
      ]
    },
    {
      "cell_type": "code",
      "metadata": {
        "id": "tR__62XBx-By",
        "outputId": "62f9db15-d431-44f8-af74-f7ef01b9d5c5",
        "colab": {
          "base_uri": "https://localhost:8080/"
        }
      },
      "source": [
        "#!apt-get update > /dev/null\n",
        "#!apt-get install openjdk-8-jdk-headless -qq > /dev/null\n",
        "#!wget -q http://apache.osuosl.org/spark/spark-2.4.0/spark-2.4.0-bin-hadoop2.7.tgz\n",
        "#wget -q http://apache.osuosl.org/spark/spark-2.4.4/spark-2.4.4-bin-hadoop2.7.tgz\n",
        "#!wget -q http://apache.osuosl.org/spark/spark-2.4.5/spark-2.4.5-bin-hadoop2.7.tgz\n",
        "#!wget -q http://apache.osuosl.org/spark/spark-3.0.1/spark-3.0.1-bin-hadoop3.2.tgz\n",
        "#!wget -q http://apache.osuosl.org/spark/spark-3.1.2/spark-3.1.2-bin-hadoop3.2.tgz\n",
        "\n",
        "#!tar xf spark-2.4.0-bin-hadoop2.7.tgz\n",
        "#!tar xf spark-2.4.4-bin-hadoop2.7.tgz\n",
        "#!tar xf spark-2.4.5-bin-hadoop2.7.tgz\n",
        "#!tar xf spark-3.0.1-bin-hadoop3.2.tgz\n",
        "#!tar xf spark-3.1.2-bin-hadoop3.2.tgz\n",
        "#!pip install -q findspark\n",
        "!pip3 install -q pyspark"
      ],
      "execution_count": 1,
      "outputs": [
        {
          "output_type": "stream",
          "name": "stdout",
          "text": [
            "\u001b[2K     \u001b[90m━━━━━━━━━━━━━━━━━━━━━━━━━━━━━━━━━━━━━━━\u001b[0m \u001b[32m310.8/310.8 MB\u001b[0m \u001b[31m4.4 MB/s\u001b[0m eta \u001b[36m0:00:00\u001b[0m\n",
            "\u001b[?25h  Preparing metadata (setup.py) ... \u001b[?25l\u001b[?25hdone\n",
            "  Building wheel for pyspark (setup.py) ... \u001b[?25l\u001b[?25hdone\n"
          ]
        }
      ]
    },
    {
      "cell_type": "code",
      "metadata": {
        "id": "PqWkuZiQyMT0"
      },
      "source": [
        "#import os\n",
        "#os.environ[\"JAVA_HOME\"] = \"/usr/lib/jvm/java-8-openjdk-amd64\"\n",
        "#os.environ[\"SPARK_HOME\"] = \"/content/spark-2.4.0-bin-hadoop2.7\"\n",
        "#os.environ[\"SPARK_HOME\"] = \"/content/spark-2.4.4-bin-hadoop2.7\"\n",
        "#os.environ[\"SPARK_HOME\"] = \"/content/spark-2.4.5-bin-hadoop2.7\"\n",
        "#os.environ[\"SPARK_HOME\"] = \"/content/spark-3.0.1-bin-hadoop3.2\"\n",
        "#os.environ[\"SPARK_HOME\"] = \"/content/spark-3.1.2-bin-hadoop3.2\""
      ],
      "execution_count": null,
      "outputs": []
    },
    {
      "cell_type": "code",
      "metadata": {
        "id": "G963gOZKyQuQ",
        "outputId": "30c5cca7-b91b-4022-df41-9a798dad24c6",
        "colab": {
          "base_uri": "https://localhost:8080/",
          "height": 196
        }
      },
      "source": [
        "#import findspark\n",
        "#findspark.init()\n",
        "from pyspark.sql import SparkSession\n",
        "spark = SparkSession.builder.master(\"local[*]\").getOrCreate()\n",
        "sc = spark.sparkContext\n",
        "sc"
      ],
      "execution_count": 2,
      "outputs": [
        {
          "output_type": "execute_result",
          "data": {
            "text/plain": [
              "<SparkContext master=local[*] appName=pyspark-shell>"
            ],
            "text/html": [
              "\n",
              "        <div>\n",
              "            <p><b>SparkContext</b></p>\n",
              "\n",
              "            <p><a href=\"http://28f0c38ab1c8:4040\">Spark UI</a></p>\n",
              "\n",
              "            <dl>\n",
              "              <dt>Version</dt>\n",
              "                <dd><code>v3.4.0</code></dd>\n",
              "              <dt>Master</dt>\n",
              "                <dd><code>local[*]</code></dd>\n",
              "              <dt>AppName</dt>\n",
              "                <dd><code>pyspark-shell</code></dd>\n",
              "            </dl>\n",
              "        </div>\n",
              "        "
            ]
          },
          "metadata": {},
          "execution_count": 2
        }
      ]
    },
    {
      "cell_type": "code",
      "metadata": {
        "id": "cnTgqI9P0Rwq"
      },
      "source": [
        "#from pyspark.sql import SQLContext\n",
        "#sqlContext = SQLContext(sc)"
      ],
      "execution_count": null,
      "outputs": []
    },
    {
      "cell_type": "markdown",
      "metadata": {
        "id": "9-BaFcn_0rTK"
      },
      "source": [
        "# Data Load"
      ]
    },
    {
      "cell_type": "code",
      "metadata": {
        "id": "nBsW0ItGEKmv"
      },
      "source": [
        "#https://drive.google.com/file/d/1o-WzYvxfIXxvghazTLu3iuNqFE9IxGbw/view?usp=sharing\n",
        "#!wget -q -O BDSDF_train.zip 'https://drive.google.com/uc?export=download&id=1o-WzYvxfIXxvghazTLu3iuNqFE9IxGbw'\n",
        "!wget -q 'https://github.com/Praxis-QR/BDSN/raw/main/data/blackfriday/BDSDF_train.zip'\n",
        "\n",
        "#https://drive.google.com/file/d/1UF5HGE3NGtQ9goeSvhsTnMMTUZiv7fhE/view?usp=sharing\n",
        "#!wget -q -O BDSDF_test.zip 'https://drive.google.com/uc?export=download&id=1UF5HGE3NGtQ9goeSvhsTnMMTUZiv7fhE'\n",
        "!wget -q 'https://github.com/Praxis-QR/BDSN/raw/main/data/blackfriday/BDSDF_test.zip'"
      ],
      "execution_count": 3,
      "outputs": []
    },
    {
      "cell_type": "code",
      "metadata": {
        "id": "JzGT3fVZ0v8A",
        "colab": {
          "base_uri": "https://localhost:8080/"
        },
        "outputId": "5bb7ab34-1276-4f79-ef02-d868c223bd1a"
      },
      "source": [
        "!ls -al"
      ],
      "execution_count": null,
      "outputs": [
        {
          "output_type": "stream",
          "name": "stdout",
          "text": [
            "total 6416\n",
            "drwxr-xr-x 1 root root    4096 Nov 22 01:21 .\n",
            "drwxr-xr-x 1 root root    4096 Nov 22 00:28 ..\n",
            "-rw-r--r-- 1 root root 1827545 Nov 22 01:21 BDSDF_test.zip\n",
            "-rw-r--r-- 1 root root 4720668 Nov 22 01:21 BDSDF_train.zip\n",
            "drwxr-xr-x 4 root root    4096 Nov 18 14:33 .config\n",
            "drwxr-xr-x 1 root root    4096 Nov 18 14:34 sample_data\n"
          ]
        }
      ]
    },
    {
      "cell_type": "code",
      "metadata": {
        "id": "8MGw2LhC1jne"
      },
      "source": [
        "#!rm *.zip\n",
        "#!rm *.csv"
      ],
      "execution_count": null,
      "outputs": []
    },
    {
      "cell_type": "code",
      "metadata": {
        "id": "6DuSQgjd11Ng"
      },
      "source": [
        "#from google.colab import files\n",
        "#datafile = files.upload()"
      ],
      "execution_count": null,
      "outputs": []
    },
    {
      "cell_type": "code",
      "metadata": {
        "id": "kTj1XzwS2dyO",
        "colab": {
          "base_uri": "https://localhost:8080/"
        },
        "outputId": "8ec80a38-03cc-455a-adb8-93cef76b1b3f"
      },
      "source": [
        "!unzip BDSDF_test.zip\n",
        "!unzip BDSDF_train.zip"
      ],
      "execution_count": 4,
      "outputs": [
        {
          "output_type": "stream",
          "name": "stdout",
          "text": [
            "Archive:  BDSDF_test.zip\n",
            "  inflating: test.csv                \n",
            "Archive:  BDSDF_train.zip\n",
            "  inflating: train.csv               \n"
          ]
        }
      ]
    },
    {
      "cell_type": "code",
      "metadata": {
        "colab": {
          "base_uri": "https://localhost:8080/"
        },
        "id": "miQNaajdWin0",
        "outputId": "39d73a30-a31d-43c1-c92f-130f1feb43a2"
      },
      "source": [
        "!ls -al"
      ],
      "execution_count": 5,
      "outputs": [
        {
          "output_type": "stream",
          "name": "stdout",
          "text": [
            "total 40720\n",
            "drwxr-xr-x 1 root root     4096 May 24 06:47 .\n",
            "drwxr-xr-x 1 root root     4096 May 24 06:45 ..\n",
            "-rw-r--r-- 1 root root  1827545 May 24 06:47 BDSDF_test.zip\n",
            "-rw-r--r-- 1 root root  4720668 May 24 06:47 BDSDF_train.zip\n",
            "drwxr-xr-x 4 root root     4096 May 22 13:32 .config\n",
            "drwxr-xr-x 1 root root     4096 May 22 13:33 sample_data\n",
            "-rw-rw-r-- 1 root root  9598228 Nov 20  2015 test.csv\n",
            "-rw-rw-r-- 1 root root 25525678 Nov 20  2015 train.csv\n"
          ]
        }
      ]
    },
    {
      "cell_type": "code",
      "metadata": {
        "id": "9x_LDSdC3arm"
      },
      "source": [
        "#test = sqlContext.read.format(\"csv\").option(\"header\", \"true\").option(\"inferSchema\", \"true\").load(\"./test.csv\")\n",
        "test = spark.read.format(\"csv\").option(\"header\", \"true\").option(\"inferSchema\", \"true\").load(\"./test.csv\")\n",
        "#train = sqlContext.read.format(\"csv\").option(\"header\", \"true\").option(\"inferSchema\", \"true\").load(\"./train.csv\")\n",
        "train = spark.read.format(\"csv\").option(\"header\", \"true\").option(\"inferSchema\", \"true\").load(\"./train.csv\")"
      ],
      "execution_count": 6,
      "outputs": []
    },
    {
      "cell_type": "code",
      "metadata": {
        "id": "ffB6tf1V2lIn"
      },
      "source": [
        "import pandas as pd\n",
        "pTest = pd.read_csv(\"./test.csv\")"
      ],
      "execution_count": 7,
      "outputs": []
    },
    {
      "cell_type": "code",
      "metadata": {
        "colab": {
          "base_uri": "https://localhost:8080/",
          "height": 143
        },
        "id": "qKMz3aGJ2yDq",
        "outputId": "df9cc485-f45b-4c1b-f86a-ac17e58b9f59"
      },
      "source": [
        "pTest.head(3)"
      ],
      "execution_count": null,
      "outputs": [
        {
          "output_type": "execute_result",
          "data": {
            "text/plain": [
              "   User_ID Product_ID Gender    Age  Occupation City_Category  \\\n",
              "0  1000004  P00128942      M  46-50           7             B   \n",
              "1  1000009  P00113442      M  26-35          17             C   \n",
              "2  1000010  P00288442      F  36-45           1             B   \n",
              "\n",
              "  Stay_In_Current_City_Years  Marital_Status  Product_Category_1  \\\n",
              "0                          2               1                   1   \n",
              "1                          0               0                   3   \n",
              "2                         4+               1                   5   \n",
              "\n",
              "   Product_Category_2  Product_Category_3  \n",
              "0                11.0                 NaN  \n",
              "1                 5.0                 NaN  \n",
              "2                14.0                 NaN  "
            ],
            "text/html": [
              "\n",
              "  <div id=\"df-ad36f38f-4a72-41bf-be74-7881ec9242d0\">\n",
              "    <div class=\"colab-df-container\">\n",
              "      <div>\n",
              "<style scoped>\n",
              "    .dataframe tbody tr th:only-of-type {\n",
              "        vertical-align: middle;\n",
              "    }\n",
              "\n",
              "    .dataframe tbody tr th {\n",
              "        vertical-align: top;\n",
              "    }\n",
              "\n",
              "    .dataframe thead th {\n",
              "        text-align: right;\n",
              "    }\n",
              "</style>\n",
              "<table border=\"1\" class=\"dataframe\">\n",
              "  <thead>\n",
              "    <tr style=\"text-align: right;\">\n",
              "      <th></th>\n",
              "      <th>User_ID</th>\n",
              "      <th>Product_ID</th>\n",
              "      <th>Gender</th>\n",
              "      <th>Age</th>\n",
              "      <th>Occupation</th>\n",
              "      <th>City_Category</th>\n",
              "      <th>Stay_In_Current_City_Years</th>\n",
              "      <th>Marital_Status</th>\n",
              "      <th>Product_Category_1</th>\n",
              "      <th>Product_Category_2</th>\n",
              "      <th>Product_Category_3</th>\n",
              "    </tr>\n",
              "  </thead>\n",
              "  <tbody>\n",
              "    <tr>\n",
              "      <th>0</th>\n",
              "      <td>1000004</td>\n",
              "      <td>P00128942</td>\n",
              "      <td>M</td>\n",
              "      <td>46-50</td>\n",
              "      <td>7</td>\n",
              "      <td>B</td>\n",
              "      <td>2</td>\n",
              "      <td>1</td>\n",
              "      <td>1</td>\n",
              "      <td>11.0</td>\n",
              "      <td>NaN</td>\n",
              "    </tr>\n",
              "    <tr>\n",
              "      <th>1</th>\n",
              "      <td>1000009</td>\n",
              "      <td>P00113442</td>\n",
              "      <td>M</td>\n",
              "      <td>26-35</td>\n",
              "      <td>17</td>\n",
              "      <td>C</td>\n",
              "      <td>0</td>\n",
              "      <td>0</td>\n",
              "      <td>3</td>\n",
              "      <td>5.0</td>\n",
              "      <td>NaN</td>\n",
              "    </tr>\n",
              "    <tr>\n",
              "      <th>2</th>\n",
              "      <td>1000010</td>\n",
              "      <td>P00288442</td>\n",
              "      <td>F</td>\n",
              "      <td>36-45</td>\n",
              "      <td>1</td>\n",
              "      <td>B</td>\n",
              "      <td>4+</td>\n",
              "      <td>1</td>\n",
              "      <td>5</td>\n",
              "      <td>14.0</td>\n",
              "      <td>NaN</td>\n",
              "    </tr>\n",
              "  </tbody>\n",
              "</table>\n",
              "</div>\n",
              "      <button class=\"colab-df-convert\" onclick=\"convertToInteractive('df-ad36f38f-4a72-41bf-be74-7881ec9242d0')\"\n",
              "              title=\"Convert this dataframe to an interactive table.\"\n",
              "              style=\"display:none;\">\n",
              "        \n",
              "  <svg xmlns=\"http://www.w3.org/2000/svg\" height=\"24px\"viewBox=\"0 0 24 24\"\n",
              "       width=\"24px\">\n",
              "    <path d=\"M0 0h24v24H0V0z\" fill=\"none\"/>\n",
              "    <path d=\"M18.56 5.44l.94 2.06.94-2.06 2.06-.94-2.06-.94-.94-2.06-.94 2.06-2.06.94zm-11 1L8.5 8.5l.94-2.06 2.06-.94-2.06-.94L8.5 2.5l-.94 2.06-2.06.94zm10 10l.94 2.06.94-2.06 2.06-.94-2.06-.94-.94-2.06-.94 2.06-2.06.94z\"/><path d=\"M17.41 7.96l-1.37-1.37c-.4-.4-.92-.59-1.43-.59-.52 0-1.04.2-1.43.59L10.3 9.45l-7.72 7.72c-.78.78-.78 2.05 0 2.83L4 21.41c.39.39.9.59 1.41.59.51 0 1.02-.2 1.41-.59l7.78-7.78 2.81-2.81c.8-.78.8-2.07 0-2.86zM5.41 20L4 18.59l7.72-7.72 1.47 1.35L5.41 20z\"/>\n",
              "  </svg>\n",
              "      </button>\n",
              "      \n",
              "  <style>\n",
              "    .colab-df-container {\n",
              "      display:flex;\n",
              "      flex-wrap:wrap;\n",
              "      gap: 12px;\n",
              "    }\n",
              "\n",
              "    .colab-df-convert {\n",
              "      background-color: #E8F0FE;\n",
              "      border: none;\n",
              "      border-radius: 50%;\n",
              "      cursor: pointer;\n",
              "      display: none;\n",
              "      fill: #1967D2;\n",
              "      height: 32px;\n",
              "      padding: 0 0 0 0;\n",
              "      width: 32px;\n",
              "    }\n",
              "\n",
              "    .colab-df-convert:hover {\n",
              "      background-color: #E2EBFA;\n",
              "      box-shadow: 0px 1px 2px rgba(60, 64, 67, 0.3), 0px 1px 3px 1px rgba(60, 64, 67, 0.15);\n",
              "      fill: #174EA6;\n",
              "    }\n",
              "\n",
              "    [theme=dark] .colab-df-convert {\n",
              "      background-color: #3B4455;\n",
              "      fill: #D2E3FC;\n",
              "    }\n",
              "\n",
              "    [theme=dark] .colab-df-convert:hover {\n",
              "      background-color: #434B5C;\n",
              "      box-shadow: 0px 1px 3px 1px rgba(0, 0, 0, 0.15);\n",
              "      filter: drop-shadow(0px 1px 2px rgba(0, 0, 0, 0.3));\n",
              "      fill: #FFFFFF;\n",
              "    }\n",
              "  </style>\n",
              "\n",
              "      <script>\n",
              "        const buttonEl =\n",
              "          document.querySelector('#df-ad36f38f-4a72-41bf-be74-7881ec9242d0 button.colab-df-convert');\n",
              "        buttonEl.style.display =\n",
              "          google.colab.kernel.accessAllowed ? 'block' : 'none';\n",
              "\n",
              "        async function convertToInteractive(key) {\n",
              "          const element = document.querySelector('#df-ad36f38f-4a72-41bf-be74-7881ec9242d0');\n",
              "          const dataTable =\n",
              "            await google.colab.kernel.invokeFunction('convertToInteractive',\n",
              "                                                     [key], {});\n",
              "          if (!dataTable) return;\n",
              "\n",
              "          const docLinkHtml = 'Like what you see? Visit the ' +\n",
              "            '<a target=\"_blank\" href=https://colab.research.google.com/notebooks/data_table.ipynb>data table notebook</a>'\n",
              "            + ' to learn more about interactive tables.';\n",
              "          element.innerHTML = '';\n",
              "          dataTable['output_type'] = 'display_data';\n",
              "          await google.colab.output.renderOutput(dataTable, element);\n",
              "          const docLink = document.createElement('div');\n",
              "          docLink.innerHTML = docLinkHtml;\n",
              "          element.appendChild(docLink);\n",
              "        }\n",
              "      </script>\n",
              "    </div>\n",
              "  </div>\n",
              "  "
            ]
          },
          "metadata": {},
          "execution_count": 10
        }
      ]
    },
    {
      "cell_type": "code",
      "metadata": {
        "id": "hpZKGSZP4IMw",
        "colab": {
          "base_uri": "https://localhost:8080/"
        },
        "outputId": "942d3503-5e54-4fe0-f80b-823289b6b288"
      },
      "source": [
        "#train.printSchema()\n",
        "test.printSchema()"
      ],
      "execution_count": 8,
      "outputs": [
        {
          "output_type": "stream",
          "name": "stdout",
          "text": [
            "root\n",
            " |-- User_ID: integer (nullable = true)\n",
            " |-- Product_ID: string (nullable = true)\n",
            " |-- Gender: string (nullable = true)\n",
            " |-- Age: string (nullable = true)\n",
            " |-- Occupation: integer (nullable = true)\n",
            " |-- City_Category: string (nullable = true)\n",
            " |-- Stay_In_Current_City_Years: string (nullable = true)\n",
            " |-- Marital_Status: integer (nullable = true)\n",
            " |-- Product_Category_1: integer (nullable = true)\n",
            " |-- Product_Category_2: integer (nullable = true)\n",
            " |-- Product_Category_3: integer (nullable = true)\n",
            "\n"
          ]
        }
      ]
    },
    {
      "cell_type": "markdown",
      "metadata": {
        "id": "-dYK2fa-4mWy"
      },
      "source": [
        "# Dataframe Manipulations"
      ]
    },
    {
      "cell_type": "code",
      "metadata": {
        "id": "gsjGsCXH4tqm",
        "colab": {
          "base_uri": "https://localhost:8080/"
        },
        "outputId": "55553978-6629-406f-de62-bbc1f88b2645"
      },
      "source": [
        "test.head(3)"
      ],
      "execution_count": 9,
      "outputs": [
        {
          "output_type": "execute_result",
          "data": {
            "text/plain": [
              "[Row(User_ID=1000004, Product_ID='P00128942', Gender='M', Age='46-50', Occupation=7, City_Category='B', Stay_In_Current_City_Years='2', Marital_Status=1, Product_Category_1=1, Product_Category_2=11, Product_Category_3=None),\n",
              " Row(User_ID=1000009, Product_ID='P00113442', Gender='M', Age='26-35', Occupation=17, City_Category='C', Stay_In_Current_City_Years='0', Marital_Status=0, Product_Category_1=3, Product_Category_2=5, Product_Category_3=None),\n",
              " Row(User_ID=1000010, Product_ID='P00288442', Gender='F', Age='36-45', Occupation=1, City_Category='B', Stay_In_Current_City_Years='4+', Marital_Status=1, Product_Category_1=5, Product_Category_2=14, Product_Category_3=None)]"
            ]
          },
          "metadata": {},
          "execution_count": 9
        }
      ]
    },
    {
      "cell_type": "code",
      "metadata": {
        "id": "awd7bzNC47Qs",
        "colab": {
          "base_uri": "https://localhost:8080/"
        },
        "outputId": "74fd9078-8ca4-49c2-e641-fddc08b07487"
      },
      "source": [
        "train.show()"
      ],
      "execution_count": 10,
      "outputs": [
        {
          "output_type": "stream",
          "name": "stdout",
          "text": [
            "+-------+----------+------+-----+----------+-------------+--------------------------+--------------+------------------+------------------+------------------+--------+\n",
            "|User_ID|Product_ID|Gender|  Age|Occupation|City_Category|Stay_In_Current_City_Years|Marital_Status|Product_Category_1|Product_Category_2|Product_Category_3|Purchase|\n",
            "+-------+----------+------+-----+----------+-------------+--------------------------+--------------+------------------+------------------+------------------+--------+\n",
            "|1000001| P00069042|     F| 0-17|        10|            A|                         2|             0|                 3|              null|              null|    8370|\n",
            "|1000001| P00248942|     F| 0-17|        10|            A|                         2|             0|                 1|                 6|                14|   15200|\n",
            "|1000001| P00087842|     F| 0-17|        10|            A|                         2|             0|                12|              null|              null|    1422|\n",
            "|1000001| P00085442|     F| 0-17|        10|            A|                         2|             0|                12|                14|              null|    1057|\n",
            "|1000002| P00285442|     M|  55+|        16|            C|                        4+|             0|                 8|              null|              null|    7969|\n",
            "|1000003| P00193542|     M|26-35|        15|            A|                         3|             0|                 1|                 2|              null|   15227|\n",
            "|1000004| P00184942|     M|46-50|         7|            B|                         2|             1|                 1|                 8|                17|   19215|\n",
            "|1000004| P00346142|     M|46-50|         7|            B|                         2|             1|                 1|                15|              null|   15854|\n",
            "|1000004|  P0097242|     M|46-50|         7|            B|                         2|             1|                 1|                16|              null|   15686|\n",
            "|1000005| P00274942|     M|26-35|        20|            A|                         1|             1|                 8|              null|              null|    7871|\n",
            "|1000005| P00251242|     M|26-35|        20|            A|                         1|             1|                 5|                11|              null|    5254|\n",
            "|1000005| P00014542|     M|26-35|        20|            A|                         1|             1|                 8|              null|              null|    3957|\n",
            "|1000005| P00031342|     M|26-35|        20|            A|                         1|             1|                 8|              null|              null|    6073|\n",
            "|1000005| P00145042|     M|26-35|        20|            A|                         1|             1|                 1|                 2|                 5|   15665|\n",
            "|1000006| P00231342|     F|51-55|         9|            A|                         1|             0|                 5|                 8|                14|    5378|\n",
            "|1000006| P00190242|     F|51-55|         9|            A|                         1|             0|                 4|                 5|              null|    2079|\n",
            "|1000006|  P0096642|     F|51-55|         9|            A|                         1|             0|                 2|                 3|                 4|   13055|\n",
            "|1000006| P00058442|     F|51-55|         9|            A|                         1|             0|                 5|                14|              null|    8851|\n",
            "|1000007| P00036842|     M|36-45|         1|            B|                         1|             1|                 1|                14|                16|   11788|\n",
            "|1000008| P00249542|     M|26-35|        12|            C|                        4+|             1|                 1|                 5|                15|   19614|\n",
            "+-------+----------+------+-----+----------+-------------+--------------------------+--------------+------------------+------------------+------------------+--------+\n",
            "only showing top 20 rows\n",
            "\n"
          ]
        }
      ]
    },
    {
      "cell_type": "code",
      "metadata": {
        "id": "R0eZFwB-5Dhy",
        "colab": {
          "base_uri": "https://localhost:8080/"
        },
        "outputId": "40bbf69a-6cff-41d3-8a1a-d9fe6c862967"
      },
      "source": [
        "train.count(),test.count()"
      ],
      "execution_count": 12,
      "outputs": [
        {
          "output_type": "execute_result",
          "data": {
            "text/plain": [
              "(550068, 233599)"
            ]
          },
          "metadata": {},
          "execution_count": 12
        }
      ]
    },
    {
      "cell_type": "code",
      "metadata": {
        "id": "jd4jsvpo5Odq",
        "colab": {
          "base_uri": "https://localhost:8080/"
        },
        "outputId": "7272b628-7edc-42ff-cd51-1338ca38b2f1"
      },
      "source": [
        "len(train.columns), train.columns"
      ],
      "execution_count": 13,
      "outputs": [
        {
          "output_type": "execute_result",
          "data": {
            "text/plain": [
              "(12,\n",
              " ['User_ID',\n",
              "  'Product_ID',\n",
              "  'Gender',\n",
              "  'Age',\n",
              "  'Occupation',\n",
              "  'City_Category',\n",
              "  'Stay_In_Current_City_Years',\n",
              "  'Marital_Status',\n",
              "  'Product_Category_1',\n",
              "  'Product_Category_2',\n",
              "  'Product_Category_3',\n",
              "  'Purchase'])"
            ]
          },
          "metadata": {},
          "execution_count": 13
        }
      ]
    },
    {
      "cell_type": "code",
      "metadata": {
        "id": "LhZEgufK5Veo",
        "colab": {
          "base_uri": "https://localhost:8080/"
        },
        "outputId": "8acbaaef-0086-4179-ea73-425eb9a449d6"
      },
      "source": [
        "len(test.columns), test.columns"
      ],
      "execution_count": 14,
      "outputs": [
        {
          "output_type": "execute_result",
          "data": {
            "text/plain": [
              "(11,\n",
              " ['User_ID',\n",
              "  'Product_ID',\n",
              "  'Gender',\n",
              "  'Age',\n",
              "  'Occupation',\n",
              "  'City_Category',\n",
              "  'Stay_In_Current_City_Years',\n",
              "  'Marital_Status',\n",
              "  'Product_Category_1',\n",
              "  'Product_Category_2',\n",
              "  'Product_Category_3'])"
            ]
          },
          "metadata": {},
          "execution_count": 14
        }
      ]
    },
    {
      "cell_type": "code",
      "metadata": {
        "id": "Y6zLl5r05yb0",
        "colab": {
          "base_uri": "https://localhost:8080/"
        },
        "outputId": "28a4a6c6-8a1d-4e6a-831f-3c9ed7789184"
      },
      "source": [
        "train.describe().show()"
      ],
      "execution_count": 15,
      "outputs": [
        {
          "output_type": "stream",
          "name": "stdout",
          "text": [
            "+-------+------------------+----------+------+------+-----------------+-------------+--------------------------+-------------------+------------------+------------------+------------------+-----------------+\n",
            "|summary|           User_ID|Product_ID|Gender|   Age|       Occupation|City_Category|Stay_In_Current_City_Years|     Marital_Status|Product_Category_1|Product_Category_2|Product_Category_3|         Purchase|\n",
            "+-------+------------------+----------+------+------+-----------------+-------------+--------------------------+-------------------+------------------+------------------+------------------+-----------------+\n",
            "|  count|            550068|    550068|550068|550068|           550068|       550068|                    550068|             550068|            550068|            376430|            166821|           550068|\n",
            "|   mean|1003028.8424013031|      null|  null|  null|8.076706879876669|         null|         1.468494139793958|0.40965298835780306| 5.404270017525106| 9.842329251122386|12.668243206790512|9263.968712959126|\n",
            "| stddev|1727.5915855313747|      null|  null|  null|6.522660487341741|         null|        0.9890866807573103| 0.4917701263173315| 3.936211369201365| 5.086589648693497| 4.125337631575274|5023.065393820575|\n",
            "|    min|           1000001| P00000142|     F|  0-17|                0|            A|                         0|                  0|                 1|                 2|                 3|               12|\n",
            "|    max|           1006040|  P0099942|     M|   55+|               20|            C|                        4+|                  1|                20|                18|                18|            23961|\n",
            "+-------+------------------+----------+------+------+-----------------+-------------+--------------------------+-------------------+------------------+------------------+------------------+-----------------+\n",
            "\n"
          ]
        }
      ]
    },
    {
      "cell_type": "code",
      "metadata": {
        "id": "D8EkUTYg6b06",
        "colab": {
          "base_uri": "https://localhost:8080/"
        },
        "outputId": "7f9d67b1-8faa-45dc-e27a-83a351fed9d4"
      },
      "source": [
        "train.describe('Product_ID').show()"
      ],
      "execution_count": 16,
      "outputs": [
        {
          "output_type": "stream",
          "name": "stdout",
          "text": [
            "+-------+----------+\n",
            "|summary|Product_ID|\n",
            "+-------+----------+\n",
            "|  count|    550068|\n",
            "|   mean|      null|\n",
            "| stddev|      null|\n",
            "|    min| P00000142|\n",
            "|    max|  P0099942|\n",
            "+-------+----------+\n",
            "\n"
          ]
        }
      ]
    },
    {
      "cell_type": "code",
      "metadata": {
        "id": "fVN3VeMh6k4U",
        "colab": {
          "base_uri": "https://localhost:8080/"
        },
        "outputId": "d33db3cc-97c7-4aef-e37f-647c09c43ff9"
      },
      "source": [
        "train.select('User_ID','Age').show(5)"
      ],
      "execution_count": 17,
      "outputs": [
        {
          "output_type": "stream",
          "name": "stdout",
          "text": [
            "+-------+----+\n",
            "|User_ID| Age|\n",
            "+-------+----+\n",
            "|1000001|0-17|\n",
            "|1000001|0-17|\n",
            "|1000001|0-17|\n",
            "|1000001|0-17|\n",
            "|1000002| 55+|\n",
            "+-------+----+\n",
            "only showing top 5 rows\n",
            "\n"
          ]
        }
      ]
    },
    {
      "cell_type": "code",
      "metadata": {
        "colab": {
          "base_uri": "https://localhost:8080/"
        },
        "id": "40FP1kVG4pjE",
        "outputId": "9d435f14-4489-42d8-feae-059974a2d661"
      },
      "source": [
        "train.select('Product_ID').distinct().count()"
      ],
      "execution_count": 18,
      "outputs": [
        {
          "output_type": "execute_result",
          "data": {
            "text/plain": [
              "3631"
            ]
          },
          "metadata": {},
          "execution_count": 18
        }
      ]
    },
    {
      "cell_type": "code",
      "metadata": {
        "colab": {
          "base_uri": "https://localhost:8080/"
        },
        "id": "Jlk_CDzzdJ0o",
        "outputId": "3a3d55aa-1c6c-4e51-a0d1-e973f04299d3"
      },
      "source": [
        "test.select('Product_ID').distinct().count()"
      ],
      "execution_count": 19,
      "outputs": [
        {
          "output_type": "execute_result",
          "data": {
            "text/plain": [
              "3491"
            ]
          },
          "metadata": {},
          "execution_count": 19
        }
      ]
    },
    {
      "cell_type": "code",
      "metadata": {
        "id": "_yOfDym16say",
        "colab": {
          "base_uri": "https://localhost:8080/"
        },
        "outputId": "dc257b4a-e982-4ade-b0cf-fc369acd7918"
      },
      "source": [
        "train.select('Product_ID').distinct().count(),test.select('Product_ID').distinct().count()"
      ],
      "execution_count": 20,
      "outputs": [
        {
          "output_type": "execute_result",
          "data": {
            "text/plain": [
              "(3631, 3491)"
            ]
          },
          "metadata": {},
          "execution_count": 20
        }
      ]
    },
    {
      "cell_type": "code",
      "metadata": {
        "id": "i3xFIuUo6_7w",
        "colab": {
          "base_uri": "https://localhost:8080/"
        },
        "outputId": "40583fcb-3f58-4da8-a527-bebf36340bb5"
      },
      "source": [
        "diff_cat_in_train_test=test.select('Product_ID').subtract(train.select('Product_ID'))\n",
        "diff_cat_in_train_test.distinct().count()# For distict count"
      ],
      "execution_count": 21,
      "outputs": [
        {
          "output_type": "execute_result",
          "data": {
            "text/plain": [
              "46"
            ]
          },
          "metadata": {},
          "execution_count": 21
        }
      ]
    },
    {
      "cell_type": "code",
      "metadata": {
        "id": "zXQXgyjg7OMg",
        "colab": {
          "base_uri": "https://localhost:8080/"
        },
        "outputId": "a80ffa44-2cef-4eac-e0eb-7d924bbee46e"
      },
      "source": [
        "train.crosstab('Age', 'Gender').show()"
      ],
      "execution_count": 22,
      "outputs": [
        {
          "output_type": "stream",
          "name": "stdout",
          "text": [
            "+----------+-----+------+\n",
            "|Age_Gender|    F|     M|\n",
            "+----------+-----+------+\n",
            "|     18-25|24628| 75032|\n",
            "|     26-35|50752|168835|\n",
            "|      0-17| 5083| 10019|\n",
            "|     46-50|13199| 32502|\n",
            "|     51-55| 9894| 28607|\n",
            "|     36-45|27170| 82843|\n",
            "|       55+| 5083| 16421|\n",
            "+----------+-----+------+\n",
            "\n"
          ]
        }
      ]
    },
    {
      "cell_type": "code",
      "metadata": {
        "id": "6Mo04ibh6EwH"
      },
      "source": [
        "#train.crosstab('Age', 'Gender').describe().show()"
      ],
      "execution_count": 23,
      "outputs": []
    },
    {
      "cell_type": "code",
      "metadata": {
        "id": "keMLcVRL7Wmo",
        "colab": {
          "base_uri": "https://localhost:8080/"
        },
        "outputId": "33211e86-d92d-4dd3-ab9d-a34797f98ce3"
      },
      "source": [
        "train.select('Age','Gender').dropDuplicates().show()"
      ],
      "execution_count": 24,
      "outputs": [
        {
          "output_type": "stream",
          "name": "stdout",
          "text": [
            "+-----+------+\n",
            "|  Age|Gender|\n",
            "+-----+------+\n",
            "|51-55|     F|\n",
            "|18-25|     M|\n",
            "| 0-17|     F|\n",
            "|46-50|     M|\n",
            "|18-25|     F|\n",
            "|  55+|     M|\n",
            "|  55+|     F|\n",
            "|36-45|     M|\n",
            "|26-35|     F|\n",
            "| 0-17|     M|\n",
            "|36-45|     F|\n",
            "|51-55|     M|\n",
            "|26-35|     M|\n",
            "|46-50|     F|\n",
            "+-----+------+\n",
            "\n"
          ]
        }
      ]
    },
    {
      "cell_type": "code",
      "metadata": {
        "id": "Ykeq-Ww67j18",
        "colab": {
          "base_uri": "https://localhost:8080/"
        },
        "outputId": "f5a390b5-69eb-4657-ad7e-ac7c1a0e4fbe"
      },
      "source": [
        "train.dropna().count()"
      ],
      "execution_count": 25,
      "outputs": [
        {
          "output_type": "execute_result",
          "data": {
            "text/plain": [
              "166821"
            ]
          },
          "metadata": {},
          "execution_count": 25
        }
      ]
    },
    {
      "cell_type": "code",
      "metadata": {
        "id": "x5too3Xx6_S8"
      },
      "source": [
        "#train.dropna().show(2)"
      ],
      "execution_count": 26,
      "outputs": []
    },
    {
      "cell_type": "code",
      "metadata": {
        "id": "BtT5KUg2-KZ9",
        "colab": {
          "base_uri": "https://localhost:8080/"
        },
        "outputId": "156d02a5-0fc7-468b-a6d8-f2b9bf7dd80d"
      },
      "source": [
        "train.fillna(-1).count()\n",
        "#train.fillna('x').show(3)"
      ],
      "execution_count": 27,
      "outputs": [
        {
          "output_type": "execute_result",
          "data": {
            "text/plain": [
              "550068"
            ]
          },
          "metadata": {},
          "execution_count": 27
        }
      ]
    },
    {
      "cell_type": "code",
      "metadata": {
        "id": "6ofc-o3v7vB0",
        "colab": {
          "base_uri": "https://localhost:8080/"
        },
        "outputId": "7cd5a593-582d-47d3-de7c-602ff2945be3"
      },
      "source": [
        "train.fillna(-1).show(2)"
      ],
      "execution_count": 28,
      "outputs": [
        {
          "output_type": "stream",
          "name": "stdout",
          "text": [
            "+-------+----------+------+----+----------+-------------+--------------------------+--------------+------------------+------------------+------------------+--------+\n",
            "|User_ID|Product_ID|Gender| Age|Occupation|City_Category|Stay_In_Current_City_Years|Marital_Status|Product_Category_1|Product_Category_2|Product_Category_3|Purchase|\n",
            "+-------+----------+------+----+----------+-------------+--------------------------+--------------+------------------+------------------+------------------+--------+\n",
            "|1000001| P00069042|     F|0-17|        10|            A|                         2|             0|                 3|                -1|                -1|    8370|\n",
            "|1000001| P00248942|     F|0-17|        10|            A|                         2|             0|                 1|                 6|                14|   15200|\n",
            "+-------+----------+------+----+----------+-------------+--------------------------+--------------+------------------+------------------+------------------+--------+\n",
            "only showing top 2 rows\n",
            "\n"
          ]
        }
      ]
    },
    {
      "cell_type": "code",
      "metadata": {
        "id": "6tkQo4uv74m0",
        "colab": {
          "base_uri": "https://localhost:8080/"
        },
        "outputId": "8a2e52ac-ea47-4d40-8242-ec902812bdce"
      },
      "source": [
        "train.filter(train.Purchase > 15000).count()"
      ],
      "execution_count": 29,
      "outputs": [
        {
          "output_type": "execute_result",
          "data": {
            "text/plain": [
              "110523"
            ]
          },
          "metadata": {},
          "execution_count": 29
        }
      ]
    },
    {
      "cell_type": "code",
      "metadata": {
        "id": "UVgLE02u8AHw",
        "colab": {
          "base_uri": "https://localhost:8080/"
        },
        "outputId": "1ed9b345-da2e-4f6a-bf4b-9ac037a00bc8"
      },
      "source": [
        "train.groupby('Age').agg({'Purchase': 'mean'}).show()"
      ],
      "execution_count": 30,
      "outputs": [
        {
          "output_type": "stream",
          "name": "stdout",
          "text": [
            "+-----+-----------------+\n",
            "|  Age|    avg(Purchase)|\n",
            "+-----+-----------------+\n",
            "|18-25|9169.663606261289|\n",
            "|26-35|9252.690632869888|\n",
            "| 0-17|8933.464640444974|\n",
            "|46-50|9208.625697468327|\n",
            "|51-55|9534.808030960236|\n",
            "|36-45|9331.350694917874|\n",
            "|  55+|9336.280459449405|\n",
            "+-----+-----------------+\n",
            "\n"
          ]
        }
      ]
    },
    {
      "cell_type": "code",
      "metadata": {
        "id": "syYsTjH_8Gns",
        "colab": {
          "base_uri": "https://localhost:8080/"
        },
        "outputId": "e5e7d39a-850f-450b-c055-4410bbb82ee9"
      },
      "source": [
        "train.groupby('Age').agg({'Purchase': 'max'}).show()"
      ],
      "execution_count": 31,
      "outputs": [
        {
          "output_type": "stream",
          "name": "stdout",
          "text": [
            "+-----+-------------+\n",
            "|  Age|max(Purchase)|\n",
            "+-----+-------------+\n",
            "|18-25|        23958|\n",
            "|26-35|        23961|\n",
            "| 0-17|        23955|\n",
            "|46-50|        23960|\n",
            "|51-55|        23960|\n",
            "|36-45|        23960|\n",
            "|  55+|        23960|\n",
            "+-----+-------------+\n",
            "\n"
          ]
        }
      ]
    },
    {
      "cell_type": "code",
      "metadata": {
        "id": "kuOTSspC-Qny",
        "colab": {
          "base_uri": "https://localhost:8080/"
        },
        "outputId": "b796cddb-1f87-4251-a292-06e6257c9cc7"
      },
      "source": [
        "train.groupby('Age').count().show()"
      ],
      "execution_count": 32,
      "outputs": [
        {
          "output_type": "stream",
          "name": "stdout",
          "text": [
            "+-----+------+\n",
            "|  Age| count|\n",
            "+-----+------+\n",
            "|18-25| 99660|\n",
            "|26-35|219587|\n",
            "| 0-17| 15102|\n",
            "|46-50| 45701|\n",
            "|51-55| 38501|\n",
            "|36-45|110013|\n",
            "|  55+| 21504|\n",
            "+-----+------+\n",
            "\n"
          ]
        }
      ]
    },
    {
      "cell_type": "code",
      "metadata": {
        "id": "HcVSkcLX_v8G",
        "colab": {
          "base_uri": "https://localhost:8080/"
        },
        "outputId": "498988bc-f786-4433-8790-82e28f7233b0"
      },
      "source": [
        "t1 = train.sample(False, 0.2, 42)\n",
        "t2 = train.sample(False, 0.2, 43)\n",
        "t1.count(),t2.count()"
      ],
      "execution_count": 33,
      "outputs": [
        {
          "output_type": "execute_result",
          "data": {
            "text/plain": [
              "(110465, 110180)"
            ]
          },
          "metadata": {},
          "execution_count": 33
        }
      ]
    },
    {
      "cell_type": "code",
      "metadata": {
        "colab": {
          "base_uri": "https://localhost:8080/"
        },
        "id": "HiFTbida9Y1Q",
        "outputId": "6f764cac-658c-4a63-e1dc-81bbe19fdac9"
      },
      "source": [
        "t1 = train.sample(False, 0.2, 1142)\n",
        "t2 = train.sample(False, 0.2, 2243)\n",
        "t1.count(),t2.count()"
      ],
      "execution_count": 34,
      "outputs": [
        {
          "output_type": "execute_result",
          "data": {
            "text/plain": [
              "(110001, 109453)"
            ]
          },
          "metadata": {},
          "execution_count": 34
        }
      ]
    },
    {
      "cell_type": "code",
      "metadata": {
        "id": "YecoKnI9AK2-",
        "colab": {
          "base_uri": "https://localhost:8080/"
        },
        "outputId": "77890f70-d83c-489d-dce9-4a3b38143a5e"
      },
      "source": [
        "#train.select('User_ID').rdd.map(lambda x:(x,1)).take(5)\n",
        "train.select('Product_ID').rdd.map(lambda x:(x,1)).take(5)"
      ],
      "execution_count": 35,
      "outputs": [
        {
          "output_type": "execute_result",
          "data": {
            "text/plain": [
              "[(Row(Product_ID='P00069042'), 1),\n",
              " (Row(Product_ID='P00248942'), 1),\n",
              " (Row(Product_ID='P00087842'), 1),\n",
              " (Row(Product_ID='P00085442'), 1),\n",
              " (Row(Product_ID='P00285442'), 1)]"
            ]
          },
          "metadata": {},
          "execution_count": 35
        }
      ]
    },
    {
      "cell_type": "code",
      "metadata": {
        "id": "HYIlzX5eAbPw",
        "colab": {
          "base_uri": "https://localhost:8080/"
        },
        "outputId": "2c956b37-726a-4d10-fc91-b4aca9ae8392"
      },
      "source": [
        "train.orderBy(train.Purchase.desc()).show(10)"
      ],
      "execution_count": 36,
      "outputs": [
        {
          "output_type": "stream",
          "name": "stdout",
          "text": [
            "+-------+----------+------+-----+----------+-------------+--------------------------+--------------+------------------+------------------+------------------+--------+\n",
            "|User_ID|Product_ID|Gender|  Age|Occupation|City_Category|Stay_In_Current_City_Years|Marital_Status|Product_Category_1|Product_Category_2|Product_Category_3|Purchase|\n",
            "+-------+----------+------+-----+----------+-------------+--------------------------+--------------+------------------+------------------+------------------+--------+\n",
            "|1003160| P00052842|     M|26-35|        17|            C|                         3|             0|                10|                15|              null|   23961|\n",
            "|1001474| P00052842|     M|26-35|         4|            A|                         2|             1|                10|                15|              null|   23961|\n",
            "|1002272| P00052842|     M|26-35|         0|            C|                         1|             0|                10|                15|              null|   23961|\n",
            "|1001577| P00052842|     M|  55+|         0|            C|                         1|             1|                10|                15|              null|   23960|\n",
            "|1003045| P00052842|     M|46-50|         1|            B|                         2|             1|                10|                15|              null|   23960|\n",
            "|1005848| P00119342|     M|51-55|        20|            A|                         0|             1|                10|                13|              null|   23960|\n",
            "|1005596| P00117642|     M|36-45|        12|            B|                         1|             0|                10|                16|              null|   23960|\n",
            "|1003947| P00116142|     M|26-35|         0|            C|                         3|             0|                10|                13|                16|   23959|\n",
            "|1001387| P00086242|     F|51-55|        13|            B|                         1|             1|                10|              null|              null|   23959|\n",
            "|1001178| P00116142|     M|  55+|         0|            C|                         1|             1|                10|                13|                16|   23958|\n",
            "+-------+----------+------+-----+----------+-------------+--------------------------+--------------+------------------+------------------+------------------+--------+\n",
            "only showing top 10 rows\n",
            "\n"
          ]
        }
      ]
    },
    {
      "cell_type": "code",
      "metadata": {
        "id": "Q3cHeKSX-pd5",
        "colab": {
          "base_uri": "https://localhost:8080/"
        },
        "outputId": "9d01720b-1c99-4bae-e4b5-33307bfe36ea"
      },
      "source": [
        "train.select('User_ID').rdd.map(lambda x:(x,1)).take(5)"
      ],
      "execution_count": 37,
      "outputs": [
        {
          "output_type": "execute_result",
          "data": {
            "text/plain": [
              "[(Row(User_ID=1000001), 1),\n",
              " (Row(User_ID=1000001), 1),\n",
              " (Row(User_ID=1000001), 1),\n",
              " (Row(User_ID=1000001), 1),\n",
              " (Row(User_ID=1000002), 1)]"
            ]
          },
          "metadata": {},
          "execution_count": 37
        }
      ]
    },
    {
      "cell_type": "markdown",
      "metadata": {
        "id": "u2Fc16qCAwSG"
      },
      "source": [
        "# SQL Query with Dataframe"
      ]
    },
    {
      "cell_type": "code",
      "metadata": {
        "id": "dl6Lo0jEA0S-"
      },
      "source": [
        "#train.registerAsTable('train_table')\n",
        "#train.registerTempTable(\"train_table\")\n",
        "train.createOrReplaceTempView(\"train_table\")"
      ],
      "execution_count": 38,
      "outputs": []
    },
    {
      "cell_type": "code",
      "metadata": {
        "id": "_EdYlpggBqw6",
        "colab": {
          "base_uri": "https://localhost:8080/"
        },
        "outputId": "a06b94e9-c98f-4af0-f24b-eaf66db1cc45"
      },
      "source": [
        "#SQLContext is deprecated\n",
        "# --- not to be used\n",
        "#sqlContext.sql('select Product_ID from train_table').show(5)\n",
        "#sqlContext.sql('select Product_ID, Product_Category_1 from train_table').show(5)\n",
        "spark.sql('select Product_ID, Product_Category_1 from train_table').show(5)"
      ],
      "execution_count": 39,
      "outputs": [
        {
          "output_type": "stream",
          "name": "stdout",
          "text": [
            "+----------+------------------+\n",
            "|Product_ID|Product_Category_1|\n",
            "+----------+------------------+\n",
            "| P00069042|                 3|\n",
            "| P00248942|                 1|\n",
            "| P00087842|                12|\n",
            "| P00085442|                12|\n",
            "| P00285442|                 8|\n",
            "+----------+------------------+\n",
            "only showing top 5 rows\n",
            "\n"
          ]
        }
      ]
    },
    {
      "cell_type": "code",
      "metadata": {
        "id": "KzbAWBW1B0fS",
        "colab": {
          "base_uri": "https://localhost:8080/"
        },
        "outputId": "c0888aa0-4b66-4603-e44c-c2b24e8d7634"
      },
      "source": [
        "#sqlContext.sql('select Age, max(Purchase) from train_table group by Age').show()\n",
        "spark.sql('select Age, max(Purchase) from train_table group by Age').show()"
      ],
      "execution_count": 40,
      "outputs": [
        {
          "output_type": "stream",
          "name": "stdout",
          "text": [
            "+-----+-------------+\n",
            "|  Age|max(Purchase)|\n",
            "+-----+-------------+\n",
            "|18-25|        23958|\n",
            "|26-35|        23961|\n",
            "| 0-17|        23955|\n",
            "|46-50|        23960|\n",
            "|51-55|        23960|\n",
            "|36-45|        23960|\n",
            "|  55+|        23960|\n",
            "+-----+-------------+\n",
            "\n"
          ]
        }
      ]
    },
    {
      "cell_type": "code",
      "source": [
        "from datetime import datetime\n",
        "import pytz\n",
        "print('signed off at  ',datetime.now(pytz.timezone('Asia/Kolkata')))"
      ],
      "metadata": {
        "id": "aPNd3Huez3uM",
        "outputId": "6453b720-846d-471d-9a87-6abe0829477c",
        "colab": {
          "base_uri": "https://localhost:8080/"
        }
      },
      "execution_count": 41,
      "outputs": [
        {
          "output_type": "stream",
          "name": "stdout",
          "text": [
            "signed off at   2023-05-24 12:19:52.390889+05:30\n"
          ]
        }
      ]
    },
    {
      "cell_type": "markdown",
      "metadata": {
        "id": "-t4BbdlyCgzr"
      },
      "source": [
        "#Chronobooks <br>\n",
        "Two science fiction novels by Prithwis Mukerjee. A dystopian Earth. A technocratic society managed by artificial intelligence. Escape and epiphany on Mars. Can man and machine, carbon and silicon explore and escape into other dimensions of existence? An Indic perspective rooted in Advaita Vedanta and the Divine Feminine.  [More information](http://bit.ly/chronobooks) <br>\n",
        "![alt text](https://github.com/Praxis-QR/RDWH/raw/main/images/CTCYFooter-1.png)"
      ]
    }
  ]
}