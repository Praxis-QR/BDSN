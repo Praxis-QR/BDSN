{
  "nbformat": 4,
  "nbformat_minor": 0,
  "metadata": {
    "colab": {
      "name": "BDSN_DataFrame_AnalyticsVidhya",
      "provenance": [],
      "include_colab_link": true
    },
    "kernelspec": {
      "name": "python3",
      "display_name": "Python 3"
    }
  },
  "cells": [
    {
      "cell_type": "markdown",
      "metadata": {
        "id": "view-in-github",
        "colab_type": "text"
      },
      "source": [
        "<a href=\"https://colab.research.google.com/github/Praxis-QR/BDSN/blob/main/BDSN_DataFrame_AnalyticsVidhya.ipynb\" target=\"_parent\"><img src=\"https://colab.research.google.com/assets/colab-badge.svg\" alt=\"Open In Colab\"/></a>"
      ]
    },
    {
      "cell_type": "markdown",
      "metadata": {
        "id": "CUuM9WNBsFce"
      },
      "source": [
        "![alt text](https://github.com/Praxis-QR/RDWH/raw/main/images/YantraJaalBanner.png)<br>\n",
        "\n",
        "\n",
        "<hr>\n",
        "\n",
        "[Prithwis Mukerjee](http://www.linkedin.com/in/prithwis)<br>"
      ]
    },
    {
      "cell_type": "markdown",
      "metadata": {
        "id": "D88IBg_5xd_C"
      },
      "source": [
        "# Data Frame <br>\n",
        "Analytics Vidhya https://www.analyticsvidhya.com/blog/2016/10/spark-dataframe-and-operations/ <br>\n",
        "Alternate https://www.analyticsvidhya.com/blog/2016/09/comprehensive-introduction-to-apache-spark-rdds-dataframes-using-pyspark/ <br>\n",
        "\n",
        "Data Bricks https://docs.databricks.com/spark/latest/data-sources/read-csv.html"
      ]
    },
    {
      "cell_type": "markdown",
      "metadata": {
        "id": "CqKj7HNWx6d6"
      },
      "source": [
        "# Initialise"
      ]
    },
    {
      "cell_type": "code",
      "metadata": {
        "id": "tR__62XBx-By"
      },
      "source": [
        "#!apt-get update > /dev/null\n",
        "#!apt-get install openjdk-8-jdk-headless -qq > /dev/null\n",
        "#!wget -q http://apache.osuosl.org/spark/spark-2.4.0/spark-2.4.0-bin-hadoop2.7.tgz\n",
        "#wget -q http://apache.osuosl.org/spark/spark-2.4.4/spark-2.4.4-bin-hadoop2.7.tgz\n",
        "#!wget -q http://apache.osuosl.org/spark/spark-2.4.5/spark-2.4.5-bin-hadoop2.7.tgz\n",
        "#!wget -q http://apache.osuosl.org/spark/spark-3.0.1/spark-3.0.1-bin-hadoop3.2.tgz\n",
        "#!wget -q http://apache.osuosl.org/spark/spark-3.1.2/spark-3.1.2-bin-hadoop3.2.tgz\n",
        "\n",
        "#!tar xf spark-2.4.0-bin-hadoop2.7.tgz\n",
        "#!tar xf spark-2.4.4-bin-hadoop2.7.tgz\n",
        "#!tar xf spark-2.4.5-bin-hadoop2.7.tgz\n",
        "#!tar xf spark-3.0.1-bin-hadoop3.2.tgz\n",
        "#!tar xf spark-3.1.2-bin-hadoop3.2.tgz\n",
        "#!pip install -q findspark"
      ],
      "execution_count": 1,
      "outputs": []
    },
    {
      "cell_type": "code",
      "metadata": {
        "id": "PqWkuZiQyMT0"
      },
      "source": [
        "#import os\n",
        "#os.environ[\"JAVA_HOME\"] = \"/usr/lib/jvm/java-8-openjdk-amd64\"\n",
        "#os.environ[\"SPARK_HOME\"] = \"/content/spark-2.4.0-bin-hadoop2.7\"\n",
        "#os.environ[\"SPARK_HOME\"] = \"/content/spark-2.4.4-bin-hadoop2.7\"\n",
        "#os.environ[\"SPARK_HOME\"] = \"/content/spark-2.4.5-bin-hadoop2.7\"\n",
        "#os.environ[\"SPARK_HOME\"] = \"/content/spark-3.0.1-bin-hadoop3.2\"\n",
        "#os.environ[\"SPARK_HOME\"] = \"/content/spark-3.1.2-bin-hadoop3.2\""
      ],
      "execution_count": null,
      "outputs": []
    },
    {
      "cell_type": "code",
      "source": [
        "#import findspark\n",
        "#findspark.init()"
      ],
      "metadata": {
        "id": "tgAzt6stew3f"
      },
      "execution_count": null,
      "outputs": []
    },
    {
      "cell_type": "code",
      "metadata": {
        "id": "G963gOZKyQuQ",
        "outputId": "ef824ca6-95b1-4dce-e69c-05dc3a7cc802",
        "colab": {
          "base_uri": "https://localhost:8080/",
          "height": 248
        }
      },
      "source": [
        "!pip3 install -q pyspark\n",
        "from pyspark.sql import SparkSession\n",
        "spark = SparkSession.builder.master(\"local[*]\").getOrCreate()\n",
        "sc = spark.sparkContext\n",
        "sc"
      ],
      "execution_count": 2,
      "outputs": [
        {
          "output_type": "stream",
          "name": "stdout",
          "text": [
            "\u001b[2K     \u001b[90m━━━━━━━━━━━━━━━━━━━━━━━━━━━━━━━━━━━━━━━━\u001b[0m \u001b[32m316.9/316.9 MB\u001b[0m \u001b[31m2.9 MB/s\u001b[0m eta \u001b[36m0:00:00\u001b[0m\n",
            "\u001b[?25h  Preparing metadata (setup.py) ... \u001b[?25l\u001b[?25hdone\n",
            "  Building wheel for pyspark (setup.py) ... \u001b[?25l\u001b[?25hdone\n"
          ]
        },
        {
          "output_type": "execute_result",
          "data": {
            "text/plain": [
              "<SparkContext master=local[*] appName=pyspark-shell>"
            ],
            "text/html": [
              "\n",
              "        <div>\n",
              "            <p><b>SparkContext</b></p>\n",
              "\n",
              "            <p><a href=\"http://f094b71b3432:4040\">Spark UI</a></p>\n",
              "\n",
              "            <dl>\n",
              "              <dt>Version</dt>\n",
              "                <dd><code>v3.5.0</code></dd>\n",
              "              <dt>Master</dt>\n",
              "                <dd><code>local[*]</code></dd>\n",
              "              <dt>AppName</dt>\n",
              "                <dd><code>pyspark-shell</code></dd>\n",
              "            </dl>\n",
              "        </div>\n",
              "        "
            ]
          },
          "metadata": {},
          "execution_count": 2
        }
      ]
    },
    {
      "cell_type": "code",
      "metadata": {
        "id": "cnTgqI9P0Rwq"
      },
      "source": [
        "#from pyspark.sql import SQLContext\n",
        "#sqlContext = SQLContext(sc)"
      ],
      "execution_count": null,
      "outputs": []
    },
    {
      "cell_type": "markdown",
      "metadata": {
        "id": "9-BaFcn_0rTK"
      },
      "source": [
        "# Data Load"
      ]
    },
    {
      "cell_type": "code",
      "metadata": {
        "id": "nBsW0ItGEKmv",
        "outputId": "c862ba0f-0871-4342-be96-307f94f8498c",
        "colab": {
          "base_uri": "https://localhost:8080/"
        }
      },
      "source": [
        "#https://drive.google.com/file/d/1o-WzYvxfIXxvghazTLu3iuNqFE9IxGbw/view?usp=sharing\n",
        "#!wget -q -O BDSDF_train.zip 'https://drive.google.com/uc?export=download&id=1o-WzYvxfIXxvghazTLu3iuNqFE9IxGbw'\n",
        "!wget -q 'https://github.com/Praxis-QR/BDSN/raw/main/data/blackfriday/BDSDF_train.zip'\n",
        "\n",
        "#https://drive.google.com/file/d/1UF5HGE3NGtQ9goeSvhsTnMMTUZiv7fhE/view?usp=sharing\n",
        "#!wget -q -O BDSDF_test.zip 'https://drive.google.com/uc?export=download&id=1UF5HGE3NGtQ9goeSvhsTnMMTUZiv7fhE'\n",
        "!wget -q 'https://github.com/Praxis-QR/BDSN/raw/main/data/blackfriday/BDSDF_test.zip'\n",
        "\n",
        "!unzip BDSDF_test.zip\n",
        "!unzip BDSDF_train.zip\n",
        "\n",
        "!ls -al"
      ],
      "execution_count": 6,
      "outputs": [
        {
          "output_type": "stream",
          "name": "stdout",
          "text": [
            "Archive:  BDSDF_test.zip\n",
            "  inflating: test.csv                \n",
            "Archive:  BDSDF_train.zip\n",
            "  inflating: train.csv               \n",
            "total 40724\n",
            "drwxr-xr-x 1 root root     4096 Jan 22 00:08 .\n",
            "drwxr-xr-x 1 root root     4096 Jan 22 00:00 ..\n",
            "-rw-r--r-- 1 root root  1827545 Jan 22 00:08 BDSDF_test.zip\n",
            "-rw-r--r-- 1 root root  4720668 Jan 22 00:08 BDSDF_train.zip\n",
            "drwxr-xr-x 4 root root     4096 Jan 18 14:20 .config\n",
            "drwxr-xr-x 2 root root     4096 Jan 22 00:07 .ipynb_checkpoints\n",
            "drwxr-xr-x 1 root root     4096 Jan 18 14:21 sample_data\n",
            "-rw-rw-r-- 1 root root  9598228 Nov 20  2015 test.csv\n",
            "-rw-rw-r-- 1 root root 25525678 Nov 20  2015 train.csv\n"
          ]
        }
      ]
    },
    {
      "cell_type": "code",
      "source": [
        "import pandas as pd\n",
        "pTest = pd.read_csv(\"./test.csv\")\n",
        "pTest.head(3)"
      ],
      "metadata": {
        "id": "Qh-eYNHAf8P6",
        "outputId": "99c53b83-f921-4331-9de2-599eabffd189",
        "colab": {
          "base_uri": "https://localhost:8080/",
          "height": 216
        }
      },
      "execution_count": 7,
      "outputs": [
        {
          "output_type": "execute_result",
          "data": {
            "text/plain": [
              "   User_ID Product_ID Gender    Age  Occupation City_Category  \\\n",
              "0  1000004  P00128942      M  46-50           7             B   \n",
              "1  1000009  P00113442      M  26-35          17             C   \n",
              "2  1000010  P00288442      F  36-45           1             B   \n",
              "\n",
              "  Stay_In_Current_City_Years  Marital_Status  Product_Category_1  \\\n",
              "0                          2               1                   1   \n",
              "1                          0               0                   3   \n",
              "2                         4+               1                   5   \n",
              "\n",
              "   Product_Category_2  Product_Category_3  \n",
              "0                11.0                 NaN  \n",
              "1                 5.0                 NaN  \n",
              "2                14.0                 NaN  "
            ],
            "text/html": [
              "\n",
              "  <div id=\"df-6b3d6096-0971-45b3-b690-1cae983022fd\" class=\"colab-df-container\">\n",
              "    <div>\n",
              "<style scoped>\n",
              "    .dataframe tbody tr th:only-of-type {\n",
              "        vertical-align: middle;\n",
              "    }\n",
              "\n",
              "    .dataframe tbody tr th {\n",
              "        vertical-align: top;\n",
              "    }\n",
              "\n",
              "    .dataframe thead th {\n",
              "        text-align: right;\n",
              "    }\n",
              "</style>\n",
              "<table border=\"1\" class=\"dataframe\">\n",
              "  <thead>\n",
              "    <tr style=\"text-align: right;\">\n",
              "      <th></th>\n",
              "      <th>User_ID</th>\n",
              "      <th>Product_ID</th>\n",
              "      <th>Gender</th>\n",
              "      <th>Age</th>\n",
              "      <th>Occupation</th>\n",
              "      <th>City_Category</th>\n",
              "      <th>Stay_In_Current_City_Years</th>\n",
              "      <th>Marital_Status</th>\n",
              "      <th>Product_Category_1</th>\n",
              "      <th>Product_Category_2</th>\n",
              "      <th>Product_Category_3</th>\n",
              "    </tr>\n",
              "  </thead>\n",
              "  <tbody>\n",
              "    <tr>\n",
              "      <th>0</th>\n",
              "      <td>1000004</td>\n",
              "      <td>P00128942</td>\n",
              "      <td>M</td>\n",
              "      <td>46-50</td>\n",
              "      <td>7</td>\n",
              "      <td>B</td>\n",
              "      <td>2</td>\n",
              "      <td>1</td>\n",
              "      <td>1</td>\n",
              "      <td>11.0</td>\n",
              "      <td>NaN</td>\n",
              "    </tr>\n",
              "    <tr>\n",
              "      <th>1</th>\n",
              "      <td>1000009</td>\n",
              "      <td>P00113442</td>\n",
              "      <td>M</td>\n",
              "      <td>26-35</td>\n",
              "      <td>17</td>\n",
              "      <td>C</td>\n",
              "      <td>0</td>\n",
              "      <td>0</td>\n",
              "      <td>3</td>\n",
              "      <td>5.0</td>\n",
              "      <td>NaN</td>\n",
              "    </tr>\n",
              "    <tr>\n",
              "      <th>2</th>\n",
              "      <td>1000010</td>\n",
              "      <td>P00288442</td>\n",
              "      <td>F</td>\n",
              "      <td>36-45</td>\n",
              "      <td>1</td>\n",
              "      <td>B</td>\n",
              "      <td>4+</td>\n",
              "      <td>1</td>\n",
              "      <td>5</td>\n",
              "      <td>14.0</td>\n",
              "      <td>NaN</td>\n",
              "    </tr>\n",
              "  </tbody>\n",
              "</table>\n",
              "</div>\n",
              "    <div class=\"colab-df-buttons\">\n",
              "\n",
              "  <div class=\"colab-df-container\">\n",
              "    <button class=\"colab-df-convert\" onclick=\"convertToInteractive('df-6b3d6096-0971-45b3-b690-1cae983022fd')\"\n",
              "            title=\"Convert this dataframe to an interactive table.\"\n",
              "            style=\"display:none;\">\n",
              "\n",
              "  <svg xmlns=\"http://www.w3.org/2000/svg\" height=\"24px\" viewBox=\"0 -960 960 960\">\n",
              "    <path d=\"M120-120v-720h720v720H120Zm60-500h600v-160H180v160Zm220 220h160v-160H400v160Zm0 220h160v-160H400v160ZM180-400h160v-160H180v160Zm440 0h160v-160H620v160ZM180-180h160v-160H180v160Zm440 0h160v-160H620v160Z\"/>\n",
              "  </svg>\n",
              "    </button>\n",
              "\n",
              "  <style>\n",
              "    .colab-df-container {\n",
              "      display:flex;\n",
              "      gap: 12px;\n",
              "    }\n",
              "\n",
              "    .colab-df-convert {\n",
              "      background-color: #E8F0FE;\n",
              "      border: none;\n",
              "      border-radius: 50%;\n",
              "      cursor: pointer;\n",
              "      display: none;\n",
              "      fill: #1967D2;\n",
              "      height: 32px;\n",
              "      padding: 0 0 0 0;\n",
              "      width: 32px;\n",
              "    }\n",
              "\n",
              "    .colab-df-convert:hover {\n",
              "      background-color: #E2EBFA;\n",
              "      box-shadow: 0px 1px 2px rgba(60, 64, 67, 0.3), 0px 1px 3px 1px rgba(60, 64, 67, 0.15);\n",
              "      fill: #174EA6;\n",
              "    }\n",
              "\n",
              "    .colab-df-buttons div {\n",
              "      margin-bottom: 4px;\n",
              "    }\n",
              "\n",
              "    [theme=dark] .colab-df-convert {\n",
              "      background-color: #3B4455;\n",
              "      fill: #D2E3FC;\n",
              "    }\n",
              "\n",
              "    [theme=dark] .colab-df-convert:hover {\n",
              "      background-color: #434B5C;\n",
              "      box-shadow: 0px 1px 3px 1px rgba(0, 0, 0, 0.15);\n",
              "      filter: drop-shadow(0px 1px 2px rgba(0, 0, 0, 0.3));\n",
              "      fill: #FFFFFF;\n",
              "    }\n",
              "  </style>\n",
              "\n",
              "    <script>\n",
              "      const buttonEl =\n",
              "        document.querySelector('#df-6b3d6096-0971-45b3-b690-1cae983022fd button.colab-df-convert');\n",
              "      buttonEl.style.display =\n",
              "        google.colab.kernel.accessAllowed ? 'block' : 'none';\n",
              "\n",
              "      async function convertToInteractive(key) {\n",
              "        const element = document.querySelector('#df-6b3d6096-0971-45b3-b690-1cae983022fd');\n",
              "        const dataTable =\n",
              "          await google.colab.kernel.invokeFunction('convertToInteractive',\n",
              "                                                    [key], {});\n",
              "        if (!dataTable) return;\n",
              "\n",
              "        const docLinkHtml = 'Like what you see? Visit the ' +\n",
              "          '<a target=\"_blank\" href=https://colab.research.google.com/notebooks/data_table.ipynb>data table notebook</a>'\n",
              "          + ' to learn more about interactive tables.';\n",
              "        element.innerHTML = '';\n",
              "        dataTable['output_type'] = 'display_data';\n",
              "        await google.colab.output.renderOutput(dataTable, element);\n",
              "        const docLink = document.createElement('div');\n",
              "        docLink.innerHTML = docLinkHtml;\n",
              "        element.appendChild(docLink);\n",
              "      }\n",
              "    </script>\n",
              "  </div>\n",
              "\n",
              "\n",
              "<div id=\"df-dc9f3f13-2cb5-44ca-b278-a60761dc9f8a\">\n",
              "  <button class=\"colab-df-quickchart\" onclick=\"quickchart('df-dc9f3f13-2cb5-44ca-b278-a60761dc9f8a')\"\n",
              "            title=\"Suggest charts\"\n",
              "            style=\"display:none;\">\n",
              "\n",
              "<svg xmlns=\"http://www.w3.org/2000/svg\" height=\"24px\"viewBox=\"0 0 24 24\"\n",
              "     width=\"24px\">\n",
              "    <g>\n",
              "        <path d=\"M19 3H5c-1.1 0-2 .9-2 2v14c0 1.1.9 2 2 2h14c1.1 0 2-.9 2-2V5c0-1.1-.9-2-2-2zM9 17H7v-7h2v7zm4 0h-2V7h2v10zm4 0h-2v-4h2v4z\"/>\n",
              "    </g>\n",
              "</svg>\n",
              "  </button>\n",
              "\n",
              "<style>\n",
              "  .colab-df-quickchart {\n",
              "      --bg-color: #E8F0FE;\n",
              "      --fill-color: #1967D2;\n",
              "      --hover-bg-color: #E2EBFA;\n",
              "      --hover-fill-color: #174EA6;\n",
              "      --disabled-fill-color: #AAA;\n",
              "      --disabled-bg-color: #DDD;\n",
              "  }\n",
              "\n",
              "  [theme=dark] .colab-df-quickchart {\n",
              "      --bg-color: #3B4455;\n",
              "      --fill-color: #D2E3FC;\n",
              "      --hover-bg-color: #434B5C;\n",
              "      --hover-fill-color: #FFFFFF;\n",
              "      --disabled-bg-color: #3B4455;\n",
              "      --disabled-fill-color: #666;\n",
              "  }\n",
              "\n",
              "  .colab-df-quickchart {\n",
              "    background-color: var(--bg-color);\n",
              "    border: none;\n",
              "    border-radius: 50%;\n",
              "    cursor: pointer;\n",
              "    display: none;\n",
              "    fill: var(--fill-color);\n",
              "    height: 32px;\n",
              "    padding: 0;\n",
              "    width: 32px;\n",
              "  }\n",
              "\n",
              "  .colab-df-quickchart:hover {\n",
              "    background-color: var(--hover-bg-color);\n",
              "    box-shadow: 0 1px 2px rgba(60, 64, 67, 0.3), 0 1px 3px 1px rgba(60, 64, 67, 0.15);\n",
              "    fill: var(--button-hover-fill-color);\n",
              "  }\n",
              "\n",
              "  .colab-df-quickchart-complete:disabled,\n",
              "  .colab-df-quickchart-complete:disabled:hover {\n",
              "    background-color: var(--disabled-bg-color);\n",
              "    fill: var(--disabled-fill-color);\n",
              "    box-shadow: none;\n",
              "  }\n",
              "\n",
              "  .colab-df-spinner {\n",
              "    border: 2px solid var(--fill-color);\n",
              "    border-color: transparent;\n",
              "    border-bottom-color: var(--fill-color);\n",
              "    animation:\n",
              "      spin 1s steps(1) infinite;\n",
              "  }\n",
              "\n",
              "  @keyframes spin {\n",
              "    0% {\n",
              "      border-color: transparent;\n",
              "      border-bottom-color: var(--fill-color);\n",
              "      border-left-color: var(--fill-color);\n",
              "    }\n",
              "    20% {\n",
              "      border-color: transparent;\n",
              "      border-left-color: var(--fill-color);\n",
              "      border-top-color: var(--fill-color);\n",
              "    }\n",
              "    30% {\n",
              "      border-color: transparent;\n",
              "      border-left-color: var(--fill-color);\n",
              "      border-top-color: var(--fill-color);\n",
              "      border-right-color: var(--fill-color);\n",
              "    }\n",
              "    40% {\n",
              "      border-color: transparent;\n",
              "      border-right-color: var(--fill-color);\n",
              "      border-top-color: var(--fill-color);\n",
              "    }\n",
              "    60% {\n",
              "      border-color: transparent;\n",
              "      border-right-color: var(--fill-color);\n",
              "    }\n",
              "    80% {\n",
              "      border-color: transparent;\n",
              "      border-right-color: var(--fill-color);\n",
              "      border-bottom-color: var(--fill-color);\n",
              "    }\n",
              "    90% {\n",
              "      border-color: transparent;\n",
              "      border-bottom-color: var(--fill-color);\n",
              "    }\n",
              "  }\n",
              "</style>\n",
              "\n",
              "  <script>\n",
              "    async function quickchart(key) {\n",
              "      const quickchartButtonEl =\n",
              "        document.querySelector('#' + key + ' button');\n",
              "      quickchartButtonEl.disabled = true;  // To prevent multiple clicks.\n",
              "      quickchartButtonEl.classList.add('colab-df-spinner');\n",
              "      try {\n",
              "        const charts = await google.colab.kernel.invokeFunction(\n",
              "            'suggestCharts', [key], {});\n",
              "      } catch (error) {\n",
              "        console.error('Error during call to suggestCharts:', error);\n",
              "      }\n",
              "      quickchartButtonEl.classList.remove('colab-df-spinner');\n",
              "      quickchartButtonEl.classList.add('colab-df-quickchart-complete');\n",
              "    }\n",
              "    (() => {\n",
              "      let quickchartButtonEl =\n",
              "        document.querySelector('#df-dc9f3f13-2cb5-44ca-b278-a60761dc9f8a button');\n",
              "      quickchartButtonEl.style.display =\n",
              "        google.colab.kernel.accessAllowed ? 'block' : 'none';\n",
              "    })();\n",
              "  </script>\n",
              "</div>\n",
              "    </div>\n",
              "  </div>\n"
            ]
          },
          "metadata": {},
          "execution_count": 7
        }
      ]
    },
    {
      "cell_type": "code",
      "metadata": {
        "id": "9x_LDSdC3arm",
        "outputId": "611dc5a2-b32d-4cf1-b5ce-c963ad0c45bf",
        "colab": {
          "base_uri": "https://localhost:8080/"
        }
      },
      "source": [
        "#test = sqlContext.read.format(\"csv\").option(\"header\", \"true\").option(\"inferSchema\", \"true\").load(\"./test.csv\")\n",
        "test = spark.read.format(\"csv\").option(\"header\", \"true\").option(\"inferSchema\", \"true\").load(\"./test.csv\")\n",
        "#train = sqlContext.read.format(\"csv\").option(\"header\", \"true\").option(\"inferSchema\", \"true\").load(\"./train.csv\")\n",
        "train = spark.read.format(\"csv\").option(\"header\", \"true\").option(\"inferSchema\", \"true\").load(\"./train.csv\")\n",
        "\n",
        "#train.printSchema()\n",
        "test.printSchema()"
      ],
      "execution_count": 9,
      "outputs": [
        {
          "output_type": "stream",
          "name": "stdout",
          "text": [
            "root\n",
            " |-- User_ID: integer (nullable = true)\n",
            " |-- Product_ID: string (nullable = true)\n",
            " |-- Gender: string (nullable = true)\n",
            " |-- Age: string (nullable = true)\n",
            " |-- Occupation: integer (nullable = true)\n",
            " |-- City_Category: string (nullable = true)\n",
            " |-- Stay_In_Current_City_Years: string (nullable = true)\n",
            " |-- Marital_Status: integer (nullable = true)\n",
            " |-- Product_Category_1: integer (nullable = true)\n",
            " |-- Product_Category_2: integer (nullable = true)\n",
            " |-- Product_Category_3: integer (nullable = true)\n",
            "\n"
          ]
        }
      ]
    },
    {
      "cell_type": "markdown",
      "metadata": {
        "id": "-dYK2fa-4mWy"
      },
      "source": [
        "# Dataframe Manipulations"
      ]
    },
    {
      "cell_type": "code",
      "metadata": {
        "id": "gsjGsCXH4tqm",
        "colab": {
          "base_uri": "https://localhost:8080/"
        },
        "outputId": "7df57ef7-ed1d-4d23-af70-d545ce33cb2b"
      },
      "source": [
        "test.head(3)"
      ],
      "execution_count": 10,
      "outputs": [
        {
          "output_type": "execute_result",
          "data": {
            "text/plain": [
              "[Row(User_ID=1000004, Product_ID='P00128942', Gender='M', Age='46-50', Occupation=7, City_Category='B', Stay_In_Current_City_Years='2', Marital_Status=1, Product_Category_1=1, Product_Category_2=11, Product_Category_3=None),\n",
              " Row(User_ID=1000009, Product_ID='P00113442', Gender='M', Age='26-35', Occupation=17, City_Category='C', Stay_In_Current_City_Years='0', Marital_Status=0, Product_Category_1=3, Product_Category_2=5, Product_Category_3=None),\n",
              " Row(User_ID=1000010, Product_ID='P00288442', Gender='F', Age='36-45', Occupation=1, City_Category='B', Stay_In_Current_City_Years='4+', Marital_Status=1, Product_Category_1=5, Product_Category_2=14, Product_Category_3=None)]"
            ]
          },
          "metadata": {},
          "execution_count": 10
        }
      ]
    },
    {
      "cell_type": "code",
      "metadata": {
        "id": "awd7bzNC47Qs",
        "colab": {
          "base_uri": "https://localhost:8080/"
        },
        "outputId": "6cb946d8-b834-4264-e068-d7864f26e0ec"
      },
      "source": [
        "test.show()"
      ],
      "execution_count": 11,
      "outputs": [
        {
          "output_type": "stream",
          "name": "stdout",
          "text": [
            "+-------+----------+------+-----+----------+-------------+--------------------------+--------------+------------------+------------------+------------------+\n",
            "|User_ID|Product_ID|Gender|  Age|Occupation|City_Category|Stay_In_Current_City_Years|Marital_Status|Product_Category_1|Product_Category_2|Product_Category_3|\n",
            "+-------+----------+------+-----+----------+-------------+--------------------------+--------------+------------------+------------------+------------------+\n",
            "|1000004| P00128942|     M|46-50|         7|            B|                         2|             1|                 1|                11|              NULL|\n",
            "|1000009| P00113442|     M|26-35|        17|            C|                         0|             0|                 3|                 5|              NULL|\n",
            "|1000010| P00288442|     F|36-45|         1|            B|                        4+|             1|                 5|                14|              NULL|\n",
            "|1000010| P00145342|     F|36-45|         1|            B|                        4+|             1|                 4|                 9|              NULL|\n",
            "|1000011| P00053842|     F|26-35|         1|            C|                         1|             0|                 4|                 5|                12|\n",
            "|1000013| P00350442|     M|46-50|         1|            C|                         3|             1|                 2|                 3|                15|\n",
            "|1000013| P00155442|     M|46-50|         1|            C|                         3|             1|                 1|                11|                15|\n",
            "|1000013|  P0094542|     M|46-50|         1|            C|                         3|             1|                 2|                 4|                 9|\n",
            "|1000015| P00161842|     M|26-35|         7|            A|                         1|             0|                10|                13|                16|\n",
            "|1000022| P00067942|     M|18-25|        15|            A|                        4+|             0|                 5|                14|              NULL|\n",
            "|1000026| P00046742|     M|26-35|         7|            B|                         2|             1|                 1|                 2|                15|\n",
            "|1000026| P00040042|     M|26-35|         7|            B|                         2|             1|                 5|              NULL|              NULL|\n",
            "|1000026| P00196542|     M|26-35|         7|            B|                         2|             1|                 5|                 8|                14|\n",
            "|1000026| P00004542|     M|26-35|         7|            B|                         2|             1|                 5|                 8|              NULL|\n",
            "|1000028| P00159542|     F|26-35|         1|            C|                         2|             1|                10|                15|                16|\n",
            "|1000029| P00111542|     M|36-45|         7|            C|                         1|             0|                 2|                17|              NULL|\n",
            "|1000033| P00121042|     M|46-50|         3|            A|                         1|             1|                15|              NULL|              NULL|\n",
            "|1000033| P00344442|     M|46-50|         3|            A|                         1|             1|                 5|                 8|                14|\n",
            "|1000034| P00265242|     F|18-25|         0|            A|                         0|             0|                 5|                 8|              NULL|\n",
            "|1000035|  P0096642|     M|46-50|         1|            C|                        4+|             1|                 2|                 3|                 4|\n",
            "+-------+----------+------+-----+----------+-------------+--------------------------+--------------+------------------+------------------+------------------+\n",
            "only showing top 20 rows\n",
            "\n"
          ]
        }
      ]
    },
    {
      "cell_type": "code",
      "metadata": {
        "id": "R0eZFwB-5Dhy",
        "colab": {
          "base_uri": "https://localhost:8080/"
        },
        "outputId": "fbb1e50c-ab8b-4f9f-d468-2e413d806add"
      },
      "source": [
        "train.count(),test.count()"
      ],
      "execution_count": 12,
      "outputs": [
        {
          "output_type": "execute_result",
          "data": {
            "text/plain": [
              "(550068, 233599)"
            ]
          },
          "metadata": {},
          "execution_count": 12
        }
      ]
    },
    {
      "cell_type": "code",
      "metadata": {
        "id": "jd4jsvpo5Odq",
        "colab": {
          "base_uri": "https://localhost:8080/"
        },
        "outputId": "fa955d48-0994-4a02-eaa9-ff85036a4f45"
      },
      "source": [
        "len(train.columns), train.columns"
      ],
      "execution_count": 13,
      "outputs": [
        {
          "output_type": "execute_result",
          "data": {
            "text/plain": [
              "(12,\n",
              " ['User_ID',\n",
              "  'Product_ID',\n",
              "  'Gender',\n",
              "  'Age',\n",
              "  'Occupation',\n",
              "  'City_Category',\n",
              "  'Stay_In_Current_City_Years',\n",
              "  'Marital_Status',\n",
              "  'Product_Category_1',\n",
              "  'Product_Category_2',\n",
              "  'Product_Category_3',\n",
              "  'Purchase'])"
            ]
          },
          "metadata": {},
          "execution_count": 13
        }
      ]
    },
    {
      "cell_type": "code",
      "metadata": {
        "id": "LhZEgufK5Veo",
        "colab": {
          "base_uri": "https://localhost:8080/"
        },
        "outputId": "5029142d-5cc5-4c92-abf3-8b87824a7ac6"
      },
      "source": [
        "len(test.columns), test.columns"
      ],
      "execution_count": 14,
      "outputs": [
        {
          "output_type": "execute_result",
          "data": {
            "text/plain": [
              "(11,\n",
              " ['User_ID',\n",
              "  'Product_ID',\n",
              "  'Gender',\n",
              "  'Age',\n",
              "  'Occupation',\n",
              "  'City_Category',\n",
              "  'Stay_In_Current_City_Years',\n",
              "  'Marital_Status',\n",
              "  'Product_Category_1',\n",
              "  'Product_Category_2',\n",
              "  'Product_Category_3'])"
            ]
          },
          "metadata": {},
          "execution_count": 14
        }
      ]
    },
    {
      "cell_type": "code",
      "metadata": {
        "id": "Y6zLl5r05yb0",
        "colab": {
          "base_uri": "https://localhost:8080/"
        },
        "outputId": "06475af7-6ba5-401f-b4a4-e9c98917d342"
      },
      "source": [
        "train.describe().show()"
      ],
      "execution_count": 15,
      "outputs": [
        {
          "output_type": "stream",
          "name": "stdout",
          "text": [
            "+-------+------------------+----------+------+------+-----------------+-------------+--------------------------+-------------------+------------------+------------------+------------------+-----------------+\n",
            "|summary|           User_ID|Product_ID|Gender|   Age|       Occupation|City_Category|Stay_In_Current_City_Years|     Marital_Status|Product_Category_1|Product_Category_2|Product_Category_3|         Purchase|\n",
            "+-------+------------------+----------+------+------+-----------------+-------------+--------------------------+-------------------+------------------+------------------+------------------+-----------------+\n",
            "|  count|            550068|    550068|550068|550068|           550068|       550068|                    550068|             550068|            550068|            376430|            166821|           550068|\n",
            "|   mean|1003028.8424013031|      NULL|  NULL|  NULL|8.076706879876669|         NULL|         1.468494139793958|0.40965298835780306| 5.404270017525106| 9.842329251122386|12.668243206790512|9263.968712959126|\n",
            "| stddev|1727.5915855313747|      NULL|  NULL|  NULL|6.522660487341741|         NULL|        0.9890866807573103| 0.4917701263173315| 3.936211369201365| 5.086589648693497| 4.125337631575274|5023.065393820575|\n",
            "|    min|           1000001| P00000142|     F|  0-17|                0|            A|                         0|                  0|                 1|                 2|                 3|               12|\n",
            "|    max|           1006040|  P0099942|     M|   55+|               20|            C|                        4+|                  1|                20|                18|                18|            23961|\n",
            "+-------+------------------+----------+------+------+-----------------+-------------+--------------------------+-------------------+------------------+------------------+------------------+-----------------+\n",
            "\n"
          ]
        }
      ]
    },
    {
      "cell_type": "code",
      "metadata": {
        "id": "D8EkUTYg6b06",
        "colab": {
          "base_uri": "https://localhost:8080/"
        },
        "outputId": "815f487f-ada6-450a-c293-2d047515912f"
      },
      "source": [
        "train.describe('Product_ID').show()"
      ],
      "execution_count": 16,
      "outputs": [
        {
          "output_type": "stream",
          "name": "stdout",
          "text": [
            "+-------+----------+\n",
            "|summary|Product_ID|\n",
            "+-------+----------+\n",
            "|  count|    550068|\n",
            "|   mean|      NULL|\n",
            "| stddev|      NULL|\n",
            "|    min| P00000142|\n",
            "|    max|  P0099942|\n",
            "+-------+----------+\n",
            "\n"
          ]
        }
      ]
    },
    {
      "cell_type": "code",
      "metadata": {
        "id": "fVN3VeMh6k4U",
        "colab": {
          "base_uri": "https://localhost:8080/"
        },
        "outputId": "1c1859ea-d09d-4985-b31d-bfd3916dd18e"
      },
      "source": [
        "train.select('User_ID','Age').show(5)"
      ],
      "execution_count": 17,
      "outputs": [
        {
          "output_type": "stream",
          "name": "stdout",
          "text": [
            "+-------+----+\n",
            "|User_ID| Age|\n",
            "+-------+----+\n",
            "|1000001|0-17|\n",
            "|1000001|0-17|\n",
            "|1000001|0-17|\n",
            "|1000001|0-17|\n",
            "|1000002| 55+|\n",
            "+-------+----+\n",
            "only showing top 5 rows\n",
            "\n"
          ]
        }
      ]
    },
    {
      "cell_type": "code",
      "metadata": {
        "colab": {
          "base_uri": "https://localhost:8080/"
        },
        "id": "40FP1kVG4pjE",
        "outputId": "8b2481b8-8ef0-46eb-ea7c-c874acf63f29"
      },
      "source": [
        "train.select('Product_ID').distinct().count(), test.select('Product_ID').distinct().count()"
      ],
      "execution_count": 18,
      "outputs": [
        {
          "output_type": "execute_result",
          "data": {
            "text/plain": [
              "(3631, 3491)"
            ]
          },
          "metadata": {},
          "execution_count": 18
        }
      ]
    },
    {
      "cell_type": "code",
      "metadata": {
        "id": "i3xFIuUo6_7w",
        "colab": {
          "base_uri": "https://localhost:8080/"
        },
        "outputId": "e06c3a7c-f59c-44e9-c78f-86ac8a377139"
      },
      "source": [
        "diff_cat_in_train_test=test.select('Product_ID').subtract(train.select('Product_ID'))\n",
        "diff_cat_in_train_test.distinct().count()# For distict count"
      ],
      "execution_count": 19,
      "outputs": [
        {
          "output_type": "execute_result",
          "data": {
            "text/plain": [
              "46"
            ]
          },
          "metadata": {},
          "execution_count": 19
        }
      ]
    },
    {
      "cell_type": "code",
      "metadata": {
        "id": "zXQXgyjg7OMg",
        "colab": {
          "base_uri": "https://localhost:8080/"
        },
        "outputId": "bf7c7edc-0e62-4951-b877-f6ddd02d5995"
      },
      "source": [
        "train.crosstab('Age', 'Gender').show()"
      ],
      "execution_count": 22,
      "outputs": [
        {
          "output_type": "stream",
          "name": "stdout",
          "text": [
            "+----------+-----+------+\n",
            "|Age_Gender|    F|     M|\n",
            "+----------+-----+------+\n",
            "|     18-25|24628| 75032|\n",
            "|     26-35|50752|168835|\n",
            "|      0-17| 5083| 10019|\n",
            "|     46-50|13199| 32502|\n",
            "|     51-55| 9894| 28607|\n",
            "|     36-45|27170| 82843|\n",
            "|       55+| 5083| 16421|\n",
            "+----------+-----+------+\n",
            "\n"
          ]
        }
      ]
    },
    {
      "cell_type": "code",
      "source": [
        "train.cube(\"Age\", \"Gender\").count().orderBy(\"Age\", \"Gender\").show(50)"
      ],
      "metadata": {
        "id": "ed6-5L41h6CM",
        "outputId": "c173e430-200a-42e7-bb83-7f2ad7cd7944",
        "colab": {
          "base_uri": "https://localhost:8080/"
        }
      },
      "execution_count": 24,
      "outputs": [
        {
          "output_type": "stream",
          "name": "stdout",
          "text": [
            "+-----+------+------+\n",
            "|  Age|Gender| count|\n",
            "+-----+------+------+\n",
            "| NULL|  NULL|550068|\n",
            "| NULL|     F|135809|\n",
            "| NULL|     M|414259|\n",
            "| 0-17|  NULL| 15102|\n",
            "| 0-17|     F|  5083|\n",
            "| 0-17|     M| 10019|\n",
            "|18-25|  NULL| 99660|\n",
            "|18-25|     F| 24628|\n",
            "|18-25|     M| 75032|\n",
            "|26-35|  NULL|219587|\n",
            "|26-35|     F| 50752|\n",
            "|26-35|     M|168835|\n",
            "|36-45|  NULL|110013|\n",
            "|36-45|     F| 27170|\n",
            "|36-45|     M| 82843|\n",
            "|46-50|  NULL| 45701|\n",
            "|46-50|     F| 13199|\n",
            "|46-50|     M| 32502|\n",
            "|51-55|  NULL| 38501|\n",
            "|51-55|     F|  9894|\n",
            "|51-55|     M| 28607|\n",
            "|  55+|  NULL| 21504|\n",
            "|  55+|     F|  5083|\n",
            "|  55+|     M| 16421|\n",
            "+-----+------+------+\n",
            "\n"
          ]
        }
      ]
    },
    {
      "cell_type": "code",
      "metadata": {
        "id": "6Mo04ibh6EwH"
      },
      "source": [
        "#train.crosstab('Age', 'Gender').describe().show()"
      ],
      "execution_count": null,
      "outputs": []
    },
    {
      "cell_type": "code",
      "metadata": {
        "id": "keMLcVRL7Wmo",
        "colab": {
          "base_uri": "https://localhost:8080/"
        },
        "outputId": "012da5e1-8ed6-44b4-8b69-be4d8cd821db"
      },
      "source": [
        "train.select('Age','Gender').dropDuplicates().show()"
      ],
      "execution_count": 25,
      "outputs": [
        {
          "output_type": "stream",
          "name": "stdout",
          "text": [
            "+-----+------+\n",
            "|  Age|Gender|\n",
            "+-----+------+\n",
            "|51-55|     F|\n",
            "|18-25|     M|\n",
            "| 0-17|     F|\n",
            "|46-50|     M|\n",
            "|18-25|     F|\n",
            "|  55+|     M|\n",
            "|  55+|     F|\n",
            "|36-45|     M|\n",
            "|26-35|     F|\n",
            "| 0-17|     M|\n",
            "|36-45|     F|\n",
            "|51-55|     M|\n",
            "|26-35|     M|\n",
            "|46-50|     F|\n",
            "+-----+------+\n",
            "\n"
          ]
        }
      ]
    },
    {
      "cell_type": "code",
      "metadata": {
        "id": "Ykeq-Ww67j18",
        "colab": {
          "base_uri": "https://localhost:8080/"
        },
        "outputId": "8fe0025b-0dce-414a-a80b-38fe30687788"
      },
      "source": [
        "train.dropna().count()"
      ],
      "execution_count": 26,
      "outputs": [
        {
          "output_type": "execute_result",
          "data": {
            "text/plain": [
              "166821"
            ]
          },
          "metadata": {},
          "execution_count": 26
        }
      ]
    },
    {
      "cell_type": "code",
      "metadata": {
        "id": "x5too3Xx6_S8"
      },
      "source": [
        "#train.dropna().show(2)"
      ],
      "execution_count": null,
      "outputs": []
    },
    {
      "cell_type": "code",
      "metadata": {
        "id": "BtT5KUg2-KZ9",
        "colab": {
          "base_uri": "https://localhost:8080/"
        },
        "outputId": "c5ac3f66-b69c-47a2-f9c4-20cf0bc42c60"
      },
      "source": [
        "train.fillna(-1).count()\n",
        "#train.fillna('x').show(3)"
      ],
      "execution_count": 27,
      "outputs": [
        {
          "output_type": "execute_result",
          "data": {
            "text/plain": [
              "550068"
            ]
          },
          "metadata": {},
          "execution_count": 27
        }
      ]
    },
    {
      "cell_type": "code",
      "metadata": {
        "id": "6ofc-o3v7vB0",
        "colab": {
          "base_uri": "https://localhost:8080/"
        },
        "outputId": "824c0d6a-403a-4308-f716-59e7df995fca"
      },
      "source": [
        "train.fillna(-1).show(2)"
      ],
      "execution_count": null,
      "outputs": [
        {
          "output_type": "stream",
          "name": "stdout",
          "text": [
            "+-------+----------+------+----+----------+-------------+--------------------------+--------------+------------------+------------------+------------------+--------+\n",
            "|User_ID|Product_ID|Gender| Age|Occupation|City_Category|Stay_In_Current_City_Years|Marital_Status|Product_Category_1|Product_Category_2|Product_Category_3|Purchase|\n",
            "+-------+----------+------+----+----------+-------------+--------------------------+--------------+------------------+------------------+------------------+--------+\n",
            "|1000001| P00069042|     F|0-17|        10|            A|                         2|             0|                 3|                -1|                -1|    8370|\n",
            "|1000001| P00248942|     F|0-17|        10|            A|                         2|             0|                 1|                 6|                14|   15200|\n",
            "+-------+----------+------+----+----------+-------------+--------------------------+--------------+------------------+------------------+------------------+--------+\n",
            "only showing top 2 rows\n",
            "\n"
          ]
        }
      ]
    },
    {
      "cell_type": "code",
      "metadata": {
        "id": "6tkQo4uv74m0",
        "colab": {
          "base_uri": "https://localhost:8080/"
        },
        "outputId": "c096c029-191b-41f4-b0c1-c71aee22f6b2"
      },
      "source": [
        "train.filter(train.Purchase > 15000).count()"
      ],
      "execution_count": 28,
      "outputs": [
        {
          "output_type": "execute_result",
          "data": {
            "text/plain": [
              "110523"
            ]
          },
          "metadata": {},
          "execution_count": 28
        }
      ]
    },
    {
      "cell_type": "code",
      "metadata": {
        "id": "UVgLE02u8AHw",
        "colab": {
          "base_uri": "https://localhost:8080/"
        },
        "outputId": "31d04a41-df65-4e3c-f40c-3c2d49a77ef5"
      },
      "source": [
        "train.groupby('Age').agg({'Purchase': 'mean'}).show()"
      ],
      "execution_count": 29,
      "outputs": [
        {
          "output_type": "stream",
          "name": "stdout",
          "text": [
            "+-----+-----------------+\n",
            "|  Age|    avg(Purchase)|\n",
            "+-----+-----------------+\n",
            "|18-25|9169.663606261289|\n",
            "|26-35|9252.690632869888|\n",
            "| 0-17|8933.464640444974|\n",
            "|46-50|9208.625697468327|\n",
            "|51-55|9534.808030960236|\n",
            "|36-45|9331.350694917874|\n",
            "|  55+|9336.280459449405|\n",
            "+-----+-----------------+\n",
            "\n"
          ]
        }
      ]
    },
    {
      "cell_type": "code",
      "metadata": {
        "id": "syYsTjH_8Gns",
        "colab": {
          "base_uri": "https://localhost:8080/"
        },
        "outputId": "abd355d1-06a1-4c1d-cc63-43e179ae2d72"
      },
      "source": [
        "train.groupby('Age').agg({'Purchase': 'max'}).show()"
      ],
      "execution_count": 30,
      "outputs": [
        {
          "output_type": "stream",
          "name": "stdout",
          "text": [
            "+-----+-------------+\n",
            "|  Age|max(Purchase)|\n",
            "+-----+-------------+\n",
            "|18-25|        23958|\n",
            "|26-35|        23961|\n",
            "| 0-17|        23955|\n",
            "|46-50|        23960|\n",
            "|51-55|        23960|\n",
            "|36-45|        23960|\n",
            "|  55+|        23960|\n",
            "+-----+-------------+\n",
            "\n"
          ]
        }
      ]
    },
    {
      "cell_type": "code",
      "metadata": {
        "id": "kuOTSspC-Qny",
        "colab": {
          "base_uri": "https://localhost:8080/"
        },
        "outputId": "69d4cc1b-5230-43bb-80b4-72c4e8131e93"
      },
      "source": [
        "train.groupby('Age').count().show()"
      ],
      "execution_count": 31,
      "outputs": [
        {
          "output_type": "stream",
          "name": "stdout",
          "text": [
            "+-----+------+\n",
            "|  Age| count|\n",
            "+-----+------+\n",
            "|18-25| 99660|\n",
            "|26-35|219587|\n",
            "| 0-17| 15102|\n",
            "|46-50| 45701|\n",
            "|51-55| 38501|\n",
            "|36-45|110013|\n",
            "|  55+| 21504|\n",
            "+-----+------+\n",
            "\n"
          ]
        }
      ]
    },
    {
      "cell_type": "code",
      "metadata": {
        "id": "HcVSkcLX_v8G",
        "colab": {
          "base_uri": "https://localhost:8080/"
        },
        "outputId": "f389d00b-c730-4d63-d292-a8235234ed1d"
      },
      "source": [
        "t1 = train.sample(False, 0.2, 42)\n",
        "t2 = train.sample(False, 0.2, 43)\n",
        "t1.count(),t2.count()"
      ],
      "execution_count": 32,
      "outputs": [
        {
          "output_type": "execute_result",
          "data": {
            "text/plain": [
              "(110465, 110180)"
            ]
          },
          "metadata": {},
          "execution_count": 32
        }
      ]
    },
    {
      "cell_type": "code",
      "metadata": {
        "colab": {
          "base_uri": "https://localhost:8080/"
        },
        "id": "HiFTbida9Y1Q",
        "outputId": "c4885839-1985-4da9-c909-f7cc978772aa"
      },
      "source": [
        "t1 = train.sample(False, 0.2, 1142)\n",
        "t2 = train.sample(False, 0.2, 2243)\n",
        "t1.count(),t2.count()"
      ],
      "execution_count": 33,
      "outputs": [
        {
          "output_type": "execute_result",
          "data": {
            "text/plain": [
              "(110001, 109453)"
            ]
          },
          "metadata": {},
          "execution_count": 33
        }
      ]
    },
    {
      "cell_type": "code",
      "metadata": {
        "id": "YecoKnI9AK2-",
        "colab": {
          "base_uri": "https://localhost:8080/"
        },
        "outputId": "c1da879d-3e8f-4f24-f309-c8efcde949fa"
      },
      "source": [
        "#train.select('User_ID').rdd.map(lambda x:(x,1)).take(5)\n",
        "train.select('Product_ID').rdd.map(lambda x:(x,1)).take(5)"
      ],
      "execution_count": 34,
      "outputs": [
        {
          "output_type": "execute_result",
          "data": {
            "text/plain": [
              "[(Row(Product_ID='P00069042'), 1),\n",
              " (Row(Product_ID='P00248942'), 1),\n",
              " (Row(Product_ID='P00087842'), 1),\n",
              " (Row(Product_ID='P00085442'), 1),\n",
              " (Row(Product_ID='P00285442'), 1)]"
            ]
          },
          "metadata": {},
          "execution_count": 34
        }
      ]
    },
    {
      "cell_type": "code",
      "metadata": {
        "id": "HYIlzX5eAbPw",
        "colab": {
          "base_uri": "https://localhost:8080/"
        },
        "outputId": "acb21f4a-15fc-4d1a-c34b-a3f683f970c1"
      },
      "source": [
        "train.orderBy(train.Purchase.desc()).show(10)"
      ],
      "execution_count": 35,
      "outputs": [
        {
          "output_type": "stream",
          "name": "stdout",
          "text": [
            "+-------+----------+------+-----+----------+-------------+--------------------------+--------------+------------------+------------------+------------------+--------+\n",
            "|User_ID|Product_ID|Gender|  Age|Occupation|City_Category|Stay_In_Current_City_Years|Marital_Status|Product_Category_1|Product_Category_2|Product_Category_3|Purchase|\n",
            "+-------+----------+------+-----+----------+-------------+--------------------------+--------------+------------------+------------------+------------------+--------+\n",
            "|1003160| P00052842|     M|26-35|        17|            C|                         3|             0|                10|                15|              NULL|   23961|\n",
            "|1001474| P00052842|     M|26-35|         4|            A|                         2|             1|                10|                15|              NULL|   23961|\n",
            "|1002272| P00052842|     M|26-35|         0|            C|                         1|             0|                10|                15|              NULL|   23961|\n",
            "|1001577| P00052842|     M|  55+|         0|            C|                         1|             1|                10|                15|              NULL|   23960|\n",
            "|1003045| P00052842|     M|46-50|         1|            B|                         2|             1|                10|                15|              NULL|   23960|\n",
            "|1005848| P00119342|     M|51-55|        20|            A|                         0|             1|                10|                13|              NULL|   23960|\n",
            "|1005596| P00117642|     M|36-45|        12|            B|                         1|             0|                10|                16|              NULL|   23960|\n",
            "|1003947| P00116142|     M|26-35|         0|            C|                         3|             0|                10|                13|                16|   23959|\n",
            "|1001387| P00086242|     F|51-55|        13|            B|                         1|             1|                10|              NULL|              NULL|   23959|\n",
            "|1001178| P00116142|     M|  55+|         0|            C|                         1|             1|                10|                13|                16|   23958|\n",
            "+-------+----------+------+-----+----------+-------------+--------------------------+--------------+------------------+------------------+------------------+--------+\n",
            "only showing top 10 rows\n",
            "\n"
          ]
        }
      ]
    },
    {
      "cell_type": "code",
      "metadata": {
        "id": "Q3cHeKSX-pd5",
        "colab": {
          "base_uri": "https://localhost:8080/"
        },
        "outputId": "9fefe223-21bb-410a-c724-53b151895aeb"
      },
      "source": [
        "train.select('User_ID').rdd.map(lambda x:(x,1)).take(5)"
      ],
      "execution_count": 36,
      "outputs": [
        {
          "output_type": "execute_result",
          "data": {
            "text/plain": [
              "[(Row(User_ID=1000001), 1),\n",
              " (Row(User_ID=1000001), 1),\n",
              " (Row(User_ID=1000001), 1),\n",
              " (Row(User_ID=1000001), 1),\n",
              " (Row(User_ID=1000002), 1)]"
            ]
          },
          "metadata": {},
          "execution_count": 36
        }
      ]
    },
    {
      "cell_type": "markdown",
      "metadata": {
        "id": "u2Fc16qCAwSG"
      },
      "source": [
        "# SQL Query with Dataframe"
      ]
    },
    {
      "cell_type": "code",
      "metadata": {
        "id": "dl6Lo0jEA0S-"
      },
      "source": [
        "#train.registerAsTable('train_table')\n",
        "#train.registerTempTable(\"train_table\")\n",
        "train.createOrReplaceTempView(\"train_table\")"
      ],
      "execution_count": null,
      "outputs": []
    },
    {
      "cell_type": "code",
      "metadata": {
        "id": "_EdYlpggBqw6",
        "colab": {
          "base_uri": "https://localhost:8080/"
        },
        "outputId": "6d0cf803-dfe4-4743-fe25-aaf8171ce9b3"
      },
      "source": [
        "#SQLContext is deprecated\n",
        "# --- not to be used\n",
        "#sqlContext.sql('select Product_ID from train_table').show(5)\n",
        "#sqlContext.sql('select Product_ID, Product_Category_1 from train_table').show(5)\n",
        "spark.sql('select Product_ID, Product_Category_1 from train_table').show(5)"
      ],
      "execution_count": null,
      "outputs": [
        {
          "output_type": "stream",
          "name": "stdout",
          "text": [
            "+----------+------------------+\n",
            "|Product_ID|Product_Category_1|\n",
            "+----------+------------------+\n",
            "| P00069042|                 3|\n",
            "| P00248942|                 1|\n",
            "| P00087842|                12|\n",
            "| P00085442|                12|\n",
            "| P00285442|                 8|\n",
            "+----------+------------------+\n",
            "only showing top 5 rows\n",
            "\n"
          ]
        }
      ]
    },
    {
      "cell_type": "code",
      "metadata": {
        "id": "KzbAWBW1B0fS",
        "colab": {
          "base_uri": "https://localhost:8080/"
        },
        "outputId": "2265a36c-a4ee-4dbf-e9fb-1f663a14f2b2"
      },
      "source": [
        "#sqlContext.sql('select Age, max(Purchase) from train_table group by Age').show()\n",
        "spark.sql('select Age, max(Purchase) from train_table group by Age').show()"
      ],
      "execution_count": null,
      "outputs": [
        {
          "output_type": "stream",
          "name": "stdout",
          "text": [
            "+-----+-------------+\n",
            "|  Age|max(Purchase)|\n",
            "+-----+-------------+\n",
            "|18-25|        23958|\n",
            "|26-35|        23961|\n",
            "| 0-17|        23955|\n",
            "|46-50|        23960|\n",
            "|51-55|        23960|\n",
            "|36-45|        23960|\n",
            "|  55+|        23960|\n",
            "+-----+-------------+\n",
            "\n"
          ]
        }
      ]
    },
    {
      "cell_type": "code",
      "source": [
        "from datetime import datetime\n",
        "import pytz\n",
        "print('signed off at  ',datetime.now(pytz.timezone('Asia/Kolkata')))"
      ],
      "metadata": {
        "id": "aPNd3Huez3uM",
        "outputId": "4663d06d-0219-4593-a0f9-b6bfee8c4579",
        "colab": {
          "base_uri": "https://localhost:8080/"
        }
      },
      "execution_count": 37,
      "outputs": [
        {
          "output_type": "stream",
          "name": "stdout",
          "text": [
            "signed off at   2024-01-22 05:51:55.806819+05:30\n"
          ]
        }
      ]
    },
    {
      "cell_type": "markdown",
      "metadata": {
        "id": "-t4BbdlyCgzr"
      },
      "source": [
        "#Chronobooks <br>\n",
        "Two science fiction novels by Prithwis Mukerjee. A dystopian Earth. A technocratic society managed by artificial intelligence. Escape and epiphany on Mars. Can man and machine, carbon and silicon explore and escape into other dimensions of existence? An Indic perspective rooted in Advaita Vedanta and the Divine Feminine.  [More information](http://bit.ly/chronobooks) <br>\n",
        "![alt text](https://github.com/Praxis-QR/RDWH/raw/main/images/CTCYFooter-1.png)"
      ]
    }
  ]
}