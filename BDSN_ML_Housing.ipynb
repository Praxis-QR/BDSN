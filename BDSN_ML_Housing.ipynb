{
  "nbformat": 4,
  "nbformat_minor": 0,
  "metadata": {
    "colab": {
      "name": "BDSN_ML_Housing",
      "provenance": [],
      "include_colab_link": true
    },
    "kernelspec": {
      "name": "python3",
      "display_name": "Python 3"
    }
  },
  "cells": [
    {
      "cell_type": "markdown",
      "metadata": {
        "id": "view-in-github",
        "colab_type": "text"
      },
      "source": [
        "<a href=\"https://colab.research.google.com/github/Praxis-QR/BDSN/blob/main/BDSN_ML_Housing.ipynb\" target=\"_parent\"><img src=\"https://colab.research.google.com/assets/colab-badge.svg\" alt=\"Open In Colab\"/></a>"
      ]
    },
    {
      "cell_type": "markdown",
      "metadata": {
        "id": "pKSccZgVu7J8"
      },
      "source": [
        "![CC-BY-SA](https://licensebuttons.net/l/by-sa/3.0/88x31.png)<br>\n",
        "<hr>\n",
        "\n",
        "![alt text](https://github.com/Praxis-QR/RDWH/raw/main/images/YantraJaalBanner.png)<br>\n",
        "\n",
        "\n",
        "<hr>\n",
        "\n",
        "[Prithwis Mukerjee](http://www.linkedin.com/in/prithwis)<br>"
      ]
    },
    {
      "cell_type": "code",
      "source": [
        "from datetime import datetime\n",
        "import pytz\n",
        "print('Tested',datetime.now(pytz.timezone('Asia/Calcutta')))"
      ],
      "metadata": {
        "id": "ClAuTwuToGuE",
        "outputId": "1c76472b-1520-4b54-bc4f-d65d2072c288",
        "colab": {
          "base_uri": "https://localhost:8080/"
        }
      },
      "execution_count": 1,
      "outputs": [
        {
          "output_type": "stream",
          "name": "stdout",
          "text": [
            "Tested 2024-07-03 09:36:40.558626+05:30\n"
          ]
        }
      ]
    },
    {
      "cell_type": "markdown",
      "metadata": {
        "id": "bR-6MzHBr88H"
      },
      "source": [
        "# BDS Housing - Machine Learning <br>\n",
        "https://www.datacamp.com/community/tutorials/apache-spark-tutorial-machine-learning"
      ]
    },
    {
      "cell_type": "markdown",
      "metadata": {
        "id": "yqGXJ8DIxzWN"
      },
      "source": [
        "# Initialise"
      ]
    },
    {
      "cell_type": "markdown",
      "source": [
        "## Manual Install - deprecated"
      ],
      "metadata": {
        "id": "HICvwwOMsbcj"
      }
    },
    {
      "cell_type": "code",
      "metadata": {
        "id": "KOr826zIx3Kh"
      },
      "source": [
        "#!apt-get update > /dev/null\n",
        "#!apt-get install openjdk-8-jdk-headless -qq > /dev/null\n",
        "#!wget -q http://apache.osuosl.org/spark/spark-2.2.2/spark-2.2.2-bin-hadoop2.7.tgz\n",
        "#!wget -q http://apache.osuosl.org/spark/spark-2.4.0/spark-2.4.0-bin-hadoop2.7.tgz\n",
        "#wget -q http://apache.osuosl.org/spark/spark-2.4.5/spark-2.4.5-bin-hadoop2.7.tgz\n",
        "#!wget -q http://apache.osuosl.org/spark/spark-2.4.6/spark-2.4.6-bin-hadoop2.7.tgz\n",
        "#!wget -q http://apache.osuosl.org/spark/spark-3.0.1/spark-3.0.1-bin-hadoop3.2.tgz\n",
        "#!wget -q http://apache.osuosl.org/spark/spark-3.1.2/spark-3.1.2-bin-hadoop3.2.tgz\n",
        "#\n",
        "# if the current version of Spark is not used, there may be errors\n",
        "# check here for current versions http://apache.osuosl.org/spark\n",
        "#\n",
        "#!tar xf spark-2.4.0-bin-hadoop2.7.tgz\n",
        "#!tar xf spark-2.4.5-bin-hadoop2.7.tgz\n",
        "#!tar xf spark-2.4.6-bin-hadoop2.7.tgz\n",
        "#!tar xf spark-3.0.1-bin-hadoop3.2.tgz\n",
        "#!tar xf spark-3.1.2-bin-hadoop3.2.tgz\n",
        "#!pip install -q findspark\n",
        "#!pip install -q pyspark"
      ],
      "execution_count": 2,
      "outputs": []
    },
    {
      "cell_type": "code",
      "source": [],
      "metadata": {
        "id": "vXhhORG9oNBR"
      },
      "execution_count": 2,
      "outputs": []
    },
    {
      "cell_type": "code",
      "metadata": {
        "id": "0K_l58UKyQ65"
      },
      "source": [
        "#import os\n",
        "#os.environ[\"JAVA_HOME\"] = \"/usr/lib/jvm/java-8-openjdk-amd64\"\n",
        "#os.environ[\"SPARK_HOME\"] = \"/content/spark-2.4.0-bin-hadoop2.7\"\n",
        "#os.environ[\"SPARK_HOME\"] = \"/content/spark-2.4.5-bin-hadoop2.7\"\n",
        "#os.environ[\"SPARK_HOME\"] = \"/content/spark-2.4.6-bin-hadoop2.7\"\n",
        "#os.environ[\"SPARK_HOME\"] = \"/content/spark-3.0.1-bin-hadoop3.2\"\n",
        "#os.environ[\"SPARK_HOME\"] = \"/content/spark-3.1.2-bin-hadoop3.2\""
      ],
      "execution_count": 3,
      "outputs": []
    },
    {
      "cell_type": "markdown",
      "source": [
        "## PIP Install - currently being used"
      ],
      "metadata": {
        "id": "ZLTIcLnstJT_"
      }
    },
    {
      "cell_type": "code",
      "metadata": {
        "id": "f3hdu86YyVEW",
        "colab": {
          "base_uri": "https://localhost:8080/"
        },
        "outputId": "403ee166-6caf-4dcf-b550-a82a89e5a585"
      },
      "source": [
        "#import findspark\n",
        "#findspark.init()\n",
        "!pip3 install -q pyspark\n",
        "from pyspark.sql import SparkSession\n",
        "spark = SparkSession.builder.master(\"local[*]\").getOrCreate()\n",
        "sc = spark.sparkContext\n",
        "#sc"
      ],
      "execution_count": 4,
      "outputs": [
        {
          "output_type": "stream",
          "name": "stdout",
          "text": [
            "\u001b[2K     \u001b[90m━━━━━━━━━━━━━━━━━━━━━━━━━━━━━━━━━━━━━━━━\u001b[0m \u001b[32m317.0/317.0 MB\u001b[0m \u001b[31m3.6 MB/s\u001b[0m eta \u001b[36m0:00:00\u001b[0m\n",
            "\u001b[?25h  Preparing metadata (setup.py) ... \u001b[?25l\u001b[?25hdone\n",
            "  Building wheel for pyspark (setup.py) ... \u001b[?25l\u001b[?25hdone\n"
          ]
        }
      ]
    },
    {
      "cell_type": "code",
      "source": [
        "sc"
      ],
      "metadata": {
        "id": "lD6Gi85EM1YH",
        "outputId": "80259b5b-f183-4891-aca9-fa70307c322e",
        "colab": {
          "base_uri": "https://localhost:8080/",
          "height": 196
        }
      },
      "execution_count": 5,
      "outputs": [
        {
          "output_type": "execute_result",
          "data": {
            "text/plain": [
              "<SparkContext master=local[*] appName=pyspark-shell>"
            ],
            "text/html": [
              "\n",
              "        <div>\n",
              "            <p><b>SparkContext</b></p>\n",
              "\n",
              "            <p><a href=\"http://18d2130ea205:4040\">Spark UI</a></p>\n",
              "\n",
              "            <dl>\n",
              "              <dt>Version</dt>\n",
              "                <dd><code>v3.5.1</code></dd>\n",
              "              <dt>Master</dt>\n",
              "                <dd><code>local[*]</code></dd>\n",
              "              <dt>AppName</dt>\n",
              "                <dd><code>pyspark-shell</code></dd>\n",
              "            </dl>\n",
              "        </div>\n",
              "        "
            ]
          },
          "metadata": {},
          "execution_count": 5
        }
      ]
    },
    {
      "cell_type": "markdown",
      "metadata": {
        "id": "lPnrUzlSsLN2"
      },
      "source": [
        "# Load Data <br>\n",
        "Data is available at https://drive.google.com/drive/folders/1Xj1YY9DE19-N-EvOtI_sfkozds-6fLG_?usp=sharing"
      ]
    },
    {
      "cell_type": "code",
      "metadata": {
        "id": "IW476lcv5SGE"
      },
      "source": [
        "# Original Data\n",
        "#!wget http://www.dcc.fc.up.pt/~ltorgo/Regression/cal_housing.tgz\n",
        "# Data from Google Drive\n",
        "#!gdown https://drive.google.com/uc?id=1kizAZ1XPf-eyiSCo8SiDKgyOxgYkm9A5\n",
        "#!gdown https://drive.google.com/uc?id=1tQvUiBdTu1p-JJwHj472ruTtpfOWwvKn\n",
        "\n",
        "!wget -q https://github.com/Praxis-QR/BDSN/raw/main/data/ML/housing-data.txt\n",
        "!wget -q https://raw.githubusercontent.com/Praxis-QR/BDSN/main/data/ML/housing-header.txt"
      ],
      "execution_count": 6,
      "outputs": []
    },
    {
      "cell_type": "code",
      "metadata": {
        "id": "8ORUSO915hDn"
      },
      "source": [
        "# if pulling original data\n",
        "#!tar xf cal_housing.tgz\n"
      ],
      "execution_count": 7,
      "outputs": []
    },
    {
      "cell_type": "code",
      "source": [
        "!cat housing-header.txt"
      ],
      "metadata": {
        "id": "BLqObw9PMX83",
        "outputId": "32588ed7-f575-4c41-fb64-82c14b653288",
        "colab": {
          "base_uri": "https://localhost:8080/"
        }
      },
      "execution_count": 8,
      "outputs": [
        {
          "output_type": "stream",
          "name": "stdout",
          "text": [
            "median house value, median income, housing median age, total rooms, total bedrooms, population, households, latitude, longitude"
          ]
        }
      ]
    },
    {
      "cell_type": "code",
      "metadata": {
        "id": "vxj3uWAZye6P",
        "outputId": "b1ce2d98-0983-4d9e-9209-e7d9620dc276",
        "colab": {
          "base_uri": "https://localhost:8080/"
        }
      },
      "source": [
        "# Load in the header\n",
        "header = sc.textFile('housing-header.txt').flatMap(lambda l:l.split(\",\"))\n",
        "header.collect()"
      ],
      "execution_count": 9,
      "outputs": [
        {
          "output_type": "execute_result",
          "data": {
            "text/plain": [
              "['median house value',\n",
              " ' median income',\n",
              " ' housing median age',\n",
              " ' total rooms',\n",
              " ' total bedrooms',\n",
              " ' population',\n",
              " ' households',\n",
              " ' latitude',\n",
              " ' longitude']"
            ]
          },
          "metadata": {},
          "execution_count": 9
        }
      ]
    },
    {
      "cell_type": "code",
      "metadata": {
        "id": "iG98bSAR101T",
        "outputId": "5711c89a-c0f4-4cf5-c452-18aea3ffbc52",
        "colab": {
          "base_uri": "https://localhost:8080/"
        }
      },
      "source": [
        "housingRDD = sc.textFile('housing-data.txt').map(lambda l:l.split())\n",
        "#housingRDD = sc.textFile('CaliforniaHousing/cal_housing.data').map(lambda l:l.split())\n",
        "\n",
        "housingRDD.take(2)"
      ],
      "execution_count": 10,
      "outputs": [
        {
          "output_type": "execute_result",
          "data": {
            "text/plain": [
              "[['4.5260000000000000e+005',\n",
              "  '8.3252000000000006e+000',\n",
              "  '4.1000000000000000e+001',\n",
              "  '8.8000000000000000e+002',\n",
              "  '1.2900000000000000e+002',\n",
              "  '3.2200000000000000e+002',\n",
              "  '1.2600000000000000e+002',\n",
              "  '3.7880000000000003e+001',\n",
              "  '-1.2223000000000000e+002'],\n",
              " ['3.5850000000000000e+005',\n",
              "  '8.3013999999999992e+000',\n",
              "  '2.1000000000000000e+001',\n",
              "  '7.0990000000000000e+003',\n",
              "  '1.1060000000000000e+003',\n",
              "  '2.4010000000000000e+003',\n",
              "  '1.1380000000000000e+003',\n",
              "  '3.7859999999999999e+001',\n",
              "  '-1.2222000000000000e+002']]"
            ]
          },
          "metadata": {},
          "execution_count": 10
        }
      ]
    },
    {
      "cell_type": "code",
      "metadata": {
        "id": "lhoYJvOg3YDG"
      },
      "source": [
        "# Import the necessary modules\n",
        "from pyspark.sql import Row"
      ],
      "execution_count": 11,
      "outputs": []
    },
    {
      "cell_type": "code",
      "metadata": {
        "id": "fJhAiBhV3j8h"
      },
      "source": [
        "# Map the RDD to a DF\n",
        "housing_df = housingRDD.map(lambda line: Row(medianHouseValue=float(line[0]),\n",
        "                              medianIncome=float(line[1]),\n",
        "                              housingMedianAge=float(line[2]),\n",
        "                              totalRooms=float(line[3]),\n",
        "                              totalBedrooms=float(line[4]),\n",
        "                              population=float(line[5]),\n",
        "                              households=float(line[6]),\n",
        "                              latitude=float(line[7]),\n",
        "                              longitude=float(line[8]))).toDF()"
      ],
      "execution_count": 12,
      "outputs": []
    },
    {
      "cell_type": "code",
      "metadata": {
        "id": "vYXFo2iW4gby",
        "colab": {
          "base_uri": "https://localhost:8080/"
        },
        "outputId": "245aac1c-7b87-49e8-b002-e0865a3f3128"
      },
      "source": [
        "housing_df.show()"
      ],
      "execution_count": 13,
      "outputs": [
        {
          "output_type": "stream",
          "name": "stdout",
          "text": [
            "+----------------+------------+----------------+----------+-------------+----------+----------+--------+---------+\n",
            "|medianHouseValue|medianIncome|housingMedianAge|totalRooms|totalBedrooms|population|households|latitude|longitude|\n",
            "+----------------+------------+----------------+----------+-------------+----------+----------+--------+---------+\n",
            "|        452600.0|      8.3252|            41.0|     880.0|        129.0|     322.0|     126.0|   37.88|  -122.23|\n",
            "|        358500.0|      8.3014|            21.0|    7099.0|       1106.0|    2401.0|    1138.0|   37.86|  -122.22|\n",
            "|        352100.0|      7.2574|            52.0|    1467.0|        190.0|     496.0|     177.0|   37.85|  -122.24|\n",
            "|        341300.0|      5.6431|            52.0|    1274.0|        235.0|     558.0|     219.0|   37.85|  -122.25|\n",
            "|        342200.0|      3.8462|            52.0|    1627.0|        280.0|     565.0|     259.0|   37.85|  -122.25|\n",
            "|        269700.0|      4.0368|            52.0|     919.0|        213.0|     413.0|     193.0|   37.85|  -122.25|\n",
            "|        299200.0|      3.6591|            52.0|    2535.0|        489.0|    1094.0|     514.0|   37.84|  -122.25|\n",
            "|        241400.0|        3.12|            52.0|    3104.0|        687.0|    1157.0|     647.0|   37.84|  -122.25|\n",
            "|        226700.0|      2.0804|            42.0|    2555.0|        665.0|    1206.0|     595.0|   37.84|  -122.26|\n",
            "|        261100.0|      3.6912|            52.0|    3549.0|        707.0|    1551.0|     714.0|   37.84|  -122.25|\n",
            "|        281500.0|      3.2031|            52.0|    2202.0|        434.0|     910.0|     402.0|   37.85|  -122.26|\n",
            "|        241800.0|      3.2705|            52.0|    3503.0|        752.0|    1504.0|     734.0|   37.85|  -122.26|\n",
            "|        213500.0|       3.075|            52.0|    2491.0|        474.0|    1098.0|     468.0|   37.85|  -122.26|\n",
            "|        191300.0|      2.6736|            52.0|     696.0|        191.0|     345.0|     174.0|   37.84|  -122.26|\n",
            "|        159200.0|      1.9167|            52.0|    2643.0|        626.0|    1212.0|     620.0|   37.85|  -122.26|\n",
            "|        140000.0|       2.125|            50.0|    1120.0|        283.0|     697.0|     264.0|   37.85|  -122.26|\n",
            "|        152500.0|       2.775|            52.0|    1966.0|        347.0|     793.0|     331.0|   37.85|  -122.27|\n",
            "|        155500.0|      2.1202|            52.0|    1228.0|        293.0|     648.0|     303.0|   37.85|  -122.27|\n",
            "|        158700.0|      1.9911|            50.0|    2239.0|        455.0|     990.0|     419.0|   37.84|  -122.26|\n",
            "|        162900.0|      2.6033|            52.0|    1503.0|        298.0|     690.0|     275.0|   37.84|  -122.27|\n",
            "+----------------+------------+----------------+----------+-------------+----------+----------+--------+---------+\n",
            "only showing top 20 rows\n",
            "\n"
          ]
        }
      ]
    },
    {
      "cell_type": "code",
      "metadata": {
        "id": "xQKo27lw83AA",
        "colab": {
          "base_uri": "https://localhost:8080/"
        },
        "outputId": "02e92f0b-5613-40a1-a2bc-49ab01e4c6fb"
      },
      "source": [
        "housing_df.dtypes"
      ],
      "execution_count": 14,
      "outputs": [
        {
          "output_type": "execute_result",
          "data": {
            "text/plain": [
              "[('medianHouseValue', 'double'),\n",
              " ('medianIncome', 'double'),\n",
              " ('housingMedianAge', 'double'),\n",
              " ('totalRooms', 'double'),\n",
              " ('totalBedrooms', 'double'),\n",
              " ('population', 'double'),\n",
              " ('households', 'double'),\n",
              " ('latitude', 'double'),\n",
              " ('longitude', 'double')]"
            ]
          },
          "metadata": {},
          "execution_count": 14
        }
      ]
    },
    {
      "cell_type": "code",
      "metadata": {
        "id": "kxpPGoCN8-QY",
        "colab": {
          "base_uri": "https://localhost:8080/"
        },
        "outputId": "4ef8cbaa-99d8-41f5-cd47-541cd8e54c3e"
      },
      "source": [
        "housing_df.printSchema()"
      ],
      "execution_count": 15,
      "outputs": [
        {
          "output_type": "stream",
          "name": "stdout",
          "text": [
            "root\n",
            " |-- medianHouseValue: double (nullable = true)\n",
            " |-- medianIncome: double (nullable = true)\n",
            " |-- housingMedianAge: double (nullable = true)\n",
            " |-- totalRooms: double (nullable = true)\n",
            " |-- totalBedrooms: double (nullable = true)\n",
            " |-- population: double (nullable = true)\n",
            " |-- households: double (nullable = true)\n",
            " |-- latitude: double (nullable = true)\n",
            " |-- longitude: double (nullable = true)\n",
            "\n"
          ]
        }
      ]
    },
    {
      "cell_type": "markdown",
      "metadata": {
        "id": "xWDPhWNV9ekc"
      },
      "source": [
        "# Data Exploration"
      ]
    },
    {
      "cell_type": "code",
      "metadata": {
        "id": "QXkY4URH9u_m",
        "colab": {
          "base_uri": "https://localhost:8080/"
        },
        "outputId": "5bb1e427-693e-4355-e63a-4d8706d5b7c3"
      },
      "source": [
        "housing_df.select('population','totalBedRooms').show(10)"
      ],
      "execution_count": 16,
      "outputs": [
        {
          "output_type": "stream",
          "name": "stdout",
          "text": [
            "+----------+-------------+\n",
            "|population|totalBedRooms|\n",
            "+----------+-------------+\n",
            "|     322.0|        129.0|\n",
            "|    2401.0|       1106.0|\n",
            "|     496.0|        190.0|\n",
            "|     558.0|        235.0|\n",
            "|     565.0|        280.0|\n",
            "|     413.0|        213.0|\n",
            "|    1094.0|        489.0|\n",
            "|    1157.0|        687.0|\n",
            "|    1206.0|        665.0|\n",
            "|    1551.0|        707.0|\n",
            "+----------+-------------+\n",
            "only showing top 10 rows\n",
            "\n"
          ]
        }
      ]
    },
    {
      "cell_type": "code",
      "metadata": {
        "id": "rXvbHata95nc",
        "colab": {
          "base_uri": "https://localhost:8080/"
        },
        "outputId": "def1b020-75e0-4e80-a2f3-0adda3d3a3cb"
      },
      "source": [
        "housing_df.groupBy(\"housingMedianAge\").count().sort(\"housingMedianAge\",ascending=False).show()"
      ],
      "execution_count": 17,
      "outputs": [
        {
          "output_type": "stream",
          "name": "stdout",
          "text": [
            "+----------------+-----+\n",
            "|housingMedianAge|count|\n",
            "+----------------+-----+\n",
            "|            52.0| 1273|\n",
            "|            51.0|   48|\n",
            "|            50.0|  136|\n",
            "|            49.0|  134|\n",
            "|            48.0|  177|\n",
            "|            47.0|  198|\n",
            "|            46.0|  245|\n",
            "|            45.0|  294|\n",
            "|            44.0|  356|\n",
            "|            43.0|  353|\n",
            "|            42.0|  368|\n",
            "|            41.0|  296|\n",
            "|            40.0|  304|\n",
            "|            39.0|  369|\n",
            "|            38.0|  394|\n",
            "|            37.0|  537|\n",
            "|            36.0|  862|\n",
            "|            35.0|  824|\n",
            "|            34.0|  689|\n",
            "|            33.0|  615|\n",
            "+----------------+-----+\n",
            "only showing top 20 rows\n",
            "\n"
          ]
        }
      ]
    },
    {
      "cell_type": "code",
      "source": [
        "housing_df.groupBy(\"housingMedianAge\").count().sort(\"count\",ascending=False).show()"
      ],
      "metadata": {
        "id": "Lup68YX9NHyH",
        "outputId": "b0642b56-b556-4b36-fefe-ee8328834d87",
        "colab": {
          "base_uri": "https://localhost:8080/"
        }
      },
      "execution_count": 18,
      "outputs": [
        {
          "output_type": "stream",
          "name": "stdout",
          "text": [
            "+----------------+-----+\n",
            "|housingMedianAge|count|\n",
            "+----------------+-----+\n",
            "|            52.0| 1273|\n",
            "|            36.0|  862|\n",
            "|            35.0|  824|\n",
            "|            16.0|  771|\n",
            "|            17.0|  698|\n",
            "|            34.0|  689|\n",
            "|            26.0|  619|\n",
            "|            33.0|  615|\n",
            "|            18.0|  570|\n",
            "|            25.0|  566|\n",
            "|            32.0|  565|\n",
            "|            37.0|  537|\n",
            "|            15.0|  512|\n",
            "|            19.0|  502|\n",
            "|            27.0|  488|\n",
            "|            24.0|  478|\n",
            "|            30.0|  476|\n",
            "|            28.0|  471|\n",
            "|            20.0|  465|\n",
            "|            29.0|  461|\n",
            "+----------------+-----+\n",
            "only showing top 20 rows\n",
            "\n"
          ]
        }
      ]
    },
    {
      "cell_type": "code",
      "metadata": {
        "id": "KOIR3Vhj-GHS",
        "colab": {
          "base_uri": "https://localhost:8080/"
        },
        "outputId": "359c8175-f0c6-482a-9da3-dfb7b19fb3d2"
      },
      "source": [
        "housing_df.describe().show()"
      ],
      "execution_count": 19,
      "outputs": [
        {
          "output_type": "stream",
          "name": "stdout",
          "text": [
            "+-------+------------------+------------------+------------------+------------------+------------------+------------------+------------------+------------------+-------------------+\n",
            "|summary|  medianHouseValue|      medianIncome|  housingMedianAge|        totalRooms|     totalBedrooms|        population|        households|          latitude|          longitude|\n",
            "+-------+------------------+------------------+------------------+------------------+------------------+------------------+------------------+------------------+-------------------+\n",
            "|  count|             20640|             20640|             20640|             20640|             20640|             20640|             20640|             20640|              20640|\n",
            "|   mean|206855.81690891474| 3.870671002906978|28.639486434108527|2635.7630813953488| 537.8980135658915|1425.4767441860465| 499.5396802325581| 35.63186143410859|-119.56970445736413|\n",
            "| stddev|115395.61587441381|1.8998217179452654|12.585557612111637|2181.6152515827985|421.24790594313146|1132.4621217653407|382.32975283161124|2.1359523974571077|  2.003531723502575|\n",
            "|    min|           14999.0|            0.4999|               1.0|               2.0|               1.0|               3.0|               1.0|             32.54|            -124.35|\n",
            "|    max|          500001.0|           15.0001|              52.0|           39320.0|            6445.0|           35682.0|            6082.0|             41.95|            -114.31|\n",
            "+-------+------------------+------------------+------------------+------------------+------------------+------------------+------------------+------------------+-------------------+\n",
            "\n"
          ]
        }
      ]
    },
    {
      "cell_type": "markdown",
      "metadata": {
        "id": "-9LHzUe4-WT9"
      },
      "source": [
        "# Data Pre-processing"
      ]
    },
    {
      "cell_type": "code",
      "metadata": {
        "id": "EBdA-r2F-81p",
        "colab": {
          "base_uri": "https://localhost:8080/"
        },
        "outputId": "13c5b706-c1e2-4931-d9fe-e112937c4947"
      },
      "source": [
        "housing_df.take(2)"
      ],
      "execution_count": 20,
      "outputs": [
        {
          "output_type": "execute_result",
          "data": {
            "text/plain": [
              "[Row(medianHouseValue=452600.0, medianIncome=8.3252, housingMedianAge=41.0, totalRooms=880.0, totalBedrooms=129.0, population=322.0, households=126.0, latitude=37.88, longitude=-122.23),\n",
              " Row(medianHouseValue=358500.0, medianIncome=8.3014, housingMedianAge=21.0, totalRooms=7099.0, totalBedrooms=1106.0, population=2401.0, households=1138.0, latitude=37.86, longitude=-122.22)]"
            ]
          },
          "metadata": {},
          "execution_count": 20
        }
      ]
    },
    {
      "cell_type": "code",
      "metadata": {
        "id": "wSv5ue2E_Ghe",
        "colab": {
          "base_uri": "https://localhost:8080/"
        },
        "outputId": "d3047999-b5fc-45b7-f5cd-c4358a0bb8a7"
      },
      "source": [
        "# Import all from `sql.functions`\n",
        "from pyspark.sql.functions import *\n",
        "\n",
        "# Adjust the values of `medianHouseValue`\n",
        "housing_df = housing_df.withColumn(\"medianHouseValue\", col(\"medianHouseValue\")/100000)\n",
        "\n",
        "# Show the first 2 lines of `df`\n",
        "housing_df.take(2)"
      ],
      "execution_count": 21,
      "outputs": [
        {
          "output_type": "execute_result",
          "data": {
            "text/plain": [
              "[Row(medianHouseValue=4.526, medianIncome=8.3252, housingMedianAge=41.0, totalRooms=880.0, totalBedrooms=129.0, population=322.0, households=126.0, latitude=37.88, longitude=-122.23),\n",
              " Row(medianHouseValue=3.585, medianIncome=8.3014, housingMedianAge=21.0, totalRooms=7099.0, totalBedrooms=1106.0, population=2401.0, households=1138.0, latitude=37.86, longitude=-122.22)]"
            ]
          },
          "metadata": {},
          "execution_count": 21
        }
      ]
    },
    {
      "cell_type": "markdown",
      "metadata": {
        "id": "pikZdTv3_lCp"
      },
      "source": [
        "# Feature Engineering"
      ]
    },
    {
      "cell_type": "code",
      "metadata": {
        "id": "9xG8bJW4_nt8",
        "colab": {
          "base_uri": "https://localhost:8080/"
        },
        "outputId": "c12f165b-1451-480d-a3b4-529fe953d277"
      },
      "source": [
        "# Import all from `sql.functions` if you haven't yet\n",
        "from pyspark.sql.functions import *\n",
        "\n",
        "# Divide `totalRooms` by `households`\n",
        "roomsPerHousehold = housing_df.select(col(\"totalRooms\")/col(\"households\"))\n",
        "\n",
        "# Divide `population` by `households`\n",
        "populationPerHousehold = housing_df.select(col(\"population\")/col(\"households\"))\n",
        "\n",
        "# Divide `totalBedRooms` by `totalRooms`\n",
        "bedroomsPerRoom = housing_df.select(col(\"totalBedRooms\")/col(\"totalRooms\"))\n",
        "\n",
        "# Add the new columns to `df`\n",
        "housing_df = housing_df.withColumn(\"roomsPerHousehold\", col(\"totalRooms\")/col(\"households\")) \\\n",
        "   .withColumn(\"populationPerHousehold\", col(\"population\")/col(\"households\")) \\\n",
        "   .withColumn(\"bedroomsPerRoom\", col(\"totalBedRooms\")/col(\"totalRooms\"))\n",
        "\n",
        "# Inspect the result\n",
        "housing_df.first()\n"
      ],
      "execution_count": 22,
      "outputs": [
        {
          "output_type": "execute_result",
          "data": {
            "text/plain": [
              "Row(medianHouseValue=4.526, medianIncome=8.3252, housingMedianAge=41.0, totalRooms=880.0, totalBedrooms=129.0, population=322.0, households=126.0, latitude=37.88, longitude=-122.23, roomsPerHousehold=6.984126984126984, populationPerHousehold=2.5555555555555554, bedroomsPerRoom=0.14659090909090908)"
            ]
          },
          "metadata": {},
          "execution_count": 22
        }
      ]
    },
    {
      "cell_type": "code",
      "metadata": {
        "id": "uXYttF6RAjRn"
      },
      "source": [
        "# Re-order and select columns\n",
        "housing_df = housing_df.select(\"medianHouseValue\",\n",
        "              \"totalBedRooms\",\n",
        "              \"population\",\n",
        "              \"households\",\n",
        "              \"medianIncome\",\n",
        "              \"roomsPerHousehold\",\n",
        "              \"populationPerHousehold\",\n",
        "              \"bedroomsPerRoom\")"
      ],
      "execution_count": 23,
      "outputs": []
    },
    {
      "cell_type": "code",
      "metadata": {
        "id": "bnkuF3N0A0eg"
      },
      "source": [
        "# Import `DenseVector`\n",
        "from pyspark.ml.linalg import DenseVector\n",
        "\n",
        "# Define the `input_data`\n",
        "input_data = housing_df.rdd.map(lambda x: (x[0], DenseVector(x[1:])))\n",
        "\n",
        "# Replace `df` with the new DataFrame\n",
        "housing_df2 = spark.createDataFrame(input_data, [\"label\", \"features\"])                             # Manual Transformer"
      ],
      "execution_count": 24,
      "outputs": []
    },
    {
      "cell_type": "code",
      "metadata": {
        "id": "2UjM0KuBBJ__",
        "colab": {
          "base_uri": "https://localhost:8080/"
        },
        "outputId": "55bda25d-251b-4930-95d5-815071a043fe"
      },
      "source": [
        "housing_df2.show()"
      ],
      "execution_count": 25,
      "outputs": [
        {
          "output_type": "stream",
          "name": "stdout",
          "text": [
            "+-----+--------------------+\n",
            "|label|            features|\n",
            "+-----+--------------------+\n",
            "|4.526|[129.0,322.0,126....|\n",
            "|3.585|[1106.0,2401.0,11...|\n",
            "|3.521|[190.0,496.0,177....|\n",
            "|3.413|[235.0,558.0,219....|\n",
            "|3.422|[280.0,565.0,259....|\n",
            "|2.697|[213.0,413.0,193....|\n",
            "|2.992|[489.0,1094.0,514...|\n",
            "|2.414|[687.0,1157.0,647...|\n",
            "|2.267|[665.0,1206.0,595...|\n",
            "|2.611|[707.0,1551.0,714...|\n",
            "|2.815|[434.0,910.0,402....|\n",
            "|2.418|[752.0,1504.0,734...|\n",
            "|2.135|[474.0,1098.0,468...|\n",
            "|1.913|[191.0,345.0,174....|\n",
            "|1.592|[626.0,1212.0,620...|\n",
            "|  1.4|[283.0,697.0,264....|\n",
            "|1.525|[347.0,793.0,331....|\n",
            "|1.555|[293.0,648.0,303....|\n",
            "|1.587|[455.0,990.0,419....|\n",
            "|1.629|[298.0,690.0,275....|\n",
            "+-----+--------------------+\n",
            "only showing top 20 rows\n",
            "\n"
          ]
        }
      ]
    },
    {
      "cell_type": "code",
      "metadata": {
        "id": "dxM7WN0eBlR8"
      },
      "source": [
        "# Import `StandardScaler`\n",
        "from pyspark.ml.feature import StandardScaler\n",
        "\n",
        "# Initialize the `standardScaler`\n",
        "standardScaler = StandardScaler(inputCol=\"features\", outputCol=\"features_scaled\")\n",
        "\n",
        "# Fit the DataFrame to the scaler\n",
        "scaler = standardScaler.fit(housing_df2)                                                  # This, scalar, is a Transformer that we create\n",
        "\n",
        "# Transform the data in `df` with the scaler\n",
        "scaled_housing_df2 = scaler.transform(housing_df2)                                        # Then we use this Transformer"
      ],
      "execution_count": 26,
      "outputs": []
    },
    {
      "cell_type": "code",
      "metadata": {
        "id": "aeiFhWeQB4R0",
        "colab": {
          "base_uri": "https://localhost:8080/"
        },
        "outputId": "fc4c7a4c-fc90-4ca3-c668-9329792a5d8f"
      },
      "source": [
        "# Inspect the result\n",
        "scaled_housing_df2.take(2)"
      ],
      "execution_count": 27,
      "outputs": [
        {
          "output_type": "execute_result",
          "data": {
            "text/plain": [
              "[Row(label=4.526, features=DenseVector([129.0, 322.0, 126.0, 8.3252, 6.9841, 2.5556, 0.1466]), features_scaled=DenseVector([0.3062, 0.2843, 0.3296, 4.3821, 2.8228, 0.2461, 2.5264])),\n",
              " Row(label=3.585, features=DenseVector([1106.0, 2401.0, 1138.0, 8.3014, 6.2381, 2.1098, 0.1558]), features_scaled=DenseVector([2.6255, 2.1202, 2.9765, 4.3696, 2.5213, 0.2031, 2.6851]))]"
            ]
          },
          "metadata": {},
          "execution_count": 27
        }
      ]
    },
    {
      "cell_type": "markdown",
      "metadata": {
        "id": "1gE7YBeNDeRX"
      },
      "source": [
        "# Building ML Models"
      ]
    },
    {
      "cell_type": "code",
      "metadata": {
        "id": "Lrlhli4EDmbK"
      },
      "source": [
        "# Split the data into train and test sets\n",
        "train_data, test_data = scaled_housing_df2.randomSplit([.8,.2],seed=1234)"
      ],
      "execution_count": 28,
      "outputs": []
    },
    {
      "cell_type": "code",
      "metadata": {
        "id": "lMTJAFekEuac",
        "colab": {
          "base_uri": "https://localhost:8080/"
        },
        "outputId": "5ac0e8b0-5cf2-4539-fcd2-c05f383e5238"
      },
      "source": [
        "train_data.show()"
      ],
      "execution_count": 29,
      "outputs": [
        {
          "output_type": "stream",
          "name": "stdout",
          "text": [
            "+-------+--------------------+--------------------+\n",
            "|  label|            features|     features_scaled|\n",
            "+-------+--------------------+--------------------+\n",
            "|0.14999|[73.0,85.0,38.0,1...|[0.17329463000311...|\n",
            "|0.14999|[267.0,628.0,225....|[0.63383104398397...|\n",
            "|  0.175|[168.0,259.0,138....|[0.39881503891126...|\n",
            "|   0.25|[33.0,64.0,27.0,0...|[0.07833866835757...|\n",
            "|  0.266|[309.0,808.0,294....|[0.73353480371179...|\n",
            "|  0.269|[543.0,1423.0,482...|[1.28902717933820...|\n",
            "|    0.3|[183.0,500.0,177....|[0.43442352452834...|\n",
            "|    0.3|[448.0,338.0,182....|[1.06350677043004...|\n",
            "|  0.325|[49.0,51.0,20.0,4...|[0.11632105301578...|\n",
            "|  0.329|[386.0,436.0,213....|[0.91632502987946...|\n",
            "|  0.332|[131.0,511.0,124....|[0.31098077438914...|\n",
            "|  0.344|[121.0,530.0,115....|[0.28724178397775...|\n",
            "|  0.346|[208.0,660.0,188....|[0.49377100055680...|\n",
            "|  0.366|[199.0,567.0,204....|[0.47240590918656...|\n",
            "|  0.367|[238.0,425.0,157....|[0.56498797179096...|\n",
            "|  0.375|[20.0,39.0,18.0,3...|[0.04747798082276...|\n",
            "|  0.375|[194.0,573.0,134....|[0.46053641398086...|\n",
            "|  0.379|[756.0,1798.0,749...|[1.79466767510070...|\n",
            "|  0.388|[103.0,470.0,96.0...|[0.24451160123726...|\n",
            "|  0.392|[237.0,772.0,220....|[0.56261407274982...|\n",
            "+-------+--------------------+--------------------+\n",
            "only showing top 20 rows\n",
            "\n"
          ]
        }
      ]
    },
    {
      "cell_type": "code",
      "metadata": {
        "id": "f1PxpApJD8Lf"
      },
      "source": [
        "# Import `LinearRegression`\n",
        "from pyspark.ml.regression import LinearRegression\n",
        "\n",
        "# Initialize `lr`  -- this is an untrained model, hence it is not a Transformer\n",
        "lr = LinearRegression(maxIter=10, regParam=0.3, elasticNetParam=0.8)\n",
        "#lr = LinearRegression(labelCol=\"label\", maxIter=10, regParam=0.3, elasticNetParam=0.8)\n",
        "#lr = LinearRegression(labelCol=\"label\", featuresCol=\"features\", maxIter=10, regParam=0.3, elasticNetParam=0.8)\n",
        "#lr = LinearRegression(labelCol=\"label\", featuresCol=\"features_scaled\", maxIter=10, regParam=0.3, elasticNetParam=0.8)\n",
        "\n",
        "# Fit the data to the model\n",
        "linearModel = lr.fit(train_data)                             # A trained model is a Transformer"
      ],
      "execution_count": 30,
      "outputs": []
    },
    {
      "cell_type": "code",
      "metadata": {
        "id": "2ycB3wjTEVHo",
        "colab": {
          "base_uri": "https://localhost:8080/"
        },
        "outputId": "e1bc1ec9-f331-4b90-8542-6d0fb2cd0158"
      },
      "source": [
        "# Generate predictions\n",
        "predicted = linearModel.transform(test_data)                 # Transformer, linearModel, is being used to transform dataframe test_data\n",
        "predicted.show()"
      ],
      "execution_count": 31,
      "outputs": [
        {
          "output_type": "stream",
          "name": "stdout",
          "text": [
            "+-------+--------------------+--------------------+------------------+\n",
            "|  label|            features|     features_scaled|        prediction|\n",
            "+-------+--------------------+--------------------+------------------+\n",
            "|0.14999|[239.0,490.0,164....|[0.56736187083210...|1.5779571530300995|\n",
            "|  0.225|[73.0,216.0,63.0,...|[0.17329463000311...|1.7357597669255935|\n",
            "|  0.388|[263.0,1274.0,241...|[0.62433544781942...|1.5345134073263487|\n",
            "|  0.394|[310.0,779.0,275....|[0.73590870275293...|1.3663369868130295|\n",
            "|  0.396|[296.0,1228.0,289...|[0.70267411617699...|  1.29015262921757|\n",
            "|  0.398|[316.0,672.0,241....|[0.75015209699976...|1.5260057881424178|\n",
            "|    0.4|[185.0,318.0,115....|[0.43917132261062...|1.4635982848383564|\n",
            "|  0.431|[523.0,1772.0,479...|[1.24154919851543...|1.3740212880114187|\n",
            "|   0.44|[386.0,775.0,320....|[0.91632502987946...|1.3323065100773055|\n",
            "|  0.441|[322.0,927.0,277....|[0.76439549124659...| 1.359695555062993|\n",
            "|   0.45|[97.0,530.0,96.0,...|[0.23026820699043...| 1.276073891664807|\n",
            "|  0.455|[363.0,1449.0,341...|[0.86172535193327...|1.3973486309351004|\n",
            "|  0.455|[417.0,1567.0,366...|[0.98991590015475...|1.3459187007715951|\n",
            "|  0.455|[439.0,632.0,292....|[1.04214167905980...|1.4920027553395454|\n",
            "|  0.463|[371.0,1460.0,353...|[0.88071654426238...|1.5186508141382453|\n",
            "|  0.467|[181.0,579.0,172....|[0.42967572644606...|1.3438329618748894|\n",
            "|  0.468|[363.0,1483.0,297...|[0.86172535193327...|1.4475984719859958|\n",
            "|  0.469|[332.0,1386.0,306...|[0.78813448165798...|1.4195233286790236|\n",
            "|  0.475|[18.0,30.0,16.0,5...|[0.04273018274049...| 2.466427035161007|\n",
            "|  0.477|[270.0,1505.0,286...|[0.64095274110739...| 1.577298498641666|\n",
            "+-------+--------------------+--------------------+------------------+\n",
            "only showing top 20 rows\n",
            "\n"
          ]
        }
      ]
    },
    {
      "cell_type": "code",
      "source": [
        "# Generate predictions\n",
        "#predicted_scaled = linearModel.transform(test_data)\n",
        "#predicted_scaled.show()"
      ],
      "metadata": {
        "id": "EHvN5lxnPXlO"
      },
      "execution_count": 32,
      "outputs": []
    },
    {
      "cell_type": "code",
      "metadata": {
        "id": "-mcKH1dAFKmD"
      },
      "source": [
        "# Extract the predictions and the \"known\" correct labels\n",
        "predictions = predicted.select(\"prediction\").rdd.map(lambda x: x[0])\n",
        "labels = predicted.select(\"label\").rdd.map(lambda x: x[0])\n"
      ],
      "execution_count": 33,
      "outputs": []
    },
    {
      "cell_type": "code",
      "metadata": {
        "id": "0p29ywVWFOFS",
        "colab": {
          "base_uri": "https://localhost:8080/"
        },
        "outputId": "94453f83-ea6c-4d41-ec38-a7912b248d6c"
      },
      "source": [
        "predictions.take(5), labels.take(5)"
      ],
      "execution_count": 34,
      "outputs": [
        {
          "output_type": "execute_result",
          "data": {
            "text/plain": [
              "([1.5779571530300995,\n",
              "  1.7357597669255935,\n",
              "  1.5345134073263487,\n",
              "  1.3663369868130295,\n",
              "  1.29015262921757],\n",
              " [0.14999, 0.225, 0.388, 0.394, 0.396])"
            ]
          },
          "metadata": {},
          "execution_count": 34
        }
      ]
    },
    {
      "cell_type": "code",
      "metadata": {
        "id": "Kn8w35IaFjNE",
        "colab": {
          "base_uri": "https://localhost:8080/"
        },
        "outputId": "f61134f7-54a5-47da-a253-4aeb490965c3"
      },
      "source": [
        "# Zip `predictions` and `labels` into a list\n",
        "predictionAndLabel = predictions.zip(labels).collect()\n",
        "\n",
        "# Print out first 5 instances of `predictionAndLabel`\n",
        "predictionAndLabel[:5]"
      ],
      "execution_count": 35,
      "outputs": [
        {
          "output_type": "execute_result",
          "data": {
            "text/plain": [
              "[(1.5779571530300995, 0.14999),\n",
              " (1.7357597669255935, 0.225),\n",
              " (1.5345134073263487, 0.388),\n",
              " (1.3663369868130295, 0.394),\n",
              " (1.29015262921757, 0.396)]"
            ]
          },
          "metadata": {},
          "execution_count": 35
        }
      ]
    },
    {
      "cell_type": "markdown",
      "metadata": {
        "id": "ufTUT2MTNoW9"
      },
      "source": [
        "# Evaluating Model"
      ]
    },
    {
      "cell_type": "code",
      "metadata": {
        "id": "Q0L7eorGNrYS",
        "colab": {
          "base_uri": "https://localhost:8080/"
        },
        "outputId": "5c34ec0c-1f83-40c3-9271-1dc32c2ce6e9"
      },
      "source": [
        "# Coefficients for the model\n",
        "linearModel.coefficients"
      ],
      "execution_count": 36,
      "outputs": [
        {
          "output_type": "execute_result",
          "data": {
            "text/plain": [
              "DenseVector([0.0, 0.0, 0.0, 0.2744, 0.0, 0.0, 0.0])"
            ]
          },
          "metadata": {},
          "execution_count": 36
        }
      ]
    },
    {
      "cell_type": "code",
      "metadata": {
        "id": "ptdPm_OQNzTU",
        "colab": {
          "base_uri": "https://localhost:8080/"
        },
        "outputId": "0c08fc22-bb48-41b2-991b-3fb9573f879d"
      },
      "source": [
        "# Intercept for the model\n",
        "linearModel.intercept"
      ],
      "execution_count": 37,
      "outputs": [
        {
          "output_type": "execute_result",
          "data": {
            "text/plain": [
              "1.0016345631509045"
            ]
          },
          "metadata": {},
          "execution_count": 37
        }
      ]
    },
    {
      "cell_type": "code",
      "metadata": {
        "id": "6-FypuHvN6h7",
        "colab": {
          "base_uri": "https://localhost:8080/"
        },
        "outputId": "17885091-c1e1-48c7-eba5-33a5813ecd87"
      },
      "source": [
        "# Get the RMSE\n",
        "linearModel.summary.rootMeanSquaredError\n"
      ],
      "execution_count": 38,
      "outputs": [
        {
          "output_type": "execute_result",
          "data": {
            "text/plain": [
              "0.8770842163774836"
            ]
          },
          "metadata": {},
          "execution_count": 38
        }
      ]
    },
    {
      "cell_type": "code",
      "metadata": {
        "id": "oPkJ1yp4N_Of",
        "colab": {
          "base_uri": "https://localhost:8080/"
        },
        "outputId": "0bc5e61a-6880-4cca-b579-1892d3adb2b6"
      },
      "source": [
        "# Get the R2\n",
        "linearModel.summary.r2"
      ],
      "execution_count": 39,
      "outputs": [
        {
          "output_type": "execute_result",
          "data": {
            "text/plain": [
              "0.4188005371043194"
            ]
          },
          "metadata": {},
          "execution_count": 39
        }
      ]
    },
    {
      "cell_type": "code",
      "source": [
        "from datetime import datetime\n",
        "import pytz\n",
        "print('signed off at  ',datetime.now(pytz.timezone('Asia/Kolkata')))"
      ],
      "metadata": {
        "id": "KTeKnu1-FfCr",
        "outputId": "f00b5e61-12ff-4bdc-8cf3-d6e8ae0e7971",
        "colab": {
          "base_uri": "https://localhost:8080/"
        }
      },
      "execution_count": 40,
      "outputs": [
        {
          "output_type": "stream",
          "name": "stdout",
          "text": [
            "signed off at   2024-07-03 09:39:05.789007+05:30\n"
          ]
        }
      ]
    },
    {
      "cell_type": "markdown",
      "metadata": {
        "id": "eE1gjD5yNfrO"
      },
      "source": [
        "#Chronobooks <br>\n",
        "![alt text](https://1.bp.blogspot.com/-lTiYBkU2qbU/X1er__fvnkI/AAAAAAAAjtE/GhDR3OEGJr4NG43fZPodrQD5kbxtnKebgCLcBGAsYHQ/s600/Footer2020-600x200.png)<hr>\n",
        "Chronotantra and Chronoyantra are two science fiction novels that explore the collapse of human civilisation on Earth and then its rebirth and reincarnation both on Earth as well as on the distant worlds of Mars, Titan and Enceladus. But is it the human civilisation that is being reborn? Or is it some other sentience that is revealing itself.\n",
        "If you have an interest in AI and found this material useful, you may consider buying these novels, in paperback or kindle, from [http://bit.ly/chronobooks](http://bit.ly/chronobooks)"
      ]
    }
  ]
}