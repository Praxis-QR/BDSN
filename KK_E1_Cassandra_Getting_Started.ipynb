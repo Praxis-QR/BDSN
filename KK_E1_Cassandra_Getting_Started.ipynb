{
  "nbformat": 4,
  "nbformat_minor": 0,
  "metadata": {
    "colab": {
      "name": "KK E1 Cassandra Getting Started",
      "provenance": [],
      "authorship_tag": "ABX9TyOpy/g9Qa+wEj2Z1xzaz3yT",
      "include_colab_link": true
    },
    "kernelspec": {
      "name": "python3",
      "display_name": "Python 3"
    },
    "language_info": {
      "name": "python"
    }
  },
  "cells": [
    {
      "cell_type": "markdown",
      "metadata": {
        "id": "view-in-github",
        "colab_type": "text"
      },
      "source": [
        "<a href=\"https://colab.research.google.com/github/Praxis-QR/BDSN/blob/main/KK_E1_Cassandra_Getting_Started.ipynb\" target=\"_parent\"><img src=\"https://colab.research.google.com/assets/colab-badge.svg\" alt=\"Open In Colab\"/></a>"
      ]
    },
    {
      "cell_type": "markdown",
      "metadata": {
        "id": "tob6a0Waahs_"
      },
      "source": [
        "![alt text](https://github.com/Praxis-QR/RDWH/raw/main/images/YantraJaalBanner.png)<br>\n",
        "\n",
        "\n",
        "<hr>\n",
        "\n",
        "[Prithwis Mukerjee](http://www.linkedin.com/in/prithwis)<br>"
      ]
    },
    {
      "cell_type": "markdown",
      "metadata": {
        "id": "E2FhOnA1PJwF"
      },
      "source": [
        "#Install Cassandra"
      ]
    },
    {
      "cell_type": "markdown",
      "metadata": {
        "id": "As1axZOji3Un"
      },
      "source": [
        "install https://phoenixnap.com/kb/install-cassandra-on-ubuntu"
      ]
    },
    {
      "cell_type": "code",
      "metadata": {
        "colab": {
          "base_uri": "https://localhost:8080/"
        },
        "id": "vYhMBLxLWleS",
        "outputId": "dc621f3b-50ce-45c7-944f-8a507803d9bf"
      },
      "source": [
        "!apt update > /dev/null\n",
        "!apt install openjdk-8-jdk -y > /dev/null\n",
        "#!java -version\n",
        "!apt install apt-transport-https > /dev/null"
      ],
      "execution_count": 1,
      "outputs": [
        {
          "output_type": "stream",
          "name": "stdout",
          "text": [
            "\n",
            "WARNING: apt does not have a stable CLI interface. Use with caution in scripts.\n",
            "\n",
            "\n",
            "WARNING: apt does not have a stable CLI interface. Use with caution in scripts.\n",
            "\n",
            "\n",
            "WARNING: apt does not have a stable CLI interface. Use with caution in scripts.\n",
            "\n"
          ]
        }
      ]
    },
    {
      "cell_type": "code",
      "metadata": {
        "id": "T4NqUm_TXccH",
        "colab": {
          "base_uri": "https://localhost:8080/"
        },
        "outputId": "a4fef04a-d163-43b4-9711-20cb14c63f3f"
      },
      "source": [
        "!sh -c 'echo \"deb http://www.apache.org/dist/cassandra/debian 40x main\" > /etc/apt/sources.list.d/cassandra.list'\n",
        "!wget -q -O - https://www.apache.org/dist/cassandra/KEYS | sudo apt-key add -"
      ],
      "execution_count": 2,
      "outputs": [
        {
          "output_type": "stream",
          "name": "stdout",
          "text": [
            "OK\n"
          ]
        }
      ]
    },
    {
      "cell_type": "code",
      "metadata": {
        "id": "55Tefi67Nz3Q"
      },
      "source": [
        "#!cat /etc/apt/sources.list.d/cassandra.list"
      ],
      "execution_count": 3,
      "outputs": []
    },
    {
      "cell_type": "code",
      "metadata": {
        "colab": {
          "base_uri": "https://localhost:8080/"
        },
        "id": "UeP4AIkRXq3G",
        "outputId": "29ffcda7-e663-4332-ed93-845b47d4166e"
      },
      "source": [
        "!apt update > /dev/null\n",
        "!apt install cassandra > /dev/null"
      ],
      "execution_count": 4,
      "outputs": [
        {
          "output_type": "stream",
          "name": "stdout",
          "text": [
            "\n",
            "WARNING: apt does not have a stable CLI interface. Use with caution in scripts.\n",
            "\n",
            "\n",
            "WARNING: apt does not have a stable CLI interface. Use with caution in scripts.\n",
            "\n"
          ]
        }
      ]
    },
    {
      "cell_type": "markdown",
      "metadata": {
        "id": "RKx_TfY0POYJ"
      },
      "source": [
        "## Start the Service"
      ]
    },
    {
      "cell_type": "code",
      "metadata": {
        "colab": {
          "base_uri": "https://localhost:8080/"
        },
        "id": "oFrwzWGVXye_",
        "outputId": "fda6f985-b18c-4b0f-e4c4-295bc1a344ca"
      },
      "source": [
        "#!service cassandra stop\n",
        "# the ulimit error does not matter\n",
        "!service cassandra restart"
      ],
      "execution_count": 5,
      "outputs": [
        {
          "output_type": "stream",
          "name": "stdout",
          "text": [
            " * Restarting Cassandra cassandra\n",
            "/etc/init.d/cassandra: 72: ulimit: error setting limit (Operation not permitted)\n",
            "   ...done.\n"
          ]
        }
      ]
    },
    {
      "cell_type": "code",
      "metadata": {
        "colab": {
          "base_uri": "https://localhost:8080/"
        },
        "id": "Tp_1OFjMMTML",
        "outputId": "872f43d8-1c0b-4147-fe48-c7d3a0628347"
      },
      "source": [
        "# keep checking service status until you see [+] next to cassandra\n",
        "# then wait for at least 60 seconds MORE .... count 1 to 60 if you are feeling impatient\n",
        "!service  --status-all "
      ],
      "execution_count": 6,
      "outputs": [
        {
          "output_type": "stream",
          "name": "stdout",
          "text": [
            " [ + ]  cassandra\n",
            " [ - ]  dbus\n",
            " [ ? ]  hwclock.sh\n",
            " [ ? ]  kmod\n",
            " [ - ]  ntp\n",
            " [ - ]  procps\n",
            " [ - ]  rsync\n",
            " [ - ]  udev\n",
            " [ - ]  x11-common\n"
          ]
        }
      ]
    },
    {
      "cell_type": "code",
      "metadata": {
        "colab": {
          "base_uri": "https://localhost:8080/"
        },
        "id": "xiXyOJMIYPa2",
        "outputId": "600e793c-be87-457d-c10b-6f5ceb0bd9ca"
      },
      "source": [
        "# this will give an error if the cassandra service has not started\n",
        "# Wait for some time for the service to start\n",
        "# If required reboot system or stop, restart cassandra service\n",
        "!nodetool status"
      ],
      "execution_count": 8,
      "outputs": [
        {
          "output_type": "stream",
          "name": "stdout",
          "text": [
            "Datacenter: datacenter1\n",
            "=======================\n",
            "Status=Up/Down\n",
            "|/ State=Normal/Leaving/Joining/Moving\n",
            "--  Address    Load       Tokens  Owns (effective)  Host ID                               Rack \n",
            "UN  127.0.0.1  69.08 KiB  16      100.0%            6c7e1a57-4fdb-47a8-ab56-05eaab1ae5a8  rack1\n",
            "\n"
          ]
        }
      ]
    },
    {
      "cell_type": "code",
      "metadata": {
        "id": "KiQkg6HTgZ93"
      },
      "source": [
        "# basic test\n",
        "#!cqlsh"
      ],
      "execution_count": 9,
      "outputs": []
    },
    {
      "cell_type": "markdown",
      "metadata": {
        "id": "aBol76oAPWz7"
      },
      "source": [
        "# Basic Commands \n",
        "how to execute commands through scripts https://stackoverflow.com/questions/25286253/executing-cql-through-shell-script <br>\n",
        "some examples https://techfossguru.com/apache-cassandra-python-step-step-guide-ubuntu-example/"
      ]
    },
    {
      "cell_type": "code",
      "metadata": {
        "colab": {
          "base_uri": "https://localhost:8080/"
        },
        "id": "W3sezYYfPcnq",
        "outputId": "700ea081-a894-4e19-9420-9b19d11c31a8"
      },
      "source": [
        "!cqlsh -e \"help\" "
      ],
      "execution_count": 10,
      "outputs": [
        {
          "output_type": "stream",
          "name": "stdout",
          "text": [
            "\n",
            "Documented shell commands:\n",
            "===========================\n",
            "CAPTURE  CLS          COPY  DESCRIBE  EXPAND  LOGIN   SERIAL  SOURCE   UNICODE\n",
            "CLEAR    CONSISTENCY  DESC  EXIT      HELP    PAGING  SHOW    TRACING\n",
            "\n",
            "CQL help topics:\n",
            "================\n",
            "AGGREGATES               CREATE_KEYSPACE           DROP_TRIGGER      TEXT     \n",
            "ALTER_KEYSPACE           CREATE_MATERIALIZED_VIEW  DROP_TYPE         TIME     \n",
            "ALTER_MATERIALIZED_VIEW  CREATE_ROLE               DROP_USER         TIMESTAMP\n",
            "ALTER_TABLE              CREATE_TABLE              FUNCTIONS         TRUNCATE \n",
            "ALTER_TYPE               CREATE_TRIGGER            GRANT             TYPES    \n",
            "ALTER_USER               CREATE_TYPE               INSERT            UPDATE   \n",
            "APPLY                    CREATE_USER               INSERT_JSON       USE      \n",
            "ASCII                    DATE                      INT               UUID     \n",
            "BATCH                    DELETE                    JSON            \n",
            "BEGIN                    DROP_AGGREGATE            KEYWORDS        \n",
            "BLOB                     DROP_COLUMNFAMILY         LIST_PERMISSIONS\n",
            "BOOLEAN                  DROP_FUNCTION             LIST_ROLES      \n",
            "COUNTER                  DROP_INDEX                LIST_USERS      \n",
            "CREATE_AGGREGATE         DROP_KEYSPACE             PERMISSIONS     \n",
            "CREATE_COLUMNFAMILY      DROP_MATERIALIZED_VIEW    REVOKE          \n",
            "CREATE_FUNCTION          DROP_ROLE                 SELECT          \n",
            "CREATE_INDEX             DROP_TABLE                SELECT_JSON     \n",
            "\n"
          ]
        }
      ]
    },
    {
      "cell_type": "code",
      "metadata": {
        "colab": {
          "base_uri": "https://localhost:8080/"
        },
        "id": "9IiOfaY1P_1m",
        "outputId": "7ad2db00-ee84-490b-b251-f1eed80d0da5"
      },
      "source": [
        "!cqlsh -e \"CREATE KEYSPACE praxis WITH REPLICATION = { 'class' : 'SimpleStrategy', 'replication_factor' : 3 };\""
      ],
      "execution_count": 11,
      "outputs": [
        {
          "output_type": "stream",
          "name": "stdout",
          "text": [
            "\n",
            "Warnings :\n",
            "Your replication factor 3 for keyspace praxis is higher than the number of nodes 1\n",
            "\n"
          ]
        }
      ]
    },
    {
      "cell_type": "code",
      "metadata": {
        "id": "cZnKX2llQ_X3"
      },
      "source": [
        "# since we are not specifying keyspace separately, we have to prefix table name with keyspace\n",
        "!cqlsh -e \"CREATE TABLE praxis.users (user_id int PRIMARY KEY, first_name text, last_name text );\""
      ],
      "execution_count": 12,
      "outputs": []
    },
    {
      "cell_type": "code",
      "metadata": {
        "id": "Tkl3W5Z3Rmuw"
      },
      "source": [
        "!cqlsh -e \"INSERT INTO praxis.users (user_id, first_name, last_name) VALUES (1, 'Prithwis', 'Mukerjee');\"\n",
        "!cqlsh -e \"INSERT INTO praxis.users (user_id, first_name, last_name) VALUES (2, 'Sanniti', 'Chatterjee');\"\n",
        "!cqlsh -e \"INSERT INTO praxis.users (user_id, first_name, last_name) VALUES (3, 'Amrita', 'Ghosh');\""
      ],
      "execution_count": 13,
      "outputs": []
    },
    {
      "cell_type": "code",
      "metadata": {
        "colab": {
          "base_uri": "https://localhost:8080/"
        },
        "id": "T1yKBuABR-u7",
        "outputId": "fbe6c6e5-7117-4701-caab-af2a301b1f62"
      },
      "source": [
        "!cqlsh -e \"select * from praxis.users;\""
      ],
      "execution_count": 14,
      "outputs": [
        {
          "output_type": "stream",
          "name": "stdout",
          "text": [
            "\n",
            " \u001b[0;1;31muser_id\u001b[0m | \u001b[0;1;35mfirst_name\u001b[0m | \u001b[0;1;35mlast_name\u001b[0m\n",
            "---------+------------+------------\n",
            "       \u001b[0;1;32m1\u001b[0m |   \u001b[0;1;33mPrithwis\u001b[0m |   \u001b[0;1;33mMukerjee\u001b[0m\n",
            "       \u001b[0;1;32m2\u001b[0m |    \u001b[0;1;33mSanniti\u001b[0m | \u001b[0;1;33mChatterjee\u001b[0m\n",
            "       \u001b[0;1;32m3\u001b[0m |     \u001b[0;1;33mAmrita\u001b[0m |      \u001b[0;1;33mGhosh\u001b[0m\n",
            "\n",
            "(3 rows)\n"
          ]
        }
      ]
    },
    {
      "cell_type": "code",
      "metadata": {
        "colab": {
          "base_uri": "https://localhost:8080/"
        },
        "id": "IrKpduEBTQVn",
        "outputId": "9d51e7aa-06ca-448e-a2b3-a08570b81d13"
      },
      "source": [
        "#another way to specifiy keyspace\n",
        "!cqlsh -e \"use praxis;\\\n",
        "           select * from users;\""
      ],
      "execution_count": 15,
      "outputs": [
        {
          "output_type": "stream",
          "name": "stdout",
          "text": [
            "\n",
            " \u001b[0;1;31muser_id\u001b[0m | \u001b[0;1;35mfirst_name\u001b[0m | \u001b[0;1;35mlast_name\u001b[0m\n",
            "---------+------------+------------\n",
            "       \u001b[0;1;32m1\u001b[0m |   \u001b[0;1;33mPrithwis\u001b[0m |   \u001b[0;1;33mMukerjee\u001b[0m\n",
            "       \u001b[0;1;32m2\u001b[0m |    \u001b[0;1;33mSanniti\u001b[0m | \u001b[0;1;33mChatterjee\u001b[0m\n",
            "       \u001b[0;1;32m3\u001b[0m |     \u001b[0;1;33mAmrita\u001b[0m |      \u001b[0;1;33mGhosh\u001b[0m\n",
            "\n",
            "(3 rows)\n"
          ]
        }
      ]
    },
    {
      "cell_type": "code",
      "metadata": {
        "colab": {
          "base_uri": "https://localhost:8080/"
        },
        "id": "ZugyHjwaYA6Z",
        "outputId": "b8fbdbc8-99cc-4365-987a-4c18a40e740d"
      },
      "source": [
        "# easier way to specify keyspace, similar specifying database in mysql\n",
        "!cqlsh -k praxis -e \"select * from users;\""
      ],
      "execution_count": 16,
      "outputs": [
        {
          "output_type": "stream",
          "name": "stdout",
          "text": [
            "\n",
            " \u001b[0;1;31muser_id\u001b[0m | \u001b[0;1;35mfirst_name\u001b[0m | \u001b[0;1;35mlast_name\u001b[0m\n",
            "---------+------------+------------\n",
            "       \u001b[0;1;32m1\u001b[0m |   \u001b[0;1;33mPrithwis\u001b[0m |   \u001b[0;1;33mMukerjee\u001b[0m\n",
            "       \u001b[0;1;32m2\u001b[0m |    \u001b[0;1;33mSanniti\u001b[0m | \u001b[0;1;33mChatterjee\u001b[0m\n",
            "       \u001b[0;1;32m3\u001b[0m |     \u001b[0;1;33mAmrita\u001b[0m |      \u001b[0;1;33mGhosh\u001b[0m\n",
            "\n",
            "(3 rows)\n"
          ]
        }
      ]
    },
    {
      "cell_type": "markdown",
      "metadata": {
        "id": "XeJl3TiNg6Li"
      },
      "source": [
        "# Python\n",
        "https://docs.datastax.com/en/developer/python-driver/3.25/"
      ]
    },
    {
      "cell_type": "code",
      "metadata": {
        "id": "oTIcI1PVlLaI"
      },
      "source": [
        "!pip install cassandra-driver > /dev/null\n",
        "from cassandra.cluster import ExecutionProfile\n",
        "from cassandra.policies import WhiteListRoundRobinPolicy, DCAwareRoundRobinPolicy\n",
        "node1_profile = ExecutionProfile(load_balancing_policy=WhiteListRoundRobinPolicy(['127.0.0.1']))\n",
        "profiles = {'node1': node1_profile}"
      ],
      "execution_count": 17,
      "outputs": []
    },
    {
      "cell_type": "code",
      "metadata": {
        "id": "6VpIDTEbj3H2",
        "outputId": "a84a0025-7a6d-4140-ce29-c97d46f947f1",
        "colab": {
          "base_uri": "https://localhost:8080/"
        }
      },
      "source": [
        "from cassandra.cluster import Cluster\n",
        "#cluster = Cluster(['127.0.0.1'],port=9042)\n",
        "#cluster = Cluster(['127.0.0.1'],load_balancing_policy=DCAwareRoundRobinPolicy(local_dc='datacenter1'),port=9042,)\n",
        "#session = cluster.connect('praxis',wait_for_all_pools=True)\n",
        "session = Cluster(execution_profiles=profiles).connect()\n",
        "session.execute('USE praxis')"
      ],
      "execution_count": 18,
      "outputs": [
        {
          "output_type": "stream",
          "name": "stderr",
          "text": [
            "WARNING:cassandra.cluster:Downgrading core protocol version from 66 to 65 for 127.0.0.1:9042. To avoid this, it is best practice to explicitly set Cluster(protocol_version) to the version supported by your cluster. http://datastax.github.io/python-driver/api/cassandra/cluster.html#cassandra.cluster.Cluster.protocol_version\n",
            "WARNING:cassandra.cluster:Downgrading core protocol version from 65 to 5 for 127.0.0.1:9042. To avoid this, it is best practice to explicitly set Cluster(protocol_version) to the version supported by your cluster. http://datastax.github.io/python-driver/api/cassandra/cluster.html#cassandra.cluster.Cluster.protocol_version\n"
          ]
        },
        {
          "output_type": "execute_result",
          "data": {
            "text/plain": [
              "<cassandra.cluster.ResultSet at 0x7f91e22a4340>"
            ]
          },
          "metadata": {},
          "execution_count": 18
        }
      ]
    },
    {
      "cell_type": "code",
      "metadata": {
        "id": "RVNgy9Wnkyk1",
        "colab": {
          "base_uri": "https://localhost:8080/"
        },
        "outputId": "54ddf38d-0e59-49ab-9ed7-873f41eea9d0"
      },
      "source": [
        "rows = session.execute('SELECT * FROM users')\n",
        "for row in rows:\n",
        "        print(row.user_id,row.first_name,row.last_name)"
      ],
      "execution_count": 19,
      "outputs": [
        {
          "output_type": "stream",
          "name": "stdout",
          "text": [
            "1 Prithwis Mukerjee\n",
            "2 Sanniti Chatterjee\n",
            "3 Amrita Ghosh\n"
          ]
        }
      ]
    },
    {
      "cell_type": "code",
      "metadata": {
        "id": "WU-zcG-PYF-J",
        "colab": {
          "base_uri": "https://localhost:8080/"
        },
        "outputId": "c1c3a381-6019-4998-a930-a69c81e0360d"
      },
      "source": [
        "session.execute(\"INSERT INTO praxis.users (user_id, first_name, last_name) VALUES (4, 'Charanpreet', 'Singh');\")"
      ],
      "execution_count": 20,
      "outputs": [
        {
          "output_type": "execute_result",
          "data": {
            "text/plain": [
              "<cassandra.cluster.ResultSet at 0x7f91e9444100>"
            ]
          },
          "metadata": {},
          "execution_count": 20
        }
      ]
    },
    {
      "cell_type": "code",
      "metadata": {
        "id": "n421ctl4YjBv",
        "colab": {
          "base_uri": "https://localhost:8080/"
        },
        "outputId": "e9058424-f7de-4d22-8b82-63190bd79270"
      },
      "source": [
        "rows = session.execute('SELECT * FROM users')\n",
        "for row in rows:\n",
        "        print(row.user_id,row.first_name,row.last_name)"
      ],
      "execution_count": 21,
      "outputs": [
        {
          "output_type": "stream",
          "name": "stdout",
          "text": [
            "1 Prithwis Mukerjee\n",
            "2 Sanniti Chatterjee\n",
            "4 Charanpreet Singh\n",
            "3 Amrita Ghosh\n"
          ]
        }
      ]
    },
    {
      "cell_type": "code",
      "metadata": {
        "id": "4NibMU01ZDPV",
        "colab": {
          "base_uri": "https://localhost:8080/"
        },
        "outputId": "32394fa1-3f29-44d8-b774-662275326ecf"
      },
      "source": [
        "session.execute(\"update praxis.users set first_name = 'Dr Prithwis' where user_id = 1;\")"
      ],
      "execution_count": 22,
      "outputs": [
        {
          "output_type": "execute_result",
          "data": {
            "text/plain": [
              "<cassandra.cluster.ResultSet at 0x7f91e9427370>"
            ]
          },
          "metadata": {},
          "execution_count": 22
        }
      ]
    },
    {
      "cell_type": "code",
      "metadata": {
        "id": "wtTJXHrMac-E",
        "colab": {
          "base_uri": "https://localhost:8080/"
        },
        "outputId": "249f73da-97d4-433d-b3a0-5074edd117a9"
      },
      "source": [
        "rows = session.execute('SELECT * FROM users')\n",
        "for row in rows:\n",
        "        print(row.user_id,row.first_name,row.last_name)"
      ],
      "execution_count": 23,
      "outputs": [
        {
          "output_type": "stream",
          "name": "stdout",
          "text": [
            "1 Dr Prithwis Mukerjee\n",
            "2 Sanniti Chatterjee\n",
            "4 Charanpreet Singh\n",
            "3 Amrita Ghosh\n"
          ]
        }
      ]
    },
    {
      "cell_type": "markdown",
      "metadata": {
        "id": "2bw1YnWi6PCa"
      },
      "source": [
        "#Tutorial from FreeCodeCamp <br>\n",
        "https://www.freecodecamp.org/news/the-apache-cassandra-beginner-tutorial/ <br>\n",
        "alternatively from this [saved file](https://github.com/Praxis-QR/BDSN/blob/main/Documents/The%20Apache%20Cassandra%20Beginner%20Tutorial.pdf)"
      ]
    },
    {
      "cell_type": "code",
      "metadata": {
        "id": "nCARKjqn7Gll"
      },
      "source": [
        "#!cqlsh -e \"CREATE KEYSPACE learn_cassandra WITH REPLICATION = { 'class' : 'NetworkTopologyStrategy','datacenter1' : 3  };\""
      ],
      "execution_count": null,
      "outputs": []
    },
    {
      "cell_type": "code",
      "metadata": {
        "id": "zQ5aHVoAPFo9"
      },
      "source": [
        "!cqlsh -k praxis -e \"drop table users_by_country;\"\n",
        "!cqlsh -k praxis -e \"CREATE TABLE users_by_country \\\n",
        "(country text,\\\n",
        " user_email text,\\\n",
        " first_name text,\\\n",
        " last_name text,\\\n",
        " age smallint,\\\n",
        " PRIMARY KEY ((country), user_email));\""
      ],
      "execution_count": 25,
      "outputs": []
    },
    {
      "cell_type": "code",
      "metadata": {
        "id": "lJROfypZQD8w"
      },
      "source": [
        "!cqlsh -k praxis -e \"\\\n",
        "INSERT INTO users_by_country (country,user_email,first_name,last_name,age)  VALUES('US', 'john@email.com', 'John','Wick',55); \\\n",
        "INSERT INTO users_by_country (country,user_email,first_name,last_name,age) VALUES('UK', 'peter@email.com', 'Peter','Clark',65);\\\n",
        "INSERT INTO users_by_country (country,user_email,first_name,last_name,age)  VALUES('UK', 'bob@email.com', 'Bob','Sandler',23);\\\n",
        "INSERT INTO users_by_country (country,user_email,first_name,last_name,age)  VALUES('UK', 'alice@email.com', 'Alice','Brown',26);\"\n"
      ],
      "execution_count": 26,
      "outputs": []
    },
    {
      "cell_type": "code",
      "source": [
        "!cqlsh -k praxis -e \"SELECT * FROM users_by_country;\""
      ],
      "metadata": {
        "id": "Ay4DBzGvKO9M",
        "outputId": "84ae3ba5-ab16-4294-ccce-56fe8a60c549",
        "colab": {
          "base_uri": "https://localhost:8080/"
        }
      },
      "execution_count": 27,
      "outputs": [
        {
          "output_type": "stream",
          "name": "stdout",
          "text": [
            "\n",
            " \u001b[0;1;31mcountry\u001b[0m | \u001b[0;1;36muser_email\u001b[0m      | \u001b[0;1;35mage\u001b[0m | \u001b[0;1;35mfirst_name\u001b[0m | \u001b[0;1;35mlast_name\u001b[0m\n",
            "---------+-----------------+-----+------------+-----------\n",
            "      \u001b[0;1;33mUS\u001b[0m |  \u001b[0;1;33mjohn@email.com\u001b[0m |  \u001b[0;1;32m55\u001b[0m |       \u001b[0;1;33mJohn\u001b[0m |      \u001b[0;1;33mWick\u001b[0m\n",
            "      \u001b[0;1;33mUK\u001b[0m | \u001b[0;1;33malice@email.com\u001b[0m |  \u001b[0;1;32m26\u001b[0m |      \u001b[0;1;33mAlice\u001b[0m |     \u001b[0;1;33mBrown\u001b[0m\n",
            "      \u001b[0;1;33mUK\u001b[0m |   \u001b[0;1;33mbob@email.com\u001b[0m |  \u001b[0;1;32m23\u001b[0m |        \u001b[0;1;33mBob\u001b[0m |   \u001b[0;1;33mSandler\u001b[0m\n",
            "      \u001b[0;1;33mUK\u001b[0m | \u001b[0;1;33mpeter@email.com\u001b[0m |  \u001b[0;1;32m65\u001b[0m |      \u001b[0;1;33mPeter\u001b[0m |     \u001b[0;1;33mClark\u001b[0m\n",
            "\n",
            "(4 rows)\n"
          ]
        }
      ]
    },
    {
      "cell_type": "code",
      "metadata": {
        "id": "cQzBmX2UQvuo",
        "colab": {
          "base_uri": "https://localhost:8080/"
        },
        "outputId": "4fbf2f8c-518f-4ccc-d6e1-1a92b76f7c88"
      },
      "source": [
        "!cqlsh -k praxis -e \"SELECT * FROM users_by_country WHERE country='UK';\""
      ],
      "execution_count": 28,
      "outputs": [
        {
          "output_type": "stream",
          "name": "stdout",
          "text": [
            "\n",
            " \u001b[0;1;31mcountry\u001b[0m | \u001b[0;1;36muser_email\u001b[0m      | \u001b[0;1;35mage\u001b[0m | \u001b[0;1;35mfirst_name\u001b[0m | \u001b[0;1;35mlast_name\u001b[0m\n",
            "---------+-----------------+-----+------------+-----------\n",
            "      \u001b[0;1;33mUK\u001b[0m | \u001b[0;1;33malice@email.com\u001b[0m |  \u001b[0;1;32m26\u001b[0m |      \u001b[0;1;33mAlice\u001b[0m |     \u001b[0;1;33mBrown\u001b[0m\n",
            "      \u001b[0;1;33mUK\u001b[0m |   \u001b[0;1;33mbob@email.com\u001b[0m |  \u001b[0;1;32m23\u001b[0m |        \u001b[0;1;33mBob\u001b[0m |   \u001b[0;1;33mSandler\u001b[0m\n",
            "      \u001b[0;1;33mUK\u001b[0m | \u001b[0;1;33mpeter@email.com\u001b[0m |  \u001b[0;1;32m65\u001b[0m |      \u001b[0;1;33mPeter\u001b[0m |     \u001b[0;1;33mClark\u001b[0m\n",
            "\n",
            "(3 rows)\n"
          ]
        }
      ]
    },
    {
      "cell_type": "code",
      "metadata": {
        "id": "xp0LEX5WRA-T"
      },
      "source": [
        "!cqlsh -k praxis -e \"drop table users_by_email;\"\n",
        "!cqlsh -k praxis -e \"CREATE TABLE users_by_email (\\\n",
        "  user_email text,\\\n",
        "  country text,\\\n",
        "  first_name text,\\\n",
        "  last_name text,\\\n",
        "  age smallint,\\\n",
        "  PRIMARY KEY (user_email));\"\n",
        "  "
      ],
      "execution_count": 30,
      "outputs": []
    },
    {
      "cell_type": "code",
      "metadata": {
        "id": "7-ZP8vjMSdY3"
      },
      "source": [
        "!cqlsh -k praxis -e \"INSERT INTO users_by_email (user_email, country,first_name,last_name,age)  VALUES('john@email.com', 'US', 'John','Wick',55);\"\n",
        "!cqlsh -k praxis -e \"INSERT INTO users_by_email (user_email,country,first_name,last_name,age)  VALUES('peter@email.com', 'UK', 'Peter','Clark',65);\"\n",
        "!cqlsh -k praxis -e \"INSERT INTO users_by_email (user_email,country,first_name,last_name,age)  VALUES('bob@email.com', 'UK', 'Bob','Sandler',23);\"\n",
        "!cqlsh -k praxis -e \"INSERT INTO users_by_email (user_email,country,first_name,last_name,age)  VALUES('alice@email.com', 'UK', 'Alice','Brown',26);\""
      ],
      "execution_count": 31,
      "outputs": []
    },
    {
      "cell_type": "code",
      "metadata": {
        "id": "lPR6Z6iVT7XE",
        "colab": {
          "base_uri": "https://localhost:8080/"
        },
        "outputId": "b95ba67e-1c92-424c-9ed3-34fcd46ad7ae"
      },
      "source": [
        "!cqlsh -k praxis -e \"SELECT * FROM users_by_email WHERE user_email='alice@email.com';\""
      ],
      "execution_count": 32,
      "outputs": [
        {
          "output_type": "stream",
          "name": "stdout",
          "text": [
            "\n",
            " \u001b[0;1;31muser_email\u001b[0m      | \u001b[0;1;35mage\u001b[0m | \u001b[0;1;35mcountry\u001b[0m | \u001b[0;1;35mfirst_name\u001b[0m | \u001b[0;1;35mlast_name\u001b[0m\n",
            "-----------------+-----+---------+------------+-----------\n",
            " \u001b[0;1;33malice@email.com\u001b[0m |  \u001b[0;1;32m26\u001b[0m |      \u001b[0;1;33mUK\u001b[0m |      \u001b[0;1;33mAlice\u001b[0m |     \u001b[0;1;33mBrown\u001b[0m\n",
            "\n",
            "(1 rows)\n"
          ]
        }
      ]
    },
    {
      "cell_type": "code",
      "metadata": {
        "id": "JVyzlLzLUQEr",
        "colab": {
          "base_uri": "https://localhost:8080/"
        },
        "outputId": "91c24e5a-24c9-414c-ddc1-858c766a7f84"
      },
      "source": [
        "!cqlsh -k praxis -e \"SELECT * FROM users_by_email WHERE age=26 ALLOW FILTERING;\"\n",
        "!cqlsh -k praxis -e \"SELECT * FROM users_by_email WHERE age=26;\""
      ],
      "execution_count": 33,
      "outputs": [
        {
          "output_type": "stream",
          "name": "stdout",
          "text": [
            "\n",
            " \u001b[0;1;31muser_email\u001b[0m      | \u001b[0;1;35mage\u001b[0m | \u001b[0;1;35mcountry\u001b[0m | \u001b[0;1;35mfirst_name\u001b[0m | \u001b[0;1;35mlast_name\u001b[0m\n",
            "-----------------+-----+---------+------------+-----------\n",
            " \u001b[0;1;33malice@email.com\u001b[0m |  \u001b[0;1;32m26\u001b[0m |      \u001b[0;1;33mUK\u001b[0m |      \u001b[0;1;33mAlice\u001b[0m |     \u001b[0;1;33mBrown\u001b[0m\n",
            "\n",
            "(1 rows)\n",
            "\u001b[0;1;31m<stdin>:1:InvalidRequest: Error from server: code=2200 [Invalid query] message=\"Cannot execute this query as it might involve data filtering and thus may have unpredictable performance. If you want to execute this query despite the performance unpredictability, use ALLOW FILTERING\"\u001b[0m\n"
          ]
        }
      ]
    },
    {
      "cell_type": "code",
      "metadata": {
        "id": "5_3yYj9E8Ov1"
      },
      "source": [
        "!cqlsh -k praxis -e \"CREATE TABLE todo_by_user_email (user_email text,name text,creation_date timestamp,PRIMARY KEY ((user_email), creation_date)) WITH CLUSTERING ORDER BY (creation_date DESC) AND compaction = { 'class' :  'LeveledCompactionStrategy'};\""
      ],
      "execution_count": 34,
      "outputs": []
    },
    {
      "cell_type": "code",
      "metadata": {
        "id": "tR3MW8QJ6W5S"
      },
      "source": [
        "!cqlsh -k praxis -e \"\\\n",
        "CREATE TABLE todos_shared_by_target_user_email ( \\\n",
        "    target_user_email text, \\\n",
        "    source_user_email text, \\\n",
        "    creation_date timestamp, \\\n",
        "    name text, \\\n",
        "    PRIMARY KEY ((target_user_email), creation_date) \\\n",
        ") WITH CLUSTERING ORDER BY (creation_date DESC) \\\n",
        "AND compaction = { 'class' :  'LeveledCompactionStrategy'  };\""
      ],
      "execution_count": 35,
      "outputs": []
    },
    {
      "cell_type": "code",
      "metadata": {
        "id": "4a8KJJPf7bsU"
      },
      "source": [
        "!cqlsh -k praxis -e \"\\\n",
        "CREATE TABLE todos_shared_by_source_user_email ( \\\n",
        "    target_user_email text, \\\n",
        "    source_user_email text, \\\n",
        "    creation_date timestamp, \\\n",
        "    name text, \\\n",
        "    PRIMARY KEY ((source_user_email), creation_date) \\\n",
        ") WITH CLUSTERING ORDER BY (creation_date DESC) \\\n",
        "AND compaction = { 'class' :  'LeveledCompactionStrategy'  };\""
      ],
      "execution_count": 36,
      "outputs": []
    },
    {
      "cell_type": "code",
      "metadata": {
        "id": "qng1xWiB7v0y"
      },
      "source": [
        "!cqlsh -k praxis -e \"\\\n",
        "BEGIN BATCH \\\n",
        "  INSERT INTO todo_by_user_email (user_email,creation_date,name) VALUES('alice@email.com', toTimestamp(now()), 'My first todo entry') \\\n",
        "  INSERT INTO todos_shared_by_target_user_email (target_user_email, source_user_email,creation_date,name) VALUES('bob@email.com', 'alice@email.com',toTimestamp(now()), 'My first todo entry') \\\n",
        "  INSERT INTO todos_shared_by_source_user_email (target_user_email, source_user_email,creation_date,name) VALUES('alice@email.com', 'bob@email.com', toTimestamp(now()), 'My first todo entry') \\\n",
        "APPLY BATCH;\""
      ],
      "execution_count": 37,
      "outputs": []
    },
    {
      "cell_type": "code",
      "metadata": {
        "id": "yTO6x2fy_8Ni",
        "colab": {
          "base_uri": "https://localhost:8080/"
        },
        "outputId": "82cd3800-7e7d-4d98-8fab-e7ed7ce2f5d3"
      },
      "source": [
        "!cqlsh -k praxis -e \"SELECT * FROM todos_shared_by_target_user_email WHERE target_user_email='bob@email.com';\""
      ],
      "execution_count": 38,
      "outputs": [
        {
          "output_type": "stream",
          "name": "stdout",
          "text": [
            "\n",
            " \u001b[0;1;31mtarget_user_email\u001b[0m | \u001b[0;1;36mcreation_date\u001b[0m                   | \u001b[0;1;35mname\u001b[0m                | \u001b[0;1;35msource_user_email\u001b[0m\n",
            "-------------------+---------------------------------+---------------------+-------------------\n",
            "     \u001b[0;1;33mbob@email.com\u001b[0m | \u001b[0;1;32m2023-01-08 07:01:20.578000+0000\u001b[0m | \u001b[0;1;33mMy first todo entry\u001b[0m |   \u001b[0;1;33malice@email.com\u001b[0m\n",
            "\n",
            "(1 rows)\n"
          ]
        }
      ]
    },
    {
      "cell_type": "code",
      "metadata": {
        "id": "ADIiDARRAiN9",
        "colab": {
          "base_uri": "https://localhost:8080/"
        },
        "outputId": "08cd769c-51ec-4ee4-fb0d-f22729cf397a"
      },
      "source": [
        "!cqlsh -k praxis -e \"SELECT * FROM todo_by_user_email WHERE user_email='alice@email.com';\""
      ],
      "execution_count": 39,
      "outputs": [
        {
          "output_type": "stream",
          "name": "stdout",
          "text": [
            "\n",
            " \u001b[0;1;31muser_email\u001b[0m      | \u001b[0;1;36mcreation_date\u001b[0m                   | \u001b[0;1;35mname\u001b[0m\n",
            "-----------------+---------------------------------+---------------------\n",
            " \u001b[0;1;33malice@email.com\u001b[0m | \u001b[0;1;32m2023-01-08 07:01:20.577000+0000\u001b[0m | \u001b[0;1;33mMy first todo entry\u001b[0m\n",
            "\n",
            "(1 rows)\n"
          ]
        }
      ]
    },
    {
      "cell_type": "markdown",
      "metadata": {
        "id": "VeyXn4Y8-Cgs"
      },
      "source": [
        "#Cassandra Collections <br>\n",
        "Set, List & Map in CQL with Example <br>\n",
        "https://www.guru99.com/cassandra-collections-tutorial-set-list-map.html"
      ]
    },
    {
      "cell_type": "markdown",
      "metadata": {
        "id": "IsSZLvB_TEtv"
      },
      "source": [
        "## Set"
      ]
    },
    {
      "cell_type": "code",
      "metadata": {
        "id": "yyLHa9pH-gI5",
        "outputId": "b1a89c31-f9be-4d36-9b92-b79ec2d235d2",
        "colab": {
          "base_uri": "https://localhost:8080/"
        }
      },
      "source": [
        "#!cqlsh -k praxis -e \"drop table teacher01;\"\n",
        "!cqlsh -k praxis -e \"\\\n",
        "Create table Teacher01 \\\n",
        "( \\\n",
        "id int, \\\n",
        "Name text, \\\n",
        "Email set<text>, \\\n",
        "Primary key(id) \\\n",
        ");\\\n",
        "\""
      ],
      "execution_count": 40,
      "outputs": [
        {
          "output_type": "stream",
          "name": "stdout",
          "text": [
            "\u001b[0;1;31m<stdin>:1:SyntaxException: line 1:0 no viable alternative at input ';' ([;])\u001b[0m\n"
          ]
        }
      ]
    },
    {
      "cell_type": "code",
      "metadata": {
        "id": "fstGLMXT_UHP"
      },
      "source": [
        "!cqlsh -k praxis  -e \"insert into Teacher01(id,Name,Email) \\\n",
        " values(1,'prithwis',{{'abc@gmail.com','xyz@hotmail.com'}});\""
      ],
      "execution_count": 41,
      "outputs": []
    },
    {
      "cell_type": "code",
      "metadata": {
        "id": "lbiChxCHQ0Ei"
      },
      "source": [
        "!cqlsh -k praxis  -e \"insert into Teacher01(id,Name,Email) \\\n",
        "values(2,'charan',{{'abc1@gmail.com','xyz1@hotmail.com','xyz2@hotmail.com'}});\""
      ],
      "execution_count": 42,
      "outputs": []
    },
    {
      "cell_type": "code",
      "metadata": {
        "id": "hNwoV_zOG85P",
        "outputId": "6fd1f22a-89d5-4e60-8289-2d96ea02a111",
        "colab": {
          "base_uri": "https://localhost:8080/"
        }
      },
      "source": [
        "!cqlsh -k praxis -e \" select * from Teacher01;\""
      ],
      "execution_count": 43,
      "outputs": [
        {
          "output_type": "stream",
          "name": "stdout",
          "text": [
            "\n",
            " \u001b[0;1;31mid\u001b[0m | \u001b[0;1;35memail\u001b[0m                                                      | \u001b[0;1;35mname\u001b[0m\n",
            "----+------------------------------------------------------------+----------\n",
            "  \u001b[0;1;32m1\u001b[0m |                       \u001b[0;1;34m{\u001b[0m\u001b[0;1;33m'abc@gmail.com'\u001b[0m\u001b[0;1;34m, \u001b[0m\u001b[0;1;33m'xyz@hotmail.com'\u001b[0m\u001b[0;1;34m}\u001b[0m | \u001b[0;1;33mprithwis\u001b[0m\n",
            "  \u001b[0;1;32m2\u001b[0m | \u001b[0;1;34m{\u001b[0m\u001b[0;1;33m'abc1@gmail.com'\u001b[0m\u001b[0;1;34m, \u001b[0m\u001b[0;1;33m'xyz1@hotmail.com'\u001b[0m\u001b[0;1;34m, \u001b[0m\u001b[0;1;33m'xyz2@hotmail.com'\u001b[0m\u001b[0;1;34m}\u001b[0m |   \u001b[0;1;33mcharan\u001b[0m\n",
            "\n",
            "(2 rows)\n"
          ]
        }
      ]
    },
    {
      "cell_type": "markdown",
      "metadata": {
        "id": "9V2GWLmfTIjf"
      },
      "source": [
        "## List"
      ]
    },
    {
      "cell_type": "code",
      "metadata": {
        "id": "F3v0UsVIRNay",
        "outputId": "fae91bc1-77ff-4c18-ce31-f213df527e0d",
        "colab": {
          "base_uri": "https://localhost:8080/"
        }
      },
      "source": [
        "!cqlsh -k praxis -e \"drop table teacher02;\"\n",
        "!cqlsh -k praxis -e \"\\\n",
        "Create table Teacher02 \\\n",
        "( \\\n",
        "id int, \\\n",
        "Name text, \\\n",
        "Courses list<text>, \\\n",
        "Primary key(id) \\\n",
        ");\\\n",
        "\""
      ],
      "execution_count": 44,
      "outputs": [
        {
          "output_type": "stream",
          "name": "stdout",
          "text": [
            "\u001b[0;1;31m<stdin>:1:InvalidRequest: Error from server: code=2200 [Invalid query] message=\"Table 'praxis.teacher02' doesn't exist\"\u001b[0m\n",
            "\u001b[0;1;31m<stdin>:1:SyntaxException: line 1:0 no viable alternative at input ';' ([;])\u001b[0m\n"
          ]
        }
      ]
    },
    {
      "cell_type": "code",
      "metadata": {
        "id": "GsLimDsXRr8C"
      },
      "source": [
        "!cqlsh -k praxis  -e \"insert into Teacher02(id,Name,Courses) values(1,'prithwis',{['FDS','Python']});\"\n",
        "!cqlsh -k praxis  -e \"insert into Teacher02(id,Name,Courses) values(2,'charan',{['Comms','English','Interview']});\""
      ],
      "execution_count": 45,
      "outputs": []
    },
    {
      "cell_type": "code",
      "metadata": {
        "id": "xaau9HIkSHU4",
        "outputId": "5e1dc6db-0b75-4ec1-9929-306cb77c0354",
        "colab": {
          "base_uri": "https://localhost:8080/"
        }
      },
      "source": [
        "!cqlsh -k praxis -e \"select * from teacher02;\""
      ],
      "execution_count": 46,
      "outputs": [
        {
          "output_type": "stream",
          "name": "stdout",
          "text": [
            "\n",
            " \u001b[0;1;31mid\u001b[0m | \u001b[0;1;35mcourses\u001b[0m                           | \u001b[0;1;35mname\u001b[0m\n",
            "----+-----------------------------------+----------\n",
            "  \u001b[0;1;32m1\u001b[0m |                 \u001b[0;1;34m[\u001b[0m\u001b[0;1;33m'FDS'\u001b[0m\u001b[0;1;34m, \u001b[0m\u001b[0;1;33m'Python'\u001b[0m\u001b[0;1;34m]\u001b[0m | \u001b[0;1;33mprithwis\u001b[0m\n",
            "  \u001b[0;1;32m2\u001b[0m | \u001b[0;1;34m[\u001b[0m\u001b[0;1;33m'Comms'\u001b[0m\u001b[0;1;34m, \u001b[0m\u001b[0;1;33m'English'\u001b[0m\u001b[0;1;34m, \u001b[0m\u001b[0;1;33m'Interview'\u001b[0m\u001b[0;1;34m]\u001b[0m |   \u001b[0;1;33mcharan\u001b[0m\n",
            "\n",
            "(2 rows)\n"
          ]
        }
      ]
    },
    {
      "cell_type": "markdown",
      "metadata": {
        "id": "dLtoVQhJTMI9"
      },
      "source": [
        "## Maps"
      ]
    },
    {
      "cell_type": "code",
      "metadata": {
        "id": "MoovfcWETpMc",
        "outputId": "60d769be-243f-4021-84ef-eecae095311a",
        "colab": {
          "base_uri": "https://localhost:8080/"
        }
      },
      "source": [
        "!cqlsh -k praxis -e \"drop table if exists courses;\"\n",
        "!cqlsh -k praxis -e \"\\\n",
        "Create table courses \\\n",
        "( \\\n",
        "id int, \\\n",
        "Name text, \\\n",
        "Teachers map<text,text>, \\\n",
        "Primary key(id) \\\n",
        ");\\\n",
        "\""
      ],
      "execution_count": 47,
      "outputs": [
        {
          "output_type": "stream",
          "name": "stdout",
          "text": [
            "\u001b[0;1;31m<stdin>:1:SyntaxException: line 1:0 no viable alternative at input ';' ([;])\u001b[0m\n"
          ]
        }
      ]
    },
    {
      "cell_type": "code",
      "metadata": {
        "id": "UQxNOPP-UHCY",
        "outputId": "89bd183f-23dc-42f9-eb5e-f2bb467cda65",
        "colab": {
          "base_uri": "https://localhost:8080/"
        }
      },
      "source": [
        "!cqlsh -k praxis  -e \"insert into courses(id,Name,Teachers) values(100,'PGDM',{{'Stats':'SRC','FDM':'Atanu'}});\"\n",
        "!cqlsh -k praxis  -e \"insert into courses(id,Name,Teachers) values(200,'PGDS',{{'Stats':'SRC','ML':'SDG', 'BDSM':'PM'}});\"\n",
        "!cqlsh -k praxis -e \"select * from courses;\""
      ],
      "execution_count": 48,
      "outputs": [
        {
          "output_type": "stream",
          "name": "stdout",
          "text": [
            "\n",
            " \u001b[0;1;31mid\u001b[0m  | \u001b[0;1;35mname\u001b[0m | \u001b[0;1;35mteachers\u001b[0m\n",
            "-----+------+---------------------------------------------\n",
            " \u001b[0;1;32m200\u001b[0m | \u001b[0;1;33mPGDS\u001b[0m | \u001b[0;1;34m{\u001b[0m\u001b[0;1;33m'BDSM'\u001b[0m\u001b[0;1;34m: \u001b[0m\u001b[0;1;33m'PM'\u001b[0m\u001b[0;1;34m, \u001b[0m\u001b[0;1;33m'ML'\u001b[0m\u001b[0;1;34m: \u001b[0m\u001b[0;1;33m'SDG'\u001b[0m\u001b[0;1;34m, \u001b[0m\u001b[0;1;33m'Stats'\u001b[0m\u001b[0;1;34m: \u001b[0m\u001b[0;1;33m'SRC'\u001b[0m\u001b[0;1;34m}\u001b[0m\n",
            " \u001b[0;1;32m100\u001b[0m | \u001b[0;1;33mPGDM\u001b[0m |            \u001b[0;1;34m{\u001b[0m\u001b[0;1;33m'FDM'\u001b[0m\u001b[0;1;34m: \u001b[0m\u001b[0;1;33m'Atanu'\u001b[0m\u001b[0;1;34m, \u001b[0m\u001b[0;1;33m'Stats'\u001b[0m\u001b[0;1;34m: \u001b[0m\u001b[0;1;33m'SRC'\u001b[0m\u001b[0;1;34m}\u001b[0m\n",
            "\n",
            "(2 rows)\n"
          ]
        }
      ]
    },
    {
      "cell_type": "code",
      "metadata": {
        "id": "2pr7JKbBMa3x"
      },
      "source": [
        "#!cqlsh -k praxis -e \"describe Teacher02;\""
      ],
      "execution_count": null,
      "outputs": []
    },
    {
      "cell_type": "markdown",
      "metadata": {
        "id": "vBVecFMbW8lo"
      },
      "source": [
        "## Python"
      ]
    },
    {
      "cell_type": "code",
      "metadata": {
        "id": "zcdhzWyBW-eF",
        "outputId": "3e281e7a-e2e1-4085-c179-4a4fabbdd0e7",
        "colab": {
          "base_uri": "https://localhost:8080/"
        }
      },
      "source": [
        "rows = session.execute('SELECT * FROM teacher01')\n",
        "for row in rows:\n",
        "        print(row)\n",
        "        emails = row.email\n",
        "        print(emails)\n",
        "        emails2 = list(emails)\n",
        "        for im in emails2:\n",
        "            print(im)"
      ],
      "execution_count": 49,
      "outputs": [
        {
          "output_type": "stream",
          "name": "stdout",
          "text": [
            "Row(id=1, email=SortedSet(['abc@gmail.com', 'xyz@hotmail.com']), name='prithwis')\n",
            "SortedSet(['abc@gmail.com', 'xyz@hotmail.com'])\n",
            "abc@gmail.com\n",
            "xyz@hotmail.com\n",
            "Row(id=2, email=SortedSet(['abc1@gmail.com', 'xyz1@hotmail.com', 'xyz2@hotmail.com']), name='charan')\n",
            "SortedSet(['abc1@gmail.com', 'xyz1@hotmail.com', 'xyz2@hotmail.com'])\n",
            "abc1@gmail.com\n",
            "xyz1@hotmail.com\n",
            "xyz2@hotmail.com\n"
          ]
        }
      ]
    },
    {
      "cell_type": "code",
      "metadata": {
        "id": "mozz69rmYVSh",
        "outputId": "af870252-2837-4337-8988-eb6a52f71f20",
        "colab": {
          "base_uri": "https://localhost:8080/"
        }
      },
      "source": [
        "rows = session.execute('SELECT * FROM teacher02')\n",
        "for row in rows:\n",
        "        print(row)\n",
        "        courses = row.courses\n",
        "        print(courses)\n",
        "        for c in courses:\n",
        "            print(c)"
      ],
      "execution_count": 50,
      "outputs": [
        {
          "output_type": "stream",
          "name": "stdout",
          "text": [
            "Row(id=1, courses=['FDS', 'Python'], name='prithwis')\n",
            "['FDS', 'Python']\n",
            "FDS\n",
            "Python\n",
            "Row(id=2, courses=['Comms', 'English', 'Interview'], name='charan')\n",
            "['Comms', 'English', 'Interview']\n",
            "Comms\n",
            "English\n",
            "Interview\n"
          ]
        }
      ]
    },
    {
      "cell_type": "code",
      "metadata": {
        "id": "3XxBFAErZZWO",
        "outputId": "a6c781c2-405d-4a72-e99b-b18cb3110f53",
        "colab": {
          "base_uri": "https://localhost:8080/"
        }
      },
      "source": [
        "rows = session.execute('SELECT * FROM courses')\n",
        "for row in rows:\n",
        "        print(row)\n",
        "        print(row.teachers) # this is a dictionary and can be used as such\n",
        "        for k,v in row.teachers.items():\n",
        "            print(k,v)\n",
        "        \n",
        "        "
      ],
      "execution_count": 51,
      "outputs": [
        {
          "output_type": "stream",
          "name": "stdout",
          "text": [
            "Row(id=200, name='PGDS', teachers=OrderedMapSerializedKey([('BDSM', 'PM'), ('ML', 'SDG'), ('Stats', 'SRC')]))\n",
            "{'BDSM': 'PM', 'ML': 'SDG', 'Stats': 'SRC'}\n",
            "BDSM PM\n",
            "ML SDG\n",
            "Stats SRC\n",
            "Row(id=100, name='PGDM', teachers=OrderedMapSerializedKey([('FDM', 'Atanu'), ('Stats', 'SRC')]))\n",
            "{'FDM': 'Atanu', 'Stats': 'SRC'}\n",
            "FDM Atanu\n",
            "Stats SRC\n"
          ]
        }
      ]
    },
    {
      "cell_type": "markdown",
      "source": [
        "# Bulk Data Load"
      ],
      "metadata": {
        "id": "Vgl4lmtWiluA"
      }
    },
    {
      "cell_type": "code",
      "source": [
        "#!gdown https://drive.google.com/uc?id=1T7teYg1_SXzZLbh8SOF0UIzpyK-L1aZL\n",
        "!wget -q https://raw.githubusercontent.com/Praxis-QR/BDSN/main/data/cassandra/Employee.csv\n",
        "!cat Employee.csv"
      ],
      "metadata": {
        "id": "AGzrAttgipxr",
        "outputId": "3b314449-7326-4313-8070-33702f8c8952",
        "colab": {
          "base_uri": "https://localhost:8080/"
        }
      },
      "execution_count": 53,
      "outputs": [
        {
          "output_type": "stream",
          "name": "stdout",
          "text": [
            "EmpID,LastName,FirstName,JobDesc,JoinDate,Salary,Comm,DeptID\n",
            "742866,Bacchan,Amitabh,Executive,2003-03-10,50000,0.1,10\n",
            "349870,Mukherjee,Rani,Manager,2005-05-04,25000,0.06,40\n",
            "865477,Dikshit,Madhuri,Clerk,2002-04-04,10000,0.02,20\n",
            "239456,Khan,Shahrukh,Manager,2004-01-03,30000,0.07,20\n",
            "897889,Sehwag,Virender,Cus_Rep,2005-01-02,15000,0.05,20\n",
            "123980,Dhoni,Mahender,Clerk,2004-10-09,9000,0.02,40\n",
            "822134,Dravid,Rahul,Sr Manager,2000-06-04,40000,0.08,30\n",
            "997445,Dalmia,Jagmohan,Clerk,2001-07-01,12000,0.02,30\n",
            "989007,Ganguly,Sourav,Cus_Rep,2002-01-01,20000,0.03,40\n",
            "299034,Ganesan,Rekha,Director,2002-10-10,60000,0.11,10\n",
            "546223,Karthikeyan,Narayan,Secretary,2005-12-04,40000,0.09,10\n",
            "223112,Mirza,Sania,Cus_Rep,2001-11-19,25000,0.04,30"
          ]
        }
      ]
    },
    {
      "cell_type": "code",
      "source": [
        "!cqlsh -k praxis -e \"drop table if exists emp;\"\n",
        "!cqlsh -k praxis -e \"\\\n",
        "    CREATE TABLE emp (\\\n",
        "    empid int PRIMARY KEY, \\\n",
        "    lastname text,\\\n",
        "    firsname text,\\\n",
        "    jobdesc text,\\\n",
        "    joindate text,\\\n",
        "    salary int,\\\n",
        "    comm decimal,\\\n",
        "    deptid text \\\n",
        "    );\\\n",
        "\""
      ],
      "metadata": {
        "id": "TKTF3QpimQhA",
        "outputId": "62add231-0563-4a2e-dc75-95ce7a13806e",
        "colab": {
          "base_uri": "https://localhost:8080/"
        }
      },
      "execution_count": 55,
      "outputs": [
        {
          "output_type": "stream",
          "name": "stdout",
          "text": [
            "\u001b[0;1;31m<stdin>:1:SyntaxException: line 1:0 no viable alternative at input ';' ([;])\u001b[0m\n"
          ]
        }
      ]
    },
    {
      "cell_type": "code",
      "source": [
        "!cqlsh -k praxis -e \"select * from emp;\""
      ],
      "metadata": {
        "id": "ju33d1IznoXq",
        "outputId": "655e0d04-ced6-4ce8-8e20-1228cecb757d",
        "colab": {
          "base_uri": "https://localhost:8080/"
        }
      },
      "execution_count": 56,
      "outputs": [
        {
          "output_type": "stream",
          "name": "stdout",
          "text": [
            "\n",
            " \u001b[0;1;31mempid\u001b[0m | \u001b[0;1;35mcomm\u001b[0m | \u001b[0;1;35mdeptid\u001b[0m | \u001b[0;1;35mfirsname\u001b[0m | \u001b[0;1;35mjobdesc\u001b[0m | \u001b[0;1;35mjoindate\u001b[0m | \u001b[0;1;35mlastname\u001b[0m | \u001b[0;1;35msalary\u001b[0m\n",
            "-------+------+--------+----------+---------+----------+----------+--------\n",
            "\n",
            "\n",
            "(0 rows)\n"
          ]
        }
      ]
    },
    {
      "cell_type": "code",
      "source": [
        "!cqlsh -k praxis -e \"\\\n",
        "    COPY emp (empid,lastname,firsname,jobdesc,joindate,salary,comm,deptid) \\\n",
        "    FROM 'Employee.csv' \\\n",
        "    WITH HEADER = TRUE;\\\n",
        "\""
      ],
      "metadata": {
        "id": "OlCMME9kn1c6",
        "outputId": "5e64a8e8-cece-4d2b-9cf8-5e759598a80c",
        "colab": {
          "base_uri": "https://localhost:8080/"
        }
      },
      "execution_count": 57,
      "outputs": [
        {
          "output_type": "stream",
          "name": "stdout",
          "text": [
            "Using 1 child processes\n",
            "\n",
            "Starting copy of praxis.emp with columns [empid, lastname, firsname, jobdesc, joindate, salary, comm, deptid].\n",
            "Processed: 12 rows; Rate:      18 rows/s; Avg. rate:      28 rows/s\n",
            "12 rows imported from 1 files in 0.436 seconds (0 skipped).\n",
            "\u001b[0;1;31m<stdin>:1:SyntaxException: line 1:0 no viable alternative at input ';' ([;])\u001b[0m\n"
          ]
        }
      ]
    },
    {
      "cell_type": "code",
      "source": [
        "!cqlsh -k praxis -e \"select * from emp;\""
      ],
      "metadata": {
        "id": "TOLb7B_XoqXN",
        "outputId": "6215c033-9737-4556-dab4-882a6bfdd17c",
        "colab": {
          "base_uri": "https://localhost:8080/"
        }
      },
      "execution_count": 58,
      "outputs": [
        {
          "output_type": "stream",
          "name": "stdout",
          "text": [
            "\n",
            " \u001b[0;1;31mempid\u001b[0m  | \u001b[0;1;35mcomm\u001b[0m | \u001b[0;1;35mdeptid\u001b[0m | \u001b[0;1;35mfirsname\u001b[0m | \u001b[0;1;35mjobdesc\u001b[0m    | \u001b[0;1;35mjoindate\u001b[0m   | \u001b[0;1;35mlastname\u001b[0m    | \u001b[0;1;35msalary\u001b[0m\n",
            "--------+------+--------+----------+------------+------------+-------------+--------\n",
            " \u001b[0;1;32m546223\u001b[0m | \u001b[0;1;32m0.09\u001b[0m |     \u001b[0;1;33m10\u001b[0m |  \u001b[0;1;33mNarayan\u001b[0m |  \u001b[0;1;33mSecretary\u001b[0m | \u001b[0;1;33m2005-12-04\u001b[0m | \u001b[0;1;33mKarthikeyan\u001b[0m |  \u001b[0;1;32m40000\u001b[0m\n",
            " \u001b[0;1;32m223112\u001b[0m | \u001b[0;1;32m0.04\u001b[0m |     \u001b[0;1;33m30\u001b[0m |    \u001b[0;1;33mSania\u001b[0m |    \u001b[0;1;33mCus_Rep\u001b[0m | \u001b[0;1;33m2001-11-19\u001b[0m |       \u001b[0;1;33mMirza\u001b[0m |  \u001b[0;1;32m25000\u001b[0m\n",
            " \u001b[0;1;32m989007\u001b[0m | \u001b[0;1;32m0.03\u001b[0m |     \u001b[0;1;33m40\u001b[0m |   \u001b[0;1;33mSourav\u001b[0m |    \u001b[0;1;33mCus_Rep\u001b[0m | \u001b[0;1;33m2002-01-01\u001b[0m |     \u001b[0;1;33mGanguly\u001b[0m |  \u001b[0;1;32m20000\u001b[0m\n",
            " \u001b[0;1;32m865477\u001b[0m | \u001b[0;1;32m0.02\u001b[0m |     \u001b[0;1;33m20\u001b[0m |  \u001b[0;1;33mMadhuri\u001b[0m |      \u001b[0;1;33mClerk\u001b[0m | \u001b[0;1;33m2002-04-04\u001b[0m |     \u001b[0;1;33mDikshit\u001b[0m |  \u001b[0;1;32m10000\u001b[0m\n",
            " \u001b[0;1;32m123980\u001b[0m | \u001b[0;1;32m0.02\u001b[0m |     \u001b[0;1;33m40\u001b[0m | \u001b[0;1;33mMahender\u001b[0m |      \u001b[0;1;33mClerk\u001b[0m | \u001b[0;1;33m2004-10-09\u001b[0m |       \u001b[0;1;33mDhoni\u001b[0m |   \u001b[0;1;32m9000\u001b[0m\n",
            " \u001b[0;1;32m897889\u001b[0m | \u001b[0;1;32m0.05\u001b[0m |     \u001b[0;1;33m20\u001b[0m | \u001b[0;1;33mVirender\u001b[0m |    \u001b[0;1;33mCus_Rep\u001b[0m | \u001b[0;1;33m2005-01-02\u001b[0m |      \u001b[0;1;33mSehwag\u001b[0m |  \u001b[0;1;32m15000\u001b[0m\n",
            " \u001b[0;1;32m349870\u001b[0m | \u001b[0;1;32m0.06\u001b[0m |     \u001b[0;1;33m40\u001b[0m |     \u001b[0;1;33mRani\u001b[0m |    \u001b[0;1;33mManager\u001b[0m | \u001b[0;1;33m2005-05-04\u001b[0m |   \u001b[0;1;33mMukherjee\u001b[0m |  \u001b[0;1;32m25000\u001b[0m\n",
            " \u001b[0;1;32m239456\u001b[0m | \u001b[0;1;32m0.07\u001b[0m |     \u001b[0;1;33m20\u001b[0m | \u001b[0;1;33mShahrukh\u001b[0m |    \u001b[0;1;33mManager\u001b[0m | \u001b[0;1;33m2004-01-03\u001b[0m |        \u001b[0;1;33mKhan\u001b[0m |  \u001b[0;1;32m30000\u001b[0m\n",
            " \u001b[0;1;32m742866\u001b[0m |  \u001b[0;1;32m0.1\u001b[0m |     \u001b[0;1;33m10\u001b[0m |  \u001b[0;1;33mAmitabh\u001b[0m |  \u001b[0;1;33mExecutive\u001b[0m | \u001b[0;1;33m2003-03-10\u001b[0m |     \u001b[0;1;33mBacchan\u001b[0m |  \u001b[0;1;32m50000\u001b[0m\n",
            " \u001b[0;1;32m997445\u001b[0m | \u001b[0;1;32m0.02\u001b[0m |     \u001b[0;1;33m30\u001b[0m | \u001b[0;1;33mJagmohan\u001b[0m |      \u001b[0;1;33mClerk\u001b[0m | \u001b[0;1;33m2001-07-01\u001b[0m |      \u001b[0;1;33mDalmia\u001b[0m |  \u001b[0;1;32m12000\u001b[0m\n",
            " \u001b[0;1;32m822134\u001b[0m | \u001b[0;1;32m0.08\u001b[0m |     \u001b[0;1;33m30\u001b[0m |    \u001b[0;1;33mRahul\u001b[0m | \u001b[0;1;33mSr Manager\u001b[0m | \u001b[0;1;33m2000-06-04\u001b[0m |      \u001b[0;1;33mDravid\u001b[0m |  \u001b[0;1;32m40000\u001b[0m\n",
            " \u001b[0;1;32m299034\u001b[0m | \u001b[0;1;32m0.11\u001b[0m |     \u001b[0;1;33m10\u001b[0m |    \u001b[0;1;33mRekha\u001b[0m |   \u001b[0;1;33mDirector\u001b[0m | \u001b[0;1;33m2002-10-10\u001b[0m |     \u001b[0;1;33mGanesan\u001b[0m |  \u001b[0;1;32m60000\u001b[0m\n",
            "\n",
            "(12 rows)\n"
          ]
        }
      ]
    },
    {
      "cell_type": "code",
      "source": [
        "rows = session.execute(\"SELECT * from emp where jobdesc = 'Cus_Rep'\")\n",
        "for row in rows:\n",
        "        print(row)\n",
        "        LastName = row.lastname\n",
        "        FirstName = row.firsname\n",
        "        print(LastName, FirstName)"
      ],
      "metadata": {
        "id": "2Cb1aIDZyMVh",
        "outputId": "e1ce305a-b5c1-4f5e-81fc-aa1eb37495a0",
        "colab": {
          "base_uri": "https://localhost:8080/",
          "height": 311
        }
      },
      "execution_count": 59,
      "outputs": [
        {
          "output_type": "error",
          "ename": "InvalidRequest",
          "evalue": "ignored",
          "traceback": [
            "\u001b[0;31m---------------------------------------------------------------------------\u001b[0m",
            "\u001b[0;31mInvalidRequest\u001b[0m                            Traceback (most recent call last)",
            "\u001b[0;32m<ipython-input-59-be17d00a7cd5>\u001b[0m in \u001b[0;36m<module>\u001b[0;34m\u001b[0m\n\u001b[0;32m----> 1\u001b[0;31m \u001b[0mrows\u001b[0m \u001b[0;34m=\u001b[0m \u001b[0msession\u001b[0m\u001b[0;34m.\u001b[0m\u001b[0mexecute\u001b[0m\u001b[0;34m(\u001b[0m\u001b[0;34m\"SELECT * from emp where jobdesc = 'Cus_Rep'\"\u001b[0m\u001b[0;34m)\u001b[0m\u001b[0;34m\u001b[0m\u001b[0;34m\u001b[0m\u001b[0m\n\u001b[0m\u001b[1;32m      2\u001b[0m \u001b[0;32mfor\u001b[0m \u001b[0mrow\u001b[0m \u001b[0;32min\u001b[0m \u001b[0mrows\u001b[0m\u001b[0;34m:\u001b[0m\u001b[0;34m\u001b[0m\u001b[0;34m\u001b[0m\u001b[0m\n\u001b[1;32m      3\u001b[0m         \u001b[0mprint\u001b[0m\u001b[0;34m(\u001b[0m\u001b[0mrow\u001b[0m\u001b[0;34m)\u001b[0m\u001b[0;34m\u001b[0m\u001b[0;34m\u001b[0m\u001b[0m\n\u001b[1;32m      4\u001b[0m         \u001b[0mLastName\u001b[0m \u001b[0;34m=\u001b[0m \u001b[0mrow\u001b[0m\u001b[0;34m.\u001b[0m\u001b[0mlastname\u001b[0m\u001b[0;34m\u001b[0m\u001b[0;34m\u001b[0m\u001b[0m\n\u001b[1;32m      5\u001b[0m         \u001b[0mFirstName\u001b[0m \u001b[0;34m=\u001b[0m \u001b[0mrow\u001b[0m\u001b[0;34m.\u001b[0m\u001b[0mfirsname\u001b[0m\u001b[0;34m\u001b[0m\u001b[0;34m\u001b[0m\u001b[0m\n",
            "\u001b[0;32m/usr/local/lib/python3.8/dist-packages/cassandra/cluster.cpython-38-x86_64-linux-gnu.so\u001b[0m in \u001b[0;36mcassandra.cluster.Session.execute\u001b[0;34m()\u001b[0m\n",
            "\u001b[0;32m/usr/local/lib/python3.8/dist-packages/cassandra/cluster.cpython-38-x86_64-linux-gnu.so\u001b[0m in \u001b[0;36mcassandra.cluster.ResponseFuture.result\u001b[0;34m()\u001b[0m\n",
            "\u001b[0;31mInvalidRequest\u001b[0m: Error from server: code=2200 [Invalid query] message=\"Cannot execute this query as it might involve data filtering and thus may have unpredictable performance. If you want to execute this query despite the performance unpredictability, use ALLOW FILTERING\""
          ]
        }
      ]
    },
    {
      "cell_type": "code",
      "source": [
        "#Create index IndexName on KeyspaceName.TableName(ColumnName);\n",
        "!cqlsh -k praxis -e \"create index IndexName on emp (jobdesc);\""
      ],
      "metadata": {
        "id": "m1WJUf9mxW6_"
      },
      "execution_count": null,
      "outputs": []
    },
    {
      "cell_type": "code",
      "source": [
        "rows = session.execute(\"SELECT * from emp where jobdesc = 'Cus_Rep'\")\n",
        "for row in rows:\n",
        "        print(row)\n",
        "        LastName = row.lastname\n",
        "        FirstName = row.firsname\n",
        "        print(LastName, FirstName)\n",
        "        #emails2 = list(emails)\n",
        "        #for im in emails2:\n",
        "        #    print(im)"
      ],
      "metadata": {
        "id": "d9YSGkVMuiEm",
        "outputId": "ebeb7e78-9ef9-41e4-dd88-cdf0cc42ad28",
        "colab": {
          "base_uri": "https://localhost:8080/",
          "height": 311
        }
      },
      "execution_count": null,
      "outputs": [
        {
          "output_type": "error",
          "ename": "InvalidRequest",
          "evalue": "ignored",
          "traceback": [
            "\u001b[0;31m---------------------------------------------------------------------------\u001b[0m",
            "\u001b[0;31mInvalidRequest\u001b[0m                            Traceback (most recent call last)",
            "\u001b[0;32m<ipython-input-68-0dbe73b27795>\u001b[0m in \u001b[0;36m<module>\u001b[0;34m\u001b[0m\n\u001b[0;32m----> 1\u001b[0;31m \u001b[0mrows\u001b[0m \u001b[0;34m=\u001b[0m \u001b[0msession\u001b[0m\u001b[0;34m.\u001b[0m\u001b[0mexecute\u001b[0m\u001b[0;34m(\u001b[0m\u001b[0;34m\"SELECT * from emp where jobdesc = 'Cus_Rep'\"\u001b[0m\u001b[0;34m)\u001b[0m\u001b[0;34m\u001b[0m\u001b[0;34m\u001b[0m\u001b[0m\n\u001b[0m\u001b[1;32m      2\u001b[0m \u001b[0;32mfor\u001b[0m \u001b[0mrow\u001b[0m \u001b[0;32min\u001b[0m \u001b[0mrows\u001b[0m\u001b[0;34m:\u001b[0m\u001b[0;34m\u001b[0m\u001b[0;34m\u001b[0m\u001b[0m\n\u001b[1;32m      3\u001b[0m         \u001b[0mprint\u001b[0m\u001b[0;34m(\u001b[0m\u001b[0mrow\u001b[0m\u001b[0;34m)\u001b[0m\u001b[0;34m\u001b[0m\u001b[0;34m\u001b[0m\u001b[0m\n\u001b[1;32m      4\u001b[0m         \u001b[0mLastName\u001b[0m \u001b[0;34m=\u001b[0m \u001b[0mrow\u001b[0m\u001b[0;34m.\u001b[0m\u001b[0mlastname\u001b[0m\u001b[0;34m\u001b[0m\u001b[0;34m\u001b[0m\u001b[0m\n\u001b[1;32m      5\u001b[0m         \u001b[0mFirstName\u001b[0m \u001b[0;34m=\u001b[0m \u001b[0mrow\u001b[0m\u001b[0;34m.\u001b[0m\u001b[0mfirsname\u001b[0m\u001b[0;34m\u001b[0m\u001b[0;34m\u001b[0m\u001b[0m\n",
            "\u001b[0;32m/usr/local/lib/python3.7/dist-packages/cassandra/cluster.cpython-37m-x86_64-linux-gnu.so\u001b[0m in \u001b[0;36mcassandra.cluster.Session.execute\u001b[0;34m()\u001b[0m\n",
            "\u001b[0;32m/usr/local/lib/python3.7/dist-packages/cassandra/cluster.cpython-37m-x86_64-linux-gnu.so\u001b[0m in \u001b[0;36mcassandra.cluster.ResponseFuture.result\u001b[0;34m()\u001b[0m\n",
            "\u001b[0;31mInvalidRequest\u001b[0m: Error from server: code=2200 [Invalid query] message=\"Cannot execute this query as it might involve data filtering and thus may have unpredictable performance. If you want to execute this query despite the performance unpredictability, use ALLOW FILTERING\""
          ]
        }
      ]
    },
    {
      "cell_type": "code",
      "source": [
        "rows = session.execute(\"SELECT * from emp where jobdesc like '%Manager%'\")\n",
        "for row in rows:\n",
        "        print(row)\n",
        "        LastName = row.lastname\n",
        "        FirstName = row.firsname\n",
        "        print(LastName, FirstName)\n",
        "        #emails2 = list(emails)\n",
        "        #for im in emails2:\n",
        "        #    print(im)"
      ],
      "metadata": {
        "id": "MdHVrpdCyBxK",
        "outputId": "66486ca7-ffa8-46a2-f00a-01f70db95bfe",
        "colab": {
          "base_uri": "https://localhost:8080/",
          "height": 310
        }
      },
      "execution_count": null,
      "outputs": [
        {
          "output_type": "error",
          "ename": "InvalidRequest",
          "evalue": "ignored",
          "traceback": [
            "\u001b[0;31m---------------------------------------------------------------------------\u001b[0m",
            "\u001b[0;31mInvalidRequest\u001b[0m                            Traceback (most recent call last)",
            "\u001b[0;32m<ipython-input-55-4d496fd0b8a5>\u001b[0m in \u001b[0;36m<module>\u001b[0;34m()\u001b[0m\n\u001b[0;32m----> 1\u001b[0;31m \u001b[0mrows\u001b[0m \u001b[0;34m=\u001b[0m \u001b[0msession\u001b[0m\u001b[0;34m.\u001b[0m\u001b[0mexecute\u001b[0m\u001b[0;34m(\u001b[0m\u001b[0;34m\"SELECT * from emp where jobdesc like '%Manager%'\"\u001b[0m\u001b[0;34m)\u001b[0m\u001b[0;34m\u001b[0m\u001b[0;34m\u001b[0m\u001b[0m\n\u001b[0m\u001b[1;32m      2\u001b[0m \u001b[0;32mfor\u001b[0m \u001b[0mrow\u001b[0m \u001b[0;32min\u001b[0m \u001b[0mrows\u001b[0m\u001b[0;34m:\u001b[0m\u001b[0;34m\u001b[0m\u001b[0;34m\u001b[0m\u001b[0m\n\u001b[1;32m      3\u001b[0m         \u001b[0mprint\u001b[0m\u001b[0;34m(\u001b[0m\u001b[0mrow\u001b[0m\u001b[0;34m)\u001b[0m\u001b[0;34m\u001b[0m\u001b[0;34m\u001b[0m\u001b[0m\n\u001b[1;32m      4\u001b[0m         \u001b[0mLastName\u001b[0m \u001b[0;34m=\u001b[0m \u001b[0mrow\u001b[0m\u001b[0;34m.\u001b[0m\u001b[0mlastname\u001b[0m\u001b[0;34m\u001b[0m\u001b[0;34m\u001b[0m\u001b[0m\n\u001b[1;32m      5\u001b[0m         \u001b[0mFirstName\u001b[0m \u001b[0;34m=\u001b[0m \u001b[0mrow\u001b[0m\u001b[0;34m.\u001b[0m\u001b[0mfirsname\u001b[0m\u001b[0;34m\u001b[0m\u001b[0;34m\u001b[0m\u001b[0m\n",
            "\u001b[0;32m/usr/local/lib/python3.7/dist-packages/cassandra/cluster.cpython-37m-x86_64-linux-gnu.so\u001b[0m in \u001b[0;36mcassandra.cluster.Session.execute\u001b[0;34m()\u001b[0m\n",
            "\u001b[0;32m/usr/local/lib/python3.7/dist-packages/cassandra/cluster.cpython-37m-x86_64-linux-gnu.so\u001b[0m in \u001b[0;36mcassandra.cluster.ResponseFuture.result\u001b[0;34m()\u001b[0m\n",
            "\u001b[0;31mInvalidRequest\u001b[0m: Error from server: code=2200 [Invalid query] message=\"LIKE restriction is only supported on properly indexed columns. jobdesc LIKE '%Manager%' is not valid.\""
          ]
        }
      ]
    },
    {
      "cell_type": "code",
      "source": [
        "!cqlsh -k praxis -e \"\\\n",
        "CREATE CUSTOM INDEX  fn_prefix ON emp (jobdesc) USING 'org.apache.cassandra.index.sasi.SASIIndex';\\\n",
        "\""
      ],
      "metadata": {
        "id": "IsE0xVbxzxMe",
        "outputId": "84b5cb1e-b182-4ceb-a7f6-81e4ae136c59",
        "colab": {
          "base_uri": "https://localhost:8080/"
        }
      },
      "execution_count": null,
      "outputs": [
        {
          "output_type": "stream",
          "name": "stdout",
          "text": [
            "\u001b[0;1;31m<stdin>:1:InvalidRequest: Error from server: code=2200 [Invalid query] message=\"SASI indexes are disabled. Enable in cassandra.yaml to use.\"\u001b[0m\n"
          ]
        }
      ]
    },
    {
      "cell_type": "code",
      "source": [
        "from datetime import datetime\n",
        "import pytz\n",
        "print('signed off at  ',datetime.now(pytz.timezone('Asia/Kolkata')))"
      ],
      "metadata": {
        "id": "1UbUwb_kNOcE",
        "outputId": "baa1d8ea-5fed-4951-cc85-4defff7862b2",
        "colab": {
          "base_uri": "https://localhost:8080/"
        }
      },
      "execution_count": 60,
      "outputs": [
        {
          "output_type": "stream",
          "name": "stdout",
          "text": [
            "signed off at   2023-01-08 12:37:49.557921+05:30\n"
          ]
        }
      ]
    },
    {
      "cell_type": "markdown",
      "metadata": {
        "id": "uQpkPRE2as9q"
      },
      "source": [
        "#Chronobooks <br>\n",
        "Two science fiction novels by Prithwis Mukerjee. A dystopian Earth. A technocratic society managed by artificial intelligence. Escape and epiphany on Mars. Can man and machine, carbon and silicon explore and escape into other dimensions of existence? An Indic perspective rooted in Advaita Vedanta and the Divine Feminine.  [More information](http://bit.ly/chronobooks) <br>\n",
        "![alt text](https://github.com/Praxis-QR/RDWH/raw/main/images/CTCYFooter-1.png)"
      ]
    }
  ]
}