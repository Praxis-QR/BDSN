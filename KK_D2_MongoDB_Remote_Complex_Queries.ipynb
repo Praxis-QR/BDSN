{
  "nbformat": 4,
  "nbformat_minor": 0,
  "metadata": {
    "colab": {
      "name": "KK D2 MongoDB : Remote : Complex Queries",
      "provenance": [],
      "toc_visible": true,
      "include_colab_link": true
    },
    "kernelspec": {
      "name": "python3",
      "display_name": "Python 3"
    }
  },
  "cells": [
    {
      "cell_type": "markdown",
      "metadata": {
        "id": "view-in-github",
        "colab_type": "text"
      },
      "source": [
        "<a href=\"https://colab.research.google.com/github/Praxis-QR/BDSN/blob/main/KK_D2_MongoDB_Remote_Complex_Queries.ipynb\" target=\"_parent\"><img src=\"https://colab.research.google.com/assets/colab-badge.svg\" alt=\"Open In Colab\"/></a>"
      ]
    },
    {
      "cell_type": "markdown",
      "metadata": {
        "id": "r4cEANFLx5wj"
      },
      "source": [
        "![alt text](https://github.com/Praxis-QR/RDWH/raw/main/images/YantraJaalBanner.png)<br>\n",
        "\n",
        "\n",
        "<hr>\n",
        "\n",
        "[Prithwis Mukerjee](http://www.linkedin.com/in/prithwis)<br>"
      ]
    },
    {
      "cell_type": "markdown",
      "metadata": {
        "id": "nfEfiOIo_SJg"
      },
      "source": [
        "#Purpose\n",
        "Here we demonstrate two things\n",
        "\n",
        "\n",
        "1.   How to connect to a remote MongoDB server on Atlas servers. [Register here](https://www.mongodb.com/cloud/atlas/register)\n",
        "2.   How to load bulk data and execute complex queries\n",
        "\n",
        "Some output has been suppressed by commenting out the printcommands in certain cells. This was necessary to reduce the size of the file for upload to github\n",
        "\n"
      ]
    },
    {
      "cell_type": "markdown",
      "metadata": {
        "id": "6CE9FB-y7Vlr"
      },
      "source": [
        "Additional Material https://github.com/giffy/MongoDB_PyMongo_Tutorial"
      ]
    },
    {
      "cell_type": "code",
      "source": [
        "from datetime import datetime\n",
        "import pytz\n",
        "print('Tested on ',datetime.now(pytz.timezone('Asia/Calcutta')))\n",
        "!python --version\n",
        "!lsb_release -a"
      ],
      "metadata": {
        "id": "i888zFRpVqKX",
        "outputId": "a3d34c8d-dff2-43de-f2c9-a673ab136648",
        "colab": {
          "base_uri": "https://localhost:8080/"
        }
      },
      "execution_count": 1,
      "outputs": [
        {
          "output_type": "stream",
          "name": "stdout",
          "text": [
            "Tested on  2024-06-14 17:51:15.563334+05:30\n",
            "Python 3.10.12\n",
            "No LSB modules are available.\n",
            "Distributor ID:\tUbuntu\n",
            "Description:\tUbuntu 22.04.3 LTS\n",
            "Release:\t22.04\n",
            "Codename:\tjammy\n"
          ]
        }
      ]
    },
    {
      "cell_type": "markdown",
      "metadata": {
        "id": "z4xgLfRQze4w"
      },
      "source": [
        "#Install MongoDB"
      ]
    },
    {
      "cell_type": "code",
      "source": [
        "#!pip3 install pymongo > /dev/null\n",
        "#!/usr/bin/python3 -m pip -qq install \"pymongo[srv]\"             # Required to access remote MongoDB\n",
        "#from pymongo import MongoClient\n",
        "\n",
        "#!apt install mongodb > /dev/null\n",
        "#!apt install mongodb\n",
        "\n",
        "#!python -m pip install pymongo==3.6\n",
        "!python -m pip install pymongo\n",
        "\n",
        "from pymongo.mongo_client import MongoClient\n",
        "#from pymongo.server_api import ServerApi\n",
        "\n",
        "import pandas as pd\n",
        "import dateutil"
      ],
      "metadata": {
        "id": "TwHIobdHYey2",
        "outputId": "920e087c-bea6-4e06-b2a2-9e9a572b254e",
        "colab": {
          "base_uri": "https://localhost:8080/"
        }
      },
      "execution_count": 2,
      "outputs": [
        {
          "output_type": "stream",
          "name": "stdout",
          "text": [
            "Collecting pymongo\n",
            "  Downloading pymongo-4.7.3-cp310-cp310-manylinux_2_17_x86_64.manylinux2014_x86_64.whl (669 kB)\n",
            "\u001b[2K     \u001b[90m━━━━━━━━━━━━━━━━━━━━━━━━━━━━━━━━━━━━━━━━\u001b[0m \u001b[32m669.1/669.1 kB\u001b[0m \u001b[31m7.0 MB/s\u001b[0m eta \u001b[36m0:00:00\u001b[0m\n",
            "\u001b[?25hCollecting dnspython<3.0.0,>=1.16.0 (from pymongo)\n",
            "  Downloading dnspython-2.6.1-py3-none-any.whl (307 kB)\n",
            "\u001b[2K     \u001b[90m━━━━━━━━━━━━━━━━━━━━━━━━━━━━━━━━━━━━━━━━\u001b[0m \u001b[32m307.7/307.7 kB\u001b[0m \u001b[31m10.2 MB/s\u001b[0m eta \u001b[36m0:00:00\u001b[0m\n",
            "\u001b[?25hInstalling collected packages: dnspython, pymongo\n",
            "Successfully installed dnspython-2.6.1 pymongo-4.7.3\n"
          ]
        }
      ]
    },
    {
      "cell_type": "code",
      "source": [
        "# Install database tools to get mongo import\n",
        "\n",
        "# https://www.mongodb.com/try/download/database-tools\n",
        "# https://www.mongodb.com/docs/database-tools/installation/installation-linux/\n",
        "\n",
        "#!wget https://fastdl.mongodb.org/tools/db/mongodb-database-tools-ubuntu2004-x86_64-100.7.0.tgz\n",
        "!wget -q -O tools.deb https://fastdl.mongodb.org/tools/db/mongodb-database-tools-ubuntu2004-x86_64-100.7.0.deb\n",
        "\n",
        "#!tar -xvf /content/mongodb-database-tools-ubuntu2004-x86_64-100.7.0.tgz\n",
        "#!sudo apt install ./mongodb-database-tools-*-100.7.0.deb\n",
        "!apt install ./tools.deb"
      ],
      "metadata": {
        "id": "sTVCW4-mXLXn",
        "outputId": "6759b915-3415-4672-dab0-f9bc608a7eb4",
        "colab": {
          "base_uri": "https://localhost:8080/"
        }
      },
      "execution_count": 3,
      "outputs": [
        {
          "output_type": "stream",
          "name": "stdout",
          "text": [
            "Reading package lists... Done\n",
            "Building dependency tree... Done\n",
            "Reading state information... Done\n",
            "Note, selecting 'mongodb-database-tools' instead of './tools.deb'\n",
            "The following NEW packages will be installed:\n",
            "  mongodb-database-tools\n",
            "0 upgraded, 1 newly installed, 0 to remove and 45 not upgraded.\n",
            "Need to get 0 B/50.6 MB of archives.\n",
            "After this operation, 0 B of additional disk space will be used.\n",
            "Get:1 /content/tools.deb mongodb-database-tools amd64 100.7.0 [50.6 MB]\n",
            "Selecting previously unselected package mongodb-database-tools.\n",
            "(Reading database ... 121913 files and directories currently installed.)\n",
            "Preparing to unpack /content/tools.deb ...\n",
            "Unpacking mongodb-database-tools (100.7.0) ...\n",
            "Setting up mongodb-database-tools (100.7.0) ...\n"
          ]
        }
      ]
    },
    {
      "cell_type": "code",
      "metadata": {
        "id": "TMpqBfbmfO4P"
      },
      "source": [
        "#Local Server Need Not be started for Remote Operations\n",
        "#!service mongodb start"
      ],
      "execution_count": null,
      "outputs": []
    },
    {
      "cell_type": "markdown",
      "metadata": {
        "id": "mz6eZqAx6FA2"
      },
      "source": [
        "## Test MongoClient with Remote Server"
      ]
    },
    {
      "cell_type": "code",
      "metadata": {
        "id": "FdNnBMHl6N9R"
      },
      "source": [
        "# The Password is visible in this cell\n",
        "# If you wish to hide this then use the next cell\n",
        "#\n",
        "#rhostName = 'something-mongodb.services.clever-cloud.com'   # place your own credentials here\n",
        "#ruserName = 'hidden'      # place your own credentials here\n",
        "#rpassWord = 'hidden'      # place your own credentials here\n",
        "#rdbName =  'something'         # place your own credentials here\n",
        "#rMongoURI = 'hidden'         # place your own credentials here"
      ],
      "execution_count": null,
      "outputs": []
    },
    {
      "cell_type": "markdown",
      "metadata": {
        "id": "xUQGcJ9NJWHY"
      },
      "source": [
        "### Collect Credentials from G-Drive"
      ]
    },
    {
      "cell_type": "code",
      "metadata": {
        "colab": {
          "base_uri": "https://localhost:8080/"
        },
        "id": "Nmof3y3eINqv",
        "outputId": "10d782e9-8cca-4270-9696-f2eed323e113"
      },
      "source": [
        "from google.colab import drive\n",
        "drive.mount('/content/drive')\n",
        "#!ls /content/drive/'My Drive'/Praxis/WebCredentials\n"
      ],
      "execution_count": 4,
      "outputs": [
        {
          "output_type": "stream",
          "name": "stdout",
          "text": [
            "Mounted at /content/drive\n"
          ]
        }
      ]
    },
    {
      "cell_type": "code",
      "metadata": {
        "id": "5Pa-tV7IJxBb"
      },
      "source": [
        "# copy credentials file\n",
        "\n",
        "#!cp /content/drive/'My Drive'/Praxis/WebCredentials/clevercloudMongoDB_jun22.py credentials.py\n",
        "#!cp /content/drive/'My Drive'/Praxis/WebCredentials/cleverCloudMongo51Sep22.py credentials.py\n",
        "#!cp /content/drive/'My Drive'/Praxis/WebCredentials/CCPraxisMongoDB16Oct22.py credentials.py\n",
        "\n",
        "!cp /content/drive/'My Drive'/Praxis/WebCredentials/AtlasCredentials_Jun22.py credentials.py\n",
        "\n"
      ],
      "execution_count": 5,
      "outputs": []
    },
    {
      "cell_type": "code",
      "source": [
        "#!cat credentials.py"
      ],
      "metadata": {
        "id": "1n4MLHDfsLDn"
      },
      "execution_count": 65,
      "outputs": []
    },
    {
      "cell_type": "code",
      "metadata": {
        "id": "u_8BtaK1KMMY"
      },
      "source": [
        "# credential file for Prithwis Mukerjee\n",
        "# this file needs to be uploaded into the VM\n",
        "\n",
        "#from credentials import rhostName,ruserName,rpassWord,rdbName,rMongoURI\n",
        "from credentials import RegCalURI\n",
        "rMongoURI = RegCalURI\n",
        "\n",
        "#for the sake of privacy\n",
        "#the following credentials need to be stored in a text file called sqlCredentials.py\n",
        "#in the format given below\n",
        "#in the Colab VM\n",
        "\n",
        "#otherwise, the values can be directly placed here\n",
        "\n",
        "#rhostName = 'rs0/n1-c2-mongodb-clevercloud-customers.services.clever-cloud.com:27017,n2-c2-mongodb-clevercloud-customers.services.clever-cloud.com:27017'   # place your own credentials here\n",
        "#ruserName = 'ubdzzfg3r4qhpu0kg1vd'      # place your own credentials here\n",
        "#rpassWord = 'YzIIYhyTJjOJNCkkntPp'      # place your own credentials here\n",
        "#rdbName =  'bcgygtzxy3oqpm3'         # place your own credentials here\n",
        "\n",
        "\n",
        "#print(rhostName,ruserName,rdbName)\n",
        "#print(rMongoURI)"
      ],
      "execution_count": 7,
      "outputs": []
    },
    {
      "cell_type": "code",
      "source": [
        "#print(rMongoURI)"
      ],
      "metadata": {
        "id": "WMPnYmBQ8Pej"
      },
      "execution_count": null,
      "outputs": []
    },
    {
      "cell_type": "code",
      "metadata": {
        "colab": {
          "base_uri": "https://localhost:8080/"
        },
        "id": "MM4j5AN-A7A5",
        "outputId": "0dbc09af-8f60-47d8-9f6b-6df218d25e90"
      },
      "source": [
        "mongoURI = rMongoURI                                        # for remote server\n",
        "                                                            # DO MAKE SURE that the remote cluster is up and operational\n",
        "#mongoURI = \"mongodb://localhost:27017/\"                    # for local server\n",
        "#client = MongoClient(mongoURI, server_api=ServerApi('1'))\n",
        "client = MongoClient(mongoURI)\n",
        "client.list_database_names() # ['admin', 'local']"
      ],
      "execution_count": 8,
      "outputs": [
        {
          "output_type": "execute_result",
          "data": {
            "text/plain": [
              "['Parashar21', 'test', 'admin', 'local']"
            ]
          },
          "metadata": {},
          "execution_count": 8
        }
      ]
    },
    {
      "cell_type": "code",
      "metadata": {
        "colab": {
          "base_uri": "https://localhost:8080/"
        },
        "id": "bRUST3NELPJm",
        "outputId": "4b4f0858-398b-46cd-a4d7-18a4796c7810"
      },
      "source": [
        "#db = client.PraxisDB\n",
        "#db = client.test\n",
        "db = client.PraxisDB\n",
        "db.list_collection_names()"
      ],
      "execution_count": 9,
      "outputs": [
        {
          "output_type": "execute_result",
          "data": {
            "text/plain": [
              "[]"
            ]
          },
          "metadata": {},
          "execution_count": 9
        }
      ]
    },
    {
      "cell_type": "code",
      "metadata": {
        "colab": {
          "base_uri": "https://localhost:8080/"
        },
        "id": "Ug0sgxuMLWF9",
        "outputId": "3a59abb8-6bb9-4822-cc9b-8735dfcd0abc"
      },
      "source": [
        "table = db.restaurants\n",
        "table.count_documents({})"
      ],
      "execution_count": 10,
      "outputs": [
        {
          "output_type": "execute_result",
          "data": {
            "text/plain": [
              "0"
            ]
          },
          "metadata": {},
          "execution_count": 10
        }
      ]
    },
    {
      "cell_type": "code",
      "metadata": {
        "colab": {
          "base_uri": "https://localhost:8080/"
        },
        "id": "h7EqypjgLFwh",
        "outputId": "f5d720b5-1f1d-4e97-8f16-a065eab3758e"
      },
      "source": [
        "# Delete collection\n",
        "db.drop_collection('restaurants')"
      ],
      "execution_count": 11,
      "outputs": [
        {
          "output_type": "execute_result",
          "data": {
            "text/plain": [
              "{'ok': 1.0,\n",
              " '$clusterTime': {'clusterTime': Timestamp(1718368013, 18),\n",
              "  'signature': {'hash': b'\\x8c\\xf3\\xd8.b1\\x91\\xcb~\\xf3XE[M}\\xda\\xa65\\xb1\\x94',\n",
              "   'keyId': 7315835374025048086}},\n",
              " 'operationTime': Timestamp(1718368013, 18)}"
            ]
          },
          "metadata": {},
          "execution_count": 11
        }
      ]
    },
    {
      "cell_type": "markdown",
      "metadata": {
        "id": "Ip6aqqKO2ST-"
      },
      "source": [
        "#MongoDB Exercise <br>\n",
        "Exercise : https://docs.google.com/document/d/1q0PyJL6EgMG1V5G8mmPre8Ypq9N9dX-PRLixAHiphd8/edit?usp=sharing <br>\n",
        "\n",
        "Data : restaurant.json https://drive.google.com/file/d/14sYJM2KwIpDRsAAk6YkapMTwLnLuBcb_/view?usp=sharing <br>\n",
        "\n",
        "For more detailed examples, see https://colab.research.google.com/github/Giffy/MongoDB_PyMongo_Tutorial/blob/master/1_1_First_steps_with_MongoDB_PyMongo.ipynb"
      ]
    },
    {
      "cell_type": "markdown",
      "metadata": {
        "id": "QP59KGQu31_E"
      },
      "source": [
        "##Get Data"
      ]
    },
    {
      "cell_type": "code",
      "metadata": {
        "id": "5_KDw3Ns34e3"
      },
      "source": [
        "#!gdown https://drive.google.com/uc?id=14sYJM2KwIpDRsAAk6YkapMTwLnLuBcb_\n",
        "#!gdown 14sYJM2KwIpDRsAAk6YkapMTwLnLuBcb_\n",
        "!wget -q https://raw.githubusercontent.com/Praxis-QR/BDSN/4130bfe8fb17529bbeae32351dab982b4a8b53ea/data/restaurants.json"
      ],
      "execution_count": 12,
      "outputs": []
    },
    {
      "cell_type": "markdown",
      "metadata": {
        "id": "7ozTpd9V4NRC"
      },
      "source": [
        "##Load Data"
      ]
    },
    {
      "cell_type": "code",
      "metadata": {
        "colab": {
          "base_uri": "https://localhost:8080/"
        },
        "id": "TgzXdugSjpKP",
        "outputId": "2af29cde-275e-4b8e-a6ba-92aa092fe3e7"
      },
      "source": [
        "# the restaurants.json file is available in my GDrive\n",
        "# Local Server\n",
        "#!mongoimport --db PraxisDB --collection restaurants --drop --file restaurants.json\n",
        "# Remote Server\n",
        "# mongoimport --host \"hostname\" --port \"port\" --db \"databasename\" --collection \"collectionName\" --file \"filePath\"\n",
        "# the python variables need to be placed in {}\n",
        "#!mongoimport --host \"{rhostName}\" --port \"27017\" --db \"{rdbName}\" --collection \"restaurants\"  --drop --file \"restaurants.json\" -u \"{ruserName}\" -p \"{rpassWord}\" --- THIS DOES NOT WORK\n",
        "#!mongoimport --uri \"{rMongoURI}\"  --collection \"restaurants\"  --drop --file \"restaurants.json\"\n",
        "\n",
        "\n",
        "\n",
        "# https://stackoverflow.com/questions/63224330/where-do-i-find-my-dbname-for-mongodb-connection-string\n",
        "#mongoURI2 = mongoURI\n",
        "#print(mongoURI)\n",
        "mongoURI2 = mongoURI.replace(\"/?retryWrites=true&w=majority\",\"/PraxisDB?\")\n",
        "#print(mongoURI2)\n",
        "!mongoimport --uri \"{mongoURI2}\"  --collection \"restaurants\"  --drop --file \"restaurants.json\""
      ],
      "execution_count": 13,
      "outputs": [
        {
          "output_type": "stream",
          "name": "stdout",
          "text": [
            "2024-06-14T12:27:17.994+0000\tconnected to: mongodb+srv://[**REDACTED**]@cluster0.yarln.mongodb.net/PraxisDB?\n",
            "2024-06-14T12:27:18.228+0000\tdropping: PraxisDB.restaurants\n",
            "2024-06-14T12:27:20.994+0000\t[###################.....] PraxisDB.restaurants\t1.55MB/1.94MB (80.0%)\n",
            "2024-06-14T12:27:21.919+0000\t[########################] PraxisDB.restaurants\t1.94MB/1.94MB (100.0%)\n",
            "2024-06-14T12:27:21.919+0000\t3772 document(s) imported successfully. 0 document(s) failed to import.\n"
          ]
        }
      ]
    },
    {
      "cell_type": "markdown",
      "metadata": {
        "id": "hHOXJ7Zk4ZW4"
      },
      "source": [
        "##Data Access & Manipulation"
      ]
    },
    {
      "cell_type": "code",
      "metadata": {
        "colab": {
          "base_uri": "https://localhost:8080/"
        },
        "id": "UQ9q3-7H4kin",
        "outputId": "dbcf0341-c07c-42ea-fe82-d84843df1611"
      },
      "source": [
        "#mongoURI = \"mongodb://localhost:27017/\"    # local\n",
        "#mongoURI = rMongoURI                        # remote\n",
        "client = MongoClient(mongoURI)\n",
        "client.list_database_names()"
      ],
      "execution_count": 14,
      "outputs": [
        {
          "output_type": "execute_result",
          "data": {
            "text/plain": [
              "['Parashar21', 'PraxisDB', 'test', 'admin', 'local']"
            ]
          },
          "metadata": {},
          "execution_count": 14
        }
      ]
    },
    {
      "cell_type": "code",
      "metadata": {
        "id": "rL-k8WmRlfJ8",
        "colab": {
          "base_uri": "https://localhost:8080/"
        },
        "outputId": "c0867cd1-72d7-44a5-c0f9-5a4c77c6e07a"
      },
      "source": [
        "#db = client.PraxisDB\n",
        "#db = client.btncgfi3a5bxyea\n",
        "db = client.PraxisDB\n",
        "db.list_collection_names()"
      ],
      "execution_count": 15,
      "outputs": [
        {
          "output_type": "execute_result",
          "data": {
            "text/plain": [
              "['restaurants']"
            ]
          },
          "metadata": {},
          "execution_count": 15
        }
      ]
    },
    {
      "cell_type": "code",
      "metadata": {
        "id": "KUyBJWZnbqqy",
        "colab": {
          "base_uri": "https://localhost:8080/"
        },
        "outputId": "048040a4-3217-420b-e7b5-4580123cbf0b"
      },
      "source": [
        "table = db.restaurants\n",
        "table.count_documents({})"
      ],
      "execution_count": 17,
      "outputs": [
        {
          "output_type": "execute_result",
          "data": {
            "text/plain": [
              "3772"
            ]
          },
          "metadata": {},
          "execution_count": 17
        }
      ]
    },
    {
      "cell_type": "markdown",
      "metadata": {
        "id": "wUxY7hYAGFnh"
      },
      "source": [
        "# 32 Diverse Queries"
      ]
    },
    {
      "cell_type": "markdown",
      "metadata": {
        "id": "m86AxvNVE5wD"
      },
      "source": [
        "1. display all the documents in the collection restaurants\n"
      ]
    },
    {
      "cell_type": "code",
      "metadata": {
        "colab": {
          "base_uri": "https://localhost:8080/"
        },
        "id": "I7vO-MCeFBnk",
        "outputId": "67f060d8-2aff-4614-e04d-724d141f5ece"
      },
      "source": [
        "c1 = db.restaurants.find().limit(3)\n",
        "for crnt in c1:\n",
        "    print(crnt)"
      ],
      "execution_count": 18,
      "outputs": [
        {
          "output_type": "stream",
          "name": "stdout",
          "text": [
            "{'_id': ObjectId('666c372645dd1b1364a0740e'), 'address': {'building': '1007', 'coord': [-73.856077, 40.848447], 'street': 'Morris Park Ave', 'zipcode': '10462'}, 'borough': 'Bronx', 'cuisine': 'Bakery', 'grades': [{'date': datetime.datetime(2014, 3, 3, 0, 0), 'grade': 'A', 'score': 2}, {'date': datetime.datetime(2013, 9, 11, 0, 0), 'grade': 'A', 'score': 6}, {'date': datetime.datetime(2013, 1, 24, 0, 0), 'grade': 'A', 'score': 10}, {'date': datetime.datetime(2011, 11, 23, 0, 0), 'grade': 'A', 'score': 9}, {'date': datetime.datetime(2011, 3, 10, 0, 0), 'grade': 'B', 'score': 14}], 'name': 'Morris Park Bake Shop', 'restaurant_id': '30075445'}\n",
            "{'_id': ObjectId('666c372645dd1b1364a0740f'), 'address': {'building': '469', 'coord': [-73.961704, 40.662942], 'street': 'Flatbush Avenue', 'zipcode': '11225'}, 'borough': 'Brooklyn', 'cuisine': 'Hamburgers', 'grades': [{'date': datetime.datetime(2014, 12, 30, 0, 0), 'grade': 'A', 'score': 8}, {'date': datetime.datetime(2014, 7, 1, 0, 0), 'grade': 'B', 'score': 23}, {'date': datetime.datetime(2013, 4, 30, 0, 0), 'grade': 'A', 'score': 12}, {'date': datetime.datetime(2012, 5, 8, 0, 0), 'grade': 'A', 'score': 12}], 'name': \"Wendy'S\", 'restaurant_id': '30112340'}\n",
            "{'_id': ObjectId('666c372645dd1b1364a07410'), 'address': {'building': '351', 'coord': [-73.98513559999999, 40.7676919], 'street': 'West   57 Street', 'zipcode': '10019'}, 'borough': 'Manhattan', 'cuisine': 'Irish', 'grades': [{'date': datetime.datetime(2014, 9, 6, 0, 0), 'grade': 'A', 'score': 2}, {'date': datetime.datetime(2013, 7, 22, 0, 0), 'grade': 'A', 'score': 11}, {'date': datetime.datetime(2012, 7, 31, 0, 0), 'grade': 'A', 'score': 12}, {'date': datetime.datetime(2011, 12, 29, 0, 0), 'grade': 'A', 'score': 12}], 'name': 'Dj Reynolds Pub And Restaurant', 'restaurant_id': '30191841'}\n"
          ]
        }
      ]
    },
    {
      "cell_type": "markdown",
      "metadata": {
        "id": "mV4mZqSnFUHB"
      },
      "source": [
        "2. display the fields restaurant_id, name, borough and cuisine for all the documents in the collection restaurant.\n"
      ]
    },
    {
      "cell_type": "code",
      "metadata": {
        "colab": {
          "base_uri": "https://localhost:8080/"
        },
        "id": "xseSt2y4FWRq",
        "outputId": "5b44a1a6-f76f-45d9-8a68-847db0583917"
      },
      "source": [
        "c1 = db.restaurants.find({},{\"restaurant_id\" : 1,\"name\":1,\"borough\":1,\"cuisine\" :1}).limit(3)\n",
        "for crnt in c1:\n",
        "    print(crnt)"
      ],
      "execution_count": 19,
      "outputs": [
        {
          "output_type": "stream",
          "name": "stdout",
          "text": [
            "{'_id': ObjectId('666c372645dd1b1364a0740e'), 'borough': 'Bronx', 'cuisine': 'Bakery', 'name': 'Morris Park Bake Shop', 'restaurant_id': '30075445'}\n",
            "{'_id': ObjectId('666c372645dd1b1364a0740f'), 'borough': 'Brooklyn', 'cuisine': 'Hamburgers', 'name': \"Wendy'S\", 'restaurant_id': '30112340'}\n",
            "{'_id': ObjectId('666c372645dd1b1364a07410'), 'borough': 'Manhattan', 'cuisine': 'Irish', 'name': 'Dj Reynolds Pub And Restaurant', 'restaurant_id': '30191841'}\n"
          ]
        }
      ]
    },
    {
      "cell_type": "markdown",
      "metadata": {
        "id": "NZyndYdLHIPK"
      },
      "source": [
        "3. display the fields restaurant_id, name, borough and cuisine, but exclude the field _id for all the documents in the collection restaurant.\n"
      ]
    },
    {
      "cell_type": "code",
      "metadata": {
        "colab": {
          "base_uri": "https://localhost:8080/"
        },
        "id": "kKMHC4bpHXnH",
        "outputId": "7738d2f1-eca2-472c-b07d-49a112aea60b"
      },
      "source": [
        "c1 = db.restaurants.find({},{\"restaurant_id\" : 1,\"name\":1,\"borough\":1,\"cuisine\" :1,\"_id\":0}).limit(3)\n",
        "for crnt in c1:\n",
        "    print(crnt)"
      ],
      "execution_count": 20,
      "outputs": [
        {
          "output_type": "stream",
          "name": "stdout",
          "text": [
            "{'borough': 'Bronx', 'cuisine': 'Bakery', 'name': 'Morris Park Bake Shop', 'restaurant_id': '30075445'}\n",
            "{'borough': 'Brooklyn', 'cuisine': 'Hamburgers', 'name': \"Wendy'S\", 'restaurant_id': '30112340'}\n",
            "{'borough': 'Manhattan', 'cuisine': 'Irish', 'name': 'Dj Reynolds Pub And Restaurant', 'restaurant_id': '30191841'}\n"
          ]
        }
      ]
    },
    {
      "cell_type": "markdown",
      "metadata": {
        "id": "ti1aYIqzJBzz"
      },
      "source": [
        "4. display the fields restaurant_id, name, borough and zipcode, but exclude the field _id for all the documents in the collection restaurant."
      ]
    },
    {
      "cell_type": "code",
      "metadata": {
        "colab": {
          "base_uri": "https://localhost:8080/"
        },
        "id": "QRzQZKrZJIF5",
        "outputId": "19769083-3d44-47f8-d7ab-6a567f2eef47"
      },
      "source": [
        "table = db.restaurants\n",
        "c1 = table.find({},{\"restaurant_id\" : 1,\"name\":1,\"borough\":1,\"address.zipcode\" :1,\"_id\":0}).limit(3)\n",
        "for crnt in c1:\n",
        "    print(crnt)"
      ],
      "execution_count": 21,
      "outputs": [
        {
          "output_type": "stream",
          "name": "stdout",
          "text": [
            "{'address': {'zipcode': '10462'}, 'borough': 'Bronx', 'name': 'Morris Park Bake Shop', 'restaurant_id': '30075445'}\n",
            "{'address': {'zipcode': '11225'}, 'borough': 'Brooklyn', 'name': \"Wendy'S\", 'restaurant_id': '30112340'}\n",
            "{'address': {'zipcode': '10019'}, 'borough': 'Manhattan', 'name': 'Dj Reynolds Pub And Restaurant', 'restaurant_id': '30191841'}\n"
          ]
        }
      ]
    },
    {
      "cell_type": "code",
      "metadata": {
        "colab": {
          "base_uri": "https://localhost:8080/",
          "height": 363
        },
        "id": "4j77VcrI0WWs",
        "outputId": "2d037374-bfbe-4280-f9b5-7981dfc860ce"
      },
      "source": [
        "#df = pd.DataFrame(list(table.find({},{\"restaurant_id\" : 1,\"name\":1,\"borough\":1,\"address.zipcode\" :1,\"_id\":0}).limit(10)))\n",
        "#df\n",
        "pd.DataFrame(list(table.find({},{\"restaurant_id\" : 1,\"name\":1,\"borough\":1,\"address.zipcode\" :1,\"_id\":0}).limit(10)))"
      ],
      "execution_count": 22,
      "outputs": [
        {
          "output_type": "execute_result",
          "data": {
            "text/plain": [
              "                address        borough                            name  \\\n",
              "0  {'zipcode': '10462'}          Bronx           Morris Park Bake Shop   \n",
              "1  {'zipcode': '11225'}       Brooklyn                         Wendy'S   \n",
              "2  {'zipcode': '10019'}      Manhattan  Dj Reynolds Pub And Restaurant   \n",
              "3  {'zipcode': '11224'}       Brooklyn                 Riviera Caterer   \n",
              "4  {'zipcode': '11374'}         Queens              Tov Kosher Kitchen   \n",
              "5  {'zipcode': '11369'}         Queens         Brunos On The Boulevard   \n",
              "6  {'zipcode': '10314'}  Staten Island                   Kosher Island   \n",
              "7  {'zipcode': '11234'}       Brooklyn              Wilken'S Fine Food   \n",
              "8  {'zipcode': '11219'}       Brooklyn                 Regina Caterers   \n",
              "9  {'zipcode': '11226'}       Brooklyn     Taste The Tropics Ice Cream   \n",
              "\n",
              "  restaurant_id  \n",
              "0      30075445  \n",
              "1      30112340  \n",
              "2      30191841  \n",
              "3      40356018  \n",
              "4      40356068  \n",
              "5      40356151  \n",
              "6      40356442  \n",
              "7      40356483  \n",
              "8      40356649  \n",
              "9      40356731  "
            ],
            "text/html": [
              "\n",
              "  <div id=\"df-473bd86c-1198-4b62-bff1-d1fd85f103eb\" class=\"colab-df-container\">\n",
              "    <div>\n",
              "<style scoped>\n",
              "    .dataframe tbody tr th:only-of-type {\n",
              "        vertical-align: middle;\n",
              "    }\n",
              "\n",
              "    .dataframe tbody tr th {\n",
              "        vertical-align: top;\n",
              "    }\n",
              "\n",
              "    .dataframe thead th {\n",
              "        text-align: right;\n",
              "    }\n",
              "</style>\n",
              "<table border=\"1\" class=\"dataframe\">\n",
              "  <thead>\n",
              "    <tr style=\"text-align: right;\">\n",
              "      <th></th>\n",
              "      <th>address</th>\n",
              "      <th>borough</th>\n",
              "      <th>name</th>\n",
              "      <th>restaurant_id</th>\n",
              "    </tr>\n",
              "  </thead>\n",
              "  <tbody>\n",
              "    <tr>\n",
              "      <th>0</th>\n",
              "      <td>{'zipcode': '10462'}</td>\n",
              "      <td>Bronx</td>\n",
              "      <td>Morris Park Bake Shop</td>\n",
              "      <td>30075445</td>\n",
              "    </tr>\n",
              "    <tr>\n",
              "      <th>1</th>\n",
              "      <td>{'zipcode': '11225'}</td>\n",
              "      <td>Brooklyn</td>\n",
              "      <td>Wendy'S</td>\n",
              "      <td>30112340</td>\n",
              "    </tr>\n",
              "    <tr>\n",
              "      <th>2</th>\n",
              "      <td>{'zipcode': '10019'}</td>\n",
              "      <td>Manhattan</td>\n",
              "      <td>Dj Reynolds Pub And Restaurant</td>\n",
              "      <td>30191841</td>\n",
              "    </tr>\n",
              "    <tr>\n",
              "      <th>3</th>\n",
              "      <td>{'zipcode': '11224'}</td>\n",
              "      <td>Brooklyn</td>\n",
              "      <td>Riviera Caterer</td>\n",
              "      <td>40356018</td>\n",
              "    </tr>\n",
              "    <tr>\n",
              "      <th>4</th>\n",
              "      <td>{'zipcode': '11374'}</td>\n",
              "      <td>Queens</td>\n",
              "      <td>Tov Kosher Kitchen</td>\n",
              "      <td>40356068</td>\n",
              "    </tr>\n",
              "    <tr>\n",
              "      <th>5</th>\n",
              "      <td>{'zipcode': '11369'}</td>\n",
              "      <td>Queens</td>\n",
              "      <td>Brunos On The Boulevard</td>\n",
              "      <td>40356151</td>\n",
              "    </tr>\n",
              "    <tr>\n",
              "      <th>6</th>\n",
              "      <td>{'zipcode': '10314'}</td>\n",
              "      <td>Staten Island</td>\n",
              "      <td>Kosher Island</td>\n",
              "      <td>40356442</td>\n",
              "    </tr>\n",
              "    <tr>\n",
              "      <th>7</th>\n",
              "      <td>{'zipcode': '11234'}</td>\n",
              "      <td>Brooklyn</td>\n",
              "      <td>Wilken'S Fine Food</td>\n",
              "      <td>40356483</td>\n",
              "    </tr>\n",
              "    <tr>\n",
              "      <th>8</th>\n",
              "      <td>{'zipcode': '11219'}</td>\n",
              "      <td>Brooklyn</td>\n",
              "      <td>Regina Caterers</td>\n",
              "      <td>40356649</td>\n",
              "    </tr>\n",
              "    <tr>\n",
              "      <th>9</th>\n",
              "      <td>{'zipcode': '11226'}</td>\n",
              "      <td>Brooklyn</td>\n",
              "      <td>Taste The Tropics Ice Cream</td>\n",
              "      <td>40356731</td>\n",
              "    </tr>\n",
              "  </tbody>\n",
              "</table>\n",
              "</div>\n",
              "    <div class=\"colab-df-buttons\">\n",
              "\n",
              "  <div class=\"colab-df-container\">\n",
              "    <button class=\"colab-df-convert\" onclick=\"convertToInteractive('df-473bd86c-1198-4b62-bff1-d1fd85f103eb')\"\n",
              "            title=\"Convert this dataframe to an interactive table.\"\n",
              "            style=\"display:none;\">\n",
              "\n",
              "  <svg xmlns=\"http://www.w3.org/2000/svg\" height=\"24px\" viewBox=\"0 -960 960 960\">\n",
              "    <path d=\"M120-120v-720h720v720H120Zm60-500h600v-160H180v160Zm220 220h160v-160H400v160Zm0 220h160v-160H400v160ZM180-400h160v-160H180v160Zm440 0h160v-160H620v160ZM180-180h160v-160H180v160Zm440 0h160v-160H620v160Z\"/>\n",
              "  </svg>\n",
              "    </button>\n",
              "\n",
              "  <style>\n",
              "    .colab-df-container {\n",
              "      display:flex;\n",
              "      gap: 12px;\n",
              "    }\n",
              "\n",
              "    .colab-df-convert {\n",
              "      background-color: #E8F0FE;\n",
              "      border: none;\n",
              "      border-radius: 50%;\n",
              "      cursor: pointer;\n",
              "      display: none;\n",
              "      fill: #1967D2;\n",
              "      height: 32px;\n",
              "      padding: 0 0 0 0;\n",
              "      width: 32px;\n",
              "    }\n",
              "\n",
              "    .colab-df-convert:hover {\n",
              "      background-color: #E2EBFA;\n",
              "      box-shadow: 0px 1px 2px rgba(60, 64, 67, 0.3), 0px 1px 3px 1px rgba(60, 64, 67, 0.15);\n",
              "      fill: #174EA6;\n",
              "    }\n",
              "\n",
              "    .colab-df-buttons div {\n",
              "      margin-bottom: 4px;\n",
              "    }\n",
              "\n",
              "    [theme=dark] .colab-df-convert {\n",
              "      background-color: #3B4455;\n",
              "      fill: #D2E3FC;\n",
              "    }\n",
              "\n",
              "    [theme=dark] .colab-df-convert:hover {\n",
              "      background-color: #434B5C;\n",
              "      box-shadow: 0px 1px 3px 1px rgba(0, 0, 0, 0.15);\n",
              "      filter: drop-shadow(0px 1px 2px rgba(0, 0, 0, 0.3));\n",
              "      fill: #FFFFFF;\n",
              "    }\n",
              "  </style>\n",
              "\n",
              "    <script>\n",
              "      const buttonEl =\n",
              "        document.querySelector('#df-473bd86c-1198-4b62-bff1-d1fd85f103eb button.colab-df-convert');\n",
              "      buttonEl.style.display =\n",
              "        google.colab.kernel.accessAllowed ? 'block' : 'none';\n",
              "\n",
              "      async function convertToInteractive(key) {\n",
              "        const element = document.querySelector('#df-473bd86c-1198-4b62-bff1-d1fd85f103eb');\n",
              "        const dataTable =\n",
              "          await google.colab.kernel.invokeFunction('convertToInteractive',\n",
              "                                                    [key], {});\n",
              "        if (!dataTable) return;\n",
              "\n",
              "        const docLinkHtml = 'Like what you see? Visit the ' +\n",
              "          '<a target=\"_blank\" href=https://colab.research.google.com/notebooks/data_table.ipynb>data table notebook</a>'\n",
              "          + ' to learn more about interactive tables.';\n",
              "        element.innerHTML = '';\n",
              "        dataTable['output_type'] = 'display_data';\n",
              "        await google.colab.output.renderOutput(dataTable, element);\n",
              "        const docLink = document.createElement('div');\n",
              "        docLink.innerHTML = docLinkHtml;\n",
              "        element.appendChild(docLink);\n",
              "      }\n",
              "    </script>\n",
              "  </div>\n",
              "\n",
              "\n",
              "<div id=\"df-f6cff8b1-30bc-4892-848b-cbed1b5ca981\">\n",
              "  <button class=\"colab-df-quickchart\" onclick=\"quickchart('df-f6cff8b1-30bc-4892-848b-cbed1b5ca981')\"\n",
              "            title=\"Suggest charts\"\n",
              "            style=\"display:none;\">\n",
              "\n",
              "<svg xmlns=\"http://www.w3.org/2000/svg\" height=\"24px\"viewBox=\"0 0 24 24\"\n",
              "     width=\"24px\">\n",
              "    <g>\n",
              "        <path d=\"M19 3H5c-1.1 0-2 .9-2 2v14c0 1.1.9 2 2 2h14c1.1 0 2-.9 2-2V5c0-1.1-.9-2-2-2zM9 17H7v-7h2v7zm4 0h-2V7h2v10zm4 0h-2v-4h2v4z\"/>\n",
              "    </g>\n",
              "</svg>\n",
              "  </button>\n",
              "\n",
              "<style>\n",
              "  .colab-df-quickchart {\n",
              "      --bg-color: #E8F0FE;\n",
              "      --fill-color: #1967D2;\n",
              "      --hover-bg-color: #E2EBFA;\n",
              "      --hover-fill-color: #174EA6;\n",
              "      --disabled-fill-color: #AAA;\n",
              "      --disabled-bg-color: #DDD;\n",
              "  }\n",
              "\n",
              "  [theme=dark] .colab-df-quickchart {\n",
              "      --bg-color: #3B4455;\n",
              "      --fill-color: #D2E3FC;\n",
              "      --hover-bg-color: #434B5C;\n",
              "      --hover-fill-color: #FFFFFF;\n",
              "      --disabled-bg-color: #3B4455;\n",
              "      --disabled-fill-color: #666;\n",
              "  }\n",
              "\n",
              "  .colab-df-quickchart {\n",
              "    background-color: var(--bg-color);\n",
              "    border: none;\n",
              "    border-radius: 50%;\n",
              "    cursor: pointer;\n",
              "    display: none;\n",
              "    fill: var(--fill-color);\n",
              "    height: 32px;\n",
              "    padding: 0;\n",
              "    width: 32px;\n",
              "  }\n",
              "\n",
              "  .colab-df-quickchart:hover {\n",
              "    background-color: var(--hover-bg-color);\n",
              "    box-shadow: 0 1px 2px rgba(60, 64, 67, 0.3), 0 1px 3px 1px rgba(60, 64, 67, 0.15);\n",
              "    fill: var(--button-hover-fill-color);\n",
              "  }\n",
              "\n",
              "  .colab-df-quickchart-complete:disabled,\n",
              "  .colab-df-quickchart-complete:disabled:hover {\n",
              "    background-color: var(--disabled-bg-color);\n",
              "    fill: var(--disabled-fill-color);\n",
              "    box-shadow: none;\n",
              "  }\n",
              "\n",
              "  .colab-df-spinner {\n",
              "    border: 2px solid var(--fill-color);\n",
              "    border-color: transparent;\n",
              "    border-bottom-color: var(--fill-color);\n",
              "    animation:\n",
              "      spin 1s steps(1) infinite;\n",
              "  }\n",
              "\n",
              "  @keyframes spin {\n",
              "    0% {\n",
              "      border-color: transparent;\n",
              "      border-bottom-color: var(--fill-color);\n",
              "      border-left-color: var(--fill-color);\n",
              "    }\n",
              "    20% {\n",
              "      border-color: transparent;\n",
              "      border-left-color: var(--fill-color);\n",
              "      border-top-color: var(--fill-color);\n",
              "    }\n",
              "    30% {\n",
              "      border-color: transparent;\n",
              "      border-left-color: var(--fill-color);\n",
              "      border-top-color: var(--fill-color);\n",
              "      border-right-color: var(--fill-color);\n",
              "    }\n",
              "    40% {\n",
              "      border-color: transparent;\n",
              "      border-right-color: var(--fill-color);\n",
              "      border-top-color: var(--fill-color);\n",
              "    }\n",
              "    60% {\n",
              "      border-color: transparent;\n",
              "      border-right-color: var(--fill-color);\n",
              "    }\n",
              "    80% {\n",
              "      border-color: transparent;\n",
              "      border-right-color: var(--fill-color);\n",
              "      border-bottom-color: var(--fill-color);\n",
              "    }\n",
              "    90% {\n",
              "      border-color: transparent;\n",
              "      border-bottom-color: var(--fill-color);\n",
              "    }\n",
              "  }\n",
              "</style>\n",
              "\n",
              "  <script>\n",
              "    async function quickchart(key) {\n",
              "      const quickchartButtonEl =\n",
              "        document.querySelector('#' + key + ' button');\n",
              "      quickchartButtonEl.disabled = true;  // To prevent multiple clicks.\n",
              "      quickchartButtonEl.classList.add('colab-df-spinner');\n",
              "      try {\n",
              "        const charts = await google.colab.kernel.invokeFunction(\n",
              "            'suggestCharts', [key], {});\n",
              "      } catch (error) {\n",
              "        console.error('Error during call to suggestCharts:', error);\n",
              "      }\n",
              "      quickchartButtonEl.classList.remove('colab-df-spinner');\n",
              "      quickchartButtonEl.classList.add('colab-df-quickchart-complete');\n",
              "    }\n",
              "    (() => {\n",
              "      let quickchartButtonEl =\n",
              "        document.querySelector('#df-f6cff8b1-30bc-4892-848b-cbed1b5ca981 button');\n",
              "      quickchartButtonEl.style.display =\n",
              "        google.colab.kernel.accessAllowed ? 'block' : 'none';\n",
              "    })();\n",
              "  </script>\n",
              "</div>\n",
              "\n",
              "    </div>\n",
              "  </div>\n"
            ],
            "application/vnd.google.colaboratory.intrinsic+json": {
              "type": "dataframe",
              "summary": "{\n  \"name\": \"pd\",\n  \"rows\": 10,\n  \"fields\": [\n    {\n      \"column\": \"address\",\n      \"properties\": {\n        \"dtype\": \"object\",\n        \"semantic_type\": \"\",\n        \"description\": \"\"\n      }\n    },\n    {\n      \"column\": \"borough\",\n      \"properties\": {\n        \"dtype\": \"string\",\n        \"num_unique_values\": 5,\n        \"samples\": [\n          \"Brooklyn\",\n          \"Staten Island\",\n          \"Manhattan\"\n        ],\n        \"semantic_type\": \"\",\n        \"description\": \"\"\n      }\n    },\n    {\n      \"column\": \"name\",\n      \"properties\": {\n        \"dtype\": \"string\",\n        \"num_unique_values\": 10,\n        \"samples\": [\n          \"Regina Caterers\",\n          \"Wendy'S\",\n          \"Brunos On The Boulevard\"\n        ],\n        \"semantic_type\": \"\",\n        \"description\": \"\"\n      }\n    },\n    {\n      \"column\": \"restaurant_id\",\n      \"properties\": {\n        \"dtype\": \"string\",\n        \"num_unique_values\": 10,\n        \"samples\": [\n          \"40356649\",\n          \"30112340\",\n          \"40356151\"\n        ],\n        \"semantic_type\": \"\",\n        \"description\": \"\"\n      }\n    }\n  ]\n}"
            }
          },
          "metadata": {},
          "execution_count": 22
        }
      ]
    },
    {
      "cell_type": "markdown",
      "metadata": {
        "id": "xi_KuNUcVaYu"
      },
      "source": [
        "5. display all the restaurant which is in the borough Bronx"
      ]
    },
    {
      "cell_type": "code",
      "metadata": {
        "colab": {
          "base_uri": "https://localhost:8080/"
        },
        "id": "v20ijXosVi5J",
        "outputId": "46af7fed-a643-4c05-8972-abdf5af2afa1"
      },
      "source": [
        "c1 = table.find({\"borough\": \"Bronx\"}).limit(3)\n",
        "for crnt in c1:\n",
        "    print(crnt)"
      ],
      "execution_count": 23,
      "outputs": [
        {
          "output_type": "stream",
          "name": "stdout",
          "text": [
            "{'_id': ObjectId('666c372645dd1b1364a0740e'), 'address': {'building': '1007', 'coord': [-73.856077, 40.848447], 'street': 'Morris Park Ave', 'zipcode': '10462'}, 'borough': 'Bronx', 'cuisine': 'Bakery', 'grades': [{'date': datetime.datetime(2014, 3, 3, 0, 0), 'grade': 'A', 'score': 2}, {'date': datetime.datetime(2013, 9, 11, 0, 0), 'grade': 'A', 'score': 6}, {'date': datetime.datetime(2013, 1, 24, 0, 0), 'grade': 'A', 'score': 10}, {'date': datetime.datetime(2011, 11, 23, 0, 0), 'grade': 'A', 'score': 9}, {'date': datetime.datetime(2011, 3, 10, 0, 0), 'grade': 'B', 'score': 14}], 'name': 'Morris Park Bake Shop', 'restaurant_id': '30075445'}\n",
            "{'_id': ObjectId('666c372645dd1b1364a07418'), 'address': {'building': '2300', 'coord': [-73.8786113, 40.8502883], 'street': 'Southern Boulevard', 'zipcode': '10460'}, 'borough': 'Bronx', 'cuisine': 'American ', 'grades': [{'date': datetime.datetime(2014, 5, 28, 0, 0), 'grade': 'A', 'score': 11}, {'date': datetime.datetime(2013, 6, 19, 0, 0), 'grade': 'A', 'score': 4}, {'date': datetime.datetime(2012, 6, 15, 0, 0), 'grade': 'A', 'score': 3}], 'name': 'Wild Asia', 'restaurant_id': '40357217'}\n",
            "{'_id': ObjectId('666c372645dd1b1364a0742d'), 'address': {'building': '1006', 'coord': [-73.84856870000002, 40.8903781], 'street': 'East 233 Street', 'zipcode': '10466'}, 'borough': 'Bronx', 'cuisine': 'Ice Cream, Gelato, Yogurt, Ices', 'grades': [{'date': datetime.datetime(2014, 4, 24, 0, 0), 'grade': 'A', 'score': 10}, {'date': datetime.datetime(2013, 9, 5, 0, 0), 'grade': 'A', 'score': 10}, {'date': datetime.datetime(2013, 2, 21, 0, 0), 'grade': 'A', 'score': 9}, {'date': datetime.datetime(2012, 7, 3, 0, 0), 'grade': 'A', 'score': 11}, {'date': datetime.datetime(2011, 7, 11, 0, 0), 'grade': 'A', 'score': 5}], 'name': 'Carvel Ice Cream', 'restaurant_id': '40363093'}\n"
          ]
        }
      ]
    },
    {
      "cell_type": "code",
      "metadata": {
        "colab": {
          "base_uri": "https://localhost:8080/",
          "height": 196
        },
        "id": "Yhaab-ELVyPP",
        "outputId": "f7f1b64b-1451-4493-8593-f0cb18bf4f59"
      },
      "source": [
        "df = pd.DataFrame(list(table.find({\"borough\": \"Bronx\"}).limit(3)))\n",
        "df"
      ],
      "execution_count": 24,
      "outputs": [
        {
          "output_type": "execute_result",
          "data": {
            "text/plain": [
              "                        _id  \\\n",
              "0  666c372645dd1b1364a0740e   \n",
              "1  666c372645dd1b1364a07418   \n",
              "2  666c372645dd1b1364a0742d   \n",
              "\n",
              "                                             address borough  \\\n",
              "0  {'building': '1007', 'coord': [-73.856077, 40....   Bronx   \n",
              "1  {'building': '2300', 'coord': [-73.8786113, 40...   Bronx   \n",
              "2  {'building': '1006', 'coord': [-73.84856870000...   Bronx   \n",
              "\n",
              "                           cuisine  \\\n",
              "0                           Bakery   \n",
              "1                        American    \n",
              "2  Ice Cream, Gelato, Yogurt, Ices   \n",
              "\n",
              "                                              grades                   name  \\\n",
              "0  [{'date': 2014-03-03 00:00:00, 'grade': 'A', '...  Morris Park Bake Shop   \n",
              "1  [{'date': 2014-05-28 00:00:00, 'grade': 'A', '...              Wild Asia   \n",
              "2  [{'date': 2014-04-24 00:00:00, 'grade': 'A', '...       Carvel Ice Cream   \n",
              "\n",
              "  restaurant_id  \n",
              "0      30075445  \n",
              "1      40357217  \n",
              "2      40363093  "
            ],
            "text/html": [
              "\n",
              "  <div id=\"df-941082e4-9a19-463c-9acb-d739b79a7846\" class=\"colab-df-container\">\n",
              "    <div>\n",
              "<style scoped>\n",
              "    .dataframe tbody tr th:only-of-type {\n",
              "        vertical-align: middle;\n",
              "    }\n",
              "\n",
              "    .dataframe tbody tr th {\n",
              "        vertical-align: top;\n",
              "    }\n",
              "\n",
              "    .dataframe thead th {\n",
              "        text-align: right;\n",
              "    }\n",
              "</style>\n",
              "<table border=\"1\" class=\"dataframe\">\n",
              "  <thead>\n",
              "    <tr style=\"text-align: right;\">\n",
              "      <th></th>\n",
              "      <th>_id</th>\n",
              "      <th>address</th>\n",
              "      <th>borough</th>\n",
              "      <th>cuisine</th>\n",
              "      <th>grades</th>\n",
              "      <th>name</th>\n",
              "      <th>restaurant_id</th>\n",
              "    </tr>\n",
              "  </thead>\n",
              "  <tbody>\n",
              "    <tr>\n",
              "      <th>0</th>\n",
              "      <td>666c372645dd1b1364a0740e</td>\n",
              "      <td>{'building': '1007', 'coord': [-73.856077, 40....</td>\n",
              "      <td>Bronx</td>\n",
              "      <td>Bakery</td>\n",
              "      <td>[{'date': 2014-03-03 00:00:00, 'grade': 'A', '...</td>\n",
              "      <td>Morris Park Bake Shop</td>\n",
              "      <td>30075445</td>\n",
              "    </tr>\n",
              "    <tr>\n",
              "      <th>1</th>\n",
              "      <td>666c372645dd1b1364a07418</td>\n",
              "      <td>{'building': '2300', 'coord': [-73.8786113, 40...</td>\n",
              "      <td>Bronx</td>\n",
              "      <td>American</td>\n",
              "      <td>[{'date': 2014-05-28 00:00:00, 'grade': 'A', '...</td>\n",
              "      <td>Wild Asia</td>\n",
              "      <td>40357217</td>\n",
              "    </tr>\n",
              "    <tr>\n",
              "      <th>2</th>\n",
              "      <td>666c372645dd1b1364a0742d</td>\n",
              "      <td>{'building': '1006', 'coord': [-73.84856870000...</td>\n",
              "      <td>Bronx</td>\n",
              "      <td>Ice Cream, Gelato, Yogurt, Ices</td>\n",
              "      <td>[{'date': 2014-04-24 00:00:00, 'grade': 'A', '...</td>\n",
              "      <td>Carvel Ice Cream</td>\n",
              "      <td>40363093</td>\n",
              "    </tr>\n",
              "  </tbody>\n",
              "</table>\n",
              "</div>\n",
              "    <div class=\"colab-df-buttons\">\n",
              "\n",
              "  <div class=\"colab-df-container\">\n",
              "    <button class=\"colab-df-convert\" onclick=\"convertToInteractive('df-941082e4-9a19-463c-9acb-d739b79a7846')\"\n",
              "            title=\"Convert this dataframe to an interactive table.\"\n",
              "            style=\"display:none;\">\n",
              "\n",
              "  <svg xmlns=\"http://www.w3.org/2000/svg\" height=\"24px\" viewBox=\"0 -960 960 960\">\n",
              "    <path d=\"M120-120v-720h720v720H120Zm60-500h600v-160H180v160Zm220 220h160v-160H400v160Zm0 220h160v-160H400v160ZM180-400h160v-160H180v160Zm440 0h160v-160H620v160ZM180-180h160v-160H180v160Zm440 0h160v-160H620v160Z\"/>\n",
              "  </svg>\n",
              "    </button>\n",
              "\n",
              "  <style>\n",
              "    .colab-df-container {\n",
              "      display:flex;\n",
              "      gap: 12px;\n",
              "    }\n",
              "\n",
              "    .colab-df-convert {\n",
              "      background-color: #E8F0FE;\n",
              "      border: none;\n",
              "      border-radius: 50%;\n",
              "      cursor: pointer;\n",
              "      display: none;\n",
              "      fill: #1967D2;\n",
              "      height: 32px;\n",
              "      padding: 0 0 0 0;\n",
              "      width: 32px;\n",
              "    }\n",
              "\n",
              "    .colab-df-convert:hover {\n",
              "      background-color: #E2EBFA;\n",
              "      box-shadow: 0px 1px 2px rgba(60, 64, 67, 0.3), 0px 1px 3px 1px rgba(60, 64, 67, 0.15);\n",
              "      fill: #174EA6;\n",
              "    }\n",
              "\n",
              "    .colab-df-buttons div {\n",
              "      margin-bottom: 4px;\n",
              "    }\n",
              "\n",
              "    [theme=dark] .colab-df-convert {\n",
              "      background-color: #3B4455;\n",
              "      fill: #D2E3FC;\n",
              "    }\n",
              "\n",
              "    [theme=dark] .colab-df-convert:hover {\n",
              "      background-color: #434B5C;\n",
              "      box-shadow: 0px 1px 3px 1px rgba(0, 0, 0, 0.15);\n",
              "      filter: drop-shadow(0px 1px 2px rgba(0, 0, 0, 0.3));\n",
              "      fill: #FFFFFF;\n",
              "    }\n",
              "  </style>\n",
              "\n",
              "    <script>\n",
              "      const buttonEl =\n",
              "        document.querySelector('#df-941082e4-9a19-463c-9acb-d739b79a7846 button.colab-df-convert');\n",
              "      buttonEl.style.display =\n",
              "        google.colab.kernel.accessAllowed ? 'block' : 'none';\n",
              "\n",
              "      async function convertToInteractive(key) {\n",
              "        const element = document.querySelector('#df-941082e4-9a19-463c-9acb-d739b79a7846');\n",
              "        const dataTable =\n",
              "          await google.colab.kernel.invokeFunction('convertToInteractive',\n",
              "                                                    [key], {});\n",
              "        if (!dataTable) return;\n",
              "\n",
              "        const docLinkHtml = 'Like what you see? Visit the ' +\n",
              "          '<a target=\"_blank\" href=https://colab.research.google.com/notebooks/data_table.ipynb>data table notebook</a>'\n",
              "          + ' to learn more about interactive tables.';\n",
              "        element.innerHTML = '';\n",
              "        dataTable['output_type'] = 'display_data';\n",
              "        await google.colab.output.renderOutput(dataTable, element);\n",
              "        const docLink = document.createElement('div');\n",
              "        docLink.innerHTML = docLinkHtml;\n",
              "        element.appendChild(docLink);\n",
              "      }\n",
              "    </script>\n",
              "  </div>\n",
              "\n",
              "\n",
              "<div id=\"df-80013a5e-40d4-44cc-a28e-084f1924af1f\">\n",
              "  <button class=\"colab-df-quickchart\" onclick=\"quickchart('df-80013a5e-40d4-44cc-a28e-084f1924af1f')\"\n",
              "            title=\"Suggest charts\"\n",
              "            style=\"display:none;\">\n",
              "\n",
              "<svg xmlns=\"http://www.w3.org/2000/svg\" height=\"24px\"viewBox=\"0 0 24 24\"\n",
              "     width=\"24px\">\n",
              "    <g>\n",
              "        <path d=\"M19 3H5c-1.1 0-2 .9-2 2v14c0 1.1.9 2 2 2h14c1.1 0 2-.9 2-2V5c0-1.1-.9-2-2-2zM9 17H7v-7h2v7zm4 0h-2V7h2v10zm4 0h-2v-4h2v4z\"/>\n",
              "    </g>\n",
              "</svg>\n",
              "  </button>\n",
              "\n",
              "<style>\n",
              "  .colab-df-quickchart {\n",
              "      --bg-color: #E8F0FE;\n",
              "      --fill-color: #1967D2;\n",
              "      --hover-bg-color: #E2EBFA;\n",
              "      --hover-fill-color: #174EA6;\n",
              "      --disabled-fill-color: #AAA;\n",
              "      --disabled-bg-color: #DDD;\n",
              "  }\n",
              "\n",
              "  [theme=dark] .colab-df-quickchart {\n",
              "      --bg-color: #3B4455;\n",
              "      --fill-color: #D2E3FC;\n",
              "      --hover-bg-color: #434B5C;\n",
              "      --hover-fill-color: #FFFFFF;\n",
              "      --disabled-bg-color: #3B4455;\n",
              "      --disabled-fill-color: #666;\n",
              "  }\n",
              "\n",
              "  .colab-df-quickchart {\n",
              "    background-color: var(--bg-color);\n",
              "    border: none;\n",
              "    border-radius: 50%;\n",
              "    cursor: pointer;\n",
              "    display: none;\n",
              "    fill: var(--fill-color);\n",
              "    height: 32px;\n",
              "    padding: 0;\n",
              "    width: 32px;\n",
              "  }\n",
              "\n",
              "  .colab-df-quickchart:hover {\n",
              "    background-color: var(--hover-bg-color);\n",
              "    box-shadow: 0 1px 2px rgba(60, 64, 67, 0.3), 0 1px 3px 1px rgba(60, 64, 67, 0.15);\n",
              "    fill: var(--button-hover-fill-color);\n",
              "  }\n",
              "\n",
              "  .colab-df-quickchart-complete:disabled,\n",
              "  .colab-df-quickchart-complete:disabled:hover {\n",
              "    background-color: var(--disabled-bg-color);\n",
              "    fill: var(--disabled-fill-color);\n",
              "    box-shadow: none;\n",
              "  }\n",
              "\n",
              "  .colab-df-spinner {\n",
              "    border: 2px solid var(--fill-color);\n",
              "    border-color: transparent;\n",
              "    border-bottom-color: var(--fill-color);\n",
              "    animation:\n",
              "      spin 1s steps(1) infinite;\n",
              "  }\n",
              "\n",
              "  @keyframes spin {\n",
              "    0% {\n",
              "      border-color: transparent;\n",
              "      border-bottom-color: var(--fill-color);\n",
              "      border-left-color: var(--fill-color);\n",
              "    }\n",
              "    20% {\n",
              "      border-color: transparent;\n",
              "      border-left-color: var(--fill-color);\n",
              "      border-top-color: var(--fill-color);\n",
              "    }\n",
              "    30% {\n",
              "      border-color: transparent;\n",
              "      border-left-color: var(--fill-color);\n",
              "      border-top-color: var(--fill-color);\n",
              "      border-right-color: var(--fill-color);\n",
              "    }\n",
              "    40% {\n",
              "      border-color: transparent;\n",
              "      border-right-color: var(--fill-color);\n",
              "      border-top-color: var(--fill-color);\n",
              "    }\n",
              "    60% {\n",
              "      border-color: transparent;\n",
              "      border-right-color: var(--fill-color);\n",
              "    }\n",
              "    80% {\n",
              "      border-color: transparent;\n",
              "      border-right-color: var(--fill-color);\n",
              "      border-bottom-color: var(--fill-color);\n",
              "    }\n",
              "    90% {\n",
              "      border-color: transparent;\n",
              "      border-bottom-color: var(--fill-color);\n",
              "    }\n",
              "  }\n",
              "</style>\n",
              "\n",
              "  <script>\n",
              "    async function quickchart(key) {\n",
              "      const quickchartButtonEl =\n",
              "        document.querySelector('#' + key + ' button');\n",
              "      quickchartButtonEl.disabled = true;  // To prevent multiple clicks.\n",
              "      quickchartButtonEl.classList.add('colab-df-spinner');\n",
              "      try {\n",
              "        const charts = await google.colab.kernel.invokeFunction(\n",
              "            'suggestCharts', [key], {});\n",
              "      } catch (error) {\n",
              "        console.error('Error during call to suggestCharts:', error);\n",
              "      }\n",
              "      quickchartButtonEl.classList.remove('colab-df-spinner');\n",
              "      quickchartButtonEl.classList.add('colab-df-quickchart-complete');\n",
              "    }\n",
              "    (() => {\n",
              "      let quickchartButtonEl =\n",
              "        document.querySelector('#df-80013a5e-40d4-44cc-a28e-084f1924af1f button');\n",
              "      quickchartButtonEl.style.display =\n",
              "        google.colab.kernel.accessAllowed ? 'block' : 'none';\n",
              "    })();\n",
              "  </script>\n",
              "</div>\n",
              "\n",
              "  <div id=\"id_4813e66d-2218-4066-a2f3-770413fa4657\">\n",
              "    <style>\n",
              "      .colab-df-generate {\n",
              "        background-color: #E8F0FE;\n",
              "        border: none;\n",
              "        border-radius: 50%;\n",
              "        cursor: pointer;\n",
              "        display: none;\n",
              "        fill: #1967D2;\n",
              "        height: 32px;\n",
              "        padding: 0 0 0 0;\n",
              "        width: 32px;\n",
              "      }\n",
              "\n",
              "      .colab-df-generate:hover {\n",
              "        background-color: #E2EBFA;\n",
              "        box-shadow: 0px 1px 2px rgba(60, 64, 67, 0.3), 0px 1px 3px 1px rgba(60, 64, 67, 0.15);\n",
              "        fill: #174EA6;\n",
              "      }\n",
              "\n",
              "      [theme=dark] .colab-df-generate {\n",
              "        background-color: #3B4455;\n",
              "        fill: #D2E3FC;\n",
              "      }\n",
              "\n",
              "      [theme=dark] .colab-df-generate:hover {\n",
              "        background-color: #434B5C;\n",
              "        box-shadow: 0px 1px 3px 1px rgba(0, 0, 0, 0.15);\n",
              "        filter: drop-shadow(0px 1px 2px rgba(0, 0, 0, 0.3));\n",
              "        fill: #FFFFFF;\n",
              "      }\n",
              "    </style>\n",
              "    <button class=\"colab-df-generate\" onclick=\"generateWithVariable('df')\"\n",
              "            title=\"Generate code using this dataframe.\"\n",
              "            style=\"display:none;\">\n",
              "\n",
              "  <svg xmlns=\"http://www.w3.org/2000/svg\" height=\"24px\"viewBox=\"0 0 24 24\"\n",
              "       width=\"24px\">\n",
              "    <path d=\"M7,19H8.4L18.45,9,17,7.55,7,17.6ZM5,21V16.75L18.45,3.32a2,2,0,0,1,2.83,0l1.4,1.43a1.91,1.91,0,0,1,.58,1.4,1.91,1.91,0,0,1-.58,1.4L9.25,21ZM18.45,9,17,7.55Zm-12,3A5.31,5.31,0,0,0,4.9,8.1,5.31,5.31,0,0,0,1,6.5,5.31,5.31,0,0,0,4.9,4.9,5.31,5.31,0,0,0,6.5,1,5.31,5.31,0,0,0,8.1,4.9,5.31,5.31,0,0,0,12,6.5,5.46,5.46,0,0,0,6.5,12Z\"/>\n",
              "  </svg>\n",
              "    </button>\n",
              "    <script>\n",
              "      (() => {\n",
              "      const buttonEl =\n",
              "        document.querySelector('#id_4813e66d-2218-4066-a2f3-770413fa4657 button.colab-df-generate');\n",
              "      buttonEl.style.display =\n",
              "        google.colab.kernel.accessAllowed ? 'block' : 'none';\n",
              "\n",
              "      buttonEl.onclick = () => {\n",
              "        google.colab.notebook.generateWithVariable('df');\n",
              "      }\n",
              "      })();\n",
              "    </script>\n",
              "  </div>\n",
              "\n",
              "    </div>\n",
              "  </div>\n"
            ],
            "application/vnd.google.colaboratory.intrinsic+json": {
              "type": "dataframe",
              "variable_name": "df",
              "summary": "{\n  \"name\": \"df\",\n  \"rows\": 3,\n  \"fields\": [\n    {\n      \"column\": \"_id\",\n      \"properties\": {\n        \"dtype\": \"string\",\n        \"num_unique_values\": 3,\n        \"samples\": [\n          \"666c372645dd1b1364a0740e\",\n          \"666c372645dd1b1364a07418\",\n          \"666c372645dd1b1364a0742d\"\n        ],\n        \"semantic_type\": \"\",\n        \"description\": \"\"\n      }\n    },\n    {\n      \"column\": \"address\",\n      \"properties\": {\n        \"dtype\": \"object\",\n        \"semantic_type\": \"\",\n        \"description\": \"\"\n      }\n    },\n    {\n      \"column\": \"borough\",\n      \"properties\": {\n        \"dtype\": \"category\",\n        \"num_unique_values\": 1,\n        \"samples\": [\n          \"Bronx\"\n        ],\n        \"semantic_type\": \"\",\n        \"description\": \"\"\n      }\n    },\n    {\n      \"column\": \"cuisine\",\n      \"properties\": {\n        \"dtype\": \"string\",\n        \"num_unique_values\": 3,\n        \"samples\": [\n          \"Bakery\"\n        ],\n        \"semantic_type\": \"\",\n        \"description\": \"\"\n      }\n    },\n    {\n      \"column\": \"grades\",\n      \"properties\": {\n        \"dtype\": \"object\",\n        \"semantic_type\": \"\",\n        \"description\": \"\"\n      }\n    },\n    {\n      \"column\": \"name\",\n      \"properties\": {\n        \"dtype\": \"string\",\n        \"num_unique_values\": 3,\n        \"samples\": [\n          \"Morris Park Bake Shop\"\n        ],\n        \"semantic_type\": \"\",\n        \"description\": \"\"\n      }\n    },\n    {\n      \"column\": \"restaurant_id\",\n      \"properties\": {\n        \"dtype\": \"string\",\n        \"num_unique_values\": 3,\n        \"samples\": [\n          \"30075445\"\n        ],\n        \"semantic_type\": \"\",\n        \"description\": \"\"\n      }\n    }\n  ]\n}"
            }
          },
          "metadata": {},
          "execution_count": 24
        }
      ]
    },
    {
      "cell_type": "markdown",
      "metadata": {
        "id": "FA01CJcxbhLQ"
      },
      "source": [
        "7. display the next 5 restaurants after skipping first 5 which are in the borough Bronx.\n"
      ]
    },
    {
      "cell_type": "code",
      "metadata": {
        "colab": {
          "base_uri": "https://localhost:8080/",
          "height": 196
        },
        "id": "uYMMY_xWbpTu",
        "outputId": "940cc60a-8efb-4f08-b31a-e98e8200844f"
      },
      "source": [
        "pd.DataFrame(list(table.find({\"borough\": \"Bronx\"}).skip(5).limit(3)))"
      ],
      "execution_count": 25,
      "outputs": [
        {
          "output_type": "execute_result",
          "data": {
            "text/plain": [
              "                        _id  \\\n",
              "0  666c372645dd1b1364a0744a   \n",
              "1  666c372645dd1b1364a07462   \n",
              "2  666c372645dd1b1364a0747a   \n",
              "\n",
              "                                             address borough    cuisine  \\\n",
              "0  {'building': '658', 'coord': [-73.813639999999...   Bronx  American    \n",
              "1  {'building': '2222', 'coord': [-73.84971759999...   Bronx  American    \n",
              "2  {'building': '72', 'coord': [-73.92506, 40.827...   Bronx  American    \n",
              "\n",
              "                                              grades  \\\n",
              "0  [{'date': 2014-06-21 00:00:00, 'grade': 'A', '...   \n",
              "1  [{'date': 2014-12-18 00:00:00, 'grade': 'A', '...   \n",
              "2  [{'date': 2014-04-15 00:00:00, 'grade': 'A', '...   \n",
              "\n",
              "                                          name restaurant_id  \n",
              "0                                  Manhem Club      40364363  \n",
              "1  The New Starling Athletic Club Of The Bronx      40364956  \n",
              "2                                Yankee Tavern      40365499  "
            ],
            "text/html": [
              "\n",
              "  <div id=\"df-f005085e-5cde-408c-920e-b4d9c33fc4c0\" class=\"colab-df-container\">\n",
              "    <div>\n",
              "<style scoped>\n",
              "    .dataframe tbody tr th:only-of-type {\n",
              "        vertical-align: middle;\n",
              "    }\n",
              "\n",
              "    .dataframe tbody tr th {\n",
              "        vertical-align: top;\n",
              "    }\n",
              "\n",
              "    .dataframe thead th {\n",
              "        text-align: right;\n",
              "    }\n",
              "</style>\n",
              "<table border=\"1\" class=\"dataframe\">\n",
              "  <thead>\n",
              "    <tr style=\"text-align: right;\">\n",
              "      <th></th>\n",
              "      <th>_id</th>\n",
              "      <th>address</th>\n",
              "      <th>borough</th>\n",
              "      <th>cuisine</th>\n",
              "      <th>grades</th>\n",
              "      <th>name</th>\n",
              "      <th>restaurant_id</th>\n",
              "    </tr>\n",
              "  </thead>\n",
              "  <tbody>\n",
              "    <tr>\n",
              "      <th>0</th>\n",
              "      <td>666c372645dd1b1364a0744a</td>\n",
              "      <td>{'building': '658', 'coord': [-73.813639999999...</td>\n",
              "      <td>Bronx</td>\n",
              "      <td>American</td>\n",
              "      <td>[{'date': 2014-06-21 00:00:00, 'grade': 'A', '...</td>\n",
              "      <td>Manhem Club</td>\n",
              "      <td>40364363</td>\n",
              "    </tr>\n",
              "    <tr>\n",
              "      <th>1</th>\n",
              "      <td>666c372645dd1b1364a07462</td>\n",
              "      <td>{'building': '2222', 'coord': [-73.84971759999...</td>\n",
              "      <td>Bronx</td>\n",
              "      <td>American</td>\n",
              "      <td>[{'date': 2014-12-18 00:00:00, 'grade': 'A', '...</td>\n",
              "      <td>The New Starling Athletic Club Of The Bronx</td>\n",
              "      <td>40364956</td>\n",
              "    </tr>\n",
              "    <tr>\n",
              "      <th>2</th>\n",
              "      <td>666c372645dd1b1364a0747a</td>\n",
              "      <td>{'building': '72', 'coord': [-73.92506, 40.827...</td>\n",
              "      <td>Bronx</td>\n",
              "      <td>American</td>\n",
              "      <td>[{'date': 2014-04-15 00:00:00, 'grade': 'A', '...</td>\n",
              "      <td>Yankee Tavern</td>\n",
              "      <td>40365499</td>\n",
              "    </tr>\n",
              "  </tbody>\n",
              "</table>\n",
              "</div>\n",
              "    <div class=\"colab-df-buttons\">\n",
              "\n",
              "  <div class=\"colab-df-container\">\n",
              "    <button class=\"colab-df-convert\" onclick=\"convertToInteractive('df-f005085e-5cde-408c-920e-b4d9c33fc4c0')\"\n",
              "            title=\"Convert this dataframe to an interactive table.\"\n",
              "            style=\"display:none;\">\n",
              "\n",
              "  <svg xmlns=\"http://www.w3.org/2000/svg\" height=\"24px\" viewBox=\"0 -960 960 960\">\n",
              "    <path d=\"M120-120v-720h720v720H120Zm60-500h600v-160H180v160Zm220 220h160v-160H400v160Zm0 220h160v-160H400v160ZM180-400h160v-160H180v160Zm440 0h160v-160H620v160ZM180-180h160v-160H180v160Zm440 0h160v-160H620v160Z\"/>\n",
              "  </svg>\n",
              "    </button>\n",
              "\n",
              "  <style>\n",
              "    .colab-df-container {\n",
              "      display:flex;\n",
              "      gap: 12px;\n",
              "    }\n",
              "\n",
              "    .colab-df-convert {\n",
              "      background-color: #E8F0FE;\n",
              "      border: none;\n",
              "      border-radius: 50%;\n",
              "      cursor: pointer;\n",
              "      display: none;\n",
              "      fill: #1967D2;\n",
              "      height: 32px;\n",
              "      padding: 0 0 0 0;\n",
              "      width: 32px;\n",
              "    }\n",
              "\n",
              "    .colab-df-convert:hover {\n",
              "      background-color: #E2EBFA;\n",
              "      box-shadow: 0px 1px 2px rgba(60, 64, 67, 0.3), 0px 1px 3px 1px rgba(60, 64, 67, 0.15);\n",
              "      fill: #174EA6;\n",
              "    }\n",
              "\n",
              "    .colab-df-buttons div {\n",
              "      margin-bottom: 4px;\n",
              "    }\n",
              "\n",
              "    [theme=dark] .colab-df-convert {\n",
              "      background-color: #3B4455;\n",
              "      fill: #D2E3FC;\n",
              "    }\n",
              "\n",
              "    [theme=dark] .colab-df-convert:hover {\n",
              "      background-color: #434B5C;\n",
              "      box-shadow: 0px 1px 3px 1px rgba(0, 0, 0, 0.15);\n",
              "      filter: drop-shadow(0px 1px 2px rgba(0, 0, 0, 0.3));\n",
              "      fill: #FFFFFF;\n",
              "    }\n",
              "  </style>\n",
              "\n",
              "    <script>\n",
              "      const buttonEl =\n",
              "        document.querySelector('#df-f005085e-5cde-408c-920e-b4d9c33fc4c0 button.colab-df-convert');\n",
              "      buttonEl.style.display =\n",
              "        google.colab.kernel.accessAllowed ? 'block' : 'none';\n",
              "\n",
              "      async function convertToInteractive(key) {\n",
              "        const element = document.querySelector('#df-f005085e-5cde-408c-920e-b4d9c33fc4c0');\n",
              "        const dataTable =\n",
              "          await google.colab.kernel.invokeFunction('convertToInteractive',\n",
              "                                                    [key], {});\n",
              "        if (!dataTable) return;\n",
              "\n",
              "        const docLinkHtml = 'Like what you see? Visit the ' +\n",
              "          '<a target=\"_blank\" href=https://colab.research.google.com/notebooks/data_table.ipynb>data table notebook</a>'\n",
              "          + ' to learn more about interactive tables.';\n",
              "        element.innerHTML = '';\n",
              "        dataTable['output_type'] = 'display_data';\n",
              "        await google.colab.output.renderOutput(dataTable, element);\n",
              "        const docLink = document.createElement('div');\n",
              "        docLink.innerHTML = docLinkHtml;\n",
              "        element.appendChild(docLink);\n",
              "      }\n",
              "    </script>\n",
              "  </div>\n",
              "\n",
              "\n",
              "<div id=\"df-da542920-bee9-4b39-bc3b-50782cc215a4\">\n",
              "  <button class=\"colab-df-quickchart\" onclick=\"quickchart('df-da542920-bee9-4b39-bc3b-50782cc215a4')\"\n",
              "            title=\"Suggest charts\"\n",
              "            style=\"display:none;\">\n",
              "\n",
              "<svg xmlns=\"http://www.w3.org/2000/svg\" height=\"24px\"viewBox=\"0 0 24 24\"\n",
              "     width=\"24px\">\n",
              "    <g>\n",
              "        <path d=\"M19 3H5c-1.1 0-2 .9-2 2v14c0 1.1.9 2 2 2h14c1.1 0 2-.9 2-2V5c0-1.1-.9-2-2-2zM9 17H7v-7h2v7zm4 0h-2V7h2v10zm4 0h-2v-4h2v4z\"/>\n",
              "    </g>\n",
              "</svg>\n",
              "  </button>\n",
              "\n",
              "<style>\n",
              "  .colab-df-quickchart {\n",
              "      --bg-color: #E8F0FE;\n",
              "      --fill-color: #1967D2;\n",
              "      --hover-bg-color: #E2EBFA;\n",
              "      --hover-fill-color: #174EA6;\n",
              "      --disabled-fill-color: #AAA;\n",
              "      --disabled-bg-color: #DDD;\n",
              "  }\n",
              "\n",
              "  [theme=dark] .colab-df-quickchart {\n",
              "      --bg-color: #3B4455;\n",
              "      --fill-color: #D2E3FC;\n",
              "      --hover-bg-color: #434B5C;\n",
              "      --hover-fill-color: #FFFFFF;\n",
              "      --disabled-bg-color: #3B4455;\n",
              "      --disabled-fill-color: #666;\n",
              "  }\n",
              "\n",
              "  .colab-df-quickchart {\n",
              "    background-color: var(--bg-color);\n",
              "    border: none;\n",
              "    border-radius: 50%;\n",
              "    cursor: pointer;\n",
              "    display: none;\n",
              "    fill: var(--fill-color);\n",
              "    height: 32px;\n",
              "    padding: 0;\n",
              "    width: 32px;\n",
              "  }\n",
              "\n",
              "  .colab-df-quickchart:hover {\n",
              "    background-color: var(--hover-bg-color);\n",
              "    box-shadow: 0 1px 2px rgba(60, 64, 67, 0.3), 0 1px 3px 1px rgba(60, 64, 67, 0.15);\n",
              "    fill: var(--button-hover-fill-color);\n",
              "  }\n",
              "\n",
              "  .colab-df-quickchart-complete:disabled,\n",
              "  .colab-df-quickchart-complete:disabled:hover {\n",
              "    background-color: var(--disabled-bg-color);\n",
              "    fill: var(--disabled-fill-color);\n",
              "    box-shadow: none;\n",
              "  }\n",
              "\n",
              "  .colab-df-spinner {\n",
              "    border: 2px solid var(--fill-color);\n",
              "    border-color: transparent;\n",
              "    border-bottom-color: var(--fill-color);\n",
              "    animation:\n",
              "      spin 1s steps(1) infinite;\n",
              "  }\n",
              "\n",
              "  @keyframes spin {\n",
              "    0% {\n",
              "      border-color: transparent;\n",
              "      border-bottom-color: var(--fill-color);\n",
              "      border-left-color: var(--fill-color);\n",
              "    }\n",
              "    20% {\n",
              "      border-color: transparent;\n",
              "      border-left-color: var(--fill-color);\n",
              "      border-top-color: var(--fill-color);\n",
              "    }\n",
              "    30% {\n",
              "      border-color: transparent;\n",
              "      border-left-color: var(--fill-color);\n",
              "      border-top-color: var(--fill-color);\n",
              "      border-right-color: var(--fill-color);\n",
              "    }\n",
              "    40% {\n",
              "      border-color: transparent;\n",
              "      border-right-color: var(--fill-color);\n",
              "      border-top-color: var(--fill-color);\n",
              "    }\n",
              "    60% {\n",
              "      border-color: transparent;\n",
              "      border-right-color: var(--fill-color);\n",
              "    }\n",
              "    80% {\n",
              "      border-color: transparent;\n",
              "      border-right-color: var(--fill-color);\n",
              "      border-bottom-color: var(--fill-color);\n",
              "    }\n",
              "    90% {\n",
              "      border-color: transparent;\n",
              "      border-bottom-color: var(--fill-color);\n",
              "    }\n",
              "  }\n",
              "</style>\n",
              "\n",
              "  <script>\n",
              "    async function quickchart(key) {\n",
              "      const quickchartButtonEl =\n",
              "        document.querySelector('#' + key + ' button');\n",
              "      quickchartButtonEl.disabled = true;  // To prevent multiple clicks.\n",
              "      quickchartButtonEl.classList.add('colab-df-spinner');\n",
              "      try {\n",
              "        const charts = await google.colab.kernel.invokeFunction(\n",
              "            'suggestCharts', [key], {});\n",
              "      } catch (error) {\n",
              "        console.error('Error during call to suggestCharts:', error);\n",
              "      }\n",
              "      quickchartButtonEl.classList.remove('colab-df-spinner');\n",
              "      quickchartButtonEl.classList.add('colab-df-quickchart-complete');\n",
              "    }\n",
              "    (() => {\n",
              "      let quickchartButtonEl =\n",
              "        document.querySelector('#df-da542920-bee9-4b39-bc3b-50782cc215a4 button');\n",
              "      quickchartButtonEl.style.display =\n",
              "        google.colab.kernel.accessAllowed ? 'block' : 'none';\n",
              "    })();\n",
              "  </script>\n",
              "</div>\n",
              "\n",
              "    </div>\n",
              "  </div>\n"
            ],
            "application/vnd.google.colaboratory.intrinsic+json": {
              "type": "dataframe",
              "summary": "{\n  \"name\": \"pd\",\n  \"rows\": 3,\n  \"fields\": [\n    {\n      \"column\": \"_id\",\n      \"properties\": {\n        \"dtype\": \"string\",\n        \"num_unique_values\": 3,\n        \"samples\": [\n          \"666c372645dd1b1364a0744a\",\n          \"666c372645dd1b1364a07462\",\n          \"666c372645dd1b1364a0747a\"\n        ],\n        \"semantic_type\": \"\",\n        \"description\": \"\"\n      }\n    },\n    {\n      \"column\": \"address\",\n      \"properties\": {\n        \"dtype\": \"object\",\n        \"semantic_type\": \"\",\n        \"description\": \"\"\n      }\n    },\n    {\n      \"column\": \"borough\",\n      \"properties\": {\n        \"dtype\": \"category\",\n        \"num_unique_values\": 1,\n        \"samples\": [\n          \"Bronx\"\n        ],\n        \"semantic_type\": \"\",\n        \"description\": \"\"\n      }\n    },\n    {\n      \"column\": \"cuisine\",\n      \"properties\": {\n        \"dtype\": \"category\",\n        \"num_unique_values\": 1,\n        \"samples\": [\n          \"American \"\n        ],\n        \"semantic_type\": \"\",\n        \"description\": \"\"\n      }\n    },\n    {\n      \"column\": \"grades\",\n      \"properties\": {\n        \"dtype\": \"object\",\n        \"semantic_type\": \"\",\n        \"description\": \"\"\n      }\n    },\n    {\n      \"column\": \"name\",\n      \"properties\": {\n        \"dtype\": \"string\",\n        \"num_unique_values\": 3,\n        \"samples\": [\n          \"Manhem Club\"\n        ],\n        \"semantic_type\": \"\",\n        \"description\": \"\"\n      }\n    },\n    {\n      \"column\": \"restaurant_id\",\n      \"properties\": {\n        \"dtype\": \"string\",\n        \"num_unique_values\": 3,\n        \"samples\": [\n          \"40364363\"\n        ],\n        \"semantic_type\": \"\",\n        \"description\": \"\"\n      }\n    }\n  ]\n}"
            }
          },
          "metadata": {},
          "execution_count": 25
        }
      ]
    },
    {
      "cell_type": "markdown",
      "metadata": {
        "id": "05DKPgH1cKRf"
      },
      "source": [
        "8. find the restaurants who achieved a score more than 90. <hr>\n",
        "https://stackoverflow.com/questions/68772027/mongodb-with-python-on-google-colab-syntax-error-on-elemmatch/68796638#68796638"
      ]
    },
    {
      "cell_type": "code",
      "metadata": {
        "colab": {
          "base_uri": "https://localhost:8080/"
        },
        "id": "cz-T8eHYII34",
        "outputId": "ed380832-6e63-4779-f450-1a29ab365173"
      },
      "source": [
        "c1 = db.restaurants.find({\"grades\" : { \"$elemMatch\":{\"score\":{\"$gt\" : 90}}}})\n",
        "for crnt in c1:\n",
        "    print(crnt)"
      ],
      "execution_count": 26,
      "outputs": [
        {
          "output_type": "stream",
          "name": "stdout",
          "text": [
            "{'_id': ObjectId('666c372645dd1b1364a0756b'), 'address': {'building': '65', 'coord': [-73.9782725, 40.7624022], 'street': 'West   54 Street', 'zipcode': '10019'}, 'borough': 'Manhattan', 'cuisine': 'American ', 'grades': [{'date': datetime.datetime(2014, 8, 22, 0, 0), 'grade': 'A', 'score': 11}, {'date': datetime.datetime(2014, 3, 28, 0, 0), 'grade': 'C', 'score': 131}, {'date': datetime.datetime(2013, 9, 25, 0, 0), 'grade': 'A', 'score': 11}, {'date': datetime.datetime(2013, 4, 8, 0, 0), 'grade': 'B', 'score': 25}, {'date': datetime.datetime(2012, 10, 15, 0, 0), 'grade': 'A', 'score': 11}, {'date': datetime.datetime(2011, 10, 19, 0, 0), 'grade': 'A', 'score': 13}], 'name': \"Murals On 54/Randolphs'S\", 'restaurant_id': '40372466'}\n",
            "{'_id': ObjectId('666c372645dd1b1364a0760c'), 'address': {'building': '345', 'coord': [-73.9864626, 40.7266739], 'street': 'East 6 Street', 'zipcode': '10003'}, 'borough': 'Manhattan', 'cuisine': 'Indian', 'grades': [{'date': datetime.datetime(2014, 9, 15, 0, 0), 'grade': 'A', 'score': 5}, {'date': datetime.datetime(2014, 1, 14, 0, 0), 'grade': 'A', 'score': 8}, {'date': datetime.datetime(2013, 5, 30, 0, 0), 'grade': 'A', 'score': 12}, {'date': datetime.datetime(2013, 4, 24, 0, 0), 'grade': 'P', 'score': 2}, {'date': datetime.datetime(2012, 10, 1, 0, 0), 'grade': 'A', 'score': 9}, {'date': datetime.datetime(2012, 4, 6, 0, 0), 'grade': 'C', 'score': 92}, {'date': datetime.datetime(2011, 11, 3, 0, 0), 'grade': 'C', 'score': 41}], 'name': 'Gandhi', 'restaurant_id': '40381295'}\n",
            "{'_id': ObjectId('666c372645dd1b1364a07770'), 'address': {'building': '130', 'coord': [-73.984758, 40.7457939], 'street': 'Madison Avenue', 'zipcode': '10016'}, 'borough': 'Manhattan', 'cuisine': 'Pizza/Italian', 'grades': [{'date': datetime.datetime(2014, 12, 24, 0, 0), 'grade': 'Z', 'score': 31}, {'date': datetime.datetime(2014, 6, 17, 0, 0), 'grade': 'C', 'score': 98}, {'date': datetime.datetime(2013, 12, 12, 0, 0), 'grade': 'C', 'score': 32}, {'date': datetime.datetime(2013, 5, 22, 0, 0), 'grade': 'B', 'score': 21}, {'date': datetime.datetime(2012, 5, 2, 0, 0), 'grade': 'A', 'score': 11}], 'name': 'Bella Napoli', 'restaurant_id': '40393488'}\n"
          ]
        }
      ]
    },
    {
      "cell_type": "code",
      "source": [
        "c1 = db.restaurants.find({\"grades\" : { \"$elemMatch\":{\"score\":{\"$gt\" : 90}}}},{\"name\":1,\"borough\":1,\"address.zipcode\" :1,\"_id\":0})\n",
        "for crnt in c1:\n",
        "    print(crnt)"
      ],
      "metadata": {
        "id": "EWm47mu6QCUN",
        "outputId": "7bfccfd3-0eec-405d-cb95-bb1bc68d1668",
        "colab": {
          "base_uri": "https://localhost:8080/"
        }
      },
      "execution_count": 27,
      "outputs": [
        {
          "output_type": "stream",
          "name": "stdout",
          "text": [
            "{'address': {'zipcode': '10019'}, 'borough': 'Manhattan', 'name': \"Murals On 54/Randolphs'S\"}\n",
            "{'address': {'zipcode': '10003'}, 'borough': 'Manhattan', 'name': 'Gandhi'}\n",
            "{'address': {'zipcode': '10016'}, 'borough': 'Manhattan', 'name': 'Bella Napoli'}\n"
          ]
        }
      ]
    },
    {
      "cell_type": "markdown",
      "metadata": {
        "id": "aLcgVZ2h0urN"
      },
      "source": [
        "9. find the restaurants that achieved a score, more than 80 but less than 100.\n"
      ]
    },
    {
      "cell_type": "code",
      "metadata": {
        "colab": {
          "base_uri": "https://localhost:8080/"
        },
        "id": "soYsYbef0uDW",
        "outputId": "9f38e300-b383-4fe2-a08b-9c33f66726a1"
      },
      "source": [
        "c1 = db.restaurants.find({\"grades\" : { \"$elemMatch\":{\"score\":{\"$gt\" : 80 , \"$lt\" :100}}}})\n",
        "for crnt in c1:\n",
        "    print(crnt)"
      ],
      "execution_count": 28,
      "outputs": [
        {
          "output_type": "stream",
          "name": "stdout",
          "text": [
            "{'_id': ObjectId('666c372645dd1b1364a0760c'), 'address': {'building': '345', 'coord': [-73.9864626, 40.7266739], 'street': 'East 6 Street', 'zipcode': '10003'}, 'borough': 'Manhattan', 'cuisine': 'Indian', 'grades': [{'date': datetime.datetime(2014, 9, 15, 0, 0), 'grade': 'A', 'score': 5}, {'date': datetime.datetime(2014, 1, 14, 0, 0), 'grade': 'A', 'score': 8}, {'date': datetime.datetime(2013, 5, 30, 0, 0), 'grade': 'A', 'score': 12}, {'date': datetime.datetime(2013, 4, 24, 0, 0), 'grade': 'P', 'score': 2}, {'date': datetime.datetime(2012, 10, 1, 0, 0), 'grade': 'A', 'score': 9}, {'date': datetime.datetime(2012, 4, 6, 0, 0), 'grade': 'C', 'score': 92}, {'date': datetime.datetime(2011, 11, 3, 0, 0), 'grade': 'C', 'score': 41}], 'name': 'Gandhi', 'restaurant_id': '40381295'}\n",
            "{'_id': ObjectId('666c372645dd1b1364a07770'), 'address': {'building': '130', 'coord': [-73.984758, 40.7457939], 'street': 'Madison Avenue', 'zipcode': '10016'}, 'borough': 'Manhattan', 'cuisine': 'Pizza/Italian', 'grades': [{'date': datetime.datetime(2014, 12, 24, 0, 0), 'grade': 'Z', 'score': 31}, {'date': datetime.datetime(2014, 6, 17, 0, 0), 'grade': 'C', 'score': 98}, {'date': datetime.datetime(2013, 12, 12, 0, 0), 'grade': 'C', 'score': 32}, {'date': datetime.datetime(2013, 5, 22, 0, 0), 'grade': 'B', 'score': 21}, {'date': datetime.datetime(2012, 5, 2, 0, 0), 'grade': 'A', 'score': 11}], 'name': 'Bella Napoli', 'restaurant_id': '40393488'}\n",
            "{'_id': ObjectId('666c372945dd1b1364a07fdb'), 'address': {'building': '', 'coord': [-74.0163793, 40.7167671], 'street': 'Hudson River', 'zipcode': '10282'}, 'borough': 'Manhattan', 'cuisine': 'American ', 'grades': [{'date': datetime.datetime(2014, 6, 27, 0, 0), 'grade': 'C', 'score': 89}, {'date': datetime.datetime(2013, 6, 6, 0, 0), 'grade': 'A', 'score': 6}, {'date': datetime.datetime(2012, 6, 19, 0, 0), 'grade': 'A', 'score': 13}], 'name': 'West 79Th Street Boat Basin Cafe', 'restaurant_id': '40756344'}\n"
          ]
        }
      ]
    },
    {
      "cell_type": "markdown",
      "metadata": {
        "id": "6B1SESeg1ZQE"
      },
      "source": [
        "10. find the restaurants which locates in latitude value less than -95.754168.\n"
      ]
    },
    {
      "cell_type": "code",
      "metadata": {
        "colab": {
          "base_uri": "https://localhost:8080/"
        },
        "id": "zM17vx6u1a6y",
        "outputId": "7b0f4a62-3f40-4756-d1ca-7438d22c13c0"
      },
      "source": [
        "c1 = db.restaurants.find({\"address.coord\" : {\"$lt\" : -95.754168}})\n",
        "for crnt in c1:\n",
        "    print(crnt)"
      ],
      "execution_count": 29,
      "outputs": [
        {
          "output_type": "stream",
          "name": "stdout",
          "text": [
            "{'_id': ObjectId('666c372845dd1b1364a07a55'), 'address': {'building': '3707', 'coord': [-101.8945214, 33.5197474], 'street': '82 Street', 'zipcode': '11372'}, 'borough': 'Queens', 'cuisine': 'American ', 'grades': [{'date': datetime.datetime(2014, 6, 4, 0, 0), 'grade': 'A', 'score': 12}, {'date': datetime.datetime(2013, 11, 7, 0, 0), 'grade': 'B', 'score': 19}, {'date': datetime.datetime(2013, 5, 17, 0, 0), 'grade': 'A', 'score': 11}, {'date': datetime.datetime(2012, 8, 29, 0, 0), 'grade': 'A', 'score': 11}, {'date': datetime.datetime(2012, 4, 3, 0, 0), 'grade': 'A', 'score': 12}, {'date': datetime.datetime(2011, 11, 16, 0, 0), 'grade': 'A', 'score': 7}], 'name': 'Burger King', 'restaurant_id': '40534067'}\n",
            "{'_id': ObjectId('666c372845dd1b1364a07dc1'), 'address': {'building': '15259', 'coord': [-119.6368672, 36.2504996], 'street': '10 Avenue', 'zipcode': '11357'}, 'borough': 'Queens', 'cuisine': 'Italian', 'grades': [{'date': datetime.datetime(2014, 9, 4, 0, 0), 'grade': 'A', 'score': 11}, {'date': datetime.datetime(2014, 3, 26, 0, 0), 'grade': 'A', 'score': 8}, {'date': datetime.datetime(2013, 3, 4, 0, 0), 'grade': 'A', 'score': 10}, {'date': datetime.datetime(2012, 9, 27, 0, 0), 'grade': 'A', 'score': 10}, {'date': datetime.datetime(2012, 4, 20, 0, 0), 'grade': 'A', 'score': 7}, {'date': datetime.datetime(2011, 11, 23, 0, 0), 'grade': 'C', 'score': 34}], 'name': \"Cascarino'S\", 'restaurant_id': '40668681'}\n",
            "{'_id': ObjectId('666c372945dd1b1364a08266'), 'address': {'building': '60', 'coord': [-111.9975205, 42.0970258], 'street': 'West Side Highway', 'zipcode': '10006'}, 'borough': 'Manhattan', 'cuisine': 'Japanese', 'grades': [{'date': datetime.datetime(2014, 3, 20, 0, 0), 'grade': 'A', 'score': 9}, {'date': datetime.datetime(2013, 6, 28, 0, 0), 'grade': 'A', 'score': 11}, {'date': datetime.datetime(2012, 7, 5, 0, 0), 'grade': 'A', 'score': 13}, {'date': datetime.datetime(2011, 7, 27, 0, 0), 'grade': 'A', 'score': 2}], 'name': 'Sports Center At Chelsea Piers (Sushi Bar)', 'restaurant_id': '40882356'}\n"
          ]
        }
      ]
    },
    {
      "cell_type": "markdown",
      "metadata": {
        "id": "aDT6MTuD2E-y"
      },
      "source": [
        "11. find the restaurants that does not prepare any cuisine of 'American' and their grade score more than 70 and latitude less than -65.754168."
      ]
    },
    {
      "cell_type": "code",
      "metadata": {
        "colab": {
          "base_uri": "https://localhost:8080/"
        },
        "id": "J_yL-eOl2HEY",
        "outputId": "1f80bca9-26a2-4c7d-cc35-3e76a14545d4"
      },
      "source": [
        "c1 = db.restaurants.find(\n",
        "               {\"$and\":\n",
        "                    [\n",
        "                       {\"cuisine\" : {\"$ne\" :\"American \"}},\n",
        "                       {\"grades.score\" : {\"$gt\" : 70}},\n",
        "                       {\"address.coord\" : {\"$lt\" : -65.754168}}\n",
        "                    ]\n",
        "                },\n",
        "                {\"restaurant_id\" : 1,\"name\":1,\"borough\":1,\"address.zipcode\" :1,\"_id\":0}\n",
        "                    );\n",
        "for crnt in c1:\n",
        "    print(crnt)"
      ],
      "execution_count": 30,
      "outputs": [
        {
          "output_type": "stream",
          "name": "stdout",
          "text": [
            "{'address': {'zipcode': '10003'}, 'borough': 'Manhattan', 'name': 'Gandhi', 'restaurant_id': '40381295'}\n",
            "{'address': {'zipcode': '10016'}, 'borough': 'Manhattan', 'name': 'Bella Napoli', 'restaurant_id': '40393488'}\n",
            "{'address': {'zipcode': '10451'}, 'borough': 'Bronx', 'name': 'El Molino Rojo Restaurant', 'restaurant_id': '40393688'}\n",
            "{'address': {'zipcode': '11211'}, 'borough': 'Brooklyn', 'name': 'Fortunato Bros Cafe & Bakery', 'restaurant_id': '40400561'}\n",
            "{'address': {'zipcode': '10017'}, 'borough': 'Manhattan', 'name': 'Two Boots Grand Central', 'restaurant_id': '40725591'}\n"
          ]
        }
      ]
    },
    {
      "cell_type": "code",
      "source": [
        "whereCond = {\"$and\":\n",
        "                    [\n",
        "                       {\"cuisine\" : {\"$ne\" :\"American \"}},\n",
        "                       {\"grades.score\" : {\"$gt\" : 70}},\n",
        "                       {\"address.coord\" : {\"$lt\" : -65.754168}}\n",
        "                    ]\n",
        "                }\n",
        "selFields = {\n",
        "    \"restaurant_id\" : 1,\n",
        "    \"name\":1,\n",
        "    \"borough\":1,\n",
        "    \"address.zipcode\" :1,\n",
        "    \"_id\":0}\n",
        "\n",
        "df = pd.DataFrame(db.restaurants.find(whereCond,selFields))\n",
        "df"
      ],
      "metadata": {
        "id": "tD_ZfMTRYhUU",
        "outputId": "8e5cc22d-4a31-4d09-c1c1-09d2abf38307",
        "colab": {
          "base_uri": "https://localhost:8080/",
          "height": 206
        }
      },
      "execution_count": 31,
      "outputs": [
        {
          "output_type": "execute_result",
          "data": {
            "text/plain": [
              "                address    borough                          name restaurant_id\n",
              "0  {'zipcode': '10003'}  Manhattan                        Gandhi      40381295\n",
              "1  {'zipcode': '10016'}  Manhattan                  Bella Napoli      40393488\n",
              "2  {'zipcode': '10451'}      Bronx     El Molino Rojo Restaurant      40393688\n",
              "3  {'zipcode': '11211'}   Brooklyn  Fortunato Bros Cafe & Bakery      40400561\n",
              "4  {'zipcode': '10017'}  Manhattan       Two Boots Grand Central      40725591"
            ],
            "text/html": [
              "\n",
              "  <div id=\"df-5024b4ae-c5c9-42a2-b2f8-805679cc57b0\" class=\"colab-df-container\">\n",
              "    <div>\n",
              "<style scoped>\n",
              "    .dataframe tbody tr th:only-of-type {\n",
              "        vertical-align: middle;\n",
              "    }\n",
              "\n",
              "    .dataframe tbody tr th {\n",
              "        vertical-align: top;\n",
              "    }\n",
              "\n",
              "    .dataframe thead th {\n",
              "        text-align: right;\n",
              "    }\n",
              "</style>\n",
              "<table border=\"1\" class=\"dataframe\">\n",
              "  <thead>\n",
              "    <tr style=\"text-align: right;\">\n",
              "      <th></th>\n",
              "      <th>address</th>\n",
              "      <th>borough</th>\n",
              "      <th>name</th>\n",
              "      <th>restaurant_id</th>\n",
              "    </tr>\n",
              "  </thead>\n",
              "  <tbody>\n",
              "    <tr>\n",
              "      <th>0</th>\n",
              "      <td>{'zipcode': '10003'}</td>\n",
              "      <td>Manhattan</td>\n",
              "      <td>Gandhi</td>\n",
              "      <td>40381295</td>\n",
              "    </tr>\n",
              "    <tr>\n",
              "      <th>1</th>\n",
              "      <td>{'zipcode': '10016'}</td>\n",
              "      <td>Manhattan</td>\n",
              "      <td>Bella Napoli</td>\n",
              "      <td>40393488</td>\n",
              "    </tr>\n",
              "    <tr>\n",
              "      <th>2</th>\n",
              "      <td>{'zipcode': '10451'}</td>\n",
              "      <td>Bronx</td>\n",
              "      <td>El Molino Rojo Restaurant</td>\n",
              "      <td>40393688</td>\n",
              "    </tr>\n",
              "    <tr>\n",
              "      <th>3</th>\n",
              "      <td>{'zipcode': '11211'}</td>\n",
              "      <td>Brooklyn</td>\n",
              "      <td>Fortunato Bros Cafe &amp; Bakery</td>\n",
              "      <td>40400561</td>\n",
              "    </tr>\n",
              "    <tr>\n",
              "      <th>4</th>\n",
              "      <td>{'zipcode': '10017'}</td>\n",
              "      <td>Manhattan</td>\n",
              "      <td>Two Boots Grand Central</td>\n",
              "      <td>40725591</td>\n",
              "    </tr>\n",
              "  </tbody>\n",
              "</table>\n",
              "</div>\n",
              "    <div class=\"colab-df-buttons\">\n",
              "\n",
              "  <div class=\"colab-df-container\">\n",
              "    <button class=\"colab-df-convert\" onclick=\"convertToInteractive('df-5024b4ae-c5c9-42a2-b2f8-805679cc57b0')\"\n",
              "            title=\"Convert this dataframe to an interactive table.\"\n",
              "            style=\"display:none;\">\n",
              "\n",
              "  <svg xmlns=\"http://www.w3.org/2000/svg\" height=\"24px\" viewBox=\"0 -960 960 960\">\n",
              "    <path d=\"M120-120v-720h720v720H120Zm60-500h600v-160H180v160Zm220 220h160v-160H400v160Zm0 220h160v-160H400v160ZM180-400h160v-160H180v160Zm440 0h160v-160H620v160ZM180-180h160v-160H180v160Zm440 0h160v-160H620v160Z\"/>\n",
              "  </svg>\n",
              "    </button>\n",
              "\n",
              "  <style>\n",
              "    .colab-df-container {\n",
              "      display:flex;\n",
              "      gap: 12px;\n",
              "    }\n",
              "\n",
              "    .colab-df-convert {\n",
              "      background-color: #E8F0FE;\n",
              "      border: none;\n",
              "      border-radius: 50%;\n",
              "      cursor: pointer;\n",
              "      display: none;\n",
              "      fill: #1967D2;\n",
              "      height: 32px;\n",
              "      padding: 0 0 0 0;\n",
              "      width: 32px;\n",
              "    }\n",
              "\n",
              "    .colab-df-convert:hover {\n",
              "      background-color: #E2EBFA;\n",
              "      box-shadow: 0px 1px 2px rgba(60, 64, 67, 0.3), 0px 1px 3px 1px rgba(60, 64, 67, 0.15);\n",
              "      fill: #174EA6;\n",
              "    }\n",
              "\n",
              "    .colab-df-buttons div {\n",
              "      margin-bottom: 4px;\n",
              "    }\n",
              "\n",
              "    [theme=dark] .colab-df-convert {\n",
              "      background-color: #3B4455;\n",
              "      fill: #D2E3FC;\n",
              "    }\n",
              "\n",
              "    [theme=dark] .colab-df-convert:hover {\n",
              "      background-color: #434B5C;\n",
              "      box-shadow: 0px 1px 3px 1px rgba(0, 0, 0, 0.15);\n",
              "      filter: drop-shadow(0px 1px 2px rgba(0, 0, 0, 0.3));\n",
              "      fill: #FFFFFF;\n",
              "    }\n",
              "  </style>\n",
              "\n",
              "    <script>\n",
              "      const buttonEl =\n",
              "        document.querySelector('#df-5024b4ae-c5c9-42a2-b2f8-805679cc57b0 button.colab-df-convert');\n",
              "      buttonEl.style.display =\n",
              "        google.colab.kernel.accessAllowed ? 'block' : 'none';\n",
              "\n",
              "      async function convertToInteractive(key) {\n",
              "        const element = document.querySelector('#df-5024b4ae-c5c9-42a2-b2f8-805679cc57b0');\n",
              "        const dataTable =\n",
              "          await google.colab.kernel.invokeFunction('convertToInteractive',\n",
              "                                                    [key], {});\n",
              "        if (!dataTable) return;\n",
              "\n",
              "        const docLinkHtml = 'Like what you see? Visit the ' +\n",
              "          '<a target=\"_blank\" href=https://colab.research.google.com/notebooks/data_table.ipynb>data table notebook</a>'\n",
              "          + ' to learn more about interactive tables.';\n",
              "        element.innerHTML = '';\n",
              "        dataTable['output_type'] = 'display_data';\n",
              "        await google.colab.output.renderOutput(dataTable, element);\n",
              "        const docLink = document.createElement('div');\n",
              "        docLink.innerHTML = docLinkHtml;\n",
              "        element.appendChild(docLink);\n",
              "      }\n",
              "    </script>\n",
              "  </div>\n",
              "\n",
              "\n",
              "<div id=\"df-9d44afaf-8d78-4f1a-8b24-9ea09d78ab31\">\n",
              "  <button class=\"colab-df-quickchart\" onclick=\"quickchart('df-9d44afaf-8d78-4f1a-8b24-9ea09d78ab31')\"\n",
              "            title=\"Suggest charts\"\n",
              "            style=\"display:none;\">\n",
              "\n",
              "<svg xmlns=\"http://www.w3.org/2000/svg\" height=\"24px\"viewBox=\"0 0 24 24\"\n",
              "     width=\"24px\">\n",
              "    <g>\n",
              "        <path d=\"M19 3H5c-1.1 0-2 .9-2 2v14c0 1.1.9 2 2 2h14c1.1 0 2-.9 2-2V5c0-1.1-.9-2-2-2zM9 17H7v-7h2v7zm4 0h-2V7h2v10zm4 0h-2v-4h2v4z\"/>\n",
              "    </g>\n",
              "</svg>\n",
              "  </button>\n",
              "\n",
              "<style>\n",
              "  .colab-df-quickchart {\n",
              "      --bg-color: #E8F0FE;\n",
              "      --fill-color: #1967D2;\n",
              "      --hover-bg-color: #E2EBFA;\n",
              "      --hover-fill-color: #174EA6;\n",
              "      --disabled-fill-color: #AAA;\n",
              "      --disabled-bg-color: #DDD;\n",
              "  }\n",
              "\n",
              "  [theme=dark] .colab-df-quickchart {\n",
              "      --bg-color: #3B4455;\n",
              "      --fill-color: #D2E3FC;\n",
              "      --hover-bg-color: #434B5C;\n",
              "      --hover-fill-color: #FFFFFF;\n",
              "      --disabled-bg-color: #3B4455;\n",
              "      --disabled-fill-color: #666;\n",
              "  }\n",
              "\n",
              "  .colab-df-quickchart {\n",
              "    background-color: var(--bg-color);\n",
              "    border: none;\n",
              "    border-radius: 50%;\n",
              "    cursor: pointer;\n",
              "    display: none;\n",
              "    fill: var(--fill-color);\n",
              "    height: 32px;\n",
              "    padding: 0;\n",
              "    width: 32px;\n",
              "  }\n",
              "\n",
              "  .colab-df-quickchart:hover {\n",
              "    background-color: var(--hover-bg-color);\n",
              "    box-shadow: 0 1px 2px rgba(60, 64, 67, 0.3), 0 1px 3px 1px rgba(60, 64, 67, 0.15);\n",
              "    fill: var(--button-hover-fill-color);\n",
              "  }\n",
              "\n",
              "  .colab-df-quickchart-complete:disabled,\n",
              "  .colab-df-quickchart-complete:disabled:hover {\n",
              "    background-color: var(--disabled-bg-color);\n",
              "    fill: var(--disabled-fill-color);\n",
              "    box-shadow: none;\n",
              "  }\n",
              "\n",
              "  .colab-df-spinner {\n",
              "    border: 2px solid var(--fill-color);\n",
              "    border-color: transparent;\n",
              "    border-bottom-color: var(--fill-color);\n",
              "    animation:\n",
              "      spin 1s steps(1) infinite;\n",
              "  }\n",
              "\n",
              "  @keyframes spin {\n",
              "    0% {\n",
              "      border-color: transparent;\n",
              "      border-bottom-color: var(--fill-color);\n",
              "      border-left-color: var(--fill-color);\n",
              "    }\n",
              "    20% {\n",
              "      border-color: transparent;\n",
              "      border-left-color: var(--fill-color);\n",
              "      border-top-color: var(--fill-color);\n",
              "    }\n",
              "    30% {\n",
              "      border-color: transparent;\n",
              "      border-left-color: var(--fill-color);\n",
              "      border-top-color: var(--fill-color);\n",
              "      border-right-color: var(--fill-color);\n",
              "    }\n",
              "    40% {\n",
              "      border-color: transparent;\n",
              "      border-right-color: var(--fill-color);\n",
              "      border-top-color: var(--fill-color);\n",
              "    }\n",
              "    60% {\n",
              "      border-color: transparent;\n",
              "      border-right-color: var(--fill-color);\n",
              "    }\n",
              "    80% {\n",
              "      border-color: transparent;\n",
              "      border-right-color: var(--fill-color);\n",
              "      border-bottom-color: var(--fill-color);\n",
              "    }\n",
              "    90% {\n",
              "      border-color: transparent;\n",
              "      border-bottom-color: var(--fill-color);\n",
              "    }\n",
              "  }\n",
              "</style>\n",
              "\n",
              "  <script>\n",
              "    async function quickchart(key) {\n",
              "      const quickchartButtonEl =\n",
              "        document.querySelector('#' + key + ' button');\n",
              "      quickchartButtonEl.disabled = true;  // To prevent multiple clicks.\n",
              "      quickchartButtonEl.classList.add('colab-df-spinner');\n",
              "      try {\n",
              "        const charts = await google.colab.kernel.invokeFunction(\n",
              "            'suggestCharts', [key], {});\n",
              "      } catch (error) {\n",
              "        console.error('Error during call to suggestCharts:', error);\n",
              "      }\n",
              "      quickchartButtonEl.classList.remove('colab-df-spinner');\n",
              "      quickchartButtonEl.classList.add('colab-df-quickchart-complete');\n",
              "    }\n",
              "    (() => {\n",
              "      let quickchartButtonEl =\n",
              "        document.querySelector('#df-9d44afaf-8d78-4f1a-8b24-9ea09d78ab31 button');\n",
              "      quickchartButtonEl.style.display =\n",
              "        google.colab.kernel.accessAllowed ? 'block' : 'none';\n",
              "    })();\n",
              "  </script>\n",
              "</div>\n",
              "\n",
              "  <div id=\"id_a9b19866-320e-4b33-8971-c7f25ae0b48a\">\n",
              "    <style>\n",
              "      .colab-df-generate {\n",
              "        background-color: #E8F0FE;\n",
              "        border: none;\n",
              "        border-radius: 50%;\n",
              "        cursor: pointer;\n",
              "        display: none;\n",
              "        fill: #1967D2;\n",
              "        height: 32px;\n",
              "        padding: 0 0 0 0;\n",
              "        width: 32px;\n",
              "      }\n",
              "\n",
              "      .colab-df-generate:hover {\n",
              "        background-color: #E2EBFA;\n",
              "        box-shadow: 0px 1px 2px rgba(60, 64, 67, 0.3), 0px 1px 3px 1px rgba(60, 64, 67, 0.15);\n",
              "        fill: #174EA6;\n",
              "      }\n",
              "\n",
              "      [theme=dark] .colab-df-generate {\n",
              "        background-color: #3B4455;\n",
              "        fill: #D2E3FC;\n",
              "      }\n",
              "\n",
              "      [theme=dark] .colab-df-generate:hover {\n",
              "        background-color: #434B5C;\n",
              "        box-shadow: 0px 1px 3px 1px rgba(0, 0, 0, 0.15);\n",
              "        filter: drop-shadow(0px 1px 2px rgba(0, 0, 0, 0.3));\n",
              "        fill: #FFFFFF;\n",
              "      }\n",
              "    </style>\n",
              "    <button class=\"colab-df-generate\" onclick=\"generateWithVariable('df')\"\n",
              "            title=\"Generate code using this dataframe.\"\n",
              "            style=\"display:none;\">\n",
              "\n",
              "  <svg xmlns=\"http://www.w3.org/2000/svg\" height=\"24px\"viewBox=\"0 0 24 24\"\n",
              "       width=\"24px\">\n",
              "    <path d=\"M7,19H8.4L18.45,9,17,7.55,7,17.6ZM5,21V16.75L18.45,3.32a2,2,0,0,1,2.83,0l1.4,1.43a1.91,1.91,0,0,1,.58,1.4,1.91,1.91,0,0,1-.58,1.4L9.25,21ZM18.45,9,17,7.55Zm-12,3A5.31,5.31,0,0,0,4.9,8.1,5.31,5.31,0,0,0,1,6.5,5.31,5.31,0,0,0,4.9,4.9,5.31,5.31,0,0,0,6.5,1,5.31,5.31,0,0,0,8.1,4.9,5.31,5.31,0,0,0,12,6.5,5.46,5.46,0,0,0,6.5,12Z\"/>\n",
              "  </svg>\n",
              "    </button>\n",
              "    <script>\n",
              "      (() => {\n",
              "      const buttonEl =\n",
              "        document.querySelector('#id_a9b19866-320e-4b33-8971-c7f25ae0b48a button.colab-df-generate');\n",
              "      buttonEl.style.display =\n",
              "        google.colab.kernel.accessAllowed ? 'block' : 'none';\n",
              "\n",
              "      buttonEl.onclick = () => {\n",
              "        google.colab.notebook.generateWithVariable('df');\n",
              "      }\n",
              "      })();\n",
              "    </script>\n",
              "  </div>\n",
              "\n",
              "    </div>\n",
              "  </div>\n"
            ],
            "application/vnd.google.colaboratory.intrinsic+json": {
              "type": "dataframe",
              "variable_name": "df",
              "summary": "{\n  \"name\": \"df\",\n  \"rows\": 5,\n  \"fields\": [\n    {\n      \"column\": \"address\",\n      \"properties\": {\n        \"dtype\": \"object\",\n        \"semantic_type\": \"\",\n        \"description\": \"\"\n      }\n    },\n    {\n      \"column\": \"borough\",\n      \"properties\": {\n        \"dtype\": \"string\",\n        \"num_unique_values\": 3,\n        \"samples\": [\n          \"Manhattan\",\n          \"Bronx\",\n          \"Brooklyn\"\n        ],\n        \"semantic_type\": \"\",\n        \"description\": \"\"\n      }\n    },\n    {\n      \"column\": \"name\",\n      \"properties\": {\n        \"dtype\": \"string\",\n        \"num_unique_values\": 5,\n        \"samples\": [\n          \"Bella Napoli\",\n          \"Two Boots Grand Central\",\n          \"El Molino Rojo Restaurant\"\n        ],\n        \"semantic_type\": \"\",\n        \"description\": \"\"\n      }\n    },\n    {\n      \"column\": \"restaurant_id\",\n      \"properties\": {\n        \"dtype\": \"string\",\n        \"num_unique_values\": 5,\n        \"samples\": [\n          \"40393488\",\n          \"40725591\",\n          \"40393688\"\n        ],\n        \"semantic_type\": \"\",\n        \"description\": \"\"\n      }\n    }\n  ]\n}"
            }
          },
          "metadata": {},
          "execution_count": 31
        }
      ]
    },
    {
      "cell_type": "code",
      "source": [
        "c1 = db.restaurants.find(\n",
        "               {\"$and\":\n",
        "                    [\n",
        "                       {\"cuisine\" : {\"$ne\" :\"American \"}},\n",
        "                       {\"grades.score\" : {\"$gt\" : 70}},\n",
        "                       {\"address.coord\" : {\"$lt\" : -65.754168}}\n",
        "                    ]\n",
        "                }\n",
        "                    );\n",
        "for crnt in c1:\n",
        "    print(crnt)"
      ],
      "metadata": {
        "id": "F06zwG1HYCIn",
        "outputId": "15e2106d-ef48-4cb3-e2e1-33678c76eade",
        "colab": {
          "base_uri": "https://localhost:8080/"
        }
      },
      "execution_count": 32,
      "outputs": [
        {
          "output_type": "stream",
          "name": "stdout",
          "text": [
            "{'_id': ObjectId('666c372645dd1b1364a0760c'), 'address': {'building': '345', 'coord': [-73.9864626, 40.7266739], 'street': 'East 6 Street', 'zipcode': '10003'}, 'borough': 'Manhattan', 'cuisine': 'Indian', 'grades': [{'date': datetime.datetime(2014, 9, 15, 0, 0), 'grade': 'A', 'score': 5}, {'date': datetime.datetime(2014, 1, 14, 0, 0), 'grade': 'A', 'score': 8}, {'date': datetime.datetime(2013, 5, 30, 0, 0), 'grade': 'A', 'score': 12}, {'date': datetime.datetime(2013, 4, 24, 0, 0), 'grade': 'P', 'score': 2}, {'date': datetime.datetime(2012, 10, 1, 0, 0), 'grade': 'A', 'score': 9}, {'date': datetime.datetime(2012, 4, 6, 0, 0), 'grade': 'C', 'score': 92}, {'date': datetime.datetime(2011, 11, 3, 0, 0), 'grade': 'C', 'score': 41}], 'name': 'Gandhi', 'restaurant_id': '40381295'}\n",
            "{'_id': ObjectId('666c372645dd1b1364a07770'), 'address': {'building': '130', 'coord': [-73.984758, 40.7457939], 'street': 'Madison Avenue', 'zipcode': '10016'}, 'borough': 'Manhattan', 'cuisine': 'Pizza/Italian', 'grades': [{'date': datetime.datetime(2014, 12, 24, 0, 0), 'grade': 'Z', 'score': 31}, {'date': datetime.datetime(2014, 6, 17, 0, 0), 'grade': 'C', 'score': 98}, {'date': datetime.datetime(2013, 12, 12, 0, 0), 'grade': 'C', 'score': 32}, {'date': datetime.datetime(2013, 5, 22, 0, 0), 'grade': 'B', 'score': 21}, {'date': datetime.datetime(2012, 5, 2, 0, 0), 'grade': 'A', 'score': 11}], 'name': 'Bella Napoli', 'restaurant_id': '40393488'}\n",
            "{'_id': ObjectId('666c372645dd1b1364a0777a'), 'address': {'building': '101', 'coord': [-73.9243061, 40.8276297], 'street': 'East 161 Street', 'zipcode': '10451'}, 'borough': 'Bronx', 'cuisine': 'Latin (Cuban, Dominican, Puerto Rican, South & Central American)', 'grades': [{'date': datetime.datetime(2014, 4, 10, 0, 0), 'grade': 'A', 'score': 10}, {'date': datetime.datetime(2013, 10, 1, 0, 0), 'grade': 'A', 'score': 6}, {'date': datetime.datetime(2013, 4, 11, 0, 0), 'grade': 'B', 'score': 25}, {'date': datetime.datetime(2012, 10, 25, 0, 0), 'grade': 'A', 'score': 12}, {'date': datetime.datetime(2012, 10, 10, 0, 0), 'grade': 'P', 'score': 12}, {'date': datetime.datetime(2012, 5, 25, 0, 0), 'grade': 'B', 'score': 14}, {'date': datetime.datetime(2011, 9, 14, 0, 0), 'grade': 'B', 'score': 26}, {'date': datetime.datetime(2011, 4, 25, 0, 0), 'grade': 'C', 'score': 76}], 'name': 'El Molino Rojo Restaurant', 'restaurant_id': '40393688'}\n",
            "{'_id': ObjectId('666c372845dd1b1364a078ca'), 'address': {'building': '289', 'coord': [-73.94610279999999, 40.7137587], 'street': 'Manhattan Avenue', 'zipcode': '11211'}, 'borough': 'Brooklyn', 'cuisine': 'Bakery', 'grades': [{'date': datetime.datetime(2014, 3, 19, 0, 0), 'grade': 'A', 'score': 10}, {'date': datetime.datetime(2013, 10, 10, 0, 0), 'grade': 'A', 'score': 10}, {'date': datetime.datetime(2013, 5, 7, 0, 0), 'grade': 'A', 'score': 13}, {'date': datetime.datetime(2012, 9, 11, 0, 0), 'grade': 'B', 'score': 18}, {'date': datetime.datetime(2012, 4, 18, 0, 0), 'grade': 'A', 'score': 9}, {'date': datetime.datetime(2011, 9, 27, 0, 0), 'grade': 'A', 'score': 8}, {'date': datetime.datetime(2011, 5, 3, 0, 0), 'grade': 'C', 'score': 77}], 'name': 'Fortunato Bros Cafe & Bakery', 'restaurant_id': '40400561'}\n",
            "{'_id': ObjectId('666c372845dd1b1364a07ef6'), 'address': {'building': '231', 'coord': [-73.9772294, 40.7527262], 'street': 'Grand Central Station', 'zipcode': '10017'}, 'borough': 'Manhattan', 'cuisine': 'Italian', 'grades': [{'date': datetime.datetime(2015, 1, 7, 0, 0), 'grade': 'Z', 'score': 20}, {'date': datetime.datetime(2014, 7, 3, 0, 0), 'grade': 'B', 'score': 14}, {'date': datetime.datetime(2013, 12, 21, 0, 0), 'grade': 'A', 'score': 13}, {'date': datetime.datetime(2013, 5, 17, 0, 0), 'grade': 'C', 'score': 76}, {'date': datetime.datetime(2012, 4, 20, 0, 0), 'grade': 'A', 'score': 12}], 'name': 'Two Boots Grand Central', 'restaurant_id': '40725591'}\n"
          ]
        }
      ]
    },
    {
      "cell_type": "markdown",
      "metadata": {
        "id": "7gXLFI0o2dlS"
      },
      "source": [
        "12. find the restaurants which does not prepare any cuisine of 'American' and achieved a score more than 70 and not located in the longitude less than -65.754168.\n",
        "Note : Do this query without using $and operator.\n"
      ]
    },
    {
      "cell_type": "code",
      "metadata": {
        "colab": {
          "base_uri": "https://localhost:8080/"
        },
        "id": "iZkaCRoF2fLi",
        "outputId": "cac2f836-173b-4f23-ff5e-9fc7cdba9054"
      },
      "source": [
        "c1 = db.restaurants.find(\n",
        "                     {\"$query\":\n",
        "                            {\n",
        "                             \"cuisine\" : {\"$ne\" : \"American \"},\n",
        "                             \"grades.score\" :{\"$gt\": 70},\n",
        "                             \"address.coord\" : {\"$lt\" : -65.754168}\n",
        "                            }\n",
        "                      });\n",
        "for crnt in c1:\n",
        "    print(crnt)"
      ],
      "execution_count": 33,
      "outputs": [
        {
          "output_type": "stream",
          "name": "stdout",
          "text": [
            "{'_id': ObjectId('666c372645dd1b1364a0760c'), 'address': {'building': '345', 'coord': [-73.9864626, 40.7266739], 'street': 'East 6 Street', 'zipcode': '10003'}, 'borough': 'Manhattan', 'cuisine': 'Indian', 'grades': [{'date': datetime.datetime(2014, 9, 15, 0, 0), 'grade': 'A', 'score': 5}, {'date': datetime.datetime(2014, 1, 14, 0, 0), 'grade': 'A', 'score': 8}, {'date': datetime.datetime(2013, 5, 30, 0, 0), 'grade': 'A', 'score': 12}, {'date': datetime.datetime(2013, 4, 24, 0, 0), 'grade': 'P', 'score': 2}, {'date': datetime.datetime(2012, 10, 1, 0, 0), 'grade': 'A', 'score': 9}, {'date': datetime.datetime(2012, 4, 6, 0, 0), 'grade': 'C', 'score': 92}, {'date': datetime.datetime(2011, 11, 3, 0, 0), 'grade': 'C', 'score': 41}], 'name': 'Gandhi', 'restaurant_id': '40381295'}\n",
            "{'_id': ObjectId('666c372645dd1b1364a07770'), 'address': {'building': '130', 'coord': [-73.984758, 40.7457939], 'street': 'Madison Avenue', 'zipcode': '10016'}, 'borough': 'Manhattan', 'cuisine': 'Pizza/Italian', 'grades': [{'date': datetime.datetime(2014, 12, 24, 0, 0), 'grade': 'Z', 'score': 31}, {'date': datetime.datetime(2014, 6, 17, 0, 0), 'grade': 'C', 'score': 98}, {'date': datetime.datetime(2013, 12, 12, 0, 0), 'grade': 'C', 'score': 32}, {'date': datetime.datetime(2013, 5, 22, 0, 0), 'grade': 'B', 'score': 21}, {'date': datetime.datetime(2012, 5, 2, 0, 0), 'grade': 'A', 'score': 11}], 'name': 'Bella Napoli', 'restaurant_id': '40393488'}\n",
            "{'_id': ObjectId('666c372645dd1b1364a0777a'), 'address': {'building': '101', 'coord': [-73.9243061, 40.8276297], 'street': 'East 161 Street', 'zipcode': '10451'}, 'borough': 'Bronx', 'cuisine': 'Latin (Cuban, Dominican, Puerto Rican, South & Central American)', 'grades': [{'date': datetime.datetime(2014, 4, 10, 0, 0), 'grade': 'A', 'score': 10}, {'date': datetime.datetime(2013, 10, 1, 0, 0), 'grade': 'A', 'score': 6}, {'date': datetime.datetime(2013, 4, 11, 0, 0), 'grade': 'B', 'score': 25}, {'date': datetime.datetime(2012, 10, 25, 0, 0), 'grade': 'A', 'score': 12}, {'date': datetime.datetime(2012, 10, 10, 0, 0), 'grade': 'P', 'score': 12}, {'date': datetime.datetime(2012, 5, 25, 0, 0), 'grade': 'B', 'score': 14}, {'date': datetime.datetime(2011, 9, 14, 0, 0), 'grade': 'B', 'score': 26}, {'date': datetime.datetime(2011, 4, 25, 0, 0), 'grade': 'C', 'score': 76}], 'name': 'El Molino Rojo Restaurant', 'restaurant_id': '40393688'}\n",
            "{'_id': ObjectId('666c372845dd1b1364a078ca'), 'address': {'building': '289', 'coord': [-73.94610279999999, 40.7137587], 'street': 'Manhattan Avenue', 'zipcode': '11211'}, 'borough': 'Brooklyn', 'cuisine': 'Bakery', 'grades': [{'date': datetime.datetime(2014, 3, 19, 0, 0), 'grade': 'A', 'score': 10}, {'date': datetime.datetime(2013, 10, 10, 0, 0), 'grade': 'A', 'score': 10}, {'date': datetime.datetime(2013, 5, 7, 0, 0), 'grade': 'A', 'score': 13}, {'date': datetime.datetime(2012, 9, 11, 0, 0), 'grade': 'B', 'score': 18}, {'date': datetime.datetime(2012, 4, 18, 0, 0), 'grade': 'A', 'score': 9}, {'date': datetime.datetime(2011, 9, 27, 0, 0), 'grade': 'A', 'score': 8}, {'date': datetime.datetime(2011, 5, 3, 0, 0), 'grade': 'C', 'score': 77}], 'name': 'Fortunato Bros Cafe & Bakery', 'restaurant_id': '40400561'}\n",
            "{'_id': ObjectId('666c372845dd1b1364a07ef6'), 'address': {'building': '231', 'coord': [-73.9772294, 40.7527262], 'street': 'Grand Central Station', 'zipcode': '10017'}, 'borough': 'Manhattan', 'cuisine': 'Italian', 'grades': [{'date': datetime.datetime(2015, 1, 7, 0, 0), 'grade': 'Z', 'score': 20}, {'date': datetime.datetime(2014, 7, 3, 0, 0), 'grade': 'B', 'score': 14}, {'date': datetime.datetime(2013, 12, 21, 0, 0), 'grade': 'A', 'score': 13}, {'date': datetime.datetime(2013, 5, 17, 0, 0), 'grade': 'C', 'score': 76}, {'date': datetime.datetime(2012, 4, 20, 0, 0), 'grade': 'A', 'score': 12}], 'name': 'Two Boots Grand Central', 'restaurant_id': '40725591'}\n"
          ]
        }
      ]
    },
    {
      "cell_type": "markdown",
      "metadata": {
        "id": "1hgERHI22xor"
      },
      "source": [
        "13. find the restaurants which does not prepare any cuisine of 'American ' and achieved a grade point 'A' not belongs to the borough Brooklyn. The document must be displayed according to the cuisine in descending order."
      ]
    },
    {
      "cell_type": "code",
      "metadata": {
        "id": "LIbthIYD2zk8"
      },
      "source": [
        "c1 = db.restaurants.find(\n",
        "                     {\"$query\":\n",
        "                            {\n",
        "                             \"cuisine\" : {\"$ne\" : \"American \"},\n",
        "                             \"grades.grade\" :\"A\",\n",
        "                             \"borough\": \"Brooklyn\"\n",
        "                            },\n",
        "                              \"$orderby\" : {\"cuisine\":1}\n",
        "                      } ,\n",
        "                      {\"name\":1,\"cuisine\":1,\"_id\":0}\n",
        "                    );\n",
        "#for crnt in c1:\n",
        "#    print(crnt)"
      ],
      "execution_count": 34,
      "outputs": []
    },
    {
      "cell_type": "markdown",
      "metadata": {
        "id": "cLwcLLKx3QgZ"
      },
      "source": [
        "14. find the restaurant Id, name, borough and cuisine for those restaurants which contains 'Wil' as first three letters for its name.\n"
      ]
    },
    {
      "cell_type": "code",
      "metadata": {
        "colab": {
          "base_uri": "https://localhost:8080/"
        },
        "id": "nclIx0Bt4xNA",
        "outputId": "9694a45a-09f1-4239-f6ef-dcc79431d743"
      },
      "source": [
        "c1 = db.restaurants.find({\"name\": {\"$regex\":\"^Wil\"}})\n",
        "for crnt in c1:\n",
        "    print(crnt)"
      ],
      "execution_count": 35,
      "outputs": [
        {
          "output_type": "stream",
          "name": "stdout",
          "text": [
            "{'_id': ObjectId('666c372645dd1b1364a07415'), 'address': {'building': '7114', 'coord': [-73.9068506, 40.6199034], 'street': 'Avenue U', 'zipcode': '11234'}, 'borough': 'Brooklyn', 'cuisine': 'Delicatessen', 'grades': [{'date': datetime.datetime(2014, 5, 29, 0, 0), 'grade': 'A', 'score': 10}, {'date': datetime.datetime(2014, 1, 14, 0, 0), 'grade': 'A', 'score': 10}, {'date': datetime.datetime(2013, 8, 3, 0, 0), 'grade': 'A', 'score': 8}, {'date': datetime.datetime(2012, 7, 18, 0, 0), 'grade': 'A', 'score': 10}, {'date': datetime.datetime(2012, 3, 9, 0, 0), 'grade': 'A', 'score': 13}, {'date': datetime.datetime(2011, 10, 14, 0, 0), 'grade': 'A', 'score': 9}], 'name': \"Wilken'S Fine Food\", 'restaurant_id': '40356483'}\n",
            "{'_id': ObjectId('666c372645dd1b1364a07418'), 'address': {'building': '2300', 'coord': [-73.8786113, 40.8502883], 'street': 'Southern Boulevard', 'zipcode': '10460'}, 'borough': 'Bronx', 'cuisine': 'American ', 'grades': [{'date': datetime.datetime(2014, 5, 28, 0, 0), 'grade': 'A', 'score': 11}, {'date': datetime.datetime(2013, 6, 19, 0, 0), 'grade': 'A', 'score': 4}, {'date': datetime.datetime(2012, 6, 15, 0, 0), 'grade': 'A', 'score': 3}], 'name': 'Wild Asia', 'restaurant_id': '40357217'}\n",
            "{'_id': ObjectId('666c372945dd1b1364a0821d'), 'address': {'building': '605', 'coord': [-73.9020967, 40.81298], 'street': 'Southern Boulevard', 'zipcode': '10455'}, 'borough': 'Bronx', 'cuisine': 'Pizza', 'grades': [{'date': datetime.datetime(2014, 9, 18, 0, 0), 'grade': 'B', 'score': 21}, {'date': datetime.datetime(2014, 4, 15, 0, 0), 'grade': 'C', 'score': 32}, {'date': datetime.datetime(2013, 10, 8, 0, 0), 'grade': 'A', 'score': 5}, {'date': datetime.datetime(2012, 9, 20, 0, 0), 'grade': 'A', 'score': 10}, {'date': datetime.datetime(2012, 5, 7, 0, 0), 'grade': 'B', 'score': 19}, {'date': datetime.datetime(2011, 10, 13, 0, 0), 'grade': 'B', 'score': 19}], 'name': 'Wilbel Pizza', 'restaurant_id': '40871979'}\n"
          ]
        }
      ]
    },
    {
      "cell_type": "code",
      "metadata": {
        "colab": {
          "base_uri": "https://localhost:8080/"
        },
        "id": "VcAECt0D3W6T",
        "outputId": "ee86a12b-d5df-47dd-b114-b0008779927a"
      },
      "source": [
        "whereCond = {\"name\": {\"$regex\":\"^Wil\"}}\n",
        "selFields = {\n",
        "        \"restaurant_id\" : 2,\n",
        "        \"name\":1,\"borough\":1,\n",
        "        \"cuisine\" :1,\n",
        "         \"_id\":0\n",
        "        }\n",
        "c1 = db.restaurants.find(whereCond,selFields)\n",
        "for crnt in c1:\n",
        "    print(crnt)"
      ],
      "execution_count": 36,
      "outputs": [
        {
          "output_type": "stream",
          "name": "stdout",
          "text": [
            "{'borough': 'Brooklyn', 'cuisine': 'Delicatessen', 'name': \"Wilken'S Fine Food\", 'restaurant_id': '40356483'}\n",
            "{'borough': 'Bronx', 'cuisine': 'American ', 'name': 'Wild Asia', 'restaurant_id': '40357217'}\n",
            "{'borough': 'Bronx', 'cuisine': 'Pizza', 'name': 'Wilbel Pizza', 'restaurant_id': '40871979'}\n"
          ]
        }
      ]
    },
    {
      "cell_type": "markdown",
      "metadata": {
        "id": "h1zSwtzC4BEE"
      },
      "source": [
        "15.  find the restaurant Id, name, borough and cuisine for those restaurants which contains 'ces' as last three letters for its name."
      ]
    },
    {
      "cell_type": "code",
      "metadata": {
        "colab": {
          "base_uri": "https://localhost:8080/"
        },
        "id": "oFjyp5S04HWJ",
        "outputId": "30d5c17c-b6cf-4c89-804e-abb5aed5dbcc"
      },
      "source": [
        "c1 = db.restaurants.find(\n",
        "    {\"name\": {\"$regex\":\"ces$\"}},\n",
        "        {\n",
        "        \"restaurant_id\" : 1,\n",
        "        \"name\":1,\"borough\":1,\n",
        "        \"cuisine\" :1\n",
        "        }\n",
        ");\n",
        "for crnt in c1:\n",
        "    print(crnt)"
      ],
      "execution_count": 37,
      "outputs": [
        {
          "output_type": "stream",
          "name": "stdout",
          "text": [
            "{'_id': ObjectId('666c372845dd1b1364a078a0'), 'borough': 'Manhattan', 'cuisine': 'American ', 'name': 'Pieces', 'restaurant_id': '40399910'}\n",
            "{'_id': ObjectId('666c372845dd1b1364a0795f'), 'borough': 'Queens', 'cuisine': 'American ', 'name': 'S.M.R Restaurant Services', 'restaurant_id': '40403857'}\n",
            "{'_id': ObjectId('666c372845dd1b1364a07965'), 'borough': 'Manhattan', 'cuisine': 'American ', 'name': 'Good Shepherd Services', 'restaurant_id': '40403989'}\n",
            "{'_id': ObjectId('666c372845dd1b1364a07e19'), 'borough': 'Queens', 'cuisine': 'Ice Cream, Gelato, Yogurt, Ices', 'name': \"The Ice Box-Ralph'S Famous Italian Ices\", 'restaurant_id': '40690899'}\n",
            "{'_id': ObjectId('666c372945dd1b1364a0801a'), 'borough': 'Brooklyn', 'cuisine': 'Jewish/Kosher', 'name': 'Alices', 'restaurant_id': '40782042'}\n",
            "{'_id': ObjectId('666c372945dd1b1364a08237'), 'borough': 'Manhattan', 'cuisine': 'American ', 'name': 'Re: Sources', 'restaurant_id': '40876068'}\n"
          ]
        }
      ]
    },
    {
      "cell_type": "markdown",
      "metadata": {
        "id": "a2wgph298Xxa"
      },
      "source": [
        "16. find the restaurant Id, name, borough and cuisine for those restaurants which contains 'Reg' as three letters somewhere in its name.\n"
      ]
    },
    {
      "cell_type": "code",
      "metadata": {
        "colab": {
          "base_uri": "https://localhost:8080/"
        },
        "id": "bX15wNf18au6",
        "outputId": "75e39451-a0b1-4719-cdcc-a7c29228f641"
      },
      "source": [
        "c1 = db.restaurants.find(\n",
        "    {\"name\": {\"$regex\":\".*Reg.*\"}},\n",
        "        {\n",
        "        \"restaurant_id\" : 1,\n",
        "        \"name\":1,\"borough\":1,\n",
        "        \"cuisine\" :1\n",
        "        }\n",
        ");\n",
        "for crnt in c1:\n",
        "    print(crnt)\n"
      ],
      "execution_count": 38,
      "outputs": [
        {
          "output_type": "stream",
          "name": "stdout",
          "text": [
            "{'_id': ObjectId('666c372645dd1b1364a07416'), 'borough': 'Brooklyn', 'cuisine': 'American ', 'name': 'Regina Caterers', 'restaurant_id': '40356649'}\n",
            "{'_id': ObjectId('666c372645dd1b1364a07513'), 'borough': 'Manhattan', 'cuisine': 'Café/Coffee/Tea', 'name': 'Caffe Reggio', 'restaurant_id': '40369418'}\n",
            "{'_id': ObjectId('666c372645dd1b1364a07621'), 'borough': 'Manhattan', 'cuisine': 'American ', 'name': 'Regency Hotel', 'restaurant_id': '40382679'}\n",
            "{'_id': ObjectId('666c372845dd1b1364a0793e'), 'borough': 'Manhattan', 'cuisine': 'American ', 'name': 'Regency Whist Club', 'restaurant_id': '40402377'}\n",
            "{'_id': ObjectId('666c372845dd1b1364a07a21'), 'borough': 'Queens', 'cuisine': 'American ', 'name': 'Rego Park Cafe', 'restaurant_id': '40523342'}\n",
            "{'_id': ObjectId('666c372945dd1b1364a08090'), 'borough': 'Queens', 'cuisine': 'Pizza', 'name': 'Regina Pizza', 'restaurant_id': '40801325'}\n",
            "{'_id': ObjectId('666c372945dd1b1364a082a7'), 'borough': 'Manhattan', 'cuisine': 'American ', 'name': 'Regal Entertainment Group', 'restaurant_id': '40891782'}\n"
          ]
        }
      ]
    },
    {
      "cell_type": "markdown",
      "metadata": {
        "id": "isXOQQGz9IgD"
      },
      "source": [
        "17. find the restaurants which belongs to the borough Bronx and prepared either American or Chinese dish.\n"
      ]
    },
    {
      "cell_type": "code",
      "metadata": {
        "id": "f8qgw0bo-fj2"
      },
      "source": [
        "c1 = db.restaurants.find(\n",
        "                     {\"$query\":\n",
        "                            {\n",
        "                             \"cuisine\" :\"Chinese\",\n",
        "                             \"borough\": \"Brooklyn\"\n",
        "                            }\n",
        "                      } ,\n",
        "                      {\n",
        "                        \"name\":1,\"borough\":1,\n",
        "                        \"cuisine\" :1,\n",
        "                       \"_id\":0\n",
        "                      }\n",
        "                    );\n",
        "#for crnt in c1:\n",
        "#    print(crnt)"
      ],
      "execution_count": 39,
      "outputs": []
    },
    {
      "cell_type": "code",
      "metadata": {
        "id": "N7znuG259Kms"
      },
      "source": [
        "c1 = db.restaurants.find(\n",
        "                     {\"$query\":\n",
        "                            {\n",
        "                             \"cuisine\" : {\"$in\" :[\"Chinese\",\"American \"]},\n",
        "                             \"borough\": \"Brooklyn\"\n",
        "                            }\n",
        "                      },\n",
        "                      {\n",
        "                        \"name\":1,\"borough\":1,\n",
        "                        \"cuisine\" :1,\n",
        "                       \"_id\":0\n",
        "                      }\n",
        "                    );\n",
        "#for crnt in c1:\n",
        "#    print(crnt)"
      ],
      "execution_count": 40,
      "outputs": []
    },
    {
      "cell_type": "markdown",
      "metadata": {
        "id": "eKNWnK0r_l8V"
      },
      "source": [
        "18. find the restaurant Id, name, borough and cuisine for those restaurants which belongs to the borough Staten Island or Queens or Bronxor Brooklyn.\n"
      ]
    },
    {
      "cell_type": "code",
      "metadata": {
        "id": "hC17nbUW_njI"
      },
      "source": [
        "c1 = db.restaurants.find(\n",
        "    {\"borough\" :{\"$in\" :[\"Staten Island\",\"Queens\"]}},\n",
        "        {\n",
        "        #\"restaurant_id\" : 1,\n",
        "        \"name\":1,\"borough\":1,\n",
        "        \"cuisine\" :1\n",
        "        }\n",
        ");\n",
        "#for crnt in c1:\n",
        "#    print(crnt)\n"
      ],
      "execution_count": 41,
      "outputs": []
    },
    {
      "cell_type": "markdown",
      "metadata": {
        "id": "Bwa1Ogu7ASLi"
      },
      "source": [
        "19. find the restaurant Id, name, borough and cuisine for those restaurants which are not belonging to the borough Staten Island or Queens or Bronxor Brooklyn.\n"
      ]
    },
    {
      "cell_type": "code",
      "metadata": {
        "id": "PmykkMbAAT9_"
      },
      "source": [
        "c1 = db.restaurants.find(\n",
        "    {\"borough\" :{\"$nin\" :[\"Staten Island\",\"Queens\",\"Bronx\",\"Brooklyn\"]}},\n",
        "        {\n",
        "        \"restaurant_id\" : 1,\n",
        "        \"name\":1,\"borough\":1,\n",
        "        \"cuisine\" :1\n",
        "        }\n",
        ");\n",
        "#for crnt in c1:\n",
        "#    print(crnt)"
      ],
      "execution_count": 42,
      "outputs": []
    },
    {
      "cell_type": "markdown",
      "metadata": {
        "id": "1Li9YPcEB24r"
      },
      "source": [
        "20. find the restaurant Id, name, borough and cuisine for those restaurants which achieved a score which is not more than 10.\n"
      ]
    },
    {
      "cell_type": "code",
      "metadata": {
        "id": "W9asq5AvB4md"
      },
      "source": [
        "c1 = db.restaurants.find(\n",
        "    {\"grades.score\" :\n",
        "        { \"$not\": {\"$gt\" : 10}}\n",
        "    },\n",
        "    {\n",
        "    \"restaurant_id\" : 1,\n",
        "    \"name\":1,\"borough\":1,\n",
        "    \"cuisine\" :1\n",
        "    }\n",
        ");\n",
        "#for crnt in c1:\n",
        "#    print(crnt)"
      ],
      "execution_count": 43,
      "outputs": []
    },
    {
      "cell_type": "markdown",
      "metadata": {
        "id": "S4z38f1TDBE2"
      },
      "source": [
        "21. find the restaurant Id, name, borough and cuisine for those restaurants which prepared dish except 'American' and 'Chinese' or restaurant's name begins with letter 'Wil'.\n"
      ]
    },
    {
      "cell_type": "code",
      "metadata": {
        "id": "Hv5o3OQdDC6C"
      },
      "source": [
        "c1 = db.restaurants.find(\n",
        "{\"$or\": [\n",
        "  {\"name\": {\"$regex\":\"^Wil\"}},\n",
        "  {\"$and\": [\n",
        "       {\"cuisine\" : {\"$ne\" :\"American \"}},\n",
        "       {\"cuisine\" : {\"$ne\" :\"Chinese\"}}\n",
        "   ]}\n",
        "]}\n",
        ",{\"restaurant_id\" : 1,\"name\":1,\"borough\":1,\"cuisine\" :1}\n",
        ");\n",
        "\n",
        "#for crnt in c1:\n",
        "#    print(crnt)\n"
      ],
      "execution_count": 44,
      "outputs": []
    },
    {
      "cell_type": "markdown",
      "metadata": {
        "id": "yfqdnsD_EQyr"
      },
      "source": [
        "22. find the restaurant Id, name and grades for those restaurants which achieved a grade of \"A\" and scored 11 on an ISODate \"2014-08-11T00:00:00Z\" among many of survey dates. <br>\n",
        "https://stackoverflow.com/questions/43731016/pymongo-name-isodate-is-not-defined\n"
      ]
    },
    {
      "cell_type": "code",
      "metadata": {
        "id": "M1bSFHl1Pkia"
      },
      "source": [
        "import dateutil\n",
        "dateStr = '2014-08-11T00:00:00Z'\n",
        "myDatetime = dateutil.parser.parse(dateStr)"
      ],
      "execution_count": 45,
      "outputs": []
    },
    {
      "cell_type": "code",
      "metadata": {
        "colab": {
          "base_uri": "https://localhost:8080/"
        },
        "id": "HOaB_9gHPyYJ",
        "outputId": "102101e9-791f-4484-b835-de0c81fa375e"
      },
      "source": [
        "c1 = db.restaurants.find(\n",
        "                {\n",
        "                 \"grades.date\": myDatetime,\n",
        "                 \"grades.grade\":\"A\" ,\n",
        "                 \"grades.score\" : 11\n",
        "                },\n",
        "                {\"restaurant_id\" : 1,\"name\":1,\"grades\":1}\n",
        "             );\n",
        "for crnt in c1:\n",
        "    print(crnt)"
      ],
      "execution_count": 46,
      "outputs": [
        {
          "output_type": "stream",
          "name": "stdout",
          "text": [
            "{'_id': ObjectId('666c372645dd1b1364a0748c'), 'grades': [{'date': datetime.datetime(2014, 8, 11, 0, 0), 'grade': 'A', 'score': 13}, {'date': datetime.datetime(2013, 7, 22, 0, 0), 'grade': 'A', 'score': 9}, {'date': datetime.datetime(2013, 3, 14, 0, 0), 'grade': 'A', 'score': 12}, {'date': datetime.datetime(2012, 7, 2, 0, 0), 'grade': 'A', 'score': 11}, {'date': datetime.datetime(2012, 2, 2, 0, 0), 'grade': 'A', 'score': 10}, {'date': datetime.datetime(2011, 8, 24, 0, 0), 'grade': 'A', 'score': 11}], 'name': \"Neary'S Pub\", 'restaurant_id': '40365871'}\n",
            "{'_id': ObjectId('666c372645dd1b1364a07566'), 'grades': [{'date': datetime.datetime(2014, 8, 11, 0, 0), 'grade': 'A', 'score': 11}, {'date': datetime.datetime(2013, 12, 10, 0, 0), 'grade': 'A', 'score': 9}, {'date': datetime.datetime(2013, 6, 10, 0, 0), 'grade': 'A', 'score': 12}, {'date': datetime.datetime(2012, 6, 8, 0, 0), 'grade': 'A', 'score': 13}, {'date': datetime.datetime(2012, 1, 25, 0, 0), 'grade': 'A', 'score': 8}, {'date': datetime.datetime(2011, 9, 13, 0, 0), 'grade': 'A', 'score': 12}], 'name': 'Don Filippo Restaurant', 'restaurant_id': '40372417'}\n",
            "{'_id': ObjectId('666c372845dd1b1364a0782d'), 'grades': [{'date': datetime.datetime(2014, 8, 11, 0, 0), 'grade': 'A', 'score': 6}, {'date': datetime.datetime(2013, 8, 29, 0, 0), 'grade': 'A', 'score': 12}, {'date': datetime.datetime(2013, 4, 25, 0, 0), 'grade': 'C', 'score': 2}, {'date': datetime.datetime(2012, 10, 23, 0, 0), 'grade': 'A', 'score': 13}, {'date': datetime.datetime(2012, 4, 16, 0, 0), 'grade': 'A', 'score': 11}, {'date': datetime.datetime(2011, 11, 15, 0, 0), 'grade': 'A', 'score': 12}], 'name': \"Mustang Sally'S Restaurant\", 'restaurant_id': '40397374'}\n",
            "{'_id': ObjectId('666c372845dd1b1364a07a38'), 'grades': [{'date': datetime.datetime(2015, 1, 12, 0, 0), 'grade': 'A', 'score': 10}, {'date': datetime.datetime(2014, 8, 11, 0, 0), 'grade': 'A', 'score': 9}, {'date': datetime.datetime(2014, 1, 14, 0, 0), 'grade': 'A', 'score': 13}, {'date': datetime.datetime(2013, 2, 7, 0, 0), 'grade': 'A', 'score': 10}, {'date': datetime.datetime(2012, 4, 30, 0, 0), 'grade': 'A', 'score': 11}], 'name': 'Club Macanudo (Cigar Bar)', 'restaurant_id': '40526406'}\n",
            "{'_id': ObjectId('666c372845dd1b1364a07b2d'), 'grades': [{'date': datetime.datetime(2014, 8, 11, 0, 0), 'grade': 'A', 'score': 8}, {'date': datetime.datetime(2014, 1, 9, 0, 0), 'grade': 'B', 'score': 27}, {'date': datetime.datetime(2013, 6, 11, 0, 0), 'grade': 'A', 'score': 4}, {'date': datetime.datetime(2012, 10, 9, 0, 0), 'grade': 'B', 'score': 19}, {'date': datetime.datetime(2012, 5, 10, 0, 0), 'grade': 'A', 'score': 11}, {'date': datetime.datetime(2011, 11, 23, 0, 0), 'grade': 'A', 'score': 9}], 'name': \"Marino'S Pizza & Restaurant\", 'restaurant_id': '40560917'}\n",
            "{'_id': ObjectId('666c372845dd1b1364a07cd5'), 'grades': [{'date': datetime.datetime(2015, 1, 5, 0, 0), 'grade': 'A', 'score': 9}, {'date': datetime.datetime(2014, 8, 11, 0, 0), 'grade': 'A', 'score': 10}, {'date': datetime.datetime(2014, 3, 4, 0, 0), 'grade': 'B', 'score': 22}, {'date': datetime.datetime(2013, 9, 13, 0, 0), 'grade': 'A', 'score': 5}, {'date': datetime.datetime(2013, 1, 16, 0, 0), 'grade': 'A', 'score': 11}], 'name': \"Gene'S Coffee Shop\", 'restaurant_id': '40614916'}\n",
            "{'_id': ObjectId('666c372845dd1b1364a07e44'), 'grades': [{'date': datetime.datetime(2014, 8, 11, 0, 0), 'grade': 'A', 'score': 10}, {'date': datetime.datetime(2014, 2, 20, 0, 0), 'grade': 'A', 'score': 7}, {'date': datetime.datetime(2013, 8, 29, 0, 0), 'grade': 'A', 'score': 7}, {'date': datetime.datetime(2013, 3, 29, 0, 0), 'grade': 'A', 'score': 10}, {'date': datetime.datetime(2012, 3, 7, 0, 0), 'grade': 'A', 'score': 12}, {'date': datetime.datetime(2011, 11, 18, 0, 0), 'grade': 'A', 'score': 11}, {'date': datetime.datetime(2011, 10, 12, 0, 0), 'grade': 'P', 'score': 4}], 'name': 'Union Cafe Restaurant', 'restaurant_id': '40698823'}\n",
            "{'_id': ObjectId('666c372945dd1b1364a082b1'), 'grades': [{'date': datetime.datetime(2014, 8, 11, 0, 0), 'grade': 'A', 'score': 10}, {'date': datetime.datetime(2013, 8, 28, 0, 0), 'grade': 'A', 'score': 9}, {'date': datetime.datetime(2012, 9, 5, 0, 0), 'grade': 'A', 'score': 11}, {'date': datetime.datetime(2011, 8, 25, 0, 0), 'grade': 'A', 'score': 7}], 'name': \"Jojo'S Pizza\", 'restaurant_id': '40892913'}\n"
          ]
        }
      ]
    },
    {
      "cell_type": "markdown",
      "metadata": {
        "id": "WREa1meZEvQO"
      },
      "source": [
        "23. find the restaurant Id, name and grades for those restaurants where 2nd element of grades array contains a grade of \"A\" and score 9 on an ISODate \"2014-08-11T00:00:00Z\".\n"
      ]
    },
    {
      "cell_type": "code",
      "metadata": {
        "colab": {
          "base_uri": "https://localhost:8080/"
        },
        "id": "4PVo5L3CEr3n",
        "outputId": "47ef5a15-75d4-42e2-ffec-58d65c42d6e6"
      },
      "source": [
        "import dateutil\n",
        "dateStr = '2014-08-11T00:00:00Z'\n",
        "myDatetime = dateutil.parser.parse(dateStr)\n",
        "\n",
        "c1 = db.restaurants.find(\n",
        "                      { \"grades.1.date\": myDatetime,\n",
        "                        \"grades.1.grade\":\"A\" ,\n",
        "                        \"grades.1.score\" : 9\n",
        "                      },\n",
        "                       {\"restaurant_id\" : 1,\"name\":1,\"grades\":1}\n",
        "                   );\n",
        "for crnt in c1:\n",
        "    print(crnt)"
      ],
      "execution_count": 47,
      "outputs": [
        {
          "output_type": "stream",
          "name": "stdout",
          "text": [
            "{'_id': ObjectId('666c372845dd1b1364a07a38'), 'grades': [{'date': datetime.datetime(2015, 1, 12, 0, 0), 'grade': 'A', 'score': 10}, {'date': datetime.datetime(2014, 8, 11, 0, 0), 'grade': 'A', 'score': 9}, {'date': datetime.datetime(2014, 1, 14, 0, 0), 'grade': 'A', 'score': 13}, {'date': datetime.datetime(2013, 2, 7, 0, 0), 'grade': 'A', 'score': 10}, {'date': datetime.datetime(2012, 4, 30, 0, 0), 'grade': 'A', 'score': 11}], 'name': 'Club Macanudo (Cigar Bar)', 'restaurant_id': '40526406'}\n"
          ]
        }
      ]
    },
    {
      "cell_type": "markdown",
      "metadata": {
        "id": "y35Tg9phEw_N"
      },
      "source": [
        "24. find the restaurant Id, name, address and geographical location for those restaurants where 2nd element of coord array contains a value which is more than 42 and upto 52.\n"
      ]
    },
    {
      "cell_type": "code",
      "metadata": {
        "colab": {
          "base_uri": "https://localhost:8080/"
        },
        "id": "1EpyKMASE3f8",
        "outputId": "2a50f1e5-caf8-4ba5-976d-cb7cca38d586"
      },
      "source": [
        "c1 = db.restaurants.find(\n",
        "                      {\n",
        "                        \"address.coord.1\": {\"$gt\" : 42, \"$lte\" : 52}\n",
        "                      },\n",
        "                        {\"restaurant_id\" : 1,\"name\":1,\"address\":1,\"coord\":1}\n",
        "                   );\n",
        "for crnt in c1:\n",
        "    print(crnt)"
      ],
      "execution_count": 48,
      "outputs": [
        {
          "output_type": "stream",
          "name": "stdout",
          "text": [
            "{'_id': ObjectId('666c372645dd1b1364a076af'), 'address': {'building': '47', 'coord': [-78.877224, 42.89546199999999], 'street': 'Broadway @ Trinity Pl', 'zipcode': '10006'}, 'name': \"T.G.I. Friday'S\", 'restaurant_id': '40387990'}\n",
            "{'_id': ObjectId('666c372645dd1b1364a076dc'), 'address': {'building': '1', 'coord': [-0.7119979, 51.6514664], 'street': 'Pennplaza E, Penn Sta', 'zipcode': '10001'}, 'name': 'T.G.I. Fridays', 'restaurant_id': '40388936'}\n",
            "{'_id': ObjectId('666c372845dd1b1364a07934'), 'address': {'building': '3000', 'coord': [-87.86567699999999, 42.61150920000001], 'street': '47 Avenue', 'zipcode': '11101'}, 'name': \"Di Luvio'S Deli\", 'restaurant_id': '40402284'}\n",
            "{'_id': ObjectId('666c372845dd1b1364a07b69'), 'address': {'building': '21972199', 'coord': [-78.589606, 42.8912372], 'street': 'Broadway', 'zipcode': '10024'}, 'name': 'La Caridad 78', 'restaurant_id': '40568285'}\n",
            "{'_id': ObjectId('666c372945dd1b1364a0823d'), 'address': {'building': '7981', 'coord': [-84.9751215, 45.4713351], 'street': 'Hoyt Street', 'zipcode': '11201'}, 'name': \"Bijan'S\", 'restaurant_id': '40876618'}\n",
            "{'_id': ObjectId('666c372945dd1b1364a08251'), 'address': {'building': '0', 'coord': [-88.0778799, 42.4154769], 'street': '& Grand Central', 'zipcode': '10017'}, 'name': 'Hyatt, Ny Central/Room Service', 'restaurant_id': '40879243'}\n",
            "{'_id': ObjectId('666c372945dd1b1364a08266'), 'address': {'building': '60', 'coord': [-111.9975205, 42.0970258], 'street': 'West Side Highway', 'zipcode': '10006'}, 'name': 'Sports Center At Chelsea Piers (Sushi Bar)', 'restaurant_id': '40882356'}\n"
          ]
        }
      ]
    },
    {
      "cell_type": "markdown",
      "metadata": {
        "id": "mwF6VaIfFIkn"
      },
      "source": [
        "25. arrange the name of the restaurants in ascending order along with all the columns. <hr>\n",
        "\n",
        "https://stackoverflow.com/questions/57778658/typeerror-if-no-direction-is-specified-key-or-list-must-be-an-instance-of-list\n"
      ]
    },
    {
      "cell_type": "code",
      "metadata": {
        "colab": {
          "base_uri": "https://localhost:8080/"
        },
        "id": "WquZqvRUFKOj",
        "outputId": "c741b1a1-87f3-4d6a-8775-8a7f22d8edef"
      },
      "source": [
        "c1 = db.restaurants.find({},{\"restaurant_id\" : 2,\"name\":1,\"_id\":0}).sort(\"name\", -1).limit(20);\n",
        "for crnt in c1:\n",
        "    print(crnt)"
      ],
      "execution_count": 49,
      "outputs": [
        {
          "output_type": "stream",
          "name": "stdout",
          "text": [
            "{'name': 'Zum Stammtisch', 'restaurant_id': '40367377'}\n",
            "{'name': 'Zum Schneider', 'restaurant_id': '40763382'}\n",
            "{'name': \"Zorba'S\", 'restaurant_id': '40877247'}\n",
            "{'name': 'Zebu Grill', 'restaurant_id': '40800325'}\n",
            "{'name': \"Zaro'S Bread Basket\", 'restaurant_id': '40510389'}\n",
            "{'name': \"Zaro'S Bread Basket\", 'restaurant_id': '40397863'}\n",
            "{'name': \"Zaro'S Bread Basket\", 'restaurant_id': '40512617'}\n",
            "{'name': \"Zaro'S Bread Basket\", 'restaurant_id': '40750766'}\n",
            "{'name': \"Zaro'S Bread Basket\", 'restaurant_id': '40586000'}\n",
            "{'name': \"Zaro'S Bakery\", 'restaurant_id': '40686674'}\n",
            "{'name': \"Zaro'S Bakery\", 'restaurant_id': '40423705'}\n",
            "{'name': \"Zafi'S Luncheonette\", 'restaurant_id': '40371718'}\n",
            "{'name': 'Yvonne Yvonne Restaurant', 'restaurant_id': '40875849'}\n",
            "{'name': 'Yura & Company On Madison', 'restaurant_id': '40646987'}\n",
            "{'name': 'Yummy Kitchen', 'restaurant_id': '40763160'}\n",
            "{'name': 'Your Bakery', 'restaurant_id': '40529415'}\n",
            "{'name': 'Yonah Shimmels Knishes', 'restaurant_id': '40544576'}\n",
            "{'name': 'Yolanda Pizzeria Restaurant', 'restaurant_id': '40594879'}\n",
            "{'name': \"Yip'S\", 'restaurant_id': '40388209'}\n",
            "{'name': 'Yen Yen Restaurant', 'restaurant_id': '40393181'}\n"
          ]
        }
      ]
    },
    {
      "cell_type": "markdown",
      "metadata": {
        "id": "qEqGOoOqOPSq"
      },
      "source": [
        "26.  arrange the name of the restaurants in descending along with all the columns.\n"
      ]
    },
    {
      "cell_type": "code",
      "metadata": {
        "colab": {
          "base_uri": "https://localhost:8080/"
        },
        "id": "lEJ8knHvOZCv",
        "outputId": "6541ed4b-0ec1-4bf2-a99d-4854c202c989"
      },
      "source": [
        "c1 = db.restaurants.find().sort(\"name\", -1).limit(10);\n",
        "for crnt in c1:\n",
        "    print(crnt)"
      ],
      "execution_count": 50,
      "outputs": [
        {
          "output_type": "stream",
          "name": "stdout",
          "text": [
            "{'_id': ObjectId('666c372645dd1b1364a074cc'), 'address': {'building': '6946', 'coord': [-73.8811834, 40.7017759], 'street': 'Myrtle Avenue', 'zipcode': '11385'}, 'borough': 'Queens', 'cuisine': 'German', 'grades': [{'date': datetime.datetime(2014, 9, 24, 0, 0), 'grade': 'A', 'score': 11}, {'date': datetime.datetime(2014, 4, 17, 0, 0), 'grade': 'A', 'score': 7}, {'date': datetime.datetime(2013, 3, 12, 0, 0), 'grade': 'A', 'score': 13}, {'date': datetime.datetime(2012, 10, 2, 0, 0), 'grade': 'A', 'score': 9}, {'date': datetime.datetime(2012, 5, 9, 0, 0), 'grade': 'A', 'score': 13}, {'date': datetime.datetime(2011, 12, 28, 0, 0), 'grade': 'B', 'score': 24}], 'name': 'Zum Stammtisch', 'restaurant_id': '40367377'}\n",
            "{'_id': ObjectId('666c372945dd1b1364a0800b'), 'address': {'building': '107109', 'coord': [-73.9744668, 40.731155], 'street': 'Avenue C', 'zipcode': '10009'}, 'borough': 'Manhattan', 'cuisine': 'German', 'grades': [{'date': datetime.datetime(2014, 3, 4, 0, 0), 'grade': 'A', 'score': 7}, {'date': datetime.datetime(2013, 8, 21, 0, 0), 'grade': 'A', 'score': 13}, {'date': datetime.datetime(2013, 2, 27, 0, 0), 'grade': 'A', 'score': 11}, {'date': datetime.datetime(2012, 6, 5, 0, 0), 'grade': 'A', 'score': 12}, {'date': datetime.datetime(2011, 12, 20, 0, 0), 'grade': 'A', 'score': 9}, {'date': datetime.datetime(2011, 7, 15, 0, 0), 'grade': 'A', 'score': 6}], 'name': 'Zum Schneider', 'restaurant_id': '40763382'}\n",
            "{'_id': ObjectId('666c372945dd1b1364a08241'), 'address': {'building': '2905', 'coord': [-73.91337299999999, 40.775064], 'street': '23 Avenue', 'zipcode': '11105'}, 'borough': 'Queens', 'cuisine': 'Greek', 'grades': [{'date': datetime.datetime(2014, 9, 29, 0, 0), 'grade': 'A', 'score': 7}, {'date': datetime.datetime(2014, 4, 18, 0, 0), 'grade': 'A', 'score': 13}, {'date': datetime.datetime(2013, 3, 19, 0, 0), 'grade': 'A', 'score': 12}, {'date': datetime.datetime(2012, 10, 3, 0, 0), 'grade': 'B', 'score': 20}, {'date': datetime.datetime(2012, 5, 7, 0, 0), 'grade': 'A', 'score': 12}], 'name': \"Zorba'S\", 'restaurant_id': '40877247'}\n",
            "{'_id': ObjectId('666c372945dd1b1364a08089'), 'address': {'building': '305', 'coord': [-73.94830499999999, 40.781662], 'street': 'East 92 Street', 'zipcode': '10128'}, 'borough': 'Manhattan', 'cuisine': 'Brazilian', 'grades': [{'date': datetime.datetime(2015, 1, 9, 0, 0), 'grade': 'A', 'score': 10}, {'date': datetime.datetime(2014, 7, 16, 0, 0), 'grade': 'A', 'score': 7}, {'date': datetime.datetime(2013, 4, 26, 0, 0), 'grade': 'A', 'score': 10}, {'date': datetime.datetime(2012, 4, 21, 0, 0), 'grade': 'A', 'score': 12}], 'name': 'Zebu Grill', 'restaurant_id': '40800325'}\n",
            "{'_id': ObjectId('666c372845dd1b1364a07c09'), 'address': {'building': '89', 'coord': [-73.97729919999999, 40.7524958], 'street': 'East   42 Street', 'zipcode': '10017'}, 'borough': 'Manhattan', 'cuisine': 'Bakery', 'grades': [{'date': datetime.datetime(2014, 12, 11, 0, 0), 'grade': 'A', 'score': 8}, {'date': datetime.datetime(2014, 7, 17, 0, 0), 'grade': 'A', 'score': 13}, {'date': datetime.datetime(2013, 6, 26, 0, 0), 'grade': 'A', 'score': 7}, {'date': datetime.datetime(2013, 1, 29, 0, 0), 'grade': 'A', 'score': 5}, {'date': datetime.datetime(2012, 7, 16, 0, 0), 'grade': 'A', 'score': 13}], 'name': \"Zaro'S Bread Basket\", 'restaurant_id': '40586000'}\n",
            "{'_id': ObjectId('666c372845dd1b1364a07844'), 'address': {'building': '29', 'coord': [-73.86119219999999, 40.8338023], 'street': 'Hugh Grant Circle', 'zipcode': '10462'}, 'borough': 'Bronx', 'cuisine': 'Bakery', 'grades': [{'date': datetime.datetime(2014, 8, 27, 0, 0), 'grade': 'A', 'score': 9}, {'date': datetime.datetime(2013, 9, 10, 0, 0), 'grade': 'A', 'score': 0}, {'date': datetime.datetime(2013, 5, 7, 0, 0), 'grade': 'C', 'score': 2}, {'date': datetime.datetime(2013, 3, 23, 0, 0), 'grade': 'P', 'score': 13}, {'date': datetime.datetime(2012, 10, 24, 0, 0), 'grade': 'A', 'score': 12}, {'date': datetime.datetime(2011, 11, 1, 0, 0), 'grade': 'A', 'score': 13}], 'name': \"Zaro'S Bread Basket\", 'restaurant_id': '40397863'}\n",
            "{'_id': ObjectId('666c372845dd1b1364a07fba'), 'address': {'building': '2', 'coord': [-73.992255, 40.749712], 'street': 'Penn Plaza', 'zipcode': '10121'}, 'borough': 'Manhattan', 'cuisine': 'Bakery', 'grades': [{'date': datetime.datetime(2014, 2, 18, 0, 0), 'grade': 'A', 'score': 7}, {'date': datetime.datetime(2013, 1, 22, 0, 0), 'grade': 'A', 'score': 3}, {'date': datetime.datetime(2012, 3, 21, 0, 0), 'grade': 'A', 'score': 10}, {'date': datetime.datetime(2011, 11, 9, 0, 0), 'grade': 'A', 'score': 12}, {'date': datetime.datetime(2011, 7, 25, 0, 0), 'grade': 'B', 'score': 18}], 'name': \"Zaro'S Bread Basket\", 'restaurant_id': '40750766'}\n",
            "{'_id': ObjectId('666c372845dd1b1364a07a09'), 'address': {'building': '89', 'coord': [-73.97729919999999, 40.7524958], 'street': 'East   42 Street', 'zipcode': '10017'}, 'borough': 'Manhattan', 'cuisine': 'Bakery', 'grades': [{'date': datetime.datetime(2014, 12, 23, 0, 0), 'grade': 'A', 'score': 12}, {'date': datetime.datetime(2014, 1, 13, 0, 0), 'grade': 'A', 'score': 4}, {'date': datetime.datetime(2013, 1, 23, 0, 0), 'grade': 'A', 'score': 2}, {'date': datetime.datetime(2012, 8, 20, 0, 0), 'grade': 'A', 'score': 13}, {'date': datetime.datetime(2012, 3, 30, 0, 0), 'grade': 'A', 'score': 9}], 'name': \"Zaro'S Bread Basket\", 'restaurant_id': '40512617'}\n",
            "{'_id': ObjectId('666c372845dd1b1364a079be'), 'address': {'building': '1', 'coord': [-76.878256, 40.26205], 'street': 'Pennsylvania Station (Amtrack)', 'zipcode': '10001'}, 'borough': 'Manhattan', 'cuisine': 'Bakery', 'grades': [{'date': datetime.datetime(2014, 2, 7, 0, 0), 'grade': 'A', 'score': 9}, {'date': datetime.datetime(2013, 2, 11, 0, 0), 'grade': 'A', 'score': 5}, {'date': datetime.datetime(2012, 9, 18, 0, 0), 'grade': 'A', 'score': 11}, {'date': datetime.datetime(2012, 4, 5, 0, 0), 'grade': 'A', 'score': 5}, {'date': datetime.datetime(2011, 11, 17, 0, 0), 'grade': 'A', 'score': 2}, {'date': datetime.datetime(2011, 7, 5, 0, 0), 'grade': 'A', 'score': 4}], 'name': \"Zaro'S Bread Basket\", 'restaurant_id': '40510389'}\n",
            "{'_id': ObjectId('666c372845dd1b1364a07e0a'), 'address': {'building': '370', 'coord': [-73.9768121, 40.7507385], 'street': 'Lexington Avenue', 'zipcode': '10017'}, 'borough': 'Manhattan', 'cuisine': 'Bakery', 'grades': [{'date': datetime.datetime(2014, 9, 18, 0, 0), 'grade': 'A', 'score': 9}, {'date': datetime.datetime(2013, 9, 9, 0, 0), 'grade': 'A', 'score': 12}, {'date': datetime.datetime(2013, 4, 8, 0, 0), 'grade': 'B', 'score': 14}, {'date': datetime.datetime(2012, 10, 15, 0, 0), 'grade': 'A', 'score': 12}, {'date': datetime.datetime(2012, 5, 24, 0, 0), 'grade': 'A', 'score': 8}, {'date': datetime.datetime(2011, 10, 31, 0, 0), 'grade': 'B', 'score': 25}], 'name': \"Zaro'S Bakery\", 'restaurant_id': '40686674'}\n"
          ]
        }
      ]
    },
    {
      "cell_type": "markdown",
      "metadata": {
        "id": "5KN02iHBGRk9"
      },
      "source": [
        "28. Write a MongoDB query to know whether all the addresses contains the street or not.\n"
      ]
    },
    {
      "cell_type": "code",
      "metadata": {
        "id": "D0mogECzGVZW"
      },
      "source": [
        "c1 = db.restaurants.find(\n",
        "                     {\"address.street\" :\n",
        "                         { \"$exists\" : \"true\" }\n",
        "                     }\n",
        "                   );\n",
        "#for crnt in c1:\n",
        "#    print(crnt)"
      ],
      "execution_count": 51,
      "outputs": []
    },
    {
      "cell_type": "markdown",
      "metadata": {
        "id": "BnRrvXcwGlhm"
      },
      "source": [
        "29. Write a MongoDB query which will select all documents in the restaurants collection where the coord field value is Double.\n"
      ]
    },
    {
      "cell_type": "code",
      "metadata": {
        "id": "27EgoXGwGnNa"
      },
      "source": [
        "c1 = db.restaurants.find(\n",
        "                    {\"address.coord\" :\n",
        "                       {\"$type\" : 1}\n",
        "                    }\n",
        "                   );\n",
        "#for crnt in c1:\n",
        "#    print(crnt)"
      ],
      "execution_count": 52,
      "outputs": []
    },
    {
      "cell_type": "markdown",
      "metadata": {
        "id": "Cm0yNMXgLMVd"
      },
      "source": [
        "30. select the restaurant Id, name and grades for those restaurants which returns 0 as a remainder after dividing the score by 7."
      ]
    },
    {
      "cell_type": "code",
      "metadata": {
        "id": "EfjpeLqULYQE"
      },
      "source": [
        "c1 = db.restaurants.find(\n",
        "                      {\"grades.score\" :\n",
        "                         {\"$mod\" : [7,0]}\n",
        "                      },\n",
        "                         {\"restaurant_id\" : 1,\"name\":1,\"grades\":1}\n",
        "                    );\n",
        "#for crnt in c1:\n",
        "#    print(crnt)"
      ],
      "execution_count": 53,
      "outputs": []
    },
    {
      "cell_type": "markdown",
      "metadata": {
        "id": "_tj_JtNzLnTN"
      },
      "source": [
        "31. find the restaurant name, borough, longitude and attitude and cuisine for those restaurants which contains 'mon' as three letters somewhere in its name."
      ]
    },
    {
      "cell_type": "code",
      "metadata": {
        "colab": {
          "base_uri": "https://localhost:8080/"
        },
        "id": "4YopKDWcL6dk",
        "outputId": "27ce612d-54e7-42d5-8c6f-d052c27cd235"
      },
      "source": [
        "c1 = db.restaurants.find(\n",
        "                   { \"name\" :\n",
        "                     { \"$regex\" : \"mon.*\", \"$options\": \"i\" }\n",
        "                   },\n",
        "                       {\n",
        "                         \"name\":1,\n",
        "                         \"borough\":1,\n",
        "                         \"address.coord\":1,\n",
        "                         \"cuisine\" :1\n",
        "                        }\n",
        "                   );\n",
        "for crnt in c1:\n",
        "    print(crnt)"
      ],
      "execution_count": 54,
      "outputs": [
        {
          "output_type": "stream",
          "name": "stdout",
          "text": [
            "{'_id': ObjectId('666c372645dd1b1364a074a1'), 'address': {'coord': [-73.98306099999999, 40.7441419]}, 'borough': 'Manhattan', 'cuisine': 'American ', 'name': \"Desmond'S Tavern\"}\n",
            "{'_id': ObjectId('666c372645dd1b1364a074aa'), 'address': {'coord': [-73.8221418, 40.7272376]}, 'borough': 'Queens', 'cuisine': 'Jewish/Kosher', 'name': 'Shimons Kosher Pizza'}\n",
            "{'_id': ObjectId('666c372645dd1b1364a074b6'), 'address': {'coord': [-74.10465599999999, 40.58834]}, 'borough': 'Staten Island', 'cuisine': 'American ', 'name': 'Richmond County Country Club'}\n",
            "{'_id': ObjectId('666c372645dd1b1364a074e1'), 'address': {'coord': [-73.9812843, 40.5947365]}, 'borough': 'Brooklyn', 'cuisine': 'Pizza/Italian', 'name': 'Lb Spumoni Gardens'}\n",
            "{'_id': ObjectId('666c372645dd1b1364a07534'), 'address': {'coord': [-73.951199, 40.7166026]}, 'borough': 'Brooklyn', 'cuisine': 'Italian', 'name': \"Bamonte'S Restaurant\"}\n",
            "{'_id': ObjectId('666c372645dd1b1364a0756a'), 'address': {'coord': [-73.924072, 40.76108900000001]}, 'borough': 'Queens', 'cuisine': 'Greek', 'name': 'Omonia Cafe'}\n",
            "{'_id': ObjectId('666c372645dd1b1364a075ba'), 'address': {'coord': [-74.0023353, 40.7333573]}, 'borough': 'Manhattan', 'cuisine': 'American ', 'name': 'Manhattan Monster'}\n",
            "{'_id': ObjectId('666c372645dd1b1364a075e7'), 'address': {'coord': [-74.001094, 40.729583]}, 'borough': 'Manhattan', 'cuisine': 'Italian', 'name': \"Monte'S\"}\n",
            "{'_id': ObjectId('666c372645dd1b1364a075ed'), 'address': {'coord': [-73.9901605, 40.7526176]}, 'borough': 'Manhattan', 'cuisine': 'American ', 'name': \"Delmonico'S Kitchen\"}\n",
            "{'_id': ObjectId('666c372645dd1b1364a07604'), 'address': {'coord': [-73.9979536, 40.6914024]}, 'borough': 'Brooklyn', 'cuisine': 'Bottled beverages, including water, sodas, juices, etc.', 'name': 'Montero Bar & Grill'}\n",
            "{'_id': ObjectId('666c372645dd1b1364a0778e'), 'address': {'coord': [-73.9707505, 40.7635651]}, 'borough': 'Manhattan', 'cuisine': 'Delicatessen', 'name': 'Delmonico Gourmet'}\n",
            "{'_id': ObjectId('666c372845dd1b1364a077fb'), 'address': {'coord': [-73.9760637, 40.7508686]}, 'borough': 'Manhattan', 'cuisine': 'American ', 'name': 'Delmonico Gourmet'}\n",
            "{'_id': ObjectId('666c372845dd1b1364a07811'), 'address': {'coord': [-73.9705633, 40.7605759]}, 'borough': 'Manhattan', 'cuisine': 'Italian', 'name': 'Montebello Restaurant'}\n",
            "{'_id': ObjectId('666c372845dd1b1364a078a7'), 'address': {'coord': [-74.1914658, 40.55274360000001]}, 'borough': 'Staten Island', 'cuisine': 'Italian', 'name': 'Villa Monte Pizzeria'}\n",
            "{'_id': ObjectId('666c372845dd1b1364a07952'), 'address': {'coord': [-73.97198209999999, 40.764464]}, 'borough': 'Manhattan', 'cuisine': 'American ', 'name': 'Harmonie Club'}\n",
            "{'_id': ObjectId('666c372845dd1b1364a07a16'), 'address': {'coord': [-73.79571990000001, 40.7095637]}, 'borough': 'Queens', 'cuisine': 'Bakery', 'name': \"Ramona'S Bakery\"}\n",
            "{'_id': ObjectId('666c372845dd1b1364a07a4a'), 'address': {'coord': [-73.97852100000001, 40.729192]}, 'borough': 'Manhattan', 'cuisine': 'American ', 'name': \"Mona'S\"}\n",
            "{'_id': ObjectId('666c372845dd1b1364a07a70'), 'address': {'coord': [-73.98463480000001, 40.7630755]}, 'borough': 'Manhattan', 'cuisine': 'American ', 'name': 'Neil Simon Theatre'}\n",
            "{'_id': ObjectId('666c372845dd1b1364a07aaa'), 'address': {'coord': [-73.9938361, 40.6091317]}, 'borough': 'Brooklyn', 'cuisine': 'Bakery', 'name': 'Mondial Bakery'}\n",
            "{'_id': ObjectId('666c372845dd1b1364a07ad1'), 'address': {'coord': [-74.028486, 40.630438]}, 'borough': 'Brooklyn', 'cuisine': 'Mediterranean', 'name': 'Omonia Cafe'}\n",
            "{'_id': ObjectId('666c372845dd1b1364a07ae5'), 'address': {'coord': [-73.902048, 40.868898]}, 'borough': 'Bronx', 'cuisine': 'Mexican', 'name': 'Montezuma Restaurant'}\n",
            "{'_id': ObjectId('666c372845dd1b1364a07c50'), 'address': {'coord': [-73.9950905, 40.7435489]}, 'borough': 'Manhattan', 'cuisine': 'Japanese', 'name': 'Monster Sushi'}\n",
            "{'_id': ObjectId('666c372845dd1b1364a07c84'), 'address': {'coord': [-73.9849976, 40.7276766]}, 'borough': 'Manhattan', 'cuisine': 'American ', 'name': 'Simone Bar Cafe'}\n",
            "{'_id': ObjectId('666c372845dd1b1364a07ce0'), 'address': {'coord': [-73.992991, 40.694197]}, 'borough': 'Brooklyn', 'cuisine': 'Pizza/Italian', 'name': \"Monty Q'S\"}\n",
            "{'_id': ObjectId('666c372845dd1b1364a07dc8'), 'address': {'coord': [-73.9657651, 40.8056669]}, 'borough': 'Manhattan', 'cuisine': 'French', 'name': 'Le Monde'}\n",
            "{'_id': ObjectId('666c372845dd1b1364a07eb6'), 'address': {'coord': [-74.01032339999999, 40.7050156]}, 'borough': 'Manhattan', 'cuisine': 'Italian', 'name': 'Delmonicos'}\n",
            "{'_id': ObjectId('666c372945dd1b1364a0802b'), 'address': {'coord': [-73.8706606, 40.7342757]}, 'borough': 'Queens', 'cuisine': 'American ', 'name': 'Cinnabon World Famous Cinnamon Rolls'}\n",
            "{'_id': ObjectId('666c372945dd1b1364a0804f'), 'address': {'coord': [-73.9640299, 40.807001]}, 'borough': 'Manhattan', 'cuisine': 'American ', 'name': 'Ferris Booth Commons - Alfred Lerner Hall'}\n",
            "{'_id': ObjectId('666c372945dd1b1364a080aa'), 'address': {'coord': [-74.10465599999999, 40.58834]}, 'borough': 'Staten Island', 'cuisine': 'American ', 'name': 'Richmond County Country Club - Pool Snack Bar'}\n",
            "{'_id': ObjectId('666c372945dd1b1364a080ab'), 'address': {'coord': [-74.1110561, 40.5884772]}, 'borough': 'Staten Island', 'cuisine': 'American ', 'name': 'Richmond County Country Club(10Th Hole)'}\n",
            "{'_id': ObjectId('666c372945dd1b1364a080ac'), 'address': {'coord': [-74.112758, 40.5833299]}, 'borough': 'Staten Island', 'cuisine': 'American ', 'name': 'Richmond County Country Club'}\n",
            "{'_id': ObjectId('666c372945dd1b1364a082ba'), 'address': {'coord': [-73.9410809, 40.7036157]}, 'borough': 'Brooklyn', 'cuisine': 'Latin (Cuban, Dominican, Puerto Rican, South & Central American)', 'name': \"Ramonita'S Restaurant\"}\n"
          ]
        }
      ]
    },
    {
      "cell_type": "markdown",
      "metadata": {
        "id": "KzlsgYZEMMHp"
      },
      "source": [
        "32. find the restaurant name, borough, longitude and latitude and cuisine for those restaurants which contains 'Mad' as first three letters of its name."
      ]
    },
    {
      "cell_type": "code",
      "metadata": {
        "colab": {
          "base_uri": "https://localhost:8080/"
        },
        "id": "7kccfpSgMN6i",
        "outputId": "efa39396-0a50-4ece-aef1-d129b9f453e5"
      },
      "source": [
        "c1 = db.restaurants.find(\n",
        "                   { \"name\" :\n",
        "                     { \"$regex\" : \"^Mad\", }\n",
        "                   },\n",
        "                       {\n",
        "                         \"name\":1,\n",
        "                         \"borough\":1,\n",
        "                         \"address.coord\":1,\n",
        "                         \"cuisine\" :1\n",
        "                        }\n",
        "                   );\n",
        "for crnt in c1:\n",
        "    print(crnt)"
      ],
      "execution_count": 55,
      "outputs": [
        {
          "output_type": "stream",
          "name": "stdout",
          "text": [
            "{'_id': ObjectId('666c372845dd1b1364a07949'), 'address': {'coord': [-73.9860597, 40.7431194]}, 'borough': 'Manhattan', 'cuisine': 'American ', 'name': 'Madison Square'}\n",
            "{'_id': ObjectId('666c372845dd1b1364a07a17'), 'address': {'coord': [-73.98302199999999, 40.742313]}, 'borough': 'Manhattan', 'cuisine': 'Indian', 'name': 'Madras Mahal'}\n",
            "{'_id': ObjectId('666c372845dd1b1364a07cc6'), 'address': {'coord': [-74.000002, 40.72735]}, 'borough': 'Manhattan', 'cuisine': 'American ', 'name': 'Madame X'}\n",
            "{'_id': ObjectId('666c372845dd1b1364a07d76'), 'address': {'coord': [-73.98171959999999, 40.7499406]}, 'borough': 'Manhattan', 'cuisine': 'French', 'name': 'Madison Bistro'}\n",
            "{'_id': ObjectId('666c372845dd1b1364a07dff'), 'address': {'coord': [-73.9717845, 40.6897199]}, 'borough': 'Brooklyn', 'cuisine': 'African', 'name': 'Madiba'}\n",
            "{'_id': ObjectId('666c372945dd1b1364a08103'), 'address': {'coord': [-73.9040753, 40.9069011]}, 'borough': 'Bronx', 'cuisine': 'Italian', 'name': \"Madison'S\"}\n",
            "{'_id': ObjectId('666c372945dd1b1364a08181'), 'address': {'coord': [-73.9886598, 40.7565811]}, 'borough': 'Manhattan', 'cuisine': 'Hotdogs', 'name': \"Madame Tussaud'S\"}\n",
            "{'_id': ObjectId('666c372945dd1b1364a081b9'), 'address': {'coord': [-73.95623719999999, 40.7761697]}, 'borough': 'Manhattan', 'cuisine': 'American ', 'name': 'Mad River Bar & Grille'}\n"
          ]
        }
      ]
    },
    {
      "cell_type": "markdown",
      "source": [
        "#Local Mongo"
      ],
      "metadata": {
        "id": "FkxKcBcOxnJ7"
      }
    },
    {
      "cell_type": "code",
      "source": [
        "# Updated Install Sequence for MongoDB\n",
        "# https://www.mongodb.com/docs/manual/tutorial/install-mongodb-on-ubuntu/\n",
        "# Note Ubuntu versio 'jammy'\n",
        "!curl -fsSL https://pgp.mongodb.com/server-6.0.asc | \\\n",
        "   sudo gpg -o /usr/share/keyrings/mongodb-server-6.0.gpg \\\n",
        "   --dearmor\n",
        "# -----------------------\n",
        "# Note reference to jammy\n",
        "!echo \"deb [ arch=amd64,arm64 signed-by=/usr/share/keyrings/mongodb-server-6.0.gpg ] https://repo.mongodb.org/apt/ubuntu jammy/mongodb-org/6.0 multiverse\" | sudo tee /etc/apt/sources.list.d/mongodb-org-6.0.list\n",
        "# -----------------------\n",
        "!sudo apt-get update > /dev/null\n",
        "!sudo apt-get install -y mongodb-org > /dev/null              # ignore error and warning messages"
      ],
      "metadata": {
        "id": "vSq376BFxxPx",
        "outputId": "b89b76c0-05ff-4be6-c0f6-2880d0275a39",
        "colab": {
          "base_uri": "https://localhost:8080/"
        }
      },
      "execution_count": 56,
      "outputs": [
        {
          "output_type": "stream",
          "name": "stdout",
          "text": [
            "deb [ arch=amd64,arm64 signed-by=/usr/share/keyrings/mongodb-server-6.0.gpg ] https://repo.mongodb.org/apt/ubuntu jammy/mongodb-org/6.0 multiverse\n",
            "debconf: unable to initialize frontend: Dialog\n",
            "debconf: (No usable dialog-like program is installed, so the dialog based frontend cannot be used. at /usr/share/perl5/Debconf/FrontEnd/Dialog.pm line 78, <> line 8.)\n",
            "debconf: falling back to frontend: Readline\n",
            "debconf: unable to initialize frontend: Readline\n",
            "debconf: (This frontend requires a controlling tty.)\n",
            "debconf: falling back to frontend: Teletype\n",
            "dpkg-preconfigure: unable to re-open stdin: \n"
          ]
        }
      ]
    },
    {
      "cell_type": "code",
      "source": [
        "#!sudo service mongodb start --- this should work but does not\n",
        "# -----------------------\n",
        "# https://unix.stackexchange.com/questions/715119/system-v-init-service-cant-recongnise-mongod\n",
        "!sudo mkdir -p /var/log/mongodb /var/lib/mongodb\n",
        "!sudo chown `whoami` /var/lib/mongodb /var/log/mongodb/\n",
        "# -----------------------\n",
        "# Manually start MongoDB in background mode, to free up the terminal\n",
        "!nohup mongod --config /etc/mongod.conf &\n",
        "!mongod --version"
      ],
      "metadata": {
        "id": "QJy-y78yx--U",
        "outputId": "9324089f-2cb5-43d5-e547-40d02990dcbe",
        "colab": {
          "base_uri": "https://localhost:8080/"
        }
      },
      "execution_count": 57,
      "outputs": [
        {
          "output_type": "stream",
          "name": "stdout",
          "text": [
            "nohup: appending output to 'nohup.out'\n",
            "db version v6.0.15\n",
            "Build Info: {\n",
            "    \"version\": \"6.0.15\",\n",
            "    \"gitVersion\": \"7494119c41ca4e13b493e9f048df4032164e860e\",\n",
            "    \"openSSLVersion\": \"OpenSSL 3.0.2 15 Mar 2022\",\n",
            "    \"modules\": [],\n",
            "    \"allocator\": \"tcmalloc\",\n",
            "    \"environment\": {\n",
            "        \"distmod\": \"ubuntu2204\",\n",
            "        \"distarch\": \"x86_64\",\n",
            "        \"target_arch\": \"x86_64\"\n",
            "    }\n",
            "}\n"
          ]
        }
      ]
    },
    {
      "cell_type": "code",
      "source": [
        "loc_mongoURI = \"mongodb://localhost:27017/\"\n",
        "loc_client = MongoClient(loc_mongoURI)\n",
        "loc_client.list_database_names() # ['admin', 'config', 'local']"
      ],
      "metadata": {
        "id": "C9oFN9hiyHeX",
        "outputId": "5937a54e-efa6-43f2-cb63-9ee1a0834650",
        "colab": {
          "base_uri": "https://localhost:8080/"
        }
      },
      "execution_count": 58,
      "outputs": [
        {
          "output_type": "execute_result",
          "data": {
            "text/plain": [
              "['admin', 'config', 'local']"
            ]
          },
          "metadata": {},
          "execution_count": 58
        }
      ]
    },
    {
      "cell_type": "code",
      "source": [
        "#db = client.PraxisDB\n",
        "#db = client.btncgfi3a5bxyea\n",
        "loc_db = loc_client.PraxisDB\n",
        "loc_db.list_collection_names()"
      ],
      "metadata": {
        "id": "2coSoPuHyg3G",
        "outputId": "03c138b7-0390-4e2f-c946-a12324c3f961",
        "colab": {
          "base_uri": "https://localhost:8080/"
        }
      },
      "execution_count": 59,
      "outputs": [
        {
          "output_type": "execute_result",
          "data": {
            "text/plain": [
              "[]"
            ]
          },
          "metadata": {},
          "execution_count": 59
        }
      ]
    },
    {
      "cell_type": "code",
      "source": [
        "!mongoimport --db PraxisDB --collection restaurants --drop --file restaurants.json"
      ],
      "metadata": {
        "id": "hY5_9S41zAwV",
        "outputId": "83a5094b-a174-44c0-c64b-41ccf80fe067",
        "colab": {
          "base_uri": "https://localhost:8080/"
        }
      },
      "execution_count": 60,
      "outputs": [
        {
          "output_type": "stream",
          "name": "stdout",
          "text": [
            "2024-06-14T12:28:25.500+0000\tconnected to: mongodb://localhost/\n",
            "2024-06-14T12:28:25.501+0000\tdropping: PraxisDB.restaurants\n",
            "2024-06-14T12:28:26.160+0000\t3772 document(s) imported successfully. 0 document(s) failed to import.\n"
          ]
        }
      ]
    },
    {
      "cell_type": "code",
      "source": [
        "loc_db = loc_client.PraxisDB\n",
        "loc_db.list_collection_names()"
      ],
      "metadata": {
        "id": "3-MqeismzJtr",
        "outputId": "a6527615-96eb-495a-a8e1-2d2e61b12aba",
        "colab": {
          "base_uri": "https://localhost:8080/"
        }
      },
      "execution_count": 61,
      "outputs": [
        {
          "output_type": "execute_result",
          "data": {
            "text/plain": [
              "['restaurants']"
            ]
          },
          "metadata": {},
          "execution_count": 61
        }
      ]
    },
    {
      "cell_type": "code",
      "source": [
        "loc_table = loc_db.restaurants\n",
        "loc_table.count_documents({})"
      ],
      "metadata": {
        "id": "tO2Trtl-zY5V",
        "outputId": "5d0e4b28-89bd-45f8-ceea-ff72b062e467",
        "colab": {
          "base_uri": "https://localhost:8080/"
        }
      },
      "execution_count": 62,
      "outputs": [
        {
          "output_type": "execute_result",
          "data": {
            "text/plain": [
              "3772"
            ]
          },
          "metadata": {},
          "execution_count": 62
        }
      ]
    },
    {
      "cell_type": "code",
      "source": [
        "c1 = loc_db.restaurants.find({},{\"restaurant_id\" : 1,\"name\":1,\"borough\":1,\"cuisine\" :1}).limit(3)\n",
        "for crnt in c1:\n",
        "    print(crnt)"
      ],
      "metadata": {
        "id": "ez-zgEBRzqpl",
        "outputId": "befbc90c-6da9-40e3-91b4-d8da5d42def5",
        "colab": {
          "base_uri": "https://localhost:8080/"
        }
      },
      "execution_count": 63,
      "outputs": [
        {
          "output_type": "stream",
          "name": "stdout",
          "text": [
            "{'_id': ObjectId('666c37690566f9e5934d2284'), 'borough': 'Bronx', 'cuisine': 'Bakery', 'name': 'Morris Park Bake Shop', 'restaurant_id': '30075445'}\n",
            "{'_id': ObjectId('666c37690566f9e5934d2285'), 'borough': 'Manhattan', 'cuisine': 'Irish', 'name': 'Dj Reynolds Pub And Restaurant', 'restaurant_id': '30191841'}\n",
            "{'_id': ObjectId('666c37690566f9e5934d2286'), 'borough': 'Brooklyn', 'cuisine': 'American ', 'name': 'Riviera Caterer', 'restaurant_id': '40356018'}\n"
          ]
        }
      ]
    },
    {
      "cell_type": "markdown",
      "source": [
        "# Checked by"
      ],
      "metadata": {
        "id": "xfGRZlxwo46a"
      }
    },
    {
      "cell_type": "code",
      "source": [
        "from datetime import datetime\n",
        "import pytz\n",
        "print('last tested  ',datetime.now(pytz.timezone('Asia/Kolkata')))"
      ],
      "metadata": {
        "id": "rjKkYNgZu3Lx",
        "outputId": "79d46dec-1c2f-4c09-df7c-8e81e7a6cdd0",
        "colab": {
          "base_uri": "https://localhost:8080/"
        }
      },
      "execution_count": 64,
      "outputs": [
        {
          "output_type": "stream",
          "name": "stdout",
          "text": [
            "last tested   2024-06-14 17:58:26.256735+05:30\n"
          ]
        }
      ]
    },
    {
      "cell_type": "markdown",
      "metadata": {
        "id": "80dL82EayBe8"
      },
      "source": [
        "#Chronobooks <br>\n",
        "![alt text](https://1.bp.blogspot.com/-lTiYBkU2qbU/X1er__fvnkI/AAAAAAAAjtE/GhDR3OEGJr4NG43fZPodrQD5kbxtnKebgCLcBGAsYHQ/s600/Footer2020-600x200.png)<hr>\n",
        "Chronotantra and Chronoyantra are two science fiction novels that explore the collapse of human civilisation on Earth and then its rebirth and reincarnation both on Earth as well as on the distant worlds of Mars, Titan and Enceladus. But is it the human civilisation that is being reborn? Or is it some other sentience that is revealing itself.\n",
        "If you have an interest in AI and found this material useful, you may consider buying these novels, in paperback or kindle, from [http://bit.ly/chronobooks](http://bit.ly/chronobooks)"
      ]
    }
  ]
}