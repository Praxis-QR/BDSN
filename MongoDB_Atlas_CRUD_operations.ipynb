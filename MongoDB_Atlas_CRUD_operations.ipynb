{
  "nbformat": 4,
  "nbformat_minor": 0,
  "metadata": {
    "colab": {
      "name": "MongoDB @ Atlas  CRUD  operations",
      "provenance": [],
      "toc_visible": true,
      "include_colab_link": true
    },
    "kernelspec": {
      "name": "python3",
      "display_name": "Python 3"
    },
    "language_info": {
      "name": "python"
    }
  },
  "cells": [
    {
      "cell_type": "markdown",
      "metadata": {
        "id": "view-in-github",
        "colab_type": "text"
      },
      "source": [
        "<a href=\"https://colab.research.google.com/github/Praxis-QR/BDSN/blob/main/MongoDB_Atlas_CRUD_operations.ipynb\" target=\"_parent\"><img src=\"https://colab.research.google.com/assets/colab-badge.svg\" alt=\"Open In Colab\"/></a>"
      ]
    },
    {
      "cell_type": "markdown",
      "metadata": {
        "id": "1SPjiBEzX8xN"
      },
      "source": [
        "![alt text](https://github.com/Praxis-QR/RDWH/raw/main/images/YantraJaalBanner.png)<br>\n",
        "\n",
        "\n",
        "<hr>\n",
        "\n",
        "[Prithwis Mukerjee](http://www.linkedin.com/in/prithwis)<br>"
      ]
    },
    {
      "cell_type": "code",
      "source": [
        "from datetime import datetime\n",
        "import pytz\n",
        "print('Tested',datetime.now(pytz.timezone('Asia/Calcutta')))"
      ],
      "metadata": {
        "id": "e5219jVWTZ-Q",
        "outputId": "1e3dc708-1392-49af-c411-5972a8b811f5",
        "colab": {
          "base_uri": "https://localhost:8080/"
        }
      },
      "execution_count": 1,
      "outputs": [
        {
          "output_type": "stream",
          "name": "stdout",
          "text": [
            "Tested 2023-04-06 12:13:40.180377+05:30\n"
          ]
        }
      ]
    },
    {
      "cell_type": "markdown",
      "metadata": {
        "id": "u7UmFH23YJ9Q"
      },
      "source": [
        "Based on https://github.com/giffy/MongoDB_PyMongo_Tutorial"
      ]
    },
    {
      "cell_type": "markdown",
      "metadata": {
        "id": "u4fPiXfdYevn"
      },
      "source": [
        "#Installs "
      ]
    },
    {
      "cell_type": "code",
      "metadata": {
        "colab": {
          "base_uri": "https://localhost:8080/"
        },
        "id": "bv6pDRWUYodX",
        "outputId": "9ef86520-6f68-4622-ada4-63da4b9a8f35"
      },
      "source": [
        "# required for accessing Atlas servers \n",
        "!/usr/bin/python3 -m pip install \"pymongo[srv]\"\n",
        "\n",
        "#!apt install mongodb > /dev/null\n",
        " \n",
        "#Local Server Need Not be started for Remote Operations\n",
        "#!service mongodb start"
      ],
      "execution_count": 2,
      "outputs": [
        {
          "output_type": "stream",
          "name": "stdout",
          "text": [
            "Looking in indexes: https://pypi.org/simple, https://us-python.pkg.dev/colab-wheels/public/simple/\n",
            "Collecting pymongo[srv]\n",
            "  Downloading pymongo-4.3.3-cp39-cp39-manylinux_2_17_x86_64.manylinux2014_x86_64.whl (492 kB)\n",
            "\u001b[2K     \u001b[90m━━━━━━━━━━━━━━━━━━━━━━━━━━━━━━━━━━━━━━━\u001b[0m \u001b[32m492.1/492.1 KB\u001b[0m \u001b[31m8.9 MB/s\u001b[0m eta \u001b[36m0:00:00\u001b[0m\n",
            "\u001b[?25hCollecting dnspython<3.0.0,>=1.16.0\n",
            "  Downloading dnspython-2.3.0-py3-none-any.whl (283 kB)\n",
            "\u001b[2K     \u001b[90m━━━━━━━━━━━━━━━━━━━━━━━━━━━━━━━━━━━━━━\u001b[0m \u001b[32m283.7/283.7 KB\u001b[0m \u001b[31m36.3 MB/s\u001b[0m eta \u001b[36m0:00:00\u001b[0m\n",
            "\u001b[?25hInstalling collected packages: dnspython, pymongo\n",
            "Successfully installed dnspython-2.3.0 pymongo-4.3.3\n"
          ]
        }
      ]
    },
    {
      "cell_type": "code",
      "source": [
        "#this cell required to hide mongoURI from notebook in public github directory\n",
        "from google.colab import drive\n",
        "drive.mount('/content/drive')\n",
        "# copy credentials file\n",
        "#!ls /content/drive/'My Drive'/Praxis/WebCredentials\n",
        "!cp /content/drive/'My Drive'/Praxis/WebCredentials/AtlasCredentials_Jun22.py credentials.py\n",
        "# import mongoURI\n",
        "from credentials import RegCalURI"
      ],
      "metadata": {
        "id": "BRbpz5Zx9n9N",
        "outputId": "df4ef280-a791-4cda-a1f8-d87fc3292ac4",
        "colab": {
          "base_uri": "https://localhost:8080/"
        }
      },
      "execution_count": 3,
      "outputs": [
        {
          "output_type": "stream",
          "name": "stdout",
          "text": [
            "Mounted at /content/drive\n"
          ]
        }
      ]
    },
    {
      "cell_type": "code",
      "metadata": {
        "id": "xggIFON1XxgF"
      },
      "source": [
        "from pymongo import MongoClient\n",
        "import pandas as pd\n",
        "import dateutil"
      ],
      "execution_count": 4,
      "outputs": []
    },
    {
      "cell_type": "code",
      "metadata": {
        "colab": {
          "base_uri": "https://localhost:8080/"
        },
        "id": "YBZMGZMAY8i8",
        "outputId": "2bacdae0-0095-4397-baa6-5230f775a6a9"
      },
      "source": [
        "#mongoURI = \"mongodb+srv://<userid>:<password>@clusterN.yarln.mongodb.net/?retryWrites=true&w=majority\"\n",
        "mongoURI = RegCalURI\n",
        "client = MongoClient(mongoURI)\n",
        "client.list_database_names() # ['admin', 'local']"
      ],
      "execution_count": 5,
      "outputs": [
        {
          "output_type": "execute_result",
          "data": {
            "text/plain": [
              "['Parashar21', 'admin', 'local']"
            ]
          },
          "metadata": {},
          "execution_count": 5
        }
      ]
    },
    {
      "cell_type": "markdown",
      "metadata": {
        "id": "MN79GhZSaQCD"
      },
      "source": [
        "# Create Database objects"
      ]
    },
    {
      "cell_type": "code",
      "metadata": {
        "id": "LUAvup4qcabt"
      },
      "source": [
        "# Delete a database\n",
        "client.drop_database('PraxisDB')"
      ],
      "execution_count": 6,
      "outputs": []
    },
    {
      "cell_type": "code",
      "metadata": {
        "colab": {
          "base_uri": "https://localhost:8080/"
        },
        "id": "1PkkdbCXa5_0",
        "outputId": "6921f30a-f5a9-45e7-fc89-4435ef77da51"
      },
      "source": [
        "# Create a new collection. We can create the collection or leave to MongoDB to create it as soon as a document is generated.\n",
        "db = client.PraxisDB\n",
        "db.create_collection('addresses')       # Optional collection creation "
      ],
      "execution_count": 7,
      "outputs": [
        {
          "output_type": "execute_result",
          "data": {
            "text/plain": [
              "Collection(Database(MongoClient(host=['cluster0-shard-00-01.yarln.mongodb.net:27017', 'cluster0-shard-00-02.yarln.mongodb.net:27017', 'cluster0-shard-00-00.yarln.mongodb.net:27017'], document_class=dict, tz_aware=False, connect=True, retrywrites=True, w='majority', authsource='admin', replicaset='atlas-djz97v-shard-0', tls=True), 'PraxisDB'), 'addresses')"
            ]
          },
          "metadata": {},
          "execution_count": 7
        }
      ]
    },
    {
      "cell_type": "code",
      "metadata": {
        "colab": {
          "base_uri": "https://localhost:8080/"
        },
        "id": "aFJuoBcBcvvf",
        "outputId": "33c5919e-7b89-4897-acf4-24d43a5edb2d"
      },
      "source": [
        "# Show Collections. Query returns a Cursor [ ] ,  list it to see the content\n",
        "list (db.list_collections())\n",
        "# empty list '[]' means that there are not collections in database"
      ],
      "execution_count": 8,
      "outputs": [
        {
          "output_type": "execute_result",
          "data": {
            "text/plain": [
              "[{'name': 'addresses',\n",
              "  'type': 'collection',\n",
              "  'options': {},\n",
              "  'info': {'readOnly': False,\n",
              "   'uuid': Binary(b'\\xd1\\x86 \\xae3tN\\xc4\\x86\\xcd\\xa5*-\\xd6\\xfe\\xf9', 4)},\n",
              "  'idIndex': {'v': 2, 'key': {'_id': 1}, 'name': '_id_'}}]"
            ]
          },
          "metadata": {},
          "execution_count": 8
        }
      ]
    },
    {
      "cell_type": "code",
      "metadata": {
        "colab": {
          "base_uri": "https://localhost:8080/"
        },
        "id": "1ek9pCUwdOAq",
        "outputId": "1c810d48-1e3d-4058-e37c-9da442f3a975"
      },
      "source": [
        "# Set the collection to work with\n",
        "kollection = db.addresses\n",
        "kollection.insert_one({'name' : 'Yantrajaal'})     # Insert one item to create the collection\n",
        "list (kollection.find())                  # Show the existing collections"
      ],
      "execution_count": 9,
      "outputs": [
        {
          "output_type": "execute_result",
          "data": {
            "text/plain": [
              "[{'_id': ObjectId('642e6a74184670826d742a38'), 'name': 'Yantrajaal'}]"
            ]
          },
          "metadata": {},
          "execution_count": 9
        }
      ]
    },
    {
      "cell_type": "code",
      "metadata": {
        "colab": {
          "base_uri": "https://localhost:8080/"
        },
        "id": "gHnx-GEjdz_l",
        "outputId": "0037a264-2b78-4c33-fc4e-4a202df0fee5"
      },
      "source": [
        "# Rename a collections\n",
        "db.addresses.rename('addressbook')\n",
        "kollection2 = db.addressbook                   # Set the collection to work with\n",
        "list (db.list_collections())                  # Show the existing collections"
      ],
      "execution_count": 10,
      "outputs": [
        {
          "output_type": "execute_result",
          "data": {
            "text/plain": [
              "[{'name': 'addressbook',\n",
              "  'type': 'collection',\n",
              "  'options': {},\n",
              "  'info': {'readOnly': False,\n",
              "   'uuid': Binary(b'\\xd1\\x86 \\xae3tN\\xc4\\x86\\xcd\\xa5*-\\xd6\\xfe\\xf9', 4)},\n",
              "  'idIndex': {'v': 2, 'key': {'_id': 1}, 'name': '_id_'}}]"
            ]
          },
          "metadata": {},
          "execution_count": 10
        }
      ]
    },
    {
      "cell_type": "code",
      "metadata": {
        "colab": {
          "base_uri": "https://localhost:8080/"
        },
        "id": "0IG9ZsQleFoF",
        "outputId": "6edbca55-75a5-48ff-81fb-abbc82af8d48"
      },
      "source": [
        "# Delete collection\n",
        "db.drop_collection('addressbook')"
      ],
      "execution_count": 11,
      "outputs": [
        {
          "output_type": "execute_result",
          "data": {
            "text/plain": [
              "{'nIndexesWas': 1,\n",
              " 'ns': 'PraxisDB.addressbook',\n",
              " 'ok': 1.0,\n",
              " '$clusterTime': {'clusterTime': Timestamp(1680763522, 3001),\n",
              "  'signature': {'hash': b'\\xd6]\\x906\\x80Yt\\x9f\\x96\\x88\\xe1T\\x12\\xe8\\x01\\x16\\xe1\\x8e\\x10\\x0c',\n",
              "   'keyId': 7153350039593549829}},\n",
              " 'operationTime': Timestamp(1680763522, 3001)}"
            ]
          },
          "metadata": {},
          "execution_count": 11
        }
      ]
    },
    {
      "cell_type": "code",
      "metadata": {
        "colab": {
          "base_uri": "https://localhost:8080/"
        },
        "id": "WEo7QOCHgPSd",
        "outputId": "d0ed9e0f-fc46-44b2-b64a-01e0b9e078a4"
      },
      "source": [
        "client.list_database_names() "
      ],
      "execution_count": 15,
      "outputs": [
        {
          "output_type": "execute_result",
          "data": {
            "text/plain": [
              "['Parashar21', 'PraxisDB', 'admin', 'local']"
            ]
          },
          "metadata": {},
          "execution_count": 15
        }
      ]
    },
    {
      "cell_type": "markdown",
      "metadata": {
        "id": "XYb26s0ben-d"
      },
      "source": [
        "# Operations"
      ]
    },
    {
      "cell_type": "markdown",
      "metadata": {
        "id": "f6fmmd4-mD1Z"
      },
      "source": [
        "## Single Row Insert"
      ]
    },
    {
      "cell_type": "code",
      "metadata": {
        "id": "WWzXPNecesiQ"
      },
      "source": [
        "cDoc1 = {  'name' : 'Prithwis' ,                                     # String \n",
        "          'age' : '60',                                             # Integer\n",
        "          'gender' : 'Male',                                        # String \n",
        "          'likes_code' : True,                                      # Boolean\n",
        "          'address': {\n",
        "              'street' : 'InterGalactic Expressway',                          # String ( special character with escape \\ )\n",
        "              'number' : 42,                                        # Integer\n",
        "              'city' : 'JhumraTalaiya',                                   # String \n",
        "              'floor' : None,                                       # Null \n",
        "              'postalcode' : '700007',                              # String containing a number\n",
        "              },\n",
        "          'favouritefruits': ['apple','pineapple','orange']         # Array        \n",
        "       }"
      ],
      "execution_count": 13,
      "outputs": []
    },
    {
      "cell_type": "code",
      "metadata": {
        "colab": {
          "base_uri": "https://localhost:8080/"
        },
        "id": "yivR6yuSgYNg",
        "outputId": "e97ebb4f-6b38-4910-c35c-053a264c0aa3"
      },
      "source": [
        "# Define database, collection etc\n",
        "db = client.PraxisDB\n",
        "# Delete collection\n",
        "db.drop_collection('AddressBook')\n",
        "db.create_collection('AddressBook')       # Optional collection creation \n",
        "kollection3 = db.AddressBook                   # Set the collection to work with\n",
        "insert_result = kollection3.insert_one( cDoc1)\n",
        "insert_result.acknowledged    # Confirms that insert is successful"
      ],
      "execution_count": 14,
      "outputs": [
        {
          "output_type": "execute_result",
          "data": {
            "text/plain": [
              "True"
            ]
          },
          "metadata": {},
          "execution_count": 14
        }
      ]
    },
    {
      "cell_type": "code",
      "metadata": {
        "colab": {
          "base_uri": "https://localhost:8080/"
        },
        "id": "I-HuwnBJhdTp",
        "outputId": "d55d4924-2d75-4d60-d609-313808ac4893"
      },
      "source": [
        "insert_result.inserted_id     # Shows the document ID "
      ],
      "execution_count": null,
      "outputs": [
        {
          "output_type": "execute_result",
          "data": {
            "text/plain": [
              "ObjectId('62a0007d7e697611aef2665a')"
            ]
          },
          "metadata": {},
          "execution_count": 21
        }
      ]
    },
    {
      "cell_type": "code",
      "metadata": {
        "colab": {
          "base_uri": "https://localhost:8080/"
        },
        "id": "aIMKBCARi2aU",
        "outputId": "8da26b33-929a-41ab-b6af-62be892a88ff"
      },
      "source": [
        "db.AddressBook.find()  # returns a cursor"
      ],
      "execution_count": null,
      "outputs": [
        {
          "output_type": "execute_result",
          "data": {
            "text/plain": [
              "<pymongo.cursor.Cursor at 0x7faf88c65250>"
            ]
          },
          "metadata": {},
          "execution_count": 22
        }
      ]
    },
    {
      "cell_type": "code",
      "metadata": {
        "colab": {
          "base_uri": "https://localhost:8080/"
        },
        "id": "lHro1WFEi-JN",
        "outputId": "6345df1c-f7d4-4b63-955d-e616ce6ac51e"
      },
      "source": [
        "#c = db.AddressBook.find()\n",
        "c = kollection3.find()\n",
        "for crnt in c:\n",
        "    print(crnt)"
      ],
      "execution_count": 16,
      "outputs": [
        {
          "output_type": "stream",
          "name": "stdout",
          "text": [
            "{'_id': ObjectId('642e6a9b184670826d742a39'), 'name': 'Prithwis', 'age': '60', 'gender': 'Male', 'likes_code': True, 'address': {'street': 'InterGalactic Expressway', 'number': 42, 'city': 'JhumraTalaiya', 'floor': None, 'postalcode': '700007'}, 'favouritefruits': ['apple', 'pineapple', 'orange']}\n"
          ]
        }
      ]
    },
    {
      "cell_type": "code",
      "metadata": {
        "id": "7FjzfIlgjStF"
      },
      "source": [
        "cDoc2 = {  'name' : 'Charanpreet' ,                                     # String \n",
        "          'age' : '57',                                             # Integer\n",
        "          'gender' : 'Male',                                        # String \n",
        "          'likes_code' : False,                                      # Boolean\n",
        "          'address': {\n",
        "              'street' : None,                          # String ( special character with escape \\ )\n",
        "              'number' : None,                                        # Integer\n",
        "              'city' : 'Kolkata',                                   # String \n",
        "              'floor' : None,                                       # Null \n",
        "              'postalcode' : '700001',                              # String containing a number\n",
        "              },\n",
        "          'favouritefruits': ['apple','guava','mango']         # Array        \n",
        "       }"
      ],
      "execution_count": 17,
      "outputs": []
    },
    {
      "cell_type": "code",
      "metadata": {
        "colab": {
          "base_uri": "https://localhost:8080/"
        },
        "id": "TZl2ENI8l1u-",
        "outputId": "075a9aff-77ac-4fa9-9b94-69bdc46e2fa8"
      },
      "source": [
        "insert_result = kollection3.insert_one( cDoc2)\n",
        "insert_result.acknowledged    # Confirms that insert is successful"
      ],
      "execution_count": 18,
      "outputs": [
        {
          "output_type": "execute_result",
          "data": {
            "text/plain": [
              "True"
            ]
          },
          "metadata": {},
          "execution_count": 18
        }
      ]
    },
    {
      "cell_type": "code",
      "metadata": {
        "colab": {
          "base_uri": "https://localhost:8080/"
        },
        "id": "5WYPQluVl6wJ",
        "outputId": "16da782a-f7ba-4b11-b7cd-5b30979c58ce"
      },
      "source": [
        "#c = db.AddressBook.find()\n",
        "c = kollection3.find()\n",
        "for crnt in c:\n",
        "    print(crnt)"
      ],
      "execution_count": 19,
      "outputs": [
        {
          "output_type": "stream",
          "name": "stdout",
          "text": [
            "{'_id': ObjectId('642e6a9b184670826d742a39'), 'name': 'Prithwis', 'age': '60', 'gender': 'Male', 'likes_code': True, 'address': {'street': 'InterGalactic Expressway', 'number': 42, 'city': 'JhumraTalaiya', 'floor': None, 'postalcode': '700007'}, 'favouritefruits': ['apple', 'pineapple', 'orange']}\n",
            "{'_id': ObjectId('642e6ab5184670826d742a3a'), 'name': 'Charanpreet', 'age': '57', 'gender': 'Male', 'likes_code': False, 'address': {'street': None, 'number': None, 'city': 'Kolkata', 'floor': None, 'postalcode': '700001'}, 'favouritefruits': ['apple', 'guava', 'mango']}\n"
          ]
        }
      ]
    },
    {
      "cell_type": "code",
      "metadata": {
        "id": "6orcB9kK-fG4"
      },
      "source": [
        "cDoc3 = {  'name' : 'Narendra' ,                                     # String \n",
        "          'age' : '67',                                             # Integer\n",
        "          'gender' : 'Male',                                        # String \n",
        "          'likes_code' : False,                                      # Boolean\n",
        "          'address': {\n",
        "              'street' : None,                          # String ( special character with escape \\ )\n",
        "              'number' : None,                                        # Integer\n",
        "              'city' : 'Delhi',                                   # String \n",
        "              'floor' : None,                                       # Null \n",
        "              'postalcode' : '700001',                              # String containing a number\n",
        "              },\n",
        "          'favouritefruits': ['apple','guava','mango']         # Array        \n",
        "       }\n",
        "\n",
        "cDoc4 = {  'name' : 'Aditya' ,                                     # String \n",
        "          'age' : '47',                                             # Integer\n",
        "          'gender' : 'Male',                                        # String \n",
        "          'likes_code' : False,                                      # Boolean\n",
        "          'address': {\n",
        "              'street' : None,                          # String ( special character with escape \\ )\n",
        "              'number' : None,                                        # Integer\n",
        "              'city' : 'Lucknow',                                   # String \n",
        "              'floor' : None,                                       # Null \n",
        "              'postalcode' : '700001',                              # String containing a number\n",
        "              },\n",
        "          'favouritefruits': ['apple','guava','mango']         # Array        \n",
        "       }"
      ],
      "execution_count": 20,
      "outputs": []
    },
    {
      "cell_type": "code",
      "metadata": {
        "id": "E1G_ekmD-0LJ"
      },
      "source": [
        "insert_result = kollection3.insert_many([cDoc3,cDoc4])"
      ],
      "execution_count": null,
      "outputs": []
    },
    {
      "cell_type": "code",
      "metadata": {
        "id": "Iyzy_8Pr_U4V",
        "outputId": "5b494056-62da-4e31-c180-471d6504637c",
        "colab": {
          "base_uri": "https://localhost:8080/"
        }
      },
      "source": [
        "#c = db.AddressBook.find()\n",
        "c = kollection3.find()\n",
        "for crnt in c:\n",
        "    print(crnt)"
      ],
      "execution_count": null,
      "outputs": [
        {
          "output_type": "stream",
          "name": "stdout",
          "text": [
            "{'_id': ObjectId('62a0007d7e697611aef2665a'), 'name': 'Prithwis', 'age': '60', 'gender': 'Male', 'likes_code': True, 'address': {'street': 'Panditiya Road', 'number': 36, 'city': 'Kolkata', 'floor': None, 'postalcode': '700029'}, 'favouritefruits': ['apple', 'pineapple', 'orange']}\n",
            "{'_id': ObjectId('62a000907e697611aef2665b'), 'name': 'Charanpreet', 'age': '57', 'gender': 'Male', 'likes_code': False, 'address': {'street': None, 'number': None, 'city': 'Kolkata', 'floor': None, 'postalcode': '700001'}, 'favouritefruits': ['apple', 'guava', 'mango']}\n",
            "{'_id': ObjectId('62a0009d7e697611aef2665c'), 'name': 'Narendra', 'age': '67', 'gender': 'Male', 'likes_code': False, 'address': {'street': None, 'number': None, 'city': 'Delhi', 'floor': None, 'postalcode': '700001'}, 'favouritefruits': ['apple', 'guava', 'mango']}\n",
            "{'_id': ObjectId('62a0009d7e697611aef2665d'), 'name': 'Aditya', 'age': '47', 'gender': 'Male', 'likes_code': False, 'address': {'street': None, 'number': None, 'city': 'Lucknow', 'floor': None, 'postalcode': '700001'}, 'favouritefruits': ['apple', 'guava', 'mango']}\n"
          ]
        }
      ]
    },
    {
      "cell_type": "markdown",
      "metadata": {
        "id": "GPRzmxx0n_P2"
      },
      "source": [
        "## Read"
      ]
    },
    {
      "cell_type": "code",
      "metadata": {
        "colab": {
          "base_uri": "https://localhost:8080/"
        },
        "id": "T36P4fbYoG4o",
        "outputId": "8808f679-4bb3-4987-95ea-16427ee966fd"
      },
      "source": [
        "list(kollection3.find())"
      ],
      "execution_count": 21,
      "outputs": [
        {
          "output_type": "execute_result",
          "data": {
            "text/plain": [
              "[{'_id': ObjectId('642e6a9b184670826d742a39'),\n",
              "  'name': 'Prithwis',\n",
              "  'age': '60',\n",
              "  'gender': 'Male',\n",
              "  'likes_code': True,\n",
              "  'address': {'street': 'InterGalactic Expressway',\n",
              "   'number': 42,\n",
              "   'city': 'JhumraTalaiya',\n",
              "   'floor': None,\n",
              "   'postalcode': '700007'},\n",
              "  'favouritefruits': ['apple', 'pineapple', 'orange']},\n",
              " {'_id': ObjectId('642e6ab5184670826d742a3a'),\n",
              "  'name': 'Charanpreet',\n",
              "  'age': '57',\n",
              "  'gender': 'Male',\n",
              "  'likes_code': False,\n",
              "  'address': {'street': None,\n",
              "   'number': None,\n",
              "   'city': 'Kolkata',\n",
              "   'floor': None,\n",
              "   'postalcode': '700001'},\n",
              "  'favouritefruits': ['apple', 'guava', 'mango']}]"
            ]
          },
          "metadata": {},
          "execution_count": 21
        }
      ]
    },
    {
      "cell_type": "code",
      "metadata": {
        "colab": {
          "base_uri": "https://localhost:8080/"
        },
        "id": "h_Ud5w3PoR_J",
        "outputId": "5db345ef-5b86-4630-85c4-ca10dbdf9e60"
      },
      "source": [
        "#list ( collection.find( {'name' : 'Charanpreet' } ))   \n",
        "list ( kollection3.find( {'name' : 'Prithwis' } ))   "
      ],
      "execution_count": 22,
      "outputs": [
        {
          "output_type": "execute_result",
          "data": {
            "text/plain": [
              "[{'_id': ObjectId('642e6a9b184670826d742a39'),\n",
              "  'name': 'Prithwis',\n",
              "  'age': '60',\n",
              "  'gender': 'Male',\n",
              "  'likes_code': True,\n",
              "  'address': {'street': 'InterGalactic Expressway',\n",
              "   'number': 42,\n",
              "   'city': 'JhumraTalaiya',\n",
              "   'floor': None,\n",
              "   'postalcode': '700007'},\n",
              "  'favouritefruits': ['apple', 'pineapple', 'orange']}]"
            ]
          },
          "metadata": {},
          "execution_count": 22
        }
      ]
    },
    {
      "cell_type": "code",
      "metadata": {
        "colab": {
          "base_uri": "https://localhost:8080/"
        },
        "id": "y_id749PomLI",
        "outputId": "a37a7167-9742-4abc-89d0-bea8a756716f"
      },
      "source": [
        "list ( kollection3.find( {'address.postalcode' : '700029' } ))             # find, can use one key or more "
      ],
      "execution_count": null,
      "outputs": [
        {
          "output_type": "execute_result",
          "data": {
            "text/plain": [
              "[{'_id': ObjectId('62a0007d7e697611aef2665a'),\n",
              "  'address': {'city': 'Kolkata',\n",
              "   'floor': None,\n",
              "   'number': 36,\n",
              "   'postalcode': '700029',\n",
              "   'street': 'Panditiya Road'},\n",
              "  'age': '60',\n",
              "  'favouritefruits': ['apple', 'pineapple', 'orange'],\n",
              "  'gender': 'Male',\n",
              "  'likes_code': True,\n",
              "  'name': 'Prithwis'}]"
            ]
          },
          "metadata": {},
          "execution_count": 32
        }
      ]
    },
    {
      "cell_type": "markdown",
      "metadata": {
        "id": "IBXAOYdrq0VY"
      },
      "source": [
        "## Update"
      ]
    },
    {
      "cell_type": "code",
      "metadata": {
        "colab": {
          "base_uri": "https://localhost:8080/"
        },
        "id": "wPzOXNXrq2Zh",
        "outputId": "61b80a2f-d03e-4610-a8f9-c1e1ba789ab7"
      },
      "source": [
        "## Update an existing document\n",
        "update_result = kollection3.update_one( \n",
        "    {'name' : 'Prithwis'}, \n",
        "    {'$set' : { 'age' : 101 }} ) \n",
        "\n",
        "list (kollection3.find( {'name' : 'Prithwis' } ))\n",
        "\n",
        "# Alternative : collection.find_one_and_update( {'name' : Name}, {'$set' : { 'age' : 30 }} ) "
      ],
      "execution_count": null,
      "outputs": [
        {
          "output_type": "execute_result",
          "data": {
            "text/plain": [
              "[{'_id': ObjectId('62a0007d7e697611aef2665a'),\n",
              "  'address': {'city': 'Kolkata',\n",
              "   'floor': None,\n",
              "   'number': 36,\n",
              "   'postalcode': '700029',\n",
              "   'street': 'Panditiya Road'},\n",
              "  'age': 101,\n",
              "  'favouritefruits': ['apple', 'pineapple', 'orange'],\n",
              "  'gender': 'Male',\n",
              "  'likes_code': True,\n",
              "  'name': 'Prithwis'}]"
            ]
          },
          "metadata": {},
          "execution_count": 33
        }
      ]
    },
    {
      "cell_type": "code",
      "metadata": {
        "colab": {
          "base_uri": "https://localhost:8080/"
        },
        "id": "-Ne8eOS2rW-Y",
        "outputId": "5fe14295-d2c2-4c1d-84ad-e0796cd67874"
      },
      "source": [
        "## Update an existing document\n",
        "update_result = kollection3.update_one( \n",
        "    {'name' : 'Prithwis'}, \n",
        "    {'$set' : { 'name' : 'Prithwis Mukerjee' }} ) \n",
        "\n",
        "list (kollection3.find( {'name' : 'Prithwis Mukerjee' } ))"
      ],
      "execution_count": null,
      "outputs": [
        {
          "output_type": "execute_result",
          "data": {
            "text/plain": [
              "[{'_id': ObjectId('62a0007d7e697611aef2665a'),\n",
              "  'address': {'city': 'Kolkata',\n",
              "   'floor': None,\n",
              "   'number': 36,\n",
              "   'postalcode': '700029',\n",
              "   'street': 'Panditiya Road'},\n",
              "  'age': 101,\n",
              "  'favouritefruits': ['apple', 'pineapple', 'orange'],\n",
              "  'gender': 'Male',\n",
              "  'likes_code': True,\n",
              "  'name': 'Prithwis Mukerjee'}]"
            ]
          },
          "metadata": {},
          "execution_count": 34
        }
      ]
    },
    {
      "cell_type": "markdown",
      "source": [
        "## Delete and clean up "
      ],
      "metadata": {
        "id": "fimVW266AwQm"
      }
    },
    {
      "cell_type": "code",
      "source": [
        "client.list_database_names() "
      ],
      "metadata": {
        "id": "LDivjQpABAL3",
        "outputId": "3219aeee-8b2f-4b3d-9c24-fa632cfc4bb0",
        "colab": {
          "base_uri": "https://localhost:8080/"
        }
      },
      "execution_count": 23,
      "outputs": [
        {
          "output_type": "execute_result",
          "data": {
            "text/plain": [
              "['Parashar21', 'PraxisDB', 'admin', 'local']"
            ]
          },
          "metadata": {},
          "execution_count": 23
        }
      ]
    },
    {
      "cell_type": "code",
      "source": [
        "db = client.PraxisDB\n",
        "# Show Collections. Query returns a Cursor [ ] ,  list it to see the content\n",
        "list (db.list_collections())\n",
        "# empty list '[]' means that there are not collections in database"
      ],
      "metadata": {
        "id": "G6Jc88ABBUTn",
        "outputId": "bfa661a8-73f9-49b9-95c1-2d31607b5051",
        "colab": {
          "base_uri": "https://localhost:8080/"
        }
      },
      "execution_count": 24,
      "outputs": [
        {
          "output_type": "execute_result",
          "data": {
            "text/plain": [
              "[{'name': 'AddressBook',\n",
              "  'type': 'collection',\n",
              "  'options': {},\n",
              "  'info': {'readOnly': False,\n",
              "   'uuid': Binary(b'\\r\\xf1\\x0f\\x8b\\xa8\\x9bLQ\\x98<\\xb3\\xed\\x10\\x958h', 4)},\n",
              "  'idIndex': {'v': 2, 'key': {'_id': 1}, 'name': '_id_'}}]"
            ]
          },
          "metadata": {},
          "execution_count": 24
        }
      ]
    },
    {
      "cell_type": "code",
      "source": [
        "# Delete collection\n",
        "db.drop_collection('AddressBook')"
      ],
      "metadata": {
        "id": "eLUi_5HFAzFz",
        "outputId": "b9cd87f2-a186-4042-e874-51094260a396",
        "colab": {
          "base_uri": "https://localhost:8080/"
        }
      },
      "execution_count": 25,
      "outputs": [
        {
          "output_type": "execute_result",
          "data": {
            "text/plain": [
              "{'nIndexesWas': 1,\n",
              " 'ns': 'PraxisDB.AddressBook',\n",
              " 'ok': 1.0,\n",
              " '$clusterTime': {'clusterTime': Timestamp(1680763628, 4),\n",
              "  'signature': {'hash': b'\\xf2\\xf3\\xe4\\x84U\\x87I\"Gx\\xba\\xc9w{\\x8dO\\xc4\\x1b\\x98\\xff',\n",
              "   'keyId': 7153350039593549829}},\n",
              " 'operationTime': Timestamp(1680763628, 4)}"
            ]
          },
          "metadata": {},
          "execution_count": 25
        }
      ]
    },
    {
      "cell_type": "code",
      "source": [
        "client.list_database_names() "
      ],
      "metadata": {
        "id": "Gq2mWUmqBd5F",
        "outputId": "2e11f42f-593e-44d9-f84b-22a0a0d456dd",
        "colab": {
          "base_uri": "https://localhost:8080/"
        }
      },
      "execution_count": 26,
      "outputs": [
        {
          "output_type": "execute_result",
          "data": {
            "text/plain": [
              "['Parashar21', 'admin', 'local']"
            ]
          },
          "metadata": {},
          "execution_count": 26
        }
      ]
    },
    {
      "cell_type": "markdown",
      "metadata": {
        "id": "sAd5JaUOZOq1"
      },
      "source": [
        "## Additional stuff \n",
        "https://www.analyticsvidhya.com/blog/2020/02/mongodb-in-python-tutorial-for-beginners-using-pymongo/"
      ]
    },
    {
      "cell_type": "markdown",
      "metadata": {
        "id": "izDtEXYmYBwF"
      },
      "source": [
        "#Chronobooks <br>\n",
        "Two science fiction novels by Prithwis Mukerjee. A dystopian Earth. A technocratic society managed by artificial intelligence. Escape and epiphany on Mars. Can man and machine, carbon and silicon explore and escape into other dimensions of existence? An Indic perspective rooted in Advaita Vedanta and the Divine Feminine.  [More information](http://bit.ly/chronobooks) <br>\n",
        "![alt text](https://github.com/Praxis-QR/RDWH/raw/main/images/CTCYFooter-1.png)"
      ]
    }
  ]
}