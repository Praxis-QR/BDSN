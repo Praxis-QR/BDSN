{
  "nbformat": 4,
  "nbformat_minor": 0,
  "metadata": {
    "colab": {
      "name": "Pipeline #2  - Diabetes Prediction",
      "provenance": [],
      "collapsed_sections": [],
      "toc_visible": true,
      "include_colab_link": true
    },
    "kernelspec": {
      "name": "python3",
      "display_name": "Python 3"
    }
  },
  "cells": [
    {
      "cell_type": "markdown",
      "metadata": {
        "id": "view-in-github",
        "colab_type": "text"
      },
      "source": [
        "<a href=\"https://colab.research.google.com/github/Praxis-QR/BDSN/blob/main/ML_Pipeline_2_Diabetes_Prediction.ipynb\" target=\"_parent\"><img src=\"https://colab.research.google.com/assets/colab-badge.svg\" alt=\"Open In Colab\"/></a>"
      ]
    },
    {
      "cell_type": "markdown",
      "source": [
        "![CC-BY-SA](https://licensebuttons.net/l/by-sa/3.0/88x31.png)<br>\n",
        "<hr>\n",
        "\n",
        "![alt text](http://1.bp.blogspot.com/-nqAGzznZQNo/UwS8rxjfXeI/AAAAAAAABTA/nunmRLowpps/s1600/PraxisLogo.gif)<br>\n",
        "[Data Science Program](http://praxis.ac.in/Programs/business-analytics/)\n",
        "\n",
        "<hr>\n",
        "\n",
        "[Prithwis Mukerjee](http://www.yantrajaal.com)<br>"
      ],
      "metadata": {
        "id": "6I78TNTj_wDe"
      }
    },
    {
      "cell_type": "markdown",
      "source": [
        "#Common Pipelines for Logistic Regression, Random Forest, Gradient Boost"
      ],
      "metadata": {
        "id": "VGKh6mTP0fPy"
      }
    },
    {
      "cell_type": "markdown",
      "source": [
        "#Spark Install"
      ],
      "metadata": {
        "id": "Mor2U8YP1eMo"
      }
    },
    {
      "cell_type": "code",
      "metadata": {
        "id": "TbGuxmEWq0Zi",
        "colab": {
          "base_uri": "https://localhost:8080/"
        },
        "outputId": "06a168f9-574d-4122-b26c-f85866095148"
      },
      "source": [
        "!pip3 -q install pyspark\n",
        "from pyspark.sql import SparkSession\n",
        "spark = SparkSession.builder.appName('Praxis').master(\"local[*]\").getOrCreate()\n",
        "sc = spark.sparkContext\n",
        "#sc"
      ],
      "execution_count": 1,
      "outputs": [
        {
          "output_type": "stream",
          "name": "stdout",
          "text": [
            "\u001b[K     |████████████████████████████████| 281.4 MB 33 kB/s \n",
            "\u001b[K     |████████████████████████████████| 198 kB 51.9 MB/s \n",
            "\u001b[?25h  Building wheel for pyspark (setup.py) ... \u001b[?25l\u001b[?25hdone\n"
          ]
        }
      ]
    },
    {
      "cell_type": "markdown",
      "source": [
        "## Imports"
      ],
      "metadata": {
        "id": "jmOtXSNXExHv"
      }
    },
    {
      "cell_type": "code",
      "source": [
        "from pyspark.sql.functions import mean\n",
        "from pyspark.ml.feature import (VectorAssembler,OneHotEncoder, StringIndexer)\n",
        "from pyspark.ml import Pipeline\n",
        "from pyspark.ml.classification import LogisticRegression\n",
        "from pyspark.ml.classification import RandomForestClassifier\n",
        "from pyspark.ml.classification import GBTClassifier\n",
        "from pyspark.ml.evaluation import MulticlassClassificationEvaluator\n",
        "from pyspark.ml.evaluation import BinaryClassificationEvaluator\n",
        "from pyspark.ml import PipelineModel"
      ],
      "metadata": {
        "id": "j1cE0WaBEzGt"
      },
      "execution_count": 2,
      "outputs": []
    },
    {
      "cell_type": "markdown",
      "metadata": {
        "id": "egmxIzPs1mdY"
      },
      "source": [
        "# Loading data"
      ]
    },
    {
      "cell_type": "code",
      "source": [
        "!wget -O heart.csv -q https://raw.githubusercontent.com/Praxis-QR/BDSN/main/Documents/BigML_Heart_Dataset.csv"
      ],
      "metadata": {
        "id": "zH9wlX56A1nR"
      },
      "execution_count": 3,
      "outputs": []
    },
    {
      "cell_type": "code",
      "metadata": {
        "id": "MdTpklFXrNIO",
        "colab": {
          "base_uri": "https://localhost:8080/"
        },
        "outputId": "55a21090-304d-452a-c38a-d6f186a7678d"
      },
      "source": [
        "#loading dataset \n",
        "heartDF = spark.read.csv('heart.csv', inferSchema=True,header=True)\n",
        "heartDF.show(5)"
      ],
      "execution_count": 4,
      "outputs": [
        {
          "output_type": "stream",
          "name": "stdout",
          "text": [
            "+------+----+------------+-------------+---------------+-----+--------+\n",
            "|gender| age|hypertension|heart_disease|smoking_history|  BMI|diabetes|\n",
            "+------+----+------------+-------------+---------------+-----+--------+\n",
            "|Female|80.0|           0|            1|          never|25.19|       0|\n",
            "|Female|54.0|           0|            0|           null| null|       0|\n",
            "|  Male|28.0|           0|            0|          never| null|       0|\n",
            "|Female|36.0|           0|            0|        current|23.45|       0|\n",
            "|  Male|76.0|           1|            1|        current|20.14|       0|\n",
            "+------+----+------------+-------------+---------------+-----+--------+\n",
            "only showing top 5 rows\n",
            "\n"
          ]
        }
      ]
    },
    {
      "cell_type": "markdown",
      "metadata": {
        "id": "8plUnE7W1s_U"
      },
      "source": [
        "# Data Quick Look\n"
      ]
    },
    {
      "cell_type": "code",
      "metadata": {
        "colab": {
          "base_uri": "https://localhost:8080/"
        },
        "id": "Q6Q3WzOTP8qo",
        "outputId": "acf919dd-cbfb-4dd9-aec2-35f33d94d375"
      },
      "source": [
        "print((heartDF.count(),len(heartDF.columns)))"
      ],
      "execution_count": 5,
      "outputs": [
        {
          "output_type": "stream",
          "name": "stdout",
          "text": [
            "(100000, 7)\n"
          ]
        }
      ]
    },
    {
      "cell_type": "code",
      "metadata": {
        "colab": {
          "base_uri": "https://localhost:8080/"
        },
        "id": "O9VO-tjZrbIz",
        "outputId": "97bc3599-1b2b-4c44-bc7e-ee03bc12a012"
      },
      "source": [
        "heartDF.printSchema()"
      ],
      "execution_count": 6,
      "outputs": [
        {
          "output_type": "stream",
          "name": "stdout",
          "text": [
            "root\n",
            " |-- gender: string (nullable = true)\n",
            " |-- age: double (nullable = true)\n",
            " |-- hypertension: integer (nullable = true)\n",
            " |-- heart_disease: integer (nullable = true)\n",
            " |-- smoking_history: string (nullable = true)\n",
            " |-- BMI: double (nullable = true)\n",
            " |-- diabetes: integer (nullable = true)\n",
            "\n"
          ]
        }
      ]
    },
    {
      "cell_type": "code",
      "metadata": {
        "colab": {
          "base_uri": "https://localhost:8080/"
        },
        "id": "f0b_I_fyQ3AS",
        "outputId": "b81a1ae4-cf92-41bb-adeb-b5737438e789"
      },
      "source": [
        "#descriptive analysis \n",
        "heartDF.describe().show()"
      ],
      "execution_count": 7,
      "outputs": [
        {
          "output_type": "stream",
          "name": "stdout",
          "text": [
            "+-------+------+-----------------+------------------+------------------+---------------+------------------+-------------------+\n",
            "|summary|gender|              age|      hypertension|     heart_disease|smoking_history|               BMI|           diabetes|\n",
            "+-------+------+-----------------+------------------+------------------+---------------+------------------+-------------------+\n",
            "|  count|100000|           100000|            100000|            100000|          64184|             74556|             100000|\n",
            "|   mean|  null|41.88585600000013|           0.07485|           0.03942|           null|27.321028891034764|              0.085|\n",
            "| stddev|  null|22.51683987161704|0.2631504702289171|0.1945930169980986|           null| 7.686295651045002|0.27888308976661896|\n",
            "|    min|Female|             0.08|                 0|                 0|        current|             10.01|                  0|\n",
            "|    max| Other|             80.0|                 1|                 1|    not current|             95.69|                  1|\n",
            "+-------+------+-----------------+------------------+------------------+---------------+------------------+-------------------+\n",
            "\n"
          ]
        }
      ]
    },
    {
      "cell_type": "code",
      "metadata": {
        "colab": {
          "base_uri": "https://localhost:8080/"
        },
        "id": "LkpZSPshgxs8",
        "outputId": "6968e31b-ecab-49a6-c8f0-00d4c59eef68"
      },
      "source": [
        "#diabetic and non-diabetic count \n",
        "heartDF.groupBy('diabetes').count().show()"
      ],
      "execution_count": 8,
      "outputs": [
        {
          "output_type": "stream",
          "name": "stdout",
          "text": [
            "+--------+-----+\n",
            "|diabetes|count|\n",
            "+--------+-----+\n",
            "|       1| 8500|\n",
            "|       0|91500|\n",
            "+--------+-----+\n",
            "\n"
          ]
        }
      ]
    },
    {
      "cell_type": "markdown",
      "source": [
        "## Using Spark SQL"
      ],
      "metadata": {
        "id": "WkA9twc45pMv"
      }
    },
    {
      "cell_type": "code",
      "metadata": {
        "id": "6LGBAFk5gyGW"
      },
      "source": [
        "# create DataFrame as a temporary view\n",
        "heartDF.createOrReplaceTempView('heart_T')"
      ],
      "execution_count": 9,
      "outputs": []
    },
    {
      "cell_type": "code",
      "metadata": {
        "colab": {
          "base_uri": "https://localhost:8080/"
        },
        "id": "YA0zcaRhSAxM",
        "outputId": "e279ba87-bd27-4d54-9220-3ccb40584c32"
      },
      "source": [
        "#group by gender \n",
        "spark.sql(\\\n",
        "          \"SELECT \\\n",
        "           gender, count(gender) as count_gender, \\\n",
        "           count(gender)*100/sum(count(gender)) over() as percent  \\\n",
        "           FROM heart_T GROUP BY gender\" \\\n",
        "           ).show()"
      ],
      "execution_count": 10,
      "outputs": [
        {
          "output_type": "stream",
          "name": "stdout",
          "text": [
            "+------+------------+-------+\n",
            "|gender|count_gender|percent|\n",
            "+------+------------+-------+\n",
            "|Female|       58552| 58.552|\n",
            "| Other|          18|  0.018|\n",
            "|  Male|       41430|  41.43|\n",
            "+------+------------+-------+\n",
            "\n"
          ]
        }
      ]
    },
    {
      "cell_type": "code",
      "metadata": {
        "colab": {
          "base_uri": "https://localhost:8080/"
        },
        "id": "wXorVtn-gyok",
        "outputId": "3469579b-ca2f-46b5-aa57-3d77692750ab"
      },
      "source": [
        "#group by gender having diabetes \n",
        "spark.sql(\\\n",
        "          \"SELECT gender, count(gender), \\\n",
        "          round((COUNT(gender) * 100.0) /(SELECT count(gender) FROM heart_T ),2) as percentage \\\n",
        "          FROM heart_T WHERE diabetes = '1'  GROUP BY gender\"\\\n",
        "          ).show()"
      ],
      "execution_count": 11,
      "outputs": [
        {
          "output_type": "stream",
          "name": "stdout",
          "text": [
            "+------+-------------+----------+\n",
            "|gender|count(gender)|percentage|\n",
            "+------+-------------+----------+\n",
            "|Female|         4461|      4.46|\n",
            "|  Male|         4039|      4.04|\n",
            "+------+-------------+----------+\n",
            "\n"
          ]
        }
      ]
    },
    {
      "cell_type": "code",
      "metadata": {
        "colab": {
          "base_uri": "https://localhost:8080/"
        },
        "id": "TfLuYmyMTuph",
        "outputId": "8804be91-cc1b-4a11-9156-9fab81f91b99"
      },
      "source": [
        "#group by gender having heart disease \n",
        "spark.sql(\\\n",
        "          \"SELECT gender, count(gender), \\\n",
        "          round((COUNT(gender) * 100.0) /(SELECT count(gender) FROM heart_T ),2) as percentage \\\n",
        "          FROM heart_T WHERE heart_disease = '1'  GROUP BY gender\"\\\n",
        "          ).show()"
      ],
      "execution_count": 12,
      "outputs": [
        {
          "output_type": "stream",
          "name": "stdout",
          "text": [
            "+------+-------------+----------+\n",
            "|gender|count(gender)|percentage|\n",
            "+------+-------------+----------+\n",
            "|Female|         1562|      1.56|\n",
            "|  Male|         2380|      2.38|\n",
            "+------+-------------+----------+\n",
            "\n"
          ]
        }
      ]
    },
    {
      "cell_type": "code",
      "metadata": {
        "colab": {
          "base_uri": "https://localhost:8080/"
        },
        "id": "eMePTsdrUDV0",
        "outputId": "972f3a2d-7ba3-48e2-a896-8174b833cec1"
      },
      "source": [
        "#group by gender having hypertension \n",
        "spark.sql(\\\n",
        "          \"SELECT gender, count(gender), \\\n",
        "          round((COUNT(gender) * 100.0) /(SELECT count(gender) FROM heart_T ),2) as percentage \\\n",
        "          FROM heart_T WHERE hypertension = '1'  GROUP BY gender\"\\\n",
        "          ).show()"
      ],
      "execution_count": 13,
      "outputs": [
        {
          "output_type": "stream",
          "name": "stdout",
          "text": [
            "+------+-------------+----------+\n",
            "|gender|count(gender)|percentage|\n",
            "+------+-------------+----------+\n",
            "|Female|         4197|      4.20|\n",
            "|  Male|         3288|      3.29|\n",
            "+------+-------------+----------+\n",
            "\n"
          ]
        }
      ]
    },
    {
      "cell_type": "code",
      "metadata": {
        "colab": {
          "base_uri": "https://localhost:8080/"
        },
        "id": "mD1gYYCKT5cp",
        "outputId": "448bb0bd-6682-4f41-85e6-3eefeb216bf3"
      },
      "source": [
        "#count of different types of smoker\n",
        "heartDF.groupBy('smoking_history').count().show()"
      ],
      "execution_count": 14,
      "outputs": [
        {
          "output_type": "stream",
          "name": "stdout",
          "text": [
            "+---------------+-----+\n",
            "|smoking_history|count|\n",
            "+---------------+-----+\n",
            "|    not current| 6447|\n",
            "|           null|35816|\n",
            "|         former| 9352|\n",
            "|        current| 9286|\n",
            "|          never|35095|\n",
            "|           ever| 4004|\n",
            "+---------------+-----+\n",
            "\n"
          ]
        }
      ]
    },
    {
      "cell_type": "code",
      "source": [
        "#group by gender having hypertension \n",
        "spark.sql(\\\n",
        "          \"SELECT smoking_history, count(smoking_history) as count, \\\n",
        "          round((COUNT(smoking_history) * 100.0) /(SELECT count(smoking_history) FROM heart_T ),2) as percentage \\\n",
        "          FROM heart_T   GROUP BY smoking_history\"\\\n",
        "          ).show()"
      ],
      "metadata": {
        "colab": {
          "base_uri": "https://localhost:8080/"
        },
        "id": "oVU9FzMdDV_k",
        "outputId": "2f60bb09-f1dd-4cdc-97d5-a4b5f5338f4a"
      },
      "execution_count": 15,
      "outputs": [
        {
          "output_type": "stream",
          "name": "stdout",
          "text": [
            "+---------------+-----+----------+\n",
            "|smoking_history|count|percentage|\n",
            "+---------------+-----+----------+\n",
            "|    not current| 6447|     10.04|\n",
            "|           null|    0|      0.00|\n",
            "|         former| 9352|     14.57|\n",
            "|        current| 9286|     14.47|\n",
            "|          never|35095|     54.68|\n",
            "|           ever| 4004|      6.24|\n",
            "+---------------+-----+----------+\n",
            "\n"
          ]
        }
      ]
    },
    {
      "cell_type": "code",
      "metadata": {
        "colab": {
          "base_uri": "https://localhost:8080/"
        },
        "id": "SCzLBuVCgy7W",
        "outputId": "7cf0c456-3aec-4022-eec9-cf7a341fdaa2"
      },
      "source": [
        "#Age vs Diabetes \n",
        "spark.sql(\"SELECT age, count(age) as age_count FROM heart_T WHERE diabetes == 1 GROUP BY age ORDER BY age_count DESC\").show()"
      ],
      "execution_count": 16,
      "outputs": [
        {
          "output_type": "stream",
          "name": "stdout",
          "text": [
            "+----+---------+\n",
            "| age|age_count|\n",
            "+----+---------+\n",
            "|80.0|     1024|\n",
            "|62.0|      258|\n",
            "|61.0|      250|\n",
            "|66.0|      241|\n",
            "|67.0|      236|\n",
            "|65.0|      234|\n",
            "|57.0|      233|\n",
            "|59.0|      216|\n",
            "|60.0|      213|\n",
            "|64.0|      211|\n",
            "|68.0|      208|\n",
            "|69.0|      206|\n",
            "|58.0|      205|\n",
            "|63.0|      202|\n",
            "|55.0|      201|\n",
            "|71.0|      192|\n",
            "|54.0|      191|\n",
            "|56.0|      187|\n",
            "|74.0|      184|\n",
            "|70.0|      183|\n",
            "+----+---------+\n",
            "only showing top 20 rows\n",
            "\n"
          ]
        }
      ]
    },
    {
      "cell_type": "code",
      "metadata": {
        "id": "QpGVreKR3a7s",
        "colab": {
          "base_uri": "https://localhost:8080/"
        },
        "outputId": "3ee050e8-1bf6-4197-b5d0-0d9c6d208a7b"
      },
      "source": [
        "#count of diabetic patients over age 50 \n",
        "heartDF.filter((heartDF['diabetes'] == 1) & (heartDF['age'] > '50')).count()\n"
      ],
      "execution_count": 17,
      "outputs": [
        {
          "output_type": "execute_result",
          "data": {
            "text/plain": [
              "6650"
            ]
          },
          "metadata": {},
          "execution_count": 17
        }
      ]
    },
    {
      "cell_type": "markdown",
      "metadata": {
        "id": "RouBCJAC1_SH"
      },
      "source": [
        "# Data Preprocessing"
      ]
    },
    {
      "cell_type": "code",
      "metadata": {
        "id": "AtANMhQmBtqs",
        "colab": {
          "base_uri": "https://localhost:8080/"
        },
        "outputId": "1fffbdac-5e61-4e4d-c3ae-d985c1f5fde2"
      },
      "source": [
        "#checking null values\n",
        "heartDF.toPandas().isnull().sum()"
      ],
      "execution_count": 9,
      "outputs": [
        {
          "output_type": "execute_result",
          "data": {
            "text/plain": [
              "gender                 0\n",
              "age                    0\n",
              "hypertension           0\n",
              "heart_disease          0\n",
              "smoking_history    35816\n",
              "BMI                25444\n",
              "diabetes               0\n",
              "dtype: int64"
            ]
          },
          "metadata": {},
          "execution_count": 9
        }
      ]
    },
    {
      "cell_type": "code",
      "metadata": {
        "id": "8bi2UqkNGVty"
      },
      "source": [
        "# fill in missing values for smoking_history\n",
        "heartDF2 = heartDF.na.fill('No Info', subset=['smoking_history'])\n",
        "# fill in miss values for BMI with mean\n",
        "\n",
        "cmean = heartDF2.select(mean(heartDF2['BMI'])).collect()\n",
        "meanBMI = cmean[0][0]\n",
        "heartDF2 = heartDF2.na.fill(meanBMI,['BMI'])"
      ],
      "execution_count": 11,
      "outputs": []
    },
    {
      "cell_type": "code",
      "metadata": {
        "id": "RdUNDmw89DU9",
        "colab": {
          "base_uri": "https://localhost:8080/"
        },
        "outputId": "07f203ca-8b29-4f38-c339-db2190fdaf7c"
      },
      "source": [
        "heartDF2.describe().show()\n",
        "# note, mean BMI has not changed, but std of BMI has reduced, as expected"
      ],
      "execution_count": 12,
      "outputs": [
        {
          "output_type": "stream",
          "name": "stdout",
          "text": [
            "+-------+------+-----------------+------------------+------------------+---------------+------------------+-------------------+\n",
            "|summary|gender|              age|      hypertension|     heart_disease|smoking_history|               BMI|           diabetes|\n",
            "+-------+------+-----------------+------------------+------------------+---------------+------------------+-------------------+\n",
            "|  count|100000|           100000|            100000|            100000|         100000|            100000|             100000|\n",
            "|   mean|  null|41.88585600000013|           0.07485|           0.03942|           null|27.321028891031315|              0.085|\n",
            "| stddev|  null|22.51683987161704|0.2631504702289171|0.1945930169980986|           null|  6.63678340151884|0.27888308976661896|\n",
            "|    min|Female|             0.08|                 0|                 0|        No Info|             10.01|                  0|\n",
            "|    max| Other|             80.0|                 1|                 1|    not current|             95.69|                  1|\n",
            "+-------+------+-----------------+------------------+------------------+---------------+------------------+-------------------+\n",
            "\n"
          ]
        }
      ]
    },
    {
      "cell_type": "code",
      "metadata": {
        "id": "WmoC9764D6su",
        "colab": {
          "base_uri": "https://localhost:8080/"
        },
        "outputId": "9c7c41cd-b78c-4ee9-ace2-5975ba040b80"
      },
      "source": [
        "heartDF2.toPandas().isnull().sum()"
      ],
      "execution_count": 13,
      "outputs": [
        {
          "output_type": "execute_result",
          "data": {
            "text/plain": [
              "gender             0\n",
              "age                0\n",
              "hypertension       0\n",
              "heart_disease      0\n",
              "smoking_history    0\n",
              "BMI                0\n",
              "diabetes           0\n",
              "dtype: int64"
            ]
          },
          "metadata": {},
          "execution_count": 13
        }
      ]
    },
    {
      "cell_type": "code",
      "metadata": {
        "id": "4Ee0UIcREOOl",
        "colab": {
          "base_uri": "https://localhost:8080/"
        },
        "outputId": "0ce63b45-3d6a-4f82-883c-4f7ab64fea52"
      },
      "source": [
        "heartDF2.dtypes"
      ],
      "execution_count": 14,
      "outputs": [
        {
          "output_type": "execute_result",
          "data": {
            "text/plain": [
              "[('gender', 'string'),\n",
              " ('age', 'double'),\n",
              " ('hypertension', 'int'),\n",
              " ('heart_disease', 'int'),\n",
              " ('smoking_history', 'string'),\n",
              " ('BMI', 'double'),\n",
              " ('diabetes', 'int')]"
            ]
          },
          "metadata": {},
          "execution_count": 14
        }
      ]
    },
    {
      "cell_type": "markdown",
      "metadata": {
        "id": "s6v6Unpw22t3"
      },
      "source": [
        "# Serial Data Transformations"
      ]
    },
    {
      "cell_type": "markdown",
      "source": [
        "## String Indexer"
      ],
      "metadata": {
        "id": "dd-KV7QXKe-7"
      }
    },
    {
      "cell_type": "code",
      "metadata": {
        "id": "1reLB7VX3a0P"
      },
      "source": [
        "# we have two categorical varibales gender and smoking history \n",
        "# indexing all categorical columns in the dataset\n",
        "\n",
        "GenderIndexer = StringIndexer(inputCol=\"gender\", outputCol=\"genderIndex\")\n",
        "SmokeHistIndexer = StringIndexer(inputCol=\"smoking_history\", outputCol=\"smoking_statusIndex\")"
      ],
      "execution_count": 15,
      "outputs": []
    },
    {
      "cell_type": "code",
      "source": [
        "heartDF2.show(5)"
      ],
      "metadata": {
        "colab": {
          "base_uri": "https://localhost:8080/"
        },
        "id": "O4xgyXfeHN4d",
        "outputId": "061fee3d-31e0-49f1-8d67-682f94ef3656"
      },
      "execution_count": 66,
      "outputs": [
        {
          "output_type": "stream",
          "name": "stdout",
          "text": [
            "+------+----+------------+-------------+---------------+------------------+--------+\n",
            "|gender| age|hypertension|heart_disease|smoking_history|               BMI|diabetes|\n",
            "+------+----+------------+-------------+---------------+------------------+--------+\n",
            "|Female|80.0|           0|            1|          never|             25.19|       0|\n",
            "|Female|54.0|           0|            0|        No Info|27.321028891034764|       0|\n",
            "|  Male|28.0|           0|            0|          never|27.321028891034764|       0|\n",
            "|Female|36.0|           0|            0|        current|             23.45|       0|\n",
            "|  Male|76.0|           1|            1|        current|             20.14|       0|\n",
            "+------+----+------------+-------------+---------------+------------------+--------+\n",
            "only showing top 5 rows\n",
            "\n"
          ]
        }
      ]
    },
    {
      "cell_type": "code",
      "source": [
        "# Using any one String Indexer\n",
        "#GenderIndexer.fit(heartDF2).transform(heartDF2).show()\n",
        "SmokeHistIndexer.fit(heartDF2).transform(heartDF2).show(5)\n",
        "#sModel = SmokeHistIndexer.fit(heartDF2)\n",
        "#sModel"
      ],
      "metadata": {
        "colab": {
          "base_uri": "https://localhost:8080/"
        },
        "id": "cXNlx6mDHVz1",
        "outputId": "bd9773f8-8ca1-43eb-ee39-22da2e96cba0"
      },
      "execution_count": 22,
      "outputs": [
        {
          "output_type": "stream",
          "name": "stdout",
          "text": [
            "+------+----+------------+-------------+---------------+------------------+--------+-------------------+\n",
            "|gender| age|hypertension|heart_disease|smoking_history|               BMI|diabetes|smoking_statusIndex|\n",
            "+------+----+------------+-------------+---------------+------------------+--------+-------------------+\n",
            "|Female|80.0|           0|            1|          never|             25.19|       0|                1.0|\n",
            "|Female|54.0|           0|            0|        No Info|27.321028891034764|       0|                0.0|\n",
            "|  Male|28.0|           0|            0|          never|27.321028891034764|       0|                1.0|\n",
            "|Female|36.0|           0|            0|        current|             23.45|       0|                3.0|\n",
            "|  Male|76.0|           1|            1|        current|             20.14|       0|                3.0|\n",
            "+------+----+------------+-------------+---------------+------------------+--------+-------------------+\n",
            "only showing top 5 rows\n",
            "\n"
          ]
        }
      ]
    },
    {
      "cell_type": "code",
      "source": [
        "# Putting TWO indexers, the start of the so-called Pipeline\n",
        "GenderIndexer.fit(SmokeHistIndexer.fit(heartDF2).transform(heartDF2)).transform(SmokeHistIndexer.fit(heartDF2).transform(heartDF2)).show(5)"
      ],
      "metadata": {
        "colab": {
          "base_uri": "https://localhost:8080/"
        },
        "id": "B4gJ0XxiKapw",
        "outputId": "0cec06a4-eb3f-41b9-b05a-870396e88687"
      },
      "execution_count": 23,
      "outputs": [
        {
          "output_type": "stream",
          "name": "stdout",
          "text": [
            "+------+----+------------+-------------+---------------+------------------+--------+-------------------+-----------+\n",
            "|gender| age|hypertension|heart_disease|smoking_history|               BMI|diabetes|smoking_statusIndex|genderIndex|\n",
            "+------+----+------------+-------------+---------------+------------------+--------+-------------------+-----------+\n",
            "|Female|80.0|           0|            1|          never|             25.19|       0|                1.0|        0.0|\n",
            "|Female|54.0|           0|            0|        No Info|27.321028891034764|       0|                0.0|        0.0|\n",
            "|  Male|28.0|           0|            0|          never|27.321028891034764|       0|                1.0|        1.0|\n",
            "|Female|36.0|           0|            0|        current|             23.45|       0|                3.0|        0.0|\n",
            "|  Male|76.0|           1|            1|        current|             20.14|       0|                3.0|        1.0|\n",
            "+------+----+------------+-------------+---------------+------------------+--------+-------------------+-----------+\n",
            "only showing top 5 rows\n",
            "\n"
          ]
        }
      ]
    },
    {
      "cell_type": "markdown",
      "source": [
        "## One Hot Encoder"
      ],
      "metadata": {
        "id": "V36Q0VtAK0zE"
      }
    },
    {
      "cell_type": "code",
      "source": [
        "OHE_Gender = OneHotEncoder(inputCols=[\"genderIndex\"], outputCols=[\"genderVec\"])\n",
        "#ohe.fit(??).transform(??).show()\n",
        "OHE_Gender.fit(GenderIndexer.fit(heartDF2).transform(heartDF2)).transform(GenderIndexer.fit(heartDF2).transform(heartDF2)).show(5)"
      ],
      "metadata": {
        "colab": {
          "base_uri": "https://localhost:8080/"
        },
        "id": "oxtTDfstL_20",
        "outputId": "b5cbe274-cea9-44b7-d720-993f08b17ee6"
      },
      "execution_count": 24,
      "outputs": [
        {
          "output_type": "stream",
          "name": "stdout",
          "text": [
            "+------+----+------------+-------------+---------------+------------------+--------+-----------+-------------+\n",
            "|gender| age|hypertension|heart_disease|smoking_history|               BMI|diabetes|genderIndex|    genderVec|\n",
            "+------+----+------------+-------------+---------------+------------------+--------+-----------+-------------+\n",
            "|Female|80.0|           0|            1|          never|             25.19|       0|        0.0|(2,[0],[1.0])|\n",
            "|Female|54.0|           0|            0|        No Info|27.321028891034764|       0|        0.0|(2,[0],[1.0])|\n",
            "|  Male|28.0|           0|            0|          never|27.321028891034764|       0|        1.0|(2,[1],[1.0])|\n",
            "|Female|36.0|           0|            0|        current|             23.45|       0|        0.0|(2,[0],[1.0])|\n",
            "|  Male|76.0|           1|            1|        current|             20.14|       0|        1.0|(2,[1],[1.0])|\n",
            "+------+----+------------+-------------+---------------+------------------+--------+-----------+-------------+\n",
            "only showing top 5 rows\n",
            "\n"
          ]
        }
      ]
    },
    {
      "cell_type": "code",
      "source": [
        "OHE_SmokeStat = OneHotEncoder(inputCols=[\"smoking_statusIndex\"], outputCols=[\"smoking_statusVec\"])\n",
        "#ohe.fit(??).transform(??).show()\n",
        "OHE_SmokeStat.fit(SmokeHistIndexer.fit(heartDF2).transform(heartDF2)).transform(SmokeHistIndexer.fit(heartDF2).transform(heartDF2)).show(5)"
      ],
      "metadata": {
        "colab": {
          "base_uri": "https://localhost:8080/"
        },
        "id": "SdVlWKjHMqFe",
        "outputId": "94017c66-2396-4dcc-9169-27d471b497e7"
      },
      "execution_count": 25,
      "outputs": [
        {
          "output_type": "stream",
          "name": "stdout",
          "text": [
            "+------+----+------------+-------------+---------------+------------------+--------+-------------------+-----------------+\n",
            "|gender| age|hypertension|heart_disease|smoking_history|               BMI|diabetes|smoking_statusIndex|smoking_statusVec|\n",
            "+------+----+------------+-------------+---------------+------------------+--------+-------------------+-----------------+\n",
            "|Female|80.0|           0|            1|          never|             25.19|       0|                1.0|    (5,[1],[1.0])|\n",
            "|Female|54.0|           0|            0|        No Info|27.321028891034764|       0|                0.0|    (5,[0],[1.0])|\n",
            "|  Male|28.0|           0|            0|          never|27.321028891034764|       0|                1.0|    (5,[1],[1.0])|\n",
            "|Female|36.0|           0|            0|        current|             23.45|       0|                3.0|    (5,[3],[1.0])|\n",
            "|  Male|76.0|           1|            1|        current|             20.14|       0|                3.0|    (5,[3],[1.0])|\n",
            "+------+----+------------+-------------+---------------+------------------+--------+-------------------+-----------------+\n",
            "only showing top 5 rows\n",
            "\n"
          ]
        }
      ]
    },
    {
      "cell_type": "code",
      "metadata": {
        "id": "11DyqFjJ3azC"
      },
      "source": [
        "# Encoding Both Simltaenously\n",
        "OHE_Gender_Smoke = OneHotEncoder(inputCols=[\"genderIndex\",\"smoking_statusIndex\"],\n",
        "                                 outputCols=[\"genderVec\",\"smoking_statusVec\"])"
      ],
      "execution_count": 26,
      "outputs": []
    },
    {
      "cell_type": "code",
      "source": [
        "#The 'Pipeline' becomes even longer\n",
        "# but still ohe.fit(??).transform(??).show()\n",
        "OHE_Gender_Smoke.fit(GenderIndexer.fit(SmokeHistIndexer.fit(heartDF2).transform(heartDF2)).transform(SmokeHistIndexer.fit(heartDF2).transform(heartDF2))).transform(GenderIndexer.fit(SmokeHistIndexer.fit(heartDF2).transform(heartDF2)).transform(SmokeHistIndexer.fit(heartDF2).transform(heartDF2))).show(5)"
      ],
      "metadata": {
        "colab": {
          "base_uri": "https://localhost:8080/"
        },
        "id": "C86yH_IzJH7B",
        "outputId": "6a57de1c-0b30-4d46-be67-3c444466a7bc"
      },
      "execution_count": 27,
      "outputs": [
        {
          "output_type": "stream",
          "name": "stdout",
          "text": [
            "+------+----+------------+-------------+---------------+------------------+--------+-------------------+-----------+-------------+-----------------+\n",
            "|gender| age|hypertension|heart_disease|smoking_history|               BMI|diabetes|smoking_statusIndex|genderIndex|    genderVec|smoking_statusVec|\n",
            "+------+----+------------+-------------+---------------+------------------+--------+-------------------+-----------+-------------+-----------------+\n",
            "|Female|80.0|           0|            1|          never|             25.19|       0|                1.0|        0.0|(2,[0],[1.0])|    (5,[1],[1.0])|\n",
            "|Female|54.0|           0|            0|        No Info|27.321028891034764|       0|                0.0|        0.0|(2,[0],[1.0])|    (5,[0],[1.0])|\n",
            "|  Male|28.0|           0|            0|          never|27.321028891034764|       0|                1.0|        1.0|(2,[1],[1.0])|    (5,[1],[1.0])|\n",
            "|Female|36.0|           0|            0|        current|             23.45|       0|                3.0|        0.0|(2,[0],[1.0])|    (5,[3],[1.0])|\n",
            "|  Male|76.0|           1|            1|        current|             20.14|       0|                3.0|        1.0|(2,[1],[1.0])|    (5,[3],[1.0])|\n",
            "+------+----+------------+-------------+---------------+------------------+--------+-------------------+-----------+-------------+-----------------+\n",
            "only showing top 5 rows\n",
            "\n"
          ]
        }
      ]
    },
    {
      "cell_type": "markdown",
      "source": [
        "## Assembler"
      ],
      "metadata": {
        "id": "r8-sMS4FN2fg"
      }
    },
    {
      "cell_type": "code",
      "metadata": {
        "id": "MHjkGz_0Cunq"
      },
      "source": [
        "F_assembler = VectorAssembler(inputCols=['genderVec',\n",
        " 'age',\n",
        " 'hypertension',\n",
        " 'heart_disease',\n",
        " 'BMI',\n",
        " 'smoking_statusVec'],outputCol='features')"
      ],
      "execution_count": 28,
      "outputs": []
    },
    {
      "cell_type": "code",
      "source": [
        "#assembler.transform(??).show()\n",
        "F_assembler.transform(OHE_Gender_Smoke.fit(GenderIndexer.fit(SmokeHistIndexer.fit(heartDF2).transform(heartDF2)).transform(SmokeHistIndexer.fit(heartDF2).transform(heartDF2))).transform(GenderIndexer.fit(SmokeHistIndexer.fit(heartDF2).transform(heartDF2)).transform(SmokeHistIndexer.fit(heartDF2).transform(heartDF2)))).show(5)"
      ],
      "metadata": {
        "colab": {
          "base_uri": "https://localhost:8080/"
        },
        "id": "Yk9gc5_FPj3k",
        "outputId": "4868c40c-4052-4871-94bf-890bc04e1d25"
      },
      "execution_count": 29,
      "outputs": [
        {
          "output_type": "stream",
          "name": "stdout",
          "text": [
            "+------+----+------------+-------------+---------------+------------------+--------+-------------------+-----------+-------------+-----------------+--------------------+\n",
            "|gender| age|hypertension|heart_disease|smoking_history|               BMI|diabetes|smoking_statusIndex|genderIndex|    genderVec|smoking_statusVec|            features|\n",
            "+------+----+------------+-------------+---------------+------------------+--------+-------------------+-----------+-------------+-----------------+--------------------+\n",
            "|Female|80.0|           0|            1|          never|             25.19|       0|                1.0|        0.0|(2,[0],[1.0])|    (5,[1],[1.0])|(11,[0,2,4,5,7],[...|\n",
            "|Female|54.0|           0|            0|        No Info|27.321028891034764|       0|                0.0|        0.0|(2,[0],[1.0])|    (5,[0],[1.0])|(11,[0,2,5,6],[1....|\n",
            "|  Male|28.0|           0|            0|          never|27.321028891034764|       0|                1.0|        1.0|(2,[1],[1.0])|    (5,[1],[1.0])|(11,[1,2,5,7],[1....|\n",
            "|Female|36.0|           0|            0|        current|             23.45|       0|                3.0|        0.0|(2,[0],[1.0])|    (5,[3],[1.0])|(11,[0,2,5,9],[1....|\n",
            "|  Male|76.0|           1|            1|        current|             20.14|       0|                3.0|        1.0|(2,[1],[1.0])|    (5,[3],[1.0])|(11,[1,2,3,4,5,9]...|\n",
            "+------+----+------------+-------------+---------------+------------------+--------+-------------------+-----------+-------------+-----------------+--------------------+\n",
            "only showing top 5 rows\n",
            "\n"
          ]
        }
      ]
    },
    {
      "cell_type": "code",
      "source": [
        "basePipe = Pipeline(stages=[GenderIndexer, SmokeHistIndexer, OHE_Gender_Smoke, F_assembler])\n",
        "basePipe.fit(heartDF2).transform(heartDF2).show()"
      ],
      "metadata": {
        "colab": {
          "base_uri": "https://localhost:8080/"
        },
        "id": "4OadBfaAYdgU",
        "outputId": "67102797-4215-4396-dd0b-350630d52a42"
      },
      "execution_count": 30,
      "outputs": [
        {
          "output_type": "stream",
          "name": "stdout",
          "text": [
            "+------+----+------------+-------------+---------------+------------------+--------+-----------+-------------------+-------------+-----------------+--------------------+\n",
            "|gender| age|hypertension|heart_disease|smoking_history|               BMI|diabetes|genderIndex|smoking_statusIndex|    genderVec|smoking_statusVec|            features|\n",
            "+------+----+------------+-------------+---------------+------------------+--------+-----------+-------------------+-------------+-----------------+--------------------+\n",
            "|Female|80.0|           0|            1|          never|             25.19|       0|        0.0|                1.0|(2,[0],[1.0])|    (5,[1],[1.0])|(11,[0,2,4,5,7],[...|\n",
            "|Female|54.0|           0|            0|        No Info|27.321028891034764|       0|        0.0|                0.0|(2,[0],[1.0])|    (5,[0],[1.0])|(11,[0,2,5,6],[1....|\n",
            "|  Male|28.0|           0|            0|          never|27.321028891034764|       0|        1.0|                1.0|(2,[1],[1.0])|    (5,[1],[1.0])|(11,[1,2,5,7],[1....|\n",
            "|Female|36.0|           0|            0|        current|             23.45|       0|        0.0|                3.0|(2,[0],[1.0])|    (5,[3],[1.0])|(11,[0,2,5,9],[1....|\n",
            "|  Male|76.0|           1|            1|        current|             20.14|       0|        1.0|                3.0|(2,[1],[1.0])|    (5,[3],[1.0])|(11,[1,2,3,4,5,9]...|\n",
            "|Female|20.0|           0|            0|          never|27.321028891034764|       0|        0.0|                1.0|(2,[0],[1.0])|    (5,[1],[1.0])|(11,[0,2,5,7],[1....|\n",
            "|Female|44.0|           0|            0|          never|             19.31|       1|        0.0|                1.0|(2,[0],[1.0])|    (5,[1],[1.0])|(11,[0,2,5,7],[1....|\n",
            "|Female|79.0|           0|            0|        No Info|             23.86|       0|        0.0|                0.0|(2,[0],[1.0])|    (5,[0],[1.0])|(11,[0,2,5,6],[1....|\n",
            "|  Male|42.0|           0|            0|          never|             33.64|       0|        1.0|                1.0|(2,[1],[1.0])|    (5,[1],[1.0])|(11,[1,2,5,7],[1....|\n",
            "|Female|32.0|           0|            0|          never|27.321028891034764|       0|        0.0|                1.0|(2,[0],[1.0])|    (5,[1],[1.0])|(11,[0,2,5,7],[1....|\n",
            "|Female|53.0|           0|            0|          never|27.321028891034764|       0|        0.0|                1.0|(2,[0],[1.0])|    (5,[1],[1.0])|(11,[0,2,5,7],[1....|\n",
            "|Female|54.0|           0|            0|         former|              54.7|       0|        0.0|                2.0|(2,[0],[1.0])|    (5,[2],[1.0])|(11,[0,2,5,8],[1....|\n",
            "|Female|78.0|           0|            0|         former|             36.05|       0|        0.0|                2.0|(2,[0],[1.0])|    (5,[2],[1.0])|(11,[0,2,5,8],[1....|\n",
            "|Female|67.0|           0|            0|          never|             25.69|       0|        0.0|                1.0|(2,[0],[1.0])|    (5,[1],[1.0])|(11,[0,2,5,7],[1....|\n",
            "|Female|76.0|           0|            0|        No Info|27.321028891034764|       0|        0.0|                0.0|(2,[0],[1.0])|    (5,[0],[1.0])|(11,[0,2,5,6],[1....|\n",
            "|  Male|78.0|           0|            0|        No Info|27.321028891034764|       0|        1.0|                0.0|(2,[1],[1.0])|    (5,[0],[1.0])|(11,[1,2,5,6],[1....|\n",
            "|  Male|15.0|           0|            0|          never|             30.36|       0|        1.0|                1.0|(2,[1],[1.0])|    (5,[1],[1.0])|(11,[1,2,5,7],[1....|\n",
            "|Female|42.0|           0|            0|          never|             24.48|       0|        0.0|                1.0|(2,[0],[1.0])|    (5,[1],[1.0])|(11,[0,2,5,7],[1....|\n",
            "|Female|42.0|           0|            0|        No Info|27.321028891034764|       0|        0.0|                0.0|(2,[0],[1.0])|    (5,[0],[1.0])|(11,[0,2,5,6],[1....|\n",
            "|  Male|37.0|           0|            0|           ever|             25.72|       0|        1.0|                5.0|(2,[1],[1.0])|        (5,[],[])|(11,[1,2,5],[1.0,...|\n",
            "+------+----+------------+-------------+---------------+------------------+--------+-----------+-------------------+-------------+-----------------+--------------------+\n",
            "only showing top 20 rows\n",
            "\n"
          ]
        }
      ]
    },
    {
      "cell_type": "markdown",
      "metadata": {
        "id": "9ke6ZDDW3hmu"
      },
      "source": [
        "# Train-Test Split "
      ]
    },
    {
      "cell_type": "code",
      "metadata": {
        "colab": {
          "base_uri": "https://localhost:8080/"
        },
        "id": "WMWN3KQeRkGd",
        "outputId": "8357027e-2ccb-4d2a-9ee5-7abcacae6a10"
      },
      "source": [
        "# splitting training and validation data\n",
        "train_heart,val_heart = heartDF2.randomSplit([0.7,0.3])\n",
        "print(train_heart.count())\n",
        "print(val_heart.count())"
      ],
      "execution_count": 31,
      "outputs": [
        {
          "output_type": "stream",
          "name": "stdout",
          "text": [
            "69938\n",
            "30062\n"
          ]
        }
      ]
    },
    {
      "cell_type": "markdown",
      "source": [
        "#Alternative Models"
      ],
      "metadata": {
        "id": "z9aPo0ZYX_68"
      }
    },
    {
      "cell_type": "code",
      "source": [
        ""
      ],
      "metadata": {
        "id": "O41TVm_416oh"
      },
      "execution_count": 39,
      "outputs": []
    },
    {
      "cell_type": "markdown",
      "metadata": {
        "id": "l3OMs78y3nTG"
      },
      "source": [
        "## Logistic Regression Model Pipeline "
      ]
    },
    {
      "cell_type": "code",
      "metadata": {
        "id": "Qks5jAFPCujR"
      },
      "source": [
        "lr = LogisticRegression(labelCol='diabetes',featuresCol='features',maxIter=5)\n",
        "#lr_pipeline = Pipeline(stages=[GenderIndexer, SmokeHistIndexer, OHE_Gender_Smoke, F_assembler,lr])\n",
        "lr_pipeline = Pipeline(stages=[basePipe,lr])                    # Appending a stage to a pipeline\n",
        "# training model pipeline with data\n",
        "lr_model = lr_pipeline.fit(train_heart)\n",
        "lr_predictions=lr_model.transform(val_heart)"
      ],
      "execution_count": 32,
      "outputs": []
    },
    {
      "cell_type": "code",
      "source": [
        "lr_predictions.show(5)"
      ],
      "metadata": {
        "id": "razlA8cs1kqf",
        "outputId": "f9be9189-41ad-4906-e6e2-0ce834ebbc42",
        "colab": {
          "base_uri": "https://localhost:8080/"
        }
      },
      "execution_count": 34,
      "outputs": [
        {
          "output_type": "stream",
          "name": "stdout",
          "text": [
            "+------+----+------------+-------------+---------------+-----+--------+-----------+-------------------+-------------+-----------------+--------------------+--------------------+--------------------+----------+\n",
            "|gender| age|hypertension|heart_disease|smoking_history|  BMI|diabetes|genderIndex|smoking_statusIndex|    genderVec|smoking_statusVec|            features|       rawPrediction|         probability|prediction|\n",
            "+------+----+------------+-------------+---------------+-----+--------+-----------+-------------------+-------------+-----------------+--------------------+--------------------+--------------------+----------+\n",
            "|Female|0.08|           0|            0|        No Info|12.22|       0|        0.0|                0.0|(2,[0],[1.0])|    (5,[0],[1.0])|(11,[0,2,5,6],[1....|[6.80558489482055...|[0.99889365319052...|       0.0|\n",
            "|Female|0.08|           0|            0|        No Info|12.77|       0|        0.0|                0.0|(2,[0],[1.0])|    (5,[0],[1.0])|(11,[0,2,5,6],[1....|[6.75976857527300...|[0.99884184539809...|       0.0|\n",
            "|Female|0.08|           0|            0|        No Info|12.82|       0|        0.0|                0.0|(2,[0],[1.0])|    (5,[0],[1.0])|(11,[0,2,5,6],[1....|[6.75560345531414...|[0.99883701710708...|       0.0|\n",
            "|Female|0.08|           0|            0|        No Info|13.03|       0|        0.0|                0.0|(2,[0],[1.0])|    (5,[0],[1.0])|(11,[0,2,5,6],[1....|[6.73810995148689...|[0.99881651775897...|       0.0|\n",
            "|Female|0.08|           0|            0|        No Info|13.39|       0|        0.0|                0.0|(2,[0],[1.0])|    (5,[0],[1.0])|(11,[0,2,5,6],[1....|[6.70812108778305...|[0.99878053287575...|       0.0|\n",
            "+------+----+------------+-------------+---------------+-----+--------+-----------+-------------------+-------------+-----------------+--------------------+--------------------+--------------------+----------+\n",
            "only showing top 5 rows\n",
            "\n"
          ]
        }
      ]
    },
    {
      "cell_type": "code",
      "metadata": {
        "id": "oDo7EXEJgF6O",
        "colab": {
          "base_uri": "https://localhost:8080/"
        },
        "outputId": "09f220ec-8293-4d06-ec73-ba9628ac629d"
      },
      "source": [
        "acc_evaluator = MulticlassClassificationEvaluator(labelCol=\"diabetes\", predictionCol=\"prediction\", metricName=\"accuracy\")\n",
        "lr_acc=acc_evaluator.evaluate(lr_predictions)\n",
        "\n",
        "#print('A Logistic Regression algorithm had an accuracy of: {0:2.2f}%'.format(lr_acc*100))\n",
        "print(round(lr_acc,3), 'is the accuray of the LR pipeline')\n"
      ],
      "execution_count": 78,
      "outputs": [
        {
          "output_type": "stream",
          "name": "stdout",
          "text": [
            "0.917 is the accuray of the LR pipeline\n"
          ]
        }
      ]
    },
    {
      "cell_type": "code",
      "metadata": {
        "id": "DJUrGMcBOFI1",
        "colab": {
          "base_uri": "https://localhost:8080/"
        },
        "outputId": "21e9b61f-1013-49d8-f18b-d976c7a421dd"
      },
      "source": [
        "# Let's use the run-of-the-mill evaluator\n",
        "evaluator = BinaryClassificationEvaluator(labelCol='diabetes')\n",
        "\n",
        "# We have only two choices: area under ROC and PR curves :-(\n",
        "lr_auroc = evaluator.evaluate(lr_predictions, {evaluator.metricName: \"areaUnderROC\"})\n",
        "#auprc = evaluator.evaluate(predictions, {evaluator.metricName: \"areaUnderPR\"})\n",
        "print(\"Area under ROC Curve: {:.4f}\".format(lr_auroc))\n",
        "#print(\"Area under PR Curve: {:.4f}\".format(auprc))\n"
      ],
      "execution_count": 79,
      "outputs": [
        {
          "output_type": "stream",
          "name": "stdout",
          "text": [
            "Area under ROC Curve: 0.8343\n"
          ]
        }
      ]
    },
    {
      "cell_type": "markdown",
      "metadata": {
        "id": "AdtPW1G0_2rE"
      },
      "source": [
        "## Random Forest Pipeline"
      ]
    },
    {
      "cell_type": "code",
      "metadata": {
        "id": "X4w6_NSU-Oo0"
      },
      "source": [
        "rf = RandomForestClassifier(featuresCol = 'features', labelCol = 'diabetes')\n",
        "#rf_pipeline = Pipeline(stages=[GenderIndexer, SmokeHistIndexer, OHE_Gender_Smoke, F_assembler, rf])\n",
        "rf_pipeline = Pipeline(stages=[basePipe, rf])\n",
        "# training model pipeline with data\n",
        "rf_model = rf_pipeline.fit(train_heart)\n",
        "rf_predictions=rf_model.transform(val_heart)"
      ],
      "execution_count": 80,
      "outputs": []
    },
    {
      "cell_type": "code",
      "metadata": {
        "colab": {
          "base_uri": "https://localhost:8080/"
        },
        "id": "zSqqUwaF_c-t",
        "outputId": "be6e8ea7-6cea-415e-9653-dbf33691eac2"
      },
      "source": [
        "acc_evaluator = MulticlassClassificationEvaluator(labelCol=\"diabetes\", predictionCol=\"prediction\", metricName=\"accuracy\")\n",
        "rf_acc=acc_evaluator.evaluate(rf_predictions)\n",
        "\n",
        "print('A Random Forest algorithm had an accuracy of: {0:2.2f}%'.format(rf_acc*100))"
      ],
      "execution_count": 81,
      "outputs": [
        {
          "output_type": "stream",
          "name": "stdout",
          "text": [
            "A Random Forest algorithm had an accuracy of: 91.70%\n"
          ]
        }
      ]
    },
    {
      "cell_type": "code",
      "metadata": {
        "colab": {
          "base_uri": "https://localhost:8080/"
        },
        "id": "-4Y6iJZp_rz-",
        "outputId": "2b26c0ff-81a0-4672-f6f0-41996d62b011"
      },
      "source": [
        "# Let's use the run-of-the-mill evaluator\n",
        "evaluator = BinaryClassificationEvaluator(labelCol='diabetes')\n",
        "\n",
        "# We have only two choices: area under ROC and PR curves :-(\n",
        "rf_auroc = evaluator.evaluate(rf_predictions, {evaluator.metricName: \"areaUnderROC\"})\n",
        "#auprc = evaluator.evaluate(predictions, {evaluator.metricName: \"areaUnderPR\"})\n",
        "print(\"Area under ROC Curve: {:.4f}\".format(rf_auroc))\n",
        "#print(\"Area under PR Curve: {:.4f}\".format(auprc))"
      ],
      "execution_count": 82,
      "outputs": [
        {
          "output_type": "stream",
          "name": "stdout",
          "text": [
            "Area under ROC Curve: 0.8262\n"
          ]
        }
      ]
    },
    {
      "cell_type": "markdown",
      "metadata": {
        "id": "CKGXXeDZ3xJW"
      },
      "source": [
        "## Gradient Boost Model Pipeline"
      ]
    },
    {
      "cell_type": "code",
      "metadata": {
        "id": "jT4BVirjWMad"
      },
      "source": [
        "gbt = GBTClassifier(labelCol='diabetes',featuresCol='features')\n",
        "#gbt_pipeline = Pipeline(stages=[GenderIndexer, SmokeHistIndexer, OHE_Gender_Smoke, F_assembler, gbt])\n",
        "gbt_pipeline = Pipeline(stages=[basePipe, gbt])\n",
        "gbt_model = gbt_pipeline.fit(train_heart)\n",
        "gbt_predictions = gbt_model.transform(val_heart)"
      ],
      "execution_count": 83,
      "outputs": []
    },
    {
      "cell_type": "code",
      "metadata": {
        "id": "EF6fBtImnTMR",
        "colab": {
          "base_uri": "https://localhost:8080/"
        },
        "outputId": "5f46eb67-d10b-4ba6-8b8a-2aa0f830e191"
      },
      "source": [
        "gbt_acc = acc_evaluator.evaluate(gbt_predictions)\n",
        "print('Gradient Boost algorithm had an accuracy of: {0:2.2f}%'.format(gbt_acc*100))"
      ],
      "execution_count": 84,
      "outputs": [
        {
          "output_type": "stream",
          "name": "stdout",
          "text": [
            "Gradient Boost algorithm had an accuracy of: 91.74%\n"
          ]
        }
      ]
    },
    {
      "cell_type": "code",
      "metadata": {
        "id": "4OrGVY8wnTF_",
        "colab": {
          "base_uri": "https://localhost:8080/"
        },
        "outputId": "8a84ba5a-b46d-439b-cca7-fa2baac292e7"
      },
      "source": [
        "from pyspark.ml.evaluation import BinaryClassificationEvaluator\n",
        "\n",
        "# Let's use the run-of-the-mill evaluator\n",
        "evaluator = BinaryClassificationEvaluator(labelCol='diabetes')\n",
        "\n",
        "# We have only two choices: area under ROC and PR curves :-(\n",
        "gbt_auroc = evaluator.evaluate(gbt_predictions, {evaluator.metricName: \"areaUnderROC\"})\n",
        "#auprc = evaluator.evaluate(predictions, {evaluator.metricName: \"areaUnderPR\"})\n",
        "print(\"Area under ROC Curve: {:.4f}\".format(gbt_auroc))\n",
        "#print(\"Area under PR Curve: {:.4f}\".format(auprc))"
      ],
      "execution_count": 85,
      "outputs": [
        {
          "output_type": "stream",
          "name": "stdout",
          "text": [
            "Area under ROC Curve: 0.8356\n"
          ]
        }
      ]
    },
    {
      "cell_type": "markdown",
      "source": [
        "#Summary"
      ],
      "metadata": {
        "id": "w83Pn2-8XaLo"
      }
    },
    {
      "cell_type": "code",
      "source": [
        "print(round(lr_acc,3), 'is the accuray of the LR pipeline')\n",
        "print(round(rf_acc,3), 'is the accuray of the RF pipeline')\n",
        "print(round(gbt_acc,3), 'is the accuray of the GBT pipeline')\n",
        "\n",
        "print(round(lr_auroc,3), 'is area under ROC curve of the LR pipeline')\n",
        "print(round(rf_auroc,3), 'is area under ROC curve of the RF pipeline')\n",
        "print(round(gbt_auroc,3), 'is area under ROC curve of the GBT pipeline')"
      ],
      "metadata": {
        "colab": {
          "base_uri": "https://localhost:8080/"
        },
        "id": "vHbqxmXGXb6Q",
        "outputId": "0a4ef9a1-ea0f-468d-8eeb-409e00352f80"
      },
      "execution_count": 86,
      "outputs": [
        {
          "output_type": "stream",
          "name": "stdout",
          "text": [
            "0.917 is the accuray of the LR pipeline\n",
            "0.917 is the accuray of the RF pipeline\n",
            "0.917 is the accuray of the GBT pipeline\n",
            "0.834 is area under ROC curve of the LR pipeline\n",
            "0.826 is area under ROC curve of the RF pipeline\n",
            "0.836 is area under ROC curve of the GBT pipeline\n"
          ]
        }
      ]
    },
    {
      "cell_type": "markdown",
      "source": [
        "#Storing, ReUsing Pipes"
      ],
      "metadata": {
        "id": "t_ZFAp_IhnV1"
      }
    },
    {
      "cell_type": "code",
      "source": [
        "commonEstimator = Pipeline(stages=[GenderIndexer, SmokeHistIndexer, OHE_Gender_Smoke, F_assembler])\n",
        "commonModel = commonEstimator.fit(train_heart)\n",
        "#commonPredictions = commonModel.transform(val_heart)\n",
        "#commonPredictions.show()\n",
        "commonTrainHeart = commonModel.transform(train_heart)\n",
        "commonTrainHeart.show(5)"
      ],
      "metadata": {
        "id": "rzUXaPDy291X",
        "outputId": "01e9b977-9503-4d89-ba61-006c33a704a6",
        "colab": {
          "base_uri": "https://localhost:8080/"
        }
      },
      "execution_count": 51,
      "outputs": [
        {
          "output_type": "stream",
          "name": "stdout",
          "text": [
            "+------+----+------------+-------------+---------------+-----+--------+-----------+-------------------+-------------+-----------------+--------------------+\n",
            "|gender| age|hypertension|heart_disease|smoking_history|  BMI|diabetes|genderIndex|smoking_statusIndex|    genderVec|smoking_statusVec|            features|\n",
            "+------+----+------------+-------------+---------------+-----+--------+-----------+-------------------+-------------+-----------------+--------------------+\n",
            "|Female|0.08|           0|            0|        No Info|11.88|       0|        0.0|                0.0|(2,[0],[1.0])|    (5,[0],[1.0])|(11,[0,2,5,6],[1....|\n",
            "|Female|0.08|           0|            0|        No Info| 12.5|       0|        0.0|                0.0|(2,[0],[1.0])|    (5,[0],[1.0])|(11,[0,2,5,6],[1....|\n",
            "|Female|0.08|           0|            0|        No Info|12.74|       0|        0.0|                0.0|(2,[0],[1.0])|    (5,[0],[1.0])|(11,[0,2,5,6],[1....|\n",
            "|Female|0.08|           0|            0|        No Info|13.35|       0|        0.0|                0.0|(2,[0],[1.0])|    (5,[0],[1.0])|(11,[0,2,5,6],[1....|\n",
            "|Female|0.08|           0|            0|        No Info| 14.1|       0|        0.0|                0.0|(2,[0],[1.0])|    (5,[0],[1.0])|(11,[0,2,5,6],[1....|\n",
            "+------+----+------------+-------------+---------------+-----+--------+-----------+-------------------+-------------+-----------------+--------------------+\n",
            "only showing top 5 rows\n",
            "\n"
          ]
        }
      ]
    },
    {
      "cell_type": "markdown",
      "source": [
        "##Logistic Regression"
      ],
      "metadata": {
        "id": "CpJr7S1J7_sK"
      }
    },
    {
      "cell_type": "code",
      "source": [
        "lr0 = LogisticRegression(labelCol='diabetes',featuresCol='features',maxIter=5)\n",
        "lr0Estimator = Pipeline(stages=[lr0])                               # A pipeline is an estimator\n",
        "lr0model = lr0Estimator.fit(commonTrainHeart)                       # A fitted pipeline is a model\n",
        "\n",
        "lr1model = PipelineModel(stages = [commonModel , lr0model])         # Adding two models together\n",
        "lr1model_predictions = lr1model.transform(val_heart)"
      ],
      "metadata": {
        "id": "CpOnpWfu4kuk"
      },
      "execution_count": 52,
      "outputs": []
    },
    {
      "cell_type": "code",
      "source": [
        "acc_evaluator = MulticlassClassificationEvaluator(labelCol=\"diabetes\", predictionCol=\"prediction\", metricName=\"accuracy\")\n",
        "lr1_acc=acc_evaluator.evaluate(lr1model_predictions)\n",
        "\n",
        "print(round(lr1_acc,3), 'is the accuray of the new LR pipeline')\n",
        "evaluator = BinaryClassificationEvaluator(labelCol='diabetes')\n",
        "lr1_auroc = evaluator.evaluate(lr1model_predictions, {evaluator.metricName: \"areaUnderROC\"})\n",
        "print(\"Area under ROC Curve: {:.4f}\".format(lr1_auroc))\n"
      ],
      "metadata": {
        "id": "a2aen7dA9NR2",
        "outputId": "f844241d-08bf-4372-f5d1-98e1a6686b15",
        "colab": {
          "base_uri": "https://localhost:8080/"
        }
      },
      "execution_count": 54,
      "outputs": [
        {
          "output_type": "stream",
          "name": "stdout",
          "text": [
            "0.914 is the accuray of the new LR pipeline\n",
            "Area under ROC Curve: 0.8314\n"
          ]
        }
      ]
    },
    {
      "cell_type": "markdown",
      "source": [
        "#Chronobooks <br>\n",
        "![alt text](https://1.bp.blogspot.com/-lTiYBkU2qbU/X1er__fvnkI/AAAAAAAAjtE/GhDR3OEGJr4NG43fZPodrQD5kbxtnKebgCLcBGAsYHQ/s600/Footer2020-600x200.png)<hr>\n",
        "Chronotantra and Chronoyantra are two science fiction novels that explore the collapse of human civilisation on Earth and then its rebirth and reincarnation both on Earth as well as on the distant worlds of Mars, Titan and Enceladus. But is it the human civilisation that is being reborn? Or is it some other sentience that is revealing itself. \n",
        "If you have an interest in AI and found this material useful, you may consider buying these novels, in paperback or kindle, from [http://bit.ly/chronobooks](http://bit.ly/chronobooks)"
      ],
      "metadata": {
        "id": "XYiDzRJ0GmIB"
      }
    }
  ]
}