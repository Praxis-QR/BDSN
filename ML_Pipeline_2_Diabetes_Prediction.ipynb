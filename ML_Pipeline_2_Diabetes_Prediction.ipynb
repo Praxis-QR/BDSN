{
  "nbformat": 4,
  "nbformat_minor": 0,
  "metadata": {
    "colab": {
      "name": "Pipeline #2  - Diabetes Prediction",
      "provenance": [],
      "toc_visible": true,
      "include_colab_link": true
    },
    "kernelspec": {
      "name": "python3",
      "display_name": "Python 3"
    }
  },
  "cells": [
    {
      "cell_type": "markdown",
      "metadata": {
        "id": "view-in-github",
        "colab_type": "text"
      },
      "source": [
        "<a href=\"https://colab.research.google.com/github/Praxis-QR/BDSN/blob/main/ML_Pipeline_2_Diabetes_Prediction.ipynb\" target=\"_parent\"><img src=\"https://colab.research.google.com/assets/colab-badge.svg\" alt=\"Open In Colab\"/></a>"
      ]
    },
    {
      "cell_type": "markdown",
      "source": [
        "![CC-BY-SA](https://licensebuttons.net/l/by-sa/3.0/88x31.png)<br>\n",
        "<hr>\n",
        "\n",
        "![alt text](https://github.com/Praxis-QR/RDWH/raw/main/images/YantraJaalBanner.png)<br>\n",
        "\n",
        "\n",
        "<hr>\n",
        "\n",
        "[Prithwis Mukerjee](http://www.linkedin.com/in/prithwis)<br>"
      ],
      "metadata": {
        "id": "6I78TNTj_wDe"
      }
    },
    {
      "cell_type": "code",
      "source": [
        "from datetime import datetime\n",
        "import pytz\n",
        "print('Tested',datetime.now(pytz.timezone('Asia/Calcutta')))"
      ],
      "metadata": {
        "id": "tD3MXrUBkW8T",
        "outputId": "5d130f8a-ee52-4016-e81e-4d80d6d8a574",
        "colab": {
          "base_uri": "https://localhost:8080/"
        }
      },
      "execution_count": 1,
      "outputs": [
        {
          "output_type": "stream",
          "name": "stdout",
          "text": [
            "Tested 2023-06-20 10:36:42.551188+05:30\n"
          ]
        }
      ]
    },
    {
      "cell_type": "markdown",
      "source": [
        "#Common Pipelines for Logistic Regression, Random Forest, Gradient Boost <br>\n",
        "[What are Pipelines & PipelineModels?](https://spark.apache.org/docs/latest/ml-pipeline.html)"
      ],
      "metadata": {
        "id": "VGKh6mTP0fPy"
      }
    },
    {
      "cell_type": "markdown",
      "source": [
        "#Spark Install"
      ],
      "metadata": {
        "id": "Mor2U8YP1eMo"
      }
    },
    {
      "cell_type": "code",
      "metadata": {
        "id": "TbGuxmEWq0Zi",
        "outputId": "5928db97-ce7c-46e8-f53f-424910e0616a",
        "colab": {
          "base_uri": "https://localhost:8080/"
        }
      },
      "source": [
        "!pip3 -q install pyspark\n",
        "from pyspark.sql import SparkSession\n",
        "spark = SparkSession.builder.appName('Praxis').master(\"local[*]\").getOrCreate()\n",
        "sc = spark.sparkContext\n",
        "#sc"
      ],
      "execution_count": 2,
      "outputs": [
        {
          "output_type": "stream",
          "name": "stdout",
          "text": [
            "\u001b[2K     \u001b[90m━━━━━━━━━━━━━━━━━━━━━━━━━━━━━━━━━━━━━━━\u001b[0m \u001b[32m310.8/310.8 MB\u001b[0m \u001b[31m3.6 MB/s\u001b[0m eta \u001b[36m0:00:00\u001b[0m\n",
            "\u001b[?25h  Preparing metadata (setup.py) ... \u001b[?25l\u001b[?25hdone\n",
            "  Building wheel for pyspark (setup.py) ... \u001b[?25l\u001b[?25hdone\n"
          ]
        }
      ]
    },
    {
      "cell_type": "markdown",
      "source": [
        "## Imports"
      ],
      "metadata": {
        "id": "jmOtXSNXExHv"
      }
    },
    {
      "cell_type": "code",
      "source": [
        "from pyspark.sql.functions import mean\n",
        "from pyspark.ml.feature import (VectorAssembler,OneHotEncoder, StringIndexer)\n",
        "from pyspark.ml import Pipeline\n",
        "from pyspark.ml import PipelineModel\n",
        "from pyspark.ml.classification import LogisticRegression\n",
        "from pyspark.ml.classification import RandomForestClassifier\n",
        "from pyspark.ml.classification import GBTClassifier\n",
        "from pyspark.ml.evaluation import MulticlassClassificationEvaluator\n",
        "from pyspark.ml.evaluation import BinaryClassificationEvaluator\n"
      ],
      "metadata": {
        "id": "j1cE0WaBEzGt"
      },
      "execution_count": 3,
      "outputs": []
    },
    {
      "cell_type": "markdown",
      "metadata": {
        "id": "egmxIzPs1mdY"
      },
      "source": [
        "# Data"
      ]
    },
    {
      "cell_type": "markdown",
      "source": [
        "## Load Data"
      ],
      "metadata": {
        "id": "zSJkvCz7Jv4Q"
      }
    },
    {
      "cell_type": "code",
      "source": [
        "!wget -O heart.csv -q https://raw.githubusercontent.com/Praxis-QR/BDSN/main/Documents/BigML_Heart_Dataset.csv"
      ],
      "metadata": {
        "id": "zH9wlX56A1nR"
      },
      "execution_count": 4,
      "outputs": []
    },
    {
      "cell_type": "code",
      "metadata": {
        "id": "MdTpklFXrNIO",
        "colab": {
          "base_uri": "https://localhost:8080/"
        },
        "outputId": "1dc4aef5-5684-46fa-97dd-999f9c94e2f2"
      },
      "source": [
        "#loading dataset into spark dataframe\n",
        "heartDF = spark.read.csv('heart.csv', inferSchema=True,header=True)\n",
        "heartDF.show(5)"
      ],
      "execution_count": 5,
      "outputs": [
        {
          "output_type": "stream",
          "name": "stdout",
          "text": [
            "+------+----+------------+-------------+---------------+-----+--------+\n",
            "|gender| age|hypertension|heart_disease|smoking_history|  BMI|diabetes|\n",
            "+------+----+------------+-------------+---------------+-----+--------+\n",
            "|Female|80.0|           0|            1|          never|25.19|       0|\n",
            "|Female|54.0|           0|            0|           null| null|       0|\n",
            "|  Male|28.0|           0|            0|          never| null|       0|\n",
            "|Female|36.0|           0|            0|        current|23.45|       0|\n",
            "|  Male|76.0|           1|            1|        current|20.14|       0|\n",
            "+------+----+------------+-------------+---------------+-----+--------+\n",
            "only showing top 5 rows\n",
            "\n"
          ]
        }
      ]
    },
    {
      "cell_type": "markdown",
      "metadata": {
        "id": "8plUnE7W1s_U"
      },
      "source": [
        "## Data Quick Look\n"
      ]
    },
    {
      "cell_type": "code",
      "metadata": {
        "colab": {
          "base_uri": "https://localhost:8080/"
        },
        "id": "Q6Q3WzOTP8qo",
        "outputId": "38f5311e-ce5d-4bfd-85dc-215a5f3cac67"
      },
      "source": [
        "print((heartDF.count(),len(heartDF.columns)))"
      ],
      "execution_count": 6,
      "outputs": [
        {
          "output_type": "stream",
          "name": "stdout",
          "text": [
            "(100000, 7)\n"
          ]
        }
      ]
    },
    {
      "cell_type": "code",
      "metadata": {
        "colab": {
          "base_uri": "https://localhost:8080/"
        },
        "id": "O9VO-tjZrbIz",
        "outputId": "3b2ef3d3-1b92-4338-fc2c-eef0de1b5449"
      },
      "source": [
        "heartDF.printSchema()"
      ],
      "execution_count": 7,
      "outputs": [
        {
          "output_type": "stream",
          "name": "stdout",
          "text": [
            "root\n",
            " |-- gender: string (nullable = true)\n",
            " |-- age: double (nullable = true)\n",
            " |-- hypertension: integer (nullable = true)\n",
            " |-- heart_disease: integer (nullable = true)\n",
            " |-- smoking_history: string (nullable = true)\n",
            " |-- BMI: double (nullable = true)\n",
            " |-- diabetes: integer (nullable = true)\n",
            "\n"
          ]
        }
      ]
    },
    {
      "cell_type": "code",
      "metadata": {
        "colab": {
          "base_uri": "https://localhost:8080/"
        },
        "id": "f0b_I_fyQ3AS",
        "outputId": "c08bdbc3-0544-467c-c69f-36022d6403c6"
      },
      "source": [
        "#descriptive analysis\n",
        "heartDF.describe().show()"
      ],
      "execution_count": 8,
      "outputs": [
        {
          "output_type": "stream",
          "name": "stdout",
          "text": [
            "+-------+------+-----------------+------------------+------------------+---------------+------------------+-------------------+\n",
            "|summary|gender|              age|      hypertension|     heart_disease|smoking_history|               BMI|           diabetes|\n",
            "+-------+------+-----------------+------------------+------------------+---------------+------------------+-------------------+\n",
            "|  count|100000|           100000|            100000|            100000|          64184|             74556|             100000|\n",
            "|   mean|  null|41.88585600000013|           0.07485|           0.03942|           null|27.321028891034764|              0.085|\n",
            "| stddev|  null|22.51683987161704|0.2631504702289171|0.1945930169980986|           null| 7.686295651045002|0.27888308976661896|\n",
            "|    min|Female|             0.08|                 0|                 0|        current|             10.01|                  0|\n",
            "|    max| Other|             80.0|                 1|                 1|    not current|             95.69|                  1|\n",
            "+-------+------+-----------------+------------------+------------------+---------------+------------------+-------------------+\n",
            "\n"
          ]
        }
      ]
    },
    {
      "cell_type": "code",
      "metadata": {
        "colab": {
          "base_uri": "https://localhost:8080/"
        },
        "id": "LkpZSPshgxs8",
        "outputId": "36998f0b-af13-4dd7-8375-d16fe0538743"
      },
      "source": [
        "#diabetic and non-diabetic count\n",
        "heartDF.groupBy('diabetes').count().show()"
      ],
      "execution_count": 9,
      "outputs": [
        {
          "output_type": "stream",
          "name": "stdout",
          "text": [
            "+--------+-----+\n",
            "|diabetes|count|\n",
            "+--------+-----+\n",
            "|       1| 8500|\n",
            "|       0|91500|\n",
            "+--------+-----+\n",
            "\n"
          ]
        }
      ]
    },
    {
      "cell_type": "markdown",
      "source": [
        "## Using Spark SQL"
      ],
      "metadata": {
        "id": "WkA9twc45pMv"
      }
    },
    {
      "cell_type": "code",
      "metadata": {
        "id": "6LGBAFk5gyGW"
      },
      "source": [
        "# create DataFrame as a temporary view\n",
        "heartDF.createOrReplaceTempView('heart_T')"
      ],
      "execution_count": 10,
      "outputs": []
    },
    {
      "cell_type": "code",
      "metadata": {
        "colab": {
          "base_uri": "https://localhost:8080/"
        },
        "id": "YA0zcaRhSAxM",
        "outputId": "d64e4b4a-796b-4e21-9004-ddf5e1608e92"
      },
      "source": [
        "#group by gender\n",
        "spark.sql(\\\n",
        "          \"SELECT \\\n",
        "           gender, count(gender) as count_gender, \\\n",
        "           count(gender)*100/sum(count(gender)) over() as percent  \\\n",
        "           FROM heart_T GROUP BY gender\" \\\n",
        "           ).show()"
      ],
      "execution_count": 11,
      "outputs": [
        {
          "output_type": "stream",
          "name": "stdout",
          "text": [
            "+------+------------+-------+\n",
            "|gender|count_gender|percent|\n",
            "+------+------------+-------+\n",
            "|Female|       58552| 58.552|\n",
            "| Other|          18|  0.018|\n",
            "|  Male|       41430|  41.43|\n",
            "+------+------------+-------+\n",
            "\n"
          ]
        }
      ]
    },
    {
      "cell_type": "code",
      "metadata": {
        "colab": {
          "base_uri": "https://localhost:8080/"
        },
        "id": "wXorVtn-gyok",
        "outputId": "cfaf16d0-cfd8-4eb5-e4c3-23a2d4c2536f"
      },
      "source": [
        "#group by gender having diabetes\n",
        "spark.sql(\\\n",
        "          \"SELECT gender, count(gender), \\\n",
        "          round((COUNT(gender) * 100.0) /(SELECT count(gender) FROM heart_T ),2) as percentage \\\n",
        "          FROM heart_T WHERE diabetes = '1'  GROUP BY gender\"\\\n",
        "          ).show()"
      ],
      "execution_count": 12,
      "outputs": [
        {
          "output_type": "stream",
          "name": "stdout",
          "text": [
            "+------+-------------+----------+\n",
            "|gender|count(gender)|percentage|\n",
            "+------+-------------+----------+\n",
            "|Female|         4461|      4.46|\n",
            "|  Male|         4039|      4.04|\n",
            "+------+-------------+----------+\n",
            "\n"
          ]
        }
      ]
    },
    {
      "cell_type": "code",
      "metadata": {
        "colab": {
          "base_uri": "https://localhost:8080/"
        },
        "id": "TfLuYmyMTuph",
        "outputId": "88ad10e6-53e1-4ac9-aa0e-008af911bfe2"
      },
      "source": [
        "#group by gender having heart disease\n",
        "spark.sql(\\\n",
        "          \"SELECT gender, count(gender), \\\n",
        "          round((COUNT(gender) * 100.0) /(SELECT count(gender) FROM heart_T ),2) as percentage \\\n",
        "          FROM heart_T WHERE heart_disease = '1'  GROUP BY gender\"\\\n",
        "          ).show()"
      ],
      "execution_count": 13,
      "outputs": [
        {
          "output_type": "stream",
          "name": "stdout",
          "text": [
            "+------+-------------+----------+\n",
            "|gender|count(gender)|percentage|\n",
            "+------+-------------+----------+\n",
            "|Female|         1562|      1.56|\n",
            "|  Male|         2380|      2.38|\n",
            "+------+-------------+----------+\n",
            "\n"
          ]
        }
      ]
    },
    {
      "cell_type": "code",
      "metadata": {
        "colab": {
          "base_uri": "https://localhost:8080/"
        },
        "id": "eMePTsdrUDV0",
        "outputId": "9260b98d-04a3-41f2-9541-1bbb0e19b05b"
      },
      "source": [
        "#group by gender having hypertension\n",
        "spark.sql(\\\n",
        "          \"SELECT gender, count(gender), \\\n",
        "          round((COUNT(gender) * 100.0) /(SELECT count(gender) FROM heart_T ),2) as percentage \\\n",
        "          FROM heart_T WHERE hypertension = '1'  GROUP BY gender\"\\\n",
        "          ).show()"
      ],
      "execution_count": 14,
      "outputs": [
        {
          "output_type": "stream",
          "name": "stdout",
          "text": [
            "+------+-------------+----------+\n",
            "|gender|count(gender)|percentage|\n",
            "+------+-------------+----------+\n",
            "|Female|         4197|      4.20|\n",
            "|  Male|         3288|      3.29|\n",
            "+------+-------------+----------+\n",
            "\n"
          ]
        }
      ]
    },
    {
      "cell_type": "code",
      "metadata": {
        "colab": {
          "base_uri": "https://localhost:8080/"
        },
        "id": "mD1gYYCKT5cp",
        "outputId": "00c1eac2-9abf-45e4-fe57-859dee636dfc"
      },
      "source": [
        "#count of different types of smoker\n",
        "heartDF.groupBy('smoking_history').count().show()"
      ],
      "execution_count": 15,
      "outputs": [
        {
          "output_type": "stream",
          "name": "stdout",
          "text": [
            "+---------------+-----+\n",
            "|smoking_history|count|\n",
            "+---------------+-----+\n",
            "|    not current| 6447|\n",
            "|           null|35816|\n",
            "|         former| 9352|\n",
            "|        current| 9286|\n",
            "|          never|35095|\n",
            "|           ever| 4004|\n",
            "+---------------+-----+\n",
            "\n"
          ]
        }
      ]
    },
    {
      "cell_type": "code",
      "source": [
        "#group by gender having hypertension\n",
        "spark.sql(\\\n",
        "          \"SELECT smoking_history, count(smoking_history) as count, \\\n",
        "          round((COUNT(smoking_history) * 100.0) /(SELECT count(smoking_history) FROM heart_T ),2) as percentage \\\n",
        "          FROM heart_T   GROUP BY smoking_history\"\\\n",
        "          ).show()"
      ],
      "metadata": {
        "colab": {
          "base_uri": "https://localhost:8080/"
        },
        "id": "oVU9FzMdDV_k",
        "outputId": "850b6e19-630d-4c13-dc53-d0126dac7c86"
      },
      "execution_count": 16,
      "outputs": [
        {
          "output_type": "stream",
          "name": "stdout",
          "text": [
            "+---------------+-----+----------+\n",
            "|smoking_history|count|percentage|\n",
            "+---------------+-----+----------+\n",
            "|    not current| 6447|     10.04|\n",
            "|           null|    0|      0.00|\n",
            "|         former| 9352|     14.57|\n",
            "|        current| 9286|     14.47|\n",
            "|          never|35095|     54.68|\n",
            "|           ever| 4004|      6.24|\n",
            "+---------------+-----+----------+\n",
            "\n"
          ]
        }
      ]
    },
    {
      "cell_type": "code",
      "metadata": {
        "colab": {
          "base_uri": "https://localhost:8080/"
        },
        "id": "SCzLBuVCgy7W",
        "outputId": "21fbe216-5ac6-40e2-cc27-e0ca0085fddd"
      },
      "source": [
        "#Age vs Diabetes\n",
        "spark.sql(\"SELECT age, count(age) as age_count FROM heart_T WHERE diabetes == 1 GROUP BY age ORDER BY age_count DESC\").show()"
      ],
      "execution_count": 17,
      "outputs": [
        {
          "output_type": "stream",
          "name": "stdout",
          "text": [
            "+----+---------+\n",
            "| age|age_count|\n",
            "+----+---------+\n",
            "|80.0|     1024|\n",
            "|62.0|      258|\n",
            "|61.0|      250|\n",
            "|66.0|      241|\n",
            "|67.0|      236|\n",
            "|65.0|      234|\n",
            "|57.0|      233|\n",
            "|59.0|      216|\n",
            "|60.0|      213|\n",
            "|64.0|      211|\n",
            "|68.0|      208|\n",
            "|69.0|      206|\n",
            "|58.0|      205|\n",
            "|63.0|      202|\n",
            "|55.0|      201|\n",
            "|71.0|      192|\n",
            "|54.0|      191|\n",
            "|56.0|      187|\n",
            "|74.0|      184|\n",
            "|70.0|      183|\n",
            "+----+---------+\n",
            "only showing top 20 rows\n",
            "\n"
          ]
        }
      ]
    },
    {
      "cell_type": "code",
      "metadata": {
        "id": "QpGVreKR3a7s",
        "colab": {
          "base_uri": "https://localhost:8080/"
        },
        "outputId": "d116b848-1ea3-48be-ea84-76d8e1560af2"
      },
      "source": [
        "#count of diabetic patients over age 50\n",
        "heartDF.filter((heartDF['diabetes'] == 1) & (heartDF['age'] > '50')).count()\n"
      ],
      "execution_count": 18,
      "outputs": [
        {
          "output_type": "execute_result",
          "data": {
            "text/plain": [
              "6650"
            ]
          },
          "metadata": {},
          "execution_count": 18
        }
      ]
    },
    {
      "cell_type": "markdown",
      "metadata": {
        "id": "RouBCJAC1_SH"
      },
      "source": [
        "## Data Preprocessing"
      ]
    },
    {
      "cell_type": "code",
      "metadata": {
        "id": "AtANMhQmBtqs",
        "colab": {
          "base_uri": "https://localhost:8080/"
        },
        "outputId": "2997ebea-2ac2-4587-cc04-18cb92fa547a"
      },
      "source": [
        "#checking null values\n",
        "heartDF.toPandas().isnull().sum()"
      ],
      "execution_count": 19,
      "outputs": [
        {
          "output_type": "execute_result",
          "data": {
            "text/plain": [
              "gender                 0\n",
              "age                    0\n",
              "hypertension           0\n",
              "heart_disease          0\n",
              "smoking_history    35816\n",
              "BMI                25444\n",
              "diabetes               0\n",
              "dtype: int64"
            ]
          },
          "metadata": {},
          "execution_count": 19
        }
      ]
    },
    {
      "cell_type": "code",
      "metadata": {
        "id": "8bi2UqkNGVty"
      },
      "source": [
        "# fill in missing values for smoking_history\n",
        "heartDF2 = heartDF.na.fill('No Info', subset=['smoking_history'])\n",
        "# fill in miss values for BMI with mean\n",
        "\n",
        "cmean = heartDF2.select(mean(heartDF2['BMI'])).collect()\n",
        "meanBMI = cmean[0][0]\n",
        "heartDF2 = heartDF2.na.fill(meanBMI,['BMI'])"
      ],
      "execution_count": 20,
      "outputs": []
    },
    {
      "cell_type": "code",
      "metadata": {
        "id": "RdUNDmw89DU9",
        "colab": {
          "base_uri": "https://localhost:8080/"
        },
        "outputId": "bc475a49-e8e3-4b8c-e0f7-54a7e123bdc5"
      },
      "source": [
        "heartDF2.describe().show()\n",
        "# note, mean BMI has not changed, but std of BMI has reduced, as expected"
      ],
      "execution_count": 21,
      "outputs": [
        {
          "output_type": "stream",
          "name": "stdout",
          "text": [
            "+-------+------+-----------------+------------------+------------------+---------------+------------------+-------------------+\n",
            "|summary|gender|              age|      hypertension|     heart_disease|smoking_history|               BMI|           diabetes|\n",
            "+-------+------+-----------------+------------------+------------------+---------------+------------------+-------------------+\n",
            "|  count|100000|           100000|            100000|            100000|         100000|            100000|             100000|\n",
            "|   mean|  null|41.88585600000013|           0.07485|           0.03942|           null|27.321028891031315|              0.085|\n",
            "| stddev|  null|22.51683987161704|0.2631504702289171|0.1945930169980986|           null|  6.63678340151884|0.27888308976661896|\n",
            "|    min|Female|             0.08|                 0|                 0|        No Info|             10.01|                  0|\n",
            "|    max| Other|             80.0|                 1|                 1|    not current|             95.69|                  1|\n",
            "+-------+------+-----------------+------------------+------------------+---------------+------------------+-------------------+\n",
            "\n"
          ]
        }
      ]
    },
    {
      "cell_type": "code",
      "metadata": {
        "id": "WmoC9764D6su",
        "colab": {
          "base_uri": "https://localhost:8080/"
        },
        "outputId": "77e32c6f-cfcb-4eb6-c9ea-04b1a126ff4f"
      },
      "source": [
        "heartDF2.toPandas().isnull().sum()"
      ],
      "execution_count": 22,
      "outputs": [
        {
          "output_type": "execute_result",
          "data": {
            "text/plain": [
              "gender             0\n",
              "age                0\n",
              "hypertension       0\n",
              "heart_disease      0\n",
              "smoking_history    0\n",
              "BMI                0\n",
              "diabetes           0\n",
              "dtype: int64"
            ]
          },
          "metadata": {},
          "execution_count": 22
        }
      ]
    },
    {
      "cell_type": "code",
      "metadata": {
        "id": "4Ee0UIcREOOl",
        "colab": {
          "base_uri": "https://localhost:8080/"
        },
        "outputId": "0b83e68c-b16a-4f3c-cf28-c0a0462407be"
      },
      "source": [
        "heartDF2.dtypes"
      ],
      "execution_count": 23,
      "outputs": [
        {
          "output_type": "execute_result",
          "data": {
            "text/plain": [
              "[('gender', 'string'),\n",
              " ('age', 'double'),\n",
              " ('hypertension', 'int'),\n",
              " ('heart_disease', 'int'),\n",
              " ('smoking_history', 'string'),\n",
              " ('BMI', 'double'),\n",
              " ('diabetes', 'int')]"
            ]
          },
          "metadata": {},
          "execution_count": 23
        }
      ]
    },
    {
      "cell_type": "markdown",
      "metadata": {
        "id": "s6v6Unpw22t3"
      },
      "source": [
        "# Serial Data Conversions <br>\n",
        "see https://spark.apache.org/docs/latest/ml-features.html"
      ]
    },
    {
      "cell_type": "markdown",
      "source": [
        "## String Indexer"
      ],
      "metadata": {
        "id": "dd-KV7QXKe-7"
      }
    },
    {
      "cell_type": "code",
      "metadata": {
        "id": "1reLB7VX3a0P"
      },
      "source": [
        "# we have two categorical varibales gender and smoking history\n",
        "# indexing all categorical columns in the dataset\n",
        "\n",
        "GenderIndexer = StringIndexer(inputCol=\"gender\", outputCol=\"genderIndex\")                       # Unfitted Transformer\n",
        "SmokeHistIndexer = StringIndexer(inputCol=\"smoking_history\", outputCol=\"smoking_statusIndex\")   # Unfitted Transformer"
      ],
      "execution_count": 24,
      "outputs": []
    },
    {
      "cell_type": "code",
      "source": [
        "heartDF2.show(5)"
      ],
      "metadata": {
        "colab": {
          "base_uri": "https://localhost:8080/"
        },
        "id": "O4xgyXfeHN4d",
        "outputId": "727f4198-0bb4-4872-d58c-e34ff12f7b8c"
      },
      "execution_count": 25,
      "outputs": [
        {
          "output_type": "stream",
          "name": "stdout",
          "text": [
            "+------+----+------------+-------------+---------------+------------------+--------+\n",
            "|gender| age|hypertension|heart_disease|smoking_history|               BMI|diabetes|\n",
            "+------+----+------------+-------------+---------------+------------------+--------+\n",
            "|Female|80.0|           0|            1|          never|             25.19|       0|\n",
            "|Female|54.0|           0|            0|        No Info|27.321028891034764|       0|\n",
            "|  Male|28.0|           0|            0|          never|27.321028891034764|       0|\n",
            "|Female|36.0|           0|            0|        current|             23.45|       0|\n",
            "|  Male|76.0|           1|            1|        current|             20.14|       0|\n",
            "+------+----+------------+-------------+---------------+------------------+--------+\n",
            "only showing top 5 rows\n",
            "\n"
          ]
        }
      ]
    },
    {
      "cell_type": "code",
      "source": [
        "# Using any one String Indexer\n",
        "#GenderIndexer.fit(heartDF2).transform(heartDF2).show()\n",
        "SmokeHistIndexer.fit(heartDF2).transform(heartDF2).show(5)                                   # Fitted Transformer - SmokeHistIndexer.fit(heartDF2)"
      ],
      "metadata": {
        "colab": {
          "base_uri": "https://localhost:8080/"
        },
        "id": "cXNlx6mDHVz1",
        "outputId": "1315a0b5-a1f8-4265-cdcd-135623996617"
      },
      "execution_count": 26,
      "outputs": [
        {
          "output_type": "stream",
          "name": "stdout",
          "text": [
            "+------+----+------------+-------------+---------------+------------------+--------+-------------------+\n",
            "|gender| age|hypertension|heart_disease|smoking_history|               BMI|diabetes|smoking_statusIndex|\n",
            "+------+----+------------+-------------+---------------+------------------+--------+-------------------+\n",
            "|Female|80.0|           0|            1|          never|             25.19|       0|                1.0|\n",
            "|Female|54.0|           0|            0|        No Info|27.321028891034764|       0|                0.0|\n",
            "|  Male|28.0|           0|            0|          never|27.321028891034764|       0|                1.0|\n",
            "|Female|36.0|           0|            0|        current|             23.45|       0|                3.0|\n",
            "|  Male|76.0|           1|            1|        current|             20.14|       0|                3.0|\n",
            "+------+----+------------+-------------+---------------+------------------+--------+-------------------+\n",
            "only showing top 5 rows\n",
            "\n"
          ]
        }
      ]
    },
    {
      "cell_type": "code",
      "source": [
        "# Putting TWO indexers, the start of the so-called Pipeline\n",
        "                                                                        # Fitted Transformer 1 - SmokeHistIndexer.fit(heartDF2)\n",
        "                                                                        # Fitted Transformer 2 - GenderIndexer.fit(SmokeHistIndexer.fit(heartDF2).transform(heartDF2))\n",
        "\n",
        "GenderIndexer.fit(SmokeHistIndexer.fit(heartDF2).transform(heartDF2)).transform(SmokeHistIndexer.fit(heartDF2).transform(heartDF2)).show(5)"
      ],
      "metadata": {
        "colab": {
          "base_uri": "https://localhost:8080/"
        },
        "id": "B4gJ0XxiKapw",
        "outputId": "f28bf6cd-a51a-4012-d02b-288de3d92809"
      },
      "execution_count": 27,
      "outputs": [
        {
          "output_type": "stream",
          "name": "stdout",
          "text": [
            "+------+----+------------+-------------+---------------+------------------+--------+-------------------+-----------+\n",
            "|gender| age|hypertension|heart_disease|smoking_history|               BMI|diabetes|smoking_statusIndex|genderIndex|\n",
            "+------+----+------------+-------------+---------------+------------------+--------+-------------------+-----------+\n",
            "|Female|80.0|           0|            1|          never|             25.19|       0|                1.0|        0.0|\n",
            "|Female|54.0|           0|            0|        No Info|27.321028891034764|       0|                0.0|        0.0|\n",
            "|  Male|28.0|           0|            0|          never|27.321028891034764|       0|                1.0|        1.0|\n",
            "|Female|36.0|           0|            0|        current|             23.45|       0|                3.0|        0.0|\n",
            "|  Male|76.0|           1|            1|        current|             20.14|       0|                3.0|        1.0|\n",
            "+------+----+------------+-------------+---------------+------------------+--------+-------------------+-----------+\n",
            "only showing top 5 rows\n",
            "\n"
          ]
        }
      ]
    },
    {
      "cell_type": "markdown",
      "source": [
        "## One Hot Encoder"
      ],
      "metadata": {
        "id": "V36Q0VtAK0zE"
      }
    },
    {
      "cell_type": "code",
      "source": [
        "OHE_Gender = OneHotEncoder(inputCols=[\"genderIndex\"], outputCols=[\"genderVec\"])\n",
        "#ohe.fit(??).transform(??).show()\n",
        "            # Unfitted Transformer - OHE_Gender\n",
        "            # Fitted Transformer - OHE_Gender.fit(GenderIndexer.fit(heartDF2).transform(heartDF2))\n",
        "\n",
        "OHE_Gender.fit(GenderIndexer.fit(heartDF2).transform(heartDF2)).transform(GenderIndexer.fit(heartDF2).transform(heartDF2)).show(5)"
      ],
      "metadata": {
        "colab": {
          "base_uri": "https://localhost:8080/"
        },
        "id": "oxtTDfstL_20",
        "outputId": "6e3fa24c-70d1-45ea-c30c-a1727baf535e"
      },
      "execution_count": 28,
      "outputs": [
        {
          "output_type": "stream",
          "name": "stdout",
          "text": [
            "+------+----+------------+-------------+---------------+------------------+--------+-----------+-------------+\n",
            "|gender| age|hypertension|heart_disease|smoking_history|               BMI|diabetes|genderIndex|    genderVec|\n",
            "+------+----+------------+-------------+---------------+------------------+--------+-----------+-------------+\n",
            "|Female|80.0|           0|            1|          never|             25.19|       0|        0.0|(2,[0],[1.0])|\n",
            "|Female|54.0|           0|            0|        No Info|27.321028891034764|       0|        0.0|(2,[0],[1.0])|\n",
            "|  Male|28.0|           0|            0|          never|27.321028891034764|       0|        1.0|(2,[1],[1.0])|\n",
            "|Female|36.0|           0|            0|        current|             23.45|       0|        0.0|(2,[0],[1.0])|\n",
            "|  Male|76.0|           1|            1|        current|             20.14|       0|        1.0|(2,[1],[1.0])|\n",
            "+------+----+------------+-------------+---------------+------------------+--------+-----------+-------------+\n",
            "only showing top 5 rows\n",
            "\n"
          ]
        }
      ]
    },
    {
      "cell_type": "code",
      "source": [
        "OHE_SmokeStat = OneHotEncoder(inputCols=[\"smoking_statusIndex\"], outputCols=[\"smoking_statusVec\"])\n",
        "#ohe.fit(??).transform(??).show()\n",
        "       # Unfitted Transformer - OHE_SmokeStat\n",
        "       # Fitted Transformer - OHE_SmokeStat.fit(SmokeHistIndexer.fit(heartDF2).transform(heartDF2))\n",
        "OHE_SmokeStat.fit(SmokeHistIndexer.fit(heartDF2).transform(heartDF2)).transform(SmokeHistIndexer.fit(heartDF2).transform(heartDF2)).show(5)"
      ],
      "metadata": {
        "colab": {
          "base_uri": "https://localhost:8080/"
        },
        "id": "SdVlWKjHMqFe",
        "outputId": "d164dad1-a238-4995-ed5d-4aac982138a8"
      },
      "execution_count": 29,
      "outputs": [
        {
          "output_type": "stream",
          "name": "stdout",
          "text": [
            "+------+----+------------+-------------+---------------+------------------+--------+-------------------+-----------------+\n",
            "|gender| age|hypertension|heart_disease|smoking_history|               BMI|diabetes|smoking_statusIndex|smoking_statusVec|\n",
            "+------+----+------------+-------------+---------------+------------------+--------+-------------------+-----------------+\n",
            "|Female|80.0|           0|            1|          never|             25.19|       0|                1.0|    (5,[1],[1.0])|\n",
            "|Female|54.0|           0|            0|        No Info|27.321028891034764|       0|                0.0|    (5,[0],[1.0])|\n",
            "|  Male|28.0|           0|            0|          never|27.321028891034764|       0|                1.0|    (5,[1],[1.0])|\n",
            "|Female|36.0|           0|            0|        current|             23.45|       0|                3.0|    (5,[3],[1.0])|\n",
            "|  Male|76.0|           1|            1|        current|             20.14|       0|                3.0|    (5,[3],[1.0])|\n",
            "+------+----+------------+-------------+---------------+------------------+--------+-------------------+-----------------+\n",
            "only showing top 5 rows\n",
            "\n"
          ]
        }
      ]
    },
    {
      "cell_type": "code",
      "metadata": {
        "id": "11DyqFjJ3azC"
      },
      "source": [
        "# Encoding Both Simltaenously\n",
        "OHE_Gender_Smoke = OneHotEncoder(inputCols=[\"genderIndex\",\"smoking_statusIndex\"],\n",
        "                                 outputCols=[\"genderVec\",\"smoking_statusVec\"])"
      ],
      "execution_count": 30,
      "outputs": []
    },
    {
      "cell_type": "code",
      "source": [
        "#The 'Pipeline' becomes even longer\n",
        "# but still ohe.fit(??).transform(??).show()\n",
        "       # OHE_Gender_Smoke.fit(what?a).transform(what?b)\n",
        "       # what?a = GenderIndexer.fit(SmokeHistIndexer.fit(heartDF2).transform(heartDF2)).transform(SmokeHistIndexer.fit(heartDF2).transform(heartDF2))\n",
        "       # what?b = GenderIndexer.fit(SmokeHistIndexer.fit(heartDF2).transform(heartDF2)).transform(SmokeHistIndexer.fit(heartDF2).transform(heartDF2))\n",
        "OHE_Gender_Smoke.fit(GenderIndexer.fit(SmokeHistIndexer.fit(heartDF2).transform(heartDF2)).transform(SmokeHistIndexer.fit(heartDF2).transform(heartDF2))).transform(GenderIndexer.fit(SmokeHistIndexer.fit(heartDF2).transform(heartDF2)).transform(SmokeHistIndexer.fit(heartDF2).transform(heartDF2))).show(5)"
      ],
      "metadata": {
        "colab": {
          "base_uri": "https://localhost:8080/"
        },
        "id": "C86yH_IzJH7B",
        "outputId": "4e293b3a-92ee-4876-b078-e4c8f573cb40"
      },
      "execution_count": 31,
      "outputs": [
        {
          "output_type": "stream",
          "name": "stdout",
          "text": [
            "+------+----+------------+-------------+---------------+------------------+--------+-------------------+-----------+-------------+-----------------+\n",
            "|gender| age|hypertension|heart_disease|smoking_history|               BMI|diabetes|smoking_statusIndex|genderIndex|    genderVec|smoking_statusVec|\n",
            "+------+----+------------+-------------+---------------+------------------+--------+-------------------+-----------+-------------+-----------------+\n",
            "|Female|80.0|           0|            1|          never|             25.19|       0|                1.0|        0.0|(2,[0],[1.0])|    (5,[1],[1.0])|\n",
            "|Female|54.0|           0|            0|        No Info|27.321028891034764|       0|                0.0|        0.0|(2,[0],[1.0])|    (5,[0],[1.0])|\n",
            "|  Male|28.0|           0|            0|          never|27.321028891034764|       0|                1.0|        1.0|(2,[1],[1.0])|    (5,[1],[1.0])|\n",
            "|Female|36.0|           0|            0|        current|             23.45|       0|                3.0|        0.0|(2,[0],[1.0])|    (5,[3],[1.0])|\n",
            "|  Male|76.0|           1|            1|        current|             20.14|       0|                3.0|        1.0|(2,[1],[1.0])|    (5,[3],[1.0])|\n",
            "+------+----+------------+-------------+---------------+------------------+--------+-------------------+-----------+-------------+-----------------+\n",
            "only showing top 5 rows\n",
            "\n"
          ]
        }
      ]
    },
    {
      "cell_type": "markdown",
      "source": [
        "## Assembler"
      ],
      "metadata": {
        "id": "r8-sMS4FN2fg"
      }
    },
    {
      "cell_type": "code",
      "metadata": {
        "id": "MHjkGz_0Cunq"
      },
      "source": [
        "F_assembler = VectorAssembler(inputCols=['genderVec',\n",
        " 'age',\n",
        " 'hypertension',\n",
        " 'heart_disease',\n",
        " 'BMI',\n",
        " 'smoking_statusVec'],outputCol='features')"
      ],
      "execution_count": 32,
      "outputs": []
    },
    {
      "cell_type": "code",
      "source": [
        "#assembler.transform(??).show()\n",
        "F_assembler.transform(OHE_Gender_Smoke.fit(GenderIndexer.fit(SmokeHistIndexer.fit(heartDF2).transform(heartDF2)).transform(SmokeHistIndexer.fit(heartDF2).transform(heartDF2))).transform(GenderIndexer.fit(SmokeHistIndexer.fit(heartDF2).transform(heartDF2)).transform(SmokeHistIndexer.fit(heartDF2).transform(heartDF2)))).show(5)"
      ],
      "metadata": {
        "colab": {
          "base_uri": "https://localhost:8080/"
        },
        "id": "Yk9gc5_FPj3k",
        "outputId": "93624785-ea9f-4f40-fcbe-f83af2139e96"
      },
      "execution_count": 33,
      "outputs": [
        {
          "output_type": "stream",
          "name": "stdout",
          "text": [
            "+------+----+------------+-------------+---------------+------------------+--------+-------------------+-----------+-------------+-----------------+--------------------+\n",
            "|gender| age|hypertension|heart_disease|smoking_history|               BMI|diabetes|smoking_statusIndex|genderIndex|    genderVec|smoking_statusVec|            features|\n",
            "+------+----+------------+-------------+---------------+------------------+--------+-------------------+-----------+-------------+-----------------+--------------------+\n",
            "|Female|80.0|           0|            1|          never|             25.19|       0|                1.0|        0.0|(2,[0],[1.0])|    (5,[1],[1.0])|(11,[0,2,4,5,7],[...|\n",
            "|Female|54.0|           0|            0|        No Info|27.321028891034764|       0|                0.0|        0.0|(2,[0],[1.0])|    (5,[0],[1.0])|(11,[0,2,5,6],[1....|\n",
            "|  Male|28.0|           0|            0|          never|27.321028891034764|       0|                1.0|        1.0|(2,[1],[1.0])|    (5,[1],[1.0])|(11,[1,2,5,7],[1....|\n",
            "|Female|36.0|           0|            0|        current|             23.45|       0|                3.0|        0.0|(2,[0],[1.0])|    (5,[3],[1.0])|(11,[0,2,5,9],[1....|\n",
            "|  Male|76.0|           1|            1|        current|             20.14|       0|                3.0|        1.0|(2,[1],[1.0])|    (5,[3],[1.0])|(11,[1,2,3,4,5,9]...|\n",
            "+------+----+------------+-------------+---------------+------------------+--------+-------------------+-----------+-------------+-----------------+--------------------+\n",
            "only showing top 5 rows\n",
            "\n"
          ]
        }
      ]
    },
    {
      "cell_type": "markdown",
      "metadata": {
        "id": "9ke6ZDDW3hmu"
      },
      "source": [
        "# Train-Test Split"
      ]
    },
    {
      "cell_type": "code",
      "metadata": {
        "colab": {
          "base_uri": "https://localhost:8080/"
        },
        "id": "WMWN3KQeRkGd",
        "outputId": "de0ec45d-e8aa-4c37-aa85-1ebe0cea0ad1"
      },
      "source": [
        "# splitting training and validation data\n",
        "train_heart,val_heart = heartDF2.randomSplit([0.7,0.3])\n",
        "print(train_heart.count())\n",
        "print(val_heart.count())"
      ],
      "execution_count": 34,
      "outputs": [
        {
          "output_type": "stream",
          "name": "stdout",
          "text": [
            "70026\n",
            "29974\n"
          ]
        }
      ]
    },
    {
      "cell_type": "markdown",
      "source": [
        "#Apply Different Techniques"
      ],
      "metadata": {
        "id": "z9aPo0ZYX_68"
      }
    },
    {
      "cell_type": "code",
      "source": [
        "basePipe = Pipeline(stages=[GenderIndexer, SmokeHistIndexer, OHE_Gender_Smoke, F_assembler])\n",
        "basePipe.fit(heartDF2).transform(heartDF2).show(5)"
      ],
      "metadata": {
        "colab": {
          "base_uri": "https://localhost:8080/"
        },
        "id": "4OadBfaAYdgU",
        "outputId": "3801557c-8f0d-4618-922a-bf064a11ecd0"
      },
      "execution_count": 35,
      "outputs": [
        {
          "output_type": "stream",
          "name": "stdout",
          "text": [
            "+------+----+------------+-------------+---------------+------------------+--------+-----------+-------------------+-------------+-----------------+--------------------+\n",
            "|gender| age|hypertension|heart_disease|smoking_history|               BMI|diabetes|genderIndex|smoking_statusIndex|    genderVec|smoking_statusVec|            features|\n",
            "+------+----+------------+-------------+---------------+------------------+--------+-----------+-------------------+-------------+-----------------+--------------------+\n",
            "|Female|80.0|           0|            1|          never|             25.19|       0|        0.0|                1.0|(2,[0],[1.0])|    (5,[1],[1.0])|(11,[0,2,4,5,7],[...|\n",
            "|Female|54.0|           0|            0|        No Info|27.321028891034764|       0|        0.0|                0.0|(2,[0],[1.0])|    (5,[0],[1.0])|(11,[0,2,5,6],[1....|\n",
            "|  Male|28.0|           0|            0|          never|27.321028891034764|       0|        1.0|                1.0|(2,[1],[1.0])|    (5,[1],[1.0])|(11,[1,2,5,7],[1....|\n",
            "|Female|36.0|           0|            0|        current|             23.45|       0|        0.0|                3.0|(2,[0],[1.0])|    (5,[3],[1.0])|(11,[0,2,5,9],[1....|\n",
            "|  Male|76.0|           1|            1|        current|             20.14|       0|        1.0|                3.0|(2,[1],[1.0])|    (5,[3],[1.0])|(11,[1,2,3,4,5,9]...|\n",
            "+------+----+------------+-------------+---------------+------------------+--------+-----------+-------------------+-------------+-----------------+--------------------+\n",
            "only showing top 5 rows\n",
            "\n"
          ]
        }
      ]
    },
    {
      "cell_type": "markdown",
      "metadata": {
        "id": "l3OMs78y3nTG"
      },
      "source": [
        "## Logistic Regression Model Pipeline"
      ]
    },
    {
      "cell_type": "code",
      "metadata": {
        "id": "Qks5jAFPCujR"
      },
      "source": [
        "lr = LogisticRegression(labelCol='diabetes',featuresCol='features',maxIter=5)\n",
        "#lr_pipeline = Pipeline(stages=[GenderIndexer, SmokeHistIndexer, OHE_Gender_Smoke, F_assembler,lr])\n",
        "lr_pipeline = Pipeline(stages=[basePipe,lr])                    # Appending a stage to a pipeline\n",
        "# training model pipeline with data\n",
        "lr_model = lr_pipeline.fit(train_heart)\n",
        "lr_predictions=lr_model.transform(val_heart)"
      ],
      "execution_count": 36,
      "outputs": []
    },
    {
      "cell_type": "code",
      "source": [
        "lr_predictions.show(5)"
      ],
      "metadata": {
        "id": "razlA8cs1kqf",
        "outputId": "be9580fc-919a-4dd3-dc36-65e54c6ca586",
        "colab": {
          "base_uri": "https://localhost:8080/"
        }
      },
      "execution_count": 37,
      "outputs": [
        {
          "output_type": "stream",
          "name": "stdout",
          "text": [
            "+------+----+------------+-------------+---------------+------------------+--------+-----------+-------------------+-------------+-----------------+--------------------+--------------------+--------------------+----------+\n",
            "|gender| age|hypertension|heart_disease|smoking_history|               BMI|diabetes|genderIndex|smoking_statusIndex|    genderVec|smoking_statusVec|            features|       rawPrediction|         probability|prediction|\n",
            "+------+----+------------+-------------+---------------+------------------+--------+-----------+-------------------+-------------+-----------------+--------------------+--------------------+--------------------+----------+\n",
            "|Female|0.08|           0|            0|        No Info|             12.22|       0|        0.0|                0.0|(2,[0],[1.0])|    (5,[0],[1.0])|(11,[0,2,5,6],[1....|[6.71356043167142...|[0.99878713994642...|       0.0|\n",
            "|Female|0.08|           0|            0|        No Info|             12.74|       0|        0.0|                0.0|(2,[0],[1.0])|    (5,[0],[1.0])|(11,[0,2,5,6],[1....|[6.67107503863764...|[0.99873456744245...|       0.0|\n",
            "|Female|0.08|           0|            0|        No Info|             14.43|       0|        0.0|                0.0|(2,[0],[1.0])|    (5,[0],[1.0])|(11,[0,2,5,6],[1....|[6.53299751127786...|[0.99854747388975...|       0.0|\n",
            "|Female|0.08|           0|            0|        No Info|27.321028891034764|       0|        0.0|                0.0|(2,[0],[1.0])|    (5,[0],[1.0])|(11,[0,2,5,6],[1....|[5.47976591695975...|[0.99584701344233...|       0.0|\n",
            "|Female|0.08|           0|            0|        No Info|27.321028891034764|       0|        0.0|                0.0|(2,[0],[1.0])|    (5,[0],[1.0])|(11,[0,2,5,6],[1....|[5.47976591695975...|[0.99584701344233...|       0.0|\n",
            "+------+----+------------+-------------+---------------+------------------+--------+-----------+-------------------+-------------+-----------------+--------------------+--------------------+--------------------+----------+\n",
            "only showing top 5 rows\n",
            "\n"
          ]
        }
      ]
    },
    {
      "cell_type": "code",
      "source": [
        "acc_evaluator = MulticlassClassificationEvaluator(labelCol=\"diabetes\", predictionCol=\"prediction\", metricName=\"accuracy\")\n",
        "evaluator = BinaryClassificationEvaluator(labelCol='diabetes')"
      ],
      "metadata": {
        "id": "RrZNi4HjOVQv"
      },
      "execution_count": 38,
      "outputs": []
    },
    {
      "cell_type": "code",
      "metadata": {
        "id": "oDo7EXEJgF6O",
        "colab": {
          "base_uri": "https://localhost:8080/"
        },
        "outputId": "47ca044d-2f08-432b-d30b-d1b2f1b86e56"
      },
      "source": [
        "lr_acc=acc_evaluator.evaluate(lr_predictions)\n",
        "#print('A Logistic Regression algorithm had an accuracy of: {0:2.2f}%'.format(lr_acc*100))\n",
        "print(round(lr_acc,3), 'is the accuray of the LR pipeline')\n",
        "lr_auroc = evaluator.evaluate(lr_predictions, {evaluator.metricName: \"areaUnderROC\"})\n",
        "#auprc = evaluator.evaluate(predictions, {evaluator.metricName: \"areaUnderPR\"})\n",
        "print(\"Area under ROC Curve: {:.4f}\".format(lr_auroc))\n",
        "#print(\"Area under PR Curve: {:.4f}\".format(auprc))\n"
      ],
      "execution_count": 39,
      "outputs": [
        {
          "output_type": "stream",
          "name": "stdout",
          "text": [
            "0.914 is the accuray of the LR pipeline\n",
            "Area under ROC Curve: 0.8370\n"
          ]
        }
      ]
    },
    {
      "cell_type": "markdown",
      "metadata": {
        "id": "AdtPW1G0_2rE"
      },
      "source": [
        "## Random Forest Pipeline"
      ]
    },
    {
      "cell_type": "code",
      "metadata": {
        "id": "X4w6_NSU-Oo0"
      },
      "source": [
        "rf = RandomForestClassifier(featuresCol = 'features', labelCol = 'diabetes')\n",
        "#rf_pipeline = Pipeline(stages=[GenderIndexer, SmokeHistIndexer, OHE_Gender_Smoke, F_assembler, rf])\n",
        "rf_pipeline = Pipeline(stages=[basePipe, rf])\n",
        "# training model pipeline with data\n",
        "rf_model = rf_pipeline.fit(train_heart)\n",
        "rf_predictions=rf_model.transform(val_heart)"
      ],
      "execution_count": 40,
      "outputs": []
    },
    {
      "cell_type": "code",
      "metadata": {
        "colab": {
          "base_uri": "https://localhost:8080/"
        },
        "id": "zSqqUwaF_c-t",
        "outputId": "1758d464-3b24-4234-b83e-d107d040348e"
      },
      "source": [
        "rf_acc=acc_evaluator.evaluate(rf_predictions)\n",
        "print('A Random Forest algorithm had an accuracy of: {0:2.2f}%'.format(rf_acc*100))\n",
        "# We have only two choices: area under ROC and PR curves :-(\n",
        "rf_auroc = evaluator.evaluate(rf_predictions, {evaluator.metricName: \"areaUnderROC\"})\n",
        "#auprc = evaluator.evaluate(predictions, {evaluator.metricName: \"areaUnderPR\"})\n",
        "print(\"Area under ROC Curve: {:.4f}\".format(rf_auroc))\n",
        "#print(\"Area under PR Curve: {:.4f}\".format(auprc))"
      ],
      "execution_count": 41,
      "outputs": [
        {
          "output_type": "stream",
          "name": "stdout",
          "text": [
            "A Random Forest algorithm had an accuracy of: 91.35%\n",
            "Area under ROC Curve: 0.8213\n"
          ]
        }
      ]
    },
    {
      "cell_type": "markdown",
      "metadata": {
        "id": "CKGXXeDZ3xJW"
      },
      "source": [
        "## Gradient Boost Model Pipeline"
      ]
    },
    {
      "cell_type": "code",
      "metadata": {
        "id": "jT4BVirjWMad"
      },
      "source": [
        "gbt = GBTClassifier(labelCol='diabetes',featuresCol='features')\n",
        "#gbt_pipeline = Pipeline(stages=[GenderIndexer, SmokeHistIndexer, OHE_Gender_Smoke, F_assembler, gbt])\n",
        "gbt_pipeline = Pipeline(stages=[basePipe, gbt])\n",
        "gbt_model = gbt_pipeline.fit(train_heart)\n",
        "gbt_predictions = gbt_model.transform(val_heart)"
      ],
      "execution_count": 42,
      "outputs": []
    },
    {
      "cell_type": "code",
      "metadata": {
        "id": "EF6fBtImnTMR",
        "colab": {
          "base_uri": "https://localhost:8080/"
        },
        "outputId": "1f2628b4-d7ba-4e97-8e7c-85fc583c7682"
      },
      "source": [
        "gbt_acc = acc_evaluator.evaluate(gbt_predictions)\n",
        "print('Gradient Boost algorithm had an accuracy of: {0:2.2f}%'.format(gbt_acc*100))\n",
        "# We have only two choices: area under ROC and PR curves :-(\n",
        "gbt_auroc = evaluator.evaluate(gbt_predictions, {evaluator.metricName: \"areaUnderROC\"})\n",
        "#auprc = evaluator.evaluate(predictions, {evaluator.metricName: \"areaUnderPR\"})\n",
        "print(\"Area under ROC Curve: {:.4f}\".format(gbt_auroc))\n",
        "#print(\"Area under PR Curve: {:.4f}\".format(auprc))"
      ],
      "execution_count": 43,
      "outputs": [
        {
          "output_type": "stream",
          "name": "stdout",
          "text": [
            "Gradient Boost algorithm had an accuracy of: 91.41%\n",
            "Area under ROC Curve: 0.8361\n"
          ]
        }
      ]
    },
    {
      "cell_type": "markdown",
      "source": [
        "# Comparison of LR, RF, GBT"
      ],
      "metadata": {
        "id": "w83Pn2-8XaLo"
      }
    },
    {
      "cell_type": "code",
      "source": [
        "print(round(lr_acc,3), 'is the accuray of the LR pipeline')\n",
        "print(round(rf_acc,3), 'is the accuray of the RF pipeline')\n",
        "print(round(gbt_acc,3), 'is the accuray of the GBT pipeline')\n",
        "\n",
        "print(round(lr_auroc,3), 'is area under ROC curve of the LR pipeline')\n",
        "print(round(rf_auroc,3), 'is area under ROC curve of the RF pipeline')\n",
        "print(round(gbt_auroc,3), 'is area under ROC curve of the GBT pipeline')"
      ],
      "metadata": {
        "colab": {
          "base_uri": "https://localhost:8080/"
        },
        "id": "vHbqxmXGXb6Q",
        "outputId": "f333347b-3c76-43bf-c86a-f4c70793abdb"
      },
      "execution_count": 44,
      "outputs": [
        {
          "output_type": "stream",
          "name": "stdout",
          "text": [
            "0.914 is the accuray of the LR pipeline\n",
            "0.913 is the accuray of the RF pipeline\n",
            "0.914 is the accuray of the GBT pipeline\n",
            "0.837 is area under ROC curve of the LR pipeline\n",
            "0.821 is area under ROC curve of the RF pipeline\n",
            "0.836 is area under ROC curve of the GBT pipeline\n"
          ]
        }
      ]
    },
    {
      "cell_type": "markdown",
      "source": [
        "# Convert Once, Apply Different Techniques <br>\n",
        "without having to fit again https://stackoverflow.com/questions/49337830/spark-add-new-fitted-stage-to-a-exitsting-pipelinemodel-without-fitting-again\n",
        "\n",
        "\n"
      ],
      "metadata": {
        "id": "t_ZFAp_IhnV1"
      }
    },
    {
      "cell_type": "code",
      "source": [
        "commonEstimator = Pipeline(stages=[GenderIndexer, SmokeHistIndexer, OHE_Gender_Smoke, F_assembler]) # A pipeline is an estimator\n",
        "commonModel = commonEstimator.fit(train_heart)                                                      # A fitted pipeline is a model\n",
        "\n",
        "commonTrainHeart = commonModel.transform(train_heart)\n",
        "commonTrainHeart.show(5)"
      ],
      "metadata": {
        "id": "rzUXaPDy291X",
        "outputId": "b63bc024-38ef-404c-e1c5-3f9543212d3d",
        "colab": {
          "base_uri": "https://localhost:8080/"
        }
      },
      "execution_count": 45,
      "outputs": [
        {
          "output_type": "stream",
          "name": "stdout",
          "text": [
            "+------+----+------------+-------------+---------------+-----+--------+-----------+-------------------+-------------+-----------------+--------------------+\n",
            "|gender| age|hypertension|heart_disease|smoking_history|  BMI|diabetes|genderIndex|smoking_statusIndex|    genderVec|smoking_statusVec|            features|\n",
            "+------+----+------------+-------------+---------------+-----+--------+-----------+-------------------+-------------+-----------------+--------------------+\n",
            "|Female|0.08|           0|            0|        No Info|11.88|       0|        0.0|                0.0|(2,[0],[1.0])|    (5,[0],[1.0])|(11,[0,2,5,6],[1....|\n",
            "|Female|0.08|           0|            0|        No Info| 12.5|       0|        0.0|                0.0|(2,[0],[1.0])|    (5,[0],[1.0])|(11,[0,2,5,6],[1....|\n",
            "|Female|0.08|           0|            0|        No Info|12.77|       0|        0.0|                0.0|(2,[0],[1.0])|    (5,[0],[1.0])|(11,[0,2,5,6],[1....|\n",
            "|Female|0.08|           0|            0|        No Info|12.82|       0|        0.0|                0.0|(2,[0],[1.0])|    (5,[0],[1.0])|(11,[0,2,5,6],[1....|\n",
            "|Female|0.08|           0|            0|        No Info|13.03|       0|        0.0|                0.0|(2,[0],[1.0])|    (5,[0],[1.0])|(11,[0,2,5,6],[1....|\n",
            "+------+----+------------+-------------+---------------+-----+--------+-----------+-------------------+-------------+-----------------+--------------------+\n",
            "only showing top 5 rows\n",
            "\n"
          ]
        }
      ]
    },
    {
      "cell_type": "markdown",
      "source": [
        "##Logistic Regression"
      ],
      "metadata": {
        "id": "CpJr7S1J7_sK"
      }
    },
    {
      "cell_type": "code",
      "source": [
        "lr0 = LogisticRegression(labelCol='diabetes',featuresCol='features',maxIter=5)\n",
        "lr0Estimator = Pipeline(stages=[lr0])                               # A pipeline is an estimator\n",
        "lr0model = lr0Estimator.fit(commonTrainHeart)                       # A fitted pipeline is a model\n",
        "\n",
        "lr1model = PipelineModel(stages = [commonModel , lr0model])         # Adding two models together\n",
        "lr1model_predictions = lr1model.transform(val_heart)"
      ],
      "metadata": {
        "id": "CpOnpWfu4kuk"
      },
      "execution_count": 46,
      "outputs": []
    },
    {
      "cell_type": "code",
      "source": [
        "acc_evaluator = MulticlassClassificationEvaluator(labelCol=\"diabetes\", predictionCol=\"prediction\", metricName=\"accuracy\")\n",
        "lr1_acc=acc_evaluator.evaluate(lr1model_predictions)\n",
        "\n",
        "print(round(lr1_acc,3), 'is the accuray of the new LR pipeline')\n",
        "evaluator = BinaryClassificationEvaluator(labelCol='diabetes')\n",
        "lr1_auroc = evaluator.evaluate(lr1model_predictions, {evaluator.metricName: \"areaUnderROC\"})\n",
        "print(\"Area under ROC Curve: {:.4f}\".format(lr1_auroc))\n"
      ],
      "metadata": {
        "id": "a2aen7dA9NR2",
        "outputId": "21139c3b-af8f-4e40-f930-eba030bd4547",
        "colab": {
          "base_uri": "https://localhost:8080/"
        }
      },
      "execution_count": 47,
      "outputs": [
        {
          "output_type": "stream",
          "name": "stdout",
          "text": [
            "0.914 is the accuray of the new LR pipeline\n",
            "Area under ROC Curve: 0.8370\n"
          ]
        }
      ]
    },
    {
      "cell_type": "markdown",
      "source": [
        "## Random Forest"
      ],
      "metadata": {
        "id": "g1qAVkeRQpiT"
      }
    },
    {
      "cell_type": "code",
      "source": [
        "rf0 = RandomForestClassifier(featuresCol = 'features', labelCol = 'diabetes')\n",
        "rf0Estimator = Pipeline(stages=[rf0])                               # A pipeline is an estimator\n",
        "rf0model = rf0Estimator.fit(commonTrainHeart)                       # A fitted pipeline is a model\n",
        "\n",
        "rf1model = PipelineModel(stages = [commonModel , rf0model])         # Adding two models together\n",
        "rf1model_predictions = rf1model.transform(val_heart)\n"
      ],
      "metadata": {
        "id": "TDoCNWixQ7DA"
      },
      "execution_count": 48,
      "outputs": []
    },
    {
      "cell_type": "code",
      "source": [
        "acc_evaluator = MulticlassClassificationEvaluator(labelCol=\"diabetes\", predictionCol=\"prediction\", metricName=\"accuracy\")\n",
        "rf1_acc=acc_evaluator.evaluate(rf1model_predictions)\n",
        "\n",
        "print(round(rf1_acc,3), 'is the accuray of the new RF pipeline')\n",
        "evaluator = BinaryClassificationEvaluator(labelCol='diabetes')\n",
        "rf1_auroc = evaluator.evaluate(rf1model_predictions, {evaluator.metricName: \"areaUnderROC\"})\n",
        "print(\"Area under ROC Curve: {:.4f}\".format(rf1_auroc))"
      ],
      "metadata": {
        "id": "Fit-WSCWRtnY",
        "outputId": "1509422d-c338-429a-c7d4-e2c7631387a5",
        "colab": {
          "base_uri": "https://localhost:8080/"
        }
      },
      "execution_count": 49,
      "outputs": [
        {
          "output_type": "stream",
          "name": "stdout",
          "text": [
            "0.913 is the accuray of the new RF pipeline\n",
            "Area under ROC Curve: 0.8213\n"
          ]
        }
      ]
    },
    {
      "cell_type": "markdown",
      "source": [
        "##Gradient Boost"
      ],
      "metadata": {
        "id": "24ouhCbxilDu"
      }
    },
    {
      "cell_type": "code",
      "source": [
        "gbt0 = GBTClassifier(featuresCol = 'features', labelCol = 'diabetes')\n",
        "gbt0Estimator = Pipeline(stages=[gbt0])                               # A pipeline is an estimator\n",
        "gbt0model = gbt0Estimator.fit(commonTrainHeart)                       # A fitted pipeline is a model\n",
        "\n",
        "gbt1model = PipelineModel(stages = [commonModel , gbt0model])         # Adding two models together\n",
        "gbt1model_predictions = gbt1model.transform(val_heart)"
      ],
      "metadata": {
        "id": "SPgfTaqKindj"
      },
      "execution_count": 50,
      "outputs": []
    },
    {
      "cell_type": "code",
      "source": [
        "acc_evaluator = MulticlassClassificationEvaluator(labelCol=\"diabetes\", predictionCol=\"prediction\", metricName=\"accuracy\")\n",
        "gbt1_acc=acc_evaluator.evaluate(gbt1model_predictions)\n",
        "\n",
        "print(round(gbt1_acc,3), 'is the accuray of the new GBT pipeline')\n",
        "evaluator = BinaryClassificationEvaluator(labelCol='diabetes')\n",
        "gbt1_auroc = evaluator.evaluate(gbt1model_predictions, {evaluator.metricName: \"areaUnderROC\"})\n",
        "print(\"Area under ROC Curve: {:.4f}\".format(gbt1_auroc))"
      ],
      "metadata": {
        "id": "6btIuuvnjdB7",
        "outputId": "bc55594e-4abe-475f-a08e-3bf4b621e43f",
        "colab": {
          "base_uri": "https://localhost:8080/"
        }
      },
      "execution_count": 51,
      "outputs": [
        {
          "output_type": "stream",
          "name": "stdout",
          "text": [
            "0.914 is the accuray of the new GBT pipeline\n",
            "Area under ROC Curve: 0.8361\n"
          ]
        }
      ]
    },
    {
      "cell_type": "code",
      "source": [
        "!date\n",
        "from datetime import datetime\n",
        "import pytz\n",
        "print('Tested',datetime.now(pytz.timezone('Asia/Calcutta')))"
      ],
      "metadata": {
        "id": "33YEsN5OeC8i",
        "outputId": "fd6fe966-b188-41d2-c0a2-e9372e5e6dde",
        "colab": {
          "base_uri": "https://localhost:8080/"
        }
      },
      "execution_count": 52,
      "outputs": [
        {
          "output_type": "stream",
          "name": "stdout",
          "text": [
            "Tue 20 Jun 2023 05:16:26 AM UTC\n",
            "Tested 2023-06-20 10:46:26.979099+05:30\n"
          ]
        }
      ]
    },
    {
      "cell_type": "markdown",
      "source": [
        "#Chronobooks <br>\n",
        "![alt text](https://1.bp.blogspot.com/-lTiYBkU2qbU/X1er__fvnkI/AAAAAAAAjtE/GhDR3OEGJr4NG43fZPodrQD5kbxtnKebgCLcBGAsYHQ/s600/Footer2020-600x200.png)<hr>\n",
        "Chronotantra and Chronoyantra are two science fiction novels that explore the collapse of human civilisation on Earth and then its rebirth and reincarnation both on Earth as well as on the distant worlds of Mars, Titan and Enceladus. But is it the human civilisation that is being reborn? Or is it some other sentience that is revealing itself.\n",
        "If you have an interest in AI and found this material useful, you may consider buying these novels, in paperback or kindle, from [http://bit.ly/chronobooks](http://bit.ly/chronobooks)"
      ],
      "metadata": {
        "id": "XYiDzRJ0GmIB"
      }
    }
  ]
}