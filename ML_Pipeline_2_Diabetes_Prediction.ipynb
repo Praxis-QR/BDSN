{
  "nbformat": 4,
  "nbformat_minor": 0,
  "metadata": {
    "colab": {
      "name": "Pipeline #2  - Diabetes Prediction",
      "provenance": [],
      "toc_visible": true,
      "include_colab_link": true
    },
    "kernelspec": {
      "name": "python3",
      "display_name": "Python 3"
    }
  },
  "cells": [
    {
      "cell_type": "markdown",
      "metadata": {
        "id": "view-in-github",
        "colab_type": "text"
      },
      "source": [
        "<a href=\"https://colab.research.google.com/github/Praxis-QR/BDSN/blob/main/ML_Pipeline_2_Diabetes_Prediction.ipynb\" target=\"_parent\"><img src=\"https://colab.research.google.com/assets/colab-badge.svg\" alt=\"Open In Colab\"/></a>"
      ]
    },
    {
      "cell_type": "markdown",
      "source": [
        "![CC-BY-SA](https://licensebuttons.net/l/by-sa/3.0/88x31.png)<br>\n",
        "<hr>\n",
        "\n",
        "![alt text](https://github.com/Praxis-QR/RDWH/raw/main/images/YantraJaalBanner.png)<br>\n",
        "\n",
        "\n",
        "<hr>\n",
        "\n",
        "[Prithwis Mukerjee](http://www.linkedin.com/in/prithwis)<br>"
      ],
      "metadata": {
        "id": "6I78TNTj_wDe"
      }
    },
    {
      "cell_type": "code",
      "source": [
        "from datetime import datetime\n",
        "import pytz\n",
        "print('Tested',datetime.now(pytz.timezone('Asia/Calcutta')))"
      ],
      "metadata": {
        "id": "tD3MXrUBkW8T",
        "outputId": "9fa6f825-a96c-4db7-c80f-1454f4bf910f",
        "colab": {
          "base_uri": "https://localhost:8080/"
        }
      },
      "execution_count": 1,
      "outputs": [
        {
          "output_type": "stream",
          "name": "stdout",
          "text": [
            "Tested 2023-12-18 05:46:18.918904+05:30\n"
          ]
        }
      ]
    },
    {
      "cell_type": "markdown",
      "source": [
        "#Common Pipelines for Logistic Regression, Random Forest, Gradient Boost <br>\n",
        "[What are Pipelines & PipelineModels?](https://spark.apache.org/docs/latest/ml-pipeline.html)\n",
        "![alt text](https://raw.githubusercontent.com/Praxis-QR/BDSN/main/images/pipeline.png)<br>"
      ],
      "metadata": {
        "id": "VGKh6mTP0fPy"
      }
    },
    {
      "cell_type": "markdown",
      "source": [
        "#Spark Install"
      ],
      "metadata": {
        "id": "Mor2U8YP1eMo"
      }
    },
    {
      "cell_type": "code",
      "metadata": {
        "id": "TbGuxmEWq0Zi",
        "outputId": "b042169b-582b-455e-decf-5d98cc768f14",
        "colab": {
          "base_uri": "https://localhost:8080/"
        }
      },
      "source": [
        "!pip3 -q install pyspark\n",
        "from pyspark.sql import SparkSession\n",
        "spark = SparkSession.builder.appName('Praxis').master(\"local[*]\").getOrCreate()\n",
        "sc = spark.sparkContext\n",
        "#sc"
      ],
      "execution_count": 2,
      "outputs": [
        {
          "output_type": "stream",
          "name": "stdout",
          "text": [
            "\u001b[2K     \u001b[90m━━━━━━━━━━━━━━━━━━━━━━━━━━━━━━━━━━━━━━━━\u001b[0m \u001b[32m316.9/316.9 MB\u001b[0m \u001b[31m2.7 MB/s\u001b[0m eta \u001b[36m0:00:00\u001b[0m\n",
            "\u001b[?25h  Preparing metadata (setup.py) ... \u001b[?25l\u001b[?25hdone\n",
            "  Building wheel for pyspark (setup.py) ... \u001b[?25l\u001b[?25hdone\n"
          ]
        }
      ]
    },
    {
      "cell_type": "markdown",
      "source": [
        "## Imports"
      ],
      "metadata": {
        "id": "jmOtXSNXExHv"
      }
    },
    {
      "cell_type": "code",
      "source": [
        "from pyspark.sql.functions import mean\n",
        "from pyspark.ml.feature import (VectorAssembler,OneHotEncoder, StringIndexer)\n",
        "from pyspark.ml import Pipeline\n",
        "from pyspark.ml import PipelineModel\n",
        "from pyspark.ml.classification import LogisticRegression\n",
        "from pyspark.ml.classification import RandomForestClassifier\n",
        "from pyspark.ml.classification import GBTClassifier\n",
        "from pyspark.ml.evaluation import MulticlassClassificationEvaluator\n",
        "from pyspark.ml.evaluation import BinaryClassificationEvaluator\n"
      ],
      "metadata": {
        "id": "j1cE0WaBEzGt"
      },
      "execution_count": 3,
      "outputs": []
    },
    {
      "cell_type": "markdown",
      "metadata": {
        "id": "egmxIzPs1mdY"
      },
      "source": [
        "# Data"
      ]
    },
    {
      "cell_type": "markdown",
      "source": [
        "## Load Data"
      ],
      "metadata": {
        "id": "zSJkvCz7Jv4Q"
      }
    },
    {
      "cell_type": "code",
      "source": [
        "!wget -O heart.csv -q https://raw.githubusercontent.com/Praxis-QR/BDSN/main/Documents/BigML_Heart_Dataset.csv"
      ],
      "metadata": {
        "id": "zH9wlX56A1nR"
      },
      "execution_count": 4,
      "outputs": []
    },
    {
      "cell_type": "code",
      "metadata": {
        "id": "MdTpklFXrNIO",
        "colab": {
          "base_uri": "https://localhost:8080/"
        },
        "outputId": "88e30601-4572-43eb-f190-80e1716d5656"
      },
      "source": [
        "#loading dataset into spark dataframe\n",
        "heartDF = spark.read.csv('heart.csv', inferSchema=True,header=True)\n",
        "heartDF.show(5)"
      ],
      "execution_count": 5,
      "outputs": [
        {
          "output_type": "stream",
          "name": "stdout",
          "text": [
            "+------+----+------------+-------------+---------------+-----+--------+\n",
            "|gender| age|hypertension|heart_disease|smoking_history|  BMI|diabetes|\n",
            "+------+----+------------+-------------+---------------+-----+--------+\n",
            "|Female|80.0|           0|            1|          never|25.19|       0|\n",
            "|Female|54.0|           0|            0|           NULL| NULL|       0|\n",
            "|  Male|28.0|           0|            0|          never| NULL|       0|\n",
            "|Female|36.0|           0|            0|        current|23.45|       0|\n",
            "|  Male|76.0|           1|            1|        current|20.14|       0|\n",
            "+------+----+------------+-------------+---------------+-----+--------+\n",
            "only showing top 5 rows\n",
            "\n"
          ]
        }
      ]
    },
    {
      "cell_type": "markdown",
      "metadata": {
        "id": "8plUnE7W1s_U"
      },
      "source": [
        "## Data Quick Look\n"
      ]
    },
    {
      "cell_type": "code",
      "metadata": {
        "colab": {
          "base_uri": "https://localhost:8080/"
        },
        "id": "Q6Q3WzOTP8qo",
        "outputId": "cae1f5b6-224a-46ad-9cfd-7d4b9b880e20"
      },
      "source": [
        "print((heartDF.count(),len(heartDF.columns)))"
      ],
      "execution_count": 6,
      "outputs": [
        {
          "output_type": "stream",
          "name": "stdout",
          "text": [
            "(100000, 7)\n"
          ]
        }
      ]
    },
    {
      "cell_type": "code",
      "metadata": {
        "colab": {
          "base_uri": "https://localhost:8080/"
        },
        "id": "O9VO-tjZrbIz",
        "outputId": "9c1da4aa-9550-4dbc-e636-e7b725f50753"
      },
      "source": [
        "heartDF.printSchema()"
      ],
      "execution_count": 7,
      "outputs": [
        {
          "output_type": "stream",
          "name": "stdout",
          "text": [
            "root\n",
            " |-- gender: string (nullable = true)\n",
            " |-- age: double (nullable = true)\n",
            " |-- hypertension: integer (nullable = true)\n",
            " |-- heart_disease: integer (nullable = true)\n",
            " |-- smoking_history: string (nullable = true)\n",
            " |-- BMI: double (nullable = true)\n",
            " |-- diabetes: integer (nullable = true)\n",
            "\n"
          ]
        }
      ]
    },
    {
      "cell_type": "code",
      "metadata": {
        "colab": {
          "base_uri": "https://localhost:8080/"
        },
        "id": "f0b_I_fyQ3AS",
        "outputId": "be3ac78e-38f3-4169-80ca-7177d6e3e3ed"
      },
      "source": [
        "#descriptive analysis\n",
        "heartDF.describe().show()"
      ],
      "execution_count": 8,
      "outputs": [
        {
          "output_type": "stream",
          "name": "stdout",
          "text": [
            "+-------+------+-----------------+------------------+------------------+---------------+------------------+-------------------+\n",
            "|summary|gender|              age|      hypertension|     heart_disease|smoking_history|               BMI|           diabetes|\n",
            "+-------+------+-----------------+------------------+------------------+---------------+------------------+-------------------+\n",
            "|  count|100000|           100000|            100000|            100000|          64184|             74556|             100000|\n",
            "|   mean|  NULL|41.88585600000013|           0.07485|           0.03942|           NULL|27.321028891034764|              0.085|\n",
            "| stddev|  NULL|22.51683987161704|0.2631504702289171|0.1945930169980986|           NULL| 7.686295651045002|0.27888308976661896|\n",
            "|    min|Female|             0.08|                 0|                 0|        current|             10.01|                  0|\n",
            "|    max| Other|             80.0|                 1|                 1|    not current|             95.69|                  1|\n",
            "+-------+------+-----------------+------------------+------------------+---------------+------------------+-------------------+\n",
            "\n"
          ]
        }
      ]
    },
    {
      "cell_type": "code",
      "metadata": {
        "colab": {
          "base_uri": "https://localhost:8080/"
        },
        "id": "LkpZSPshgxs8",
        "outputId": "6f9d2119-1490-48da-84f5-bcf0f53c0945"
      },
      "source": [
        "#diabetic and non-diabetic count\n",
        "heartDF.groupBy('diabetes').count().show()"
      ],
      "execution_count": 9,
      "outputs": [
        {
          "output_type": "stream",
          "name": "stdout",
          "text": [
            "+--------+-----+\n",
            "|diabetes|count|\n",
            "+--------+-----+\n",
            "|       1| 8500|\n",
            "|       0|91500|\n",
            "+--------+-----+\n",
            "\n"
          ]
        }
      ]
    },
    {
      "cell_type": "markdown",
      "source": [
        "## Using Spark SQL"
      ],
      "metadata": {
        "id": "WkA9twc45pMv"
      }
    },
    {
      "cell_type": "code",
      "metadata": {
        "id": "6LGBAFk5gyGW"
      },
      "source": [
        "# create DataFrame as a temporary view\n",
        "heartDF.createOrReplaceTempView('heart_T')"
      ],
      "execution_count": 10,
      "outputs": []
    },
    {
      "cell_type": "code",
      "metadata": {
        "colab": {
          "base_uri": "https://localhost:8080/"
        },
        "id": "YA0zcaRhSAxM",
        "outputId": "310a5c01-5c1d-4f37-a646-7145faf529eb"
      },
      "source": [
        "#group by gender\n",
        "spark.sql(\\\n",
        "          \"SELECT \\\n",
        "           gender, count(gender) as count_gender, \\\n",
        "           count(gender)*100/sum(count(gender)) over() as percent  \\\n",
        "           FROM heart_T GROUP BY gender\" \\\n",
        "           ).show()"
      ],
      "execution_count": 11,
      "outputs": [
        {
          "output_type": "stream",
          "name": "stdout",
          "text": [
            "+------+------------+-------+\n",
            "|gender|count_gender|percent|\n",
            "+------+------------+-------+\n",
            "|Female|       58552| 58.552|\n",
            "| Other|          18|  0.018|\n",
            "|  Male|       41430|  41.43|\n",
            "+------+------------+-------+\n",
            "\n"
          ]
        }
      ]
    },
    {
      "cell_type": "code",
      "metadata": {
        "colab": {
          "base_uri": "https://localhost:8080/"
        },
        "id": "wXorVtn-gyok",
        "outputId": "03fab133-3cb0-49ea-8016-a30a0973f122"
      },
      "source": [
        "#group by gender having diabetes\n",
        "spark.sql(\\\n",
        "          \"SELECT gender, count(gender), \\\n",
        "          round((COUNT(gender) * 100.0) /(SELECT count(gender) FROM heart_T ),2) as percentage \\\n",
        "          FROM heart_T WHERE diabetes = '1'  GROUP BY gender\"\\\n",
        "          ).show()"
      ],
      "execution_count": 12,
      "outputs": [
        {
          "output_type": "stream",
          "name": "stdout",
          "text": [
            "+------+-------------+----------+\n",
            "|gender|count(gender)|percentage|\n",
            "+------+-------------+----------+\n",
            "|Female|         4461|      4.46|\n",
            "|  Male|         4039|      4.04|\n",
            "+------+-------------+----------+\n",
            "\n"
          ]
        }
      ]
    },
    {
      "cell_type": "code",
      "metadata": {
        "colab": {
          "base_uri": "https://localhost:8080/"
        },
        "id": "TfLuYmyMTuph",
        "outputId": "1dd664e6-fb0f-40cd-ed1b-135f40815232"
      },
      "source": [
        "#group by gender having heart disease\n",
        "spark.sql(\\\n",
        "          \"SELECT gender, count(gender), \\\n",
        "          round((COUNT(gender) * 100.0) /(SELECT count(gender) FROM heart_T ),2) as percentage \\\n",
        "          FROM heart_T WHERE heart_disease = '1'  GROUP BY gender\"\\\n",
        "          ).show()"
      ],
      "execution_count": 13,
      "outputs": [
        {
          "output_type": "stream",
          "name": "stdout",
          "text": [
            "+------+-------------+----------+\n",
            "|gender|count(gender)|percentage|\n",
            "+------+-------------+----------+\n",
            "|Female|         1562|      1.56|\n",
            "|  Male|         2380|      2.38|\n",
            "+------+-------------+----------+\n",
            "\n"
          ]
        }
      ]
    },
    {
      "cell_type": "code",
      "metadata": {
        "colab": {
          "base_uri": "https://localhost:8080/"
        },
        "id": "eMePTsdrUDV0",
        "outputId": "b5a7029c-c210-45ea-a154-8598de7bbbc5"
      },
      "source": [
        "#group by gender having hypertension\n",
        "spark.sql(\\\n",
        "          \"SELECT gender, count(gender), \\\n",
        "          round((COUNT(gender) * 100.0) /(SELECT count(gender) FROM heart_T ),2) as percentage \\\n",
        "          FROM heart_T WHERE hypertension = '1'  GROUP BY gender\"\\\n",
        "          ).show()"
      ],
      "execution_count": 14,
      "outputs": [
        {
          "output_type": "stream",
          "name": "stdout",
          "text": [
            "+------+-------------+----------+\n",
            "|gender|count(gender)|percentage|\n",
            "+------+-------------+----------+\n",
            "|Female|         4197|      4.20|\n",
            "|  Male|         3288|      3.29|\n",
            "+------+-------------+----------+\n",
            "\n"
          ]
        }
      ]
    },
    {
      "cell_type": "code",
      "metadata": {
        "colab": {
          "base_uri": "https://localhost:8080/"
        },
        "id": "mD1gYYCKT5cp",
        "outputId": "bc0e0c76-2692-4166-e9a3-285f2797fdcc"
      },
      "source": [
        "#count of different types of smoker\n",
        "heartDF.groupBy('smoking_history').count().show()"
      ],
      "execution_count": 15,
      "outputs": [
        {
          "output_type": "stream",
          "name": "stdout",
          "text": [
            "+---------------+-----+\n",
            "|smoking_history|count|\n",
            "+---------------+-----+\n",
            "|    not current| 6447|\n",
            "|           NULL|35816|\n",
            "|         former| 9352|\n",
            "|        current| 9286|\n",
            "|          never|35095|\n",
            "|           ever| 4004|\n",
            "+---------------+-----+\n",
            "\n"
          ]
        }
      ]
    },
    {
      "cell_type": "code",
      "source": [
        "#group by gender having hypertension\n",
        "spark.sql(\\\n",
        "          \"SELECT smoking_history, count(smoking_history) as count, \\\n",
        "          round((COUNT(smoking_history) * 100.0) /(SELECT count(smoking_history) FROM heart_T ),2) as percentage \\\n",
        "          FROM heart_T   GROUP BY smoking_history\"\\\n",
        "          ).show()"
      ],
      "metadata": {
        "colab": {
          "base_uri": "https://localhost:8080/"
        },
        "id": "oVU9FzMdDV_k",
        "outputId": "2e114a0a-09c9-48ac-cfb8-b830e1f670c9"
      },
      "execution_count": 16,
      "outputs": [
        {
          "output_type": "stream",
          "name": "stdout",
          "text": [
            "+---------------+-----+----------+\n",
            "|smoking_history|count|percentage|\n",
            "+---------------+-----+----------+\n",
            "|    not current| 6447|     10.04|\n",
            "|           NULL|    0|      0.00|\n",
            "|         former| 9352|     14.57|\n",
            "|        current| 9286|     14.47|\n",
            "|          never|35095|     54.68|\n",
            "|           ever| 4004|      6.24|\n",
            "+---------------+-----+----------+\n",
            "\n"
          ]
        }
      ]
    },
    {
      "cell_type": "code",
      "metadata": {
        "colab": {
          "base_uri": "https://localhost:8080/"
        },
        "id": "SCzLBuVCgy7W",
        "outputId": "e9151189-c332-426e-e778-0ac89ac4adc2"
      },
      "source": [
        "#Age vs Diabetes\n",
        "spark.sql(\"SELECT age, count(age) as age_count FROM heart_T WHERE diabetes == 1 GROUP BY age ORDER BY age_count DESC\").show()"
      ],
      "execution_count": 17,
      "outputs": [
        {
          "output_type": "stream",
          "name": "stdout",
          "text": [
            "+----+---------+\n",
            "| age|age_count|\n",
            "+----+---------+\n",
            "|80.0|     1024|\n",
            "|62.0|      258|\n",
            "|61.0|      250|\n",
            "|66.0|      241|\n",
            "|67.0|      236|\n",
            "|65.0|      234|\n",
            "|57.0|      233|\n",
            "|59.0|      216|\n",
            "|60.0|      213|\n",
            "|64.0|      211|\n",
            "|68.0|      208|\n",
            "|69.0|      206|\n",
            "|58.0|      205|\n",
            "|63.0|      202|\n",
            "|55.0|      201|\n",
            "|71.0|      192|\n",
            "|54.0|      191|\n",
            "|56.0|      187|\n",
            "|74.0|      184|\n",
            "|70.0|      183|\n",
            "+----+---------+\n",
            "only showing top 20 rows\n",
            "\n"
          ]
        }
      ]
    },
    {
      "cell_type": "code",
      "metadata": {
        "id": "QpGVreKR3a7s",
        "colab": {
          "base_uri": "https://localhost:8080/"
        },
        "outputId": "fc17b89b-eaf5-488f-8051-832b78c5e66f"
      },
      "source": [
        "#count of diabetic patients over age 50\n",
        "heartDF.filter((heartDF['diabetes'] == 1) & (heartDF['age'] > '50')).count()\n"
      ],
      "execution_count": 18,
      "outputs": [
        {
          "output_type": "execute_result",
          "data": {
            "text/plain": [
              "6650"
            ]
          },
          "metadata": {},
          "execution_count": 18
        }
      ]
    },
    {
      "cell_type": "markdown",
      "metadata": {
        "id": "RouBCJAC1_SH"
      },
      "source": [
        "## Data Preprocessing"
      ]
    },
    {
      "cell_type": "code",
      "metadata": {
        "id": "AtANMhQmBtqs",
        "colab": {
          "base_uri": "https://localhost:8080/"
        },
        "outputId": "3b6c54ed-dc49-45ff-86ca-46acc7f93f12"
      },
      "source": [
        "#checking null values\n",
        "heartDF.toPandas().isnull().sum()"
      ],
      "execution_count": 19,
      "outputs": [
        {
          "output_type": "execute_result",
          "data": {
            "text/plain": [
              "gender                 0\n",
              "age                    0\n",
              "hypertension           0\n",
              "heart_disease          0\n",
              "smoking_history    35816\n",
              "BMI                25444\n",
              "diabetes               0\n",
              "dtype: int64"
            ]
          },
          "metadata": {},
          "execution_count": 19
        }
      ]
    },
    {
      "cell_type": "code",
      "metadata": {
        "id": "8bi2UqkNGVty"
      },
      "source": [
        "# fill in missing values for smoking_history\n",
        "heartDF2 = heartDF.na.fill('No Info', subset=['smoking_history'])\n",
        "# fill in miss values for BMI with mean\n",
        "\n",
        "cmean = heartDF2.select(mean(heartDF2['BMI'])).collect()\n",
        "meanBMI = cmean[0][0]\n",
        "heartDF2 = heartDF2.na.fill(meanBMI,['BMI'])"
      ],
      "execution_count": 20,
      "outputs": []
    },
    {
      "cell_type": "code",
      "metadata": {
        "id": "RdUNDmw89DU9",
        "colab": {
          "base_uri": "https://localhost:8080/"
        },
        "outputId": "77ddad5a-3df3-4277-87f1-eed13860f0f6"
      },
      "source": [
        "heartDF2.describe().show()\n",
        "# note, mean BMI has not changed, but std of BMI has reduced, as expected"
      ],
      "execution_count": 21,
      "outputs": [
        {
          "output_type": "stream",
          "name": "stdout",
          "text": [
            "+-------+------+-----------------+------------------+------------------+---------------+------------------+-------------------+\n",
            "|summary|gender|              age|      hypertension|     heart_disease|smoking_history|               BMI|           diabetes|\n",
            "+-------+------+-----------------+------------------+------------------+---------------+------------------+-------------------+\n",
            "|  count|100000|           100000|            100000|            100000|         100000|            100000|             100000|\n",
            "|   mean|  NULL|41.88585600000013|           0.07485|           0.03942|           NULL|27.321028891031315|              0.085|\n",
            "| stddev|  NULL|22.51683987161704|0.2631504702289171|0.1945930169980986|           NULL|  6.63678340151884|0.27888308976661896|\n",
            "|    min|Female|             0.08|                 0|                 0|        No Info|             10.01|                  0|\n",
            "|    max| Other|             80.0|                 1|                 1|    not current|             95.69|                  1|\n",
            "+-------+------+-----------------+------------------+------------------+---------------+------------------+-------------------+\n",
            "\n"
          ]
        }
      ]
    },
    {
      "cell_type": "code",
      "metadata": {
        "id": "WmoC9764D6su",
        "colab": {
          "base_uri": "https://localhost:8080/"
        },
        "outputId": "fd16671a-6588-49df-b2bb-f4efdd8fedc5"
      },
      "source": [
        "heartDF2.toPandas().isnull().sum()"
      ],
      "execution_count": 22,
      "outputs": [
        {
          "output_type": "execute_result",
          "data": {
            "text/plain": [
              "gender             0\n",
              "age                0\n",
              "hypertension       0\n",
              "heart_disease      0\n",
              "smoking_history    0\n",
              "BMI                0\n",
              "diabetes           0\n",
              "dtype: int64"
            ]
          },
          "metadata": {},
          "execution_count": 22
        }
      ]
    },
    {
      "cell_type": "code",
      "metadata": {
        "id": "4Ee0UIcREOOl",
        "colab": {
          "base_uri": "https://localhost:8080/"
        },
        "outputId": "9861bd06-6ffd-4cee-cb9c-2d2be7799c88"
      },
      "source": [
        "heartDF2.dtypes"
      ],
      "execution_count": 23,
      "outputs": [
        {
          "output_type": "execute_result",
          "data": {
            "text/plain": [
              "[('gender', 'string'),\n",
              " ('age', 'double'),\n",
              " ('hypertension', 'int'),\n",
              " ('heart_disease', 'int'),\n",
              " ('smoking_history', 'string'),\n",
              " ('BMI', 'double'),\n",
              " ('diabetes', 'int')]"
            ]
          },
          "metadata": {},
          "execution_count": 23
        }
      ]
    },
    {
      "cell_type": "markdown",
      "metadata": {
        "id": "s6v6Unpw22t3"
      },
      "source": [
        "# Serial Data Conversions <br>\n",
        "see https://spark.apache.org/docs/latest/ml-features.html"
      ]
    },
    {
      "cell_type": "markdown",
      "source": [
        "## String Indexer"
      ],
      "metadata": {
        "id": "dd-KV7QXKe-7"
      }
    },
    {
      "cell_type": "code",
      "metadata": {
        "id": "1reLB7VX3a0P"
      },
      "source": [
        "# we have two categorical varibales gender and smoking history\n",
        "# indexing all categorical columns in the dataset\n",
        "\n",
        "GenderIndexer = StringIndexer(inputCol=\"gender\", outputCol=\"genderIndex\")                       # Unfitted Transformer\n",
        "SmokeHistIndexer = StringIndexer(inputCol=\"smoking_history\", outputCol=\"smoking_statusIndex\")   # Unfitted Transformer"
      ],
      "execution_count": 24,
      "outputs": []
    },
    {
      "cell_type": "code",
      "source": [
        "heartDF2.show(5)"
      ],
      "metadata": {
        "colab": {
          "base_uri": "https://localhost:8080/"
        },
        "id": "O4xgyXfeHN4d",
        "outputId": "a613a576-aaf4-4151-afbe-60586ec1285e"
      },
      "execution_count": 25,
      "outputs": [
        {
          "output_type": "stream",
          "name": "stdout",
          "text": [
            "+------+----+------------+-------------+---------------+------------------+--------+\n",
            "|gender| age|hypertension|heart_disease|smoking_history|               BMI|diabetes|\n",
            "+------+----+------------+-------------+---------------+------------------+--------+\n",
            "|Female|80.0|           0|            1|          never|             25.19|       0|\n",
            "|Female|54.0|           0|            0|        No Info|27.321028891034764|       0|\n",
            "|  Male|28.0|           0|            0|          never|27.321028891034764|       0|\n",
            "|Female|36.0|           0|            0|        current|             23.45|       0|\n",
            "|  Male|76.0|           1|            1|        current|             20.14|       0|\n",
            "+------+----+------------+-------------+---------------+------------------+--------+\n",
            "only showing top 5 rows\n",
            "\n"
          ]
        }
      ]
    },
    {
      "cell_type": "code",
      "source": [
        "# Using any one String Indexer\n",
        "#GenderIndexer.fit(heartDF2).transform(heartDF2).show()\n",
        "SmokeHistIndexer.fit(heartDF2).transform(heartDF2).show(5)                                   # Fitted Transformer - SmokeHistIndexer.fit(heartDF2)"
      ],
      "metadata": {
        "colab": {
          "base_uri": "https://localhost:8080/"
        },
        "id": "cXNlx6mDHVz1",
        "outputId": "631f13d8-7cba-45cb-8db1-8aa5b1758308"
      },
      "execution_count": 26,
      "outputs": [
        {
          "output_type": "stream",
          "name": "stdout",
          "text": [
            "+------+----+------------+-------------+---------------+------------------+--------+-------------------+\n",
            "|gender| age|hypertension|heart_disease|smoking_history|               BMI|diabetes|smoking_statusIndex|\n",
            "+------+----+------------+-------------+---------------+------------------+--------+-------------------+\n",
            "|Female|80.0|           0|            1|          never|             25.19|       0|                1.0|\n",
            "|Female|54.0|           0|            0|        No Info|27.321028891034764|       0|                0.0|\n",
            "|  Male|28.0|           0|            0|          never|27.321028891034764|       0|                1.0|\n",
            "|Female|36.0|           0|            0|        current|             23.45|       0|                3.0|\n",
            "|  Male|76.0|           1|            1|        current|             20.14|       0|                3.0|\n",
            "+------+----+------------+-------------+---------------+------------------+--------+-------------------+\n",
            "only showing top 5 rows\n",
            "\n"
          ]
        }
      ]
    },
    {
      "cell_type": "code",
      "source": [
        "# Putting TWO indexers, the start of the so-called Pipeline\n",
        "                                                                        # Fitted Transformer 1 - SmokeHistIndexer.fit(heartDF2)\n",
        "                                                                        # Fitted Transformer 2 - GenderIndexer.fit(SmokeHistIndexer.fit(heartDF2).transform(heartDF2))\n",
        "\n",
        "GenderIndexer.fit(SmokeHistIndexer.fit(heartDF2).transform(heartDF2)).transform(SmokeHistIndexer.fit(heartDF2).transform(heartDF2)).show(5)"
      ],
      "metadata": {
        "colab": {
          "base_uri": "https://localhost:8080/"
        },
        "id": "B4gJ0XxiKapw",
        "outputId": "536d8071-c86a-43b0-c5f9-4ee25d1e0615"
      },
      "execution_count": 27,
      "outputs": [
        {
          "output_type": "stream",
          "name": "stdout",
          "text": [
            "+------+----+------------+-------------+---------------+------------------+--------+-------------------+-----------+\n",
            "|gender| age|hypertension|heart_disease|smoking_history|               BMI|diabetes|smoking_statusIndex|genderIndex|\n",
            "+------+----+------------+-------------+---------------+------------------+--------+-------------------+-----------+\n",
            "|Female|80.0|           0|            1|          never|             25.19|       0|                1.0|        0.0|\n",
            "|Female|54.0|           0|            0|        No Info|27.321028891034764|       0|                0.0|        0.0|\n",
            "|  Male|28.0|           0|            0|          never|27.321028891034764|       0|                1.0|        1.0|\n",
            "|Female|36.0|           0|            0|        current|             23.45|       0|                3.0|        0.0|\n",
            "|  Male|76.0|           1|            1|        current|             20.14|       0|                3.0|        1.0|\n",
            "+------+----+------------+-------------+---------------+------------------+--------+-------------------+-----------+\n",
            "only showing top 5 rows\n",
            "\n"
          ]
        }
      ]
    },
    {
      "cell_type": "markdown",
      "source": [
        "## One Hot Encoder"
      ],
      "metadata": {
        "id": "V36Q0VtAK0zE"
      }
    },
    {
      "cell_type": "code",
      "source": [
        "OHE_Gender = OneHotEncoder(inputCols=[\"genderIndex\"], outputCols=[\"genderVec\"])\n",
        "#ohe.fit(??).transform(??).show()\n",
        "            # Unfitted Transformer - OHE_Gender\n",
        "            # Fitted Transformer - OHE_Gender.fit(GenderIndexer.fit(heartDF2).transform(heartDF2))\n",
        "\n",
        "OHE_Gender.fit(GenderIndexer.fit(heartDF2).transform(heartDF2)).transform(GenderIndexer.fit(heartDF2).transform(heartDF2)).show(5)"
      ],
      "metadata": {
        "colab": {
          "base_uri": "https://localhost:8080/"
        },
        "id": "oxtTDfstL_20",
        "outputId": "51462176-0813-49e6-f639-dbf02e420a74"
      },
      "execution_count": 28,
      "outputs": [
        {
          "output_type": "stream",
          "name": "stdout",
          "text": [
            "+------+----+------------+-------------+---------------+------------------+--------+-----------+-------------+\n",
            "|gender| age|hypertension|heart_disease|smoking_history|               BMI|diabetes|genderIndex|    genderVec|\n",
            "+------+----+------------+-------------+---------------+------------------+--------+-----------+-------------+\n",
            "|Female|80.0|           0|            1|          never|             25.19|       0|        0.0|(2,[0],[1.0])|\n",
            "|Female|54.0|           0|            0|        No Info|27.321028891034764|       0|        0.0|(2,[0],[1.0])|\n",
            "|  Male|28.0|           0|            0|          never|27.321028891034764|       0|        1.0|(2,[1],[1.0])|\n",
            "|Female|36.0|           0|            0|        current|             23.45|       0|        0.0|(2,[0],[1.0])|\n",
            "|  Male|76.0|           1|            1|        current|             20.14|       0|        1.0|(2,[1],[1.0])|\n",
            "+------+----+------------+-------------+---------------+------------------+--------+-----------+-------------+\n",
            "only showing top 5 rows\n",
            "\n"
          ]
        }
      ]
    },
    {
      "cell_type": "code",
      "source": [
        "OHE_SmokeStat = OneHotEncoder(inputCols=[\"smoking_statusIndex\"], outputCols=[\"smoking_statusVec\"])\n",
        "#ohe.fit(??).transform(??).show()\n",
        "       # Unfitted Transformer - OHE_SmokeStat\n",
        "       # Fitted Transformer - OHE_SmokeStat.fit(SmokeHistIndexer.fit(heartDF2).transform(heartDF2))\n",
        "OHE_SmokeStat.fit(SmokeHistIndexer.fit(heartDF2).transform(heartDF2)).transform(SmokeHistIndexer.fit(heartDF2).transform(heartDF2)).show(5)"
      ],
      "metadata": {
        "colab": {
          "base_uri": "https://localhost:8080/"
        },
        "id": "SdVlWKjHMqFe",
        "outputId": "acd86042-a6d8-4bf5-807d-4354617b63b1"
      },
      "execution_count": 29,
      "outputs": [
        {
          "output_type": "stream",
          "name": "stdout",
          "text": [
            "+------+----+------------+-------------+---------------+------------------+--------+-------------------+-----------------+\n",
            "|gender| age|hypertension|heart_disease|smoking_history|               BMI|diabetes|smoking_statusIndex|smoking_statusVec|\n",
            "+------+----+------------+-------------+---------------+------------------+--------+-------------------+-----------------+\n",
            "|Female|80.0|           0|            1|          never|             25.19|       0|                1.0|    (5,[1],[1.0])|\n",
            "|Female|54.0|           0|            0|        No Info|27.321028891034764|       0|                0.0|    (5,[0],[1.0])|\n",
            "|  Male|28.0|           0|            0|          never|27.321028891034764|       0|                1.0|    (5,[1],[1.0])|\n",
            "|Female|36.0|           0|            0|        current|             23.45|       0|                3.0|    (5,[3],[1.0])|\n",
            "|  Male|76.0|           1|            1|        current|             20.14|       0|                3.0|    (5,[3],[1.0])|\n",
            "+------+----+------------+-------------+---------------+------------------+--------+-------------------+-----------------+\n",
            "only showing top 5 rows\n",
            "\n"
          ]
        }
      ]
    },
    {
      "cell_type": "code",
      "metadata": {
        "id": "11DyqFjJ3azC"
      },
      "source": [
        "# Encoding Both Simltaenously\n",
        "OHE_Gender_Smoke = OneHotEncoder(inputCols=[\"genderIndex\",\"smoking_statusIndex\"],\n",
        "                                 outputCols=[\"genderVec\",\"smoking_statusVec\"])"
      ],
      "execution_count": 30,
      "outputs": []
    },
    {
      "cell_type": "code",
      "source": [
        "#The 'Pipeline' becomes even longer\n",
        "# but still ohe.fit(??).transform(??).show()\n",
        "       # OHE_Gender_Smoke.fit(what?a).transform(what?b)\n",
        "       # what?a = GenderIndexer.fit(SmokeHistIndexer.fit(heartDF2).transform(heartDF2)).transform(SmokeHistIndexer.fit(heartDF2).transform(heartDF2))\n",
        "       # what?b = GenderIndexer.fit(SmokeHistIndexer.fit(heartDF2).transform(heartDF2)).transform(SmokeHistIndexer.fit(heartDF2).transform(heartDF2))\n",
        "OHE_Gender_Smoke.fit(GenderIndexer.fit(SmokeHistIndexer.fit(heartDF2).transform(heartDF2)).transform(SmokeHistIndexer.fit(heartDF2).transform(heartDF2))).transform(GenderIndexer.fit(SmokeHistIndexer.fit(heartDF2).transform(heartDF2)).transform(SmokeHistIndexer.fit(heartDF2).transform(heartDF2))).show(5)"
      ],
      "metadata": {
        "colab": {
          "base_uri": "https://localhost:8080/"
        },
        "id": "C86yH_IzJH7B",
        "outputId": "0f90f050-c537-4049-b7ff-c04e63f6948f"
      },
      "execution_count": 31,
      "outputs": [
        {
          "output_type": "stream",
          "name": "stdout",
          "text": [
            "+------+----+------------+-------------+---------------+------------------+--------+-------------------+-----------+-------------+-----------------+\n",
            "|gender| age|hypertension|heart_disease|smoking_history|               BMI|diabetes|smoking_statusIndex|genderIndex|    genderVec|smoking_statusVec|\n",
            "+------+----+------------+-------------+---------------+------------------+--------+-------------------+-----------+-------------+-----------------+\n",
            "|Female|80.0|           0|            1|          never|             25.19|       0|                1.0|        0.0|(2,[0],[1.0])|    (5,[1],[1.0])|\n",
            "|Female|54.0|           0|            0|        No Info|27.321028891034764|       0|                0.0|        0.0|(2,[0],[1.0])|    (5,[0],[1.0])|\n",
            "|  Male|28.0|           0|            0|          never|27.321028891034764|       0|                1.0|        1.0|(2,[1],[1.0])|    (5,[1],[1.0])|\n",
            "|Female|36.0|           0|            0|        current|             23.45|       0|                3.0|        0.0|(2,[0],[1.0])|    (5,[3],[1.0])|\n",
            "|  Male|76.0|           1|            1|        current|             20.14|       0|                3.0|        1.0|(2,[1],[1.0])|    (5,[3],[1.0])|\n",
            "+------+----+------------+-------------+---------------+------------------+--------+-------------------+-----------+-------------+-----------------+\n",
            "only showing top 5 rows\n",
            "\n"
          ]
        }
      ]
    },
    {
      "cell_type": "markdown",
      "source": [
        "## Assembler"
      ],
      "metadata": {
        "id": "r8-sMS4FN2fg"
      }
    },
    {
      "cell_type": "code",
      "metadata": {
        "id": "MHjkGz_0Cunq"
      },
      "source": [
        "F_assembler = VectorAssembler(inputCols=['genderVec',\n",
        " 'age',\n",
        " 'hypertension',\n",
        " 'heart_disease',\n",
        " 'BMI',\n",
        " 'smoking_statusVec'],outputCol='features')"
      ],
      "execution_count": 32,
      "outputs": []
    },
    {
      "cell_type": "code",
      "source": [
        "#assembler.transform(??).show()\n",
        "F_assembler.transform(OHE_Gender_Smoke.fit(GenderIndexer.fit(SmokeHistIndexer.fit(heartDF2).transform(heartDF2)).transform(SmokeHistIndexer.fit(heartDF2).transform(heartDF2))).transform(GenderIndexer.fit(SmokeHistIndexer.fit(heartDF2).transform(heartDF2)).transform(SmokeHistIndexer.fit(heartDF2).transform(heartDF2)))).show(5)"
      ],
      "metadata": {
        "colab": {
          "base_uri": "https://localhost:8080/"
        },
        "id": "Yk9gc5_FPj3k",
        "outputId": "b6ee409b-b584-452e-bba7-7126fa792bc7"
      },
      "execution_count": 33,
      "outputs": [
        {
          "output_type": "stream",
          "name": "stdout",
          "text": [
            "+------+----+------------+-------------+---------------+------------------+--------+-------------------+-----------+-------------+-----------------+--------------------+\n",
            "|gender| age|hypertension|heart_disease|smoking_history|               BMI|diabetes|smoking_statusIndex|genderIndex|    genderVec|smoking_statusVec|            features|\n",
            "+------+----+------------+-------------+---------------+------------------+--------+-------------------+-----------+-------------+-----------------+--------------------+\n",
            "|Female|80.0|           0|            1|          never|             25.19|       0|                1.0|        0.0|(2,[0],[1.0])|    (5,[1],[1.0])|(11,[0,2,4,5,7],[...|\n",
            "|Female|54.0|           0|            0|        No Info|27.321028891034764|       0|                0.0|        0.0|(2,[0],[1.0])|    (5,[0],[1.0])|(11,[0,2,5,6],[1....|\n",
            "|  Male|28.0|           0|            0|          never|27.321028891034764|       0|                1.0|        1.0|(2,[1],[1.0])|    (5,[1],[1.0])|(11,[1,2,5,7],[1....|\n",
            "|Female|36.0|           0|            0|        current|             23.45|       0|                3.0|        0.0|(2,[0],[1.0])|    (5,[3],[1.0])|(11,[0,2,5,9],[1....|\n",
            "|  Male|76.0|           1|            1|        current|             20.14|       0|                3.0|        1.0|(2,[1],[1.0])|    (5,[3],[1.0])|(11,[1,2,3,4,5,9]...|\n",
            "+------+----+------------+-------------+---------------+------------------+--------+-------------------+-----------+-------------+-----------------+--------------------+\n",
            "only showing top 5 rows\n",
            "\n"
          ]
        }
      ]
    },
    {
      "cell_type": "markdown",
      "metadata": {
        "id": "9ke6ZDDW3hmu"
      },
      "source": [
        "# Train-Test Split"
      ]
    },
    {
      "cell_type": "code",
      "metadata": {
        "colab": {
          "base_uri": "https://localhost:8080/"
        },
        "id": "WMWN3KQeRkGd",
        "outputId": "f35ae61c-c0e4-4a41-c0a4-87aefe2e8038"
      },
      "source": [
        "# splitting training and validation data\n",
        "train_heart,val_heart = heartDF2.randomSplit([0.7,0.3])\n",
        "print(train_heart.count())\n",
        "print(val_heart.count())"
      ],
      "execution_count": 34,
      "outputs": [
        {
          "output_type": "stream",
          "name": "stdout",
          "text": [
            "69933\n",
            "30067\n"
          ]
        }
      ]
    },
    {
      "cell_type": "markdown",
      "source": [
        "#Apply Different Techniques"
      ],
      "metadata": {
        "id": "z9aPo0ZYX_68"
      }
    },
    {
      "cell_type": "code",
      "source": [
        "basePipe = Pipeline(stages=[GenderIndexer, SmokeHistIndexer, OHE_Gender_Smoke, F_assembler])\n",
        "basePipe.fit(heartDF2).transform(heartDF2).show(5)"
      ],
      "metadata": {
        "colab": {
          "base_uri": "https://localhost:8080/"
        },
        "id": "4OadBfaAYdgU",
        "outputId": "86a863e3-1a36-4ca5-e67d-97c52f486fda"
      },
      "execution_count": 35,
      "outputs": [
        {
          "output_type": "stream",
          "name": "stdout",
          "text": [
            "+------+----+------------+-------------+---------------+------------------+--------+-----------+-------------------+-------------+-----------------+--------------------+\n",
            "|gender| age|hypertension|heart_disease|smoking_history|               BMI|diabetes|genderIndex|smoking_statusIndex|    genderVec|smoking_statusVec|            features|\n",
            "+------+----+------------+-------------+---------------+------------------+--------+-----------+-------------------+-------------+-----------------+--------------------+\n",
            "|Female|80.0|           0|            1|          never|             25.19|       0|        0.0|                1.0|(2,[0],[1.0])|    (5,[1],[1.0])|(11,[0,2,4,5,7],[...|\n",
            "|Female|54.0|           0|            0|        No Info|27.321028891034764|       0|        0.0|                0.0|(2,[0],[1.0])|    (5,[0],[1.0])|(11,[0,2,5,6],[1....|\n",
            "|  Male|28.0|           0|            0|          never|27.321028891034764|       0|        1.0|                1.0|(2,[1],[1.0])|    (5,[1],[1.0])|(11,[1,2,5,7],[1....|\n",
            "|Female|36.0|           0|            0|        current|             23.45|       0|        0.0|                3.0|(2,[0],[1.0])|    (5,[3],[1.0])|(11,[0,2,5,9],[1....|\n",
            "|  Male|76.0|           1|            1|        current|             20.14|       0|        1.0|                3.0|(2,[1],[1.0])|    (5,[3],[1.0])|(11,[1,2,3,4,5,9]...|\n",
            "+------+----+------------+-------------+---------------+------------------+--------+-----------+-------------------+-------------+-----------------+--------------------+\n",
            "only showing top 5 rows\n",
            "\n"
          ]
        }
      ]
    },
    {
      "cell_type": "markdown",
      "metadata": {
        "id": "l3OMs78y3nTG"
      },
      "source": [
        "## Logistic Regression Model Pipeline"
      ]
    },
    {
      "cell_type": "code",
      "metadata": {
        "id": "Qks5jAFPCujR"
      },
      "source": [
        "lr = LogisticRegression(labelCol='diabetes',featuresCol='features',maxIter=5)\n",
        "#lr_pipeline = Pipeline(stages=[GenderIndexer, SmokeHistIndexer, OHE_Gender_Smoke, F_assembler,lr])\n",
        "lr_pipeline = Pipeline(stages=[basePipe,lr])                    # Appending a stage to a pipeline\n",
        "# training model pipeline with data\n",
        "lr_model = lr_pipeline.fit(train_heart)\n",
        "lr_predictions=lr_model.transform(val_heart)"
      ],
      "execution_count": 36,
      "outputs": []
    },
    {
      "cell_type": "code",
      "source": [
        "lr_predictions.show(5)"
      ],
      "metadata": {
        "id": "razlA8cs1kqf",
        "outputId": "997154c8-b1dc-416d-8fdf-aedcb87be6ee",
        "colab": {
          "base_uri": "https://localhost:8080/"
        }
      },
      "execution_count": 37,
      "outputs": [
        {
          "output_type": "stream",
          "name": "stdout",
          "text": [
            "+------+----+------------+-------------+---------------+------------------+--------+-----------+-------------------+-------------+-----------------+--------------------+--------------------+--------------------+----------+\n",
            "|gender| age|hypertension|heart_disease|smoking_history|               BMI|diabetes|genderIndex|smoking_statusIndex|    genderVec|smoking_statusVec|            features|       rawPrediction|         probability|prediction|\n",
            "+------+----+------------+-------------+---------------+------------------+--------+-----------+-------------------+-------------+-----------------+--------------------+--------------------+--------------------+----------+\n",
            "|Female|0.08|           0|            0|        No Info|             11.88|       0|        0.0|                0.0|(2,[0],[1.0])|    (5,[0],[1.0])|(11,[0,2,5,6],[1....|[6.81498723998303...|[0.99890399534772...|       0.0|\n",
            "|Female|0.08|           0|            0|        No Info|             12.22|       0|        0.0|                0.0|(2,[0],[1.0])|    (5,[0],[1.0])|(11,[0,2,5,6],[1....|[6.78744612253750...|[0.99887342512399...|       0.0|\n",
            "|Female|0.08|           0|            0|        No Info|             12.74|       0|        0.0|                0.0|(2,[0],[1.0])|    (5,[0],[1.0])|(11,[0,2,5,6],[1....|[6.74532441350316...|[0.99882501522523...|       0.0|\n",
            "|Female|0.08|           0|            0|        No Info|              14.1|       0|        0.0|                0.0|(2,[0],[1.0])|    (5,[0],[1.0])|(11,[0,2,5,6],[1....|[6.63515994372104...|[0.99868835401145...|       0.0|\n",
            "|Female|0.08|           0|            0|        No Info|27.321028891034764|       0|        0.0|                0.0|(2,[0],[1.0])|    (5,[0],[1.0])|(11,[0,2,5,6],[1....|[5.56421315125422...|[0.99618203767174...|       0.0|\n",
            "+------+----+------------+-------------+---------------+------------------+--------+-----------+-------------------+-------------+-----------------+--------------------+--------------------+--------------------+----------+\n",
            "only showing top 5 rows\n",
            "\n"
          ]
        }
      ]
    },
    {
      "cell_type": "code",
      "source": [
        "acc_evaluator = MulticlassClassificationEvaluator(labelCol=\"diabetes\", predictionCol=\"prediction\", metricName=\"accuracy\")\n",
        "evaluator = BinaryClassificationEvaluator(labelCol='diabetes')"
      ],
      "metadata": {
        "id": "RrZNi4HjOVQv"
      },
      "execution_count": 38,
      "outputs": []
    },
    {
      "cell_type": "code",
      "metadata": {
        "id": "oDo7EXEJgF6O",
        "colab": {
          "base_uri": "https://localhost:8080/"
        },
        "outputId": "309082b2-8dee-4133-bf72-685e96f14fa3"
      },
      "source": [
        "lr_acc=acc_evaluator.evaluate(lr_predictions)\n",
        "#print('A Logistic Regression algorithm had an accuracy of: {0:2.2f}%'.format(lr_acc*100))\n",
        "print(round(lr_acc,3), 'is the accuray of the LR pipeline')\n",
        "lr_auroc = evaluator.evaluate(lr_predictions, {evaluator.metricName: \"areaUnderROC\"})\n",
        "#auprc = evaluator.evaluate(predictions, {evaluator.metricName: \"areaUnderPR\"})\n",
        "print(\"Area under ROC Curve: {:.4f}\".format(lr_auroc))\n",
        "#print(\"Area under PR Curve: {:.4f}\".format(auprc))\n"
      ],
      "execution_count": 39,
      "outputs": [
        {
          "output_type": "stream",
          "name": "stdout",
          "text": [
            "0.915 is the accuray of the LR pipeline\n",
            "Area under ROC Curve: 0.8341\n"
          ]
        }
      ]
    },
    {
      "cell_type": "markdown",
      "metadata": {
        "id": "AdtPW1G0_2rE"
      },
      "source": [
        "## Random Forest Pipeline"
      ]
    },
    {
      "cell_type": "code",
      "metadata": {
        "id": "X4w6_NSU-Oo0"
      },
      "source": [
        "rf = RandomForestClassifier(featuresCol = 'features', labelCol = 'diabetes')\n",
        "#rf_pipeline = Pipeline(stages=[GenderIndexer, SmokeHistIndexer, OHE_Gender_Smoke, F_assembler, rf])\n",
        "rf_pipeline = Pipeline(stages=[basePipe, rf])\n",
        "# training model pipeline with data\n",
        "rf_model = rf_pipeline.fit(train_heart)\n",
        "rf_predictions=rf_model.transform(val_heart)"
      ],
      "execution_count": 40,
      "outputs": []
    },
    {
      "cell_type": "code",
      "metadata": {
        "colab": {
          "base_uri": "https://localhost:8080/"
        },
        "id": "zSqqUwaF_c-t",
        "outputId": "42bd798f-4c12-415a-d422-7e61501eec46"
      },
      "source": [
        "rf_acc=acc_evaluator.evaluate(rf_predictions)\n",
        "print('A Random Forest algorithm had an accuracy of: {0:2.2f}%'.format(rf_acc*100))\n",
        "# We have only two choices: area under ROC and PR curves :-(\n",
        "rf_auroc = evaluator.evaluate(rf_predictions, {evaluator.metricName: \"areaUnderROC\"})\n",
        "#auprc = evaluator.evaluate(predictions, {evaluator.metricName: \"areaUnderPR\"})\n",
        "print(\"Area under ROC Curve: {:.4f}\".format(rf_auroc))\n",
        "#print(\"Area under PR Curve: {:.4f}\".format(auprc))"
      ],
      "execution_count": 41,
      "outputs": [
        {
          "output_type": "stream",
          "name": "stdout",
          "text": [
            "A Random Forest algorithm had an accuracy of: 91.46%\n",
            "Area under ROC Curve: 0.8220\n"
          ]
        }
      ]
    },
    {
      "cell_type": "markdown",
      "metadata": {
        "id": "CKGXXeDZ3xJW"
      },
      "source": [
        "## Gradient Boost Model Pipeline"
      ]
    },
    {
      "cell_type": "code",
      "metadata": {
        "id": "jT4BVirjWMad"
      },
      "source": [
        "gbt = GBTClassifier(labelCol='diabetes',featuresCol='features')\n",
        "#gbt_pipeline = Pipeline(stages=[GenderIndexer, SmokeHistIndexer, OHE_Gender_Smoke, F_assembler, gbt])\n",
        "gbt_pipeline = Pipeline(stages=[basePipe, gbt])\n",
        "gbt_model = gbt_pipeline.fit(train_heart)\n",
        "gbt_predictions = gbt_model.transform(val_heart)"
      ],
      "execution_count": 42,
      "outputs": []
    },
    {
      "cell_type": "code",
      "metadata": {
        "id": "EF6fBtImnTMR",
        "colab": {
          "base_uri": "https://localhost:8080/"
        },
        "outputId": "16201449-a097-43dd-f9a1-cc8d6af01a25"
      },
      "source": [
        "gbt_acc = acc_evaluator.evaluate(gbt_predictions)\n",
        "print('Gradient Boost algorithm had an accuracy of: {0:2.2f}%'.format(gbt_acc*100))\n",
        "# We have only two choices: area under ROC and PR curves :-(\n",
        "gbt_auroc = evaluator.evaluate(gbt_predictions, {evaluator.metricName: \"areaUnderROC\"})\n",
        "#auprc = evaluator.evaluate(predictions, {evaluator.metricName: \"areaUnderPR\"})\n",
        "print(\"Area under ROC Curve: {:.4f}\".format(gbt_auroc))\n",
        "#print(\"Area under PR Curve: {:.4f}\".format(auprc))"
      ],
      "execution_count": 43,
      "outputs": [
        {
          "output_type": "stream",
          "name": "stdout",
          "text": [
            "Gradient Boost algorithm had an accuracy of: 91.51%\n",
            "Area under ROC Curve: 0.8357\n"
          ]
        }
      ]
    },
    {
      "cell_type": "markdown",
      "source": [
        "# Comparison of LR, RF, GBT"
      ],
      "metadata": {
        "id": "w83Pn2-8XaLo"
      }
    },
    {
      "cell_type": "code",
      "source": [
        "print(round(lr_acc,3), 'is the accuray of the LR pipeline')\n",
        "print(round(rf_acc,3), 'is the accuray of the RF pipeline')\n",
        "print(round(gbt_acc,3), 'is the accuray of the GBT pipeline')\n",
        "\n",
        "print(round(lr_auroc,3), 'is area under ROC curve of the LR pipeline')\n",
        "print(round(rf_auroc,3), 'is area under ROC curve of the RF pipeline')\n",
        "print(round(gbt_auroc,3), 'is area under ROC curve of the GBT pipeline')"
      ],
      "metadata": {
        "colab": {
          "base_uri": "https://localhost:8080/"
        },
        "id": "vHbqxmXGXb6Q",
        "outputId": "be124008-84e8-40d4-c889-d199ed16f3a9"
      },
      "execution_count": 44,
      "outputs": [
        {
          "output_type": "stream",
          "name": "stdout",
          "text": [
            "0.915 is the accuray of the LR pipeline\n",
            "0.915 is the accuray of the RF pipeline\n",
            "0.915 is the accuray of the GBT pipeline\n",
            "0.834 is area under ROC curve of the LR pipeline\n",
            "0.822 is area under ROC curve of the RF pipeline\n",
            "0.836 is area under ROC curve of the GBT pipeline\n"
          ]
        }
      ]
    },
    {
      "cell_type": "markdown",
      "source": [
        "# Convert Once, Apply Different Techniques <br>\n",
        "without having to fit again https://stackoverflow.com/questions/49337830/spark-add-new-fitted-stage-to-a-exitsting-pipelinemodel-without-fitting-again\n",
        "\n",
        "\n"
      ],
      "metadata": {
        "id": "t_ZFAp_IhnV1"
      }
    },
    {
      "cell_type": "code",
      "source": [
        "commonEstimator = Pipeline(stages=[GenderIndexer, SmokeHistIndexer, OHE_Gender_Smoke, F_assembler]) # A pipeline is an estimator\n",
        "commonModel = commonEstimator.fit(train_heart)                                                      # A fitted pipeline is a model\n",
        "\n",
        "commonTrainHeart = commonModel.transform(train_heart)\n",
        "commonTrainHeart.show(5)"
      ],
      "metadata": {
        "id": "rzUXaPDy291X",
        "outputId": "6e5ea547-571c-41ea-b8a9-c52d392d5f39",
        "colab": {
          "base_uri": "https://localhost:8080/"
        }
      },
      "execution_count": 45,
      "outputs": [
        {
          "output_type": "stream",
          "name": "stdout",
          "text": [
            "+------+----+------------+-------------+---------------+-----+--------+-----------+-------------------+-------------+-----------------+--------------------+\n",
            "|gender| age|hypertension|heart_disease|smoking_history|  BMI|diabetes|genderIndex|smoking_statusIndex|    genderVec|smoking_statusVec|            features|\n",
            "+------+----+------------+-------------+---------------+-----+--------+-----------+-------------------+-------------+-----------------+--------------------+\n",
            "|Female|0.08|           0|            0|        No Info| 12.5|       0|        0.0|                0.0|(2,[0],[1.0])|    (5,[0],[1.0])|(11,[0,2,5,6],[1....|\n",
            "|Female|0.08|           0|            0|        No Info|12.77|       0|        0.0|                0.0|(2,[0],[1.0])|    (5,[0],[1.0])|(11,[0,2,5,6],[1....|\n",
            "|Female|0.08|           0|            0|        No Info|12.82|       0|        0.0|                0.0|(2,[0],[1.0])|    (5,[0],[1.0])|(11,[0,2,5,6],[1....|\n",
            "|Female|0.08|           0|            0|        No Info|13.03|       0|        0.0|                0.0|(2,[0],[1.0])|    (5,[0],[1.0])|(11,[0,2,5,6],[1....|\n",
            "|Female|0.08|           0|            0|        No Info|13.35|       0|        0.0|                0.0|(2,[0],[1.0])|    (5,[0],[1.0])|(11,[0,2,5,6],[1....|\n",
            "+------+----+------------+-------------+---------------+-----+--------+-----------+-------------------+-------------+-----------------+--------------------+\n",
            "only showing top 5 rows\n",
            "\n"
          ]
        }
      ]
    },
    {
      "cell_type": "markdown",
      "source": [
        "##Logistic Regression"
      ],
      "metadata": {
        "id": "CpJr7S1J7_sK"
      }
    },
    {
      "cell_type": "code",
      "source": [
        "lr0 = LogisticRegression(labelCol='diabetes',featuresCol='features',maxIter=5)\n",
        "lr0Estimator = Pipeline(stages=[lr0])                               # A pipeline is an estimator\n",
        "lr0model = lr0Estimator.fit(commonTrainHeart)                       # A fitted pipeline is a model\n",
        "\n",
        "lr1model = PipelineModel(stages = [commonModel , lr0model])         # Adding two models together\n",
        "lr1model_predictions = lr1model.transform(val_heart)"
      ],
      "metadata": {
        "id": "CpOnpWfu4kuk"
      },
      "execution_count": 46,
      "outputs": []
    },
    {
      "cell_type": "code",
      "source": [
        "acc_evaluator = MulticlassClassificationEvaluator(labelCol=\"diabetes\", predictionCol=\"prediction\", metricName=\"accuracy\")\n",
        "lr1_acc=acc_evaluator.evaluate(lr1model_predictions)\n",
        "\n",
        "print(round(lr1_acc,3), 'is the accuray of the new LR pipeline')\n",
        "evaluator = BinaryClassificationEvaluator(labelCol='diabetes')\n",
        "lr1_auroc = evaluator.evaluate(lr1model_predictions, {evaluator.metricName: \"areaUnderROC\"})\n",
        "print(\"Area under ROC Curve: {:.4f}\".format(lr1_auroc))\n"
      ],
      "metadata": {
        "id": "a2aen7dA9NR2",
        "outputId": "4e1b4284-5727-4e02-e3e0-1d95578c137f",
        "colab": {
          "base_uri": "https://localhost:8080/"
        }
      },
      "execution_count": 47,
      "outputs": [
        {
          "output_type": "stream",
          "name": "stdout",
          "text": [
            "0.915 is the accuray of the new LR pipeline\n",
            "Area under ROC Curve: 0.8341\n"
          ]
        }
      ]
    },
    {
      "cell_type": "markdown",
      "source": [
        "## Random Forest"
      ],
      "metadata": {
        "id": "g1qAVkeRQpiT"
      }
    },
    {
      "cell_type": "code",
      "source": [
        "rf0 = RandomForestClassifier(featuresCol = 'features', labelCol = 'diabetes')\n",
        "rf0Estimator = Pipeline(stages=[rf0])                               # A pipeline is an estimator\n",
        "rf0model = rf0Estimator.fit(commonTrainHeart)                       # A fitted pipeline is a model\n",
        "\n",
        "rf1model = PipelineModel(stages = [commonModel , rf0model])         # Adding two models together\n",
        "rf1model_predictions = rf1model.transform(val_heart)\n"
      ],
      "metadata": {
        "id": "TDoCNWixQ7DA"
      },
      "execution_count": 48,
      "outputs": []
    },
    {
      "cell_type": "code",
      "source": [
        "acc_evaluator = MulticlassClassificationEvaluator(labelCol=\"diabetes\", predictionCol=\"prediction\", metricName=\"accuracy\")\n",
        "rf1_acc=acc_evaluator.evaluate(rf1model_predictions)\n",
        "\n",
        "print(round(rf1_acc,3), 'is the accuray of the new RF pipeline')\n",
        "evaluator = BinaryClassificationEvaluator(labelCol='diabetes')\n",
        "rf1_auroc = evaluator.evaluate(rf1model_predictions, {evaluator.metricName: \"areaUnderROC\"})\n",
        "print(\"Area under ROC Curve: {:.4f}\".format(rf1_auroc))"
      ],
      "metadata": {
        "id": "Fit-WSCWRtnY",
        "outputId": "e2f53827-69e8-4091-dfa3-8fb517595340",
        "colab": {
          "base_uri": "https://localhost:8080/"
        }
      },
      "execution_count": 49,
      "outputs": [
        {
          "output_type": "stream",
          "name": "stdout",
          "text": [
            "0.915 is the accuray of the new RF pipeline\n",
            "Area under ROC Curve: 0.8220\n"
          ]
        }
      ]
    },
    {
      "cell_type": "markdown",
      "source": [
        "##Gradient Boost"
      ],
      "metadata": {
        "id": "24ouhCbxilDu"
      }
    },
    {
      "cell_type": "code",
      "source": [
        "gbt0 = GBTClassifier(featuresCol = 'features', labelCol = 'diabetes')\n",
        "gbt0Estimator = Pipeline(stages=[gbt0])                               # A pipeline is an estimator\n",
        "gbt0model = gbt0Estimator.fit(commonTrainHeart)                       # A fitted pipeline is a model\n",
        "\n",
        "gbt1model = PipelineModel(stages = [commonModel , gbt0model])         # Adding two models together\n",
        "gbt1model_predictions = gbt1model.transform(val_heart)"
      ],
      "metadata": {
        "id": "SPgfTaqKindj"
      },
      "execution_count": 50,
      "outputs": []
    },
    {
      "cell_type": "code",
      "source": [
        "acc_evaluator = MulticlassClassificationEvaluator(labelCol=\"diabetes\", predictionCol=\"prediction\", metricName=\"accuracy\")\n",
        "gbt1_acc=acc_evaluator.evaluate(gbt1model_predictions)\n",
        "\n",
        "print(round(gbt1_acc,3), 'is the accuray of the new GBT pipeline')\n",
        "evaluator = BinaryClassificationEvaluator(labelCol='diabetes')\n",
        "gbt1_auroc = evaluator.evaluate(gbt1model_predictions, {evaluator.metricName: \"areaUnderROC\"})\n",
        "print(\"Area under ROC Curve: {:.4f}\".format(gbt1_auroc))"
      ],
      "metadata": {
        "id": "6btIuuvnjdB7",
        "outputId": "b9b310c4-a20b-4891-ba64-8715221c2802",
        "colab": {
          "base_uri": "https://localhost:8080/"
        }
      },
      "execution_count": 51,
      "outputs": [
        {
          "output_type": "stream",
          "name": "stdout",
          "text": [
            "0.915 is the accuray of the new GBT pipeline\n",
            "Area under ROC Curve: 0.8357\n"
          ]
        }
      ]
    },
    {
      "cell_type": "code",
      "source": [
        "!date\n",
        "from datetime import datetime\n",
        "import pytz\n",
        "print('Tested',datetime.now(pytz.timezone('Asia/Calcutta')))"
      ],
      "metadata": {
        "id": "33YEsN5OeC8i",
        "outputId": "77804e6b-4398-4520-cc28-66b13c77dbb5",
        "colab": {
          "base_uri": "https://localhost:8080/"
        }
      },
      "execution_count": 52,
      "outputs": [
        {
          "output_type": "stream",
          "name": "stdout",
          "text": [
            "Mon Dec 18 12:20:21 AM UTC 2023\n",
            "Tested 2023-12-18 05:50:21.247746+05:30\n"
          ]
        }
      ]
    },
    {
      "cell_type": "markdown",
      "source": [
        "#Chronobooks <br>\n",
        "![alt text](https://1.bp.blogspot.com/-lTiYBkU2qbU/X1er__fvnkI/AAAAAAAAjtE/GhDR3OEGJr4NG43fZPodrQD5kbxtnKebgCLcBGAsYHQ/s600/Footer2020-600x200.png)<hr>\n",
        "Chronotantra and Chronoyantra are two science fiction novels that explore the collapse of human civilisation on Earth and then its rebirth and reincarnation both on Earth as well as on the distant worlds of Mars, Titan and Enceladus. But is it the human civilisation that is being reborn? Or is it some other sentience that is revealing itself.\n",
        "If you have an interest in AI and found this material useful, you may consider buying these novels, in paperback or kindle, from [http://bit.ly/chronobooks](http://bit.ly/chronobooks)"
      ],
      "metadata": {
        "id": "XYiDzRJ0GmIB"
      }
    }
  ]
}