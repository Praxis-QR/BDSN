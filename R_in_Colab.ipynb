{
  "nbformat": 4,
  "nbformat_minor": 0,
  "metadata": {
    "colab": {
      "provenance": [],
      "authorship_tag": "ABX9TyMUlpw8nWeR+mxiY2m1kuxO",
      "include_colab_link": true
    },
    "kernelspec": {
      "name": "ir",
      "display_name": "R"
    },
    "language_info": {
      "name": "R"
    }
  },
  "cells": [
    {
      "cell_type": "markdown",
      "metadata": {
        "id": "view-in-github",
        "colab_type": "text"
      },
      "source": [
        "<a href=\"https://colab.research.google.com/github/Praxis-QR/BDSN/blob/main/R_in_Colab.ipynb\" target=\"_parent\"><img src=\"https://colab.research.google.com/assets/colab-badge.svg\" alt=\"Open In Colab\"/></a>"
      ]
    },
    {
      "cell_type": "code",
      "execution_count": 1,
      "metadata": {
        "id": "ChEH8UK17_cC"
      },
      "outputs": [],
      "source": [
        "library(readr)"
      ]
    },
    {
      "cell_type": "code",
      "source": [
        "url <- 'https://raw.githubusercontent.com/Praxis-QR/PythonForManagers/main/Data/OfficeSupplies.csv'\n",
        "data <- read_csv(url)\n",
        "print(data)"
      ],
      "metadata": {
        "colab": {
          "base_uri": "https://localhost:8080/"
        },
        "id": "e6jkZC2089DV",
        "outputId": "78ba9e3d-4062-4ac2-ddfd-51df241d28de"
      },
      "execution_count": 2,
      "outputs": [
        {
          "output_type": "stream",
          "name": "stderr",
          "text": [
            "\u001b[1mRows: \u001b[22m\u001b[34m43\u001b[39m \u001b[1mColumns: \u001b[22m\u001b[34m6\u001b[39m\n",
            "\u001b[36m──\u001b[39m \u001b[1mColumn specification\u001b[22m \u001b[36m────────────────────────────────────────────────────────\u001b[39m\n",
            "\u001b[1mDelimiter:\u001b[22m \",\"\n",
            "\u001b[31mchr\u001b[39m (4): OrderDate, Region, Rep, Item\n",
            "\u001b[32mdbl\u001b[39m (2): Units, Unit Price\n",
            "\n",
            "\u001b[36mℹ\u001b[39m Use `spec()` to retrieve the full column specification for this data.\n",
            "\u001b[36mℹ\u001b[39m Specify the column types or set `show_col_types = FALSE` to quiet this message.\n"
          ]
        },
        {
          "output_type": "stream",
          "name": "stdout",
          "text": [
            "\u001b[90m# A tibble: 43 × 6\u001b[39m\n",
            "   OrderDate   Region  Rep     Item    Units `Unit Price`\n",
            "   \u001b[3m\u001b[90m<chr>\u001b[39m\u001b[23m       \u001b[3m\u001b[90m<chr>\u001b[39m\u001b[23m   \u001b[3m\u001b[90m<chr>\u001b[39m\u001b[23m   \u001b[3m\u001b[90m<chr>\u001b[39m\u001b[23m   \u001b[3m\u001b[90m<dbl>\u001b[39m\u001b[23m        \u001b[3m\u001b[90m<dbl>\u001b[39m\u001b[23m\n",
            "\u001b[90m 1\u001b[39m 4-Jul-2014  East    Richard Pen Set    62         4.99\n",
            "\u001b[90m 2\u001b[39m 12-Jul-2014 East    Nick    Binder     29         1.99\n",
            "\u001b[90m 3\u001b[39m 21-Jul-2014 Central Morgan  Pen Set    55        12.5 \n",
            "\u001b[90m 4\u001b[39m 29-Jul-2014 East    Susan   Binder     81        20.0 \n",
            "\u001b[90m 5\u001b[39m 7-Aug-2014  Central Matthew Pen Set    42        24.0 \n",
            "\u001b[90m 6\u001b[39m 15-Aug-2014 East    Richard Pencil     35         4.99\n",
            "\u001b[90m 7\u001b[39m 24-Aug-2014 West    James   Desk        3       275   \n",
            "\u001b[90m 8\u001b[39m 1-Sep-2014  Central Smith   Desk        2       125   \n",
            "\u001b[90m 9\u001b[39m 10-Sep-2014 Central Bill    Pencil      7         1.29\n",
            "\u001b[90m10\u001b[39m 18-Sep-2014 East    Richard Pen Set    16        16.0 \n",
            "\u001b[90m# … with 33 more rows\u001b[39m\n"
          ]
        }
      ]
    },
    {
      "cell_type": "code",
      "source": [
        "install.packages('reshape2')"
      ],
      "metadata": {
        "colab": {
          "base_uri": "https://localhost:8080/"
        },
        "id": "3yb1PHwcDefn",
        "outputId": "7104df2d-7ac4-476d-90e7-9155ddf5392f"
      },
      "execution_count": 9,
      "outputs": [
        {
          "output_type": "stream",
          "name": "stderr",
          "text": [
            "Installing package into ‘/usr/local/lib/R/site-library’\n",
            "(as ‘lib’ is unspecified)\n",
            "\n",
            "also installing the dependencies ‘plyr’, ‘Rcpp’\n",
            "\n",
            "\n"
          ]
        }
      ]
    },
    {
      "cell_type": "code",
      "source": [
        "library(reshape2)"
      ],
      "metadata": {
        "colab": {
          "base_uri": "https://localhost:8080/"
        },
        "id": "sRf4oVBk_ckn",
        "outputId": "ad2f7d82-c59c-40e0-86ac-48f2c707f05d"
      },
      "execution_count": 10,
      "outputs": [
        {
          "output_type": "stream",
          "name": "stderr",
          "text": [
            "\n",
            "Attaching package: ‘reshape2’\n",
            "\n",
            "\n",
            "The following object is masked from ‘package:tidyr’:\n",
            "\n",
            "    smiths\n",
            "\n",
            "\n"
          ]
        }
      ]
    },
    {
      "cell_type": "code",
      "source": [
        "# Create the pivot table\n",
        "pt <- dcast(data, Region ~ Item, value.var = \"Units\", fun.aggregate = sum, margins=T)\n",
        "\n",
        "# Print the pivot table\n",
        "print(pt)"
      ],
      "metadata": {
        "colab": {
          "base_uri": "https://localhost:8080/"
        },
        "id": "A5ljydwmER6j",
        "outputId": "642c5e91-1d63-4c5a-85b5-4c56fba2f964"
      },
      "execution_count": 19,
      "outputs": [
        {
          "output_type": "stream",
          "name": "stdout",
          "text": [
            "   Region Binder Desk Pen Pen Set Pencil (all)\n",
            "1 Central    424    7  27     243    498  1199\n",
            "2    East    234    0 175     152    130   691\n",
            "3    West     64    3  76       0     88   231\n",
            "4   (all)    722   10 278     395    716  2121\n"
          ]
        }
      ]
    }
  ]
}