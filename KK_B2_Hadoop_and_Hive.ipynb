{
  "nbformat": 4,
  "nbformat_minor": 0,
  "metadata": {
    "colab": {
      "name": "KK B2 Hadoop and Hive",
      "provenance": [],
      "toc_visible": true,
      "include_colab_link": true
    },
    "kernelspec": {
      "name": "python3",
      "display_name": "Python 3"
    }
  },
  "cells": [
    {
      "cell_type": "markdown",
      "metadata": {
        "id": "view-in-github",
        "colab_type": "text"
      },
      "source": [
        "<a href=\"https://colab.research.google.com/github/Praxis-QR/BDSN/blob/main/KK_B2_Hadoop_and_Hive.ipynb\" target=\"_parent\"><img src=\"https://colab.research.google.com/assets/colab-badge.svg\" alt=\"Open In Colab\"/></a>"
      ]
    },
    {
      "cell_type": "markdown",
      "metadata": {
        "id": "NOvxIBi-IJ8G"
      },
      "source": [
        "![alt text](https://github.com/Praxis-QR/RDWH/raw/main/images/YantraJaalBanner.png)<br>\n",
        "\n",
        "\n",
        "<hr>\n",
        "\n",
        "[Prithwis Mukerjee](http://www.linkedin.com/in/prithwis)<br>"
      ]
    },
    {
      "cell_type": "code",
      "source": [
        "from datetime import datetime\n",
        "import pytz\n",
        "print('Tested',datetime.now(pytz.timezone('Asia/Calcutta')))"
      ],
      "metadata": {
        "id": "p9zM6ZmAiVDM",
        "outputId": "2cb58fee-842b-4145-c863-afdb3fc0dd50",
        "colab": {
          "base_uri": "https://localhost:8080/"
        }
      },
      "execution_count": 1,
      "outputs": [
        {
          "output_type": "stream",
          "name": "stdout",
          "text": [
            "Tested 2023-05-01 12:36:09.956900+05:30\n"
          ]
        }
      ]
    },
    {
      "cell_type": "markdown",
      "metadata": {
        "id": "mwjvirExIQAM"
      },
      "source": [
        "#Hive with Hadoop\n",
        "This notebook has all the codes / commands required to install Hadoop and Hive <br>\n",
        "\n"
      ]
    },
    {
      "cell_type": "markdown",
      "metadata": {
        "id": "RK5y3g-ySDmZ"
      },
      "source": [
        "##Acknowledgements\n",
        "Hadoop Installation from [Anjaly Sam's Github Repository](https://github.com/anjalysam/Hadoop) <br>\n",
        "Hive Installation from [PhoenixNAP](https://phoenixnap.com/kb/install-hive-on-ubuntu) website"
      ]
    },
    {
      "cell_type": "markdown",
      "metadata": {
        "id": "myPIGP-mwKBD"
      },
      "source": [
        "#1 Hadoop\n",
        "Hadoop is a pre-requisite for Hive <br>\n"
      ]
    },
    {
      "cell_type": "markdown",
      "metadata": {
        "id": "j9bT9M1yvyXG"
      },
      "source": [
        "## 1.1 Download, Install Hadoop"
      ]
    },
    {
      "cell_type": "code",
      "metadata": {
        "id": "NXFZuorwF25e"
      },
      "source": [
        "# The default JVM available at /usr/lib/jvm/java-11-openjdk-amd64/  works for Hadoop\n",
        "# But gives errors with Hive https://stackoverflow.com/questions/54037773/hive-exception-class-jdk-internal-loader-classloadersappclassloader-cannot\n",
        "# Hence this JVM needs to be installed\n",
        "!apt-get update > /dev/null\n",
        "!apt-get install openjdk-8-jdk-headless -qq > /dev/null"
      ],
      "execution_count": 2,
      "outputs": []
    },
    {
      "cell_type": "code",
      "metadata": {
        "id": "bijZAdD_cBMK",
        "colab": {
          "base_uri": "https://localhost:8080/"
        },
        "outputId": "0cb8cfe9-0f5f-4559-a558-648cf8e24120"
      },
      "source": [
        "# If there is an error in this cell, it is very likely that the version of hadoop has changed\n",
        "# Download the latest version of Hadoop and change the version numbers accordingly\n",
        "#wget -q https://downloads.apache.org/hadoop/common/hadoop-3.3.0/hadoop-3.3.0.tar.gz\n",
        "#!wget -q https://downloads.apache.org/hadoop/common/hadoop-3.3.2/hadoop-3.3.2.tar.gz\n",
        "#!wget  https://downloads.apache.org/hadoop/common/hadoop-3.3.2/hadoop-3.3.2.tar.gz\n",
        "!wget  https://downloads.apache.org/hadoop/common/hadoop-3.3.5/hadoop-3.3.5.tar.gz\n",
        "# Unzip it\n",
        "# the tar command with the -x flag to extract, -z to uncompress, -v for verbose output, and -f to specify that we’re extracting from a file\n",
        "#!tar -xzf hadoop-3.3.2.tar.gz\n",
        "!tar -xzf hadoop-3.3.5.tar.gz\n",
        "#copy  hadoop file to user/local\n",
        "#!mv  hadoop-3.3.2/ /usr/local/\n",
        "!mv  hadoop-3.3.5/ /usr/local/"
      ],
      "execution_count": 3,
      "outputs": [
        {
          "output_type": "stream",
          "name": "stdout",
          "text": [
            "--2023-05-01 07:06:43--  https://downloads.apache.org/hadoop/common/hadoop-3.3.5/hadoop-3.3.5.tar.gz\n",
            "Resolving downloads.apache.org (downloads.apache.org)... 88.99.95.219, 135.181.214.104, 2a01:4f8:10a:201a::2, ...\n",
            "Connecting to downloads.apache.org (downloads.apache.org)|88.99.95.219|:443... connected.\n",
            "HTTP request sent, awaiting response... 200 OK\n",
            "Length: 706533213 (674M) [application/x-gzip]\n",
            "Saving to: ‘hadoop-3.3.5.tar.gz’\n",
            "\n",
            "hadoop-3.3.5.tar.gz 100%[===================>] 673.80M  19.6MB/s    in 36s     \n",
            "\n",
            "2023-05-01 07:07:19 (18.9 MB/s) - ‘hadoop-3.3.5.tar.gz’ saved [706533213/706533213]\n",
            "\n"
          ]
        }
      ]
    },
    {
      "cell_type": "markdown",
      "metadata": {
        "id": "Vh6Dqbbrwqpe"
      },
      "source": [
        "## 1.2 Set Environment Variables\n"
      ]
    },
    {
      "cell_type": "code",
      "metadata": {
        "id": "_OUc19ZtcBG5"
      },
      "source": [
        "#To find the default Java path\n",
        "#!readlink -f /usr/bin/java | sed \"s:bin/java::\"\n",
        "#!ls /usr/lib/jvm/"
      ],
      "execution_count": null,
      "outputs": []
    },
    {
      "cell_type": "code",
      "metadata": {
        "id": "_ez4T7Gs3RAn"
      },
      "source": [
        "#To set java path, go to /usr/local/hadoop-3.3.0/etc/hadoop/hadoop-env.sh then\n",
        "#. . . export JAVA_HOME=/usr/lib/jvm/java-11-openjdk-amd64/ . . .\n",
        "#we have used a simpler alternative route using os.environ - it works\n",
        "\n",
        "import os\n",
        "os.environ[\"JAVA_HOME\"] = \"/usr/lib/jvm/java-8-openjdk-amd64\"   # default is changed\n",
        "#os.environ[\"JAVA_HOME\"] = \"/usr/lib/jvm/java-11-openjdk-amd64/\"\n",
        "# make sure that the version number is as downloaded \n",
        "#os.environ[\"HADOOP_HOME\"] = \"/usr/local/hadoop-3.3.0/\"\n",
        "#os.environ[\"HADOOP_HOME\"] = \"/usr/local/hadoop-3.3.2/\"\n",
        "os.environ[\"HADOOP_HOME\"] = \"/usr/local/hadoop-3.3.5/\""
      ],
      "execution_count": 4,
      "outputs": []
    },
    {
      "cell_type": "code",
      "metadata": {
        "id": "vDFgpWGLhdhl",
        "outputId": "b7824819-a02e-4663-f10e-f15993680abf",
        "colab": {
          "base_uri": "https://localhost:8080/"
        }
      },
      "source": [
        "# Add Hadoop BIN to PATH\n",
        "# Get the current_path from output of previous command\n",
        "#current_path = '/usr/local/nvidia/bin:/usr/local/cuda/bin:/usr/local/sbin:/usr/local/bin:/usr/sbin:/usr/bin:/sbin:/bin:/tools/node/bin:/tools/google-cloud-sdk/bin:/opt/bin'\n",
        "#current_path = '/usr/local/nvidia/bin:/usr/local/cuda/bin:/usr/local/sbin:/usr/local/bin:/usr/sbin:/usr/bin:/sbin:/bin:/tools/node/bin:/tools/google-cloud-sdk/bin:/opt/bin'\n",
        "#new_path = current_path+':/usr/local/hadoop-3.3.2/bin/'\n",
        "#os.environ[\"PATH\"] = new_path\n",
        "#!echo $PATH\n",
        "\n",
        "current_path = os.getenv('PATH')\n",
        "#new_path = current_path+':/usr/local/hadoop-3.3.0/bin/'\n",
        "#new_path = current_path+':/usr/local/hadoop-3.3.2/bin/'\n",
        "new_path = current_path+':/usr/local/hadoop-3.3.5/bin/'\n",
        "os.environ[\"PATH\"] = new_path\n",
        "!echo $PATH"
      ],
      "execution_count": 5,
      "outputs": [
        {
          "output_type": "stream",
          "name": "stdout",
          "text": [
            "/opt/bin:/usr/local/nvidia/bin:/usr/local/cuda/bin:/usr/local/sbin:/usr/local/bin:/usr/sbin:/usr/bin:/sbin:/bin:/tools/node/bin:/tools/google-cloud-sdk/bin:/usr/local/hadoop-3.3.5/bin/\n"
          ]
        }
      ]
    },
    {
      "cell_type": "markdown",
      "metadata": {
        "id": "Oj00rPPZyEWZ"
      },
      "source": [
        "## 1.3 Test Hadoop Installation"
      ]
    },
    {
      "cell_type": "code",
      "metadata": {
        "id": "Zhf-zK7NcBDF"
      },
      "source": [
        "#Running Hadoop - Test RUN, not doing anything at all\n",
        "#!/usr/local/hadoop-3.3.0/bin/hadoop\n",
        "# UNCOMMENT the following line if you want to make sure that Hadoop is alive!\n",
        "#!hadoop"
      ],
      "execution_count": null,
      "outputs": []
    },
    {
      "cell_type": "code",
      "metadata": {
        "id": "0n3I6iqjGod-"
      },
      "source": [
        "# Testing Hadoop with PI generating sample program, should calculate value of pi = 3.14157500000000000000\n",
        "# pi example\n",
        "#Uncomment the following line if  you want to test Hadoop with pi example\n",
        "#!hadoop jar /usr/local/hadoop-3.3.0/share/hadoop/mapreduce/hadoop-mapreduce-examples-3.3.0.jar pi 16 100000"
      ],
      "execution_count": null,
      "outputs": []
    },
    {
      "cell_type": "markdown",
      "metadata": {
        "id": "RUlA5c3yRCx1"
      },
      "source": [
        "#2 Hive"
      ]
    },
    {
      "cell_type": "markdown",
      "metadata": {
        "id": "pURJ-sKVsymi"
      },
      "source": [
        "## 2.1 Download, Install HIVE"
      ]
    },
    {
      "cell_type": "code",
      "metadata": {
        "colab": {
          "base_uri": "https://localhost:8080/"
        },
        "id": "TFsywGzPRaYp",
        "outputId": "2ee802a0-77b0-4328-cbf0-920a4d811dbe"
      },
      "source": [
        "# Download and Unzip the correct version and unzip\n",
        "#!wget https://downloads.apache.org/hive/hive-3.1.2/apache-hive-3.1.2-bin.tar.gz\n",
        "!wget https://downloads.apache.org/hive/hive-3.1.3/apache-hive-3.1.3-bin.tar.gz\n",
        "\n",
        "#!tar xzf apache-hive-3.1.2-bin.tar.gz\n",
        "!tar xzf apache-hive-3.1.3-bin.tar.gz"
      ],
      "execution_count": 6,
      "outputs": [
        {
          "output_type": "stream",
          "name": "stdout",
          "text": [
            "--2023-05-01 07:07:53--  https://downloads.apache.org/hive/hive-3.1.3/apache-hive-3.1.3-bin.tar.gz\n",
            "Resolving downloads.apache.org (downloads.apache.org)... 88.99.95.219, 135.181.214.104, 2a01:4f8:10a:201a::2, ...\n",
            "Connecting to downloads.apache.org (downloads.apache.org)|88.99.95.219|:443... connected.\n",
            "HTTP request sent, awaiting response... 200 OK\n",
            "Length: 326940667 (312M) [application/x-gzip]\n",
            "Saving to: ‘apache-hive-3.1.3-bin.tar.gz’\n",
            "\n",
            "apache-hive-3.1.3-b 100%[===================>] 311.79M  18.8MB/s    in 17s     \n",
            "\n",
            "2023-05-01 07:08:11 (18.1 MB/s) - ‘apache-hive-3.1.3-bin.tar.gz’ saved [326940667/326940667]\n",
            "\n"
          ]
        }
      ]
    },
    {
      "cell_type": "markdown",
      "metadata": {
        "id": "Aq6QYCVetNED"
      },
      "source": [
        "## 2.2 Set Environment *Variables*"
      ]
    },
    {
      "cell_type": "code",
      "metadata": {
        "colab": {
          "base_uri": "https://localhost:8080/"
        },
        "id": "7qROUu4vSdEU",
        "outputId": "e9226b7c-8fec-423d-8874-c7f2c53a8902"
      },
      "source": [
        "# Make sure that the version number is correct and is as downloaded\n",
        "#os.environ[\"HIVE_HOME\"] = \"/content/apache-hive-3.1.2-bin\"\n",
        "os.environ[\"HIVE_HOME\"] = \"/content/apache-hive-3.1.3-bin\"\n",
        "!echo $HIVE_HOME"
      ],
      "execution_count": 7,
      "outputs": [
        {
          "output_type": "stream",
          "name": "stdout",
          "text": [
            "/content/apache-hive-3.1.3-bin\n"
          ]
        }
      ]
    },
    {
      "cell_type": "code",
      "metadata": {
        "colab": {
          "base_uri": "https://localhost:8080/"
        },
        "id": "dx3pKQ9PTBfR",
        "outputId": "c6fc8c5a-1e2c-440e-c2d9-805febae43f2"
      },
      "source": [
        "# current_path is set from output of previous command\n",
        "#current_path = '/usr/local/nvidia/bin:/usr/local/cuda/bin:/usr/local/sbin:/usr/local/bin:/usr/sbin:/usr/bin:/sbin:/bin:/tools/node/bin:/tools/google-cloud-sdk/bin:/opt/bin:/usr/local/hadoop-3.3.0/bin/'\n",
        "#current_path = '/opt/bin:/usr/local/nvidia/bin:/usr/local/cuda/bin:/usr/local/sbin:/usr/local/bin:/usr/sbin:/usr/bin:/sbin:/bin:/tools/node/bin:/tools/google-cloud-sdk/bin:/usr/local/hadoop-3.3.2/bin/'\n",
        "#new_path = current_path+':/content/apache-hive-3.1.2-bin/bin'\n",
        "#os.environ[\"PATH\"] = new_path\n",
        "!echo $PATH\n",
        "\n",
        "\n",
        "current_path = os.getenv('PATH')\n",
        "#new_path = current_path+':/usr/local/hadoop-3.3.0/bin/'\n",
        "#new_path = current_path+':/content/apache-hive-3.1.2-bin/bin'\n",
        "new_path = current_path+':/content/apache-hive-3.1.3-bin/bin'\n",
        "os.environ[\"PATH\"] = new_path\n",
        "!echo $PATH"
      ],
      "execution_count": 8,
      "outputs": [
        {
          "output_type": "stream",
          "name": "stdout",
          "text": [
            "/opt/bin:/usr/local/nvidia/bin:/usr/local/cuda/bin:/usr/local/sbin:/usr/local/bin:/usr/sbin:/usr/bin:/sbin:/bin:/tools/node/bin:/tools/google-cloud-sdk/bin:/usr/local/hadoop-3.3.5/bin/\n",
            "/opt/bin:/usr/local/nvidia/bin:/usr/local/cuda/bin:/usr/local/sbin:/usr/local/bin:/usr/sbin:/usr/bin:/sbin:/bin:/tools/node/bin:/tools/google-cloud-sdk/bin:/usr/local/hadoop-3.3.5/bin/:/content/apache-hive-3.1.3-bin/bin\n"
          ]
        }
      ]
    },
    {
      "cell_type": "code",
      "metadata": {
        "colab": {
          "base_uri": "https://localhost:8080/"
        },
        "id": "BfiA2LItT_L2",
        "outputId": "505c5c11-82f9-4c6b-c9d4-01630215f8a9"
      },
      "source": [
        "!echo $JAVA_HOME\n",
        "!echo $HADOOP_HOME\n",
        "!echo $HIVE_HOME"
      ],
      "execution_count": 9,
      "outputs": [
        {
          "output_type": "stream",
          "name": "stdout",
          "text": [
            "/usr/lib/jvm/java-8-openjdk-amd64\n",
            "/usr/local/hadoop-3.3.5/\n",
            "/content/apache-hive-3.1.3-bin\n"
          ]
        }
      ]
    },
    {
      "cell_type": "markdown",
      "metadata": {
        "id": "AryjHG4ltfEe"
      },
      "source": [
        "## 2.3 Set up HDFS Directories"
      ]
    },
    {
      "cell_type": "code",
      "metadata": {
        "colab": {
          "base_uri": "https://localhost:8080/"
        },
        "id": "Dry58UPMVTat",
        "outputId": "aa6e4e2b-a8c8-47a5-cb45-93ecc75b9976"
      },
      "source": [
        "!hdfs dfs -mkdir /tmp\n",
        "!hdfs dfs -chmod g+w /tmp\n",
        "#!hdfs dfs -ls /\n",
        "!hdfs dfs -mkdir -p /content/warehouse\n",
        "!hdfs dfs -chmod g+w /content/warehouse\n",
        "#!hdfs dfs -ls /content/"
      ],
      "execution_count": 10,
      "outputs": [
        {
          "output_type": "stream",
          "name": "stdout",
          "text": [
            "mkdir: `/tmp': File exists\n"
          ]
        }
      ]
    },
    {
      "cell_type": "markdown",
      "metadata": {
        "id": "0VrvjhfG2JXs"
      },
      "source": [
        "## 2.4 Initialise HIVE - note and fix errors"
      ]
    },
    {
      "cell_type": "code",
      "metadata": {
        "id": "zLX7AvL8YLMY"
      },
      "source": [
        "# TYPE this command, do not copy and paste. Non printing characters cause havoc \n",
        "# There will be two errors, that we will fix\n",
        "# UNCOMMENT the following line if you WISH TO SEE the errors\n",
        "#!schematool -initSchema -dbType derby\n"
      ],
      "execution_count": null,
      "outputs": []
    },
    {
      "cell_type": "markdown",
      "metadata": {
        "id": "v21CxgGLuJPQ"
      },
      "source": [
        "### 2.4.1 Fix One Warning, One Error \n",
        "SLF4J is duplicate, need to locate them and remove one <br>\n",
        "Guava jar version is low"
      ]
    },
    {
      "cell_type": "code",
      "metadata": {
        "colab": {
          "base_uri": "https://localhost:8080/"
        },
        "id": "Becy3BABuE8b",
        "outputId": "fe0a47f9-7408-42c7-9426-aa2b120f0d6c"
      },
      "source": [
        "# locate multiple instances of slf4j ...\n",
        "!ls $HADOOP_HOME/share/hadoop/common/lib/*slf4j*\n",
        "!ls $HIVE_HOME/lib/*slf4j*"
      ],
      "execution_count": 11,
      "outputs": [
        {
          "output_type": "stream",
          "name": "stdout",
          "text": [
            "/usr/local/hadoop-3.3.5//share/hadoop/common/lib/jul-to-slf4j-1.7.36.jar\n",
            "/usr/local/hadoop-3.3.5//share/hadoop/common/lib/slf4j-api-1.7.36.jar\n",
            "/usr/local/hadoop-3.3.5//share/hadoop/common/lib/slf4j-reload4j-1.7.36.jar\n",
            "/content/apache-hive-3.1.3-bin/lib/log4j-slf4j-impl-2.17.1.jar\n"
          ]
        }
      ]
    },
    {
      "cell_type": "code",
      "metadata": {
        "id": "DEUomnHGu4kR"
      },
      "source": [
        "# removed the logging jar from Hive, retaining the Hadoop jar\n",
        "#!mv /content/apache-hive-3.1.2-bin/lib/log4j-slf4j-impl-2.10.0.jar ./\n",
        "!mv /content/apache-hive-3.1.3-bin/lib/log4j-slf4j-impl-2.17.1.jar ./"
      ],
      "execution_count": 12,
      "outputs": []
    },
    {
      "cell_type": "code",
      "metadata": {
        "id": "VwLAYh7TY4ca",
        "colab": {
          "base_uri": "https://localhost:8080/"
        },
        "outputId": "063b5929-e2c7-4ea6-9e42-7305f4e7940f"
      },
      "source": [
        "# guava jar needs to above v 20\n",
        "# https://stackoverflow.com/questions/45247193/nosuchmethoderror-com-google-common-base-preconditions-checkargumentzljava-lan\n",
        "!ls $HIVE_HOME/lib/gu*"
      ],
      "execution_count": 13,
      "outputs": [
        {
          "output_type": "stream",
          "name": "stdout",
          "text": [
            "/content/apache-hive-3.1.3-bin/lib/guava-19.0.jar\n"
          ]
        }
      ]
    },
    {
      "cell_type": "code",
      "metadata": {
        "id": "SHpmyrbkZFad",
        "colab": {
          "base_uri": "https://localhost:8080/"
        },
        "outputId": "5d0937bc-493b-42e1-a1db-1e2aef2ae2b8"
      },
      "source": [
        "# the one available with Hadoop is better, v 27\n",
        "!ls $HADOOP_HOME/share/hadoop/hdfs/lib/gu*"
      ],
      "execution_count": 14,
      "outputs": [
        {
          "output_type": "stream",
          "name": "stdout",
          "text": [
            "/usr/local/hadoop-3.3.5//share/hadoop/hdfs/lib/guava-27.0-jre.jar\n"
          ]
        }
      ]
    },
    {
      "cell_type": "code",
      "metadata": {
        "id": "bJ3Ex1vyZeZG"
      },
      "source": [
        "# Remove the Hive Guava and replace with Hadoop Guava\n",
        "!mv $HIVE_HOME/lib/guava-19.0.jar ./\n",
        "\n",
        "!cp $HADOOP_HOME/share/hadoop/hdfs/lib/guava-27.0-jre.jar $HIVE_HOME/lib/"
      ],
      "execution_count": 15,
      "outputs": []
    },
    {
      "cell_type": "markdown",
      "metadata": {
        "id": "TdtNOXy8v4iD"
      },
      "source": [
        "##2.5 Initialize HIVE"
      ]
    },
    {
      "cell_type": "code",
      "metadata": {
        "colab": {
          "base_uri": "https://localhost:8080/"
        },
        "id": "9Tzw4XkApRg3",
        "outputId": "99d7c177-9dcd-4758-8d92-750b188ab734"
      },
      "source": [
        "#Type this command, dont copy-paste\n",
        "# Non printing characters inside the command will give totally illogical errors\n",
        "!schematool -initSchema -dbType derby"
      ],
      "execution_count": 16,
      "outputs": [
        {
          "output_type": "stream",
          "name": "stdout",
          "text": [
            "Metastore connection URL:\t jdbc:derby:;databaseName=metastore_db;create=true\n",
            "Metastore Connection Driver :\t org.apache.derby.jdbc.EmbeddedDriver\n",
            "Metastore connection User:\t APP\n",
            "Starting metastore schema initialization to 3.1.0\n",
            "Initialization script hive-schema-3.1.0.derby.sql\n",
            "\n",
            " \n",
            " \n",
            " \n",
            " \n",
            " \n",
            " \n",
            " \n",
            " \n",
            " \n",
            "\n",
            " \n",
            " \n",
            " \n",
            " \n",
            " \n",
            " \n",
            " \n",
            " \n",
            " \n",
            " \n",
            " \n",
            " \n",
            " \n",
            " \n",
            " \n",
            " \n",
            " \n",
            " \n",
            " \n",
            " \n",
            " \n",
            " \n",
            " \n",
            " \n",
            " \n",
            "\n",
            " \n",
            " \n",
            " \n",
            " \n",
            " \n",
            " \n",
            " \n",
            " \n",
            " \n",
            " \n",
            " \n",
            " \n",
            " \n",
            " \n",
            " \n",
            " \n",
            " \n",
            " \n",
            " \n",
            " \n",
            " \n",
            " \n",
            "\n",
            " \n",
            " \n",
            " \n",
            " \n",
            " \n",
            " \n",
            " \n",
            " \n",
            "\n",
            " \n",
            "\n",
            " \n",
            " \n",
            " \n",
            "\n",
            " \n",
            " \n",
            " \n",
            "\n",
            "\n",
            " \n",
            " \n",
            " \n",
            "\n",
            " \n",
            " \n",
            " \n",
            "\n",
            "\n",
            " \n",
            " \n",
            " \n",
            " \n",
            " \n",
            " \n",
            " \n",
            "\n",
            "\n",
            " \n",
            " \n",
            " \n",
            "\n",
            " \n",
            " \n",
            " \n",
            "\n",
            " \n",
            " \n",
            "\n",
            " \n",
            " \n",
            " \n",
            " \n",
            " \n",
            "\n",
            " \n",
            " \n",
            " \n",
            " \n",
            " \n",
            " \n",
            " \n",
            " \n",
            " \n",
            " \n",
            " \n",
            " \n",
            "\n",
            " \n",
            " \n",
            " \n",
            " \n",
            " \n",
            " \n",
            "\n",
            " \n",
            " \n",
            " \n",
            " \n",
            " \n",
            " \n",
            " \n",
            " \n",
            " \n",
            " \n",
            " \n",
            " \n",
            " \n",
            " \n",
            " \n",
            " \n",
            " \n",
            " \n",
            " \n",
            " \n",
            " \n",
            " \n",
            " \n",
            " \n",
            " \n",
            " \n",
            " \n",
            " \n",
            " \n",
            " \n",
            " \n",
            " \n",
            " \n",
            " \n",
            " \n",
            " \n",
            " \n",
            "\n",
            " \n",
            " \n",
            " \n",
            "\n",
            " \n",
            " \n",
            " \n",
            " \n",
            " \n",
            " \n",
            " \n",
            " \n",
            " \n",
            " \n",
            " \n",
            " \n",
            " \n",
            " \n",
            " \n",
            " \n",
            "\n",
            " \n",
            " \n",
            "\n",
            "\n",
            " \n",
            "\n",
            "\n",
            "\n",
            " \n",
            "\n",
            "\n",
            " \n",
            " \n",
            " \n",
            " \n",
            " \n",
            " \n",
            " \n",
            " \n",
            " \n",
            "\n",
            " \n",
            " \n",
            " \n",
            " \n",
            " \n",
            " \n",
            "\n",
            " \n",
            "\n",
            "\n",
            "Initialization script completed\n",
            "schemaTool completed\n"
          ]
        }
      ]
    },
    {
      "cell_type": "markdown",
      "metadata": {
        "id": "nALF720ewT_-"
      },
      "source": [
        "## 2.6 Test HIVE \n",
        "1. Create database\n",
        "2. Create table\n",
        "3. Insert data\n",
        "4. Retrieve data\n",
        "\n",
        "using command line options as [given here](https://cwiki.apache.org/confluence/display/hive/languagemanual+cli#)."
      ]
    },
    {
      "cell_type": "code",
      "metadata": {
        "colab": {
          "base_uri": "https://localhost:8080/"
        },
        "id": "hKBG__HrKt9N",
        "outputId": "c5fa5c46-2be5-4586-d6b6-048f7a415dd1"
      },
      "source": [
        "!hive -e \"create database if not exists praxisDB;\""
      ],
      "execution_count": 17,
      "outputs": [
        {
          "output_type": "stream",
          "name": "stdout",
          "text": [
            "Hive Session ID = 65be314a-b2a1-48d6-bd74-e296aee1ef35\n",
            "\n",
            "Logging initialized using configuration in jar:file:/content/apache-hive-3.1.3-bin/lib/hive-common-3.1.3.jar!/hive-log4j2.properties Async: true\n",
            "Hive Session ID = 404bf50c-f716-4268-80b5-3835e8372563\n",
            "OK\n",
            "Time taken: 1.677 seconds\n"
          ]
        }
      ]
    },
    {
      "cell_type": "code",
      "metadata": {
        "colab": {
          "base_uri": "https://localhost:8080/"
        },
        "id": "thoqjjcHZoLU",
        "outputId": "313bedff-492b-483f-879a-b5f8283816f9"
      },
      "source": [
        "!hive -e \"show databases\""
      ],
      "execution_count": null,
      "outputs": [
        {
          "output_type": "stream",
          "name": "stdout",
          "text": [
            "Hive Session ID = bf703046-34dd-49dc-a4c7-51223495f503\n",
            "\n",
            "Logging initialized using configuration in jar:file:/content/apache-hive-3.1.3-bin/lib/hive-common-3.1.3.jar!/hive-log4j2.properties Async: true\n",
            "Hive Session ID = 4dbd6625-a315-4b09-a482-5e3fe1032b01\n",
            "OK\n",
            "default\n",
            "praxisdb\n",
            "Time taken: 2.721 seconds, Fetched: 2 row(s)\n"
          ]
        }
      ]
    },
    {
      "cell_type": "code",
      "metadata": {
        "colab": {
          "base_uri": "https://localhost:8080/"
        },
        "id": "duhKRlsnax6U",
        "outputId": "bfbde750-cdea-4327-aea3-c54370257be2"
      },
      "source": [
        "!hive -database praxisdb -e \"create table if not exists emp (name string, age int)\""
      ],
      "execution_count": 18,
      "outputs": [
        {
          "output_type": "stream",
          "name": "stdout",
          "text": [
            "Hive Session ID = 5874cf8e-aeaf-4612-9382-4780ac76d2cc\n",
            "\n",
            "Logging initialized using configuration in jar:file:/content/apache-hive-3.1.3-bin/lib/hive-common-3.1.3.jar!/hive-log4j2.properties Async: true\n",
            "Hive Session ID = 44654d03-e6d9-49c5-8bbe-b566bef4dc62\n",
            "OK\n",
            "Time taken: 1.362 seconds\n",
            "OK\n",
            "Time taken: 0.954 seconds\n"
          ]
        }
      ]
    },
    {
      "cell_type": "code",
      "metadata": {
        "colab": {
          "base_uri": "https://localhost:8080/"
        },
        "id": "YlXhPGIBbd7v",
        "outputId": "e5c5d8e5-628c-4007-dcf6-111ceb1c779b"
      },
      "source": [
        "!hive -database praxisdb -e \"show tables\""
      ],
      "execution_count": 19,
      "outputs": [
        {
          "output_type": "stream",
          "name": "stdout",
          "text": [
            "Hive Session ID = e7b7f810-010e-407d-98f3-acb04778a629\n",
            "\n",
            "Logging initialized using configuration in jar:file:/content/apache-hive-3.1.3-bin/lib/hive-common-3.1.3.jar!/hive-log4j2.properties Async: true\n",
            "Hive Session ID = cd9836be-6c7e-48bb-a598-6217d3cca883\n",
            "OK\n",
            "Time taken: 1.414 seconds\n",
            "OK\n",
            "emp\n",
            "Time taken: 0.362 seconds, Fetched: 1 row(s)\n"
          ]
        }
      ]
    },
    {
      "cell_type": "code",
      "metadata": {
        "colab": {
          "base_uri": "https://localhost:8080/"
        },
        "id": "VBbc2fzSb4Po",
        "outputId": "cc073e77-2e30-447c-ee4f-b60249688087"
      },
      "source": [
        "!hive -database praxisdb -e \"insert into emp values ('naren', 70)\""
      ],
      "execution_count": 20,
      "outputs": [
        {
          "output_type": "stream",
          "name": "stdout",
          "text": [
            "Hive Session ID = 22932464-24fc-4f23-8e00-bff687f8bc7e\n",
            "\n",
            "Logging initialized using configuration in jar:file:/content/apache-hive-3.1.3-bin/lib/hive-common-3.1.3.jar!/hive-log4j2.properties Async: true\n",
            "Hive Session ID = 2eca6c3a-63df-4e87-8be5-a80ba576f566\n",
            "OK\n",
            "Time taken: 1.259 seconds\n",
            "Query ID = root_20230501071118_225aaaac-49a5-4d54-a5d9-97dba3ba7d2c\n",
            "Total jobs = 3\n",
            "Launching Job 1 out of 3\n",
            "Number of reduce tasks determined at compile time: 1\n",
            "In order to change the average load for a reducer (in bytes):\n",
            "  set hive.exec.reducers.bytes.per.reducer=<number>\n",
            "In order to limit the maximum number of reducers:\n",
            "  set hive.exec.reducers.max=<number>\n",
            "In order to set a constant number of reducers:\n",
            "  set mapreduce.job.reduces=<number>\n",
            "Job running in-process (local Hadoop)\n",
            "2023-05-01 07:11:25,430 Stage-1 map = 100%,  reduce = 0%\n",
            "Ended Job = job_local90500994_0001\n",
            "Stage-4 is selected by condition resolver.\n",
            "Stage-3 is filtered out by condition resolver.\n",
            "Stage-5 is filtered out by condition resolver.\n",
            "Moving data to directory file:/user/hive/warehouse/praxisdb.db/emp/.hive-staging_hive_2023-05-01_07-11-18_604_4169937773008107532-1/-ext-10000\n",
            "Loading data to table praxisdb.emp\n",
            "MapReduce Jobs Launched: \n",
            "Stage-Stage-1:  HDFS Read: 0 HDFS Write: 0 SUCCESS\n",
            "Total MapReduce CPU Time Spent: 0 msec\n",
            "OK\n",
            "Time taken: 8.039 seconds\n"
          ]
        }
      ]
    },
    {
      "cell_type": "code",
      "metadata": {
        "colab": {
          "base_uri": "https://localhost:8080/"
        },
        "id": "q1KvSvdgx7Hc",
        "outputId": "6547c146-e6f8-4df1-f6f8-8370ae995b8a"
      },
      "source": [
        "!hive -database praxisdb -e \"insert into emp values ('aditya', 49)\""
      ],
      "execution_count": 21,
      "outputs": [
        {
          "output_type": "stream",
          "name": "stdout",
          "text": [
            "Hive Session ID = 098ff99a-dd2a-4b52-85b5-43c9172037d4\n",
            "\n",
            "Logging initialized using configuration in jar:file:/content/apache-hive-3.1.3-bin/lib/hive-common-3.1.3.jar!/hive-log4j2.properties Async: true\n",
            "Hive Session ID = 4081ee04-500c-4054-98db-1561c8943329\n",
            "OK\n",
            "Time taken: 2.35 seconds\n",
            "Query ID = root_20230501071148_f69a8f5b-c661-4797-ae4e-05e5afb9f097\n",
            "Total jobs = 3\n",
            "Launching Job 1 out of 3\n",
            "Number of reduce tasks determined at compile time: 1\n",
            "In order to change the average load for a reducer (in bytes):\n",
            "  set hive.exec.reducers.bytes.per.reducer=<number>\n",
            "In order to limit the maximum number of reducers:\n",
            "  set hive.exec.reducers.max=<number>\n",
            "In order to set a constant number of reducers:\n",
            "  set mapreduce.job.reduces=<number>\n",
            "Job running in-process (local Hadoop)\n",
            "2023-05-01 07:11:54,623 Stage-1 map = 100%,  reduce = 100%\n",
            "Ended Job = job_local1373658441_0001\n",
            "Stage-4 is selected by condition resolver.\n",
            "Stage-3 is filtered out by condition resolver.\n",
            "Stage-5 is filtered out by condition resolver.\n",
            "Moving data to directory file:/user/hive/warehouse/praxisdb.db/emp/.hive-staging_hive_2023-05-01_07-11-48_738_3179129714884317827-1/-ext-10000\n",
            "Loading data to table praxisdb.emp\n",
            "MapReduce Jobs Launched: \n",
            "Stage-Stage-1:  HDFS Read: 0 HDFS Write: 0 SUCCESS\n",
            "Total MapReduce CPU Time Spent: 0 msec\n",
            "OK\n",
            "Time taken: 6.881 seconds\n"
          ]
        }
      ]
    },
    {
      "cell_type": "code",
      "metadata": {
        "colab": {
          "base_uri": "https://localhost:8080/"
        },
        "id": "DFxnPRbQclhP",
        "outputId": "5a448594-39a6-48c4-9f22-4f2cc55a9843"
      },
      "source": [
        "!hive -database praxisdb -e \"select * from emp\""
      ],
      "execution_count": 22,
      "outputs": [
        {
          "output_type": "stream",
          "name": "stdout",
          "text": [
            "Hive Session ID = 04974e93-63fa-4011-864e-2b934ebe3f15\n",
            "\n",
            "Logging initialized using configuration in jar:file:/content/apache-hive-3.1.3-bin/lib/hive-common-3.1.3.jar!/hive-log4j2.properties Async: true\n",
            "Hive Session ID = e00d744b-e1c4-43e8-9430-441d8e5aacf6\n",
            "OK\n",
            "Time taken: 1.974 seconds\n",
            "OK\n",
            "naren\t70\n",
            "aditya\t49\n",
            "Time taken: 2.416 seconds, Fetched: 2 row(s)\n"
          ]
        }
      ]
    },
    {
      "cell_type": "code",
      "metadata": {
        "colab": {
          "base_uri": "https://localhost:8080/"
        },
        "id": "4Rwm36kUya6A",
        "outputId": "80c0bb20-2a0a-4aa4-c662-7d9a00a87c69"
      },
      "source": [
        "# Silent Mode\n",
        "!hive -S -database praxisdb -e \"select * from emp where name = 'aditya'\""
      ],
      "execution_count": null,
      "outputs": [
        {
          "output_type": "stream",
          "name": "stdout",
          "text": [
            "Hive Session ID = 30b12b5c-661a-47cf-9f2b-8025b6bd5cb6\n",
            "Hive Session ID = b88fddc6-f515-474a-a3a0-a6d02331dcdc\n",
            "aditya\t49\n"
          ]
        }
      ]
    },
    {
      "cell_type": "markdown",
      "metadata": {
        "id": "xvIfuSAbkHJ9"
      },
      "source": [
        "## 2.7 Bulk Data Load from CSV file"
      ]
    },
    {
      "cell_type": "code",
      "metadata": {
        "colab": {
          "base_uri": "https://localhost:8080/"
        },
        "id": "fSFFf3lwkMS0",
        "outputId": "29e402df-f024-4d31-8c30-1e6b24d73ae5"
      },
      "source": [
        "#drop table\n",
        "!hive -S -database praxisDB -e 'DROP table if exists eCommerce'\n",
        "#create table\n",
        "# Invoice Date is being treated as a STRING because input data is not correctly formatted\n",
        "!hive -S -database praxisDB -e \" \\\n",
        "CREATE TABLE eCommerce ( \\\n",
        "InvoiceNo varchar(10), \\\n",
        "StockCode varchar(10), \\\n",
        "Description varchar(50), \\\n",
        "Quantity int, \\\n",
        "InvoiceDate string, \\\n",
        "UnitPrice decimal(6,2), \\\n",
        "CustomerID varchar(10), \\\n",
        "Country varchar(15) \\\n",
        ") row format delimited fields terminated by ','; \\\n",
        "\""
      ],
      "execution_count": 23,
      "outputs": [
        {
          "output_type": "stream",
          "name": "stdout",
          "text": [
            "Hive Session ID = 35876d0a-418d-4037-80b7-7542f8b55fed\n",
            "Hive Session ID = 629827fb-6466-4ed6-b69a-0829ce07ab5a\n",
            "Hive Session ID = b2a3261c-e852-4190-a9ea-d52dad3ec9be\n",
            "Hive Session ID = c576c9a0-a846-4827-afed-4899f721c793\n"
          ]
        }
      ]
    },
    {
      "cell_type": "code",
      "metadata": {
        "colab": {
          "base_uri": "https://localhost:8080/"
        },
        "id": "4110Vjf-ktx6",
        "outputId": "753fafdc-3f7b-42c5-cbbc-fed5368e5bca"
      },
      "source": [
        "!hive -S -database praxisdb -e \"describe eCommerce\""
      ],
      "execution_count": 24,
      "outputs": [
        {
          "output_type": "stream",
          "name": "stdout",
          "text": [
            "Hive Session ID = 2ede10aa-fce2-4a7c-baf0-3604fc895113\n",
            "Hive Session ID = 16fbccbb-06fa-4ed9-8864-bef18448429e\n",
            "invoiceno           \tvarchar(10)         \t                    \n",
            "stockcode           \tvarchar(10)         \t                    \n",
            "description         \tvarchar(50)         \t                    \n",
            "quantity            \tint                 \t                    \n",
            "invoicedate         \tstring              \t                    \n",
            "unitprice           \tdecimal(6,2)        \t                    \n",
            "customerid          \tvarchar(10)         \t                    \n",
            "country             \tvarchar(15)         \t                    \n"
          ]
        }
      ]
    },
    {
      "cell_type": "markdown",
      "metadata": {
        "id": "YfyabRo5pm7h"
      },
      "source": [
        "This data may not be clean and may have commas embedded in the CSV file. To see how clearn this look at this notebook : [Spark SQLContext HiveContext](https://github.com/prithwis/KKolab/blob/main/KK_C1_SparkSQL_SQLContext_HiveContext.ipynb) "
      ]
    },
    {
      "cell_type": "code",
      "metadata": {
        "colab": {
          "base_uri": "https://localhost:8080/"
        },
        "id": "MqHKwLOIk67g",
        "outputId": "0c150240-d719-4e0c-a875-27450e7b25d9"
      },
      "source": [
        "#Data as CSV file\n",
        "!gdown https://drive.google.com/uc?id=1JJH24ZZaiJrEKValD--UtyFcWl7UanwV  # 2% data ~ 10K rows\n",
        "!gdown https://drive.google.com/uc?id=1g7mJ0v4fkERW0HWc1eq-SHs_jvQ0N2Oe  # 100% data ~ 500K rows"
      ],
      "execution_count": 25,
      "outputs": [
        {
          "output_type": "stream",
          "name": "stdout",
          "text": [
            "Downloading...\n",
            "From: https://drive.google.com/uc?id=1JJH24ZZaiJrEKValD--UtyFcWl7UanwV\n",
            "To: /content/eCommerce_02PC_2021.csv\n",
            "100% 917k/917k [00:00<00:00, 101MB/s]\n",
            "Downloading...\n",
            "From: https://drive.google.com/uc?id=1g7mJ0v4fkERW0HWc1eq-SHs_jvQ0N2Oe\n",
            "To: /content/eCommerce_Full_2021.csv\n",
            "100% 45.6M/45.6M [00:00<00:00, 72.6MB/s]\n"
          ]
        }
      ]
    },
    {
      "cell_type": "code",
      "metadata": {
        "colab": {
          "base_uri": "https://localhost:8080/"
        },
        "id": "Z3M5Vl0NlNnQ",
        "outputId": "3c1eabb3-e099-443e-bd51-3a387a05ad80"
      },
      "source": [
        "#remove the CRLF character from the end of the row if it exists\n",
        "!sed 's/\\r//' /content/eCommerce_Full_2021.csv > datafile.csv\n",
        "#!sed 's/\\r//' /content/eCommerce_02PC_2021.csv > datafile.csv\n",
        "# remove the first line containing headers from the file\n",
        "!sed -i -e \"1d\" datafile.csv    \n",
        "!head datafile.csv           "
      ],
      "execution_count": 26,
      "outputs": [
        {
          "output_type": "stream",
          "name": "stdout",
          "text": [
            "536365,85123A,WHITE HANGING HEART T-LIGHT HOLDER,6,12/1/2010 8:26,2.55,17850,United Kingdom\n",
            "536365,71053,WHITE METAL LANTERN,6,12/1/2010 8:26,3.39,17850,United Kingdom\n",
            "536365,84406B,CREAM CUPID HEARTS COAT HANGER,8,12/1/2010 8:26,2.75,17850,United Kingdom\n",
            "536365,84029G,KNITTED UNION FLAG HOT WATER BOTTLE,6,12/1/2010 8:26,3.39,17850,United Kingdom\n",
            "536365,84029E,RED WOOLLY HOTTIE WHITE HEART.,6,12/1/2010 8:26,3.39,17850,United Kingdom\n",
            "536365,22752,SET 7 BABUSHKA NESTING BOXES,2,12/1/2010 8:26,7.65,17850,United Kingdom\n",
            "536365,21730,GLASS STAR FROSTED T-LIGHT HOLDER,6,12/1/2010 8:26,4.25,17850,United Kingdom\n",
            "536366,22633,HAND WARMER UNION JACK,6,12/1/2010 8:28,1.85,17850,United Kingdom\n",
            "536366,22632,HAND WARMER RED POLKA DOT,6,12/1/2010 8:28,1.85,17850,United Kingdom\n",
            "536367,84879,ASSORTED COLOUR BIRD ORNAMENT,32,12/1/2010 8:34,1.69,13047,United Kingdom\n"
          ]
        }
      ]
    },
    {
      "cell_type": "code",
      "metadata": {
        "colab": {
          "base_uri": "https://localhost:8080/"
        },
        "id": "XljU-WuElcUB",
        "outputId": "3378f939-9b2c-4b6b-f454-fca386c7cfc2"
      },
      "source": [
        "# delete all rows from table\n",
        "!hive -S -database praxisdb -e 'TRUNCATE TABLE eCommerce'\n",
        "# LOAD\n",
        "!hive -S -database praxisdb -e \"LOAD DATA LOCAL INPATH 'datafile.csv' INTO TABLE eCommerce\""
      ],
      "execution_count": 27,
      "outputs": [
        {
          "output_type": "stream",
          "name": "stdout",
          "text": [
            "Hive Session ID = 8406d33f-e551-46fd-b20d-d701497c2030\n",
            "Hive Session ID = 1f581be7-0977-40af-a9fa-fca14821f68f\n",
            "Hive Session ID = dea9aa7a-8eba-42dd-be6f-f2001252f4ad\n",
            "Hive Session ID = f93ac77b-444f-406b-8f44-5955bf200042\n"
          ]
        }
      ]
    },
    {
      "cell_type": "code",
      "metadata": {
        "colab": {
          "base_uri": "https://localhost:8080/"
        },
        "id": "vRceNDPylu2U",
        "outputId": "b89021d3-8f51-4bcc-df49-33cd736779da"
      },
      "source": [
        "!hive -S -database praxisdb -e \"select count(*) from eCommerce\""
      ],
      "execution_count": 28,
      "outputs": [
        {
          "output_type": "stream",
          "name": "stdout",
          "text": [
            "Hive Session ID = 6683845b-c1a3-4060-916a-fbd6e95e43b3\n",
            "Hive Session ID = dede467f-17ee-4d50-a8b0-daf0145e6268\n",
            "541909\n"
          ]
        }
      ]
    },
    {
      "cell_type": "code",
      "metadata": {
        "colab": {
          "base_uri": "https://localhost:8080/"
        },
        "id": "m977A2Jnl5mZ",
        "outputId": "426feb9a-52f1-4205-e99c-43a9fb258df8"
      },
      "source": [
        "!hive -S -database praxisdb -e \"select * from eCommerce limit 30\""
      ],
      "execution_count": 29,
      "outputs": [
        {
          "output_type": "stream",
          "name": "stdout",
          "text": [
            "Hive Session ID = 69e2bcf7-5b31-42a2-8bce-d714a773ced3\n",
            "Hive Session ID = 9ce71933-ffd1-4ab2-89a5-64e308b706a8\n",
            "536365\t85123A\tWHITE HANGING HEART T-LIGHT HOLDER\t6\t12/1/2010 8:26\t2.55\t17850\tUnited Kingdom\n",
            "536365\t71053\tWHITE METAL LANTERN\t6\t12/1/2010 8:26\t3.39\t17850\tUnited Kingdom\n",
            "536365\t84406B\tCREAM CUPID HEARTS COAT HANGER\t8\t12/1/2010 8:26\t2.75\t17850\tUnited Kingdom\n",
            "536365\t84029G\tKNITTED UNION FLAG HOT WATER BOTTLE\t6\t12/1/2010 8:26\t3.39\t17850\tUnited Kingdom\n",
            "536365\t84029E\tRED WOOLLY HOTTIE WHITE HEART.\t6\t12/1/2010 8:26\t3.39\t17850\tUnited Kingdom\n",
            "536365\t22752\tSET 7 BABUSHKA NESTING BOXES\t2\t12/1/2010 8:26\t7.65\t17850\tUnited Kingdom\n",
            "536365\t21730\tGLASS STAR FROSTED T-LIGHT HOLDER\t6\t12/1/2010 8:26\t4.25\t17850\tUnited Kingdom\n",
            "536366\t22633\tHAND WARMER UNION JACK\t6\t12/1/2010 8:28\t1.85\t17850\tUnited Kingdom\n",
            "536366\t22632\tHAND WARMER RED POLKA DOT\t6\t12/1/2010 8:28\t1.85\t17850\tUnited Kingdom\n",
            "536367\t84879\tASSORTED COLOUR BIRD ORNAMENT\t32\t12/1/2010 8:34\t1.69\t13047\tUnited Kingdom\n",
            "536367\t22745\tPOPPY'S PLAYHOUSE BEDROOM \t6\t12/1/2010 8:34\t2.10\t13047\tUnited Kingdom\n",
            "536367\t22748\tPOPPY'S PLAYHOUSE KITCHEN\t6\t12/1/2010 8:34\t2.10\t13047\tUnited Kingdom\n",
            "536367\t22749\tFELTCRAFT PRINCESS CHARLOTTE DOLL\t8\t12/1/2010 8:34\t3.75\t13047\tUnited Kingdom\n",
            "536367\t22310\tIVORY KNITTED MUG COSY \t6\t12/1/2010 8:34\t1.65\t13047\tUnited Kingdom\n",
            "536367\t84969\tBOX OF 6 ASSORTED COLOUR TEASPOONS\t6\t12/1/2010 8:34\t4.25\t13047\tUnited Kingdom\n",
            "536367\t22623\tBOX OF VINTAGE JIGSAW BLOCKS \t3\t12/1/2010 8:34\t4.95\t13047\tUnited Kingdom\n",
            "536367\t22622\tBOX OF VINTAGE ALPHABET BLOCKS\t2\t12/1/2010 8:34\t9.95\t13047\tUnited Kingdom\n",
            "536367\t21754\tHOME BUILDING BLOCK WORD\t3\t12/1/2010 8:34\t5.95\t13047\tUnited Kingdom\n",
            "536367\t21755\tLOVE BUILDING BLOCK WORD\t3\t12/1/2010 8:34\t5.95\t13047\tUnited Kingdom\n",
            "536367\t21777\tRECIPE BOX WITH METAL HEART\t4\t12/1/2010 8:34\t7.95\t13047\tUnited Kingdom\n",
            "536367\t48187\tDOORMAT NEW ENGLAND\t4\t12/1/2010 8:34\t7.95\t13047\tUnited Kingdom\n",
            "536368\t22960\tJAM MAKING SET WITH JARS\t6\t12/1/2010 8:34\t4.25\t13047\tUnited Kingdom\n",
            "536368\t22913\tRED COAT RACK PARIS FASHION\t3\t12/1/2010 8:34\t4.95\t13047\tUnited Kingdom\n",
            "536368\t22912\tYELLOW COAT RACK PARIS FASHION\t3\t12/1/2010 8:34\t4.95\t13047\tUnited Kingdom\n",
            "536368\t22914\tBLUE COAT RACK PARIS FASHION\t3\t12/1/2010 8:34\t4.95\t13047\tUnited Kingdom\n",
            "536369\t21756\tBATH BUILDING BLOCK WORD\t3\t12/1/2010 8:35\t5.95\t13047\tUnited Kingdom\n",
            "536370\t22728\tALARM CLOCK BAKELIKE PINK\t24\t12/1/2010 8:45\t3.75\t12583\tFrance\n",
            "536370\t22727\tALARM CLOCK BAKELIKE RED \t24\t12/1/2010 8:45\t3.75\t12583\tFrance\n",
            "536370\t22726\tALARM CLOCK BAKELIKE GREEN\t12\t12/1/2010 8:45\t3.75\t12583\tFrance\n",
            "536370\t21724\tPANDA AND BUNNIES STICKER SHEET\t12\t12/1/2010 8:45\t0.85\t12583\tFrance\n"
          ]
        }
      ]
    },
    {
      "cell_type": "code",
      "source": [
        "from datetime import datetime\n",
        "import pytz\n",
        "print('signed off at  ',datetime.now(pytz.timezone('Asia/Kolkata')))"
      ],
      "metadata": {
        "id": "-CtmCPvi4jJ1",
        "outputId": "0b30cd99-235f-48f0-c9c3-a204675d3957",
        "colab": {
          "base_uri": "https://localhost:8080/"
        }
      },
      "execution_count": 30,
      "outputs": [
        {
          "output_type": "stream",
          "name": "stdout",
          "text": [
            "signed off at   2023-05-01 12:45:34.717043+05:30\n"
          ]
        }
      ]
    },
    {
      "cell_type": "markdown",
      "metadata": {
        "id": "qEShQrGRJio3"
      },
      "source": [
        "#Chronobooks <br>\n",
        "![alt text](https://1.bp.blogspot.com/-lTiYBkU2qbU/X1er__fvnkI/AAAAAAAAjtE/GhDR3OEGJr4NG43fZPodrQD5kbxtnKebgCLcBGAsYHQ/s600/Footer2020-600x200.png)<hr>\n",
        "Chronotantra and Chronoyantra are two science fiction novels that explore the collapse of human civilisation on Earth and then its rebirth and reincarnation both on Earth as well as on the distant worlds of Mars, Titan and Enceladus. But is it the human civilisation that is being reborn? Or is it some other sentience that is revealing itself. \n",
        "If you have an interest in AI and found this material useful, you may consider buying these novels, in paperback or kindle, from [http://bit.ly/chronobooks](http://bit.ly/chronobooks)"
      ]
    }
  ]
}