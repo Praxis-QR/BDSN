{
  "nbformat": 4,
  "nbformat_minor": 0,
  "metadata": {
    "colab": {
      "name": "KK B2 Hadoop and Hive",
      "provenance": [],
      "toc_visible": true,
      "include_colab_link": true
    },
    "kernelspec": {
      "name": "python3",
      "display_name": "Python 3"
    }
  },
  "cells": [
    {
      "cell_type": "markdown",
      "metadata": {
        "id": "view-in-github",
        "colab_type": "text"
      },
      "source": [
        "<a href=\"https://colab.research.google.com/github/Praxis-QR/BDSN/blob/main/KK_B2_Hadoop_and_Hive.ipynb\" target=\"_parent\"><img src=\"https://colab.research.google.com/assets/colab-badge.svg\" alt=\"Open In Colab\"/></a>"
      ]
    },
    {
      "cell_type": "markdown",
      "metadata": {
        "id": "NOvxIBi-IJ8G"
      },
      "source": [
        "![alt text](https://github.com/Praxis-QR/RDWH/raw/main/images/YantraJaalBanner.png)<br>\n",
        "\n",
        "\n",
        "<hr>\n",
        "\n",
        "[Prithwis Mukerjee](http://www.linkedin.com/in/prithwis)<br>"
      ]
    },
    {
      "cell_type": "code",
      "source": [
        "from datetime import datetime\n",
        "import pytz\n",
        "print('Tested',datetime.now(pytz.timezone('Asia/Calcutta')))"
      ],
      "metadata": {
        "id": "p9zM6ZmAiVDM",
        "outputId": "171334ef-7ead-403c-afcd-96c30178feff",
        "colab": {
          "base_uri": "https://localhost:8080/"
        }
      },
      "execution_count": null,
      "outputs": [
        {
          "output_type": "stream",
          "name": "stdout",
          "text": [
            "Tested 2023-05-03 07:26:18.007230+05:30\n"
          ]
        }
      ]
    },
    {
      "cell_type": "markdown",
      "metadata": {
        "id": "mwjvirExIQAM"
      },
      "source": [
        "#Hive with Hadoop\n",
        "This notebook has all the codes / commands required to install Hadoop and Hive <br>\n",
        "\n"
      ]
    },
    {
      "cell_type": "markdown",
      "metadata": {
        "id": "RK5y3g-ySDmZ"
      },
      "source": [
        "##Acknowledgements\n",
        "Hadoop Installation from [Anjaly Sam's Github Repository](https://github.com/anjalysam/Hadoop) <br>\n",
        "Hive Installation from [PhoenixNAP](https://phoenixnap.com/kb/install-hive-on-ubuntu) website"
      ]
    },
    {
      "cell_type": "markdown",
      "metadata": {
        "id": "myPIGP-mwKBD"
      },
      "source": [
        "#1 Hadoop\n",
        "Hadoop is a pre-requisite for Hive <br>\n"
      ]
    },
    {
      "cell_type": "markdown",
      "metadata": {
        "id": "j9bT9M1yvyXG"
      },
      "source": [
        "## 1.1 Download, Install Hadoop"
      ]
    },
    {
      "cell_type": "code",
      "metadata": {
        "id": "NXFZuorwF25e"
      },
      "source": [
        "# The default JVM available at /usr/lib/jvm/java-11-openjdk-amd64/  works for Hadoop\n",
        "# But gives errors with Hive https://stackoverflow.com/questions/54037773/hive-exception-class-jdk-internal-loader-classloadersappclassloader-cannot\n",
        "# Hence this JVM needs to be installed\n",
        "!apt-get update > /dev/null\n",
        "!apt-get install openjdk-8-jdk-headless -qq > /dev/null"
      ],
      "execution_count": 1,
      "outputs": []
    },
    {
      "cell_type": "code",
      "metadata": {
        "id": "bijZAdD_cBMK"
      },
      "source": [
        "# If there is an error in this cell, it is very likely that the version of hadoop has changed\n",
        "# Download the latest version of Hadoop and change the version numbers accordingly\n",
        "#wget -q https://downloads.apache.org/hadoop/common/hadoop-3.3.0/hadoop-3.3.0.tar.gz\n",
        "#!wget -q https://downloads.apache.org/hadoop/common/hadoop-3.3.2/hadoop-3.3.2.tar.gz\n",
        "#!wget  https://downloads.apache.org/hadoop/common/hadoop-3.3.2/hadoop-3.3.2.tar.gz\n",
        "!wget -q https://downloads.apache.org/hadoop/common/hadoop-3.3.5/hadoop-3.3.5.tar.gz\n",
        "# Unzip it\n",
        "# the tar command with the -x flag to extract, -z to uncompress, -v for verbose output, and -f to specify that we’re extracting from a file\n",
        "#!tar -xzf hadoop-3.3.2.tar.gz\n",
        "!tar -xzf hadoop-3.3.5.tar.gz\n",
        "#copy  hadoop file to user/local\n",
        "#!mv  hadoop-3.3.2/ /usr/local/\n",
        "!mv  hadoop-3.3.5/ /usr/local/"
      ],
      "execution_count": 2,
      "outputs": []
    },
    {
      "cell_type": "markdown",
      "metadata": {
        "id": "Vh6Dqbbrwqpe"
      },
      "source": [
        "## 1.2 Set Environment Variables\n"
      ]
    },
    {
      "cell_type": "code",
      "metadata": {
        "id": "_OUc19ZtcBG5"
      },
      "source": [
        "#To find the default Java path\n",
        "#!readlink -f /usr/bin/java | sed \"s:bin/java::\"\n",
        "#!ls /usr/lib/jvm/"
      ],
      "execution_count": null,
      "outputs": []
    },
    {
      "cell_type": "code",
      "metadata": {
        "id": "_ez4T7Gs3RAn"
      },
      "source": [
        "#To set java path, go to /usr/local/hadoop-3.3.0/etc/hadoop/hadoop-env.sh then\n",
        "#. . . export JAVA_HOME=/usr/lib/jvm/java-11-openjdk-amd64/ . . .\n",
        "#we have used a simpler alternative route using os.environ - it works\n",
        "\n",
        "import os\n",
        "os.environ[\"JAVA_HOME\"] = \"/usr/lib/jvm/java-8-openjdk-amd64\"   # default is changed\n",
        "#os.environ[\"JAVA_HOME\"] = \"/usr/lib/jvm/java-11-openjdk-amd64/\"\n",
        "# make sure that the version number is as downloaded \n",
        "#os.environ[\"HADOOP_HOME\"] = \"/usr/local/hadoop-3.3.0/\"\n",
        "#os.environ[\"HADOOP_HOME\"] = \"/usr/local/hadoop-3.3.2/\"\n",
        "os.environ[\"HADOOP_HOME\"] = \"/usr/local/hadoop-3.3.5/\""
      ],
      "execution_count": 3,
      "outputs": []
    },
    {
      "cell_type": "code",
      "metadata": {
        "id": "vDFgpWGLhdhl",
        "outputId": "e3232280-02f0-4c81-916d-80f857d6ec22",
        "colab": {
          "base_uri": "https://localhost:8080/"
        }
      },
      "source": [
        "# Add Hadoop BIN to PATH\n",
        "# Get the current_path from output of previous command\n",
        "#current_path = '/usr/local/nvidia/bin:/usr/local/cuda/bin:/usr/local/sbin:/usr/local/bin:/usr/sbin:/usr/bin:/sbin:/bin:/tools/node/bin:/tools/google-cloud-sdk/bin:/opt/bin'\n",
        "#current_path = '/usr/local/nvidia/bin:/usr/local/cuda/bin:/usr/local/sbin:/usr/local/bin:/usr/sbin:/usr/bin:/sbin:/bin:/tools/node/bin:/tools/google-cloud-sdk/bin:/opt/bin'\n",
        "#new_path = current_path+':/usr/local/hadoop-3.3.2/bin/'\n",
        "#os.environ[\"PATH\"] = new_path\n",
        "#!echo $PATH\n",
        "\n",
        "current_path = os.getenv('PATH')\n",
        "#new_path = current_path+':/usr/local/hadoop-3.3.0/bin/'\n",
        "#new_path = current_path+':/usr/local/hadoop-3.3.2/bin/'\n",
        "new_path = current_path+':/usr/local/hadoop-3.3.5/bin/'\n",
        "os.environ[\"PATH\"] = new_path\n",
        "!echo $PATH"
      ],
      "execution_count": 4,
      "outputs": [
        {
          "output_type": "stream",
          "name": "stdout",
          "text": [
            "/opt/bin:/usr/local/nvidia/bin:/usr/local/cuda/bin:/usr/local/sbin:/usr/local/bin:/usr/sbin:/usr/bin:/sbin:/bin:/tools/node/bin:/tools/google-cloud-sdk/bin:/usr/local/hadoop-3.3.5/bin/\n"
          ]
        }
      ]
    },
    {
      "cell_type": "markdown",
      "metadata": {
        "id": "Oj00rPPZyEWZ"
      },
      "source": [
        "## 1.3 Test Hadoop Installation"
      ]
    },
    {
      "cell_type": "code",
      "metadata": {
        "id": "Zhf-zK7NcBDF"
      },
      "source": [
        "#Running Hadoop - Test RUN, not doing anything at all\n",
        "#!/usr/local/hadoop-3.3.0/bin/hadoop\n",
        "# UNCOMMENT the following line if you want to make sure that Hadoop is alive!\n",
        "#!hadoop"
      ],
      "execution_count": null,
      "outputs": []
    },
    {
      "cell_type": "code",
      "metadata": {
        "id": "0n3I6iqjGod-"
      },
      "source": [
        "# Testing Hadoop with PI generating sample program, should calculate value of pi = 3.14157500000000000000\n",
        "# pi example\n",
        "#Uncomment the following line if  you want to test Hadoop with pi example\n",
        "#!hadoop jar /usr/local/hadoop-3.3.0/share/hadoop/mapreduce/hadoop-mapreduce-examples-3.3.0.jar pi 16 100000"
      ],
      "execution_count": null,
      "outputs": []
    },
    {
      "cell_type": "markdown",
      "metadata": {
        "id": "RUlA5c3yRCx1"
      },
      "source": [
        "#2 Hive"
      ]
    },
    {
      "cell_type": "markdown",
      "metadata": {
        "id": "pURJ-sKVsymi"
      },
      "source": [
        "## 2.1 Download, Install HIVE"
      ]
    },
    {
      "cell_type": "code",
      "metadata": {
        "id": "TFsywGzPRaYp"
      },
      "source": [
        "# Download and Unzip the correct version and unzip\n",
        "#!wget https://downloads.apache.org/hive/hive-3.1.2/apache-hive-3.1.2-bin.tar.gz\n",
        "!wget -q https://downloads.apache.org/hive/hive-3.1.3/apache-hive-3.1.3-bin.tar.gz\n",
        "\n",
        "#!tar xzf apache-hive-3.1.2-bin.tar.gz\n",
        "!tar xzf apache-hive-3.1.3-bin.tar.gz"
      ],
      "execution_count": 5,
      "outputs": []
    },
    {
      "cell_type": "markdown",
      "metadata": {
        "id": "Aq6QYCVetNED"
      },
      "source": [
        "## 2.2 Set Environment *Variables*"
      ]
    },
    {
      "cell_type": "code",
      "metadata": {
        "colab": {
          "base_uri": "https://localhost:8080/"
        },
        "id": "7qROUu4vSdEU",
        "outputId": "8c12cf64-2fe6-4e74-9a12-abf70b14d0dd"
      },
      "source": [
        "# Make sure that the version number is correct and is as downloaded\n",
        "#os.environ[\"HIVE_HOME\"] = \"/content/apache-hive-3.1.2-bin\"\n",
        "os.environ[\"HIVE_HOME\"] = \"/content/apache-hive-3.1.3-bin\"\n",
        "!echo $HIVE_HOME"
      ],
      "execution_count": 6,
      "outputs": [
        {
          "output_type": "stream",
          "name": "stdout",
          "text": [
            "/content/apache-hive-3.1.3-bin\n"
          ]
        }
      ]
    },
    {
      "cell_type": "code",
      "metadata": {
        "colab": {
          "base_uri": "https://localhost:8080/"
        },
        "id": "dx3pKQ9PTBfR",
        "outputId": "986354d8-3e1e-421d-8337-60dab376a2b6"
      },
      "source": [
        "# current_path is set from output of previous command\n",
        "#current_path = '/usr/local/nvidia/bin:/usr/local/cuda/bin:/usr/local/sbin:/usr/local/bin:/usr/sbin:/usr/bin:/sbin:/bin:/tools/node/bin:/tools/google-cloud-sdk/bin:/opt/bin:/usr/local/hadoop-3.3.0/bin/'\n",
        "#current_path = '/opt/bin:/usr/local/nvidia/bin:/usr/local/cuda/bin:/usr/local/sbin:/usr/local/bin:/usr/sbin:/usr/bin:/sbin:/bin:/tools/node/bin:/tools/google-cloud-sdk/bin:/usr/local/hadoop-3.3.2/bin/'\n",
        "#new_path = current_path+':/content/apache-hive-3.1.2-bin/bin'\n",
        "#os.environ[\"PATH\"] = new_path\n",
        "!echo $PATH\n",
        "\n",
        "\n",
        "current_path = os.getenv('PATH')\n",
        "#new_path = current_path+':/usr/local/hadoop-3.3.0/bin/'\n",
        "#new_path = current_path+':/content/apache-hive-3.1.2-bin/bin'\n",
        "new_path = current_path+':/content/apache-hive-3.1.3-bin/bin'\n",
        "os.environ[\"PATH\"] = new_path\n",
        "!echo $PATH"
      ],
      "execution_count": 7,
      "outputs": [
        {
          "output_type": "stream",
          "name": "stdout",
          "text": [
            "/opt/bin:/usr/local/nvidia/bin:/usr/local/cuda/bin:/usr/local/sbin:/usr/local/bin:/usr/sbin:/usr/bin:/sbin:/bin:/tools/node/bin:/tools/google-cloud-sdk/bin:/usr/local/hadoop-3.3.5/bin/\n",
            "/opt/bin:/usr/local/nvidia/bin:/usr/local/cuda/bin:/usr/local/sbin:/usr/local/bin:/usr/sbin:/usr/bin:/sbin:/bin:/tools/node/bin:/tools/google-cloud-sdk/bin:/usr/local/hadoop-3.3.5/bin/:/content/apache-hive-3.1.3-bin/bin\n"
          ]
        }
      ]
    },
    {
      "cell_type": "code",
      "metadata": {
        "colab": {
          "base_uri": "https://localhost:8080/"
        },
        "id": "BfiA2LItT_L2",
        "outputId": "986b8de5-9a37-4229-c9b0-f09991248f16"
      },
      "source": [
        "!echo $JAVA_HOME\n",
        "!echo $HADOOP_HOME\n",
        "!echo $HIVE_HOME"
      ],
      "execution_count": 8,
      "outputs": [
        {
          "output_type": "stream",
          "name": "stdout",
          "text": [
            "/usr/lib/jvm/java-8-openjdk-amd64\n",
            "/usr/local/hadoop-3.3.5/\n",
            "/content/apache-hive-3.1.3-bin\n"
          ]
        }
      ]
    },
    {
      "cell_type": "markdown",
      "metadata": {
        "id": "AryjHG4ltfEe"
      },
      "source": [
        "## 2.3 Set up HDFS Directories"
      ]
    },
    {
      "cell_type": "code",
      "metadata": {
        "colab": {
          "base_uri": "https://localhost:8080/"
        },
        "id": "Dry58UPMVTat",
        "outputId": "a3346ea0-8e63-4b5d-c8a2-61306e1264e0"
      },
      "source": [
        "!hdfs dfs -mkdir /tmp\n",
        "!hdfs dfs -chmod g+w /tmp\n",
        "#!hdfs dfs -ls /\n",
        "!hdfs dfs -mkdir -p /content/warehouse\n",
        "!hdfs dfs -chmod g+w /content/warehouse\n",
        "#!hdfs dfs -ls /content/"
      ],
      "execution_count": 9,
      "outputs": [
        {
          "output_type": "stream",
          "name": "stdout",
          "text": [
            "mkdir: `/tmp': File exists\n"
          ]
        }
      ]
    },
    {
      "cell_type": "markdown",
      "metadata": {
        "id": "0VrvjhfG2JXs"
      },
      "source": [
        "## 2.4 Initialise HIVE - note and fix errors"
      ]
    },
    {
      "cell_type": "code",
      "metadata": {
        "id": "zLX7AvL8YLMY"
      },
      "source": [
        "# TYPE this command, do not copy and paste. Non printing characters cause havoc \n",
        "# There will be two errors, that we will fix\n",
        "# UNCOMMENT the following line if you WISH TO SEE the errors\n",
        "#!schematool -initSchema -dbType derby\n"
      ],
      "execution_count": null,
      "outputs": []
    },
    {
      "cell_type": "markdown",
      "metadata": {
        "id": "v21CxgGLuJPQ"
      },
      "source": [
        "### 2.4.1 Fix One Warning, One Error \n",
        "SLF4J is duplicate, need to locate them and remove one <br>\n",
        "Guava jar version is low"
      ]
    },
    {
      "cell_type": "code",
      "metadata": {
        "colab": {
          "base_uri": "https://localhost:8080/"
        },
        "id": "Becy3BABuE8b",
        "outputId": "fe0a47f9-7408-42c7-9426-aa2b120f0d6c"
      },
      "source": [
        "# locate multiple instances of slf4j ...\n",
        "!ls $HADOOP_HOME/share/hadoop/common/lib/*slf4j*\n",
        "!ls $HIVE_HOME/lib/*slf4j*"
      ],
      "execution_count": null,
      "outputs": [
        {
          "output_type": "stream",
          "name": "stdout",
          "text": [
            "/usr/local/hadoop-3.3.5//share/hadoop/common/lib/jul-to-slf4j-1.7.36.jar\n",
            "/usr/local/hadoop-3.3.5//share/hadoop/common/lib/slf4j-api-1.7.36.jar\n",
            "/usr/local/hadoop-3.3.5//share/hadoop/common/lib/slf4j-reload4j-1.7.36.jar\n",
            "/content/apache-hive-3.1.3-bin/lib/log4j-slf4j-impl-2.17.1.jar\n"
          ]
        }
      ]
    },
    {
      "cell_type": "code",
      "metadata": {
        "id": "DEUomnHGu4kR"
      },
      "source": [
        "# removed the logging jar from Hive, retaining the Hadoop jar\n",
        "#!mv /content/apache-hive-3.1.2-bin/lib/log4j-slf4j-impl-2.10.0.jar ./\n",
        "!mv /content/apache-hive-3.1.3-bin/lib/log4j-slf4j-impl-2.17.1.jar ./"
      ],
      "execution_count": 10,
      "outputs": []
    },
    {
      "cell_type": "code",
      "metadata": {
        "id": "VwLAYh7TY4ca",
        "colab": {
          "base_uri": "https://localhost:8080/"
        },
        "outputId": "063b5929-e2c7-4ea6-9e42-7305f4e7940f"
      },
      "source": [
        "# guava jar needs to above v 20\n",
        "# https://stackoverflow.com/questions/45247193/nosuchmethoderror-com-google-common-base-preconditions-checkargumentzljava-lan\n",
        "!ls $HIVE_HOME/lib/gu*"
      ],
      "execution_count": null,
      "outputs": [
        {
          "output_type": "stream",
          "name": "stdout",
          "text": [
            "/content/apache-hive-3.1.3-bin/lib/guava-19.0.jar\n"
          ]
        }
      ]
    },
    {
      "cell_type": "code",
      "metadata": {
        "id": "SHpmyrbkZFad",
        "colab": {
          "base_uri": "https://localhost:8080/"
        },
        "outputId": "fec66790-562a-4344-a027-6548074c9c0b"
      },
      "source": [
        "# the one available with Hadoop is better, v 27\n",
        "!ls $HADOOP_HOME/share/hadoop/hdfs/lib/gu*"
      ],
      "execution_count": 11,
      "outputs": [
        {
          "output_type": "stream",
          "name": "stdout",
          "text": [
            "/usr/local/hadoop-3.3.5//share/hadoop/hdfs/lib/guava-27.0-jre.jar\n"
          ]
        }
      ]
    },
    {
      "cell_type": "code",
      "metadata": {
        "id": "bJ3Ex1vyZeZG"
      },
      "source": [
        "# Remove the Hive Guava and replace with Hadoop Guava\n",
        "!mv $HIVE_HOME/lib/guava-19.0.jar ./\n",
        "\n",
        "!cp $HADOOP_HOME/share/hadoop/hdfs/lib/guava-27.0-jre.jar $HIVE_HOME/lib/"
      ],
      "execution_count": 12,
      "outputs": []
    },
    {
      "cell_type": "markdown",
      "metadata": {
        "id": "TdtNOXy8v4iD"
      },
      "source": [
        "##2.5 Initialize HIVE"
      ]
    },
    {
      "cell_type": "code",
      "metadata": {
        "colab": {
          "base_uri": "https://localhost:8080/"
        },
        "id": "9Tzw4XkApRg3",
        "outputId": "0624e9c5-1743-4aaf-d31c-db30d32af73f"
      },
      "source": [
        "#Type this command, dont copy-paste\n",
        "# Non printing characters inside the command will give totally illogical errors\n",
        "!schematool -initSchema -dbType derby"
      ],
      "execution_count": 13,
      "outputs": [
        {
          "output_type": "stream",
          "name": "stdout",
          "text": [
            "Metastore connection URL:\t jdbc:derby:;databaseName=metastore_db;create=true\n",
            "Metastore Connection Driver :\t org.apache.derby.jdbc.EmbeddedDriver\n",
            "Metastore connection User:\t APP\n",
            "Starting metastore schema initialization to 3.1.0\n",
            "Initialization script hive-schema-3.1.0.derby.sql\n",
            "\n",
            " \n",
            " \n",
            " \n",
            " \n",
            " \n",
            " \n",
            " \n",
            " \n",
            " \n",
            "\n",
            " \n",
            " \n",
            " \n",
            " \n",
            " \n",
            " \n",
            " \n",
            " \n",
            " \n",
            " \n",
            " \n",
            " \n",
            " \n",
            " \n",
            " \n",
            " \n",
            " \n",
            " \n",
            " \n",
            " \n",
            " \n",
            " \n",
            " \n",
            " \n",
            " \n",
            "\n",
            " \n",
            " \n",
            " \n",
            " \n",
            " \n",
            " \n",
            " \n",
            " \n",
            " \n",
            " \n",
            " \n",
            " \n",
            " \n",
            " \n",
            " \n",
            " \n",
            " \n",
            " \n",
            " \n",
            " \n",
            " \n",
            " \n",
            "\n",
            " \n",
            " \n",
            " \n",
            " \n",
            " \n",
            " \n",
            " \n",
            " \n",
            "\n",
            " \n",
            "\n",
            " \n",
            " \n",
            " \n",
            "\n",
            " \n",
            " \n",
            " \n",
            "\n",
            "\n",
            " \n",
            " \n",
            " \n",
            "\n",
            " \n",
            " \n",
            " \n",
            "\n",
            "\n",
            " \n",
            " \n",
            " \n",
            " \n",
            " \n",
            " \n",
            " \n",
            "\n",
            "\n",
            " \n",
            " \n",
            " \n",
            "\n",
            " \n",
            " \n",
            " \n",
            "\n",
            " \n",
            " \n",
            "\n",
            " \n",
            " \n",
            " \n",
            " \n",
            " \n",
            "\n",
            " \n",
            " \n",
            " \n",
            " \n",
            " \n",
            " \n",
            " \n",
            " \n",
            " \n",
            " \n",
            " \n",
            " \n",
            "\n",
            " \n",
            " \n",
            " \n",
            " \n",
            " \n",
            " \n",
            "\n",
            " \n",
            " \n",
            " \n",
            " \n",
            " \n",
            " \n",
            " \n",
            " \n",
            " \n",
            " \n",
            " \n",
            " \n",
            " \n",
            " \n",
            " \n",
            " \n",
            " \n",
            " \n",
            " \n",
            " \n",
            " \n",
            " \n",
            " \n",
            " \n",
            " \n",
            " \n",
            " \n",
            " \n",
            " \n",
            " \n",
            " \n",
            " \n",
            " \n",
            " \n",
            " \n",
            " \n",
            " \n",
            "\n",
            " \n",
            " \n",
            " \n",
            "\n",
            " \n",
            " \n",
            " \n",
            " \n",
            " \n",
            " \n",
            " \n",
            " \n",
            " \n",
            " \n",
            " \n",
            " \n",
            " \n",
            " \n",
            " \n",
            " \n",
            "\n",
            " \n",
            " \n",
            "\n",
            "\n",
            " \n",
            "\n",
            "\n",
            "\n",
            " \n",
            "\n",
            "\n",
            " \n",
            " \n",
            " \n",
            " \n",
            " \n",
            " \n",
            " \n",
            " \n",
            " \n",
            "\n",
            " \n",
            " \n",
            " \n",
            " \n",
            " \n",
            " \n",
            "\n",
            " \n",
            "\n",
            "\n",
            "Initialization script completed\n",
            "schemaTool completed\n"
          ]
        }
      ]
    },
    {
      "cell_type": "markdown",
      "metadata": {
        "id": "nALF720ewT_-"
      },
      "source": [
        "## 2.6 Test HIVE \n",
        "1. Create database\n",
        "2. Create table\n",
        "3. Insert data\n",
        "4. Retrieve data\n",
        "\n",
        "using command line options as [given here](https://cwiki.apache.org/confluence/display/hive/languagemanual+cli#)."
      ]
    },
    {
      "cell_type": "code",
      "metadata": {
        "colab": {
          "base_uri": "https://localhost:8080/"
        },
        "id": "hKBG__HrKt9N",
        "outputId": "b386744e-4f48-4101-8a81-eee55567689d"
      },
      "source": [
        "!hive -e \"create database if not exists praxisDB;\""
      ],
      "execution_count": 14,
      "outputs": [
        {
          "output_type": "stream",
          "name": "stdout",
          "text": [
            "Hive Session ID = eda45cd5-3186-46e0-b3e5-ac3e351c2e6c\n",
            "\n",
            "Logging initialized using configuration in jar:file:/content/apache-hive-3.1.3-bin/lib/hive-common-3.1.3.jar!/hive-log4j2.properties Async: true\n",
            "Hive Session ID = cdde9c2a-6608-44b2-8bd7-89902d433abe\n",
            "OK\n",
            "Time taken: 1.347 seconds\n"
          ]
        }
      ]
    },
    {
      "cell_type": "code",
      "metadata": {
        "colab": {
          "base_uri": "https://localhost:8080/"
        },
        "id": "thoqjjcHZoLU",
        "outputId": "313bedff-492b-483f-879a-b5f8283816f9"
      },
      "source": [
        "!hive -e \"show databases\""
      ],
      "execution_count": null,
      "outputs": [
        {
          "output_type": "stream",
          "name": "stdout",
          "text": [
            "Hive Session ID = bf703046-34dd-49dc-a4c7-51223495f503\n",
            "\n",
            "Logging initialized using configuration in jar:file:/content/apache-hive-3.1.3-bin/lib/hive-common-3.1.3.jar!/hive-log4j2.properties Async: true\n",
            "Hive Session ID = 4dbd6625-a315-4b09-a482-5e3fe1032b01\n",
            "OK\n",
            "default\n",
            "praxisdb\n",
            "Time taken: 2.721 seconds, Fetched: 2 row(s)\n"
          ]
        }
      ]
    },
    {
      "cell_type": "code",
      "metadata": {
        "colab": {
          "base_uri": "https://localhost:8080/"
        },
        "id": "duhKRlsnax6U",
        "outputId": "bfbde750-cdea-4327-aea3-c54370257be2"
      },
      "source": [
        "!hive -database praxisdb -e \"create table if not exists emp (name string, age int)\""
      ],
      "execution_count": null,
      "outputs": [
        {
          "output_type": "stream",
          "name": "stdout",
          "text": [
            "Hive Session ID = 5874cf8e-aeaf-4612-9382-4780ac76d2cc\n",
            "\n",
            "Logging initialized using configuration in jar:file:/content/apache-hive-3.1.3-bin/lib/hive-common-3.1.3.jar!/hive-log4j2.properties Async: true\n",
            "Hive Session ID = 44654d03-e6d9-49c5-8bbe-b566bef4dc62\n",
            "OK\n",
            "Time taken: 1.362 seconds\n",
            "OK\n",
            "Time taken: 0.954 seconds\n"
          ]
        }
      ]
    },
    {
      "cell_type": "code",
      "metadata": {
        "colab": {
          "base_uri": "https://localhost:8080/"
        },
        "id": "YlXhPGIBbd7v",
        "outputId": "e5c5d8e5-628c-4007-dcf6-111ceb1c779b"
      },
      "source": [
        "!hive -database praxisdb -e \"show tables\""
      ],
      "execution_count": null,
      "outputs": [
        {
          "output_type": "stream",
          "name": "stdout",
          "text": [
            "Hive Session ID = e7b7f810-010e-407d-98f3-acb04778a629\n",
            "\n",
            "Logging initialized using configuration in jar:file:/content/apache-hive-3.1.3-bin/lib/hive-common-3.1.3.jar!/hive-log4j2.properties Async: true\n",
            "Hive Session ID = cd9836be-6c7e-48bb-a598-6217d3cca883\n",
            "OK\n",
            "Time taken: 1.414 seconds\n",
            "OK\n",
            "emp\n",
            "Time taken: 0.362 seconds, Fetched: 1 row(s)\n"
          ]
        }
      ]
    },
    {
      "cell_type": "code",
      "metadata": {
        "colab": {
          "base_uri": "https://localhost:8080/"
        },
        "id": "VBbc2fzSb4Po",
        "outputId": "cc073e77-2e30-447c-ee4f-b60249688087"
      },
      "source": [
        "!hive -database praxisdb -e \"insert into emp values ('naren', 70)\""
      ],
      "execution_count": null,
      "outputs": [
        {
          "output_type": "stream",
          "name": "stdout",
          "text": [
            "Hive Session ID = 22932464-24fc-4f23-8e00-bff687f8bc7e\n",
            "\n",
            "Logging initialized using configuration in jar:file:/content/apache-hive-3.1.3-bin/lib/hive-common-3.1.3.jar!/hive-log4j2.properties Async: true\n",
            "Hive Session ID = 2eca6c3a-63df-4e87-8be5-a80ba576f566\n",
            "OK\n",
            "Time taken: 1.259 seconds\n",
            "Query ID = root_20230501071118_225aaaac-49a5-4d54-a5d9-97dba3ba7d2c\n",
            "Total jobs = 3\n",
            "Launching Job 1 out of 3\n",
            "Number of reduce tasks determined at compile time: 1\n",
            "In order to change the average load for a reducer (in bytes):\n",
            "  set hive.exec.reducers.bytes.per.reducer=<number>\n",
            "In order to limit the maximum number of reducers:\n",
            "  set hive.exec.reducers.max=<number>\n",
            "In order to set a constant number of reducers:\n",
            "  set mapreduce.job.reduces=<number>\n",
            "Job running in-process (local Hadoop)\n",
            "2023-05-01 07:11:25,430 Stage-1 map = 100%,  reduce = 0%\n",
            "Ended Job = job_local90500994_0001\n",
            "Stage-4 is selected by condition resolver.\n",
            "Stage-3 is filtered out by condition resolver.\n",
            "Stage-5 is filtered out by condition resolver.\n",
            "Moving data to directory file:/user/hive/warehouse/praxisdb.db/emp/.hive-staging_hive_2023-05-01_07-11-18_604_4169937773008107532-1/-ext-10000\n",
            "Loading data to table praxisdb.emp\n",
            "MapReduce Jobs Launched: \n",
            "Stage-Stage-1:  HDFS Read: 0 HDFS Write: 0 SUCCESS\n",
            "Total MapReduce CPU Time Spent: 0 msec\n",
            "OK\n",
            "Time taken: 8.039 seconds\n"
          ]
        }
      ]
    },
    {
      "cell_type": "code",
      "metadata": {
        "colab": {
          "base_uri": "https://localhost:8080/"
        },
        "id": "q1KvSvdgx7Hc",
        "outputId": "6547c146-e6f8-4df1-f6f8-8370ae995b8a"
      },
      "source": [
        "!hive -database praxisdb -e \"insert into emp values ('aditya', 49)\""
      ],
      "execution_count": null,
      "outputs": [
        {
          "output_type": "stream",
          "name": "stdout",
          "text": [
            "Hive Session ID = 098ff99a-dd2a-4b52-85b5-43c9172037d4\n",
            "\n",
            "Logging initialized using configuration in jar:file:/content/apache-hive-3.1.3-bin/lib/hive-common-3.1.3.jar!/hive-log4j2.properties Async: true\n",
            "Hive Session ID = 4081ee04-500c-4054-98db-1561c8943329\n",
            "OK\n",
            "Time taken: 2.35 seconds\n",
            "Query ID = root_20230501071148_f69a8f5b-c661-4797-ae4e-05e5afb9f097\n",
            "Total jobs = 3\n",
            "Launching Job 1 out of 3\n",
            "Number of reduce tasks determined at compile time: 1\n",
            "In order to change the average load for a reducer (in bytes):\n",
            "  set hive.exec.reducers.bytes.per.reducer=<number>\n",
            "In order to limit the maximum number of reducers:\n",
            "  set hive.exec.reducers.max=<number>\n",
            "In order to set a constant number of reducers:\n",
            "  set mapreduce.job.reduces=<number>\n",
            "Job running in-process (local Hadoop)\n",
            "2023-05-01 07:11:54,623 Stage-1 map = 100%,  reduce = 100%\n",
            "Ended Job = job_local1373658441_0001\n",
            "Stage-4 is selected by condition resolver.\n",
            "Stage-3 is filtered out by condition resolver.\n",
            "Stage-5 is filtered out by condition resolver.\n",
            "Moving data to directory file:/user/hive/warehouse/praxisdb.db/emp/.hive-staging_hive_2023-05-01_07-11-48_738_3179129714884317827-1/-ext-10000\n",
            "Loading data to table praxisdb.emp\n",
            "MapReduce Jobs Launched: \n",
            "Stage-Stage-1:  HDFS Read: 0 HDFS Write: 0 SUCCESS\n",
            "Total MapReduce CPU Time Spent: 0 msec\n",
            "OK\n",
            "Time taken: 6.881 seconds\n"
          ]
        }
      ]
    },
    {
      "cell_type": "code",
      "metadata": {
        "colab": {
          "base_uri": "https://localhost:8080/"
        },
        "id": "DFxnPRbQclhP",
        "outputId": "5a448594-39a6-48c4-9f22-4f2cc55a9843"
      },
      "source": [
        "!hive -database praxisdb -e \"select * from emp\""
      ],
      "execution_count": null,
      "outputs": [
        {
          "output_type": "stream",
          "name": "stdout",
          "text": [
            "Hive Session ID = 04974e93-63fa-4011-864e-2b934ebe3f15\n",
            "\n",
            "Logging initialized using configuration in jar:file:/content/apache-hive-3.1.3-bin/lib/hive-common-3.1.3.jar!/hive-log4j2.properties Async: true\n",
            "Hive Session ID = e00d744b-e1c4-43e8-9430-441d8e5aacf6\n",
            "OK\n",
            "Time taken: 1.974 seconds\n",
            "OK\n",
            "naren\t70\n",
            "aditya\t49\n",
            "Time taken: 2.416 seconds, Fetched: 2 row(s)\n"
          ]
        }
      ]
    },
    {
      "cell_type": "code",
      "metadata": {
        "colab": {
          "base_uri": "https://localhost:8080/"
        },
        "id": "4Rwm36kUya6A",
        "outputId": "80c0bb20-2a0a-4aa4-c662-7d9a00a87c69"
      },
      "source": [
        "# Silent Mode\n",
        "!hive -S -database praxisdb -e \"select * from emp where name = 'aditya'\""
      ],
      "execution_count": null,
      "outputs": [
        {
          "output_type": "stream",
          "name": "stdout",
          "text": [
            "Hive Session ID = 30b12b5c-661a-47cf-9f2b-8025b6bd5cb6\n",
            "Hive Session ID = b88fddc6-f515-474a-a3a0-a6d02331dcdc\n",
            "aditya\t49\n"
          ]
        }
      ]
    },
    {
      "cell_type": "markdown",
      "metadata": {
        "id": "xvIfuSAbkHJ9"
      },
      "source": [
        "## 2.7 Bulk Data Load from CSV file"
      ]
    },
    {
      "cell_type": "code",
      "metadata": {
        "colab": {
          "base_uri": "https://localhost:8080/"
        },
        "id": "fSFFf3lwkMS0",
        "outputId": "5147e6c4-b32b-47d3-f02a-20e90320423c"
      },
      "source": [
        "#drop table\n",
        "!hive -S -database praxisDB -e 'DROP table if exists eCommerce'\n",
        "#create table\n",
        "# Invoice Date is being treated as a STRING because input data is not correctly formatted\n",
        "!hive -S -database praxisDB -e \" \\\n",
        "CREATE TABLE eCommerce ( \\\n",
        "InvoiceNo varchar(10), \\\n",
        "StockCode varchar(10), \\\n",
        "Description varchar(50), \\\n",
        "Quantity int, \\\n",
        "InvoiceDate string, \\\n",
        "UnitPrice decimal(6,2), \\\n",
        "CustomerID varchar(10), \\\n",
        "Country varchar(15) \\\n",
        ") row format delimited fields terminated by ','; \\\n",
        "\""
      ],
      "execution_count": 15,
      "outputs": [
        {
          "output_type": "stream",
          "name": "stdout",
          "text": [
            "Hive Session ID = fa4266a7-5a54-44f3-b8aa-606475998848\n",
            "Hive Session ID = 7679fd87-9ec0-4de8-a3d0-53fcbe39a3cf\n",
            "Hive Session ID = bfa2000d-7f8b-40b3-84bc-6246bc69e3fe\n",
            "Hive Session ID = 2a423289-69f8-4e03-ad66-eb6a8968e653\n"
          ]
        }
      ]
    },
    {
      "cell_type": "code",
      "metadata": {
        "colab": {
          "base_uri": "https://localhost:8080/"
        },
        "id": "4110Vjf-ktx6",
        "outputId": "e31925da-ec53-46d0-a4c3-38fc05543f4d"
      },
      "source": [
        "!hive -S -database praxisdb -e \"describe eCommerce\""
      ],
      "execution_count": null,
      "outputs": [
        {
          "output_type": "stream",
          "name": "stdout",
          "text": [
            "Hive Session ID = dcf29f40-0f81-4f50-9218-147432133515\n",
            "Hive Session ID = e4154167-d5d1-4687-b17f-f5c4e180c725\n",
            "invoiceno           \tvarchar(10)         \t                    \n",
            "stockcode           \tvarchar(10)         \t                    \n",
            "description         \tvarchar(50)         \t                    \n",
            "quantity            \tint                 \t                    \n",
            "invoicedate         \tstring              \t                    \n",
            "unitprice           \tdecimal(6,2)        \t                    \n",
            "customerid          \tvarchar(10)         \t                    \n",
            "country             \tvarchar(15)         \t                    \n"
          ]
        }
      ]
    },
    {
      "cell_type": "markdown",
      "metadata": {
        "id": "YfyabRo5pm7h"
      },
      "source": [
        "This data may not be clean and may have commas embedded in the CSV file. To see how clearn this look at this notebook : [Spark SQLContext HiveContext](https://github.com/prithwis/KKolab/blob/main/KK_C1_SparkSQL_SQLContext_HiveContext.ipynb) "
      ]
    },
    {
      "cell_type": "code",
      "metadata": {
        "colab": {
          "base_uri": "https://localhost:8080/"
        },
        "id": "MqHKwLOIk67g",
        "outputId": "dda5524a-7523-4a73-ecc6-def371904ff7"
      },
      "source": [
        "#Data as CSV file\n",
        "!gdown https://drive.google.com/uc?id=1JJH24ZZaiJrEKValD--UtyFcWl7UanwV  # 2% data ~ 10K rows\n",
        "!gdown https://drive.google.com/uc?id=1g7mJ0v4fkERW0HWc1eq-SHs_jvQ0N2Oe  # 100% data ~ 500K rows"
      ],
      "execution_count": 16,
      "outputs": [
        {
          "output_type": "stream",
          "name": "stdout",
          "text": [
            "Downloading...\n",
            "From: https://drive.google.com/uc?id=1JJH24ZZaiJrEKValD--UtyFcWl7UanwV\n",
            "To: /content/eCommerce_02PC_2021.csv\n",
            "100% 917k/917k [00:00<00:00, 136MB/s]\n",
            "Downloading...\n",
            "From: https://drive.google.com/uc?id=1g7mJ0v4fkERW0HWc1eq-SHs_jvQ0N2Oe\n",
            "To: /content/eCommerce_Full_2021.csv\n",
            "100% 45.6M/45.6M [00:00<00:00, 62.1MB/s]\n"
          ]
        }
      ]
    },
    {
      "cell_type": "code",
      "metadata": {
        "colab": {
          "base_uri": "https://localhost:8080/"
        },
        "id": "Z3M5Vl0NlNnQ",
        "outputId": "b0dff770-78cf-4579-aec2-6105c6327a4d"
      },
      "source": [
        "#remove the CRLF character from the end of the row if it exists\n",
        "!sed 's/\\r//' /content/eCommerce_Full_2021.csv > datafile.csv\n",
        "#!sed 's/\\r//' /content/eCommerce_02PC_2021.csv > datafile.csv\n",
        "# remove the first line containing headers from the file\n",
        "!sed -i -e \"1d\" datafile.csv    \n",
        "!head datafile.csv           "
      ],
      "execution_count": 17,
      "outputs": [
        {
          "output_type": "stream",
          "name": "stdout",
          "text": [
            "536365,85123A,WHITE HANGING HEART T-LIGHT HOLDER,6,12/1/2010 8:26,2.55,17850,United Kingdom\n",
            "536365,71053,WHITE METAL LANTERN,6,12/1/2010 8:26,3.39,17850,United Kingdom\n",
            "536365,84406B,CREAM CUPID HEARTS COAT HANGER,8,12/1/2010 8:26,2.75,17850,United Kingdom\n",
            "536365,84029G,KNITTED UNION FLAG HOT WATER BOTTLE,6,12/1/2010 8:26,3.39,17850,United Kingdom\n",
            "536365,84029E,RED WOOLLY HOTTIE WHITE HEART.,6,12/1/2010 8:26,3.39,17850,United Kingdom\n",
            "536365,22752,SET 7 BABUSHKA NESTING BOXES,2,12/1/2010 8:26,7.65,17850,United Kingdom\n",
            "536365,21730,GLASS STAR FROSTED T-LIGHT HOLDER,6,12/1/2010 8:26,4.25,17850,United Kingdom\n",
            "536366,22633,HAND WARMER UNION JACK,6,12/1/2010 8:28,1.85,17850,United Kingdom\n",
            "536366,22632,HAND WARMER RED POLKA DOT,6,12/1/2010 8:28,1.85,17850,United Kingdom\n",
            "536367,84879,ASSORTED COLOUR BIRD ORNAMENT,32,12/1/2010 8:34,1.69,13047,United Kingdom\n"
          ]
        }
      ]
    },
    {
      "cell_type": "code",
      "metadata": {
        "colab": {
          "base_uri": "https://localhost:8080/"
        },
        "id": "XljU-WuElcUB",
        "outputId": "61d8b050-edbd-4b45-9af8-e4d76c52fdde"
      },
      "source": [
        "# delete all rows from table\n",
        "!hive -S -database praxisdb -e 'TRUNCATE TABLE eCommerce'\n",
        "# LOAD\n",
        "!hive -S -database praxisdb -e \"LOAD DATA LOCAL INPATH 'datafile.csv' INTO TABLE eCommerce\""
      ],
      "execution_count": 18,
      "outputs": [
        {
          "output_type": "stream",
          "name": "stdout",
          "text": [
            "Hive Session ID = 0ed997a2-075f-402e-b688-b42e1ee28195\n",
            "Hive Session ID = d6ec2b7e-14d6-41be-b796-8f0e3ef410c4\n",
            "Hive Session ID = c7876cb4-d422-47ab-9ce1-1e44ceda2c02\n",
            "Hive Session ID = fca39904-ec76-43ab-bc21-a785db9c3833\n"
          ]
        }
      ]
    },
    {
      "cell_type": "code",
      "metadata": {
        "colab": {
          "base_uri": "https://localhost:8080/"
        },
        "id": "vRceNDPylu2U",
        "outputId": "3b24ac06-22e3-474f-b376-75fd507e6a40"
      },
      "source": [
        "!hive -S -database praxisdb -e \"select count(*) from eCommerce\""
      ],
      "execution_count": 19,
      "outputs": [
        {
          "output_type": "stream",
          "name": "stdout",
          "text": [
            "Hive Session ID = e03db77d-3ec5-4219-b549-344c2475fd9f\n",
            "Hive Session ID = 146192db-59f2-4ad1-b2bd-615c25ed7b10\n",
            "541909\n"
          ]
        }
      ]
    },
    {
      "cell_type": "code",
      "source": [
        "!hive -S -database praxisdb -e \"select  distinct(country) from eCommerce\""
      ],
      "metadata": {
        "id": "E8D5A-eeRXxE",
        "outputId": "93a7e7a3-186a-4bfa-b4db-1ac9f4f1a8ea",
        "colab": {
          "base_uri": "https://localhost:8080/"
        }
      },
      "execution_count": 21,
      "outputs": [
        {
          "output_type": "stream",
          "name": "stdout",
          "text": [
            "Hive Session ID = a00a63fe-a473-420b-839e-21d5d5d65bd5\n",
            "Hive Session ID = 51534475-a862-4483-982a-8ac56175ffbe\n",
            "\n",
            "0.36\n",
            "0.42\n",
            "0.72\n",
            "0.83\n",
            "0.85\n",
            "1\n",
            "1.25\n",
            "1.63\n",
            "1.65\n",
            "1.66\n",
            "1.95\n",
            "10.79\n",
            "11.02\n",
            "12347\n",
            "12357\n",
            "12359\n",
            "12360\n",
            "12364\n",
            "12370\n",
            "12377\n",
            "12378\n",
            "12383\n",
            "12391\n",
            "12412\n",
            "12415\n",
            "12428\n",
            "12433\n",
            "12451\n",
            "12457\n",
            "12465\n",
            "12473\n",
            "12474\n",
            "12484\n",
            "12494\n",
            "12501\n",
            "12502\n",
            "12518\n",
            "12520\n",
            "12540\n",
            "12553\n",
            "12556\n",
            "12567\n",
            "12577\n",
            "12589\n",
            "12613\n",
            "12619\n",
            "12630\n",
            "12633\n",
            "12638\n",
            "12652\n",
            "12668\n",
            "12673\n",
            "12681\n",
            "12688\n",
            "12710\n",
            "12713\n",
            "12714\n",
            "12718\n",
            "12720\n",
            "12727\n",
            "12734\n",
            "12743\n",
            "12744\n",
            "12748\n",
            "12749\n",
            "12758\n",
            "12762\n",
            "12763\n",
            "12824\n",
            "12828\n",
            "12838\n",
            "12839\n",
            "12842\n",
            "12843\n",
            "12847\n",
            "12854\n",
            "12856\n",
            "12867\n",
            "12868\n",
            "12877\n",
            "12909\n",
            "12947\n",
            "12949\n",
            "12957\n",
            "12970\n",
            "12977\n",
            "12982\n",
            "12985\n",
            "13.29\n",
            "13001\n",
            "13004\n",
            "13012\n",
            "13018\n",
            "13021\n",
            "13026\n",
            "13037\n",
            "13044\n",
            "13046\n",
            "13047\n",
            "13064\n",
            "13069\n",
            "13077\n",
            "13078\n",
            "13080\n",
            "13081\n",
            "13089\n",
            "13091\n",
            "13093\n",
            "13097\n",
            "13098\n",
            "13109\n",
            "13116\n",
            "13124\n",
            "13126\n",
            "13137\n",
            "13146\n",
            "13148\n",
            "13155\n",
            "13158\n",
            "13162\n",
            "13167\n",
            "13168\n",
            "13170\n",
            "13174\n",
            "13183\n",
            "13184\n",
            "13186\n",
            "13189\n",
            "13192\n",
            "13196\n",
            "13203\n",
            "13208\n",
            "13209\n",
            "13212\n",
            "13213\n",
            "13225\n",
            "13230\n",
            "13233\n",
            "13263\n",
            "13265\n",
            "13267\n",
            "13268\n",
            "13269\n",
            "13314\n",
            "13316\n",
            "13319\n",
            "13334\n",
            "13357\n",
            "13379\n",
            "13381\n",
            "13396\n",
            "13402\n",
            "13408\n",
            "13411\n",
            "13419\n",
            "13426\n",
            "13428\n",
            "13430\n",
            "13437\n",
            "13447\n",
            "13448\n",
            "13451\n",
            "13458\n",
            "13468\n",
            "13471\n",
            "13474\n",
            "13488\n",
            "13491\n",
            "13496\n",
            "13510\n",
            "13515\n",
            "13521\n",
            "13523\n",
            "13532\n",
            "13533\n",
            "13563\n",
            "13564\n",
            "13565\n",
            "13568\n",
            "13569\n",
            "13588\n",
            "13599\n",
            "13601\n",
            "13607\n",
            "13610\n",
            "13611\n",
            "13618\n",
            "13637\n",
            "13642\n",
            "13644\n",
            "13652\n",
            "13654\n",
            "13659\n",
            "13668\n",
            "13694\n",
            "13700\n",
            "13709\n",
            "13715\n",
            "13735\n",
            "13736\n",
            "13742\n",
            "13755\n",
            "13756\n",
            "13760\n",
            "13764\n",
            "13798\n",
            "13810\n",
            "13815\n",
            "13823\n",
            "13835\n",
            "13838\n",
            "13842\n",
            "13869\n",
            "13875\n",
            "13876\n",
            "13897\n",
            "13941\n",
            "13959\n",
            "13963\n",
            "13969\n",
            "13975\n",
            "13994\n",
            "13995\n",
            "14.95\n",
            "14005\n",
            "14016\n",
            "14030\n",
            "14048\n",
            "14049\n",
            "14056\n",
            "14060\n",
            "14071\n",
            "14081\n",
            "14083\n",
            "14085\n",
            "14088\n",
            "14096\n",
            "14099\n",
            "14105\n",
            "14107\n",
            "14125\n",
            "14128\n",
            "14135\n",
            "14156\n",
            "14157\n",
            "14159\n",
            "14165\n",
            "14171\n",
            "14176\n",
            "14178\n",
            "14179\n",
            "14180\n",
            "14189\n",
            "14191\n",
            "14194\n",
            "14210\n",
            "14215\n",
            "14221\n",
            "14232\n",
            "14234\n",
            "14235\n",
            "14243\n",
            "14245\n",
            "14257\n",
            "14271\n",
            "14272\n",
            "14286\n",
            "14298\n",
            "14305\n",
            "14312\n",
            "14321\n",
            "14334\n",
            "14341\n",
            "14382\n",
            "14390\n",
            "14395\n",
            "14396\n",
            "14400\n",
            "14401\n",
            "14404\n",
            "14408\n",
            "14410\n",
            "14414\n",
            "14418\n",
            "14422\n",
            "14426\n",
            "14431\n",
            "14432\n",
            "14439\n",
            "14449\n",
            "14450\n",
            "14451\n",
            "14456\n",
            "14460\n",
            "14461\n",
            "14462\n",
            "14472\n",
            "14499\n",
            "14502\n",
            "14504\n",
            "14505\n",
            "14507\n",
            "14524\n",
            "14527\n",
            "14534\n",
            "14535\n",
            "14546\n",
            "14547\n",
            "14552\n",
            "14553\n",
            "14561\n",
            "14565\n",
            "14572\n",
            "14573\n",
            "14576\n",
            "14577\n",
            "14583\n",
            "14587\n",
            "14592\n",
            "14606\n",
            "14620\n",
            "14626\n",
            "14629\n",
            "14631\n",
            "14638\n",
            "14640\n",
            "14643\n",
            "14646\n",
            "14649\n",
            "14659\n",
            "14662\n",
            "14676\n",
            "14684\n",
            "14688\n",
            "14696\n",
            "14698\n",
            "14704\n",
            "14711\n",
            "14715\n",
            "14719\n",
            "14729\n",
            "14730\n",
            "14755\n",
            "14758\n",
            "14759\n",
            "14766\n",
            "14769\n",
            "14784\n",
            "14790\n",
            "14794\n",
            "14796\n",
            "14800\n",
            "14801\n",
            "14810\n",
            "14815\n",
            "14824\n",
            "14852\n",
            "14854\n",
            "14861\n",
            "14880\n",
            "14893\n",
            "14895\n",
            "14896\n",
            "14901\n",
            "14903\n",
            "14911\n",
            "14912\n",
            "14913\n",
            "14916\n",
            "14921\n",
            "14930\n",
            "14936\n",
            "14944\n",
            "14948\n",
            "14960\n",
            "14963\n",
            "14965\n",
            "14966\n",
            "14972\n",
            "14978\n",
            "14984\n",
            "14988\n",
            "14998\n",
            "15000\n",
            "15002\n",
            "15004\n",
            "15005\n",
            "15006\n",
            "15009\n",
            "15012\n",
            "15021\n",
            "15023\n",
            "15024\n",
            "15033\n",
            "15036\n",
            "15038\n",
            "15039\n",
            "15054\n",
            "15059\n",
            "15061\n",
            "15065\n",
            "15066\n",
            "15088\n",
            "15089\n",
            "15093\n",
            "15099\n",
            "15104\n",
            "15114\n",
            "15122\n",
            "15150\n",
            "15154\n",
            "15156\n",
            "15157\n",
            "15159\n",
            "15194\n",
            "15203\n",
            "15214\n",
            "15220\n",
            "15225\n",
            "15230\n",
            "15235\n",
            "15237\n",
            "15252\n",
            "15271\n",
            "15275\n",
            "15276\n",
            "15277\n",
            "15290\n",
            "15298\n",
            "15301\n",
            "15306\n",
            "15311\n",
            "15330\n",
            "15334\n",
            "15351\n",
            "15356\n",
            "15358\n",
            "15365\n",
            "15376\n",
            "15379\n",
            "15388\n",
            "15407\n",
            "15415\n",
            "15427\n",
            "15429\n",
            "15436\n",
            "15437\n",
            "15443\n",
            "15452\n",
            "15453\n",
            "15456\n",
            "15457\n",
            "15480\n",
            "15483\n",
            "15484\n",
            "15485\n",
            "15489\n",
            "15493\n",
            "15498\n",
            "15502\n",
            "15506\n",
            "15508\n",
            "15512\n",
            "15513\n",
            "15529\n",
            "15531\n",
            "15532\n",
            "15533\n",
            "15535\n",
            "15541\n",
            "15547\n",
            "15555\n",
            "15570\n",
            "15582\n",
            "15601\n",
            "15607\n",
            "15608\n",
            "15630\n",
            "15632\n",
            "15639\n",
            "15640\n",
            "15641\n",
            "15644\n",
            "15646\n",
            "15660\n",
            "15665\n",
            "15707\n",
            "15719\n",
            "15721\n",
            "15722\n",
            "15737\n",
            "15750\n",
            "15756\n",
            "15757\n",
            "15759\n",
            "15764\n",
            "15795\n",
            "15796\n",
            "15799\n",
            "15800\n",
            "15805\n",
            "15825\n",
            "15826\n",
            "15834\n",
            "15854\n",
            "15856\n",
            "15858\n",
            "15861\n",
            "15865\n",
            "15867\n",
            "15870\n",
            "15880\n",
            "15881\n",
            "15883\n",
            "15891\n",
            "15899\n",
            "15903\n",
            "15906\n",
            "15907\n",
            "15910\n",
            "15912\n",
            "15916\n",
            "15919\n",
            "15951\n",
            "15967\n",
            "15974\n",
            "15976\n",
            "15984\n",
            "15985\n",
            "15987\n",
            "15993\n",
            "15998\n",
            "16005\n",
            "16007\n",
            "16011\n",
            "16014\n",
            "16015\n",
            "16031\n",
            "16033\n",
            "16036\n",
            "16049\n",
            "16062\n",
            "16081\n",
            "16083\n",
            "16102\n",
            "16121\n",
            "16147\n",
            "16179\n",
            "16186\n",
            "16222\n",
            "16224\n",
            "16244\n",
            "16255\n",
            "16261\n",
            "16265\n",
            "16268\n",
            "16270\n",
            "16274\n",
            "16297\n",
            "16324\n",
            "16332\n",
            "16340\n",
            "16345\n",
            "16347\n",
            "16348\n",
            "16350\n",
            "16356\n",
            "16360\n",
            "16365\n",
            "16367\n",
            "16374\n",
            "16383\n",
            "16393\n",
            "16395\n",
            "16402\n",
            "16409\n",
            "16423\n",
            "16426\n",
            "16433\n",
            "16442\n",
            "16444\n",
            "16446\n",
            "16447\n",
            "16448\n",
            "16449\n",
            "16456\n",
            "16460\n",
            "16464\n",
            "16466\n",
            "16469\n",
            "16495\n",
            "16497\n",
            "16504\n",
            "16511\n",
            "16518\n",
            "16523\n",
            "16526\n",
            "16533\n",
            "16535\n",
            "16549\n",
            "16570\n",
            "16592\n",
            "16593\n",
            "16600\n",
            "16614\n",
            "16638\n",
            "16648\n",
            "16655\n",
            "16666\n",
            "16667\n",
            "16670\n",
            "16674\n",
            "16676\n",
            "16678\n",
            "16684\n",
            "16686\n",
            "16700\n",
            "16710\n",
            "16713\n",
            "16725\n",
            "16728\n",
            "16729\n",
            "16730\n",
            "16744\n",
            "16753\n",
            "16764\n",
            "16771\n",
            "16773\n",
            "16775\n",
            "16776\n",
            "16777\n",
            "16779\n",
            "16794\n",
            "16801\n",
            "16805\n",
            "16813\n",
            "16814\n",
            "16818\n",
            "16869\n",
            "16880\n",
            "16887\n",
            "16895\n",
            "16898\n",
            "16900\n",
            "16904\n",
            "16906\n",
            "16907\n",
            "16910\n",
            "16916\n",
            "16918\n",
            "16919\n",
            "16921\n",
            "16923\n",
            "16924\n",
            "16930\n",
            "16931\n",
            "16938\n",
            "16947\n",
            "16952\n",
            "16984\n",
            "17007\n",
            "17015\n",
            "17019\n",
            "17042\n",
            "17043\n",
            "17050\n",
            "17054\n",
            "17059\n",
            "17071\n",
            "17073\n",
            "17078\n",
            "17085\n",
            "17092\n",
            "17101\n",
            "17107\n",
            "17109\n",
            "17124\n",
            "17128\n",
            "17159\n",
            "17162\n",
            "17180\n",
            "17189\n",
            "17191\n",
            "17198\n",
            "17201\n",
            "17221\n",
            "17223\n",
            "17228\n",
            "17231\n",
            "17243\n",
            "17252\n",
            "17255\n",
            "17265\n",
            "17272\n",
            "17282\n",
            "17288\n",
            "17289\n",
            "17290\n",
            "17293\n",
            "17297\n",
            "17298\n",
            "17303\n",
            "17314\n",
            "17337\n",
            "17338\n",
            "17340\n",
            "17341\n",
            "17348\n",
            "17358\n",
            "17364\n",
            "17368\n",
            "17372\n",
            "17375\n",
            "17377\n",
            "17385\n",
            "17389\n",
            "17400\n",
            "17404\n",
            "17405\n",
            "17416\n",
            "17428\n",
            "17429\n",
            "17433\n",
            "17434\n",
            "17442\n",
            "17444\n",
            "17449\n",
            "17451\n",
            "17486\n",
            "17491\n",
            "17499\n",
            "17503\n",
            "17504\n",
            "17507\n",
            "17511\n",
            "17515\n",
            "17516\n",
            "17522\n",
            "17528\n",
            "17545\n",
            "17551\n",
            "17555\n",
            "17557\n",
            "17561\n",
            "17566\n",
            "17572\n",
            "17576\n",
            "17589\n",
            "17590\n",
            "17593\n",
            "17596\n",
            "17602\n",
            "17611\n",
            "17613\n",
            "17618\n",
            "17631\n",
            "17634\n",
            "17658\n",
            "17667\n",
            "17677\n",
            "17678\n",
            "17686\n",
            "17690\n",
            "17692\n",
            "17700\n",
            "17706\n",
            "17716\n",
            "17725\n",
            "17730\n",
            "17744\n",
            "17750\n",
            "17757\n",
            "17758\n",
            "17783\n",
            "17797\n",
            "17799\n",
            "17802\n",
            "17806\n",
            "17809\n",
            "17811\n",
            "17813\n",
            "17827\n",
            "17829\n",
            "17832\n",
            "17835\n",
            "17838\n",
            "17841\n",
            "17858\n",
            "17865\n",
            "17870\n",
            "17873\n",
            "17886\n",
            "17888\n",
            "17891\n",
            "17897\n",
            "17920\n",
            "17947\n",
            "17954\n",
            "17965\n",
            "17974\n",
            "17975\n",
            "17997\n",
            "17999\n",
            "18005\n",
            "18022\n",
            "18034\n",
            "18035\n",
            "18041\n",
            "18044\n",
            "18055\n",
            "18059\n",
            "18061\n",
            "18069\n",
            "18079\n",
            "18095\n",
            "18096\n",
            "18109\n",
            "18114\n",
            "18116\n",
            "18117\n",
            "18118\n",
            "18122\n",
            "18123\n",
            "18125\n",
            "18126\n",
            "18127\n",
            "18130\n",
            "18139\n",
            "18180\n",
            "18183\n",
            "18204\n",
            "18221\n",
            "18225\n",
            "18226\n",
            "18245\n",
            "18273\n",
            "3.29\n",
            "3.36\n",
            "4.25\n",
            "4.4\n",
            "4.95\n",
            "5.72\n",
            "6.35\n",
            "6.75\n",
            "9.95\n",
            "Australia\n",
            "Austria\n",
            "Bahrain\n",
            "Belgium\n",
            "Brazil\n",
            "Canada\n",
            "Channel Islands\n",
            "Cyprus\n",
            "Czech Republic\n",
            "Denmark\n",
            "EIRE\n",
            "European Commun\n",
            "Finland\n",
            "France\n",
            "Germany\n",
            "Greece\n",
            "Hong Kong\n",
            "Iceland\n",
            "Israel\n",
            "Italy\n",
            "Japan\n",
            "Lebanon\n",
            "Lithuania\n",
            "Malta\n",
            "Netherlands\n",
            "Norway\n",
            "Poland\n",
            "Portugal\n",
            "RSA\n",
            "Saudi Arabia\n",
            "Singapore\n",
            "Spain\n",
            "Sweden\n",
            "Switzerland\n",
            "USA\n",
            "United Arab Emi\n",
            "United Kingdom\n",
            "Unspecified\n"
          ]
        }
      ]
    },
    {
      "cell_type": "code",
      "metadata": {
        "id": "m977A2Jnl5mZ"
      },
      "source": [
        "#!hive -S -database praxisdb -e \"select invoiceno, customerid, country from eCommerce limit 30\""
      ],
      "execution_count": 20,
      "outputs": []
    },
    {
      "cell_type": "code",
      "source": [
        "!grep 'TROPICAL BEACH' datafile.csv\n",
        "#!grep 'COFFEE,' datafile.csv"
      ],
      "metadata": {
        "id": "trTKng-3PJni",
        "outputId": "0ec0e33c-116e-463d-9113-e8a6fb276d63",
        "colab": {
          "base_uri": "https://localhost:8080/"
        }
      },
      "execution_count": 23,
      "outputs": [
        {
          "output_type": "stream",
          "name": "stdout",
          "text": [
            "536544,21216,\"SET 3 RETROSPOT TEA,COFFEE,SUGAR\",1,12/1/2010 14:32,11.02,,United Kingdom\n",
            "536638,21216,\"SET 3 RETROSPOT TEA,COFFEE,SUGAR\",4,12/2/2010 11:41,4.95,16244,United Kingdom\n",
            "536739,85159A,\"BLACK TEA,COFFEE,SUGAR JARS\",2,12/2/2010 13:08,6.35,14180,United Kingdom\n",
            "536864,21216,\"SET 3 RETROSPOT TEA,COFFEE,SUGAR\",1,12/3/2010 11:27,11.02,,United Kingdom\n",
            "536876,21216,\"SET 3 RETROSPOT TEA,COFFEE,SUGAR\",1,12/3/2010 11:36,11.02,,United Kingdom\n",
            "536947,21216,\"SET 3 RETROSPOT TEA,COFFEE,SUGAR\",4,12/3/2010 12:29,4.95,13013,United Kingdom\n",
            "537052,21216,\"SET 3 RETROSPOT TEA,COFFEE,SUGAR\",24,12/5/2010 11:15,4.25,16839,United Kingdom\n",
            "537126,21216,\"SET 3 RETROSPOT TEA,COFFEE,SUGAR\",1,12/5/2010 12:13,4.95,18118,United Kingdom\n",
            "537130,21216,\"SET 3 RETROSPOT TEA,COFFEE,SUGAR\",1,12/5/2010 12:23,4.95,17796,United Kingdom\n",
            "537236,21216,\"SET 3 RETROSPOT TEA,COFFEE,SUGAR\",8,12/6/2010 9:52,4.95,16858,United Kingdom\n",
            "537240,21216,\"SET 3 RETROSPOT TEA,COFFEE,SUGAR\",1,12/6/2010 10:08,11.02,,United Kingdom\n",
            "537250,21216,\"SET 3 RETROSPOT TEA,COFFEE,SUGAR\",4,12/6/2010 10:43,4.95,12708,Germany\n",
            "537595,21216,\"SET 3 RETROSPOT TEA,COFFEE,SUGAR\",1,12/7/2010 12:29,4.95,13569,United Kingdom\n",
            "537641,21216,\"SET 3 RETROSPOT TEA,COFFEE,SUGAR\",2,12/7/2010 15:32,11.02,,United Kingdom\n",
            "537645,21216,\"SET 3 RETROSPOT TEA,COFFEE,SUGAR\",2,12/7/2010 15:34,11.02,,United Kingdom\n",
            "538148,21216,\"SET 3 RETROSPOT TEA,COFFEE,SUGAR\",1,12/9/2010 16:26,11.02,,United Kingdom\n",
            "538177,21216,\"SET 3 RETROSPOT TEA,COFFEE,SUGAR\",1,12/10/2010 9:51,11.02,,United Kingdom\n",
            "538349,21216,\"SET 3 RETROSPOT TEA,COFFEE,SUGAR\",1,12/10/2010 14:59,11.02,,United Kingdom\n",
            "538371,21216,\"SET 3 RETROSPOT TEA,COFFEE,SUGAR\",1,12/12/2010 11:07,4.95,15570,United Kingdom\n",
            "538371,21216,\"SET 3 RETROSPOT TEA,COFFEE,SUGAR\",1,12/12/2010 11:07,4.95,15570,United Kingdom\n",
            "538521,21216,\"SET 3 RETROSPOT TEA,COFFEE,SUGAR\",4,12/13/2010 9:02,4.95,14180,United Kingdom\n",
            "538524,21216,\"SET 3 RETROSPOT TEA,COFFEE,SUGAR\",1,12/13/2010 9:35,11.02,,United Kingdom\n",
            "538566,21216,\"SET 3 RETROSPOT TEA,COFFEE,SUGAR\",1,12/13/2010 11:21,11.02,,United Kingdom\n",
            "538827,85159B,\"WHITE TEA,COFFEE,SUGAR JARS\",12,12/14/2010 12:59,1.25,14298,United Kingdom\n",
            "538827,85159A,\"BLACK TEA,COFFEE,SUGAR JARS\",12,12/14/2010 12:59,1.25,14298,United Kingdom\n",
            "538880,21216,\"SET 3 RETROSPOT TEA,COFFEE,SUGAR\",1,12/14/2010 15:52,11.02,,United Kingdom\n",
            "538883,21216,\"SET 3 RETROSPOT TEA,COFFEE,SUGAR\",1,12/14/2010 15:56,11.02,,United Kingdom\n",
            "539262,85159A,\"BLACK TEA,COFFEE,SUGAR JARS\",12,12/16/2010 14:35,1.25,15789,United Kingdom\n",
            "539262,85159B,\"WHITE TEA,COFFEE,SUGAR JARS\",12,12/16/2010 14:35,1.25,15789,United Kingdom\n",
            "539338,21216,\"SET 3 RETROSPOT TEA,COFFEE,SUGAR\",24,12/17/2010 10:54,4.95,17404,Sweden\n",
            "539434,21216,\"SET 3 RETROSPOT TEA,COFFEE,SUGAR\",1,12/17/2010 14:41,11.02,,United Kingdom\n",
            "539436,21216,\"SET 3 RETROSPOT TEA,COFFEE,SUGAR\",2,12/17/2010 14:49,11.02,,United Kingdom\n",
            "539453,21216,\"SET 3 RETROSPOT TEA,COFFEE,SUGAR\",2,12/17/2010 17:08,11.02,,United Kingdom\n",
            "539581,21216,\"SET 3 RETROSPOT TEA,COFFEE,SUGAR\",4,12/20/2010 12:51,4.95,16143,United Kingdom\n",
            "539631,21216,\"SET 3 RETROSPOT TEA,COFFEE,SUGAR\",1,12/20/2010 15:03,11.02,,United Kingdom\n",
            "539718,21216,\"SET 3 RETROSPOT TEA,COFFEE,SUGAR\",1,12/21/2010 13:06,11.02,,United Kingdom\n",
            "539735,21216,\"SET 3 RETROSPOT TEA,COFFEE,SUGAR\",1,12/21/2010 15:17,11.02,,United Kingdom\n",
            "539737,21216,\"SET 3 RETROSPOT TEA,COFFEE,SUGAR\",1,12/21/2010 15:19,11.02,,United Kingdom\n",
            "539739,21216,\"SET 3 RETROSPOT TEA,COFFEE,SUGAR\",2,12/21/2010 15:19,11.02,,United Kingdom\n",
            "539740,21216,\"SET 3 RETROSPOT TEA,COFFEE,SUGAR\",1,12/21/2010 15:20,11.02,,United Kingdom\n",
            "539745,21216,\"SET 3 RETROSPOT TEA,COFFEE,SUGAR\",3,12/21/2010 15:21,11.02,,United Kingdom\n",
            "539933,21216,\"SET 3 RETROSPOT TEA,COFFEE,SUGAR\",4,12/23/2010 11:24,4.95,15235,United Kingdom\n",
            "540027,21216,\"SET 3 RETROSPOT TEA,COFFEE,SUGAR\",4,1/4/2011 13:30,4.95,14210,United Kingdom\n",
            "540093,21216,\"SET 3 RETROSPOT TEA,COFFEE,SUGAR\",1,1/4/2011 15:24,4.95,16725,United Kingdom\n",
            "540098,21216,\"SET 3 RETROSPOT TEA,COFFEE,SUGAR\",1,1/4/2011 15:50,4.95,16241,United Kingdom\n",
            "540099,21216,\"SET 3 RETROSPOT TEA,COFFEE,SUGAR\",4,1/4/2011 16:41,4.95,15808,United Kingdom\n",
            "540122,85159B,\"WHITE TEA,COFFEE,SUGAR JARS\",48,1/5/2011 10:39,1.25,13694,United Kingdom\n",
            "540167,85159A,\"BLACK TEA,COFFEE,SUGAR JARS\",12,1/5/2011 12:13,1.25,16600,United Kingdom\n",
            "540240,85159A,\"BLACK TEA,COFFEE,SUGAR JARS\",12,1/5/2011 15:09,1.25,17585,United Kingdom\n",
            "540240,85159B,\"WHITE TEA,COFFEE,SUGAR JARS\",12,1/5/2011 15:09,1.25,17585,United Kingdom\n",
            "540247,21216,\"SET 3 RETROSPOT TEA,COFFEE,SUGAR\",1,1/5/2011 15:56,4.95,15464,United Kingdom\n",
            "540352,21216,\"SET 3 RETROSPOT TEA,COFFEE,SUGAR\",1,1/6/2011 14:27,11.02,,United Kingdom\n",
            "540364,85159B,\"WHITE TEA,COFFEE,SUGAR JARS\",3,1/6/2011 16:03,6.35,14505,United Kingdom\n",
            "540458,21216,\"SET 3 RETROSPOT TEA,COFFEE,SUGAR\",4,1/7/2011 12:28,4.95,12501,Germany\n",
            "C540470,85159B,\"WHITE TEA,COFFEE,SUGAR JARS\",-2,1/7/2011 14:09,5.72,14505,United Kingdom\n",
            "540505,21216,\"SET 3 RETROSPOT TEA,COFFEE,SUGAR\",4,1/9/2011 11:05,4.95,17095,United Kingdom\n",
            "540506,21216,\"SET 3 RETROSPOT TEA,COFFEE,SUGAR\",2,1/9/2011 11:12,4.95,17796,United Kingdom\n",
            "540506,21216,\"SET 3 RETROSPOT TEA,COFFEE,SUGAR\",1,1/9/2011 11:12,4.95,17796,United Kingdom\n",
            "540702,85159A,\"BLACK TEA,COFFEE,SUGAR JARS\",12,1/11/2011 9:58,1.25,13491,United Kingdom\n",
            "540857,21216,\"SET 3 RETROSPOT TEA,COFFEE,SUGAR\",24,1/12/2011 10:20,4.25,16779,United Kingdom\n",
            "541126,85159A,\"BLACK TEA,COFFEE,SUGAR JARS\",12,1/14/2011 10:10,1.25,15626,United Kingdom\n",
            "541130,21216,\"SET 3 RETROSPOT TEA,COFFEE,SUGAR\",1,1/14/2011 10:15,10.79,,United Kingdom\n",
            "541136,85159A,\"BLACK TEA,COFFEE,SUGAR JARS\",24,1/14/2011 10:39,1.25,18229,United Kingdom\n",
            "541136,85159B,\"WHITE TEA,COFFEE,SUGAR JARS\",24,1/14/2011 10:39,1.25,18229,United Kingdom\n",
            "541292,21216,\"SET 3 RETROSPOT TEA,COFFEE,SUGAR\",4,1/17/2011 13:30,4.95,15596,United Kingdom\n",
            "541362,21216,\"SET 3 RETROSPOT TEA,COFFEE,SUGAR\",4,1/17/2011 14:49,4.95,17730,United Kingdom\n",
            "541423,21216,\"SET 3 RETROSPOT TEA,COFFEE,SUGAR\",2,1/17/2011 17:54,10.79,,United Kingdom\n",
            "541424,21216,\"SET 3 RETROSPOT TEA,COFFEE,SUGAR\",1,1/17/2011 17:57,10.79,,United Kingdom\n",
            "541429,21216,\"SET 3 RETROSPOT TEA,COFFEE,SUGAR\",4,1/18/2011 9:44,4.95,14688,United Kingdom\n",
            "541496,21216,\"SET 3 RETROSPOT TEA,COFFEE,SUGAR\",1,1/18/2011 15:00,10.79,,United Kingdom\n",
            "541506,21216,\"SET 3 RETROSPOT TEA,COFFEE,SUGAR\",2,1/18/2011 16:05,10.79,,United Kingdom\n",
            "541508,21216,\"SET 3 RETROSPOT TEA,COFFEE,SUGAR\",2,1/18/2011 16:06,10.79,,United Kingdom\n",
            "541565,21216,\"SET 3 RETROSPOT TEA,COFFEE,SUGAR\",1,1/19/2011 11:48,4.95,14527,United Kingdom\n",
            "541568,21216,\"SET 3 RETROSPOT TEA,COFFEE,SUGAR\",8,1/19/2011 12:07,4.95,15606,United Kingdom\n",
            "541568,85159A,\"BLACK TEA,COFFEE,SUGAR JARS\",12,1/19/2011 12:07,1.25,15606,United Kingdom\n",
            "541584,21216,\"SET 3 RETROSPOT TEA,COFFEE,SUGAR\",1,1/19/2011 14:12,10.79,,United Kingdom\n",
            "541585,85159B,\"WHITE TEA,COFFEE,SUGAR JARS\",2,1/19/2011 14:22,6.35,14180,United Kingdom\n",
            "541585,85159A,\"BLACK TEA,COFFEE,SUGAR JARS\",2,1/19/2011 14:22,6.35,14180,United Kingdom\n",
            "541711,21216,\"SET 3 RETROSPOT TEA,COFFEE,SUGAR\",24,1/21/2011 11:18,4.25,14646,Netherlands\n",
            "541789,21216,\"SET 3 RETROSPOT TEA,COFFEE,SUGAR\",12,1/21/2011 13:07,4.25,14088,United Kingdom\n",
            "541811,21216,\"SET 3 RETROSPOT TEA,COFFEE,SUGAR\",2,1/21/2011 15:01,10.79,,United Kingdom\n",
            "541837,85159A,\"BLACK TEA,COFFEE,SUGAR JARS\",12,1/23/2011 10:32,1.25,17714,United Kingdom\n",
            "541869,21216,\"SET 3 RETROSPOT TEA,COFFEE,SUGAR\",1,1/24/2011 9:35,10.79,,United Kingdom\n",
            "541878,21216,\"SET 3 RETROSPOT TEA,COFFEE,SUGAR\",1,1/24/2011 10:28,10.79,,United Kingdom\n",
            "541975,21216,\"SET 3 RETROSPOT TEA,COFFEE,SUGAR\",4,1/24/2011 14:24,4.95,,Hong Kong\n",
            "541993,21216,\"SET 3 RETROSPOT TEA,COFFEE,SUGAR\",1,1/25/2011 9:37,10.79,,United Kingdom\n",
            "542106,21216,\"SET 3 RETROSPOT TEA,COFFEE,SUGAR\",24,1/25/2011 13:37,4.25,12709,Germany\n",
            "542220,21216,\"SET 3 RETROSPOT TEA,COFFEE,SUGAR\",24,1/26/2011 12:38,4.25,15373,United Kingdom\n",
            "542223,21216,\"SET 3 RETROSPOT TEA,COFFEE,SUGAR\",4,1/26/2011 12:43,4.95,14233,United Kingdom\n",
            "542255,21216,\"SET 3 RETROSPOT TEA,COFFEE,SUGAR\",1,1/26/2011 16:43,10.79,,United Kingdom\n",
            "542344,21216,\"SET 3 RETROSPOT TEA,COFFEE,SUGAR\",1,1/27/2011 11:30,10.79,,United Kingdom\n",
            "542374,21216,\"SET 3 RETROSPOT TEA,COFFEE,SUGAR\",4,1/27/2011 13:40,4.95,15696,United Kingdom\n",
            "542412,21216,\"SET 3 RETROSPOT TEA,COFFEE,SUGAR\",1,1/27/2011 16:49,4.95,16725,United Kingdom\n",
            "C542427,85159A,\"BLACK TEA,COFFEE,SUGAR JARS\",-1,1/28/2011 9:34,6.35,14180,United Kingdom\n",
            "C542537,21216,\"SET 3 RETROSPOT TEA,COFFEE,SUGAR\",-3,1/28/2011 13:54,4.95,12501,Germany\n",
            "542541,21216,\"SET 3 RETROSPOT TEA,COFFEE,SUGAR\",1,1/28/2011 14:25,10.79,,United Kingdom\n",
            "542605,21216,\"SET 3 RETROSPOT TEA,COFFEE,SUGAR\",8,1/30/2011 12:42,4.95,17796,United Kingdom\n",
            "542794,21216,\"SET 3 RETROSPOT TEA,COFFEE,SUGAR\",1,2/1/2011 10:56,10.79,,United Kingdom\n",
            "542906,21216,\"SET 3 RETROSPOT TEA,COFFEE,SUGAR\",1,2/1/2011 15:12,10.79,,United Kingdom\n",
            "542930,21216,\"SET 3 RETROSPOT TEA,COFFEE,SUGAR\",8,2/2/2011 10:41,4.95,14233,United Kingdom\n",
            "542997,21216,\"SET 3 RETROSPOT TEA,COFFEE,SUGAR\",1,2/2/2011 12:16,10.79,,United Kingdom\n",
            "542999,21216,\"SET 3 RETROSPOT TEA,COFFEE,SUGAR\",1,2/2/2011 12:16,10.79,,United Kingdom\n",
            "543000,21216,\"SET 3 RETROSPOT TEA,COFFEE,SUGAR\",2,2/2/2011 12:17,10.79,,United Kingdom\n",
            "543133,21216,\"SET 3 RETROSPOT TEA,COFFEE,SUGAR\",4,2/3/2011 15:27,4.95,15235,United Kingdom\n",
            "543193,21216,\"SET 3 RETROSPOT TEA,COFFEE,SUGAR\",4,2/4/2011 12:18,4.95,13725,United Kingdom\n",
            "543242,21216,\"SET 3 RETROSPOT TEA,COFFEE,SUGAR\",4,2/4/2011 14:03,4.95,15090,United Kingdom\n",
            "543358,21216,\"SET 3 RETROSPOT TEA,COFFEE,SUGAR\",1,2/7/2011 14:04,10.79,,United Kingdom\n",
            "543464,21216,\"SET 3 RETROSPOT TEA,COFFEE,SUGAR\",24,2/8/2011 14:15,4.25,16779,United Kingdom\n",
            "543518,21216,\"SET 3 RETROSPOT TEA,COFFEE,SUGAR\",48,2/9/2011 11:21,4.25,12753,Japan\n",
            "543532,21216,\"SET 3 RETROSPOT TEA,COFFEE,SUGAR\",1,2/9/2011 12:59,10.79,,United Kingdom\n",
            "543533,21216,\"SET 3 RETROSPOT TEA,COFFEE,SUGAR\",1,2/9/2011 13:00,10.79,,United Kingdom\n",
            "543639,21216,\"SET 3 RETROSPOT TEA,COFFEE,SUGAR\",1,2/10/2011 16:52,4.95,16725,United Kingdom\n",
            "543639,21216,\"SET 3 RETROSPOT TEA,COFFEE,SUGAR\",1,2/10/2011 16:52,4.95,16725,United Kingdom\n",
            "543732,21216,\"SET 3 RETROSPOT TEA,COFFEE,SUGAR\",1,2/11/2011 12:02,10.79,,United Kingdom\n",
            "543737,21216,\"SET 3 RETROSPOT TEA,COFFEE,SUGAR\",20,2/11/2011 12:45,4.95,12477,Germany\n",
            "543909,21216,\"SET 3 RETROSPOT TEA,COFFEE,SUGAR\",1,2/14/2011 12:32,4.95,,United Kingdom\n",
            "543989,21216,\"SET 3 RETROSPOT TEA,COFFEE,SUGAR\",72,2/15/2011 9:52,4.25,12415,Australia\n",
            "544041,21216,\"SET 3 RETROSPOT TEA,COFFEE,SUGAR\",24,2/15/2011 11:50,4.25,17730,United Kingdom\n",
            "544089,21216,\"SET 3 RETROSPOT TEA,COFFEE,SUGAR\",1,2/15/2011 17:51,10.79,,United Kingdom\n",
            "544150,21216,\"SET 3 RETROSPOT TEA,COFFEE,SUGAR\",4,2/16/2011 11:59,4.95,14180,United Kingdom\n",
            "544186,21216,\"SET 3 RETROSPOT TEA,COFFEE,SUGAR\",1,2/16/2011 15:55,10.79,,United Kingdom\n",
            "544207,21216,\"SET 3 RETROSPOT TEA,COFFEE,SUGAR\",3,2/17/2011 10:34,10.79,,United Kingdom\n",
            "544295,85159B,\"WHITE TEA,COFFEE,SUGAR JARS\",24,2/17/2011 12:43,1.25,14298,United Kingdom\n",
            "544295,85159A,\"BLACK TEA,COFFEE,SUGAR JARS\",24,2/17/2011 12:43,1.25,14298,United Kingdom\n",
            "544434,21216,\"SET 3 RETROSPOT TEA,COFFEE,SUGAR\",1,2/18/2011 16:12,10.79,,United Kingdom\n",
            "544599,21216,\"SET 3 RETROSPOT TEA,COFFEE,SUGAR\",1,2/21/2011 18:15,10.79,,United Kingdom\n",
            "544657,21216,\"SET 3 RETROSPOT TEA,COFFEE,SUGAR\",4,2/22/2011 13:08,4.95,14895,United Kingdom\n",
            "544662,21216,\"SET 3 RETROSPOT TEA,COFFEE,SUGAR\",1,2/22/2011 14:10,4.95,12845,United Kingdom\n",
            "544766,21216,\"SET 3 RETROSPOT TEA,COFFEE,SUGAR\",1,2/23/2011 11:09,10.79,,United Kingdom\n",
            "544767,21216,\"SET 3 RETROSPOT TEA,COFFEE,SUGAR\",1,2/23/2011 11:10,10.79,,United Kingdom\n",
            "544770,21216,\"SET 3 RETROSPOT TEA,COFFEE,SUGAR\",1,2/23/2011 11:11,10.79,,United Kingdom\n",
            "544789,21216,\"SET 3 RETROSPOT TEA,COFFEE,SUGAR\",4,2/23/2011 12:25,4.95,13993,United Kingdom\n",
            "544824,21216,\"SET 3 RETROSPOT TEA,COFFEE,SUGAR\",4,2/24/2011 9:32,4.95,17139,United Kingdom\n",
            "544892,21216,\"SET 3 RETROSPOT TEA,COFFEE,SUGAR\",1,2/24/2011 12:00,4.95,14527,United Kingdom\n",
            "544909,85159B,\"WHITE TEA,COFFEE,SUGAR JARS\",24,2/24/2011 14:32,1.25,14298,United Kingdom\n",
            "544909,85159A,\"BLACK TEA,COFFEE,SUGAR JARS\",24,2/24/2011 14:32,1.25,14298,United Kingdom\n",
            "544930,21216,\"SET 3 RETROSPOT TEA,COFFEE,SUGAR\",1,2/24/2011 18:26,4.95,17472,United Kingdom\n",
            "545025,21216,\"SET 3 RETROSPOT TEA,COFFEE,SUGAR\",2,2/25/2011 14:40,10.79,,United Kingdom\n",
            "545153,21216,\"SET 3 RETROSPOT TEA,COFFEE,SUGAR\",4,2/28/2011 12:57,4.95,16667,United Kingdom\n",
            "545216,21216,\"SET 3 RETROSPOT TEA,COFFEE,SUGAR\",1,2/28/2011 16:50,10.79,,United Kingdom\n",
            "545227,21216,\"SET 3 RETROSPOT TEA,COFFEE,SUGAR\",4,3/1/2011 9:35,4.95,12428,Finland\n",
            "545317,21216,\"SET 3 RETROSPOT TEA,COFFEE,SUGAR\",2,3/1/2011 14:14,10.79,,United Kingdom\n",
            "545475,21216,\"SET 3 RETROSPOT TEA,COFFEE,SUGAR\",120,3/3/2011 10:59,4.25,12415,Australia\n",
            "545522,85159B,\"WHITE TEA,COFFEE,SUGAR JARS\",2,3/3/2011 12:35,6.35,15596,United Kingdom\n",
            "545664,21216,\"SET 3 RETROSPOT TEA,COFFEE,SUGAR\",4,3/4/2011 15:15,4.95,12584,Italy\n",
            "545695,21216,\"SET 3 RETROSPOT TEA,COFFEE,SUGAR\",2,3/6/2011 14:15,4.95,17050,United Kingdom\n",
            "545715,21216,\"SET 3 RETROSPOT TEA,COFFEE,SUGAR\",2,3/7/2011 10:13,10.79,,United Kingdom\n",
            "545716,21216,\"SET 3 RETROSPOT TEA,COFFEE,SUGAR\",3,3/7/2011 10:15,10.79,,United Kingdom\n",
            "545717,21216,\"SET 3 RETROSPOT TEA,COFFEE,SUGAR\",1,3/7/2011 10:15,10.79,,United Kingdom\n",
            "545842,21216,\"SET 3 RETROSPOT TEA,COFFEE,SUGAR\",4,3/7/2011 13:37,4.95,15498,United Kingdom\n",
            "C546209,85159B,\"WHITE TEA,COFFEE,SUGAR JARS\",-2,3/10/2011 11:31,4.4,15596,United Kingdom\n",
            "546385,21216,\"SET 3 RETROSPOT TEA,COFFEE,SUGAR\",8,3/11/2011 13:13,4.95,16652,United Kingdom\n",
            "546393,85159A,\"BLACK TEA,COFFEE,SUGAR JARS\",1,3/11/2011 14:21,1.95,,United Kingdom\n",
            "546646,85159A,\"BLACK TEA,COFFEE,SUGAR JARS\",3,3/15/2011 13:49,1.95,13716,United Kingdom\n",
            "546650,21216,\"SET 3 RETROSPOT TEA,COFFEE,SUGAR\",1,3/15/2011 14:17,10.79,,United Kingdom\n",
            "546651,21216,\"SET 3 RETROSPOT TEA,COFFEE,SUGAR\",2,3/15/2011 14:17,10.79,,United Kingdom\n",
            "546655,21216,\"SET 3 RETROSPOT TEA,COFFEE,SUGAR\",2,3/15/2011 14:19,10.79,,United Kingdom\n",
            "546749,21216,\"SET 3 RETROSPOT TEA,COFFEE,SUGAR\",8,3/16/2011 12:43,4.95,14543,United Kingdom\n",
            "546911,85159A,\"BLACK TEA,COFFEE,SUGAR JARS\",12,3/17/2011 19:47,1.95,17725,United Kingdom\n",
            "546973,21216,\"SET 3 RETROSPOT TEA,COFFEE,SUGAR\",1,3/18/2011 12:07,10.79,,United Kingdom\n",
            "547042,21216,\"SET 3 RETROSPOT TEA,COFFEE,SUGAR\",1,3/20/2011 11:00,10.79,,United Kingdom\n",
            "547062,85159B,\"WHITE TEA,COFFEE,SUGAR JARS\",2,3/20/2011 13:28,1.95,16728,United Kingdom\n",
            "547062,85159A,\"BLACK TEA,COFFEE,SUGAR JARS\",2,3/20/2011 13:28,1.95,16728,United Kingdom\n",
            "547194,21216,\"SET 3 RETROSPOT TEA,COFFEE,SUGAR\",3,3/21/2011 12:42,4.95,12637,France\n",
            "547240,21216,\"SET 3 RETROSPOT TEA,COFFEE,SUGAR\",1,3/21/2011 16:32,4.95,17585,United Kingdom\n",
            "547248,21216,\"SET 3 RETROSPOT TEA,COFFEE,SUGAR\",2,3/22/2011 9:23,10.79,,United Kingdom\n",
            "547370,21216,\"SET 3 RETROSPOT TEA,COFFEE,SUGAR\",1,3/22/2011 13:32,4.95,14711,United Kingdom\n",
            "547386,21216,\"SET 3 RETROSPOT TEA,COFFEE,SUGAR\",1,3/22/2011 15:52,10.79,,United Kingdom\n",
            "547398,21216,\"SET 3 RETROSPOT TEA,COFFEE,SUGAR\",2,3/22/2011 16:55,10.79,,United Kingdom\n",
            "547417,85159A,\"BLACK TEA,COFFEE,SUGAR JARS\",12,3/23/2011 10:25,1.95,13239,United Kingdom\n",
            "547417,85159B,\"WHITE TEA,COFFEE,SUGAR JARS\",12,3/23/2011 10:25,1.95,13239,United Kingdom\n",
            "547551,21216,\"SET 3 RETROSPOT TEA,COFFEE,SUGAR\",1,3/23/2011 15:55,10.79,,United Kingdom\n",
            "547568,21216,\"SET 3 RETROSPOT TEA,COFFEE,SUGAR\",4,3/24/2011 9:50,4.95,13341,United Kingdom\n",
            "547658,85159A,\"BLACK TEA,COFFEE,SUGAR JARS\",1,3/24/2011 13:04,1.95,13736,United Kingdom\n",
            "C547661,21216,\"SET 3 RETROSPOT TEA,COFFEE,SUGAR\",-1,3/24/2011 13:09,4.95,13736,United Kingdom\n",
            "547669,85159A,\"BLACK TEA,COFFEE,SUGAR JARS\",1,3/24/2011 13:37,1.95,12748,United Kingdom\n",
            "547709,21216,\"SET 3 RETROSPOT TEA,COFFEE,SUGAR\",2,3/24/2011 18:43,4.95,18109,United Kingdom\n",
            "547918,21216,\"SET 3 RETROSPOT TEA,COFFEE,SUGAR\",4,3/28/2011 12:49,4.95,15249,United Kingdom\n",
            "548163,21216,\"SET 3 RETROSPOT TEA,COFFEE,SUGAR\",1,3/29/2011 13:43,10.79,,United Kingdom\n",
            "548164,21216,\"SET 3 RETROSPOT TEA,COFFEE,SUGAR\",2,3/29/2011 13:44,10.79,,United Kingdom\n",
            "548165,21216,\"SET 3 RETROSPOT TEA,COFFEE,SUGAR\",2,3/29/2011 13:44,10.79,,United Kingdom\n",
            "548166,21216,\"SET 3 RETROSPOT TEA,COFFEE,SUGAR\",1,3/29/2011 13:45,10.79,,United Kingdom\n",
            "548167,21216,\"SET 3 RETROSPOT TEA,COFFEE,SUGAR\",1,3/29/2011 13:45,10.79,,United Kingdom\n",
            "548194,21216,\"SET 3 RETROSPOT TEA,COFFEE,SUGAR\",1,3/29/2011 15:30,10.79,,United Kingdom\n",
            "548257,85159A,\"BLACK TEA,COFFEE,SUGAR JARS\",12,3/30/2011 10:54,1.95,13802,United Kingdom\n",
            "548260,21216,\"SET 3 RETROSPOT TEA,COFFEE,SUGAR\",5,3/30/2011 11:18,4.95,15373,United Kingdom\n",
            "548319,85159A,\"BLACK TEA,COFFEE,SUGAR JARS\",12,3/30/2011 12:48,1.95,14180,United Kingdom\n",
            "548461,21216,\"SET 3 RETROSPOT TEA,COFFEE,SUGAR\",1,3/31/2011 12:08,4.95,14527,United Kingdom\n",
            "548493,21216,\"SET 3 RETROSPOT TEA,COFFEE,SUGAR\",24,3/31/2011 13:14,4.25,16839,United Kingdom\n",
            "548504,21216,\"SET 3 RETROSPOT TEA,COFFEE,SUGAR\",1,3/31/2011 14:33,10.79,,United Kingdom\n",
            "548505,21216,\"SET 3 RETROSPOT TEA,COFFEE,SUGAR\",1,3/31/2011 14:34,10.79,,United Kingdom\n",
            "548514,21216,\"SET 3 RETROSPOT TEA,COFFEE,SUGAR\",1,3/31/2011 16:03,10.79,,United Kingdom\n",
            "548520,85159A,\"BLACK TEA,COFFEE,SUGAR JARS\",12,3/31/2011 16:40,1.95,13126,United Kingdom\n",
            "548521,85159B,\"WHITE TEA,COFFEE,SUGAR JARS\",12,3/31/2011 16:41,1.95,17735,United Kingdom\n",
            "548533,21216,\"SET 3 RETROSPOT TEA,COFFEE,SUGAR\",4,3/31/2011 17:17,4.95,13883,United Kingdom\n",
            "548654,21216,\"SET 3 RETROSPOT TEA,COFFEE,SUGAR\",4,4/1/2011 13:47,4.95,12569,Germany\n",
            "548711,85159B,\"WHITE TEA,COFFEE,SUGAR JARS\",1,4/3/2011 14:24,1.95,18116,United Kingdom\n",
            "548712,21216,\"SET 3 RETROSPOT TEA,COFFEE,SUGAR\",1,4/3/2011 14:42,4.95,17050,United Kingdom\n",
            "548712,21216,\"SET 3 RETROSPOT TEA,COFFEE,SUGAR\",1,4/3/2011 14:42,4.95,17050,United Kingdom\n",
            "C548727,85159A,\"BLACK TEA,COFFEE,SUGAR JARS\",-2,4/4/2011 9:45,1.95,17725,United Kingdom\n",
            "548744,85159A,\"BLACK TEA,COFFEE,SUGAR JARS\",24,4/4/2011 12:07,1.95,17725,United Kingdom\n",
            "548744,85159B,\"WHITE TEA,COFFEE,SUGAR JARS\",12,4/4/2011 12:07,1.95,17725,United Kingdom\n",
            "548971,21216,\"SET 3 RETROSPOT TEA,COFFEE,SUGAR\",1,4/5/2011 11:29,4.95,16919,United Kingdom\n",
            "C548976,85159B,\"WHITE TEA,COFFEE,SUGAR JARS\",-7,4/5/2011 11:50,1.95,17725,United Kingdom\n",
            "C548976,85159A,\"BLACK TEA,COFFEE,SUGAR JARS\",-7,4/5/2011 11:50,1.95,17725,United Kingdom\n",
            "548993,21216,\"SET 3 RETROSPOT TEA,COFFEE,SUGAR\",48,4/5/2011 13:56,4.25,12753,Japan\n",
            "549023,21216,\"SET 3 RETROSPOT TEA,COFFEE,SUGAR\",1,4/5/2011 16:27,10.79,,United Kingdom\n",
            "549115,85159B,\"WHITE TEA,COFFEE,SUGAR JARS\",24,4/6/2011 12:41,1.95,13098,United Kingdom\n",
            "549155,21216,\"SET 3 RETROSPOT TEA,COFFEE,SUGAR\",1,4/6/2011 17:08,10.79,,United Kingdom\n",
            "549295,21216,\"SET 3 RETROSPOT TEA,COFFEE,SUGAR\",3,4/7/2011 19:49,10.79,,United Kingdom\n",
            "549425,85159B,\"WHITE TEA,COFFEE,SUGAR JARS\",2,4/8/2011 11:54,1.95,14030,United Kingdom\n",
            "549425,85159A,\"BLACK TEA,COFFEE,SUGAR JARS\",1,4/8/2011 11:54,1.95,14030,United Kingdom\n",
            "549554,21216,\"SET 3 RETROSPOT TEA,COFFEE,SUGAR\",24,4/10/2011 12:36,4.25,16779,United Kingdom\n",
            "549646,85159B,\"WHITE TEA,COFFEE,SUGAR JARS\",12,4/11/2011 11:51,1.95,12982,United Kingdom\n",
            "549646,85159A,\"BLACK TEA,COFFEE,SUGAR JARS\",12,4/11/2011 11:51,1.95,12982,United Kingdom\n",
            "549874,21216,\"SET 3 RETROSPOT TEA,COFFEE,SUGAR\",2,4/12/2011 15:23,4.95,16919,United Kingdom\n",
            "549953,21216,\"SET 3 RETROSPOT TEA,COFFEE,SUGAR\",4,4/13/2011 13:15,4.95,12766,Portugal\n",
            "550004,21216,\"SET 3 RETROSPOT TEA,COFFEE,SUGAR\",4,4/14/2011 9:56,4.95,12569,Germany\n",
            "C550013,85159B,\"WHITE TEA,COFFEE,SUGAR JARS\",-1,4/14/2011 10:49,1.95,12982,United Kingdom\n",
            "550137,21216,\"SET 3 RETROSPOT TEA,COFFEE,SUGAR\",72,4/14/2011 13:59,4.25,12477,Germany\n",
            "550193,21216,\"SET 3 RETROSPOT TEA,COFFEE,SUGAR\",8,4/15/2011 9:27,4.95,13952,United Kingdom\n",
            "550204,21216,\"SET 3 RETROSPOT TEA,COFFEE,SUGAR\",1,4/15/2011 10:37,10.79,,United Kingdom\n",
            "550208,21216,\"SET 3 RETROSPOT TEA,COFFEE,SUGAR\",1,4/15/2011 10:39,10.79,,United Kingdom\n",
            "550209,21216,\"SET 3 RETROSPOT TEA,COFFEE,SUGAR\",1,4/15/2011 10:39,10.79,,United Kingdom\n",
            "550212,21216,\"SET 3 RETROSPOT TEA,COFFEE,SUGAR\",2,4/15/2011 10:41,10.79,,United Kingdom\n",
            "550213,21216,\"SET 3 RETROSPOT TEA,COFFEE,SUGAR\",1,4/15/2011 10:42,10.79,,United Kingdom\n",
            "550214,21216,\"SET 3 RETROSPOT TEA,COFFEE,SUGAR\",1,4/15/2011 10:43,10.79,,United Kingdom\n",
            "550339,21216,\"SET 3 RETROSPOT TEA,COFFEE,SUGAR\",8,4/17/2011 15:40,4.95,17697,United Kingdom\n",
            "550458,21216,\"SET 3 RETROSPOT TEA,COFFEE,SUGAR\",1,4/18/2011 13:13,10.79,,United Kingdom\n",
            "550471,21216,\"SET 3 RETROSPOT TEA,COFFEE,SUGAR\",1,4/18/2011 13:52,10.79,,United Kingdom\n",
            "550488,85159B,\"WHITE TEA,COFFEE,SUGAR JARS\",3,4/18/2011 14:27,1.95,16729,United Kingdom\n",
            "550492,85159B,\"WHITE TEA,COFFEE,SUGAR JARS\",12,4/18/2011 14:44,1.95,14180,United Kingdom\n",
            "550492,21216,\"SET 3 RETROSPOT TEA,COFFEE,SUGAR\",4,4/18/2011 14:44,4.95,14180,United Kingdom\n",
            "550500,21216,\"SET 3 RETROSPOT TEA,COFFEE,SUGAR\",1,4/18/2011 15:26,10.79,,United Kingdom\n",
            "550621,85159B,\"WHITE TEA,COFFEE,SUGAR JARS\",2,4/19/2011 13:41,1.95,13263,United Kingdom\n",
            "550622,21216,\"SET 3 RETROSPOT TEA,COFFEE,SUGAR\",2,4/19/2011 13:49,4.95,13735,United Kingdom\n",
            "550656,21216,\"SET 3 RETROSPOT TEA,COFFEE,SUGAR\",4,4/20/2011 8:07,4.95,17652,United Kingdom\n",
            "550781,85159B,\"WHITE TEA,COFFEE,SUGAR JARS\",12,4/20/2011 13:43,1.95,13097,United Kingdom\n",
            "550828,21216,\"SET 3 RETROSPOT TEA,COFFEE,SUGAR\",2,4/21/2011 10:19,4.95,17315,United Kingdom\n",
            "550913,21216,\"SET 3 RETROSPOT TEA,COFFEE,SUGAR\",4,4/21/2011 13:22,4.95,17631,United Kingdom\n",
            "550915,85159B,\"WHITE TEA,COFFEE,SUGAR JARS\",1,4/21/2011 13:30,1.95,13263,United Kingdom\n",
            "550968,21216,\"SET 3 RETROSPOT TEA,COFFEE,SUGAR\",4,4/21/2011 16:59,4.95,14961,United Kingdom\n",
            "551004,21216,\"SET 3 RETROSPOT TEA,COFFEE,SUGAR\",1,4/26/2011 9:48,10.79,,United Kingdom\n",
            "551142,85159B,\"WHITE TEA,COFFEE,SUGAR JARS\",1,4/26/2011 13:22,1.95,17613,United Kingdom\n",
            "551147,21216,\"SET 3 RETROSPOT TEA,COFFEE,SUGAR\",4,4/26/2011 14:07,4.95,14210,United Kingdom\n",
            "551531,85159B,\"WHITE TEA,COFFEE,SUGAR JARS\",4,5/1/2011 13:45,1.95,15376,United Kingdom\n",
            "551558,21216,\"SET 3 RETROSPOT TEA,COFFEE,SUGAR\",1,5/3/2011 10:41,4.95,17841,United Kingdom\n",
            "551717,21216,\"SET 3 RETROSPOT TEA,COFFEE,SUGAR\",1,5/3/2011 15:59,4.95,13263,United Kingdom\n",
            "551721,21216,\"SET 3 RETROSPOT TEA,COFFEE,SUGAR\",2,5/3/2011 16:49,4.95,14711,United Kingdom\n",
            "551835,21216,\"SET 3 RETROSPOT TEA,COFFEE,SUGAR\",4,5/4/2011 13:17,4.95,17646,United Kingdom\n",
            "551988,21216,\"SET 3 RETROSPOT TEA,COFFEE,SUGAR\",4,5/5/2011 15:08,4.95,12576,Poland\n",
            "552000,21216,\"SET 3 RETROSPOT TEA,COFFEE,SUGAR\",1,5/5/2011 15:56,10.79,,United Kingdom\n",
            "552042,21216,\"SET 3 RETROSPOT TEA,COFFEE,SUGAR\",8,5/6/2011 9:00,4.95,13952,United Kingdom\n",
            "552192,21216,\"SET 3 RETROSPOT TEA,COFFEE,SUGAR\",4,5/6/2011 14:16,4.95,15258,United Kingdom\n",
            "552326,21216,\"SET 3 RETROSPOT TEA,COFFEE,SUGAR\",4,5/9/2011 10:02,4.95,15596,United Kingdom\n",
            "552514,21216,\"SET 3 RETROSPOT TEA,COFFEE,SUGAR\",1,5/9/2011 16:30,10.79,,United Kingdom\n",
            "552542,85159A,\"BLACK TEA,COFFEE,SUGAR JARS\",12,5/10/2011 10:20,1.95,16841,United Kingdom\n",
            "552542,85159B,\"WHITE TEA,COFFEE,SUGAR JARS\",12,5/10/2011 10:20,1.95,16841,United Kingdom\n",
            "552660,21216,\"SET 3 RETROSPOT TEA,COFFEE,SUGAR\",1,5/10/2011 15:03,10.79,,United Kingdom\n",
            "552668,21216,\"SET 3 RETROSPOT TEA,COFFEE,SUGAR\",1,5/10/2011 15:05,10.79,,United Kingdom\n",
            "552670,21216,\"SET 3 RETROSPOT TEA,COFFEE,SUGAR\",1,5/10/2011 15:06,10.79,,United Kingdom\n",
            "552672,21216,\"SET 3 RETROSPOT TEA,COFFEE,SUGAR\",1,5/10/2011 15:06,10.79,,United Kingdom\n",
            "552675,21216,\"SET 3 RETROSPOT TEA,COFFEE,SUGAR\",2,5/10/2011 15:07,10.79,,United Kingdom\n",
            "552681,21216,\"SET 3 RETROSPOT TEA,COFFEE,SUGAR\",1,5/10/2011 15:08,10.79,,United Kingdom\n",
            "552687,21216,\"SET 3 RETROSPOT TEA,COFFEE,SUGAR\",1,5/10/2011 15:09,10.79,,United Kingdom\n",
            "552694,21216,\"SET 3 RETROSPOT TEA,COFFEE,SUGAR\",4,5/10/2011 15:25,4.95,12749,United Kingdom\n",
            "552802,21216,\"SET 3 RETROSPOT TEA,COFFEE,SUGAR\",1,5/11/2011 12:23,4.95,16115,United Kingdom\n",
            "552864,21216,\"SET 3 RETROSPOT TEA,COFFEE,SUGAR\",2,5/11/2011 17:13,4.95,13235,United Kingdom\n",
            "552953,21216,\"SET 3 RETROSPOT TEA,COFFEE,SUGAR\",3,5/12/2011 12:11,4.95,16745,United Kingdom\n",
            "553002,21216,\"SET 3 RETROSPOT TEA,COFFEE,SUGAR\",2,5/12/2011 15:26,4.95,13263,United Kingdom\n",
            "553013,21216,\"SET 3 RETROSPOT TEA,COFFEE,SUGAR\",1,5/12/2011 18:19,10.79,,United Kingdom\n",
            "C553033,21216,\"SET 3 RETROSPOT TEA,COFFEE,SUGAR\",-1,5/12/2011 19:50,4.95,13883,United Kingdom\n",
            "553140,21216,\"SET 3 RETROSPOT TEA,COFFEE,SUGAR\",10,5/13/2011 12:53,4.95,15373,United Kingdom\n",
            "553146,21216,\"SET 3 RETROSPOT TEA,COFFEE,SUGAR\",4,5/13/2011 13:52,4.95,14873,United Kingdom\n",
            "553148,21216,\"SET 3 RETROSPOT TEA,COFFEE,SUGAR\",4,5/13/2011 14:09,4.95,,Hong Kong\n",
            "553375,85159B,\"WHITE TEA,COFFEE,SUGAR JARS\",24,5/16/2011 14:53,1.95,14911,EIRE\n",
            "553542,21216,\"SET 3 RETROSPOT TEA,COFFEE,SUGAR\",2,5/17/2011 15:34,10.79,,United Kingdom\n",
            "553545,21216,\"SET 3 RETROSPOT TEA,COFFEE,SUGAR\",2,5/17/2011 15:37,10.79,,United Kingdom\n",
            "553668,21216,\"SET 3 RETROSPOT TEA,COFFEE,SUGAR\",4,5/18/2011 12:21,4.95,13993,United Kingdom\n",
            "553702,85159B,\"WHITE TEA,COFFEE,SUGAR JARS\",2,5/18/2011 14:50,1.95,13263,United Kingdom\n",
            "553749,21216,\"SET 3 RETROSPOT TEA,COFFEE,SUGAR\",4,5/19/2011 9:59,4.95,13468,United Kingdom\n",
            "553767,21216,\"SET 3 RETROSPOT TEA,COFFEE,SUGAR\",1,5/19/2011 10:46,10.79,,United Kingdom\n",
            "554124,21216,\"SET 3 RETROSPOT TEA,COFFEE,SUGAR\",4,5/23/2011 8:31,4.95,13339,United Kingdom\n",
            "554283,21216,\"SET 3 RETROSPOT TEA,COFFEE,SUGAR\",4,5/23/2011 14:11,4.95,17686,United Kingdom\n",
            "554323,85159B,\"WHITE TEA,COFFEE,SUGAR JARS\",8,5/23/2011 15:33,1.95,16729,United Kingdom\n",
            "C554539,85159B,\"WHITE TEA,COFFEE,SUGAR JARS\",-4,5/24/2011 17:47,1.95,14911,EIRE\n",
            "554835,21216,\"SET 3 RETROSPOT TEA,COFFEE,SUGAR\",4,5/26/2011 16:11,4.95,15241,United Kingdom\n",
            "554933,21216,\"SET 3 RETROSPOT TEA,COFFEE,SUGAR\",3,5/27/2011 13:26,4.95,13232,United Kingdom\n",
            "554958,21216,\"SET 3 RETROSPOT TEA,COFFEE,SUGAR\",1,5/27/2011 15:17,10.79,,United Kingdom\n",
            "554961,21216,\"SET 3 RETROSPOT TEA,COFFEE,SUGAR\",1,5/27/2011 15:19,10.79,,United Kingdom\n",
            "554994,21216,\"SET 3 RETROSPOT TEA,COFFEE,SUGAR\",1,5/29/2011 14:18,4.95,14606,United Kingdom\n",
            "555000,21216,\"SET 3 RETROSPOT TEA,COFFEE,SUGAR\",4,5/31/2011 8:03,4.95,18232,United Kingdom\n",
            "555195,21216,\"SET 3 RETROSPOT TEA,COFFEE,SUGAR\",4,6/1/2011 11:27,4.95,15240,United Kingdom\n",
            "555249,21216,\"SET 3 RETROSPOT TEA,COFFEE,SUGAR\",1,6/1/2011 14:57,4.95,17472,United Kingdom\n",
            "555276,21216,\"SET 3 RETROSPOT TEA,COFFEE,SUGAR\",1,6/1/2011 17:28,10.79,,United Kingdom\n",
            "555320,21216,\"SET 3 RETROSPOT TEA,COFFEE,SUGAR\",1,6/2/2011 11:00,10.79,,United Kingdom\n",
            "555321,21216,\"SET 3 RETROSPOT TEA,COFFEE,SUGAR\",1,6/2/2011 11:01,10.79,,United Kingdom\n",
            "555322,21216,\"SET 3 RETROSPOT TEA,COFFEE,SUGAR\",1,6/2/2011 11:01,10.79,,United Kingdom\n",
            "555323,21216,\"SET 3 RETROSPOT TEA,COFFEE,SUGAR\",1,6/2/2011 11:02,10.79,,United Kingdom\n",
            "555327,21216,\"SET 3 RETROSPOT TEA,COFFEE,SUGAR\",2,6/2/2011 11:03,10.79,,United Kingdom\n",
            "555349,85159B,\"WHITE TEA,COFFEE,SUGAR JARS\",1,6/2/2011 12:08,1.95,16729,United Kingdom\n",
            "555368,21216,\"SET 3 RETROSPOT TEA,COFFEE,SUGAR\",4,6/2/2011 14:30,4.95,13437,United Kingdom\n",
            "555485,21216,\"SET 3 RETROSPOT TEA,COFFEE,SUGAR\",4,6/3/2011 12:39,4.95,17722,United Kingdom\n",
            "555486,85159B,\"WHITE TEA,COFFEE,SUGAR JARS\",12,6/3/2011 13:05,1.95,13248,United Kingdom\n",
            "555551,85159A,\"BLACK TEA,COFFEE,SUGAR JARS\",12,6/5/2011 13:32,1.95,14696,United Kingdom\n",
            "555572,21216,\"SET 3 RETROSPOT TEA,COFFEE,SUGAR\",4,6/5/2011 15:37,4.95,12449,Belgium\n",
            "555577,21216,\"SET 3 RETROSPOT TEA,COFFEE,SUGAR\",4,6/5/2011 15:53,4.95,15301,United Kingdom\n",
            "555719,85159B,\"WHITE TEA,COFFEE,SUGAR JARS\",12,6/6/2011 15:31,1.95,12609,Germany\n",
            "555722,21216,\"SET 3 RETROSPOT TEA,COFFEE,SUGAR\",1,6/6/2011 16:06,10.79,,United Kingdom\n",
            "555734,21216,\"SET 3 RETROSPOT TEA,COFFEE,SUGAR\",4,6/7/2011 8:21,4.95,17696,United Kingdom\n",
            "555744,85159A,\"BLACK TEA,COFFEE,SUGAR JARS\",24,6/7/2011 10:44,1.95,18072,United Kingdom\n",
            "555925,21216,\"SET 3 RETROSPOT TEA,COFFEE,SUGAR\",1,6/7/2011 17:13,10.79,,United Kingdom\n",
            "555945,21216,\"SET 3 RETROSPOT TEA,COFFEE,SUGAR\",4,6/8/2011 10:36,4.95,17409,United Kingdom\n",
            "555947,85159B,\"WHITE TEA,COFFEE,SUGAR JARS\",12,6/8/2011 10:45,1.95,14911,EIRE\n",
            "556056,21216,\"SET 3 RETROSPOT TEA,COFFEE,SUGAR\",1,6/8/2011 13:35,4.95,17841,United Kingdom\n",
            "556091,21216,\"SET 3 RETROSPOT TEA,COFFEE,SUGAR\",1,6/8/2011 15:25,10.79,,United Kingdom\n",
            "556095,21216,\"SET 3 RETROSPOT TEA,COFFEE,SUGAR\",2,6/8/2011 15:27,10.79,,United Kingdom\n",
            "556195,21216,\"SET 3 RETROSPOT TEA,COFFEE,SUGAR\",3,6/9/2011 12:21,4.95,16745,United Kingdom\n",
            "556459,21216,\"SET 3 RETROSPOT TEA,COFFEE,SUGAR\",1,6/10/2011 17:25,10.79,,United Kingdom\n",
            "556483,21216,\"SET 3 RETROSPOT TEA,COFFEE,SUGAR\",1,6/12/2011 13:12,4.95,14823,United Kingdom\n",
            "556489,85159A,\"BLACK TEA,COFFEE,SUGAR JARS\",1,6/12/2011 13:59,1.95,14704,United Kingdom\n",
            "556503,85159B,\"WHITE TEA,COFFEE,SUGAR JARS\",12,6/13/2011 8:44,1.95,13517,United Kingdom\n",
            "556503,85159A,\"BLACK TEA,COFFEE,SUGAR JARS\",12,6/13/2011 8:44,1.95,13517,United Kingdom\n",
            "556516,21216,\"SET 3 RETROSPOT TEA,COFFEE,SUGAR\",1,6/13/2011 10:46,10.79,,United Kingdom\n",
            "C556633,21216,\"SET 3 RETROSPOT TEA,COFFEE,SUGAR\",-2,6/13/2011 15:10,4.95,17696,United Kingdom\n",
            "556636,21216,\"SET 3 RETROSPOT TEA,COFFEE,SUGAR\",1,6/13/2011 15:30,10.79,,United Kingdom\n",
            "556953,21216,\"SET 3 RETROSPOT TEA,COFFEE,SUGAR\",4,6/16/2011 8:16,4.95,14911,EIRE\n",
            "C557004,85159B,\"WHITE TEA,COFFEE,SUGAR JARS\",-1,6/16/2011 11:16,1.95,16729,United Kingdom\n",
            "557008,85159B,\"WHITE TEA,COFFEE,SUGAR JARS\",1,6/16/2011 11:38,1.95,16729,United Kingdom\n",
            "557263,21216,\"SET 3 RETROSPOT TEA,COFFEE,SUGAR\",24,6/19/2011 11:08,4.25,14646,Netherlands\n",
            "C557269,85159B,\"WHITE TEA,COFFEE,SUGAR JARS\",-1,6/19/2011 11:27,1.95,13097,United Kingdom\n",
            "557301,21216,\"SET 3 RETROSPOT TEA,COFFEE,SUGAR\",8,6/19/2011 14:08,4.95,15373,United Kingdom\n",
            "557427,85159B,\"WHITE TEA,COFFEE,SUGAR JARS\",12,6/20/2011 12:14,1.95,12429,Denmark\n",
            "557493,21216,\"SET 3 RETROSPOT TEA,COFFEE,SUGAR\",1,6/20/2011 15:18,10.79,,United Kingdom\n",
            "557641,21216,\"SET 3 RETROSPOT TEA,COFFEE,SUGAR\",1,6/21/2011 16:35,10.79,,United Kingdom\n",
            "557780,85159A,\"BLACK TEA,COFFEE,SUGAR JARS\",1,6/22/2011 15:15,1.95,,United Kingdom\n",
            "558118,21216,\"SET 3 RETROSPOT TEA,COFFEE,SUGAR\",2,6/27/2011 9:11,10.79,,United Kingdom\n",
            "558119,21216,\"SET 3 RETROSPOT TEA,COFFEE,SUGAR\",2,6/27/2011 9:12,10.79,,United Kingdom\n",
            "558311,21216,\"SET 3 RETROSPOT TEA,COFFEE,SUGAR\",72,6/28/2011 11:22,4.25,14646,Netherlands\n",
            "558355,21216,\"SET 3 RETROSPOT TEA,COFFEE,SUGAR\",1,6/28/2011 14:58,4.95,13614,United Kingdom\n",
            "558355,21216,\"SET 3 RETROSPOT TEA,COFFEE,SUGAR\",2,6/28/2011 14:58,4.95,13614,United Kingdom\n",
            "558370,85159A,\"BLACK TEA,COFFEE,SUGAR JARS\",9,6/28/2011 15:44,1.95,17750,United Kingdom\n",
            "558534,85159B,\"WHITE TEA,COFFEE,SUGAR JARS\",12,6/30/2011 11:54,1.95,13988,United Kingdom\n",
            "558538,21216,\"SET 3 RETROSPOT TEA,COFFEE,SUGAR\",2,6/30/2011 12:12,4.95,15005,United Kingdom\n",
            "558633,21216,\"SET 3 RETROSPOT TEA,COFFEE,SUGAR\",10,6/30/2011 19:13,4.95,16745,United Kingdom\n",
            "558774,21216,\"SET 3 RETROSPOT TEA,COFFEE,SUGAR\",1,7/4/2011 10:17,10.79,,United Kingdom\n",
            "558835,21216,\"SET 3 RETROSPOT TEA,COFFEE,SUGAR\",1,7/4/2011 11:58,10.79,,United Kingdom\n",
            "559039,21216,\"SET 3 RETROSPOT TEA,COFFEE,SUGAR\",2,7/5/2011 15:32,10.79,,United Kingdom\n",
            "559052,21216,\"SET 3 RETROSPOT TEA,COFFEE,SUGAR\",1,7/5/2011 16:53,10.79,,United Kingdom\n",
            "559321,85159A,\"BLACK TEA,COFFEE,SUGAR JARS\",12,7/7/2011 14:30,1.95,17069,United Kingdom\n",
            "559329,21216,\"SET 3 RETROSPOT TEA,COFFEE,SUGAR\",4,7/7/2011 15:41,4.95,15241,United Kingdom\n",
            "C559347,85159A,\"BLACK TEA,COFFEE,SUGAR JARS\",-24,7/7/2011 17:22,1.95,18072,United Kingdom\n",
            "559488,21216,\"SET 3 RETROSPOT TEA,COFFEE,SUGAR\",1,7/8/2011 13:52,10.79,,United Kingdom\n",
            "559489,21216,\"SET 3 RETROSPOT TEA,COFFEE,SUGAR\",1,7/8/2011 13:52,10.79,,United Kingdom\n",
            "559493,21216,\"SET 3 RETROSPOT TEA,COFFEE,SUGAR\",1,7/8/2011 13:53,10.79,,United Kingdom\n",
            "559518,21216,\"SET 3 RETROSPOT TEA,COFFEE,SUGAR\",2,7/8/2011 16:11,10.79,,United Kingdom\n",
            "559557,85159A,\"BLACK TEA,COFFEE,SUGAR JARS\",12,7/11/2011 10:33,1.95,17444,Canada\n",
            "559557,85159B,\"WHITE TEA,COFFEE,SUGAR JARS\",12,7/11/2011 10:33,1.95,17444,Canada\n",
            "C559747,85159A,\"BLACK TEA,COFFEE,SUGAR JARS\",-5,7/12/2011 11:23,1.95,17069,United Kingdom\n",
            "559862,21216,\"SET 3 RETROSPOT TEA,COFFEE,SUGAR\",4,7/13/2011 10:30,4.95,12782,Portugal\n",
            "559887,21216,\"SET 3 RETROSPOT TEA,COFFEE,SUGAR\",1,7/13/2011 11:44,4.95,13263,United Kingdom\n",
            "559897,21216,\"SET 3 RETROSPOT TEA,COFFEE,SUGAR\",24,7/13/2011 12:18,4.25,16779,United Kingdom\n",
            "559914,21216,\"SET 3 RETROSPOT TEA,COFFEE,SUGAR\",1,7/13/2011 15:13,10.79,,United Kingdom\n",
            "560041,21216,\"SET 3 RETROSPOT TEA,COFFEE,SUGAR\",4,7/14/2011 14:46,4.95,14156,EIRE\n",
            "560109,21216,\"SET 3 RETROSPOT TEA,COFFEE,SUGAR\",4,7/15/2011 9:00,4.95,13491,United Kingdom\n",
            "560298,21216,\"SET 3 RETROSPOT TEA,COFFEE,SUGAR\",1,7/18/2011 10:26,10.79,,United Kingdom\n",
            "560359,21216,\"SET 3 RETROSPOT TEA,COFFEE,SUGAR\",1,7/18/2011 11:47,4.95,14159,United Kingdom\n",
            "560385,21216,\"SET 3 RETROSPOT TEA,COFFEE,SUGAR\",1,7/18/2011 12:53,4.95,14583,United Kingdom\n",
            "560433,21216,\"SET 3 RETROSPOT TEA,COFFEE,SUGAR\",1,7/18/2011 15:49,10.79,,United Kingdom\n",
            "560444,21216,\"SET 3 RETROSPOT TEA,COFFEE,SUGAR\",1,7/18/2011 17:15,4.95,13764,United Kingdom\n",
            "560444,21216,\"SET 3 RETROSPOT TEA,COFFEE,SUGAR\",2,7/18/2011 17:15,4.95,13764,United Kingdom\n",
            "560445,21216,\"SET 3 RETROSPOT TEA,COFFEE,SUGAR\",24,7/19/2011 9:08,4.25,14156,EIRE\n",
            "560539,21216,\"SET 3 RETROSPOT TEA,COFFEE,SUGAR\",24,7/19/2011 12:19,4.25,16745,United Kingdom\n",
            "560552,85159A,\"BLACK TEA,COFFEE,SUGAR JARS\",8,7/19/2011 12:54,1.95,15311,United Kingdom\n",
            "560552,85159B,\"WHITE TEA,COFFEE,SUGAR JARS\",7,7/19/2011 12:54,1.95,15311,United Kingdom\n",
            "560716,21216,\"SET 3 RETROSPOT TEA,COFFEE,SUGAR\",4,7/20/2011 13:26,4.95,17675,United Kingdom\n",
            "560777,21216,\"SET 3 RETROSPOT TEA,COFFEE,SUGAR\",1,7/21/2011 9:30,10.79,,United Kingdom\n",
            "560779,21216,\"SET 3 RETROSPOT TEA,COFFEE,SUGAR\",1,7/21/2011 9:30,10.79,,United Kingdom\n",
            "560780,21216,\"SET 3 RETROSPOT TEA,COFFEE,SUGAR\",1,7/21/2011 9:31,10.79,,United Kingdom\n",
            "560920,85159B,\"WHITE TEA,COFFEE,SUGAR JARS\",24,7/21/2011 18:36,1.95,15370,United Kingdom\n",
            "560930,85159B,\"WHITE TEA,COFFEE,SUGAR JARS\",12,7/22/2011 10:23,1.95,15829,United Kingdom\n",
            "560996,21216,\"SET 3 RETROSPOT TEA,COFFEE,SUGAR\",1,7/22/2011 13:53,4.95,17625,United Kingdom\n",
            "560998,21216,\"SET 3 RETROSPOT TEA,COFFEE,SUGAR\",4,7/22/2011 14:07,4.95,14243,United Kingdom\n",
            "561090,21216,\"SET 3 RETROSPOT TEA,COFFEE,SUGAR\",1,7/25/2011 9:55,10.79,,United Kingdom\n",
            "561192,21216,\"SET 3 RETROSPOT TEA,COFFEE,SUGAR\",1,7/25/2011 13:45,4.95,16033,United Kingdom\n",
            "561388,21216,\"SET 3 RETROSPOT TEA,COFFEE,SUGAR\",24,7/27/2011 9:32,4.25,12753,Japan\n",
            "561651,21216,\"SET 3 RETROSPOT TEA,COFFEE,SUGAR\",1,7/28/2011 15:36,10.79,,United Kingdom\n",
            "561678,21216,\"SET 3 RETROSPOT TEA,COFFEE,SUGAR\",1,7/28/2011 18:33,4.95,17931,United Kingdom\n",
            "561870,21216,\"SET 3 RETROSPOT TEA,COFFEE,SUGAR\",4,7/31/2011 11:45,4.95,14911,EIRE\n",
            "561899,21216,\"SET 3 RETROSPOT TEA,COFFEE,SUGAR\",12,7/31/2011 15:26,4.25,17173,United Kingdom\n",
            "561910,21216,\"SET 3 RETROSPOT TEA,COFFEE,SUGAR\",12,8/1/2011 10:23,4.25,17053,United Kingdom\n",
            "562002,21216,\"SET 3 RETROSPOT TEA,COFFEE,SUGAR\",16,8/1/2011 13:48,4.95,14567,United Kingdom\n",
            "562017,21216,\"SET 3 RETROSPOT TEA,COFFEE,SUGAR\",16,8/1/2011 14:16,4.25,14937,Channel Islands\n",
            "562034,21216,\"SET 3 RETROSPOT TEA,COFFEE,SUGAR\",4,8/2/2011 9:14,4.95,12449,Belgium\n",
            "562114,21216,\"SET 3 RETROSPOT TEA,COFFEE,SUGAR\",1,8/2/2011 16:14,10.79,,United Kingdom\n",
            "562129,21216,\"SET 3 RETROSPOT TEA,COFFEE,SUGAR\",4,8/3/2011 9:09,4.95,13186,United Kingdom\n",
            "562553,21216,\"SET 3 RETROSPOT TEA,COFFEE,SUGAR\",1,8/5/2011 16:34,10.79,,United Kingdom\n",
            "562844,21216,\"SET 3 RETROSPOT TEA,COFFEE,SUGAR\",4,8/10/2011 8:41,4.95,12444,Norway\n",
            "562934,21216,\"SET 3 RETROSPOT TEA,COFFEE,SUGAR\",1,8/10/2011 16:56,10.79,,United Kingdom\n",
            "562955,21216,\"SET 3 RETROSPOT TEA,COFFEE,SUGAR\",12,8/11/2011 10:14,10.79,,United Kingdom\n",
            "563020,21216,\"SET 3 RETROSPOT TEA,COFFEE,SUGAR\",4,8/11/2011 12:58,4.95,12428,Finland\n",
            "563100,85159B,\"WHITE TEA,COFFEE,SUGAR JARS\",12,8/12/2011 9:57,1.95,12381,Norway\n",
            "563242,21216,\"SET 3 RETROSPOT TEA,COFFEE,SUGAR\",12,8/15/2011 10:28,4.25,17173,United Kingdom\n",
            "563366,21216,\"SET 3 RETROSPOT TEA,COFFEE,SUGAR\",12,8/16/2011 8:52,4.95,15373,United Kingdom\n",
            "563370,21216,\"SET 3 RETROSPOT TEA,COFFEE,SUGAR\",4,8/16/2011 9:34,4.95,16153,United Kingdom\n",
            "563482,21216,\"SET 3 RETROSPOT TEA,COFFEE,SUGAR\",1,8/16/2011 15:54,4.95,17097,Spain\n",
            "563507,85159A,\"BLACK TEA,COFFEE,SUGAR JARS\",12,8/17/2011 10:08,1.95,14414,United Kingdom\n",
            "563546,85159B,\"WHITE TEA,COFFEE,SUGAR JARS\",6,8/17/2011 12:24,1.95,16729,United Kingdom\n",
            "563549,21216,\"SET 3 RETROSPOT TEA,COFFEE,SUGAR\",2,8/17/2011 12:34,10.79,,United Kingdom\n",
            "563557,21216,\"SET 3 RETROSPOT TEA,COFFEE,SUGAR\",4,8/17/2011 13:33,4.95,15786,United Kingdom\n",
            "563565,21216,\"SET 3 RETROSPOT TEA,COFFEE,SUGAR\",2,8/17/2011 14:22,4.95,17338,United Kingdom\n",
            "C563610,21216,\"SET 3 RETROSPOT TEA,COFFEE,SUGAR\",-1,8/18/2011 6:36,4.25,14937,Channel Islands\n",
            "563617,21216,\"SET 3 RETROSPOT TEA,COFFEE,SUGAR\",8,8/18/2011 9:45,4.95,15301,United Kingdom\n",
            "563658,21216,\"SET 3 RETROSPOT TEA,COFFEE,SUGAR\",24,8/18/2011 10:57,4.25,15505,United Kingdom\n",
            "563720,85159A,\"BLACK TEA,COFFEE,SUGAR JARS\",1,8/18/2011 16:24,1.95,15867,United Kingdom\n",
            "563935,21216,\"SET 3 RETROSPOT TEA,COFFEE,SUGAR\",1,8/21/2011 16:24,4.95,15547,United Kingdom\n",
            "564087,21216,\"SET 3 RETROSPOT TEA,COFFEE,SUGAR\",8,8/23/2011 9:38,4.95,,Hong Kong\n",
            "C564108,21216,\"SET 3 RETROSPOT TEA,COFFEE,SUGAR\",-1,8/23/2011 10:42,4.95,12428,Finland\n",
            "564199,21216,\"SET 3 RETROSPOT TEA,COFFEE,SUGAR\",1,8/23/2011 17:31,4.95,13263,United Kingdom\n",
            "564221,21216,\"SET 3 RETROSPOT TEA,COFFEE,SUGAR\",6,8/24/2011 9:36,10.79,,United Kingdom\n",
            "564223,21216,\"SET 3 RETROSPOT TEA,COFFEE,SUGAR\",4,8/24/2011 9:46,4.95,13013,United Kingdom\n",
            "564227,21216,\"SET 3 RETROSPOT TEA,COFFEE,SUGAR\",4,8/24/2011 10:19,4.95,15249,United Kingdom\n",
            "564231,21216,\"SET 3 RETROSPOT TEA,COFFEE,SUGAR\",4,8/24/2011 10:22,4.95,13468,United Kingdom\n",
            "C564232,85159B,\"WHITE TEA,COFFEE,SUGAR JARS\",-8,8/24/2011 10:25,1.95,13517,United Kingdom\n",
            "564573,21216,\"SET 3 RETROSPOT TEA,COFFEE,SUGAR\",1,8/26/2011 11:19,4.95,14606,United Kingdom\n",
            "564626,21216,\"SET 3 RETROSPOT TEA,COFFEE,SUGAR\",12,8/26/2011 11:40,4.25,18167,United Kingdom\n",
            "564740,21216,\"SET 3 RETROSPOT TEA,COFFEE,SUGAR\",1,8/28/2011 14:39,4.95,14044,United Kingdom\n",
            "564835,21216,\"SET 3 RETROSPOT TEA,COFFEE,SUGAR\",1,8/30/2011 12:31,10.79,,United Kingdom\n",
            "564857,21216,\"SET 3 RETROSPOT TEA,COFFEE,SUGAR\",1,8/31/2011 9:23,10.79,,United Kingdom\n",
            "564860,85159A,\"BLACK TEA,COFFEE,SUGAR JARS\",12,8/31/2011 10:06,1.95,17725,United Kingdom\n",
            "564860,85159B,\"WHITE TEA,COFFEE,SUGAR JARS\",12,8/31/2011 10:06,1.95,17725,United Kingdom\n",
            "564974,21216,\"SET 3 RETROSPOT TEA,COFFEE,SUGAR\",1,8/31/2011 15:32,10.79,,United Kingdom\n",
            "564975,21216,\"SET 3 RETROSPOT TEA,COFFEE,SUGAR\",1,8/31/2011 15:35,4.95,17097,Spain\n",
            "C565050,85159B,\"WHITE TEA,COFFEE,SUGAR JARS\",-1,8/31/2011 17:10,1.95,12381,Norway\n",
            "565234,21216,\"SET 3 RETROSPOT TEA,COFFEE,SUGAR\",2,9/2/2011 9:38,10.79,,United Kingdom\n",
            "565286,21216,\"SET 3 RETROSPOT TEA,COFFEE,SUGAR\",2,9/2/2011 11:39,10.79,,United Kingdom\n",
            "565324,21216,\"SET 3 RETROSPOT TEA,COFFEE,SUGAR\",2,9/2/2011 13:18,4.95,13232,United Kingdom\n",
            "565432,85159B,\"WHITE TEA,COFFEE,SUGAR JARS\",1,9/4/2011 13:16,1.95,16241,United Kingdom\n",
            "565617,21216,\"SET 3 RETROSPOT TEA,COFFEE,SUGAR\",1,9/5/2011 15:30,4.95,,United Kingdom\n",
            "565766,21216,\"SET 3 RETROSPOT TEA,COFFEE,SUGAR\",1,9/6/2011 14:23,4.95,17841,United Kingdom\n",
            "565840,21216,\"SET 3 RETROSPOT TEA,COFFEE,SUGAR\",1,9/7/2011 12:02,10.79,,United Kingdom\n",
            "565841,21216,\"SET 3 RETROSPOT TEA,COFFEE,SUGAR\",1,9/7/2011 12:04,10.79,,United Kingdom\n",
            "565847,21216,\"SET 3 RETROSPOT TEA,COFFEE,SUGAR\",5,9/7/2011 12:44,10.79,,United Kingdom\n",
            "565857,21216,\"SET 3 RETROSPOT TEA,COFFEE,SUGAR\",4,9/7/2011 14:13,4.95,14911,EIRE\n",
            "566024,21216,\"SET 3 RETROSPOT TEA,COFFEE,SUGAR\",4,9/8/2011 12:51,4.95,13871,United Kingdom\n",
            "566041,21216,\"SET 3 RETROSPOT TEA,COFFEE,SUGAR\",8,9/8/2011 13:48,4.95,13814,Germany\n",
            "566073,21216,\"SET 3 RETROSPOT TEA,COFFEE,SUGAR\",2,9/8/2011 19:58,4.95,14562,United Kingdom\n",
            "566076,21216,\"SET 3 RETROSPOT TEA,COFFEE,SUGAR\",4,9/9/2011 9:13,4.95,12449,Belgium\n",
            "566194,21216,\"SET 3 RETROSPOT TEA,COFFEE,SUGAR\",1,9/9/2011 13:42,4.95,14711,United Kingdom\n",
            "566268,21216,\"SET 3 RETROSPOT TEA,COFFEE,SUGAR\",4,9/11/2011 13:38,4.95,13813,Germany\n",
            "566329,21216,\"SET 3 RETROSPOT TEA,COFFEE,SUGAR\",2,9/12/2011 12:20,4.95,14527,United Kingdom\n",
            "566563,21216,\"SET 3 RETROSPOT TEA,COFFEE,SUGAR\",4,9/13/2011 12:22,4.95,12909,United Kingdom\n",
            "566787,21216,\"SET 3 RETROSPOT TEA,COFFEE,SUGAR\",1,9/15/2011 10:31,10.79,,United Kingdom\n",
            "566985,21216,\"SET 3 RETROSPOT TEA,COFFEE,SUGAR\",1,9/16/2011 10:42,10.79,,United Kingdom\n",
            "567160,21216,\"SET 3 RETROSPOT TEA,COFFEE,SUGAR\",1,9/18/2011 10:35,4.95,14562,United Kingdom\n",
            "567380,21216,\"SET 3 RETROSPOT TEA,COFFEE,SUGAR\",4,9/20/2011 10:06,4.95,12620,France\n",
            "567380,85159B,\"WHITE TEA,COFFEE,SUGAR JARS\",12,9/20/2011 10:06,1.95,12620,France\n",
            "567515,21216,\"SET 3 RETROSPOT TEA,COFFEE,SUGAR\",24,9/20/2011 15:29,4.25,16839,United Kingdom\n",
            "567666,21216,\"SET 3 RETROSPOT TEA,COFFEE,SUGAR\",4,9/21/2011 15:23,4.95,12520,Germany\n",
            "C567716,21216,\"SET 3 RETROSPOT TEA,COFFEE,SUGAR\",-1,9/22/2011 10:16,4.95,14543,United Kingdom\n",
            "568057,21216,\"SET 3 RETROSPOT TEA,COFFEE,SUGAR\",1,9/23/2011 12:56,10.79,,United Kingdom\n",
            "568188,85159A,\"BLACK TEA,COFFEE,SUGAR JARS\",5,9/25/2011 14:33,1.95,16049,United Kingdom\n",
            "568346,21216,\"SET 3 RETROSPOT TEA,COFFEE,SUGAR\",1,9/26/2011 15:28,10.79,14096,United Kingdom\n",
            "568394,21216,\"SET 3 RETROSPOT TEA,COFFEE,SUGAR\",4,9/27/2011 10:20,4.95,13314,United Kingdom\n",
            "568411,21216,\"SET 3 RETROSPOT TEA,COFFEE,SUGAR\",3,9/27/2011 10:52,10.79,,United Kingdom\n",
            "568578,21216,\"SET 3 RETROSPOT TEA,COFFEE,SUGAR\",4,9/28/2011 9:43,4.95,15301,United Kingdom\n",
            "568590,85159B,\"WHITE TEA,COFFEE,SUGAR JARS\",12,9/28/2011 10:29,1.95,13126,United Kingdom\n",
            "568712,21216,\"SET 3 RETROSPOT TEA,COFFEE,SUGAR\",1,9/28/2011 15:50,4.95,17841,United Kingdom\n",
            "568712,21216,\"SET 3 RETROSPOT TEA,COFFEE,SUGAR\",1,9/28/2011 15:50,4.95,17841,United Kingdom\n",
            "568712,21216,\"SET 3 RETROSPOT TEA,COFFEE,SUGAR\",1,9/28/2011 15:50,4.95,17841,United Kingdom\n",
            "568995,21216,\"SET 3 RETROSPOT TEA,COFFEE,SUGAR\",24,9/29/2011 16:53,4.25,16779,United Kingdom\n",
            "569010,21216,\"SET 3 RETROSPOT TEA,COFFEE,SUGAR\",72,9/30/2011 7:36,4.25,14156,EIRE\n",
            "569027,21216,\"SET 3 RETROSPOT TEA,COFFEE,SUGAR\",4,9/30/2011 10:19,4.95,13089,United Kingdom\n",
            "569105,85159B,\"WHITE TEA,COFFEE,SUGAR JARS\",1,9/30/2011 12:35,1.95,16729,United Kingdom\n",
            "569134,85159B,\"WHITE TEA,COFFEE,SUGAR JARS\",12,9/30/2011 14:07,1.95,15411,United Kingdom\n",
            "569137,21216,\"SET 3 RETROSPOT TEA,COFFEE,SUGAR\",2,9/30/2011 14:45,10.79,,United Kingdom\n",
            "569229,21216,\"SET 3 RETROSPOT TEA,COFFEE,SUGAR\",1,10/2/2011 14:56,4.95,14502,United Kingdom\n",
            "569383,85159A,\"BLACK TEA,COFFEE,SUGAR JARS\",12,10/3/2011 16:46,1.95,15159,United Kingdom\n",
            "569383,85159B,\"WHITE TEA,COFFEE,SUGAR JARS\",12,10/3/2011 16:46,1.95,15159,United Kingdom\n",
            "569415,21216,\"SET 3 RETROSPOT TEA,COFFEE,SUGAR\",1,10/4/2011 10:14,10.79,,United Kingdom\n",
            "569544,21216,\"SET 3 RETROSPOT TEA,COFFEE,SUGAR\",1,10/4/2011 16:33,10.79,,United Kingdom\n",
            "570016,21216,\"SET 3 RETROSPOT TEA,COFFEE,SUGAR\",4,10/7/2011 10:06,4.95,14911,EIRE\n",
            "570123,21216,\"SET 3 RETROSPOT TEA,COFFEE,SUGAR\",1,10/7/2011 13:09,4.95,13314,United Kingdom\n",
            "570123,21216,\"SET 3 RETROSPOT TEA,COFFEE,SUGAR\",3,10/7/2011 13:09,4.95,13314,United Kingdom\n",
            "570258,21216,\"SET 3 RETROSPOT TEA,COFFEE,SUGAR\",3,10/10/2011 9:56,10.79,,United Kingdom\n",
            "570459,85159B,\"WHITE TEA,COFFEE,SUGAR JARS\",12,10/10/2011 15:42,1.95,15801,United Kingdom\n",
            "570499,21216,\"SET 3 RETROSPOT TEA,COFFEE,SUGAR\",4,10/11/2011 9:19,4.95,12772,Portugal\n",
            "570555,21216,\"SET 3 RETROSPOT TEA,COFFEE,SUGAR\",4,10/11/2011 11:03,4.95,17119,United Kingdom\n",
            "570650,21216,\"SET 3 RETROSPOT TEA,COFFEE,SUGAR\",1,10/11/2011 13:13,4.95,13263,United Kingdom\n",
            "570797,85159B,\"WHITE TEA,COFFEE,SUGAR JARS\",6,10/12/2011 12:24,1.95,15311,United Kingdom\n",
            "570919,21216,\"SET 3 RETROSPOT TEA,COFFEE,SUGAR\",4,10/13/2011 10:57,4.95,12584,Italy\n",
            "C571003,85159B,\"WHITE TEA,COFFEE,SUGAR JARS\",-1,10/13/2011 12:04,1.95,15801,United Kingdom\n",
            "571041,21216,\"SET 3 RETROSPOT TEA,COFFEE,SUGAR\",2,10/13/2011 13:00,4.95,14527,United Kingdom\n",
            "571061,21216,\"SET 3 RETROSPOT TEA,COFFEE,SUGAR\",2,10/13/2011 14:33,10.79,,United Kingdom\n",
            "571305,21216,\"SET 3 RETROSPOT TEA,COFFEE,SUGAR\",5,10/17/2011 9:55,10.79,,United Kingdom\n",
            "571548,21216,\"SET 3 RETROSPOT TEA,COFFEE,SUGAR\",24,10/18/2011 7:56,4.25,15505,United Kingdom\n",
            "571797,21216,\"SET 3 RETROSPOT TEA,COFFEE,SUGAR\",2,10/19/2011 11:41,10.79,,United Kingdom\n",
            "C571859,85159B,\"WHITE TEA,COFFEE,SUGAR JARS\",-1,10/19/2011 13:39,1.95,15159,United Kingdom\n",
            "C571859,85159A,\"BLACK TEA,COFFEE,SUGAR JARS\",-1,10/19/2011 13:39,1.95,15159,United Kingdom\n",
            "C571893,21216,\"SET 3 RETROSPOT TEA,COFFEE,SUGAR\",-4,10/19/2011 14:13,4.95,13314,United Kingdom\n",
            "572055,21216,\"SET 3 RETROSPOT TEA,COFFEE,SUGAR\",1,10/20/2011 12:34,4.95,17346,United Kingdom\n",
            "572301,21216,\"SET 3 RETROSPOT TEA,COFFEE,SUGAR\",1,10/23/2011 14:41,4.95,16794,United Kingdom\n",
            "572540,21216,\"SET 3 RETROSPOT TEA,COFFEE,SUGAR\",2,10/24/2011 16:17,10.79,,United Kingdom\n",
            "572688,85159B,\"WHITE TEA,COFFEE,SUGAR JARS\",12,10/25/2011 14:09,1.95,13028,United Kingdom\n",
            "C573010,21216,\"SET 3 RETROSPOT TEA,COFFEE,SUGAR\",-1,10/27/2011 12:29,4.95,13735,United Kingdom\n",
            "573083,21216,\"SET 3 RETROSPOT TEA,COFFEE,SUGAR\",2,10/27/2011 14:22,4.95,13735,United Kingdom\n",
            "573265,85159B,\"WHITE TEA,COFFEE,SUGAR JARS\",12,10/28/2011 12:39,1.95,16150,United Kingdom\n",
            "573340,21216,\"SET 3 RETROSPOT TEA,COFFEE,SUGAR\",1,10/30/2011 11:55,4.95,14159,United Kingdom\n",
            "573508,21216,\"SET 3 RETROSPOT TEA,COFFEE,SUGAR\",4,10/31/2011 12:11,4.95,12552,Italy\n",
            "573585,21216,\"SET 3 RETROSPOT TEA,COFFEE,SUGAR\",1,10/31/2011 14:41,10.79,,United Kingdom\n",
            "573601,21216,\"SET 3 RETROSPOT TEA,COFFEE,SUGAR\",1,10/31/2011 15:24,10.79,,United Kingdom\n",
            "C573750,85159B,\"WHITE TEA,COFFEE,SUGAR JARS\",-2,11/1/2011 9:29,1.95,16150,United Kingdom\n",
            "574700,21216,\"SET 3 RETROSPOT TEA,COFFEE,SUGAR\",1,11/6/2011 13:53,4.95,16033,United Kingdom\n",
            "574733,21216,\"SET 3 RETROSPOT TEA,COFFEE,SUGAR\",1,11/6/2011 15:17,4.95,17082,United Kingdom\n",
            "574740,85159A,\"BLACK TEA,COFFEE,SUGAR JARS\",12,11/6/2011 16:07,1.95,12357,Switzerland\n",
            "574740,85159B,\"WHITE TEA,COFFEE,SUGAR JARS\",12,11/6/2011 16:07,1.95,12357,Switzerland\n",
            "574740,21216,\"SET 3 RETROSPOT TEA,COFFEE,SUGAR\",8,11/6/2011 16:07,4.95,12357,Switzerland\n",
            "574856,21216,\"SET 3 RETROSPOT TEA,COFFEE,SUGAR\",1,11/7/2011 12:06,10.79,,United Kingdom\n",
            "574863,21216,\"SET 3 RETROSPOT TEA,COFFEE,SUGAR\",1,11/7/2011 12:29,4.95,15719,United Kingdom\n",
            "574914,85159B,\"WHITE TEA,COFFEE,SUGAR JARS\",1,11/7/2011 16:16,1.95,17109,United Kingdom\n",
            "574951,21216,\"SET 3 RETROSPOT TEA,COFFEE,SUGAR\",4,11/8/2011 9:44,4.95,15763,United Kingdom\n",
            "575003,21216,\"SET 3 RETROSPOT TEA,COFFEE,SUGAR\",4,11/8/2011 11:09,4.95,15950,United Kingdom\n",
            "575078,21216,\"SET 3 RETROSPOT TEA,COFFEE,SUGAR\",4,11/8/2011 13:25,4.95,17633,United Kingdom\n",
            "575138,21216,\"SET 3 RETROSPOT TEA,COFFEE,SUGAR\",5,11/8/2011 15:24,10.79,,United Kingdom\n",
            "575504,21216,\"SET 3 RETROSPOT TEA,COFFEE,SUGAR\",4,11/10/2011 10:29,4.95,14895,United Kingdom\n",
            "575691,21216,\"SET 3 RETROSPOT TEA,COFFEE,SUGAR\",4,11/10/2011 16:21,4.95,14180,United Kingdom\n",
            "576339,21216,\"SET 3 RETROSPOT TEA,COFFEE,SUGAR\",2,11/14/2011 15:27,10.79,14096,United Kingdom\n",
            "576447,21216,\"SET 3 RETROSPOT TEA,COFFEE,SUGAR\",4,11/15/2011 11:30,4.95,13949,United Kingdom\n",
            "576592,85159A,\"BLACK TEA,COFFEE,SUGAR JARS\",4,11/15/2011 14:47,1.95,13614,United Kingdom\n",
            "576605,21216,\"SET 3 RETROSPOT TEA,COFFEE,SUGAR\",2,11/15/2011 15:33,4.95,14562,United Kingdom\n",
            "576644,21216,\"SET 3 RETROSPOT TEA,COFFEE,SUGAR\",3,11/16/2011 10:01,10.79,,United Kingdom\n",
            "576923,21216,\"SET 3 RETROSPOT TEA,COFFEE,SUGAR\",24,11/17/2011 10:52,4.25,12753,Japan\n",
            "577038,85159B,\"WHITE TEA,COFFEE,SUGAR JARS\",1,11/17/2011 13:30,1.95,14796,United Kingdom\n",
            "577038,85159A,\"BLACK TEA,COFFEE,SUGAR JARS\",1,11/17/2011 13:30,1.95,14796,United Kingdom\n",
            "577094,21216,\"SET 3 RETROSPOT TEA,COFFEE,SUGAR\",1,11/17/2011 16:39,4.95,15435,United Kingdom\n",
            "577531,21216,\"SET 3 RETROSPOT TEA,COFFEE,SUGAR\",2,11/20/2011 13:58,10.79,,United Kingdom\n",
            "577549,21216,\"SET 3 RETROSPOT TEA,COFFEE,SUGAR\",3,11/20/2011 15:00,4.95,17841,United Kingdom\n",
            "577809,21216,\"SET 3 RETROSPOT TEA,COFFEE,SUGAR\",4,11/22/2011 8:34,4.95,12584,Italy\n",
            "578149,21216,\"SET 3 RETROSPOT TEA,COFFEE,SUGAR\",6,11/23/2011 11:11,10.79,,United Kingdom\n",
            "578243,21216,\"SET 3 RETROSPOT TEA,COFFEE,SUGAR\",4,11/23/2011 12:33,4.95,13448,United Kingdom\n",
            "578532,85159B,\"WHITE TEA,COFFEE,SUGAR JARS\",12,11/24/2011 14:40,1.95,18130,United Kingdom\n",
            "578685,21216,\"SET 3 RETROSPOT TEA,COFFEE,SUGAR\",24,11/25/2011 9:07,4.25,16779,United Kingdom\n",
            "578833,21216,\"SET 3 RETROSPOT TEA,COFFEE,SUGAR\",1,11/25/2011 15:23,10.79,,United Kingdom\n",
            "578834,21216,\"SET 3 RETROSPOT TEA,COFFEE,SUGAR\",1,11/25/2011 15:32,4.95,18109,United Kingdom\n",
            "578926,21216,\"SET 3 RETROSPOT TEA,COFFEE,SUGAR\",4,11/27/2011 12:24,4.95,18156,United Kingdom\n",
            "579152,21216,\"SET 3 RETROSPOT TEA,COFFEE,SUGAR\",4,11/28/2011 13:26,4.95,12479,Germany\n",
            "579283,21216,\"SET 3 RETROSPOT TEA,COFFEE,SUGAR\",4,11/29/2011 10:45,4.95,13883,United Kingdom\n",
            "579297,21216,\"SET 3 RETROSPOT TEA,COFFEE,SUGAR\",4,11/29/2011 11:23,10.79,,United Kingdom\n",
            "579411,21216,\"SET 3 RETROSPOT TEA,COFFEE,SUGAR\",2,11/29/2011 12:46,4.95,16794,United Kingdom\n",
            "579471,21216,\"SET 3 RETROSPOT TEA,COFFEE,SUGAR\",1,11/29/2011 15:08,10.79,,United Kingdom\n",
            "579508,21216,\"SET 3 RETROSPOT TEA,COFFEE,SUGAR\",1,11/29/2011 16:33,10.79,,United Kingdom\n",
            "579550,21216,\"SET 3 RETROSPOT TEA,COFFEE,SUGAR\",4,11/30/2011 10:48,4.95,12630,Finland\n",
            "579561,21216,\"SET 3 RETROSPOT TEA,COFFEE,SUGAR\",1,11/30/2011 11:32,4.95,16115,United Kingdom\n",
            "579692,21216,\"SET 3 RETROSPOT TEA,COFFEE,SUGAR\",24,11/30/2011 14:05,4.25,12433,Norway\n",
            "579751,21216,\"SET 3 RETROSPOT TEA,COFFEE,SUGAR\",1,11/30/2011 14:46,10.79,,United Kingdom\n",
            "579881,85159A,\"BLACK TEA,COFFEE,SUGAR JARS\",12,11/30/2011 17:22,1.95,12429,Denmark\n",
            "579881,85159B,\"WHITE TEA,COFFEE,SUGAR JARS\",24,11/30/2011 17:22,1.95,12429,Denmark\n",
            "579885,85159A,\"BLACK TEA,COFFEE,SUGAR JARS\",1,11/30/2011 17:37,1.95,15444,United Kingdom\n",
            "C579903,85159B,\"WHITE TEA,COFFEE,SUGAR JARS\",-7,12/1/2011 8:41,1.95,18130,United Kingdom\n",
            "580043,21216,\"SET 3 RETROSPOT TEA,COFFEE,SUGAR\",1,12/1/2011 12:25,4.95,14527,United Kingdom\n",
            "580136,21216,\"SET 3 RETROSPOT TEA,COFFEE,SUGAR\",1,12/1/2011 19:42,4.95,17841,United Kingdom\n",
            "580311,21216,\"SET 3 RETROSPOT TEA,COFFEE,SUGAR\",4,12/2/2011 14:48,4.95,18245,United Kingdom\n",
            "580527,85159A,\"BLACK TEA,COFFEE,SUGAR JARS\",1,12/4/2011 15:19,1.95,13736,United Kingdom\n",
            "580527,21216,\"SET 3 RETROSPOT TEA,COFFEE,SUGAR\",2,12/4/2011 15:19,4.95,13736,United Kingdom\n",
            "580610,21216,\"SET 3 RETROSPOT TEA,COFFEE,SUGAR\",1,12/5/2011 11:48,10.79,,United Kingdom\n",
            "580612,21216,\"SET 3 RETROSPOT TEA,COFFEE,SUGAR\",2,12/5/2011 11:58,10.79,,United Kingdom\n",
            "580983,21216,\"SET 3 RETROSPOT TEA,COFFEE,SUGAR\",1,12/6/2011 16:26,10.79,,United Kingdom\n",
            "581023,21216,\"SET 3 RETROSPOT TEA,COFFEE,SUGAR\",1,12/7/2011 10:35,10.79,,United Kingdom\n",
            "581193,21216,\"SET 3 RETROSPOT TEA,COFFEE,SUGAR\",1,12/7/2011 17:05,4.95,17097,Spain\n",
            "581238,21216,\"SET 3 RETROSPOT TEA,COFFEE,SUGAR\",2,12/8/2011 10:53,10.79,,United Kingdom\n",
            "581450,21216,\"SET 3 RETROSPOT TEA,COFFEE,SUGAR\",1,12/8/2011 17:54,4.95,16794,United Kingdom\n",
            "C581466,21216,\"SET 3 RETROSPOT TEA,COFFEE,SUGAR\",-1,12/8/2011 19:20,4.95,13883,United Kingdom\n",
            "581476,21216,\"SET 3 RETROSPOT TEA,COFFEE,SUGAR\",24,12/9/2011 8:48,4.25,12433,Norway\n",
            "581498,21216,\"SET 3 RETROSPOT TEA,COFFEE,SUGAR\",2,12/9/2011 10:26,10.79,,United Kingdom\n"
          ]
        }
      ]
    },
    {
      "cell_type": "markdown",
      "source": [
        "### Data Issues\n",
        " "
      ],
      "metadata": {
        "id": "aB4RuaQqTaJy"
      }
    },
    {
      "cell_type": "markdown",
      "source": [
        "#### Python Pandas Approach"
      ],
      "metadata": {
        "id": "YfxZkbDgitQM"
      }
    },
    {
      "cell_type": "code",
      "source": [
        "import pandas as pd\n",
        "#p_df = pd.read_csv('datafile.csv',header=None)   # throws errors because of non utf-encoding \n",
        "                                                  # https://stackoverflow.com/questions/18171739/unicodedecodeerror-when-reading-csv-file-in-pandas-with-python\n",
        "p_df = pd.read_csv('datafile.csv',encoding = \"ISO-8859-1\",header=None)\n",
        "#p_df = pd.read_csv('datafile.csv',encoding = \"latin\",header=None)\n",
        "#p_df = pd.read_csv('datafile.csv',encoding = \"latin\")\n",
        "p_df2 = p_df.replace(',', ' ', regex=True)\n",
        "p_df2.to_csv('datafile2.csv',index=False,sep=',',header=False)\n",
        "p_df2.shape"
      ],
      "metadata": {
        "id": "dKFwujzCSpbf",
        "outputId": "a667c23c-ca47-4b58-a5ec-4bd05a4edffe",
        "colab": {
          "base_uri": "https://localhost:8080/"
        }
      },
      "execution_count": null,
      "outputs": [
        {
          "output_type": "execute_result",
          "data": {
            "text/plain": [
              "(541909, 8)"
            ]
          },
          "metadata": {},
          "execution_count": 24
        }
      ]
    },
    {
      "cell_type": "code",
      "source": [
        "#drop table\n",
        "!hive -S -database praxisDB -e 'DROP table if exists eCommerce2'\n",
        "#create table\n",
        "# Invoice Date is being treated as a STRING because input data is not correctly formatted\n",
        "!hive -S -database praxisDB -e \" \\\n",
        "CREATE TABLE eCommerce2 ( \\\n",
        "InvoiceNo varchar(10), \\\n",
        "StockCode varchar(10), \\\n",
        "Description varchar(50), \\\n",
        "Quantity int, \\\n",
        "InvoiceDate string, \\\n",
        "UnitPrice decimal(6,2), \\\n",
        "CustomerID varchar(10), \\\n",
        "Country varchar(15) \\\n",
        ") row format delimited fields terminated by ','; \\\n",
        "\""
      ],
      "metadata": {
        "id": "pbHEHKfBSzLJ",
        "outputId": "16488080-af0f-4aa4-e716-997253b24913",
        "colab": {
          "base_uri": "https://localhost:8080/"
        }
      },
      "execution_count": null,
      "outputs": [
        {
          "output_type": "stream",
          "name": "stdout",
          "text": [
            "Hive Session ID = d965a42c-8abf-43f8-85fd-dd4e85671398\n",
            "Hive Session ID = 3111eee1-6df4-4999-91d2-5cf5641f0437\n",
            "Hive Session ID = f6040b06-1c8b-488e-9be5-8a1ed56752da\n",
            "Hive Session ID = d3049dc7-46ed-47c8-85c1-a31d40754246\n"
          ]
        }
      ]
    },
    {
      "cell_type": "code",
      "source": [
        "# delete all rows from table\n",
        "!hive -S -database praxisdb -e 'TRUNCATE TABLE eCommerce2'\n",
        "# LOAD\n",
        "!hive -S -database praxisdb -e \"LOAD DATA LOCAL INPATH 'datafile2.csv' INTO TABLE eCommerce2\""
      ],
      "metadata": {
        "id": "2wNkWN8BTCAN",
        "outputId": "671e5161-4ade-4f77-86ce-0abc663d4d99",
        "colab": {
          "base_uri": "https://localhost:8080/"
        }
      },
      "execution_count": null,
      "outputs": [
        {
          "output_type": "stream",
          "name": "stdout",
          "text": [
            "Hive Session ID = f080401e-380b-4a51-b0bb-9c63140662e1\n",
            "Hive Session ID = b879b923-716d-465a-9ca9-419cab98e76e\n",
            "Hive Session ID = 087197dc-6357-4cd9-b728-d6ceb611ddd4\n",
            "Hive Session ID = cc3c140d-aaf6-4b25-bd01-50800e747dfb\n"
          ]
        }
      ]
    },
    {
      "cell_type": "code",
      "source": [
        "!hive -S -database praxisdb -e \"select  distinct(country) from eCommerce2\""
      ],
      "metadata": {
        "id": "RbzHMpkWTP3N",
        "outputId": "67919da7-bed5-4269-8e6b-d30dbf42a4ff",
        "colab": {
          "base_uri": "https://localhost:8080/"
        }
      },
      "execution_count": null,
      "outputs": [
        {
          "output_type": "stream",
          "name": "stdout",
          "text": [
            "Hive Session ID = a6004f30-f7b0-445d-adec-e826989eae7c\n",
            "Hive Session ID = 2baded0e-4e6f-43bf-95b5-7b81e8065bba\n",
            "Australia\n",
            "Austria\n",
            "Bahrain\n",
            "Belgium\n",
            "Brazil\n",
            "Canada\n",
            "Channel Islands\n",
            "Cyprus\n",
            "Czech Republic\n",
            "Denmark\n",
            "EIRE\n",
            "European Commun\n",
            "Finland\n",
            "France\n",
            "Germany\n",
            "Greece\n",
            "Hong Kong\n",
            "Iceland\n",
            "Israel\n",
            "Italy\n",
            "Japan\n",
            "Lebanon\n",
            "Lithuania\n",
            "Malta\n",
            "Netherlands\n",
            "Norway\n",
            "Poland\n",
            "Portugal\n",
            "RSA\n",
            "Saudi Arabia\n",
            "Singapore\n",
            "Spain\n",
            "Sweden\n",
            "Switzerland\n",
            "USA\n",
            "United Arab Emi\n",
            "United Kingdom\n",
            "Unspecified\n"
          ]
        }
      ]
    },
    {
      "cell_type": "code",
      "source": [
        "!hive -S -database praxisdb -e \"select  count(InvoiceNo), sum(Quantity), country from eCommerce2 group by country\""
      ],
      "metadata": {
        "id": "L0XeICyjUU0F",
        "outputId": "8458f40d-51b9-41da-8011-87fbe1ee4bc3",
        "colab": {
          "base_uri": "https://localhost:8080/"
        }
      },
      "execution_count": null,
      "outputs": [
        {
          "output_type": "stream",
          "name": "stdout",
          "text": [
            "Hive Session ID = f483e65a-699d-4180-858e-f5e316f883c7\n",
            "Hive Session ID = 1c1c0d75-df7c-4282-b028-bf3d9627615e\n",
            "1259\t83653\tAustralia\n",
            "401\t4827\tAustria\n",
            "19\t260\tBahrain\n",
            "2069\t23152\tBelgium\n",
            "32\t356\tBrazil\n",
            "151\t2763\tCanada\n",
            "758\t9479\tChannel Islands\n",
            "622\t6317\tCyprus\n",
            "30\t592\tCzech Republic\n",
            "389\t8188\tDenmark\n",
            "8196\t142637\tEIRE\n",
            "61\t497\tEuropean Commun\n",
            "695\t10666\tFinland\n",
            "8557\t110480\tFrance\n",
            "9495\t117448\tGermany\n",
            "146\t1556\tGreece\n",
            "288\t4769\tHong Kong\n",
            "182\t2458\tIceland\n",
            "297\t4353\tIsrael\n",
            "803\t7999\tItaly\n",
            "358\t25218\tJapan\n",
            "45\t386\tLebanon\n",
            "35\t652\tLithuania\n",
            "127\t944\tMalta\n",
            "2371\t200128\tNetherlands\n",
            "1086\t19247\tNorway\n",
            "341\t3653\tPoland\n",
            "1519\t16180\tPortugal\n",
            "58\t352\tRSA\n",
            "10\t75\tSaudi Arabia\n",
            "229\t5234\tSingapore\n",
            "2533\t26824\tSpain\n",
            "462\t35637\tSweden\n",
            "2002\t30325\tSwitzerland\n",
            "291\t1034\tUSA\n",
            "68\t982\tUnited Arab Emi\n",
            "495478\t4263829\tUnited Kingdom\n",
            "446\t3300\tUnspecified\n"
          ]
        }
      ]
    },
    {
      "cell_type": "markdown",
      "source": [
        "#### Serde\n",
        "https://stackoverflow.com/questions/13628658/hive-load-csv-with-commas-in-quoted-fields <br>\n",
        "https://cwiki.apache.org/confluence/display/Hive/CSV+Serde"
      ],
      "metadata": {
        "id": "6JUtxoJJgZ79"
      }
    },
    {
      "cell_type": "code",
      "source": [
        "#drop table\n",
        "!hive -S -database praxisDB -e 'DROP table if exists eCommerce3'\n",
        "#create table\n",
        "# Invoice Date is being treated as a STRING because input data is not correctly formatted\n",
        "!hive -S -database praxisDB -e \" \\\n",
        "CREATE TABLE eCommerce3 ( \\\n",
        "InvoiceNo varchar(10), \\\n",
        "StockCode varchar(10), \\\n",
        "Description varchar(50), \\\n",
        "Quantity int, \\\n",
        "InvoiceDate string, \\\n",
        "UnitPrice decimal(6,2), \\\n",
        "CustomerID varchar(10), \\\n",
        "Country varchar(15) \\\n",
        ") ROW FORMAT SERDE 'org.apache.hadoop.hive.serde2.OpenCSVSerde' STORED AS TEXTFILE; \""
      ],
      "metadata": {
        "id": "snWbZcLDgbyl",
        "outputId": "1b5de937-3913-4985-8de1-af98032e402d",
        "colab": {
          "base_uri": "https://localhost:8080/"
        }
      },
      "execution_count": 32,
      "outputs": [
        {
          "output_type": "stream",
          "name": "stdout",
          "text": [
            "Hive Session ID = 5dae98a6-363f-42de-8394-64c51b45b6a3\n",
            "Hive Session ID = 7868b44b-d499-48f1-938c-1e629f874118\n",
            "Hive Session ID = e7d0358d-c2de-435c-9ed0-eb53f5cc9c72\n",
            "Hive Session ID = cb703385-159c-4a40-b724-4d4f9995ca30\n"
          ]
        }
      ]
    },
    {
      "cell_type": "code",
      "source": [
        "# delete all rows from table\n",
        "!hive -S -database praxisdb -e 'TRUNCATE TABLE eCommerce3'\n",
        "# LOAD\n",
        "!hive -S -database praxisdb -e \"LOAD DATA LOCAL INPATH 'datafile.csv' INTO TABLE eCommerce3\""
      ],
      "metadata": {
        "id": "UGvQeCrmh6Cr",
        "outputId": "6ec13cc5-0118-4704-eeff-fdb7a1811f37",
        "colab": {
          "base_uri": "https://localhost:8080/"
        }
      },
      "execution_count": 33,
      "outputs": [
        {
          "output_type": "stream",
          "name": "stdout",
          "text": [
            "Hive Session ID = 523cb483-8297-413d-8f1c-96c4bcc19aa3\n",
            "Hive Session ID = 3c86c938-ae54-4c96-a992-c0472b5ae6ff\n",
            "Hive Session ID = ecc94535-9120-4967-a016-d79b9e9f231f\n",
            "Hive Session ID = 5352c7a7-c65e-4648-b5f8-a4389d660d1a\n"
          ]
        }
      ]
    },
    {
      "cell_type": "code",
      "source": [
        "!hive -S -database praxisdb -e \"select  distinct(country) from eCommerce3\""
      ],
      "metadata": {
        "id": "K6vAcZOviMQa",
        "outputId": "a2a75e9d-cc96-4910-ee0e-f93e6d9f50ec",
        "colab": {
          "base_uri": "https://localhost:8080/"
        }
      },
      "execution_count": 34,
      "outputs": [
        {
          "output_type": "stream",
          "name": "stdout",
          "text": [
            "Hive Session ID = 38dc22d3-8c3c-4769-9b13-9d999087016f\n",
            "Hive Session ID = fc09aa7b-f1e3-425f-a48c-a7a36362709d\n",
            "Australia\n",
            "Austria\n",
            "Bahrain\n",
            "Belgium\n",
            "Brazil\n",
            "Canada\n",
            "Channel Islands\n",
            "Cyprus\n",
            "Czech Republic\n",
            "Denmark\n",
            "EIRE\n",
            "European Community\n",
            "Finland\n",
            "France\n",
            "Germany\n",
            "Greece\n",
            "Hong Kong\n",
            "Iceland\n",
            "Israel\n",
            "Italy\n",
            "Japan\n",
            "Lebanon\n",
            "Lithuania\n",
            "Malta\n",
            "Netherlands\n",
            "Norway\n",
            "Poland\n",
            "Portugal\n",
            "RSA\n",
            "Saudi Arabia\n",
            "Singapore\n",
            "Spain\n",
            "Sweden\n",
            "Switzerland\n",
            "USA\n",
            "United Arab Emirates\n",
            "United Kingdom\n",
            "Unspecified\n"
          ]
        }
      ]
    },
    {
      "cell_type": "code",
      "source": [
        "!hive -S -database praxisdb -e \"select  count(InvoiceNo), sum(Quantity), country from eCommerce3 group by country\""
      ],
      "metadata": {
        "id": "x51wsWHdjTgY",
        "outputId": "9a1f14e3-74da-4cb2-9380-eddd291fa1f1",
        "colab": {
          "base_uri": "https://localhost:8080/"
        }
      },
      "execution_count": 35,
      "outputs": [
        {
          "output_type": "stream",
          "name": "stdout",
          "text": [
            "Hive Session ID = ccc4d100-7549-491b-8002-3d2034ba2afc\n",
            "Hive Session ID = 7dea338b-481e-4d2a-8205-3997877be56c\n",
            "1259\t83653.0\tAustralia\n",
            "401\t4827.0\tAustria\n",
            "19\t260.0\tBahrain\n",
            "2069\t23152.0\tBelgium\n",
            "32\t356.0\tBrazil\n",
            "151\t2763.0\tCanada\n",
            "758\t9479.0\tChannel Islands\n",
            "622\t6317.0\tCyprus\n",
            "30\t592.0\tCzech Republic\n",
            "389\t8188.0\tDenmark\n",
            "8196\t142637.0\tEIRE\n",
            "61\t497.0\tEuropean Community\n",
            "695\t10666.0\tFinland\n",
            "8557\t110480.0\tFrance\n",
            "9495\t117448.0\tGermany\n",
            "146\t1556.0\tGreece\n",
            "288\t4769.0\tHong Kong\n",
            "182\t2458.0\tIceland\n",
            "297\t4353.0\tIsrael\n",
            "803\t7999.0\tItaly\n",
            "358\t25218.0\tJapan\n",
            "45\t386.0\tLebanon\n",
            "35\t652.0\tLithuania\n",
            "127\t944.0\tMalta\n",
            "2371\t200128.0\tNetherlands\n",
            "1086\t19247.0\tNorway\n",
            "341\t3653.0\tPoland\n",
            "1519\t16180.0\tPortugal\n",
            "58\t352.0\tRSA\n",
            "10\t75.0\tSaudi Arabia\n",
            "229\t5234.0\tSingapore\n",
            "2533\t26824.0\tSpain\n",
            "462\t35637.0\tSweden\n",
            "2002\t30325.0\tSwitzerland\n",
            "291\t1034.0\tUSA\n",
            "68\t982.0\tUnited Arab Emirates\n",
            "495478\t4263829.0\tUnited Kingdom\n",
            "446\t3300.0\tUnspecified\n"
          ]
        }
      ]
    },
    {
      "cell_type": "code",
      "source": [
        "from datetime import datetime\n",
        "import pytz\n",
        "print('signed off at  ',datetime.now(pytz.timezone('Asia/Kolkata')))"
      ],
      "metadata": {
        "id": "-CtmCPvi4jJ1",
        "outputId": "f39d088e-c22f-4925-9e57-861fa3c34a6a",
        "colab": {
          "base_uri": "https://localhost:8080/"
        }
      },
      "execution_count": 36,
      "outputs": [
        {
          "output_type": "stream",
          "name": "stdout",
          "text": [
            "signed off at   2023-05-03 08:31:43.191821+05:30\n"
          ]
        }
      ]
    },
    {
      "cell_type": "markdown",
      "metadata": {
        "id": "qEShQrGRJio3"
      },
      "source": [
        "#Chronobooks <br>\n",
        "![alt text](https://1.bp.blogspot.com/-lTiYBkU2qbU/X1er__fvnkI/AAAAAAAAjtE/GhDR3OEGJr4NG43fZPodrQD5kbxtnKebgCLcBGAsYHQ/s600/Footer2020-600x200.png)<hr>\n",
        "Chronotantra and Chronoyantra are two science fiction novels that explore the collapse of human civilisation on Earth and then its rebirth and reincarnation both on Earth as well as on the distant worlds of Mars, Titan and Enceladus. But is it the human civilisation that is being reborn? Or is it some other sentience that is revealing itself. \n",
        "If you have an interest in AI and found this material useful, you may consider buying these novels, in paperback or kindle, from [http://bit.ly/chronobooks](http://bit.ly/chronobooks)"
      ]
    }
  ]
}