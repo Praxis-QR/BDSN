{
  "nbformat": 4,
  "nbformat_minor": 0,
  "metadata": {
    "colab": {
      "name": "KK B2 Hadoop and Hive",
      "provenance": [],
      "toc_visible": true,
      "include_colab_link": true
    },
    "kernelspec": {
      "name": "python3",
      "display_name": "Python 3"
    }
  },
  "cells": [
    {
      "cell_type": "markdown",
      "metadata": {
        "id": "view-in-github",
        "colab_type": "text"
      },
      "source": [
        "<a href=\"https://colab.research.google.com/github/Praxis-QR/BDSN/blob/main/KK_B2_Hadoop_and_Hive.ipynb\" target=\"_parent\"><img src=\"https://colab.research.google.com/assets/colab-badge.svg\" alt=\"Open In Colab\"/></a>"
      ]
    },
    {
      "cell_type": "markdown",
      "metadata": {
        "id": "NOvxIBi-IJ8G"
      },
      "source": [
        "![alt text](https://github.com/Praxis-QR/RDWH/raw/main/images/YantraJaalBanner.png)<br>\n",
        "\n",
        "\n",
        "<hr>\n",
        "\n",
        "[Prithwis Mukerjee](http://www.linkedin.com/in/prithwis)<br>"
      ]
    },
    {
      "cell_type": "code",
      "source": [
        "from datetime import datetime\n",
        "import pytz\n",
        "print('Tested',datetime.now(pytz.timezone('Asia/Calcutta')))"
      ],
      "metadata": {
        "id": "p9zM6ZmAiVDM",
        "outputId": "171334ef-7ead-403c-afcd-96c30178feff",
        "colab": {
          "base_uri": "https://localhost:8080/"
        }
      },
      "execution_count": 33,
      "outputs": [
        {
          "output_type": "stream",
          "name": "stdout",
          "text": [
            "Tested 2023-05-03 07:26:18.007230+05:30\n"
          ]
        }
      ]
    },
    {
      "cell_type": "markdown",
      "metadata": {
        "id": "mwjvirExIQAM"
      },
      "source": [
        "#Hive with Hadoop\n",
        "This notebook has all the codes / commands required to install Hadoop and Hive <br>\n",
        "\n"
      ]
    },
    {
      "cell_type": "markdown",
      "metadata": {
        "id": "RK5y3g-ySDmZ"
      },
      "source": [
        "##Acknowledgements\n",
        "Hadoop Installation from [Anjaly Sam's Github Repository](https://github.com/anjalysam/Hadoop) <br>\n",
        "Hive Installation from [PhoenixNAP](https://phoenixnap.com/kb/install-hive-on-ubuntu) website"
      ]
    },
    {
      "cell_type": "markdown",
      "metadata": {
        "id": "myPIGP-mwKBD"
      },
      "source": [
        "#1 Hadoop\n",
        "Hadoop is a pre-requisite for Hive <br>\n"
      ]
    },
    {
      "cell_type": "markdown",
      "metadata": {
        "id": "j9bT9M1yvyXG"
      },
      "source": [
        "## 1.1 Download, Install Hadoop"
      ]
    },
    {
      "cell_type": "code",
      "metadata": {
        "id": "NXFZuorwF25e"
      },
      "source": [
        "# The default JVM available at /usr/lib/jvm/java-11-openjdk-amd64/  works for Hadoop\n",
        "# But gives errors with Hive https://stackoverflow.com/questions/54037773/hive-exception-class-jdk-internal-loader-classloadersappclassloader-cannot\n",
        "# Hence this JVM needs to be installed\n",
        "!apt-get update > /dev/null\n",
        "!apt-get install openjdk-8-jdk-headless -qq > /dev/null"
      ],
      "execution_count": 1,
      "outputs": []
    },
    {
      "cell_type": "code",
      "metadata": {
        "id": "bijZAdD_cBMK"
      },
      "source": [
        "# If there is an error in this cell, it is very likely that the version of hadoop has changed\n",
        "# Download the latest version of Hadoop and change the version numbers accordingly\n",
        "#wget -q https://downloads.apache.org/hadoop/common/hadoop-3.3.0/hadoop-3.3.0.tar.gz\n",
        "#!wget -q https://downloads.apache.org/hadoop/common/hadoop-3.3.2/hadoop-3.3.2.tar.gz\n",
        "#!wget  https://downloads.apache.org/hadoop/common/hadoop-3.3.2/hadoop-3.3.2.tar.gz\n",
        "!wget -q https://downloads.apache.org/hadoop/common/hadoop-3.3.5/hadoop-3.3.5.tar.gz\n",
        "# Unzip it\n",
        "# the tar command with the -x flag to extract, -z to uncompress, -v for verbose output, and -f to specify that we’re extracting from a file\n",
        "#!tar -xzf hadoop-3.3.2.tar.gz\n",
        "!tar -xzf hadoop-3.3.5.tar.gz\n",
        "#copy  hadoop file to user/local\n",
        "#!mv  hadoop-3.3.2/ /usr/local/\n",
        "!mv  hadoop-3.3.5/ /usr/local/"
      ],
      "execution_count": 2,
      "outputs": []
    },
    {
      "cell_type": "markdown",
      "metadata": {
        "id": "Vh6Dqbbrwqpe"
      },
      "source": [
        "## 1.2 Set Environment Variables\n"
      ]
    },
    {
      "cell_type": "code",
      "metadata": {
        "id": "_OUc19ZtcBG5"
      },
      "source": [
        "#To find the default Java path\n",
        "#!readlink -f /usr/bin/java | sed \"s:bin/java::\"\n",
        "#!ls /usr/lib/jvm/"
      ],
      "execution_count": null,
      "outputs": []
    },
    {
      "cell_type": "code",
      "metadata": {
        "id": "_ez4T7Gs3RAn"
      },
      "source": [
        "#To set java path, go to /usr/local/hadoop-3.3.0/etc/hadoop/hadoop-env.sh then\n",
        "#. . . export JAVA_HOME=/usr/lib/jvm/java-11-openjdk-amd64/ . . .\n",
        "#we have used a simpler alternative route using os.environ - it works\n",
        "\n",
        "import os\n",
        "os.environ[\"JAVA_HOME\"] = \"/usr/lib/jvm/java-8-openjdk-amd64\"   # default is changed\n",
        "#os.environ[\"JAVA_HOME\"] = \"/usr/lib/jvm/java-11-openjdk-amd64/\"\n",
        "# make sure that the version number is as downloaded \n",
        "#os.environ[\"HADOOP_HOME\"] = \"/usr/local/hadoop-3.3.0/\"\n",
        "#os.environ[\"HADOOP_HOME\"] = \"/usr/local/hadoop-3.3.2/\"\n",
        "os.environ[\"HADOOP_HOME\"] = \"/usr/local/hadoop-3.3.5/\""
      ],
      "execution_count": 3,
      "outputs": []
    },
    {
      "cell_type": "code",
      "metadata": {
        "id": "vDFgpWGLhdhl",
        "outputId": "d8111798-a723-406b-f6a0-a1f40bf26772",
        "colab": {
          "base_uri": "https://localhost:8080/"
        }
      },
      "source": [
        "# Add Hadoop BIN to PATH\n",
        "# Get the current_path from output of previous command\n",
        "#current_path = '/usr/local/nvidia/bin:/usr/local/cuda/bin:/usr/local/sbin:/usr/local/bin:/usr/sbin:/usr/bin:/sbin:/bin:/tools/node/bin:/tools/google-cloud-sdk/bin:/opt/bin'\n",
        "#current_path = '/usr/local/nvidia/bin:/usr/local/cuda/bin:/usr/local/sbin:/usr/local/bin:/usr/sbin:/usr/bin:/sbin:/bin:/tools/node/bin:/tools/google-cloud-sdk/bin:/opt/bin'\n",
        "#new_path = current_path+':/usr/local/hadoop-3.3.2/bin/'\n",
        "#os.environ[\"PATH\"] = new_path\n",
        "#!echo $PATH\n",
        "\n",
        "current_path = os.getenv('PATH')\n",
        "#new_path = current_path+':/usr/local/hadoop-3.3.0/bin/'\n",
        "#new_path = current_path+':/usr/local/hadoop-3.3.2/bin/'\n",
        "new_path = current_path+':/usr/local/hadoop-3.3.5/bin/'\n",
        "os.environ[\"PATH\"] = new_path\n",
        "!echo $PATH"
      ],
      "execution_count": 4,
      "outputs": [
        {
          "output_type": "stream",
          "name": "stdout",
          "text": [
            "/opt/bin:/usr/local/nvidia/bin:/usr/local/cuda/bin:/usr/local/sbin:/usr/local/bin:/usr/sbin:/usr/bin:/sbin:/bin:/tools/node/bin:/tools/google-cloud-sdk/bin:/usr/local/hadoop-3.3.5/bin/\n"
          ]
        }
      ]
    },
    {
      "cell_type": "markdown",
      "metadata": {
        "id": "Oj00rPPZyEWZ"
      },
      "source": [
        "## 1.3 Test Hadoop Installation"
      ]
    },
    {
      "cell_type": "code",
      "metadata": {
        "id": "Zhf-zK7NcBDF"
      },
      "source": [
        "#Running Hadoop - Test RUN, not doing anything at all\n",
        "#!/usr/local/hadoop-3.3.0/bin/hadoop\n",
        "# UNCOMMENT the following line if you want to make sure that Hadoop is alive!\n",
        "#!hadoop"
      ],
      "execution_count": null,
      "outputs": []
    },
    {
      "cell_type": "code",
      "metadata": {
        "id": "0n3I6iqjGod-"
      },
      "source": [
        "# Testing Hadoop with PI generating sample program, should calculate value of pi = 3.14157500000000000000\n",
        "# pi example\n",
        "#Uncomment the following line if  you want to test Hadoop with pi example\n",
        "#!hadoop jar /usr/local/hadoop-3.3.0/share/hadoop/mapreduce/hadoop-mapreduce-examples-3.3.0.jar pi 16 100000"
      ],
      "execution_count": null,
      "outputs": []
    },
    {
      "cell_type": "markdown",
      "metadata": {
        "id": "RUlA5c3yRCx1"
      },
      "source": [
        "#2 Hive"
      ]
    },
    {
      "cell_type": "markdown",
      "metadata": {
        "id": "pURJ-sKVsymi"
      },
      "source": [
        "## 2.1 Download, Install HIVE"
      ]
    },
    {
      "cell_type": "code",
      "metadata": {
        "id": "TFsywGzPRaYp"
      },
      "source": [
        "# Download and Unzip the correct version and unzip\n",
        "#!wget https://downloads.apache.org/hive/hive-3.1.2/apache-hive-3.1.2-bin.tar.gz\n",
        "!wget -q https://downloads.apache.org/hive/hive-3.1.3/apache-hive-3.1.3-bin.tar.gz\n",
        "\n",
        "#!tar xzf apache-hive-3.1.2-bin.tar.gz\n",
        "!tar xzf apache-hive-3.1.3-bin.tar.gz"
      ],
      "execution_count": 5,
      "outputs": []
    },
    {
      "cell_type": "markdown",
      "metadata": {
        "id": "Aq6QYCVetNED"
      },
      "source": [
        "## 2.2 Set Environment *Variables*"
      ]
    },
    {
      "cell_type": "code",
      "metadata": {
        "colab": {
          "base_uri": "https://localhost:8080/"
        },
        "id": "7qROUu4vSdEU",
        "outputId": "50d977e4-ef69-474e-d8e0-4b23af2053f4"
      },
      "source": [
        "# Make sure that the version number is correct and is as downloaded\n",
        "#os.environ[\"HIVE_HOME\"] = \"/content/apache-hive-3.1.2-bin\"\n",
        "os.environ[\"HIVE_HOME\"] = \"/content/apache-hive-3.1.3-bin\"\n",
        "!echo $HIVE_HOME"
      ],
      "execution_count": 6,
      "outputs": [
        {
          "output_type": "stream",
          "name": "stdout",
          "text": [
            "/content/apache-hive-3.1.3-bin\n"
          ]
        }
      ]
    },
    {
      "cell_type": "code",
      "metadata": {
        "colab": {
          "base_uri": "https://localhost:8080/"
        },
        "id": "dx3pKQ9PTBfR",
        "outputId": "9ca295fd-34a6-4b67-e9ec-6a57e84b6621"
      },
      "source": [
        "# current_path is set from output of previous command\n",
        "#current_path = '/usr/local/nvidia/bin:/usr/local/cuda/bin:/usr/local/sbin:/usr/local/bin:/usr/sbin:/usr/bin:/sbin:/bin:/tools/node/bin:/tools/google-cloud-sdk/bin:/opt/bin:/usr/local/hadoop-3.3.0/bin/'\n",
        "#current_path = '/opt/bin:/usr/local/nvidia/bin:/usr/local/cuda/bin:/usr/local/sbin:/usr/local/bin:/usr/sbin:/usr/bin:/sbin:/bin:/tools/node/bin:/tools/google-cloud-sdk/bin:/usr/local/hadoop-3.3.2/bin/'\n",
        "#new_path = current_path+':/content/apache-hive-3.1.2-bin/bin'\n",
        "#os.environ[\"PATH\"] = new_path\n",
        "!echo $PATH\n",
        "\n",
        "\n",
        "current_path = os.getenv('PATH')\n",
        "#new_path = current_path+':/usr/local/hadoop-3.3.0/bin/'\n",
        "#new_path = current_path+':/content/apache-hive-3.1.2-bin/bin'\n",
        "new_path = current_path+':/content/apache-hive-3.1.3-bin/bin'\n",
        "os.environ[\"PATH\"] = new_path\n",
        "!echo $PATH"
      ],
      "execution_count": 7,
      "outputs": [
        {
          "output_type": "stream",
          "name": "stdout",
          "text": [
            "/opt/bin:/usr/local/nvidia/bin:/usr/local/cuda/bin:/usr/local/sbin:/usr/local/bin:/usr/sbin:/usr/bin:/sbin:/bin:/tools/node/bin:/tools/google-cloud-sdk/bin:/usr/local/hadoop-3.3.5/bin/\n",
            "/opt/bin:/usr/local/nvidia/bin:/usr/local/cuda/bin:/usr/local/sbin:/usr/local/bin:/usr/sbin:/usr/bin:/sbin:/bin:/tools/node/bin:/tools/google-cloud-sdk/bin:/usr/local/hadoop-3.3.5/bin/:/content/apache-hive-3.1.3-bin/bin\n"
          ]
        }
      ]
    },
    {
      "cell_type": "code",
      "metadata": {
        "colab": {
          "base_uri": "https://localhost:8080/"
        },
        "id": "BfiA2LItT_L2",
        "outputId": "505c5c11-82f9-4c6b-c9d4-01630215f8a9"
      },
      "source": [
        "!echo $JAVA_HOME\n",
        "!echo $HADOOP_HOME\n",
        "!echo $HIVE_HOME"
      ],
      "execution_count": null,
      "outputs": [
        {
          "output_type": "stream",
          "name": "stdout",
          "text": [
            "/usr/lib/jvm/java-8-openjdk-amd64\n",
            "/usr/local/hadoop-3.3.5/\n",
            "/content/apache-hive-3.1.3-bin\n"
          ]
        }
      ]
    },
    {
      "cell_type": "markdown",
      "metadata": {
        "id": "AryjHG4ltfEe"
      },
      "source": [
        "## 2.3 Set up HDFS Directories"
      ]
    },
    {
      "cell_type": "code",
      "metadata": {
        "colab": {
          "base_uri": "https://localhost:8080/"
        },
        "id": "Dry58UPMVTat",
        "outputId": "ef9dee8d-f11d-4fd7-8e70-cabdd3cfcfdc"
      },
      "source": [
        "!hdfs dfs -mkdir /tmp\n",
        "!hdfs dfs -chmod g+w /tmp\n",
        "#!hdfs dfs -ls /\n",
        "!hdfs dfs -mkdir -p /content/warehouse\n",
        "!hdfs dfs -chmod g+w /content/warehouse\n",
        "#!hdfs dfs -ls /content/"
      ],
      "execution_count": 8,
      "outputs": [
        {
          "output_type": "stream",
          "name": "stdout",
          "text": [
            "mkdir: `/tmp': File exists\n"
          ]
        }
      ]
    },
    {
      "cell_type": "markdown",
      "metadata": {
        "id": "0VrvjhfG2JXs"
      },
      "source": [
        "## 2.4 Initialise HIVE - note and fix errors"
      ]
    },
    {
      "cell_type": "code",
      "metadata": {
        "id": "zLX7AvL8YLMY"
      },
      "source": [
        "# TYPE this command, do not copy and paste. Non printing characters cause havoc \n",
        "# There will be two errors, that we will fix\n",
        "# UNCOMMENT the following line if you WISH TO SEE the errors\n",
        "#!schematool -initSchema -dbType derby\n"
      ],
      "execution_count": null,
      "outputs": []
    },
    {
      "cell_type": "markdown",
      "metadata": {
        "id": "v21CxgGLuJPQ"
      },
      "source": [
        "### 2.4.1 Fix One Warning, One Error \n",
        "SLF4J is duplicate, need to locate them and remove one <br>\n",
        "Guava jar version is low"
      ]
    },
    {
      "cell_type": "code",
      "metadata": {
        "colab": {
          "base_uri": "https://localhost:8080/"
        },
        "id": "Becy3BABuE8b",
        "outputId": "fe0a47f9-7408-42c7-9426-aa2b120f0d6c"
      },
      "source": [
        "# locate multiple instances of slf4j ...\n",
        "!ls $HADOOP_HOME/share/hadoop/common/lib/*slf4j*\n",
        "!ls $HIVE_HOME/lib/*slf4j*"
      ],
      "execution_count": null,
      "outputs": [
        {
          "output_type": "stream",
          "name": "stdout",
          "text": [
            "/usr/local/hadoop-3.3.5//share/hadoop/common/lib/jul-to-slf4j-1.7.36.jar\n",
            "/usr/local/hadoop-3.3.5//share/hadoop/common/lib/slf4j-api-1.7.36.jar\n",
            "/usr/local/hadoop-3.3.5//share/hadoop/common/lib/slf4j-reload4j-1.7.36.jar\n",
            "/content/apache-hive-3.1.3-bin/lib/log4j-slf4j-impl-2.17.1.jar\n"
          ]
        }
      ]
    },
    {
      "cell_type": "code",
      "metadata": {
        "id": "DEUomnHGu4kR"
      },
      "source": [
        "# removed the logging jar from Hive, retaining the Hadoop jar\n",
        "#!mv /content/apache-hive-3.1.2-bin/lib/log4j-slf4j-impl-2.10.0.jar ./\n",
        "!mv /content/apache-hive-3.1.3-bin/lib/log4j-slf4j-impl-2.17.1.jar ./"
      ],
      "execution_count": 9,
      "outputs": []
    },
    {
      "cell_type": "code",
      "metadata": {
        "id": "VwLAYh7TY4ca",
        "colab": {
          "base_uri": "https://localhost:8080/"
        },
        "outputId": "063b5929-e2c7-4ea6-9e42-7305f4e7940f"
      },
      "source": [
        "# guava jar needs to above v 20\n",
        "# https://stackoverflow.com/questions/45247193/nosuchmethoderror-com-google-common-base-preconditions-checkargumentzljava-lan\n",
        "!ls $HIVE_HOME/lib/gu*"
      ],
      "execution_count": null,
      "outputs": [
        {
          "output_type": "stream",
          "name": "stdout",
          "text": [
            "/content/apache-hive-3.1.3-bin/lib/guava-19.0.jar\n"
          ]
        }
      ]
    },
    {
      "cell_type": "code",
      "metadata": {
        "id": "SHpmyrbkZFad",
        "colab": {
          "base_uri": "https://localhost:8080/"
        },
        "outputId": "5d0937bc-493b-42e1-a1db-1e2aef2ae2b8"
      },
      "source": [
        "# the one available with Hadoop is better, v 27\n",
        "!ls $HADOOP_HOME/share/hadoop/hdfs/lib/gu*"
      ],
      "execution_count": null,
      "outputs": [
        {
          "output_type": "stream",
          "name": "stdout",
          "text": [
            "/usr/local/hadoop-3.3.5//share/hadoop/hdfs/lib/guava-27.0-jre.jar\n"
          ]
        }
      ]
    },
    {
      "cell_type": "code",
      "metadata": {
        "id": "bJ3Ex1vyZeZG"
      },
      "source": [
        "# Remove the Hive Guava and replace with Hadoop Guava\n",
        "!mv $HIVE_HOME/lib/guava-19.0.jar ./\n",
        "\n",
        "!cp $HADOOP_HOME/share/hadoop/hdfs/lib/guava-27.0-jre.jar $HIVE_HOME/lib/"
      ],
      "execution_count": 10,
      "outputs": []
    },
    {
      "cell_type": "markdown",
      "metadata": {
        "id": "TdtNOXy8v4iD"
      },
      "source": [
        "##2.5 Initialize HIVE"
      ]
    },
    {
      "cell_type": "code",
      "metadata": {
        "colab": {
          "base_uri": "https://localhost:8080/"
        },
        "id": "9Tzw4XkApRg3",
        "outputId": "e17edf88-dba2-4dc4-8447-4f71b14a625d"
      },
      "source": [
        "#Type this command, dont copy-paste\n",
        "# Non printing characters inside the command will give totally illogical errors\n",
        "!schematool -initSchema -dbType derby"
      ],
      "execution_count": 11,
      "outputs": [
        {
          "output_type": "stream",
          "name": "stdout",
          "text": [
            "Metastore connection URL:\t jdbc:derby:;databaseName=metastore_db;create=true\n",
            "Metastore Connection Driver :\t org.apache.derby.jdbc.EmbeddedDriver\n",
            "Metastore connection User:\t APP\n",
            "Starting metastore schema initialization to 3.1.0\n",
            "Initialization script hive-schema-3.1.0.derby.sql\n",
            "\n",
            " \n",
            " \n",
            " \n",
            " \n",
            " \n",
            " \n",
            " \n",
            " \n",
            " \n",
            "\n",
            " \n",
            " \n",
            " \n",
            " \n",
            " \n",
            " \n",
            " \n",
            " \n",
            " \n",
            " \n",
            " \n",
            " \n",
            " \n",
            " \n",
            " \n",
            " \n",
            " \n",
            " \n",
            " \n",
            " \n",
            " \n",
            " \n",
            " \n",
            " \n",
            " \n",
            "\n",
            " \n",
            " \n",
            " \n",
            " \n",
            " \n",
            " \n",
            " \n",
            " \n",
            " \n",
            " \n",
            " \n",
            " \n",
            " \n",
            " \n",
            " \n",
            " \n",
            " \n",
            " \n",
            " \n",
            " \n",
            " \n",
            " \n",
            "\n",
            " \n",
            " \n",
            " \n",
            " \n",
            " \n",
            " \n",
            " \n",
            " \n",
            "\n",
            " \n",
            "\n",
            " \n",
            " \n",
            " \n",
            "\n",
            " \n",
            " \n",
            " \n",
            "\n",
            "\n",
            " \n",
            " \n",
            " \n",
            "\n",
            " \n",
            " \n",
            " \n",
            "\n",
            "\n",
            " \n",
            " \n",
            " \n",
            " \n",
            " \n",
            " \n",
            " \n",
            "\n",
            "\n",
            " \n",
            " \n",
            " \n",
            "\n",
            " \n",
            " \n",
            " \n",
            "\n",
            " \n",
            " \n",
            "\n",
            " \n",
            " \n",
            " \n",
            " \n",
            " \n",
            "\n",
            " \n",
            " \n",
            " \n",
            " \n",
            " \n",
            " \n",
            " \n",
            " \n",
            " \n",
            " \n",
            " \n",
            " \n",
            "\n",
            " \n",
            " \n",
            " \n",
            " \n",
            " \n",
            " \n",
            "\n",
            " \n",
            " \n",
            " \n",
            " \n",
            " \n",
            " \n",
            " \n",
            " \n",
            " \n",
            " \n",
            " \n",
            " \n",
            " \n",
            " \n",
            " \n",
            " \n",
            " \n",
            " \n",
            " \n",
            " \n",
            " \n",
            " \n",
            " \n",
            " \n",
            " \n",
            " \n",
            " \n",
            " \n",
            " \n",
            " \n",
            " \n",
            " \n",
            " \n",
            " \n",
            " \n",
            " \n",
            " \n",
            "\n",
            " \n",
            " \n",
            " \n",
            "\n",
            " \n",
            " \n",
            " \n",
            " \n",
            " \n",
            " \n",
            " \n",
            " \n",
            " \n",
            " \n",
            " \n",
            " \n",
            " \n",
            " \n",
            " \n",
            " \n",
            "\n",
            " \n",
            " \n",
            "\n",
            "\n",
            " \n",
            "\n",
            "\n",
            "\n",
            " \n",
            "\n",
            "\n",
            " \n",
            " \n",
            " \n",
            " \n",
            " \n",
            " \n",
            " \n",
            " \n",
            " \n",
            "\n",
            " \n",
            " \n",
            " \n",
            " \n",
            " \n",
            " \n",
            "\n",
            " \n",
            "\n",
            "\n",
            "Initialization script completed\n",
            "schemaTool completed\n"
          ]
        }
      ]
    },
    {
      "cell_type": "markdown",
      "metadata": {
        "id": "nALF720ewT_-"
      },
      "source": [
        "## 2.6 Test HIVE \n",
        "1. Create database\n",
        "2. Create table\n",
        "3. Insert data\n",
        "4. Retrieve data\n",
        "\n",
        "using command line options as [given here](https://cwiki.apache.org/confluence/display/hive/languagemanual+cli#)."
      ]
    },
    {
      "cell_type": "code",
      "metadata": {
        "colab": {
          "base_uri": "https://localhost:8080/"
        },
        "id": "hKBG__HrKt9N",
        "outputId": "f331c944-749c-410e-f2d6-a66ca8645230"
      },
      "source": [
        "!hive -e \"create database if not exists praxisDB;\""
      ],
      "execution_count": 12,
      "outputs": [
        {
          "output_type": "stream",
          "name": "stdout",
          "text": [
            "Hive Session ID = 99ca3df5-716c-4874-9a80-099c0e449007\n",
            "\n",
            "Logging initialized using configuration in jar:file:/content/apache-hive-3.1.3-bin/lib/hive-common-3.1.3.jar!/hive-log4j2.properties Async: true\n",
            "Hive Session ID = fe4f4587-7dda-4428-88f4-494453b44645\n",
            "OK\n",
            "Time taken: 1.0 seconds\n"
          ]
        }
      ]
    },
    {
      "cell_type": "code",
      "metadata": {
        "colab": {
          "base_uri": "https://localhost:8080/"
        },
        "id": "thoqjjcHZoLU",
        "outputId": "313bedff-492b-483f-879a-b5f8283816f9"
      },
      "source": [
        "!hive -e \"show databases\""
      ],
      "execution_count": null,
      "outputs": [
        {
          "output_type": "stream",
          "name": "stdout",
          "text": [
            "Hive Session ID = bf703046-34dd-49dc-a4c7-51223495f503\n",
            "\n",
            "Logging initialized using configuration in jar:file:/content/apache-hive-3.1.3-bin/lib/hive-common-3.1.3.jar!/hive-log4j2.properties Async: true\n",
            "Hive Session ID = 4dbd6625-a315-4b09-a482-5e3fe1032b01\n",
            "OK\n",
            "default\n",
            "praxisdb\n",
            "Time taken: 2.721 seconds, Fetched: 2 row(s)\n"
          ]
        }
      ]
    },
    {
      "cell_type": "code",
      "metadata": {
        "colab": {
          "base_uri": "https://localhost:8080/"
        },
        "id": "duhKRlsnax6U",
        "outputId": "bfbde750-cdea-4327-aea3-c54370257be2"
      },
      "source": [
        "!hive -database praxisdb -e \"create table if not exists emp (name string, age int)\""
      ],
      "execution_count": null,
      "outputs": [
        {
          "output_type": "stream",
          "name": "stdout",
          "text": [
            "Hive Session ID = 5874cf8e-aeaf-4612-9382-4780ac76d2cc\n",
            "\n",
            "Logging initialized using configuration in jar:file:/content/apache-hive-3.1.3-bin/lib/hive-common-3.1.3.jar!/hive-log4j2.properties Async: true\n",
            "Hive Session ID = 44654d03-e6d9-49c5-8bbe-b566bef4dc62\n",
            "OK\n",
            "Time taken: 1.362 seconds\n",
            "OK\n",
            "Time taken: 0.954 seconds\n"
          ]
        }
      ]
    },
    {
      "cell_type": "code",
      "metadata": {
        "colab": {
          "base_uri": "https://localhost:8080/"
        },
        "id": "YlXhPGIBbd7v",
        "outputId": "e5c5d8e5-628c-4007-dcf6-111ceb1c779b"
      },
      "source": [
        "!hive -database praxisdb -e \"show tables\""
      ],
      "execution_count": null,
      "outputs": [
        {
          "output_type": "stream",
          "name": "stdout",
          "text": [
            "Hive Session ID = e7b7f810-010e-407d-98f3-acb04778a629\n",
            "\n",
            "Logging initialized using configuration in jar:file:/content/apache-hive-3.1.3-bin/lib/hive-common-3.1.3.jar!/hive-log4j2.properties Async: true\n",
            "Hive Session ID = cd9836be-6c7e-48bb-a598-6217d3cca883\n",
            "OK\n",
            "Time taken: 1.414 seconds\n",
            "OK\n",
            "emp\n",
            "Time taken: 0.362 seconds, Fetched: 1 row(s)\n"
          ]
        }
      ]
    },
    {
      "cell_type": "code",
      "metadata": {
        "colab": {
          "base_uri": "https://localhost:8080/"
        },
        "id": "VBbc2fzSb4Po",
        "outputId": "cc073e77-2e30-447c-ee4f-b60249688087"
      },
      "source": [
        "!hive -database praxisdb -e \"insert into emp values ('naren', 70)\""
      ],
      "execution_count": null,
      "outputs": [
        {
          "output_type": "stream",
          "name": "stdout",
          "text": [
            "Hive Session ID = 22932464-24fc-4f23-8e00-bff687f8bc7e\n",
            "\n",
            "Logging initialized using configuration in jar:file:/content/apache-hive-3.1.3-bin/lib/hive-common-3.1.3.jar!/hive-log4j2.properties Async: true\n",
            "Hive Session ID = 2eca6c3a-63df-4e87-8be5-a80ba576f566\n",
            "OK\n",
            "Time taken: 1.259 seconds\n",
            "Query ID = root_20230501071118_225aaaac-49a5-4d54-a5d9-97dba3ba7d2c\n",
            "Total jobs = 3\n",
            "Launching Job 1 out of 3\n",
            "Number of reduce tasks determined at compile time: 1\n",
            "In order to change the average load for a reducer (in bytes):\n",
            "  set hive.exec.reducers.bytes.per.reducer=<number>\n",
            "In order to limit the maximum number of reducers:\n",
            "  set hive.exec.reducers.max=<number>\n",
            "In order to set a constant number of reducers:\n",
            "  set mapreduce.job.reduces=<number>\n",
            "Job running in-process (local Hadoop)\n",
            "2023-05-01 07:11:25,430 Stage-1 map = 100%,  reduce = 0%\n",
            "Ended Job = job_local90500994_0001\n",
            "Stage-4 is selected by condition resolver.\n",
            "Stage-3 is filtered out by condition resolver.\n",
            "Stage-5 is filtered out by condition resolver.\n",
            "Moving data to directory file:/user/hive/warehouse/praxisdb.db/emp/.hive-staging_hive_2023-05-01_07-11-18_604_4169937773008107532-1/-ext-10000\n",
            "Loading data to table praxisdb.emp\n",
            "MapReduce Jobs Launched: \n",
            "Stage-Stage-1:  HDFS Read: 0 HDFS Write: 0 SUCCESS\n",
            "Total MapReduce CPU Time Spent: 0 msec\n",
            "OK\n",
            "Time taken: 8.039 seconds\n"
          ]
        }
      ]
    },
    {
      "cell_type": "code",
      "metadata": {
        "colab": {
          "base_uri": "https://localhost:8080/"
        },
        "id": "q1KvSvdgx7Hc",
        "outputId": "6547c146-e6f8-4df1-f6f8-8370ae995b8a"
      },
      "source": [
        "!hive -database praxisdb -e \"insert into emp values ('aditya', 49)\""
      ],
      "execution_count": null,
      "outputs": [
        {
          "output_type": "stream",
          "name": "stdout",
          "text": [
            "Hive Session ID = 098ff99a-dd2a-4b52-85b5-43c9172037d4\n",
            "\n",
            "Logging initialized using configuration in jar:file:/content/apache-hive-3.1.3-bin/lib/hive-common-3.1.3.jar!/hive-log4j2.properties Async: true\n",
            "Hive Session ID = 4081ee04-500c-4054-98db-1561c8943329\n",
            "OK\n",
            "Time taken: 2.35 seconds\n",
            "Query ID = root_20230501071148_f69a8f5b-c661-4797-ae4e-05e5afb9f097\n",
            "Total jobs = 3\n",
            "Launching Job 1 out of 3\n",
            "Number of reduce tasks determined at compile time: 1\n",
            "In order to change the average load for a reducer (in bytes):\n",
            "  set hive.exec.reducers.bytes.per.reducer=<number>\n",
            "In order to limit the maximum number of reducers:\n",
            "  set hive.exec.reducers.max=<number>\n",
            "In order to set a constant number of reducers:\n",
            "  set mapreduce.job.reduces=<number>\n",
            "Job running in-process (local Hadoop)\n",
            "2023-05-01 07:11:54,623 Stage-1 map = 100%,  reduce = 100%\n",
            "Ended Job = job_local1373658441_0001\n",
            "Stage-4 is selected by condition resolver.\n",
            "Stage-3 is filtered out by condition resolver.\n",
            "Stage-5 is filtered out by condition resolver.\n",
            "Moving data to directory file:/user/hive/warehouse/praxisdb.db/emp/.hive-staging_hive_2023-05-01_07-11-48_738_3179129714884317827-1/-ext-10000\n",
            "Loading data to table praxisdb.emp\n",
            "MapReduce Jobs Launched: \n",
            "Stage-Stage-1:  HDFS Read: 0 HDFS Write: 0 SUCCESS\n",
            "Total MapReduce CPU Time Spent: 0 msec\n",
            "OK\n",
            "Time taken: 6.881 seconds\n"
          ]
        }
      ]
    },
    {
      "cell_type": "code",
      "metadata": {
        "colab": {
          "base_uri": "https://localhost:8080/"
        },
        "id": "DFxnPRbQclhP",
        "outputId": "5a448594-39a6-48c4-9f22-4f2cc55a9843"
      },
      "source": [
        "!hive -database praxisdb -e \"select * from emp\""
      ],
      "execution_count": null,
      "outputs": [
        {
          "output_type": "stream",
          "name": "stdout",
          "text": [
            "Hive Session ID = 04974e93-63fa-4011-864e-2b934ebe3f15\n",
            "\n",
            "Logging initialized using configuration in jar:file:/content/apache-hive-3.1.3-bin/lib/hive-common-3.1.3.jar!/hive-log4j2.properties Async: true\n",
            "Hive Session ID = e00d744b-e1c4-43e8-9430-441d8e5aacf6\n",
            "OK\n",
            "Time taken: 1.974 seconds\n",
            "OK\n",
            "naren\t70\n",
            "aditya\t49\n",
            "Time taken: 2.416 seconds, Fetched: 2 row(s)\n"
          ]
        }
      ]
    },
    {
      "cell_type": "code",
      "metadata": {
        "colab": {
          "base_uri": "https://localhost:8080/"
        },
        "id": "4Rwm36kUya6A",
        "outputId": "80c0bb20-2a0a-4aa4-c662-7d9a00a87c69"
      },
      "source": [
        "# Silent Mode\n",
        "!hive -S -database praxisdb -e \"select * from emp where name = 'aditya'\""
      ],
      "execution_count": null,
      "outputs": [
        {
          "output_type": "stream",
          "name": "stdout",
          "text": [
            "Hive Session ID = 30b12b5c-661a-47cf-9f2b-8025b6bd5cb6\n",
            "Hive Session ID = b88fddc6-f515-474a-a3a0-a6d02331dcdc\n",
            "aditya\t49\n"
          ]
        }
      ]
    },
    {
      "cell_type": "markdown",
      "metadata": {
        "id": "xvIfuSAbkHJ9"
      },
      "source": [
        "## 2.7 Bulk Data Load from CSV file"
      ]
    },
    {
      "cell_type": "code",
      "metadata": {
        "colab": {
          "base_uri": "https://localhost:8080/"
        },
        "id": "fSFFf3lwkMS0",
        "outputId": "5cee9af6-6fd1-4822-f7a7-dcd42b7526bd"
      },
      "source": [
        "#drop table\n",
        "!hive -S -database praxisDB -e 'DROP table if exists eCommerce'\n",
        "#create table\n",
        "# Invoice Date is being treated as a STRING because input data is not correctly formatted\n",
        "!hive -S -database praxisDB -e \" \\\n",
        "CREATE TABLE eCommerce ( \\\n",
        "InvoiceNo varchar(10), \\\n",
        "StockCode varchar(10), \\\n",
        "Description varchar(50), \\\n",
        "Quantity int, \\\n",
        "InvoiceDate string, \\\n",
        "UnitPrice decimal(6,2), \\\n",
        "CustomerID varchar(10), \\\n",
        "Country varchar(15) \\\n",
        ") row format delimited fields terminated by ','; \\\n",
        "\""
      ],
      "execution_count": 13,
      "outputs": [
        {
          "output_type": "stream",
          "name": "stdout",
          "text": [
            "Hive Session ID = b9227da9-7609-486a-bb7f-0debd4a8e1d6\n",
            "Hive Session ID = 30444605-8cd2-4cca-9791-bd26125acadb\n",
            "Hive Session ID = 3b314e76-6a5b-4b7d-9b36-2e1b77048500\n",
            "Hive Session ID = 3c2375d2-5abc-42b7-b78e-d0445aff4f91\n"
          ]
        }
      ]
    },
    {
      "cell_type": "code",
      "metadata": {
        "colab": {
          "base_uri": "https://localhost:8080/"
        },
        "id": "4110Vjf-ktx6",
        "outputId": "e31925da-ec53-46d0-a4c3-38fc05543f4d"
      },
      "source": [
        "!hive -S -database praxisdb -e \"describe eCommerce\""
      ],
      "execution_count": 14,
      "outputs": [
        {
          "output_type": "stream",
          "name": "stdout",
          "text": [
            "Hive Session ID = dcf29f40-0f81-4f50-9218-147432133515\n",
            "Hive Session ID = e4154167-d5d1-4687-b17f-f5c4e180c725\n",
            "invoiceno           \tvarchar(10)         \t                    \n",
            "stockcode           \tvarchar(10)         \t                    \n",
            "description         \tvarchar(50)         \t                    \n",
            "quantity            \tint                 \t                    \n",
            "invoicedate         \tstring              \t                    \n",
            "unitprice           \tdecimal(6,2)        \t                    \n",
            "customerid          \tvarchar(10)         \t                    \n",
            "country             \tvarchar(15)         \t                    \n"
          ]
        }
      ]
    },
    {
      "cell_type": "markdown",
      "metadata": {
        "id": "YfyabRo5pm7h"
      },
      "source": [
        "This data may not be clean and may have commas embedded in the CSV file. To see how clearn this look at this notebook : [Spark SQLContext HiveContext](https://github.com/prithwis/KKolab/blob/main/KK_C1_SparkSQL_SQLContext_HiveContext.ipynb) "
      ]
    },
    {
      "cell_type": "code",
      "metadata": {
        "colab": {
          "base_uri": "https://localhost:8080/"
        },
        "id": "MqHKwLOIk67g",
        "outputId": "48d326ac-7bbc-4318-ccf0-9771a4dc22c5"
      },
      "source": [
        "#Data as CSV file\n",
        "!gdown https://drive.google.com/uc?id=1JJH24ZZaiJrEKValD--UtyFcWl7UanwV  # 2% data ~ 10K rows\n",
        "!gdown https://drive.google.com/uc?id=1g7mJ0v4fkERW0HWc1eq-SHs_jvQ0N2Oe  # 100% data ~ 500K rows"
      ],
      "execution_count": 15,
      "outputs": [
        {
          "output_type": "stream",
          "name": "stdout",
          "text": [
            "Downloading...\n",
            "From: https://drive.google.com/uc?id=1JJH24ZZaiJrEKValD--UtyFcWl7UanwV\n",
            "To: /content/eCommerce_02PC_2021.csv\n",
            "100% 917k/917k [00:00<00:00, 52.2MB/s]\n",
            "Downloading...\n",
            "From: https://drive.google.com/uc?id=1g7mJ0v4fkERW0HWc1eq-SHs_jvQ0N2Oe\n",
            "To: /content/eCommerce_Full_2021.csv\n",
            "100% 45.6M/45.6M [00:01<00:00, 29.8MB/s]\n"
          ]
        }
      ]
    },
    {
      "cell_type": "code",
      "metadata": {
        "colab": {
          "base_uri": "https://localhost:8080/"
        },
        "id": "Z3M5Vl0NlNnQ",
        "outputId": "e3f70996-f633-40bd-af56-bca8dd24e637"
      },
      "source": [
        "#remove the CRLF character from the end of the row if it exists\n",
        "!sed 's/\\r//' /content/eCommerce_Full_2021.csv > datafile.csv\n",
        "#!sed 's/\\r//' /content/eCommerce_02PC_2021.csv > datafile.csv\n",
        "# remove the first line containing headers from the file\n",
        "!sed -i -e \"1d\" datafile.csv    \n",
        "!head datafile.csv           "
      ],
      "execution_count": 16,
      "outputs": [
        {
          "output_type": "stream",
          "name": "stdout",
          "text": [
            "536365,85123A,WHITE HANGING HEART T-LIGHT HOLDER,6,12/1/2010 8:26,2.55,17850,United Kingdom\n",
            "536365,71053,WHITE METAL LANTERN,6,12/1/2010 8:26,3.39,17850,United Kingdom\n",
            "536365,84406B,CREAM CUPID HEARTS COAT HANGER,8,12/1/2010 8:26,2.75,17850,United Kingdom\n",
            "536365,84029G,KNITTED UNION FLAG HOT WATER BOTTLE,6,12/1/2010 8:26,3.39,17850,United Kingdom\n",
            "536365,84029E,RED WOOLLY HOTTIE WHITE HEART.,6,12/1/2010 8:26,3.39,17850,United Kingdom\n",
            "536365,22752,SET 7 BABUSHKA NESTING BOXES,2,12/1/2010 8:26,7.65,17850,United Kingdom\n",
            "536365,21730,GLASS STAR FROSTED T-LIGHT HOLDER,6,12/1/2010 8:26,4.25,17850,United Kingdom\n",
            "536366,22633,HAND WARMER UNION JACK,6,12/1/2010 8:28,1.85,17850,United Kingdom\n",
            "536366,22632,HAND WARMER RED POLKA DOT,6,12/1/2010 8:28,1.85,17850,United Kingdom\n",
            "536367,84879,ASSORTED COLOUR BIRD ORNAMENT,32,12/1/2010 8:34,1.69,13047,United Kingdom\n"
          ]
        }
      ]
    },
    {
      "cell_type": "code",
      "metadata": {
        "colab": {
          "base_uri": "https://localhost:8080/"
        },
        "id": "XljU-WuElcUB",
        "outputId": "bca588ae-ba4a-4cef-cf40-542f6bc6643a"
      },
      "source": [
        "# delete all rows from table\n",
        "!hive -S -database praxisdb -e 'TRUNCATE TABLE eCommerce'\n",
        "# LOAD\n",
        "!hive -S -database praxisdb -e \"LOAD DATA LOCAL INPATH 'datafile.csv' INTO TABLE eCommerce\""
      ],
      "execution_count": 17,
      "outputs": [
        {
          "output_type": "stream",
          "name": "stdout",
          "text": [
            "Hive Session ID = a3e91fda-5904-42ac-889d-ac0d02000b49\n",
            "Hive Session ID = 5b901127-c07e-49af-85d4-1fe64c672c63\n",
            "Hive Session ID = eca44311-c432-4702-8815-da6ce5a080fd\n",
            "Hive Session ID = de578a87-de8d-4fba-8589-e81fd94bba0e\n"
          ]
        }
      ]
    },
    {
      "cell_type": "code",
      "metadata": {
        "colab": {
          "base_uri": "https://localhost:8080/"
        },
        "id": "vRceNDPylu2U",
        "outputId": "934c1434-7c28-4e55-d225-18d1fc426fc1"
      },
      "source": [
        "!hive -S -database praxisdb -e \"select count(*) from eCommerce\""
      ],
      "execution_count": 18,
      "outputs": [
        {
          "output_type": "stream",
          "name": "stdout",
          "text": [
            "Hive Session ID = 7170492c-4b8e-4e24-ad4b-dfc1d0509d2f\n",
            "Hive Session ID = b0e0193e-cf5e-48d7-9277-0512e8913806\n",
            "541909\n"
          ]
        }
      ]
    },
    {
      "cell_type": "code",
      "source": [],
      "metadata": {
        "id": "E8D5A-eeRXxE"
      },
      "execution_count": 31,
      "outputs": []
    },
    {
      "cell_type": "code",
      "metadata": {
        "colab": {
          "base_uri": "https://localhost:8080/"
        },
        "id": "m977A2Jnl5mZ",
        "outputId": "93d5743f-5feb-42b9-f850-0b536615640e"
      },
      "source": [
        "!hive -S -database praxisdb -e \"select invoiceno, customerid, country from eCommerce limit 30\""
      ],
      "execution_count": 19,
      "outputs": [
        {
          "output_type": "stream",
          "name": "stdout",
          "text": [
            "Hive Session ID = 515e415e-f29f-4680-b16e-07932b483fef\n",
            "Hive Session ID = 8e00911b-658d-4435-a50a-708141688a8a\n",
            "536365\t17850\tUnited Kingdom\n",
            "536365\t17850\tUnited Kingdom\n",
            "536365\t17850\tUnited Kingdom\n",
            "536365\t17850\tUnited Kingdom\n",
            "536365\t17850\tUnited Kingdom\n",
            "536365\t17850\tUnited Kingdom\n",
            "536365\t17850\tUnited Kingdom\n",
            "536366\t17850\tUnited Kingdom\n",
            "536366\t17850\tUnited Kingdom\n",
            "536367\t13047\tUnited Kingdom\n",
            "536367\t13047\tUnited Kingdom\n",
            "536367\t13047\tUnited Kingdom\n",
            "536367\t13047\tUnited Kingdom\n",
            "536367\t13047\tUnited Kingdom\n",
            "536367\t13047\tUnited Kingdom\n",
            "536367\t13047\tUnited Kingdom\n",
            "536367\t13047\tUnited Kingdom\n",
            "536367\t13047\tUnited Kingdom\n",
            "536367\t13047\tUnited Kingdom\n",
            "536367\t13047\tUnited Kingdom\n",
            "536367\t13047\tUnited Kingdom\n",
            "536368\t13047\tUnited Kingdom\n",
            "536368\t13047\tUnited Kingdom\n",
            "536368\t13047\tUnited Kingdom\n",
            "536368\t13047\tUnited Kingdom\n",
            "536369\t13047\tUnited Kingdom\n",
            "536370\t12583\tFrance\n",
            "536370\t12583\tFrance\n",
            "536370\t12583\tFrance\n",
            "536370\t12583\tFrance\n"
          ]
        }
      ]
    },
    {
      "cell_type": "code",
      "source": [
        "!hive -S -database praxisdb -e \"select  distinct(country) from eCommerce\""
      ],
      "metadata": {
        "id": "trTKng-3PJni",
        "outputId": "27ccae71-d37d-4368-f896-9988f2dd7b17",
        "colab": {
          "base_uri": "https://localhost:8080/"
        }
      },
      "execution_count": 20,
      "outputs": [
        {
          "output_type": "stream",
          "name": "stdout",
          "text": [
            "Hive Session ID = d33646b5-2b07-4539-86e4-e24c866589a6\n",
            "Hive Session ID = 9b42e731-27ba-4fdb-8533-dd4328a66d2c\n",
            "\n",
            "0.36\n",
            "0.42\n",
            "0.72\n",
            "0.83\n",
            "0.85\n",
            "1\n",
            "1.25\n",
            "1.63\n",
            "1.65\n",
            "1.66\n",
            "1.95\n",
            "10.79\n",
            "11.02\n",
            "12347\n",
            "12357\n",
            "12359\n",
            "12360\n",
            "12364\n",
            "12370\n",
            "12377\n",
            "12378\n",
            "12383\n",
            "12391\n",
            "12412\n",
            "12415\n",
            "12428\n",
            "12433\n",
            "12451\n",
            "12457\n",
            "12465\n",
            "12473\n",
            "12474\n",
            "12484\n",
            "12494\n",
            "12501\n",
            "12502\n",
            "12518\n",
            "12520\n",
            "12540\n",
            "12553\n",
            "12556\n",
            "12567\n",
            "12577\n",
            "12589\n",
            "12613\n",
            "12619\n",
            "12630\n",
            "12633\n",
            "12638\n",
            "12652\n",
            "12668\n",
            "12673\n",
            "12681\n",
            "12688\n",
            "12710\n",
            "12713\n",
            "12714\n",
            "12718\n",
            "12720\n",
            "12727\n",
            "12734\n",
            "12743\n",
            "12744\n",
            "12748\n",
            "12749\n",
            "12758\n",
            "12762\n",
            "12763\n",
            "12824\n",
            "12828\n",
            "12838\n",
            "12839\n",
            "12842\n",
            "12843\n",
            "12847\n",
            "12854\n",
            "12856\n",
            "12867\n",
            "12868\n",
            "12877\n",
            "12909\n",
            "12947\n",
            "12949\n",
            "12957\n",
            "12970\n",
            "12977\n",
            "12982\n",
            "12985\n",
            "13.29\n",
            "13001\n",
            "13004\n",
            "13012\n",
            "13018\n",
            "13021\n",
            "13026\n",
            "13037\n",
            "13044\n",
            "13046\n",
            "13047\n",
            "13064\n",
            "13069\n",
            "13077\n",
            "13078\n",
            "13080\n",
            "13081\n",
            "13089\n",
            "13091\n",
            "13093\n",
            "13097\n",
            "13098\n",
            "13109\n",
            "13116\n",
            "13124\n",
            "13126\n",
            "13137\n",
            "13146\n",
            "13148\n",
            "13155\n",
            "13158\n",
            "13162\n",
            "13167\n",
            "13168\n",
            "13170\n",
            "13174\n",
            "13183\n",
            "13184\n",
            "13186\n",
            "13189\n",
            "13192\n",
            "13196\n",
            "13203\n",
            "13208\n",
            "13209\n",
            "13212\n",
            "13213\n",
            "13225\n",
            "13230\n",
            "13233\n",
            "13263\n",
            "13265\n",
            "13267\n",
            "13268\n",
            "13269\n",
            "13314\n",
            "13316\n",
            "13319\n",
            "13334\n",
            "13357\n",
            "13379\n",
            "13381\n",
            "13396\n",
            "13402\n",
            "13408\n",
            "13411\n",
            "13419\n",
            "13426\n",
            "13428\n",
            "13430\n",
            "13437\n",
            "13447\n",
            "13448\n",
            "13451\n",
            "13458\n",
            "13468\n",
            "13471\n",
            "13474\n",
            "13488\n",
            "13491\n",
            "13496\n",
            "13510\n",
            "13515\n",
            "13521\n",
            "13523\n",
            "13532\n",
            "13533\n",
            "13563\n",
            "13564\n",
            "13565\n",
            "13568\n",
            "13569\n",
            "13588\n",
            "13599\n",
            "13601\n",
            "13607\n",
            "13610\n",
            "13611\n",
            "13618\n",
            "13637\n",
            "13642\n",
            "13644\n",
            "13652\n",
            "13654\n",
            "13659\n",
            "13668\n",
            "13694\n",
            "13700\n",
            "13709\n",
            "13715\n",
            "13735\n",
            "13736\n",
            "13742\n",
            "13755\n",
            "13756\n",
            "13760\n",
            "13764\n",
            "13798\n",
            "13810\n",
            "13815\n",
            "13823\n",
            "13835\n",
            "13838\n",
            "13842\n",
            "13869\n",
            "13875\n",
            "13876\n",
            "13897\n",
            "13941\n",
            "13959\n",
            "13963\n",
            "13969\n",
            "13975\n",
            "13994\n",
            "13995\n",
            "14.95\n",
            "14005\n",
            "14016\n",
            "14030\n",
            "14048\n",
            "14049\n",
            "14056\n",
            "14060\n",
            "14071\n",
            "14081\n",
            "14083\n",
            "14085\n",
            "14088\n",
            "14096\n",
            "14099\n",
            "14105\n",
            "14107\n",
            "14125\n",
            "14128\n",
            "14135\n",
            "14156\n",
            "14157\n",
            "14159\n",
            "14165\n",
            "14171\n",
            "14176\n",
            "14178\n",
            "14179\n",
            "14180\n",
            "14189\n",
            "14191\n",
            "14194\n",
            "14210\n",
            "14215\n",
            "14221\n",
            "14232\n",
            "14234\n",
            "14235\n",
            "14243\n",
            "14245\n",
            "14257\n",
            "14271\n",
            "14272\n",
            "14286\n",
            "14298\n",
            "14305\n",
            "14312\n",
            "14321\n",
            "14334\n",
            "14341\n",
            "14382\n",
            "14390\n",
            "14395\n",
            "14396\n",
            "14400\n",
            "14401\n",
            "14404\n",
            "14408\n",
            "14410\n",
            "14414\n",
            "14418\n",
            "14422\n",
            "14426\n",
            "14431\n",
            "14432\n",
            "14439\n",
            "14449\n",
            "14450\n",
            "14451\n",
            "14456\n",
            "14460\n",
            "14461\n",
            "14462\n",
            "14472\n",
            "14499\n",
            "14502\n",
            "14504\n",
            "14505\n",
            "14507\n",
            "14524\n",
            "14527\n",
            "14534\n",
            "14535\n",
            "14546\n",
            "14547\n",
            "14552\n",
            "14553\n",
            "14561\n",
            "14565\n",
            "14572\n",
            "14573\n",
            "14576\n",
            "14577\n",
            "14583\n",
            "14587\n",
            "14592\n",
            "14606\n",
            "14620\n",
            "14626\n",
            "14629\n",
            "14631\n",
            "14638\n",
            "14640\n",
            "14643\n",
            "14646\n",
            "14649\n",
            "14659\n",
            "14662\n",
            "14676\n",
            "14684\n",
            "14688\n",
            "14696\n",
            "14698\n",
            "14704\n",
            "14711\n",
            "14715\n",
            "14719\n",
            "14729\n",
            "14730\n",
            "14755\n",
            "14758\n",
            "14759\n",
            "14766\n",
            "14769\n",
            "14784\n",
            "14790\n",
            "14794\n",
            "14796\n",
            "14800\n",
            "14801\n",
            "14810\n",
            "14815\n",
            "14824\n",
            "14852\n",
            "14854\n",
            "14861\n",
            "14880\n",
            "14893\n",
            "14895\n",
            "14896\n",
            "14901\n",
            "14903\n",
            "14911\n",
            "14912\n",
            "14913\n",
            "14916\n",
            "14921\n",
            "14930\n",
            "14936\n",
            "14944\n",
            "14948\n",
            "14960\n",
            "14963\n",
            "14965\n",
            "14966\n",
            "14972\n",
            "14978\n",
            "14984\n",
            "14988\n",
            "14998\n",
            "15000\n",
            "15002\n",
            "15004\n",
            "15005\n",
            "15006\n",
            "15009\n",
            "15012\n",
            "15021\n",
            "15023\n",
            "15024\n",
            "15033\n",
            "15036\n",
            "15038\n",
            "15039\n",
            "15054\n",
            "15059\n",
            "15061\n",
            "15065\n",
            "15066\n",
            "15088\n",
            "15089\n",
            "15093\n",
            "15099\n",
            "15104\n",
            "15114\n",
            "15122\n",
            "15150\n",
            "15154\n",
            "15156\n",
            "15157\n",
            "15159\n",
            "15194\n",
            "15203\n",
            "15214\n",
            "15220\n",
            "15225\n",
            "15230\n",
            "15235\n",
            "15237\n",
            "15252\n",
            "15271\n",
            "15275\n",
            "15276\n",
            "15277\n",
            "15290\n",
            "15298\n",
            "15301\n",
            "15306\n",
            "15311\n",
            "15330\n",
            "15334\n",
            "15351\n",
            "15356\n",
            "15358\n",
            "15365\n",
            "15376\n",
            "15379\n",
            "15388\n",
            "15407\n",
            "15415\n",
            "15427\n",
            "15429\n",
            "15436\n",
            "15437\n",
            "15443\n",
            "15452\n",
            "15453\n",
            "15456\n",
            "15457\n",
            "15480\n",
            "15483\n",
            "15484\n",
            "15485\n",
            "15489\n",
            "15493\n",
            "15498\n",
            "15502\n",
            "15506\n",
            "15508\n",
            "15512\n",
            "15513\n",
            "15529\n",
            "15531\n",
            "15532\n",
            "15533\n",
            "15535\n",
            "15541\n",
            "15547\n",
            "15555\n",
            "15570\n",
            "15582\n",
            "15601\n",
            "15607\n",
            "15608\n",
            "15630\n",
            "15632\n",
            "15639\n",
            "15640\n",
            "15641\n",
            "15644\n",
            "15646\n",
            "15660\n",
            "15665\n",
            "15707\n",
            "15719\n",
            "15721\n",
            "15722\n",
            "15737\n",
            "15750\n",
            "15756\n",
            "15757\n",
            "15759\n",
            "15764\n",
            "15795\n",
            "15796\n",
            "15799\n",
            "15800\n",
            "15805\n",
            "15825\n",
            "15826\n",
            "15834\n",
            "15854\n",
            "15856\n",
            "15858\n",
            "15861\n",
            "15865\n",
            "15867\n",
            "15870\n",
            "15880\n",
            "15881\n",
            "15883\n",
            "15891\n",
            "15899\n",
            "15903\n",
            "15906\n",
            "15907\n",
            "15910\n",
            "15912\n",
            "15916\n",
            "15919\n",
            "15951\n",
            "15967\n",
            "15974\n",
            "15976\n",
            "15984\n",
            "15985\n",
            "15987\n",
            "15993\n",
            "15998\n",
            "16005\n",
            "16007\n",
            "16011\n",
            "16014\n",
            "16015\n",
            "16031\n",
            "16033\n",
            "16036\n",
            "16049\n",
            "16062\n",
            "16081\n",
            "16083\n",
            "16102\n",
            "16121\n",
            "16147\n",
            "16179\n",
            "16186\n",
            "16222\n",
            "16224\n",
            "16244\n",
            "16255\n",
            "16261\n",
            "16265\n",
            "16268\n",
            "16270\n",
            "16274\n",
            "16297\n",
            "16324\n",
            "16332\n",
            "16340\n",
            "16345\n",
            "16347\n",
            "16348\n",
            "16350\n",
            "16356\n",
            "16360\n",
            "16365\n",
            "16367\n",
            "16374\n",
            "16383\n",
            "16393\n",
            "16395\n",
            "16402\n",
            "16409\n",
            "16423\n",
            "16426\n",
            "16433\n",
            "16442\n",
            "16444\n",
            "16446\n",
            "16447\n",
            "16448\n",
            "16449\n",
            "16456\n",
            "16460\n",
            "16464\n",
            "16466\n",
            "16469\n",
            "16495\n",
            "16497\n",
            "16504\n",
            "16511\n",
            "16518\n",
            "16523\n",
            "16526\n",
            "16533\n",
            "16535\n",
            "16549\n",
            "16570\n",
            "16592\n",
            "16593\n",
            "16600\n",
            "16614\n",
            "16638\n",
            "16648\n",
            "16655\n",
            "16666\n",
            "16667\n",
            "16670\n",
            "16674\n",
            "16676\n",
            "16678\n",
            "16684\n",
            "16686\n",
            "16700\n",
            "16710\n",
            "16713\n",
            "16725\n",
            "16728\n",
            "16729\n",
            "16730\n",
            "16744\n",
            "16753\n",
            "16764\n",
            "16771\n",
            "16773\n",
            "16775\n",
            "16776\n",
            "16777\n",
            "16779\n",
            "16794\n",
            "16801\n",
            "16805\n",
            "16813\n",
            "16814\n",
            "16818\n",
            "16869\n",
            "16880\n",
            "16887\n",
            "16895\n",
            "16898\n",
            "16900\n",
            "16904\n",
            "16906\n",
            "16907\n",
            "16910\n",
            "16916\n",
            "16918\n",
            "16919\n",
            "16921\n",
            "16923\n",
            "16924\n",
            "16930\n",
            "16931\n",
            "16938\n",
            "16947\n",
            "16952\n",
            "16984\n",
            "17007\n",
            "17015\n",
            "17019\n",
            "17042\n",
            "17043\n",
            "17050\n",
            "17054\n",
            "17059\n",
            "17071\n",
            "17073\n",
            "17078\n",
            "17085\n",
            "17092\n",
            "17101\n",
            "17107\n",
            "17109\n",
            "17124\n",
            "17128\n",
            "17159\n",
            "17162\n",
            "17180\n",
            "17189\n",
            "17191\n",
            "17198\n",
            "17201\n",
            "17221\n",
            "17223\n",
            "17228\n",
            "17231\n",
            "17243\n",
            "17252\n",
            "17255\n",
            "17265\n",
            "17272\n",
            "17282\n",
            "17288\n",
            "17289\n",
            "17290\n",
            "17293\n",
            "17297\n",
            "17298\n",
            "17303\n",
            "17314\n",
            "17337\n",
            "17338\n",
            "17340\n",
            "17341\n",
            "17348\n",
            "17358\n",
            "17364\n",
            "17368\n",
            "17372\n",
            "17375\n",
            "17377\n",
            "17385\n",
            "17389\n",
            "17400\n",
            "17404\n",
            "17405\n",
            "17416\n",
            "17428\n",
            "17429\n",
            "17433\n",
            "17434\n",
            "17442\n",
            "17444\n",
            "17449\n",
            "17451\n",
            "17486\n",
            "17491\n",
            "17499\n",
            "17503\n",
            "17504\n",
            "17507\n",
            "17511\n",
            "17515\n",
            "17516\n",
            "17522\n",
            "17528\n",
            "17545\n",
            "17551\n",
            "17555\n",
            "17557\n",
            "17561\n",
            "17566\n",
            "17572\n",
            "17576\n",
            "17589\n",
            "17590\n",
            "17593\n",
            "17596\n",
            "17602\n",
            "17611\n",
            "17613\n",
            "17618\n",
            "17631\n",
            "17634\n",
            "17658\n",
            "17667\n",
            "17677\n",
            "17678\n",
            "17686\n",
            "17690\n",
            "17692\n",
            "17700\n",
            "17706\n",
            "17716\n",
            "17725\n",
            "17730\n",
            "17744\n",
            "17750\n",
            "17757\n",
            "17758\n",
            "17783\n",
            "17797\n",
            "17799\n",
            "17802\n",
            "17806\n",
            "17809\n",
            "17811\n",
            "17813\n",
            "17827\n",
            "17829\n",
            "17832\n",
            "17835\n",
            "17838\n",
            "17841\n",
            "17858\n",
            "17865\n",
            "17870\n",
            "17873\n",
            "17886\n",
            "17888\n",
            "17891\n",
            "17897\n",
            "17920\n",
            "17947\n",
            "17954\n",
            "17965\n",
            "17974\n",
            "17975\n",
            "17997\n",
            "17999\n",
            "18005\n",
            "18022\n",
            "18034\n",
            "18035\n",
            "18041\n",
            "18044\n",
            "18055\n",
            "18059\n",
            "18061\n",
            "18069\n",
            "18079\n",
            "18095\n",
            "18096\n",
            "18109\n",
            "18114\n",
            "18116\n",
            "18117\n",
            "18118\n",
            "18122\n",
            "18123\n",
            "18125\n",
            "18126\n",
            "18127\n",
            "18130\n",
            "18139\n",
            "18180\n",
            "18183\n",
            "18204\n",
            "18221\n",
            "18225\n",
            "18226\n",
            "18245\n",
            "18273\n",
            "3.29\n",
            "3.36\n",
            "4.25\n",
            "4.4\n",
            "4.95\n",
            "5.72\n",
            "6.35\n",
            "6.75\n",
            "9.95\n",
            "Australia\n",
            "Austria\n",
            "Bahrain\n",
            "Belgium\n",
            "Brazil\n",
            "Canada\n",
            "Channel Islands\n",
            "Cyprus\n",
            "Czech Republic\n",
            "Denmark\n",
            "EIRE\n",
            "European Commun\n",
            "Finland\n",
            "France\n",
            "Germany\n",
            "Greece\n",
            "Hong Kong\n",
            "Iceland\n",
            "Israel\n",
            "Italy\n",
            "Japan\n",
            "Lebanon\n",
            "Lithuania\n",
            "Malta\n",
            "Netherlands\n",
            "Norway\n",
            "Poland\n",
            "Portugal\n",
            "RSA\n",
            "Saudi Arabia\n",
            "Singapore\n",
            "Spain\n",
            "Sweden\n",
            "Switzerland\n",
            "USA\n",
            "United Arab Emi\n",
            "United Kingdom\n",
            "Unspecified\n"
          ]
        }
      ]
    },
    {
      "cell_type": "markdown",
      "source": [
        "### Data Cleaning\n",
        "Quick way to clean data using Pandas "
      ],
      "metadata": {
        "id": "aB4RuaQqTaJy"
      }
    },
    {
      "cell_type": "code",
      "source": [
        "import pandas as pd\n",
        "#p_df = pd.read_csv('datafile.csv',header=None)   # throws errors because of non utf-encoding \n",
        "                                                  # https://stackoverflow.com/questions/18171739/unicodedecodeerror-when-reading-csv-file-in-pandas-with-python\n",
        "p_df = pd.read_csv('datafile.csv',encoding = \"ISO-8859-1\",header=None)\n",
        "#p_df = pd.read_csv('datafile.csv',encoding = \"latin\",header=None)\n",
        "#p_df = pd.read_csv('datafile.csv',encoding = \"latin\")\n",
        "p_df2 = p_df.replace(',', ' ', regex=True)\n",
        "p_df2.to_csv('datafile2.csv',index=False,sep=',',header=False)\n",
        "p_df2.shape"
      ],
      "metadata": {
        "id": "dKFwujzCSpbf",
        "outputId": "a667c23c-ca47-4b58-a5ec-4bd05a4edffe",
        "colab": {
          "base_uri": "https://localhost:8080/"
        }
      },
      "execution_count": 24,
      "outputs": [
        {
          "output_type": "execute_result",
          "data": {
            "text/plain": [
              "(541909, 8)"
            ]
          },
          "metadata": {},
          "execution_count": 24
        }
      ]
    },
    {
      "cell_type": "code",
      "source": [
        "#drop table\n",
        "!hive -S -database praxisDB -e 'DROP table if exists eCommerce2'\n",
        "#create table\n",
        "# Invoice Date is being treated as a STRING because input data is not correctly formatted\n",
        "!hive -S -database praxisDB -e \" \\\n",
        "CREATE TABLE eCommerce2 ( \\\n",
        "InvoiceNo varchar(10), \\\n",
        "StockCode varchar(10), \\\n",
        "Description varchar(50), \\\n",
        "Quantity int, \\\n",
        "InvoiceDate string, \\\n",
        "UnitPrice decimal(6,2), \\\n",
        "CustomerID varchar(10), \\\n",
        "Country varchar(15) \\\n",
        ") row format delimited fields terminated by ','; \\\n",
        "\""
      ],
      "metadata": {
        "id": "pbHEHKfBSzLJ",
        "outputId": "16488080-af0f-4aa4-e716-997253b24913",
        "colab": {
          "base_uri": "https://localhost:8080/"
        }
      },
      "execution_count": 25,
      "outputs": [
        {
          "output_type": "stream",
          "name": "stdout",
          "text": [
            "Hive Session ID = d965a42c-8abf-43f8-85fd-dd4e85671398\n",
            "Hive Session ID = 3111eee1-6df4-4999-91d2-5cf5641f0437\n",
            "Hive Session ID = f6040b06-1c8b-488e-9be5-8a1ed56752da\n",
            "Hive Session ID = d3049dc7-46ed-47c8-85c1-a31d40754246\n"
          ]
        }
      ]
    },
    {
      "cell_type": "code",
      "source": [
        "# delete all rows from table\n",
        "!hive -S -database praxisdb -e 'TRUNCATE TABLE eCommerce2'\n",
        "# LOAD\n",
        "!hive -S -database praxisdb -e \"LOAD DATA LOCAL INPATH 'datafile2.csv' INTO TABLE eCommerce2\""
      ],
      "metadata": {
        "id": "2wNkWN8BTCAN",
        "outputId": "671e5161-4ade-4f77-86ce-0abc663d4d99",
        "colab": {
          "base_uri": "https://localhost:8080/"
        }
      },
      "execution_count": 26,
      "outputs": [
        {
          "output_type": "stream",
          "name": "stdout",
          "text": [
            "Hive Session ID = f080401e-380b-4a51-b0bb-9c63140662e1\n",
            "Hive Session ID = b879b923-716d-465a-9ca9-419cab98e76e\n",
            "Hive Session ID = 087197dc-6357-4cd9-b728-d6ceb611ddd4\n",
            "Hive Session ID = cc3c140d-aaf6-4b25-bd01-50800e747dfb\n"
          ]
        }
      ]
    },
    {
      "cell_type": "code",
      "source": [
        "!hive -S -database praxisdb -e \"select  distinct(country) from eCommerce2\""
      ],
      "metadata": {
        "id": "RbzHMpkWTP3N",
        "outputId": "67919da7-bed5-4269-8e6b-d30dbf42a4ff",
        "colab": {
          "base_uri": "https://localhost:8080/"
        }
      },
      "execution_count": 27,
      "outputs": [
        {
          "output_type": "stream",
          "name": "stdout",
          "text": [
            "Hive Session ID = a6004f30-f7b0-445d-adec-e826989eae7c\n",
            "Hive Session ID = 2baded0e-4e6f-43bf-95b5-7b81e8065bba\n",
            "Australia\n",
            "Austria\n",
            "Bahrain\n",
            "Belgium\n",
            "Brazil\n",
            "Canada\n",
            "Channel Islands\n",
            "Cyprus\n",
            "Czech Republic\n",
            "Denmark\n",
            "EIRE\n",
            "European Commun\n",
            "Finland\n",
            "France\n",
            "Germany\n",
            "Greece\n",
            "Hong Kong\n",
            "Iceland\n",
            "Israel\n",
            "Italy\n",
            "Japan\n",
            "Lebanon\n",
            "Lithuania\n",
            "Malta\n",
            "Netherlands\n",
            "Norway\n",
            "Poland\n",
            "Portugal\n",
            "RSA\n",
            "Saudi Arabia\n",
            "Singapore\n",
            "Spain\n",
            "Sweden\n",
            "Switzerland\n",
            "USA\n",
            "United Arab Emi\n",
            "United Kingdom\n",
            "Unspecified\n"
          ]
        }
      ]
    },
    {
      "cell_type": "code",
      "source": [
        "!hive -S -database praxisdb -e \"select  count(InvoiceNo), sum(Quantity), country from eCommerce2 group by country\""
      ],
      "metadata": {
        "id": "L0XeICyjUU0F",
        "outputId": "8458f40d-51b9-41da-8011-87fbe1ee4bc3",
        "colab": {
          "base_uri": "https://localhost:8080/"
        }
      },
      "execution_count": 32,
      "outputs": [
        {
          "output_type": "stream",
          "name": "stdout",
          "text": [
            "Hive Session ID = f483e65a-699d-4180-858e-f5e316f883c7\n",
            "Hive Session ID = 1c1c0d75-df7c-4282-b028-bf3d9627615e\n",
            "1259\t83653\tAustralia\n",
            "401\t4827\tAustria\n",
            "19\t260\tBahrain\n",
            "2069\t23152\tBelgium\n",
            "32\t356\tBrazil\n",
            "151\t2763\tCanada\n",
            "758\t9479\tChannel Islands\n",
            "622\t6317\tCyprus\n",
            "30\t592\tCzech Republic\n",
            "389\t8188\tDenmark\n",
            "8196\t142637\tEIRE\n",
            "61\t497\tEuropean Commun\n",
            "695\t10666\tFinland\n",
            "8557\t110480\tFrance\n",
            "9495\t117448\tGermany\n",
            "146\t1556\tGreece\n",
            "288\t4769\tHong Kong\n",
            "182\t2458\tIceland\n",
            "297\t4353\tIsrael\n",
            "803\t7999\tItaly\n",
            "358\t25218\tJapan\n",
            "45\t386\tLebanon\n",
            "35\t652\tLithuania\n",
            "127\t944\tMalta\n",
            "2371\t200128\tNetherlands\n",
            "1086\t19247\tNorway\n",
            "341\t3653\tPoland\n",
            "1519\t16180\tPortugal\n",
            "58\t352\tRSA\n",
            "10\t75\tSaudi Arabia\n",
            "229\t5234\tSingapore\n",
            "2533\t26824\tSpain\n",
            "462\t35637\tSweden\n",
            "2002\t30325\tSwitzerland\n",
            "291\t1034\tUSA\n",
            "68\t982\tUnited Arab Emi\n",
            "495478\t4263829\tUnited Kingdom\n",
            "446\t3300\tUnspecified\n"
          ]
        }
      ]
    },
    {
      "cell_type": "code",
      "source": [
        "from datetime import datetime\n",
        "import pytz\n",
        "print('signed off at  ',datetime.now(pytz.timezone('Asia/Kolkata')))"
      ],
      "metadata": {
        "id": "-CtmCPvi4jJ1",
        "outputId": "6ec77c71-955f-41bd-b0c9-6245c08ed3e2",
        "colab": {
          "base_uri": "https://localhost:8080/"
        }
      },
      "execution_count": 34,
      "outputs": [
        {
          "output_type": "stream",
          "name": "stdout",
          "text": [
            "signed off at   2023-05-03 07:26:24.672123+05:30\n"
          ]
        }
      ]
    },
    {
      "cell_type": "markdown",
      "metadata": {
        "id": "qEShQrGRJio3"
      },
      "source": [
        "#Chronobooks <br>\n",
        "![alt text](https://1.bp.blogspot.com/-lTiYBkU2qbU/X1er__fvnkI/AAAAAAAAjtE/GhDR3OEGJr4NG43fZPodrQD5kbxtnKebgCLcBGAsYHQ/s600/Footer2020-600x200.png)<hr>\n",
        "Chronotantra and Chronoyantra are two science fiction novels that explore the collapse of human civilisation on Earth and then its rebirth and reincarnation both on Earth as well as on the distant worlds of Mars, Titan and Enceladus. But is it the human civilisation that is being reborn? Or is it some other sentience that is revealing itself. \n",
        "If you have an interest in AI and found this material useful, you may consider buying these novels, in paperback or kindle, from [http://bit.ly/chronobooks](http://bit.ly/chronobooks)"
      ]
    }
  ]
}