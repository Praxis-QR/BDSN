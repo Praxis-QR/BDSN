{
  "nbformat": 4,
  "nbformat_minor": 0,
  "metadata": {
    "colab": {
      "provenance": [],
      "toc_visible": true,
      "include_colab_link": true
    },
    "kernelspec": {
      "name": "python3",
      "display_name": "Python 3"
    },
    "language_info": {
      "name": "python"
    }
  },
  "cells": [
    {
      "cell_type": "markdown",
      "metadata": {
        "id": "view-in-github",
        "colab_type": "text"
      },
      "source": [
        "<a href=\"https://colab.research.google.com/github/Praxis-QR/BDSN/blob/main/Parquet_Files_Superstore.ipynb\" target=\"_parent\"><img src=\"https://colab.research.google.com/assets/colab-badge.svg\" alt=\"Open In Colab\"/></a>"
      ]
    },
    {
      "cell_type": "markdown",
      "metadata": {
        "id": "z7Rb-Atviw9f"
      },
      "source": [
        "![alt text](https://github.com/Praxis-QR/RDWH/raw/main/images/YantraJaalBanner.png)<br>\n",
        "\n",
        "\n",
        "<hr>\n",
        "\n",
        "[Prithwis Mukerjee](http://www.linkedin.com/in/prithwis)<br>"
      ]
    },
    {
      "cell_type": "code",
      "source": [
        "from datetime import datetime\n",
        "import pytz\n",
        "print('ॐ श्री सरस्वत्यै नमः',datetime.now(pytz.timezone('Asia/Calcutta')))\n",
        "!python --version\n",
        "!lsb_release -a"
      ],
      "metadata": {
        "colab": {
          "base_uri": "https://localhost:8080/"
        },
        "id": "Why176oMua9Y",
        "outputId": "7342b1ba-1afd-44b8-b2f7-fd9a3a35ee1e"
      },
      "execution_count": 1,
      "outputs": [
        {
          "output_type": "stream",
          "name": "stdout",
          "text": [
            "ॐ श्री सरस्वत्यै नमः 2023-09-12 05:50:24.670424+05:30\n",
            "Python 3.10.12\n",
            "No LSB modules are available.\n",
            "Distributor ID:\tUbuntu\n",
            "Description:\tUbuntu 22.04.2 LTS\n",
            "Release:\t22.04\n",
            "Codename:\tjammy\n"
          ]
        }
      ]
    },
    {
      "cell_type": "markdown",
      "source": [
        "For a more detailed exploration of Pivot Tables please look at this [Notebook : Analysis of Retail Sales Data](https://github.com/Praxis-QR/PythonForManagers/blob/main/Retail_Sales_Data_Analysis.ipynb)"
      ],
      "metadata": {
        "id": "cany0sl3YP5D"
      }
    },
    {
      "cell_type": "markdown",
      "metadata": {
        "id": "EangLEFRBHZW"
      },
      "source": [
        "#SuperStore Data\n",
        "Super Store Order Data https://drive.google.com/file/d/13MKOpo8iD-tMkeMLw-4IPFi5-xWhmqFZ/view?usp=sharing <br>\n",
        "Original Data from [Tableau](https://community.tableau.com/docs/DOC-1236)"
      ]
    },
    {
      "cell_type": "code",
      "metadata": {
        "id": "VAodtiYwA9Rs"
      },
      "source": [
        "#!wget -O SS_Orders2.csv 'https://drive.google.com/uc?export=download&id=13MKOpo8iD-tMkeMLw-4IPFi5-xWhmqFZ'\n",
        "#!gdown https://drive.google.com/uc?id=13MKOpo8iD-tMkeMLw-4IPFi5-xWhmqFZ\n",
        "#!wget -q -O Orders.csv 'https://raw.githubusercontent.com/Praxis-QR/RDWH/main/data/SS_Orders.csv'\n",
        "!wget -q -O BigOrders.zip 'https://github.com/Praxis-QR/PythonForManagers/raw/main/Data/SuperStoreSalesKaggle.zip'"
      ],
      "execution_count": 1,
      "outputs": []
    },
    {
      "cell_type": "code",
      "source": [
        "#!tail Orders.csv"
      ],
      "metadata": {
        "id": "tqgtKH49nGT6"
      },
      "execution_count": 3,
      "outputs": []
    },
    {
      "cell_type": "markdown",
      "source": [
        "#Read CSV into Pandas Dataframe"
      ],
      "metadata": {
        "id": "jHuJBiouu2cU"
      }
    },
    {
      "cell_type": "code",
      "source": [
        "import numpy as np\n",
        "import pandas as pd"
      ],
      "metadata": {
        "id": "3YpydDGlS6ih"
      },
      "execution_count": 4,
      "outputs": []
    },
    {
      "cell_type": "code",
      "metadata": {
        "id": "ScQV9OQSCVEi"
      },
      "source": [
        "#df = pd.read_csv('Orders.csv', delimiter = ',')\n",
        "df = pd.read_csv('BigOrders.zip', delimiter = ',')\n",
        "#df.head(2)"
      ],
      "execution_count": 5,
      "outputs": []
    },
    {
      "cell_type": "code",
      "source": [
        "df.info()\n",
        "#df.dtypes"
      ],
      "metadata": {
        "colab": {
          "base_uri": "https://localhost:8080/"
        },
        "id": "2fTG20UZswZc",
        "outputId": "68d157b0-607b-4486-cb83-7f237ddee12b"
      },
      "execution_count": 6,
      "outputs": [
        {
          "output_type": "stream",
          "name": "stdout",
          "text": [
            "<class 'pandas.core.frame.DataFrame'>\n",
            "RangeIndex: 51290 entries, 0 to 51289\n",
            "Data columns (total 21 columns):\n",
            " #   Column          Non-Null Count  Dtype  \n",
            "---  ------          --------------  -----  \n",
            " 0   order_id        51290 non-null  object \n",
            " 1   order_date      51290 non-null  object \n",
            " 2   ship_date       51290 non-null  object \n",
            " 3   ship_mode       51290 non-null  object \n",
            " 4   customer_name   51290 non-null  object \n",
            " 5   segment         51290 non-null  object \n",
            " 6   state           51290 non-null  object \n",
            " 7   country         51290 non-null  object \n",
            " 8   market          51290 non-null  object \n",
            " 9   region          51290 non-null  object \n",
            " 10  product_id      51290 non-null  object \n",
            " 11  category        51290 non-null  object \n",
            " 12  sub_category    51290 non-null  object \n",
            " 13  product_name    51290 non-null  object \n",
            " 14  sales           51290 non-null  object \n",
            " 15  quantity        51290 non-null  int64  \n",
            " 16  discount        51290 non-null  float64\n",
            " 17  profit          51290 non-null  float64\n",
            " 18  shipping_cost   51290 non-null  float64\n",
            " 19  order_priority  51290 non-null  object \n",
            " 20  year            51290 non-null  int64  \n",
            "dtypes: float64(3), int64(2), object(16)\n",
            "memory usage: 8.2+ MB\n"
          ]
        }
      ]
    },
    {
      "cell_type": "markdown",
      "source": [
        "##Comma, Double Quotes look good"
      ],
      "metadata": {
        "id": "pmDF9uiBtAMq"
      }
    },
    {
      "cell_type": "code",
      "source": [
        "#df.iloc[9993]['Product Name']\n",
        "df.iloc[9993]['product_name']"
      ],
      "metadata": {
        "colab": {
          "base_uri": "https://localhost:8080/",
          "height": 35
        },
        "id": "Oh4HJXhyn922",
        "outputId": "e2e58d2a-7aa6-40ab-d00d-578537a08d7d"
      },
      "execution_count": 7,
      "outputs": [
        {
          "output_type": "execute_result",
          "data": {
            "text/plain": [
              "'Boston Canvas, Water Color'"
            ],
            "application/vnd.google.colaboratory.intrinsic+json": {
              "type": "string"
            }
          },
          "metadata": {},
          "execution_count": 7
        }
      ]
    },
    {
      "cell_type": "code",
      "source": [
        "#df.iloc[9992]['Product Name']\n",
        "df.iloc[9992]['product_name']"
      ],
      "metadata": {
        "colab": {
          "base_uri": "https://localhost:8080/",
          "height": 35
        },
        "id": "BPtxISZmoyc4",
        "outputId": "35281d91-eca8-46c3-a348-9488cd3fa679"
      },
      "execution_count": 8,
      "outputs": [
        {
          "output_type": "execute_result",
          "data": {
            "text/plain": [
              "'Hon Racetrack Conference Tables'"
            ],
            "application/vnd.google.colaboratory.intrinsic+json": {
              "type": "string"
            }
          },
          "metadata": {},
          "execution_count": 8
        }
      ]
    },
    {
      "cell_type": "code",
      "source": [
        "#\n",
        "# df.sales has been automatically interpreted as string because of the presence of commma,\n",
        "# so replace comma and convert to numeric\n",
        "#\n",
        "\n",
        "df['sales'] = df['sales'].str.replace(',', '')    # replace , with blank\n",
        "df['sales'] = pd.to_numeric(df['sales'])          # convert column \"a\" of a DataFrame"
      ],
      "metadata": {
        "id": "BO6g2Du1J79Q"
      },
      "execution_count": 9,
      "outputs": []
    },
    {
      "cell_type": "markdown",
      "source": [
        "##Date looks Bad, need to be fixed"
      ],
      "metadata": {
        "id": "hKlP8WNwtGL-"
      }
    },
    {
      "cell_type": "code",
      "source": [
        "# what is the first and last order date ?\n",
        "# we have four years of data, but date format changes ...\n",
        "#df['Order Date'].describe\n",
        "df['order_date'].describe\n",
        "#df['ship_date'].describe"
      ],
      "metadata": {
        "colab": {
          "base_uri": "https://localhost:8080/"
        },
        "id": "HYtQGRWdte2k",
        "outputId": "d0a8bcdb-ee39-48b6-f9f6-89997c805379"
      },
      "execution_count": 10,
      "outputs": [
        {
          "output_type": "execute_result",
          "data": {
            "text/plain": [
              "<bound method NDFrame.describe of 0          1/1/2011\n",
              "1          1/1/2011\n",
              "2          1/1/2011\n",
              "3          1/1/2011\n",
              "4          1/1/2011\n",
              "            ...    \n",
              "51285    31-12-2014\n",
              "51286    31-12-2014\n",
              "51287    31-12-2014\n",
              "51288    31-12-2014\n",
              "51289    31-12-2014\n",
              "Name: order_date, Length: 51290, dtype: object>"
            ]
          },
          "metadata": {},
          "execution_count": 10
        }
      ]
    },
    {
      "cell_type": "code",
      "source": [
        "# Some of the dates are string like dd/mm/yyyy while others are dd-mm-yyyy\n",
        "# this will cause problems in converting string to real dates\n",
        "# So we move all dd-mm-yyyy to dd/mm/yyyy -- could have been the other way round also\n",
        "#\n",
        "#df['Order Date'] = df['Order Date'].str.replace('-','/')\n",
        "#df['Ship Date'] = df['Ship Date'].str.replace('-','/')\n",
        "\n",
        "df['order_date'] = df['order_date'].str.replace('-','/')\n",
        "df['ship_date'] = df['ship_date'].str.replace('-','/')"
      ],
      "metadata": {
        "id": "JsqY2sc3tXEG"
      },
      "execution_count": 11,
      "outputs": []
    },
    {
      "cell_type": "code",
      "source": [
        "# convert all dates to dd/mm/yyyy format\n",
        "#\n",
        "df['ship_date'] = pd.to_datetime(df['ship_date'],format='%d/%m/%Y')\n",
        "df['order_date'] = pd.to_datetime(df['order_date'],format='%d/%m/%Y')\n",
        "#df['order_date'].describe"
      ],
      "metadata": {
        "id": "l-QvQYIfuCc_"
      },
      "execution_count": 12,
      "outputs": []
    },
    {
      "cell_type": "code",
      "source": [
        "df.info()"
      ],
      "metadata": {
        "colab": {
          "base_uri": "https://localhost:8080/"
        },
        "id": "xpy8UJc6uTnk",
        "outputId": "281e841e-1f68-46ba-975a-d6ee16962ca5"
      },
      "execution_count": 13,
      "outputs": [
        {
          "output_type": "stream",
          "name": "stdout",
          "text": [
            "<class 'pandas.core.frame.DataFrame'>\n",
            "RangeIndex: 51290 entries, 0 to 51289\n",
            "Data columns (total 21 columns):\n",
            " #   Column          Non-Null Count  Dtype         \n",
            "---  ------          --------------  -----         \n",
            " 0   order_id        51290 non-null  object        \n",
            " 1   order_date      51290 non-null  datetime64[ns]\n",
            " 2   ship_date       51290 non-null  datetime64[ns]\n",
            " 3   ship_mode       51290 non-null  object        \n",
            " 4   customer_name   51290 non-null  object        \n",
            " 5   segment         51290 non-null  object        \n",
            " 6   state           51290 non-null  object        \n",
            " 7   country         51290 non-null  object        \n",
            " 8   market          51290 non-null  object        \n",
            " 9   region          51290 non-null  object        \n",
            " 10  product_id      51290 non-null  object        \n",
            " 11  category        51290 non-null  object        \n",
            " 12  sub_category    51290 non-null  object        \n",
            " 13  product_name    51290 non-null  object        \n",
            " 14  sales           51290 non-null  int64         \n",
            " 15  quantity        51290 non-null  int64         \n",
            " 16  discount        51290 non-null  float64       \n",
            " 17  profit          51290 non-null  float64       \n",
            " 18  shipping_cost   51290 non-null  float64       \n",
            " 19  order_priority  51290 non-null  object        \n",
            " 20  year            51290 non-null  int64         \n",
            "dtypes: datetime64[ns](2), float64(3), int64(3), object(13)\n",
            "memory usage: 8.2+ MB\n"
          ]
        }
      ]
    },
    {
      "cell_type": "code",
      "source": [
        "df.to_csv('Orders2.csv', index=False)"
      ],
      "metadata": {
        "id": "2fVSKQ7Mz9Jd"
      },
      "execution_count": 14,
      "outputs": []
    },
    {
      "cell_type": "markdown",
      "source": [
        "#Pandas Dataframe to Parquet Format\n",
        "Ref https://mungingdata.com/pyarrow/parquet-metadata-min-max-statistics/"
      ],
      "metadata": {
        "id": "cq9ZRD25vDwd"
      }
    },
    {
      "cell_type": "code",
      "source": [
        "df.to_parquet('Orders2.parquet')"
      ],
      "metadata": {
        "id": "iVmEgVXHvIlo"
      },
      "execution_count": 15,
      "outputs": []
    },
    {
      "cell_type": "code",
      "source": [
        "# Note that parquet files are much smaller\n",
        "#!ls -al Orders2.*\n",
        "!ls -al"
      ],
      "metadata": {
        "id": "eIuSYj-uT9dB",
        "outputId": "8cc62e0c-82c0-4db5-a52e-df47f0670792",
        "colab": {
          "base_uri": "https://localhost:8080/"
        }
      },
      "execution_count": 17,
      "outputs": [
        {
          "output_type": "stream",
          "name": "stdout",
          "text": [
            "total 14404\n",
            "drwxr-xr-x 1 root root     4096 Sep 12 02:12 .\n",
            "drwxr-xr-x 1 root root     4096 Sep 12 02:09 ..\n",
            "-rw-r--r-- 1 root root  2283831 Sep 12 02:11 BigOrders.zip\n",
            "drwxr-xr-x 4 root root     4096 Sep  8 13:23 .config\n",
            "-rw-r--r-- 1 root root 10865023 Sep 12 02:12 Orders2.csv\n",
            "-rw-r--r-- 1 root root  1578615 Sep 12 02:12 Orders2.parquet\n",
            "drwxr-xr-x 1 root root     4096 Sep  8 13:24 sample_data\n"
          ]
        }
      ]
    },
    {
      "cell_type": "code",
      "source": [
        "import pyarrow.csv as pv\n",
        "import pyarrow.parquet as pq"
      ],
      "metadata": {
        "id": "TOnwOrrzUXY6"
      },
      "execution_count": 18,
      "outputs": []
    },
    {
      "cell_type": "code",
      "source": [
        "pf = pq.ParquetFile('Orders2.parquet')"
      ],
      "metadata": {
        "id": "K5hzL8xlxwDq"
      },
      "execution_count": 19,
      "outputs": []
    },
    {
      "cell_type": "code",
      "source": [
        "pf.metadata"
      ],
      "metadata": {
        "colab": {
          "base_uri": "https://localhost:8080/"
        },
        "id": "9dW1_J6ix6Hq",
        "outputId": "998aa640-d9b5-47b9-ea1d-184979710b51"
      },
      "execution_count": 20,
      "outputs": [
        {
          "output_type": "execute_result",
          "data": {
            "text/plain": [
              "<pyarrow._parquet.FileMetaData object at 0x7a33c1ebd8f0>\n",
              "  created_by: parquet-cpp-arrow version 9.0.0\n",
              "  num_columns: 21\n",
              "  num_rows: 51290\n",
              "  num_row_groups: 1\n",
              "  format_version: 2.6\n",
              "  serialized_size: 10836"
            ]
          },
          "metadata": {},
          "execution_count": 20
        }
      ]
    },
    {
      "cell_type": "code",
      "source": [
        "pf.metadata.row_group(0)"
      ],
      "metadata": {
        "colab": {
          "base_uri": "https://localhost:8080/"
        },
        "id": "R5LmpajoyEO-",
        "outputId": "86c023fa-04c6-460b-c2cd-4d027609661f"
      },
      "execution_count": 21,
      "outputs": [
        {
          "output_type": "execute_result",
          "data": {
            "text/plain": [
              "<pyarrow._parquet.RowGroupMetaData object at 0x7a33c1f0dd00>\n",
              "  num_columns: 21\n",
              "  num_rows: 51290\n",
              "  total_byte_size: 2104669"
            ]
          },
          "metadata": {},
          "execution_count": 21
        }
      ]
    },
    {
      "cell_type": "code",
      "source": [
        "pf.metadata.row_group(0).column(1)"
      ],
      "metadata": {
        "colab": {
          "base_uri": "https://localhost:8080/"
        },
        "id": "1p19TnuRyLdc",
        "outputId": "268467a3-8b7c-4d80-8400-2cb2846a1d04"
      },
      "execution_count": 22,
      "outputs": [
        {
          "output_type": "execute_result",
          "data": {
            "text/plain": [
              "<pyarrow._parquet.ColumnChunkMetaData object at 0x7a33c1f153a0>\n",
              "  file_offset: 310458\n",
              "  file_path: \n",
              "  physical_type: INT64\n",
              "  num_values: 51290\n",
              "  path_in_schema: order_date\n",
              "  is_stats_set: True\n",
              "  statistics:\n",
              "    <pyarrow._parquet.Statistics object at 0x7a33c1f15440>\n",
              "      has_min_max: True\n",
              "      min: 2011-01-01 00:00:00\n",
              "      max: 2014-12-31 00:00:00\n",
              "      null_count: 0\n",
              "      distinct_count: 0\n",
              "      num_values: 51290\n",
              "      physical_type: INT64\n",
              "      logical_type: Timestamp(isAdjustedToUTC=false, timeUnit=microseconds, is_from_converted_type=false, force_set_converted_type=false)\n",
              "      converted_type (legacy): NONE\n",
              "  compression: SNAPPY\n",
              "  encodings: ('RLE_DICTIONARY', 'PLAIN', 'RLE')\n",
              "  has_dictionary_page: True\n",
              "  dictionary_page_offset: 294520\n",
              "  data_page_offset: 304575\n",
              "  total_compressed_size: 15938\n",
              "  total_uncompressed_size: 17356"
            ]
          },
          "metadata": {},
          "execution_count": 22
        }
      ]
    },
    {
      "cell_type": "code",
      "source": [
        "pf.metadata.row_group(0).column(20)"
      ],
      "metadata": {
        "colab": {
          "base_uri": "https://localhost:8080/"
        },
        "id": "B93i7gibyYpQ",
        "outputId": "9fef3a12-6c31-4cd4-ca35-dce4b0c51832"
      },
      "execution_count": 23,
      "outputs": [
        {
          "output_type": "execute_result",
          "data": {
            "text/plain": [
              "<pyarrow._parquet.ColumnChunkMetaData object at 0x7a33c1f157b0>\n",
              "  file_offset: 1567667\n",
              "  file_path: \n",
              "  physical_type: INT64\n",
              "  num_values: 51290\n",
              "  path_in_schema: year\n",
              "  is_stats_set: True\n",
              "  statistics:\n",
              "    <pyarrow._parquet.Statistics object at 0x7a33c1f149f0>\n",
              "      has_min_max: True\n",
              "      min: 2011\n",
              "      max: 2014\n",
              "      null_count: 0\n",
              "      distinct_count: 0\n",
              "      num_values: 51290\n",
              "      physical_type: INT64\n",
              "      logical_type: None\n",
              "      converted_type (legacy): NONE\n",
              "  compression: SNAPPY\n",
              "  encodings: ('RLE_DICTIONARY', 'PLAIN', 'RLE')\n",
              "  has_dictionary_page: True\n",
              "  dictionary_page_offset: 1567535\n",
              "  data_page_offset: 1567577\n",
              "  total_compressed_size: 132\n",
              "  total_uncompressed_size: 134"
            ]
          },
          "metadata": {},
          "execution_count": 23
        }
      ]
    },
    {
      "cell_type": "markdown",
      "source": [
        "#Parquet to Pandas Dataframe"
      ],
      "metadata": {
        "id": "XsFgYLoyvdZK"
      }
    },
    {
      "cell_type": "code",
      "source": [
        "dfFull = pd.read_parquet('Orders2.parquet')\n",
        "dfFull.head(2)"
      ],
      "metadata": {
        "colab": {
          "base_uri": "https://localhost:8080/",
          "height": 214
        },
        "id": "F09Ta99IvgwV",
        "outputId": "a16c2e8a-4b7e-45a8-8864-692a8ea6b902"
      },
      "execution_count": 24,
      "outputs": [
        {
          "output_type": "execute_result",
          "data": {
            "text/plain": [
              "        order_id order_date  ship_date       ship_mode    customer_name  \\\n",
              "0   AG-2011-2040 2011-01-01 2011-01-06  Standard Class  Toby Braunhardt   \n",
              "1  IN-2011-47883 2011-01-01 2011-01-08  Standard Class      Joseph Holt   \n",
              "\n",
              "    segment            state    country  market   region  ...  \\\n",
              "0  Consumer      Constantine    Algeria  Africa   Africa  ...   \n",
              "1  Consumer  New South Wales  Australia    APAC  Oceania  ...   \n",
              "\n",
              "          category sub_category              product_name sales  quantity  \\\n",
              "0  Office Supplies      Storage       Tenex Lockers, Blue   408         2   \n",
              "1  Office Supplies     Supplies  Acme Trimmer, High Speed   120         3   \n",
              "\n",
              "   discount   profit  shipping_cost  order_priority  year  \n",
              "0       0.0  106.140          35.46          Medium  2011  \n",
              "1       0.1   36.036           9.72          Medium  2011  \n",
              "\n",
              "[2 rows x 21 columns]"
            ],
            "text/html": [
              "\n",
              "  <div id=\"df-fb57bfb7-8205-482f-b2f7-afbaf1df623d\" class=\"colab-df-container\">\n",
              "    <div>\n",
              "<style scoped>\n",
              "    .dataframe tbody tr th:only-of-type {\n",
              "        vertical-align: middle;\n",
              "    }\n",
              "\n",
              "    .dataframe tbody tr th {\n",
              "        vertical-align: top;\n",
              "    }\n",
              "\n",
              "    .dataframe thead th {\n",
              "        text-align: right;\n",
              "    }\n",
              "</style>\n",
              "<table border=\"1\" class=\"dataframe\">\n",
              "  <thead>\n",
              "    <tr style=\"text-align: right;\">\n",
              "      <th></th>\n",
              "      <th>order_id</th>\n",
              "      <th>order_date</th>\n",
              "      <th>ship_date</th>\n",
              "      <th>ship_mode</th>\n",
              "      <th>customer_name</th>\n",
              "      <th>segment</th>\n",
              "      <th>state</th>\n",
              "      <th>country</th>\n",
              "      <th>market</th>\n",
              "      <th>region</th>\n",
              "      <th>...</th>\n",
              "      <th>category</th>\n",
              "      <th>sub_category</th>\n",
              "      <th>product_name</th>\n",
              "      <th>sales</th>\n",
              "      <th>quantity</th>\n",
              "      <th>discount</th>\n",
              "      <th>profit</th>\n",
              "      <th>shipping_cost</th>\n",
              "      <th>order_priority</th>\n",
              "      <th>year</th>\n",
              "    </tr>\n",
              "  </thead>\n",
              "  <tbody>\n",
              "    <tr>\n",
              "      <th>0</th>\n",
              "      <td>AG-2011-2040</td>\n",
              "      <td>2011-01-01</td>\n",
              "      <td>2011-01-06</td>\n",
              "      <td>Standard Class</td>\n",
              "      <td>Toby Braunhardt</td>\n",
              "      <td>Consumer</td>\n",
              "      <td>Constantine</td>\n",
              "      <td>Algeria</td>\n",
              "      <td>Africa</td>\n",
              "      <td>Africa</td>\n",
              "      <td>...</td>\n",
              "      <td>Office Supplies</td>\n",
              "      <td>Storage</td>\n",
              "      <td>Tenex Lockers, Blue</td>\n",
              "      <td>408</td>\n",
              "      <td>2</td>\n",
              "      <td>0.0</td>\n",
              "      <td>106.140</td>\n",
              "      <td>35.46</td>\n",
              "      <td>Medium</td>\n",
              "      <td>2011</td>\n",
              "    </tr>\n",
              "    <tr>\n",
              "      <th>1</th>\n",
              "      <td>IN-2011-47883</td>\n",
              "      <td>2011-01-01</td>\n",
              "      <td>2011-01-08</td>\n",
              "      <td>Standard Class</td>\n",
              "      <td>Joseph Holt</td>\n",
              "      <td>Consumer</td>\n",
              "      <td>New South Wales</td>\n",
              "      <td>Australia</td>\n",
              "      <td>APAC</td>\n",
              "      <td>Oceania</td>\n",
              "      <td>...</td>\n",
              "      <td>Office Supplies</td>\n",
              "      <td>Supplies</td>\n",
              "      <td>Acme Trimmer, High Speed</td>\n",
              "      <td>120</td>\n",
              "      <td>3</td>\n",
              "      <td>0.1</td>\n",
              "      <td>36.036</td>\n",
              "      <td>9.72</td>\n",
              "      <td>Medium</td>\n",
              "      <td>2011</td>\n",
              "    </tr>\n",
              "  </tbody>\n",
              "</table>\n",
              "<p>2 rows × 21 columns</p>\n",
              "</div>\n",
              "    <div class=\"colab-df-buttons\">\n",
              "\n",
              "  <div class=\"colab-df-container\">\n",
              "    <button class=\"colab-df-convert\" onclick=\"convertToInteractive('df-fb57bfb7-8205-482f-b2f7-afbaf1df623d')\"\n",
              "            title=\"Convert this dataframe to an interactive table.\"\n",
              "            style=\"display:none;\">\n",
              "\n",
              "  <svg xmlns=\"http://www.w3.org/2000/svg\" height=\"24px\" viewBox=\"0 -960 960 960\">\n",
              "    <path d=\"M120-120v-720h720v720H120Zm60-500h600v-160H180v160Zm220 220h160v-160H400v160Zm0 220h160v-160H400v160ZM180-400h160v-160H180v160Zm440 0h160v-160H620v160ZM180-180h160v-160H180v160Zm440 0h160v-160H620v160Z\"/>\n",
              "  </svg>\n",
              "    </button>\n",
              "\n",
              "  <style>\n",
              "    .colab-df-container {\n",
              "      display:flex;\n",
              "      gap: 12px;\n",
              "    }\n",
              "\n",
              "    .colab-df-convert {\n",
              "      background-color: #E8F0FE;\n",
              "      border: none;\n",
              "      border-radius: 50%;\n",
              "      cursor: pointer;\n",
              "      display: none;\n",
              "      fill: #1967D2;\n",
              "      height: 32px;\n",
              "      padding: 0 0 0 0;\n",
              "      width: 32px;\n",
              "    }\n",
              "\n",
              "    .colab-df-convert:hover {\n",
              "      background-color: #E2EBFA;\n",
              "      box-shadow: 0px 1px 2px rgba(60, 64, 67, 0.3), 0px 1px 3px 1px rgba(60, 64, 67, 0.15);\n",
              "      fill: #174EA6;\n",
              "    }\n",
              "\n",
              "    .colab-df-buttons div {\n",
              "      margin-bottom: 4px;\n",
              "    }\n",
              "\n",
              "    [theme=dark] .colab-df-convert {\n",
              "      background-color: #3B4455;\n",
              "      fill: #D2E3FC;\n",
              "    }\n",
              "\n",
              "    [theme=dark] .colab-df-convert:hover {\n",
              "      background-color: #434B5C;\n",
              "      box-shadow: 0px 1px 3px 1px rgba(0, 0, 0, 0.15);\n",
              "      filter: drop-shadow(0px 1px 2px rgba(0, 0, 0, 0.3));\n",
              "      fill: #FFFFFF;\n",
              "    }\n",
              "  </style>\n",
              "\n",
              "    <script>\n",
              "      const buttonEl =\n",
              "        document.querySelector('#df-fb57bfb7-8205-482f-b2f7-afbaf1df623d button.colab-df-convert');\n",
              "      buttonEl.style.display =\n",
              "        google.colab.kernel.accessAllowed ? 'block' : 'none';\n",
              "\n",
              "      async function convertToInteractive(key) {\n",
              "        const element = document.querySelector('#df-fb57bfb7-8205-482f-b2f7-afbaf1df623d');\n",
              "        const dataTable =\n",
              "          await google.colab.kernel.invokeFunction('convertToInteractive',\n",
              "                                                    [key], {});\n",
              "        if (!dataTable) return;\n",
              "\n",
              "        const docLinkHtml = 'Like what you see? Visit the ' +\n",
              "          '<a target=\"_blank\" href=https://colab.research.google.com/notebooks/data_table.ipynb>data table notebook</a>'\n",
              "          + ' to learn more about interactive tables.';\n",
              "        element.innerHTML = '';\n",
              "        dataTable['output_type'] = 'display_data';\n",
              "        await google.colab.output.renderOutput(dataTable, element);\n",
              "        const docLink = document.createElement('div');\n",
              "        docLink.innerHTML = docLinkHtml;\n",
              "        element.appendChild(docLink);\n",
              "      }\n",
              "    </script>\n",
              "  </div>\n",
              "\n",
              "\n",
              "<div id=\"df-5bc7e558-507b-42ff-8221-cfe34b2e7bc1\">\n",
              "  <button class=\"colab-df-quickchart\" onclick=\"quickchart('df-5bc7e558-507b-42ff-8221-cfe34b2e7bc1')\"\n",
              "            title=\"Suggest charts.\"\n",
              "            style=\"display:none;\">\n",
              "\n",
              "<svg xmlns=\"http://www.w3.org/2000/svg\" height=\"24px\"viewBox=\"0 0 24 24\"\n",
              "     width=\"24px\">\n",
              "    <g>\n",
              "        <path d=\"M19 3H5c-1.1 0-2 .9-2 2v14c0 1.1.9 2 2 2h14c1.1 0 2-.9 2-2V5c0-1.1-.9-2-2-2zM9 17H7v-7h2v7zm4 0h-2V7h2v10zm4 0h-2v-4h2v4z\"/>\n",
              "    </g>\n",
              "</svg>\n",
              "  </button>\n",
              "\n",
              "<style>\n",
              "  .colab-df-quickchart {\n",
              "      --bg-color: #E8F0FE;\n",
              "      --fill-color: #1967D2;\n",
              "      --hover-bg-color: #E2EBFA;\n",
              "      --hover-fill-color: #174EA6;\n",
              "      --disabled-fill-color: #AAA;\n",
              "      --disabled-bg-color: #DDD;\n",
              "  }\n",
              "\n",
              "  [theme=dark] .colab-df-quickchart {\n",
              "      --bg-color: #3B4455;\n",
              "      --fill-color: #D2E3FC;\n",
              "      --hover-bg-color: #434B5C;\n",
              "      --hover-fill-color: #FFFFFF;\n",
              "      --disabled-bg-color: #3B4455;\n",
              "      --disabled-fill-color: #666;\n",
              "  }\n",
              "\n",
              "  .colab-df-quickchart {\n",
              "    background-color: var(--bg-color);\n",
              "    border: none;\n",
              "    border-radius: 50%;\n",
              "    cursor: pointer;\n",
              "    display: none;\n",
              "    fill: var(--fill-color);\n",
              "    height: 32px;\n",
              "    padding: 0;\n",
              "    width: 32px;\n",
              "  }\n",
              "\n",
              "  .colab-df-quickchart:hover {\n",
              "    background-color: var(--hover-bg-color);\n",
              "    box-shadow: 0 1px 2px rgba(60, 64, 67, 0.3), 0 1px 3px 1px rgba(60, 64, 67, 0.15);\n",
              "    fill: var(--button-hover-fill-color);\n",
              "  }\n",
              "\n",
              "  .colab-df-quickchart-complete:disabled,\n",
              "  .colab-df-quickchart-complete:disabled:hover {\n",
              "    background-color: var(--disabled-bg-color);\n",
              "    fill: var(--disabled-fill-color);\n",
              "    box-shadow: none;\n",
              "  }\n",
              "\n",
              "  .colab-df-spinner {\n",
              "    border: 2px solid var(--fill-color);\n",
              "    border-color: transparent;\n",
              "    border-bottom-color: var(--fill-color);\n",
              "    animation:\n",
              "      spin 1s steps(1) infinite;\n",
              "  }\n",
              "\n",
              "  @keyframes spin {\n",
              "    0% {\n",
              "      border-color: transparent;\n",
              "      border-bottom-color: var(--fill-color);\n",
              "      border-left-color: var(--fill-color);\n",
              "    }\n",
              "    20% {\n",
              "      border-color: transparent;\n",
              "      border-left-color: var(--fill-color);\n",
              "      border-top-color: var(--fill-color);\n",
              "    }\n",
              "    30% {\n",
              "      border-color: transparent;\n",
              "      border-left-color: var(--fill-color);\n",
              "      border-top-color: var(--fill-color);\n",
              "      border-right-color: var(--fill-color);\n",
              "    }\n",
              "    40% {\n",
              "      border-color: transparent;\n",
              "      border-right-color: var(--fill-color);\n",
              "      border-top-color: var(--fill-color);\n",
              "    }\n",
              "    60% {\n",
              "      border-color: transparent;\n",
              "      border-right-color: var(--fill-color);\n",
              "    }\n",
              "    80% {\n",
              "      border-color: transparent;\n",
              "      border-right-color: var(--fill-color);\n",
              "      border-bottom-color: var(--fill-color);\n",
              "    }\n",
              "    90% {\n",
              "      border-color: transparent;\n",
              "      border-bottom-color: var(--fill-color);\n",
              "    }\n",
              "  }\n",
              "</style>\n",
              "\n",
              "  <script>\n",
              "    async function quickchart(key) {\n",
              "      const quickchartButtonEl =\n",
              "        document.querySelector('#' + key + ' button');\n",
              "      quickchartButtonEl.disabled = true;  // To prevent multiple clicks.\n",
              "      quickchartButtonEl.classList.add('colab-df-spinner');\n",
              "      try {\n",
              "        const charts = await google.colab.kernel.invokeFunction(\n",
              "            'suggestCharts', [key], {});\n",
              "      } catch (error) {\n",
              "        console.error('Error during call to suggestCharts:', error);\n",
              "      }\n",
              "      quickchartButtonEl.classList.remove('colab-df-spinner');\n",
              "      quickchartButtonEl.classList.add('colab-df-quickchart-complete');\n",
              "    }\n",
              "    (() => {\n",
              "      let quickchartButtonEl =\n",
              "        document.querySelector('#df-5bc7e558-507b-42ff-8221-cfe34b2e7bc1 button');\n",
              "      quickchartButtonEl.style.display =\n",
              "        google.colab.kernel.accessAllowed ? 'block' : 'none';\n",
              "    })();\n",
              "  </script>\n",
              "</div>\n",
              "    </div>\n",
              "  </div>\n"
            ]
          },
          "metadata": {},
          "execution_count": 24
        }
      ]
    },
    {
      "cell_type": "code",
      "source": [
        "#selCols = ['Order ID','Order Date','Segment','Region','Category','Sales','Quantity','Profit']\n",
        "selCols = ['order_id','order_date','segment','region','category','sales','quantity','profit','year']\n",
        "dfSelect = pd.read_parquet('Orders2.parquet', columns=selCols)\n",
        "dfSelect.head(2)"
      ],
      "metadata": {
        "id": "IJQTP8lHVUa0",
        "outputId": "44b8e712-eb3d-4857-f011-e10de8a93843",
        "colab": {
          "base_uri": "https://localhost:8080/",
          "height": 112
        }
      },
      "execution_count": 26,
      "outputs": [
        {
          "output_type": "execute_result",
          "data": {
            "text/plain": [
              "        order_id order_date   segment   region         category  sales  \\\n",
              "0   AG-2011-2040 2011-01-01  Consumer   Africa  Office Supplies    408   \n",
              "1  IN-2011-47883 2011-01-01  Consumer  Oceania  Office Supplies    120   \n",
              "\n",
              "   quantity   profit  year  \n",
              "0         2  106.140  2011  \n",
              "1         3   36.036  2011  "
            ],
            "text/html": [
              "\n",
              "  <div id=\"df-c3d2cd13-1dfa-4514-8d1a-ad9ede61f421\" class=\"colab-df-container\">\n",
              "    <div>\n",
              "<style scoped>\n",
              "    .dataframe tbody tr th:only-of-type {\n",
              "        vertical-align: middle;\n",
              "    }\n",
              "\n",
              "    .dataframe tbody tr th {\n",
              "        vertical-align: top;\n",
              "    }\n",
              "\n",
              "    .dataframe thead th {\n",
              "        text-align: right;\n",
              "    }\n",
              "</style>\n",
              "<table border=\"1\" class=\"dataframe\">\n",
              "  <thead>\n",
              "    <tr style=\"text-align: right;\">\n",
              "      <th></th>\n",
              "      <th>order_id</th>\n",
              "      <th>order_date</th>\n",
              "      <th>segment</th>\n",
              "      <th>region</th>\n",
              "      <th>category</th>\n",
              "      <th>sales</th>\n",
              "      <th>quantity</th>\n",
              "      <th>profit</th>\n",
              "      <th>year</th>\n",
              "    </tr>\n",
              "  </thead>\n",
              "  <tbody>\n",
              "    <tr>\n",
              "      <th>0</th>\n",
              "      <td>AG-2011-2040</td>\n",
              "      <td>2011-01-01</td>\n",
              "      <td>Consumer</td>\n",
              "      <td>Africa</td>\n",
              "      <td>Office Supplies</td>\n",
              "      <td>408</td>\n",
              "      <td>2</td>\n",
              "      <td>106.140</td>\n",
              "      <td>2011</td>\n",
              "    </tr>\n",
              "    <tr>\n",
              "      <th>1</th>\n",
              "      <td>IN-2011-47883</td>\n",
              "      <td>2011-01-01</td>\n",
              "      <td>Consumer</td>\n",
              "      <td>Oceania</td>\n",
              "      <td>Office Supplies</td>\n",
              "      <td>120</td>\n",
              "      <td>3</td>\n",
              "      <td>36.036</td>\n",
              "      <td>2011</td>\n",
              "    </tr>\n",
              "  </tbody>\n",
              "</table>\n",
              "</div>\n",
              "    <div class=\"colab-df-buttons\">\n",
              "\n",
              "  <div class=\"colab-df-container\">\n",
              "    <button class=\"colab-df-convert\" onclick=\"convertToInteractive('df-c3d2cd13-1dfa-4514-8d1a-ad9ede61f421')\"\n",
              "            title=\"Convert this dataframe to an interactive table.\"\n",
              "            style=\"display:none;\">\n",
              "\n",
              "  <svg xmlns=\"http://www.w3.org/2000/svg\" height=\"24px\" viewBox=\"0 -960 960 960\">\n",
              "    <path d=\"M120-120v-720h720v720H120Zm60-500h600v-160H180v160Zm220 220h160v-160H400v160Zm0 220h160v-160H400v160ZM180-400h160v-160H180v160Zm440 0h160v-160H620v160ZM180-180h160v-160H180v160Zm440 0h160v-160H620v160Z\"/>\n",
              "  </svg>\n",
              "    </button>\n",
              "\n",
              "  <style>\n",
              "    .colab-df-container {\n",
              "      display:flex;\n",
              "      gap: 12px;\n",
              "    }\n",
              "\n",
              "    .colab-df-convert {\n",
              "      background-color: #E8F0FE;\n",
              "      border: none;\n",
              "      border-radius: 50%;\n",
              "      cursor: pointer;\n",
              "      display: none;\n",
              "      fill: #1967D2;\n",
              "      height: 32px;\n",
              "      padding: 0 0 0 0;\n",
              "      width: 32px;\n",
              "    }\n",
              "\n",
              "    .colab-df-convert:hover {\n",
              "      background-color: #E2EBFA;\n",
              "      box-shadow: 0px 1px 2px rgba(60, 64, 67, 0.3), 0px 1px 3px 1px rgba(60, 64, 67, 0.15);\n",
              "      fill: #174EA6;\n",
              "    }\n",
              "\n",
              "    .colab-df-buttons div {\n",
              "      margin-bottom: 4px;\n",
              "    }\n",
              "\n",
              "    [theme=dark] .colab-df-convert {\n",
              "      background-color: #3B4455;\n",
              "      fill: #D2E3FC;\n",
              "    }\n",
              "\n",
              "    [theme=dark] .colab-df-convert:hover {\n",
              "      background-color: #434B5C;\n",
              "      box-shadow: 0px 1px 3px 1px rgba(0, 0, 0, 0.15);\n",
              "      filter: drop-shadow(0px 1px 2px rgba(0, 0, 0, 0.3));\n",
              "      fill: #FFFFFF;\n",
              "    }\n",
              "  </style>\n",
              "\n",
              "    <script>\n",
              "      const buttonEl =\n",
              "        document.querySelector('#df-c3d2cd13-1dfa-4514-8d1a-ad9ede61f421 button.colab-df-convert');\n",
              "      buttonEl.style.display =\n",
              "        google.colab.kernel.accessAllowed ? 'block' : 'none';\n",
              "\n",
              "      async function convertToInteractive(key) {\n",
              "        const element = document.querySelector('#df-c3d2cd13-1dfa-4514-8d1a-ad9ede61f421');\n",
              "        const dataTable =\n",
              "          await google.colab.kernel.invokeFunction('convertToInteractive',\n",
              "                                                    [key], {});\n",
              "        if (!dataTable) return;\n",
              "\n",
              "        const docLinkHtml = 'Like what you see? Visit the ' +\n",
              "          '<a target=\"_blank\" href=https://colab.research.google.com/notebooks/data_table.ipynb>data table notebook</a>'\n",
              "          + ' to learn more about interactive tables.';\n",
              "        element.innerHTML = '';\n",
              "        dataTable['output_type'] = 'display_data';\n",
              "        await google.colab.output.renderOutput(dataTable, element);\n",
              "        const docLink = document.createElement('div');\n",
              "        docLink.innerHTML = docLinkHtml;\n",
              "        element.appendChild(docLink);\n",
              "      }\n",
              "    </script>\n",
              "  </div>\n",
              "\n",
              "\n",
              "<div id=\"df-fccf9bc2-c7af-43b4-aaa1-db3ccbc10073\">\n",
              "  <button class=\"colab-df-quickchart\" onclick=\"quickchart('df-fccf9bc2-c7af-43b4-aaa1-db3ccbc10073')\"\n",
              "            title=\"Suggest charts.\"\n",
              "            style=\"display:none;\">\n",
              "\n",
              "<svg xmlns=\"http://www.w3.org/2000/svg\" height=\"24px\"viewBox=\"0 0 24 24\"\n",
              "     width=\"24px\">\n",
              "    <g>\n",
              "        <path d=\"M19 3H5c-1.1 0-2 .9-2 2v14c0 1.1.9 2 2 2h14c1.1 0 2-.9 2-2V5c0-1.1-.9-2-2-2zM9 17H7v-7h2v7zm4 0h-2V7h2v10zm4 0h-2v-4h2v4z\"/>\n",
              "    </g>\n",
              "</svg>\n",
              "  </button>\n",
              "\n",
              "<style>\n",
              "  .colab-df-quickchart {\n",
              "      --bg-color: #E8F0FE;\n",
              "      --fill-color: #1967D2;\n",
              "      --hover-bg-color: #E2EBFA;\n",
              "      --hover-fill-color: #174EA6;\n",
              "      --disabled-fill-color: #AAA;\n",
              "      --disabled-bg-color: #DDD;\n",
              "  }\n",
              "\n",
              "  [theme=dark] .colab-df-quickchart {\n",
              "      --bg-color: #3B4455;\n",
              "      --fill-color: #D2E3FC;\n",
              "      --hover-bg-color: #434B5C;\n",
              "      --hover-fill-color: #FFFFFF;\n",
              "      --disabled-bg-color: #3B4455;\n",
              "      --disabled-fill-color: #666;\n",
              "  }\n",
              "\n",
              "  .colab-df-quickchart {\n",
              "    background-color: var(--bg-color);\n",
              "    border: none;\n",
              "    border-radius: 50%;\n",
              "    cursor: pointer;\n",
              "    display: none;\n",
              "    fill: var(--fill-color);\n",
              "    height: 32px;\n",
              "    padding: 0;\n",
              "    width: 32px;\n",
              "  }\n",
              "\n",
              "  .colab-df-quickchart:hover {\n",
              "    background-color: var(--hover-bg-color);\n",
              "    box-shadow: 0 1px 2px rgba(60, 64, 67, 0.3), 0 1px 3px 1px rgba(60, 64, 67, 0.15);\n",
              "    fill: var(--button-hover-fill-color);\n",
              "  }\n",
              "\n",
              "  .colab-df-quickchart-complete:disabled,\n",
              "  .colab-df-quickchart-complete:disabled:hover {\n",
              "    background-color: var(--disabled-bg-color);\n",
              "    fill: var(--disabled-fill-color);\n",
              "    box-shadow: none;\n",
              "  }\n",
              "\n",
              "  .colab-df-spinner {\n",
              "    border: 2px solid var(--fill-color);\n",
              "    border-color: transparent;\n",
              "    border-bottom-color: var(--fill-color);\n",
              "    animation:\n",
              "      spin 1s steps(1) infinite;\n",
              "  }\n",
              "\n",
              "  @keyframes spin {\n",
              "    0% {\n",
              "      border-color: transparent;\n",
              "      border-bottom-color: var(--fill-color);\n",
              "      border-left-color: var(--fill-color);\n",
              "    }\n",
              "    20% {\n",
              "      border-color: transparent;\n",
              "      border-left-color: var(--fill-color);\n",
              "      border-top-color: var(--fill-color);\n",
              "    }\n",
              "    30% {\n",
              "      border-color: transparent;\n",
              "      border-left-color: var(--fill-color);\n",
              "      border-top-color: var(--fill-color);\n",
              "      border-right-color: var(--fill-color);\n",
              "    }\n",
              "    40% {\n",
              "      border-color: transparent;\n",
              "      border-right-color: var(--fill-color);\n",
              "      border-top-color: var(--fill-color);\n",
              "    }\n",
              "    60% {\n",
              "      border-color: transparent;\n",
              "      border-right-color: var(--fill-color);\n",
              "    }\n",
              "    80% {\n",
              "      border-color: transparent;\n",
              "      border-right-color: var(--fill-color);\n",
              "      border-bottom-color: var(--fill-color);\n",
              "    }\n",
              "    90% {\n",
              "      border-color: transparent;\n",
              "      border-bottom-color: var(--fill-color);\n",
              "    }\n",
              "  }\n",
              "</style>\n",
              "\n",
              "  <script>\n",
              "    async function quickchart(key) {\n",
              "      const quickchartButtonEl =\n",
              "        document.querySelector('#' + key + ' button');\n",
              "      quickchartButtonEl.disabled = true;  // To prevent multiple clicks.\n",
              "      quickchartButtonEl.classList.add('colab-df-spinner');\n",
              "      try {\n",
              "        const charts = await google.colab.kernel.invokeFunction(\n",
              "            'suggestCharts', [key], {});\n",
              "      } catch (error) {\n",
              "        console.error('Error during call to suggestCharts:', error);\n",
              "      }\n",
              "      quickchartButtonEl.classList.remove('colab-df-spinner');\n",
              "      quickchartButtonEl.classList.add('colab-df-quickchart-complete');\n",
              "    }\n",
              "    (() => {\n",
              "      let quickchartButtonEl =\n",
              "        document.querySelector('#df-fccf9bc2-c7af-43b4-aaa1-db3ccbc10073 button');\n",
              "      quickchartButtonEl.style.display =\n",
              "        google.colab.kernel.accessAllowed ? 'block' : 'none';\n",
              "    })();\n",
              "  </script>\n",
              "</div>\n",
              "    </div>\n",
              "  </div>\n"
            ]
          },
          "metadata": {},
          "execution_count": 26
        }
      ]
    },
    {
      "cell_type": "code",
      "source": [
        "dfSelect.info()"
      ],
      "metadata": {
        "colab": {
          "base_uri": "https://localhost:8080/"
        },
        "id": "CLOjk0hx0Tdn",
        "outputId": "73e598bd-68c4-420b-be92-f3db2ab8917b"
      },
      "execution_count": 27,
      "outputs": [
        {
          "output_type": "stream",
          "name": "stdout",
          "text": [
            "<class 'pandas.core.frame.DataFrame'>\n",
            "RangeIndex: 51290 entries, 0 to 51289\n",
            "Data columns (total 9 columns):\n",
            " #   Column      Non-Null Count  Dtype         \n",
            "---  ------      --------------  -----         \n",
            " 0   order_id    51290 non-null  object        \n",
            " 1   order_date  51290 non-null  datetime64[ns]\n",
            " 2   segment     51290 non-null  object        \n",
            " 3   region      51290 non-null  object        \n",
            " 4   category    51290 non-null  object        \n",
            " 5   sales       51290 non-null  int64         \n",
            " 6   quantity    51290 non-null  int64         \n",
            " 7   profit      51290 non-null  float64       \n",
            " 8   year        51290 non-null  int64         \n",
            "dtypes: datetime64[ns](1), float64(1), int64(3), object(4)\n",
            "memory usage: 3.5+ MB\n"
          ]
        }
      ]
    },
    {
      "cell_type": "markdown",
      "source": [
        "#PyArrow"
      ],
      "metadata": {
        "id": "35K5faHAwN-g"
      }
    },
    {
      "cell_type": "code",
      "source": [
        "import pyarrow.csv as pv\n",
        "import pyarrow.parquet as pq"
      ],
      "metadata": {
        "id": "FSIxza8swTFh"
      },
      "execution_count": 28,
      "outputs": []
    },
    {
      "cell_type": "code",
      "source": [
        "table = pv.read_csv('Orders2.csv')"
      ],
      "metadata": {
        "id": "0VgGZ1b8wYju"
      },
      "execution_count": 29,
      "outputs": []
    },
    {
      "cell_type": "code",
      "source": [
        "table_df = table.to_pandas()\n",
        "table_df.head(2)"
      ],
      "metadata": {
        "colab": {
          "base_uri": "https://localhost:8080/",
          "height": 214
        },
        "id": "JaIEX9RZxM7p",
        "outputId": "b2e76123-f804-4be9-c6f3-bebb132adf7f"
      },
      "execution_count": 30,
      "outputs": [
        {
          "output_type": "execute_result",
          "data": {
            "text/plain": [
              "        order_id  order_date   ship_date       ship_mode    customer_name  \\\n",
              "0   AG-2011-2040  2011-01-01  2011-01-06  Standard Class  Toby Braunhardt   \n",
              "1  IN-2011-47883  2011-01-01  2011-01-08  Standard Class      Joseph Holt   \n",
              "\n",
              "    segment            state    country  market   region  ...  \\\n",
              "0  Consumer      Constantine    Algeria  Africa   Africa  ...   \n",
              "1  Consumer  New South Wales  Australia    APAC  Oceania  ...   \n",
              "\n",
              "          category sub_category              product_name sales  quantity  \\\n",
              "0  Office Supplies      Storage       Tenex Lockers, Blue   408         2   \n",
              "1  Office Supplies     Supplies  Acme Trimmer, High Speed   120         3   \n",
              "\n",
              "   discount   profit  shipping_cost  order_priority  year  \n",
              "0       0.0  106.140          35.46          Medium  2011  \n",
              "1       0.1   36.036           9.72          Medium  2011  \n",
              "\n",
              "[2 rows x 21 columns]"
            ],
            "text/html": [
              "\n",
              "  <div id=\"df-102d3007-da1d-4287-b393-80c6f7a5061b\" class=\"colab-df-container\">\n",
              "    <div>\n",
              "<style scoped>\n",
              "    .dataframe tbody tr th:only-of-type {\n",
              "        vertical-align: middle;\n",
              "    }\n",
              "\n",
              "    .dataframe tbody tr th {\n",
              "        vertical-align: top;\n",
              "    }\n",
              "\n",
              "    .dataframe thead th {\n",
              "        text-align: right;\n",
              "    }\n",
              "</style>\n",
              "<table border=\"1\" class=\"dataframe\">\n",
              "  <thead>\n",
              "    <tr style=\"text-align: right;\">\n",
              "      <th></th>\n",
              "      <th>order_id</th>\n",
              "      <th>order_date</th>\n",
              "      <th>ship_date</th>\n",
              "      <th>ship_mode</th>\n",
              "      <th>customer_name</th>\n",
              "      <th>segment</th>\n",
              "      <th>state</th>\n",
              "      <th>country</th>\n",
              "      <th>market</th>\n",
              "      <th>region</th>\n",
              "      <th>...</th>\n",
              "      <th>category</th>\n",
              "      <th>sub_category</th>\n",
              "      <th>product_name</th>\n",
              "      <th>sales</th>\n",
              "      <th>quantity</th>\n",
              "      <th>discount</th>\n",
              "      <th>profit</th>\n",
              "      <th>shipping_cost</th>\n",
              "      <th>order_priority</th>\n",
              "      <th>year</th>\n",
              "    </tr>\n",
              "  </thead>\n",
              "  <tbody>\n",
              "    <tr>\n",
              "      <th>0</th>\n",
              "      <td>AG-2011-2040</td>\n",
              "      <td>2011-01-01</td>\n",
              "      <td>2011-01-06</td>\n",
              "      <td>Standard Class</td>\n",
              "      <td>Toby Braunhardt</td>\n",
              "      <td>Consumer</td>\n",
              "      <td>Constantine</td>\n",
              "      <td>Algeria</td>\n",
              "      <td>Africa</td>\n",
              "      <td>Africa</td>\n",
              "      <td>...</td>\n",
              "      <td>Office Supplies</td>\n",
              "      <td>Storage</td>\n",
              "      <td>Tenex Lockers, Blue</td>\n",
              "      <td>408</td>\n",
              "      <td>2</td>\n",
              "      <td>0.0</td>\n",
              "      <td>106.140</td>\n",
              "      <td>35.46</td>\n",
              "      <td>Medium</td>\n",
              "      <td>2011</td>\n",
              "    </tr>\n",
              "    <tr>\n",
              "      <th>1</th>\n",
              "      <td>IN-2011-47883</td>\n",
              "      <td>2011-01-01</td>\n",
              "      <td>2011-01-08</td>\n",
              "      <td>Standard Class</td>\n",
              "      <td>Joseph Holt</td>\n",
              "      <td>Consumer</td>\n",
              "      <td>New South Wales</td>\n",
              "      <td>Australia</td>\n",
              "      <td>APAC</td>\n",
              "      <td>Oceania</td>\n",
              "      <td>...</td>\n",
              "      <td>Office Supplies</td>\n",
              "      <td>Supplies</td>\n",
              "      <td>Acme Trimmer, High Speed</td>\n",
              "      <td>120</td>\n",
              "      <td>3</td>\n",
              "      <td>0.1</td>\n",
              "      <td>36.036</td>\n",
              "      <td>9.72</td>\n",
              "      <td>Medium</td>\n",
              "      <td>2011</td>\n",
              "    </tr>\n",
              "  </tbody>\n",
              "</table>\n",
              "<p>2 rows × 21 columns</p>\n",
              "</div>\n",
              "    <div class=\"colab-df-buttons\">\n",
              "\n",
              "  <div class=\"colab-df-container\">\n",
              "    <button class=\"colab-df-convert\" onclick=\"convertToInteractive('df-102d3007-da1d-4287-b393-80c6f7a5061b')\"\n",
              "            title=\"Convert this dataframe to an interactive table.\"\n",
              "            style=\"display:none;\">\n",
              "\n",
              "  <svg xmlns=\"http://www.w3.org/2000/svg\" height=\"24px\" viewBox=\"0 -960 960 960\">\n",
              "    <path d=\"M120-120v-720h720v720H120Zm60-500h600v-160H180v160Zm220 220h160v-160H400v160Zm0 220h160v-160H400v160ZM180-400h160v-160H180v160Zm440 0h160v-160H620v160ZM180-180h160v-160H180v160Zm440 0h160v-160H620v160Z\"/>\n",
              "  </svg>\n",
              "    </button>\n",
              "\n",
              "  <style>\n",
              "    .colab-df-container {\n",
              "      display:flex;\n",
              "      gap: 12px;\n",
              "    }\n",
              "\n",
              "    .colab-df-convert {\n",
              "      background-color: #E8F0FE;\n",
              "      border: none;\n",
              "      border-radius: 50%;\n",
              "      cursor: pointer;\n",
              "      display: none;\n",
              "      fill: #1967D2;\n",
              "      height: 32px;\n",
              "      padding: 0 0 0 0;\n",
              "      width: 32px;\n",
              "    }\n",
              "\n",
              "    .colab-df-convert:hover {\n",
              "      background-color: #E2EBFA;\n",
              "      box-shadow: 0px 1px 2px rgba(60, 64, 67, 0.3), 0px 1px 3px 1px rgba(60, 64, 67, 0.15);\n",
              "      fill: #174EA6;\n",
              "    }\n",
              "\n",
              "    .colab-df-buttons div {\n",
              "      margin-bottom: 4px;\n",
              "    }\n",
              "\n",
              "    [theme=dark] .colab-df-convert {\n",
              "      background-color: #3B4455;\n",
              "      fill: #D2E3FC;\n",
              "    }\n",
              "\n",
              "    [theme=dark] .colab-df-convert:hover {\n",
              "      background-color: #434B5C;\n",
              "      box-shadow: 0px 1px 3px 1px rgba(0, 0, 0, 0.15);\n",
              "      filter: drop-shadow(0px 1px 2px rgba(0, 0, 0, 0.3));\n",
              "      fill: #FFFFFF;\n",
              "    }\n",
              "  </style>\n",
              "\n",
              "    <script>\n",
              "      const buttonEl =\n",
              "        document.querySelector('#df-102d3007-da1d-4287-b393-80c6f7a5061b button.colab-df-convert');\n",
              "      buttonEl.style.display =\n",
              "        google.colab.kernel.accessAllowed ? 'block' : 'none';\n",
              "\n",
              "      async function convertToInteractive(key) {\n",
              "        const element = document.querySelector('#df-102d3007-da1d-4287-b393-80c6f7a5061b');\n",
              "        const dataTable =\n",
              "          await google.colab.kernel.invokeFunction('convertToInteractive',\n",
              "                                                    [key], {});\n",
              "        if (!dataTable) return;\n",
              "\n",
              "        const docLinkHtml = 'Like what you see? Visit the ' +\n",
              "          '<a target=\"_blank\" href=https://colab.research.google.com/notebooks/data_table.ipynb>data table notebook</a>'\n",
              "          + ' to learn more about interactive tables.';\n",
              "        element.innerHTML = '';\n",
              "        dataTable['output_type'] = 'display_data';\n",
              "        await google.colab.output.renderOutput(dataTable, element);\n",
              "        const docLink = document.createElement('div');\n",
              "        docLink.innerHTML = docLinkHtml;\n",
              "        element.appendChild(docLink);\n",
              "      }\n",
              "    </script>\n",
              "  </div>\n",
              "\n",
              "\n",
              "<div id=\"df-a809f92b-6c63-4624-898b-1634d55d8f4e\">\n",
              "  <button class=\"colab-df-quickchart\" onclick=\"quickchart('df-a809f92b-6c63-4624-898b-1634d55d8f4e')\"\n",
              "            title=\"Suggest charts.\"\n",
              "            style=\"display:none;\">\n",
              "\n",
              "<svg xmlns=\"http://www.w3.org/2000/svg\" height=\"24px\"viewBox=\"0 0 24 24\"\n",
              "     width=\"24px\">\n",
              "    <g>\n",
              "        <path d=\"M19 3H5c-1.1 0-2 .9-2 2v14c0 1.1.9 2 2 2h14c1.1 0 2-.9 2-2V5c0-1.1-.9-2-2-2zM9 17H7v-7h2v7zm4 0h-2V7h2v10zm4 0h-2v-4h2v4z\"/>\n",
              "    </g>\n",
              "</svg>\n",
              "  </button>\n",
              "\n",
              "<style>\n",
              "  .colab-df-quickchart {\n",
              "      --bg-color: #E8F0FE;\n",
              "      --fill-color: #1967D2;\n",
              "      --hover-bg-color: #E2EBFA;\n",
              "      --hover-fill-color: #174EA6;\n",
              "      --disabled-fill-color: #AAA;\n",
              "      --disabled-bg-color: #DDD;\n",
              "  }\n",
              "\n",
              "  [theme=dark] .colab-df-quickchart {\n",
              "      --bg-color: #3B4455;\n",
              "      --fill-color: #D2E3FC;\n",
              "      --hover-bg-color: #434B5C;\n",
              "      --hover-fill-color: #FFFFFF;\n",
              "      --disabled-bg-color: #3B4455;\n",
              "      --disabled-fill-color: #666;\n",
              "  }\n",
              "\n",
              "  .colab-df-quickchart {\n",
              "    background-color: var(--bg-color);\n",
              "    border: none;\n",
              "    border-radius: 50%;\n",
              "    cursor: pointer;\n",
              "    display: none;\n",
              "    fill: var(--fill-color);\n",
              "    height: 32px;\n",
              "    padding: 0;\n",
              "    width: 32px;\n",
              "  }\n",
              "\n",
              "  .colab-df-quickchart:hover {\n",
              "    background-color: var(--hover-bg-color);\n",
              "    box-shadow: 0 1px 2px rgba(60, 64, 67, 0.3), 0 1px 3px 1px rgba(60, 64, 67, 0.15);\n",
              "    fill: var(--button-hover-fill-color);\n",
              "  }\n",
              "\n",
              "  .colab-df-quickchart-complete:disabled,\n",
              "  .colab-df-quickchart-complete:disabled:hover {\n",
              "    background-color: var(--disabled-bg-color);\n",
              "    fill: var(--disabled-fill-color);\n",
              "    box-shadow: none;\n",
              "  }\n",
              "\n",
              "  .colab-df-spinner {\n",
              "    border: 2px solid var(--fill-color);\n",
              "    border-color: transparent;\n",
              "    border-bottom-color: var(--fill-color);\n",
              "    animation:\n",
              "      spin 1s steps(1) infinite;\n",
              "  }\n",
              "\n",
              "  @keyframes spin {\n",
              "    0% {\n",
              "      border-color: transparent;\n",
              "      border-bottom-color: var(--fill-color);\n",
              "      border-left-color: var(--fill-color);\n",
              "    }\n",
              "    20% {\n",
              "      border-color: transparent;\n",
              "      border-left-color: var(--fill-color);\n",
              "      border-top-color: var(--fill-color);\n",
              "    }\n",
              "    30% {\n",
              "      border-color: transparent;\n",
              "      border-left-color: var(--fill-color);\n",
              "      border-top-color: var(--fill-color);\n",
              "      border-right-color: var(--fill-color);\n",
              "    }\n",
              "    40% {\n",
              "      border-color: transparent;\n",
              "      border-right-color: var(--fill-color);\n",
              "      border-top-color: var(--fill-color);\n",
              "    }\n",
              "    60% {\n",
              "      border-color: transparent;\n",
              "      border-right-color: var(--fill-color);\n",
              "    }\n",
              "    80% {\n",
              "      border-color: transparent;\n",
              "      border-right-color: var(--fill-color);\n",
              "      border-bottom-color: var(--fill-color);\n",
              "    }\n",
              "    90% {\n",
              "      border-color: transparent;\n",
              "      border-bottom-color: var(--fill-color);\n",
              "    }\n",
              "  }\n",
              "</style>\n",
              "\n",
              "  <script>\n",
              "    async function quickchart(key) {\n",
              "      const quickchartButtonEl =\n",
              "        document.querySelector('#' + key + ' button');\n",
              "      quickchartButtonEl.disabled = true;  // To prevent multiple clicks.\n",
              "      quickchartButtonEl.classList.add('colab-df-spinner');\n",
              "      try {\n",
              "        const charts = await google.colab.kernel.invokeFunction(\n",
              "            'suggestCharts', [key], {});\n",
              "      } catch (error) {\n",
              "        console.error('Error during call to suggestCharts:', error);\n",
              "      }\n",
              "      quickchartButtonEl.classList.remove('colab-df-spinner');\n",
              "      quickchartButtonEl.classList.add('colab-df-quickchart-complete');\n",
              "    }\n",
              "    (() => {\n",
              "      let quickchartButtonEl =\n",
              "        document.querySelector('#df-a809f92b-6c63-4624-898b-1634d55d8f4e button');\n",
              "      quickchartButtonEl.style.display =\n",
              "        google.colab.kernel.accessAllowed ? 'block' : 'none';\n",
              "    })();\n",
              "  </script>\n",
              "</div>\n",
              "    </div>\n",
              "  </div>\n"
            ]
          },
          "metadata": {},
          "execution_count": 30
        }
      ]
    },
    {
      "cell_type": "code",
      "source": [
        "# Date is still not clean\n",
        "table_df.info()"
      ],
      "metadata": {
        "colab": {
          "base_uri": "https://localhost:8080/"
        },
        "id": "q9qy_ki9xRN5",
        "outputId": "76429bcd-7d4f-4977-f92b-1725d3be5393"
      },
      "execution_count": 31,
      "outputs": [
        {
          "output_type": "stream",
          "name": "stdout",
          "text": [
            "<class 'pandas.core.frame.DataFrame'>\n",
            "RangeIndex: 51290 entries, 0 to 51289\n",
            "Data columns (total 21 columns):\n",
            " #   Column          Non-Null Count  Dtype  \n",
            "---  ------          --------------  -----  \n",
            " 0   order_id        51290 non-null  object \n",
            " 1   order_date      51290 non-null  object \n",
            " 2   ship_date       51290 non-null  object \n",
            " 3   ship_mode       51290 non-null  object \n",
            " 4   customer_name   51290 non-null  object \n",
            " 5   segment         51290 non-null  object \n",
            " 6   state           51290 non-null  object \n",
            " 7   country         51290 non-null  object \n",
            " 8   market          51290 non-null  object \n",
            " 9   region          51290 non-null  object \n",
            " 10  product_id      51290 non-null  object \n",
            " 11  category        51290 non-null  object \n",
            " 12  sub_category    51290 non-null  object \n",
            " 13  product_name    51290 non-null  object \n",
            " 14  sales           51290 non-null  int64  \n",
            " 15  quantity        51290 non-null  int64  \n",
            " 16  discount        51290 non-null  float64\n",
            " 17  profit          51290 non-null  float64\n",
            " 18  shipping_cost   51290 non-null  float64\n",
            " 19  order_priority  51290 non-null  object \n",
            " 20  year            51290 non-null  int64  \n",
            "dtypes: float64(3), int64(3), object(15)\n",
            "memory usage: 8.2+ MB\n"
          ]
        }
      ]
    },
    {
      "cell_type": "code",
      "source": [
        "# convert all dates to dd/mm/yyyy format\n",
        "#\n",
        "#df['ship_date'] = pd.to_datetime(df['ship_date']).dt.strftime('%d/%m/%Y')\n",
        "#df['order_date'] = pd.to_datetime(df['order_date']).dt.strftime('%d/%m/%Y')\n",
        "#\n",
        "#table_df['Ship Date'] = pd.to_datetime(table_df['Ship Date'],format='%Y-%m-%d')\n",
        "#table_df['Order Date'] = pd.to_datetime(table_df['Order Date'],format='%Y-%m-%d')\n",
        "\n",
        "table_df['ship_date'] = pd.to_datetime(table_df['ship_date'],format='%Y-%m-%d')\n",
        "table_df['order_date'] = pd.to_datetime(table_df['order_date'],format='%Y-%m-%d')"
      ],
      "metadata": {
        "id": "JNEBmbJU1Ndl"
      },
      "execution_count": 32,
      "outputs": []
    },
    {
      "cell_type": "code",
      "source": [
        "table_df.info()"
      ],
      "metadata": {
        "colab": {
          "base_uri": "https://localhost:8080/"
        },
        "id": "zMlGOVDR152q",
        "outputId": "962811b7-5fbe-444b-8b0e-fa0187e7f553"
      },
      "execution_count": 33,
      "outputs": [
        {
          "output_type": "stream",
          "name": "stdout",
          "text": [
            "<class 'pandas.core.frame.DataFrame'>\n",
            "RangeIndex: 51290 entries, 0 to 51289\n",
            "Data columns (total 21 columns):\n",
            " #   Column          Non-Null Count  Dtype         \n",
            "---  ------          --------------  -----         \n",
            " 0   order_id        51290 non-null  object        \n",
            " 1   order_date      51290 non-null  datetime64[ns]\n",
            " 2   ship_date       51290 non-null  datetime64[ns]\n",
            " 3   ship_mode       51290 non-null  object        \n",
            " 4   customer_name   51290 non-null  object        \n",
            " 5   segment         51290 non-null  object        \n",
            " 6   state           51290 non-null  object        \n",
            " 7   country         51290 non-null  object        \n",
            " 8   market          51290 non-null  object        \n",
            " 9   region          51290 non-null  object        \n",
            " 10  product_id      51290 non-null  object        \n",
            " 11  category        51290 non-null  object        \n",
            " 12  sub_category    51290 non-null  object        \n",
            " 13  product_name    51290 non-null  object        \n",
            " 14  sales           51290 non-null  int64         \n",
            " 15  quantity        51290 non-null  int64         \n",
            " 16  discount        51290 non-null  float64       \n",
            " 17  profit          51290 non-null  float64       \n",
            " 18  shipping_cost   51290 non-null  float64       \n",
            " 19  order_priority  51290 non-null  object        \n",
            " 20  year            51290 non-null  int64         \n",
            "dtypes: datetime64[ns](2), float64(3), int64(3), object(13)\n",
            "memory usage: 8.2+ MB\n"
          ]
        }
      ]
    },
    {
      "cell_type": "code",
      "source": [
        "df5A = pd.read_csv('Orders2.csv')\n",
        "#df9.dtypes\n",
        "df5A.info()"
      ],
      "metadata": {
        "colab": {
          "base_uri": "https://localhost:8080/"
        },
        "id": "qyhfL9cSLvia",
        "outputId": "a9671722-6f3b-4cf6-eb14-2c825c35bfba"
      },
      "execution_count": 35,
      "outputs": [
        {
          "output_type": "stream",
          "name": "stdout",
          "text": [
            "<class 'pandas.core.frame.DataFrame'>\n",
            "RangeIndex: 51290 entries, 0 to 51289\n",
            "Data columns (total 21 columns):\n",
            " #   Column          Non-Null Count  Dtype  \n",
            "---  ------          --------------  -----  \n",
            " 0   order_id        51290 non-null  object \n",
            " 1   order_date      51290 non-null  object \n",
            " 2   ship_date       51290 non-null  object \n",
            " 3   ship_mode       51290 non-null  object \n",
            " 4   customer_name   51290 non-null  object \n",
            " 5   segment         51290 non-null  object \n",
            " 6   state           51290 non-null  object \n",
            " 7   country         51290 non-null  object \n",
            " 8   market          51290 non-null  object \n",
            " 9   region          51290 non-null  object \n",
            " 10  product_id      51290 non-null  object \n",
            " 11  category        51290 non-null  object \n",
            " 12  sub_category    51290 non-null  object \n",
            " 13  product_name    51290 non-null  object \n",
            " 14  sales           51290 non-null  int64  \n",
            " 15  quantity        51290 non-null  int64  \n",
            " 16  discount        51290 non-null  float64\n",
            " 17  profit          51290 non-null  float64\n",
            " 18  shipping_cost   51290 non-null  float64\n",
            " 19  order_priority  51290 non-null  object \n",
            " 20  year            51290 non-null  int64  \n",
            "dtypes: float64(3), int64(3), object(15)\n",
            "memory usage: 8.2+ MB\n"
          ]
        }
      ]
    },
    {
      "cell_type": "code",
      "source": [
        "df5B = pd.read_parquet('Orders2.parquet')\n",
        "#df9.dtypes\n",
        "df5B.info()"
      ],
      "metadata": {
        "id": "wfmg7G3E0xIz",
        "outputId": "9f095049-5fe7-4901-e48d-eb23b0c5e9e7",
        "colab": {
          "base_uri": "https://localhost:8080/"
        }
      },
      "execution_count": 36,
      "outputs": [
        {
          "output_type": "stream",
          "name": "stdout",
          "text": [
            "<class 'pandas.core.frame.DataFrame'>\n",
            "RangeIndex: 51290 entries, 0 to 51289\n",
            "Data columns (total 21 columns):\n",
            " #   Column          Non-Null Count  Dtype         \n",
            "---  ------          --------------  -----         \n",
            " 0   order_id        51290 non-null  object        \n",
            " 1   order_date      51290 non-null  datetime64[ns]\n",
            " 2   ship_date       51290 non-null  datetime64[ns]\n",
            " 3   ship_mode       51290 non-null  object        \n",
            " 4   customer_name   51290 non-null  object        \n",
            " 5   segment         51290 non-null  object        \n",
            " 6   state           51290 non-null  object        \n",
            " 7   country         51290 non-null  object        \n",
            " 8   market          51290 non-null  object        \n",
            " 9   region          51290 non-null  object        \n",
            " 10  product_id      51290 non-null  object        \n",
            " 11  category        51290 non-null  object        \n",
            " 12  sub_category    51290 non-null  object        \n",
            " 13  product_name    51290 non-null  object        \n",
            " 14  sales           51290 non-null  int64         \n",
            " 15  quantity        51290 non-null  int64         \n",
            " 16  discount        51290 non-null  float64       \n",
            " 17  profit          51290 non-null  float64       \n",
            " 18  shipping_cost   51290 non-null  float64       \n",
            " 19  order_priority  51290 non-null  object        \n",
            " 20  year            51290 non-null  int64         \n",
            "dtypes: datetime64[ns](2), float64(3), int64(3), object(13)\n",
            "memory usage: 8.2+ MB\n"
          ]
        }
      ]
    },
    {
      "cell_type": "markdown",
      "source": [
        "#Spark\n",
        "https://davidadrian.cc/python-hadoop/"
      ],
      "metadata": {
        "id": "4BMBOUtf4-Wd"
      }
    },
    {
      "cell_type": "code",
      "source": [
        "!pip3 -q install pyspark\n",
        "from pyspark.sql import SparkSession\n",
        "#spark9 = SparkSession.builder.master(\"local[*]\").getOrCreate()\n",
        "# note UI port switched from default 4040 to 4050 to avoid clash with ngrok\n",
        "spark9 = SparkSession.builder.master(\"local[*]\").config('spark.ui.port', '4050').getOrCreate()"
      ],
      "metadata": {
        "id": "hel81l4t5Age",
        "outputId": "5afcdcf1-b086-4dc2-87bd-5f9991fbc044",
        "colab": {
          "base_uri": "https://localhost:8080/"
        }
      },
      "execution_count": 38,
      "outputs": [
        {
          "output_type": "stream",
          "name": "stdout",
          "text": [
            "\u001b[2K     \u001b[90m━━━━━━━━━━━━━━━━━━━━━━━━━━━━━━━━━━━━━━━\u001b[0m \u001b[32m310.8/310.8 MB\u001b[0m \u001b[31m4.0 MB/s\u001b[0m eta \u001b[36m0:00:00\u001b[0m\n",
            "\u001b[?25h  Preparing metadata (setup.py) ... \u001b[?25l\u001b[?25hdone\n",
            "  Building wheel for pyspark (setup.py) ... \u001b[?25l\u001b[?25hdone\n"
          ]
        }
      ]
    },
    {
      "cell_type": "code",
      "source": [
        "#pdfSS.to_csv('SS_Orders_Clean2.csv')"
      ],
      "metadata": {
        "id": "QqexzqlhPsuH"
      },
      "execution_count": null,
      "outputs": []
    },
    {
      "cell_type": "code",
      "source": [
        "!tail Orders2.csv\n",
        "#!tail Orders2.parquet --- unreadable"
      ],
      "metadata": {
        "colab": {
          "base_uri": "https://localhost:8080/"
        },
        "id": "U4y6behLIyqJ",
        "outputId": "ec4b7614-63df-4078-a7f4-4c46cdc6a0da"
      },
      "execution_count": 39,
      "outputs": [
        {
          "output_type": "stream",
          "name": "stdout",
          "text": [
            "TZ-2014-8220,2014-12-31,2015-01-06,Standard Class,Christine Kargatis,Home Office,Dar Es Salaam,Tanzania,Africa,Africa,OFF-HAR-10001531,Office Supplies,Labels,\"Harbour Creations Removable Labels, Adjustable\",50,6,0.0,6.84,2.15,Medium,2014\n",
            "CA-2014-115427,2014-12-31,2015-01-04,Standard Class,Erica Bern,Corporate,California,United States,US,West,OFF-BI-10004632,Office Supplies,Binders,GBC Binding covers,21,2,0.2,6.475,2.06,Medium,2014\n",
            "UP-2014-4410,2014-12-31,2015-01-04,Standard Class,Guy Thornton,Consumer,Zaporizhzhya,Ukraine,EMEA,EMEA,OFF-AVE-10003558,Office Supplies,Labels,\"Avery Round Labels, Alphabetical\",28,4,0.0,6.12,1.7,Medium,2014\n",
            "IN-2014-23754,2014-12-31,2015-01-07,Standard Class,Kalyca Meade,Corporate,Guangdong,China,APAC,North Asia,OFF-PA-10004727,Office Supplies,Paper,\"Eaton Note Cards, 8.5 x 11\",79,3,0.0,25.38,1.41,Medium,2014\n",
            "MX-2014-108574,2014-12-31,2015-01-04,Standard Class,Julia Barnett,Home Office,Tamaulipas,Mexico,LATAM,North,OFF-LA-10004969,Office Supplies,Labels,\"Novimex Legal Exhibit Labels, Adjustable\",17,3,0.0,0.66,1.32,Medium,2014\n",
            "CA-2014-115427,2014-12-31,2015-01-04,Standard Class,Erica Bern,Corporate,California,United States,US,West,OFF-BI-10002103,Office Supplies,Binders,\"Cardinal Slant-D Ring Binder, Heavy Gauge Vinyl\",14,2,0.2,4.5188,0.89,Medium,2014\n",
            "MO-2014-2560,2014-12-31,2015-01-05,Standard Class,Liz Preis,Consumer,Souss-Massa-Draâ,Morocco,Africa,Africa,OFF-WIL-10001069,Office Supplies,Binders,\"Wilson Jones Hole Reinforcements, Clear\",4,1,0.0,0.42,0.49,Medium,2014\n",
            "MX-2014-110527,2014-12-31,2015-01-02,Second Class,Charlotte Melton,Consumer,Managua,Nicaragua,LATAM,Central,OFF-LA-10004182,Office Supplies,Labels,\"Hon Color Coded Labels, 5000 Label Set\",26,3,0.0,12.36,0.35,Medium,2014\n",
            "MX-2014-114783,2014-12-31,2015-01-06,Standard Class,Tamara Dahlen,Consumer,Chihuahua,Mexico,LATAM,North,OFF-LA-10000413,Office Supplies,Labels,\"Hon Legal Exhibit Labels, Alphabetical\",7,1,0.0,0.56,0.2,Medium,2014\n",
            "CA-2014-156720,2014-12-31,2015-01-04,Standard Class,Jill Matthias,Consumer,Colorado,United States,US,West,OFF-FA-10003472,Office Supplies,Fasteners,Bagged Rubber Bands,3,3,0.2,-0.6048,0.17,Medium,2014\n"
          ]
        }
      ]
    },
    {
      "cell_type": "code",
      "source": [
        "#Inferred INCORRECTLY, from CSV file\n",
        "sdf9A = spark9.read.csv('Orders2.csv', inferSchema=True,header = True, quote = '\"')\n",
        "sdf9A.dtypes"
      ],
      "metadata": {
        "id": "p1TvsLPS5vAG",
        "outputId": "9332b5c0-e846-4f22-8989-30a2d5378460",
        "colab": {
          "base_uri": "https://localhost:8080/"
        }
      },
      "execution_count": 40,
      "outputs": [
        {
          "output_type": "execute_result",
          "data": {
            "text/plain": [
              "[('order_id', 'string'),\n",
              " ('order_date', 'date'),\n",
              " ('ship_date', 'date'),\n",
              " ('ship_mode', 'string'),\n",
              " ('customer_name', 'string'),\n",
              " ('segment', 'string'),\n",
              " ('state', 'string'),\n",
              " ('country', 'string'),\n",
              " ('market', 'string'),\n",
              " ('region', 'string'),\n",
              " ('product_id', 'string'),\n",
              " ('category', 'string'),\n",
              " ('sub_category', 'string'),\n",
              " ('product_name', 'string'),\n",
              " ('sales', 'string'),\n",
              " ('quantity', 'string'),\n",
              " ('discount', 'string'),\n",
              " ('profit', 'double'),\n",
              " ('shipping_cost', 'double'),\n",
              " ('order_priority', 'string'),\n",
              " ('year', 'string')]"
            ]
          },
          "metadata": {},
          "execution_count": 40
        }
      ]
    },
    {
      "cell_type": "code",
      "source": [
        "#Inferred CORRECTLY, from parquet file\n",
        "sdf9B = spark9.read.parquet('Orders2.parquet', inferSchema=True,header = True, quote = '\"')\n",
        "sdf9B.dtypes"
      ],
      "metadata": {
        "id": "QU_0h11I1qr9",
        "outputId": "3473d279-8e48-4fb1-89c6-095516840ec2",
        "colab": {
          "base_uri": "https://localhost:8080/"
        }
      },
      "execution_count": 41,
      "outputs": [
        {
          "output_type": "execute_result",
          "data": {
            "text/plain": [
              "[('order_id', 'string'),\n",
              " ('order_date', 'timestamp_ntz'),\n",
              " ('ship_date', 'timestamp_ntz'),\n",
              " ('ship_mode', 'string'),\n",
              " ('customer_name', 'string'),\n",
              " ('segment', 'string'),\n",
              " ('state', 'string'),\n",
              " ('country', 'string'),\n",
              " ('market', 'string'),\n",
              " ('region', 'string'),\n",
              " ('product_id', 'string'),\n",
              " ('category', 'string'),\n",
              " ('sub_category', 'string'),\n",
              " ('product_name', 'string'),\n",
              " ('sales', 'bigint'),\n",
              " ('quantity', 'bigint'),\n",
              " ('discount', 'double'),\n",
              " ('profit', 'double'),\n",
              " ('shipping_cost', 'double'),\n",
              " ('order_priority', 'string'),\n",
              " ('year', 'bigint')]"
            ]
          },
          "metadata": {},
          "execution_count": 41
        }
      ]
    },
    {
      "cell_type": "code",
      "source": [
        "#selCols = ['Order ID','Order Date','Segment','Region','Category','Sales','Quantity','Profit']\n",
        "selCols = ['order_id','order_date','segment','region','category','sales','quantity','profit','year']\n",
        "#df9C = spark9.read.parquet('Orders2.parquet',inferSchema=True,header = True, quote = '\"').select('Order ID','Order Date','Segment','Region','Category','Sales','Quantity','Profit')\n",
        "sdf9C = spark9.read.parquet('Orders2.parquet',inferSchema=True,header = True, quote = '\"').select(selCols)\n",
        "#df9.dtypes\n",
        "sdf9C.dtypes"
      ],
      "metadata": {
        "id": "H6ZmYNyZ2OpI",
        "outputId": "6ee50b80-6f66-456f-ef92-83aef4c73dec",
        "colab": {
          "base_uri": "https://localhost:8080/"
        }
      },
      "execution_count": 42,
      "outputs": [
        {
          "output_type": "execute_result",
          "data": {
            "text/plain": [
              "[('order_id', 'string'),\n",
              " ('order_date', 'timestamp_ntz'),\n",
              " ('segment', 'string'),\n",
              " ('region', 'string'),\n",
              " ('category', 'string'),\n",
              " ('sales', 'bigint'),\n",
              " ('quantity', 'bigint'),\n",
              " ('profit', 'double'),\n",
              " ('year', 'bigint')]"
            ]
          },
          "metadata": {},
          "execution_count": 42
        }
      ]
    },
    {
      "cell_type": "code",
      "source": [
        "#we remove the CRLF character from the end of the row if it exists\n",
        "!sed 's/\\r//g' /content/SS_Orders_Clean.csv > SSdatafile.csv\n",
        "# remove the first line containing headers from the file\n",
        "#!sed -i -e \"1d\" datafile.csv\n",
        "!head SSdatafile.csv"
      ],
      "metadata": {
        "colab": {
          "base_uri": "https://localhost:8080/"
        },
        "id": "DASgASvAS2Kc",
        "outputId": "a4261311-cfc4-430b-9bf2-0127cdd81c37"
      },
      "execution_count": null,
      "outputs": [
        {
          "output_type": "stream",
          "name": "stdout",
          "text": [
            "Row ID,Order ID,Order Date,Ship Date,Ship Mode,Customer ID,Customer Name,Segment,Country,City,State,Postal Code,Region,Product ID,Category,Sub-Category,Product Name,Sales,Quantity,Discount,Profit\n",
            "1,CA-2016-152156,2016-11-08,2016-11-11,Second Class,CG-12520,Claire Gute,Consumer,United States,Henderson,Kentucky,42420,South,FUR-BO-10001798,Furniture,Bookcases,Bush Somerset Collection Bookcase,261.96,2,0.0,41.9136\n",
            "2,CA-2016-152156,2016-11-08,2016-11-11,Second Class,CG-12520,Claire Gute,Consumer,United States,Henderson,Kentucky,42420,South,FUR-CH-10000454,Furniture,Chairs,\"Hon Deluxe Fabric Upholstered Stacking Chairs, Rounded Back\",731.94,3,0.0,219.582\n",
            "3,CA-2016-138688,2016-06-12,2016-06-16,Second Class,DV-13045,Darrin Van Huff,Corporate,United States,Los Angeles,California,90036,West,OFF-LA-10000240,Office Supplies,Labels,Self-Adhesive Address Labels for Typewriters by Universal,14.62,2,0.0,6.8714\n",
            "4,US-2015-108966,2015-10-11,2015-10-18,Standard Class,SO-20335,Sean O'Donnell,Consumer,United States,Fort Lauderdale,Florida,33311,South,FUR-TA-10000577,Furniture,Tables,Bretford CR4500 Series Slim Rectangular Table,957.5775,5,0.45,-383.031\n",
            "5,US-2015-108966,2015-10-11,2015-10-18,Standard Class,SO-20335,Sean O'Donnell,Consumer,United States,Fort Lauderdale,Florida,33311,South,OFF-ST-10000760,Office Supplies,Storage,Eldon Fold 'N Roll Cart System,22.368,2,0.2,2.5164\n",
            "6,CA-2014-115812,2014-06-09,2014-06-14,Standard Class,BH-11710,Brosina Hoffman,Consumer,United States,Los Angeles,California,90032,West,FUR-FU-10001487,Furniture,Furnishings,\"Eldon Expressions Wood and Plastic Desk Accessories, Cherry Wood\",48.86,7,0.0,14.1694\n",
            "7,CA-2014-115812,2014-06-09,2014-06-14,Standard Class,BH-11710,Brosina Hoffman,Consumer,United States,Los Angeles,California,90032,West,OFF-AR-10002833,Office Supplies,Art,Newell 322,7.28,4,0.0,1.9656\n",
            "8,CA-2014-115812,2014-06-09,2014-06-14,Standard Class,BH-11710,Brosina Hoffman,Consumer,United States,Los Angeles,California,90032,West,TEC-PH-10002275,Technology,Phones,Mitel 5320 IP Phone VoIP phone,907.152,6,0.2,90.7152\n",
            "9,CA-2014-115812,2014-06-09,2014-06-14,Standard Class,BH-11710,Brosina Hoffman,Consumer,United States,Los Angeles,California,90032,West,OFF-BI-10003910,Office Supplies,Binders,DXL Angle-View Binders with Locking Rings by Samsill,18.504,3,0.2,5.7825\n"
          ]
        }
      ]
    },
    {
      "cell_type": "code",
      "source": [
        "# remove , and \" from data\n",
        "import pandas as pd\n",
        "p_df = pd.read_csv('SSdatafile.csv')\n",
        "#p_df = pd.read_csv('datafile.csv')\n",
        "p_df2 = p_df.replace(',', ' ', regex=True)\n",
        "p_df3 = p_df2.replace('\"', '', regex=True)\n",
        "p_df3.to_csv('SSdatafile2.csv',index=False,sep=',')\n",
        "!head SSdatafile2.csv"
      ],
      "metadata": {
        "colab": {
          "base_uri": "https://localhost:8080/"
        },
        "id": "aWuZjTdbTRcX",
        "outputId": "b8429536-c320-42d7-a447-86b0ab4b257d"
      },
      "execution_count": null,
      "outputs": [
        {
          "output_type": "stream",
          "name": "stdout",
          "text": [
            "Row ID,Order ID,Order Date,Ship Date,Ship Mode,Customer ID,Customer Name,Segment,Country,City,State,Postal Code,Region,Product ID,Category,Sub-Category,Product Name,Sales,Quantity,Discount,Profit\n",
            "1,CA-2016-152156,2016-11-08,2016-11-11,Second Class,CG-12520,Claire Gute,Consumer,United States,Henderson,Kentucky,42420,South,FUR-BO-10001798,Furniture,Bookcases,Bush Somerset Collection Bookcase,261.96,2,0.0,41.9136\n",
            "2,CA-2016-152156,2016-11-08,2016-11-11,Second Class,CG-12520,Claire Gute,Consumer,United States,Henderson,Kentucky,42420,South,FUR-CH-10000454,Furniture,Chairs,Hon Deluxe Fabric Upholstered Stacking Chairs  Rounded Back,731.94,3,0.0,219.582\n",
            "3,CA-2016-138688,2016-06-12,2016-06-16,Second Class,DV-13045,Darrin Van Huff,Corporate,United States,Los Angeles,California,90036,West,OFF-LA-10000240,Office Supplies,Labels,Self-Adhesive Address Labels for Typewriters by Universal,14.62,2,0.0,6.8714\n",
            "4,US-2015-108966,2015-10-11,2015-10-18,Standard Class,SO-20335,Sean O'Donnell,Consumer,United States,Fort Lauderdale,Florida,33311,South,FUR-TA-10000577,Furniture,Tables,Bretford CR4500 Series Slim Rectangular Table,957.5775,5,0.45,-383.031\n",
            "5,US-2015-108966,2015-10-11,2015-10-18,Standard Class,SO-20335,Sean O'Donnell,Consumer,United States,Fort Lauderdale,Florida,33311,South,OFF-ST-10000760,Office Supplies,Storage,Eldon Fold 'N Roll Cart System,22.368,2,0.2,2.5164\n",
            "6,CA-2014-115812,2014-06-09,2014-06-14,Standard Class,BH-11710,Brosina Hoffman,Consumer,United States,Los Angeles,California,90032,West,FUR-FU-10001487,Furniture,Furnishings,Eldon Expressions Wood and Plastic Desk Accessories  Cherry Wood,48.86,7,0.0,14.1694\n",
            "7,CA-2014-115812,2014-06-09,2014-06-14,Standard Class,BH-11710,Brosina Hoffman,Consumer,United States,Los Angeles,California,90032,West,OFF-AR-10002833,Office Supplies,Art,Newell 322,7.28,4,0.0,1.9656\n",
            "8,CA-2014-115812,2014-06-09,2014-06-14,Standard Class,BH-11710,Brosina Hoffman,Consumer,United States,Los Angeles,California,90032,West,TEC-PH-10002275,Technology,Phones,Mitel 5320 IP Phone VoIP phone,907.152,6,0.2,90.7152\n",
            "9,CA-2014-115812,2014-06-09,2014-06-14,Standard Class,BH-11710,Brosina Hoffman,Consumer,United States,Los Angeles,California,90032,West,OFF-BI-10003910,Office Supplies,Binders,DXL Angle-View Binders with Locking Rings by Samsill,18.504,3,0.2,5.7825\n"
          ]
        }
      ]
    },
    {
      "cell_type": "code",
      "source": [
        "data_file = 'SSdatafile2.csv'\n",
        "sdfSS2 = spark9.read.csv(data_file,inferSchema=True, header=True)\n",
        "sdfSS2.dtypes"
      ],
      "metadata": {
        "colab": {
          "base_uri": "https://localhost:8080/"
        },
        "id": "YKOAKLl6UF9r",
        "outputId": "41e51a28-6af5-4fa4-c677-4d85fb0a33e7"
      },
      "execution_count": null,
      "outputs": [
        {
          "output_type": "execute_result",
          "data": {
            "text/plain": [
              "[('Row ID', 'int'),\n",
              " ('Order ID', 'string'),\n",
              " ('Order Date', 'date'),\n",
              " ('Ship Date', 'date'),\n",
              " ('Ship Mode', 'string'),\n",
              " ('Customer ID', 'string'),\n",
              " ('Customer Name', 'string'),\n",
              " ('Segment', 'string'),\n",
              " ('Country', 'string'),\n",
              " ('City', 'string'),\n",
              " ('State', 'string'),\n",
              " ('Postal Code', 'int'),\n",
              " ('Region', 'string'),\n",
              " ('Product ID', 'string'),\n",
              " ('Category', 'string'),\n",
              " ('Sub-Category', 'string'),\n",
              " ('Product Name', 'string'),\n",
              " ('Sales', 'double'),\n",
              " ('Quantity', 'int'),\n",
              " ('Discount', 'double'),\n",
              " ('Profit', 'double')]"
            ]
          },
          "metadata": {},
          "execution_count": 108
        }
      ]
    },
    {
      "cell_type": "markdown",
      "source": [
        "##Spark SQL"
      ],
      "metadata": {
        "id": "UohoFsuOW2an"
      }
    },
    {
      "cell_type": "code",
      "source": [
        "spark9.sql(\"show databases\").show()"
      ],
      "metadata": {
        "colab": {
          "base_uri": "https://localhost:8080/"
        },
        "id": "HJpRU8A4W5L2",
        "outputId": "b1931d96-12f5-433d-9bcc-a2237ee0d074"
      },
      "execution_count": 43,
      "outputs": [
        {
          "output_type": "stream",
          "name": "stdout",
          "text": [
            "+---------+\n",
            "|namespace|\n",
            "+---------+\n",
            "|  default|\n",
            "+---------+\n",
            "\n"
          ]
        }
      ]
    },
    {
      "cell_type": "code",
      "source": [
        "#air_quality_sdf.createOrReplaceTempView(\"air_quality_sdf\")\n",
        "sdf9C.createOrReplaceTempView(\"orders_temp\")"
      ],
      "metadata": {
        "id": "YJAmrs8vXN5Z"
      },
      "execution_count": 44,
      "outputs": []
    },
    {
      "cell_type": "code",
      "source": [
        "spark9.sql(\"show tables\").show()"
      ],
      "metadata": {
        "colab": {
          "base_uri": "https://localhost:8080/"
        },
        "id": "Sw8cCE8kXce3",
        "outputId": "b5145ca1-15ae-4506-f3f9-61e42bf8dd5e"
      },
      "execution_count": 45,
      "outputs": [
        {
          "output_type": "stream",
          "name": "stdout",
          "text": [
            "+---------+-----------+-----------+\n",
            "|namespace|  tableName|isTemporary|\n",
            "+---------+-----------+-----------+\n",
            "|         |orders_temp|       true|\n",
            "+---------+-----------+-----------+\n",
            "\n"
          ]
        }
      ]
    },
    {
      "cell_type": "code",
      "source": [
        "spark9.sql('select * from Orders_Temp limit 5').show()"
      ],
      "metadata": {
        "colab": {
          "base_uri": "https://localhost:8080/"
        },
        "id": "erd8GWmyZeUl",
        "outputId": "24f98a17-e30f-48b4-d8b6-5bba9a075a64"
      },
      "execution_count": 46,
      "outputs": [
        {
          "output_type": "stream",
          "name": "stdout",
          "text": [
            "+---------------+-------------------+-----------+-------+---------------+-----+--------+-------+----+\n",
            "|       order_id|         order_date|    segment| region|       category|sales|quantity| profit|year|\n",
            "+---------------+-------------------+-----------+-------+---------------+-----+--------+-------+----+\n",
            "|   AG-2011-2040|2011-01-01 00:00:00|   Consumer| Africa|Office Supplies|  408|       2| 106.14|2011|\n",
            "|  IN-2011-47883|2011-01-01 00:00:00|   Consumer|Oceania|Office Supplies|  120|       3| 36.036|2011|\n",
            "|   HU-2011-1220|2011-01-01 00:00:00|   Consumer|   EMEA|Office Supplies|   66|       4|  29.64|2011|\n",
            "|IT-2011-3647632|2011-01-01 00:00:00|Home Office|  North|Office Supplies|   45|       3|-26.055|2011|\n",
            "|  IN-2011-47883|2011-01-01 00:00:00|   Consumer|Oceania|      Furniture|  114|       5|  37.77|2011|\n",
            "+---------------+-------------------+-----------+-------+---------------+-----+--------+-------+----+\n",
            "\n"
          ]
        }
      ]
    },
    {
      "cell_type": "code",
      "source": [
        "sql_drop_table = \"\"\"\n",
        "drop table if exists praxisdb.orders_sparkhive\n",
        "\"\"\"\n",
        "\n",
        "sql_drop_database = \"\"\"\n",
        "drop database if exists praxisdb cascade\n",
        "\"\"\"\n",
        "\n",
        "sql_create_database = \"\"\"\n",
        "create database if not exists praxisdb\n",
        "location '/content/praxisdb/'\n",
        "\"\"\"\n",
        "\n",
        "sql_create_table = \"\"\"\n",
        "create table if not exists praxisdb.orders_sparkhive\n",
        "using parquet\n",
        "as select  * from Orders_Temp\n",
        "\"\"\"\n",
        "\n",
        "#as select to_timestamp(date) as date_parsed, *\n",
        "\n",
        "print(\"dropping database...\")\n",
        "result_drop_db = spark9.sql(sql_drop_database)\n",
        "\n",
        "print(\"creating database...\")\n",
        "result_create_db = spark9.sql(sql_create_database)\n",
        "\n",
        "print(\"dropping table...\")\n",
        "result_droptable = spark9.sql(sql_drop_table)\n",
        "\n",
        "print(\"creating table...\")\n",
        "result_create_table = spark9.sql(sql_create_table)"
      ],
      "metadata": {
        "colab": {
          "base_uri": "https://localhost:8080/"
        },
        "id": "M5acfAuTX12d",
        "outputId": "d913e040-2511-4d0c-85b6-2a135746cd78"
      },
      "execution_count": 48,
      "outputs": [
        {
          "output_type": "stream",
          "name": "stdout",
          "text": [
            "dropping database...\n",
            "creating database...\n",
            "dropping table...\n",
            "creating table...\n"
          ]
        }
      ]
    },
    {
      "cell_type": "code",
      "source": [
        "spark9.sql(\"select * from praxisdb.orders_sparkhive\").show(5)\n",
        "#.select(\"date_parsed\", \"O_3\").show(5)"
      ],
      "metadata": {
        "colab": {
          "base_uri": "https://localhost:8080/"
        },
        "id": "8Sry26x0ewZD",
        "outputId": "829f9c10-ec02-4408-9d99-3421fd275e5b"
      },
      "execution_count": 49,
      "outputs": [
        {
          "output_type": "stream",
          "name": "stdout",
          "text": [
            "+---------------+-------------------+-----------+-------+---------------+-----+--------+-------+----+\n",
            "|       order_id|         order_date|    segment| region|       category|sales|quantity| profit|year|\n",
            "+---------------+-------------------+-----------+-------+---------------+-----+--------+-------+----+\n",
            "|   AG-2011-2040|2011-01-01 00:00:00|   Consumer| Africa|Office Supplies|  408|       2| 106.14|2011|\n",
            "|  IN-2011-47883|2011-01-01 00:00:00|   Consumer|Oceania|Office Supplies|  120|       3| 36.036|2011|\n",
            "|   HU-2011-1220|2011-01-01 00:00:00|   Consumer|   EMEA|Office Supplies|   66|       4|  29.64|2011|\n",
            "|IT-2011-3647632|2011-01-01 00:00:00|Home Office|  North|Office Supplies|   45|       3|-26.055|2011|\n",
            "|  IN-2011-47883|2011-01-01 00:00:00|   Consumer|Oceania|      Furniture|  114|       5|  37.77|2011|\n",
            "+---------------+-------------------+-----------+-------+---------------+-----+--------+-------+----+\n",
            "only showing top 5 rows\n",
            "\n"
          ]
        }
      ]
    },
    {
      "cell_type": "code",
      "source": [
        "spark9.sql(\"show tables\").show()"
      ],
      "metadata": {
        "id": "2tqnZ_mb7Ybg",
        "outputId": "8c2d5a5e-6c59-4adc-e6b7-245688b1dff2",
        "colab": {
          "base_uri": "https://localhost:8080/"
        }
      },
      "execution_count": 50,
      "outputs": [
        {
          "output_type": "stream",
          "name": "stdout",
          "text": [
            "+---------+-----------+-----------+\n",
            "|namespace|  tableName|isTemporary|\n",
            "+---------+-----------+-----------+\n",
            "|         |orders_temp|       true|\n",
            "+---------+-----------+-----------+\n",
            "\n"
          ]
        }
      ]
    },
    {
      "cell_type": "code",
      "source": [
        "spark9.sql(\"show databases\").show()"
      ],
      "metadata": {
        "id": "lpAc9wb67beq",
        "outputId": "15059505-df35-497d-9a61-6cc036be74c3",
        "colab": {
          "base_uri": "https://localhost:8080/"
        }
      },
      "execution_count": 51,
      "outputs": [
        {
          "output_type": "stream",
          "name": "stdout",
          "text": [
            "+---------+\n",
            "|namespace|\n",
            "+---------+\n",
            "|  default|\n",
            "| praxisdb|\n",
            "+---------+\n",
            "\n"
          ]
        }
      ]
    },
    {
      "cell_type": "code",
      "source": [
        "spark9.sql(\"use praxisdb\").show()"
      ],
      "metadata": {
        "id": "_yAVqYk_7fjM",
        "outputId": "b598a576-b2ca-41f3-aef1-e1294cbdbbd1",
        "colab": {
          "base_uri": "https://localhost:8080/"
        }
      },
      "execution_count": 52,
      "outputs": [
        {
          "output_type": "stream",
          "name": "stdout",
          "text": [
            "++\n",
            "||\n",
            "++\n",
            "++\n",
            "\n"
          ]
        }
      ]
    },
    {
      "cell_type": "code",
      "source": [
        "spark9.sql(\"show tables\").show()"
      ],
      "metadata": {
        "id": "NmIM0KNF7k_z",
        "outputId": "e04f414e-d753-46ef-e815-4753be881c94",
        "colab": {
          "base_uri": "https://localhost:8080/"
        }
      },
      "execution_count": 53,
      "outputs": [
        {
          "output_type": "stream",
          "name": "stdout",
          "text": [
            "+---------+----------------+-----------+\n",
            "|namespace|       tableName|isTemporary|\n",
            "+---------+----------------+-----------+\n",
            "| praxisdb|orders_sparkhive|      false|\n",
            "|         |     orders_temp|       true|\n",
            "+---------+----------------+-----------+\n",
            "\n"
          ]
        }
      ]
    },
    {
      "cell_type": "markdown",
      "source": [
        "##CrossTab"
      ],
      "metadata": {
        "id": "XaxGELk3N5V_"
      }
    },
    {
      "cell_type": "markdown",
      "source": [
        "###Inner Query"
      ],
      "metadata": {
        "id": "sjjeWzk3PN29"
      }
    },
    {
      "cell_type": "code",
      "source": [
        "sums_df = spark9.sql(\"\"\"\n",
        "    SELECT\n",
        "        Segment,\n",
        "        SUM(IF(Region='Central',Sales,0)) As Central,\n",
        "        SUM(IF(Region='East',Sales,0)) As East,\n",
        "        SUM(IF(Region='West',Sales,0)) As West,\n",
        "        SUM(IF(Region='South',Sales,0)) As South\n",
        "    FROM praxisdb.orders_sparkhive\n",
        "        GROUP BY Segment WITH ROLLUP\n",
        "\"\"\")\n",
        "sums_df.show()"
      ],
      "metadata": {
        "id": "QBp2ajeuN7b4",
        "outputId": "49402378-c468-4871-f36f-899e12867068",
        "colab": {
          "base_uri": "https://localhost:8080/"
        }
      },
      "execution_count": 55,
      "outputs": [
        {
          "output_type": "stream",
          "name": "stdout",
          "text": [
            "+-----------+-------+------+------+-------+\n",
            "|    Segment|Central|  East|  West|  South|\n",
            "+-----------+-------+------+------+-------+\n",
            "|Home Office| 491961|127465|136736| 280016|\n",
            "|  Corporate| 850405|200422|225870| 496029|\n",
            "|       null|2822399|678834|725514|1600960|\n",
            "|   Consumer|1480033|350947|362908| 824915|\n",
            "+-----------+-------+------+------+-------+\n",
            "\n"
          ]
        }
      ]
    },
    {
      "cell_type": "markdown",
      "source": [
        "###Outer Query"
      ],
      "metadata": {
        "id": "aDUG_YC9PT5u"
      }
    },
    {
      "cell_type": "code",
      "source": [
        "#sums_df.registerTempTable(\"sums\")\n",
        "sums_df.createOrReplaceTempView(\"sums_T\")\n",
        "#CrossTab = sqlContext.sql(\"\"\"\n",
        "CrossTab = spark9.sql(\"\"\"\n",
        " SELECT\n",
        "  IFNULL(Segment,'#Totals') Dims,\n",
        "  sums_t.Central, sums_t.East, sums_t.West,sums_t.South,\n",
        "  sums_t.Central + sums_t.East + sums_t.West + sums_t.South Totals\n",
        "FROM sums_t\n",
        "order by Dims desc\n",
        "\"\"\")\n",
        "CrossTab.show()"
      ],
      "metadata": {
        "id": "WMCG5b9uOXXc",
        "outputId": "ef2282fa-bdf3-478c-afc7-dfd10b9db70c",
        "colab": {
          "base_uri": "https://localhost:8080/"
        }
      },
      "execution_count": 57,
      "outputs": [
        {
          "output_type": "stream",
          "name": "stdout",
          "text": [
            "+-----------+-------+------+------+-------+-------+\n",
            "|       Dims|Central|  East|  West|  South| Totals|\n",
            "+-----------+-------+------+------+-------+-------+\n",
            "|Home Office| 491961|127465|136736| 280016|1036178|\n",
            "|  Corporate| 850405|200422|225870| 496029|1772726|\n",
            "|   Consumer|1480033|350947|362908| 824915|3018803|\n",
            "|    #Totals|2822399|678834|725514|1600960|5827707|\n",
            "+-----------+-------+------+------+-------+-------+\n",
            "\n"
          ]
        }
      ]
    },
    {
      "cell_type": "markdown",
      "source": [
        "###Using Subquery"
      ],
      "metadata": {
        "id": "xHrQ3ESOPXrW"
      }
    },
    {
      "cell_type": "code",
      "source": [
        "CrossTab2 = spark9.sql(\"\"\"\n",
        " SELECT\n",
        "  IFNULL(Segment,'#Totals') Dims,\n",
        "  sums_t.Central, sums_t.East, sums_t.West,sums_t.South,\n",
        "  sums_t.Central + sums_t.East + sums_t.West + sums_t.South Totals\n",
        "FROM (\n",
        "SELECT\n",
        "        Segment,\n",
        "        SUM(IF(Region='Central',Sales,0)) As Central,\n",
        "        SUM(IF(Region='East',Sales,0)) As East,\n",
        "        SUM(IF(Region='West',Sales,0)) As West,\n",
        "        SUM(IF(Region='South',Sales,0)) As South\n",
        "    FROM praxisdb.orders_sparkhive\n",
        "        GROUP BY Segment WITH ROLLUP\n",
        "    )\n",
        "as sums_t\n",
        "order by Dims desc\n",
        "\"\"\")\n",
        "CrossTab2.show()"
      ],
      "metadata": {
        "id": "m8rXXie3O5vG",
        "outputId": "80151f89-d675-484c-e3a1-2969621569fb",
        "colab": {
          "base_uri": "https://localhost:8080/"
        }
      },
      "execution_count": 58,
      "outputs": [
        {
          "output_type": "stream",
          "name": "stdout",
          "text": [
            "+-----------+-------+------+------+-------+-------+\n",
            "|       Dims|Central|  East|  West|  South| Totals|\n",
            "+-----------+-------+------+------+-------+-------+\n",
            "|Home Office| 491961|127465|136736| 280016|1036178|\n",
            "|  Corporate| 850405|200422|225870| 496029|1772726|\n",
            "|   Consumer|1480033|350947|362908| 824915|3018803|\n",
            "|    #Totals|2822399|678834|725514|1600960|5827707|\n",
            "+-----------+-------+------+------+-------+-------+\n",
            "\n"
          ]
        }
      ]
    },
    {
      "cell_type": "markdown",
      "source": [
        "##Parquet to Pandas again"
      ],
      "metadata": {
        "id": "Y_fgdOf1f8UJ"
      }
    },
    {
      "cell_type": "code",
      "source": [
        "!ls /content/praxisdb/orders_sparkhive"
      ],
      "metadata": {
        "id": "G0h1dfNq6xz0",
        "outputId": "44366799-4aad-475d-8cca-a19cef3fca69",
        "colab": {
          "base_uri": "https://localhost:8080/"
        }
      },
      "execution_count": 59,
      "outputs": [
        {
          "output_type": "stream",
          "name": "stdout",
          "text": [
            "part-00000-b9d23469-9cbe-48a3-aa19-12cafc673758-c000.snappy.parquet  _SUCCESS\n"
          ]
        }
      ]
    },
    {
      "cell_type": "code",
      "source": [
        "df7 = pd.read_parquet('/content/praxisdb/orders_sparkhive/part-00000-b9d23469-9cbe-48a3-aa19-12cafc673758-c000.snappy.parquet')\n",
        "df7.info()"
      ],
      "metadata": {
        "id": "uN5l6Tm3gAMW",
        "outputId": "e765b217-374d-44a7-f065-111ce90e97c5",
        "colab": {
          "base_uri": "https://localhost:8080/"
        }
      },
      "execution_count": 60,
      "outputs": [
        {
          "output_type": "stream",
          "name": "stdout",
          "text": [
            "<class 'pandas.core.frame.DataFrame'>\n",
            "RangeIndex: 51290 entries, 0 to 51289\n",
            "Data columns (total 9 columns):\n",
            " #   Column      Non-Null Count  Dtype         \n",
            "---  ------      --------------  -----         \n",
            " 0   order_id    51290 non-null  object        \n",
            " 1   order_date  51290 non-null  datetime64[ns]\n",
            " 2   segment     51290 non-null  object        \n",
            " 3   region      51290 non-null  object        \n",
            " 4   category    51290 non-null  object        \n",
            " 5   sales       51290 non-null  int64         \n",
            " 6   quantity    51290 non-null  int64         \n",
            " 7   profit      51290 non-null  float64       \n",
            " 8   year        51290 non-null  int64         \n",
            "dtypes: datetime64[ns](1), float64(1), int64(3), object(4)\n",
            "memory usage: 3.5+ MB\n"
          ]
        }
      ]
    },
    {
      "cell_type": "code",
      "source": [],
      "metadata": {
        "id": "b0wnPTiHgwCl"
      },
      "execution_count": null,
      "outputs": []
    },
    {
      "cell_type": "markdown",
      "metadata": {
        "id": "xnF14kOqtVSi"
      },
      "source": [
        "#Chronobooks <br>\n",
        "![alt text](https://1.bp.blogspot.com/-lTiYBkU2qbU/X1er__fvnkI/AAAAAAAAjtE/GhDR3OEGJr4NG43fZPodrQD5kbxtnKebgCLcBGAsYHQ/s600/Footer2020-600x200.png)<hr>\n",
        "Chronotantra and Chronoyantra are two science fiction novels that explore the collapse of human civilisation on Earth and then its rebirth and reincarnation both on Earth as well as on the distant worlds of Mars, Titan and Enceladus. But is it the human civilisation that is being reborn? Or is it some other sentience that is revealing itself.\n",
        "If you have an interest in AI and found this material useful, you may consider buying these novels, in paperback or kindle, from [http://bit.ly/chronobooks](http://bit.ly/chronobooks)"
      ]
    }
  ]
}