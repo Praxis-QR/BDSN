{
  "nbformat": 4,
  "nbformat_minor": 0,
  "metadata": {
    "colab": {
      "provenance": [],
      "include_colab_link": true
    },
    "kernelspec": {
      "name": "python3",
      "display_name": "Python 3"
    },
    "language_info": {
      "name": "python"
    }
  },
  "cells": [
    {
      "cell_type": "markdown",
      "metadata": {
        "id": "view-in-github",
        "colab_type": "text"
      },
      "source": [
        "<a href=\"https://colab.research.google.com/github/Praxis-QR/BDSN/blob/main/Parquet_Files_Superstore.ipynb\" target=\"_parent\"><img src=\"https://colab.research.google.com/assets/colab-badge.svg\" alt=\"Open In Colab\"/></a>"
      ]
    },
    {
      "cell_type": "markdown",
      "metadata": {
        "id": "z7Rb-Atviw9f"
      },
      "source": [
        "![alt text](https://github.com/Praxis-QR/RDWH/raw/main/images/YantraJaalBanner.png)<br>\n",
        "\n",
        "\n",
        "<hr>\n",
        "\n",
        "[Prithwis Mukerjee](http://www.linkedin.com/in/prithwis)<br>"
      ]
    },
    {
      "cell_type": "code",
      "source": [
        "from datetime import datetime\n",
        "import pytz\n",
        "print('ॐ श्री सरस्वत्यै नमः',datetime.now(pytz.timezone('Asia/Calcutta')))\n",
        "!python --version\n",
        "!lsb_release -a"
      ],
      "metadata": {
        "colab": {
          "base_uri": "https://localhost:8080/"
        },
        "id": "Why176oMua9Y",
        "outputId": "432e0085-f297-4f43-d926-59ef4481a603"
      },
      "execution_count": 1,
      "outputs": [
        {
          "output_type": "stream",
          "name": "stdout",
          "text": [
            "ॐ श्री सरस्वत्यै नमः 2024-04-30 13:19:39.449252+05:30\n",
            "Python 3.10.12\n",
            "No LSB modules are available.\n",
            "Distributor ID:\tUbuntu\n",
            "Description:\tUbuntu 22.04.3 LTS\n",
            "Release:\t22.04\n",
            "Codename:\tjammy\n"
          ]
        }
      ]
    },
    {
      "cell_type": "code",
      "source": [
        "import numpy as np\n",
        "import pandas as pd\n",
        "import pyarrow.csv as pv\n",
        "import pyarrow.parquet as pq"
      ],
      "metadata": {
        "id": "EQCfWBLcTU3N"
      },
      "execution_count": 2,
      "outputs": []
    },
    {
      "cell_type": "markdown",
      "metadata": {
        "id": "EangLEFRBHZW"
      },
      "source": [
        "#SuperStore Data\n",
        "Super Store Order Data https://drive.google.com/file/d/13MKOpo8iD-tMkeMLw-4IPFi5-xWhmqFZ/view?usp=sharing <br>\n",
        "Original Data from [Tableau](https://community.tableau.com/docs/DOC-1236)"
      ]
    },
    {
      "cell_type": "code",
      "metadata": {
        "id": "VAodtiYwA9Rs"
      },
      "source": [
        "#!wget -O SS_Orders2.csv 'https://drive.google.com/uc?export=download&id=13MKOpo8iD-tMkeMLw-4IPFi5-xWhmqFZ'\n",
        "#!gdown https://drive.google.com/uc?id=13MKOpo8iD-tMkeMLw-4IPFi5-xWhmqFZ\n",
        "#!wget -q -O Orders.csv 'https://raw.githubusercontent.com/Praxis-QR/RDWH/main/data/SS_Orders.csv'\n",
        "!wget -q -O Orders.zip 'https://github.com/Praxis-QR/PythonForManagers/raw/main/Data/SuperStoreSalesKaggle.zip'"
      ],
      "execution_count": 3,
      "outputs": []
    },
    {
      "cell_type": "code",
      "source": [
        "#!tail Orders.csv"
      ],
      "metadata": {
        "id": "tqgtKH49nGT6"
      },
      "execution_count": null,
      "outputs": []
    },
    {
      "cell_type": "markdown",
      "source": [
        "#Basic Pandas Operations"
      ],
      "metadata": {
        "id": "jHuJBiouu2cU"
      }
    },
    {
      "cell_type": "code",
      "metadata": {
        "id": "ScQV9OQSCVEi",
        "outputId": "179d8b26-850e-4a6c-ce7e-712e1b68e971",
        "colab": {
          "base_uri": "https://localhost:8080/",
          "height": 213
        }
      },
      "source": [
        "#df = pd.read_csv('Orders.csv', delimiter = ',')\n",
        "df = pd.read_csv('Orders.zip', delimiter = ',')\n",
        "df.head(2)"
      ],
      "execution_count": 4,
      "outputs": [
        {
          "output_type": "execute_result",
          "data": {
            "text/plain": [
              "        order_id order_date ship_date       ship_mode    customer_name  \\\n",
              "0   AG-2011-2040   1/1/2011  6/1/2011  Standard Class  Toby Braunhardt   \n",
              "1  IN-2011-47883   1/1/2011  8/1/2011  Standard Class      Joseph Holt   \n",
              "\n",
              "    segment            state    country  market   region  ...  \\\n",
              "0  Consumer      Constantine    Algeria  Africa   Africa  ...   \n",
              "1  Consumer  New South Wales  Australia    APAC  Oceania  ...   \n",
              "\n",
              "          category sub_category              product_name sales quantity  \\\n",
              "0  Office Supplies      Storage       Tenex Lockers, Blue   408        2   \n",
              "1  Office Supplies     Supplies  Acme Trimmer, High Speed   120        3   \n",
              "\n",
              "   discount   profit  shipping_cost  order_priority  year  \n",
              "0       0.0  106.140          35.46          Medium  2011  \n",
              "1       0.1   36.036           9.72          Medium  2011  \n",
              "\n",
              "[2 rows x 21 columns]"
            ],
            "text/html": [
              "\n",
              "  <div id=\"df-b6dfe3dd-0bf2-4bef-87c3-c962485aa453\" class=\"colab-df-container\">\n",
              "    <div>\n",
              "<style scoped>\n",
              "    .dataframe tbody tr th:only-of-type {\n",
              "        vertical-align: middle;\n",
              "    }\n",
              "\n",
              "    .dataframe tbody tr th {\n",
              "        vertical-align: top;\n",
              "    }\n",
              "\n",
              "    .dataframe thead th {\n",
              "        text-align: right;\n",
              "    }\n",
              "</style>\n",
              "<table border=\"1\" class=\"dataframe\">\n",
              "  <thead>\n",
              "    <tr style=\"text-align: right;\">\n",
              "      <th></th>\n",
              "      <th>order_id</th>\n",
              "      <th>order_date</th>\n",
              "      <th>ship_date</th>\n",
              "      <th>ship_mode</th>\n",
              "      <th>customer_name</th>\n",
              "      <th>segment</th>\n",
              "      <th>state</th>\n",
              "      <th>country</th>\n",
              "      <th>market</th>\n",
              "      <th>region</th>\n",
              "      <th>...</th>\n",
              "      <th>category</th>\n",
              "      <th>sub_category</th>\n",
              "      <th>product_name</th>\n",
              "      <th>sales</th>\n",
              "      <th>quantity</th>\n",
              "      <th>discount</th>\n",
              "      <th>profit</th>\n",
              "      <th>shipping_cost</th>\n",
              "      <th>order_priority</th>\n",
              "      <th>year</th>\n",
              "    </tr>\n",
              "  </thead>\n",
              "  <tbody>\n",
              "    <tr>\n",
              "      <th>0</th>\n",
              "      <td>AG-2011-2040</td>\n",
              "      <td>1/1/2011</td>\n",
              "      <td>6/1/2011</td>\n",
              "      <td>Standard Class</td>\n",
              "      <td>Toby Braunhardt</td>\n",
              "      <td>Consumer</td>\n",
              "      <td>Constantine</td>\n",
              "      <td>Algeria</td>\n",
              "      <td>Africa</td>\n",
              "      <td>Africa</td>\n",
              "      <td>...</td>\n",
              "      <td>Office Supplies</td>\n",
              "      <td>Storage</td>\n",
              "      <td>Tenex Lockers, Blue</td>\n",
              "      <td>408</td>\n",
              "      <td>2</td>\n",
              "      <td>0.0</td>\n",
              "      <td>106.140</td>\n",
              "      <td>35.46</td>\n",
              "      <td>Medium</td>\n",
              "      <td>2011</td>\n",
              "    </tr>\n",
              "    <tr>\n",
              "      <th>1</th>\n",
              "      <td>IN-2011-47883</td>\n",
              "      <td>1/1/2011</td>\n",
              "      <td>8/1/2011</td>\n",
              "      <td>Standard Class</td>\n",
              "      <td>Joseph Holt</td>\n",
              "      <td>Consumer</td>\n",
              "      <td>New South Wales</td>\n",
              "      <td>Australia</td>\n",
              "      <td>APAC</td>\n",
              "      <td>Oceania</td>\n",
              "      <td>...</td>\n",
              "      <td>Office Supplies</td>\n",
              "      <td>Supplies</td>\n",
              "      <td>Acme Trimmer, High Speed</td>\n",
              "      <td>120</td>\n",
              "      <td>3</td>\n",
              "      <td>0.1</td>\n",
              "      <td>36.036</td>\n",
              "      <td>9.72</td>\n",
              "      <td>Medium</td>\n",
              "      <td>2011</td>\n",
              "    </tr>\n",
              "  </tbody>\n",
              "</table>\n",
              "<p>2 rows × 21 columns</p>\n",
              "</div>\n",
              "    <div class=\"colab-df-buttons\">\n",
              "\n",
              "  <div class=\"colab-df-container\">\n",
              "    <button class=\"colab-df-convert\" onclick=\"convertToInteractive('df-b6dfe3dd-0bf2-4bef-87c3-c962485aa453')\"\n",
              "            title=\"Convert this dataframe to an interactive table.\"\n",
              "            style=\"display:none;\">\n",
              "\n",
              "  <svg xmlns=\"http://www.w3.org/2000/svg\" height=\"24px\" viewBox=\"0 -960 960 960\">\n",
              "    <path d=\"M120-120v-720h720v720H120Zm60-500h600v-160H180v160Zm220 220h160v-160H400v160Zm0 220h160v-160H400v160ZM180-400h160v-160H180v160Zm440 0h160v-160H620v160ZM180-180h160v-160H180v160Zm440 0h160v-160H620v160Z\"/>\n",
              "  </svg>\n",
              "    </button>\n",
              "\n",
              "  <style>\n",
              "    .colab-df-container {\n",
              "      display:flex;\n",
              "      gap: 12px;\n",
              "    }\n",
              "\n",
              "    .colab-df-convert {\n",
              "      background-color: #E8F0FE;\n",
              "      border: none;\n",
              "      border-radius: 50%;\n",
              "      cursor: pointer;\n",
              "      display: none;\n",
              "      fill: #1967D2;\n",
              "      height: 32px;\n",
              "      padding: 0 0 0 0;\n",
              "      width: 32px;\n",
              "    }\n",
              "\n",
              "    .colab-df-convert:hover {\n",
              "      background-color: #E2EBFA;\n",
              "      box-shadow: 0px 1px 2px rgba(60, 64, 67, 0.3), 0px 1px 3px 1px rgba(60, 64, 67, 0.15);\n",
              "      fill: #174EA6;\n",
              "    }\n",
              "\n",
              "    .colab-df-buttons div {\n",
              "      margin-bottom: 4px;\n",
              "    }\n",
              "\n",
              "    [theme=dark] .colab-df-convert {\n",
              "      background-color: #3B4455;\n",
              "      fill: #D2E3FC;\n",
              "    }\n",
              "\n",
              "    [theme=dark] .colab-df-convert:hover {\n",
              "      background-color: #434B5C;\n",
              "      box-shadow: 0px 1px 3px 1px rgba(0, 0, 0, 0.15);\n",
              "      filter: drop-shadow(0px 1px 2px rgba(0, 0, 0, 0.3));\n",
              "      fill: #FFFFFF;\n",
              "    }\n",
              "  </style>\n",
              "\n",
              "    <script>\n",
              "      const buttonEl =\n",
              "        document.querySelector('#df-b6dfe3dd-0bf2-4bef-87c3-c962485aa453 button.colab-df-convert');\n",
              "      buttonEl.style.display =\n",
              "        google.colab.kernel.accessAllowed ? 'block' : 'none';\n",
              "\n",
              "      async function convertToInteractive(key) {\n",
              "        const element = document.querySelector('#df-b6dfe3dd-0bf2-4bef-87c3-c962485aa453');\n",
              "        const dataTable =\n",
              "          await google.colab.kernel.invokeFunction('convertToInteractive',\n",
              "                                                    [key], {});\n",
              "        if (!dataTable) return;\n",
              "\n",
              "        const docLinkHtml = 'Like what you see? Visit the ' +\n",
              "          '<a target=\"_blank\" href=https://colab.research.google.com/notebooks/data_table.ipynb>data table notebook</a>'\n",
              "          + ' to learn more about interactive tables.';\n",
              "        element.innerHTML = '';\n",
              "        dataTable['output_type'] = 'display_data';\n",
              "        await google.colab.output.renderOutput(dataTable, element);\n",
              "        const docLink = document.createElement('div');\n",
              "        docLink.innerHTML = docLinkHtml;\n",
              "        element.appendChild(docLink);\n",
              "      }\n",
              "    </script>\n",
              "  </div>\n",
              "\n",
              "\n",
              "<div id=\"df-8077a0e2-dc26-4a9c-a98c-80a41b2116b3\">\n",
              "  <button class=\"colab-df-quickchart\" onclick=\"quickchart('df-8077a0e2-dc26-4a9c-a98c-80a41b2116b3')\"\n",
              "            title=\"Suggest charts\"\n",
              "            style=\"display:none;\">\n",
              "\n",
              "<svg xmlns=\"http://www.w3.org/2000/svg\" height=\"24px\"viewBox=\"0 0 24 24\"\n",
              "     width=\"24px\">\n",
              "    <g>\n",
              "        <path d=\"M19 3H5c-1.1 0-2 .9-2 2v14c0 1.1.9 2 2 2h14c1.1 0 2-.9 2-2V5c0-1.1-.9-2-2-2zM9 17H7v-7h2v7zm4 0h-2V7h2v10zm4 0h-2v-4h2v4z\"/>\n",
              "    </g>\n",
              "</svg>\n",
              "  </button>\n",
              "\n",
              "<style>\n",
              "  .colab-df-quickchart {\n",
              "      --bg-color: #E8F0FE;\n",
              "      --fill-color: #1967D2;\n",
              "      --hover-bg-color: #E2EBFA;\n",
              "      --hover-fill-color: #174EA6;\n",
              "      --disabled-fill-color: #AAA;\n",
              "      --disabled-bg-color: #DDD;\n",
              "  }\n",
              "\n",
              "  [theme=dark] .colab-df-quickchart {\n",
              "      --bg-color: #3B4455;\n",
              "      --fill-color: #D2E3FC;\n",
              "      --hover-bg-color: #434B5C;\n",
              "      --hover-fill-color: #FFFFFF;\n",
              "      --disabled-bg-color: #3B4455;\n",
              "      --disabled-fill-color: #666;\n",
              "  }\n",
              "\n",
              "  .colab-df-quickchart {\n",
              "    background-color: var(--bg-color);\n",
              "    border: none;\n",
              "    border-radius: 50%;\n",
              "    cursor: pointer;\n",
              "    display: none;\n",
              "    fill: var(--fill-color);\n",
              "    height: 32px;\n",
              "    padding: 0;\n",
              "    width: 32px;\n",
              "  }\n",
              "\n",
              "  .colab-df-quickchart:hover {\n",
              "    background-color: var(--hover-bg-color);\n",
              "    box-shadow: 0 1px 2px rgba(60, 64, 67, 0.3), 0 1px 3px 1px rgba(60, 64, 67, 0.15);\n",
              "    fill: var(--button-hover-fill-color);\n",
              "  }\n",
              "\n",
              "  .colab-df-quickchart-complete:disabled,\n",
              "  .colab-df-quickchart-complete:disabled:hover {\n",
              "    background-color: var(--disabled-bg-color);\n",
              "    fill: var(--disabled-fill-color);\n",
              "    box-shadow: none;\n",
              "  }\n",
              "\n",
              "  .colab-df-spinner {\n",
              "    border: 2px solid var(--fill-color);\n",
              "    border-color: transparent;\n",
              "    border-bottom-color: var(--fill-color);\n",
              "    animation:\n",
              "      spin 1s steps(1) infinite;\n",
              "  }\n",
              "\n",
              "  @keyframes spin {\n",
              "    0% {\n",
              "      border-color: transparent;\n",
              "      border-bottom-color: var(--fill-color);\n",
              "      border-left-color: var(--fill-color);\n",
              "    }\n",
              "    20% {\n",
              "      border-color: transparent;\n",
              "      border-left-color: var(--fill-color);\n",
              "      border-top-color: var(--fill-color);\n",
              "    }\n",
              "    30% {\n",
              "      border-color: transparent;\n",
              "      border-left-color: var(--fill-color);\n",
              "      border-top-color: var(--fill-color);\n",
              "      border-right-color: var(--fill-color);\n",
              "    }\n",
              "    40% {\n",
              "      border-color: transparent;\n",
              "      border-right-color: var(--fill-color);\n",
              "      border-top-color: var(--fill-color);\n",
              "    }\n",
              "    60% {\n",
              "      border-color: transparent;\n",
              "      border-right-color: var(--fill-color);\n",
              "    }\n",
              "    80% {\n",
              "      border-color: transparent;\n",
              "      border-right-color: var(--fill-color);\n",
              "      border-bottom-color: var(--fill-color);\n",
              "    }\n",
              "    90% {\n",
              "      border-color: transparent;\n",
              "      border-bottom-color: var(--fill-color);\n",
              "    }\n",
              "  }\n",
              "</style>\n",
              "\n",
              "  <script>\n",
              "    async function quickchart(key) {\n",
              "      const quickchartButtonEl =\n",
              "        document.querySelector('#' + key + ' button');\n",
              "      quickchartButtonEl.disabled = true;  // To prevent multiple clicks.\n",
              "      quickchartButtonEl.classList.add('colab-df-spinner');\n",
              "      try {\n",
              "        const charts = await google.colab.kernel.invokeFunction(\n",
              "            'suggestCharts', [key], {});\n",
              "      } catch (error) {\n",
              "        console.error('Error during call to suggestCharts:', error);\n",
              "      }\n",
              "      quickchartButtonEl.classList.remove('colab-df-spinner');\n",
              "      quickchartButtonEl.classList.add('colab-df-quickchart-complete');\n",
              "    }\n",
              "    (() => {\n",
              "      let quickchartButtonEl =\n",
              "        document.querySelector('#df-8077a0e2-dc26-4a9c-a98c-80a41b2116b3 button');\n",
              "      quickchartButtonEl.style.display =\n",
              "        google.colab.kernel.accessAllowed ? 'block' : 'none';\n",
              "    })();\n",
              "  </script>\n",
              "</div>\n",
              "    </div>\n",
              "  </div>\n"
            ],
            "application/vnd.google.colaboratory.intrinsic+json": {
              "type": "dataframe",
              "variable_name": "df"
            }
          },
          "metadata": {},
          "execution_count": 4
        }
      ]
    },
    {
      "cell_type": "code",
      "source": [
        "# order_date, ship_date, sales have been incorrectly formatted as string\n",
        "# year has been incorrectly formatted as integer\n",
        "df.info()\n",
        "#df.dtypes"
      ],
      "metadata": {
        "colab": {
          "base_uri": "https://localhost:8080/"
        },
        "id": "2fTG20UZswZc",
        "outputId": "b6506085-0807-4103-e86b-8a46234de21d"
      },
      "execution_count": 5,
      "outputs": [
        {
          "output_type": "stream",
          "name": "stdout",
          "text": [
            "<class 'pandas.core.frame.DataFrame'>\n",
            "RangeIndex: 51290 entries, 0 to 51289\n",
            "Data columns (total 21 columns):\n",
            " #   Column          Non-Null Count  Dtype  \n",
            "---  ------          --------------  -----  \n",
            " 0   order_id        51290 non-null  object \n",
            " 1   order_date      51290 non-null  object \n",
            " 2   ship_date       51290 non-null  object \n",
            " 3   ship_mode       51290 non-null  object \n",
            " 4   customer_name   51290 non-null  object \n",
            " 5   segment         51290 non-null  object \n",
            " 6   state           51290 non-null  object \n",
            " 7   country         51290 non-null  object \n",
            " 8   market          51290 non-null  object \n",
            " 9   region          51290 non-null  object \n",
            " 10  product_id      51290 non-null  object \n",
            " 11  category        51290 non-null  object \n",
            " 12  sub_category    51290 non-null  object \n",
            " 13  product_name    51290 non-null  object \n",
            " 14  sales           51290 non-null  object \n",
            " 15  quantity        51290 non-null  int64  \n",
            " 16  discount        51290 non-null  float64\n",
            " 17  profit          51290 non-null  float64\n",
            " 18  shipping_cost   51290 non-null  float64\n",
            " 19  order_priority  51290 non-null  object \n",
            " 20  year            51290 non-null  int64  \n",
            "dtypes: float64(3), int64(2), object(16)\n",
            "memory usage: 8.2+ MB\n"
          ]
        }
      ]
    },
    {
      "cell_type": "markdown",
      "source": [
        "##Comma, Double Quotes look good"
      ],
      "metadata": {
        "id": "pmDF9uiBtAMq"
      }
    },
    {
      "cell_type": "code",
      "source": [
        "#df.iloc[9993]['Product Name']\n",
        "df.iloc[9993]['product_name']"
      ],
      "metadata": {
        "colab": {
          "base_uri": "https://localhost:8080/",
          "height": 36
        },
        "id": "Oh4HJXhyn922",
        "outputId": "1466844d-c4b6-43bd-e2e7-64088671c78a"
      },
      "execution_count": 6,
      "outputs": [
        {
          "output_type": "execute_result",
          "data": {
            "text/plain": [
              "'Boston Canvas, Water Color'"
            ],
            "application/vnd.google.colaboratory.intrinsic+json": {
              "type": "string"
            }
          },
          "metadata": {},
          "execution_count": 6
        }
      ]
    },
    {
      "cell_type": "code",
      "source": [
        "#df.iloc[9992]['Product Name']\n",
        "df.iloc[9992]['product_name']"
      ],
      "metadata": {
        "colab": {
          "base_uri": "https://localhost:8080/",
          "height": 36
        },
        "id": "BPtxISZmoyc4",
        "outputId": "b86db510-47a2-4a8f-e742-0c237d48160f"
      },
      "execution_count": 7,
      "outputs": [
        {
          "output_type": "execute_result",
          "data": {
            "text/plain": [
              "'Hon Racetrack Conference Tables'"
            ],
            "application/vnd.google.colaboratory.intrinsic+json": {
              "type": "string"
            }
          },
          "metadata": {},
          "execution_count": 7
        }
      ]
    },
    {
      "cell_type": "markdown",
      "source": [
        "## Sales, year needs to be fixed"
      ],
      "metadata": {
        "id": "MYPhzTf4tQ31"
      }
    },
    {
      "cell_type": "code",
      "source": [
        "#\n",
        "# df.sales has been automatically interpreted as string because of the presence of commma,\n",
        "# so replace comma and convert to numeric\n",
        "#\n",
        "\n",
        "df['sales'] = df['sales'].str.replace(',', '')    # replace , with blank\n",
        "df['sales'] = pd.to_numeric(df['sales'])          # convert column to numeric\n",
        "df['year'] = df['year'].astype(str)          # convert column to string"
      ],
      "metadata": {
        "id": "BO6g2Du1J79Q"
      },
      "execution_count": 8,
      "outputs": []
    },
    {
      "cell_type": "code",
      "source": [
        "#df.info()"
      ],
      "metadata": {
        "id": "mlVQ0phmuVW7"
      },
      "execution_count": null,
      "outputs": []
    },
    {
      "cell_type": "markdown",
      "source": [
        "##Date looks Bad, need to be fixed"
      ],
      "metadata": {
        "id": "hKlP8WNwtGL-"
      }
    },
    {
      "cell_type": "code",
      "source": [
        "# what is the first and last order date ?\n",
        "# we have four years of data, but date format changes ...\n",
        "df['order_date'].head(), df['order_date'].tail()"
      ],
      "metadata": {
        "colab": {
          "base_uri": "https://localhost:8080/"
        },
        "id": "HYtQGRWdte2k",
        "outputId": "13ddd174-7329-44be-cff2-b81b1f9bdc4e"
      },
      "execution_count": 24,
      "outputs": [
        {
          "output_type": "execute_result",
          "data": {
            "text/plain": [
              "(0    1/1/2011\n",
              " 1    1/1/2011\n",
              " 2    1/1/2011\n",
              " 3    1/1/2011\n",
              " 4    1/1/2011\n",
              " Name: order_date, dtype: object,\n",
              " 51285    31-12-2014\n",
              " 51286    31-12-2014\n",
              " 51287    31-12-2014\n",
              " 51288    31-12-2014\n",
              " 51289    31-12-2014\n",
              " Name: order_date, dtype: object)"
            ]
          },
          "metadata": {},
          "execution_count": 24
        }
      ]
    },
    {
      "cell_type": "code",
      "source": [
        "# Some of the dates are string like dd/mm/yyyy while others are dd-mm-yyyy\n",
        "# this will cause problems in converting string to real dates\n",
        "# So we move all dd-mm-yyyy to dd/mm/yyyy -- could have been the other way round also\n",
        "#\n",
        "#df['Order Date'] = df['Order Date'].str.replace('-','/')\n",
        "#df['Ship Date'] = df['Ship Date'].str.replace('-','/')\n",
        "\n",
        "df['order_date'] = df['order_date'].str.replace('-','/')\n",
        "df['ship_date'] = df['ship_date'].str.replace('-','/')"
      ],
      "metadata": {
        "id": "JsqY2sc3tXEG"
      },
      "execution_count": 25,
      "outputs": []
    },
    {
      "cell_type": "code",
      "source": [
        "# convert all dates to dd/mm/yyyy format\n",
        "#\n",
        "df['ship_date'] = pd.to_datetime(df['ship_date'],format='%d/%m/%Y')\n",
        "df['order_date'] = pd.to_datetime(df['order_date'],format='%d/%m/%Y')\n",
        "#df['order_date'].describe"
      ],
      "metadata": {
        "id": "l-QvQYIfuCc_"
      },
      "execution_count": 26,
      "outputs": []
    },
    {
      "cell_type": "code",
      "source": [
        "df.info()"
      ],
      "metadata": {
        "colab": {
          "base_uri": "https://localhost:8080/"
        },
        "id": "xpy8UJc6uTnk",
        "outputId": "f4228b1f-8d82-45a5-c286-c68cef70bc76"
      },
      "execution_count": 27,
      "outputs": [
        {
          "output_type": "stream",
          "name": "stdout",
          "text": [
            "<class 'pandas.core.frame.DataFrame'>\n",
            "RangeIndex: 51290 entries, 0 to 51289\n",
            "Data columns (total 21 columns):\n",
            " #   Column          Non-Null Count  Dtype         \n",
            "---  ------          --------------  -----         \n",
            " 0   order_id        51290 non-null  object        \n",
            " 1   order_date      51290 non-null  datetime64[ns]\n",
            " 2   ship_date       51290 non-null  datetime64[ns]\n",
            " 3   ship_mode       51290 non-null  object        \n",
            " 4   customer_name   51290 non-null  object        \n",
            " 5   segment         51290 non-null  object        \n",
            " 6   state           51290 non-null  object        \n",
            " 7   country         51290 non-null  object        \n",
            " 8   market          51290 non-null  object        \n",
            " 9   region          51290 non-null  object        \n",
            " 10  product_id      51290 non-null  object        \n",
            " 11  category        51290 non-null  object        \n",
            " 12  sub_category    51290 non-null  object        \n",
            " 13  product_name    51290 non-null  object        \n",
            " 14  sales           51290 non-null  int64         \n",
            " 15  quantity        51290 non-null  int64         \n",
            " 16  discount        51290 non-null  float64       \n",
            " 17  profit          51290 non-null  float64       \n",
            " 18  shipping_cost   51290 non-null  float64       \n",
            " 19  order_priority  51290 non-null  object        \n",
            " 20  year            51290 non-null  object        \n",
            "dtypes: datetime64[ns](2), float64(3), int64(2), object(14)\n",
            "memory usage: 8.2+ MB\n"
          ]
        }
      ]
    },
    {
      "cell_type": "code",
      "source": [
        "df.to_csv('Orders2.csv', index=False)"
      ],
      "metadata": {
        "id": "2fVSKQ7Mz9Jd"
      },
      "execution_count": 28,
      "outputs": []
    },
    {
      "cell_type": "markdown",
      "source": [
        "##Pandas Pivot Tables\n",
        "https://github.com/Praxis-QR/PythonForManagers/blob/main/Retail_Sales_Data_Analysis.ipynb"
      ],
      "metadata": {
        "id": "UjydnRiyGc2S"
      }
    },
    {
      "cell_type": "code",
      "source": [
        "#Create the pivot table\n",
        "CrossTab = pd.pivot_table(data=df,index='region',columns='segment',values='sales', aggfunc='sum', margins=True).copy()\n",
        "CrossTab"
      ],
      "metadata": {
        "colab": {
          "base_uri": "https://localhost:8080/",
          "height": 519
        },
        "id": "sYG__5va2yx3",
        "outputId": "6fe4cb54-5114-4ef3-810f-4748891a4a26"
      },
      "execution_count": 29,
      "outputs": [
        {
          "output_type": "execute_result",
          "data": {
            "text/plain": [
              "segment         Consumer  Corporate  Home Office       All\n",
              "region                                                    \n",
              "Africa            423751     204948       155077    783776\n",
              "Canada             35717      19319        11896     66932\n",
              "Caribbean         162351     104535        57395    324281\n",
              "Central          1480033     850405       491961   2822399\n",
              "Central Asia      369052     235552       148235    752839\n",
              "EMEA              406763     250559       148862    806184\n",
              "East              350947     200422       127465    678834\n",
              "North             643976     394220       209996   1248192\n",
              "North Asia        407410     265762       175177    848349\n",
              "Oceania           579564     322831       197812   1100207\n",
              "South             824915     496029       280016   1600960\n",
              "Southeast Asia    460754     254356       169328    884438\n",
              "West              362908     225870       136736    725514\n",
              "All              6508141    3824808      2309956  12642905"
            ],
            "text/html": [
              "\n",
              "  <div id=\"df-2410b437-ece3-4f02-860f-5efdbc5d5633\" class=\"colab-df-container\">\n",
              "    <div>\n",
              "<style scoped>\n",
              "    .dataframe tbody tr th:only-of-type {\n",
              "        vertical-align: middle;\n",
              "    }\n",
              "\n",
              "    .dataframe tbody tr th {\n",
              "        vertical-align: top;\n",
              "    }\n",
              "\n",
              "    .dataframe thead th {\n",
              "        text-align: right;\n",
              "    }\n",
              "</style>\n",
              "<table border=\"1\" class=\"dataframe\">\n",
              "  <thead>\n",
              "    <tr style=\"text-align: right;\">\n",
              "      <th>segment</th>\n",
              "      <th>Consumer</th>\n",
              "      <th>Corporate</th>\n",
              "      <th>Home Office</th>\n",
              "      <th>All</th>\n",
              "    </tr>\n",
              "    <tr>\n",
              "      <th>region</th>\n",
              "      <th></th>\n",
              "      <th></th>\n",
              "      <th></th>\n",
              "      <th></th>\n",
              "    </tr>\n",
              "  </thead>\n",
              "  <tbody>\n",
              "    <tr>\n",
              "      <th>Africa</th>\n",
              "      <td>423751</td>\n",
              "      <td>204948</td>\n",
              "      <td>155077</td>\n",
              "      <td>783776</td>\n",
              "    </tr>\n",
              "    <tr>\n",
              "      <th>Canada</th>\n",
              "      <td>35717</td>\n",
              "      <td>19319</td>\n",
              "      <td>11896</td>\n",
              "      <td>66932</td>\n",
              "    </tr>\n",
              "    <tr>\n",
              "      <th>Caribbean</th>\n",
              "      <td>162351</td>\n",
              "      <td>104535</td>\n",
              "      <td>57395</td>\n",
              "      <td>324281</td>\n",
              "    </tr>\n",
              "    <tr>\n",
              "      <th>Central</th>\n",
              "      <td>1480033</td>\n",
              "      <td>850405</td>\n",
              "      <td>491961</td>\n",
              "      <td>2822399</td>\n",
              "    </tr>\n",
              "    <tr>\n",
              "      <th>Central Asia</th>\n",
              "      <td>369052</td>\n",
              "      <td>235552</td>\n",
              "      <td>148235</td>\n",
              "      <td>752839</td>\n",
              "    </tr>\n",
              "    <tr>\n",
              "      <th>EMEA</th>\n",
              "      <td>406763</td>\n",
              "      <td>250559</td>\n",
              "      <td>148862</td>\n",
              "      <td>806184</td>\n",
              "    </tr>\n",
              "    <tr>\n",
              "      <th>East</th>\n",
              "      <td>350947</td>\n",
              "      <td>200422</td>\n",
              "      <td>127465</td>\n",
              "      <td>678834</td>\n",
              "    </tr>\n",
              "    <tr>\n",
              "      <th>North</th>\n",
              "      <td>643976</td>\n",
              "      <td>394220</td>\n",
              "      <td>209996</td>\n",
              "      <td>1248192</td>\n",
              "    </tr>\n",
              "    <tr>\n",
              "      <th>North Asia</th>\n",
              "      <td>407410</td>\n",
              "      <td>265762</td>\n",
              "      <td>175177</td>\n",
              "      <td>848349</td>\n",
              "    </tr>\n",
              "    <tr>\n",
              "      <th>Oceania</th>\n",
              "      <td>579564</td>\n",
              "      <td>322831</td>\n",
              "      <td>197812</td>\n",
              "      <td>1100207</td>\n",
              "    </tr>\n",
              "    <tr>\n",
              "      <th>South</th>\n",
              "      <td>824915</td>\n",
              "      <td>496029</td>\n",
              "      <td>280016</td>\n",
              "      <td>1600960</td>\n",
              "    </tr>\n",
              "    <tr>\n",
              "      <th>Southeast Asia</th>\n",
              "      <td>460754</td>\n",
              "      <td>254356</td>\n",
              "      <td>169328</td>\n",
              "      <td>884438</td>\n",
              "    </tr>\n",
              "    <tr>\n",
              "      <th>West</th>\n",
              "      <td>362908</td>\n",
              "      <td>225870</td>\n",
              "      <td>136736</td>\n",
              "      <td>725514</td>\n",
              "    </tr>\n",
              "    <tr>\n",
              "      <th>All</th>\n",
              "      <td>6508141</td>\n",
              "      <td>3824808</td>\n",
              "      <td>2309956</td>\n",
              "      <td>12642905</td>\n",
              "    </tr>\n",
              "  </tbody>\n",
              "</table>\n",
              "</div>\n",
              "    <div class=\"colab-df-buttons\">\n",
              "\n",
              "  <div class=\"colab-df-container\">\n",
              "    <button class=\"colab-df-convert\" onclick=\"convertToInteractive('df-2410b437-ece3-4f02-860f-5efdbc5d5633')\"\n",
              "            title=\"Convert this dataframe to an interactive table.\"\n",
              "            style=\"display:none;\">\n",
              "\n",
              "  <svg xmlns=\"http://www.w3.org/2000/svg\" height=\"24px\" viewBox=\"0 -960 960 960\">\n",
              "    <path d=\"M120-120v-720h720v720H120Zm60-500h600v-160H180v160Zm220 220h160v-160H400v160Zm0 220h160v-160H400v160ZM180-400h160v-160H180v160Zm440 0h160v-160H620v160ZM180-180h160v-160H180v160Zm440 0h160v-160H620v160Z\"/>\n",
              "  </svg>\n",
              "    </button>\n",
              "\n",
              "  <style>\n",
              "    .colab-df-container {\n",
              "      display:flex;\n",
              "      gap: 12px;\n",
              "    }\n",
              "\n",
              "    .colab-df-convert {\n",
              "      background-color: #E8F0FE;\n",
              "      border: none;\n",
              "      border-radius: 50%;\n",
              "      cursor: pointer;\n",
              "      display: none;\n",
              "      fill: #1967D2;\n",
              "      height: 32px;\n",
              "      padding: 0 0 0 0;\n",
              "      width: 32px;\n",
              "    }\n",
              "\n",
              "    .colab-df-convert:hover {\n",
              "      background-color: #E2EBFA;\n",
              "      box-shadow: 0px 1px 2px rgba(60, 64, 67, 0.3), 0px 1px 3px 1px rgba(60, 64, 67, 0.15);\n",
              "      fill: #174EA6;\n",
              "    }\n",
              "\n",
              "    .colab-df-buttons div {\n",
              "      margin-bottom: 4px;\n",
              "    }\n",
              "\n",
              "    [theme=dark] .colab-df-convert {\n",
              "      background-color: #3B4455;\n",
              "      fill: #D2E3FC;\n",
              "    }\n",
              "\n",
              "    [theme=dark] .colab-df-convert:hover {\n",
              "      background-color: #434B5C;\n",
              "      box-shadow: 0px 1px 3px 1px rgba(0, 0, 0, 0.15);\n",
              "      filter: drop-shadow(0px 1px 2px rgba(0, 0, 0, 0.3));\n",
              "      fill: #FFFFFF;\n",
              "    }\n",
              "  </style>\n",
              "\n",
              "    <script>\n",
              "      const buttonEl =\n",
              "        document.querySelector('#df-2410b437-ece3-4f02-860f-5efdbc5d5633 button.colab-df-convert');\n",
              "      buttonEl.style.display =\n",
              "        google.colab.kernel.accessAllowed ? 'block' : 'none';\n",
              "\n",
              "      async function convertToInteractive(key) {\n",
              "        const element = document.querySelector('#df-2410b437-ece3-4f02-860f-5efdbc5d5633');\n",
              "        const dataTable =\n",
              "          await google.colab.kernel.invokeFunction('convertToInteractive',\n",
              "                                                    [key], {});\n",
              "        if (!dataTable) return;\n",
              "\n",
              "        const docLinkHtml = 'Like what you see? Visit the ' +\n",
              "          '<a target=\"_blank\" href=https://colab.research.google.com/notebooks/data_table.ipynb>data table notebook</a>'\n",
              "          + ' to learn more about interactive tables.';\n",
              "        element.innerHTML = '';\n",
              "        dataTable['output_type'] = 'display_data';\n",
              "        await google.colab.output.renderOutput(dataTable, element);\n",
              "        const docLink = document.createElement('div');\n",
              "        docLink.innerHTML = docLinkHtml;\n",
              "        element.appendChild(docLink);\n",
              "      }\n",
              "    </script>\n",
              "  </div>\n",
              "\n",
              "\n",
              "<div id=\"df-93f22326-11ef-46c9-af98-826f5c936cd5\">\n",
              "  <button class=\"colab-df-quickchart\" onclick=\"quickchart('df-93f22326-11ef-46c9-af98-826f5c936cd5')\"\n",
              "            title=\"Suggest charts\"\n",
              "            style=\"display:none;\">\n",
              "\n",
              "<svg xmlns=\"http://www.w3.org/2000/svg\" height=\"24px\"viewBox=\"0 0 24 24\"\n",
              "     width=\"24px\">\n",
              "    <g>\n",
              "        <path d=\"M19 3H5c-1.1 0-2 .9-2 2v14c0 1.1.9 2 2 2h14c1.1 0 2-.9 2-2V5c0-1.1-.9-2-2-2zM9 17H7v-7h2v7zm4 0h-2V7h2v10zm4 0h-2v-4h2v4z\"/>\n",
              "    </g>\n",
              "</svg>\n",
              "  </button>\n",
              "\n",
              "<style>\n",
              "  .colab-df-quickchart {\n",
              "      --bg-color: #E8F0FE;\n",
              "      --fill-color: #1967D2;\n",
              "      --hover-bg-color: #E2EBFA;\n",
              "      --hover-fill-color: #174EA6;\n",
              "      --disabled-fill-color: #AAA;\n",
              "      --disabled-bg-color: #DDD;\n",
              "  }\n",
              "\n",
              "  [theme=dark] .colab-df-quickchart {\n",
              "      --bg-color: #3B4455;\n",
              "      --fill-color: #D2E3FC;\n",
              "      --hover-bg-color: #434B5C;\n",
              "      --hover-fill-color: #FFFFFF;\n",
              "      --disabled-bg-color: #3B4455;\n",
              "      --disabled-fill-color: #666;\n",
              "  }\n",
              "\n",
              "  .colab-df-quickchart {\n",
              "    background-color: var(--bg-color);\n",
              "    border: none;\n",
              "    border-radius: 50%;\n",
              "    cursor: pointer;\n",
              "    display: none;\n",
              "    fill: var(--fill-color);\n",
              "    height: 32px;\n",
              "    padding: 0;\n",
              "    width: 32px;\n",
              "  }\n",
              "\n",
              "  .colab-df-quickchart:hover {\n",
              "    background-color: var(--hover-bg-color);\n",
              "    box-shadow: 0 1px 2px rgba(60, 64, 67, 0.3), 0 1px 3px 1px rgba(60, 64, 67, 0.15);\n",
              "    fill: var(--button-hover-fill-color);\n",
              "  }\n",
              "\n",
              "  .colab-df-quickchart-complete:disabled,\n",
              "  .colab-df-quickchart-complete:disabled:hover {\n",
              "    background-color: var(--disabled-bg-color);\n",
              "    fill: var(--disabled-fill-color);\n",
              "    box-shadow: none;\n",
              "  }\n",
              "\n",
              "  .colab-df-spinner {\n",
              "    border: 2px solid var(--fill-color);\n",
              "    border-color: transparent;\n",
              "    border-bottom-color: var(--fill-color);\n",
              "    animation:\n",
              "      spin 1s steps(1) infinite;\n",
              "  }\n",
              "\n",
              "  @keyframes spin {\n",
              "    0% {\n",
              "      border-color: transparent;\n",
              "      border-bottom-color: var(--fill-color);\n",
              "      border-left-color: var(--fill-color);\n",
              "    }\n",
              "    20% {\n",
              "      border-color: transparent;\n",
              "      border-left-color: var(--fill-color);\n",
              "      border-top-color: var(--fill-color);\n",
              "    }\n",
              "    30% {\n",
              "      border-color: transparent;\n",
              "      border-left-color: var(--fill-color);\n",
              "      border-top-color: var(--fill-color);\n",
              "      border-right-color: var(--fill-color);\n",
              "    }\n",
              "    40% {\n",
              "      border-color: transparent;\n",
              "      border-right-color: var(--fill-color);\n",
              "      border-top-color: var(--fill-color);\n",
              "    }\n",
              "    60% {\n",
              "      border-color: transparent;\n",
              "      border-right-color: var(--fill-color);\n",
              "    }\n",
              "    80% {\n",
              "      border-color: transparent;\n",
              "      border-right-color: var(--fill-color);\n",
              "      border-bottom-color: var(--fill-color);\n",
              "    }\n",
              "    90% {\n",
              "      border-color: transparent;\n",
              "      border-bottom-color: var(--fill-color);\n",
              "    }\n",
              "  }\n",
              "</style>\n",
              "\n",
              "  <script>\n",
              "    async function quickchart(key) {\n",
              "      const quickchartButtonEl =\n",
              "        document.querySelector('#' + key + ' button');\n",
              "      quickchartButtonEl.disabled = true;  // To prevent multiple clicks.\n",
              "      quickchartButtonEl.classList.add('colab-df-spinner');\n",
              "      try {\n",
              "        const charts = await google.colab.kernel.invokeFunction(\n",
              "            'suggestCharts', [key], {});\n",
              "      } catch (error) {\n",
              "        console.error('Error during call to suggestCharts:', error);\n",
              "      }\n",
              "      quickchartButtonEl.classList.remove('colab-df-spinner');\n",
              "      quickchartButtonEl.classList.add('colab-df-quickchart-complete');\n",
              "    }\n",
              "    (() => {\n",
              "      let quickchartButtonEl =\n",
              "        document.querySelector('#df-93f22326-11ef-46c9-af98-826f5c936cd5 button');\n",
              "      quickchartButtonEl.style.display =\n",
              "        google.colab.kernel.accessAllowed ? 'block' : 'none';\n",
              "    })();\n",
              "  </script>\n",
              "</div>\n",
              "    </div>\n",
              "  </div>\n"
            ],
            "application/vnd.google.colaboratory.intrinsic+json": {
              "type": "dataframe",
              "variable_name": "CrossTab",
              "summary": "{\n  \"name\": \"CrossTab\",\n  \"rows\": 14,\n  \"fields\": [\n    {\n      \"column\": \"region\",\n      \"properties\": {\n        \"dtype\": \"string\",\n        \"num_unique_values\": 14,\n        \"samples\": [\n          \"Oceania\",\n          \"Southeast Asia\",\n          \"Africa\"\n        ],\n        \"semantic_type\": \"\",\n        \"description\": \"\"\n      }\n    },\n    {\n      \"column\": \"Consumer\",\n      \"properties\": {\n        \"dtype\": \"number\",\n        \"std\": 1641242,\n        \"min\": 35717,\n        \"max\": 6508141,\n        \"num_unique_values\": 14,\n        \"samples\": [\n          579564,\n          460754,\n          423751\n        ],\n        \"semantic_type\": \"\",\n        \"description\": \"\"\n      }\n    },\n    {\n      \"column\": \"Corporate\",\n      \"properties\": {\n        \"dtype\": \"number\",\n        \"std\": 963820,\n        \"min\": 19319,\n        \"max\": 3824808,\n        \"num_unique_values\": 14,\n        \"samples\": [\n          322831,\n          254356,\n          204948\n        ],\n        \"semantic_type\": \"\",\n        \"description\": \"\"\n      }\n    },\n    {\n      \"column\": \"Home Office\",\n      \"properties\": {\n        \"dtype\": \"number\",\n        \"std\": 580512,\n        \"min\": 11896,\n        \"max\": 2309956,\n        \"num_unique_values\": 14,\n        \"samples\": [\n          197812,\n          169328,\n          155077\n        ],\n        \"semantic_type\": \"\",\n        \"description\": \"\"\n      }\n    },\n    {\n      \"column\": \"All\",\n      \"properties\": {\n        \"dtype\": \"number\",\n        \"std\": 3185312,\n        \"min\": 66932,\n        \"max\": 12642905,\n        \"num_unique_values\": 14,\n        \"samples\": [\n          1100207,\n          884438,\n          783776\n        ],\n        \"semantic_type\": \"\",\n        \"description\": \"\"\n      }\n    }\n  ]\n}"
            }
          },
          "metadata": {},
          "execution_count": 29
        }
      ]
    },
    {
      "cell_type": "code",
      "source": [
        "#Create the pivot table\n",
        "CrossTab = pd.pivot_table(data=df,index='category',columns='year',values='sales', aggfunc='sum', margins=True).copy()\n",
        "CrossTab"
      ],
      "metadata": {
        "colab": {
          "base_uri": "https://localhost:8080/",
          "height": 206
        },
        "id": "w2h4gskTGGPl",
        "outputId": "efde7201-e66b-4d97-cad0-125cf0250417"
      },
      "execution_count": 30,
      "outputs": [
        {
          "output_type": "execute_result",
          "data": {
            "text/plain": [
              "year                2011     2012     2013     2014       All\n",
              "category                                                     \n",
              "Furniture         756171   858913  1117739  1378061   4110884\n",
              "Office Supplies   675642   795113  1010793  1305782   3787330\n",
              "Technology        827698  1023467  1277328  1616198   4744691\n",
              "All              2259511  2677493  3405860  4300041  12642905"
            ],
            "text/html": [
              "\n",
              "  <div id=\"df-8978626e-3925-431f-9811-5c34d817ae78\" class=\"colab-df-container\">\n",
              "    <div>\n",
              "<style scoped>\n",
              "    .dataframe tbody tr th:only-of-type {\n",
              "        vertical-align: middle;\n",
              "    }\n",
              "\n",
              "    .dataframe tbody tr th {\n",
              "        vertical-align: top;\n",
              "    }\n",
              "\n",
              "    .dataframe thead th {\n",
              "        text-align: right;\n",
              "    }\n",
              "</style>\n",
              "<table border=\"1\" class=\"dataframe\">\n",
              "  <thead>\n",
              "    <tr style=\"text-align: right;\">\n",
              "      <th>year</th>\n",
              "      <th>2011</th>\n",
              "      <th>2012</th>\n",
              "      <th>2013</th>\n",
              "      <th>2014</th>\n",
              "      <th>All</th>\n",
              "    </tr>\n",
              "    <tr>\n",
              "      <th>category</th>\n",
              "      <th></th>\n",
              "      <th></th>\n",
              "      <th></th>\n",
              "      <th></th>\n",
              "      <th></th>\n",
              "    </tr>\n",
              "  </thead>\n",
              "  <tbody>\n",
              "    <tr>\n",
              "      <th>Furniture</th>\n",
              "      <td>756171</td>\n",
              "      <td>858913</td>\n",
              "      <td>1117739</td>\n",
              "      <td>1378061</td>\n",
              "      <td>4110884</td>\n",
              "    </tr>\n",
              "    <tr>\n",
              "      <th>Office Supplies</th>\n",
              "      <td>675642</td>\n",
              "      <td>795113</td>\n",
              "      <td>1010793</td>\n",
              "      <td>1305782</td>\n",
              "      <td>3787330</td>\n",
              "    </tr>\n",
              "    <tr>\n",
              "      <th>Technology</th>\n",
              "      <td>827698</td>\n",
              "      <td>1023467</td>\n",
              "      <td>1277328</td>\n",
              "      <td>1616198</td>\n",
              "      <td>4744691</td>\n",
              "    </tr>\n",
              "    <tr>\n",
              "      <th>All</th>\n",
              "      <td>2259511</td>\n",
              "      <td>2677493</td>\n",
              "      <td>3405860</td>\n",
              "      <td>4300041</td>\n",
              "      <td>12642905</td>\n",
              "    </tr>\n",
              "  </tbody>\n",
              "</table>\n",
              "</div>\n",
              "    <div class=\"colab-df-buttons\">\n",
              "\n",
              "  <div class=\"colab-df-container\">\n",
              "    <button class=\"colab-df-convert\" onclick=\"convertToInteractive('df-8978626e-3925-431f-9811-5c34d817ae78')\"\n",
              "            title=\"Convert this dataframe to an interactive table.\"\n",
              "            style=\"display:none;\">\n",
              "\n",
              "  <svg xmlns=\"http://www.w3.org/2000/svg\" height=\"24px\" viewBox=\"0 -960 960 960\">\n",
              "    <path d=\"M120-120v-720h720v720H120Zm60-500h600v-160H180v160Zm220 220h160v-160H400v160Zm0 220h160v-160H400v160ZM180-400h160v-160H180v160Zm440 0h160v-160H620v160ZM180-180h160v-160H180v160Zm440 0h160v-160H620v160Z\"/>\n",
              "  </svg>\n",
              "    </button>\n",
              "\n",
              "  <style>\n",
              "    .colab-df-container {\n",
              "      display:flex;\n",
              "      gap: 12px;\n",
              "    }\n",
              "\n",
              "    .colab-df-convert {\n",
              "      background-color: #E8F0FE;\n",
              "      border: none;\n",
              "      border-radius: 50%;\n",
              "      cursor: pointer;\n",
              "      display: none;\n",
              "      fill: #1967D2;\n",
              "      height: 32px;\n",
              "      padding: 0 0 0 0;\n",
              "      width: 32px;\n",
              "    }\n",
              "\n",
              "    .colab-df-convert:hover {\n",
              "      background-color: #E2EBFA;\n",
              "      box-shadow: 0px 1px 2px rgba(60, 64, 67, 0.3), 0px 1px 3px 1px rgba(60, 64, 67, 0.15);\n",
              "      fill: #174EA6;\n",
              "    }\n",
              "\n",
              "    .colab-df-buttons div {\n",
              "      margin-bottom: 4px;\n",
              "    }\n",
              "\n",
              "    [theme=dark] .colab-df-convert {\n",
              "      background-color: #3B4455;\n",
              "      fill: #D2E3FC;\n",
              "    }\n",
              "\n",
              "    [theme=dark] .colab-df-convert:hover {\n",
              "      background-color: #434B5C;\n",
              "      box-shadow: 0px 1px 3px 1px rgba(0, 0, 0, 0.15);\n",
              "      filter: drop-shadow(0px 1px 2px rgba(0, 0, 0, 0.3));\n",
              "      fill: #FFFFFF;\n",
              "    }\n",
              "  </style>\n",
              "\n",
              "    <script>\n",
              "      const buttonEl =\n",
              "        document.querySelector('#df-8978626e-3925-431f-9811-5c34d817ae78 button.colab-df-convert');\n",
              "      buttonEl.style.display =\n",
              "        google.colab.kernel.accessAllowed ? 'block' : 'none';\n",
              "\n",
              "      async function convertToInteractive(key) {\n",
              "        const element = document.querySelector('#df-8978626e-3925-431f-9811-5c34d817ae78');\n",
              "        const dataTable =\n",
              "          await google.colab.kernel.invokeFunction('convertToInteractive',\n",
              "                                                    [key], {});\n",
              "        if (!dataTable) return;\n",
              "\n",
              "        const docLinkHtml = 'Like what you see? Visit the ' +\n",
              "          '<a target=\"_blank\" href=https://colab.research.google.com/notebooks/data_table.ipynb>data table notebook</a>'\n",
              "          + ' to learn more about interactive tables.';\n",
              "        element.innerHTML = '';\n",
              "        dataTable['output_type'] = 'display_data';\n",
              "        await google.colab.output.renderOutput(dataTable, element);\n",
              "        const docLink = document.createElement('div');\n",
              "        docLink.innerHTML = docLinkHtml;\n",
              "        element.appendChild(docLink);\n",
              "      }\n",
              "    </script>\n",
              "  </div>\n",
              "\n",
              "\n",
              "<div id=\"df-4b4e85b8-53b8-4439-af43-873438549786\">\n",
              "  <button class=\"colab-df-quickchart\" onclick=\"quickchart('df-4b4e85b8-53b8-4439-af43-873438549786')\"\n",
              "            title=\"Suggest charts\"\n",
              "            style=\"display:none;\">\n",
              "\n",
              "<svg xmlns=\"http://www.w3.org/2000/svg\" height=\"24px\"viewBox=\"0 0 24 24\"\n",
              "     width=\"24px\">\n",
              "    <g>\n",
              "        <path d=\"M19 3H5c-1.1 0-2 .9-2 2v14c0 1.1.9 2 2 2h14c1.1 0 2-.9 2-2V5c0-1.1-.9-2-2-2zM9 17H7v-7h2v7zm4 0h-2V7h2v10zm4 0h-2v-4h2v4z\"/>\n",
              "    </g>\n",
              "</svg>\n",
              "  </button>\n",
              "\n",
              "<style>\n",
              "  .colab-df-quickchart {\n",
              "      --bg-color: #E8F0FE;\n",
              "      --fill-color: #1967D2;\n",
              "      --hover-bg-color: #E2EBFA;\n",
              "      --hover-fill-color: #174EA6;\n",
              "      --disabled-fill-color: #AAA;\n",
              "      --disabled-bg-color: #DDD;\n",
              "  }\n",
              "\n",
              "  [theme=dark] .colab-df-quickchart {\n",
              "      --bg-color: #3B4455;\n",
              "      --fill-color: #D2E3FC;\n",
              "      --hover-bg-color: #434B5C;\n",
              "      --hover-fill-color: #FFFFFF;\n",
              "      --disabled-bg-color: #3B4455;\n",
              "      --disabled-fill-color: #666;\n",
              "  }\n",
              "\n",
              "  .colab-df-quickchart {\n",
              "    background-color: var(--bg-color);\n",
              "    border: none;\n",
              "    border-radius: 50%;\n",
              "    cursor: pointer;\n",
              "    display: none;\n",
              "    fill: var(--fill-color);\n",
              "    height: 32px;\n",
              "    padding: 0;\n",
              "    width: 32px;\n",
              "  }\n",
              "\n",
              "  .colab-df-quickchart:hover {\n",
              "    background-color: var(--hover-bg-color);\n",
              "    box-shadow: 0 1px 2px rgba(60, 64, 67, 0.3), 0 1px 3px 1px rgba(60, 64, 67, 0.15);\n",
              "    fill: var(--button-hover-fill-color);\n",
              "  }\n",
              "\n",
              "  .colab-df-quickchart-complete:disabled,\n",
              "  .colab-df-quickchart-complete:disabled:hover {\n",
              "    background-color: var(--disabled-bg-color);\n",
              "    fill: var(--disabled-fill-color);\n",
              "    box-shadow: none;\n",
              "  }\n",
              "\n",
              "  .colab-df-spinner {\n",
              "    border: 2px solid var(--fill-color);\n",
              "    border-color: transparent;\n",
              "    border-bottom-color: var(--fill-color);\n",
              "    animation:\n",
              "      spin 1s steps(1) infinite;\n",
              "  }\n",
              "\n",
              "  @keyframes spin {\n",
              "    0% {\n",
              "      border-color: transparent;\n",
              "      border-bottom-color: var(--fill-color);\n",
              "      border-left-color: var(--fill-color);\n",
              "    }\n",
              "    20% {\n",
              "      border-color: transparent;\n",
              "      border-left-color: var(--fill-color);\n",
              "      border-top-color: var(--fill-color);\n",
              "    }\n",
              "    30% {\n",
              "      border-color: transparent;\n",
              "      border-left-color: var(--fill-color);\n",
              "      border-top-color: var(--fill-color);\n",
              "      border-right-color: var(--fill-color);\n",
              "    }\n",
              "    40% {\n",
              "      border-color: transparent;\n",
              "      border-right-color: var(--fill-color);\n",
              "      border-top-color: var(--fill-color);\n",
              "    }\n",
              "    60% {\n",
              "      border-color: transparent;\n",
              "      border-right-color: var(--fill-color);\n",
              "    }\n",
              "    80% {\n",
              "      border-color: transparent;\n",
              "      border-right-color: var(--fill-color);\n",
              "      border-bottom-color: var(--fill-color);\n",
              "    }\n",
              "    90% {\n",
              "      border-color: transparent;\n",
              "      border-bottom-color: var(--fill-color);\n",
              "    }\n",
              "  }\n",
              "</style>\n",
              "\n",
              "  <script>\n",
              "    async function quickchart(key) {\n",
              "      const quickchartButtonEl =\n",
              "        document.querySelector('#' + key + ' button');\n",
              "      quickchartButtonEl.disabled = true;  // To prevent multiple clicks.\n",
              "      quickchartButtonEl.classList.add('colab-df-spinner');\n",
              "      try {\n",
              "        const charts = await google.colab.kernel.invokeFunction(\n",
              "            'suggestCharts', [key], {});\n",
              "      } catch (error) {\n",
              "        console.error('Error during call to suggestCharts:', error);\n",
              "      }\n",
              "      quickchartButtonEl.classList.remove('colab-df-spinner');\n",
              "      quickchartButtonEl.classList.add('colab-df-quickchart-complete');\n",
              "    }\n",
              "    (() => {\n",
              "      let quickchartButtonEl =\n",
              "        document.querySelector('#df-4b4e85b8-53b8-4439-af43-873438549786 button');\n",
              "      quickchartButtonEl.style.display =\n",
              "        google.colab.kernel.accessAllowed ? 'block' : 'none';\n",
              "    })();\n",
              "  </script>\n",
              "</div>\n",
              "    </div>\n",
              "  </div>\n"
            ],
            "application/vnd.google.colaboratory.intrinsic+json": {
              "type": "dataframe",
              "variable_name": "CrossTab",
              "summary": "{\n  \"name\": \"CrossTab\",\n  \"rows\": 4,\n  \"fields\": [\n    {\n      \"column\": \"category\",\n      \"properties\": {\n        \"dtype\": \"string\",\n        \"num_unique_values\": 4,\n        \"samples\": [\n          \"Office Supplies\",\n          \"All\",\n          \"Furniture\"\n        ],\n        \"semantic_type\": \"\",\n        \"description\": \"\"\n      }\n    },\n    {\n      \"column\": \"2011\",\n      \"properties\": {\n        \"dtype\": \"number\",\n        \"std\": 755727,\n        \"min\": 675642,\n        \"max\": 2259511,\n        \"num_unique_values\": 4,\n        \"samples\": [\n          675642,\n          2259511,\n          756171\n        ],\n        \"semantic_type\": \"\",\n        \"description\": \"\"\n      }\n    },\n    {\n      \"column\": \"2012\",\n      \"properties\": {\n        \"dtype\": \"number\",\n        \"std\": 897667,\n        \"min\": 795113,\n        \"max\": 2677493,\n        \"num_unique_values\": 4,\n        \"samples\": [\n          795113,\n          2677493,\n          858913\n        ],\n        \"semantic_type\": \"\",\n        \"description\": \"\"\n      }\n    },\n    {\n      \"column\": \"2013\",\n      \"properties\": {\n        \"dtype\": \"number\",\n        \"std\": 1140556,\n        \"min\": 1010793,\n        \"max\": 3405860,\n        \"num_unique_values\": 4,\n        \"samples\": [\n          1010793,\n          3405860,\n          1117739\n        ],\n        \"semantic_type\": \"\",\n        \"description\": \"\"\n      }\n    },\n    {\n      \"column\": \"2014\",\n      \"properties\": {\n        \"dtype\": \"number\",\n        \"std\": 1439469,\n        \"min\": 1305782,\n        \"max\": 4300041,\n        \"num_unique_values\": 4,\n        \"samples\": [\n          1305782,\n          4300041,\n          1378061\n        ],\n        \"semantic_type\": \"\",\n        \"description\": \"\"\n      }\n    },\n    {\n      \"column\": \"All\",\n      \"properties\": {\n        \"dtype\": \"number\",\n        \"std\": 4233018,\n        \"min\": 3787330,\n        \"max\": 12642905,\n        \"num_unique_values\": 4,\n        \"samples\": [\n          3787330,\n          12642905,\n          4110884\n        ],\n        \"semantic_type\": \"\",\n        \"description\": \"\"\n      }\n    }\n  ]\n}"
            }
          },
          "metadata": {},
          "execution_count": 30
        }
      ]
    },
    {
      "cell_type": "markdown",
      "source": [
        "#Pandas Dataframe to Parquet Format\n",
        "Ref https://mungingdata.com/pyarrow/parquet-metadata-min-max-statistics/"
      ],
      "metadata": {
        "id": "cq9ZRD25vDwd"
      }
    },
    {
      "cell_type": "code",
      "source": [
        "df.to_parquet('Orders2.parquet')"
      ],
      "metadata": {
        "id": "iVmEgVXHvIlo"
      },
      "execution_count": 31,
      "outputs": []
    },
    {
      "cell_type": "code",
      "source": [
        "# Note that parquet files are much smaller even compared to the zip file\n",
        "#!ls -al Orders2.*\n",
        "!ls -al"
      ],
      "metadata": {
        "id": "eIuSYj-uT9dB",
        "outputId": "81cc58be-2dae-44ac-8c67-d202becd2758",
        "colab": {
          "base_uri": "https://localhost:8080/"
        }
      },
      "execution_count": 32,
      "outputs": [
        {
          "output_type": "stream",
          "name": "stdout",
          "text": [
            "total 14404\n",
            "drwxr-xr-x 1 root root     4096 Apr 30 08:04 .\n",
            "drwxr-xr-x 1 root root     4096 Apr 30 07:48 ..\n",
            "drwxr-xr-x 4 root root     4096 Apr 26 13:21 .config\n",
            "-rw-r--r-- 1 root root 10865023 Apr 30 08:03 Orders2.csv\n",
            "-rw-r--r-- 1 root root  1579365 Apr 30 08:04 Orders2.parquet\n",
            "-rw-r--r-- 1 root root  2283831 Apr 30 07:50 Orders.zip\n",
            "drwxr-xr-x 1 root root     4096 Apr 26 13:22 sample_data\n"
          ]
        }
      ]
    },
    {
      "cell_type": "code",
      "source": [
        "import pyarrow.csv as pv\n",
        "import pyarrow.parquet as pq"
      ],
      "metadata": {
        "id": "TOnwOrrzUXY6"
      },
      "execution_count": 33,
      "outputs": []
    },
    {
      "cell_type": "code",
      "source": [
        "pf = pq.ParquetFile('Orders2.parquet')"
      ],
      "metadata": {
        "id": "K5hzL8xlxwDq"
      },
      "execution_count": 34,
      "outputs": []
    },
    {
      "cell_type": "code",
      "source": [
        "pf.metadata"
      ],
      "metadata": {
        "colab": {
          "base_uri": "https://localhost:8080/"
        },
        "id": "9dW1_J6ix6Hq",
        "outputId": "db1b74e2-8948-4400-eb82-cce5151f551c"
      },
      "execution_count": 35,
      "outputs": [
        {
          "output_type": "execute_result",
          "data": {
            "text/plain": [
              "<pyarrow._parquet.FileMetaData object at 0x7cb982c7fa10>\n",
              "  created_by: parquet-cpp-arrow version 14.0.2\n",
              "  num_columns: 21\n",
              "  num_rows: 51290\n",
              "  num_row_groups: 1\n",
              "  format_version: 2.6\n",
              "  serialized_size: 10815"
            ]
          },
          "metadata": {},
          "execution_count": 35
        }
      ]
    },
    {
      "cell_type": "code",
      "source": [
        "pf.metadata.row_group(0)"
      ],
      "metadata": {
        "colab": {
          "base_uri": "https://localhost:8080/"
        },
        "id": "R5LmpajoyEO-",
        "outputId": "52ee1c9c-d56d-4900-adca-184a7a588b40"
      },
      "execution_count": 36,
      "outputs": [
        {
          "output_type": "execute_result",
          "data": {
            "text/plain": [
              "<pyarrow._parquet.RowGroupMetaData object at 0x7cb981accc20>\n",
              "  num_columns: 21\n",
              "  num_rows: 51290\n",
              "  total_byte_size: 2104641"
            ]
          },
          "metadata": {},
          "execution_count": 36
        }
      ]
    },
    {
      "cell_type": "code",
      "source": [
        "# Get details of each column\n",
        "pf.metadata.row_group(0).column(1)"
      ],
      "metadata": {
        "colab": {
          "base_uri": "https://localhost:8080/"
        },
        "id": "1p19TnuRyLdc",
        "outputId": "b2c8fd91-8487-4a3c-ad00-0cfc25300622"
      },
      "execution_count": 37,
      "outputs": [
        {
          "output_type": "execute_result",
          "data": {
            "text/plain": [
              "<pyarrow._parquet.ColumnChunkMetaData object at 0x7cb97dcce700>\n",
              "  file_offset: 310878\n",
              "  file_path: \n",
              "  physical_type: INT64\n",
              "  num_values: 51290\n",
              "  path_in_schema: order_date\n",
              "  is_stats_set: True\n",
              "  statistics:\n",
              "    <pyarrow._parquet.Statistics object at 0x7cb97dc84b30>\n",
              "      has_min_max: True\n",
              "      min: 2011-01-01 00:00:00\n",
              "      max: 2014-12-31 00:00:00\n",
              "      null_count: 0\n",
              "      distinct_count: None\n",
              "      num_values: 51290\n",
              "      physical_type: INT64\n",
              "      logical_type: Timestamp(isAdjustedToUTC=false, timeUnit=nanoseconds, is_from_converted_type=false, force_set_converted_type=false)\n",
              "      converted_type (legacy): NONE\n",
              "  compression: SNAPPY\n",
              "  encodings: ('PLAIN', 'RLE', 'RLE_DICTIONARY')\n",
              "  has_dictionary_page: True\n",
              "  dictionary_page_offset: 294520\n",
              "  data_page_offset: 304995\n",
              "  total_compressed_size: 16358\n",
              "  total_uncompressed_size: 17356"
            ]
          },
          "metadata": {},
          "execution_count": 37
        }
      ]
    },
    {
      "cell_type": "code",
      "source": [
        "# Get details of each column\n",
        "pf.metadata.row_group(0).column(5)"
      ],
      "metadata": {
        "id": "H3Cp-6JxC0cm",
        "outputId": "937c5ccd-1beb-4874-c04b-967d98b2324e",
        "colab": {
          "base_uri": "https://localhost:8080/"
        }
      },
      "execution_count": 38,
      "outputs": [
        {
          "output_type": "execute_result",
          "data": {
            "text/plain": [
              "<pyarrow._parquet.ColumnChunkMetaData object at 0x7cb97dcdefc0>\n",
              "  file_offset: 491990\n",
              "  file_path: \n",
              "  physical_type: BYTE_ARRAY\n",
              "  num_values: 51290\n",
              "  path_in_schema: segment\n",
              "  is_stats_set: True\n",
              "  statistics:\n",
              "    <pyarrow._parquet.Statistics object at 0x7cb97dc84b30>\n",
              "      has_min_max: True\n",
              "      min: Consumer\n",
              "      max: Home Office\n",
              "      null_count: 0\n",
              "      distinct_count: None\n",
              "      num_values: 51290\n",
              "      physical_type: BYTE_ARRAY\n",
              "      logical_type: String\n",
              "      converted_type (legacy): UTF8\n",
              "  compression: SNAPPY\n",
              "  encodings: ('PLAIN', 'RLE', 'RLE_DICTIONARY')\n",
              "  has_dictionary_page: True\n",
              "  dictionary_page_offset: 478942\n",
              "  data_page_offset: 478998\n",
              "  total_compressed_size: 13048\n",
              "  total_uncompressed_size: 13041"
            ]
          },
          "metadata": {},
          "execution_count": 38
        }
      ]
    },
    {
      "cell_type": "code",
      "source": [
        "pf.metadata.row_group(0).column(20)"
      ],
      "metadata": {
        "colab": {
          "base_uri": "https://localhost:8080/"
        },
        "id": "B93i7gibyYpQ",
        "outputId": "66860519-6323-4af7-a68c-3a65a04a5423"
      },
      "execution_count": null,
      "outputs": [
        {
          "output_type": "execute_result",
          "data": {
            "text/plain": [
              "<pyarrow._parquet.ColumnChunkMetaData object at 0x7fb400c14950>\n",
              "  file_offset: 1568466\n",
              "  file_path: \n",
              "  physical_type: BYTE_ARRAY\n",
              "  num_values: 51290\n",
              "  path_in_schema: year\n",
              "  is_stats_set: True\n",
              "  statistics:\n",
              "    <pyarrow._parquet.Statistics object at 0x7fb400c146d0>\n",
              "      has_min_max: True\n",
              "      min: 2011\n",
              "      max: 2014\n",
              "      null_count: 0\n",
              "      distinct_count: None\n",
              "      num_values: 51290\n",
              "      physical_type: BYTE_ARRAY\n",
              "      logical_type: String\n",
              "      converted_type (legacy): UTF8\n",
              "  compression: SNAPPY\n",
              "  encodings: ('PLAIN', 'RLE', 'RLE_DICTIONARY')\n",
              "  has_dictionary_page: True\n",
              "  dictionary_page_offset: 1568364\n",
              "  data_page_offset: 1568404\n",
              "  total_compressed_size: 102\n",
              "  total_uncompressed_size: 106"
            ]
          },
          "metadata": {},
          "execution_count": 26
        }
      ]
    },
    {
      "cell_type": "markdown",
      "source": [
        "#Parquet to Pandas Dataframe"
      ],
      "metadata": {
        "id": "XsFgYLoyvdZK"
      }
    },
    {
      "cell_type": "code",
      "source": [
        "dfFull = pd.read_parquet('Orders2.parquet')\n",
        "dfFull.head(2)"
      ],
      "metadata": {
        "colab": {
          "base_uri": "https://localhost:8080/",
          "height": 213
        },
        "id": "F09Ta99IvgwV",
        "outputId": "3457756f-cc22-486e-b9d7-bd5c229d5f54"
      },
      "execution_count": 40,
      "outputs": [
        {
          "output_type": "execute_result",
          "data": {
            "text/plain": [
              "        order_id order_date  ship_date       ship_mode    customer_name  \\\n",
              "0   AG-2011-2040 2011-01-01 2011-01-06  Standard Class  Toby Braunhardt   \n",
              "1  IN-2011-47883 2011-01-01 2011-01-08  Standard Class      Joseph Holt   \n",
              "\n",
              "    segment            state    country  market   region  ...  \\\n",
              "0  Consumer      Constantine    Algeria  Africa   Africa  ...   \n",
              "1  Consumer  New South Wales  Australia    APAC  Oceania  ...   \n",
              "\n",
              "          category sub_category              product_name sales  quantity  \\\n",
              "0  Office Supplies      Storage       Tenex Lockers, Blue   408         2   \n",
              "1  Office Supplies     Supplies  Acme Trimmer, High Speed   120         3   \n",
              "\n",
              "   discount   profit  shipping_cost  order_priority  year  \n",
              "0       0.0  106.140          35.46          Medium  2011  \n",
              "1       0.1   36.036           9.72          Medium  2011  \n",
              "\n",
              "[2 rows x 21 columns]"
            ],
            "text/html": [
              "\n",
              "  <div id=\"df-a91129cd-69d7-465a-aa00-ff5551f3558c\" class=\"colab-df-container\">\n",
              "    <div>\n",
              "<style scoped>\n",
              "    .dataframe tbody tr th:only-of-type {\n",
              "        vertical-align: middle;\n",
              "    }\n",
              "\n",
              "    .dataframe tbody tr th {\n",
              "        vertical-align: top;\n",
              "    }\n",
              "\n",
              "    .dataframe thead th {\n",
              "        text-align: right;\n",
              "    }\n",
              "</style>\n",
              "<table border=\"1\" class=\"dataframe\">\n",
              "  <thead>\n",
              "    <tr style=\"text-align: right;\">\n",
              "      <th></th>\n",
              "      <th>order_id</th>\n",
              "      <th>order_date</th>\n",
              "      <th>ship_date</th>\n",
              "      <th>ship_mode</th>\n",
              "      <th>customer_name</th>\n",
              "      <th>segment</th>\n",
              "      <th>state</th>\n",
              "      <th>country</th>\n",
              "      <th>market</th>\n",
              "      <th>region</th>\n",
              "      <th>...</th>\n",
              "      <th>category</th>\n",
              "      <th>sub_category</th>\n",
              "      <th>product_name</th>\n",
              "      <th>sales</th>\n",
              "      <th>quantity</th>\n",
              "      <th>discount</th>\n",
              "      <th>profit</th>\n",
              "      <th>shipping_cost</th>\n",
              "      <th>order_priority</th>\n",
              "      <th>year</th>\n",
              "    </tr>\n",
              "  </thead>\n",
              "  <tbody>\n",
              "    <tr>\n",
              "      <th>0</th>\n",
              "      <td>AG-2011-2040</td>\n",
              "      <td>2011-01-01</td>\n",
              "      <td>2011-01-06</td>\n",
              "      <td>Standard Class</td>\n",
              "      <td>Toby Braunhardt</td>\n",
              "      <td>Consumer</td>\n",
              "      <td>Constantine</td>\n",
              "      <td>Algeria</td>\n",
              "      <td>Africa</td>\n",
              "      <td>Africa</td>\n",
              "      <td>...</td>\n",
              "      <td>Office Supplies</td>\n",
              "      <td>Storage</td>\n",
              "      <td>Tenex Lockers, Blue</td>\n",
              "      <td>408</td>\n",
              "      <td>2</td>\n",
              "      <td>0.0</td>\n",
              "      <td>106.140</td>\n",
              "      <td>35.46</td>\n",
              "      <td>Medium</td>\n",
              "      <td>2011</td>\n",
              "    </tr>\n",
              "    <tr>\n",
              "      <th>1</th>\n",
              "      <td>IN-2011-47883</td>\n",
              "      <td>2011-01-01</td>\n",
              "      <td>2011-01-08</td>\n",
              "      <td>Standard Class</td>\n",
              "      <td>Joseph Holt</td>\n",
              "      <td>Consumer</td>\n",
              "      <td>New South Wales</td>\n",
              "      <td>Australia</td>\n",
              "      <td>APAC</td>\n",
              "      <td>Oceania</td>\n",
              "      <td>...</td>\n",
              "      <td>Office Supplies</td>\n",
              "      <td>Supplies</td>\n",
              "      <td>Acme Trimmer, High Speed</td>\n",
              "      <td>120</td>\n",
              "      <td>3</td>\n",
              "      <td>0.1</td>\n",
              "      <td>36.036</td>\n",
              "      <td>9.72</td>\n",
              "      <td>Medium</td>\n",
              "      <td>2011</td>\n",
              "    </tr>\n",
              "  </tbody>\n",
              "</table>\n",
              "<p>2 rows × 21 columns</p>\n",
              "</div>\n",
              "    <div class=\"colab-df-buttons\">\n",
              "\n",
              "  <div class=\"colab-df-container\">\n",
              "    <button class=\"colab-df-convert\" onclick=\"convertToInteractive('df-a91129cd-69d7-465a-aa00-ff5551f3558c')\"\n",
              "            title=\"Convert this dataframe to an interactive table.\"\n",
              "            style=\"display:none;\">\n",
              "\n",
              "  <svg xmlns=\"http://www.w3.org/2000/svg\" height=\"24px\" viewBox=\"0 -960 960 960\">\n",
              "    <path d=\"M120-120v-720h720v720H120Zm60-500h600v-160H180v160Zm220 220h160v-160H400v160Zm0 220h160v-160H400v160ZM180-400h160v-160H180v160Zm440 0h160v-160H620v160ZM180-180h160v-160H180v160Zm440 0h160v-160H620v160Z\"/>\n",
              "  </svg>\n",
              "    </button>\n",
              "\n",
              "  <style>\n",
              "    .colab-df-container {\n",
              "      display:flex;\n",
              "      gap: 12px;\n",
              "    }\n",
              "\n",
              "    .colab-df-convert {\n",
              "      background-color: #E8F0FE;\n",
              "      border: none;\n",
              "      border-radius: 50%;\n",
              "      cursor: pointer;\n",
              "      display: none;\n",
              "      fill: #1967D2;\n",
              "      height: 32px;\n",
              "      padding: 0 0 0 0;\n",
              "      width: 32px;\n",
              "    }\n",
              "\n",
              "    .colab-df-convert:hover {\n",
              "      background-color: #E2EBFA;\n",
              "      box-shadow: 0px 1px 2px rgba(60, 64, 67, 0.3), 0px 1px 3px 1px rgba(60, 64, 67, 0.15);\n",
              "      fill: #174EA6;\n",
              "    }\n",
              "\n",
              "    .colab-df-buttons div {\n",
              "      margin-bottom: 4px;\n",
              "    }\n",
              "\n",
              "    [theme=dark] .colab-df-convert {\n",
              "      background-color: #3B4455;\n",
              "      fill: #D2E3FC;\n",
              "    }\n",
              "\n",
              "    [theme=dark] .colab-df-convert:hover {\n",
              "      background-color: #434B5C;\n",
              "      box-shadow: 0px 1px 3px 1px rgba(0, 0, 0, 0.15);\n",
              "      filter: drop-shadow(0px 1px 2px rgba(0, 0, 0, 0.3));\n",
              "      fill: #FFFFFF;\n",
              "    }\n",
              "  </style>\n",
              "\n",
              "    <script>\n",
              "      const buttonEl =\n",
              "        document.querySelector('#df-a91129cd-69d7-465a-aa00-ff5551f3558c button.colab-df-convert');\n",
              "      buttonEl.style.display =\n",
              "        google.colab.kernel.accessAllowed ? 'block' : 'none';\n",
              "\n",
              "      async function convertToInteractive(key) {\n",
              "        const element = document.querySelector('#df-a91129cd-69d7-465a-aa00-ff5551f3558c');\n",
              "        const dataTable =\n",
              "          await google.colab.kernel.invokeFunction('convertToInteractive',\n",
              "                                                    [key], {});\n",
              "        if (!dataTable) return;\n",
              "\n",
              "        const docLinkHtml = 'Like what you see? Visit the ' +\n",
              "          '<a target=\"_blank\" href=https://colab.research.google.com/notebooks/data_table.ipynb>data table notebook</a>'\n",
              "          + ' to learn more about interactive tables.';\n",
              "        element.innerHTML = '';\n",
              "        dataTable['output_type'] = 'display_data';\n",
              "        await google.colab.output.renderOutput(dataTable, element);\n",
              "        const docLink = document.createElement('div');\n",
              "        docLink.innerHTML = docLinkHtml;\n",
              "        element.appendChild(docLink);\n",
              "      }\n",
              "    </script>\n",
              "  </div>\n",
              "\n",
              "\n",
              "<div id=\"df-56eaa850-34f2-4d74-a3dd-56a8e25c847f\">\n",
              "  <button class=\"colab-df-quickchart\" onclick=\"quickchart('df-56eaa850-34f2-4d74-a3dd-56a8e25c847f')\"\n",
              "            title=\"Suggest charts\"\n",
              "            style=\"display:none;\">\n",
              "\n",
              "<svg xmlns=\"http://www.w3.org/2000/svg\" height=\"24px\"viewBox=\"0 0 24 24\"\n",
              "     width=\"24px\">\n",
              "    <g>\n",
              "        <path d=\"M19 3H5c-1.1 0-2 .9-2 2v14c0 1.1.9 2 2 2h14c1.1 0 2-.9 2-2V5c0-1.1-.9-2-2-2zM9 17H7v-7h2v7zm4 0h-2V7h2v10zm4 0h-2v-4h2v4z\"/>\n",
              "    </g>\n",
              "</svg>\n",
              "  </button>\n",
              "\n",
              "<style>\n",
              "  .colab-df-quickchart {\n",
              "      --bg-color: #E8F0FE;\n",
              "      --fill-color: #1967D2;\n",
              "      --hover-bg-color: #E2EBFA;\n",
              "      --hover-fill-color: #174EA6;\n",
              "      --disabled-fill-color: #AAA;\n",
              "      --disabled-bg-color: #DDD;\n",
              "  }\n",
              "\n",
              "  [theme=dark] .colab-df-quickchart {\n",
              "      --bg-color: #3B4455;\n",
              "      --fill-color: #D2E3FC;\n",
              "      --hover-bg-color: #434B5C;\n",
              "      --hover-fill-color: #FFFFFF;\n",
              "      --disabled-bg-color: #3B4455;\n",
              "      --disabled-fill-color: #666;\n",
              "  }\n",
              "\n",
              "  .colab-df-quickchart {\n",
              "    background-color: var(--bg-color);\n",
              "    border: none;\n",
              "    border-radius: 50%;\n",
              "    cursor: pointer;\n",
              "    display: none;\n",
              "    fill: var(--fill-color);\n",
              "    height: 32px;\n",
              "    padding: 0;\n",
              "    width: 32px;\n",
              "  }\n",
              "\n",
              "  .colab-df-quickchart:hover {\n",
              "    background-color: var(--hover-bg-color);\n",
              "    box-shadow: 0 1px 2px rgba(60, 64, 67, 0.3), 0 1px 3px 1px rgba(60, 64, 67, 0.15);\n",
              "    fill: var(--button-hover-fill-color);\n",
              "  }\n",
              "\n",
              "  .colab-df-quickchart-complete:disabled,\n",
              "  .colab-df-quickchart-complete:disabled:hover {\n",
              "    background-color: var(--disabled-bg-color);\n",
              "    fill: var(--disabled-fill-color);\n",
              "    box-shadow: none;\n",
              "  }\n",
              "\n",
              "  .colab-df-spinner {\n",
              "    border: 2px solid var(--fill-color);\n",
              "    border-color: transparent;\n",
              "    border-bottom-color: var(--fill-color);\n",
              "    animation:\n",
              "      spin 1s steps(1) infinite;\n",
              "  }\n",
              "\n",
              "  @keyframes spin {\n",
              "    0% {\n",
              "      border-color: transparent;\n",
              "      border-bottom-color: var(--fill-color);\n",
              "      border-left-color: var(--fill-color);\n",
              "    }\n",
              "    20% {\n",
              "      border-color: transparent;\n",
              "      border-left-color: var(--fill-color);\n",
              "      border-top-color: var(--fill-color);\n",
              "    }\n",
              "    30% {\n",
              "      border-color: transparent;\n",
              "      border-left-color: var(--fill-color);\n",
              "      border-top-color: var(--fill-color);\n",
              "      border-right-color: var(--fill-color);\n",
              "    }\n",
              "    40% {\n",
              "      border-color: transparent;\n",
              "      border-right-color: var(--fill-color);\n",
              "      border-top-color: var(--fill-color);\n",
              "    }\n",
              "    60% {\n",
              "      border-color: transparent;\n",
              "      border-right-color: var(--fill-color);\n",
              "    }\n",
              "    80% {\n",
              "      border-color: transparent;\n",
              "      border-right-color: var(--fill-color);\n",
              "      border-bottom-color: var(--fill-color);\n",
              "    }\n",
              "    90% {\n",
              "      border-color: transparent;\n",
              "      border-bottom-color: var(--fill-color);\n",
              "    }\n",
              "  }\n",
              "</style>\n",
              "\n",
              "  <script>\n",
              "    async function quickchart(key) {\n",
              "      const quickchartButtonEl =\n",
              "        document.querySelector('#' + key + ' button');\n",
              "      quickchartButtonEl.disabled = true;  // To prevent multiple clicks.\n",
              "      quickchartButtonEl.classList.add('colab-df-spinner');\n",
              "      try {\n",
              "        const charts = await google.colab.kernel.invokeFunction(\n",
              "            'suggestCharts', [key], {});\n",
              "      } catch (error) {\n",
              "        console.error('Error during call to suggestCharts:', error);\n",
              "      }\n",
              "      quickchartButtonEl.classList.remove('colab-df-spinner');\n",
              "      quickchartButtonEl.classList.add('colab-df-quickchart-complete');\n",
              "    }\n",
              "    (() => {\n",
              "      let quickchartButtonEl =\n",
              "        document.querySelector('#df-56eaa850-34f2-4d74-a3dd-56a8e25c847f button');\n",
              "      quickchartButtonEl.style.display =\n",
              "        google.colab.kernel.accessAllowed ? 'block' : 'none';\n",
              "    })();\n",
              "  </script>\n",
              "</div>\n",
              "    </div>\n",
              "  </div>\n"
            ],
            "application/vnd.google.colaboratory.intrinsic+json": {
              "type": "dataframe",
              "variable_name": "dfFull"
            }
          },
          "metadata": {},
          "execution_count": 40
        }
      ]
    },
    {
      "cell_type": "code",
      "source": [
        "# FOUR dimensions, THREE facts\n",
        "#selCols = ['Order ID','Order Date','Segment','Region','Category','Sales','Quantity','Profit']\n",
        "selCols = ['year','segment','region','category','sales','quantity','profit']\n",
        "dfDimFact = pd.read_parquet('Orders2.parquet', columns=selCols)\n",
        "dfDimFact.head(2)"
      ],
      "metadata": {
        "id": "IJQTP8lHVUa0",
        "outputId": "0063b9a1-133f-49f7-9f09-6683f44ca8cb",
        "colab": {
          "base_uri": "https://localhost:8080/",
          "height": 112
        }
      },
      "execution_count": 41,
      "outputs": [
        {
          "output_type": "execute_result",
          "data": {
            "text/plain": [
              "   year   segment   region         category  sales  quantity   profit\n",
              "0  2011  Consumer   Africa  Office Supplies    408         2  106.140\n",
              "1  2011  Consumer  Oceania  Office Supplies    120         3   36.036"
            ],
            "text/html": [
              "\n",
              "  <div id=\"df-9bd6c69f-4423-4b9c-b378-d7de8e9999df\" class=\"colab-df-container\">\n",
              "    <div>\n",
              "<style scoped>\n",
              "    .dataframe tbody tr th:only-of-type {\n",
              "        vertical-align: middle;\n",
              "    }\n",
              "\n",
              "    .dataframe tbody tr th {\n",
              "        vertical-align: top;\n",
              "    }\n",
              "\n",
              "    .dataframe thead th {\n",
              "        text-align: right;\n",
              "    }\n",
              "</style>\n",
              "<table border=\"1\" class=\"dataframe\">\n",
              "  <thead>\n",
              "    <tr style=\"text-align: right;\">\n",
              "      <th></th>\n",
              "      <th>year</th>\n",
              "      <th>segment</th>\n",
              "      <th>region</th>\n",
              "      <th>category</th>\n",
              "      <th>sales</th>\n",
              "      <th>quantity</th>\n",
              "      <th>profit</th>\n",
              "    </tr>\n",
              "  </thead>\n",
              "  <tbody>\n",
              "    <tr>\n",
              "      <th>0</th>\n",
              "      <td>2011</td>\n",
              "      <td>Consumer</td>\n",
              "      <td>Africa</td>\n",
              "      <td>Office Supplies</td>\n",
              "      <td>408</td>\n",
              "      <td>2</td>\n",
              "      <td>106.140</td>\n",
              "    </tr>\n",
              "    <tr>\n",
              "      <th>1</th>\n",
              "      <td>2011</td>\n",
              "      <td>Consumer</td>\n",
              "      <td>Oceania</td>\n",
              "      <td>Office Supplies</td>\n",
              "      <td>120</td>\n",
              "      <td>3</td>\n",
              "      <td>36.036</td>\n",
              "    </tr>\n",
              "  </tbody>\n",
              "</table>\n",
              "</div>\n",
              "    <div class=\"colab-df-buttons\">\n",
              "\n",
              "  <div class=\"colab-df-container\">\n",
              "    <button class=\"colab-df-convert\" onclick=\"convertToInteractive('df-9bd6c69f-4423-4b9c-b378-d7de8e9999df')\"\n",
              "            title=\"Convert this dataframe to an interactive table.\"\n",
              "            style=\"display:none;\">\n",
              "\n",
              "  <svg xmlns=\"http://www.w3.org/2000/svg\" height=\"24px\" viewBox=\"0 -960 960 960\">\n",
              "    <path d=\"M120-120v-720h720v720H120Zm60-500h600v-160H180v160Zm220 220h160v-160H400v160Zm0 220h160v-160H400v160ZM180-400h160v-160H180v160Zm440 0h160v-160H620v160ZM180-180h160v-160H180v160Zm440 0h160v-160H620v160Z\"/>\n",
              "  </svg>\n",
              "    </button>\n",
              "\n",
              "  <style>\n",
              "    .colab-df-container {\n",
              "      display:flex;\n",
              "      gap: 12px;\n",
              "    }\n",
              "\n",
              "    .colab-df-convert {\n",
              "      background-color: #E8F0FE;\n",
              "      border: none;\n",
              "      border-radius: 50%;\n",
              "      cursor: pointer;\n",
              "      display: none;\n",
              "      fill: #1967D2;\n",
              "      height: 32px;\n",
              "      padding: 0 0 0 0;\n",
              "      width: 32px;\n",
              "    }\n",
              "\n",
              "    .colab-df-convert:hover {\n",
              "      background-color: #E2EBFA;\n",
              "      box-shadow: 0px 1px 2px rgba(60, 64, 67, 0.3), 0px 1px 3px 1px rgba(60, 64, 67, 0.15);\n",
              "      fill: #174EA6;\n",
              "    }\n",
              "\n",
              "    .colab-df-buttons div {\n",
              "      margin-bottom: 4px;\n",
              "    }\n",
              "\n",
              "    [theme=dark] .colab-df-convert {\n",
              "      background-color: #3B4455;\n",
              "      fill: #D2E3FC;\n",
              "    }\n",
              "\n",
              "    [theme=dark] .colab-df-convert:hover {\n",
              "      background-color: #434B5C;\n",
              "      box-shadow: 0px 1px 3px 1px rgba(0, 0, 0, 0.15);\n",
              "      filter: drop-shadow(0px 1px 2px rgba(0, 0, 0, 0.3));\n",
              "      fill: #FFFFFF;\n",
              "    }\n",
              "  </style>\n",
              "\n",
              "    <script>\n",
              "      const buttonEl =\n",
              "        document.querySelector('#df-9bd6c69f-4423-4b9c-b378-d7de8e9999df button.colab-df-convert');\n",
              "      buttonEl.style.display =\n",
              "        google.colab.kernel.accessAllowed ? 'block' : 'none';\n",
              "\n",
              "      async function convertToInteractive(key) {\n",
              "        const element = document.querySelector('#df-9bd6c69f-4423-4b9c-b378-d7de8e9999df');\n",
              "        const dataTable =\n",
              "          await google.colab.kernel.invokeFunction('convertToInteractive',\n",
              "                                                    [key], {});\n",
              "        if (!dataTable) return;\n",
              "\n",
              "        const docLinkHtml = 'Like what you see? Visit the ' +\n",
              "          '<a target=\"_blank\" href=https://colab.research.google.com/notebooks/data_table.ipynb>data table notebook</a>'\n",
              "          + ' to learn more about interactive tables.';\n",
              "        element.innerHTML = '';\n",
              "        dataTable['output_type'] = 'display_data';\n",
              "        await google.colab.output.renderOutput(dataTable, element);\n",
              "        const docLink = document.createElement('div');\n",
              "        docLink.innerHTML = docLinkHtml;\n",
              "        element.appendChild(docLink);\n",
              "      }\n",
              "    </script>\n",
              "  </div>\n",
              "\n",
              "\n",
              "<div id=\"df-79945ded-d588-4727-b454-0a68b8fbf167\">\n",
              "  <button class=\"colab-df-quickchart\" onclick=\"quickchart('df-79945ded-d588-4727-b454-0a68b8fbf167')\"\n",
              "            title=\"Suggest charts\"\n",
              "            style=\"display:none;\">\n",
              "\n",
              "<svg xmlns=\"http://www.w3.org/2000/svg\" height=\"24px\"viewBox=\"0 0 24 24\"\n",
              "     width=\"24px\">\n",
              "    <g>\n",
              "        <path d=\"M19 3H5c-1.1 0-2 .9-2 2v14c0 1.1.9 2 2 2h14c1.1 0 2-.9 2-2V5c0-1.1-.9-2-2-2zM9 17H7v-7h2v7zm4 0h-2V7h2v10zm4 0h-2v-4h2v4z\"/>\n",
              "    </g>\n",
              "</svg>\n",
              "  </button>\n",
              "\n",
              "<style>\n",
              "  .colab-df-quickchart {\n",
              "      --bg-color: #E8F0FE;\n",
              "      --fill-color: #1967D2;\n",
              "      --hover-bg-color: #E2EBFA;\n",
              "      --hover-fill-color: #174EA6;\n",
              "      --disabled-fill-color: #AAA;\n",
              "      --disabled-bg-color: #DDD;\n",
              "  }\n",
              "\n",
              "  [theme=dark] .colab-df-quickchart {\n",
              "      --bg-color: #3B4455;\n",
              "      --fill-color: #D2E3FC;\n",
              "      --hover-bg-color: #434B5C;\n",
              "      --hover-fill-color: #FFFFFF;\n",
              "      --disabled-bg-color: #3B4455;\n",
              "      --disabled-fill-color: #666;\n",
              "  }\n",
              "\n",
              "  .colab-df-quickchart {\n",
              "    background-color: var(--bg-color);\n",
              "    border: none;\n",
              "    border-radius: 50%;\n",
              "    cursor: pointer;\n",
              "    display: none;\n",
              "    fill: var(--fill-color);\n",
              "    height: 32px;\n",
              "    padding: 0;\n",
              "    width: 32px;\n",
              "  }\n",
              "\n",
              "  .colab-df-quickchart:hover {\n",
              "    background-color: var(--hover-bg-color);\n",
              "    box-shadow: 0 1px 2px rgba(60, 64, 67, 0.3), 0 1px 3px 1px rgba(60, 64, 67, 0.15);\n",
              "    fill: var(--button-hover-fill-color);\n",
              "  }\n",
              "\n",
              "  .colab-df-quickchart-complete:disabled,\n",
              "  .colab-df-quickchart-complete:disabled:hover {\n",
              "    background-color: var(--disabled-bg-color);\n",
              "    fill: var(--disabled-fill-color);\n",
              "    box-shadow: none;\n",
              "  }\n",
              "\n",
              "  .colab-df-spinner {\n",
              "    border: 2px solid var(--fill-color);\n",
              "    border-color: transparent;\n",
              "    border-bottom-color: var(--fill-color);\n",
              "    animation:\n",
              "      spin 1s steps(1) infinite;\n",
              "  }\n",
              "\n",
              "  @keyframes spin {\n",
              "    0% {\n",
              "      border-color: transparent;\n",
              "      border-bottom-color: var(--fill-color);\n",
              "      border-left-color: var(--fill-color);\n",
              "    }\n",
              "    20% {\n",
              "      border-color: transparent;\n",
              "      border-left-color: var(--fill-color);\n",
              "      border-top-color: var(--fill-color);\n",
              "    }\n",
              "    30% {\n",
              "      border-color: transparent;\n",
              "      border-left-color: var(--fill-color);\n",
              "      border-top-color: var(--fill-color);\n",
              "      border-right-color: var(--fill-color);\n",
              "    }\n",
              "    40% {\n",
              "      border-color: transparent;\n",
              "      border-right-color: var(--fill-color);\n",
              "      border-top-color: var(--fill-color);\n",
              "    }\n",
              "    60% {\n",
              "      border-color: transparent;\n",
              "      border-right-color: var(--fill-color);\n",
              "    }\n",
              "    80% {\n",
              "      border-color: transparent;\n",
              "      border-right-color: var(--fill-color);\n",
              "      border-bottom-color: var(--fill-color);\n",
              "    }\n",
              "    90% {\n",
              "      border-color: transparent;\n",
              "      border-bottom-color: var(--fill-color);\n",
              "    }\n",
              "  }\n",
              "</style>\n",
              "\n",
              "  <script>\n",
              "    async function quickchart(key) {\n",
              "      const quickchartButtonEl =\n",
              "        document.querySelector('#' + key + ' button');\n",
              "      quickchartButtonEl.disabled = true;  // To prevent multiple clicks.\n",
              "      quickchartButtonEl.classList.add('colab-df-spinner');\n",
              "      try {\n",
              "        const charts = await google.colab.kernel.invokeFunction(\n",
              "            'suggestCharts', [key], {});\n",
              "      } catch (error) {\n",
              "        console.error('Error during call to suggestCharts:', error);\n",
              "      }\n",
              "      quickchartButtonEl.classList.remove('colab-df-spinner');\n",
              "      quickchartButtonEl.classList.add('colab-df-quickchart-complete');\n",
              "    }\n",
              "    (() => {\n",
              "      let quickchartButtonEl =\n",
              "        document.querySelector('#df-79945ded-d588-4727-b454-0a68b8fbf167 button');\n",
              "      quickchartButtonEl.style.display =\n",
              "        google.colab.kernel.accessAllowed ? 'block' : 'none';\n",
              "    })();\n",
              "  </script>\n",
              "</div>\n",
              "    </div>\n",
              "  </div>\n"
            ],
            "application/vnd.google.colaboratory.intrinsic+json": {
              "type": "dataframe",
              "variable_name": "dfDimFact",
              "summary": "{\n  \"name\": \"dfDimFact\",\n  \"rows\": 51290,\n  \"fields\": [\n    {\n      \"column\": \"year\",\n      \"properties\": {\n        \"dtype\": \"object\",\n        \"num_unique_values\": 4,\n        \"samples\": [\n          \"2012\",\n          \"2014\",\n          \"2011\"\n        ],\n        \"semantic_type\": \"\",\n        \"description\": \"\"\n      }\n    },\n    {\n      \"column\": \"segment\",\n      \"properties\": {\n        \"dtype\": \"category\",\n        \"num_unique_values\": 3,\n        \"samples\": [\n          \"Consumer\",\n          \"Home Office\",\n          \"Corporate\"\n        ],\n        \"semantic_type\": \"\",\n        \"description\": \"\"\n      }\n    },\n    {\n      \"column\": \"region\",\n      \"properties\": {\n        \"dtype\": \"category\",\n        \"num_unique_values\": 13,\n        \"samples\": [\n          \"West\",\n          \"North Asia\",\n          \"Africa\"\n        ],\n        \"semantic_type\": \"\",\n        \"description\": \"\"\n      }\n    },\n    {\n      \"column\": \"category\",\n      \"properties\": {\n        \"dtype\": \"category\",\n        \"num_unique_values\": 3,\n        \"samples\": [\n          \"Office Supplies\",\n          \"Furniture\",\n          \"Technology\"\n        ],\n        \"semantic_type\": \"\",\n        \"description\": \"\"\n      }\n    },\n    {\n      \"column\": \"sales\",\n      \"properties\": {\n        \"dtype\": \"number\",\n        \"std\": 487,\n        \"min\": 0,\n        \"max\": 22638,\n        \"num_unique_values\": 2246,\n        \"samples\": [\n          1371,\n          568,\n          1417\n        ],\n        \"semantic_type\": \"\",\n        \"description\": \"\"\n      }\n    },\n    {\n      \"column\": \"quantity\",\n      \"properties\": {\n        \"dtype\": \"number\",\n        \"std\": 2,\n        \"min\": 1,\n        \"max\": 14,\n        \"num_unique_values\": 14,\n        \"samples\": [\n          10,\n          12,\n          2\n        ],\n        \"semantic_type\": \"\",\n        \"description\": \"\"\n      }\n    },\n    {\n      \"column\": \"profit\",\n      \"properties\": {\n        \"dtype\": \"number\",\n        \"std\": 174.42411298385915,\n        \"min\": -6599.978,\n        \"max\": 8399.976,\n        \"num_unique_values\": 24575,\n        \"samples\": [\n          37.782,\n          -314.6814,\n          -64.863\n        ],\n        \"semantic_type\": \"\",\n        \"description\": \"\"\n      }\n    }\n  ]\n}"
            }
          },
          "metadata": {},
          "execution_count": 41
        }
      ]
    },
    {
      "cell_type": "code",
      "source": [
        "dfDimFact.info()"
      ],
      "metadata": {
        "colab": {
          "base_uri": "https://localhost:8080/"
        },
        "id": "CLOjk0hx0Tdn",
        "outputId": "08208f04-1a30-44cd-b7b7-3f3965e19688"
      },
      "execution_count": 42,
      "outputs": [
        {
          "output_type": "stream",
          "name": "stdout",
          "text": [
            "<class 'pandas.core.frame.DataFrame'>\n",
            "RangeIndex: 51290 entries, 0 to 51289\n",
            "Data columns (total 7 columns):\n",
            " #   Column    Non-Null Count  Dtype  \n",
            "---  ------    --------------  -----  \n",
            " 0   year      51290 non-null  object \n",
            " 1   segment   51290 non-null  object \n",
            " 2   region    51290 non-null  object \n",
            " 3   category  51290 non-null  object \n",
            " 4   sales     51290 non-null  int64  \n",
            " 5   quantity  51290 non-null  int64  \n",
            " 6   profit    51290 non-null  float64\n",
            "dtypes: float64(1), int64(2), object(4)\n",
            "memory usage: 2.7+ MB\n"
          ]
        }
      ]
    },
    {
      "cell_type": "markdown",
      "source": [
        "##Parquet preserves column properties"
      ],
      "metadata": {
        "id": "Iu8gUgJmyFJQ"
      }
    },
    {
      "cell_type": "code",
      "source": [
        "# Data Still not clean in csv\n",
        "#\n",
        "df5A = pd.read_csv('Orders2.csv')\n",
        "#df9.dtypes\n",
        "df5A.info()"
      ],
      "metadata": {
        "colab": {
          "base_uri": "https://localhost:8080/"
        },
        "id": "qyhfL9cSLvia",
        "outputId": "4e1b11af-c36c-4858-f012-d692e8b9ef0c"
      },
      "execution_count": 43,
      "outputs": [
        {
          "output_type": "stream",
          "name": "stdout",
          "text": [
            "<class 'pandas.core.frame.DataFrame'>\n",
            "RangeIndex: 51290 entries, 0 to 51289\n",
            "Data columns (total 21 columns):\n",
            " #   Column          Non-Null Count  Dtype  \n",
            "---  ------          --------------  -----  \n",
            " 0   order_id        51290 non-null  object \n",
            " 1   order_date      51290 non-null  object \n",
            " 2   ship_date       51290 non-null  object \n",
            " 3   ship_mode       51290 non-null  object \n",
            " 4   customer_name   51290 non-null  object \n",
            " 5   segment         51290 non-null  object \n",
            " 6   state           51290 non-null  object \n",
            " 7   country         51290 non-null  object \n",
            " 8   market          51290 non-null  object \n",
            " 9   region          51290 non-null  object \n",
            " 10  product_id      51290 non-null  object \n",
            " 11  category        51290 non-null  object \n",
            " 12  sub_category    51290 non-null  object \n",
            " 13  product_name    51290 non-null  object \n",
            " 14  sales           51290 non-null  int64  \n",
            " 15  quantity        51290 non-null  int64  \n",
            " 16  discount        51290 non-null  float64\n",
            " 17  profit          51290 non-null  float64\n",
            " 18  shipping_cost   51290 non-null  float64\n",
            " 19  order_priority  51290 non-null  object \n",
            " 20  year            51290 non-null  int64  \n",
            "dtypes: float64(3), int64(3), object(15)\n",
            "memory usage: 8.2+ MB\n"
          ]
        }
      ]
    },
    {
      "cell_type": "code",
      "source": [
        "#Data Clean with Parquet\n",
        "#\n",
        "df5B = pd.read_parquet('Orders2.parquet')\n",
        "#df9.dtypes\n",
        "df5B.info()"
      ],
      "metadata": {
        "id": "wfmg7G3E0xIz",
        "outputId": "0487080d-3fd7-429a-bd98-5650e5055d04",
        "colab": {
          "base_uri": "https://localhost:8080/"
        }
      },
      "execution_count": 44,
      "outputs": [
        {
          "output_type": "stream",
          "name": "stdout",
          "text": [
            "<class 'pandas.core.frame.DataFrame'>\n",
            "RangeIndex: 51290 entries, 0 to 51289\n",
            "Data columns (total 21 columns):\n",
            " #   Column          Non-Null Count  Dtype         \n",
            "---  ------          --------------  -----         \n",
            " 0   order_id        51290 non-null  object        \n",
            " 1   order_date      51290 non-null  datetime64[ns]\n",
            " 2   ship_date       51290 non-null  datetime64[ns]\n",
            " 3   ship_mode       51290 non-null  object        \n",
            " 4   customer_name   51290 non-null  object        \n",
            " 5   segment         51290 non-null  object        \n",
            " 6   state           51290 non-null  object        \n",
            " 7   country         51290 non-null  object        \n",
            " 8   market          51290 non-null  object        \n",
            " 9   region          51290 non-null  object        \n",
            " 10  product_id      51290 non-null  object        \n",
            " 11  category        51290 non-null  object        \n",
            " 12  sub_category    51290 non-null  object        \n",
            " 13  product_name    51290 non-null  object        \n",
            " 14  sales           51290 non-null  int64         \n",
            " 15  quantity        51290 non-null  int64         \n",
            " 16  discount        51290 non-null  float64       \n",
            " 17  profit          51290 non-null  float64       \n",
            " 18  shipping_cost   51290 non-null  float64       \n",
            " 19  order_priority  51290 non-null  object        \n",
            " 20  year            51290 non-null  object        \n",
            "dtypes: datetime64[ns](2), float64(3), int64(2), object(14)\n",
            "memory usage: 8.2+ MB\n"
          ]
        }
      ]
    },
    {
      "cell_type": "markdown",
      "source": [
        "#Retrieving by Row Criteria"
      ],
      "metadata": {
        "id": "6iOwa3lnRRNX"
      }
    },
    {
      "cell_type": "code",
      "source": [
        "#df"
      ],
      "metadata": {
        "id": "uX8klJF5RVnh"
      },
      "execution_count": null,
      "outputs": []
    },
    {
      "cell_type": "code",
      "source": [
        "#Note how the directory structure is created\n",
        "# name of directory is 'analytics'\n",
        "df.to_parquet(\n",
        "    path='analytics',\n",
        "    engine='pyarrow',\n",
        "    compression='snappy',\n",
        "    partition_cols=['segment', 'region','category','year']\n",
        " )"
      ],
      "metadata": {
        "id": "knbqlZGVRlOn"
      },
      "execution_count": 45,
      "outputs": []
    },
    {
      "cell_type": "code",
      "source": [
        "df3 = pd.read_parquet(\n",
        "    path='analytics',\n",
        "    engine='pyarrow',\n",
        "    columns=['category', 'sales', 'quantity','profit'],\n",
        "    filters=[('category', '=', 'Furniture')]\n",
        ")\n",
        "df3"
      ],
      "metadata": {
        "id": "QO7_i6mYSSkW",
        "outputId": "37f4b18f-5afc-4eb3-92e9-51f5102817ee",
        "colab": {
          "base_uri": "https://localhost:8080/",
          "height": 423
        }
      },
      "execution_count": 46,
      "outputs": [
        {
          "output_type": "execute_result",
          "data": {
            "text/plain": [
              "       category  sales  quantity    profit\n",
              "0     Furniture   2479         6   49.5000\n",
              "1     Furniture     45         1  -56.8560\n",
              "2     Furniture     51         2   22.8000\n",
              "3     Furniture    436         1  178.7400\n",
              "4     Furniture    334         2   26.7000\n",
              "...         ...    ...       ...       ...\n",
              "9871  Furniture    148         3   15.6978\n",
              "9872  Furniture     26         3   11.0250\n",
              "9873  Furniture     23         3    9.7911\n",
              "9874  Furniture    842         3  105.2970\n",
              "9875  Furniture      9         4    1.9224\n",
              "\n",
              "[9876 rows x 4 columns]"
            ],
            "text/html": [
              "\n",
              "  <div id=\"df-1b3ca8c8-bc12-4831-b300-77f13db5c67c\" class=\"colab-df-container\">\n",
              "    <div>\n",
              "<style scoped>\n",
              "    .dataframe tbody tr th:only-of-type {\n",
              "        vertical-align: middle;\n",
              "    }\n",
              "\n",
              "    .dataframe tbody tr th {\n",
              "        vertical-align: top;\n",
              "    }\n",
              "\n",
              "    .dataframe thead th {\n",
              "        text-align: right;\n",
              "    }\n",
              "</style>\n",
              "<table border=\"1\" class=\"dataframe\">\n",
              "  <thead>\n",
              "    <tr style=\"text-align: right;\">\n",
              "      <th></th>\n",
              "      <th>category</th>\n",
              "      <th>sales</th>\n",
              "      <th>quantity</th>\n",
              "      <th>profit</th>\n",
              "    </tr>\n",
              "  </thead>\n",
              "  <tbody>\n",
              "    <tr>\n",
              "      <th>0</th>\n",
              "      <td>Furniture</td>\n",
              "      <td>2479</td>\n",
              "      <td>6</td>\n",
              "      <td>49.5000</td>\n",
              "    </tr>\n",
              "    <tr>\n",
              "      <th>1</th>\n",
              "      <td>Furniture</td>\n",
              "      <td>45</td>\n",
              "      <td>1</td>\n",
              "      <td>-56.8560</td>\n",
              "    </tr>\n",
              "    <tr>\n",
              "      <th>2</th>\n",
              "      <td>Furniture</td>\n",
              "      <td>51</td>\n",
              "      <td>2</td>\n",
              "      <td>22.8000</td>\n",
              "    </tr>\n",
              "    <tr>\n",
              "      <th>3</th>\n",
              "      <td>Furniture</td>\n",
              "      <td>436</td>\n",
              "      <td>1</td>\n",
              "      <td>178.7400</td>\n",
              "    </tr>\n",
              "    <tr>\n",
              "      <th>4</th>\n",
              "      <td>Furniture</td>\n",
              "      <td>334</td>\n",
              "      <td>2</td>\n",
              "      <td>26.7000</td>\n",
              "    </tr>\n",
              "    <tr>\n",
              "      <th>...</th>\n",
              "      <td>...</td>\n",
              "      <td>...</td>\n",
              "      <td>...</td>\n",
              "      <td>...</td>\n",
              "    </tr>\n",
              "    <tr>\n",
              "      <th>9871</th>\n",
              "      <td>Furniture</td>\n",
              "      <td>148</td>\n",
              "      <td>3</td>\n",
              "      <td>15.6978</td>\n",
              "    </tr>\n",
              "    <tr>\n",
              "      <th>9872</th>\n",
              "      <td>Furniture</td>\n",
              "      <td>26</td>\n",
              "      <td>3</td>\n",
              "      <td>11.0250</td>\n",
              "    </tr>\n",
              "    <tr>\n",
              "      <th>9873</th>\n",
              "      <td>Furniture</td>\n",
              "      <td>23</td>\n",
              "      <td>3</td>\n",
              "      <td>9.7911</td>\n",
              "    </tr>\n",
              "    <tr>\n",
              "      <th>9874</th>\n",
              "      <td>Furniture</td>\n",
              "      <td>842</td>\n",
              "      <td>3</td>\n",
              "      <td>105.2970</td>\n",
              "    </tr>\n",
              "    <tr>\n",
              "      <th>9875</th>\n",
              "      <td>Furniture</td>\n",
              "      <td>9</td>\n",
              "      <td>4</td>\n",
              "      <td>1.9224</td>\n",
              "    </tr>\n",
              "  </tbody>\n",
              "</table>\n",
              "<p>9876 rows × 4 columns</p>\n",
              "</div>\n",
              "    <div class=\"colab-df-buttons\">\n",
              "\n",
              "  <div class=\"colab-df-container\">\n",
              "    <button class=\"colab-df-convert\" onclick=\"convertToInteractive('df-1b3ca8c8-bc12-4831-b300-77f13db5c67c')\"\n",
              "            title=\"Convert this dataframe to an interactive table.\"\n",
              "            style=\"display:none;\">\n",
              "\n",
              "  <svg xmlns=\"http://www.w3.org/2000/svg\" height=\"24px\" viewBox=\"0 -960 960 960\">\n",
              "    <path d=\"M120-120v-720h720v720H120Zm60-500h600v-160H180v160Zm220 220h160v-160H400v160Zm0 220h160v-160H400v160ZM180-400h160v-160H180v160Zm440 0h160v-160H620v160ZM180-180h160v-160H180v160Zm440 0h160v-160H620v160Z\"/>\n",
              "  </svg>\n",
              "    </button>\n",
              "\n",
              "  <style>\n",
              "    .colab-df-container {\n",
              "      display:flex;\n",
              "      gap: 12px;\n",
              "    }\n",
              "\n",
              "    .colab-df-convert {\n",
              "      background-color: #E8F0FE;\n",
              "      border: none;\n",
              "      border-radius: 50%;\n",
              "      cursor: pointer;\n",
              "      display: none;\n",
              "      fill: #1967D2;\n",
              "      height: 32px;\n",
              "      padding: 0 0 0 0;\n",
              "      width: 32px;\n",
              "    }\n",
              "\n",
              "    .colab-df-convert:hover {\n",
              "      background-color: #E2EBFA;\n",
              "      box-shadow: 0px 1px 2px rgba(60, 64, 67, 0.3), 0px 1px 3px 1px rgba(60, 64, 67, 0.15);\n",
              "      fill: #174EA6;\n",
              "    }\n",
              "\n",
              "    .colab-df-buttons div {\n",
              "      margin-bottom: 4px;\n",
              "    }\n",
              "\n",
              "    [theme=dark] .colab-df-convert {\n",
              "      background-color: #3B4455;\n",
              "      fill: #D2E3FC;\n",
              "    }\n",
              "\n",
              "    [theme=dark] .colab-df-convert:hover {\n",
              "      background-color: #434B5C;\n",
              "      box-shadow: 0px 1px 3px 1px rgba(0, 0, 0, 0.15);\n",
              "      filter: drop-shadow(0px 1px 2px rgba(0, 0, 0, 0.3));\n",
              "      fill: #FFFFFF;\n",
              "    }\n",
              "  </style>\n",
              "\n",
              "    <script>\n",
              "      const buttonEl =\n",
              "        document.querySelector('#df-1b3ca8c8-bc12-4831-b300-77f13db5c67c button.colab-df-convert');\n",
              "      buttonEl.style.display =\n",
              "        google.colab.kernel.accessAllowed ? 'block' : 'none';\n",
              "\n",
              "      async function convertToInteractive(key) {\n",
              "        const element = document.querySelector('#df-1b3ca8c8-bc12-4831-b300-77f13db5c67c');\n",
              "        const dataTable =\n",
              "          await google.colab.kernel.invokeFunction('convertToInteractive',\n",
              "                                                    [key], {});\n",
              "        if (!dataTable) return;\n",
              "\n",
              "        const docLinkHtml = 'Like what you see? Visit the ' +\n",
              "          '<a target=\"_blank\" href=https://colab.research.google.com/notebooks/data_table.ipynb>data table notebook</a>'\n",
              "          + ' to learn more about interactive tables.';\n",
              "        element.innerHTML = '';\n",
              "        dataTable['output_type'] = 'display_data';\n",
              "        await google.colab.output.renderOutput(dataTable, element);\n",
              "        const docLink = document.createElement('div');\n",
              "        docLink.innerHTML = docLinkHtml;\n",
              "        element.appendChild(docLink);\n",
              "      }\n",
              "    </script>\n",
              "  </div>\n",
              "\n",
              "\n",
              "<div id=\"df-a4fbdc4d-22a0-46d3-a2c6-510ad03c8a81\">\n",
              "  <button class=\"colab-df-quickchart\" onclick=\"quickchart('df-a4fbdc4d-22a0-46d3-a2c6-510ad03c8a81')\"\n",
              "            title=\"Suggest charts\"\n",
              "            style=\"display:none;\">\n",
              "\n",
              "<svg xmlns=\"http://www.w3.org/2000/svg\" height=\"24px\"viewBox=\"0 0 24 24\"\n",
              "     width=\"24px\">\n",
              "    <g>\n",
              "        <path d=\"M19 3H5c-1.1 0-2 .9-2 2v14c0 1.1.9 2 2 2h14c1.1 0 2-.9 2-2V5c0-1.1-.9-2-2-2zM9 17H7v-7h2v7zm4 0h-2V7h2v10zm4 0h-2v-4h2v4z\"/>\n",
              "    </g>\n",
              "</svg>\n",
              "  </button>\n",
              "\n",
              "<style>\n",
              "  .colab-df-quickchart {\n",
              "      --bg-color: #E8F0FE;\n",
              "      --fill-color: #1967D2;\n",
              "      --hover-bg-color: #E2EBFA;\n",
              "      --hover-fill-color: #174EA6;\n",
              "      --disabled-fill-color: #AAA;\n",
              "      --disabled-bg-color: #DDD;\n",
              "  }\n",
              "\n",
              "  [theme=dark] .colab-df-quickchart {\n",
              "      --bg-color: #3B4455;\n",
              "      --fill-color: #D2E3FC;\n",
              "      --hover-bg-color: #434B5C;\n",
              "      --hover-fill-color: #FFFFFF;\n",
              "      --disabled-bg-color: #3B4455;\n",
              "      --disabled-fill-color: #666;\n",
              "  }\n",
              "\n",
              "  .colab-df-quickchart {\n",
              "    background-color: var(--bg-color);\n",
              "    border: none;\n",
              "    border-radius: 50%;\n",
              "    cursor: pointer;\n",
              "    display: none;\n",
              "    fill: var(--fill-color);\n",
              "    height: 32px;\n",
              "    padding: 0;\n",
              "    width: 32px;\n",
              "  }\n",
              "\n",
              "  .colab-df-quickchart:hover {\n",
              "    background-color: var(--hover-bg-color);\n",
              "    box-shadow: 0 1px 2px rgba(60, 64, 67, 0.3), 0 1px 3px 1px rgba(60, 64, 67, 0.15);\n",
              "    fill: var(--button-hover-fill-color);\n",
              "  }\n",
              "\n",
              "  .colab-df-quickchart-complete:disabled,\n",
              "  .colab-df-quickchart-complete:disabled:hover {\n",
              "    background-color: var(--disabled-bg-color);\n",
              "    fill: var(--disabled-fill-color);\n",
              "    box-shadow: none;\n",
              "  }\n",
              "\n",
              "  .colab-df-spinner {\n",
              "    border: 2px solid var(--fill-color);\n",
              "    border-color: transparent;\n",
              "    border-bottom-color: var(--fill-color);\n",
              "    animation:\n",
              "      spin 1s steps(1) infinite;\n",
              "  }\n",
              "\n",
              "  @keyframes spin {\n",
              "    0% {\n",
              "      border-color: transparent;\n",
              "      border-bottom-color: var(--fill-color);\n",
              "      border-left-color: var(--fill-color);\n",
              "    }\n",
              "    20% {\n",
              "      border-color: transparent;\n",
              "      border-left-color: var(--fill-color);\n",
              "      border-top-color: var(--fill-color);\n",
              "    }\n",
              "    30% {\n",
              "      border-color: transparent;\n",
              "      border-left-color: var(--fill-color);\n",
              "      border-top-color: var(--fill-color);\n",
              "      border-right-color: var(--fill-color);\n",
              "    }\n",
              "    40% {\n",
              "      border-color: transparent;\n",
              "      border-right-color: var(--fill-color);\n",
              "      border-top-color: var(--fill-color);\n",
              "    }\n",
              "    60% {\n",
              "      border-color: transparent;\n",
              "      border-right-color: var(--fill-color);\n",
              "    }\n",
              "    80% {\n",
              "      border-color: transparent;\n",
              "      border-right-color: var(--fill-color);\n",
              "      border-bottom-color: var(--fill-color);\n",
              "    }\n",
              "    90% {\n",
              "      border-color: transparent;\n",
              "      border-bottom-color: var(--fill-color);\n",
              "    }\n",
              "  }\n",
              "</style>\n",
              "\n",
              "  <script>\n",
              "    async function quickchart(key) {\n",
              "      const quickchartButtonEl =\n",
              "        document.querySelector('#' + key + ' button');\n",
              "      quickchartButtonEl.disabled = true;  // To prevent multiple clicks.\n",
              "      quickchartButtonEl.classList.add('colab-df-spinner');\n",
              "      try {\n",
              "        const charts = await google.colab.kernel.invokeFunction(\n",
              "            'suggestCharts', [key], {});\n",
              "      } catch (error) {\n",
              "        console.error('Error during call to suggestCharts:', error);\n",
              "      }\n",
              "      quickchartButtonEl.classList.remove('colab-df-spinner');\n",
              "      quickchartButtonEl.classList.add('colab-df-quickchart-complete');\n",
              "    }\n",
              "    (() => {\n",
              "      let quickchartButtonEl =\n",
              "        document.querySelector('#df-a4fbdc4d-22a0-46d3-a2c6-510ad03c8a81 button');\n",
              "      quickchartButtonEl.style.display =\n",
              "        google.colab.kernel.accessAllowed ? 'block' : 'none';\n",
              "    })();\n",
              "  </script>\n",
              "</div>\n",
              "    </div>\n",
              "  </div>\n"
            ],
            "application/vnd.google.colaboratory.intrinsic+json": {
              "type": "dataframe",
              "variable_name": "df3",
              "summary": "{\n  \"name\": \"df3\",\n  \"rows\": 9876,\n  \"fields\": [\n    {\n      \"column\": \"category\",\n      \"properties\": {\n        \"dtype\": \"category\",\n        \"num_unique_values\": 1,\n        \"samples\": [\n          \"Furniture\"\n        ],\n        \"semantic_type\": \"\",\n        \"description\": \"\"\n      }\n    },\n    {\n      \"column\": \"sales\",\n      \"properties\": {\n        \"dtype\": \"number\",\n        \"std\": 553,\n        \"min\": 2,\n        \"max\": 5760,\n        \"num_unique_values\": 1597,\n        \"samples\": [\n          457\n        ],\n        \"semantic_type\": \"\",\n        \"description\": \"\"\n      }\n    },\n    {\n      \"column\": \"quantity\",\n      \"properties\": {\n        \"dtype\": \"number\",\n        \"std\": 2,\n        \"min\": 1,\n        \"max\": 14,\n        \"num_unique_values\": 14,\n        \"samples\": [\n          5\n        ],\n        \"semantic_type\": \"\",\n        \"description\": \"\"\n      }\n    },\n    {\n      \"column\": \"profit\",\n      \"properties\": {\n        \"dtype\": \"number\",\n        \"std\": 206.12532331269028,\n        \"min\": -2750.28,\n        \"max\": 2316.51,\n        \"num_unique_values\": 7402,\n        \"samples\": [\n          -7.09\n        ],\n        \"semantic_type\": \"\",\n        \"description\": \"\"\n      }\n    }\n  ]\n}"
            }
          },
          "metadata": {},
          "execution_count": 46
        }
      ]
    },
    {
      "cell_type": "markdown",
      "source": [
        "#PyArrow Table"
      ],
      "metadata": {
        "id": "35K5faHAwN-g"
      }
    },
    {
      "cell_type": "code",
      "source": [
        "table1 = pv.read_csv('Orders2.csv')\n",
        "table2 = pq.read_table('Orders2.parquet')"
      ],
      "metadata": {
        "id": "0VgGZ1b8wYju"
      },
      "execution_count": 47,
      "outputs": []
    },
    {
      "cell_type": "code",
      "source": [
        "# Date is still not clean\n",
        "table1_df = table1.to_pandas()\n",
        "table1_df.info()"
      ],
      "metadata": {
        "colab": {
          "base_uri": "https://localhost:8080/"
        },
        "id": "JaIEX9RZxM7p",
        "outputId": "abe09bb2-a04c-47be-8274-8ea6b6bf59be"
      },
      "execution_count": 48,
      "outputs": [
        {
          "output_type": "stream",
          "name": "stdout",
          "text": [
            "<class 'pandas.core.frame.DataFrame'>\n",
            "RangeIndex: 51290 entries, 0 to 51289\n",
            "Data columns (total 21 columns):\n",
            " #   Column          Non-Null Count  Dtype  \n",
            "---  ------          --------------  -----  \n",
            " 0   order_id        51290 non-null  object \n",
            " 1   order_date      51290 non-null  object \n",
            " 2   ship_date       51290 non-null  object \n",
            " 3   ship_mode       51290 non-null  object \n",
            " 4   customer_name   51290 non-null  object \n",
            " 5   segment         51290 non-null  object \n",
            " 6   state           51290 non-null  object \n",
            " 7   country         51290 non-null  object \n",
            " 8   market          51290 non-null  object \n",
            " 9   region          51290 non-null  object \n",
            " 10  product_id      51290 non-null  object \n",
            " 11  category        51290 non-null  object \n",
            " 12  sub_category    51290 non-null  object \n",
            " 13  product_name    51290 non-null  object \n",
            " 14  sales           51290 non-null  int64  \n",
            " 15  quantity        51290 non-null  int64  \n",
            " 16  discount        51290 non-null  float64\n",
            " 17  profit          51290 non-null  float64\n",
            " 18  shipping_cost   51290 non-null  float64\n",
            " 19  order_priority  51290 non-null  object \n",
            " 20  year            51290 non-null  int64  \n",
            "dtypes: float64(3), int64(3), object(15)\n",
            "memory usage: 8.2+ MB\n"
          ]
        }
      ]
    },
    {
      "cell_type": "code",
      "source": [
        "# Data is clean\n",
        "table2_df = table2.to_pandas()\n",
        "table2_df.info()"
      ],
      "metadata": {
        "colab": {
          "base_uri": "https://localhost:8080/"
        },
        "id": "NXuk8S2_zqzq",
        "outputId": "c4efceac-368a-4899-fe87-fa135c5792dd"
      },
      "execution_count": 49,
      "outputs": [
        {
          "output_type": "stream",
          "name": "stdout",
          "text": [
            "<class 'pandas.core.frame.DataFrame'>\n",
            "RangeIndex: 51290 entries, 0 to 51289\n",
            "Data columns (total 21 columns):\n",
            " #   Column          Non-Null Count  Dtype         \n",
            "---  ------          --------------  -----         \n",
            " 0   order_id        51290 non-null  object        \n",
            " 1   order_date      51290 non-null  datetime64[ns]\n",
            " 2   ship_date       51290 non-null  datetime64[ns]\n",
            " 3   ship_mode       51290 non-null  object        \n",
            " 4   customer_name   51290 non-null  object        \n",
            " 5   segment         51290 non-null  object        \n",
            " 6   state           51290 non-null  object        \n",
            " 7   country         51290 non-null  object        \n",
            " 8   market          51290 non-null  object        \n",
            " 9   region          51290 non-null  object        \n",
            " 10  product_id      51290 non-null  object        \n",
            " 11  category        51290 non-null  object        \n",
            " 12  sub_category    51290 non-null  object        \n",
            " 13  product_name    51290 non-null  object        \n",
            " 14  sales           51290 non-null  int64         \n",
            " 15  quantity        51290 non-null  int64         \n",
            " 16  discount        51290 non-null  float64       \n",
            " 17  profit          51290 non-null  float64       \n",
            " 18  shipping_cost   51290 non-null  float64       \n",
            " 19  order_priority  51290 non-null  object        \n",
            " 20  year            51290 non-null  object        \n",
            "dtypes: datetime64[ns](2), float64(3), int64(2), object(14)\n",
            "memory usage: 8.2+ MB\n"
          ]
        }
      ]
    },
    {
      "cell_type": "markdown",
      "source": [
        "#Spark\n",
        "https://davidadrian.cc/python-hadoop/"
      ],
      "metadata": {
        "id": "4BMBOUtf4-Wd"
      }
    },
    {
      "cell_type": "code",
      "source": [
        "!pip3 -q install pyspark\n",
        "from pyspark.sql import SparkSession\n",
        "\n",
        "from pyspark.sql.types import *\n",
        "from pyspark.sql.functions import *\n",
        "#spark9 = SparkSession.builder.master(\"local[*]\").getOrCreate()\n",
        "# note UI port switched from default 4040 to 4050 to avoid clash with ngrok\n"
      ],
      "metadata": {
        "id": "hel81l4t5Age",
        "outputId": "03c03c02-9baa-4c88-baa5-2d84f9e97be6",
        "colab": {
          "base_uri": "https://localhost:8080/"
        }
      },
      "execution_count": 50,
      "outputs": [
        {
          "output_type": "stream",
          "name": "stdout",
          "text": [
            "\u001b[2K     \u001b[90m━━━━━━━━━━━━━━━━━━━━━━━━━━━━━━━━━━━━━━━━\u001b[0m \u001b[32m317.0/317.0 MB\u001b[0m \u001b[31m1.7 MB/s\u001b[0m eta \u001b[36m0:00:00\u001b[0m\n",
            "\u001b[?25h  Preparing metadata (setup.py) ... \u001b[?25l\u001b[?25hdone\n",
            "  Building wheel for pyspark (setup.py) ... \u001b[?25l\u001b[?25hdone\n"
          ]
        }
      ]
    },
    {
      "cell_type": "code",
      "source": [],
      "metadata": {
        "id": "R1NVzLHFTZmk"
      },
      "execution_count": null,
      "outputs": []
    },
    {
      "cell_type": "code",
      "source": [
        "# Note Extra parameter introduced in spark\n",
        "# Without this there will be errors in reading Parquet files\n",
        "\n",
        "#spark9 = SparkSession.builder.master(\"local[*]\").config('spark.ui.port', '4050').getOrCreate()\n",
        "spark9 = SparkSession.\\\n",
        "    builder.master(\"local[*]\").\\\n",
        "    config('spark.ui.port', '4050').\\\n",
        "    config(\"spark.sql.legacy.parquet.nanosAsLong\", \"true\").\\\n",
        "    getOrCreate()"
      ],
      "metadata": {
        "id": "QA5XixEC0mKk"
      },
      "execution_count": 51,
      "outputs": []
    },
    {
      "cell_type": "code",
      "source": [
        "#!tail Orders2.csv\n",
        "#!tail Orders2.parquet --- unreadable"
      ],
      "metadata": {
        "id": "U4y6behLIyqJ"
      },
      "execution_count": null,
      "outputs": []
    },
    {
      "cell_type": "code",
      "source": [
        "# Inferred INCORRECTLY, from CSV file\n",
        "# Numerics read as string\n",
        "# date read correctly\n",
        "\n",
        "sdf9A = spark9.read.csv('Orders2.csv', inferSchema=True,header = True, quote = '\"')\n",
        "sdf9A.dtypes"
      ],
      "metadata": {
        "id": "p1TvsLPS5vAG",
        "outputId": "3877c13e-6c65-436f-ece0-a00e1d307a16",
        "colab": {
          "base_uri": "https://localhost:8080/"
        }
      },
      "execution_count": 112,
      "outputs": [
        {
          "output_type": "execute_result",
          "data": {
            "text/plain": [
              "[('order_id', 'string'),\n",
              " ('order_date', 'date'),\n",
              " ('ship_date', 'date'),\n",
              " ('ship_mode', 'string'),\n",
              " ('customer_name', 'string'),\n",
              " ('segment', 'string'),\n",
              " ('state', 'string'),\n",
              " ('country', 'string'),\n",
              " ('market', 'string'),\n",
              " ('region', 'string'),\n",
              " ('product_id', 'string'),\n",
              " ('category', 'string'),\n",
              " ('sub_category', 'string'),\n",
              " ('product_name', 'string'),\n",
              " ('sales', 'string'),\n",
              " ('quantity', 'string'),\n",
              " ('discount', 'string'),\n",
              " ('profit', 'double'),\n",
              " ('shipping_cost', 'double'),\n",
              " ('order_priority', 'string'),\n",
              " ('year', 'string')]"
            ]
          },
          "metadata": {},
          "execution_count": 112
        }
      ]
    },
    {
      "cell_type": "code",
      "source": [
        "#Inferred CORRECTLY, from parquet file\n",
        "#sdf9B = spark19.read.parquet('Orders2.parquet', inferSchema=True,header = True, quote = '\"')\n",
        "#sdf9B.dtypes"
      ],
      "metadata": {
        "id": "2wLxv18405H8"
      },
      "execution_count": null,
      "outputs": []
    },
    {
      "cell_type": "code",
      "source": [
        "#Inferred CORRECTLY, from parquet file\n",
        "# See Order Date / Shipdate\n",
        "sdf9B = spark9.read.parquet('Orders2.parquet', inferSchema=True,header = True, quote = '\"')\n",
        "sdf9B.dtypes"
      ],
      "metadata": {
        "id": "QU_0h11I1qr9",
        "outputId": "fe33206c-e918-4950-ab93-a13c397febfd",
        "colab": {
          "base_uri": "https://localhost:8080/"
        }
      },
      "execution_count": 113,
      "outputs": [
        {
          "output_type": "execute_result",
          "data": {
            "text/plain": [
              "[('order_id', 'string'),\n",
              " ('order_date', 'bigint'),\n",
              " ('ship_date', 'bigint'),\n",
              " ('ship_mode', 'string'),\n",
              " ('customer_name', 'string'),\n",
              " ('segment', 'string'),\n",
              " ('state', 'string'),\n",
              " ('country', 'string'),\n",
              " ('market', 'string'),\n",
              " ('region', 'string'),\n",
              " ('product_id', 'string'),\n",
              " ('category', 'string'),\n",
              " ('sub_category', 'string'),\n",
              " ('product_name', 'string'),\n",
              " ('sales', 'bigint'),\n",
              " ('quantity', 'bigint'),\n",
              " ('discount', 'double'),\n",
              " ('profit', 'double'),\n",
              " ('shipping_cost', 'double'),\n",
              " ('order_priority', 'string'),\n",
              " ('year', 'string')]"
            ]
          },
          "metadata": {},
          "execution_count": 113
        }
      ]
    },
    {
      "cell_type": "code",
      "source": [
        "sdf9B.head()"
      ],
      "metadata": {
        "id": "CwaMByfNHA-_",
        "outputId": "0129a17a-2585-462d-f2c3-2e2a31d6227c",
        "colab": {
          "base_uri": "https://localhost:8080/"
        }
      },
      "execution_count": 114,
      "outputs": [
        {
          "output_type": "execute_result",
          "data": {
            "text/plain": [
              "Row(order_id='AG-2011-2040', order_date=1293840000000000000, ship_date=1294272000000000000, ship_mode='Standard Class', customer_name='Toby Braunhardt', segment='Consumer', state='Constantine', country='Algeria', market='Africa', region='Africa', product_id='OFF-TEN-10000025', category='Office Supplies', sub_category='Storage', product_name='Tenex Lockers, Blue', sales=408, quantity=2, discount=0.0, profit=106.14, shipping_cost=35.46, order_priority='Medium', year='2011')"
            ]
          },
          "metadata": {},
          "execution_count": 114
        }
      ]
    },
    {
      "cell_type": "code",
      "source": [
        "sdf9B.show(3)"
      ],
      "metadata": {
        "id": "m18CmBzZQlMa",
        "outputId": "ea672490-dc8d-471d-eaa5-1660d846c9eb",
        "colab": {
          "base_uri": "https://localhost:8080/"
        }
      },
      "execution_count": 115,
      "outputs": [
        {
          "output_type": "stream",
          "name": "stdout",
          "text": [
            "+-------------+-------------------+-------------------+--------------+---------------+--------+---------------+---------+------+-------+----------------+---------------+------------+--------------------+-----+--------+--------+------+-------------+--------------+----+\n",
            "|     order_id|         order_date|          ship_date|     ship_mode|  customer_name| segment|          state|  country|market| region|      product_id|       category|sub_category|        product_name|sales|quantity|discount|profit|shipping_cost|order_priority|year|\n",
            "+-------------+-------------------+-------------------+--------------+---------------+--------+---------------+---------+------+-------+----------------+---------------+------------+--------------------+-----+--------+--------+------+-------------+--------------+----+\n",
            "| AG-2011-2040|1293840000000000000|1294272000000000000|Standard Class|Toby Braunhardt|Consumer|    Constantine|  Algeria|Africa| Africa|OFF-TEN-10000025|Office Supplies|     Storage| Tenex Lockers, Blue|  408|       2|     0.0|106.14|        35.46|        Medium|2011|\n",
            "|IN-2011-47883|1293840000000000000|1294444800000000000|Standard Class|    Joseph Holt|Consumer|New South Wales|Australia|  APAC|Oceania| OFF-SU-10000618|Office Supplies|    Supplies|Acme Trimmer, Hig...|  120|       3|     0.1|36.036|         9.72|        Medium|2011|\n",
            "| HU-2011-1220|1293840000000000000|1294185600000000000|  Second Class|  Annie Thurman|Consumer|       Budapest|  Hungary|  EMEA|   EMEA|OFF-TEN-10001585|Office Supplies|     Storage|Tenex Box, Single...|   66|       4|     0.0| 29.64|         8.17|          High|2011|\n",
            "+-------------+-------------------+-------------------+--------------+---------------+--------+---------------+---------+------+-------+----------------+---------------+------------+--------------------+-----+--------+--------+------+-------------+--------------+----+\n",
            "only showing top 3 rows\n",
            "\n"
          ]
        }
      ]
    },
    {
      "cell_type": "code",
      "source": [
        "# Convert Unix timestamp to timestamp\n",
        "df3=sdf9B.select(\n",
        "    from_unixtime(col(\"order_date\").alias(\"timestamp_1\")),\n",
        "    from_unixtime(col(\"order_date\"),\"MM-dd-yyyy HH:mm:ss\").alias(\"timestamp_2\")\n",
        "  )\n",
        "df3.printSchema()\n",
        "df3.show(truncate=False)"
      ],
      "metadata": {
        "id": "ZsJqfqfDF1HH",
        "outputId": "08ec0b70-46e3-4e08-ee22-bf2a8a2757fa",
        "colab": {
          "base_uri": "https://localhost:8080/"
        }
      },
      "execution_count": 116,
      "outputs": [
        {
          "output_type": "stream",
          "name": "stdout",
          "text": [
            "root\n",
            " |-- from_unixtime(order_date AS timestamp_1, yyyy-MM-dd HH:mm:ss): string (nullable = true)\n",
            " |-- timestamp_2: string (nullable = true)\n",
            "\n",
            "+-------------------------------------------------------------+----------------------+\n",
            "|from_unixtime(order_date AS timestamp_1, yyyy-MM-dd HH:mm:ss)|timestamp_2           |\n",
            "+-------------------------------------------------------------+----------------------+\n",
            "|+122939-01-14 09:35:59                                       |01-14-+122939 09:35:59|\n",
            "|+122939-01-14 09:35:59                                       |01-14-+122939 09:35:59|\n",
            "|+122939-01-14 09:35:59                                       |01-14-+122939 09:35:59|\n",
            "|+122939-01-14 09:35:59                                       |01-14-+122939 09:35:59|\n",
            "|+122939-01-14 09:35:59                                       |01-14-+122939 09:35:59|\n",
            "|+122939-01-14 09:35:59                                       |01-14-+122939 09:35:59|\n",
            "|-61925-10-18 17:26:51                                        |10-18--61925 17:26:51 |\n",
            "|-246788-07-23 01:17:43                                       |07-23--246788 01:17:43|\n",
            "|-246788-07-23 01:17:43                                       |07-23--246788 01:17:43|\n",
            "|-246788-07-23 01:17:43                                       |07-23--246788 01:17:43|\n",
            "|-246788-07-23 01:17:43                                       |07-23--246788 01:17:43|\n",
            "|-246788-07-23 01:17:43                                       |07-23--246788 01:17:43|\n",
            "|-246788-07-23 01:17:43                                       |07-23--246788 01:17:43|\n",
            "|-246788-07-23 01:17:43                                       |07-23--246788 01:17:43|\n",
            "|-246788-07-23 01:17:43                                       |07-23--246788 01:17:43|\n",
            "|-246788-07-23 01:17:43                                       |07-23--246788 01:17:43|\n",
            "|-246788-07-23 01:17:43                                       |07-23--246788 01:17:43|\n",
            "|-246788-07-23 01:17:43                                       |07-23--246788 01:17:43|\n",
            "|-246788-07-23 01:17:43                                       |07-23--246788 01:17:43|\n",
            "|-246788-07-23 01:17:43                                       |07-23--246788 01:17:43|\n",
            "+-------------------------------------------------------------+----------------------+\n",
            "only showing top 20 rows\n",
            "\n"
          ]
        }
      ]
    },
    {
      "cell_type": "code",
      "source": [
        "# Convert Unix timestamp to timestamp\n",
        "sdf9B.select(from_unixtime(sdf9B['order_date']/1000000000).alias('order_date')).show()\n",
        "#sdf9B.select(from_unixtime(sdf9B['order_date']/1000000000)).show()"
      ],
      "metadata": {
        "id": "Co4TUQQaZ5JP",
        "outputId": "fc9b68c9-92c7-4c81-ba3c-a6cbae57abd5",
        "colab": {
          "base_uri": "https://localhost:8080/"
        }
      },
      "execution_count": 119,
      "outputs": [
        {
          "output_type": "stream",
          "name": "stdout",
          "text": [
            "+-------------------+\n",
            "|         order_date|\n",
            "+-------------------+\n",
            "|2011-01-01 00:00:00|\n",
            "|2011-01-01 00:00:00|\n",
            "|2011-01-01 00:00:00|\n",
            "|2011-01-01 00:00:00|\n",
            "|2011-01-01 00:00:00|\n",
            "|2011-01-01 00:00:00|\n",
            "|2011-01-02 00:00:00|\n",
            "|2011-01-03 00:00:00|\n",
            "|2011-01-03 00:00:00|\n",
            "|2011-01-03 00:00:00|\n",
            "|2011-01-03 00:00:00|\n",
            "|2011-01-03 00:00:00|\n",
            "|2011-01-03 00:00:00|\n",
            "|2011-01-03 00:00:00|\n",
            "|2011-01-03 00:00:00|\n",
            "|2011-01-03 00:00:00|\n",
            "|2011-01-03 00:00:00|\n",
            "|2011-01-03 00:00:00|\n",
            "|2011-01-03 00:00:00|\n",
            "|2011-01-03 00:00:00|\n",
            "+-------------------+\n",
            "only showing top 20 rows\n",
            "\n"
          ]
        }
      ]
    },
    {
      "cell_type": "code",
      "source": [
        "test = sdf9B.\\\n",
        "    withColumn('order_date',from_unixtime(col('order_date')/1000000000))\n",
        "test.printSchema()\n",
        "test.show(3)"
      ],
      "metadata": {
        "id": "r0PJaZlUbS2Q",
        "outputId": "360f09e7-0ddd-4a0a-e2f4-ce925837a683",
        "colab": {
          "base_uri": "https://localhost:8080/"
        }
      },
      "execution_count": 120,
      "outputs": [
        {
          "output_type": "stream",
          "name": "stdout",
          "text": [
            "root\n",
            " |-- order_id: string (nullable = true)\n",
            " |-- order_date: string (nullable = true)\n",
            " |-- ship_date: long (nullable = true)\n",
            " |-- ship_mode: string (nullable = true)\n",
            " |-- customer_name: string (nullable = true)\n",
            " |-- segment: string (nullable = true)\n",
            " |-- state: string (nullable = true)\n",
            " |-- country: string (nullable = true)\n",
            " |-- market: string (nullable = true)\n",
            " |-- region: string (nullable = true)\n",
            " |-- product_id: string (nullable = true)\n",
            " |-- category: string (nullable = true)\n",
            " |-- sub_category: string (nullable = true)\n",
            " |-- product_name: string (nullable = true)\n",
            " |-- sales: long (nullable = true)\n",
            " |-- quantity: long (nullable = true)\n",
            " |-- discount: double (nullable = true)\n",
            " |-- profit: double (nullable = true)\n",
            " |-- shipping_cost: double (nullable = true)\n",
            " |-- order_priority: string (nullable = true)\n",
            " |-- year: string (nullable = true)\n",
            "\n",
            "+-------------+-------------------+-------------------+--------------+---------------+--------+---------------+---------+------+-------+----------------+---------------+------------+--------------------+-----+--------+--------+------+-------------+--------------+----+\n",
            "|     order_id|         order_date|          ship_date|     ship_mode|  customer_name| segment|          state|  country|market| region|      product_id|       category|sub_category|        product_name|sales|quantity|discount|profit|shipping_cost|order_priority|year|\n",
            "+-------------+-------------------+-------------------+--------------+---------------+--------+---------------+---------+------+-------+----------------+---------------+------------+--------------------+-----+--------+--------+------+-------------+--------------+----+\n",
            "| AG-2011-2040|2011-01-01 00:00:00|1294272000000000000|Standard Class|Toby Braunhardt|Consumer|    Constantine|  Algeria|Africa| Africa|OFF-TEN-10000025|Office Supplies|     Storage| Tenex Lockers, Blue|  408|       2|     0.0|106.14|        35.46|        Medium|2011|\n",
            "|IN-2011-47883|2011-01-01 00:00:00|1294444800000000000|Standard Class|    Joseph Holt|Consumer|New South Wales|Australia|  APAC|Oceania| OFF-SU-10000618|Office Supplies|    Supplies|Acme Trimmer, Hig...|  120|       3|     0.1|36.036|         9.72|        Medium|2011|\n",
            "| HU-2011-1220|2011-01-01 00:00:00|1294185600000000000|  Second Class|  Annie Thurman|Consumer|       Budapest|  Hungary|  EMEA|   EMEA|OFF-TEN-10001585|Office Supplies|     Storage|Tenex Box, Single...|   66|       4|     0.0| 29.64|         8.17|          High|2011|\n",
            "+-------------+-------------------+-------------------+--------------+---------------+--------+---------------+---------+------+-------+----------------+---------------+------------+--------------------+-----+--------+--------+------+-------------+--------------+----+\n",
            "only showing top 3 rows\n",
            "\n"
          ]
        }
      ]
    },
    {
      "cell_type": "code",
      "source": [
        "test = sdf9B.\\\n",
        "    withColumn('order_date',from_unixtime(col('order_date')/1000000000)).\\\n",
        "    withColumn('order_date',to_date(col('order_date'), \"y-M-d H:m:s\")).\\\n",
        "    withColumn('ship_date',from_unixtime(col('ship_date')/1000000000)).\\\n",
        "    withColumn('ship_date',to_date(col('ship_date'), \"y-M-d H:m:s\"))\n",
        "test.printSchema()\n",
        "test.show()"
      ],
      "metadata": {
        "id": "j4JJNPa1ci4t",
        "outputId": "b18b6ed6-d13d-41bc-b2db-6524964bf227",
        "colab": {
          "base_uri": "https://localhost:8080/"
        }
      },
      "execution_count": 105,
      "outputs": [
        {
          "output_type": "stream",
          "name": "stdout",
          "text": [
            "root\n",
            " |-- order_id: string (nullable = true)\n",
            " |-- order_date: date (nullable = true)\n",
            " |-- ship_date: date (nullable = true)\n",
            " |-- ship_mode: string (nullable = true)\n",
            " |-- customer_name: string (nullable = true)\n",
            " |-- segment: string (nullable = true)\n",
            " |-- state: string (nullable = true)\n",
            " |-- country: string (nullable = true)\n",
            " |-- market: string (nullable = true)\n",
            " |-- region: string (nullable = true)\n",
            " |-- product_id: string (nullable = true)\n",
            " |-- category: string (nullable = true)\n",
            " |-- sub_category: string (nullable = true)\n",
            " |-- product_name: string (nullable = true)\n",
            " |-- sales: long (nullable = true)\n",
            " |-- quantity: long (nullable = true)\n",
            " |-- discount: double (nullable = true)\n",
            " |-- profit: double (nullable = true)\n",
            " |-- shipping_cost: double (nullable = true)\n",
            " |-- order_priority: string (nullable = true)\n",
            " |-- year: string (nullable = true)\n",
            "\n",
            "+---------------+----------+----------+--------------+-----------------+-----------+-----------------+--------------+------+--------------+----------------+---------------+------------+--------------------+-----+--------+--------+---------+-------------+--------------+----+\n",
            "|       order_id|order_date| ship_date|     ship_mode|    customer_name|    segment|            state|       country|market|        region|      product_id|       category|sub_category|        product_name|sales|quantity|discount|   profit|shipping_cost|order_priority|year|\n",
            "+---------------+----------+----------+--------------+-----------------+-----------+-----------------+--------------+------+--------------+----------------+---------------+------------+--------------------+-----+--------+--------+---------+-------------+--------------+----+\n",
            "|   AG-2011-2040|2011-01-01|2011-01-06|Standard Class|  Toby Braunhardt|   Consumer|      Constantine|       Algeria|Africa|        Africa|OFF-TEN-10000025|Office Supplies|     Storage| Tenex Lockers, Blue|  408|       2|     0.0|   106.14|        35.46|        Medium|2011|\n",
            "|  IN-2011-47883|2011-01-01|2011-01-08|Standard Class|      Joseph Holt|   Consumer|  New South Wales|     Australia|  APAC|       Oceania| OFF-SU-10000618|Office Supplies|    Supplies|Acme Trimmer, Hig...|  120|       3|     0.1|   36.036|         9.72|        Medium|2011|\n",
            "|   HU-2011-1220|2011-01-01|2011-01-05|  Second Class|    Annie Thurman|   Consumer|         Budapest|       Hungary|  EMEA|          EMEA|OFF-TEN-10001585|Office Supplies|     Storage|Tenex Box, Single...|   66|       4|     0.0|    29.64|         8.17|          High|2011|\n",
            "|IT-2011-3647632|2011-01-01|2011-01-05|  Second Class|     Eugene Moren|Home Office|        Stockholm|        Sweden|    EU|         North| OFF-PA-10001492|Office Supplies|       Paper|Enermax Note Card...|   45|       3|     0.5|  -26.055|         4.82|          High|2011|\n",
            "|  IN-2011-47883|2011-01-01|2011-01-08|Standard Class|      Joseph Holt|   Consumer|  New South Wales|     Australia|  APAC|       Oceania| FUR-FU-10003447|      Furniture| Furnishings|Eldon Light Bulb,...|  114|       5|     0.1|    37.77|          4.7|        Medium|2011|\n",
            "|  IN-2011-47883|2011-01-01|2011-01-08|Standard Class|      Joseph Holt|   Consumer|  New South Wales|     Australia|  APAC|       Oceania| OFF-PA-10001968|Office Supplies|       Paper|Eaton Computer Pr...|   55|       2|     0.1|   15.342|          1.8|        Medium|2011|\n",
            "|   CA-2011-1510|2011-01-02|2011-01-06|Standard Class|  Magdelene Morse|   Consumer|          Ontario|        Canada|Canada|        Canada|TEC-OKI-10002750|     Technology|    Machines|Okidata Inkjet, W...|  314|       1|     0.0|     3.12|         24.1|        Medium|2011|\n",
            "|  IN-2011-79397|2011-01-03|2011-01-03|      Same Day|      Kean Nguyen|  Corporate|  New South Wales|     Australia|  APAC|       Oceania| OFF-AP-10000304|Office Supplies|  Appliances|Hoover Microwave,...|  276|       1|     0.1|  110.412|       125.32|      Critical|2011|\n",
            "|  ID-2011-80230|2011-01-03|2011-01-09|Standard Class|     Ken Lonsdale|   Consumer|         Auckland|   New Zealand|  APAC|       Oceania| TEC-CO-10004182|     Technology|     Copiers|Hewlett Wireless ...|  912|       4|     0.4| -319.464|        107.1|           Low|2011|\n",
            "|   IZ-2011-4680|2011-01-03|2011-01-07|Standard Class| Lindsay Williams|  Corporate|           Ninawa|          Iraq|  EMEA|          EMEA|FUR-NOV-10002791|      Furniture|      Chairs|Novimex Swivel St...|  667|       4|     0.0|   253.32|        81.26|          High|2011|\n",
            "|  IN-2011-65159|2011-01-03|2011-01-07|  Second Class|     Larry Blacks|   Consumer| National Capital|   Philippines|  APAC|Southeast Asia| OFF-ST-10003020|Office Supplies|     Storage|Tenex Lockers, In...|  338|       3|    0.45|-122.8005|        33.75|          High|2011|\n",
            "|  IN-2011-65159|2011-01-03|2011-01-07|  Second Class|     Larry Blacks|   Consumer| National Capital|   Philippines|  APAC|Southeast Asia| FUR-TA-10002797|      Furniture|      Tables|Chromcraft Round ...|  211|       1|    0.55| -70.3995|        21.32|          High|2011|\n",
            "|ES-2011-4869686|2011-01-03|2011-01-07|Standard Class|Dorothy Dickinson|   Consumer|          England|United Kingdom|    EU|         North| FUR-BO-10000728|      Furniture|   Bookcases|Dania Corner Shel...|  854|       7|     0.0|   290.43|        12.56|        Medium|2011|\n",
            "|  IN-2011-33652|2011-01-03|2011-01-09|Standard Class|    Dennis Pardue|Home Office|          Sarawak|      Malaysia|  APAC|Southeast Asia| TEC-CO-10000594|     Technology|     Copiers|Hewlett Fax and C...|  193|       1|     0.0|    50.13|         10.4|        Medium|2011|\n",
            "|  ID-2011-80230|2011-01-03|2011-01-09|Standard Class|     Ken Lonsdale|   Consumer|         Auckland|   New Zealand|  APAC|       Oceania| FUR-CH-10000214|      Furniture|      Chairs|Hon Rocking Chair...|  159|       2|     0.4|  -95.676|        10.07|           Low|2011|\n",
            "| MX-2011-160234|2011-01-03|2011-01-07|Standard Class| Stewart Visinsky|   Consumer|        Guatemala|     Guatemala| LATAM|       Central| TEC-PH-10002647|     Technology|      Phones| Nokia Headset, VoIP|  195|       4|     0.0|    44.88|         8.43|        Medium|2011|\n",
            "|    IR-2011-770|2011-01-03|2011-01-07|Standard Class|    Jas O'Carroll|   Consumer|             Yazd|          Iran|  EMEA|          EMEA|OFF-BRE-10003081|Office Supplies|  Appliances|Breville Coffee G...|  123|       2|     0.0|     42.9|         8.41|        Medium|2011|\n",
            "|  ID-2011-80230|2011-01-03|2011-01-09|Standard Class|     Ken Lonsdale|   Consumer|         Auckland|   New Zealand|  APAC|       Oceania| TEC-AC-10002881|     Technology| Accessories|Belkin Numeric Ke...|   69|       2|     0.4|     3.42|         8.34|           Low|2011|\n",
            "|  ID-2011-80230|2011-01-03|2011-01-09|Standard Class|     Ken Lonsdale|   Consumer|         Auckland|   New Zealand|  APAC|       Oceania| FUR-CH-10000666|      Furniture|      Chairs|SAFCO Chairmat, B...|   69|       2|     0.4|  -26.412|         8.17|           Low|2011|\n",
            "|  ID-2011-12596|2011-01-03|2011-01-08|Standard Class|     Chris McAfee|   Consumer|Nakhon Ratchasima|      Thailand|  APAC|Southeast Asia| OFF-ST-10002066|Office Supplies|     Storage|Smead File Cart, ...|  135|       2|    0.47| -45.9018|         7.74|        Medium|2011|\n",
            "+---------------+----------+----------+--------------+-----------------+-----------+-----------------+--------------+------+--------------+----------------+---------------+------------+--------------------+-----+--------+--------+---------+-------------+--------------+----+\n",
            "only showing top 20 rows\n",
            "\n"
          ]
        }
      ]
    },
    {
      "cell_type": "code",
      "source": [
        "# Date Time Patterns https://spark.apache.org/docs/latest/sql-ref-datetime-pattern.html\n",
        "#\n",
        "sdf9B = sdf9B.\\\n",
        "    withColumn('order_date',from_unixtime(col('order_date')/1000000000)).\\\n",
        "    withColumn('order_date',to_date(col('order_date'), \"y-M-d H:m:s\")).\\\n",
        "    withColumn('ship_date',from_unixtime(col('ship_date')/1000000000)).\\\n",
        "    withColumn('ship_date',to_date(col('ship_date'), \"y-M-d H:m:s\"))\n",
        "sdf9B.printSchema()\n",
        "sdf9B.show()"
      ],
      "metadata": {
        "id": "htnyqmWyeZbn",
        "outputId": "eed0abe8-739e-438e-ebe8-57e5de34f0ec",
        "colab": {
          "base_uri": "https://localhost:8080/"
        }
      },
      "execution_count": 121,
      "outputs": [
        {
          "output_type": "stream",
          "name": "stdout",
          "text": [
            "root\n",
            " |-- order_id: string (nullable = true)\n",
            " |-- order_date: date (nullable = true)\n",
            " |-- ship_date: date (nullable = true)\n",
            " |-- ship_mode: string (nullable = true)\n",
            " |-- customer_name: string (nullable = true)\n",
            " |-- segment: string (nullable = true)\n",
            " |-- state: string (nullable = true)\n",
            " |-- country: string (nullable = true)\n",
            " |-- market: string (nullable = true)\n",
            " |-- region: string (nullable = true)\n",
            " |-- product_id: string (nullable = true)\n",
            " |-- category: string (nullable = true)\n",
            " |-- sub_category: string (nullable = true)\n",
            " |-- product_name: string (nullable = true)\n",
            " |-- sales: long (nullable = true)\n",
            " |-- quantity: long (nullable = true)\n",
            " |-- discount: double (nullable = true)\n",
            " |-- profit: double (nullable = true)\n",
            " |-- shipping_cost: double (nullable = true)\n",
            " |-- order_priority: string (nullable = true)\n",
            " |-- year: string (nullable = true)\n",
            "\n",
            "+---------------+----------+----------+--------------+-----------------+-----------+-----------------+--------------+------+--------------+----------------+---------------+------------+--------------------+-----+--------+--------+---------+-------------+--------------+----+\n",
            "|       order_id|order_date| ship_date|     ship_mode|    customer_name|    segment|            state|       country|market|        region|      product_id|       category|sub_category|        product_name|sales|quantity|discount|   profit|shipping_cost|order_priority|year|\n",
            "+---------------+----------+----------+--------------+-----------------+-----------+-----------------+--------------+------+--------------+----------------+---------------+------------+--------------------+-----+--------+--------+---------+-------------+--------------+----+\n",
            "|   AG-2011-2040|2011-01-01|2011-01-06|Standard Class|  Toby Braunhardt|   Consumer|      Constantine|       Algeria|Africa|        Africa|OFF-TEN-10000025|Office Supplies|     Storage| Tenex Lockers, Blue|  408|       2|     0.0|   106.14|        35.46|        Medium|2011|\n",
            "|  IN-2011-47883|2011-01-01|2011-01-08|Standard Class|      Joseph Holt|   Consumer|  New South Wales|     Australia|  APAC|       Oceania| OFF-SU-10000618|Office Supplies|    Supplies|Acme Trimmer, Hig...|  120|       3|     0.1|   36.036|         9.72|        Medium|2011|\n",
            "|   HU-2011-1220|2011-01-01|2011-01-05|  Second Class|    Annie Thurman|   Consumer|         Budapest|       Hungary|  EMEA|          EMEA|OFF-TEN-10001585|Office Supplies|     Storage|Tenex Box, Single...|   66|       4|     0.0|    29.64|         8.17|          High|2011|\n",
            "|IT-2011-3647632|2011-01-01|2011-01-05|  Second Class|     Eugene Moren|Home Office|        Stockholm|        Sweden|    EU|         North| OFF-PA-10001492|Office Supplies|       Paper|Enermax Note Card...|   45|       3|     0.5|  -26.055|         4.82|          High|2011|\n",
            "|  IN-2011-47883|2011-01-01|2011-01-08|Standard Class|      Joseph Holt|   Consumer|  New South Wales|     Australia|  APAC|       Oceania| FUR-FU-10003447|      Furniture| Furnishings|Eldon Light Bulb,...|  114|       5|     0.1|    37.77|          4.7|        Medium|2011|\n",
            "|  IN-2011-47883|2011-01-01|2011-01-08|Standard Class|      Joseph Holt|   Consumer|  New South Wales|     Australia|  APAC|       Oceania| OFF-PA-10001968|Office Supplies|       Paper|Eaton Computer Pr...|   55|       2|     0.1|   15.342|          1.8|        Medium|2011|\n",
            "|   CA-2011-1510|2011-01-02|2011-01-06|Standard Class|  Magdelene Morse|   Consumer|          Ontario|        Canada|Canada|        Canada|TEC-OKI-10002750|     Technology|    Machines|Okidata Inkjet, W...|  314|       1|     0.0|     3.12|         24.1|        Medium|2011|\n",
            "|  IN-2011-79397|2011-01-03|2011-01-03|      Same Day|      Kean Nguyen|  Corporate|  New South Wales|     Australia|  APAC|       Oceania| OFF-AP-10000304|Office Supplies|  Appliances|Hoover Microwave,...|  276|       1|     0.1|  110.412|       125.32|      Critical|2011|\n",
            "|  ID-2011-80230|2011-01-03|2011-01-09|Standard Class|     Ken Lonsdale|   Consumer|         Auckland|   New Zealand|  APAC|       Oceania| TEC-CO-10004182|     Technology|     Copiers|Hewlett Wireless ...|  912|       4|     0.4| -319.464|        107.1|           Low|2011|\n",
            "|   IZ-2011-4680|2011-01-03|2011-01-07|Standard Class| Lindsay Williams|  Corporate|           Ninawa|          Iraq|  EMEA|          EMEA|FUR-NOV-10002791|      Furniture|      Chairs|Novimex Swivel St...|  667|       4|     0.0|   253.32|        81.26|          High|2011|\n",
            "|  IN-2011-65159|2011-01-03|2011-01-07|  Second Class|     Larry Blacks|   Consumer| National Capital|   Philippines|  APAC|Southeast Asia| OFF-ST-10003020|Office Supplies|     Storage|Tenex Lockers, In...|  338|       3|    0.45|-122.8005|        33.75|          High|2011|\n",
            "|  IN-2011-65159|2011-01-03|2011-01-07|  Second Class|     Larry Blacks|   Consumer| National Capital|   Philippines|  APAC|Southeast Asia| FUR-TA-10002797|      Furniture|      Tables|Chromcraft Round ...|  211|       1|    0.55| -70.3995|        21.32|          High|2011|\n",
            "|ES-2011-4869686|2011-01-03|2011-01-07|Standard Class|Dorothy Dickinson|   Consumer|          England|United Kingdom|    EU|         North| FUR-BO-10000728|      Furniture|   Bookcases|Dania Corner Shel...|  854|       7|     0.0|   290.43|        12.56|        Medium|2011|\n",
            "|  IN-2011-33652|2011-01-03|2011-01-09|Standard Class|    Dennis Pardue|Home Office|          Sarawak|      Malaysia|  APAC|Southeast Asia| TEC-CO-10000594|     Technology|     Copiers|Hewlett Fax and C...|  193|       1|     0.0|    50.13|         10.4|        Medium|2011|\n",
            "|  ID-2011-80230|2011-01-03|2011-01-09|Standard Class|     Ken Lonsdale|   Consumer|         Auckland|   New Zealand|  APAC|       Oceania| FUR-CH-10000214|      Furniture|      Chairs|Hon Rocking Chair...|  159|       2|     0.4|  -95.676|        10.07|           Low|2011|\n",
            "| MX-2011-160234|2011-01-03|2011-01-07|Standard Class| Stewart Visinsky|   Consumer|        Guatemala|     Guatemala| LATAM|       Central| TEC-PH-10002647|     Technology|      Phones| Nokia Headset, VoIP|  195|       4|     0.0|    44.88|         8.43|        Medium|2011|\n",
            "|    IR-2011-770|2011-01-03|2011-01-07|Standard Class|    Jas O'Carroll|   Consumer|             Yazd|          Iran|  EMEA|          EMEA|OFF-BRE-10003081|Office Supplies|  Appliances|Breville Coffee G...|  123|       2|     0.0|     42.9|         8.41|        Medium|2011|\n",
            "|  ID-2011-80230|2011-01-03|2011-01-09|Standard Class|     Ken Lonsdale|   Consumer|         Auckland|   New Zealand|  APAC|       Oceania| TEC-AC-10002881|     Technology| Accessories|Belkin Numeric Ke...|   69|       2|     0.4|     3.42|         8.34|           Low|2011|\n",
            "|  ID-2011-80230|2011-01-03|2011-01-09|Standard Class|     Ken Lonsdale|   Consumer|         Auckland|   New Zealand|  APAC|       Oceania| FUR-CH-10000666|      Furniture|      Chairs|SAFCO Chairmat, B...|   69|       2|     0.4|  -26.412|         8.17|           Low|2011|\n",
            "|  ID-2011-12596|2011-01-03|2011-01-08|Standard Class|     Chris McAfee|   Consumer|Nakhon Ratchasima|      Thailand|  APAC|Southeast Asia| OFF-ST-10002066|Office Supplies|     Storage|Smead File Cart, ...|  135|       2|    0.47| -45.9018|         7.74|        Medium|2011|\n",
            "+---------------+----------+----------+--------------+-----------------+-----------+-----------------+--------------+------+--------------+----------------+---------------+------------+--------------------+-----+--------+--------+---------+-------------+--------------+----+\n",
            "only showing top 20 rows\n",
            "\n"
          ]
        }
      ]
    },
    {
      "cell_type": "code",
      "source": [
        "# Reduced Data\n",
        "#selCols = ['Order ID','Order Date','Segment','Region','Category','Sales','Quantity','Profit']\n",
        "selCols = ['year','segment','region','category','sales','quantity','profit']\n",
        "#df9C = spark9.read.parquet('Orders2.parquet',inferSchema=True,header = True, quote = '\"').select('Order ID','Order Date','Segment','Region','Category','Sales','Quantity','Profit')\n",
        "sdf9C = spark9.read.parquet('Orders2.parquet',inferSchema=True,header = True, quote = '\"').select(selCols)\n",
        "#df9.dtypes\n",
        "sdf9C.dtypes"
      ],
      "metadata": {
        "id": "H6ZmYNyZ2OpI",
        "outputId": "05f19a34-98fd-445a-8756-e3481c165499",
        "colab": {
          "base_uri": "https://localhost:8080/"
        }
      },
      "execution_count": 122,
      "outputs": [
        {
          "output_type": "execute_result",
          "data": {
            "text/plain": [
              "[('year', 'string'),\n",
              " ('segment', 'string'),\n",
              " ('region', 'string'),\n",
              " ('category', 'string'),\n",
              " ('sales', 'bigint'),\n",
              " ('quantity', 'bigint'),\n",
              " ('profit', 'double')]"
            ]
          },
          "metadata": {},
          "execution_count": 122
        }
      ]
    },
    {
      "cell_type": "code",
      "source": [
        "# remove , and \" from data\n",
        "#import pandas as pd\n",
        "#p_df = pd.read_csv('SSdatafile.csv')\n",
        "#p_df = pd.read_csv('datafile.csv')\n",
        "#p_df2 = p_df.replace(',', ' ', regex=True)\n",
        "#p_df3 = p_df2.replace('\"', '', regex=True)\n",
        "#p_df3.to_csv('SSdatafile2.csv',index=False,sep=',')\n",
        "#!head SSdatafile2.csv"
      ],
      "metadata": {
        "id": "aWuZjTdbTRcX"
      },
      "execution_count": null,
      "outputs": []
    },
    {
      "cell_type": "markdown",
      "source": [
        "##Spark SQL"
      ],
      "metadata": {
        "id": "UohoFsuOW2an"
      }
    },
    {
      "cell_type": "code",
      "source": [
        "spark9.sql(\"show databases\").show()"
      ],
      "metadata": {
        "colab": {
          "base_uri": "https://localhost:8080/"
        },
        "id": "HJpRU8A4W5L2",
        "outputId": "01651175-6326-4570-bf56-e94e766417af"
      },
      "execution_count": 123,
      "outputs": [
        {
          "output_type": "stream",
          "name": "stdout",
          "text": [
            "+---------+\n",
            "|namespace|\n",
            "+---------+\n",
            "|  default|\n",
            "+---------+\n",
            "\n"
          ]
        }
      ]
    },
    {
      "cell_type": "code",
      "source": [
        "#air_quality_sdf.createOrReplaceTempView(\"air_quality_sdf\")\n",
        "sdf9C.createOrReplaceTempView(\"orders_temp\")"
      ],
      "metadata": {
        "id": "YJAmrs8vXN5Z"
      },
      "execution_count": 124,
      "outputs": []
    },
    {
      "cell_type": "code",
      "source": [
        "spark9.sql(\"show tables\").show()"
      ],
      "metadata": {
        "colab": {
          "base_uri": "https://localhost:8080/"
        },
        "id": "Sw8cCE8kXce3",
        "outputId": "da0c6308-ba71-4b90-8855-a6d45cb3bf4e"
      },
      "execution_count": 125,
      "outputs": [
        {
          "output_type": "stream",
          "name": "stdout",
          "text": [
            "+---------+-----------+-----------+\n",
            "|namespace|  tableName|isTemporary|\n",
            "+---------+-----------+-----------+\n",
            "|         |orders_temp|       true|\n",
            "+---------+-----------+-----------+\n",
            "\n"
          ]
        }
      ]
    },
    {
      "cell_type": "code",
      "source": [
        "spark9.sql(\"desc orders_temp\").show()"
      ],
      "metadata": {
        "colab": {
          "base_uri": "https://localhost:8080/"
        },
        "id": "ZWRpROJD1G9q",
        "outputId": "76d95a01-52cf-4b7e-eaf1-321b1fe8b103"
      },
      "execution_count": 126,
      "outputs": [
        {
          "output_type": "stream",
          "name": "stdout",
          "text": [
            "+--------+---------+-------+\n",
            "|col_name|data_type|comment|\n",
            "+--------+---------+-------+\n",
            "|    year|   string|   NULL|\n",
            "| segment|   string|   NULL|\n",
            "|  region|   string|   NULL|\n",
            "|category|   string|   NULL|\n",
            "|   sales|   bigint|   NULL|\n",
            "|quantity|   bigint|   NULL|\n",
            "|  profit|   double|   NULL|\n",
            "+--------+---------+-------+\n",
            "\n"
          ]
        }
      ]
    },
    {
      "cell_type": "code",
      "source": [
        "spark9.sql('select * from Orders_Temp limit 5').show()"
      ],
      "metadata": {
        "colab": {
          "base_uri": "https://localhost:8080/"
        },
        "id": "erd8GWmyZeUl",
        "outputId": "1612800e-1c37-40ca-dbf5-755789f73501"
      },
      "execution_count": 127,
      "outputs": [
        {
          "output_type": "stream",
          "name": "stdout",
          "text": [
            "+----+-----------+-------+---------------+-----+--------+-------+\n",
            "|year|    segment| region|       category|sales|quantity| profit|\n",
            "+----+-----------+-------+---------------+-----+--------+-------+\n",
            "|2011|   Consumer| Africa|Office Supplies|  408|       2| 106.14|\n",
            "|2011|   Consumer|Oceania|Office Supplies|  120|       3| 36.036|\n",
            "|2011|   Consumer|   EMEA|Office Supplies|   66|       4|  29.64|\n",
            "|2011|Home Office|  North|Office Supplies|   45|       3|-26.055|\n",
            "|2011|   Consumer|Oceania|      Furniture|  114|       5|  37.77|\n",
            "+----+-----------+-------+---------------+-----+--------+-------+\n",
            "\n"
          ]
        }
      ]
    },
    {
      "cell_type": "code",
      "source": [
        "sql_drop_table = \"\"\"\n",
        "drop table if exists praxisdb.sh_orders\n",
        "\"\"\"\n",
        "\n",
        "sql_drop_database = \"\"\"\n",
        "drop database if exists praxisdb cascade\n",
        "\"\"\"\n",
        "\n",
        "sql_create_database = \"\"\"\n",
        "create database if not exists praxisdb\n",
        "location '/content/praxisdb/'\n",
        "\"\"\"\n",
        "\n",
        "sql_create_table = \"\"\"\n",
        "create table if not exists praxisdb.sh_orders\n",
        "using parquet\n",
        "as select  * from Orders_Temp\n",
        "\"\"\"\n",
        "\n",
        "#as select to_timestamp(date) as date_parsed, *\n",
        "\n",
        "print(\"dropping database...\")\n",
        "result_drop_db = spark9.sql(sql_drop_database)\n",
        "\n",
        "print(\"creating database...\")\n",
        "result_create_db = spark9.sql(sql_create_database)\n",
        "\n",
        "print(\"dropping table...\")\n",
        "result_droptable = spark9.sql(sql_drop_table)\n",
        "\n",
        "print(\"creating table...\")\n",
        "result_create_table = spark9.sql(sql_create_table)"
      ],
      "metadata": {
        "colab": {
          "base_uri": "https://localhost:8080/"
        },
        "id": "M5acfAuTX12d",
        "outputId": "d7bbb888-6913-4852-dea8-3ad96f4f0580"
      },
      "execution_count": 128,
      "outputs": [
        {
          "output_type": "stream",
          "name": "stdout",
          "text": [
            "dropping database...\n",
            "creating database...\n",
            "dropping table...\n",
            "creating table...\n"
          ]
        }
      ]
    },
    {
      "cell_type": "code",
      "source": [
        "spark9.sql(\"use praxisdb\")\n",
        "spark9.sql(\"show tables\").show()"
      ],
      "metadata": {
        "colab": {
          "base_uri": "https://localhost:8080/"
        },
        "id": "q8-a8JFQ1iaN",
        "outputId": "90997fbb-8878-433d-c0ab-350e06421bea"
      },
      "execution_count": 129,
      "outputs": [
        {
          "output_type": "stream",
          "name": "stdout",
          "text": [
            "+---------+-----------+-----------+\n",
            "|namespace|  tableName|isTemporary|\n",
            "+---------+-----------+-----------+\n",
            "| praxisdb|  sh_orders|      false|\n",
            "|         |orders_temp|       true|\n",
            "+---------+-----------+-----------+\n",
            "\n"
          ]
        }
      ]
    },
    {
      "cell_type": "code",
      "source": [
        "spark9.sql(\"select * from praxisdb.sh_orders\").show(5)\n",
        "#.select(\"date_parsed\", \"O_3\").show(5)"
      ],
      "metadata": {
        "colab": {
          "base_uri": "https://localhost:8080/"
        },
        "id": "8Sry26x0ewZD",
        "outputId": "789ae381-1cec-44a2-a26b-e7a1ede39e54"
      },
      "execution_count": 130,
      "outputs": [
        {
          "output_type": "stream",
          "name": "stdout",
          "text": [
            "+----+-----------+-------+---------------+-----+--------+-------+\n",
            "|year|    segment| region|       category|sales|quantity| profit|\n",
            "+----+-----------+-------+---------------+-----+--------+-------+\n",
            "|2011|   Consumer| Africa|Office Supplies|  408|       2| 106.14|\n",
            "|2011|   Consumer|Oceania|Office Supplies|  120|       3| 36.036|\n",
            "|2011|   Consumer|   EMEA|Office Supplies|   66|       4|  29.64|\n",
            "|2011|Home Office|  North|Office Supplies|   45|       3|-26.055|\n",
            "|2011|   Consumer|Oceania|      Furniture|  114|       5|  37.77|\n",
            "+----+-----------+-------+---------------+-----+--------+-------+\n",
            "only showing top 5 rows\n",
            "\n"
          ]
        }
      ]
    },
    {
      "cell_type": "code",
      "source": [
        "spark9.sql(\"select distinct(region) from praxisdb.sh_orders\").show()"
      ],
      "metadata": {
        "colab": {
          "base_uri": "https://localhost:8080/"
        },
        "id": "svK5YReA4RWc",
        "outputId": "ec759ac6-296e-4fad-ab81-8ebe04b260a1"
      },
      "execution_count": 131,
      "outputs": [
        {
          "output_type": "stream",
          "name": "stdout",
          "text": [
            "+--------------+\n",
            "|        region|\n",
            "+--------------+\n",
            "|        Africa|\n",
            "|    North Asia|\n",
            "|  Central Asia|\n",
            "|         South|\n",
            "|     Caribbean|\n",
            "|       Central|\n",
            "|          East|\n",
            "|       Oceania|\n",
            "|        Canada|\n",
            "|          West|\n",
            "|          EMEA|\n",
            "|Southeast Asia|\n",
            "|         North|\n",
            "+--------------+\n",
            "\n"
          ]
        }
      ]
    },
    {
      "cell_type": "markdown",
      "source": [
        "##CrossTab"
      ],
      "metadata": {
        "id": "XaxGELk3N5V_"
      }
    },
    {
      "cell_type": "markdown",
      "source": [
        "###Inner Query"
      ],
      "metadata": {
        "id": "sjjeWzk3PN29"
      }
    },
    {
      "cell_type": "code",
      "source": [
        "sums_df = spark9.sql(\"\"\"\n",
        "    SELECT\n",
        "        Segment,\n",
        "        SUM(IF(Region='Africa',Sales,0)) As Africa,\n",
        "        SUM(IF(Region='North Asia',Sales,0)) As North_Asia,\n",
        "        SUM(IF(Region='Central Asia',Sales,0)) As Central_Asia,\n",
        "        SUM(IF(Region='Caribbean',Sales,0)) As Caribbean,\n",
        "        SUM(IF(Region='Oceania',Sales,0)) As Oceania,\n",
        "        SUM(IF(Region='Canada',Sales,0)) As Canada,\n",
        "        SUM(IF(Region='EMEA',Sales,0)) As EMEA,\n",
        "        SUM(IF(Region='South East Asia',Sales,0)) As SE_Asia,\n",
        "        SUM(IF(Region='Central',Sales,0)) As Central,\n",
        "        SUM(IF(Region='East',Sales,0)) As East,\n",
        "        SUM(IF(Region='West',Sales,0)) As West,\n",
        "        SUM(IF(Region='North',Sales,0)) As North,\n",
        "        SUM(IF(Region='South',Sales,0)) As South\n",
        "    FROM praxisdb.sh_orders\n",
        "        GROUP BY Segment WITH ROLLUP\n",
        "\"\"\")\n",
        "sums_df.show()"
      ],
      "metadata": {
        "id": "QBp2ajeuN7b4",
        "outputId": "28b37329-cdf0-403b-9122-39cc528b8a82",
        "colab": {
          "base_uri": "https://localhost:8080/"
        }
      },
      "execution_count": 132,
      "outputs": [
        {
          "output_type": "stream",
          "name": "stdout",
          "text": [
            "+-----------+------+----------+------------+---------+-------+------+------+-------+-------+------+------+-------+-------+\n",
            "|    Segment|Africa|North_Asia|Central_Asia|Caribbean|Oceania|Canada|  EMEA|SE_Asia|Central|  East|  West|  North|  South|\n",
            "+-----------+------+----------+------------+---------+-------+------+------+-------+-------+------+------+-------+-------+\n",
            "|Home Office|155077|    175177|      148235|    57395| 197812| 11896|148862|      0| 491961|127465|136736| 209996| 280016|\n",
            "|  Corporate|204948|    265762|      235552|   104535| 322831| 19319|250559|      0| 850405|200422|225870| 394220| 496029|\n",
            "|       NULL|783776|    848349|      752839|   324281|1100207| 66932|806184|      0|2822399|678834|725514|1248192|1600960|\n",
            "|   Consumer|423751|    407410|      369052|   162351| 579564| 35717|406763|      0|1480033|350947|362908| 643976| 824915|\n",
            "+-----------+------+----------+------------+---------+-------+------+------+-------+-------+------+------+-------+-------+\n",
            "\n"
          ]
        }
      ]
    },
    {
      "cell_type": "markdown",
      "source": [
        "###Outer Query"
      ],
      "metadata": {
        "id": "aDUG_YC9PT5u"
      }
    },
    {
      "cell_type": "code",
      "source": [
        "#sums_df.registerTempTable(\"sums\")\n",
        "sums_df.createOrReplaceTempView(\"sums_T\")\n",
        "#CrossTab = sqlContext.sql(\"\"\"\n",
        "CrossTab = spark9.sql(\"\"\"\n",
        " SELECT\n",
        "  IFNULL(Segment,'#Totals') Dims,\n",
        "  Africa,North_Asia,Central_Asia,Caribbean,\n",
        "  Oceania,Canada,EMEA,SE_Asia,\n",
        "  Central,East,West,South,\n",
        "  Africa +North_Asia + Central_Asia+ Caribbean + Oceania + Canada+EMEA + SE_Asia + Central + East + West + South Totals\n",
        "FROM sums_t\n",
        "order by Dims desc\n",
        "\"\"\")\n",
        "CrossTab.show()"
      ],
      "metadata": {
        "id": "WMCG5b9uOXXc",
        "outputId": "d826147a-25c0-44a2-8dbd-a5c97bf2a505",
        "colab": {
          "base_uri": "https://localhost:8080/"
        }
      },
      "execution_count": 133,
      "outputs": [
        {
          "output_type": "stream",
          "name": "stdout",
          "text": [
            "+-----------+------+----------+------------+---------+-------+------+------+-------+-------+------+------+-------+--------+\n",
            "|       Dims|Africa|North_Asia|Central_Asia|Caribbean|Oceania|Canada|  EMEA|SE_Asia|Central|  East|  West|  South|  Totals|\n",
            "+-----------+------+----------+------------+---------+-------+------+------+-------+-------+------+------+-------+--------+\n",
            "|Home Office|155077|    175177|      148235|    57395| 197812| 11896|148862|      0| 491961|127465|136736| 280016| 1930632|\n",
            "|  Corporate|204948|    265762|      235552|   104535| 322831| 19319|250559|      0| 850405|200422|225870| 496029| 3176232|\n",
            "|   Consumer|423751|    407410|      369052|   162351| 579564| 35717|406763|      0|1480033|350947|362908| 824915| 5403411|\n",
            "|    #Totals|783776|    848349|      752839|   324281|1100207| 66932|806184|      0|2822399|678834|725514|1600960|10510275|\n",
            "+-----------+------+----------+------------+---------+-------+------+------+-------+-------+------+------+-------+--------+\n",
            "\n"
          ]
        }
      ]
    },
    {
      "cell_type": "markdown",
      "source": [
        "###Using Subquery"
      ],
      "metadata": {
        "id": "xHrQ3ESOPXrW"
      }
    },
    {
      "cell_type": "code",
      "source": [
        "CrossTab2 = spark9.sql(\"\"\"\n",
        " SELECT\n",
        "  IFNULL(Segment,'#Totals') Dims,\n",
        "  Africa,North_Asia,Central_Asia,Caribbean,\n",
        "  Oceania,Canada,EMEA,SE_Asia,\n",
        "  Central,East,West,South,\n",
        "  Africa +North_Asia + Central_Asia+ Caribbean + Oceania + Canada+EMEA + SE_Asia + Central + East + West + South Totals\n",
        "FROM (\n",
        "SELECT\n",
        "        Segment,\n",
        "        SUM(IF(Region='Africa',Sales,0)) As Africa,\n",
        "        SUM(IF(Region='North Asia',Sales,0)) As North_Asia,\n",
        "        SUM(IF(Region='Central Asia',Sales,0)) As Central_Asia,\n",
        "        SUM(IF(Region='Caribbean',Sales,0)) As Caribbean,\n",
        "        SUM(IF(Region='Oceania',Sales,0)) As Oceania,\n",
        "        SUM(IF(Region='Canada',Sales,0)) As Canada,\n",
        "        SUM(IF(Region='EMEA',Sales,0)) As EMEA,\n",
        "        SUM(IF(Region='South East Asia',Sales,0)) As SE_Asia,\n",
        "        SUM(IF(Region='Central',Sales,0)) As Central,\n",
        "        SUM(IF(Region='East',Sales,0)) As East,\n",
        "        SUM(IF(Region='West',Sales,0)) As West,\n",
        "        SUM(IF(Region='North',Sales,0)) As North,\n",
        "        SUM(IF(Region='South',Sales,0)) As South\n",
        "    FROM praxisdb.sh_orders\n",
        "        GROUP BY Segment WITH ROLLUP\n",
        "    )\n",
        "as sums\n",
        "order by Dims desc\n",
        "\"\"\")\n",
        "CrossTab2.show()"
      ],
      "metadata": {
        "id": "m8rXXie3O5vG",
        "outputId": "be47458a-9f2b-4553-c744-15fd863193ae",
        "colab": {
          "base_uri": "https://localhost:8080/"
        }
      },
      "execution_count": 134,
      "outputs": [
        {
          "output_type": "stream",
          "name": "stdout",
          "text": [
            "+-----------+------+----------+------------+---------+-------+------+------+-------+-------+------+------+-------+--------+\n",
            "|       Dims|Africa|North_Asia|Central_Asia|Caribbean|Oceania|Canada|  EMEA|SE_Asia|Central|  East|  West|  South|  Totals|\n",
            "+-----------+------+----------+------------+---------+-------+------+------+-------+-------+------+------+-------+--------+\n",
            "|Home Office|155077|    175177|      148235|    57395| 197812| 11896|148862|      0| 491961|127465|136736| 280016| 1930632|\n",
            "|  Corporate|204948|    265762|      235552|   104535| 322831| 19319|250559|      0| 850405|200422|225870| 496029| 3176232|\n",
            "|   Consumer|423751|    407410|      369052|   162351| 579564| 35717|406763|      0|1480033|350947|362908| 824915| 5403411|\n",
            "|    #Totals|783776|    848349|      752839|   324281|1100207| 66932|806184|      0|2822399|678834|725514|1600960|10510275|\n",
            "+-----------+------+----------+------------+---------+-------+------+------+-------+-------+------+------+-------+--------+\n",
            "\n"
          ]
        }
      ]
    },
    {
      "cell_type": "code",
      "source": [
        "spark9.sql(\"select distinct(year) from praxisdb.sh_orders\").show()"
      ],
      "metadata": {
        "colab": {
          "base_uri": "https://localhost:8080/"
        },
        "id": "nyJ9DKyFEcjC",
        "outputId": "de411f32-4df5-480e-88a7-3142705d2731"
      },
      "execution_count": 135,
      "outputs": [
        {
          "output_type": "stream",
          "name": "stdout",
          "text": [
            "+----+\n",
            "|year|\n",
            "+----+\n",
            "|2012|\n",
            "|2014|\n",
            "|2013|\n",
            "|2011|\n",
            "+----+\n",
            "\n"
          ]
        }
      ]
    },
    {
      "cell_type": "code",
      "source": [
        "CrossTab2 = spark9.sql(\"\"\"\n",
        " SELECT\n",
        "  IFNULL(Category,'#Totals') Dims,\n",
        "  Y2011,Y2012,Y2013,Y2014,Y2011+Y2012+Y2013+Y2014 Totals\n",
        "FROM (\n",
        "SELECT\n",
        "        Category,\n",
        "        SUM(IF(Year='2011',Sales,0)) As Y2011,\n",
        "        SUM(IF(Year='2012',Sales,0)) As Y2012,\n",
        "        SUM(IF(Year='2013',Sales,0)) As Y2013,\n",
        "        SUM(IF(Year='2014',Sales,0)) As Y2014\n",
        "    FROM praxisdb.sh_orders\n",
        "        GROUP BY Category WITH ROLLUP\n",
        "    )\n",
        "as sums\n",
        "order by Dims desc\n",
        "\"\"\")\n",
        "CrossTab2.show()"
      ],
      "metadata": {
        "colab": {
          "base_uri": "https://localhost:8080/"
        },
        "id": "PbYB9DfbEpqs",
        "outputId": "1e46144c-c48f-484f-9367-716bf11e089e"
      },
      "execution_count": 136,
      "outputs": [
        {
          "output_type": "stream",
          "name": "stdout",
          "text": [
            "+---------------+-------+-------+-------+-------+--------+\n",
            "|           Dims|  Y2011|  Y2012|  Y2013|  Y2014|  Totals|\n",
            "+---------------+-------+-------+-------+-------+--------+\n",
            "|     Technology| 827698|1023467|1277328|1616198| 4744691|\n",
            "|Office Supplies| 675642| 795113|1010793|1305782| 3787330|\n",
            "|      Furniture| 756171| 858913|1117739|1378061| 4110884|\n",
            "|        #Totals|2259511|2677493|3405860|4300041|12642905|\n",
            "+---------------+-------+-------+-------+-------+--------+\n",
            "\n"
          ]
        }
      ]
    },
    {
      "cell_type": "markdown",
      "source": [
        "#Parquet to Pandas again"
      ],
      "metadata": {
        "id": "Y_fgdOf1f8UJ"
      }
    },
    {
      "cell_type": "code",
      "source": [
        "!ls /content/praxisdb/sh_orders"
      ],
      "metadata": {
        "id": "G0h1dfNq6xz0",
        "outputId": "2bf6b727-8cdf-4d3a-e6ab-294b46a774c2",
        "colab": {
          "base_uri": "https://localhost:8080/"
        }
      },
      "execution_count": 137,
      "outputs": [
        {
          "output_type": "stream",
          "name": "stdout",
          "text": [
            "part-00000-bd4d2673-7709-48ad-8787-f4e5deaac456-c000.snappy.parquet  _SUCCESS\n"
          ]
        }
      ]
    },
    {
      "cell_type": "code",
      "source": [
        "df7 = pd.read_parquet('/content/praxisdb/sh_orders/part-00000-bd4d2673-7709-48ad-8787-f4e5deaac456-c000.snappy.parquet')\n",
        "df7.info()"
      ],
      "metadata": {
        "id": "uN5l6Tm3gAMW",
        "outputId": "a09bb50d-540d-44fb-d474-1d14760db64c",
        "colab": {
          "base_uri": "https://localhost:8080/"
        }
      },
      "execution_count": 138,
      "outputs": [
        {
          "output_type": "stream",
          "name": "stdout",
          "text": [
            "<class 'pandas.core.frame.DataFrame'>\n",
            "RangeIndex: 51290 entries, 0 to 51289\n",
            "Data columns (total 7 columns):\n",
            " #   Column    Non-Null Count  Dtype  \n",
            "---  ------    --------------  -----  \n",
            " 0   year      51290 non-null  object \n",
            " 1   segment   51290 non-null  object \n",
            " 2   region    51290 non-null  object \n",
            " 3   category  51290 non-null  object \n",
            " 4   sales     51290 non-null  int64  \n",
            " 5   quantity  51290 non-null  int64  \n",
            " 6   profit    51290 non-null  float64\n",
            "dtypes: float64(1), int64(2), object(4)\n",
            "memory usage: 2.7+ MB\n"
          ]
        }
      ]
    },
    {
      "cell_type": "markdown",
      "source": [
        "#Second Spark"
      ],
      "metadata": {
        "id": "fpLbR74Y_sPg"
      }
    },
    {
      "cell_type": "code",
      "source": [
        "spark39 = SparkSession.builder.master(\"local[*]\").config('spark.ui.port', '4050').getOrCreate()\n",
        "target_parquet = 'Orders2.parquet'\n",
        "sdf39B = spark39.read.parquet(target_parquet, inferSchema=True,header = True, quote = '\"')\n",
        "sdf39B.dtypes"
      ],
      "metadata": {
        "colab": {
          "base_uri": "https://localhost:8080/"
        },
        "id": "a9kM7DAb_uND",
        "outputId": "444c4e90-3cf7-401a-860d-efd6d41586d7"
      },
      "execution_count": 139,
      "outputs": [
        {
          "output_type": "execute_result",
          "data": {
            "text/plain": [
              "[('order_id', 'string'),\n",
              " ('order_date', 'bigint'),\n",
              " ('ship_date', 'bigint'),\n",
              " ('ship_mode', 'string'),\n",
              " ('customer_name', 'string'),\n",
              " ('segment', 'string'),\n",
              " ('state', 'string'),\n",
              " ('country', 'string'),\n",
              " ('market', 'string'),\n",
              " ('region', 'string'),\n",
              " ('product_id', 'string'),\n",
              " ('category', 'string'),\n",
              " ('sub_category', 'string'),\n",
              " ('product_name', 'string'),\n",
              " ('sales', 'bigint'),\n",
              " ('quantity', 'bigint'),\n",
              " ('discount', 'double'),\n",
              " ('profit', 'double'),\n",
              " ('shipping_cost', 'double'),\n",
              " ('order_priority', 'string'),\n",
              " ('year', 'string')]"
            ]
          },
          "metadata": {},
          "execution_count": 139
        }
      ]
    },
    {
      "cell_type": "code",
      "source": [
        "sdf39B.repartition(2).write.mode('overwrite').parquet('wpart/Orders239')"
      ],
      "metadata": {
        "id": "m8KeA0aDNigI"
      },
      "execution_count": 140,
      "outputs": []
    },
    {
      "cell_type": "code",
      "source": [
        "spark39.sql('show databases').show()"
      ],
      "metadata": {
        "colab": {
          "base_uri": "https://localhost:8080/"
        },
        "id": "6tOCOrAAN6tl",
        "outputId": "78f774a9-a186-44a0-a007-8c1689103cee"
      },
      "execution_count": 141,
      "outputs": [
        {
          "output_type": "stream",
          "name": "stdout",
          "text": [
            "+---------+\n",
            "|namespace|\n",
            "+---------+\n",
            "|  default|\n",
            "| praxisdb|\n",
            "+---------+\n",
            "\n"
          ]
        }
      ]
    },
    {
      "cell_type": "markdown",
      "metadata": {
        "id": "xnF14kOqtVSi"
      },
      "source": [
        "#Chronobooks <br>\n",
        "![alt text](https://1.bp.blogspot.com/-lTiYBkU2qbU/X1er__fvnkI/AAAAAAAAjtE/GhDR3OEGJr4NG43fZPodrQD5kbxtnKebgCLcBGAsYHQ/s600/Footer2020-600x200.png)<hr>\n",
        "Chronotantra and Chronoyantra are two science fiction novels that explore the collapse of human civilisation on Earth and then its rebirth and reincarnation both on Earth as well as on the distant worlds of Mars, Titan and Enceladus. But is it the human civilisation that is being reborn? Or is it some other sentience that is revealing itself.\n",
        "If you have an interest in AI and found this material useful, you may consider buying these novels, in paperback or kindle, from [http://bit.ly/chronobooks](http://bit.ly/chronobooks)"
      ]
    },
    {
      "cell_type": "markdown",
      "source": [
        "# Multiple Spark Contexts\n",
        "https://medium.com/@achilleus/spark-session-10d0d66d1d24"
      ],
      "metadata": {
        "id": "N5kSfWdrVElM"
      }
    },
    {
      "cell_type": "code",
      "source": [
        "spark9"
      ],
      "metadata": {
        "id": "p1ZOPEPfUM6X",
        "outputId": "613438c7-f103-40b5-d6db-8a61ff8afb6d",
        "colab": {
          "base_uri": "https://localhost:8080/",
          "height": 219
        }
      },
      "execution_count": 142,
      "outputs": [
        {
          "output_type": "execute_result",
          "data": {
            "text/plain": [
              "<pyspark.sql.session.SparkSession at 0x7cb957c82a10>"
            ],
            "text/html": [
              "\n",
              "            <div>\n",
              "                <p><b>SparkSession - in-memory</b></p>\n",
              "                \n",
              "        <div>\n",
              "            <p><b>SparkContext</b></p>\n",
              "\n",
              "            <p><a href=\"http://c7282ea44fa9:4050\">Spark UI</a></p>\n",
              "\n",
              "            <dl>\n",
              "              <dt>Version</dt>\n",
              "                <dd><code>v3.5.1</code></dd>\n",
              "              <dt>Master</dt>\n",
              "                <dd><code>local[*]</code></dd>\n",
              "              <dt>AppName</dt>\n",
              "                <dd><code>pyspark-shell</code></dd>\n",
              "            </dl>\n",
              "        </div>\n",
              "        \n",
              "            </div>\n",
              "        "
            ]
          },
          "metadata": {},
          "execution_count": 142
        }
      ]
    },
    {
      "cell_type": "code",
      "source": [
        "spark39"
      ],
      "metadata": {
        "id": "o6tuQFW9UpNG",
        "outputId": "042f3c1f-5560-41a1-fefc-59ac3c0ea385",
        "colab": {
          "base_uri": "https://localhost:8080/",
          "height": 219
        }
      },
      "execution_count": 143,
      "outputs": [
        {
          "output_type": "execute_result",
          "data": {
            "text/plain": [
              "<pyspark.sql.session.SparkSession at 0x7cb957c82a10>"
            ],
            "text/html": [
              "\n",
              "            <div>\n",
              "                <p><b>SparkSession - in-memory</b></p>\n",
              "                \n",
              "        <div>\n",
              "            <p><b>SparkContext</b></p>\n",
              "\n",
              "            <p><a href=\"http://c7282ea44fa9:4050\">Spark UI</a></p>\n",
              "\n",
              "            <dl>\n",
              "              <dt>Version</dt>\n",
              "                <dd><code>v3.5.1</code></dd>\n",
              "              <dt>Master</dt>\n",
              "                <dd><code>local[*]</code></dd>\n",
              "              <dt>AppName</dt>\n",
              "                <dd><code>pyspark-shell</code></dd>\n",
              "            </dl>\n",
              "        </div>\n",
              "        \n",
              "            </div>\n",
              "        "
            ]
          },
          "metadata": {},
          "execution_count": 143
        }
      ]
    }
  ]
}