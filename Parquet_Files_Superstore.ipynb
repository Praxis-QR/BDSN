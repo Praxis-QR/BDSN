{
  "nbformat": 4,
  "nbformat_minor": 0,
  "metadata": {
    "colab": {
      "provenance": [],
      "include_colab_link": true
    },
    "kernelspec": {
      "name": "python3",
      "display_name": "Python 3"
    },
    "language_info": {
      "name": "python"
    }
  },
  "cells": [
    {
      "cell_type": "markdown",
      "metadata": {
        "id": "view-in-github",
        "colab_type": "text"
      },
      "source": [
        "<a href=\"https://colab.research.google.com/github/Praxis-QR/BDSN/blob/main/Parquet_Files_Superstore.ipynb\" target=\"_parent\"><img src=\"https://colab.research.google.com/assets/colab-badge.svg\" alt=\"Open In Colab\"/></a>"
      ]
    },
    {
      "cell_type": "markdown",
      "metadata": {
        "id": "z7Rb-Atviw9f"
      },
      "source": [
        "![alt text](https://github.com/Praxis-QR/RDWH/raw/main/images/YantraJaalBanner.png)<br>\n",
        "\n",
        "\n",
        "<hr>\n",
        "\n",
        "[Prithwis Mukerjee](http://www.linkedin.com/in/prithwis)<br>"
      ]
    },
    {
      "cell_type": "code",
      "source": [
        "from datetime import datetime\n",
        "import pytz\n",
        "print('ॐ श्री सरस्वत्यै नमः',datetime.now(pytz.timezone('Asia/Calcutta')))\n",
        "!python --version\n",
        "!lsb_release -a"
      ],
      "metadata": {
        "colab": {
          "base_uri": "https://localhost:8080/"
        },
        "id": "Why176oMua9Y",
        "outputId": "1bc071c8-e8ff-4351-f602-c59495e06ab4"
      },
      "execution_count": 1,
      "outputs": [
        {
          "output_type": "stream",
          "name": "stdout",
          "text": [
            "ॐ श्री सरस्वत्यै नमः 2023-09-12 13:02:52.952146+05:30\n",
            "Python 3.10.12\n",
            "No LSB modules are available.\n",
            "Distributor ID:\tUbuntu\n",
            "Description:\tUbuntu 22.04.2 LTS\n",
            "Release:\t22.04\n",
            "Codename:\tjammy\n"
          ]
        }
      ]
    },
    {
      "cell_type": "code",
      "source": [
        "import numpy as np\n",
        "import pandas as pd\n",
        "import pyarrow.csv as pv\n",
        "import pyarrow.parquet as pq"
      ],
      "metadata": {
        "id": "EQCfWBLcTU3N"
      },
      "execution_count": 2,
      "outputs": []
    },
    {
      "cell_type": "markdown",
      "metadata": {
        "id": "EangLEFRBHZW"
      },
      "source": [
        "#SuperStore Data\n",
        "Super Store Order Data https://drive.google.com/file/d/13MKOpo8iD-tMkeMLw-4IPFi5-xWhmqFZ/view?usp=sharing <br>\n",
        "Original Data from [Tableau](https://community.tableau.com/docs/DOC-1236)"
      ]
    },
    {
      "cell_type": "code",
      "metadata": {
        "id": "VAodtiYwA9Rs"
      },
      "source": [
        "#!wget -O SS_Orders2.csv 'https://drive.google.com/uc?export=download&id=13MKOpo8iD-tMkeMLw-4IPFi5-xWhmqFZ'\n",
        "#!gdown https://drive.google.com/uc?id=13MKOpo8iD-tMkeMLw-4IPFi5-xWhmqFZ\n",
        "#!wget -q -O Orders.csv 'https://raw.githubusercontent.com/Praxis-QR/RDWH/main/data/SS_Orders.csv'\n",
        "!wget -q -O Orders.zip 'https://github.com/Praxis-QR/PythonForManagers/raw/main/Data/SuperStoreSalesKaggle.zip'"
      ],
      "execution_count": 3,
      "outputs": []
    },
    {
      "cell_type": "code",
      "source": [
        "#!tail Orders.csv"
      ],
      "metadata": {
        "id": "tqgtKH49nGT6"
      },
      "execution_count": 4,
      "outputs": []
    },
    {
      "cell_type": "code",
      "source": [],
      "metadata": {
        "id": "Wr5Bo76rThpi"
      },
      "execution_count": 4,
      "outputs": []
    },
    {
      "cell_type": "markdown",
      "source": [
        "#Read CSV into Pandas Dataframe"
      ],
      "metadata": {
        "id": "jHuJBiouu2cU"
      }
    },
    {
      "cell_type": "code",
      "metadata": {
        "id": "ScQV9OQSCVEi"
      },
      "source": [
        "#df = pd.read_csv('Orders.csv', delimiter = ',')\n",
        "df = pd.read_csv('Orders.zip', delimiter = ',')\n",
        "#df.head(2)"
      ],
      "execution_count": 5,
      "outputs": []
    },
    {
      "cell_type": "code",
      "source": [
        "# order_date, ship_date, sales have been incorrectly formatted as string\n",
        "# year has been incorrectly formatted as integer\n",
        "df.info()\n",
        "#df.dtypes"
      ],
      "metadata": {
        "colab": {
          "base_uri": "https://localhost:8080/"
        },
        "id": "2fTG20UZswZc",
        "outputId": "8ad3b757-469f-4bb1-9570-0349dd51824e"
      },
      "execution_count": 6,
      "outputs": [
        {
          "output_type": "stream",
          "name": "stdout",
          "text": [
            "<class 'pandas.core.frame.DataFrame'>\n",
            "RangeIndex: 51290 entries, 0 to 51289\n",
            "Data columns (total 21 columns):\n",
            " #   Column          Non-Null Count  Dtype  \n",
            "---  ------          --------------  -----  \n",
            " 0   order_id        51290 non-null  object \n",
            " 1   order_date      51290 non-null  object \n",
            " 2   ship_date       51290 non-null  object \n",
            " 3   ship_mode       51290 non-null  object \n",
            " 4   customer_name   51290 non-null  object \n",
            " 5   segment         51290 non-null  object \n",
            " 6   state           51290 non-null  object \n",
            " 7   country         51290 non-null  object \n",
            " 8   market          51290 non-null  object \n",
            " 9   region          51290 non-null  object \n",
            " 10  product_id      51290 non-null  object \n",
            " 11  category        51290 non-null  object \n",
            " 12  sub_category    51290 non-null  object \n",
            " 13  product_name    51290 non-null  object \n",
            " 14  sales           51290 non-null  object \n",
            " 15  quantity        51290 non-null  int64  \n",
            " 16  discount        51290 non-null  float64\n",
            " 17  profit          51290 non-null  float64\n",
            " 18  shipping_cost   51290 non-null  float64\n",
            " 19  order_priority  51290 non-null  object \n",
            " 20  year            51290 non-null  int64  \n",
            "dtypes: float64(3), int64(2), object(16)\n",
            "memory usage: 8.2+ MB\n"
          ]
        }
      ]
    },
    {
      "cell_type": "markdown",
      "source": [
        "##Comma, Double Quotes look good"
      ],
      "metadata": {
        "id": "pmDF9uiBtAMq"
      }
    },
    {
      "cell_type": "code",
      "source": [
        "#df.iloc[9993]['Product Name']\n",
        "df.iloc[9993]['product_name']"
      ],
      "metadata": {
        "colab": {
          "base_uri": "https://localhost:8080/",
          "height": 35
        },
        "id": "Oh4HJXhyn922",
        "outputId": "765126dd-dbf4-47a0-90d0-c1f764122355"
      },
      "execution_count": 7,
      "outputs": [
        {
          "output_type": "execute_result",
          "data": {
            "text/plain": [
              "'Boston Canvas, Water Color'"
            ],
            "application/vnd.google.colaboratory.intrinsic+json": {
              "type": "string"
            }
          },
          "metadata": {},
          "execution_count": 7
        }
      ]
    },
    {
      "cell_type": "code",
      "source": [
        "#df.iloc[9992]['Product Name']\n",
        "df.iloc[9992]['product_name']"
      ],
      "metadata": {
        "colab": {
          "base_uri": "https://localhost:8080/",
          "height": 35
        },
        "id": "BPtxISZmoyc4",
        "outputId": "ab65ba0a-13e0-48b9-b4cb-85fd9cdd938a"
      },
      "execution_count": 8,
      "outputs": [
        {
          "output_type": "execute_result",
          "data": {
            "text/plain": [
              "'Hon Racetrack Conference Tables'"
            ],
            "application/vnd.google.colaboratory.intrinsic+json": {
              "type": "string"
            }
          },
          "metadata": {},
          "execution_count": 8
        }
      ]
    },
    {
      "cell_type": "markdown",
      "source": [
        "## Sales, year needs to be fixed"
      ],
      "metadata": {
        "id": "MYPhzTf4tQ31"
      }
    },
    {
      "cell_type": "code",
      "source": [
        "#\n",
        "# df.sales has been automatically interpreted as string because of the presence of commma,\n",
        "# so replace comma and convert to numeric\n",
        "#\n",
        "\n",
        "df['sales'] = df['sales'].str.replace(',', '')    # replace , with blank\n",
        "df['sales'] = pd.to_numeric(df['sales'])          # convert column to numeric\n",
        "df['year'] = df['year'].astype(str)          # convert column to string"
      ],
      "metadata": {
        "id": "BO6g2Du1J79Q"
      },
      "execution_count": 9,
      "outputs": []
    },
    {
      "cell_type": "code",
      "source": [
        "#df.info()"
      ],
      "metadata": {
        "id": "mlVQ0phmuVW7"
      },
      "execution_count": 10,
      "outputs": []
    },
    {
      "cell_type": "markdown",
      "source": [
        "##Date looks Bad, need to be fixed"
      ],
      "metadata": {
        "id": "hKlP8WNwtGL-"
      }
    },
    {
      "cell_type": "code",
      "source": [
        "# what is the first and last order date ?\n",
        "# we have four years of data, but date format changes ...\n",
        "#df['Order Date'].describe\n",
        "df['order_date'].describe\n",
        "#df['ship_date'].describe"
      ],
      "metadata": {
        "colab": {
          "base_uri": "https://localhost:8080/"
        },
        "id": "HYtQGRWdte2k",
        "outputId": "cf932f73-a7c2-4a94-c371-bd06d6eae161"
      },
      "execution_count": 11,
      "outputs": [
        {
          "output_type": "execute_result",
          "data": {
            "text/plain": [
              "<bound method NDFrame.describe of 0          1/1/2011\n",
              "1          1/1/2011\n",
              "2          1/1/2011\n",
              "3          1/1/2011\n",
              "4          1/1/2011\n",
              "            ...    \n",
              "51285    31-12-2014\n",
              "51286    31-12-2014\n",
              "51287    31-12-2014\n",
              "51288    31-12-2014\n",
              "51289    31-12-2014\n",
              "Name: order_date, Length: 51290, dtype: object>"
            ]
          },
          "metadata": {},
          "execution_count": 11
        }
      ]
    },
    {
      "cell_type": "code",
      "source": [
        "# Some of the dates are string like dd/mm/yyyy while others are dd-mm-yyyy\n",
        "# this will cause problems in converting string to real dates\n",
        "# So we move all dd-mm-yyyy to dd/mm/yyyy -- could have been the other way round also\n",
        "#\n",
        "#df['Order Date'] = df['Order Date'].str.replace('-','/')\n",
        "#df['Ship Date'] = df['Ship Date'].str.replace('-','/')\n",
        "\n",
        "df['order_date'] = df['order_date'].str.replace('-','/')\n",
        "df['ship_date'] = df['ship_date'].str.replace('-','/')"
      ],
      "metadata": {
        "id": "JsqY2sc3tXEG"
      },
      "execution_count": 12,
      "outputs": []
    },
    {
      "cell_type": "code",
      "source": [
        "# convert all dates to dd/mm/yyyy format\n",
        "#\n",
        "df['ship_date'] = pd.to_datetime(df['ship_date'],format='%d/%m/%Y')\n",
        "df['order_date'] = pd.to_datetime(df['order_date'],format='%d/%m/%Y')\n",
        "#df['order_date'].describe"
      ],
      "metadata": {
        "id": "l-QvQYIfuCc_"
      },
      "execution_count": 13,
      "outputs": []
    },
    {
      "cell_type": "code",
      "source": [
        "df.info()"
      ],
      "metadata": {
        "colab": {
          "base_uri": "https://localhost:8080/"
        },
        "id": "xpy8UJc6uTnk",
        "outputId": "cc4c4513-dbf7-4d93-c3ac-58472e6e3b94"
      },
      "execution_count": 14,
      "outputs": [
        {
          "output_type": "stream",
          "name": "stdout",
          "text": [
            "<class 'pandas.core.frame.DataFrame'>\n",
            "RangeIndex: 51290 entries, 0 to 51289\n",
            "Data columns (total 21 columns):\n",
            " #   Column          Non-Null Count  Dtype         \n",
            "---  ------          --------------  -----         \n",
            " 0   order_id        51290 non-null  object        \n",
            " 1   order_date      51290 non-null  datetime64[ns]\n",
            " 2   ship_date       51290 non-null  datetime64[ns]\n",
            " 3   ship_mode       51290 non-null  object        \n",
            " 4   customer_name   51290 non-null  object        \n",
            " 5   segment         51290 non-null  object        \n",
            " 6   state           51290 non-null  object        \n",
            " 7   country         51290 non-null  object        \n",
            " 8   market          51290 non-null  object        \n",
            " 9   region          51290 non-null  object        \n",
            " 10  product_id      51290 non-null  object        \n",
            " 11  category        51290 non-null  object        \n",
            " 12  sub_category    51290 non-null  object        \n",
            " 13  product_name    51290 non-null  object        \n",
            " 14  sales           51290 non-null  int64         \n",
            " 15  quantity        51290 non-null  int64         \n",
            " 16  discount        51290 non-null  float64       \n",
            " 17  profit          51290 non-null  float64       \n",
            " 18  shipping_cost   51290 non-null  float64       \n",
            " 19  order_priority  51290 non-null  object        \n",
            " 20  year            51290 non-null  object        \n",
            "dtypes: datetime64[ns](2), float64(3), int64(2), object(14)\n",
            "memory usage: 8.2+ MB\n"
          ]
        }
      ]
    },
    {
      "cell_type": "code",
      "source": [
        "df.to_csv('Orders2.csv', index=False)"
      ],
      "metadata": {
        "id": "2fVSKQ7Mz9Jd"
      },
      "execution_count": 15,
      "outputs": []
    },
    {
      "cell_type": "markdown",
      "source": [
        "##Pandas Pivot Tables\n",
        "https://github.com/Praxis-QR/PythonForManagers/blob/main/Retail_Sales_Data_Analysis.ipynb"
      ],
      "metadata": {
        "id": "UjydnRiyGc2S"
      }
    },
    {
      "cell_type": "code",
      "source": [
        "#Create the pivot table\n",
        "CrossTab = pd.pivot_table(data=df,index='region',columns='segment',values='sales', aggfunc='sum', margins=True).copy()\n",
        "CrossTab"
      ],
      "metadata": {
        "colab": {
          "base_uri": "https://localhost:8080/",
          "height": 519
        },
        "id": "sYG__5va2yx3",
        "outputId": "e93ddd2a-b483-4d0b-a224-b9faf3365d5d"
      },
      "execution_count": 16,
      "outputs": [
        {
          "output_type": "execute_result",
          "data": {
            "text/plain": [
              "segment         Consumer  Corporate  Home Office       All\n",
              "region                                                    \n",
              "Africa            423751     204948       155077    783776\n",
              "Canada             35717      19319        11896     66932\n",
              "Caribbean         162351     104535        57395    324281\n",
              "Central          1480033     850405       491961   2822399\n",
              "Central Asia      369052     235552       148235    752839\n",
              "EMEA              406763     250559       148862    806184\n",
              "East              350947     200422       127465    678834\n",
              "North             643976     394220       209996   1248192\n",
              "North Asia        407410     265762       175177    848349\n",
              "Oceania           579564     322831       197812   1100207\n",
              "South             824915     496029       280016   1600960\n",
              "Southeast Asia    460754     254356       169328    884438\n",
              "West              362908     225870       136736    725514\n",
              "All              6508141    3824808      2309956  12642905"
            ],
            "text/html": [
              "\n",
              "  <div id=\"df-17d62fea-9997-4fa0-abee-1ee932223492\" class=\"colab-df-container\">\n",
              "    <div>\n",
              "<style scoped>\n",
              "    .dataframe tbody tr th:only-of-type {\n",
              "        vertical-align: middle;\n",
              "    }\n",
              "\n",
              "    .dataframe tbody tr th {\n",
              "        vertical-align: top;\n",
              "    }\n",
              "\n",
              "    .dataframe thead th {\n",
              "        text-align: right;\n",
              "    }\n",
              "</style>\n",
              "<table border=\"1\" class=\"dataframe\">\n",
              "  <thead>\n",
              "    <tr style=\"text-align: right;\">\n",
              "      <th>segment</th>\n",
              "      <th>Consumer</th>\n",
              "      <th>Corporate</th>\n",
              "      <th>Home Office</th>\n",
              "      <th>All</th>\n",
              "    </tr>\n",
              "    <tr>\n",
              "      <th>region</th>\n",
              "      <th></th>\n",
              "      <th></th>\n",
              "      <th></th>\n",
              "      <th></th>\n",
              "    </tr>\n",
              "  </thead>\n",
              "  <tbody>\n",
              "    <tr>\n",
              "      <th>Africa</th>\n",
              "      <td>423751</td>\n",
              "      <td>204948</td>\n",
              "      <td>155077</td>\n",
              "      <td>783776</td>\n",
              "    </tr>\n",
              "    <tr>\n",
              "      <th>Canada</th>\n",
              "      <td>35717</td>\n",
              "      <td>19319</td>\n",
              "      <td>11896</td>\n",
              "      <td>66932</td>\n",
              "    </tr>\n",
              "    <tr>\n",
              "      <th>Caribbean</th>\n",
              "      <td>162351</td>\n",
              "      <td>104535</td>\n",
              "      <td>57395</td>\n",
              "      <td>324281</td>\n",
              "    </tr>\n",
              "    <tr>\n",
              "      <th>Central</th>\n",
              "      <td>1480033</td>\n",
              "      <td>850405</td>\n",
              "      <td>491961</td>\n",
              "      <td>2822399</td>\n",
              "    </tr>\n",
              "    <tr>\n",
              "      <th>Central Asia</th>\n",
              "      <td>369052</td>\n",
              "      <td>235552</td>\n",
              "      <td>148235</td>\n",
              "      <td>752839</td>\n",
              "    </tr>\n",
              "    <tr>\n",
              "      <th>EMEA</th>\n",
              "      <td>406763</td>\n",
              "      <td>250559</td>\n",
              "      <td>148862</td>\n",
              "      <td>806184</td>\n",
              "    </tr>\n",
              "    <tr>\n",
              "      <th>East</th>\n",
              "      <td>350947</td>\n",
              "      <td>200422</td>\n",
              "      <td>127465</td>\n",
              "      <td>678834</td>\n",
              "    </tr>\n",
              "    <tr>\n",
              "      <th>North</th>\n",
              "      <td>643976</td>\n",
              "      <td>394220</td>\n",
              "      <td>209996</td>\n",
              "      <td>1248192</td>\n",
              "    </tr>\n",
              "    <tr>\n",
              "      <th>North Asia</th>\n",
              "      <td>407410</td>\n",
              "      <td>265762</td>\n",
              "      <td>175177</td>\n",
              "      <td>848349</td>\n",
              "    </tr>\n",
              "    <tr>\n",
              "      <th>Oceania</th>\n",
              "      <td>579564</td>\n",
              "      <td>322831</td>\n",
              "      <td>197812</td>\n",
              "      <td>1100207</td>\n",
              "    </tr>\n",
              "    <tr>\n",
              "      <th>South</th>\n",
              "      <td>824915</td>\n",
              "      <td>496029</td>\n",
              "      <td>280016</td>\n",
              "      <td>1600960</td>\n",
              "    </tr>\n",
              "    <tr>\n",
              "      <th>Southeast Asia</th>\n",
              "      <td>460754</td>\n",
              "      <td>254356</td>\n",
              "      <td>169328</td>\n",
              "      <td>884438</td>\n",
              "    </tr>\n",
              "    <tr>\n",
              "      <th>West</th>\n",
              "      <td>362908</td>\n",
              "      <td>225870</td>\n",
              "      <td>136736</td>\n",
              "      <td>725514</td>\n",
              "    </tr>\n",
              "    <tr>\n",
              "      <th>All</th>\n",
              "      <td>6508141</td>\n",
              "      <td>3824808</td>\n",
              "      <td>2309956</td>\n",
              "      <td>12642905</td>\n",
              "    </tr>\n",
              "  </tbody>\n",
              "</table>\n",
              "</div>\n",
              "    <div class=\"colab-df-buttons\">\n",
              "\n",
              "  <div class=\"colab-df-container\">\n",
              "    <button class=\"colab-df-convert\" onclick=\"convertToInteractive('df-17d62fea-9997-4fa0-abee-1ee932223492')\"\n",
              "            title=\"Convert this dataframe to an interactive table.\"\n",
              "            style=\"display:none;\">\n",
              "\n",
              "  <svg xmlns=\"http://www.w3.org/2000/svg\" height=\"24px\" viewBox=\"0 -960 960 960\">\n",
              "    <path d=\"M120-120v-720h720v720H120Zm60-500h600v-160H180v160Zm220 220h160v-160H400v160Zm0 220h160v-160H400v160ZM180-400h160v-160H180v160Zm440 0h160v-160H620v160ZM180-180h160v-160H180v160Zm440 0h160v-160H620v160Z\"/>\n",
              "  </svg>\n",
              "    </button>\n",
              "\n",
              "  <style>\n",
              "    .colab-df-container {\n",
              "      display:flex;\n",
              "      gap: 12px;\n",
              "    }\n",
              "\n",
              "    .colab-df-convert {\n",
              "      background-color: #E8F0FE;\n",
              "      border: none;\n",
              "      border-radius: 50%;\n",
              "      cursor: pointer;\n",
              "      display: none;\n",
              "      fill: #1967D2;\n",
              "      height: 32px;\n",
              "      padding: 0 0 0 0;\n",
              "      width: 32px;\n",
              "    }\n",
              "\n",
              "    .colab-df-convert:hover {\n",
              "      background-color: #E2EBFA;\n",
              "      box-shadow: 0px 1px 2px rgba(60, 64, 67, 0.3), 0px 1px 3px 1px rgba(60, 64, 67, 0.15);\n",
              "      fill: #174EA6;\n",
              "    }\n",
              "\n",
              "    .colab-df-buttons div {\n",
              "      margin-bottom: 4px;\n",
              "    }\n",
              "\n",
              "    [theme=dark] .colab-df-convert {\n",
              "      background-color: #3B4455;\n",
              "      fill: #D2E3FC;\n",
              "    }\n",
              "\n",
              "    [theme=dark] .colab-df-convert:hover {\n",
              "      background-color: #434B5C;\n",
              "      box-shadow: 0px 1px 3px 1px rgba(0, 0, 0, 0.15);\n",
              "      filter: drop-shadow(0px 1px 2px rgba(0, 0, 0, 0.3));\n",
              "      fill: #FFFFFF;\n",
              "    }\n",
              "  </style>\n",
              "\n",
              "    <script>\n",
              "      const buttonEl =\n",
              "        document.querySelector('#df-17d62fea-9997-4fa0-abee-1ee932223492 button.colab-df-convert');\n",
              "      buttonEl.style.display =\n",
              "        google.colab.kernel.accessAllowed ? 'block' : 'none';\n",
              "\n",
              "      async function convertToInteractive(key) {\n",
              "        const element = document.querySelector('#df-17d62fea-9997-4fa0-abee-1ee932223492');\n",
              "        const dataTable =\n",
              "          await google.colab.kernel.invokeFunction('convertToInteractive',\n",
              "                                                    [key], {});\n",
              "        if (!dataTable) return;\n",
              "\n",
              "        const docLinkHtml = 'Like what you see? Visit the ' +\n",
              "          '<a target=\"_blank\" href=https://colab.research.google.com/notebooks/data_table.ipynb>data table notebook</a>'\n",
              "          + ' to learn more about interactive tables.';\n",
              "        element.innerHTML = '';\n",
              "        dataTable['output_type'] = 'display_data';\n",
              "        await google.colab.output.renderOutput(dataTable, element);\n",
              "        const docLink = document.createElement('div');\n",
              "        docLink.innerHTML = docLinkHtml;\n",
              "        element.appendChild(docLink);\n",
              "      }\n",
              "    </script>\n",
              "  </div>\n",
              "\n",
              "\n",
              "<div id=\"df-628404c0-859a-4993-9465-4d0b0a73c462\">\n",
              "  <button class=\"colab-df-quickchart\" onclick=\"quickchart('df-628404c0-859a-4993-9465-4d0b0a73c462')\"\n",
              "            title=\"Suggest charts.\"\n",
              "            style=\"display:none;\">\n",
              "\n",
              "<svg xmlns=\"http://www.w3.org/2000/svg\" height=\"24px\"viewBox=\"0 0 24 24\"\n",
              "     width=\"24px\">\n",
              "    <g>\n",
              "        <path d=\"M19 3H5c-1.1 0-2 .9-2 2v14c0 1.1.9 2 2 2h14c1.1 0 2-.9 2-2V5c0-1.1-.9-2-2-2zM9 17H7v-7h2v7zm4 0h-2V7h2v10zm4 0h-2v-4h2v4z\"/>\n",
              "    </g>\n",
              "</svg>\n",
              "  </button>\n",
              "\n",
              "<style>\n",
              "  .colab-df-quickchart {\n",
              "      --bg-color: #E8F0FE;\n",
              "      --fill-color: #1967D2;\n",
              "      --hover-bg-color: #E2EBFA;\n",
              "      --hover-fill-color: #174EA6;\n",
              "      --disabled-fill-color: #AAA;\n",
              "      --disabled-bg-color: #DDD;\n",
              "  }\n",
              "\n",
              "  [theme=dark] .colab-df-quickchart {\n",
              "      --bg-color: #3B4455;\n",
              "      --fill-color: #D2E3FC;\n",
              "      --hover-bg-color: #434B5C;\n",
              "      --hover-fill-color: #FFFFFF;\n",
              "      --disabled-bg-color: #3B4455;\n",
              "      --disabled-fill-color: #666;\n",
              "  }\n",
              "\n",
              "  .colab-df-quickchart {\n",
              "    background-color: var(--bg-color);\n",
              "    border: none;\n",
              "    border-radius: 50%;\n",
              "    cursor: pointer;\n",
              "    display: none;\n",
              "    fill: var(--fill-color);\n",
              "    height: 32px;\n",
              "    padding: 0;\n",
              "    width: 32px;\n",
              "  }\n",
              "\n",
              "  .colab-df-quickchart:hover {\n",
              "    background-color: var(--hover-bg-color);\n",
              "    box-shadow: 0 1px 2px rgba(60, 64, 67, 0.3), 0 1px 3px 1px rgba(60, 64, 67, 0.15);\n",
              "    fill: var(--button-hover-fill-color);\n",
              "  }\n",
              "\n",
              "  .colab-df-quickchart-complete:disabled,\n",
              "  .colab-df-quickchart-complete:disabled:hover {\n",
              "    background-color: var(--disabled-bg-color);\n",
              "    fill: var(--disabled-fill-color);\n",
              "    box-shadow: none;\n",
              "  }\n",
              "\n",
              "  .colab-df-spinner {\n",
              "    border: 2px solid var(--fill-color);\n",
              "    border-color: transparent;\n",
              "    border-bottom-color: var(--fill-color);\n",
              "    animation:\n",
              "      spin 1s steps(1) infinite;\n",
              "  }\n",
              "\n",
              "  @keyframes spin {\n",
              "    0% {\n",
              "      border-color: transparent;\n",
              "      border-bottom-color: var(--fill-color);\n",
              "      border-left-color: var(--fill-color);\n",
              "    }\n",
              "    20% {\n",
              "      border-color: transparent;\n",
              "      border-left-color: var(--fill-color);\n",
              "      border-top-color: var(--fill-color);\n",
              "    }\n",
              "    30% {\n",
              "      border-color: transparent;\n",
              "      border-left-color: var(--fill-color);\n",
              "      border-top-color: var(--fill-color);\n",
              "      border-right-color: var(--fill-color);\n",
              "    }\n",
              "    40% {\n",
              "      border-color: transparent;\n",
              "      border-right-color: var(--fill-color);\n",
              "      border-top-color: var(--fill-color);\n",
              "    }\n",
              "    60% {\n",
              "      border-color: transparent;\n",
              "      border-right-color: var(--fill-color);\n",
              "    }\n",
              "    80% {\n",
              "      border-color: transparent;\n",
              "      border-right-color: var(--fill-color);\n",
              "      border-bottom-color: var(--fill-color);\n",
              "    }\n",
              "    90% {\n",
              "      border-color: transparent;\n",
              "      border-bottom-color: var(--fill-color);\n",
              "    }\n",
              "  }\n",
              "</style>\n",
              "\n",
              "  <script>\n",
              "    async function quickchart(key) {\n",
              "      const quickchartButtonEl =\n",
              "        document.querySelector('#' + key + ' button');\n",
              "      quickchartButtonEl.disabled = true;  // To prevent multiple clicks.\n",
              "      quickchartButtonEl.classList.add('colab-df-spinner');\n",
              "      try {\n",
              "        const charts = await google.colab.kernel.invokeFunction(\n",
              "            'suggestCharts', [key], {});\n",
              "      } catch (error) {\n",
              "        console.error('Error during call to suggestCharts:', error);\n",
              "      }\n",
              "      quickchartButtonEl.classList.remove('colab-df-spinner');\n",
              "      quickchartButtonEl.classList.add('colab-df-quickchart-complete');\n",
              "    }\n",
              "    (() => {\n",
              "      let quickchartButtonEl =\n",
              "        document.querySelector('#df-628404c0-859a-4993-9465-4d0b0a73c462 button');\n",
              "      quickchartButtonEl.style.display =\n",
              "        google.colab.kernel.accessAllowed ? 'block' : 'none';\n",
              "    })();\n",
              "  </script>\n",
              "</div>\n",
              "    </div>\n",
              "  </div>\n"
            ]
          },
          "metadata": {},
          "execution_count": 16
        }
      ]
    },
    {
      "cell_type": "code",
      "source": [
        "#Create the pivot table\n",
        "CrossTab = pd.pivot_table(data=df,index='category',columns='year',values='sales', aggfunc='sum', margins=True).copy()\n",
        "CrossTab"
      ],
      "metadata": {
        "colab": {
          "base_uri": "https://localhost:8080/",
          "height": 206
        },
        "id": "w2h4gskTGGPl",
        "outputId": "42a921ad-35db-406c-815d-1104bc1573f2"
      },
      "execution_count": 17,
      "outputs": [
        {
          "output_type": "execute_result",
          "data": {
            "text/plain": [
              "year                2011     2012     2013     2014       All\n",
              "category                                                     \n",
              "Furniture         756171   858913  1117739  1378061   4110884\n",
              "Office Supplies   675642   795113  1010793  1305782   3787330\n",
              "Technology        827698  1023467  1277328  1616198   4744691\n",
              "All              2259511  2677493  3405860  4300041  12642905"
            ],
            "text/html": [
              "\n",
              "  <div id=\"df-0b48a19b-fa6b-4442-b180-6790ee9ea765\" class=\"colab-df-container\">\n",
              "    <div>\n",
              "<style scoped>\n",
              "    .dataframe tbody tr th:only-of-type {\n",
              "        vertical-align: middle;\n",
              "    }\n",
              "\n",
              "    .dataframe tbody tr th {\n",
              "        vertical-align: top;\n",
              "    }\n",
              "\n",
              "    .dataframe thead th {\n",
              "        text-align: right;\n",
              "    }\n",
              "</style>\n",
              "<table border=\"1\" class=\"dataframe\">\n",
              "  <thead>\n",
              "    <tr style=\"text-align: right;\">\n",
              "      <th>year</th>\n",
              "      <th>2011</th>\n",
              "      <th>2012</th>\n",
              "      <th>2013</th>\n",
              "      <th>2014</th>\n",
              "      <th>All</th>\n",
              "    </tr>\n",
              "    <tr>\n",
              "      <th>category</th>\n",
              "      <th></th>\n",
              "      <th></th>\n",
              "      <th></th>\n",
              "      <th></th>\n",
              "      <th></th>\n",
              "    </tr>\n",
              "  </thead>\n",
              "  <tbody>\n",
              "    <tr>\n",
              "      <th>Furniture</th>\n",
              "      <td>756171</td>\n",
              "      <td>858913</td>\n",
              "      <td>1117739</td>\n",
              "      <td>1378061</td>\n",
              "      <td>4110884</td>\n",
              "    </tr>\n",
              "    <tr>\n",
              "      <th>Office Supplies</th>\n",
              "      <td>675642</td>\n",
              "      <td>795113</td>\n",
              "      <td>1010793</td>\n",
              "      <td>1305782</td>\n",
              "      <td>3787330</td>\n",
              "    </tr>\n",
              "    <tr>\n",
              "      <th>Technology</th>\n",
              "      <td>827698</td>\n",
              "      <td>1023467</td>\n",
              "      <td>1277328</td>\n",
              "      <td>1616198</td>\n",
              "      <td>4744691</td>\n",
              "    </tr>\n",
              "    <tr>\n",
              "      <th>All</th>\n",
              "      <td>2259511</td>\n",
              "      <td>2677493</td>\n",
              "      <td>3405860</td>\n",
              "      <td>4300041</td>\n",
              "      <td>12642905</td>\n",
              "    </tr>\n",
              "  </tbody>\n",
              "</table>\n",
              "</div>\n",
              "    <div class=\"colab-df-buttons\">\n",
              "\n",
              "  <div class=\"colab-df-container\">\n",
              "    <button class=\"colab-df-convert\" onclick=\"convertToInteractive('df-0b48a19b-fa6b-4442-b180-6790ee9ea765')\"\n",
              "            title=\"Convert this dataframe to an interactive table.\"\n",
              "            style=\"display:none;\">\n",
              "\n",
              "  <svg xmlns=\"http://www.w3.org/2000/svg\" height=\"24px\" viewBox=\"0 -960 960 960\">\n",
              "    <path d=\"M120-120v-720h720v720H120Zm60-500h600v-160H180v160Zm220 220h160v-160H400v160Zm0 220h160v-160H400v160ZM180-400h160v-160H180v160Zm440 0h160v-160H620v160ZM180-180h160v-160H180v160Zm440 0h160v-160H620v160Z\"/>\n",
              "  </svg>\n",
              "    </button>\n",
              "\n",
              "  <style>\n",
              "    .colab-df-container {\n",
              "      display:flex;\n",
              "      gap: 12px;\n",
              "    }\n",
              "\n",
              "    .colab-df-convert {\n",
              "      background-color: #E8F0FE;\n",
              "      border: none;\n",
              "      border-radius: 50%;\n",
              "      cursor: pointer;\n",
              "      display: none;\n",
              "      fill: #1967D2;\n",
              "      height: 32px;\n",
              "      padding: 0 0 0 0;\n",
              "      width: 32px;\n",
              "    }\n",
              "\n",
              "    .colab-df-convert:hover {\n",
              "      background-color: #E2EBFA;\n",
              "      box-shadow: 0px 1px 2px rgba(60, 64, 67, 0.3), 0px 1px 3px 1px rgba(60, 64, 67, 0.15);\n",
              "      fill: #174EA6;\n",
              "    }\n",
              "\n",
              "    .colab-df-buttons div {\n",
              "      margin-bottom: 4px;\n",
              "    }\n",
              "\n",
              "    [theme=dark] .colab-df-convert {\n",
              "      background-color: #3B4455;\n",
              "      fill: #D2E3FC;\n",
              "    }\n",
              "\n",
              "    [theme=dark] .colab-df-convert:hover {\n",
              "      background-color: #434B5C;\n",
              "      box-shadow: 0px 1px 3px 1px rgba(0, 0, 0, 0.15);\n",
              "      filter: drop-shadow(0px 1px 2px rgba(0, 0, 0, 0.3));\n",
              "      fill: #FFFFFF;\n",
              "    }\n",
              "  </style>\n",
              "\n",
              "    <script>\n",
              "      const buttonEl =\n",
              "        document.querySelector('#df-0b48a19b-fa6b-4442-b180-6790ee9ea765 button.colab-df-convert');\n",
              "      buttonEl.style.display =\n",
              "        google.colab.kernel.accessAllowed ? 'block' : 'none';\n",
              "\n",
              "      async function convertToInteractive(key) {\n",
              "        const element = document.querySelector('#df-0b48a19b-fa6b-4442-b180-6790ee9ea765');\n",
              "        const dataTable =\n",
              "          await google.colab.kernel.invokeFunction('convertToInteractive',\n",
              "                                                    [key], {});\n",
              "        if (!dataTable) return;\n",
              "\n",
              "        const docLinkHtml = 'Like what you see? Visit the ' +\n",
              "          '<a target=\"_blank\" href=https://colab.research.google.com/notebooks/data_table.ipynb>data table notebook</a>'\n",
              "          + ' to learn more about interactive tables.';\n",
              "        element.innerHTML = '';\n",
              "        dataTable['output_type'] = 'display_data';\n",
              "        await google.colab.output.renderOutput(dataTable, element);\n",
              "        const docLink = document.createElement('div');\n",
              "        docLink.innerHTML = docLinkHtml;\n",
              "        element.appendChild(docLink);\n",
              "      }\n",
              "    </script>\n",
              "  </div>\n",
              "\n",
              "\n",
              "<div id=\"df-3d785d95-fa94-4fa4-bc46-7af8333bd5e5\">\n",
              "  <button class=\"colab-df-quickchart\" onclick=\"quickchart('df-3d785d95-fa94-4fa4-bc46-7af8333bd5e5')\"\n",
              "            title=\"Suggest charts.\"\n",
              "            style=\"display:none;\">\n",
              "\n",
              "<svg xmlns=\"http://www.w3.org/2000/svg\" height=\"24px\"viewBox=\"0 0 24 24\"\n",
              "     width=\"24px\">\n",
              "    <g>\n",
              "        <path d=\"M19 3H5c-1.1 0-2 .9-2 2v14c0 1.1.9 2 2 2h14c1.1 0 2-.9 2-2V5c0-1.1-.9-2-2-2zM9 17H7v-7h2v7zm4 0h-2V7h2v10zm4 0h-2v-4h2v4z\"/>\n",
              "    </g>\n",
              "</svg>\n",
              "  </button>\n",
              "\n",
              "<style>\n",
              "  .colab-df-quickchart {\n",
              "      --bg-color: #E8F0FE;\n",
              "      --fill-color: #1967D2;\n",
              "      --hover-bg-color: #E2EBFA;\n",
              "      --hover-fill-color: #174EA6;\n",
              "      --disabled-fill-color: #AAA;\n",
              "      --disabled-bg-color: #DDD;\n",
              "  }\n",
              "\n",
              "  [theme=dark] .colab-df-quickchart {\n",
              "      --bg-color: #3B4455;\n",
              "      --fill-color: #D2E3FC;\n",
              "      --hover-bg-color: #434B5C;\n",
              "      --hover-fill-color: #FFFFFF;\n",
              "      --disabled-bg-color: #3B4455;\n",
              "      --disabled-fill-color: #666;\n",
              "  }\n",
              "\n",
              "  .colab-df-quickchart {\n",
              "    background-color: var(--bg-color);\n",
              "    border: none;\n",
              "    border-radius: 50%;\n",
              "    cursor: pointer;\n",
              "    display: none;\n",
              "    fill: var(--fill-color);\n",
              "    height: 32px;\n",
              "    padding: 0;\n",
              "    width: 32px;\n",
              "  }\n",
              "\n",
              "  .colab-df-quickchart:hover {\n",
              "    background-color: var(--hover-bg-color);\n",
              "    box-shadow: 0 1px 2px rgba(60, 64, 67, 0.3), 0 1px 3px 1px rgba(60, 64, 67, 0.15);\n",
              "    fill: var(--button-hover-fill-color);\n",
              "  }\n",
              "\n",
              "  .colab-df-quickchart-complete:disabled,\n",
              "  .colab-df-quickchart-complete:disabled:hover {\n",
              "    background-color: var(--disabled-bg-color);\n",
              "    fill: var(--disabled-fill-color);\n",
              "    box-shadow: none;\n",
              "  }\n",
              "\n",
              "  .colab-df-spinner {\n",
              "    border: 2px solid var(--fill-color);\n",
              "    border-color: transparent;\n",
              "    border-bottom-color: var(--fill-color);\n",
              "    animation:\n",
              "      spin 1s steps(1) infinite;\n",
              "  }\n",
              "\n",
              "  @keyframes spin {\n",
              "    0% {\n",
              "      border-color: transparent;\n",
              "      border-bottom-color: var(--fill-color);\n",
              "      border-left-color: var(--fill-color);\n",
              "    }\n",
              "    20% {\n",
              "      border-color: transparent;\n",
              "      border-left-color: var(--fill-color);\n",
              "      border-top-color: var(--fill-color);\n",
              "    }\n",
              "    30% {\n",
              "      border-color: transparent;\n",
              "      border-left-color: var(--fill-color);\n",
              "      border-top-color: var(--fill-color);\n",
              "      border-right-color: var(--fill-color);\n",
              "    }\n",
              "    40% {\n",
              "      border-color: transparent;\n",
              "      border-right-color: var(--fill-color);\n",
              "      border-top-color: var(--fill-color);\n",
              "    }\n",
              "    60% {\n",
              "      border-color: transparent;\n",
              "      border-right-color: var(--fill-color);\n",
              "    }\n",
              "    80% {\n",
              "      border-color: transparent;\n",
              "      border-right-color: var(--fill-color);\n",
              "      border-bottom-color: var(--fill-color);\n",
              "    }\n",
              "    90% {\n",
              "      border-color: transparent;\n",
              "      border-bottom-color: var(--fill-color);\n",
              "    }\n",
              "  }\n",
              "</style>\n",
              "\n",
              "  <script>\n",
              "    async function quickchart(key) {\n",
              "      const quickchartButtonEl =\n",
              "        document.querySelector('#' + key + ' button');\n",
              "      quickchartButtonEl.disabled = true;  // To prevent multiple clicks.\n",
              "      quickchartButtonEl.classList.add('colab-df-spinner');\n",
              "      try {\n",
              "        const charts = await google.colab.kernel.invokeFunction(\n",
              "            'suggestCharts', [key], {});\n",
              "      } catch (error) {\n",
              "        console.error('Error during call to suggestCharts:', error);\n",
              "      }\n",
              "      quickchartButtonEl.classList.remove('colab-df-spinner');\n",
              "      quickchartButtonEl.classList.add('colab-df-quickchart-complete');\n",
              "    }\n",
              "    (() => {\n",
              "      let quickchartButtonEl =\n",
              "        document.querySelector('#df-3d785d95-fa94-4fa4-bc46-7af8333bd5e5 button');\n",
              "      quickchartButtonEl.style.display =\n",
              "        google.colab.kernel.accessAllowed ? 'block' : 'none';\n",
              "    })();\n",
              "  </script>\n",
              "</div>\n",
              "    </div>\n",
              "  </div>\n"
            ]
          },
          "metadata": {},
          "execution_count": 17
        }
      ]
    },
    {
      "cell_type": "markdown",
      "source": [
        "#Pandas Dataframe to Parquet Format\n",
        "Ref https://mungingdata.com/pyarrow/parquet-metadata-min-max-statistics/"
      ],
      "metadata": {
        "id": "cq9ZRD25vDwd"
      }
    },
    {
      "cell_type": "code",
      "source": [
        "df.to_parquet('Orders2.parquet')"
      ],
      "metadata": {
        "id": "iVmEgVXHvIlo"
      },
      "execution_count": 18,
      "outputs": []
    },
    {
      "cell_type": "code",
      "source": [
        "# Note that parquet files are much smaller even compared to the zip file\n",
        "#!ls -al Orders2.*\n",
        "!ls -al"
      ],
      "metadata": {
        "id": "eIuSYj-uT9dB",
        "outputId": "f83b46bb-1884-461f-966f-ac5d6482efe0",
        "colab": {
          "base_uri": "https://localhost:8080/"
        }
      },
      "execution_count": 19,
      "outputs": [
        {
          "output_type": "stream",
          "name": "stdout",
          "text": [
            "total 14404\n",
            "drwxr-xr-x 1 root root     4096 Sep 12 07:32 .\n",
            "drwxr-xr-x 1 root root     4096 Sep 12 07:32 ..\n",
            "drwxr-xr-x 4 root root     4096 Sep  8 13:23 .config\n",
            "-rw-r--r-- 1 root root 10865023 Sep 12 07:32 Orders2.csv\n",
            "-rw-r--r-- 1 root root  1578538 Sep 12 07:32 Orders2.parquet\n",
            "-rw-r--r-- 1 root root  2283831 Sep 12 07:32 Orders.zip\n",
            "drwxr-xr-x 1 root root     4096 Sep  8 13:24 sample_data\n"
          ]
        }
      ]
    },
    {
      "cell_type": "code",
      "source": [
        "import pyarrow.csv as pv\n",
        "import pyarrow.parquet as pq"
      ],
      "metadata": {
        "id": "TOnwOrrzUXY6"
      },
      "execution_count": 20,
      "outputs": []
    },
    {
      "cell_type": "code",
      "source": [
        "pf = pq.ParquetFile('Orders2.parquet')"
      ],
      "metadata": {
        "id": "K5hzL8xlxwDq"
      },
      "execution_count": 21,
      "outputs": []
    },
    {
      "cell_type": "code",
      "source": [
        "pf.metadata"
      ],
      "metadata": {
        "colab": {
          "base_uri": "https://localhost:8080/"
        },
        "id": "9dW1_J6ix6Hq",
        "outputId": "8304d036-f0e5-443b-f2f4-ff9a29d14a8c"
      },
      "execution_count": 22,
      "outputs": [
        {
          "output_type": "execute_result",
          "data": {
            "text/plain": [
              "<pyarrow._parquet.FileMetaData object at 0x7fda9cfee3e0>\n",
              "  created_by: parquet-cpp-arrow version 9.0.0\n",
              "  num_columns: 21\n",
              "  num_rows: 51290\n",
              "  num_row_groups: 1\n",
              "  format_version: 2.6\n",
              "  serialized_size: 10817"
            ]
          },
          "metadata": {},
          "execution_count": 22
        }
      ]
    },
    {
      "cell_type": "code",
      "source": [
        "pf.metadata.row_group(0)"
      ],
      "metadata": {
        "colab": {
          "base_uri": "https://localhost:8080/"
        },
        "id": "R5LmpajoyEO-",
        "outputId": "73bc3725-f1e8-4aeb-ffaa-f575f4a6591e"
      },
      "execution_count": 23,
      "outputs": [
        {
          "output_type": "execute_result",
          "data": {
            "text/plain": [
              "<pyarrow._parquet.RowGroupMetaData object at 0x7fda9d6f9ad0>\n",
              "  num_columns: 21\n",
              "  num_rows: 51290\n",
              "  total_byte_size: 2104641"
            ]
          },
          "metadata": {},
          "execution_count": 23
        }
      ]
    },
    {
      "cell_type": "code",
      "source": [
        "# Get details of each column\n",
        "pf.metadata.row_group(0).column(1)"
      ],
      "metadata": {
        "colab": {
          "base_uri": "https://localhost:8080/"
        },
        "id": "1p19TnuRyLdc",
        "outputId": "1d4d5c16-5a72-486b-fb94-20897a87a173"
      },
      "execution_count": 24,
      "outputs": [
        {
          "output_type": "execute_result",
          "data": {
            "text/plain": [
              "<pyarrow._parquet.ColumnChunkMetaData object at 0x7fda9cff8720>\n",
              "  file_offset: 310458\n",
              "  file_path: \n",
              "  physical_type: INT64\n",
              "  num_values: 51290\n",
              "  path_in_schema: order_date\n",
              "  is_stats_set: True\n",
              "  statistics:\n",
              "    <pyarrow._parquet.Statistics object at 0x7fda9cff9490>\n",
              "      has_min_max: True\n",
              "      min: 2011-01-01 00:00:00\n",
              "      max: 2014-12-31 00:00:00\n",
              "      null_count: 0\n",
              "      distinct_count: 0\n",
              "      num_values: 51290\n",
              "      physical_type: INT64\n",
              "      logical_type: Timestamp(isAdjustedToUTC=false, timeUnit=microseconds, is_from_converted_type=false, force_set_converted_type=false)\n",
              "      converted_type (legacy): NONE\n",
              "  compression: SNAPPY\n",
              "  encodings: ('RLE_DICTIONARY', 'PLAIN', 'RLE')\n",
              "  has_dictionary_page: True\n",
              "  dictionary_page_offset: 294520\n",
              "  data_page_offset: 304575\n",
              "  total_compressed_size: 15938\n",
              "  total_uncompressed_size: 17356"
            ]
          },
          "metadata": {},
          "execution_count": 24
        }
      ]
    },
    {
      "cell_type": "code",
      "source": [
        "pf.metadata.row_group(0).column(20)"
      ],
      "metadata": {
        "colab": {
          "base_uri": "https://localhost:8080/"
        },
        "id": "B93i7gibyYpQ",
        "outputId": "e80a6613-0c8f-4b2c-867a-faacdde76800"
      },
      "execution_count": 25,
      "outputs": [
        {
          "output_type": "execute_result",
          "data": {
            "text/plain": [
              "<pyarrow._parquet.ColumnChunkMetaData object at 0x7fda9cff9620>\n",
              "  file_offset: 1567637\n",
              "  file_path: \n",
              "  physical_type: BYTE_ARRAY\n",
              "  num_values: 51290\n",
              "  path_in_schema: year\n",
              "  is_stats_set: True\n",
              "  statistics:\n",
              "    <pyarrow._parquet.Statistics object at 0x7fda9cff9990>\n",
              "      has_min_max: True\n",
              "      min: 2011\n",
              "      max: 2014\n",
              "      null_count: 0\n",
              "      distinct_count: 0\n",
              "      num_values: 51290\n",
              "      physical_type: BYTE_ARRAY\n",
              "      logical_type: String\n",
              "      converted_type (legacy): UTF8\n",
              "  compression: SNAPPY\n",
              "  encodings: ('RLE_DICTIONARY', 'PLAIN', 'RLE')\n",
              "  has_dictionary_page: True\n",
              "  dictionary_page_offset: 1567535\n",
              "  data_page_offset: 1567575\n",
              "  total_compressed_size: 102\n",
              "  total_uncompressed_size: 106"
            ]
          },
          "metadata": {},
          "execution_count": 25
        }
      ]
    },
    {
      "cell_type": "markdown",
      "source": [
        "#Parquet to Pandas Dataframe"
      ],
      "metadata": {
        "id": "XsFgYLoyvdZK"
      }
    },
    {
      "cell_type": "code",
      "source": [
        "dfFull = pd.read_parquet('Orders2.parquet')\n",
        "dfFull.head(2)"
      ],
      "metadata": {
        "colab": {
          "base_uri": "https://localhost:8080/",
          "height": 213
        },
        "id": "F09Ta99IvgwV",
        "outputId": "f7b20e96-bf13-48d4-f375-b4c82c258396"
      },
      "execution_count": 26,
      "outputs": [
        {
          "output_type": "execute_result",
          "data": {
            "text/plain": [
              "        order_id order_date  ship_date       ship_mode    customer_name  \\\n",
              "0   AG-2011-2040 2011-01-01 2011-01-06  Standard Class  Toby Braunhardt   \n",
              "1  IN-2011-47883 2011-01-01 2011-01-08  Standard Class      Joseph Holt   \n",
              "\n",
              "    segment            state    country  market   region  ...  \\\n",
              "0  Consumer      Constantine    Algeria  Africa   Africa  ...   \n",
              "1  Consumer  New South Wales  Australia    APAC  Oceania  ...   \n",
              "\n",
              "          category sub_category              product_name sales  quantity  \\\n",
              "0  Office Supplies      Storage       Tenex Lockers, Blue   408         2   \n",
              "1  Office Supplies     Supplies  Acme Trimmer, High Speed   120         3   \n",
              "\n",
              "   discount   profit  shipping_cost  order_priority  year  \n",
              "0       0.0  106.140          35.46          Medium  2011  \n",
              "1       0.1   36.036           9.72          Medium  2011  \n",
              "\n",
              "[2 rows x 21 columns]"
            ],
            "text/html": [
              "\n",
              "  <div id=\"df-220ef974-ce88-4281-bb71-bb3042141538\" class=\"colab-df-container\">\n",
              "    <div>\n",
              "<style scoped>\n",
              "    .dataframe tbody tr th:only-of-type {\n",
              "        vertical-align: middle;\n",
              "    }\n",
              "\n",
              "    .dataframe tbody tr th {\n",
              "        vertical-align: top;\n",
              "    }\n",
              "\n",
              "    .dataframe thead th {\n",
              "        text-align: right;\n",
              "    }\n",
              "</style>\n",
              "<table border=\"1\" class=\"dataframe\">\n",
              "  <thead>\n",
              "    <tr style=\"text-align: right;\">\n",
              "      <th></th>\n",
              "      <th>order_id</th>\n",
              "      <th>order_date</th>\n",
              "      <th>ship_date</th>\n",
              "      <th>ship_mode</th>\n",
              "      <th>customer_name</th>\n",
              "      <th>segment</th>\n",
              "      <th>state</th>\n",
              "      <th>country</th>\n",
              "      <th>market</th>\n",
              "      <th>region</th>\n",
              "      <th>...</th>\n",
              "      <th>category</th>\n",
              "      <th>sub_category</th>\n",
              "      <th>product_name</th>\n",
              "      <th>sales</th>\n",
              "      <th>quantity</th>\n",
              "      <th>discount</th>\n",
              "      <th>profit</th>\n",
              "      <th>shipping_cost</th>\n",
              "      <th>order_priority</th>\n",
              "      <th>year</th>\n",
              "    </tr>\n",
              "  </thead>\n",
              "  <tbody>\n",
              "    <tr>\n",
              "      <th>0</th>\n",
              "      <td>AG-2011-2040</td>\n",
              "      <td>2011-01-01</td>\n",
              "      <td>2011-01-06</td>\n",
              "      <td>Standard Class</td>\n",
              "      <td>Toby Braunhardt</td>\n",
              "      <td>Consumer</td>\n",
              "      <td>Constantine</td>\n",
              "      <td>Algeria</td>\n",
              "      <td>Africa</td>\n",
              "      <td>Africa</td>\n",
              "      <td>...</td>\n",
              "      <td>Office Supplies</td>\n",
              "      <td>Storage</td>\n",
              "      <td>Tenex Lockers, Blue</td>\n",
              "      <td>408</td>\n",
              "      <td>2</td>\n",
              "      <td>0.0</td>\n",
              "      <td>106.140</td>\n",
              "      <td>35.46</td>\n",
              "      <td>Medium</td>\n",
              "      <td>2011</td>\n",
              "    </tr>\n",
              "    <tr>\n",
              "      <th>1</th>\n",
              "      <td>IN-2011-47883</td>\n",
              "      <td>2011-01-01</td>\n",
              "      <td>2011-01-08</td>\n",
              "      <td>Standard Class</td>\n",
              "      <td>Joseph Holt</td>\n",
              "      <td>Consumer</td>\n",
              "      <td>New South Wales</td>\n",
              "      <td>Australia</td>\n",
              "      <td>APAC</td>\n",
              "      <td>Oceania</td>\n",
              "      <td>...</td>\n",
              "      <td>Office Supplies</td>\n",
              "      <td>Supplies</td>\n",
              "      <td>Acme Trimmer, High Speed</td>\n",
              "      <td>120</td>\n",
              "      <td>3</td>\n",
              "      <td>0.1</td>\n",
              "      <td>36.036</td>\n",
              "      <td>9.72</td>\n",
              "      <td>Medium</td>\n",
              "      <td>2011</td>\n",
              "    </tr>\n",
              "  </tbody>\n",
              "</table>\n",
              "<p>2 rows × 21 columns</p>\n",
              "</div>\n",
              "    <div class=\"colab-df-buttons\">\n",
              "\n",
              "  <div class=\"colab-df-container\">\n",
              "    <button class=\"colab-df-convert\" onclick=\"convertToInteractive('df-220ef974-ce88-4281-bb71-bb3042141538')\"\n",
              "            title=\"Convert this dataframe to an interactive table.\"\n",
              "            style=\"display:none;\">\n",
              "\n",
              "  <svg xmlns=\"http://www.w3.org/2000/svg\" height=\"24px\" viewBox=\"0 -960 960 960\">\n",
              "    <path d=\"M120-120v-720h720v720H120Zm60-500h600v-160H180v160Zm220 220h160v-160H400v160Zm0 220h160v-160H400v160ZM180-400h160v-160H180v160Zm440 0h160v-160H620v160ZM180-180h160v-160H180v160Zm440 0h160v-160H620v160Z\"/>\n",
              "  </svg>\n",
              "    </button>\n",
              "\n",
              "  <style>\n",
              "    .colab-df-container {\n",
              "      display:flex;\n",
              "      gap: 12px;\n",
              "    }\n",
              "\n",
              "    .colab-df-convert {\n",
              "      background-color: #E8F0FE;\n",
              "      border: none;\n",
              "      border-radius: 50%;\n",
              "      cursor: pointer;\n",
              "      display: none;\n",
              "      fill: #1967D2;\n",
              "      height: 32px;\n",
              "      padding: 0 0 0 0;\n",
              "      width: 32px;\n",
              "    }\n",
              "\n",
              "    .colab-df-convert:hover {\n",
              "      background-color: #E2EBFA;\n",
              "      box-shadow: 0px 1px 2px rgba(60, 64, 67, 0.3), 0px 1px 3px 1px rgba(60, 64, 67, 0.15);\n",
              "      fill: #174EA6;\n",
              "    }\n",
              "\n",
              "    .colab-df-buttons div {\n",
              "      margin-bottom: 4px;\n",
              "    }\n",
              "\n",
              "    [theme=dark] .colab-df-convert {\n",
              "      background-color: #3B4455;\n",
              "      fill: #D2E3FC;\n",
              "    }\n",
              "\n",
              "    [theme=dark] .colab-df-convert:hover {\n",
              "      background-color: #434B5C;\n",
              "      box-shadow: 0px 1px 3px 1px rgba(0, 0, 0, 0.15);\n",
              "      filter: drop-shadow(0px 1px 2px rgba(0, 0, 0, 0.3));\n",
              "      fill: #FFFFFF;\n",
              "    }\n",
              "  </style>\n",
              "\n",
              "    <script>\n",
              "      const buttonEl =\n",
              "        document.querySelector('#df-220ef974-ce88-4281-bb71-bb3042141538 button.colab-df-convert');\n",
              "      buttonEl.style.display =\n",
              "        google.colab.kernel.accessAllowed ? 'block' : 'none';\n",
              "\n",
              "      async function convertToInteractive(key) {\n",
              "        const element = document.querySelector('#df-220ef974-ce88-4281-bb71-bb3042141538');\n",
              "        const dataTable =\n",
              "          await google.colab.kernel.invokeFunction('convertToInteractive',\n",
              "                                                    [key], {});\n",
              "        if (!dataTable) return;\n",
              "\n",
              "        const docLinkHtml = 'Like what you see? Visit the ' +\n",
              "          '<a target=\"_blank\" href=https://colab.research.google.com/notebooks/data_table.ipynb>data table notebook</a>'\n",
              "          + ' to learn more about interactive tables.';\n",
              "        element.innerHTML = '';\n",
              "        dataTable['output_type'] = 'display_data';\n",
              "        await google.colab.output.renderOutput(dataTable, element);\n",
              "        const docLink = document.createElement('div');\n",
              "        docLink.innerHTML = docLinkHtml;\n",
              "        element.appendChild(docLink);\n",
              "      }\n",
              "    </script>\n",
              "  </div>\n",
              "\n",
              "\n",
              "<div id=\"df-f2363be2-f9e4-4672-9c98-191a18dc8edf\">\n",
              "  <button class=\"colab-df-quickchart\" onclick=\"quickchart('df-f2363be2-f9e4-4672-9c98-191a18dc8edf')\"\n",
              "            title=\"Suggest charts.\"\n",
              "            style=\"display:none;\">\n",
              "\n",
              "<svg xmlns=\"http://www.w3.org/2000/svg\" height=\"24px\"viewBox=\"0 0 24 24\"\n",
              "     width=\"24px\">\n",
              "    <g>\n",
              "        <path d=\"M19 3H5c-1.1 0-2 .9-2 2v14c0 1.1.9 2 2 2h14c1.1 0 2-.9 2-2V5c0-1.1-.9-2-2-2zM9 17H7v-7h2v7zm4 0h-2V7h2v10zm4 0h-2v-4h2v4z\"/>\n",
              "    </g>\n",
              "</svg>\n",
              "  </button>\n",
              "\n",
              "<style>\n",
              "  .colab-df-quickchart {\n",
              "      --bg-color: #E8F0FE;\n",
              "      --fill-color: #1967D2;\n",
              "      --hover-bg-color: #E2EBFA;\n",
              "      --hover-fill-color: #174EA6;\n",
              "      --disabled-fill-color: #AAA;\n",
              "      --disabled-bg-color: #DDD;\n",
              "  }\n",
              "\n",
              "  [theme=dark] .colab-df-quickchart {\n",
              "      --bg-color: #3B4455;\n",
              "      --fill-color: #D2E3FC;\n",
              "      --hover-bg-color: #434B5C;\n",
              "      --hover-fill-color: #FFFFFF;\n",
              "      --disabled-bg-color: #3B4455;\n",
              "      --disabled-fill-color: #666;\n",
              "  }\n",
              "\n",
              "  .colab-df-quickchart {\n",
              "    background-color: var(--bg-color);\n",
              "    border: none;\n",
              "    border-radius: 50%;\n",
              "    cursor: pointer;\n",
              "    display: none;\n",
              "    fill: var(--fill-color);\n",
              "    height: 32px;\n",
              "    padding: 0;\n",
              "    width: 32px;\n",
              "  }\n",
              "\n",
              "  .colab-df-quickchart:hover {\n",
              "    background-color: var(--hover-bg-color);\n",
              "    box-shadow: 0 1px 2px rgba(60, 64, 67, 0.3), 0 1px 3px 1px rgba(60, 64, 67, 0.15);\n",
              "    fill: var(--button-hover-fill-color);\n",
              "  }\n",
              "\n",
              "  .colab-df-quickchart-complete:disabled,\n",
              "  .colab-df-quickchart-complete:disabled:hover {\n",
              "    background-color: var(--disabled-bg-color);\n",
              "    fill: var(--disabled-fill-color);\n",
              "    box-shadow: none;\n",
              "  }\n",
              "\n",
              "  .colab-df-spinner {\n",
              "    border: 2px solid var(--fill-color);\n",
              "    border-color: transparent;\n",
              "    border-bottom-color: var(--fill-color);\n",
              "    animation:\n",
              "      spin 1s steps(1) infinite;\n",
              "  }\n",
              "\n",
              "  @keyframes spin {\n",
              "    0% {\n",
              "      border-color: transparent;\n",
              "      border-bottom-color: var(--fill-color);\n",
              "      border-left-color: var(--fill-color);\n",
              "    }\n",
              "    20% {\n",
              "      border-color: transparent;\n",
              "      border-left-color: var(--fill-color);\n",
              "      border-top-color: var(--fill-color);\n",
              "    }\n",
              "    30% {\n",
              "      border-color: transparent;\n",
              "      border-left-color: var(--fill-color);\n",
              "      border-top-color: var(--fill-color);\n",
              "      border-right-color: var(--fill-color);\n",
              "    }\n",
              "    40% {\n",
              "      border-color: transparent;\n",
              "      border-right-color: var(--fill-color);\n",
              "      border-top-color: var(--fill-color);\n",
              "    }\n",
              "    60% {\n",
              "      border-color: transparent;\n",
              "      border-right-color: var(--fill-color);\n",
              "    }\n",
              "    80% {\n",
              "      border-color: transparent;\n",
              "      border-right-color: var(--fill-color);\n",
              "      border-bottom-color: var(--fill-color);\n",
              "    }\n",
              "    90% {\n",
              "      border-color: transparent;\n",
              "      border-bottom-color: var(--fill-color);\n",
              "    }\n",
              "  }\n",
              "</style>\n",
              "\n",
              "  <script>\n",
              "    async function quickchart(key) {\n",
              "      const quickchartButtonEl =\n",
              "        document.querySelector('#' + key + ' button');\n",
              "      quickchartButtonEl.disabled = true;  // To prevent multiple clicks.\n",
              "      quickchartButtonEl.classList.add('colab-df-spinner');\n",
              "      try {\n",
              "        const charts = await google.colab.kernel.invokeFunction(\n",
              "            'suggestCharts', [key], {});\n",
              "      } catch (error) {\n",
              "        console.error('Error during call to suggestCharts:', error);\n",
              "      }\n",
              "      quickchartButtonEl.classList.remove('colab-df-spinner');\n",
              "      quickchartButtonEl.classList.add('colab-df-quickchart-complete');\n",
              "    }\n",
              "    (() => {\n",
              "      let quickchartButtonEl =\n",
              "        document.querySelector('#df-f2363be2-f9e4-4672-9c98-191a18dc8edf button');\n",
              "      quickchartButtonEl.style.display =\n",
              "        google.colab.kernel.accessAllowed ? 'block' : 'none';\n",
              "    })();\n",
              "  </script>\n",
              "</div>\n",
              "    </div>\n",
              "  </div>\n"
            ]
          },
          "metadata": {},
          "execution_count": 26
        }
      ]
    },
    {
      "cell_type": "code",
      "source": [
        "# FOUR dimensions, THREE facts\n",
        "#selCols = ['Order ID','Order Date','Segment','Region','Category','Sales','Quantity','Profit']\n",
        "selCols = ['year','segment','region','category','sales','quantity','profit']\n",
        "dfDimFact = pd.read_parquet('Orders2.parquet', columns=selCols)\n",
        "dfDimFact.head(2)"
      ],
      "metadata": {
        "id": "IJQTP8lHVUa0",
        "outputId": "9b03bdb6-d786-4235-9e07-4403a6f07d7b",
        "colab": {
          "base_uri": "https://localhost:8080/",
          "height": 112
        }
      },
      "execution_count": 27,
      "outputs": [
        {
          "output_type": "execute_result",
          "data": {
            "text/plain": [
              "   year   segment   region         category  sales  quantity   profit\n",
              "0  2011  Consumer   Africa  Office Supplies    408         2  106.140\n",
              "1  2011  Consumer  Oceania  Office Supplies    120         3   36.036"
            ],
            "text/html": [
              "\n",
              "  <div id=\"df-424edcc8-b671-4e2b-a73c-c6dfe8c01098\" class=\"colab-df-container\">\n",
              "    <div>\n",
              "<style scoped>\n",
              "    .dataframe tbody tr th:only-of-type {\n",
              "        vertical-align: middle;\n",
              "    }\n",
              "\n",
              "    .dataframe tbody tr th {\n",
              "        vertical-align: top;\n",
              "    }\n",
              "\n",
              "    .dataframe thead th {\n",
              "        text-align: right;\n",
              "    }\n",
              "</style>\n",
              "<table border=\"1\" class=\"dataframe\">\n",
              "  <thead>\n",
              "    <tr style=\"text-align: right;\">\n",
              "      <th></th>\n",
              "      <th>year</th>\n",
              "      <th>segment</th>\n",
              "      <th>region</th>\n",
              "      <th>category</th>\n",
              "      <th>sales</th>\n",
              "      <th>quantity</th>\n",
              "      <th>profit</th>\n",
              "    </tr>\n",
              "  </thead>\n",
              "  <tbody>\n",
              "    <tr>\n",
              "      <th>0</th>\n",
              "      <td>2011</td>\n",
              "      <td>Consumer</td>\n",
              "      <td>Africa</td>\n",
              "      <td>Office Supplies</td>\n",
              "      <td>408</td>\n",
              "      <td>2</td>\n",
              "      <td>106.140</td>\n",
              "    </tr>\n",
              "    <tr>\n",
              "      <th>1</th>\n",
              "      <td>2011</td>\n",
              "      <td>Consumer</td>\n",
              "      <td>Oceania</td>\n",
              "      <td>Office Supplies</td>\n",
              "      <td>120</td>\n",
              "      <td>3</td>\n",
              "      <td>36.036</td>\n",
              "    </tr>\n",
              "  </tbody>\n",
              "</table>\n",
              "</div>\n",
              "    <div class=\"colab-df-buttons\">\n",
              "\n",
              "  <div class=\"colab-df-container\">\n",
              "    <button class=\"colab-df-convert\" onclick=\"convertToInteractive('df-424edcc8-b671-4e2b-a73c-c6dfe8c01098')\"\n",
              "            title=\"Convert this dataframe to an interactive table.\"\n",
              "            style=\"display:none;\">\n",
              "\n",
              "  <svg xmlns=\"http://www.w3.org/2000/svg\" height=\"24px\" viewBox=\"0 -960 960 960\">\n",
              "    <path d=\"M120-120v-720h720v720H120Zm60-500h600v-160H180v160Zm220 220h160v-160H400v160Zm0 220h160v-160H400v160ZM180-400h160v-160H180v160Zm440 0h160v-160H620v160ZM180-180h160v-160H180v160Zm440 0h160v-160H620v160Z\"/>\n",
              "  </svg>\n",
              "    </button>\n",
              "\n",
              "  <style>\n",
              "    .colab-df-container {\n",
              "      display:flex;\n",
              "      gap: 12px;\n",
              "    }\n",
              "\n",
              "    .colab-df-convert {\n",
              "      background-color: #E8F0FE;\n",
              "      border: none;\n",
              "      border-radius: 50%;\n",
              "      cursor: pointer;\n",
              "      display: none;\n",
              "      fill: #1967D2;\n",
              "      height: 32px;\n",
              "      padding: 0 0 0 0;\n",
              "      width: 32px;\n",
              "    }\n",
              "\n",
              "    .colab-df-convert:hover {\n",
              "      background-color: #E2EBFA;\n",
              "      box-shadow: 0px 1px 2px rgba(60, 64, 67, 0.3), 0px 1px 3px 1px rgba(60, 64, 67, 0.15);\n",
              "      fill: #174EA6;\n",
              "    }\n",
              "\n",
              "    .colab-df-buttons div {\n",
              "      margin-bottom: 4px;\n",
              "    }\n",
              "\n",
              "    [theme=dark] .colab-df-convert {\n",
              "      background-color: #3B4455;\n",
              "      fill: #D2E3FC;\n",
              "    }\n",
              "\n",
              "    [theme=dark] .colab-df-convert:hover {\n",
              "      background-color: #434B5C;\n",
              "      box-shadow: 0px 1px 3px 1px rgba(0, 0, 0, 0.15);\n",
              "      filter: drop-shadow(0px 1px 2px rgba(0, 0, 0, 0.3));\n",
              "      fill: #FFFFFF;\n",
              "    }\n",
              "  </style>\n",
              "\n",
              "    <script>\n",
              "      const buttonEl =\n",
              "        document.querySelector('#df-424edcc8-b671-4e2b-a73c-c6dfe8c01098 button.colab-df-convert');\n",
              "      buttonEl.style.display =\n",
              "        google.colab.kernel.accessAllowed ? 'block' : 'none';\n",
              "\n",
              "      async function convertToInteractive(key) {\n",
              "        const element = document.querySelector('#df-424edcc8-b671-4e2b-a73c-c6dfe8c01098');\n",
              "        const dataTable =\n",
              "          await google.colab.kernel.invokeFunction('convertToInteractive',\n",
              "                                                    [key], {});\n",
              "        if (!dataTable) return;\n",
              "\n",
              "        const docLinkHtml = 'Like what you see? Visit the ' +\n",
              "          '<a target=\"_blank\" href=https://colab.research.google.com/notebooks/data_table.ipynb>data table notebook</a>'\n",
              "          + ' to learn more about interactive tables.';\n",
              "        element.innerHTML = '';\n",
              "        dataTable['output_type'] = 'display_data';\n",
              "        await google.colab.output.renderOutput(dataTable, element);\n",
              "        const docLink = document.createElement('div');\n",
              "        docLink.innerHTML = docLinkHtml;\n",
              "        element.appendChild(docLink);\n",
              "      }\n",
              "    </script>\n",
              "  </div>\n",
              "\n",
              "\n",
              "<div id=\"df-eabcd9d6-a219-4908-866e-243e213fde74\">\n",
              "  <button class=\"colab-df-quickchart\" onclick=\"quickchart('df-eabcd9d6-a219-4908-866e-243e213fde74')\"\n",
              "            title=\"Suggest charts.\"\n",
              "            style=\"display:none;\">\n",
              "\n",
              "<svg xmlns=\"http://www.w3.org/2000/svg\" height=\"24px\"viewBox=\"0 0 24 24\"\n",
              "     width=\"24px\">\n",
              "    <g>\n",
              "        <path d=\"M19 3H5c-1.1 0-2 .9-2 2v14c0 1.1.9 2 2 2h14c1.1 0 2-.9 2-2V5c0-1.1-.9-2-2-2zM9 17H7v-7h2v7zm4 0h-2V7h2v10zm4 0h-2v-4h2v4z\"/>\n",
              "    </g>\n",
              "</svg>\n",
              "  </button>\n",
              "\n",
              "<style>\n",
              "  .colab-df-quickchart {\n",
              "      --bg-color: #E8F0FE;\n",
              "      --fill-color: #1967D2;\n",
              "      --hover-bg-color: #E2EBFA;\n",
              "      --hover-fill-color: #174EA6;\n",
              "      --disabled-fill-color: #AAA;\n",
              "      --disabled-bg-color: #DDD;\n",
              "  }\n",
              "\n",
              "  [theme=dark] .colab-df-quickchart {\n",
              "      --bg-color: #3B4455;\n",
              "      --fill-color: #D2E3FC;\n",
              "      --hover-bg-color: #434B5C;\n",
              "      --hover-fill-color: #FFFFFF;\n",
              "      --disabled-bg-color: #3B4455;\n",
              "      --disabled-fill-color: #666;\n",
              "  }\n",
              "\n",
              "  .colab-df-quickchart {\n",
              "    background-color: var(--bg-color);\n",
              "    border: none;\n",
              "    border-radius: 50%;\n",
              "    cursor: pointer;\n",
              "    display: none;\n",
              "    fill: var(--fill-color);\n",
              "    height: 32px;\n",
              "    padding: 0;\n",
              "    width: 32px;\n",
              "  }\n",
              "\n",
              "  .colab-df-quickchart:hover {\n",
              "    background-color: var(--hover-bg-color);\n",
              "    box-shadow: 0 1px 2px rgba(60, 64, 67, 0.3), 0 1px 3px 1px rgba(60, 64, 67, 0.15);\n",
              "    fill: var(--button-hover-fill-color);\n",
              "  }\n",
              "\n",
              "  .colab-df-quickchart-complete:disabled,\n",
              "  .colab-df-quickchart-complete:disabled:hover {\n",
              "    background-color: var(--disabled-bg-color);\n",
              "    fill: var(--disabled-fill-color);\n",
              "    box-shadow: none;\n",
              "  }\n",
              "\n",
              "  .colab-df-spinner {\n",
              "    border: 2px solid var(--fill-color);\n",
              "    border-color: transparent;\n",
              "    border-bottom-color: var(--fill-color);\n",
              "    animation:\n",
              "      spin 1s steps(1) infinite;\n",
              "  }\n",
              "\n",
              "  @keyframes spin {\n",
              "    0% {\n",
              "      border-color: transparent;\n",
              "      border-bottom-color: var(--fill-color);\n",
              "      border-left-color: var(--fill-color);\n",
              "    }\n",
              "    20% {\n",
              "      border-color: transparent;\n",
              "      border-left-color: var(--fill-color);\n",
              "      border-top-color: var(--fill-color);\n",
              "    }\n",
              "    30% {\n",
              "      border-color: transparent;\n",
              "      border-left-color: var(--fill-color);\n",
              "      border-top-color: var(--fill-color);\n",
              "      border-right-color: var(--fill-color);\n",
              "    }\n",
              "    40% {\n",
              "      border-color: transparent;\n",
              "      border-right-color: var(--fill-color);\n",
              "      border-top-color: var(--fill-color);\n",
              "    }\n",
              "    60% {\n",
              "      border-color: transparent;\n",
              "      border-right-color: var(--fill-color);\n",
              "    }\n",
              "    80% {\n",
              "      border-color: transparent;\n",
              "      border-right-color: var(--fill-color);\n",
              "      border-bottom-color: var(--fill-color);\n",
              "    }\n",
              "    90% {\n",
              "      border-color: transparent;\n",
              "      border-bottom-color: var(--fill-color);\n",
              "    }\n",
              "  }\n",
              "</style>\n",
              "\n",
              "  <script>\n",
              "    async function quickchart(key) {\n",
              "      const quickchartButtonEl =\n",
              "        document.querySelector('#' + key + ' button');\n",
              "      quickchartButtonEl.disabled = true;  // To prevent multiple clicks.\n",
              "      quickchartButtonEl.classList.add('colab-df-spinner');\n",
              "      try {\n",
              "        const charts = await google.colab.kernel.invokeFunction(\n",
              "            'suggestCharts', [key], {});\n",
              "      } catch (error) {\n",
              "        console.error('Error during call to suggestCharts:', error);\n",
              "      }\n",
              "      quickchartButtonEl.classList.remove('colab-df-spinner');\n",
              "      quickchartButtonEl.classList.add('colab-df-quickchart-complete');\n",
              "    }\n",
              "    (() => {\n",
              "      let quickchartButtonEl =\n",
              "        document.querySelector('#df-eabcd9d6-a219-4908-866e-243e213fde74 button');\n",
              "      quickchartButtonEl.style.display =\n",
              "        google.colab.kernel.accessAllowed ? 'block' : 'none';\n",
              "    })();\n",
              "  </script>\n",
              "</div>\n",
              "    </div>\n",
              "  </div>\n"
            ]
          },
          "metadata": {},
          "execution_count": 27
        }
      ]
    },
    {
      "cell_type": "code",
      "source": [
        "dfDimFact.info()"
      ],
      "metadata": {
        "colab": {
          "base_uri": "https://localhost:8080/"
        },
        "id": "CLOjk0hx0Tdn",
        "outputId": "62d6537f-7755-41ae-fb4e-aeecd8f194d2"
      },
      "execution_count": 28,
      "outputs": [
        {
          "output_type": "stream",
          "name": "stdout",
          "text": [
            "<class 'pandas.core.frame.DataFrame'>\n",
            "RangeIndex: 51290 entries, 0 to 51289\n",
            "Data columns (total 7 columns):\n",
            " #   Column    Non-Null Count  Dtype  \n",
            "---  ------    --------------  -----  \n",
            " 0   year      51290 non-null  object \n",
            " 1   segment   51290 non-null  object \n",
            " 2   region    51290 non-null  object \n",
            " 3   category  51290 non-null  object \n",
            " 4   sales     51290 non-null  int64  \n",
            " 5   quantity  51290 non-null  int64  \n",
            " 6   profit    51290 non-null  float64\n",
            "dtypes: float64(1), int64(2), object(4)\n",
            "memory usage: 2.7+ MB\n"
          ]
        }
      ]
    },
    {
      "cell_type": "markdown",
      "source": [
        "##Parquet preserves column properties"
      ],
      "metadata": {
        "id": "Iu8gUgJmyFJQ"
      }
    },
    {
      "cell_type": "code",
      "source": [
        "# Data Still not clean in csv\n",
        "#\n",
        "df5A = pd.read_csv('Orders2.csv')\n",
        "#df9.dtypes\n",
        "df5A.info()"
      ],
      "metadata": {
        "colab": {
          "base_uri": "https://localhost:8080/"
        },
        "id": "qyhfL9cSLvia",
        "outputId": "b5a74507-14aa-4957-a82a-4dc504c2caa6"
      },
      "execution_count": 29,
      "outputs": [
        {
          "output_type": "stream",
          "name": "stdout",
          "text": [
            "<class 'pandas.core.frame.DataFrame'>\n",
            "RangeIndex: 51290 entries, 0 to 51289\n",
            "Data columns (total 21 columns):\n",
            " #   Column          Non-Null Count  Dtype  \n",
            "---  ------          --------------  -----  \n",
            " 0   order_id        51290 non-null  object \n",
            " 1   order_date      51290 non-null  object \n",
            " 2   ship_date       51290 non-null  object \n",
            " 3   ship_mode       51290 non-null  object \n",
            " 4   customer_name   51290 non-null  object \n",
            " 5   segment         51290 non-null  object \n",
            " 6   state           51290 non-null  object \n",
            " 7   country         51290 non-null  object \n",
            " 8   market          51290 non-null  object \n",
            " 9   region          51290 non-null  object \n",
            " 10  product_id      51290 non-null  object \n",
            " 11  category        51290 non-null  object \n",
            " 12  sub_category    51290 non-null  object \n",
            " 13  product_name    51290 non-null  object \n",
            " 14  sales           51290 non-null  int64  \n",
            " 15  quantity        51290 non-null  int64  \n",
            " 16  discount        51290 non-null  float64\n",
            " 17  profit          51290 non-null  float64\n",
            " 18  shipping_cost   51290 non-null  float64\n",
            " 19  order_priority  51290 non-null  object \n",
            " 20  year            51290 non-null  int64  \n",
            "dtypes: float64(3), int64(3), object(15)\n",
            "memory usage: 8.2+ MB\n"
          ]
        }
      ]
    },
    {
      "cell_type": "code",
      "source": [
        "#Data Clean with Parquet\n",
        "#\n",
        "df5B = pd.read_parquet('Orders2.parquet')\n",
        "#df9.dtypes\n",
        "df5B.info()"
      ],
      "metadata": {
        "id": "wfmg7G3E0xIz",
        "outputId": "3e291dd7-9b3c-44c8-81aa-b6b644f0ce41",
        "colab": {
          "base_uri": "https://localhost:8080/"
        }
      },
      "execution_count": 30,
      "outputs": [
        {
          "output_type": "stream",
          "name": "stdout",
          "text": [
            "<class 'pandas.core.frame.DataFrame'>\n",
            "RangeIndex: 51290 entries, 0 to 51289\n",
            "Data columns (total 21 columns):\n",
            " #   Column          Non-Null Count  Dtype         \n",
            "---  ------          --------------  -----         \n",
            " 0   order_id        51290 non-null  object        \n",
            " 1   order_date      51290 non-null  datetime64[ns]\n",
            " 2   ship_date       51290 non-null  datetime64[ns]\n",
            " 3   ship_mode       51290 non-null  object        \n",
            " 4   customer_name   51290 non-null  object        \n",
            " 5   segment         51290 non-null  object        \n",
            " 6   state           51290 non-null  object        \n",
            " 7   country         51290 non-null  object        \n",
            " 8   market          51290 non-null  object        \n",
            " 9   region          51290 non-null  object        \n",
            " 10  product_id      51290 non-null  object        \n",
            " 11  category        51290 non-null  object        \n",
            " 12  sub_category    51290 non-null  object        \n",
            " 13  product_name    51290 non-null  object        \n",
            " 14  sales           51290 non-null  int64         \n",
            " 15  quantity        51290 non-null  int64         \n",
            " 16  discount        51290 non-null  float64       \n",
            " 17  profit          51290 non-null  float64       \n",
            " 18  shipping_cost   51290 non-null  float64       \n",
            " 19  order_priority  51290 non-null  object        \n",
            " 20  year            51290 non-null  object        \n",
            "dtypes: datetime64[ns](2), float64(3), int64(2), object(14)\n",
            "memory usage: 8.2+ MB\n"
          ]
        }
      ]
    },
    {
      "cell_type": "markdown",
      "source": [
        "#Retrieving by Row Criteria"
      ],
      "metadata": {
        "id": "6iOwa3lnRRNX"
      }
    },
    {
      "cell_type": "code",
      "source": [
        "#df"
      ],
      "metadata": {
        "id": "uX8klJF5RVnh"
      },
      "execution_count": 31,
      "outputs": []
    },
    {
      "cell_type": "code",
      "source": [
        "#Note how the directory structure is created\n",
        "#\n",
        "df.to_parquet(\n",
        "    path='analytics',\n",
        "    engine='pyarrow',\n",
        "    compression='snappy',\n",
        "    partition_cols=['segment', 'region','category','year']\n",
        " )"
      ],
      "metadata": {
        "id": "knbqlZGVRlOn"
      },
      "execution_count": 32,
      "outputs": []
    },
    {
      "cell_type": "code",
      "source": [
        "df3 = pd.read_parquet(\n",
        "    path='analytics',\n",
        "    engine='pyarrow',\n",
        "    columns=['category', 'sales', 'quantity','profit'],\n",
        "    filters=[('category', '=', 'Furniture')]\n",
        ")\n",
        "df3"
      ],
      "metadata": {
        "id": "QO7_i6mYSSkW",
        "outputId": "a1191faa-8e35-421b-b05d-12fcda9075e7",
        "colab": {
          "base_uri": "https://localhost:8080/",
          "height": 423
        }
      },
      "execution_count": 33,
      "outputs": [
        {
          "output_type": "execute_result",
          "data": {
            "text/plain": [
              "       category  sales  quantity    profit\n",
              "0     Furniture   2479         6   49.5000\n",
              "1     Furniture     45         1  -56.8560\n",
              "2     Furniture     51         2   22.8000\n",
              "3     Furniture    436         1  178.7400\n",
              "4     Furniture    334         2   26.7000\n",
              "...         ...    ...       ...       ...\n",
              "9871  Furniture    148         3   15.6978\n",
              "9872  Furniture     26         3   11.0250\n",
              "9873  Furniture     23         3    9.7911\n",
              "9874  Furniture    842         3  105.2970\n",
              "9875  Furniture      9         4    1.9224\n",
              "\n",
              "[9876 rows x 4 columns]"
            ],
            "text/html": [
              "\n",
              "  <div id=\"df-e495a3b6-fa9d-458c-8f6f-52d3f57ece30\" class=\"colab-df-container\">\n",
              "    <div>\n",
              "<style scoped>\n",
              "    .dataframe tbody tr th:only-of-type {\n",
              "        vertical-align: middle;\n",
              "    }\n",
              "\n",
              "    .dataframe tbody tr th {\n",
              "        vertical-align: top;\n",
              "    }\n",
              "\n",
              "    .dataframe thead th {\n",
              "        text-align: right;\n",
              "    }\n",
              "</style>\n",
              "<table border=\"1\" class=\"dataframe\">\n",
              "  <thead>\n",
              "    <tr style=\"text-align: right;\">\n",
              "      <th></th>\n",
              "      <th>category</th>\n",
              "      <th>sales</th>\n",
              "      <th>quantity</th>\n",
              "      <th>profit</th>\n",
              "    </tr>\n",
              "  </thead>\n",
              "  <tbody>\n",
              "    <tr>\n",
              "      <th>0</th>\n",
              "      <td>Furniture</td>\n",
              "      <td>2479</td>\n",
              "      <td>6</td>\n",
              "      <td>49.5000</td>\n",
              "    </tr>\n",
              "    <tr>\n",
              "      <th>1</th>\n",
              "      <td>Furniture</td>\n",
              "      <td>45</td>\n",
              "      <td>1</td>\n",
              "      <td>-56.8560</td>\n",
              "    </tr>\n",
              "    <tr>\n",
              "      <th>2</th>\n",
              "      <td>Furniture</td>\n",
              "      <td>51</td>\n",
              "      <td>2</td>\n",
              "      <td>22.8000</td>\n",
              "    </tr>\n",
              "    <tr>\n",
              "      <th>3</th>\n",
              "      <td>Furniture</td>\n",
              "      <td>436</td>\n",
              "      <td>1</td>\n",
              "      <td>178.7400</td>\n",
              "    </tr>\n",
              "    <tr>\n",
              "      <th>4</th>\n",
              "      <td>Furniture</td>\n",
              "      <td>334</td>\n",
              "      <td>2</td>\n",
              "      <td>26.7000</td>\n",
              "    </tr>\n",
              "    <tr>\n",
              "      <th>...</th>\n",
              "      <td>...</td>\n",
              "      <td>...</td>\n",
              "      <td>...</td>\n",
              "      <td>...</td>\n",
              "    </tr>\n",
              "    <tr>\n",
              "      <th>9871</th>\n",
              "      <td>Furniture</td>\n",
              "      <td>148</td>\n",
              "      <td>3</td>\n",
              "      <td>15.6978</td>\n",
              "    </tr>\n",
              "    <tr>\n",
              "      <th>9872</th>\n",
              "      <td>Furniture</td>\n",
              "      <td>26</td>\n",
              "      <td>3</td>\n",
              "      <td>11.0250</td>\n",
              "    </tr>\n",
              "    <tr>\n",
              "      <th>9873</th>\n",
              "      <td>Furniture</td>\n",
              "      <td>23</td>\n",
              "      <td>3</td>\n",
              "      <td>9.7911</td>\n",
              "    </tr>\n",
              "    <tr>\n",
              "      <th>9874</th>\n",
              "      <td>Furniture</td>\n",
              "      <td>842</td>\n",
              "      <td>3</td>\n",
              "      <td>105.2970</td>\n",
              "    </tr>\n",
              "    <tr>\n",
              "      <th>9875</th>\n",
              "      <td>Furniture</td>\n",
              "      <td>9</td>\n",
              "      <td>4</td>\n",
              "      <td>1.9224</td>\n",
              "    </tr>\n",
              "  </tbody>\n",
              "</table>\n",
              "<p>9876 rows × 4 columns</p>\n",
              "</div>\n",
              "    <div class=\"colab-df-buttons\">\n",
              "\n",
              "  <div class=\"colab-df-container\">\n",
              "    <button class=\"colab-df-convert\" onclick=\"convertToInteractive('df-e495a3b6-fa9d-458c-8f6f-52d3f57ece30')\"\n",
              "            title=\"Convert this dataframe to an interactive table.\"\n",
              "            style=\"display:none;\">\n",
              "\n",
              "  <svg xmlns=\"http://www.w3.org/2000/svg\" height=\"24px\" viewBox=\"0 -960 960 960\">\n",
              "    <path d=\"M120-120v-720h720v720H120Zm60-500h600v-160H180v160Zm220 220h160v-160H400v160Zm0 220h160v-160H400v160ZM180-400h160v-160H180v160Zm440 0h160v-160H620v160ZM180-180h160v-160H180v160Zm440 0h160v-160H620v160Z\"/>\n",
              "  </svg>\n",
              "    </button>\n",
              "\n",
              "  <style>\n",
              "    .colab-df-container {\n",
              "      display:flex;\n",
              "      gap: 12px;\n",
              "    }\n",
              "\n",
              "    .colab-df-convert {\n",
              "      background-color: #E8F0FE;\n",
              "      border: none;\n",
              "      border-radius: 50%;\n",
              "      cursor: pointer;\n",
              "      display: none;\n",
              "      fill: #1967D2;\n",
              "      height: 32px;\n",
              "      padding: 0 0 0 0;\n",
              "      width: 32px;\n",
              "    }\n",
              "\n",
              "    .colab-df-convert:hover {\n",
              "      background-color: #E2EBFA;\n",
              "      box-shadow: 0px 1px 2px rgba(60, 64, 67, 0.3), 0px 1px 3px 1px rgba(60, 64, 67, 0.15);\n",
              "      fill: #174EA6;\n",
              "    }\n",
              "\n",
              "    .colab-df-buttons div {\n",
              "      margin-bottom: 4px;\n",
              "    }\n",
              "\n",
              "    [theme=dark] .colab-df-convert {\n",
              "      background-color: #3B4455;\n",
              "      fill: #D2E3FC;\n",
              "    }\n",
              "\n",
              "    [theme=dark] .colab-df-convert:hover {\n",
              "      background-color: #434B5C;\n",
              "      box-shadow: 0px 1px 3px 1px rgba(0, 0, 0, 0.15);\n",
              "      filter: drop-shadow(0px 1px 2px rgba(0, 0, 0, 0.3));\n",
              "      fill: #FFFFFF;\n",
              "    }\n",
              "  </style>\n",
              "\n",
              "    <script>\n",
              "      const buttonEl =\n",
              "        document.querySelector('#df-e495a3b6-fa9d-458c-8f6f-52d3f57ece30 button.colab-df-convert');\n",
              "      buttonEl.style.display =\n",
              "        google.colab.kernel.accessAllowed ? 'block' : 'none';\n",
              "\n",
              "      async function convertToInteractive(key) {\n",
              "        const element = document.querySelector('#df-e495a3b6-fa9d-458c-8f6f-52d3f57ece30');\n",
              "        const dataTable =\n",
              "          await google.colab.kernel.invokeFunction('convertToInteractive',\n",
              "                                                    [key], {});\n",
              "        if (!dataTable) return;\n",
              "\n",
              "        const docLinkHtml = 'Like what you see? Visit the ' +\n",
              "          '<a target=\"_blank\" href=https://colab.research.google.com/notebooks/data_table.ipynb>data table notebook</a>'\n",
              "          + ' to learn more about interactive tables.';\n",
              "        element.innerHTML = '';\n",
              "        dataTable['output_type'] = 'display_data';\n",
              "        await google.colab.output.renderOutput(dataTable, element);\n",
              "        const docLink = document.createElement('div');\n",
              "        docLink.innerHTML = docLinkHtml;\n",
              "        element.appendChild(docLink);\n",
              "      }\n",
              "    </script>\n",
              "  </div>\n",
              "\n",
              "\n",
              "<div id=\"df-105da65b-b758-4dc3-8c0f-46b1cddad8af\">\n",
              "  <button class=\"colab-df-quickchart\" onclick=\"quickchart('df-105da65b-b758-4dc3-8c0f-46b1cddad8af')\"\n",
              "            title=\"Suggest charts.\"\n",
              "            style=\"display:none;\">\n",
              "\n",
              "<svg xmlns=\"http://www.w3.org/2000/svg\" height=\"24px\"viewBox=\"0 0 24 24\"\n",
              "     width=\"24px\">\n",
              "    <g>\n",
              "        <path d=\"M19 3H5c-1.1 0-2 .9-2 2v14c0 1.1.9 2 2 2h14c1.1 0 2-.9 2-2V5c0-1.1-.9-2-2-2zM9 17H7v-7h2v7zm4 0h-2V7h2v10zm4 0h-2v-4h2v4z\"/>\n",
              "    </g>\n",
              "</svg>\n",
              "  </button>\n",
              "\n",
              "<style>\n",
              "  .colab-df-quickchart {\n",
              "      --bg-color: #E8F0FE;\n",
              "      --fill-color: #1967D2;\n",
              "      --hover-bg-color: #E2EBFA;\n",
              "      --hover-fill-color: #174EA6;\n",
              "      --disabled-fill-color: #AAA;\n",
              "      --disabled-bg-color: #DDD;\n",
              "  }\n",
              "\n",
              "  [theme=dark] .colab-df-quickchart {\n",
              "      --bg-color: #3B4455;\n",
              "      --fill-color: #D2E3FC;\n",
              "      --hover-bg-color: #434B5C;\n",
              "      --hover-fill-color: #FFFFFF;\n",
              "      --disabled-bg-color: #3B4455;\n",
              "      --disabled-fill-color: #666;\n",
              "  }\n",
              "\n",
              "  .colab-df-quickchart {\n",
              "    background-color: var(--bg-color);\n",
              "    border: none;\n",
              "    border-radius: 50%;\n",
              "    cursor: pointer;\n",
              "    display: none;\n",
              "    fill: var(--fill-color);\n",
              "    height: 32px;\n",
              "    padding: 0;\n",
              "    width: 32px;\n",
              "  }\n",
              "\n",
              "  .colab-df-quickchart:hover {\n",
              "    background-color: var(--hover-bg-color);\n",
              "    box-shadow: 0 1px 2px rgba(60, 64, 67, 0.3), 0 1px 3px 1px rgba(60, 64, 67, 0.15);\n",
              "    fill: var(--button-hover-fill-color);\n",
              "  }\n",
              "\n",
              "  .colab-df-quickchart-complete:disabled,\n",
              "  .colab-df-quickchart-complete:disabled:hover {\n",
              "    background-color: var(--disabled-bg-color);\n",
              "    fill: var(--disabled-fill-color);\n",
              "    box-shadow: none;\n",
              "  }\n",
              "\n",
              "  .colab-df-spinner {\n",
              "    border: 2px solid var(--fill-color);\n",
              "    border-color: transparent;\n",
              "    border-bottom-color: var(--fill-color);\n",
              "    animation:\n",
              "      spin 1s steps(1) infinite;\n",
              "  }\n",
              "\n",
              "  @keyframes spin {\n",
              "    0% {\n",
              "      border-color: transparent;\n",
              "      border-bottom-color: var(--fill-color);\n",
              "      border-left-color: var(--fill-color);\n",
              "    }\n",
              "    20% {\n",
              "      border-color: transparent;\n",
              "      border-left-color: var(--fill-color);\n",
              "      border-top-color: var(--fill-color);\n",
              "    }\n",
              "    30% {\n",
              "      border-color: transparent;\n",
              "      border-left-color: var(--fill-color);\n",
              "      border-top-color: var(--fill-color);\n",
              "      border-right-color: var(--fill-color);\n",
              "    }\n",
              "    40% {\n",
              "      border-color: transparent;\n",
              "      border-right-color: var(--fill-color);\n",
              "      border-top-color: var(--fill-color);\n",
              "    }\n",
              "    60% {\n",
              "      border-color: transparent;\n",
              "      border-right-color: var(--fill-color);\n",
              "    }\n",
              "    80% {\n",
              "      border-color: transparent;\n",
              "      border-right-color: var(--fill-color);\n",
              "      border-bottom-color: var(--fill-color);\n",
              "    }\n",
              "    90% {\n",
              "      border-color: transparent;\n",
              "      border-bottom-color: var(--fill-color);\n",
              "    }\n",
              "  }\n",
              "</style>\n",
              "\n",
              "  <script>\n",
              "    async function quickchart(key) {\n",
              "      const quickchartButtonEl =\n",
              "        document.querySelector('#' + key + ' button');\n",
              "      quickchartButtonEl.disabled = true;  // To prevent multiple clicks.\n",
              "      quickchartButtonEl.classList.add('colab-df-spinner');\n",
              "      try {\n",
              "        const charts = await google.colab.kernel.invokeFunction(\n",
              "            'suggestCharts', [key], {});\n",
              "      } catch (error) {\n",
              "        console.error('Error during call to suggestCharts:', error);\n",
              "      }\n",
              "      quickchartButtonEl.classList.remove('colab-df-spinner');\n",
              "      quickchartButtonEl.classList.add('colab-df-quickchart-complete');\n",
              "    }\n",
              "    (() => {\n",
              "      let quickchartButtonEl =\n",
              "        document.querySelector('#df-105da65b-b758-4dc3-8c0f-46b1cddad8af button');\n",
              "      quickchartButtonEl.style.display =\n",
              "        google.colab.kernel.accessAllowed ? 'block' : 'none';\n",
              "    })();\n",
              "  </script>\n",
              "</div>\n",
              "    </div>\n",
              "  </div>\n"
            ]
          },
          "metadata": {},
          "execution_count": 33
        }
      ]
    },
    {
      "cell_type": "markdown",
      "source": [
        "#PyArrow Table"
      ],
      "metadata": {
        "id": "35K5faHAwN-g"
      }
    },
    {
      "cell_type": "code",
      "source": [],
      "metadata": {
        "id": "FSIxza8swTFh"
      },
      "execution_count": 33,
      "outputs": []
    },
    {
      "cell_type": "code",
      "source": [
        "table1 = pv.read_csv('Orders2.csv')\n",
        "table2 = pq.read_table('Orders2.parquet')"
      ],
      "metadata": {
        "id": "0VgGZ1b8wYju"
      },
      "execution_count": 34,
      "outputs": []
    },
    {
      "cell_type": "code",
      "source": [
        "# Date is still not clean\n",
        "table1_df = table1.to_pandas()\n",
        "table1_df.info()"
      ],
      "metadata": {
        "colab": {
          "base_uri": "https://localhost:8080/"
        },
        "id": "JaIEX9RZxM7p",
        "outputId": "95517239-6e2b-4e7d-a2b1-afb990851283"
      },
      "execution_count": 35,
      "outputs": [
        {
          "output_type": "stream",
          "name": "stdout",
          "text": [
            "<class 'pandas.core.frame.DataFrame'>\n",
            "RangeIndex: 51290 entries, 0 to 51289\n",
            "Data columns (total 21 columns):\n",
            " #   Column          Non-Null Count  Dtype  \n",
            "---  ------          --------------  -----  \n",
            " 0   order_id        51290 non-null  object \n",
            " 1   order_date      51290 non-null  object \n",
            " 2   ship_date       51290 non-null  object \n",
            " 3   ship_mode       51290 non-null  object \n",
            " 4   customer_name   51290 non-null  object \n",
            " 5   segment         51290 non-null  object \n",
            " 6   state           51290 non-null  object \n",
            " 7   country         51290 non-null  object \n",
            " 8   market          51290 non-null  object \n",
            " 9   region          51290 non-null  object \n",
            " 10  product_id      51290 non-null  object \n",
            " 11  category        51290 non-null  object \n",
            " 12  sub_category    51290 non-null  object \n",
            " 13  product_name    51290 non-null  object \n",
            " 14  sales           51290 non-null  int64  \n",
            " 15  quantity        51290 non-null  int64  \n",
            " 16  discount        51290 non-null  float64\n",
            " 17  profit          51290 non-null  float64\n",
            " 18  shipping_cost   51290 non-null  float64\n",
            " 19  order_priority  51290 non-null  object \n",
            " 20  year            51290 non-null  int64  \n",
            "dtypes: float64(3), int64(3), object(15)\n",
            "memory usage: 8.2+ MB\n"
          ]
        }
      ]
    },
    {
      "cell_type": "code",
      "source": [
        "# Data is clean\n",
        "table2_df = table2.to_pandas()\n",
        "table2_df.info()"
      ],
      "metadata": {
        "colab": {
          "base_uri": "https://localhost:8080/"
        },
        "id": "NXuk8S2_zqzq",
        "outputId": "e0ec1752-5313-44a4-846e-93be7e614850"
      },
      "execution_count": 36,
      "outputs": [
        {
          "output_type": "stream",
          "name": "stdout",
          "text": [
            "<class 'pandas.core.frame.DataFrame'>\n",
            "RangeIndex: 51290 entries, 0 to 51289\n",
            "Data columns (total 21 columns):\n",
            " #   Column          Non-Null Count  Dtype         \n",
            "---  ------          --------------  -----         \n",
            " 0   order_id        51290 non-null  object        \n",
            " 1   order_date      51290 non-null  datetime64[ns]\n",
            " 2   ship_date       51290 non-null  datetime64[ns]\n",
            " 3   ship_mode       51290 non-null  object        \n",
            " 4   customer_name   51290 non-null  object        \n",
            " 5   segment         51290 non-null  object        \n",
            " 6   state           51290 non-null  object        \n",
            " 7   country         51290 non-null  object        \n",
            " 8   market          51290 non-null  object        \n",
            " 9   region          51290 non-null  object        \n",
            " 10  product_id      51290 non-null  object        \n",
            " 11  category        51290 non-null  object        \n",
            " 12  sub_category    51290 non-null  object        \n",
            " 13  product_name    51290 non-null  object        \n",
            " 14  sales           51290 non-null  int64         \n",
            " 15  quantity        51290 non-null  int64         \n",
            " 16  discount        51290 non-null  float64       \n",
            " 17  profit          51290 non-null  float64       \n",
            " 18  shipping_cost   51290 non-null  float64       \n",
            " 19  order_priority  51290 non-null  object        \n",
            " 20  year            51290 non-null  object        \n",
            "dtypes: datetime64[ns](2), float64(3), int64(2), object(14)\n",
            "memory usage: 8.2+ MB\n"
          ]
        }
      ]
    },
    {
      "cell_type": "markdown",
      "source": [
        "#Spark\n",
        "https://davidadrian.cc/python-hadoop/"
      ],
      "metadata": {
        "id": "4BMBOUtf4-Wd"
      }
    },
    {
      "cell_type": "code",
      "source": [
        "!pip3 -q install pyspark\n",
        "from pyspark.sql import SparkSession\n",
        "#spark9 = SparkSession.builder.master(\"local[*]\").getOrCreate()\n",
        "# note UI port switched from default 4040 to 4050 to avoid clash with ngrok\n",
        "spark9 = SparkSession.builder.master(\"local[*]\").config('spark.ui.port', '4050').getOrCreate()"
      ],
      "metadata": {
        "id": "hel81l4t5Age",
        "outputId": "a7a9c988-269d-400b-d8bb-d9969d4be5b1",
        "colab": {
          "base_uri": "https://localhost:8080/"
        }
      },
      "execution_count": 37,
      "outputs": [
        {
          "output_type": "stream",
          "name": "stdout",
          "text": [
            "\u001b[2K     \u001b[90m━━━━━━━━━━━━━━━━━━━━━━━━━━━━━━━━━━━━━━━\u001b[0m \u001b[32m310.8/310.8 MB\u001b[0m \u001b[31m2.7 MB/s\u001b[0m eta \u001b[36m0:00:00\u001b[0m\n",
            "\u001b[?25h  Preparing metadata (setup.py) ... \u001b[?25l\u001b[?25hdone\n",
            "  Building wheel for pyspark (setup.py) ... \u001b[?25l\u001b[?25hdone\n"
          ]
        }
      ]
    },
    {
      "cell_type": "code",
      "source": [
        "#!tail Orders2.csv\n",
        "#!tail Orders2.parquet --- unreadable"
      ],
      "metadata": {
        "id": "U4y6behLIyqJ"
      },
      "execution_count": 38,
      "outputs": []
    },
    {
      "cell_type": "code",
      "source": [
        "#Inferred INCORRECTLY, from CSV file\n",
        "sdf9A = spark9.read.csv('Orders2.csv', inferSchema=True,header = True, quote = '\"')\n",
        "sdf9A.dtypes"
      ],
      "metadata": {
        "id": "p1TvsLPS5vAG",
        "outputId": "86135fb4-3c72-4c4f-88e2-44566da7fbe7",
        "colab": {
          "base_uri": "https://localhost:8080/"
        }
      },
      "execution_count": 39,
      "outputs": [
        {
          "output_type": "execute_result",
          "data": {
            "text/plain": [
              "[('order_id', 'string'),\n",
              " ('order_date', 'date'),\n",
              " ('ship_date', 'date'),\n",
              " ('ship_mode', 'string'),\n",
              " ('customer_name', 'string'),\n",
              " ('segment', 'string'),\n",
              " ('state', 'string'),\n",
              " ('country', 'string'),\n",
              " ('market', 'string'),\n",
              " ('region', 'string'),\n",
              " ('product_id', 'string'),\n",
              " ('category', 'string'),\n",
              " ('sub_category', 'string'),\n",
              " ('product_name', 'string'),\n",
              " ('sales', 'string'),\n",
              " ('quantity', 'string'),\n",
              " ('discount', 'string'),\n",
              " ('profit', 'double'),\n",
              " ('shipping_cost', 'double'),\n",
              " ('order_priority', 'string'),\n",
              " ('year', 'string')]"
            ]
          },
          "metadata": {},
          "execution_count": 39
        }
      ]
    },
    {
      "cell_type": "code",
      "source": [
        "#Inferred CORRECTLY, from parquet file\n",
        "sdf9B = spark9.read.parquet('Orders2.parquet', inferSchema=True,header = True, quote = '\"')\n",
        "sdf9B.dtypes"
      ],
      "metadata": {
        "id": "QU_0h11I1qr9",
        "outputId": "51a9fed1-678a-4a34-8377-bf06038a1a5c",
        "colab": {
          "base_uri": "https://localhost:8080/"
        }
      },
      "execution_count": 40,
      "outputs": [
        {
          "output_type": "execute_result",
          "data": {
            "text/plain": [
              "[('order_id', 'string'),\n",
              " ('order_date', 'timestamp_ntz'),\n",
              " ('ship_date', 'timestamp_ntz'),\n",
              " ('ship_mode', 'string'),\n",
              " ('customer_name', 'string'),\n",
              " ('segment', 'string'),\n",
              " ('state', 'string'),\n",
              " ('country', 'string'),\n",
              " ('market', 'string'),\n",
              " ('region', 'string'),\n",
              " ('product_id', 'string'),\n",
              " ('category', 'string'),\n",
              " ('sub_category', 'string'),\n",
              " ('product_name', 'string'),\n",
              " ('sales', 'bigint'),\n",
              " ('quantity', 'bigint'),\n",
              " ('discount', 'double'),\n",
              " ('profit', 'double'),\n",
              " ('shipping_cost', 'double'),\n",
              " ('order_priority', 'string'),\n",
              " ('year', 'string')]"
            ]
          },
          "metadata": {},
          "execution_count": 40
        }
      ]
    },
    {
      "cell_type": "code",
      "source": [
        "# Reduced Data\n",
        "#selCols = ['Order ID','Order Date','Segment','Region','Category','Sales','Quantity','Profit']\n",
        "selCols = ['year','segment','region','category','sales','quantity','profit']\n",
        "#df9C = spark9.read.parquet('Orders2.parquet',inferSchema=True,header = True, quote = '\"').select('Order ID','Order Date','Segment','Region','Category','Sales','Quantity','Profit')\n",
        "sdf9C = spark9.read.parquet('Orders2.parquet',inferSchema=True,header = True, quote = '\"').select(selCols)\n",
        "#df9.dtypes\n",
        "sdf9C.dtypes"
      ],
      "metadata": {
        "id": "H6ZmYNyZ2OpI",
        "outputId": "534ab5fe-f575-4d02-e902-d617a8ee872e",
        "colab": {
          "base_uri": "https://localhost:8080/"
        }
      },
      "execution_count": 41,
      "outputs": [
        {
          "output_type": "execute_result",
          "data": {
            "text/plain": [
              "[('year', 'string'),\n",
              " ('segment', 'string'),\n",
              " ('region', 'string'),\n",
              " ('category', 'string'),\n",
              " ('sales', 'bigint'),\n",
              " ('quantity', 'bigint'),\n",
              " ('profit', 'double')]"
            ]
          },
          "metadata": {},
          "execution_count": 41
        }
      ]
    },
    {
      "cell_type": "code",
      "source": [
        "# remove , and \" from data\n",
        "#import pandas as pd\n",
        "#p_df = pd.read_csv('SSdatafile.csv')\n",
        "#p_df = pd.read_csv('datafile.csv')\n",
        "#p_df2 = p_df.replace(',', ' ', regex=True)\n",
        "#p_df3 = p_df2.replace('\"', '', regex=True)\n",
        "#p_df3.to_csv('SSdatafile2.csv',index=False,sep=',')\n",
        "#!head SSdatafile2.csv"
      ],
      "metadata": {
        "id": "aWuZjTdbTRcX"
      },
      "execution_count": 42,
      "outputs": []
    },
    {
      "cell_type": "markdown",
      "source": [
        "##Spark SQL"
      ],
      "metadata": {
        "id": "UohoFsuOW2an"
      }
    },
    {
      "cell_type": "code",
      "source": [
        "spark9.sql(\"show databases\").show()"
      ],
      "metadata": {
        "colab": {
          "base_uri": "https://localhost:8080/"
        },
        "id": "HJpRU8A4W5L2",
        "outputId": "3a4a9b67-f919-4eeb-855c-fe826c817d81"
      },
      "execution_count": 43,
      "outputs": [
        {
          "output_type": "stream",
          "name": "stdout",
          "text": [
            "+---------+\n",
            "|namespace|\n",
            "+---------+\n",
            "|  default|\n",
            "+---------+\n",
            "\n"
          ]
        }
      ]
    },
    {
      "cell_type": "code",
      "source": [
        "#air_quality_sdf.createOrReplaceTempView(\"air_quality_sdf\")\n",
        "sdf9C.createOrReplaceTempView(\"orders_temp\")"
      ],
      "metadata": {
        "id": "YJAmrs8vXN5Z"
      },
      "execution_count": 44,
      "outputs": []
    },
    {
      "cell_type": "code",
      "source": [
        "spark9.sql(\"show tables\").show()"
      ],
      "metadata": {
        "colab": {
          "base_uri": "https://localhost:8080/"
        },
        "id": "Sw8cCE8kXce3",
        "outputId": "138203c9-b9eb-404f-8abf-23f074079540"
      },
      "execution_count": 45,
      "outputs": [
        {
          "output_type": "stream",
          "name": "stdout",
          "text": [
            "+---------+-----------+-----------+\n",
            "|namespace|  tableName|isTemporary|\n",
            "+---------+-----------+-----------+\n",
            "|         |orders_temp|       true|\n",
            "+---------+-----------+-----------+\n",
            "\n"
          ]
        }
      ]
    },
    {
      "cell_type": "code",
      "source": [
        "spark9.sql(\"desc orders_temp\").show()"
      ],
      "metadata": {
        "colab": {
          "base_uri": "https://localhost:8080/"
        },
        "id": "ZWRpROJD1G9q",
        "outputId": "d333a71e-5112-4698-c363-0bce4f256a29"
      },
      "execution_count": 46,
      "outputs": [
        {
          "output_type": "stream",
          "name": "stdout",
          "text": [
            "+--------+---------+-------+\n",
            "|col_name|data_type|comment|\n",
            "+--------+---------+-------+\n",
            "|    year|   string|   null|\n",
            "| segment|   string|   null|\n",
            "|  region|   string|   null|\n",
            "|category|   string|   null|\n",
            "|   sales|   bigint|   null|\n",
            "|quantity|   bigint|   null|\n",
            "|  profit|   double|   null|\n",
            "+--------+---------+-------+\n",
            "\n"
          ]
        }
      ]
    },
    {
      "cell_type": "code",
      "source": [
        "spark9.sql('select * from Orders_Temp limit 5').show()"
      ],
      "metadata": {
        "colab": {
          "base_uri": "https://localhost:8080/"
        },
        "id": "erd8GWmyZeUl",
        "outputId": "16dbfc49-a332-449d-8e1d-23dbbdccbc4e"
      },
      "execution_count": 47,
      "outputs": [
        {
          "output_type": "stream",
          "name": "stdout",
          "text": [
            "+----+-----------+-------+---------------+-----+--------+-------+\n",
            "|year|    segment| region|       category|sales|quantity| profit|\n",
            "+----+-----------+-------+---------------+-----+--------+-------+\n",
            "|2011|   Consumer| Africa|Office Supplies|  408|       2| 106.14|\n",
            "|2011|   Consumer|Oceania|Office Supplies|  120|       3| 36.036|\n",
            "|2011|   Consumer|   EMEA|Office Supplies|   66|       4|  29.64|\n",
            "|2011|Home Office|  North|Office Supplies|   45|       3|-26.055|\n",
            "|2011|   Consumer|Oceania|      Furniture|  114|       5|  37.77|\n",
            "+----+-----------+-------+---------------+-----+--------+-------+\n",
            "\n"
          ]
        }
      ]
    },
    {
      "cell_type": "code",
      "source": [
        "sql_drop_table = \"\"\"\n",
        "drop table if exists praxisdb.sh_orders\n",
        "\"\"\"\n",
        "\n",
        "sql_drop_database = \"\"\"\n",
        "drop database if exists praxisdb cascade\n",
        "\"\"\"\n",
        "\n",
        "sql_create_database = \"\"\"\n",
        "create database if not exists praxisdb\n",
        "location '/content/praxisdb/'\n",
        "\"\"\"\n",
        "\n",
        "sql_create_table = \"\"\"\n",
        "create table if not exists praxisdb.sh_orders\n",
        "using parquet\n",
        "as select  * from Orders_Temp\n",
        "\"\"\"\n",
        "\n",
        "#as select to_timestamp(date) as date_parsed, *\n",
        "\n",
        "print(\"dropping database...\")\n",
        "result_drop_db = spark9.sql(sql_drop_database)\n",
        "\n",
        "print(\"creating database...\")\n",
        "result_create_db = spark9.sql(sql_create_database)\n",
        "\n",
        "print(\"dropping table...\")\n",
        "result_droptable = spark9.sql(sql_drop_table)\n",
        "\n",
        "print(\"creating table...\")\n",
        "result_create_table = spark9.sql(sql_create_table)"
      ],
      "metadata": {
        "colab": {
          "base_uri": "https://localhost:8080/"
        },
        "id": "M5acfAuTX12d",
        "outputId": "d0fa59df-58b5-4b68-a44c-44b8644e4053"
      },
      "execution_count": 48,
      "outputs": [
        {
          "output_type": "stream",
          "name": "stdout",
          "text": [
            "dropping database...\n",
            "creating database...\n",
            "dropping table...\n",
            "creating table...\n"
          ]
        }
      ]
    },
    {
      "cell_type": "code",
      "source": [
        "spark9.sql(\"use praxisdb\")\n",
        "spark9.sql(\"show tables\").show()"
      ],
      "metadata": {
        "colab": {
          "base_uri": "https://localhost:8080/"
        },
        "id": "q8-a8JFQ1iaN",
        "outputId": "acf98b80-4902-4a90-efce-dc2fe0d4c182"
      },
      "execution_count": 49,
      "outputs": [
        {
          "output_type": "stream",
          "name": "stdout",
          "text": [
            "+---------+-----------+-----------+\n",
            "|namespace|  tableName|isTemporary|\n",
            "+---------+-----------+-----------+\n",
            "| praxisdb|  sh_orders|      false|\n",
            "|         |orders_temp|       true|\n",
            "+---------+-----------+-----------+\n",
            "\n"
          ]
        }
      ]
    },
    {
      "cell_type": "code",
      "source": [
        "spark9.sql(\"select * from praxisdb.sh_orders\").show(5)\n",
        "#.select(\"date_parsed\", \"O_3\").show(5)"
      ],
      "metadata": {
        "colab": {
          "base_uri": "https://localhost:8080/"
        },
        "id": "8Sry26x0ewZD",
        "outputId": "1c4cdbb1-a1e3-4349-f076-745a260b1f4d"
      },
      "execution_count": 50,
      "outputs": [
        {
          "output_type": "stream",
          "name": "stdout",
          "text": [
            "+----+-----------+-------+---------------+-----+--------+-------+\n",
            "|year|    segment| region|       category|sales|quantity| profit|\n",
            "+----+-----------+-------+---------------+-----+--------+-------+\n",
            "|2011|   Consumer| Africa|Office Supplies|  408|       2| 106.14|\n",
            "|2011|   Consumer|Oceania|Office Supplies|  120|       3| 36.036|\n",
            "|2011|   Consumer|   EMEA|Office Supplies|   66|       4|  29.64|\n",
            "|2011|Home Office|  North|Office Supplies|   45|       3|-26.055|\n",
            "|2011|   Consumer|Oceania|      Furniture|  114|       5|  37.77|\n",
            "+----+-----------+-------+---------------+-----+--------+-------+\n",
            "only showing top 5 rows\n",
            "\n"
          ]
        }
      ]
    },
    {
      "cell_type": "code",
      "source": [
        "spark9.sql(\"select distinct(region) from praxisdb.sh_orders\").show()"
      ],
      "metadata": {
        "colab": {
          "base_uri": "https://localhost:8080/"
        },
        "id": "svK5YReA4RWc",
        "outputId": "c22c7090-f271-4c3e-823e-d274eaaa24b7"
      },
      "execution_count": 51,
      "outputs": [
        {
          "output_type": "stream",
          "name": "stdout",
          "text": [
            "+--------------+\n",
            "|        region|\n",
            "+--------------+\n",
            "|        Africa|\n",
            "|    North Asia|\n",
            "|  Central Asia|\n",
            "|         South|\n",
            "|     Caribbean|\n",
            "|       Central|\n",
            "|          East|\n",
            "|       Oceania|\n",
            "|        Canada|\n",
            "|          West|\n",
            "|          EMEA|\n",
            "|Southeast Asia|\n",
            "|         North|\n",
            "+--------------+\n",
            "\n"
          ]
        }
      ]
    },
    {
      "cell_type": "markdown",
      "source": [
        "##CrossTab"
      ],
      "metadata": {
        "id": "XaxGELk3N5V_"
      }
    },
    {
      "cell_type": "markdown",
      "source": [
        "###Inner Query"
      ],
      "metadata": {
        "id": "sjjeWzk3PN29"
      }
    },
    {
      "cell_type": "code",
      "source": [
        "sums_df = spark9.sql(\"\"\"\n",
        "    SELECT\n",
        "        Segment,\n",
        "        SUM(IF(Region='Africa',Sales,0)) As Africa,\n",
        "        SUM(IF(Region='North Asia',Sales,0)) As North_Asia,\n",
        "        SUM(IF(Region='Central Asia',Sales,0)) As Central_Asia,\n",
        "        SUM(IF(Region='Caribbean',Sales,0)) As Caribbean,\n",
        "        SUM(IF(Region='Oceania',Sales,0)) As Oceania,\n",
        "        SUM(IF(Region='Canada',Sales,0)) As Canada,\n",
        "        SUM(IF(Region='EMEA',Sales,0)) As EMEA,\n",
        "        SUM(IF(Region='South East Asia',Sales,0)) As SE_Asia,\n",
        "        SUM(IF(Region='Central',Sales,0)) As Central,\n",
        "        SUM(IF(Region='East',Sales,0)) As East,\n",
        "        SUM(IF(Region='West',Sales,0)) As West,\n",
        "        SUM(IF(Region='North',Sales,0)) As North,\n",
        "        SUM(IF(Region='South',Sales,0)) As South\n",
        "    FROM praxisdb.sh_orders\n",
        "        GROUP BY Segment WITH ROLLUP\n",
        "\"\"\")\n",
        "sums_df.show()"
      ],
      "metadata": {
        "id": "QBp2ajeuN7b4",
        "outputId": "bbc5c654-20c0-4cad-f6cd-fa7cdaa64e31",
        "colab": {
          "base_uri": "https://localhost:8080/"
        }
      },
      "execution_count": 52,
      "outputs": [
        {
          "output_type": "stream",
          "name": "stdout",
          "text": [
            "+-----------+------+----------+------------+---------+-------+------+------+-------+-------+------+------+-------+-------+\n",
            "|    Segment|Africa|North_Asia|Central_Asia|Caribbean|Oceania|Canada|  EMEA|SE_Asia|Central|  East|  West|  North|  South|\n",
            "+-----------+------+----------+------------+---------+-------+------+------+-------+-------+------+------+-------+-------+\n",
            "|Home Office|155077|    175177|      148235|    57395| 197812| 11896|148862|      0| 491961|127465|136736| 209996| 280016|\n",
            "|  Corporate|204948|    265762|      235552|   104535| 322831| 19319|250559|      0| 850405|200422|225870| 394220| 496029|\n",
            "|       null|783776|    848349|      752839|   324281|1100207| 66932|806184|      0|2822399|678834|725514|1248192|1600960|\n",
            "|   Consumer|423751|    407410|      369052|   162351| 579564| 35717|406763|      0|1480033|350947|362908| 643976| 824915|\n",
            "+-----------+------+----------+------------+---------+-------+------+------+-------+-------+------+------+-------+-------+\n",
            "\n"
          ]
        }
      ]
    },
    {
      "cell_type": "markdown",
      "source": [
        "###Outer Query"
      ],
      "metadata": {
        "id": "aDUG_YC9PT5u"
      }
    },
    {
      "cell_type": "code",
      "source": [
        "#sums_df.registerTempTable(\"sums\")\n",
        "sums_df.createOrReplaceTempView(\"sums_T\")\n",
        "#CrossTab = sqlContext.sql(\"\"\"\n",
        "CrossTab = spark9.sql(\"\"\"\n",
        " SELECT\n",
        "  IFNULL(Segment,'#Totals') Dims,\n",
        "  Africa,North_Asia,Central_Asia,Caribbean,\n",
        "  Oceania,Canada,EMEA,SE_Asia,\n",
        "  Central,East,West,South,\n",
        "  Africa +North_Asia + Central_Asia+ Caribbean + Oceania + Canada+EMEA + SE_Asia + Central + East + West + South Totals\n",
        "FROM sums_t\n",
        "order by Dims desc\n",
        "\"\"\")\n",
        "CrossTab.show()"
      ],
      "metadata": {
        "id": "WMCG5b9uOXXc",
        "outputId": "333017b7-c3e3-4c6b-ed50-ab63028dc265",
        "colab": {
          "base_uri": "https://localhost:8080/"
        }
      },
      "execution_count": 53,
      "outputs": [
        {
          "output_type": "stream",
          "name": "stdout",
          "text": [
            "+-----------+------+----------+------------+---------+-------+------+------+-------+-------+------+------+-------+--------+\n",
            "|       Dims|Africa|North_Asia|Central_Asia|Caribbean|Oceania|Canada|  EMEA|SE_Asia|Central|  East|  West|  South|  Totals|\n",
            "+-----------+------+----------+------------+---------+-------+------+------+-------+-------+------+------+-------+--------+\n",
            "|Home Office|155077|    175177|      148235|    57395| 197812| 11896|148862|      0| 491961|127465|136736| 280016| 1930632|\n",
            "|  Corporate|204948|    265762|      235552|   104535| 322831| 19319|250559|      0| 850405|200422|225870| 496029| 3176232|\n",
            "|   Consumer|423751|    407410|      369052|   162351| 579564| 35717|406763|      0|1480033|350947|362908| 824915| 5403411|\n",
            "|    #Totals|783776|    848349|      752839|   324281|1100207| 66932|806184|      0|2822399|678834|725514|1600960|10510275|\n",
            "+-----------+------+----------+------------+---------+-------+------+------+-------+-------+------+------+-------+--------+\n",
            "\n"
          ]
        }
      ]
    },
    {
      "cell_type": "markdown",
      "source": [
        "###Using Subquery"
      ],
      "metadata": {
        "id": "xHrQ3ESOPXrW"
      }
    },
    {
      "cell_type": "code",
      "source": [
        "CrossTab2 = spark9.sql(\"\"\"\n",
        " SELECT\n",
        "  IFNULL(Segment,'#Totals') Dims,\n",
        "  Africa,North_Asia,Central_Asia,Caribbean,\n",
        "  Oceania,Canada,EMEA,SE_Asia,\n",
        "  Central,East,West,South,\n",
        "  Africa +North_Asia + Central_Asia+ Caribbean + Oceania + Canada+EMEA + SE_Asia + Central + East + West + South Totals\n",
        "FROM (\n",
        "SELECT\n",
        "        Segment,\n",
        "        SUM(IF(Region='Africa',Sales,0)) As Africa,\n",
        "        SUM(IF(Region='North Asia',Sales,0)) As North_Asia,\n",
        "        SUM(IF(Region='Central Asia',Sales,0)) As Central_Asia,\n",
        "        SUM(IF(Region='Caribbean',Sales,0)) As Caribbean,\n",
        "        SUM(IF(Region='Oceania',Sales,0)) As Oceania,\n",
        "        SUM(IF(Region='Canada',Sales,0)) As Canada,\n",
        "        SUM(IF(Region='EMEA',Sales,0)) As EMEA,\n",
        "        SUM(IF(Region='South East Asia',Sales,0)) As SE_Asia,\n",
        "        SUM(IF(Region='Central',Sales,0)) As Central,\n",
        "        SUM(IF(Region='East',Sales,0)) As East,\n",
        "        SUM(IF(Region='West',Sales,0)) As West,\n",
        "        SUM(IF(Region='North',Sales,0)) As North,\n",
        "        SUM(IF(Region='South',Sales,0)) As South\n",
        "    FROM praxisdb.sh_orders\n",
        "        GROUP BY Segment WITH ROLLUP\n",
        "    )\n",
        "as sums\n",
        "order by Dims desc\n",
        "\"\"\")\n",
        "CrossTab2.show()"
      ],
      "metadata": {
        "id": "m8rXXie3O5vG",
        "outputId": "29f784e1-f126-4c74-f33b-f88ed8df34e6",
        "colab": {
          "base_uri": "https://localhost:8080/"
        }
      },
      "execution_count": 54,
      "outputs": [
        {
          "output_type": "stream",
          "name": "stdout",
          "text": [
            "+-----------+------+----------+------------+---------+-------+------+------+-------+-------+------+------+-------+--------+\n",
            "|       Dims|Africa|North_Asia|Central_Asia|Caribbean|Oceania|Canada|  EMEA|SE_Asia|Central|  East|  West|  South|  Totals|\n",
            "+-----------+------+----------+------------+---------+-------+------+------+-------+-------+------+------+-------+--------+\n",
            "|Home Office|155077|    175177|      148235|    57395| 197812| 11896|148862|      0| 491961|127465|136736| 280016| 1930632|\n",
            "|  Corporate|204948|    265762|      235552|   104535| 322831| 19319|250559|      0| 850405|200422|225870| 496029| 3176232|\n",
            "|   Consumer|423751|    407410|      369052|   162351| 579564| 35717|406763|      0|1480033|350947|362908| 824915| 5403411|\n",
            "|    #Totals|783776|    848349|      752839|   324281|1100207| 66932|806184|      0|2822399|678834|725514|1600960|10510275|\n",
            "+-----------+------+----------+------------+---------+-------+------+------+-------+-------+------+------+-------+--------+\n",
            "\n"
          ]
        }
      ]
    },
    {
      "cell_type": "code",
      "source": [
        "spark9.sql(\"select distinct(year) from praxisdb.sh_orders\").show()"
      ],
      "metadata": {
        "colab": {
          "base_uri": "https://localhost:8080/"
        },
        "id": "nyJ9DKyFEcjC",
        "outputId": "5bf007ec-be50-4790-e5dc-1d291e49f836"
      },
      "execution_count": 55,
      "outputs": [
        {
          "output_type": "stream",
          "name": "stdout",
          "text": [
            "+----+\n",
            "|year|\n",
            "+----+\n",
            "|2012|\n",
            "|2014|\n",
            "|2013|\n",
            "|2011|\n",
            "+----+\n",
            "\n"
          ]
        }
      ]
    },
    {
      "cell_type": "code",
      "source": [
        "CrossTab2 = spark9.sql(\"\"\"\n",
        " SELECT\n",
        "  IFNULL(Category,'#Totals') Dims,\n",
        "  Y2011,Y2012,Y2013,Y2014,Y2011+Y2012+Y2013+Y2014 Totals\n",
        "FROM (\n",
        "SELECT\n",
        "        Category,\n",
        "        SUM(IF(Year='2011',Sales,0)) As Y2011,\n",
        "        SUM(IF(Year='2012',Sales,0)) As Y2012,\n",
        "        SUM(IF(Year='2013',Sales,0)) As Y2013,\n",
        "        SUM(IF(Year='2014',Sales,0)) As Y2014\n",
        "    FROM praxisdb.sh_orders\n",
        "        GROUP BY Category WITH ROLLUP\n",
        "    )\n",
        "as sums\n",
        "order by Dims desc\n",
        "\"\"\")\n",
        "CrossTab2.show()"
      ],
      "metadata": {
        "colab": {
          "base_uri": "https://localhost:8080/"
        },
        "id": "PbYB9DfbEpqs",
        "outputId": "ae271c43-fef7-461a-c89d-f97f03a04c00"
      },
      "execution_count": 56,
      "outputs": [
        {
          "output_type": "stream",
          "name": "stdout",
          "text": [
            "+---------------+-------+-------+-------+-------+--------+\n",
            "|           Dims|  Y2011|  Y2012|  Y2013|  Y2014|  Totals|\n",
            "+---------------+-------+-------+-------+-------+--------+\n",
            "|     Technology| 827698|1023467|1277328|1616198| 4744691|\n",
            "|Office Supplies| 675642| 795113|1010793|1305782| 3787330|\n",
            "|      Furniture| 756171| 858913|1117739|1378061| 4110884|\n",
            "|        #Totals|2259511|2677493|3405860|4300041|12642905|\n",
            "+---------------+-------+-------+-------+-------+--------+\n",
            "\n"
          ]
        }
      ]
    },
    {
      "cell_type": "markdown",
      "source": [
        "#Parquet to Pandas again"
      ],
      "metadata": {
        "id": "Y_fgdOf1f8UJ"
      }
    },
    {
      "cell_type": "code",
      "source": [
        "!ls /content/praxisdb/sh_orders"
      ],
      "metadata": {
        "id": "G0h1dfNq6xz0",
        "outputId": "1521243e-423a-443c-ffd7-536299bae591",
        "colab": {
          "base_uri": "https://localhost:8080/"
        }
      },
      "execution_count": 62,
      "outputs": [
        {
          "output_type": "stream",
          "name": "stdout",
          "text": [
            "part-00000-e068e7a6-103b-4615-af78-c97f9a80075f-c000.snappy.parquet  _SUCCESS\n"
          ]
        }
      ]
    },
    {
      "cell_type": "code",
      "source": [
        "df7 = pd.read_parquet('/content/praxisdb/sh_orders/part-00000-e068e7a6-103b-4615-af78-c97f9a80075f-c000.snappy.parquet')\n",
        "df7.info()"
      ],
      "metadata": {
        "id": "uN5l6Tm3gAMW",
        "outputId": "8df61725-f9ed-4e16-d7fe-b6b74d90ae7e",
        "colab": {
          "base_uri": "https://localhost:8080/"
        }
      },
      "execution_count": 63,
      "outputs": [
        {
          "output_type": "stream",
          "name": "stdout",
          "text": [
            "<class 'pandas.core.frame.DataFrame'>\n",
            "RangeIndex: 51290 entries, 0 to 51289\n",
            "Data columns (total 7 columns):\n",
            " #   Column    Non-Null Count  Dtype  \n",
            "---  ------    --------------  -----  \n",
            " 0   year      51290 non-null  object \n",
            " 1   segment   51290 non-null  object \n",
            " 2   region    51290 non-null  object \n",
            " 3   category  51290 non-null  object \n",
            " 4   sales     51290 non-null  int64  \n",
            " 5   quantity  51290 non-null  int64  \n",
            " 6   profit    51290 non-null  float64\n",
            "dtypes: float64(1), int64(2), object(4)\n",
            "memory usage: 2.7+ MB\n"
          ]
        }
      ]
    },
    {
      "cell_type": "markdown",
      "source": [
        "#Second Spark"
      ],
      "metadata": {
        "id": "fpLbR74Y_sPg"
      }
    },
    {
      "cell_type": "code",
      "source": [
        "spark39 = SparkSession.builder.master(\"local[*]\").config('spark.ui.port', '4050').getOrCreate()\n",
        "target_parquet = 'Orders2.parquet'\n",
        "sdf39B = spark39.read.parquet(target_parquet, inferSchema=True,header = True, quote = '\"')\n",
        "sdf39B.dtypes"
      ],
      "metadata": {
        "colab": {
          "base_uri": "https://localhost:8080/"
        },
        "id": "a9kM7DAb_uND",
        "outputId": "01c7915d-90ac-411a-84a8-8fffde83fcc1"
      },
      "execution_count": 59,
      "outputs": [
        {
          "output_type": "execute_result",
          "data": {
            "text/plain": [
              "[('order_id', 'string'),\n",
              " ('order_date', 'timestamp_ntz'),\n",
              " ('ship_date', 'timestamp_ntz'),\n",
              " ('ship_mode', 'string'),\n",
              " ('customer_name', 'string'),\n",
              " ('segment', 'string'),\n",
              " ('state', 'string'),\n",
              " ('country', 'string'),\n",
              " ('market', 'string'),\n",
              " ('region', 'string'),\n",
              " ('product_id', 'string'),\n",
              " ('category', 'string'),\n",
              " ('sub_category', 'string'),\n",
              " ('product_name', 'string'),\n",
              " ('sales', 'bigint'),\n",
              " ('quantity', 'bigint'),\n",
              " ('discount', 'double'),\n",
              " ('profit', 'double'),\n",
              " ('shipping_cost', 'double'),\n",
              " ('order_priority', 'string'),\n",
              " ('year', 'string')]"
            ]
          },
          "metadata": {},
          "execution_count": 59
        }
      ]
    },
    {
      "cell_type": "code",
      "source": [
        "sdf39B.repartition(2).write.mode('overwrite').parquet('wpart/Orders239')"
      ],
      "metadata": {
        "id": "m8KeA0aDNigI"
      },
      "execution_count": 60,
      "outputs": []
    },
    {
      "cell_type": "code",
      "source": [
        "spark39.sql('show databases').show()"
      ],
      "metadata": {
        "colab": {
          "base_uri": "https://localhost:8080/"
        },
        "id": "6tOCOrAAN6tl",
        "outputId": "4401452e-652f-4820-ecec-0bde9ffe322e"
      },
      "execution_count": 61,
      "outputs": [
        {
          "output_type": "stream",
          "name": "stdout",
          "text": [
            "+---------+\n",
            "|namespace|\n",
            "+---------+\n",
            "|  default|\n",
            "| praxisdb|\n",
            "+---------+\n",
            "\n"
          ]
        }
      ]
    },
    {
      "cell_type": "markdown",
      "metadata": {
        "id": "xnF14kOqtVSi"
      },
      "source": [
        "#Chronobooks <br>\n",
        "![alt text](https://1.bp.blogspot.com/-lTiYBkU2qbU/X1er__fvnkI/AAAAAAAAjtE/GhDR3OEGJr4NG43fZPodrQD5kbxtnKebgCLcBGAsYHQ/s600/Footer2020-600x200.png)<hr>\n",
        "Chronotantra and Chronoyantra are two science fiction novels that explore the collapse of human civilisation on Earth and then its rebirth and reincarnation both on Earth as well as on the distant worlds of Mars, Titan and Enceladus. But is it the human civilisation that is being reborn? Or is it some other sentience that is revealing itself.\n",
        "If you have an interest in AI and found this material useful, you may consider buying these novels, in paperback or kindle, from [http://bit.ly/chronobooks](http://bit.ly/chronobooks)"
      ]
    }
  ]
}