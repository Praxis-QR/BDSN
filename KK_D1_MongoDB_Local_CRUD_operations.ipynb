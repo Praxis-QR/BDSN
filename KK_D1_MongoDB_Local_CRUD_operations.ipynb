{
  "nbformat": 4,
  "nbformat_minor": 0,
  "metadata": {
    "colab": {
      "name": "KK D1  MongoDB : Local  : CRUD  operations",
      "provenance": [],
      "toc_visible": true,
      "authorship_tag": "ABX9TyP0Cvy2hJnXKVlxUiob16cq",
      "include_colab_link": true
    },
    "kernelspec": {
      "name": "python3",
      "display_name": "Python 3"
    },
    "language_info": {
      "name": "python"
    }
  },
  "cells": [
    {
      "cell_type": "markdown",
      "metadata": {
        "id": "view-in-github",
        "colab_type": "text"
      },
      "source": [
        "<a href=\"https://colab.research.google.com/github/Praxis-QR/BDSN/blob/main/KK_D1_MongoDB_Local_CRUD_operations.ipynb\" target=\"_parent\"><img src=\"https://colab.research.google.com/assets/colab-badge.svg\" alt=\"Open In Colab\"/></a>"
      ]
    },
    {
      "cell_type": "markdown",
      "metadata": {
        "id": "1SPjiBEzX8xN"
      },
      "source": [
        "![alt text](https://github.com/Praxis-QR/RDWH/raw/main/images/YantraJaalBanner.png)<br>\n",
        "\n",
        "\n",
        "<hr>\n",
        "\n",
        "[Prithwis Mukerjee](http://www.linkedin.com/in/prithwis)<br>"
      ]
    },
    {
      "cell_type": "code",
      "source": [
        "from datetime import datetime\n",
        "import pytz\n",
        "print('Tested',datetime.now(pytz.timezone('Asia/Calcutta')))"
      ],
      "metadata": {
        "id": "evTco63oMN4s",
        "outputId": "206101d2-55ed-4c42-ff36-4b88b182d52e",
        "colab": {
          "base_uri": "https://localhost:8080/"
        }
      },
      "execution_count": 1,
      "outputs": [
        {
          "output_type": "stream",
          "name": "stdout",
          "text": [
            "Tested 2023-04-06 11:41:57.394670+05:30\n"
          ]
        }
      ]
    },
    {
      "cell_type": "markdown",
      "metadata": {
        "id": "u7UmFH23YJ9Q"
      },
      "source": [
        "Based on https://github.com/giffy/MongoDB_PyMongo_Tutorial"
      ]
    },
    {
      "cell_type": "markdown",
      "metadata": {
        "id": "u4fPiXfdYevn"
      },
      "source": [
        "#Installs "
      ]
    },
    {
      "cell_type": "code",
      "source": [
        "!pip install pymongo\n",
        "from pymongo import MongoClient\n",
        "import pandas as pd\n",
        "import dateutil"
      ],
      "metadata": {
        "id": "dxuy5uvAM8y6",
        "outputId": "4a5b1204-dcb2-4996-ed06-6770a912baed",
        "colab": {
          "base_uri": "https://localhost:8080/"
        }
      },
      "execution_count": 1,
      "outputs": [
        {
          "output_type": "stream",
          "name": "stdout",
          "text": [
            "Looking in indexes: https://pypi.org/simple, https://us-python.pkg.dev/colab-wheels/public/simple/\n",
            "Collecting pymongo\n",
            "  Downloading pymongo-4.3.3-cp39-cp39-manylinux_2_17_x86_64.manylinux2014_x86_64.whl (492 kB)\n",
            "\u001b[2K     \u001b[90m━━━━━━━━━━━━━━━━━━━━━━━━━━━━━━━━━━━━━━━\u001b[0m \u001b[32m492.1/492.1 KB\u001b[0m \u001b[31m6.2 MB/s\u001b[0m eta \u001b[36m0:00:00\u001b[0m\n",
            "\u001b[?25hCollecting dnspython<3.0.0,>=1.16.0\n",
            "  Downloading dnspython-2.3.0-py3-none-any.whl (283 kB)\n",
            "\u001b[2K     \u001b[90m━━━━━━━━━━━━━━━━━━━━━━━━━━━━━━━━━━━━━━\u001b[0m \u001b[32m283.7/283.7 KB\u001b[0m \u001b[31m19.9 MB/s\u001b[0m eta \u001b[36m0:00:00\u001b[0m\n",
            "\u001b[?25hInstalling collected packages: dnspython, pymongo\n",
            "Successfully installed dnspython-2.3.0 pymongo-4.3.3\n"
          ]
        }
      ]
    },
    {
      "cell_type": "code",
      "metadata": {
        "colab": {
          "base_uri": "https://localhost:8080/"
        },
        "id": "bv6pDRWUYodX",
        "outputId": "10d46ec4-9b89-4642-a8ae-e21919e127e0"
      },
      "source": [
        "!apt install mongodb > /dev/null\n",
        " \n",
        "#Local Server Need Not be started for Remote Operations\n",
        "!service mongodb start"
      ],
      "execution_count": 2,
      "outputs": [
        {
          "output_type": "stream",
          "name": "stdout",
          "text": [
            "\n",
            "WARNING: apt does not have a stable CLI interface. Use with caution in scripts.\n",
            "\n",
            " * Starting database mongodb\n",
            "   ...done.\n"
          ]
        }
      ]
    },
    {
      "cell_type": "code",
      "metadata": {
        "colab": {
          "base_uri": "https://localhost:8080/"
        },
        "id": "YBZMGZMAY8i8",
        "outputId": "b23824c3-cd97-499d-92ad-4a86d8a35dfe"
      },
      "source": [
        "mongoURI = \"mongodb://localhost:27017/\"\n",
        "client = MongoClient(mongoURI)\n",
        "client.list_database_names() # ['admin', 'local']"
      ],
      "execution_count": 3,
      "outputs": [
        {
          "output_type": "execute_result",
          "data": {
            "text/plain": [
              "['admin', 'config', 'local']"
            ]
          },
          "metadata": {},
          "execution_count": 3
        }
      ]
    },
    {
      "cell_type": "markdown",
      "metadata": {
        "id": "MN79GhZSaQCD"
      },
      "source": [
        "# Create Database objects"
      ]
    },
    {
      "cell_type": "code",
      "metadata": {
        "colab": {
          "base_uri": "https://localhost:8080/"
        },
        "id": "cnI-oi8waWju",
        "outputId": "df88b833-31d4-4d24-b524-acf3b5744787"
      },
      "source": [
        "# Database PraxisDB will be created only when we create collections, or documents in it\n",
        "mongoURI = \"mongodb://localhost:27017/\"\n",
        "client = MongoClient(mongoURI)\n",
        "client.list_database_names() "
      ],
      "execution_count": 4,
      "outputs": [
        {
          "output_type": "execute_result",
          "data": {
            "text/plain": [
              "['admin', 'config', 'local']"
            ]
          },
          "metadata": {},
          "execution_count": 4
        }
      ]
    },
    {
      "cell_type": "code",
      "metadata": {
        "id": "LUAvup4qcabt"
      },
      "source": [
        "# Delete a database\n",
        "client.drop_database('PraxisDB')"
      ],
      "execution_count": 5,
      "outputs": []
    },
    {
      "cell_type": "code",
      "metadata": {
        "colab": {
          "base_uri": "https://localhost:8080/"
        },
        "id": "1PkkdbCXa5_0",
        "outputId": "b20438d1-d68f-4b29-bb41-51ee5e54c593"
      },
      "source": [
        "# Create a new collection. We can create the collection or leave to MongoDB to create it as soon as a document is generated.\n",
        "db = client.PraxisDB\n",
        "db.create_collection('addresses')       # Optional collection creation "
      ],
      "execution_count": 6,
      "outputs": [
        {
          "output_type": "execute_result",
          "data": {
            "text/plain": [
              "Collection(Database(MongoClient(host=['localhost:27017'], document_class=dict, tz_aware=False, connect=True), 'PraxisDB'), 'addresses')"
            ]
          },
          "metadata": {},
          "execution_count": 6
        }
      ]
    },
    {
      "cell_type": "code",
      "metadata": {
        "colab": {
          "base_uri": "https://localhost:8080/"
        },
        "id": "aFJuoBcBcvvf",
        "outputId": "a56086e9-8245-484f-ab28-4b831d12c78f"
      },
      "source": [
        "# Show Collections. Query returns a Cursor [ ] ,  list it to see the content\n",
        "list (db.list_collections())\n",
        "# empty list '[]' means that there are not collections in database"
      ],
      "execution_count": 7,
      "outputs": [
        {
          "output_type": "execute_result",
          "data": {
            "text/plain": [
              "[{'name': 'addresses',\n",
              "  'type': 'collection',\n",
              "  'options': {},\n",
              "  'info': {'readOnly': False,\n",
              "   'uuid': Binary(b'\\x11\\x98\\x82\\x0b\\xa1\\xceM\\xac\\x93\\xce\\xc8\\xf9qZ\\xebH', 4)},\n",
              "  'idIndex': {'v': 2,\n",
              "   'key': {'_id': 1},\n",
              "   'name': '_id_',\n",
              "   'ns': 'PraxisDB.addresses'}}]"
            ]
          },
          "metadata": {},
          "execution_count": 7
        }
      ]
    },
    {
      "cell_type": "code",
      "metadata": {
        "colab": {
          "base_uri": "https://localhost:8080/"
        },
        "id": "1ek9pCUwdOAq",
        "outputId": "5b764a38-9a70-486b-95ae-d71ea90472c0"
      },
      "source": [
        "# Set the collection to work with\n",
        "kollection = db.addresses\n",
        "kollection.insert_one({'name' : 'jordi'})     # Insert one item to create the collection\n",
        "list (kollection.find())                  # Show the existing collections"
      ],
      "execution_count": 8,
      "outputs": [
        {
          "output_type": "execute_result",
          "data": {
            "text/plain": [
              "[{'_id': ObjectId('642e63e25b87a3628880cd0e'), 'name': 'jordi'}]"
            ]
          },
          "metadata": {},
          "execution_count": 8
        }
      ]
    },
    {
      "cell_type": "code",
      "metadata": {
        "colab": {
          "base_uri": "https://localhost:8080/"
        },
        "id": "gHnx-GEjdz_l",
        "outputId": "d76f5736-7ce5-450c-90dd-4301858cb178"
      },
      "source": [
        "# Rename a collections\n",
        "db.addresses.rename('addressbook')\n",
        "kollection2 = db.addressbook                   # Set the collection to work with\n",
        "list (db.list_collections())                  # Show the existing collections"
      ],
      "execution_count": 9,
      "outputs": [
        {
          "output_type": "execute_result",
          "data": {
            "text/plain": [
              "[{'name': 'addressbook',\n",
              "  'type': 'collection',\n",
              "  'options': {},\n",
              "  'info': {'readOnly': False,\n",
              "   'uuid': Binary(b'\\x11\\x98\\x82\\x0b\\xa1\\xceM\\xac\\x93\\xce\\xc8\\xf9qZ\\xebH', 4)},\n",
              "  'idIndex': {'v': 2,\n",
              "   'key': {'_id': 1},\n",
              "   'name': '_id_',\n",
              "   'ns': 'PraxisDB.addressbook'}}]"
            ]
          },
          "metadata": {},
          "execution_count": 9
        }
      ]
    },
    {
      "cell_type": "code",
      "metadata": {
        "colab": {
          "base_uri": "https://localhost:8080/"
        },
        "id": "0IG9ZsQleFoF",
        "outputId": "9342fede-338f-4041-e08c-0452ded8e204"
      },
      "source": [
        "# Delete collection\n",
        "db.drop_collection('addressbook')"
      ],
      "execution_count": 10,
      "outputs": [
        {
          "output_type": "execute_result",
          "data": {
            "text/plain": [
              "{'ns': 'PraxisDB.addressbook', 'nIndexesWas': 1, 'ok': 1.0}"
            ]
          },
          "metadata": {},
          "execution_count": 10
        }
      ]
    },
    {
      "cell_type": "code",
      "metadata": {
        "colab": {
          "base_uri": "https://localhost:8080/"
        },
        "id": "WEo7QOCHgPSd",
        "outputId": "43fe8ff2-8aab-4420-8af4-b0b87858711d"
      },
      "source": [
        "client.list_database_names() "
      ],
      "execution_count": 11,
      "outputs": [
        {
          "output_type": "execute_result",
          "data": {
            "text/plain": [
              "['admin', 'config', 'local']"
            ]
          },
          "metadata": {},
          "execution_count": 11
        }
      ]
    },
    {
      "cell_type": "markdown",
      "metadata": {
        "id": "XYb26s0ben-d"
      },
      "source": [
        "# Operations"
      ]
    },
    {
      "cell_type": "markdown",
      "metadata": {
        "id": "f6fmmd4-mD1Z"
      },
      "source": [
        "## Single Row Insert"
      ]
    },
    {
      "cell_type": "code",
      "metadata": {
        "id": "WWzXPNecesiQ"
      },
      "source": [
        "cDoc1 = {  'name' : 'Prithwis' ,                                     # String \n",
        "          'age' : '59',                                             # Integer\n",
        "          'gender' : 'Male',                                        # String \n",
        "          'likes_code' : True,                                      # Boolean\n",
        "          'address': {\n",
        "              'street' : 'Panditiya Road',                          # String ( special character with escape \\ )\n",
        "              'number' : 36,                                        # Integer\n",
        "              'city' : 'Kolkata',                                   # String \n",
        "              'floor' : None,                                       # Null \n",
        "              'postalcode' : '700029',                              # String containing a number\n",
        "              },\n",
        "          'favouritefruits': ['apple','pineapple','orange']         # Array        \n",
        "       }"
      ],
      "execution_count": 12,
      "outputs": []
    },
    {
      "cell_type": "code",
      "metadata": {
        "colab": {
          "base_uri": "https://localhost:8080/"
        },
        "id": "yivR6yuSgYNg",
        "outputId": "ed58f48c-9a78-4d53-dfac-04c7e4ecd499"
      },
      "source": [
        "# Define database, collection etc\n",
        "db = client.PraxisDB\n",
        "# Delete collection\n",
        "db.drop_collection('AddressBook')\n",
        "db.create_collection('AddressBook')       # Optional collection creation \n",
        "kollection3 = db.AddressBook                   # Set the collection to work with\n",
        "insert_result = kollection3.insert_one( cDoc1)\n",
        "insert_result.acknowledged    # Confirms that insert is successful"
      ],
      "execution_count": 13,
      "outputs": [
        {
          "output_type": "execute_result",
          "data": {
            "text/plain": [
              "True"
            ]
          },
          "metadata": {},
          "execution_count": 13
        }
      ]
    },
    {
      "cell_type": "code",
      "metadata": {
        "colab": {
          "base_uri": "https://localhost:8080/"
        },
        "id": "I-HuwnBJhdTp",
        "outputId": "124b61f5-24f4-4d6a-b60f-bcac4ec1edeb"
      },
      "source": [
        "insert_result.inserted_id     # Shows the document ID "
      ],
      "execution_count": 14,
      "outputs": [
        {
          "output_type": "execute_result",
          "data": {
            "text/plain": [
              "ObjectId('642e63fc5b87a3628880cd0f')"
            ]
          },
          "metadata": {},
          "execution_count": 14
        }
      ]
    },
    {
      "cell_type": "code",
      "metadata": {
        "colab": {
          "base_uri": "https://localhost:8080/"
        },
        "id": "aIMKBCARi2aU",
        "outputId": "4e5d5074-6f6e-49b2-e035-48277739dad5"
      },
      "source": [
        "db.AddressBook.find()  # returns a cursor"
      ],
      "execution_count": 15,
      "outputs": [
        {
          "output_type": "execute_result",
          "data": {
            "text/plain": [
              "<pymongo.cursor.Cursor at 0x7f5e00825370>"
            ]
          },
          "metadata": {},
          "execution_count": 15
        }
      ]
    },
    {
      "cell_type": "code",
      "metadata": {
        "colab": {
          "base_uri": "https://localhost:8080/"
        },
        "id": "lHro1WFEi-JN",
        "outputId": "fcfe6ef1-45be-4671-d4a8-1248a84ea5c7"
      },
      "source": [
        "#c = db.AddressBook.find()\n",
        "c = kollection3.find()\n",
        "for crnt in c:\n",
        "    print(crnt)"
      ],
      "execution_count": 16,
      "outputs": [
        {
          "output_type": "stream",
          "name": "stdout",
          "text": [
            "{'_id': ObjectId('642e63fc5b87a3628880cd0f'), 'name': 'Prithwis', 'age': '59', 'gender': 'Male', 'likes_code': True, 'address': {'street': 'Panditiya Road', 'number': 36, 'city': 'Kolkata', 'floor': None, 'postalcode': '700029'}, 'favouritefruits': ['apple', 'pineapple', 'orange']}\n"
          ]
        }
      ]
    },
    {
      "cell_type": "code",
      "metadata": {
        "id": "7FjzfIlgjStF"
      },
      "source": [
        "cDoc2 = {  'name' : 'Charanpreet' ,                                     # String \n",
        "          'age' : '57',                                             # Integer\n",
        "          'gender' : 'Male',                                        # String \n",
        "          'likes_code' : False,                                      # Boolean\n",
        "          'address': {\n",
        "              'street' : None,                          # String ( special character with escape \\ )\n",
        "              'number' : None,                                        # Integer\n",
        "              'city' : 'Kolkata',                                   # String \n",
        "              'floor' : None,                                       # Null \n",
        "              'postalcode' : '700001',                              # String containing a number\n",
        "              },\n",
        "          'favouritefruits': ['apple','guava','mango']         # Array        \n",
        "       }"
      ],
      "execution_count": 17,
      "outputs": []
    },
    {
      "cell_type": "code",
      "metadata": {
        "colab": {
          "base_uri": "https://localhost:8080/"
        },
        "id": "TZl2ENI8l1u-",
        "outputId": "ae555c25-1a77-4fcf-fa6f-c9121c2922ee"
      },
      "source": [
        "insert_result = kollection3.insert_one( cDoc2)\n",
        "insert_result.acknowledged    # Confirms that insert is successful"
      ],
      "execution_count": 18,
      "outputs": [
        {
          "output_type": "execute_result",
          "data": {
            "text/plain": [
              "True"
            ]
          },
          "metadata": {},
          "execution_count": 18
        }
      ]
    },
    {
      "cell_type": "code",
      "metadata": {
        "colab": {
          "base_uri": "https://localhost:8080/"
        },
        "id": "5WYPQluVl6wJ",
        "outputId": "4d2154f5-0c38-4129-a19a-94a291cc5d2e"
      },
      "source": [
        "#c = db.AddressBook.find()\n",
        "c = kollection3.find()\n",
        "for crnt in c:\n",
        "    print(crnt)"
      ],
      "execution_count": 19,
      "outputs": [
        {
          "output_type": "stream",
          "name": "stdout",
          "text": [
            "{'_id': ObjectId('642e63fc5b87a3628880cd0f'), 'name': 'Prithwis', 'age': '59', 'gender': 'Male', 'likes_code': True, 'address': {'street': 'Panditiya Road', 'number': 36, 'city': 'Kolkata', 'floor': None, 'postalcode': '700029'}, 'favouritefruits': ['apple', 'pineapple', 'orange']}\n",
            "{'_id': ObjectId('642e641c5b87a3628880cd10'), 'name': 'Charanpreet', 'age': '57', 'gender': 'Male', 'likes_code': False, 'address': {'street': None, 'number': None, 'city': 'Kolkata', 'floor': None, 'postalcode': '700001'}, 'favouritefruits': ['apple', 'guava', 'mango']}\n"
          ]
        }
      ]
    },
    {
      "cell_type": "code",
      "metadata": {
        "id": "6orcB9kK-fG4"
      },
      "source": [
        "cDoc3 = {  'name' : 'Narendra' ,                                     # String \n",
        "          'age' : '67',                                             # Integer\n",
        "          'gender' : 'Male',                                        # String \n",
        "          'likes_code' : False,                                      # Boolean\n",
        "          'address': {\n",
        "              'street' : None,                          # String ( special character with escape \\ )\n",
        "              'number' : None,                                        # Integer\n",
        "              'city' : 'Delhi',                                   # String \n",
        "              'floor' : None,                                       # Null \n",
        "              'postalcode' : '700001',                              # String containing a number\n",
        "              },\n",
        "          'favouritefruits': ['apple','guava','mango']         # Array        \n",
        "       }\n",
        "\n",
        "cDoc4 = {  'name' : 'Aditya' ,                                     # String \n",
        "          'age' : '47',                                             # Integer\n",
        "          'gender' : 'Male',                                        # String \n",
        "          'likes_code' : False,                                      # Boolean\n",
        "          'address': {\n",
        "              'street' : None,                          # String ( special character with escape \\ )\n",
        "              'number' : None,                                        # Integer\n",
        "              'city' : 'Lucknow',                                   # String \n",
        "              'floor' : None,                                       # Null \n",
        "              'postalcode' : '700001',                              # String containing a number\n",
        "              },\n",
        "          'favouritefruits': ['apple','guava','mango']         # Array        \n",
        "       }"
      ],
      "execution_count": 20,
      "outputs": []
    },
    {
      "cell_type": "code",
      "metadata": {
        "id": "E1G_ekmD-0LJ"
      },
      "source": [
        "insert_result = kollection3.insert_many([cDoc3,cDoc4])"
      ],
      "execution_count": 21,
      "outputs": []
    },
    {
      "cell_type": "code",
      "metadata": {
        "id": "Iyzy_8Pr_U4V",
        "outputId": "88e38714-4413-4452-f5b1-403bd37a0287",
        "colab": {
          "base_uri": "https://localhost:8080/"
        }
      },
      "source": [
        "#c = db.AddressBook.find()\n",
        "c = kollection3.find()\n",
        "for crnt in c:\n",
        "    print(crnt)"
      ],
      "execution_count": 22,
      "outputs": [
        {
          "output_type": "stream",
          "name": "stdout",
          "text": [
            "{'_id': ObjectId('642e63fc5b87a3628880cd0f'), 'name': 'Prithwis', 'age': '59', 'gender': 'Male', 'likes_code': True, 'address': {'street': 'Panditiya Road', 'number': 36, 'city': 'Kolkata', 'floor': None, 'postalcode': '700029'}, 'favouritefruits': ['apple', 'pineapple', 'orange']}\n",
            "{'_id': ObjectId('642e641c5b87a3628880cd10'), 'name': 'Charanpreet', 'age': '57', 'gender': 'Male', 'likes_code': False, 'address': {'street': None, 'number': None, 'city': 'Kolkata', 'floor': None, 'postalcode': '700001'}, 'favouritefruits': ['apple', 'guava', 'mango']}\n",
            "{'_id': ObjectId('642e64295b87a3628880cd11'), 'name': 'Narendra', 'age': '67', 'gender': 'Male', 'likes_code': False, 'address': {'street': None, 'number': None, 'city': 'Delhi', 'floor': None, 'postalcode': '700001'}, 'favouritefruits': ['apple', 'guava', 'mango']}\n",
            "{'_id': ObjectId('642e64295b87a3628880cd12'), 'name': 'Aditya', 'age': '47', 'gender': 'Male', 'likes_code': False, 'address': {'street': None, 'number': None, 'city': 'Lucknow', 'floor': None, 'postalcode': '700001'}, 'favouritefruits': ['apple', 'guava', 'mango']}\n"
          ]
        }
      ]
    },
    {
      "cell_type": "markdown",
      "metadata": {
        "id": "GPRzmxx0n_P2"
      },
      "source": [
        "## Read"
      ]
    },
    {
      "cell_type": "code",
      "metadata": {
        "colab": {
          "base_uri": "https://localhost:8080/"
        },
        "id": "T36P4fbYoG4o",
        "outputId": "f534f036-4cb2-4cca-8909-8738eb21adb3"
      },
      "source": [
        "list(kollection3.find())"
      ],
      "execution_count": 23,
      "outputs": [
        {
          "output_type": "execute_result",
          "data": {
            "text/plain": [
              "[{'_id': ObjectId('642e63fc5b87a3628880cd0f'),\n",
              "  'name': 'Prithwis',\n",
              "  'age': '59',\n",
              "  'gender': 'Male',\n",
              "  'likes_code': True,\n",
              "  'address': {'street': 'Panditiya Road',\n",
              "   'number': 36,\n",
              "   'city': 'Kolkata',\n",
              "   'floor': None,\n",
              "   'postalcode': '700029'},\n",
              "  'favouritefruits': ['apple', 'pineapple', 'orange']},\n",
              " {'_id': ObjectId('642e641c5b87a3628880cd10'),\n",
              "  'name': 'Charanpreet',\n",
              "  'age': '57',\n",
              "  'gender': 'Male',\n",
              "  'likes_code': False,\n",
              "  'address': {'street': None,\n",
              "   'number': None,\n",
              "   'city': 'Kolkata',\n",
              "   'floor': None,\n",
              "   'postalcode': '700001'},\n",
              "  'favouritefruits': ['apple', 'guava', 'mango']},\n",
              " {'_id': ObjectId('642e64295b87a3628880cd11'),\n",
              "  'name': 'Narendra',\n",
              "  'age': '67',\n",
              "  'gender': 'Male',\n",
              "  'likes_code': False,\n",
              "  'address': {'street': None,\n",
              "   'number': None,\n",
              "   'city': 'Delhi',\n",
              "   'floor': None,\n",
              "   'postalcode': '700001'},\n",
              "  'favouritefruits': ['apple', 'guava', 'mango']},\n",
              " {'_id': ObjectId('642e64295b87a3628880cd12'),\n",
              "  'name': 'Aditya',\n",
              "  'age': '47',\n",
              "  'gender': 'Male',\n",
              "  'likes_code': False,\n",
              "  'address': {'street': None,\n",
              "   'number': None,\n",
              "   'city': 'Lucknow',\n",
              "   'floor': None,\n",
              "   'postalcode': '700001'},\n",
              "  'favouritefruits': ['apple', 'guava', 'mango']}]"
            ]
          },
          "metadata": {},
          "execution_count": 23
        }
      ]
    },
    {
      "cell_type": "code",
      "metadata": {
        "colab": {
          "base_uri": "https://localhost:8080/"
        },
        "id": "h_Ud5w3PoR_J",
        "outputId": "8ec2b3ce-5e94-4303-ccc7-ce4a1d7854c7"
      },
      "source": [
        "#list ( collection.find( {'name' : 'Charanpreet' } ))   \n",
        "list ( kollection3.find( {'name' : 'Prithwis' } ))   "
      ],
      "execution_count": null,
      "outputs": [
        {
          "output_type": "execute_result",
          "data": {
            "text/plain": [
              "[{'_id': ObjectId('619db1c0c365f4331ba5e274'),\n",
              "  'address': {'city': 'Kolkata',\n",
              "   'floor': None,\n",
              "   'number': 36,\n",
              "   'postalcode': '700029',\n",
              "   'street': 'Panditiya Road'},\n",
              "  'age': '59',\n",
              "  'favouritefruits': ['apple', 'pineapple', 'orange'],\n",
              "  'gender': 'Male',\n",
              "  'likes_code': True,\n",
              "  'name': 'Prithwis'}]"
            ]
          },
          "metadata": {},
          "execution_count": 55
        }
      ]
    },
    {
      "cell_type": "code",
      "metadata": {
        "colab": {
          "base_uri": "https://localhost:8080/"
        },
        "id": "y_id749PomLI",
        "outputId": "8f577778-abc2-48dc-aaf0-85f62dcab87c"
      },
      "source": [
        "list ( kollection3.find( {'address.postalcode' : '700029' } ))             # find, can use one key or more "
      ],
      "execution_count": null,
      "outputs": [
        {
          "output_type": "execute_result",
          "data": {
            "text/plain": [
              "[{'_id': ObjectId('619db1c0c365f4331ba5e274'),\n",
              "  'address': {'city': 'Kolkata',\n",
              "   'floor': None,\n",
              "   'number': 36,\n",
              "   'postalcode': '700029',\n",
              "   'street': 'Panditiya Road'},\n",
              "  'age': '59',\n",
              "  'favouritefruits': ['apple', 'pineapple', 'orange'],\n",
              "  'gender': 'Male',\n",
              "  'likes_code': True,\n",
              "  'name': 'Prithwis'}]"
            ]
          },
          "metadata": {},
          "execution_count": 56
        }
      ]
    },
    {
      "cell_type": "markdown",
      "metadata": {
        "id": "IBXAOYdrq0VY"
      },
      "source": [
        "## Update"
      ]
    },
    {
      "cell_type": "code",
      "metadata": {
        "colab": {
          "base_uri": "https://localhost:8080/"
        },
        "id": "wPzOXNXrq2Zh",
        "outputId": "15eb51f9-5fef-438a-f1e0-a5b8f4a0a429"
      },
      "source": [
        "## Update an existing document\n",
        "update_result = kollection3.update_one( \n",
        "    {'name' : 'Prithwis'}, \n",
        "    {'$set' : { 'age' : 101 }} ) \n",
        "\n",
        "list (kollection3.find( {'name' : 'Prithwis' } ))\n",
        "\n",
        "# Alternative : collection.find_one_and_update( {'name' : Name}, {'$set' : { 'age' : 30 }} ) "
      ],
      "execution_count": 24,
      "outputs": [
        {
          "output_type": "execute_result",
          "data": {
            "text/plain": [
              "[{'_id': ObjectId('642e63fc5b87a3628880cd0f'),\n",
              "  'name': 'Prithwis',\n",
              "  'age': 101,\n",
              "  'gender': 'Male',\n",
              "  'likes_code': True,\n",
              "  'address': {'street': 'Panditiya Road',\n",
              "   'number': 36,\n",
              "   'city': 'Kolkata',\n",
              "   'floor': None,\n",
              "   'postalcode': '700029'},\n",
              "  'favouritefruits': ['apple', 'pineapple', 'orange']}]"
            ]
          },
          "metadata": {},
          "execution_count": 24
        }
      ]
    },
    {
      "cell_type": "code",
      "metadata": {
        "colab": {
          "base_uri": "https://localhost:8080/"
        },
        "id": "-Ne8eOS2rW-Y",
        "outputId": "c995166c-af20-4100-a522-ed46587d0710"
      },
      "source": [
        "## Update an existing document\n",
        "update_result = kollection3.update_one( \n",
        "    {'name' : 'Prithwis'}, \n",
        "    {'$set' : { 'name' : 'Prithwis Mukerjee' }} ) \n",
        "\n",
        "list (kollection3.find( {'name' : 'Prithwis Mukerjee' } ))"
      ],
      "execution_count": 25,
      "outputs": [
        {
          "output_type": "execute_result",
          "data": {
            "text/plain": [
              "[{'_id': ObjectId('642e63fc5b87a3628880cd0f'),\n",
              "  'name': 'Prithwis Mukerjee',\n",
              "  'age': 101,\n",
              "  'gender': 'Male',\n",
              "  'likes_code': True,\n",
              "  'address': {'street': 'Panditiya Road',\n",
              "   'number': 36,\n",
              "   'city': 'Kolkata',\n",
              "   'floor': None,\n",
              "   'postalcode': '700029'},\n",
              "  'favouritefruits': ['apple', 'pineapple', 'orange']}]"
            ]
          },
          "metadata": {},
          "execution_count": 25
        }
      ]
    },
    {
      "cell_type": "markdown",
      "metadata": {
        "id": "sAd5JaUOZOq1"
      },
      "source": [
        "## Additional stuff \n",
        "https://www.analyticsvidhya.com/blog/2020/02/mongodb-in-python-tutorial-for-beginners-using-pymongo/"
      ]
    },
    {
      "cell_type": "markdown",
      "metadata": {
        "id": "izDtEXYmYBwF"
      },
      "source": [
        "#Chronobooks <br>\n",
        "Two science fiction novels by Prithwis Mukerjee. A dystopian Earth. A technocratic society managed by artificial intelligence. Escape and epiphany on Mars. Can man and machine, carbon and silicon explore and escape into other dimensions of existence? An Indic perspective rooted in Advaita Vedanta and the Divine Feminine.  [More information](http://bit.ly/chronobooks) <br>\n",
        "![alt text](https://github.com/Praxis-QR/RDWH/raw/main/images/CTCYFooter-1.png)"
      ]
    }
  ]
}