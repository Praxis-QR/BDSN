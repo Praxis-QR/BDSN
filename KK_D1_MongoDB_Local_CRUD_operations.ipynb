{
  "nbformat": 4,
  "nbformat_minor": 0,
  "metadata": {
    "colab": {
      "name": "KK D1  MongoDB : Local  : CRUD  operations",
      "provenance": [],
      "include_colab_link": true
    },
    "kernelspec": {
      "name": "python3",
      "display_name": "Python 3"
    },
    "language_info": {
      "name": "python"
    }
  },
  "cells": [
    {
      "cell_type": "markdown",
      "metadata": {
        "id": "view-in-github",
        "colab_type": "text"
      },
      "source": [
        "<a href=\"https://colab.research.google.com/github/Praxis-QR/BDSN/blob/main/KK_D1_MongoDB_Local_CRUD_operations.ipynb\" target=\"_parent\"><img src=\"https://colab.research.google.com/assets/colab-badge.svg\" alt=\"Open In Colab\"/></a>"
      ]
    },
    {
      "cell_type": "markdown",
      "metadata": {
        "id": "1SPjiBEzX8xN"
      },
      "source": [
        "![alt text](https://github.com/Praxis-QR/RDWH/raw/main/images/YantraJaalBanner.png)<br>\n",
        "\n",
        "\n",
        "<hr>\n",
        "\n",
        "[Prithwis Mukerjee](http://www.linkedin.com/in/prithwis)<br>"
      ]
    },
    {
      "cell_type": "code",
      "source": [
        "from datetime import datetime\n",
        "import pytz\n",
        "print('Executed on ',datetime.now(pytz.timezone('Asia/Calcutta')))\n",
        "!python --version\n",
        "!lsb_release -a"
      ],
      "metadata": {
        "id": "evTco63oMN4s",
        "outputId": "d1659db8-e20f-4b17-cff1-19dbda714e6e",
        "colab": {
          "base_uri": "https://localhost:8080/"
        }
      },
      "execution_count": 1,
      "outputs": [
        {
          "output_type": "stream",
          "name": "stdout",
          "text": [
            "Executed on  2023-07-26 11:03:21.471725+05:30\n",
            "Python 3.10.6\n",
            "No LSB modules are available.\n",
            "Distributor ID:\tUbuntu\n",
            "Description:\tUbuntu 22.04.2 LTS\n",
            "Release:\t22.04\n",
            "Codename:\tjammy\n"
          ]
        }
      ]
    },
    {
      "cell_type": "markdown",
      "metadata": {
        "id": "u7UmFH23YJ9Q"
      },
      "source": [
        "Based on https://github.com/giffy/MongoDB_PyMongo_Tutorial"
      ]
    },
    {
      "cell_type": "markdown",
      "metadata": {
        "id": "u4fPiXfdYevn"
      },
      "source": [
        "#Installs"
      ]
    },
    {
      "cell_type": "code",
      "source": [
        "#check which version of MongoDB / pymongo is available\n",
        "#!apt-cache policy mongodb\n",
        "#!pip show pymongo\n",
        "!pip3 index versions pymongo"
      ],
      "metadata": {
        "id": "g3U7TRI-7J-W",
        "outputId": "649a8bb3-653c-4ecf-d11b-5b586fb80668",
        "colab": {
          "base_uri": "https://localhost:8080/"
        }
      },
      "execution_count": 2,
      "outputs": [
        {
          "output_type": "stream",
          "name": "stdout",
          "text": [
            "\u001b[33mWARNING: pip index is currently an experimental command. It may be removed/changed in a future release without prior warning.\u001b[0m\u001b[33m\n",
            "\u001b[0mpymongo (4.4.1)\n",
            "Available versions: 4.4.1, 4.4.0, 4.3.3, 4.3.2, 4.2.0, 4.1.1, 4.1.0, 4.0.2, 4.0.1, 4.0, 3.13.0, 3.12.3, 3.12.2, 3.12.1, 3.12.0, 3.11.4, 3.11.3, 3.11.2, 3.11.1, 3.11.0, 3.10.1, 3.10.0, 3.9.0, 3.8.0, 3.7.2, 3.7.1, 3.7.0, 3.6.1, 3.6.0, 3.5.1, 3.5.0, 3.4.0, 3.3.1, 3.3.0, 3.2.2, 3.2.1, 3.2, 3.1.1, 3.1, 3.0.3, 3.0.2, 3.0.1, 3.0, 2.9.5, 2.9.4, 2.9.3, 2.9.2, 2.9.1, 2.9, 2.8.1, 2.8, 2.7.2, 2.7.1, 2.7, 2.6.3, 2.6.2, 2.6.1, 2.6, 2.5.2, 2.5.1, 2.5, 2.4.2, 2.4.1, 2.4, 2.3, 2.2.1, 2.2, 2.1.1, 2.1, 2.0.1, 2.0, 1.11, 1.10.1, 1.10, 1.9, 1.8.1, 1.8, 1.7, 1.6, 1.5.2, 1.5.1, 1.5, 1.4, 1.3, 1.2.1, 1.2, 1.1.2, 1.1.1, 1.1, 1.0, 0.16, 0.15.2, 0.15.1, 0.15, 0.14.2, 0.14.1, 0.14, 0.13, 0.12, 0.11.3, 0.11.2, 0.11.1, 0.11, 0.10.3, 0.10.2, 0.10.1, 0.10, 0.9.7, 0.9.6, 0.9.5, 0.9.4, 0.9.3, 0.9.2, 0.9.1, 0.9, 0.8.1, 0.8, 0.7.2, 0.7.1, 0.7, 0.6\n"
          ]
        }
      ]
    },
    {
      "cell_type": "code",
      "source": [
        "#!curl https://pypi.org/pypi/pymongo/json"
      ],
      "metadata": {
        "id": "LPgVXhvp9rMp"
      },
      "execution_count": null,
      "outputs": []
    },
    {
      "cell_type": "code",
      "metadata": {
        "id": "bv6pDRWUYodX"
      },
      "source": [
        "#!apt install mongodb > /dev/null\n",
        "\n",
        "#Local Server Need Not be started for Remote Operations\n",
        "#!service mongodb start\n",
        "#!mongod --version"
      ],
      "execution_count": 3,
      "outputs": []
    },
    {
      "cell_type": "code",
      "source": [
        "# Updated Install Sequence for MongoDB\n",
        "# https://www.mongodb.com/docs/manual/tutorial/install-mongodb-on-ubuntu/\n",
        "# Note Ubuntu versio 'jammy'\n",
        "!curl -fsSL https://pgp.mongodb.com/server-6.0.asc | \\\n",
        "   sudo gpg -o /usr/share/keyrings/mongodb-server-6.0.gpg \\\n",
        "   --dearmor\n",
        "# -----------------------\n",
        "# Note reference to jammy\n",
        "!echo \"deb [ arch=amd64,arm64 signed-by=/usr/share/keyrings/mongodb-server-6.0.gpg ] https://repo.mongodb.org/apt/ubuntu jammy/mongodb-org/6.0 multiverse\" | sudo tee /etc/apt/sources.list.d/mongodb-org-6.0.list\n",
        "# -----------------------\n",
        "!sudo apt-get update > /dev/null\n",
        "!sudo apt-get install -y mongodb-org > /dev/null              # ignore error and warning messages"
      ],
      "metadata": {
        "id": "H1zMugvHshIQ",
        "outputId": "0a184d79-aff5-43c3-945a-68df5f53f355",
        "colab": {
          "base_uri": "https://localhost:8080/"
        }
      },
      "execution_count": 5,
      "outputs": [
        {
          "output_type": "stream",
          "name": "stdout",
          "text": [
            "deb [ arch=amd64,arm64 signed-by=/usr/share/keyrings/mongodb-server-6.0.gpg ] https://repo.mongodb.org/apt/ubuntu jammy/mongodb-org/6.0 multiverse\n",
            "debconf: unable to initialize frontend: Dialog\n",
            "debconf: (No usable dialog-like program is installed, so the dialog based frontend cannot be used. at /usr/share/perl5/Debconf/FrontEnd/Dialog.pm line 78, <> line 9.)\n",
            "debconf: falling back to frontend: Readline\n",
            "debconf: unable to initialize frontend: Readline\n",
            "debconf: (This frontend requires a controlling tty.)\n",
            "debconf: falling back to frontend: Teletype\n",
            "dpkg-preconfigure: unable to re-open stdin: \n"
          ]
        }
      ]
    },
    {
      "cell_type": "code",
      "source": [
        "#!sudo service mongodb start --- this should work but does not\n",
        "# -----------------------\n",
        "# https://unix.stackexchange.com/questions/715119/system-v-init-service-cant-recongnise-mongod\n",
        "!sudo mkdir -p /var/log/mongodb /var/lib/mongodb\n",
        "!sudo chown `whoami` /var/lib/mongodb /var/log/mongodb/\n",
        "# -----------------------\n",
        "# Manually start MongoDB in background mode, to free up the terminal\n",
        "!nohup mongod --config /etc/mongod.conf &\n",
        "!mongod --version"
      ],
      "metadata": {
        "id": "Y7P47d9ItwuS",
        "outputId": "e605fbfe-6342-44f9-c95c-1820f9019016",
        "colab": {
          "base_uri": "https://localhost:8080/"
        }
      },
      "execution_count": 7,
      "outputs": [
        {
          "output_type": "stream",
          "name": "stdout",
          "text": [
            "nohup: appending output to 'nohup.out'\n",
            "db version v6.0.8\n",
            "Build Info: {\n",
            "    \"version\": \"6.0.8\",\n",
            "    \"gitVersion\": \"3d84c0dd4e5d99be0d69003652313e7eaf4cdd74\",\n",
            "    \"openSSLVersion\": \"OpenSSL 3.0.2 15 Mar 2022\",\n",
            "    \"modules\": [],\n",
            "    \"allocator\": \"tcmalloc\",\n",
            "    \"environment\": {\n",
            "        \"distmod\": \"ubuntu2204\",\n",
            "        \"distarch\": \"x86_64\",\n",
            "        \"target_arch\": \"x86_64\"\n",
            "    }\n",
            "}\n"
          ]
        }
      ]
    },
    {
      "cell_type": "code",
      "source": [
        "!pip -qq install pymongo\n",
        "from pymongo import MongoClient\n",
        "import pandas as pd\n",
        "import dateutil"
      ],
      "metadata": {
        "id": "dxuy5uvAM8y6",
        "outputId": "ca1e8af7-b375-4764-c0e4-63972277c4cd",
        "colab": {
          "base_uri": "https://localhost:8080/"
        }
      },
      "execution_count": 4,
      "outputs": [
        {
          "output_type": "stream",
          "name": "stdout",
          "text": [
            "\u001b[?25l     \u001b[90m━━━━━━━━━━━━━━━━━━━━━━━━━━━━━━━━━━━━━━━━\u001b[0m \u001b[32m0.0/603.6 kB\u001b[0m \u001b[31m?\u001b[0m eta \u001b[36m-:--:--\u001b[0m\r\u001b[2K     \u001b[91m━━━━━\u001b[0m\u001b[90m╺\u001b[0m\u001b[90m━━━━━━━━━━━━━━━━━━━━━━━━━━━━━━━━━━\u001b[0m \u001b[32m81.9/603.6 kB\u001b[0m \u001b[31m2.5 MB/s\u001b[0m eta \u001b[36m0:00:01\u001b[0m\r\u001b[2K     \u001b[91m━━━━━━━━━━━━━━━━━━━━━━━━━━━━━━━━━━━━━━\u001b[0m\u001b[90m╺\u001b[0m \u001b[32m593.9/603.6 kB\u001b[0m \u001b[31m9.5 MB/s\u001b[0m eta \u001b[36m0:00:01\u001b[0m\r\u001b[2K     \u001b[90m━━━━━━━━━━━━━━━━━━━━━━━━━━━━━━━━━━━━━━━\u001b[0m \u001b[32m603.6/603.6 kB\u001b[0m \u001b[31m8.1 MB/s\u001b[0m eta \u001b[36m0:00:00\u001b[0m\n",
            "\u001b[2K     \u001b[90m━━━━━━━━━━━━━━━━━━━━━━━━━━━━━━━━━━━━━━\u001b[0m \u001b[32m300.0/300.0 kB\u001b[0m \u001b[31m24.4 MB/s\u001b[0m eta \u001b[36m0:00:00\u001b[0m\n",
            "\u001b[2K     \u001b[90m━━━━━━━━━━━━━━━━━━━━━━━━━━━━━━━━━━━━━━━━\u001b[0m \u001b[32m74.5/74.5 kB\u001b[0m \u001b[31m7.7 MB/s\u001b[0m eta \u001b[36m0:00:00\u001b[0m\n",
            "\u001b[2K     \u001b[90m━━━━━━━━━━━━━━━━━━━━━━━━━━━━━━━━━━━━━━━━\u001b[0m \u001b[32m58.3/58.3 kB\u001b[0m \u001b[31m5.7 MB/s\u001b[0m eta \u001b[36m0:00:00\u001b[0m\n",
            "\u001b[?25h"
          ]
        }
      ]
    },
    {
      "cell_type": "code",
      "metadata": {
        "colab": {
          "base_uri": "https://localhost:8080/"
        },
        "id": "YBZMGZMAY8i8",
        "outputId": "734ced90-66e1-4a68-aaa2-1d3c3cd0e48a"
      },
      "source": [
        "mongoURI = \"mongodb://localhost:27017/\"\n",
        "client = MongoClient(mongoURI)\n",
        "client.list_database_names() # ['admin', 'config', 'local']"
      ],
      "execution_count": 8,
      "outputs": [
        {
          "output_type": "execute_result",
          "data": {
            "text/plain": [
              "['admin', 'config', 'local']"
            ]
          },
          "metadata": {},
          "execution_count": 8
        }
      ]
    },
    {
      "cell_type": "markdown",
      "metadata": {
        "id": "MN79GhZSaQCD"
      },
      "source": [
        "# Create Database objects"
      ]
    },
    {
      "cell_type": "code",
      "metadata": {
        "colab": {
          "base_uri": "https://localhost:8080/"
        },
        "id": "cnI-oi8waWju",
        "outputId": "66c1339f-38e8-445f-c39b-a2b3fdb5f6b0"
      },
      "source": [
        "# Database PraxisDB will be created only when we create collections, or documents in it\n",
        "mongoURI = \"mongodb://localhost:27017/\"\n",
        "client = MongoClient(mongoURI)\n",
        "client.list_database_names()"
      ],
      "execution_count": 9,
      "outputs": [
        {
          "output_type": "execute_result",
          "data": {
            "text/plain": [
              "['admin', 'config', 'local']"
            ]
          },
          "metadata": {},
          "execution_count": 9
        }
      ]
    },
    {
      "cell_type": "code",
      "metadata": {
        "id": "LUAvup4qcabt"
      },
      "source": [
        "# Delete a database\n",
        "client.drop_database('PraxisDB')"
      ],
      "execution_count": 10,
      "outputs": []
    },
    {
      "cell_type": "code",
      "metadata": {
        "colab": {
          "base_uri": "https://localhost:8080/"
        },
        "id": "1PkkdbCXa5_0",
        "outputId": "e3961109-84c1-4a38-a828-ba90c29ce144"
      },
      "source": [
        "# Create a new collection. We can create the collection or leave to MongoDB to create it as soon as a document is generated.\n",
        "db = client.PraxisDB\n",
        "db.create_collection('addresses')       # Optional collection creation"
      ],
      "execution_count": 11,
      "outputs": [
        {
          "output_type": "execute_result",
          "data": {
            "text/plain": [
              "Collection(Database(MongoClient(host=['localhost:27017'], document_class=dict, tz_aware=False, connect=True), 'PraxisDB'), 'addresses')"
            ]
          },
          "metadata": {},
          "execution_count": 11
        }
      ]
    },
    {
      "cell_type": "code",
      "metadata": {
        "colab": {
          "base_uri": "https://localhost:8080/"
        },
        "id": "aFJuoBcBcvvf",
        "outputId": "6ccc18f2-0068-4660-c006-ba6dcb8a0516"
      },
      "source": [
        "# Show Collections. Query returns a Cursor [ ] ,  list it to see the content\n",
        "list (db.list_collections())\n",
        "# empty list '[]' means that there are not collections in database"
      ],
      "execution_count": 12,
      "outputs": [
        {
          "output_type": "execute_result",
          "data": {
            "text/plain": [
              "[{'name': 'addresses',\n",
              "  'type': 'collection',\n",
              "  'options': {},\n",
              "  'info': {'readOnly': False,\n",
              "   'uuid': Binary(b'-\\xbe\\xf9\\xbem\\xfeH\\xb5\\x9b-\\xce\\xc8\\x97]\\xa1\\xdc', 4)},\n",
              "  'idIndex': {'v': 2, 'key': {'_id': 1}, 'name': '_id_'}}]"
            ]
          },
          "metadata": {},
          "execution_count": 12
        }
      ]
    },
    {
      "cell_type": "code",
      "metadata": {
        "colab": {
          "base_uri": "https://localhost:8080/"
        },
        "id": "1ek9pCUwdOAq",
        "outputId": "abf8d019-3ce0-45f4-d72c-e8ae62175f04"
      },
      "source": [
        "# Set the collection to work with\n",
        "kollection = db.addresses\n",
        "kollection.insert_one({'name' : 'jordi'})     # Insert one item to create the collection\n",
        "list (kollection.find())                  # Show the existing collections"
      ],
      "execution_count": 13,
      "outputs": [
        {
          "output_type": "execute_result",
          "data": {
            "text/plain": [
              "[{'_id': ObjectId('64c0b6235404fd72dbfb06c9'), 'name': 'jordi'}]"
            ]
          },
          "metadata": {},
          "execution_count": 13
        }
      ]
    },
    {
      "cell_type": "code",
      "metadata": {
        "colab": {
          "base_uri": "https://localhost:8080/"
        },
        "id": "gHnx-GEjdz_l",
        "outputId": "bb360950-a294-4545-e986-9d340240b67c"
      },
      "source": [
        "# Rename a collections\n",
        "db.addresses.rename('addressbook')\n",
        "kollection2 = db.addressbook                   # Set the collection to work with\n",
        "list (db.list_collections())                  # Show the existing collections"
      ],
      "execution_count": 14,
      "outputs": [
        {
          "output_type": "execute_result",
          "data": {
            "text/plain": [
              "[{'name': 'addressbook',\n",
              "  'type': 'collection',\n",
              "  'options': {},\n",
              "  'info': {'readOnly': False,\n",
              "   'uuid': Binary(b'-\\xbe\\xf9\\xbem\\xfeH\\xb5\\x9b-\\xce\\xc8\\x97]\\xa1\\xdc', 4)},\n",
              "  'idIndex': {'v': 2, 'key': {'_id': 1}, 'name': '_id_'}}]"
            ]
          },
          "metadata": {},
          "execution_count": 14
        }
      ]
    },
    {
      "cell_type": "code",
      "metadata": {
        "colab": {
          "base_uri": "https://localhost:8080/"
        },
        "id": "0IG9ZsQleFoF",
        "outputId": "e9313a37-07da-41af-f30c-64e5db336964"
      },
      "source": [
        "# Delete collection\n",
        "db.drop_collection('addressbook')"
      ],
      "execution_count": 15,
      "outputs": [
        {
          "output_type": "execute_result",
          "data": {
            "text/plain": [
              "{'nIndexesWas': 1, 'ns': 'PraxisDB.addressbook', 'ok': 1.0}"
            ]
          },
          "metadata": {},
          "execution_count": 15
        }
      ]
    },
    {
      "cell_type": "code",
      "metadata": {
        "colab": {
          "base_uri": "https://localhost:8080/"
        },
        "id": "WEo7QOCHgPSd",
        "outputId": "b07aafda-7a61-4933-ae3c-0e9242e5cfaa"
      },
      "source": [
        "client.list_database_names()"
      ],
      "execution_count": 16,
      "outputs": [
        {
          "output_type": "execute_result",
          "data": {
            "text/plain": [
              "['admin', 'config', 'local']"
            ]
          },
          "metadata": {},
          "execution_count": 16
        }
      ]
    },
    {
      "cell_type": "markdown",
      "metadata": {
        "id": "XYb26s0ben-d"
      },
      "source": [
        "# Operations"
      ]
    },
    {
      "cell_type": "markdown",
      "metadata": {
        "id": "f6fmmd4-mD1Z"
      },
      "source": [
        "## Single Row Insert"
      ]
    },
    {
      "cell_type": "code",
      "metadata": {
        "id": "WWzXPNecesiQ"
      },
      "source": [
        "cDoc1 = {  'name' : 'Prithwis' ,                                     # String\n",
        "          'age' : '59',                                             # Integer\n",
        "          'gender' : 'Male',                                        # String\n",
        "          'likes_code' : True,                                      # Boolean\n",
        "          'address': {\n",
        "              'street' : 'Panditiya Road',                          # String ( special character with escape \\ )\n",
        "              'number' : 36,                                        # Integer\n",
        "              'city' : 'Kolkata',                                   # String\n",
        "              'floor' : None,                                       # Null\n",
        "              'postalcode' : '700029',                              # String containing a number\n",
        "              },\n",
        "          'favouritefruits': ['apple','pineapple','orange']         # Array\n",
        "       }"
      ],
      "execution_count": 17,
      "outputs": []
    },
    {
      "cell_type": "code",
      "metadata": {
        "colab": {
          "base_uri": "https://localhost:8080/"
        },
        "id": "yivR6yuSgYNg",
        "outputId": "c8e38b03-a267-4dc3-fa9e-59cb0913aca0"
      },
      "source": [
        "# Define database, collection etc\n",
        "db = client.PraxisDB\n",
        "# Delete collection\n",
        "db.drop_collection('AddressBook')\n",
        "db.create_collection('AddressBook')       # Optional collection creation\n",
        "kollection3 = db.AddressBook                   # Set the collection to work with\n",
        "insert_result = kollection3.insert_one( cDoc1)\n",
        "insert_result.acknowledged    # Confirms that insert is successful"
      ],
      "execution_count": 18,
      "outputs": [
        {
          "output_type": "execute_result",
          "data": {
            "text/plain": [
              "True"
            ]
          },
          "metadata": {},
          "execution_count": 18
        }
      ]
    },
    {
      "cell_type": "code",
      "metadata": {
        "colab": {
          "base_uri": "https://localhost:8080/"
        },
        "id": "I-HuwnBJhdTp",
        "outputId": "9d4e57ce-8bb9-4991-9b85-434e89a2ea55"
      },
      "source": [
        "insert_result.inserted_id     # Shows the document ID"
      ],
      "execution_count": 19,
      "outputs": [
        {
          "output_type": "execute_result",
          "data": {
            "text/plain": [
              "ObjectId('64c0b6515404fd72dbfb06ca')"
            ]
          },
          "metadata": {},
          "execution_count": 19
        }
      ]
    },
    {
      "cell_type": "code",
      "metadata": {
        "colab": {
          "base_uri": "https://localhost:8080/"
        },
        "id": "aIMKBCARi2aU",
        "outputId": "002426f0-5a12-45d9-b8a0-f1effb2b5fb8"
      },
      "source": [
        "db.AddressBook.find()  # returns a cursor"
      ],
      "execution_count": 20,
      "outputs": [
        {
          "output_type": "execute_result",
          "data": {
            "text/plain": [
              "<pymongo.cursor.Cursor at 0x78f3fcd819c0>"
            ]
          },
          "metadata": {},
          "execution_count": 20
        }
      ]
    },
    {
      "cell_type": "code",
      "metadata": {
        "colab": {
          "base_uri": "https://localhost:8080/"
        },
        "id": "lHro1WFEi-JN",
        "outputId": "36c1fff0-1f16-48db-8764-c4cc4be911eb"
      },
      "source": [
        "#c = db.AddressBook.find()\n",
        "c = kollection3.find()\n",
        "for crnt in c:\n",
        "    print(crnt)"
      ],
      "execution_count": 21,
      "outputs": [
        {
          "output_type": "stream",
          "name": "stdout",
          "text": [
            "{'_id': ObjectId('64c0b6515404fd72dbfb06ca'), 'name': 'Prithwis', 'age': '59', 'gender': 'Male', 'likes_code': True, 'address': {'street': 'Panditiya Road', 'number': 36, 'city': 'Kolkata', 'floor': None, 'postalcode': '700029'}, 'favouritefruits': ['apple', 'pineapple', 'orange']}\n"
          ]
        }
      ]
    },
    {
      "cell_type": "code",
      "metadata": {
        "id": "7FjzfIlgjStF"
      },
      "source": [
        "cDoc2 = {  'name' : 'Charanpreet' ,                                     # String\n",
        "          'age' : '57',                                             # Integer\n",
        "          'gender' : 'Male',                                        # String\n",
        "          'likes_code' : False,                                      # Boolean\n",
        "          'address': {\n",
        "              'street' : None,                          # String ( special character with escape \\ )\n",
        "              'number' : None,                                        # Integer\n",
        "              'city' : 'Kolkata',                                   # String\n",
        "              'floor' : None,                                       # Null\n",
        "              'postalcode' : '700001',                              # String containing a number\n",
        "              },\n",
        "          'favouritefruits': ['apple','guava','mango']         # Array\n",
        "       }"
      ],
      "execution_count": 22,
      "outputs": []
    },
    {
      "cell_type": "code",
      "metadata": {
        "colab": {
          "base_uri": "https://localhost:8080/"
        },
        "id": "TZl2ENI8l1u-",
        "outputId": "58fce187-968d-4387-b34a-57ee7ec01bfb"
      },
      "source": [
        "insert_result = kollection3.insert_one( cDoc2)\n",
        "insert_result.acknowledged    # Confirms that insert is successful"
      ],
      "execution_count": 23,
      "outputs": [
        {
          "output_type": "execute_result",
          "data": {
            "text/plain": [
              "True"
            ]
          },
          "metadata": {},
          "execution_count": 23
        }
      ]
    },
    {
      "cell_type": "code",
      "metadata": {
        "colab": {
          "base_uri": "https://localhost:8080/"
        },
        "id": "5WYPQluVl6wJ",
        "outputId": "f34057b2-050d-4ffe-a524-dbec4172af61"
      },
      "source": [
        "#c = db.AddressBook.find()\n",
        "c = kollection3.find()\n",
        "for crnt in c:\n",
        "    print(crnt)"
      ],
      "execution_count": 24,
      "outputs": [
        {
          "output_type": "stream",
          "name": "stdout",
          "text": [
            "{'_id': ObjectId('64c0b6515404fd72dbfb06ca'), 'name': 'Prithwis', 'age': '59', 'gender': 'Male', 'likes_code': True, 'address': {'street': 'Panditiya Road', 'number': 36, 'city': 'Kolkata', 'floor': None, 'postalcode': '700029'}, 'favouritefruits': ['apple', 'pineapple', 'orange']}\n",
            "{'_id': ObjectId('64c0b6515404fd72dbfb06cb'), 'name': 'Charanpreet', 'age': '57', 'gender': 'Male', 'likes_code': False, 'address': {'street': None, 'number': None, 'city': 'Kolkata', 'floor': None, 'postalcode': '700001'}, 'favouritefruits': ['apple', 'guava', 'mango']}\n"
          ]
        }
      ]
    },
    {
      "cell_type": "code",
      "metadata": {
        "id": "6orcB9kK-fG4"
      },
      "source": [
        "cDoc3 = {  'name' : 'Narendra' ,                                     # String\n",
        "          'age' : '67',                                             # Integer\n",
        "          'gender' : 'Male',                                        # String\n",
        "          'likes_code' : False,                                      # Boolean\n",
        "          'address': {\n",
        "              'street' : None,                          # String ( special character with escape \\ )\n",
        "              'number' : None,                                        # Integer\n",
        "              'city' : 'Delhi',                                   # String\n",
        "              'floor' : None,                                       # Null\n",
        "              'postalcode' : '700001',                              # String containing a number\n",
        "              },\n",
        "          'favouritefruits': ['apple','guava','mango']         # Array\n",
        "       }\n",
        "\n",
        "cDoc4 = {  'name' : 'Aditya' ,                                     # String\n",
        "          'age' : '47',                                             # Integer\n",
        "          'gender' : 'Male',                                        # String\n",
        "          'likes_code' : False,                                      # Boolean\n",
        "          'address': {\n",
        "              'street' : None,                          # String ( special character with escape \\ )\n",
        "              'number' : None,                                        # Integer\n",
        "              'city' : 'Lucknow',                                   # String\n",
        "              'floor' : None,                                       # Null\n",
        "              'postalcode' : '700001',                              # String containing a number\n",
        "              },\n",
        "          'favouritefruits': ['apple','guava','mango']         # Array\n",
        "       }"
      ],
      "execution_count": 25,
      "outputs": []
    },
    {
      "cell_type": "code",
      "metadata": {
        "id": "E1G_ekmD-0LJ"
      },
      "source": [
        "insert_result = kollection3.insert_many([cDoc3,cDoc4])"
      ],
      "execution_count": 26,
      "outputs": []
    },
    {
      "cell_type": "code",
      "metadata": {
        "id": "Iyzy_8Pr_U4V",
        "outputId": "477ec730-8043-44ac-81fa-16bb2f18fccf",
        "colab": {
          "base_uri": "https://localhost:8080/"
        }
      },
      "source": [
        "#c = db.AddressBook.find()\n",
        "c = kollection3.find()\n",
        "for crnt in c:\n",
        "    print(crnt)"
      ],
      "execution_count": 27,
      "outputs": [
        {
          "output_type": "stream",
          "name": "stdout",
          "text": [
            "{'_id': ObjectId('64c0b6515404fd72dbfb06ca'), 'name': 'Prithwis', 'age': '59', 'gender': 'Male', 'likes_code': True, 'address': {'street': 'Panditiya Road', 'number': 36, 'city': 'Kolkata', 'floor': None, 'postalcode': '700029'}, 'favouritefruits': ['apple', 'pineapple', 'orange']}\n",
            "{'_id': ObjectId('64c0b6515404fd72dbfb06cb'), 'name': 'Charanpreet', 'age': '57', 'gender': 'Male', 'likes_code': False, 'address': {'street': None, 'number': None, 'city': 'Kolkata', 'floor': None, 'postalcode': '700001'}, 'favouritefruits': ['apple', 'guava', 'mango']}\n",
            "{'_id': ObjectId('64c0b6515404fd72dbfb06cc'), 'name': 'Narendra', 'age': '67', 'gender': 'Male', 'likes_code': False, 'address': {'street': None, 'number': None, 'city': 'Delhi', 'floor': None, 'postalcode': '700001'}, 'favouritefruits': ['apple', 'guava', 'mango']}\n",
            "{'_id': ObjectId('64c0b6515404fd72dbfb06cd'), 'name': 'Aditya', 'age': '47', 'gender': 'Male', 'likes_code': False, 'address': {'street': None, 'number': None, 'city': 'Lucknow', 'floor': None, 'postalcode': '700001'}, 'favouritefruits': ['apple', 'guava', 'mango']}\n"
          ]
        }
      ]
    },
    {
      "cell_type": "markdown",
      "metadata": {
        "id": "GPRzmxx0n_P2"
      },
      "source": [
        "## Read"
      ]
    },
    {
      "cell_type": "code",
      "metadata": {
        "colab": {
          "base_uri": "https://localhost:8080/"
        },
        "id": "T36P4fbYoG4o",
        "outputId": "c4f23737-b494-472a-c358-7cf35e001515"
      },
      "source": [
        "list(kollection3.find())"
      ],
      "execution_count": 28,
      "outputs": [
        {
          "output_type": "execute_result",
          "data": {
            "text/plain": [
              "[{'_id': ObjectId('64c0b6515404fd72dbfb06ca'),\n",
              "  'name': 'Prithwis',\n",
              "  'age': '59',\n",
              "  'gender': 'Male',\n",
              "  'likes_code': True,\n",
              "  'address': {'street': 'Panditiya Road',\n",
              "   'number': 36,\n",
              "   'city': 'Kolkata',\n",
              "   'floor': None,\n",
              "   'postalcode': '700029'},\n",
              "  'favouritefruits': ['apple', 'pineapple', 'orange']},\n",
              " {'_id': ObjectId('64c0b6515404fd72dbfb06cb'),\n",
              "  'name': 'Charanpreet',\n",
              "  'age': '57',\n",
              "  'gender': 'Male',\n",
              "  'likes_code': False,\n",
              "  'address': {'street': None,\n",
              "   'number': None,\n",
              "   'city': 'Kolkata',\n",
              "   'floor': None,\n",
              "   'postalcode': '700001'},\n",
              "  'favouritefruits': ['apple', 'guava', 'mango']},\n",
              " {'_id': ObjectId('64c0b6515404fd72dbfb06cc'),\n",
              "  'name': 'Narendra',\n",
              "  'age': '67',\n",
              "  'gender': 'Male',\n",
              "  'likes_code': False,\n",
              "  'address': {'street': None,\n",
              "   'number': None,\n",
              "   'city': 'Delhi',\n",
              "   'floor': None,\n",
              "   'postalcode': '700001'},\n",
              "  'favouritefruits': ['apple', 'guava', 'mango']},\n",
              " {'_id': ObjectId('64c0b6515404fd72dbfb06cd'),\n",
              "  'name': 'Aditya',\n",
              "  'age': '47',\n",
              "  'gender': 'Male',\n",
              "  'likes_code': False,\n",
              "  'address': {'street': None,\n",
              "   'number': None,\n",
              "   'city': 'Lucknow',\n",
              "   'floor': None,\n",
              "   'postalcode': '700001'},\n",
              "  'favouritefruits': ['apple', 'guava', 'mango']}]"
            ]
          },
          "metadata": {},
          "execution_count": 28
        }
      ]
    },
    {
      "cell_type": "code",
      "metadata": {
        "colab": {
          "base_uri": "https://localhost:8080/"
        },
        "id": "h_Ud5w3PoR_J",
        "outputId": "c858a49f-5128-42a0-af68-fdaecf798adb"
      },
      "source": [
        "#list ( collection.find( {'name' : 'Charanpreet' } ))\n",
        "list ( kollection3.find( {'name' : 'Prithwis' } ))"
      ],
      "execution_count": 29,
      "outputs": [
        {
          "output_type": "execute_result",
          "data": {
            "text/plain": [
              "[{'_id': ObjectId('64c0b6515404fd72dbfb06ca'),\n",
              "  'name': 'Prithwis',\n",
              "  'age': '59',\n",
              "  'gender': 'Male',\n",
              "  'likes_code': True,\n",
              "  'address': {'street': 'Panditiya Road',\n",
              "   'number': 36,\n",
              "   'city': 'Kolkata',\n",
              "   'floor': None,\n",
              "   'postalcode': '700029'},\n",
              "  'favouritefruits': ['apple', 'pineapple', 'orange']}]"
            ]
          },
          "metadata": {},
          "execution_count": 29
        }
      ]
    },
    {
      "cell_type": "code",
      "metadata": {
        "colab": {
          "base_uri": "https://localhost:8080/"
        },
        "id": "y_id749PomLI",
        "outputId": "103ed833-e7dc-4ca9-e52b-e28d31f4a224"
      },
      "source": [
        "list ( kollection3.find( {'address.postalcode' : '700029' } ))             # find, can use one key or more"
      ],
      "execution_count": 30,
      "outputs": [
        {
          "output_type": "execute_result",
          "data": {
            "text/plain": [
              "[{'_id': ObjectId('64c0b6515404fd72dbfb06ca'),\n",
              "  'name': 'Prithwis',\n",
              "  'age': '59',\n",
              "  'gender': 'Male',\n",
              "  'likes_code': True,\n",
              "  'address': {'street': 'Panditiya Road',\n",
              "   'number': 36,\n",
              "   'city': 'Kolkata',\n",
              "   'floor': None,\n",
              "   'postalcode': '700029'},\n",
              "  'favouritefruits': ['apple', 'pineapple', 'orange']}]"
            ]
          },
          "metadata": {},
          "execution_count": 30
        }
      ]
    },
    {
      "cell_type": "markdown",
      "metadata": {
        "id": "IBXAOYdrq0VY"
      },
      "source": [
        "## Update"
      ]
    },
    {
      "cell_type": "code",
      "metadata": {
        "colab": {
          "base_uri": "https://localhost:8080/"
        },
        "id": "wPzOXNXrq2Zh",
        "outputId": "5d15ac3b-2322-4cb4-aaf4-8fd29297cdf2"
      },
      "source": [
        "## Update an existing document\n",
        "update_result = kollection3.update_one(\n",
        "    {'name' : 'Prithwis'},\n",
        "    {'$set' : { 'age' : 101 }} )\n",
        "\n",
        "list (kollection3.find( {'name' : 'Prithwis' } ))\n",
        "\n",
        "# Alternative : collection.find_one_and_update( {'name' : Name}, {'$set' : { 'age' : 30 }} )"
      ],
      "execution_count": 31,
      "outputs": [
        {
          "output_type": "execute_result",
          "data": {
            "text/plain": [
              "[{'_id': ObjectId('64c0b6515404fd72dbfb06ca'),\n",
              "  'name': 'Prithwis',\n",
              "  'age': 101,\n",
              "  'gender': 'Male',\n",
              "  'likes_code': True,\n",
              "  'address': {'street': 'Panditiya Road',\n",
              "   'number': 36,\n",
              "   'city': 'Kolkata',\n",
              "   'floor': None,\n",
              "   'postalcode': '700029'},\n",
              "  'favouritefruits': ['apple', 'pineapple', 'orange']}]"
            ]
          },
          "metadata": {},
          "execution_count": 31
        }
      ]
    },
    {
      "cell_type": "code",
      "metadata": {
        "colab": {
          "base_uri": "https://localhost:8080/"
        },
        "id": "-Ne8eOS2rW-Y",
        "outputId": "ebb7e381-0cb4-4607-87e5-ccc906914525"
      },
      "source": [
        "## Update an existing document\n",
        "update_result = kollection3.update_one(\n",
        "    {'name' : 'Prithwis'},\n",
        "    {'$set' : { 'name' : 'Prithwis Mukerjee' }} )\n",
        "\n",
        "list (kollection3.find( {'name' : 'Prithwis Mukerjee' } ))"
      ],
      "execution_count": 32,
      "outputs": [
        {
          "output_type": "execute_result",
          "data": {
            "text/plain": [
              "[{'_id': ObjectId('64c0b6515404fd72dbfb06ca'),\n",
              "  'name': 'Prithwis Mukerjee',\n",
              "  'age': 101,\n",
              "  'gender': 'Male',\n",
              "  'likes_code': True,\n",
              "  'address': {'street': 'Panditiya Road',\n",
              "   'number': 36,\n",
              "   'city': 'Kolkata',\n",
              "   'floor': None,\n",
              "   'postalcode': '700029'},\n",
              "  'favouritefruits': ['apple', 'pineapple', 'orange']}]"
            ]
          },
          "metadata": {},
          "execution_count": 32
        }
      ]
    },
    {
      "cell_type": "markdown",
      "metadata": {
        "id": "sAd5JaUOZOq1"
      },
      "source": [
        "## Additional stuff\n",
        "https://www.analyticsvidhya.com/blog/2020/02/mongodb-in-python-tutorial-for-beginners-using-pymongo/"
      ]
    },
    {
      "cell_type": "code",
      "source": [
        "print('Executed on ',datetime.now(pytz.timezone('Asia/Calcutta')))"
      ],
      "metadata": {
        "id": "nyb7SE_wyLfZ",
        "outputId": "2d37e79c-2e69-4596-86ae-0ea8ac20b7e8",
        "colab": {
          "base_uri": "https://localhost:8080/"
        }
      },
      "execution_count": 33,
      "outputs": [
        {
          "output_type": "stream",
          "name": "stdout",
          "text": [
            "Executed on  2023-07-26 11:30:31.662668+05:30\n"
          ]
        }
      ]
    },
    {
      "cell_type": "markdown",
      "metadata": {
        "id": "izDtEXYmYBwF"
      },
      "source": [
        "#Chronobooks <br>\n",
        "Two science fiction novels by Prithwis Mukerjee. A dystopian Earth. A technocratic society managed by artificial intelligence. Escape and epiphany on Mars. Can man and machine, carbon and silicon explore and escape into other dimensions of existence? An Indic perspective rooted in Advaita Vedanta and the Divine Feminine.  [More information](http://bit.ly/chronobooks) <br>\n",
        "![alt text](https://github.com/Praxis-QR/RDWH/raw/main/images/CTCYFooter-1.png)"
      ]
    }
  ]
}